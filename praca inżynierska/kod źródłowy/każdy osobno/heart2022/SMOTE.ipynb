{
 "cells": [
  {
   "cell_type": "code",
   "execution_count": 1,
   "metadata": {},
   "outputs": [
    {
     "name": "stdout",
     "output_type": "stream",
     "text": [
      "WARNING:tensorflow:From C:\\Users\\DELL\\AppData\\Roaming\\Python\\Python311\\site-packages\\keras\\src\\losses.py:2976: The name tf.losses.sparse_softmax_cross_entropy is deprecated. Please use tf.compat.v1.losses.sparse_softmax_cross_entropy instead.\n",
      "\n"
     ]
    }
   ],
   "source": [
    "import pandas as pd\n",
    "import numpy as np\n",
    "import matplotlib.pyplot as plt\n",
    "import plotly.express as px\n",
    "from sklearn.preprocessing import LabelEncoder\n",
    "from sklearn.preprocessing import RobustScaler , MinMaxScaler, StandardScaler\n",
    "import seaborn as sns\n",
    "from sklearn.metrics import roc_curve\n",
    "from sklearn.metrics import roc_auc_score\n",
    "import tensorflow as tf\n",
    "from keras.preprocessing.image import ImageDataGenerator\n",
    "from tensorflow.keras.layers import Dropout\n",
    "from tensorflow.keras.models import Sequential\n",
    "from tensorflow.keras.layers import Dense, Activation\n",
    "from tensorflow.keras.callbacks import EarlyStopping\n",
    "from tensorflow.keras.layers import Input,Flatten,Conv1D,MaxPooling1D\n",
    "from sklearn.metrics import classification_report\n",
    "import warnings\n",
    "warnings.filterwarnings('ignore')\n",
    "import missingno as msno\n",
    "from sklearn.model_selection import train_test_split\n",
    "from sklearn.metrics import accuracy_score\n",
    "from sklearn.metrics import mean_absolute_error , mean_absolute_percentage_error , mean_squared_error\n",
    "from sklearn.metrics import r2_score\n",
    "from sklearn.metrics import confusion_matrix\n",
    "from sklearn.model_selection import cross_val_score\n",
    "from sklearn.metrics import RocCurveDisplay\n",
    "from sklearn.model_selection import RepeatedStratifiedKFold\n",
    "from sklearn.metrics import accuracy_score, precision_score, recall_score, f1_score\n",
    "from sklearn.model_selection import GridSearchCV\n",
    "from sklearn.tree import DecisionTreeClassifier\n",
    "from sklearn.ensemble import RandomForestClassifier\n",
    "from sklearn.naive_bayes import GaussianNB\n",
    "from xgboost import XGBClassifier\n",
    "from sklearn.linear_model import LogisticRegression\n",
    "from sklearn.svm import SVC\n",
    "from sklearn.decomposition import PCA\n",
    "from sklearn.ensemble import GradientBoostingClassifier\n",
    "from sklearn.neighbors import KNeighborsClassifier\n",
    "from keras.layers import LSTM\n",
    "from imblearn.over_sampling import SMOTE\n",
    "from sklearn.preprocessing import MinMaxScaler\n"
   ]
  },
  {
   "cell_type": "markdown",
   "metadata": {},
   "source": [
    "## With SMOTE (Synthetic Minority Oversampling Technique) with Evaluation"
   ]
  },
  {
   "cell_type": "code",
   "execution_count": 2,
   "metadata": {},
   "outputs": [
    {
     "data": {
      "text/html": [
       "<div>\n",
       "<style scoped>\n",
       "    .dataframe tbody tr th:only-of-type {\n",
       "        vertical-align: middle;\n",
       "    }\n",
       "\n",
       "    .dataframe tbody tr th {\n",
       "        vertical-align: top;\n",
       "    }\n",
       "\n",
       "    .dataframe thead th {\n",
       "        text-align: right;\n",
       "    }\n",
       "</style>\n",
       "<table border=\"1\" class=\"dataframe\">\n",
       "  <thead>\n",
       "    <tr style=\"text-align: right;\">\n",
       "      <th></th>\n",
       "      <th>Sex</th>\n",
       "      <th>GeneralHealth</th>\n",
       "      <th>PhysicalHealthDays</th>\n",
       "      <th>MentalHealthDays</th>\n",
       "      <th>PhysicalActivities</th>\n",
       "      <th>SleepHours</th>\n",
       "      <th>HadHeartAttack</th>\n",
       "      <th>HadAngina</th>\n",
       "      <th>HadStroke</th>\n",
       "      <th>HadAsthma</th>\n",
       "      <th>...</th>\n",
       "      <th>AgeCategory</th>\n",
       "      <th>HeightInMeters</th>\n",
       "      <th>WeightInKilograms</th>\n",
       "      <th>BMI</th>\n",
       "      <th>AlcoholDrinkers</th>\n",
       "      <th>HIVTesting</th>\n",
       "      <th>FluVaxLast12</th>\n",
       "      <th>PneumoVaxEver</th>\n",
       "      <th>HighRiskLastYear</th>\n",
       "      <th>CovidPos</th>\n",
       "    </tr>\n",
       "  </thead>\n",
       "  <tbody>\n",
       "    <tr>\n",
       "      <th>0</th>\n",
       "      <td>0</td>\n",
       "      <td>2</td>\n",
       "      <td>4</td>\n",
       "      <td>0</td>\n",
       "      <td>1</td>\n",
       "      <td>9</td>\n",
       "      <td>0</td>\n",
       "      <td>0</td>\n",
       "      <td>0</td>\n",
       "      <td>0</td>\n",
       "      <td>...</td>\n",
       "      <td>10</td>\n",
       "      <td>1.60</td>\n",
       "      <td>71.67</td>\n",
       "      <td>27.99</td>\n",
       "      <td>0</td>\n",
       "      <td>0</td>\n",
       "      <td>1</td>\n",
       "      <td>1</td>\n",
       "      <td>0</td>\n",
       "      <td>0</td>\n",
       "    </tr>\n",
       "    <tr>\n",
       "      <th>1</th>\n",
       "      <td>1</td>\n",
       "      <td>2</td>\n",
       "      <td>0</td>\n",
       "      <td>0</td>\n",
       "      <td>1</td>\n",
       "      <td>6</td>\n",
       "      <td>0</td>\n",
       "      <td>0</td>\n",
       "      <td>0</td>\n",
       "      <td>0</td>\n",
       "      <td>...</td>\n",
       "      <td>11</td>\n",
       "      <td>1.78</td>\n",
       "      <td>95.25</td>\n",
       "      <td>30.13</td>\n",
       "      <td>0</td>\n",
       "      <td>0</td>\n",
       "      <td>1</td>\n",
       "      <td>1</td>\n",
       "      <td>0</td>\n",
       "      <td>0</td>\n",
       "    </tr>\n",
       "    <tr>\n",
       "      <th>2</th>\n",
       "      <td>1</td>\n",
       "      <td>2</td>\n",
       "      <td>0</td>\n",
       "      <td>0</td>\n",
       "      <td>0</td>\n",
       "      <td>8</td>\n",
       "      <td>0</td>\n",
       "      <td>0</td>\n",
       "      <td>0</td>\n",
       "      <td>0</td>\n",
       "      <td>...</td>\n",
       "      <td>12</td>\n",
       "      <td>1.85</td>\n",
       "      <td>108.86</td>\n",
       "      <td>31.66</td>\n",
       "      <td>1</td>\n",
       "      <td>0</td>\n",
       "      <td>0</td>\n",
       "      <td>1</td>\n",
       "      <td>0</td>\n",
       "      <td>1</td>\n",
       "    </tr>\n",
       "    <tr>\n",
       "      <th>3</th>\n",
       "      <td>0</td>\n",
       "      <td>4</td>\n",
       "      <td>5</td>\n",
       "      <td>0</td>\n",
       "      <td>1</td>\n",
       "      <td>9</td>\n",
       "      <td>0</td>\n",
       "      <td>0</td>\n",
       "      <td>0</td>\n",
       "      <td>0</td>\n",
       "      <td>...</td>\n",
       "      <td>13</td>\n",
       "      <td>1.70</td>\n",
       "      <td>90.72</td>\n",
       "      <td>31.32</td>\n",
       "      <td>0</td>\n",
       "      <td>0</td>\n",
       "      <td>1</td>\n",
       "      <td>1</td>\n",
       "      <td>0</td>\n",
       "      <td>1</td>\n",
       "    </tr>\n",
       "    <tr>\n",
       "      <th>4</th>\n",
       "      <td>0</td>\n",
       "      <td>3</td>\n",
       "      <td>3</td>\n",
       "      <td>15</td>\n",
       "      <td>1</td>\n",
       "      <td>5</td>\n",
       "      <td>0</td>\n",
       "      <td>0</td>\n",
       "      <td>0</td>\n",
       "      <td>0</td>\n",
       "      <td>...</td>\n",
       "      <td>13</td>\n",
       "      <td>1.55</td>\n",
       "      <td>79.38</td>\n",
       "      <td>33.07</td>\n",
       "      <td>0</td>\n",
       "      <td>0</td>\n",
       "      <td>1</td>\n",
       "      <td>1</td>\n",
       "      <td>0</td>\n",
       "      <td>0</td>\n",
       "    </tr>\n",
       "  </tbody>\n",
       "</table>\n",
       "<p>5 rows × 36 columns</p>\n",
       "</div>"
      ],
      "text/plain": [
       "   Sex  GeneralHealth  PhysicalHealthDays  MentalHealthDays  \\\n",
       "0    0              2                   4                 0   \n",
       "1    1              2                   0                 0   \n",
       "2    1              2                   0                 0   \n",
       "3    0              4                   5                 0   \n",
       "4    0              3                   3                15   \n",
       "\n",
       "   PhysicalActivities  SleepHours  HadHeartAttack  HadAngina  HadStroke  \\\n",
       "0                   1           9               0          0          0   \n",
       "1                   1           6               0          0          0   \n",
       "2                   0           8               0          0          0   \n",
       "3                   1           9               0          0          0   \n",
       "4                   1           5               0          0          0   \n",
       "\n",
       "   HadAsthma  ...  AgeCategory  HeightInMeters  WeightInKilograms    BMI  \\\n",
       "0          0  ...           10            1.60              71.67  27.99   \n",
       "1          0  ...           11            1.78              95.25  30.13   \n",
       "2          0  ...           12            1.85             108.86  31.66   \n",
       "3          0  ...           13            1.70              90.72  31.32   \n",
       "4          0  ...           13            1.55              79.38  33.07   \n",
       "\n",
       "   AlcoholDrinkers  HIVTesting  FluVaxLast12  PneumoVaxEver  HighRiskLastYear  \\\n",
       "0                0           0             1              1                 0   \n",
       "1                0           0             1              1                 0   \n",
       "2                1           0             0              1                 0   \n",
       "3                0           0             1              1                 0   \n",
       "4                0           0             1              1                 0   \n",
       "\n",
       "   CovidPos  \n",
       "0         0  \n",
       "1         0  \n",
       "2         1  \n",
       "3         1  \n",
       "4         0  \n",
       "\n",
       "[5 rows x 36 columns]"
      ]
     },
     "execution_count": 2,
     "metadata": {},
     "output_type": "execute_result"
    }
   ],
   "source": [
    "df= pd.read_csv('heart2022python.csv')\n",
    "df.head()"
   ]
  },
  {
   "cell_type": "markdown",
   "metadata": {},
   "source": [
    "## splite data"
   ]
  },
  {
   "cell_type": "code",
   "execution_count": 3,
   "metadata": {},
   "outputs": [
    {
     "data": {
      "text/plain": [
       "HadHeartAttack\n",
       "0    232587\n",
       "1     13435\n",
       "Name: count, dtype: int64"
      ]
     },
     "execution_count": 3,
     "metadata": {},
     "output_type": "execute_result"
    }
   ],
   "source": [
    "\n",
    "\n",
    "df.drop(['SleepHours',\"DeafOrHardOfHearing\",'BlindOrVisionDifficulty',\"DifficultyConcentrating\",\"DifficultyWalking\",'DifficultyDressingBathing',\"DifficultyErrands\",\"ECigaretteUsage\",\"ChestScan\",'HeightInMeters',\"WeightInKilograms\",\"HIVTesting\",'FluVaxLast12',\"PneumoVaxEver\",\"HighRiskLastYear\",\"CovidPos\"],axis=1,inplace=True)\n",
    "\n",
    "\n",
    "\n",
    "df.shape\n",
    "df['HadHeartAttack'].value_counts()\n"
   ]
  },
  {
   "cell_type": "code",
   "execution_count": 4,
   "metadata": {},
   "outputs": [],
   "source": [
    "x = df.drop([\"HadHeartAttack\"] , axis = 1).values\n",
    "y = df[\"HadHeartAttack\"].values"
   ]
  },
  {
   "cell_type": "code",
   "execution_count": 5,
   "metadata": {},
   "outputs": [],
   "source": [
    "df.duplicated().sum()\n",
    "df.drop_duplicates(inplace=True)"
   ]
  },
  {
   "cell_type": "code",
   "execution_count": 6,
   "metadata": {},
   "outputs": [],
   "source": [
    "sm = SMOTE(random_state = 42)\n",
    "x_smote, y_smote= sm.fit_resample(x, y)\n",
    "x_train2, x_test2, y_train2, y_test2 = train_test_split(x_smote, y_smote, test_size=0.25, random_state=42)\n"
   ]
  },
  {
   "cell_type": "code",
   "execution_count": 7,
   "metadata": {},
   "outputs": [],
   "source": [
    "from sklearn.preprocessing import MinMaxScaler\n",
    "scaler = MinMaxScaler()\n",
    "x_train2 = scaler.fit_transform(x_train2)\n",
    "x_test2 = scaler.transform(x_test2)"
   ]
  },
  {
   "cell_type": "markdown",
   "metadata": {},
   "source": [
    "## Random forest"
   ]
  },
  {
   "cell_type": "code",
   "execution_count": 8,
   "metadata": {},
   "outputs": [
    {
     "name": "stdout",
     "output_type": "stream",
     "text": [
      "Training Results\n",
      "\n",
      "              precision    recall  f1-score   support\n",
      "\n",
      "           0       0.97      1.00      0.98    174285\n",
      "           1       0.99      0.97      0.98    174595\n",
      "\n",
      "    accuracy                           0.98    348880\n",
      "   macro avg       0.98      0.98      0.98    348880\n",
      "weighted avg       0.98      0.98      0.98    348880\n",
      "\n",
      "Test Results\n",
      "\n",
      "              precision    recall  f1-score   support\n",
      "\n",
      "           0       0.96      0.98      0.97     58302\n",
      "           1       0.98      0.96      0.97     57992\n",
      "\n",
      "    accuracy                           0.97    116294\n",
      "   macro avg       0.97      0.97      0.97    116294\n",
      "weighted avg       0.97      0.97      0.97    116294\n",
      "\n",
      "Confusion Matrix:\n",
      " [[57217  1085]\n",
      " [ 2406 55586]]\n"
     ]
    }
   ],
   "source": [
    "\n",
    "\n",
    "# # Inicjalizacja modelu z domyślnymi parametrami\n",
    "# rf = RandomForestClassifier()\n",
    "\n",
    "# # Określenie siatki parametrów do przetestowania\n",
    "# param_grid = {\n",
    "#     'n_estimators': [100, 200, 300],  # Liczba drzew\n",
    "#     'max_depth': [10, 20, 30],        # Maksymalna głębokość drzewa\n",
    "#     'min_samples_split': [2, 4, 6],   # Minimalna liczba próbek wymagana do podziału węzła\n",
    "#     'min_samples_leaf': [1, 2, 4],    # Minimalna liczba próbek wymagana w liściu\n",
    "#     'max_features': ['auto', 'sqrt']  # Liczba cech do rozważenia przy każdym podziale\n",
    "# }\n",
    "\n",
    "# # Utworzenie obiektu GridSearchCV\n",
    "# cv_rf = GridSearchCV(estimator=rf, param_grid=param_grid, cv=5, scoring='accuracy')\n",
    "\n",
    "# # Przeszukiwanie siatki parametrów\n",
    "# cv_rf.fit(x_train2, y_train2)\n",
    "\n",
    "# # Najlepszy zestaw parametrów\n",
    "# print(\"Najlepsze parametry: \", cv_rf.best_params_)\n",
    "\n",
    "# # Najlepszy estimator\n",
    "# best_rf = cv_rf.best_estimator_\n",
    "params = {\n",
    "    'n_estimators': 300,  \n",
    "    'max_depth': 30,       \n",
    "    'min_samples_split': 6,   \n",
    "    'min_samples_leaf': 1,    \n",
    "    'max_features': 'sqrt'\n",
    "}\n",
    "\n",
    "gb_clf = RandomForestClassifier(\n",
    "    n_estimators=params['n_estimators'],\n",
    "    max_depth=params['max_depth'],\n",
    "    min_samples_split=params['min_samples_split'],\n",
    "    min_samples_leaf=params['min_samples_leaf'],\n",
    "    max_features=params['max_features']\n",
    ")\n",
    "gb_clf.fit(x_train2, y_train2)\n",
    "\n",
    "# Predykcje i ocena modelu\n",
    "ypred_train1 = gb_clf.predict(x_train2)\n",
    "ypred_test1 = gb_clf.predict(x_test2)\n",
    "\n",
    "print(\"Training Results\\n\")\n",
    "print(classification_report(y_train2, ypred_train1))\n",
    "print(\"Test Results\\n\")\n",
    "print(classification_report(y_test2, ypred_test1))\n",
    "\n",
    "# Macierz pomyłek\n",
    "conf_matrix = confusion_matrix(y_test2, ypred_test1)\n",
    "print(\"Confusion Matrix:\\n\", conf_matrix)\n",
    "\n",
    "# # Ocena modelu za pomocą walidacji krzyżowej\n",
    "# cross_val_scores = cross_val_score(gb_clf, x_train2, y_train2, cv=5)\n",
    "# print(\"Cross-validation scores:\", cross_val_scores)\n",
    "# print(\"Average cross-validation score:\", np.mean(cross_val_scores))"
   ]
  },
  {
   "cell_type": "code",
   "execution_count": 9,
   "metadata": {},
   "outputs": [
    {
     "data": {
      "image/png": "[encoded data removed]",
      "text/plain": [
       "<Figure size 640x480 with 1 Axes>"
      ]
     },
     "metadata": {},
     "output_type": "display_data"
    }
   ],
   "source": [
    "\n",
    "y_proba_test = gb_clf.predict_proba(x_test2)[:, 1]\n",
    "\n",
    "fpr, tpr, thresholds = roc_curve(y_test2, y_proba_test)\n",
    "\n",
    "plt.plot(fpr, tpr, label='ROC Curve')\n",
    "plt.xlabel('False Positive Rate')\n",
    "plt.ylabel('True Positive Rate')\n",
    "plt.title('ROC Curve with AUC = {:.2f}'.format(roc_auc_score(y_test2, y_proba_test)))\n",
    "plt.legend(loc='lower right')\n",
    "plt.grid(True)\n",
    "plt.show()"
   ]
  },
  {
   "cell_type": "markdown",
   "metadata": {},
   "source": [
    "## DECISION TREE CLASSIFIER"
   ]
  },
  {
   "cell_type": "code",
   "execution_count": 10,
   "metadata": {},
   "outputs": [
    {
     "name": "stdout",
     "output_type": "stream",
     "text": [
      "Training Results\n",
      "\n",
      "              precision    recall  f1-score   support\n",
      "\n",
      "           0       0.98      1.00      0.99    174285\n",
      "           1       1.00      0.98      0.99    174595\n",
      "\n",
      "    accuracy                           0.99    348880\n",
      "   macro avg       0.99      0.99      0.99    348880\n",
      "weighted avg       0.99      0.99      0.99    348880\n",
      "\n",
      "Testing Results\n",
      "\n",
      "              precision    recall  f1-score   support\n",
      "\n",
      "           0       0.95      0.97      0.96     58302\n",
      "           1       0.97      0.95      0.96     57992\n",
      "\n",
      "    accuracy                           0.96    116294\n",
      "   macro avg       0.96      0.96      0.96    116294\n",
      "weighted avg       0.96      0.96      0.96    116294\n",
      "\n"
     ]
    }
   ],
   "source": [
    "\n",
    "\n",
    "# # Parametry do przetestowania w Grid Search\n",
    "# param_grid = {\n",
    "#     'max_depth': [3, 5, 10, None],\n",
    "#     'min_samples_split': [2, 5, 10],\n",
    "#     'min_samples_leaf': [1, 2, 5],\n",
    "#     'criterion': ['gini', 'entropy']\n",
    "# }\n",
    "\n",
    "# # Utworzenie modelu drzewa decyzyjnego\n",
    "# tree = DecisionTreeClassifier()\n",
    "\n",
    "# # Uruchomienie Grid Search z walidacją krzyżową\n",
    "# grid_search = GridSearchCV(tree, param_grid, cv=5, scoring='accuracy')\n",
    "# grid_search.fit(x_train2, y_train2)\n",
    "\n",
    "# # Wyświetlenie najlepszych parametrów i wyników\n",
    "# print(\"Najlepsze parametry:\", grid_search.best_params_)\n",
    "# print(\"Najlepsza dokładność:\", grid_search.best_score_)\n",
    "\n",
    "# # Utworzenie i ocena modelu z najlepszymi parametrami\n",
    "# best_tree = grid_search.best_estimator_\n",
    "# best_tree.fit(x_train2, y_train2)\n",
    "\n",
    "params = {\n",
    "    'max_depth': None,\n",
    "    'min_samples_split': 2,\n",
    "    'min_samples_leaf': 2,\n",
    "    'criterion': 'entropy'\n",
    "}\n",
    "\n",
    "best_tree = DecisionTreeClassifier(\n",
    "    max_depth=params['max_depth'],\n",
    "    min_samples_split=params['min_samples_split'],\n",
    "    min_samples_leaf=params['min_samples_leaf'],\n",
    "    criterion=params['criterion']\n",
    ")\n",
    "best_tree.fit(x_train2, y_train2)\n",
    "\n",
    "ypred_train2 = best_tree.predict(x_train2)\n",
    "ypred_test2 = best_tree.predict(x_test2)\n",
    "\n",
    "# Ocena modelu na zbiorze testowym\n",
    "\n",
    "print(\"Training Results\\n\")\n",
    "print(classification_report(y_train2, ypred_train2))\n",
    "print('Testing Results\\n')\n",
    "print(classification_report(y_test2, ypred_test2))\n",
    "\n",
    "# Dodatkowo: Walidacja krzyżowa dla najlepszego modelu na całym zbiorze danych\n",
    "# cross_val_scores = cross_val_score(best_tree, x_train2, y_train2, cv=5)\n",
    "# print(\"Cross-Validation Scores for the Best Model:\", cross_val_scores)\n",
    "# print(\"Average Cross-Validation Score:\", cross_val_scores.mean())"
   ]
  },
  {
   "cell_type": "code",
   "execution_count": 11,
   "metadata": {},
   "outputs": [
    {
     "data": {
      "image/png": "[encoded data removed]",
      "text/plain": [
       "<Figure size 640x480 with 1 Axes>"
      ]
     },
     "metadata": {},
     "output_type": "display_data"
    }
   ],
   "source": [
    "\n",
    "\n",
    "y_proba_test = best_tree.predict_proba(x_test2)[:, 1]\n",
    "\n",
    "fpr, tpr, thresholds = roc_curve(y_test2, y_proba_test)\n",
    "\n",
    "plt.plot(fpr, tpr, label='ROC Curve')\n",
    "plt.xlabel('False Positive Rate')\n",
    "plt.ylabel('True Positive Rate')\n",
    "plt.title('ROC Curve with AUC = {:.2f}'.format(roc_auc_score(y_test2, y_proba_test)))\n",
    "plt.legend(loc='lower right')\n",
    "plt.grid(True)\n",
    "plt.show()"
   ]
  },
  {
   "cell_type": "markdown",
   "metadata": {},
   "source": [
    "## Naive Bayes"
   ]
  },
  {
   "cell_type": "code",
   "execution_count": 12,
   "metadata": {},
   "outputs": [
    {
     "name": "stdout",
     "output_type": "stream",
     "text": [
      "Naive Bayes Classifier Accuracy:  0.7789395841573942\n"
     ]
    }
   ],
   "source": [
    "Gnb = GaussianNB()\n",
    "Gnb.fit(x_train2, y_train2)\n",
    "ypred_train3 = Gnb.predict(x_train2)\n",
    "y_pred_test3 = Gnb.predict(x_test2)\n",
    "\n",
    "print(\"Naive Bayes Classifier Accuracy: \",accuracy_score(y_test2, y_pred_test3))"
   ]
  },
  {
   "cell_type": "code",
   "execution_count": 13,
   "metadata": {},
   "outputs": [
    {
     "name": "stdout",
     "output_type": "stream",
     "text": [
      "Training Results\n",
      "\n",
      "              precision    recall  f1-score   support\n",
      "\n",
      "           0       0.75      0.83      0.79    174285\n",
      "           1       0.81      0.73      0.77    174595\n",
      "\n",
      "    accuracy                           0.78    348880\n",
      "   macro avg       0.78      0.78      0.78    348880\n",
      "weighted avg       0.78      0.78      0.78    348880\n",
      "\n"
     ]
    }
   ],
   "source": [
    "print(\"Training Results\\n\")\n",
    "print(classification_report(y_train2, ypred_train3))"
   ]
  },
  {
   "cell_type": "code",
   "execution_count": 14,
   "metadata": {},
   "outputs": [
    {
     "name": "stdout",
     "output_type": "stream",
     "text": [
      "Testing Results\n",
      "\n",
      "              precision    recall  f1-score   support\n",
      "\n",
      "           0       0.76      0.83      0.79     58302\n",
      "           1       0.81      0.73      0.77     57992\n",
      "\n",
      "    accuracy                           0.78    116294\n",
      "   macro avg       0.78      0.78      0.78    116294\n",
      "weighted avg       0.78      0.78      0.78    116294\n",
      "\n"
     ]
    }
   ],
   "source": [
    "print('Testing Results\\n')\n",
    "print(classification_report(y_test2, y_pred_test3))"
   ]
  },
  {
   "cell_type": "code",
   "execution_count": 15,
   "metadata": {},
   "outputs": [
    {
     "data": {
      "image/png": "[encoded data removed]",
      "text/plain": [
       "<Figure size 640x480 with 1 Axes>"
      ]
     },
     "metadata": {},
     "output_type": "display_data"
    }
   ],
   "source": [
    "# cross_val_scores = cross_val_score(Gnb, x_train2, y_train2, cv=5)\n",
    "# print(\"Cross-Validation Scores for the Best Model:\", cross_val_scores)\n",
    "# print(\"Average Cross-Validation Score:\", cross_val_scores.mean())\n",
    "y_proba_test = Gnb.predict_proba(x_test2)[:, 1]\n",
    "\n",
    "fpr, tpr, thresholds = roc_curve(y_test2, y_proba_test)\n",
    "\n",
    "plt.plot(fpr, tpr, label='ROC Curve')\n",
    "plt.xlabel('False Positive Rate')\n",
    "plt.ylabel('True Positive Rate')\n",
    "plt.title('ROC Curve with AUC = {:.2f}'.format(roc_auc_score(y_test2, y_proba_test)))\n",
    "plt.legend(loc='lower right')\n",
    "plt.grid(True)\n",
    "plt.show()"
   ]
  },
  {
   "cell_type": "markdown",
   "metadata": {},
   "source": [
    "## XGBOSST"
   ]
  },
  {
   "cell_type": "code",
   "execution_count": 16,
   "metadata": {},
   "outputs": [
    {
     "name": "stdout",
     "output_type": "stream",
     "text": [
      "Accuracy on Training set:  0.9708897041962853\n",
      "Accuracy on Test set:  0.9654582351626051\n",
      "\n",
      "Training Results\n",
      "\n",
      "              precision    recall  f1-score   support\n",
      "\n",
      "           0       0.95      0.99      0.97    174285\n",
      "           1       0.99      0.95      0.97    174595\n",
      "\n",
      "    accuracy                           0.97    348880\n",
      "   macro avg       0.97      0.97      0.97    348880\n",
      "weighted avg       0.97      0.97      0.97    348880\n",
      "\n",
      "Testing Results\n",
      "\n",
      "              precision    recall  f1-score   support\n",
      "\n",
      "           0       0.95      0.98      0.97     58302\n",
      "           1       0.98      0.95      0.96     57992\n",
      "\n",
      "    accuracy                           0.97    116294\n",
      "   macro avg       0.97      0.97      0.97    116294\n",
      "weighted avg       0.97      0.97      0.97    116294\n",
      "\n"
     ]
    },
    {
     "data": {
      "image/png": "[encoded data removed]",
      "text/plain": [
       "<Figure size 640x480 with 1 Axes>"
      ]
     },
     "metadata": {},
     "output_type": "display_data"
    }
   ],
   "source": [
    "\n",
    "\n",
    "# # Inicjalizacja modelu XGBoost\n",
    "# xg = XGBClassifier()\n",
    "\n",
    "# # Definiowanie siatki hiperparametrów do przetestowania\n",
    "# param_grid = {\n",
    "#     'n_estimators': [50, 100, 200],\n",
    "#     'max_depth': [3, 5, 7],\n",
    "#     'learning_rate': [0.01, 0.1, 0.2],\n",
    "#     'subsample': [0.7, 0.8, 0.9],\n",
    "#     'colsample_bytree': [0.7, 0.8, 0.9]\n",
    "# }\n",
    "\n",
    "# # Utworzenie obiektu GridSearchCV\n",
    "# grid_search = GridSearchCV(estimator=xg, param_grid=param_grid, cv=3, scoring='accuracy')\n",
    "\n",
    "# # Przeszukiwanie siatki parametrów\n",
    "# grid_search.fit(x_train2, y_train2)\n",
    "\n",
    "# # Najlepsze parametry i najlepszy model\n",
    "# print(\"Najlepsze parametry: \", grid_search.best_params_)\n",
    "# best_xg = grid_search.best_estimator_\n",
    "\n",
    "params = {\n",
    "    'n_estimators': 200,\n",
    "    'max_depth': 7,\n",
    "    'learning_rate': 0.2,\n",
    "    'subsample': 0.9,\n",
    "    'colsample_bytree': 0.9\n",
    "}\n",
    "\n",
    "best_xg = XGBClassifier(\n",
    "    n_estimators=params['n_estimators'],\n",
    "    max_depth=params['max_depth'],\n",
    "    learning_rate=params['learning_rate'],\n",
    "    subsample=params['subsample'],\n",
    "    colsample_bytree=params['colsample_bytree']\n",
    ")\n",
    "best_xg.fit(x_train2, y_train2)\n",
    "\n",
    "# Predykcje na zbiorze treningowym i testowym\n",
    "ypred_train4 = best_xg.predict(x_train2)\n",
    "y_pred_test4 = best_xg.predict(x_test2)\n",
    "\n",
    "# Ocena modelu\n",
    "print(\"Accuracy on Training set: \", accuracy_score(y_train2, ypred_train4))\n",
    "print(\"Accuracy on Test set: \", accuracy_score(y_test2, y_pred_test4))\n",
    "print(\"\\nTraining Results\\n\")\n",
    "print(classification_report(y_train2, ypred_train4))\n",
    "print('Testing Results\\n')\n",
    "print(classification_report(y_test2, y_pred_test4))\n",
    "\n",
    "# cross_val_scores = cross_val_score(best_xg, x_train2, y_train2, cv=5)\n",
    "# print(\"Cross-Validation Scores for the Best Model:\", cross_val_scores)\n",
    "# print(\"Average Cross-Validation Score:\", cross_val_scores.mean())\n",
    "\n",
    "# Krzywa ROC\n",
    "y_proba_test4 = best_xg.predict_proba(x_test2)[:, 1]\n",
    "fpr, tpr, thresholds = roc_curve(y_test2, y_proba_test4)\n",
    "plt.plot(fpr, tpr)\n",
    "plt.title(\"ROC Curve with AUC = {:.2f}\".format(roc_auc_score(y_test2, y_proba_test4)))\n",
    "plt.show()"
   ]
  },
  {
   "cell_type": "markdown",
   "metadata": {},
   "source": [
    "## logistic regression"
   ]
  },
  {
   "cell_type": "code",
   "execution_count": 17,
   "metadata": {},
   "outputs": [
    {
     "name": "stdout",
     "output_type": "stream",
     "text": [
      "Accuracy on Training set:  0.8115369181380417\n",
      "Accuracy on Test set:  0.8107125045144203\n",
      "\n",
      "Training Results\n",
      "\n",
      "              precision    recall  f1-score   support\n",
      "\n",
      "           0       0.78      0.86      0.82    174285\n",
      "           1       0.84      0.76      0.80    174595\n",
      "\n",
      "    accuracy                           0.81    348880\n",
      "   macro avg       0.81      0.81      0.81    348880\n",
      "weighted avg       0.81      0.81      0.81    348880\n",
      "\n",
      "Testing Results\n",
      "\n",
      "              precision    recall  f1-score   support\n",
      "\n",
      "           0       0.79      0.86      0.82     58302\n",
      "           1       0.84      0.76      0.80     57992\n",
      "\n",
      "    accuracy                           0.81    116294\n",
      "   macro avg       0.81      0.81      0.81    116294\n",
      "weighted avg       0.81      0.81      0.81    116294\n",
      "\n"
     ]
    },
    {
     "data": {
      "image/png": "[encoded data removed]",
      "text/plain": [
       "<Figure size 640x480 with 1 Axes>"
      ]
     },
     "metadata": {},
     "output_type": "display_data"
    }
   ],
   "source": [
    "\n",
    "\n",
    "# # Inicjalizacja modelu regresji logistycznej\n",
    "# lg = LogisticRegression()\n",
    "\n",
    "# # Definiowanie siatki hiperparametrów do przetestowania\n",
    "# param_grid = {\n",
    "#     'C': [0.01, 0.1, 1, 10, 100],  # Parametr regularyzacji\n",
    "#     'penalty': ['l1', 'l2'],       # Typ regularyzacji\n",
    "#     'solver': ['liblinear']        # Algorytm optymalizacji (liblinear jest dobrym wyborem dla małych zbiorów danych)\n",
    "# }\n",
    "\n",
    "# # Utworzenie obiektu GridSearchCV\n",
    "# grid_search = GridSearchCV(estimator=lg, param_grid=param_grid, cv=5, scoring='accuracy')\n",
    "\n",
    "# # Przeszukiwanie siatki parametrów\n",
    "# grid_search.fit(x_train2, y_train2)\n",
    "\n",
    "# # Najlepsze parametry i najlepszy model\n",
    "# print(\"Najlepsze parametry: \", grid_search.best_params_)\n",
    "# best_lg = grid_search.best_estimator_\n",
    "\n",
    "params = {\n",
    "    'C': 10,\n",
    "    'penalty': 'l1',\n",
    "    'solver': 'liblinear'\n",
    "}\n",
    "\n",
    "best_lg = LogisticRegression(\n",
    "    C=params['C'],\n",
    "    penalty=params['penalty'],\n",
    "    solver=params['solver']\n",
    ")\n",
    "best_lg.fit(x_train2, y_train2)\n",
    "# Predykcje na zbiorze treningowym i testowym\n",
    "ypred_train4 = best_lg.predict(x_train2)\n",
    "y_pred_test4 = best_lg.predict(x_test2)\n",
    "\n",
    "# Ocena modelu\n",
    "print(\"Accuracy on Training set: \", accuracy_score(y_train2, ypred_train4))\n",
    "print(\"Accuracy on Test set: \", accuracy_score(y_test2, y_pred_test4))\n",
    "print(\"\\nTraining Results\\n\")\n",
    "print(classification_report(y_train2, ypred_train4))\n",
    "print('Testing Results\\n')\n",
    "print(classification_report(y_test2 ,y_pred_test4))\n",
    "\n",
    "# cross_val_scores = cross_val_score(best_lg, x_train2, y_train2, cv=5)\n",
    "# print(\"Cross-validation scores:\", cross_val_scores)\n",
    "# print(\"Average cross-validation score:\", np.mean(cross_val_scores))\n",
    "\n",
    "\n",
    "# Krzywa ROC\n",
    "y_proba_test4 = best_lg.predict_proba(x_test2)[:, 1]\n",
    "fpr, tpr, thresholds = roc_curve(y_test2, y_proba_test4)\n",
    "plt.plot(fpr, tpr)\n",
    "plt.title(\"ROC Curve with AUC = {:.2f}\".format(roc_auc_score(y_test2, y_proba_test4)))\n",
    "plt.show()"
   ]
  },
  {
   "cell_type": "markdown",
   "metadata": {},
   "source": [
    "## GradientBoostingClassifier"
   ]
  },
  {
   "cell_type": "code",
   "execution_count": 18,
   "metadata": {},
   "outputs": [
    {
     "data": {
      "text/html": [
       "<style>#sk-container-id-1 {color: black;}#sk-container-id-1 pre{padding: 0;}#sk-container-id-1 div.sk-toggleable {background-color: white;}#sk-container-id-1 label.sk-toggleable__label {cursor: pointer;display: block;width: 100%;margin-bottom: 0;padding: 0.3em;box-sizing: border-box;text-align: center;}#sk-container-id-1 label.sk-toggleable__label-arrow:before {content: \"▸\";float: left;margin-right: 0.25em;color: #696969;}#sk-container-id-1 label.sk-toggleable__label-arrow:hover:before {color: black;}#sk-container-id-1 div.sk-estimator:hover label.sk-toggleable__label-arrow:before {color: black;}#sk-container-id-1 div.sk-toggleable__content {max-height: 0;max-width: 0;overflow: hidden;text-align: left;background-color: #f0f8ff;}#sk-container-id-1 div.sk-toggleable__content pre {margin: 0.2em;color: black;border-radius: 0.25em;background-color: #f0f8ff;}#sk-container-id-1 input.sk-toggleable__control:checked~div.sk-toggleable__content {max-height: 200px;max-width: 100%;overflow: auto;}#sk-container-id-1 input.sk-toggleable__control:checked~label.sk-toggleable__label-arrow:before {content: \"▾\";}#sk-container-id-1 div.sk-estimator input.sk-toggleable__control:checked~label.sk-toggleable__label {background-color: #d4ebff;}#sk-container-id-1 div.sk-label input.sk-toggleable__control:checked~label.sk-toggleable__label {background-color: #d4ebff;}#sk-container-id-1 input.sk-hidden--visually {border: 0;clip: rect(1px 1px 1px 1px);clip: rect(1px, 1px, 1px, 1px);height: 1px;margin: -1px;overflow: hidden;padding: 0;position: absolute;width: 1px;}#sk-container-id-1 div.sk-estimator {font-family: monospace;background-color: #f0f8ff;border: 1px dotted black;border-radius: 0.25em;box-sizing: border-box;margin-bottom: 0.5em;}#sk-container-id-1 div.sk-estimator:hover {background-color: #d4ebff;}#sk-container-id-1 div.sk-parallel-item::after {content: \"\";width: 100%;border-bottom: 1px solid gray;flex-grow: 1;}#sk-container-id-1 div.sk-label:hover label.sk-toggleable__label {background-color: #d4ebff;}#sk-container-id-1 div.sk-serial::before {content: \"\";position: absolute;border-left: 1px solid gray;box-sizing: border-box;top: 0;bottom: 0;left: 50%;z-index: 0;}#sk-container-id-1 div.sk-serial {display: flex;flex-direction: column;align-items: center;background-color: white;padding-right: 0.2em;padding-left: 0.2em;position: relative;}#sk-container-id-1 div.sk-item {position: relative;z-index: 1;}#sk-container-id-1 div.sk-parallel {display: flex;align-items: stretch;justify-content: center;background-color: white;position: relative;}#sk-container-id-1 div.sk-item::before, #sk-container-id-1 div.sk-parallel-item::before {content: \"\";position: absolute;border-left: 1px solid gray;box-sizing: border-box;top: 0;bottom: 0;left: 50%;z-index: -1;}#sk-container-id-1 div.sk-parallel-item {display: flex;flex-direction: column;z-index: 1;position: relative;background-color: white;}#sk-container-id-1 div.sk-parallel-item:first-child::after {align-self: flex-end;width: 50%;}#sk-container-id-1 div.sk-parallel-item:last-child::after {align-self: flex-start;width: 50%;}#sk-container-id-1 div.sk-parallel-item:only-child::after {width: 0;}#sk-container-id-1 div.sk-dashed-wrapped {border: 1px dashed gray;margin: 0 0.4em 0.5em 0.4em;box-sizing: border-box;padding-bottom: 0.4em;background-color: white;}#sk-container-id-1 div.sk-label label {font-family: monospace;font-weight: bold;display: inline-block;line-height: 1.2em;}#sk-container-id-1 div.sk-label-container {text-align: center;}#sk-container-id-1 div.sk-container {/* jupyter's `normalize.less` sets `[hidden] { display: none; }` but bootstrap.min.css set `[hidden] { display: none !important; }` so we also need the `!important` here to be able to override the default hidden behavior on the sphinx rendered scikit-learn.org. See: https://github.com/scikit-learn/scikit-learn/issues/21755 */display: inline-block !important;position: relative;}#sk-container-id-1 div.sk-text-repr-fallback {display: none;}</style><div id=\"sk-container-id-1\" class=\"sk-top-container\"><div class=\"sk-text-repr-fallback\"><pre>GradientBoostingClassifier(learning_rate=0.2, max_depth=7, n_estimators=300)</pre><b>In a Jupyter environment, please rerun this cell to show the HTML representation or trust the notebook. <br />On GitHub, the HTML representation is unable to render, please try loading this page with nbviewer.org.</b></div><div class=\"sk-container\" hidden><div class=\"sk-item\"><div class=\"sk-estimator sk-toggleable\"><input class=\"sk-toggleable__control sk-hidden--visually\" id=\"sk-estimator-id-1\" type=\"checkbox\" checked><label for=\"sk-estimator-id-1\" class=\"sk-toggleable__label sk-toggleable__label-arrow\">GradientBoostingClassifier</label><div class=\"sk-toggleable__content\"><pre>GradientBoostingClassifier(learning_rate=0.2, max_depth=7, n_estimators=300)</pre></div></div></div></div></div>"
      ],
      "text/plain": [
       "GradientBoostingClassifier(learning_rate=0.2, max_depth=7, n_estimators=300)"
      ]
     },
     "execution_count": 18,
     "metadata": {},
     "output_type": "execute_result"
    }
   ],
   "source": [
    "params = {\n",
    "    'learning_rate': 0.2,\n",
    "    'max_depth': 7,\n",
    "    'min_samples_leaf': 1,\n",
    "    'min_samples_split': 2,\n",
    "    'n_estimators': 300\n",
    "}\n",
    "\n",
    "gb_clf = GradientBoostingClassifier(\n",
    "    learning_rate=params['learning_rate'],\n",
    "    max_depth=params['max_depth'],\n",
    "    min_samples_leaf=params['min_samples_leaf'],\n",
    "    min_samples_split=params['min_samples_split'],\n",
    "    n_estimators=params['n_estimators'])\n",
    "gb_clf.fit(x_train2, y_train2)"
   ]
  },
  {
   "cell_type": "code",
   "execution_count": 19,
   "metadata": {},
   "outputs": [
    {
     "name": "stdout",
     "output_type": "stream",
     "text": [
      "Accuracy on Training set:  0.979878468241229\n",
      "Accuracy on Test set:  0.966825459610986\n",
      "\n",
      "Training Results\n",
      "\n",
      "              precision    recall  f1-score   support\n",
      "\n",
      "           0       0.97      0.99      0.98    174285\n",
      "           1       0.99      0.97      0.98    174595\n",
      "\n",
      "    accuracy                           0.98    348880\n",
      "   macro avg       0.98      0.98      0.98    348880\n",
      "weighted avg       0.98      0.98      0.98    348880\n",
      "\n",
      "Testing Results\n",
      "\n",
      "              precision    recall  f1-score   support\n",
      "\n",
      "           0       0.95      0.98      0.97     58302\n",
      "           1       0.98      0.95      0.97     57992\n",
      "\n",
      "    accuracy                           0.97    116294\n",
      "   macro avg       0.97      0.97      0.97    116294\n",
      "weighted avg       0.97      0.97      0.97    116294\n",
      "\n"
     ]
    },
    {
     "data": {
      "image/png": "[encoded data removed]",
      "text/plain": [
       "<Figure size 640x480 with 1 Axes>"
      ]
     },
     "metadata": {},
     "output_type": "display_data"
    }
   ],
   "source": [
    "\n",
    "\n",
    "# Inicjalizacja modelu Gradient Boosting Classifier\n",
    "# gb = GradientBoostingClassifier()\n",
    "\n",
    "# # Definiowanie siatki hiperparametrów do przetestowania\n",
    "# param_grid = {\n",
    "#     'n_estimators': [100, 200, 300],  # Liczba drzew w ensemble\n",
    "#     'learning_rate': [0.01, 0.1, 0.2], # Szybkość uczenia\n",
    "#     'max_depth': [3, 5, 7],            # Maksymalna głębokość drzewa\n",
    "#     'min_samples_split': [2, 4],       # Minimalna liczba próbek wymagana do podziału węzła\n",
    "#     'min_samples_leaf': [1, 2]         # Minimalna liczba próbek w liściu\n",
    "# }\n",
    "\n",
    "# # Utworzenie obiektu GridSearchCV\n",
    "# grid_search = GridSearchCV(estimator=gb, param_grid=param_grid, cv=5, scoring='accuracy')\n",
    "\n",
    "# # Przeszukiwanie siatki parametrów\n",
    "# grid_search.fit(x_train2, y_train2)\n",
    "\n",
    "# # Najlepsze parametry i najlepszy model\n",
    "# print(\"Najlepsze parametry: \", grid_search.best_params_)\n",
    "# best_gb = grid_search.best_estimator_\n",
    "\n",
    "\n",
    "# Predykcje na zbiorze treningowym i testowym\n",
    "ypred_train6 = gb_clf.predict(x_train2)\n",
    "y_pred_test6 = gb_clf.predict(x_test2)\n",
    "\n",
    "# Ocena modelu\n",
    "print(\"Accuracy on Training set: \", accuracy_score(y_train2, ypred_train6))\n",
    "print(\"Accuracy on Test set: \", accuracy_score(y_test2, y_pred_test6))\n",
    "print(\"\\nTraining Results\\n\")\n",
    "print(classification_report(y_train2, ypred_train6))\n",
    "print('Testing Results\\n')\n",
    "print(classification_report(y_test2, y_pred_test6))\n",
    "\n",
    "# cross_val_scores = cross_val_score(gb_clf, x_train2, y_train2, cv=5)\n",
    "# print(\"Cross-validation scores:\", cross_val_scores)\n",
    "# print(\"Average cross-validation score:\", np.mean(cross_val_scores))\n",
    "\n",
    "\n",
    "# Krzywa ROC\n",
    "y_proba_test6 = gb_clf.predict_proba(x_test2)[:, 1]\n",
    "fpr, tpr, thresholds = roc_curve(y_test2, y_proba_test6)\n",
    "plt.plot(fpr, tpr)\n",
    "plt.title(\"ROC Curve with AUC = {:.2f}\".format(roc_auc_score(y_test2, y_proba_test6)))\n",
    "plt.show()"
   ]
  },
  {
   "cell_type": "markdown",
   "metadata": {},
   "source": [
    "## KNN"
   ]
  },
  {
   "cell_type": "code",
   "execution_count": 20,
   "metadata": {},
   "outputs": [
    {
     "data": {
      "text/html": [
       "<style>#sk-container-id-2 {color: black;}#sk-container-id-2 pre{padding: 0;}#sk-container-id-2 div.sk-toggleable {background-color: white;}#sk-container-id-2 label.sk-toggleable__label {cursor: pointer;display: block;width: 100%;margin-bottom: 0;padding: 0.3em;box-sizing: border-box;text-align: center;}#sk-container-id-2 label.sk-toggleable__label-arrow:before {content: \"▸\";float: left;margin-right: 0.25em;color: #696969;}#sk-container-id-2 label.sk-toggleable__label-arrow:hover:before {color: black;}#sk-container-id-2 div.sk-estimator:hover label.sk-toggleable__label-arrow:before {color: black;}#sk-container-id-2 div.sk-toggleable__content {max-height: 0;max-width: 0;overflow: hidden;text-align: left;background-color: #f0f8ff;}#sk-container-id-2 div.sk-toggleable__content pre {margin: 0.2em;color: black;border-radius: 0.25em;background-color: #f0f8ff;}#sk-container-id-2 input.sk-toggleable__control:checked~div.sk-toggleable__content {max-height: 200px;max-width: 100%;overflow: auto;}#sk-container-id-2 input.sk-toggleable__control:checked~label.sk-toggleable__label-arrow:before {content: \"▾\";}#sk-container-id-2 div.sk-estimator input.sk-toggleable__control:checked~label.sk-toggleable__label {background-color: #d4ebff;}#sk-container-id-2 div.sk-label input.sk-toggleable__control:checked~label.sk-toggleable__label {background-color: #d4ebff;}#sk-container-id-2 input.sk-hidden--visually {border: 0;clip: rect(1px 1px 1px 1px);clip: rect(1px, 1px, 1px, 1px);height: 1px;margin: -1px;overflow: hidden;padding: 0;position: absolute;width: 1px;}#sk-container-id-2 div.sk-estimator {font-family: monospace;background-color: #f0f8ff;border: 1px dotted black;border-radius: 0.25em;box-sizing: border-box;margin-bottom: 0.5em;}#sk-container-id-2 div.sk-estimator:hover {background-color: #d4ebff;}#sk-container-id-2 div.sk-parallel-item::after {content: \"\";width: 100%;border-bottom: 1px solid gray;flex-grow: 1;}#sk-container-id-2 div.sk-label:hover label.sk-toggleable__label {background-color: #d4ebff;}#sk-container-id-2 div.sk-serial::before {content: \"\";position: absolute;border-left: 1px solid gray;box-sizing: border-box;top: 0;bottom: 0;left: 50%;z-index: 0;}#sk-container-id-2 div.sk-serial {display: flex;flex-direction: column;align-items: center;background-color: white;padding-right: 0.2em;padding-left: 0.2em;position: relative;}#sk-container-id-2 div.sk-item {position: relative;z-index: 1;}#sk-container-id-2 div.sk-parallel {display: flex;align-items: stretch;justify-content: center;background-color: white;position: relative;}#sk-container-id-2 div.sk-item::before, #sk-container-id-2 div.sk-parallel-item::before {content: \"\";position: absolute;border-left: 1px solid gray;box-sizing: border-box;top: 0;bottom: 0;left: 50%;z-index: -1;}#sk-container-id-2 div.sk-parallel-item {display: flex;flex-direction: column;z-index: 1;position: relative;background-color: white;}#sk-container-id-2 div.sk-parallel-item:first-child::after {align-self: flex-end;width: 50%;}#sk-container-id-2 div.sk-parallel-item:last-child::after {align-self: flex-start;width: 50%;}#sk-container-id-2 div.sk-parallel-item:only-child::after {width: 0;}#sk-container-id-2 div.sk-dashed-wrapped {border: 1px dashed gray;margin: 0 0.4em 0.5em 0.4em;box-sizing: border-box;padding-bottom: 0.4em;background-color: white;}#sk-container-id-2 div.sk-label label {font-family: monospace;font-weight: bold;display: inline-block;line-height: 1.2em;}#sk-container-id-2 div.sk-label-container {text-align: center;}#sk-container-id-2 div.sk-container {/* jupyter's `normalize.less` sets `[hidden] { display: none; }` but bootstrap.min.css set `[hidden] { display: none !important; }` so we also need the `!important` here to be able to override the default hidden behavior on the sphinx rendered scikit-learn.org. See: https://github.com/scikit-learn/scikit-learn/issues/21755 */display: inline-block !important;position: relative;}#sk-container-id-2 div.sk-text-repr-fallback {display: none;}</style><div id=\"sk-container-id-2\" class=\"sk-top-container\"><div class=\"sk-text-repr-fallback\"><pre>KNeighborsClassifier()</pre><b>In a Jupyter environment, please rerun this cell to show the HTML representation or trust the notebook. <br />On GitHub, the HTML representation is unable to render, please try loading this page with nbviewer.org.</b></div><div class=\"sk-container\" hidden><div class=\"sk-item\"><div class=\"sk-estimator sk-toggleable\"><input class=\"sk-toggleable__control sk-hidden--visually\" id=\"sk-estimator-id-2\" type=\"checkbox\" checked><label for=\"sk-estimator-id-2\" class=\"sk-toggleable__label sk-toggleable__label-arrow\">KNeighborsClassifier</label><div class=\"sk-toggleable__content\"><pre>KNeighborsClassifier()</pre></div></div></div></div></div>"
      ],
      "text/plain": [
       "KNeighborsClassifier()"
      ]
     },
     "execution_count": 20,
     "metadata": {},
     "output_type": "execute_result"
    }
   ],
   "source": [
    "knn = KNeighborsClassifier()\n",
    "knn.fit(x_train2, y_train2)\n"
   ]
  },
  {
   "cell_type": "code",
   "execution_count": 21,
   "metadata": {},
   "outputs": [],
   "source": [
    "grid_cv = GridSearchCV(KNeighborsClassifier(), \n",
    "                       param_grid={\n",
    "                           \"n_neighbors\": range(1, 50)\n",
    "                       }, cv=5, scoring=\"f1\", \n",
    "                       verbose=1, n_jobs=6)\n"
   ]
  },
  {
   "cell_type": "code",
   "execution_count": 22,
   "metadata": {},
   "outputs": [
    {
     "name": "stdout",
     "output_type": "stream",
     "text": [
      "Fitting 5 folds for each of 49 candidates, totalling 245 fits\n"
     ]
    },
    {
     "data": {
      "text/html": [
       "<style>#sk-container-id-3 {color: black;}#sk-container-id-3 pre{padding: 0;}#sk-container-id-3 div.sk-toggleable {background-color: white;}#sk-container-id-3 label.sk-toggleable__label {cursor: pointer;display: block;width: 100%;margin-bottom: 0;padding: 0.3em;box-sizing: border-box;text-align: center;}#sk-container-id-3 label.sk-toggleable__label-arrow:before {content: \"▸\";float: left;margin-right: 0.25em;color: #696969;}#sk-container-id-3 label.sk-toggleable__label-arrow:hover:before {color: black;}#sk-container-id-3 div.sk-estimator:hover label.sk-toggleable__label-arrow:before {color: black;}#sk-container-id-3 div.sk-toggleable__content {max-height: 0;max-width: 0;overflow: hidden;text-align: left;background-color: #f0f8ff;}#sk-container-id-3 div.sk-toggleable__content pre {margin: 0.2em;color: black;border-radius: 0.25em;background-color: #f0f8ff;}#sk-container-id-3 input.sk-toggleable__control:checked~div.sk-toggleable__content {max-height: 200px;max-width: 100%;overflow: auto;}#sk-container-id-3 input.sk-toggleable__control:checked~label.sk-toggleable__label-arrow:before {content: \"▾\";}#sk-container-id-3 div.sk-estimator input.sk-toggleable__control:checked~label.sk-toggleable__label {background-color: #d4ebff;}#sk-container-id-3 div.sk-label input.sk-toggleable__control:checked~label.sk-toggleable__label {background-color: #d4ebff;}#sk-container-id-3 input.sk-hidden--visually {border: 0;clip: rect(1px 1px 1px 1px);clip: rect(1px, 1px, 1px, 1px);height: 1px;margin: -1px;overflow: hidden;padding: 0;position: absolute;width: 1px;}#sk-container-id-3 div.sk-estimator {font-family: monospace;background-color: #f0f8ff;border: 1px dotted black;border-radius: 0.25em;box-sizing: border-box;margin-bottom: 0.5em;}#sk-container-id-3 div.sk-estimator:hover {background-color: #d4ebff;}#sk-container-id-3 div.sk-parallel-item::after {content: \"\";width: 100%;border-bottom: 1px solid gray;flex-grow: 1;}#sk-container-id-3 div.sk-label:hover label.sk-toggleable__label {background-color: #d4ebff;}#sk-container-id-3 div.sk-serial::before {content: \"\";position: absolute;border-left: 1px solid gray;box-sizing: border-box;top: 0;bottom: 0;left: 50%;z-index: 0;}#sk-container-id-3 div.sk-serial {display: flex;flex-direction: column;align-items: center;background-color: white;padding-right: 0.2em;padding-left: 0.2em;position: relative;}#sk-container-id-3 div.sk-item {position: relative;z-index: 1;}#sk-container-id-3 div.sk-parallel {display: flex;align-items: stretch;justify-content: center;background-color: white;position: relative;}#sk-container-id-3 div.sk-item::before, #sk-container-id-3 div.sk-parallel-item::before {content: \"\";position: absolute;border-left: 1px solid gray;box-sizing: border-box;top: 0;bottom: 0;left: 50%;z-index: -1;}#sk-container-id-3 div.sk-parallel-item {display: flex;flex-direction: column;z-index: 1;position: relative;background-color: white;}#sk-container-id-3 div.sk-parallel-item:first-child::after {align-self: flex-end;width: 50%;}#sk-container-id-3 div.sk-parallel-item:last-child::after {align-self: flex-start;width: 50%;}#sk-container-id-3 div.sk-parallel-item:only-child::after {width: 0;}#sk-container-id-3 div.sk-dashed-wrapped {border: 1px dashed gray;margin: 0 0.4em 0.5em 0.4em;box-sizing: border-box;padding-bottom: 0.4em;background-color: white;}#sk-container-id-3 div.sk-label label {font-family: monospace;font-weight: bold;display: inline-block;line-height: 1.2em;}#sk-container-id-3 div.sk-label-container {text-align: center;}#sk-container-id-3 div.sk-container {/* jupyter's `normalize.less` sets `[hidden] { display: none; }` but bootstrap.min.css set `[hidden] { display: none !important; }` so we also need the `!important` here to be able to override the default hidden behavior on the sphinx rendered scikit-learn.org. See: https://github.com/scikit-learn/scikit-learn/issues/21755 */display: inline-block !important;position: relative;}#sk-container-id-3 div.sk-text-repr-fallback {display: none;}</style><div id=\"sk-container-id-3\" class=\"sk-top-container\"><div class=\"sk-text-repr-fallback\"><pre>GridSearchCV(cv=5, estimator=KNeighborsClassifier(), n_jobs=6,\n",
       "             param_grid={&#x27;n_neighbors&#x27;: range(1, 50)}, scoring=&#x27;f1&#x27;, verbose=1)</pre><b>In a Jupyter environment, please rerun this cell to show the HTML representation or trust the notebook. <br />On GitHub, the HTML representation is unable to render, please try loading this page with nbviewer.org.</b></div><div class=\"sk-container\" hidden><div class=\"sk-item sk-dashed-wrapped\"><div class=\"sk-label-container\"><div class=\"sk-label sk-toggleable\"><input class=\"sk-toggleable__control sk-hidden--visually\" id=\"sk-estimator-id-3\" type=\"checkbox\" ><label for=\"sk-estimator-id-3\" class=\"sk-toggleable__label sk-toggleable__label-arrow\">GridSearchCV</label><div class=\"sk-toggleable__content\"><pre>GridSearchCV(cv=5, estimator=KNeighborsClassifier(), n_jobs=6,\n",
       "             param_grid={&#x27;n_neighbors&#x27;: range(1, 50)}, scoring=&#x27;f1&#x27;, verbose=1)</pre></div></div></div><div class=\"sk-parallel\"><div class=\"sk-parallel-item\"><div class=\"sk-item\"><div class=\"sk-label-container\"><div class=\"sk-label sk-toggleable\"><input class=\"sk-toggleable__control sk-hidden--visually\" id=\"sk-estimator-id-4\" type=\"checkbox\" ><label for=\"sk-estimator-id-4\" class=\"sk-toggleable__label sk-toggleable__label-arrow\">estimator: KNeighborsClassifier</label><div class=\"sk-toggleable__content\"><pre>KNeighborsClassifier()</pre></div></div></div><div class=\"sk-serial\"><div class=\"sk-item\"><div class=\"sk-estimator sk-toggleable\"><input class=\"sk-toggleable__control sk-hidden--visually\" id=\"sk-estimator-id-5\" type=\"checkbox\" ><label for=\"sk-estimator-id-5\" class=\"sk-toggleable__label sk-toggleable__label-arrow\">KNeighborsClassifier</label><div class=\"sk-toggleable__content\"><pre>KNeighborsClassifier()</pre></div></div></div></div></div></div></div></div></div></div>"
      ],
      "text/plain": [
       "GridSearchCV(cv=5, estimator=KNeighborsClassifier(), n_jobs=6,\n",
       "             param_grid={'n_neighbors': range(1, 50)}, scoring='f1', verbose=1)"
      ]
     },
     "execution_count": 22,
     "metadata": {},
     "output_type": "execute_result"
    }
   ],
   "source": [
    "grid_cv.fit(x_train2, \n",
    "            y_train2)"
   ]
  },
  {
   "cell_type": "code",
   "execution_count": 23,
   "metadata": {},
   "outputs": [
    {
     "data": {
      "text/plain": [
       "0.9574344731148156"
      ]
     },
     "execution_count": 23,
     "metadata": {},
     "output_type": "execute_result"
    }
   ],
   "source": [
    "grid_cv.best_score_\n"
   ]
  },
  {
   "cell_type": "code",
   "execution_count": 24,
   "metadata": {},
   "outputs": [
    {
     "data": {
      "text/html": [
       "<style>#sk-container-id-4 {color: black;}#sk-container-id-4 pre{padding: 0;}#sk-container-id-4 div.sk-toggleable {background-color: white;}#sk-container-id-4 label.sk-toggleable__label {cursor: pointer;display: block;width: 100%;margin-bottom: 0;padding: 0.3em;box-sizing: border-box;text-align: center;}#sk-container-id-4 label.sk-toggleable__label-arrow:before {content: \"▸\";float: left;margin-right: 0.25em;color: #696969;}#sk-container-id-4 label.sk-toggleable__label-arrow:hover:before {color: black;}#sk-container-id-4 div.sk-estimator:hover label.sk-toggleable__label-arrow:before {color: black;}#sk-container-id-4 div.sk-toggleable__content {max-height: 0;max-width: 0;overflow: hidden;text-align: left;background-color: #f0f8ff;}#sk-container-id-4 div.sk-toggleable__content pre {margin: 0.2em;color: black;border-radius: 0.25em;background-color: #f0f8ff;}#sk-container-id-4 input.sk-toggleable__control:checked~div.sk-toggleable__content {max-height: 200px;max-width: 100%;overflow: auto;}#sk-container-id-4 input.sk-toggleable__control:checked~label.sk-toggleable__label-arrow:before {content: \"▾\";}#sk-container-id-4 div.sk-estimator input.sk-toggleable__control:checked~label.sk-toggleable__label {background-color: #d4ebff;}#sk-container-id-4 div.sk-label input.sk-toggleable__control:checked~label.sk-toggleable__label {background-color: #d4ebff;}#sk-container-id-4 input.sk-hidden--visually {border: 0;clip: rect(1px 1px 1px 1px);clip: rect(1px, 1px, 1px, 1px);height: 1px;margin: -1px;overflow: hidden;padding: 0;position: absolute;width: 1px;}#sk-container-id-4 div.sk-estimator {font-family: monospace;background-color: #f0f8ff;border: 1px dotted black;border-radius: 0.25em;box-sizing: border-box;margin-bottom: 0.5em;}#sk-container-id-4 div.sk-estimator:hover {background-color: #d4ebff;}#sk-container-id-4 div.sk-parallel-item::after {content: \"\";width: 100%;border-bottom: 1px solid gray;flex-grow: 1;}#sk-container-id-4 div.sk-label:hover label.sk-toggleable__label {background-color: #d4ebff;}#sk-container-id-4 div.sk-serial::before {content: \"\";position: absolute;border-left: 1px solid gray;box-sizing: border-box;top: 0;bottom: 0;left: 50%;z-index: 0;}#sk-container-id-4 div.sk-serial {display: flex;flex-direction: column;align-items: center;background-color: white;padding-right: 0.2em;padding-left: 0.2em;position: relative;}#sk-container-id-4 div.sk-item {position: relative;z-index: 1;}#sk-container-id-4 div.sk-parallel {display: flex;align-items: stretch;justify-content: center;background-color: white;position: relative;}#sk-container-id-4 div.sk-item::before, #sk-container-id-4 div.sk-parallel-item::before {content: \"\";position: absolute;border-left: 1px solid gray;box-sizing: border-box;top: 0;bottom: 0;left: 50%;z-index: -1;}#sk-container-id-4 div.sk-parallel-item {display: flex;flex-direction: column;z-index: 1;position: relative;background-color: white;}#sk-container-id-4 div.sk-parallel-item:first-child::after {align-self: flex-end;width: 50%;}#sk-container-id-4 div.sk-parallel-item:last-child::after {align-self: flex-start;width: 50%;}#sk-container-id-4 div.sk-parallel-item:only-child::after {width: 0;}#sk-container-id-4 div.sk-dashed-wrapped {border: 1px dashed gray;margin: 0 0.4em 0.5em 0.4em;box-sizing: border-box;padding-bottom: 0.4em;background-color: white;}#sk-container-id-4 div.sk-label label {font-family: monospace;font-weight: bold;display: inline-block;line-height: 1.2em;}#sk-container-id-4 div.sk-label-container {text-align: center;}#sk-container-id-4 div.sk-container {/* jupyter's `normalize.less` sets `[hidden] { display: none; }` but bootstrap.min.css set `[hidden] { display: none !important; }` so we also need the `!important` here to be able to override the default hidden behavior on the sphinx rendered scikit-learn.org. See: https://github.com/scikit-learn/scikit-learn/issues/21755 */display: inline-block !important;position: relative;}#sk-container-id-4 div.sk-text-repr-fallback {display: none;}</style><div id=\"sk-container-id-4\" class=\"sk-top-container\"><div class=\"sk-text-repr-fallback\"><pre>KNeighborsClassifier(n_neighbors=1)</pre><b>In a Jupyter environment, please rerun this cell to show the HTML representation or trust the notebook. <br />On GitHub, the HTML representation is unable to render, please try loading this page with nbviewer.org.</b></div><div class=\"sk-container\" hidden><div class=\"sk-item\"><div class=\"sk-estimator sk-toggleable\"><input class=\"sk-toggleable__control sk-hidden--visually\" id=\"sk-estimator-id-6\" type=\"checkbox\" checked><label for=\"sk-estimator-id-6\" class=\"sk-toggleable__label sk-toggleable__label-arrow\">KNeighborsClassifier</label><div class=\"sk-toggleable__content\"><pre>KNeighborsClassifier(n_neighbors=1)</pre></div></div></div></div></div>"
      ],
      "text/plain": [
       "KNeighborsClassifier(n_neighbors=1)"
      ]
     },
     "execution_count": 24,
     "metadata": {},
     "output_type": "execute_result"
    }
   ],
   "source": [
    "knn = grid_cv.best_estimator_\n",
    "knn"
   ]
  },
  {
   "cell_type": "code",
   "execution_count": 25,
   "metadata": {},
   "outputs": [
    {
     "name": "stdout",
     "output_type": "stream",
     "text": [
      "XGBClassifier Accuracy:  0.9625002149723976\n"
     ]
    }
   ],
   "source": [
    "ypred_train33 = grid_cv.predict(x_train2)\n",
    "y_pred_test33 = grid_cv.predict(x_test2)\n",
    "print(\"XGBClassifier Accuracy: \",accuracy_score(y_test2, y_pred_test33))"
   ]
  },
  {
   "cell_type": "code",
   "execution_count": 26,
   "metadata": {},
   "outputs": [
    {
     "name": "stdout",
     "output_type": "stream",
     "text": [
      "Training Results\n",
      "\n",
      "              precision    recall  f1-score   support\n",
      "\n",
      "           0       1.00      1.00      1.00    174285\n",
      "           1       1.00      1.00      1.00    174595\n",
      "\n",
      "    accuracy                           1.00    348880\n",
      "   macro avg       1.00      1.00      1.00    348880\n",
      "weighted avg       1.00      1.00      1.00    348880\n",
      "\n"
     ]
    }
   ],
   "source": [
    "print(\"Training Results\\n\")\n",
    "print(classification_report(y_train2, ypred_train33))"
   ]
  },
  {
   "cell_type": "code",
   "execution_count": 27,
   "metadata": {},
   "outputs": [
    {
     "name": "stdout",
     "output_type": "stream",
     "text": [
      "Training Results\n",
      "\n",
      "              precision    recall  f1-score   support\n",
      "\n",
      "           0       0.98      0.94      0.96     58302\n",
      "           1       0.95      0.98      0.96     57992\n",
      "\n",
      "    accuracy                           0.96    116294\n",
      "   macro avg       0.96      0.96      0.96    116294\n",
      "weighted avg       0.96      0.96      0.96    116294\n",
      "\n"
     ]
    }
   ],
   "source": [
    "print(\"Training Results\\n\")\n",
    "print(classification_report(y_test2, y_pred_test33))"
   ]
  },
  {
   "cell_type": "code",
   "execution_count": 28,
   "metadata": {},
   "outputs": [
    {
     "data": {
      "image/png": "[encoded data removed]",
      "text/plain": [
       "<Figure size 640x480 with 1 Axes>"
      ]
     },
     "metadata": {},
     "output_type": "display_data"
    }
   ],
   "source": [
    "# cross_val_scores = cross_val_score(grid_cv, x_train2, y_train2, cv=5)\n",
    "# print(\"Cross-validation scores:\", cross_val_scores)\n",
    "# print(\"Average cross-validation score:\", np.mean(cross_val_scores))\n",
    "\n",
    "y_proba_test = grid_cv.predict_proba(x_test2)[:, 1]\n",
    "\n",
    "fpr, tpr, thresholds = roc_curve(y_test2, y_proba_test)\n",
    "\n",
    "plt.plot(fpr, tpr, label='ROC Curve')\n",
    "plt.xlabel('False Positive Rate')\n",
    "plt.ylabel('True Positive Rate')\n",
    "plt.title('ROC Curve with AUC = {:.2f}'.format(roc_auc_score(y_test2, y_proba_test)))\n",
    "plt.legend(loc='lower right')\n",
    "plt.grid(True)\n",
    "plt.show()"
   ]
  },
  {
   "cell_type": "markdown",
   "metadata": {},
   "source": [
    "## SIECI NEURONOWE"
   ]
  },
  {
   "cell_type": "code",
   "execution_count": 29,
   "metadata": {},
   "outputs": [],
   "source": [
    "early_stop = EarlyStopping(monitor='val_loss', mode='min', verbose=1, patience=25)"
   ]
  },
  {
   "cell_type": "markdown",
   "metadata": {},
   "source": [
    "## inne próby sieci neuronowych "
   ]
  },
  {
   "cell_type": "code",
   "execution_count": 30,
   "metadata": {},
   "outputs": [
    {
     "name": "stdout",
     "output_type": "stream",
     "text": [
      "WARNING:tensorflow:From C:\\Users\\DELL\\AppData\\Roaming\\Python\\Python311\\site-packages\\keras\\src\\backend.py:873: The name tf.get_default_graph is deprecated. Please use tf.compat.v1.get_default_graph instead.\n",
      "\n"
     ]
    },
    {
     "name": "stderr",
     "output_type": "stream",
     "text": [
      "WARNING:absl:`lr` is deprecated in Keras optimizer, please use `learning_rate` or use the legacy optimizer, e.g.,tf.keras.optimizers.legacy.Adam.\n"
     ]
    },
    {
     "name": "stdout",
     "output_type": "stream",
     "text": [
      "Epoch 1/10\n",
      "WARNING:tensorflow:From C:\\Users\\DELL\\AppData\\Roaming\\Python\\Python311\\site-packages\\keras\\src\\utils\\tf_utils.py:492: The name tf.ragged.RaggedTensorValue is deprecated. Please use tf.compat.v1.ragged.RaggedTensorValue instead.\n",
      "\n"
     ]
    },
    {
     "name": "stderr",
     "output_type": "stream",
     "text": [
      "WARNING:tensorflow:From C:\\Users\\DELL\\AppData\\Roaming\\Python\\Python311\\site-packages\\keras\\src\\utils\\tf_utils.py:492: The name tf.ragged.RaggedTensorValue is deprecated. Please use tf.compat.v1.ragged.RaggedTensorValue instead.\n",
      "\n"
     ]
    },
    {
     "name": "stdout",
     "output_type": "stream",
     "text": [
      "WARNING:tensorflow:From C:\\Users\\DELL\\AppData\\Roaming\\Python\\Python311\\site-packages\\keras\\src\\engine\\base_layer_utils.py:384: The name tf.executing_eagerly_outside_functions is deprecated. Please use tf.compat.v1.executing_eagerly_outside_functions instead.\n",
      "\n"
     ]
    },
    {
     "name": "stderr",
     "output_type": "stream",
     "text": [
      "WARNING:tensorflow:From C:\\Users\\DELL\\AppData\\Roaming\\Python\\Python311\\site-packages\\keras\\src\\engine\\base_layer_utils.py:384: The name tf.executing_eagerly_outside_functions is deprecated. Please use tf.compat.v1.executing_eagerly_outside_functions instead.\n",
      "\n"
     ]
    },
    {
     "name": "stdout",
     "output_type": "stream",
     "text": [
      "10903/10903 [==============================] - 13s 1ms/step - loss: 0.3640 - accuracy: 0.8408\n",
      "Epoch 2/10\n",
      "10903/10903 [==============================] - 12s 1ms/step - loss: 0.2964 - accuracy: 0.8784\n",
      "Epoch 3/10\n",
      "10903/10903 [==============================] - 12s 1ms/step - loss: 0.2736 - accuracy: 0.8903\n",
      "Epoch 4/10\n",
      "10903/10903 [==============================] - 12s 1ms/step - loss: 0.2647 - accuracy: 0.8946\n",
      "Epoch 5/10\n",
      "10903/10903 [==============================] - 12s 1ms/step - loss: 0.2590 - accuracy: 0.8980\n",
      "Epoch 6/10\n",
      "10903/10903 [==============================] - 12s 1ms/step - loss: 0.2528 - accuracy: 0.9008\n",
      "Epoch 7/10\n",
      "10903/10903 [==============================] - 12s 1ms/step - loss: 0.2484 - accuracy: 0.9034\n",
      "Epoch 8/10\n",
      "10903/10903 [==============================] - 12s 1ms/step - loss: 0.2434 - accuracy: 0.9061\n",
      "Epoch 9/10\n",
      "10903/10903 [==============================] - 12s 1ms/step - loss: 0.2402 - accuracy: 0.9081\n",
      "Epoch 10/10\n",
      "10903/10903 [==============================] - 12s 1ms/step - loss: 0.2378 - accuracy: 0.9092\n"
     ]
    }
   ],
   "source": [
    "scaler = StandardScaler()\n",
    "X_train_scaled = scaler.fit_transform(x_train2)\n",
    "X_test_scaled = scaler.transform(x_test2)\n",
    "tf.random.set_seed(42)\n",
    "\n",
    "\n",
    "\n",
    "model_2 = tf.keras.Sequential([\n",
    "  tf.keras.layers.Dense(20,activation = 'relu'),\n",
    "  tf.keras.layers.Dense(6,activation = 'relu'),\n",
    "  tf.keras.layers.Dense(6,activation = 'relu'),\n",
    "  tf.keras.layers.Dense(1,activation = 'sigmoid')                            \n",
    "])\n",
    "\n",
    "\n",
    "model_2.compile(loss = 'binary_crossentropy',\n",
    "                optimizer = tf.keras.optimizers.Adam(lr=0.001),\n",
    "                metrics = ['accuracy'])\n",
    "\n",
    "\n",
    "history_2 = model_2.fit(x_train2,y_train2,epochs = 10)"
   ]
  },
  {
   "cell_type": "code",
   "execution_count": 31,
   "metadata": {},
   "outputs": [
    {
     "name": "stdout",
     "output_type": "stream",
     "text": [
      "3635/3635 [==============================] - 4s 936us/step - loss: 0.2302 - accuracy: 0.9121\n"
     ]
    },
    {
     "data": {
      "text/plain": [
       "[0.23015113174915314, 0.9121021032333374]"
      ]
     },
     "execution_count": 31,
     "metadata": {},
     "output_type": "execute_result"
    }
   ],
   "source": [
    "model_2.evaluate(x_test2,y_test2)"
   ]
  },
  {
   "cell_type": "code",
   "execution_count": 32,
   "metadata": {},
   "outputs": [
    {
     "name": "stdout",
     "output_type": "stream",
     "text": [
      "10903/10903 [==============================] - 10s 881us/step\n",
      "3635/3635 [==============================] - 3s 847us/step\n",
      "              precision    recall  f1-score   support\n",
      "\n",
      "           0       0.89      0.94      0.91    174285\n",
      "           1       0.93      0.89      0.91    174595\n",
      "\n",
      "    accuracy                           0.91    348880\n",
      "   macro avg       0.91      0.91      0.91    348880\n",
      "weighted avg       0.91      0.91      0.91    348880\n",
      "\n",
      "              precision    recall  f1-score   support\n",
      "\n",
      "           0       0.89      0.94      0.91     58302\n",
      "           1       0.93      0.89      0.91     57992\n",
      "\n",
      "    accuracy                           0.91    116294\n",
      "   macro avg       0.91      0.91      0.91    116294\n",
      "weighted avg       0.91      0.91      0.91    116294\n",
      "\n"
     ]
    }
   ],
   "source": [
    "ypred_train7 = model_2.predict(x_train2)\n",
    "y_pred_test7 = model_2.predict(x_test2)\n",
    "\n",
    "y_pred_test7 = (y_pred_test7 > 0.5)\n",
    "ypred_train7 = (ypred_train7 > 0.5)\n",
    "\n",
    "print(classification_report(y_train2,ypred_train7))\n",
    "print(classification_report(y_test2,y_pred_test7))"
   ]
  },
  {
   "cell_type": "code",
   "execution_count": 33,
   "metadata": {},
   "outputs": [
    {
     "name": "stdout",
     "output_type": "stream",
     "text": [
      "3635/3635 [==============================] - 3s 904us/step\n"
     ]
    },
    {
     "data": {
      "image/png": "[encoded data removed]",
      "text/plain": [
       "<Figure size 640x480 with 1 Axes>"
      ]
     },
     "metadata": {},
     "output_type": "display_data"
    }
   ],
   "source": [
    "# cross_val_scores = cross_val_score(model_2, x_train2, y_train2, cv=5)\n",
    "# print(\"Cross-validation scores:\", cross_val_scores)\n",
    "# print(\"Average cross-validation score:\", np.mean(cross_val_scores))\n",
    "\n",
    "y_proba_test = model_2.predict(x_test2).flatten()\n",
    "\n",
    "fpr, tpr, thresholds = roc_curve(y_test2, y_proba_test)\n",
    "\n",
    "plt.plot(fpr, tpr, label='ROC Curve')\n",
    "plt.xlabel('False Positive Rate')\n",
    "plt.ylabel('True Positive Rate')\n",
    "plt.title('ROC Curve with AUC = {:.2f}'.format(roc_auc_score(y_test2, y_proba_test)))\n",
    "plt.legend(loc='lower right')\n",
    "plt.grid(True)\n",
    "plt.show()"
   ]
  },
  {
   "cell_type": "markdown",
   "metadata": {},
   "source": [
    "## inne próby sieci neuronowych "
   ]
  },
  {
   "cell_type": "code",
   "execution_count": 34,
   "metadata": {},
   "outputs": [
    {
     "name": "stderr",
     "output_type": "stream",
     "text": [
      "WARNING:absl:`lr` is deprecated in Keras optimizer, please use `learning_rate` or use the legacy optimizer, e.g.,tf.keras.optimizers.legacy.Adam.\n"
     ]
    },
    {
     "name": "stdout",
     "output_type": "stream",
     "text": [
      "Epoch 1/100\n",
      "10903/10903 [==============================] - 13s 1ms/step - loss: 0.3525 - accuracy: 0.8467\n",
      "Epoch 2/100\n",
      "10903/10903 [==============================] - 12s 1ms/step - loss: 0.2639 - accuracy: 0.8957\n",
      "Epoch 3/100\n",
      "10903/10903 [==============================] - 12s 1ms/step - loss: 0.2346 - accuracy: 0.9105\n",
      "Epoch 4/100\n",
      "10903/10903 [==============================] - 12s 1ms/step - loss: 0.2216 - accuracy: 0.9163\n",
      "Epoch 5/100\n",
      "10903/10903 [==============================] - 12s 1ms/step - loss: 0.2163 - accuracy: 0.9183\n",
      "Epoch 6/100\n",
      "10903/10903 [==============================] - 12s 1ms/step - loss: 0.2121 - accuracy: 0.9203\n",
      "Epoch 7/100\n",
      "10903/10903 [==============================] - 12s 1ms/step - loss: 0.2105 - accuracy: 0.9211\n",
      "Epoch 8/100\n",
      "10903/10903 [==============================] - 12s 1ms/step - loss: 0.2076 - accuracy: 0.9219\n",
      "Epoch 9/100\n",
      "10903/10903 [==============================] - 12s 1ms/step - loss: 0.2067 - accuracy: 0.9224\n",
      "Epoch 10/100\n",
      "10903/10903 [==============================] - 12s 1ms/step - loss: 0.2055 - accuracy: 0.9229\n",
      "Epoch 11/100\n",
      "10903/10903 [==============================] - 12s 1ms/step - loss: 0.2049 - accuracy: 0.9230\n",
      "Epoch 12/100\n",
      "10903/10903 [==============================] - 12s 1ms/step - loss: 0.2041 - accuracy: 0.9237\n",
      "Epoch 13/100\n",
      "10903/10903 [==============================] - 12s 1ms/step - loss: 0.2030 - accuracy: 0.9240\n",
      "Epoch 14/100\n",
      "10903/10903 [==============================] - 13s 1ms/step - loss: 0.2021 - accuracy: 0.9242\n",
      "Epoch 15/100\n",
      "10903/10903 [==============================] - 13s 1ms/step - loss: 0.2013 - accuracy: 0.9240\n",
      "Epoch 16/100\n",
      "10903/10903 [==============================] - 13s 1ms/step - loss: 0.1999 - accuracy: 0.9250\n",
      "Epoch 17/100\n",
      "10903/10903 [==============================] - 13s 1ms/step - loss: 0.1988 - accuracy: 0.9250\n",
      "Epoch 18/100\n",
      "10903/10903 [==============================] - 13s 1ms/step - loss: 0.1983 - accuracy: 0.9254\n",
      "Epoch 19/100\n",
      "10903/10903 [==============================] - 13s 1ms/step - loss: 0.1975 - accuracy: 0.9256\n",
      "Epoch 20/100\n",
      "10903/10903 [==============================] - 13s 1ms/step - loss: 0.1967 - accuracy: 0.9259\n",
      "Epoch 21/100\n",
      "10903/10903 [==============================] - 13s 1ms/step - loss: 0.1963 - accuracy: 0.9263\n",
      "Epoch 22/100\n",
      "10903/10903 [==============================] - 13s 1ms/step - loss: 0.1956 - accuracy: 0.9265\n",
      "Epoch 23/100\n",
      "10903/10903 [==============================] - 13s 1ms/step - loss: 0.1949 - accuracy: 0.9267\n",
      "Epoch 24/100\n",
      "10903/10903 [==============================] - 13s 1ms/step - loss: 0.1940 - accuracy: 0.9272\n",
      "Epoch 25/100\n",
      "10903/10903 [==============================] - 13s 1ms/step - loss: 0.1933 - accuracy: 0.9272\n",
      "Epoch 26/100\n",
      "10903/10903 [==============================] - 13s 1ms/step - loss: 0.1925 - accuracy: 0.9275\n",
      "Epoch 27/100\n",
      "10903/10903 [==============================] - 13s 1ms/step - loss: 0.1918 - accuracy: 0.9279\n",
      "Epoch 28/100\n",
      "10903/10903 [==============================] - 13s 1ms/step - loss: 0.1919 - accuracy: 0.9278\n",
      "Epoch 29/100\n",
      "10903/10903 [==============================] - 13s 1ms/step - loss: 0.1915 - accuracy: 0.9279\n",
      "Epoch 30/100\n",
      "10903/10903 [==============================] - 13s 1ms/step - loss: 0.1906 - accuracy: 0.9284\n",
      "Epoch 31/100\n",
      "10903/10903 [==============================] - 13s 1ms/step - loss: 0.1901 - accuracy: 0.9286\n",
      "Epoch 32/100\n",
      "10903/10903 [==============================] - 13s 1ms/step - loss: 0.1895 - accuracy: 0.9289\n",
      "Epoch 33/100\n",
      "10903/10903 [==============================] - 12s 1ms/step - loss: 0.1891 - accuracy: 0.9288\n",
      "Epoch 34/100\n",
      "10903/10903 [==============================] - 13s 1ms/step - loss: 0.1890 - accuracy: 0.9289\n",
      "Epoch 35/100\n",
      "10903/10903 [==============================] - 12s 1ms/step - loss: 0.1882 - accuracy: 0.9290\n",
      "Epoch 36/100\n",
      "10903/10903 [==============================] - 13s 1ms/step - loss: 0.1885 - accuracy: 0.9289\n",
      "Epoch 37/100\n",
      "10903/10903 [==============================] - 13s 1ms/step - loss: 0.1877 - accuracy: 0.9293\n",
      "Epoch 38/100\n",
      "10903/10903 [==============================] - 13s 1ms/step - loss: 0.1878 - accuracy: 0.9289\n",
      "Epoch 39/100\n",
      "10903/10903 [==============================] - 13s 1ms/step - loss: 0.1874 - accuracy: 0.9293\n",
      "Epoch 40/100\n",
      "10903/10903 [==============================] - 13s 1ms/step - loss: 0.1870 - accuracy: 0.9296\n",
      "Epoch 41/100\n",
      "10903/10903 [==============================] - 13s 1ms/step - loss: 0.1860 - accuracy: 0.9298\n",
      "Epoch 42/100\n",
      "10903/10903 [==============================] - 13s 1ms/step - loss: 0.1865 - accuracy: 0.9294\n",
      "Epoch 43/100\n",
      "10903/10903 [==============================] - 13s 1ms/step - loss: 0.1861 - accuracy: 0.9298\n",
      "Epoch 44/100\n",
      "10903/10903 [==============================] - 13s 1ms/step - loss: 0.1859 - accuracy: 0.9298\n",
      "Epoch 45/100\n",
      "10903/10903 [==============================] - 13s 1ms/step - loss: 0.1861 - accuracy: 0.9296\n",
      "Epoch 46/100\n",
      "10903/10903 [==============================] - 13s 1ms/step - loss: 0.1857 - accuracy: 0.9297\n",
      "Epoch 47/100\n",
      "10903/10903 [==============================] - 13s 1ms/step - loss: 0.1858 - accuracy: 0.9296\n",
      "Epoch 48/100\n",
      "10903/10903 [==============================] - 13s 1ms/step - loss: 0.1853 - accuracy: 0.9300\n",
      "Epoch 49/100\n",
      "10903/10903 [==============================] - 13s 1ms/step - loss: 0.1854 - accuracy: 0.9299\n",
      "Epoch 50/100\n",
      "10903/10903 [==============================] - 13s 1ms/step - loss: 0.1854 - accuracy: 0.9297\n",
      "Epoch 51/100\n",
      "10903/10903 [==============================] - 13s 1ms/step - loss: 0.1848 - accuracy: 0.9299\n",
      "Epoch 52/100\n",
      "10903/10903 [==============================] - 13s 1ms/step - loss: 0.1846 - accuracy: 0.9302\n",
      "Epoch 53/100\n",
      "10903/10903 [==============================] - 13s 1ms/step - loss: 0.1846 - accuracy: 0.9300\n",
      "Epoch 54/100\n",
      "10903/10903 [==============================] - 13s 1ms/step - loss: 0.1845 - accuracy: 0.9299\n",
      "Epoch 55/100\n",
      "10903/10903 [==============================] - 13s 1ms/step - loss: 0.1837 - accuracy: 0.9302\n",
      "Epoch 56/100\n",
      "10903/10903 [==============================] - 13s 1ms/step - loss: 0.1836 - accuracy: 0.9303\n",
      "Epoch 57/100\n",
      "10903/10903 [==============================] - 13s 1ms/step - loss: 0.1838 - accuracy: 0.9300\n",
      "Epoch 58/100\n",
      "10903/10903 [==============================] - 13s 1ms/step - loss: 0.1836 - accuracy: 0.9302\n",
      "Epoch 59/100\n",
      "10903/10903 [==============================] - 13s 1ms/step - loss: 0.1835 - accuracy: 0.9301\n",
      "Epoch 60/100\n",
      "10903/10903 [==============================] - 13s 1ms/step - loss: 0.1833 - accuracy: 0.9302\n",
      "Epoch 61/100\n",
      "10903/10903 [==============================] - 13s 1ms/step - loss: 0.1832 - accuracy: 0.9303\n",
      "Epoch 62/100\n",
      "10903/10903 [==============================] - 13s 1ms/step - loss: 0.1833 - accuracy: 0.9303\n",
      "Epoch 63/100\n",
      "10903/10903 [==============================] - 13s 1ms/step - loss: 0.1830 - accuracy: 0.9304\n",
      "Epoch 64/100\n",
      "10903/10903 [==============================] - 13s 1ms/step - loss: 0.1831 - accuracy: 0.9305\n",
      "Epoch 65/100\n",
      "10903/10903 [==============================] - 13s 1ms/step - loss: 0.1826 - accuracy: 0.9304\n",
      "Epoch 66/100\n",
      "10903/10903 [==============================] - 13s 1ms/step - loss: 0.1827 - accuracy: 0.9306\n",
      "Epoch 67/100\n",
      "10903/10903 [==============================] - 12s 1ms/step - loss: 0.1824 - accuracy: 0.9305\n",
      "Epoch 68/100\n",
      "10903/10903 [==============================] - 12s 1ms/step - loss: 0.1831 - accuracy: 0.9304\n",
      "Epoch 69/100\n",
      "10903/10903 [==============================] - 12s 1ms/step - loss: 0.1825 - accuracy: 0.9307\n",
      "Epoch 70/100\n",
      "10903/10903 [==============================] - 12s 1ms/step - loss: 0.1823 - accuracy: 0.9307\n",
      "Epoch 71/100\n",
      "10903/10903 [==============================] - 12s 1ms/step - loss: 0.1825 - accuracy: 0.9305\n",
      "Epoch 72/100\n",
      "10903/10903 [==============================] - 12s 1ms/step - loss: 0.1821 - accuracy: 0.9306\n",
      "Epoch 73/100\n",
      "10903/10903 [==============================] - 12s 1ms/step - loss: 0.1827 - accuracy: 0.9306\n",
      "Epoch 74/100\n",
      "10903/10903 [==============================] - 12s 1ms/step - loss: 0.1820 - accuracy: 0.9308\n",
      "Epoch 75/100\n",
      "10903/10903 [==============================] - 12s 1ms/step - loss: 0.1825 - accuracy: 0.9305\n",
      "Epoch 76/100\n",
      "10903/10903 [==============================] - 12s 1ms/step - loss: 0.1818 - accuracy: 0.9309\n",
      "Epoch 77/100\n",
      "10903/10903 [==============================] - 12s 1ms/step - loss: 0.1817 - accuracy: 0.9309\n",
      "Epoch 78/100\n",
      "10903/10903 [==============================] - 12s 1ms/step - loss: 0.1822 - accuracy: 0.9306\n",
      "Epoch 79/100\n",
      "10903/10903 [==============================] - 12s 1ms/step - loss: 0.1817 - accuracy: 0.9309\n",
      "Epoch 80/100\n",
      "10903/10903 [==============================] - 12s 1ms/step - loss: 0.1814 - accuracy: 0.9309\n",
      "Epoch 81/100\n",
      "10903/10903 [==============================] - 12s 1ms/step - loss: 0.1813 - accuracy: 0.9310\n",
      "Epoch 82/100\n",
      "10903/10903 [==============================] - 12s 1ms/step - loss: 0.1809 - accuracy: 0.9313\n",
      "Epoch 83/100\n",
      "10903/10903 [==============================] - 12s 1ms/step - loss: 0.1812 - accuracy: 0.9311\n",
      "Epoch 84/100\n",
      "10903/10903 [==============================] - 12s 1ms/step - loss: 0.1815 - accuracy: 0.9310\n",
      "Epoch 85/100\n",
      "10903/10903 [==============================] - 12s 1ms/step - loss: 0.1811 - accuracy: 0.9311\n",
      "Epoch 86/100\n",
      "10903/10903 [==============================] - 12s 1ms/step - loss: 0.1814 - accuracy: 0.9310\n",
      "Epoch 87/100\n",
      "10903/10903 [==============================] - 12s 1ms/step - loss: 0.1815 - accuracy: 0.9310\n",
      "Epoch 88/100\n",
      "10903/10903 [==============================] - 12s 1ms/step - loss: 0.1809 - accuracy: 0.9311\n",
      "Epoch 89/100\n",
      "10903/10903 [==============================] - 12s 1ms/step - loss: 0.1810 - accuracy: 0.9311\n",
      "Epoch 90/100\n",
      "10903/10903 [==============================] - 12s 1ms/step - loss: 0.1810 - accuracy: 0.9313\n",
      "Epoch 91/100\n",
      "10903/10903 [==============================] - 12s 1ms/step - loss: 0.1814 - accuracy: 0.9310\n",
      "Epoch 92/100\n",
      "10903/10903 [==============================] - 12s 1ms/step - loss: 0.1811 - accuracy: 0.9311\n",
      "Epoch 93/100\n",
      "10903/10903 [==============================] - 12s 1ms/step - loss: 0.1808 - accuracy: 0.9312\n",
      "Epoch 94/100\n",
      "10903/10903 [==============================] - 12s 1ms/step - loss: 0.1810 - accuracy: 0.9311\n",
      "Epoch 95/100\n",
      "10903/10903 [==============================] - 12s 1ms/step - loss: 0.1810 - accuracy: 0.9312\n",
      "Epoch 96/100\n",
      "10903/10903 [==============================] - 12s 1ms/step - loss: 0.1805 - accuracy: 0.9315\n",
      "Epoch 97/100\n",
      "10903/10903 [==============================] - 12s 1ms/step - loss: 0.1807 - accuracy: 0.9310\n",
      "Epoch 98/100\n",
      "10903/10903 [==============================] - 12s 1ms/step - loss: 0.1808 - accuracy: 0.9312\n",
      "Epoch 99/100\n",
      "10903/10903 [==============================] - 12s 1ms/step - loss: 0.1804 - accuracy: 0.9312\n",
      "Epoch 100/100\n",
      "10903/10903 [==============================] - 12s 1ms/step - loss: 0.1806 - accuracy: 0.9313\n"
     ]
    }
   ],
   "source": [
    "\n",
    "tf.random.set_seed(42)\n",
    "\n",
    "\n",
    "\n",
    "model_21 = tf.keras.Sequential([\n",
    "  tf.keras.layers.Dense(20,activation = 'relu'),\n",
    "  tf.keras.layers.Dense(6,activation = 'relu'),\n",
    "  tf.keras.layers.Dense(6,activation = 'relu'),\n",
    "  tf.keras.layers.Dense(1,activation = 'sigmoid')                            \n",
    "])\n",
    "\n",
    "\n",
    "model_21.compile(loss = 'binary_crossentropy',\n",
    "                optimizer = tf.keras.optimizers.Adam(lr=0.001),\n",
    "                metrics = ['accuracy'])\n",
    "\n",
    "\n",
    "history_2 = model_21.fit(x_train2,y_train2,epochs = 100)"
   ]
  },
  {
   "cell_type": "code",
   "execution_count": 35,
   "metadata": {},
   "outputs": [
    {
     "name": "stdout",
     "output_type": "stream",
     "text": [
      "3635/3635 [==============================] - 3s 906us/step - loss: 0.1825 - accuracy: 0.9298\n"
     ]
    },
    {
     "data": {
      "text/plain": [
       "[0.18251898884773254, 0.929781436920166]"
      ]
     },
     "execution_count": 35,
     "metadata": {},
     "output_type": "execute_result"
    }
   ],
   "source": [
    "model_21.evaluate(x_test2,y_test2)"
   ]
  },
  {
   "cell_type": "code",
   "execution_count": 36,
   "metadata": {},
   "outputs": [
    {
     "name": "stdout",
     "output_type": "stream",
     "text": [
      "10903/10903 [==============================] - 9s 811us/step\n",
      "3635/3635 [==============================] - 3s 786us/step\n",
      "              precision    recall  f1-score   support\n",
      "\n",
      "           0       0.90      0.97      0.93    174285\n",
      "           1       0.97      0.89      0.93    174595\n",
      "\n",
      "    accuracy                           0.93    348880\n",
      "   macro avg       0.93      0.93      0.93    348880\n",
      "weighted avg       0.93      0.93      0.93    348880\n",
      "\n",
      "              precision    recall  f1-score   support\n",
      "\n",
      "           0       0.90      0.97      0.93     58302\n",
      "           1       0.97      0.89      0.93     57992\n",
      "\n",
      "    accuracy                           0.93    116294\n",
      "   macro avg       0.93      0.93      0.93    116294\n",
      "weighted avg       0.93      0.93      0.93    116294\n",
      "\n"
     ]
    }
   ],
   "source": [
    "ypred_train8 = model_21.predict(x_train2)\n",
    "y_pred_test8 = model_21.predict(x_test2)\n",
    "\n",
    "y_pred_test8 = (y_pred_test8 > 0.5)\n",
    "ypred_train8 = (ypred_train8 > 0.5)\n",
    "\n",
    "print(classification_report(y_train2,ypred_train8))\n",
    "print(classification_report(y_test2,y_pred_test8))"
   ]
  },
  {
   "cell_type": "code",
   "execution_count": 37,
   "metadata": {},
   "outputs": [
    {
     "name": "stdout",
     "output_type": "stream",
     "text": [
      "3635/3635 [==============================] - 3s 818us/step\n"
     ]
    },
    {
     "data": {
      "image/png": "[encoded data removed]",
      "text/plain": [
       "<Figure size 640x480 with 1 Axes>"
      ]
     },
     "metadata": {},
     "output_type": "display_data"
    }
   ],
   "source": [
    "# cross_val_scores = cross_val_score(model_21, x_train2, y_train2, cv=5)\n",
    "# print(\"Cross-validation scores:\", cross_val_scores)\n",
    "# print(\"Average cross-validation score:\", np.mean(cross_val_scores))\n",
    "y_proba_test = model_21.predict(x_test2).flatten()\n",
    "\n",
    "fpr, tpr, thresholds = roc_curve(y_test2, y_proba_test)\n",
    "\n",
    "plt.plot(fpr, tpr, label='ROC Curve')\n",
    "plt.xlabel('False Positive Rate')\n",
    "plt.ylabel('True Positive Rate')\n",
    "plt.title('ROC Curve with AUC = {:.2f}'.format(roc_auc_score(y_test2, y_proba_test)))\n",
    "plt.legend(loc='lower right')\n",
    "plt.grid(True)\n",
    "plt.show()"
   ]
  },
  {
   "cell_type": "markdown",
   "metadata": {},
   "source": [
    "## inna proba "
   ]
  },
  {
   "cell_type": "code",
   "execution_count": 38,
   "metadata": {},
   "outputs": [
    {
     "name": "stderr",
     "output_type": "stream",
     "text": [
      "WARNING:absl:`lr` is deprecated in Keras optimizer, please use `learning_rate` or use the legacy optimizer, e.g.,tf.keras.optimizers.legacy.Adam.\n"
     ]
    },
    {
     "name": "stdout",
     "output_type": "stream",
     "text": [
      "Epoch 1/100\n",
      "10903/10903 [==============================] - 13s 1ms/step - loss: 0.3243 - accuracy: 0.8631\n",
      "Epoch 2/100\n",
      "10903/10903 [==============================] - 12s 1ms/step - loss: 0.2483 - accuracy: 0.9032\n",
      "Epoch 3/100\n",
      "10903/10903 [==============================] - 11s 1ms/step - loss: 0.2267 - accuracy: 0.9136\n",
      "Epoch 4/100\n",
      "10903/10903 [==============================] - 11s 1ms/step - loss: 0.2157 - accuracy: 0.9184\n",
      "Epoch 5/100\n",
      "10903/10903 [==============================] - 11s 1ms/step - loss: 0.2085 - accuracy: 0.9213\n",
      "Epoch 6/100\n",
      "10903/10903 [==============================] - 12s 1ms/step - loss: 0.2022 - accuracy: 0.9235\n",
      "Epoch 7/100\n",
      "10903/10903 [==============================] - 12s 1ms/step - loss: 0.1984 - accuracy: 0.9249\n",
      "Epoch 8/100\n",
      "10903/10903 [==============================] - 12s 1ms/step - loss: 0.1947 - accuracy: 0.9258\n",
      "Epoch 9/100\n",
      "10903/10903 [==============================] - 12s 1ms/step - loss: 0.1909 - accuracy: 0.9274\n",
      "Epoch 10/100\n",
      "10903/10903 [==============================] - 12s 1ms/step - loss: 0.1900 - accuracy: 0.9277\n",
      "Epoch 11/100\n",
      "10903/10903 [==============================] - 12s 1ms/step - loss: 0.1874 - accuracy: 0.9287\n",
      "Epoch 12/100\n",
      "10903/10903 [==============================] - 12s 1ms/step - loss: 0.1856 - accuracy: 0.9292\n",
      "Epoch 13/100\n",
      "10903/10903 [==============================] - 12s 1ms/step - loss: 0.1833 - accuracy: 0.9302\n",
      "Epoch 14/100\n",
      "10903/10903 [==============================] - 12s 1ms/step - loss: 0.1824 - accuracy: 0.9305\n",
      "Epoch 15/100\n",
      "10903/10903 [==============================] - 12s 1ms/step - loss: 0.1804 - accuracy: 0.9311\n",
      "Epoch 16/100\n",
      "10903/10903 [==============================] - 12s 1ms/step - loss: 0.1797 - accuracy: 0.9314\n",
      "Epoch 17/100\n",
      "10903/10903 [==============================] - 12s 1ms/step - loss: 0.1785 - accuracy: 0.9319\n",
      "Epoch 18/100\n",
      "10903/10903 [==============================] - 12s 1ms/step - loss: 0.1777 - accuracy: 0.9322\n",
      "Epoch 19/100\n",
      "10903/10903 [==============================] - 12s 1ms/step - loss: 0.1768 - accuracy: 0.9328\n",
      "Epoch 20/100\n",
      "10903/10903 [==============================] - 12s 1ms/step - loss: 0.1757 - accuracy: 0.9334\n",
      "Epoch 21/100\n",
      "10903/10903 [==============================] - 12s 1ms/step - loss: 0.1750 - accuracy: 0.9333\n",
      "Epoch 22/100\n",
      "10903/10903 [==============================] - 12s 1ms/step - loss: 0.1738 - accuracy: 0.9339\n",
      "Epoch 23/100\n",
      "10903/10903 [==============================] - 12s 1ms/step - loss: 0.1729 - accuracy: 0.9342\n",
      "Epoch 24/100\n",
      "10903/10903 [==============================] - 12s 1ms/step - loss: 0.1719 - accuracy: 0.9345\n",
      "Epoch 25/100\n",
      "10903/10903 [==============================] - 12s 1ms/step - loss: 0.1719 - accuracy: 0.9345\n",
      "Epoch 26/100\n",
      "10903/10903 [==============================] - 12s 1ms/step - loss: 0.1710 - accuracy: 0.9350\n",
      "Epoch 27/100\n",
      "10903/10903 [==============================] - 12s 1ms/step - loss: 0.1707 - accuracy: 0.9350\n",
      "Epoch 28/100\n",
      "10903/10903 [==============================] - 12s 1ms/step - loss: 0.1709 - accuracy: 0.9350\n",
      "Epoch 29/100\n",
      "10903/10903 [==============================] - 12s 1ms/step - loss: 0.1693 - accuracy: 0.9353\n",
      "Epoch 30/100\n",
      "10903/10903 [==============================] - 12s 1ms/step - loss: 0.1687 - accuracy: 0.9357\n",
      "Epoch 31/100\n",
      "10903/10903 [==============================] - 12s 1ms/step - loss: 0.1690 - accuracy: 0.9357\n",
      "Epoch 32/100\n",
      "10903/10903 [==============================] - 12s 1ms/step - loss: 0.1680 - accuracy: 0.9358\n",
      "Epoch 33/100\n",
      "10903/10903 [==============================] - 12s 1ms/step - loss: 0.1680 - accuracy: 0.9357\n",
      "Epoch 34/100\n",
      "10903/10903 [==============================] - 12s 1ms/step - loss: 0.1674 - accuracy: 0.9360\n",
      "Epoch 35/100\n",
      "10903/10903 [==============================] - 12s 1ms/step - loss: 0.1664 - accuracy: 0.9364\n",
      "Epoch 36/100\n",
      "10903/10903 [==============================] - 12s 1ms/step - loss: 0.1667 - accuracy: 0.9362\n",
      "Epoch 37/100\n",
      "10903/10903 [==============================] - 12s 1ms/step - loss: 0.1660 - accuracy: 0.9367\n",
      "Epoch 38/100\n",
      "10903/10903 [==============================] - 12s 1ms/step - loss: 0.1660 - accuracy: 0.9367\n",
      "Epoch 39/100\n",
      "10903/10903 [==============================] - 12s 1ms/step - loss: 0.1655 - accuracy: 0.9368\n",
      "Epoch 40/100\n",
      "10903/10903 [==============================] - 12s 1ms/step - loss: 0.1656 - accuracy: 0.9367\n",
      "Epoch 41/100\n",
      "10903/10903 [==============================] - 12s 1ms/step - loss: 0.1645 - accuracy: 0.9374\n",
      "Epoch 42/100\n",
      "10903/10903 [==============================] - 12s 1ms/step - loss: 0.1647 - accuracy: 0.9372\n",
      "Epoch 43/100\n",
      "10903/10903 [==============================] - 12s 1ms/step - loss: 0.1643 - accuracy: 0.9374\n",
      "Epoch 44/100\n",
      "10903/10903 [==============================] - 12s 1ms/step - loss: 0.1642 - accuracy: 0.9374\n",
      "Epoch 45/100\n",
      "10903/10903 [==============================] - 12s 1ms/step - loss: 0.1640 - accuracy: 0.9375\n",
      "Epoch 46/100\n",
      "10903/10903 [==============================] - 12s 1ms/step - loss: 0.1637 - accuracy: 0.9376\n",
      "Epoch 47/100\n",
      "10903/10903 [==============================] - 12s 1ms/step - loss: 0.1633 - accuracy: 0.9378\n",
      "Epoch 48/100\n",
      "10903/10903 [==============================] - 12s 1ms/step - loss: 0.1628 - accuracy: 0.9379\n",
      "Epoch 49/100\n",
      "10903/10903 [==============================] - 13s 1ms/step - loss: 0.1632 - accuracy: 0.9376\n",
      "Epoch 50/100\n",
      "10903/10903 [==============================] - 12s 1ms/step - loss: 0.1628 - accuracy: 0.9377\n",
      "Epoch 51/100\n",
      "10903/10903 [==============================] - 12s 1ms/step - loss: 0.1623 - accuracy: 0.9382\n",
      "Epoch 52/100\n",
      "10903/10903 [==============================] - 11s 1ms/step - loss: 0.1623 - accuracy: 0.9378\n",
      "Epoch 53/100\n",
      "10903/10903 [==============================] - 11s 1ms/step - loss: 0.1615 - accuracy: 0.9385\n",
      "Epoch 54/100\n",
      "10903/10903 [==============================] - 11s 1ms/step - loss: 0.1610 - accuracy: 0.9385\n",
      "Epoch 55/100\n",
      "10903/10903 [==============================] - 11s 1ms/step - loss: 0.1614 - accuracy: 0.9383\n",
      "Epoch 56/100\n",
      "10903/10903 [==============================] - 11s 1ms/step - loss: 0.1611 - accuracy: 0.9386\n",
      "Epoch 57/100\n",
      "10903/10903 [==============================] - 11s 1ms/step - loss: 0.1612 - accuracy: 0.9386\n",
      "Epoch 58/100\n",
      "10903/10903 [==============================] - 11s 1ms/step - loss: 0.1612 - accuracy: 0.9384\n",
      "Epoch 59/100\n",
      "10903/10903 [==============================] - 11s 1ms/step - loss: 0.1608 - accuracy: 0.9386\n",
      "Epoch 60/100\n",
      "10903/10903 [==============================] - 11s 1ms/step - loss: 0.1609 - accuracy: 0.9386\n",
      "Epoch 61/100\n",
      "10903/10903 [==============================] - 11s 1ms/step - loss: 0.1599 - accuracy: 0.9388\n",
      "Epoch 62/100\n",
      "10903/10903 [==============================] - 11s 1ms/step - loss: 0.1602 - accuracy: 0.9386\n",
      "Epoch 63/100\n",
      "10903/10903 [==============================] - 12s 1ms/step - loss: 0.1604 - accuracy: 0.9388\n",
      "Epoch 64/100\n",
      "10903/10903 [==============================] - 12s 1ms/step - loss: 0.1597 - accuracy: 0.9390\n",
      "Epoch 65/100\n",
      "10903/10903 [==============================] - 12s 1ms/step - loss: 0.1600 - accuracy: 0.9389\n",
      "Epoch 66/100\n",
      "10903/10903 [==============================] - 12s 1ms/step - loss: 0.1590 - accuracy: 0.9393\n",
      "Epoch 67/100\n",
      "10903/10903 [==============================] - 12s 1ms/step - loss: 0.1591 - accuracy: 0.9392\n",
      "Epoch 68/100\n",
      "10903/10903 [==============================] - 12s 1ms/step - loss: 0.1592 - accuracy: 0.9392\n",
      "Epoch 69/100\n",
      "10903/10903 [==============================] - 12s 1ms/step - loss: 0.1589 - accuracy: 0.9395\n",
      "Epoch 70/100\n",
      "10903/10903 [==============================] - 12s 1ms/step - loss: 0.1589 - accuracy: 0.9392\n",
      "Epoch 71/100\n",
      "10903/10903 [==============================] - 12s 1ms/step - loss: 0.1587 - accuracy: 0.9392\n",
      "Epoch 72/100\n",
      "10903/10903 [==============================] - 12s 1ms/step - loss: 0.1586 - accuracy: 0.9392\n",
      "Epoch 73/100\n",
      "10903/10903 [==============================] - 12s 1ms/step - loss: 0.1584 - accuracy: 0.9396\n",
      "Epoch 74/100\n",
      "10903/10903 [==============================] - 12s 1ms/step - loss: 0.1580 - accuracy: 0.9398\n",
      "Epoch 75/100\n",
      "10903/10903 [==============================] - 12s 1ms/step - loss: 0.1582 - accuracy: 0.9395\n",
      "Epoch 76/100\n",
      "10903/10903 [==============================] - 12s 1ms/step - loss: 0.1578 - accuracy: 0.9398\n",
      "Epoch 77/100\n",
      "10903/10903 [==============================] - 12s 1ms/step - loss: 0.1577 - accuracy: 0.9396\n",
      "Epoch 78/100\n",
      "10903/10903 [==============================] - 12s 1ms/step - loss: 0.1579 - accuracy: 0.9395\n",
      "Epoch 79/100\n",
      "10903/10903 [==============================] - 12s 1ms/step - loss: 0.1575 - accuracy: 0.9399\n",
      "Epoch 80/100\n",
      "10903/10903 [==============================] - 12s 1ms/step - loss: 0.1575 - accuracy: 0.9398\n",
      "Epoch 81/100\n",
      "10903/10903 [==============================] - 12s 1ms/step - loss: 0.1574 - accuracy: 0.9401\n",
      "Epoch 82/100\n",
      "10903/10903 [==============================] - 12s 1ms/step - loss: 0.1572 - accuracy: 0.9400\n",
      "Epoch 83/100\n",
      "10903/10903 [==============================] - 12s 1ms/step - loss: 0.1566 - accuracy: 0.9401\n",
      "Epoch 84/100\n",
      "10903/10903 [==============================] - 12s 1ms/step - loss: 0.1572 - accuracy: 0.9401\n",
      "Epoch 85/100\n",
      "10903/10903 [==============================] - 12s 1ms/step - loss: 0.1569 - accuracy: 0.9401\n",
      "Epoch 86/100\n",
      "10903/10903 [==============================] - 12s 1ms/step - loss: 0.1567 - accuracy: 0.9401\n",
      "Epoch 87/100\n",
      "10903/10903 [==============================] - 12s 1ms/step - loss: 0.1566 - accuracy: 0.9401\n",
      "Epoch 88/100\n",
      "10903/10903 [==============================] - 12s 1ms/step - loss: 0.1568 - accuracy: 0.9402\n",
      "Epoch 89/100\n",
      "10903/10903 [==============================] - 12s 1ms/step - loss: 0.1564 - accuracy: 0.9403\n",
      "Epoch 90/100\n",
      "10903/10903 [==============================] - 12s 1ms/step - loss: 0.1563 - accuracy: 0.9403\n",
      "Epoch 91/100\n",
      "10903/10903 [==============================] - 12s 1ms/step - loss: 0.1561 - accuracy: 0.9404\n",
      "Epoch 92/100\n",
      "10903/10903 [==============================] - 12s 1ms/step - loss: 0.1559 - accuracy: 0.9404\n",
      "Epoch 93/100\n",
      "10903/10903 [==============================] - 12s 1ms/step - loss: 0.1558 - accuracy: 0.9406\n",
      "Epoch 94/100\n",
      "10903/10903 [==============================] - 12s 1ms/step - loss: 0.1565 - accuracy: 0.9403\n",
      "Epoch 95/100\n",
      "10903/10903 [==============================] - 12s 1ms/step - loss: 0.1561 - accuracy: 0.9403\n",
      "Epoch 96/100\n",
      "10903/10903 [==============================] - 11s 1ms/step - loss: 0.1562 - accuracy: 0.9403\n",
      "Epoch 97/100\n",
      "10903/10903 [==============================] - 11s 1ms/step - loss: 0.1556 - accuracy: 0.9405\n",
      "Epoch 98/100\n",
      "10903/10903 [==============================] - 12s 1ms/step - loss: 0.1558 - accuracy: 0.9406\n",
      "Epoch 99/100\n",
      "10903/10903 [==============================] - 12s 1ms/step - loss: 0.1559 - accuracy: 0.9406\n",
      "Epoch 100/100\n",
      "10903/10903 [==============================] - 12s 1ms/step - loss: 0.1557 - accuracy: 0.9407\n"
     ]
    }
   ],
   "source": [
    "\n",
    "tf.random.set_seed(42)\n",
    "\n",
    "\n",
    "\n",
    "model_22 = tf.keras.Sequential([\n",
    "  tf.keras.layers.Dense(20,activation = 'relu'),\n",
    "  tf.keras.layers.Dense(40,activation = 'relu'),\n",
    "  tf.keras.layers.Dense(20,activation = 'relu'),\n",
    "  tf.keras.layers.Dense(9,activation = 'relu'),\n",
    "  tf.keras.layers.Dense(1,activation = 'sigmoid')                            \n",
    "])\n",
    "\n",
    "\n",
    "model_22.compile(loss = 'binary_crossentropy',\n",
    "                optimizer = tf.keras.optimizers.Adam(lr=0.001),\n",
    "                metrics = ['accuracy'])\n",
    "\n",
    "\n",
    "history_2 = model_22.fit(x_train2,y_train2,epochs = 100)"
   ]
  },
  {
   "cell_type": "code",
   "execution_count": 39,
   "metadata": {},
   "outputs": [
    {
     "name": "stdout",
     "output_type": "stream",
     "text": [
      "3635/3635 [==============================] - 3s 893us/step - loss: 0.1579 - accuracy: 0.9411\n"
     ]
    },
    {
     "data": {
      "text/plain": [
       "[0.1579267531633377, 0.9410545825958252]"
      ]
     },
     "execution_count": 39,
     "metadata": {},
     "output_type": "execute_result"
    }
   ],
   "source": [
    "model_22.evaluate(x_test2,y_test2)"
   ]
  },
  {
   "cell_type": "code",
   "execution_count": 40,
   "metadata": {},
   "outputs": [
    {
     "name": "stdout",
     "output_type": "stream",
     "text": [
      "10903/10903 [==============================] - 9s 821us/step\n",
      "3635/3635 [==============================] - 3s 800us/step\n",
      "              precision    recall  f1-score   support\n",
      "\n",
      "           0       0.92      0.96      0.94    174285\n",
      "           1       0.96      0.92      0.94    174595\n",
      "\n",
      "    accuracy                           0.94    348880\n",
      "   macro avg       0.94      0.94      0.94    348880\n",
      "weighted avg       0.94      0.94      0.94    348880\n",
      "\n",
      "              precision    recall  f1-score   support\n",
      "\n",
      "           0       0.92      0.96      0.94     58302\n",
      "           1       0.96      0.92      0.94     57992\n",
      "\n",
      "    accuracy                           0.94    116294\n",
      "   macro avg       0.94      0.94      0.94    116294\n",
      "weighted avg       0.94      0.94      0.94    116294\n",
      "\n"
     ]
    }
   ],
   "source": [
    "ypred_train9 = model_22.predict(x_train2)\n",
    "y_pred_test9 = model_22.predict(x_test2)\n",
    "\n",
    "y_pred_test9 = (y_pred_test9 > 0.5)\n",
    "ypred_train9 = (ypred_train9 > 0.5)\n",
    "\n",
    "print(classification_report(y_train2,ypred_train9))\n",
    "print(classification_report(y_test2,y_pred_test9))"
   ]
  },
  {
   "cell_type": "code",
   "execution_count": 41,
   "metadata": {},
   "outputs": [
    {
     "name": "stdout",
     "output_type": "stream",
     "text": [
      "3635/3635 [==============================] - 3s 856us/step\n"
     ]
    },
    {
     "data": {
      "image/png": "[encoded data removed]",
      "text/plain": [
       "<Figure size 640x480 with 1 Axes>"
      ]
     },
     "metadata": {},
     "output_type": "display_data"
    }
   ],
   "source": [
    "# cross_val_scores = cross_val_score(model_22, x_train2, y_train2, cv=5)\n",
    "# print(\"Cross-validation scores:\", cross_val_scores)\n",
    "# print(\"Average cross-validation score:\", np.mean(cross_val_scores))\n",
    "y_proba_test = model_22.predict(x_test2).flatten()\n",
    "\n",
    "fpr, tpr, thresholds = roc_curve(y_test2, y_proba_test)\n",
    "\n",
    "plt.plot(fpr, tpr, label='ROC Curve')\n",
    "plt.xlabel('False Positive Rate')\n",
    "plt.ylabel('True Positive Rate')\n",
    "plt.title('ROC Curve with AUC = {:.2f}'.format(roc_auc_score(y_test2, y_proba_test)))\n",
    "plt.legend(loc='lower right')\n",
    "plt.grid(True)\n",
    "plt.show()"
   ]
  },
  {
   "cell_type": "markdown",
   "metadata": {},
   "source": [
    "## inny model"
   ]
  },
  {
   "cell_type": "code",
   "execution_count": 42,
   "metadata": {},
   "outputs": [
    {
     "name": "stdout",
     "output_type": "stream",
     "text": [
      "WARNING:tensorflow:From C:\\Users\\DELL\\AppData\\Roaming\\Python\\Python311\\site-packages\\keras\\src\\optimizers\\__init__.py:309: The name tf.train.Optimizer is deprecated. Please use tf.compat.v1.train.Optimizer instead.\n",
      "\n"
     ]
    },
    {
     "name": "stderr",
     "output_type": "stream",
     "text": [
      "WARNING:tensorflow:From C:\\Users\\DELL\\AppData\\Roaming\\Python\\Python311\\site-packages\\keras\\src\\optimizers\\__init__.py:309: The name tf.train.Optimizer is deprecated. Please use tf.compat.v1.train.Optimizer instead.\n",
      "\n"
     ]
    }
   ],
   "source": [
    "model1 = Sequential()\n",
    "model1.add(Dense(units=20,activation='relu'))\n",
    "model1.add(Dropout(0.5))\n",
    "\n",
    "model1.add(Dense(units=15,activation='relu'))\n",
    "model1.add(Dropout(0.5))\n",
    "\n",
    "model1.add(Dense(units=1,activation='sigmoid'))\n",
    "model1.compile(loss='binary_crossentropy', optimizer='adam')"
   ]
  },
  {
   "cell_type": "code",
   "execution_count": 43,
   "metadata": {},
   "outputs": [
    {
     "name": "stdout",
     "output_type": "stream",
     "text": [
      "Epoch 1/100\n",
      "10903/10903 [==============================] - 15s 1ms/step - loss: 0.4570 - val_loss: 0.3711\n",
      "Epoch 2/100\n",
      "10903/10903 [==============================] - 15s 1ms/step - loss: 0.4179 - val_loss: 0.3567\n",
      "Epoch 3/100\n",
      "10903/10903 [==============================] - 15s 1ms/step - loss: 0.4012 - val_loss: 0.3512\n",
      "Epoch 4/100\n",
      "10903/10903 [==============================] - 15s 1ms/step - loss: 0.3962 - val_loss: 0.3471\n",
      "Epoch 5/100\n",
      "10903/10903 [==============================] - 15s 1ms/step - loss: 0.3937 - val_loss: 0.3434\n",
      "Epoch 6/100\n",
      "10903/10903 [==============================] - 15s 1ms/step - loss: 0.3912 - val_loss: 0.3416\n",
      "Epoch 7/100\n",
      "10903/10903 [==============================] - 15s 1ms/step - loss: 0.3895 - val_loss: 0.3436\n",
      "Epoch 8/100\n",
      "10903/10903 [==============================] - 15s 1ms/step - loss: 0.3888 - val_loss: 0.3408\n",
      "Epoch 9/100\n",
      "10903/10903 [==============================] - 15s 1ms/step - loss: 0.3876 - val_loss: 0.3381\n",
      "Epoch 10/100\n",
      "10903/10903 [==============================] - 15s 1ms/step - loss: 0.3868 - val_loss: 0.3425\n",
      "Epoch 11/100\n",
      "10903/10903 [==============================] - 15s 1ms/step - loss: 0.3867 - val_loss: 0.3381\n",
      "Epoch 12/100\n",
      "10903/10903 [==============================] - 15s 1ms/step - loss: 0.3873 - val_loss: 0.3405\n",
      "Epoch 13/100\n",
      "10903/10903 [==============================] - 15s 1ms/step - loss: 0.3864 - val_loss: 0.3394\n",
      "Epoch 14/100\n",
      "10903/10903 [==============================] - 15s 1ms/step - loss: 0.3854 - val_loss: 0.3407\n",
      "Epoch 15/100\n",
      "10903/10903 [==============================] - 15s 1ms/step - loss: 0.3849 - val_loss: 0.3386\n",
      "Epoch 16/100\n",
      "10903/10903 [==============================] - 15s 1ms/step - loss: 0.3855 - val_loss: 0.3397\n",
      "Epoch 17/100\n",
      "10903/10903 [==============================] - 15s 1ms/step - loss: 0.3844 - val_loss: 0.3378\n",
      "Epoch 18/100\n",
      "10903/10903 [==============================] - 15s 1ms/step - loss: 0.3846 - val_loss: 0.3377\n",
      "Epoch 19/100\n",
      "10903/10903 [==============================] - 15s 1ms/step - loss: 0.3842 - val_loss: 0.3400\n",
      "Epoch 20/100\n",
      "10903/10903 [==============================] - 15s 1ms/step - loss: 0.3840 - val_loss: 0.3366\n",
      "Epoch 21/100\n",
      "10903/10903 [==============================] - 15s 1ms/step - loss: 0.3844 - val_loss: 0.3378\n",
      "Epoch 22/100\n",
      "10903/10903 [==============================] - 15s 1ms/step - loss: 0.3836 - val_loss: 0.3395\n",
      "Epoch 23/100\n",
      "10903/10903 [==============================] - 14s 1ms/step - loss: 0.3839 - val_loss: 0.3348\n",
      "Epoch 24/100\n",
      "10903/10903 [==============================] - 15s 1ms/step - loss: 0.3842 - val_loss: 0.3396\n",
      "Epoch 25/100\n",
      "10903/10903 [==============================] - 15s 1ms/step - loss: 0.3838 - val_loss: 0.3372\n",
      "Epoch 26/100\n",
      "10903/10903 [==============================] - 15s 1ms/step - loss: 0.3824 - val_loss: 0.3376\n",
      "Epoch 27/100\n",
      "10903/10903 [==============================] - 15s 1ms/step - loss: 0.3829 - val_loss: 0.3358\n",
      "Epoch 28/100\n",
      "10903/10903 [==============================] - 15s 1ms/step - loss: 0.3839 - val_loss: 0.3372\n",
      "Epoch 29/100\n",
      "10903/10903 [==============================] - 15s 1ms/step - loss: 0.3833 - val_loss: 0.3379\n",
      "Epoch 30/100\n",
      "10903/10903 [==============================] - 15s 1ms/step - loss: 0.3830 - val_loss: 0.3361\n",
      "Epoch 31/100\n",
      "10903/10903 [==============================] - 15s 1ms/step - loss: 0.3821 - val_loss: 0.3321\n",
      "Epoch 32/100\n",
      "10903/10903 [==============================] - 15s 1ms/step - loss: 0.3828 - val_loss: 0.3309\n",
      "Epoch 33/100\n",
      "10903/10903 [==============================] - 15s 1ms/step - loss: 0.3813 - val_loss: 0.3374\n",
      "Epoch 34/100\n",
      "10903/10903 [==============================] - 15s 1ms/step - loss: 0.3816 - val_loss: 0.3353\n",
      "Epoch 35/100\n",
      "10903/10903 [==============================] - 15s 1ms/step - loss: 0.3819 - val_loss: 0.3334\n",
      "Epoch 36/100\n",
      "10903/10903 [==============================] - 15s 1ms/step - loss: 0.3807 - val_loss: 0.3344\n",
      "Epoch 37/100\n",
      "10903/10903 [==============================] - 15s 1ms/step - loss: 0.3811 - val_loss: 0.3325\n",
      "Epoch 38/100\n",
      "10903/10903 [==============================] - 15s 1ms/step - loss: 0.3816 - val_loss: 0.3339\n",
      "Epoch 39/100\n",
      "10903/10903 [==============================] - 15s 1ms/step - loss: 0.3819 - val_loss: 0.3335\n",
      "Epoch 40/100\n",
      "10903/10903 [==============================] - 15s 1ms/step - loss: 0.3801 - val_loss: 0.3326\n",
      "Epoch 41/100\n",
      "10903/10903 [==============================] - 15s 1ms/step - loss: 0.3811 - val_loss: 0.3338\n",
      "Epoch 42/100\n",
      "10903/10903 [==============================] - 15s 1ms/step - loss: 0.3815 - val_loss: 0.3344\n",
      "Epoch 43/100\n",
      "10903/10903 [==============================] - 15s 1ms/step - loss: 0.3805 - val_loss: 0.3317\n",
      "Epoch 44/100\n",
      "10903/10903 [==============================] - 15s 1ms/step - loss: 0.3811 - val_loss: 0.3332\n",
      "Epoch 45/100\n",
      "10903/10903 [==============================] - 15s 1ms/step - loss: 0.3807 - val_loss: 0.3304\n",
      "Epoch 46/100\n",
      "10903/10903 [==============================] - 15s 1ms/step - loss: 0.3813 - val_loss: 0.3348\n",
      "Epoch 47/100\n",
      "10903/10903 [==============================] - 15s 1ms/step - loss: 0.3804 - val_loss: 0.3323\n",
      "Epoch 48/100\n",
      "10903/10903 [==============================] - 15s 1ms/step - loss: 0.3813 - val_loss: 0.3355\n",
      "Epoch 49/100\n",
      "10903/10903 [==============================] - 15s 1ms/step - loss: 0.3799 - val_loss: 0.3322\n",
      "Epoch 50/100\n",
      "10903/10903 [==============================] - 15s 1ms/step - loss: 0.3794 - val_loss: 0.3333\n",
      "Epoch 51/100\n",
      "10903/10903 [==============================] - 15s 1ms/step - loss: 0.3796 - val_loss: 0.3334\n",
      "Epoch 52/100\n",
      "10903/10903 [==============================] - 15s 1ms/step - loss: 0.3803 - val_loss: 0.3309\n",
      "Epoch 53/100\n",
      "10903/10903 [==============================] - 15s 1ms/step - loss: 0.3801 - val_loss: 0.3320\n",
      "Epoch 54/100\n",
      "10903/10903 [==============================] - 15s 1ms/step - loss: 0.3804 - val_loss: 0.3339\n",
      "Epoch 55/100\n",
      "10903/10903 [==============================] - 15s 1ms/step - loss: 0.3804 - val_loss: 0.3314\n",
      "Epoch 56/100\n",
      "10903/10903 [==============================] - 15s 1ms/step - loss: 0.3794 - val_loss: 0.3287\n",
      "Epoch 57/100\n",
      "10903/10903 [==============================] - 15s 1ms/step - loss: 0.3805 - val_loss: 0.3330\n",
      "Epoch 58/100\n",
      "10903/10903 [==============================] - 15s 1ms/step - loss: 0.3800 - val_loss: 0.3336\n",
      "Epoch 59/100\n",
      "10903/10903 [==============================] - 15s 1ms/step - loss: 0.3802 - val_loss: 0.3310\n",
      "Epoch 60/100\n",
      "10903/10903 [==============================] - 15s 1ms/step - loss: 0.3801 - val_loss: 0.3333\n",
      "Epoch 61/100\n",
      "10903/10903 [==============================] - 15s 1ms/step - loss: 0.3795 - val_loss: 0.3320\n",
      "Epoch 62/100\n",
      "10903/10903 [==============================] - 15s 1ms/step - loss: 0.3794 - val_loss: 0.3326\n",
      "Epoch 63/100\n",
      "10903/10903 [==============================] - 15s 1ms/step - loss: 0.3805 - val_loss: 0.3313\n",
      "Epoch 64/100\n",
      "10903/10903 [==============================] - 15s 1ms/step - loss: 0.3803 - val_loss: 0.3356\n",
      "Epoch 65/100\n",
      "10903/10903 [==============================] - 14s 1ms/step - loss: 0.3799 - val_loss: 0.3331\n",
      "Epoch 66/100\n",
      "10903/10903 [==============================] - 13s 1ms/step - loss: 0.3804 - val_loss: 0.3312\n",
      "Epoch 67/100\n",
      "10903/10903 [==============================] - 13s 1ms/step - loss: 0.3804 - val_loss: 0.3301\n",
      "Epoch 68/100\n",
      "10903/10903 [==============================] - 13s 1ms/step - loss: 0.3800 - val_loss: 0.3325\n",
      "Epoch 69/100\n",
      "10903/10903 [==============================] - 13s 1ms/step - loss: 0.3793 - val_loss: 0.3288\n",
      "Epoch 70/100\n",
      "10903/10903 [==============================] - 13s 1ms/step - loss: 0.3805 - val_loss: 0.3323\n",
      "Epoch 71/100\n",
      "10903/10903 [==============================] - 13s 1ms/step - loss: 0.3790 - val_loss: 0.3305\n",
      "Epoch 72/100\n",
      "10903/10903 [==============================] - 13s 1ms/step - loss: 0.3811 - val_loss: 0.3295\n",
      "Epoch 73/100\n",
      "10903/10903 [==============================] - 13s 1ms/step - loss: 0.3791 - val_loss: 0.3326\n",
      "Epoch 74/100\n",
      "10903/10903 [==============================] - 14s 1ms/step - loss: 0.3801 - val_loss: 0.3294\n",
      "Epoch 75/100\n",
      "10903/10903 [==============================] - 13s 1ms/step - loss: 0.3792 - val_loss: 0.3322\n",
      "Epoch 76/100\n",
      "10903/10903 [==============================] - 13s 1ms/step - loss: 0.3799 - val_loss: 0.3297\n",
      "Epoch 77/100\n",
      "10903/10903 [==============================] - 13s 1ms/step - loss: 0.3792 - val_loss: 0.3338\n",
      "Epoch 78/100\n",
      "10903/10903 [==============================] - 13s 1ms/step - loss: 0.3787 - val_loss: 0.3296\n",
      "Epoch 79/100\n",
      "10903/10903 [==============================] - 13s 1ms/step - loss: 0.3793 - val_loss: 0.3304\n",
      "Epoch 80/100\n",
      "10903/10903 [==============================] - 13s 1ms/step - loss: 0.3792 - val_loss: 0.3327\n",
      "Epoch 81/100\n",
      "10903/10903 [==============================] - 13s 1ms/step - loss: 0.3798 - val_loss: 0.3308\n",
      "Epoch 81: early stopping\n"
     ]
    },
    {
     "data": {
      "text/plain": [
       "<keras.src.callbacks.History at 0x1ff60081d90>"
      ]
     },
     "execution_count": 43,
     "metadata": {},
     "output_type": "execute_result"
    }
   ],
   "source": [
    "model1.fit(x=x_train2, \n",
    "          y=y_train2, \n",
    "          epochs=100,\n",
    "          validation_data=(x_test2, y_test2), verbose=1,\n",
    "          callbacks=[early_stop]\n",
    "          )"
   ]
  },
  {
   "cell_type": "code",
   "execution_count": 44,
   "metadata": {},
   "outputs": [
    {
     "name": "stdout",
     "output_type": "stream",
     "text": [
      "10903/10903 [==============================] - 9s 788us/step\n",
      "3635/3635 [==============================] - 3s 741us/step\n"
     ]
    }
   ],
   "source": [
    "ypred_train10 = model1.predict(x_train2)\n",
    "y_pred_test10 = model1.predict(x_test2)\n",
    "\n",
    "y_pred_test10 = (y_pred_test10 > 0.5)\n",
    "ypred_train10 = (ypred_train10 > 0.5)\n",
    "\n",
    "\n"
   ]
  },
  {
   "cell_type": "code",
   "execution_count": 45,
   "metadata": {},
   "outputs": [
    {
     "name": "stdout",
     "output_type": "stream",
     "text": [
      "trening Results\n",
      "\n",
      "              precision    recall  f1-score   support\n",
      "\n",
      "           0       0.81      0.93      0.87    174285\n",
      "           1       0.92      0.78      0.84    174595\n",
      "\n",
      "    accuracy                           0.86    348880\n",
      "   macro avg       0.86      0.86      0.85    348880\n",
      "weighted avg       0.86      0.86      0.85    348880\n",
      "\n"
     ]
    }
   ],
   "source": [
    "print('trening Results\\n')\n",
    "print(classification_report(y_train2,ypred_train10))"
   ]
  },
  {
   "cell_type": "code",
   "execution_count": 46,
   "metadata": {},
   "outputs": [
    {
     "name": "stdout",
     "output_type": "stream",
     "text": [
      "Testing Results\n",
      "\n",
      "              precision    recall  f1-score   support\n",
      "\n",
      "           0       0.81      0.93      0.87     58302\n",
      "           1       0.92      0.78      0.84     57992\n",
      "\n",
      "    accuracy                           0.85    116294\n",
      "   macro avg       0.86      0.85      0.85    116294\n",
      "weighted avg       0.86      0.85      0.85    116294\n",
      "\n"
     ]
    }
   ],
   "source": [
    "print('Testing Results\\n')\n",
    "print(classification_report(y_test2,y_pred_test10))"
   ]
  },
  {
   "cell_type": "code",
   "execution_count": 47,
   "metadata": {},
   "outputs": [
    {
     "name": "stdout",
     "output_type": "stream",
     "text": [
      "3635/3635 [==============================] - 3s 793us/step\n"
     ]
    },
    {
     "data": {
      "image/png": "[encoded data removed]",
      "text/plain": [
       "<Figure size 640x480 with 1 Axes>"
      ]
     },
     "metadata": {},
     "output_type": "display_data"
    }
   ],
   "source": [
    "# cross_val_scores = cross_val_score(model1, x_train2, y_train2, cv=5)\n",
    "# print(\"Cross-validation scores:\", cross_val_scores)\n",
    "# print(\"Average cross-validation score:\", np.mean(cross_val_scores))\n",
    "y_proba_test = model1.predict(x_test2).flatten()\n",
    "\n",
    "fpr, tpr, thresholds = roc_curve(y_test2, y_proba_test)\n",
    "\n",
    "plt.plot(fpr, tpr, label='ROC Curve')\n",
    "plt.xlabel('False Positive Rate')\n",
    "plt.ylabel('True Positive Rate')\n",
    "plt.title('ROC Curve with AUC = {:.2f}'.format(roc_auc_score(y_test2, y_proba_test)))\n",
    "plt.legend(loc='lower right')\n",
    "plt.grid(True)\n",
    "plt.show()"
   ]
  },
  {
   "cell_type": "markdown",
   "metadata": {},
   "source": [
    "## inny model"
   ]
  },
  {
   "cell_type": "code",
   "execution_count": 48,
   "metadata": {},
   "outputs": [],
   "source": [
    "model2 = Sequential()\n",
    "\n",
    "\n",
    "\n",
    "model2.add(Dense(20,  activation='relu'))\n",
    "model2.add(Dropout(0.2))\n",
    "\n",
    "model2.add(Dense(10, activation='relu'))\n",
    "model2.add(Dropout(0.2))\n",
    "\n",
    "model2.add(Dense(units=1,activation='sigmoid'))\n",
    "\n",
    "model2.compile(loss='binary_crossentropy', optimizer='adam')"
   ]
  },
  {
   "cell_type": "code",
   "execution_count": 49,
   "metadata": {},
   "outputs": [
    {
     "name": "stdout",
     "output_type": "stream",
     "text": [
      "Epoch 1/100\n",
      "10903/10903 [==============================] - 14s 1ms/step - loss: 0.4099 - val_loss: 0.3479\n",
      "Epoch 2/100\n",
      "10903/10903 [==============================] - 13s 1ms/step - loss: 0.3606 - val_loss: 0.3178\n",
      "Epoch 3/100\n",
      "10903/10903 [==============================] - 13s 1ms/step - loss: 0.3459 - val_loss: 0.3075\n",
      "Epoch 4/100\n",
      "10903/10903 [==============================] - 13s 1ms/step - loss: 0.3400 - val_loss: 0.3031\n",
      "Epoch 5/100\n",
      "10903/10903 [==============================] - 13s 1ms/step - loss: 0.3352 - val_loss: 0.3003\n",
      "Epoch 6/100\n",
      "10903/10903 [==============================] - 13s 1ms/step - loss: 0.3321 - val_loss: 0.2939\n",
      "Epoch 7/100\n",
      "10903/10903 [==============================] - 13s 1ms/step - loss: 0.3302 - val_loss: 0.2936\n",
      "Epoch 8/100\n",
      "10903/10903 [==============================] - 13s 1ms/step - loss: 0.3285 - val_loss: 0.2944\n",
      "Epoch 9/100\n",
      "10903/10903 [==============================] - 13s 1ms/step - loss: 0.3267 - val_loss: 0.2871\n",
      "Epoch 10/100\n",
      "10903/10903 [==============================] - 13s 1ms/step - loss: 0.3241 - val_loss: 0.2847\n",
      "Epoch 11/100\n",
      "10903/10903 [==============================] - 13s 1ms/step - loss: 0.3240 - val_loss: 0.2861\n",
      "Epoch 12/100\n",
      "10903/10903 [==============================] - 13s 1ms/step - loss: 0.3224 - val_loss: 0.2890\n",
      "Epoch 13/100\n",
      "10903/10903 [==============================] - 13s 1ms/step - loss: 0.3210 - val_loss: 0.2813\n",
      "Epoch 14/100\n",
      "10903/10903 [==============================] - 13s 1ms/step - loss: 0.3197 - val_loss: 0.2802\n",
      "Epoch 15/100\n",
      "10903/10903 [==============================] - 13s 1ms/step - loss: 0.3166 - val_loss: 0.2807\n",
      "Epoch 16/100\n",
      "10903/10903 [==============================] - 13s 1ms/step - loss: 0.3169 - val_loss: 0.2824\n",
      "Epoch 17/100\n",
      "10903/10903 [==============================] - 13s 1ms/step - loss: 0.3171 - val_loss: 0.2809\n",
      "Epoch 18/100\n",
      "10903/10903 [==============================] - 13s 1ms/step - loss: 0.3161 - val_loss: 0.2771\n",
      "Epoch 19/100\n",
      "10903/10903 [==============================] - 13s 1ms/step - loss: 0.3156 - val_loss: 0.2768\n",
      "Epoch 20/100\n",
      "10903/10903 [==============================] - 13s 1ms/step - loss: 0.3144 - val_loss: 0.2734\n",
      "Epoch 21/100\n",
      "10903/10903 [==============================] - 13s 1ms/step - loss: 0.3145 - val_loss: 0.2771\n",
      "Epoch 22/100\n",
      "10903/10903 [==============================] - 13s 1ms/step - loss: 0.3143 - val_loss: 0.2756\n",
      "Epoch 23/100\n",
      "10903/10903 [==============================] - 13s 1ms/step - loss: 0.3131 - val_loss: 0.2724\n",
      "Epoch 24/100\n",
      "10903/10903 [==============================] - 13s 1ms/step - loss: 0.3133 - val_loss: 0.2732\n",
      "Epoch 25/100\n",
      "10903/10903 [==============================] - 13s 1ms/step - loss: 0.3126 - val_loss: 0.2738\n",
      "Epoch 26/100\n",
      "10903/10903 [==============================] - 13s 1ms/step - loss: 0.3117 - val_loss: 0.2714\n",
      "Epoch 27/100\n",
      "10903/10903 [==============================] - 13s 1ms/step - loss: 0.3110 - val_loss: 0.2717\n",
      "Epoch 28/100\n",
      "10903/10903 [==============================] - 13s 1ms/step - loss: 0.3112 - val_loss: 0.2735\n",
      "Epoch 29/100\n",
      "10903/10903 [==============================] - 13s 1ms/step - loss: 0.3109 - val_loss: 0.2694\n",
      "Epoch 30/100\n",
      "10903/10903 [==============================] - 13s 1ms/step - loss: 0.3097 - val_loss: 0.2674\n",
      "Epoch 31/100\n",
      "10903/10903 [==============================] - 13s 1ms/step - loss: 0.3095 - val_loss: 0.2656\n",
      "Epoch 32/100\n",
      "10903/10903 [==============================] - 13s 1ms/step - loss: 0.3099 - val_loss: 0.2695\n",
      "Epoch 33/100\n",
      "10903/10903 [==============================] - 13s 1ms/step - loss: 0.3089 - val_loss: 0.2701\n",
      "Epoch 34/100\n",
      "10903/10903 [==============================] - 13s 1ms/step - loss: 0.3097 - val_loss: 0.2687\n",
      "Epoch 35/100\n",
      "10903/10903 [==============================] - 13s 1ms/step - loss: 0.3095 - val_loss: 0.2677\n",
      "Epoch 36/100\n",
      "10903/10903 [==============================] - 13s 1ms/step - loss: 0.3092 - val_loss: 0.2739\n",
      "Epoch 37/100\n",
      "10903/10903 [==============================] - 13s 1ms/step - loss: 0.3094 - val_loss: 0.2675\n",
      "Epoch 38/100\n",
      "10903/10903 [==============================] - 13s 1ms/step - loss: 0.3091 - val_loss: 0.2679\n",
      "Epoch 39/100\n",
      "10903/10903 [==============================] - 13s 1ms/step - loss: 0.3086 - val_loss: 0.2669\n",
      "Epoch 40/100\n",
      "10903/10903 [==============================] - 13s 1ms/step - loss: 0.3085 - val_loss: 0.2717\n",
      "Epoch 41/100\n",
      "10903/10903 [==============================] - 13s 1ms/step - loss: 0.3091 - val_loss: 0.2700\n",
      "Epoch 42/100\n",
      "10903/10903 [==============================] - 13s 1ms/step - loss: 0.3087 - val_loss: 0.2667\n",
      "Epoch 43/100\n",
      "10903/10903 [==============================] - 13s 1ms/step - loss: 0.3090 - val_loss: 0.2686\n",
      "Epoch 44/100\n",
      "10903/10903 [==============================] - 13s 1ms/step - loss: 0.3078 - val_loss: 0.2678\n",
      "Epoch 45/100\n",
      "10903/10903 [==============================] - 13s 1ms/step - loss: 0.3085 - val_loss: 0.2699\n",
      "Epoch 46/100\n",
      "10903/10903 [==============================] - 13s 1ms/step - loss: 0.3083 - val_loss: 0.2732\n",
      "Epoch 47/100\n",
      "10903/10903 [==============================] - 13s 1ms/step - loss: 0.3080 - val_loss: 0.2640\n",
      "Epoch 48/100\n",
      "10903/10903 [==============================] - 13s 1ms/step - loss: 0.3082 - val_loss: 0.2663\n",
      "Epoch 49/100\n",
      "10903/10903 [==============================] - 13s 1ms/step - loss: 0.3083 - val_loss: 0.2645\n",
      "Epoch 50/100\n",
      "10903/10903 [==============================] - 13s 1ms/step - loss: 0.3074 - val_loss: 0.2637\n",
      "Epoch 51/100\n",
      "10903/10903 [==============================] - 13s 1ms/step - loss: 0.3085 - val_loss: 0.2671\n",
      "Epoch 52/100\n",
      "10903/10903 [==============================] - 13s 1ms/step - loss: 0.3069 - val_loss: 0.2663\n",
      "Epoch 53/100\n",
      "10903/10903 [==============================] - 13s 1ms/step - loss: 0.3069 - val_loss: 0.2668\n",
      "Epoch 54/100\n",
      "10903/10903 [==============================] - 13s 1ms/step - loss: 0.3075 - val_loss: 0.2678\n",
      "Epoch 55/100\n",
      "10903/10903 [==============================] - 13s 1ms/step - loss: 0.3079 - val_loss: 0.2662\n",
      "Epoch 56/100\n",
      "10903/10903 [==============================] - 13s 1ms/step - loss: 0.3072 - val_loss: 0.2638\n",
      "Epoch 57/100\n",
      "10903/10903 [==============================] - 13s 1ms/step - loss: 0.3074 - val_loss: 0.2658\n",
      "Epoch 58/100\n",
      "10903/10903 [==============================] - 13s 1ms/step - loss: 0.3071 - val_loss: 0.2672\n",
      "Epoch 59/100\n",
      "10903/10903 [==============================] - 13s 1ms/step - loss: 0.3070 - val_loss: 0.2680\n",
      "Epoch 60/100\n",
      "10903/10903 [==============================] - 13s 1ms/step - loss: 0.3074 - val_loss: 0.2666\n",
      "Epoch 61/100\n",
      "10903/10903 [==============================] - 13s 1ms/step - loss: 0.3068 - val_loss: 0.2671\n",
      "Epoch 62/100\n",
      "10903/10903 [==============================] - 13s 1ms/step - loss: 0.3071 - val_loss: 0.2648\n",
      "Epoch 63/100\n",
      "10903/10903 [==============================] - 13s 1ms/step - loss: 0.3068 - val_loss: 0.2637\n",
      "Epoch 64/100\n",
      "10903/10903 [==============================] - 13s 1ms/step - loss: 0.3067 - val_loss: 0.2679\n",
      "Epoch 65/100\n",
      "10903/10903 [==============================] - 13s 1ms/step - loss: 0.3068 - val_loss: 0.2670\n",
      "Epoch 66/100\n",
      "10903/10903 [==============================] - 13s 1ms/step - loss: 0.3073 - val_loss: 0.2664\n",
      "Epoch 67/100\n",
      "10903/10903 [==============================] - 13s 1ms/step - loss: 0.3072 - val_loss: 0.2667\n",
      "Epoch 68/100\n",
      "10903/10903 [==============================] - 13s 1ms/step - loss: 0.3071 - val_loss: 0.2664\n",
      "Epoch 69/100\n",
      "10903/10903 [==============================] - 13s 1ms/step - loss: 0.3075 - val_loss: 0.2642\n",
      "Epoch 70/100\n",
      "10903/10903 [==============================] - 13s 1ms/step - loss: 0.3069 - val_loss: 0.2642\n",
      "Epoch 71/100\n",
      "10903/10903 [==============================] - 13s 1ms/step - loss: 0.3068 - val_loss: 0.2663\n",
      "Epoch 72/100\n",
      "10903/10903 [==============================] - 13s 1ms/step - loss: 0.3075 - val_loss: 0.2650\n",
      "Epoch 73/100\n",
      "10903/10903 [==============================] - 13s 1ms/step - loss: 0.3061 - val_loss: 0.2669\n",
      "Epoch 74/100\n",
      "10903/10903 [==============================] - 13s 1ms/step - loss: 0.3057 - val_loss: 0.2634\n",
      "Epoch 75/100\n",
      "10903/10903 [==============================] - 13s 1ms/step - loss: 0.3058 - val_loss: 0.2665\n",
      "Epoch 76/100\n",
      "10903/10903 [==============================] - 13s 1ms/step - loss: 0.3060 - val_loss: 0.2659\n",
      "Epoch 77/100\n",
      "10903/10903 [==============================] - 14s 1ms/step - loss: 0.3062 - val_loss: 0.2684\n",
      "Epoch 78/100\n",
      "10903/10903 [==============================] - 14s 1ms/step - loss: 0.3066 - val_loss: 0.2622\n",
      "Epoch 79/100\n",
      "10903/10903 [==============================] - 16s 1ms/step - loss: 0.3058 - val_loss: 0.2625\n",
      "Epoch 80/100\n",
      "10903/10903 [==============================] - 14s 1ms/step - loss: 0.3066 - val_loss: 0.2657\n",
      "Epoch 81/100\n",
      "10903/10903 [==============================] - 17s 2ms/step - loss: 0.3064 - val_loss: 0.2651\n",
      "Epoch 82/100\n",
      "10903/10903 [==============================] - 24s 2ms/step - loss: 0.3063 - val_loss: 0.2670\n",
      "Epoch 83/100\n",
      "10903/10903 [==============================] - 23s 2ms/step - loss: 0.3053 - val_loss: 0.2635\n",
      "Epoch 84/100\n",
      "10903/10903 [==============================] - 24s 2ms/step - loss: 0.3053 - val_loss: 0.2649\n",
      "Epoch 85/100\n",
      "10903/10903 [==============================] - 24s 2ms/step - loss: 0.3059 - val_loss: 0.2646\n",
      "Epoch 86/100\n",
      "10903/10903 [==============================] - 22s 2ms/step - loss: 0.3058 - val_loss: 0.2625\n",
      "Epoch 87/100\n",
      "10903/10903 [==============================] - 22s 2ms/step - loss: 0.3060 - val_loss: 0.2618\n",
      "Epoch 88/100\n",
      "10903/10903 [==============================] - 22s 2ms/step - loss: 0.3063 - val_loss: 0.2646\n",
      "Epoch 89/100\n",
      "10903/10903 [==============================] - 22s 2ms/step - loss: 0.3057 - val_loss: 0.2658\n",
      "Epoch 90/100\n",
      "10903/10903 [==============================] - 23s 2ms/step - loss: 0.3053 - val_loss: 0.2633\n",
      "Epoch 91/100\n",
      "10903/10903 [==============================] - 22s 2ms/step - loss: 0.3049 - val_loss: 0.2650\n",
      "Epoch 92/100\n",
      "10903/10903 [==============================] - 22s 2ms/step - loss: 0.3059 - val_loss: 0.2624\n",
      "Epoch 93/100\n",
      "10903/10903 [==============================] - 23s 2ms/step - loss: 0.3065 - val_loss: 0.2645\n",
      "Epoch 94/100\n",
      "10903/10903 [==============================] - 23s 2ms/step - loss: 0.3055 - val_loss: 0.2645\n",
      "Epoch 95/100\n",
      "10903/10903 [==============================] - 23s 2ms/step - loss: 0.3061 - val_loss: 0.2663\n",
      "Epoch 96/100\n",
      "10903/10903 [==============================] - 23s 2ms/step - loss: 0.3051 - val_loss: 0.2681\n",
      "Epoch 97/100\n",
      "10903/10903 [==============================] - 23s 2ms/step - loss: 0.3052 - val_loss: 0.2664\n",
      "Epoch 98/100\n",
      "10903/10903 [==============================] - 23s 2ms/step - loss: 0.3057 - val_loss: 0.2648\n",
      "Epoch 99/100\n",
      "10903/10903 [==============================] - 24s 2ms/step - loss: 0.3062 - val_loss: 0.2627\n",
      "Epoch 100/100\n",
      "10903/10903 [==============================] - 23s 2ms/step - loss: 0.3057 - val_loss: 0.2669\n"
     ]
    },
    {
     "data": {
      "text/plain": [
       "<keras.src.callbacks.History at 0x1ff03a8aa10>"
      ]
     },
     "execution_count": 49,
     "metadata": {},
     "output_type": "execute_result"
    }
   ],
   "source": [
    "model2.fit(x=x_train2, \n",
    "          y=y_train2, \n",
    "          epochs=100,\n",
    "          validation_data=(x_test2, y_test2), verbose=1,\n",
    "          callbacks=[early_stop]\n",
    "          )"
   ]
  },
  {
   "cell_type": "code",
   "execution_count": 50,
   "metadata": {},
   "outputs": [
    {
     "name": "stdout",
     "output_type": "stream",
     "text": [
      "10903/10903 [==============================] - 14s 1ms/step\n",
      "3635/3635 [==============================] - 5s 1ms/step\n",
      "              precision    recall  f1-score   support\n",
      "\n",
      "           0       0.86      0.95      0.90    174285\n",
      "           1       0.94      0.84      0.89    174595\n",
      "\n",
      "    accuracy                           0.90    348880\n",
      "   macro avg       0.90      0.90      0.90    348880\n",
      "weighted avg       0.90      0.90      0.90    348880\n",
      "\n",
      "              precision    recall  f1-score   support\n",
      "\n",
      "           0       0.86      0.95      0.90     58302\n",
      "           1       0.94      0.84      0.89     57992\n",
      "\n",
      "    accuracy                           0.90    116294\n",
      "   macro avg       0.90      0.90      0.90    116294\n",
      "weighted avg       0.90      0.90      0.90    116294\n",
      "\n"
     ]
    }
   ],
   "source": [
    "ypred_train11 = model2.predict(x_train2)\n",
    "y_pred_test11 = model2.predict(x_test2)\n",
    "\n",
    "y_pred_test11 = (y_pred_test11 > 0.5)\n",
    "ypred_train11 = (ypred_train11 > 0.5)\n",
    "\n",
    "print(classification_report(y_train2,ypred_train11))\n",
    "print(classification_report(y_test2,y_pred_test11))"
   ]
  },
  {
   "cell_type": "code",
   "execution_count": 51,
   "metadata": {},
   "outputs": [
    {
     "name": "stdout",
     "output_type": "stream",
     "text": [
      "3635/3635 [==============================] - 5s 1ms/step\n"
     ]
    },
    {
     "data": {
      "image/png": "[encoded data removed]",
      "text/plain": [
       "<Figure size 640x480 with 1 Axes>"
      ]
     },
     "metadata": {},
     "output_type": "display_data"
    }
   ],
   "source": [
    "# cross_val_scores = cross_val_score(model2, x_train2, y_train2, cv=5)\n",
    "# print(\"Cross-validation scores:\", cross_val_scores)\n",
    "# print(\"Average cross-validation score:\", np.mean(cross_val_scores))\n",
    "y_proba_test = model2.predict(x_test2).flatten()\n",
    "\n",
    "fpr, tpr, thresholds = roc_curve(y_test2, y_proba_test)\n",
    "\n",
    "plt.plot(fpr, tpr, label='ROC Curve')\n",
    "plt.xlabel('False Positive Rate')\n",
    "plt.ylabel('True Positive Rate')\n",
    "plt.title('ROC Curve with AUC = {:.2f}'.format(roc_auc_score(y_test2, y_proba_test)))\n",
    "plt.legend(loc='lower right')\n",
    "plt.grid(True)\n",
    "plt.show()"
   ]
  },
  {
   "cell_type": "markdown",
   "metadata": {},
   "source": [
    "## SVC"
   ]
  },
  {
   "cell_type": "code",
   "execution_count": 52,
   "metadata": {},
   "outputs": [
    {
     "name": "stdout",
     "output_type": "stream",
     "text": [
      "Training Results\n",
      "\n",
      "              precision    recall  f1-score   support\n",
      "\n",
      "           0       0.88      0.96      0.92    174285\n",
      "           1       0.95      0.87      0.91    174595\n",
      "\n",
      "    accuracy                           0.91    348880\n",
      "   macro avg       0.92      0.91      0.91    348880\n",
      "weighted avg       0.92      0.91      0.91    348880\n",
      "\n",
      "Testing Results\n",
      "\n",
      "              precision    recall  f1-score   support\n",
      "\n",
      "           0       0.88      0.96      0.91     58302\n",
      "           1       0.95      0.87      0.91     57992\n",
      "\n",
      "    accuracy                           0.91    116294\n",
      "   macro avg       0.91      0.91      0.91    116294\n",
      "weighted avg       0.91      0.91      0.91    116294\n",
      "\n"
     ]
    },
    {
     "data": {
      "image/png": "[encoded data removed]",
      "text/plain": [
       "<Figure size 640x480 with 1 Axes>"
      ]
     },
     "metadata": {},
     "output_type": "display_data"
    }
   ],
   "source": [
    "model3 = SVC(C=0.1, gamma=1, kernel='rbf', probability=True)\n",
    "model3.fit(x_train2, y_train2)\n",
    "\n",
    "ypred_train14 = model3.predict(x_train2)\n",
    "y_pred_test14 = model3.predict(x_test2)\n",
    "\n",
    "print(\"Training Results\\n\")\n",
    "print(classification_report(y_train2, ypred_train14))\n",
    "print(\"Testing Results\\n\")\n",
    "print(classification_report(y_test2, y_pred_test14))\n",
    "\n",
    "# cross_val_scores = cross_val_score(model3, x_train2, y_train2, cv=5)\n",
    "# print(\"Cross-validation scores:\", cross_val_scores)\n",
    "# print(\"Average cross-validation score:\", np.mean(cross_val_scores))\n",
    "\n",
    "y_proba_test = model3.predict_proba(x_test2)[:, 1]\n",
    "fpr, tpr, thresholds = roc_curve(y_test2, y_proba_test)\n",
    "plt.plot(fpr, tpr, label='ROC Curve')\n",
    "plt.xlabel('False Positive Rate')\n",
    "plt.ylabel('True Positive Rate')\n",
    "plt.title('ROC Curve with AUC = {:.2f}'.format(roc_auc_score(y_test2, y_proba_test)))\n",
    "plt.legend(loc='lower right')\n",
    "plt.grid(True)\n",
    "plt.show()"
   ]
  },
  {
   "cell_type": "code",
   "execution_count": 53,
   "metadata": {},
   "outputs": [],
   "source": [
    "# model3 = SVC(probability=True)"
   ]
  },
  {
   "cell_type": "code",
   "execution_count": 54,
   "metadata": {},
   "outputs": [],
   "source": [
    "# model3.fit(x_train2,y_train2)"
   ]
  },
  {
   "cell_type": "code",
   "execution_count": 55,
   "metadata": {},
   "outputs": [],
   "source": [
    "# ypred_train12 = model3.predict(x_train2)\n",
    "# y_pred_test12 = model3.predict(x_test2)\n",
    "\n",
    "\n",
    "# print(classification_report(y_train2,ypred_train12))\n",
    "# print(classification_report(y_test2,y_pred_test12))"
   ]
  },
  {
   "cell_type": "code",
   "execution_count": 56,
   "metadata": {},
   "outputs": [],
   "source": [
    "# param_grid = {'C': [0.1,1, 10, 100, 1000], 'gamma': [1,0.1,0.01,0.001,0.0001], 'kernel': ['rbf']} "
   ]
  },
  {
   "cell_type": "code",
   "execution_count": 57,
   "metadata": {},
   "outputs": [],
   "source": [
    "# grid = GridSearchCV(SVC(),param_grid,refit=True,verbose=3)"
   ]
  },
  {
   "cell_type": "code",
   "execution_count": 58,
   "metadata": {},
   "outputs": [],
   "source": [
    "# grid.fit(x_train2,y_train2)"
   ]
  },
  {
   "cell_type": "code",
   "execution_count": 59,
   "metadata": {},
   "outputs": [],
   "source": [
    "# grid.best_params_"
   ]
  },
  {
   "cell_type": "code",
   "execution_count": 60,
   "metadata": {},
   "outputs": [],
   "source": [
    "# grid.best_estimator_"
   ]
  },
  {
   "cell_type": "code",
   "execution_count": 61,
   "metadata": {},
   "outputs": [],
   "source": [
    "# ypred_train = grid.predict(x_train2)\n",
    "# y_pred_test = grid.predict(x_test2)\n",
    "\n",
    "\n",
    "# print(classification_report(y_train2,ypred_train))\n",
    "# print(classification_report(y_test2,y_pred_test))"
   ]
  },
  {
   "cell_type": "code",
   "execution_count": 62,
   "metadata": {},
   "outputs": [],
   "source": [
    "\n",
    "\n",
    "# y_proba_test = grid.predict_proba(x_test2)[:, 1]\n",
    "\n",
    "# fpr, tpr, thresholds = roc_curve(y_test2, y_proba_test)\n",
    "\n",
    "# plt.plot(fpr, tpr, label='ROC Curve')\n",
    "# plt.xlabel('False Positive Rate')\n",
    "# plt.ylabel('True Positive Rate')\n",
    "# plt.title('ROC Curve with AUC = {:.2f}'.format(roc_auc_score(y_test2, y_proba_test)))\n",
    "# plt.legend(loc='lower right')\n",
    "# plt.grid(True)\n",
    "# plt.show()"
   ]
  }
 ],
 "metadata": {
  "kernelspec": {
   "display_name": "Python 3",
   "language": "python",
   "name": "python3"
  },
  "language_info": {
   "codemirror_mode": {
    "name": "ipython",
    "version": 3
   },
   "file_extension": ".py",
   "mimetype": "text/x-python",
   "name": "python",
   "nbconvert_exporter": "python",
   "pygments_lexer": "ipython3",
   "version": "0.0.0"
  }
 },
 "nbformat": 4,
 "nbformat_minor": 2
}
