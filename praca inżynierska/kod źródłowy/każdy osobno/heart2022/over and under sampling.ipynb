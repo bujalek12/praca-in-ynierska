{
 "cells": [
  {
   "cell_type": "code",
   "execution_count": 1,
   "metadata": {},
   "outputs": [
    {
     "name": "stdout",
     "output_type": "stream",
     "text": [
      "WARNING:tensorflow:From C:\\Users\\DELL\\AppData\\Roaming\\Python\\Python311\\site-packages\\keras\\src\\losses.py:2976: The name tf.losses.sparse_softmax_cross_entropy is deprecated. Please use tf.compat.v1.losses.sparse_softmax_cross_entropy instead.\n",
      "\n"
     ]
    }
   ],
   "source": [
    "import pandas as pd\n",
    "import numpy as np\n",
    "import matplotlib.pyplot as plt\n",
    "import plotly.express as px\n",
    "from sklearn.preprocessing import LabelEncoder\n",
    "from sklearn.preprocessing import RobustScaler , MinMaxScaler, StandardScaler\n",
    "import seaborn as sns\n",
    "from sklearn.metrics import roc_curve\n",
    "from sklearn.metrics import roc_auc_score\n",
    "import tensorflow as tf\n",
    "from keras.preprocessing.image import ImageDataGenerator\n",
    "from tensorflow.keras.layers import Dropout\n",
    "from tensorflow.keras.models import Sequential\n",
    "from tensorflow.keras.layers import Dense, Activation\n",
    "from tensorflow.keras.callbacks import EarlyStopping\n",
    "from tensorflow.keras.layers import Input,Flatten,Conv1D,MaxPooling1D\n",
    "from sklearn.metrics import classification_report\n",
    "import warnings\n",
    "warnings.filterwarnings('ignore')\n",
    "import missingno as msno\n",
    "from sklearn.model_selection import train_test_split\n",
    "from sklearn.metrics import accuracy_score\n",
    "from sklearn.metrics import mean_absolute_error , mean_absolute_percentage_error , mean_squared_error\n",
    "from sklearn.metrics import r2_score\n",
    "from sklearn.metrics import confusion_matrix\n",
    "from sklearn.model_selection import cross_val_score\n",
    "from sklearn.metrics import RocCurveDisplay\n",
    "from sklearn.model_selection import RepeatedStratifiedKFold\n",
    "from sklearn.metrics import accuracy_score, precision_score, recall_score, f1_score\n",
    "from sklearn.model_selection import GridSearchCV\n",
    "from sklearn.tree import DecisionTreeClassifier\n",
    "from sklearn.ensemble import RandomForestClassifier\n",
    "from sklearn.naive_bayes import GaussianNB\n",
    "from xgboost import XGBClassifier\n",
    "from sklearn.linear_model import LogisticRegression\n",
    "from sklearn.svm import SVC\n",
    "from sklearn.decomposition import PCA\n",
    "from sklearn.ensemble import GradientBoostingClassifier\n",
    "from sklearn.neighbors import KNeighborsClassifier\n",
    "from keras.layers import LSTM\n",
    "from imblearn.combine import SMOTEENN\n",
    "from sklearn.preprocessing import MinMaxScaler\n"
   ]
  },
  {
   "cell_type": "markdown",
   "metadata": {},
   "source": [
    "## Combination of over- and under-sampling With Evaluation"
   ]
  },
  {
   "cell_type": "code",
   "execution_count": 2,
   "metadata": {},
   "outputs": [
    {
     "data": {
      "text/html": [
       "<div>\n",
       "<style scoped>\n",
       "    .dataframe tbody tr th:only-of-type {\n",
       "        vertical-align: middle;\n",
       "    }\n",
       "\n",
       "    .dataframe tbody tr th {\n",
       "        vertical-align: top;\n",
       "    }\n",
       "\n",
       "    .dataframe thead th {\n",
       "        text-align: right;\n",
       "    }\n",
       "</style>\n",
       "<table border=\"1\" class=\"dataframe\">\n",
       "  <thead>\n",
       "    <tr style=\"text-align: right;\">\n",
       "      <th></th>\n",
       "      <th>Sex</th>\n",
       "      <th>GeneralHealth</th>\n",
       "      <th>PhysicalHealthDays</th>\n",
       "      <th>MentalHealthDays</th>\n",
       "      <th>PhysicalActivities</th>\n",
       "      <th>SleepHours</th>\n",
       "      <th>HadHeartAttack</th>\n",
       "      <th>HadAngina</th>\n",
       "      <th>HadStroke</th>\n",
       "      <th>HadAsthma</th>\n",
       "      <th>...</th>\n",
       "      <th>AgeCategory</th>\n",
       "      <th>HeightInMeters</th>\n",
       "      <th>WeightInKilograms</th>\n",
       "      <th>BMI</th>\n",
       "      <th>AlcoholDrinkers</th>\n",
       "      <th>HIVTesting</th>\n",
       "      <th>FluVaxLast12</th>\n",
       "      <th>PneumoVaxEver</th>\n",
       "      <th>HighRiskLastYear</th>\n",
       "      <th>CovidPos</th>\n",
       "    </tr>\n",
       "  </thead>\n",
       "  <tbody>\n",
       "    <tr>\n",
       "      <th>0</th>\n",
       "      <td>0</td>\n",
       "      <td>2</td>\n",
       "      <td>4</td>\n",
       "      <td>0</td>\n",
       "      <td>1</td>\n",
       "      <td>9</td>\n",
       "      <td>0</td>\n",
       "      <td>0</td>\n",
       "      <td>0</td>\n",
       "      <td>0</td>\n",
       "      <td>...</td>\n",
       "      <td>10</td>\n",
       "      <td>1.60</td>\n",
       "      <td>71.67</td>\n",
       "      <td>27.99</td>\n",
       "      <td>0</td>\n",
       "      <td>0</td>\n",
       "      <td>1</td>\n",
       "      <td>1</td>\n",
       "      <td>0</td>\n",
       "      <td>0</td>\n",
       "    </tr>\n",
       "    <tr>\n",
       "      <th>1</th>\n",
       "      <td>1</td>\n",
       "      <td>2</td>\n",
       "      <td>0</td>\n",
       "      <td>0</td>\n",
       "      <td>1</td>\n",
       "      <td>6</td>\n",
       "      <td>0</td>\n",
       "      <td>0</td>\n",
       "      <td>0</td>\n",
       "      <td>0</td>\n",
       "      <td>...</td>\n",
       "      <td>11</td>\n",
       "      <td>1.78</td>\n",
       "      <td>95.25</td>\n",
       "      <td>30.13</td>\n",
       "      <td>0</td>\n",
       "      <td>0</td>\n",
       "      <td>1</td>\n",
       "      <td>1</td>\n",
       "      <td>0</td>\n",
       "      <td>0</td>\n",
       "    </tr>\n",
       "    <tr>\n",
       "      <th>2</th>\n",
       "      <td>1</td>\n",
       "      <td>2</td>\n",
       "      <td>0</td>\n",
       "      <td>0</td>\n",
       "      <td>0</td>\n",
       "      <td>8</td>\n",
       "      <td>0</td>\n",
       "      <td>0</td>\n",
       "      <td>0</td>\n",
       "      <td>0</td>\n",
       "      <td>...</td>\n",
       "      <td>12</td>\n",
       "      <td>1.85</td>\n",
       "      <td>108.86</td>\n",
       "      <td>31.66</td>\n",
       "      <td>1</td>\n",
       "      <td>0</td>\n",
       "      <td>0</td>\n",
       "      <td>1</td>\n",
       "      <td>0</td>\n",
       "      <td>1</td>\n",
       "    </tr>\n",
       "    <tr>\n",
       "      <th>3</th>\n",
       "      <td>0</td>\n",
       "      <td>4</td>\n",
       "      <td>5</td>\n",
       "      <td>0</td>\n",
       "      <td>1</td>\n",
       "      <td>9</td>\n",
       "      <td>0</td>\n",
       "      <td>0</td>\n",
       "      <td>0</td>\n",
       "      <td>0</td>\n",
       "      <td>...</td>\n",
       "      <td>13</td>\n",
       "      <td>1.70</td>\n",
       "      <td>90.72</td>\n",
       "      <td>31.32</td>\n",
       "      <td>0</td>\n",
       "      <td>0</td>\n",
       "      <td>1</td>\n",
       "      <td>1</td>\n",
       "      <td>0</td>\n",
       "      <td>1</td>\n",
       "    </tr>\n",
       "    <tr>\n",
       "      <th>4</th>\n",
       "      <td>0</td>\n",
       "      <td>3</td>\n",
       "      <td>3</td>\n",
       "      <td>15</td>\n",
       "      <td>1</td>\n",
       "      <td>5</td>\n",
       "      <td>0</td>\n",
       "      <td>0</td>\n",
       "      <td>0</td>\n",
       "      <td>0</td>\n",
       "      <td>...</td>\n",
       "      <td>13</td>\n",
       "      <td>1.55</td>\n",
       "      <td>79.38</td>\n",
       "      <td>33.07</td>\n",
       "      <td>0</td>\n",
       "      <td>0</td>\n",
       "      <td>1</td>\n",
       "      <td>1</td>\n",
       "      <td>0</td>\n",
       "      <td>0</td>\n",
       "    </tr>\n",
       "  </tbody>\n",
       "</table>\n",
       "<p>5 rows × 36 columns</p>\n",
       "</div>"
      ],
      "text/plain": [
       "   Sex  GeneralHealth  PhysicalHealthDays  MentalHealthDays  \\\n",
       "0    0              2                   4                 0   \n",
       "1    1              2                   0                 0   \n",
       "2    1              2                   0                 0   \n",
       "3    0              4                   5                 0   \n",
       "4    0              3                   3                15   \n",
       "\n",
       "   PhysicalActivities  SleepHours  HadHeartAttack  HadAngina  HadStroke  \\\n",
       "0                   1           9               0          0          0   \n",
       "1                   1           6               0          0          0   \n",
       "2                   0           8               0          0          0   \n",
       "3                   1           9               0          0          0   \n",
       "4                   1           5               0          0          0   \n",
       "\n",
       "   HadAsthma  ...  AgeCategory  HeightInMeters  WeightInKilograms    BMI  \\\n",
       "0          0  ...           10            1.60              71.67  27.99   \n",
       "1          0  ...           11            1.78              95.25  30.13   \n",
       "2          0  ...           12            1.85             108.86  31.66   \n",
       "3          0  ...           13            1.70              90.72  31.32   \n",
       "4          0  ...           13            1.55              79.38  33.07   \n",
       "\n",
       "   AlcoholDrinkers  HIVTesting  FluVaxLast12  PneumoVaxEver  HighRiskLastYear  \\\n",
       "0                0           0             1              1                 0   \n",
       "1                0           0             1              1                 0   \n",
       "2                1           0             0              1                 0   \n",
       "3                0           0             1              1                 0   \n",
       "4                0           0             1              1                 0   \n",
       "\n",
       "   CovidPos  \n",
       "0         0  \n",
       "1         0  \n",
       "2         1  \n",
       "3         1  \n",
       "4         0  \n",
       "\n",
       "[5 rows x 36 columns]"
      ]
     },
     "execution_count": 2,
     "metadata": {},
     "output_type": "execute_result"
    }
   ],
   "source": [
    "df= pd.read_csv('heart2022python.csv')\n",
    "df.head()"
   ]
  },
  {
   "cell_type": "code",
   "execution_count": 3,
   "metadata": {},
   "outputs": [
    {
     "data": {
      "text/plain": [
       "HadHeartAttack\n",
       "0    232587\n",
       "1     13435\n",
       "Name: count, dtype: int64"
      ]
     },
     "execution_count": 3,
     "metadata": {},
     "output_type": "execute_result"
    }
   ],
   "source": [
    "df.drop(['SleepHours',\"DeafOrHardOfHearing\",'BlindOrVisionDifficulty',\"DifficultyConcentrating\",\"DifficultyWalking\",'DifficultyDressingBathing',\"DifficultyErrands\",\"ECigaretteUsage\",\"ChestScan\",'HeightInMeters',\"WeightInKilograms\",\"HIVTesting\",'FluVaxLast12',\"PneumoVaxEver\",\"HighRiskLastYear\",\"CovidPos\"],axis=1,inplace=True)\n",
    "\n",
    "\n",
    "\n",
    "df.shape\n",
    "df['HadHeartAttack'].value_counts()\n"
   ]
  },
  {
   "cell_type": "code",
   "execution_count": 4,
   "metadata": {},
   "outputs": [],
   "source": [
    "df.duplicated().sum()\n",
    "df.drop_duplicates(inplace=True)"
   ]
  },
  {
   "cell_type": "code",
   "execution_count": 5,
   "metadata": {},
   "outputs": [
    {
     "data": {
      "text/plain": [
       "HadHeartAttack\n",
       "0    218267\n",
       "1     13407\n",
       "Name: count, dtype: int64"
      ]
     },
     "execution_count": 5,
     "metadata": {},
     "output_type": "execute_result"
    }
   ],
   "source": [
    "df['HadHeartAttack'].value_counts()"
   ]
  },
  {
   "cell_type": "markdown",
   "metadata": {},
   "source": [
    "## splite data"
   ]
  },
  {
   "cell_type": "code",
   "execution_count": 6,
   "metadata": {},
   "outputs": [],
   "source": [
    "x = df.drop([\"HadHeartAttack\"] , axis = 1).values\n",
    "y = df[\"HadHeartAttack\"].values"
   ]
  },
  {
   "cell_type": "code",
   "execution_count": 7,
   "metadata": {},
   "outputs": [],
   "source": [
    "smote_enn = SMOTEENN(random_state=42)\n",
    "x_ST, y_ST = smote_enn.fit_resample(x, y)\n",
    "x_train7, x_test7, y_train7, y_test7 = train_test_split(x_ST, y_ST, test_size=0.25, random_state=42)"
   ]
  },
  {
   "cell_type": "code",
   "execution_count": 8,
   "metadata": {},
   "outputs": [],
   "source": [
    "from sklearn.preprocessing import MinMaxScaler\n",
    "scaler = MinMaxScaler()\n",
    "x_train7 = scaler.fit_transform(x_train7)\n",
    "x_test7 = scaler.transform(x_test7)"
   ]
  },
  {
   "cell_type": "markdown",
   "metadata": {},
   "source": [
    "## Random Forest"
   ]
  },
  {
   "cell_type": "code",
   "execution_count": 9,
   "metadata": {},
   "outputs": [
    {
     "name": "stdout",
     "output_type": "stream",
     "text": [
      "Training Results\n",
      "\n",
      "              precision    recall  f1-score   support\n",
      "\n",
      "           0       0.99      1.00      0.99    129863\n",
      "           1       1.00      0.99      1.00    157923\n",
      "\n",
      "    accuracy                           0.99    287786\n",
      "   macro avg       0.99      1.00      0.99    287786\n",
      "weighted avg       0.99      0.99      0.99    287786\n",
      "\n",
      "Test Results\n",
      "\n",
      "              precision    recall  f1-score   support\n",
      "\n",
      "           0       0.97      0.99      0.98     43405\n",
      "           1       0.99      0.97      0.98     52524\n",
      "\n",
      "    accuracy                           0.98     95929\n",
      "   macro avg       0.98      0.98      0.98     95929\n",
      "weighted avg       0.98      0.98      0.98     95929\n",
      "\n",
      "Confusion Matrix:\n",
      " [[42827   578]\n",
      " [ 1446 51078]]\n"
     ]
    }
   ],
   "source": [
    "\n",
    "\n",
    "# rf = RandomForestClassifier()\n",
    "\n",
    "# param_grid = {\n",
    "#     'n_estimators': [100, 200, 300],  # Liczba drzew\n",
    "#     'max_depth': [10, 20, 30],        # Maksymalna głębokość drzewa\n",
    "#     'min_samples_split': [2, 4, 6],   # Minimalna liczba próbek wymagana do podziału węzła\n",
    "#     'min_samples_leaf': [1, 2, 4],    # Minimalna liczba próbek wymagana w liściu\n",
    "#     'max_features': ['auto', 'sqrt']  # Liczba cech do rozważenia przy każdym podziale\n",
    "# }\n",
    "\n",
    "# cv_rf = GridSearchCV(estimator=rf, param_grid=param_grid, cv=5, scoring='accuracy')\n",
    "\n",
    "# # Przeszukiwanie siatki parametrów\n",
    "# cv_rf.fit(x_train7, y_train7)\n",
    "\n",
    "# # Najlepszy zestaw parametrów\n",
    "# print(\"Najlepsze parametry: \", cv_rf.best_params_)\n",
    "\n",
    "# # Najlepszy estimator\n",
    "# best_rf = cv_rf.best_estimator_\n",
    "\n",
    "params = {\n",
    "    'n_estimators': 200,  # Liczba drzew\n",
    "    'max_depth': 30,        # Maksymalna głębokość drzewa\n",
    "    'min_samples_split': 4,   # Minimalna liczba próbek wymagana do podziału węzła\n",
    "    'min_samples_leaf': 1,    # Minimalna liczba próbek wymagana w liściu\n",
    "    'max_features':'sqrt' # Liczba cech do rozważenia przy każdym podziale\n",
    "}\n",
    "\n",
    "rf_clf = RandomForestClassifier(\n",
    "    n_estimators=params['n_estimators'],\n",
    "    max_depth=params['max_depth'],\n",
    "    min_samples_split=params['min_samples_split'],\n",
    "    min_samples_leaf=params['min_samples_leaf'],\n",
    "    max_features=params['max_features'])\n",
    "rf_clf.fit(x_train7, y_train7)\n",
    "\n",
    "# Predykcje i ocena modelu\n",
    "ypred_train = rf_clf.predict(x_train7)\n",
    "ypred_test = rf_clf.predict(x_test7)\n",
    "\n",
    "print(\"Training Results\\n\")\n",
    "print(classification_report(y_train7, ypred_train))\n",
    "print(\"Test Results\\n\")\n",
    "print(classification_report(y_test7, ypred_test))\n",
    "\n",
    "# Macierz pomyłek\n",
    "conf_matrix = confusion_matrix(y_test7, ypred_test)\n",
    "print(\"Confusion Matrix:\\n\", conf_matrix)\n",
    "\n",
    "# # Ocena modelu za pomocą walidacji krzyżowej\n",
    "# cross_val_scores = cross_val_score(rf_clf, x_train7, y_train7, cv=5)\n",
    "# print(\"Cross-validation scores:\", cross_val_scores)\n",
    "# print(\"Average cross-validation score:\", np.mean(cross_val_scores))"
   ]
  },
  {
   "cell_type": "code",
   "execution_count": 10,
   "metadata": {},
   "outputs": [
    {
     "data": {
      "image/png": "[encoded data removed]",
      "text/plain": [
       "<Figure size 640x480 with 1 Axes>"
      ]
     },
     "metadata": {},
     "output_type": "display_data"
    }
   ],
   "source": [
    "\n",
    "\n",
    "y_proba_test = rf_clf.predict_proba(x_test7)[:, 1]\n",
    "\n",
    "fpr, tpr, thresholds = roc_curve(y_test7, y_proba_test)\n",
    "\n",
    "plt.plot(fpr, tpr, label='ROC Curve')\n",
    "plt.xlabel('False Positive Rate')\n",
    "plt.ylabel('True Positive Rate')\n",
    "plt.title('ROC Curve with AUC = {:.2f}'.format(roc_auc_score(y_test7, y_proba_test)))\n",
    "plt.legend(loc='lower right')\n",
    "plt.grid(True)\n",
    "plt.show()"
   ]
  },
  {
   "cell_type": "markdown",
   "metadata": {},
   "source": [
    "## DECISION TREE CLASSIFIER"
   ]
  },
  {
   "cell_type": "code",
   "execution_count": 11,
   "metadata": {},
   "outputs": [
    {
     "name": "stdout",
     "output_type": "stream",
     "text": [
      "Training Results\n",
      "\n",
      "              precision    recall  f1-score   support\n",
      "\n",
      "           0       0.98      0.99      0.98    129863\n",
      "           1       0.99      0.98      0.99    157923\n",
      "\n",
      "    accuracy                           0.99    287786\n",
      "   macro avg       0.99      0.99      0.99    287786\n",
      "weighted avg       0.99      0.99      0.99    287786\n",
      "\n",
      "Testing Results\n",
      "\n",
      "              precision    recall  f1-score   support\n",
      "\n",
      "           0       0.96      0.97      0.97     43405\n",
      "           1       0.98      0.96      0.97     52524\n",
      "\n",
      "    accuracy                           0.97     95929\n",
      "   macro avg       0.97      0.97      0.97     95929\n",
      "weighted avg       0.97      0.97      0.97     95929\n",
      "\n"
     ]
    }
   ],
   "source": [
    "\n",
    "# param_grid = {\n",
    "#     'max_depth': [3, 5, 10, None],\n",
    "#     'min_samples_split': [2, 5, 10],\n",
    "#     'min_samples_leaf': [1, 2, 5],\n",
    "#     'criterion': ['gini', 'entropy']\n",
    "# }\n",
    "\n",
    "# # Utworzenie modelu drzewa decyzyjnego\n",
    "# tree = DecisionTreeClassifier()\n",
    "\n",
    "# # Uruchomienie Grid Search z walidacją krzyżową\n",
    "# grid_search = GridSearchCV(tree, param_grid, cv=5, scoring='accuracy')\n",
    "# grid_search.fit(x_train7, y_train7)\n",
    "\n",
    "# # Wyświetlenie najlepszych parametrów i wyników\n",
    "# print(\"Najlepsze parametry:\", grid_search.best_params_)\n",
    "# print(\"Najlepsza dokładność:\", grid_search.best_score_)\n",
    "\n",
    "# # Utworzenie i ocena modelu z najlepszymi parametrami\n",
    "# best_tree = grid_search.best_estimator_\n",
    "# best_tree.fit(x_train7, y_train7)\n",
    "\n",
    "params = {\n",
    "    'max_depth': None,\n",
    "    'min_samples_split': 10,\n",
    "    'min_samples_leaf': 2,\n",
    "    'criterion': 'entropy'\n",
    "}\n",
    "\n",
    "best_tree = DecisionTreeClassifier(\n",
    "    max_depth=params['max_depth'],\n",
    "    min_samples_split=params['min_samples_split'],\n",
    "    min_samples_leaf=params['min_samples_leaf'],\n",
    "    criterion=params['criterion'])\n",
    "best_tree.fit(x_train7, y_train7)\n",
    "\n",
    "\n",
    "ypred_train2 = best_tree.predict(x_train7)\n",
    "ypred_test2 = best_tree.predict(x_test7)\n",
    "\n",
    "# Ocena modelu na zbiorze testowym\n",
    "\n",
    "print(\"Training Results\\n\")\n",
    "print(classification_report(y_train7, ypred_train2))\n",
    "print('Testing Results\\n')\n",
    "print(classification_report(y_test7, ypred_test2))\n",
    "\n",
    "# # Dodatkowo: Walidacja krzyżowa dla najlepszego modelu na całym zbiorze danych\n",
    "# cross_val_scores = cross_val_score(best_tree, x_train7, y_train7, cv=5)\n",
    "# print(\"Cross-Validation Scores for the Best Model:\", cross_val_scores)\n",
    "# print(\"Average Cross-Validation Score:\", cross_val_scores.mean())"
   ]
  },
  {
   "cell_type": "code",
   "execution_count": 12,
   "metadata": {},
   "outputs": [
    {
     "data": {
      "image/png": "[encoded data removed]",
      "text/plain": [
       "<Figure size 640x480 with 1 Axes>"
      ]
     },
     "metadata": {},
     "output_type": "display_data"
    }
   ],
   "source": [
    "\n",
    "y_proba_test = best_tree.predict_proba(x_test7)[:, 1]\n",
    "\n",
    "fpr, tpr, thresholds = roc_curve(y_test7, y_proba_test)\n",
    "\n",
    "plt.plot(fpr, tpr, label='ROC Curve')\n",
    "plt.xlabel('False Positive Rate')\n",
    "plt.ylabel('True Positive Rate')\n",
    "plt.title('ROC Curve with AUC = {:.2f}'.format(roc_auc_score(y_test7, y_proba_test)))\n",
    "plt.legend(loc='lower right')\n",
    "plt.grid(True)\n",
    "plt.show()"
   ]
  },
  {
   "cell_type": "markdown",
   "metadata": {},
   "source": [
    "## Naive Bayes"
   ]
  },
  {
   "cell_type": "code",
   "execution_count": 13,
   "metadata": {},
   "outputs": [
    {
     "name": "stdout",
     "output_type": "stream",
     "text": [
      "Naive Bayes Classifier Accuracy:  0.8195436208028855\n"
     ]
    }
   ],
   "source": [
    "Gnb = GaussianNB()\n",
    "Gnb.fit(x_train7, y_train7)\n",
    "ypred_train3 = Gnb.predict(x_train7)\n",
    "y_pred_test3 = Gnb.predict(x_test7)\n",
    "\n",
    "print(\"Naive Bayes Classifier Accuracy: \",accuracy_score(y_test7, y_pred_test3))"
   ]
  },
  {
   "cell_type": "code",
   "execution_count": 14,
   "metadata": {},
   "outputs": [
    {
     "name": "stdout",
     "output_type": "stream",
     "text": [
      "Training Results\n",
      "\n",
      "              precision    recall  f1-score   support\n",
      "\n",
      "           0       0.77      0.87      0.81    129863\n",
      "           1       0.88      0.78      0.83    157923\n",
      "\n",
      "    accuracy                           0.82    287786\n",
      "   macro avg       0.82      0.82      0.82    287786\n",
      "weighted avg       0.83      0.82      0.82    287786\n",
      "\n"
     ]
    }
   ],
   "source": [
    "print(\"Training Results\\n\")\n",
    "print(classification_report(y_train7, ypred_train3))"
   ]
  },
  {
   "cell_type": "code",
   "execution_count": 15,
   "metadata": {},
   "outputs": [
    {
     "name": "stdout",
     "output_type": "stream",
     "text": [
      "Testing Results\n",
      "\n",
      "              precision    recall  f1-score   support\n",
      "\n",
      "           0       0.77      0.86      0.81     43405\n",
      "           1       0.88      0.78      0.83     52524\n",
      "\n",
      "    accuracy                           0.82     95929\n",
      "   macro avg       0.82      0.82      0.82     95929\n",
      "weighted avg       0.83      0.82      0.82     95929\n",
      "\n"
     ]
    }
   ],
   "source": [
    "print('Testing Results\\n')\n",
    "print(classification_report(y_test7, y_pred_test3))"
   ]
  },
  {
   "cell_type": "code",
   "execution_count": 16,
   "metadata": {},
   "outputs": [
    {
     "data": {
      "image/png": "[encoded data removed]",
      "text/plain": [
       "<Figure size 640x480 with 1 Axes>"
      ]
     },
     "metadata": {},
     "output_type": "display_data"
    }
   ],
   "source": [
    "# cross_val_scores = cross_val_score(Gnb, x_train7, y_train7, cv=5)\n",
    "# print(\"Cross-Validation Scores for the Best Model:\", cross_val_scores)\n",
    "# print(\"Average Cross-Validation Score:\", cross_val_scores.mean())\n",
    "\n",
    "y_proba_test = Gnb.predict_proba(x_test7)[:, 1]\n",
    "\n",
    "fpr, tpr, thresholds = roc_curve(y_test7, y_proba_test)\n",
    "\n",
    "plt.plot(fpr, tpr, label='ROC Curve')\n",
    "plt.xlabel('False Positive Rate')\n",
    "plt.ylabel('True Positive Rate')\n",
    "plt.title('ROC Curve with AUC = {:.2f}'.format(roc_auc_score(y_test7, y_proba_test)))\n",
    "plt.legend(loc='lower right')\n",
    "plt.grid(True)\n",
    "plt.show()"
   ]
  },
  {
   "cell_type": "markdown",
   "metadata": {},
   "source": [
    "## XGBOSST"
   ]
  },
  {
   "cell_type": "code",
   "execution_count": 17,
   "metadata": {},
   "outputs": [
    {
     "name": "stdout",
     "output_type": "stream",
     "text": [
      "Accuracy on Training set:  0.9808781525161058\n",
      "Accuracy on Test set:  0.9752629548937235\n",
      "\n",
      "Training Results\n",
      "\n",
      "              precision    recall  f1-score   support\n",
      "\n",
      "           0       0.97      0.99      0.98    129863\n",
      "           1       0.99      0.97      0.98    157923\n",
      "\n",
      "    accuracy                           0.98    287786\n",
      "   macro avg       0.98      0.98      0.98    287786\n",
      "weighted avg       0.98      0.98      0.98    287786\n",
      "\n",
      "Testing Results\n",
      "\n",
      "              precision    recall  f1-score   support\n",
      "\n",
      "           0       0.96      0.99      0.97     43405\n",
      "           1       0.99      0.97      0.98     52524\n",
      "\n",
      "    accuracy                           0.98     95929\n",
      "   macro avg       0.97      0.98      0.98     95929\n",
      "weighted avg       0.98      0.98      0.98     95929\n",
      "\n"
     ]
    },
    {
     "data": {
      "image/png": "[encoded data removed]",
      "text/plain": [
       "<Figure size 640x480 with 1 Axes>"
      ]
     },
     "metadata": {},
     "output_type": "display_data"
    }
   ],
   "source": [
    "\n",
    "# xg = XGBClassifier()\n",
    "\n",
    "# # Definiowanie siatki hiperparametrów do przetestowania\n",
    "# param_grid = {\n",
    "#     'n_estimators': [50, 100, 200],\n",
    "#     'max_depth': [3, 5, 7],\n",
    "#     'learning_rate': [0.01, 0.1, 0.2],\n",
    "#     'subsample': [0.7, 0.8, 0.9],\n",
    "#     'colsample_bytree': [0.7, 0.8, 0.9]\n",
    "# }\n",
    "\n",
    "# # Utworzenie obiektu GridSearchCV\n",
    "# grid_search = GridSearchCV(estimator=xg, param_grid=param_grid, cv=3, scoring='accuracy')\n",
    "\n",
    "# # Przeszukiwanie siatki parametrów\n",
    "# grid_search.fit(x_train7, y_train7)\n",
    "\n",
    "# # Najlepsze parametry i najlepszy model\n",
    "# print(\"Najlepsze parametry: \", grid_search.best_params_)\n",
    "# best_xg = grid_search.best_estimator_\n",
    "\n",
    "params = {\n",
    "    'n_estimators': 200,\n",
    "    'max_depth': 7,\n",
    "    'learning_rate': 0.2,\n",
    "    'subsample': 0.9,\n",
    "    'colsample_bytree': 0.7\n",
    "}\n",
    "\n",
    "best_xg = XGBClassifier(\n",
    "    n_estimators=params['n_estimators'],\n",
    "    max_depth=params['max_depth'],\n",
    "    learning_rate=params['learning_rate'],\n",
    "    subsample=params['subsample'],\n",
    "    colsample_bytree=params['colsample_bytree'])\n",
    "best_xg.fit(x_train7, y_train7)\n",
    "\n",
    "# Predykcje na zbiorze treningowym i testowym\n",
    "ypred_train4 = best_xg.predict(x_train7)\n",
    "y_pred_test4 = best_xg.predict(x_test7)\n",
    "\n",
    "# Ocena modelu\n",
    "print(\"Accuracy on Training set: \", accuracy_score(y_train7, ypred_train4))\n",
    "print(\"Accuracy on Test set: \", accuracy_score(y_test7, y_pred_test4))\n",
    "print(\"\\nTraining Results\\n\")\n",
    "print(classification_report(y_train7, ypred_train4))\n",
    "print('Testing Results\\n')\n",
    "print(classification_report(y_test7, y_pred_test4))\n",
    "\n",
    "# cross_val_scores = cross_val_score(best_xg, x_train7, y_train7, cv=5)\n",
    "# print(\"Cross-Validation Scores for the Best Model:\", cross_val_scores)\n",
    "# print(\"Average Cross-Validation Score:\", cross_val_scores.mean())\n",
    "\n",
    "\n",
    "# Krzywa ROC\n",
    "y_proba_test4 = best_xg.predict_proba(x_test7)[:, 1]\n",
    "fpr, tpr, thresholds = roc_curve(y_test7, y_proba_test4)\n",
    "plt.plot(fpr, tpr)\n",
    "plt.title(\"ROC Curve with AUC = {:.2f}\".format(roc_auc_score(y_test7, y_proba_test4)))\n",
    "plt.show()"
   ]
  },
  {
   "cell_type": "markdown",
   "metadata": {},
   "source": [
    "## logistic regression"
   ]
  },
  {
   "cell_type": "code",
   "execution_count": 18,
   "metadata": {},
   "outputs": [
    {
     "name": "stdout",
     "output_type": "stream",
     "text": [
      "Accuracy on Training set:  0.8551701611614185\n",
      "Accuracy on Test set:  0.857186043844927\n",
      "\n",
      "Training Results\n",
      "\n",
      "              precision    recall  f1-score   support\n",
      "\n",
      "           0       0.82      0.87      0.84    129863\n",
      "           1       0.89      0.84      0.86    157923\n",
      "\n",
      "    accuracy                           0.86    287786\n",
      "   macro avg       0.85      0.86      0.85    287786\n",
      "weighted avg       0.86      0.86      0.86    287786\n",
      "\n",
      "Testing Results\n",
      "\n",
      "              precision    recall  f1-score   support\n",
      "\n",
      "           0       0.82      0.87      0.85     43405\n",
      "           1       0.89      0.84      0.87     52524\n",
      "\n",
      "    accuracy                           0.86     95929\n",
      "   macro avg       0.86      0.86      0.86     95929\n",
      "weighted avg       0.86      0.86      0.86     95929\n",
      "\n"
     ]
    },
    {
     "data": {
      "image/png": "[encoded data removed]",
      "text/plain": [
       "<Figure size 640x480 with 1 Axes>"
      ]
     },
     "metadata": {},
     "output_type": "display_data"
    }
   ],
   "source": [
    "\n",
    "# # Inicjalizacja modelu regresji logistycznej\n",
    "# lg = LogisticRegression()\n",
    "\n",
    "# # Definiowanie siatki hiperparametrów do przetestowania\n",
    "# param_grid = {\n",
    "#     'C': [0.01, 0.1, 1, 10, 100],  # Parametr regularyzacji\n",
    "#     'penalty': ['l1', 'l2'],       # Typ regularyzacji\n",
    "#     'solver': ['liblinear']        # Algorytm optymalizacji (liblinear jest dobrym wyborem dla małych zbiorów danych)\n",
    "# }\n",
    "\n",
    "# # Utworzenie obiektu GridSearchCV\n",
    "# grid_search = GridSearchCV(estimator=lg, param_grid=param_grid, cv=5, scoring='accuracy')\n",
    "\n",
    "# # Przeszukiwanie siatki parametrów\n",
    "# grid_search.fit(x_train7, y_train7)\n",
    "\n",
    "# # Najlepsze parametry i najlepszy model\n",
    "# print(\"Najlepsze parametry: \", grid_search.best_params_)\n",
    "# best_lg = grid_search.best_estimator_\n",
    "\n",
    "params = {\n",
    "    'C': 0.01,\n",
    "    'penalty': 'l1',\n",
    "    'solver': 'liblinear'\n",
    "}\n",
    "\n",
    "best_lg = LogisticRegression(\n",
    "    C=params['C'],\n",
    "    penalty=params['penalty'],\n",
    "    solver=params['solver'])\n",
    "best_lg.fit(x_train7, y_train7)\n",
    "\n",
    "# Predykcje na zbiorze treningowym i testowym\n",
    "ypred_train4 = best_lg.predict(x_train7)\n",
    "y_pred_test4 = best_lg.predict(x_test7)\n",
    "\n",
    "# Ocena modelu\n",
    "print(\"Accuracy on Training set: \", accuracy_score(y_train7, ypred_train4))\n",
    "print(\"Accuracy on Test set: \", accuracy_score(y_test7, y_pred_test4))\n",
    "print(\"\\nTraining Results\\n\")\n",
    "print(classification_report(y_train7, ypred_train4))\n",
    "print('Testing Results\\n')\n",
    "print(classification_report(y_test7, y_pred_test4))\n",
    "\n",
    "# cross_val_scores = cross_val_score(best_lg, x_train7, y_train7, cv=5)\n",
    "# print(\"Cross-Validation Scores for the Best Model:\", cross_val_scores)\n",
    "# print(\"Average Cross-Validation Score:\", cross_val_scores.mean())\n",
    "\n",
    "\n",
    "# Krzywa ROC\n",
    "y_proba_test4 = best_lg.predict_proba(x_test7)[:, 1]\n",
    "fpr, tpr, thresholds = roc_curve(y_test7, y_proba_test4)\n",
    "plt.plot(fpr, tpr)\n",
    "plt.title(\"ROC Curve with AUC = {:.2f}\".format(roc_auc_score(y_test7, y_proba_test4)))\n",
    "plt.show()"
   ]
  },
  {
   "cell_type": "markdown",
   "metadata": {},
   "source": [
    "## GradientBoostingClassifier\n"
   ]
  },
  {
   "cell_type": "code",
   "execution_count": 19,
   "metadata": {},
   "outputs": [
    {
     "name": "stdout",
     "output_type": "stream",
     "text": [
      "Accuracy on Training set:  0.9883872043810331\n",
      "Accuracy on Test set:  0.9752629548937235\n",
      "\n",
      "Training Results\n",
      "\n",
      "              precision    recall  f1-score   support\n",
      "\n",
      "           0       0.98      1.00      0.99    129863\n",
      "           1       1.00      0.98      0.99    157923\n",
      "\n",
      "    accuracy                           0.99    287786\n",
      "   macro avg       0.99      0.99      0.99    287786\n",
      "weighted avg       0.99      0.99      0.99    287786\n",
      "\n",
      "Testing Results\n",
      "\n",
      "              precision    recall  f1-score   support\n",
      "\n",
      "           0       0.96      0.98      0.97     43405\n",
      "           1       0.99      0.97      0.98     52524\n",
      "\n",
      "    accuracy                           0.98     95929\n",
      "   macro avg       0.97      0.98      0.98     95929\n",
      "weighted avg       0.98      0.98      0.98     95929\n",
      "\n"
     ]
    },
    {
     "data": {
      "image/png": "[encoded data removed]",
      "text/plain": [
       "<Figure size 640x480 with 1 Axes>"
      ]
     },
     "metadata": {},
     "output_type": "display_data"
    }
   ],
   "source": [
    "\n",
    "\n",
    "# # Inicjalizacja modelu Gradient Boosting Classifier\n",
    "# gb = GradientBoostingClassifier()\n",
    "\n",
    "# # Definiowanie siatki hiperparametrów do przetestowania\n",
    "# param_grid = {\n",
    "#     'n_estimators': [100, 200, 300],  # Liczba drzew w ensemble\n",
    "#     'learning_rate': [0.01, 0.1, 0.2], # Szybkość uczenia\n",
    "#     'max_depth': [3, 5, 7],            # Maksymalna głębokość drzewa\n",
    "#     'min_samples_split': [2, 4],       # Minimalna liczba próbek wymagana do podziału węzła\n",
    "#     'min_samples_leaf': [1, 2]         # Minimalna liczba próbek w liściu\n",
    "# }\n",
    "\n",
    "# # Utworzenie obiektu GridSearchCV\n",
    "# grid_search = GridSearchCV(estimator=gb, param_grid=param_grid, cv=5, scoring='accuracy')\n",
    "\n",
    "# # Przeszukiwanie siatki parametrów\n",
    "# grid_search.fit(x_train7, y_train7)\n",
    "\n",
    "# # Najlepsze parametry i najlepszy model\n",
    "# print(\"Najlepsze parametry: \", grid_search.best_params_)\n",
    "# best_gb = grid_search.best_estimator_\n",
    "\n",
    "\n",
    "params = {\n",
    "    'n_estimators': 300,\n",
    "    'learning_rate': 0.2,\n",
    "    'max_depth': 7,\n",
    "    'min_samples_split': 4,\n",
    "    'min_samples_leaf': 2\n",
    "}\n",
    "\n",
    "best_gb = GradientBoostingClassifier(\n",
    "    n_estimators=params['n_estimators'],\n",
    "    learning_rate=params['learning_rate'],\n",
    "    max_depth=params['max_depth'],\n",
    "    min_samples_split=params['min_samples_split'],\n",
    "    min_samples_leaf=params['min_samples_leaf'])\n",
    "best_gb.fit(x_train7, y_train7)\n",
    "# Predykcje na zbiorze treningowym i testowym\n",
    "ypred_train6 = best_gb.predict(x_train7)\n",
    "y_pred_test6 = best_gb.predict(x_test7)\n",
    "\n",
    "# Ocena modelu\n",
    "print(\"Accuracy on Training set: \", accuracy_score(y_train7, ypred_train6))\n",
    "print(\"Accuracy on Test set: \", accuracy_score(y_test7, y_pred_test6))\n",
    "print(\"\\nTraining Results\\n\")\n",
    "print(classification_report(y_train7, ypred_train6))\n",
    "print('Testing Results\\n')\n",
    "print(classification_report(y_test7, y_pred_test6))\n",
    "\n",
    "# cross_val_scores = cross_val_score(best_gb, x_train7, y_train7, cv=5)\n",
    "# print(\"Cross-Validation Scores for the Best Model:\", cross_val_scores)\n",
    "# print(\"Average Cross-Validation Score:\", cross_val_scores.mean())\n",
    "\n",
    "\n",
    "# Krzywa ROC\n",
    "y_proba_test6 = best_gb.predict_proba(x_test7)[:, 1]\n",
    "fpr, tpr, thresholds = roc_curve(y_test7, y_proba_test6)\n",
    "plt.plot(fpr, tpr)\n",
    "plt.title(\"ROC Curve with AUC = {:.2f}\".format(roc_auc_score(y_test7, y_proba_test6)))\n",
    "plt.show()"
   ]
  },
  {
   "cell_type": "markdown",
   "metadata": {},
   "source": [
    "## KNN"
   ]
  },
  {
   "cell_type": "code",
   "execution_count": 20,
   "metadata": {},
   "outputs": [
    {
     "data": {
      "text/html": [
       "<style>#sk-container-id-1 {color: black;}#sk-container-id-1 pre{padding: 0;}#sk-container-id-1 div.sk-toggleable {background-color: white;}#sk-container-id-1 label.sk-toggleable__label {cursor: pointer;display: block;width: 100%;margin-bottom: 0;padding: 0.3em;box-sizing: border-box;text-align: center;}#sk-container-id-1 label.sk-toggleable__label-arrow:before {content: \"▸\";float: left;margin-right: 0.25em;color: #696969;}#sk-container-id-1 label.sk-toggleable__label-arrow:hover:before {color: black;}#sk-container-id-1 div.sk-estimator:hover label.sk-toggleable__label-arrow:before {color: black;}#sk-container-id-1 div.sk-toggleable__content {max-height: 0;max-width: 0;overflow: hidden;text-align: left;background-color: #f0f8ff;}#sk-container-id-1 div.sk-toggleable__content pre {margin: 0.2em;color: black;border-radius: 0.25em;background-color: #f0f8ff;}#sk-container-id-1 input.sk-toggleable__control:checked~div.sk-toggleable__content {max-height: 200px;max-width: 100%;overflow: auto;}#sk-container-id-1 input.sk-toggleable__control:checked~label.sk-toggleable__label-arrow:before {content: \"▾\";}#sk-container-id-1 div.sk-estimator input.sk-toggleable__control:checked~label.sk-toggleable__label {background-color: #d4ebff;}#sk-container-id-1 div.sk-label input.sk-toggleable__control:checked~label.sk-toggleable__label {background-color: #d4ebff;}#sk-container-id-1 input.sk-hidden--visually {border: 0;clip: rect(1px 1px 1px 1px);clip: rect(1px, 1px, 1px, 1px);height: 1px;margin: -1px;overflow: hidden;padding: 0;position: absolute;width: 1px;}#sk-container-id-1 div.sk-estimator {font-family: monospace;background-color: #f0f8ff;border: 1px dotted black;border-radius: 0.25em;box-sizing: border-box;margin-bottom: 0.5em;}#sk-container-id-1 div.sk-estimator:hover {background-color: #d4ebff;}#sk-container-id-1 div.sk-parallel-item::after {content: \"\";width: 100%;border-bottom: 1px solid gray;flex-grow: 1;}#sk-container-id-1 div.sk-label:hover label.sk-toggleable__label {background-color: #d4ebff;}#sk-container-id-1 div.sk-serial::before {content: \"\";position: absolute;border-left: 1px solid gray;box-sizing: border-box;top: 0;bottom: 0;left: 50%;z-index: 0;}#sk-container-id-1 div.sk-serial {display: flex;flex-direction: column;align-items: center;background-color: white;padding-right: 0.2em;padding-left: 0.2em;position: relative;}#sk-container-id-1 div.sk-item {position: relative;z-index: 1;}#sk-container-id-1 div.sk-parallel {display: flex;align-items: stretch;justify-content: center;background-color: white;position: relative;}#sk-container-id-1 div.sk-item::before, #sk-container-id-1 div.sk-parallel-item::before {content: \"\";position: absolute;border-left: 1px solid gray;box-sizing: border-box;top: 0;bottom: 0;left: 50%;z-index: -1;}#sk-container-id-1 div.sk-parallel-item {display: flex;flex-direction: column;z-index: 1;position: relative;background-color: white;}#sk-container-id-1 div.sk-parallel-item:first-child::after {align-self: flex-end;width: 50%;}#sk-container-id-1 div.sk-parallel-item:last-child::after {align-self: flex-start;width: 50%;}#sk-container-id-1 div.sk-parallel-item:only-child::after {width: 0;}#sk-container-id-1 div.sk-dashed-wrapped {border: 1px dashed gray;margin: 0 0.4em 0.5em 0.4em;box-sizing: border-box;padding-bottom: 0.4em;background-color: white;}#sk-container-id-1 div.sk-label label {font-family: monospace;font-weight: bold;display: inline-block;line-height: 1.2em;}#sk-container-id-1 div.sk-label-container {text-align: center;}#sk-container-id-1 div.sk-container {/* jupyter's `normalize.less` sets `[hidden] { display: none; }` but bootstrap.min.css set `[hidden] { display: none !important; }` so we also need the `!important` here to be able to override the default hidden behavior on the sphinx rendered scikit-learn.org. See: https://github.com/scikit-learn/scikit-learn/issues/21755 */display: inline-block !important;position: relative;}#sk-container-id-1 div.sk-text-repr-fallback {display: none;}</style><div id=\"sk-container-id-1\" class=\"sk-top-container\"><div class=\"sk-text-repr-fallback\"><pre>KNeighborsClassifier()</pre><b>In a Jupyter environment, please rerun this cell to show the HTML representation or trust the notebook. <br />On GitHub, the HTML representation is unable to render, please try loading this page with nbviewer.org.</b></div><div class=\"sk-container\" hidden><div class=\"sk-item\"><div class=\"sk-estimator sk-toggleable\"><input class=\"sk-toggleable__control sk-hidden--visually\" id=\"sk-estimator-id-1\" type=\"checkbox\" checked><label for=\"sk-estimator-id-1\" class=\"sk-toggleable__label sk-toggleable__label-arrow\">KNeighborsClassifier</label><div class=\"sk-toggleable__content\"><pre>KNeighborsClassifier()</pre></div></div></div></div></div>"
      ],
      "text/plain": [
       "KNeighborsClassifier()"
      ]
     },
     "execution_count": 20,
     "metadata": {},
     "output_type": "execute_result"
    }
   ],
   "source": [
    "knn = KNeighborsClassifier()\n",
    "knn.fit(x_train7, y_train7)\n"
   ]
  },
  {
   "cell_type": "code",
   "execution_count": 21,
   "metadata": {},
   "outputs": [],
   "source": [
    "grid_cv = GridSearchCV(KNeighborsClassifier(), \n",
    "                       param_grid={\n",
    "                           \"n_neighbors\": range(1, 50)\n",
    "                       }, cv=5, scoring=\"f1\", \n",
    "                       verbose=1, n_jobs=6)\n"
   ]
  },
  {
   "cell_type": "code",
   "execution_count": 22,
   "metadata": {},
   "outputs": [
    {
     "name": "stdout",
     "output_type": "stream",
     "text": [
      "Fitting 5 folds for each of 49 candidates, totalling 245 fits\n"
     ]
    },
    {
     "data": {
      "text/html": [
       "<style>#sk-container-id-2 {color: black;}#sk-container-id-2 pre{padding: 0;}#sk-container-id-2 div.sk-toggleable {background-color: white;}#sk-container-id-2 label.sk-toggleable__label {cursor: pointer;display: block;width: 100%;margin-bottom: 0;padding: 0.3em;box-sizing: border-box;text-align: center;}#sk-container-id-2 label.sk-toggleable__label-arrow:before {content: \"▸\";float: left;margin-right: 0.25em;color: #696969;}#sk-container-id-2 label.sk-toggleable__label-arrow:hover:before {color: black;}#sk-container-id-2 div.sk-estimator:hover label.sk-toggleable__label-arrow:before {color: black;}#sk-container-id-2 div.sk-toggleable__content {max-height: 0;max-width: 0;overflow: hidden;text-align: left;background-color: #f0f8ff;}#sk-container-id-2 div.sk-toggleable__content pre {margin: 0.2em;color: black;border-radius: 0.25em;background-color: #f0f8ff;}#sk-container-id-2 input.sk-toggleable__control:checked~div.sk-toggleable__content {max-height: 200px;max-width: 100%;overflow: auto;}#sk-container-id-2 input.sk-toggleable__control:checked~label.sk-toggleable__label-arrow:before {content: \"▾\";}#sk-container-id-2 div.sk-estimator input.sk-toggleable__control:checked~label.sk-toggleable__label {background-color: #d4ebff;}#sk-container-id-2 div.sk-label input.sk-toggleable__control:checked~label.sk-toggleable__label {background-color: #d4ebff;}#sk-container-id-2 input.sk-hidden--visually {border: 0;clip: rect(1px 1px 1px 1px);clip: rect(1px, 1px, 1px, 1px);height: 1px;margin: -1px;overflow: hidden;padding: 0;position: absolute;width: 1px;}#sk-container-id-2 div.sk-estimator {font-family: monospace;background-color: #f0f8ff;border: 1px dotted black;border-radius: 0.25em;box-sizing: border-box;margin-bottom: 0.5em;}#sk-container-id-2 div.sk-estimator:hover {background-color: #d4ebff;}#sk-container-id-2 div.sk-parallel-item::after {content: \"\";width: 100%;border-bottom: 1px solid gray;flex-grow: 1;}#sk-container-id-2 div.sk-label:hover label.sk-toggleable__label {background-color: #d4ebff;}#sk-container-id-2 div.sk-serial::before {content: \"\";position: absolute;border-left: 1px solid gray;box-sizing: border-box;top: 0;bottom: 0;left: 50%;z-index: 0;}#sk-container-id-2 div.sk-serial {display: flex;flex-direction: column;align-items: center;background-color: white;padding-right: 0.2em;padding-left: 0.2em;position: relative;}#sk-container-id-2 div.sk-item {position: relative;z-index: 1;}#sk-container-id-2 div.sk-parallel {display: flex;align-items: stretch;justify-content: center;background-color: white;position: relative;}#sk-container-id-2 div.sk-item::before, #sk-container-id-2 div.sk-parallel-item::before {content: \"\";position: absolute;border-left: 1px solid gray;box-sizing: border-box;top: 0;bottom: 0;left: 50%;z-index: -1;}#sk-container-id-2 div.sk-parallel-item {display: flex;flex-direction: column;z-index: 1;position: relative;background-color: white;}#sk-container-id-2 div.sk-parallel-item:first-child::after {align-self: flex-end;width: 50%;}#sk-container-id-2 div.sk-parallel-item:last-child::after {align-self: flex-start;width: 50%;}#sk-container-id-2 div.sk-parallel-item:only-child::after {width: 0;}#sk-container-id-2 div.sk-dashed-wrapped {border: 1px dashed gray;margin: 0 0.4em 0.5em 0.4em;box-sizing: border-box;padding-bottom: 0.4em;background-color: white;}#sk-container-id-2 div.sk-label label {font-family: monospace;font-weight: bold;display: inline-block;line-height: 1.2em;}#sk-container-id-2 div.sk-label-container {text-align: center;}#sk-container-id-2 div.sk-container {/* jupyter's `normalize.less` sets `[hidden] { display: none; }` but bootstrap.min.css set `[hidden] { display: none !important; }` so we also need the `!important` here to be able to override the default hidden behavior on the sphinx rendered scikit-learn.org. See: https://github.com/scikit-learn/scikit-learn/issues/21755 */display: inline-block !important;position: relative;}#sk-container-id-2 div.sk-text-repr-fallback {display: none;}</style><div id=\"sk-container-id-2\" class=\"sk-top-container\"><div class=\"sk-text-repr-fallback\"><pre>GridSearchCV(cv=5, estimator=KNeighborsClassifier(), n_jobs=6,\n",
       "             param_grid={&#x27;n_neighbors&#x27;: range(1, 50)}, scoring=&#x27;f1&#x27;, verbose=1)</pre><b>In a Jupyter environment, please rerun this cell to show the HTML representation or trust the notebook. <br />On GitHub, the HTML representation is unable to render, please try loading this page with nbviewer.org.</b></div><div class=\"sk-container\" hidden><div class=\"sk-item sk-dashed-wrapped\"><div class=\"sk-label-container\"><div class=\"sk-label sk-toggleable\"><input class=\"sk-toggleable__control sk-hidden--visually\" id=\"sk-estimator-id-2\" type=\"checkbox\" ><label for=\"sk-estimator-id-2\" class=\"sk-toggleable__label sk-toggleable__label-arrow\">GridSearchCV</label><div class=\"sk-toggleable__content\"><pre>GridSearchCV(cv=5, estimator=KNeighborsClassifier(), n_jobs=6,\n",
       "             param_grid={&#x27;n_neighbors&#x27;: range(1, 50)}, scoring=&#x27;f1&#x27;, verbose=1)</pre></div></div></div><div class=\"sk-parallel\"><div class=\"sk-parallel-item\"><div class=\"sk-item\"><div class=\"sk-label-container\"><div class=\"sk-label sk-toggleable\"><input class=\"sk-toggleable__control sk-hidden--visually\" id=\"sk-estimator-id-3\" type=\"checkbox\" ><label for=\"sk-estimator-id-3\" class=\"sk-toggleable__label sk-toggleable__label-arrow\">estimator: KNeighborsClassifier</label><div class=\"sk-toggleable__content\"><pre>KNeighborsClassifier()</pre></div></div></div><div class=\"sk-serial\"><div class=\"sk-item\"><div class=\"sk-estimator sk-toggleable\"><input class=\"sk-toggleable__control sk-hidden--visually\" id=\"sk-estimator-id-4\" type=\"checkbox\" ><label for=\"sk-estimator-id-4\" class=\"sk-toggleable__label sk-toggleable__label-arrow\">KNeighborsClassifier</label><div class=\"sk-toggleable__content\"><pre>KNeighborsClassifier()</pre></div></div></div></div></div></div></div></div></div></div>"
      ],
      "text/plain": [
       "GridSearchCV(cv=5, estimator=KNeighborsClassifier(), n_jobs=6,\n",
       "             param_grid={'n_neighbors': range(1, 50)}, scoring='f1', verbose=1)"
      ]
     },
     "execution_count": 22,
     "metadata": {},
     "output_type": "execute_result"
    }
   ],
   "source": [
    "grid_cv.fit(x_train7, \n",
    "            y_train7)"
   ]
  },
  {
   "cell_type": "code",
   "execution_count": 23,
   "metadata": {},
   "outputs": [
    {
     "data": {
      "text/plain": [
       "0.9742372940399108"
      ]
     },
     "execution_count": 23,
     "metadata": {},
     "output_type": "execute_result"
    }
   ],
   "source": [
    "grid_cv.best_score_\n"
   ]
  },
  {
   "cell_type": "code",
   "execution_count": 24,
   "metadata": {},
   "outputs": [
    {
     "data": {
      "text/html": [
       "<style>#sk-container-id-3 {color: black;}#sk-container-id-3 pre{padding: 0;}#sk-container-id-3 div.sk-toggleable {background-color: white;}#sk-container-id-3 label.sk-toggleable__label {cursor: pointer;display: block;width: 100%;margin-bottom: 0;padding: 0.3em;box-sizing: border-box;text-align: center;}#sk-container-id-3 label.sk-toggleable__label-arrow:before {content: \"▸\";float: left;margin-right: 0.25em;color: #696969;}#sk-container-id-3 label.sk-toggleable__label-arrow:hover:before {color: black;}#sk-container-id-3 div.sk-estimator:hover label.sk-toggleable__label-arrow:before {color: black;}#sk-container-id-3 div.sk-toggleable__content {max-height: 0;max-width: 0;overflow: hidden;text-align: left;background-color: #f0f8ff;}#sk-container-id-3 div.sk-toggleable__content pre {margin: 0.2em;color: black;border-radius: 0.25em;background-color: #f0f8ff;}#sk-container-id-3 input.sk-toggleable__control:checked~div.sk-toggleable__content {max-height: 200px;max-width: 100%;overflow: auto;}#sk-container-id-3 input.sk-toggleable__control:checked~label.sk-toggleable__label-arrow:before {content: \"▾\";}#sk-container-id-3 div.sk-estimator input.sk-toggleable__control:checked~label.sk-toggleable__label {background-color: #d4ebff;}#sk-container-id-3 div.sk-label input.sk-toggleable__control:checked~label.sk-toggleable__label {background-color: #d4ebff;}#sk-container-id-3 input.sk-hidden--visually {border: 0;clip: rect(1px 1px 1px 1px);clip: rect(1px, 1px, 1px, 1px);height: 1px;margin: -1px;overflow: hidden;padding: 0;position: absolute;width: 1px;}#sk-container-id-3 div.sk-estimator {font-family: monospace;background-color: #f0f8ff;border: 1px dotted black;border-radius: 0.25em;box-sizing: border-box;margin-bottom: 0.5em;}#sk-container-id-3 div.sk-estimator:hover {background-color: #d4ebff;}#sk-container-id-3 div.sk-parallel-item::after {content: \"\";width: 100%;border-bottom: 1px solid gray;flex-grow: 1;}#sk-container-id-3 div.sk-label:hover label.sk-toggleable__label {background-color: #d4ebff;}#sk-container-id-3 div.sk-serial::before {content: \"\";position: absolute;border-left: 1px solid gray;box-sizing: border-box;top: 0;bottom: 0;left: 50%;z-index: 0;}#sk-container-id-3 div.sk-serial {display: flex;flex-direction: column;align-items: center;background-color: white;padding-right: 0.2em;padding-left: 0.2em;position: relative;}#sk-container-id-3 div.sk-item {position: relative;z-index: 1;}#sk-container-id-3 div.sk-parallel {display: flex;align-items: stretch;justify-content: center;background-color: white;position: relative;}#sk-container-id-3 div.sk-item::before, #sk-container-id-3 div.sk-parallel-item::before {content: \"\";position: absolute;border-left: 1px solid gray;box-sizing: border-box;top: 0;bottom: 0;left: 50%;z-index: -1;}#sk-container-id-3 div.sk-parallel-item {display: flex;flex-direction: column;z-index: 1;position: relative;background-color: white;}#sk-container-id-3 div.sk-parallel-item:first-child::after {align-self: flex-end;width: 50%;}#sk-container-id-3 div.sk-parallel-item:last-child::after {align-self: flex-start;width: 50%;}#sk-container-id-3 div.sk-parallel-item:only-child::after {width: 0;}#sk-container-id-3 div.sk-dashed-wrapped {border: 1px dashed gray;margin: 0 0.4em 0.5em 0.4em;box-sizing: border-box;padding-bottom: 0.4em;background-color: white;}#sk-container-id-3 div.sk-label label {font-family: monospace;font-weight: bold;display: inline-block;line-height: 1.2em;}#sk-container-id-3 div.sk-label-container {text-align: center;}#sk-container-id-3 div.sk-container {/* jupyter's `normalize.less` sets `[hidden] { display: none; }` but bootstrap.min.css set `[hidden] { display: none !important; }` so we also need the `!important` here to be able to override the default hidden behavior on the sphinx rendered scikit-learn.org. See: https://github.com/scikit-learn/scikit-learn/issues/21755 */display: inline-block !important;position: relative;}#sk-container-id-3 div.sk-text-repr-fallback {display: none;}</style><div id=\"sk-container-id-3\" class=\"sk-top-container\"><div class=\"sk-text-repr-fallback\"><pre>KNeighborsClassifier(n_neighbors=1)</pre><b>In a Jupyter environment, please rerun this cell to show the HTML representation or trust the notebook. <br />On GitHub, the HTML representation is unable to render, please try loading this page with nbviewer.org.</b></div><div class=\"sk-container\" hidden><div class=\"sk-item\"><div class=\"sk-estimator sk-toggleable\"><input class=\"sk-toggleable__control sk-hidden--visually\" id=\"sk-estimator-id-5\" type=\"checkbox\" checked><label for=\"sk-estimator-id-5\" class=\"sk-toggleable__label sk-toggleable__label-arrow\">KNeighborsClassifier</label><div class=\"sk-toggleable__content\"><pre>KNeighborsClassifier(n_neighbors=1)</pre></div></div></div></div></div>"
      ],
      "text/plain": [
       "KNeighborsClassifier(n_neighbors=1)"
      ]
     },
     "execution_count": 24,
     "metadata": {},
     "output_type": "execute_result"
    }
   ],
   "source": [
    "knn = grid_cv.best_estimator_\n",
    "knn"
   ]
  },
  {
   "cell_type": "code",
   "execution_count": 25,
   "metadata": {},
   "outputs": [
    {
     "name": "stdout",
     "output_type": "stream",
     "text": [
      "XGBClassifier Accuracy:  0.9762532706480834\n"
     ]
    }
   ],
   "source": [
    "ypred_train6 = grid_cv.predict(x_train7)\n",
    "y_pred_test6 = grid_cv.predict(x_test7)\n",
    "print(\"XGBClassifier Accuracy: \",accuracy_score(y_test7, y_pred_test6))"
   ]
  },
  {
   "cell_type": "code",
   "execution_count": 26,
   "metadata": {},
   "outputs": [
    {
     "name": "stdout",
     "output_type": "stream",
     "text": [
      "Training Results\n",
      "\n",
      "              precision    recall  f1-score   support\n",
      "\n",
      "           0       1.00      1.00      1.00    129863\n",
      "           1       1.00      1.00      1.00    157923\n",
      "\n",
      "    accuracy                           1.00    287786\n",
      "   macro avg       1.00      1.00      1.00    287786\n",
      "weighted avg       1.00      1.00      1.00    287786\n",
      "\n"
     ]
    }
   ],
   "source": [
    "print(\"Training Results\\n\")\n",
    "print(classification_report(y_train7, ypred_train6))"
   ]
  },
  {
   "cell_type": "code",
   "execution_count": 27,
   "metadata": {},
   "outputs": [
    {
     "name": "stdout",
     "output_type": "stream",
     "text": [
      "Testing Results\n",
      "\n",
      "              precision    recall  f1-score   support\n",
      "\n",
      "           0       0.99      0.96      0.97     43405\n",
      "           1       0.97      0.99      0.98     52524\n",
      "\n",
      "    accuracy                           0.98     95929\n",
      "   macro avg       0.98      0.97      0.98     95929\n",
      "weighted avg       0.98      0.98      0.98     95929\n",
      "\n"
     ]
    }
   ],
   "source": [
    "print('Testing Results\\n')\n",
    "print(classification_report(y_test7, y_pred_test6))"
   ]
  },
  {
   "cell_type": "code",
   "execution_count": 28,
   "metadata": {},
   "outputs": [
    {
     "data": {
      "image/png": "[encoded data removed]",
      "text/plain": [
       "<Figure size 640x480 with 1 Axes>"
      ]
     },
     "metadata": {},
     "output_type": "display_data"
    }
   ],
   "source": [
    "# cross_val_scores = cross_val_score(grid_cv, x_train7, y_train7, cv=5)\n",
    "# print(\"Cross-Validation Scores for the Best Model:\", cross_val_scores)\n",
    "# print(\"Average Cross-Validation Score:\", cross_val_scores.mean())\n",
    "\n",
    "\n",
    "y_proba_test = grid_cv.predict_proba(x_test7)[:, 1]\n",
    "\n",
    "fpr, tpr, thresholds = roc_curve(y_test7, y_proba_test)\n",
    "\n",
    "plt.plot(fpr, tpr, label='ROC Curve')\n",
    "plt.xlabel('False Positive Rate')\n",
    "plt.ylabel('True Positive Rate')\n",
    "plt.title('ROC Curve with AUC = {:.2f}'.format(roc_auc_score(y_test7, y_proba_test)))\n",
    "plt.legend(loc='lower right')\n",
    "plt.grid(True)\n",
    "plt.show()"
   ]
  },
  {
   "cell_type": "markdown",
   "metadata": {},
   "source": [
    "## SIECI NEURONOWE"
   ]
  },
  {
   "cell_type": "markdown",
   "metadata": {},
   "source": [
    "## ANN"
   ]
  },
  {
   "cell_type": "code",
   "execution_count": 29,
   "metadata": {},
   "outputs": [
    {
     "name": "stdout",
     "output_type": "stream",
     "text": [
      "WARNING:tensorflow:From C:\\Users\\DELL\\AppData\\Roaming\\Python\\Python311\\site-packages\\keras\\src\\backend.py:873: The name tf.get_default_graph is deprecated. Please use tf.compat.v1.get_default_graph instead.\n",
      "\n"
     ]
    }
   ],
   "source": [
    "ann = tf.keras.models.Sequential()"
   ]
  },
  {
   "cell_type": "code",
   "execution_count": 30,
   "metadata": {},
   "outputs": [],
   "source": [
    "early_stop = EarlyStopping(monitor='val_loss', mode='min', verbose=1, patience=25)\n"
   ]
  },
  {
   "cell_type": "code",
   "execution_count": 31,
   "metadata": {},
   "outputs": [],
   "source": [
    "ann.add(tf.keras.layers.Dense(units=14, activation='relu'))"
   ]
  },
  {
   "cell_type": "code",
   "execution_count": 32,
   "metadata": {},
   "outputs": [],
   "source": [
    "ann.add(tf.keras.layers.Dense(units=6, activation='relu'))"
   ]
  },
  {
   "cell_type": "code",
   "execution_count": 33,
   "metadata": {},
   "outputs": [],
   "source": [
    "ann.add(tf.keras.layers.Dense(units=1, activation='sigmoid'))"
   ]
  },
  {
   "cell_type": "code",
   "execution_count": 34,
   "metadata": {},
   "outputs": [
    {
     "name": "stdout",
     "output_type": "stream",
     "text": [
      "WARNING:tensorflow:From C:\\Users\\DELL\\AppData\\Roaming\\Python\\Python311\\site-packages\\keras\\src\\optimizers\\__init__.py:309: The name tf.train.Optimizer is deprecated. Please use tf.compat.v1.train.Optimizer instead.\n",
      "\n"
     ]
    }
   ],
   "source": [
    "ann.compile(optimizer = 'adam', loss = 'binary_crossentropy', metrics = ['accuracy'])"
   ]
  },
  {
   "cell_type": "code",
   "execution_count": 35,
   "metadata": {},
   "outputs": [
    {
     "name": "stdout",
     "output_type": "stream",
     "text": [
      "Epoch 1/100\n",
      "WARNING:tensorflow:From C:\\Users\\DELL\\AppData\\Roaming\\Python\\Python311\\site-packages\\keras\\src\\utils\\tf_utils.py:492: The name tf.ragged.RaggedTensorValue is deprecated. Please use tf.compat.v1.ragged.RaggedTensorValue instead.\n",
      "\n",
      "WARNING:tensorflow:From C:\\Users\\DELL\\AppData\\Roaming\\Python\\Python311\\site-packages\\keras\\src\\engine\\base_layer_utils.py:384: The name tf.executing_eagerly_outside_functions is deprecated. Please use tf.compat.v1.executing_eagerly_outside_functions instead.\n",
      "\n",
      "8994/8994 [==============================] - 22s 2ms/step - loss: 0.3143 - accuracy: 0.8611 - val_loss: 0.2852 - val_accuracy: 0.8788\n",
      "Epoch 2/100\n",
      "8994/8994 [==============================] - 18s 2ms/step - loss: 0.2624 - accuracy: 0.8885 - val_loss: 0.2431 - val_accuracy: 0.8974\n",
      "Epoch 3/100\n",
      "8994/8994 [==============================] - 18s 2ms/step - loss: 0.2302 - accuracy: 0.9051 - val_loss: 0.2198 - val_accuracy: 0.9112\n",
      "Epoch 4/100\n",
      "8994/8994 [==============================] - 18s 2ms/step - loss: 0.2154 - accuracy: 0.9118 - val_loss: 0.2128 - val_accuracy: 0.9134\n",
      "Epoch 5/100\n",
      "8994/8994 [==============================] - 19s 2ms/step - loss: 0.2079 - accuracy: 0.9155 - val_loss: 0.2025 - val_accuracy: 0.9177\n",
      "Epoch 6/100\n",
      "8994/8994 [==============================] - 20s 2ms/step - loss: 0.2029 - accuracy: 0.9177 - val_loss: 0.1992 - val_accuracy: 0.9200\n",
      "Epoch 7/100\n",
      "8994/8994 [==============================] - 20s 2ms/step - loss: 0.1993 - accuracy: 0.9192 - val_loss: 0.1943 - val_accuracy: 0.9215\n",
      "Epoch 8/100\n",
      "8994/8994 [==============================] - 19s 2ms/step - loss: 0.1962 - accuracy: 0.9210 - val_loss: 0.2107 - val_accuracy: 0.9168\n",
      "Epoch 9/100\n",
      "8994/8994 [==============================] - 20s 2ms/step - loss: 0.1938 - accuracy: 0.9223 - val_loss: 0.1908 - val_accuracy: 0.9236\n",
      "Epoch 10/100\n",
      "8994/8994 [==============================] - 19s 2ms/step - loss: 0.1915 - accuracy: 0.9234 - val_loss: 0.1905 - val_accuracy: 0.9237\n",
      "Epoch 11/100\n",
      "8994/8994 [==============================] - 19s 2ms/step - loss: 0.1904 - accuracy: 0.9239 - val_loss: 0.1940 - val_accuracy: 0.9222\n",
      "Epoch 12/100\n",
      "8994/8994 [==============================] - 19s 2ms/step - loss: 0.1891 - accuracy: 0.9245 - val_loss: 0.1850 - val_accuracy: 0.9261\n",
      "Epoch 13/100\n",
      "8994/8994 [==============================] - 18s 2ms/step - loss: 0.1878 - accuracy: 0.9252 - val_loss: 0.1847 - val_accuracy: 0.9264\n",
      "Epoch 14/100\n",
      "8994/8994 [==============================] - 18s 2ms/step - loss: 0.1870 - accuracy: 0.9252 - val_loss: 0.1965 - val_accuracy: 0.9220\n",
      "Epoch 15/100\n",
      "8994/8994 [==============================] - 18s 2ms/step - loss: 0.1862 - accuracy: 0.9256 - val_loss: 0.1867 - val_accuracy: 0.9249\n",
      "Epoch 16/100\n",
      "8994/8994 [==============================] - 20s 2ms/step - loss: 0.1849 - accuracy: 0.9267 - val_loss: 0.1812 - val_accuracy: 0.9283\n",
      "Epoch 17/100\n",
      "8994/8994 [==============================] - 18s 2ms/step - loss: 0.1831 - accuracy: 0.9275 - val_loss: 0.1912 - val_accuracy: 0.9252\n",
      "Epoch 18/100\n",
      "8994/8994 [==============================] - 19s 2ms/step - loss: 0.1828 - accuracy: 0.9272 - val_loss: 0.1834 - val_accuracy: 0.9271\n",
      "Epoch 19/100\n",
      "8994/8994 [==============================] - 22s 2ms/step - loss: 0.1820 - accuracy: 0.9281 - val_loss: 0.1807 - val_accuracy: 0.9277\n",
      "Epoch 20/100\n",
      "8994/8994 [==============================] - 20s 2ms/step - loss: 0.1818 - accuracy: 0.9279 - val_loss: 0.1782 - val_accuracy: 0.9300\n",
      "Epoch 21/100\n",
      "8994/8994 [==============================] - 19s 2ms/step - loss: 0.1807 - accuracy: 0.9288 - val_loss: 0.1798 - val_accuracy: 0.9278\n",
      "Epoch 22/100\n",
      "8994/8994 [==============================] - 19s 2ms/step - loss: 0.1806 - accuracy: 0.9286 - val_loss: 0.1766 - val_accuracy: 0.9300\n",
      "Epoch 23/100\n",
      "8994/8994 [==============================] - 18s 2ms/step - loss: 0.1803 - accuracy: 0.9288 - val_loss: 0.1761 - val_accuracy: 0.9304\n",
      "Epoch 24/100\n",
      "8994/8994 [==============================] - 19s 2ms/step - loss: 0.1796 - accuracy: 0.9291 - val_loss: 0.1864 - val_accuracy: 0.9252\n",
      "Epoch 25/100\n",
      "8994/8994 [==============================] - 23s 3ms/step - loss: 0.1795 - accuracy: 0.9291 - val_loss: 0.1986 - val_accuracy: 0.9243\n",
      "Epoch 26/100\n",
      "8994/8994 [==============================] - 17s 2ms/step - loss: 0.1792 - accuracy: 0.9293 - val_loss: 0.1845 - val_accuracy: 0.9257\n",
      "Epoch 27/100\n",
      "8994/8994 [==============================] - 22s 2ms/step - loss: 0.1785 - accuracy: 0.9298 - val_loss: 0.1827 - val_accuracy: 0.9285\n",
      "Epoch 28/100\n",
      "8994/8994 [==============================] - 19s 2ms/step - loss: 0.1790 - accuracy: 0.9293 - val_loss: 0.1763 - val_accuracy: 0.9293\n",
      "Epoch 29/100\n",
      "8994/8994 [==============================] - 18s 2ms/step - loss: 0.1780 - accuracy: 0.9297 - val_loss: 0.1856 - val_accuracy: 0.9276\n",
      "Epoch 30/100\n",
      "8994/8994 [==============================] - 22s 2ms/step - loss: 0.1774 - accuracy: 0.9298 - val_loss: 0.1762 - val_accuracy: 0.9300\n",
      "Epoch 31/100\n",
      "8994/8994 [==============================] - 19s 2ms/step - loss: 0.1775 - accuracy: 0.9296 - val_loss: 0.1758 - val_accuracy: 0.9300\n",
      "Epoch 32/100\n",
      "8994/8994 [==============================] - 19s 2ms/step - loss: 0.1771 - accuracy: 0.9302 - val_loss: 0.1763 - val_accuracy: 0.9298\n",
      "Epoch 33/100\n",
      "8994/8994 [==============================] - 24s 3ms/step - loss: 0.1769 - accuracy: 0.9306 - val_loss: 0.1805 - val_accuracy: 0.9289\n",
      "Epoch 34/100\n",
      "8994/8994 [==============================] - 21s 2ms/step - loss: 0.1763 - accuracy: 0.9309 - val_loss: 0.1754 - val_accuracy: 0.9312\n",
      "Epoch 35/100\n",
      "8994/8994 [==============================] - 19s 2ms/step - loss: 0.1762 - accuracy: 0.9310 - val_loss: 0.1732 - val_accuracy: 0.9315\n",
      "Epoch 36/100\n",
      "8994/8994 [==============================] - 18s 2ms/step - loss: 0.1759 - accuracy: 0.9309 - val_loss: 0.1756 - val_accuracy: 0.9305\n",
      "Epoch 37/100\n",
      "8994/8994 [==============================] - 20s 2ms/step - loss: 0.1761 - accuracy: 0.9310 - val_loss: 0.1745 - val_accuracy: 0.9312\n",
      "Epoch 38/100\n",
      "8994/8994 [==============================] - 18s 2ms/step - loss: 0.1756 - accuracy: 0.9308 - val_loss: 0.1785 - val_accuracy: 0.9291\n",
      "Epoch 39/100\n",
      "8994/8994 [==============================] - 19s 2ms/step - loss: 0.1754 - accuracy: 0.9309 - val_loss: 0.1853 - val_accuracy: 0.9279\n",
      "Epoch 40/100\n",
      "8994/8994 [==============================] - 20s 2ms/step - loss: 0.1754 - accuracy: 0.9311 - val_loss: 0.1727 - val_accuracy: 0.9328\n",
      "Epoch 41/100\n",
      "8994/8994 [==============================] - 20s 2ms/step - loss: 0.1750 - accuracy: 0.9313 - val_loss: 0.1739 - val_accuracy: 0.9315\n",
      "Epoch 42/100\n",
      "8994/8994 [==============================] - 19s 2ms/step - loss: 0.1748 - accuracy: 0.9317 - val_loss: 0.1734 - val_accuracy: 0.9321\n",
      "Epoch 43/100\n",
      "8994/8994 [==============================] - 18s 2ms/step - loss: 0.1744 - accuracy: 0.9317 - val_loss: 0.1718 - val_accuracy: 0.9330\n",
      "Epoch 44/100\n",
      "8994/8994 [==============================] - 19s 2ms/step - loss: 0.1744 - accuracy: 0.9314 - val_loss: 0.1798 - val_accuracy: 0.9286\n",
      "Epoch 45/100\n",
      "8994/8994 [==============================] - 19s 2ms/step - loss: 0.1743 - accuracy: 0.9312 - val_loss: 0.1757 - val_accuracy: 0.9310\n",
      "Epoch 46/100\n",
      "8994/8994 [==============================] - 20s 2ms/step - loss: 0.1740 - accuracy: 0.9317 - val_loss: 0.1701 - val_accuracy: 0.9333\n",
      "Epoch 47/100\n",
      "8994/8994 [==============================] - 20s 2ms/step - loss: 0.1738 - accuracy: 0.9318 - val_loss: 0.1759 - val_accuracy: 0.9295\n",
      "Epoch 48/100\n",
      "8994/8994 [==============================] - 19s 2ms/step - loss: 0.1732 - accuracy: 0.9320 - val_loss: 0.1717 - val_accuracy: 0.9327\n",
      "Epoch 49/100\n",
      "8994/8994 [==============================] - 20s 2ms/step - loss: 0.1728 - accuracy: 0.9325 - val_loss: 0.1750 - val_accuracy: 0.9320\n",
      "Epoch 50/100\n",
      "8994/8994 [==============================] - 16s 2ms/step - loss: 0.1717 - accuracy: 0.9329 - val_loss: 0.1678 - val_accuracy: 0.9339\n",
      "Epoch 51/100\n",
      "8994/8994 [==============================] - 14s 2ms/step - loss: 0.1713 - accuracy: 0.9330 - val_loss: 0.1701 - val_accuracy: 0.9335\n",
      "Epoch 52/100\n",
      "8994/8994 [==============================] - 14s 2ms/step - loss: 0.1713 - accuracy: 0.9327 - val_loss: 0.1690 - val_accuracy: 0.9329\n",
      "Epoch 53/100\n",
      "8994/8994 [==============================] - 14s 2ms/step - loss: 0.1706 - accuracy: 0.9333 - val_loss: 0.1685 - val_accuracy: 0.9339\n",
      "Epoch 54/100\n",
      "8994/8994 [==============================] - 14s 2ms/step - loss: 0.1702 - accuracy: 0.9335 - val_loss: 0.1775 - val_accuracy: 0.9290\n",
      "Epoch 55/100\n",
      "8994/8994 [==============================] - 14s 2ms/step - loss: 0.1705 - accuracy: 0.9336 - val_loss: 0.1674 - val_accuracy: 0.9347\n",
      "Epoch 56/100\n",
      "8994/8994 [==============================] - 14s 2ms/step - loss: 0.1699 - accuracy: 0.9334 - val_loss: 0.1685 - val_accuracy: 0.9340\n",
      "Epoch 57/100\n",
      "8994/8994 [==============================] - 15s 2ms/step - loss: 0.1692 - accuracy: 0.9339 - val_loss: 0.1683 - val_accuracy: 0.9335\n",
      "Epoch 58/100\n",
      "8994/8994 [==============================] - 14s 2ms/step - loss: 0.1690 - accuracy: 0.9340 - val_loss: 0.1650 - val_accuracy: 0.9357\n",
      "Epoch 59/100\n",
      "8994/8994 [==============================] - 13s 1ms/step - loss: 0.1692 - accuracy: 0.9339 - val_loss: 0.1811 - val_accuracy: 0.9314\n",
      "Epoch 60/100\n",
      "8994/8994 [==============================] - 13s 2ms/step - loss: 0.1687 - accuracy: 0.9340 - val_loss: 0.1720 - val_accuracy: 0.9340\n",
      "Epoch 61/100\n",
      "8994/8994 [==============================] - 13s 1ms/step - loss: 0.1683 - accuracy: 0.9343 - val_loss: 0.1670 - val_accuracy: 0.9346\n",
      "Epoch 62/100\n",
      "8994/8994 [==============================] - 13s 1ms/step - loss: 0.1687 - accuracy: 0.9344 - val_loss: 0.1746 - val_accuracy: 0.9305\n",
      "Epoch 63/100\n",
      "8994/8994 [==============================] - 13s 2ms/step - loss: 0.1690 - accuracy: 0.9340 - val_loss: 0.1661 - val_accuracy: 0.9346\n",
      "Epoch 64/100\n",
      "8994/8994 [==============================] - 13s 1ms/step - loss: 0.1683 - accuracy: 0.9342 - val_loss: 0.1681 - val_accuracy: 0.9345\n",
      "Epoch 65/100\n",
      "8994/8994 [==============================] - 13s 1ms/step - loss: 0.1684 - accuracy: 0.9342 - val_loss: 0.1738 - val_accuracy: 0.9297\n",
      "Epoch 66/100\n",
      "8994/8994 [==============================] - 13s 1ms/step - loss: 0.1682 - accuracy: 0.9344 - val_loss: 0.1667 - val_accuracy: 0.9343\n",
      "Epoch 67/100\n",
      "8994/8994 [==============================] - 13s 1ms/step - loss: 0.1682 - accuracy: 0.9346 - val_loss: 0.1721 - val_accuracy: 0.9338\n",
      "Epoch 68/100\n",
      "8994/8994 [==============================] - 13s 1ms/step - loss: 0.1678 - accuracy: 0.9344 - val_loss: 0.1644 - val_accuracy: 0.9356\n",
      "Epoch 69/100\n",
      "8994/8994 [==============================] - 14s 2ms/step - loss: 0.1682 - accuracy: 0.9343 - val_loss: 0.1711 - val_accuracy: 0.9338\n",
      "Epoch 70/100\n",
      "8994/8994 [==============================] - 15s 2ms/step - loss: 0.1680 - accuracy: 0.9345 - val_loss: 0.1684 - val_accuracy: 0.9331\n",
      "Epoch 71/100\n",
      "8994/8994 [==============================] - 22s 2ms/step - loss: 0.1679 - accuracy: 0.9343 - val_loss: 0.1695 - val_accuracy: 0.9342\n",
      "Epoch 72/100\n",
      "8994/8994 [==============================] - 16s 2ms/step - loss: 0.1677 - accuracy: 0.9347 - val_loss: 0.1681 - val_accuracy: 0.9345\n",
      "Epoch 73/100\n",
      "8994/8994 [==============================] - 16s 2ms/step - loss: 0.1680 - accuracy: 0.9344 - val_loss: 0.1651 - val_accuracy: 0.9359\n",
      "Epoch 74/100\n",
      "8994/8994 [==============================] - 16s 2ms/step - loss: 0.1676 - accuracy: 0.9347 - val_loss: 0.1655 - val_accuracy: 0.9353\n",
      "Epoch 75/100\n",
      "8994/8994 [==============================] - 16s 2ms/step - loss: 0.1677 - accuracy: 0.9344 - val_loss: 0.1647 - val_accuracy: 0.9350\n",
      "Epoch 76/100\n",
      "8994/8994 [==============================] - 20s 2ms/step - loss: 0.1679 - accuracy: 0.9340 - val_loss: 0.1674 - val_accuracy: 0.9343\n",
      "Epoch 77/100\n",
      "8994/8994 [==============================] - 21s 2ms/step - loss: 0.1675 - accuracy: 0.9346 - val_loss: 0.1654 - val_accuracy: 0.9361\n",
      "Epoch 78/100\n",
      "8994/8994 [==============================] - 19s 2ms/step - loss: 0.1674 - accuracy: 0.9347 - val_loss: 0.1672 - val_accuracy: 0.9350\n",
      "Epoch 79/100\n",
      "8994/8994 [==============================] - 19s 2ms/step - loss: 0.1677 - accuracy: 0.9345 - val_loss: 0.1685 - val_accuracy: 0.9336\n",
      "Epoch 80/100\n",
      "8994/8994 [==============================] - 18s 2ms/step - loss: 0.1672 - accuracy: 0.9347 - val_loss: 0.1684 - val_accuracy: 0.9342\n",
      "Epoch 81/100\n",
      "8994/8994 [==============================] - 17s 2ms/step - loss: 0.1671 - accuracy: 0.9349 - val_loss: 0.1633 - val_accuracy: 0.9365\n",
      "Epoch 82/100\n",
      "8994/8994 [==============================] - 16s 2ms/step - loss: 0.1670 - accuracy: 0.9351 - val_loss: 0.1685 - val_accuracy: 0.9338\n",
      "Epoch 83/100\n",
      "8994/8994 [==============================] - 15s 2ms/step - loss: 0.1676 - accuracy: 0.9347 - val_loss: 0.1688 - val_accuracy: 0.9342\n",
      "Epoch 84/100\n",
      "8994/8994 [==============================] - 33s 4ms/step - loss: 0.1670 - accuracy: 0.9349 - val_loss: 0.1661 - val_accuracy: 0.9354\n",
      "Epoch 85/100\n",
      "8994/8994 [==============================] - 83s 9ms/step - loss: 0.1675 - accuracy: 0.9346 - val_loss: 0.1761 - val_accuracy: 0.9336\n",
      "Epoch 86/100\n",
      "8994/8994 [==============================] - 15s 2ms/step - loss: 0.1668 - accuracy: 0.9352 - val_loss: 0.1668 - val_accuracy: 0.9351\n",
      "Epoch 87/100\n",
      "8994/8994 [==============================] - 20s 2ms/step - loss: 0.1670 - accuracy: 0.9350 - val_loss: 0.1744 - val_accuracy: 0.9334\n",
      "Epoch 88/100\n",
      "8994/8994 [==============================] - 24s 3ms/step - loss: 0.1666 - accuracy: 0.9352 - val_loss: 0.1652 - val_accuracy: 0.9355\n",
      "Epoch 89/100\n",
      "8994/8994 [==============================] - 23s 3ms/step - loss: 0.1668 - accuracy: 0.9352 - val_loss: 0.1646 - val_accuracy: 0.9361\n",
      "Epoch 90/100\n",
      "8994/8994 [==============================] - 21s 2ms/step - loss: 0.1667 - accuracy: 0.9352 - val_loss: 0.1650 - val_accuracy: 0.9355\n",
      "Epoch 91/100\n",
      "8994/8994 [==============================] - 24s 3ms/step - loss: 0.1666 - accuracy: 0.9349 - val_loss: 0.1657 - val_accuracy: 0.9353\n",
      "Epoch 92/100\n",
      "8994/8994 [==============================] - 27s 3ms/step - loss: 0.1666 - accuracy: 0.9350 - val_loss: 0.1668 - val_accuracy: 0.9354\n",
      "Epoch 93/100\n",
      "8994/8994 [==============================] - 18s 2ms/step - loss: 0.1666 - accuracy: 0.9352 - val_loss: 0.1641 - val_accuracy: 0.9362\n",
      "Epoch 94/100\n",
      "8994/8994 [==============================] - 18s 2ms/step - loss: 0.1665 - accuracy: 0.9353 - val_loss: 0.1701 - val_accuracy: 0.9343\n",
      "Epoch 95/100\n",
      "8994/8994 [==============================] - 17s 2ms/step - loss: 0.1667 - accuracy: 0.9348 - val_loss: 0.1655 - val_accuracy: 0.9355\n",
      "Epoch 96/100\n",
      "8994/8994 [==============================] - 18s 2ms/step - loss: 0.1664 - accuracy: 0.9348 - val_loss: 0.1653 - val_accuracy: 0.9353\n",
      "Epoch 97/100\n",
      "8994/8994 [==============================] - 17s 2ms/step - loss: 0.1665 - accuracy: 0.9354 - val_loss: 0.1671 - val_accuracy: 0.9356\n",
      "Epoch 98/100\n",
      "8994/8994 [==============================] - 15s 2ms/step - loss: 0.1664 - accuracy: 0.9351 - val_loss: 0.1663 - val_accuracy: 0.9357\n",
      "Epoch 99/100\n",
      "8994/8994 [==============================] - 15s 2ms/step - loss: 0.1662 - accuracy: 0.9356 - val_loss: 0.1650 - val_accuracy: 0.9358\n",
      "Epoch 100/100\n",
      "8994/8994 [==============================] - 15s 2ms/step - loss: 0.1661 - accuracy: 0.9355 - val_loss: 0.1625 - val_accuracy: 0.9370\n"
     ]
    },
    {
     "data": {
      "text/plain": [
       "<keras.src.callbacks.History at 0x21f35b023d0>"
      ]
     },
     "execution_count": 35,
     "metadata": {},
     "output_type": "execute_result"
    }
   ],
   "source": [
    "ann.fit(x_train7, y_train7, batch_size = 32, epochs=100,\n",
    "          validation_data=(x_test7, y_test7), verbose=1,\n",
    "          callbacks=[early_stop])"
   ]
  },
  {
   "cell_type": "code",
   "execution_count": 36,
   "metadata": {},
   "outputs": [
    {
     "name": "stdout",
     "output_type": "stream",
     "text": [
      "8994/8994 [==============================] - 9s 1ms/step\n",
      "2998/2998 [==============================] - 3s 1ms/step\n",
      "[[1 1]\n",
      " [1 1]\n",
      " [0 0]\n",
      " ...\n",
      " [0 0]\n",
      " [0 0]\n",
      " [1 1]]\n"
     ]
    }
   ],
   "source": [
    "ypred_train7 = ann.predict(x_train7)\n",
    "y_pred_test7 = ann.predict(x_test7)\n",
    "\n",
    "y_pred_test7 = (y_pred_test7 > 0.5)\n",
    "ypred_train7 = (ypred_train7 > 0.5)\n",
    "print(np.concatenate((y_pred_test7.reshape(len(y_pred_test7),1), y_test7.reshape(len(y_test7),1)),1))"
   ]
  },
  {
   "cell_type": "code",
   "execution_count": 37,
   "metadata": {},
   "outputs": [
    {
     "data": {
      "text/plain": [
       "0.9370471911517894"
      ]
     },
     "execution_count": 37,
     "metadata": {},
     "output_type": "execute_result"
    }
   ],
   "source": [
    "accuracy_score(y_test7, y_pred_test7)"
   ]
  },
  {
   "cell_type": "code",
   "execution_count": 38,
   "metadata": {},
   "outputs": [
    {
     "name": "stdout",
     "output_type": "stream",
     "text": [
      "Training Results\n",
      "\n",
      "              precision    recall  f1-score   support\n",
      "\n",
      "           0       0.90      0.96      0.93    129863\n",
      "           1       0.97      0.92      0.94    157923\n",
      "\n",
      "    accuracy                           0.94    287786\n",
      "   macro avg       0.94      0.94      0.94    287786\n",
      "weighted avg       0.94      0.94      0.94    287786\n",
      "\n"
     ]
    }
   ],
   "source": [
    "print(\"Training Results\\n\")\n",
    "print(classification_report(y_train7, ypred_train7))"
   ]
  },
  {
   "cell_type": "code",
   "execution_count": 39,
   "metadata": {},
   "outputs": [
    {
     "name": "stdout",
     "output_type": "stream",
     "text": [
      "Testing Results\n",
      "\n",
      "              precision    recall  f1-score   support\n",
      "\n",
      "           0       0.90      0.96      0.93     43405\n",
      "           1       0.97      0.91      0.94     52524\n",
      "\n",
      "    accuracy                           0.94     95929\n",
      "   macro avg       0.94      0.94      0.94     95929\n",
      "weighted avg       0.94      0.94      0.94     95929\n",
      "\n"
     ]
    }
   ],
   "source": [
    "print('Testing Results\\n')\n",
    "print(classification_report(y_test7, y_pred_test7))"
   ]
  },
  {
   "cell_type": "code",
   "execution_count": 40,
   "metadata": {},
   "outputs": [
    {
     "name": "stdout",
     "output_type": "stream",
     "text": [
      "2998/2998 [==============================] - 3s 1ms/step\n"
     ]
    },
    {
     "data": {
      "image/png": "[encoded data removed]",
      "text/plain": [
       "<Figure size 640x480 with 1 Axes>"
      ]
     },
     "metadata": {},
     "output_type": "display_data"
    }
   ],
   "source": [
    "# cross_val_scores = cross_val_score(ann, x_train7, y_train7, cv=5)\n",
    "# print(\"Cross-Validation Scores for the Best Model:\", cross_val_scores)\n",
    "# print(\"Average Cross-Validation Score:\", cross_val_scores.mean())\n",
    "y_proba_test = ann.predict(x_test7).flatten()\n",
    "\n",
    "fpr, tpr, thresholds = roc_curve(y_test7, y_proba_test)\n",
    "\n",
    "plt.plot(fpr, tpr, label='ROC Curve')\n",
    "plt.xlabel('False Positive Rate')\n",
    "plt.ylabel('True Positive Rate')\n",
    "plt.title('ROC Curve with AUC = {:.2f}'.format(roc_auc_score(y_test7, y_proba_test)))\n",
    "plt.legend(loc='lower right')\n",
    "plt.grid(True)\n",
    "plt.show()"
   ]
  },
  {
   "cell_type": "markdown",
   "metadata": {},
   "source": [
    "## inne próby sieci neuronowych "
   ]
  },
  {
   "cell_type": "code",
   "execution_count": 41,
   "metadata": {},
   "outputs": [
    {
     "name": "stderr",
     "output_type": "stream",
     "text": [
      "WARNING:absl:`lr` is deprecated in Keras optimizer, please use `learning_rate` or use the legacy optimizer, e.g.,tf.keras.optimizers.legacy.Adam.\n"
     ]
    },
    {
     "name": "stdout",
     "output_type": "stream",
     "text": [
      "Epoch 1/100\n",
      "8994/8994 [==============================] - 14s 1ms/step - loss: 0.3170 - accuracy: 0.8621\n",
      "Epoch 2/100\n",
      "8994/8994 [==============================] - 13s 1ms/step - loss: 0.2547 - accuracy: 0.8904\n",
      "Epoch 3/100\n",
      "8994/8994 [==============================] - 13s 1ms/step - loss: 0.2357 - accuracy: 0.8999\n",
      "Epoch 4/100\n",
      "8994/8994 [==============================] - 13s 1ms/step - loss: 0.2262 - accuracy: 0.9049\n",
      "Epoch 5/100\n",
      "8994/8994 [==============================] - 13s 1ms/step - loss: 0.2187 - accuracy: 0.9080\n",
      "Epoch 6/100\n",
      "8994/8994 [==============================] - 13s 1ms/step - loss: 0.2138 - accuracy: 0.9102\n",
      "Epoch 7/100\n",
      "8994/8994 [==============================] - 13s 1ms/step - loss: 0.2096 - accuracy: 0.9125\n",
      "Epoch 8/100\n",
      "8994/8994 [==============================] - 13s 1ms/step - loss: 0.2070 - accuracy: 0.9133\n",
      "Epoch 9/100\n",
      "8994/8994 [==============================] - 14s 2ms/step - loss: 0.2051 - accuracy: 0.9140\n",
      "Epoch 10/100\n",
      "8994/8994 [==============================] - 13s 1ms/step - loss: 0.2027 - accuracy: 0.9151\n",
      "Epoch 11/100\n",
      "8994/8994 [==============================] - 13s 1ms/step - loss: 0.2017 - accuracy: 0.9156\n",
      "Epoch 12/100\n",
      "8994/8994 [==============================] - 13s 1ms/step - loss: 0.2009 - accuracy: 0.9157\n",
      "Epoch 13/100\n",
      "8994/8994 [==============================] - 14s 2ms/step - loss: 0.1994 - accuracy: 0.9163\n",
      "Epoch 14/100\n",
      "8994/8994 [==============================] - 14s 2ms/step - loss: 0.1988 - accuracy: 0.9165\n",
      "Epoch 15/100\n",
      "8994/8994 [==============================] - 13s 1ms/step - loss: 0.1974 - accuracy: 0.9178\n",
      "Epoch 16/100\n",
      "8994/8994 [==============================] - 14s 2ms/step - loss: 0.1941 - accuracy: 0.9193\n",
      "Epoch 17/100\n",
      "8994/8994 [==============================] - 15s 2ms/step - loss: 0.1916 - accuracy: 0.9208\n",
      "Epoch 18/100\n",
      "8994/8994 [==============================] - 15s 2ms/step - loss: 0.1888 - accuracy: 0.9219\n",
      "Epoch 19/100\n",
      "8994/8994 [==============================] - 14s 2ms/step - loss: 0.1867 - accuracy: 0.9228\n",
      "Epoch 20/100\n",
      "8994/8994 [==============================] - 15s 2ms/step - loss: 0.1844 - accuracy: 0.9239\n",
      "Epoch 21/100\n",
      "8994/8994 [==============================] - 14s 2ms/step - loss: 0.1826 - accuracy: 0.9253\n",
      "Epoch 22/100\n",
      "8994/8994 [==============================] - 15s 2ms/step - loss: 0.1813 - accuracy: 0.9256\n",
      "Epoch 23/100\n",
      "8994/8994 [==============================] - 15s 2ms/step - loss: 0.1809 - accuracy: 0.9260\n",
      "Epoch 24/100\n",
      "8994/8994 [==============================] - 15s 2ms/step - loss: 0.1798 - accuracy: 0.9264\n",
      "Epoch 25/100\n",
      "8994/8994 [==============================] - 15s 2ms/step - loss: 0.1790 - accuracy: 0.9268\n",
      "Epoch 26/100\n",
      "8994/8994 [==============================] - 15s 2ms/step - loss: 0.1786 - accuracy: 0.9271\n",
      "Epoch 27/100\n",
      "8994/8994 [==============================] - 15s 2ms/step - loss: 0.1777 - accuracy: 0.9275\n",
      "Epoch 28/100\n",
      "8994/8994 [==============================] - 15s 2ms/step - loss: 0.1767 - accuracy: 0.9279\n",
      "Epoch 29/100\n",
      "8994/8994 [==============================] - 15s 2ms/step - loss: 0.1772 - accuracy: 0.9280\n",
      "Epoch 30/100\n",
      "8994/8994 [==============================] - 15s 2ms/step - loss: 0.1764 - accuracy: 0.9284\n",
      "Epoch 31/100\n",
      "8994/8994 [==============================] - 15s 2ms/step - loss: 0.1752 - accuracy: 0.9294\n",
      "Epoch 32/100\n",
      "8994/8994 [==============================] - 15s 2ms/step - loss: 0.1742 - accuracy: 0.9302\n",
      "Epoch 33/100\n",
      "8994/8994 [==============================] - 15s 2ms/step - loss: 0.1730 - accuracy: 0.9304\n",
      "Epoch 34/100\n",
      "8994/8994 [==============================] - 16s 2ms/step - loss: 0.1718 - accuracy: 0.9314\n",
      "Epoch 35/100\n",
      "8994/8994 [==============================] - 16s 2ms/step - loss: 0.1710 - accuracy: 0.9316\n",
      "Epoch 36/100\n",
      "8994/8994 [==============================] - 16s 2ms/step - loss: 0.1704 - accuracy: 0.9321\n",
      "Epoch 37/100\n",
      "8994/8994 [==============================] - 17s 2ms/step - loss: 0.1699 - accuracy: 0.9323\n",
      "Epoch 38/100\n",
      "8994/8994 [==============================] - 16s 2ms/step - loss: 0.1696 - accuracy: 0.9324\n",
      "Epoch 39/100\n",
      "8994/8994 [==============================] - 16s 2ms/step - loss: 0.1689 - accuracy: 0.9326\n",
      "Epoch 40/100\n",
      "8994/8994 [==============================] - 16s 2ms/step - loss: 0.1685 - accuracy: 0.9328\n",
      "Epoch 41/100\n",
      "8994/8994 [==============================] - 16s 2ms/step - loss: 0.1677 - accuracy: 0.9329\n",
      "Epoch 42/100\n",
      "8994/8994 [==============================] - 16s 2ms/step - loss: 0.1676 - accuracy: 0.9331\n",
      "Epoch 43/100\n",
      "8994/8994 [==============================] - 16s 2ms/step - loss: 0.1673 - accuracy: 0.9335\n",
      "Epoch 44/100\n",
      "8994/8994 [==============================] - 17s 2ms/step - loss: 0.1666 - accuracy: 0.9337\n",
      "Epoch 45/100\n",
      "8994/8994 [==============================] - 17s 2ms/step - loss: 0.1668 - accuracy: 0.9336\n",
      "Epoch 46/100\n",
      "8994/8994 [==============================] - 16s 2ms/step - loss: 0.1664 - accuracy: 0.9337\n",
      "Epoch 47/100\n",
      "8994/8994 [==============================] - 16s 2ms/step - loss: 0.1660 - accuracy: 0.9340\n",
      "Epoch 48/100\n",
      "8994/8994 [==============================] - 16s 2ms/step - loss: 0.1662 - accuracy: 0.9336\n",
      "Epoch 49/100\n",
      "8994/8994 [==============================] - 17s 2ms/step - loss: 0.1661 - accuracy: 0.9340\n",
      "Epoch 50/100\n",
      "8994/8994 [==============================] - 16s 2ms/step - loss: 0.1659 - accuracy: 0.9340\n",
      "Epoch 51/100\n",
      "8994/8994 [==============================] - 16s 2ms/step - loss: 0.1654 - accuracy: 0.9341\n",
      "Epoch 52/100\n",
      "8994/8994 [==============================] - 17s 2ms/step - loss: 0.1655 - accuracy: 0.9337\n",
      "Epoch 53/100\n",
      "8994/8994 [==============================] - 19s 2ms/step - loss: 0.1651 - accuracy: 0.9342\n",
      "Epoch 54/100\n",
      "8994/8994 [==============================] - 18s 2ms/step - loss: 0.1649 - accuracy: 0.9345\n",
      "Epoch 55/100\n",
      "8994/8994 [==============================] - 18s 2ms/step - loss: 0.1645 - accuracy: 0.9341\n",
      "Epoch 56/100\n",
      "8994/8994 [==============================] - 18s 2ms/step - loss: 0.1648 - accuracy: 0.9343\n",
      "Epoch 57/100\n",
      "8994/8994 [==============================] - 17s 2ms/step - loss: 0.1648 - accuracy: 0.9345\n",
      "Epoch 58/100\n",
      "8994/8994 [==============================] - 18s 2ms/step - loss: 0.1650 - accuracy: 0.9344\n",
      "Epoch 59/100\n",
      "8994/8994 [==============================] - 18s 2ms/step - loss: 0.1644 - accuracy: 0.9341\n",
      "Epoch 60/100\n",
      "8994/8994 [==============================] - 18s 2ms/step - loss: 0.1643 - accuracy: 0.9344\n",
      "Epoch 61/100\n",
      "8994/8994 [==============================] - 18s 2ms/step - loss: 0.1640 - accuracy: 0.9344\n",
      "Epoch 62/100\n",
      "8994/8994 [==============================] - 19s 2ms/step - loss: 0.1645 - accuracy: 0.9348\n",
      "Epoch 63/100\n",
      "8994/8994 [==============================] - 20s 2ms/step - loss: 0.1634 - accuracy: 0.9346\n",
      "Epoch 64/100\n",
      "8994/8994 [==============================] - 22s 2ms/step - loss: 0.1639 - accuracy: 0.9346\n",
      "Epoch 65/100\n",
      "8994/8994 [==============================] - 18s 2ms/step - loss: 0.1646 - accuracy: 0.9344\n",
      "Epoch 66/100\n",
      "8994/8994 [==============================] - 13s 1ms/step - loss: 0.1635 - accuracy: 0.9347\n",
      "Epoch 67/100\n",
      "8994/8994 [==============================] - 16s 2ms/step - loss: 0.1639 - accuracy: 0.9345\n",
      "Epoch 68/100\n",
      "8994/8994 [==============================] - 14s 2ms/step - loss: 0.1638 - accuracy: 0.9350\n",
      "Epoch 69/100\n",
      "8994/8994 [==============================] - 13s 1ms/step - loss: 0.1633 - accuracy: 0.9349\n",
      "Epoch 70/100\n",
      "8994/8994 [==============================] - 15s 2ms/step - loss: 0.1633 - accuracy: 0.9351\n",
      "Epoch 71/100\n",
      "8994/8994 [==============================] - 11s 1ms/step - loss: 0.1639 - accuracy: 0.9347\n",
      "Epoch 72/100\n",
      "8994/8994 [==============================] - 12s 1ms/step - loss: 0.1636 - accuracy: 0.9349\n",
      "Epoch 73/100\n",
      "8994/8994 [==============================] - 16s 2ms/step - loss: 0.1639 - accuracy: 0.9343\n",
      "Epoch 74/100\n",
      "8994/8994 [==============================] - 18s 2ms/step - loss: 0.1635 - accuracy: 0.9350\n",
      "Epoch 75/100\n",
      "8994/8994 [==============================] - 15s 2ms/step - loss: 0.1636 - accuracy: 0.9348\n",
      "Epoch 76/100\n",
      "8994/8994 [==============================] - 15s 2ms/step - loss: 0.1630 - accuracy: 0.9353\n",
      "Epoch 77/100\n",
      "8994/8994 [==============================] - 15s 2ms/step - loss: 0.1623 - accuracy: 0.9353\n",
      "Epoch 78/100\n",
      "8994/8994 [==============================] - 15s 2ms/step - loss: 0.1625 - accuracy: 0.9352\n",
      "Epoch 79/100\n",
      "8994/8994 [==============================] - 13s 1ms/step - loss: 0.1624 - accuracy: 0.9351\n",
      "Epoch 80/100\n",
      "8994/8994 [==============================] - 12s 1ms/step - loss: 0.1623 - accuracy: 0.9353\n",
      "Epoch 81/100\n",
      "8994/8994 [==============================] - 12s 1ms/step - loss: 0.1619 - accuracy: 0.9353\n",
      "Epoch 82/100\n",
      "8994/8994 [==============================] - 13s 1ms/step - loss: 0.1619 - accuracy: 0.9355\n",
      "Epoch 83/100\n",
      "8994/8994 [==============================] - 12s 1ms/step - loss: 0.1619 - accuracy: 0.9355\n",
      "Epoch 84/100\n",
      "8994/8994 [==============================] - 11s 1ms/step - loss: 0.1619 - accuracy: 0.9352\n",
      "Epoch 85/100\n",
      "8994/8994 [==============================] - 11s 1ms/step - loss: 0.1616 - accuracy: 0.9358\n",
      "Epoch 86/100\n",
      "8994/8994 [==============================] - 11s 1ms/step - loss: 0.1620 - accuracy: 0.9354\n",
      "Epoch 87/100\n",
      "8994/8994 [==============================] - 11s 1ms/step - loss: 0.1619 - accuracy: 0.9358\n",
      "Epoch 88/100\n",
      "8994/8994 [==============================] - 11s 1ms/step - loss: 0.1611 - accuracy: 0.9358\n",
      "Epoch 89/100\n",
      "8994/8994 [==============================] - 11s 1ms/step - loss: 0.1622 - accuracy: 0.9353\n",
      "Epoch 90/100\n",
      "8994/8994 [==============================] - 12s 1ms/step - loss: 0.1617 - accuracy: 0.9356\n",
      "Epoch 91/100\n",
      "8994/8994 [==============================] - 12s 1ms/step - loss: 0.1614 - accuracy: 0.9356\n",
      "Epoch 92/100\n",
      "8994/8994 [==============================] - 12s 1ms/step - loss: 0.1614 - accuracy: 0.9357\n",
      "Epoch 93/100\n",
      "8994/8994 [==============================] - 12s 1ms/step - loss: 0.1610 - accuracy: 0.9359\n",
      "Epoch 94/100\n",
      "8994/8994 [==============================] - 12s 1ms/step - loss: 0.1612 - accuracy: 0.9357\n",
      "Epoch 95/100\n",
      "8994/8994 [==============================] - 13s 1ms/step - loss: 0.1605 - accuracy: 0.9362\n",
      "Epoch 96/100\n",
      "8994/8994 [==============================] - 12s 1ms/step - loss: 0.1610 - accuracy: 0.9357\n",
      "Epoch 97/100\n",
      "8994/8994 [==============================] - 13s 1ms/step - loss: 0.1610 - accuracy: 0.9359\n",
      "Epoch 98/100\n",
      "8994/8994 [==============================] - 12s 1ms/step - loss: 0.1607 - accuracy: 0.9361\n",
      "Epoch 99/100\n",
      "8994/8994 [==============================] - 13s 1ms/step - loss: 0.1607 - accuracy: 0.9358\n",
      "Epoch 100/100\n",
      "8994/8994 [==============================] - 12s 1ms/step - loss: 0.1606 - accuracy: 0.9362\n"
     ]
    }
   ],
   "source": [
    "\n",
    "tf.random.set_seed(42)\n",
    "\n",
    "\n",
    "\n",
    "model_2 = tf.keras.Sequential([\n",
    "  tf.keras.layers.Dense(14,activation = 'relu'),\n",
    "  tf.keras.layers.Dense(6,activation = 'relu'),\n",
    "  tf.keras.layers.Dense(6,activation = 'relu'),\n",
    "  tf.keras.layers.Dense(1,activation = 'sigmoid')                            \n",
    "])\n",
    "\n",
    "\n",
    "model_2.compile(loss = 'binary_crossentropy',\n",
    "                optimizer = tf.keras.optimizers.Adam(lr=0.001),\n",
    "                metrics = ['accuracy'])\n",
    "\n",
    "\n",
    "history_2 = model_2.fit(x_train7,y_train7,epochs = 100)"
   ]
  },
  {
   "cell_type": "code",
   "execution_count": 42,
   "metadata": {},
   "outputs": [
    {
     "name": "stdout",
     "output_type": "stream",
     "text": [
      "2998/2998 [==============================] - 4s 1ms/step - loss: 0.1619 - accuracy: 0.9356\n"
     ]
    },
    {
     "data": {
      "text/plain": [
       "[0.1618887186050415, 0.9355669021606445]"
      ]
     },
     "execution_count": 42,
     "metadata": {},
     "output_type": "execute_result"
    }
   ],
   "source": [
    "model_2.evaluate(x_test7,y_test7)"
   ]
  },
  {
   "cell_type": "code",
   "execution_count": 43,
   "metadata": {},
   "outputs": [
    {
     "name": "stdout",
     "output_type": "stream",
     "text": [
      "8994/8994 [==============================] - 9s 1ms/step\n",
      "2998/2998 [==============================] - 3s 1ms/step\n",
      "              precision    recall  f1-score   support\n",
      "\n",
      "           0       0.92      0.95      0.93    129863\n",
      "           1       0.95      0.93      0.94    157923\n",
      "\n",
      "    accuracy                           0.94    287786\n",
      "   macro avg       0.93      0.94      0.94    287786\n",
      "weighted avg       0.94      0.94      0.94    287786\n",
      "\n",
      "              precision    recall  f1-score   support\n",
      "\n",
      "           0       0.91      0.95      0.93     43405\n",
      "           1       0.95      0.93      0.94     52524\n",
      "\n",
      "    accuracy                           0.94     95929\n",
      "   macro avg       0.93      0.94      0.94     95929\n",
      "weighted avg       0.94      0.94      0.94     95929\n",
      "\n"
     ]
    }
   ],
   "source": [
    "ypred_train10 = model_2.predict(x_train7)\n",
    "y_pred_test10 = model_2.predict(x_test7)\n",
    "\n",
    "y_pred_test10 = (y_pred_test10 > 0.5)\n",
    "ypred_train10 = (ypred_train10 > 0.5)\n",
    "\n",
    "print(classification_report(y_train7,ypred_train10))\n",
    "print(classification_report(y_test7,y_pred_test10))"
   ]
  },
  {
   "cell_type": "code",
   "execution_count": 44,
   "metadata": {},
   "outputs": [
    {
     "name": "stdout",
     "output_type": "stream",
     "text": [
      "2998/2998 [==============================] - 3s 971us/step\n"
     ]
    },
    {
     "data": {
      "image/png": "[encoded data removed]",
      "text/plain": [
       "<Figure size 640x480 with 1 Axes>"
      ]
     },
     "metadata": {},
     "output_type": "display_data"
    }
   ],
   "source": [
    "# cross_val_scores = cross_val_score(model_2, x_train7, y_train7, cv=5)\n",
    "# print(\"Cross-Validation Scores for the Best Model:\", cross_val_scores)\n",
    "# print(\"Average Cross-Validation Score:\", cross_val_scores.mean())\n",
    "y_proba_test = model_2.predict(x_test7).flatten()\n",
    "\n",
    "fpr, tpr, thresholds = roc_curve(y_test7, y_proba_test)\n",
    "\n",
    "plt.plot(fpr, tpr, label='ROC Curve')\n",
    "plt.xlabel('False Positive Rate')\n",
    "plt.ylabel('True Positive Rate')\n",
    "plt.title('ROC Curve with AUC = {:.2f}'.format(roc_auc_score(y_test7, y_proba_test)))\n",
    "plt.legend(loc='lower right')\n",
    "plt.grid(True)\n",
    "plt.show()"
   ]
  },
  {
   "cell_type": "markdown",
   "metadata": {},
   "source": [
    "## inna proba "
   ]
  },
  {
   "cell_type": "code",
   "execution_count": 45,
   "metadata": {},
   "outputs": [
    {
     "name": "stderr",
     "output_type": "stream",
     "text": [
      "WARNING:absl:`lr` is deprecated in Keras optimizer, please use `learning_rate` or use the legacy optimizer, e.g.,tf.keras.optimizers.legacy.Adam.\n"
     ]
    },
    {
     "name": "stdout",
     "output_type": "stream",
     "text": [
      "Epoch 1/100\n",
      "8994/8994 [==============================] - 13s 1ms/step - loss: 0.2828 - accuracy: 0.8797\n",
      "Epoch 2/100\n",
      "8994/8994 [==============================] - 12s 1ms/step - loss: 0.2128 - accuracy: 0.9155\n",
      "Epoch 3/100\n",
      "8994/8994 [==============================] - 12s 1ms/step - loss: 0.1902 - accuracy: 0.9265\n",
      "Epoch 4/100\n",
      "8994/8994 [==============================] - 13s 1ms/step - loss: 0.1782 - accuracy: 0.9324\n",
      "Epoch 5/100\n",
      "8994/8994 [==============================] - 13s 1ms/step - loss: 0.1702 - accuracy: 0.9360\n",
      "Epoch 6/100\n",
      "8994/8994 [==============================] - 12s 1ms/step - loss: 0.1639 - accuracy: 0.9381\n",
      "Epoch 7/100\n",
      "8994/8994 [==============================] - 13s 1ms/step - loss: 0.1591 - accuracy: 0.9399\n",
      "Epoch 8/100\n",
      "8994/8994 [==============================] - 13s 1ms/step - loss: 0.1558 - accuracy: 0.9413\n",
      "Epoch 9/100\n",
      "8994/8994 [==============================] - 13s 1ms/step - loss: 0.1541 - accuracy: 0.9420\n",
      "Epoch 10/100\n",
      "8994/8994 [==============================] - 12s 1ms/step - loss: 0.1514 - accuracy: 0.9431\n",
      "Epoch 11/100\n",
      "8994/8994 [==============================] - 12s 1ms/step - loss: 0.1509 - accuracy: 0.9430\n",
      "Epoch 12/100\n",
      "8994/8994 [==============================] - 13s 1ms/step - loss: 0.1493 - accuracy: 0.9442\n",
      "Epoch 13/100\n",
      "8994/8994 [==============================] - 12s 1ms/step - loss: 0.1487 - accuracy: 0.9446\n",
      "Epoch 14/100\n",
      "8994/8994 [==============================] - 13s 1ms/step - loss: 0.1475 - accuracy: 0.9450\n",
      "Epoch 15/100\n",
      "8994/8994 [==============================] - 12s 1ms/step - loss: 0.1470 - accuracy: 0.9450\n",
      "Epoch 16/100\n",
      "8994/8994 [==============================] - 13s 1ms/step - loss: 0.1453 - accuracy: 0.9461\n",
      "Epoch 17/100\n",
      "8994/8994 [==============================] - 12s 1ms/step - loss: 0.1454 - accuracy: 0.9460\n",
      "Epoch 18/100\n",
      "8994/8994 [==============================] - 13s 1ms/step - loss: 0.1449 - accuracy: 0.9460\n",
      "Epoch 19/100\n",
      "8994/8994 [==============================] - 12s 1ms/step - loss: 0.1440 - accuracy: 0.9466\n",
      "Epoch 20/100\n",
      "8994/8994 [==============================] - 13s 1ms/step - loss: 0.1432 - accuracy: 0.9470\n",
      "Epoch 21/100\n",
      "8994/8994 [==============================] - 13s 1ms/step - loss: 0.1423 - accuracy: 0.9475\n",
      "Epoch 22/100\n",
      "8994/8994 [==============================] - 14s 2ms/step - loss: 0.1415 - accuracy: 0.9476\n",
      "Epoch 23/100\n",
      "8994/8994 [==============================] - 19s 2ms/step - loss: 0.1414 - accuracy: 0.9477\n",
      "Epoch 24/100\n",
      "8994/8994 [==============================] - 14s 2ms/step - loss: 0.1415 - accuracy: 0.9478\n",
      "Epoch 25/100\n",
      "8994/8994 [==============================] - 14s 2ms/step - loss: 0.1406 - accuracy: 0.9480\n",
      "Epoch 26/100\n",
      "8994/8994 [==============================] - 14s 2ms/step - loss: 0.1400 - accuracy: 0.9486\n",
      "Epoch 27/100\n",
      "8994/8994 [==============================] - 14s 2ms/step - loss: 0.1400 - accuracy: 0.9484\n",
      "Epoch 28/100\n",
      "8994/8994 [==============================] - 14s 2ms/step - loss: 0.1395 - accuracy: 0.9488\n",
      "Epoch 29/100\n",
      "8994/8994 [==============================] - 15s 2ms/step - loss: 0.1395 - accuracy: 0.9486\n",
      "Epoch 30/100\n",
      "8994/8994 [==============================] - 15s 2ms/step - loss: 0.1383 - accuracy: 0.9494\n",
      "Epoch 31/100\n",
      "8994/8994 [==============================] - 18s 2ms/step - loss: 0.1384 - accuracy: 0.9490\n",
      "Epoch 32/100\n",
      "8994/8994 [==============================] - 18s 2ms/step - loss: 0.1380 - accuracy: 0.9494\n",
      "Epoch 33/100\n",
      "8994/8994 [==============================] - 18s 2ms/step - loss: 0.1382 - accuracy: 0.9490\n",
      "Epoch 34/100\n",
      "8994/8994 [==============================] - 19s 2ms/step - loss: 0.1375 - accuracy: 0.9495\n",
      "Epoch 35/100\n",
      "8994/8994 [==============================] - 21s 2ms/step - loss: 0.1368 - accuracy: 0.9497\n",
      "Epoch 36/100\n",
      "8994/8994 [==============================] - 21s 2ms/step - loss: 0.1373 - accuracy: 0.9497\n",
      "Epoch 37/100\n",
      "8994/8994 [==============================] - 21s 2ms/step - loss: 0.1356 - accuracy: 0.9503\n",
      "Epoch 38/100\n",
      "8994/8994 [==============================] - 17s 2ms/step - loss: 0.1364 - accuracy: 0.9502\n",
      "Epoch 39/100\n",
      "8994/8994 [==============================] - 23s 3ms/step - loss: 0.1358 - accuracy: 0.9503\n",
      "Epoch 40/100\n",
      "8994/8994 [==============================] - 18s 2ms/step - loss: 0.1354 - accuracy: 0.9506\n",
      "Epoch 41/100\n",
      "8994/8994 [==============================] - 16s 2ms/step - loss: 0.1356 - accuracy: 0.9504\n",
      "Epoch 42/100\n",
      "8994/8994 [==============================] - 15s 2ms/step - loss: 0.1358 - accuracy: 0.9502\n",
      "Epoch 43/100\n",
      "8994/8994 [==============================] - 14s 2ms/step - loss: 0.1351 - accuracy: 0.9506\n",
      "Epoch 44/100\n",
      "8994/8994 [==============================] - 14s 2ms/step - loss: 0.1342 - accuracy: 0.9512\n",
      "Epoch 45/100\n",
      "8994/8994 [==============================] - 15s 2ms/step - loss: 0.1342 - accuracy: 0.9509\n",
      "Epoch 46/100\n",
      "8994/8994 [==============================] - 15s 2ms/step - loss: 0.1345 - accuracy: 0.9507\n",
      "Epoch 47/100\n",
      "8994/8994 [==============================] - 17s 2ms/step - loss: 0.1336 - accuracy: 0.9513\n",
      "Epoch 48/100\n",
      "8994/8994 [==============================] - 16s 2ms/step - loss: 0.1345 - accuracy: 0.9509\n",
      "Epoch 49/100\n",
      "8994/8994 [==============================] - 14s 2ms/step - loss: 0.1338 - accuracy: 0.9512\n",
      "Epoch 50/100\n",
      "8994/8994 [==============================] - 15s 2ms/step - loss: 0.1343 - accuracy: 0.9510\n",
      "Epoch 51/100\n",
      "8994/8994 [==============================] - 18s 2ms/step - loss: 0.1332 - accuracy: 0.9514\n",
      "Epoch 52/100\n",
      "8994/8994 [==============================] - 15s 2ms/step - loss: 0.1332 - accuracy: 0.9512\n",
      "Epoch 53/100\n",
      "8994/8994 [==============================] - 15s 2ms/step - loss: 0.1335 - accuracy: 0.9509\n",
      "Epoch 54/100\n",
      "8994/8994 [==============================] - 14s 2ms/step - loss: 0.1331 - accuracy: 0.9515\n",
      "Epoch 55/100\n",
      "8994/8994 [==============================] - 14s 2ms/step - loss: 0.1328 - accuracy: 0.9513\n",
      "Epoch 56/100\n",
      "8994/8994 [==============================] - 14s 2ms/step - loss: 0.1324 - accuracy: 0.9520\n",
      "Epoch 57/100\n",
      "8994/8994 [==============================] - 14s 2ms/step - loss: 0.1325 - accuracy: 0.9517\n",
      "Epoch 58/100\n",
      "8994/8994 [==============================] - 15s 2ms/step - loss: 0.1324 - accuracy: 0.9516\n",
      "Epoch 59/100\n",
      "8994/8994 [==============================] - 13s 1ms/step - loss: 0.1323 - accuracy: 0.9518\n",
      "Epoch 60/100\n",
      "8994/8994 [==============================] - 16s 2ms/step - loss: 0.1319 - accuracy: 0.9519\n",
      "Epoch 61/100\n",
      "8994/8994 [==============================] - 17s 2ms/step - loss: 0.1319 - accuracy: 0.9519\n",
      "Epoch 62/100\n",
      "8994/8994 [==============================] - 16s 2ms/step - loss: 0.1315 - accuracy: 0.9521\n",
      "Epoch 63/100\n",
      "8994/8994 [==============================] - 17s 2ms/step - loss: 0.1316 - accuracy: 0.9521\n",
      "Epoch 64/100\n",
      "8994/8994 [==============================] - 15s 2ms/step - loss: 0.1308 - accuracy: 0.9524\n",
      "Epoch 65/100\n",
      "8994/8994 [==============================] - 16s 2ms/step - loss: 0.1312 - accuracy: 0.9522\n",
      "Epoch 66/100\n",
      "8994/8994 [==============================] - 18s 2ms/step - loss: 0.1313 - accuracy: 0.9520\n",
      "Epoch 67/100\n",
      "8994/8994 [==============================] - 16s 2ms/step - loss: 0.1312 - accuracy: 0.9523\n",
      "Epoch 68/100\n",
      "8994/8994 [==============================] - 17s 2ms/step - loss: 0.1308 - accuracy: 0.9521\n",
      "Epoch 69/100\n",
      "8994/8994 [==============================] - 17s 2ms/step - loss: 0.1307 - accuracy: 0.9525\n",
      "Epoch 70/100\n",
      "8994/8994 [==============================] - 16s 2ms/step - loss: 0.1306 - accuracy: 0.9522\n",
      "Epoch 71/100\n",
      "8994/8994 [==============================] - 15s 2ms/step - loss: 0.1307 - accuracy: 0.9524\n",
      "Epoch 72/100\n",
      "8994/8994 [==============================] - 18s 2ms/step - loss: 0.1302 - accuracy: 0.9528\n",
      "Epoch 73/100\n",
      "8994/8994 [==============================] - 15s 2ms/step - loss: 0.1303 - accuracy: 0.9524\n",
      "Epoch 74/100\n",
      "8994/8994 [==============================] - 15s 2ms/step - loss: 0.1307 - accuracy: 0.9525\n",
      "Epoch 75/100\n",
      "8994/8994 [==============================] - 15s 2ms/step - loss: 0.1308 - accuracy: 0.9524\n",
      "Epoch 76/100\n",
      "8994/8994 [==============================] - 15s 2ms/step - loss: 0.1298 - accuracy: 0.9527\n",
      "Epoch 77/100\n",
      "8994/8994 [==============================] - 15s 2ms/step - loss: 0.1305 - accuracy: 0.9523\n",
      "Epoch 78/100\n",
      "8994/8994 [==============================] - 14s 2ms/step - loss: 0.1297 - accuracy: 0.9527\n",
      "Epoch 79/100\n",
      "8994/8994 [==============================] - 15s 2ms/step - loss: 0.1296 - accuracy: 0.9529\n",
      "Epoch 80/100\n",
      "8994/8994 [==============================] - 14s 2ms/step - loss: 0.1297 - accuracy: 0.9526\n",
      "Epoch 81/100\n",
      "8994/8994 [==============================] - 14s 2ms/step - loss: 0.1296 - accuracy: 0.9528\n",
      "Epoch 82/100\n",
      "8994/8994 [==============================] - 15s 2ms/step - loss: 0.1300 - accuracy: 0.9528\n",
      "Epoch 83/100\n",
      "8994/8994 [==============================] - 15s 2ms/step - loss: 0.1293 - accuracy: 0.9529\n",
      "Epoch 84/100\n",
      "8994/8994 [==============================] - 14s 2ms/step - loss: 0.1295 - accuracy: 0.9528\n",
      "Epoch 85/100\n",
      "8994/8994 [==============================] - 14s 2ms/step - loss: 0.1295 - accuracy: 0.9527\n",
      "Epoch 86/100\n",
      "8994/8994 [==============================] - 14s 2ms/step - loss: 0.1292 - accuracy: 0.9528\n",
      "Epoch 87/100\n",
      "8994/8994 [==============================] - 15s 2ms/step - loss: 0.1290 - accuracy: 0.9530\n",
      "Epoch 88/100\n",
      "8994/8994 [==============================] - 14s 2ms/step - loss: 0.1290 - accuracy: 0.9531\n",
      "Epoch 89/100\n",
      "8994/8994 [==============================] - 14s 2ms/step - loss: 0.1288 - accuracy: 0.9530\n",
      "Epoch 90/100\n",
      "8994/8994 [==============================] - 14s 2ms/step - loss: 0.1289 - accuracy: 0.9530\n",
      "Epoch 91/100\n",
      "8994/8994 [==============================] - 15s 2ms/step - loss: 0.1285 - accuracy: 0.9532\n",
      "Epoch 92/100\n",
      "8994/8994 [==============================] - 15s 2ms/step - loss: 0.1280 - accuracy: 0.9535\n",
      "Epoch 93/100\n",
      "8994/8994 [==============================] - 14s 2ms/step - loss: 0.1284 - accuracy: 0.9533\n",
      "Epoch 94/100\n",
      "8994/8994 [==============================] - 15s 2ms/step - loss: 0.1284 - accuracy: 0.9534\n",
      "Epoch 95/100\n",
      "8994/8994 [==============================] - 15s 2ms/step - loss: 0.1280 - accuracy: 0.9537\n",
      "Epoch 96/100\n",
      "8994/8994 [==============================] - 15s 2ms/step - loss: 0.1283 - accuracy: 0.9533\n",
      "Epoch 97/100\n",
      "8994/8994 [==============================] - 15s 2ms/step - loss: 0.1285 - accuracy: 0.9532\n",
      "Epoch 98/100\n",
      "8994/8994 [==============================] - 16s 2ms/step - loss: 0.1278 - accuracy: 0.9535\n",
      "Epoch 99/100\n",
      "8994/8994 [==============================] - 16s 2ms/step - loss: 0.1280 - accuracy: 0.9534\n",
      "Epoch 100/100\n",
      "8994/8994 [==============================] - 16s 2ms/step - loss: 0.1280 - accuracy: 0.9535\n"
     ]
    }
   ],
   "source": [
    "\n",
    "tf.random.set_seed(42)\n",
    "\n",
    "\n",
    "\n",
    "model_22 = tf.keras.Sequential([\n",
    "  tf.keras.layers.Dense(18,activation = 'relu'),\n",
    "  tf.keras.layers.Dense(36,activation = 'relu'),\n",
    "  tf.keras.layers.Dense(18,activation = 'relu'),\n",
    "  tf.keras.layers.Dense(9,activation = 'relu'),\n",
    "  tf.keras.layers.Dense(1,activation = 'sigmoid')                            \n",
    "])\n",
    "\n",
    "\n",
    "model_22.compile(loss = 'binary_crossentropy',\n",
    "                optimizer = tf.keras.optimizers.Adam(lr=0.001),\n",
    "                metrics = ['accuracy'])\n",
    "\n",
    "\n",
    "history_2 = model_22.fit(x_train7,y_train7,epochs = 100)"
   ]
  },
  {
   "cell_type": "code",
   "execution_count": 46,
   "metadata": {},
   "outputs": [
    {
     "name": "stdout",
     "output_type": "stream",
     "text": [
      "2998/2998 [==============================] - 4s 1ms/step - loss: 0.1385 - accuracy: 0.9503\n"
     ]
    },
    {
     "data": {
      "text/plain": [
       "[0.1385383903980255, 0.9502861499786377]"
      ]
     },
     "execution_count": 46,
     "metadata": {},
     "output_type": "execute_result"
    }
   ],
   "source": [
    "model_22.evaluate(x_test7,y_test7)"
   ]
  },
  {
   "cell_type": "code",
   "execution_count": 47,
   "metadata": {},
   "outputs": [
    {
     "name": "stdout",
     "output_type": "stream",
     "text": [
      "8994/8994 [==============================] - 12s 1ms/step\n",
      "2998/2998 [==============================] - 4s 1ms/step\n",
      "              precision    recall  f1-score   support\n",
      "\n",
      "           0       0.94      0.96      0.95    129863\n",
      "           1       0.96      0.95      0.96    157923\n",
      "\n",
      "    accuracy                           0.95    287786\n",
      "   macro avg       0.95      0.95      0.95    287786\n",
      "weighted avg       0.95      0.95      0.95    287786\n",
      "\n",
      "              precision    recall  f1-score   support\n",
      "\n",
      "           0       0.94      0.96      0.95     43405\n",
      "           1       0.96      0.95      0.95     52524\n",
      "\n",
      "    accuracy                           0.95     95929\n",
      "   macro avg       0.95      0.95      0.95     95929\n",
      "weighted avg       0.95      0.95      0.95     95929\n",
      "\n"
     ]
    }
   ],
   "source": [
    "ypred_train22 = model_22.predict(x_train7)\n",
    "y_pred_test22 = model_22.predict(x_test7)\n",
    "\n",
    "y_pred_test22 = (y_pred_test22 > 0.5)\n",
    "ypred_train22 = (ypred_train22 > 0.5)\n",
    "\n",
    "print(classification_report(y_train7,ypred_train22))\n",
    "print(classification_report(y_test7,y_pred_test22))"
   ]
  },
  {
   "cell_type": "code",
   "execution_count": 48,
   "metadata": {},
   "outputs": [
    {
     "name": "stdout",
     "output_type": "stream",
     "text": [
      "2998/2998 [==============================] - 4s 1ms/step\n"
     ]
    },
    {
     "data": {
      "image/png": "[encoded data removed]",
      "text/plain": [
       "<Figure size 640x480 with 1 Axes>"
      ]
     },
     "metadata": {},
     "output_type": "display_data"
    }
   ],
   "source": [
    "# cross_val_scores = cross_val_score(model_22, x_train7, y_train7, cv=5)\n",
    "# print(\"Cross-Validation Scores for the Best Model:\", cross_val_scores)\n",
    "# print(\"Average Cross-Validation Score:\", cross_val_scores.mean())\n",
    "y_proba_test = model_22.predict(x_test7).flatten()\n",
    "\n",
    "fpr, tpr, thresholds = roc_curve(y_test7, y_proba_test)\n",
    "\n",
    "plt.plot(fpr, tpr, label='ROC Curve')\n",
    "plt.xlabel('False Positive Rate')\n",
    "plt.ylabel('True Positive Rate')\n",
    "plt.title('ROC Curve with AUC = {:.2f}'.format(roc_auc_score(y_test7, y_proba_test)))\n",
    "plt.legend(loc='lower right')\n",
    "plt.grid(True)\n",
    "plt.show()"
   ]
  },
  {
   "cell_type": "markdown",
   "metadata": {},
   "source": [
    "## inne próby sieci neuronowych "
   ]
  },
  {
   "cell_type": "code",
   "execution_count": 49,
   "metadata": {},
   "outputs": [],
   "source": [
    "model1 = Sequential()\n",
    "model1.add(Dense(units=30,activation='relu'))\n",
    "model1.add(Dropout(0.5))\n",
    "\n",
    "model1.add(Dense(units=15,activation='relu'))\n",
    "model1.add(Dropout(0.5))\n",
    "\n",
    "model1.add(Dense(units=1,activation='sigmoid'))\n",
    "model1.compile(loss='binary_crossentropy', optimizer='adam')"
   ]
  },
  {
   "cell_type": "code",
   "execution_count": 50,
   "metadata": {},
   "outputs": [
    {
     "name": "stdout",
     "output_type": "stream",
     "text": [
      "Epoch 1/100\n",
      "8994/8994 [==============================] - 21s 2ms/step - loss: 0.3702 - val_loss: 0.3024\n",
      "Epoch 2/100\n",
      "8994/8994 [==============================] - 20s 2ms/step - loss: 0.3343 - val_loss: 0.2840\n",
      "Epoch 3/100\n",
      "8994/8994 [==============================] - 20s 2ms/step - loss: 0.3240 - val_loss: 0.2746\n",
      "Epoch 4/100\n",
      "8994/8994 [==============================] - 21s 2ms/step - loss: 0.3189 - val_loss: 0.2680\n",
      "Epoch 5/100\n",
      "8994/8994 [==============================] - 21s 2ms/step - loss: 0.3144 - val_loss: 0.2621\n",
      "Epoch 6/100\n",
      "8994/8994 [==============================] - 20s 2ms/step - loss: 0.3120 - val_loss: 0.2624\n",
      "Epoch 7/100\n",
      "8994/8994 [==============================] - 21s 2ms/step - loss: 0.3106 - val_loss: 0.2601\n",
      "Epoch 8/100\n",
      "8994/8994 [==============================] - 21s 2ms/step - loss: 0.3079 - val_loss: 0.2577\n",
      "Epoch 9/100\n",
      "8994/8994 [==============================] - 21s 2ms/step - loss: 0.3069 - val_loss: 0.2564\n",
      "Epoch 10/100\n",
      "8994/8994 [==============================] - 21s 2ms/step - loss: 0.3071 - val_loss: 0.2577\n",
      "Epoch 11/100\n",
      "8994/8994 [==============================] - 21s 2ms/step - loss: 0.3057 - val_loss: 0.2580\n",
      "Epoch 12/100\n",
      "8994/8994 [==============================] - 21s 2ms/step - loss: 0.3063 - val_loss: 0.2574\n",
      "Epoch 13/100\n",
      "8994/8994 [==============================] - 21s 2ms/step - loss: 0.3049 - val_loss: 0.2541\n",
      "Epoch 14/100\n",
      "8994/8994 [==============================] - 21s 2ms/step - loss: 0.3045 - val_loss: 0.2535\n",
      "Epoch 15/100\n",
      "8994/8994 [==============================] - 21s 2ms/step - loss: 0.3049 - val_loss: 0.2542\n",
      "Epoch 16/100\n",
      "8994/8994 [==============================] - 21s 2ms/step - loss: 0.3038 - val_loss: 0.2539\n",
      "Epoch 17/100\n",
      "8994/8994 [==============================] - 21s 2ms/step - loss: 0.3039 - val_loss: 0.2524\n",
      "Epoch 18/100\n",
      "8994/8994 [==============================] - 22s 2ms/step - loss: 0.3043 - val_loss: 0.2533\n",
      "Epoch 19/100\n",
      "8994/8994 [==============================] - 21s 2ms/step - loss: 0.3032 - val_loss: 0.2526\n",
      "Epoch 20/100\n",
      "8994/8994 [==============================] - 21s 2ms/step - loss: 0.3028 - val_loss: 0.2518\n",
      "Epoch 21/100\n",
      "8994/8994 [==============================] - 21s 2ms/step - loss: 0.3029 - val_loss: 0.2528\n",
      "Epoch 22/100\n",
      "8994/8994 [==============================] - 21s 2ms/step - loss: 0.3031 - val_loss: 0.2508\n",
      "Epoch 23/100\n",
      "8994/8994 [==============================] - 21s 2ms/step - loss: 0.3038 - val_loss: 0.2532\n",
      "Epoch 24/100\n",
      "8994/8994 [==============================] - 22s 2ms/step - loss: 0.3032 - val_loss: 0.2533\n",
      "Epoch 25/100\n",
      "8994/8994 [==============================] - 21s 2ms/step - loss: 0.3021 - val_loss: 0.2518\n",
      "Epoch 26/100\n",
      "8994/8994 [==============================] - 21s 2ms/step - loss: 0.3041 - val_loss: 0.2526\n",
      "Epoch 27/100\n",
      "8994/8994 [==============================] - 21s 2ms/step - loss: 0.3025 - val_loss: 0.2513\n",
      "Epoch 28/100\n",
      "8994/8994 [==============================] - 21s 2ms/step - loss: 0.3027 - val_loss: 0.2533\n",
      "Epoch 29/100\n",
      "8994/8994 [==============================] - 19s 2ms/step - loss: 0.3035 - val_loss: 0.2511\n",
      "Epoch 30/100\n",
      "8994/8994 [==============================] - 19s 2ms/step - loss: 0.3025 - val_loss: 0.2539\n",
      "Epoch 31/100\n",
      "8994/8994 [==============================] - 18s 2ms/step - loss: 0.3030 - val_loss: 0.2541\n",
      "Epoch 32/100\n",
      "8994/8994 [==============================] - 16s 2ms/step - loss: 0.3020 - val_loss: 0.2539\n",
      "Epoch 33/100\n",
      "8994/8994 [==============================] - 16s 2ms/step - loss: 0.3040 - val_loss: 0.2519\n",
      "Epoch 34/100\n",
      "8994/8994 [==============================] - 15s 2ms/step - loss: 0.3023 - val_loss: 0.2496\n",
      "Epoch 35/100\n",
      "8994/8994 [==============================] - 15s 2ms/step - loss: 0.3015 - val_loss: 0.2497\n",
      "Epoch 36/100\n",
      "8994/8994 [==============================] - 15s 2ms/step - loss: 0.3026 - val_loss: 0.2510\n",
      "Epoch 37/100\n",
      "8994/8994 [==============================] - 15s 2ms/step - loss: 0.3024 - val_loss: 0.2491\n",
      "Epoch 38/100\n",
      "8994/8994 [==============================] - 15s 2ms/step - loss: 0.3017 - val_loss: 0.2510\n",
      "Epoch 39/100\n",
      "8994/8994 [==============================] - 14s 2ms/step - loss: 0.3012 - val_loss: 0.2502\n",
      "Epoch 40/100\n",
      "8994/8994 [==============================] - 14s 2ms/step - loss: 0.3016 - val_loss: 0.2532\n",
      "Epoch 41/100\n",
      "8994/8994 [==============================] - 16s 2ms/step - loss: 0.3013 - val_loss: 0.2508\n",
      "Epoch 42/100\n",
      "8994/8994 [==============================] - 15s 2ms/step - loss: 0.3013 - val_loss: 0.2514\n",
      "Epoch 43/100\n",
      "8994/8994 [==============================] - 14s 2ms/step - loss: 0.3025 - val_loss: 0.2495\n",
      "Epoch 44/100\n",
      "8994/8994 [==============================] - 16s 2ms/step - loss: 0.3008 - val_loss: 0.2512\n",
      "Epoch 45/100\n",
      "8994/8994 [==============================] - 15s 2ms/step - loss: 0.3004 - val_loss: 0.2511\n",
      "Epoch 46/100\n",
      "8994/8994 [==============================] - 15s 2ms/step - loss: 0.3006 - val_loss: 0.2518\n",
      "Epoch 47/100\n",
      "8994/8994 [==============================] - 15s 2ms/step - loss: 0.3016 - val_loss: 0.2528\n",
      "Epoch 48/100\n",
      "8994/8994 [==============================] - 16s 2ms/step - loss: 0.3014 - val_loss: 0.2509\n",
      "Epoch 49/100\n",
      "8994/8994 [==============================] - 17s 2ms/step - loss: 0.3010 - val_loss: 0.2495\n",
      "Epoch 50/100\n",
      "8994/8994 [==============================] - 14s 2ms/step - loss: 0.3013 - val_loss: 0.2487\n",
      "Epoch 51/100\n",
      "8994/8994 [==============================] - 14s 2ms/step - loss: 0.3002 - val_loss: 0.2488\n",
      "Epoch 52/100\n",
      "8994/8994 [==============================] - 14s 2ms/step - loss: 0.3001 - val_loss: 0.2486\n",
      "Epoch 53/100\n",
      "8994/8994 [==============================] - 14s 2ms/step - loss: 0.3009 - val_loss: 0.2518\n",
      "Epoch 54/100\n",
      "8994/8994 [==============================] - 14s 2ms/step - loss: 0.3019 - val_loss: 0.2502\n",
      "Epoch 55/100\n",
      "8994/8994 [==============================] - 14s 2ms/step - loss: 0.3005 - val_loss: 0.2481\n",
      "Epoch 56/100\n",
      "8994/8994 [==============================] - 14s 2ms/step - loss: 0.3008 - val_loss: 0.2489\n",
      "Epoch 57/100\n",
      "8994/8994 [==============================] - 14s 2ms/step - loss: 0.3015 - val_loss: 0.2493\n",
      "Epoch 58/100\n",
      "8994/8994 [==============================] - 14s 2ms/step - loss: 0.3005 - val_loss: 0.2509\n",
      "Epoch 59/100\n",
      "8994/8994 [==============================] - 14s 2ms/step - loss: 0.3025 - val_loss: 0.2490\n",
      "Epoch 60/100\n",
      "8994/8994 [==============================] - 14s 2ms/step - loss: 0.3014 - val_loss: 0.2511\n",
      "Epoch 61/100\n",
      "8994/8994 [==============================] - 14s 2ms/step - loss: 0.3006 - val_loss: 0.2496\n",
      "Epoch 62/100\n",
      "8994/8994 [==============================] - 14s 2ms/step - loss: 0.3009 - val_loss: 0.2506\n",
      "Epoch 63/100\n",
      "8994/8994 [==============================] - 13s 1ms/step - loss: 0.3007 - val_loss: 0.2494\n",
      "Epoch 64/100\n",
      "8994/8994 [==============================] - 14s 2ms/step - loss: 0.3015 - val_loss: 0.2500\n",
      "Epoch 65/100\n",
      "8994/8994 [==============================] - 14s 2ms/step - loss: 0.3015 - val_loss: 0.2499\n",
      "Epoch 66/100\n",
      "8994/8994 [==============================] - 14s 2ms/step - loss: 0.3004 - val_loss: 0.2503\n",
      "Epoch 67/100\n",
      "8994/8994 [==============================] - 14s 2ms/step - loss: 0.3008 - val_loss: 0.2496\n",
      "Epoch 68/100\n",
      "8994/8994 [==============================] - 14s 2ms/step - loss: 0.3009 - val_loss: 0.2497\n",
      "Epoch 69/100\n",
      "8994/8994 [==============================] - 14s 2ms/step - loss: 0.2998 - val_loss: 0.2504\n",
      "Epoch 70/100\n",
      "8994/8994 [==============================] - 14s 2ms/step - loss: 0.3004 - val_loss: 0.2521\n",
      "Epoch 71/100\n",
      "8994/8994 [==============================] - 13s 1ms/step - loss: 0.2994 - val_loss: 0.2537\n",
      "Epoch 72/100\n",
      "8994/8994 [==============================] - 14s 2ms/step - loss: 0.3002 - val_loss: 0.2493\n",
      "Epoch 73/100\n",
      "8994/8994 [==============================] - 14s 2ms/step - loss: 0.3004 - val_loss: 0.2504\n",
      "Epoch 74/100\n",
      "8994/8994 [==============================] - 14s 2ms/step - loss: 0.3026 - val_loss: 0.2517\n",
      "Epoch 75/100\n",
      "8994/8994 [==============================] - 14s 2ms/step - loss: 0.2998 - val_loss: 0.2506\n",
      "Epoch 76/100\n",
      "8994/8994 [==============================] - 13s 1ms/step - loss: 0.3004 - val_loss: 0.2499\n",
      "Epoch 77/100\n",
      "8994/8994 [==============================] - 14s 2ms/step - loss: 0.3007 - val_loss: 0.2493\n",
      "Epoch 78/100\n",
      "8994/8994 [==============================] - 13s 1ms/step - loss: 0.2998 - val_loss: 0.2487\n",
      "Epoch 79/100\n",
      "8994/8994 [==============================] - 13s 1ms/step - loss: 0.3008 - val_loss: 0.2517\n",
      "Epoch 80/100\n",
      "8994/8994 [==============================] - 13s 1ms/step - loss: 0.3004 - val_loss: 0.2476\n",
      "Epoch 81/100\n",
      "8994/8994 [==============================] - 13s 1ms/step - loss: 0.2997 - val_loss: 0.2496\n",
      "Epoch 82/100\n",
      "8994/8994 [==============================] - 13s 1ms/step - loss: 0.3010 - val_loss: 0.2487\n",
      "Epoch 83/100\n",
      "8994/8994 [==============================] - 13s 1ms/step - loss: 0.3003 - val_loss: 0.2505\n",
      "Epoch 84/100\n",
      "8994/8994 [==============================] - 13s 1ms/step - loss: 0.2994 - val_loss: 0.2501\n",
      "Epoch 85/100\n",
      "8994/8994 [==============================] - 14s 2ms/step - loss: 0.3007 - val_loss: 0.2512\n",
      "Epoch 86/100\n",
      "8994/8994 [==============================] - 14s 2ms/step - loss: 0.3006 - val_loss: 0.2492\n",
      "Epoch 87/100\n",
      "8994/8994 [==============================] - 14s 2ms/step - loss: 0.3000 - val_loss: 0.2499\n",
      "Epoch 88/100\n",
      "8994/8994 [==============================] - 13s 1ms/step - loss: 0.3002 - val_loss: 0.2503\n",
      "Epoch 89/100\n",
      "8994/8994 [==============================] - 13s 1ms/step - loss: 0.2999 - val_loss: 0.2519\n",
      "Epoch 90/100\n",
      "8994/8994 [==============================] - 14s 2ms/step - loss: 0.2998 - val_loss: 0.2498\n",
      "Epoch 91/100\n",
      "8994/8994 [==============================] - 14s 2ms/step - loss: 0.2994 - val_loss: 0.2492\n",
      "Epoch 92/100\n",
      "8994/8994 [==============================] - 14s 2ms/step - loss: 0.3011 - val_loss: 0.2519\n",
      "Epoch 93/100\n",
      "8994/8994 [==============================] - 14s 2ms/step - loss: 0.3001 - val_loss: 0.2518\n",
      "Epoch 94/100\n",
      "8994/8994 [==============================] - 13s 1ms/step - loss: 0.2994 - val_loss: 0.2513\n",
      "Epoch 95/100\n",
      "8994/8994 [==============================] - 13s 1ms/step - loss: 0.3016 - val_loss: 0.2489\n",
      "Epoch 96/100\n",
      "8994/8994 [==============================] - 13s 1ms/step - loss: 0.3005 - val_loss: 0.2486\n",
      "Epoch 97/100\n",
      "8994/8994 [==============================] - 13s 1ms/step - loss: 0.3001 - val_loss: 0.2477\n",
      "Epoch 98/100\n",
      "8994/8994 [==============================] - 13s 1ms/step - loss: 0.3001 - val_loss: 0.2464\n",
      "Epoch 99/100\n",
      "8994/8994 [==============================] - 13s 1ms/step - loss: 0.3003 - val_loss: 0.2491\n",
      "Epoch 100/100\n",
      "8994/8994 [==============================] - 14s 2ms/step - loss: 0.2996 - val_loss: 0.2490\n"
     ]
    },
    {
     "data": {
      "text/plain": [
       "<keras.src.callbacks.History at 0x2200e280e10>"
      ]
     },
     "execution_count": 50,
     "metadata": {},
     "output_type": "execute_result"
    }
   ],
   "source": [
    "model1.fit(x=x_train7, \n",
    "          y=y_train7, \n",
    "          epochs=100,\n",
    "          validation_data=(x_test7, y_test7), verbose=1,\n",
    "          callbacks=[early_stop]\n",
    "          )"
   ]
  },
  {
   "cell_type": "code",
   "execution_count": 51,
   "metadata": {},
   "outputs": [
    {
     "name": "stdout",
     "output_type": "stream",
     "text": [
      "2998/2998 [==============================] - 3s 862us/step\n",
      "8994/8994 [==============================] - 8s 870us/step\n",
      "2998/2998 [==============================] - 3s 910us/step\n",
      "Training Results\n",
      "\n",
      "              precision    recall  f1-score   support\n",
      "\n",
      "           0       0.85      0.94      0.89    129863\n",
      "           1       0.94      0.86      0.90    157923\n",
      "\n",
      "    accuracy                           0.90    287786\n",
      "   macro avg       0.90      0.90      0.90    287786\n",
      "weighted avg       0.90      0.90      0.90    287786\n",
      "\n",
      "Testing Results\n",
      "\n",
      "              precision    recall  f1-score   support\n",
      "\n",
      "           0       0.85      0.94      0.89     43405\n",
      "           1       0.94      0.86      0.90     52524\n",
      "\n",
      "    accuracy                           0.90     95929\n",
      "   macro avg       0.90      0.90      0.90     95929\n",
      "weighted avg       0.90      0.90      0.90     95929\n",
      "\n"
     ]
    }
   ],
   "source": [
    "\n",
    "\n",
    "predictions = model1.predict(x_test7)\n",
    "\n",
    "ypred_train11 = model1.predict(x_train7)\n",
    "y_pred_test11 = model1.predict(x_test7)\n",
    "\n",
    "y_pred_test11 = (y_pred_test11 > 0.5)\n",
    "ypred_train11 = (ypred_train11 > 0.5)\n",
    "\n",
    "\n",
    "print(\"Training Results\\n\")\n",
    "print(classification_report(y_train7,ypred_train11))\n",
    "print(\"Testing Results\\n\")\n",
    "print(classification_report(y_test7,y_pred_test11))"
   ]
  },
  {
   "cell_type": "code",
   "execution_count": 52,
   "metadata": {},
   "outputs": [
    {
     "name": "stdout",
     "output_type": "stream",
     "text": [
      "2998/2998 [==============================] - 3s 998us/step\n"
     ]
    },
    {
     "data": {
      "image/png": "[encoded data removed]",
      "text/plain": [
       "<Figure size 640x480 with 1 Axes>"
      ]
     },
     "metadata": {},
     "output_type": "display_data"
    }
   ],
   "source": [
    "# cross_val_scores = cross_val_score(model1, x_train7, y_train7, cv=5)\n",
    "# print(\"Cross-Validation Scores for the Best Model:\", cross_val_scores)\n",
    "# print(\"Average Cross-Validation Score:\", cross_val_scores.mean())\n",
    "\n",
    "y_proba_test = model1.predict(x_test7).flatten()\n",
    "\n",
    "fpr, tpr, thresholds = roc_curve(y_test7, y_proba_test)\n",
    "\n",
    "plt.plot(fpr, tpr, label='ROC Curve')\n",
    "plt.xlabel('False Positive Rate')\n",
    "plt.ylabel('True Positive Rate')\n",
    "plt.title('ROC Curve with AUC = {:.2f}'.format(roc_auc_score(y_test7, y_proba_test)))\n",
    "plt.legend(loc='lower right')\n",
    "plt.grid(True)\n",
    "plt.show()"
   ]
  },
  {
   "cell_type": "markdown",
   "metadata": {},
   "source": [
    "## inny model"
   ]
  },
  {
   "cell_type": "code",
   "execution_count": 53,
   "metadata": {},
   "outputs": [],
   "source": [
    "model2 = Sequential()\n",
    "\n",
    "\n",
    "\n",
    "model2.add(Dense(14,  activation='relu'))\n",
    "model2.add(Dropout(0.2))\n",
    "\n",
    "model2.add(Dense(10, activation='relu'))\n",
    "model2.add(Dropout(0.2))\n",
    "\n",
    "model2.add(Dense(units=1,activation='sigmoid'))\n",
    "\n",
    "model2.compile(loss='binary_crossentropy', optimizer='adam')"
   ]
  },
  {
   "cell_type": "code",
   "execution_count": 54,
   "metadata": {},
   "outputs": [
    {
     "name": "stdout",
     "output_type": "stream",
     "text": [
      "Epoch 1/100\n",
      "8994/8994 [==============================] - 14s 2ms/step - loss: 0.3461 - val_loss: 0.2914\n",
      "Epoch 2/100\n",
      "8994/8994 [==============================] - 13s 1ms/step - loss: 0.3076 - val_loss: 0.2727\n",
      "Epoch 3/100\n",
      "8994/8994 [==============================] - 13s 1ms/step - loss: 0.2962 - val_loss: 0.2662\n",
      "Epoch 4/100\n",
      "8994/8994 [==============================] - 14s 2ms/step - loss: 0.2896 - val_loss: 0.2586\n",
      "Epoch 5/100\n",
      "8994/8994 [==============================] - 13s 1ms/step - loss: 0.2860 - val_loss: 0.2542\n",
      "Epoch 6/100\n",
      "8994/8994 [==============================] - 13s 1ms/step - loss: 0.2853 - val_loss: 0.2539\n",
      "Epoch 7/100\n",
      "8994/8994 [==============================] - 13s 1ms/step - loss: 0.2835 - val_loss: 0.2512\n",
      "Epoch 8/100\n",
      "8994/8994 [==============================] - 13s 1ms/step - loss: 0.2830 - val_loss: 0.2494\n",
      "Epoch 9/100\n",
      "8994/8994 [==============================] - 13s 1ms/step - loss: 0.2821 - val_loss: 0.2488\n",
      "Epoch 10/100\n",
      "8994/8994 [==============================] - 13s 1ms/step - loss: 0.2818 - val_loss: 0.2492\n",
      "Epoch 11/100\n",
      "8994/8994 [==============================] - 13s 1ms/step - loss: 0.2807 - val_loss: 0.2490\n",
      "Epoch 12/100\n",
      "8994/8994 [==============================] - 13s 1ms/step - loss: 0.2799 - val_loss: 0.2477\n",
      "Epoch 13/100\n",
      "8994/8994 [==============================] - 13s 1ms/step - loss: 0.2802 - val_loss: 0.2473\n",
      "Epoch 14/100\n",
      "8994/8994 [==============================] - 13s 1ms/step - loss: 0.2798 - val_loss: 0.2471\n",
      "Epoch 15/100\n",
      "8994/8994 [==============================] - 13s 1ms/step - loss: 0.2789 - val_loss: 0.2461\n",
      "Epoch 16/100\n",
      "8994/8994 [==============================] - 13s 1ms/step - loss: 0.2788 - val_loss: 0.2447\n",
      "Epoch 17/100\n",
      "8994/8994 [==============================] - 13s 1ms/step - loss: 0.2790 - val_loss: 0.2478\n",
      "Epoch 18/100\n",
      "8994/8994 [==============================] - 13s 1ms/step - loss: 0.2782 - val_loss: 0.2452\n",
      "Epoch 19/100\n",
      "8994/8994 [==============================] - 13s 1ms/step - loss: 0.2790 - val_loss: 0.2502\n",
      "Epoch 20/100\n",
      "8994/8994 [==============================] - 13s 1ms/step - loss: 0.2786 - val_loss: 0.2441\n",
      "Epoch 21/100\n",
      "8994/8994 [==============================] - 13s 1ms/step - loss: 0.2784 - val_loss: 0.2468\n",
      "Epoch 22/100\n",
      "8994/8994 [==============================] - 13s 1ms/step - loss: 0.2787 - val_loss: 0.2466\n",
      "Epoch 23/100\n",
      "8994/8994 [==============================] - 13s 1ms/step - loss: 0.2776 - val_loss: 0.2466\n",
      "Epoch 24/100\n",
      "8994/8994 [==============================] - 13s 1ms/step - loss: 0.2777 - val_loss: 0.2447\n",
      "Epoch 25/100\n",
      "8994/8994 [==============================] - 14s 2ms/step - loss: 0.2780 - val_loss: 0.2467\n",
      "Epoch 26/100\n",
      "8994/8994 [==============================] - 14s 2ms/step - loss: 0.2782 - val_loss: 0.2449\n",
      "Epoch 27/100\n",
      "8994/8994 [==============================] - 13s 1ms/step - loss: 0.2778 - val_loss: 0.2445\n",
      "Epoch 28/100\n",
      "8994/8994 [==============================] - 13s 1ms/step - loss: 0.2781 - val_loss: 0.2481\n",
      "Epoch 29/100\n",
      "8994/8994 [==============================] - 13s 1ms/step - loss: 0.2778 - val_loss: 0.2442\n",
      "Epoch 30/100\n",
      "8994/8994 [==============================] - 13s 1ms/step - loss: 0.2778 - val_loss: 0.2451\n",
      "Epoch 31/100\n",
      "8994/8994 [==============================] - 13s 1ms/step - loss: 0.2765 - val_loss: 0.2458\n",
      "Epoch 32/100\n",
      "8994/8994 [==============================] - 13s 1ms/step - loss: 0.2766 - val_loss: 0.2458\n",
      "Epoch 33/100\n",
      "8994/8994 [==============================] - 13s 1ms/step - loss: 0.2774 - val_loss: 0.2435\n",
      "Epoch 34/100\n",
      "8994/8994 [==============================] - 13s 1ms/step - loss: 0.2766 - val_loss: 0.2448\n",
      "Epoch 35/100\n",
      "8994/8994 [==============================] - 13s 1ms/step - loss: 0.2772 - val_loss: 0.2446\n",
      "Epoch 36/100\n",
      "8994/8994 [==============================] - 13s 1ms/step - loss: 0.2761 - val_loss: 0.2438\n",
      "Epoch 37/100\n",
      "8994/8994 [==============================] - 13s 1ms/step - loss: 0.2766 - val_loss: 0.2424\n",
      "Epoch 38/100\n",
      "8994/8994 [==============================] - 13s 1ms/step - loss: 0.2766 - val_loss: 0.2435\n",
      "Epoch 39/100\n",
      "8994/8994 [==============================] - 13s 1ms/step - loss: 0.2766 - val_loss: 0.2428\n",
      "Epoch 40/100\n",
      "8994/8994 [==============================] - 13s 1ms/step - loss: 0.2773 - val_loss: 0.2456\n",
      "Epoch 41/100\n",
      "8994/8994 [==============================] - 13s 1ms/step - loss: 0.2763 - val_loss: 0.2438\n",
      "Epoch 42/100\n",
      "8994/8994 [==============================] - 13s 1ms/step - loss: 0.2769 - val_loss: 0.2421\n",
      "Epoch 43/100\n",
      "8994/8994 [==============================] - 13s 1ms/step - loss: 0.2763 - val_loss: 0.2444\n",
      "Epoch 44/100\n",
      "8994/8994 [==============================] - 13s 1ms/step - loss: 0.2771 - val_loss: 0.2455\n",
      "Epoch 45/100\n",
      "8994/8994 [==============================] - 13s 1ms/step - loss: 0.2761 - val_loss: 0.2433\n",
      "Epoch 46/100\n",
      "8994/8994 [==============================] - 13s 1ms/step - loss: 0.2761 - val_loss: 0.2432\n",
      "Epoch 47/100\n",
      "8994/8994 [==============================] - 13s 1ms/step - loss: 0.2761 - val_loss: 0.2432\n",
      "Epoch 48/100\n",
      "8994/8994 [==============================] - 13s 1ms/step - loss: 0.2773 - val_loss: 0.2431\n",
      "Epoch 49/100\n",
      "8994/8994 [==============================] - 13s 1ms/step - loss: 0.2755 - val_loss: 0.2443\n",
      "Epoch 50/100\n",
      "8994/8994 [==============================] - 13s 1ms/step - loss: 0.2749 - val_loss: 0.2429\n",
      "Epoch 51/100\n",
      "8994/8994 [==============================] - 13s 1ms/step - loss: 0.2741 - val_loss: 0.2436\n",
      "Epoch 52/100\n",
      "8994/8994 [==============================] - 13s 1ms/step - loss: 0.2761 - val_loss: 0.2429\n",
      "Epoch 53/100\n",
      "8994/8994 [==============================] - 13s 1ms/step - loss: 0.2759 - val_loss: 0.2428\n",
      "Epoch 54/100\n",
      "8994/8994 [==============================] - 13s 1ms/step - loss: 0.2760 - val_loss: 0.2437\n",
      "Epoch 55/100\n",
      "8994/8994 [==============================] - 13s 1ms/step - loss: 0.2756 - val_loss: 0.2426\n",
      "Epoch 56/100\n",
      "8994/8994 [==============================] - 13s 1ms/step - loss: 0.2760 - val_loss: 0.2419\n",
      "Epoch 57/100\n",
      "8994/8994 [==============================] - 13s 1ms/step - loss: 0.2757 - val_loss: 0.2443\n",
      "Epoch 58/100\n",
      "8994/8994 [==============================] - 13s 1ms/step - loss: 0.2756 - val_loss: 0.2414\n",
      "Epoch 59/100\n",
      "8994/8994 [==============================] - 13s 1ms/step - loss: 0.2760 - val_loss: 0.2429\n",
      "Epoch 60/100\n",
      "8994/8994 [==============================] - 13s 1ms/step - loss: 0.2760 - val_loss: 0.2430\n",
      "Epoch 61/100\n",
      "8994/8994 [==============================] - 13s 1ms/step - loss: 0.2758 - val_loss: 0.2437\n",
      "Epoch 62/100\n",
      "8994/8994 [==============================] - 13s 1ms/step - loss: 0.2751 - val_loss: 0.2415\n",
      "Epoch 63/100\n",
      "8994/8994 [==============================] - 13s 1ms/step - loss: 0.2751 - val_loss: 0.2425\n",
      "Epoch 64/100\n",
      "8994/8994 [==============================] - 13s 1ms/step - loss: 0.2769 - val_loss: 0.2462\n",
      "Epoch 65/100\n",
      "8994/8994 [==============================] - 13s 1ms/step - loss: 0.2757 - val_loss: 0.2453\n",
      "Epoch 66/100\n",
      "8994/8994 [==============================] - 13s 1ms/step - loss: 0.2758 - val_loss: 0.2433\n",
      "Epoch 67/100\n",
      "8994/8994 [==============================] - 15s 2ms/step - loss: 0.2756 - val_loss: 0.2434\n",
      "Epoch 68/100\n",
      "8994/8994 [==============================] - 16s 2ms/step - loss: 0.2766 - val_loss: 0.2419\n",
      "Epoch 69/100\n",
      "8994/8994 [==============================] - 14s 2ms/step - loss: 0.2753 - val_loss: 0.2421\n",
      "Epoch 70/100\n",
      "8994/8994 [==============================] - 13s 1ms/step - loss: 0.2759 - val_loss: 0.2437\n",
      "Epoch 71/100\n",
      "8994/8994 [==============================] - 12s 1ms/step - loss: 0.2753 - val_loss: 0.2437\n",
      "Epoch 72/100\n",
      "8994/8994 [==============================] - 12s 1ms/step - loss: 0.2751 - val_loss: 0.2425\n",
      "Epoch 73/100\n",
      "8994/8994 [==============================] - 12s 1ms/step - loss: 0.2748 - val_loss: 0.2426\n",
      "Epoch 74/100\n",
      "8994/8994 [==============================] - 12s 1ms/step - loss: 0.2747 - val_loss: 0.2442\n",
      "Epoch 75/100\n",
      "8994/8994 [==============================] - 13s 1ms/step - loss: 0.2762 - val_loss: 0.2417\n",
      "Epoch 76/100\n",
      "8994/8994 [==============================] - 13s 1ms/step - loss: 0.2760 - val_loss: 0.2429\n",
      "Epoch 77/100\n",
      "8994/8994 [==============================] - 13s 1ms/step - loss: 0.2764 - val_loss: 0.2428\n",
      "Epoch 78/100\n",
      "8994/8994 [==============================] - 13s 1ms/step - loss: 0.2754 - val_loss: 0.2414\n",
      "Epoch 79/100\n",
      "8994/8994 [==============================] - 13s 1ms/step - loss: 0.2744 - val_loss: 0.2414\n",
      "Epoch 80/100\n",
      "8994/8994 [==============================] - 13s 1ms/step - loss: 0.2746 - val_loss: 0.2425\n",
      "Epoch 81/100\n",
      "8994/8994 [==============================] - 13s 1ms/step - loss: 0.2757 - val_loss: 0.2432\n",
      "Epoch 82/100\n",
      "8994/8994 [==============================] - 13s 1ms/step - loss: 0.2759 - val_loss: 0.2425\n",
      "Epoch 83/100\n",
      "8994/8994 [==============================] - 13s 1ms/step - loss: 0.2756 - val_loss: 0.2421\n",
      "Epoch 84/100\n",
      "8994/8994 [==============================] - 13s 1ms/step - loss: 0.2754 - val_loss: 0.2422\n",
      "Epoch 85/100\n",
      "8994/8994 [==============================] - 13s 1ms/step - loss: 0.2749 - val_loss: 0.2424\n",
      "Epoch 86/100\n",
      "8994/8994 [==============================] - 13s 1ms/step - loss: 0.2749 - val_loss: 0.2418\n",
      "Epoch 87/100\n",
      "8994/8994 [==============================] - 14s 2ms/step - loss: 0.2749 - val_loss: 0.2426\n",
      "Epoch 88/100\n",
      "8994/8994 [==============================] - 13s 1ms/step - loss: 0.2750 - val_loss: 0.2426\n",
      "Epoch 89/100\n",
      "8994/8994 [==============================] - 13s 1ms/step - loss: 0.2747 - val_loss: 0.2427\n",
      "Epoch 90/100\n",
      "8994/8994 [==============================] - 13s 1ms/step - loss: 0.2751 - val_loss: 0.2430\n",
      "Epoch 91/100\n",
      "8994/8994 [==============================] - 13s 1ms/step - loss: 0.2753 - val_loss: 0.2409\n",
      "Epoch 92/100\n",
      "8994/8994 [==============================] - 13s 1ms/step - loss: 0.2746 - val_loss: 0.2429\n",
      "Epoch 93/100\n",
      "8994/8994 [==============================] - 13s 1ms/step - loss: 0.2745 - val_loss: 0.2429\n",
      "Epoch 94/100\n",
      "8994/8994 [==============================] - 13s 1ms/step - loss: 0.2755 - val_loss: 0.2414\n",
      "Epoch 95/100\n",
      "8994/8994 [==============================] - 13s 1ms/step - loss: 0.2754 - val_loss: 0.2417\n",
      "Epoch 96/100\n",
      "8994/8994 [==============================] - 13s 1ms/step - loss: 0.2752 - val_loss: 0.2427\n",
      "Epoch 97/100\n",
      "8994/8994 [==============================] - 13s 1ms/step - loss: 0.2748 - val_loss: 0.2450\n",
      "Epoch 98/100\n",
      "8994/8994 [==============================] - 13s 1ms/step - loss: 0.2744 - val_loss: 0.2412\n",
      "Epoch 99/100\n",
      "8994/8994 [==============================] - 13s 1ms/step - loss: 0.2741 - val_loss: 0.2414\n",
      "Epoch 100/100\n",
      "8994/8994 [==============================] - 13s 1ms/step - loss: 0.2745 - val_loss: 0.2408\n"
     ]
    },
    {
     "data": {
      "text/plain": [
       "<keras.src.callbacks.History at 0x21f36da8910>"
      ]
     },
     "execution_count": 54,
     "metadata": {},
     "output_type": "execute_result"
    }
   ],
   "source": [
    "model2.fit(x=x_train7, \n",
    "          y=y_train7, \n",
    "          epochs=100,\n",
    "          validation_data=(x_test7, y_test7), verbose=1,\n",
    "          callbacks=[early_stop]\n",
    "          )"
   ]
  },
  {
   "cell_type": "code",
   "execution_count": 55,
   "metadata": {},
   "outputs": [
    {
     "name": "stdout",
     "output_type": "stream",
     "text": [
      "8994/8994 [==============================] - 8s 901us/step\n",
      "2998/2998 [==============================] - 3s 884us/step\n",
      "              precision    recall  f1-score   support\n",
      "\n",
      "           0       0.87      0.92      0.89    129863\n",
      "           1       0.93      0.89      0.91    157923\n",
      "\n",
      "    accuracy                           0.90    287786\n",
      "   macro avg       0.90      0.90      0.90    287786\n",
      "weighted avg       0.90      0.90      0.90    287786\n",
      "\n",
      "              precision    recall  f1-score   support\n",
      "\n",
      "           0       0.87      0.92      0.89     43405\n",
      "           1       0.93      0.89      0.91     52524\n",
      "\n",
      "    accuracy                           0.90     95929\n",
      "   macro avg       0.90      0.90      0.90     95929\n",
      "weighted avg       0.90      0.90      0.90     95929\n",
      "\n"
     ]
    }
   ],
   "source": [
    "ypred_train12 = model2.predict(x_train7)\n",
    "y_pred_test12 = model2.predict(x_test7)\n",
    "\n",
    "y_pred_test12 = (y_pred_test12 > 0.5)\n",
    "ypred_train12 = (ypred_train12 > 0.5)\n",
    "\n",
    "print(classification_report(y_train7,ypred_train12))\n",
    "print(classification_report(y_test7,y_pred_test12))"
   ]
  },
  {
   "cell_type": "code",
   "execution_count": 56,
   "metadata": {},
   "outputs": [
    {
     "name": "stdout",
     "output_type": "stream",
     "text": [
      "2998/2998 [==============================] - 3s 947us/step\n"
     ]
    },
    {
     "data": {
      "image/png": "[encoded data removed]",
      "text/plain": [
       "<Figure size 640x480 with 1 Axes>"
      ]
     },
     "metadata": {},
     "output_type": "display_data"
    }
   ],
   "source": [
    "# cross_val_scores = cross_val_score(model2, x_train7, y_train7, cv=5)\n",
    "# print(\"Cross-Validation Scores for the Best Model:\", cross_val_scores)\n",
    "# print(\"Average Cross-Validation Score:\", cross_val_scores.mean())\n",
    "y_proba_test = model2.predict(x_test7).flatten()\n",
    "\n",
    "fpr, tpr, thresholds = roc_curve(y_test7, y_proba_test)\n",
    "\n",
    "plt.plot(fpr, tpr, label='ROC Curve')\n",
    "plt.xlabel('False Positive Rate')\n",
    "plt.ylabel('True Positive Rate')\n",
    "plt.title('ROC Curve with AUC = {:.2f}'.format(roc_auc_score(y_test7, y_proba_test)))\n",
    "plt.legend(loc='lower right')\n",
    "plt.grid(True)\n",
    "plt.show()"
   ]
  },
  {
   "cell_type": "markdown",
   "metadata": {},
   "source": [
    "## SVC"
   ]
  },
  {
   "cell_type": "code",
   "execution_count": 57,
   "metadata": {},
   "outputs": [],
   "source": [
    "# model3 = SVC(probability=True)"
   ]
  },
  {
   "cell_type": "code",
   "execution_count": 58,
   "metadata": {},
   "outputs": [],
   "source": [
    "# model3.fit(x_train7,y_train7)"
   ]
  },
  {
   "cell_type": "code",
   "execution_count": 59,
   "metadata": {},
   "outputs": [],
   "source": [
    "# ypred_train14 = model3.predict(x_train7)\n",
    "# y_pred_test14 = model3.predict(x_test7)\n",
    "\n",
    "\n",
    "# print(classification_report(y_train7,ypred_train14))\n",
    "# print(classification_report(y_test7,y_pred_test14))"
   ]
  },
  {
   "cell_type": "code",
   "execution_count": 60,
   "metadata": {},
   "outputs": [],
   "source": [
    "# param_grid = {'C': [0.1,1, 10, 100, 1000], 'gamma': [1,0.1,0.01,0.001,0.0001], 'kernel': ['rbf']} "
   ]
  },
  {
   "cell_type": "code",
   "execution_count": 61,
   "metadata": {},
   "outputs": [],
   "source": [
    "# grid = GridSearchCV(SVC(),param_grid,refit=True,verbose=3)"
   ]
  },
  {
   "cell_type": "code",
   "execution_count": 62,
   "metadata": {},
   "outputs": [],
   "source": [
    "# grid.fit(x_train7,y_train7)"
   ]
  },
  {
   "cell_type": "code",
   "execution_count": 63,
   "metadata": {},
   "outputs": [],
   "source": [
    "# grid.best_params_"
   ]
  },
  {
   "cell_type": "code",
   "execution_count": 64,
   "metadata": {},
   "outputs": [],
   "source": [
    "# grid.best_estimator_"
   ]
  },
  {
   "cell_type": "code",
   "execution_count": 65,
   "metadata": {},
   "outputs": [],
   "source": [
    "# ypred_train = grid.predict(x_train7)\n",
    "# y_pred_test = grid.predict(x_test7)\n",
    "\n",
    "\n",
    "# print(classification_report(y_train7,ypred_train))\n",
    "# print(classification_report(y_test7,y_pred_test))"
   ]
  },
  {
   "cell_type": "code",
   "execution_count": 66,
   "metadata": {},
   "outputs": [
    {
     "name": "stdout",
     "output_type": "stream",
     "text": [
      "Training Results\n",
      "\n",
      "              precision    recall  f1-score   support\n",
      "\n",
      "           0       0.97      1.00      0.98    129863\n",
      "           1       1.00      0.97      0.98    157923\n",
      "\n",
      "    accuracy                           0.98    287786\n",
      "   macro avg       0.98      0.98      0.98    287786\n",
      "weighted avg       0.98      0.98      0.98    287786\n",
      "\n",
      "Testing Results\n",
      "\n",
      "              precision    recall  f1-score   support\n",
      "\n",
      "           0       0.94      0.97      0.95     43405\n",
      "           1       0.97      0.95      0.96     52524\n",
      "\n",
      "    accuracy                           0.96     95929\n",
      "   macro avg       0.96      0.96      0.96     95929\n",
      "weighted avg       0.96      0.96      0.96     95929\n",
      "\n"
     ]
    },
    {
     "data": {
      "image/png": "[encoded data removed]",
      "text/plain": [
       "<Figure size 640x480 with 1 Axes>"
      ]
     },
     "metadata": {},
     "output_type": "display_data"
    }
   ],
   "source": [
    "model3 = SVC(C=1000, gamma=1, kernel='rbf', probability=True)\n",
    "model3.fit(x_train7, y_train7)\n",
    "\n",
    "ypred_train14 = model3.predict(x_train7)\n",
    "y_pred_test14 = model3.predict(x_test7)\n",
    "\n",
    "print(\"Training Results\\n\")\n",
    "print(classification_report(y_train7, ypred_train14))\n",
    "print(\"Testing Results\\n\")\n",
    "print(classification_report(y_test7, y_pred_test14))\n",
    "\n",
    "# cross_val_scores = cross_val_score(model3, x_train7, y_train7, cv=5)\n",
    "# print(\"Cross-Validation Scores for the Best Model:\", cross_val_scores)\n",
    "# print(\"Average Cross-Validation Score:\", cross_val_scores.mean())\n",
    "\n",
    "y_proba_test = model3.predict_proba(x_test7)[:, 1]\n",
    "fpr, tpr, thresholds = roc_curve(y_test7, y_proba_test)\n",
    "plt.plot(fpr, tpr, label='ROC Curve')\n",
    "plt.xlabel('False Positive Rate')\n",
    "plt.ylabel('True Positive Rate')\n",
    "plt.title('ROC Curve with AUC = {:.2f}'.format(roc_auc_score(y_test7, y_proba_test)))\n",
    "plt.legend(loc='lower right')\n",
    "plt.grid(True)\n",
    "plt.show()"
   ]
  }
 ],
 "metadata": {
  "kernelspec": {
   "display_name": "Python 3",
   "language": "python",
   "name": "python3"
  },
  "language_info": {
   "codemirror_mode": {
    "name": "ipython",
    "version": 3
   },
   "file_extension": ".py",
   "mimetype": "text/x-python",
   "name": "python",
   "nbconvert_exporter": "python",
   "pygments_lexer": "ipython3",
   "version": "0.0.0"
  }
 },
 "nbformat": 4,
 "nbformat_minor": 2
}
