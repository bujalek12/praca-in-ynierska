{
 "cells": [
  {
   "cell_type": "code",
   "execution_count": 1,
   "metadata": {},
   "outputs": [
    {
     "name": "stdout",
     "output_type": "stream",
     "text": [
      "WARNING:tensorflow:From C:\\Users\\DELL\\AppData\\Roaming\\Python\\Python311\\site-packages\\keras\\src\\losses.py:2976: The name tf.losses.sparse_softmax_cross_entropy is deprecated. Please use tf.compat.v1.losses.sparse_softmax_cross_entropy instead.\n",
      "\n"
     ]
    }
   ],
   "source": [
    "import pandas as pd\n",
    "import numpy as np\n",
    "import matplotlib.pyplot as plt\n",
    "import plotly.express as px\n",
    "from sklearn.preprocessing import LabelEncoder\n",
    "from sklearn.preprocessing import RobustScaler , MinMaxScaler, StandardScaler\n",
    "import seaborn as sns\n",
    "from sklearn.metrics import roc_curve\n",
    "from sklearn.metrics import roc_auc_score\n",
    "import tensorflow as tf\n",
    "from keras.preprocessing.image import ImageDataGenerator\n",
    "from tensorflow.keras.layers import Dropout\n",
    "from tensorflow.keras.models import Sequential\n",
    "from tensorflow.keras.layers import Dense, Activation\n",
    "from tensorflow.keras.callbacks import EarlyStopping\n",
    "from tensorflow.keras.layers import Input,Flatten,Conv1D,MaxPooling1D\n",
    "from sklearn.metrics import classification_report\n",
    "import warnings\n",
    "warnings.filterwarnings('ignore')\n",
    "import missingno as msno\n",
    "from sklearn.model_selection import train_test_split\n",
    "from sklearn.metrics import accuracy_score\n",
    "from sklearn.metrics import mean_absolute_error , mean_absolute_percentage_error , mean_squared_error\n",
    "from sklearn.metrics import r2_score\n",
    "from sklearn.metrics import confusion_matrix\n",
    "from sklearn.model_selection import cross_val_score\n",
    "from sklearn.metrics import RocCurveDisplay\n",
    "from sklearn.model_selection import RepeatedStratifiedKFold\n",
    "from sklearn.metrics import accuracy_score, precision_score, recall_score, f1_score\n",
    "from sklearn.model_selection import GridSearchCV\n",
    "from sklearn.tree import DecisionTreeClassifier\n",
    "from sklearn.ensemble import RandomForestClassifier\n",
    "from sklearn.naive_bayes import GaussianNB\n",
    "from xgboost import XGBClassifier\n",
    "from sklearn.linear_model import LogisticRegression\n",
    "from sklearn.svm import SVC\n",
    "from sklearn.decomposition import PCA\n",
    "from sklearn.ensemble import GradientBoostingClassifier\n",
    "from sklearn.neighbors import KNeighborsClassifier\n",
    "from keras.layers import LSTM\n",
    "from sklearn.preprocessing import MinMaxScaler"
   ]
  },
  {
   "cell_type": "markdown",
   "metadata": {},
   "source": [
    "## Classifier Without Imbalanced Technique"
   ]
  },
  {
   "cell_type": "code",
   "execution_count": 2,
   "metadata": {},
   "outputs": [
    {
     "data": {
      "text/html": [
       "<div>\n",
       "<style scoped>\n",
       "    .dataframe tbody tr th:only-of-type {\n",
       "        vertical-align: middle;\n",
       "    }\n",
       "\n",
       "    .dataframe tbody tr th {\n",
       "        vertical-align: top;\n",
       "    }\n",
       "\n",
       "    .dataframe thead th {\n",
       "        text-align: right;\n",
       "    }\n",
       "</style>\n",
       "<table border=\"1\" class=\"dataframe\">\n",
       "  <thead>\n",
       "    <tr style=\"text-align: right;\">\n",
       "      <th></th>\n",
       "      <th>Sex</th>\n",
       "      <th>GeneralHealth</th>\n",
       "      <th>PhysicalHealthDays</th>\n",
       "      <th>MentalHealthDays</th>\n",
       "      <th>PhysicalActivities</th>\n",
       "      <th>SleepHours</th>\n",
       "      <th>HadHeartAttack</th>\n",
       "      <th>HadAngina</th>\n",
       "      <th>HadStroke</th>\n",
       "      <th>HadAsthma</th>\n",
       "      <th>...</th>\n",
       "      <th>AgeCategory</th>\n",
       "      <th>HeightInMeters</th>\n",
       "      <th>WeightInKilograms</th>\n",
       "      <th>BMI</th>\n",
       "      <th>AlcoholDrinkers</th>\n",
       "      <th>HIVTesting</th>\n",
       "      <th>FluVaxLast12</th>\n",
       "      <th>PneumoVaxEver</th>\n",
       "      <th>HighRiskLastYear</th>\n",
       "      <th>CovidPos</th>\n",
       "    </tr>\n",
       "  </thead>\n",
       "  <tbody>\n",
       "    <tr>\n",
       "      <th>0</th>\n",
       "      <td>0</td>\n",
       "      <td>2</td>\n",
       "      <td>4</td>\n",
       "      <td>0</td>\n",
       "      <td>1</td>\n",
       "      <td>9</td>\n",
       "      <td>0</td>\n",
       "      <td>0</td>\n",
       "      <td>0</td>\n",
       "      <td>0</td>\n",
       "      <td>...</td>\n",
       "      <td>10</td>\n",
       "      <td>1.60</td>\n",
       "      <td>71.67</td>\n",
       "      <td>27.99</td>\n",
       "      <td>0</td>\n",
       "      <td>0</td>\n",
       "      <td>1</td>\n",
       "      <td>1</td>\n",
       "      <td>0</td>\n",
       "      <td>0</td>\n",
       "    </tr>\n",
       "    <tr>\n",
       "      <th>1</th>\n",
       "      <td>1</td>\n",
       "      <td>2</td>\n",
       "      <td>0</td>\n",
       "      <td>0</td>\n",
       "      <td>1</td>\n",
       "      <td>6</td>\n",
       "      <td>0</td>\n",
       "      <td>0</td>\n",
       "      <td>0</td>\n",
       "      <td>0</td>\n",
       "      <td>...</td>\n",
       "      <td>11</td>\n",
       "      <td>1.78</td>\n",
       "      <td>95.25</td>\n",
       "      <td>30.13</td>\n",
       "      <td>0</td>\n",
       "      <td>0</td>\n",
       "      <td>1</td>\n",
       "      <td>1</td>\n",
       "      <td>0</td>\n",
       "      <td>0</td>\n",
       "    </tr>\n",
       "    <tr>\n",
       "      <th>2</th>\n",
       "      <td>1</td>\n",
       "      <td>2</td>\n",
       "      <td>0</td>\n",
       "      <td>0</td>\n",
       "      <td>0</td>\n",
       "      <td>8</td>\n",
       "      <td>0</td>\n",
       "      <td>0</td>\n",
       "      <td>0</td>\n",
       "      <td>0</td>\n",
       "      <td>...</td>\n",
       "      <td>12</td>\n",
       "      <td>1.85</td>\n",
       "      <td>108.86</td>\n",
       "      <td>31.66</td>\n",
       "      <td>1</td>\n",
       "      <td>0</td>\n",
       "      <td>0</td>\n",
       "      <td>1</td>\n",
       "      <td>0</td>\n",
       "      <td>1</td>\n",
       "    </tr>\n",
       "    <tr>\n",
       "      <th>3</th>\n",
       "      <td>0</td>\n",
       "      <td>4</td>\n",
       "      <td>5</td>\n",
       "      <td>0</td>\n",
       "      <td>1</td>\n",
       "      <td>9</td>\n",
       "      <td>0</td>\n",
       "      <td>0</td>\n",
       "      <td>0</td>\n",
       "      <td>0</td>\n",
       "      <td>...</td>\n",
       "      <td>13</td>\n",
       "      <td>1.70</td>\n",
       "      <td>90.72</td>\n",
       "      <td>31.32</td>\n",
       "      <td>0</td>\n",
       "      <td>0</td>\n",
       "      <td>1</td>\n",
       "      <td>1</td>\n",
       "      <td>0</td>\n",
       "      <td>1</td>\n",
       "    </tr>\n",
       "    <tr>\n",
       "      <th>4</th>\n",
       "      <td>0</td>\n",
       "      <td>3</td>\n",
       "      <td>3</td>\n",
       "      <td>15</td>\n",
       "      <td>1</td>\n",
       "      <td>5</td>\n",
       "      <td>0</td>\n",
       "      <td>0</td>\n",
       "      <td>0</td>\n",
       "      <td>0</td>\n",
       "      <td>...</td>\n",
       "      <td>13</td>\n",
       "      <td>1.55</td>\n",
       "      <td>79.38</td>\n",
       "      <td>33.07</td>\n",
       "      <td>0</td>\n",
       "      <td>0</td>\n",
       "      <td>1</td>\n",
       "      <td>1</td>\n",
       "      <td>0</td>\n",
       "      <td>0</td>\n",
       "    </tr>\n",
       "  </tbody>\n",
       "</table>\n",
       "<p>5 rows × 36 columns</p>\n",
       "</div>"
      ],
      "text/plain": [
       "   Sex  GeneralHealth  PhysicalHealthDays  MentalHealthDays  \\\n",
       "0    0              2                   4                 0   \n",
       "1    1              2                   0                 0   \n",
       "2    1              2                   0                 0   \n",
       "3    0              4                   5                 0   \n",
       "4    0              3                   3                15   \n",
       "\n",
       "   PhysicalActivities  SleepHours  HadHeartAttack  HadAngina  HadStroke  \\\n",
       "0                   1           9               0          0          0   \n",
       "1                   1           6               0          0          0   \n",
       "2                   0           8               0          0          0   \n",
       "3                   1           9               0          0          0   \n",
       "4                   1           5               0          0          0   \n",
       "\n",
       "   HadAsthma  ...  AgeCategory  HeightInMeters  WeightInKilograms    BMI  \\\n",
       "0          0  ...           10            1.60              71.67  27.99   \n",
       "1          0  ...           11            1.78              95.25  30.13   \n",
       "2          0  ...           12            1.85             108.86  31.66   \n",
       "3          0  ...           13            1.70              90.72  31.32   \n",
       "4          0  ...           13            1.55              79.38  33.07   \n",
       "\n",
       "   AlcoholDrinkers  HIVTesting  FluVaxLast12  PneumoVaxEver  HighRiskLastYear  \\\n",
       "0                0           0             1              1                 0   \n",
       "1                0           0             1              1                 0   \n",
       "2                1           0             0              1                 0   \n",
       "3                0           0             1              1                 0   \n",
       "4                0           0             1              1                 0   \n",
       "\n",
       "   CovidPos  \n",
       "0         0  \n",
       "1         0  \n",
       "2         1  \n",
       "3         1  \n",
       "4         0  \n",
       "\n",
       "[5 rows x 36 columns]"
      ]
     },
     "execution_count": 2,
     "metadata": {},
     "output_type": "execute_result"
    }
   ],
   "source": [
    "df= pd.read_csv('heart2022python.csv')\n",
    "df.head()"
   ]
  },
  {
   "cell_type": "code",
   "execution_count": 3,
   "metadata": {},
   "outputs": [],
   "source": [
    "df.shape\n",
    "df['HadHeartAttack'].value_counts()\n",
    "df.drop(['SleepHours',\"DeafOrHardOfHearing\",'BlindOrVisionDifficulty',\"DifficultyConcentrating\",\"DifficultyWalking\",'DifficultyDressingBathing',\"DifficultyErrands\",\"ECigaretteUsage\",\"ChestScan\",'HeightInMeters',\"WeightInKilograms\",\"HIVTesting\",'FluVaxLast12',\"PneumoVaxEver\",\"HighRiskLastYear\",\"CovidPos\"],axis=1,inplace=True)\n",
    "\n"
   ]
  },
  {
   "cell_type": "code",
   "execution_count": 4,
   "metadata": {},
   "outputs": [
    {
     "name": "stdout",
     "output_type": "stream",
     "text": [
      "<class 'pandas.core.frame.DataFrame'>\n",
      "RangeIndex: 246022 entries, 0 to 246021\n",
      "Data columns (total 20 columns):\n",
      " #   Column                 Non-Null Count   Dtype  \n",
      "---  ------                 --------------   -----  \n",
      " 0   Sex                    246022 non-null  int64  \n",
      " 1   GeneralHealth          246022 non-null  int64  \n",
      " 2   PhysicalHealthDays     246022 non-null  int64  \n",
      " 3   MentalHealthDays       246022 non-null  int64  \n",
      " 4   PhysicalActivities     246022 non-null  int64  \n",
      " 5   HadHeartAttack         246022 non-null  int64  \n",
      " 6   HadAngina              246022 non-null  int64  \n",
      " 7   HadStroke              246022 non-null  int64  \n",
      " 8   HadAsthma              246022 non-null  int64  \n",
      " 9   HadSkinCancer          246022 non-null  int64  \n",
      " 10  HadCOPD                246022 non-null  int64  \n",
      " 11  HadDepressiveDisorder  246022 non-null  int64  \n",
      " 12  HadKidneyDisease       246022 non-null  int64  \n",
      " 13  HadArthritis           246022 non-null  int64  \n",
      " 14  HadDiabetes            246022 non-null  int64  \n",
      " 15  SmokerStatus           246022 non-null  int64  \n",
      " 16  RaceEthnicityCategory  246022 non-null  int64  \n",
      " 17  AgeCategory            246022 non-null  int64  \n",
      " 18  BMI                    246022 non-null  float64\n",
      " 19  AlcoholDrinkers        246022 non-null  int64  \n",
      "dtypes: float64(1), int64(19)\n",
      "memory usage: 37.5 MB\n"
     ]
    }
   ],
   "source": [
    "df.info()"
   ]
  },
  {
   "cell_type": "code",
   "execution_count": 5,
   "metadata": {},
   "outputs": [],
   "source": [
    "df.duplicated().sum()\n",
    "df.drop_duplicates(inplace=True)"
   ]
  },
  {
   "cell_type": "code",
   "execution_count": 6,
   "metadata": {},
   "outputs": [],
   "source": [
    "x = df.drop([\"HadHeartAttack\"] , axis = 1).values\n",
    "y = df[\"HadHeartAttack\"].values"
   ]
  },
  {
   "cell_type": "code",
   "execution_count": 7,
   "metadata": {},
   "outputs": [
    {
     "name": "stdout",
     "output_type": "stream",
     "text": [
      "173755 173755\n",
      "57919 57919\n"
     ]
    }
   ],
   "source": [
    "x_train , x_test , y_train ,y_test = train_test_split(x,y , test_size= 0.25 , random_state= 42)\n",
    "print(len(x_train), len(y_train))\n",
    "print(len(x_test), len(y_test))"
   ]
  },
  {
   "cell_type": "markdown",
   "metadata": {},
   "source": [
    "## scalar"
   ]
  },
  {
   "cell_type": "code",
   "execution_count": 8,
   "metadata": {},
   "outputs": [
    {
     "name": "stdout",
     "output_type": "stream",
     "text": [
      "173755 173755\n",
      "57919 57919\n"
     ]
    }
   ],
   "source": [
    "from sklearn.preprocessing import MinMaxScaler\n",
    "scaler = MinMaxScaler()\n",
    "x_train = scaler.fit_transform(x_train)\n",
    "x_test = scaler.transform(x_test)\n",
    "print(len(x_train), len(y_train))\n",
    "print(len(x_test), len(y_test))"
   ]
  },
  {
   "cell_type": "markdown",
   "metadata": {},
   "source": [
    "## Randomforest"
   ]
  },
  {
   "cell_type": "code",
   "execution_count": 9,
   "metadata": {},
   "outputs": [
    {
     "name": "stdout",
     "output_type": "stream",
     "text": [
      "Training Results\n",
      "\n",
      "              precision    recall  f1-score   support\n",
      "\n",
      "           0       0.95      1.00      0.97    163707\n",
      "           1       0.82      0.20      0.32     10048\n",
      "\n",
      "    accuracy                           0.95    173755\n",
      "   macro avg       0.89      0.60      0.65    173755\n",
      "weighted avg       0.95      0.95      0.94    173755\n",
      "\n",
      "Test Results\n",
      "\n",
      "              precision    recall  f1-score   support\n",
      "\n",
      "           0       0.95      1.00      0.97     54560\n",
      "           1       0.62      0.13      0.22      3359\n",
      "\n",
      "    accuracy                           0.95     57919\n",
      "   macro avg       0.79      0.56      0.60     57919\n",
      "weighted avg       0.93      0.95      0.93     57919\n",
      "\n",
      "Confusion Matrix:\n",
      " [[54288   272]\n",
      " [ 2910   449]]\n"
     ]
    }
   ],
   "source": [
    "\n",
    "\n",
    "\n",
    "# # Inicjalizacja modelu z domyślnymi parametrami\n",
    "# rf = RandomForestClassifier()\n",
    "\n",
    "# # Określenie siatki parametrów do przetestowania\n",
    "# param_grid = {\n",
    "#     'n_estimators': [100, 200, 300],  # Liczba drzew\n",
    "#     'max_depth': [10, 20, 30],        # Maksymalna głębokość drzewa\n",
    "#     'min_samples_split': [2, 4, 6],   # Minimalna liczba próbek wymagana do podziału węzła\n",
    "#     'min_samples_leaf': [1, 2, 4],    # Minimalna liczba próbek wymagana w liściu\n",
    "#     'max_features': ['auto', 'sqrt']  # Liczba cech do rozważenia przy każdym podziale\n",
    "# }\n",
    "\n",
    "# # Utworzenie obiektu GridSearchCV\n",
    "# cv_rf = GridSearchCV(estimator=rf, param_grid=param_grid, cv=5, scoring='accuracy')\n",
    "\n",
    "# # Przeszukiwanie siatki parametrów\n",
    "# cv_rf.fit(x_train, y_train)\n",
    "\n",
    "# # Najlepszy zestaw parametrów\n",
    "# print(\"Najlepsze parametry: \", cv_rf.best_params_)\n",
    "\n",
    "# # Najlepszy estimator\n",
    "# best_rf = cv_rf.best_estimator_\n",
    "\n",
    "params = {\n",
    "    'n_estimators': 200,  \n",
    "    'max_depth': 10,       \n",
    "    'min_samples_split': 4,   \n",
    "    'min_samples_leaf': 1,    \n",
    "    'max_features': 'sqrt'\n",
    "}\n",
    "\n",
    "gb_clf = RandomForestClassifier(\n",
    "    n_estimators=params['n_estimators'],\n",
    "    max_depth=params['max_depth'],\n",
    "    min_samples_split=params['min_samples_split'],\n",
    "    min_samples_leaf=params['min_samples_leaf'],\n",
    "    max_features=params['max_features']\n",
    ")\n",
    "gb_clf.fit(x_train, y_train)\n",
    "\n",
    "# Predykcje i ocena modelu\n",
    "ypred_train = gb_clf.predict(x_train)\n",
    "ypred_test = gb_clf.predict(x_test)\n",
    "\n",
    "print(\"Training Results\\n\")\n",
    "print(classification_report(y_train, ypred_train))\n",
    "print(\"Test Results\\n\")\n",
    "print(classification_report(y_test, ypred_test))\n",
    "\n",
    "# Macierz pomyłek\n",
    "conf_matrix = confusion_matrix(y_test, ypred_test)\n",
    "print(\"Confusion Matrix:\\n\", conf_matrix)\n",
    "\n",
    "# Ocena modelu za pomocą walidacji krzyżowej\n",
    "# cross_val_scores = cross_val_score(gb_clf, x_train, y_train, cv=5)\n",
    "# print(\"Cross-validation scores:\", cross_val_scores)\n",
    "# print(\"Average cross-validation score:\", np.mean(cross_val_scores))"
   ]
  },
  {
   "cell_type": "code",
   "execution_count": 10,
   "metadata": {},
   "outputs": [
    {
     "data": {
      "image/png": "[encoded data removed]",
      "text/plain": [
       "<Figure size 640x480 with 1 Axes>"
      ]
     },
     "metadata": {},
     "output_type": "display_data"
    }
   ],
   "source": [
    "\n",
    "\n",
    "\n",
    "y_proba_test = gb_clf.predict_proba(x_test)[:, 1]\n",
    "\n",
    "fpr, tpr, thresholds = roc_curve(y_test, y_proba_test)\n",
    "\n",
    "\n",
    "plt.plot(fpr, tpr, label='ROC Curve')\n",
    "plt.xlabel('False Positive Rate')\n",
    "plt.ylabel('True Positive Rate')\n",
    "plt.title('ROC Curve with AUC = {:.2f}'.format(roc_auc_score(y_test, y_proba_test)))\n",
    "plt.legend(loc='lower right')\n",
    "plt.grid(True)\n",
    "plt.show()"
   ]
  },
  {
   "cell_type": "markdown",
   "metadata": {},
   "source": [
    "## DECISION TREE CLASSIFIER"
   ]
  },
  {
   "cell_type": "code",
   "execution_count": 11,
   "metadata": {},
   "outputs": [
    {
     "name": "stdout",
     "output_type": "stream",
     "text": [
      "Training Results\n",
      "\n",
      "              precision    recall  f1-score   support\n",
      "\n",
      "           0       0.96      0.99      0.97    163707\n",
      "           1       0.57      0.25      0.35     10048\n",
      "\n",
      "    accuracy                           0.95    173755\n",
      "   macro avg       0.76      0.62      0.66    173755\n",
      "weighted avg       0.93      0.95      0.94    173755\n",
      "\n",
      "Testing Results\n",
      "\n",
      "              precision    recall  f1-score   support\n",
      "\n",
      "           0       0.96      0.99      0.97     54560\n",
      "           1       0.56      0.25      0.35      3359\n",
      "\n",
      "    accuracy                           0.94     57919\n",
      "   macro avg       0.76      0.62      0.66     57919\n",
      "weighted avg       0.93      0.94      0.94     57919\n",
      "\n"
     ]
    }
   ],
   "source": [
    "\n",
    "\n",
    "# # Parametry do przetestowania w Grid Search\n",
    "# param_grid = {\n",
    "#     'max_depth': [3, 5, 10, None],\n",
    "#     'min_samples_split': [2, 5, 10],\n",
    "#     'min_samples_leaf': [1, 2, 5],\n",
    "#     'criterion': ['gini', 'entropy']\n",
    "# }\n",
    "\n",
    "# # Utworzenie modelu drzewa decyzyjnego\n",
    "# tree = DecisionTreeClassifier()\n",
    "\n",
    "# # Uruchomienie Grid Search z walidacją krzyżową\n",
    "# grid_search = GridSearchCV(tree, param_grid, cv=5, scoring='accuracy')\n",
    "# grid_search.fit(x_train, y_train)\n",
    "\n",
    "# # Wyświetlenie najlepszych parametrów i wyników\n",
    "# print(\"Najlepsze parametry:\", grid_search.best_params_)\n",
    "# print(\"Najlepsza dokładność:\", grid_search.best_score_)\n",
    "\n",
    "# # Utworzenie i ocena modelu z najlepszymi parametrami\n",
    "# best_tree = grid_search.best_estimator_\n",
    "# best_tree.fit(x_train, y_train)\n",
    "\n",
    "params = {\n",
    "    'max_depth': 5,\n",
    "    'min_samples_split': 2,\n",
    "    'min_samples_leaf': 1,\n",
    "    'criterion': 'gini'\n",
    "}\n",
    "\n",
    "best_tree = DecisionTreeClassifier(\n",
    "    max_depth=params['max_depth'],\n",
    "    min_samples_split=params['min_samples_split'],\n",
    "    min_samples_leaf=params['min_samples_leaf'],\n",
    "    criterion=params['criterion']\n",
    ")\n",
    "best_tree.fit(x_train, y_train)\n",
    "\n",
    "ypred_train2 = best_tree.predict(x_train)\n",
    "ypred_test2 = best_tree.predict(x_test)\n",
    "\n",
    "# Ocena modelu na zbiorze testowym\n",
    "\n",
    "print(\"Training Results\\n\")\n",
    "print(classification_report(y_train, ypred_train2))\n",
    "print('Testing Results\\n')\n",
    "print(classification_report(y_test, ypred_test2))\n",
    "\n",
    "# Dodatkowo: Walidacja krzyżowa dla najlepszego modelu na całym zbiorze danych\n",
    "# cross_val_scores = cross_val_score(best_tree, x_train, y_train, cv=5)\n",
    "# print(\"Cross-Validation Scores for the Best Model:\", cross_val_scores)\n",
    "# print(\"Average Cross-Validation Score:\", cross_val_scores.mean())"
   ]
  },
  {
   "cell_type": "code",
   "execution_count": 12,
   "metadata": {},
   "outputs": [
    {
     "data": {
      "image/png": "[encoded data removed]",
      "text/plain": [
       "<Figure size 640x480 with 1 Axes>"
      ]
     },
     "metadata": {},
     "output_type": "display_data"
    }
   ],
   "source": [
    "\n",
    "\n",
    "\n",
    "y_proba_test = best_tree.predict_proba(x_test)[:, 1]\n",
    "\n",
    "\n",
    "fpr, tpr, thresholds = roc_curve(y_test, y_proba_test)\n",
    "\n",
    "\n",
    "plt.plot(fpr, tpr, label='ROC Curve')\n",
    "plt.xlabel('False Positive Rate')\n",
    "plt.ylabel('True Positive Rate')\n",
    "plt.title('ROC Curve with AUC = {:.2f}'.format(roc_auc_score(y_test, y_proba_test)))\n",
    "plt.legend(loc='lower right')\n",
    "plt.grid(True)\n",
    "plt.show()"
   ]
  },
  {
   "cell_type": "markdown",
   "metadata": {},
   "source": [
    "## Naive Bayes"
   ]
  },
  {
   "cell_type": "code",
   "execution_count": 13,
   "metadata": {},
   "outputs": [
    {
     "name": "stdout",
     "output_type": "stream",
     "text": [
      "Naive Bayes Classifier Accuracy:  0.8623077055888396\n"
     ]
    }
   ],
   "source": [
    "Gnb = GaussianNB()\n",
    "Gnb.fit(x_train, y_train)\n",
    "ypred_train3 = Gnb.predict(x_train)\n",
    "y_pred_test3 = Gnb.predict(x_test)\n",
    "\n",
    "print(\"Naive Bayes Classifier Accuracy: \",accuracy_score(y_test, y_pred_test3))"
   ]
  },
  {
   "cell_type": "code",
   "execution_count": 14,
   "metadata": {},
   "outputs": [
    {
     "name": "stdout",
     "output_type": "stream",
     "text": [
      "Training Results\n",
      "\n",
      "              precision    recall  f1-score   support\n",
      "\n",
      "           0       0.98      0.87      0.92    163707\n",
      "           1       0.25      0.67      0.36     10048\n",
      "\n",
      "    accuracy                           0.86    173755\n",
      "   macro avg       0.61      0.77      0.64    173755\n",
      "weighted avg       0.94      0.86      0.89    173755\n",
      "\n"
     ]
    }
   ],
   "source": [
    "print(\"Training Results\\n\")\n",
    "print(classification_report(y_train, ypred_train3))"
   ]
  },
  {
   "cell_type": "code",
   "execution_count": 15,
   "metadata": {},
   "outputs": [
    {
     "name": "stdout",
     "output_type": "stream",
     "text": [
      "Testing Results\n",
      "\n"
     ]
    },
    {
     "name": "stdout",
     "output_type": "stream",
     "text": [
      "              precision    recall  f1-score   support\n",
      "\n",
      "           0       0.98      0.87      0.92     54560\n",
      "           1       0.25      0.68      0.36      3359\n",
      "\n",
      "    accuracy                           0.86     57919\n",
      "   macro avg       0.61      0.78      0.64     57919\n",
      "weighted avg       0.94      0.86      0.89     57919\n",
      "\n"
     ]
    }
   ],
   "source": [
    "print('Testing Results\\n')\n",
    "print(classification_report(y_test, y_pred_test3))"
   ]
  },
  {
   "cell_type": "code",
   "execution_count": 16,
   "metadata": {},
   "outputs": [
    {
     "data": {
      "image/png": "[encoded data removed]",
      "text/plain": [
       "<Figure size 640x480 with 1 Axes>"
      ]
     },
     "metadata": {},
     "output_type": "display_data"
    }
   ],
   "source": [
    "# cross_val_scores = cross_val_score(Gnb, x_train, y_train, cv=5)\n",
    "# print(\"Cross-Validation Scores for the Best Model:\", cross_val_scores)\n",
    "# print(\"Average Cross-Validation Score:\", cross_val_scores.mean())\n",
    "\n",
    "\n",
    "y_proba_test = Gnb.predict_proba(x_test)[:, 1]\n",
    "\n",
    "\n",
    "fpr, tpr, thresholds = roc_curve(y_test, y_proba_test)\n",
    "\n",
    "\n",
    "plt.plot(fpr, tpr, label='ROC Curve')\n",
    "plt.xlabel('False Positive Rate')\n",
    "plt.ylabel('True Positive Rate')\n",
    "plt.title('ROC Curve with AUC = {:.2f}'.format(roc_auc_score(y_test, y_proba_test)))\n",
    "plt.legend(loc='lower right')\n",
    "plt.grid(True)\n",
    "plt.show()"
   ]
  },
  {
   "cell_type": "markdown",
   "metadata": {},
   "source": [
    "## XGBOSST"
   ]
  },
  {
   "cell_type": "code",
   "execution_count": 17,
   "metadata": {},
   "outputs": [
    {
     "name": "stdout",
     "output_type": "stream",
     "text": [
      "Accuracy on Training set:  0.9459871658369543\n",
      "Accuracy on Test set:  0.945820887791571\n",
      "\n",
      "Training Results\n",
      "\n",
      "              precision    recall  f1-score   support\n",
      "\n",
      "           0       0.95      0.99      0.97    163707\n",
      "           1       0.58      0.23      0.33     10048\n",
      "\n",
      "    accuracy                           0.95    173755\n",
      "   macro avg       0.77      0.61      0.65    173755\n",
      "weighted avg       0.93      0.95      0.93    173755\n",
      "\n",
      "Testing Results\n",
      "\n",
      "              precision    recall  f1-score   support\n",
      "\n",
      "           0       0.95      0.99      0.97     54560\n",
      "           1       0.58      0.24      0.34      3359\n",
      "\n",
      "    accuracy                           0.95     57919\n",
      "   macro avg       0.77      0.61      0.66     57919\n",
      "weighted avg       0.93      0.95      0.94     57919\n",
      "\n"
     ]
    },
    {
     "data": {
      "image/png": "[encoded data removed]",
      "text/plain": [
       "<Figure size 640x480 with 1 Axes>"
      ]
     },
     "metadata": {},
     "output_type": "display_data"
    }
   ],
   "source": [
    "\n",
    "\n",
    "\n",
    "# # Inicjalizacja modelu XGBoost\n",
    "# xg = XGBClassifier()\n",
    "\n",
    "# # Definiowanie siatki hiperparametrów do przetestowania\n",
    "# param_grid = {\n",
    "#     'n_estimators': [50, 100, 200],\n",
    "#     'max_depth': [3, 5, 7],\n",
    "#     'learning_rate': [0.01, 0.1, 0.2],\n",
    "#     'subsample': [0.7, 0.8, 0.9],\n",
    "#     'colsample_bytree': [0.7, 0.8, 0.9]\n",
    "# }\n",
    "\n",
    "# # Utworzenie obiektu GridSearchCV\n",
    "# grid_search = GridSearchCV(estimator=xg, param_grid=param_grid, cv=3, scoring='accuracy')\n",
    "\n",
    "# # Przeszukiwanie siatki parametrów\n",
    "# grid_search.fit(x_train, y_train)\n",
    "\n",
    "# # Najlepsze parametry i najlepszy model\n",
    "# print(\"Najlepsze parametry: \", grid_search.best_params_)\n",
    "# best_xg = grid_search.best_estimator_\n",
    "\n",
    "params = {\n",
    "    'n_estimators': 50,\n",
    "    'max_depth': 3,\n",
    "    'learning_rate': 0.2,\n",
    "    'subsample': 0.8,\n",
    "    'colsample_bytree': 0.7\n",
    "}\n",
    "\n",
    "best_xg = XGBClassifier(\n",
    "    n_estimators=params['n_estimators'],\n",
    "    max_depth=params['max_depth'],\n",
    "    learning_rate=params['learning_rate'],\n",
    "    subsample=params['subsample'],\n",
    "    colsample_bytree=params['colsample_bytree']\n",
    ")\n",
    "best_xg.fit(x_train, y_train)\n",
    "\n",
    "# Predykcje na zbiorze treningowym i testowym\n",
    "ypred_train4 = best_xg.predict(x_train)\n",
    "y_pred_test4 = best_xg.predict(x_test)\n",
    "\n",
    "# Ocena modelu\n",
    "print(\"Accuracy on Training set: \", accuracy_score(y_train, ypred_train4))\n",
    "print(\"Accuracy on Test set: \", accuracy_score(y_test, y_pred_test4))\n",
    "print(\"\\nTraining Results\\n\")\n",
    "print(classification_report(y_train, ypred_train4))\n",
    "print('Testing Results\\n')\n",
    "print(classification_report(y_test, y_pred_test4))\n",
    "\n",
    "\n",
    "# cross_val_scores = cross_val_score(best_xg, x_train, y_train, cv=5)\n",
    "# print(\"Cross-Validation Scores for the Best Model:\", cross_val_scores)\n",
    "# print(\"Average Cross-Validation Score:\", cross_val_scores.mean())\n",
    "# Krzywa ROC\n",
    "y_proba_test4 = best_xg.predict_proba(x_test)[:, 1]\n",
    "fpr, tpr, thresholds = roc_curve(y_test, y_proba_test4)\n",
    "plt.plot(fpr, tpr)\n",
    "plt.title(\"ROC Curve with AUC = {:.2f}\".format(roc_auc_score(y_test, y_proba_test4)))\n",
    "plt.show()"
   ]
  },
  {
   "cell_type": "markdown",
   "metadata": {},
   "source": [
    "## logistic regression"
   ]
  },
  {
   "cell_type": "code",
   "execution_count": 18,
   "metadata": {},
   "outputs": [
    {
     "name": "stdout",
     "output_type": "stream",
     "text": [
      "Accuracy on Training set:  0.945141147017352\n",
      "Accuracy on Test set:  0.944612303389216\n",
      "\n",
      "Training Results\n",
      "\n",
      "              precision    recall  f1-score   support\n",
      "\n",
      "           0       0.95      0.99      0.97    163707\n",
      "           1       0.57      0.20      0.29     10048\n",
      "\n",
      "    accuracy                           0.95    173755\n",
      "   macro avg       0.76      0.59      0.63    173755\n",
      "weighted avg       0.93      0.95      0.93    173755\n",
      "\n",
      "Testing Results\n",
      "\n",
      "              precision    recall  f1-score   support\n",
      "\n",
      "           0       0.95      0.99      0.97     54560\n",
      "           1       0.56      0.20      0.29      3359\n",
      "\n",
      "    accuracy                           0.94     57919\n",
      "   macro avg       0.76      0.59      0.63     57919\n",
      "weighted avg       0.93      0.94      0.93     57919\n",
      "\n"
     ]
    },
    {
     "data": {
      "image/png": "[encoded data removed]",
      "text/plain": [
       "<Figure size 640x480 with 1 Axes>"
      ]
     },
     "metadata": {},
     "output_type": "display_data"
    }
   ],
   "source": [
    "\n",
    "\n",
    "\n",
    "\n",
    "# # Inicjalizacja modelu regresji logistycznej\n",
    "# lg = LogisticRegression()\n",
    "\n",
    "# # Definiowanie siatki hiperparametrów do przetestowania\n",
    "# param_grid = {\n",
    "#     'C': [0.01, 0.1, 1, 10, 100],  # Parametr regularyzacji\n",
    "#     'penalty': ['l1', 'l2'],       # Typ regularyzacji\n",
    "#     'solver': ['liblinear']        # Algorytm optymalizacji (liblinear jest dobrym wyborem dla małych zbiorów danych)\n",
    "# }\n",
    "\n",
    "# # Utworzenie obiektu GridSearchCV\n",
    "# grid_search = GridSearchCV(estimator=lg, param_grid=param_grid, cv=5, scoring='accuracy')\n",
    "\n",
    "# # Przeszukiwanie siatki parametrów\n",
    "# grid_search.fit(x_train, y_train)\n",
    "\n",
    "# # Najlepsze parametry i najlepszy model\n",
    "# print(\"Najlepsze parametry: \", grid_search.best_params_)\n",
    "# best_lg = grid_search.best_estimator_\n",
    "\n",
    "params = {\n",
    "    'C': 0.01,\n",
    "    'penalty': 'l2',\n",
    "    'solver': 'liblinear'\n",
    "}\n",
    "\n",
    "best_lg = LogisticRegression(\n",
    "    C=params['C'],\n",
    "    penalty=params['penalty'],\n",
    "    solver=params['solver']\n",
    ")\n",
    "\n",
    "best_lg.fit(x_train, y_train)\n",
    "\n",
    "\n",
    "# Predykcje na zbiorze treningowym i testowym\n",
    "ypred_train4 = best_lg.predict(x_train)\n",
    "y_pred_test4 = best_lg.predict(x_test)\n",
    "# Ocena modelu\n",
    "print(\"Accuracy on Training set: \", accuracy_score(y_train, ypred_train4))\n",
    "print(\"Accuracy on Test set: \", accuracy_score(y_test, y_pred_test4))\n",
    "print(\"\\nTraining Results\\n\")\n",
    "print(classification_report(y_train, ypred_train4))\n",
    "print('Testing Results\\n')\n",
    "print(classification_report(y_test, y_pred_test4))\n",
    "\n",
    "# cross_val_scores = cross_val_score(best_lg, x_train, y_train, cv=5)\n",
    "# print(\"Cross-Validation Scores for the Best Model:\", cross_val_scores)\n",
    "# print(\"Average Cross-Validation Score:\", cross_val_scores.mean())\n",
    "# Krzywa ROC\n",
    "y_proba_test4 = best_lg.predict_proba(x_test)[:, 1]\n",
    "fpr, tpr, thresholds = roc_curve(y_test, y_proba_test4)\n",
    "plt.plot(fpr, tpr)\n",
    "plt.title(\"ROC Curve with AUC = {:.2f}\".format(roc_auc_score(y_test, y_proba_test4)))\n",
    "plt.show()"
   ]
  },
  {
   "cell_type": "markdown",
   "metadata": {},
   "source": [
    "## GradientBoostingClassifier"
   ]
  },
  {
   "cell_type": "code",
   "execution_count": 19,
   "metadata": {},
   "outputs": [
    {
     "name": "stdout",
     "output_type": "stream",
     "text": [
      "Accuracy on Training set:  0.9469367787977324\n",
      "Accuracy on Test set:  0.9458381532830332\n",
      "\n",
      "Training Results\n",
      "\n",
      "              precision    recall  f1-score   support\n",
      "\n",
      "           0       0.95      0.99      0.97    163707\n",
      "           1       0.65      0.18      0.28     10048\n",
      "\n",
      "    accuracy                           0.95    173755\n",
      "   macro avg       0.80      0.59      0.63    173755\n",
      "weighted avg       0.93      0.95      0.93    173755\n",
      "\n",
      "Testing Results\n",
      "\n",
      "              precision    recall  f1-score   support\n",
      "\n",
      "           0       0.95      0.99      0.97     54560\n",
      "           1       0.62      0.17      0.27      3359\n",
      "\n",
      "    accuracy                           0.95     57919\n",
      "   macro avg       0.79      0.58      0.62     57919\n",
      "weighted avg       0.93      0.95      0.93     57919\n",
      "\n"
     ]
    },
    {
     "data": {
      "image/png": "[encoded data removed]",
      "text/plain": [
       "<Figure size 640x480 with 1 Axes>"
      ]
     },
     "metadata": {},
     "output_type": "display_data"
    }
   ],
   "source": [
    "\n",
    "\n",
    "\n",
    "# # Inicjalizacja modelu Gradient Boosting Classifier\n",
    "# gb = GradientBoostingClassifier()\n",
    "\n",
    "# # Definiowanie siatki hiperparametrów do przetestowania\n",
    "# param_grid = {\n",
    "#     'n_estimators': [100, 200, 300],  # Liczba drzew w ensemble\n",
    "#     'learning_rate': [0.01, 0.1, 0.2], # Szybkość uczenia\n",
    "#     'max_depth': [3, 5, 7],            # Maksymalna głębokość drzewa\n",
    "#     'min_samples_split': [2, 4],       # Minimalna liczba próbek wymagana do podziału węzła\n",
    "#     'min_samples_leaf': [1, 2]         # Minimalna liczba próbek w liściu\n",
    "# }\n",
    "\n",
    "# # Utworzenie obiektu GridSearchCV\n",
    "# grid_search = GridSearchCV(estimator=gb, param_grid=param_grid, cv=5, scoring='accuracy')\n",
    "\n",
    "# # Przeszukiwanie siatki parametrów\n",
    "# grid_search.fit(x_train, y_train)\n",
    "\n",
    "# # Najlepsze parametry i najlepszy model\n",
    "# print(\"Najlepsze parametry: \", grid_search.best_params_)\n",
    "# best_gb = grid_search.best_estimator_\n",
    "\n",
    "params = {\n",
    "    'n_estimators': 300,\n",
    "    'learning_rate': 0.01,\n",
    "    'max_depth': 5,\n",
    "    'min_samples_split': 2,\n",
    "    'min_samples_leaf': 2\n",
    "}\n",
    "\n",
    "best_gb = GradientBoostingClassifier(\n",
    "    n_estimators=params['n_estimators'],\n",
    "    learning_rate=params['learning_rate'],\n",
    "    max_depth=params['max_depth'],\n",
    "    min_samples_split=params['min_samples_split'],\n",
    "    min_samples_leaf=params['min_samples_leaf']\n",
    ")\n",
    "best_gb.fit(x_train, y_train)\n",
    "\n",
    "# Predykcje na zbiorze treningowym i testowym\n",
    "ypred_train6 = best_gb.predict(x_train)\n",
    "y_pred_test6 = best_gb.predict(x_test)\n",
    "\n",
    "# Ocena modelu\n",
    "print(\"Accuracy on Training set: \", accuracy_score(y_train, ypred_train6))\n",
    "print(\"Accuracy on Test set: \", accuracy_score(y_test, y_pred_test6))\n",
    "print(\"\\nTraining Results\\n\")\n",
    "print(classification_report(y_train, ypred_train6))\n",
    "print('Testing Results\\n')\n",
    "print(classification_report(y_test, y_pred_test6))\n",
    "\n",
    "\n",
    "# cross_val_scores = cross_val_score(best_gb, x_train, y_train, cv=5)\n",
    "# print(\"Cross-Validation Scores for the Best Model:\", cross_val_scores)\n",
    "# print(\"Average Cross-Validation Score:\", cross_val_scores.mean())\n",
    "\n",
    "# Krzywa ROC\n",
    "y_proba_test6 = best_gb.predict_proba(x_test)[:, 1]\n",
    "fpr, tpr, thresholds = roc_curve(y_test, y_proba_test6)\n",
    "plt.plot(fpr, tpr)\n",
    "plt.title(\"ROC Curve with AUC = {:.2f}\".format(roc_auc_score(y_test, y_proba_test6)))\n",
    "plt.show()"
   ]
  },
  {
   "cell_type": "markdown",
   "metadata": {},
   "source": [
    "## KNN"
   ]
  },
  {
   "cell_type": "code",
   "execution_count": 20,
   "metadata": {},
   "outputs": [
    {
     "data": {
      "text/html": [
       "<style>#sk-container-id-1 {color: black;}#sk-container-id-1 pre{padding: 0;}#sk-container-id-1 div.sk-toggleable {background-color: white;}#sk-container-id-1 label.sk-toggleable__label {cursor: pointer;display: block;width: 100%;margin-bottom: 0;padding: 0.3em;box-sizing: border-box;text-align: center;}#sk-container-id-1 label.sk-toggleable__label-arrow:before {content: \"▸\";float: left;margin-right: 0.25em;color: #696969;}#sk-container-id-1 label.sk-toggleable__label-arrow:hover:before {color: black;}#sk-container-id-1 div.sk-estimator:hover label.sk-toggleable__label-arrow:before {color: black;}#sk-container-id-1 div.sk-toggleable__content {max-height: 0;max-width: 0;overflow: hidden;text-align: left;background-color: #f0f8ff;}#sk-container-id-1 div.sk-toggleable__content pre {margin: 0.2em;color: black;border-radius: 0.25em;background-color: #f0f8ff;}#sk-container-id-1 input.sk-toggleable__control:checked~div.sk-toggleable__content {max-height: 200px;max-width: 100%;overflow: auto;}#sk-container-id-1 input.sk-toggleable__control:checked~label.sk-toggleable__label-arrow:before {content: \"▾\";}#sk-container-id-1 div.sk-estimator input.sk-toggleable__control:checked~label.sk-toggleable__label {background-color: #d4ebff;}#sk-container-id-1 div.sk-label input.sk-toggleable__control:checked~label.sk-toggleable__label {background-color: #d4ebff;}#sk-container-id-1 input.sk-hidden--visually {border: 0;clip: rect(1px 1px 1px 1px);clip: rect(1px, 1px, 1px, 1px);height: 1px;margin: -1px;overflow: hidden;padding: 0;position: absolute;width: 1px;}#sk-container-id-1 div.sk-estimator {font-family: monospace;background-color: #f0f8ff;border: 1px dotted black;border-radius: 0.25em;box-sizing: border-box;margin-bottom: 0.5em;}#sk-container-id-1 div.sk-estimator:hover {background-color: #d4ebff;}#sk-container-id-1 div.sk-parallel-item::after {content: \"\";width: 100%;border-bottom: 1px solid gray;flex-grow: 1;}#sk-container-id-1 div.sk-label:hover label.sk-toggleable__label {background-color: #d4ebff;}#sk-container-id-1 div.sk-serial::before {content: \"\";position: absolute;border-left: 1px solid gray;box-sizing: border-box;top: 0;bottom: 0;left: 50%;z-index: 0;}#sk-container-id-1 div.sk-serial {display: flex;flex-direction: column;align-items: center;background-color: white;padding-right: 0.2em;padding-left: 0.2em;position: relative;}#sk-container-id-1 div.sk-item {position: relative;z-index: 1;}#sk-container-id-1 div.sk-parallel {display: flex;align-items: stretch;justify-content: center;background-color: white;position: relative;}#sk-container-id-1 div.sk-item::before, #sk-container-id-1 div.sk-parallel-item::before {content: \"\";position: absolute;border-left: 1px solid gray;box-sizing: border-box;top: 0;bottom: 0;left: 50%;z-index: -1;}#sk-container-id-1 div.sk-parallel-item {display: flex;flex-direction: column;z-index: 1;position: relative;background-color: white;}#sk-container-id-1 div.sk-parallel-item:first-child::after {align-self: flex-end;width: 50%;}#sk-container-id-1 div.sk-parallel-item:last-child::after {align-self: flex-start;width: 50%;}#sk-container-id-1 div.sk-parallel-item:only-child::after {width: 0;}#sk-container-id-1 div.sk-dashed-wrapped {border: 1px dashed gray;margin: 0 0.4em 0.5em 0.4em;box-sizing: border-box;padding-bottom: 0.4em;background-color: white;}#sk-container-id-1 div.sk-label label {font-family: monospace;font-weight: bold;display: inline-block;line-height: 1.2em;}#sk-container-id-1 div.sk-label-container {text-align: center;}#sk-container-id-1 div.sk-container {/* jupyter's `normalize.less` sets `[hidden] { display: none; }` but bootstrap.min.css set `[hidden] { display: none !important; }` so we also need the `!important` here to be able to override the default hidden behavior on the sphinx rendered scikit-learn.org. See: https://github.com/scikit-learn/scikit-learn/issues/21755 */display: inline-block !important;position: relative;}#sk-container-id-1 div.sk-text-repr-fallback {display: none;}</style><div id=\"sk-container-id-1\" class=\"sk-top-container\"><div class=\"sk-text-repr-fallback\"><pre>KNeighborsClassifier()</pre><b>In a Jupyter environment, please rerun this cell to show the HTML representation or trust the notebook. <br />On GitHub, the HTML representation is unable to render, please try loading this page with nbviewer.org.</b></div><div class=\"sk-container\" hidden><div class=\"sk-item\"><div class=\"sk-estimator sk-toggleable\"><input class=\"sk-toggleable__control sk-hidden--visually\" id=\"sk-estimator-id-1\" type=\"checkbox\" checked><label for=\"sk-estimator-id-1\" class=\"sk-toggleable__label sk-toggleable__label-arrow\">KNeighborsClassifier</label><div class=\"sk-toggleable__content\"><pre>KNeighborsClassifier()</pre></div></div></div></div></div>"
      ],
      "text/plain": [
       "KNeighborsClassifier()"
      ]
     },
     "execution_count": 20,
     "metadata": {},
     "output_type": "execute_result"
    }
   ],
   "source": [
    "knn = KNeighborsClassifier()\n",
    "knn.fit(x_train, y_train)"
   ]
  },
  {
   "cell_type": "code",
   "execution_count": 21,
   "metadata": {},
   "outputs": [],
   "source": [
    "grid_cv = GridSearchCV(KNeighborsClassifier(), \n",
    "                       param_grid={\n",
    "                           \"n_neighbors\": range(1, 50)\n",
    "                       }, cv=5, scoring=\"f1\", \n",
    "                       verbose=1, n_jobs=6)\n"
   ]
  },
  {
   "cell_type": "code",
   "execution_count": 22,
   "metadata": {},
   "outputs": [
    {
     "name": "stdout",
     "output_type": "stream",
     "text": [
      "Fitting 5 folds for each of 49 candidates, totalling 245 fits\n"
     ]
    },
    {
     "data": {
      "text/html": [
       "<style>#sk-container-id-2 {color: black;}#sk-container-id-2 pre{padding: 0;}#sk-container-id-2 div.sk-toggleable {background-color: white;}#sk-container-id-2 label.sk-toggleable__label {cursor: pointer;display: block;width: 100%;margin-bottom: 0;padding: 0.3em;box-sizing: border-box;text-align: center;}#sk-container-id-2 label.sk-toggleable__label-arrow:before {content: \"▸\";float: left;margin-right: 0.25em;color: #696969;}#sk-container-id-2 label.sk-toggleable__label-arrow:hover:before {color: black;}#sk-container-id-2 div.sk-estimator:hover label.sk-toggleable__label-arrow:before {color: black;}#sk-container-id-2 div.sk-toggleable__content {max-height: 0;max-width: 0;overflow: hidden;text-align: left;background-color: #f0f8ff;}#sk-container-id-2 div.sk-toggleable__content pre {margin: 0.2em;color: black;border-radius: 0.25em;background-color: #f0f8ff;}#sk-container-id-2 input.sk-toggleable__control:checked~div.sk-toggleable__content {max-height: 200px;max-width: 100%;overflow: auto;}#sk-container-id-2 input.sk-toggleable__control:checked~label.sk-toggleable__label-arrow:before {content: \"▾\";}#sk-container-id-2 div.sk-estimator input.sk-toggleable__control:checked~label.sk-toggleable__label {background-color: #d4ebff;}#sk-container-id-2 div.sk-label input.sk-toggleable__control:checked~label.sk-toggleable__label {background-color: #d4ebff;}#sk-container-id-2 input.sk-hidden--visually {border: 0;clip: rect(1px 1px 1px 1px);clip: rect(1px, 1px, 1px, 1px);height: 1px;margin: -1px;overflow: hidden;padding: 0;position: absolute;width: 1px;}#sk-container-id-2 div.sk-estimator {font-family: monospace;background-color: #f0f8ff;border: 1px dotted black;border-radius: 0.25em;box-sizing: border-box;margin-bottom: 0.5em;}#sk-container-id-2 div.sk-estimator:hover {background-color: #d4ebff;}#sk-container-id-2 div.sk-parallel-item::after {content: \"\";width: 100%;border-bottom: 1px solid gray;flex-grow: 1;}#sk-container-id-2 div.sk-label:hover label.sk-toggleable__label {background-color: #d4ebff;}#sk-container-id-2 div.sk-serial::before {content: \"\";position: absolute;border-left: 1px solid gray;box-sizing: border-box;top: 0;bottom: 0;left: 50%;z-index: 0;}#sk-container-id-2 div.sk-serial {display: flex;flex-direction: column;align-items: center;background-color: white;padding-right: 0.2em;padding-left: 0.2em;position: relative;}#sk-container-id-2 div.sk-item {position: relative;z-index: 1;}#sk-container-id-2 div.sk-parallel {display: flex;align-items: stretch;justify-content: center;background-color: white;position: relative;}#sk-container-id-2 div.sk-item::before, #sk-container-id-2 div.sk-parallel-item::before {content: \"\";position: absolute;border-left: 1px solid gray;box-sizing: border-box;top: 0;bottom: 0;left: 50%;z-index: -1;}#sk-container-id-2 div.sk-parallel-item {display: flex;flex-direction: column;z-index: 1;position: relative;background-color: white;}#sk-container-id-2 div.sk-parallel-item:first-child::after {align-self: flex-end;width: 50%;}#sk-container-id-2 div.sk-parallel-item:last-child::after {align-self: flex-start;width: 50%;}#sk-container-id-2 div.sk-parallel-item:only-child::after {width: 0;}#sk-container-id-2 div.sk-dashed-wrapped {border: 1px dashed gray;margin: 0 0.4em 0.5em 0.4em;box-sizing: border-box;padding-bottom: 0.4em;background-color: white;}#sk-container-id-2 div.sk-label label {font-family: monospace;font-weight: bold;display: inline-block;line-height: 1.2em;}#sk-container-id-2 div.sk-label-container {text-align: center;}#sk-container-id-2 div.sk-container {/* jupyter's `normalize.less` sets `[hidden] { display: none; }` but bootstrap.min.css set `[hidden] { display: none !important; }` so we also need the `!important` here to be able to override the default hidden behavior on the sphinx rendered scikit-learn.org. See: https://github.com/scikit-learn/scikit-learn/issues/21755 */display: inline-block !important;position: relative;}#sk-container-id-2 div.sk-text-repr-fallback {display: none;}</style><div id=\"sk-container-id-2\" class=\"sk-top-container\"><div class=\"sk-text-repr-fallback\"><pre>GridSearchCV(cv=5, estimator=KNeighborsClassifier(), n_jobs=6,\n",
       "             param_grid={&#x27;n_neighbors&#x27;: range(1, 50)}, scoring=&#x27;f1&#x27;, verbose=1)</pre><b>In a Jupyter environment, please rerun this cell to show the HTML representation or trust the notebook. <br />On GitHub, the HTML representation is unable to render, please try loading this page with nbviewer.org.</b></div><div class=\"sk-container\" hidden><div class=\"sk-item sk-dashed-wrapped\"><div class=\"sk-label-container\"><div class=\"sk-label sk-toggleable\"><input class=\"sk-toggleable__control sk-hidden--visually\" id=\"sk-estimator-id-2\" type=\"checkbox\" ><label for=\"sk-estimator-id-2\" class=\"sk-toggleable__label sk-toggleable__label-arrow\">GridSearchCV</label><div class=\"sk-toggleable__content\"><pre>GridSearchCV(cv=5, estimator=KNeighborsClassifier(), n_jobs=6,\n",
       "             param_grid={&#x27;n_neighbors&#x27;: range(1, 50)}, scoring=&#x27;f1&#x27;, verbose=1)</pre></div></div></div><div class=\"sk-parallel\"><div class=\"sk-parallel-item\"><div class=\"sk-item\"><div class=\"sk-label-container\"><div class=\"sk-label sk-toggleable\"><input class=\"sk-toggleable__control sk-hidden--visually\" id=\"sk-estimator-id-3\" type=\"checkbox\" ><label for=\"sk-estimator-id-3\" class=\"sk-toggleable__label sk-toggleable__label-arrow\">estimator: KNeighborsClassifier</label><div class=\"sk-toggleable__content\"><pre>KNeighborsClassifier()</pre></div></div></div><div class=\"sk-serial\"><div class=\"sk-item\"><div class=\"sk-estimator sk-toggleable\"><input class=\"sk-toggleable__control sk-hidden--visually\" id=\"sk-estimator-id-4\" type=\"checkbox\" ><label for=\"sk-estimator-id-4\" class=\"sk-toggleable__label sk-toggleable__label-arrow\">KNeighborsClassifier</label><div class=\"sk-toggleable__content\"><pre>KNeighborsClassifier()</pre></div></div></div></div></div></div></div></div></div></div>"
      ],
      "text/plain": [
       "GridSearchCV(cv=5, estimator=KNeighborsClassifier(), n_jobs=6,\n",
       "             param_grid={'n_neighbors': range(1, 50)}, scoring='f1', verbose=1)"
      ]
     },
     "execution_count": 22,
     "metadata": {},
     "output_type": "execute_result"
    }
   ],
   "source": [
    "grid_cv.fit(x_train, \n",
    "            y_train)"
   ]
  },
  {
   "cell_type": "code",
   "execution_count": 23,
   "metadata": {},
   "outputs": [
    {
     "data": {
      "text/plain": [
       "0.304975558963513"
      ]
     },
     "execution_count": 23,
     "metadata": {},
     "output_type": "execute_result"
    }
   ],
   "source": [
    "grid_cv.best_score_\n"
   ]
  },
  {
   "cell_type": "code",
   "execution_count": 24,
   "metadata": {},
   "outputs": [
    {
     "data": {
      "text/html": [
       "<style>#sk-container-id-3 {color: black;}#sk-container-id-3 pre{padding: 0;}#sk-container-id-3 div.sk-toggleable {background-color: white;}#sk-container-id-3 label.sk-toggleable__label {cursor: pointer;display: block;width: 100%;margin-bottom: 0;padding: 0.3em;box-sizing: border-box;text-align: center;}#sk-container-id-3 label.sk-toggleable__label-arrow:before {content: \"▸\";float: left;margin-right: 0.25em;color: #696969;}#sk-container-id-3 label.sk-toggleable__label-arrow:hover:before {color: black;}#sk-container-id-3 div.sk-estimator:hover label.sk-toggleable__label-arrow:before {color: black;}#sk-container-id-3 div.sk-toggleable__content {max-height: 0;max-width: 0;overflow: hidden;text-align: left;background-color: #f0f8ff;}#sk-container-id-3 div.sk-toggleable__content pre {margin: 0.2em;color: black;border-radius: 0.25em;background-color: #f0f8ff;}#sk-container-id-3 input.sk-toggleable__control:checked~div.sk-toggleable__content {max-height: 200px;max-width: 100%;overflow: auto;}#sk-container-id-3 input.sk-toggleable__control:checked~label.sk-toggleable__label-arrow:before {content: \"▾\";}#sk-container-id-3 div.sk-estimator input.sk-toggleable__control:checked~label.sk-toggleable__label {background-color: #d4ebff;}#sk-container-id-3 div.sk-label input.sk-toggleable__control:checked~label.sk-toggleable__label {background-color: #d4ebff;}#sk-container-id-3 input.sk-hidden--visually {border: 0;clip: rect(1px 1px 1px 1px);clip: rect(1px, 1px, 1px, 1px);height: 1px;margin: -1px;overflow: hidden;padding: 0;position: absolute;width: 1px;}#sk-container-id-3 div.sk-estimator {font-family: monospace;background-color: #f0f8ff;border: 1px dotted black;border-radius: 0.25em;box-sizing: border-box;margin-bottom: 0.5em;}#sk-container-id-3 div.sk-estimator:hover {background-color: #d4ebff;}#sk-container-id-3 div.sk-parallel-item::after {content: \"\";width: 100%;border-bottom: 1px solid gray;flex-grow: 1;}#sk-container-id-3 div.sk-label:hover label.sk-toggleable__label {background-color: #d4ebff;}#sk-container-id-3 div.sk-serial::before {content: \"\";position: absolute;border-left: 1px solid gray;box-sizing: border-box;top: 0;bottom: 0;left: 50%;z-index: 0;}#sk-container-id-3 div.sk-serial {display: flex;flex-direction: column;align-items: center;background-color: white;padding-right: 0.2em;padding-left: 0.2em;position: relative;}#sk-container-id-3 div.sk-item {position: relative;z-index: 1;}#sk-container-id-3 div.sk-parallel {display: flex;align-items: stretch;justify-content: center;background-color: white;position: relative;}#sk-container-id-3 div.sk-item::before, #sk-container-id-3 div.sk-parallel-item::before {content: \"\";position: absolute;border-left: 1px solid gray;box-sizing: border-box;top: 0;bottom: 0;left: 50%;z-index: -1;}#sk-container-id-3 div.sk-parallel-item {display: flex;flex-direction: column;z-index: 1;position: relative;background-color: white;}#sk-container-id-3 div.sk-parallel-item:first-child::after {align-self: flex-end;width: 50%;}#sk-container-id-3 div.sk-parallel-item:last-child::after {align-self: flex-start;width: 50%;}#sk-container-id-3 div.sk-parallel-item:only-child::after {width: 0;}#sk-container-id-3 div.sk-dashed-wrapped {border: 1px dashed gray;margin: 0 0.4em 0.5em 0.4em;box-sizing: border-box;padding-bottom: 0.4em;background-color: white;}#sk-container-id-3 div.sk-label label {font-family: monospace;font-weight: bold;display: inline-block;line-height: 1.2em;}#sk-container-id-3 div.sk-label-container {text-align: center;}#sk-container-id-3 div.sk-container {/* jupyter's `normalize.less` sets `[hidden] { display: none; }` but bootstrap.min.css set `[hidden] { display: none !important; }` so we also need the `!important` here to be able to override the default hidden behavior on the sphinx rendered scikit-learn.org. See: https://github.com/scikit-learn/scikit-learn/issues/21755 */display: inline-block !important;position: relative;}#sk-container-id-3 div.sk-text-repr-fallback {display: none;}</style><div id=\"sk-container-id-3\" class=\"sk-top-container\"><div class=\"sk-text-repr-fallback\"><pre>KNeighborsClassifier()</pre><b>In a Jupyter environment, please rerun this cell to show the HTML representation or trust the notebook. <br />On GitHub, the HTML representation is unable to render, please try loading this page with nbviewer.org.</b></div><div class=\"sk-container\" hidden><div class=\"sk-item\"><div class=\"sk-estimator sk-toggleable\"><input class=\"sk-toggleable__control sk-hidden--visually\" id=\"sk-estimator-id-5\" type=\"checkbox\" checked><label for=\"sk-estimator-id-5\" class=\"sk-toggleable__label sk-toggleable__label-arrow\">KNeighborsClassifier</label><div class=\"sk-toggleable__content\"><pre>KNeighborsClassifier()</pre></div></div></div></div></div>"
      ],
      "text/plain": [
       "KNeighborsClassifier()"
      ]
     },
     "execution_count": 24,
     "metadata": {},
     "output_type": "execute_result"
    }
   ],
   "source": [
    "knn = grid_cv.best_estimator_\n",
    "knn"
   ]
  },
  {
   "cell_type": "code",
   "execution_count": 25,
   "metadata": {},
   "outputs": [
    {
     "name": "stdout",
     "output_type": "stream",
     "text": [
      "XGBClassifier Accuracy:  0.9410038156736131\n"
     ]
    }
   ],
   "source": [
    "ypred_train = grid_cv.predict(x_train)\n",
    "y_pred_test = grid_cv.predict(x_test)\n",
    "print(\"XGBClassifier Accuracy: \",accuracy_score(y_test, y_pred_test))"
   ]
  },
  {
   "cell_type": "code",
   "execution_count": 26,
   "metadata": {},
   "outputs": [
    {
     "name": "stdout",
     "output_type": "stream",
     "text": [
      "Training Results\n",
      "\n",
      "              precision    recall  f1-score   support\n",
      "\n",
      "           0       0.96      0.99      0.98    163707\n",
      "           1       0.70      0.33      0.45     10048\n",
      "\n",
      "    accuracy                           0.95    173755\n",
      "   macro avg       0.83      0.66      0.71    173755\n",
      "weighted avg       0.95      0.95      0.95    173755\n",
      "\n"
     ]
    }
   ],
   "source": [
    "print(\"Training Results\\n\")\n",
    "print(classification_report(y_train, ypred_train))"
   ]
  },
  {
   "cell_type": "code",
   "execution_count": 27,
   "metadata": {},
   "outputs": [
    {
     "name": "stdout",
     "output_type": "stream",
     "text": [
      "Testing Results\n",
      "\n",
      "              precision    recall  f1-score   support\n",
      "\n",
      "           0       0.95      0.99      0.97     54560\n",
      "           1       0.48      0.22      0.30      3359\n",
      "\n",
      "    accuracy                           0.94     57919\n",
      "   macro avg       0.72      0.60      0.64     57919\n",
      "weighted avg       0.93      0.94      0.93     57919\n",
      "\n"
     ]
    }
   ],
   "source": [
    "print('Testing Results\\n')\n",
    "print(classification_report(y_test, y_pred_test))"
   ]
  },
  {
   "cell_type": "code",
   "execution_count": 28,
   "metadata": {},
   "outputs": [
    {
     "data": {
      "image/png": "[encoded data removed]",
      "text/plain": [
       "<Figure size 640x480 with 1 Axes>"
      ]
     },
     "metadata": {},
     "output_type": "display_data"
    }
   ],
   "source": [
    "\n",
    "# cross_val_scores = cross_val_score(grid_cv, x_train, y_train, cv=5)\n",
    "# print(\"Cross-Validation Scores for the Best Model:\", cross_val_scores)\n",
    "# print(\"Average Cross-Validation Score:\", cross_val_scores.mean())\n",
    "\n",
    "y_proba_test = grid_cv.predict_proba(x_test)[:, 1]\n",
    "\n",
    "\n",
    "fpr, tpr, thresholds = roc_curve(y_test, y_proba_test)\n",
    "\n",
    "\n",
    "plt.plot(fpr, tpr, label='ROC Curve')\n",
    "plt.xlabel('False Positive Rate')\n",
    "plt.ylabel('True Positive Rate')\n",
    "plt.title('ROC Curve with AUC = {:.2f}'.format(roc_auc_score(y_test, y_proba_test)))\n",
    "plt.legend(loc='lower right')\n",
    "plt.grid(True)\n",
    "plt.show()"
   ]
  },
  {
   "cell_type": "markdown",
   "metadata": {},
   "source": [
    "## SIECI NEURONOWE"
   ]
  },
  {
   "cell_type": "markdown",
   "metadata": {},
   "source": [
    "## ANN"
   ]
  },
  {
   "cell_type": "code",
   "execution_count": 29,
   "metadata": {},
   "outputs": [
    {
     "name": "stdout",
     "output_type": "stream",
     "text": [
      "WARNING:tensorflow:From C:\\Users\\DELL\\AppData\\Roaming\\Python\\Python311\\site-packages\\keras\\src\\backend.py:873: The name tf.get_default_graph is deprecated. Please use tf.compat.v1.get_default_graph instead.\n",
      "\n"
     ]
    }
   ],
   "source": [
    "ann = tf.keras.models.Sequential()"
   ]
  },
  {
   "cell_type": "code",
   "execution_count": 30,
   "metadata": {},
   "outputs": [],
   "source": [
    "early_stop = EarlyStopping(monitor='val_loss', mode='min', verbose=1, patience=25)\n"
   ]
  },
  {
   "cell_type": "code",
   "execution_count": 31,
   "metadata": {},
   "outputs": [],
   "source": [
    "ann.add(tf.keras.layers.Dense(units=20, activation='relu'))"
   ]
  },
  {
   "cell_type": "code",
   "execution_count": 32,
   "metadata": {},
   "outputs": [],
   "source": [
    "ann.add(tf.keras.layers.Dense(units=6, activation='relu'))"
   ]
  },
  {
   "cell_type": "code",
   "execution_count": 33,
   "metadata": {},
   "outputs": [],
   "source": [
    "ann.add(tf.keras.layers.Dense(units=1, activation='sigmoid'))"
   ]
  },
  {
   "cell_type": "code",
   "execution_count": 34,
   "metadata": {},
   "outputs": [
    {
     "name": "stdout",
     "output_type": "stream",
     "text": [
      "WARNING:tensorflow:From C:\\Users\\DELL\\AppData\\Roaming\\Python\\Python311\\site-packages\\keras\\src\\optimizers\\__init__.py:309: The name tf.train.Optimizer is deprecated. Please use tf.compat.v1.train.Optimizer instead.\n",
      "\n"
     ]
    }
   ],
   "source": [
    "ann.compile(optimizer = 'adam', loss = 'binary_crossentropy', metrics = ['accuracy'])"
   ]
  },
  {
   "cell_type": "code",
   "execution_count": 35,
   "metadata": {},
   "outputs": [
    {
     "name": "stdout",
     "output_type": "stream",
     "text": [
      "Epoch 1/100\n",
      "WARNING:tensorflow:From C:\\Users\\DELL\\AppData\\Roaming\\Python\\Python311\\site-packages\\keras\\src\\utils\\tf_utils.py:492: The name tf.ragged.RaggedTensorValue is deprecated. Please use tf.compat.v1.ragged.RaggedTensorValue instead.\n",
      "\n",
      "WARNING:tensorflow:From C:\\Users\\DELL\\AppData\\Roaming\\Python\\Python311\\site-packages\\keras\\src\\engine\\base_layer_utils.py:384: The name tf.executing_eagerly_outside_functions is deprecated. Please use tf.compat.v1.executing_eagerly_outside_functions instead.\n",
      "\n",
      "5430/5430 [==============================] - 13s 2ms/step - loss: 0.1684 - accuracy: 0.9400 - val_loss: 0.1563 - val_accuracy: 0.9420\n",
      "Epoch 2/100\n",
      "5430/5430 [==============================] - 10s 2ms/step - loss: 0.1552 - accuracy: 0.9444 - val_loss: 0.1547 - val_accuracy: 0.9447\n",
      "Epoch 3/100\n",
      "5430/5430 [==============================] - 9s 2ms/step - loss: 0.1544 - accuracy: 0.9455 - val_loss: 0.1541 - val_accuracy: 0.9458\n",
      "Epoch 4/100\n",
      "5430/5430 [==============================] - 10s 2ms/step - loss: 0.1541 - accuracy: 0.9453 - val_loss: 0.1538 - val_accuracy: 0.9458\n",
      "Epoch 5/100\n",
      "5430/5430 [==============================] - 10s 2ms/step - loss: 0.1539 - accuracy: 0.9455 - val_loss: 0.1544 - val_accuracy: 0.9453\n",
      "Epoch 6/100\n",
      "5430/5430 [==============================] - 11s 2ms/step - loss: 0.1537 - accuracy: 0.9458 - val_loss: 0.1536 - val_accuracy: 0.9458\n",
      "Epoch 7/100\n",
      "5430/5430 [==============================] - 11s 2ms/step - loss: 0.1536 - accuracy: 0.9456 - val_loss: 0.1535 - val_accuracy: 0.9460\n",
      "Epoch 8/100\n",
      "5430/5430 [==============================] - 11s 2ms/step - loss: 0.1534 - accuracy: 0.9458 - val_loss: 0.1534 - val_accuracy: 0.9461\n",
      "Epoch 9/100\n",
      "5430/5430 [==============================] - 11s 2ms/step - loss: 0.1534 - accuracy: 0.9458 - val_loss: 0.1537 - val_accuracy: 0.9454\n",
      "Epoch 10/100\n",
      "5430/5430 [==============================] - 11s 2ms/step - loss: 0.1533 - accuracy: 0.9460 - val_loss: 0.1537 - val_accuracy: 0.9453\n",
      "Epoch 11/100\n",
      "5430/5430 [==============================] - 11s 2ms/step - loss: 0.1533 - accuracy: 0.9460 - val_loss: 0.1532 - val_accuracy: 0.9458\n",
      "Epoch 12/100\n",
      "5430/5430 [==============================] - 11s 2ms/step - loss: 0.1532 - accuracy: 0.9459 - val_loss: 0.1538 - val_accuracy: 0.9459\n",
      "Epoch 13/100\n",
      "5430/5430 [==============================] - 11s 2ms/step - loss: 0.1531 - accuracy: 0.9460 - val_loss: 0.1532 - val_accuracy: 0.9459\n",
      "Epoch 14/100\n",
      "5430/5430 [==============================] - 11s 2ms/step - loss: 0.1531 - accuracy: 0.9458 - val_loss: 0.1531 - val_accuracy: 0.9458\n",
      "Epoch 15/100\n",
      "5430/5430 [==============================] - 11s 2ms/step - loss: 0.1530 - accuracy: 0.9460 - val_loss: 0.1539 - val_accuracy: 0.9456\n",
      "Epoch 16/100\n",
      "5430/5430 [==============================] - 11s 2ms/step - loss: 0.1529 - accuracy: 0.9460 - val_loss: 0.1552 - val_accuracy: 0.9457\n",
      "Epoch 17/100\n",
      "5430/5430 [==============================] - 11s 2ms/step - loss: 0.1529 - accuracy: 0.9460 - val_loss: 0.1533 - val_accuracy: 0.9460\n",
      "Epoch 18/100\n",
      "5430/5430 [==============================] - 11s 2ms/step - loss: 0.1529 - accuracy: 0.9462 - val_loss: 0.1537 - val_accuracy: 0.9458\n",
      "Epoch 19/100\n",
      "5430/5430 [==============================] - 11s 2ms/step - loss: 0.1528 - accuracy: 0.9458 - val_loss: 0.1533 - val_accuracy: 0.9455\n",
      "Epoch 20/100\n",
      "5430/5430 [==============================] - 11s 2ms/step - loss: 0.1528 - accuracy: 0.9460 - val_loss: 0.1535 - val_accuracy: 0.9458\n",
      "Epoch 21/100\n",
      "5430/5430 [==============================] - 11s 2ms/step - loss: 0.1528 - accuracy: 0.9461 - val_loss: 0.1539 - val_accuracy: 0.9459\n",
      "Epoch 22/100\n",
      "5430/5430 [==============================] - 11s 2ms/step - loss: 0.1528 - accuracy: 0.9460 - val_loss: 0.1538 - val_accuracy: 0.9459\n",
      "Epoch 23/100\n",
      "5430/5430 [==============================] - 11s 2ms/step - loss: 0.1527 - accuracy: 0.9462 - val_loss: 0.1542 - val_accuracy: 0.9455\n",
      "Epoch 24/100\n",
      "5430/5430 [==============================] - 11s 2ms/step - loss: 0.1527 - accuracy: 0.9460 - val_loss: 0.1533 - val_accuracy: 0.9462\n",
      "Epoch 25/100\n",
      "5430/5430 [==============================] - 11s 2ms/step - loss: 0.1527 - accuracy: 0.9462 - val_loss: 0.1534 - val_accuracy: 0.9456\n",
      "Epoch 26/100\n",
      "5430/5430 [==============================] - 12s 2ms/step - loss: 0.1526 - accuracy: 0.9462 - val_loss: 0.1535 - val_accuracy: 0.9456\n",
      "Epoch 27/100\n",
      "5430/5430 [==============================] - 12s 2ms/step - loss: 0.1527 - accuracy: 0.9462 - val_loss: 0.1535 - val_accuracy: 0.9459\n",
      "Epoch 28/100\n",
      "5430/5430 [==============================] - 11s 2ms/step - loss: 0.1526 - accuracy: 0.9461 - val_loss: 0.1536 - val_accuracy: 0.9457\n",
      "Epoch 29/100\n",
      "5430/5430 [==============================] - 9s 2ms/step - loss: 0.1526 - accuracy: 0.9461 - val_loss: 0.1537 - val_accuracy: 0.9456\n",
      "Epoch 30/100\n",
      "5430/5430 [==============================] - 10s 2ms/step - loss: 0.1525 - accuracy: 0.9461 - val_loss: 0.1533 - val_accuracy: 0.9457\n",
      "Epoch 31/100\n",
      "5430/5430 [==============================] - 11s 2ms/step - loss: 0.1526 - accuracy: 0.9462 - val_loss: 0.1533 - val_accuracy: 0.9458\n",
      "Epoch 32/100\n",
      "5430/5430 [==============================] - 11s 2ms/step - loss: 0.1525 - accuracy: 0.9462 - val_loss: 0.1534 - val_accuracy: 0.9456\n",
      "Epoch 33/100\n",
      "5430/5430 [==============================] - 10s 2ms/step - loss: 0.1524 - accuracy: 0.9464 - val_loss: 0.1535 - val_accuracy: 0.9458\n",
      "Epoch 34/100\n",
      "5430/5430 [==============================] - 9s 2ms/step - loss: 0.1525 - accuracy: 0.9463 - val_loss: 0.1534 - val_accuracy: 0.9458\n",
      "Epoch 35/100\n",
      "5430/5430 [==============================] - 10s 2ms/step - loss: 0.1523 - accuracy: 0.9463 - val_loss: 0.1541 - val_accuracy: 0.9456\n",
      "Epoch 36/100\n",
      "5430/5430 [==============================] - 10s 2ms/step - loss: 0.1524 - accuracy: 0.9461 - val_loss: 0.1535 - val_accuracy: 0.9455\n",
      "Epoch 37/100\n",
      "5430/5430 [==============================] - 10s 2ms/step - loss: 0.1523 - accuracy: 0.9462 - val_loss: 0.1536 - val_accuracy: 0.9458\n",
      "Epoch 38/100\n",
      "5430/5430 [==============================] - 9s 2ms/step - loss: 0.1523 - accuracy: 0.9464 - val_loss: 0.1533 - val_accuracy: 0.9455\n",
      "Epoch 39/100\n",
      "5430/5430 [==============================] - 9s 2ms/step - loss: 0.1523 - accuracy: 0.9461 - val_loss: 0.1537 - val_accuracy: 0.9458\n",
      "Epoch 39: early stopping\n"
     ]
    },
    {
     "data": {
      "text/plain": [
       "<keras.src.callbacks.History at 0x1addcef22d0>"
      ]
     },
     "execution_count": 35,
     "metadata": {},
     "output_type": "execute_result"
    }
   ],
   "source": [
    "ann.fit(x_train, y_train, batch_size = 32, epochs=100,\n",
    "          validation_data=(x_test, y_test), verbose=1,\n",
    "          callbacks=[early_stop])"
   ]
  },
  {
   "cell_type": "code",
   "execution_count": 36,
   "metadata": {},
   "outputs": [
    {
     "name": "stdout",
     "output_type": "stream",
     "text": [
      "5430/5430 [==============================] - 6s 1ms/step\n",
      "1810/1810 [==============================] - 2s 1ms/step\n",
      "[[0 0]\n",
      " [0 0]\n",
      " [0 0]\n",
      " ...\n",
      " [0 0]\n",
      " [0 0]\n",
      " [0 0]]\n"
     ]
    }
   ],
   "source": [
    "ypred_train6 = ann.predict(x_train)\n",
    "y_pred_test6 = ann.predict(x_test)\n",
    "\n",
    "y_pred_test6 = (y_pred_test6 > 0.5)\n",
    "ypred_train6 = (ypred_train6 > 0.5)\n",
    "print(np.concatenate((y_pred_test6.reshape(len(y_pred_test6),1), y_test.reshape(len(y_test),1)),1))"
   ]
  },
  {
   "cell_type": "code",
   "execution_count": 37,
   "metadata": {},
   "outputs": [
    {
     "data": {
      "text/plain": [
       "0.9458381532830332"
      ]
     },
     "execution_count": 37,
     "metadata": {},
     "output_type": "execute_result"
    }
   ],
   "source": [
    "accuracy_score(y_test, y_pred_test6)"
   ]
  },
  {
   "cell_type": "code",
   "execution_count": 38,
   "metadata": {},
   "outputs": [
    {
     "name": "stdout",
     "output_type": "stream",
     "text": [
      "Training Results\n",
      "\n",
      "              precision    recall  f1-score   support\n",
      "\n",
      "           0       0.95      0.99      0.97    163707\n",
      "           1       0.61      0.20      0.30     10048\n",
      "\n",
      "    accuracy                           0.95    173755\n",
      "   macro avg       0.78      0.60      0.64    173755\n",
      "weighted avg       0.93      0.95      0.93    173755\n",
      "\n"
     ]
    }
   ],
   "source": [
    "print(\"Training Results\\n\")\n",
    "print(classification_report(y_train, ypred_train6))"
   ]
  },
  {
   "cell_type": "code",
   "execution_count": 39,
   "metadata": {},
   "outputs": [
    {
     "name": "stdout",
     "output_type": "stream",
     "text": [
      "Testing Results\n",
      "\n"
     ]
    },
    {
     "name": "stdout",
     "output_type": "stream",
     "text": [
      "              precision    recall  f1-score   support\n",
      "\n",
      "           0       0.95      0.99      0.97     54560\n",
      "           1       0.60      0.20      0.30      3359\n",
      "\n",
      "    accuracy                           0.95     57919\n",
      "   macro avg       0.78      0.60      0.64     57919\n",
      "weighted avg       0.93      0.95      0.93     57919\n",
      "\n"
     ]
    }
   ],
   "source": [
    "print('Testing Results\\n')\n",
    "print(classification_report(y_test, y_pred_test6))"
   ]
  },
  {
   "cell_type": "code",
   "execution_count": 40,
   "metadata": {},
   "outputs": [
    {
     "name": "stdout",
     "output_type": "stream",
     "text": [
      "1810/1810 [==============================] - 2s 1ms/step\n"
     ]
    },
    {
     "data": {
      "image/png": "[encoded data removed]",
      "text/plain": [
       "<Figure size 640x480 with 1 Axes>"
      ]
     },
     "metadata": {},
     "output_type": "display_data"
    }
   ],
   "source": [
    "# cross_val_scores = cross_val_score(ann, x_train, y_train, cv=5)\n",
    "# print(\"Cross-Validation Scores for the Best Model:\", cross_val_scores)\n",
    "# print(\"Average Cross-Validation Score:\", cross_val_scores.mean())\n",
    "\n",
    "y_proba_test = ann.predict(x_test).flatten()\n",
    "\n",
    "\n",
    "fpr, tpr, thresholds = roc_curve(y_test, y_proba_test)\n",
    "\n",
    "\n",
    "plt.plot(fpr, tpr, label='ROC Curve')\n",
    "plt.xlabel('False Positive Rate')\n",
    "plt.ylabel('True Positive Rate')\n",
    "plt.title('ROC Curve with AUC = {:.2f}'.format(roc_auc_score(y_test, y_proba_test)))\n",
    "plt.legend(loc='lower right')\n",
    "plt.grid(True)\n",
    "plt.show()"
   ]
  },
  {
   "cell_type": "markdown",
   "metadata": {},
   "source": [
    "## inne próby sieci neuronowych "
   ]
  },
  {
   "cell_type": "code",
   "execution_count": 41,
   "metadata": {},
   "outputs": [
    {
     "name": "stderr",
     "output_type": "stream",
     "text": [
      "WARNING:absl:`lr` is deprecated in Keras optimizer, please use `learning_rate` or use the legacy optimizer, e.g.,tf.keras.optimizers.legacy.Adam.\n"
     ]
    },
    {
     "name": "stdout",
     "output_type": "stream",
     "text": [
      "Epoch 1/100\n",
      "5430/5430 [==============================] - 8s 1ms/step - loss: 0.1702 - accuracy: 0.9411\n",
      "Epoch 2/100\n",
      "5430/5430 [==============================] - 6s 1ms/step - loss: 0.1552 - accuracy: 0.9452\n",
      "Epoch 3/100\n",
      "5430/5430 [==============================] - 6s 1ms/step - loss: 0.1544 - accuracy: 0.9456\n",
      "Epoch 4/100\n",
      "5430/5430 [==============================] - 6s 1ms/step - loss: 0.1542 - accuracy: 0.9456\n",
      "Epoch 5/100\n",
      "5430/5430 [==============================] - 6s 1ms/step - loss: 0.1538 - accuracy: 0.9458\n",
      "Epoch 6/100\n",
      "5430/5430 [==============================] - 6s 1ms/step - loss: 0.1536 - accuracy: 0.9459\n",
      "Epoch 7/100\n",
      "5430/5430 [==============================] - 6s 1ms/step - loss: 0.1536 - accuracy: 0.9459\n",
      "Epoch 8/100\n",
      "5430/5430 [==============================] - 6s 1ms/step - loss: 0.1535 - accuracy: 0.9457\n",
      "Epoch 9/100\n",
      "5430/5430 [==============================] - 6s 1ms/step - loss: 0.1533 - accuracy: 0.9458\n",
      "Epoch 10/100\n",
      "5430/5430 [==============================] - 6s 1ms/step - loss: 0.1533 - accuracy: 0.9456\n",
      "Epoch 11/100\n",
      "5430/5430 [==============================] - 6s 1ms/step - loss: 0.1533 - accuracy: 0.9458\n",
      "Epoch 12/100\n",
      "5430/5430 [==============================] - 6s 1ms/step - loss: 0.1532 - accuracy: 0.9458\n",
      "Epoch 13/100\n",
      "5430/5430 [==============================] - 6s 1ms/step - loss: 0.1531 - accuracy: 0.9458\n",
      "Epoch 14/100\n",
      "5430/5430 [==============================] - 6s 1ms/step - loss: 0.1530 - accuracy: 0.9459\n",
      "Epoch 15/100\n",
      "5430/5430 [==============================] - 6s 1ms/step - loss: 0.1530 - accuracy: 0.9459\n",
      "Epoch 16/100\n",
      "5430/5430 [==============================] - 6s 1ms/step - loss: 0.1530 - accuracy: 0.9460\n",
      "Epoch 17/100\n",
      "5430/5430 [==============================] - 6s 1ms/step - loss: 0.1530 - accuracy: 0.9461\n",
      "Epoch 18/100\n",
      "5430/5430 [==============================] - 6s 1ms/step - loss: 0.1529 - accuracy: 0.9460\n",
      "Epoch 19/100\n",
      "5430/5430 [==============================] - 6s 1ms/step - loss: 0.1529 - accuracy: 0.9458\n",
      "Epoch 20/100\n",
      "5430/5430 [==============================] - 6s 1ms/step - loss: 0.1528 - accuracy: 0.9460\n",
      "Epoch 21/100\n",
      "5430/5430 [==============================] - 6s 1ms/step - loss: 0.1528 - accuracy: 0.9460\n",
      "Epoch 22/100\n",
      "5430/5430 [==============================] - 6s 1ms/step - loss: 0.1527 - accuracy: 0.9459\n",
      "Epoch 23/100\n",
      "5430/5430 [==============================] - 6s 1ms/step - loss: 0.1526 - accuracy: 0.9461\n",
      "Epoch 24/100\n",
      "5430/5430 [==============================] - 6s 1ms/step - loss: 0.1527 - accuracy: 0.9462\n",
      "Epoch 25/100\n",
      "5430/5430 [==============================] - 6s 1ms/step - loss: 0.1526 - accuracy: 0.9461\n",
      "Epoch 26/100\n",
      "5430/5430 [==============================] - 6s 1ms/step - loss: 0.1525 - accuracy: 0.9460\n",
      "Epoch 27/100\n",
      "5430/5430 [==============================] - 6s 1ms/step - loss: 0.1525 - accuracy: 0.9460\n",
      "Epoch 28/100\n",
      "5430/5430 [==============================] - 6s 1ms/step - loss: 0.1525 - accuracy: 0.9461\n",
      "Epoch 29/100\n",
      "5430/5430 [==============================] - 6s 1ms/step - loss: 0.1524 - accuracy: 0.9461\n",
      "Epoch 30/100\n",
      "5430/5430 [==============================] - 6s 1ms/step - loss: 0.1525 - accuracy: 0.9461\n",
      "Epoch 31/100\n",
      "5430/5430 [==============================] - 6s 1ms/step - loss: 0.1525 - accuracy: 0.9460\n",
      "Epoch 32/100\n",
      "5430/5430 [==============================] - 6s 1ms/step - loss: 0.1524 - accuracy: 0.9464\n",
      "Epoch 33/100\n",
      "5430/5430 [==============================] - 6s 1ms/step - loss: 0.1523 - accuracy: 0.9461\n",
      "Epoch 34/100\n",
      "5430/5430 [==============================] - 6s 1ms/step - loss: 0.1524 - accuracy: 0.9462\n",
      "Epoch 35/100\n",
      "5430/5430 [==============================] - 6s 1ms/step - loss: 0.1523 - accuracy: 0.9462\n",
      "Epoch 36/100\n",
      "5430/5430 [==============================] - 6s 1ms/step - loss: 0.1523 - accuracy: 0.9461\n",
      "Epoch 37/100\n",
      "5430/5430 [==============================] - 6s 1ms/step - loss: 0.1523 - accuracy: 0.9461\n",
      "Epoch 38/100\n",
      "5430/5430 [==============================] - 6s 1ms/step - loss: 0.1523 - accuracy: 0.9459\n",
      "Epoch 39/100\n",
      "5430/5430 [==============================] - 6s 1ms/step - loss: 0.1522 - accuracy: 0.9462\n",
      "Epoch 40/100\n",
      "5430/5430 [==============================] - 6s 1ms/step - loss: 0.1522 - accuracy: 0.9463\n",
      "Epoch 41/100\n",
      "5430/5430 [==============================] - 6s 1ms/step - loss: 0.1522 - accuracy: 0.9463\n",
      "Epoch 42/100\n",
      "5430/5430 [==============================] - 6s 1ms/step - loss: 0.1522 - accuracy: 0.9458\n",
      "Epoch 43/100\n",
      "5430/5430 [==============================] - 6s 1ms/step - loss: 0.1521 - accuracy: 0.9463\n",
      "Epoch 44/100\n",
      "5430/5430 [==============================] - 6s 1ms/step - loss: 0.1522 - accuracy: 0.9462\n",
      "Epoch 45/100\n",
      "5430/5430 [==============================] - 6s 1ms/step - loss: 0.1521 - accuracy: 0.9463\n",
      "Epoch 46/100\n",
      "5430/5430 [==============================] - 6s 1ms/step - loss: 0.1521 - accuracy: 0.9462\n",
      "Epoch 47/100\n",
      "5430/5430 [==============================] - 6s 1ms/step - loss: 0.1521 - accuracy: 0.9463\n",
      "Epoch 48/100\n",
      "5430/5430 [==============================] - 6s 1ms/step - loss: 0.1520 - accuracy: 0.9460\n",
      "Epoch 49/100\n",
      "5430/5430 [==============================] - 6s 1ms/step - loss: 0.1520 - accuracy: 0.9462\n",
      "Epoch 50/100\n",
      "5430/5430 [==============================] - 6s 1ms/step - loss: 0.1519 - accuracy: 0.9466\n",
      "Epoch 51/100\n",
      "5430/5430 [==============================] - 7s 1ms/step - loss: 0.1519 - accuracy: 0.9461\n",
      "Epoch 52/100\n",
      "5430/5430 [==============================] - 6s 1ms/step - loss: 0.1519 - accuracy: 0.9464\n",
      "Epoch 53/100\n",
      "5430/5430 [==============================] - 6s 1ms/step - loss: 0.1519 - accuracy: 0.9462\n",
      "Epoch 54/100\n",
      "5430/5430 [==============================] - 6s 1ms/step - loss: 0.1518 - accuracy: 0.9461\n",
      "Epoch 55/100\n",
      "5430/5430 [==============================] - 7s 1ms/step - loss: 0.1517 - accuracy: 0.9462\n",
      "Epoch 56/100\n",
      "5430/5430 [==============================] - 8s 1ms/step - loss: 0.1518 - accuracy: 0.9464\n",
      "Epoch 57/100\n",
      "5430/5430 [==============================] - 9s 2ms/step - loss: 0.1518 - accuracy: 0.9462\n",
      "Epoch 58/100\n",
      "5430/5430 [==============================] - 14s 3ms/step - loss: 0.1517 - accuracy: 0.9464\n",
      "Epoch 59/100\n",
      "5430/5430 [==============================] - 15s 3ms/step - loss: 0.1517 - accuracy: 0.9463\n",
      "Epoch 60/100\n",
      "5430/5430 [==============================] - 11s 2ms/step - loss: 0.1517 - accuracy: 0.9463\n",
      "Epoch 61/100\n",
      "5430/5430 [==============================] - 10s 2ms/step - loss: 0.1518 - accuracy: 0.9462\n",
      "Epoch 62/100\n",
      "5430/5430 [==============================] - 11s 2ms/step - loss: 0.1517 - accuracy: 0.9462\n",
      "Epoch 63/100\n",
      "5430/5430 [==============================] - 12s 2ms/step - loss: 0.1517 - accuracy: 0.9465\n",
      "Epoch 64/100\n",
      "5430/5430 [==============================] - 13s 2ms/step - loss: 0.1516 - accuracy: 0.9465\n",
      "Epoch 65/100\n",
      "5430/5430 [==============================] - 11s 2ms/step - loss: 0.1517 - accuracy: 0.9463\n",
      "Epoch 66/100\n",
      "5430/5430 [==============================] - 10s 2ms/step - loss: 0.1517 - accuracy: 0.9461\n",
      "Epoch 67/100\n",
      "5430/5430 [==============================] - 11s 2ms/step - loss: 0.1516 - accuracy: 0.9464\n",
      "Epoch 68/100\n",
      "5430/5430 [==============================] - 12s 2ms/step - loss: 0.1516 - accuracy: 0.9465\n",
      "Epoch 69/100\n",
      "5430/5430 [==============================] - 12s 2ms/step - loss: 0.1516 - accuracy: 0.9464\n",
      "Epoch 70/100\n",
      "5430/5430 [==============================] - 12s 2ms/step - loss: 0.1516 - accuracy: 0.9467\n",
      "Epoch 71/100\n",
      "5430/5430 [==============================] - 8s 2ms/step - loss: 0.1515 - accuracy: 0.9466\n",
      "Epoch 72/100\n",
      "5430/5430 [==============================] - 10s 2ms/step - loss: 0.1516 - accuracy: 0.9465\n",
      "Epoch 73/100\n",
      "5430/5430 [==============================] - 11s 2ms/step - loss: 0.1515 - accuracy: 0.9466\n",
      "Epoch 74/100\n",
      "5430/5430 [==============================] - 14s 3ms/step - loss: 0.1516 - accuracy: 0.9466\n",
      "Epoch 75/100\n",
      "5430/5430 [==============================] - 13s 2ms/step - loss: 0.1515 - accuracy: 0.9465\n",
      "Epoch 76/100\n",
      "5430/5430 [==============================] - 9s 2ms/step - loss: 0.1515 - accuracy: 0.9465\n",
      "Epoch 77/100\n",
      "5430/5430 [==============================] - 9s 2ms/step - loss: 0.1515 - accuracy: 0.9464\n",
      "Epoch 78/100\n",
      "5430/5430 [==============================] - 12s 2ms/step - loss: 0.1515 - accuracy: 0.9466\n",
      "Epoch 79/100\n",
      "5430/5430 [==============================] - 12s 2ms/step - loss: 0.1515 - accuracy: 0.9465\n",
      "Epoch 80/100\n",
      "5430/5430 [==============================] - 12s 2ms/step - loss: 0.1514 - accuracy: 0.9466\n",
      "Epoch 81/100\n",
      "5430/5430 [==============================] - 10s 2ms/step - loss: 0.1515 - accuracy: 0.9466\n",
      "Epoch 82/100\n",
      "5430/5430 [==============================] - 10s 2ms/step - loss: 0.1514 - accuracy: 0.9464\n",
      "Epoch 83/100\n",
      "5430/5430 [==============================] - 9s 2ms/step - loss: 0.1514 - accuracy: 0.9465\n",
      "Epoch 84/100\n",
      "5430/5430 [==============================] - 12s 2ms/step - loss: 0.1514 - accuracy: 0.9466\n",
      "Epoch 85/100\n",
      "5430/5430 [==============================] - 11s 2ms/step - loss: 0.1515 - accuracy: 0.9464\n",
      "Epoch 86/100\n",
      "5430/5430 [==============================] - 10s 2ms/step - loss: 0.1514 - accuracy: 0.9464\n",
      "Epoch 87/100\n",
      "5430/5430 [==============================] - 9s 2ms/step - loss: 0.1515 - accuracy: 0.9467\n",
      "Epoch 88/100\n",
      "5430/5430 [==============================] - 10s 2ms/step - loss: 0.1514 - accuracy: 0.9466\n",
      "Epoch 89/100\n",
      "5430/5430 [==============================] - 11s 2ms/step - loss: 0.1513 - accuracy: 0.9463\n",
      "Epoch 90/100\n",
      "5430/5430 [==============================] - 10s 2ms/step - loss: 0.1513 - accuracy: 0.9463\n",
      "Epoch 91/100\n",
      "5430/5430 [==============================] - 9s 2ms/step - loss: 0.1513 - accuracy: 0.9465\n",
      "Epoch 92/100\n",
      "5430/5430 [==============================] - 9s 2ms/step - loss: 0.1513 - accuracy: 0.9466\n",
      "Epoch 93/100\n",
      "5430/5430 [==============================] - 10s 2ms/step - loss: 0.1514 - accuracy: 0.9467\n",
      "Epoch 94/100\n",
      "5430/5430 [==============================] - 10s 2ms/step - loss: 0.1513 - accuracy: 0.9464\n",
      "Epoch 95/100\n",
      "5430/5430 [==============================] - 12s 2ms/step - loss: 0.1513 - accuracy: 0.9466\n",
      "Epoch 96/100\n",
      "5430/5430 [==============================] - 9s 2ms/step - loss: 0.1513 - accuracy: 0.9466\n",
      "Epoch 97/100\n",
      "5430/5430 [==============================] - 10s 2ms/step - loss: 0.1513 - accuracy: 0.9465\n",
      "Epoch 98/100\n",
      "5430/5430 [==============================] - 11s 2ms/step - loss: 0.1513 - accuracy: 0.9466\n",
      "Epoch 99/100\n",
      "5430/5430 [==============================] - 10s 2ms/step - loss: 0.1513 - accuracy: 0.9466\n",
      "Epoch 100/100\n",
      "5430/5430 [==============================] - 10s 2ms/step - loss: 0.1513 - accuracy: 0.9466\n"
     ]
    }
   ],
   "source": [
    "\n",
    "tf.random.set_seed(42)\n",
    "\n",
    "\n",
    "\n",
    "model_2 = tf.keras.Sequential([\n",
    "  tf.keras.layers.Dense(20,activation = 'relu'),\n",
    "  tf.keras.layers.Dense(6,activation = 'relu'),\n",
    "  tf.keras.layers.Dense(6,activation = 'relu'),\n",
    "  tf.keras.layers.Dense(1,activation = 'sigmoid')                            \n",
    "])\n",
    "\n",
    "\n",
    "model_2.compile(loss = 'binary_crossentropy',\n",
    "                optimizer = tf.keras.optimizers.Adam(lr=0.001),\n",
    "                metrics = ['accuracy'])\n",
    "\n",
    "\n",
    "history_2 = model_2.fit(x_train,y_train,epochs = 100)"
   ]
  },
  {
   "cell_type": "code",
   "execution_count": 42,
   "metadata": {},
   "outputs": [
    {
     "name": "stdout",
     "output_type": "stream",
     "text": [
      "1810/1810 [==============================] - 4s 2ms/step - loss: 0.1548 - accuracy: 0.9450\n"
     ]
    },
    {
     "data": {
      "text/plain": [
       "[0.15478375554084778, 0.9450439214706421]"
      ]
     },
     "execution_count": 42,
     "metadata": {},
     "output_type": "execute_result"
    }
   ],
   "source": [
    "model_2.evaluate(x_test,y_test)"
   ]
  },
  {
   "cell_type": "code",
   "execution_count": 43,
   "metadata": {},
   "outputs": [
    {
     "name": "stdout",
     "output_type": "stream",
     "text": [
      "5430/5430 [==============================] - 8s 1ms/step\n",
      "1810/1810 [==============================] - 3s 1ms/step\n",
      "              precision    recall  f1-score   support\n",
      "\n",
      "           0       0.95      0.99      0.97    163707\n",
      "           1       0.63      0.19      0.29     10048\n",
      "\n",
      "    accuracy                           0.95    173755\n",
      "   macro avg       0.79      0.59      0.63    173755\n",
      "weighted avg       0.93      0.95      0.93    173755\n",
      "\n",
      "              precision    recall  f1-score   support\n",
      "\n",
      "           0       0.95      0.99      0.97     54560\n",
      "           1       0.59      0.18      0.27      3359\n",
      "\n",
      "    accuracy                           0.95     57919\n",
      "   macro avg       0.77      0.58      0.62     57919\n",
      "weighted avg       0.93      0.95      0.93     57919\n",
      "\n"
     ]
    }
   ],
   "source": [
    "ypred_train9 = model_2.predict(x_train)\n",
    "y_pred_test9 = model_2.predict(x_test)\n",
    "\n",
    "y_pred_test9 = (y_pred_test9 > 0.5)\n",
    "ypred_train9 = (ypred_train9 > 0.5)\n",
    "\n",
    "print(classification_report(y_train,ypred_train9))\n",
    "print(classification_report(y_test,y_pred_test9))"
   ]
  },
  {
   "cell_type": "code",
   "execution_count": 44,
   "metadata": {},
   "outputs": [
    {
     "name": "stdout",
     "output_type": "stream",
     "text": [
      "1810/1810 [==============================] - 3s 1ms/step\n"
     ]
    },
    {
     "data": {
      "image/png": "[encoded data removed]",
      "text/plain": [
       "<Figure size 640x480 with 1 Axes>"
      ]
     },
     "metadata": {},
     "output_type": "display_data"
    }
   ],
   "source": [
    "# cross_val_scores = cross_val_score(model_2, x_train, y_train, cv=5)\n",
    "# print(\"Cross-Validation Scores for the Best Model:\", cross_val_scores)\n",
    "# print(\"Average Cross-Validation Score:\", cross_val_scores.mean())\n",
    "\n",
    "\n",
    "y_proba_test = model_2.predict(x_test).flatten()\n",
    "\n",
    "\n",
    "fpr, tpr, thresholds = roc_curve(y_test, y_proba_test)\n",
    "\n",
    "\n",
    "plt.plot(fpr, tpr, label='ROC Curve')\n",
    "plt.xlabel('False Positive Rate')\n",
    "plt.ylabel('True Positive Rate')\n",
    "plt.title('ROC Curve with AUC = {:.2f}'.format(roc_auc_score(y_test, y_proba_test)))\n",
    "plt.legend(loc='lower right')\n",
    "plt.grid(True)\n",
    "plt.show()"
   ]
  },
  {
   "cell_type": "markdown",
   "metadata": {},
   "source": [
    "## inna proba "
   ]
  },
  {
   "cell_type": "code",
   "execution_count": 45,
   "metadata": {},
   "outputs": [
    {
     "name": "stderr",
     "output_type": "stream",
     "text": [
      "WARNING:absl:`lr` is deprecated in Keras optimizer, please use `learning_rate` or use the legacy optimizer, e.g.,tf.keras.optimizers.legacy.Adam.\n"
     ]
    },
    {
     "name": "stdout",
     "output_type": "stream",
     "text": [
      "Epoch 1/100\n",
      "5430/5430 [==============================] - 13s 2ms/step - loss: 0.1636 - accuracy: 0.9433\n",
      "Epoch 2/100\n",
      "5430/5430 [==============================] - 13s 2ms/step - loss: 0.1551 - accuracy: 0.9453\n",
      "Epoch 3/100\n",
      "5430/5430 [==============================] - 14s 3ms/step - loss: 0.1545 - accuracy: 0.9456\n",
      "Epoch 4/100\n",
      "5430/5430 [==============================] - 12s 2ms/step - loss: 0.1542 - accuracy: 0.9455\n",
      "Epoch 5/100\n",
      "5430/5430 [==============================] - 11s 2ms/step - loss: 0.1539 - accuracy: 0.9456\n",
      "Epoch 6/100\n",
      "5430/5430 [==============================] - 9s 2ms/step - loss: 0.1537 - accuracy: 0.9458\n",
      "Epoch 7/100\n",
      "5430/5430 [==============================] - 11s 2ms/step - loss: 0.1536 - accuracy: 0.9458\n",
      "Epoch 8/100\n",
      "5430/5430 [==============================] - 13s 2ms/step - loss: 0.1535 - accuracy: 0.9457\n",
      "Epoch 9/100\n",
      "5430/5430 [==============================] - 11s 2ms/step - loss: 0.1532 - accuracy: 0.9457\n",
      "Epoch 10/100\n",
      "5430/5430 [==============================] - 11s 2ms/step - loss: 0.1533 - accuracy: 0.9457\n",
      "Epoch 11/100\n",
      "5430/5430 [==============================] - 10s 2ms/step - loss: 0.1532 - accuracy: 0.9456\n",
      "Epoch 12/100\n",
      "5430/5430 [==============================] - 10s 2ms/step - loss: 0.1531 - accuracy: 0.9459\n",
      "Epoch 13/100\n",
      "5430/5430 [==============================] - 13s 2ms/step - loss: 0.1531 - accuracy: 0.9457\n",
      "Epoch 14/100\n",
      "5430/5430 [==============================] - 11s 2ms/step - loss: 0.1529 - accuracy: 0.9462\n",
      "Epoch 15/100\n",
      "5430/5430 [==============================] - 11s 2ms/step - loss: 0.1529 - accuracy: 0.9459\n",
      "Epoch 16/100\n",
      "5430/5430 [==============================] - 12s 2ms/step - loss: 0.1527 - accuracy: 0.9461\n",
      "Epoch 17/100\n",
      "5430/5430 [==============================] - 11s 2ms/step - loss: 0.1528 - accuracy: 0.9461\n",
      "Epoch 18/100\n",
      "5430/5430 [==============================] - 12s 2ms/step - loss: 0.1526 - accuracy: 0.9460\n",
      "Epoch 19/100\n",
      "5430/5430 [==============================] - 11s 2ms/step - loss: 0.1526 - accuracy: 0.9461\n",
      "Epoch 20/100\n",
      "5430/5430 [==============================] - 11s 2ms/step - loss: 0.1525 - accuracy: 0.9461\n",
      "Epoch 21/100\n",
      "5430/5430 [==============================] - 12s 2ms/step - loss: 0.1524 - accuracy: 0.9461\n",
      "Epoch 22/100\n",
      "5430/5430 [==============================] - 12s 2ms/step - loss: 0.1524 - accuracy: 0.9459\n",
      "Epoch 23/100\n",
      "5430/5430 [==============================] - 12s 2ms/step - loss: 0.1521 - accuracy: 0.9463\n",
      "Epoch 24/100\n",
      "5430/5430 [==============================] - 9s 2ms/step - loss: 0.1521 - accuracy: 0.9463\n",
      "Epoch 25/100\n",
      "5430/5430 [==============================] - 11s 2ms/step - loss: 0.1520 - accuracy: 0.9463\n",
      "Epoch 26/100\n",
      "5430/5430 [==============================] - 13s 2ms/step - loss: 0.1519 - accuracy: 0.9464\n",
      "Epoch 27/100\n",
      "5430/5430 [==============================] - 12s 2ms/step - loss: 0.1519 - accuracy: 0.9464\n",
      "Epoch 28/100\n",
      "5430/5430 [==============================] - 11s 2ms/step - loss: 0.1519 - accuracy: 0.9462\n",
      "Epoch 29/100\n",
      "5430/5430 [==============================] - 10s 2ms/step - loss: 0.1518 - accuracy: 0.9464\n",
      "Epoch 30/100\n",
      "5430/5430 [==============================] - 9s 2ms/step - loss: 0.1518 - accuracy: 0.9463\n",
      "Epoch 31/100\n",
      "5430/5430 [==============================] - 11s 2ms/step - loss: 0.1516 - accuracy: 0.9465\n",
      "Epoch 32/100\n",
      "5430/5430 [==============================] - 10s 2ms/step - loss: 0.1515 - accuracy: 0.9465\n",
      "Epoch 33/100\n",
      "5430/5430 [==============================] - 10s 2ms/step - loss: 0.1514 - accuracy: 0.9465\n",
      "Epoch 34/100\n",
      "5430/5430 [==============================] - 11s 2ms/step - loss: 0.1514 - accuracy: 0.9466\n",
      "Epoch 35/100\n",
      "5430/5430 [==============================] - 9s 2ms/step - loss: 0.1513 - accuracy: 0.9467\n",
      "Epoch 36/100\n",
      "5430/5430 [==============================] - 10s 2ms/step - loss: 0.1513 - accuracy: 0.9464\n",
      "Epoch 37/100\n",
      "5430/5430 [==============================] - 11s 2ms/step - loss: 0.1512 - accuracy: 0.9464\n",
      "Epoch 38/100\n",
      "5430/5430 [==============================] - 11s 2ms/step - loss: 0.1512 - accuracy: 0.9466\n",
      "Epoch 39/100\n",
      "5430/5430 [==============================] - 11s 2ms/step - loss: 0.1511 - accuracy: 0.9468\n",
      "Epoch 40/100\n",
      "5430/5430 [==============================] - 12s 2ms/step - loss: 0.1510 - accuracy: 0.9469\n",
      "Epoch 41/100\n",
      "5430/5430 [==============================] - 10s 2ms/step - loss: 0.1509 - accuracy: 0.9467\n",
      "Epoch 42/100\n",
      "5430/5430 [==============================] - 9s 2ms/step - loss: 0.1509 - accuracy: 0.9462\n",
      "Epoch 43/100\n",
      "5430/5430 [==============================] - 10s 2ms/step - loss: 0.1508 - accuracy: 0.9467\n",
      "Epoch 44/100\n",
      "5430/5430 [==============================] - 10s 2ms/step - loss: 0.1508 - accuracy: 0.9466\n",
      "Epoch 45/100\n",
      "5430/5430 [==============================] - 12s 2ms/step - loss: 0.1507 - accuracy: 0.9467\n",
      "Epoch 46/100\n",
      "5430/5430 [==============================] - 12s 2ms/step - loss: 0.1507 - accuracy: 0.9466\n",
      "Epoch 47/100\n",
      "5430/5430 [==============================] - 11s 2ms/step - loss: 0.1507 - accuracy: 0.9467\n",
      "Epoch 48/100\n",
      "5430/5430 [==============================] - 10s 2ms/step - loss: 0.1506 - accuracy: 0.9465\n",
      "Epoch 49/100\n",
      "5430/5430 [==============================] - 11s 2ms/step - loss: 0.1506 - accuracy: 0.9465\n",
      "Epoch 50/100\n",
      "5430/5430 [==============================] - 12s 2ms/step - loss: 0.1504 - accuracy: 0.9467\n",
      "Epoch 51/100\n",
      "5430/5430 [==============================] - 13s 2ms/step - loss: 0.1504 - accuracy: 0.9468\n",
      "Epoch 52/100\n",
      "5430/5430 [==============================] - 11s 2ms/step - loss: 0.1504 - accuracy: 0.9470\n",
      "Epoch 53/100\n",
      "5430/5430 [==============================] - 10s 2ms/step - loss: 0.1503 - accuracy: 0.9468\n",
      "Epoch 54/100\n",
      "5430/5430 [==============================] - 9s 2ms/step - loss: 0.1503 - accuracy: 0.9466\n",
      "Epoch 55/100\n",
      "5430/5430 [==============================] - 11s 2ms/step - loss: 0.1501 - accuracy: 0.9467\n",
      "Epoch 56/100\n",
      "5430/5430 [==============================] - 11s 2ms/step - loss: 0.1502 - accuracy: 0.9467\n",
      "Epoch 57/100\n",
      "5430/5430 [==============================] - 9s 2ms/step - loss: 0.1501 - accuracy: 0.9468\n",
      "Epoch 58/100\n",
      "5430/5430 [==============================] - 10s 2ms/step - loss: 0.1500 - accuracy: 0.9470\n",
      "Epoch 59/100\n",
      "5430/5430 [==============================] - 11s 2ms/step - loss: 0.1500 - accuracy: 0.9466\n",
      "Epoch 60/100\n",
      "5430/5430 [==============================] - 11s 2ms/step - loss: 0.1500 - accuracy: 0.9467\n",
      "Epoch 61/100\n",
      "5430/5430 [==============================] - 10s 2ms/step - loss: 0.1501 - accuracy: 0.9467\n",
      "Epoch 62/100\n",
      "5430/5430 [==============================] - 11s 2ms/step - loss: 0.1500 - accuracy: 0.9468\n",
      "Epoch 63/100\n",
      "5430/5430 [==============================] - 10s 2ms/step - loss: 0.1500 - accuracy: 0.9469\n",
      "Epoch 64/100\n",
      "5430/5430 [==============================] - 11s 2ms/step - loss: 0.1499 - accuracy: 0.9467\n",
      "Epoch 65/100\n",
      "5430/5430 [==============================] - 11s 2ms/step - loss: 0.1500 - accuracy: 0.9467\n",
      "Epoch 66/100\n",
      "5430/5430 [==============================] - 9s 2ms/step - loss: 0.1500 - accuracy: 0.9469\n",
      "Epoch 67/100\n",
      "5430/5430 [==============================] - 11s 2ms/step - loss: 0.1499 - accuracy: 0.9470\n",
      "Epoch 68/100\n",
      "5430/5430 [==============================] - 10s 2ms/step - loss: 0.1498 - accuracy: 0.9470\n",
      "Epoch 69/100\n",
      "5430/5430 [==============================] - 8s 2ms/step - loss: 0.1497 - accuracy: 0.9469\n",
      "Epoch 70/100\n",
      "5430/5430 [==============================] - 10s 2ms/step - loss: 0.1497 - accuracy: 0.9464\n",
      "Epoch 71/100\n",
      "5430/5430 [==============================] - 11s 2ms/step - loss: 0.1496 - accuracy: 0.9470\n",
      "Epoch 72/100\n",
      "5430/5430 [==============================] - 10s 2ms/step - loss: 0.1497 - accuracy: 0.9470\n",
      "Epoch 73/100\n",
      "5430/5430 [==============================] - 10s 2ms/step - loss: 0.1496 - accuracy: 0.9471\n",
      "Epoch 74/100\n",
      "5430/5430 [==============================] - 10s 2ms/step - loss: 0.1496 - accuracy: 0.9471\n",
      "Epoch 75/100\n",
      "5430/5430 [==============================] - 10s 2ms/step - loss: 0.1496 - accuracy: 0.9471\n",
      "Epoch 76/100\n",
      "5430/5430 [==============================] - 12s 2ms/step - loss: 0.1495 - accuracy: 0.9473\n",
      "Epoch 77/100\n",
      "5430/5430 [==============================] - 9s 2ms/step - loss: 0.1496 - accuracy: 0.9470\n",
      "Epoch 78/100\n",
      "5430/5430 [==============================] - 8s 2ms/step - loss: 0.1498 - accuracy: 0.9472\n",
      "Epoch 79/100\n",
      "5430/5430 [==============================] - 9s 2ms/step - loss: 0.1496 - accuracy: 0.9471\n",
      "Epoch 80/100\n",
      "5430/5430 [==============================] - 9s 2ms/step - loss: 0.1495 - accuracy: 0.9470\n",
      "Epoch 81/100\n",
      "5430/5430 [==============================] - 10s 2ms/step - loss: 0.1493 - accuracy: 0.9472\n",
      "Epoch 82/100\n",
      "5430/5430 [==============================] - 12s 2ms/step - loss: 0.1495 - accuracy: 0.9469\n",
      "Epoch 83/100\n",
      "5430/5430 [==============================] - 12s 2ms/step - loss: 0.1494 - accuracy: 0.9474\n",
      "Epoch 84/100\n",
      "5430/5430 [==============================] - 11s 2ms/step - loss: 0.1494 - accuracy: 0.9472\n",
      "Epoch 85/100\n",
      "5430/5430 [==============================] - 9s 2ms/step - loss: 0.1493 - accuracy: 0.9471\n",
      "Epoch 86/100\n",
      "5430/5430 [==============================] - 11s 2ms/step - loss: 0.1493 - accuracy: 0.9471\n",
      "Epoch 87/100\n",
      "5430/5430 [==============================] - 10s 2ms/step - loss: 0.1494 - accuracy: 0.9472\n",
      "Epoch 88/100\n",
      "5430/5430 [==============================] - 12s 2ms/step - loss: 0.1493 - accuracy: 0.9471\n",
      "Epoch 89/100\n",
      "5430/5430 [==============================] - 11s 2ms/step - loss: 0.1492 - accuracy: 0.9473\n",
      "Epoch 90/100\n",
      "5430/5430 [==============================] - 11s 2ms/step - loss: 0.1493 - accuracy: 0.9471\n",
      "Epoch 91/100\n",
      "5430/5430 [==============================] - 12s 2ms/step - loss: 0.1492 - accuracy: 0.9472\n",
      "Epoch 92/100\n",
      "5430/5430 [==============================] - 13s 2ms/step - loss: 0.1492 - accuracy: 0.9472\n",
      "Epoch 93/100\n",
      "5430/5430 [==============================] - 14s 3ms/step - loss: 0.1493 - accuracy: 0.9472\n",
      "Epoch 94/100\n",
      "5430/5430 [==============================] - 12s 2ms/step - loss: 0.1492 - accuracy: 0.9471\n",
      "Epoch 95/100\n",
      "5430/5430 [==============================] - 11s 2ms/step - loss: 0.1490 - accuracy: 0.9474\n",
      "Epoch 96/100\n",
      "5430/5430 [==============================] - 11s 2ms/step - loss: 0.1491 - accuracy: 0.9468\n",
      "Epoch 97/100\n",
      "5430/5430 [==============================] - 13s 2ms/step - loss: 0.1490 - accuracy: 0.9474\n",
      "Epoch 98/100\n",
      "5430/5430 [==============================] - 12s 2ms/step - loss: 0.1489 - accuracy: 0.9473\n",
      "Epoch 99/100\n",
      "5430/5430 [==============================] - 10s 2ms/step - loss: 0.1491 - accuracy: 0.9475\n",
      "Epoch 100/100\n",
      "5430/5430 [==============================] - 10s 2ms/step - loss: 0.1489 - accuracy: 0.9476\n"
     ]
    }
   ],
   "source": [
    "\n",
    "tf.random.set_seed(42)\n",
    "\n",
    "\n",
    "\n",
    "model_22 = tf.keras.Sequential([\n",
    "  tf.keras.layers.Dense(20,activation = 'relu'),\n",
    "  tf.keras.layers.Dense(40,activation = 'relu'),\n",
    "  tf.keras.layers.Dense(20,activation = 'relu'),\n",
    "  tf.keras.layers.Dense(9,activation = 'relu'),\n",
    "  tf.keras.layers.Dense(1,activation = 'sigmoid')                            \n",
    "])\n",
    "\n",
    "\n",
    "model_22.compile(loss = 'binary_crossentropy',\n",
    "                optimizer = tf.keras.optimizers.Adam(lr=0.001),\n",
    "                metrics = ['accuracy'])\n",
    "\n",
    "\n",
    "history_2 = model_22.fit(x_train,y_train,epochs = 100)"
   ]
  },
  {
   "cell_type": "code",
   "execution_count": 46,
   "metadata": {},
   "outputs": [
    {
     "name": "stdout",
     "output_type": "stream",
     "text": [
      "1810/1810 [==============================] - 3s 2ms/step - loss: 0.1589 - accuracy: 0.9448\n"
     ]
    },
    {
     "data": {
      "text/plain": [
       "[0.1588544398546219, 0.9447504281997681]"
      ]
     },
     "execution_count": 46,
     "metadata": {},
     "output_type": "execute_result"
    }
   ],
   "source": [
    "model_22.evaluate(x_test,y_test)"
   ]
  },
  {
   "cell_type": "code",
   "execution_count": 47,
   "metadata": {},
   "outputs": [
    {
     "name": "stdout",
     "output_type": "stream",
     "text": [
      "5430/5430 [==============================] - 10s 2ms/step\n",
      "1810/1810 [==============================] - 4s 2ms/step\n",
      "              precision    recall  f1-score   support\n",
      "\n",
      "           0       0.95      0.99      0.97    163707\n",
      "           1       0.66      0.20      0.31     10048\n",
      "\n",
      "    accuracy                           0.95    173755\n",
      "   macro avg       0.81      0.60      0.64    173755\n",
      "weighted avg       0.94      0.95      0.93    173755\n",
      "\n",
      "              precision    recall  f1-score   support\n",
      "\n",
      "           0       0.95      0.99      0.97     54560\n",
      "           1       0.58      0.17      0.27      3359\n",
      "\n",
      "    accuracy                           0.94     57919\n",
      "   macro avg       0.76      0.58      0.62     57919\n",
      "weighted avg       0.93      0.94      0.93     57919\n",
      "\n"
     ]
    }
   ],
   "source": [
    "ypred_train91 = model_22.predict(x_train)\n",
    "y_pred_test91 = model_22.predict(x_test)\n",
    "\n",
    "y_pred_test91 = (y_pred_test91 > 0.5)\n",
    "ypred_train91 = (ypred_train91 > 0.5)\n",
    "\n",
    "print(classification_report(y_train,ypred_train91))\n",
    "print(classification_report(y_test,y_pred_test91))"
   ]
  },
  {
   "cell_type": "code",
   "execution_count": 48,
   "metadata": {},
   "outputs": [
    {
     "name": "stdout",
     "output_type": "stream",
     "text": [
      "1810/1810 [==============================] - 4s 2ms/step\n"
     ]
    },
    {
     "data": {
      "image/png": "[encoded data removed]",
      "text/plain": [
       "<Figure size 640x480 with 1 Axes>"
      ]
     },
     "metadata": {},
     "output_type": "display_data"
    }
   ],
   "source": [
    "\n",
    "# cross_val_scores = cross_val_score(model_22, x_train, y_train, cv=5)\n",
    "# print(\"Cross-Validation Scores for the Best Model:\", cross_val_scores)\n",
    "# print(\"Average Cross-Validation Score:\", cross_val_scores.mean())\n",
    "y_proba_test = model_22.predict(x_test).flatten()\n",
    "\n",
    "\n",
    "fpr, tpr, thresholds = roc_curve(y_test, y_proba_test)\n",
    "\n",
    "\n",
    "plt.plot(fpr, tpr, label='ROC Curve')\n",
    "plt.xlabel('False Positive Rate')\n",
    "plt.ylabel('True Positive Rate')\n",
    "plt.title('ROC Curve with AUC = {:.2f}'.format(roc_auc_score(y_test, y_proba_test)))\n",
    "plt.legend(loc='lower right')\n",
    "plt.grid(True)\n",
    "plt.show()"
   ]
  },
  {
   "cell_type": "markdown",
   "metadata": {},
   "source": [
    "## inne próby sieci neuronowych "
   ]
  },
  {
   "cell_type": "code",
   "execution_count": 49,
   "metadata": {},
   "outputs": [],
   "source": [
    "model1 = Sequential()\n",
    "model1.add(Dense(units=20,activation='relu'))\n",
    "model1.add(Dropout(0.5))\n",
    "\n",
    "model1.add(Dense(units=15,activation='relu'))\n",
    "model1.add(Dropout(0.5))\n",
    "\n",
    "model1.add(Dense(units=1,activation='sigmoid'))\n",
    "model1.compile(loss='binary_crossentropy', optimizer='adam')"
   ]
  },
  {
   "cell_type": "code",
   "execution_count": 50,
   "metadata": {},
   "outputs": [
    {
     "name": "stdout",
     "output_type": "stream",
     "text": [
      "Epoch 1/100\n"
     ]
    },
    {
     "name": "stdout",
     "output_type": "stream",
     "text": [
      "5430/5430 [==============================] - 15s 3ms/step - loss: 0.1974 - val_loss: 0.1571\n",
      "Epoch 2/100\n",
      "5430/5430 [==============================] - 12s 2ms/step - loss: 0.1723 - val_loss: 0.1568\n",
      "Epoch 3/100\n",
      "5430/5430 [==============================] - 15s 3ms/step - loss: 0.1689 - val_loss: 0.1560\n",
      "Epoch 4/100\n",
      "5430/5430 [==============================] - 14s 3ms/step - loss: 0.1678 - val_loss: 0.1576\n",
      "Epoch 5/100\n",
      "5430/5430 [==============================] - 12s 2ms/step - loss: 0.1674 - val_loss: 0.1565\n",
      "Epoch 6/100\n",
      "5430/5430 [==============================] - 13s 2ms/step - loss: 0.1672 - val_loss: 0.1570\n",
      "Epoch 7/100\n",
      "5430/5430 [==============================] - 17s 3ms/step - loss: 0.1667 - val_loss: 0.1566\n",
      "Epoch 8/100\n",
      "5430/5430 [==============================] - 14s 3ms/step - loss: 0.1662 - val_loss: 0.1558\n",
      "Epoch 9/100\n",
      "5430/5430 [==============================] - 12s 2ms/step - loss: 0.1657 - val_loss: 0.1542\n",
      "Epoch 10/100\n",
      "5430/5430 [==============================] - 12s 2ms/step - loss: 0.1659 - val_loss: 0.1551\n",
      "Epoch 11/100\n",
      "5430/5430 [==============================] - 15s 3ms/step - loss: 0.1651 - val_loss: 0.1546\n",
      "Epoch 12/100\n",
      "5430/5430 [==============================] - 14s 3ms/step - loss: 0.1654 - val_loss: 0.1549\n",
      "Epoch 13/100\n",
      "5430/5430 [==============================] - 13s 2ms/step - loss: 0.1652 - val_loss: 0.1547\n",
      "Epoch 14/100\n",
      "5430/5430 [==============================] - 12s 2ms/step - loss: 0.1648 - val_loss: 0.1546\n",
      "Epoch 15/100\n",
      "5430/5430 [==============================] - 15s 3ms/step - loss: 0.1645 - val_loss: 0.1551\n",
      "Epoch 16/100\n",
      "5430/5430 [==============================] - 14s 3ms/step - loss: 0.1643 - val_loss: 0.1552\n",
      "Epoch 17/100\n",
      "5430/5430 [==============================] - 14s 3ms/step - loss: 0.1649 - val_loss: 0.1546\n",
      "Epoch 18/100\n",
      "5430/5430 [==============================] - 12s 2ms/step - loss: 0.1652 - val_loss: 0.1544\n",
      "Epoch 19/100\n",
      "5430/5430 [==============================] - 15s 3ms/step - loss: 0.1644 - val_loss: 0.1549\n",
      "Epoch 20/100\n",
      "5430/5430 [==============================] - 16s 3ms/step - loss: 0.1648 - val_loss: 0.1551\n",
      "Epoch 21/100\n",
      "5430/5430 [==============================] - 15s 3ms/step - loss: 0.1648 - val_loss: 0.1552\n",
      "Epoch 22/100\n",
      "5430/5430 [==============================] - 12s 2ms/step - loss: 0.1650 - val_loss: 0.1548\n",
      "Epoch 23/100\n",
      "5430/5430 [==============================] - 14s 3ms/step - loss: 0.1646 - val_loss: 0.1545\n",
      "Epoch 24/100\n",
      "5430/5430 [==============================] - 16s 3ms/step - loss: 0.1643 - val_loss: 0.1536\n",
      "Epoch 25/100\n",
      "5430/5430 [==============================] - 15s 3ms/step - loss: 0.1646 - val_loss: 0.1541\n",
      "Epoch 26/100\n",
      "5430/5430 [==============================] - 13s 2ms/step - loss: 0.1646 - val_loss: 0.1549\n",
      "Epoch 27/100\n",
      "5430/5430 [==============================] - 17s 3ms/step - loss: 0.1644 - val_loss: 0.1539\n",
      "Epoch 28/100\n",
      "5430/5430 [==============================] - 17s 3ms/step - loss: 0.1648 - val_loss: 0.1549\n",
      "Epoch 29/100\n",
      "5430/5430 [==============================] - 13s 2ms/step - loss: 0.1642 - val_loss: 0.1551\n",
      "Epoch 30/100\n",
      "5430/5430 [==============================] - 13s 2ms/step - loss: 0.1647 - val_loss: 0.1544\n",
      "Epoch 31/100\n",
      "5430/5430 [==============================] - 13s 2ms/step - loss: 0.1646 - val_loss: 0.1541\n",
      "Epoch 32/100\n",
      "5430/5430 [==============================] - 15s 3ms/step - loss: 0.1643 - val_loss: 0.1541\n",
      "Epoch 33/100\n",
      "5430/5430 [==============================] - 12s 2ms/step - loss: 0.1642 - val_loss: 0.1553\n",
      "Epoch 34/100\n",
      "5430/5430 [==============================] - 13s 2ms/step - loss: 0.1645 - val_loss: 0.1551\n",
      "Epoch 35/100\n",
      "5430/5430 [==============================] - 14s 3ms/step - loss: 0.1642 - val_loss: 0.1541\n",
      "Epoch 36/100\n",
      "5430/5430 [==============================] - 13s 2ms/step - loss: 0.1644 - val_loss: 0.1573\n",
      "Epoch 37/100\n",
      "5430/5430 [==============================] - 12s 2ms/step - loss: 0.1645 - val_loss: 0.1543\n",
      "Epoch 38/100\n",
      "5430/5430 [==============================] - 11s 2ms/step - loss: 0.1644 - val_loss: 0.1550\n",
      "Epoch 39/100\n",
      "5430/5430 [==============================] - 13s 2ms/step - loss: 0.1637 - val_loss: 0.1554\n",
      "Epoch 40/100\n",
      "5430/5430 [==============================] - 17s 3ms/step - loss: 0.1646 - val_loss: 0.1547\n",
      "Epoch 41/100\n",
      "5430/5430 [==============================] - 15s 3ms/step - loss: 0.1642 - val_loss: 0.1555\n",
      "Epoch 42/100\n",
      "5430/5430 [==============================] - 11s 2ms/step - loss: 0.1642 - val_loss: 0.1550\n",
      "Epoch 43/100\n",
      "5430/5430 [==============================] - 14s 3ms/step - loss: 0.1642 - val_loss: 0.1552\n",
      "Epoch 44/100\n",
      "5430/5430 [==============================] - 16s 3ms/step - loss: 0.1646 - val_loss: 0.1549\n",
      "Epoch 45/100\n",
      "5430/5430 [==============================] - 14s 3ms/step - loss: 0.1643 - val_loss: 0.1549\n",
      "Epoch 46/100\n",
      "5430/5430 [==============================] - 11s 2ms/step - loss: 0.1646 - val_loss: 0.1544\n",
      "Epoch 47/100\n",
      "5430/5430 [==============================] - 13s 2ms/step - loss: 0.1641 - val_loss: 0.1547\n",
      "Epoch 48/100\n",
      "5430/5430 [==============================] - 14s 3ms/step - loss: 0.1652 - val_loss: 0.1538\n",
      "Epoch 49/100\n",
      "5430/5430 [==============================] - 13s 2ms/step - loss: 0.1645 - val_loss: 0.1552\n",
      "Epoch 49: early stopping\n"
     ]
    },
    {
     "data": {
      "text/plain": [
       "<keras.src.callbacks.History at 0x1ae4c93fd50>"
      ]
     },
     "execution_count": 50,
     "metadata": {},
     "output_type": "execute_result"
    }
   ],
   "source": [
    "model1.fit(x=x_train, \n",
    "          y=y_train, \n",
    "          epochs=100,\n",
    "          validation_data=(x_test, y_test), verbose=1,\n",
    "          callbacks=[early_stop]\n",
    "          )"
   ]
  },
  {
   "cell_type": "code",
   "execution_count": 51,
   "metadata": {},
   "outputs": [
    {
     "name": "stdout",
     "output_type": "stream",
     "text": [
      "5430/5430 [==============================] - 7s 1ms/step\n",
      "1810/1810 [==============================] - 2s 1ms/step\n",
      "              precision    recall  f1-score   support\n",
      "\n",
      "           0       0.94      1.00      0.97    163707\n",
      "           1       0.73      0.04      0.08     10048\n",
      "\n",
      "    accuracy                           0.94    173755\n",
      "   macro avg       0.84      0.52      0.53    173755\n",
      "weighted avg       0.93      0.94      0.92    173755\n",
      "\n",
      "              precision    recall  f1-score   support\n",
      "\n",
      "           0       0.94      1.00      0.97     54560\n",
      "           1       0.69      0.04      0.08      3359\n",
      "\n",
      "    accuracy                           0.94     57919\n",
      "   macro avg       0.82      0.52      0.52     57919\n",
      "weighted avg       0.93      0.94      0.92     57919\n",
      "\n"
     ]
    }
   ],
   "source": [
    "ypred_train11 = model1.predict(x_train)\n",
    "y_pred_test11 = model1.predict(x_test)\n",
    "\n",
    "y_pred_test11 = (y_pred_test11 > 0.5)\n",
    "ypred_train11 = (ypred_train11 > 0.5)\n",
    "\n",
    "print(classification_report(y_train,ypred_train11))\n",
    "print(classification_report(y_test,y_pred_test11))"
   ]
  },
  {
   "cell_type": "code",
   "execution_count": 52,
   "metadata": {},
   "outputs": [
    {
     "name": "stdout",
     "output_type": "stream",
     "text": [
      "1810/1810 [==============================] - 3s 1ms/step\n"
     ]
    },
    {
     "data": {
      "image/png": "[encoded data removed]",
      "text/plain": [
       "<Figure size 640x480 with 1 Axes>"
      ]
     },
     "metadata": {},
     "output_type": "display_data"
    }
   ],
   "source": [
    "# cross_val_scores = cross_val_score(model1, x_train, y_train, cv=5)\n",
    "# print(\"Cross-Validation Scores for the Best Model:\", cross_val_scores)\n",
    "# print(\"Average Cross-Validation Score:\", cross_val_scores.mean())\n",
    "\n",
    "y_proba_test = model1.predict(x_test).flatten()\n",
    "\n",
    "\n",
    "fpr, tpr, thresholds = roc_curve(y_test, y_proba_test)\n",
    "\n",
    "\n",
    "plt.plot(fpr, tpr, label='ROC Curve')\n",
    "plt.xlabel('False Positive Rate')\n",
    "plt.ylabel('True Positive Rate')\n",
    "plt.title('ROC Curve with AUC = {:.2f}'.format(roc_auc_score(y_test, y_proba_test)))\n",
    "plt.legend(loc='lower right')\n",
    "plt.grid(True)\n",
    "plt.show()"
   ]
  },
  {
   "cell_type": "markdown",
   "metadata": {},
   "source": [
    "## inny model"
   ]
  },
  {
   "cell_type": "code",
   "execution_count": 53,
   "metadata": {},
   "outputs": [],
   "source": [
    "model12 = Sequential()\n",
    "\n",
    "\n",
    "\n",
    "model12.add(Dense(20,  activation='relu'))\n",
    "model12.add(Dropout(0.2))\n",
    "\n",
    "model12.add(Dense(10, activation='relu'))\n",
    "model12.add(Dropout(0.2))\n",
    "\n",
    "model12.add(Dense(units=1,activation='sigmoid'))\n",
    "\n",
    "model12.compile(loss='binary_crossentropy', optimizer='adam')"
   ]
  },
  {
   "cell_type": "code",
   "execution_count": 54,
   "metadata": {},
   "outputs": [
    {
     "name": "stdout",
     "output_type": "stream",
     "text": [
      "Epoch 1/100\n",
      "5430/5430 [==============================] - 14s 2ms/step - loss: 0.1849 - val_loss: 0.1552\n",
      "Epoch 2/100\n",
      "5430/5430 [==============================] - 12s 2ms/step - loss: 0.1621 - val_loss: 0.1549\n",
      "Epoch 3/100\n",
      "5430/5430 [==============================] - 12s 2ms/step - loss: 0.1598 - val_loss: 0.1543\n",
      "Epoch 4/100\n",
      "5430/5430 [==============================] - 12s 2ms/step - loss: 0.1591 - val_loss: 0.1550\n",
      "Epoch 5/100\n",
      "5430/5430 [==============================] - 12s 2ms/step - loss: 0.1585 - val_loss: 0.1540\n",
      "Epoch 6/100\n",
      "5430/5430 [==============================] - 11s 2ms/step - loss: 0.1582 - val_loss: 0.1544\n",
      "Epoch 7/100\n",
      "5430/5430 [==============================] - 12s 2ms/step - loss: 0.1582 - val_loss: 0.1560\n",
      "Epoch 8/100\n",
      "5430/5430 [==============================] - 12s 2ms/step - loss: 0.1579 - val_loss: 0.1544\n",
      "Epoch 9/100\n",
      "5430/5430 [==============================] - 11s 2ms/step - loss: 0.1581 - val_loss: 0.1540\n",
      "Epoch 10/100\n",
      "5430/5430 [==============================] - 12s 2ms/step - loss: 0.1581 - val_loss: 0.1546\n",
      "Epoch 11/100\n",
      "5430/5430 [==============================] - 8s 1ms/step - loss: 0.1575 - val_loss: 0.1547\n",
      "Epoch 12/100\n",
      "5430/5430 [==============================] - 8s 1ms/step - loss: 0.1581 - val_loss: 0.1547\n",
      "Epoch 13/100\n",
      "5430/5430 [==============================] - 7s 1ms/step - loss: 0.1582 - val_loss: 0.1543\n",
      "Epoch 14/100\n",
      "5430/5430 [==============================] - 8s 1ms/step - loss: 0.1579 - val_loss: 0.1539\n",
      "Epoch 15/100\n",
      "5430/5430 [==============================] - 8s 1ms/step - loss: 0.1576 - val_loss: 0.1554\n",
      "Epoch 16/100\n",
      "5430/5430 [==============================] - 8s 1ms/step - loss: 0.1574 - val_loss: 0.1544\n",
      "Epoch 17/100\n",
      "5430/5430 [==============================] - 8s 1ms/step - loss: 0.1577 - val_loss: 0.1544\n",
      "Epoch 18/100\n",
      "5430/5430 [==============================] - 7s 1ms/step - loss: 0.1574 - val_loss: 0.1546\n",
      "Epoch 19/100\n",
      "5430/5430 [==============================] - 7s 1ms/step - loss: 0.1576 - val_loss: 0.1547\n",
      "Epoch 20/100\n",
      "5430/5430 [==============================] - 7s 1ms/step - loss: 0.1575 - val_loss: 0.1545\n",
      "Epoch 21/100\n",
      "5430/5430 [==============================] - 7s 1ms/step - loss: 0.1576 - val_loss: 0.1542\n",
      "Epoch 22/100\n",
      "5430/5430 [==============================] - 7s 1ms/step - loss: 0.1574 - val_loss: 0.1544\n",
      "Epoch 23/100\n",
      "5430/5430 [==============================] - 8s 1ms/step - loss: 0.1575 - val_loss: 0.1547\n",
      "Epoch 24/100\n",
      "5430/5430 [==============================] - 8s 1ms/step - loss: 0.1573 - val_loss: 0.1533\n",
      "Epoch 25/100\n",
      "5430/5430 [==============================] - 8s 1ms/step - loss: 0.1574 - val_loss: 0.1538\n",
      "Epoch 26/100\n",
      "5430/5430 [==============================] - 8s 1ms/step - loss: 0.1572 - val_loss: 0.1539\n",
      "Epoch 27/100\n",
      "5430/5430 [==============================] - 8s 1ms/step - loss: 0.1570 - val_loss: 0.1540\n",
      "Epoch 28/100\n",
      "5430/5430 [==============================] - 8s 1ms/step - loss: 0.1573 - val_loss: 0.1546\n",
      "Epoch 29/100\n",
      "5430/5430 [==============================] - 8s 1ms/step - loss: 0.1577 - val_loss: 0.1554\n",
      "Epoch 30/100\n",
      "5430/5430 [==============================] - 8s 1ms/step - loss: 0.1570 - val_loss: 0.1543\n",
      "Epoch 31/100\n",
      "5430/5430 [==============================] - 8s 1ms/step - loss: 0.1571 - val_loss: 0.1545\n",
      "Epoch 32/100\n",
      "5430/5430 [==============================] - 8s 1ms/step - loss: 0.1570 - val_loss: 0.1536\n",
      "Epoch 33/100\n",
      "5430/5430 [==============================] - 7s 1ms/step - loss: 0.1573 - val_loss: 0.1547\n",
      "Epoch 34/100\n",
      "5430/5430 [==============================] - 7s 1ms/step - loss: 0.1570 - val_loss: 0.1547\n",
      "Epoch 35/100\n",
      "5430/5430 [==============================] - 8s 1ms/step - loss: 0.1573 - val_loss: 0.1541\n",
      "Epoch 36/100\n",
      "5430/5430 [==============================] - 8s 1ms/step - loss: 0.1573 - val_loss: 0.1552\n",
      "Epoch 37/100\n",
      "5430/5430 [==============================] - 8s 1ms/step - loss: 0.1572 - val_loss: 0.1543\n",
      "Epoch 38/100\n",
      "5430/5430 [==============================] - 8s 1ms/step - loss: 0.1576 - val_loss: 0.1540\n",
      "Epoch 39/100\n",
      "5430/5430 [==============================] - 8s 1ms/step - loss: 0.1570 - val_loss: 0.1548\n",
      "Epoch 40/100\n",
      "5430/5430 [==============================] - 8s 1ms/step - loss: 0.1570 - val_loss: 0.1546\n",
      "Epoch 41/100\n",
      "5430/5430 [==============================] - 8s 1ms/step - loss: 0.1569 - val_loss: 0.1546\n",
      "Epoch 42/100\n",
      "5430/5430 [==============================] - 8s 1ms/step - loss: 0.1569 - val_loss: 0.1539\n",
      "Epoch 43/100\n",
      "5430/5430 [==============================] - 8s 1ms/step - loss: 0.1570 - val_loss: 0.1540\n",
      "Epoch 44/100\n",
      "5430/5430 [==============================] - 8s 1ms/step - loss: 0.1571 - val_loss: 0.1543\n",
      "Epoch 45/100\n",
      "5430/5430 [==============================] - 8s 1ms/step - loss: 0.1571 - val_loss: 0.1547\n",
      "Epoch 46/100\n",
      "5430/5430 [==============================] - 8s 1ms/step - loss: 0.1571 - val_loss: 0.1543\n",
      "Epoch 47/100\n",
      "5430/5430 [==============================] - 8s 1ms/step - loss: 0.1571 - val_loss: 0.1548\n",
      "Epoch 48/100\n",
      "5430/5430 [==============================] - 8s 1ms/step - loss: 0.1572 - val_loss: 0.1536\n",
      "Epoch 49/100\n",
      "5430/5430 [==============================] - 8s 1ms/step - loss: 0.1573 - val_loss: 0.1544\n",
      "Epoch 49: early stopping\n"
     ]
    },
    {
     "data": {
      "text/plain": [
       "<keras.src.callbacks.History at 0x1ae564ffd50>"
      ]
     },
     "execution_count": 54,
     "metadata": {},
     "output_type": "execute_result"
    }
   ],
   "source": [
    "model12.fit(x=x_train, \n",
    "          y=y_train, \n",
    "          epochs=100,\n",
    "          validation_data=(x_test, y_test), verbose=1,\n",
    "          callbacks=[early_stop]\n",
    "          )"
   ]
  },
  {
   "cell_type": "code",
   "execution_count": 55,
   "metadata": {},
   "outputs": [
    {
     "name": "stdout",
     "output_type": "stream",
     "text": [
      "5430/5430 [==============================] - 5s 914us/step\n",
      "1810/1810 [==============================] - 2s 929us/step\n",
      "              precision    recall  f1-score   support\n",
      "\n",
      "           0       0.95      1.00      0.97    163707\n",
      "           1       0.69      0.08      0.15     10048\n",
      "\n",
      "    accuracy                           0.94    173755\n",
      "   macro avg       0.82      0.54      0.56    173755\n",
      "weighted avg       0.93      0.94      0.92    173755\n",
      "\n",
      "              precision    recall  f1-score   support\n",
      "\n",
      "           0       0.95      1.00      0.97     54560\n",
      "           1       0.65      0.08      0.14      3359\n",
      "\n",
      "    accuracy                           0.94     57919\n",
      "   macro avg       0.80      0.54      0.55     57919\n",
      "weighted avg       0.93      0.94      0.92     57919\n",
      "\n"
     ]
    }
   ],
   "source": [
    "ypred_train12 = model12.predict(x_train)\n",
    "y_pred_test12 = model12.predict(x_test)\n",
    "\n",
    "y_pred_test12 = (y_pred_test12 > 0.5)\n",
    "ypred_train12 = (ypred_train12 > 0.5)\n",
    "\n",
    "print(classification_report(y_train,ypred_train12))\n",
    "print(classification_report(y_test,y_pred_test12))"
   ]
  },
  {
   "cell_type": "code",
   "execution_count": 56,
   "metadata": {},
   "outputs": [
    {
     "name": "stdout",
     "output_type": "stream",
     "text": [
      "1810/1810 [==============================] - 2s 915us/step\n"
     ]
    },
    {
     "data": {
      "image/png": "[encoded data removed]",
      "text/plain": [
       "<Figure size 640x480 with 1 Axes>"
      ]
     },
     "metadata": {},
     "output_type": "display_data"
    }
   ],
   "source": [
    "# cross_val_scores = cross_val_score(model12, x_train, y_train, cv=5)\n",
    "# print(\"Cross-Validation Scores for the Best Model:\", cross_val_scores)\n",
    "# print(\"Average Cross-Validation Score:\", cross_val_scores.mean())\n",
    "\n",
    "y_proba_test = model12.predict(x_test).flatten()\n",
    "\n",
    "\n",
    "fpr, tpr, thresholds = roc_curve(y_test, y_proba_test)\n",
    "\n",
    "\n",
    "plt.plot(fpr, tpr, label='ROC Curve')\n",
    "plt.xlabel('False Positive Rate')\n",
    "plt.ylabel('True Positive Rate')\n",
    "plt.title('ROC Curve with AUC = {:.2f}'.format(roc_auc_score(y_test, y_proba_test)))\n",
    "plt.legend(loc='lower right')\n",
    "plt.grid(True)\n",
    "plt.show()"
   ]
  },
  {
   "cell_type": "markdown",
   "metadata": {},
   "source": [
    "## SVC"
   ]
  },
  {
   "cell_type": "code",
   "execution_count": 57,
   "metadata": {},
   "outputs": [],
   "source": [
    "# model3 = SVC(probability=True)"
   ]
  },
  {
   "cell_type": "code",
   "execution_count": 58,
   "metadata": {},
   "outputs": [],
   "source": [
    "# model3.fit(x_train,y_train)"
   ]
  },
  {
   "cell_type": "code",
   "execution_count": 59,
   "metadata": {},
   "outputs": [],
   "source": [
    "# ypred_train14 = model3.predict(x_train)\n",
    "# y_pred_test14 = model3.predict(x_test)\n",
    "\n",
    "\n",
    "# print(classification_report(y_train,ypred_train14))\n",
    "# print(classification_report(y_test,y_pred_test14))"
   ]
  },
  {
   "cell_type": "code",
   "execution_count": 60,
   "metadata": {},
   "outputs": [],
   "source": [
    "# param_grid = {'C': [0.1,1, 10, 100, 1000], 'gamma': [1,0.1,0.01,0.001,0.0001], 'kernel': ['rbf']} "
   ]
  },
  {
   "cell_type": "code",
   "execution_count": 61,
   "metadata": {},
   "outputs": [],
   "source": [
    "# grid = GridSearchCV(SVC(),param_grid,refit=True,verbose=3)"
   ]
  },
  {
   "cell_type": "code",
   "execution_count": 62,
   "metadata": {},
   "outputs": [],
   "source": [
    "# grid.fit(x_train,y_train) "
   ]
  },
  {
   "cell_type": "code",
   "execution_count": 63,
   "metadata": {},
   "outputs": [],
   "source": [
    "# grid.best_params_"
   ]
  },
  {
   "cell_type": "code",
   "execution_count": 64,
   "metadata": {},
   "outputs": [],
   "source": [
    "# grid.best_estimator_"
   ]
  },
  {
   "cell_type": "code",
   "execution_count": 65,
   "metadata": {},
   "outputs": [],
   "source": [
    "# ypred_train = grid.predict(x_train)\n",
    "# y_pred_test = grid.predict(x_test)\n",
    "\n",
    "# print(classification_report(y_train,ypred_train))\n",
    "# print(classification_report(y_test,y_pred_test))"
   ]
  },
  {
   "cell_type": "code",
   "execution_count": 66,
   "metadata": {},
   "outputs": [],
   "source": [
    "\n",
    "\n",
    "\n",
    "# y_proba_test = grid.predict_proba(x_test)[:, 1]\n",
    "\n",
    "\n",
    "# fpr, tpr, thresholds = roc_curve(y_test, y_proba_test)\n",
    "\n",
    "\n",
    "# plt.plot(fpr, tpr, label='ROC Curve')\n",
    "# plt.xlabel('False Positive Rate')\n",
    "# plt.ylabel('True Positive Rate')\n",
    "# plt.title('ROC Curve with AUC = {:.2f}'.format(roc_auc_score(y_test, y_proba_test)))\n",
    "# plt.legend(loc='lower right')\n",
    "# plt.grid(True)\n",
    "# plt.show()"
   ]
  },
  {
   "cell_type": "code",
   "execution_count": 67,
   "metadata": {},
   "outputs": [
    {
     "name": "stdout",
     "output_type": "stream",
     "text": [
      "Training Results\n",
      "\n",
      "              precision    recall  f1-score   support\n",
      "\n",
      "           0       0.95      1.00      0.97    163707\n",
      "           1       0.70      0.05      0.10     10048\n",
      "\n",
      "    accuracy                           0.94    173755\n",
      "   macro avg       0.82      0.53      0.54    173755\n",
      "weighted avg       0.93      0.94      0.92    173755\n",
      "\n",
      "Testing Results\n",
      "\n",
      "              precision    recall  f1-score   support\n",
      "\n",
      "           0       0.94      1.00      0.97     54560\n",
      "           1       0.65      0.05      0.10      3359\n",
      "\n",
      "    accuracy                           0.94     57919\n",
      "   macro avg       0.80      0.52      0.53     57919\n",
      "weighted avg       0.93      0.94      0.92     57919\n",
      "\n"
     ]
    },
    {
     "data": {
      "image/png": "[encoded data removed]",
      "text/plain": [
       "<Figure size 640x480 with 1 Axes>"
      ]
     },
     "metadata": {},
     "output_type": "display_data"
    }
   ],
   "source": [
    "\n",
    "model3 = SVC(C=0.1, gamma=1, kernel='rbf', probability=True)\n",
    "model3.fit(x_train, y_train)\n",
    "\n",
    "\n",
    "ypred_train14 = model3.predict(x_train)\n",
    "y_pred_test14 = model3.predict(x_test)\n",
    "\n",
    "\n",
    "print(\"Training Results\\n\")\n",
    "print(classification_report(y_train, ypred_train14))\n",
    "print(\"Testing Results\\n\")\n",
    "print(classification_report(y_test, y_pred_test14))\n",
    "\n",
    "# cross_val_scores = cross_val_score(model3, x_train, y_train, cv=5)\n",
    "# print(\"Cross-Validation Scores for the Best Model:\", cross_val_scores)\n",
    "# print(\"Average Cross-Validation Score:\", cross_val_scores.mean())\n",
    "\n",
    "y_proba_test = model3.predict_proba(x_test)[:, 1]\n",
    "fpr, tpr, thresholds = roc_curve(y_test, y_proba_test)\n",
    "plt.plot(fpr, tpr, label='ROC Curve')\n",
    "plt.xlabel('False Positive Rate')\n",
    "plt.ylabel('True Positive Rate')\n",
    "plt.title('ROC Curve with AUC = {:.2f}'.format(roc_auc_score(y_test, y_proba_test)))\n",
    "plt.legend(loc='lower right')\n",
    "plt.grid(True)\n",
    "plt.show()"
   ]
  }
 ],
 "metadata": {
  "kernelspec": {
   "display_name": "Python 3",
   "language": "python",
   "name": "python3"
  },
  "language_info": {
   "codemirror_mode": {
    "name": "ipython",
    "version": 3
   },
   "file_extension": ".py",
   "mimetype": "text/x-python",
   "name": "python",
   "nbconvert_exporter": "python",
   "pygments_lexer": "ipython3",
   "version": "3.11.2"
  }
 },
 "nbformat": 4,
 "nbformat_minor": 2
}
