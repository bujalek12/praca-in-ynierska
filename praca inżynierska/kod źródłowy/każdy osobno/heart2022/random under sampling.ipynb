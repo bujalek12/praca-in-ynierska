{
 "cells": [
  {
   "cell_type": "code",
   "execution_count": 1,
   "metadata": {},
   "outputs": [
    {
     "name": "stdout",
     "output_type": "stream",
     "text": [
      "WARNING:tensorflow:From C:\\Users\\DELL\\AppData\\Roaming\\Python\\Python311\\site-packages\\keras\\src\\losses.py:2976: The name tf.losses.sparse_softmax_cross_entropy is deprecated. Please use tf.compat.v1.losses.sparse_softmax_cross_entropy instead.\n",
      "\n"
     ]
    }
   ],
   "source": [
    "import pandas as pd\n",
    "import numpy as np\n",
    "import matplotlib.pyplot as plt\n",
    "import plotly.express as px\n",
    "from sklearn.preprocessing import LabelEncoder\n",
    "from sklearn.preprocessing import RobustScaler , MinMaxScaler, StandardScaler\n",
    "import seaborn as sns\n",
    "from sklearn.metrics import roc_curve\n",
    "from sklearn.metrics import roc_auc_score\n",
    "import tensorflow as tf\n",
    "from keras.preprocessing.image import ImageDataGenerator\n",
    "from tensorflow.keras.layers import Dropout\n",
    "from tensorflow.keras.models import Sequential\n",
    "from tensorflow.keras.layers import Dense, Activation\n",
    "from tensorflow.keras.callbacks import EarlyStopping\n",
    "from tensorflow.keras.layers import Input,Flatten,Conv1D,MaxPooling1D\n",
    "from sklearn.metrics import classification_report\n",
    "import warnings\n",
    "warnings.filterwarnings('ignore')\n",
    "import missingno as msno\n",
    "from sklearn.model_selection import train_test_split\n",
    "from sklearn.metrics import accuracy_score\n",
    "from sklearn.metrics import mean_absolute_error , mean_absolute_percentage_error , mean_squared_error\n",
    "from sklearn.metrics import r2_score\n",
    "from sklearn.metrics import confusion_matrix\n",
    "from sklearn.model_selection import cross_val_score\n",
    "from sklearn.metrics import RocCurveDisplay\n",
    "from sklearn.model_selection import RepeatedStratifiedKFold\n",
    "from sklearn.metrics import accuracy_score, precision_score, recall_score, f1_score\n",
    "from sklearn.model_selection import GridSearchCV\n",
    "from sklearn.tree import DecisionTreeClassifier\n",
    "from sklearn.ensemble import RandomForestClassifier\n",
    "from sklearn.naive_bayes import GaussianNB\n",
    "from xgboost import XGBClassifier\n",
    "from sklearn.linear_model import LogisticRegression\n",
    "from sklearn.svm import SVC\n",
    "from sklearn.decomposition import PCA\n",
    "from sklearn.ensemble import GradientBoostingClassifier\n",
    "from sklearn.neighbors import KNeighborsClassifier\n",
    "from keras.layers import LSTM\n",
    "from imblearn.under_sampling import RandomUnderSampler\n",
    "from sklearn.preprocessing import MinMaxScaler\n"
   ]
  },
  {
   "cell_type": "markdown",
   "metadata": {},
   "source": [
    "## Random Under-Sampling With Evaluation"
   ]
  },
  {
   "cell_type": "code",
   "execution_count": 2,
   "metadata": {},
   "outputs": [
    {
     "data": {
      "text/html": [
       "<div>\n",
       "<style scoped>\n",
       "    .dataframe tbody tr th:only-of-type {\n",
       "        vertical-align: middle;\n",
       "    }\n",
       "\n",
       "    .dataframe tbody tr th {\n",
       "        vertical-align: top;\n",
       "    }\n",
       "\n",
       "    .dataframe thead th {\n",
       "        text-align: right;\n",
       "    }\n",
       "</style>\n",
       "<table border=\"1\" class=\"dataframe\">\n",
       "  <thead>\n",
       "    <tr style=\"text-align: right;\">\n",
       "      <th></th>\n",
       "      <th>Sex</th>\n",
       "      <th>GeneralHealth</th>\n",
       "      <th>PhysicalHealthDays</th>\n",
       "      <th>MentalHealthDays</th>\n",
       "      <th>PhysicalActivities</th>\n",
       "      <th>SleepHours</th>\n",
       "      <th>HadHeartAttack</th>\n",
       "      <th>HadAngina</th>\n",
       "      <th>HadStroke</th>\n",
       "      <th>HadAsthma</th>\n",
       "      <th>...</th>\n",
       "      <th>AgeCategory</th>\n",
       "      <th>HeightInMeters</th>\n",
       "      <th>WeightInKilograms</th>\n",
       "      <th>BMI</th>\n",
       "      <th>AlcoholDrinkers</th>\n",
       "      <th>HIVTesting</th>\n",
       "      <th>FluVaxLast12</th>\n",
       "      <th>PneumoVaxEver</th>\n",
       "      <th>HighRiskLastYear</th>\n",
       "      <th>CovidPos</th>\n",
       "    </tr>\n",
       "  </thead>\n",
       "  <tbody>\n",
       "    <tr>\n",
       "      <th>0</th>\n",
       "      <td>0</td>\n",
       "      <td>2</td>\n",
       "      <td>4</td>\n",
       "      <td>0</td>\n",
       "      <td>1</td>\n",
       "      <td>9</td>\n",
       "      <td>0</td>\n",
       "      <td>0</td>\n",
       "      <td>0</td>\n",
       "      <td>0</td>\n",
       "      <td>...</td>\n",
       "      <td>10</td>\n",
       "      <td>1.60</td>\n",
       "      <td>71.67</td>\n",
       "      <td>27.99</td>\n",
       "      <td>0</td>\n",
       "      <td>0</td>\n",
       "      <td>1</td>\n",
       "      <td>1</td>\n",
       "      <td>0</td>\n",
       "      <td>0</td>\n",
       "    </tr>\n",
       "    <tr>\n",
       "      <th>1</th>\n",
       "      <td>1</td>\n",
       "      <td>2</td>\n",
       "      <td>0</td>\n",
       "      <td>0</td>\n",
       "      <td>1</td>\n",
       "      <td>6</td>\n",
       "      <td>0</td>\n",
       "      <td>0</td>\n",
       "      <td>0</td>\n",
       "      <td>0</td>\n",
       "      <td>...</td>\n",
       "      <td>11</td>\n",
       "      <td>1.78</td>\n",
       "      <td>95.25</td>\n",
       "      <td>30.13</td>\n",
       "      <td>0</td>\n",
       "      <td>0</td>\n",
       "      <td>1</td>\n",
       "      <td>1</td>\n",
       "      <td>0</td>\n",
       "      <td>0</td>\n",
       "    </tr>\n",
       "    <tr>\n",
       "      <th>2</th>\n",
       "      <td>1</td>\n",
       "      <td>2</td>\n",
       "      <td>0</td>\n",
       "      <td>0</td>\n",
       "      <td>0</td>\n",
       "      <td>8</td>\n",
       "      <td>0</td>\n",
       "      <td>0</td>\n",
       "      <td>0</td>\n",
       "      <td>0</td>\n",
       "      <td>...</td>\n",
       "      <td>12</td>\n",
       "      <td>1.85</td>\n",
       "      <td>108.86</td>\n",
       "      <td>31.66</td>\n",
       "      <td>1</td>\n",
       "      <td>0</td>\n",
       "      <td>0</td>\n",
       "      <td>1</td>\n",
       "      <td>0</td>\n",
       "      <td>1</td>\n",
       "    </tr>\n",
       "    <tr>\n",
       "      <th>3</th>\n",
       "      <td>0</td>\n",
       "      <td>4</td>\n",
       "      <td>5</td>\n",
       "      <td>0</td>\n",
       "      <td>1</td>\n",
       "      <td>9</td>\n",
       "      <td>0</td>\n",
       "      <td>0</td>\n",
       "      <td>0</td>\n",
       "      <td>0</td>\n",
       "      <td>...</td>\n",
       "      <td>13</td>\n",
       "      <td>1.70</td>\n",
       "      <td>90.72</td>\n",
       "      <td>31.32</td>\n",
       "      <td>0</td>\n",
       "      <td>0</td>\n",
       "      <td>1</td>\n",
       "      <td>1</td>\n",
       "      <td>0</td>\n",
       "      <td>1</td>\n",
       "    </tr>\n",
       "    <tr>\n",
       "      <th>4</th>\n",
       "      <td>0</td>\n",
       "      <td>3</td>\n",
       "      <td>3</td>\n",
       "      <td>15</td>\n",
       "      <td>1</td>\n",
       "      <td>5</td>\n",
       "      <td>0</td>\n",
       "      <td>0</td>\n",
       "      <td>0</td>\n",
       "      <td>0</td>\n",
       "      <td>...</td>\n",
       "      <td>13</td>\n",
       "      <td>1.55</td>\n",
       "      <td>79.38</td>\n",
       "      <td>33.07</td>\n",
       "      <td>0</td>\n",
       "      <td>0</td>\n",
       "      <td>1</td>\n",
       "      <td>1</td>\n",
       "      <td>0</td>\n",
       "      <td>0</td>\n",
       "    </tr>\n",
       "  </tbody>\n",
       "</table>\n",
       "<p>5 rows × 36 columns</p>\n",
       "</div>"
      ],
      "text/plain": [
       "   Sex  GeneralHealth  PhysicalHealthDays  MentalHealthDays  \\\n",
       "0    0              2                   4                 0   \n",
       "1    1              2                   0                 0   \n",
       "2    1              2                   0                 0   \n",
       "3    0              4                   5                 0   \n",
       "4    0              3                   3                15   \n",
       "\n",
       "   PhysicalActivities  SleepHours  HadHeartAttack  HadAngina  HadStroke  \\\n",
       "0                   1           9               0          0          0   \n",
       "1                   1           6               0          0          0   \n",
       "2                   0           8               0          0          0   \n",
       "3                   1           9               0          0          0   \n",
       "4                   1           5               0          0          0   \n",
       "\n",
       "   HadAsthma  ...  AgeCategory  HeightInMeters  WeightInKilograms    BMI  \\\n",
       "0          0  ...           10            1.60              71.67  27.99   \n",
       "1          0  ...           11            1.78              95.25  30.13   \n",
       "2          0  ...           12            1.85             108.86  31.66   \n",
       "3          0  ...           13            1.70              90.72  31.32   \n",
       "4          0  ...           13            1.55              79.38  33.07   \n",
       "\n",
       "   AlcoholDrinkers  HIVTesting  FluVaxLast12  PneumoVaxEver  HighRiskLastYear  \\\n",
       "0                0           0             1              1                 0   \n",
       "1                0           0             1              1                 0   \n",
       "2                1           0             0              1                 0   \n",
       "3                0           0             1              1                 0   \n",
       "4                0           0             1              1                 0   \n",
       "\n",
       "   CovidPos  \n",
       "0         0  \n",
       "1         0  \n",
       "2         1  \n",
       "3         1  \n",
       "4         0  \n",
       "\n",
       "[5 rows x 36 columns]"
      ]
     },
     "execution_count": 2,
     "metadata": {},
     "output_type": "execute_result"
    }
   ],
   "source": [
    "df= pd.read_csv('heart2022python.csv')\n",
    "df.head()"
   ]
  },
  {
   "cell_type": "code",
   "execution_count": 3,
   "metadata": {},
   "outputs": [
    {
     "data": {
      "text/plain": [
       "HadHeartAttack\n",
       "0    232587\n",
       "1     13435\n",
       "Name: count, dtype: int64"
      ]
     },
     "execution_count": 3,
     "metadata": {},
     "output_type": "execute_result"
    }
   ],
   "source": [
    "df.drop(['SleepHours',\"DeafOrHardOfHearing\",'BlindOrVisionDifficulty',\"DifficultyConcentrating\",\"DifficultyWalking\",'DifficultyDressingBathing',\"DifficultyErrands\",\"ECigaretteUsage\",\"ChestScan\",'HeightInMeters',\"WeightInKilograms\",\"HIVTesting\",'FluVaxLast12',\"PneumoVaxEver\",\"HighRiskLastYear\",\"CovidPos\"],axis=1,inplace=True)\n",
    "\n",
    "\n",
    "\n",
    "df.shape\n",
    "df['HadHeartAttack'].value_counts()\n"
   ]
  },
  {
   "cell_type": "code",
   "execution_count": 4,
   "metadata": {},
   "outputs": [],
   "source": [
    "df.duplicated().sum()\n",
    "df.drop_duplicates(inplace=True)"
   ]
  },
  {
   "cell_type": "markdown",
   "metadata": {},
   "source": [
    "## splite data"
   ]
  },
  {
   "cell_type": "code",
   "execution_count": 5,
   "metadata": {},
   "outputs": [],
   "source": [
    "x = df.drop([\"HadHeartAttack\"] , axis = 1).values\n",
    "y = df[\"HadHeartAttack\"].values"
   ]
  },
  {
   "cell_type": "code",
   "execution_count": 6,
   "metadata": {},
   "outputs": [],
   "source": [
    "rus = RandomUnderSampler(random_state=42)\n",
    "x_rus, y_rus = rus.fit_resample(x, y)\n",
    "x_train4, x_test4, y_train4, y_test4 = train_test_split(x_rus, y_rus, test_size=0.25, random_state=42)"
   ]
  },
  {
   "cell_type": "code",
   "execution_count": 7,
   "metadata": {},
   "outputs": [
    {
     "name": "stdout",
     "output_type": "stream",
     "text": [
      "20110 20110\n",
      "6704 6704\n"
     ]
    }
   ],
   "source": [
    "from sklearn.preprocessing import MinMaxScaler\n",
    "scaler = MinMaxScaler()\n",
    "x_train4 = scaler.fit_transform(x_train4)\n",
    "x_test4 = scaler.transform(x_test4)\n",
    "print(len(x_train4), len(y_train4))\n",
    "print(len(x_test4), len(y_test4))"
   ]
  },
  {
   "cell_type": "markdown",
   "metadata": {},
   "source": [
    "## Random forest"
   ]
  },
  {
   "cell_type": "code",
   "execution_count": 8,
   "metadata": {},
   "outputs": [
    {
     "name": "stdout",
     "output_type": "stream",
     "text": [
      "Najlepsze parametry:  {'max_depth': 10, 'max_features': 'sqrt', 'min_samples_leaf': 1, 'min_samples_split': 2, 'n_estimators': 200}\n",
      "Training Results\n",
      "\n",
      "              precision    recall  f1-score   support\n",
      "\n",
      "           0       0.81      0.86      0.83     10036\n",
      "           1       0.85      0.80      0.82     10074\n",
      "\n",
      "    accuracy                           0.83     20110\n",
      "   macro avg       0.83      0.83      0.83     20110\n",
      "weighted avg       0.83      0.83      0.83     20110\n",
      "\n",
      "Testing Results\n",
      "\n",
      "              precision    recall  f1-score   support\n",
      "\n",
      "           0       0.77      0.82      0.79      3371\n",
      "           1       0.81      0.75      0.78      3333\n",
      "\n",
      "    accuracy                           0.78      6704\n",
      "   macro avg       0.79      0.78      0.78      6704\n",
      "weighted avg       0.79      0.78      0.78      6704\n",
      "\n",
      "Confusion Matrix:\n",
      " [[2772  599]\n",
      " [ 844 2489]]\n"
     ]
    }
   ],
   "source": [
    "\n",
    "rf = RandomForestClassifier()\n",
    "\n",
    "# Określenie siatki parametrów do przetestowania\n",
    "param_grid = {\n",
    "    'n_estimators': [100, 200, 300],  # Liczba drzew\n",
    "    'max_depth': [10, 20, 30],        # Maksymalna głębokość drzewa\n",
    "    'min_samples_split': [2, 4, 6],   # Minimalna liczba próbek wymagana do podziału węzła\n",
    "    'min_samples_leaf': [1, 2, 4],    # Minimalna liczba próbek wymagana w liściu\n",
    "    'max_features': ['auto', 'sqrt']  # Liczba cech do rozważenia przy każdym podziale\n",
    "}\n",
    "\n",
    "# Utworzenie obiektu GridSearchCV\n",
    "cv_rf = GridSearchCV(estimator=rf, param_grid=param_grid, cv=5, scoring='accuracy')\n",
    "\n",
    "# Przeszukiwanie siatki parametrów\n",
    "cv_rf.fit(x_train4, y_train4)\n",
    "\n",
    "# Najlepszy zestaw parametrów\n",
    "print(\"Najlepsze parametry: \", cv_rf.best_params_)\n",
    "\n",
    "# Najlepszy estimator\n",
    "best_rf = cv_rf.best_estimator_\n",
    "\n",
    "# Predykcje i ocena modelu\n",
    "ypred_train = best_rf.predict(x_train4)\n",
    "ypred_test = best_rf.predict(x_test4)\n",
    "\n",
    "print(\"Training Results\\n\")\n",
    "print(classification_report(y_train4, ypred_train))\n",
    "print(\"Testing Results\\n\")\n",
    "print(classification_report(y_test4, ypred_test))\n",
    "\n",
    "# Macierz pomyłek\n",
    "conf_matrix = confusion_matrix(y_test4, ypred_test)\n",
    "print(\"Confusion Matrix:\\n\", conf_matrix)\n",
    "\n",
    "# Ocena modelu za pomocą walidacji krzyżowej\n",
    "# cross_val_scores = cross_val_score(best_rf, x_train4, y_train4, cv=5)\n",
    "# print(\"Cross-validation scores:\", cross_val_scores)\n",
    "# print(\"Average cross-validation score:\", np.mean(cross_val_scores))"
   ]
  },
  {
   "cell_type": "code",
   "execution_count": 9,
   "metadata": {},
   "outputs": [
    {
     "data": {
      "image/png": "[encoded data removed]",
      "text/plain": [
       "<Figure size 640x480 with 1 Axes>"
      ]
     },
     "metadata": {},
     "output_type": "display_data"
    }
   ],
   "source": [
    "\n",
    "y_proba_test = best_rf.predict_proba(x_test4)[:, 1]\n",
    "\n",
    "fpr, tpr, thresholds = roc_curve(y_test4, y_proba_test)\n",
    "\n",
    "\n",
    "plt.plot(fpr, tpr, label='ROC Curve')\n",
    "plt.xlabel('False Positive Rate')\n",
    "plt.ylabel('True Positive Rate')\n",
    "plt.title('ROC Curve with AUC = {:.2f}'.format(roc_auc_score(y_test4, y_proba_test)))\n",
    "plt.legend(loc='lower right')\n",
    "plt.grid(True)\n",
    "plt.show()"
   ]
  },
  {
   "cell_type": "markdown",
   "metadata": {},
   "source": [
    "## DECISION TREE CLASSIFIER"
   ]
  },
  {
   "cell_type": "code",
   "execution_count": 10,
   "metadata": {},
   "outputs": [
    {
     "name": "stdout",
     "output_type": "stream",
     "text": [
      "Najlepsze parametry: {'criterion': 'entropy', 'max_depth': 10, 'min_samples_leaf': 1, 'min_samples_split': 10}\n",
      "Najlepsza dokładność: 0.7779214321233218\n",
      "Training Results\n",
      "\n",
      "              precision    recall  f1-score   support\n",
      "\n",
      "           0       0.80      0.83      0.82     10036\n",
      "           1       0.83      0.79      0.81     10074\n",
      "\n",
      "    accuracy                           0.81     20110\n",
      "   macro avg       0.81      0.81      0.81     20110\n",
      "weighted avg       0.81      0.81      0.81     20110\n",
      "\n",
      "Testing Results\n",
      "\n",
      "              precision    recall  f1-score   support\n",
      "\n",
      "           0       0.76      0.80      0.78      3371\n",
      "           1       0.79      0.74      0.76      3333\n",
      "\n",
      "    accuracy                           0.77      6704\n",
      "   macro avg       0.77      0.77      0.77      6704\n",
      "weighted avg       0.77      0.77      0.77      6704\n",
      "\n"
     ]
    }
   ],
   "source": [
    "\n",
    "# Parametry do przetestowania w Grid Search\n",
    "param_grid = {\n",
    "    'max_depth': [3, 5, 10, None],\n",
    "    'min_samples_split': [2, 5, 10],\n",
    "    'min_samples_leaf': [1, 2, 5],\n",
    "    'criterion': ['gini', 'entropy']\n",
    "}\n",
    "\n",
    "# Utworzenie modelu drzewa decyzyjnego\n",
    "tree = DecisionTreeClassifier()\n",
    "\n",
    "# Uruchomienie Grid Search z walidacją krzyżową\n",
    "grid_search = GridSearchCV(tree, param_grid, cv=5, scoring='accuracy')\n",
    "grid_search.fit(x_train4, y_train4)\n",
    "\n",
    "# Wyświetlenie najlepszych parametrów i wyników\n",
    "print(\"Najlepsze parametry:\", grid_search.best_params_)\n",
    "print(\"Najlepsza dokładność:\", grid_search.best_score_)\n",
    "\n",
    "# Utworzenie i ocena modelu z najlepszymi parametrami\n",
    "best_tree = grid_search.best_estimator_\n",
    "best_tree.fit(x_train4, y_train4)\n",
    "\n",
    "ypred_train2 = best_tree.predict(x_train4)\n",
    "ypred_test2 = best_tree.predict(x_test4)\n",
    "\n",
    "# Ocena modelu na zbiorze testowym\n",
    "\n",
    "print(\"Training Results\\n\")\n",
    "print(classification_report(y_train4, ypred_train2))\n",
    "print('Testing Results\\n')\n",
    "print(classification_report(y_test4, ypred_test2))\n",
    "\n",
    "# # Dodatkowo: Walidacja krzyżowa dla najlepszego modelu na całym zbiorze danych\n",
    "# cross_val_scores = cross_val_score(best_tree, x_train4, y_train4, cv=5)\n",
    "# print(\"Cross-Validation Scores for the Best Model:\", cross_val_scores)\n",
    "# print(\"Average Cross-Validation Score:\", cross_val_scores.mean())"
   ]
  },
  {
   "cell_type": "code",
   "execution_count": 11,
   "metadata": {},
   "outputs": [
    {
     "data": {
      "image/png": "[encoded data removed]",
      "text/plain": [
       "<Figure size 640x480 with 1 Axes>"
      ]
     },
     "metadata": {},
     "output_type": "display_data"
    }
   ],
   "source": [
    "\n",
    "y_proba_test = best_tree.predict_proba(x_test4)[:, 1]\n",
    "\n",
    "\n",
    "fpr, tpr, thresholds = roc_curve(y_test4, y_proba_test)\n",
    "\n",
    "\n",
    "plt.plot(fpr, tpr, label='ROC Curve')\n",
    "plt.xlabel('False Positive Rate')\n",
    "plt.ylabel('True Positive Rate')\n",
    "plt.title('ROC Curve with AUC = {:.2f}'.format(roc_auc_score(y_test4, y_proba_test)))\n",
    "plt.legend(loc='lower right')\n",
    "plt.grid(True)\n",
    "plt.show()"
   ]
  },
  {
   "cell_type": "markdown",
   "metadata": {},
   "source": [
    "## Naive Bayes"
   ]
  },
  {
   "cell_type": "code",
   "execution_count": 12,
   "metadata": {},
   "outputs": [
    {
     "name": "stdout",
     "output_type": "stream",
     "text": [
      "Naive Bayes Classifier Accuracy:  0.7749105011933174\n"
     ]
    }
   ],
   "source": [
    "Gnb = GaussianNB()\n",
    "Gnb.fit(x_train4, y_train4)\n",
    "ypred_train3 = Gnb.predict(x_train4)\n",
    "y_pred_test3 = Gnb.predict(x_test4)\n",
    "\n",
    "print(\"Naive Bayes Classifier Accuracy: \",accuracy_score(y_test4, y_pred_test3))"
   ]
  },
  {
   "cell_type": "code",
   "execution_count": 13,
   "metadata": {},
   "outputs": [
    {
     "name": "stdout",
     "output_type": "stream",
     "text": [
      "Training Results\n",
      "\n",
      "              precision    recall  f1-score   support\n",
      "\n",
      "           0       0.76      0.82      0.79     10036\n",
      "           1       0.81      0.73      0.77     10074\n",
      "\n",
      "    accuracy                           0.78     20110\n",
      "   macro avg       0.78      0.78      0.78     20110\n",
      "weighted avg       0.78      0.78      0.78     20110\n",
      "\n",
      "Testing Results\n",
      "\n",
      "              precision    recall  f1-score   support\n",
      "\n",
      "           0       0.75      0.83      0.79      3371\n",
      "           1       0.81      0.72      0.76      3333\n",
      "\n",
      "    accuracy                           0.77      6704\n",
      "   macro avg       0.78      0.77      0.77      6704\n",
      "weighted avg       0.78      0.77      0.77      6704\n",
      "\n"
     ]
    }
   ],
   "source": [
    "print(\"Training Results\\n\")\n",
    "print(classification_report(y_train4, ypred_train3))\n",
    "print('Testing Results\\n')\n",
    "print(classification_report(y_test4, y_pred_test3))"
   ]
  },
  {
   "cell_type": "code",
   "execution_count": 14,
   "metadata": {},
   "outputs": [
    {
     "data": {
      "image/png": "[encoded data removed]",
      "text/plain": [
       "<Figure size 640x480 with 1 Axes>"
      ]
     },
     "metadata": {},
     "output_type": "display_data"
    }
   ],
   "source": [
    "# cross_val_scores = cross_val_score(Gnb, x_train4, y_train4, cv=5)\n",
    "# print(\"Cross-validation scores:\", cross_val_scores)\n",
    "# print(\"Average cross-validation score:\", np.mean(cross_val_scores))\n",
    "y_proba_test = Gnb.predict_proba(x_test4)[:, 1]\n",
    "\n",
    "\n",
    "fpr, tpr, thresholds = roc_curve(y_test4, y_proba_test)\n",
    "\n",
    "\n",
    "plt.plot(fpr, tpr, label='ROC Curve')\n",
    "plt.xlabel('False Positive Rate')\n",
    "plt.ylabel('True Positive Rate')\n",
    "plt.title('ROC Curve with AUC = {:.2f}'.format(roc_auc_score(y_test4, y_proba_test)))\n",
    "plt.legend(loc='lower right')\n",
    "plt.grid(True)\n",
    "plt.show()"
   ]
  },
  {
   "cell_type": "markdown",
   "metadata": {},
   "source": [
    "## XGBOSST\n"
   ]
  },
  {
   "cell_type": "code",
   "execution_count": 15,
   "metadata": {},
   "outputs": [
    {
     "name": "stdout",
     "output_type": "stream",
     "text": [
      "Najlepsze parametry:  {'colsample_bytree': 0.9, 'learning_rate': 0.1, 'max_depth': 3, 'n_estimators': 100, 'subsample': 0.8}\n",
      "Accuracy on Training set:  0.799801093983093\n",
      "Accuracy on Test set:  0.7862470167064439\n",
      "\n",
      "Training Results\n",
      "\n",
      "              precision    recall  f1-score   support\n",
      "\n",
      "           0       0.78      0.83      0.80     10036\n",
      "           1       0.82      0.77      0.79     10074\n",
      "\n",
      "    accuracy                           0.80     20110\n",
      "   macro avg       0.80      0.80      0.80     20110\n",
      "weighted avg       0.80      0.80      0.80     20110\n",
      "\n",
      "Testing Results\n",
      "\n",
      "              precision    recall  f1-score   support\n",
      "\n",
      "           0       0.77      0.82      0.79      3371\n",
      "           1       0.81      0.75      0.78      3333\n",
      "\n",
      "    accuracy                           0.79      6704\n",
      "   macro avg       0.79      0.79      0.79      6704\n",
      "weighted avg       0.79      0.79      0.79      6704\n",
      "\n"
     ]
    },
    {
     "data": {
      "image/png": "[encoded data removed]",
      "text/plain": [
       "<Figure size 640x480 with 1 Axes>"
      ]
     },
     "metadata": {},
     "output_type": "display_data"
    }
   ],
   "source": [
    "# Inicjalizacja modelu XGBoost\n",
    "xg = XGBClassifier()\n",
    "\n",
    "# Definiowanie siatki hiperparametrów do przetestowania\n",
    "param_grid = {\n",
    "    'n_estimators': [50, 100, 200],\n",
    "    'max_depth': [3, 5, 7],\n",
    "    'learning_rate': [0.01, 0.1, 0.2],\n",
    "    'subsample': [0.7, 0.8, 0.9],\n",
    "    'colsample_bytree': [0.7, 0.8, 0.9]\n",
    "}\n",
    "\n",
    "# Utworzenie obiektu GridSearchCV\n",
    "grid_search = GridSearchCV(estimator=xg, param_grid=param_grid, cv=3, scoring='accuracy')\n",
    "\n",
    "# Przeszukiwanie siatki parametrów\n",
    "grid_search.fit(x_train4, y_train4)\n",
    "\n",
    "# Najlepsze parametry i najlepszy model\n",
    "print(\"Najlepsze parametry: \", grid_search.best_params_)\n",
    "best_xg = grid_search.best_estimator_\n",
    "\n",
    "# Predykcje na zbiorze treningowym i testowym\n",
    "ypred_train4 = best_xg.predict(x_train4)\n",
    "y_pred_test4 = best_xg.predict(x_test4)\n",
    "\n",
    "# Ocena modelu\n",
    "print(\"Accuracy on Training set: \", accuracy_score(y_train4, ypred_train4))\n",
    "print(\"Accuracy on Test set: \", accuracy_score(y_test4, y_pred_test4))\n",
    "print(\"\\nTraining Results\\n\")\n",
    "print(classification_report(y_train4, ypred_train4))\n",
    "print('Testing Results\\n')\n",
    "print(classification_report(y_test4, y_pred_test4))\n",
    "\n",
    "# cross_val_scores = cross_val_score(best_xg, x_train4, y_train4, cv=5)\n",
    "# print(\"Cross-validation scores:\", cross_val_scores)\n",
    "# print(\"Average cross-validation score:\", np.mean(cross_val_scores))\n",
    "\n",
    "# Krzywa ROC\n",
    "y_proba_test4 = best_xg.predict_proba(x_test4)[:, 1]\n",
    "fpr, tpr, thresholds = roc_curve(y_test4, y_proba_test4)\n",
    "plt.plot(fpr, tpr)\n",
    "plt.title(\"ROC Curve with AUC = {:.2f}\".format(roc_auc_score(y_test4, y_proba_test4)))\n",
    "plt.show()"
   ]
  },
  {
   "cell_type": "markdown",
   "metadata": {},
   "source": [
    "## logistic regression"
   ]
  },
  {
   "cell_type": "code",
   "execution_count": 16,
   "metadata": {},
   "outputs": [
    {
     "name": "stdout",
     "output_type": "stream",
     "text": [
      "Najlepsze parametry:  {'C': 10, 'penalty': 'l2', 'solver': 'liblinear'}\n",
      "Accuracy on Training set:  0.7922923918448533\n",
      "Accuracy on Test set:  0.7878878281622912\n",
      "\n",
      "Training Results\n",
      "\n",
      "              precision    recall  f1-score   support\n",
      "\n",
      "           0       0.77      0.84      0.80     10036\n",
      "           1       0.82      0.75      0.78     10074\n",
      "\n",
      "    accuracy                           0.79     20110\n",
      "   macro avg       0.79      0.79      0.79     20110\n",
      "weighted avg       0.79      0.79      0.79     20110\n",
      "\n",
      "Testing Results\n",
      "\n",
      "              precision    recall  f1-score   support\n",
      "\n",
      "           0       0.76      0.84      0.80      3371\n",
      "           1       0.82      0.73      0.77      3333\n",
      "\n",
      "    accuracy                           0.79      6704\n",
      "   macro avg       0.79      0.79      0.79      6704\n",
      "weighted avg       0.79      0.79      0.79      6704\n",
      "\n"
     ]
    },
    {
     "data": {
      "image/png": "[encoded data removed]",
      "text/plain": [
       "<Figure size 640x480 with 1 Axes>"
      ]
     },
     "metadata": {},
     "output_type": "display_data"
    }
   ],
   "source": [
    "# Inicjalizacja modelu regresji logistycznej\n",
    "lg = LogisticRegression()\n",
    "\n",
    "# Definiowanie siatki hiperparametrów do przetestowania\n",
    "param_grid = {\n",
    "    'C': [0.01, 0.1, 1, 10, 100],  # Parametr regularyzacji\n",
    "    'penalty': ['l1', 'l2'],       # Typ regularyzacji\n",
    "    'solver': ['liblinear']        # Algorytm optymalizacji (liblinear jest dobrym wyborem dla małych zbiorów danych)\n",
    "}\n",
    "\n",
    "# Utworzenie obiektu GridSearchCV\n",
    "grid_search = GridSearchCV(estimator=lg, param_grid=param_grid, cv=5, scoring='accuracy')\n",
    "\n",
    "# Przeszukiwanie siatki parametrów\n",
    "grid_search.fit(x_train4, y_train4)\n",
    "\n",
    "# Najlepsze parametry i najlepszy model\n",
    "print(\"Najlepsze parametry: \", grid_search.best_params_)\n",
    "best_lg = grid_search.best_estimator_\n",
    "\n",
    "# Predykcje na zbiorze treningowym i testowym\n",
    "ypred_train4 = best_lg.predict(x_train4)\n",
    "y_pred_test4 = best_lg.predict(x_test4)\n",
    "\n",
    "# Ocena modelu\n",
    "print(\"Accuracy on Training set: \", accuracy_score(y_train4, ypred_train4))\n",
    "print(\"Accuracy on Test set: \", accuracy_score(y_test4, y_pred_test4))\n",
    "print(\"\\nTraining Results\\n\")\n",
    "print(classification_report(y_train4, ypred_train4))\n",
    "print('Testing Results\\n')\n",
    "print(classification_report(y_test4, y_pred_test4))\n",
    "\n",
    "# cross_val_scores = cross_val_score(best_lg, x_train4, y_train4, cv=5)\n",
    "# print(\"Cross-validation scores:\", cross_val_scores)\n",
    "# print(\"Average cross-validation score:\", np.mean(cross_val_scores))\n",
    "\n",
    "# Krzywa ROC\n",
    "y_proba_test4 = best_lg.predict_proba(x_test4)[:, 1]\n",
    "fpr, tpr, thresholds = roc_curve(y_test4, y_proba_test4)\n",
    "plt.plot(fpr, tpr)\n",
    "plt.title(\"ROC Curve with AUC = {:.2f}\".format(roc_auc_score(y_test4, y_proba_test4)))\n",
    "plt.show()"
   ]
  },
  {
   "cell_type": "markdown",
   "metadata": {},
   "source": [
    "## GradientBoostingClassifier"
   ]
  },
  {
   "cell_type": "code",
   "execution_count": 17,
   "metadata": {},
   "outputs": [
    {
     "ename": "KeyboardInterrupt",
     "evalue": "",
     "output_type": "error",
     "traceback": [
      "\u001b[1;31m---------------------------------------------------------------------------\u001b[0m",
      "\u001b[1;31mKeyboardInterrupt\u001b[0m                         Traceback (most recent call last)",
      "Cell \u001b[1;32mIn[17], line 17\u001b[0m\n\u001b[0;32m     14\u001b[0m grid_search \u001b[38;5;241m=\u001b[39m GridSearchCV(estimator\u001b[38;5;241m=\u001b[39mgb, param_grid\u001b[38;5;241m=\u001b[39mparam_grid, cv\u001b[38;5;241m=\u001b[39m\u001b[38;5;241m5\u001b[39m, scoring\u001b[38;5;241m=\u001b[39m\u001b[38;5;124m'\u001b[39m\u001b[38;5;124maccuracy\u001b[39m\u001b[38;5;124m'\u001b[39m)\n\u001b[0;32m     16\u001b[0m \u001b[38;5;66;03m# Przeszukiwanie siatki parametrów\u001b[39;00m\n\u001b[1;32m---> 17\u001b[0m grid_search\u001b[38;5;241m.\u001b[39mfit(x_train4, y_train4)\n\u001b[0;32m     19\u001b[0m \u001b[38;5;66;03m# Najlepsze parametry i najlepszy model\u001b[39;00m\n\u001b[0;32m     20\u001b[0m \u001b[38;5;28mprint\u001b[39m(\u001b[38;5;124m\"\u001b[39m\u001b[38;5;124mNajlepsze parametry: \u001b[39m\u001b[38;5;124m\"\u001b[39m, grid_search\u001b[38;5;241m.\u001b[39mbest_params_)\n",
      "File \u001b[1;32m~\\AppData\\Roaming\\Python\\Python311\\site-packages\\sklearn\\base.py:1152\u001b[0m, in \u001b[0;36m_fit_context.<locals>.decorator.<locals>.wrapper\u001b[1;34m(estimator, *args, **kwargs)\u001b[0m\n\u001b[0;32m   1145\u001b[0m     estimator\u001b[38;5;241m.\u001b[39m_validate_params()\n\u001b[0;32m   1147\u001b[0m \u001b[38;5;28;01mwith\u001b[39;00m config_context(\n\u001b[0;32m   1148\u001b[0m     skip_parameter_validation\u001b[38;5;241m=\u001b[39m(\n\u001b[0;32m   1149\u001b[0m         prefer_skip_nested_validation \u001b[38;5;129;01mor\u001b[39;00m global_skip_validation\n\u001b[0;32m   1150\u001b[0m     )\n\u001b[0;32m   1151\u001b[0m ):\n\u001b[1;32m-> 1152\u001b[0m     \u001b[38;5;28;01mreturn\u001b[39;00m fit_method(estimator, \u001b[38;5;241m*\u001b[39margs, \u001b[38;5;241m*\u001b[39m\u001b[38;5;241m*\u001b[39mkwargs)\n",
      "File \u001b[1;32m~\\AppData\\Roaming\\Python\\Python311\\site-packages\\sklearn\\model_selection\\_search.py:898\u001b[0m, in \u001b[0;36mBaseSearchCV.fit\u001b[1;34m(self, X, y, groups, **fit_params)\u001b[0m\n\u001b[0;32m    892\u001b[0m     results \u001b[38;5;241m=\u001b[39m \u001b[38;5;28mself\u001b[39m\u001b[38;5;241m.\u001b[39m_format_results(\n\u001b[0;32m    893\u001b[0m         all_candidate_params, n_splits, all_out, all_more_results\n\u001b[0;32m    894\u001b[0m     )\n\u001b[0;32m    896\u001b[0m     \u001b[38;5;28;01mreturn\u001b[39;00m results\n\u001b[1;32m--> 898\u001b[0m \u001b[38;5;28mself\u001b[39m\u001b[38;5;241m.\u001b[39m_run_search(evaluate_candidates)\n\u001b[0;32m    900\u001b[0m \u001b[38;5;66;03m# multimetric is determined here because in the case of a callable\u001b[39;00m\n\u001b[0;32m    901\u001b[0m \u001b[38;5;66;03m# self.scoring the return type is only known after calling\u001b[39;00m\n\u001b[0;32m    902\u001b[0m first_test_score \u001b[38;5;241m=\u001b[39m all_out[\u001b[38;5;241m0\u001b[39m][\u001b[38;5;124m\"\u001b[39m\u001b[38;5;124mtest_scores\u001b[39m\u001b[38;5;124m\"\u001b[39m]\n",
      "File \u001b[1;32m~\\AppData\\Roaming\\Python\\Python311\\site-packages\\sklearn\\model_selection\\_search.py:1422\u001b[0m, in \u001b[0;36mGridSearchCV._run_search\u001b[1;34m(self, evaluate_candidates)\u001b[0m\n\u001b[0;32m   1420\u001b[0m \u001b[38;5;28;01mdef\u001b[39;00m \u001b[38;5;21m_run_search\u001b[39m(\u001b[38;5;28mself\u001b[39m, evaluate_candidates):\n\u001b[0;32m   1421\u001b[0m \u001b[38;5;250m    \u001b[39m\u001b[38;5;124;03m\"\"\"Search all candidates in param_grid\"\"\"\u001b[39;00m\n\u001b[1;32m-> 1422\u001b[0m     evaluate_candidates(ParameterGrid(\u001b[38;5;28mself\u001b[39m\u001b[38;5;241m.\u001b[39mparam_grid))\n",
      "File \u001b[1;32m~\\AppData\\Roaming\\Python\\Python311\\site-packages\\sklearn\\model_selection\\_search.py:845\u001b[0m, in \u001b[0;36mBaseSearchCV.fit.<locals>.evaluate_candidates\u001b[1;34m(candidate_params, cv, more_results)\u001b[0m\n\u001b[0;32m    837\u001b[0m \u001b[38;5;28;01mif\u001b[39;00m \u001b[38;5;28mself\u001b[39m\u001b[38;5;241m.\u001b[39mverbose \u001b[38;5;241m>\u001b[39m \u001b[38;5;241m0\u001b[39m:\n\u001b[0;32m    838\u001b[0m     \u001b[38;5;28mprint\u001b[39m(\n\u001b[0;32m    839\u001b[0m         \u001b[38;5;124m\"\u001b[39m\u001b[38;5;124mFitting \u001b[39m\u001b[38;5;132;01m{0}\u001b[39;00m\u001b[38;5;124m folds for each of \u001b[39m\u001b[38;5;132;01m{1}\u001b[39;00m\u001b[38;5;124m candidates,\u001b[39m\u001b[38;5;124m\"\u001b[39m\n\u001b[0;32m    840\u001b[0m         \u001b[38;5;124m\"\u001b[39m\u001b[38;5;124m totalling \u001b[39m\u001b[38;5;132;01m{2}\u001b[39;00m\u001b[38;5;124m fits\u001b[39m\u001b[38;5;124m\"\u001b[39m\u001b[38;5;241m.\u001b[39mformat(\n\u001b[0;32m    841\u001b[0m             n_splits, n_candidates, n_candidates \u001b[38;5;241m*\u001b[39m n_splits\n\u001b[0;32m    842\u001b[0m         )\n\u001b[0;32m    843\u001b[0m     )\n\u001b[1;32m--> 845\u001b[0m out \u001b[38;5;241m=\u001b[39m parallel(\n\u001b[0;32m    846\u001b[0m     delayed(_fit_and_score)(\n\u001b[0;32m    847\u001b[0m         clone(base_estimator),\n\u001b[0;32m    848\u001b[0m         X,\n\u001b[0;32m    849\u001b[0m         y,\n\u001b[0;32m    850\u001b[0m         train\u001b[38;5;241m=\u001b[39mtrain,\n\u001b[0;32m    851\u001b[0m         test\u001b[38;5;241m=\u001b[39mtest,\n\u001b[0;32m    852\u001b[0m         parameters\u001b[38;5;241m=\u001b[39mparameters,\n\u001b[0;32m    853\u001b[0m         split_progress\u001b[38;5;241m=\u001b[39m(split_idx, n_splits),\n\u001b[0;32m    854\u001b[0m         candidate_progress\u001b[38;5;241m=\u001b[39m(cand_idx, n_candidates),\n\u001b[0;32m    855\u001b[0m         \u001b[38;5;241m*\u001b[39m\u001b[38;5;241m*\u001b[39mfit_and_score_kwargs,\n\u001b[0;32m    856\u001b[0m     )\n\u001b[0;32m    857\u001b[0m     \u001b[38;5;28;01mfor\u001b[39;00m (cand_idx, parameters), (split_idx, (train, test)) \u001b[38;5;129;01min\u001b[39;00m product(\n\u001b[0;32m    858\u001b[0m         \u001b[38;5;28menumerate\u001b[39m(candidate_params), \u001b[38;5;28menumerate\u001b[39m(cv\u001b[38;5;241m.\u001b[39msplit(X, y, groups))\n\u001b[0;32m    859\u001b[0m     )\n\u001b[0;32m    860\u001b[0m )\n\u001b[0;32m    862\u001b[0m \u001b[38;5;28;01mif\u001b[39;00m \u001b[38;5;28mlen\u001b[39m(out) \u001b[38;5;241m<\u001b[39m \u001b[38;5;241m1\u001b[39m:\n\u001b[0;32m    863\u001b[0m     \u001b[38;5;28;01mraise\u001b[39;00m \u001b[38;5;167;01mValueError\u001b[39;00m(\n\u001b[0;32m    864\u001b[0m         \u001b[38;5;124m\"\u001b[39m\u001b[38;5;124mNo fits were performed. \u001b[39m\u001b[38;5;124m\"\u001b[39m\n\u001b[0;32m    865\u001b[0m         \u001b[38;5;124m\"\u001b[39m\u001b[38;5;124mWas the CV iterator empty? \u001b[39m\u001b[38;5;124m\"\u001b[39m\n\u001b[0;32m    866\u001b[0m         \u001b[38;5;124m\"\u001b[39m\u001b[38;5;124mWere there no candidates?\u001b[39m\u001b[38;5;124m\"\u001b[39m\n\u001b[0;32m    867\u001b[0m     )\n",
      "File \u001b[1;32m~\\AppData\\Roaming\\Python\\Python311\\site-packages\\sklearn\\utils\\parallel.py:65\u001b[0m, in \u001b[0;36mParallel.__call__\u001b[1;34m(self, iterable)\u001b[0m\n\u001b[0;32m     60\u001b[0m config \u001b[38;5;241m=\u001b[39m get_config()\n\u001b[0;32m     61\u001b[0m iterable_with_config \u001b[38;5;241m=\u001b[39m (\n\u001b[0;32m     62\u001b[0m     (_with_config(delayed_func, config), args, kwargs)\n\u001b[0;32m     63\u001b[0m     \u001b[38;5;28;01mfor\u001b[39;00m delayed_func, args, kwargs \u001b[38;5;129;01min\u001b[39;00m iterable\n\u001b[0;32m     64\u001b[0m )\n\u001b[1;32m---> 65\u001b[0m \u001b[38;5;28;01mreturn\u001b[39;00m \u001b[38;5;28msuper\u001b[39m()\u001b[38;5;241m.\u001b[39m\u001b[38;5;21m__call__\u001b[39m(iterable_with_config)\n",
      "File \u001b[1;32m~\\AppData\\Roaming\\Python\\Python311\\site-packages\\joblib\\parallel.py:1863\u001b[0m, in \u001b[0;36mParallel.__call__\u001b[1;34m(self, iterable)\u001b[0m\n\u001b[0;32m   1861\u001b[0m     output \u001b[38;5;241m=\u001b[39m \u001b[38;5;28mself\u001b[39m\u001b[38;5;241m.\u001b[39m_get_sequential_output(iterable)\n\u001b[0;32m   1862\u001b[0m     \u001b[38;5;28mnext\u001b[39m(output)\n\u001b[1;32m-> 1863\u001b[0m     \u001b[38;5;28;01mreturn\u001b[39;00m output \u001b[38;5;28;01mif\u001b[39;00m \u001b[38;5;28mself\u001b[39m\u001b[38;5;241m.\u001b[39mreturn_generator \u001b[38;5;28;01melse\u001b[39;00m \u001b[38;5;28mlist\u001b[39m(output)\n\u001b[0;32m   1865\u001b[0m \u001b[38;5;66;03m# Let's create an ID that uniquely identifies the current call. If the\u001b[39;00m\n\u001b[0;32m   1866\u001b[0m \u001b[38;5;66;03m# call is interrupted early and that the same instance is immediately\u001b[39;00m\n\u001b[0;32m   1867\u001b[0m \u001b[38;5;66;03m# re-used, this id will be used to prevent workers that were\u001b[39;00m\n\u001b[0;32m   1868\u001b[0m \u001b[38;5;66;03m# concurrently finalizing a task from the previous call to run the\u001b[39;00m\n\u001b[0;32m   1869\u001b[0m \u001b[38;5;66;03m# callback.\u001b[39;00m\n\u001b[0;32m   1870\u001b[0m \u001b[38;5;28;01mwith\u001b[39;00m \u001b[38;5;28mself\u001b[39m\u001b[38;5;241m.\u001b[39m_lock:\n",
      "File \u001b[1;32m~\\AppData\\Roaming\\Python\\Python311\\site-packages\\joblib\\parallel.py:1792\u001b[0m, in \u001b[0;36mParallel._get_sequential_output\u001b[1;34m(self, iterable)\u001b[0m\n\u001b[0;32m   1790\u001b[0m \u001b[38;5;28mself\u001b[39m\u001b[38;5;241m.\u001b[39mn_dispatched_batches \u001b[38;5;241m+\u001b[39m\u001b[38;5;241m=\u001b[39m \u001b[38;5;241m1\u001b[39m\n\u001b[0;32m   1791\u001b[0m \u001b[38;5;28mself\u001b[39m\u001b[38;5;241m.\u001b[39mn_dispatched_tasks \u001b[38;5;241m+\u001b[39m\u001b[38;5;241m=\u001b[39m \u001b[38;5;241m1\u001b[39m\n\u001b[1;32m-> 1792\u001b[0m res \u001b[38;5;241m=\u001b[39m func(\u001b[38;5;241m*\u001b[39margs, \u001b[38;5;241m*\u001b[39m\u001b[38;5;241m*\u001b[39mkwargs)\n\u001b[0;32m   1793\u001b[0m \u001b[38;5;28mself\u001b[39m\u001b[38;5;241m.\u001b[39mn_completed_tasks \u001b[38;5;241m+\u001b[39m\u001b[38;5;241m=\u001b[39m \u001b[38;5;241m1\u001b[39m\n\u001b[0;32m   1794\u001b[0m \u001b[38;5;28mself\u001b[39m\u001b[38;5;241m.\u001b[39mprint_progress()\n",
      "File \u001b[1;32m~\\AppData\\Roaming\\Python\\Python311\\site-packages\\sklearn\\utils\\parallel.py:127\u001b[0m, in \u001b[0;36m_FuncWrapper.__call__\u001b[1;34m(self, *args, **kwargs)\u001b[0m\n\u001b[0;32m    125\u001b[0m     config \u001b[38;5;241m=\u001b[39m {}\n\u001b[0;32m    126\u001b[0m \u001b[38;5;28;01mwith\u001b[39;00m config_context(\u001b[38;5;241m*\u001b[39m\u001b[38;5;241m*\u001b[39mconfig):\n\u001b[1;32m--> 127\u001b[0m     \u001b[38;5;28;01mreturn\u001b[39;00m \u001b[38;5;28mself\u001b[39m\u001b[38;5;241m.\u001b[39mfunction(\u001b[38;5;241m*\u001b[39margs, \u001b[38;5;241m*\u001b[39m\u001b[38;5;241m*\u001b[39mkwargs)\n",
      "File \u001b[1;32m~\\AppData\\Roaming\\Python\\Python311\\site-packages\\sklearn\\model_selection\\_validation.py:729\u001b[0m, in \u001b[0;36m_fit_and_score\u001b[1;34m(estimator, X, y, scorer, train, test, verbose, parameters, fit_params, return_train_score, return_parameters, return_n_test_samples, return_times, return_estimator, split_progress, candidate_progress, error_score)\u001b[0m\n\u001b[0;32m    727\u001b[0m         estimator\u001b[38;5;241m.\u001b[39mfit(X_train, \u001b[38;5;241m*\u001b[39m\u001b[38;5;241m*\u001b[39mfit_params)\n\u001b[0;32m    728\u001b[0m     \u001b[38;5;28;01melse\u001b[39;00m:\n\u001b[1;32m--> 729\u001b[0m         estimator\u001b[38;5;241m.\u001b[39mfit(X_train, y_train, \u001b[38;5;241m*\u001b[39m\u001b[38;5;241m*\u001b[39mfit_params)\n\u001b[0;32m    731\u001b[0m \u001b[38;5;28;01mexcept\u001b[39;00m \u001b[38;5;167;01mException\u001b[39;00m:\n\u001b[0;32m    732\u001b[0m     \u001b[38;5;66;03m# Note fit time as time until error\u001b[39;00m\n\u001b[0;32m    733\u001b[0m     fit_time \u001b[38;5;241m=\u001b[39m time\u001b[38;5;241m.\u001b[39mtime() \u001b[38;5;241m-\u001b[39m start_time\n",
      "File \u001b[1;32m~\\AppData\\Roaming\\Python\\Python311\\site-packages\\sklearn\\base.py:1152\u001b[0m, in \u001b[0;36m_fit_context.<locals>.decorator.<locals>.wrapper\u001b[1;34m(estimator, *args, **kwargs)\u001b[0m\n\u001b[0;32m   1145\u001b[0m     estimator\u001b[38;5;241m.\u001b[39m_validate_params()\n\u001b[0;32m   1147\u001b[0m \u001b[38;5;28;01mwith\u001b[39;00m config_context(\n\u001b[0;32m   1148\u001b[0m     skip_parameter_validation\u001b[38;5;241m=\u001b[39m(\n\u001b[0;32m   1149\u001b[0m         prefer_skip_nested_validation \u001b[38;5;129;01mor\u001b[39;00m global_skip_validation\n\u001b[0;32m   1150\u001b[0m     )\n\u001b[0;32m   1151\u001b[0m ):\n\u001b[1;32m-> 1152\u001b[0m     \u001b[38;5;28;01mreturn\u001b[39;00m fit_method(estimator, \u001b[38;5;241m*\u001b[39margs, \u001b[38;5;241m*\u001b[39m\u001b[38;5;241m*\u001b[39mkwargs)\n",
      "File \u001b[1;32m~\\AppData\\Roaming\\Python\\Python311\\site-packages\\sklearn\\ensemble\\_gb.py:532\u001b[0m, in \u001b[0;36mBaseGradientBoosting.fit\u001b[1;34m(self, X, y, sample_weight, monitor)\u001b[0m\n\u001b[0;32m    529\u001b[0m     \u001b[38;5;28mself\u001b[39m\u001b[38;5;241m.\u001b[39m_resize_state()\n\u001b[0;32m    531\u001b[0m \u001b[38;5;66;03m# fit the boosting stages\u001b[39;00m\n\u001b[1;32m--> 532\u001b[0m n_stages \u001b[38;5;241m=\u001b[39m \u001b[38;5;28mself\u001b[39m\u001b[38;5;241m.\u001b[39m_fit_stages(\n\u001b[0;32m    533\u001b[0m     X_train,\n\u001b[0;32m    534\u001b[0m     y_train,\n\u001b[0;32m    535\u001b[0m     raw_predictions,\n\u001b[0;32m    536\u001b[0m     sample_weight_train,\n\u001b[0;32m    537\u001b[0m     \u001b[38;5;28mself\u001b[39m\u001b[38;5;241m.\u001b[39m_rng,\n\u001b[0;32m    538\u001b[0m     X_val,\n\u001b[0;32m    539\u001b[0m     y_val,\n\u001b[0;32m    540\u001b[0m     sample_weight_val,\n\u001b[0;32m    541\u001b[0m     begin_at_stage,\n\u001b[0;32m    542\u001b[0m     monitor,\n\u001b[0;32m    543\u001b[0m )\n\u001b[0;32m    545\u001b[0m \u001b[38;5;66;03m# change shape of arrays after fit (early-stopping or additional ests)\u001b[39;00m\n\u001b[0;32m    546\u001b[0m \u001b[38;5;28;01mif\u001b[39;00m n_stages \u001b[38;5;241m!=\u001b[39m \u001b[38;5;28mself\u001b[39m\u001b[38;5;241m.\u001b[39mestimators_\u001b[38;5;241m.\u001b[39mshape[\u001b[38;5;241m0\u001b[39m]:\n",
      "File \u001b[1;32m~\\AppData\\Roaming\\Python\\Python311\\site-packages\\sklearn\\ensemble\\_gb.py:610\u001b[0m, in \u001b[0;36mBaseGradientBoosting._fit_stages\u001b[1;34m(self, X, y, raw_predictions, sample_weight, random_state, X_val, y_val, sample_weight_val, begin_at_stage, monitor)\u001b[0m\n\u001b[0;32m    603\u001b[0m         initial_loss \u001b[38;5;241m=\u001b[39m loss_(\n\u001b[0;32m    604\u001b[0m             y[\u001b[38;5;241m~\u001b[39msample_mask],\n\u001b[0;32m    605\u001b[0m             raw_predictions[\u001b[38;5;241m~\u001b[39msample_mask],\n\u001b[0;32m    606\u001b[0m             sample_weight[\u001b[38;5;241m~\u001b[39msample_mask],\n\u001b[0;32m    607\u001b[0m         )\n\u001b[0;32m    609\u001b[0m \u001b[38;5;66;03m# fit next stage of trees\u001b[39;00m\n\u001b[1;32m--> 610\u001b[0m raw_predictions \u001b[38;5;241m=\u001b[39m \u001b[38;5;28mself\u001b[39m\u001b[38;5;241m.\u001b[39m_fit_stage(\n\u001b[0;32m    611\u001b[0m     i,\n\u001b[0;32m    612\u001b[0m     X,\n\u001b[0;32m    613\u001b[0m     y,\n\u001b[0;32m    614\u001b[0m     raw_predictions,\n\u001b[0;32m    615\u001b[0m     sample_weight,\n\u001b[0;32m    616\u001b[0m     sample_mask,\n\u001b[0;32m    617\u001b[0m     random_state,\n\u001b[0;32m    618\u001b[0m     X_csc,\n\u001b[0;32m    619\u001b[0m     X_csr,\n\u001b[0;32m    620\u001b[0m )\n\u001b[0;32m    622\u001b[0m \u001b[38;5;66;03m# track loss\u001b[39;00m\n\u001b[0;32m    623\u001b[0m \u001b[38;5;28;01mif\u001b[39;00m do_oob:\n",
      "File \u001b[1;32m~\\AppData\\Roaming\\Python\\Python311\\site-packages\\sklearn\\ensemble\\_gb.py:245\u001b[0m, in \u001b[0;36mBaseGradientBoosting._fit_stage\u001b[1;34m(self, i, X, y, raw_predictions, sample_weight, sample_mask, random_state, X_csc, X_csr)\u001b[0m\n\u001b[0;32m    242\u001b[0m     sample_weight \u001b[38;5;241m=\u001b[39m sample_weight \u001b[38;5;241m*\u001b[39m sample_mask\u001b[38;5;241m.\u001b[39mastype(np\u001b[38;5;241m.\u001b[39mfloat64)\n\u001b[0;32m    244\u001b[0m X \u001b[38;5;241m=\u001b[39m X_csr \u001b[38;5;28;01mif\u001b[39;00m X_csr \u001b[38;5;129;01mis\u001b[39;00m \u001b[38;5;129;01mnot\u001b[39;00m \u001b[38;5;28;01mNone\u001b[39;00m \u001b[38;5;28;01melse\u001b[39;00m X\n\u001b[1;32m--> 245\u001b[0m tree\u001b[38;5;241m.\u001b[39mfit(X, residual, sample_weight\u001b[38;5;241m=\u001b[39msample_weight, check_input\u001b[38;5;241m=\u001b[39m\u001b[38;5;28;01mFalse\u001b[39;00m)\n\u001b[0;32m    247\u001b[0m \u001b[38;5;66;03m# update tree leaves\u001b[39;00m\n\u001b[0;32m    248\u001b[0m loss\u001b[38;5;241m.\u001b[39mupdate_terminal_regions(\n\u001b[0;32m    249\u001b[0m     tree\u001b[38;5;241m.\u001b[39mtree_,\n\u001b[0;32m    250\u001b[0m     X,\n\u001b[1;32m   (...)\u001b[0m\n\u001b[0;32m    257\u001b[0m     k\u001b[38;5;241m=\u001b[39mk,\n\u001b[0;32m    258\u001b[0m )\n",
      "File \u001b[1;32m~\\AppData\\Roaming\\Python\\Python311\\site-packages\\sklearn\\base.py:1152\u001b[0m, in \u001b[0;36m_fit_context.<locals>.decorator.<locals>.wrapper\u001b[1;34m(estimator, *args, **kwargs)\u001b[0m\n\u001b[0;32m   1145\u001b[0m     estimator\u001b[38;5;241m.\u001b[39m_validate_params()\n\u001b[0;32m   1147\u001b[0m \u001b[38;5;28;01mwith\u001b[39;00m config_context(\n\u001b[0;32m   1148\u001b[0m     skip_parameter_validation\u001b[38;5;241m=\u001b[39m(\n\u001b[0;32m   1149\u001b[0m         prefer_skip_nested_validation \u001b[38;5;129;01mor\u001b[39;00m global_skip_validation\n\u001b[0;32m   1150\u001b[0m     )\n\u001b[0;32m   1151\u001b[0m ):\n\u001b[1;32m-> 1152\u001b[0m     \u001b[38;5;28;01mreturn\u001b[39;00m fit_method(estimator, \u001b[38;5;241m*\u001b[39margs, \u001b[38;5;241m*\u001b[39m\u001b[38;5;241m*\u001b[39mkwargs)\n",
      "File \u001b[1;32m~\\AppData\\Roaming\\Python\\Python311\\site-packages\\sklearn\\tree\\_classes.py:1320\u001b[0m, in \u001b[0;36mDecisionTreeRegressor.fit\u001b[1;34m(self, X, y, sample_weight, check_input)\u001b[0m\n\u001b[0;32m   1290\u001b[0m \u001b[38;5;129m@_fit_context\u001b[39m(prefer_skip_nested_validation\u001b[38;5;241m=\u001b[39m\u001b[38;5;28;01mTrue\u001b[39;00m)\n\u001b[0;32m   1291\u001b[0m \u001b[38;5;28;01mdef\u001b[39;00m \u001b[38;5;21mfit\u001b[39m(\u001b[38;5;28mself\u001b[39m, X, y, sample_weight\u001b[38;5;241m=\u001b[39m\u001b[38;5;28;01mNone\u001b[39;00m, check_input\u001b[38;5;241m=\u001b[39m\u001b[38;5;28;01mTrue\u001b[39;00m):\n\u001b[0;32m   1292\u001b[0m \u001b[38;5;250m    \u001b[39m\u001b[38;5;124;03m\"\"\"Build a decision tree regressor from the training set (X, y).\u001b[39;00m\n\u001b[0;32m   1293\u001b[0m \n\u001b[0;32m   1294\u001b[0m \u001b[38;5;124;03m    Parameters\u001b[39;00m\n\u001b[1;32m   (...)\u001b[0m\n\u001b[0;32m   1317\u001b[0m \u001b[38;5;124;03m        Fitted estimator.\u001b[39;00m\n\u001b[0;32m   1318\u001b[0m \u001b[38;5;124;03m    \"\"\"\u001b[39;00m\n\u001b[1;32m-> 1320\u001b[0m     \u001b[38;5;28msuper\u001b[39m()\u001b[38;5;241m.\u001b[39m_fit(\n\u001b[0;32m   1321\u001b[0m         X,\n\u001b[0;32m   1322\u001b[0m         y,\n\u001b[0;32m   1323\u001b[0m         sample_weight\u001b[38;5;241m=\u001b[39msample_weight,\n\u001b[0;32m   1324\u001b[0m         check_input\u001b[38;5;241m=\u001b[39mcheck_input,\n\u001b[0;32m   1325\u001b[0m     )\n\u001b[0;32m   1326\u001b[0m     \u001b[38;5;28;01mreturn\u001b[39;00m \u001b[38;5;28mself\u001b[39m\n",
      "File \u001b[1;32m~\\AppData\\Roaming\\Python\\Python311\\site-packages\\sklearn\\tree\\_classes.py:443\u001b[0m, in \u001b[0;36mBaseDecisionTree._fit\u001b[1;34m(self, X, y, sample_weight, check_input, missing_values_in_feature_mask)\u001b[0m\n\u001b[0;32m    432\u001b[0m \u001b[38;5;28;01melse\u001b[39;00m:\n\u001b[0;32m    433\u001b[0m     builder \u001b[38;5;241m=\u001b[39m BestFirstTreeBuilder(\n\u001b[0;32m    434\u001b[0m         splitter,\n\u001b[0;32m    435\u001b[0m         min_samples_split,\n\u001b[1;32m   (...)\u001b[0m\n\u001b[0;32m    440\u001b[0m         \u001b[38;5;28mself\u001b[39m\u001b[38;5;241m.\u001b[39mmin_impurity_decrease,\n\u001b[0;32m    441\u001b[0m     )\n\u001b[1;32m--> 443\u001b[0m builder\u001b[38;5;241m.\u001b[39mbuild(\u001b[38;5;28mself\u001b[39m\u001b[38;5;241m.\u001b[39mtree_, X, y, sample_weight, missing_values_in_feature_mask)\n\u001b[0;32m    445\u001b[0m \u001b[38;5;28;01mif\u001b[39;00m \u001b[38;5;28mself\u001b[39m\u001b[38;5;241m.\u001b[39mn_outputs_ \u001b[38;5;241m==\u001b[39m \u001b[38;5;241m1\u001b[39m \u001b[38;5;129;01mand\u001b[39;00m is_classifier(\u001b[38;5;28mself\u001b[39m):\n\u001b[0;32m    446\u001b[0m     \u001b[38;5;28mself\u001b[39m\u001b[38;5;241m.\u001b[39mn_classes_ \u001b[38;5;241m=\u001b[39m \u001b[38;5;28mself\u001b[39m\u001b[38;5;241m.\u001b[39mn_classes_[\u001b[38;5;241m0\u001b[39m]\n",
      "\u001b[1;31mKeyboardInterrupt\u001b[0m: "
     ]
    }
   ],
   "source": [
    "# Inicjalizacja modelu Gradient Boosting Classifier\n",
    "gb = GradientBoostingClassifier()\n",
    "\n",
    "# Definiowanie siatki hiperparametrów do przetestowania\n",
    "param_grid = {\n",
    "    'n_estimators': [100, 200, 300],  # Liczba drzew w ensemble\n",
    "    'learning_rate': [0.01, 0.1, 0.2], # Szybkość uczenia\n",
    "    'max_depth': [3, 5, 7],            # Maksymalna głębokość drzewa\n",
    "    'min_samples_split': [2, 4],       # Minimalna liczba próbek wymagana do podziału węzła\n",
    "    'min_samples_leaf': [1, 2]         # Minimalna liczba próbek w liściu\n",
    "}\n",
    "\n",
    "# Utworzenie obiektu GridSearchCV\n",
    "grid_search = GridSearchCV(estimator=gb, param_grid=param_grid, cv=5, scoring='accuracy')\n",
    "\n",
    "# Przeszukiwanie siatki parametrów\n",
    "grid_search.fit(x_train4, y_train4)\n",
    "\n",
    "# Najlepsze parametry i najlepszy model\n",
    "print(\"Najlepsze parametry: \", grid_search.best_params_)\n",
    "best_gb = grid_search.best_estimator_\n",
    "\n",
    "# Predykcje na zbiorze treningowym i testowym\n",
    "ypred_train6 = best_gb.predict(x_train4)\n",
    "y_pred_test6 = best_gb.predict(x_test4)\n",
    "\n",
    "# Ocena modelu\n",
    "print(\"Accuracy on Training set: \", accuracy_score(y_train4, ypred_train6))\n",
    "print(\"Accuracy on Test set: \", accuracy_score(y_test4, y_pred_test6))\n",
    "print(\"\\nTraining Results\\n\")\n",
    "print(classification_report(y_train4, ypred_train6))\n",
    "print('Testing Results\\n')\n",
    "print(classification_report(y_test4, y_pred_test6))\n",
    "\n",
    "# cross_val_scores = cross_val_score(best_gb, x_train4, y_train4, cv=5)\n",
    "# print(\"Cross-validation scores:\", cross_val_scores)\n",
    "# print(\"Average cross-validation score:\", np.mean(cross_val_scores))\n",
    "\n",
    "# Krzywa ROC\n",
    "y_proba_test6 = best_gb.predict_proba(x_test4)[:, 1]\n",
    "fpr, tpr, thresholds = roc_curve(y_test4, y_proba_test6)\n",
    "plt.plot(fpr, tpr)\n",
    "plt.title(\"ROC Curve with AUC = {:.2f}\".format(roc_auc_score(y_test4, y_proba_test6)))\n",
    "plt.show()"
   ]
  },
  {
   "cell_type": "markdown",
   "metadata": {},
   "source": [
    "## KNN"
   ]
  },
  {
   "cell_type": "code",
   "execution_count": 18,
   "metadata": {},
   "outputs": [
    {
     "data": {
      "text/html": [
       "<style>#sk-container-id-1 {color: black;}#sk-container-id-1 pre{padding: 0;}#sk-container-id-1 div.sk-toggleable {background-color: white;}#sk-container-id-1 label.sk-toggleable__label {cursor: pointer;display: block;width: 100%;margin-bottom: 0;padding: 0.3em;box-sizing: border-box;text-align: center;}#sk-container-id-1 label.sk-toggleable__label-arrow:before {content: \"▸\";float: left;margin-right: 0.25em;color: #696969;}#sk-container-id-1 label.sk-toggleable__label-arrow:hover:before {color: black;}#sk-container-id-1 div.sk-estimator:hover label.sk-toggleable__label-arrow:before {color: black;}#sk-container-id-1 div.sk-toggleable__content {max-height: 0;max-width: 0;overflow: hidden;text-align: left;background-color: #f0f8ff;}#sk-container-id-1 div.sk-toggleable__content pre {margin: 0.2em;color: black;border-radius: 0.25em;background-color: #f0f8ff;}#sk-container-id-1 input.sk-toggleable__control:checked~div.sk-toggleable__content {max-height: 200px;max-width: 100%;overflow: auto;}#sk-container-id-1 input.sk-toggleable__control:checked~label.sk-toggleable__label-arrow:before {content: \"▾\";}#sk-container-id-1 div.sk-estimator input.sk-toggleable__control:checked~label.sk-toggleable__label {background-color: #d4ebff;}#sk-container-id-1 div.sk-label input.sk-toggleable__control:checked~label.sk-toggleable__label {background-color: #d4ebff;}#sk-container-id-1 input.sk-hidden--visually {border: 0;clip: rect(1px 1px 1px 1px);clip: rect(1px, 1px, 1px, 1px);height: 1px;margin: -1px;overflow: hidden;padding: 0;position: absolute;width: 1px;}#sk-container-id-1 div.sk-estimator {font-family: monospace;background-color: #f0f8ff;border: 1px dotted black;border-radius: 0.25em;box-sizing: border-box;margin-bottom: 0.5em;}#sk-container-id-1 div.sk-estimator:hover {background-color: #d4ebff;}#sk-container-id-1 div.sk-parallel-item::after {content: \"\";width: 100%;border-bottom: 1px solid gray;flex-grow: 1;}#sk-container-id-1 div.sk-label:hover label.sk-toggleable__label {background-color: #d4ebff;}#sk-container-id-1 div.sk-serial::before {content: \"\";position: absolute;border-left: 1px solid gray;box-sizing: border-box;top: 0;bottom: 0;left: 50%;z-index: 0;}#sk-container-id-1 div.sk-serial {display: flex;flex-direction: column;align-items: center;background-color: white;padding-right: 0.2em;padding-left: 0.2em;position: relative;}#sk-container-id-1 div.sk-item {position: relative;z-index: 1;}#sk-container-id-1 div.sk-parallel {display: flex;align-items: stretch;justify-content: center;background-color: white;position: relative;}#sk-container-id-1 div.sk-item::before, #sk-container-id-1 div.sk-parallel-item::before {content: \"\";position: absolute;border-left: 1px solid gray;box-sizing: border-box;top: 0;bottom: 0;left: 50%;z-index: -1;}#sk-container-id-1 div.sk-parallel-item {display: flex;flex-direction: column;z-index: 1;position: relative;background-color: white;}#sk-container-id-1 div.sk-parallel-item:first-child::after {align-self: flex-end;width: 50%;}#sk-container-id-1 div.sk-parallel-item:last-child::after {align-self: flex-start;width: 50%;}#sk-container-id-1 div.sk-parallel-item:only-child::after {width: 0;}#sk-container-id-1 div.sk-dashed-wrapped {border: 1px dashed gray;margin: 0 0.4em 0.5em 0.4em;box-sizing: border-box;padding-bottom: 0.4em;background-color: white;}#sk-container-id-1 div.sk-label label {font-family: monospace;font-weight: bold;display: inline-block;line-height: 1.2em;}#sk-container-id-1 div.sk-label-container {text-align: center;}#sk-container-id-1 div.sk-container {/* jupyter's `normalize.less` sets `[hidden] { display: none; }` but bootstrap.min.css set `[hidden] { display: none !important; }` so we also need the `!important` here to be able to override the default hidden behavior on the sphinx rendered scikit-learn.org. See: https://github.com/scikit-learn/scikit-learn/issues/21755 */display: inline-block !important;position: relative;}#sk-container-id-1 div.sk-text-repr-fallback {display: none;}</style><div id=\"sk-container-id-1\" class=\"sk-top-container\"><div class=\"sk-text-repr-fallback\"><pre>KNeighborsClassifier()</pre><b>In a Jupyter environment, please rerun this cell to show the HTML representation or trust the notebook. <br />On GitHub, the HTML representation is unable to render, please try loading this page with nbviewer.org.</b></div><div class=\"sk-container\" hidden><div class=\"sk-item\"><div class=\"sk-estimator sk-toggleable\"><input class=\"sk-toggleable__control sk-hidden--visually\" id=\"sk-estimator-id-1\" type=\"checkbox\" checked><label for=\"sk-estimator-id-1\" class=\"sk-toggleable__label sk-toggleable__label-arrow\">KNeighborsClassifier</label><div class=\"sk-toggleable__content\"><pre>KNeighborsClassifier()</pre></div></div></div></div></div>"
      ],
      "text/plain": [
       "KNeighborsClassifier()"
      ]
     },
     "execution_count": 18,
     "metadata": {},
     "output_type": "execute_result"
    }
   ],
   "source": [
    "knn = KNeighborsClassifier()\n",
    "knn.fit(x_train4, y_train4)\n"
   ]
  },
  {
   "cell_type": "code",
   "execution_count": 19,
   "metadata": {},
   "outputs": [],
   "source": [
    "grid_cv = GridSearchCV(KNeighborsClassifier(), \n",
    "                       param_grid={\n",
    "                           \"n_neighbors\": range(1, 50)\n",
    "                       }, cv=5, scoring=\"f1\", \n",
    "                       verbose=1, n_jobs=6)\n"
   ]
  },
  {
   "cell_type": "code",
   "execution_count": 20,
   "metadata": {},
   "outputs": [
    {
     "name": "stdout",
     "output_type": "stream",
     "text": [
      "Fitting 5 folds for each of 49 candidates, totalling 245 fits\n"
     ]
    },
    {
     "data": {
      "text/html": [
       "<style>#sk-container-id-2 {color: black;}#sk-container-id-2 pre{padding: 0;}#sk-container-id-2 div.sk-toggleable {background-color: white;}#sk-container-id-2 label.sk-toggleable__label {cursor: pointer;display: block;width: 100%;margin-bottom: 0;padding: 0.3em;box-sizing: border-box;text-align: center;}#sk-container-id-2 label.sk-toggleable__label-arrow:before {content: \"▸\";float: left;margin-right: 0.25em;color: #696969;}#sk-container-id-2 label.sk-toggleable__label-arrow:hover:before {color: black;}#sk-container-id-2 div.sk-estimator:hover label.sk-toggleable__label-arrow:before {color: black;}#sk-container-id-2 div.sk-toggleable__content {max-height: 0;max-width: 0;overflow: hidden;text-align: left;background-color: #f0f8ff;}#sk-container-id-2 div.sk-toggleable__content pre {margin: 0.2em;color: black;border-radius: 0.25em;background-color: #f0f8ff;}#sk-container-id-2 input.sk-toggleable__control:checked~div.sk-toggleable__content {max-height: 200px;max-width: 100%;overflow: auto;}#sk-container-id-2 input.sk-toggleable__control:checked~label.sk-toggleable__label-arrow:before {content: \"▾\";}#sk-container-id-2 div.sk-estimator input.sk-toggleable__control:checked~label.sk-toggleable__label {background-color: #d4ebff;}#sk-container-id-2 div.sk-label input.sk-toggleable__control:checked~label.sk-toggleable__label {background-color: #d4ebff;}#sk-container-id-2 input.sk-hidden--visually {border: 0;clip: rect(1px 1px 1px 1px);clip: rect(1px, 1px, 1px, 1px);height: 1px;margin: -1px;overflow: hidden;padding: 0;position: absolute;width: 1px;}#sk-container-id-2 div.sk-estimator {font-family: monospace;background-color: #f0f8ff;border: 1px dotted black;border-radius: 0.25em;box-sizing: border-box;margin-bottom: 0.5em;}#sk-container-id-2 div.sk-estimator:hover {background-color: #d4ebff;}#sk-container-id-2 div.sk-parallel-item::after {content: \"\";width: 100%;border-bottom: 1px solid gray;flex-grow: 1;}#sk-container-id-2 div.sk-label:hover label.sk-toggleable__label {background-color: #d4ebff;}#sk-container-id-2 div.sk-serial::before {content: \"\";position: absolute;border-left: 1px solid gray;box-sizing: border-box;top: 0;bottom: 0;left: 50%;z-index: 0;}#sk-container-id-2 div.sk-serial {display: flex;flex-direction: column;align-items: center;background-color: white;padding-right: 0.2em;padding-left: 0.2em;position: relative;}#sk-container-id-2 div.sk-item {position: relative;z-index: 1;}#sk-container-id-2 div.sk-parallel {display: flex;align-items: stretch;justify-content: center;background-color: white;position: relative;}#sk-container-id-2 div.sk-item::before, #sk-container-id-2 div.sk-parallel-item::before {content: \"\";position: absolute;border-left: 1px solid gray;box-sizing: border-box;top: 0;bottom: 0;left: 50%;z-index: -1;}#sk-container-id-2 div.sk-parallel-item {display: flex;flex-direction: column;z-index: 1;position: relative;background-color: white;}#sk-container-id-2 div.sk-parallel-item:first-child::after {align-self: flex-end;width: 50%;}#sk-container-id-2 div.sk-parallel-item:last-child::after {align-self: flex-start;width: 50%;}#sk-container-id-2 div.sk-parallel-item:only-child::after {width: 0;}#sk-container-id-2 div.sk-dashed-wrapped {border: 1px dashed gray;margin: 0 0.4em 0.5em 0.4em;box-sizing: border-box;padding-bottom: 0.4em;background-color: white;}#sk-container-id-2 div.sk-label label {font-family: monospace;font-weight: bold;display: inline-block;line-height: 1.2em;}#sk-container-id-2 div.sk-label-container {text-align: center;}#sk-container-id-2 div.sk-container {/* jupyter's `normalize.less` sets `[hidden] { display: none; }` but bootstrap.min.css set `[hidden] { display: none !important; }` so we also need the `!important` here to be able to override the default hidden behavior on the sphinx rendered scikit-learn.org. See: https://github.com/scikit-learn/scikit-learn/issues/21755 */display: inline-block !important;position: relative;}#sk-container-id-2 div.sk-text-repr-fallback {display: none;}</style><div id=\"sk-container-id-2\" class=\"sk-top-container\"><div class=\"sk-text-repr-fallback\"><pre>GridSearchCV(cv=5, estimator=KNeighborsClassifier(), n_jobs=6,\n",
       "             param_grid={&#x27;n_neighbors&#x27;: range(1, 50)}, scoring=&#x27;f1&#x27;, verbose=1)</pre><b>In a Jupyter environment, please rerun this cell to show the HTML representation or trust the notebook. <br />On GitHub, the HTML representation is unable to render, please try loading this page with nbviewer.org.</b></div><div class=\"sk-container\" hidden><div class=\"sk-item sk-dashed-wrapped\"><div class=\"sk-label-container\"><div class=\"sk-label sk-toggleable\"><input class=\"sk-toggleable__control sk-hidden--visually\" id=\"sk-estimator-id-2\" type=\"checkbox\" ><label for=\"sk-estimator-id-2\" class=\"sk-toggleable__label sk-toggleable__label-arrow\">GridSearchCV</label><div class=\"sk-toggleable__content\"><pre>GridSearchCV(cv=5, estimator=KNeighborsClassifier(), n_jobs=6,\n",
       "             param_grid={&#x27;n_neighbors&#x27;: range(1, 50)}, scoring=&#x27;f1&#x27;, verbose=1)</pre></div></div></div><div class=\"sk-parallel\"><div class=\"sk-parallel-item\"><div class=\"sk-item\"><div class=\"sk-label-container\"><div class=\"sk-label sk-toggleable\"><input class=\"sk-toggleable__control sk-hidden--visually\" id=\"sk-estimator-id-3\" type=\"checkbox\" ><label for=\"sk-estimator-id-3\" class=\"sk-toggleable__label sk-toggleable__label-arrow\">estimator: KNeighborsClassifier</label><div class=\"sk-toggleable__content\"><pre>KNeighborsClassifier()</pre></div></div></div><div class=\"sk-serial\"><div class=\"sk-item\"><div class=\"sk-estimator sk-toggleable\"><input class=\"sk-toggleable__control sk-hidden--visually\" id=\"sk-estimator-id-4\" type=\"checkbox\" ><label for=\"sk-estimator-id-4\" class=\"sk-toggleable__label sk-toggleable__label-arrow\">KNeighborsClassifier</label><div class=\"sk-toggleable__content\"><pre>KNeighborsClassifier()</pre></div></div></div></div></div></div></div></div></div></div>"
      ],
      "text/plain": [
       "GridSearchCV(cv=5, estimator=KNeighborsClassifier(), n_jobs=6,\n",
       "             param_grid={'n_neighbors': range(1, 50)}, scoring='f1', verbose=1)"
      ]
     },
     "execution_count": 20,
     "metadata": {},
     "output_type": "execute_result"
    }
   ],
   "source": [
    "grid_cv.fit(x_train4, \n",
    "            y_train4)"
   ]
  },
  {
   "cell_type": "code",
   "execution_count": 21,
   "metadata": {},
   "outputs": [
    {
     "data": {
      "text/plain": [
       "0.7672414309250436"
      ]
     },
     "execution_count": 21,
     "metadata": {},
     "output_type": "execute_result"
    }
   ],
   "source": [
    "grid_cv.best_score_"
   ]
  },
  {
   "cell_type": "code",
   "execution_count": 22,
   "metadata": {},
   "outputs": [
    {
     "data": {
      "text/html": [
       "<style>#sk-container-id-3 {color: black;}#sk-container-id-3 pre{padding: 0;}#sk-container-id-3 div.sk-toggleable {background-color: white;}#sk-container-id-3 label.sk-toggleable__label {cursor: pointer;display: block;width: 100%;margin-bottom: 0;padding: 0.3em;box-sizing: border-box;text-align: center;}#sk-container-id-3 label.sk-toggleable__label-arrow:before {content: \"▸\";float: left;margin-right: 0.25em;color: #696969;}#sk-container-id-3 label.sk-toggleable__label-arrow:hover:before {color: black;}#sk-container-id-3 div.sk-estimator:hover label.sk-toggleable__label-arrow:before {color: black;}#sk-container-id-3 div.sk-toggleable__content {max-height: 0;max-width: 0;overflow: hidden;text-align: left;background-color: #f0f8ff;}#sk-container-id-3 div.sk-toggleable__content pre {margin: 0.2em;color: black;border-radius: 0.25em;background-color: #f0f8ff;}#sk-container-id-3 input.sk-toggleable__control:checked~div.sk-toggleable__content {max-height: 200px;max-width: 100%;overflow: auto;}#sk-container-id-3 input.sk-toggleable__control:checked~label.sk-toggleable__label-arrow:before {content: \"▾\";}#sk-container-id-3 div.sk-estimator input.sk-toggleable__control:checked~label.sk-toggleable__label {background-color: #d4ebff;}#sk-container-id-3 div.sk-label input.sk-toggleable__control:checked~label.sk-toggleable__label {background-color: #d4ebff;}#sk-container-id-3 input.sk-hidden--visually {border: 0;clip: rect(1px 1px 1px 1px);clip: rect(1px, 1px, 1px, 1px);height: 1px;margin: -1px;overflow: hidden;padding: 0;position: absolute;width: 1px;}#sk-container-id-3 div.sk-estimator {font-family: monospace;background-color: #f0f8ff;border: 1px dotted black;border-radius: 0.25em;box-sizing: border-box;margin-bottom: 0.5em;}#sk-container-id-3 div.sk-estimator:hover {background-color: #d4ebff;}#sk-container-id-3 div.sk-parallel-item::after {content: \"\";width: 100%;border-bottom: 1px solid gray;flex-grow: 1;}#sk-container-id-3 div.sk-label:hover label.sk-toggleable__label {background-color: #d4ebff;}#sk-container-id-3 div.sk-serial::before {content: \"\";position: absolute;border-left: 1px solid gray;box-sizing: border-box;top: 0;bottom: 0;left: 50%;z-index: 0;}#sk-container-id-3 div.sk-serial {display: flex;flex-direction: column;align-items: center;background-color: white;padding-right: 0.2em;padding-left: 0.2em;position: relative;}#sk-container-id-3 div.sk-item {position: relative;z-index: 1;}#sk-container-id-3 div.sk-parallel {display: flex;align-items: stretch;justify-content: center;background-color: white;position: relative;}#sk-container-id-3 div.sk-item::before, #sk-container-id-3 div.sk-parallel-item::before {content: \"\";position: absolute;border-left: 1px solid gray;box-sizing: border-box;top: 0;bottom: 0;left: 50%;z-index: -1;}#sk-container-id-3 div.sk-parallel-item {display: flex;flex-direction: column;z-index: 1;position: relative;background-color: white;}#sk-container-id-3 div.sk-parallel-item:first-child::after {align-self: flex-end;width: 50%;}#sk-container-id-3 div.sk-parallel-item:last-child::after {align-self: flex-start;width: 50%;}#sk-container-id-3 div.sk-parallel-item:only-child::after {width: 0;}#sk-container-id-3 div.sk-dashed-wrapped {border: 1px dashed gray;margin: 0 0.4em 0.5em 0.4em;box-sizing: border-box;padding-bottom: 0.4em;background-color: white;}#sk-container-id-3 div.sk-label label {font-family: monospace;font-weight: bold;display: inline-block;line-height: 1.2em;}#sk-container-id-3 div.sk-label-container {text-align: center;}#sk-container-id-3 div.sk-container {/* jupyter's `normalize.less` sets `[hidden] { display: none; }` but bootstrap.min.css set `[hidden] { display: none !important; }` so we also need the `!important` here to be able to override the default hidden behavior on the sphinx rendered scikit-learn.org. See: https://github.com/scikit-learn/scikit-learn/issues/21755 */display: inline-block !important;position: relative;}#sk-container-id-3 div.sk-text-repr-fallback {display: none;}</style><div id=\"sk-container-id-3\" class=\"sk-top-container\"><div class=\"sk-text-repr-fallback\"><pre>KNeighborsClassifier(n_neighbors=25)</pre><b>In a Jupyter environment, please rerun this cell to show the HTML representation or trust the notebook. <br />On GitHub, the HTML representation is unable to render, please try loading this page with nbviewer.org.</b></div><div class=\"sk-container\" hidden><div class=\"sk-item\"><div class=\"sk-estimator sk-toggleable\"><input class=\"sk-toggleable__control sk-hidden--visually\" id=\"sk-estimator-id-5\" type=\"checkbox\" checked><label for=\"sk-estimator-id-5\" class=\"sk-toggleable__label sk-toggleable__label-arrow\">KNeighborsClassifier</label><div class=\"sk-toggleable__content\"><pre>KNeighborsClassifier(n_neighbors=25)</pre></div></div></div></div></div>"
      ],
      "text/plain": [
       "KNeighborsClassifier(n_neighbors=25)"
      ]
     },
     "execution_count": 22,
     "metadata": {},
     "output_type": "execute_result"
    }
   ],
   "source": [
    "knn = grid_cv.best_estimator_\n",
    "knn"
   ]
  },
  {
   "cell_type": "code",
   "execution_count": 23,
   "metadata": {},
   "outputs": [
    {
     "name": "stdout",
     "output_type": "stream",
     "text": [
      "XGBClassifier Accuracy:  0.7670047732696897\n"
     ]
    }
   ],
   "source": [
    "ypred_train7 = grid_cv.predict(x_train4)\n",
    "y_pred_test7 = grid_cv.predict(x_test4)\n",
    "print(\"XGBClassifier Accuracy: \",accuracy_score(y_test4, y_pred_test7))"
   ]
  },
  {
   "cell_type": "code",
   "execution_count": 24,
   "metadata": {},
   "outputs": [
    {
     "name": "stdout",
     "output_type": "stream",
     "text": [
      "Training Results\n",
      "\n",
      "              precision    recall  f1-score   support\n",
      "\n",
      "           0       0.77      0.84      0.81     10036\n",
      "           1       0.83      0.75      0.79     10074\n",
      "\n",
      "    accuracy                           0.80     20110\n",
      "   macro avg       0.80      0.80      0.80     20110\n",
      "weighted avg       0.80      0.80      0.80     20110\n",
      "\n",
      "Testing Results\n",
      "\n",
      "              precision    recall  f1-score   support\n",
      "\n",
      "           0       0.74      0.83      0.78      3371\n",
      "           1       0.80      0.71      0.75      3333\n",
      "\n",
      "    accuracy                           0.77      6704\n",
      "   macro avg       0.77      0.77      0.77      6704\n",
      "weighted avg       0.77      0.77      0.77      6704\n",
      "\n"
     ]
    }
   ],
   "source": [
    "print(\"Training Results\\n\")\n",
    "print(classification_report(y_train4, ypred_train7))\n",
    "print(\"Testing Results\\n\")\n",
    "print(classification_report(y_test4, y_pred_test7))"
   ]
  },
  {
   "cell_type": "code",
   "execution_count": 25,
   "metadata": {},
   "outputs": [
    {
     "data": {
      "image/png": "[encoded data removed]",
      "text/plain": [
       "<Figure size 640x480 with 1 Axes>"
      ]
     },
     "metadata": {},
     "output_type": "display_data"
    }
   ],
   "source": [
    "\n",
    "# cross_val_scores = cross_val_score(grid_cv, x_train4, y_train4, cv=5)\n",
    "# print(\"Cross-validation scores:\", cross_val_scores)\n",
    "# print(\"Average cross-validation score:\", np.mean(cross_val_scores))\n",
    "y_proba_test = grid_cv.predict_proba(x_test4)[:, 1]\n",
    "\n",
    "\n",
    "fpr, tpr, thresholds = roc_curve(y_test4, y_proba_test)\n",
    "\n",
    "\n",
    "plt.plot(fpr, tpr, label='ROC Curve')\n",
    "plt.xlabel('False Positive Rate')\n",
    "plt.ylabel('True Positive Rate')\n",
    "plt.title('ROC Curve with AUC = {:.2f}'.format(roc_auc_score(y_test4, y_proba_test)))\n",
    "plt.legend(loc='lower right')\n",
    "plt.grid(True)\n",
    "plt.show()"
   ]
  },
  {
   "cell_type": "markdown",
   "metadata": {},
   "source": [
    "## SIECI NEURONOWE"
   ]
  },
  {
   "cell_type": "markdown",
   "metadata": {},
   "source": [
    "## ANN"
   ]
  },
  {
   "cell_type": "code",
   "execution_count": 26,
   "metadata": {},
   "outputs": [
    {
     "name": "stdout",
     "output_type": "stream",
     "text": [
      "WARNING:tensorflow:From C:\\Users\\DELL\\AppData\\Roaming\\Python\\Python311\\site-packages\\keras\\src\\backend.py:873: The name tf.get_default_graph is deprecated. Please use tf.compat.v1.get_default_graph instead.\n",
      "\n"
     ]
    }
   ],
   "source": [
    "ann = tf.keras.models.Sequential()"
   ]
  },
  {
   "cell_type": "code",
   "execution_count": 27,
   "metadata": {},
   "outputs": [],
   "source": [
    "early_stop = EarlyStopping(monitor='val_loss', mode='min', verbose=1, patience=25)\n"
   ]
  },
  {
   "cell_type": "code",
   "execution_count": 28,
   "metadata": {},
   "outputs": [],
   "source": [
    "ann.add(tf.keras.layers.Dense(units=20, activation='relu'))"
   ]
  },
  {
   "cell_type": "code",
   "execution_count": 29,
   "metadata": {},
   "outputs": [],
   "source": [
    "ann.add(tf.keras.layers.Dense(units=6, activation='relu'))"
   ]
  },
  {
   "cell_type": "code",
   "execution_count": 30,
   "metadata": {},
   "outputs": [],
   "source": [
    "ann.add(tf.keras.layers.Dense(units=1, activation='sigmoid'))"
   ]
  },
  {
   "cell_type": "code",
   "execution_count": 31,
   "metadata": {},
   "outputs": [
    {
     "name": "stdout",
     "output_type": "stream",
     "text": [
      "WARNING:tensorflow:From C:\\Users\\DELL\\AppData\\Roaming\\Python\\Python311\\site-packages\\keras\\src\\optimizers\\__init__.py:309: The name tf.train.Optimizer is deprecated. Please use tf.compat.v1.train.Optimizer instead.\n",
      "\n"
     ]
    }
   ],
   "source": [
    "ann.compile(optimizer = 'adam', loss = 'binary_crossentropy', metrics = ['accuracy'])"
   ]
  },
  {
   "cell_type": "code",
   "execution_count": 32,
   "metadata": {},
   "outputs": [
    {
     "name": "stdout",
     "output_type": "stream",
     "text": [
      "Epoch 1/100\n",
      "WARNING:tensorflow:From C:\\Users\\DELL\\AppData\\Roaming\\Python\\Python311\\site-packages\\keras\\src\\utils\\tf_utils.py:492: The name tf.ragged.RaggedTensorValue is deprecated. Please use tf.compat.v1.ragged.RaggedTensorValue instead.\n",
      "\n",
      "WARNING:tensorflow:From C:\\Users\\DELL\\AppData\\Roaming\\Python\\Python311\\site-packages\\keras\\src\\engine\\base_layer_utils.py:384: The name tf.executing_eagerly_outside_functions is deprecated. Please use tf.compat.v1.executing_eagerly_outside_functions instead.\n",
      "\n",
      "629/629 [==============================] - 2s 2ms/step - loss: 0.5342 - accuracy: 0.7297 - val_loss: 0.4732 - val_accuracy: 0.7742\n",
      "Epoch 2/100\n",
      "629/629 [==============================] - 1s 2ms/step - loss: 0.4548 - accuracy: 0.7850 - val_loss: 0.4580 - val_accuracy: 0.7861\n",
      "Epoch 3/100\n",
      "629/629 [==============================] - 1s 2ms/step - loss: 0.4442 - accuracy: 0.7880 - val_loss: 0.4517 - val_accuracy: 0.7852\n",
      "Epoch 4/100\n",
      "629/629 [==============================] - 1s 2ms/step - loss: 0.4413 - accuracy: 0.7906 - val_loss: 0.4493 - val_accuracy: 0.7849\n",
      "Epoch 5/100\n",
      "629/629 [==============================] - 1s 2ms/step - loss: 0.4387 - accuracy: 0.7919 - val_loss: 0.4522 - val_accuracy: 0.7827\n",
      "Epoch 6/100\n",
      "629/629 [==============================] - 1s 2ms/step - loss: 0.4373 - accuracy: 0.7922 - val_loss: 0.4481 - val_accuracy: 0.7857\n",
      "Epoch 7/100\n",
      "629/629 [==============================] - 1s 2ms/step - loss: 0.4368 - accuracy: 0.7930 - val_loss: 0.4471 - val_accuracy: 0.7882\n",
      "Epoch 8/100\n",
      "629/629 [==============================] - 1s 2ms/step - loss: 0.4360 - accuracy: 0.7932 - val_loss: 0.4474 - val_accuracy: 0.7870\n",
      "Epoch 9/100\n",
      "629/629 [==============================] - 1s 2ms/step - loss: 0.4350 - accuracy: 0.7931 - val_loss: 0.4468 - val_accuracy: 0.7886\n",
      "Epoch 10/100\n",
      "629/629 [==============================] - 1s 2ms/step - loss: 0.4347 - accuracy: 0.7926 - val_loss: 0.4482 - val_accuracy: 0.7858\n",
      "Epoch 11/100\n",
      "629/629 [==============================] - 1s 2ms/step - loss: 0.4342 - accuracy: 0.7942 - val_loss: 0.4471 - val_accuracy: 0.7843\n",
      "Epoch 12/100\n",
      "629/629 [==============================] - 1s 2ms/step - loss: 0.4336 - accuracy: 0.7963 - val_loss: 0.4473 - val_accuracy: 0.7845\n",
      "Epoch 13/100\n",
      "629/629 [==============================] - 1s 2ms/step - loss: 0.4332 - accuracy: 0.7947 - val_loss: 0.4467 - val_accuracy: 0.7855\n",
      "Epoch 14/100\n",
      "629/629 [==============================] - 1s 2ms/step - loss: 0.4328 - accuracy: 0.7940 - val_loss: 0.4463 - val_accuracy: 0.7846\n",
      "Epoch 15/100\n",
      "629/629 [==============================] - 1s 2ms/step - loss: 0.4327 - accuracy: 0.7947 - val_loss: 0.4467 - val_accuracy: 0.7858\n",
      "Epoch 16/100\n",
      "629/629 [==============================] - 1s 2ms/step - loss: 0.4315 - accuracy: 0.7960 - val_loss: 0.4489 - val_accuracy: 0.7815\n",
      "Epoch 17/100\n",
      "629/629 [==============================] - 1s 2ms/step - loss: 0.4314 - accuracy: 0.7956 - val_loss: 0.4495 - val_accuracy: 0.7810\n",
      "Epoch 18/100\n",
      "629/629 [==============================] - 1s 2ms/step - loss: 0.4313 - accuracy: 0.7944 - val_loss: 0.4465 - val_accuracy: 0.7839\n",
      "Epoch 19/100\n",
      "629/629 [==============================] - 1s 2ms/step - loss: 0.4311 - accuracy: 0.7966 - val_loss: 0.4503 - val_accuracy: 0.7822\n",
      "Epoch 20/100\n",
      "629/629 [==============================] - 1s 2ms/step - loss: 0.4309 - accuracy: 0.7938 - val_loss: 0.4489 - val_accuracy: 0.7824\n",
      "Epoch 21/100\n",
      "629/629 [==============================] - 1s 2ms/step - loss: 0.4309 - accuracy: 0.7955 - val_loss: 0.4474 - val_accuracy: 0.7833\n",
      "Epoch 22/100\n",
      "629/629 [==============================] - 1s 2ms/step - loss: 0.4304 - accuracy: 0.7963 - val_loss: 0.4478 - val_accuracy: 0.7837\n",
      "Epoch 23/100\n",
      "629/629 [==============================] - 1s 2ms/step - loss: 0.4304 - accuracy: 0.7969 - val_loss: 0.4489 - val_accuracy: 0.7849\n",
      "Epoch 24/100\n",
      "629/629 [==============================] - 1s 2ms/step - loss: 0.4296 - accuracy: 0.7975 - val_loss: 0.4475 - val_accuracy: 0.7851\n",
      "Epoch 25/100\n",
      "629/629 [==============================] - 1s 2ms/step - loss: 0.4298 - accuracy: 0.7967 - val_loss: 0.4492 - val_accuracy: 0.7855\n",
      "Epoch 26/100\n",
      "629/629 [==============================] - 1s 2ms/step - loss: 0.4288 - accuracy: 0.7983 - val_loss: 0.4478 - val_accuracy: 0.7843\n",
      "Epoch 27/100\n",
      "629/629 [==============================] - 1s 2ms/step - loss: 0.4288 - accuracy: 0.7986 - val_loss: 0.4490 - val_accuracy: 0.7836\n",
      "Epoch 28/100\n",
      "629/629 [==============================] - 1s 2ms/step - loss: 0.4290 - accuracy: 0.7956 - val_loss: 0.4579 - val_accuracy: 0.7836\n",
      "Epoch 29/100\n",
      "629/629 [==============================] - 1s 2ms/step - loss: 0.4289 - accuracy: 0.7943 - val_loss: 0.4476 - val_accuracy: 0.7845\n",
      "Epoch 30/100\n",
      "629/629 [==============================] - 1s 2ms/step - loss: 0.4290 - accuracy: 0.7976 - val_loss: 0.4470 - val_accuracy: 0.7825\n",
      "Epoch 31/100\n",
      "629/629 [==============================] - 1s 2ms/step - loss: 0.4283 - accuracy: 0.7992 - val_loss: 0.4473 - val_accuracy: 0.7842\n",
      "Epoch 32/100\n",
      "629/629 [==============================] - 1s 2ms/step - loss: 0.4283 - accuracy: 0.7968 - val_loss: 0.4534 - val_accuracy: 0.7810\n",
      "Epoch 33/100\n",
      "629/629 [==============================] - 1s 2ms/step - loss: 0.4283 - accuracy: 0.7990 - val_loss: 0.4491 - val_accuracy: 0.7857\n",
      "Epoch 34/100\n",
      "629/629 [==============================] - 1s 2ms/step - loss: 0.4284 - accuracy: 0.7970 - val_loss: 0.4496 - val_accuracy: 0.7839\n",
      "Epoch 35/100\n",
      "629/629 [==============================] - 1s 2ms/step - loss: 0.4278 - accuracy: 0.7979 - val_loss: 0.4485 - val_accuracy: 0.7865\n",
      "Epoch 36/100\n",
      "629/629 [==============================] - 1s 2ms/step - loss: 0.4276 - accuracy: 0.7996 - val_loss: 0.4481 - val_accuracy: 0.7837\n",
      "Epoch 37/100\n",
      "629/629 [==============================] - 1s 2ms/step - loss: 0.4277 - accuracy: 0.7965 - val_loss: 0.4478 - val_accuracy: 0.7846\n",
      "Epoch 38/100\n",
      "629/629 [==============================] - 1s 2ms/step - loss: 0.4274 - accuracy: 0.7980 - val_loss: 0.4480 - val_accuracy: 0.7870\n",
      "Epoch 39/100\n",
      "629/629 [==============================] - 1s 2ms/step - loss: 0.4277 - accuracy: 0.7975 - val_loss: 0.4482 - val_accuracy: 0.7849\n",
      "Epoch 39: early stopping\n"
     ]
    },
    {
     "data": {
      "text/plain": [
       "<keras.src.callbacks.History at 0x1d413d36e10>"
      ]
     },
     "execution_count": 32,
     "metadata": {},
     "output_type": "execute_result"
    }
   ],
   "source": [
    "ann.fit(x_train4, y_train4, batch_size = 32, epochs=100,\n",
    "          validation_data=(x_test4, y_test4), verbose=1,\n",
    "          callbacks=[early_stop])"
   ]
  },
  {
   "cell_type": "code",
   "execution_count": 33,
   "metadata": {},
   "outputs": [
    {
     "name": "stdout",
     "output_type": "stream",
     "text": [
      "629/629 [==============================] - 1s 1ms/step\n",
      "210/210 [==============================] - 0s 1ms/step\n",
      "[[0 1]\n",
      " [0 1]\n",
      " [1 1]\n",
      " ...\n",
      " [0 0]\n",
      " [0 0]\n",
      " [0 1]]\n"
     ]
    }
   ],
   "source": [
    "ypred_train8 = ann.predict(x_train4)\n",
    "y_pred_test8 = ann.predict(x_test4)\n",
    "\n",
    "y_pred_test8 = (y_pred_test8 > 0.5)\n",
    "ypred_train8 = (ypred_train8 > 0.5)\n",
    "print(np.concatenate((y_pred_test8.reshape(len(y_pred_test8),1), y_test4.reshape(len(y_test4),1)),1))"
   ]
  },
  {
   "cell_type": "code",
   "execution_count": 34,
   "metadata": {},
   "outputs": [
    {
     "data": {
      "text/plain": [
       "0.7849045346062052"
      ]
     },
     "execution_count": 34,
     "metadata": {},
     "output_type": "execute_result"
    }
   ],
   "source": [
    "accuracy_score(y_test4, y_pred_test8)"
   ]
  },
  {
   "cell_type": "code",
   "execution_count": 35,
   "metadata": {},
   "outputs": [
    {
     "name": "stdout",
     "output_type": "stream",
     "text": [
      "Training Results\n",
      "\n",
      "              precision    recall  f1-score   support\n",
      "\n",
      "           0       0.79      0.81      0.80     10036\n",
      "           1       0.81      0.79      0.80     10074\n",
      "\n",
      "    accuracy                           0.80     20110\n",
      "   macro avg       0.80      0.80      0.80     20110\n",
      "weighted avg       0.80      0.80      0.80     20110\n",
      "\n",
      "Testing Results\n",
      "\n",
      "              precision    recall  f1-score   support\n",
      "\n",
      "           0       0.77      0.81      0.79      3371\n",
      "           1       0.80      0.76      0.78      3333\n",
      "\n",
      "    accuracy                           0.78      6704\n",
      "   macro avg       0.79      0.78      0.78      6704\n",
      "weighted avg       0.79      0.78      0.78      6704\n",
      "\n"
     ]
    }
   ],
   "source": [
    "print(\"Training Results\\n\")\n",
    "print(classification_report(y_train4, ypred_train8))\n",
    "print('Testing Results\\n')\n",
    "print(classification_report(y_test4, y_pred_test8))"
   ]
  },
  {
   "cell_type": "code",
   "execution_count": 36,
   "metadata": {},
   "outputs": [
    {
     "name": "stdout",
     "output_type": "stream",
     "text": [
      "  1/210 [..............................] - ETA: 4s"
     ]
    },
    {
     "name": "stdout",
     "output_type": "stream",
     "text": [
      "210/210 [==============================] - 0s 1ms/step\n"
     ]
    },
    {
     "data": {
      "image/png": "[encoded data removed]",
      "text/plain": [
       "<Figure size 640x480 with 1 Axes>"
      ]
     },
     "metadata": {},
     "output_type": "display_data"
    }
   ],
   "source": [
    "# cross_val_scores = cross_val_score(ann, x_train4, y_train4, cv=5)\n",
    "# print(\"Cross-validation scores:\", cross_val_scores)\n",
    "# print(\"Average cross-validation score:\", np.mean(cross_val_scores))\n",
    "y_proba_test = ann.predict(x_test4).flatten()\n",
    "\n",
    "\n",
    "fpr, tpr, thresholds = roc_curve(y_test4, y_proba_test)\n",
    "\n",
    "\n",
    "plt.plot(fpr, tpr, label='ROC Curve')\n",
    "plt.xlabel('False Positive Rate')\n",
    "plt.ylabel('True Positive Rate')\n",
    "plt.title('ROC Curve with AUC = {:.2f}'.format(roc_auc_score(y_test4, y_proba_test)))\n",
    "plt.legend(loc='lower right')\n",
    "plt.grid(True)\n",
    "plt.show()"
   ]
  },
  {
   "cell_type": "markdown",
   "metadata": {},
   "source": [
    "## inna proba "
   ]
  },
  {
   "cell_type": "code",
   "execution_count": 37,
   "metadata": {},
   "outputs": [
    {
     "name": "stderr",
     "output_type": "stream",
     "text": [
      "WARNING:absl:`lr` is deprecated in Keras optimizer, please use `learning_rate` or use the legacy optimizer, e.g.,tf.keras.optimizers.legacy.Adam.\n"
     ]
    },
    {
     "name": "stdout",
     "output_type": "stream",
     "text": [
      "Epoch 1/100\n",
      "629/629 [==============================] - 2s 1ms/step - loss: 0.4839 - accuracy: 0.7640\n",
      "Epoch 2/100\n",
      "629/629 [==============================] - 1s 1ms/step - loss: 0.4408 - accuracy: 0.7896\n",
      "Epoch 3/100\n",
      "629/629 [==============================] - 1s 1ms/step - loss: 0.4384 - accuracy: 0.7929\n",
      "Epoch 4/100\n",
      "629/629 [==============================] - 1s 1ms/step - loss: 0.4367 - accuracy: 0.7917\n",
      "Epoch 5/100\n",
      "629/629 [==============================] - 1s 1ms/step - loss: 0.4353 - accuracy: 0.7923\n",
      "Epoch 6/100\n",
      "629/629 [==============================] - 1s 1ms/step - loss: 0.4344 - accuracy: 0.7947\n",
      "Epoch 7/100\n",
      "629/629 [==============================] - 1s 1ms/step - loss: 0.4344 - accuracy: 0.7939\n",
      "Epoch 8/100\n",
      "629/629 [==============================] - 1s 1ms/step - loss: 0.4333 - accuracy: 0.7943\n",
      "Epoch 9/100\n",
      "629/629 [==============================] - 1s 1ms/step - loss: 0.4326 - accuracy: 0.7949\n",
      "Epoch 10/100\n",
      "629/629 [==============================] - 1s 1ms/step - loss: 0.4315 - accuracy: 0.7952\n",
      "Epoch 11/100\n",
      "629/629 [==============================] - 1s 1ms/step - loss: 0.4313 - accuracy: 0.7952\n",
      "Epoch 12/100\n",
      "629/629 [==============================] - 1s 1ms/step - loss: 0.4305 - accuracy: 0.7974\n",
      "Epoch 13/100\n",
      "629/629 [==============================] - 1s 1ms/step - loss: 0.4302 - accuracy: 0.7949\n",
      "Epoch 14/100\n",
      "629/629 [==============================] - 1s 1ms/step - loss: 0.4293 - accuracy: 0.7972\n",
      "Epoch 15/100\n",
      "629/629 [==============================] - 1s 1ms/step - loss: 0.4291 - accuracy: 0.7969\n",
      "Epoch 16/100\n",
      "629/629 [==============================] - 1s 1ms/step - loss: 0.4289 - accuracy: 0.7986\n",
      "Epoch 17/100\n",
      "629/629 [==============================] - 1s 1ms/step - loss: 0.4276 - accuracy: 0.7981\n",
      "Epoch 18/100\n",
      "629/629 [==============================] - 1s 1ms/step - loss: 0.4269 - accuracy: 0.8009\n",
      "Epoch 19/100\n",
      "629/629 [==============================] - 1s 1ms/step - loss: 0.4267 - accuracy: 0.7999\n",
      "Epoch 20/100\n",
      "629/629 [==============================] - 1s 1ms/step - loss: 0.4258 - accuracy: 0.8005\n",
      "Epoch 21/100\n",
      "629/629 [==============================] - 1s 1ms/step - loss: 0.4254 - accuracy: 0.7989\n",
      "Epoch 22/100\n",
      "629/629 [==============================] - 1s 1ms/step - loss: 0.4244 - accuracy: 0.8031\n",
      "Epoch 23/100\n",
      "629/629 [==============================] - 1s 1ms/step - loss: 0.4244 - accuracy: 0.8001\n",
      "Epoch 24/100\n",
      "629/629 [==============================] - 1s 1ms/step - loss: 0.4242 - accuracy: 0.8003\n",
      "Epoch 25/100\n",
      "629/629 [==============================] - 1s 1ms/step - loss: 0.4230 - accuracy: 0.8015\n",
      "Epoch 26/100\n",
      "629/629 [==============================] - 1s 1ms/step - loss: 0.4226 - accuracy: 0.8022\n",
      "Epoch 27/100\n",
      "629/629 [==============================] - 1s 973us/step - loss: 0.4227 - accuracy: 0.8008\n",
      "Epoch 28/100\n",
      "629/629 [==============================] - 1s 979us/step - loss: 0.4215 - accuracy: 0.8026\n",
      "Epoch 29/100\n",
      "629/629 [==============================] - 1s 1ms/step - loss: 0.4211 - accuracy: 0.8032\n",
      "Epoch 30/100\n",
      "629/629 [==============================] - 1s 982us/step - loss: 0.4207 - accuracy: 0.8012\n",
      "Epoch 31/100\n",
      "629/629 [==============================] - 1s 1ms/step - loss: 0.4203 - accuracy: 0.8044\n",
      "Epoch 32/100\n",
      "629/629 [==============================] - 1s 1ms/step - loss: 0.4188 - accuracy: 0.8037\n",
      "Epoch 33/100\n",
      "629/629 [==============================] - 1s 1ms/step - loss: 0.4186 - accuracy: 0.8049\n",
      "Epoch 34/100\n",
      "629/629 [==============================] - 1s 1ms/step - loss: 0.4186 - accuracy: 0.8051\n",
      "Epoch 35/100\n",
      "629/629 [==============================] - 1s 1ms/step - loss: 0.4168 - accuracy: 0.8049\n",
      "Epoch 36/100\n",
      "629/629 [==============================] - 1s 1ms/step - loss: 0.4172 - accuracy: 0.8069\n",
      "Epoch 37/100\n",
      "629/629 [==============================] - 1s 1ms/step - loss: 0.4166 - accuracy: 0.8073\n",
      "Epoch 38/100\n",
      "629/629 [==============================] - 1s 998us/step - loss: 0.4164 - accuracy: 0.8063\n",
      "Epoch 39/100\n",
      "629/629 [==============================] - 1s 1ms/step - loss: 0.4159 - accuracy: 0.8081\n",
      "Epoch 40/100\n",
      "629/629 [==============================] - 1s 1ms/step - loss: 0.4150 - accuracy: 0.8075\n",
      "Epoch 41/100\n",
      "629/629 [==============================] - 1s 1ms/step - loss: 0.4145 - accuracy: 0.8069\n",
      "Epoch 42/100\n",
      "629/629 [==============================] - 1s 1ms/step - loss: 0.4135 - accuracy: 0.8088\n",
      "Epoch 43/100\n",
      "629/629 [==============================] - 1s 962us/step - loss: 0.4134 - accuracy: 0.8090\n",
      "Epoch 44/100\n",
      "629/629 [==============================] - 1s 1ms/step - loss: 0.4126 - accuracy: 0.8078\n",
      "Epoch 45/100\n",
      "629/629 [==============================] - 1s 969us/step - loss: 0.4124 - accuracy: 0.8084\n",
      "Epoch 46/100\n",
      "629/629 [==============================] - 1s 1ms/step - loss: 0.4124 - accuracy: 0.8085\n",
      "Epoch 47/100\n",
      "629/629 [==============================] - 1s 1ms/step - loss: 0.4107 - accuracy: 0.8091\n",
      "Epoch 48/100\n",
      "629/629 [==============================] - 1s 1ms/step - loss: 0.4099 - accuracy: 0.8116\n",
      "Epoch 49/100\n",
      "629/629 [==============================] - 1s 1ms/step - loss: 0.4110 - accuracy: 0.8106\n",
      "Epoch 50/100\n",
      "629/629 [==============================] - 1s 1ms/step - loss: 0.4101 - accuracy: 0.8125\n",
      "Epoch 51/100\n",
      "629/629 [==============================] - 1s 1ms/step - loss: 0.4097 - accuracy: 0.8106\n",
      "Epoch 52/100\n",
      "629/629 [==============================] - 1s 2ms/step - loss: 0.4080 - accuracy: 0.8122\n",
      "Epoch 53/100\n",
      "629/629 [==============================] - 1s 2ms/step - loss: 0.4074 - accuracy: 0.8146\n",
      "Epoch 54/100\n",
      "629/629 [==============================] - 1s 1ms/step - loss: 0.4077 - accuracy: 0.8103\n",
      "Epoch 55/100\n",
      "629/629 [==============================] - 1s 1ms/step - loss: 0.4075 - accuracy: 0.8127\n",
      "Epoch 56/100\n",
      "629/629 [==============================] - 1s 2ms/step - loss: 0.4058 - accuracy: 0.8127\n",
      "Epoch 57/100\n",
      "629/629 [==============================] - 1s 1ms/step - loss: 0.4065 - accuracy: 0.8112\n",
      "Epoch 58/100\n",
      "629/629 [==============================] - 1s 1ms/step - loss: 0.4056 - accuracy: 0.8136\n",
      "Epoch 59/100\n",
      "629/629 [==============================] - 1s 2ms/step - loss: 0.4042 - accuracy: 0.8134\n",
      "Epoch 60/100\n",
      "629/629 [==============================] - 1s 1ms/step - loss: 0.4045 - accuracy: 0.8132\n",
      "Epoch 61/100\n",
      "629/629 [==============================] - 1s 1ms/step - loss: 0.4029 - accuracy: 0.8164\n",
      "Epoch 62/100\n",
      "629/629 [==============================] - 1s 1ms/step - loss: 0.4034 - accuracy: 0.8142\n",
      "Epoch 63/100\n",
      "629/629 [==============================] - 1s 1ms/step - loss: 0.4016 - accuracy: 0.8157\n",
      "Epoch 64/100\n",
      "629/629 [==============================] - 1s 1ms/step - loss: 0.4019 - accuracy: 0.8146\n",
      "Epoch 65/100\n",
      "629/629 [==============================] - 1s 1ms/step - loss: 0.4009 - accuracy: 0.8138\n",
      "Epoch 66/100\n",
      "629/629 [==============================] - 1s 1ms/step - loss: 0.4001 - accuracy: 0.8182\n",
      "Epoch 67/100\n",
      "629/629 [==============================] - 1s 1ms/step - loss: 0.4001 - accuracy: 0.8177\n",
      "Epoch 68/100\n",
      "629/629 [==============================] - 1s 1ms/step - loss: 0.3988 - accuracy: 0.8171\n",
      "Epoch 69/100\n",
      "629/629 [==============================] - 1s 1ms/step - loss: 0.3989 - accuracy: 0.8176\n",
      "Epoch 70/100\n",
      "629/629 [==============================] - 1s 1ms/step - loss: 0.3985 - accuracy: 0.8164\n",
      "Epoch 71/100\n",
      "629/629 [==============================] - 1s 1ms/step - loss: 0.3978 - accuracy: 0.8185\n",
      "Epoch 72/100\n",
      "629/629 [==============================] - 1s 1ms/step - loss: 0.3969 - accuracy: 0.8186\n",
      "Epoch 73/100\n",
      "629/629 [==============================] - 1s 1ms/step - loss: 0.3968 - accuracy: 0.8179\n",
      "Epoch 74/100\n",
      "629/629 [==============================] - 1s 1ms/step - loss: 0.3961 - accuracy: 0.8187\n",
      "Epoch 75/100\n",
      "629/629 [==============================] - 1s 1ms/step - loss: 0.3954 - accuracy: 0.8191\n",
      "Epoch 76/100\n",
      "629/629 [==============================] - 1s 1ms/step - loss: 0.3946 - accuracy: 0.8191\n",
      "Epoch 77/100\n",
      "629/629 [==============================] - 1s 1ms/step - loss: 0.3944 - accuracy: 0.8214\n",
      "Epoch 78/100\n",
      "629/629 [==============================] - 1s 1ms/step - loss: 0.3942 - accuracy: 0.8201\n",
      "Epoch 79/100\n",
      "629/629 [==============================] - 1s 1ms/step - loss: 0.3938 - accuracy: 0.8206\n",
      "Epoch 80/100\n",
      "629/629 [==============================] - 1s 1ms/step - loss: 0.3939 - accuracy: 0.8191\n",
      "Epoch 81/100\n",
      "629/629 [==============================] - 1s 1ms/step - loss: 0.3937 - accuracy: 0.8187\n",
      "Epoch 82/100\n",
      "629/629 [==============================] - 1s 1ms/step - loss: 0.3911 - accuracy: 0.8215\n",
      "Epoch 83/100\n",
      "629/629 [==============================] - 1s 1ms/step - loss: 0.3915 - accuracy: 0.8224\n",
      "Epoch 84/100\n",
      "629/629 [==============================] - 1s 1ms/step - loss: 0.3904 - accuracy: 0.8237\n",
      "Epoch 85/100\n",
      "629/629 [==============================] - 1s 1ms/step - loss: 0.3918 - accuracy: 0.8202\n",
      "Epoch 86/100\n",
      "629/629 [==============================] - 1s 1ms/step - loss: 0.3903 - accuracy: 0.8216\n",
      "Epoch 87/100\n",
      "629/629 [==============================] - 1s 1ms/step - loss: 0.3894 - accuracy: 0.8229\n",
      "Epoch 88/100\n",
      "629/629 [==============================] - 1s 1ms/step - loss: 0.3890 - accuracy: 0.8247\n",
      "Epoch 89/100\n",
      "629/629 [==============================] - 1s 1ms/step - loss: 0.3892 - accuracy: 0.8228\n",
      "Epoch 90/100\n",
      "629/629 [==============================] - 1s 1ms/step - loss: 0.3881 - accuracy: 0.8240\n",
      "Epoch 91/100\n",
      "629/629 [==============================] - 1s 1ms/step - loss: 0.3879 - accuracy: 0.8251\n",
      "Epoch 92/100\n",
      "629/629 [==============================] - 1s 1ms/step - loss: 0.3871 - accuracy: 0.8245\n",
      "Epoch 93/100\n",
      "629/629 [==============================] - 1s 1ms/step - loss: 0.3867 - accuracy: 0.8222\n",
      "Epoch 94/100\n",
      "629/629 [==============================] - 1s 1ms/step - loss: 0.3864 - accuracy: 0.8240\n",
      "Epoch 95/100\n",
      "629/629 [==============================] - 1s 1ms/step - loss: 0.3864 - accuracy: 0.8252\n",
      "Epoch 96/100\n",
      "629/629 [==============================] - 1s 1ms/step - loss: 0.3852 - accuracy: 0.8239\n",
      "Epoch 97/100\n",
      "629/629 [==============================] - 1s 1ms/step - loss: 0.3850 - accuracy: 0.8246\n",
      "Epoch 98/100\n",
      "629/629 [==============================] - 1s 1ms/step - loss: 0.3840 - accuracy: 0.8242\n",
      "Epoch 99/100\n",
      "629/629 [==============================] - 1s 1ms/step - loss: 0.3839 - accuracy: 0.8250\n",
      "Epoch 100/100\n",
      "629/629 [==============================] - 1s 1ms/step - loss: 0.3835 - accuracy: 0.8249\n"
     ]
    }
   ],
   "source": [
    "\n",
    "tf.random.set_seed(42)\n",
    "\n",
    "\n",
    "\n",
    "model2 = tf.keras.Sequential([\n",
    "  tf.keras.layers.Dense(20,activation = 'relu'),\n",
    "  tf.keras.layers.Dense(40,activation = 'relu'),\n",
    "  tf.keras.layers.Dense(20,activation = 'relu'),\n",
    "  tf.keras.layers.Dense(9,activation = 'relu'),\n",
    "  tf.keras.layers.Dense(1,activation = 'sigmoid')                            \n",
    "])\n",
    "\n",
    "\n",
    "model2.compile(loss = 'binary_crossentropy',\n",
    "                optimizer = tf.keras.optimizers.Adam(lr=0.001),\n",
    "                metrics = ['accuracy'])\n",
    "\n",
    "\n",
    "history_2 = model2.fit(x_train4,y_train4,epochs = 100)"
   ]
  },
  {
   "cell_type": "code",
   "execution_count": 38,
   "metadata": {},
   "outputs": [
    {
     "name": "stdout",
     "output_type": "stream",
     "text": [
      "210/210 [==============================] - 0s 990us/step - loss: 0.5042 - accuracy: 0.7698\n"
     ]
    },
    {
     "data": {
      "text/plain": [
       "[0.504170835018158, 0.7698389291763306]"
      ]
     },
     "execution_count": 38,
     "metadata": {},
     "output_type": "execute_result"
    }
   ],
   "source": [
    "model2.evaluate(x_test4,y_test4)"
   ]
  },
  {
   "cell_type": "code",
   "execution_count": 39,
   "metadata": {},
   "outputs": [
    {
     "name": "stdout",
     "output_type": "stream",
     "text": [
      "629/629 [==============================] - 1s 897us/step\n",
      "210/210 [==============================] - 0s 914us/step\n",
      "Training Results\n",
      "\n",
      "              precision    recall  f1-score   support\n",
      "\n",
      "           0       0.81      0.86      0.84     10036\n",
      "           1       0.85      0.80      0.83     10074\n",
      "\n",
      "    accuracy                           0.83     20110\n",
      "   macro avg       0.83      0.83      0.83     20110\n",
      "weighted avg       0.83      0.83      0.83     20110\n",
      "\n",
      "Testing Results\n",
      "\n",
      "              precision    recall  f1-score   support\n",
      "\n",
      "           0       0.75      0.81      0.78      3371\n",
      "           1       0.79      0.73      0.76      3333\n",
      "\n",
      "    accuracy                           0.77      6704\n",
      "   macro avg       0.77      0.77      0.77      6704\n",
      "weighted avg       0.77      0.77      0.77      6704\n",
      "\n"
     ]
    }
   ],
   "source": [
    "ypred_train22 = model2.predict(x_train4)\n",
    "y_pred_test22 = model2.predict(x_test4)\n",
    "\n",
    "y_pred_test22 = (y_pred_test22 > 0.5)\n",
    "ypred_train22 = (ypred_train22 > 0.5)\n",
    "print(\"Training Results\\n\")\n",
    "print(classification_report(y_train4,ypred_train22))\n",
    "print(\"Testing Results\\n\")\n",
    "print(classification_report(y_test4,y_pred_test22))"
   ]
  },
  {
   "cell_type": "code",
   "execution_count": 40,
   "metadata": {},
   "outputs": [
    {
     "name": "stdout",
     "output_type": "stream",
     "text": [
      "210/210 [==============================] - 0s 958us/step\n"
     ]
    },
    {
     "data": {
      "image/png": "[encoded data removed]",
      "text/plain": [
       "<Figure size 640x480 with 1 Axes>"
      ]
     },
     "metadata": {},
     "output_type": "display_data"
    }
   ],
   "source": [
    "# cross_val_scores = cross_val_score(model_22, x_train4, y_train4, cv=5)\n",
    "# print(\"Cross-validation scores:\", cross_val_scores)\n",
    "# print(\"Average cross-validation score:\", np.mean(cross_val_scores))\n",
    "y_proba_test = model2.predict(x_test4).flatten()\n",
    "\n",
    "\n",
    "fpr, tpr, thresholds = roc_curve(y_test4, y_proba_test)\n",
    "\n",
    "\n",
    "plt.plot(fpr, tpr, label='ROC Curve')\n",
    "plt.xlabel('False Positive Rate')\n",
    "plt.ylabel('True Positive Rate')\n",
    "plt.title('ROC Curve with AUC = {:.2f}'.format(roc_auc_score(y_test4, y_proba_test)))\n",
    "plt.legend(loc='lower right')\n",
    "plt.grid(True)\n",
    "plt.show()"
   ]
  },
  {
   "cell_type": "markdown",
   "metadata": {},
   "source": [
    "## inne próby sieci neuronowych "
   ]
  },
  {
   "cell_type": "code",
   "execution_count": 41,
   "metadata": {},
   "outputs": [
    {
     "name": "stderr",
     "output_type": "stream",
     "text": [
      "WARNING:absl:`lr` is deprecated in Keras optimizer, please use `learning_rate` or use the legacy optimizer, e.g.,tf.keras.optimizers.legacy.Adam.\n"
     ]
    },
    {
     "name": "stdout",
     "output_type": "stream",
     "text": [
      "Epoch 1/100\n",
      "629/629 [==============================] - 1s 1ms/step - loss: 0.5108 - accuracy: 0.7513\n",
      "Epoch 2/100\n",
      "629/629 [==============================] - 1s 1ms/step - loss: 0.4418 - accuracy: 0.7921\n",
      "Epoch 3/100\n",
      "629/629 [==============================] - 1s 1ms/step - loss: 0.4385 - accuracy: 0.7926\n",
      "Epoch 4/100\n",
      "629/629 [==============================] - 1s 1ms/step - loss: 0.4364 - accuracy: 0.7930\n",
      "Epoch 5/100\n",
      "629/629 [==============================] - 1s 977us/step - loss: 0.4354 - accuracy: 0.7935\n",
      "Epoch 6/100\n",
      "629/629 [==============================] - 1s 973us/step - loss: 0.4343 - accuracy: 0.7934\n",
      "Epoch 7/100\n",
      "629/629 [==============================] - 1s 971us/step - loss: 0.4348 - accuracy: 0.7939\n",
      "Epoch 8/100\n",
      "629/629 [==============================] - 1s 1ms/step - loss: 0.4335 - accuracy: 0.7940\n",
      "Epoch 9/100\n",
      "629/629 [==============================] - 1s 1ms/step - loss: 0.4332 - accuracy: 0.7940\n",
      "Epoch 10/100\n",
      "629/629 [==============================] - 1s 1ms/step - loss: 0.4323 - accuracy: 0.7931\n",
      "Epoch 11/100\n",
      "629/629 [==============================] - 1s 1ms/step - loss: 0.4322 - accuracy: 0.7942\n",
      "Epoch 12/100\n",
      "629/629 [==============================] - 1s 1ms/step - loss: 0.4314 - accuracy: 0.7961\n",
      "Epoch 13/100\n",
      "629/629 [==============================] - 1s 1ms/step - loss: 0.4312 - accuracy: 0.7957\n",
      "Epoch 14/100\n",
      "629/629 [==============================] - 1s 956us/step - loss: 0.4305 - accuracy: 0.7965\n",
      "Epoch 15/100\n",
      "629/629 [==============================] - 1s 964us/step - loss: 0.4309 - accuracy: 0.7954\n",
      "Epoch 16/100\n",
      "629/629 [==============================] - 1s 1ms/step - loss: 0.4306 - accuracy: 0.7965\n",
      "Epoch 17/100\n",
      "629/629 [==============================] - 1s 1ms/step - loss: 0.4300 - accuracy: 0.7975\n",
      "Epoch 18/100\n",
      "629/629 [==============================] - 1s 1ms/step - loss: 0.4295 - accuracy: 0.7972\n",
      "Epoch 19/100\n",
      "629/629 [==============================] - 1s 1ms/step - loss: 0.4297 - accuracy: 0.7977\n",
      "Epoch 20/100\n",
      "629/629 [==============================] - 1s 1ms/step - loss: 0.4292 - accuracy: 0.7958\n",
      "Epoch 21/100\n",
      "629/629 [==============================] - 1s 1ms/step - loss: 0.4290 - accuracy: 0.7964\n",
      "Epoch 22/100\n",
      "629/629 [==============================] - 1s 1ms/step - loss: 0.4286 - accuracy: 0.7985\n",
      "Epoch 23/100\n",
      "629/629 [==============================] - 1s 1ms/step - loss: 0.4289 - accuracy: 0.7979\n",
      "Epoch 24/100\n",
      "629/629 [==============================] - 1s 1ms/step - loss: 0.4289 - accuracy: 0.7974\n",
      "Epoch 25/100\n",
      "629/629 [==============================] - 1s 1ms/step - loss: 0.4279 - accuracy: 0.7991\n",
      "Epoch 26/100\n",
      "629/629 [==============================] - 1s 1ms/step - loss: 0.4284 - accuracy: 0.7959\n",
      "Epoch 27/100\n",
      "629/629 [==============================] - 1s 1ms/step - loss: 0.4285 - accuracy: 0.7974\n",
      "Epoch 28/100\n",
      "629/629 [==============================] - 1s 1ms/step - loss: 0.4282 - accuracy: 0.7966\n",
      "Epoch 29/100\n",
      "629/629 [==============================] - 1s 1ms/step - loss: 0.4277 - accuracy: 0.7969\n",
      "Epoch 30/100\n",
      "629/629 [==============================] - 1s 1ms/step - loss: 0.4275 - accuracy: 0.7975\n",
      "Epoch 31/100\n",
      "629/629 [==============================] - 1s 1ms/step - loss: 0.4276 - accuracy: 0.7982\n",
      "Epoch 32/100\n",
      "629/629 [==============================] - 1s 1ms/step - loss: 0.4270 - accuracy: 0.7982\n",
      "Epoch 33/100\n",
      "629/629 [==============================] - 1s 1ms/step - loss: 0.4267 - accuracy: 0.7972\n",
      "Epoch 34/100\n",
      "629/629 [==============================] - 1s 1ms/step - loss: 0.4273 - accuracy: 0.7973\n",
      "Epoch 35/100\n",
      "629/629 [==============================] - 1s 1ms/step - loss: 0.4268 - accuracy: 0.7982\n",
      "Epoch 36/100\n",
      "629/629 [==============================] - 1s 1ms/step - loss: 0.4271 - accuracy: 0.7969\n",
      "Epoch 37/100\n",
      "629/629 [==============================] - 1s 1ms/step - loss: 0.4267 - accuracy: 0.7979\n",
      "Epoch 38/100\n",
      "629/629 [==============================] - 1s 1ms/step - loss: 0.4266 - accuracy: 0.7977\n",
      "Epoch 39/100\n",
      "629/629 [==============================] - 1s 1ms/step - loss: 0.4263 - accuracy: 0.7992\n",
      "Epoch 40/100\n",
      "629/629 [==============================] - 1s 1ms/step - loss: 0.4265 - accuracy: 0.7974\n",
      "Epoch 41/100\n",
      "629/629 [==============================] - 1s 1ms/step - loss: 0.4261 - accuracy: 0.7979\n",
      "Epoch 42/100\n",
      "629/629 [==============================] - 1s 1ms/step - loss: 0.4260 - accuracy: 0.7984\n",
      "Epoch 43/100\n",
      "629/629 [==============================] - 1s 1ms/step - loss: 0.4257 - accuracy: 0.7991\n",
      "Epoch 44/100\n",
      "629/629 [==============================] - 1s 1ms/step - loss: 0.4254 - accuracy: 0.7983\n",
      "Epoch 45/100\n",
      "629/629 [==============================] - 1s 1ms/step - loss: 0.4256 - accuracy: 0.7983\n",
      "Epoch 46/100\n",
      "629/629 [==============================] - 1s 1ms/step - loss: 0.4260 - accuracy: 0.7984\n",
      "Epoch 47/100\n",
      "629/629 [==============================] - 1s 1ms/step - loss: 0.4246 - accuracy: 0.7996\n",
      "Epoch 48/100\n",
      "629/629 [==============================] - 1s 1ms/step - loss: 0.4249 - accuracy: 0.7980\n",
      "Epoch 49/100\n",
      "629/629 [==============================] - 1s 1ms/step - loss: 0.4255 - accuracy: 0.7976\n",
      "Epoch 50/100\n",
      "629/629 [==============================] - 1s 1ms/step - loss: 0.4250 - accuracy: 0.7996\n",
      "Epoch 51/100\n",
      "629/629 [==============================] - 1s 965us/step - loss: 0.4251 - accuracy: 0.7982\n",
      "Epoch 52/100\n",
      "629/629 [==============================] - 1s 921us/step - loss: 0.4245 - accuracy: 0.7999\n",
      "Epoch 53/100\n",
      "629/629 [==============================] - 1s 981us/step - loss: 0.4246 - accuracy: 0.7987\n",
      "Epoch 54/100\n",
      "629/629 [==============================] - 1s 936us/step - loss: 0.4247 - accuracy: 0.8000\n",
      "Epoch 55/100\n",
      "629/629 [==============================] - 1s 962us/step - loss: 0.4247 - accuracy: 0.7990\n",
      "Epoch 56/100\n",
      "629/629 [==============================] - 1s 937us/step - loss: 0.4240 - accuracy: 0.7981\n",
      "Epoch 57/100\n",
      "629/629 [==============================] - 1s 959us/step - loss: 0.4241 - accuracy: 0.7982\n",
      "Epoch 58/100\n",
      "629/629 [==============================] - 1s 961us/step - loss: 0.4242 - accuracy: 0.7995\n",
      "Epoch 59/100\n",
      "629/629 [==============================] - 1s 996us/step - loss: 0.4239 - accuracy: 0.7984\n",
      "Epoch 60/100\n",
      "629/629 [==============================] - 1s 941us/step - loss: 0.4239 - accuracy: 0.7987\n",
      "Epoch 61/100\n",
      "629/629 [==============================] - 1s 989us/step - loss: 0.4237 - accuracy: 0.7991\n",
      "Epoch 62/100\n",
      "629/629 [==============================] - 1s 963us/step - loss: 0.4244 - accuracy: 0.7996\n",
      "Epoch 63/100\n",
      "629/629 [==============================] - 1s 1ms/step - loss: 0.4235 - accuracy: 0.7987\n",
      "Epoch 64/100\n",
      "629/629 [==============================] - 1s 1ms/step - loss: 0.4239 - accuracy: 0.8003\n",
      "Epoch 65/100\n",
      "629/629 [==============================] - 1s 938us/step - loss: 0.4230 - accuracy: 0.8014\n",
      "Epoch 66/100\n",
      "629/629 [==============================] - 1s 953us/step - loss: 0.4230 - accuracy: 0.7989\n",
      "Epoch 67/100\n",
      "629/629 [==============================] - 1s 964us/step - loss: 0.4232 - accuracy: 0.7999\n",
      "Epoch 68/100\n",
      "629/629 [==============================] - 1s 981us/step - loss: 0.4228 - accuracy: 0.7988\n",
      "Epoch 69/100\n",
      "629/629 [==============================] - 1s 1ms/step - loss: 0.4231 - accuracy: 0.7997\n",
      "Epoch 70/100\n",
      "629/629 [==============================] - 1s 985us/step - loss: 0.4229 - accuracy: 0.8009\n",
      "Epoch 71/100\n",
      "629/629 [==============================] - 1s 956us/step - loss: 0.4230 - accuracy: 0.7995\n",
      "Epoch 72/100\n",
      "629/629 [==============================] - 1s 937us/step - loss: 0.4227 - accuracy: 0.7999\n",
      "Epoch 73/100\n",
      "629/629 [==============================] - 1s 955us/step - loss: 0.4227 - accuracy: 0.8020\n",
      "Epoch 74/100\n",
      "629/629 [==============================] - 1s 919us/step - loss: 0.4228 - accuracy: 0.7989\n",
      "Epoch 75/100\n",
      "629/629 [==============================] - 1s 1ms/step - loss: 0.4229 - accuracy: 0.7995\n",
      "Epoch 76/100\n",
      "629/629 [==============================] - 1s 984us/step - loss: 0.4224 - accuracy: 0.8013\n",
      "Epoch 77/100\n",
      "629/629 [==============================] - 1s 1ms/step - loss: 0.4228 - accuracy: 0.8004\n",
      "Epoch 78/100\n",
      "629/629 [==============================] - 1s 1ms/step - loss: 0.4222 - accuracy: 0.7995\n",
      "Epoch 79/100\n",
      "629/629 [==============================] - 1s 929us/step - loss: 0.4226 - accuracy: 0.7989\n",
      "Epoch 80/100\n",
      "629/629 [==============================] - 1s 952us/step - loss: 0.4228 - accuracy: 0.7990\n",
      "Epoch 81/100\n",
      "629/629 [==============================] - 1s 963us/step - loss: 0.4225 - accuracy: 0.8009\n",
      "Epoch 82/100\n",
      "629/629 [==============================] - 1s 936us/step - loss: 0.4223 - accuracy: 0.8010\n",
      "Epoch 83/100\n",
      "629/629 [==============================] - 1s 948us/step - loss: 0.4221 - accuracy: 0.8012\n",
      "Epoch 84/100\n",
      "629/629 [==============================] - 1s 927us/step - loss: 0.4217 - accuracy: 0.8003\n",
      "Epoch 85/100\n",
      "629/629 [==============================] - 1s 949us/step - loss: 0.4220 - accuracy: 0.7992\n",
      "Epoch 86/100\n",
      "629/629 [==============================] - 1s 932us/step - loss: 0.4225 - accuracy: 0.7984\n",
      "Epoch 87/100\n",
      "629/629 [==============================] - 1s 1ms/step - loss: 0.4218 - accuracy: 0.8021\n",
      "Epoch 88/100\n",
      "629/629 [==============================] - 1s 959us/step - loss: 0.4220 - accuracy: 0.8015\n",
      "Epoch 89/100\n",
      "629/629 [==============================] - 1s 930us/step - loss: 0.4218 - accuracy: 0.8010\n",
      "Epoch 90/100\n",
      "629/629 [==============================] - 1s 1ms/step - loss: 0.4211 - accuracy: 0.8018\n",
      "Epoch 91/100\n",
      "629/629 [==============================] - 1s 953us/step - loss: 0.4218 - accuracy: 0.8022\n",
      "Epoch 92/100\n",
      "629/629 [==============================] - 1s 958us/step - loss: 0.4216 - accuracy: 0.8013\n",
      "Epoch 93/100\n",
      "629/629 [==============================] - 1s 1ms/step - loss: 0.4216 - accuracy: 0.8005\n",
      "Epoch 94/100\n",
      "629/629 [==============================] - 1s 952us/step - loss: 0.4215 - accuracy: 0.8012\n",
      "Epoch 95/100\n",
      "629/629 [==============================] - 1s 973us/step - loss: 0.4218 - accuracy: 0.7999\n",
      "Epoch 96/100\n",
      "629/629 [==============================] - 1s 932us/step - loss: 0.4211 - accuracy: 0.8022\n",
      "Epoch 97/100\n",
      "629/629 [==============================] - 1s 985us/step - loss: 0.4213 - accuracy: 0.8007\n",
      "Epoch 98/100\n",
      "629/629 [==============================] - 1s 941us/step - loss: 0.4209 - accuracy: 0.8017\n",
      "Epoch 99/100\n",
      "629/629 [==============================] - 1s 1ms/step - loss: 0.4213 - accuracy: 0.8023\n",
      "Epoch 100/100\n",
      "629/629 [==============================] - 1s 1ms/step - loss: 0.4217 - accuracy: 0.8012\n"
     ]
    }
   ],
   "source": [
    "\n",
    "tf.random.set_seed(42)\n",
    "\n",
    "\n",
    "\n",
    "model3 = tf.keras.Sequential([\n",
    "  tf.keras.layers.Dense(20,activation = 'relu'),\n",
    "  tf.keras.layers.Dense(6,activation = 'relu'),\n",
    "  tf.keras.layers.Dense(6,activation = 'relu'),\n",
    "  tf.keras.layers.Dense(1,activation = 'sigmoid')                            \n",
    "])\n",
    "\n",
    "\n",
    "model3.compile(loss = 'binary_crossentropy',\n",
    "                optimizer = tf.keras.optimizers.Adam(lr=0.001),\n",
    "                metrics = ['accuracy'])\n",
    "\n",
    "\n",
    "history_2 = model3.fit(x_train4,y_train4,epochs = 100)"
   ]
  },
  {
   "cell_type": "code",
   "execution_count": 42,
   "metadata": {},
   "outputs": [
    {
     "name": "stdout",
     "output_type": "stream",
     "text": [
      "210/210 [==============================] - 0s 955us/step - loss: 0.4588 - accuracy: 0.7782\n"
     ]
    },
    {
     "data": {
      "text/plain": [
       "[0.45879673957824707, 0.7781921029090881]"
      ]
     },
     "execution_count": 42,
     "metadata": {},
     "output_type": "execute_result"
    }
   ],
   "source": [
    "model3.evaluate(x_test4,y_test4)"
   ]
  },
  {
   "cell_type": "code",
   "execution_count": 43,
   "metadata": {},
   "outputs": [
    {
     "name": "stdout",
     "output_type": "stream",
     "text": [
      "629/629 [==============================] - 1s 742us/step\n",
      "210/210 [==============================] - 0s 716us/step\n",
      "Training Results\n",
      "\n",
      "              precision    recall  f1-score   support\n",
      "\n",
      "           0       0.81      0.78      0.80     10036\n",
      "           1       0.79      0.82      0.81     10074\n",
      "\n",
      "    accuracy                           0.80     20110\n",
      "   macro avg       0.80      0.80      0.80     20110\n",
      "weighted avg       0.80      0.80      0.80     20110\n",
      "\n",
      "Testing Results\n",
      "\n",
      "              precision    recall  f1-score   support\n",
      "\n",
      "           0       0.78      0.77      0.78      3371\n",
      "           1       0.77      0.78      0.78      3333\n",
      "\n",
      "    accuracy                           0.78      6704\n",
      "   macro avg       0.78      0.78      0.78      6704\n",
      "weighted avg       0.78      0.78      0.78      6704\n",
      "\n"
     ]
    }
   ],
   "source": [
    "ypred_train11 = model3.predict(x_train4)\n",
    "y_pred_test11 = model3.predict(x_test4)\n",
    "\n",
    "y_pred_test11 = (y_pred_test11 > 0.5)\n",
    "ypred_train11 = (ypred_train11 > 0.5)\n",
    "print(\"Training Results\\n\")\n",
    "print(classification_report(y_train4,ypred_train11))\n",
    "print(\"Testing Results\\n\")\n",
    "print(classification_report(y_test4,y_pred_test11))"
   ]
  },
  {
   "cell_type": "code",
   "execution_count": 44,
   "metadata": {},
   "outputs": [
    {
     "name": "stdout",
     "output_type": "stream",
     "text": [
      "210/210 [==============================] - 0s 838us/step\n"
     ]
    },
    {
     "data": {
      "image/png": "[encoded data removed]",
      "text/plain": [
       "<Figure size 640x480 with 1 Axes>"
      ]
     },
     "metadata": {},
     "output_type": "display_data"
    }
   ],
   "source": [
    "# cross_val_scores = cross_val_score(model_2, x_train4, y_train4, cv=5)\n",
    "# print(\"Cross-validation scores:\", cross_val_scores)\n",
    "# print(\"Average cross-validation score:\", np.mean(cross_val_scores))\n",
    "y_proba_test = model3.predict(x_test4).flatten()\n",
    "\n",
    "\n",
    "fpr, tpr, thresholds = roc_curve(y_test4, y_proba_test)\n",
    "\n",
    "\n",
    "plt.plot(fpr, tpr, label='ROC Curve')\n",
    "plt.xlabel('False Positive Rate')\n",
    "plt.ylabel('True Positive Rate')\n",
    "plt.title('ROC Curve with AUC = {:.2f}'.format(roc_auc_score(y_test4, y_proba_test)))\n",
    "plt.legend(loc='lower right')\n",
    "plt.grid(True)\n",
    "plt.show()"
   ]
  },
  {
   "cell_type": "markdown",
   "metadata": {},
   "source": [
    "## inne próby sieci neuronowych "
   ]
  },
  {
   "cell_type": "code",
   "execution_count": 45,
   "metadata": {},
   "outputs": [],
   "source": [
    "model4 = Sequential()\n",
    "model4.add(Dense(units=20,activation='relu'))\n",
    "model4.add(Dropout(0.5))\n",
    "\n",
    "model4.add(Dense(units=15,activation='relu'))\n",
    "model4.add(Dropout(0.5))\n",
    "\n",
    "model4.add(Dense(units=1,activation='sigmoid'))\n",
    "model4.compile(loss='binary_crossentropy', optimizer='adam')"
   ]
  },
  {
   "cell_type": "code",
   "execution_count": 46,
   "metadata": {},
   "outputs": [
    {
     "name": "stdout",
     "output_type": "stream",
     "text": [
      "Epoch 1/100\n",
      "629/629 [==============================] - 1s 1ms/step - loss: 0.6176 - val_loss: 0.5021\n",
      "Epoch 2/100\n",
      "629/629 [==============================] - 1s 1ms/step - loss: 0.5237 - val_loss: 0.4686\n",
      "Epoch 3/100\n",
      "629/629 [==============================] - 1s 1ms/step - loss: 0.5066 - val_loss: 0.4600\n",
      "Epoch 4/100\n",
      "629/629 [==============================] - 1s 1ms/step - loss: 0.4925 - val_loss: 0.4554\n",
      "Epoch 5/100\n",
      "629/629 [==============================] - 1s 1ms/step - loss: 0.4875 - val_loss: 0.4509\n",
      "Epoch 6/100\n",
      "629/629 [==============================] - 1s 1ms/step - loss: 0.4806 - val_loss: 0.4513\n",
      "Epoch 7/100\n",
      "629/629 [==============================] - 1s 1ms/step - loss: 0.4748 - val_loss: 0.4477\n",
      "Epoch 8/100\n",
      "629/629 [==============================] - 1s 1ms/step - loss: 0.4705 - val_loss: 0.4486\n",
      "Epoch 9/100\n",
      "629/629 [==============================] - 1s 1ms/step - loss: 0.4724 - val_loss: 0.4485\n",
      "Epoch 10/100\n",
      "629/629 [==============================] - 1s 1ms/step - loss: 0.4723 - val_loss: 0.4486\n",
      "Epoch 11/100\n",
      "629/629 [==============================] - 1s 1ms/step - loss: 0.4706 - val_loss: 0.4486\n",
      "Epoch 12/100\n",
      "629/629 [==============================] - 1s 1ms/step - loss: 0.4713 - val_loss: 0.4481\n",
      "Epoch 13/100\n",
      "629/629 [==============================] - 1s 1ms/step - loss: 0.4677 - val_loss: 0.4471\n",
      "Epoch 14/100\n",
      "629/629 [==============================] - 1s 1ms/step - loss: 0.4717 - val_loss: 0.4504\n",
      "Epoch 15/100\n",
      "629/629 [==============================] - 1s 1ms/step - loss: 0.4651 - val_loss: 0.4477\n",
      "Epoch 16/100\n",
      "629/629 [==============================] - 1s 1ms/step - loss: 0.4673 - val_loss: 0.4469\n",
      "Epoch 17/100\n",
      "629/629 [==============================] - 1s 1ms/step - loss: 0.4651 - val_loss: 0.4472\n",
      "Epoch 18/100\n",
      "629/629 [==============================] - 1s 1ms/step - loss: 0.4685 - val_loss: 0.4484\n",
      "Epoch 19/100\n",
      "629/629 [==============================] - 1s 1ms/step - loss: 0.4682 - val_loss: 0.4477\n",
      "Epoch 20/100\n",
      "629/629 [==============================] - 1s 1ms/step - loss: 0.4655 - val_loss: 0.4490\n",
      "Epoch 21/100\n",
      "629/629 [==============================] - 1s 1ms/step - loss: 0.4632 - val_loss: 0.4480\n",
      "Epoch 22/100\n",
      "629/629 [==============================] - 1s 1ms/step - loss: 0.4667 - val_loss: 0.4485\n",
      "Epoch 23/100\n",
      "629/629 [==============================] - 1s 1ms/step - loss: 0.4678 - val_loss: 0.4486\n",
      "Epoch 24/100\n",
      "629/629 [==============================] - 1s 1ms/step - loss: 0.4623 - val_loss: 0.4466\n",
      "Epoch 25/100\n",
      "629/629 [==============================] - 1s 1ms/step - loss: 0.4673 - val_loss: 0.4482\n",
      "Epoch 26/100\n",
      "629/629 [==============================] - 1s 1ms/step - loss: 0.4618 - val_loss: 0.4469\n",
      "Epoch 27/100\n",
      "629/629 [==============================] - 1s 1ms/step - loss: 0.4644 - val_loss: 0.4473\n",
      "Epoch 28/100\n",
      "629/629 [==============================] - 1s 1ms/step - loss: 0.4638 - val_loss: 0.4473\n",
      "Epoch 29/100\n",
      "629/629 [==============================] - 1s 1ms/step - loss: 0.4646 - val_loss: 0.4461\n",
      "Epoch 30/100\n",
      "629/629 [==============================] - 1s 1ms/step - loss: 0.4623 - val_loss: 0.4472\n",
      "Epoch 31/100\n",
      "629/629 [==============================] - 1s 1ms/step - loss: 0.4642 - val_loss: 0.4471\n",
      "Epoch 32/100\n",
      "629/629 [==============================] - 1s 1ms/step - loss: 0.4631 - val_loss: 0.4475\n",
      "Epoch 33/100\n",
      "629/629 [==============================] - 1s 1ms/step - loss: 0.4613 - val_loss: 0.4484\n",
      "Epoch 34/100\n",
      "629/629 [==============================] - 1s 1ms/step - loss: 0.4636 - val_loss: 0.4474\n",
      "Epoch 35/100\n",
      "629/629 [==============================] - 1s 1ms/step - loss: 0.4612 - val_loss: 0.4492\n",
      "Epoch 36/100\n",
      "629/629 [==============================] - 1s 1ms/step - loss: 0.4645 - val_loss: 0.4479\n",
      "Epoch 37/100\n",
      "629/629 [==============================] - 1s 1ms/step - loss: 0.4629 - val_loss: 0.4472\n",
      "Epoch 38/100\n",
      "629/629 [==============================] - 1s 1ms/step - loss: 0.4619 - val_loss: 0.4481\n",
      "Epoch 39/100\n",
      "629/629 [==============================] - 1s 1ms/step - loss: 0.4629 - val_loss: 0.4477\n",
      "Epoch 40/100\n",
      "629/629 [==============================] - 1s 1ms/step - loss: 0.4611 - val_loss: 0.4473\n",
      "Epoch 41/100\n",
      "629/629 [==============================] - 1s 1ms/step - loss: 0.4600 - val_loss: 0.4479\n",
      "Epoch 42/100\n",
      "629/629 [==============================] - 1s 1ms/step - loss: 0.4629 - val_loss: 0.4481\n",
      "Epoch 43/100\n",
      "629/629 [==============================] - 1s 1ms/step - loss: 0.4630 - val_loss: 0.4493\n",
      "Epoch 44/100\n",
      "629/629 [==============================] - 1s 1ms/step - loss: 0.4621 - val_loss: 0.4482\n",
      "Epoch 45/100\n",
      "629/629 [==============================] - 1s 1ms/step - loss: 0.4612 - val_loss: 0.4495\n",
      "Epoch 46/100\n",
      "629/629 [==============================] - 1s 1ms/step - loss: 0.4625 - val_loss: 0.4480\n",
      "Epoch 47/100\n",
      "629/629 [==============================] - 1s 1ms/step - loss: 0.4598 - val_loss: 0.4491\n",
      "Epoch 48/100\n",
      "629/629 [==============================] - 1s 1ms/step - loss: 0.4629 - val_loss: 0.4472\n",
      "Epoch 49/100\n",
      "629/629 [==============================] - 1s 1ms/step - loss: 0.4634 - val_loss: 0.4480\n",
      "Epoch 50/100\n",
      "629/629 [==============================] - 1s 1ms/step - loss: 0.4638 - val_loss: 0.4479\n",
      "Epoch 51/100\n",
      "629/629 [==============================] - 1s 1ms/step - loss: 0.4619 - val_loss: 0.4472\n",
      "Epoch 52/100\n",
      "629/629 [==============================] - 1s 1ms/step - loss: 0.4657 - val_loss: 0.4480\n",
      "Epoch 53/100\n",
      "629/629 [==============================] - 1s 1ms/step - loss: 0.4651 - val_loss: 0.4488\n",
      "Epoch 54/100\n",
      "629/629 [==============================] - 1s 1ms/step - loss: 0.4646 - val_loss: 0.4475\n",
      "Epoch 54: early stopping\n"
     ]
    },
    {
     "data": {
      "text/plain": [
       "<keras.src.callbacks.History at 0x1d44723ef90>"
      ]
     },
     "execution_count": 46,
     "metadata": {},
     "output_type": "execute_result"
    }
   ],
   "source": [
    "model4.fit(x=x_train4, \n",
    "          y=y_train4, \n",
    "          epochs=100,\n",
    "          validation_data=(x_test4, y_test4), verbose=1,\n",
    "          callbacks=[early_stop]\n",
    "          )"
   ]
  },
  {
   "cell_type": "code",
   "execution_count": 47,
   "metadata": {},
   "outputs": [
    {
     "name": "stdout",
     "output_type": "stream",
     "text": [
      "629/629 [==============================] - 1s 772us/step\n",
      "210/210 [==============================] - 0s 745us/step\n",
      "Training Results\n",
      "\n",
      "              precision    recall  f1-score   support\n",
      "\n",
      "           0       0.80      0.78      0.79     10036\n",
      "           1       0.79      0.81      0.80     10074\n",
      "\n",
      "    accuracy                           0.80     20110\n",
      "   macro avg       0.80      0.80      0.80     20110\n",
      "weighted avg       0.80      0.80      0.80     20110\n",
      "\n",
      "Testing Results\n",
      "\n",
      "              precision    recall  f1-score   support\n",
      "\n",
      "           0       0.79      0.79      0.79      3371\n",
      "           1       0.78      0.79      0.79      3333\n",
      "\n",
      "    accuracy                           0.79      6704\n",
      "   macro avg       0.79      0.79      0.79      6704\n",
      "weighted avg       0.79      0.79      0.79      6704\n",
      "\n"
     ]
    }
   ],
   "source": [
    "ypred_train12 = model4.predict(x_train4)\n",
    "y_pred_test12 = model4.predict(x_test4)\n",
    "\n",
    "y_pred_test12 = (y_pred_test12 > 0.5)\n",
    "ypred_train12 = (ypred_train12 > 0.5)\n",
    "print(\"Training Results\\n\")\n",
    "print(classification_report(y_train4,ypred_train12))\n",
    "print(\"Testing Results\\n\")\n",
    "print(classification_report(y_test4,y_pred_test12))"
   ]
  },
  {
   "cell_type": "code",
   "execution_count": 48,
   "metadata": {},
   "outputs": [
    {
     "name": "stdout",
     "output_type": "stream",
     "text": [
      "210/210 [==============================] - 0s 822us/step\n"
     ]
    },
    {
     "data": {
      "image/png": "[encoded data removed]",
      "text/plain": [
       "<Figure size 640x480 with 1 Axes>"
      ]
     },
     "metadata": {},
     "output_type": "display_data"
    }
   ],
   "source": [
    "# cross_val_scores = cross_val_score(model1, x_train4, y_train4, cv=5)\n",
    "# print(\"Cross-validation scores:\", cross_val_scores)\n",
    "# print(\"Average cross-validation score:\", np.mean(cross_val_scores))\n",
    "y_proba_test = model4.predict(x_test4).flatten()\n",
    "\n",
    "\n",
    "fpr, tpr, thresholds = roc_curve(y_test4, y_proba_test)\n",
    "\n",
    "\n",
    "plt.plot(fpr, tpr, label='ROC Curve')\n",
    "plt.xlabel('False Positive Rate')\n",
    "plt.ylabel('True Positive Rate')\n",
    "plt.title('ROC Curve with AUC = {:.2f}'.format(roc_auc_score(y_test4, y_proba_test)))\n",
    "plt.legend(loc='lower right')\n",
    "plt.grid(True)\n",
    "plt.show()"
   ]
  },
  {
   "cell_type": "markdown",
   "metadata": {},
   "source": [
    "## inny model"
   ]
  },
  {
   "cell_type": "code",
   "execution_count": 49,
   "metadata": {},
   "outputs": [],
   "source": [
    "model5 = Sequential()\n",
    "\n",
    "\n",
    "\n",
    "model5.add(Dense(20,  activation='relu'))\n",
    "model5.add(Dropout(0.2))\n",
    "\n",
    "model5.add(Dense(10, activation='relu'))\n",
    "model5.add(Dropout(0.2))\n",
    "\n",
    "model5.add(Dense(units=1,activation='sigmoid'))\n",
    "\n",
    "model5.compile(loss='binary_crossentropy', optimizer='adam')"
   ]
  },
  {
   "cell_type": "code",
   "execution_count": 50,
   "metadata": {},
   "outputs": [
    {
     "name": "stdout",
     "output_type": "stream",
     "text": [
      "Epoch 1/100\n",
      "629/629 [==============================] - 1s 2ms/step - loss: 0.5516 - val_loss: 0.4704\n",
      "Epoch 2/100\n",
      "629/629 [==============================] - 1s 1ms/step - loss: 0.4768 - val_loss: 0.4563\n",
      "Epoch 3/100\n",
      "629/629 [==============================] - 1s 1ms/step - loss: 0.4622 - val_loss: 0.4493\n",
      "Epoch 4/100\n",
      "629/629 [==============================] - 1s 1ms/step - loss: 0.4555 - val_loss: 0.4479\n",
      "Epoch 5/100\n",
      "629/629 [==============================] - 1s 1ms/step - loss: 0.4553 - val_loss: 0.4466\n",
      "Epoch 6/100\n",
      "629/629 [==============================] - 1s 1ms/step - loss: 0.4503 - val_loss: 0.4503\n",
      "Epoch 7/100\n",
      "629/629 [==============================] - 1s 1ms/step - loss: 0.4509 - val_loss: 0.4467\n",
      "Epoch 8/100\n",
      "629/629 [==============================] - 1s 1ms/step - loss: 0.4502 - val_loss: 0.4478\n",
      "Epoch 9/100\n",
      "629/629 [==============================] - 1s 1ms/step - loss: 0.4505 - val_loss: 0.4478\n",
      "Epoch 10/100\n",
      "629/629 [==============================] - 1s 1ms/step - loss: 0.4488 - val_loss: 0.4463\n",
      "Epoch 11/100\n",
      "629/629 [==============================] - 1s 1ms/step - loss: 0.4474 - val_loss: 0.4448\n",
      "Epoch 12/100\n",
      "629/629 [==============================] - 1s 1ms/step - loss: 0.4488 - val_loss: 0.4450\n",
      "Epoch 13/100\n",
      "629/629 [==============================] - 1s 1ms/step - loss: 0.4471 - val_loss: 0.4456\n",
      "Epoch 14/100\n",
      "629/629 [==============================] - 1s 1ms/step - loss: 0.4455 - val_loss: 0.4463\n",
      "Epoch 15/100\n",
      "629/629 [==============================] - 1s 1ms/step - loss: 0.4444 - val_loss: 0.4455\n",
      "Epoch 16/100\n",
      "629/629 [==============================] - 1s 1ms/step - loss: 0.4478 - val_loss: 0.4463\n",
      "Epoch 17/100\n",
      "629/629 [==============================] - 1s 1ms/step - loss: 0.4436 - val_loss: 0.4459\n",
      "Epoch 18/100\n",
      "629/629 [==============================] - 1s 1ms/step - loss: 0.4447 - val_loss: 0.4467\n",
      "Epoch 19/100\n",
      "629/629 [==============================] - 1s 1ms/step - loss: 0.4438 - val_loss: 0.4454\n",
      "Epoch 20/100\n",
      "629/629 [==============================] - 1s 1ms/step - loss: 0.4430 - val_loss: 0.4458\n",
      "Epoch 21/100\n",
      "629/629 [==============================] - 1s 1ms/step - loss: 0.4424 - val_loss: 0.4479\n",
      "Epoch 22/100\n",
      "629/629 [==============================] - 1s 1ms/step - loss: 0.4428 - val_loss: 0.4458\n",
      "Epoch 23/100\n",
      "629/629 [==============================] - 1s 1ms/step - loss: 0.4445 - val_loss: 0.4478\n",
      "Epoch 24/100\n",
      "629/629 [==============================] - 1s 1ms/step - loss: 0.4430 - val_loss: 0.4454\n",
      "Epoch 25/100\n",
      "629/629 [==============================] - 1s 1ms/step - loss: 0.4435 - val_loss: 0.4462\n",
      "Epoch 26/100\n",
      "629/629 [==============================] - 1s 1ms/step - loss: 0.4418 - val_loss: 0.4464\n",
      "Epoch 27/100\n",
      "629/629 [==============================] - 1s 1ms/step - loss: 0.4429 - val_loss: 0.4469\n",
      "Epoch 28/100\n",
      "629/629 [==============================] - 1s 1ms/step - loss: 0.4403 - val_loss: 0.4458\n",
      "Epoch 29/100\n",
      "629/629 [==============================] - 1s 1ms/step - loss: 0.4426 - val_loss: 0.4461\n",
      "Epoch 30/100\n",
      "629/629 [==============================] - 1s 1ms/step - loss: 0.4396 - val_loss: 0.4458\n",
      "Epoch 31/100\n",
      "629/629 [==============================] - 1s 1ms/step - loss: 0.4406 - val_loss: 0.4464\n",
      "Epoch 32/100\n",
      "629/629 [==============================] - 1s 1ms/step - loss: 0.4423 - val_loss: 0.4467\n",
      "Epoch 33/100\n",
      "629/629 [==============================] - 1s 1ms/step - loss: 0.4401 - val_loss: 0.4483\n",
      "Epoch 34/100\n",
      "629/629 [==============================] - 1s 1ms/step - loss: 0.4395 - val_loss: 0.4482\n",
      "Epoch 35/100\n",
      "629/629 [==============================] - 1s 1ms/step - loss: 0.4407 - val_loss: 0.4473\n",
      "Epoch 36/100\n",
      "629/629 [==============================] - 1s 1ms/step - loss: 0.4418 - val_loss: 0.4465\n",
      "Epoch 36: early stopping\n"
     ]
    },
    {
     "data": {
      "text/plain": [
       "<keras.src.callbacks.History at 0x1d4480e7f50>"
      ]
     },
     "execution_count": 50,
     "metadata": {},
     "output_type": "execute_result"
    }
   ],
   "source": [
    "model5.fit(x=x_train4, \n",
    "          y=y_train4, \n",
    "          epochs=100,\n",
    "          validation_data=(x_test4, y_test4), verbose=1,\n",
    "          callbacks=[early_stop]\n",
    "          )"
   ]
  },
  {
   "cell_type": "code",
   "execution_count": 51,
   "metadata": {},
   "outputs": [
    {
     "name": "stdout",
     "output_type": "stream",
     "text": [
      "629/629 [==============================] - 1s 763us/step\n",
      "210/210 [==============================] - 0s 712us/step\n",
      "Training Results\n",
      "\n",
      "              precision    recall  f1-score   support\n",
      "\n",
      "           0       0.80      0.80      0.80     10036\n",
      "           1       0.80      0.80      0.80     10074\n",
      "\n",
      "    accuracy                           0.80     20110\n",
      "   macro avg       0.80      0.80      0.80     20110\n",
      "weighted avg       0.80      0.80      0.80     20110\n",
      "\n",
      "Testing Results\n",
      "\n",
      "              precision    recall  f1-score   support\n",
      "\n",
      "           0       0.78      0.79      0.79      3371\n",
      "           1       0.79      0.77      0.78      3333\n",
      "\n",
      "    accuracy                           0.78      6704\n",
      "   macro avg       0.78      0.78      0.78      6704\n",
      "weighted avg       0.78      0.78      0.78      6704\n",
      "\n"
     ]
    }
   ],
   "source": [
    "ypred_train13 = model5.predict(x_train4)\n",
    "y_pred_test13 = model5.predict(x_test4)\n",
    "\n",
    "y_pred_test13 = (y_pred_test13 > 0.5)\n",
    "ypred_train13 = (ypred_train13 > 0.5)\n",
    "\n",
    "print(\"Training Results\\n\")\n",
    "print(classification_report(y_train4,ypred_train13))\n",
    "print(\"Testing Results\\n\")\n",
    "print(classification_report(y_test4,y_pred_test13))"
   ]
  },
  {
   "cell_type": "code",
   "execution_count": 52,
   "metadata": {},
   "outputs": [
    {
     "name": "stdout",
     "output_type": "stream",
     "text": [
      "210/210 [==============================] - 0s 707us/step\n"
     ]
    },
    {
     "data": {
      "image/png": "[encoded data removed]",
      "text/plain": [
       "<Figure size 640x480 with 1 Axes>"
      ]
     },
     "metadata": {},
     "output_type": "display_data"
    }
   ],
   "source": [
    "# cross_val_scores = cross_val_score(model2, x_train4, y_train4, cv=5)\n",
    "# print(\"Cross-validation scores:\", cross_val_scores)\n",
    "# print(\"Average cross-validation score:\", np.mean(cross_val_scores))\n",
    "y_proba_test = model5.predict(x_test4).flatten()\n",
    "\n",
    "\n",
    "fpr, tpr, thresholds = roc_curve(y_test4, y_proba_test)\n",
    "\n",
    "\n",
    "plt.plot(fpr, tpr, label='ROC Curve')\n",
    "plt.xlabel('False Positive Rate')\n",
    "plt.ylabel('True Positive Rate')\n",
    "plt.title('ROC Curve with AUC = {:.2f}'.format(roc_auc_score(y_test4, y_proba_test)))\n",
    "plt.legend(loc='lower right')\n",
    "plt.grid(True)\n",
    "plt.show()"
   ]
  },
  {
   "cell_type": "markdown",
   "metadata": {},
   "source": [
    "## SVC"
   ]
  },
  {
   "cell_type": "code",
   "execution_count": 53,
   "metadata": {},
   "outputs": [],
   "source": [
    "model3 = SVC(probability=True)"
   ]
  },
  {
   "cell_type": "code",
   "execution_count": 54,
   "metadata": {},
   "outputs": [
    {
     "data": {
      "text/html": [
       "<style>#sk-container-id-4 {color: black;}#sk-container-id-4 pre{padding: 0;}#sk-container-id-4 div.sk-toggleable {background-color: white;}#sk-container-id-4 label.sk-toggleable__label {cursor: pointer;display: block;width: 100%;margin-bottom: 0;padding: 0.3em;box-sizing: border-box;text-align: center;}#sk-container-id-4 label.sk-toggleable__label-arrow:before {content: \"▸\";float: left;margin-right: 0.25em;color: #696969;}#sk-container-id-4 label.sk-toggleable__label-arrow:hover:before {color: black;}#sk-container-id-4 div.sk-estimator:hover label.sk-toggleable__label-arrow:before {color: black;}#sk-container-id-4 div.sk-toggleable__content {max-height: 0;max-width: 0;overflow: hidden;text-align: left;background-color: #f0f8ff;}#sk-container-id-4 div.sk-toggleable__content pre {margin: 0.2em;color: black;border-radius: 0.25em;background-color: #f0f8ff;}#sk-container-id-4 input.sk-toggleable__control:checked~div.sk-toggleable__content {max-height: 200px;max-width: 100%;overflow: auto;}#sk-container-id-4 input.sk-toggleable__control:checked~label.sk-toggleable__label-arrow:before {content: \"▾\";}#sk-container-id-4 div.sk-estimator input.sk-toggleable__control:checked~label.sk-toggleable__label {background-color: #d4ebff;}#sk-container-id-4 div.sk-label input.sk-toggleable__control:checked~label.sk-toggleable__label {background-color: #d4ebff;}#sk-container-id-4 input.sk-hidden--visually {border: 0;clip: rect(1px 1px 1px 1px);clip: rect(1px, 1px, 1px, 1px);height: 1px;margin: -1px;overflow: hidden;padding: 0;position: absolute;width: 1px;}#sk-container-id-4 div.sk-estimator {font-family: monospace;background-color: #f0f8ff;border: 1px dotted black;border-radius: 0.25em;box-sizing: border-box;margin-bottom: 0.5em;}#sk-container-id-4 div.sk-estimator:hover {background-color: #d4ebff;}#sk-container-id-4 div.sk-parallel-item::after {content: \"\";width: 100%;border-bottom: 1px solid gray;flex-grow: 1;}#sk-container-id-4 div.sk-label:hover label.sk-toggleable__label {background-color: #d4ebff;}#sk-container-id-4 div.sk-serial::before {content: \"\";position: absolute;border-left: 1px solid gray;box-sizing: border-box;top: 0;bottom: 0;left: 50%;z-index: 0;}#sk-container-id-4 div.sk-serial {display: flex;flex-direction: column;align-items: center;background-color: white;padding-right: 0.2em;padding-left: 0.2em;position: relative;}#sk-container-id-4 div.sk-item {position: relative;z-index: 1;}#sk-container-id-4 div.sk-parallel {display: flex;align-items: stretch;justify-content: center;background-color: white;position: relative;}#sk-container-id-4 div.sk-item::before, #sk-container-id-4 div.sk-parallel-item::before {content: \"\";position: absolute;border-left: 1px solid gray;box-sizing: border-box;top: 0;bottom: 0;left: 50%;z-index: -1;}#sk-container-id-4 div.sk-parallel-item {display: flex;flex-direction: column;z-index: 1;position: relative;background-color: white;}#sk-container-id-4 div.sk-parallel-item:first-child::after {align-self: flex-end;width: 50%;}#sk-container-id-4 div.sk-parallel-item:last-child::after {align-self: flex-start;width: 50%;}#sk-container-id-4 div.sk-parallel-item:only-child::after {width: 0;}#sk-container-id-4 div.sk-dashed-wrapped {border: 1px dashed gray;margin: 0 0.4em 0.5em 0.4em;box-sizing: border-box;padding-bottom: 0.4em;background-color: white;}#sk-container-id-4 div.sk-label label {font-family: monospace;font-weight: bold;display: inline-block;line-height: 1.2em;}#sk-container-id-4 div.sk-label-container {text-align: center;}#sk-container-id-4 div.sk-container {/* jupyter's `normalize.less` sets `[hidden] { display: none; }` but bootstrap.min.css set `[hidden] { display: none !important; }` so we also need the `!important` here to be able to override the default hidden behavior on the sphinx rendered scikit-learn.org. See: https://github.com/scikit-learn/scikit-learn/issues/21755 */display: inline-block !important;position: relative;}#sk-container-id-4 div.sk-text-repr-fallback {display: none;}</style><div id=\"sk-container-id-4\" class=\"sk-top-container\"><div class=\"sk-text-repr-fallback\"><pre>SVC(probability=True)</pre><b>In a Jupyter environment, please rerun this cell to show the HTML representation or trust the notebook. <br />On GitHub, the HTML representation is unable to render, please try loading this page with nbviewer.org.</b></div><div class=\"sk-container\" hidden><div class=\"sk-item\"><div class=\"sk-estimator sk-toggleable\"><input class=\"sk-toggleable__control sk-hidden--visually\" id=\"sk-estimator-id-6\" type=\"checkbox\" checked><label for=\"sk-estimator-id-6\" class=\"sk-toggleable__label sk-toggleable__label-arrow\">SVC</label><div class=\"sk-toggleable__content\"><pre>SVC(probability=True)</pre></div></div></div></div></div>"
      ],
      "text/plain": [
       "SVC(probability=True)"
      ]
     },
     "execution_count": 54,
     "metadata": {},
     "output_type": "execute_result"
    }
   ],
   "source": [
    "model3.fit(x_train4,y_train4)"
   ]
  },
  {
   "cell_type": "code",
   "execution_count": 55,
   "metadata": {},
   "outputs": [
    {
     "name": "stdout",
     "output_type": "stream",
     "text": [
      "Training Results\n",
      "\n",
      "              precision    recall  f1-score   support\n",
      "\n",
      "           0       0.76      0.86      0.81     10036\n",
      "           1       0.84      0.74      0.79     10074\n",
      "\n",
      "    accuracy                           0.80     20110\n",
      "   macro avg       0.80      0.80      0.80     20110\n",
      "weighted avg       0.80      0.80      0.80     20110\n",
      "\n",
      "Testing Results\n",
      "\n",
      "              precision    recall  f1-score   support\n",
      "\n",
      "           0       0.75      0.86      0.80      3371\n",
      "           1       0.83      0.71      0.77      3333\n",
      "\n",
      "    accuracy                           0.78      6704\n",
      "   macro avg       0.79      0.78      0.78      6704\n",
      "weighted avg       0.79      0.78      0.78      6704\n",
      "\n"
     ]
    }
   ],
   "source": [
    "ypred_train14 = model3.predict(x_train4)\n",
    "y_pred_test14 = model3.predict(x_test4)\n",
    "\n",
    "print(\"Training Results\\n\")\n",
    "print(classification_report(y_train4,ypred_train14))\n",
    "print(\"Testing Results\\n\")\n",
    "print(classification_report(y_test4,y_pred_test14))"
   ]
  },
  {
   "cell_type": "code",
   "execution_count": 56,
   "metadata": {},
   "outputs": [],
   "source": [
    "param_grid = {'C': [0.1,1, 10, 100, 1000], 'gamma': [1,0.1,0.01,0.001,0.0001], 'kernel': ['rbf']} "
   ]
  },
  {
   "cell_type": "code",
   "execution_count": 57,
   "metadata": {},
   "outputs": [],
   "source": [
    "grid = GridSearchCV(SVC(),param_grid,refit=True,verbose=3)"
   ]
  },
  {
   "cell_type": "code",
   "execution_count": 58,
   "metadata": {},
   "outputs": [
    {
     "name": "stdout",
     "output_type": "stream",
     "text": [
      "Fitting 5 folds for each of 25 candidates, totalling 125 fits\n",
      "[CV 1/5] END ........C=0.1, gamma=1, kernel=rbf;, score=0.788 total time=   6.4s\n",
      "[CV 2/5] END ........C=0.1, gamma=1, kernel=rbf;, score=0.779 total time=   6.2s\n",
      "[CV 3/5] END ........C=0.1, gamma=1, kernel=rbf;, score=0.778 total time=   6.2s\n",
      "[CV 4/5] END ........C=0.1, gamma=1, kernel=rbf;, score=0.786 total time=   6.4s\n",
      "[CV 5/5] END ........C=0.1, gamma=1, kernel=rbf;, score=0.776 total time=   6.5s\n",
      "[CV 1/5] END ......C=0.1, gamma=0.1, kernel=rbf;, score=0.780 total time=   5.4s\n",
      "[CV 2/5] END ......C=0.1, gamma=0.1, kernel=rbf;, score=0.782 total time=   5.4s\n",
      "[CV 3/5] END ......C=0.1, gamma=0.1, kernel=rbf;, score=0.776 total time=   5.3s\n",
      "[CV 4/5] END ......C=0.1, gamma=0.1, kernel=rbf;, score=0.783 total time=   5.3s\n",
      "[CV 5/5] END ......C=0.1, gamma=0.1, kernel=rbf;, score=0.780 total time=   5.2s\n",
      "[CV 1/5] END .....C=0.1, gamma=0.01, kernel=rbf;, score=0.775 total time=   6.3s\n",
      "[CV 2/5] END .....C=0.1, gamma=0.01, kernel=rbf;, score=0.779 total time=   6.7s\n",
      "[CV 3/5] END .....C=0.1, gamma=0.01, kernel=rbf;, score=0.772 total time=   6.4s\n",
      "[CV 4/5] END .....C=0.1, gamma=0.01, kernel=rbf;, score=0.777 total time=   7.3s\n",
      "[CV 5/5] END .....C=0.1, gamma=0.01, kernel=rbf;, score=0.775 total time=   7.8s\n",
      "[CV 1/5] END ....C=0.1, gamma=0.001, kernel=rbf;, score=0.755 total time=  10.2s\n",
      "[CV 2/5] END ....C=0.1, gamma=0.001, kernel=rbf;, score=0.758 total time=  10.1s\n",
      "[CV 3/5] END ....C=0.1, gamma=0.001, kernel=rbf;, score=0.756 total time=  11.0s\n",
      "[CV 4/5] END ....C=0.1, gamma=0.001, kernel=rbf;, score=0.755 total time=  11.6s\n",
      "[CV 5/5] END ....C=0.1, gamma=0.001, kernel=rbf;, score=0.759 total time=  14.5s\n",
      "[CV 1/5] END ...C=0.1, gamma=0.0001, kernel=rbf;, score=0.501 total time=  15.7s\n",
      "[CV 2/5] END ...C=0.1, gamma=0.0001, kernel=rbf;, score=0.501 total time=  15.5s\n",
      "[CV 3/5] END ...C=0.1, gamma=0.0001, kernel=rbf;, score=0.501 total time=  15.5s\n",
      "[CV 4/5] END ...C=0.1, gamma=0.0001, kernel=rbf;, score=0.501 total time=  14.9s\n",
      "[CV 5/5] END ...C=0.1, gamma=0.0001, kernel=rbf;, score=0.501 total time=  15.4s\n",
      "[CV 1/5] END ..........C=1, gamma=1, kernel=rbf;, score=0.788 total time=  10.1s\n",
      "[CV 2/5] END ..........C=1, gamma=1, kernel=rbf;, score=0.788 total time=   9.9s\n",
      "[CV 3/5] END ..........C=1, gamma=1, kernel=rbf;, score=0.775 total time=  10.2s\n",
      "[CV 4/5] END ..........C=1, gamma=1, kernel=rbf;, score=0.783 total time=  10.4s\n",
      "[CV 5/5] END ..........C=1, gamma=1, kernel=rbf;, score=0.780 total time=  10.3s\n",
      "[CV 1/5] END ........C=1, gamma=0.1, kernel=rbf;, score=0.786 total time=   7.8s\n",
      "[CV 2/5] END ........C=1, gamma=0.1, kernel=rbf;, score=0.784 total time=   7.8s\n",
      "[CV 3/5] END ........C=1, gamma=0.1, kernel=rbf;, score=0.786 total time=   7.8s\n",
      "[CV 4/5] END ........C=1, gamma=0.1, kernel=rbf;, score=0.786 total time=   7.9s\n",
      "[CV 5/5] END ........C=1, gamma=0.1, kernel=rbf;, score=0.782 total time=   8.0s\n",
      "[CV 1/5] END .......C=1, gamma=0.01, kernel=rbf;, score=0.778 total time=   7.9s\n",
      "[CV 2/5] END .......C=1, gamma=0.01, kernel=rbf;, score=0.778 total time=   8.0s\n",
      "[CV 3/5] END .......C=1, gamma=0.01, kernel=rbf;, score=0.757 total time=   8.1s\n",
      "[CV 4/5] END .......C=1, gamma=0.01, kernel=rbf;, score=0.772 total time=   8.0s\n",
      "[CV 5/5] END .......C=1, gamma=0.01, kernel=rbf;, score=0.778 total time=   8.0s\n",
      "[CV 1/5] END ......C=1, gamma=0.001, kernel=rbf;, score=0.775 total time=   9.6s\n",
      "[CV 2/5] END ......C=1, gamma=0.001, kernel=rbf;, score=0.778 total time=   9.7s\n",
      "[CV 3/5] END ......C=1, gamma=0.001, kernel=rbf;, score=0.773 total time=   9.6s\n",
      "[CV 4/5] END ......C=1, gamma=0.001, kernel=rbf;, score=0.776 total time=   9.5s\n",
      "[CV 5/5] END ......C=1, gamma=0.001, kernel=rbf;, score=0.776 total time=   9.5s\n",
      "[CV 1/5] END .....C=1, gamma=0.0001, kernel=rbf;, score=0.755 total time=  13.8s\n",
      "[CV 2/5] END .....C=1, gamma=0.0001, kernel=rbf;, score=0.758 total time=  13.5s\n",
      "[CV 3/5] END .....C=1, gamma=0.0001, kernel=rbf;, score=0.756 total time=  13.7s\n",
      "[CV 4/5] END .....C=1, gamma=0.0001, kernel=rbf;, score=0.755 total time=  13.8s\n",
      "[CV 5/5] END .....C=1, gamma=0.0001, kernel=rbf;, score=0.758 total time=  13.7s\n",
      "[CV 1/5] END .........C=10, gamma=1, kernel=rbf;, score=0.770 total time=  21.3s\n",
      "[CV 2/5] END .........C=10, gamma=1, kernel=rbf;, score=0.770 total time=  20.7s\n",
      "[CV 3/5] END .........C=10, gamma=1, kernel=rbf;, score=0.760 total time=  19.1s\n",
      "[CV 4/5] END .........C=10, gamma=1, kernel=rbf;, score=0.765 total time=  21.7s\n",
      "[CV 5/5] END .........C=10, gamma=1, kernel=rbf;, score=0.753 total time=  20.2s\n",
      "[CV 1/5] END .......C=10, gamma=0.1, kernel=rbf;, score=0.786 total time=   8.8s\n",
      "[CV 2/5] END .......C=10, gamma=0.1, kernel=rbf;, score=0.787 total time=   8.8s\n",
      "[CV 3/5] END .......C=10, gamma=0.1, kernel=rbf;, score=0.786 total time=   8.8s\n",
      "[CV 4/5] END .......C=10, gamma=0.1, kernel=rbf;, score=0.787 total time=   9.1s\n",
      "[CV 5/5] END .......C=10, gamma=0.1, kernel=rbf;, score=0.784 total time=   6.8s\n",
      "[CV 1/5] END ......C=10, gamma=0.01, kernel=rbf;, score=0.781 total time=   4.5s\n",
      "[CV 2/5] END ......C=10, gamma=0.01, kernel=rbf;, score=0.781 total time=   6.6s\n",
      "[CV 3/5] END ......C=10, gamma=0.01, kernel=rbf;, score=0.775 total time=   7.0s\n",
      "[CV 4/5] END ......C=10, gamma=0.01, kernel=rbf;, score=0.780 total time=   6.5s\n",
      "[CV 5/5] END ......C=10, gamma=0.01, kernel=rbf;, score=0.778 total time=   5.5s\n",
      "[CV 1/5] END .....C=10, gamma=0.001, kernel=rbf;, score=0.780 total time=   7.2s\n",
      "[CV 2/5] END .....C=10, gamma=0.001, kernel=rbf;, score=0.778 total time=   6.8s\n",
      "[CV 3/5] END .....C=10, gamma=0.001, kernel=rbf;, score=0.753 total time=   4.8s\n",
      "[CV 4/5] END .....C=10, gamma=0.001, kernel=rbf;, score=0.770 total time=   7.1s\n",
      "[CV 5/5] END .....C=10, gamma=0.001, kernel=rbf;, score=0.779 total time=   8.0s\n",
      "[CV 1/5] END ....C=10, gamma=0.0001, kernel=rbf;, score=0.775 total time=   9.3s\n",
      "[CV 2/5] END ....C=10, gamma=0.0001, kernel=rbf;, score=0.778 total time=   9.4s\n",
      "[CV 3/5] END ....C=10, gamma=0.0001, kernel=rbf;, score=0.772 total time=   9.6s\n",
      "[CV 4/5] END ....C=10, gamma=0.0001, kernel=rbf;, score=0.776 total time=   9.7s\n",
      "[CV 5/5] END ....C=10, gamma=0.0001, kernel=rbf;, score=0.775 total time=   9.4s\n",
      "[CV 1/5] END ........C=100, gamma=1, kernel=rbf;, score=0.749 total time=  32.4s\n",
      "[CV 2/5] END ........C=100, gamma=1, kernel=rbf;, score=0.748 total time=  29.1s\n",
      "[CV 3/5] END ........C=100, gamma=1, kernel=rbf;, score=0.743 total time=  27.6s\n",
      "[CV 4/5] END ........C=100, gamma=1, kernel=rbf;, score=0.756 total time=  26.9s\n",
      "[CV 5/5] END ........C=100, gamma=1, kernel=rbf;, score=0.742 total time=  30.2s\n",
      "[CV 1/5] END ......C=100, gamma=0.1, kernel=rbf;, score=0.786 total time=  16.9s\n",
      "[CV 2/5] END ......C=100, gamma=0.1, kernel=rbf;, score=0.787 total time=  13.3s\n",
      "[CV 3/5] END ......C=100, gamma=0.1, kernel=rbf;, score=0.780 total time=  13.6s\n",
      "[CV 4/5] END ......C=100, gamma=0.1, kernel=rbf;, score=0.789 total time=  16.6s\n",
      "[CV 5/5] END ......C=100, gamma=0.1, kernel=rbf;, score=0.776 total time=  16.4s\n",
      "[CV 1/5] END .....C=100, gamma=0.01, kernel=rbf;, score=0.784 total time=   8.9s\n",
      "[CV 2/5] END .....C=100, gamma=0.01, kernel=rbf;, score=0.784 total time=   9.2s\n",
      "[CV 3/5] END .....C=100, gamma=0.01, kernel=rbf;, score=0.787 total time=   9.4s\n",
      "[CV 4/5] END .....C=100, gamma=0.01, kernel=rbf;, score=0.788 total time=   6.2s\n",
      "[CV 5/5] END .....C=100, gamma=0.01, kernel=rbf;, score=0.783 total time=   5.0s\n",
      "[CV 1/5] END ....C=100, gamma=0.001, kernel=rbf;, score=0.784 total time=   4.5s\n",
      "[CV 2/5] END ....C=100, gamma=0.001, kernel=rbf;, score=0.780 total time=   4.6s\n",
      "[CV 3/5] END ....C=100, gamma=0.001, kernel=rbf;, score=0.752 total time=   4.7s\n",
      "[CV 4/5] END ....C=100, gamma=0.001, kernel=rbf;, score=0.777 total time=   4.7s\n",
      "[CV 5/5] END ....C=100, gamma=0.001, kernel=rbf;, score=0.780 total time=   4.9s\n",
      "[CV 1/5] END ...C=100, gamma=0.0001, kernel=rbf;, score=0.780 total time=   4.9s\n",
      "[CV 2/5] END ...C=100, gamma=0.0001, kernel=rbf;, score=0.778 total time=   4.9s\n"
     ]
    },
    {
     "ename": "KeyboardInterrupt",
     "evalue": "",
     "output_type": "error",
     "traceback": [
      "\u001b[1;31m---------------------------------------------------------------------------\u001b[0m",
      "\u001b[1;31mKeyboardInterrupt\u001b[0m                         Traceback (most recent call last)",
      "Cell \u001b[1;32mIn[58], line 1\u001b[0m\n\u001b[1;32m----> 1\u001b[0m grid\u001b[38;5;241m.\u001b[39mfit(x_train4,y_train4)\n",
      "File \u001b[1;32m~\\AppData\\Roaming\\Python\\Python311\\site-packages\\sklearn\\base.py:1152\u001b[0m, in \u001b[0;36m_fit_context.<locals>.decorator.<locals>.wrapper\u001b[1;34m(estimator, *args, **kwargs)\u001b[0m\n\u001b[0;32m   1145\u001b[0m     estimator\u001b[38;5;241m.\u001b[39m_validate_params()\n\u001b[0;32m   1147\u001b[0m \u001b[38;5;28;01mwith\u001b[39;00m config_context(\n\u001b[0;32m   1148\u001b[0m     skip_parameter_validation\u001b[38;5;241m=\u001b[39m(\n\u001b[0;32m   1149\u001b[0m         prefer_skip_nested_validation \u001b[38;5;129;01mor\u001b[39;00m global_skip_validation\n\u001b[0;32m   1150\u001b[0m     )\n\u001b[0;32m   1151\u001b[0m ):\n\u001b[1;32m-> 1152\u001b[0m     \u001b[38;5;28;01mreturn\u001b[39;00m fit_method(estimator, \u001b[38;5;241m*\u001b[39margs, \u001b[38;5;241m*\u001b[39m\u001b[38;5;241m*\u001b[39mkwargs)\n",
      "File \u001b[1;32m~\\AppData\\Roaming\\Python\\Python311\\site-packages\\sklearn\\model_selection\\_search.py:898\u001b[0m, in \u001b[0;36mBaseSearchCV.fit\u001b[1;34m(self, X, y, groups, **fit_params)\u001b[0m\n\u001b[0;32m    892\u001b[0m     results \u001b[38;5;241m=\u001b[39m \u001b[38;5;28mself\u001b[39m\u001b[38;5;241m.\u001b[39m_format_results(\n\u001b[0;32m    893\u001b[0m         all_candidate_params, n_splits, all_out, all_more_results\n\u001b[0;32m    894\u001b[0m     )\n\u001b[0;32m    896\u001b[0m     \u001b[38;5;28;01mreturn\u001b[39;00m results\n\u001b[1;32m--> 898\u001b[0m \u001b[38;5;28mself\u001b[39m\u001b[38;5;241m.\u001b[39m_run_search(evaluate_candidates)\n\u001b[0;32m    900\u001b[0m \u001b[38;5;66;03m# multimetric is determined here because in the case of a callable\u001b[39;00m\n\u001b[0;32m    901\u001b[0m \u001b[38;5;66;03m# self.scoring the return type is only known after calling\u001b[39;00m\n\u001b[0;32m    902\u001b[0m first_test_score \u001b[38;5;241m=\u001b[39m all_out[\u001b[38;5;241m0\u001b[39m][\u001b[38;5;124m\"\u001b[39m\u001b[38;5;124mtest_scores\u001b[39m\u001b[38;5;124m\"\u001b[39m]\n",
      "File \u001b[1;32m~\\AppData\\Roaming\\Python\\Python311\\site-packages\\sklearn\\model_selection\\_search.py:1422\u001b[0m, in \u001b[0;36mGridSearchCV._run_search\u001b[1;34m(self, evaluate_candidates)\u001b[0m\n\u001b[0;32m   1420\u001b[0m \u001b[38;5;28;01mdef\u001b[39;00m \u001b[38;5;21m_run_search\u001b[39m(\u001b[38;5;28mself\u001b[39m, evaluate_candidates):\n\u001b[0;32m   1421\u001b[0m \u001b[38;5;250m    \u001b[39m\u001b[38;5;124;03m\"\"\"Search all candidates in param_grid\"\"\"\u001b[39;00m\n\u001b[1;32m-> 1422\u001b[0m     evaluate_candidates(ParameterGrid(\u001b[38;5;28mself\u001b[39m\u001b[38;5;241m.\u001b[39mparam_grid))\n",
      "File \u001b[1;32m~\\AppData\\Roaming\\Python\\Python311\\site-packages\\sklearn\\model_selection\\_search.py:845\u001b[0m, in \u001b[0;36mBaseSearchCV.fit.<locals>.evaluate_candidates\u001b[1;34m(candidate_params, cv, more_results)\u001b[0m\n\u001b[0;32m    837\u001b[0m \u001b[38;5;28;01mif\u001b[39;00m \u001b[38;5;28mself\u001b[39m\u001b[38;5;241m.\u001b[39mverbose \u001b[38;5;241m>\u001b[39m \u001b[38;5;241m0\u001b[39m:\n\u001b[0;32m    838\u001b[0m     \u001b[38;5;28mprint\u001b[39m(\n\u001b[0;32m    839\u001b[0m         \u001b[38;5;124m\"\u001b[39m\u001b[38;5;124mFitting \u001b[39m\u001b[38;5;132;01m{0}\u001b[39;00m\u001b[38;5;124m folds for each of \u001b[39m\u001b[38;5;132;01m{1}\u001b[39;00m\u001b[38;5;124m candidates,\u001b[39m\u001b[38;5;124m\"\u001b[39m\n\u001b[0;32m    840\u001b[0m         \u001b[38;5;124m\"\u001b[39m\u001b[38;5;124m totalling \u001b[39m\u001b[38;5;132;01m{2}\u001b[39;00m\u001b[38;5;124m fits\u001b[39m\u001b[38;5;124m\"\u001b[39m\u001b[38;5;241m.\u001b[39mformat(\n\u001b[0;32m    841\u001b[0m             n_splits, n_candidates, n_candidates \u001b[38;5;241m*\u001b[39m n_splits\n\u001b[0;32m    842\u001b[0m         )\n\u001b[0;32m    843\u001b[0m     )\n\u001b[1;32m--> 845\u001b[0m out \u001b[38;5;241m=\u001b[39m parallel(\n\u001b[0;32m    846\u001b[0m     delayed(_fit_and_score)(\n\u001b[0;32m    847\u001b[0m         clone(base_estimator),\n\u001b[0;32m    848\u001b[0m         X,\n\u001b[0;32m    849\u001b[0m         y,\n\u001b[0;32m    850\u001b[0m         train\u001b[38;5;241m=\u001b[39mtrain,\n\u001b[0;32m    851\u001b[0m         test\u001b[38;5;241m=\u001b[39mtest,\n\u001b[0;32m    852\u001b[0m         parameters\u001b[38;5;241m=\u001b[39mparameters,\n\u001b[0;32m    853\u001b[0m         split_progress\u001b[38;5;241m=\u001b[39m(split_idx, n_splits),\n\u001b[0;32m    854\u001b[0m         candidate_progress\u001b[38;5;241m=\u001b[39m(cand_idx, n_candidates),\n\u001b[0;32m    855\u001b[0m         \u001b[38;5;241m*\u001b[39m\u001b[38;5;241m*\u001b[39mfit_and_score_kwargs,\n\u001b[0;32m    856\u001b[0m     )\n\u001b[0;32m    857\u001b[0m     \u001b[38;5;28;01mfor\u001b[39;00m (cand_idx, parameters), (split_idx, (train, test)) \u001b[38;5;129;01min\u001b[39;00m product(\n\u001b[0;32m    858\u001b[0m         \u001b[38;5;28menumerate\u001b[39m(candidate_params), \u001b[38;5;28menumerate\u001b[39m(cv\u001b[38;5;241m.\u001b[39msplit(X, y, groups))\n\u001b[0;32m    859\u001b[0m     )\n\u001b[0;32m    860\u001b[0m )\n\u001b[0;32m    862\u001b[0m \u001b[38;5;28;01mif\u001b[39;00m \u001b[38;5;28mlen\u001b[39m(out) \u001b[38;5;241m<\u001b[39m \u001b[38;5;241m1\u001b[39m:\n\u001b[0;32m    863\u001b[0m     \u001b[38;5;28;01mraise\u001b[39;00m \u001b[38;5;167;01mValueError\u001b[39;00m(\n\u001b[0;32m    864\u001b[0m         \u001b[38;5;124m\"\u001b[39m\u001b[38;5;124mNo fits were performed. \u001b[39m\u001b[38;5;124m\"\u001b[39m\n\u001b[0;32m    865\u001b[0m         \u001b[38;5;124m\"\u001b[39m\u001b[38;5;124mWas the CV iterator empty? \u001b[39m\u001b[38;5;124m\"\u001b[39m\n\u001b[0;32m    866\u001b[0m         \u001b[38;5;124m\"\u001b[39m\u001b[38;5;124mWere there no candidates?\u001b[39m\u001b[38;5;124m\"\u001b[39m\n\u001b[0;32m    867\u001b[0m     )\n",
      "File \u001b[1;32m~\\AppData\\Roaming\\Python\\Python311\\site-packages\\sklearn\\utils\\parallel.py:65\u001b[0m, in \u001b[0;36mParallel.__call__\u001b[1;34m(self, iterable)\u001b[0m\n\u001b[0;32m     60\u001b[0m config \u001b[38;5;241m=\u001b[39m get_config()\n\u001b[0;32m     61\u001b[0m iterable_with_config \u001b[38;5;241m=\u001b[39m (\n\u001b[0;32m     62\u001b[0m     (_with_config(delayed_func, config), args, kwargs)\n\u001b[0;32m     63\u001b[0m     \u001b[38;5;28;01mfor\u001b[39;00m delayed_func, args, kwargs \u001b[38;5;129;01min\u001b[39;00m iterable\n\u001b[0;32m     64\u001b[0m )\n\u001b[1;32m---> 65\u001b[0m \u001b[38;5;28;01mreturn\u001b[39;00m \u001b[38;5;28msuper\u001b[39m()\u001b[38;5;241m.\u001b[39m\u001b[38;5;21m__call__\u001b[39m(iterable_with_config)\n",
      "File \u001b[1;32m~\\AppData\\Roaming\\Python\\Python311\\site-packages\\joblib\\parallel.py:1863\u001b[0m, in \u001b[0;36mParallel.__call__\u001b[1;34m(self, iterable)\u001b[0m\n\u001b[0;32m   1861\u001b[0m     output \u001b[38;5;241m=\u001b[39m \u001b[38;5;28mself\u001b[39m\u001b[38;5;241m.\u001b[39m_get_sequential_output(iterable)\n\u001b[0;32m   1862\u001b[0m     \u001b[38;5;28mnext\u001b[39m(output)\n\u001b[1;32m-> 1863\u001b[0m     \u001b[38;5;28;01mreturn\u001b[39;00m output \u001b[38;5;28;01mif\u001b[39;00m \u001b[38;5;28mself\u001b[39m\u001b[38;5;241m.\u001b[39mreturn_generator \u001b[38;5;28;01melse\u001b[39;00m \u001b[38;5;28mlist\u001b[39m(output)\n\u001b[0;32m   1865\u001b[0m \u001b[38;5;66;03m# Let's create an ID that uniquely identifies the current call. If the\u001b[39;00m\n\u001b[0;32m   1866\u001b[0m \u001b[38;5;66;03m# call is interrupted early and that the same instance is immediately\u001b[39;00m\n\u001b[0;32m   1867\u001b[0m \u001b[38;5;66;03m# re-used, this id will be used to prevent workers that were\u001b[39;00m\n\u001b[0;32m   1868\u001b[0m \u001b[38;5;66;03m# concurrently finalizing a task from the previous call to run the\u001b[39;00m\n\u001b[0;32m   1869\u001b[0m \u001b[38;5;66;03m# callback.\u001b[39;00m\n\u001b[0;32m   1870\u001b[0m \u001b[38;5;28;01mwith\u001b[39;00m \u001b[38;5;28mself\u001b[39m\u001b[38;5;241m.\u001b[39m_lock:\n",
      "File \u001b[1;32m~\\AppData\\Roaming\\Python\\Python311\\site-packages\\joblib\\parallel.py:1792\u001b[0m, in \u001b[0;36mParallel._get_sequential_output\u001b[1;34m(self, iterable)\u001b[0m\n\u001b[0;32m   1790\u001b[0m \u001b[38;5;28mself\u001b[39m\u001b[38;5;241m.\u001b[39mn_dispatched_batches \u001b[38;5;241m+\u001b[39m\u001b[38;5;241m=\u001b[39m \u001b[38;5;241m1\u001b[39m\n\u001b[0;32m   1791\u001b[0m \u001b[38;5;28mself\u001b[39m\u001b[38;5;241m.\u001b[39mn_dispatched_tasks \u001b[38;5;241m+\u001b[39m\u001b[38;5;241m=\u001b[39m \u001b[38;5;241m1\u001b[39m\n\u001b[1;32m-> 1792\u001b[0m res \u001b[38;5;241m=\u001b[39m func(\u001b[38;5;241m*\u001b[39margs, \u001b[38;5;241m*\u001b[39m\u001b[38;5;241m*\u001b[39mkwargs)\n\u001b[0;32m   1793\u001b[0m \u001b[38;5;28mself\u001b[39m\u001b[38;5;241m.\u001b[39mn_completed_tasks \u001b[38;5;241m+\u001b[39m\u001b[38;5;241m=\u001b[39m \u001b[38;5;241m1\u001b[39m\n\u001b[0;32m   1794\u001b[0m \u001b[38;5;28mself\u001b[39m\u001b[38;5;241m.\u001b[39mprint_progress()\n",
      "File \u001b[1;32m~\\AppData\\Roaming\\Python\\Python311\\site-packages\\sklearn\\utils\\parallel.py:127\u001b[0m, in \u001b[0;36m_FuncWrapper.__call__\u001b[1;34m(self, *args, **kwargs)\u001b[0m\n\u001b[0;32m    125\u001b[0m     config \u001b[38;5;241m=\u001b[39m {}\n\u001b[0;32m    126\u001b[0m \u001b[38;5;28;01mwith\u001b[39;00m config_context(\u001b[38;5;241m*\u001b[39m\u001b[38;5;241m*\u001b[39mconfig):\n\u001b[1;32m--> 127\u001b[0m     \u001b[38;5;28;01mreturn\u001b[39;00m \u001b[38;5;28mself\u001b[39m\u001b[38;5;241m.\u001b[39mfunction(\u001b[38;5;241m*\u001b[39margs, \u001b[38;5;241m*\u001b[39m\u001b[38;5;241m*\u001b[39mkwargs)\n",
      "File \u001b[1;32m~\\AppData\\Roaming\\Python\\Python311\\site-packages\\sklearn\\model_selection\\_validation.py:751\u001b[0m, in \u001b[0;36m_fit_and_score\u001b[1;34m(estimator, X, y, scorer, train, test, verbose, parameters, fit_params, return_train_score, return_parameters, return_n_test_samples, return_times, return_estimator, split_progress, candidate_progress, error_score)\u001b[0m\n\u001b[0;32m    748\u001b[0m result[\u001b[38;5;124m\"\u001b[39m\u001b[38;5;124mfit_error\u001b[39m\u001b[38;5;124m\"\u001b[39m] \u001b[38;5;241m=\u001b[39m \u001b[38;5;28;01mNone\u001b[39;00m\n\u001b[0;32m    750\u001b[0m fit_time \u001b[38;5;241m=\u001b[39m time\u001b[38;5;241m.\u001b[39mtime() \u001b[38;5;241m-\u001b[39m start_time\n\u001b[1;32m--> 751\u001b[0m test_scores \u001b[38;5;241m=\u001b[39m _score(estimator, X_test, y_test, scorer, error_score)\n\u001b[0;32m    752\u001b[0m score_time \u001b[38;5;241m=\u001b[39m time\u001b[38;5;241m.\u001b[39mtime() \u001b[38;5;241m-\u001b[39m start_time \u001b[38;5;241m-\u001b[39m fit_time\n\u001b[0;32m    753\u001b[0m \u001b[38;5;28;01mif\u001b[39;00m return_train_score:\n",
      "File \u001b[1;32m~\\AppData\\Roaming\\Python\\Python311\\site-packages\\sklearn\\model_selection\\_validation.py:810\u001b[0m, in \u001b[0;36m_score\u001b[1;34m(estimator, X_test, y_test, scorer, error_score)\u001b[0m\n\u001b[0;32m    808\u001b[0m         scores \u001b[38;5;241m=\u001b[39m scorer(estimator, X_test)\n\u001b[0;32m    809\u001b[0m     \u001b[38;5;28;01melse\u001b[39;00m:\n\u001b[1;32m--> 810\u001b[0m         scores \u001b[38;5;241m=\u001b[39m scorer(estimator, X_test, y_test)\n\u001b[0;32m    811\u001b[0m \u001b[38;5;28;01mexcept\u001b[39;00m \u001b[38;5;167;01mException\u001b[39;00m:\n\u001b[0;32m    812\u001b[0m     \u001b[38;5;28;01mif\u001b[39;00m \u001b[38;5;28misinstance\u001b[39m(scorer, _MultimetricScorer):\n\u001b[0;32m    813\u001b[0m         \u001b[38;5;66;03m# If `_MultimetricScorer` raises exception, the `error_score`\u001b[39;00m\n\u001b[0;32m    814\u001b[0m         \u001b[38;5;66;03m# parameter is equal to \"raise\".\u001b[39;00m\n",
      "File \u001b[1;32m~\\AppData\\Roaming\\Python\\Python311\\site-packages\\sklearn\\metrics\\_scorer.py:527\u001b[0m, in \u001b[0;36m_PassthroughScorer.__call__\u001b[1;34m(self, estimator, *args, **kwargs)\u001b[0m\n\u001b[0;32m    525\u001b[0m \u001b[38;5;28;01mdef\u001b[39;00m \u001b[38;5;21m__call__\u001b[39m(\u001b[38;5;28mself\u001b[39m, estimator, \u001b[38;5;241m*\u001b[39margs, \u001b[38;5;241m*\u001b[39m\u001b[38;5;241m*\u001b[39mkwargs):\n\u001b[0;32m    526\u001b[0m \u001b[38;5;250m    \u001b[39m\u001b[38;5;124;03m\"\"\"Method that wraps estimator.score\"\"\"\u001b[39;00m\n\u001b[1;32m--> 527\u001b[0m     \u001b[38;5;28;01mreturn\u001b[39;00m estimator\u001b[38;5;241m.\u001b[39mscore(\u001b[38;5;241m*\u001b[39margs, \u001b[38;5;241m*\u001b[39m\u001b[38;5;241m*\u001b[39mkwargs)\n",
      "File \u001b[1;32m~\\AppData\\Roaming\\Python\\Python311\\site-packages\\sklearn\\base.py:706\u001b[0m, in \u001b[0;36mClassifierMixin.score\u001b[1;34m(self, X, y, sample_weight)\u001b[0m\n\u001b[0;32m    681\u001b[0m \u001b[38;5;250m\u001b[39m\u001b[38;5;124;03m\"\"\"\u001b[39;00m\n\u001b[0;32m    682\u001b[0m \u001b[38;5;124;03mReturn the mean accuracy on the given test data and labels.\u001b[39;00m\n\u001b[0;32m    683\u001b[0m \n\u001b[1;32m   (...)\u001b[0m\n\u001b[0;32m    702\u001b[0m \u001b[38;5;124;03m    Mean accuracy of ``self.predict(X)`` w.r.t. `y`.\u001b[39;00m\n\u001b[0;32m    703\u001b[0m \u001b[38;5;124;03m\"\"\"\u001b[39;00m\n\u001b[0;32m    704\u001b[0m \u001b[38;5;28;01mfrom\u001b[39;00m \u001b[38;5;21;01m.\u001b[39;00m\u001b[38;5;21;01mmetrics\u001b[39;00m \u001b[38;5;28;01mimport\u001b[39;00m accuracy_score\n\u001b[1;32m--> 706\u001b[0m \u001b[38;5;28;01mreturn\u001b[39;00m accuracy_score(y, \u001b[38;5;28mself\u001b[39m\u001b[38;5;241m.\u001b[39mpredict(X), sample_weight\u001b[38;5;241m=\u001b[39msample_weight)\n",
      "File \u001b[1;32m~\\AppData\\Roaming\\Python\\Python311\\site-packages\\sklearn\\svm\\_base.py:818\u001b[0m, in \u001b[0;36mBaseSVC.predict\u001b[1;34m(self, X)\u001b[0m\n\u001b[0;32m    816\u001b[0m     y \u001b[38;5;241m=\u001b[39m np\u001b[38;5;241m.\u001b[39margmax(\u001b[38;5;28mself\u001b[39m\u001b[38;5;241m.\u001b[39mdecision_function(X), axis\u001b[38;5;241m=\u001b[39m\u001b[38;5;241m1\u001b[39m)\n\u001b[0;32m    817\u001b[0m \u001b[38;5;28;01melse\u001b[39;00m:\n\u001b[1;32m--> 818\u001b[0m     y \u001b[38;5;241m=\u001b[39m \u001b[38;5;28msuper\u001b[39m()\u001b[38;5;241m.\u001b[39mpredict(X)\n\u001b[0;32m    819\u001b[0m \u001b[38;5;28;01mreturn\u001b[39;00m \u001b[38;5;28mself\u001b[39m\u001b[38;5;241m.\u001b[39mclasses_\u001b[38;5;241m.\u001b[39mtake(np\u001b[38;5;241m.\u001b[39masarray(y, dtype\u001b[38;5;241m=\u001b[39mnp\u001b[38;5;241m.\u001b[39mintp))\n",
      "File \u001b[1;32m~\\AppData\\Roaming\\Python\\Python311\\site-packages\\sklearn\\svm\\_base.py:433\u001b[0m, in \u001b[0;36mBaseLibSVM.predict\u001b[1;34m(self, X)\u001b[0m\n\u001b[0;32m    431\u001b[0m X \u001b[38;5;241m=\u001b[39m \u001b[38;5;28mself\u001b[39m\u001b[38;5;241m.\u001b[39m_validate_for_predict(X)\n\u001b[0;32m    432\u001b[0m predict \u001b[38;5;241m=\u001b[39m \u001b[38;5;28mself\u001b[39m\u001b[38;5;241m.\u001b[39m_sparse_predict \u001b[38;5;28;01mif\u001b[39;00m \u001b[38;5;28mself\u001b[39m\u001b[38;5;241m.\u001b[39m_sparse \u001b[38;5;28;01melse\u001b[39;00m \u001b[38;5;28mself\u001b[39m\u001b[38;5;241m.\u001b[39m_dense_predict\n\u001b[1;32m--> 433\u001b[0m \u001b[38;5;28;01mreturn\u001b[39;00m predict(X)\n",
      "File \u001b[1;32m~\\AppData\\Roaming\\Python\\Python311\\site-packages\\sklearn\\svm\\_base.py:452\u001b[0m, in \u001b[0;36mBaseLibSVM._dense_predict\u001b[1;34m(self, X)\u001b[0m\n\u001b[0;32m    444\u001b[0m         \u001b[38;5;28;01mraise\u001b[39;00m \u001b[38;5;167;01mValueError\u001b[39;00m(\n\u001b[0;32m    445\u001b[0m             \u001b[38;5;124m\"\u001b[39m\u001b[38;5;124mX.shape[1] = \u001b[39m\u001b[38;5;132;01m%d\u001b[39;00m\u001b[38;5;124m should be equal to \u001b[39m\u001b[38;5;132;01m%d\u001b[39;00m\u001b[38;5;124m, \u001b[39m\u001b[38;5;124m\"\u001b[39m\n\u001b[0;32m    446\u001b[0m             \u001b[38;5;124m\"\u001b[39m\u001b[38;5;124mthe number of samples at training time\u001b[39m\u001b[38;5;124m\"\u001b[39m\n\u001b[0;32m    447\u001b[0m             \u001b[38;5;241m%\u001b[39m (X\u001b[38;5;241m.\u001b[39mshape[\u001b[38;5;241m1\u001b[39m], \u001b[38;5;28mself\u001b[39m\u001b[38;5;241m.\u001b[39mshape_fit_[\u001b[38;5;241m0\u001b[39m])\n\u001b[0;32m    448\u001b[0m         )\n\u001b[0;32m    450\u001b[0m svm_type \u001b[38;5;241m=\u001b[39m LIBSVM_IMPL\u001b[38;5;241m.\u001b[39mindex(\u001b[38;5;28mself\u001b[39m\u001b[38;5;241m.\u001b[39m_impl)\n\u001b[1;32m--> 452\u001b[0m \u001b[38;5;28;01mreturn\u001b[39;00m libsvm\u001b[38;5;241m.\u001b[39mpredict(\n\u001b[0;32m    453\u001b[0m     X,\n\u001b[0;32m    454\u001b[0m     \u001b[38;5;28mself\u001b[39m\u001b[38;5;241m.\u001b[39msupport_,\n\u001b[0;32m    455\u001b[0m     \u001b[38;5;28mself\u001b[39m\u001b[38;5;241m.\u001b[39msupport_vectors_,\n\u001b[0;32m    456\u001b[0m     \u001b[38;5;28mself\u001b[39m\u001b[38;5;241m.\u001b[39m_n_support,\n\u001b[0;32m    457\u001b[0m     \u001b[38;5;28mself\u001b[39m\u001b[38;5;241m.\u001b[39m_dual_coef_,\n\u001b[0;32m    458\u001b[0m     \u001b[38;5;28mself\u001b[39m\u001b[38;5;241m.\u001b[39m_intercept_,\n\u001b[0;32m    459\u001b[0m     \u001b[38;5;28mself\u001b[39m\u001b[38;5;241m.\u001b[39m_probA,\n\u001b[0;32m    460\u001b[0m     \u001b[38;5;28mself\u001b[39m\u001b[38;5;241m.\u001b[39m_probB,\n\u001b[0;32m    461\u001b[0m     svm_type\u001b[38;5;241m=\u001b[39msvm_type,\n\u001b[0;32m    462\u001b[0m     kernel\u001b[38;5;241m=\u001b[39mkernel,\n\u001b[0;32m    463\u001b[0m     degree\u001b[38;5;241m=\u001b[39m\u001b[38;5;28mself\u001b[39m\u001b[38;5;241m.\u001b[39mdegree,\n\u001b[0;32m    464\u001b[0m     coef0\u001b[38;5;241m=\u001b[39m\u001b[38;5;28mself\u001b[39m\u001b[38;5;241m.\u001b[39mcoef0,\n\u001b[0;32m    465\u001b[0m     gamma\u001b[38;5;241m=\u001b[39m\u001b[38;5;28mself\u001b[39m\u001b[38;5;241m.\u001b[39m_gamma,\n\u001b[0;32m    466\u001b[0m     cache_size\u001b[38;5;241m=\u001b[39m\u001b[38;5;28mself\u001b[39m\u001b[38;5;241m.\u001b[39mcache_size,\n\u001b[0;32m    467\u001b[0m )\n",
      "\u001b[1;31mKeyboardInterrupt\u001b[0m: "
     ]
    }
   ],
   "source": [
    "grid.fit(x_train4,y_train4)"
   ]
  },
  {
   "cell_type": "code",
   "execution_count": null,
   "metadata": {},
   "outputs": [
    {
     "data": {
      "text/plain": [
       "{'C': 1000, 'gamma': 0.01, 'kernel': 'rbf'}"
      ]
     },
     "execution_count": 49,
     "metadata": {},
     "output_type": "execute_result"
    }
   ],
   "source": [
    "grid.best_params_"
   ]
  },
  {
   "cell_type": "code",
   "execution_count": null,
   "metadata": {},
   "outputs": [
    {
     "data": {
      "text/html": [
       "<style>#sk-container-id-6 {color: black;}#sk-container-id-6 pre{padding: 0;}#sk-container-id-6 div.sk-toggleable {background-color: white;}#sk-container-id-6 label.sk-toggleable__label {cursor: pointer;display: block;width: 100%;margin-bottom: 0;padding: 0.3em;box-sizing: border-box;text-align: center;}#sk-container-id-6 label.sk-toggleable__label-arrow:before {content: \"▸\";float: left;margin-right: 0.25em;color: #696969;}#sk-container-id-6 label.sk-toggleable__label-arrow:hover:before {color: black;}#sk-container-id-6 div.sk-estimator:hover label.sk-toggleable__label-arrow:before {color: black;}#sk-container-id-6 div.sk-toggleable__content {max-height: 0;max-width: 0;overflow: hidden;text-align: left;background-color: #f0f8ff;}#sk-container-id-6 div.sk-toggleable__content pre {margin: 0.2em;color: black;border-radius: 0.25em;background-color: #f0f8ff;}#sk-container-id-6 input.sk-toggleable__control:checked~div.sk-toggleable__content {max-height: 200px;max-width: 100%;overflow: auto;}#sk-container-id-6 input.sk-toggleable__control:checked~label.sk-toggleable__label-arrow:before {content: \"▾\";}#sk-container-id-6 div.sk-estimator input.sk-toggleable__control:checked~label.sk-toggleable__label {background-color: #d4ebff;}#sk-container-id-6 div.sk-label input.sk-toggleable__control:checked~label.sk-toggleable__label {background-color: #d4ebff;}#sk-container-id-6 input.sk-hidden--visually {border: 0;clip: rect(1px 1px 1px 1px);clip: rect(1px, 1px, 1px, 1px);height: 1px;margin: -1px;overflow: hidden;padding: 0;position: absolute;width: 1px;}#sk-container-id-6 div.sk-estimator {font-family: monospace;background-color: #f0f8ff;border: 1px dotted black;border-radius: 0.25em;box-sizing: border-box;margin-bottom: 0.5em;}#sk-container-id-6 div.sk-estimator:hover {background-color: #d4ebff;}#sk-container-id-6 div.sk-parallel-item::after {content: \"\";width: 100%;border-bottom: 1px solid gray;flex-grow: 1;}#sk-container-id-6 div.sk-label:hover label.sk-toggleable__label {background-color: #d4ebff;}#sk-container-id-6 div.sk-serial::before {content: \"\";position: absolute;border-left: 1px solid gray;box-sizing: border-box;top: 0;bottom: 0;left: 50%;z-index: 0;}#sk-container-id-6 div.sk-serial {display: flex;flex-direction: column;align-items: center;background-color: white;padding-right: 0.2em;padding-left: 0.2em;position: relative;}#sk-container-id-6 div.sk-item {position: relative;z-index: 1;}#sk-container-id-6 div.sk-parallel {display: flex;align-items: stretch;justify-content: center;background-color: white;position: relative;}#sk-container-id-6 div.sk-item::before, #sk-container-id-6 div.sk-parallel-item::before {content: \"\";position: absolute;border-left: 1px solid gray;box-sizing: border-box;top: 0;bottom: 0;left: 50%;z-index: -1;}#sk-container-id-6 div.sk-parallel-item {display: flex;flex-direction: column;z-index: 1;position: relative;background-color: white;}#sk-container-id-6 div.sk-parallel-item:first-child::after {align-self: flex-end;width: 50%;}#sk-container-id-6 div.sk-parallel-item:last-child::after {align-self: flex-start;width: 50%;}#sk-container-id-6 div.sk-parallel-item:only-child::after {width: 0;}#sk-container-id-6 div.sk-dashed-wrapped {border: 1px dashed gray;margin: 0 0.4em 0.5em 0.4em;box-sizing: border-box;padding-bottom: 0.4em;background-color: white;}#sk-container-id-6 div.sk-label label {font-family: monospace;font-weight: bold;display: inline-block;line-height: 1.2em;}#sk-container-id-6 div.sk-label-container {text-align: center;}#sk-container-id-6 div.sk-container {/* jupyter's `normalize.less` sets `[hidden] { display: none; }` but bootstrap.min.css set `[hidden] { display: none !important; }` so we also need the `!important` here to be able to override the default hidden behavior on the sphinx rendered scikit-learn.org. See: https://github.com/scikit-learn/scikit-learn/issues/21755 */display: inline-block !important;position: relative;}#sk-container-id-6 div.sk-text-repr-fallback {display: none;}</style><div id=\"sk-container-id-6\" class=\"sk-top-container\"><div class=\"sk-text-repr-fallback\"><pre>SVC(C=1000, gamma=0.01)</pre><b>In a Jupyter environment, please rerun this cell to show the HTML representation or trust the notebook. <br />On GitHub, the HTML representation is unable to render, please try loading this page with nbviewer.org.</b></div><div class=\"sk-container\" hidden><div class=\"sk-item\"><div class=\"sk-estimator sk-toggleable\"><input class=\"sk-toggleable__control sk-hidden--visually\" id=\"sk-estimator-id-10\" type=\"checkbox\" checked><label for=\"sk-estimator-id-10\" class=\"sk-toggleable__label sk-toggleable__label-arrow\">SVC</label><div class=\"sk-toggleable__content\"><pre>SVC(C=1000, gamma=0.01)</pre></div></div></div></div></div>"
      ],
      "text/plain": [
       "SVC(C=1000, gamma=0.01)"
      ]
     },
     "execution_count": 50,
     "metadata": {},
     "output_type": "execute_result"
    }
   ],
   "source": [
    "grid.best_estimator_"
   ]
  },
  {
   "cell_type": "code",
   "execution_count": null,
   "metadata": {},
   "outputs": [
    {
     "name": "stdout",
     "output_type": "stream",
     "text": [
      "Training Results\n",
      "\n",
      "              precision    recall  f1-score   support\n",
      "\n",
      "           0       0.76      0.86      0.81     10036\n",
      "           1       0.84      0.72      0.78     10074\n",
      "\n",
      "    accuracy                           0.79     20110\n",
      "   macro avg       0.80      0.79      0.79     20110\n",
      "weighted avg       0.80      0.79      0.79     20110\n",
      "\n",
      "Test Results\n",
      "\n",
      "              precision    recall  f1-score   support\n",
      "\n",
      "           0       0.75      0.87      0.80      3371\n",
      "           1       0.84      0.70      0.77      3333\n",
      "\n",
      "    accuracy                           0.79      6704\n",
      "   macro avg       0.79      0.79      0.78      6704\n",
      "weighted avg       0.79      0.79      0.78      6704\n",
      "\n"
     ]
    }
   ],
   "source": [
    "ypred_train = grid.predict(x_train4)\n",
    "y_pred_test = grid.predict(x_test4)\n",
    "\n",
    "print(\"Training Results\\n\")\n",
    "print(classification_report(y_train4,ypred_train))\n",
    "print(\"Test Results\\n\")\n",
    "print(classification_report(y_test4,y_pred_test))"
   ]
  },
  {
   "cell_type": "code",
   "execution_count": 59,
   "metadata": {},
   "outputs": [
    {
     "name": "stdout",
     "output_type": "stream",
     "text": [
      "Training Results\n",
      "\n",
      "              precision    recall  f1-score   support\n",
      "\n",
      "           0       0.76      0.86      0.81     10036\n",
      "           1       0.84      0.72      0.78     10074\n",
      "\n",
      "    accuracy                           0.79     20110\n",
      "   macro avg       0.80      0.79      0.79     20110\n",
      "weighted avg       0.80      0.79      0.79     20110\n",
      "\n",
      "Testing Results\n",
      "\n",
      "              precision    recall  f1-score   support\n",
      "\n",
      "           0       0.75      0.87      0.80      3371\n",
      "           1       0.84      0.70      0.77      3333\n",
      "\n",
      "    accuracy                           0.79      6704\n",
      "   macro avg       0.79      0.79      0.78      6704\n",
      "weighted avg       0.79      0.79      0.78      6704\n",
      "\n"
     ]
    },
    {
     "data": {
      "image/png": "[encoded data removed]",
      "text/plain": [
       "<Figure size 640x480 with 1 Axes>"
      ]
     },
     "metadata": {},
     "output_type": "display_data"
    }
   ],
   "source": [
    "model3 = SVC(C=1000, gamma=0.01, kernel='rbf', probability=True)\n",
    "model3.fit(x_train4, y_train4)\n",
    "\n",
    "\n",
    "ypred_train14 = model3.predict(x_train4)\n",
    "y_pred_test14 = model3.predict(x_test4)\n",
    "\n",
    "\n",
    "print(\"Training Results\\n\")\n",
    "print(classification_report(y_train4, ypred_train14))\n",
    "print(\"Testing Results\\n\")\n",
    "print(classification_report(y_test4, y_pred_test14))\n",
    "\n",
    "# cross_val_scores = cross_val_score(model3, x_train4, y_train4, cv=5)\n",
    "# print(\"Cross-validation scores:\", cross_val_scores)\n",
    "# print(\"Average cross-validation score:\", np.mean(cross_val_scores))\n",
    "\n",
    "y_proba_test = model3.predict_proba(x_test4)[:, 1]\n",
    "fpr, tpr, thresholds = roc_curve(y_test4, y_proba_test)\n",
    "plt.plot(fpr, tpr, label='ROC Curve')\n",
    "plt.xlabel('False Positive Rate')\n",
    "plt.ylabel('True Positive Rate')\n",
    "plt.title('ROC Curve with AUC = {:.2f}'.format(roc_auc_score(y_test4, y_proba_test)))\n",
    "plt.legend(loc='lower right')\n",
    "plt.grid(True)\n",
    "plt.show()"
   ]
  }
 ],
 "metadata": {
  "kernelspec": {
   "display_name": "Python 3",
   "language": "python",
   "name": "python3"
  },
  "language_info": {
   "codemirror_mode": {
    "name": "ipython",
    "version": 3
   },
   "file_extension": ".py",
   "mimetype": "text/x-python",
   "name": "python",
   "nbconvert_exporter": "python",
   "pygments_lexer": "ipython3",
   "version": "0.0.0"
  }
 },
 "nbformat": 4,
 "nbformat_minor": 2
}
