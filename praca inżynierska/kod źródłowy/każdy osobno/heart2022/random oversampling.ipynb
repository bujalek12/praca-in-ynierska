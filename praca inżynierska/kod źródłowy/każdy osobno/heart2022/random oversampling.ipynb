{
 "cells": [
  {
   "cell_type": "code",
   "execution_count": 1,
   "metadata": {},
   "outputs": [
    {
     "name": "stdout",
     "output_type": "stream",
     "text": [
      "WARNING:tensorflow:From C:\\Users\\DELL\\AppData\\Roaming\\Python\\Python311\\site-packages\\keras\\src\\losses.py:2976: The name tf.losses.sparse_softmax_cross_entropy is deprecated. Please use tf.compat.v1.losses.sparse_softmax_cross_entropy instead.\n",
      "\n"
     ]
    }
   ],
   "source": [
    "import pandas as pd\n",
    "import numpy as np\n",
    "import matplotlib.pyplot as plt\n",
    "import plotly.express as px\n",
    "from sklearn.preprocessing import LabelEncoder\n",
    "from sklearn.preprocessing import RobustScaler , MinMaxScaler, StandardScaler\n",
    "import seaborn as sns\n",
    "from sklearn.metrics import roc_curve\n",
    "from sklearn.metrics import roc_auc_score\n",
    "import tensorflow as tf\n",
    "from keras.preprocessing.image import ImageDataGenerator\n",
    "from tensorflow.keras.layers import Dropout\n",
    "from tensorflow.keras.models import Sequential\n",
    "from tensorflow.keras.layers import Dense, Activation\n",
    "from tensorflow.keras.callbacks import EarlyStopping\n",
    "from tensorflow.keras.layers import Input,Flatten,Conv1D,MaxPooling1D\n",
    "from sklearn.metrics import classification_report\n",
    "import warnings\n",
    "warnings.filterwarnings('ignore')\n",
    "import missingno as msno\n",
    "from sklearn.model_selection import train_test_split\n",
    "from sklearn.metrics import accuracy_score\n",
    "from sklearn.metrics import mean_absolute_error , mean_absolute_percentage_error , mean_squared_error\n",
    "from sklearn.metrics import r2_score\n",
    "from sklearn.metrics import confusion_matrix\n",
    "from sklearn.model_selection import cross_val_score\n",
    "from sklearn.metrics import RocCurveDisplay\n",
    "from sklearn.model_selection import RepeatedStratifiedKFold\n",
    "from sklearn.metrics import accuracy_score, precision_score, recall_score, f1_score\n",
    "from sklearn.model_selection import GridSearchCV\n",
    "from sklearn.tree import DecisionTreeClassifier\n",
    "from sklearn.ensemble import RandomForestClassifier\n",
    "from sklearn.naive_bayes import GaussianNB\n",
    "from xgboost import XGBClassifier\n",
    "from sklearn.linear_model import LogisticRegression\n",
    "from sklearn.svm import SVC\n",
    "from sklearn.decomposition import PCA\n",
    "from sklearn.ensemble import GradientBoostingClassifier\n",
    "from sklearn.neighbors import KNeighborsClassifier\n",
    "from keras.layers import LSTM\n",
    "from imblearn.over_sampling import RandomOverSampler\n",
    "from sklearn.preprocessing import MinMaxScaler\n"
   ]
  },
  {
   "cell_type": "markdown",
   "metadata": {},
   "source": [
    "## Random Oversampling with Evaluation\n"
   ]
  },
  {
   "cell_type": "code",
   "execution_count": 2,
   "metadata": {},
   "outputs": [
    {
     "data": {
      "text/html": [
       "<div>\n",
       "<style scoped>\n",
       "    .dataframe tbody tr th:only-of-type {\n",
       "        vertical-align: middle;\n",
       "    }\n",
       "\n",
       "    .dataframe tbody tr th {\n",
       "        vertical-align: top;\n",
       "    }\n",
       "\n",
       "    .dataframe thead th {\n",
       "        text-align: right;\n",
       "    }\n",
       "</style>\n",
       "<table border=\"1\" class=\"dataframe\">\n",
       "  <thead>\n",
       "    <tr style=\"text-align: right;\">\n",
       "      <th></th>\n",
       "      <th>Sex</th>\n",
       "      <th>GeneralHealth</th>\n",
       "      <th>PhysicalHealthDays</th>\n",
       "      <th>MentalHealthDays</th>\n",
       "      <th>PhysicalActivities</th>\n",
       "      <th>SleepHours</th>\n",
       "      <th>HadHeartAttack</th>\n",
       "      <th>HadAngina</th>\n",
       "      <th>HadStroke</th>\n",
       "      <th>HadAsthma</th>\n",
       "      <th>...</th>\n",
       "      <th>AgeCategory</th>\n",
       "      <th>HeightInMeters</th>\n",
       "      <th>WeightInKilograms</th>\n",
       "      <th>BMI</th>\n",
       "      <th>AlcoholDrinkers</th>\n",
       "      <th>HIVTesting</th>\n",
       "      <th>FluVaxLast12</th>\n",
       "      <th>PneumoVaxEver</th>\n",
       "      <th>HighRiskLastYear</th>\n",
       "      <th>CovidPos</th>\n",
       "    </tr>\n",
       "  </thead>\n",
       "  <tbody>\n",
       "    <tr>\n",
       "      <th>0</th>\n",
       "      <td>0</td>\n",
       "      <td>2</td>\n",
       "      <td>4</td>\n",
       "      <td>0</td>\n",
       "      <td>1</td>\n",
       "      <td>9</td>\n",
       "      <td>0</td>\n",
       "      <td>0</td>\n",
       "      <td>0</td>\n",
       "      <td>0</td>\n",
       "      <td>...</td>\n",
       "      <td>10</td>\n",
       "      <td>1.60</td>\n",
       "      <td>71.67</td>\n",
       "      <td>27.99</td>\n",
       "      <td>0</td>\n",
       "      <td>0</td>\n",
       "      <td>1</td>\n",
       "      <td>1</td>\n",
       "      <td>0</td>\n",
       "      <td>0</td>\n",
       "    </tr>\n",
       "    <tr>\n",
       "      <th>1</th>\n",
       "      <td>1</td>\n",
       "      <td>2</td>\n",
       "      <td>0</td>\n",
       "      <td>0</td>\n",
       "      <td>1</td>\n",
       "      <td>6</td>\n",
       "      <td>0</td>\n",
       "      <td>0</td>\n",
       "      <td>0</td>\n",
       "      <td>0</td>\n",
       "      <td>...</td>\n",
       "      <td>11</td>\n",
       "      <td>1.78</td>\n",
       "      <td>95.25</td>\n",
       "      <td>30.13</td>\n",
       "      <td>0</td>\n",
       "      <td>0</td>\n",
       "      <td>1</td>\n",
       "      <td>1</td>\n",
       "      <td>0</td>\n",
       "      <td>0</td>\n",
       "    </tr>\n",
       "    <tr>\n",
       "      <th>2</th>\n",
       "      <td>1</td>\n",
       "      <td>2</td>\n",
       "      <td>0</td>\n",
       "      <td>0</td>\n",
       "      <td>0</td>\n",
       "      <td>8</td>\n",
       "      <td>0</td>\n",
       "      <td>0</td>\n",
       "      <td>0</td>\n",
       "      <td>0</td>\n",
       "      <td>...</td>\n",
       "      <td>12</td>\n",
       "      <td>1.85</td>\n",
       "      <td>108.86</td>\n",
       "      <td>31.66</td>\n",
       "      <td>1</td>\n",
       "      <td>0</td>\n",
       "      <td>0</td>\n",
       "      <td>1</td>\n",
       "      <td>0</td>\n",
       "      <td>1</td>\n",
       "    </tr>\n",
       "    <tr>\n",
       "      <th>3</th>\n",
       "      <td>0</td>\n",
       "      <td>4</td>\n",
       "      <td>5</td>\n",
       "      <td>0</td>\n",
       "      <td>1</td>\n",
       "      <td>9</td>\n",
       "      <td>0</td>\n",
       "      <td>0</td>\n",
       "      <td>0</td>\n",
       "      <td>0</td>\n",
       "      <td>...</td>\n",
       "      <td>13</td>\n",
       "      <td>1.70</td>\n",
       "      <td>90.72</td>\n",
       "      <td>31.32</td>\n",
       "      <td>0</td>\n",
       "      <td>0</td>\n",
       "      <td>1</td>\n",
       "      <td>1</td>\n",
       "      <td>0</td>\n",
       "      <td>1</td>\n",
       "    </tr>\n",
       "    <tr>\n",
       "      <th>4</th>\n",
       "      <td>0</td>\n",
       "      <td>3</td>\n",
       "      <td>3</td>\n",
       "      <td>15</td>\n",
       "      <td>1</td>\n",
       "      <td>5</td>\n",
       "      <td>0</td>\n",
       "      <td>0</td>\n",
       "      <td>0</td>\n",
       "      <td>0</td>\n",
       "      <td>...</td>\n",
       "      <td>13</td>\n",
       "      <td>1.55</td>\n",
       "      <td>79.38</td>\n",
       "      <td>33.07</td>\n",
       "      <td>0</td>\n",
       "      <td>0</td>\n",
       "      <td>1</td>\n",
       "      <td>1</td>\n",
       "      <td>0</td>\n",
       "      <td>0</td>\n",
       "    </tr>\n",
       "  </tbody>\n",
       "</table>\n",
       "<p>5 rows × 36 columns</p>\n",
       "</div>"
      ],
      "text/plain": [
       "   Sex  GeneralHealth  PhysicalHealthDays  MentalHealthDays  \\\n",
       "0    0              2                   4                 0   \n",
       "1    1              2                   0                 0   \n",
       "2    1              2                   0                 0   \n",
       "3    0              4                   5                 0   \n",
       "4    0              3                   3                15   \n",
       "\n",
       "   PhysicalActivities  SleepHours  HadHeartAttack  HadAngina  HadStroke  \\\n",
       "0                   1           9               0          0          0   \n",
       "1                   1           6               0          0          0   \n",
       "2                   0           8               0          0          0   \n",
       "3                   1           9               0          0          0   \n",
       "4                   1           5               0          0          0   \n",
       "\n",
       "   HadAsthma  ...  AgeCategory  HeightInMeters  WeightInKilograms    BMI  \\\n",
       "0          0  ...           10            1.60              71.67  27.99   \n",
       "1          0  ...           11            1.78              95.25  30.13   \n",
       "2          0  ...           12            1.85             108.86  31.66   \n",
       "3          0  ...           13            1.70              90.72  31.32   \n",
       "4          0  ...           13            1.55              79.38  33.07   \n",
       "\n",
       "   AlcoholDrinkers  HIVTesting  FluVaxLast12  PneumoVaxEver  HighRiskLastYear  \\\n",
       "0                0           0             1              1                 0   \n",
       "1                0           0             1              1                 0   \n",
       "2                1           0             0              1                 0   \n",
       "3                0           0             1              1                 0   \n",
       "4                0           0             1              1                 0   \n",
       "\n",
       "   CovidPos  \n",
       "0         0  \n",
       "1         0  \n",
       "2         1  \n",
       "3         1  \n",
       "4         0  \n",
       "\n",
       "[5 rows x 36 columns]"
      ]
     },
     "execution_count": 2,
     "metadata": {},
     "output_type": "execute_result"
    }
   ],
   "source": [
    "df= pd.read_csv('heart2022python.csv')\n",
    "df.head()"
   ]
  },
  {
   "cell_type": "markdown",
   "metadata": {},
   "source": [
    "## splite data"
   ]
  },
  {
   "cell_type": "code",
   "execution_count": 3,
   "metadata": {},
   "outputs": [
    {
     "data": {
      "text/plain": [
       "HadHeartAttack\n",
       "0    232587\n",
       "1     13435\n",
       "Name: count, dtype: int64"
      ]
     },
     "execution_count": 3,
     "metadata": {},
     "output_type": "execute_result"
    }
   ],
   "source": [
    "df.drop(['SleepHours',\"DeafOrHardOfHearing\",'BlindOrVisionDifficulty',\"DifficultyConcentrating\",\"DifficultyWalking\",'DifficultyDressingBathing',\"DifficultyErrands\",\"ECigaretteUsage\",\"ChestScan\",'HeightInMeters',\"WeightInKilograms\",\"HIVTesting\",'FluVaxLast12',\"PneumoVaxEver\",\"HighRiskLastYear\",\"CovidPos\"],axis=1,inplace=True)\n",
    "\n",
    "\n",
    "\n",
    "df.shape\n",
    "df['HadHeartAttack'].value_counts()\n"
   ]
  },
  {
   "cell_type": "code",
   "execution_count": 4,
   "metadata": {},
   "outputs": [],
   "source": [
    "x = df.drop([\"HadHeartAttack\"] , axis = 1).values\n",
    "y = df[\"HadHeartAttack\"].values"
   ]
  },
  {
   "cell_type": "code",
   "execution_count": 5,
   "metadata": {},
   "outputs": [],
   "source": [
    "\n",
    "ros = RandomOverSampler(random_state=42)\n",
    "x_ros, y_ros = ros.fit_resample(x, y)\n",
    "x_train1, x_test1, y_train1, y_test1 = train_test_split(x_ros, y_ros, test_size=0.25, random_state=42)\n"
   ]
  },
  {
   "cell_type": "code",
   "execution_count": 6,
   "metadata": {},
   "outputs": [],
   "source": [
    "from sklearn.preprocessing import MinMaxScaler\n",
    "scaler = MinMaxScaler()\n",
    "x_train1 = scaler.fit_transform(x_train1)\n",
    "x_test1 = scaler.transform(x_test1)"
   ]
  },
  {
   "cell_type": "markdown",
   "metadata": {},
   "source": [
    "## random forest"
   ]
  },
  {
   "cell_type": "code",
   "execution_count": 7,
   "metadata": {},
   "outputs": [
    {
     "name": "stdout",
     "output_type": "stream",
     "text": [
      "Training Results\n",
      "\n",
      "              precision    recall  f1-score   support\n",
      "\n",
      "           0       1.00      1.00      1.00    174285\n",
      "           1       1.00      1.00      1.00    174595\n",
      "\n",
      "    accuracy                           1.00    348880\n",
      "   macro avg       1.00      1.00      1.00    348880\n",
      "weighted avg       1.00      1.00      1.00    348880\n",
      "\n",
      "Test Results\n",
      "\n",
      "              precision    recall  f1-score   support\n",
      "\n",
      "           0       1.00      0.96      0.98     58302\n",
      "           1       0.96      1.00      0.98     57992\n",
      "\n",
      "    accuracy                           0.98    116294\n",
      "   macro avg       0.98      0.98      0.98    116294\n",
      "weighted avg       0.98      0.98      0.98    116294\n",
      "\n",
      "Confusion Matrix:\n",
      " [[56190  2112]\n",
      " [   66 57926]]\n"
     ]
    }
   ],
   "source": [
    "\n",
    "\n",
    "\n",
    "\n",
    "# # Inicjalizacja modelu z domyślnymi parametrami\n",
    "# rf = RandomForestClassifier()\n",
    "\n",
    "# # Określenie siatki parametrów do przetestowania\n",
    "# param_grid = {\n",
    "#     'n_estimators': [100, 200, 300],  # Liczba drzew\n",
    "#     'max_depth': [10, 20, 30],        # Maksymalna głębokość drzewa\n",
    "#     'min_samples_split': [2, 4, 6],   # Minimalna liczba próbek wymagana do podziału węzła\n",
    "#     'min_samples_leaf': [1, 2, 4],    # Minimalna liczba próbek wymagana w liściu\n",
    "#     'max_features': ['auto', 'sqrt']  # Liczba cech do rozważenia przy każdym podziale\n",
    "# }\n",
    "\n",
    "# # Utworzenie obiektu GridSearchCV\n",
    "# cv_rf = GridSearchCV(estimator=rf, param_grid=param_grid, cv=5, scoring='accuracy')\n",
    "\n",
    "# # Przeszukiwanie siatki parametrów\n",
    "# cv_rf.fit(x_train1, y_train1)\n",
    "\n",
    "# # Najlepszy zestaw parametrów\n",
    "# print(\"Najlepsze parametry: \", cv_rf.best_params_)\n",
    "\n",
    "# # Najlepszy estimator\n",
    "# best_rf = cv_rf.best_estimator_\n",
    "\n",
    "params = {\n",
    "    'n_estimators': 300,\n",
    "    'max_depth': 30,\n",
    "    'min_samples_split': 2,\n",
    "    'min_samples_leaf': 1,\n",
    "    'max_features': 'sqrt'\n",
    "}\n",
    "\n",
    "rf_clf = RandomForestClassifier(\n",
    "    n_estimators=params['n_estimators'],\n",
    "    max_depth=params['max_depth'],\n",
    "    min_samples_split=params['min_samples_split'],\n",
    "    min_samples_leaf=params['min_samples_leaf'],\n",
    "    max_features=params['max_features'])\n",
    "rf_clf.fit(x_train1, y_train1)\n",
    "\n",
    "# Predykcje i ocena modelu\n",
    "ypred_train = rf_clf.predict(x_train1)\n",
    "ypred_test = rf_clf.predict(x_test1)\n",
    "\n",
    "print(\"Training Results\\n\")\n",
    "print(classification_report(y_train1, ypred_train))\n",
    "print(\"Test Results\\n\")\n",
    "print(classification_report(y_test1, ypred_test))\n",
    "\n",
    "# Macierz pomyłek\n",
    "conf_matrix = confusion_matrix(y_test1, ypred_test)\n",
    "print(\"Confusion Matrix:\\n\", conf_matrix)\n",
    "\n",
    "# # Ocena modelu za pomocą walidacji krzyżowej\n",
    "# cross_val_scores = cross_val_score(rf_clf, x_train1, y_train1, cv=5)\n",
    "# print(\"Cross-validation scores:\", cross_val_scores)\n",
    "# print(\"Average cross-validation score:\", np.mean(cross_val_scores))"
   ]
  },
  {
   "cell_type": "code",
   "execution_count": 8,
   "metadata": {},
   "outputs": [
    {
     "data": {
      "image/png": "[encoded data removed]",
      "text/plain": [
       "<Figure size 640x480 with 1 Axes>"
      ]
     },
     "metadata": {},
     "output_type": "display_data"
    }
   ],
   "source": [
    "\n",
    "y_proba_test = rf_clf.predict_proba(x_test1)[:, 1]\n",
    "\n",
    "fpr, tpr, thresholds = roc_curve(y_test1, y_proba_test)\n",
    "\n",
    "plt.plot(fpr, tpr, label='ROC Curve')\n",
    "plt.xlabel('False Positive Rate')\n",
    "plt.ylabel('True Positive Rate')\n",
    "plt.title('ROC Curve with AUC = {:.2f}'.format(roc_auc_score(y_test1, y_proba_test)))\n",
    "plt.legend(loc='lower right')\n",
    "plt.grid(True)\n",
    "plt.show()"
   ]
  },
  {
   "cell_type": "markdown",
   "metadata": {},
   "source": [
    "## DECISION TREE CLASSIFIER"
   ]
  },
  {
   "cell_type": "code",
   "execution_count": 9,
   "metadata": {},
   "outputs": [
    {
     "name": "stdout",
     "output_type": "stream",
     "text": [
      "Training Results\n",
      "\n",
      "              precision    recall  f1-score   support\n",
      "\n",
      "           0       1.00      1.00      1.00    174285\n",
      "           1       1.00      1.00      1.00    174595\n",
      "\n",
      "    accuracy                           1.00    348880\n",
      "   macro avg       1.00      1.00      1.00    348880\n",
      "weighted avg       1.00      1.00      1.00    348880\n",
      "\n",
      "Testing Results\n",
      "\n",
      "              precision    recall  f1-score   support\n",
      "\n",
      "           0       1.00      0.95      0.97     58302\n",
      "           1       0.95      1.00      0.97     57992\n",
      "\n",
      "    accuracy                           0.97    116294\n",
      "   macro avg       0.97      0.97      0.97    116294\n",
      "weighted avg       0.97      0.97      0.97    116294\n",
      "\n"
     ]
    }
   ],
   "source": [
    "\n",
    "# param_grid = {\n",
    "#     'max_depth': [3, 5, 10, None],\n",
    "#     'min_samples_split': [2, 5, 10],\n",
    "#     'min_samples_leaf': [1, 2, 5],\n",
    "#     'criterion': ['gini', 'entropy']\n",
    "# }\n",
    "\n",
    "# # Utworzenie modelu drzewa decyzyjnego\n",
    "# tree = DecisionTreeClassifier()\n",
    "\n",
    "# # Uruchomienie Grid Search z walidacją krzyżową\n",
    "# grid_search = GridSearchCV(tree, param_grid, cv=5, scoring='accuracy')\n",
    "# grid_search.fit(x_train1, y_train1)\n",
    "\n",
    "# # Wyświetlenie najlepszych parametrów i wyników\n",
    "# print(\"Najlepsze parametry:\", grid_search.best_params_)\n",
    "# print(\"Najlepsza dokładność:\", grid_search.best_score_)\n",
    "\n",
    "# # Utworzenie i ocena modelu z najlepszymi parametrami\n",
    "# best_tree = grid_search.best_estimator_\n",
    "# best_tree.fit(x_train1, y_train1)\n",
    "\n",
    "params = {\n",
    "    'max_depth': None,\n",
    "    'min_samples_split': 2,\n",
    "    'min_samples_leaf': 1,\n",
    "    'criterion': 'gini'\n",
    "}\n",
    "\n",
    "best_tree = DecisionTreeClassifier(\n",
    "    max_depth=params['max_depth'],\n",
    "    min_samples_split=params['min_samples_split'],\n",
    "    min_samples_leaf=params['min_samples_leaf'],\n",
    "    criterion=params['criterion'])\n",
    "best_tree.fit(x_train1, y_train1)\n",
    "\n",
    "ypred_train2 = best_tree.predict(x_train1)\n",
    "ypred_test2 = best_tree.predict(x_test1)\n",
    "\n",
    "# Ocena modelu na zbiorze testowym\n",
    "\n",
    "print(\"Training Results\\n\")\n",
    "print(classification_report(y_train1, ypred_train2))\n",
    "print('Testing Results\\n')\n",
    "print(classification_report(y_test1, ypred_test2))\n",
    "\n",
    "# Dodatkowo: Walidacja krzyżowa dla najlepszego modelu na całym zbiorze danych\n",
    "# cross_val_scores = cross_val_score(best_tree, x_train1, y_train1, cv=5)\n",
    "# print(\"Cross-Validation Scores for the Best Model:\", cross_val_scores)\n",
    "# print(\"Average Cross-Validation Score:\", cross_val_scores.mean())"
   ]
  },
  {
   "cell_type": "code",
   "execution_count": 10,
   "metadata": {},
   "outputs": [
    {
     "data": {
      "image/png": "[encoded data removed]",
      "text/plain": [
       "<Figure size 640x480 with 1 Axes>"
      ]
     },
     "metadata": {},
     "output_type": "display_data"
    }
   ],
   "source": [
    "\n",
    "y_proba_test = best_tree.predict_proba(x_test1)[:, 1]\n",
    "\n",
    "fpr, tpr, thresholds = roc_curve(y_test1, y_proba_test)\n",
    "\n",
    "plt.plot(fpr, tpr, label='ROC Curve')\n",
    "plt.xlabel('False Positive Rate')\n",
    "plt.ylabel('True Positive Rate')\n",
    "plt.title('ROC Curve with AUC = {:.2f}'.format(roc_auc_score(y_test1, y_proba_test)))\n",
    "plt.legend(loc='lower right')\n",
    "plt.grid(True)\n",
    "plt.show()"
   ]
  },
  {
   "cell_type": "markdown",
   "metadata": {},
   "source": [
    "## Naive Bayes"
   ]
  },
  {
   "cell_type": "code",
   "execution_count": 11,
   "metadata": {},
   "outputs": [
    {
     "name": "stdout",
     "output_type": "stream",
     "text": [
      "Naive Bayes Classifier Accuracy:  0.7816912308459594\n"
     ]
    }
   ],
   "source": [
    "Gnb = GaussianNB()\n",
    "Gnb.fit(x_train1, y_train1)\n",
    "ypred_train3 = Gnb.predict(x_train1)\n",
    "y_pred_test3 = Gnb.predict(x_test1)\n",
    "\n",
    "print(\"Naive Bayes Classifier Accuracy: \",accuracy_score(y_test1, y_pred_test3))"
   ]
  },
  {
   "cell_type": "code",
   "execution_count": 12,
   "metadata": {},
   "outputs": [
    {
     "name": "stdout",
     "output_type": "stream",
     "text": [
      "Testing Results\n",
      "\n",
      "              precision    recall  f1-score   support\n",
      "\n",
      "           0       0.76      0.83      0.79    174285\n",
      "           1       0.81      0.73      0.77    174595\n",
      "\n",
      "    accuracy                           0.78    348880\n",
      "   macro avg       0.78      0.78      0.78    348880\n",
      "weighted avg       0.78      0.78      0.78    348880\n",
      "\n"
     ]
    }
   ],
   "source": [
    "print('Testing Results\\n')\n",
    "print(classification_report(y_train1, ypred_train3))"
   ]
  },
  {
   "cell_type": "code",
   "execution_count": 13,
   "metadata": {},
   "outputs": [
    {
     "name": "stdout",
     "output_type": "stream",
     "text": [
      "Testing Results\n",
      "\n",
      "              precision    recall  f1-score   support\n",
      "\n",
      "           0       0.76      0.83      0.79     58302\n",
      "           1       0.81      0.74      0.77     57992\n",
      "\n",
      "    accuracy                           0.78    116294\n",
      "   macro avg       0.78      0.78      0.78    116294\n",
      "weighted avg       0.78      0.78      0.78    116294\n",
      "\n"
     ]
    }
   ],
   "source": [
    "print('Testing Results\\n')\n",
    "print(classification_report(y_test1, y_pred_test3))"
   ]
  },
  {
   "cell_type": "code",
   "execution_count": 14,
   "metadata": {},
   "outputs": [
    {
     "data": {
      "image/png": "[encoded data removed]",
      "text/plain": [
       "<Figure size 640x480 with 1 Axes>"
      ]
     },
     "metadata": {},
     "output_type": "display_data"
    }
   ],
   "source": [
    "# cross_val_scores = cross_val_score(Gnb, x_train1, y_train1, cv=5)\n",
    "# print(\"Cross-Validation Scores for the Best Model:\", cross_val_scores)\n",
    "# print(\"Average Cross-Validation Score:\", cross_val_scores.mean())\n",
    "y_proba_test = Gnb.predict_proba(x_test1)[:, 1]\n",
    "\n",
    "fpr, tpr, thresholds = roc_curve(y_test1, y_proba_test)\n",
    "\n",
    "plt.plot(fpr, tpr, label='ROC Curve')\n",
    "plt.xlabel('False Positive Rate')\n",
    "plt.ylabel('True Positive Rate')\n",
    "plt.title('ROC Curve with AUC = {:.2f}'.format(roc_auc_score(y_test1, y_proba_test)))\n",
    "plt.legend(loc='lower right')\n",
    "plt.grid(True)\n",
    "plt.show()"
   ]
  },
  {
   "cell_type": "markdown",
   "metadata": {},
   "source": [
    "## XGBOSST\n"
   ]
  },
  {
   "cell_type": "code",
   "execution_count": 15,
   "metadata": {},
   "outputs": [
    {
     "name": "stdout",
     "output_type": "stream",
     "text": [
      "Accuracy on Training set:  0.8896468699839486\n",
      "Accuracy on Test set:  0.8790909247252653\n",
      "\n",
      "Training Results\n",
      "\n",
      "              precision    recall  f1-score   support\n",
      "\n",
      "           0       0.89      0.89      0.89    174285\n",
      "           1       0.89      0.89      0.89    174595\n",
      "\n",
      "    accuracy                           0.89    348880\n",
      "   macro avg       0.89      0.89      0.89    348880\n",
      "weighted avg       0.89      0.89      0.89    348880\n",
      "\n",
      "Testing Results\n",
      "\n",
      "              precision    recall  f1-score   support\n",
      "\n",
      "           0       0.88      0.87      0.88     58302\n",
      "           1       0.87      0.88      0.88     57992\n",
      "\n",
      "    accuracy                           0.88    116294\n",
      "   macro avg       0.88      0.88      0.88    116294\n",
      "weighted avg       0.88      0.88      0.88    116294\n",
      "\n"
     ]
    },
    {
     "data": {
      "image/png": "[encoded data removed]",
      "text/plain": [
       "<Figure size 640x480 with 1 Axes>"
      ]
     },
     "metadata": {},
     "output_type": "display_data"
    }
   ],
   "source": [
    "\n",
    "\n",
    "\n",
    "\n",
    "# # Inicjalizacja modelu XGBoost\n",
    "# xg = XGBClassifier()\n",
    "\n",
    "# # Definiowanie siatki hiperparametrów do przetestowania\n",
    "# param_grid = {\n",
    "#     'n_estimators': [50, 100, 200],\n",
    "#     'max_depth': [3, 5, 7],\n",
    "#     'learning_rate': [0.01, 0.1, 0.2],\n",
    "#     'subsample': [0.7, 0.8, 0.9],\n",
    "#     'colsample_bytree': [0.7, 0.8, 0.9]\n",
    "# }\n",
    "\n",
    "# # Utworzenie obiektu GridSearchCV\n",
    "# grid_search = GridSearchCV(estimator=xg, param_grid=param_grid, cv=3, scoring='accuracy')\n",
    "\n",
    "# # Przeszukiwanie siatki parametrów\n",
    "# grid_search.fit(x_train1, y_train1)\n",
    "\n",
    "# # Najlepsze parametry i najlepszy model\n",
    "# print(\"Najlepsze parametry: \", grid_search.best_params_)\n",
    "# best_xg = grid_search.best_estimator_\n",
    "\n",
    "params = {\n",
    "    'n_estimators': 200,\n",
    "    'max_depth': 7,\n",
    "    'learning_rate': 0.2,\n",
    "    'subsample': 0.7,\n",
    "    'colsample_bytree': 0.9\n",
    "}\n",
    "\n",
    "best_xg = XGBClassifier(\n",
    "    n_estimators=params['n_estimators'],\n",
    "    max_depth=params['max_depth'],\n",
    "    learning_rate=params['learning_rate'],\n",
    "    subsample=params['subsample'],\n",
    "    colsample_bytree=params['colsample_bytree'])\n",
    "best_xg.fit(x_train1, y_train1)\n",
    "\n",
    "# Predykcje na zbiorze treningowym i testowym\n",
    "ypred_train4 = best_xg.predict(x_train1)\n",
    "y_pred_test4 = best_xg.predict(x_test1)\n",
    "\n",
    "# Ocena modelu\n",
    "print(\"Accuracy on Training set: \", accuracy_score(y_train1, ypred_train4))\n",
    "print(\"Accuracy on Test set: \", accuracy_score(y_test1, y_pred_test4))\n",
    "print(\"\\nTraining Results\\n\")\n",
    "print(classification_report(y_train1, ypred_train4))\n",
    "print('Testing Results\\n')\n",
    "print(classification_report(y_test1, y_pred_test4))\n",
    "\n",
    "# cross_val_scores = cross_val_score(best_xg, x_train1, y_train1, cv=5)\n",
    "# print(\"Cross-Validation Scores for the Best Model:\", cross_val_scores)\n",
    "# print(\"Average Cross-Validation Score:\", cross_val_scores.mean())\n",
    "\n",
    "# Krzywa ROC\n",
    "y_proba_test4 = best_xg.predict_proba(x_test1)[:, 1]\n",
    "fpr, tpr, thresholds = roc_curve(y_test1, y_proba_test4)\n",
    "plt.plot(fpr, tpr)\n",
    "plt.title(\"ROC Curve with AUC = {:.2f}\".format(roc_auc_score(y_test1, y_proba_test4)))\n",
    "plt.show()"
   ]
  },
  {
   "cell_type": "markdown",
   "metadata": {},
   "source": [
    "## logistic regression"
   ]
  },
  {
   "cell_type": "code",
   "execution_count": 16,
   "metadata": {},
   "outputs": [
    {
     "name": "stdout",
     "output_type": "stream",
     "text": [
      "Accuracy on Training set:  0.7951014675533135\n",
      "Accuracy on Test set:  0.7963867439420779\n",
      "\n",
      "Training Results\n",
      "\n",
      "              precision    recall  f1-score   support\n",
      "\n",
      "           0       0.77      0.84      0.80    174285\n",
      "           1       0.83      0.75      0.78    174595\n",
      "\n",
      "    accuracy                           0.80    348880\n",
      "   macro avg       0.80      0.80      0.79    348880\n",
      "weighted avg       0.80      0.80      0.79    348880\n",
      "\n",
      "Testing Results\n",
      "\n",
      "              precision    recall  f1-score   support\n",
      "\n",
      "           0       0.77      0.84      0.81     58302\n",
      "           1       0.82      0.75      0.79     57992\n",
      "\n",
      "    accuracy                           0.80    116294\n",
      "   macro avg       0.80      0.80      0.80    116294\n",
      "weighted avg       0.80      0.80      0.80    116294\n",
      "\n"
     ]
    },
    {
     "data": {
      "image/png": "[encoded data removed]",
      "text/plain": [
       "<Figure size 640x480 with 1 Axes>"
      ]
     },
     "metadata": {},
     "output_type": "display_data"
    }
   ],
   "source": [
    "\n",
    "\n",
    "# # Inicjalizacja modelu regresji logistycznej\n",
    "# lg = LogisticRegression()\n",
    "\n",
    "# # Definiowanie siatki hiperparametrów do przetestowania\n",
    "# param_grid = {\n",
    "#     'C': [0.01, 0.1, 1, 10, 100],  # Parametr regularyzacji\n",
    "#     'penalty': ['l1', 'l2'],       # Typ regularyzacji\n",
    "#     'solver': ['liblinear']        # Algorytm optymalizacji (liblinear jest dobrym wyborem dla małych zbiorów danych)\n",
    "# }\n",
    "\n",
    "# # Utworzenie obiektu GridSearchCV\n",
    "# grid_search = GridSearchCV(estimator=lg, param_grid=param_grid, cv=5, scoring='accuracy')\n",
    "\n",
    "# # Przeszukiwanie siatki parametrów\n",
    "# grid_search.fit(x_train1, y_train1)\n",
    "\n",
    "# # Najlepsze parametry i najlepszy model\n",
    "# print(\"Najlepsze parametry: \", grid_search.best_params_)\n",
    "# best_lg = grid_search.best_estimator_\n",
    "\n",
    "params = {\n",
    "    'C': 0.1,\n",
    "    'penalty': 'l2',\n",
    "    'solver': 'liblinear'\n",
    "}\n",
    "\n",
    "best_lg = LogisticRegression(\n",
    "    C=params['C'],\n",
    "    penalty=params['penalty'],\n",
    "    solver=params['solver'])\n",
    "best_lg.fit(x_train1, y_train1)\n",
    "\n",
    "# Predykcje na zbiorze treningowym i testowym\n",
    "ypred_train4 = best_lg.predict(x_train1)\n",
    "y_pred_test4 = best_lg.predict(x_test1)\n",
    "\n",
    "# Ocena modelu\n",
    "print(\"Accuracy on Training set: \", accuracy_score(y_train1, ypred_train4))\n",
    "print(\"Accuracy on Test set: \", accuracy_score(y_test1, y_pred_test4))\n",
    "print(\"\\nTraining Results\\n\")\n",
    "print(classification_report(y_train1, ypred_train4))\n",
    "print('Testing Results\\n')\n",
    "print(classification_report(y_test1, y_pred_test4))\n",
    "\n",
    "# cross_val_scores = cross_val_score(best_lg, x_train1, y_train1, cv=5)\n",
    "# print(\"Cross-Validation Scores for the Best Model:\", cross_val_scores)\n",
    "# print(\"Average Cross-Validation Score:\", cross_val_scores.mean())\n",
    "\n",
    "# Krzywa ROC\n",
    "y_proba_test4 = best_lg.predict_proba(x_test1)[:, 1]\n",
    "fpr, tpr, thresholds = roc_curve(y_test1, y_proba_test4)\n",
    "plt.plot(fpr, tpr)\n",
    "plt.title(\"ROC Curve with AUC = {:.2f}\".format(roc_auc_score(y_test1, y_proba_test4)))\n",
    "plt.show()"
   ]
  },
  {
   "cell_type": "markdown",
   "metadata": {},
   "source": [
    "## GradientBoostingClassifier"
   ]
  },
  {
   "cell_type": "code",
   "execution_count": 17,
   "metadata": {},
   "outputs": [
    {
     "name": "stdout",
     "output_type": "stream",
     "text": [
      "Accuracy on Training set:  0.9122993579454254\n",
      "Accuracy on Test set:  0.8963919032796189\n",
      "\n",
      "Training Results\n",
      "\n",
      "              precision    recall  f1-score   support\n",
      "\n",
      "           0       0.91      0.91      0.91    174285\n",
      "           1       0.91      0.91      0.91    174595\n",
      "\n",
      "    accuracy                           0.91    348880\n",
      "   macro avg       0.91      0.91      0.91    348880\n",
      "weighted avg       0.91      0.91      0.91    348880\n",
      "\n",
      "Testing Results\n",
      "\n",
      "              precision    recall  f1-score   support\n",
      "\n",
      "           0       0.90      0.89      0.90     58302\n",
      "           1       0.89      0.91      0.90     57992\n",
      "\n",
      "    accuracy                           0.90    116294\n",
      "   macro avg       0.90      0.90      0.90    116294\n",
      "weighted avg       0.90      0.90      0.90    116294\n",
      "\n"
     ]
    },
    {
     "data": {
      "image/png": "[encoded data removed]",
      "text/plain": [
       "<Figure size 640x480 with 1 Axes>"
      ]
     },
     "metadata": {},
     "output_type": "display_data"
    }
   ],
   "source": [
    "\n",
    "\n",
    "# # Inicjalizacja modelu Gradient Boosting Classifier\n",
    "# gb = GradientBoostingClassifier()\n",
    "\n",
    "# # Definiowanie siatki hiperparametrów do przetestowania\n",
    "# param_grid = {\n",
    "#     'n_estimators': [100, 200, 300],  # Liczba drzew w ensemble\n",
    "#     'learning_rate': [0.01, 0.1, 0.2], # Szybkość uczenia\n",
    "#     'max_depth': [3, 5, 7],            # Maksymalna głębokość drzewa\n",
    "#     'min_samples_split': [2, 4],       # Minimalna liczba próbek wymagana do podziału węzła\n",
    "#     'min_samples_leaf': [1, 2]         # Minimalna liczba próbek w liściu\n",
    "# }\n",
    "\n",
    "# # Utworzenie obiektu GridSearchCV\n",
    "# grid_search = GridSearchCV(estimator=gb, param_grid=param_grid, cv=5, scoring='accuracy')\n",
    "\n",
    "# # Przeszukiwanie siatki parametrów\n",
    "# grid_search.fit(x_train1, y_train1)\n",
    "\n",
    "# # Najlepsze parametry i najlepszy model\n",
    "# print(\"Najlepsze parametry: \", grid_search.best_params_)\n",
    "# best_gb = grid_search.best_estimator_\n",
    "\n",
    "params = {\n",
    "    'n_estimators': 300,\n",
    "    'learning_rate': 0.2,\n",
    "    'max_depth': 7,\n",
    "    'min_samples_split': 2,\n",
    "    'min_samples_leaf': 1\n",
    "}\n",
    "\n",
    "best_gb = GradientBoostingClassifier(\n",
    "    n_estimators=params['n_estimators'],\n",
    "    learning_rate=params['learning_rate'],\n",
    "    max_depth=params['max_depth'],\n",
    "    min_samples_split=params['min_samples_split'],\n",
    "    min_samples_leaf=params['min_samples_leaf'])\n",
    "best_gb.fit(x_train1, y_train1)\n",
    "\n",
    "# Predykcje na zbiorze treningowym i testowym\n",
    "ypred_train6 = best_gb.predict(x_train1)\n",
    "y_pred_test6 = best_gb.predict(x_test1)\n",
    "\n",
    "# Ocena modelu\n",
    "print(\"Accuracy on Training set: \", accuracy_score(y_train1, ypred_train6))\n",
    "print(\"Accuracy on Test set: \", accuracy_score(y_test1, y_pred_test6))\n",
    "print(\"\\nTraining Results\\n\")\n",
    "print(classification_report(y_train1, ypred_train6))\n",
    "print('Testing Results\\n')\n",
    "print(classification_report(y_test1, y_pred_test6))\n",
    "\n",
    "# cross_val_scores = cross_val_score(best_gb, x_train1, y_train1, cv=5)\n",
    "# print(\"Cross-Validation Scores for the Best Model:\", cross_val_scores)\n",
    "# print(\"Average Cross-Validation Score:\", cross_val_scores.mean())\n",
    "\n",
    "# Krzywa ROC\n",
    "y_proba_test6 = best_gb.predict_proba(x_test1)[:, 1]\n",
    "fpr, tpr, thresholds = roc_curve(y_test1, y_proba_test6)\n",
    "plt.plot(fpr, tpr)\n",
    "plt.title(\"ROC Curve with AUC = {:.2f}\".format(roc_auc_score(y_test1, y_proba_test6)))\n",
    "plt.show()"
   ]
  },
  {
   "cell_type": "markdown",
   "metadata": {},
   "source": [
    "## KNN"
   ]
  },
  {
   "cell_type": "code",
   "execution_count": 18,
   "metadata": {},
   "outputs": [
    {
     "data": {
      "text/html": [
       "<style>#sk-container-id-1 {color: black;}#sk-container-id-1 pre{padding: 0;}#sk-container-id-1 div.sk-toggleable {background-color: white;}#sk-container-id-1 label.sk-toggleable__label {cursor: pointer;display: block;width: 100%;margin-bottom: 0;padding: 0.3em;box-sizing: border-box;text-align: center;}#sk-container-id-1 label.sk-toggleable__label-arrow:before {content: \"▸\";float: left;margin-right: 0.25em;color: #696969;}#sk-container-id-1 label.sk-toggleable__label-arrow:hover:before {color: black;}#sk-container-id-1 div.sk-estimator:hover label.sk-toggleable__label-arrow:before {color: black;}#sk-container-id-1 div.sk-toggleable__content {max-height: 0;max-width: 0;overflow: hidden;text-align: left;background-color: #f0f8ff;}#sk-container-id-1 div.sk-toggleable__content pre {margin: 0.2em;color: black;border-radius: 0.25em;background-color: #f0f8ff;}#sk-container-id-1 input.sk-toggleable__control:checked~div.sk-toggleable__content {max-height: 200px;max-width: 100%;overflow: auto;}#sk-container-id-1 input.sk-toggleable__control:checked~label.sk-toggleable__label-arrow:before {content: \"▾\";}#sk-container-id-1 div.sk-estimator input.sk-toggleable__control:checked~label.sk-toggleable__label {background-color: #d4ebff;}#sk-container-id-1 div.sk-label input.sk-toggleable__control:checked~label.sk-toggleable__label {background-color: #d4ebff;}#sk-container-id-1 input.sk-hidden--visually {border: 0;clip: rect(1px 1px 1px 1px);clip: rect(1px, 1px, 1px, 1px);height: 1px;margin: -1px;overflow: hidden;padding: 0;position: absolute;width: 1px;}#sk-container-id-1 div.sk-estimator {font-family: monospace;background-color: #f0f8ff;border: 1px dotted black;border-radius: 0.25em;box-sizing: border-box;margin-bottom: 0.5em;}#sk-container-id-1 div.sk-estimator:hover {background-color: #d4ebff;}#sk-container-id-1 div.sk-parallel-item::after {content: \"\";width: 100%;border-bottom: 1px solid gray;flex-grow: 1;}#sk-container-id-1 div.sk-label:hover label.sk-toggleable__label {background-color: #d4ebff;}#sk-container-id-1 div.sk-serial::before {content: \"\";position: absolute;border-left: 1px solid gray;box-sizing: border-box;top: 0;bottom: 0;left: 50%;z-index: 0;}#sk-container-id-1 div.sk-serial {display: flex;flex-direction: column;align-items: center;background-color: white;padding-right: 0.2em;padding-left: 0.2em;position: relative;}#sk-container-id-1 div.sk-item {position: relative;z-index: 1;}#sk-container-id-1 div.sk-parallel {display: flex;align-items: stretch;justify-content: center;background-color: white;position: relative;}#sk-container-id-1 div.sk-item::before, #sk-container-id-1 div.sk-parallel-item::before {content: \"\";position: absolute;border-left: 1px solid gray;box-sizing: border-box;top: 0;bottom: 0;left: 50%;z-index: -1;}#sk-container-id-1 div.sk-parallel-item {display: flex;flex-direction: column;z-index: 1;position: relative;background-color: white;}#sk-container-id-1 div.sk-parallel-item:first-child::after {align-self: flex-end;width: 50%;}#sk-container-id-1 div.sk-parallel-item:last-child::after {align-self: flex-start;width: 50%;}#sk-container-id-1 div.sk-parallel-item:only-child::after {width: 0;}#sk-container-id-1 div.sk-dashed-wrapped {border: 1px dashed gray;margin: 0 0.4em 0.5em 0.4em;box-sizing: border-box;padding-bottom: 0.4em;background-color: white;}#sk-container-id-1 div.sk-label label {font-family: monospace;font-weight: bold;display: inline-block;line-height: 1.2em;}#sk-container-id-1 div.sk-label-container {text-align: center;}#sk-container-id-1 div.sk-container {/* jupyter's `normalize.less` sets `[hidden] { display: none; }` but bootstrap.min.css set `[hidden] { display: none !important; }` so we also need the `!important` here to be able to override the default hidden behavior on the sphinx rendered scikit-learn.org. See: https://github.com/scikit-learn/scikit-learn/issues/21755 */display: inline-block !important;position: relative;}#sk-container-id-1 div.sk-text-repr-fallback {display: none;}</style><div id=\"sk-container-id-1\" class=\"sk-top-container\"><div class=\"sk-text-repr-fallback\"><pre>KNeighborsClassifier()</pre><b>In a Jupyter environment, please rerun this cell to show the HTML representation or trust the notebook. <br />On GitHub, the HTML representation is unable to render, please try loading this page with nbviewer.org.</b></div><div class=\"sk-container\" hidden><div class=\"sk-item\"><div class=\"sk-estimator sk-toggleable\"><input class=\"sk-toggleable__control sk-hidden--visually\" id=\"sk-estimator-id-1\" type=\"checkbox\" checked><label for=\"sk-estimator-id-1\" class=\"sk-toggleable__label sk-toggleable__label-arrow\">KNeighborsClassifier</label><div class=\"sk-toggleable__content\"><pre>KNeighborsClassifier()</pre></div></div></div></div></div>"
      ],
      "text/plain": [
       "KNeighborsClassifier()"
      ]
     },
     "execution_count": 18,
     "metadata": {},
     "output_type": "execute_result"
    }
   ],
   "source": [
    "knn = KNeighborsClassifier()\n",
    "knn.fit(x_train1, y_train1)"
   ]
  },
  {
   "cell_type": "code",
   "execution_count": 19,
   "metadata": {},
   "outputs": [],
   "source": [
    "grid_cv = GridSearchCV(KNeighborsClassifier(), \n",
    "                       param_grid={\n",
    "                           \"n_neighbors\": range(1, 50)\n",
    "                       }, cv=5, scoring=\"f1\", \n",
    "                       verbose=1, n_jobs=6)"
   ]
  },
  {
   "cell_type": "code",
   "execution_count": 20,
   "metadata": {},
   "outputs": [
    {
     "name": "stdout",
     "output_type": "stream",
     "text": [
      "Fitting 5 folds for each of 49 candidates, totalling 245 fits\n"
     ]
    },
    {
     "data": {
      "text/html": [
       "<style>#sk-container-id-2 {color: black;}#sk-container-id-2 pre{padding: 0;}#sk-container-id-2 div.sk-toggleable {background-color: white;}#sk-container-id-2 label.sk-toggleable__label {cursor: pointer;display: block;width: 100%;margin-bottom: 0;padding: 0.3em;box-sizing: border-box;text-align: center;}#sk-container-id-2 label.sk-toggleable__label-arrow:before {content: \"▸\";float: left;margin-right: 0.25em;color: #696969;}#sk-container-id-2 label.sk-toggleable__label-arrow:hover:before {color: black;}#sk-container-id-2 div.sk-estimator:hover label.sk-toggleable__label-arrow:before {color: black;}#sk-container-id-2 div.sk-toggleable__content {max-height: 0;max-width: 0;overflow: hidden;text-align: left;background-color: #f0f8ff;}#sk-container-id-2 div.sk-toggleable__content pre {margin: 0.2em;color: black;border-radius: 0.25em;background-color: #f0f8ff;}#sk-container-id-2 input.sk-toggleable__control:checked~div.sk-toggleable__content {max-height: 200px;max-width: 100%;overflow: auto;}#sk-container-id-2 input.sk-toggleable__control:checked~label.sk-toggleable__label-arrow:before {content: \"▾\";}#sk-container-id-2 div.sk-estimator input.sk-toggleable__control:checked~label.sk-toggleable__label {background-color: #d4ebff;}#sk-container-id-2 div.sk-label input.sk-toggleable__control:checked~label.sk-toggleable__label {background-color: #d4ebff;}#sk-container-id-2 input.sk-hidden--visually {border: 0;clip: rect(1px 1px 1px 1px);clip: rect(1px, 1px, 1px, 1px);height: 1px;margin: -1px;overflow: hidden;padding: 0;position: absolute;width: 1px;}#sk-container-id-2 div.sk-estimator {font-family: monospace;background-color: #f0f8ff;border: 1px dotted black;border-radius: 0.25em;box-sizing: border-box;margin-bottom: 0.5em;}#sk-container-id-2 div.sk-estimator:hover {background-color: #d4ebff;}#sk-container-id-2 div.sk-parallel-item::after {content: \"\";width: 100%;border-bottom: 1px solid gray;flex-grow: 1;}#sk-container-id-2 div.sk-label:hover label.sk-toggleable__label {background-color: #d4ebff;}#sk-container-id-2 div.sk-serial::before {content: \"\";position: absolute;border-left: 1px solid gray;box-sizing: border-box;top: 0;bottom: 0;left: 50%;z-index: 0;}#sk-container-id-2 div.sk-serial {display: flex;flex-direction: column;align-items: center;background-color: white;padding-right: 0.2em;padding-left: 0.2em;position: relative;}#sk-container-id-2 div.sk-item {position: relative;z-index: 1;}#sk-container-id-2 div.sk-parallel {display: flex;align-items: stretch;justify-content: center;background-color: white;position: relative;}#sk-container-id-2 div.sk-item::before, #sk-container-id-2 div.sk-parallel-item::before {content: \"\";position: absolute;border-left: 1px solid gray;box-sizing: border-box;top: 0;bottom: 0;left: 50%;z-index: -1;}#sk-container-id-2 div.sk-parallel-item {display: flex;flex-direction: column;z-index: 1;position: relative;background-color: white;}#sk-container-id-2 div.sk-parallel-item:first-child::after {align-self: flex-end;width: 50%;}#sk-container-id-2 div.sk-parallel-item:last-child::after {align-self: flex-start;width: 50%;}#sk-container-id-2 div.sk-parallel-item:only-child::after {width: 0;}#sk-container-id-2 div.sk-dashed-wrapped {border: 1px dashed gray;margin: 0 0.4em 0.5em 0.4em;box-sizing: border-box;padding-bottom: 0.4em;background-color: white;}#sk-container-id-2 div.sk-label label {font-family: monospace;font-weight: bold;display: inline-block;line-height: 1.2em;}#sk-container-id-2 div.sk-label-container {text-align: center;}#sk-container-id-2 div.sk-container {/* jupyter's `normalize.less` sets `[hidden] { display: none; }` but bootstrap.min.css set `[hidden] { display: none !important; }` so we also need the `!important` here to be able to override the default hidden behavior on the sphinx rendered scikit-learn.org. See: https://github.com/scikit-learn/scikit-learn/issues/21755 */display: inline-block !important;position: relative;}#sk-container-id-2 div.sk-text-repr-fallback {display: none;}</style><div id=\"sk-container-id-2\" class=\"sk-top-container\"><div class=\"sk-text-repr-fallback\"><pre>GridSearchCV(cv=5, estimator=KNeighborsClassifier(), n_jobs=6,\n",
       "             param_grid={&#x27;n_neighbors&#x27;: range(1, 50)}, scoring=&#x27;f1&#x27;, verbose=1)</pre><b>In a Jupyter environment, please rerun this cell to show the HTML representation or trust the notebook. <br />On GitHub, the HTML representation is unable to render, please try loading this page with nbviewer.org.</b></div><div class=\"sk-container\" hidden><div class=\"sk-item sk-dashed-wrapped\"><div class=\"sk-label-container\"><div class=\"sk-label sk-toggleable\"><input class=\"sk-toggleable__control sk-hidden--visually\" id=\"sk-estimator-id-2\" type=\"checkbox\" ><label for=\"sk-estimator-id-2\" class=\"sk-toggleable__label sk-toggleable__label-arrow\">GridSearchCV</label><div class=\"sk-toggleable__content\"><pre>GridSearchCV(cv=5, estimator=KNeighborsClassifier(), n_jobs=6,\n",
       "             param_grid={&#x27;n_neighbors&#x27;: range(1, 50)}, scoring=&#x27;f1&#x27;, verbose=1)</pre></div></div></div><div class=\"sk-parallel\"><div class=\"sk-parallel-item\"><div class=\"sk-item\"><div class=\"sk-label-container\"><div class=\"sk-label sk-toggleable\"><input class=\"sk-toggleable__control sk-hidden--visually\" id=\"sk-estimator-id-3\" type=\"checkbox\" ><label for=\"sk-estimator-id-3\" class=\"sk-toggleable__label sk-toggleable__label-arrow\">estimator: KNeighborsClassifier</label><div class=\"sk-toggleable__content\"><pre>KNeighborsClassifier()</pre></div></div></div><div class=\"sk-serial\"><div class=\"sk-item\"><div class=\"sk-estimator sk-toggleable\"><input class=\"sk-toggleable__control sk-hidden--visually\" id=\"sk-estimator-id-4\" type=\"checkbox\" ><label for=\"sk-estimator-id-4\" class=\"sk-toggleable__label sk-toggleable__label-arrow\">KNeighborsClassifier</label><div class=\"sk-toggleable__content\"><pre>KNeighborsClassifier()</pre></div></div></div></div></div></div></div></div></div></div>"
      ],
      "text/plain": [
       "GridSearchCV(cv=5, estimator=KNeighborsClassifier(), n_jobs=6,\n",
       "             param_grid={'n_neighbors': range(1, 50)}, scoring='f1', verbose=1)"
      ]
     },
     "execution_count": 20,
     "metadata": {},
     "output_type": "execute_result"
    }
   ],
   "source": [
    "grid_cv.fit(x_train1, \n",
    "            y_train1)"
   ]
  },
  {
   "cell_type": "code",
   "execution_count": 21,
   "metadata": {},
   "outputs": [
    {
     "data": {
      "text/plain": [
       "0.9687242510288341"
      ]
     },
     "execution_count": 21,
     "metadata": {},
     "output_type": "execute_result"
    }
   ],
   "source": [
    "grid_cv.best_score_"
   ]
  },
  {
   "cell_type": "code",
   "execution_count": 22,
   "metadata": {},
   "outputs": [
    {
     "data": {
      "text/html": [
       "<style>#sk-container-id-3 {color: black;}#sk-container-id-3 pre{padding: 0;}#sk-container-id-3 div.sk-toggleable {background-color: white;}#sk-container-id-3 label.sk-toggleable__label {cursor: pointer;display: block;width: 100%;margin-bottom: 0;padding: 0.3em;box-sizing: border-box;text-align: center;}#sk-container-id-3 label.sk-toggleable__label-arrow:before {content: \"▸\";float: left;margin-right: 0.25em;color: #696969;}#sk-container-id-3 label.sk-toggleable__label-arrow:hover:before {color: black;}#sk-container-id-3 div.sk-estimator:hover label.sk-toggleable__label-arrow:before {color: black;}#sk-container-id-3 div.sk-toggleable__content {max-height: 0;max-width: 0;overflow: hidden;text-align: left;background-color: #f0f8ff;}#sk-container-id-3 div.sk-toggleable__content pre {margin: 0.2em;color: black;border-radius: 0.25em;background-color: #f0f8ff;}#sk-container-id-3 input.sk-toggleable__control:checked~div.sk-toggleable__content {max-height: 200px;max-width: 100%;overflow: auto;}#sk-container-id-3 input.sk-toggleable__control:checked~label.sk-toggleable__label-arrow:before {content: \"▾\";}#sk-container-id-3 div.sk-estimator input.sk-toggleable__control:checked~label.sk-toggleable__label {background-color: #d4ebff;}#sk-container-id-3 div.sk-label input.sk-toggleable__control:checked~label.sk-toggleable__label {background-color: #d4ebff;}#sk-container-id-3 input.sk-hidden--visually {border: 0;clip: rect(1px 1px 1px 1px);clip: rect(1px, 1px, 1px, 1px);height: 1px;margin: -1px;overflow: hidden;padding: 0;position: absolute;width: 1px;}#sk-container-id-3 div.sk-estimator {font-family: monospace;background-color: #f0f8ff;border: 1px dotted black;border-radius: 0.25em;box-sizing: border-box;margin-bottom: 0.5em;}#sk-container-id-3 div.sk-estimator:hover {background-color: #d4ebff;}#sk-container-id-3 div.sk-parallel-item::after {content: \"\";width: 100%;border-bottom: 1px solid gray;flex-grow: 1;}#sk-container-id-3 div.sk-label:hover label.sk-toggleable__label {background-color: #d4ebff;}#sk-container-id-3 div.sk-serial::before {content: \"\";position: absolute;border-left: 1px solid gray;box-sizing: border-box;top: 0;bottom: 0;left: 50%;z-index: 0;}#sk-container-id-3 div.sk-serial {display: flex;flex-direction: column;align-items: center;background-color: white;padding-right: 0.2em;padding-left: 0.2em;position: relative;}#sk-container-id-3 div.sk-item {position: relative;z-index: 1;}#sk-container-id-3 div.sk-parallel {display: flex;align-items: stretch;justify-content: center;background-color: white;position: relative;}#sk-container-id-3 div.sk-item::before, #sk-container-id-3 div.sk-parallel-item::before {content: \"\";position: absolute;border-left: 1px solid gray;box-sizing: border-box;top: 0;bottom: 0;left: 50%;z-index: -1;}#sk-container-id-3 div.sk-parallel-item {display: flex;flex-direction: column;z-index: 1;position: relative;background-color: white;}#sk-container-id-3 div.sk-parallel-item:first-child::after {align-self: flex-end;width: 50%;}#sk-container-id-3 div.sk-parallel-item:last-child::after {align-self: flex-start;width: 50%;}#sk-container-id-3 div.sk-parallel-item:only-child::after {width: 0;}#sk-container-id-3 div.sk-dashed-wrapped {border: 1px dashed gray;margin: 0 0.4em 0.5em 0.4em;box-sizing: border-box;padding-bottom: 0.4em;background-color: white;}#sk-container-id-3 div.sk-label label {font-family: monospace;font-weight: bold;display: inline-block;line-height: 1.2em;}#sk-container-id-3 div.sk-label-container {text-align: center;}#sk-container-id-3 div.sk-container {/* jupyter's `normalize.less` sets `[hidden] { display: none; }` but bootstrap.min.css set `[hidden] { display: none !important; }` so we also need the `!important` here to be able to override the default hidden behavior on the sphinx rendered scikit-learn.org. See: https://github.com/scikit-learn/scikit-learn/issues/21755 */display: inline-block !important;position: relative;}#sk-container-id-3 div.sk-text-repr-fallback {display: none;}</style><div id=\"sk-container-id-3\" class=\"sk-top-container\"><div class=\"sk-text-repr-fallback\"><pre>KNeighborsClassifier(n_neighbors=1)</pre><b>In a Jupyter environment, please rerun this cell to show the HTML representation or trust the notebook. <br />On GitHub, the HTML representation is unable to render, please try loading this page with nbviewer.org.</b></div><div class=\"sk-container\" hidden><div class=\"sk-item\"><div class=\"sk-estimator sk-toggleable\"><input class=\"sk-toggleable__control sk-hidden--visually\" id=\"sk-estimator-id-5\" type=\"checkbox\" checked><label for=\"sk-estimator-id-5\" class=\"sk-toggleable__label sk-toggleable__label-arrow\">KNeighborsClassifier</label><div class=\"sk-toggleable__content\"><pre>KNeighborsClassifier(n_neighbors=1)</pre></div></div></div></div></div>"
      ],
      "text/plain": [
       "KNeighborsClassifier(n_neighbors=1)"
      ]
     },
     "execution_count": 22,
     "metadata": {},
     "output_type": "execute_result"
    }
   ],
   "source": [
    "knn = grid_cv.best_estimator_\n",
    "knn"
   ]
  },
  {
   "cell_type": "code",
   "execution_count": 23,
   "metadata": {},
   "outputs": [
    {
     "name": "stdout",
     "output_type": "stream",
     "text": [
      "XGBClassifier Accuracy:  0.9719847971520457\n"
     ]
    }
   ],
   "source": [
    "ypred_train8 = grid_cv.predict(x_train1)\n",
    "y_pred_test8 = grid_cv.predict(x_test1)\n",
    "print(\"XGBClassifier Accuracy: \",accuracy_score(y_test1, y_pred_test8))"
   ]
  },
  {
   "cell_type": "code",
   "execution_count": 24,
   "metadata": {},
   "outputs": [
    {
     "name": "stdout",
     "output_type": "stream",
     "text": [
      "Training Results\n",
      "\n",
      "              precision    recall  f1-score   support\n",
      "\n",
      "           0       1.00      1.00      1.00    174285\n",
      "           1       1.00      1.00      1.00    174595\n",
      "\n",
      "    accuracy                           1.00    348880\n",
      "   macro avg       1.00      1.00      1.00    348880\n",
      "weighted avg       1.00      1.00      1.00    348880\n",
      "\n"
     ]
    }
   ],
   "source": [
    "print(\"Training Results\\n\")\n",
    "print(classification_report(y_train1, ypred_train8))"
   ]
  },
  {
   "cell_type": "code",
   "execution_count": 25,
   "metadata": {},
   "outputs": [
    {
     "name": "stdout",
     "output_type": "stream",
     "text": [
      "Testing Results\n",
      "\n",
      "              precision    recall  f1-score   support\n",
      "\n",
      "           0       1.00      0.95      0.97     58302\n",
      "           1       0.95      1.00      0.97     57992\n",
      "\n",
      "    accuracy                           0.97    116294\n",
      "   macro avg       0.97      0.97      0.97    116294\n",
      "weighted avg       0.97      0.97      0.97    116294\n",
      "\n"
     ]
    }
   ],
   "source": [
    "print('Testing Results\\n')\n",
    "print(classification_report(y_test1, y_pred_test8))"
   ]
  },
  {
   "cell_type": "code",
   "execution_count": 26,
   "metadata": {},
   "outputs": [
    {
     "data": {
      "image/png": "[encoded data removed]",
      "text/plain": [
       "<Figure size 640x480 with 1 Axes>"
      ]
     },
     "metadata": {},
     "output_type": "display_data"
    }
   ],
   "source": [
    "# cross_val_scores = cross_val_score(grid_cv, x_train1, y_train1, cv=5)\n",
    "# print(\"Cross-Validation Scores for the Best Model:\", cross_val_scores)\n",
    "# print(\"Average Cross-Validation Score:\", cross_val_scores.mean())\n",
    "y_proba_test = grid_cv.predict_proba(x_test1)[:, 1]\n",
    "\n",
    "fpr, tpr, thresholds = roc_curve(y_test1, y_proba_test)\n",
    "\n",
    "plt.plot(fpr, tpr, label='ROC Curve')\n",
    "plt.xlabel('False Positive Rate')\n",
    "plt.ylabel('True Positive Rate')\n",
    "plt.title('ROC Curve with AUC = {:.2f}'.format(roc_auc_score(y_test1, y_proba_test)))\n",
    "plt.legend(loc='lower right')\n",
    "plt.grid(True)\n",
    "plt.show()"
   ]
  },
  {
   "cell_type": "markdown",
   "metadata": {},
   "source": [
    "## SIECI NEURONOWE"
   ]
  },
  {
   "cell_type": "markdown",
   "metadata": {},
   "source": [
    "## ANN"
   ]
  },
  {
   "cell_type": "code",
   "execution_count": 27,
   "metadata": {},
   "outputs": [
    {
     "name": "stdout",
     "output_type": "stream",
     "text": [
      "WARNING:tensorflow:From C:\\Users\\DELL\\AppData\\Roaming\\Python\\Python311\\site-packages\\keras\\src\\backend.py:873: The name tf.get_default_graph is deprecated. Please use tf.compat.v1.get_default_graph instead.\n",
      "\n"
     ]
    }
   ],
   "source": [
    "ann = tf.keras.models.Sequential()"
   ]
  },
  {
   "cell_type": "code",
   "execution_count": 28,
   "metadata": {},
   "outputs": [],
   "source": [
    "early_stop = EarlyStopping(monitor='val_loss', mode='min', verbose=1, patience=25)\n"
   ]
  },
  {
   "cell_type": "code",
   "execution_count": 29,
   "metadata": {},
   "outputs": [],
   "source": [
    "ann.add(tf.keras.layers.Dense(units=20, activation='relu'))"
   ]
  },
  {
   "cell_type": "code",
   "execution_count": 30,
   "metadata": {},
   "outputs": [],
   "source": [
    "ann.add(tf.keras.layers.Dense(units=6, activation='relu'))"
   ]
  },
  {
   "cell_type": "code",
   "execution_count": 31,
   "metadata": {},
   "outputs": [],
   "source": [
    "ann.add(tf.keras.layers.Dense(units=1, activation='sigmoid'))"
   ]
  },
  {
   "cell_type": "code",
   "execution_count": 32,
   "metadata": {},
   "outputs": [
    {
     "name": "stdout",
     "output_type": "stream",
     "text": [
      "WARNING:tensorflow:From C:\\Users\\DELL\\AppData\\Roaming\\Python\\Python311\\site-packages\\keras\\src\\optimizers\\__init__.py:309: The name tf.train.Optimizer is deprecated. Please use tf.compat.v1.train.Optimizer instead.\n",
      "\n"
     ]
    }
   ],
   "source": [
    "ann.compile(optimizer = 'adam', loss = 'binary_crossentropy', metrics = ['accuracy'])"
   ]
  },
  {
   "cell_type": "code",
   "execution_count": 33,
   "metadata": {},
   "outputs": [
    {
     "name": "stdout",
     "output_type": "stream",
     "text": [
      "Epoch 1/100\n",
      "WARNING:tensorflow:From C:\\Users\\DELL\\AppData\\Roaming\\Python\\Python311\\site-packages\\keras\\src\\utils\\tf_utils.py:492: The name tf.ragged.RaggedTensorValue is deprecated. Please use tf.compat.v1.ragged.RaggedTensorValue instead.\n",
      "\n",
      "WARNING:tensorflow:From C:\\Users\\DELL\\AppData\\Roaming\\Python\\Python311\\site-packages\\keras\\src\\engine\\base_layer_utils.py:384: The name tf.executing_eagerly_outside_functions is deprecated. Please use tf.compat.v1.executing_eagerly_outside_functions instead.\n",
      "\n",
      "10903/10903 [==============================] - 30s 2ms/step - loss: 0.4357 - accuracy: 0.7935 - val_loss: 0.4242 - val_accuracy: 0.8004\n",
      "Epoch 2/100\n",
      "10903/10903 [==============================] - 23s 2ms/step - loss: 0.4262 - accuracy: 0.7986 - val_loss: 0.4225 - val_accuracy: 0.8004\n",
      "Epoch 3/100\n",
      "10903/10903 [==============================] - 27s 2ms/step - loss: 0.4246 - accuracy: 0.7997 - val_loss: 0.4220 - val_accuracy: 0.8009\n",
      "Epoch 4/100\n",
      "10903/10903 [==============================] - 22s 2ms/step - loss: 0.4238 - accuracy: 0.8001 - val_loss: 0.4245 - val_accuracy: 0.7996\n",
      "Epoch 5/100\n",
      "10903/10903 [==============================] - 23s 2ms/step - loss: 0.4230 - accuracy: 0.8010 - val_loss: 0.4213 - val_accuracy: 0.8008\n",
      "Epoch 6/100\n",
      "10903/10903 [==============================] - 27s 2ms/step - loss: 0.4224 - accuracy: 0.8012 - val_loss: 0.4211 - val_accuracy: 0.8010\n",
      "Epoch 7/100\n",
      "10903/10903 [==============================] - 28s 3ms/step - loss: 0.4222 - accuracy: 0.8013 - val_loss: 0.4203 - val_accuracy: 0.8015\n",
      "Epoch 8/100\n",
      "10903/10903 [==============================] - 28s 3ms/step - loss: 0.4217 - accuracy: 0.8017 - val_loss: 0.4207 - val_accuracy: 0.8013\n",
      "Epoch 9/100\n",
      "10903/10903 [==============================] - 26s 2ms/step - loss: 0.4213 - accuracy: 0.8015 - val_loss: 0.4213 - val_accuracy: 0.8005\n",
      "Epoch 10/100\n",
      "10903/10903 [==============================] - 27s 2ms/step - loss: 0.4212 - accuracy: 0.8015 - val_loss: 0.4224 - val_accuracy: 0.8013\n",
      "Epoch 11/100\n",
      "10903/10903 [==============================] - 28s 3ms/step - loss: 0.4208 - accuracy: 0.8017 - val_loss: 0.4218 - val_accuracy: 0.8005\n",
      "Epoch 12/100\n",
      "10903/10903 [==============================] - 28s 3ms/step - loss: 0.4205 - accuracy: 0.8019 - val_loss: 0.4204 - val_accuracy: 0.8002\n",
      "Epoch 13/100\n",
      "10903/10903 [==============================] - 28s 3ms/step - loss: 0.4205 - accuracy: 0.8022 - val_loss: 0.4197 - val_accuracy: 0.8013\n",
      "Epoch 14/100\n",
      "10903/10903 [==============================] - 22s 2ms/step - loss: 0.4203 - accuracy: 0.8018 - val_loss: 0.4200 - val_accuracy: 0.8009\n",
      "Epoch 15/100\n",
      "10903/10903 [==============================] - 23s 2ms/step - loss: 0.4201 - accuracy: 0.8018 - val_loss: 0.4188 - val_accuracy: 0.8026\n",
      "Epoch 16/100\n",
      "10903/10903 [==============================] - 23s 2ms/step - loss: 0.4201 - accuracy: 0.8020 - val_loss: 0.4204 - val_accuracy: 0.8011\n",
      "Epoch 17/100\n",
      "10903/10903 [==============================] - 29s 3ms/step - loss: 0.4199 - accuracy: 0.8020 - val_loss: 0.4189 - val_accuracy: 0.8019\n",
      "Epoch 18/100\n",
      "10903/10903 [==============================] - 37s 3ms/step - loss: 0.4198 - accuracy: 0.8022 - val_loss: 0.4185 - val_accuracy: 0.8027\n",
      "Epoch 19/100\n",
      "10903/10903 [==============================] - 26s 2ms/step - loss: 0.4197 - accuracy: 0.8022 - val_loss: 0.4190 - val_accuracy: 0.8021\n",
      "Epoch 20/100\n",
      "10903/10903 [==============================] - 33s 3ms/step - loss: 0.4195 - accuracy: 0.8027 - val_loss: 0.4200 - val_accuracy: 0.8007\n",
      "Epoch 21/100\n",
      "10903/10903 [==============================] - 32s 3ms/step - loss: 0.4194 - accuracy: 0.8029 - val_loss: 0.4192 - val_accuracy: 0.8017\n",
      "Epoch 22/100\n",
      "10903/10903 [==============================] - 23s 2ms/step - loss: 0.4195 - accuracy: 0.8024 - val_loss: 0.4186 - val_accuracy: 0.8022\n",
      "Epoch 23/100\n",
      "10903/10903 [==============================] - 22s 2ms/step - loss: 0.4193 - accuracy: 0.8026 - val_loss: 0.4182 - val_accuracy: 0.8034\n",
      "Epoch 24/100\n",
      "10903/10903 [==============================] - 23s 2ms/step - loss: 0.4192 - accuracy: 0.8028 - val_loss: 0.4189 - val_accuracy: 0.8020\n",
      "Epoch 25/100\n",
      "10903/10903 [==============================] - 22s 2ms/step - loss: 0.4192 - accuracy: 0.8029 - val_loss: 0.4191 - val_accuracy: 0.8031\n",
      "Epoch 26/100\n",
      "10903/10903 [==============================] - 22s 2ms/step - loss: 0.4191 - accuracy: 0.8031 - val_loss: 0.4178 - val_accuracy: 0.8029\n",
      "Epoch 27/100\n",
      "10903/10903 [==============================] - 25s 2ms/step - loss: 0.4190 - accuracy: 0.8034 - val_loss: 0.4184 - val_accuracy: 0.8040\n",
      "Epoch 28/100\n",
      "10903/10903 [==============================] - 22s 2ms/step - loss: 0.4189 - accuracy: 0.8029 - val_loss: 0.4176 - val_accuracy: 0.8031\n",
      "Epoch 29/100\n",
      "10903/10903 [==============================] - 23s 2ms/step - loss: 0.4189 - accuracy: 0.8028 - val_loss: 0.4188 - val_accuracy: 0.8016\n",
      "Epoch 30/100\n",
      "10903/10903 [==============================] - 23s 2ms/step - loss: 0.4188 - accuracy: 0.8030 - val_loss: 0.4177 - val_accuracy: 0.8023\n",
      "Epoch 31/100\n",
      "10903/10903 [==============================] - 21s 2ms/step - loss: 0.4187 - accuracy: 0.8035 - val_loss: 0.4188 - val_accuracy: 0.8025\n",
      "Epoch 32/100\n",
      "10903/10903 [==============================] - 22s 2ms/step - loss: 0.4187 - accuracy: 0.8030 - val_loss: 0.4186 - val_accuracy: 0.8023\n",
      "Epoch 33/100\n",
      "10903/10903 [==============================] - 22s 2ms/step - loss: 0.4185 - accuracy: 0.8029 - val_loss: 0.4193 - val_accuracy: 0.8025\n",
      "Epoch 34/100\n",
      "10903/10903 [==============================] - 22s 2ms/step - loss: 0.4186 - accuracy: 0.8031 - val_loss: 0.4202 - val_accuracy: 0.8009\n",
      "Epoch 35/100\n",
      "10903/10903 [==============================] - 23s 2ms/step - loss: 0.4185 - accuracy: 0.8028 - val_loss: 0.4189 - val_accuracy: 0.8022\n",
      "Epoch 36/100\n",
      "10903/10903 [==============================] - 22s 2ms/step - loss: 0.4185 - accuracy: 0.8033 - val_loss: 0.4182 - val_accuracy: 0.8032\n",
      "Epoch 37/100\n",
      "10903/10903 [==============================] - 25s 2ms/step - loss: 0.4185 - accuracy: 0.8034 - val_loss: 0.4175 - val_accuracy: 0.8028\n",
      "Epoch 38/100\n",
      "10903/10903 [==============================] - 24s 2ms/step - loss: 0.4184 - accuracy: 0.8033 - val_loss: 0.4179 - val_accuracy: 0.8025\n",
      "Epoch 39/100\n",
      "10903/10903 [==============================] - 23s 2ms/step - loss: 0.4184 - accuracy: 0.8032 - val_loss: 0.4175 - val_accuracy: 0.8042\n",
      "Epoch 40/100\n",
      "10903/10903 [==============================] - 22s 2ms/step - loss: 0.4184 - accuracy: 0.8035 - val_loss: 0.4185 - val_accuracy: 0.8032\n",
      "Epoch 41/100\n",
      "10903/10903 [==============================] - 22s 2ms/step - loss: 0.4184 - accuracy: 0.8031 - val_loss: 0.4174 - val_accuracy: 0.8034\n",
      "Epoch 42/100\n",
      "10903/10903 [==============================] - 25s 2ms/step - loss: 0.4183 - accuracy: 0.8034 - val_loss: 0.4201 - val_accuracy: 0.8016\n",
      "Epoch 43/100\n",
      "10903/10903 [==============================] - 24s 2ms/step - loss: 0.4183 - accuracy: 0.8034 - val_loss: 0.4179 - val_accuracy: 0.8027\n",
      "Epoch 44/100\n",
      "10903/10903 [==============================] - 25s 2ms/step - loss: 0.4181 - accuracy: 0.8035 - val_loss: 0.4186 - val_accuracy: 0.8025\n",
      "Epoch 45/100\n",
      "10903/10903 [==============================] - 22s 2ms/step - loss: 0.4181 - accuracy: 0.8036 - val_loss: 0.4175 - val_accuracy: 0.8035\n",
      "Epoch 46/100\n",
      "10903/10903 [==============================] - 22s 2ms/step - loss: 0.4182 - accuracy: 0.8036 - val_loss: 0.4179 - val_accuracy: 0.8036\n",
      "Epoch 47/100\n",
      "10903/10903 [==============================] - 26s 2ms/step - loss: 0.4181 - accuracy: 0.8034 - val_loss: 0.4171 - val_accuracy: 0.8029\n",
      "Epoch 48/100\n",
      "10903/10903 [==============================] - 22s 2ms/step - loss: 0.4181 - accuracy: 0.8032 - val_loss: 0.4174 - val_accuracy: 0.8028\n",
      "Epoch 49/100\n",
      "10903/10903 [==============================] - 27s 2ms/step - loss: 0.4179 - accuracy: 0.8034 - val_loss: 0.4179 - val_accuracy: 0.8024\n",
      "Epoch 50/100\n",
      "10903/10903 [==============================] - 26s 2ms/step - loss: 0.4179 - accuracy: 0.8037 - val_loss: 0.4180 - val_accuracy: 0.8024\n",
      "Epoch 51/100\n",
      "10903/10903 [==============================] - 22s 2ms/step - loss: 0.4180 - accuracy: 0.8032 - val_loss: 0.4174 - val_accuracy: 0.8038\n",
      "Epoch 52/100\n",
      "10903/10903 [==============================] - 22s 2ms/step - loss: 0.4178 - accuracy: 0.8039 - val_loss: 0.4177 - val_accuracy: 0.8033\n",
      "Epoch 53/100\n",
      "10903/10903 [==============================] - 22s 2ms/step - loss: 0.4178 - accuracy: 0.8034 - val_loss: 0.4179 - val_accuracy: 0.8031\n",
      "Epoch 54/100\n",
      "10903/10903 [==============================] - 22s 2ms/step - loss: 0.4178 - accuracy: 0.8041 - val_loss: 0.4176 - val_accuracy: 0.8036\n",
      "Epoch 55/100\n",
      "10903/10903 [==============================] - 24s 2ms/step - loss: 0.4179 - accuracy: 0.8037 - val_loss: 0.4172 - val_accuracy: 0.8044\n",
      "Epoch 56/100\n",
      "10903/10903 [==============================] - 23s 2ms/step - loss: 0.4178 - accuracy: 0.8038 - val_loss: 0.4173 - val_accuracy: 0.8032\n",
      "Epoch 57/100\n",
      "10903/10903 [==============================] - 23s 2ms/step - loss: 0.4177 - accuracy: 0.8039 - val_loss: 0.4174 - val_accuracy: 0.8038\n",
      "Epoch 58/100\n",
      "10903/10903 [==============================] - 22s 2ms/step - loss: 0.4177 - accuracy: 0.8041 - val_loss: 0.4179 - val_accuracy: 0.8035\n",
      "Epoch 59/100\n",
      "10903/10903 [==============================] - 22s 2ms/step - loss: 0.4177 - accuracy: 0.8037 - val_loss: 0.4179 - val_accuracy: 0.8032\n",
      "Epoch 60/100\n",
      "10903/10903 [==============================] - 23s 2ms/step - loss: 0.4177 - accuracy: 0.8040 - val_loss: 0.4193 - val_accuracy: 0.8021\n",
      "Epoch 61/100\n",
      "10903/10903 [==============================] - 24s 2ms/step - loss: 0.4177 - accuracy: 0.8037 - val_loss: 0.4177 - val_accuracy: 0.8032\n",
      "Epoch 62/100\n",
      "10903/10903 [==============================] - 23s 2ms/step - loss: 0.4176 - accuracy: 0.8039 - val_loss: 0.4169 - val_accuracy: 0.8030\n",
      "Epoch 63/100\n",
      "10903/10903 [==============================] - 22s 2ms/step - loss: 0.4177 - accuracy: 0.8034 - val_loss: 0.4173 - val_accuracy: 0.8023\n",
      "Epoch 64/100\n",
      "10903/10903 [==============================] - 17s 2ms/step - loss: 0.4176 - accuracy: 0.8038 - val_loss: 0.4169 - val_accuracy: 0.8035\n",
      "Epoch 65/100\n",
      "10903/10903 [==============================] - 16s 2ms/step - loss: 0.4175 - accuracy: 0.8040 - val_loss: 0.4194 - val_accuracy: 0.8023\n",
      "Epoch 66/100\n",
      "10903/10903 [==============================] - 16s 2ms/step - loss: 0.4175 - accuracy: 0.8037 - val_loss: 0.4174 - val_accuracy: 0.8033\n",
      "Epoch 67/100\n",
      "10903/10903 [==============================] - 16s 1ms/step - loss: 0.4175 - accuracy: 0.8043 - val_loss: 0.4197 - val_accuracy: 0.8020\n",
      "Epoch 68/100\n",
      "10903/10903 [==============================] - 16s 2ms/step - loss: 0.4175 - accuracy: 0.8039 - val_loss: 0.4166 - val_accuracy: 0.8039\n",
      "Epoch 69/100\n",
      "10903/10903 [==============================] - 17s 2ms/step - loss: 0.4175 - accuracy: 0.8036 - val_loss: 0.4176 - val_accuracy: 0.8029\n",
      "Epoch 70/100\n",
      "10903/10903 [==============================] - 16s 2ms/step - loss: 0.4174 - accuracy: 0.8039 - val_loss: 0.4169 - val_accuracy: 0.8038\n",
      "Epoch 71/100\n",
      "10903/10903 [==============================] - 16s 1ms/step - loss: 0.4174 - accuracy: 0.8039 - val_loss: 0.4180 - val_accuracy: 0.8030\n",
      "Epoch 72/100\n",
      "10903/10903 [==============================] - 16s 1ms/step - loss: 0.4174 - accuracy: 0.8041 - val_loss: 0.4174 - val_accuracy: 0.8026\n",
      "Epoch 73/100\n",
      "10903/10903 [==============================] - 16s 1ms/step - loss: 0.4173 - accuracy: 0.8041 - val_loss: 0.4175 - val_accuracy: 0.8038\n",
      "Epoch 74/100\n",
      "10903/10903 [==============================] - 16s 1ms/step - loss: 0.4174 - accuracy: 0.8036 - val_loss: 0.4176 - val_accuracy: 0.8029\n",
      "Epoch 75/100\n",
      "10903/10903 [==============================] - 16s 1ms/step - loss: 0.4174 - accuracy: 0.8040 - val_loss: 0.4170 - val_accuracy: 0.8029\n",
      "Epoch 76/100\n",
      "10903/10903 [==============================] - 16s 1ms/step - loss: 0.4173 - accuracy: 0.8040 - val_loss: 0.4171 - val_accuracy: 0.8043\n",
      "Epoch 77/100\n",
      "10903/10903 [==============================] - 16s 1ms/step - loss: 0.4173 - accuracy: 0.8034 - val_loss: 0.4173 - val_accuracy: 0.8034\n",
      "Epoch 78/100\n",
      "10903/10903 [==============================] - 16s 1ms/step - loss: 0.4172 - accuracy: 0.8039 - val_loss: 0.4191 - val_accuracy: 0.8011\n",
      "Epoch 79/100\n",
      "10903/10903 [==============================] - 17s 2ms/step - loss: 0.4172 - accuracy: 0.8040 - val_loss: 0.4173 - val_accuracy: 0.8034\n",
      "Epoch 80/100\n",
      "10903/10903 [==============================] - 18s 2ms/step - loss: 0.4172 - accuracy: 0.8037 - val_loss: 0.4170 - val_accuracy: 0.8030\n",
      "Epoch 81/100\n",
      "10903/10903 [==============================] - 26s 2ms/step - loss: 0.4172 - accuracy: 0.8040 - val_loss: 0.4167 - val_accuracy: 0.8041\n",
      "Epoch 82/100\n",
      "10903/10903 [==============================] - 19s 2ms/step - loss: 0.4172 - accuracy: 0.8039 - val_loss: 0.4181 - val_accuracy: 0.8028\n",
      "Epoch 83/100\n",
      "10903/10903 [==============================] - 20s 2ms/step - loss: 0.4171 - accuracy: 0.8040 - val_loss: 0.4170 - val_accuracy: 0.8035\n",
      "Epoch 84/100\n",
      "10903/10903 [==============================] - 19s 2ms/step - loss: 0.4170 - accuracy: 0.8037 - val_loss: 0.4166 - val_accuracy: 0.8036\n",
      "Epoch 85/100\n",
      "10903/10903 [==============================] - 24s 2ms/step - loss: 0.4170 - accuracy: 0.8040 - val_loss: 0.4173 - val_accuracy: 0.8031\n",
      "Epoch 86/100\n",
      "10903/10903 [==============================] - 26s 2ms/step - loss: 0.4171 - accuracy: 0.8041 - val_loss: 0.4169 - val_accuracy: 0.8032\n",
      "Epoch 87/100\n",
      "10903/10903 [==============================] - 24s 2ms/step - loss: 0.4170 - accuracy: 0.8040 - val_loss: 0.4189 - val_accuracy: 0.8024\n",
      "Epoch 88/100\n",
      "10903/10903 [==============================] - 22s 2ms/step - loss: 0.4171 - accuracy: 0.8042 - val_loss: 0.4168 - val_accuracy: 0.8034\n",
      "Epoch 89/100\n",
      "10903/10903 [==============================] - 21s 2ms/step - loss: 0.4170 - accuracy: 0.8040 - val_loss: 0.4169 - val_accuracy: 0.8029\n",
      "Epoch 90/100\n",
      "10903/10903 [==============================] - 19s 2ms/step - loss: 0.4169 - accuracy: 0.8038 - val_loss: 0.4190 - val_accuracy: 0.8024\n",
      "Epoch 91/100\n",
      "10903/10903 [==============================] - 18s 2ms/step - loss: 0.4170 - accuracy: 0.8039 - val_loss: 0.4173 - val_accuracy: 0.8031\n",
      "Epoch 92/100\n",
      "10903/10903 [==============================] - 101s 9ms/step - loss: 0.4169 - accuracy: 0.8042 - val_loss: 0.4173 - val_accuracy: 0.8026\n",
      "Epoch 93/100\n",
      "10903/10903 [==============================] - 22s 2ms/step - loss: 0.4170 - accuracy: 0.8041 - val_loss: 0.4172 - val_accuracy: 0.8035\n",
      "Epoch 94/100\n",
      "10903/10903 [==============================] - 25s 2ms/step - loss: 0.4169 - accuracy: 0.8040 - val_loss: 0.4166 - val_accuracy: 0.8037\n",
      "Epoch 95/100\n",
      "10903/10903 [==============================] - 30s 3ms/step - loss: 0.4169 - accuracy: 0.8039 - val_loss: 0.4168 - val_accuracy: 0.8025\n",
      "Epoch 96/100\n",
      "10903/10903 [==============================] - 26s 2ms/step - loss: 0.4168 - accuracy: 0.8041 - val_loss: 0.4174 - val_accuracy: 0.8018\n",
      "Epoch 97/100\n",
      "10903/10903 [==============================] - 25s 2ms/step - loss: 0.4169 - accuracy: 0.8042 - val_loss: 0.4166 - val_accuracy: 0.8035\n",
      "Epoch 98/100\n",
      "10903/10903 [==============================] - 35s 3ms/step - loss: 0.4168 - accuracy: 0.8043 - val_loss: 0.4164 - val_accuracy: 0.8033\n",
      "Epoch 99/100\n",
      "10903/10903 [==============================] - 22s 2ms/step - loss: 0.4168 - accuracy: 0.8044 - val_loss: 0.4169 - val_accuracy: 0.8026\n",
      "Epoch 100/100\n",
      "10903/10903 [==============================] - 21s 2ms/step - loss: 0.4168 - accuracy: 0.8040 - val_loss: 0.4167 - val_accuracy: 0.8038\n"
     ]
    },
    {
     "data": {
      "text/plain": [
       "<keras.src.callbacks.History at 0x262da9e6450>"
      ]
     },
     "execution_count": 33,
     "metadata": {},
     "output_type": "execute_result"
    }
   ],
   "source": [
    "ann.fit(x_train1, y_train1, batch_size = 32, epochs=100,\n",
    "          validation_data=(x_test1, y_test1), verbose=1,\n",
    "          callbacks=[early_stop])"
   ]
  },
  {
   "cell_type": "code",
   "execution_count": 34,
   "metadata": {},
   "outputs": [
    {
     "name": "stdout",
     "output_type": "stream",
     "text": [
      "10903/10903 [==============================] - 13s 1ms/step\n",
      "3635/3635 [==============================] - 4s 1ms/step\n",
      "[[0 0]\n",
      " [0 0]\n",
      " [0 0]\n",
      " ...\n",
      " [1 1]\n",
      " [1 1]\n",
      " [1 1]]\n"
     ]
    }
   ],
   "source": [
    "ypred_train8 = ann.predict(x_train1)\n",
    "y_pred_test8 = ann.predict(x_test1)\n",
    "\n",
    "y_pred_test8 = (y_pred_test8 > 0.5)\n",
    "ypred_train8 = (ypred_train8 > 0.5)\n",
    "print(np.concatenate((y_pred_test8.reshape(len(y_pred_test8),1), y_test1.reshape(len(y_test1),1)),1))"
   ]
  },
  {
   "cell_type": "code",
   "execution_count": 35,
   "metadata": {},
   "outputs": [
    {
     "data": {
      "text/plain": [
       "0.8038333877930074"
      ]
     },
     "execution_count": 35,
     "metadata": {},
     "output_type": "execute_result"
    }
   ],
   "source": [
    "accuracy_score(y_test1, y_pred_test8)"
   ]
  },
  {
   "cell_type": "code",
   "execution_count": 36,
   "metadata": {},
   "outputs": [
    {
     "name": "stdout",
     "output_type": "stream",
     "text": [
      "Training Results\n",
      "\n",
      "              precision    recall  f1-score   support\n",
      "\n",
      "           0       0.79      0.83      0.81    174285\n",
      "           1       0.82      0.78      0.80    174595\n",
      "\n",
      "    accuracy                           0.80    348880\n",
      "   macro avg       0.80      0.80      0.80    348880\n",
      "weighted avg       0.80      0.80      0.80    348880\n",
      "\n"
     ]
    }
   ],
   "source": [
    "print(\"Training Results\\n\")\n",
    "print(classification_report(y_train1, ypred_train8))"
   ]
  },
  {
   "cell_type": "code",
   "execution_count": 37,
   "metadata": {},
   "outputs": [
    {
     "name": "stdout",
     "output_type": "stream",
     "text": [
      "Testing Results\n",
      "\n",
      "              precision    recall  f1-score   support\n",
      "\n",
      "           0       0.79      0.82      0.81     58302\n",
      "           1       0.82      0.78      0.80     57992\n",
      "\n",
      "    accuracy                           0.80    116294\n",
      "   macro avg       0.80      0.80      0.80    116294\n",
      "weighted avg       0.80      0.80      0.80    116294\n",
      "\n"
     ]
    }
   ],
   "source": [
    "print('Testing Results\\n')\n",
    "print(classification_report(y_test1, y_pred_test8))"
   ]
  },
  {
   "cell_type": "code",
   "execution_count": 38,
   "metadata": {},
   "outputs": [
    {
     "name": "stdout",
     "output_type": "stream",
     "text": [
      "3635/3635 [==============================] - 4s 1ms/step\n"
     ]
    },
    {
     "data": {
      "image/png": "[encoded data removed]",
      "text/plain": [
       "<Figure size 640x480 with 1 Axes>"
      ]
     },
     "metadata": {},
     "output_type": "display_data"
    }
   ],
   "source": [
    "# cross_val_scores = cross_val_score(ann, x_train1, y_train1, cv=5)\n",
    "# print(\"Cross-Validation Scores for the Best Model:\", cross_val_scores)\n",
    "# print(\"Average Cross-Validation Score:\", cross_val_scores.mean())\n",
    "y_proba_test = ann.predict(x_test1).flatten()\n",
    "\n",
    "fpr, tpr, thresholds = roc_curve(y_test1, y_proba_test)\n",
    "\n",
    "plt.plot(fpr, tpr, label='ROC Curve')\n",
    "plt.xlabel('False Positive Rate')\n",
    "plt.ylabel('True Positive Rate')\n",
    "plt.title('ROC Curve with AUC = {:.2f}'.format(roc_auc_score(y_test1, y_proba_test)))\n",
    "plt.legend(loc='lower right')\n",
    "plt.grid(True)\n",
    "plt.show()"
   ]
  },
  {
   "cell_type": "markdown",
   "metadata": {},
   "source": [
    "## inna proba "
   ]
  },
  {
   "cell_type": "code",
   "execution_count": 39,
   "metadata": {},
   "outputs": [
    {
     "name": "stderr",
     "output_type": "stream",
     "text": [
      "WARNING:absl:`lr` is deprecated in Keras optimizer, please use `learning_rate` or use the legacy optimizer, e.g.,tf.keras.optimizers.legacy.Adam.\n"
     ]
    },
    {
     "name": "stdout",
     "output_type": "stream",
     "text": [
      "Epoch 1/100\n",
      "10903/10903 [==============================] - 18s 2ms/step - loss: 0.4326 - accuracy: 0.7945\n",
      "Epoch 2/100\n",
      "10903/10903 [==============================] - 16s 1ms/step - loss: 0.4252 - accuracy: 0.7990\n",
      "Epoch 3/100\n",
      "10903/10903 [==============================] - 16s 1ms/step - loss: 0.4220 - accuracy: 0.8010\n",
      "Epoch 4/100\n",
      "10903/10903 [==============================] - 16s 1ms/step - loss: 0.4190 - accuracy: 0.8026\n",
      "Epoch 5/100\n",
      "10903/10903 [==============================] - 17s 2ms/step - loss: 0.4163 - accuracy: 0.8043\n",
      "Epoch 6/100\n",
      "10903/10903 [==============================] - 16s 2ms/step - loss: 0.4137 - accuracy: 0.8052\n",
      "Epoch 7/100\n",
      "10903/10903 [==============================] - 16s 1ms/step - loss: 0.4113 - accuracy: 0.8063\n",
      "Epoch 8/100\n",
      "10903/10903 [==============================] - 16s 1ms/step - loss: 0.4092 - accuracy: 0.8076\n",
      "Epoch 9/100\n",
      "10903/10903 [==============================] - 16s 2ms/step - loss: 0.4074 - accuracy: 0.8088\n",
      "Epoch 10/100\n",
      "10903/10903 [==============================] - 17s 2ms/step - loss: 0.4049 - accuracy: 0.8101\n",
      "Epoch 11/100\n",
      "10903/10903 [==============================] - 17s 2ms/step - loss: 0.4027 - accuracy: 0.8113\n",
      "Epoch 12/100\n",
      "10903/10903 [==============================] - 17s 2ms/step - loss: 0.4009 - accuracy: 0.8125\n",
      "Epoch 13/100\n",
      "10903/10903 [==============================] - 17s 2ms/step - loss: 0.3992 - accuracy: 0.8131\n",
      "Epoch 14/100\n",
      "10903/10903 [==============================] - 17s 2ms/step - loss: 0.3978 - accuracy: 0.8141\n",
      "Epoch 15/100\n",
      "10903/10903 [==============================] - 17s 2ms/step - loss: 0.3969 - accuracy: 0.8146\n",
      "Epoch 16/100\n",
      "10903/10903 [==============================] - 17s 2ms/step - loss: 0.3957 - accuracy: 0.8152\n",
      "Epoch 17/100\n",
      "10903/10903 [==============================] - 17s 2ms/step - loss: 0.3942 - accuracy: 0.8166\n",
      "Epoch 18/100\n",
      "10903/10903 [==============================] - 18s 2ms/step - loss: 0.3934 - accuracy: 0.8167\n",
      "Epoch 19/100\n",
      "10903/10903 [==============================] - 19s 2ms/step - loss: 0.3920 - accuracy: 0.8176\n",
      "Epoch 20/100\n",
      "10903/10903 [==============================] - 18s 2ms/step - loss: 0.3912 - accuracy: 0.8177\n",
      "Epoch 21/100\n",
      "10903/10903 [==============================] - 19s 2ms/step - loss: 0.3903 - accuracy: 0.8179\n",
      "Epoch 22/100\n",
      "10903/10903 [==============================] - 19s 2ms/step - loss: 0.3891 - accuracy: 0.8189\n",
      "Epoch 23/100\n",
      "10903/10903 [==============================] - 19s 2ms/step - loss: 0.3882 - accuracy: 0.8196\n",
      "Epoch 24/100\n",
      "10903/10903 [==============================] - 19s 2ms/step - loss: 0.3876 - accuracy: 0.8196\n",
      "Epoch 25/100\n",
      "10903/10903 [==============================] - 19s 2ms/step - loss: 0.3871 - accuracy: 0.8198\n",
      "Epoch 26/100\n",
      "10903/10903 [==============================] - 20s 2ms/step - loss: 0.3865 - accuracy: 0.8202\n",
      "Epoch 27/100\n",
      "10903/10903 [==============================] - 19s 2ms/step - loss: 0.3857 - accuracy: 0.8207\n",
      "Epoch 28/100\n",
      "10903/10903 [==============================] - 19s 2ms/step - loss: 0.3850 - accuracy: 0.8211\n",
      "Epoch 29/100\n",
      "10903/10903 [==============================] - 20s 2ms/step - loss: 0.3844 - accuracy: 0.8213\n",
      "Epoch 30/100\n",
      "10903/10903 [==============================] - 20s 2ms/step - loss: 0.3837 - accuracy: 0.8216\n",
      "Epoch 31/100\n",
      "10903/10903 [==============================] - 20s 2ms/step - loss: 0.3832 - accuracy: 0.8214\n",
      "Epoch 32/100\n",
      "10903/10903 [==============================] - 21s 2ms/step - loss: 0.3827 - accuracy: 0.8218\n",
      "Epoch 33/100\n",
      "10903/10903 [==============================] - 20s 2ms/step - loss: 0.3821 - accuracy: 0.8222\n",
      "Epoch 34/100\n",
      "10903/10903 [==============================] - 21s 2ms/step - loss: 0.3822 - accuracy: 0.8220\n",
      "Epoch 35/100\n",
      "10903/10903 [==============================] - 21s 2ms/step - loss: 0.3813 - accuracy: 0.8223\n",
      "Epoch 36/100\n",
      "10903/10903 [==============================] - 20s 2ms/step - loss: 0.3806 - accuracy: 0.8224\n",
      "Epoch 37/100\n",
      "10903/10903 [==============================] - 21s 2ms/step - loss: 0.3802 - accuracy: 0.8235\n",
      "Epoch 38/100\n",
      "10903/10903 [==============================] - 21s 2ms/step - loss: 0.3799 - accuracy: 0.8232\n",
      "Epoch 39/100\n",
      "10903/10903 [==============================] - 21s 2ms/step - loss: 0.3794 - accuracy: 0.8234\n",
      "Epoch 40/100\n",
      "10903/10903 [==============================] - 21s 2ms/step - loss: 0.3793 - accuracy: 0.8233\n",
      "Epoch 41/100\n",
      "10903/10903 [==============================] - 21s 2ms/step - loss: 0.3793 - accuracy: 0.8230\n",
      "Epoch 42/100\n",
      "10903/10903 [==============================] - 21s 2ms/step - loss: 0.3786 - accuracy: 0.8241\n",
      "Epoch 43/100\n",
      "10903/10903 [==============================] - 21s 2ms/step - loss: 0.3788 - accuracy: 0.8236\n",
      "Epoch 44/100\n",
      "10903/10903 [==============================] - 21s 2ms/step - loss: 0.3781 - accuracy: 0.8238\n",
      "Epoch 45/100\n",
      "10903/10903 [==============================] - 21s 2ms/step - loss: 0.3778 - accuracy: 0.8243\n",
      "Epoch 46/100\n",
      "10903/10903 [==============================] - 23s 2ms/step - loss: 0.3777 - accuracy: 0.8243\n",
      "Epoch 47/100\n",
      "10903/10903 [==============================] - 23s 2ms/step - loss: 0.3773 - accuracy: 0.8244\n",
      "Epoch 48/100\n",
      "10903/10903 [==============================] - 23s 2ms/step - loss: 0.3770 - accuracy: 0.8246\n",
      "Epoch 49/100\n",
      "10903/10903 [==============================] - 22s 2ms/step - loss: 0.3767 - accuracy: 0.8252\n",
      "Epoch 50/100\n",
      "10903/10903 [==============================] - 21s 2ms/step - loss: 0.3765 - accuracy: 0.8248\n",
      "Epoch 51/100\n",
      "10903/10903 [==============================] - 24s 2ms/step - loss: 0.3760 - accuracy: 0.8250\n",
      "Epoch 52/100\n",
      "10903/10903 [==============================] - 23s 2ms/step - loss: 0.3762 - accuracy: 0.8247\n",
      "Epoch 53/100\n",
      "10903/10903 [==============================] - 22s 2ms/step - loss: 0.3757 - accuracy: 0.8254\n",
      "Epoch 54/100\n",
      "10903/10903 [==============================] - 25s 2ms/step - loss: 0.3755 - accuracy: 0.8256\n",
      "Epoch 55/100\n",
      "10903/10903 [==============================] - 25s 2ms/step - loss: 0.3750 - accuracy: 0.8260\n",
      "Epoch 56/100\n",
      "10903/10903 [==============================] - 26s 2ms/step - loss: 0.3749 - accuracy: 0.8260\n",
      "Epoch 57/100\n",
      "10903/10903 [==============================] - 17s 2ms/step - loss: 0.3747 - accuracy: 0.8259\n",
      "Epoch 58/100\n",
      "10903/10903 [==============================] - 19s 2ms/step - loss: 0.3747 - accuracy: 0.8259\n",
      "Epoch 59/100\n",
      "10903/10903 [==============================] - 16s 1ms/step - loss: 0.3745 - accuracy: 0.8257\n",
      "Epoch 60/100\n",
      "10903/10903 [==============================] - 19s 2ms/step - loss: 0.3738 - accuracy: 0.8265\n",
      "Epoch 61/100\n",
      "10903/10903 [==============================] - 15s 1ms/step - loss: 0.3741 - accuracy: 0.8259\n",
      "Epoch 62/100\n",
      "10903/10903 [==============================] - 16s 1ms/step - loss: 0.3736 - accuracy: 0.8268\n",
      "Epoch 63/100\n",
      "10903/10903 [==============================] - 23s 2ms/step - loss: 0.3735 - accuracy: 0.8265\n",
      "Epoch 64/100\n",
      "10903/10903 [==============================] - 20s 2ms/step - loss: 0.3731 - accuracy: 0.8267\n",
      "Epoch 65/100\n",
      "10903/10903 [==============================] - 20s 2ms/step - loss: 0.3728 - accuracy: 0.8273\n",
      "Epoch 66/100\n",
      "10903/10903 [==============================] - 19s 2ms/step - loss: 0.3729 - accuracy: 0.8269\n",
      "Epoch 67/100\n",
      "10903/10903 [==============================] - 17s 2ms/step - loss: 0.3725 - accuracy: 0.8270\n",
      "Epoch 68/100\n",
      "10903/10903 [==============================] - 15s 1ms/step - loss: 0.3725 - accuracy: 0.8270\n",
      "Epoch 69/100\n",
      "10903/10903 [==============================] - 16s 1ms/step - loss: 0.3721 - accuracy: 0.8274\n",
      "Epoch 70/100\n",
      "10903/10903 [==============================] - 16s 1ms/step - loss: 0.3721 - accuracy: 0.8269\n",
      "Epoch 71/100\n",
      "10903/10903 [==============================] - 14s 1ms/step - loss: 0.3716 - accuracy: 0.8276\n",
      "Epoch 72/100\n",
      "10903/10903 [==============================] - 15s 1ms/step - loss: 0.3718 - accuracy: 0.8271\n",
      "Epoch 73/100\n",
      "10903/10903 [==============================] - 14s 1ms/step - loss: 0.3713 - accuracy: 0.8277\n",
      "Epoch 74/100\n",
      "10903/10903 [==============================] - 14s 1ms/step - loss: 0.3711 - accuracy: 0.8281\n",
      "Epoch 75/100\n",
      "10903/10903 [==============================] - 15s 1ms/step - loss: 0.3709 - accuracy: 0.8277\n",
      "Epoch 76/100\n",
      "10903/10903 [==============================] - 16s 1ms/step - loss: 0.3707 - accuracy: 0.8278\n",
      "Epoch 77/100\n",
      "10903/10903 [==============================] - 15s 1ms/step - loss: 0.3705 - accuracy: 0.8281\n",
      "Epoch 78/100\n",
      "10903/10903 [==============================] - 15s 1ms/step - loss: 0.3704 - accuracy: 0.8280\n",
      "Epoch 79/100\n",
      "10903/10903 [==============================] - 15s 1ms/step - loss: 0.3704 - accuracy: 0.8281\n",
      "Epoch 80/100\n",
      "10903/10903 [==============================] - 16s 2ms/step - loss: 0.3701 - accuracy: 0.8282\n",
      "Epoch 81/100\n",
      "10903/10903 [==============================] - 15s 1ms/step - loss: 0.3703 - accuracy: 0.8282\n",
      "Epoch 82/100\n",
      "10903/10903 [==============================] - 16s 1ms/step - loss: 0.3698 - accuracy: 0.8284\n",
      "Epoch 83/100\n",
      "10903/10903 [==============================] - 16s 1ms/step - loss: 0.3698 - accuracy: 0.8286\n",
      "Epoch 84/100\n",
      "10903/10903 [==============================] - 15s 1ms/step - loss: 0.3696 - accuracy: 0.8281\n",
      "Epoch 85/100\n",
      "10903/10903 [==============================] - 16s 1ms/step - loss: 0.3694 - accuracy: 0.8285\n",
      "Epoch 86/100\n",
      "10903/10903 [==============================] - 15s 1ms/step - loss: 0.3694 - accuracy: 0.8287\n",
      "Epoch 87/100\n",
      "10903/10903 [==============================] - 14s 1ms/step - loss: 0.3690 - accuracy: 0.8288\n",
      "Epoch 88/100\n",
      "10903/10903 [==============================] - 14s 1ms/step - loss: 0.3691 - accuracy: 0.8290\n",
      "Epoch 89/100\n",
      "10903/10903 [==============================] - 15s 1ms/step - loss: 0.3690 - accuracy: 0.8293\n",
      "Epoch 90/100\n",
      "10903/10903 [==============================] - 15s 1ms/step - loss: 0.3690 - accuracy: 0.8289\n",
      "Epoch 91/100\n",
      "10903/10903 [==============================] - 16s 1ms/step - loss: 0.3688 - accuracy: 0.8293\n",
      "Epoch 92/100\n",
      "10903/10903 [==============================] - 16s 1ms/step - loss: 0.3686 - accuracy: 0.8289\n",
      "Epoch 93/100\n",
      "10903/10903 [==============================] - 15s 1ms/step - loss: 0.3685 - accuracy: 0.8292\n",
      "Epoch 94/100\n",
      "10903/10903 [==============================] - 14s 1ms/step - loss: 0.3684 - accuracy: 0.8291\n",
      "Epoch 95/100\n",
      "10903/10903 [==============================] - 15s 1ms/step - loss: 0.3683 - accuracy: 0.8292\n",
      "Epoch 96/100\n",
      "10903/10903 [==============================] - 15s 1ms/step - loss: 0.3682 - accuracy: 0.8296\n",
      "Epoch 97/100\n",
      "10903/10903 [==============================] - 15s 1ms/step - loss: 0.3682 - accuracy: 0.8293\n",
      "Epoch 98/100\n",
      "10903/10903 [==============================] - 15s 1ms/step - loss: 0.3681 - accuracy: 0.8291\n",
      "Epoch 99/100\n",
      "10903/10903 [==============================] - 15s 1ms/step - loss: 0.3679 - accuracy: 0.8296\n",
      "Epoch 100/100\n",
      "10903/10903 [==============================] - 15s 1ms/step - loss: 0.3679 - accuracy: 0.8296\n"
     ]
    }
   ],
   "source": [
    "\n",
    "tf.random.set_seed(42)\n",
    "\n",
    "\n",
    "\n",
    "model_22 = tf.keras.Sequential([\n",
    "  tf.keras.layers.Dense(20,activation = 'relu'),\n",
    "  tf.keras.layers.Dense(40,activation = 'relu'),\n",
    "  tf.keras.layers.Dense(20,activation = 'relu'),\n",
    "  tf.keras.layers.Dense(9,activation = 'relu'),\n",
    "  tf.keras.layers.Dense(1,activation = 'sigmoid')                            \n",
    "])\n",
    "\n",
    "\n",
    "model_22.compile(loss = 'binary_crossentropy',\n",
    "                optimizer = tf.keras.optimizers.Adam(lr=0.001),\n",
    "                metrics = ['accuracy'])\n",
    "\n",
    "\n",
    "history_2 = model_22.fit(x_train1,y_train1,epochs = 100)"
   ]
  },
  {
   "cell_type": "code",
   "execution_count": 40,
   "metadata": {},
   "outputs": [
    {
     "name": "stdout",
     "output_type": "stream",
     "text": [
      "3635/3635 [==============================] - 4s 1ms/step - loss: 0.3730 - accuracy: 0.8265\n"
     ]
    },
    {
     "data": {
      "text/plain": [
       "[0.37296438217163086, 0.8265000581741333]"
      ]
     },
     "execution_count": 40,
     "metadata": {},
     "output_type": "execute_result"
    }
   ],
   "source": [
    "model_22.evaluate(x_test1,y_test1)"
   ]
  },
  {
   "cell_type": "code",
   "execution_count": 41,
   "metadata": {},
   "outputs": [
    {
     "name": "stdout",
     "output_type": "stream",
     "text": [
      "10903/10903 [==============================] - 11s 1ms/step\n",
      "3635/3635 [==============================] - 4s 1ms/step\n",
      "              precision    recall  f1-score   support\n",
      "\n",
      "           0       0.84      0.82      0.83    174285\n",
      "           1       0.82      0.84      0.83    174595\n",
      "\n",
      "    accuracy                           0.83    348880\n",
      "   macro avg       0.83      0.83      0.83    348880\n",
      "weighted avg       0.83      0.83      0.83    348880\n",
      "\n",
      "              precision    recall  f1-score   support\n",
      "\n",
      "           0       0.84      0.81      0.82     58302\n",
      "           1       0.81      0.85      0.83     57992\n",
      "\n",
      "    accuracy                           0.83    116294\n",
      "   macro avg       0.83      0.83      0.83    116294\n",
      "weighted avg       0.83      0.83      0.83    116294\n",
      "\n"
     ]
    }
   ],
   "source": [
    "ypred_train22 = model_22.predict(x_train1)\n",
    "y_pred_test22 = model_22.predict(x_test1)\n",
    "\n",
    "y_pred_test22 = (y_pred_test22 > 0.5)\n",
    "ypred_train22 = (ypred_train22 > 0.5)\n",
    "\n",
    "print(classification_report(y_train1,ypred_train22))\n",
    "print(classification_report(y_test1,y_pred_test22))"
   ]
  },
  {
   "cell_type": "code",
   "execution_count": 42,
   "metadata": {},
   "outputs": [
    {
     "name": "stdout",
     "output_type": "stream",
     "text": [
      "3635/3635 [==============================] - 4s 1ms/step\n"
     ]
    },
    {
     "data": {
      "image/png": "[encoded data removed]",
      "text/plain": [
       "<Figure size 640x480 with 1 Axes>"
      ]
     },
     "metadata": {},
     "output_type": "display_data"
    }
   ],
   "source": [
    "# cross_val_scores = cross_val_score(model_22, x_train1, y_train1, cv=5)\n",
    "# print(\"Cross-Validation Scores for the Best Model:\", cross_val_scores)\n",
    "# print(\"Average Cross-Validation Score:\", cross_val_scores.mean())\n",
    "y_proba_test = model_22.predict(x_test1).flatten()\n",
    "\n",
    "fpr, tpr, thresholds = roc_curve(y_test1, y_proba_test)\n",
    "\n",
    "plt.plot(fpr, tpr, label='ROC Curve')\n",
    "plt.xlabel('False Positive Rate')\n",
    "plt.ylabel('True Positive Rate')\n",
    "plt.title('ROC Curve with AUC = {:.2f}'.format(roc_auc_score(y_test1, y_proba_test)))\n",
    "plt.legend(loc='lower right')\n",
    "plt.grid(True)\n",
    "plt.show()"
   ]
  },
  {
   "cell_type": "markdown",
   "metadata": {},
   "source": [
    "## inne próby sieci neuronowych "
   ]
  },
  {
   "cell_type": "code",
   "execution_count": 43,
   "metadata": {},
   "outputs": [
    {
     "name": "stderr",
     "output_type": "stream",
     "text": [
      "WARNING:absl:`lr` is deprecated in Keras optimizer, please use `learning_rate` or use the legacy optimizer, e.g.,tf.keras.optimizers.legacy.Adam.\n"
     ]
    },
    {
     "name": "stdout",
     "output_type": "stream",
     "text": [
      "Epoch 1/100\n",
      "10903/10903 [==============================] - 16s 1ms/step - loss: 0.4357 - accuracy: 0.7938\n",
      "Epoch 2/100\n",
      "10903/10903 [==============================] - 21s 2ms/step - loss: 0.4273 - accuracy: 0.7972\n",
      "Epoch 3/100\n",
      "10903/10903 [==============================] - 16s 1ms/step - loss: 0.4262 - accuracy: 0.7980\n",
      "Epoch 4/100\n",
      "10903/10903 [==============================] - 16s 1ms/step - loss: 0.4256 - accuracy: 0.7980\n",
      "Epoch 5/100\n",
      "10903/10903 [==============================] - 17s 2ms/step - loss: 0.4250 - accuracy: 0.7987\n",
      "Epoch 6/100\n",
      "10903/10903 [==============================] - 16s 1ms/step - loss: 0.4247 - accuracy: 0.7994\n",
      "Epoch 7/100\n",
      "10903/10903 [==============================] - 17s 2ms/step - loss: 0.4242 - accuracy: 0.8002\n",
      "Epoch 8/100\n",
      "10903/10903 [==============================] - 17s 2ms/step - loss: 0.4238 - accuracy: 0.8003\n",
      "Epoch 9/100\n",
      "10903/10903 [==============================] - 20s 2ms/step - loss: 0.4234 - accuracy: 0.8005\n",
      "Epoch 10/100\n",
      "10903/10903 [==============================] - 20s 2ms/step - loss: 0.4231 - accuracy: 0.8005\n",
      "Epoch 11/100\n",
      "10903/10903 [==============================] - 20s 2ms/step - loss: 0.4229 - accuracy: 0.8007\n",
      "Epoch 12/100\n",
      "10903/10903 [==============================] - 22s 2ms/step - loss: 0.4227 - accuracy: 0.8012\n",
      "Epoch 13/100\n",
      "10903/10903 [==============================] - 24s 2ms/step - loss: 0.4223 - accuracy: 0.8012\n",
      "Epoch 14/100\n",
      "10903/10903 [==============================] - 24s 2ms/step - loss: 0.4222 - accuracy: 0.8014\n",
      "Epoch 15/100\n",
      "10903/10903 [==============================] - 22s 2ms/step - loss: 0.4219 - accuracy: 0.8012\n",
      "Epoch 16/100\n",
      "10903/10903 [==============================] - 23s 2ms/step - loss: 0.4218 - accuracy: 0.8017\n",
      "Epoch 17/100\n",
      "10903/10903 [==============================] - 23s 2ms/step - loss: 0.4217 - accuracy: 0.8012\n",
      "Epoch 18/100\n",
      "10903/10903 [==============================] - 18s 2ms/step - loss: 0.4213 - accuracy: 0.8016\n",
      "Epoch 19/100\n",
      "10903/10903 [==============================] - 17s 2ms/step - loss: 0.4211 - accuracy: 0.8015\n",
      "Epoch 20/100\n",
      "10903/10903 [==============================] - 16s 1ms/step - loss: 0.4210 - accuracy: 0.8012\n",
      "Epoch 21/100\n",
      "10903/10903 [==============================] - 17s 2ms/step - loss: 0.4206 - accuracy: 0.8013\n",
      "Epoch 22/100\n",
      "10903/10903 [==============================] - 17s 2ms/step - loss: 0.4203 - accuracy: 0.8016\n",
      "Epoch 23/100\n",
      "10903/10903 [==============================] - 20s 2ms/step - loss: 0.4201 - accuracy: 0.8014\n",
      "Epoch 24/100\n",
      "10903/10903 [==============================] - 18s 2ms/step - loss: 0.4200 - accuracy: 0.8014\n",
      "Epoch 25/100\n",
      "10903/10903 [==============================] - 17s 2ms/step - loss: 0.4198 - accuracy: 0.8015\n",
      "Epoch 26/100\n",
      "10903/10903 [==============================] - 19s 2ms/step - loss: 0.4196 - accuracy: 0.8016\n",
      "Epoch 27/100\n",
      "10903/10903 [==============================] - 18s 2ms/step - loss: 0.4194 - accuracy: 0.8015\n",
      "Epoch 28/100\n",
      "10903/10903 [==============================] - 17s 2ms/step - loss: 0.4193 - accuracy: 0.8015\n",
      "Epoch 29/100\n",
      "10903/10903 [==============================] - 17s 2ms/step - loss: 0.4191 - accuracy: 0.8019\n",
      "Epoch 30/100\n",
      "10903/10903 [==============================] - 16s 1ms/step - loss: 0.4190 - accuracy: 0.8019\n",
      "Epoch 31/100\n",
      "10903/10903 [==============================] - 16s 1ms/step - loss: 0.4187 - accuracy: 0.8021\n",
      "Epoch 32/100\n",
      "10903/10903 [==============================] - 16s 2ms/step - loss: 0.4184 - accuracy: 0.8019\n",
      "Epoch 33/100\n",
      "10903/10903 [==============================] - 17s 2ms/step - loss: 0.4184 - accuracy: 0.8021\n",
      "Epoch 34/100\n",
      "10903/10903 [==============================] - 17s 2ms/step - loss: 0.4182 - accuracy: 0.8021\n",
      "Epoch 35/100\n",
      "10903/10903 [==============================] - 19s 2ms/step - loss: 0.4181 - accuracy: 0.8020\n",
      "Epoch 36/100\n",
      "10903/10903 [==============================] - 18s 2ms/step - loss: 0.4178 - accuracy: 0.8024\n",
      "Epoch 37/100\n",
      "10903/10903 [==============================] - 19s 2ms/step - loss: 0.4177 - accuracy: 0.8023\n",
      "Epoch 38/100\n",
      "10903/10903 [==============================] - 18s 2ms/step - loss: 0.4175 - accuracy: 0.8023\n",
      "Epoch 39/100\n",
      "10903/10903 [==============================] - 18s 2ms/step - loss: 0.4174 - accuracy: 0.8024\n",
      "Epoch 40/100\n",
      "10903/10903 [==============================] - 20s 2ms/step - loss: 0.4172 - accuracy: 0.8027\n",
      "Epoch 41/100\n",
      "10903/10903 [==============================] - 20s 2ms/step - loss: 0.4171 - accuracy: 0.8025\n",
      "Epoch 42/100\n",
      "10903/10903 [==============================] - 19s 2ms/step - loss: 0.4169 - accuracy: 0.8025\n",
      "Epoch 43/100\n",
      "10903/10903 [==============================] - 19s 2ms/step - loss: 0.4167 - accuracy: 0.8028\n",
      "Epoch 44/100\n",
      "10903/10903 [==============================] - 17s 2ms/step - loss: 0.4166 - accuracy: 0.8032\n",
      "Epoch 45/100\n",
      "10903/10903 [==============================] - 20s 2ms/step - loss: 0.4167 - accuracy: 0.8028\n",
      "Epoch 46/100\n",
      "10903/10903 [==============================] - 17s 2ms/step - loss: 0.4164 - accuracy: 0.8029\n",
      "Epoch 47/100\n",
      "10903/10903 [==============================] - 17s 2ms/step - loss: 0.4163 - accuracy: 0.8031\n",
      "Epoch 48/100\n",
      "10903/10903 [==============================] - 17s 2ms/step - loss: 0.4162 - accuracy: 0.8032\n",
      "Epoch 49/100\n",
      "10903/10903 [==============================] - 17s 2ms/step - loss: 0.4161 - accuracy: 0.8030\n",
      "Epoch 50/100\n",
      "10903/10903 [==============================] - 16s 2ms/step - loss: 0.4161 - accuracy: 0.8035\n",
      "Epoch 51/100\n",
      "10903/10903 [==============================] - 17s 2ms/step - loss: 0.4160 - accuracy: 0.8031\n",
      "Epoch 52/100\n",
      "10903/10903 [==============================] - 16s 2ms/step - loss: 0.4159 - accuracy: 0.8037\n",
      "Epoch 53/100\n",
      "10903/10903 [==============================] - 16s 1ms/step - loss: 0.4159 - accuracy: 0.8035\n",
      "Epoch 54/100\n",
      "10903/10903 [==============================] - 17s 2ms/step - loss: 0.4158 - accuracy: 0.8036\n",
      "Epoch 55/100\n",
      "10903/10903 [==============================] - 17s 2ms/step - loss: 0.4158 - accuracy: 0.8029\n",
      "Epoch 56/100\n",
      "10903/10903 [==============================] - 16s 1ms/step - loss: 0.4157 - accuracy: 0.8040\n",
      "Epoch 57/100\n",
      "10903/10903 [==============================] - 16s 1ms/step - loss: 0.4157 - accuracy: 0.8037\n",
      "Epoch 58/100\n",
      "10903/10903 [==============================] - 17s 2ms/step - loss: 0.4155 - accuracy: 0.8037\n",
      "Epoch 59/100\n",
      "10903/10903 [==============================] - 16s 1ms/step - loss: 0.4157 - accuracy: 0.8036\n",
      "Epoch 60/100\n",
      "10903/10903 [==============================] - 16s 1ms/step - loss: 0.4155 - accuracy: 0.8036\n",
      "Epoch 61/100\n",
      "10903/10903 [==============================] - 16s 2ms/step - loss: 0.4155 - accuracy: 0.8038\n",
      "Epoch 62/100\n",
      "10903/10903 [==============================] - 17s 2ms/step - loss: 0.4152 - accuracy: 0.8044\n",
      "Epoch 63/100\n",
      "10903/10903 [==============================] - 17s 2ms/step - loss: 0.4155 - accuracy: 0.8040\n",
      "Epoch 64/100\n",
      "10903/10903 [==============================] - 17s 2ms/step - loss: 0.4153 - accuracy: 0.8038\n",
      "Epoch 65/100\n",
      "10903/10903 [==============================] - 17s 2ms/step - loss: 0.4152 - accuracy: 0.8041\n",
      "Epoch 66/100\n",
      "10903/10903 [==============================] - 18s 2ms/step - loss: 0.4153 - accuracy: 0.8035\n",
      "Epoch 67/100\n",
      "10903/10903 [==============================] - 18s 2ms/step - loss: 0.4153 - accuracy: 0.8040\n",
      "Epoch 68/100\n",
      "10903/10903 [==============================] - 18s 2ms/step - loss: 0.4152 - accuracy: 0.8038\n",
      "Epoch 69/100\n",
      "10903/10903 [==============================] - 19s 2ms/step - loss: 0.4151 - accuracy: 0.8038\n",
      "Epoch 70/100\n",
      "10903/10903 [==============================] - 18s 2ms/step - loss: 0.4151 - accuracy: 0.8040\n",
      "Epoch 71/100\n",
      "10903/10903 [==============================] - 18s 2ms/step - loss: 0.4152 - accuracy: 0.8043\n",
      "Epoch 72/100\n",
      "10903/10903 [==============================] - 19s 2ms/step - loss: 0.4149 - accuracy: 0.8044\n",
      "Epoch 73/100\n",
      "10903/10903 [==============================] - 19s 2ms/step - loss: 0.4148 - accuracy: 0.8046\n",
      "Epoch 74/100\n",
      "10903/10903 [==============================] - 19s 2ms/step - loss: 0.4148 - accuracy: 0.8044\n",
      "Epoch 75/100\n",
      "10903/10903 [==============================] - 19s 2ms/step - loss: 0.4147 - accuracy: 0.8048\n",
      "Epoch 76/100\n",
      "10903/10903 [==============================] - 19s 2ms/step - loss: 0.4147 - accuracy: 0.8051\n",
      "Epoch 77/100\n",
      "10903/10903 [==============================] - 19s 2ms/step - loss: 0.4146 - accuracy: 0.8046\n",
      "Epoch 78/100\n",
      "10903/10903 [==============================] - 19s 2ms/step - loss: 0.4145 - accuracy: 0.8048\n",
      "Epoch 79/100\n",
      "10903/10903 [==============================] - 20s 2ms/step - loss: 0.4146 - accuracy: 0.8047\n",
      "Epoch 80/100\n",
      "10903/10903 [==============================] - 20s 2ms/step - loss: 0.4146 - accuracy: 0.8047\n",
      "Epoch 81/100\n",
      "10903/10903 [==============================] - 20s 2ms/step - loss: 0.4144 - accuracy: 0.8050\n",
      "Epoch 82/100\n",
      "10903/10903 [==============================] - 20s 2ms/step - loss: 0.4146 - accuracy: 0.8047\n",
      "Epoch 83/100\n",
      "10903/10903 [==============================] - 20s 2ms/step - loss: 0.4144 - accuracy: 0.8050\n",
      "Epoch 84/100\n",
      "10903/10903 [==============================] - 20s 2ms/step - loss: 0.4144 - accuracy: 0.8047\n",
      "Epoch 85/100\n",
      "10903/10903 [==============================] - 20s 2ms/step - loss: 0.4144 - accuracy: 0.8050\n",
      "Epoch 86/100\n",
      "10903/10903 [==============================] - 20s 2ms/step - loss: 0.4142 - accuracy: 0.8053\n",
      "Epoch 87/100\n",
      "10903/10903 [==============================] - 20s 2ms/step - loss: 0.4142 - accuracy: 0.8053\n",
      "Epoch 88/100\n",
      "10903/10903 [==============================] - 20s 2ms/step - loss: 0.4143 - accuracy: 0.8050\n",
      "Epoch 89/100\n",
      "10903/10903 [==============================] - 20s 2ms/step - loss: 0.4142 - accuracy: 0.8054\n",
      "Epoch 90/100\n",
      "10903/10903 [==============================] - 20s 2ms/step - loss: 0.4142 - accuracy: 0.8055\n",
      "Epoch 91/100\n",
      "10903/10903 [==============================] - 20s 2ms/step - loss: 0.4140 - accuracy: 0.8045\n",
      "Epoch 92/100\n",
      "10903/10903 [==============================] - 20s 2ms/step - loss: 0.4142 - accuracy: 0.8049\n",
      "Epoch 93/100\n",
      "10903/10903 [==============================] - 20s 2ms/step - loss: 0.4141 - accuracy: 0.8052\n",
      "Epoch 94/100\n",
      "10903/10903 [==============================] - 20s 2ms/step - loss: 0.4139 - accuracy: 0.8053\n",
      "Epoch 95/100\n",
      "10903/10903 [==============================] - 20s 2ms/step - loss: 0.4142 - accuracy: 0.8050\n",
      "Epoch 96/100\n",
      "10903/10903 [==============================] - 20s 2ms/step - loss: 0.4138 - accuracy: 0.8054\n",
      "Epoch 97/100\n",
      "10903/10903 [==============================] - 20s 2ms/step - loss: 0.4140 - accuracy: 0.8054\n",
      "Epoch 98/100\n",
      "10903/10903 [==============================] - 20s 2ms/step - loss: 0.4141 - accuracy: 0.8054\n",
      "Epoch 99/100\n",
      "10903/10903 [==============================] - 20s 2ms/step - loss: 0.4137 - accuracy: 0.8051\n",
      "Epoch 100/100\n",
      "10903/10903 [==============================] - 20s 2ms/step - loss: 0.4139 - accuracy: 0.8053\n"
     ]
    }
   ],
   "source": [
    "\n",
    "tf.random.set_seed(42)\n",
    "\n",
    "\n",
    "\n",
    "model_2 = tf.keras.Sequential([\n",
    "  tf.keras.layers.Dense(20,activation = 'relu'),\n",
    "  tf.keras.layers.Dense(6,activation = 'relu'),\n",
    "  tf.keras.layers.Dense(6,activation = 'relu'),\n",
    "  tf.keras.layers.Dense(1,activation = 'sigmoid')                            \n",
    "])\n",
    "\n",
    "\n",
    "model_2.compile(loss = 'binary_crossentropy',\n",
    "                optimizer = tf.keras.optimizers.Adam(lr=0.001),\n",
    "                metrics = ['accuracy'])\n",
    "\n",
    "\n",
    "history_2 = model_2.fit(x_train1,y_train1,epochs = 100)"
   ]
  },
  {
   "cell_type": "code",
   "execution_count": 44,
   "metadata": {},
   "outputs": [
    {
     "name": "stdout",
     "output_type": "stream",
     "text": [
      "3635/3635 [==============================] - 5s 1ms/step - loss: 0.4128 - accuracy: 0.8053\n"
     ]
    },
    {
     "data": {
      "text/plain": [
       "[0.4128463566303253, 0.8052607774734497]"
      ]
     },
     "execution_count": 44,
     "metadata": {},
     "output_type": "execute_result"
    }
   ],
   "source": [
    "model_2.evaluate(x_test1,y_test1)"
   ]
  },
  {
   "cell_type": "code",
   "execution_count": 45,
   "metadata": {},
   "outputs": [
    {
     "name": "stdout",
     "output_type": "stream",
     "text": [
      "10903/10903 [==============================] - 15s 1ms/step\n",
      "3635/3635 [==============================] - 4s 1ms/step\n",
      "              precision    recall  f1-score   support\n",
      "\n",
      "           0       0.82      0.78      0.80    174285\n",
      "           1       0.79      0.83      0.81    174595\n",
      "\n",
      "    accuracy                           0.81    348880\n",
      "   macro avg       0.81      0.81      0.81    348880\n",
      "weighted avg       0.81      0.81      0.81    348880\n",
      "\n",
      "              precision    recall  f1-score   support\n",
      "\n",
      "           0       0.82      0.78      0.80     58302\n",
      "           1       0.79      0.83      0.81     57992\n",
      "\n",
      "    accuracy                           0.81    116294\n",
      "   macro avg       0.81      0.81      0.81    116294\n",
      "weighted avg       0.81      0.81      0.81    116294\n",
      "\n"
     ]
    }
   ],
   "source": [
    "ypred_train11 = model_2.predict(x_train1)\n",
    "y_pred_test11 = model_2.predict(x_test1)\n",
    "\n",
    "y_pred_test11 = (y_pred_test11 > 0.5)\n",
    "ypred_train11 = (ypred_train11 > 0.5)\n",
    "\n",
    "print(classification_report(y_train1,ypred_train11))\n",
    "print(classification_report(y_test1,y_pred_test11))"
   ]
  },
  {
   "cell_type": "code",
   "execution_count": 46,
   "metadata": {},
   "outputs": [
    {
     "name": "stdout",
     "output_type": "stream",
     "text": [
      "3635/3635 [==============================] - 5s 1ms/step\n"
     ]
    },
    {
     "data": {
      "image/png": "[encoded data removed]",
      "text/plain": [
       "<Figure size 640x480 with 1 Axes>"
      ]
     },
     "metadata": {},
     "output_type": "display_data"
    }
   ],
   "source": [
    "# cross_val_scores = cross_val_score(model_2, x_train1, y_train1, cv=5)\n",
    "# print(\"Cross-Validation Scores for the Best Model:\", cross_val_scores)\n",
    "# print(\"Average Cross-Validation Score:\", cross_val_scores.mean())\n",
    "y_proba_test = model_2.predict(x_test1).flatten()\n",
    "\n",
    "fpr, tpr, thresholds = roc_curve(y_test1, y_proba_test)\n",
    "\n",
    "plt.plot(fpr, tpr, label='ROC Curve')\n",
    "plt.xlabel('False Positive Rate')\n",
    "plt.ylabel('True Positive Rate')\n",
    "plt.title('ROC Curve with AUC = {:.2f}'.format(roc_auc_score(y_test1, y_proba_test)))\n",
    "plt.legend(loc='lower right')\n",
    "plt.grid(True)\n",
    "plt.show()"
   ]
  },
  {
   "cell_type": "markdown",
   "metadata": {},
   "source": [
    "## inne próby sieci neuronowych "
   ]
  },
  {
   "cell_type": "code",
   "execution_count": 47,
   "metadata": {},
   "outputs": [],
   "source": [
    "model1 = Sequential()\n",
    "model1.add(Dense(units=20,activation='relu'))\n",
    "model1.add(Dropout(0.5))\n",
    "\n",
    "model1.add(Dense(units=15,activation='relu'))\n",
    "model1.add(Dropout(0.5))\n",
    "\n",
    "model1.add(Dense(units=1,activation='sigmoid'))\n",
    "model1.compile(loss='binary_crossentropy', optimizer='adam')"
   ]
  },
  {
   "cell_type": "code",
   "execution_count": 48,
   "metadata": {},
   "outputs": [
    {
     "name": "stdout",
     "output_type": "stream",
     "text": [
      "Epoch 1/100\n",
      "10903/10903 [==============================] - 24s 2ms/step - loss: 0.4814 - val_loss: 0.4269\n",
      "Epoch 2/100\n",
      "10903/10903 [==============================] - 21s 2ms/step - loss: 0.4616 - val_loss: 0.4266\n",
      "Epoch 3/100\n",
      "10903/10903 [==============================] - 20s 2ms/step - loss: 0.4599 - val_loss: 0.4286\n",
      "Epoch 4/100\n",
      "10903/10903 [==============================] - 18s 2ms/step - loss: 0.4589 - val_loss: 0.4252\n",
      "Epoch 5/100\n",
      "10903/10903 [==============================] - 19s 2ms/step - loss: 0.4590 - val_loss: 0.4242\n",
      "Epoch 6/100\n",
      "10903/10903 [==============================] - 18s 2ms/step - loss: 0.4585 - val_loss: 0.4253\n",
      "Epoch 7/100\n",
      "10903/10903 [==============================] - 18s 2ms/step - loss: 0.4571 - val_loss: 0.4245\n",
      "Epoch 8/100\n",
      "10903/10903 [==============================] - 18s 2ms/step - loss: 0.4574 - val_loss: 0.4246\n",
      "Epoch 9/100\n",
      "10903/10903 [==============================] - 17s 2ms/step - loss: 0.4570 - val_loss: 0.4250\n",
      "Epoch 10/100\n",
      "10903/10903 [==============================] - 19s 2ms/step - loss: 0.4572 - val_loss: 0.4241\n",
      "Epoch 11/100\n",
      "10903/10903 [==============================] - 18s 2ms/step - loss: 0.4572 - val_loss: 0.4247\n",
      "Epoch 12/100\n",
      "10903/10903 [==============================] - 18s 2ms/step - loss: 0.4569 - val_loss: 0.4245\n",
      "Epoch 13/100\n",
      "10903/10903 [==============================] - 19s 2ms/step - loss: 0.4561 - val_loss: 0.4238\n",
      "Epoch 14/100\n",
      "10903/10903 [==============================] - 17s 2ms/step - loss: 0.4558 - val_loss: 0.4237\n",
      "Epoch 15/100\n",
      "10903/10903 [==============================] - 19s 2ms/step - loss: 0.4572 - val_loss: 0.4249\n",
      "Epoch 16/100\n",
      "10903/10903 [==============================] - 19s 2ms/step - loss: 0.4562 - val_loss: 0.4231\n",
      "Epoch 17/100\n",
      "10903/10903 [==============================] - 19s 2ms/step - loss: 0.4562 - val_loss: 0.4234\n",
      "Epoch 18/100\n",
      "10903/10903 [==============================] - 17s 2ms/step - loss: 0.4569 - val_loss: 0.4236\n",
      "Epoch 19/100\n",
      "10903/10903 [==============================] - 16s 2ms/step - loss: 0.4562 - val_loss: 0.4235\n",
      "Epoch 20/100\n",
      "10903/10903 [==============================] - 16s 1ms/step - loss: 0.4565 - val_loss: 0.4228\n",
      "Epoch 21/100\n",
      "10903/10903 [==============================] - 16s 2ms/step - loss: 0.4567 - val_loss: 0.4231\n",
      "Epoch 22/100\n",
      "10903/10903 [==============================] - 16s 2ms/step - loss: 0.4554 - val_loss: 0.4240\n",
      "Epoch 23/100\n",
      "10903/10903 [==============================] - 17s 2ms/step - loss: 0.4559 - val_loss: 0.4241\n",
      "Epoch 24/100\n",
      "10903/10903 [==============================] - 16s 1ms/step - loss: 0.4565 - val_loss: 0.4230\n",
      "Epoch 25/100\n",
      "10903/10903 [==============================] - 16s 2ms/step - loss: 0.4560 - val_loss: 0.4232\n",
      "Epoch 26/100\n",
      "10903/10903 [==============================] - 16s 2ms/step - loss: 0.4556 - val_loss: 0.4237\n",
      "Epoch 27/100\n",
      "10903/10903 [==============================] - 16s 2ms/step - loss: 0.4560 - val_loss: 0.4225\n",
      "Epoch 28/100\n",
      "10903/10903 [==============================] - 16s 2ms/step - loss: 0.4562 - val_loss: 0.4250\n",
      "Epoch 29/100\n",
      "10903/10903 [==============================] - 16s 1ms/step - loss: 0.4560 - val_loss: 0.4245\n",
      "Epoch 30/100\n",
      "10903/10903 [==============================] - 16s 1ms/step - loss: 0.4561 - val_loss: 0.4239\n",
      "Epoch 31/100\n",
      "10903/10903 [==============================] - 16s 1ms/step - loss: 0.4570 - val_loss: 0.4226\n",
      "Epoch 32/100\n",
      "10903/10903 [==============================] - 16s 2ms/step - loss: 0.4563 - val_loss: 0.4245\n",
      "Epoch 33/100\n",
      "10903/10903 [==============================] - 16s 2ms/step - loss: 0.4563 - val_loss: 0.4230\n",
      "Epoch 34/100\n",
      "10903/10903 [==============================] - 16s 2ms/step - loss: 0.4556 - val_loss: 0.4236\n",
      "Epoch 35/100\n",
      "10903/10903 [==============================] - 16s 1ms/step - loss: 0.4566 - val_loss: 0.4229\n",
      "Epoch 36/100\n",
      "10903/10903 [==============================] - 17s 2ms/step - loss: 0.4563 - val_loss: 0.4231\n",
      "Epoch 37/100\n",
      "10903/10903 [==============================] - 17s 2ms/step - loss: 0.4558 - val_loss: 0.4233\n",
      "Epoch 38/100\n",
      "10903/10903 [==============================] - 16s 2ms/step - loss: 0.4562 - val_loss: 0.4237\n",
      "Epoch 39/100\n",
      "10903/10903 [==============================] - 16s 1ms/step - loss: 0.4556 - val_loss: 0.4242\n",
      "Epoch 40/100\n",
      "10903/10903 [==============================] - 16s 1ms/step - loss: 0.4555 - val_loss: 0.4232\n",
      "Epoch 41/100\n",
      "10903/10903 [==============================] - 16s 1ms/step - loss: 0.4555 - val_loss: 0.4238\n",
      "Epoch 42/100\n",
      "10903/10903 [==============================] - 16s 1ms/step - loss: 0.4561 - val_loss: 0.4235\n",
      "Epoch 43/100\n",
      "10903/10903 [==============================] - 16s 1ms/step - loss: 0.4558 - val_loss: 0.4238\n",
      "Epoch 44/100\n",
      "10903/10903 [==============================] - 16s 1ms/step - loss: 0.4566 - val_loss: 0.4225\n",
      "Epoch 45/100\n",
      "10903/10903 [==============================] - 16s 1ms/step - loss: 0.4561 - val_loss: 0.4235\n",
      "Epoch 46/100\n",
      "10903/10903 [==============================] - 16s 1ms/step - loss: 0.4553 - val_loss: 0.4230\n",
      "Epoch 47/100\n",
      "10903/10903 [==============================] - 16s 1ms/step - loss: 0.4561 - val_loss: 0.4237\n",
      "Epoch 48/100\n",
      "10903/10903 [==============================] - 16s 1ms/step - loss: 0.4557 - val_loss: 0.4233\n",
      "Epoch 49/100\n",
      "10903/10903 [==============================] - 16s 1ms/step - loss: 0.4564 - val_loss: 0.4227\n",
      "Epoch 50/100\n",
      "10903/10903 [==============================] - 16s 1ms/step - loss: 0.4561 - val_loss: 0.4230\n",
      "Epoch 51/100\n",
      "10903/10903 [==============================] - 16s 2ms/step - loss: 0.4561 - val_loss: 0.4225\n",
      "Epoch 52/100\n",
      "10903/10903 [==============================] - 16s 1ms/step - loss: 0.4564 - val_loss: 0.4259\n",
      "Epoch 53/100\n",
      "10903/10903 [==============================] - 16s 1ms/step - loss: 0.4556 - val_loss: 0.4230\n",
      "Epoch 54/100\n",
      "10903/10903 [==============================] - 16s 1ms/step - loss: 0.4556 - val_loss: 0.4225\n",
      "Epoch 55/100\n",
      "10903/10903 [==============================] - 16s 1ms/step - loss: 0.4559 - val_loss: 0.4221\n",
      "Epoch 56/100\n",
      "10903/10903 [==============================] - 16s 1ms/step - loss: 0.4555 - val_loss: 0.4233\n",
      "Epoch 57/100\n",
      "10903/10903 [==============================] - 16s 1ms/step - loss: 0.4565 - val_loss: 0.4237\n",
      "Epoch 58/100\n",
      "10903/10903 [==============================] - 16s 1ms/step - loss: 0.4549 - val_loss: 0.4241\n",
      "Epoch 59/100\n",
      "10903/10903 [==============================] - 16s 1ms/step - loss: 0.4556 - val_loss: 0.4238\n",
      "Epoch 60/100\n",
      "10903/10903 [==============================] - 16s 1ms/step - loss: 0.4560 - val_loss: 0.4229\n",
      "Epoch 61/100\n",
      "10903/10903 [==============================] - 17s 2ms/step - loss: 0.4558 - val_loss: 0.4233\n",
      "Epoch 62/100\n",
      "10903/10903 [==============================] - 17s 2ms/step - loss: 0.4560 - val_loss: 0.4242\n",
      "Epoch 63/100\n",
      "10903/10903 [==============================] - 16s 1ms/step - loss: 0.4556 - val_loss: 0.4233\n",
      "Epoch 64/100\n",
      "10903/10903 [==============================] - 17s 2ms/step - loss: 0.4563 - val_loss: 0.4238\n",
      "Epoch 65/100\n",
      "10903/10903 [==============================] - 16s 2ms/step - loss: 0.4552 - val_loss: 0.4231\n",
      "Epoch 66/100\n",
      "10903/10903 [==============================] - 17s 2ms/step - loss: 0.4560 - val_loss: 0.4240\n",
      "Epoch 67/100\n",
      "10903/10903 [==============================] - 16s 1ms/step - loss: 0.4559 - val_loss: 0.4235\n",
      "Epoch 68/100\n",
      "10903/10903 [==============================] - 16s 2ms/step - loss: 0.4557 - val_loss: 0.4233\n",
      "Epoch 69/100\n",
      "10903/10903 [==============================] - 16s 1ms/step - loss: 0.4557 - val_loss: 0.4233\n",
      "Epoch 70/100\n",
      "10903/10903 [==============================] - 17s 2ms/step - loss: 0.4562 - val_loss: 0.4253\n",
      "Epoch 71/100\n",
      "10903/10903 [==============================] - 16s 1ms/step - loss: 0.4557 - val_loss: 0.4227\n",
      "Epoch 72/100\n",
      "10903/10903 [==============================] - 16s 2ms/step - loss: 0.4564 - val_loss: 0.4230\n",
      "Epoch 73/100\n",
      "10903/10903 [==============================] - 16s 1ms/step - loss: 0.4559 - val_loss: 0.4235\n",
      "Epoch 74/100\n",
      "10903/10903 [==============================] - 17s 2ms/step - loss: 0.4556 - val_loss: 0.4234\n",
      "Epoch 75/100\n",
      "10903/10903 [==============================] - 16s 1ms/step - loss: 0.4558 - val_loss: 0.4233\n",
      "Epoch 76/100\n",
      "10903/10903 [==============================] - 17s 2ms/step - loss: 0.4562 - val_loss: 0.4236\n",
      "Epoch 77/100\n",
      "10903/10903 [==============================] - 16s 1ms/step - loss: 0.4567 - val_loss: 0.4234\n",
      "Epoch 78/100\n",
      "10903/10903 [==============================] - 17s 2ms/step - loss: 0.4556 - val_loss: 0.4226\n",
      "Epoch 79/100\n",
      "10903/10903 [==============================] - 16s 1ms/step - loss: 0.4553 - val_loss: 0.4227\n",
      "Epoch 80/100\n",
      "10903/10903 [==============================] - 16s 1ms/step - loss: 0.4556 - val_loss: 0.4235\n",
      "Epoch 80: early stopping\n"
     ]
    },
    {
     "data": {
      "text/plain": [
       "<keras.src.callbacks.History at 0x263e6cf9290>"
      ]
     },
     "execution_count": 48,
     "metadata": {},
     "output_type": "execute_result"
    }
   ],
   "source": [
    "model1.fit(x=x_train1, \n",
    "          y=y_train1, \n",
    "          epochs=100,\n",
    "          validation_data=(x_test1, y_test1), verbose=1,\n",
    "          callbacks=[early_stop]\n",
    "          )"
   ]
  },
  {
   "cell_type": "code",
   "execution_count": 49,
   "metadata": {},
   "outputs": [
    {
     "name": "stdout",
     "output_type": "stream",
     "text": [
      "10903/10903 [==============================] - 10s 935us/step\n",
      "3635/3635 [==============================] - 3s 877us/step\n",
      "              precision    recall  f1-score   support\n",
      "\n",
      "           0       0.81      0.79      0.80    174285\n",
      "           1       0.79      0.81      0.80    174595\n",
      "\n",
      "    accuracy                           0.80    348880\n",
      "   macro avg       0.80      0.80      0.80    348880\n",
      "weighted avg       0.80      0.80      0.80    348880\n",
      "\n",
      "              precision    recall  f1-score   support\n",
      "\n",
      "           0       0.81      0.79      0.80     58302\n",
      "           1       0.79      0.81      0.80     57992\n",
      "\n",
      "    accuracy                           0.80    116294\n",
      "   macro avg       0.80      0.80      0.80    116294\n",
      "weighted avg       0.80      0.80      0.80    116294\n",
      "\n"
     ]
    }
   ],
   "source": [
    "ypred_train12 = model1.predict(x_train1)\n",
    "y_pred_test12 = model1.predict(x_test1)\n",
    "\n",
    "y_pred_test12 = (y_pred_test12 > 0.5)\n",
    "ypred_train12 = (ypred_train12 > 0.5)\n",
    "\n",
    "print(classification_report(y_train1,ypred_train12))\n",
    "print(classification_report(y_test1,y_pred_test12))"
   ]
  },
  {
   "cell_type": "code",
   "execution_count": 50,
   "metadata": {},
   "outputs": [
    {
     "name": "stdout",
     "output_type": "stream",
     "text": [
      "3635/3635 [==============================] - 3s 917us/step\n"
     ]
    },
    {
     "data": {
      "image/png": "[encoded data removed]",
      "text/plain": [
       "<Figure size 640x480 with 1 Axes>"
      ]
     },
     "metadata": {},
     "output_type": "display_data"
    }
   ],
   "source": [
    "# cross_val_scores = cross_val_score(model1, x_train1, y_train1, cv=5)\n",
    "# print(\"Cross-Validation Scores for the Best Model:\", cross_val_scores)\n",
    "# print(\"Average Cross-Validation Score:\", cross_val_scores.mean())\n",
    "y_proba_test = model1.predict(x_test1).flatten()\n",
    "\n",
    "fpr, tpr, thresholds = roc_curve(y_test1, y_proba_test)\n",
    "\n",
    "plt.plot(fpr, tpr, label='ROC Curve')\n",
    "plt.xlabel('False Positive Rate')\n",
    "plt.ylabel('True Positive Rate')\n",
    "plt.title('ROC Curve with AUC = {:.2f}'.format(roc_auc_score(y_test1, y_proba_test)))\n",
    "plt.legend(loc='lower right')\n",
    "plt.grid(True)\n",
    "plt.show()"
   ]
  },
  {
   "cell_type": "markdown",
   "metadata": {},
   "source": [
    "## inny model"
   ]
  },
  {
   "cell_type": "code",
   "execution_count": 51,
   "metadata": {},
   "outputs": [],
   "source": [
    "model2 = Sequential()\n",
    "\n",
    "\n",
    "\n",
    "model2.add(Dense(20,  activation='relu'))\n",
    "model2.add(Dropout(0.2))\n",
    "\n",
    "model2.add(Dense(10, activation='relu'))\n",
    "model2.add(Dropout(0.2))\n",
    "\n",
    "model2.add(Dense(units=1,activation='sigmoid'))\n",
    "\n",
    "model2.compile(loss='binary_crossentropy', optimizer='adam')"
   ]
  },
  {
   "cell_type": "code",
   "execution_count": 52,
   "metadata": {},
   "outputs": [
    {
     "name": "stdout",
     "output_type": "stream",
     "text": [
      "Epoch 1/100\n",
      "10903/10903 [==============================] - 17s 2ms/step - loss: 0.4531 - val_loss: 0.4255\n",
      "Epoch 2/100\n",
      "10903/10903 [==============================] - 16s 1ms/step - loss: 0.4390 - val_loss: 0.4236\n",
      "Epoch 3/100\n",
      "10903/10903 [==============================] - 16s 1ms/step - loss: 0.4377 - val_loss: 0.4233\n",
      "Epoch 4/100\n",
      "10903/10903 [==============================] - 16s 1ms/step - loss: 0.4368 - val_loss: 0.4224\n",
      "Epoch 5/100\n",
      "10903/10903 [==============================] - 16s 1ms/step - loss: 0.4366 - val_loss: 0.4214\n",
      "Epoch 6/100\n",
      "10903/10903 [==============================] - 16s 1ms/step - loss: 0.4355 - val_loss: 0.4218\n",
      "Epoch 7/100\n",
      "10903/10903 [==============================] - 16s 1ms/step - loss: 0.4358 - val_loss: 0.4203\n",
      "Epoch 8/100\n",
      "10903/10903 [==============================] - 16s 1ms/step - loss: 0.4356 - val_loss: 0.4218\n",
      "Epoch 9/100\n",
      "10903/10903 [==============================] - 16s 1ms/step - loss: 0.4353 - val_loss: 0.4218\n",
      "Epoch 10/100\n",
      "10903/10903 [==============================] - 16s 1ms/step - loss: 0.4354 - val_loss: 0.4203\n",
      "Epoch 11/100\n",
      "10903/10903 [==============================] - 16s 1ms/step - loss: 0.4345 - val_loss: 0.4205\n",
      "Epoch 12/100\n",
      "10903/10903 [==============================] - 16s 1ms/step - loss: 0.4347 - val_loss: 0.4200\n",
      "Epoch 13/100\n",
      "10903/10903 [==============================] - 16s 1ms/step - loss: 0.4350 - val_loss: 0.4202\n",
      "Epoch 14/100\n",
      "10903/10903 [==============================] - 16s 1ms/step - loss: 0.4347 - val_loss: 0.4202\n",
      "Epoch 15/100\n",
      "10903/10903 [==============================] - 16s 1ms/step - loss: 0.4347 - val_loss: 0.4214\n",
      "Epoch 16/100\n",
      "10903/10903 [==============================] - 16s 1ms/step - loss: 0.4348 - val_loss: 0.4197\n",
      "Epoch 17/100\n",
      "10903/10903 [==============================] - 16s 1ms/step - loss: 0.4342 - val_loss: 0.4203\n",
      "Epoch 18/100\n",
      "10903/10903 [==============================] - 16s 1ms/step - loss: 0.4341 - val_loss: 0.4192\n",
      "Epoch 19/100\n",
      "10903/10903 [==============================] - 16s 1ms/step - loss: 0.4339 - val_loss: 0.4197\n",
      "Epoch 20/100\n",
      "10903/10903 [==============================] - 16s 1ms/step - loss: 0.4342 - val_loss: 0.4195\n",
      "Epoch 21/100\n",
      "10903/10903 [==============================] - 16s 1ms/step - loss: 0.4336 - val_loss: 0.4193\n",
      "Epoch 22/100\n",
      "10903/10903 [==============================] - 16s 1ms/step - loss: 0.4342 - val_loss: 0.4200\n",
      "Epoch 23/100\n",
      "10903/10903 [==============================] - 16s 1ms/step - loss: 0.4338 - val_loss: 0.4189\n",
      "Epoch 24/100\n",
      "10903/10903 [==============================] - 16s 1ms/step - loss: 0.4335 - val_loss: 0.4192\n",
      "Epoch 25/100\n",
      "10903/10903 [==============================] - 16s 1ms/step - loss: 0.4337 - val_loss: 0.4194\n",
      "Epoch 26/100\n",
      "10903/10903 [==============================] - 16s 1ms/step - loss: 0.4330 - val_loss: 0.4199\n",
      "Epoch 27/100\n",
      "10903/10903 [==============================] - 16s 1ms/step - loss: 0.4335 - val_loss: 0.4196\n",
      "Epoch 28/100\n",
      "10903/10903 [==============================] - 16s 1ms/step - loss: 0.4338 - val_loss: 0.4193\n",
      "Epoch 29/100\n",
      "10903/10903 [==============================] - 16s 1ms/step - loss: 0.4336 - val_loss: 0.4194\n",
      "Epoch 30/100\n",
      "10903/10903 [==============================] - 16s 1ms/step - loss: 0.4336 - val_loss: 0.4199\n",
      "Epoch 31/100\n",
      "10903/10903 [==============================] - 16s 1ms/step - loss: 0.4334 - val_loss: 0.4191\n",
      "Epoch 32/100\n",
      "10903/10903 [==============================] - 16s 1ms/step - loss: 0.4336 - val_loss: 0.4193\n",
      "Epoch 33/100\n",
      "10903/10903 [==============================] - 16s 1ms/step - loss: 0.4332 - val_loss: 0.4197\n",
      "Epoch 34/100\n",
      "10903/10903 [==============================] - 17s 2ms/step - loss: 0.4332 - val_loss: 0.4190\n",
      "Epoch 35/100\n",
      "10903/10903 [==============================] - 19s 2ms/step - loss: 0.4334 - val_loss: 0.4189\n",
      "Epoch 36/100\n",
      "10903/10903 [==============================] - 17s 2ms/step - loss: 0.4333 - val_loss: 0.4184\n",
      "Epoch 37/100\n",
      "10903/10903 [==============================] - 15s 1ms/step - loss: 0.4336 - val_loss: 0.4187\n",
      "Epoch 38/100\n",
      "10903/10903 [==============================] - 15s 1ms/step - loss: 0.4329 - val_loss: 0.4190\n",
      "Epoch 39/100\n",
      "10903/10903 [==============================] - 15s 1ms/step - loss: 0.4330 - val_loss: 0.4188\n",
      "Epoch 40/100\n",
      "10903/10903 [==============================] - 15s 1ms/step - loss: 0.4331 - val_loss: 0.4185\n",
      "Epoch 41/100\n",
      "10903/10903 [==============================] - 15s 1ms/step - loss: 0.4328 - val_loss: 0.4189\n",
      "Epoch 42/100\n",
      "10903/10903 [==============================] - 15s 1ms/step - loss: 0.4331 - val_loss: 0.4190\n",
      "Epoch 43/100\n",
      "10903/10903 [==============================] - 16s 1ms/step - loss: 0.4332 - val_loss: 0.4194\n",
      "Epoch 44/100\n",
      "10903/10903 [==============================] - 16s 1ms/step - loss: 0.4334 - val_loss: 0.4187\n",
      "Epoch 45/100\n",
      "10903/10903 [==============================] - 16s 1ms/step - loss: 0.4332 - val_loss: 0.4190\n",
      "Epoch 46/100\n",
      "10903/10903 [==============================] - 16s 1ms/step - loss: 0.4333 - val_loss: 0.4185\n",
      "Epoch 47/100\n",
      "10903/10903 [==============================] - 16s 1ms/step - loss: 0.4330 - val_loss: 0.4187\n",
      "Epoch 48/100\n",
      "10903/10903 [==============================] - 16s 1ms/step - loss: 0.4327 - val_loss: 0.4189\n",
      "Epoch 49/100\n",
      "10903/10903 [==============================] - 16s 1ms/step - loss: 0.4330 - val_loss: 0.4183\n",
      "Epoch 50/100\n",
      "10903/10903 [==============================] - 16s 2ms/step - loss: 0.4329 - val_loss: 0.4185\n",
      "Epoch 51/100\n",
      "10903/10903 [==============================] - 16s 2ms/step - loss: 0.4335 - val_loss: 0.4182\n",
      "Epoch 52/100\n",
      "10903/10903 [==============================] - 16s 1ms/step - loss: 0.4332 - val_loss: 0.4195\n",
      "Epoch 53/100\n",
      "10903/10903 [==============================] - 16s 1ms/step - loss: 0.4324 - val_loss: 0.4183\n",
      "Epoch 54/100\n",
      "10903/10903 [==============================] - 16s 1ms/step - loss: 0.4327 - val_loss: 0.4185\n",
      "Epoch 55/100\n",
      "10903/10903 [==============================] - 16s 1ms/step - loss: 0.4327 - val_loss: 0.4187\n",
      "Epoch 56/100\n",
      "10903/10903 [==============================] - 16s 1ms/step - loss: 0.4333 - val_loss: 0.4191\n",
      "Epoch 57/100\n",
      "10903/10903 [==============================] - 16s 1ms/step - loss: 0.4334 - val_loss: 0.4194\n",
      "Epoch 58/100\n",
      "10903/10903 [==============================] - 16s 1ms/step - loss: 0.4329 - val_loss: 0.4191\n",
      "Epoch 59/100\n",
      "10903/10903 [==============================] - 16s 1ms/step - loss: 0.4326 - val_loss: 0.4198\n",
      "Epoch 60/100\n",
      "10903/10903 [==============================] - 16s 1ms/step - loss: 0.4323 - val_loss: 0.4185\n",
      "Epoch 61/100\n",
      "10903/10903 [==============================] - 16s 1ms/step - loss: 0.4322 - val_loss: 0.4183\n",
      "Epoch 62/100\n",
      "10903/10903 [==============================] - 16s 1ms/step - loss: 0.4325 - val_loss: 0.4193\n",
      "Epoch 63/100\n",
      "10903/10903 [==============================] - 17s 2ms/step - loss: 0.4326 - val_loss: 0.4190\n",
      "Epoch 64/100\n",
      "10903/10903 [==============================] - 17s 2ms/step - loss: 0.4326 - val_loss: 0.4192\n",
      "Epoch 65/100\n",
      "10903/10903 [==============================] - 17s 2ms/step - loss: 0.4325 - val_loss: 0.4181\n",
      "Epoch 66/100\n",
      "10903/10903 [==============================] - 17s 2ms/step - loss: 0.4322 - val_loss: 0.4192\n",
      "Epoch 67/100\n",
      "10903/10903 [==============================] - 17s 2ms/step - loss: 0.4324 - val_loss: 0.4184\n",
      "Epoch 68/100\n",
      "10903/10903 [==============================] - 17s 2ms/step - loss: 0.4325 - val_loss: 0.4182\n",
      "Epoch 69/100\n",
      "10903/10903 [==============================] - 17s 2ms/step - loss: 0.4325 - val_loss: 0.4182\n",
      "Epoch 70/100\n",
      "10903/10903 [==============================] - 17s 2ms/step - loss: 0.4329 - val_loss: 0.4196\n",
      "Epoch 71/100\n",
      "10903/10903 [==============================] - 17s 2ms/step - loss: 0.4322 - val_loss: 0.4184\n",
      "Epoch 72/100\n",
      "10903/10903 [==============================] - 17s 2ms/step - loss: 0.4328 - val_loss: 0.4188\n",
      "Epoch 73/100\n",
      "10903/10903 [==============================] - 16s 1ms/step - loss: 0.4327 - val_loss: 0.4181\n",
      "Epoch 74/100\n",
      "10903/10903 [==============================] - 16s 1ms/step - loss: 0.4322 - val_loss: 0.4193\n",
      "Epoch 75/100\n",
      "10903/10903 [==============================] - 16s 1ms/step - loss: 0.4322 - val_loss: 0.4186\n",
      "Epoch 76/100\n",
      "10903/10903 [==============================] - 16s 1ms/step - loss: 0.4329 - val_loss: 0.4181\n",
      "Epoch 77/100\n",
      "10903/10903 [==============================] - 16s 1ms/step - loss: 0.4327 - val_loss: 0.4190\n",
      "Epoch 78/100\n",
      "10903/10903 [==============================] - 16s 1ms/step - loss: 0.4323 - val_loss: 0.4183\n",
      "Epoch 79/100\n",
      "10903/10903 [==============================] - 16s 1ms/step - loss: 0.4325 - val_loss: 0.4185\n",
      "Epoch 80/100\n",
      "10903/10903 [==============================] - 16s 1ms/step - loss: 0.4325 - val_loss: 0.4198\n",
      "Epoch 81/100\n",
      "10903/10903 [==============================] - 16s 1ms/step - loss: 0.4327 - val_loss: 0.4185\n",
      "Epoch 82/100\n",
      "10903/10903 [==============================] - 16s 1ms/step - loss: 0.4326 - val_loss: 0.4197\n",
      "Epoch 83/100\n",
      "10903/10903 [==============================] - 16s 1ms/step - loss: 0.4323 - val_loss: 0.4189\n",
      "Epoch 84/100\n",
      "10903/10903 [==============================] - 16s 1ms/step - loss: 0.4322 - val_loss: 0.4179\n",
      "Epoch 85/100\n",
      "10903/10903 [==============================] - 16s 1ms/step - loss: 0.4328 - val_loss: 0.4195\n",
      "Epoch 86/100\n",
      "10903/10903 [==============================] - 16s 1ms/step - loss: 0.4325 - val_loss: 0.4180\n",
      "Epoch 87/100\n",
      "10903/10903 [==============================] - 16s 1ms/step - loss: 0.4327 - val_loss: 0.4191\n",
      "Epoch 88/100\n",
      "10903/10903 [==============================] - 16s 1ms/step - loss: 0.4325 - val_loss: 0.4180\n",
      "Epoch 89/100\n",
      "10903/10903 [==============================] - 16s 1ms/step - loss: 0.4321 - val_loss: 0.4185\n",
      "Epoch 90/100\n",
      "10903/10903 [==============================] - 16s 1ms/step - loss: 0.4330 - val_loss: 0.4176\n",
      "Epoch 91/100\n",
      "10903/10903 [==============================] - 16s 1ms/step - loss: 0.4322 - val_loss: 0.4186\n",
      "Epoch 92/100\n",
      "10903/10903 [==============================] - 16s 1ms/step - loss: 0.4323 - val_loss: 0.4188\n",
      "Epoch 93/100\n",
      "10903/10903 [==============================] - 16s 1ms/step - loss: 0.4323 - val_loss: 0.4182\n",
      "Epoch 94/100\n",
      "10903/10903 [==============================] - 16s 1ms/step - loss: 0.4322 - val_loss: 0.4187\n",
      "Epoch 95/100\n",
      "10903/10903 [==============================] - 16s 1ms/step - loss: 0.4324 - val_loss: 0.4181\n",
      "Epoch 96/100\n",
      "10903/10903 [==============================] - 16s 1ms/step - loss: 0.4325 - val_loss: 0.4178\n",
      "Epoch 97/100\n",
      "10903/10903 [==============================] - 15s 1ms/step - loss: 0.4324 - val_loss: 0.4180\n",
      "Epoch 98/100\n",
      "10903/10903 [==============================] - 16s 1ms/step - loss: 0.4325 - val_loss: 0.4176\n",
      "Epoch 99/100\n",
      "10903/10903 [==============================] - 16s 1ms/step - loss: 0.4318 - val_loss: 0.4180\n",
      "Epoch 100/100\n",
      "10903/10903 [==============================] - 16s 1ms/step - loss: 0.4322 - val_loss: 0.4177\n"
     ]
    },
    {
     "data": {
      "text/plain": [
       "<keras.src.callbacks.History at 0x262da979290>"
      ]
     },
     "execution_count": 52,
     "metadata": {},
     "output_type": "execute_result"
    }
   ],
   "source": [
    "model2.fit(x=x_train1, \n",
    "          y=y_train1, \n",
    "          epochs=100,\n",
    "          validation_data=(x_test1, y_test1), verbose=1,\n",
    "          callbacks=[early_stop]\n",
    "          )"
   ]
  },
  {
   "cell_type": "code",
   "execution_count": 53,
   "metadata": {},
   "outputs": [
    {
     "name": "stdout",
     "output_type": "stream",
     "text": [
      "10903/10903 [==============================] - 10s 890us/step\n",
      "3635/3635 [==============================] - 3s 815us/step\n",
      "Training Results\n",
      "\n",
      "              precision    recall  f1-score   support\n",
      "\n",
      "           0       0.80      0.81      0.80    174285\n",
      "           1       0.81      0.80      0.80    174595\n",
      "\n",
      "    accuracy                           0.80    348880\n",
      "   macro avg       0.80      0.80      0.80    348880\n",
      "weighted avg       0.80      0.80      0.80    348880\n",
      "\n",
      "Testing Results\n",
      "\n",
      "              precision    recall  f1-score   support\n",
      "\n",
      "           0       0.81      0.80      0.80     58302\n",
      "           1       0.80      0.81      0.80     57992\n",
      "\n",
      "    accuracy                           0.80    116294\n",
      "   macro avg       0.80      0.80      0.80    116294\n",
      "weighted avg       0.80      0.80      0.80    116294\n",
      "\n"
     ]
    }
   ],
   "source": [
    "ypred_train13 = model2.predict(x_train1)\n",
    "y_pred_test13 = model2.predict(x_test1)\n",
    "\n",
    "y_pred_test13 = (y_pred_test13 > 0.5)\n",
    "ypred_train13 = (ypred_train13 > 0.5)\n",
    "\n",
    "print(\"Training Results\\n\")\n",
    "print(classification_report(y_train1,ypred_train13))\n",
    "print(\"Testing Results\\n\")\n",
    "print(classification_report(y_test1,y_pred_test13))"
   ]
  },
  {
   "cell_type": "code",
   "execution_count": 54,
   "metadata": {},
   "outputs": [
    {
     "name": "stdout",
     "output_type": "stream",
     "text": [
      "3635/3635 [==============================] - 3s 897us/step\n"
     ]
    },
    {
     "data": {
      "image/png": "[encoded data removed]",
      "text/plain": [
       "<Figure size 640x480 with 1 Axes>"
      ]
     },
     "metadata": {},
     "output_type": "display_data"
    }
   ],
   "source": [
    "# cross_val_scores = cross_val_score(model2, x_train1, y_train1, cv=5)\n",
    "# print(\"Cross-Validation Scores for the Best Model:\", cross_val_scores)\n",
    "# print(\"Average Cross-Validation Score:\", cross_val_scores.mean())\n",
    "y_proba_test = model2.predict(x_test1).flatten()\n",
    "\n",
    "fpr, tpr, thresholds = roc_curve(y_test1, y_proba_test)\n",
    "\n",
    "plt.plot(fpr, tpr, label='ROC Curve')\n",
    "plt.xlabel('False Positive Rate')\n",
    "plt.ylabel('True Positive Rate')\n",
    "plt.title('ROC Curve with AUC = {:.2f}'.format(roc_auc_score(y_test1, y_proba_test)))\n",
    "plt.legend(loc='lower right')\n",
    "plt.grid(True)\n",
    "plt.show()"
   ]
  },
  {
   "cell_type": "markdown",
   "metadata": {},
   "source": [
    "## SVC"
   ]
  },
  {
   "cell_type": "code",
   "execution_count": 55,
   "metadata": {},
   "outputs": [],
   "source": [
    "# model3 = SVC(probability=True)"
   ]
  },
  {
   "cell_type": "code",
   "execution_count": 56,
   "metadata": {},
   "outputs": [],
   "source": [
    "# model3.fit(x_train1,y_train1)"
   ]
  },
  {
   "cell_type": "code",
   "execution_count": 57,
   "metadata": {},
   "outputs": [],
   "source": [
    "# ypred_train141 = model3.predict(x_train1)\n",
    "# y_pred_test141 = model3.predict(x_test1)\n",
    "\n",
    "\n",
    "# print(classification_report(y_train1,ypred_train141))\n",
    "# print(classification_report(y_test1,y_pred_test141))"
   ]
  },
  {
   "cell_type": "code",
   "execution_count": 58,
   "metadata": {},
   "outputs": [],
   "source": [
    "# param_grid = {'C': [0.1,1, 10, 100, 1000], 'gamma': [1,0.1,0.01,0.001,0.0001], 'kernel': ['rbf']} "
   ]
  },
  {
   "cell_type": "code",
   "execution_count": 59,
   "metadata": {},
   "outputs": [],
   "source": [
    "# grid = GridSearchCV(SVC(),param_grid,refit=True,verbose=3)"
   ]
  },
  {
   "cell_type": "code",
   "execution_count": 60,
   "metadata": {},
   "outputs": [],
   "source": [
    "# grid.fit(x_train1,y_train1)"
   ]
  },
  {
   "cell_type": "code",
   "execution_count": 61,
   "metadata": {},
   "outputs": [],
   "source": [
    "# grid.best_params_"
   ]
  },
  {
   "cell_type": "code",
   "execution_count": 62,
   "metadata": {},
   "outputs": [],
   "source": [
    "# grid.best_estimator_"
   ]
  },
  {
   "cell_type": "code",
   "execution_count": 63,
   "metadata": {},
   "outputs": [],
   "source": [
    "# ypred_train = grid.predict(x_train1)\n",
    "# y_pred_test = grid.predict(x_test1)\n",
    "\n",
    "\n",
    "# print(classification_report(y_train1,ypred_train))\n",
    "# print(classification_report(y_test1,y_pred_test))"
   ]
  },
  {
   "cell_type": "code",
   "execution_count": 64,
   "metadata": {},
   "outputs": [],
   "source": [
    "\n",
    "# y_proba_test = grid.predict_proba(x_test1)[:, 1]\n",
    "\n",
    "# fpr, tpr, thresholds = roc_curve(y_test1, y_proba_test)\n",
    "\n",
    "# plt.plot(fpr, tpr, label='ROC Curve')\n",
    "# plt.xlabel('False Positive Rate')\n",
    "# plt.ylabel('True Positive Rate')\n",
    "# plt.title('ROC Curve with AUC = {:.2f}'.format(roc_auc_score(y_test1, y_proba_test)))\n",
    "# plt.legend(loc='lower right')\n",
    "# plt.grid(True)\n",
    "# plt.show()"
   ]
  },
  {
   "cell_type": "code",
   "execution_count": 65,
   "metadata": {},
   "outputs": [
    {
     "name": "stdout",
     "output_type": "stream",
     "text": [
      "Training Results\n",
      "\n",
      "              precision    recall  f1-score   support\n",
      "\n",
      "           0       0.80      0.85      0.82    174285\n",
      "           1       0.84      0.79      0.81    174595\n",
      "\n",
      "    accuracy                           0.82    348880\n",
      "   macro avg       0.82      0.82      0.82    348880\n",
      "weighted avg       0.82      0.82      0.82    348880\n",
      "\n",
      "Testing Results\n",
      "\n",
      "              precision    recall  f1-score   support\n",
      "\n",
      "           0       0.80      0.84      0.82     58302\n",
      "           1       0.83      0.79      0.81     57992\n",
      "\n",
      "    accuracy                           0.82    116294\n",
      "   macro avg       0.82      0.82      0.82    116294\n",
      "weighted avg       0.82      0.82      0.82    116294\n",
      "\n"
     ]
    },
    {
     "data": {
      "image/png": "[encoded data removed]",
      "text/plain": [
       "<Figure size 640x480 with 1 Axes>"
      ]
     },
     "metadata": {},
     "output_type": "display_data"
    }
   ],
   "source": [
    "model3 = SVC(C=0.1, gamma=1, kernel='rbf', probability=True)\n",
    "model3.fit(x_train1, y_train1)\n",
    "\n",
    "ypred_train14 = model3.predict(x_train1)\n",
    "y_pred_test14 = model3.predict(x_test1)\n",
    "\n",
    "print(\"Training Results\\n\")\n",
    "print(classification_report(y_train1, ypred_train14))\n",
    "print(\"Testing Results\\n\")\n",
    "print(classification_report(y_test1, y_pred_test14))\n",
    "\n",
    "# cross_val_scores = cross_val_score(model3, x_train1, y_train1, cv=5)\n",
    "# print(\"Cross-Validation Scores for the Best Model:\", cross_val_scores)\n",
    "# print(\"Average Cross-Validation Score:\", cross_val_scores.mean())\n",
    "y_proba_test = model3.predict_proba(x_test1)[:, 1]\n",
    "fpr, tpr, thresholds = roc_curve(y_test1, y_proba_test)\n",
    "plt.plot(fpr, tpr, label='ROC Curve')\n",
    "plt.xlabel('False Positive Rate')\n",
    "plt.ylabel('True Positive Rate')\n",
    "plt.title('ROC Curve with AUC = {:.2f}'.format(roc_auc_score(y_test1, y_proba_test)))\n",
    "plt.legend(loc='lower right')\n",
    "plt.grid(True)\n",
    "plt.show()"
   ]
  }
 ],
 "metadata": {
  "kernelspec": {
   "display_name": "Python 3",
   "language": "python",
   "name": "python3"
  },
  "language_info": {
   "codemirror_mode": {
    "name": "ipython",
    "version": 3
   },
   "file_extension": ".py",
   "mimetype": "text/x-python",
   "name": "python",
   "nbconvert_exporter": "python",
   "pygments_lexer": "ipython3",
   "version": "0.0.0"
  }
 },
 "nbformat": 4,
 "nbformat_minor": 2
}
