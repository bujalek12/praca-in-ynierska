{
 "cells": [
  {
   "cell_type": "code",
   "execution_count": 1,
   "metadata": {},
   "outputs": [
    {
     "name": "stdout",
     "output_type": "stream",
     "text": [
      "WARNING:tensorflow:From C:\\Users\\DELL\\AppData\\Roaming\\Python\\Python311\\site-packages\\keras\\src\\losses.py:2976: The name tf.losses.sparse_softmax_cross_entropy is deprecated. Please use tf.compat.v1.losses.sparse_softmax_cross_entropy instead.\n",
      "\n"
     ]
    }
   ],
   "source": [
    "import pandas as pd\n",
    "import numpy as np\n",
    "import matplotlib.pyplot as plt\n",
    "import plotly.express as px\n",
    "from sklearn.preprocessing import LabelEncoder\n",
    "from sklearn.preprocessing import RobustScaler , MinMaxScaler, StandardScaler\n",
    "import seaborn as sns\n",
    "from sklearn.metrics import roc_curve\n",
    "from sklearn.metrics import roc_auc_score\n",
    "import tensorflow as tf\n",
    "from keras.preprocessing.image import ImageDataGenerator\n",
    "from tensorflow.keras.layers import Dropout\n",
    "from tensorflow.keras.models import Sequential\n",
    "from tensorflow.keras.layers import Dense, Activation\n",
    "from tensorflow.keras.callbacks import EarlyStopping\n",
    "from tensorflow.keras.layers import Input,Flatten,Conv1D,MaxPooling1D\n",
    "from sklearn.metrics import classification_report\n",
    "import warnings\n",
    "warnings.filterwarnings('ignore')\n",
    "import missingno as msno\n",
    "from sklearn.model_selection import train_test_split\n",
    "from sklearn.metrics import accuracy_score\n",
    "from sklearn.metrics import mean_absolute_error , mean_absolute_percentage_error , mean_squared_error\n",
    "from sklearn.metrics import r2_score\n",
    "from sklearn.metrics import confusion_matrix\n",
    "from sklearn.model_selection import cross_val_score\n",
    "from sklearn.metrics import RocCurveDisplay\n",
    "from sklearn.model_selection import RepeatedStratifiedKFold\n",
    "from sklearn.metrics import accuracy_score, precision_score, recall_score, f1_score\n",
    "from sklearn.model_selection import GridSearchCV\n",
    "from sklearn.tree import DecisionTreeClassifier\n",
    "from sklearn.ensemble import RandomForestClassifier\n",
    "from sklearn.naive_bayes import GaussianNB\n",
    "from xgboost import XGBClassifier\n",
    "from sklearn.linear_model import LogisticRegression\n",
    "from sklearn.svm import SVC\n",
    "from sklearn.decomposition import PCA\n",
    "from sklearn.ensemble import GradientBoostingClassifier\n",
    "from sklearn.neighbors import KNeighborsClassifier\n",
    "from keras.layers import LSTM\n",
    "from imblearn.over_sampling import ADASYN\n",
    "from sklearn.preprocessing import MinMaxScaler\n"
   ]
  },
  {
   "cell_type": "markdown",
   "metadata": {},
   "source": [
    "## ADASYN Random over-sampling Evaluation"
   ]
  },
  {
   "cell_type": "code",
   "execution_count": 2,
   "metadata": {},
   "outputs": [
    {
     "data": {
      "text/html": [
       "<div>\n",
       "<style scoped>\n",
       "    .dataframe tbody tr th:only-of-type {\n",
       "        vertical-align: middle;\n",
       "    }\n",
       "\n",
       "    .dataframe tbody tr th {\n",
       "        vertical-align: top;\n",
       "    }\n",
       "\n",
       "    .dataframe thead th {\n",
       "        text-align: right;\n",
       "    }\n",
       "</style>\n",
       "<table border=\"1\" class=\"dataframe\">\n",
       "  <thead>\n",
       "    <tr style=\"text-align: right;\">\n",
       "      <th></th>\n",
       "      <th>Sex</th>\n",
       "      <th>GeneralHealth</th>\n",
       "      <th>PhysicalHealthDays</th>\n",
       "      <th>MentalHealthDays</th>\n",
       "      <th>PhysicalActivities</th>\n",
       "      <th>SleepHours</th>\n",
       "      <th>HadHeartAttack</th>\n",
       "      <th>HadAngina</th>\n",
       "      <th>HadStroke</th>\n",
       "      <th>HadAsthma</th>\n",
       "      <th>...</th>\n",
       "      <th>AgeCategory</th>\n",
       "      <th>HeightInMeters</th>\n",
       "      <th>WeightInKilograms</th>\n",
       "      <th>BMI</th>\n",
       "      <th>AlcoholDrinkers</th>\n",
       "      <th>HIVTesting</th>\n",
       "      <th>FluVaxLast12</th>\n",
       "      <th>PneumoVaxEver</th>\n",
       "      <th>HighRiskLastYear</th>\n",
       "      <th>CovidPos</th>\n",
       "    </tr>\n",
       "  </thead>\n",
       "  <tbody>\n",
       "    <tr>\n",
       "      <th>0</th>\n",
       "      <td>0</td>\n",
       "      <td>2</td>\n",
       "      <td>4</td>\n",
       "      <td>0</td>\n",
       "      <td>1</td>\n",
       "      <td>9</td>\n",
       "      <td>0</td>\n",
       "      <td>0</td>\n",
       "      <td>0</td>\n",
       "      <td>0</td>\n",
       "      <td>...</td>\n",
       "      <td>10</td>\n",
       "      <td>1.60</td>\n",
       "      <td>71.67</td>\n",
       "      <td>27.99</td>\n",
       "      <td>0</td>\n",
       "      <td>0</td>\n",
       "      <td>1</td>\n",
       "      <td>1</td>\n",
       "      <td>0</td>\n",
       "      <td>0</td>\n",
       "    </tr>\n",
       "    <tr>\n",
       "      <th>1</th>\n",
       "      <td>1</td>\n",
       "      <td>2</td>\n",
       "      <td>0</td>\n",
       "      <td>0</td>\n",
       "      <td>1</td>\n",
       "      <td>6</td>\n",
       "      <td>0</td>\n",
       "      <td>0</td>\n",
       "      <td>0</td>\n",
       "      <td>0</td>\n",
       "      <td>...</td>\n",
       "      <td>11</td>\n",
       "      <td>1.78</td>\n",
       "      <td>95.25</td>\n",
       "      <td>30.13</td>\n",
       "      <td>0</td>\n",
       "      <td>0</td>\n",
       "      <td>1</td>\n",
       "      <td>1</td>\n",
       "      <td>0</td>\n",
       "      <td>0</td>\n",
       "    </tr>\n",
       "    <tr>\n",
       "      <th>2</th>\n",
       "      <td>1</td>\n",
       "      <td>2</td>\n",
       "      <td>0</td>\n",
       "      <td>0</td>\n",
       "      <td>0</td>\n",
       "      <td>8</td>\n",
       "      <td>0</td>\n",
       "      <td>0</td>\n",
       "      <td>0</td>\n",
       "      <td>0</td>\n",
       "      <td>...</td>\n",
       "      <td>12</td>\n",
       "      <td>1.85</td>\n",
       "      <td>108.86</td>\n",
       "      <td>31.66</td>\n",
       "      <td>1</td>\n",
       "      <td>0</td>\n",
       "      <td>0</td>\n",
       "      <td>1</td>\n",
       "      <td>0</td>\n",
       "      <td>1</td>\n",
       "    </tr>\n",
       "    <tr>\n",
       "      <th>3</th>\n",
       "      <td>0</td>\n",
       "      <td>4</td>\n",
       "      <td>5</td>\n",
       "      <td>0</td>\n",
       "      <td>1</td>\n",
       "      <td>9</td>\n",
       "      <td>0</td>\n",
       "      <td>0</td>\n",
       "      <td>0</td>\n",
       "      <td>0</td>\n",
       "      <td>...</td>\n",
       "      <td>13</td>\n",
       "      <td>1.70</td>\n",
       "      <td>90.72</td>\n",
       "      <td>31.32</td>\n",
       "      <td>0</td>\n",
       "      <td>0</td>\n",
       "      <td>1</td>\n",
       "      <td>1</td>\n",
       "      <td>0</td>\n",
       "      <td>1</td>\n",
       "    </tr>\n",
       "    <tr>\n",
       "      <th>4</th>\n",
       "      <td>0</td>\n",
       "      <td>3</td>\n",
       "      <td>3</td>\n",
       "      <td>15</td>\n",
       "      <td>1</td>\n",
       "      <td>5</td>\n",
       "      <td>0</td>\n",
       "      <td>0</td>\n",
       "      <td>0</td>\n",
       "      <td>0</td>\n",
       "      <td>...</td>\n",
       "      <td>13</td>\n",
       "      <td>1.55</td>\n",
       "      <td>79.38</td>\n",
       "      <td>33.07</td>\n",
       "      <td>0</td>\n",
       "      <td>0</td>\n",
       "      <td>1</td>\n",
       "      <td>1</td>\n",
       "      <td>0</td>\n",
       "      <td>0</td>\n",
       "    </tr>\n",
       "  </tbody>\n",
       "</table>\n",
       "<p>5 rows × 36 columns</p>\n",
       "</div>"
      ],
      "text/plain": [
       "   Sex  GeneralHealth  PhysicalHealthDays  MentalHealthDays  \\\n",
       "0    0              2                   4                 0   \n",
       "1    1              2                   0                 0   \n",
       "2    1              2                   0                 0   \n",
       "3    0              4                   5                 0   \n",
       "4    0              3                   3                15   \n",
       "\n",
       "   PhysicalActivities  SleepHours  HadHeartAttack  HadAngina  HadStroke  \\\n",
       "0                   1           9               0          0          0   \n",
       "1                   1           6               0          0          0   \n",
       "2                   0           8               0          0          0   \n",
       "3                   1           9               0          0          0   \n",
       "4                   1           5               0          0          0   \n",
       "\n",
       "   HadAsthma  ...  AgeCategory  HeightInMeters  WeightInKilograms    BMI  \\\n",
       "0          0  ...           10            1.60              71.67  27.99   \n",
       "1          0  ...           11            1.78              95.25  30.13   \n",
       "2          0  ...           12            1.85             108.86  31.66   \n",
       "3          0  ...           13            1.70              90.72  31.32   \n",
       "4          0  ...           13            1.55              79.38  33.07   \n",
       "\n",
       "   AlcoholDrinkers  HIVTesting  FluVaxLast12  PneumoVaxEver  HighRiskLastYear  \\\n",
       "0                0           0             1              1                 0   \n",
       "1                0           0             1              1                 0   \n",
       "2                1           0             0              1                 0   \n",
       "3                0           0             1              1                 0   \n",
       "4                0           0             1              1                 0   \n",
       "\n",
       "   CovidPos  \n",
       "0         0  \n",
       "1         0  \n",
       "2         1  \n",
       "3         1  \n",
       "4         0  \n",
       "\n",
       "[5 rows x 36 columns]"
      ]
     },
     "execution_count": 2,
     "metadata": {},
     "output_type": "execute_result"
    }
   ],
   "source": [
    "df= pd.read_csv('heart2022python.csv')\n",
    "df.head()"
   ]
  },
  {
   "cell_type": "code",
   "execution_count": 3,
   "metadata": {},
   "outputs": [
    {
     "data": {
      "text/plain": [
       "HadHeartAttack\n",
       "0    232587\n",
       "1     13435\n",
       "Name: count, dtype: int64"
      ]
     },
     "execution_count": 3,
     "metadata": {},
     "output_type": "execute_result"
    }
   ],
   "source": [
    "df.drop(['SleepHours',\"DeafOrHardOfHearing\",'BlindOrVisionDifficulty',\"DifficultyConcentrating\",\"DifficultyWalking\",'DifficultyDressingBathing',\"DifficultyErrands\",\"ECigaretteUsage\",\"ChestScan\",'HeightInMeters',\"WeightInKilograms\",\"HIVTesting\",'FluVaxLast12',\"PneumoVaxEver\",\"HighRiskLastYear\",\"CovidPos\"],axis=1,inplace=True)\n",
    "\n",
    "\n",
    "\n",
    "df.shape\n",
    "df['HadHeartAttack'].value_counts()\n"
   ]
  },
  {
   "cell_type": "code",
   "execution_count": 4,
   "metadata": {},
   "outputs": [],
   "source": [
    "df.duplicated().sum()\n",
    "df.drop_duplicates(inplace=True)"
   ]
  },
  {
   "cell_type": "markdown",
   "metadata": {},
   "source": [
    "## splite data"
   ]
  },
  {
   "cell_type": "code",
   "execution_count": 5,
   "metadata": {},
   "outputs": [],
   "source": [
    "x = df.drop([\"HadHeartAttack\"] , axis = 1).values\n",
    "y = df[\"HadHeartAttack\"].values"
   ]
  },
  {
   "cell_type": "code",
   "execution_count": 6,
   "metadata": {},
   "outputs": [],
   "source": [
    "x_AD, y_AD = ADASYN(random_state=42).fit_resample(x, y)\n",
    "x_train3, x_test3, y_train3, y_test3 = train_test_split(x_AD, y_AD, test_size=0.25, random_state=42)"
   ]
  },
  {
   "cell_type": "code",
   "execution_count": 7,
   "metadata": {},
   "outputs": [],
   "source": [
    "from sklearn.preprocessing import MinMaxScaler\n",
    "scaler = MinMaxScaler()\n",
    "x_train3 = scaler.fit_transform(x_train3)\n",
    "x_test3 = scaler.transform(x_test3)"
   ]
  },
  {
   "cell_type": "markdown",
   "metadata": {},
   "source": [
    "## random forest"
   ]
  },
  {
   "cell_type": "code",
   "execution_count": 8,
   "metadata": {},
   "outputs": [
    {
     "name": "stdout",
     "output_type": "stream",
     "text": [
      "Training Results\n",
      "\n",
      "              precision    recall  f1-score   support\n",
      "\n",
      "           0       0.97      0.99      0.98    163590\n",
      "           1       0.99      0.97      0.98    162015\n",
      "\n",
      "    accuracy                           0.98    325605\n",
      "   macro avg       0.98      0.98      0.98    325605\n",
      "weighted avg       0.98      0.98      0.98    325605\n",
      "\n",
      "Test Results\n",
      "\n",
      "              precision    recall  f1-score   support\n",
      "\n",
      "           0       0.96      0.98      0.97     54677\n",
      "           1       0.98      0.96      0.97     53859\n",
      "\n",
      "    accuracy                           0.97    108536\n",
      "   macro avg       0.97      0.97      0.97    108536\n",
      "weighted avg       0.97      0.97      0.97    108536\n",
      "\n",
      "Confusion Matrix:\n",
      " [[53533  1144]\n",
      " [ 2382 51477]]\n"
     ]
    }
   ],
   "source": [
    "\n",
    "\n",
    "# # Inicjalizacja modelu z domyślnymi parametrami\n",
    "# rf = RandomForestClassifier()\n",
    "\n",
    "# # Określenie siatki parametrów do przetestowania\n",
    "# param_grid = {\n",
    "#     'n_estimators': [100, 200, 300],  # Liczba drzew\n",
    "#     'max_depth': [10, 20, 30],        # Maksymalna głębokość drzewa\n",
    "#     'min_samples_split': [2, 4, 6],   # Minimalna liczba próbek wymagana do podziału węzła\n",
    "#     'min_samples_leaf': [1, 2, 4],    # Minimalna liczba próbek wymagana w liściu\n",
    "#     'max_features': ['auto', 'sqrt']  # Liczba cech do rozważenia przy każdym podziale\n",
    "# }\n",
    "\n",
    "# # Utworzenie obiektu GridSearchCV\n",
    "# cv_rf = GridSearchCV(estimator=rf, param_grid=param_grid, cv=5, scoring='accuracy')\n",
    "\n",
    "# # Przeszukiwanie siatki parametrów\n",
    "# cv_rf.fit(x_train3, y_train3)\n",
    "\n",
    "# # Najlepszy zestaw parametrów\n",
    "# print(\"Najlepsze parametry: \", cv_rf.best_params_)\n",
    "\n",
    "# # Najlepszy estimator\n",
    "# best_rf = cv_rf.best_estimator_\n",
    "\n",
    "params = {\n",
    "    'n_estimators': 300,  # Liczba drzew\n",
    "    'max_depth': 30,        # Maksymalna głębokość drzewa\n",
    "    'min_samples_split': 6,   # Minimalna liczba próbek wymagana do podziału węzła\n",
    "    'min_samples_leaf': 2,    # Minimalna liczba próbek wymagana w liściu\n",
    "    'max_features': 'sqrt'  # Liczba cech do rozważenia przy każdym podziale\n",
    "}\n",
    "\n",
    "best_rf = RandomForestClassifier(\n",
    "    n_estimators=params['n_estimators'],\n",
    "    max_depth=params['max_depth'],\n",
    "    min_samples_split=params['min_samples_split'],\n",
    "    min_samples_leaf=params['min_samples_leaf'],\n",
    "    max_features=params['max_features'])\n",
    "best_rf.fit(x_train3, y_train3)\n",
    "\n",
    "# Predykcje i ocena modelu\n",
    "ypred_train = best_rf.predict(x_train3)\n",
    "ypred_test = best_rf.predict(x_test3)\n",
    "\n",
    "print(\"Training Results\\n\")\n",
    "print(classification_report(y_train3, ypred_train))\n",
    "print(\"Test Results\\n\")\n",
    "print(classification_report(y_test3, ypred_test))\n",
    "\n",
    "# Macierz pomyłek\n",
    "conf_matrix = confusion_matrix(y_test3, ypred_test)\n",
    "print(\"Confusion Matrix:\\n\", conf_matrix)\n",
    "\n",
    "# Ocena modelu za pomocą walidacji krzyżowej\n",
    "# cross_val_scores = cross_val_score(best_rf, x_train3, y_train3, cv=5)\n",
    "# print(\"Cross-validation scores:\", cross_val_scores)\n",
    "# print(\"Average cross-validation score:\", np.mean(cross_val_scores))"
   ]
  },
  {
   "cell_type": "code",
   "execution_count": 9,
   "metadata": {},
   "outputs": [
    {
     "data": {
      "image/png": "[encoded data removed]",
      "text/plain": [
       "<Figure size 640x480 with 1 Axes>"
      ]
     },
     "metadata": {},
     "output_type": "display_data"
    }
   ],
   "source": [
    "\n",
    "y_proba_test = best_rf.predict_proba(x_test3)[:, 1]\n",
    "\n",
    "fpr, tpr, thresholds = roc_curve(y_test3, y_proba_test)\n",
    "\n",
    "plt.plot(fpr, tpr, label='ROC Curve')\n",
    "plt.xlabel('False Positive Rate')\n",
    "plt.ylabel('True Positive Rate')\n",
    "plt.title('ROC Curve with AUC = {:.2f}'.format(roc_auc_score(y_test3, y_proba_test)))\n",
    "plt.legend(loc='lower right')\n",
    "plt.grid(True)\n",
    "plt.show()"
   ]
  },
  {
   "cell_type": "markdown",
   "metadata": {},
   "source": [
    "## DECISION TREE CLASSIFIER"
   ]
  },
  {
   "cell_type": "code",
   "execution_count": 10,
   "metadata": {},
   "outputs": [
    {
     "name": "stdout",
     "output_type": "stream",
     "text": [
      "Najlepsze parametry: {'criterion': 'entropy', 'max_depth': None, 'min_samples_leaf': 2, 'min_samples_split': 10}\n",
      "Najlepsza dokładność: 0.9530320480336604\n",
      "Training Results\n",
      "\n",
      "              precision    recall  f1-score   support\n",
      "\n",
      "           0       0.97      0.99      0.98    163590\n",
      "           1       0.99      0.97      0.98    162015\n",
      "\n",
      "    accuracy                           0.98    325605\n",
      "   macro avg       0.98      0.98      0.98    325605\n",
      "weighted avg       0.98      0.98      0.98    325605\n",
      "\n",
      "Testing Results\n",
      "\n",
      "              precision    recall  f1-score   support\n",
      "\n",
      "           0       0.95      0.97      0.96     54677\n",
      "           1       0.96      0.94      0.95     53859\n",
      "\n",
      "    accuracy                           0.95    108536\n",
      "   macro avg       0.95      0.95      0.95    108536\n",
      "weighted avg       0.95      0.95      0.95    108536\n",
      "\n"
     ]
    }
   ],
   "source": [
    "\n",
    "param_grid = {\n",
    "    'max_depth': [3, 5, 10, None],\n",
    "    'min_samples_split': [2, 5, 10],\n",
    "    'min_samples_leaf': [1, 2, 5],\n",
    "    'criterion': ['gini', 'entropy']\n",
    "}\n",
    "\n",
    "# Utworzenie modelu drzewa decyzyjnego\n",
    "tree = DecisionTreeClassifier()\n",
    "\n",
    "# Uruchomienie Grid Search z walidacją krzyżową\n",
    "grid_search = GridSearchCV(tree, param_grid, cv=5, scoring='accuracy')\n",
    "grid_search.fit(x_train3, y_train3)\n",
    "\n",
    "# Wyświetlenie najlepszych parametrów i wyników\n",
    "print(\"Najlepsze parametry:\", grid_search.best_params_)\n",
    "print(\"Najlepsza dokładność:\", grid_search.best_score_)\n",
    "\n",
    "# Utworzenie i ocena modelu z najlepszymi parametrami\n",
    "best_tree = grid_search.best_estimator_\n",
    "best_tree.fit(x_train3, y_train3)\n",
    "\n",
    "ypred_train2 = best_tree.predict(x_train3)\n",
    "ypred_test2 = best_tree.predict(x_test3)\n",
    "\n",
    "# Ocena modelu na zbiorze testowym\n",
    "\n",
    "print(\"Training Results\\n\")\n",
    "print(classification_report(y_train3, ypred_train2))\n",
    "print('Testing Results\\n')\n",
    "print(classification_report(y_test3, ypred_test2))\n",
    "\n",
    "# # Dodatkowo: Walidacja krzyżowa dla najlepszego modelu na całym zbiorze danych\n",
    "# cross_val_scores = cross_val_score(best_tree, x_train3, y_train3, cv=5)\n",
    "# print(\"Cross-Validation Scores for the Best Model:\", cross_val_scores)\n",
    "# print(\"Average Cross-Validation Score:\", cross_val_scores.mean())"
   ]
  },
  {
   "cell_type": "code",
   "execution_count": 11,
   "metadata": {},
   "outputs": [
    {
     "data": {
      "image/png": "[encoded data removed]",
      "text/plain": [
       "<Figure size 640x480 with 1 Axes>"
      ]
     },
     "metadata": {},
     "output_type": "display_data"
    }
   ],
   "source": [
    "\n",
    "y_proba_test = best_tree.predict_proba(x_test3)[:, 1]\n",
    "\n",
    "fpr, tpr, thresholds = roc_curve(y_test3, y_proba_test)\n",
    "\n",
    "plt.plot(fpr, tpr, label='ROC Curve')\n",
    "plt.xlabel('False Positive Rate')\n",
    "plt.ylabel('True Positive Rate')\n",
    "plt.title('ROC Curve with AUC = {:.2f}'.format(roc_auc_score(y_test3, y_proba_test)))\n",
    "plt.legend(loc='lower right')\n",
    "plt.grid(True)\n",
    "plt.show()"
   ]
  },
  {
   "cell_type": "markdown",
   "metadata": {},
   "source": [
    "## Naive Bayes"
   ]
  },
  {
   "cell_type": "code",
   "execution_count": 12,
   "metadata": {},
   "outputs": [
    {
     "name": "stdout",
     "output_type": "stream",
     "text": [
      "Naive Bayes Classifier Accuracy:  0.7638295127883836\n"
     ]
    }
   ],
   "source": [
    "Gnb = GaussianNB()\n",
    "Gnb.fit(x_train3, y_train3)\n",
    "ypred_train33 = Gnb.predict(x_train3)\n",
    "y_pred_test33 = Gnb.predict(x_test3)\n",
    "\n",
    "print(\"Naive Bayes Classifier Accuracy: \",accuracy_score(y_test3, y_pred_test33))"
   ]
  },
  {
   "cell_type": "code",
   "execution_count": 13,
   "metadata": {},
   "outputs": [
    {
     "name": "stdout",
     "output_type": "stream",
     "text": [
      "Testing Results\n",
      "\n",
      "              precision    recall  f1-score   support\n",
      "\n",
      "           0       0.74      0.82      0.78    163590\n",
      "           1       0.80      0.70      0.75    162015\n",
      "\n",
      "    accuracy                           0.76    325605\n",
      "   macro avg       0.77      0.76      0.76    325605\n",
      "weighted avg       0.77      0.76      0.76    325605\n",
      "\n"
     ]
    }
   ],
   "source": [
    "print('Testing Results\\n')\n",
    "print(classification_report(y_train3, ypred_train33))"
   ]
  },
  {
   "cell_type": "code",
   "execution_count": 14,
   "metadata": {},
   "outputs": [
    {
     "name": "stdout",
     "output_type": "stream",
     "text": [
      "Testing Results\n",
      "\n",
      "              precision    recall  f1-score   support\n",
      "\n",
      "           0       0.74      0.82      0.78     54677\n",
      "           1       0.79      0.71      0.75     53859\n",
      "\n",
      "    accuracy                           0.76    108536\n",
      "   macro avg       0.77      0.76      0.76    108536\n",
      "weighted avg       0.77      0.76      0.76    108536\n",
      "\n"
     ]
    }
   ],
   "source": [
    "print('Testing Results\\n')\n",
    "print(classification_report(y_test3, y_pred_test33))"
   ]
  },
  {
   "cell_type": "code",
   "execution_count": 15,
   "metadata": {},
   "outputs": [
    {
     "data": {
      "image/png": "[encoded data removed]",
      "text/plain": [
       "<Figure size 640x480 with 1 Axes>"
      ]
     },
     "metadata": {},
     "output_type": "display_data"
    }
   ],
   "source": [
    "# cross_val_scores = cross_val_score(Gnb, x_train3, y_train3, cv=5)\n",
    "# print(\"Cross-Validation Scores for the Best Model:\", cross_val_scores)\n",
    "# print(\"Average Cross-Validation Score:\", cross_val_scores.mean())\n",
    "y_proba_test = Gnb.predict_proba(x_test3)[:, 1]\n",
    "\n",
    "fpr, tpr, thresholds = roc_curve(y_test3, y_proba_test)\n",
    "\n",
    "plt.plot(fpr, tpr, label='ROC Curve')\n",
    "plt.xlabel('False Positive Rate')\n",
    "plt.ylabel('True Positive Rate')\n",
    "plt.title('ROC Curve with AUC = {:.2f}'.format(roc_auc_score(y_test3, y_proba_test)))\n",
    "plt.legend(loc='lower right')\n",
    "plt.grid(True)\n",
    "plt.show()"
   ]
  },
  {
   "cell_type": "markdown",
   "metadata": {},
   "source": [
    "## XGBOSST\n"
   ]
  },
  {
   "cell_type": "code",
   "execution_count": 16,
   "metadata": {},
   "outputs": [
    {
     "name": "stdout",
     "output_type": "stream",
     "text": [
      "Accuracy on Training set:  0.9649513981664901\n",
      "Accuracy on Test set:  0.9633946340384757\n",
      "\n",
      "Training Results\n",
      "\n",
      "              precision    recall  f1-score   support\n",
      "\n",
      "           0       0.95      0.99      0.97    163590\n",
      "           1       0.98      0.94      0.96    162015\n",
      "\n",
      "    accuracy                           0.96    325605\n",
      "   macro avg       0.97      0.96      0.96    325605\n",
      "weighted avg       0.97      0.96      0.96    325605\n",
      "\n",
      "Testing Results\n",
      "\n",
      "              precision    recall  f1-score   support\n",
      "\n",
      "           0       0.95      0.98      0.96     54677\n",
      "           1       0.98      0.94      0.96     53859\n",
      "\n",
      "    accuracy                           0.96    108536\n",
      "   macro avg       0.96      0.96      0.96    108536\n",
      "weighted avg       0.96      0.96      0.96    108536\n",
      "\n"
     ]
    },
    {
     "data": {
      "image/png": "[encoded data removed]",
      "text/plain": [
       "<Figure size 640x480 with 1 Axes>"
      ]
     },
     "metadata": {},
     "output_type": "display_data"
    }
   ],
   "source": [
    "\n",
    "# xg = XGBClassifier()\n",
    "\n",
    "# # Definiowanie siatki hiperparametrów do przetestowania\n",
    "# param_grid = {\n",
    "#     'n_estimators': [50, 100, 200],\n",
    "#     'max_depth': [3, 5, 7],\n",
    "#     'learning_rate': [0.01, 0.1, 0.2],\n",
    "#     'subsample': [0.7, 0.8, 0.9],\n",
    "#     'colsample_bytree': [0.7, 0.8, 0.9]\n",
    "# }\n",
    "\n",
    "# # Utworzenie obiektu GridSearchCV\n",
    "# grid_search = GridSearchCV(estimator=xg, param_grid=param_grid, cv=3, scoring='accuracy')\n",
    "\n",
    "# # Przeszukiwanie siatki parametrów\n",
    "# grid_search.fit(x_train3, y_train3)\n",
    "\n",
    "# # Najlepsze parametry i najlepszy model\n",
    "# print(\"Najlepsze parametry: \", grid_search.best_params_)\n",
    "# best_xg = grid_search.best_estimator_\n",
    "\n",
    "params = {\n",
    "    'n_estimators': 200,\n",
    "    'max_depth': 5,\n",
    "    'learning_rate': 0.2,\n",
    "    'subsample': 0.8,\n",
    "    'colsample_bytree': 0.7\n",
    "}\n",
    "\n",
    "best_xg = XGBClassifier(\n",
    "    n_estimators=params['n_estimators'],\n",
    "    max_depth=params['max_depth'],\n",
    "    learning_rate=params['learning_rate'],\n",
    "    subsample=params['subsample'],\n",
    "    colsample_bytree=params['colsample_bytree'])\n",
    "best_xg.fit(x_train3, y_train3)\n",
    "\n",
    "# Predykcje na zbiorze treningowym i testowym\n",
    "ypred_train4 = best_xg.predict(x_train3)\n",
    "y_pred_test4 = best_xg.predict(x_test3)\n",
    "\n",
    "# Ocena modelu\n",
    "print(\"Accuracy on Training set: \", accuracy_score(y_train3, ypred_train4))\n",
    "print(\"Accuracy on Test set: \", accuracy_score(y_test3, y_pred_test4))\n",
    "print(\"\\nTraining Results\\n\")\n",
    "print(classification_report(y_train3, ypred_train4))\n",
    "print('Testing Results\\n')\n",
    "print(classification_report(y_test3, y_pred_test4))\n",
    "\n",
    "# cross_val_scores = cross_val_score(best_xg, x_train3, y_train3, cv=5)\n",
    "# print(\"Cross-Validation Scores for the Best Model:\", cross_val_scores)\n",
    "# print(\"Average Cross-Validation Score:\", cross_val_scores.mean())\n",
    "\n",
    "# Krzywa ROC\n",
    "y_proba_test4 = best_xg.predict_proba(x_test3)[:, 1]\n",
    "fpr, tpr, thresholds = roc_curve(y_test3, y_proba_test4)\n",
    "plt.plot(fpr, tpr)\n",
    "plt.title(\"ROC Curve with AUC = {:.2f}\".format(roc_auc_score(y_test3, y_proba_test4)))\n",
    "plt.show()"
   ]
  },
  {
   "cell_type": "markdown",
   "metadata": {},
   "source": [
    "## logistic regression"
   ]
  },
  {
   "cell_type": "code",
   "execution_count": 17,
   "metadata": {},
   "outputs": [
    {
     "name": "stdout",
     "output_type": "stream",
     "text": [
      "Accuracy on Training set:  0.7957494510219437\n",
      "Accuracy on Test set:  0.7973391317166655\n",
      "\n",
      "Training Results\n",
      "\n",
      "              precision    recall  f1-score   support\n",
      "\n",
      "           0       0.77      0.85      0.81    163590\n",
      "           1       0.83      0.74      0.78    162015\n",
      "\n",
      "    accuracy                           0.80    325605\n",
      "   macro avg       0.80      0.80      0.80    325605\n",
      "weighted avg       0.80      0.80      0.80    325605\n",
      "\n",
      "Testing Results\n",
      "\n",
      "              precision    recall  f1-score   support\n",
      "\n",
      "           0       0.77      0.85      0.81     54677\n",
      "           1       0.83      0.75      0.79     53859\n",
      "\n",
      "    accuracy                           0.80    108536\n",
      "   macro avg       0.80      0.80      0.80    108536\n",
      "weighted avg       0.80      0.80      0.80    108536\n",
      "\n"
     ]
    },
    {
     "data": {
      "image/png": "[encoded data removed]",
      "text/plain": [
       "<Figure size 640x480 with 1 Axes>"
      ]
     },
     "metadata": {},
     "output_type": "display_data"
    }
   ],
   "source": [
    "\n",
    "# lg = LogisticRegression()\n",
    "\n",
    "# # Definiowanie siatki hiperparametrów do przetestowania\n",
    "# param_grid = {\n",
    "#     'C': [0.01, 0.1, 1, 10, 100],  # Parametr regularyzacji\n",
    "#     'penalty': ['l1', 'l2'],       # Typ regularyzacji\n",
    "#     'solver': ['liblinear']        # Algorytm optymalizacji (liblinear jest dobrym wyborem dla małych zbiorów danych)\n",
    "# }\n",
    "\n",
    "# # Utworzenie obiektu GridSearchCV\n",
    "# grid_search = GridSearchCV(estimator=lg, param_grid=param_grid, cv=5, scoring='accuracy')\n",
    "\n",
    "# # Przeszukiwanie siatki parametrów\n",
    "# grid_search.fit(x_train3, y_train3)\n",
    "\n",
    "# # Najlepsze parametry i najlepszy model\n",
    "# print(\"Najlepsze parametry: \", grid_search.best_params_)\n",
    "# best_lg = grid_search.best_estimator_\n",
    "\n",
    "params = {\n",
    "    'C': 0.01,\n",
    "    'penalty': 'l1',\n",
    "    'solver': 'liblinear'\n",
    "}\n",
    "\n",
    "best_lg = LogisticRegression(\n",
    "    C=params['C'],\n",
    "    penalty=params['penalty'],\n",
    "    solver=params['solver'])\n",
    "best_lg.fit(x_train3, y_train3)\n",
    "\n",
    "\n",
    "# Predykcje na zbiorze treningowym i testowym\n",
    "ypred_train4 = best_lg.predict(x_train3)\n",
    "y_pred_test4 = best_lg.predict(x_test3)\n",
    "\n",
    "# Ocena modelu\n",
    "print(\"Accuracy on Training set: \", accuracy_score(y_train3, ypred_train4))\n",
    "print(\"Accuracy on Test set: \", accuracy_score(y_test3, y_pred_test4))\n",
    "print(\"\\nTraining Results\\n\")\n",
    "print(classification_report(y_train3, ypred_train4))\n",
    "print('Testing Results\\n')\n",
    "print(classification_report(y_test3, y_pred_test4))\n",
    "\n",
    "# cross_val_scores = cross_val_score(best_lg, x_train3, y_train3, cv=5)\n",
    "# print(\"Cross-Validation Scores for the Best Model:\", cross_val_scores)\n",
    "# print(\"Average Cross-Validation Score:\", cross_val_scores.mean())\n",
    "\n",
    "# Krzywa ROC\n",
    "y_proba_test4 = best_lg.predict_proba(x_test3)[:, 1]\n",
    "fpr, tpr, thresholds = roc_curve(y_test3, y_proba_test4)\n",
    "plt.plot(fpr, tpr)\n",
    "plt.title(\"ROC Curve with AUC = {:.2f}\".format(roc_auc_score(y_test3, y_proba_test4)))\n",
    "plt.show()"
   ]
  },
  {
   "cell_type": "markdown",
   "metadata": {},
   "source": [
    "## GradientBoostingClassifier"
   ]
  },
  {
   "cell_type": "code",
   "execution_count": 18,
   "metadata": {},
   "outputs": [
    {
     "name": "stdout",
     "output_type": "stream",
     "text": [
      "Accuracy on Training set:  0.9676110624836842\n",
      "Accuracy on Test set:  0.9651083511461634\n",
      "\n",
      "Training Results\n",
      "\n",
      "              precision    recall  f1-score   support\n",
      "\n",
      "           0       0.95      0.99      0.97    163590\n",
      "           1       0.99      0.95      0.97    162015\n",
      "\n",
      "    accuracy                           0.97    325605\n",
      "   macro avg       0.97      0.97      0.97    325605\n",
      "weighted avg       0.97      0.97      0.97    325605\n",
      "\n",
      "Testing Results\n",
      "\n",
      "              precision    recall  f1-score   support\n",
      "\n",
      "           0       0.95      0.98      0.97     54677\n",
      "           1       0.98      0.95      0.96     53859\n",
      "\n",
      "    accuracy                           0.97    108536\n",
      "   macro avg       0.97      0.96      0.97    108536\n",
      "weighted avg       0.97      0.97      0.97    108536\n",
      "\n"
     ]
    },
    {
     "data": {
      "image/png": "[encoded data removed]",
      "text/plain": [
       "<Figure size 640x480 with 1 Axes>"
      ]
     },
     "metadata": {},
     "output_type": "display_data"
    }
   ],
   "source": [
    "\n",
    "\n",
    "# # Inicjalizacja modelu Gradient Boosting Classifier\n",
    "# gb = GradientBoostingClassifier()\n",
    "\n",
    "# # Definiowanie siatki hiperparametrów do przetestowania\n",
    "# param_grid = {\n",
    "#     'n_estimators': [100, 200, 300],  # Liczba drzew w ensemble\n",
    "#     'learning_rate': [0.01, 0.1, 0.2], # Szybkość uczenia\n",
    "#     'max_depth': [3, 5, 7],            # Maksymalna głębokość drzewa\n",
    "#     'min_samples_split': [2, 4],       # Minimalna liczba próbek wymagana do podziału węzła\n",
    "#     'min_samples_leaf': [1, 2]         # Minimalna liczba próbek w liściu\n",
    "# }\n",
    "\n",
    "# # Utworzenie obiektu GridSearchCV\n",
    "# grid_search = GridSearchCV(estimator=gb, param_grid=param_grid, cv=5, scoring='accuracy')\n",
    "\n",
    "# # Przeszukiwanie siatki parametrów\n",
    "# grid_search.fit(x_train3, y_train3)\n",
    "\n",
    "# # Najlepsze parametry i najlepszy model\n",
    "# print(\"Najlepsze parametry: \", grid_search.best_params_)\n",
    "# best_gb = grid_search.best_estimator_\n",
    "\n",
    "params = {\n",
    "    'n_estimators': 200,\n",
    "    'learning_rate': 0.2,\n",
    "    'max_depth': 5,\n",
    "    'min_samples_split': 2,\n",
    "    'min_samples_leaf': 1\n",
    "}\n",
    "\n",
    "best_gb = GradientBoostingClassifier(\n",
    "    n_estimators=params['n_estimators'],\n",
    "    learning_rate=params['learning_rate'],\n",
    "    max_depth=params['max_depth'],\n",
    "    min_samples_split=params['min_samples_split'],\n",
    "    min_samples_leaf=params['min_samples_leaf'])\n",
    "best_gb.fit(x_train3, y_train3)\n",
    "\n",
    "# Predykcje na zbiorze treningowym i testowym\n",
    "ypred_train6 = best_gb.predict(x_train3)\n",
    "y_pred_test6 = best_gb.predict(x_test3)\n",
    "\n",
    "# Ocena modelu\n",
    "print(\"Accuracy on Training set: \", accuracy_score(y_train3, ypred_train6))\n",
    "print(\"Accuracy on Test set: \", accuracy_score(y_test3, y_pred_test6))\n",
    "print(\"\\nTraining Results\\n\")\n",
    "print(classification_report(y_train3, ypred_train6))\n",
    "print('Testing Results\\n')\n",
    "print(classification_report(y_test3, y_pred_test6))\n",
    "\n",
    "# cross_val_scores = cross_val_score(best_gb, x_train3, y_train3, cv=5)\n",
    "# print(\"Cross-Validation Scores for the Best Model:\", cross_val_scores)\n",
    "# print(\"Average Cross-Validation Score:\", cross_val_scores.mean())\n",
    "\n",
    "# Krzywa ROC\n",
    "y_proba_test6 = best_gb.predict_proba(x_test3)[:, 1]\n",
    "fpr, tpr, thresholds = roc_curve(y_test3, y_proba_test6)\n",
    "plt.plot(fpr, tpr)\n",
    "plt.title(\"ROC Curve with AUC = {:.2f}\".format(roc_auc_score(y_test3, y_proba_test6)))\n",
    "plt.show()"
   ]
  },
  {
   "cell_type": "markdown",
   "metadata": {},
   "source": [
    "## KNN"
   ]
  },
  {
   "cell_type": "code",
   "execution_count": 19,
   "metadata": {},
   "outputs": [
    {
     "data": {
      "text/html": [
       "<style>#sk-container-id-1 {color: black;}#sk-container-id-1 pre{padding: 0;}#sk-container-id-1 div.sk-toggleable {background-color: white;}#sk-container-id-1 label.sk-toggleable__label {cursor: pointer;display: block;width: 100%;margin-bottom: 0;padding: 0.3em;box-sizing: border-box;text-align: center;}#sk-container-id-1 label.sk-toggleable__label-arrow:before {content: \"▸\";float: left;margin-right: 0.25em;color: #696969;}#sk-container-id-1 label.sk-toggleable__label-arrow:hover:before {color: black;}#sk-container-id-1 div.sk-estimator:hover label.sk-toggleable__label-arrow:before {color: black;}#sk-container-id-1 div.sk-toggleable__content {max-height: 0;max-width: 0;overflow: hidden;text-align: left;background-color: #f0f8ff;}#sk-container-id-1 div.sk-toggleable__content pre {margin: 0.2em;color: black;border-radius: 0.25em;background-color: #f0f8ff;}#sk-container-id-1 input.sk-toggleable__control:checked~div.sk-toggleable__content {max-height: 200px;max-width: 100%;overflow: auto;}#sk-container-id-1 input.sk-toggleable__control:checked~label.sk-toggleable__label-arrow:before {content: \"▾\";}#sk-container-id-1 div.sk-estimator input.sk-toggleable__control:checked~label.sk-toggleable__label {background-color: #d4ebff;}#sk-container-id-1 div.sk-label input.sk-toggleable__control:checked~label.sk-toggleable__label {background-color: #d4ebff;}#sk-container-id-1 input.sk-hidden--visually {border: 0;clip: rect(1px 1px 1px 1px);clip: rect(1px, 1px, 1px, 1px);height: 1px;margin: -1px;overflow: hidden;padding: 0;position: absolute;width: 1px;}#sk-container-id-1 div.sk-estimator {font-family: monospace;background-color: #f0f8ff;border: 1px dotted black;border-radius: 0.25em;box-sizing: border-box;margin-bottom: 0.5em;}#sk-container-id-1 div.sk-estimator:hover {background-color: #d4ebff;}#sk-container-id-1 div.sk-parallel-item::after {content: \"\";width: 100%;border-bottom: 1px solid gray;flex-grow: 1;}#sk-container-id-1 div.sk-label:hover label.sk-toggleable__label {background-color: #d4ebff;}#sk-container-id-1 div.sk-serial::before {content: \"\";position: absolute;border-left: 1px solid gray;box-sizing: border-box;top: 0;bottom: 0;left: 50%;z-index: 0;}#sk-container-id-1 div.sk-serial {display: flex;flex-direction: column;align-items: center;background-color: white;padding-right: 0.2em;padding-left: 0.2em;position: relative;}#sk-container-id-1 div.sk-item {position: relative;z-index: 1;}#sk-container-id-1 div.sk-parallel {display: flex;align-items: stretch;justify-content: center;background-color: white;position: relative;}#sk-container-id-1 div.sk-item::before, #sk-container-id-1 div.sk-parallel-item::before {content: \"\";position: absolute;border-left: 1px solid gray;box-sizing: border-box;top: 0;bottom: 0;left: 50%;z-index: -1;}#sk-container-id-1 div.sk-parallel-item {display: flex;flex-direction: column;z-index: 1;position: relative;background-color: white;}#sk-container-id-1 div.sk-parallel-item:first-child::after {align-self: flex-end;width: 50%;}#sk-container-id-1 div.sk-parallel-item:last-child::after {align-self: flex-start;width: 50%;}#sk-container-id-1 div.sk-parallel-item:only-child::after {width: 0;}#sk-container-id-1 div.sk-dashed-wrapped {border: 1px dashed gray;margin: 0 0.4em 0.5em 0.4em;box-sizing: border-box;padding-bottom: 0.4em;background-color: white;}#sk-container-id-1 div.sk-label label {font-family: monospace;font-weight: bold;display: inline-block;line-height: 1.2em;}#sk-container-id-1 div.sk-label-container {text-align: center;}#sk-container-id-1 div.sk-container {/* jupyter's `normalize.less` sets `[hidden] { display: none; }` but bootstrap.min.css set `[hidden] { display: none !important; }` so we also need the `!important` here to be able to override the default hidden behavior on the sphinx rendered scikit-learn.org. See: https://github.com/scikit-learn/scikit-learn/issues/21755 */display: inline-block !important;position: relative;}#sk-container-id-1 div.sk-text-repr-fallback {display: none;}</style><div id=\"sk-container-id-1\" class=\"sk-top-container\"><div class=\"sk-text-repr-fallback\"><pre>KNeighborsClassifier()</pre><b>In a Jupyter environment, please rerun this cell to show the HTML representation or trust the notebook. <br />On GitHub, the HTML representation is unable to render, please try loading this page with nbviewer.org.</b></div><div class=\"sk-container\" hidden><div class=\"sk-item\"><div class=\"sk-estimator sk-toggleable\"><input class=\"sk-toggleable__control sk-hidden--visually\" id=\"sk-estimator-id-1\" type=\"checkbox\" checked><label for=\"sk-estimator-id-1\" class=\"sk-toggleable__label sk-toggleable__label-arrow\">KNeighborsClassifier</label><div class=\"sk-toggleable__content\"><pre>KNeighborsClassifier()</pre></div></div></div></div></div>"
      ],
      "text/plain": [
       "KNeighborsClassifier()"
      ]
     },
     "execution_count": 19,
     "metadata": {},
     "output_type": "execute_result"
    }
   ],
   "source": [
    "knn = KNeighborsClassifier()\n",
    "knn.fit(x_train3, y_train3)"
   ]
  },
  {
   "cell_type": "code",
   "execution_count": 20,
   "metadata": {},
   "outputs": [],
   "source": [
    "grid_cv = GridSearchCV(KNeighborsClassifier(), \n",
    "                       param_grid={\n",
    "                           \"n_neighbors\": range(1, 50)\n",
    "                       }, cv=5, scoring=\"f1\", \n",
    "                       verbose=1, n_jobs=6)"
   ]
  },
  {
   "cell_type": "code",
   "execution_count": 21,
   "metadata": {},
   "outputs": [
    {
     "name": "stdout",
     "output_type": "stream",
     "text": [
      "Fitting 5 folds for each of 49 candidates, totalling 245 fits\n"
     ]
    },
    {
     "data": {
      "text/html": [
       "<style>#sk-container-id-2 {color: black;}#sk-container-id-2 pre{padding: 0;}#sk-container-id-2 div.sk-toggleable {background-color: white;}#sk-container-id-2 label.sk-toggleable__label {cursor: pointer;display: block;width: 100%;margin-bottom: 0;padding: 0.3em;box-sizing: border-box;text-align: center;}#sk-container-id-2 label.sk-toggleable__label-arrow:before {content: \"▸\";float: left;margin-right: 0.25em;color: #696969;}#sk-container-id-2 label.sk-toggleable__label-arrow:hover:before {color: black;}#sk-container-id-2 div.sk-estimator:hover label.sk-toggleable__label-arrow:before {color: black;}#sk-container-id-2 div.sk-toggleable__content {max-height: 0;max-width: 0;overflow: hidden;text-align: left;background-color: #f0f8ff;}#sk-container-id-2 div.sk-toggleable__content pre {margin: 0.2em;color: black;border-radius: 0.25em;background-color: #f0f8ff;}#sk-container-id-2 input.sk-toggleable__control:checked~div.sk-toggleable__content {max-height: 200px;max-width: 100%;overflow: auto;}#sk-container-id-2 input.sk-toggleable__control:checked~label.sk-toggleable__label-arrow:before {content: \"▾\";}#sk-container-id-2 div.sk-estimator input.sk-toggleable__control:checked~label.sk-toggleable__label {background-color: #d4ebff;}#sk-container-id-2 div.sk-label input.sk-toggleable__control:checked~label.sk-toggleable__label {background-color: #d4ebff;}#sk-container-id-2 input.sk-hidden--visually {border: 0;clip: rect(1px 1px 1px 1px);clip: rect(1px, 1px, 1px, 1px);height: 1px;margin: -1px;overflow: hidden;padding: 0;position: absolute;width: 1px;}#sk-container-id-2 div.sk-estimator {font-family: monospace;background-color: #f0f8ff;border: 1px dotted black;border-radius: 0.25em;box-sizing: border-box;margin-bottom: 0.5em;}#sk-container-id-2 div.sk-estimator:hover {background-color: #d4ebff;}#sk-container-id-2 div.sk-parallel-item::after {content: \"\";width: 100%;border-bottom: 1px solid gray;flex-grow: 1;}#sk-container-id-2 div.sk-label:hover label.sk-toggleable__label {background-color: #d4ebff;}#sk-container-id-2 div.sk-serial::before {content: \"\";position: absolute;border-left: 1px solid gray;box-sizing: border-box;top: 0;bottom: 0;left: 50%;z-index: 0;}#sk-container-id-2 div.sk-serial {display: flex;flex-direction: column;align-items: center;background-color: white;padding-right: 0.2em;padding-left: 0.2em;position: relative;}#sk-container-id-2 div.sk-item {position: relative;z-index: 1;}#sk-container-id-2 div.sk-parallel {display: flex;align-items: stretch;justify-content: center;background-color: white;position: relative;}#sk-container-id-2 div.sk-item::before, #sk-container-id-2 div.sk-parallel-item::before {content: \"\";position: absolute;border-left: 1px solid gray;box-sizing: border-box;top: 0;bottom: 0;left: 50%;z-index: -1;}#sk-container-id-2 div.sk-parallel-item {display: flex;flex-direction: column;z-index: 1;position: relative;background-color: white;}#sk-container-id-2 div.sk-parallel-item:first-child::after {align-self: flex-end;width: 50%;}#sk-container-id-2 div.sk-parallel-item:last-child::after {align-self: flex-start;width: 50%;}#sk-container-id-2 div.sk-parallel-item:only-child::after {width: 0;}#sk-container-id-2 div.sk-dashed-wrapped {border: 1px dashed gray;margin: 0 0.4em 0.5em 0.4em;box-sizing: border-box;padding-bottom: 0.4em;background-color: white;}#sk-container-id-2 div.sk-label label {font-family: monospace;font-weight: bold;display: inline-block;line-height: 1.2em;}#sk-container-id-2 div.sk-label-container {text-align: center;}#sk-container-id-2 div.sk-container {/* jupyter's `normalize.less` sets `[hidden] { display: none; }` but bootstrap.min.css set `[hidden] { display: none !important; }` so we also need the `!important` here to be able to override the default hidden behavior on the sphinx rendered scikit-learn.org. See: https://github.com/scikit-learn/scikit-learn/issues/21755 */display: inline-block !important;position: relative;}#sk-container-id-2 div.sk-text-repr-fallback {display: none;}</style><div id=\"sk-container-id-2\" class=\"sk-top-container\"><div class=\"sk-text-repr-fallback\"><pre>GridSearchCV(cv=5, estimator=KNeighborsClassifier(), n_jobs=6,\n",
       "             param_grid={&#x27;n_neighbors&#x27;: range(1, 50)}, scoring=&#x27;f1&#x27;, verbose=1)</pre><b>In a Jupyter environment, please rerun this cell to show the HTML representation or trust the notebook. <br />On GitHub, the HTML representation is unable to render, please try loading this page with nbviewer.org.</b></div><div class=\"sk-container\" hidden><div class=\"sk-item sk-dashed-wrapped\"><div class=\"sk-label-container\"><div class=\"sk-label sk-toggleable\"><input class=\"sk-toggleable__control sk-hidden--visually\" id=\"sk-estimator-id-2\" type=\"checkbox\" ><label for=\"sk-estimator-id-2\" class=\"sk-toggleable__label sk-toggleable__label-arrow\">GridSearchCV</label><div class=\"sk-toggleable__content\"><pre>GridSearchCV(cv=5, estimator=KNeighborsClassifier(), n_jobs=6,\n",
       "             param_grid={&#x27;n_neighbors&#x27;: range(1, 50)}, scoring=&#x27;f1&#x27;, verbose=1)</pre></div></div></div><div class=\"sk-parallel\"><div class=\"sk-parallel-item\"><div class=\"sk-item\"><div class=\"sk-label-container\"><div class=\"sk-label sk-toggleable\"><input class=\"sk-toggleable__control sk-hidden--visually\" id=\"sk-estimator-id-3\" type=\"checkbox\" ><label for=\"sk-estimator-id-3\" class=\"sk-toggleable__label sk-toggleable__label-arrow\">estimator: KNeighborsClassifier</label><div class=\"sk-toggleable__content\"><pre>KNeighborsClassifier()</pre></div></div></div><div class=\"sk-serial\"><div class=\"sk-item\"><div class=\"sk-estimator sk-toggleable\"><input class=\"sk-toggleable__control sk-hidden--visually\" id=\"sk-estimator-id-4\" type=\"checkbox\" ><label for=\"sk-estimator-id-4\" class=\"sk-toggleable__label sk-toggleable__label-arrow\">KNeighborsClassifier</label><div class=\"sk-toggleable__content\"><pre>KNeighborsClassifier()</pre></div></div></div></div></div></div></div></div></div></div>"
      ],
      "text/plain": [
       "GridSearchCV(cv=5, estimator=KNeighborsClassifier(), n_jobs=6,\n",
       "             param_grid={'n_neighbors': range(1, 50)}, scoring='f1', verbose=1)"
      ]
     },
     "execution_count": 21,
     "metadata": {},
     "output_type": "execute_result"
    }
   ],
   "source": [
    "grid_cv.fit(x_train3, \n",
    "            y_train3)"
   ]
  },
  {
   "cell_type": "code",
   "execution_count": 22,
   "metadata": {},
   "outputs": [
    {
     "data": {
      "text/plain": [
       "0.9546542084160128"
      ]
     },
     "execution_count": 22,
     "metadata": {},
     "output_type": "execute_result"
    }
   ],
   "source": [
    "grid_cv.best_score_"
   ]
  },
  {
   "cell_type": "code",
   "execution_count": 23,
   "metadata": {},
   "outputs": [
    {
     "data": {
      "text/html": [
       "<style>#sk-container-id-3 {color: black;}#sk-container-id-3 pre{padding: 0;}#sk-container-id-3 div.sk-toggleable {background-color: white;}#sk-container-id-3 label.sk-toggleable__label {cursor: pointer;display: block;width: 100%;margin-bottom: 0;padding: 0.3em;box-sizing: border-box;text-align: center;}#sk-container-id-3 label.sk-toggleable__label-arrow:before {content: \"▸\";float: left;margin-right: 0.25em;color: #696969;}#sk-container-id-3 label.sk-toggleable__label-arrow:hover:before {color: black;}#sk-container-id-3 div.sk-estimator:hover label.sk-toggleable__label-arrow:before {color: black;}#sk-container-id-3 div.sk-toggleable__content {max-height: 0;max-width: 0;overflow: hidden;text-align: left;background-color: #f0f8ff;}#sk-container-id-3 div.sk-toggleable__content pre {margin: 0.2em;color: black;border-radius: 0.25em;background-color: #f0f8ff;}#sk-container-id-3 input.sk-toggleable__control:checked~div.sk-toggleable__content {max-height: 200px;max-width: 100%;overflow: auto;}#sk-container-id-3 input.sk-toggleable__control:checked~label.sk-toggleable__label-arrow:before {content: \"▾\";}#sk-container-id-3 div.sk-estimator input.sk-toggleable__control:checked~label.sk-toggleable__label {background-color: #d4ebff;}#sk-container-id-3 div.sk-label input.sk-toggleable__control:checked~label.sk-toggleable__label {background-color: #d4ebff;}#sk-container-id-3 input.sk-hidden--visually {border: 0;clip: rect(1px 1px 1px 1px);clip: rect(1px, 1px, 1px, 1px);height: 1px;margin: -1px;overflow: hidden;padding: 0;position: absolute;width: 1px;}#sk-container-id-3 div.sk-estimator {font-family: monospace;background-color: #f0f8ff;border: 1px dotted black;border-radius: 0.25em;box-sizing: border-box;margin-bottom: 0.5em;}#sk-container-id-3 div.sk-estimator:hover {background-color: #d4ebff;}#sk-container-id-3 div.sk-parallel-item::after {content: \"\";width: 100%;border-bottom: 1px solid gray;flex-grow: 1;}#sk-container-id-3 div.sk-label:hover label.sk-toggleable__label {background-color: #d4ebff;}#sk-container-id-3 div.sk-serial::before {content: \"\";position: absolute;border-left: 1px solid gray;box-sizing: border-box;top: 0;bottom: 0;left: 50%;z-index: 0;}#sk-container-id-3 div.sk-serial {display: flex;flex-direction: column;align-items: center;background-color: white;padding-right: 0.2em;padding-left: 0.2em;position: relative;}#sk-container-id-3 div.sk-item {position: relative;z-index: 1;}#sk-container-id-3 div.sk-parallel {display: flex;align-items: stretch;justify-content: center;background-color: white;position: relative;}#sk-container-id-3 div.sk-item::before, #sk-container-id-3 div.sk-parallel-item::before {content: \"\";position: absolute;border-left: 1px solid gray;box-sizing: border-box;top: 0;bottom: 0;left: 50%;z-index: -1;}#sk-container-id-3 div.sk-parallel-item {display: flex;flex-direction: column;z-index: 1;position: relative;background-color: white;}#sk-container-id-3 div.sk-parallel-item:first-child::after {align-self: flex-end;width: 50%;}#sk-container-id-3 div.sk-parallel-item:last-child::after {align-self: flex-start;width: 50%;}#sk-container-id-3 div.sk-parallel-item:only-child::after {width: 0;}#sk-container-id-3 div.sk-dashed-wrapped {border: 1px dashed gray;margin: 0 0.4em 0.5em 0.4em;box-sizing: border-box;padding-bottom: 0.4em;background-color: white;}#sk-container-id-3 div.sk-label label {font-family: monospace;font-weight: bold;display: inline-block;line-height: 1.2em;}#sk-container-id-3 div.sk-label-container {text-align: center;}#sk-container-id-3 div.sk-container {/* jupyter's `normalize.less` sets `[hidden] { display: none; }` but bootstrap.min.css set `[hidden] { display: none !important; }` so we also need the `!important` here to be able to override the default hidden behavior on the sphinx rendered scikit-learn.org. See: https://github.com/scikit-learn/scikit-learn/issues/21755 */display: inline-block !important;position: relative;}#sk-container-id-3 div.sk-text-repr-fallback {display: none;}</style><div id=\"sk-container-id-3\" class=\"sk-top-container\"><div class=\"sk-text-repr-fallback\"><pre>KNeighborsClassifier(n_neighbors=1)</pre><b>In a Jupyter environment, please rerun this cell to show the HTML representation or trust the notebook. <br />On GitHub, the HTML representation is unable to render, please try loading this page with nbviewer.org.</b></div><div class=\"sk-container\" hidden><div class=\"sk-item\"><div class=\"sk-estimator sk-toggleable\"><input class=\"sk-toggleable__control sk-hidden--visually\" id=\"sk-estimator-id-5\" type=\"checkbox\" checked><label for=\"sk-estimator-id-5\" class=\"sk-toggleable__label sk-toggleable__label-arrow\">KNeighborsClassifier</label><div class=\"sk-toggleable__content\"><pre>KNeighborsClassifier(n_neighbors=1)</pre></div></div></div></div></div>"
      ],
      "text/plain": [
       "KNeighborsClassifier(n_neighbors=1)"
      ]
     },
     "execution_count": 23,
     "metadata": {},
     "output_type": "execute_result"
    }
   ],
   "source": [
    "knn = grid_cv.best_estimator_\n",
    "knn"
   ]
  },
  {
   "cell_type": "code",
   "execution_count": 24,
   "metadata": {},
   "outputs": [
    {
     "name": "stdout",
     "output_type": "stream",
     "text": [
      "XGBClassifier Accuracy:  0.9597000073708263\n"
     ]
    }
   ],
   "source": [
    "ypred_train83 = grid_cv.predict(x_train3)\n",
    "y_pred_test83 = grid_cv.predict(x_test3)\n",
    "print(\"XGBClassifier Accuracy: \",accuracy_score(y_test3, y_pred_test83))"
   ]
  },
  {
   "cell_type": "code",
   "execution_count": 25,
   "metadata": {},
   "outputs": [
    {
     "name": "stdout",
     "output_type": "stream",
     "text": [
      "Training Results\n",
      "\n",
      "              precision    recall  f1-score   support\n",
      "\n",
      "           0       1.00      1.00      1.00    163590\n",
      "           1       1.00      1.00      1.00    162015\n",
      "\n",
      "    accuracy                           1.00    325605\n",
      "   macro avg       1.00      1.00      1.00    325605\n",
      "weighted avg       1.00      1.00      1.00    325605\n",
      "\n"
     ]
    }
   ],
   "source": [
    "print(\"Training Results\\n\")\n",
    "print(classification_report(y_train3, ypred_train83))"
   ]
  },
  {
   "cell_type": "code",
   "execution_count": 26,
   "metadata": {},
   "outputs": [
    {
     "name": "stdout",
     "output_type": "stream",
     "text": [
      "Testing Results\n",
      "\n",
      "              precision    recall  f1-score   support\n",
      "\n",
      "           0       0.98      0.94      0.96     54677\n",
      "           1       0.94      0.98      0.96     53859\n",
      "\n",
      "    accuracy                           0.96    108536\n",
      "   macro avg       0.96      0.96      0.96    108536\n",
      "weighted avg       0.96      0.96      0.96    108536\n",
      "\n"
     ]
    }
   ],
   "source": [
    "print('Testing Results\\n')\n",
    "print(classification_report(y_test3, y_pred_test83))"
   ]
  },
  {
   "cell_type": "code",
   "execution_count": 27,
   "metadata": {},
   "outputs": [
    {
     "data": {
      "image/png": "[encoded data removed]",
      "text/plain": [
       "<Figure size 640x480 with 1 Axes>"
      ]
     },
     "metadata": {},
     "output_type": "display_data"
    }
   ],
   "source": [
    "# cross_val_scores = cross_val_score(grid_cv, x_train3, y_train3, cv=5)\n",
    "# print(\"Cross-Validation Scores for the Best Model:\", cross_val_scores)\n",
    "# print(\"Average Cross-Validation Score:\", cross_val_scores.mean())\n",
    "y_proba_test = grid_cv.predict_proba(x_test3)[:, 1]\n",
    "\n",
    "# Obliczanie TPR, FPR i wyznaczanie progów dla krzywej ROC\n",
    "fpr, tpr, thresholds = roc_curve(y_test3, y_proba_test)\n",
    "\n",
    "# Rysowanie krzywej ROC\n",
    "plt.plot(fpr, tpr, label='ROC Curve')\n",
    "plt.xlabel('False Positive Rate')\n",
    "plt.ylabel('True Positive Rate')\n",
    "plt.title('ROC Curve with AUC = {:.2f}'.format(roc_auc_score(y_test3, y_proba_test)))\n",
    "plt.legend(loc='lower right')\n",
    "plt.grid(True)\n",
    "plt.show()"
   ]
  },
  {
   "cell_type": "markdown",
   "metadata": {},
   "source": [
    "## SIECI NEURONOWE"
   ]
  },
  {
   "cell_type": "markdown",
   "metadata": {},
   "source": [
    "## ANN"
   ]
  },
  {
   "cell_type": "code",
   "execution_count": 28,
   "metadata": {},
   "outputs": [
    {
     "name": "stdout",
     "output_type": "stream",
     "text": [
      "WARNING:tensorflow:From C:\\Users\\DELL\\AppData\\Roaming\\Python\\Python311\\site-packages\\keras\\src\\backend.py:873: The name tf.get_default_graph is deprecated. Please use tf.compat.v1.get_default_graph instead.\n",
      "\n"
     ]
    }
   ],
   "source": [
    "ann = tf.keras.models.Sequential()"
   ]
  },
  {
   "cell_type": "code",
   "execution_count": 29,
   "metadata": {},
   "outputs": [],
   "source": [
    "early_stop = EarlyStopping(monitor='val_loss', mode='min', verbose=1, patience=25)\n"
   ]
  },
  {
   "cell_type": "code",
   "execution_count": 30,
   "metadata": {},
   "outputs": [],
   "source": [
    "ann.add(tf.keras.layers.Dense(units=20, activation='relu'))"
   ]
  },
  {
   "cell_type": "code",
   "execution_count": 31,
   "metadata": {},
   "outputs": [],
   "source": [
    "ann.add(tf.keras.layers.Dense(units=6, activation='relu'))"
   ]
  },
  {
   "cell_type": "code",
   "execution_count": 32,
   "metadata": {},
   "outputs": [],
   "source": [
    "ann.add(tf.keras.layers.Dense(units=1, activation='sigmoid'))"
   ]
  },
  {
   "cell_type": "code",
   "execution_count": 33,
   "metadata": {},
   "outputs": [
    {
     "name": "stdout",
     "output_type": "stream",
     "text": [
      "WARNING:tensorflow:From C:\\Users\\DELL\\AppData\\Roaming\\Python\\Python311\\site-packages\\keras\\src\\optimizers\\__init__.py:309: The name tf.train.Optimizer is deprecated. Please use tf.compat.v1.train.Optimizer instead.\n",
      "\n"
     ]
    }
   ],
   "source": [
    "ann.compile(optimizer = 'adam', loss = 'binary_crossentropy', metrics = ['accuracy'])"
   ]
  },
  {
   "cell_type": "code",
   "execution_count": 34,
   "metadata": {},
   "outputs": [
    {
     "name": "stdout",
     "output_type": "stream",
     "text": [
      "Epoch 1/100\n",
      "WARNING:tensorflow:From C:\\Users\\DELL\\AppData\\Roaming\\Python\\Python311\\site-packages\\keras\\src\\utils\\tf_utils.py:492: The name tf.ragged.RaggedTensorValue is deprecated. Please use tf.compat.v1.ragged.RaggedTensorValue instead.\n",
      "\n",
      "WARNING:tensorflow:From C:\\Users\\DELL\\AppData\\Roaming\\Python\\Python311\\site-packages\\keras\\src\\engine\\base_layer_utils.py:384: The name tf.executing_eagerly_outside_functions is deprecated. Please use tf.compat.v1.executing_eagerly_outside_functions instead.\n",
      "\n",
      "10176/10176 [==============================] - 17s 2ms/step - loss: 0.4011 - accuracy: 0.8208 - val_loss: 0.3533 - val_accuracy: 0.8497\n",
      "Epoch 2/100\n",
      "10176/10176 [==============================] - 15s 2ms/step - loss: 0.3260 - accuracy: 0.8620 - val_loss: 0.2997 - val_accuracy: 0.8737\n",
      "Epoch 3/100\n",
      "10176/10176 [==============================] - 15s 1ms/step - loss: 0.2969 - accuracy: 0.8756 - val_loss: 0.2797 - val_accuracy: 0.8856\n",
      "Epoch 4/100\n",
      "10176/10176 [==============================] - 15s 2ms/step - loss: 0.2813 - accuracy: 0.8835 - val_loss: 0.2671 - val_accuracy: 0.8894\n",
      "Epoch 5/100\n",
      "10176/10176 [==============================] - 16s 2ms/step - loss: 0.2720 - accuracy: 0.8882 - val_loss: 0.2718 - val_accuracy: 0.8861\n",
      "Epoch 6/100\n",
      "10176/10176 [==============================] - 15s 2ms/step - loss: 0.2666 - accuracy: 0.8905 - val_loss: 0.2573 - val_accuracy: 0.8934\n",
      "Epoch 7/100\n",
      "10176/10176 [==============================] - 16s 2ms/step - loss: 0.2635 - accuracy: 0.8914 - val_loss: 0.2576 - val_accuracy: 0.8908\n",
      "Epoch 8/100\n",
      "10176/10176 [==============================] - 15s 2ms/step - loss: 0.2611 - accuracy: 0.8922 - val_loss: 0.2505 - val_accuracy: 0.8981\n",
      "Epoch 9/100\n",
      "10176/10176 [==============================] - 15s 1ms/step - loss: 0.2595 - accuracy: 0.8926 - val_loss: 0.2539 - val_accuracy: 0.8976\n",
      "Epoch 10/100\n",
      "10176/10176 [==============================] - 15s 1ms/step - loss: 0.2577 - accuracy: 0.8936 - val_loss: 0.2483 - val_accuracy: 0.8988\n",
      "Epoch 11/100\n",
      "10176/10176 [==============================] - 15s 1ms/step - loss: 0.2564 - accuracy: 0.8942 - val_loss: 0.2476 - val_accuracy: 0.8993\n",
      "Epoch 12/100\n",
      "10176/10176 [==============================] - 15s 1ms/step - loss: 0.2537 - accuracy: 0.8957 - val_loss: 0.2432 - val_accuracy: 0.9026\n",
      "Epoch 13/100\n",
      "10176/10176 [==============================] - 15s 1ms/step - loss: 0.2498 - accuracy: 0.8981 - val_loss: 0.2424 - val_accuracy: 0.9031\n",
      "Epoch 14/100\n",
      "10176/10176 [==============================] - 15s 1ms/step - loss: 0.2478 - accuracy: 0.8992 - val_loss: 0.2531 - val_accuracy: 0.8996\n",
      "Epoch 15/100\n",
      "10176/10176 [==============================] - 15s 1ms/step - loss: 0.2448 - accuracy: 0.9004 - val_loss: 0.2352 - val_accuracy: 0.9065\n",
      "Epoch 16/100\n",
      "10176/10176 [==============================] - 15s 1ms/step - loss: 0.2438 - accuracy: 0.9015 - val_loss: 0.2357 - val_accuracy: 0.9060\n",
      "Epoch 17/100\n",
      "10176/10176 [==============================] - 15s 1ms/step - loss: 0.2428 - accuracy: 0.9018 - val_loss: 0.2384 - val_accuracy: 0.9056\n",
      "Epoch 18/100\n",
      "10176/10176 [==============================] - 16s 2ms/step - loss: 0.2414 - accuracy: 0.9029 - val_loss: 0.2430 - val_accuracy: 0.9046\n",
      "Epoch 19/100\n",
      "10176/10176 [==============================] - 23s 2ms/step - loss: 0.2408 - accuracy: 0.9028 - val_loss: 0.2319 - val_accuracy: 0.9078\n",
      "Epoch 20/100\n",
      "10176/10176 [==============================] - 19s 2ms/step - loss: 0.2397 - accuracy: 0.9033 - val_loss: 0.2407 - val_accuracy: 0.9045\n",
      "Epoch 21/100\n",
      "10176/10176 [==============================] - 18s 2ms/step - loss: 0.2383 - accuracy: 0.9044 - val_loss: 0.2436 - val_accuracy: 0.9030\n",
      "Epoch 22/100\n",
      "10176/10176 [==============================] - 18s 2ms/step - loss: 0.2373 - accuracy: 0.9047 - val_loss: 0.2269 - val_accuracy: 0.9096\n",
      "Epoch 23/100\n",
      "10176/10176 [==============================] - 19s 2ms/step - loss: 0.2332 - accuracy: 0.9060 - val_loss: 0.2179 - val_accuracy: 0.9145\n",
      "Epoch 24/100\n",
      "10176/10176 [==============================] - 23s 2ms/step - loss: 0.2219 - accuracy: 0.9121 - val_loss: 0.2195 - val_accuracy: 0.9153\n",
      "Epoch 25/100\n",
      "10176/10176 [==============================] - 23s 2ms/step - loss: 0.2179 - accuracy: 0.9143 - val_loss: 0.2108 - val_accuracy: 0.9174\n",
      "Epoch 26/100\n",
      "10176/10176 [==============================] - 22s 2ms/step - loss: 0.2156 - accuracy: 0.9150 - val_loss: 0.2122 - val_accuracy: 0.9184\n",
      "Epoch 27/100\n",
      "10176/10176 [==============================] - 20s 2ms/step - loss: 0.2149 - accuracy: 0.9152 - val_loss: 0.2043 - val_accuracy: 0.9199\n",
      "Epoch 28/100\n",
      "10176/10176 [==============================] - 20s 2ms/step - loss: 0.2136 - accuracy: 0.9157 - val_loss: 0.2064 - val_accuracy: 0.9193\n",
      "Epoch 29/100\n",
      "10176/10176 [==============================] - 18s 2ms/step - loss: 0.2122 - accuracy: 0.9165 - val_loss: 0.2151 - val_accuracy: 0.9174\n",
      "Epoch 30/100\n",
      "10176/10176 [==============================] - 17s 2ms/step - loss: 0.2115 - accuracy: 0.9166 - val_loss: 0.2111 - val_accuracy: 0.9177\n",
      "Epoch 31/100\n",
      "10176/10176 [==============================] - 86s 8ms/step - loss: 0.2105 - accuracy: 0.9169 - val_loss: 0.2078 - val_accuracy: 0.9213\n",
      "Epoch 32/100\n",
      "10176/10176 [==============================] - 36s 3ms/step - loss: 0.2095 - accuracy: 0.9174 - val_loss: 0.1998 - val_accuracy: 0.9226\n",
      "Epoch 33/100\n",
      "10176/10176 [==============================] - 23s 2ms/step - loss: 0.2088 - accuracy: 0.9172 - val_loss: 0.2073 - val_accuracy: 0.9198\n",
      "Epoch 34/100\n",
      "10176/10176 [==============================] - 26s 3ms/step - loss: 0.2085 - accuracy: 0.9176 - val_loss: 0.2004 - val_accuracy: 0.9219\n",
      "Epoch 35/100\n",
      "10176/10176 [==============================] - 26s 3ms/step - loss: 0.2074 - accuracy: 0.9178 - val_loss: 0.2079 - val_accuracy: 0.9183\n",
      "Epoch 36/100\n",
      "10176/10176 [==============================] - 23s 2ms/step - loss: 0.2070 - accuracy: 0.9181 - val_loss: 0.2019 - val_accuracy: 0.9213\n",
      "Epoch 37/100\n",
      "10176/10176 [==============================] - 28s 3ms/step - loss: 0.2072 - accuracy: 0.9179 - val_loss: 0.1987 - val_accuracy: 0.9219\n",
      "Epoch 38/100\n",
      "10176/10176 [==============================] - 27s 3ms/step - loss: 0.2067 - accuracy: 0.9179 - val_loss: 0.2019 - val_accuracy: 0.9212\n",
      "Epoch 39/100\n",
      "10176/10176 [==============================] - 21s 2ms/step - loss: 0.2064 - accuracy: 0.9180 - val_loss: 0.1942 - val_accuracy: 0.9253\n",
      "Epoch 40/100\n",
      "10176/10176 [==============================] - 20s 2ms/step - loss: 0.2051 - accuracy: 0.9185 - val_loss: 0.1993 - val_accuracy: 0.9228\n",
      "Epoch 41/100\n",
      "10176/10176 [==============================] - 20s 2ms/step - loss: 0.2051 - accuracy: 0.9187 - val_loss: 0.1949 - val_accuracy: 0.9237\n",
      "Epoch 42/100\n",
      "10176/10176 [==============================] - 19s 2ms/step - loss: 0.2045 - accuracy: 0.9190 - val_loss: 0.2107 - val_accuracy: 0.9173\n",
      "Epoch 43/100\n",
      "10176/10176 [==============================] - 17s 2ms/step - loss: 0.2048 - accuracy: 0.9187 - val_loss: 0.2104 - val_accuracy: 0.9178\n",
      "Epoch 44/100\n",
      "10176/10176 [==============================] - 17s 2ms/step - loss: 0.2052 - accuracy: 0.9186 - val_loss: 0.2008 - val_accuracy: 0.9204\n",
      "Epoch 45/100\n",
      "10176/10176 [==============================] - 17s 2ms/step - loss: 0.2047 - accuracy: 0.9188 - val_loss: 0.2020 - val_accuracy: 0.9204\n",
      "Epoch 46/100\n",
      "10176/10176 [==============================] - 18s 2ms/step - loss: 0.2038 - accuracy: 0.9195 - val_loss: 0.2014 - val_accuracy: 0.9208\n",
      "Epoch 47/100\n",
      "10176/10176 [==============================] - 18s 2ms/step - loss: 0.2038 - accuracy: 0.9193 - val_loss: 0.1932 - val_accuracy: 0.9251\n",
      "Epoch 48/100\n",
      "10176/10176 [==============================] - 18s 2ms/step - loss: 0.2033 - accuracy: 0.9195 - val_loss: 0.2048 - val_accuracy: 0.9172\n",
      "Epoch 49/100\n",
      "10176/10176 [==============================] - 17s 2ms/step - loss: 0.2032 - accuracy: 0.9194 - val_loss: 0.2026 - val_accuracy: 0.9178\n",
      "Epoch 50/100\n",
      "10176/10176 [==============================] - 18s 2ms/step - loss: 0.2034 - accuracy: 0.9195 - val_loss: 0.1942 - val_accuracy: 0.9236\n",
      "Epoch 51/100\n",
      "10176/10176 [==============================] - 18s 2ms/step - loss: 0.2038 - accuracy: 0.9192 - val_loss: 0.1981 - val_accuracy: 0.9228\n",
      "Epoch 52/100\n",
      "10176/10176 [==============================] - 18s 2ms/step - loss: 0.2031 - accuracy: 0.9194 - val_loss: 0.1966 - val_accuracy: 0.9221\n",
      "Epoch 53/100\n",
      "10176/10176 [==============================] - 18s 2ms/step - loss: 0.2032 - accuracy: 0.9195 - val_loss: 0.1959 - val_accuracy: 0.9231\n",
      "Epoch 54/100\n",
      "10176/10176 [==============================] - 19s 2ms/step - loss: 0.2029 - accuracy: 0.9193 - val_loss: 0.1954 - val_accuracy: 0.9232\n",
      "Epoch 55/100\n",
      "10176/10176 [==============================] - 18s 2ms/step - loss: 0.2033 - accuracy: 0.9193 - val_loss: 0.2042 - val_accuracy: 0.9191\n",
      "Epoch 56/100\n",
      "10176/10176 [==============================] - 19s 2ms/step - loss: 0.2025 - accuracy: 0.9201 - val_loss: 0.2086 - val_accuracy: 0.9188\n",
      "Epoch 57/100\n",
      "10176/10176 [==============================] - 18s 2ms/step - loss: 0.2018 - accuracy: 0.9203 - val_loss: 0.1978 - val_accuracy: 0.9227\n",
      "Epoch 58/100\n",
      "10176/10176 [==============================] - 19s 2ms/step - loss: 0.2018 - accuracy: 0.9204 - val_loss: 0.2016 - val_accuracy: 0.9212\n",
      "Epoch 59/100\n",
      "10176/10176 [==============================] - 20s 2ms/step - loss: 0.2020 - accuracy: 0.9200 - val_loss: 0.2044 - val_accuracy: 0.9187\n",
      "Epoch 60/100\n",
      "10176/10176 [==============================] - 20s 2ms/step - loss: 0.2015 - accuracy: 0.9204 - val_loss: 0.1947 - val_accuracy: 0.9239\n",
      "Epoch 61/100\n",
      "10176/10176 [==============================] - 20s 2ms/step - loss: 0.2005 - accuracy: 0.9207 - val_loss: 0.1974 - val_accuracy: 0.9223\n",
      "Epoch 62/100\n",
      "10176/10176 [==============================] - 20s 2ms/step - loss: 0.2007 - accuracy: 0.9206 - val_loss: 0.2021 - val_accuracy: 0.9211\n",
      "Epoch 63/100\n",
      "10176/10176 [==============================] - 20s 2ms/step - loss: 0.2007 - accuracy: 0.9207 - val_loss: 0.2066 - val_accuracy: 0.9183\n",
      "Epoch 64/100\n",
      "10176/10176 [==============================] - 20s 2ms/step - loss: 0.2010 - accuracy: 0.9207 - val_loss: 0.1978 - val_accuracy: 0.9225\n",
      "Epoch 65/100\n",
      "10176/10176 [==============================] - 21s 2ms/step - loss: 0.2007 - accuracy: 0.9208 - val_loss: 0.2064 - val_accuracy: 0.9173\n",
      "Epoch 66/100\n",
      "10176/10176 [==============================] - 21s 2ms/step - loss: 0.2009 - accuracy: 0.9206 - val_loss: 0.1952 - val_accuracy: 0.9236\n",
      "Epoch 67/100\n",
      "10176/10176 [==============================] - 20s 2ms/step - loss: 0.2008 - accuracy: 0.9207 - val_loss: 0.1997 - val_accuracy: 0.9205\n",
      "Epoch 68/100\n",
      "10176/10176 [==============================] - 21s 2ms/step - loss: 0.2008 - accuracy: 0.9205 - val_loss: 0.1985 - val_accuracy: 0.9202\n",
      "Epoch 69/100\n",
      "10176/10176 [==============================] - 21s 2ms/step - loss: 0.2002 - accuracy: 0.9211 - val_loss: 0.2149 - val_accuracy: 0.9166\n",
      "Epoch 70/100\n",
      "10176/10176 [==============================] - 21s 2ms/step - loss: 0.2005 - accuracy: 0.9207 - val_loss: 0.1874 - val_accuracy: 0.9271\n",
      "Epoch 71/100\n",
      "10176/10176 [==============================] - 22s 2ms/step - loss: 0.2000 - accuracy: 0.9211 - val_loss: 0.1994 - val_accuracy: 0.9211\n",
      "Epoch 72/100\n",
      "10176/10176 [==============================] - 22s 2ms/step - loss: 0.2001 - accuracy: 0.9210 - val_loss: 0.1982 - val_accuracy: 0.9227\n",
      "Epoch 73/100\n",
      "10176/10176 [==============================] - 22s 2ms/step - loss: 0.1993 - accuracy: 0.9214 - val_loss: 0.1933 - val_accuracy: 0.9248\n",
      "Epoch 74/100\n",
      "10176/10176 [==============================] - 22s 2ms/step - loss: 0.1999 - accuracy: 0.9211 - val_loss: 0.1930 - val_accuracy: 0.9245\n",
      "Epoch 75/100\n",
      "10176/10176 [==============================] - 22s 2ms/step - loss: 0.1997 - accuracy: 0.9214 - val_loss: 0.1889 - val_accuracy: 0.9265\n",
      "Epoch 76/100\n",
      "10176/10176 [==============================] - 22s 2ms/step - loss: 0.2000 - accuracy: 0.9212 - val_loss: 0.1981 - val_accuracy: 0.9234\n",
      "Epoch 77/100\n",
      "10176/10176 [==============================] - 22s 2ms/step - loss: 0.2001 - accuracy: 0.9211 - val_loss: 0.1953 - val_accuracy: 0.9244\n",
      "Epoch 78/100\n",
      "10176/10176 [==============================] - 22s 2ms/step - loss: 0.1997 - accuracy: 0.9211 - val_loss: 0.1986 - val_accuracy: 0.9220\n",
      "Epoch 79/100\n",
      "10176/10176 [==============================] - 23s 2ms/step - loss: 0.1992 - accuracy: 0.9214 - val_loss: 0.1944 - val_accuracy: 0.9240\n",
      "Epoch 80/100\n",
      "10176/10176 [==============================] - 23s 2ms/step - loss: 0.1993 - accuracy: 0.9214 - val_loss: 0.1927 - val_accuracy: 0.9248\n",
      "Epoch 81/100\n",
      "10176/10176 [==============================] - 22s 2ms/step - loss: 0.2001 - accuracy: 0.9209 - val_loss: 0.2007 - val_accuracy: 0.9203\n",
      "Epoch 82/100\n",
      "10176/10176 [==============================] - 23s 2ms/step - loss: 0.1992 - accuracy: 0.9215 - val_loss: 0.1923 - val_accuracy: 0.9247\n",
      "Epoch 83/100\n",
      "10176/10176 [==============================] - 22s 2ms/step - loss: 0.1983 - accuracy: 0.9217 - val_loss: 0.2006 - val_accuracy: 0.9222\n",
      "Epoch 84/100\n",
      "10176/10176 [==============================] - 22s 2ms/step - loss: 0.1991 - accuracy: 0.9216 - val_loss: 0.2582 - val_accuracy: 0.8906\n",
      "Epoch 85/100\n",
      "10176/10176 [==============================] - 25s 2ms/step - loss: 0.1991 - accuracy: 0.9213 - val_loss: 0.1987 - val_accuracy: 0.9218\n",
      "Epoch 86/100\n",
      "10176/10176 [==============================] - 24s 2ms/step - loss: 0.1981 - accuracy: 0.9221 - val_loss: 0.1967 - val_accuracy: 0.9214\n",
      "Epoch 87/100\n",
      "10176/10176 [==============================] - 24s 2ms/step - loss: 0.1984 - accuracy: 0.9221 - val_loss: 0.1906 - val_accuracy: 0.9253\n",
      "Epoch 88/100\n",
      "10176/10176 [==============================] - 23s 2ms/step - loss: 0.1988 - accuracy: 0.9214 - val_loss: 0.1930 - val_accuracy: 0.9259\n",
      "Epoch 89/100\n",
      "10176/10176 [==============================] - 25s 2ms/step - loss: 0.1989 - accuracy: 0.9216 - val_loss: 0.2005 - val_accuracy: 0.9234\n",
      "Epoch 90/100\n",
      "10176/10176 [==============================] - 25s 2ms/step - loss: 0.1984 - accuracy: 0.9219 - val_loss: 0.1905 - val_accuracy: 0.9266\n",
      "Epoch 91/100\n",
      "10176/10176 [==============================] - 24s 2ms/step - loss: 0.1982 - accuracy: 0.9222 - val_loss: 0.2010 - val_accuracy: 0.9206\n",
      "Epoch 92/100\n",
      "10176/10176 [==============================] - 26s 3ms/step - loss: 0.1976 - accuracy: 0.9221 - val_loss: 0.1901 - val_accuracy: 0.9264\n",
      "Epoch 93/100\n",
      "10176/10176 [==============================] - 27s 3ms/step - loss: 0.1985 - accuracy: 0.9217 - val_loss: 0.1969 - val_accuracy: 0.9229\n",
      "Epoch 94/100\n",
      "10176/10176 [==============================] - 26s 3ms/step - loss: 0.1983 - accuracy: 0.9220 - val_loss: 0.3812 - val_accuracy: 0.8284\n",
      "Epoch 95/100\n",
      "10176/10176 [==============================] - 18s 2ms/step - loss: 0.1972 - accuracy: 0.9223 - val_loss: 0.2028 - val_accuracy: 0.9201\n",
      "Epoch 95: early stopping\n"
     ]
    },
    {
     "data": {
      "text/plain": [
       "<keras.src.callbacks.History at 0x21961511d10>"
      ]
     },
     "execution_count": 34,
     "metadata": {},
     "output_type": "execute_result"
    }
   ],
   "source": [
    "ann.fit(x_train3, y_train3, batch_size = 32, epochs=100,\n",
    "          validation_data=(x_test3, y_test3), verbose=1,\n",
    "          callbacks=[early_stop])"
   ]
  },
  {
   "cell_type": "code",
   "execution_count": 35,
   "metadata": {},
   "outputs": [
    {
     "name": "stdout",
     "output_type": "stream",
     "text": [
      "10176/10176 [==============================] - 13s 1ms/step\n",
      "3392/3392 [==============================] - 4s 1ms/step\n",
      "[[0 0]\n",
      " [0 1]\n",
      " [1 1]\n",
      " ...\n",
      " [0 0]\n",
      " [0 1]\n",
      " [1 1]]\n"
     ]
    }
   ],
   "source": [
    "ypred_train1 = ann.predict(x_train3)\n",
    "y_pred_test1 = ann.predict(x_test3)\n",
    "\n",
    "y_pred_test1 = (y_pred_test1 > 0.5)\n",
    "ypred_train1 = (ypred_train1 > 0.5)\n",
    "print(np.concatenate((y_pred_test1.reshape(len(y_pred_test1),1), y_test3.reshape(len(y_test3),1)),1))"
   ]
  },
  {
   "cell_type": "code",
   "execution_count": 36,
   "metadata": {},
   "outputs": [
    {
     "data": {
      "text/plain": [
       "0.9201094567701039"
      ]
     },
     "execution_count": 36,
     "metadata": {},
     "output_type": "execute_result"
    }
   ],
   "source": [
    "accuracy_score(y_test3, y_pred_test1)"
   ]
  },
  {
   "cell_type": "code",
   "execution_count": 37,
   "metadata": {},
   "outputs": [
    {
     "name": "stdout",
     "output_type": "stream",
     "text": [
      "Training Results\n",
      "\n",
      "              precision    recall  f1-score   support\n",
      "\n",
      "           0       0.89      0.96      0.92    163590\n",
      "           1       0.95      0.88      0.91    162015\n",
      "\n",
      "    accuracy                           0.92    325605\n",
      "   macro avg       0.92      0.92      0.92    325605\n",
      "weighted avg       0.92      0.92      0.92    325605\n",
      "\n"
     ]
    }
   ],
   "source": [
    "print(\"Training Results\\n\")\n",
    "print(classification_report(y_train3, ypred_train1))"
   ]
  },
  {
   "cell_type": "code",
   "execution_count": 38,
   "metadata": {},
   "outputs": [
    {
     "name": "stdout",
     "output_type": "stream",
     "text": [
      "Testing Results\n",
      "\n",
      "              precision    recall  f1-score   support\n",
      "\n",
      "           0       0.89      0.96      0.92     54677\n",
      "           1       0.95      0.88      0.92     53859\n",
      "\n",
      "    accuracy                           0.92    108536\n",
      "   macro avg       0.92      0.92      0.92    108536\n",
      "weighted avg       0.92      0.92      0.92    108536\n",
      "\n"
     ]
    }
   ],
   "source": [
    "print('Testing Results\\n')\n",
    "print(classification_report(y_test3, y_pred_test1))"
   ]
  },
  {
   "cell_type": "code",
   "execution_count": 39,
   "metadata": {},
   "outputs": [
    {
     "name": "stdout",
     "output_type": "stream",
     "text": [
      "3392/3392 [==============================] - 3s 1ms/step\n"
     ]
    },
    {
     "data": {
      "image/png": "[encoded data removed]",
      "text/plain": [
       "<Figure size 640x480 with 1 Axes>"
      ]
     },
     "metadata": {},
     "output_type": "display_data"
    }
   ],
   "source": [
    "# cross_val_scores = cross_val_score(ann, x_train3, y_train3, cv=5)\n",
    "# print(\"Cross-Validation Scores for the Best Model:\", cross_val_scores)\n",
    "# print(\"Average Cross-Validation Score:\", cross_val_scores.mean())\n",
    "y_proba_test = ann.predict(x_test3).flatten()\n",
    "\n",
    "fpr, tpr, thresholds = roc_curve(y_test3, y_proba_test)\n",
    "\n",
    "plt.plot(fpr, tpr, label='ROC Curve')\n",
    "plt.xlabel('False Positive Rate')\n",
    "plt.ylabel('True Positive Rate')\n",
    "plt.title('ROC Curve with AUC = {:.2f}'.format(roc_auc_score(y_test3, y_proba_test)))\n",
    "plt.legend(loc='lower right')\n",
    "plt.grid(True)\n",
    "plt.show()"
   ]
  },
  {
   "cell_type": "markdown",
   "metadata": {},
   "source": [
    "## inne próby sieci neuronowych "
   ]
  },
  {
   "cell_type": "code",
   "execution_count": 40,
   "metadata": {},
   "outputs": [
    {
     "name": "stderr",
     "output_type": "stream",
     "text": [
      "WARNING:absl:`lr` is deprecated in Keras optimizer, please use `learning_rate` or use the legacy optimizer, e.g.,tf.keras.optimizers.legacy.Adam.\n"
     ]
    },
    {
     "name": "stdout",
     "output_type": "stream",
     "text": [
      "Epoch 1/100\n",
      "10176/10176 [==============================] - 19s 2ms/step - loss: 0.3616 - accuracy: 0.8428\n",
      "Epoch 2/100\n",
      "10176/10176 [==============================] - 13s 1ms/step - loss: 0.2752 - accuracy: 0.8889\n",
      "Epoch 3/100\n",
      "10176/10176 [==============================] - 14s 1ms/step - loss: 0.2491 - accuracy: 0.9022\n",
      "Epoch 4/100\n",
      "10176/10176 [==============================] - 18s 2ms/step - loss: 0.2326 - accuracy: 0.9102\n",
      "Epoch 5/100\n",
      "10176/10176 [==============================] - 21s 2ms/step - loss: 0.2220 - accuracy: 0.9144\n",
      "Epoch 6/100\n",
      "10176/10176 [==============================] - 14s 1ms/step - loss: 0.2165 - accuracy: 0.9165\n",
      "Epoch 7/100\n",
      "10176/10176 [==============================] - 19s 2ms/step - loss: 0.2124 - accuracy: 0.9178\n",
      "Epoch 8/100\n",
      "10176/10176 [==============================] - 17s 2ms/step - loss: 0.2082 - accuracy: 0.9197\n",
      "Epoch 9/100\n",
      "10176/10176 [==============================] - 15s 1ms/step - loss: 0.2055 - accuracy: 0.9203\n",
      "Epoch 10/100\n",
      "10176/10176 [==============================] - 14s 1ms/step - loss: 0.2023 - accuracy: 0.9220\n",
      "Epoch 11/100\n",
      "10176/10176 [==============================] - 15s 1ms/step - loss: 0.2010 - accuracy: 0.9221\n",
      "Epoch 12/100\n",
      "10176/10176 [==============================] - 14s 1ms/step - loss: 0.1985 - accuracy: 0.9236\n",
      "Epoch 13/100\n",
      "10176/10176 [==============================] - 13s 1ms/step - loss: 0.1958 - accuracy: 0.9249\n",
      "Epoch 14/100\n",
      "10176/10176 [==============================] - 13s 1ms/step - loss: 0.1940 - accuracy: 0.9256\n",
      "Epoch 15/100\n",
      "10176/10176 [==============================] - 13s 1ms/step - loss: 0.1925 - accuracy: 0.9263\n",
      "Epoch 16/100\n",
      "10176/10176 [==============================] - 13s 1ms/step - loss: 0.1911 - accuracy: 0.9267\n",
      "Epoch 17/100\n",
      "10176/10176 [==============================] - 13s 1ms/step - loss: 0.1907 - accuracy: 0.9269\n",
      "Epoch 18/100\n",
      "10176/10176 [==============================] - 13s 1ms/step - loss: 0.1890 - accuracy: 0.9274\n",
      "Epoch 19/100\n",
      "10176/10176 [==============================] - 14s 1ms/step - loss: 0.1879 - accuracy: 0.9278\n",
      "Epoch 20/100\n",
      "10176/10176 [==============================] - 13s 1ms/step - loss: 0.1867 - accuracy: 0.9287\n",
      "Epoch 21/100\n",
      "10176/10176 [==============================] - 13s 1ms/step - loss: 0.1864 - accuracy: 0.9286\n",
      "Epoch 22/100\n",
      "10176/10176 [==============================] - 13s 1ms/step - loss: 0.1863 - accuracy: 0.9286\n",
      "Epoch 23/100\n",
      "10176/10176 [==============================] - 15s 1ms/step - loss: 0.1851 - accuracy: 0.9287\n",
      "Epoch 24/100\n",
      "10176/10176 [==============================] - 13s 1ms/step - loss: 0.1845 - accuracy: 0.9292\n",
      "Epoch 25/100\n",
      "10176/10176 [==============================] - 14s 1ms/step - loss: 0.1840 - accuracy: 0.9292\n",
      "Epoch 26/100\n",
      "10176/10176 [==============================] - 14s 1ms/step - loss: 0.1840 - accuracy: 0.9291\n",
      "Epoch 27/100\n",
      "10176/10176 [==============================] - 14s 1ms/step - loss: 0.1833 - accuracy: 0.9294\n",
      "Epoch 28/100\n",
      "10176/10176 [==============================] - 14s 1ms/step - loss: 0.1830 - accuracy: 0.9295\n",
      "Epoch 29/100\n",
      "10176/10176 [==============================] - 14s 1ms/step - loss: 0.1824 - accuracy: 0.9297\n",
      "Epoch 30/100\n",
      "10176/10176 [==============================] - 14s 1ms/step - loss: 0.1819 - accuracy: 0.9299\n",
      "Epoch 31/100\n",
      "10176/10176 [==============================] - 13s 1ms/step - loss: 0.1818 - accuracy: 0.9301\n",
      "Epoch 32/100\n",
      "10176/10176 [==============================] - 13s 1ms/step - loss: 0.1815 - accuracy: 0.9302\n",
      "Epoch 33/100\n",
      "10176/10176 [==============================] - 13s 1ms/step - loss: 0.1804 - accuracy: 0.9306\n",
      "Epoch 34/100\n",
      "10176/10176 [==============================] - 14s 1ms/step - loss: 0.1802 - accuracy: 0.9306\n",
      "Epoch 35/100\n",
      "10176/10176 [==============================] - 13s 1ms/step - loss: 0.1799 - accuracy: 0.9307\n",
      "Epoch 36/100\n",
      "10176/10176 [==============================] - 15s 1ms/step - loss: 0.1793 - accuracy: 0.9309\n",
      "Epoch 37/100\n",
      "10176/10176 [==============================] - 14s 1ms/step - loss: 0.1791 - accuracy: 0.9311\n",
      "Epoch 38/100\n",
      "10176/10176 [==============================] - 14s 1ms/step - loss: 0.1788 - accuracy: 0.9312\n",
      "Epoch 39/100\n",
      "10176/10176 [==============================] - 13s 1ms/step - loss: 0.1790 - accuracy: 0.9311\n",
      "Epoch 40/100\n",
      "10176/10176 [==============================] - 13s 1ms/step - loss: 0.1790 - accuracy: 0.9311\n",
      "Epoch 41/100\n",
      "10176/10176 [==============================] - 14s 1ms/step - loss: 0.1791 - accuracy: 0.9310\n",
      "Epoch 42/100\n",
      "10176/10176 [==============================] - 13s 1ms/step - loss: 0.1787 - accuracy: 0.9311\n",
      "Epoch 43/100\n",
      "10176/10176 [==============================] - 13s 1ms/step - loss: 0.1784 - accuracy: 0.9314\n",
      "Epoch 44/100\n",
      "10176/10176 [==============================] - 14s 1ms/step - loss: 0.1776 - accuracy: 0.9316\n",
      "Epoch 45/100\n",
      "10176/10176 [==============================] - 13s 1ms/step - loss: 0.1773 - accuracy: 0.9319\n",
      "Epoch 46/100\n",
      "10176/10176 [==============================] - 14s 1ms/step - loss: 0.1770 - accuracy: 0.9319\n",
      "Epoch 47/100\n",
      "10176/10176 [==============================] - 13s 1ms/step - loss: 0.1771 - accuracy: 0.9318\n",
      "Epoch 48/100\n",
      "10176/10176 [==============================] - 14s 1ms/step - loss: 0.1770 - accuracy: 0.9318\n",
      "Epoch 49/100\n",
      "10176/10176 [==============================] - 14s 1ms/step - loss: 0.1774 - accuracy: 0.9317\n",
      "Epoch 50/100\n",
      "10176/10176 [==============================] - 18s 2ms/step - loss: 0.1761 - accuracy: 0.9323\n",
      "Epoch 51/100\n",
      "10176/10176 [==============================] - 18s 2ms/step - loss: 0.1766 - accuracy: 0.9320\n",
      "Epoch 52/100\n",
      "10176/10176 [==============================] - 14s 1ms/step - loss: 0.1757 - accuracy: 0.9325\n",
      "Epoch 53/100\n",
      "10176/10176 [==============================] - 16s 2ms/step - loss: 0.1761 - accuracy: 0.9324\n",
      "Epoch 54/100\n",
      "10176/10176 [==============================] - 16s 2ms/step - loss: 0.1758 - accuracy: 0.9324\n",
      "Epoch 55/100\n",
      "10176/10176 [==============================] - 15s 1ms/step - loss: 0.1752 - accuracy: 0.9324\n",
      "Epoch 56/100\n",
      "10176/10176 [==============================] - 17s 2ms/step - loss: 0.1754 - accuracy: 0.9325\n",
      "Epoch 57/100\n",
      "10176/10176 [==============================] - 15s 1ms/step - loss: 0.1753 - accuracy: 0.9327\n",
      "Epoch 58/100\n",
      "10176/10176 [==============================] - 19s 2ms/step - loss: 0.1750 - accuracy: 0.9330\n",
      "Epoch 59/100\n",
      "10176/10176 [==============================] - 19s 2ms/step - loss: 0.1751 - accuracy: 0.9327\n",
      "Epoch 60/100\n",
      "10176/10176 [==============================] - 19s 2ms/step - loss: 0.1744 - accuracy: 0.9332\n",
      "Epoch 61/100\n",
      "10176/10176 [==============================] - 20s 2ms/step - loss: 0.1747 - accuracy: 0.9327\n",
      "Epoch 62/100\n",
      "10176/10176 [==============================] - 23s 2ms/step - loss: 0.1750 - accuracy: 0.9328\n",
      "Epoch 63/100\n",
      "10176/10176 [==============================] - 22s 2ms/step - loss: 0.1742 - accuracy: 0.9331\n",
      "Epoch 64/100\n",
      "10176/10176 [==============================] - 23s 2ms/step - loss: 0.1739 - accuracy: 0.9333\n",
      "Epoch 65/100\n",
      "10176/10176 [==============================] - 17s 2ms/step - loss: 0.1745 - accuracy: 0.9332\n",
      "Epoch 66/100\n",
      "10176/10176 [==============================] - 25s 2ms/step - loss: 0.1741 - accuracy: 0.9333\n",
      "Epoch 67/100\n",
      "10176/10176 [==============================] - 19s 2ms/step - loss: 0.1742 - accuracy: 0.9332\n",
      "Epoch 68/100\n",
      "10176/10176 [==============================] - 16s 2ms/step - loss: 0.1736 - accuracy: 0.9334\n",
      "Epoch 69/100\n",
      "10176/10176 [==============================] - 16s 2ms/step - loss: 0.1738 - accuracy: 0.9333\n",
      "Epoch 70/100\n",
      "10176/10176 [==============================] - 15s 1ms/step - loss: 0.1730 - accuracy: 0.9335\n",
      "Epoch 71/100\n",
      "10176/10176 [==============================] - 16s 2ms/step - loss: 0.1735 - accuracy: 0.9336\n",
      "Epoch 72/100\n",
      "10176/10176 [==============================] - 16s 2ms/step - loss: 0.1726 - accuracy: 0.9338\n",
      "Epoch 73/100\n",
      "10176/10176 [==============================] - 18s 2ms/step - loss: 0.1731 - accuracy: 0.9336\n",
      "Epoch 74/100\n",
      "10176/10176 [==============================] - 17s 2ms/step - loss: 0.1727 - accuracy: 0.9339\n",
      "Epoch 75/100\n",
      "10176/10176 [==============================] - 16s 2ms/step - loss: 0.1732 - accuracy: 0.9337\n",
      "Epoch 76/100\n",
      "10176/10176 [==============================] - 18s 2ms/step - loss: 0.1730 - accuracy: 0.9337\n",
      "Epoch 77/100\n",
      "10176/10176 [==============================] - 17s 2ms/step - loss: 0.1727 - accuracy: 0.9338\n",
      "Epoch 78/100\n",
      "10176/10176 [==============================] - 16s 2ms/step - loss: 0.1728 - accuracy: 0.9335\n",
      "Epoch 79/100\n",
      "10176/10176 [==============================] - 16s 2ms/step - loss: 0.1723 - accuracy: 0.9341\n",
      "Epoch 80/100\n",
      "10176/10176 [==============================] - 15s 2ms/step - loss: 0.1728 - accuracy: 0.9336\n",
      "Epoch 81/100\n",
      "10176/10176 [==============================] - 15s 2ms/step - loss: 0.1720 - accuracy: 0.9340\n",
      "Epoch 82/100\n",
      "10176/10176 [==============================] - 15s 2ms/step - loss: 0.1726 - accuracy: 0.9339\n",
      "Epoch 83/100\n",
      "10176/10176 [==============================] - 17s 2ms/step - loss: 0.1723 - accuracy: 0.9338\n",
      "Epoch 84/100\n",
      "10176/10176 [==============================] - 14s 1ms/step - loss: 0.1720 - accuracy: 0.9340\n",
      "Epoch 85/100\n",
      "10176/10176 [==============================] - 17s 2ms/step - loss: 0.1723 - accuracy: 0.9341\n",
      "Epoch 86/100\n",
      "10176/10176 [==============================] - 17s 2ms/step - loss: 0.1719 - accuracy: 0.9342\n",
      "Epoch 87/100\n",
      "10176/10176 [==============================] - 18s 2ms/step - loss: 0.1719 - accuracy: 0.9340\n",
      "Epoch 88/100\n",
      "10176/10176 [==============================] - 18s 2ms/step - loss: 0.1722 - accuracy: 0.9340\n",
      "Epoch 89/100\n",
      "10176/10176 [==============================] - 17s 2ms/step - loss: 0.1719 - accuracy: 0.9339\n",
      "Epoch 90/100\n",
      "10176/10176 [==============================] - 17s 2ms/step - loss: 0.1718 - accuracy: 0.9341\n",
      "Epoch 91/100\n",
      "10176/10176 [==============================] - 19s 2ms/step - loss: 0.1712 - accuracy: 0.9344\n",
      "Epoch 92/100\n",
      "10176/10176 [==============================] - 18s 2ms/step - loss: 0.1715 - accuracy: 0.9344\n",
      "Epoch 93/100\n",
      "10176/10176 [==============================] - 18s 2ms/step - loss: 0.1714 - accuracy: 0.9343\n",
      "Epoch 94/100\n",
      "10176/10176 [==============================] - 17s 2ms/step - loss: 0.1715 - accuracy: 0.9342\n",
      "Epoch 95/100\n",
      "10176/10176 [==============================] - 17s 2ms/step - loss: 0.1714 - accuracy: 0.9342\n",
      "Epoch 96/100\n",
      "10176/10176 [==============================] - 19s 2ms/step - loss: 0.1713 - accuracy: 0.9343\n",
      "Epoch 97/100\n",
      "10176/10176 [==============================] - 16s 2ms/step - loss: 0.1714 - accuracy: 0.9342\n",
      "Epoch 98/100\n",
      "10176/10176 [==============================] - 16s 2ms/step - loss: 0.1710 - accuracy: 0.9343\n",
      "Epoch 99/100\n",
      "10176/10176 [==============================] - 16s 2ms/step - loss: 0.1709 - accuracy: 0.9344\n",
      "Epoch 100/100\n",
      "10176/10176 [==============================] - 16s 2ms/step - loss: 0.1708 - accuracy: 0.9348\n"
     ]
    }
   ],
   "source": [
    "\n",
    "tf.random.set_seed(42)\n",
    "\n",
    "\n",
    "model_2 = tf.keras.Sequential([\n",
    "  tf.keras.layers.Dense(20,activation = 'relu'),\n",
    "  tf.keras.layers.Dense(6,activation = 'relu'),\n",
    "  tf.keras.layers.Dense(6,activation = 'relu'),\n",
    "  tf.keras.layers.Dense(1,activation = 'sigmoid')                            \n",
    "])\n",
    "\n",
    "\n",
    "model_2.compile(loss = 'binary_crossentropy',\n",
    "                optimizer = tf.keras.optimizers.Adam(lr=0.001),\n",
    "                metrics = ['accuracy'])\n",
    "\n",
    "\n",
    "history_2 = model_2.fit(x_train3,y_train3,epochs = 100)"
   ]
  },
  {
   "cell_type": "code",
   "execution_count": 41,
   "metadata": {},
   "outputs": [
    {
     "name": "stdout",
     "output_type": "stream",
     "text": [
      "3392/3392 [==============================] - 4s 1ms/step - loss: 0.1694 - accuracy: 0.9350\n"
     ]
    },
    {
     "data": {
      "text/plain": [
       "[0.1693907529115677, 0.9349985122680664]"
      ]
     },
     "execution_count": 41,
     "metadata": {},
     "output_type": "execute_result"
    }
   ],
   "source": [
    "model_2.evaluate(x_test3,y_test3)"
   ]
  },
  {
   "cell_type": "code",
   "execution_count": 42,
   "metadata": {},
   "outputs": [
    {
     "name": "stdout",
     "output_type": "stream",
     "text": [
      "10176/10176 [==============================] - 12s 1ms/step\n",
      "3392/3392 [==============================] - 4s 1ms/step\n",
      "Training Results\n",
      "\n",
      "              precision    recall  f1-score   support\n",
      "\n",
      "           0       0.91      0.97      0.94    163590\n",
      "           1       0.97      0.90      0.93    162015\n",
      "\n",
      "    accuracy                           0.93    325605\n",
      "   macro avg       0.94      0.93      0.93    325605\n",
      "weighted avg       0.94      0.93      0.93    325605\n",
      "\n",
      "Testing Results\n",
      "\n",
      "              precision    recall  f1-score   support\n",
      "\n",
      "           0       0.91      0.97      0.94     54677\n",
      "           1       0.97      0.90      0.93     53859\n",
      "\n",
      "    accuracy                           0.93    108536\n",
      "   macro avg       0.94      0.93      0.93    108536\n",
      "weighted avg       0.94      0.93      0.93    108536\n",
      "\n"
     ]
    }
   ],
   "source": [
    "ypred_train4 = model_2.predict(x_train3)\n",
    "y_pred_test4 = model_2.predict(x_test3)\n",
    "\n",
    "y_pred_test4 = (y_pred_test4 > 0.5)\n",
    "ypred_train4 = (ypred_train4 > 0.5)\n",
    "\n",
    "print(\"Training Results\\n\")\n",
    "print(classification_report(y_train3,ypred_train4))\n",
    "print(\"Testing Results\\n\")\n",
    "print(classification_report(y_test3,y_pred_test4))"
   ]
  },
  {
   "cell_type": "code",
   "execution_count": 43,
   "metadata": {},
   "outputs": [
    {
     "name": "stdout",
     "output_type": "stream",
     "text": [
      "3392/3392 [==============================] - 4s 1ms/step\n"
     ]
    },
    {
     "data": {
      "image/png": "[encoded data removed]",
      "text/plain": [
       "<Figure size 640x480 with 1 Axes>"
      ]
     },
     "metadata": {},
     "output_type": "display_data"
    }
   ],
   "source": [
    "# cross_val_scores = cross_val_score(model_2, x_train3, y_train3, cv=5)\n",
    "# print(\"Cross-Validation Scores for the Best Model:\", cross_val_scores)\n",
    "# print(\"Average Cross-Validation Score:\", cross_val_scores.mean())\n",
    "y_proba_test = model_2.predict(x_test3).flatten()\n",
    "\n",
    "fpr, tpr, thresholds = roc_curve(y_test3, y_proba_test)\n",
    "\n",
    "plt.plot(fpr, tpr, label='ROC Curve')\n",
    "plt.xlabel('False Positive Rate')\n",
    "plt.ylabel('True Positive Rate')\n",
    "plt.title('ROC Curve with AUC = {:.2f}'.format(roc_auc_score(y_test3, y_proba_test)))\n",
    "plt.legend(loc='lower right')\n",
    "plt.grid(True)\n",
    "plt.show()"
   ]
  },
  {
   "cell_type": "markdown",
   "metadata": {},
   "source": [
    "## inna proba "
   ]
  },
  {
   "cell_type": "code",
   "execution_count": 44,
   "metadata": {},
   "outputs": [
    {
     "name": "stderr",
     "output_type": "stream",
     "text": [
      "WARNING:absl:`lr` is deprecated in Keras optimizer, please use `learning_rate` or use the legacy optimizer, e.g.,tf.keras.optimizers.legacy.Adam.\n"
     ]
    },
    {
     "name": "stdout",
     "output_type": "stream",
     "text": [
      "Epoch 1/100\n",
      "10176/10176 [==============================] - 18s 2ms/step - loss: 0.3398 - accuracy: 0.8542\n",
      "Epoch 2/100\n",
      "10176/10176 [==============================] - 16s 2ms/step - loss: 0.2637 - accuracy: 0.8936\n",
      "Epoch 3/100\n",
      "10176/10176 [==============================] - 16s 2ms/step - loss: 0.2437 - accuracy: 0.9029\n",
      "Epoch 4/100\n",
      "10176/10176 [==============================] - 16s 2ms/step - loss: 0.2311 - accuracy: 0.9085\n",
      "Epoch 5/100\n",
      "10176/10176 [==============================] - 16s 2ms/step - loss: 0.2227 - accuracy: 0.9123\n",
      "Epoch 6/100\n",
      "10176/10176 [==============================] - 16s 2ms/step - loss: 0.2162 - accuracy: 0.9153\n",
      "Epoch 7/100\n",
      "10176/10176 [==============================] - 16s 2ms/step - loss: 0.2121 - accuracy: 0.9172\n",
      "Epoch 8/100\n",
      "10176/10176 [==============================] - 17s 2ms/step - loss: 0.2083 - accuracy: 0.9185\n",
      "Epoch 9/100\n",
      "10176/10176 [==============================] - 16s 2ms/step - loss: 0.2051 - accuracy: 0.9199\n",
      "Epoch 10/100\n",
      "10176/10176 [==============================] - 16s 2ms/step - loss: 0.2030 - accuracy: 0.9209\n",
      "Epoch 11/100\n",
      "10176/10176 [==============================] - 16s 2ms/step - loss: 0.2011 - accuracy: 0.9220\n",
      "Epoch 12/100\n",
      "10176/10176 [==============================] - 17s 2ms/step - loss: 0.1998 - accuracy: 0.9223\n",
      "Epoch 13/100\n",
      "10176/10176 [==============================] - 16s 2ms/step - loss: 0.1976 - accuracy: 0.9234\n",
      "Epoch 14/100\n",
      "10176/10176 [==============================] - 17s 2ms/step - loss: 0.1957 - accuracy: 0.9241\n",
      "Epoch 15/100\n",
      "10176/10176 [==============================] - 17s 2ms/step - loss: 0.1952 - accuracy: 0.9243\n",
      "Epoch 16/100\n",
      "10176/10176 [==============================] - 17s 2ms/step - loss: 0.1933 - accuracy: 0.9252\n",
      "Epoch 17/100\n",
      "10176/10176 [==============================] - 17s 2ms/step - loss: 0.1917 - accuracy: 0.9257\n",
      "Epoch 18/100\n",
      "10176/10176 [==============================] - 18s 2ms/step - loss: 0.1899 - accuracy: 0.9262\n",
      "Epoch 19/100\n",
      "10176/10176 [==============================] - 18s 2ms/step - loss: 0.1884 - accuracy: 0.9267\n",
      "Epoch 20/100\n",
      "10176/10176 [==============================] - 18s 2ms/step - loss: 0.1875 - accuracy: 0.9272\n",
      "Epoch 21/100\n",
      "10176/10176 [==============================] - 18s 2ms/step - loss: 0.1856 - accuracy: 0.9280\n",
      "Epoch 22/100\n",
      "10176/10176 [==============================] - 19s 2ms/step - loss: 0.1843 - accuracy: 0.9282\n",
      "Epoch 23/100\n",
      "10176/10176 [==============================] - 18s 2ms/step - loss: 0.1841 - accuracy: 0.9283\n",
      "Epoch 24/100\n",
      "10176/10176 [==============================] - 19s 2ms/step - loss: 0.1830 - accuracy: 0.9290\n",
      "Epoch 25/100\n",
      "10176/10176 [==============================] - 19s 2ms/step - loss: 0.1818 - accuracy: 0.9296\n",
      "Epoch 26/100\n",
      "10176/10176 [==============================] - 19s 2ms/step - loss: 0.1814 - accuracy: 0.9295\n",
      "Epoch 27/100\n",
      "10176/10176 [==============================] - 19s 2ms/step - loss: 0.1814 - accuracy: 0.9294\n",
      "Epoch 28/100\n",
      "10176/10176 [==============================] - 19s 2ms/step - loss: 0.1807 - accuracy: 0.9295\n",
      "Epoch 29/100\n",
      "10176/10176 [==============================] - 19s 2ms/step - loss: 0.1799 - accuracy: 0.9302\n",
      "Epoch 30/100\n",
      "10176/10176 [==============================] - 19s 2ms/step - loss: 0.1794 - accuracy: 0.9302\n",
      "Epoch 31/100\n",
      "10176/10176 [==============================] - 19s 2ms/step - loss: 0.1785 - accuracy: 0.9306\n",
      "Epoch 32/100\n",
      "10176/10176 [==============================] - 20s 2ms/step - loss: 0.1782 - accuracy: 0.9306\n",
      "Epoch 33/100\n",
      "10176/10176 [==============================] - 19s 2ms/step - loss: 0.1775 - accuracy: 0.9308\n",
      "Epoch 34/100\n",
      "10176/10176 [==============================] - 19s 2ms/step - loss: 0.1772 - accuracy: 0.9308\n",
      "Epoch 35/100\n",
      "10176/10176 [==============================] - 20s 2ms/step - loss: 0.1767 - accuracy: 0.9311\n",
      "Epoch 36/100\n",
      "10176/10176 [==============================] - 19s 2ms/step - loss: 0.1761 - accuracy: 0.9315\n",
      "Epoch 37/100\n",
      "10176/10176 [==============================] - 19s 2ms/step - loss: 0.1752 - accuracy: 0.9316\n",
      "Epoch 38/100\n",
      "10176/10176 [==============================] - 20s 2ms/step - loss: 0.1749 - accuracy: 0.9320\n",
      "Epoch 39/100\n",
      "10176/10176 [==============================] - 19s 2ms/step - loss: 0.1749 - accuracy: 0.9321\n",
      "Epoch 40/100\n",
      "10176/10176 [==============================] - 20s 2ms/step - loss: 0.1750 - accuracy: 0.9321\n",
      "Epoch 41/100\n",
      "10176/10176 [==============================] - 20s 2ms/step - loss: 0.1743 - accuracy: 0.9321\n",
      "Epoch 42/100\n",
      "10176/10176 [==============================] - 19s 2ms/step - loss: 0.1735 - accuracy: 0.9327\n",
      "Epoch 43/100\n",
      "10176/10176 [==============================] - 19s 2ms/step - loss: 0.1741 - accuracy: 0.9320\n",
      "Epoch 44/100\n",
      "10176/10176 [==============================] - 20s 2ms/step - loss: 0.1731 - accuracy: 0.9324\n",
      "Epoch 45/100\n",
      "10176/10176 [==============================] - 19s 2ms/step - loss: 0.1731 - accuracy: 0.9325\n",
      "Epoch 46/100\n",
      "10176/10176 [==============================] - 19s 2ms/step - loss: 0.1730 - accuracy: 0.9324\n",
      "Epoch 47/100\n",
      "10176/10176 [==============================] - 19s 2ms/step - loss: 0.1728 - accuracy: 0.9327\n",
      "Epoch 48/100\n",
      "10176/10176 [==============================] - 19s 2ms/step - loss: 0.1718 - accuracy: 0.9331\n",
      "Epoch 49/100\n",
      "10176/10176 [==============================] - 19s 2ms/step - loss: 0.1717 - accuracy: 0.9333\n",
      "Epoch 50/100\n",
      "10176/10176 [==============================] - 20s 2ms/step - loss: 0.1714 - accuracy: 0.9335\n",
      "Epoch 51/100\n",
      "10176/10176 [==============================] - 19s 2ms/step - loss: 0.1714 - accuracy: 0.9334\n",
      "Epoch 52/100\n",
      "10176/10176 [==============================] - 18s 2ms/step - loss: 0.1711 - accuracy: 0.9330\n",
      "Epoch 53/100\n",
      "10176/10176 [==============================] - 17s 2ms/step - loss: 0.1709 - accuracy: 0.9336\n",
      "Epoch 54/100\n",
      "10176/10176 [==============================] - 17s 2ms/step - loss: 0.1711 - accuracy: 0.9333\n",
      "Epoch 55/100\n",
      "10176/10176 [==============================] - 16s 2ms/step - loss: 0.1703 - accuracy: 0.9334\n",
      "Epoch 56/100\n",
      "10176/10176 [==============================] - 15s 1ms/step - loss: 0.1701 - accuracy: 0.9336\n",
      "Epoch 57/100\n",
      "10176/10176 [==============================] - 15s 1ms/step - loss: 0.1702 - accuracy: 0.9337\n",
      "Epoch 58/100\n",
      "10176/10176 [==============================] - 14s 1ms/step - loss: 0.1698 - accuracy: 0.9339\n",
      "Epoch 59/100\n",
      "10176/10176 [==============================] - 15s 1ms/step - loss: 0.1694 - accuracy: 0.9338\n",
      "Epoch 60/100\n",
      "10176/10176 [==============================] - 14s 1ms/step - loss: 0.1691 - accuracy: 0.9340\n",
      "Epoch 61/100\n",
      "10176/10176 [==============================] - 13s 1ms/step - loss: 0.1701 - accuracy: 0.9337\n",
      "Epoch 62/100\n",
      "10176/10176 [==============================] - 14s 1ms/step - loss: 0.1690 - accuracy: 0.9340\n",
      "Epoch 63/100\n",
      "10176/10176 [==============================] - 14s 1ms/step - loss: 0.1685 - accuracy: 0.9342\n",
      "Epoch 64/100\n",
      "10176/10176 [==============================] - 13s 1ms/step - loss: 0.1687 - accuracy: 0.9343\n",
      "Epoch 65/100\n",
      "10176/10176 [==============================] - 14s 1ms/step - loss: 0.1688 - accuracy: 0.9342\n",
      "Epoch 66/100\n",
      "10176/10176 [==============================] - 14s 1ms/step - loss: 0.1684 - accuracy: 0.9344\n",
      "Epoch 67/100\n",
      "10176/10176 [==============================] - 14s 1ms/step - loss: 0.1685 - accuracy: 0.9345\n",
      "Epoch 68/100\n",
      "10176/10176 [==============================] - 13s 1ms/step - loss: 0.1683 - accuracy: 0.9344\n",
      "Epoch 69/100\n",
      "10176/10176 [==============================] - 14s 1ms/step - loss: 0.1682 - accuracy: 0.9343\n",
      "Epoch 70/100\n",
      "10176/10176 [==============================] - 14s 1ms/step - loss: 0.1681 - accuracy: 0.9344\n",
      "Epoch 71/100\n",
      "10176/10176 [==============================] - 13s 1ms/step - loss: 0.1677 - accuracy: 0.9347\n",
      "Epoch 72/100\n",
      "10176/10176 [==============================] - 13s 1ms/step - loss: 0.1677 - accuracy: 0.9346\n",
      "Epoch 73/100\n",
      "10176/10176 [==============================] - 14s 1ms/step - loss: 0.1675 - accuracy: 0.9348\n",
      "Epoch 74/100\n",
      "10176/10176 [==============================] - 14s 1ms/step - loss: 0.1671 - accuracy: 0.9348\n",
      "Epoch 75/100\n",
      "10176/10176 [==============================] - 15s 1ms/step - loss: 0.1672 - accuracy: 0.9350\n",
      "Epoch 76/100\n",
      "10176/10176 [==============================] - 12s 1ms/step - loss: 0.1673 - accuracy: 0.9350\n",
      "Epoch 77/100\n",
      "10176/10176 [==============================] - 12s 1ms/step - loss: 0.1672 - accuracy: 0.9347\n",
      "Epoch 78/100\n",
      "10176/10176 [==============================] - 12s 1ms/step - loss: 0.1668 - accuracy: 0.9349\n",
      "Epoch 79/100\n",
      "10176/10176 [==============================] - 12s 1ms/step - loss: 0.1663 - accuracy: 0.9352\n",
      "Epoch 80/100\n",
      "10176/10176 [==============================] - 12s 1ms/step - loss: 0.1667 - accuracy: 0.9348\n",
      "Epoch 81/100\n",
      "10176/10176 [==============================] - 12s 1ms/step - loss: 0.1664 - accuracy: 0.9352\n",
      "Epoch 82/100\n",
      "10176/10176 [==============================] - 12s 1ms/step - loss: 0.1665 - accuracy: 0.9352\n",
      "Epoch 83/100\n",
      "10176/10176 [==============================] - 12s 1ms/step - loss: 0.1660 - accuracy: 0.9354\n",
      "Epoch 84/100\n",
      "10176/10176 [==============================] - 12s 1ms/step - loss: 0.1663 - accuracy: 0.9351\n",
      "Epoch 85/100\n",
      "10176/10176 [==============================] - 12s 1ms/step - loss: 0.1661 - accuracy: 0.9353\n",
      "Epoch 86/100\n",
      "10176/10176 [==============================] - 12s 1ms/step - loss: 0.1655 - accuracy: 0.9354\n",
      "Epoch 87/100\n",
      "10176/10176 [==============================] - 12s 1ms/step - loss: 0.1657 - accuracy: 0.9353\n",
      "Epoch 88/100\n",
      "10176/10176 [==============================] - 12s 1ms/step - loss: 0.1654 - accuracy: 0.9359\n",
      "Epoch 89/100\n",
      "10176/10176 [==============================] - 12s 1ms/step - loss: 0.1652 - accuracy: 0.9357\n",
      "Epoch 90/100\n",
      "10176/10176 [==============================] - 12s 1ms/step - loss: 0.1649 - accuracy: 0.9357\n",
      "Epoch 91/100\n",
      "10176/10176 [==============================] - 12s 1ms/step - loss: 0.1652 - accuracy: 0.9360\n",
      "Epoch 92/100\n",
      "10176/10176 [==============================] - 12s 1ms/step - loss: 0.1647 - accuracy: 0.9358\n",
      "Epoch 93/100\n",
      "10176/10176 [==============================] - 12s 1ms/step - loss: 0.1649 - accuracy: 0.9357\n",
      "Epoch 94/100\n",
      "10176/10176 [==============================] - 12s 1ms/step - loss: 0.1651 - accuracy: 0.9357\n",
      "Epoch 95/100\n",
      "10176/10176 [==============================] - 12s 1ms/step - loss: 0.1646 - accuracy: 0.9358\n",
      "Epoch 96/100\n",
      "10176/10176 [==============================] - 12s 1ms/step - loss: 0.1644 - accuracy: 0.9360\n",
      "Epoch 97/100\n",
      "10176/10176 [==============================] - 12s 1ms/step - loss: 0.1641 - accuracy: 0.9361\n",
      "Epoch 98/100\n",
      "10176/10176 [==============================] - 12s 1ms/step - loss: 0.1643 - accuracy: 0.9362\n",
      "Epoch 99/100\n",
      "10176/10176 [==============================] - 12s 1ms/step - loss: 0.1639 - accuracy: 0.9361\n",
      "Epoch 100/100\n",
      "10176/10176 [==============================] - 12s 1ms/step - loss: 0.1642 - accuracy: 0.9361\n"
     ]
    }
   ],
   "source": [
    "\n",
    "tf.random.set_seed(42)\n",
    "\n",
    "\n",
    "model_22 = tf.keras.Sequential([\n",
    "  tf.keras.layers.Dense(20,activation = 'relu'),\n",
    "  tf.keras.layers.Dense(40,activation = 'relu'),\n",
    "  tf.keras.layers.Dense(20,activation = 'relu'),\n",
    "  tf.keras.layers.Dense(9,activation = 'relu'),\n",
    "  tf.keras.layers.Dense(1,activation = 'sigmoid')                            \n",
    "])\n",
    "\n",
    "\n",
    "model_22.compile(loss = 'binary_crossentropy',\n",
    "                optimizer = tf.keras.optimizers.Adam(lr=0.001),\n",
    "                metrics = ['accuracy'])\n",
    "\n",
    "\n",
    "history_2 = model_22.fit(x_train3,y_train3,epochs = 100)"
   ]
  },
  {
   "cell_type": "code",
   "execution_count": 45,
   "metadata": {},
   "outputs": [
    {
     "name": "stdout",
     "output_type": "stream",
     "text": [
      "3392/3392 [==============================] - 4s 1ms/step - loss: 0.1629 - accuracy: 0.9378\n"
     ]
    },
    {
     "data": {
      "text/plain": [
       "[0.16292396187782288, 0.9377625584602356]"
      ]
     },
     "execution_count": 45,
     "metadata": {},
     "output_type": "execute_result"
    }
   ],
   "source": [
    "model_22.evaluate(x_test3,y_test3)"
   ]
  },
  {
   "cell_type": "code",
   "execution_count": 46,
   "metadata": {},
   "outputs": [
    {
     "name": "stdout",
     "output_type": "stream",
     "text": [
      "10176/10176 [==============================] - 10s 956us/step\n",
      "3392/3392 [==============================] - 3s 956us/step\n",
      "              precision    recall  f1-score   support\n",
      "\n",
      "           0       0.91      0.97      0.94    163590\n",
      "           1       0.97      0.91      0.93    162015\n",
      "\n",
      "    accuracy                           0.94    325605\n",
      "   macro avg       0.94      0.94      0.94    325605\n",
      "weighted avg       0.94      0.94      0.94    325605\n",
      "\n",
      "              precision    recall  f1-score   support\n",
      "\n",
      "           0       0.91      0.97      0.94     54677\n",
      "           1       0.97      0.91      0.94     53859\n",
      "\n",
      "    accuracy                           0.94    108536\n",
      "   macro avg       0.94      0.94      0.94    108536\n",
      "weighted avg       0.94      0.94      0.94    108536\n",
      "\n"
     ]
    }
   ],
   "source": [
    "ypred_train22 = model_22.predict(x_train3)\n",
    "y_pred_test22 = model_22.predict(x_test3)\n",
    "\n",
    "y_pred_test22 = (y_pred_test22 > 0.5)\n",
    "ypred_train22 = (ypred_train22 > 0.5)\n",
    "\n",
    "print(classification_report(y_train3,ypred_train22))\n",
    "print(classification_report(y_test3,y_pred_test22))"
   ]
  },
  {
   "cell_type": "code",
   "execution_count": 47,
   "metadata": {},
   "outputs": [
    {
     "name": "stdout",
     "output_type": "stream",
     "text": [
      "   1/3392 [..............................] - ETA: 1:09"
     ]
    },
    {
     "name": "stdout",
     "output_type": "stream",
     "text": [
      "3392/3392 [==============================] - 3s 970us/step\n"
     ]
    },
    {
     "data": {
      "image/png": "[encoded data removed]",
      "text/plain": [
       "<Figure size 640x480 with 1 Axes>"
      ]
     },
     "metadata": {},
     "output_type": "display_data"
    }
   ],
   "source": [
    "# cross_val_scores = cross_val_score(model_22, x_train3, y_train3, cv=5)\n",
    "# print(\"Cross-Validation Scores for the Best Model:\", cross_val_scores)\n",
    "# print(\"Average Cross-Validation Score:\", cross_val_scores.mean())\n",
    "y_proba_test = model_22.predict(x_test3).flatten()\n",
    "\n",
    "fpr, tpr, thresholds = roc_curve(y_test3, y_proba_test)\n",
    "\n",
    "plt.plot(fpr, tpr, label='ROC Curve')\n",
    "plt.xlabel('False Positive Rate')\n",
    "plt.ylabel('True Positive Rate')\n",
    "plt.title('ROC Curve with AUC = {:.2f}'.format(roc_auc_score(y_test3, y_proba_test)))\n",
    "plt.legend(loc='lower right')\n",
    "plt.grid(True)\n",
    "plt.show()"
   ]
  },
  {
   "cell_type": "markdown",
   "metadata": {},
   "source": [
    "## inne próby sieci neuronowych "
   ]
  },
  {
   "cell_type": "code",
   "execution_count": 48,
   "metadata": {},
   "outputs": [],
   "source": [
    "model = Sequential()\n",
    "model.add(Dense(units=20,activation='relu'))\n",
    "model.add(Dropout(0.5))\n",
    "\n",
    "model.add(Dense(units=15,activation='relu'))\n",
    "model.add(Dropout(0.5))\n",
    "\n",
    "model.add(Dense(units=1,activation='sigmoid'))\n",
    "model.compile(loss='binary_crossentropy', optimizer='adam')"
   ]
  },
  {
   "cell_type": "code",
   "execution_count": 49,
   "metadata": {},
   "outputs": [
    {
     "name": "stdout",
     "output_type": "stream",
     "text": [
      "Epoch 1/100\n",
      "10176/10176 [==============================] - 16s 2ms/step - loss: 0.4756 - val_loss: 0.3769\n",
      "Epoch 2/100\n",
      "10176/10176 [==============================] - 15s 1ms/step - loss: 0.4239 - val_loss: 0.3635\n",
      "Epoch 3/100\n",
      "10176/10176 [==============================] - 15s 1ms/step - loss: 0.4133 - val_loss: 0.3553\n",
      "Epoch 4/100\n",
      "10176/10176 [==============================] - 15s 1ms/step - loss: 0.4105 - val_loss: 0.3538\n",
      "Epoch 5/100\n",
      "10176/10176 [==============================] - 15s 1ms/step - loss: 0.4085 - val_loss: 0.3538\n",
      "Epoch 6/100\n",
      "10176/10176 [==============================] - 15s 1ms/step - loss: 0.4074 - val_loss: 0.3514\n",
      "Epoch 7/100\n",
      "10176/10176 [==============================] - 15s 2ms/step - loss: 0.4068 - val_loss: 0.3532\n",
      "Epoch 8/100\n",
      "10176/10176 [==============================] - 15s 1ms/step - loss: 0.4057 - val_loss: 0.3474\n",
      "Epoch 9/100\n",
      "10176/10176 [==============================] - 15s 1ms/step - loss: 0.4050 - val_loss: 0.3490\n",
      "Epoch 10/100\n",
      "10176/10176 [==============================] - 15s 1ms/step - loss: 0.4047 - val_loss: 0.3531\n",
      "Epoch 11/100\n",
      "10176/10176 [==============================] - 15s 1ms/step - loss: 0.4044 - val_loss: 0.3526\n",
      "Epoch 12/100\n",
      "10176/10176 [==============================] - 15s 1ms/step - loss: 0.4032 - val_loss: 0.3465\n",
      "Epoch 13/100\n",
      "10176/10176 [==============================] - 15s 1ms/step - loss: 0.4034 - val_loss: 0.3494\n",
      "Epoch 14/100\n",
      "10176/10176 [==============================] - 15s 1ms/step - loss: 0.4034 - val_loss: 0.3471\n",
      "Epoch 15/100\n",
      "10176/10176 [==============================] - 15s 2ms/step - loss: 0.4036 - val_loss: 0.3459\n",
      "Epoch 16/100\n",
      "10176/10176 [==============================] - 15s 1ms/step - loss: 0.4032 - val_loss: 0.3473\n",
      "Epoch 17/100\n",
      "10176/10176 [==============================] - 15s 1ms/step - loss: 0.4024 - val_loss: 0.3512\n",
      "Epoch 18/100\n",
      "10176/10176 [==============================] - 15s 1ms/step - loss: 0.4017 - val_loss: 0.3452\n",
      "Epoch 19/100\n",
      "10176/10176 [==============================] - 15s 1ms/step - loss: 0.4020 - val_loss: 0.3465\n",
      "Epoch 20/100\n",
      "10176/10176 [==============================] - 15s 1ms/step - loss: 0.4015 - val_loss: 0.3448\n",
      "Epoch 21/100\n",
      "10176/10176 [==============================] - 15s 1ms/step - loss: 0.4002 - val_loss: 0.3455\n",
      "Epoch 22/100\n",
      "10176/10176 [==============================] - 15s 1ms/step - loss: 0.4013 - val_loss: 0.3455\n",
      "Epoch 23/100\n",
      "10176/10176 [==============================] - 15s 1ms/step - loss: 0.4023 - val_loss: 0.3457\n",
      "Epoch 24/100\n",
      "10176/10176 [==============================] - 15s 1ms/step - loss: 0.4008 - val_loss: 0.3437\n",
      "Epoch 25/100\n",
      "10176/10176 [==============================] - 15s 1ms/step - loss: 0.4015 - val_loss: 0.3460\n",
      "Epoch 26/100\n",
      "10176/10176 [==============================] - 16s 2ms/step - loss: 0.4011 - val_loss: 0.3445\n",
      "Epoch 27/100\n",
      "10176/10176 [==============================] - 15s 2ms/step - loss: 0.4003 - val_loss: 0.3482\n",
      "Epoch 28/100\n",
      "10176/10176 [==============================] - 15s 1ms/step - loss: 0.4006 - val_loss: 0.3455\n",
      "Epoch 29/100\n",
      "10176/10176 [==============================] - 15s 2ms/step - loss: 0.4000 - val_loss: 0.3460\n",
      "Epoch 30/100\n",
      "10176/10176 [==============================] - 15s 1ms/step - loss: 0.4012 - val_loss: 0.3461\n",
      "Epoch 31/100\n",
      "10176/10176 [==============================] - 15s 2ms/step - loss: 0.4006 - val_loss: 0.3455\n",
      "Epoch 32/100\n",
      "10176/10176 [==============================] - 15s 1ms/step - loss: 0.4012 - val_loss: 0.3490\n",
      "Epoch 33/100\n",
      "10176/10176 [==============================] - 15s 1ms/step - loss: 0.4016 - val_loss: 0.3450\n",
      "Epoch 34/100\n",
      "10176/10176 [==============================] - 15s 1ms/step - loss: 0.4002 - val_loss: 0.3441\n",
      "Epoch 35/100\n",
      "10176/10176 [==============================] - 15s 1ms/step - loss: 0.4007 - val_loss: 0.3431\n",
      "Epoch 36/100\n",
      "10176/10176 [==============================] - 15s 1ms/step - loss: 0.4005 - val_loss: 0.3443\n",
      "Epoch 37/100\n",
      "10176/10176 [==============================] - 15s 1ms/step - loss: 0.4009 - val_loss: 0.3481\n",
      "Epoch 38/100\n",
      "10176/10176 [==============================] - 15s 1ms/step - loss: 0.4007 - val_loss: 0.3436\n",
      "Epoch 39/100\n",
      "10176/10176 [==============================] - 15s 1ms/step - loss: 0.3996 - val_loss: 0.3437\n",
      "Epoch 40/100\n",
      "10176/10176 [==============================] - 15s 1ms/step - loss: 0.4008 - val_loss: 0.3454\n",
      "Epoch 41/100\n",
      "10176/10176 [==============================] - 15s 1ms/step - loss: 0.3998 - val_loss: 0.3425\n",
      "Epoch 42/100\n",
      "10176/10176 [==============================] - 15s 2ms/step - loss: 0.4001 - val_loss: 0.3479\n",
      "Epoch 43/100\n",
      "10176/10176 [==============================] - 15s 1ms/step - loss: 0.4002 - val_loss: 0.3443\n",
      "Epoch 44/100\n",
      "10176/10176 [==============================] - 15s 1ms/step - loss: 0.3991 - val_loss: 0.3446\n",
      "Epoch 45/100\n",
      "10176/10176 [==============================] - 15s 1ms/step - loss: 0.4010 - val_loss: 0.3438\n",
      "Epoch 46/100\n",
      "10176/10176 [==============================] - 15s 1ms/step - loss: 0.4002 - val_loss: 0.3459\n",
      "Epoch 47/100\n",
      "10176/10176 [==============================] - 15s 2ms/step - loss: 0.4002 - val_loss: 0.3413\n",
      "Epoch 48/100\n",
      "10176/10176 [==============================] - 15s 2ms/step - loss: 0.4001 - val_loss: 0.3462\n",
      "Epoch 49/100\n",
      "10176/10176 [==============================] - 15s 2ms/step - loss: 0.3999 - val_loss: 0.3435\n",
      "Epoch 50/100\n",
      "10176/10176 [==============================] - 15s 1ms/step - loss: 0.3989 - val_loss: 0.3427\n",
      "Epoch 51/100\n",
      "10176/10176 [==============================] - 15s 1ms/step - loss: 0.3994 - val_loss: 0.3444\n",
      "Epoch 52/100\n",
      "10176/10176 [==============================] - 15s 1ms/step - loss: 0.4003 - val_loss: 0.3417\n",
      "Epoch 53/100\n",
      "10176/10176 [==============================] - 15s 1ms/step - loss: 0.3996 - val_loss: 0.3423\n",
      "Epoch 54/100\n",
      "10176/10176 [==============================] - 15s 1ms/step - loss: 0.4003 - val_loss: 0.3458\n",
      "Epoch 55/100\n",
      "10176/10176 [==============================] - 15s 1ms/step - loss: 0.3990 - val_loss: 0.3415\n",
      "Epoch 56/100\n",
      "10176/10176 [==============================] - 15s 1ms/step - loss: 0.3991 - val_loss: 0.3426\n",
      "Epoch 57/100\n",
      "10176/10176 [==============================] - 15s 1ms/step - loss: 0.3995 - val_loss: 0.3429\n",
      "Epoch 58/100\n",
      "10176/10176 [==============================] - 15s 1ms/step - loss: 0.3993 - val_loss: 0.3433\n",
      "Epoch 59/100\n",
      "10176/10176 [==============================] - 15s 1ms/step - loss: 0.3991 - val_loss: 0.3433\n",
      "Epoch 60/100\n",
      "10176/10176 [==============================] - 15s 2ms/step - loss: 0.3989 - val_loss: 0.3441\n",
      "Epoch 61/100\n",
      "10176/10176 [==============================] - 15s 2ms/step - loss: 0.3989 - val_loss: 0.3442\n",
      "Epoch 62/100\n",
      "10176/10176 [==============================] - 15s 1ms/step - loss: 0.3996 - val_loss: 0.3420\n",
      "Epoch 63/100\n",
      "10176/10176 [==============================] - 15s 1ms/step - loss: 0.3997 - val_loss: 0.3425\n",
      "Epoch 64/100\n",
      "10176/10176 [==============================] - 15s 1ms/step - loss: 0.3998 - val_loss: 0.3441\n",
      "Epoch 65/100\n",
      "10176/10176 [==============================] - 15s 1ms/step - loss: 0.3991 - val_loss: 0.3416\n",
      "Epoch 66/100\n",
      "10176/10176 [==============================] - 15s 1ms/step - loss: 0.3989 - val_loss: 0.3426\n",
      "Epoch 67/100\n",
      "10176/10176 [==============================] - 15s 1ms/step - loss: 0.3990 - val_loss: 0.3435\n",
      "Epoch 68/100\n",
      "10176/10176 [==============================] - 15s 1ms/step - loss: 0.3984 - val_loss: 0.3437\n",
      "Epoch 69/100\n",
      "10176/10176 [==============================] - 15s 1ms/step - loss: 0.3994 - val_loss: 0.3430\n",
      "Epoch 70/100\n",
      "10176/10176 [==============================] - 15s 1ms/step - loss: 0.3991 - val_loss: 0.3459\n",
      "Epoch 71/100\n",
      "10176/10176 [==============================] - 15s 1ms/step - loss: 0.3993 - val_loss: 0.3411\n",
      "Epoch 72/100\n",
      "10176/10176 [==============================] - 15s 1ms/step - loss: 0.3991 - val_loss: 0.3424\n",
      "Epoch 73/100\n",
      "10176/10176 [==============================] - 15s 1ms/step - loss: 0.4002 - val_loss: 0.3420\n",
      "Epoch 74/100\n",
      "10176/10176 [==============================] - 15s 1ms/step - loss: 0.3995 - val_loss: 0.3452\n",
      "Epoch 75/100\n",
      "10176/10176 [==============================] - 15s 1ms/step - loss: 0.3993 - val_loss: 0.3418\n",
      "Epoch 76/100\n",
      "10176/10176 [==============================] - 15s 1ms/step - loss: 0.3973 - val_loss: 0.3402\n",
      "Epoch 77/100\n",
      "10176/10176 [==============================] - 15s 1ms/step - loss: 0.3985 - val_loss: 0.3405\n",
      "Epoch 78/100\n",
      "10176/10176 [==============================] - 15s 2ms/step - loss: 0.3995 - val_loss: 0.3430\n",
      "Epoch 79/100\n",
      "10176/10176 [==============================] - 15s 1ms/step - loss: 0.3990 - val_loss: 0.3446\n",
      "Epoch 80/100\n",
      "10176/10176 [==============================] - 16s 2ms/step - loss: 0.3996 - val_loss: 0.3425\n",
      "Epoch 81/100\n",
      "10176/10176 [==============================] - 15s 1ms/step - loss: 0.3991 - val_loss: 0.3415\n",
      "Epoch 82/100\n",
      "10176/10176 [==============================] - 15s 1ms/step - loss: 0.3990 - val_loss: 0.3395\n",
      "Epoch 83/100\n",
      "10176/10176 [==============================] - 15s 1ms/step - loss: 0.3992 - val_loss: 0.3434\n",
      "Epoch 84/100\n",
      "10176/10176 [==============================] - 15s 1ms/step - loss: 0.3995 - val_loss: 0.3434\n",
      "Epoch 85/100\n",
      "10176/10176 [==============================] - 18s 2ms/step - loss: 0.3982 - val_loss: 0.3404\n",
      "Epoch 86/100\n",
      "10176/10176 [==============================] - 17s 2ms/step - loss: 0.3983 - val_loss: 0.3473\n",
      "Epoch 87/100\n",
      "10176/10176 [==============================] - 14s 1ms/step - loss: 0.3986 - val_loss: 0.3428\n",
      "Epoch 88/100\n",
      "10176/10176 [==============================] - 14s 1ms/step - loss: 0.3982 - val_loss: 0.3427\n",
      "Epoch 89/100\n",
      "10176/10176 [==============================] - 14s 1ms/step - loss: 0.3988 - val_loss: 0.3414\n",
      "Epoch 90/100\n",
      "10176/10176 [==============================] - 14s 1ms/step - loss: 0.3982 - val_loss: 0.3421\n",
      "Epoch 91/100\n",
      "10176/10176 [==============================] - 14s 1ms/step - loss: 0.3990 - val_loss: 0.3425\n",
      "Epoch 92/100\n",
      "10176/10176 [==============================] - 14s 1ms/step - loss: 0.3993 - val_loss: 0.3427\n",
      "Epoch 93/100\n",
      "10176/10176 [==============================] - 14s 1ms/step - loss: 0.3996 - val_loss: 0.3419\n",
      "Epoch 94/100\n",
      "10176/10176 [==============================] - 15s 1ms/step - loss: 0.3992 - val_loss: 0.3444\n",
      "Epoch 95/100\n",
      "10176/10176 [==============================] - 15s 1ms/step - loss: 0.3982 - val_loss: 0.3428\n",
      "Epoch 96/100\n",
      "10176/10176 [==============================] - 15s 1ms/step - loss: 0.3980 - val_loss: 0.3432\n",
      "Epoch 97/100\n",
      "10176/10176 [==============================] - 15s 1ms/step - loss: 0.3983 - val_loss: 0.3425\n",
      "Epoch 98/100\n",
      "10176/10176 [==============================] - 15s 1ms/step - loss: 0.3981 - val_loss: 0.3471\n",
      "Epoch 99/100\n",
      "10176/10176 [==============================] - 15s 1ms/step - loss: 0.3986 - val_loss: 0.3428\n",
      "Epoch 100/100\n",
      "10176/10176 [==============================] - 15s 1ms/step - loss: 0.3985 - val_loss: 0.3431\n"
     ]
    },
    {
     "data": {
      "text/plain": [
       "<keras.src.callbacks.History at 0x219614afc10>"
      ]
     },
     "execution_count": 49,
     "metadata": {},
     "output_type": "execute_result"
    }
   ],
   "source": [
    "model.fit(x=x_train3, \n",
    "          y=y_train3, \n",
    "          epochs=100,\n",
    "          validation_data=(x_test3, y_test3), verbose=1,\n",
    "          callbacks=[early_stop]\n",
    "          )"
   ]
  },
  {
   "cell_type": "code",
   "execution_count": 50,
   "metadata": {},
   "outputs": [
    {
     "name": "stdout",
     "output_type": "stream",
     "text": [
      "10176/10176 [==============================] - 9s 909us/step\n",
      "3392/3392 [==============================] - 3s 883us/step\n",
      "              precision    recall  f1-score   support\n",
      "\n",
      "           0       0.84      0.88      0.86    163590\n",
      "           1       0.87      0.83      0.85    162015\n",
      "\n",
      "    accuracy                           0.85    325605\n",
      "   macro avg       0.86      0.85      0.85    325605\n",
      "weighted avg       0.86      0.85      0.85    325605\n",
      "\n",
      "              precision    recall  f1-score   support\n",
      "\n",
      "           0       0.84      0.88      0.86     54677\n",
      "           1       0.87      0.84      0.85     53859\n",
      "\n",
      "    accuracy                           0.86    108536\n",
      "   macro avg       0.86      0.86      0.86    108536\n",
      "weighted avg       0.86      0.86      0.86    108536\n",
      "\n"
     ]
    }
   ],
   "source": [
    "ypred_train5 = model.predict(x_train3)\n",
    "y_pred_test5 = model.predict(x_test3)\n",
    "\n",
    "y_pred_test5 = (y_pred_test5 > 0.5)\n",
    "ypred_train5 = (ypred_train5 > 0.5)\n",
    "\n",
    "print(classification_report(y_train3,ypred_train5))\n",
    "print(classification_report(y_test3,y_pred_test5))"
   ]
  },
  {
   "cell_type": "code",
   "execution_count": 51,
   "metadata": {},
   "outputs": [
    {
     "name": "stdout",
     "output_type": "stream",
     "text": [
      "   1/3392 [..............................] - ETA: 1:08"
     ]
    },
    {
     "name": "stdout",
     "output_type": "stream",
     "text": [
      "3392/3392 [==============================] - 3s 957us/step\n"
     ]
    },
    {
     "data": {
      "image/png": "[encoded data removed]",
      "text/plain": [
       "<Figure size 640x480 with 1 Axes>"
      ]
     },
     "metadata": {},
     "output_type": "display_data"
    }
   ],
   "source": [
    "# cross_val_scores = cross_val_score(model, x_train3, y_train3, cv=5)\n",
    "# print(\"Cross-Validation Scores for the Best Model:\", cross_val_scores)\n",
    "# print(\"Average Cross-Validation Score:\", cross_val_scores.mean())\n",
    "y_proba_test = model.predict(x_test3).flatten()\n",
    "\n",
    "fpr, tpr, thresholds = roc_curve(y_test3, y_proba_test)\n",
    "\n",
    "plt.plot(fpr, tpr, label='ROC Curve')\n",
    "plt.xlabel('False Positive Rate')\n",
    "plt.ylabel('True Positive Rate')\n",
    "plt.title('ROC Curve with AUC = {:.2f}'.format(roc_auc_score(y_test3, y_proba_test)))\n",
    "plt.legend(loc='lower right')\n",
    "plt.grid(True)\n",
    "plt.show()"
   ]
  },
  {
   "cell_type": "code",
   "execution_count": 52,
   "metadata": {},
   "outputs": [],
   "source": [
    "model1 = Sequential()\n",
    "\n",
    "\n",
    "\n",
    "model1.add(Dense(20,  activation='relu'))\n",
    "model1.add(Dropout(0.2))\n",
    "\n",
    "model1.add(Dense(10, activation='relu'))\n",
    "model1.add(Dropout(0.2))\n",
    "\n",
    "model1.add(Dense(units=1,activation='sigmoid'))\n",
    "\n",
    "model1.compile(loss='binary_crossentropy', optimizer='adam')"
   ]
  },
  {
   "cell_type": "code",
   "execution_count": 53,
   "metadata": {},
   "outputs": [
    {
     "name": "stdout",
     "output_type": "stream",
     "text": [
      "Epoch 1/100\n"
     ]
    },
    {
     "name": "stdout",
     "output_type": "stream",
     "text": [
      "10176/10176 [==============================] - 16s 2ms/step - loss: 0.4326 - val_loss: 0.3664\n",
      "Epoch 2/100\n",
      "10176/10176 [==============================] - 15s 1ms/step - loss: 0.3849 - val_loss: 0.3405\n",
      "Epoch 3/100\n",
      "10176/10176 [==============================] - 15s 1ms/step - loss: 0.3703 - val_loss: 0.3294\n",
      "Epoch 4/100\n",
      "10176/10176 [==============================] - 15s 1ms/step - loss: 0.3621 - val_loss: 0.3162\n",
      "Epoch 5/100\n",
      "10176/10176 [==============================] - 15s 1ms/step - loss: 0.3565 - val_loss: 0.3174\n",
      "Epoch 6/100\n",
      "10176/10176 [==============================] - 15s 1ms/step - loss: 0.3531 - val_loss: 0.3090\n",
      "Epoch 7/100\n",
      "10176/10176 [==============================] - 15s 1ms/step - loss: 0.3498 - val_loss: 0.3051\n",
      "Epoch 8/100\n",
      "10176/10176 [==============================] - 15s 1ms/step - loss: 0.3481 - val_loss: 0.3034\n",
      "Epoch 9/100\n",
      "10176/10176 [==============================] - 15s 1ms/step - loss: 0.3467 - val_loss: 0.3025\n",
      "Epoch 10/100\n",
      "10176/10176 [==============================] - 15s 1ms/step - loss: 0.3454 - val_loss: 0.2979\n",
      "Epoch 11/100\n",
      "10176/10176 [==============================] - 15s 1ms/step - loss: 0.3445 - val_loss: 0.3019\n",
      "Epoch 12/100\n",
      "10176/10176 [==============================] - 15s 1ms/step - loss: 0.3429 - val_loss: 0.2994\n",
      "Epoch 13/100\n",
      "10176/10176 [==============================] - 16s 2ms/step - loss: 0.3412 - val_loss: 0.2952\n",
      "Epoch 14/100\n",
      "10176/10176 [==============================] - 16s 2ms/step - loss: 0.3404 - val_loss: 0.2962\n",
      "Epoch 15/100\n",
      "10176/10176 [==============================] - 16s 2ms/step - loss: 0.3398 - val_loss: 0.2963\n",
      "Epoch 16/100\n",
      "10176/10176 [==============================] - 16s 2ms/step - loss: 0.3389 - val_loss: 0.2960\n",
      "Epoch 17/100\n",
      "10176/10176 [==============================] - 16s 2ms/step - loss: 0.3378 - val_loss: 0.2930\n",
      "Epoch 18/100\n",
      "10176/10176 [==============================] - 16s 2ms/step - loss: 0.3376 - val_loss: 0.2952\n",
      "Epoch 19/100\n",
      "10176/10176 [==============================] - 16s 2ms/step - loss: 0.3379 - val_loss: 0.2937\n",
      "Epoch 20/100\n",
      "10176/10176 [==============================] - 16s 2ms/step - loss: 0.3373 - val_loss: 0.2914\n",
      "Epoch 21/100\n",
      "10176/10176 [==============================] - 16s 2ms/step - loss: 0.3373 - val_loss: 0.2934\n",
      "Epoch 22/100\n",
      "10176/10176 [==============================] - 16s 2ms/step - loss: 0.3369 - val_loss: 0.2924\n",
      "Epoch 23/100\n",
      "10176/10176 [==============================] - 16s 2ms/step - loss: 0.3361 - val_loss: 0.2905\n",
      "Epoch 24/100\n",
      "10176/10176 [==============================] - 15s 1ms/step - loss: 0.3366 - val_loss: 0.2940\n",
      "Epoch 25/100\n",
      "10176/10176 [==============================] - 15s 1ms/step - loss: 0.3352 - val_loss: 0.2916\n",
      "Epoch 26/100\n",
      "10176/10176 [==============================] - 15s 1ms/step - loss: 0.3356 - val_loss: 0.2935\n",
      "Epoch 27/100\n",
      "10176/10176 [==============================] - 15s 1ms/step - loss: 0.3356 - val_loss: 0.2925\n",
      "Epoch 28/100\n",
      "10176/10176 [==============================] - 15s 1ms/step - loss: 0.3350 - val_loss: 0.2897\n",
      "Epoch 29/100\n",
      "10176/10176 [==============================] - 15s 1ms/step - loss: 0.3340 - val_loss: 0.2896\n",
      "Epoch 30/100\n",
      "10176/10176 [==============================] - 15s 1ms/step - loss: 0.3346 - val_loss: 0.2858\n",
      "Epoch 31/100\n",
      "10176/10176 [==============================] - 15s 1ms/step - loss: 0.3324 - val_loss: 0.2901\n",
      "Epoch 32/100\n",
      "10176/10176 [==============================] - 15s 1ms/step - loss: 0.3324 - val_loss: 0.2885\n",
      "Epoch 33/100\n",
      "10176/10176 [==============================] - 15s 1ms/step - loss: 0.3313 - val_loss: 0.2840\n",
      "Epoch 34/100\n",
      "10176/10176 [==============================] - 15s 1ms/step - loss: 0.3322 - val_loss: 0.2849\n",
      "Epoch 35/100\n",
      "10176/10176 [==============================] - 15s 1ms/step - loss: 0.3322 - val_loss: 0.2864\n",
      "Epoch 36/100\n",
      "10176/10176 [==============================] - 15s 1ms/step - loss: 0.3313 - val_loss: 0.2872\n",
      "Epoch 37/100\n",
      "10176/10176 [==============================] - 15s 1ms/step - loss: 0.3308 - val_loss: 0.2840\n",
      "Epoch 38/100\n",
      "10176/10176 [==============================] - 15s 1ms/step - loss: 0.3316 - val_loss: 0.2853\n",
      "Epoch 39/100\n",
      "10176/10176 [==============================] - 15s 1ms/step - loss: 0.3309 - val_loss: 0.2908\n",
      "Epoch 40/100\n",
      "10176/10176 [==============================] - 15s 1ms/step - loss: 0.3312 - val_loss: 0.2899\n",
      "Epoch 41/100\n",
      "10176/10176 [==============================] - 15s 2ms/step - loss: 0.3293 - val_loss: 0.2874\n",
      "Epoch 42/100\n",
      "10176/10176 [==============================] - 15s 1ms/step - loss: 0.3299 - val_loss: 0.2843\n",
      "Epoch 43/100\n",
      "10176/10176 [==============================] - 15s 1ms/step - loss: 0.3292 - val_loss: 0.2855\n",
      "Epoch 44/100\n",
      "10176/10176 [==============================] - 15s 1ms/step - loss: 0.3294 - val_loss: 0.2855\n",
      "Epoch 45/100\n",
      "10176/10176 [==============================] - 15s 1ms/step - loss: 0.3291 - val_loss: 0.2847\n",
      "Epoch 46/100\n",
      "10176/10176 [==============================] - 15s 1ms/step - loss: 0.3290 - val_loss: 0.2814\n",
      "Epoch 47/100\n",
      "10176/10176 [==============================] - 15s 1ms/step - loss: 0.3298 - val_loss: 0.2833\n",
      "Epoch 48/100\n",
      "10176/10176 [==============================] - 15s 1ms/step - loss: 0.3280 - val_loss: 0.2819\n",
      "Epoch 49/100\n",
      "10176/10176 [==============================] - 15s 1ms/step - loss: 0.3283 - val_loss: 0.2809\n",
      "Epoch 50/100\n",
      "10176/10176 [==============================] - 15s 1ms/step - loss: 0.3280 - val_loss: 0.2845\n",
      "Epoch 51/100\n",
      "10176/10176 [==============================] - 15s 1ms/step - loss: 0.3285 - val_loss: 0.2845\n",
      "Epoch 52/100\n",
      "10176/10176 [==============================] - 15s 1ms/step - loss: 0.3275 - val_loss: 0.2814\n",
      "Epoch 53/100\n",
      "10176/10176 [==============================] - 15s 1ms/step - loss: 0.3283 - val_loss: 0.2814\n",
      "Epoch 54/100\n",
      "10176/10176 [==============================] - 15s 1ms/step - loss: 0.3285 - val_loss: 0.2804\n",
      "Epoch 55/100\n",
      "10176/10176 [==============================] - 17s 2ms/step - loss: 0.3282 - val_loss: 0.2825\n",
      "Epoch 56/100\n",
      "10176/10176 [==============================] - 17s 2ms/step - loss: 0.3272 - val_loss: 0.2798\n",
      "Epoch 57/100\n",
      "10176/10176 [==============================] - 17s 2ms/step - loss: 0.3267 - val_loss: 0.2813\n",
      "Epoch 58/100\n",
      "10176/10176 [==============================] - 17s 2ms/step - loss: 0.3280 - val_loss: 0.2833\n",
      "Epoch 59/100\n",
      "10176/10176 [==============================] - 17s 2ms/step - loss: 0.3281 - val_loss: 0.2850\n",
      "Epoch 60/100\n",
      "10176/10176 [==============================] - 17s 2ms/step - loss: 0.3267 - val_loss: 0.2797\n",
      "Epoch 61/100\n",
      "10176/10176 [==============================] - 17s 2ms/step - loss: 0.3279 - val_loss: 0.2803\n",
      "Epoch 62/100\n",
      "10176/10176 [==============================] - 17s 2ms/step - loss: 0.3273 - val_loss: 0.2791\n",
      "Epoch 63/100\n",
      "10176/10176 [==============================] - 17s 2ms/step - loss: 0.3268 - val_loss: 0.2819\n",
      "Epoch 64/100\n",
      "10176/10176 [==============================] - 17s 2ms/step - loss: 0.3265 - val_loss: 0.2804\n",
      "Epoch 65/100\n",
      "10176/10176 [==============================] - 17s 2ms/step - loss: 0.3275 - val_loss: 0.2847\n",
      "Epoch 66/100\n",
      "10176/10176 [==============================] - 17s 2ms/step - loss: 0.3272 - val_loss: 0.2806\n",
      "Epoch 67/100\n",
      "10176/10176 [==============================] - 17s 2ms/step - loss: 0.3276 - val_loss: 0.2803\n",
      "Epoch 68/100\n",
      "10176/10176 [==============================] - 17s 2ms/step - loss: 0.3279 - val_loss: 0.2821\n",
      "Epoch 69/100\n",
      "10176/10176 [==============================] - 17s 2ms/step - loss: 0.3277 - val_loss: 0.2811\n",
      "Epoch 70/100\n",
      "10176/10176 [==============================] - 17s 2ms/step - loss: 0.3261 - val_loss: 0.2781\n",
      "Epoch 71/100\n",
      "10176/10176 [==============================] - 17s 2ms/step - loss: 0.3279 - val_loss: 0.2842\n",
      "Epoch 72/100\n",
      "10176/10176 [==============================] - 17s 2ms/step - loss: 0.3261 - val_loss: 0.2812\n",
      "Epoch 73/100\n",
      "10176/10176 [==============================] - 17s 2ms/step - loss: 0.3270 - val_loss: 0.2803\n",
      "Epoch 74/100\n",
      "10176/10176 [==============================] - 17s 2ms/step - loss: 0.3265 - val_loss: 0.2787\n",
      "Epoch 75/100\n",
      "10176/10176 [==============================] - 17s 2ms/step - loss: 0.3266 - val_loss: 0.2820\n",
      "Epoch 76/100\n",
      "10176/10176 [==============================] - 18s 2ms/step - loss: 0.3262 - val_loss: 0.2796\n",
      "Epoch 77/100\n",
      "10176/10176 [==============================] - 17s 2ms/step - loss: 0.3260 - val_loss: 0.2807\n",
      "Epoch 78/100\n",
      "10176/10176 [==============================] - 18s 2ms/step - loss: 0.3263 - val_loss: 0.2816\n",
      "Epoch 79/100\n",
      "10176/10176 [==============================] - 18s 2ms/step - loss: 0.3276 - val_loss: 0.2809\n",
      "Epoch 80/100\n",
      "10176/10176 [==============================] - 17s 2ms/step - loss: 0.3295 - val_loss: 0.2830\n",
      "Epoch 81/100\n",
      "10176/10176 [==============================] - 17s 2ms/step - loss: 0.3311 - val_loss: 0.2830\n",
      "Epoch 82/100\n",
      "10176/10176 [==============================] - 17s 2ms/step - loss: 0.3296 - val_loss: 0.2806\n",
      "Epoch 83/100\n",
      "10176/10176 [==============================] - 17s 2ms/step - loss: 0.3310 - val_loss: 0.2838\n",
      "Epoch 84/100\n",
      "10176/10176 [==============================] - 18s 2ms/step - loss: 0.3303 - val_loss: 0.2841\n",
      "Epoch 85/100\n",
      "10176/10176 [==============================] - 17s 2ms/step - loss: 0.3297 - val_loss: 0.2813\n",
      "Epoch 86/100\n",
      "10176/10176 [==============================] - 17s 2ms/step - loss: 0.3290 - val_loss: 0.2847\n",
      "Epoch 87/100\n",
      "10176/10176 [==============================] - 17s 2ms/step - loss: 0.3300 - val_loss: 0.2823\n",
      "Epoch 88/100\n",
      "10176/10176 [==============================] - 17s 2ms/step - loss: 0.3295 - val_loss: 0.2826\n",
      "Epoch 89/100\n",
      "10176/10176 [==============================] - 17s 2ms/step - loss: 0.3288 - val_loss: 0.2838\n",
      "Epoch 90/100\n",
      "10176/10176 [==============================] - 17s 2ms/step - loss: 0.3293 - val_loss: 0.2806\n",
      "Epoch 91/100\n",
      "10176/10176 [==============================] - 17s 2ms/step - loss: 0.3297 - val_loss: 0.2843\n",
      "Epoch 92/100\n",
      "10176/10176 [==============================] - 17s 2ms/step - loss: 0.3293 - val_loss: 0.2824\n",
      "Epoch 93/100\n",
      "10176/10176 [==============================] - 17s 2ms/step - loss: 0.3292 - val_loss: 0.2832\n",
      "Epoch 94/100\n",
      "10176/10176 [==============================] - 17s 2ms/step - loss: 0.3285 - val_loss: 0.2814\n",
      "Epoch 95/100\n",
      "10176/10176 [==============================] - 17s 2ms/step - loss: 0.3298 - val_loss: 0.2861\n",
      "Epoch 95: early stopping\n"
     ]
    },
    {
     "data": {
      "text/plain": [
       "<keras.src.callbacks.History at 0x219f4da37d0>"
      ]
     },
     "execution_count": 53,
     "metadata": {},
     "output_type": "execute_result"
    }
   ],
   "source": [
    "model1.fit(x=x_train3, \n",
    "          y=y_train3, \n",
    "          epochs=100,\n",
    "          validation_data=(x_test3, y_test3), verbose=1,\n",
    "          callbacks=[early_stop]\n",
    "          )"
   ]
  },
  {
   "cell_type": "code",
   "execution_count": 54,
   "metadata": {},
   "outputs": [
    {
     "name": "stdout",
     "output_type": "stream",
     "text": [
      "10176/10176 [==============================] - 10s 993us/step\n",
      "3392/3392 [==============================] - 3s 952us/step\n",
      "              precision    recall  f1-score   support\n",
      "\n",
      "           0       0.84      0.94      0.89    163590\n",
      "           1       0.93      0.82      0.87    162015\n",
      "\n",
      "    accuracy                           0.88    325605\n",
      "   macro avg       0.89      0.88      0.88    325605\n",
      "weighted avg       0.89      0.88      0.88    325605\n",
      "\n",
      "              precision    recall  f1-score   support\n",
      "\n",
      "           0       0.85      0.94      0.89     54677\n",
      "           1       0.93      0.83      0.88     53859\n",
      "\n",
      "    accuracy                           0.88    108536\n",
      "   macro avg       0.89      0.88      0.88    108536\n",
      "weighted avg       0.89      0.88      0.88    108536\n",
      "\n"
     ]
    }
   ],
   "source": [
    "ypred_train7 = model1.predict(x_train3)\n",
    "y_pred_test7 = model1.predict(x_test3)\n",
    "\n",
    "y_pred_test7 = (y_pred_test7 > 0.5)\n",
    "ypred_train7 = (ypred_train7 > 0.5)\n",
    "\n",
    "print(classification_report(y_train3,ypred_train7))\n",
    "print(classification_report(y_test3,y_pred_test7))"
   ]
  },
  {
   "cell_type": "code",
   "execution_count": 55,
   "metadata": {},
   "outputs": [
    {
     "name": "stdout",
     "output_type": "stream",
     "text": [
      "   1/3392 [..............................] - ETA: 1:05"
     ]
    },
    {
     "name": "stdout",
     "output_type": "stream",
     "text": [
      "3392/3392 [==============================] - 3s 1ms/step\n"
     ]
    },
    {
     "data": {
      "image/png": "[encoded data removed]",
      "text/plain": [
       "<Figure size 640x480 with 1 Axes>"
      ]
     },
     "metadata": {},
     "output_type": "display_data"
    }
   ],
   "source": [
    "# cross_val_scores = cross_val_score(model1, x_train3, y_train3, cv=5)\n",
    "# print(\"Cross-Validation Scores for the Best Model:\", cross_val_scores)\n",
    "# print(\"Average Cross-Validation Score:\", cross_val_scores.mean())\n",
    "y_proba_test = model1.predict(x_test3).flatten()\n",
    "\n",
    "fpr, tpr, thresholds = roc_curve(y_test3, y_proba_test)\n",
    "\n",
    "plt.plot(fpr, tpr, label='ROC Curve')\n",
    "plt.xlabel('False Positive Rate')\n",
    "plt.ylabel('True Positive Rate')\n",
    "plt.title('ROC Curve with AUC = {:.2f}'.format(roc_auc_score(y_test3, y_proba_test)))\n",
    "plt.legend(loc='lower right')\n",
    "plt.grid(True)\n",
    "plt.show()"
   ]
  },
  {
   "cell_type": "markdown",
   "metadata": {},
   "source": [
    "## SVC"
   ]
  },
  {
   "cell_type": "code",
   "execution_count": 56,
   "metadata": {},
   "outputs": [],
   "source": [
    "# model3 = SVC(probability=True)"
   ]
  },
  {
   "cell_type": "code",
   "execution_count": 57,
   "metadata": {},
   "outputs": [],
   "source": [
    "# model3.fit(x_train3,y_train3)"
   ]
  },
  {
   "cell_type": "code",
   "execution_count": 58,
   "metadata": {},
   "outputs": [],
   "source": [
    "# ypred_train9 = model3.predict(x_train3)\n",
    "# y_pred_test9 = model3.predict(x_test3)\n",
    "\n",
    "\n",
    "# print(classification_report(y_train3,ypred_train9))\n",
    "# print(classification_report(y_test3,y_pred_test9))"
   ]
  },
  {
   "cell_type": "code",
   "execution_count": 59,
   "metadata": {},
   "outputs": [],
   "source": [
    "# grid = GridSearchCV(SVC(),param_grid,refit=True,verbose=3)"
   ]
  },
  {
   "cell_type": "code",
   "execution_count": 60,
   "metadata": {},
   "outputs": [],
   "source": [
    "# grid.fit(x_train3,y_train3)"
   ]
  },
  {
   "cell_type": "code",
   "execution_count": 61,
   "metadata": {},
   "outputs": [],
   "source": [
    "# grid.best_params_"
   ]
  },
  {
   "cell_type": "code",
   "execution_count": 62,
   "metadata": {},
   "outputs": [],
   "source": [
    "# grid.best_estimator_"
   ]
  },
  {
   "cell_type": "code",
   "execution_count": 63,
   "metadata": {},
   "outputs": [],
   "source": [
    "# ypred_train = grid.predict(x_train3)\n",
    "# y_pred_test = grid.predict(x_test3)\n",
    "\n",
    "\n",
    "# print(classification_report(y_train3,ypred_train))\n",
    "# print(classification_report(y_test3,y_pred_test))"
   ]
  },
  {
   "cell_type": "code",
   "execution_count": 64,
   "metadata": {},
   "outputs": [],
   "source": [
    "\n",
    "# y_proba_test = grid.predict_proba(x_test3)[:, 1]\n",
    "\n",
    "# fpr, tpr, thresholds = roc_curve(y_test3, y_proba_test)\n",
    "\n",
    "# plt.plot(fpr, tpr, label='ROC Curve')\n",
    "# plt.xlabel('False Positive Rate')\n",
    "# plt.ylabel('True Positive Rate')\n",
    "# plt.title('ROC Curve with AUC = {:.2f}'.format(roc_auc_score(y_test3, y_proba_test)))\n",
    "# plt.legend(loc='lower right')\n",
    "# plt.grid(True)\n",
    "# plt.show()"
   ]
  },
  {
   "cell_type": "code",
   "execution_count": 65,
   "metadata": {},
   "outputs": [
    {
     "name": "stdout",
     "output_type": "stream",
     "text": [
      "Training Results\n",
      "\n",
      "              precision    recall  f1-score   support\n",
      "\n",
      "           0       0.87      0.96      0.91    163590\n",
      "           1       0.95      0.86      0.90    162015\n",
      "\n",
      "    accuracy                           0.91    325605\n",
      "   macro avg       0.91      0.91      0.91    325605\n",
      "weighted avg       0.91      0.91      0.91    325605\n",
      "\n",
      "Testing Results\n",
      "\n",
      "              precision    recall  f1-score   support\n",
      "\n",
      "           0       0.87      0.95      0.91     54677\n",
      "           1       0.95      0.86      0.90     53859\n",
      "\n",
      "    accuracy                           0.91    108536\n",
      "   macro avg       0.91      0.91      0.91    108536\n",
      "weighted avg       0.91      0.91      0.91    108536\n",
      "\n"
     ]
    },
    {
     "data": {
      "image/png": "[encoded data removed]",
      "text/plain": [
       "<Figure size 640x480 with 1 Axes>"
      ]
     },
     "metadata": {},
     "output_type": "display_data"
    }
   ],
   "source": [
    "model3 = SVC(C=0.1, gamma=1, kernel='rbf', probability=True)\n",
    "model3.fit(x_train3, y_train3)\n",
    "\n",
    "ypred_train14 = model3.predict(x_train3)\n",
    "y_pred_test14 = model3.predict(x_test3)\n",
    "\n",
    "print(\"Training Results\\n\")\n",
    "print(classification_report(y_train3, ypred_train14))\n",
    "print(\"Testing Results\\n\")\n",
    "print(classification_report(y_test3, y_pred_test14))\n",
    "\n",
    "# cross_val_scores = cross_val_score(model3, x_train3, y_train3, cv=5)\n",
    "# print(\"Cross-Validation Scores for the Best Model:\", cross_val_scores)\n",
    "# print(\"Average Cross-Validation Score:\", cross_val_scores.mean())\n",
    "\n",
    "y_proba_test = model3.predict_proba(x_test3)[:, 1]\n",
    "fpr, tpr, thresholds = roc_curve(y_test3, y_proba_test)\n",
    "plt.plot(fpr, tpr, label='ROC Curve')\n",
    "plt.xlabel('False Positive Rate')\n",
    "plt.ylabel('True Positive Rate')\n",
    "plt.title('ROC Curve with AUC = {:.2f}'.format(roc_auc_score(y_test3, y_proba_test)))\n",
    "plt.legend(loc='lower right')\n",
    "plt.grid(True)\n",
    "plt.show()"
   ]
  }
 ],
 "metadata": {
  "kernelspec": {
   "display_name": "Python 3",
   "language": "python",
   "name": "python3"
  },
  "language_info": {
   "codemirror_mode": {
    "name": "ipython",
    "version": 3
   },
   "file_extension": ".py",
   "mimetype": "text/x-python",
   "name": "python",
   "nbconvert_exporter": "python",
   "pygments_lexer": "ipython3",
   "version": "3.11.5"
  }
 },
 "nbformat": 4,
 "nbformat_minor": 2
}
