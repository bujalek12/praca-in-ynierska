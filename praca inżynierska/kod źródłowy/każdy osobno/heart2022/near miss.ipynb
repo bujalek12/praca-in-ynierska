{
 "cells": [
  {
   "cell_type": "code",
   "execution_count": 1,
   "metadata": {},
   "outputs": [
    {
     "name": "stdout",
     "output_type": "stream",
     "text": [
      "WARNING:tensorflow:From C:\\Users\\DELL\\AppData\\Roaming\\Python\\Python311\\site-packages\\keras\\src\\losses.py:2976: The name tf.losses.sparse_softmax_cross_entropy is deprecated. Please use tf.compat.v1.losses.sparse_softmax_cross_entropy instead.\n",
      "\n"
     ]
    }
   ],
   "source": [
    "import pandas as pd\n",
    "import numpy as np\n",
    "import matplotlib.pyplot as plt\n",
    "import plotly.express as px\n",
    "from sklearn.preprocessing import LabelEncoder\n",
    "from sklearn.preprocessing import RobustScaler , MinMaxScaler, StandardScaler\n",
    "import seaborn as sns\n",
    "from sklearn.metrics import roc_curve\n",
    "from sklearn.metrics import roc_auc_score\n",
    "import tensorflow as tf\n",
    "from keras.preprocessing.image import ImageDataGenerator\n",
    "from tensorflow.keras.layers import Dropout\n",
    "from tensorflow.keras.models import Sequential\n",
    "from tensorflow.keras.layers import Dense, Activation\n",
    "from tensorflow.keras.callbacks import EarlyStopping\n",
    "from tensorflow.keras.layers import Input,Flatten,Conv1D,MaxPooling1D\n",
    "from sklearn.metrics import classification_report\n",
    "import warnings\n",
    "warnings.filterwarnings('ignore')\n",
    "import missingno as msno\n",
    "from sklearn.model_selection import train_test_split\n",
    "from sklearn.metrics import accuracy_score\n",
    "from sklearn.metrics import mean_absolute_error , mean_absolute_percentage_error , mean_squared_error\n",
    "from sklearn.metrics import r2_score\n",
    "from sklearn.metrics import confusion_matrix\n",
    "from sklearn.model_selection import cross_val_score\n",
    "from sklearn.metrics import RocCurveDisplay\n",
    "from sklearn.model_selection import RepeatedStratifiedKFold\n",
    "from sklearn.metrics import accuracy_score, precision_score, recall_score, f1_score\n",
    "from sklearn.model_selection import GridSearchCV\n",
    "from sklearn.tree import DecisionTreeClassifier\n",
    "from sklearn.ensemble import RandomForestClassifier\n",
    "from sklearn.naive_bayes import GaussianNB\n",
    "from xgboost import XGBClassifier\n",
    "from sklearn.linear_model import LogisticRegression\n",
    "from sklearn.svm import SVC\n",
    "from sklearn.decomposition import PCA\n",
    "from sklearn.ensemble import GradientBoostingClassifier\n",
    "from sklearn.neighbors import KNeighborsClassifier\n",
    "from keras.layers import LSTM\n",
    "from imblearn.under_sampling import NearMiss\n",
    "from sklearn.preprocessing import MinMaxScaler\n"
   ]
  },
  {
   "cell_type": "markdown",
   "metadata": {},
   "source": [
    "## With Near Miss Under-Sampling With Evaluation"
   ]
  },
  {
   "cell_type": "code",
   "execution_count": 2,
   "metadata": {},
   "outputs": [
    {
     "data": {
      "text/html": [
       "<div>\n",
       "<style scoped>\n",
       "    .dataframe tbody tr th:only-of-type {\n",
       "        vertical-align: middle;\n",
       "    }\n",
       "\n",
       "    .dataframe tbody tr th {\n",
       "        vertical-align: top;\n",
       "    }\n",
       "\n",
       "    .dataframe thead th {\n",
       "        text-align: right;\n",
       "    }\n",
       "</style>\n",
       "<table border=\"1\" class=\"dataframe\">\n",
       "  <thead>\n",
       "    <tr style=\"text-align: right;\">\n",
       "      <th></th>\n",
       "      <th>Sex</th>\n",
       "      <th>GeneralHealth</th>\n",
       "      <th>PhysicalHealthDays</th>\n",
       "      <th>MentalHealthDays</th>\n",
       "      <th>PhysicalActivities</th>\n",
       "      <th>SleepHours</th>\n",
       "      <th>HadHeartAttack</th>\n",
       "      <th>HadAngina</th>\n",
       "      <th>HadStroke</th>\n",
       "      <th>HadAsthma</th>\n",
       "      <th>...</th>\n",
       "      <th>AgeCategory</th>\n",
       "      <th>HeightInMeters</th>\n",
       "      <th>WeightInKilograms</th>\n",
       "      <th>BMI</th>\n",
       "      <th>AlcoholDrinkers</th>\n",
       "      <th>HIVTesting</th>\n",
       "      <th>FluVaxLast12</th>\n",
       "      <th>PneumoVaxEver</th>\n",
       "      <th>HighRiskLastYear</th>\n",
       "      <th>CovidPos</th>\n",
       "    </tr>\n",
       "  </thead>\n",
       "  <tbody>\n",
       "    <tr>\n",
       "      <th>0</th>\n",
       "      <td>0</td>\n",
       "      <td>2</td>\n",
       "      <td>4</td>\n",
       "      <td>0</td>\n",
       "      <td>1</td>\n",
       "      <td>9</td>\n",
       "      <td>0</td>\n",
       "      <td>0</td>\n",
       "      <td>0</td>\n",
       "      <td>0</td>\n",
       "      <td>...</td>\n",
       "      <td>10</td>\n",
       "      <td>1.60</td>\n",
       "      <td>71.67</td>\n",
       "      <td>27.99</td>\n",
       "      <td>0</td>\n",
       "      <td>0</td>\n",
       "      <td>1</td>\n",
       "      <td>1</td>\n",
       "      <td>0</td>\n",
       "      <td>0</td>\n",
       "    </tr>\n",
       "    <tr>\n",
       "      <th>1</th>\n",
       "      <td>1</td>\n",
       "      <td>2</td>\n",
       "      <td>0</td>\n",
       "      <td>0</td>\n",
       "      <td>1</td>\n",
       "      <td>6</td>\n",
       "      <td>0</td>\n",
       "      <td>0</td>\n",
       "      <td>0</td>\n",
       "      <td>0</td>\n",
       "      <td>...</td>\n",
       "      <td>11</td>\n",
       "      <td>1.78</td>\n",
       "      <td>95.25</td>\n",
       "      <td>30.13</td>\n",
       "      <td>0</td>\n",
       "      <td>0</td>\n",
       "      <td>1</td>\n",
       "      <td>1</td>\n",
       "      <td>0</td>\n",
       "      <td>0</td>\n",
       "    </tr>\n",
       "    <tr>\n",
       "      <th>2</th>\n",
       "      <td>1</td>\n",
       "      <td>2</td>\n",
       "      <td>0</td>\n",
       "      <td>0</td>\n",
       "      <td>0</td>\n",
       "      <td>8</td>\n",
       "      <td>0</td>\n",
       "      <td>0</td>\n",
       "      <td>0</td>\n",
       "      <td>0</td>\n",
       "      <td>...</td>\n",
       "      <td>12</td>\n",
       "      <td>1.85</td>\n",
       "      <td>108.86</td>\n",
       "      <td>31.66</td>\n",
       "      <td>1</td>\n",
       "      <td>0</td>\n",
       "      <td>0</td>\n",
       "      <td>1</td>\n",
       "      <td>0</td>\n",
       "      <td>1</td>\n",
       "    </tr>\n",
       "    <tr>\n",
       "      <th>3</th>\n",
       "      <td>0</td>\n",
       "      <td>4</td>\n",
       "      <td>5</td>\n",
       "      <td>0</td>\n",
       "      <td>1</td>\n",
       "      <td>9</td>\n",
       "      <td>0</td>\n",
       "      <td>0</td>\n",
       "      <td>0</td>\n",
       "      <td>0</td>\n",
       "      <td>...</td>\n",
       "      <td>13</td>\n",
       "      <td>1.70</td>\n",
       "      <td>90.72</td>\n",
       "      <td>31.32</td>\n",
       "      <td>0</td>\n",
       "      <td>0</td>\n",
       "      <td>1</td>\n",
       "      <td>1</td>\n",
       "      <td>0</td>\n",
       "      <td>1</td>\n",
       "    </tr>\n",
       "    <tr>\n",
       "      <th>4</th>\n",
       "      <td>0</td>\n",
       "      <td>3</td>\n",
       "      <td>3</td>\n",
       "      <td>15</td>\n",
       "      <td>1</td>\n",
       "      <td>5</td>\n",
       "      <td>0</td>\n",
       "      <td>0</td>\n",
       "      <td>0</td>\n",
       "      <td>0</td>\n",
       "      <td>...</td>\n",
       "      <td>13</td>\n",
       "      <td>1.55</td>\n",
       "      <td>79.38</td>\n",
       "      <td>33.07</td>\n",
       "      <td>0</td>\n",
       "      <td>0</td>\n",
       "      <td>1</td>\n",
       "      <td>1</td>\n",
       "      <td>0</td>\n",
       "      <td>0</td>\n",
       "    </tr>\n",
       "  </tbody>\n",
       "</table>\n",
       "<p>5 rows × 36 columns</p>\n",
       "</div>"
      ],
      "text/plain": [
       "   Sex  GeneralHealth  PhysicalHealthDays  MentalHealthDays  \\\n",
       "0    0              2                   4                 0   \n",
       "1    1              2                   0                 0   \n",
       "2    1              2                   0                 0   \n",
       "3    0              4                   5                 0   \n",
       "4    0              3                   3                15   \n",
       "\n",
       "   PhysicalActivities  SleepHours  HadHeartAttack  HadAngina  HadStroke  \\\n",
       "0                   1           9               0          0          0   \n",
       "1                   1           6               0          0          0   \n",
       "2                   0           8               0          0          0   \n",
       "3                   1           9               0          0          0   \n",
       "4                   1           5               0          0          0   \n",
       "\n",
       "   HadAsthma  ...  AgeCategory  HeightInMeters  WeightInKilograms    BMI  \\\n",
       "0          0  ...           10            1.60              71.67  27.99   \n",
       "1          0  ...           11            1.78              95.25  30.13   \n",
       "2          0  ...           12            1.85             108.86  31.66   \n",
       "3          0  ...           13            1.70              90.72  31.32   \n",
       "4          0  ...           13            1.55              79.38  33.07   \n",
       "\n",
       "   AlcoholDrinkers  HIVTesting  FluVaxLast12  PneumoVaxEver  HighRiskLastYear  \\\n",
       "0                0           0             1              1                 0   \n",
       "1                0           0             1              1                 0   \n",
       "2                1           0             0              1                 0   \n",
       "3                0           0             1              1                 0   \n",
       "4                0           0             1              1                 0   \n",
       "\n",
       "   CovidPos  \n",
       "0         0  \n",
       "1         0  \n",
       "2         1  \n",
       "3         1  \n",
       "4         0  \n",
       "\n",
       "[5 rows x 36 columns]"
      ]
     },
     "execution_count": 2,
     "metadata": {},
     "output_type": "execute_result"
    }
   ],
   "source": [
    "df= pd.read_csv('heart2022python.csv')\n",
    "df.head()"
   ]
  },
  {
   "cell_type": "code",
   "execution_count": 3,
   "metadata": {},
   "outputs": [],
   "source": [
    "df.drop(['SleepHours',\"DeafOrHardOfHearing\",'BlindOrVisionDifficulty',\"DifficultyConcentrating\",\"DifficultyWalking\",'DifficultyDressingBathing',\"DifficultyErrands\",\"ECigaretteUsage\",\"ChestScan\",'HeightInMeters',\"WeightInKilograms\",\"HIVTesting\",'FluVaxLast12',\"PneumoVaxEver\",\"HighRiskLastYear\",\"CovidPos\"],axis=1,inplace=True)\n",
    "\n",
    "\n"
   ]
  },
  {
   "cell_type": "code",
   "execution_count": 4,
   "metadata": {},
   "outputs": [
    {
     "data": {
      "text/plain": [
       "HadHeartAttack\n",
       "0    232587\n",
       "1     13435\n",
       "Name: count, dtype: int64"
      ]
     },
     "execution_count": 4,
     "metadata": {},
     "output_type": "execute_result"
    }
   ],
   "source": [
    "df.shape\n",
    "df['HadHeartAttack'].value_counts()\n"
   ]
  },
  {
   "cell_type": "code",
   "execution_count": 5,
   "metadata": {},
   "outputs": [],
   "source": [
    "df.duplicated().sum()\n",
    "df.drop_duplicates(inplace=True)"
   ]
  },
  {
   "cell_type": "markdown",
   "metadata": {},
   "source": [
    "## splite data"
   ]
  },
  {
   "cell_type": "code",
   "execution_count": 6,
   "metadata": {},
   "outputs": [],
   "source": [
    "x = df.drop([\"HadHeartAttack\"] , axis = 1).values\n",
    "y = df[\"HadHeartAttack\"].values"
   ]
  },
  {
   "cell_type": "code",
   "execution_count": 7,
   "metadata": {},
   "outputs": [],
   "source": [
    "nr = NearMiss()\n",
    "x_NM, y_NM = nr.fit_resample(x, y)\n",
    "x_train5, x_test5, y_train5, y_test5 = train_test_split(x_NM, y_NM, test_size=0.25, random_state=42)"
   ]
  },
  {
   "cell_type": "code",
   "execution_count": 8,
   "metadata": {},
   "outputs": [
    {
     "name": "stdout",
     "output_type": "stream",
     "text": [
      "20110 20110\n",
      "6704 6704\n"
     ]
    }
   ],
   "source": [
    "from sklearn.preprocessing import MinMaxScaler\n",
    "scaler = MinMaxScaler()\n",
    "x_train5 = scaler.fit_transform(x_train5)\n",
    "x_test5 = scaler.transform(x_test5)\n",
    "print(len(x_train5), len(y_train5))\n",
    "print(len(x_test5), len(y_test5))"
   ]
  },
  {
   "cell_type": "markdown",
   "metadata": {},
   "source": [
    "## Random Forest"
   ]
  },
  {
   "cell_type": "code",
   "execution_count": 9,
   "metadata": {},
   "outputs": [
    {
     "name": "stdout",
     "output_type": "stream",
     "text": [
      "Najlepsze parametry:  {'max_depth': 20, 'max_features': 'sqrt', 'min_samples_leaf': 4, 'min_samples_split': 2, 'n_estimators': 300}\n",
      "Training Results\n",
      "\n",
      "              precision    recall  f1-score   support\n",
      "\n",
      "           0       0.91      0.96      0.93     10036\n",
      "           1       0.95      0.91      0.93     10074\n",
      "\n",
      "    accuracy                           0.93     20110\n",
      "   macro avg       0.93      0.93      0.93     20110\n",
      "weighted avg       0.93      0.93      0.93     20110\n",
      "\n",
      "Test Results\n",
      "\n",
      "              precision    recall  f1-score   support\n",
      "\n",
      "           0       0.89      0.94      0.92      3371\n",
      "           1       0.94      0.89      0.91      3333\n",
      "\n",
      "    accuracy                           0.91      6704\n",
      "   macro avg       0.91      0.91      0.91      6704\n",
      "weighted avg       0.91      0.91      0.91      6704\n",
      "\n",
      "Confusion Matrix:\n",
      " [[3172  199]\n",
      " [ 381 2952]]\n"
     ]
    }
   ],
   "source": [
    "\n",
    "\n",
    "\n",
    "# Inicjalizacja modelu z domyślnymi parametrami\n",
    "rf = RandomForestClassifier()\n",
    "\n",
    "# Określenie siatki parametrów do przetestowania\n",
    "param_grid = {\n",
    "    'n_estimators': [100, 200, 300],  # Liczba drzew\n",
    "    'max_depth': [10, 20, 30],        # Maksymalna głębokość drzewa\n",
    "    'min_samples_split': [2, 4, 6],   # Minimalna liczba próbek wymagana do podziału węzła\n",
    "    'min_samples_leaf': [1, 2, 4],    # Minimalna liczba próbek wymagana w liściu\n",
    "    'max_features': ['auto', 'sqrt']  # Liczba cech do rozważenia przy każdym podziale\n",
    "}\n",
    "\n",
    "# Utworzenie obiektu GridSearchCV\n",
    "cv_rf = GridSearchCV(estimator=rf, param_grid=param_grid, cv=5, scoring='accuracy')\n",
    "\n",
    "# Przeszukiwanie siatki parametrów\n",
    "cv_rf.fit(x_train5, y_train5)\n",
    "\n",
    "# Najlepszy zestaw parametrów\n",
    "print(\"Najlepsze parametry: \", cv_rf.best_params_)\n",
    "\n",
    "# Najlepszy estimator\n",
    "best_rf = cv_rf.best_estimator_\n",
    "\n",
    "# Predykcje i ocena modelu\n",
    "ypred_train = best_rf.predict(x_train5)\n",
    "ypred_test = best_rf.predict(x_test5)\n",
    "\n",
    "print(\"Training Results\\n\")\n",
    "print(classification_report(y_train5, ypred_train))\n",
    "print(\"Test Results\\n\")\n",
    "print(classification_report(y_test5, ypred_test))\n",
    "\n",
    "# Macierz pomyłek\n",
    "conf_matrix = confusion_matrix(y_test5, ypred_test)\n",
    "print(\"Confusion Matrix:\\n\", conf_matrix)\n",
    "\n",
    "# # Ocena modelu za pomocą walidacji krzyżowej\n",
    "# cross_val_scores = cross_val_score(best_rf, x_train5, y_train5, cv=5)\n",
    "# print(\"Cross-validation scores:\", cross_val_scores)\n",
    "# print(\"Average cross-validation score:\", np.mean(cross_val_scores))"
   ]
  },
  {
   "cell_type": "code",
   "execution_count": 10,
   "metadata": {},
   "outputs": [
    {
     "data": {
      "image/png": "[encoded data removed]",
      "text/plain": [
       "<Figure size 640x480 with 1 Axes>"
      ]
     },
     "metadata": {},
     "output_type": "display_data"
    }
   ],
   "source": [
    "\n",
    "\n",
    "y_proba_test = best_rf.predict_proba(x_test5)[:, 1]\n",
    "\n",
    "fpr, tpr, thresholds = roc_curve(y_test5, y_proba_test)\n",
    "\n",
    "plt.plot(fpr, tpr, label='ROC Curve')\n",
    "plt.xlabel('False Positive Rate')\n",
    "plt.ylabel('True Positive Rate')\n",
    "plt.title('ROC Curve with AUC = {:.2f}'.format(roc_auc_score(y_test5, y_proba_test)))\n",
    "plt.legend(loc='lower right')\n",
    "plt.grid(True)\n",
    "plt.show()"
   ]
  },
  {
   "cell_type": "markdown",
   "metadata": {},
   "source": [
    "## DECISION TREE CLASSIFIER"
   ]
  },
  {
   "cell_type": "code",
   "execution_count": 11,
   "metadata": {},
   "outputs": [
    {
     "name": "stdout",
     "output_type": "stream",
     "text": [
      "Najlepsze parametry: {'criterion': 'entropy', 'max_depth': 10, 'min_samples_leaf': 5, 'min_samples_split': 2}\n",
      "Najlepsza dokładność: 0.9011437095972153\n",
      "Training Results\n",
      "\n",
      "              precision    recall  f1-score   support\n",
      "\n",
      "           0       0.90      0.92      0.91     10036\n",
      "           1       0.92      0.89      0.91     10074\n",
      "\n",
      "    accuracy                           0.91     20110\n",
      "   macro avg       0.91      0.91      0.91     20110\n",
      "weighted avg       0.91      0.91      0.91     20110\n",
      "\n",
      "Testing Results\n",
      "\n",
      "              precision    recall  f1-score   support\n",
      "\n",
      "           0       0.88      0.92      0.90      3371\n",
      "           1       0.92      0.88      0.90      3333\n",
      "\n",
      "    accuracy                           0.90      6704\n",
      "   macro avg       0.90      0.90      0.90      6704\n",
      "weighted avg       0.90      0.90      0.90      6704\n",
      "\n"
     ]
    }
   ],
   "source": [
    "\n",
    "\n",
    "# Parametry do przetestowania w Grid Search\n",
    "param_grid = {\n",
    "    'max_depth': [3, 5, 10, None],\n",
    "    'min_samples_split': [2, 5, 10],\n",
    "    'min_samples_leaf': [1, 2, 5],\n",
    "    'criterion': ['gini', 'entropy']\n",
    "}\n",
    "\n",
    "# Utworzenie modelu drzewa decyzyjnego\n",
    "tree = DecisionTreeClassifier()\n",
    "\n",
    "# Uruchomienie Grid Search z walidacją krzyżową\n",
    "grid_search = GridSearchCV(tree, param_grid, cv=5, scoring='accuracy')\n",
    "grid_search.fit(x_train5, y_train5)\n",
    "\n",
    "# Wyświetlenie najlepszych parametrów i wyników\n",
    "print(\"Najlepsze parametry:\", grid_search.best_params_)\n",
    "print(\"Najlepsza dokładność:\", grid_search.best_score_)\n",
    "\n",
    "# Utworzenie i ocena modelu z najlepszymi parametrami\n",
    "best_tree = grid_search.best_estimator_\n",
    "best_tree.fit(x_train5, y_train5)\n",
    "\n",
    "ypred_train2 = best_tree.predict(x_train5)\n",
    "ypred_test2 = best_tree.predict(x_test5)\n",
    "\n",
    "# Ocena modelu na zbiorze testowym\n",
    "\n",
    "print(\"Training Results\\n\")\n",
    "print(classification_report(y_train5, ypred_train2))\n",
    "print('Testing Results\\n')\n",
    "print(classification_report(y_test5, ypred_test2))\n",
    "\n",
    "# # Dodatkowo: Walidacja krzyżowa dla najlepszego modelu na całym zbiorze danych\n",
    "# cross_val_scores = cross_val_score(best_tree, x_train5, y_train5, cv=5)\n",
    "# print(\"Cross-Validation Scores for the Best Model:\", cross_val_scores)\n",
    "# print(\"Average Cross-Validation Score:\", cross_val_scores.mean())"
   ]
  },
  {
   "cell_type": "code",
   "execution_count": 12,
   "metadata": {},
   "outputs": [
    {
     "data": {
      "image/png": "[encoded data removed]",
      "text/plain": [
       "<Figure size 640x480 with 1 Axes>"
      ]
     },
     "metadata": {},
     "output_type": "display_data"
    }
   ],
   "source": [
    "from sklearn.metrics import roc_curve, roc_auc_score\n",
    "import matplotlib.pyplot as plt\n",
    "\n",
    "y_proba_test = best_tree.predict_proba(x_test5)[:, 1]\n",
    "\n",
    "fpr, tpr, thresholds = roc_curve(y_test5, y_proba_test)\n",
    "\n",
    "plt.plot(fpr, tpr, label='ROC Curve')\n",
    "plt.xlabel('False Positive Rate')\n",
    "plt.ylabel('True Positive Rate')\n",
    "plt.title('ROC Curve with AUC = {:.2f}'.format(roc_auc_score(y_test5, y_proba_test)))\n",
    "plt.legend(loc='lower right')\n",
    "plt.grid(True)\n",
    "plt.show()"
   ]
  },
  {
   "cell_type": "markdown",
   "metadata": {},
   "source": [
    "## Naive Bayes"
   ]
  },
  {
   "cell_type": "code",
   "execution_count": 13,
   "metadata": {},
   "outputs": [
    {
     "name": "stdout",
     "output_type": "stream",
     "text": [
      "Naive Bayes Classifier Accuracy:  0.8654534606205251\n"
     ]
    }
   ],
   "source": [
    "Gnb = GaussianNB()\n",
    "Gnb.fit(x_train5, y_train5)\n",
    "ypred_train3 = Gnb.predict(x_train5)\n",
    "y_pred_test3 = Gnb.predict(x_test5)\n",
    "\n",
    "print(\"Naive Bayes Classifier Accuracy: \",accuracy_score(y_test5, y_pred_test3))"
   ]
  },
  {
   "cell_type": "code",
   "execution_count": 14,
   "metadata": {},
   "outputs": [
    {
     "name": "stdout",
     "output_type": "stream",
     "text": [
      "Training Results\n",
      "\n",
      "              precision    recall  f1-score   support\n",
      "\n",
      "           0       0.82      0.94      0.88     10036\n",
      "           1       0.94      0.80      0.86     10074\n",
      "\n",
      "    accuracy                           0.87     20110\n",
      "   macro avg       0.88      0.87      0.87     20110\n",
      "weighted avg       0.88      0.87      0.87     20110\n",
      "\n"
     ]
    }
   ],
   "source": [
    "print(\"Training Results\\n\")\n",
    "print(classification_report(y_train5, ypred_train3))"
   ]
  },
  {
   "cell_type": "code",
   "execution_count": 15,
   "metadata": {},
   "outputs": [
    {
     "name": "stdout",
     "output_type": "stream",
     "text": [
      "Testing Results\n",
      "\n",
      "              precision    recall  f1-score   support\n",
      "\n",
      "           0       0.82      0.93      0.87      3371\n",
      "           1       0.92      0.80      0.85      3333\n",
      "\n",
      "    accuracy                           0.87      6704\n",
      "   macro avg       0.87      0.87      0.86      6704\n",
      "weighted avg       0.87      0.87      0.86      6704\n",
      "\n"
     ]
    }
   ],
   "source": [
    "print('Testing Results\\n')\n",
    "print(classification_report(y_test5, y_pred_test3))"
   ]
  },
  {
   "cell_type": "code",
   "execution_count": 16,
   "metadata": {},
   "outputs": [
    {
     "data": {
      "image/png": "[encoded data removed]",
      "text/plain": [
       "<Figure size 640x480 with 1 Axes>"
      ]
     },
     "metadata": {},
     "output_type": "display_data"
    }
   ],
   "source": [
    "# cross_val_scores = cross_val_score(Gnb, x_train5, y_train5, cv=5)\n",
    "# print(\"Cross-validation scores:\", cross_val_scores)\n",
    "# print(\"Average cross-validation score:\", np.mean(cross_val_scores))\n",
    "\n",
    "y_proba_test = Gnb.predict_proba(x_test5)[:, 1]\n",
    "\n",
    "fpr, tpr, thresholds = roc_curve(y_test5, y_proba_test)\n",
    "\n",
    "plt.plot(fpr, tpr, label='ROC Curve')\n",
    "plt.xlabel('False Positive Rate')\n",
    "plt.ylabel('True Positive Rate')\n",
    "plt.title('ROC Curve with AUC = {:.2f}'.format(roc_auc_score(y_test5, y_proba_test)))\n",
    "plt.legend(loc='lower right')\n",
    "plt.grid(True)\n",
    "plt.show()"
   ]
  },
  {
   "cell_type": "markdown",
   "metadata": {},
   "source": [
    "## XGBOSST"
   ]
  },
  {
   "cell_type": "code",
   "execution_count": 17,
   "metadata": {},
   "outputs": [
    {
     "name": "stdout",
     "output_type": "stream",
     "text": [
      "Najlepsze parametry:  {'colsample_bytree': 0.7, 'learning_rate': 0.2, 'max_depth': 3, 'n_estimators': 200, 'subsample': 0.9}\n",
      "Accuracy on Training set:  0.929985082048732\n",
      "Accuracy on Test set:  0.9167661097852029\n",
      "\n",
      "Training Results\n",
      "\n",
      "              precision    recall  f1-score   support\n",
      "\n",
      "           0       0.90      0.96      0.93     10036\n",
      "           1       0.96      0.90      0.93     10074\n",
      "\n",
      "    accuracy                           0.93     20110\n",
      "   macro avg       0.93      0.93      0.93     20110\n",
      "weighted avg       0.93      0.93      0.93     20110\n",
      "\n",
      "Testing Results\n",
      "\n",
      "              precision    recall  f1-score   support\n",
      "\n",
      "           0       0.89      0.95      0.92      3371\n",
      "           1       0.95      0.88      0.91      3333\n",
      "\n",
      "    accuracy                           0.92      6704\n",
      "   macro avg       0.92      0.92      0.92      6704\n",
      "weighted avg       0.92      0.92      0.92      6704\n",
      "\n"
     ]
    },
    {
     "data": {
      "image/png": "[encoded data removed]",
      "text/plain": [
       "<Figure size 640x480 with 1 Axes>"
      ]
     },
     "metadata": {},
     "output_type": "display_data"
    }
   ],
   "source": [
    "\n",
    "xg = XGBClassifier()\n",
    "\n",
    "# Definiowanie siatki hiperparametrów do przetestowania\n",
    "param_grid = {\n",
    "    'n_estimators': [50, 100, 200],\n",
    "    'max_depth': [3, 5, 7],\n",
    "    'learning_rate': [0.01, 0.1, 0.2],\n",
    "    'subsample': [0.7, 0.8, 0.9],\n",
    "    'colsample_bytree': [0.7, 0.8, 0.9]\n",
    "}\n",
    "\n",
    "# Utworzenie obiektu GridSearchCV\n",
    "grid_search = GridSearchCV(estimator=xg, param_grid=param_grid, cv=3, scoring='accuracy')\n",
    "\n",
    "# Przeszukiwanie siatki parametrów\n",
    "grid_search.fit(x_train5, y_train5)\n",
    "\n",
    "# Najlepsze parametry i najlepszy model\n",
    "print(\"Najlepsze parametry: \", grid_search.best_params_)\n",
    "best_xg = grid_search.best_estimator_\n",
    "\n",
    "# Predykcje na zbiorze treningowym i testowym\n",
    "ypred_train4 = best_xg.predict(x_train5)\n",
    "y_pred_test4 = best_xg.predict(x_test5)\n",
    "\n",
    "# Ocena modelu\n",
    "print(\"Accuracy on Training set: \", accuracy_score(y_train5, ypred_train4))\n",
    "print(\"Accuracy on Test set: \", accuracy_score(y_test5, y_pred_test4))\n",
    "print(\"\\nTraining Results\\n\")\n",
    "print(classification_report(y_train5, ypred_train4))\n",
    "print('Testing Results\\n')\n",
    "print(classification_report(y_test5, y_pred_test4))\n",
    "\n",
    "# cross_val_scores = cross_val_score(best_xg, x_train5, y_train5, cv=5)\n",
    "# print(\"Cross-validation scores:\", cross_val_scores)\n",
    "# print(\"Average cross-validation score:\", np.mean(cross_val_scores))\n",
    "\n",
    "# Krzywa ROC\n",
    "y_proba_test4 = best_xg.predict_proba(x_test5)[:, 1]\n",
    "fpr, tpr, thresholds = roc_curve(y_test5, y_proba_test4)\n",
    "plt.plot(fpr, tpr)\n",
    "plt.title(\"ROC Curve with AUC = {:.2f}\".format(roc_auc_score(y_test5, y_proba_test4)))\n",
    "plt.show()"
   ]
  },
  {
   "cell_type": "markdown",
   "metadata": {},
   "source": [
    "## logistic regression\n"
   ]
  },
  {
   "cell_type": "code",
   "execution_count": 18,
   "metadata": {},
   "outputs": [
    {
     "name": "stdout",
     "output_type": "stream",
     "text": [
      "Najlepsze parametry:  {'C': 10, 'penalty': 'l1', 'solver': 'liblinear'}\n",
      "Accuracy on Training set:  0.9105420188960716\n",
      "Accuracy on Test set:  0.9061754176610979\n",
      "\n",
      "Training Results\n",
      "\n",
      "              precision    recall  f1-score   support\n",
      "\n",
      "           0       0.88      0.95      0.91     10036\n",
      "           1       0.95      0.87      0.91     10074\n",
      "\n",
      "    accuracy                           0.91     20110\n",
      "   macro avg       0.91      0.91      0.91     20110\n",
      "weighted avg       0.91      0.91      0.91     20110\n",
      "\n",
      "Testing Results\n",
      "\n",
      "              precision    recall  f1-score   support\n",
      "\n",
      "           0       0.88      0.95      0.91      3371\n",
      "           1       0.94      0.86      0.90      3333\n",
      "\n",
      "    accuracy                           0.91      6704\n",
      "   macro avg       0.91      0.91      0.91      6704\n",
      "weighted avg       0.91      0.91      0.91      6704\n",
      "\n"
     ]
    },
    {
     "data": {
      "image/png": "[encoded data removed]",
      "text/plain": [
       "<Figure size 640x480 with 1 Axes>"
      ]
     },
     "metadata": {},
     "output_type": "display_data"
    }
   ],
   "source": [
    "\n",
    "\n",
    "# Inicjalizacja modelu regresji logistycznej\n",
    "lg = LogisticRegression()\n",
    "\n",
    "# Definiowanie siatki hiperparametrów do przetestowania\n",
    "param_grid = {\n",
    "    'C': [0.01, 0.1, 1, 10, 100],  # Parametr regularyzacji\n",
    "    'penalty': ['l1', 'l2'],       # Typ regularyzacji\n",
    "    'solver': ['liblinear']        # Algorytm optymalizacji (liblinear jest dobrym wyborem dla małych zbiorów danych)\n",
    "}\n",
    "\n",
    "# Utworzenie obiektu GridSearchCV\n",
    "grid_search = GridSearchCV(estimator=lg, param_grid=param_grid, cv=5, scoring='accuracy')\n",
    "\n",
    "# Przeszukiwanie siatki parametrów\n",
    "grid_search.fit(x_train5, y_train5)\n",
    "\n",
    "# Najlepsze parametry i najlepszy model\n",
    "print(\"Najlepsze parametry: \", grid_search.best_params_)\n",
    "best_lg = grid_search.best_estimator_\n",
    "\n",
    "# Predykcje na zbiorze treningowym i testowym\n",
    "ypred_train4 = best_lg.predict(x_train5)\n",
    "y_pred_test4 = best_lg.predict(x_test5)\n",
    "\n",
    "# Ocena modelu\n",
    "print(\"Accuracy on Training set: \", accuracy_score(y_train5, ypred_train4))\n",
    "print(\"Accuracy on Test set: \", accuracy_score(y_test5, y_pred_test4))\n",
    "print(\"\\nTraining Results\\n\")\n",
    "print(classification_report(y_train5, ypred_train4))\n",
    "print('Testing Results\\n')\n",
    "print(classification_report(y_test5, y_pred_test4))\n",
    "\n",
    "# cross_val_scores = cross_val_score(best_lg, x_train5, y_train5, cv=5)\n",
    "# print(\"Cross-validation scores:\", cross_val_scores)\n",
    "# print(\"Average cross-validation score:\", np.mean(cross_val_scores))\n",
    "\n",
    "# Krzywa ROC\n",
    "y_proba_test4 = best_lg.predict_proba(x_test5)[:, 1]\n",
    "fpr, tpr, thresholds = roc_curve(y_test5, y_proba_test4)\n",
    "plt.plot(fpr, tpr)\n",
    "plt.title(\"ROC Curve with AUC = {:.2f}\".format(roc_auc_score(y_test5, y_proba_test4)))\n",
    "plt.show()"
   ]
  },
  {
   "cell_type": "markdown",
   "metadata": {},
   "source": [
    "## GradientBoostingClassifier"
   ]
  },
  {
   "cell_type": "code",
   "execution_count": 19,
   "metadata": {},
   "outputs": [
    {
     "name": "stdout",
     "output_type": "stream",
     "text": [
      "Najlepsze parametry:  {'learning_rate': 0.1, 'max_depth': 3, 'min_samples_leaf': 2, 'min_samples_split': 2, 'n_estimators': 300}\n",
      "Accuracy on Training set:  0.9294878170064644\n",
      "Accuracy on Test set:  0.915871121718377\n",
      "\n",
      "Training Results\n",
      "\n",
      "              precision    recall  f1-score   support\n",
      "\n",
      "           0       0.90      0.96      0.93     10036\n",
      "           1       0.96      0.90      0.93     10074\n",
      "\n",
      "    accuracy                           0.93     20110\n",
      "   macro avg       0.93      0.93      0.93     20110\n",
      "weighted avg       0.93      0.93      0.93     20110\n",
      "\n",
      "Testing Results\n",
      "\n",
      "              precision    recall  f1-score   support\n",
      "\n",
      "           0       0.89      0.95      0.92      3371\n",
      "           1       0.95      0.88      0.91      3333\n",
      "\n",
      "    accuracy                           0.92      6704\n",
      "   macro avg       0.92      0.92      0.92      6704\n",
      "weighted avg       0.92      0.92      0.92      6704\n",
      "\n"
     ]
    },
    {
     "data": {
      "image/png": "[encoded data removed]",
      "text/plain": [
       "<Figure size 640x480 with 1 Axes>"
      ]
     },
     "metadata": {},
     "output_type": "display_data"
    }
   ],
   "source": [
    "\n",
    "\n",
    "# Inicjalizacja modelu Gradient Boosting Classifier\n",
    "gb = GradientBoostingClassifier()\n",
    "\n",
    "# Definiowanie siatki hiperparametrów do przetestowania\n",
    "param_grid = {\n",
    "    'n_estimators': [100, 200, 300],  # Liczba drzew w ensemble\n",
    "    'learning_rate': [0.01, 0.1, 0.2], # Szybkość uczenia\n",
    "    'max_depth': [3, 5, 7],            # Maksymalna głębokość drzewa\n",
    "    'min_samples_split': [2, 4],       # Minimalna liczba próbek wymagana do podziału węzła\n",
    "    'min_samples_leaf': [1, 2]         # Minimalna liczba próbek w liściu\n",
    "}\n",
    "\n",
    "# Utworzenie obiektu GridSearchCV\n",
    "grid_search = GridSearchCV(estimator=gb, param_grid=param_grid, cv=5, scoring='accuracy')\n",
    "\n",
    "# Przeszukiwanie siatki parametrów\n",
    "grid_search.fit(x_train5, y_train5)\n",
    "\n",
    "# Najlepsze parametry i najlepszy model\n",
    "print(\"Najlepsze parametry: \", grid_search.best_params_)\n",
    "best_gb = grid_search.best_estimator_\n",
    "\n",
    "# Predykcje na zbiorze treningowym i testowym\n",
    "ypred_train6 = best_gb.predict(x_train5)\n",
    "y_pred_test6 = best_gb.predict(x_test5)\n",
    "\n",
    "# Ocena modelu\n",
    "print(\"Accuracy on Training set: \", accuracy_score(y_train5, ypred_train6))\n",
    "print(\"Accuracy on Test set: \", accuracy_score(y_test5, y_pred_test6))\n",
    "print(\"\\nTraining Results\\n\")\n",
    "print(classification_report(y_train5, ypred_train6))\n",
    "print('Testing Results\\n')\n",
    "print(classification_report(y_test5, y_pred_test6))\n",
    "\n",
    "# cross_val_scores = cross_val_score(best_gb, x_train5, y_train5, cv=5)\n",
    "# print(\"Cross-validation scores:\", cross_val_scores)\n",
    "# print(\"Average cross-validation score:\", np.mean(cross_val_scores))\n",
    "\n",
    "# Krzywa ROC\n",
    "y_proba_test6 = best_gb.predict_proba(x_test5)[:, 1]\n",
    "fpr, tpr, thresholds = roc_curve(y_test5, y_proba_test6)\n",
    "plt.plot(fpr, tpr)\n",
    "plt.title(\"ROC Curve with AUC = {:.2f}\".format(roc_auc_score(y_test5, y_proba_test6)))\n",
    "plt.show()"
   ]
  },
  {
   "cell_type": "markdown",
   "metadata": {},
   "source": [
    "## KNN"
   ]
  },
  {
   "cell_type": "code",
   "execution_count": 20,
   "metadata": {},
   "outputs": [
    {
     "data": {
      "text/html": [
       "<style>#sk-container-id-1 {color: black;}#sk-container-id-1 pre{padding: 0;}#sk-container-id-1 div.sk-toggleable {background-color: white;}#sk-container-id-1 label.sk-toggleable__label {cursor: pointer;display: block;width: 100%;margin-bottom: 0;padding: 0.3em;box-sizing: border-box;text-align: center;}#sk-container-id-1 label.sk-toggleable__label-arrow:before {content: \"▸\";float: left;margin-right: 0.25em;color: #696969;}#sk-container-id-1 label.sk-toggleable__label-arrow:hover:before {color: black;}#sk-container-id-1 div.sk-estimator:hover label.sk-toggleable__label-arrow:before {color: black;}#sk-container-id-1 div.sk-toggleable__content {max-height: 0;max-width: 0;overflow: hidden;text-align: left;background-color: #f0f8ff;}#sk-container-id-1 div.sk-toggleable__content pre {margin: 0.2em;color: black;border-radius: 0.25em;background-color: #f0f8ff;}#sk-container-id-1 input.sk-toggleable__control:checked~div.sk-toggleable__content {max-height: 200px;max-width: 100%;overflow: auto;}#sk-container-id-1 input.sk-toggleable__control:checked~label.sk-toggleable__label-arrow:before {content: \"▾\";}#sk-container-id-1 div.sk-estimator input.sk-toggleable__control:checked~label.sk-toggleable__label {background-color: #d4ebff;}#sk-container-id-1 div.sk-label input.sk-toggleable__control:checked~label.sk-toggleable__label {background-color: #d4ebff;}#sk-container-id-1 input.sk-hidden--visually {border: 0;clip: rect(1px 1px 1px 1px);clip: rect(1px, 1px, 1px, 1px);height: 1px;margin: -1px;overflow: hidden;padding: 0;position: absolute;width: 1px;}#sk-container-id-1 div.sk-estimator {font-family: monospace;background-color: #f0f8ff;border: 1px dotted black;border-radius: 0.25em;box-sizing: border-box;margin-bottom: 0.5em;}#sk-container-id-1 div.sk-estimator:hover {background-color: #d4ebff;}#sk-container-id-1 div.sk-parallel-item::after {content: \"\";width: 100%;border-bottom: 1px solid gray;flex-grow: 1;}#sk-container-id-1 div.sk-label:hover label.sk-toggleable__label {background-color: #d4ebff;}#sk-container-id-1 div.sk-serial::before {content: \"\";position: absolute;border-left: 1px solid gray;box-sizing: border-box;top: 0;bottom: 0;left: 50%;z-index: 0;}#sk-container-id-1 div.sk-serial {display: flex;flex-direction: column;align-items: center;background-color: white;padding-right: 0.2em;padding-left: 0.2em;position: relative;}#sk-container-id-1 div.sk-item {position: relative;z-index: 1;}#sk-container-id-1 div.sk-parallel {display: flex;align-items: stretch;justify-content: center;background-color: white;position: relative;}#sk-container-id-1 div.sk-item::before, #sk-container-id-1 div.sk-parallel-item::before {content: \"\";position: absolute;border-left: 1px solid gray;box-sizing: border-box;top: 0;bottom: 0;left: 50%;z-index: -1;}#sk-container-id-1 div.sk-parallel-item {display: flex;flex-direction: column;z-index: 1;position: relative;background-color: white;}#sk-container-id-1 div.sk-parallel-item:first-child::after {align-self: flex-end;width: 50%;}#sk-container-id-1 div.sk-parallel-item:last-child::after {align-self: flex-start;width: 50%;}#sk-container-id-1 div.sk-parallel-item:only-child::after {width: 0;}#sk-container-id-1 div.sk-dashed-wrapped {border: 1px dashed gray;margin: 0 0.4em 0.5em 0.4em;box-sizing: border-box;padding-bottom: 0.4em;background-color: white;}#sk-container-id-1 div.sk-label label {font-family: monospace;font-weight: bold;display: inline-block;line-height: 1.2em;}#sk-container-id-1 div.sk-label-container {text-align: center;}#sk-container-id-1 div.sk-container {/* jupyter's `normalize.less` sets `[hidden] { display: none; }` but bootstrap.min.css set `[hidden] { display: none !important; }` so we also need the `!important` here to be able to override the default hidden behavior on the sphinx rendered scikit-learn.org. See: https://github.com/scikit-learn/scikit-learn/issues/21755 */display: inline-block !important;position: relative;}#sk-container-id-1 div.sk-text-repr-fallback {display: none;}</style><div id=\"sk-container-id-1\" class=\"sk-top-container\"><div class=\"sk-text-repr-fallback\"><pre>KNeighborsClassifier()</pre><b>In a Jupyter environment, please rerun this cell to show the HTML representation or trust the notebook. <br />On GitHub, the HTML representation is unable to render, please try loading this page with nbviewer.org.</b></div><div class=\"sk-container\" hidden><div class=\"sk-item\"><div class=\"sk-estimator sk-toggleable\"><input class=\"sk-toggleable__control sk-hidden--visually\" id=\"sk-estimator-id-1\" type=\"checkbox\" checked><label for=\"sk-estimator-id-1\" class=\"sk-toggleable__label sk-toggleable__label-arrow\">KNeighborsClassifier</label><div class=\"sk-toggleable__content\"><pre>KNeighborsClassifier()</pre></div></div></div></div></div>"
      ],
      "text/plain": [
       "KNeighborsClassifier()"
      ]
     },
     "execution_count": 20,
     "metadata": {},
     "output_type": "execute_result"
    }
   ],
   "source": [
    "knn = KNeighborsClassifier()\n",
    "knn.fit(x_train5, y_train5)\n"
   ]
  },
  {
   "cell_type": "code",
   "execution_count": 21,
   "metadata": {},
   "outputs": [],
   "source": [
    "grid_cv = GridSearchCV(KNeighborsClassifier(), \n",
    "                       param_grid={\n",
    "                           \"n_neighbors\": range(1, 50)\n",
    "                       }, cv=5, scoring=\"f1\", \n",
    "                       verbose=1, n_jobs=6)\n"
   ]
  },
  {
   "cell_type": "code",
   "execution_count": 22,
   "metadata": {},
   "outputs": [
    {
     "name": "stdout",
     "output_type": "stream",
     "text": [
      "Fitting 5 folds for each of 49 candidates, totalling 245 fits\n"
     ]
    },
    {
     "data": {
      "text/html": [
       "<style>#sk-container-id-2 {color: black;}#sk-container-id-2 pre{padding: 0;}#sk-container-id-2 div.sk-toggleable {background-color: white;}#sk-container-id-2 label.sk-toggleable__label {cursor: pointer;display: block;width: 100%;margin-bottom: 0;padding: 0.3em;box-sizing: border-box;text-align: center;}#sk-container-id-2 label.sk-toggleable__label-arrow:before {content: \"▸\";float: left;margin-right: 0.25em;color: #696969;}#sk-container-id-2 label.sk-toggleable__label-arrow:hover:before {color: black;}#sk-container-id-2 div.sk-estimator:hover label.sk-toggleable__label-arrow:before {color: black;}#sk-container-id-2 div.sk-toggleable__content {max-height: 0;max-width: 0;overflow: hidden;text-align: left;background-color: #f0f8ff;}#sk-container-id-2 div.sk-toggleable__content pre {margin: 0.2em;color: black;border-radius: 0.25em;background-color: #f0f8ff;}#sk-container-id-2 input.sk-toggleable__control:checked~div.sk-toggleable__content {max-height: 200px;max-width: 100%;overflow: auto;}#sk-container-id-2 input.sk-toggleable__control:checked~label.sk-toggleable__label-arrow:before {content: \"▾\";}#sk-container-id-2 div.sk-estimator input.sk-toggleable__control:checked~label.sk-toggleable__label {background-color: #d4ebff;}#sk-container-id-2 div.sk-label input.sk-toggleable__control:checked~label.sk-toggleable__label {background-color: #d4ebff;}#sk-container-id-2 input.sk-hidden--visually {border: 0;clip: rect(1px 1px 1px 1px);clip: rect(1px, 1px, 1px, 1px);height: 1px;margin: -1px;overflow: hidden;padding: 0;position: absolute;width: 1px;}#sk-container-id-2 div.sk-estimator {font-family: monospace;background-color: #f0f8ff;border: 1px dotted black;border-radius: 0.25em;box-sizing: border-box;margin-bottom: 0.5em;}#sk-container-id-2 div.sk-estimator:hover {background-color: #d4ebff;}#sk-container-id-2 div.sk-parallel-item::after {content: \"\";width: 100%;border-bottom: 1px solid gray;flex-grow: 1;}#sk-container-id-2 div.sk-label:hover label.sk-toggleable__label {background-color: #d4ebff;}#sk-container-id-2 div.sk-serial::before {content: \"\";position: absolute;border-left: 1px solid gray;box-sizing: border-box;top: 0;bottom: 0;left: 50%;z-index: 0;}#sk-container-id-2 div.sk-serial {display: flex;flex-direction: column;align-items: center;background-color: white;padding-right: 0.2em;padding-left: 0.2em;position: relative;}#sk-container-id-2 div.sk-item {position: relative;z-index: 1;}#sk-container-id-2 div.sk-parallel {display: flex;align-items: stretch;justify-content: center;background-color: white;position: relative;}#sk-container-id-2 div.sk-item::before, #sk-container-id-2 div.sk-parallel-item::before {content: \"\";position: absolute;border-left: 1px solid gray;box-sizing: border-box;top: 0;bottom: 0;left: 50%;z-index: -1;}#sk-container-id-2 div.sk-parallel-item {display: flex;flex-direction: column;z-index: 1;position: relative;background-color: white;}#sk-container-id-2 div.sk-parallel-item:first-child::after {align-self: flex-end;width: 50%;}#sk-container-id-2 div.sk-parallel-item:last-child::after {align-self: flex-start;width: 50%;}#sk-container-id-2 div.sk-parallel-item:only-child::after {width: 0;}#sk-container-id-2 div.sk-dashed-wrapped {border: 1px dashed gray;margin: 0 0.4em 0.5em 0.4em;box-sizing: border-box;padding-bottom: 0.4em;background-color: white;}#sk-container-id-2 div.sk-label label {font-family: monospace;font-weight: bold;display: inline-block;line-height: 1.2em;}#sk-container-id-2 div.sk-label-container {text-align: center;}#sk-container-id-2 div.sk-container {/* jupyter's `normalize.less` sets `[hidden] { display: none; }` but bootstrap.min.css set `[hidden] { display: none !important; }` so we also need the `!important` here to be able to override the default hidden behavior on the sphinx rendered scikit-learn.org. See: https://github.com/scikit-learn/scikit-learn/issues/21755 */display: inline-block !important;position: relative;}#sk-container-id-2 div.sk-text-repr-fallback {display: none;}</style><div id=\"sk-container-id-2\" class=\"sk-top-container\"><div class=\"sk-text-repr-fallback\"><pre>GridSearchCV(cv=5, estimator=KNeighborsClassifier(), n_jobs=6,\n",
       "             param_grid={&#x27;n_neighbors&#x27;: range(1, 50)}, scoring=&#x27;f1&#x27;, verbose=1)</pre><b>In a Jupyter environment, please rerun this cell to show the HTML representation or trust the notebook. <br />On GitHub, the HTML representation is unable to render, please try loading this page with nbviewer.org.</b></div><div class=\"sk-container\" hidden><div class=\"sk-item sk-dashed-wrapped\"><div class=\"sk-label-container\"><div class=\"sk-label sk-toggleable\"><input class=\"sk-toggleable__control sk-hidden--visually\" id=\"sk-estimator-id-2\" type=\"checkbox\" ><label for=\"sk-estimator-id-2\" class=\"sk-toggleable__label sk-toggleable__label-arrow\">GridSearchCV</label><div class=\"sk-toggleable__content\"><pre>GridSearchCV(cv=5, estimator=KNeighborsClassifier(), n_jobs=6,\n",
       "             param_grid={&#x27;n_neighbors&#x27;: range(1, 50)}, scoring=&#x27;f1&#x27;, verbose=1)</pre></div></div></div><div class=\"sk-parallel\"><div class=\"sk-parallel-item\"><div class=\"sk-item\"><div class=\"sk-label-container\"><div class=\"sk-label sk-toggleable\"><input class=\"sk-toggleable__control sk-hidden--visually\" id=\"sk-estimator-id-3\" type=\"checkbox\" ><label for=\"sk-estimator-id-3\" class=\"sk-toggleable__label sk-toggleable__label-arrow\">estimator: KNeighborsClassifier</label><div class=\"sk-toggleable__content\"><pre>KNeighborsClassifier()</pre></div></div></div><div class=\"sk-serial\"><div class=\"sk-item\"><div class=\"sk-estimator sk-toggleable\"><input class=\"sk-toggleable__control sk-hidden--visually\" id=\"sk-estimator-id-4\" type=\"checkbox\" ><label for=\"sk-estimator-id-4\" class=\"sk-toggleable__label sk-toggleable__label-arrow\">KNeighborsClassifier</label><div class=\"sk-toggleable__content\"><pre>KNeighborsClassifier()</pre></div></div></div></div></div></div></div></div></div></div>"
      ],
      "text/plain": [
       "GridSearchCV(cv=5, estimator=KNeighborsClassifier(), n_jobs=6,\n",
       "             param_grid={'n_neighbors': range(1, 50)}, scoring='f1', verbose=1)"
      ]
     },
     "execution_count": 22,
     "metadata": {},
     "output_type": "execute_result"
    }
   ],
   "source": [
    "grid_cv.fit(x_train5, \n",
    "            y_train5)"
   ]
  },
  {
   "cell_type": "code",
   "execution_count": 23,
   "metadata": {},
   "outputs": [
    {
     "data": {
      "text/plain": [
       "0.8727853412808372"
      ]
     },
     "execution_count": 23,
     "metadata": {},
     "output_type": "execute_result"
    }
   ],
   "source": [
    "grid_cv.best_score_\n"
   ]
  },
  {
   "cell_type": "code",
   "execution_count": 24,
   "metadata": {},
   "outputs": [
    {
     "data": {
      "text/html": [
       "<style>#sk-container-id-3 {color: black;}#sk-container-id-3 pre{padding: 0;}#sk-container-id-3 div.sk-toggleable {background-color: white;}#sk-container-id-3 label.sk-toggleable__label {cursor: pointer;display: block;width: 100%;margin-bottom: 0;padding: 0.3em;box-sizing: border-box;text-align: center;}#sk-container-id-3 label.sk-toggleable__label-arrow:before {content: \"▸\";float: left;margin-right: 0.25em;color: #696969;}#sk-container-id-3 label.sk-toggleable__label-arrow:hover:before {color: black;}#sk-container-id-3 div.sk-estimator:hover label.sk-toggleable__label-arrow:before {color: black;}#sk-container-id-3 div.sk-toggleable__content {max-height: 0;max-width: 0;overflow: hidden;text-align: left;background-color: #f0f8ff;}#sk-container-id-3 div.sk-toggleable__content pre {margin: 0.2em;color: black;border-radius: 0.25em;background-color: #f0f8ff;}#sk-container-id-3 input.sk-toggleable__control:checked~div.sk-toggleable__content {max-height: 200px;max-width: 100%;overflow: auto;}#sk-container-id-3 input.sk-toggleable__control:checked~label.sk-toggleable__label-arrow:before {content: \"▾\";}#sk-container-id-3 div.sk-estimator input.sk-toggleable__control:checked~label.sk-toggleable__label {background-color: #d4ebff;}#sk-container-id-3 div.sk-label input.sk-toggleable__control:checked~label.sk-toggleable__label {background-color: #d4ebff;}#sk-container-id-3 input.sk-hidden--visually {border: 0;clip: rect(1px 1px 1px 1px);clip: rect(1px, 1px, 1px, 1px);height: 1px;margin: -1px;overflow: hidden;padding: 0;position: absolute;width: 1px;}#sk-container-id-3 div.sk-estimator {font-family: monospace;background-color: #f0f8ff;border: 1px dotted black;border-radius: 0.25em;box-sizing: border-box;margin-bottom: 0.5em;}#sk-container-id-3 div.sk-estimator:hover {background-color: #d4ebff;}#sk-container-id-3 div.sk-parallel-item::after {content: \"\";width: 100%;border-bottom: 1px solid gray;flex-grow: 1;}#sk-container-id-3 div.sk-label:hover label.sk-toggleable__label {background-color: #d4ebff;}#sk-container-id-3 div.sk-serial::before {content: \"\";position: absolute;border-left: 1px solid gray;box-sizing: border-box;top: 0;bottom: 0;left: 50%;z-index: 0;}#sk-container-id-3 div.sk-serial {display: flex;flex-direction: column;align-items: center;background-color: white;padding-right: 0.2em;padding-left: 0.2em;position: relative;}#sk-container-id-3 div.sk-item {position: relative;z-index: 1;}#sk-container-id-3 div.sk-parallel {display: flex;align-items: stretch;justify-content: center;background-color: white;position: relative;}#sk-container-id-3 div.sk-item::before, #sk-container-id-3 div.sk-parallel-item::before {content: \"\";position: absolute;border-left: 1px solid gray;box-sizing: border-box;top: 0;bottom: 0;left: 50%;z-index: -1;}#sk-container-id-3 div.sk-parallel-item {display: flex;flex-direction: column;z-index: 1;position: relative;background-color: white;}#sk-container-id-3 div.sk-parallel-item:first-child::after {align-self: flex-end;width: 50%;}#sk-container-id-3 div.sk-parallel-item:last-child::after {align-self: flex-start;width: 50%;}#sk-container-id-3 div.sk-parallel-item:only-child::after {width: 0;}#sk-container-id-3 div.sk-dashed-wrapped {border: 1px dashed gray;margin: 0 0.4em 0.5em 0.4em;box-sizing: border-box;padding-bottom: 0.4em;background-color: white;}#sk-container-id-3 div.sk-label label {font-family: monospace;font-weight: bold;display: inline-block;line-height: 1.2em;}#sk-container-id-3 div.sk-label-container {text-align: center;}#sk-container-id-3 div.sk-container {/* jupyter's `normalize.less` sets `[hidden] { display: none; }` but bootstrap.min.css set `[hidden] { display: none !important; }` so we also need the `!important` here to be able to override the default hidden behavior on the sphinx rendered scikit-learn.org. See: https://github.com/scikit-learn/scikit-learn/issues/21755 */display: inline-block !important;position: relative;}#sk-container-id-3 div.sk-text-repr-fallback {display: none;}</style><div id=\"sk-container-id-3\" class=\"sk-top-container\"><div class=\"sk-text-repr-fallback\"><pre>KNeighborsClassifier()</pre><b>In a Jupyter environment, please rerun this cell to show the HTML representation or trust the notebook. <br />On GitHub, the HTML representation is unable to render, please try loading this page with nbviewer.org.</b></div><div class=\"sk-container\" hidden><div class=\"sk-item\"><div class=\"sk-estimator sk-toggleable\"><input class=\"sk-toggleable__control sk-hidden--visually\" id=\"sk-estimator-id-5\" type=\"checkbox\" checked><label for=\"sk-estimator-id-5\" class=\"sk-toggleable__label sk-toggleable__label-arrow\">KNeighborsClassifier</label><div class=\"sk-toggleable__content\"><pre>KNeighborsClassifier()</pre></div></div></div></div></div>"
      ],
      "text/plain": [
       "KNeighborsClassifier()"
      ]
     },
     "execution_count": 24,
     "metadata": {},
     "output_type": "execute_result"
    }
   ],
   "source": [
    "knn = grid_cv.best_estimator_\n",
    "knn"
   ]
  },
  {
   "cell_type": "code",
   "execution_count": 25,
   "metadata": {},
   "outputs": [
    {
     "name": "stdout",
     "output_type": "stream",
     "text": [
      "XGBClassifier Accuracy:  0.8803699284009546\n"
     ]
    }
   ],
   "source": [
    "ypred_train7 = grid_cv.predict(x_train5)\n",
    "y_pred_test7 = grid_cv.predict(x_test5)\n",
    "print(\"XGBClassifier Accuracy: \",accuracy_score(y_test5, y_pred_test7))"
   ]
  },
  {
   "cell_type": "code",
   "execution_count": 26,
   "metadata": {},
   "outputs": [
    {
     "name": "stdout",
     "output_type": "stream",
     "text": [
      "Training Results\n",
      "\n",
      "              precision    recall  f1-score   support\n",
      "\n",
      "           0       0.87      0.97      0.92     10036\n",
      "           1       0.96      0.86      0.91     10074\n",
      "\n",
      "    accuracy                           0.91     20110\n",
      "   macro avg       0.92      0.91      0.91     20110\n",
      "weighted avg       0.92      0.91      0.91     20110\n",
      "\n"
     ]
    }
   ],
   "source": [
    "print(\"Training Results\\n\")\n",
    "print(classification_report(y_train5, ypred_train7))"
   ]
  },
  {
   "cell_type": "code",
   "execution_count": 27,
   "metadata": {},
   "outputs": [
    {
     "name": "stdout",
     "output_type": "stream",
     "text": [
      "Training Results\n",
      "\n",
      "              precision    recall  f1-score   support\n",
      "\n",
      "           0       0.83      0.95      0.89      3371\n",
      "           1       0.94      0.81      0.87      3333\n",
      "\n",
      "    accuracy                           0.88      6704\n",
      "   macro avg       0.89      0.88      0.88      6704\n",
      "weighted avg       0.89      0.88      0.88      6704\n",
      "\n"
     ]
    }
   ],
   "source": [
    "print(\"Training Results\\n\")\n",
    "print(classification_report(y_test5, y_pred_test7))"
   ]
  },
  {
   "cell_type": "code",
   "execution_count": 28,
   "metadata": {},
   "outputs": [
    {
     "data": {
      "image/png": "[encoded data removed]",
      "text/plain": [
       "<Figure size 640x480 with 1 Axes>"
      ]
     },
     "metadata": {},
     "output_type": "display_data"
    }
   ],
   "source": [
    "# cross_val_scores = cross_val_score(grid_cv, x_train5, y_train5, cv=5)\n",
    "# print(\"Cross-validation scores:\", cross_val_scores)\n",
    "# print(\"Average cross-validation score:\", np.mean(cross_val_scores))\n",
    "\n",
    "y_proba_test = grid_cv.predict_proba(x_test5)[:, 1]\n",
    "\n",
    "fpr, tpr, thresholds = roc_curve(y_test5, y_proba_test)\n",
    "\n",
    "plt.plot(fpr, tpr, label='ROC Curve')\n",
    "plt.xlabel('False Positive Rate')\n",
    "plt.ylabel('True Positive Rate')\n",
    "plt.title('ROC Curve with AUC = {:.2f}'.format(roc_auc_score(y_test5, y_proba_test)))\n",
    "plt.legend(loc='lower right')\n",
    "plt.grid(True)\n",
    "plt.show()"
   ]
  },
  {
   "cell_type": "markdown",
   "metadata": {},
   "source": [
    "## SIECI NEURONOWE"
   ]
  },
  {
   "cell_type": "markdown",
   "metadata": {},
   "source": [
    "## ANN"
   ]
  },
  {
   "cell_type": "code",
   "execution_count": 29,
   "metadata": {},
   "outputs": [
    {
     "name": "stdout",
     "output_type": "stream",
     "text": [
      "WARNING:tensorflow:From C:\\Users\\DELL\\AppData\\Roaming\\Python\\Python311\\site-packages\\keras\\src\\backend.py:873: The name tf.get_default_graph is deprecated. Please use tf.compat.v1.get_default_graph instead.\n",
      "\n"
     ]
    }
   ],
   "source": [
    "ann = tf.keras.models.Sequential()"
   ]
  },
  {
   "cell_type": "code",
   "execution_count": 30,
   "metadata": {},
   "outputs": [],
   "source": [
    "early_stop = EarlyStopping(monitor='val_loss', mode='min', verbose=1, patience=25)\n"
   ]
  },
  {
   "cell_type": "code",
   "execution_count": 31,
   "metadata": {},
   "outputs": [],
   "source": [
    "ann.add(tf.keras.layers.Dense(units=20, activation='relu'))"
   ]
  },
  {
   "cell_type": "code",
   "execution_count": 32,
   "metadata": {},
   "outputs": [],
   "source": [
    "ann.add(tf.keras.layers.Dense(units=6, activation='relu'))"
   ]
  },
  {
   "cell_type": "code",
   "execution_count": 33,
   "metadata": {},
   "outputs": [],
   "source": [
    "ann.add(tf.keras.layers.Dense(units=1, activation='sigmoid'))"
   ]
  },
  {
   "cell_type": "code",
   "execution_count": 34,
   "metadata": {},
   "outputs": [
    {
     "name": "stdout",
     "output_type": "stream",
     "text": [
      "WARNING:tensorflow:From C:\\Users\\DELL\\AppData\\Roaming\\Python\\Python311\\site-packages\\keras\\src\\optimizers\\__init__.py:309: The name tf.train.Optimizer is deprecated. Please use tf.compat.v1.train.Optimizer instead.\n",
      "\n"
     ]
    }
   ],
   "source": [
    "ann.compile(optimizer = 'adam', loss = 'binary_crossentropy', metrics = ['accuracy'])"
   ]
  },
  {
   "cell_type": "code",
   "execution_count": 35,
   "metadata": {},
   "outputs": [
    {
     "name": "stdout",
     "output_type": "stream",
     "text": [
      "Epoch 1/100\n",
      "WARNING:tensorflow:From C:\\Users\\DELL\\AppData\\Roaming\\Python\\Python311\\site-packages\\keras\\src\\utils\\tf_utils.py:492: The name tf.ragged.RaggedTensorValue is deprecated. Please use tf.compat.v1.ragged.RaggedTensorValue instead.\n",
      "\n",
      "WARNING:tensorflow:From C:\\Users\\DELL\\AppData\\Roaming\\Python\\Python311\\site-packages\\keras\\src\\engine\\base_layer_utils.py:384: The name tf.executing_eagerly_outside_functions is deprecated. Please use tf.compat.v1.executing_eagerly_outside_functions instead.\n",
      "\n",
      "629/629 [==============================] - 1s 1ms/step - loss: 0.3983 - accuracy: 0.8261 - val_loss: 0.2799 - val_accuracy: 0.8887\n",
      "Epoch 2/100\n",
      "629/629 [==============================] - 1s 1ms/step - loss: 0.2597 - accuracy: 0.8942 - val_loss: 0.2651 - val_accuracy: 0.8956\n",
      "Epoch 3/100\n",
      "629/629 [==============================] - 1s 1ms/step - loss: 0.2505 - accuracy: 0.9006 - val_loss: 0.2600 - val_accuracy: 0.8971\n",
      "Epoch 4/100\n",
      "629/629 [==============================] - 1s 1ms/step - loss: 0.2451 - accuracy: 0.9033 - val_loss: 0.2534 - val_accuracy: 0.9027\n",
      "Epoch 5/100\n",
      "629/629 [==============================] - 1s 1ms/step - loss: 0.2417 - accuracy: 0.9049 - val_loss: 0.2525 - val_accuracy: 0.9017\n",
      "Epoch 6/100\n",
      "629/629 [==============================] - 1s 1ms/step - loss: 0.2386 - accuracy: 0.9066 - val_loss: 0.2477 - val_accuracy: 0.9039\n",
      "Epoch 7/100\n",
      "629/629 [==============================] - 1s 1ms/step - loss: 0.2361 - accuracy: 0.9086 - val_loss: 0.2475 - val_accuracy: 0.9051\n",
      "Epoch 8/100\n",
      "629/629 [==============================] - 1s 1ms/step - loss: 0.2338 - accuracy: 0.9099 - val_loss: 0.2464 - val_accuracy: 0.9056\n",
      "Epoch 9/100\n",
      "629/629 [==============================] - 1s 1ms/step - loss: 0.2324 - accuracy: 0.9107 - val_loss: 0.2436 - val_accuracy: 0.9069\n",
      "Epoch 10/100\n",
      "629/629 [==============================] - 1s 1ms/step - loss: 0.2311 - accuracy: 0.9122 - val_loss: 0.2445 - val_accuracy: 0.9050\n",
      "Epoch 11/100\n",
      "629/629 [==============================] - 1s 1ms/step - loss: 0.2299 - accuracy: 0.9125 - val_loss: 0.2435 - val_accuracy: 0.9057\n",
      "Epoch 12/100\n",
      "629/629 [==============================] - 1s 1ms/step - loss: 0.2281 - accuracy: 0.9122 - val_loss: 0.2413 - val_accuracy: 0.9068\n",
      "Epoch 13/100\n",
      "629/629 [==============================] - 1s 1ms/step - loss: 0.2268 - accuracy: 0.9143 - val_loss: 0.2404 - val_accuracy: 0.9060\n",
      "Epoch 14/100\n",
      "629/629 [==============================] - 1s 1ms/step - loss: 0.2263 - accuracy: 0.9144 - val_loss: 0.2403 - val_accuracy: 0.9095\n",
      "Epoch 15/100\n",
      "629/629 [==============================] - 1s 1ms/step - loss: 0.2252 - accuracy: 0.9127 - val_loss: 0.2404 - val_accuracy: 0.9080\n",
      "Epoch 16/100\n",
      "629/629 [==============================] - 1s 1ms/step - loss: 0.2235 - accuracy: 0.9135 - val_loss: 0.2383 - val_accuracy: 0.9099\n",
      "Epoch 17/100\n",
      "629/629 [==============================] - 1s 1ms/step - loss: 0.2231 - accuracy: 0.9146 - val_loss: 0.2386 - val_accuracy: 0.9096\n",
      "Epoch 18/100\n",
      "629/629 [==============================] - 1s 1ms/step - loss: 0.2219 - accuracy: 0.9148 - val_loss: 0.2399 - val_accuracy: 0.9078\n",
      "Epoch 19/100\n",
      "629/629 [==============================] - 1s 1ms/step - loss: 0.2208 - accuracy: 0.9152 - val_loss: 0.2373 - val_accuracy: 0.9109\n",
      "Epoch 20/100\n",
      "629/629 [==============================] - 1s 1ms/step - loss: 0.2196 - accuracy: 0.9160 - val_loss: 0.2366 - val_accuracy: 0.9111\n",
      "Epoch 21/100\n",
      "629/629 [==============================] - 1s 1ms/step - loss: 0.2185 - accuracy: 0.9161 - val_loss: 0.2384 - val_accuracy: 0.9092\n",
      "Epoch 22/100\n",
      "629/629 [==============================] - 1s 1ms/step - loss: 0.2179 - accuracy: 0.9157 - val_loss: 0.2397 - val_accuracy: 0.9087\n",
      "Epoch 23/100\n",
      "629/629 [==============================] - 1s 1ms/step - loss: 0.2171 - accuracy: 0.9164 - val_loss: 0.2347 - val_accuracy: 0.9112\n",
      "Epoch 24/100\n",
      "629/629 [==============================] - 1s 1ms/step - loss: 0.2162 - accuracy: 0.9175 - val_loss: 0.2336 - val_accuracy: 0.9123\n",
      "Epoch 25/100\n",
      "629/629 [==============================] - 1s 1ms/step - loss: 0.2148 - accuracy: 0.9167 - val_loss: 0.2378 - val_accuracy: 0.9104\n",
      "Epoch 26/100\n",
      "629/629 [==============================] - 1s 1ms/step - loss: 0.2150 - accuracy: 0.9169 - val_loss: 0.2354 - val_accuracy: 0.9105\n",
      "Epoch 27/100\n",
      "629/629 [==============================] - 1s 1ms/step - loss: 0.2143 - accuracy: 0.9171 - val_loss: 0.2331 - val_accuracy: 0.9115\n",
      "Epoch 28/100\n",
      "629/629 [==============================] - 1s 1ms/step - loss: 0.2134 - accuracy: 0.9179 - val_loss: 0.2331 - val_accuracy: 0.9112\n",
      "Epoch 29/100\n",
      "629/629 [==============================] - 1s 1ms/step - loss: 0.2130 - accuracy: 0.9180 - val_loss: 0.2325 - val_accuracy: 0.9124\n",
      "Epoch 30/100\n",
      "629/629 [==============================] - 1s 1ms/step - loss: 0.2120 - accuracy: 0.9178 - val_loss: 0.2376 - val_accuracy: 0.9105\n",
      "Epoch 31/100\n",
      "629/629 [==============================] - 1s 1ms/step - loss: 0.2127 - accuracy: 0.9188 - val_loss: 0.2322 - val_accuracy: 0.9126\n",
      "Epoch 32/100\n",
      "629/629 [==============================] - 1s 1ms/step - loss: 0.2120 - accuracy: 0.9184 - val_loss: 0.2318 - val_accuracy: 0.9115\n",
      "Epoch 33/100\n",
      "629/629 [==============================] - 1s 1ms/step - loss: 0.2108 - accuracy: 0.9185 - val_loss: 0.2353 - val_accuracy: 0.9118\n",
      "Epoch 34/100\n",
      "629/629 [==============================] - 1s 1ms/step - loss: 0.2103 - accuracy: 0.9195 - val_loss: 0.2332 - val_accuracy: 0.9112\n",
      "Epoch 35/100\n",
      "629/629 [==============================] - 1s 1ms/step - loss: 0.2104 - accuracy: 0.9195 - val_loss: 0.2326 - val_accuracy: 0.9127\n",
      "Epoch 36/100\n",
      "629/629 [==============================] - 1s 1ms/step - loss: 0.2107 - accuracy: 0.9186 - val_loss: 0.2315 - val_accuracy: 0.9124\n",
      "Epoch 37/100\n",
      "629/629 [==============================] - 1s 1ms/step - loss: 0.2092 - accuracy: 0.9191 - val_loss: 0.2338 - val_accuracy: 0.9108\n",
      "Epoch 38/100\n",
      "629/629 [==============================] - 1s 1ms/step - loss: 0.2094 - accuracy: 0.9196 - val_loss: 0.2324 - val_accuracy: 0.9115\n",
      "Epoch 39/100\n",
      "629/629 [==============================] - 1s 1ms/step - loss: 0.2095 - accuracy: 0.9182 - val_loss: 0.2309 - val_accuracy: 0.9124\n",
      "Epoch 40/100\n",
      "629/629 [==============================] - 1s 1ms/step - loss: 0.2084 - accuracy: 0.9203 - val_loss: 0.2320 - val_accuracy: 0.9121\n",
      "Epoch 41/100\n",
      "629/629 [==============================] - 1s 1ms/step - loss: 0.2086 - accuracy: 0.9201 - val_loss: 0.2417 - val_accuracy: 0.9105\n",
      "Epoch 42/100\n",
      "629/629 [==============================] - 1s 1ms/step - loss: 0.2079 - accuracy: 0.9188 - val_loss: 0.2308 - val_accuracy: 0.9117\n",
      "Epoch 43/100\n",
      "629/629 [==============================] - 1s 1ms/step - loss: 0.2083 - accuracy: 0.9200 - val_loss: 0.2297 - val_accuracy: 0.9124\n",
      "Epoch 44/100\n",
      "629/629 [==============================] - 1s 1ms/step - loss: 0.2081 - accuracy: 0.9199 - val_loss: 0.2309 - val_accuracy: 0.9104\n",
      "Epoch 45/100\n",
      "629/629 [==============================] - 1s 1ms/step - loss: 0.2079 - accuracy: 0.9190 - val_loss: 0.2295 - val_accuracy: 0.9114\n",
      "Epoch 46/100\n",
      "629/629 [==============================] - 1s 1ms/step - loss: 0.2082 - accuracy: 0.9183 - val_loss: 0.2320 - val_accuracy: 0.9117\n",
      "Epoch 47/100\n",
      "629/629 [==============================] - 1s 1ms/step - loss: 0.2076 - accuracy: 0.9195 - val_loss: 0.2320 - val_accuracy: 0.9117\n",
      "Epoch 48/100\n",
      "629/629 [==============================] - 1s 1ms/step - loss: 0.2075 - accuracy: 0.9189 - val_loss: 0.2372 - val_accuracy: 0.9114\n",
      "Epoch 49/100\n",
      "629/629 [==============================] - 1s 1ms/step - loss: 0.2068 - accuracy: 0.9206 - val_loss: 0.2295 - val_accuracy: 0.9127\n",
      "Epoch 50/100\n",
      "629/629 [==============================] - 1s 1ms/step - loss: 0.2071 - accuracy: 0.9198 - val_loss: 0.2307 - val_accuracy: 0.9123\n",
      "Epoch 51/100\n",
      "629/629 [==============================] - 1s 1ms/step - loss: 0.2062 - accuracy: 0.9195 - val_loss: 0.2313 - val_accuracy: 0.9130\n",
      "Epoch 52/100\n",
      "629/629 [==============================] - 1s 1ms/step - loss: 0.2055 - accuracy: 0.9204 - val_loss: 0.2293 - val_accuracy: 0.9124\n",
      "Epoch 53/100\n",
      "629/629 [==============================] - 1s 1ms/step - loss: 0.2059 - accuracy: 0.9206 - val_loss: 0.2318 - val_accuracy: 0.9120\n",
      "Epoch 54/100\n",
      "629/629 [==============================] - 1s 1ms/step - loss: 0.2052 - accuracy: 0.9203 - val_loss: 0.2284 - val_accuracy: 0.9124\n",
      "Epoch 55/100\n",
      "629/629 [==============================] - 1s 1ms/step - loss: 0.2052 - accuracy: 0.9205 - val_loss: 0.2299 - val_accuracy: 0.9141\n",
      "Epoch 56/100\n",
      "629/629 [==============================] - 1s 1ms/step - loss: 0.2047 - accuracy: 0.9212 - val_loss: 0.2307 - val_accuracy: 0.9117\n",
      "Epoch 57/100\n",
      "629/629 [==============================] - 1s 1ms/step - loss: 0.2064 - accuracy: 0.9186 - val_loss: 0.2285 - val_accuracy: 0.9132\n",
      "Epoch 58/100\n",
      "629/629 [==============================] - 1s 1ms/step - loss: 0.2046 - accuracy: 0.9202 - val_loss: 0.2329 - val_accuracy: 0.9108\n",
      "Epoch 59/100\n",
      "629/629 [==============================] - 1s 1ms/step - loss: 0.2047 - accuracy: 0.9199 - val_loss: 0.2306 - val_accuracy: 0.9126\n",
      "Epoch 60/100\n",
      "629/629 [==============================] - 1s 1ms/step - loss: 0.2051 - accuracy: 0.9196 - val_loss: 0.2300 - val_accuracy: 0.9117\n",
      "Epoch 61/100\n",
      "629/629 [==============================] - 1s 1ms/step - loss: 0.2047 - accuracy: 0.9198 - val_loss: 0.2294 - val_accuracy: 0.9120\n",
      "Epoch 62/100\n",
      "629/629 [==============================] - 1s 1ms/step - loss: 0.2043 - accuracy: 0.9215 - val_loss: 0.2277 - val_accuracy: 0.9133\n",
      "Epoch 63/100\n",
      "629/629 [==============================] - 1s 1ms/step - loss: 0.2038 - accuracy: 0.9200 - val_loss: 0.2295 - val_accuracy: 0.9130\n",
      "Epoch 64/100\n",
      "629/629 [==============================] - 1s 1ms/step - loss: 0.2035 - accuracy: 0.9203 - val_loss: 0.2382 - val_accuracy: 0.9093\n",
      "Epoch 65/100\n",
      "629/629 [==============================] - 1s 1ms/step - loss: 0.2035 - accuracy: 0.9214 - val_loss: 0.2272 - val_accuracy: 0.9123\n",
      "Epoch 66/100\n",
      "629/629 [==============================] - 1s 1ms/step - loss: 0.2038 - accuracy: 0.9202 - val_loss: 0.2301 - val_accuracy: 0.9126\n",
      "Epoch 67/100\n",
      "629/629 [==============================] - 1s 1ms/step - loss: 0.2034 - accuracy: 0.9206 - val_loss: 0.2295 - val_accuracy: 0.9130\n",
      "Epoch 68/100\n",
      "629/629 [==============================] - 1s 1ms/step - loss: 0.2036 - accuracy: 0.9211 - val_loss: 0.2300 - val_accuracy: 0.9126\n",
      "Epoch 69/100\n",
      "629/629 [==============================] - 1s 1ms/step - loss: 0.2031 - accuracy: 0.9214 - val_loss: 0.2338 - val_accuracy: 0.9108\n",
      "Epoch 70/100\n",
      "629/629 [==============================] - 1s 1ms/step - loss: 0.2031 - accuracy: 0.9215 - val_loss: 0.2293 - val_accuracy: 0.9132\n",
      "Epoch 71/100\n",
      "629/629 [==============================] - 1s 1ms/step - loss: 0.2031 - accuracy: 0.9215 - val_loss: 0.2299 - val_accuracy: 0.9144\n",
      "Epoch 72/100\n",
      "629/629 [==============================] - 1s 1ms/step - loss: 0.2025 - accuracy: 0.9214 - val_loss: 0.2310 - val_accuracy: 0.9115\n",
      "Epoch 73/100\n",
      "629/629 [==============================] - 1s 1ms/step - loss: 0.2029 - accuracy: 0.9208 - val_loss: 0.2319 - val_accuracy: 0.9117\n",
      "Epoch 74/100\n",
      "629/629 [==============================] - 1s 1ms/step - loss: 0.2032 - accuracy: 0.9210 - val_loss: 0.2318 - val_accuracy: 0.9108\n",
      "Epoch 75/100\n",
      "629/629 [==============================] - 1s 1ms/step - loss: 0.2025 - accuracy: 0.9227 - val_loss: 0.2307 - val_accuracy: 0.9107\n",
      "Epoch 76/100\n",
      "629/629 [==============================] - 1s 1ms/step - loss: 0.2030 - accuracy: 0.9200 - val_loss: 0.2289 - val_accuracy: 0.9135\n",
      "Epoch 77/100\n",
      "629/629 [==============================] - 1s 1ms/step - loss: 0.2025 - accuracy: 0.9219 - val_loss: 0.2290 - val_accuracy: 0.9115\n",
      "Epoch 78/100\n",
      "629/629 [==============================] - 1s 1ms/step - loss: 0.2021 - accuracy: 0.9228 - val_loss: 0.2303 - val_accuracy: 0.9123\n",
      "Epoch 79/100\n",
      "629/629 [==============================] - 1s 1ms/step - loss: 0.2030 - accuracy: 0.9206 - val_loss: 0.2311 - val_accuracy: 0.9102\n",
      "Epoch 80/100\n",
      "629/629 [==============================] - 1s 1ms/step - loss: 0.2024 - accuracy: 0.9219 - val_loss: 0.2293 - val_accuracy: 0.9121\n",
      "Epoch 81/100\n",
      "629/629 [==============================] - 1s 1ms/step - loss: 0.2011 - accuracy: 0.9211 - val_loss: 0.2304 - val_accuracy: 0.9126\n",
      "Epoch 82/100\n",
      "629/629 [==============================] - 1s 1ms/step - loss: 0.2014 - accuracy: 0.9223 - val_loss: 0.2434 - val_accuracy: 0.9068\n",
      "Epoch 83/100\n",
      "629/629 [==============================] - 1s 1ms/step - loss: 0.2020 - accuracy: 0.9206 - val_loss: 0.2301 - val_accuracy: 0.9142\n",
      "Epoch 84/100\n",
      "629/629 [==============================] - 1s 1ms/step - loss: 0.2014 - accuracy: 0.9215 - val_loss: 0.2300 - val_accuracy: 0.9121\n",
      "Epoch 85/100\n",
      "629/629 [==============================] - 1s 1ms/step - loss: 0.2017 - accuracy: 0.9222 - val_loss: 0.2300 - val_accuracy: 0.9153\n",
      "Epoch 86/100\n",
      "629/629 [==============================] - 1s 1ms/step - loss: 0.2012 - accuracy: 0.9221 - val_loss: 0.2311 - val_accuracy: 0.9118\n",
      "Epoch 87/100\n",
      "629/629 [==============================] - 1s 1ms/step - loss: 0.2010 - accuracy: 0.9216 - val_loss: 0.2311 - val_accuracy: 0.9112\n",
      "Epoch 88/100\n",
      "629/629 [==============================] - 1s 1ms/step - loss: 0.2010 - accuracy: 0.9206 - val_loss: 0.2285 - val_accuracy: 0.9121\n",
      "Epoch 89/100\n",
      "629/629 [==============================] - 1s 1ms/step - loss: 0.2010 - accuracy: 0.9216 - val_loss: 0.2294 - val_accuracy: 0.9138\n",
      "Epoch 90/100\n",
      "629/629 [==============================] - 1s 1ms/step - loss: 0.2011 - accuracy: 0.9214 - val_loss: 0.2314 - val_accuracy: 0.9115\n",
      "Epoch 90: early stopping\n"
     ]
    },
    {
     "data": {
      "text/plain": [
       "<keras.src.callbacks.History at 0x279217cfb90>"
      ]
     },
     "execution_count": 35,
     "metadata": {},
     "output_type": "execute_result"
    }
   ],
   "source": [
    "ann.fit(x_train5, y_train5, batch_size = 32, epochs=100,\n",
    "          validation_data=(x_test5, y_test5), verbose=1,\n",
    "          callbacks=[early_stop])"
   ]
  },
  {
   "cell_type": "code",
   "execution_count": 36,
   "metadata": {},
   "outputs": [
    {
     "name": "stdout",
     "output_type": "stream",
     "text": [
      "629/629 [==============================] - 1s 822us/step\n",
      "210/210 [==============================] - 0s 732us/step\n",
      "[[1 1]\n",
      " [1 1]\n",
      " [1 1]\n",
      " ...\n",
      " [0 0]\n",
      " [0 0]\n",
      " [1 1]]\n"
     ]
    }
   ],
   "source": [
    "ypred_train8 = ann.predict(x_train5)\n",
    "y_pred_test8 = ann.predict(x_test5)\n",
    "\n",
    "y_pred_test8 = (y_pred_test8 > 0.5)\n",
    "ypred_train8 = (ypred_train8 > 0.5)\n",
    "print(np.concatenate((y_pred_test8.reshape(len(y_pred_test8),1), y_test5.reshape(len(y_test5),1)),1))"
   ]
  },
  {
   "cell_type": "code",
   "execution_count": 37,
   "metadata": {},
   "outputs": [
    {
     "data": {
      "text/plain": [
       "0.9115453460620525"
      ]
     },
     "execution_count": 37,
     "metadata": {},
     "output_type": "execute_result"
    }
   ],
   "source": [
    "accuracy_score(y_test5, y_pred_test8)"
   ]
  },
  {
   "cell_type": "code",
   "execution_count": 38,
   "metadata": {},
   "outputs": [
    {
     "name": "stdout",
     "output_type": "stream",
     "text": [
      "Training Results\n",
      "\n",
      "              precision    recall  f1-score   support\n",
      "\n",
      "           0       0.88      0.97      0.93     10036\n",
      "           1       0.97      0.87      0.92     10074\n",
      "\n",
      "    accuracy                           0.92     20110\n",
      "   macro avg       0.93      0.92      0.92     20110\n",
      "weighted avg       0.93      0.92      0.92     20110\n",
      "\n"
     ]
    }
   ],
   "source": [
    "print(\"Training Results\\n\")\n",
    "print(classification_report(y_train5, ypred_train8))"
   ]
  },
  {
   "cell_type": "code",
   "execution_count": 39,
   "metadata": {},
   "outputs": [
    {
     "name": "stdout",
     "output_type": "stream",
     "text": [
      "Testing Results\n",
      "\n",
      "              precision    recall  f1-score   support\n",
      "\n",
      "           0       0.87      0.96      0.92      3371\n",
      "           1       0.96      0.86      0.91      3333\n",
      "\n",
      "    accuracy                           0.91      6704\n",
      "   macro avg       0.92      0.91      0.91      6704\n",
      "weighted avg       0.92      0.91      0.91      6704\n",
      "\n"
     ]
    }
   ],
   "source": [
    "print('Testing Results\\n')\n",
    "print(classification_report(y_test5, y_pred_test8))"
   ]
  },
  {
   "cell_type": "code",
   "execution_count": 40,
   "metadata": {},
   "outputs": [
    {
     "name": "stdout",
     "output_type": "stream",
     "text": [
      "210/210 [==============================] - 0s 753us/step\n"
     ]
    },
    {
     "data": {
      "image/png": "[encoded data removed]",
      "text/plain": [
       "<Figure size 640x480 with 1 Axes>"
      ]
     },
     "metadata": {},
     "output_type": "display_data"
    }
   ],
   "source": [
    "# cross_val_scores = cross_val_score(ann, x_train5, y_train5, cv=5)\n",
    "# print(\"Cross-validation scores:\", cross_val_scores)\n",
    "# print(\"Average cross-validation score:\", np.mean(cross_val_scores))\n",
    "y_proba_test = ann.predict(x_test5).flatten()\n",
    "\n",
    "fpr, tpr, thresholds = roc_curve(y_test5, y_proba_test)\n",
    "\n",
    "plt.plot(fpr, tpr, label='ROC Curve')\n",
    "plt.xlabel('False Positive Rate')\n",
    "plt.ylabel('True Positive Rate')\n",
    "plt.title('ROC Curve with AUC = {:.2f}'.format(roc_auc_score(y_test5, y_proba_test)))\n",
    "plt.legend(loc='lower right')\n",
    "plt.grid(True)\n",
    "plt.show()"
   ]
  },
  {
   "cell_type": "markdown",
   "metadata": {},
   "source": [
    "## inne próby sieci neuronowych "
   ]
  },
  {
   "cell_type": "code",
   "execution_count": 41,
   "metadata": {},
   "outputs": [
    {
     "name": "stderr",
     "output_type": "stream",
     "text": [
      "WARNING:absl:`lr` is deprecated in Keras optimizer, please use `learning_rate` or use the legacy optimizer, e.g.,tf.keras.optimizers.legacy.Adam.\n"
     ]
    },
    {
     "name": "stdout",
     "output_type": "stream",
     "text": [
      "Epoch 1/100\n",
      "629/629 [==============================] - 1s 1ms/step - loss: 0.4233 - accuracy: 0.8189\n",
      "Epoch 2/100\n",
      "629/629 [==============================] - 1s 1ms/step - loss: 0.2576 - accuracy: 0.8957\n",
      "Epoch 3/100\n",
      "629/629 [==============================] - 1s 1ms/step - loss: 0.2448 - accuracy: 0.9036\n",
      "Epoch 4/100\n",
      "629/629 [==============================] - 1s 1ms/step - loss: 0.2383 - accuracy: 0.9057\n",
      "Epoch 5/100\n",
      "629/629 [==============================] - 1s 1ms/step - loss: 0.2328 - accuracy: 0.9081\n",
      "Epoch 6/100\n",
      "629/629 [==============================] - 1s 1ms/step - loss: 0.2292 - accuracy: 0.9101\n",
      "Epoch 7/100\n",
      "629/629 [==============================] - 1s 1ms/step - loss: 0.2269 - accuracy: 0.9116\n",
      "Epoch 8/100\n",
      "629/629 [==============================] - 1s 1ms/step - loss: 0.2242 - accuracy: 0.9129\n",
      "Epoch 9/100\n",
      "629/629 [==============================] - 1s 1ms/step - loss: 0.2236 - accuracy: 0.9139\n",
      "Epoch 10/100\n",
      "629/629 [==============================] - 1s 1ms/step - loss: 0.2218 - accuracy: 0.9148\n",
      "Epoch 11/100\n",
      "629/629 [==============================] - 1s 1ms/step - loss: 0.2207 - accuracy: 0.9166\n",
      "Epoch 12/100\n",
      "629/629 [==============================] - 1s 1ms/step - loss: 0.2201 - accuracy: 0.9139\n",
      "Epoch 13/100\n",
      "629/629 [==============================] - 1s 1ms/step - loss: 0.2183 - accuracy: 0.9154\n",
      "Epoch 14/100\n",
      "629/629 [==============================] - 1s 1ms/step - loss: 0.2171 - accuracy: 0.9170\n",
      "Epoch 15/100\n",
      "629/629 [==============================] - 1s 1ms/step - loss: 0.2167 - accuracy: 0.9158\n",
      "Epoch 16/100\n",
      "629/629 [==============================] - 1s 1ms/step - loss: 0.2155 - accuracy: 0.9164\n",
      "Epoch 17/100\n",
      "629/629 [==============================] - 1s 1ms/step - loss: 0.2151 - accuracy: 0.9168\n",
      "Epoch 18/100\n",
      "629/629 [==============================] - 1s 1ms/step - loss: 0.2144 - accuracy: 0.9176\n",
      "Epoch 19/100\n",
      "629/629 [==============================] - 1s 1ms/step - loss: 0.2142 - accuracy: 0.9166\n",
      "Epoch 20/100\n",
      "629/629 [==============================] - 1s 1ms/step - loss: 0.2136 - accuracy: 0.9172\n",
      "Epoch 21/100\n",
      "629/629 [==============================] - 1s 1ms/step - loss: 0.2137 - accuracy: 0.9168\n",
      "Epoch 22/100\n",
      "629/629 [==============================] - 1s 1ms/step - loss: 0.2125 - accuracy: 0.9172\n",
      "Epoch 23/100\n",
      "629/629 [==============================] - 1s 1ms/step - loss: 0.2131 - accuracy: 0.9171\n",
      "Epoch 24/100\n",
      "629/629 [==============================] - 1s 1ms/step - loss: 0.2131 - accuracy: 0.9177\n",
      "Epoch 25/100\n",
      "629/629 [==============================] - 1s 993us/step - loss: 0.2122 - accuracy: 0.9169\n",
      "Epoch 26/100\n",
      "629/629 [==============================] - 1s 1ms/step - loss: 0.2119 - accuracy: 0.9175\n",
      "Epoch 27/100\n",
      "629/629 [==============================] - 1s 983us/step - loss: 0.2112 - accuracy: 0.9185\n",
      "Epoch 28/100\n",
      "629/629 [==============================] - 1s 1ms/step - loss: 0.2104 - accuracy: 0.9182\n",
      "Epoch 29/100\n",
      "629/629 [==============================] - 1s 992us/step - loss: 0.2113 - accuracy: 0.9173\n",
      "Epoch 30/100\n",
      "629/629 [==============================] - 1s 980us/step - loss: 0.2108 - accuracy: 0.9179\n",
      "Epoch 31/100\n",
      "629/629 [==============================] - 1s 1ms/step - loss: 0.2100 - accuracy: 0.9191\n",
      "Epoch 32/100\n",
      "629/629 [==============================] - 1s 1ms/step - loss: 0.2106 - accuracy: 0.9193\n",
      "Epoch 33/100\n",
      "629/629 [==============================] - 1s 1ms/step - loss: 0.2097 - accuracy: 0.9189\n",
      "Epoch 34/100\n",
      "629/629 [==============================] - 1s 1ms/step - loss: 0.2095 - accuracy: 0.9181\n",
      "Epoch 35/100\n",
      "629/629 [==============================] - 1s 1ms/step - loss: 0.2101 - accuracy: 0.9175\n",
      "Epoch 36/100\n",
      "629/629 [==============================] - 1s 1ms/step - loss: 0.2096 - accuracy: 0.9188\n",
      "Epoch 37/100\n",
      "629/629 [==============================] - 1s 1ms/step - loss: 0.2088 - accuracy: 0.9190\n",
      "Epoch 38/100\n",
      "629/629 [==============================] - 1s 1ms/step - loss: 0.2092 - accuracy: 0.9195\n",
      "Epoch 39/100\n",
      "629/629 [==============================] - 1s 1ms/step - loss: 0.2089 - accuracy: 0.9199\n",
      "Epoch 40/100\n",
      "629/629 [==============================] - 1s 1ms/step - loss: 0.2088 - accuracy: 0.9191\n",
      "Epoch 41/100\n",
      "629/629 [==============================] - 1s 1ms/step - loss: 0.2085 - accuracy: 0.9197\n",
      "Epoch 42/100\n",
      "629/629 [==============================] - 1s 1ms/step - loss: 0.2080 - accuracy: 0.9191\n",
      "Epoch 43/100\n",
      "629/629 [==============================] - 1s 1ms/step - loss: 0.2080 - accuracy: 0.9185\n",
      "Epoch 44/100\n",
      "629/629 [==============================] - 1s 1ms/step - loss: 0.2071 - accuracy: 0.9190\n",
      "Epoch 45/100\n",
      "629/629 [==============================] - 1s 1ms/step - loss: 0.2083 - accuracy: 0.9185\n",
      "Epoch 46/100\n",
      "629/629 [==============================] - 1s 1ms/step - loss: 0.2082 - accuracy: 0.9185\n",
      "Epoch 47/100\n",
      "629/629 [==============================] - 1s 1ms/step - loss: 0.2074 - accuracy: 0.9204\n",
      "Epoch 48/100\n",
      "629/629 [==============================] - 1s 1ms/step - loss: 0.2067 - accuracy: 0.9195\n",
      "Epoch 49/100\n",
      "629/629 [==============================] - 1s 1ms/step - loss: 0.2071 - accuracy: 0.9194\n",
      "Epoch 50/100\n",
      "629/629 [==============================] - 1s 1ms/step - loss: 0.2066 - accuracy: 0.9188\n",
      "Epoch 51/100\n",
      "629/629 [==============================] - 1s 1ms/step - loss: 0.2079 - accuracy: 0.9186\n",
      "Epoch 52/100\n",
      "629/629 [==============================] - 1s 1ms/step - loss: 0.2069 - accuracy: 0.9192\n",
      "Epoch 53/100\n",
      "629/629 [==============================] - 1s 1ms/step - loss: 0.2068 - accuracy: 0.9195\n",
      "Epoch 54/100\n",
      "629/629 [==============================] - 1s 1ms/step - loss: 0.2062 - accuracy: 0.9200\n",
      "Epoch 55/100\n",
      "629/629 [==============================] - 1s 1ms/step - loss: 0.2067 - accuracy: 0.9192\n",
      "Epoch 56/100\n",
      "629/629 [==============================] - 1s 1ms/step - loss: 0.2060 - accuracy: 0.9200\n",
      "Epoch 57/100\n",
      "629/629 [==============================] - 1s 1ms/step - loss: 0.2060 - accuracy: 0.9208\n",
      "Epoch 58/100\n",
      "629/629 [==============================] - 1s 1ms/step - loss: 0.2059 - accuracy: 0.9201\n",
      "Epoch 59/100\n",
      "629/629 [==============================] - 1s 1ms/step - loss: 0.2060 - accuracy: 0.9194\n",
      "Epoch 60/100\n",
      "629/629 [==============================] - 1s 1ms/step - loss: 0.2054 - accuracy: 0.9204\n",
      "Epoch 61/100\n",
      "629/629 [==============================] - 1s 1ms/step - loss: 0.2048 - accuracy: 0.9205\n",
      "Epoch 62/100\n",
      "629/629 [==============================] - 1s 997us/step - loss: 0.2051 - accuracy: 0.9192\n",
      "Epoch 63/100\n",
      "629/629 [==============================] - 1s 1ms/step - loss: 0.2047 - accuracy: 0.9196\n",
      "Epoch 64/100\n",
      "629/629 [==============================] - 1s 1ms/step - loss: 0.2053 - accuracy: 0.9200\n",
      "Epoch 65/100\n",
      "629/629 [==============================] - 1s 1ms/step - loss: 0.2044 - accuracy: 0.9210\n",
      "Epoch 66/100\n",
      "629/629 [==============================] - 1s 1ms/step - loss: 0.2045 - accuracy: 0.9209\n",
      "Epoch 67/100\n",
      "629/629 [==============================] - 1s 1ms/step - loss: 0.2050 - accuracy: 0.9214\n",
      "Epoch 68/100\n",
      "629/629 [==============================] - 1s 1ms/step - loss: 0.2045 - accuracy: 0.9198\n",
      "Epoch 69/100\n",
      "629/629 [==============================] - 1s 1ms/step - loss: 0.2043 - accuracy: 0.9203\n",
      "Epoch 70/100\n",
      "629/629 [==============================] - 1s 1ms/step - loss: 0.2044 - accuracy: 0.9199\n",
      "Epoch 71/100\n",
      "629/629 [==============================] - 1s 1ms/step - loss: 0.2041 - accuracy: 0.9213\n",
      "Epoch 72/100\n",
      "629/629 [==============================] - 1s 1ms/step - loss: 0.2035 - accuracy: 0.9192\n",
      "Epoch 73/100\n",
      "629/629 [==============================] - 1s 1ms/step - loss: 0.2039 - accuracy: 0.9195\n",
      "Epoch 74/100\n",
      "629/629 [==============================] - 1s 1ms/step - loss: 0.2038 - accuracy: 0.9192\n",
      "Epoch 75/100\n",
      "629/629 [==============================] - 1s 1ms/step - loss: 0.2035 - accuracy: 0.9212\n",
      "Epoch 76/100\n",
      "629/629 [==============================] - 1s 1ms/step - loss: 0.2031 - accuracy: 0.9196\n",
      "Epoch 77/100\n",
      "629/629 [==============================] - 1s 1ms/step - loss: 0.2035 - accuracy: 0.9219\n",
      "Epoch 78/100\n",
      "629/629 [==============================] - 1s 1ms/step - loss: 0.2027 - accuracy: 0.9220\n",
      "Epoch 79/100\n",
      "629/629 [==============================] - 1s 996us/step - loss: 0.2024 - accuracy: 0.9210\n",
      "Epoch 80/100\n",
      "629/629 [==============================] - 1s 1ms/step - loss: 0.2033 - accuracy: 0.9210\n",
      "Epoch 81/100\n",
      "629/629 [==============================] - 1s 1ms/step - loss: 0.2024 - accuracy: 0.9207\n",
      "Epoch 82/100\n",
      "629/629 [==============================] - 1s 1ms/step - loss: 0.2022 - accuracy: 0.9206\n",
      "Epoch 83/100\n",
      "629/629 [==============================] - 1s 1ms/step - loss: 0.2023 - accuracy: 0.9220\n",
      "Epoch 84/100\n",
      "629/629 [==============================] - 1s 1ms/step - loss: 0.2025 - accuracy: 0.9206\n",
      "Epoch 85/100\n",
      "629/629 [==============================] - 1s 1ms/step - loss: 0.2023 - accuracy: 0.9218\n",
      "Epoch 86/100\n",
      "629/629 [==============================] - 1s 1ms/step - loss: 0.2016 - accuracy: 0.9215\n",
      "Epoch 87/100\n",
      "629/629 [==============================] - 1s 1ms/step - loss: 0.2026 - accuracy: 0.9207\n",
      "Epoch 88/100\n",
      "629/629 [==============================] - 1s 1ms/step - loss: 0.2024 - accuracy: 0.9207\n",
      "Epoch 89/100\n",
      "629/629 [==============================] - 1s 1ms/step - loss: 0.2025 - accuracy: 0.9222\n",
      "Epoch 90/100\n",
      "629/629 [==============================] - 1s 1ms/step - loss: 0.2025 - accuracy: 0.9216\n",
      "Epoch 91/100\n",
      "629/629 [==============================] - 1s 1ms/step - loss: 0.2012 - accuracy: 0.9220\n",
      "Epoch 92/100\n",
      "629/629 [==============================] - 1s 1ms/step - loss: 0.2019 - accuracy: 0.9219\n",
      "Epoch 93/100\n",
      "629/629 [==============================] - 1s 1ms/step - loss: 0.2013 - accuracy: 0.9226\n",
      "Epoch 94/100\n",
      "629/629 [==============================] - 1s 1ms/step - loss: 0.2019 - accuracy: 0.9223\n",
      "Epoch 95/100\n",
      "629/629 [==============================] - 1s 1ms/step - loss: 0.2013 - accuracy: 0.9229\n",
      "Epoch 96/100\n",
      "629/629 [==============================] - 1s 1ms/step - loss: 0.2013 - accuracy: 0.9219\n",
      "Epoch 97/100\n",
      "629/629 [==============================] - 1s 1ms/step - loss: 0.2011 - accuracy: 0.9211\n",
      "Epoch 98/100\n",
      "629/629 [==============================] - 1s 1ms/step - loss: 0.2005 - accuracy: 0.9225\n",
      "Epoch 99/100\n",
      "629/629 [==============================] - 1s 997us/step - loss: 0.2010 - accuracy: 0.9219\n",
      "Epoch 100/100\n",
      "629/629 [==============================] - 1s 1ms/step - loss: 0.2012 - accuracy: 0.9225\n"
     ]
    }
   ],
   "source": [
    "\n",
    "tf.random.set_seed(42)\n",
    "\n",
    "\n",
    "\n",
    "model_2 = tf.keras.Sequential([\n",
    "  tf.keras.layers.Dense(20,activation = 'relu'),\n",
    "  tf.keras.layers.Dense(6,activation = 'relu'),\n",
    "  tf.keras.layers.Dense(6,activation = 'relu'),\n",
    "  tf.keras.layers.Dense(1,activation = 'sigmoid')                            \n",
    "])\n",
    "\n",
    "\n",
    "model_2.compile(loss = 'binary_crossentropy',\n",
    "                optimizer = tf.keras.optimizers.Adam(lr=0.001),\n",
    "                metrics = ['accuracy'])\n",
    "\n",
    "\n",
    "history_2 = model_2.fit(x_train5,y_train5,epochs = 100)"
   ]
  },
  {
   "cell_type": "code",
   "execution_count": 42,
   "metadata": {},
   "outputs": [
    {
     "name": "stdout",
     "output_type": "stream",
     "text": [
      "210/210 [==============================] - 0s 904us/step - loss: 0.2296 - accuracy: 0.9142\n"
     ]
    },
    {
     "data": {
      "text/plain": [
       "[0.22964255511760712, 0.9142302870750427]"
      ]
     },
     "execution_count": 42,
     "metadata": {},
     "output_type": "execute_result"
    }
   ],
   "source": [
    "model_2.evaluate(x_test5,y_test5)"
   ]
  },
  {
   "cell_type": "code",
   "execution_count": 43,
   "metadata": {},
   "outputs": [
    {
     "name": "stdout",
     "output_type": "stream",
     "text": [
      "629/629 [==============================] - 1s 816us/step\n",
      "210/210 [==============================] - 0s 814us/step\n",
      "              precision    recall  f1-score   support\n",
      "\n",
      "           0       0.90      0.96      0.93     10036\n",
      "           1       0.96      0.89      0.92     10074\n",
      "\n",
      "    accuracy                           0.92     20110\n",
      "   macro avg       0.93      0.92      0.92     20110\n",
      "weighted avg       0.93      0.92      0.92     20110\n",
      "\n",
      "              precision    recall  f1-score   support\n",
      "\n",
      "           0       0.88      0.96      0.92      3371\n",
      "           1       0.95      0.87      0.91      3333\n",
      "\n",
      "    accuracy                           0.91      6704\n",
      "   macro avg       0.92      0.91      0.91      6704\n",
      "weighted avg       0.92      0.91      0.91      6704\n",
      "\n"
     ]
    }
   ],
   "source": [
    "ypred_train12 = model_2.predict(x_train5)\n",
    "y_pred_test12 = model_2.predict(x_test5)\n",
    "\n",
    "y_pred_test12 = (y_pred_test12 > 0.5)\n",
    "ypred_train12 = (ypred_train12 > 0.5)\n",
    "\n",
    "print(classification_report(y_train5,ypred_train12))\n",
    "print(classification_report(y_test5,y_pred_test12))"
   ]
  },
  {
   "cell_type": "code",
   "execution_count": 44,
   "metadata": {},
   "outputs": [
    {
     "name": "stdout",
     "output_type": "stream",
     "text": [
      "210/210 [==============================] - 0s 748us/step\n"
     ]
    },
    {
     "data": {
      "image/png": "[encoded data removed]",
      "text/plain": [
       "<Figure size 640x480 with 1 Axes>"
      ]
     },
     "metadata": {},
     "output_type": "display_data"
    }
   ],
   "source": [
    "# cross_val_scores = cross_val_score(model_2, x_train5, y_train5, cv=5)\n",
    "# print(\"Cross-validation scores:\", cross_val_scores)\n",
    "# print(\"Average cross-validation score:\", np.mean(cross_val_scores))\n",
    "y_proba_test = model_2.predict(x_test5).flatten()\n",
    "\n",
    "fpr, tpr, thresholds = roc_curve(y_test5, y_proba_test)\n",
    "\n",
    "plt.plot(fpr, tpr, label='ROC Curve')\n",
    "plt.xlabel('False Positive Rate')\n",
    "plt.ylabel('True Positive Rate')\n",
    "plt.title('ROC Curve with AUC = {:.2f}'.format(roc_auc_score(y_test5, y_proba_test)))\n",
    "plt.legend(loc='lower right')\n",
    "plt.grid(True)\n",
    "plt.show()"
   ]
  },
  {
   "cell_type": "markdown",
   "metadata": {},
   "source": [
    "## inne próby sieci neuronowych "
   ]
  },
  {
   "cell_type": "code",
   "execution_count": 45,
   "metadata": {},
   "outputs": [],
   "source": [
    "model1 = Sequential()\n",
    "model1.add(Dense(units=20,activation='relu'))\n",
    "model1.add(Dropout(0.5))\n",
    "\n",
    "model1.add(Dense(units=15,activation='relu'))\n",
    "model1.add(Dropout(0.5))\n",
    "\n",
    "model1.add(Dense(units=1,activation='sigmoid'))\n",
    "model1.compile(loss='binary_crossentropy', optimizer='adam')"
   ]
  },
  {
   "cell_type": "code",
   "execution_count": 46,
   "metadata": {},
   "outputs": [
    {
     "name": "stdout",
     "output_type": "stream",
     "text": [
      "Epoch 1/100\n",
      "629/629 [==============================] - 1s 2ms/step - loss: 0.5265 - val_loss: 0.3053\n",
      "Epoch 2/100\n",
      "629/629 [==============================] - 1s 1ms/step - loss: 0.3617 - val_loss: 0.2818\n",
      "Epoch 3/100\n",
      "629/629 [==============================] - 1s 1ms/step - loss: 0.3298 - val_loss: 0.2716\n",
      "Epoch 4/100\n",
      "629/629 [==============================] - 1s 1ms/step - loss: 0.3192 - val_loss: 0.2655\n",
      "Epoch 5/100\n",
      "629/629 [==============================] - 1s 1ms/step - loss: 0.3074 - val_loss: 0.2619\n",
      "Epoch 6/100\n",
      "629/629 [==============================] - 1s 1ms/step - loss: 0.2995 - val_loss: 0.2577\n",
      "Epoch 7/100\n",
      "629/629 [==============================] - 1s 1ms/step - loss: 0.2975 - val_loss: 0.2543\n",
      "Epoch 8/100\n",
      "629/629 [==============================] - 1s 1ms/step - loss: 0.2884 - val_loss: 0.2569\n",
      "Epoch 9/100\n",
      "629/629 [==============================] - 1s 1ms/step - loss: 0.2844 - val_loss: 0.2497\n",
      "Epoch 10/100\n",
      "629/629 [==============================] - 1s 1ms/step - loss: 0.2891 - val_loss: 0.2509\n",
      "Epoch 11/100\n",
      "629/629 [==============================] - 1s 1ms/step - loss: 0.2795 - val_loss: 0.2453\n",
      "Epoch 12/100\n",
      "629/629 [==============================] - 1s 1ms/step - loss: 0.2772 - val_loss: 0.2441\n",
      "Epoch 13/100\n",
      "629/629 [==============================] - 1s 1ms/step - loss: 0.2780 - val_loss: 0.2440\n",
      "Epoch 14/100\n",
      "629/629 [==============================] - 1s 1ms/step - loss: 0.2790 - val_loss: 0.2430\n",
      "Epoch 15/100\n",
      "629/629 [==============================] - 1s 1ms/step - loss: 0.2769 - val_loss: 0.2434\n",
      "Epoch 16/100\n",
      "629/629 [==============================] - 1s 1ms/step - loss: 0.2746 - val_loss: 0.2394\n",
      "Epoch 17/100\n",
      "629/629 [==============================] - 1s 1ms/step - loss: 0.2731 - val_loss: 0.2412\n",
      "Epoch 18/100\n",
      "629/629 [==============================] - 1s 1ms/step - loss: 0.2719 - val_loss: 0.2390\n",
      "Epoch 19/100\n",
      "629/629 [==============================] - 1s 1ms/step - loss: 0.2733 - val_loss: 0.2405\n",
      "Epoch 20/100\n",
      "629/629 [==============================] - 1s 1ms/step - loss: 0.2689 - val_loss: 0.2384\n",
      "Epoch 21/100\n",
      "629/629 [==============================] - 1s 1ms/step - loss: 0.2694 - val_loss: 0.2429\n",
      "Epoch 22/100\n",
      "629/629 [==============================] - 1s 1ms/step - loss: 0.2689 - val_loss: 0.2369\n",
      "Epoch 23/100\n",
      "629/629 [==============================] - 1s 1ms/step - loss: 0.2710 - val_loss: 0.2362\n",
      "Epoch 24/100\n",
      "629/629 [==============================] - 1s 1ms/step - loss: 0.2702 - val_loss: 0.2377\n",
      "Epoch 25/100\n",
      "629/629 [==============================] - 1s 1ms/step - loss: 0.2668 - val_loss: 0.2376\n",
      "Epoch 26/100\n",
      "629/629 [==============================] - 1s 1ms/step - loss: 0.2689 - val_loss: 0.2366\n",
      "Epoch 27/100\n",
      "629/629 [==============================] - 1s 1ms/step - loss: 0.2704 - val_loss: 0.2378\n",
      "Epoch 28/100\n",
      "629/629 [==============================] - 1s 1ms/step - loss: 0.2646 - val_loss: 0.2369\n",
      "Epoch 29/100\n",
      "629/629 [==============================] - 1s 1ms/step - loss: 0.2691 - val_loss: 0.2355\n",
      "Epoch 30/100\n",
      "629/629 [==============================] - 1s 1ms/step - loss: 0.2664 - val_loss: 0.2351\n",
      "Epoch 31/100\n",
      "629/629 [==============================] - 1s 1ms/step - loss: 0.2659 - val_loss: 0.2347\n",
      "Epoch 32/100\n",
      "629/629 [==============================] - 1s 1ms/step - loss: 0.2604 - val_loss: 0.2342\n",
      "Epoch 33/100\n",
      "629/629 [==============================] - 1s 1ms/step - loss: 0.2633 - val_loss: 0.2368\n",
      "Epoch 34/100\n",
      "629/629 [==============================] - 1s 1ms/step - loss: 0.2581 - val_loss: 0.2357\n",
      "Epoch 35/100\n",
      "629/629 [==============================] - 1s 1ms/step - loss: 0.2553 - val_loss: 0.2368\n",
      "Epoch 36/100\n",
      "629/629 [==============================] - 1s 1ms/step - loss: 0.2585 - val_loss: 0.2353\n",
      "Epoch 37/100\n",
      "629/629 [==============================] - 1s 1ms/step - loss: 0.2589 - val_loss: 0.2385\n",
      "Epoch 38/100\n",
      "629/629 [==============================] - 1s 1ms/step - loss: 0.2639 - val_loss: 0.2356\n",
      "Epoch 39/100\n",
      "629/629 [==============================] - 1s 1ms/step - loss: 0.2572 - val_loss: 0.2373\n",
      "Epoch 40/100\n",
      "629/629 [==============================] - 1s 1ms/step - loss: 0.2635 - val_loss: 0.2362\n",
      "Epoch 41/100\n",
      "629/629 [==============================] - 1s 1ms/step - loss: 0.2565 - val_loss: 0.2357\n",
      "Epoch 42/100\n",
      "629/629 [==============================] - 1s 1ms/step - loss: 0.2605 - val_loss: 0.2352\n",
      "Epoch 43/100\n",
      "629/629 [==============================] - 1s 1ms/step - loss: 0.2591 - val_loss: 0.2362\n",
      "Epoch 44/100\n",
      "629/629 [==============================] - 1s 1ms/step - loss: 0.2580 - val_loss: 0.2359\n",
      "Epoch 45/100\n",
      "629/629 [==============================] - 1s 1ms/step - loss: 0.2590 - val_loss: 0.2347\n",
      "Epoch 46/100\n",
      "629/629 [==============================] - 1s 1ms/step - loss: 0.2593 - val_loss: 0.2347\n",
      "Epoch 47/100\n",
      "629/629 [==============================] - 1s 1ms/step - loss: 0.2606 - val_loss: 0.2349\n",
      "Epoch 48/100\n",
      "629/629 [==============================] - 1s 1ms/step - loss: 0.2627 - val_loss: 0.2381\n",
      "Epoch 49/100\n",
      "629/629 [==============================] - 1s 1ms/step - loss: 0.2587 - val_loss: 0.2361\n",
      "Epoch 50/100\n",
      "629/629 [==============================] - 1s 1ms/step - loss: 0.2598 - val_loss: 0.2346\n",
      "Epoch 51/100\n",
      "629/629 [==============================] - 1s 1ms/step - loss: 0.2574 - val_loss: 0.2345\n",
      "Epoch 52/100\n",
      "629/629 [==============================] - 1s 1ms/step - loss: 0.2578 - val_loss: 0.2354\n",
      "Epoch 53/100\n",
      "629/629 [==============================] - 1s 1ms/step - loss: 0.2604 - val_loss: 0.2359\n",
      "Epoch 54/100\n",
      "629/629 [==============================] - 1s 1ms/step - loss: 0.2618 - val_loss: 0.2363\n",
      "Epoch 55/100\n",
      "629/629 [==============================] - 1s 1ms/step - loss: 0.2602 - val_loss: 0.2347\n",
      "Epoch 56/100\n",
      "629/629 [==============================] - 1s 1ms/step - loss: 0.2571 - val_loss: 0.2367\n",
      "Epoch 57/100\n",
      "629/629 [==============================] - 1s 1ms/step - loss: 0.2617 - val_loss: 0.2348\n",
      "Epoch 57: early stopping\n"
     ]
    },
    {
     "data": {
      "text/plain": [
       "<keras.src.callbacks.History at 0x27986890290>"
      ]
     },
     "execution_count": 46,
     "metadata": {},
     "output_type": "execute_result"
    }
   ],
   "source": [
    "model1.fit(x=x_train5, \n",
    "          y=y_train5, \n",
    "          epochs=100,\n",
    "          validation_data=(x_test5, y_test5), verbose=1,\n",
    "          callbacks=[early_stop]\n",
    "          )"
   ]
  },
  {
   "cell_type": "code",
   "execution_count": 47,
   "metadata": {},
   "outputs": [
    {
     "name": "stdout",
     "output_type": "stream",
     "text": [
      "629/629 [==============================] - 1s 824us/step\n",
      "210/210 [==============================] - 0s 763us/step\n",
      "              precision    recall  f1-score   support\n",
      "\n",
      "           0       0.90      0.93      0.92     10036\n",
      "           1       0.93      0.90      0.92     10074\n",
      "\n",
      "    accuracy                           0.92     20110\n",
      "   macro avg       0.92      0.92      0.92     20110\n",
      "weighted avg       0.92      0.92      0.92     20110\n",
      "\n",
      "              precision    recall  f1-score   support\n",
      "\n",
      "           0       0.90      0.93      0.91      3371\n",
      "           1       0.93      0.89      0.91      3333\n",
      "\n",
      "    accuracy                           0.91      6704\n",
      "   macro avg       0.91      0.91      0.91      6704\n",
      "weighted avg       0.91      0.91      0.91      6704\n",
      "\n"
     ]
    }
   ],
   "source": [
    "ypred_train13 = model1.predict(x_train5)\n",
    "y_pred_test13 = model1.predict(x_test5)\n",
    "\n",
    "y_pred_test13 = (y_pred_test13 > 0.5)\n",
    "ypred_train13 = (ypred_train13 > 0.5)\n",
    "\n",
    "print(classification_report(y_train5,ypred_train13))\n",
    "print(classification_report(y_test5,y_pred_test13))"
   ]
  },
  {
   "cell_type": "code",
   "execution_count": 48,
   "metadata": {},
   "outputs": [
    {
     "name": "stdout",
     "output_type": "stream",
     "text": [
      "210/210 [==============================] - 0s 819us/step\n"
     ]
    },
    {
     "data": {
      "image/png": "[encoded data removed]",
      "text/plain": [
       "<Figure size 640x480 with 1 Axes>"
      ]
     },
     "metadata": {},
     "output_type": "display_data"
    }
   ],
   "source": [
    "# cross_val_scores = cross_val_score(model1, x_train5, y_train5, cv=5)\n",
    "# print(\"Cross-validation scores:\", cross_val_scores)\n",
    "# print(\"Average cross-validation score:\", np.mean(cross_val_scores))\n",
    "y_proba_test = model1.predict(x_test5).flatten()\n",
    "\n",
    "fpr, tpr, thresholds = roc_curve(y_test5, y_proba_test)\n",
    "\n",
    "plt.plot(fpr, tpr, label='ROC Curve')\n",
    "plt.xlabel('False Positive Rate')\n",
    "plt.ylabel('True Positive Rate')\n",
    "plt.title('ROC Curve with AUC = {:.2f}'.format(roc_auc_score(y_test5, y_proba_test)))\n",
    "plt.legend(loc='lower right')\n",
    "plt.grid(True)\n",
    "plt.show()"
   ]
  },
  {
   "cell_type": "markdown",
   "metadata": {},
   "source": [
    "## inna proba "
   ]
  },
  {
   "cell_type": "code",
   "execution_count": 49,
   "metadata": {},
   "outputs": [
    {
     "name": "stderr",
     "output_type": "stream",
     "text": [
      "WARNING:absl:`lr` is deprecated in Keras optimizer, please use `learning_rate` or use the legacy optimizer, e.g.,tf.keras.optimizers.legacy.Adam.\n"
     ]
    },
    {
     "name": "stdout",
     "output_type": "stream",
     "text": [
      "Epoch 1/100\n",
      "629/629 [==============================] - 1s 1ms/step - loss: 0.2937 - accuracy: 0.8849\n",
      "Epoch 2/100\n",
      "629/629 [==============================] - 1s 1ms/step - loss: 0.2443 - accuracy: 0.9023\n",
      "Epoch 3/100\n",
      "629/629 [==============================] - 1s 1ms/step - loss: 0.2351 - accuracy: 0.9071\n",
      "Epoch 4/100\n",
      "629/629 [==============================] - 1s 1ms/step - loss: 0.2322 - accuracy: 0.9091\n",
      "Epoch 5/100\n",
      "629/629 [==============================] - 1s 1ms/step - loss: 0.2269 - accuracy: 0.9113\n",
      "Epoch 6/100\n",
      "629/629 [==============================] - 1s 1ms/step - loss: 0.2230 - accuracy: 0.9129\n",
      "Epoch 7/100\n",
      "629/629 [==============================] - 1s 1ms/step - loss: 0.2206 - accuracy: 0.9140\n",
      "Epoch 8/100\n",
      "629/629 [==============================] - 1s 1ms/step - loss: 0.2183 - accuracy: 0.9159\n",
      "Epoch 9/100\n",
      "629/629 [==============================] - 1s 1ms/step - loss: 0.2175 - accuracy: 0.9143\n",
      "Epoch 10/100\n",
      "629/629 [==============================] - 1s 1ms/step - loss: 0.2162 - accuracy: 0.9149\n",
      "Epoch 11/100\n",
      "629/629 [==============================] - 1s 1ms/step - loss: 0.2152 - accuracy: 0.9169\n",
      "Epoch 12/100\n",
      "629/629 [==============================] - 1s 1ms/step - loss: 0.2145 - accuracy: 0.9145\n",
      "Epoch 13/100\n",
      "629/629 [==============================] - 1s 1ms/step - loss: 0.2130 - accuracy: 0.9165\n",
      "Epoch 14/100\n",
      "629/629 [==============================] - 1s 1ms/step - loss: 0.2118 - accuracy: 0.9172\n",
      "Epoch 15/100\n",
      "629/629 [==============================] - 1s 1ms/step - loss: 0.2112 - accuracy: 0.9171\n",
      "Epoch 16/100\n",
      "629/629 [==============================] - 1s 1ms/step - loss: 0.2097 - accuracy: 0.9184\n",
      "Epoch 17/100\n",
      "629/629 [==============================] - 1s 1ms/step - loss: 0.2089 - accuracy: 0.9183\n",
      "Epoch 18/100\n",
      "629/629 [==============================] - 1s 1ms/step - loss: 0.2093 - accuracy: 0.9187\n",
      "Epoch 19/100\n",
      "629/629 [==============================] - 1s 1ms/step - loss: 0.2085 - accuracy: 0.9177\n",
      "Epoch 20/100\n",
      "629/629 [==============================] - 1s 1ms/step - loss: 0.2076 - accuracy: 0.9191\n",
      "Epoch 21/100\n",
      "629/629 [==============================] - 1s 1ms/step - loss: 0.2083 - accuracy: 0.9191\n",
      "Epoch 22/100\n",
      "629/629 [==============================] - 1s 1ms/step - loss: 0.2072 - accuracy: 0.9190\n",
      "Epoch 23/100\n",
      "629/629 [==============================] - 1s 1ms/step - loss: 0.2080 - accuracy: 0.9182\n",
      "Epoch 24/100\n",
      "629/629 [==============================] - 1s 1ms/step - loss: 0.2075 - accuracy: 0.9191\n",
      "Epoch 25/100\n",
      "629/629 [==============================] - 1s 1ms/step - loss: 0.2066 - accuracy: 0.9196\n",
      "Epoch 26/100\n",
      "629/629 [==============================] - 1s 982us/step - loss: 0.2057 - accuracy: 0.9193\n",
      "Epoch 27/100\n",
      "629/629 [==============================] - 1s 1ms/step - loss: 0.2050 - accuracy: 0.9199\n",
      "Epoch 28/100\n",
      "629/629 [==============================] - 1s 1ms/step - loss: 0.2041 - accuracy: 0.9204\n",
      "Epoch 29/100\n",
      "629/629 [==============================] - 1s 1ms/step - loss: 0.2054 - accuracy: 0.9207\n",
      "Epoch 30/100\n",
      "629/629 [==============================] - 1s 1ms/step - loss: 0.2042 - accuracy: 0.9207\n",
      "Epoch 31/100\n",
      "629/629 [==============================] - 1s 1ms/step - loss: 0.2040 - accuracy: 0.9202\n",
      "Epoch 32/100\n",
      "629/629 [==============================] - 1s 991us/step - loss: 0.2038 - accuracy: 0.9207\n",
      "Epoch 33/100\n",
      "629/629 [==============================] - 1s 1ms/step - loss: 0.2026 - accuracy: 0.9214\n",
      "Epoch 34/100\n",
      "629/629 [==============================] - 1s 1ms/step - loss: 0.2031 - accuracy: 0.9207\n",
      "Epoch 35/100\n",
      "629/629 [==============================] - 1s 1ms/step - loss: 0.2041 - accuracy: 0.9198\n",
      "Epoch 36/100\n",
      "629/629 [==============================] - 1s 1ms/step - loss: 0.2027 - accuracy: 0.9208\n",
      "Epoch 37/100\n",
      "629/629 [==============================] - 1s 1ms/step - loss: 0.2016 - accuracy: 0.9215\n",
      "Epoch 38/100\n",
      "629/629 [==============================] - 1s 1ms/step - loss: 0.2020 - accuracy: 0.9218\n",
      "Epoch 39/100\n",
      "629/629 [==============================] - 1s 1ms/step - loss: 0.2015 - accuracy: 0.9206\n",
      "Epoch 40/100\n",
      "629/629 [==============================] - 1s 1ms/step - loss: 0.2013 - accuracy: 0.9225\n",
      "Epoch 41/100\n",
      "629/629 [==============================] - 1s 1ms/step - loss: 0.2009 - accuracy: 0.9211\n",
      "Epoch 42/100\n",
      "629/629 [==============================] - 1s 992us/step - loss: 0.2001 - accuracy: 0.9227\n",
      "Epoch 43/100\n",
      "629/629 [==============================] - 1s 1ms/step - loss: 0.1997 - accuracy: 0.9207\n",
      "Epoch 44/100\n",
      "629/629 [==============================] - 1s 1ms/step - loss: 0.1997 - accuracy: 0.9215\n",
      "Epoch 45/100\n",
      "629/629 [==============================] - 1s 1ms/step - loss: 0.2003 - accuracy: 0.9218\n",
      "Epoch 46/100\n",
      "629/629 [==============================] - 1s 1ms/step - loss: 0.2000 - accuracy: 0.9213\n",
      "Epoch 47/100\n",
      "629/629 [==============================] - 1s 1ms/step - loss: 0.1994 - accuracy: 0.9230\n",
      "Epoch 48/100\n",
      "629/629 [==============================] - 1s 1ms/step - loss: 0.1984 - accuracy: 0.9229\n",
      "Epoch 49/100\n",
      "629/629 [==============================] - 1s 1ms/step - loss: 0.1996 - accuracy: 0.9211\n",
      "Epoch 50/100\n",
      "629/629 [==============================] - 1s 1ms/step - loss: 0.1979 - accuracy: 0.9226\n",
      "Epoch 51/100\n",
      "629/629 [==============================] - 1s 1ms/step - loss: 0.1997 - accuracy: 0.9206\n",
      "Epoch 52/100\n",
      "629/629 [==============================] - 1s 1ms/step - loss: 0.1983 - accuracy: 0.9221\n",
      "Epoch 53/100\n",
      "629/629 [==============================] - 1s 1ms/step - loss: 0.1976 - accuracy: 0.9235\n",
      "Epoch 54/100\n",
      "629/629 [==============================] - 1s 1ms/step - loss: 0.1985 - accuracy: 0.9222\n",
      "Epoch 55/100\n",
      "629/629 [==============================] - 1s 1ms/step - loss: 0.1976 - accuracy: 0.9224\n",
      "Epoch 56/100\n",
      "629/629 [==============================] - 1s 1ms/step - loss: 0.1975 - accuracy: 0.9224\n",
      "Epoch 57/100\n",
      "629/629 [==============================] - 1s 992us/step - loss: 0.1977 - accuracy: 0.9220\n",
      "Epoch 58/100\n",
      "629/629 [==============================] - 1s 998us/step - loss: 0.1974 - accuracy: 0.9233\n",
      "Epoch 59/100\n",
      "629/629 [==============================] - 1s 1ms/step - loss: 0.1984 - accuracy: 0.9229\n",
      "Epoch 60/100\n",
      "629/629 [==============================] - 1s 1ms/step - loss: 0.1964 - accuracy: 0.9227\n",
      "Epoch 61/100\n",
      "629/629 [==============================] - 1s 1ms/step - loss: 0.1965 - accuracy: 0.9235\n",
      "Epoch 62/100\n",
      "629/629 [==============================] - 1s 1ms/step - loss: 0.1974 - accuracy: 0.9221\n",
      "Epoch 63/100\n",
      "629/629 [==============================] - 1s 1ms/step - loss: 0.1964 - accuracy: 0.9226\n",
      "Epoch 64/100\n",
      "629/629 [==============================] - 1s 1ms/step - loss: 0.1958 - accuracy: 0.9223\n",
      "Epoch 65/100\n",
      "629/629 [==============================] - 1s 1ms/step - loss: 0.1955 - accuracy: 0.9231\n",
      "Epoch 66/100\n",
      "629/629 [==============================] - 1s 1ms/step - loss: 0.1949 - accuracy: 0.9237\n",
      "Epoch 67/100\n",
      "629/629 [==============================] - 1s 1ms/step - loss: 0.1957 - accuracy: 0.9226\n",
      "Epoch 68/100\n",
      "629/629 [==============================] - 1s 1ms/step - loss: 0.1952 - accuracy: 0.9229\n",
      "Epoch 69/100\n",
      "629/629 [==============================] - 1s 1ms/step - loss: 0.1947 - accuracy: 0.9236\n",
      "Epoch 70/100\n",
      "629/629 [==============================] - 1s 1ms/step - loss: 0.1956 - accuracy: 0.9230\n",
      "Epoch 71/100\n",
      "629/629 [==============================] - 1s 1ms/step - loss: 0.1945 - accuracy: 0.9239\n",
      "Epoch 72/100\n",
      "629/629 [==============================] - 1s 1ms/step - loss: 0.1950 - accuracy: 0.9231\n",
      "Epoch 73/100\n",
      "629/629 [==============================] - 1s 1ms/step - loss: 0.1943 - accuracy: 0.9246\n",
      "Epoch 74/100\n",
      "629/629 [==============================] - 1s 1ms/step - loss: 0.1943 - accuracy: 0.9240\n",
      "Epoch 75/100\n",
      "629/629 [==============================] - 1s 1ms/step - loss: 0.1941 - accuracy: 0.9244\n",
      "Epoch 76/100\n",
      "629/629 [==============================] - 1s 1ms/step - loss: 0.1931 - accuracy: 0.9232\n",
      "Epoch 77/100\n",
      "629/629 [==============================] - 1s 1ms/step - loss: 0.1939 - accuracy: 0.9243\n",
      "Epoch 78/100\n",
      "629/629 [==============================] - 1s 1ms/step - loss: 0.1926 - accuracy: 0.9241\n",
      "Epoch 79/100\n",
      "629/629 [==============================] - 1s 1ms/step - loss: 0.1934 - accuracy: 0.9234\n",
      "Epoch 80/100\n",
      "629/629 [==============================] - 1s 1ms/step - loss: 0.1926 - accuracy: 0.9244\n",
      "Epoch 81/100\n",
      "629/629 [==============================] - 1s 1ms/step - loss: 0.1925 - accuracy: 0.9243\n",
      "Epoch 82/100\n",
      "629/629 [==============================] - 1s 1ms/step - loss: 0.1928 - accuracy: 0.9245\n",
      "Epoch 83/100\n",
      "629/629 [==============================] - 1s 1ms/step - loss: 0.1924 - accuracy: 0.9233\n",
      "Epoch 84/100\n",
      "629/629 [==============================] - 1s 1ms/step - loss: 0.1937 - accuracy: 0.9234\n",
      "Epoch 85/100\n",
      "629/629 [==============================] - 1s 1ms/step - loss: 0.1921 - accuracy: 0.9252\n",
      "Epoch 86/100\n",
      "629/629 [==============================] - 1s 1ms/step - loss: 0.1922 - accuracy: 0.9255\n",
      "Epoch 87/100\n",
      "629/629 [==============================] - 1s 1ms/step - loss: 0.1933 - accuracy: 0.9237\n",
      "Epoch 88/100\n",
      "629/629 [==============================] - 1s 1ms/step - loss: 0.1917 - accuracy: 0.9247\n",
      "Epoch 89/100\n",
      "629/629 [==============================] - 1s 1ms/step - loss: 0.1921 - accuracy: 0.9238\n",
      "Epoch 90/100\n",
      "629/629 [==============================] - 1s 1ms/step - loss: 0.1917 - accuracy: 0.9239\n",
      "Epoch 91/100\n",
      "629/629 [==============================] - 1s 1ms/step - loss: 0.1904 - accuracy: 0.9237\n",
      "Epoch 92/100\n",
      "629/629 [==============================] - 1s 1ms/step - loss: 0.1917 - accuracy: 0.9243\n",
      "Epoch 93/100\n",
      "629/629 [==============================] - 1s 1ms/step - loss: 0.1910 - accuracy: 0.9265\n",
      "Epoch 94/100\n",
      "629/629 [==============================] - 1s 1ms/step - loss: 0.1914 - accuracy: 0.9244\n",
      "Epoch 95/100\n",
      "629/629 [==============================] - 1s 1ms/step - loss: 0.1908 - accuracy: 0.9249\n",
      "Epoch 96/100\n",
      "629/629 [==============================] - 1s 1ms/step - loss: 0.1912 - accuracy: 0.9236\n",
      "Epoch 97/100\n",
      "629/629 [==============================] - 1s 1ms/step - loss: 0.1912 - accuracy: 0.9253\n",
      "Epoch 98/100\n",
      "629/629 [==============================] - 1s 1ms/step - loss: 0.1903 - accuracy: 0.9256\n",
      "Epoch 99/100\n",
      "629/629 [==============================] - 1s 1ms/step - loss: 0.1906 - accuracy: 0.9244\n",
      "Epoch 100/100\n",
      "629/629 [==============================] - 1s 1ms/step - loss: 0.1899 - accuracy: 0.9269\n"
     ]
    }
   ],
   "source": [
    "\n",
    "tf.random.set_seed(42)\n",
    "\n",
    "\n",
    "\n",
    "model_22 = tf.keras.Sequential([\n",
    "  tf.keras.layers.Dense(20,activation = 'relu'),\n",
    "  tf.keras.layers.Dense(40,activation = 'relu'),\n",
    "  tf.keras.layers.Dense(20,activation = 'relu'),\n",
    "  tf.keras.layers.Dense(9,activation = 'relu'),\n",
    "  tf.keras.layers.Dense(1,activation = 'sigmoid')                            \n",
    "])\n",
    "\n",
    "\n",
    "model_22.compile(loss = 'binary_crossentropy',\n",
    "                optimizer = tf.keras.optimizers.Adam(lr=0.001),\n",
    "                metrics = ['accuracy'])\n",
    "\n",
    "\n",
    "history_2 = model_22.fit(x_train5,y_train5,epochs = 100)"
   ]
  },
  {
   "cell_type": "code",
   "execution_count": 50,
   "metadata": {},
   "outputs": [
    {
     "name": "stdout",
     "output_type": "stream",
     "text": [
      "210/210 [==============================] - 0s 968us/step - loss: 0.2545 - accuracy: 0.9089\n"
     ]
    },
    {
     "data": {
      "text/plain": [
       "[0.2544872760772705, 0.9088603854179382]"
      ]
     },
     "execution_count": 50,
     "metadata": {},
     "output_type": "execute_result"
    }
   ],
   "source": [
    "model_22.evaluate(x_test5,y_test5)"
   ]
  },
  {
   "cell_type": "code",
   "execution_count": 51,
   "metadata": {},
   "outputs": [
    {
     "name": "stdout",
     "output_type": "stream",
     "text": [
      "629/629 [==============================] - 1s 857us/step\n",
      "210/210 [==============================] - 0s 835us/step\n",
      "              precision    recall  f1-score   support\n",
      "\n",
      "           0       0.89      0.97      0.93     10036\n",
      "           1       0.97      0.88      0.92     10074\n",
      "\n",
      "    accuracy                           0.93     20110\n",
      "   macro avg       0.93      0.93      0.93     20110\n",
      "weighted avg       0.93      0.93      0.93     20110\n",
      "\n",
      "              precision    recall  f1-score   support\n",
      "\n",
      "           0       0.87      0.96      0.91      3371\n",
      "           1       0.96      0.85      0.90      3333\n",
      "\n",
      "    accuracy                           0.91      6704\n",
      "   macro avg       0.91      0.91      0.91      6704\n",
      "weighted avg       0.91      0.91      0.91      6704\n",
      "\n"
     ]
    }
   ],
   "source": [
    "ypred_train22 = model_22.predict(x_train5)\n",
    "y_pred_test22 = model_22.predict(x_test5)\n",
    "\n",
    "y_pred_test22 = (y_pred_test22 > 0.5)\n",
    "ypred_train22 = (ypred_train22 > 0.5)\n",
    "\n",
    "print(classification_report(y_train5,ypred_train22))\n",
    "print(classification_report(y_test5,y_pred_test22))"
   ]
  },
  {
   "cell_type": "code",
   "execution_count": 52,
   "metadata": {},
   "outputs": [
    {
     "name": "stdout",
     "output_type": "stream",
     "text": [
      "210/210 [==============================] - 0s 887us/step\n"
     ]
    },
    {
     "data": {
      "image/png": "[encoded data removed]",
      "text/plain": [
       "<Figure size 640x480 with 1 Axes>"
      ]
     },
     "metadata": {},
     "output_type": "display_data"
    }
   ],
   "source": [
    "# cross_val_scores = cross_val_score(model_22, x_train5, y_train5, cv=5)\n",
    "# print(\"Cross-validation scores:\", cross_val_scores)\n",
    "# print(\"Average cross-validation score:\", np.mean(cross_val_scores))\n",
    "y_proba_test = model_22.predict(x_test5).flatten()\n",
    "\n",
    "fpr, tpr, thresholds = roc_curve(y_test5, y_proba_test)\n",
    "\n",
    "plt.plot(fpr, tpr, label='ROC Curve')\n",
    "plt.xlabel('False Positive Rate')\n",
    "plt.ylabel('True Positive Rate')\n",
    "plt.title('ROC Curve with AUC = {:.2f}'.format(roc_auc_score(y_test5, y_proba_test)))\n",
    "plt.legend(loc='lower right')\n",
    "plt.grid(True)\n",
    "plt.show()"
   ]
  },
  {
   "cell_type": "markdown",
   "metadata": {},
   "source": [
    "## inny model"
   ]
  },
  {
   "cell_type": "code",
   "execution_count": 53,
   "metadata": {},
   "outputs": [],
   "source": [
    "model2 = Sequential()\n",
    "\n",
    "\n",
    "\n",
    "model2.add(Dense(20,  activation='relu'))\n",
    "model2.add(Dropout(0.2))\n",
    "\n",
    "model2.add(Dense(10, activation='relu'))\n",
    "model2.add(Dropout(0.2))\n",
    "\n",
    "model2.add(Dense(units=1,activation='sigmoid'))\n",
    "\n",
    "model2.compile(loss='binary_crossentropy', optimizer='adam')"
   ]
  },
  {
   "cell_type": "code",
   "execution_count": 54,
   "metadata": {},
   "outputs": [
    {
     "name": "stdout",
     "output_type": "stream",
     "text": [
      "Epoch 1/100\n",
      "629/629 [==============================] - 1s 2ms/step - loss: 0.3996 - val_loss: 0.2861\n",
      "Epoch 2/100\n",
      "629/629 [==============================] - 1s 1ms/step - loss: 0.2912 - val_loss: 0.2697\n",
      "Epoch 3/100\n",
      "629/629 [==============================] - 1s 1ms/step - loss: 0.2743 - val_loss: 0.2638\n",
      "Epoch 4/100\n",
      "629/629 [==============================] - 1s 1ms/step - loss: 0.2661 - val_loss: 0.2577\n",
      "Epoch 5/100\n",
      "629/629 [==============================] - 1s 1ms/step - loss: 0.2594 - val_loss: 0.2535\n",
      "Epoch 6/100\n",
      "629/629 [==============================] - 1s 1ms/step - loss: 0.2567 - val_loss: 0.2558\n",
      "Epoch 7/100\n",
      "629/629 [==============================] - 1s 1ms/step - loss: 0.2510 - val_loss: 0.2480\n",
      "Epoch 8/100\n",
      "629/629 [==============================] - 1s 1ms/step - loss: 0.2477 - val_loss: 0.2474\n",
      "Epoch 9/100\n",
      "629/629 [==============================] - 1s 1ms/step - loss: 0.2462 - val_loss: 0.2439\n",
      "Epoch 10/100\n",
      "629/629 [==============================] - 1s 1ms/step - loss: 0.2428 - val_loss: 0.2434\n",
      "Epoch 11/100\n",
      "629/629 [==============================] - 1s 1ms/step - loss: 0.2412 - val_loss: 0.2411\n",
      "Epoch 12/100\n",
      "629/629 [==============================] - 1s 1ms/step - loss: 0.2373 - val_loss: 0.2389\n",
      "Epoch 13/100\n",
      "629/629 [==============================] - 1s 1ms/step - loss: 0.2369 - val_loss: 0.2383\n",
      "Epoch 14/100\n",
      "629/629 [==============================] - 1s 1ms/step - loss: 0.2364 - val_loss: 0.2389\n",
      "Epoch 15/100\n",
      "629/629 [==============================] - 1s 1ms/step - loss: 0.2362 - val_loss: 0.2363\n",
      "Epoch 16/100\n",
      "629/629 [==============================] - 1s 1ms/step - loss: 0.2337 - val_loss: 0.2363\n",
      "Epoch 17/100\n",
      "629/629 [==============================] - 1s 1ms/step - loss: 0.2316 - val_loss: 0.2375\n",
      "Epoch 18/100\n",
      "629/629 [==============================] - 1s 1ms/step - loss: 0.2314 - val_loss: 0.2357\n",
      "Epoch 19/100\n",
      "629/629 [==============================] - 1s 1ms/step - loss: 0.2320 - val_loss: 0.2360\n",
      "Epoch 20/100\n",
      "629/629 [==============================] - 1s 1ms/step - loss: 0.2313 - val_loss: 0.2345\n",
      "Epoch 21/100\n",
      "629/629 [==============================] - 1s 1ms/step - loss: 0.2270 - val_loss: 0.2373\n",
      "Epoch 22/100\n",
      "629/629 [==============================] - 1s 1ms/step - loss: 0.2281 - val_loss: 0.2321\n",
      "Epoch 23/100\n",
      "629/629 [==============================] - 1s 1ms/step - loss: 0.2299 - val_loss: 0.2333\n",
      "Epoch 24/100\n",
      "629/629 [==============================] - 1s 1ms/step - loss: 0.2288 - val_loss: 0.2321\n",
      "Epoch 25/100\n",
      "629/629 [==============================] - 1s 1ms/step - loss: 0.2264 - val_loss: 0.2320\n",
      "Epoch 26/100\n",
      "629/629 [==============================] - 1s 1ms/step - loss: 0.2294 - val_loss: 0.2314\n",
      "Epoch 27/100\n",
      "629/629 [==============================] - 1s 1ms/step - loss: 0.2279 - val_loss: 0.2322\n",
      "Epoch 28/100\n",
      "629/629 [==============================] - 1s 1ms/step - loss: 0.2265 - val_loss: 0.2330\n",
      "Epoch 29/100\n",
      "629/629 [==============================] - 1s 1ms/step - loss: 0.2278 - val_loss: 0.2315\n",
      "Epoch 30/100\n",
      "629/629 [==============================] - 1s 1ms/step - loss: 0.2273 - val_loss: 0.2342\n",
      "Epoch 31/100\n",
      "629/629 [==============================] - 1s 1ms/step - loss: 0.2236 - val_loss: 0.2306\n",
      "Epoch 32/100\n",
      "629/629 [==============================] - 1s 1ms/step - loss: 0.2274 - val_loss: 0.2291\n",
      "Epoch 33/100\n",
      "629/629 [==============================] - 1s 1ms/step - loss: 0.2264 - val_loss: 0.2301\n",
      "Epoch 34/100\n",
      "629/629 [==============================] - 1s 1ms/step - loss: 0.2253 - val_loss: 0.2292\n",
      "Epoch 35/100\n",
      "629/629 [==============================] - 1s 1ms/step - loss: 0.2244 - val_loss: 0.2300\n",
      "Epoch 36/100\n",
      "629/629 [==============================] - 1s 1ms/step - loss: 0.2238 - val_loss: 0.2320\n",
      "Epoch 37/100\n",
      "629/629 [==============================] - 1s 1ms/step - loss: 0.2244 - val_loss: 0.2286\n",
      "Epoch 38/100\n",
      "629/629 [==============================] - 1s 1ms/step - loss: 0.2256 - val_loss: 0.2319\n",
      "Epoch 39/100\n",
      "629/629 [==============================] - 1s 1ms/step - loss: 0.2232 - val_loss: 0.2297\n",
      "Epoch 40/100\n",
      "629/629 [==============================] - 1s 1ms/step - loss: 0.2249 - val_loss: 0.2295\n",
      "Epoch 41/100\n",
      "629/629 [==============================] - 1s 1ms/step - loss: 0.2222 - val_loss: 0.2304\n",
      "Epoch 42/100\n",
      "629/629 [==============================] - 1s 1ms/step - loss: 0.2231 - val_loss: 0.2309\n",
      "Epoch 43/100\n",
      "629/629 [==============================] - 1s 1ms/step - loss: 0.2229 - val_loss: 0.2307\n",
      "Epoch 44/100\n",
      "629/629 [==============================] - 1s 1ms/step - loss: 0.2232 - val_loss: 0.2310\n",
      "Epoch 45/100\n",
      "629/629 [==============================] - 1s 1ms/step - loss: 0.2218 - val_loss: 0.2285\n",
      "Epoch 46/100\n",
      "629/629 [==============================] - 1s 1ms/step - loss: 0.2225 - val_loss: 0.2290\n",
      "Epoch 47/100\n",
      "629/629 [==============================] - 1s 1ms/step - loss: 0.2230 - val_loss: 0.2281\n",
      "Epoch 48/100\n",
      "629/629 [==============================] - 1s 1ms/step - loss: 0.2216 - val_loss: 0.2301\n",
      "Epoch 49/100\n",
      "629/629 [==============================] - 1s 1ms/step - loss: 0.2233 - val_loss: 0.2296\n",
      "Epoch 50/100\n",
      "629/629 [==============================] - 1s 1ms/step - loss: 0.2232 - val_loss: 0.2290\n",
      "Epoch 51/100\n",
      "629/629 [==============================] - 1s 1ms/step - loss: 0.2235 - val_loss: 0.2290\n",
      "Epoch 52/100\n",
      "629/629 [==============================] - 1s 1ms/step - loss: 0.2214 - val_loss: 0.2281\n",
      "Epoch 53/100\n",
      "629/629 [==============================] - 1s 1ms/step - loss: 0.2218 - val_loss: 0.2291\n",
      "Epoch 54/100\n",
      "629/629 [==============================] - 1s 1ms/step - loss: 0.2212 - val_loss: 0.2297\n",
      "Epoch 55/100\n",
      "629/629 [==============================] - 1s 1ms/step - loss: 0.2201 - val_loss: 0.2294\n",
      "Epoch 56/100\n",
      "629/629 [==============================] - 1s 1ms/step - loss: 0.2219 - val_loss: 0.2297\n",
      "Epoch 57/100\n",
      "629/629 [==============================] - 1s 1ms/step - loss: 0.2226 - val_loss: 0.2310\n",
      "Epoch 58/100\n",
      "629/629 [==============================] - 1s 1ms/step - loss: 0.2219 - val_loss: 0.2283\n",
      "Epoch 59/100\n",
      "629/629 [==============================] - 1s 1ms/step - loss: 0.2218 - val_loss: 0.2282\n",
      "Epoch 60/100\n",
      "629/629 [==============================] - 1s 1ms/step - loss: 0.2196 - val_loss: 0.2261\n",
      "Epoch 61/100\n",
      "629/629 [==============================] - 1s 1ms/step - loss: 0.2206 - val_loss: 0.2296\n",
      "Epoch 62/100\n",
      "629/629 [==============================] - 1s 1ms/step - loss: 0.2214 - val_loss: 0.2273\n",
      "Epoch 63/100\n",
      "629/629 [==============================] - 1s 1ms/step - loss: 0.2208 - val_loss: 0.2306\n",
      "Epoch 64/100\n",
      "629/629 [==============================] - 1s 1ms/step - loss: 0.2211 - val_loss: 0.2285\n",
      "Epoch 65/100\n",
      "629/629 [==============================] - 1s 1ms/step - loss: 0.2204 - val_loss: 0.2279\n",
      "Epoch 66/100\n",
      "629/629 [==============================] - 1s 1ms/step - loss: 0.2175 - val_loss: 0.2280\n",
      "Epoch 67/100\n",
      "629/629 [==============================] - 1s 1ms/step - loss: 0.2196 - val_loss: 0.2292\n",
      "Epoch 68/100\n",
      "629/629 [==============================] - 1s 1ms/step - loss: 0.2204 - val_loss: 0.2285\n",
      "Epoch 69/100\n",
      "629/629 [==============================] - 1s 1ms/step - loss: 0.2181 - val_loss: 0.2287\n",
      "Epoch 70/100\n",
      "629/629 [==============================] - 1s 1ms/step - loss: 0.2193 - val_loss: 0.2273\n",
      "Epoch 71/100\n",
      "629/629 [==============================] - 1s 1ms/step - loss: 0.2207 - val_loss: 0.2276\n",
      "Epoch 72/100\n",
      "629/629 [==============================] - 1s 1ms/step - loss: 0.2191 - val_loss: 0.2260\n",
      "Epoch 73/100\n",
      "629/629 [==============================] - 1s 1ms/step - loss: 0.2194 - val_loss: 0.2277\n",
      "Epoch 74/100\n",
      "629/629 [==============================] - 1s 1ms/step - loss: 0.2198 - val_loss: 0.2278\n",
      "Epoch 75/100\n",
      "629/629 [==============================] - 1s 1ms/step - loss: 0.2202 - val_loss: 0.2275\n",
      "Epoch 76/100\n",
      "629/629 [==============================] - 1s 1ms/step - loss: 0.2204 - val_loss: 0.2260\n",
      "Epoch 77/100\n",
      "629/629 [==============================] - 1s 1ms/step - loss: 0.2198 - val_loss: 0.2281\n",
      "Epoch 78/100\n",
      "629/629 [==============================] - 1s 1ms/step - loss: 0.2188 - val_loss: 0.2305\n",
      "Epoch 79/100\n",
      "629/629 [==============================] - 1s 1ms/step - loss: 0.2188 - val_loss: 0.2269\n",
      "Epoch 80/100\n",
      "629/629 [==============================] - 1s 1ms/step - loss: 0.2197 - val_loss: 0.2262\n",
      "Epoch 81/100\n",
      "629/629 [==============================] - 1s 1ms/step - loss: 0.2182 - val_loss: 0.2289\n",
      "Epoch 82/100\n",
      "629/629 [==============================] - 1s 1ms/step - loss: 0.2190 - val_loss: 0.2276\n",
      "Epoch 83/100\n",
      "629/629 [==============================] - 1s 1ms/step - loss: 0.2203 - val_loss: 0.2295\n",
      "Epoch 84/100\n",
      "629/629 [==============================] - 1s 1ms/step - loss: 0.2192 - val_loss: 0.2278\n",
      "Epoch 85/100\n",
      "629/629 [==============================] - 1s 1ms/step - loss: 0.2200 - val_loss: 0.2268\n",
      "Epoch 86/100\n",
      "629/629 [==============================] - 1s 1ms/step - loss: 0.2182 - val_loss: 0.2270\n",
      "Epoch 87/100\n",
      "629/629 [==============================] - 1s 1ms/step - loss: 0.2200 - val_loss: 0.2280\n",
      "Epoch 88/100\n",
      "629/629 [==============================] - 1s 1ms/step - loss: 0.2207 - val_loss: 0.2263\n",
      "Epoch 89/100\n",
      "629/629 [==============================] - 1s 1ms/step - loss: 0.2199 - val_loss: 0.2259\n",
      "Epoch 90/100\n",
      "629/629 [==============================] - 1s 1ms/step - loss: 0.2183 - val_loss: 0.2298\n",
      "Epoch 91/100\n",
      "629/629 [==============================] - 1s 1ms/step - loss: 0.2167 - val_loss: 0.2285\n",
      "Epoch 92/100\n",
      "629/629 [==============================] - 1s 1ms/step - loss: 0.2178 - val_loss: 0.2274\n",
      "Epoch 93/100\n",
      "629/629 [==============================] - 1s 1ms/step - loss: 0.2168 - val_loss: 0.2253\n",
      "Epoch 94/100\n",
      "629/629 [==============================] - 1s 1ms/step - loss: 0.2199 - val_loss: 0.2266\n",
      "Epoch 95/100\n",
      "629/629 [==============================] - 1s 1ms/step - loss: 0.2160 - val_loss: 0.2268\n",
      "Epoch 96/100\n",
      "629/629 [==============================] - 1s 1ms/step - loss: 0.2177 - val_loss: 0.2261\n",
      "Epoch 97/100\n",
      "629/629 [==============================] - 1s 1ms/step - loss: 0.2192 - val_loss: 0.2280\n",
      "Epoch 98/100\n",
      "629/629 [==============================] - 1s 1ms/step - loss: 0.2173 - val_loss: 0.2280\n",
      "Epoch 99/100\n",
      "629/629 [==============================] - 1s 1ms/step - loss: 0.2186 - val_loss: 0.2258\n",
      "Epoch 100/100\n",
      "629/629 [==============================] - 1s 1ms/step - loss: 0.2167 - val_loss: 0.2272\n"
     ]
    },
    {
     "data": {
      "text/plain": [
       "<keras.src.callbacks.History at 0x279c327fb90>"
      ]
     },
     "execution_count": 54,
     "metadata": {},
     "output_type": "execute_result"
    }
   ],
   "source": [
    "model2.fit(x=x_train5, \n",
    "          y=y_train5, \n",
    "          epochs=100,\n",
    "          validation_data=(x_test5, y_test5), verbose=1,\n",
    "          callbacks=[early_stop]\n",
    "          )"
   ]
  },
  {
   "cell_type": "code",
   "execution_count": 55,
   "metadata": {},
   "outputs": [
    {
     "name": "stdout",
     "output_type": "stream",
     "text": [
      "629/629 [==============================] - 1s 771us/step\n",
      "210/210 [==============================] - 0s 756us/step\n",
      "Training Results\n",
      "\n",
      "              precision    recall  f1-score   support\n",
      "\n",
      "           0       0.89      0.97      0.93     10036\n",
      "           1       0.96      0.88      0.92     10074\n",
      "\n",
      "    accuracy                           0.92     20110\n",
      "   macro avg       0.93      0.92      0.92     20110\n",
      "weighted avg       0.93      0.92      0.92     20110\n",
      "\n",
      "Testing Results\n",
      "\n",
      "              precision    recall  f1-score   support\n",
      "\n",
      "           0       0.88      0.96      0.91      3371\n",
      "           1       0.95      0.86      0.91      3333\n",
      "\n",
      "    accuracy                           0.91      6704\n",
      "   macro avg       0.91      0.91      0.91      6704\n",
      "weighted avg       0.91      0.91      0.91      6704\n",
      "\n"
     ]
    }
   ],
   "source": [
    "ypred_train14 = model2.predict(x_train5)\n",
    "y_pred_test14 = model2.predict(x_test5)\n",
    "\n",
    "y_pred_test14 = (y_pred_test14 > 0.5)\n",
    "ypred_train14 = (ypred_train14 > 0.5)\n",
    "\n",
    "print(\"Training Results\\n\")\n",
    "print(classification_report(y_train5,ypred_train14))\n",
    "print(\"Testing Results\\n\")\n",
    "print(classification_report(y_test5,y_pred_test14))"
   ]
  },
  {
   "cell_type": "code",
   "execution_count": 56,
   "metadata": {},
   "outputs": [
    {
     "name": "stdout",
     "output_type": "stream",
     "text": [
      "210/210 [==============================] - 0s 736us/step\n"
     ]
    },
    {
     "data": {
      "image/png": "[encoded data removed]",
      "text/plain": [
       "<Figure size 640x480 with 1 Axes>"
      ]
     },
     "metadata": {},
     "output_type": "display_data"
    }
   ],
   "source": [
    "# cross_val_scores = cross_val_score(model2, x_train5, y_train5, cv=5)\n",
    "# print(\"Cross-validation scores:\", cross_val_scores)\n",
    "# print(\"Average cross-validation score:\", np.mean(cross_val_scores))\n",
    "y_proba_test = model2.predict(x_test5).flatten()\n",
    "\n",
    "fpr, tpr, thresholds = roc_curve(y_test5, y_proba_test)\n",
    "\n",
    "plt.plot(fpr, tpr, label='ROC Curve')\n",
    "plt.xlabel('False Positive Rate')\n",
    "plt.ylabel('True Positive Rate')\n",
    "plt.title('ROC Curve with AUC = {:.2f}'.format(roc_auc_score(y_test5, y_proba_test)))\n",
    "plt.legend(loc='lower right')\n",
    "plt.grid(True)\n",
    "plt.show()"
   ]
  },
  {
   "cell_type": "markdown",
   "metadata": {},
   "source": [
    "## SVC"
   ]
  },
  {
   "cell_type": "code",
   "execution_count": 57,
   "metadata": {},
   "outputs": [],
   "source": [
    "model = SVC(probability=True)"
   ]
  },
  {
   "cell_type": "code",
   "execution_count": 58,
   "metadata": {},
   "outputs": [
    {
     "data": {
      "text/html": [
       "<style>#sk-container-id-4 {color: black;}#sk-container-id-4 pre{padding: 0;}#sk-container-id-4 div.sk-toggleable {background-color: white;}#sk-container-id-4 label.sk-toggleable__label {cursor: pointer;display: block;width: 100%;margin-bottom: 0;padding: 0.3em;box-sizing: border-box;text-align: center;}#sk-container-id-4 label.sk-toggleable__label-arrow:before {content: \"▸\";float: left;margin-right: 0.25em;color: #696969;}#sk-container-id-4 label.sk-toggleable__label-arrow:hover:before {color: black;}#sk-container-id-4 div.sk-estimator:hover label.sk-toggleable__label-arrow:before {color: black;}#sk-container-id-4 div.sk-toggleable__content {max-height: 0;max-width: 0;overflow: hidden;text-align: left;background-color: #f0f8ff;}#sk-container-id-4 div.sk-toggleable__content pre {margin: 0.2em;color: black;border-radius: 0.25em;background-color: #f0f8ff;}#sk-container-id-4 input.sk-toggleable__control:checked~div.sk-toggleable__content {max-height: 200px;max-width: 100%;overflow: auto;}#sk-container-id-4 input.sk-toggleable__control:checked~label.sk-toggleable__label-arrow:before {content: \"▾\";}#sk-container-id-4 div.sk-estimator input.sk-toggleable__control:checked~label.sk-toggleable__label {background-color: #d4ebff;}#sk-container-id-4 div.sk-label input.sk-toggleable__control:checked~label.sk-toggleable__label {background-color: #d4ebff;}#sk-container-id-4 input.sk-hidden--visually {border: 0;clip: rect(1px 1px 1px 1px);clip: rect(1px, 1px, 1px, 1px);height: 1px;margin: -1px;overflow: hidden;padding: 0;position: absolute;width: 1px;}#sk-container-id-4 div.sk-estimator {font-family: monospace;background-color: #f0f8ff;border: 1px dotted black;border-radius: 0.25em;box-sizing: border-box;margin-bottom: 0.5em;}#sk-container-id-4 div.sk-estimator:hover {background-color: #d4ebff;}#sk-container-id-4 div.sk-parallel-item::after {content: \"\";width: 100%;border-bottom: 1px solid gray;flex-grow: 1;}#sk-container-id-4 div.sk-label:hover label.sk-toggleable__label {background-color: #d4ebff;}#sk-container-id-4 div.sk-serial::before {content: \"\";position: absolute;border-left: 1px solid gray;box-sizing: border-box;top: 0;bottom: 0;left: 50%;z-index: 0;}#sk-container-id-4 div.sk-serial {display: flex;flex-direction: column;align-items: center;background-color: white;padding-right: 0.2em;padding-left: 0.2em;position: relative;}#sk-container-id-4 div.sk-item {position: relative;z-index: 1;}#sk-container-id-4 div.sk-parallel {display: flex;align-items: stretch;justify-content: center;background-color: white;position: relative;}#sk-container-id-4 div.sk-item::before, #sk-container-id-4 div.sk-parallel-item::before {content: \"\";position: absolute;border-left: 1px solid gray;box-sizing: border-box;top: 0;bottom: 0;left: 50%;z-index: -1;}#sk-container-id-4 div.sk-parallel-item {display: flex;flex-direction: column;z-index: 1;position: relative;background-color: white;}#sk-container-id-4 div.sk-parallel-item:first-child::after {align-self: flex-end;width: 50%;}#sk-container-id-4 div.sk-parallel-item:last-child::after {align-self: flex-start;width: 50%;}#sk-container-id-4 div.sk-parallel-item:only-child::after {width: 0;}#sk-container-id-4 div.sk-dashed-wrapped {border: 1px dashed gray;margin: 0 0.4em 0.5em 0.4em;box-sizing: border-box;padding-bottom: 0.4em;background-color: white;}#sk-container-id-4 div.sk-label label {font-family: monospace;font-weight: bold;display: inline-block;line-height: 1.2em;}#sk-container-id-4 div.sk-label-container {text-align: center;}#sk-container-id-4 div.sk-container {/* jupyter's `normalize.less` sets `[hidden] { display: none; }` but bootstrap.min.css set `[hidden] { display: none !important; }` so we also need the `!important` here to be able to override the default hidden behavior on the sphinx rendered scikit-learn.org. See: https://github.com/scikit-learn/scikit-learn/issues/21755 */display: inline-block !important;position: relative;}#sk-container-id-4 div.sk-text-repr-fallback {display: none;}</style><div id=\"sk-container-id-4\" class=\"sk-top-container\"><div class=\"sk-text-repr-fallback\"><pre>SVC(probability=True)</pre><b>In a Jupyter environment, please rerun this cell to show the HTML representation or trust the notebook. <br />On GitHub, the HTML representation is unable to render, please try loading this page with nbviewer.org.</b></div><div class=\"sk-container\" hidden><div class=\"sk-item\"><div class=\"sk-estimator sk-toggleable\"><input class=\"sk-toggleable__control sk-hidden--visually\" id=\"sk-estimator-id-6\" type=\"checkbox\" checked><label for=\"sk-estimator-id-6\" class=\"sk-toggleable__label sk-toggleable__label-arrow\">SVC</label><div class=\"sk-toggleable__content\"><pre>SVC(probability=True)</pre></div></div></div></div></div>"
      ],
      "text/plain": [
       "SVC(probability=True)"
      ]
     },
     "execution_count": 58,
     "metadata": {},
     "output_type": "execute_result"
    }
   ],
   "source": [
    "model.fit(x_train5,y_train5)"
   ]
  },
  {
   "cell_type": "code",
   "execution_count": 59,
   "metadata": {},
   "outputs": [
    {
     "name": "stdout",
     "output_type": "stream",
     "text": [
      "              precision    recall  f1-score   support\n",
      "\n",
      "           0       0.89      0.91      0.90     10036\n",
      "           1       0.91      0.89      0.90     10074\n",
      "\n",
      "    accuracy                           0.90     20110\n",
      "   macro avg       0.90      0.90      0.90     20110\n",
      "weighted avg       0.90      0.90      0.90     20110\n",
      "\n",
      "              precision    recall  f1-score   support\n",
      "\n",
      "           0       0.89      0.91      0.90      3371\n",
      "           1       0.91      0.88      0.89      3333\n",
      "\n",
      "    accuracy                           0.90      6704\n",
      "   macro avg       0.90      0.90      0.90      6704\n",
      "weighted avg       0.90      0.90      0.90      6704\n",
      "\n"
     ]
    }
   ],
   "source": [
    "\n",
    "\n",
    "ypred_train = model.predict(x_train5)\n",
    "y_pred_test = model.predict(x_test5)\n",
    "\n",
    "\n",
    "print(classification_report(y_train5,ypred_train))\n",
    "print(classification_report(y_test5,y_pred_test))"
   ]
  },
  {
   "cell_type": "code",
   "execution_count": 60,
   "metadata": {},
   "outputs": [],
   "source": [
    "param_grid = {'C': [0.1,1, 10, 100, 1000], 'gamma': [1,0.1,0.01,0.001,0.0001], 'kernel': ['rbf']} "
   ]
  },
  {
   "cell_type": "code",
   "execution_count": 61,
   "metadata": {},
   "outputs": [],
   "source": [
    "grid = GridSearchCV(SVC(),param_grid,refit=True,verbose=3)"
   ]
  },
  {
   "cell_type": "code",
   "execution_count": 62,
   "metadata": {},
   "outputs": [
    {
     "name": "stdout",
     "output_type": "stream",
     "text": [
      "Fitting 5 folds for each of 25 candidates, totalling 125 fits\n",
      "[CV 1/5] END ........C=0.1, gamma=1, kernel=rbf;, score=0.889 total time=   2.6s\n",
      "[CV 2/5] END ........C=0.1, gamma=1, kernel=rbf;, score=0.894 total time=   2.4s\n",
      "[CV 3/5] END ........C=0.1, gamma=1, kernel=rbf;, score=0.887 total time=   2.4s\n",
      "[CV 4/5] END ........C=0.1, gamma=1, kernel=rbf;, score=0.885 total time=   2.4s\n",
      "[CV 5/5] END ........C=0.1, gamma=1, kernel=rbf;, score=0.891 total time=   2.5s\n",
      "[CV 1/5] END ......C=0.1, gamma=0.1, kernel=rbf;, score=0.882 total time=   2.7s\n",
      "[CV 2/5] END ......C=0.1, gamma=0.1, kernel=rbf;, score=0.885 total time=   2.7s\n",
      "[CV 3/5] END ......C=0.1, gamma=0.1, kernel=rbf;, score=0.885 total time=   2.7s\n",
      "[CV 4/5] END ......C=0.1, gamma=0.1, kernel=rbf;, score=0.881 total time=   2.7s\n",
      "[CV 5/5] END ......C=0.1, gamma=0.1, kernel=rbf;, score=0.885 total time=   2.8s\n",
      "[CV 1/5] END .....C=0.1, gamma=0.01, kernel=rbf;, score=0.864 total time=   4.1s\n",
      "[CV 2/5] END .....C=0.1, gamma=0.01, kernel=rbf;, score=0.871 total time=   4.2s\n",
      "[CV 3/5] END .....C=0.1, gamma=0.01, kernel=rbf;, score=0.868 total time=   4.2s\n",
      "[CV 4/5] END .....C=0.1, gamma=0.01, kernel=rbf;, score=0.863 total time=   4.2s\n",
      "[CV 5/5] END .....C=0.1, gamma=0.01, kernel=rbf;, score=0.866 total time=   4.2s\n",
      "[CV 1/5] END ....C=0.1, gamma=0.001, kernel=rbf;, score=0.785 total time=   6.9s\n",
      "[CV 2/5] END ....C=0.1, gamma=0.001, kernel=rbf;, score=0.793 total time=   6.9s\n",
      "[CV 3/5] END ....C=0.1, gamma=0.001, kernel=rbf;, score=0.793 total time=   6.9s\n",
      "[CV 4/5] END ....C=0.1, gamma=0.001, kernel=rbf;, score=0.790 total time=   7.1s\n",
      "[CV 5/5] END ....C=0.1, gamma=0.001, kernel=rbf;, score=0.786 total time=   7.2s\n",
      "[CV 1/5] END ...C=0.1, gamma=0.0001, kernel=rbf;, score=0.501 total time=   8.2s\n",
      "[CV 2/5] END ...C=0.1, gamma=0.0001, kernel=rbf;, score=0.501 total time=   8.1s\n",
      "[CV 3/5] END ...C=0.1, gamma=0.0001, kernel=rbf;, score=0.501 total time=   8.3s\n",
      "[CV 4/5] END ...C=0.1, gamma=0.0001, kernel=rbf;, score=0.501 total time=   8.2s\n",
      "[CV 5/5] END ...C=0.1, gamma=0.0001, kernel=rbf;, score=0.501 total time=   8.1s\n",
      "[CV 1/5] END ..........C=1, gamma=1, kernel=rbf;, score=0.904 total time=   2.0s\n",
      "[CV 2/5] END ..........C=1, gamma=1, kernel=rbf;, score=0.901 total time=   2.0s\n",
      "[CV 3/5] END ..........C=1, gamma=1, kernel=rbf;, score=0.903 total time=   2.0s\n",
      "[CV 4/5] END ..........C=1, gamma=1, kernel=rbf;, score=0.895 total time=   2.0s\n",
      "[CV 5/5] END ..........C=1, gamma=1, kernel=rbf;, score=0.905 total time=   2.1s\n",
      "[CV 1/5] END ........C=1, gamma=0.1, kernel=rbf;, score=0.893 total time=   2.2s\n",
      "[CV 2/5] END ........C=1, gamma=0.1, kernel=rbf;, score=0.896 total time=   2.3s\n",
      "[CV 3/5] END ........C=1, gamma=0.1, kernel=rbf;, score=0.892 total time=   2.2s\n",
      "[CV 4/5] END ........C=1, gamma=0.1, kernel=rbf;, score=0.888 total time=   2.3s\n",
      "[CV 5/5] END ........C=1, gamma=0.1, kernel=rbf;, score=0.896 total time=   2.2s\n",
      "[CV 1/5] END .......C=1, gamma=0.01, kernel=rbf;, score=0.882 total time=   2.8s\n",
      "[CV 2/5] END .......C=1, gamma=0.01, kernel=rbf;, score=0.884 total time=   2.8s\n",
      "[CV 3/5] END .......C=1, gamma=0.01, kernel=rbf;, score=0.884 total time=   2.9s\n",
      "[CV 4/5] END .......C=1, gamma=0.01, kernel=rbf;, score=0.881 total time=   2.7s\n",
      "[CV 5/5] END .......C=1, gamma=0.01, kernel=rbf;, score=0.883 total time=   2.7s\n",
      "[CV 1/5] END ......C=1, gamma=0.001, kernel=rbf;, score=0.864 total time=   4.1s\n",
      "[CV 2/5] END ......C=1, gamma=0.001, kernel=rbf;, score=0.871 total time=   4.2s\n",
      "[CV 3/5] END ......C=1, gamma=0.001, kernel=rbf;, score=0.868 total time=   4.2s\n",
      "[CV 4/5] END ......C=1, gamma=0.001, kernel=rbf;, score=0.862 total time=   4.1s\n",
      "[CV 5/5] END ......C=1, gamma=0.001, kernel=rbf;, score=0.866 total time=   4.0s\n",
      "[CV 1/5] END .....C=1, gamma=0.0001, kernel=rbf;, score=0.785 total time=   7.2s\n",
      "[CV 2/5] END .....C=1, gamma=0.0001, kernel=rbf;, score=0.793 total time=   7.1s\n",
      "[CV 3/5] END .....C=1, gamma=0.0001, kernel=rbf;, score=0.793 total time=   7.1s\n",
      "[CV 4/5] END .....C=1, gamma=0.0001, kernel=rbf;, score=0.789 total time=   7.0s\n",
      "[CV 5/5] END .....C=1, gamma=0.0001, kernel=rbf;, score=0.786 total time=   7.2s\n",
      "[CV 1/5] END .........C=10, gamma=1, kernel=rbf;, score=0.904 total time=   2.1s\n",
      "[CV 2/5] END .........C=10, gamma=1, kernel=rbf;, score=0.904 total time=   2.1s\n",
      "[CV 3/5] END .........C=10, gamma=1, kernel=rbf;, score=0.910 total time=   2.1s\n",
      "[CV 4/5] END .........C=10, gamma=1, kernel=rbf;, score=0.908 total time=   2.3s\n",
      "[CV 5/5] END .........C=10, gamma=1, kernel=rbf;, score=0.911 total time=   2.2s\n",
      "[CV 1/5] END .......C=10, gamma=0.1, kernel=rbf;, score=0.907 total time=   2.1s\n",
      "[CV 2/5] END .......C=10, gamma=0.1, kernel=rbf;, score=0.906 total time=   2.1s\n",
      "[CV 3/5] END .......C=10, gamma=0.1, kernel=rbf;, score=0.908 total time=   2.1s\n",
      "[CV 4/5] END .......C=10, gamma=0.1, kernel=rbf;, score=0.904 total time=   2.1s\n",
      "[CV 5/5] END .......C=10, gamma=0.1, kernel=rbf;, score=0.913 total time=   2.1s\n",
      "[CV 1/5] END ......C=10, gamma=0.01, kernel=rbf;, score=0.891 total time=   2.3s\n",
      "[CV 2/5] END ......C=10, gamma=0.01, kernel=rbf;, score=0.890 total time=   2.4s\n",
      "[CV 3/5] END ......C=10, gamma=0.01, kernel=rbf;, score=0.892 total time=   2.3s\n",
      "[CV 4/5] END ......C=10, gamma=0.01, kernel=rbf;, score=0.887 total time=   2.3s\n",
      "[CV 5/5] END ......C=10, gamma=0.01, kernel=rbf;, score=0.891 total time=   2.3s\n",
      "[CV 1/5] END .....C=10, gamma=0.001, kernel=rbf;, score=0.881 total time=   2.8s\n",
      "[CV 2/5] END .....C=10, gamma=0.001, kernel=rbf;, score=0.884 total time=   2.7s\n",
      "[CV 3/5] END .....C=10, gamma=0.001, kernel=rbf;, score=0.884 total time=   2.8s\n",
      "[CV 4/5] END .....C=10, gamma=0.001, kernel=rbf;, score=0.881 total time=   2.7s\n",
      "[CV 5/5] END .....C=10, gamma=0.001, kernel=rbf;, score=0.884 total time=   2.7s\n",
      "[CV 1/5] END ....C=10, gamma=0.0001, kernel=rbf;, score=0.864 total time=   4.1s\n",
      "[CV 2/5] END ....C=10, gamma=0.0001, kernel=rbf;, score=0.871 total time=   4.2s\n",
      "[CV 3/5] END ....C=10, gamma=0.0001, kernel=rbf;, score=0.868 total time=   4.2s\n",
      "[CV 4/5] END ....C=10, gamma=0.0001, kernel=rbf;, score=0.862 total time=   4.1s\n",
      "[CV 5/5] END ....C=10, gamma=0.0001, kernel=rbf;, score=0.866 total time=   4.1s\n",
      "[CV 1/5] END ........C=100, gamma=1, kernel=rbf;, score=0.906 total time=   2.9s\n",
      "[CV 2/5] END ........C=100, gamma=1, kernel=rbf;, score=0.902 total time=   2.8s\n",
      "[CV 3/5] END ........C=100, gamma=1, kernel=rbf;, score=0.908 total time=   2.7s\n",
      "[CV 4/5] END ........C=100, gamma=1, kernel=rbf;, score=0.907 total time=   3.4s\n",
      "[CV 5/5] END ........C=100, gamma=1, kernel=rbf;, score=0.909 total time=   3.3s\n",
      "[CV 1/5] END ......C=100, gamma=0.1, kernel=rbf;, score=0.911 total time=   2.4s\n",
      "[CV 2/5] END ......C=100, gamma=0.1, kernel=rbf;, score=0.909 total time=   2.4s\n",
      "[CV 3/5] END ......C=100, gamma=0.1, kernel=rbf;, score=0.911 total time=   2.5s\n",
      "[CV 4/5] END ......C=100, gamma=0.1, kernel=rbf;, score=0.910 total time=   2.6s\n",
      "[CV 5/5] END ......C=100, gamma=0.1, kernel=rbf;, score=0.916 total time=   2.5s\n",
      "[CV 1/5] END .....C=100, gamma=0.01, kernel=rbf;, score=0.901 total time=   2.3s\n",
      "[CV 2/5] END .....C=100, gamma=0.01, kernel=rbf;, score=0.903 total time=   2.3s\n",
      "[CV 3/5] END .....C=100, gamma=0.01, kernel=rbf;, score=0.903 total time=   2.3s\n",
      "[CV 4/5] END .....C=100, gamma=0.01, kernel=rbf;, score=0.900 total time=   2.3s\n",
      "[CV 5/5] END .....C=100, gamma=0.01, kernel=rbf;, score=0.906 total time=   2.2s\n",
      "[CV 1/5] END ....C=100, gamma=0.001, kernel=rbf;, score=0.890 total time=   2.3s\n",
      "[CV 2/5] END ....C=100, gamma=0.001, kernel=rbf;, score=0.890 total time=   2.3s\n",
      "[CV 3/5] END ....C=100, gamma=0.001, kernel=rbf;, score=0.892 total time=   2.4s\n",
      "[CV 4/5] END ....C=100, gamma=0.001, kernel=rbf;, score=0.888 total time=   2.4s\n",
      "[CV 5/5] END ....C=100, gamma=0.001, kernel=rbf;, score=0.890 total time=   2.3s\n",
      "[CV 1/5] END ...C=100, gamma=0.0001, kernel=rbf;, score=0.881 total time=   2.8s\n",
      "[CV 2/5] END ...C=100, gamma=0.0001, kernel=rbf;, score=0.884 total time=   2.8s\n",
      "[CV 3/5] END ...C=100, gamma=0.0001, kernel=rbf;, score=0.884 total time=   2.8s\n",
      "[CV 4/5] END ...C=100, gamma=0.0001, kernel=rbf;, score=0.881 total time=   2.8s\n",
      "[CV 5/5] END ...C=100, gamma=0.0001, kernel=rbf;, score=0.884 total time=   2.8s\n",
      "[CV 1/5] END .......C=1000, gamma=1, kernel=rbf;, score=0.901 total time=  12.5s\n",
      "[CV 2/5] END .......C=1000, gamma=1, kernel=rbf;, score=0.900 total time=  10.5s\n",
      "[CV 3/5] END .......C=1000, gamma=1, kernel=rbf;, score=0.905 total time=  10.2s\n",
      "[CV 4/5] END .......C=1000, gamma=1, kernel=rbf;, score=0.904 total time=  11.6s\n",
      "[CV 5/5] END .......C=1000, gamma=1, kernel=rbf;, score=0.905 total time=  12.7s\n",
      "[CV 1/5] END .....C=1000, gamma=0.1, kernel=rbf;, score=0.911 total time=   4.4s\n",
      "[CV 2/5] END .....C=1000, gamma=0.1, kernel=rbf;, score=0.906 total time=   4.1s\n",
      "[CV 3/5] END .....C=1000, gamma=0.1, kernel=rbf;, score=0.913 total time=   3.9s\n",
      "[CV 4/5] END .....C=1000, gamma=0.1, kernel=rbf;, score=0.911 total time=   4.7s\n",
      "[CV 5/5] END .....C=1000, gamma=0.1, kernel=rbf;, score=0.912 total time=   4.3s\n",
      "[CV 1/5] END ....C=1000, gamma=0.01, kernel=rbf;, score=0.911 total time=   2.8s\n",
      "[CV 2/5] END ....C=1000, gamma=0.01, kernel=rbf;, score=0.910 total time=   2.9s\n",
      "[CV 3/5] END ....C=1000, gamma=0.01, kernel=rbf;, score=0.916 total time=   3.0s\n",
      "[CV 4/5] END ....C=1000, gamma=0.01, kernel=rbf;, score=0.908 total time=   3.0s\n",
      "[CV 5/5] END ....C=1000, gamma=0.01, kernel=rbf;, score=0.915 total time=   2.8s\n",
      "[CV 1/5] END ...C=1000, gamma=0.001, kernel=rbf;, score=0.896 total time=   2.4s\n",
      "[CV 2/5] END ...C=1000, gamma=0.001, kernel=rbf;, score=0.897 total time=   2.4s\n",
      "[CV 3/5] END ...C=1000, gamma=0.001, kernel=rbf;, score=0.899 total time=   2.4s\n",
      "[CV 4/5] END ...C=1000, gamma=0.001, kernel=rbf;, score=0.898 total time=   2.3s\n",
      "[CV 5/5] END ...C=1000, gamma=0.001, kernel=rbf;, score=0.902 total time=   2.3s\n",
      "[CV 1/5] END ..C=1000, gamma=0.0001, kernel=rbf;, score=0.889 total time=   2.4s\n",
      "[CV 2/5] END ..C=1000, gamma=0.0001, kernel=rbf;, score=0.890 total time=   2.4s\n",
      "[CV 3/5] END ..C=1000, gamma=0.0001, kernel=rbf;, score=0.892 total time=   2.4s\n",
      "[CV 4/5] END ..C=1000, gamma=0.0001, kernel=rbf;, score=0.888 total time=   2.5s\n",
      "[CV 5/5] END ..C=1000, gamma=0.0001, kernel=rbf;, score=0.890 total time=   2.3s\n"
     ]
    },
    {
     "data": {
      "text/html": [
       "<style>#sk-container-id-5 {color: black;}#sk-container-id-5 pre{padding: 0;}#sk-container-id-5 div.sk-toggleable {background-color: white;}#sk-container-id-5 label.sk-toggleable__label {cursor: pointer;display: block;width: 100%;margin-bottom: 0;padding: 0.3em;box-sizing: border-box;text-align: center;}#sk-container-id-5 label.sk-toggleable__label-arrow:before {content: \"▸\";float: left;margin-right: 0.25em;color: #696969;}#sk-container-id-5 label.sk-toggleable__label-arrow:hover:before {color: black;}#sk-container-id-5 div.sk-estimator:hover label.sk-toggleable__label-arrow:before {color: black;}#sk-container-id-5 div.sk-toggleable__content {max-height: 0;max-width: 0;overflow: hidden;text-align: left;background-color: #f0f8ff;}#sk-container-id-5 div.sk-toggleable__content pre {margin: 0.2em;color: black;border-radius: 0.25em;background-color: #f0f8ff;}#sk-container-id-5 input.sk-toggleable__control:checked~div.sk-toggleable__content {max-height: 200px;max-width: 100%;overflow: auto;}#sk-container-id-5 input.sk-toggleable__control:checked~label.sk-toggleable__label-arrow:before {content: \"▾\";}#sk-container-id-5 div.sk-estimator input.sk-toggleable__control:checked~label.sk-toggleable__label {background-color: #d4ebff;}#sk-container-id-5 div.sk-label input.sk-toggleable__control:checked~label.sk-toggleable__label {background-color: #d4ebff;}#sk-container-id-5 input.sk-hidden--visually {border: 0;clip: rect(1px 1px 1px 1px);clip: rect(1px, 1px, 1px, 1px);height: 1px;margin: -1px;overflow: hidden;padding: 0;position: absolute;width: 1px;}#sk-container-id-5 div.sk-estimator {font-family: monospace;background-color: #f0f8ff;border: 1px dotted black;border-radius: 0.25em;box-sizing: border-box;margin-bottom: 0.5em;}#sk-container-id-5 div.sk-estimator:hover {background-color: #d4ebff;}#sk-container-id-5 div.sk-parallel-item::after {content: \"\";width: 100%;border-bottom: 1px solid gray;flex-grow: 1;}#sk-container-id-5 div.sk-label:hover label.sk-toggleable__label {background-color: #d4ebff;}#sk-container-id-5 div.sk-serial::before {content: \"\";position: absolute;border-left: 1px solid gray;box-sizing: border-box;top: 0;bottom: 0;left: 50%;z-index: 0;}#sk-container-id-5 div.sk-serial {display: flex;flex-direction: column;align-items: center;background-color: white;padding-right: 0.2em;padding-left: 0.2em;position: relative;}#sk-container-id-5 div.sk-item {position: relative;z-index: 1;}#sk-container-id-5 div.sk-parallel {display: flex;align-items: stretch;justify-content: center;background-color: white;position: relative;}#sk-container-id-5 div.sk-item::before, #sk-container-id-5 div.sk-parallel-item::before {content: \"\";position: absolute;border-left: 1px solid gray;box-sizing: border-box;top: 0;bottom: 0;left: 50%;z-index: -1;}#sk-container-id-5 div.sk-parallel-item {display: flex;flex-direction: column;z-index: 1;position: relative;background-color: white;}#sk-container-id-5 div.sk-parallel-item:first-child::after {align-self: flex-end;width: 50%;}#sk-container-id-5 div.sk-parallel-item:last-child::after {align-self: flex-start;width: 50%;}#sk-container-id-5 div.sk-parallel-item:only-child::after {width: 0;}#sk-container-id-5 div.sk-dashed-wrapped {border: 1px dashed gray;margin: 0 0.4em 0.5em 0.4em;box-sizing: border-box;padding-bottom: 0.4em;background-color: white;}#sk-container-id-5 div.sk-label label {font-family: monospace;font-weight: bold;display: inline-block;line-height: 1.2em;}#sk-container-id-5 div.sk-label-container {text-align: center;}#sk-container-id-5 div.sk-container {/* jupyter's `normalize.less` sets `[hidden] { display: none; }` but bootstrap.min.css set `[hidden] { display: none !important; }` so we also need the `!important` here to be able to override the default hidden behavior on the sphinx rendered scikit-learn.org. See: https://github.com/scikit-learn/scikit-learn/issues/21755 */display: inline-block !important;position: relative;}#sk-container-id-5 div.sk-text-repr-fallback {display: none;}</style><div id=\"sk-container-id-5\" class=\"sk-top-container\"><div class=\"sk-text-repr-fallback\"><pre>GridSearchCV(estimator=SVC(),\n",
       "             param_grid={&#x27;C&#x27;: [0.1, 1, 10, 100, 1000],\n",
       "                         &#x27;gamma&#x27;: [1, 0.1, 0.01, 0.001, 0.0001],\n",
       "                         &#x27;kernel&#x27;: [&#x27;rbf&#x27;]},\n",
       "             verbose=3)</pre><b>In a Jupyter environment, please rerun this cell to show the HTML representation or trust the notebook. <br />On GitHub, the HTML representation is unable to render, please try loading this page with nbviewer.org.</b></div><div class=\"sk-container\" hidden><div class=\"sk-item sk-dashed-wrapped\"><div class=\"sk-label-container\"><div class=\"sk-label sk-toggleable\"><input class=\"sk-toggleable__control sk-hidden--visually\" id=\"sk-estimator-id-7\" type=\"checkbox\" ><label for=\"sk-estimator-id-7\" class=\"sk-toggleable__label sk-toggleable__label-arrow\">GridSearchCV</label><div class=\"sk-toggleable__content\"><pre>GridSearchCV(estimator=SVC(),\n",
       "             param_grid={&#x27;C&#x27;: [0.1, 1, 10, 100, 1000],\n",
       "                         &#x27;gamma&#x27;: [1, 0.1, 0.01, 0.001, 0.0001],\n",
       "                         &#x27;kernel&#x27;: [&#x27;rbf&#x27;]},\n",
       "             verbose=3)</pre></div></div></div><div class=\"sk-parallel\"><div class=\"sk-parallel-item\"><div class=\"sk-item\"><div class=\"sk-label-container\"><div class=\"sk-label sk-toggleable\"><input class=\"sk-toggleable__control sk-hidden--visually\" id=\"sk-estimator-id-8\" type=\"checkbox\" ><label for=\"sk-estimator-id-8\" class=\"sk-toggleable__label sk-toggleable__label-arrow\">estimator: SVC</label><div class=\"sk-toggleable__content\"><pre>SVC()</pre></div></div></div><div class=\"sk-serial\"><div class=\"sk-item\"><div class=\"sk-estimator sk-toggleable\"><input class=\"sk-toggleable__control sk-hidden--visually\" id=\"sk-estimator-id-9\" type=\"checkbox\" ><label for=\"sk-estimator-id-9\" class=\"sk-toggleable__label sk-toggleable__label-arrow\">SVC</label><div class=\"sk-toggleable__content\"><pre>SVC()</pre></div></div></div></div></div></div></div></div></div></div>"
      ],
      "text/plain": [
       "GridSearchCV(estimator=SVC(),\n",
       "             param_grid={'C': [0.1, 1, 10, 100, 1000],\n",
       "                         'gamma': [1, 0.1, 0.01, 0.001, 0.0001],\n",
       "                         'kernel': ['rbf']},\n",
       "             verbose=3)"
      ]
     },
     "execution_count": 62,
     "metadata": {},
     "output_type": "execute_result"
    }
   ],
   "source": [
    "grid.fit(x_train5,y_train5)"
   ]
  },
  {
   "cell_type": "code",
   "execution_count": 63,
   "metadata": {},
   "outputs": [
    {
     "data": {
      "text/plain": [
       "{'C': 1000, 'gamma': 0.01, 'kernel': 'rbf'}"
      ]
     },
     "execution_count": 63,
     "metadata": {},
     "output_type": "execute_result"
    }
   ],
   "source": [
    "grid.best_params_"
   ]
  },
  {
   "cell_type": "code",
   "execution_count": 64,
   "metadata": {},
   "outputs": [
    {
     "data": {
      "text/html": [
       "<style>#sk-container-id-6 {color: black;}#sk-container-id-6 pre{padding: 0;}#sk-container-id-6 div.sk-toggleable {background-color: white;}#sk-container-id-6 label.sk-toggleable__label {cursor: pointer;display: block;width: 100%;margin-bottom: 0;padding: 0.3em;box-sizing: border-box;text-align: center;}#sk-container-id-6 label.sk-toggleable__label-arrow:before {content: \"▸\";float: left;margin-right: 0.25em;color: #696969;}#sk-container-id-6 label.sk-toggleable__label-arrow:hover:before {color: black;}#sk-container-id-6 div.sk-estimator:hover label.sk-toggleable__label-arrow:before {color: black;}#sk-container-id-6 div.sk-toggleable__content {max-height: 0;max-width: 0;overflow: hidden;text-align: left;background-color: #f0f8ff;}#sk-container-id-6 div.sk-toggleable__content pre {margin: 0.2em;color: black;border-radius: 0.25em;background-color: #f0f8ff;}#sk-container-id-6 input.sk-toggleable__control:checked~div.sk-toggleable__content {max-height: 200px;max-width: 100%;overflow: auto;}#sk-container-id-6 input.sk-toggleable__control:checked~label.sk-toggleable__label-arrow:before {content: \"▾\";}#sk-container-id-6 div.sk-estimator input.sk-toggleable__control:checked~label.sk-toggleable__label {background-color: #d4ebff;}#sk-container-id-6 div.sk-label input.sk-toggleable__control:checked~label.sk-toggleable__label {background-color: #d4ebff;}#sk-container-id-6 input.sk-hidden--visually {border: 0;clip: rect(1px 1px 1px 1px);clip: rect(1px, 1px, 1px, 1px);height: 1px;margin: -1px;overflow: hidden;padding: 0;position: absolute;width: 1px;}#sk-container-id-6 div.sk-estimator {font-family: monospace;background-color: #f0f8ff;border: 1px dotted black;border-radius: 0.25em;box-sizing: border-box;margin-bottom: 0.5em;}#sk-container-id-6 div.sk-estimator:hover {background-color: #d4ebff;}#sk-container-id-6 div.sk-parallel-item::after {content: \"\";width: 100%;border-bottom: 1px solid gray;flex-grow: 1;}#sk-container-id-6 div.sk-label:hover label.sk-toggleable__label {background-color: #d4ebff;}#sk-container-id-6 div.sk-serial::before {content: \"\";position: absolute;border-left: 1px solid gray;box-sizing: border-box;top: 0;bottom: 0;left: 50%;z-index: 0;}#sk-container-id-6 div.sk-serial {display: flex;flex-direction: column;align-items: center;background-color: white;padding-right: 0.2em;padding-left: 0.2em;position: relative;}#sk-container-id-6 div.sk-item {position: relative;z-index: 1;}#sk-container-id-6 div.sk-parallel {display: flex;align-items: stretch;justify-content: center;background-color: white;position: relative;}#sk-container-id-6 div.sk-item::before, #sk-container-id-6 div.sk-parallel-item::before {content: \"\";position: absolute;border-left: 1px solid gray;box-sizing: border-box;top: 0;bottom: 0;left: 50%;z-index: -1;}#sk-container-id-6 div.sk-parallel-item {display: flex;flex-direction: column;z-index: 1;position: relative;background-color: white;}#sk-container-id-6 div.sk-parallel-item:first-child::after {align-self: flex-end;width: 50%;}#sk-container-id-6 div.sk-parallel-item:last-child::after {align-self: flex-start;width: 50%;}#sk-container-id-6 div.sk-parallel-item:only-child::after {width: 0;}#sk-container-id-6 div.sk-dashed-wrapped {border: 1px dashed gray;margin: 0 0.4em 0.5em 0.4em;box-sizing: border-box;padding-bottom: 0.4em;background-color: white;}#sk-container-id-6 div.sk-label label {font-family: monospace;font-weight: bold;display: inline-block;line-height: 1.2em;}#sk-container-id-6 div.sk-label-container {text-align: center;}#sk-container-id-6 div.sk-container {/* jupyter's `normalize.less` sets `[hidden] { display: none; }` but bootstrap.min.css set `[hidden] { display: none !important; }` so we also need the `!important` here to be able to override the default hidden behavior on the sphinx rendered scikit-learn.org. See: https://github.com/scikit-learn/scikit-learn/issues/21755 */display: inline-block !important;position: relative;}#sk-container-id-6 div.sk-text-repr-fallback {display: none;}</style><div id=\"sk-container-id-6\" class=\"sk-top-container\"><div class=\"sk-text-repr-fallback\"><pre>SVC(C=1000, gamma=0.01)</pre><b>In a Jupyter environment, please rerun this cell to show the HTML representation or trust the notebook. <br />On GitHub, the HTML representation is unable to render, please try loading this page with nbviewer.org.</b></div><div class=\"sk-container\" hidden><div class=\"sk-item\"><div class=\"sk-estimator sk-toggleable\"><input class=\"sk-toggleable__control sk-hidden--visually\" id=\"sk-estimator-id-10\" type=\"checkbox\" checked><label for=\"sk-estimator-id-10\" class=\"sk-toggleable__label sk-toggleable__label-arrow\">SVC</label><div class=\"sk-toggleable__content\"><pre>SVC(C=1000, gamma=0.01)</pre></div></div></div></div></div>"
      ],
      "text/plain": [
       "SVC(C=1000, gamma=0.01)"
      ]
     },
     "execution_count": 64,
     "metadata": {},
     "output_type": "execute_result"
    }
   ],
   "source": [
    "grid.best_estimator_"
   ]
  },
  {
   "cell_type": "code",
   "execution_count": 65,
   "metadata": {},
   "outputs": [
    {
     "name": "stdout",
     "output_type": "stream",
     "text": [
      "              precision    recall  f1-score   support\n",
      "\n",
      "           0       0.89      0.94      0.92     10036\n",
      "           1       0.94      0.89      0.91     10074\n",
      "\n",
      "    accuracy                           0.91     20110\n",
      "   macro avg       0.92      0.91      0.91     20110\n",
      "weighted avg       0.92      0.91      0.91     20110\n",
      "\n",
      "              precision    recall  f1-score   support\n",
      "\n",
      "           0       0.88      0.94      0.91      3371\n",
      "           1       0.94      0.87      0.90      3333\n",
      "\n",
      "    accuracy                           0.91      6704\n",
      "   macro avg       0.91      0.91      0.91      6704\n",
      "weighted avg       0.91      0.91      0.91      6704\n",
      "\n"
     ]
    }
   ],
   "source": [
    "ypred_train = grid.predict(x_train5)\n",
    "y_pred_test = grid.predict(x_test5)\n",
    "\n",
    "\n",
    "print(classification_report(y_train5,ypred_train))\n",
    "print(classification_report(y_test5,y_pred_test))"
   ]
  },
  {
   "cell_type": "code",
   "execution_count": 67,
   "metadata": {},
   "outputs": [
    {
     "name": "stdout",
     "output_type": "stream",
     "text": [
      "Training Results\n",
      "\n",
      "              precision    recall  f1-score   support\n",
      "\n",
      "           0       0.89      0.94      0.92     10036\n",
      "           1       0.94      0.89      0.91     10074\n",
      "\n",
      "    accuracy                           0.91     20110\n",
      "   macro avg       0.92      0.91      0.91     20110\n",
      "weighted avg       0.92      0.91      0.91     20110\n",
      "\n",
      "Testing Results\n",
      "\n",
      "              precision    recall  f1-score   support\n",
      "\n",
      "           0       0.88      0.94      0.91      3371\n",
      "           1       0.94      0.87      0.90      3333\n",
      "\n",
      "    accuracy                           0.91      6704\n",
      "   macro avg       0.91      0.91      0.91      6704\n",
      "weighted avg       0.91      0.91      0.91      6704\n",
      "\n"
     ]
    },
    {
     "data": {
      "image/png": "[encoded data removed]",
      "text/plain": [
       "<Figure size 640x480 with 1 Axes>"
      ]
     },
     "metadata": {},
     "output_type": "display_data"
    }
   ],
   "source": [
    "model3 = SVC(C=1000, gamma=0.01, kernel='rbf', probability=True)\n",
    "model3.fit(x_train5, y_train5)\n",
    "\n",
    "ypred_train14 = model3.predict(x_train5)\n",
    "y_pred_test14 = model3.predict(x_test5)\n",
    "\n",
    "print(\"Training Results\\n\")\n",
    "print(classification_report(y_train5, ypred_train14))\n",
    "print(\"Testing Results\\n\")\n",
    "print(classification_report(y_test5, y_pred_test14))\n",
    "\n",
    "# cross_val_scores = cross_val_score(model3, x_train5, y_train5, cv=5)\n",
    "# print(\"Cross-validation scores:\", cross_val_scores)\n",
    "# print(\"Average cross-validation score:\", np.mean(cross_val_scores))\n",
    "\n",
    "y_proba_test = model3.predict_proba(x_test5)[:, 1]\n",
    "fpr, tpr, thresholds = roc_curve(y_test5, y_proba_test)\n",
    "plt.plot(fpr, tpr, label='ROC Curve')\n",
    "plt.xlabel('False Positive Rate')\n",
    "plt.ylabel('True Positive Rate')\n",
    "plt.title('ROC Curve with AUC = {:.2f}'.format(roc_auc_score(y_test5, y_proba_test)))\n",
    "plt.legend(loc='lower right')\n",
    "plt.grid(True)\n",
    "plt.show()"
   ]
  }
 ],
 "metadata": {
  "kernelspec": {
   "display_name": "Python 3",
   "language": "python",
   "name": "python3"
  },
  "language_info": {
   "codemirror_mode": {
    "name": "ipython",
    "version": 3
   },
   "file_extension": ".py",
   "mimetype": "text/x-python",
   "name": "python",
   "nbconvert_exporter": "python",
   "pygments_lexer": "ipython3",
   "version": "0.0.0"
  }
 },
 "nbformat": 4,
 "nbformat_minor": 2
}
