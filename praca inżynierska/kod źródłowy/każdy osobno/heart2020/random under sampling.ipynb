{
 "cells": [
  {
   "cell_type": "code",
   "execution_count": 1,
   "metadata": {},
   "outputs": [
    {
     "name": "stdout",
     "output_type": "stream",
     "text": [
      "WARNING:tensorflow:From C:\\Users\\DELL\\AppData\\Roaming\\Python\\Python311\\site-packages\\keras\\src\\losses.py:2976: The name tf.losses.sparse_softmax_cross_entropy is deprecated. Please use tf.compat.v1.losses.sparse_softmax_cross_entropy instead.\n",
      "\n"
     ]
    }
   ],
   "source": [
    "import pandas as pd\n",
    "import numpy as np\n",
    "import matplotlib.pyplot as plt\n",
    "import plotly.express as px\n",
    "from sklearn.preprocessing import LabelEncoder\n",
    "from sklearn.preprocessing import RobustScaler , MinMaxScaler, StandardScaler\n",
    "import seaborn as sns\n",
    "from sklearn.metrics import roc_curve\n",
    "from sklearn.metrics import roc_auc_score\n",
    "import tensorflow as tf\n",
    "from keras.preprocessing.image import ImageDataGenerator\n",
    "from tensorflow.keras.layers import Dropout\n",
    "from tensorflow.keras.models import Sequential\n",
    "from tensorflow.keras.layers import Dense, Activation\n",
    "from tensorflow.keras.callbacks import EarlyStopping\n",
    "from tensorflow.keras.layers import Input,Flatten,Conv1D,MaxPooling1D\n",
    "from sklearn.metrics import classification_report\n",
    "import warnings\n",
    "warnings.filterwarnings('ignore')\n",
    "import missingno as msno\n",
    "from sklearn.model_selection import train_test_split\n",
    "from sklearn.metrics import accuracy_score\n",
    "from sklearn.metrics import mean_absolute_error , mean_absolute_percentage_error , mean_squared_error\n",
    "from sklearn.metrics import r2_score\n",
    "from sklearn.metrics import confusion_matrix\n",
    "from sklearn.model_selection import cross_val_score\n",
    "from sklearn.metrics import RocCurveDisplay\n",
    "from sklearn.model_selection import RepeatedStratifiedKFold\n",
    "from sklearn.metrics import accuracy_score, precision_score, recall_score, f1_score\n",
    "from sklearn.model_selection import GridSearchCV\n",
    "from sklearn.tree import DecisionTreeClassifier\n",
    "from sklearn.ensemble import RandomForestClassifier\n",
    "from sklearn.naive_bayes import GaussianNB\n",
    "from xgboost import XGBClassifier\n",
    "from sklearn.linear_model import LogisticRegression\n",
    "from sklearn.svm import SVC\n",
    "from sklearn.decomposition import PCA\n",
    "from sklearn.ensemble import GradientBoostingClassifier\n",
    "from sklearn.neighbors import KNeighborsClassifier\n",
    "from keras.layers import LSTM\n",
    "from imblearn.under_sampling import RandomUnderSampler\n",
    "from sklearn.preprocessing import MinMaxScaler\n"
   ]
  },
  {
   "cell_type": "markdown",
   "metadata": {},
   "source": [
    "## Random Under-Sampling With Evaluation"
   ]
  },
  {
   "cell_type": "code",
   "execution_count": 2,
   "metadata": {},
   "outputs": [
    {
     "data": {
      "text/html": [
       "<div>\n",
       "<style scoped>\n",
       "    .dataframe tbody tr th:only-of-type {\n",
       "        vertical-align: middle;\n",
       "    }\n",
       "\n",
       "    .dataframe tbody tr th {\n",
       "        vertical-align: top;\n",
       "    }\n",
       "\n",
       "    .dataframe thead th {\n",
       "        text-align: right;\n",
       "    }\n",
       "</style>\n",
       "<table border=\"1\" class=\"dataframe\">\n",
       "  <thead>\n",
       "    <tr style=\"text-align: right;\">\n",
       "      <th></th>\n",
       "      <th>HeartDisease</th>\n",
       "      <th>BMI</th>\n",
       "      <th>Smoking</th>\n",
       "      <th>AlcoholDrinking</th>\n",
       "      <th>Stroke</th>\n",
       "      <th>PhysicalHealth</th>\n",
       "      <th>MentalHealth</th>\n",
       "      <th>DiffWalking</th>\n",
       "      <th>Sex</th>\n",
       "      <th>AgeCategory</th>\n",
       "      <th>Race</th>\n",
       "      <th>Diabetic</th>\n",
       "      <th>PhysicalActivity</th>\n",
       "      <th>GenHealth</th>\n",
       "      <th>SleepTime</th>\n",
       "      <th>Asthma</th>\n",
       "      <th>KidneyDisease</th>\n",
       "      <th>SkinCancer</th>\n",
       "    </tr>\n",
       "  </thead>\n",
       "  <tbody>\n",
       "    <tr>\n",
       "      <th>0</th>\n",
       "      <td>0</td>\n",
       "      <td>16.60</td>\n",
       "      <td>1</td>\n",
       "      <td>0</td>\n",
       "      <td>0</td>\n",
       "      <td>3</td>\n",
       "      <td>30</td>\n",
       "      <td>0</td>\n",
       "      <td>0</td>\n",
       "      <td>8</td>\n",
       "      <td>4</td>\n",
       "      <td>2</td>\n",
       "      <td>1</td>\n",
       "      <td>2</td>\n",
       "      <td>5</td>\n",
       "      <td>1</td>\n",
       "      <td>0</td>\n",
       "      <td>1</td>\n",
       "    </tr>\n",
       "    <tr>\n",
       "      <th>1</th>\n",
       "      <td>0</td>\n",
       "      <td>20.34</td>\n",
       "      <td>0</td>\n",
       "      <td>0</td>\n",
       "      <td>1</td>\n",
       "      <td>0</td>\n",
       "      <td>0</td>\n",
       "      <td>0</td>\n",
       "      <td>0</td>\n",
       "      <td>13</td>\n",
       "      <td>4</td>\n",
       "      <td>0</td>\n",
       "      <td>1</td>\n",
       "      <td>2</td>\n",
       "      <td>7</td>\n",
       "      <td>0</td>\n",
       "      <td>0</td>\n",
       "      <td>0</td>\n",
       "    </tr>\n",
       "    <tr>\n",
       "      <th>2</th>\n",
       "      <td>0</td>\n",
       "      <td>26.58</td>\n",
       "      <td>1</td>\n",
       "      <td>0</td>\n",
       "      <td>0</td>\n",
       "      <td>20</td>\n",
       "      <td>30</td>\n",
       "      <td>0</td>\n",
       "      <td>1</td>\n",
       "      <td>10</td>\n",
       "      <td>4</td>\n",
       "      <td>2</td>\n",
       "      <td>1</td>\n",
       "      <td>4</td>\n",
       "      <td>8</td>\n",
       "      <td>1</td>\n",
       "      <td>0</td>\n",
       "      <td>0</td>\n",
       "    </tr>\n",
       "    <tr>\n",
       "      <th>3</th>\n",
       "      <td>0</td>\n",
       "      <td>24.21</td>\n",
       "      <td>0</td>\n",
       "      <td>0</td>\n",
       "      <td>0</td>\n",
       "      <td>0</td>\n",
       "      <td>0</td>\n",
       "      <td>0</td>\n",
       "      <td>0</td>\n",
       "      <td>12</td>\n",
       "      <td>4</td>\n",
       "      <td>0</td>\n",
       "      <td>0</td>\n",
       "      <td>3</td>\n",
       "      <td>6</td>\n",
       "      <td>0</td>\n",
       "      <td>0</td>\n",
       "      <td>1</td>\n",
       "    </tr>\n",
       "    <tr>\n",
       "      <th>4</th>\n",
       "      <td>0</td>\n",
       "      <td>23.71</td>\n",
       "      <td>0</td>\n",
       "      <td>0</td>\n",
       "      <td>0</td>\n",
       "      <td>28</td>\n",
       "      <td>0</td>\n",
       "      <td>1</td>\n",
       "      <td>0</td>\n",
       "      <td>5</td>\n",
       "      <td>4</td>\n",
       "      <td>0</td>\n",
       "      <td>1</td>\n",
       "      <td>2</td>\n",
       "      <td>8</td>\n",
       "      <td>0</td>\n",
       "      <td>0</td>\n",
       "      <td>0</td>\n",
       "    </tr>\n",
       "  </tbody>\n",
       "</table>\n",
       "</div>"
      ],
      "text/plain": [
       "   HeartDisease    BMI  Smoking  AlcoholDrinking  Stroke  PhysicalHealth  \\\n",
       "0             0  16.60        1                0       0               3   \n",
       "1             0  20.34        0                0       1               0   \n",
       "2             0  26.58        1                0       0              20   \n",
       "3             0  24.21        0                0       0               0   \n",
       "4             0  23.71        0                0       0              28   \n",
       "\n",
       "   MentalHealth  DiffWalking  Sex  AgeCategory  Race  Diabetic  \\\n",
       "0            30            0    0            8     4         2   \n",
       "1             0            0    0           13     4         0   \n",
       "2            30            0    1           10     4         2   \n",
       "3             0            0    0           12     4         0   \n",
       "4             0            1    0            5     4         0   \n",
       "\n",
       "   PhysicalActivity  GenHealth  SleepTime  Asthma  KidneyDisease  SkinCancer  \n",
       "0                 1          2          5       1              0           1  \n",
       "1                 1          2          7       0              0           0  \n",
       "2                 1          4          8       1              0           0  \n",
       "3                 0          3          6       0              0           1  \n",
       "4                 1          2          8       0              0           0  "
      ]
     },
     "execution_count": 2,
     "metadata": {},
     "output_type": "execute_result"
    }
   ],
   "source": [
    "df= pd.read_csv('heart2020python.csv')\n",
    "df.head()"
   ]
  },
  {
   "cell_type": "code",
   "execution_count": 3,
   "metadata": {},
   "outputs": [
    {
     "data": {
      "text/plain": [
       "HeartDisease\n",
       "0    292422\n",
       "1     27373\n",
       "Name: count, dtype: int64"
      ]
     },
     "execution_count": 3,
     "metadata": {},
     "output_type": "execute_result"
    }
   ],
   "source": [
    "df.drop(['DiffWalking',\"SleepTime\"],axis=1,inplace=True)\n",
    "df.shape\n",
    "df['HeartDisease'].value_counts()\n"
   ]
  },
  {
   "cell_type": "code",
   "execution_count": 4,
   "metadata": {},
   "outputs": [],
   "source": [
    "df.duplicated().sum()\n",
    "df.drop_duplicates(inplace=True)"
   ]
  },
  {
   "cell_type": "markdown",
   "metadata": {},
   "source": [
    "## splite data"
   ]
  },
  {
   "cell_type": "code",
   "execution_count": 5,
   "metadata": {},
   "outputs": [],
   "source": [
    "from sklearn.model_selection import train_test_split"
   ]
  },
  {
   "cell_type": "code",
   "execution_count": 6,
   "metadata": {},
   "outputs": [],
   "source": [
    "x = df.drop([\"HeartDisease\"] , axis = 1).values\n",
    "y = df[\"HeartDisease\"].values"
   ]
  },
  {
   "cell_type": "code",
   "execution_count": 7,
   "metadata": {},
   "outputs": [],
   "source": [
    "rus = RandomUnderSampler(random_state=42)\n",
    "x_rus, y_rus = rus.fit_resample(x, y)\n",
    "x_train4, x_test4, y_train4, y_test4 = train_test_split(x_rus, y_rus, test_size=0.25, random_state=42)"
   ]
  },
  {
   "cell_type": "code",
   "execution_count": 8,
   "metadata": {},
   "outputs": [
    {
     "name": "stdout",
     "output_type": "stream",
     "text": [
      "40407 40407\n",
      "13469 13469\n"
     ]
    }
   ],
   "source": [
    "from sklearn.preprocessing import MinMaxScaler\n",
    "scaler = MinMaxScaler()\n",
    "x_train4 = scaler.fit_transform(x_train4)\n",
    "x_test4 = scaler.transform(x_test4)\n",
    "print(len(x_train4), len(y_train4))\n",
    "print(len(x_test4), len(y_test4))"
   ]
  },
  {
   "cell_type": "markdown",
   "metadata": {},
   "source": [
    "## Random forest"
   ]
  },
  {
   "cell_type": "code",
   "execution_count": 9,
   "metadata": {},
   "outputs": [
    {
     "name": "stdout",
     "output_type": "stream",
     "text": [
      "Najlepsze parametry:  {'max_depth': 10, 'max_features': 'sqrt', 'min_samples_leaf': 4, 'min_samples_split': 4, 'n_estimators': 300}\n",
      "Training Results\n",
      "\n",
      "              precision    recall  f1-score   support\n",
      "\n",
      "           0       0.80      0.72      0.76     20189\n",
      "           1       0.74      0.83      0.78     20218\n",
      "\n",
      "    accuracy                           0.77     40407\n",
      "   macro avg       0.77      0.77      0.77     40407\n",
      "weighted avg       0.77      0.77      0.77     40407\n",
      "\n",
      "Testing Results\n",
      "\n",
      "              precision    recall  f1-score   support\n",
      "\n",
      "           0       0.78      0.69      0.74      6749\n",
      "           1       0.72      0.81      0.76      6720\n",
      "\n",
      "    accuracy                           0.75     13469\n",
      "   macro avg       0.75      0.75      0.75     13469\n",
      "weighted avg       0.75      0.75      0.75     13469\n",
      "\n",
      "Cross-validation scores: [0.75897055 0.76169265 0.75262963 0.75399084 0.75522831]\n",
      "Average cross-validation score: 0.7565023966538256\n"
     ]
    }
   ],
   "source": [
    "\n",
    "\n",
    "# Inicjalizacja modelu z domyślnymi parametrami\n",
    "rf = RandomForestClassifier()\n",
    "\n",
    "# Określenie siatki parametrów do przetestowania\n",
    "param_grid = {\n",
    "    'n_estimators': [100, 200, 300],  # Liczba drzew\n",
    "    'max_depth': [10, 20, 30],        # Maksymalna głębokość drzewa\n",
    "    'min_samples_split': [2, 4, 6],   # Minimalna liczba próbek wymagana do podziału węzła\n",
    "    'min_samples_leaf': [1, 2, 4],    # Minimalna liczba próbek wymagana w liściu\n",
    "    'max_features': ['auto', 'sqrt']  # Liczba cech do rozważenia przy każdym podziale\n",
    "}\n",
    "\n",
    "# Utworzenie obiektu GridSearchCV\n",
    "cv_rf = GridSearchCV(estimator=rf, param_grid=param_grid, cv=5, scoring='accuracy')\n",
    "\n",
    "# Przeszukiwanie siatki parametrów\n",
    "cv_rf.fit(x_train4, y_train4)\n",
    "\n",
    "# Najlepszy zestaw parametrów\n",
    "print(\"Najlepsze parametry: \", cv_rf.best_params_)\n",
    "\n",
    "# Najlepszy estimator\n",
    "best_rf = cv_rf.best_estimator_\n",
    "\n",
    "# Predykcje i ocena modelu\n",
    "ypred_train = best_rf.predict(x_train4)\n",
    "ypred_test = best_rf.predict(x_test4)\n",
    "\n",
    "print(\"Training Results\\n\")\n",
    "print(classification_report(y_train4, ypred_train))\n",
    "print(\"Testing Results\\n\")\n",
    "print(classification_report(y_test4, ypred_test))\n",
    "\n",
    "\n",
    "# Ocena modelu za pomocą walidacji krzyżowej\n",
    "cross_val_scores = cross_val_score(best_rf, x_train4, y_train4, cv=5)\n",
    "print(\"Cross-validation scores:\", cross_val_scores)\n",
    "print(\"Average cross-validation score:\", np.mean(cross_val_scores))"
   ]
  },
  {
   "cell_type": "code",
   "execution_count": 10,
   "metadata": {},
   "outputs": [
    {
     "data": {
      "image/png": "[encoded data removed]",
      "text/plain": [
       "<Figure size 640x480 with 1 Axes>"
      ]
     },
     "metadata": {},
     "output_type": "display_data"
    }
   ],
   "source": [
    "\n",
    "y_proba_test = best_rf.predict_proba(x_test4)[:, 1]\n",
    "\n",
    "fpr, tpr, thresholds = roc_curve(y_test4, y_proba_test)\n",
    "\n",
    "\n",
    "plt.plot(fpr, tpr, label='ROC Curve')\n",
    "plt.xlabel('False Positive Rate')\n",
    "plt.ylabel('True Positive Rate')\n",
    "plt.title('ROC Curve with AUC = {:.2f}'.format(roc_auc_score(y_test4, y_proba_test)))\n",
    "plt.legend(loc='lower right')\n",
    "plt.grid(True)\n",
    "plt.show()"
   ]
  },
  {
   "cell_type": "markdown",
   "metadata": {},
   "source": [
    "## DECISION TREE CLASSIFIER"
   ]
  },
  {
   "cell_type": "code",
   "execution_count": 11,
   "metadata": {},
   "outputs": [
    {
     "name": "stdout",
     "output_type": "stream",
     "text": [
      "Najlepsze parametry: {'criterion': 'gini', 'max_depth': 10, 'min_samples_leaf': 5, 'min_samples_split': 5}\n",
      "Najlepsza dokładność: 0.7425197596434591\n",
      "Training Results\n",
      "\n",
      "              precision    recall  f1-score   support\n",
      "\n",
      "           0       0.80      0.73      0.76     20189\n",
      "           1       0.75      0.81      0.78     20218\n",
      "\n",
      "    accuracy                           0.77     40407\n",
      "   macro avg       0.78      0.77      0.77     40407\n",
      "weighted avg       0.78      0.77      0.77     40407\n",
      "\n",
      "Testing Results\n",
      "\n",
      "              precision    recall  f1-score   support\n",
      "\n",
      "           0       0.76      0.69      0.72      6749\n",
      "           1       0.72      0.78      0.75      6720\n",
      "\n",
      "    accuracy                           0.74     13469\n",
      "   macro avg       0.74      0.74      0.74     13469\n",
      "weighted avg       0.74      0.74      0.74     13469\n",
      "\n",
      "Cross-Validation Scores for the Best Model: [0.74251423 0.74659738 0.73926494 0.74013117 0.7431011 ]\n",
      "Average Cross-Validation Score: 0.7423217643458473\n"
     ]
    }
   ],
   "source": [
    "\n",
    "# Parametry do przetestowania w Grid Search\n",
    "param_grid = {\n",
    "    'max_depth': [3, 5, 10, None],\n",
    "    'min_samples_split': [2, 5, 10],\n",
    "    'min_samples_leaf': [1, 2, 5],\n",
    "    'criterion': ['gini', 'entropy']\n",
    "}\n",
    "\n",
    "# Utworzenie modelu drzewa decyzyjnego\n",
    "tree = DecisionTreeClassifier()\n",
    "\n",
    "# Uruchomienie Grid Search z walidacją krzyżową\n",
    "grid_search = GridSearchCV(tree, param_grid, cv=5, scoring='accuracy')\n",
    "grid_search.fit(x_train4, y_train4)\n",
    "\n",
    "# Wyświetlenie najlepszych parametrów i wyników\n",
    "print(\"Najlepsze parametry:\", grid_search.best_params_)\n",
    "print(\"Najlepsza dokładność:\", grid_search.best_score_)\n",
    "\n",
    "# Utworzenie i ocena modelu z najlepszymi parametrami\n",
    "best_tree = grid_search.best_estimator_\n",
    "best_tree.fit(x_train4, y_train4)\n",
    "\n",
    "ypred_train2 = best_tree.predict(x_train4)\n",
    "ypred_test2 = best_tree.predict(x_test4)\n",
    "\n",
    "# Ocena modelu na zbiorze testowym\n",
    "\n",
    "print(\"Training Results\\n\")\n",
    "print(classification_report(y_train4, ypred_train2))\n",
    "print('Testing Results\\n')\n",
    "print(classification_report(y_test4, ypred_test2))\n",
    "\n",
    "# Dodatkowo: Walidacja krzyżowa dla najlepszego modelu na całym zbiorze danych\n",
    "cross_val_scores = cross_val_score(best_tree, x_train4, y_train4, cv=5)\n",
    "print(\"Cross-Validation Scores for the Best Model:\", cross_val_scores)\n",
    "print(\"Average Cross-Validation Score:\", cross_val_scores.mean())"
   ]
  },
  {
   "cell_type": "code",
   "execution_count": 12,
   "metadata": {},
   "outputs": [
    {
     "data": {
      "image/png": "[encoded data removed]",
      "text/plain": [
       "<Figure size 640x480 with 1 Axes>"
      ]
     },
     "metadata": {},
     "output_type": "display_data"
    }
   ],
   "source": [
    "\n",
    "y_proba_test = best_tree.predict_proba(x_test4)[:, 1]\n",
    "\n",
    "\n",
    "fpr, tpr, thresholds = roc_curve(y_test4, y_proba_test)\n",
    "\n",
    "\n",
    "plt.plot(fpr, tpr, label='ROC Curve')\n",
    "plt.xlabel('False Positive Rate')\n",
    "plt.ylabel('True Positive Rate')\n",
    "plt.title('ROC Curve with AUC = {:.2f}'.format(roc_auc_score(y_test4, y_proba_test)))\n",
    "plt.legend(loc='lower right')\n",
    "plt.grid(True)\n",
    "plt.show()"
   ]
  },
  {
   "cell_type": "markdown",
   "metadata": {},
   "source": [
    "## Naive Bayes"
   ]
  },
  {
   "cell_type": "code",
   "execution_count": 13,
   "metadata": {},
   "outputs": [
    {
     "name": "stdout",
     "output_type": "stream",
     "text": [
      "Naive Bayes Classifier Accuracy:  0.6983443462766352\n"
     ]
    }
   ],
   "source": [
    "Gnb = GaussianNB()\n",
    "Gnb.fit(x_train4, y_train4)\n",
    "ypred_train3 = Gnb.predict(x_train4)\n",
    "y_pred_test3 = Gnb.predict(x_test4)\n",
    "\n",
    "print(\"Naive Bayes Classifier Accuracy: \",accuracy_score(y_test4, y_pred_test3))"
   ]
  },
  {
   "cell_type": "code",
   "execution_count": 14,
   "metadata": {},
   "outputs": [
    {
     "name": "stdout",
     "output_type": "stream",
     "text": [
      "Training Results\n",
      "\n",
      "              precision    recall  f1-score   support\n",
      "\n",
      "           0       0.67      0.81      0.73     20189\n",
      "           1       0.76      0.60      0.67     20218\n",
      "\n",
      "    accuracy                           0.70     40407\n",
      "   macro avg       0.71      0.70      0.70     40407\n",
      "weighted avg       0.71      0.70      0.70     40407\n",
      "\n",
      "Testing Results\n",
      "\n",
      "              precision    recall  f1-score   support\n",
      "\n",
      "           0       0.67      0.80      0.73      6749\n",
      "           1       0.75      0.60      0.66      6720\n",
      "\n",
      "    accuracy                           0.70     13469\n",
      "   macro avg       0.71      0.70      0.70     13469\n",
      "weighted avg       0.71      0.70      0.70     13469\n",
      "\n"
     ]
    }
   ],
   "source": [
    "print(\"Training Results\\n\")\n",
    "print(classification_report(y_train4, ypred_train3))\n",
    "print('Testing Results\\n')\n",
    "print(classification_report(y_test4, y_pred_test3))"
   ]
  },
  {
   "cell_type": "code",
   "execution_count": 15,
   "metadata": {},
   "outputs": [
    {
     "name": "stdout",
     "output_type": "stream",
     "text": [
      "Cross-validation scores: [0.69611482 0.70390992 0.70300705 0.70251207 0.70115085]\n",
      "Average cross-validation score: 0.7013389425876414\n"
     ]
    },
    {
     "data": {
      "image/png": "[encoded data removed]",
      "text/plain": [
       "<Figure size 640x480 with 1 Axes>"
      ]
     },
     "metadata": {},
     "output_type": "display_data"
    }
   ],
   "source": [
    "cross_val_scores = cross_val_score(Gnb, x_train4, y_train4, cv=5)\n",
    "print(\"Cross-validation scores:\", cross_val_scores)\n",
    "print(\"Average cross-validation score:\", np.mean(cross_val_scores))\n",
    "y_proba_test = Gnb.predict_proba(x_test4)[:, 1]\n",
    "\n",
    "\n",
    "fpr, tpr, thresholds = roc_curve(y_test4, y_proba_test)\n",
    "\n",
    "\n",
    "plt.plot(fpr, tpr, label='ROC Curve')\n",
    "plt.xlabel('False Positive Rate')\n",
    "plt.ylabel('True Positive Rate')\n",
    "plt.title('ROC Curve with AUC = {:.2f}'.format(roc_auc_score(y_test4, y_proba_test)))\n",
    "plt.legend(loc='lower right')\n",
    "plt.grid(True)\n",
    "plt.show()"
   ]
  },
  {
   "cell_type": "markdown",
   "metadata": {},
   "source": [
    "## XGBOSST\n"
   ]
  },
  {
   "cell_type": "code",
   "execution_count": 16,
   "metadata": {},
   "outputs": [
    {
     "name": "stdout",
     "output_type": "stream",
     "text": [
      "Najlepsze parametry:  {'colsample_bytree': 0.7, 'learning_rate': 0.1, 'max_depth': 3, 'n_estimators': 200, 'subsample': 0.8}\n",
      "Accuracy on Training set:  0.7627886257331651\n",
      "Accuracy on Test set:  0.7555126586977504\n",
      "\n",
      "Training Results\n",
      "\n",
      "              precision    recall  f1-score   support\n",
      "\n",
      "           0       0.79      0.72      0.75     20189\n",
      "           1       0.74      0.80      0.77     20218\n",
      "\n",
      "    accuracy                           0.76     40407\n",
      "   macro avg       0.76      0.76      0.76     40407\n",
      "weighted avg       0.76      0.76      0.76     40407\n",
      "\n",
      "Testing Results\n",
      "\n",
      "              precision    recall  f1-score   support\n",
      "\n",
      "           0       0.78      0.71      0.74      6749\n",
      "           1       0.73      0.80      0.77      6720\n",
      "\n",
      "    accuracy                           0.76     13469\n",
      "   macro avg       0.76      0.76      0.76     13469\n",
      "weighted avg       0.76      0.76      0.76     13469\n",
      "\n"
     ]
    },
    {
     "data": {
      "image/png": "[encoded data removed]",
      "text/plain": [
       "<Figure size 640x480 with 1 Axes>"
      ]
     },
     "metadata": {},
     "output_type": "display_data"
    }
   ],
   "source": [
    "# Inicjalizacja modelu XGBoost\n",
    "xg = XGBClassifier()\n",
    "\n",
    "# Definiowanie siatki hiperparametrów do przetestowania\n",
    "param_grid = {\n",
    "    'n_estimators': [50, 100, 200],\n",
    "    'max_depth': [3, 5, 7],\n",
    "    'learning_rate': [0.01, 0.1, 0.2],\n",
    "    'subsample': [0.7, 0.8, 0.9],\n",
    "    'colsample_bytree': [0.7, 0.8, 0.9]\n",
    "}\n",
    "\n",
    "# Utworzenie obiektu GridSearchCV\n",
    "grid_search = GridSearchCV(estimator=xg, param_grid=param_grid, cv=3, scoring='accuracy')\n",
    "\n",
    "# Przeszukiwanie siatki parametrów\n",
    "grid_search.fit(x_train4, y_train4)\n",
    "\n",
    "# Najlepsze parametry i najlepszy model\n",
    "print(\"Najlepsze parametry: \", grid_search.best_params_)\n",
    "best_xg = grid_search.best_estimator_\n",
    "\n",
    "# Predykcje na zbiorze treningowym i testowym\n",
    "ypred_train4 = best_xg.predict(x_train4)\n",
    "y_pred_test4 = best_xg.predict(x_test4)\n",
    "\n",
    "# Ocena modelu\n",
    "print(\"Accuracy on Training set: \", accuracy_score(y_train4, ypred_train4))\n",
    "print(\"Accuracy on Test set: \", accuracy_score(y_test4, y_pred_test4))\n",
    "print(\"\\nTraining Results\\n\")\n",
    "print(classification_report(y_train4, ypred_train4))\n",
    "print('Testing Results\\n')\n",
    "print(classification_report(y_test4, y_pred_test4))\n",
    "\n",
    "# cross_val_scores = cross_val_score(best_xg, x_train4, y_train4, cv=5)\n",
    "# print(\"Cross-validation scores:\", cross_val_scores)\n",
    "# print(\"Average cross-validation score:\", np.mean(cross_val_scores))\n",
    "\n",
    "# Krzywa ROC\n",
    "y_proba_test4 = best_xg.predict_proba(x_test4)[:, 1]\n",
    "fpr, tpr, thresholds = roc_curve(y_test4, y_proba_test4)\n",
    "plt.plot(fpr, tpr)\n",
    "plt.title(\"ROC Curve with AUC = {:.2f}\".format(roc_auc_score(y_test4, y_proba_test4)))\n",
    "plt.show()"
   ]
  },
  {
   "cell_type": "markdown",
   "metadata": {},
   "source": [
    "## logistic regression"
   ]
  },
  {
   "cell_type": "code",
   "execution_count": 17,
   "metadata": {},
   "outputs": [
    {
     "name": "stdout",
     "output_type": "stream",
     "text": [
      "Najlepsze parametry:  {'C': 10, 'penalty': 'l2', 'solver': 'liblinear'}\n",
      "Accuracy on Training set:  0.7540277674660331\n",
      "Accuracy on Test set:  0.7512807186873561\n",
      "\n",
      "Training Results\n",
      "\n",
      "              precision    recall  f1-score   support\n",
      "\n",
      "           0       0.77      0.73      0.75     20189\n",
      "           1       0.74      0.78      0.76     20218\n",
      "\n",
      "    accuracy                           0.75     40407\n",
      "   macro avg       0.75      0.75      0.75     40407\n",
      "weighted avg       0.75      0.75      0.75     40407\n",
      "\n",
      "Testing Results\n",
      "\n",
      "              precision    recall  f1-score   support\n",
      "\n",
      "           0       0.77      0.73      0.75      6749\n",
      "           1       0.74      0.78      0.76      6720\n",
      "\n",
      "    accuracy                           0.75     13469\n",
      "   macro avg       0.75      0.75      0.75     13469\n",
      "weighted avg       0.75      0.75      0.75     13469\n",
      "\n"
     ]
    },
    {
     "data": {
      "image/png": "[encoded data removed]",
      "text/plain": [
       "<Figure size 640x480 with 1 Axes>"
      ]
     },
     "metadata": {},
     "output_type": "display_data"
    }
   ],
   "source": [
    "# Inicjalizacja modelu regresji logistycznej\n",
    "lg = LogisticRegression()\n",
    "\n",
    "# Definiowanie siatki hiperparametrów do przetestowania\n",
    "param_grid = {\n",
    "    'C': [0.01, 0.1, 1, 10, 100],  # Parametr regularyzacji\n",
    "    'penalty': ['l1', 'l2'],       # Typ regularyzacji\n",
    "    'solver': ['liblinear']        # Algorytm optymalizacji (liblinear jest dobrym wyborem dla małych zbiorów danych)\n",
    "}\n",
    "\n",
    "# Utworzenie obiektu GridSearchCV\n",
    "grid_search = GridSearchCV(estimator=lg, param_grid=param_grid, cv=5, scoring='accuracy')\n",
    "\n",
    "# Przeszukiwanie siatki parametrów\n",
    "grid_search.fit(x_train4, y_train4)\n",
    "\n",
    "# Najlepsze parametry i najlepszy model\n",
    "print(\"Najlepsze parametry: \", grid_search.best_params_)\n",
    "best_lg = grid_search.best_estimator_\n",
    "\n",
    "# Predykcje na zbiorze treningowym i testowym\n",
    "ypred_train4 = best_lg.predict(x_train4)\n",
    "y_pred_test4 = best_lg.predict(x_test4)\n",
    "\n",
    "# Ocena modelu\n",
    "print(\"Accuracy on Training set: \", accuracy_score(y_train4, ypred_train4))\n",
    "print(\"Accuracy on Test set: \", accuracy_score(y_test4, y_pred_test4))\n",
    "print(\"\\nTraining Results\\n\")\n",
    "print(classification_report(y_train4, ypred_train4))\n",
    "print('Testing Results\\n')\n",
    "print(classification_report(y_test4, y_pred_test4))\n",
    "\n",
    "# cross_val_scores = cross_val_score(best_lg, x_train4, y_train4, cv=5)\n",
    "# print(\"Cross-validation scores:\", cross_val_scores)\n",
    "# print(\"Average cross-validation score:\", np.mean(cross_val_scores))\n",
    "\n",
    "# Krzywa ROC\n",
    "y_proba_test4 = best_lg.predict_proba(x_test4)[:, 1]\n",
    "fpr, tpr, thresholds = roc_curve(y_test4, y_proba_test4)\n",
    "plt.plot(fpr, tpr)\n",
    "plt.title(\"ROC Curve with AUC = {:.2f}\".format(roc_auc_score(y_test4, y_proba_test4)))\n",
    "plt.show()"
   ]
  },
  {
   "cell_type": "markdown",
   "metadata": {},
   "source": [
    "## GradientBoostingClassifier"
   ]
  },
  {
   "cell_type": "code",
   "execution_count": 18,
   "metadata": {},
   "outputs": [
    {
     "ename": "KeyboardInterrupt",
     "evalue": "",
     "output_type": "error",
     "traceback": [
      "\u001b[1;31m---------------------------------------------------------------------------\u001b[0m",
      "\u001b[1;31mKeyboardInterrupt\u001b[0m                         Traceback (most recent call last)",
      "Cell \u001b[1;32mIn[18], line 17\u001b[0m\n\u001b[0;32m     14\u001b[0m grid_search \u001b[38;5;241m=\u001b[39m GridSearchCV(estimator\u001b[38;5;241m=\u001b[39mgb, param_grid\u001b[38;5;241m=\u001b[39mparam_grid, cv\u001b[38;5;241m=\u001b[39m\u001b[38;5;241m5\u001b[39m, scoring\u001b[38;5;241m=\u001b[39m\u001b[38;5;124m'\u001b[39m\u001b[38;5;124maccuracy\u001b[39m\u001b[38;5;124m'\u001b[39m)\n\u001b[0;32m     16\u001b[0m \u001b[38;5;66;03m# Przeszukiwanie siatki parametrów\u001b[39;00m\n\u001b[1;32m---> 17\u001b[0m grid_search\u001b[38;5;241m.\u001b[39mfit(x_train4, y_train4)\n\u001b[0;32m     19\u001b[0m \u001b[38;5;66;03m# Najlepsze parametry i najlepszy model\u001b[39;00m\n\u001b[0;32m     20\u001b[0m \u001b[38;5;28mprint\u001b[39m(\u001b[38;5;124m\"\u001b[39m\u001b[38;5;124mNajlepsze parametry: \u001b[39m\u001b[38;5;124m\"\u001b[39m, grid_search\u001b[38;5;241m.\u001b[39mbest_params_)\n",
      "File \u001b[1;32m~\\AppData\\Roaming\\Python\\Python311\\site-packages\\sklearn\\base.py:1152\u001b[0m, in \u001b[0;36m_fit_context.<locals>.decorator.<locals>.wrapper\u001b[1;34m(estimator, *args, **kwargs)\u001b[0m\n\u001b[0;32m   1145\u001b[0m     estimator\u001b[38;5;241m.\u001b[39m_validate_params()\n\u001b[0;32m   1147\u001b[0m \u001b[38;5;28;01mwith\u001b[39;00m config_context(\n\u001b[0;32m   1148\u001b[0m     skip_parameter_validation\u001b[38;5;241m=\u001b[39m(\n\u001b[0;32m   1149\u001b[0m         prefer_skip_nested_validation \u001b[38;5;129;01mor\u001b[39;00m global_skip_validation\n\u001b[0;32m   1150\u001b[0m     )\n\u001b[0;32m   1151\u001b[0m ):\n\u001b[1;32m-> 1152\u001b[0m     \u001b[38;5;28;01mreturn\u001b[39;00m fit_method(estimator, \u001b[38;5;241m*\u001b[39margs, \u001b[38;5;241m*\u001b[39m\u001b[38;5;241m*\u001b[39mkwargs)\n",
      "File \u001b[1;32m~\\AppData\\Roaming\\Python\\Python311\\site-packages\\sklearn\\model_selection\\_search.py:898\u001b[0m, in \u001b[0;36mBaseSearchCV.fit\u001b[1;34m(self, X, y, groups, **fit_params)\u001b[0m\n\u001b[0;32m    892\u001b[0m     results \u001b[38;5;241m=\u001b[39m \u001b[38;5;28mself\u001b[39m\u001b[38;5;241m.\u001b[39m_format_results(\n\u001b[0;32m    893\u001b[0m         all_candidate_params, n_splits, all_out, all_more_results\n\u001b[0;32m    894\u001b[0m     )\n\u001b[0;32m    896\u001b[0m     \u001b[38;5;28;01mreturn\u001b[39;00m results\n\u001b[1;32m--> 898\u001b[0m \u001b[38;5;28mself\u001b[39m\u001b[38;5;241m.\u001b[39m_run_search(evaluate_candidates)\n\u001b[0;32m    900\u001b[0m \u001b[38;5;66;03m# multimetric is determined here because in the case of a callable\u001b[39;00m\n\u001b[0;32m    901\u001b[0m \u001b[38;5;66;03m# self.scoring the return type is only known after calling\u001b[39;00m\n\u001b[0;32m    902\u001b[0m first_test_score \u001b[38;5;241m=\u001b[39m all_out[\u001b[38;5;241m0\u001b[39m][\u001b[38;5;124m\"\u001b[39m\u001b[38;5;124mtest_scores\u001b[39m\u001b[38;5;124m\"\u001b[39m]\n",
      "File \u001b[1;32m~\\AppData\\Roaming\\Python\\Python311\\site-packages\\sklearn\\model_selection\\_search.py:1422\u001b[0m, in \u001b[0;36mGridSearchCV._run_search\u001b[1;34m(self, evaluate_candidates)\u001b[0m\n\u001b[0;32m   1420\u001b[0m \u001b[38;5;28;01mdef\u001b[39;00m \u001b[38;5;21m_run_search\u001b[39m(\u001b[38;5;28mself\u001b[39m, evaluate_candidates):\n\u001b[0;32m   1421\u001b[0m \u001b[38;5;250m    \u001b[39m\u001b[38;5;124;03m\"\"\"Search all candidates in param_grid\"\"\"\u001b[39;00m\n\u001b[1;32m-> 1422\u001b[0m     evaluate_candidates(ParameterGrid(\u001b[38;5;28mself\u001b[39m\u001b[38;5;241m.\u001b[39mparam_grid))\n",
      "File \u001b[1;32m~\\AppData\\Roaming\\Python\\Python311\\site-packages\\sklearn\\model_selection\\_search.py:845\u001b[0m, in \u001b[0;36mBaseSearchCV.fit.<locals>.evaluate_candidates\u001b[1;34m(candidate_params, cv, more_results)\u001b[0m\n\u001b[0;32m    837\u001b[0m \u001b[38;5;28;01mif\u001b[39;00m \u001b[38;5;28mself\u001b[39m\u001b[38;5;241m.\u001b[39mverbose \u001b[38;5;241m>\u001b[39m \u001b[38;5;241m0\u001b[39m:\n\u001b[0;32m    838\u001b[0m     \u001b[38;5;28mprint\u001b[39m(\n\u001b[0;32m    839\u001b[0m         \u001b[38;5;124m\"\u001b[39m\u001b[38;5;124mFitting \u001b[39m\u001b[38;5;132;01m{0}\u001b[39;00m\u001b[38;5;124m folds for each of \u001b[39m\u001b[38;5;132;01m{1}\u001b[39;00m\u001b[38;5;124m candidates,\u001b[39m\u001b[38;5;124m\"\u001b[39m\n\u001b[0;32m    840\u001b[0m         \u001b[38;5;124m\"\u001b[39m\u001b[38;5;124m totalling \u001b[39m\u001b[38;5;132;01m{2}\u001b[39;00m\u001b[38;5;124m fits\u001b[39m\u001b[38;5;124m\"\u001b[39m\u001b[38;5;241m.\u001b[39mformat(\n\u001b[0;32m    841\u001b[0m             n_splits, n_candidates, n_candidates \u001b[38;5;241m*\u001b[39m n_splits\n\u001b[0;32m    842\u001b[0m         )\n\u001b[0;32m    843\u001b[0m     )\n\u001b[1;32m--> 845\u001b[0m out \u001b[38;5;241m=\u001b[39m parallel(\n\u001b[0;32m    846\u001b[0m     delayed(_fit_and_score)(\n\u001b[0;32m    847\u001b[0m         clone(base_estimator),\n\u001b[0;32m    848\u001b[0m         X,\n\u001b[0;32m    849\u001b[0m         y,\n\u001b[0;32m    850\u001b[0m         train\u001b[38;5;241m=\u001b[39mtrain,\n\u001b[0;32m    851\u001b[0m         test\u001b[38;5;241m=\u001b[39mtest,\n\u001b[0;32m    852\u001b[0m         parameters\u001b[38;5;241m=\u001b[39mparameters,\n\u001b[0;32m    853\u001b[0m         split_progress\u001b[38;5;241m=\u001b[39m(split_idx, n_splits),\n\u001b[0;32m    854\u001b[0m         candidate_progress\u001b[38;5;241m=\u001b[39m(cand_idx, n_candidates),\n\u001b[0;32m    855\u001b[0m         \u001b[38;5;241m*\u001b[39m\u001b[38;5;241m*\u001b[39mfit_and_score_kwargs,\n\u001b[0;32m    856\u001b[0m     )\n\u001b[0;32m    857\u001b[0m     \u001b[38;5;28;01mfor\u001b[39;00m (cand_idx, parameters), (split_idx, (train, test)) \u001b[38;5;129;01min\u001b[39;00m product(\n\u001b[0;32m    858\u001b[0m         \u001b[38;5;28menumerate\u001b[39m(candidate_params), \u001b[38;5;28menumerate\u001b[39m(cv\u001b[38;5;241m.\u001b[39msplit(X, y, groups))\n\u001b[0;32m    859\u001b[0m     )\n\u001b[0;32m    860\u001b[0m )\n\u001b[0;32m    862\u001b[0m \u001b[38;5;28;01mif\u001b[39;00m \u001b[38;5;28mlen\u001b[39m(out) \u001b[38;5;241m<\u001b[39m \u001b[38;5;241m1\u001b[39m:\n\u001b[0;32m    863\u001b[0m     \u001b[38;5;28;01mraise\u001b[39;00m \u001b[38;5;167;01mValueError\u001b[39;00m(\n\u001b[0;32m    864\u001b[0m         \u001b[38;5;124m\"\u001b[39m\u001b[38;5;124mNo fits were performed. \u001b[39m\u001b[38;5;124m\"\u001b[39m\n\u001b[0;32m    865\u001b[0m         \u001b[38;5;124m\"\u001b[39m\u001b[38;5;124mWas the CV iterator empty? \u001b[39m\u001b[38;5;124m\"\u001b[39m\n\u001b[0;32m    866\u001b[0m         \u001b[38;5;124m\"\u001b[39m\u001b[38;5;124mWere there no candidates?\u001b[39m\u001b[38;5;124m\"\u001b[39m\n\u001b[0;32m    867\u001b[0m     )\n",
      "File \u001b[1;32m~\\AppData\\Roaming\\Python\\Python311\\site-packages\\sklearn\\utils\\parallel.py:65\u001b[0m, in \u001b[0;36mParallel.__call__\u001b[1;34m(self, iterable)\u001b[0m\n\u001b[0;32m     60\u001b[0m config \u001b[38;5;241m=\u001b[39m get_config()\n\u001b[0;32m     61\u001b[0m iterable_with_config \u001b[38;5;241m=\u001b[39m (\n\u001b[0;32m     62\u001b[0m     (_with_config(delayed_func, config), args, kwargs)\n\u001b[0;32m     63\u001b[0m     \u001b[38;5;28;01mfor\u001b[39;00m delayed_func, args, kwargs \u001b[38;5;129;01min\u001b[39;00m iterable\n\u001b[0;32m     64\u001b[0m )\n\u001b[1;32m---> 65\u001b[0m \u001b[38;5;28;01mreturn\u001b[39;00m \u001b[38;5;28msuper\u001b[39m()\u001b[38;5;241m.\u001b[39m\u001b[38;5;21m__call__\u001b[39m(iterable_with_config)\n",
      "File \u001b[1;32m~\\AppData\\Roaming\\Python\\Python311\\site-packages\\joblib\\parallel.py:1863\u001b[0m, in \u001b[0;36mParallel.__call__\u001b[1;34m(self, iterable)\u001b[0m\n\u001b[0;32m   1861\u001b[0m     output \u001b[38;5;241m=\u001b[39m \u001b[38;5;28mself\u001b[39m\u001b[38;5;241m.\u001b[39m_get_sequential_output(iterable)\n\u001b[0;32m   1862\u001b[0m     \u001b[38;5;28mnext\u001b[39m(output)\n\u001b[1;32m-> 1863\u001b[0m     \u001b[38;5;28;01mreturn\u001b[39;00m output \u001b[38;5;28;01mif\u001b[39;00m \u001b[38;5;28mself\u001b[39m\u001b[38;5;241m.\u001b[39mreturn_generator \u001b[38;5;28;01melse\u001b[39;00m \u001b[38;5;28mlist\u001b[39m(output)\n\u001b[0;32m   1865\u001b[0m \u001b[38;5;66;03m# Let's create an ID that uniquely identifies the current call. If the\u001b[39;00m\n\u001b[0;32m   1866\u001b[0m \u001b[38;5;66;03m# call is interrupted early and that the same instance is immediately\u001b[39;00m\n\u001b[0;32m   1867\u001b[0m \u001b[38;5;66;03m# re-used, this id will be used to prevent workers that were\u001b[39;00m\n\u001b[0;32m   1868\u001b[0m \u001b[38;5;66;03m# concurrently finalizing a task from the previous call to run the\u001b[39;00m\n\u001b[0;32m   1869\u001b[0m \u001b[38;5;66;03m# callback.\u001b[39;00m\n\u001b[0;32m   1870\u001b[0m \u001b[38;5;28;01mwith\u001b[39;00m \u001b[38;5;28mself\u001b[39m\u001b[38;5;241m.\u001b[39m_lock:\n",
      "File \u001b[1;32m~\\AppData\\Roaming\\Python\\Python311\\site-packages\\joblib\\parallel.py:1792\u001b[0m, in \u001b[0;36mParallel._get_sequential_output\u001b[1;34m(self, iterable)\u001b[0m\n\u001b[0;32m   1790\u001b[0m \u001b[38;5;28mself\u001b[39m\u001b[38;5;241m.\u001b[39mn_dispatched_batches \u001b[38;5;241m+\u001b[39m\u001b[38;5;241m=\u001b[39m \u001b[38;5;241m1\u001b[39m\n\u001b[0;32m   1791\u001b[0m \u001b[38;5;28mself\u001b[39m\u001b[38;5;241m.\u001b[39mn_dispatched_tasks \u001b[38;5;241m+\u001b[39m\u001b[38;5;241m=\u001b[39m \u001b[38;5;241m1\u001b[39m\n\u001b[1;32m-> 1792\u001b[0m res \u001b[38;5;241m=\u001b[39m func(\u001b[38;5;241m*\u001b[39margs, \u001b[38;5;241m*\u001b[39m\u001b[38;5;241m*\u001b[39mkwargs)\n\u001b[0;32m   1793\u001b[0m \u001b[38;5;28mself\u001b[39m\u001b[38;5;241m.\u001b[39mn_completed_tasks \u001b[38;5;241m+\u001b[39m\u001b[38;5;241m=\u001b[39m \u001b[38;5;241m1\u001b[39m\n\u001b[0;32m   1794\u001b[0m \u001b[38;5;28mself\u001b[39m\u001b[38;5;241m.\u001b[39mprint_progress()\n",
      "File \u001b[1;32m~\\AppData\\Roaming\\Python\\Python311\\site-packages\\sklearn\\utils\\parallel.py:127\u001b[0m, in \u001b[0;36m_FuncWrapper.__call__\u001b[1;34m(self, *args, **kwargs)\u001b[0m\n\u001b[0;32m    125\u001b[0m     config \u001b[38;5;241m=\u001b[39m {}\n\u001b[0;32m    126\u001b[0m \u001b[38;5;28;01mwith\u001b[39;00m config_context(\u001b[38;5;241m*\u001b[39m\u001b[38;5;241m*\u001b[39mconfig):\n\u001b[1;32m--> 127\u001b[0m     \u001b[38;5;28;01mreturn\u001b[39;00m \u001b[38;5;28mself\u001b[39m\u001b[38;5;241m.\u001b[39mfunction(\u001b[38;5;241m*\u001b[39margs, \u001b[38;5;241m*\u001b[39m\u001b[38;5;241m*\u001b[39mkwargs)\n",
      "File \u001b[1;32m~\\AppData\\Roaming\\Python\\Python311\\site-packages\\sklearn\\model_selection\\_validation.py:729\u001b[0m, in \u001b[0;36m_fit_and_score\u001b[1;34m(estimator, X, y, scorer, train, test, verbose, parameters, fit_params, return_train_score, return_parameters, return_n_test_samples, return_times, return_estimator, split_progress, candidate_progress, error_score)\u001b[0m\n\u001b[0;32m    727\u001b[0m         estimator\u001b[38;5;241m.\u001b[39mfit(X_train, \u001b[38;5;241m*\u001b[39m\u001b[38;5;241m*\u001b[39mfit_params)\n\u001b[0;32m    728\u001b[0m     \u001b[38;5;28;01melse\u001b[39;00m:\n\u001b[1;32m--> 729\u001b[0m         estimator\u001b[38;5;241m.\u001b[39mfit(X_train, y_train, \u001b[38;5;241m*\u001b[39m\u001b[38;5;241m*\u001b[39mfit_params)\n\u001b[0;32m    731\u001b[0m \u001b[38;5;28;01mexcept\u001b[39;00m \u001b[38;5;167;01mException\u001b[39;00m:\n\u001b[0;32m    732\u001b[0m     \u001b[38;5;66;03m# Note fit time as time until error\u001b[39;00m\n\u001b[0;32m    733\u001b[0m     fit_time \u001b[38;5;241m=\u001b[39m time\u001b[38;5;241m.\u001b[39mtime() \u001b[38;5;241m-\u001b[39m start_time\n",
      "File \u001b[1;32m~\\AppData\\Roaming\\Python\\Python311\\site-packages\\sklearn\\base.py:1152\u001b[0m, in \u001b[0;36m_fit_context.<locals>.decorator.<locals>.wrapper\u001b[1;34m(estimator, *args, **kwargs)\u001b[0m\n\u001b[0;32m   1145\u001b[0m     estimator\u001b[38;5;241m.\u001b[39m_validate_params()\n\u001b[0;32m   1147\u001b[0m \u001b[38;5;28;01mwith\u001b[39;00m config_context(\n\u001b[0;32m   1148\u001b[0m     skip_parameter_validation\u001b[38;5;241m=\u001b[39m(\n\u001b[0;32m   1149\u001b[0m         prefer_skip_nested_validation \u001b[38;5;129;01mor\u001b[39;00m global_skip_validation\n\u001b[0;32m   1150\u001b[0m     )\n\u001b[0;32m   1151\u001b[0m ):\n\u001b[1;32m-> 1152\u001b[0m     \u001b[38;5;28;01mreturn\u001b[39;00m fit_method(estimator, \u001b[38;5;241m*\u001b[39margs, \u001b[38;5;241m*\u001b[39m\u001b[38;5;241m*\u001b[39mkwargs)\n",
      "File \u001b[1;32m~\\AppData\\Roaming\\Python\\Python311\\site-packages\\sklearn\\ensemble\\_gb.py:532\u001b[0m, in \u001b[0;36mBaseGradientBoosting.fit\u001b[1;34m(self, X, y, sample_weight, monitor)\u001b[0m\n\u001b[0;32m    529\u001b[0m     \u001b[38;5;28mself\u001b[39m\u001b[38;5;241m.\u001b[39m_resize_state()\n\u001b[0;32m    531\u001b[0m \u001b[38;5;66;03m# fit the boosting stages\u001b[39;00m\n\u001b[1;32m--> 532\u001b[0m n_stages \u001b[38;5;241m=\u001b[39m \u001b[38;5;28mself\u001b[39m\u001b[38;5;241m.\u001b[39m_fit_stages(\n\u001b[0;32m    533\u001b[0m     X_train,\n\u001b[0;32m    534\u001b[0m     y_train,\n\u001b[0;32m    535\u001b[0m     raw_predictions,\n\u001b[0;32m    536\u001b[0m     sample_weight_train,\n\u001b[0;32m    537\u001b[0m     \u001b[38;5;28mself\u001b[39m\u001b[38;5;241m.\u001b[39m_rng,\n\u001b[0;32m    538\u001b[0m     X_val,\n\u001b[0;32m    539\u001b[0m     y_val,\n\u001b[0;32m    540\u001b[0m     sample_weight_val,\n\u001b[0;32m    541\u001b[0m     begin_at_stage,\n\u001b[0;32m    542\u001b[0m     monitor,\n\u001b[0;32m    543\u001b[0m )\n\u001b[0;32m    545\u001b[0m \u001b[38;5;66;03m# change shape of arrays after fit (early-stopping or additional ests)\u001b[39;00m\n\u001b[0;32m    546\u001b[0m \u001b[38;5;28;01mif\u001b[39;00m n_stages \u001b[38;5;241m!=\u001b[39m \u001b[38;5;28mself\u001b[39m\u001b[38;5;241m.\u001b[39mestimators_\u001b[38;5;241m.\u001b[39mshape[\u001b[38;5;241m0\u001b[39m]:\n",
      "File \u001b[1;32m~\\AppData\\Roaming\\Python\\Python311\\site-packages\\sklearn\\ensemble\\_gb.py:610\u001b[0m, in \u001b[0;36mBaseGradientBoosting._fit_stages\u001b[1;34m(self, X, y, raw_predictions, sample_weight, random_state, X_val, y_val, sample_weight_val, begin_at_stage, monitor)\u001b[0m\n\u001b[0;32m    603\u001b[0m         initial_loss \u001b[38;5;241m=\u001b[39m loss_(\n\u001b[0;32m    604\u001b[0m             y[\u001b[38;5;241m~\u001b[39msample_mask],\n\u001b[0;32m    605\u001b[0m             raw_predictions[\u001b[38;5;241m~\u001b[39msample_mask],\n\u001b[0;32m    606\u001b[0m             sample_weight[\u001b[38;5;241m~\u001b[39msample_mask],\n\u001b[0;32m    607\u001b[0m         )\n\u001b[0;32m    609\u001b[0m \u001b[38;5;66;03m# fit next stage of trees\u001b[39;00m\n\u001b[1;32m--> 610\u001b[0m raw_predictions \u001b[38;5;241m=\u001b[39m \u001b[38;5;28mself\u001b[39m\u001b[38;5;241m.\u001b[39m_fit_stage(\n\u001b[0;32m    611\u001b[0m     i,\n\u001b[0;32m    612\u001b[0m     X,\n\u001b[0;32m    613\u001b[0m     y,\n\u001b[0;32m    614\u001b[0m     raw_predictions,\n\u001b[0;32m    615\u001b[0m     sample_weight,\n\u001b[0;32m    616\u001b[0m     sample_mask,\n\u001b[0;32m    617\u001b[0m     random_state,\n\u001b[0;32m    618\u001b[0m     X_csc,\n\u001b[0;32m    619\u001b[0m     X_csr,\n\u001b[0;32m    620\u001b[0m )\n\u001b[0;32m    622\u001b[0m \u001b[38;5;66;03m# track loss\u001b[39;00m\n\u001b[0;32m    623\u001b[0m \u001b[38;5;28;01mif\u001b[39;00m do_oob:\n",
      "File \u001b[1;32m~\\AppData\\Roaming\\Python\\Python311\\site-packages\\sklearn\\ensemble\\_gb.py:221\u001b[0m, in \u001b[0;36mBaseGradientBoosting._fit_stage\u001b[1;34m(self, i, X, y, raw_predictions, sample_weight, sample_mask, random_state, X_csc, X_csr)\u001b[0m\n\u001b[0;32m    218\u001b[0m \u001b[38;5;28;01mif\u001b[39;00m loss\u001b[38;5;241m.\u001b[39mis_multi_class:\n\u001b[0;32m    219\u001b[0m     y \u001b[38;5;241m=\u001b[39m np\u001b[38;5;241m.\u001b[39marray(original_y \u001b[38;5;241m==\u001b[39m k, dtype\u001b[38;5;241m=\u001b[39mnp\u001b[38;5;241m.\u001b[39mfloat64)\n\u001b[1;32m--> 221\u001b[0m residual \u001b[38;5;241m=\u001b[39m loss\u001b[38;5;241m.\u001b[39mnegative_gradient(\n\u001b[0;32m    222\u001b[0m     y, raw_predictions_copy, k\u001b[38;5;241m=\u001b[39mk, sample_weight\u001b[38;5;241m=\u001b[39msample_weight\n\u001b[0;32m    223\u001b[0m )\n\u001b[0;32m    225\u001b[0m \u001b[38;5;66;03m# induce regression tree on residuals\u001b[39;00m\n\u001b[0;32m    226\u001b[0m tree \u001b[38;5;241m=\u001b[39m DecisionTreeRegressor(\n\u001b[0;32m    227\u001b[0m     criterion\u001b[38;5;241m=\u001b[39m\u001b[38;5;28mself\u001b[39m\u001b[38;5;241m.\u001b[39mcriterion,\n\u001b[0;32m    228\u001b[0m     splitter\u001b[38;5;241m=\u001b[39m\u001b[38;5;124m\"\u001b[39m\u001b[38;5;124mbest\u001b[39m\u001b[38;5;124m\"\u001b[39m,\n\u001b[1;32m   (...)\u001b[0m\n\u001b[0;32m    237\u001b[0m     ccp_alpha\u001b[38;5;241m=\u001b[39m\u001b[38;5;28mself\u001b[39m\u001b[38;5;241m.\u001b[39mccp_alpha,\n\u001b[0;32m    238\u001b[0m )\n",
      "File \u001b[1;32m~\\AppData\\Roaming\\Python\\Python311\\site-packages\\sklearn\\ensemble\\_gb_losses.py:702\u001b[0m, in \u001b[0;36mBinomialDeviance.negative_gradient\u001b[1;34m(self, y, raw_predictions, **kargs)\u001b[0m\n\u001b[0;32m    690\u001b[0m \u001b[38;5;28;01mdef\u001b[39;00m \u001b[38;5;21mnegative_gradient\u001b[39m(\u001b[38;5;28mself\u001b[39m, y, raw_predictions, \u001b[38;5;241m*\u001b[39m\u001b[38;5;241m*\u001b[39mkargs):\n\u001b[0;32m    691\u001b[0m \u001b[38;5;250m    \u001b[39m\u001b[38;5;124;03m\"\"\"Compute half of the negative gradient.\u001b[39;00m\n\u001b[0;32m    692\u001b[0m \n\u001b[0;32m    693\u001b[0m \u001b[38;5;124;03m    Parameters\u001b[39;00m\n\u001b[1;32m   (...)\u001b[0m\n\u001b[0;32m    700\u001b[0m \u001b[38;5;124;03m        tree ensemble at iteration ``i - 1``.\u001b[39;00m\n\u001b[0;32m    701\u001b[0m \u001b[38;5;124;03m    \"\"\"\u001b[39;00m\n\u001b[1;32m--> 702\u001b[0m     \u001b[38;5;28;01mreturn\u001b[39;00m y \u001b[38;5;241m-\u001b[39m expit(raw_predictions\u001b[38;5;241m.\u001b[39mravel())\n",
      "\u001b[1;31mKeyboardInterrupt\u001b[0m: "
     ]
    }
   ],
   "source": [
    "# Inicjalizacja modelu Gradient Boosting Classifier\n",
    "gb = GradientBoostingClassifier()\n",
    "\n",
    "# Definiowanie siatki hiperparametrów do przetestowania\n",
    "param_grid = {\n",
    "    'n_estimators': [100, 200, 300],  # Liczba drzew w ensemble\n",
    "    'learning_rate': [0.01, 0.1, 0.2], # Szybkość uczenia\n",
    "    'max_depth': [3, 5, 7],            # Maksymalna głębokość drzewa\n",
    "    'min_samples_split': [2, 4],       # Minimalna liczba próbek wymagana do podziału węzła\n",
    "    'min_samples_leaf': [1, 2]         # Minimalna liczba próbek w liściu\n",
    "}\n",
    "\n",
    "# Utworzenie obiektu GridSearchCV\n",
    "grid_search = GridSearchCV(estimator=gb, param_grid=param_grid, cv=5, scoring='accuracy')\n",
    "\n",
    "# Przeszukiwanie siatki parametrów\n",
    "grid_search.fit(x_train4, y_train4)\n",
    "\n",
    "# Najlepsze parametry i najlepszy model\n",
    "print(\"Najlepsze parametry: \", grid_search.best_params_)\n",
    "best_gb = grid_search.best_estimator_\n",
    "\n",
    "# Predykcje na zbiorze treningowym i testowym\n",
    "ypred_train6 = best_gb.predict(x_train4)\n",
    "y_pred_test6 = best_gb.predict(x_test4)\n",
    "\n",
    "# Ocena modelu\n",
    "print(\"Accuracy on Training set: \", accuracy_score(y_train4, ypred_train6))\n",
    "print(\"Accuracy on Test set: \", accuracy_score(y_test4, y_pred_test6))\n",
    "print(\"\\nTraining Results\\n\")\n",
    "print(classification_report(y_train4, ypred_train6))\n",
    "print('Testing Results\\n')\n",
    "print(classification_report(y_test4, y_pred_test6))\n",
    "\n",
    "\n",
    "# cross_val_scores = cross_val_score(best_gb, x_train4, y_train4, cv=5)\n",
    "# print(\"Cross-validation scores:\", cross_val_scores)\n",
    "# print(\"Average cross-validation score:\", np.mean(cross_val_scores))\n",
    "# Krzywa ROC\n",
    "y_proba_test6 = best_gb.predict_proba(x_test4)[:, 1]\n",
    "fpr, tpr, thresholds = roc_curve(y_test4, y_proba_test6)\n",
    "plt.plot(fpr, tpr)\n",
    "plt.title(\"ROC Curve with AUC = {:.2f}\".format(roc_auc_score(y_test4, y_proba_test6)))\n",
    "plt.show()"
   ]
  },
  {
   "cell_type": "markdown",
   "metadata": {},
   "source": [
    "## KNN"
   ]
  },
  {
   "cell_type": "code",
   "execution_count": 19,
   "metadata": {},
   "outputs": [
    {
     "data": {
      "text/html": [
       "<style>#sk-container-id-1 {color: black;}#sk-container-id-1 pre{padding: 0;}#sk-container-id-1 div.sk-toggleable {background-color: white;}#sk-container-id-1 label.sk-toggleable__label {cursor: pointer;display: block;width: 100%;margin-bottom: 0;padding: 0.3em;box-sizing: border-box;text-align: center;}#sk-container-id-1 label.sk-toggleable__label-arrow:before {content: \"▸\";float: left;margin-right: 0.25em;color: #696969;}#sk-container-id-1 label.sk-toggleable__label-arrow:hover:before {color: black;}#sk-container-id-1 div.sk-estimator:hover label.sk-toggleable__label-arrow:before {color: black;}#sk-container-id-1 div.sk-toggleable__content {max-height: 0;max-width: 0;overflow: hidden;text-align: left;background-color: #f0f8ff;}#sk-container-id-1 div.sk-toggleable__content pre {margin: 0.2em;color: black;border-radius: 0.25em;background-color: #f0f8ff;}#sk-container-id-1 input.sk-toggleable__control:checked~div.sk-toggleable__content {max-height: 200px;max-width: 100%;overflow: auto;}#sk-container-id-1 input.sk-toggleable__control:checked~label.sk-toggleable__label-arrow:before {content: \"▾\";}#sk-container-id-1 div.sk-estimator input.sk-toggleable__control:checked~label.sk-toggleable__label {background-color: #d4ebff;}#sk-container-id-1 div.sk-label input.sk-toggleable__control:checked~label.sk-toggleable__label {background-color: #d4ebff;}#sk-container-id-1 input.sk-hidden--visually {border: 0;clip: rect(1px 1px 1px 1px);clip: rect(1px, 1px, 1px, 1px);height: 1px;margin: -1px;overflow: hidden;padding: 0;position: absolute;width: 1px;}#sk-container-id-1 div.sk-estimator {font-family: monospace;background-color: #f0f8ff;border: 1px dotted black;border-radius: 0.25em;box-sizing: border-box;margin-bottom: 0.5em;}#sk-container-id-1 div.sk-estimator:hover {background-color: #d4ebff;}#sk-container-id-1 div.sk-parallel-item::after {content: \"\";width: 100%;border-bottom: 1px solid gray;flex-grow: 1;}#sk-container-id-1 div.sk-label:hover label.sk-toggleable__label {background-color: #d4ebff;}#sk-container-id-1 div.sk-serial::before {content: \"\";position: absolute;border-left: 1px solid gray;box-sizing: border-box;top: 0;bottom: 0;left: 50%;z-index: 0;}#sk-container-id-1 div.sk-serial {display: flex;flex-direction: column;align-items: center;background-color: white;padding-right: 0.2em;padding-left: 0.2em;position: relative;}#sk-container-id-1 div.sk-item {position: relative;z-index: 1;}#sk-container-id-1 div.sk-parallel {display: flex;align-items: stretch;justify-content: center;background-color: white;position: relative;}#sk-container-id-1 div.sk-item::before, #sk-container-id-1 div.sk-parallel-item::before {content: \"\";position: absolute;border-left: 1px solid gray;box-sizing: border-box;top: 0;bottom: 0;left: 50%;z-index: -1;}#sk-container-id-1 div.sk-parallel-item {display: flex;flex-direction: column;z-index: 1;position: relative;background-color: white;}#sk-container-id-1 div.sk-parallel-item:first-child::after {align-self: flex-end;width: 50%;}#sk-container-id-1 div.sk-parallel-item:last-child::after {align-self: flex-start;width: 50%;}#sk-container-id-1 div.sk-parallel-item:only-child::after {width: 0;}#sk-container-id-1 div.sk-dashed-wrapped {border: 1px dashed gray;margin: 0 0.4em 0.5em 0.4em;box-sizing: border-box;padding-bottom: 0.4em;background-color: white;}#sk-container-id-1 div.sk-label label {font-family: monospace;font-weight: bold;display: inline-block;line-height: 1.2em;}#sk-container-id-1 div.sk-label-container {text-align: center;}#sk-container-id-1 div.sk-container {/* jupyter's `normalize.less` sets `[hidden] { display: none; }` but bootstrap.min.css set `[hidden] { display: none !important; }` so we also need the `!important` here to be able to override the default hidden behavior on the sphinx rendered scikit-learn.org. See: https://github.com/scikit-learn/scikit-learn/issues/21755 */display: inline-block !important;position: relative;}#sk-container-id-1 div.sk-text-repr-fallback {display: none;}</style><div id=\"sk-container-id-1\" class=\"sk-top-container\"><div class=\"sk-text-repr-fallback\"><pre>KNeighborsClassifier()</pre><b>In a Jupyter environment, please rerun this cell to show the HTML representation or trust the notebook. <br />On GitHub, the HTML representation is unable to render, please try loading this page with nbviewer.org.</b></div><div class=\"sk-container\" hidden><div class=\"sk-item\"><div class=\"sk-estimator sk-toggleable\"><input class=\"sk-toggleable__control sk-hidden--visually\" id=\"sk-estimator-id-1\" type=\"checkbox\" checked><label for=\"sk-estimator-id-1\" class=\"sk-toggleable__label sk-toggleable__label-arrow\">KNeighborsClassifier</label><div class=\"sk-toggleable__content\"><pre>KNeighborsClassifier()</pre></div></div></div></div></div>"
      ],
      "text/plain": [
       "KNeighborsClassifier()"
      ]
     },
     "execution_count": 19,
     "metadata": {},
     "output_type": "execute_result"
    }
   ],
   "source": [
    "knn = KNeighborsClassifier()\n",
    "knn.fit(x_train4, y_train4)\n"
   ]
  },
  {
   "cell_type": "code",
   "execution_count": 20,
   "metadata": {},
   "outputs": [],
   "source": [
    "grid_cv = GridSearchCV(KNeighborsClassifier(), \n",
    "                       param_grid={\n",
    "                           \"n_neighbors\": range(1, 50)\n",
    "                       }, cv=5, scoring=\"f1\", \n",
    "                       verbose=1, n_jobs=6)\n"
   ]
  },
  {
   "cell_type": "code",
   "execution_count": 21,
   "metadata": {},
   "outputs": [
    {
     "name": "stdout",
     "output_type": "stream",
     "text": [
      "Fitting 5 folds for each of 49 candidates, totalling 245 fits\n"
     ]
    },
    {
     "data": {
      "text/html": [
       "<style>#sk-container-id-2 {color: black;}#sk-container-id-2 pre{padding: 0;}#sk-container-id-2 div.sk-toggleable {background-color: white;}#sk-container-id-2 label.sk-toggleable__label {cursor: pointer;display: block;width: 100%;margin-bottom: 0;padding: 0.3em;box-sizing: border-box;text-align: center;}#sk-container-id-2 label.sk-toggleable__label-arrow:before {content: \"▸\";float: left;margin-right: 0.25em;color: #696969;}#sk-container-id-2 label.sk-toggleable__label-arrow:hover:before {color: black;}#sk-container-id-2 div.sk-estimator:hover label.sk-toggleable__label-arrow:before {color: black;}#sk-container-id-2 div.sk-toggleable__content {max-height: 0;max-width: 0;overflow: hidden;text-align: left;background-color: #f0f8ff;}#sk-container-id-2 div.sk-toggleable__content pre {margin: 0.2em;color: black;border-radius: 0.25em;background-color: #f0f8ff;}#sk-container-id-2 input.sk-toggleable__control:checked~div.sk-toggleable__content {max-height: 200px;max-width: 100%;overflow: auto;}#sk-container-id-2 input.sk-toggleable__control:checked~label.sk-toggleable__label-arrow:before {content: \"▾\";}#sk-container-id-2 div.sk-estimator input.sk-toggleable__control:checked~label.sk-toggleable__label {background-color: #d4ebff;}#sk-container-id-2 div.sk-label input.sk-toggleable__control:checked~label.sk-toggleable__label {background-color: #d4ebff;}#sk-container-id-2 input.sk-hidden--visually {border: 0;clip: rect(1px 1px 1px 1px);clip: rect(1px, 1px, 1px, 1px);height: 1px;margin: -1px;overflow: hidden;padding: 0;position: absolute;width: 1px;}#sk-container-id-2 div.sk-estimator {font-family: monospace;background-color: #f0f8ff;border: 1px dotted black;border-radius: 0.25em;box-sizing: border-box;margin-bottom: 0.5em;}#sk-container-id-2 div.sk-estimator:hover {background-color: #d4ebff;}#sk-container-id-2 div.sk-parallel-item::after {content: \"\";width: 100%;border-bottom: 1px solid gray;flex-grow: 1;}#sk-container-id-2 div.sk-label:hover label.sk-toggleable__label {background-color: #d4ebff;}#sk-container-id-2 div.sk-serial::before {content: \"\";position: absolute;border-left: 1px solid gray;box-sizing: border-box;top: 0;bottom: 0;left: 50%;z-index: 0;}#sk-container-id-2 div.sk-serial {display: flex;flex-direction: column;align-items: center;background-color: white;padding-right: 0.2em;padding-left: 0.2em;position: relative;}#sk-container-id-2 div.sk-item {position: relative;z-index: 1;}#sk-container-id-2 div.sk-parallel {display: flex;align-items: stretch;justify-content: center;background-color: white;position: relative;}#sk-container-id-2 div.sk-item::before, #sk-container-id-2 div.sk-parallel-item::before {content: \"\";position: absolute;border-left: 1px solid gray;box-sizing: border-box;top: 0;bottom: 0;left: 50%;z-index: -1;}#sk-container-id-2 div.sk-parallel-item {display: flex;flex-direction: column;z-index: 1;position: relative;background-color: white;}#sk-container-id-2 div.sk-parallel-item:first-child::after {align-self: flex-end;width: 50%;}#sk-container-id-2 div.sk-parallel-item:last-child::after {align-self: flex-start;width: 50%;}#sk-container-id-2 div.sk-parallel-item:only-child::after {width: 0;}#sk-container-id-2 div.sk-dashed-wrapped {border: 1px dashed gray;margin: 0 0.4em 0.5em 0.4em;box-sizing: border-box;padding-bottom: 0.4em;background-color: white;}#sk-container-id-2 div.sk-label label {font-family: monospace;font-weight: bold;display: inline-block;line-height: 1.2em;}#sk-container-id-2 div.sk-label-container {text-align: center;}#sk-container-id-2 div.sk-container {/* jupyter's `normalize.less` sets `[hidden] { display: none; }` but bootstrap.min.css set `[hidden] { display: none !important; }` so we also need the `!important` here to be able to override the default hidden behavior on the sphinx rendered scikit-learn.org. See: https://github.com/scikit-learn/scikit-learn/issues/21755 */display: inline-block !important;position: relative;}#sk-container-id-2 div.sk-text-repr-fallback {display: none;}</style><div id=\"sk-container-id-2\" class=\"sk-top-container\"><div class=\"sk-text-repr-fallback\"><pre>GridSearchCV(cv=5, estimator=KNeighborsClassifier(), n_jobs=6,\n",
       "             param_grid={&#x27;n_neighbors&#x27;: range(1, 50)}, scoring=&#x27;f1&#x27;, verbose=1)</pre><b>In a Jupyter environment, please rerun this cell to show the HTML representation or trust the notebook. <br />On GitHub, the HTML representation is unable to render, please try loading this page with nbviewer.org.</b></div><div class=\"sk-container\" hidden><div class=\"sk-item sk-dashed-wrapped\"><div class=\"sk-label-container\"><div class=\"sk-label sk-toggleable\"><input class=\"sk-toggleable__control sk-hidden--visually\" id=\"sk-estimator-id-2\" type=\"checkbox\" ><label for=\"sk-estimator-id-2\" class=\"sk-toggleable__label sk-toggleable__label-arrow\">GridSearchCV</label><div class=\"sk-toggleable__content\"><pre>GridSearchCV(cv=5, estimator=KNeighborsClassifier(), n_jobs=6,\n",
       "             param_grid={&#x27;n_neighbors&#x27;: range(1, 50)}, scoring=&#x27;f1&#x27;, verbose=1)</pre></div></div></div><div class=\"sk-parallel\"><div class=\"sk-parallel-item\"><div class=\"sk-item\"><div class=\"sk-label-container\"><div class=\"sk-label sk-toggleable\"><input class=\"sk-toggleable__control sk-hidden--visually\" id=\"sk-estimator-id-3\" type=\"checkbox\" ><label for=\"sk-estimator-id-3\" class=\"sk-toggleable__label sk-toggleable__label-arrow\">estimator: KNeighborsClassifier</label><div class=\"sk-toggleable__content\"><pre>KNeighborsClassifier()</pre></div></div></div><div class=\"sk-serial\"><div class=\"sk-item\"><div class=\"sk-estimator sk-toggleable\"><input class=\"sk-toggleable__control sk-hidden--visually\" id=\"sk-estimator-id-4\" type=\"checkbox\" ><label for=\"sk-estimator-id-4\" class=\"sk-toggleable__label sk-toggleable__label-arrow\">KNeighborsClassifier</label><div class=\"sk-toggleable__content\"><pre>KNeighborsClassifier()</pre></div></div></div></div></div></div></div></div></div></div>"
      ],
      "text/plain": [
       "GridSearchCV(cv=5, estimator=KNeighborsClassifier(), n_jobs=6,\n",
       "             param_grid={'n_neighbors': range(1, 50)}, scoring='f1', verbose=1)"
      ]
     },
     "execution_count": 21,
     "metadata": {},
     "output_type": "execute_result"
    }
   ],
   "source": [
    "grid_cv.fit(x_train4, \n",
    "            y_train4)"
   ]
  },
  {
   "cell_type": "code",
   "execution_count": 22,
   "metadata": {},
   "outputs": [
    {
     "data": {
      "text/plain": [
       "0.7593006953229925"
      ]
     },
     "execution_count": 22,
     "metadata": {},
     "output_type": "execute_result"
    }
   ],
   "source": [
    "grid_cv.best_score_"
   ]
  },
  {
   "cell_type": "code",
   "execution_count": 23,
   "metadata": {},
   "outputs": [
    {
     "data": {
      "text/html": [
       "<style>#sk-container-id-3 {color: black;}#sk-container-id-3 pre{padding: 0;}#sk-container-id-3 div.sk-toggleable {background-color: white;}#sk-container-id-3 label.sk-toggleable__label {cursor: pointer;display: block;width: 100%;margin-bottom: 0;padding: 0.3em;box-sizing: border-box;text-align: center;}#sk-container-id-3 label.sk-toggleable__label-arrow:before {content: \"▸\";float: left;margin-right: 0.25em;color: #696969;}#sk-container-id-3 label.sk-toggleable__label-arrow:hover:before {color: black;}#sk-container-id-3 div.sk-estimator:hover label.sk-toggleable__label-arrow:before {color: black;}#sk-container-id-3 div.sk-toggleable__content {max-height: 0;max-width: 0;overflow: hidden;text-align: left;background-color: #f0f8ff;}#sk-container-id-3 div.sk-toggleable__content pre {margin: 0.2em;color: black;border-radius: 0.25em;background-color: #f0f8ff;}#sk-container-id-3 input.sk-toggleable__control:checked~div.sk-toggleable__content {max-height: 200px;max-width: 100%;overflow: auto;}#sk-container-id-3 input.sk-toggleable__control:checked~label.sk-toggleable__label-arrow:before {content: \"▾\";}#sk-container-id-3 div.sk-estimator input.sk-toggleable__control:checked~label.sk-toggleable__label {background-color: #d4ebff;}#sk-container-id-3 div.sk-label input.sk-toggleable__control:checked~label.sk-toggleable__label {background-color: #d4ebff;}#sk-container-id-3 input.sk-hidden--visually {border: 0;clip: rect(1px 1px 1px 1px);clip: rect(1px, 1px, 1px, 1px);height: 1px;margin: -1px;overflow: hidden;padding: 0;position: absolute;width: 1px;}#sk-container-id-3 div.sk-estimator {font-family: monospace;background-color: #f0f8ff;border: 1px dotted black;border-radius: 0.25em;box-sizing: border-box;margin-bottom: 0.5em;}#sk-container-id-3 div.sk-estimator:hover {background-color: #d4ebff;}#sk-container-id-3 div.sk-parallel-item::after {content: \"\";width: 100%;border-bottom: 1px solid gray;flex-grow: 1;}#sk-container-id-3 div.sk-label:hover label.sk-toggleable__label {background-color: #d4ebff;}#sk-container-id-3 div.sk-serial::before {content: \"\";position: absolute;border-left: 1px solid gray;box-sizing: border-box;top: 0;bottom: 0;left: 50%;z-index: 0;}#sk-container-id-3 div.sk-serial {display: flex;flex-direction: column;align-items: center;background-color: white;padding-right: 0.2em;padding-left: 0.2em;position: relative;}#sk-container-id-3 div.sk-item {position: relative;z-index: 1;}#sk-container-id-3 div.sk-parallel {display: flex;align-items: stretch;justify-content: center;background-color: white;position: relative;}#sk-container-id-3 div.sk-item::before, #sk-container-id-3 div.sk-parallel-item::before {content: \"\";position: absolute;border-left: 1px solid gray;box-sizing: border-box;top: 0;bottom: 0;left: 50%;z-index: -1;}#sk-container-id-3 div.sk-parallel-item {display: flex;flex-direction: column;z-index: 1;position: relative;background-color: white;}#sk-container-id-3 div.sk-parallel-item:first-child::after {align-self: flex-end;width: 50%;}#sk-container-id-3 div.sk-parallel-item:last-child::after {align-self: flex-start;width: 50%;}#sk-container-id-3 div.sk-parallel-item:only-child::after {width: 0;}#sk-container-id-3 div.sk-dashed-wrapped {border: 1px dashed gray;margin: 0 0.4em 0.5em 0.4em;box-sizing: border-box;padding-bottom: 0.4em;background-color: white;}#sk-container-id-3 div.sk-label label {font-family: monospace;font-weight: bold;display: inline-block;line-height: 1.2em;}#sk-container-id-3 div.sk-label-container {text-align: center;}#sk-container-id-3 div.sk-container {/* jupyter's `normalize.less` sets `[hidden] { display: none; }` but bootstrap.min.css set `[hidden] { display: none !important; }` so we also need the `!important` here to be able to override the default hidden behavior on the sphinx rendered scikit-learn.org. See: https://github.com/scikit-learn/scikit-learn/issues/21755 */display: inline-block !important;position: relative;}#sk-container-id-3 div.sk-text-repr-fallback {display: none;}</style><div id=\"sk-container-id-3\" class=\"sk-top-container\"><div class=\"sk-text-repr-fallback\"><pre>KNeighborsClassifier(n_neighbors=43)</pre><b>In a Jupyter environment, please rerun this cell to show the HTML representation or trust the notebook. <br />On GitHub, the HTML representation is unable to render, please try loading this page with nbviewer.org.</b></div><div class=\"sk-container\" hidden><div class=\"sk-item\"><div class=\"sk-estimator sk-toggleable\"><input class=\"sk-toggleable__control sk-hidden--visually\" id=\"sk-estimator-id-5\" type=\"checkbox\" checked><label for=\"sk-estimator-id-5\" class=\"sk-toggleable__label sk-toggleable__label-arrow\">KNeighborsClassifier</label><div class=\"sk-toggleable__content\"><pre>KNeighborsClassifier(n_neighbors=43)</pre></div></div></div></div></div>"
      ],
      "text/plain": [
       "KNeighborsClassifier(n_neighbors=43)"
      ]
     },
     "execution_count": 23,
     "metadata": {},
     "output_type": "execute_result"
    }
   ],
   "source": [
    "knn = grid_cv.best_estimator_\n",
    "knn"
   ]
  },
  {
   "cell_type": "code",
   "execution_count": 24,
   "metadata": {},
   "outputs": [
    {
     "name": "stdout",
     "output_type": "stream",
     "text": [
      "XGBClassifier Accuracy:  0.7429653277897394\n"
     ]
    }
   ],
   "source": [
    "ypred_train7 = grid_cv.predict(x_train4)\n",
    "y_pred_test7 = grid_cv.predict(x_test4)\n",
    "print(\"XGBClassifier Accuracy: \",accuracy_score(y_test4, y_pred_test7))"
   ]
  },
  {
   "cell_type": "code",
   "execution_count": 25,
   "metadata": {},
   "outputs": [
    {
     "name": "stdout",
     "output_type": "stream",
     "text": [
      "Training Results\n",
      "\n",
      "              precision    recall  f1-score   support\n",
      "\n",
      "           0       0.79      0.71      0.75     20189\n",
      "           1       0.74      0.81      0.77     20218\n",
      "\n",
      "    accuracy                           0.76     40407\n",
      "   macro avg       0.76      0.76      0.76     40407\n",
      "weighted avg       0.76      0.76      0.76     40407\n",
      "\n",
      "Testing Results\n",
      "\n",
      "              precision    recall  f1-score   support\n",
      "\n",
      "           0       0.77      0.69      0.73      6749\n",
      "           1       0.72      0.80      0.76      6720\n",
      "\n",
      "    accuracy                           0.74     13469\n",
      "   macro avg       0.75      0.74      0.74     13469\n",
      "weighted avg       0.75      0.74      0.74     13469\n",
      "\n"
     ]
    }
   ],
   "source": [
    "print(\"Training Results\\n\")\n",
    "print(classification_report(y_train4, ypred_train7))\n",
    "print(\"Testing Results\\n\")\n",
    "print(classification_report(y_test4, y_pred_test7))"
   ]
  },
  {
   "cell_type": "code",
   "execution_count": 26,
   "metadata": {},
   "outputs": [
    {
     "data": {
      "image/png": "[encoded data removed]",
      "text/plain": [
       "<Figure size 640x480 with 1 Axes>"
      ]
     },
     "metadata": {},
     "output_type": "display_data"
    }
   ],
   "source": [
    "# cross_val_scores = cross_val_score(grid_cv, x_train4, y_train4, cv=5)\n",
    "# print(\"Cross-validation scores:\", cross_val_scores)\n",
    "# print(\"Average cross-validation score:\", np.mean(cross_val_scores))\n",
    "y_proba_test = grid_cv.predict_proba(x_test4)[:, 1]\n",
    "\n",
    "\n",
    "fpr, tpr, thresholds = roc_curve(y_test4, y_proba_test)\n",
    "\n",
    "\n",
    "plt.plot(fpr, tpr, label='ROC Curve')\n",
    "plt.xlabel('False Positive Rate')\n",
    "plt.ylabel('True Positive Rate')\n",
    "plt.title('ROC Curve with AUC = {:.2f}'.format(roc_auc_score(y_test4, y_proba_test)))\n",
    "plt.legend(loc='lower right')\n",
    "plt.grid(True)\n",
    "plt.show()"
   ]
  },
  {
   "cell_type": "markdown",
   "metadata": {},
   "source": [
    "## SIECI NEURONOWE"
   ]
  },
  {
   "cell_type": "markdown",
   "metadata": {},
   "source": [
    "## ANN"
   ]
  },
  {
   "cell_type": "code",
   "execution_count": 27,
   "metadata": {},
   "outputs": [
    {
     "name": "stdout",
     "output_type": "stream",
     "text": [
      "WARNING:tensorflow:From C:\\Users\\DELL\\AppData\\Roaming\\Python\\Python311\\site-packages\\keras\\src\\backend.py:873: The name tf.get_default_graph is deprecated. Please use tf.compat.v1.get_default_graph instead.\n",
      "\n"
     ]
    }
   ],
   "source": [
    "ann = tf.keras.models.Sequential()"
   ]
  },
  {
   "cell_type": "code",
   "execution_count": 28,
   "metadata": {},
   "outputs": [],
   "source": [
    "early_stop = EarlyStopping(monitor='val_loss', mode='min', verbose=1, patience=25)\n"
   ]
  },
  {
   "cell_type": "code",
   "execution_count": 29,
   "metadata": {},
   "outputs": [],
   "source": [
    "ann.add(tf.keras.layers.Dense(units=16, activation='relu'))"
   ]
  },
  {
   "cell_type": "code",
   "execution_count": 30,
   "metadata": {},
   "outputs": [],
   "source": [
    "ann.add(tf.keras.layers.Dense(units=6, activation='relu'))"
   ]
  },
  {
   "cell_type": "code",
   "execution_count": 31,
   "metadata": {},
   "outputs": [],
   "source": [
    "ann.add(tf.keras.layers.Dense(units=1, activation='sigmoid'))"
   ]
  },
  {
   "cell_type": "code",
   "execution_count": 32,
   "metadata": {},
   "outputs": [
    {
     "name": "stdout",
     "output_type": "stream",
     "text": [
      "WARNING:tensorflow:From C:\\Users\\DELL\\AppData\\Roaming\\Python\\Python311\\site-packages\\keras\\src\\optimizers\\__init__.py:309: The name tf.train.Optimizer is deprecated. Please use tf.compat.v1.train.Optimizer instead.\n",
      "\n"
     ]
    }
   ],
   "source": [
    "ann.compile(optimizer = 'adam', loss = 'binary_crossentropy', metrics = ['accuracy'])"
   ]
  },
  {
   "cell_type": "code",
   "execution_count": 33,
   "metadata": {},
   "outputs": [
    {
     "name": "stdout",
     "output_type": "stream",
     "text": [
      "Epoch 1/100\n",
      "WARNING:tensorflow:From C:\\Users\\DELL\\AppData\\Roaming\\Python\\Python311\\site-packages\\keras\\src\\utils\\tf_utils.py:492: The name tf.ragged.RaggedTensorValue is deprecated. Please use tf.compat.v1.ragged.RaggedTensorValue instead.\n",
      "\n",
      "WARNING:tensorflow:From C:\\Users\\DELL\\AppData\\Roaming\\Python\\Python311\\site-packages\\keras\\src\\engine\\base_layer_utils.py:384: The name tf.executing_eagerly_outside_functions is deprecated. Please use tf.compat.v1.executing_eagerly_outside_functions instead.\n",
      "\n",
      "1263/1263 [==============================] - 3s 2ms/step - loss: 0.5560 - accuracy: 0.7178 - val_loss: 0.5237 - val_accuracy: 0.7447\n",
      "Epoch 2/100\n",
      "1263/1263 [==============================] - 2s 2ms/step - loss: 0.5087 - accuracy: 0.7527 - val_loss: 0.5150 - val_accuracy: 0.7510\n",
      "Epoch 3/100\n",
      "1263/1263 [==============================] - 2s 2ms/step - loss: 0.5049 - accuracy: 0.7546 - val_loss: 0.5137 - val_accuracy: 0.7528\n",
      "Epoch 4/100\n",
      "1263/1263 [==============================] - 2s 2ms/step - loss: 0.5030 - accuracy: 0.7550 - val_loss: 0.5153 - val_accuracy: 0.7521\n",
      "Epoch 5/100\n",
      "1263/1263 [==============================] - 2s 2ms/step - loss: 0.5021 - accuracy: 0.7559 - val_loss: 0.5116 - val_accuracy: 0.7539\n",
      "Epoch 6/100\n",
      "1263/1263 [==============================] - 2s 2ms/step - loss: 0.5015 - accuracy: 0.7583 - val_loss: 0.5104 - val_accuracy: 0.7541\n",
      "Epoch 7/100\n",
      "1263/1263 [==============================] - 2s 1ms/step - loss: 0.5005 - accuracy: 0.7580 - val_loss: 0.5118 - val_accuracy: 0.7533\n",
      "Epoch 8/100\n",
      "1263/1263 [==============================] - 2s 1ms/step - loss: 0.5001 - accuracy: 0.7578 - val_loss: 0.5109 - val_accuracy: 0.7537\n",
      "Epoch 9/100\n",
      "1263/1263 [==============================] - 2s 1ms/step - loss: 0.4995 - accuracy: 0.7580 - val_loss: 0.5104 - val_accuracy: 0.7539\n",
      "Epoch 10/100\n",
      "1263/1263 [==============================] - 2s 2ms/step - loss: 0.4995 - accuracy: 0.7585 - val_loss: 0.5097 - val_accuracy: 0.7548\n",
      "Epoch 11/100\n",
      "1263/1263 [==============================] - 2s 1ms/step - loss: 0.4992 - accuracy: 0.7571 - val_loss: 0.5103 - val_accuracy: 0.7550\n",
      "Epoch 12/100\n",
      "1263/1263 [==============================] - 2s 1ms/step - loss: 0.4986 - accuracy: 0.7574 - val_loss: 0.5096 - val_accuracy: 0.7522\n",
      "Epoch 13/100\n",
      "1263/1263 [==============================] - 2s 1ms/step - loss: 0.4983 - accuracy: 0.7595 - val_loss: 0.5104 - val_accuracy: 0.7540\n",
      "Epoch 14/100\n",
      "1263/1263 [==============================] - 2s 1ms/step - loss: 0.4982 - accuracy: 0.7599 - val_loss: 0.5121 - val_accuracy: 0.7469\n",
      "Epoch 15/100\n",
      "1263/1263 [==============================] - 2s 1ms/step - loss: 0.4983 - accuracy: 0.7587 - val_loss: 0.5095 - val_accuracy: 0.7536\n",
      "Epoch 16/100\n",
      "1263/1263 [==============================] - 2s 1ms/step - loss: 0.4979 - accuracy: 0.7588 - val_loss: 0.5085 - val_accuracy: 0.7540\n",
      "Epoch 17/100\n",
      "1263/1263 [==============================] - 2s 1ms/step - loss: 0.4975 - accuracy: 0.7595 - val_loss: 0.5099 - val_accuracy: 0.7540\n",
      "Epoch 18/100\n",
      "1263/1263 [==============================] - 2s 1ms/step - loss: 0.4976 - accuracy: 0.7595 - val_loss: 0.5091 - val_accuracy: 0.7513\n",
      "Epoch 19/100\n",
      "1263/1263 [==============================] - 2s 1ms/step - loss: 0.4975 - accuracy: 0.7592 - val_loss: 0.5089 - val_accuracy: 0.7552\n",
      "Epoch 20/100\n",
      "1263/1263 [==============================] - 2s 1ms/step - loss: 0.4976 - accuracy: 0.7603 - val_loss: 0.5088 - val_accuracy: 0.7539\n",
      "Epoch 21/100\n",
      "1263/1263 [==============================] - 2s 1ms/step - loss: 0.4971 - accuracy: 0.7584 - val_loss: 0.5085 - val_accuracy: 0.7527\n",
      "Epoch 22/100\n",
      "1263/1263 [==============================] - 2s 1ms/step - loss: 0.4974 - accuracy: 0.7588 - val_loss: 0.5082 - val_accuracy: 0.7512\n",
      "Epoch 23/100\n",
      "1263/1263 [==============================] - 2s 1ms/step - loss: 0.4969 - accuracy: 0.7595 - val_loss: 0.5093 - val_accuracy: 0.7511\n",
      "Epoch 24/100\n",
      "1263/1263 [==============================] - 2s 1ms/step - loss: 0.4968 - accuracy: 0.7592 - val_loss: 0.5087 - val_accuracy: 0.7551\n",
      "Epoch 25/100\n",
      "1263/1263 [==============================] - 2s 1ms/step - loss: 0.4968 - accuracy: 0.7597 - val_loss: 0.5081 - val_accuracy: 0.7534\n",
      "Epoch 26/100\n",
      "1263/1263 [==============================] - 2s 1ms/step - loss: 0.4966 - accuracy: 0.7596 - val_loss: 0.5087 - val_accuracy: 0.7533\n",
      "Epoch 27/100\n",
      "1263/1263 [==============================] - 2s 2ms/step - loss: 0.4969 - accuracy: 0.7603 - val_loss: 0.5080 - val_accuracy: 0.7544\n",
      "Epoch 28/100\n",
      "1263/1263 [==============================] - 2s 2ms/step - loss: 0.4959 - accuracy: 0.7601 - val_loss: 0.5101 - val_accuracy: 0.7527\n",
      "Epoch 29/100\n",
      "1263/1263 [==============================] - 2s 1ms/step - loss: 0.4967 - accuracy: 0.7595 - val_loss: 0.5085 - val_accuracy: 0.7525\n",
      "Epoch 30/100\n",
      "1263/1263 [==============================] - 2s 1ms/step - loss: 0.4959 - accuracy: 0.7593 - val_loss: 0.5102 - val_accuracy: 0.7548\n",
      "Epoch 31/100\n",
      "1263/1263 [==============================] - 2s 1ms/step - loss: 0.4965 - accuracy: 0.7594 - val_loss: 0.5083 - val_accuracy: 0.7558\n",
      "Epoch 32/100\n",
      "1263/1263 [==============================] - 2s 1ms/step - loss: 0.4962 - accuracy: 0.7603 - val_loss: 0.5087 - val_accuracy: 0.7530\n",
      "Epoch 33/100\n",
      "1263/1263 [==============================] - 2s 1ms/step - loss: 0.4959 - accuracy: 0.7599 - val_loss: 0.5102 - val_accuracy: 0.7537\n",
      "Epoch 34/100\n",
      "1263/1263 [==============================] - 2s 1ms/step - loss: 0.4960 - accuracy: 0.7613 - val_loss: 0.5092 - val_accuracy: 0.7505\n",
      "Epoch 35/100\n",
      "1263/1263 [==============================] - 2s 1ms/step - loss: 0.4956 - accuracy: 0.7599 - val_loss: 0.5097 - val_accuracy: 0.7518\n",
      "Epoch 36/100\n",
      "1263/1263 [==============================] - 2s 1ms/step - loss: 0.4957 - accuracy: 0.7601 - val_loss: 0.5106 - val_accuracy: 0.7496\n",
      "Epoch 37/100\n",
      "1263/1263 [==============================] - 2s 1ms/step - loss: 0.4956 - accuracy: 0.7598 - val_loss: 0.5084 - val_accuracy: 0.7519\n",
      "Epoch 38/100\n",
      "1263/1263 [==============================] - 2s 1ms/step - loss: 0.4954 - accuracy: 0.7595 - val_loss: 0.5086 - val_accuracy: 0.7519\n",
      "Epoch 39/100\n",
      "1263/1263 [==============================] - 1s 1ms/step - loss: 0.4954 - accuracy: 0.7611 - val_loss: 0.5093 - val_accuracy: 0.7553\n",
      "Epoch 40/100\n",
      "1263/1263 [==============================] - 1s 1ms/step - loss: 0.4955 - accuracy: 0.7603 - val_loss: 0.5079 - val_accuracy: 0.7545\n",
      "Epoch 41/100\n",
      "1263/1263 [==============================] - 1s 1ms/step - loss: 0.4954 - accuracy: 0.7606 - val_loss: 0.5086 - val_accuracy: 0.7537\n",
      "Epoch 42/100\n",
      "1263/1263 [==============================] - 2s 1ms/step - loss: 0.4952 - accuracy: 0.7598 - val_loss: 0.5086 - val_accuracy: 0.7537\n",
      "Epoch 43/100\n",
      "1263/1263 [==============================] - 1s 1ms/step - loss: 0.4953 - accuracy: 0.7600 - val_loss: 0.5088 - val_accuracy: 0.7547\n",
      "Epoch 44/100\n",
      "1263/1263 [==============================] - 2s 1ms/step - loss: 0.4950 - accuracy: 0.7596 - val_loss: 0.5087 - val_accuracy: 0.7534\n",
      "Epoch 45/100\n",
      "1263/1263 [==============================] - 2s 1ms/step - loss: 0.4948 - accuracy: 0.7606 - val_loss: 0.5093 - val_accuracy: 0.7509\n",
      "Epoch 46/100\n",
      "1263/1263 [==============================] - 2s 1ms/step - loss: 0.4948 - accuracy: 0.7599 - val_loss: 0.5102 - val_accuracy: 0.7550\n",
      "Epoch 47/100\n",
      "1263/1263 [==============================] - 1s 1ms/step - loss: 0.4944 - accuracy: 0.7610 - val_loss: 0.5082 - val_accuracy: 0.7547\n",
      "Epoch 48/100\n",
      "1263/1263 [==============================] - 1s 1ms/step - loss: 0.4947 - accuracy: 0.7596 - val_loss: 0.5085 - val_accuracy: 0.7547\n",
      "Epoch 49/100\n",
      "1263/1263 [==============================] - 2s 1ms/step - loss: 0.4946 - accuracy: 0.7601 - val_loss: 0.5084 - val_accuracy: 0.7531\n",
      "Epoch 50/100\n",
      "1263/1263 [==============================] - 2s 1ms/step - loss: 0.4947 - accuracy: 0.7606 - val_loss: 0.5079 - val_accuracy: 0.7544\n",
      "Epoch 51/100\n",
      "1263/1263 [==============================] - 2s 1ms/step - loss: 0.4945 - accuracy: 0.7611 - val_loss: 0.5083 - val_accuracy: 0.7536\n",
      "Epoch 52/100\n",
      "1263/1263 [==============================] - 1s 1ms/step - loss: 0.4946 - accuracy: 0.7606 - val_loss: 0.5084 - val_accuracy: 0.7544\n",
      "Epoch 53/100\n",
      "1263/1263 [==============================] - 2s 1ms/step - loss: 0.4945 - accuracy: 0.7585 - val_loss: 0.5083 - val_accuracy: 0.7538\n",
      "Epoch 54/100\n",
      "1263/1263 [==============================] - 1s 1ms/step - loss: 0.4942 - accuracy: 0.7598 - val_loss: 0.5082 - val_accuracy: 0.7540\n",
      "Epoch 55/100\n",
      "1263/1263 [==============================] - 2s 1ms/step - loss: 0.4944 - accuracy: 0.7593 - val_loss: 0.5080 - val_accuracy: 0.7539\n",
      "Epoch 56/100\n",
      "1263/1263 [==============================] - 2s 1ms/step - loss: 0.4942 - accuracy: 0.7612 - val_loss: 0.5096 - val_accuracy: 0.7557\n",
      "Epoch 57/100\n",
      "1263/1263 [==============================] - 1s 1ms/step - loss: 0.4942 - accuracy: 0.7610 - val_loss: 0.5081 - val_accuracy: 0.7547\n",
      "Epoch 58/100\n",
      "1263/1263 [==============================] - 2s 1ms/step - loss: 0.4941 - accuracy: 0.7618 - val_loss: 0.5084 - val_accuracy: 0.7540\n",
      "Epoch 59/100\n",
      "1263/1263 [==============================] - 2s 1ms/step - loss: 0.4945 - accuracy: 0.7612 - val_loss: 0.5077 - val_accuracy: 0.7551\n",
      "Epoch 60/100\n",
      "1263/1263 [==============================] - 2s 1ms/step - loss: 0.4939 - accuracy: 0.7596 - val_loss: 0.5080 - val_accuracy: 0.7534\n",
      "Epoch 61/100\n",
      "1263/1263 [==============================] - 2s 1ms/step - loss: 0.4942 - accuracy: 0.7598 - val_loss: 0.5083 - val_accuracy: 0.7543\n",
      "Epoch 62/100\n",
      "1263/1263 [==============================] - 2s 1ms/step - loss: 0.4940 - accuracy: 0.7612 - val_loss: 0.5093 - val_accuracy: 0.7542\n",
      "Epoch 63/100\n",
      "1263/1263 [==============================] - 2s 1ms/step - loss: 0.4938 - accuracy: 0.7605 - val_loss: 0.5098 - val_accuracy: 0.7513\n",
      "Epoch 64/100\n",
      "1263/1263 [==============================] - 2s 1ms/step - loss: 0.4939 - accuracy: 0.7607 - val_loss: 0.5077 - val_accuracy: 0.7562\n",
      "Epoch 65/100\n",
      "1263/1263 [==============================] - 2s 1ms/step - loss: 0.4940 - accuracy: 0.7607 - val_loss: 0.5080 - val_accuracy: 0.7529\n",
      "Epoch 66/100\n",
      "1263/1263 [==============================] - 2s 1ms/step - loss: 0.4940 - accuracy: 0.7606 - val_loss: 0.5079 - val_accuracy: 0.7526\n",
      "Epoch 67/100\n",
      "1263/1263 [==============================] - 1s 1ms/step - loss: 0.4939 - accuracy: 0.7607 - val_loss: 0.5085 - val_accuracy: 0.7532\n",
      "Epoch 68/100\n",
      "1263/1263 [==============================] - 1s 1ms/step - loss: 0.4939 - accuracy: 0.7617 - val_loss: 0.5088 - val_accuracy: 0.7533\n",
      "Epoch 69/100\n",
      "1263/1263 [==============================] - 1s 1ms/step - loss: 0.4937 - accuracy: 0.7601 - val_loss: 0.5093 - val_accuracy: 0.7520\n",
      "Epoch 70/100\n",
      "1263/1263 [==============================] - 1s 1ms/step - loss: 0.4938 - accuracy: 0.7603 - val_loss: 0.5086 - val_accuracy: 0.7519\n",
      "Epoch 71/100\n",
      "1263/1263 [==============================] - 1s 1ms/step - loss: 0.4936 - accuracy: 0.7602 - val_loss: 0.5094 - val_accuracy: 0.7548\n",
      "Epoch 72/100\n",
      "1263/1263 [==============================] - 1s 1ms/step - loss: 0.4937 - accuracy: 0.7598 - val_loss: 0.5078 - val_accuracy: 0.7551\n",
      "Epoch 73/100\n",
      "1263/1263 [==============================] - 1s 1ms/step - loss: 0.4936 - accuracy: 0.7597 - val_loss: 0.5076 - val_accuracy: 0.7537\n",
      "Epoch 74/100\n",
      "1263/1263 [==============================] - 1s 1ms/step - loss: 0.4936 - accuracy: 0.7602 - val_loss: 0.5104 - val_accuracy: 0.7549\n",
      "Epoch 75/100\n",
      "1263/1263 [==============================] - 1s 1ms/step - loss: 0.4934 - accuracy: 0.7619 - val_loss: 0.5095 - val_accuracy: 0.7540\n",
      "Epoch 76/100\n",
      "1263/1263 [==============================] - 1s 1ms/step - loss: 0.4938 - accuracy: 0.7610 - val_loss: 0.5076 - val_accuracy: 0.7548\n",
      "Epoch 77/100\n",
      "1263/1263 [==============================] - 2s 1ms/step - loss: 0.4934 - accuracy: 0.7603 - val_loss: 0.5086 - val_accuracy: 0.7538\n",
      "Epoch 78/100\n",
      "1263/1263 [==============================] - 2s 1ms/step - loss: 0.4935 - accuracy: 0.7613 - val_loss: 0.5076 - val_accuracy: 0.7551\n",
      "Epoch 79/100\n",
      "1263/1263 [==============================] - 2s 1ms/step - loss: 0.4934 - accuracy: 0.7611 - val_loss: 0.5105 - val_accuracy: 0.7514\n",
      "Epoch 80/100\n",
      "1263/1263 [==============================] - 1s 1ms/step - loss: 0.4937 - accuracy: 0.7601 - val_loss: 0.5082 - val_accuracy: 0.7524\n",
      "Epoch 81/100\n",
      "1263/1263 [==============================] - 2s 1ms/step - loss: 0.4933 - accuracy: 0.7611 - val_loss: 0.5084 - val_accuracy: 0.7543\n",
      "Epoch 82/100\n",
      "1263/1263 [==============================] - 2s 1ms/step - loss: 0.4935 - accuracy: 0.7603 - val_loss: 0.5088 - val_accuracy: 0.7528\n",
      "Epoch 83/100\n",
      "1263/1263 [==============================] - 2s 1ms/step - loss: 0.4938 - accuracy: 0.7600 - val_loss: 0.5078 - val_accuracy: 0.7548\n",
      "Epoch 84/100\n",
      "1263/1263 [==============================] - 2s 1ms/step - loss: 0.4933 - accuracy: 0.7604 - val_loss: 0.5090 - val_accuracy: 0.7534\n",
      "Epoch 85/100\n",
      "1263/1263 [==============================] - 2s 1ms/step - loss: 0.4932 - accuracy: 0.7610 - val_loss: 0.5083 - val_accuracy: 0.7533\n",
      "Epoch 86/100\n",
      "1263/1263 [==============================] - 2s 1ms/step - loss: 0.4934 - accuracy: 0.7616 - val_loss: 0.5080 - val_accuracy: 0.7543\n",
      "Epoch 87/100\n",
      "1263/1263 [==============================] - 2s 1ms/step - loss: 0.4935 - accuracy: 0.7606 - val_loss: 0.5081 - val_accuracy: 0.7545\n",
      "Epoch 88/100\n",
      "1263/1263 [==============================] - 2s 1ms/step - loss: 0.4936 - accuracy: 0.7614 - val_loss: 0.5084 - val_accuracy: 0.7544\n",
      "Epoch 89/100\n",
      "1263/1263 [==============================] - 2s 1ms/step - loss: 0.4934 - accuracy: 0.7615 - val_loss: 0.5082 - val_accuracy: 0.7555\n",
      "Epoch 90/100\n",
      "1263/1263 [==============================] - 2s 1ms/step - loss: 0.4933 - accuracy: 0.7614 - val_loss: 0.5081 - val_accuracy: 0.7529\n",
      "Epoch 91/100\n",
      "1263/1263 [==============================] - 2s 1ms/step - loss: 0.4932 - accuracy: 0.7606 - val_loss: 0.5115 - val_accuracy: 0.7541\n",
      "Epoch 92/100\n",
      "1263/1263 [==============================] - 2s 1ms/step - loss: 0.4935 - accuracy: 0.7605 - val_loss: 0.5079 - val_accuracy: 0.7537\n",
      "Epoch 93/100\n",
      "1263/1263 [==============================] - 2s 1ms/step - loss: 0.4933 - accuracy: 0.7611 - val_loss: 0.5089 - val_accuracy: 0.7528\n",
      "Epoch 94/100\n",
      "1263/1263 [==============================] - 2s 1ms/step - loss: 0.4934 - accuracy: 0.7616 - val_loss: 0.5084 - val_accuracy: 0.7545\n",
      "Epoch 95/100\n",
      "1263/1263 [==============================] - 2s 1ms/step - loss: 0.4932 - accuracy: 0.7616 - val_loss: 0.5079 - val_accuracy: 0.7553\n",
      "Epoch 96/100\n",
      "1263/1263 [==============================] - 2s 1ms/step - loss: 0.4932 - accuracy: 0.7604 - val_loss: 0.5112 - val_accuracy: 0.7503\n",
      "Epoch 97/100\n",
      "1263/1263 [==============================] - 2s 1ms/step - loss: 0.4932 - accuracy: 0.7619 - val_loss: 0.5091 - val_accuracy: 0.7551\n",
      "Epoch 98/100\n",
      "1263/1263 [==============================] - 2s 1ms/step - loss: 0.4931 - accuracy: 0.7611 - val_loss: 0.5099 - val_accuracy: 0.7519\n",
      "Epoch 98: early stopping\n"
     ]
    },
    {
     "data": {
      "text/plain": [
       "<keras.src.callbacks.History at 0x249c659f590>"
      ]
     },
     "execution_count": 33,
     "metadata": {},
     "output_type": "execute_result"
    }
   ],
   "source": [
    "ann.fit(x_train4, y_train4, batch_size = 32, epochs=100,\n",
    "          validation_data=(x_test4, y_test4), verbose=1,\n",
    "          callbacks=[early_stop])"
   ]
  },
  {
   "cell_type": "code",
   "execution_count": 34,
   "metadata": {},
   "outputs": [
    {
     "name": "stdout",
     "output_type": "stream",
     "text": [
      "1263/1263 [==============================] - 1s 774us/step\n",
      "421/421 [==============================] - 0s 708us/step\n",
      "[[0 0]\n",
      " [1 1]\n",
      " [0 0]\n",
      " ...\n",
      " [1 1]\n",
      " [1 1]\n",
      " [1 1]]\n"
     ]
    }
   ],
   "source": [
    "ypred_train8 = ann.predict(x_train4)\n",
    "y_pred_test8 = ann.predict(x_test4)\n",
    "\n",
    "y_pred_test8 = (y_pred_test8 > 0.5)\n",
    "ypred_train8 = (ypred_train8 > 0.5)\n",
    "print(np.concatenate((y_pred_test8.reshape(len(y_pred_test8),1), y_test4.reshape(len(y_test4),1)),1))"
   ]
  },
  {
   "cell_type": "code",
   "execution_count": 35,
   "metadata": {},
   "outputs": [
    {
     "data": {
      "text/plain": [
       "0.751874675180043"
      ]
     },
     "execution_count": 35,
     "metadata": {},
     "output_type": "execute_result"
    }
   ],
   "source": [
    "accuracy_score(y_test4, y_pred_test8)"
   ]
  },
  {
   "cell_type": "code",
   "execution_count": 36,
   "metadata": {},
   "outputs": [
    {
     "name": "stdout",
     "output_type": "stream",
     "text": [
      "Training Results\n",
      "\n"
     ]
    },
    {
     "name": "stdout",
     "output_type": "stream",
     "text": [
      "              precision    recall  f1-score   support\n",
      "\n",
      "           0       0.77      0.74      0.76     20189\n",
      "           1       0.75      0.78      0.76     20218\n",
      "\n",
      "    accuracy                           0.76     40407\n",
      "   macro avg       0.76      0.76      0.76     40407\n",
      "weighted avg       0.76      0.76      0.76     40407\n",
      "\n",
      "Testing Results\n",
      "\n",
      "              precision    recall  f1-score   support\n",
      "\n",
      "           0       0.76      0.73      0.75      6749\n",
      "           1       0.74      0.77      0.76      6720\n",
      "\n",
      "    accuracy                           0.75     13469\n",
      "   macro avg       0.75      0.75      0.75     13469\n",
      "weighted avg       0.75      0.75      0.75     13469\n",
      "\n"
     ]
    }
   ],
   "source": [
    "print(\"Training Results\\n\")\n",
    "print(classification_report(y_train4, ypred_train8))\n",
    "print('Testing Results\\n')\n",
    "print(classification_report(y_test4, y_pred_test8))"
   ]
  },
  {
   "cell_type": "code",
   "execution_count": 37,
   "metadata": {},
   "outputs": [
    {
     "name": "stdout",
     "output_type": "stream",
     "text": [
      "421/421 [==============================] - 0s 805us/step\n"
     ]
    },
    {
     "data": {
      "image/png": "[encoded data removed]",
      "text/plain": [
       "<Figure size 640x480 with 1 Axes>"
      ]
     },
     "metadata": {},
     "output_type": "display_data"
    }
   ],
   "source": [
    "# cross_val_scores = cross_val_score(ann, x_train4, y_train4, cv=5)\n",
    "# print(\"Cross-validation scores:\", cross_val_scores)\n",
    "# print(\"Average cross-validation score:\", np.mean(cross_val_scores))\n",
    "y_proba_test = ann.predict(x_test4).flatten()\n",
    "\n",
    "\n",
    "fpr, tpr, thresholds = roc_curve(y_test4, y_proba_test)\n",
    "\n",
    "\n",
    "plt.plot(fpr, tpr, label='ROC Curve')\n",
    "plt.xlabel('False Positive Rate')\n",
    "plt.ylabel('True Positive Rate')\n",
    "plt.title('ROC Curve with AUC = {:.2f}'.format(roc_auc_score(y_test4, y_proba_test)))\n",
    "plt.legend(loc='lower right')\n",
    "plt.grid(True)\n",
    "plt.show()"
   ]
  },
  {
   "cell_type": "markdown",
   "metadata": {},
   "source": [
    "## inna proba "
   ]
  },
  {
   "cell_type": "code",
   "execution_count": 38,
   "metadata": {},
   "outputs": [
    {
     "name": "stderr",
     "output_type": "stream",
     "text": [
      "WARNING:absl:`lr` is deprecated in Keras optimizer, please use `learning_rate` or use the legacy optimizer, e.g.,tf.keras.optimizers.legacy.Adam.\n"
     ]
    },
    {
     "name": "stdout",
     "output_type": "stream",
     "text": [
      "Epoch 1/100\n",
      "1263/1263 [==============================] - 2s 1ms/step - loss: 0.5366 - accuracy: 0.7294\n",
      "Epoch 2/100\n",
      "1263/1263 [==============================] - 1s 1ms/step - loss: 0.5052 - accuracy: 0.7529\n",
      "Epoch 3/100\n",
      "1263/1263 [==============================] - 1s 1ms/step - loss: 0.5029 - accuracy: 0.7567\n",
      "Epoch 4/100\n",
      "1263/1263 [==============================] - 1s 1ms/step - loss: 0.5017 - accuracy: 0.7561\n",
      "Epoch 5/100\n",
      "1263/1263 [==============================] - 1s 1ms/step - loss: 0.5011 - accuracy: 0.7569\n",
      "Epoch 6/100\n",
      "1263/1263 [==============================] - 1s 1ms/step - loss: 0.4997 - accuracy: 0.7582\n",
      "Epoch 7/100\n",
      "1263/1263 [==============================] - 1s 1ms/step - loss: 0.4998 - accuracy: 0.7584\n",
      "Epoch 8/100\n",
      "1263/1263 [==============================] - 1s 985us/step - loss: 0.4987 - accuracy: 0.7587\n",
      "Epoch 9/100\n",
      "1263/1263 [==============================] - 1s 986us/step - loss: 0.4987 - accuracy: 0.7592\n",
      "Epoch 10/100\n",
      "1263/1263 [==============================] - 1s 983us/step - loss: 0.4980 - accuracy: 0.7593\n",
      "Epoch 11/100\n",
      "1263/1263 [==============================] - 1s 1ms/step - loss: 0.4978 - accuracy: 0.7588\n",
      "Epoch 12/100\n",
      "1263/1263 [==============================] - 1s 1ms/step - loss: 0.4976 - accuracy: 0.7589\n",
      "Epoch 13/100\n",
      "1263/1263 [==============================] - 1s 981us/step - loss: 0.4971 - accuracy: 0.7587\n",
      "Epoch 14/100\n",
      "1263/1263 [==============================] - 1s 1ms/step - loss: 0.4970 - accuracy: 0.7604\n",
      "Epoch 15/100\n",
      "1263/1263 [==============================] - 1s 994us/step - loss: 0.4966 - accuracy: 0.7600\n",
      "Epoch 16/100\n",
      "1263/1263 [==============================] - 1s 1ms/step - loss: 0.4965 - accuracy: 0.7585\n",
      "Epoch 17/100\n",
      "1263/1263 [==============================] - 1s 988us/step - loss: 0.4963 - accuracy: 0.7602\n",
      "Epoch 18/100\n",
      "1263/1263 [==============================] - 1s 1ms/step - loss: 0.4961 - accuracy: 0.7603\n",
      "Epoch 19/100\n",
      "1263/1263 [==============================] - 1s 1ms/step - loss: 0.4954 - accuracy: 0.7607\n",
      "Epoch 20/100\n",
      "1263/1263 [==============================] - 1s 974us/step - loss: 0.4959 - accuracy: 0.7594\n",
      "Epoch 21/100\n",
      "1263/1263 [==============================] - 1s 984us/step - loss: 0.4955 - accuracy: 0.7592\n",
      "Epoch 22/100\n",
      "1263/1263 [==============================] - 1s 960us/step - loss: 0.4952 - accuracy: 0.7610\n",
      "Epoch 23/100\n",
      "1263/1263 [==============================] - 1s 969us/step - loss: 0.4951 - accuracy: 0.7602\n",
      "Epoch 24/100\n",
      "1263/1263 [==============================] - 1s 971us/step - loss: 0.4945 - accuracy: 0.7623\n",
      "Epoch 25/100\n",
      "1263/1263 [==============================] - 1s 956us/step - loss: 0.4947 - accuracy: 0.7613\n",
      "Epoch 26/100\n",
      "1263/1263 [==============================] - 1s 973us/step - loss: 0.4946 - accuracy: 0.7608\n",
      "Epoch 27/100\n",
      "1263/1263 [==============================] - 1s 967us/step - loss: 0.4940 - accuracy: 0.7619\n",
      "Epoch 28/100\n",
      "1263/1263 [==============================] - 1s 971us/step - loss: 0.4942 - accuracy: 0.7610\n",
      "Epoch 29/100\n",
      "1263/1263 [==============================] - 1s 978us/step - loss: 0.4941 - accuracy: 0.7621\n",
      "Epoch 30/100\n",
      "1263/1263 [==============================] - 1s 957us/step - loss: 0.4943 - accuracy: 0.7619\n",
      "Epoch 31/100\n",
      "1263/1263 [==============================] - 1s 973us/step - loss: 0.4940 - accuracy: 0.7613\n",
      "Epoch 32/100\n",
      "1263/1263 [==============================] - 1s 1ms/step - loss: 0.4939 - accuracy: 0.7617\n",
      "Epoch 33/100\n",
      "1263/1263 [==============================] - 1s 1ms/step - loss: 0.4936 - accuracy: 0.7610\n",
      "Epoch 34/100\n",
      "1263/1263 [==============================] - 1s 1ms/step - loss: 0.4934 - accuracy: 0.7614\n",
      "Epoch 35/100\n",
      "1263/1263 [==============================] - 1s 1ms/step - loss: 0.4931 - accuracy: 0.7622\n",
      "Epoch 36/100\n",
      "1263/1263 [==============================] - 1s 1ms/step - loss: 0.4930 - accuracy: 0.7623\n",
      "Epoch 37/100\n",
      "1263/1263 [==============================] - 1s 1ms/step - loss: 0.4929 - accuracy: 0.7608\n",
      "Epoch 38/100\n",
      "1263/1263 [==============================] - 1s 1ms/step - loss: 0.4928 - accuracy: 0.7633\n",
      "Epoch 39/100\n",
      "1263/1263 [==============================] - 1s 1ms/step - loss: 0.4924 - accuracy: 0.7610\n",
      "Epoch 40/100\n",
      "1263/1263 [==============================] - 1s 983us/step - loss: 0.4925 - accuracy: 0.7620\n",
      "Epoch 41/100\n",
      "1263/1263 [==============================] - 1s 1ms/step - loss: 0.4924 - accuracy: 0.7619\n",
      "Epoch 42/100\n",
      "1263/1263 [==============================] - 1s 1ms/step - loss: 0.4920 - accuracy: 0.7616\n",
      "Epoch 43/100\n",
      "1263/1263 [==============================] - 1s 1ms/step - loss: 0.4916 - accuracy: 0.7644\n",
      "Epoch 44/100\n",
      "1263/1263 [==============================] - 1s 974us/step - loss: 0.4924 - accuracy: 0.7624\n",
      "Epoch 45/100\n",
      "1263/1263 [==============================] - 1s 990us/step - loss: 0.4916 - accuracy: 0.7631\n",
      "Epoch 46/100\n",
      "1263/1263 [==============================] - 1s 992us/step - loss: 0.4921 - accuracy: 0.7632\n",
      "Epoch 47/100\n",
      "1263/1263 [==============================] - 1s 1ms/step - loss: 0.4912 - accuracy: 0.7636\n",
      "Epoch 48/100\n",
      "1263/1263 [==============================] - 1s 1ms/step - loss: 0.4917 - accuracy: 0.7638\n",
      "Epoch 49/100\n",
      "1263/1263 [==============================] - 1s 1ms/step - loss: 0.4908 - accuracy: 0.7632\n",
      "Epoch 50/100\n",
      "1263/1263 [==============================] - 1s 951us/step - loss: 0.4911 - accuracy: 0.7636\n",
      "Epoch 51/100\n",
      "1263/1263 [==============================] - 1s 969us/step - loss: 0.4909 - accuracy: 0.7627\n",
      "Epoch 52/100\n",
      "1263/1263 [==============================] - 1s 958us/step - loss: 0.4907 - accuracy: 0.7632\n",
      "Epoch 53/100\n",
      "1263/1263 [==============================] - 1s 1ms/step - loss: 0.4907 - accuracy: 0.7629\n",
      "Epoch 54/100\n",
      "1263/1263 [==============================] - 1s 1ms/step - loss: 0.4902 - accuracy: 0.7630\n",
      "Epoch 55/100\n",
      "1263/1263 [==============================] - 1s 1ms/step - loss: 0.4902 - accuracy: 0.7633\n",
      "Epoch 56/100\n",
      "1263/1263 [==============================] - 1s 1ms/step - loss: 0.4904 - accuracy: 0.7641\n",
      "Epoch 57/100\n",
      "1263/1263 [==============================] - 1s 1ms/step - loss: 0.4903 - accuracy: 0.7626\n",
      "Epoch 58/100\n",
      "1263/1263 [==============================] - 1s 989us/step - loss: 0.4895 - accuracy: 0.7637\n",
      "Epoch 59/100\n",
      "1263/1263 [==============================] - 1s 1ms/step - loss: 0.4896 - accuracy: 0.7632\n",
      "Epoch 60/100\n",
      "1263/1263 [==============================] - 1s 985us/step - loss: 0.4903 - accuracy: 0.7631\n",
      "Epoch 61/100\n",
      "1263/1263 [==============================] - 1s 971us/step - loss: 0.4896 - accuracy: 0.7636\n",
      "Epoch 62/100\n",
      "1263/1263 [==============================] - 1s 941us/step - loss: 0.4896 - accuracy: 0.7642\n",
      "Epoch 63/100\n",
      "1263/1263 [==============================] - 1s 960us/step - loss: 0.4894 - accuracy: 0.7639\n",
      "Epoch 64/100\n",
      "1263/1263 [==============================] - 1s 991us/step - loss: 0.4896 - accuracy: 0.7631\n",
      "Epoch 65/100\n",
      "1263/1263 [==============================] - 1s 964us/step - loss: 0.4895 - accuracy: 0.7637\n",
      "Epoch 66/100\n",
      "1263/1263 [==============================] - 1s 960us/step - loss: 0.4891 - accuracy: 0.7643\n",
      "Epoch 67/100\n",
      "1263/1263 [==============================] - 1s 997us/step - loss: 0.4893 - accuracy: 0.7637\n",
      "Epoch 68/100\n",
      "1263/1263 [==============================] - 1s 1ms/step - loss: 0.4889 - accuracy: 0.7649\n",
      "Epoch 69/100\n",
      "1263/1263 [==============================] - 1s 1ms/step - loss: 0.4889 - accuracy: 0.7660\n",
      "Epoch 70/100\n",
      "1263/1263 [==============================] - 1s 996us/step - loss: 0.4883 - accuracy: 0.7648\n",
      "Epoch 71/100\n",
      "1263/1263 [==============================] - 1s 1ms/step - loss: 0.4885 - accuracy: 0.7652\n",
      "Epoch 72/100\n",
      "1263/1263 [==============================] - 1s 1ms/step - loss: 0.4886 - accuracy: 0.7642\n",
      "Epoch 73/100\n",
      "1263/1263 [==============================] - 1s 1ms/step - loss: 0.4884 - accuracy: 0.7651\n",
      "Epoch 74/100\n",
      "1263/1263 [==============================] - 1s 1ms/step - loss: 0.4881 - accuracy: 0.7656\n",
      "Epoch 75/100\n",
      "1263/1263 [==============================] - 1s 1ms/step - loss: 0.4881 - accuracy: 0.7645\n",
      "Epoch 76/100\n",
      "1263/1263 [==============================] - 1s 1ms/step - loss: 0.4882 - accuracy: 0.7648\n",
      "Epoch 77/100\n",
      "1263/1263 [==============================] - 1s 1ms/step - loss: 0.4879 - accuracy: 0.7658\n",
      "Epoch 78/100\n",
      "1263/1263 [==============================] - 1s 1ms/step - loss: 0.4880 - accuracy: 0.7643\n",
      "Epoch 79/100\n",
      "1263/1263 [==============================] - 1s 1ms/step - loss: 0.4876 - accuracy: 0.7640\n",
      "Epoch 80/100\n",
      "1263/1263 [==============================] - 1s 1ms/step - loss: 0.4872 - accuracy: 0.7650\n",
      "Epoch 81/100\n",
      "1263/1263 [==============================] - 1s 1ms/step - loss: 0.4874 - accuracy: 0.7654\n",
      "Epoch 82/100\n",
      "1263/1263 [==============================] - 1s 1ms/step - loss: 0.4874 - accuracy: 0.7652\n",
      "Epoch 83/100\n",
      "1263/1263 [==============================] - 1s 1ms/step - loss: 0.4872 - accuracy: 0.7659\n",
      "Epoch 84/100\n",
      "1263/1263 [==============================] - 1s 1ms/step - loss: 0.4870 - accuracy: 0.7653\n",
      "Epoch 85/100\n",
      "1263/1263 [==============================] - 1s 988us/step - loss: 0.4871 - accuracy: 0.7651\n",
      "Epoch 86/100\n",
      "1263/1263 [==============================] - 1s 1ms/step - loss: 0.4868 - accuracy: 0.7654\n",
      "Epoch 87/100\n",
      "1263/1263 [==============================] - 1s 1ms/step - loss: 0.4867 - accuracy: 0.7661\n",
      "Epoch 88/100\n",
      "1263/1263 [==============================] - 1s 957us/step - loss: 0.4867 - accuracy: 0.7657\n",
      "Epoch 89/100\n",
      "1263/1263 [==============================] - 1s 1ms/step - loss: 0.4864 - accuracy: 0.7665\n",
      "Epoch 90/100\n",
      "1263/1263 [==============================] - 1s 1ms/step - loss: 0.4865 - accuracy: 0.7656\n",
      "Epoch 91/100\n",
      "1263/1263 [==============================] - 1s 1ms/step - loss: 0.4860 - accuracy: 0.7657\n",
      "Epoch 92/100\n",
      "1263/1263 [==============================] - 1s 1ms/step - loss: 0.4865 - accuracy: 0.7668\n",
      "Epoch 93/100\n",
      "1263/1263 [==============================] - 1s 1ms/step - loss: 0.4862 - accuracy: 0.7656\n",
      "Epoch 94/100\n",
      "1263/1263 [==============================] - 1s 1ms/step - loss: 0.4859 - accuracy: 0.7653\n",
      "Epoch 95/100\n",
      "1263/1263 [==============================] - 1s 975us/step - loss: 0.4858 - accuracy: 0.7669\n",
      "Epoch 96/100\n",
      "1263/1263 [==============================] - 1s 983us/step - loss: 0.4859 - accuracy: 0.7666\n",
      "Epoch 97/100\n",
      "1263/1263 [==============================] - 1s 982us/step - loss: 0.4855 - accuracy: 0.7664\n",
      "Epoch 98/100\n",
      "1263/1263 [==============================] - 1s 1ms/step - loss: 0.4854 - accuracy: 0.7656\n",
      "Epoch 99/100\n",
      "1263/1263 [==============================] - 1s 977us/step - loss: 0.4856 - accuracy: 0.7666\n",
      "Epoch 100/100\n",
      "1263/1263 [==============================] - 1s 1ms/step - loss: 0.4854 - accuracy: 0.7657\n"
     ]
    }
   ],
   "source": [
    "\n",
    "tf.random.set_seed(42)\n",
    "\n",
    "\n",
    "model2 = tf.keras.Sequential([\n",
    "  tf.keras.layers.Dense(16,activation = 'relu'),\n",
    "  tf.keras.layers.Dense(32,activation = 'relu'),\n",
    "  tf.keras.layers.Dense(16,activation = 'relu'),\n",
    "  tf.keras.layers.Dense(9,activation = 'relu'),\n",
    "  tf.keras.layers.Dense(1,activation = 'sigmoid')                            \n",
    "])\n",
    "\n",
    "\n",
    "model2.compile(loss = 'binary_crossentropy',\n",
    "                optimizer = tf.keras.optimizers.Adam(lr=0.001),\n",
    "                metrics = ['accuracy'])\n",
    "\n",
    "\n",
    "history_2 = model2.fit(x_train4,y_train4,epochs = 100)"
   ]
  },
  {
   "cell_type": "code",
   "execution_count": 39,
   "metadata": {},
   "outputs": [
    {
     "name": "stdout",
     "output_type": "stream",
     "text": [
      "421/421 [==============================] - 0s 800us/step - loss: 0.5160 - accuracy: 0.7521\n"
     ]
    },
    {
     "data": {
      "text/plain": [
       "[0.5160095691680908, 0.7520974278450012]"
      ]
     },
     "execution_count": 39,
     "metadata": {},
     "output_type": "execute_result"
    }
   ],
   "source": [
    "model2.evaluate(x_test4,y_test4)"
   ]
  },
  {
   "cell_type": "code",
   "execution_count": 40,
   "metadata": {},
   "outputs": [
    {
     "name": "stdout",
     "output_type": "stream",
     "text": [
      "1263/1263 [==============================] - 1s 847us/step\n",
      "421/421 [==============================] - 0s 755us/step\n",
      "Training Results\n",
      "\n",
      "              precision    recall  f1-score   support\n",
      "\n",
      "           0       0.79      0.73      0.76     20189\n",
      "           1       0.75      0.81      0.78     20218\n",
      "\n",
      "    accuracy                           0.77     40407\n",
      "   macro avg       0.77      0.77      0.77     40407\n",
      "weighted avg       0.77      0.77      0.77     40407\n",
      "\n",
      "Testing Results\n",
      "\n",
      "              precision    recall  f1-score   support\n",
      "\n",
      "           0       0.78      0.71      0.74      6749\n",
      "           1       0.73      0.79      0.76      6720\n",
      "\n",
      "    accuracy                           0.75     13469\n",
      "   macro avg       0.75      0.75      0.75     13469\n",
      "weighted avg       0.75      0.75      0.75     13469\n",
      "\n"
     ]
    }
   ],
   "source": [
    "ypred_train22 = model2.predict(x_train4)\n",
    "y_pred_test22 = model2.predict(x_test4)\n",
    "\n",
    "y_pred_test22 = (y_pred_test22 > 0.5)\n",
    "ypred_train22 = (ypred_train22 > 0.5)\n",
    "print(\"Training Results\\n\")\n",
    "print(classification_report(y_train4,ypred_train22))\n",
    "print(\"Testing Results\\n\")\n",
    "print(classification_report(y_test4,y_pred_test22))"
   ]
  },
  {
   "cell_type": "code",
   "execution_count": 41,
   "metadata": {},
   "outputs": [
    {
     "name": "stdout",
     "output_type": "stream",
     "text": [
      "421/421 [==============================] - 0s 827us/step\n"
     ]
    },
    {
     "data": {
      "image/png": "[encoded data removed]",
      "text/plain": [
       "<Figure size 640x480 with 1 Axes>"
      ]
     },
     "metadata": {},
     "output_type": "display_data"
    }
   ],
   "source": [
    "# cross_val_scores = cross_val_score(model_22, x_train4, y_train4, cv=5)\n",
    "# print(\"Cross-validation scores:\", cross_val_scores)\n",
    "# print(\"Average cross-validation score:\", np.mean(cross_val_scores))\n",
    "y_proba_test = model2.predict(x_test4).flatten()\n",
    "\n",
    "\n",
    "fpr, tpr, thresholds = roc_curve(y_test4, y_proba_test)\n",
    "\n",
    "\n",
    "plt.plot(fpr, tpr, label='ROC Curve')\n",
    "plt.xlabel('False Positive Rate')\n",
    "plt.ylabel('True Positive Rate')\n",
    "plt.title('ROC Curve with AUC = {:.2f}'.format(roc_auc_score(y_test4, y_proba_test)))\n",
    "plt.legend(loc='lower right')\n",
    "plt.grid(True)\n",
    "plt.show()"
   ]
  },
  {
   "cell_type": "markdown",
   "metadata": {},
   "source": [
    "## inne próby sieci neuronowych "
   ]
  },
  {
   "cell_type": "code",
   "execution_count": 42,
   "metadata": {},
   "outputs": [
    {
     "name": "stderr",
     "output_type": "stream",
     "text": [
      "WARNING:absl:`lr` is deprecated in Keras optimizer, please use `learning_rate` or use the legacy optimizer, e.g.,tf.keras.optimizers.legacy.Adam.\n"
     ]
    },
    {
     "name": "stdout",
     "output_type": "stream",
     "text": [
      "Epoch 1/100\n",
      "1263/1263 [==============================] - 2s 962us/step - loss: 0.5687 - accuracy: 0.7089\n",
      "Epoch 2/100\n",
      "1263/1263 [==============================] - 1s 1ms/step - loss: 0.5059 - accuracy: 0.7532\n",
      "Epoch 3/100\n",
      "1263/1263 [==============================] - 1s 1ms/step - loss: 0.5033 - accuracy: 0.7550\n",
      "Epoch 4/100\n",
      "1263/1263 [==============================] - 1s 1ms/step - loss: 0.5022 - accuracy: 0.7548\n",
      "Epoch 5/100\n",
      "1263/1263 [==============================] - 1s 1ms/step - loss: 0.5017 - accuracy: 0.7573\n",
      "Epoch 6/100\n",
      "1263/1263 [==============================] - 1s 1ms/step - loss: 0.5007 - accuracy: 0.7559\n",
      "Epoch 7/100\n",
      "1263/1263 [==============================] - 1s 1ms/step - loss: 0.5006 - accuracy: 0.7566\n",
      "Epoch 8/100\n",
      "1263/1263 [==============================] - 1s 957us/step - loss: 0.4999 - accuracy: 0.7570\n",
      "Epoch 9/100\n",
      "1263/1263 [==============================] - 1s 971us/step - loss: 0.4999 - accuracy: 0.7569\n",
      "Epoch 10/100\n",
      "1263/1263 [==============================] - 1s 990us/step - loss: 0.4992 - accuracy: 0.7576\n",
      "Epoch 11/100\n",
      "1263/1263 [==============================] - 1s 1ms/step - loss: 0.4992 - accuracy: 0.7568\n",
      "Epoch 12/100\n",
      "1263/1263 [==============================] - 1s 1ms/step - loss: 0.4991 - accuracy: 0.7577\n",
      "Epoch 13/100\n",
      "1263/1263 [==============================] - 1s 1ms/step - loss: 0.4987 - accuracy: 0.7586\n",
      "Epoch 14/100\n",
      "1263/1263 [==============================] - 1s 1ms/step - loss: 0.4986 - accuracy: 0.7585\n",
      "Epoch 15/100\n",
      "1263/1263 [==============================] - 1s 1ms/step - loss: 0.4984 - accuracy: 0.7594\n",
      "Epoch 16/100\n",
      "1263/1263 [==============================] - 2s 1ms/step - loss: 0.4984 - accuracy: 0.7571\n",
      "Epoch 17/100\n",
      "1263/1263 [==============================] - 2s 1ms/step - loss: 0.4982 - accuracy: 0.7565\n",
      "Epoch 18/100\n",
      "1263/1263 [==============================] - 2s 1ms/step - loss: 0.4980 - accuracy: 0.7595\n",
      "Epoch 19/100\n",
      "1263/1263 [==============================] - 1s 1ms/step - loss: 0.4976 - accuracy: 0.7591\n",
      "Epoch 20/100\n",
      "1263/1263 [==============================] - 1s 1ms/step - loss: 0.4982 - accuracy: 0.7571\n",
      "Epoch 21/100\n",
      "1263/1263 [==============================] - 1s 952us/step - loss: 0.4976 - accuracy: 0.7582\n",
      "Epoch 22/100\n",
      "1263/1263 [==============================] - 1s 1ms/step - loss: 0.4973 - accuracy: 0.7587\n",
      "Epoch 23/100\n",
      "1263/1263 [==============================] - 1s 1ms/step - loss: 0.4973 - accuracy: 0.7570\n",
      "Epoch 24/100\n",
      "1263/1263 [==============================] - 1s 996us/step - loss: 0.4972 - accuracy: 0.7593\n",
      "Epoch 25/100\n",
      "1263/1263 [==============================] - 2s 1ms/step - loss: 0.4971 - accuracy: 0.7585\n",
      "Epoch 26/100\n",
      "1263/1263 [==============================] - 2s 1ms/step - loss: 0.4970 - accuracy: 0.7578\n",
      "Epoch 27/100\n",
      "1263/1263 [==============================] - 2s 1ms/step - loss: 0.4967 - accuracy: 0.7586\n",
      "Epoch 28/100\n",
      "1263/1263 [==============================] - 1s 1ms/step - loss: 0.4966 - accuracy: 0.7582\n",
      "Epoch 29/100\n",
      "1263/1263 [==============================] - 1s 880us/step - loss: 0.4968 - accuracy: 0.7595\n",
      "Epoch 30/100\n",
      "1263/1263 [==============================] - 1s 891us/step - loss: 0.4970 - accuracy: 0.7596\n",
      "Epoch 31/100\n",
      "1263/1263 [==============================] - 1s 1ms/step - loss: 0.4969 - accuracy: 0.7585\n",
      "Epoch 32/100\n",
      "1263/1263 [==============================] - 1s 1ms/step - loss: 0.4965 - accuracy: 0.7586\n",
      "Epoch 33/100\n",
      "1263/1263 [==============================] - 1s 1ms/step - loss: 0.4965 - accuracy: 0.7590\n",
      "Epoch 34/100\n",
      "1263/1263 [==============================] - 1s 1ms/step - loss: 0.4965 - accuracy: 0.7578\n",
      "Epoch 35/100\n",
      "1263/1263 [==============================] - 1s 953us/step - loss: 0.4963 - accuracy: 0.7595\n",
      "Epoch 36/100\n",
      "1263/1263 [==============================] - 1s 1ms/step - loss: 0.4963 - accuracy: 0.7590\n",
      "Epoch 37/100\n",
      "1263/1263 [==============================] - 2s 1ms/step - loss: 0.4960 - accuracy: 0.7586\n",
      "Epoch 38/100\n",
      "1263/1263 [==============================] - 1s 1ms/step - loss: 0.4961 - accuracy: 0.7590\n",
      "Epoch 39/100\n",
      "1263/1263 [==============================] - 1s 1ms/step - loss: 0.4961 - accuracy: 0.7588\n",
      "Epoch 40/100\n",
      "1263/1263 [==============================] - 1s 1ms/step - loss: 0.4962 - accuracy: 0.7591\n",
      "Epoch 41/100\n",
      "1263/1263 [==============================] - 1s 965us/step - loss: 0.4958 - accuracy: 0.7593\n",
      "Epoch 42/100\n",
      "1263/1263 [==============================] - 1s 1ms/step - loss: 0.4956 - accuracy: 0.7594\n",
      "Epoch 43/100\n",
      "1263/1263 [==============================] - 1s 1ms/step - loss: 0.4956 - accuracy: 0.7610\n",
      "Epoch 44/100\n",
      "1263/1263 [==============================] - 2s 1ms/step - loss: 0.4959 - accuracy: 0.7603\n",
      "Epoch 45/100\n",
      "1263/1263 [==============================] - 1s 1ms/step - loss: 0.4955 - accuracy: 0.7599\n",
      "Epoch 46/100\n",
      "1263/1263 [==============================] - 1s 1ms/step - loss: 0.4958 - accuracy: 0.7597\n",
      "Epoch 47/100\n",
      "1263/1263 [==============================] - 1s 1ms/step - loss: 0.4954 - accuracy: 0.7602\n",
      "Epoch 48/100\n",
      "1263/1263 [==============================] - 1s 1ms/step - loss: 0.4956 - accuracy: 0.7601\n",
      "Epoch 49/100\n",
      "1263/1263 [==============================] - 1s 1ms/step - loss: 0.4951 - accuracy: 0.7595\n",
      "Epoch 50/100\n",
      "1263/1263 [==============================] - 1s 1ms/step - loss: 0.4954 - accuracy: 0.7595\n",
      "Epoch 51/100\n",
      "1263/1263 [==============================] - 1s 1ms/step - loss: 0.4952 - accuracy: 0.7592\n",
      "Epoch 52/100\n",
      "1263/1263 [==============================] - 1s 1ms/step - loss: 0.4954 - accuracy: 0.7594\n",
      "Epoch 53/100\n",
      "1263/1263 [==============================] - 1s 1ms/step - loss: 0.4955 - accuracy: 0.7594\n",
      "Epoch 54/100\n",
      "1263/1263 [==============================] - 1s 1ms/step - loss: 0.4951 - accuracy: 0.7598\n",
      "Epoch 55/100\n",
      "1263/1263 [==============================] - 1s 1ms/step - loss: 0.4951 - accuracy: 0.7588\n",
      "Epoch 56/100\n",
      "1263/1263 [==============================] - 2s 1ms/step - loss: 0.4952 - accuracy: 0.7597\n",
      "Epoch 57/100\n",
      "1263/1263 [==============================] - 2s 1ms/step - loss: 0.4952 - accuracy: 0.7601\n",
      "Epoch 58/100\n",
      "1263/1263 [==============================] - 1s 1ms/step - loss: 0.4950 - accuracy: 0.7596\n",
      "Epoch 59/100\n",
      "1263/1263 [==============================] - 2s 1ms/step - loss: 0.4949 - accuracy: 0.7585\n",
      "Epoch 60/100\n",
      "1263/1263 [==============================] - 2s 1ms/step - loss: 0.4954 - accuracy: 0.7586\n",
      "Epoch 61/100\n",
      "1263/1263 [==============================] - 1s 1ms/step - loss: 0.4952 - accuracy: 0.7588\n",
      "Epoch 62/100\n",
      "1263/1263 [==============================] - 1s 1ms/step - loss: 0.4951 - accuracy: 0.7600\n",
      "Epoch 63/100\n",
      "1263/1263 [==============================] - 1s 1ms/step - loss: 0.4950 - accuracy: 0.7602\n",
      "Epoch 64/100\n",
      "1263/1263 [==============================] - 2s 1ms/step - loss: 0.4950 - accuracy: 0.7593\n",
      "Epoch 65/100\n",
      "1263/1263 [==============================] - 1s 1ms/step - loss: 0.4951 - accuracy: 0.7592\n",
      "Epoch 66/100\n",
      "1263/1263 [==============================] - 2s 1ms/step - loss: 0.4949 - accuracy: 0.7596\n",
      "Epoch 67/100\n",
      "1263/1263 [==============================] - 1s 1ms/step - loss: 0.4948 - accuracy: 0.7587\n",
      "Epoch 68/100\n",
      "1263/1263 [==============================] - 2s 1ms/step - loss: 0.4949 - accuracy: 0.7597\n",
      "Epoch 69/100\n",
      "1263/1263 [==============================] - 2s 1ms/step - loss: 0.4947 - accuracy: 0.7603\n",
      "Epoch 70/100\n",
      "1263/1263 [==============================] - 2s 1ms/step - loss: 0.4944 - accuracy: 0.7584\n",
      "Epoch 71/100\n",
      "1263/1263 [==============================] - 2s 1ms/step - loss: 0.4946 - accuracy: 0.7597\n",
      "Epoch 72/100\n",
      "1263/1263 [==============================] - 2s 1ms/step - loss: 0.4947 - accuracy: 0.7596\n",
      "Epoch 73/100\n",
      "1263/1263 [==============================] - 1s 1ms/step - loss: 0.4948 - accuracy: 0.7595\n",
      "Epoch 74/100\n",
      "1263/1263 [==============================] - 1s 1ms/step - loss: 0.4945 - accuracy: 0.7597\n",
      "Epoch 75/100\n",
      "1263/1263 [==============================] - 2s 1ms/step - loss: 0.4945 - accuracy: 0.7606\n",
      "Epoch 76/100\n",
      "1263/1263 [==============================] - 2s 1ms/step - loss: 0.4946 - accuracy: 0.7606\n",
      "Epoch 77/100\n",
      "1263/1263 [==============================] - 2s 1ms/step - loss: 0.4946 - accuracy: 0.7604\n",
      "Epoch 78/100\n",
      "1263/1263 [==============================] - 1s 1ms/step - loss: 0.4945 - accuracy: 0.7596\n",
      "Epoch 79/100\n",
      "1263/1263 [==============================] - 1s 1ms/step - loss: 0.4943 - accuracy: 0.7607\n",
      "Epoch 80/100\n",
      "1263/1263 [==============================] - 1s 1ms/step - loss: 0.4945 - accuracy: 0.7593\n",
      "Epoch 81/100\n",
      "1263/1263 [==============================] - 1s 1ms/step - loss: 0.4943 - accuracy: 0.7610\n",
      "Epoch 82/100\n",
      "1263/1263 [==============================] - 1s 1ms/step - loss: 0.4945 - accuracy: 0.7609\n",
      "Epoch 83/100\n",
      "1263/1263 [==============================] - 1s 1ms/step - loss: 0.4945 - accuracy: 0.7605\n",
      "Epoch 84/100\n",
      "1263/1263 [==============================] - 1s 1ms/step - loss: 0.4943 - accuracy: 0.7610\n",
      "Epoch 85/100\n",
      "1263/1263 [==============================] - 1s 1ms/step - loss: 0.4941 - accuracy: 0.7599\n",
      "Epoch 86/100\n",
      "1263/1263 [==============================] - 2s 1ms/step - loss: 0.4943 - accuracy: 0.7592\n",
      "Epoch 87/100\n",
      "1263/1263 [==============================] - 2s 1ms/step - loss: 0.4942 - accuracy: 0.7609\n",
      "Epoch 88/100\n",
      "1263/1263 [==============================] - 2s 1ms/step - loss: 0.4943 - accuracy: 0.7601\n",
      "Epoch 89/100\n",
      "1263/1263 [==============================] - 1s 1ms/step - loss: 0.4942 - accuracy: 0.7596\n",
      "Epoch 90/100\n",
      "1263/1263 [==============================] - 1s 1ms/step - loss: 0.4942 - accuracy: 0.7595\n",
      "Epoch 91/100\n",
      "1263/1263 [==============================] - 1s 1ms/step - loss: 0.4939 - accuracy: 0.7611\n",
      "Epoch 92/100\n",
      "1263/1263 [==============================] - 2s 1ms/step - loss: 0.4942 - accuracy: 0.7611\n",
      "Epoch 93/100\n",
      "1263/1263 [==============================] - 2s 1ms/step - loss: 0.4943 - accuracy: 0.7601\n",
      "Epoch 94/100\n",
      "1263/1263 [==============================] - 1s 1ms/step - loss: 0.4941 - accuracy: 0.7595\n",
      "Epoch 95/100\n",
      "1263/1263 [==============================] - 1s 1ms/step - loss: 0.4942 - accuracy: 0.7592\n",
      "Epoch 96/100\n",
      "1263/1263 [==============================] - 1s 1ms/step - loss: 0.4941 - accuracy: 0.7601\n",
      "Epoch 97/100\n",
      "1263/1263 [==============================] - 1s 1ms/step - loss: 0.4938 - accuracy: 0.7610\n",
      "Epoch 98/100\n",
      "1263/1263 [==============================] - 1s 1ms/step - loss: 0.4939 - accuracy: 0.7604\n",
      "Epoch 99/100\n",
      "1263/1263 [==============================] - 1s 1ms/step - loss: 0.4939 - accuracy: 0.7603\n",
      "Epoch 100/100\n",
      "1263/1263 [==============================] - 1s 1ms/step - loss: 0.4938 - accuracy: 0.7607\n"
     ]
    }
   ],
   "source": [
    "\n",
    "tf.random.set_seed(42)\n",
    "\n",
    "\n",
    "\n",
    "model3 = tf.keras.Sequential([\n",
    "  tf.keras.layers.Dense(16,activation = 'relu'),\n",
    "  tf.keras.layers.Dense(6,activation = 'relu'),\n",
    "  tf.keras.layers.Dense(6,activation = 'relu'),\n",
    "  tf.keras.layers.Dense(1,activation = 'sigmoid')                            \n",
    "])\n",
    "\n",
    "\n",
    "model3.compile(loss = 'binary_crossentropy',\n",
    "                optimizer = tf.keras.optimizers.Adam(lr=0.001),\n",
    "                metrics = ['accuracy'])\n",
    "\n",
    "\n",
    "history_2 = model3.fit(x_train4,y_train4,epochs = 100)"
   ]
  },
  {
   "cell_type": "code",
   "execution_count": 43,
   "metadata": {},
   "outputs": [
    {
     "name": "stdout",
     "output_type": "stream",
     "text": [
      "421/421 [==============================] - 1s 963us/step - loss: 0.5084 - accuracy: 0.7546\n"
     ]
    },
    {
     "data": {
      "text/plain": [
       "[0.5083605051040649, 0.7546217441558838]"
      ]
     },
     "execution_count": 43,
     "metadata": {},
     "output_type": "execute_result"
    }
   ],
   "source": [
    "model3.evaluate(x_test4,y_test4)"
   ]
  },
  {
   "cell_type": "code",
   "execution_count": 44,
   "metadata": {},
   "outputs": [
    {
     "name": "stdout",
     "output_type": "stream",
     "text": [
      "1263/1263 [==============================] - 1s 851us/step\n",
      "421/421 [==============================] - 0s 898us/step\n",
      "Training Results\n",
      "\n",
      "              precision    recall  f1-score   support\n",
      "\n",
      "           0       0.79      0.71      0.75     20189\n",
      "           1       0.74      0.81      0.77     20218\n",
      "\n",
      "    accuracy                           0.76     40407\n",
      "   macro avg       0.76      0.76      0.76     40407\n",
      "weighted avg       0.76      0.76      0.76     40407\n",
      "\n",
      "Testing Results\n",
      "\n",
      "              precision    recall  f1-score   support\n",
      "\n",
      "           0       0.79      0.70      0.74      6749\n",
      "           1       0.73      0.81      0.77      6720\n",
      "\n",
      "    accuracy                           0.75     13469\n",
      "   macro avg       0.76      0.75      0.75     13469\n",
      "weighted avg       0.76      0.75      0.75     13469\n",
      "\n"
     ]
    }
   ],
   "source": [
    "ypred_train11 = model3.predict(x_train4)\n",
    "y_pred_test11 = model3.predict(x_test4)\n",
    "\n",
    "y_pred_test11 = (y_pred_test11 > 0.5)\n",
    "ypred_train11 = (ypred_train11 > 0.5)\n",
    "print(\"Training Results\\n\")\n",
    "print(classification_report(y_train4,ypred_train11))\n",
    "print(\"Testing Results\\n\")\n",
    "print(classification_report(y_test4,y_pred_test11))"
   ]
  },
  {
   "cell_type": "code",
   "execution_count": 45,
   "metadata": {},
   "outputs": [
    {
     "name": "stdout",
     "output_type": "stream",
     "text": [
      "421/421 [==============================] - 0s 846us/step\n"
     ]
    },
    {
     "data": {
      "image/png": "[encoded data removed]",
      "text/plain": [
       "<Figure size 640x480 with 1 Axes>"
      ]
     },
     "metadata": {},
     "output_type": "display_data"
    }
   ],
   "source": [
    "# cross_val_scores = cross_val_score(model_2, x_train4, y_train4, cv=5)\n",
    "# print(\"Cross-validation scores:\", cross_val_scores)\n",
    "# print(\"Average cross-validation score:\", np.mean(cross_val_scores))\n",
    "y_proba_test = model3.predict(x_test4).flatten()\n",
    "\n",
    "\n",
    "fpr, tpr, thresholds = roc_curve(y_test4, y_proba_test)\n",
    "\n",
    "\n",
    "plt.plot(fpr, tpr, label='ROC Curve')\n",
    "plt.xlabel('False Positive Rate')\n",
    "plt.ylabel('True Positive Rate')\n",
    "plt.title('ROC Curve with AUC = {:.2f}'.format(roc_auc_score(y_test4, y_proba_test)))\n",
    "plt.legend(loc='lower right')\n",
    "plt.grid(True)\n",
    "plt.show()"
   ]
  },
  {
   "cell_type": "markdown",
   "metadata": {},
   "source": [
    "## inne próby sieci neuronowych "
   ]
  },
  {
   "cell_type": "code",
   "execution_count": 46,
   "metadata": {},
   "outputs": [],
   "source": [
    "model4 = Sequential()\n",
    "model4.add(Dense(units=16,activation='relu'))\n",
    "model4.add(Dropout(0.5))\n",
    "\n",
    "model4.add(Dense(units=15,activation='relu'))\n",
    "model4.add(Dropout(0.5))\n",
    "\n",
    "model4.add(Dense(units=1,activation='sigmoid'))\n",
    "model4.compile(loss='binary_crossentropy', optimizer='adam')"
   ]
  },
  {
   "cell_type": "code",
   "execution_count": 47,
   "metadata": {},
   "outputs": [
    {
     "name": "stdout",
     "output_type": "stream",
     "text": [
      "Epoch 1/100\n",
      "1263/1263 [==============================] - 3s 2ms/step - loss: 0.6226 - val_loss: 0.5537\n",
      "Epoch 2/100\n",
      "1263/1263 [==============================] - 2s 2ms/step - loss: 0.5681 - val_loss: 0.5296\n",
      "Epoch 3/100\n",
      "1263/1263 [==============================] - 2s 1ms/step - loss: 0.5545 - val_loss: 0.5272\n",
      "Epoch 4/100\n",
      "1263/1263 [==============================] - 2s 1ms/step - loss: 0.5466 - val_loss: 0.5218\n",
      "Epoch 5/100\n",
      "1263/1263 [==============================] - 2s 1ms/step - loss: 0.5427 - val_loss: 0.5187\n",
      "Epoch 6/100\n",
      "1263/1263 [==============================] - 2s 1ms/step - loss: 0.5398 - val_loss: 0.5224\n",
      "Epoch 7/100\n",
      "1263/1263 [==============================] - 2s 1ms/step - loss: 0.5352 - val_loss: 0.5166\n",
      "Epoch 8/100\n",
      "1263/1263 [==============================] - 2s 1ms/step - loss: 0.5342 - val_loss: 0.5176\n",
      "Epoch 9/100\n",
      "1263/1263 [==============================] - 2s 1ms/step - loss: 0.5347 - val_loss: 0.5163\n",
      "Epoch 10/100\n",
      "1263/1263 [==============================] - 2s 1ms/step - loss: 0.5336 - val_loss: 0.5159\n",
      "Epoch 11/100\n",
      "1263/1263 [==============================] - 2s 1ms/step - loss: 0.5337 - val_loss: 0.5161\n",
      "Epoch 12/100\n",
      "1263/1263 [==============================] - 2s 1ms/step - loss: 0.5335 - val_loss: 0.5152\n",
      "Epoch 13/100\n",
      "1263/1263 [==============================] - 2s 1ms/step - loss: 0.5311 - val_loss: 0.5129\n",
      "Epoch 14/100\n",
      "1263/1263 [==============================] - 2s 1ms/step - loss: 0.5329 - val_loss: 0.5163\n",
      "Epoch 15/100\n",
      "1263/1263 [==============================] - 2s 1ms/step - loss: 0.5327 - val_loss: 0.5151\n",
      "Epoch 16/100\n",
      "1263/1263 [==============================] - 2s 1ms/step - loss: 0.5309 - val_loss: 0.5180\n",
      "Epoch 17/100\n",
      "1263/1263 [==============================] - 2s 1ms/step - loss: 0.5310 - val_loss: 0.5148\n",
      "Epoch 18/100\n",
      "1263/1263 [==============================] - 2s 1ms/step - loss: 0.5313 - val_loss: 0.5137\n",
      "Epoch 19/100\n",
      "1263/1263 [==============================] - 2s 1ms/step - loss: 0.5311 - val_loss: 0.5184\n",
      "Epoch 20/100\n",
      "1263/1263 [==============================] - 2s 1ms/step - loss: 0.5294 - val_loss: 0.5136\n",
      "Epoch 21/100\n",
      "1263/1263 [==============================] - 2s 1ms/step - loss: 0.5302 - val_loss: 0.5149\n",
      "Epoch 22/100\n",
      "1263/1263 [==============================] - 2s 1ms/step - loss: 0.5290 - val_loss: 0.5145\n",
      "Epoch 23/100\n",
      "1263/1263 [==============================] - 2s 1ms/step - loss: 0.5277 - val_loss: 0.5141\n",
      "Epoch 24/100\n",
      "1263/1263 [==============================] - 2s 1ms/step - loss: 0.5289 - val_loss: 0.5150\n",
      "Epoch 25/100\n",
      "1263/1263 [==============================] - 2s 1ms/step - loss: 0.5312 - val_loss: 0.5156\n",
      "Epoch 26/100\n",
      "1263/1263 [==============================] - 2s 1ms/step - loss: 0.5299 - val_loss: 0.5147\n",
      "Epoch 27/100\n",
      "1263/1263 [==============================] - 2s 1ms/step - loss: 0.5300 - val_loss: 0.5163\n",
      "Epoch 28/100\n",
      "1263/1263 [==============================] - 2s 1ms/step - loss: 0.5276 - val_loss: 0.5115\n",
      "Epoch 29/100\n",
      "1263/1263 [==============================] - 2s 1ms/step - loss: 0.5301 - val_loss: 0.5143\n",
      "Epoch 30/100\n",
      "1263/1263 [==============================] - 2s 1ms/step - loss: 0.5288 - val_loss: 0.5150\n",
      "Epoch 31/100\n",
      "1263/1263 [==============================] - 2s 1ms/step - loss: 0.5299 - val_loss: 0.5143\n",
      "Epoch 32/100\n",
      "1263/1263 [==============================] - 2s 1ms/step - loss: 0.5295 - val_loss: 0.5128\n",
      "Epoch 33/100\n",
      "1263/1263 [==============================] - 2s 1ms/step - loss: 0.5292 - val_loss: 0.5144\n",
      "Epoch 34/100\n",
      "1263/1263 [==============================] - 2s 2ms/step - loss: 0.5274 - val_loss: 0.5134\n",
      "Epoch 35/100\n",
      "1263/1263 [==============================] - 2s 2ms/step - loss: 0.5316 - val_loss: 0.5139\n",
      "Epoch 36/100\n",
      "1263/1263 [==============================] - 2s 2ms/step - loss: 0.5297 - val_loss: 0.5147\n",
      "Epoch 37/100\n",
      "1263/1263 [==============================] - 2s 2ms/step - loss: 0.5292 - val_loss: 0.5146\n",
      "Epoch 38/100\n",
      "1263/1263 [==============================] - 2s 2ms/step - loss: 0.5294 - val_loss: 0.5143\n",
      "Epoch 39/100\n",
      "1263/1263 [==============================] - 2s 2ms/step - loss: 0.5297 - val_loss: 0.5148\n",
      "Epoch 40/100\n",
      "1263/1263 [==============================] - 2s 2ms/step - loss: 0.5290 - val_loss: 0.5162\n",
      "Epoch 41/100\n",
      "1263/1263 [==============================] - 2s 1ms/step - loss: 0.5279 - val_loss: 0.5159\n",
      "Epoch 42/100\n",
      "1263/1263 [==============================] - 2s 2ms/step - loss: 0.5294 - val_loss: 0.5139\n",
      "Epoch 43/100\n",
      "1263/1263 [==============================] - 2s 2ms/step - loss: 0.5270 - val_loss: 0.5140\n",
      "Epoch 44/100\n",
      "1263/1263 [==============================] - 2s 2ms/step - loss: 0.5241 - val_loss: 0.5115\n",
      "Epoch 45/100\n",
      "1263/1263 [==============================] - 2s 2ms/step - loss: 0.5277 - val_loss: 0.5127\n",
      "Epoch 46/100\n",
      "1263/1263 [==============================] - 2s 2ms/step - loss: 0.5277 - val_loss: 0.5126\n",
      "Epoch 47/100\n",
      "1263/1263 [==============================] - 2s 2ms/step - loss: 0.5298 - val_loss: 0.5151\n",
      "Epoch 48/100\n",
      "1263/1263 [==============================] - 2s 2ms/step - loss: 0.5287 - val_loss: 0.5127\n",
      "Epoch 49/100\n",
      "1263/1263 [==============================] - 2s 2ms/step - loss: 0.5269 - val_loss: 0.5158\n",
      "Epoch 50/100\n",
      "1263/1263 [==============================] - 2s 2ms/step - loss: 0.5269 - val_loss: 0.5131\n",
      "Epoch 51/100\n",
      "1263/1263 [==============================] - 2s 2ms/step - loss: 0.5269 - val_loss: 0.5141\n",
      "Epoch 52/100\n",
      "1263/1263 [==============================] - 2s 2ms/step - loss: 0.5277 - val_loss: 0.5134\n",
      "Epoch 53/100\n",
      "1263/1263 [==============================] - 2s 2ms/step - loss: 0.5261 - val_loss: 0.5126\n",
      "Epoch 53: early stopping\n"
     ]
    },
    {
     "data": {
      "text/plain": [
       "<keras.src.callbacks.History at 0x24a19c32410>"
      ]
     },
     "execution_count": 47,
     "metadata": {},
     "output_type": "execute_result"
    }
   ],
   "source": [
    "model4.fit(x=x_train4, \n",
    "          y=y_train4, \n",
    "          epochs=100,\n",
    "          validation_data=(x_test4, y_test4), verbose=1,\n",
    "          callbacks=[early_stop]\n",
    "          )"
   ]
  },
  {
   "cell_type": "code",
   "execution_count": 48,
   "metadata": {},
   "outputs": [
    {
     "name": "stdout",
     "output_type": "stream",
     "text": [
      "1263/1263 [==============================] - 1s 954us/step\n",
      "421/421 [==============================] - 0s 970us/step\n",
      "Training Results\n",
      "\n",
      "              precision    recall  f1-score   support\n",
      "\n",
      "           0       0.79      0.71      0.74     20189\n",
      "           1       0.73      0.81      0.77     20218\n",
      "\n",
      "    accuracy                           0.76     40407\n",
      "   macro avg       0.76      0.76      0.76     40407\n",
      "weighted avg       0.76      0.76      0.76     40407\n",
      "\n",
      "Testing Results\n",
      "\n",
      "              precision    recall  f1-score   support\n",
      "\n",
      "           0       0.78      0.70      0.74      6749\n",
      "           1       0.73      0.81      0.76      6720\n",
      "\n",
      "    accuracy                           0.75     13469\n",
      "   macro avg       0.75      0.75      0.75     13469\n",
      "weighted avg       0.75      0.75      0.75     13469\n",
      "\n"
     ]
    }
   ],
   "source": [
    "ypred_train12 = model4.predict(x_train4)\n",
    "y_pred_test12 = model4.predict(x_test4)\n",
    "\n",
    "y_pred_test12 = (y_pred_test12 > 0.5)\n",
    "ypred_train12 = (ypred_train12 > 0.5)\n",
    "print(\"Training Results\\n\")\n",
    "print(classification_report(y_train4,ypred_train12))\n",
    "print(\"Testing Results\\n\")\n",
    "print(classification_report(y_test4,y_pred_test12))"
   ]
  },
  {
   "cell_type": "code",
   "execution_count": 49,
   "metadata": {},
   "outputs": [
    {
     "name": "stdout",
     "output_type": "stream",
     "text": [
      "421/421 [==============================] - 0s 976us/step\n"
     ]
    },
    {
     "data": {
      "image/png": "[encoded data removed]",
      "text/plain": [
       "<Figure size 640x480 with 1 Axes>"
      ]
     },
     "metadata": {},
     "output_type": "display_data"
    }
   ],
   "source": [
    "# cross_val_scores = cross_val_score(model1, x_train4, y_train4, cv=5)\n",
    "# print(\"Cross-validation scores:\", cross_val_scores)\n",
    "# print(\"Average cross-validation score:\", np.mean(cross_val_scores))\n",
    "y_proba_test = model4.predict(x_test4).flatten()\n",
    "\n",
    "\n",
    "fpr, tpr, thresholds = roc_curve(y_test4, y_proba_test)\n",
    "\n",
    "\n",
    "plt.plot(fpr, tpr, label='ROC Curve')\n",
    "plt.xlabel('False Positive Rate')\n",
    "plt.ylabel('True Positive Rate')\n",
    "plt.title('ROC Curve with AUC = {:.2f}'.format(roc_auc_score(y_test4, y_proba_test)))\n",
    "plt.legend(loc='lower right')\n",
    "plt.grid(True)\n",
    "plt.show()"
   ]
  },
  {
   "cell_type": "markdown",
   "metadata": {},
   "source": [
    "## inny model"
   ]
  },
  {
   "cell_type": "code",
   "execution_count": 50,
   "metadata": {},
   "outputs": [],
   "source": [
    "model5 = Sequential()\n",
    "\n",
    "\n",
    "\n",
    "model5.add(Dense(16,  activation='relu'))\n",
    "model5.add(Dropout(0.2))\n",
    "\n",
    "model5.add(Dense(10, activation='relu'))\n",
    "model5.add(Dropout(0.2))\n",
    "\n",
    "model5.add(Dense(units=1,activation='sigmoid'))\n",
    "\n",
    "model5.compile(loss='binary_crossentropy', optimizer='adam')"
   ]
  },
  {
   "cell_type": "code",
   "execution_count": 51,
   "metadata": {},
   "outputs": [
    {
     "name": "stdout",
     "output_type": "stream",
     "text": [
      "Epoch 1/100\n",
      "1263/1263 [==============================] - 3s 2ms/step - loss: 0.5848 - val_loss: 0.5271\n",
      "Epoch 2/100\n",
      "1263/1263 [==============================] - 2s 2ms/step - loss: 0.5364 - val_loss: 0.5206\n",
      "Epoch 3/100\n",
      "1263/1263 [==============================] - 2s 2ms/step - loss: 0.5270 - val_loss: 0.5169\n",
      "Epoch 4/100\n",
      "1263/1263 [==============================] - 2s 2ms/step - loss: 0.5226 - val_loss: 0.5160\n",
      "Epoch 5/100\n",
      "1263/1263 [==============================] - 2s 2ms/step - loss: 0.5201 - val_loss: 0.5132\n",
      "Epoch 6/100\n",
      "1263/1263 [==============================] - 2s 2ms/step - loss: 0.5183 - val_loss: 0.5156\n",
      "Epoch 7/100\n",
      "1263/1263 [==============================] - 2s 2ms/step - loss: 0.5160 - val_loss: 0.5112\n",
      "Epoch 8/100\n",
      "1263/1263 [==============================] - 2s 2ms/step - loss: 0.5140 - val_loss: 0.5105\n",
      "Epoch 9/100\n",
      "1263/1263 [==============================] - 2s 2ms/step - loss: 0.5144 - val_loss: 0.5093\n",
      "Epoch 10/100\n",
      "1263/1263 [==============================] - 2s 2ms/step - loss: 0.5144 - val_loss: 0.5094\n",
      "Epoch 11/100\n",
      "1263/1263 [==============================] - 2s 2ms/step - loss: 0.5130 - val_loss: 0.5100\n",
      "Epoch 12/100\n",
      "1263/1263 [==============================] - 2s 2ms/step - loss: 0.5131 - val_loss: 0.5096\n",
      "Epoch 13/100\n",
      "1263/1263 [==============================] - 2s 2ms/step - loss: 0.5112 - val_loss: 0.5087\n",
      "Epoch 14/100\n",
      "1263/1263 [==============================] - 2s 2ms/step - loss: 0.5114 - val_loss: 0.5111\n",
      "Epoch 15/100\n",
      "1263/1263 [==============================] - 2s 2ms/step - loss: 0.5109 - val_loss: 0.5119\n",
      "Epoch 16/100\n",
      "1263/1263 [==============================] - 2s 2ms/step - loss: 0.5084 - val_loss: 0.5116\n",
      "Epoch 17/100\n",
      "1263/1263 [==============================] - 2s 2ms/step - loss: 0.5113 - val_loss: 0.5099\n",
      "Epoch 18/100\n",
      "1263/1263 [==============================] - 2s 2ms/step - loss: 0.5109 - val_loss: 0.5089\n",
      "Epoch 19/100\n",
      "1263/1263 [==============================] - 2s 2ms/step - loss: 0.5106 - val_loss: 0.5093\n",
      "Epoch 20/100\n",
      "1263/1263 [==============================] - 2s 2ms/step - loss: 0.5108 - val_loss: 0.5100\n",
      "Epoch 21/100\n",
      "1263/1263 [==============================] - 2s 2ms/step - loss: 0.5112 - val_loss: 0.5092\n",
      "Epoch 22/100\n",
      "1263/1263 [==============================] - 2s 2ms/step - loss: 0.5096 - val_loss: 0.5089\n",
      "Epoch 23/100\n",
      "1263/1263 [==============================] - 2s 2ms/step - loss: 0.5081 - val_loss: 0.5091\n",
      "Epoch 24/100\n",
      "1263/1263 [==============================] - 2s 2ms/step - loss: 0.5092 - val_loss: 0.5080\n",
      "Epoch 25/100\n",
      "1263/1263 [==============================] - 2s 2ms/step - loss: 0.5099 - val_loss: 0.5097\n",
      "Epoch 26/100\n",
      "1263/1263 [==============================] - 2s 2ms/step - loss: 0.5089 - val_loss: 0.5096\n",
      "Epoch 27/100\n",
      "1263/1263 [==============================] - 2s 2ms/step - loss: 0.5090 - val_loss: 0.5110\n",
      "Epoch 28/100\n",
      "1263/1263 [==============================] - 2s 2ms/step - loss: 0.5102 - val_loss: 0.5089\n",
      "Epoch 29/100\n",
      "1263/1263 [==============================] - 2s 2ms/step - loss: 0.5096 - val_loss: 0.5103\n",
      "Epoch 30/100\n",
      "1263/1263 [==============================] - 2s 2ms/step - loss: 0.5093 - val_loss: 0.5086\n",
      "Epoch 31/100\n",
      "1263/1263 [==============================] - 2s 2ms/step - loss: 0.5098 - val_loss: 0.5084\n",
      "Epoch 32/100\n",
      "1263/1263 [==============================] - 2s 2ms/step - loss: 0.5098 - val_loss: 0.5095\n",
      "Epoch 33/100\n",
      "1263/1263 [==============================] - 2s 2ms/step - loss: 0.5086 - val_loss: 0.5101\n",
      "Epoch 34/100\n",
      "1263/1263 [==============================] - 2s 2ms/step - loss: 0.5088 - val_loss: 0.5092\n",
      "Epoch 35/100\n",
      "1263/1263 [==============================] - 2s 2ms/step - loss: 0.5075 - val_loss: 0.5092\n",
      "Epoch 36/100\n",
      "1263/1263 [==============================] - 2s 2ms/step - loss: 0.5080 - val_loss: 0.5094\n",
      "Epoch 37/100\n",
      "1263/1263 [==============================] - 2s 2ms/step - loss: 0.5083 - val_loss: 0.5091\n",
      "Epoch 38/100\n",
      "1263/1263 [==============================] - 2s 2ms/step - loss: 0.5072 - val_loss: 0.5096\n",
      "Epoch 39/100\n",
      "1263/1263 [==============================] - 2s 2ms/step - loss: 0.5074 - val_loss: 0.5099\n",
      "Epoch 40/100\n",
      "1263/1263 [==============================] - 2s 2ms/step - loss: 0.5082 - val_loss: 0.5094\n",
      "Epoch 41/100\n",
      "1263/1263 [==============================] - 2s 2ms/step - loss: 0.5096 - val_loss: 0.5092\n",
      "Epoch 42/100\n",
      "1263/1263 [==============================] - 2s 2ms/step - loss: 0.5075 - val_loss: 0.5098\n",
      "Epoch 43/100\n",
      "1263/1263 [==============================] - 2s 2ms/step - loss: 0.5081 - val_loss: 0.5092\n",
      "Epoch 44/100\n",
      "1263/1263 [==============================] - 2s 2ms/step - loss: 0.5071 - val_loss: 0.5087\n",
      "Epoch 45/100\n",
      "1263/1263 [==============================] - 2s 2ms/step - loss: 0.5085 - val_loss: 0.5093\n",
      "Epoch 46/100\n",
      "1263/1263 [==============================] - 2s 2ms/step - loss: 0.5090 - val_loss: 0.5090\n",
      "Epoch 47/100\n",
      "1263/1263 [==============================] - 2s 2ms/step - loss: 0.5086 - val_loss: 0.5100\n",
      "Epoch 48/100\n",
      "1263/1263 [==============================] - 2s 2ms/step - loss: 0.5069 - val_loss: 0.5089\n",
      "Epoch 49/100\n",
      "1263/1263 [==============================] - 2s 2ms/step - loss: 0.5076 - val_loss: 0.5107\n",
      "Epoch 49: early stopping\n"
     ]
    },
    {
     "data": {
      "text/plain": [
       "<keras.src.callbacks.History at 0x24a1b10a850>"
      ]
     },
     "execution_count": 51,
     "metadata": {},
     "output_type": "execute_result"
    }
   ],
   "source": [
    "model5.fit(x=x_train4, \n",
    "          y=y_train4, \n",
    "          epochs=100,\n",
    "          validation_data=(x_test4, y_test4), verbose=1,\n",
    "          callbacks=[early_stop]\n",
    "          )"
   ]
  },
  {
   "cell_type": "code",
   "execution_count": 52,
   "metadata": {},
   "outputs": [
    {
     "name": "stdout",
     "output_type": "stream",
     "text": [
      "1263/1263 [==============================] - 1s 935us/step\n",
      "421/421 [==============================] - 0s 861us/step\n",
      "Training Results\n",
      "\n",
      "              precision    recall  f1-score   support\n",
      "\n",
      "           0       0.78      0.73      0.75     20189\n",
      "           1       0.75      0.79      0.77     20218\n",
      "\n",
      "    accuracy                           0.76     40407\n",
      "   macro avg       0.76      0.76      0.76     40407\n",
      "weighted avg       0.76      0.76      0.76     40407\n",
      "\n",
      "Testing Results\n",
      "\n",
      "              precision    recall  f1-score   support\n",
      "\n",
      "           0       0.77      0.72      0.74      6749\n",
      "           1       0.74      0.78      0.76      6720\n",
      "\n",
      "    accuracy                           0.75     13469\n",
      "   macro avg       0.75      0.75      0.75     13469\n",
      "weighted avg       0.75      0.75      0.75     13469\n",
      "\n"
     ]
    }
   ],
   "source": [
    "ypred_train13 = model5.predict(x_train4)\n",
    "y_pred_test13 = model5.predict(x_test4)\n",
    "\n",
    "y_pred_test13 = (y_pred_test13 > 0.5)\n",
    "ypred_train13 = (ypred_train13 > 0.5)\n",
    "\n",
    "print(\"Training Results\\n\")\n",
    "print(classification_report(y_train4,ypred_train13))\n",
    "print(\"Testing Results\\n\")\n",
    "print(classification_report(y_test4,y_pred_test13))"
   ]
  },
  {
   "cell_type": "code",
   "execution_count": 53,
   "metadata": {},
   "outputs": [
    {
     "name": "stdout",
     "output_type": "stream",
     "text": [
      "421/421 [==============================] - 0s 940us/step\n"
     ]
    },
    {
     "data": {
      "image/png": "[encoded data removed]",
      "text/plain": [
       "<Figure size 640x480 with 1 Axes>"
      ]
     },
     "metadata": {},
     "output_type": "display_data"
    }
   ],
   "source": [
    "# cross_val_scores = cross_val_score(model2, x_train4, y_train4, cv=5)\n",
    "# print(\"Cross-validation scores:\", cross_val_scores)\n",
    "# print(\"Average cross-validation score:\", np.mean(cross_val_scores))\n",
    "y_proba_test = model5.predict(x_test4).flatten()\n",
    "\n",
    "\n",
    "fpr, tpr, thresholds = roc_curve(y_test4, y_proba_test)\n",
    "\n",
    "\n",
    "plt.plot(fpr, tpr, label='ROC Curve')\n",
    "plt.xlabel('False Positive Rate')\n",
    "plt.ylabel('True Positive Rate')\n",
    "plt.title('ROC Curve with AUC = {:.2f}'.format(roc_auc_score(y_test4, y_proba_test)))\n",
    "plt.legend(loc='lower right')\n",
    "plt.grid(True)\n",
    "plt.show()"
   ]
  },
  {
   "cell_type": "markdown",
   "metadata": {},
   "source": [
    "## SVC"
   ]
  },
  {
   "cell_type": "code",
   "execution_count": 54,
   "metadata": {},
   "outputs": [],
   "source": [
    "model3 = SVC(probability=True)"
   ]
  },
  {
   "cell_type": "code",
   "execution_count": 55,
   "metadata": {},
   "outputs": [
    {
     "data": {
      "text/html": [
       "<style>#sk-container-id-4 {color: black;}#sk-container-id-4 pre{padding: 0;}#sk-container-id-4 div.sk-toggleable {background-color: white;}#sk-container-id-4 label.sk-toggleable__label {cursor: pointer;display: block;width: 100%;margin-bottom: 0;padding: 0.3em;box-sizing: border-box;text-align: center;}#sk-container-id-4 label.sk-toggleable__label-arrow:before {content: \"▸\";float: left;margin-right: 0.25em;color: #696969;}#sk-container-id-4 label.sk-toggleable__label-arrow:hover:before {color: black;}#sk-container-id-4 div.sk-estimator:hover label.sk-toggleable__label-arrow:before {color: black;}#sk-container-id-4 div.sk-toggleable__content {max-height: 0;max-width: 0;overflow: hidden;text-align: left;background-color: #f0f8ff;}#sk-container-id-4 div.sk-toggleable__content pre {margin: 0.2em;color: black;border-radius: 0.25em;background-color: #f0f8ff;}#sk-container-id-4 input.sk-toggleable__control:checked~div.sk-toggleable__content {max-height: 200px;max-width: 100%;overflow: auto;}#sk-container-id-4 input.sk-toggleable__control:checked~label.sk-toggleable__label-arrow:before {content: \"▾\";}#sk-container-id-4 div.sk-estimator input.sk-toggleable__control:checked~label.sk-toggleable__label {background-color: #d4ebff;}#sk-container-id-4 div.sk-label input.sk-toggleable__control:checked~label.sk-toggleable__label {background-color: #d4ebff;}#sk-container-id-4 input.sk-hidden--visually {border: 0;clip: rect(1px 1px 1px 1px);clip: rect(1px, 1px, 1px, 1px);height: 1px;margin: -1px;overflow: hidden;padding: 0;position: absolute;width: 1px;}#sk-container-id-4 div.sk-estimator {font-family: monospace;background-color: #f0f8ff;border: 1px dotted black;border-radius: 0.25em;box-sizing: border-box;margin-bottom: 0.5em;}#sk-container-id-4 div.sk-estimator:hover {background-color: #d4ebff;}#sk-container-id-4 div.sk-parallel-item::after {content: \"\";width: 100%;border-bottom: 1px solid gray;flex-grow: 1;}#sk-container-id-4 div.sk-label:hover label.sk-toggleable__label {background-color: #d4ebff;}#sk-container-id-4 div.sk-serial::before {content: \"\";position: absolute;border-left: 1px solid gray;box-sizing: border-box;top: 0;bottom: 0;left: 50%;z-index: 0;}#sk-container-id-4 div.sk-serial {display: flex;flex-direction: column;align-items: center;background-color: white;padding-right: 0.2em;padding-left: 0.2em;position: relative;}#sk-container-id-4 div.sk-item {position: relative;z-index: 1;}#sk-container-id-4 div.sk-parallel {display: flex;align-items: stretch;justify-content: center;background-color: white;position: relative;}#sk-container-id-4 div.sk-item::before, #sk-container-id-4 div.sk-parallel-item::before {content: \"\";position: absolute;border-left: 1px solid gray;box-sizing: border-box;top: 0;bottom: 0;left: 50%;z-index: -1;}#sk-container-id-4 div.sk-parallel-item {display: flex;flex-direction: column;z-index: 1;position: relative;background-color: white;}#sk-container-id-4 div.sk-parallel-item:first-child::after {align-self: flex-end;width: 50%;}#sk-container-id-4 div.sk-parallel-item:last-child::after {align-self: flex-start;width: 50%;}#sk-container-id-4 div.sk-parallel-item:only-child::after {width: 0;}#sk-container-id-4 div.sk-dashed-wrapped {border: 1px dashed gray;margin: 0 0.4em 0.5em 0.4em;box-sizing: border-box;padding-bottom: 0.4em;background-color: white;}#sk-container-id-4 div.sk-label label {font-family: monospace;font-weight: bold;display: inline-block;line-height: 1.2em;}#sk-container-id-4 div.sk-label-container {text-align: center;}#sk-container-id-4 div.sk-container {/* jupyter's `normalize.less` sets `[hidden] { display: none; }` but bootstrap.min.css set `[hidden] { display: none !important; }` so we also need the `!important` here to be able to override the default hidden behavior on the sphinx rendered scikit-learn.org. See: https://github.com/scikit-learn/scikit-learn/issues/21755 */display: inline-block !important;position: relative;}#sk-container-id-4 div.sk-text-repr-fallback {display: none;}</style><div id=\"sk-container-id-4\" class=\"sk-top-container\"><div class=\"sk-text-repr-fallback\"><pre>SVC(probability=True)</pre><b>In a Jupyter environment, please rerun this cell to show the HTML representation or trust the notebook. <br />On GitHub, the HTML representation is unable to render, please try loading this page with nbviewer.org.</b></div><div class=\"sk-container\" hidden><div class=\"sk-item\"><div class=\"sk-estimator sk-toggleable\"><input class=\"sk-toggleable__control sk-hidden--visually\" id=\"sk-estimator-id-6\" type=\"checkbox\" checked><label for=\"sk-estimator-id-6\" class=\"sk-toggleable__label sk-toggleable__label-arrow\">SVC</label><div class=\"sk-toggleable__content\"><pre>SVC(probability=True)</pre></div></div></div></div></div>"
      ],
      "text/plain": [
       "SVC(probability=True)"
      ]
     },
     "execution_count": 55,
     "metadata": {},
     "output_type": "execute_result"
    }
   ],
   "source": [
    "model3.fit(x_train4,y_train4)"
   ]
  },
  {
   "cell_type": "code",
   "execution_count": 56,
   "metadata": {},
   "outputs": [
    {
     "name": "stdout",
     "output_type": "stream",
     "text": [
      "Training Results\n",
      "\n",
      "              precision    recall  f1-score   support\n",
      "\n",
      "           0       0.79      0.71      0.75     20189\n",
      "           1       0.74      0.81      0.77     20218\n",
      "\n",
      "    accuracy                           0.76     40407\n",
      "   macro avg       0.77      0.76      0.76     40407\n",
      "weighted avg       0.77      0.76      0.76     40407\n",
      "\n",
      "Testing Results\n",
      "\n",
      "              precision    recall  f1-score   support\n",
      "\n",
      "           0       0.78      0.70      0.74      6749\n",
      "           1       0.73      0.81      0.76      6720\n",
      "\n",
      "    accuracy                           0.75     13469\n",
      "   macro avg       0.75      0.75      0.75     13469\n",
      "weighted avg       0.75      0.75      0.75     13469\n",
      "\n"
     ]
    }
   ],
   "source": [
    "ypred_train14 = model3.predict(x_train4)\n",
    "y_pred_test14 = model3.predict(x_test4)\n",
    "\n",
    "print(\"Training Results\\n\")\n",
    "print(classification_report(y_train4,ypred_train14))\n",
    "print(\"Testing Results\\n\")\n",
    "print(classification_report(y_test4,y_pred_test14))"
   ]
  },
  {
   "cell_type": "code",
   "execution_count": 57,
   "metadata": {},
   "outputs": [],
   "source": [
    "param_grid = {'C': [0.1,1, 10, 100, 1000], 'gamma': [1,0.1,0.01,0.001,0.0001], 'kernel': ['rbf']} "
   ]
  },
  {
   "cell_type": "code",
   "execution_count": 58,
   "metadata": {},
   "outputs": [],
   "source": [
    "grid = GridSearchCV(SVC(),param_grid,refit=True,verbose=3)"
   ]
  },
  {
   "cell_type": "code",
   "execution_count": 59,
   "metadata": {},
   "outputs": [
    {
     "name": "stdout",
     "output_type": "stream",
     "text": [
      "Fitting 5 folds for each of 25 candidates, totalling 125 fits\n",
      "[CV 1/5] END ........C=0.1, gamma=1, kernel=rbf;, score=0.757 total time=  39.6s\n",
      "[CV 2/5] END ........C=0.1, gamma=1, kernel=rbf;, score=0.757 total time=  30.5s\n",
      "[CV 3/5] END ........C=0.1, gamma=1, kernel=rbf;, score=0.754 total time=  31.4s\n",
      "[CV 4/5] END ........C=0.1, gamma=1, kernel=rbf;, score=0.749 total time=  37.9s\n",
      "[CV 5/5] END ........C=0.1, gamma=1, kernel=rbf;, score=0.747 total time=  28.8s\n",
      "[CV 1/5] END ......C=0.1, gamma=0.1, kernel=rbf;, score=0.758 total time=  31.4s\n",
      "[CV 2/5] END ......C=0.1, gamma=0.1, kernel=rbf;, score=0.758 total time=  38.2s\n",
      "[CV 3/5] END ......C=0.1, gamma=0.1, kernel=rbf;, score=0.754 total time=  21.4s\n"
     ]
    },
    {
     "ename": "KeyboardInterrupt",
     "evalue": "",
     "output_type": "error",
     "traceback": [
      "\u001b[1;31m---------------------------------------------------------------------------\u001b[0m",
      "\u001b[1;31mKeyboardInterrupt\u001b[0m                         Traceback (most recent call last)",
      "Cell \u001b[1;32mIn[59], line 1\u001b[0m\n\u001b[1;32m----> 1\u001b[0m grid\u001b[38;5;241m.\u001b[39mfit(x_train4,y_train4)\n",
      "File \u001b[1;32m~\\AppData\\Roaming\\Python\\Python311\\site-packages\\sklearn\\base.py:1152\u001b[0m, in \u001b[0;36m_fit_context.<locals>.decorator.<locals>.wrapper\u001b[1;34m(estimator, *args, **kwargs)\u001b[0m\n\u001b[0;32m   1145\u001b[0m     estimator\u001b[38;5;241m.\u001b[39m_validate_params()\n\u001b[0;32m   1147\u001b[0m \u001b[38;5;28;01mwith\u001b[39;00m config_context(\n\u001b[0;32m   1148\u001b[0m     skip_parameter_validation\u001b[38;5;241m=\u001b[39m(\n\u001b[0;32m   1149\u001b[0m         prefer_skip_nested_validation \u001b[38;5;129;01mor\u001b[39;00m global_skip_validation\n\u001b[0;32m   1150\u001b[0m     )\n\u001b[0;32m   1151\u001b[0m ):\n\u001b[1;32m-> 1152\u001b[0m     \u001b[38;5;28;01mreturn\u001b[39;00m fit_method(estimator, \u001b[38;5;241m*\u001b[39margs, \u001b[38;5;241m*\u001b[39m\u001b[38;5;241m*\u001b[39mkwargs)\n",
      "File \u001b[1;32m~\\AppData\\Roaming\\Python\\Python311\\site-packages\\sklearn\\model_selection\\_search.py:898\u001b[0m, in \u001b[0;36mBaseSearchCV.fit\u001b[1;34m(self, X, y, groups, **fit_params)\u001b[0m\n\u001b[0;32m    892\u001b[0m     results \u001b[38;5;241m=\u001b[39m \u001b[38;5;28mself\u001b[39m\u001b[38;5;241m.\u001b[39m_format_results(\n\u001b[0;32m    893\u001b[0m         all_candidate_params, n_splits, all_out, all_more_results\n\u001b[0;32m    894\u001b[0m     )\n\u001b[0;32m    896\u001b[0m     \u001b[38;5;28;01mreturn\u001b[39;00m results\n\u001b[1;32m--> 898\u001b[0m \u001b[38;5;28mself\u001b[39m\u001b[38;5;241m.\u001b[39m_run_search(evaluate_candidates)\n\u001b[0;32m    900\u001b[0m \u001b[38;5;66;03m# multimetric is determined here because in the case of a callable\u001b[39;00m\n\u001b[0;32m    901\u001b[0m \u001b[38;5;66;03m# self.scoring the return type is only known after calling\u001b[39;00m\n\u001b[0;32m    902\u001b[0m first_test_score \u001b[38;5;241m=\u001b[39m all_out[\u001b[38;5;241m0\u001b[39m][\u001b[38;5;124m\"\u001b[39m\u001b[38;5;124mtest_scores\u001b[39m\u001b[38;5;124m\"\u001b[39m]\n",
      "File \u001b[1;32m~\\AppData\\Roaming\\Python\\Python311\\site-packages\\sklearn\\model_selection\\_search.py:1422\u001b[0m, in \u001b[0;36mGridSearchCV._run_search\u001b[1;34m(self, evaluate_candidates)\u001b[0m\n\u001b[0;32m   1420\u001b[0m \u001b[38;5;28;01mdef\u001b[39;00m \u001b[38;5;21m_run_search\u001b[39m(\u001b[38;5;28mself\u001b[39m, evaluate_candidates):\n\u001b[0;32m   1421\u001b[0m \u001b[38;5;250m    \u001b[39m\u001b[38;5;124;03m\"\"\"Search all candidates in param_grid\"\"\"\u001b[39;00m\n\u001b[1;32m-> 1422\u001b[0m     evaluate_candidates(ParameterGrid(\u001b[38;5;28mself\u001b[39m\u001b[38;5;241m.\u001b[39mparam_grid))\n",
      "File \u001b[1;32m~\\AppData\\Roaming\\Python\\Python311\\site-packages\\sklearn\\model_selection\\_search.py:845\u001b[0m, in \u001b[0;36mBaseSearchCV.fit.<locals>.evaluate_candidates\u001b[1;34m(candidate_params, cv, more_results)\u001b[0m\n\u001b[0;32m    837\u001b[0m \u001b[38;5;28;01mif\u001b[39;00m \u001b[38;5;28mself\u001b[39m\u001b[38;5;241m.\u001b[39mverbose \u001b[38;5;241m>\u001b[39m \u001b[38;5;241m0\u001b[39m:\n\u001b[0;32m    838\u001b[0m     \u001b[38;5;28mprint\u001b[39m(\n\u001b[0;32m    839\u001b[0m         \u001b[38;5;124m\"\u001b[39m\u001b[38;5;124mFitting \u001b[39m\u001b[38;5;132;01m{0}\u001b[39;00m\u001b[38;5;124m folds for each of \u001b[39m\u001b[38;5;132;01m{1}\u001b[39;00m\u001b[38;5;124m candidates,\u001b[39m\u001b[38;5;124m\"\u001b[39m\n\u001b[0;32m    840\u001b[0m         \u001b[38;5;124m\"\u001b[39m\u001b[38;5;124m totalling \u001b[39m\u001b[38;5;132;01m{2}\u001b[39;00m\u001b[38;5;124m fits\u001b[39m\u001b[38;5;124m\"\u001b[39m\u001b[38;5;241m.\u001b[39mformat(\n\u001b[0;32m    841\u001b[0m             n_splits, n_candidates, n_candidates \u001b[38;5;241m*\u001b[39m n_splits\n\u001b[0;32m    842\u001b[0m         )\n\u001b[0;32m    843\u001b[0m     )\n\u001b[1;32m--> 845\u001b[0m out \u001b[38;5;241m=\u001b[39m parallel(\n\u001b[0;32m    846\u001b[0m     delayed(_fit_and_score)(\n\u001b[0;32m    847\u001b[0m         clone(base_estimator),\n\u001b[0;32m    848\u001b[0m         X,\n\u001b[0;32m    849\u001b[0m         y,\n\u001b[0;32m    850\u001b[0m         train\u001b[38;5;241m=\u001b[39mtrain,\n\u001b[0;32m    851\u001b[0m         test\u001b[38;5;241m=\u001b[39mtest,\n\u001b[0;32m    852\u001b[0m         parameters\u001b[38;5;241m=\u001b[39mparameters,\n\u001b[0;32m    853\u001b[0m         split_progress\u001b[38;5;241m=\u001b[39m(split_idx, n_splits),\n\u001b[0;32m    854\u001b[0m         candidate_progress\u001b[38;5;241m=\u001b[39m(cand_idx, n_candidates),\n\u001b[0;32m    855\u001b[0m         \u001b[38;5;241m*\u001b[39m\u001b[38;5;241m*\u001b[39mfit_and_score_kwargs,\n\u001b[0;32m    856\u001b[0m     )\n\u001b[0;32m    857\u001b[0m     \u001b[38;5;28;01mfor\u001b[39;00m (cand_idx, parameters), (split_idx, (train, test)) \u001b[38;5;129;01min\u001b[39;00m product(\n\u001b[0;32m    858\u001b[0m         \u001b[38;5;28menumerate\u001b[39m(candidate_params), \u001b[38;5;28menumerate\u001b[39m(cv\u001b[38;5;241m.\u001b[39msplit(X, y, groups))\n\u001b[0;32m    859\u001b[0m     )\n\u001b[0;32m    860\u001b[0m )\n\u001b[0;32m    862\u001b[0m \u001b[38;5;28;01mif\u001b[39;00m \u001b[38;5;28mlen\u001b[39m(out) \u001b[38;5;241m<\u001b[39m \u001b[38;5;241m1\u001b[39m:\n\u001b[0;32m    863\u001b[0m     \u001b[38;5;28;01mraise\u001b[39;00m \u001b[38;5;167;01mValueError\u001b[39;00m(\n\u001b[0;32m    864\u001b[0m         \u001b[38;5;124m\"\u001b[39m\u001b[38;5;124mNo fits were performed. \u001b[39m\u001b[38;5;124m\"\u001b[39m\n\u001b[0;32m    865\u001b[0m         \u001b[38;5;124m\"\u001b[39m\u001b[38;5;124mWas the CV iterator empty? \u001b[39m\u001b[38;5;124m\"\u001b[39m\n\u001b[0;32m    866\u001b[0m         \u001b[38;5;124m\"\u001b[39m\u001b[38;5;124mWere there no candidates?\u001b[39m\u001b[38;5;124m\"\u001b[39m\n\u001b[0;32m    867\u001b[0m     )\n",
      "File \u001b[1;32m~\\AppData\\Roaming\\Python\\Python311\\site-packages\\sklearn\\utils\\parallel.py:65\u001b[0m, in \u001b[0;36mParallel.__call__\u001b[1;34m(self, iterable)\u001b[0m\n\u001b[0;32m     60\u001b[0m config \u001b[38;5;241m=\u001b[39m get_config()\n\u001b[0;32m     61\u001b[0m iterable_with_config \u001b[38;5;241m=\u001b[39m (\n\u001b[0;32m     62\u001b[0m     (_with_config(delayed_func, config), args, kwargs)\n\u001b[0;32m     63\u001b[0m     \u001b[38;5;28;01mfor\u001b[39;00m delayed_func, args, kwargs \u001b[38;5;129;01min\u001b[39;00m iterable\n\u001b[0;32m     64\u001b[0m )\n\u001b[1;32m---> 65\u001b[0m \u001b[38;5;28;01mreturn\u001b[39;00m \u001b[38;5;28msuper\u001b[39m()\u001b[38;5;241m.\u001b[39m\u001b[38;5;21m__call__\u001b[39m(iterable_with_config)\n",
      "File \u001b[1;32m~\\AppData\\Roaming\\Python\\Python311\\site-packages\\joblib\\parallel.py:1863\u001b[0m, in \u001b[0;36mParallel.__call__\u001b[1;34m(self, iterable)\u001b[0m\n\u001b[0;32m   1861\u001b[0m     output \u001b[38;5;241m=\u001b[39m \u001b[38;5;28mself\u001b[39m\u001b[38;5;241m.\u001b[39m_get_sequential_output(iterable)\n\u001b[0;32m   1862\u001b[0m     \u001b[38;5;28mnext\u001b[39m(output)\n\u001b[1;32m-> 1863\u001b[0m     \u001b[38;5;28;01mreturn\u001b[39;00m output \u001b[38;5;28;01mif\u001b[39;00m \u001b[38;5;28mself\u001b[39m\u001b[38;5;241m.\u001b[39mreturn_generator \u001b[38;5;28;01melse\u001b[39;00m \u001b[38;5;28mlist\u001b[39m(output)\n\u001b[0;32m   1865\u001b[0m \u001b[38;5;66;03m# Let's create an ID that uniquely identifies the current call. If the\u001b[39;00m\n\u001b[0;32m   1866\u001b[0m \u001b[38;5;66;03m# call is interrupted early and that the same instance is immediately\u001b[39;00m\n\u001b[0;32m   1867\u001b[0m \u001b[38;5;66;03m# re-used, this id will be used to prevent workers that were\u001b[39;00m\n\u001b[0;32m   1868\u001b[0m \u001b[38;5;66;03m# concurrently finalizing a task from the previous call to run the\u001b[39;00m\n\u001b[0;32m   1869\u001b[0m \u001b[38;5;66;03m# callback.\u001b[39;00m\n\u001b[0;32m   1870\u001b[0m \u001b[38;5;28;01mwith\u001b[39;00m \u001b[38;5;28mself\u001b[39m\u001b[38;5;241m.\u001b[39m_lock:\n",
      "File \u001b[1;32m~\\AppData\\Roaming\\Python\\Python311\\site-packages\\joblib\\parallel.py:1792\u001b[0m, in \u001b[0;36mParallel._get_sequential_output\u001b[1;34m(self, iterable)\u001b[0m\n\u001b[0;32m   1790\u001b[0m \u001b[38;5;28mself\u001b[39m\u001b[38;5;241m.\u001b[39mn_dispatched_batches \u001b[38;5;241m+\u001b[39m\u001b[38;5;241m=\u001b[39m \u001b[38;5;241m1\u001b[39m\n\u001b[0;32m   1791\u001b[0m \u001b[38;5;28mself\u001b[39m\u001b[38;5;241m.\u001b[39mn_dispatched_tasks \u001b[38;5;241m+\u001b[39m\u001b[38;5;241m=\u001b[39m \u001b[38;5;241m1\u001b[39m\n\u001b[1;32m-> 1792\u001b[0m res \u001b[38;5;241m=\u001b[39m func(\u001b[38;5;241m*\u001b[39margs, \u001b[38;5;241m*\u001b[39m\u001b[38;5;241m*\u001b[39mkwargs)\n\u001b[0;32m   1793\u001b[0m \u001b[38;5;28mself\u001b[39m\u001b[38;5;241m.\u001b[39mn_completed_tasks \u001b[38;5;241m+\u001b[39m\u001b[38;5;241m=\u001b[39m \u001b[38;5;241m1\u001b[39m\n\u001b[0;32m   1794\u001b[0m \u001b[38;5;28mself\u001b[39m\u001b[38;5;241m.\u001b[39mprint_progress()\n",
      "File \u001b[1;32m~\\AppData\\Roaming\\Python\\Python311\\site-packages\\sklearn\\utils\\parallel.py:127\u001b[0m, in \u001b[0;36m_FuncWrapper.__call__\u001b[1;34m(self, *args, **kwargs)\u001b[0m\n\u001b[0;32m    125\u001b[0m     config \u001b[38;5;241m=\u001b[39m {}\n\u001b[0;32m    126\u001b[0m \u001b[38;5;28;01mwith\u001b[39;00m config_context(\u001b[38;5;241m*\u001b[39m\u001b[38;5;241m*\u001b[39mconfig):\n\u001b[1;32m--> 127\u001b[0m     \u001b[38;5;28;01mreturn\u001b[39;00m \u001b[38;5;28mself\u001b[39m\u001b[38;5;241m.\u001b[39mfunction(\u001b[38;5;241m*\u001b[39margs, \u001b[38;5;241m*\u001b[39m\u001b[38;5;241m*\u001b[39mkwargs)\n",
      "File \u001b[1;32m~\\AppData\\Roaming\\Python\\Python311\\site-packages\\sklearn\\model_selection\\_validation.py:729\u001b[0m, in \u001b[0;36m_fit_and_score\u001b[1;34m(estimator, X, y, scorer, train, test, verbose, parameters, fit_params, return_train_score, return_parameters, return_n_test_samples, return_times, return_estimator, split_progress, candidate_progress, error_score)\u001b[0m\n\u001b[0;32m    727\u001b[0m         estimator\u001b[38;5;241m.\u001b[39mfit(X_train, \u001b[38;5;241m*\u001b[39m\u001b[38;5;241m*\u001b[39mfit_params)\n\u001b[0;32m    728\u001b[0m     \u001b[38;5;28;01melse\u001b[39;00m:\n\u001b[1;32m--> 729\u001b[0m         estimator\u001b[38;5;241m.\u001b[39mfit(X_train, y_train, \u001b[38;5;241m*\u001b[39m\u001b[38;5;241m*\u001b[39mfit_params)\n\u001b[0;32m    731\u001b[0m \u001b[38;5;28;01mexcept\u001b[39;00m \u001b[38;5;167;01mException\u001b[39;00m:\n\u001b[0;32m    732\u001b[0m     \u001b[38;5;66;03m# Note fit time as time until error\u001b[39;00m\n\u001b[0;32m    733\u001b[0m     fit_time \u001b[38;5;241m=\u001b[39m time\u001b[38;5;241m.\u001b[39mtime() \u001b[38;5;241m-\u001b[39m start_time\n",
      "File \u001b[1;32m~\\AppData\\Roaming\\Python\\Python311\\site-packages\\sklearn\\base.py:1152\u001b[0m, in \u001b[0;36m_fit_context.<locals>.decorator.<locals>.wrapper\u001b[1;34m(estimator, *args, **kwargs)\u001b[0m\n\u001b[0;32m   1145\u001b[0m     estimator\u001b[38;5;241m.\u001b[39m_validate_params()\n\u001b[0;32m   1147\u001b[0m \u001b[38;5;28;01mwith\u001b[39;00m config_context(\n\u001b[0;32m   1148\u001b[0m     skip_parameter_validation\u001b[38;5;241m=\u001b[39m(\n\u001b[0;32m   1149\u001b[0m         prefer_skip_nested_validation \u001b[38;5;129;01mor\u001b[39;00m global_skip_validation\n\u001b[0;32m   1150\u001b[0m     )\n\u001b[0;32m   1151\u001b[0m ):\n\u001b[1;32m-> 1152\u001b[0m     \u001b[38;5;28;01mreturn\u001b[39;00m fit_method(estimator, \u001b[38;5;241m*\u001b[39margs, \u001b[38;5;241m*\u001b[39m\u001b[38;5;241m*\u001b[39mkwargs)\n",
      "File \u001b[1;32m~\\AppData\\Roaming\\Python\\Python311\\site-packages\\sklearn\\svm\\_base.py:250\u001b[0m, in \u001b[0;36mBaseLibSVM.fit\u001b[1;34m(self, X, y, sample_weight)\u001b[0m\n\u001b[0;32m    247\u001b[0m     \u001b[38;5;28mprint\u001b[39m(\u001b[38;5;124m\"\u001b[39m\u001b[38;5;124m[LibSVM]\u001b[39m\u001b[38;5;124m\"\u001b[39m, end\u001b[38;5;241m=\u001b[39m\u001b[38;5;124m\"\u001b[39m\u001b[38;5;124m\"\u001b[39m)\n\u001b[0;32m    249\u001b[0m seed \u001b[38;5;241m=\u001b[39m rnd\u001b[38;5;241m.\u001b[39mrandint(np\u001b[38;5;241m.\u001b[39miinfo(\u001b[38;5;124m\"\u001b[39m\u001b[38;5;124mi\u001b[39m\u001b[38;5;124m\"\u001b[39m)\u001b[38;5;241m.\u001b[39mmax)\n\u001b[1;32m--> 250\u001b[0m fit(X, y, sample_weight, solver_type, kernel, random_seed\u001b[38;5;241m=\u001b[39mseed)\n\u001b[0;32m    251\u001b[0m \u001b[38;5;66;03m# see comment on the other call to np.iinfo in this file\u001b[39;00m\n\u001b[0;32m    253\u001b[0m \u001b[38;5;28mself\u001b[39m\u001b[38;5;241m.\u001b[39mshape_fit_ \u001b[38;5;241m=\u001b[39m X\u001b[38;5;241m.\u001b[39mshape \u001b[38;5;28;01mif\u001b[39;00m \u001b[38;5;28mhasattr\u001b[39m(X, \u001b[38;5;124m\"\u001b[39m\u001b[38;5;124mshape\u001b[39m\u001b[38;5;124m\"\u001b[39m) \u001b[38;5;28;01melse\u001b[39;00m (n_samples,)\n",
      "File \u001b[1;32m~\\AppData\\Roaming\\Python\\Python311\\site-packages\\sklearn\\svm\\_base.py:329\u001b[0m, in \u001b[0;36mBaseLibSVM._dense_fit\u001b[1;34m(self, X, y, sample_weight, solver_type, kernel, random_seed)\u001b[0m\n\u001b[0;32m    315\u001b[0m libsvm\u001b[38;5;241m.\u001b[39mset_verbosity_wrap(\u001b[38;5;28mself\u001b[39m\u001b[38;5;241m.\u001b[39mverbose)\n\u001b[0;32m    317\u001b[0m \u001b[38;5;66;03m# we don't pass **self.get_params() to allow subclasses to\u001b[39;00m\n\u001b[0;32m    318\u001b[0m \u001b[38;5;66;03m# add other parameters to __init__\u001b[39;00m\n\u001b[0;32m    319\u001b[0m (\n\u001b[0;32m    320\u001b[0m     \u001b[38;5;28mself\u001b[39m\u001b[38;5;241m.\u001b[39msupport_,\n\u001b[0;32m    321\u001b[0m     \u001b[38;5;28mself\u001b[39m\u001b[38;5;241m.\u001b[39msupport_vectors_,\n\u001b[0;32m    322\u001b[0m     \u001b[38;5;28mself\u001b[39m\u001b[38;5;241m.\u001b[39m_n_support,\n\u001b[0;32m    323\u001b[0m     \u001b[38;5;28mself\u001b[39m\u001b[38;5;241m.\u001b[39mdual_coef_,\n\u001b[0;32m    324\u001b[0m     \u001b[38;5;28mself\u001b[39m\u001b[38;5;241m.\u001b[39mintercept_,\n\u001b[0;32m    325\u001b[0m     \u001b[38;5;28mself\u001b[39m\u001b[38;5;241m.\u001b[39m_probA,\n\u001b[0;32m    326\u001b[0m     \u001b[38;5;28mself\u001b[39m\u001b[38;5;241m.\u001b[39m_probB,\n\u001b[0;32m    327\u001b[0m     \u001b[38;5;28mself\u001b[39m\u001b[38;5;241m.\u001b[39mfit_status_,\n\u001b[0;32m    328\u001b[0m     \u001b[38;5;28mself\u001b[39m\u001b[38;5;241m.\u001b[39m_num_iter,\n\u001b[1;32m--> 329\u001b[0m ) \u001b[38;5;241m=\u001b[39m libsvm\u001b[38;5;241m.\u001b[39mfit(\n\u001b[0;32m    330\u001b[0m     X,\n\u001b[0;32m    331\u001b[0m     y,\n\u001b[0;32m    332\u001b[0m     svm_type\u001b[38;5;241m=\u001b[39msolver_type,\n\u001b[0;32m    333\u001b[0m     sample_weight\u001b[38;5;241m=\u001b[39msample_weight,\n\u001b[0;32m    334\u001b[0m     \u001b[38;5;66;03m# TODO(1.4): Replace \"_class_weight\" with \"class_weight_\"\u001b[39;00m\n\u001b[0;32m    335\u001b[0m     class_weight\u001b[38;5;241m=\u001b[39m\u001b[38;5;28mgetattr\u001b[39m(\u001b[38;5;28mself\u001b[39m, \u001b[38;5;124m\"\u001b[39m\u001b[38;5;124m_class_weight\u001b[39m\u001b[38;5;124m\"\u001b[39m, np\u001b[38;5;241m.\u001b[39mempty(\u001b[38;5;241m0\u001b[39m)),\n\u001b[0;32m    336\u001b[0m     kernel\u001b[38;5;241m=\u001b[39mkernel,\n\u001b[0;32m    337\u001b[0m     C\u001b[38;5;241m=\u001b[39m\u001b[38;5;28mself\u001b[39m\u001b[38;5;241m.\u001b[39mC,\n\u001b[0;32m    338\u001b[0m     nu\u001b[38;5;241m=\u001b[39m\u001b[38;5;28mself\u001b[39m\u001b[38;5;241m.\u001b[39mnu,\n\u001b[0;32m    339\u001b[0m     probability\u001b[38;5;241m=\u001b[39m\u001b[38;5;28mself\u001b[39m\u001b[38;5;241m.\u001b[39mprobability,\n\u001b[0;32m    340\u001b[0m     degree\u001b[38;5;241m=\u001b[39m\u001b[38;5;28mself\u001b[39m\u001b[38;5;241m.\u001b[39mdegree,\n\u001b[0;32m    341\u001b[0m     shrinking\u001b[38;5;241m=\u001b[39m\u001b[38;5;28mself\u001b[39m\u001b[38;5;241m.\u001b[39mshrinking,\n\u001b[0;32m    342\u001b[0m     tol\u001b[38;5;241m=\u001b[39m\u001b[38;5;28mself\u001b[39m\u001b[38;5;241m.\u001b[39mtol,\n\u001b[0;32m    343\u001b[0m     cache_size\u001b[38;5;241m=\u001b[39m\u001b[38;5;28mself\u001b[39m\u001b[38;5;241m.\u001b[39mcache_size,\n\u001b[0;32m    344\u001b[0m     coef0\u001b[38;5;241m=\u001b[39m\u001b[38;5;28mself\u001b[39m\u001b[38;5;241m.\u001b[39mcoef0,\n\u001b[0;32m    345\u001b[0m     gamma\u001b[38;5;241m=\u001b[39m\u001b[38;5;28mself\u001b[39m\u001b[38;5;241m.\u001b[39m_gamma,\n\u001b[0;32m    346\u001b[0m     epsilon\u001b[38;5;241m=\u001b[39m\u001b[38;5;28mself\u001b[39m\u001b[38;5;241m.\u001b[39mepsilon,\n\u001b[0;32m    347\u001b[0m     max_iter\u001b[38;5;241m=\u001b[39m\u001b[38;5;28mself\u001b[39m\u001b[38;5;241m.\u001b[39mmax_iter,\n\u001b[0;32m    348\u001b[0m     random_seed\u001b[38;5;241m=\u001b[39mrandom_seed,\n\u001b[0;32m    349\u001b[0m )\n\u001b[0;32m    351\u001b[0m \u001b[38;5;28mself\u001b[39m\u001b[38;5;241m.\u001b[39m_warn_from_fit_status()\n",
      "\u001b[1;31mKeyboardInterrupt\u001b[0m: "
     ]
    }
   ],
   "source": [
    "grid.fit(x_train4,y_train4)"
   ]
  },
  {
   "cell_type": "code",
   "execution_count": null,
   "metadata": {},
   "outputs": [
    {
     "data": {
      "text/plain": [
       "{'C': 100, 'gamma': 0.1, 'kernel': 'rbf'}"
      ]
     },
     "execution_count": 63,
     "metadata": {},
     "output_type": "execute_result"
    }
   ],
   "source": [
    "grid.best_params_"
   ]
  },
  {
   "cell_type": "code",
   "execution_count": null,
   "metadata": {},
   "outputs": [
    {
     "data": {
      "text/html": [
       "<style>#sk-container-id-6 {color: black;}#sk-container-id-6 pre{padding: 0;}#sk-container-id-6 div.sk-toggleable {background-color: white;}#sk-container-id-6 label.sk-toggleable__label {cursor: pointer;display: block;width: 100%;margin-bottom: 0;padding: 0.3em;box-sizing: border-box;text-align: center;}#sk-container-id-6 label.sk-toggleable__label-arrow:before {content: \"▸\";float: left;margin-right: 0.25em;color: #696969;}#sk-container-id-6 label.sk-toggleable__label-arrow:hover:before {color: black;}#sk-container-id-6 div.sk-estimator:hover label.sk-toggleable__label-arrow:before {color: black;}#sk-container-id-6 div.sk-toggleable__content {max-height: 0;max-width: 0;overflow: hidden;text-align: left;background-color: #f0f8ff;}#sk-container-id-6 div.sk-toggleable__content pre {margin: 0.2em;color: black;border-radius: 0.25em;background-color: #f0f8ff;}#sk-container-id-6 input.sk-toggleable__control:checked~div.sk-toggleable__content {max-height: 200px;max-width: 100%;overflow: auto;}#sk-container-id-6 input.sk-toggleable__control:checked~label.sk-toggleable__label-arrow:before {content: \"▾\";}#sk-container-id-6 div.sk-estimator input.sk-toggleable__control:checked~label.sk-toggleable__label {background-color: #d4ebff;}#sk-container-id-6 div.sk-label input.sk-toggleable__control:checked~label.sk-toggleable__label {background-color: #d4ebff;}#sk-container-id-6 input.sk-hidden--visually {border: 0;clip: rect(1px 1px 1px 1px);clip: rect(1px, 1px, 1px, 1px);height: 1px;margin: -1px;overflow: hidden;padding: 0;position: absolute;width: 1px;}#sk-container-id-6 div.sk-estimator {font-family: monospace;background-color: #f0f8ff;border: 1px dotted black;border-radius: 0.25em;box-sizing: border-box;margin-bottom: 0.5em;}#sk-container-id-6 div.sk-estimator:hover {background-color: #d4ebff;}#sk-container-id-6 div.sk-parallel-item::after {content: \"\";width: 100%;border-bottom: 1px solid gray;flex-grow: 1;}#sk-container-id-6 div.sk-label:hover label.sk-toggleable__label {background-color: #d4ebff;}#sk-container-id-6 div.sk-serial::before {content: \"\";position: absolute;border-left: 1px solid gray;box-sizing: border-box;top: 0;bottom: 0;left: 50%;z-index: 0;}#sk-container-id-6 div.sk-serial {display: flex;flex-direction: column;align-items: center;background-color: white;padding-right: 0.2em;padding-left: 0.2em;position: relative;}#sk-container-id-6 div.sk-item {position: relative;z-index: 1;}#sk-container-id-6 div.sk-parallel {display: flex;align-items: stretch;justify-content: center;background-color: white;position: relative;}#sk-container-id-6 div.sk-item::before, #sk-container-id-6 div.sk-parallel-item::before {content: \"\";position: absolute;border-left: 1px solid gray;box-sizing: border-box;top: 0;bottom: 0;left: 50%;z-index: -1;}#sk-container-id-6 div.sk-parallel-item {display: flex;flex-direction: column;z-index: 1;position: relative;background-color: white;}#sk-container-id-6 div.sk-parallel-item:first-child::after {align-self: flex-end;width: 50%;}#sk-container-id-6 div.sk-parallel-item:last-child::after {align-self: flex-start;width: 50%;}#sk-container-id-6 div.sk-parallel-item:only-child::after {width: 0;}#sk-container-id-6 div.sk-dashed-wrapped {border: 1px dashed gray;margin: 0 0.4em 0.5em 0.4em;box-sizing: border-box;padding-bottom: 0.4em;background-color: white;}#sk-container-id-6 div.sk-label label {font-family: monospace;font-weight: bold;display: inline-block;line-height: 1.2em;}#sk-container-id-6 div.sk-label-container {text-align: center;}#sk-container-id-6 div.sk-container {/* jupyter's `normalize.less` sets `[hidden] { display: none; }` but bootstrap.min.css set `[hidden] { display: none !important; }` so we also need the `!important` here to be able to override the default hidden behavior on the sphinx rendered scikit-learn.org. See: https://github.com/scikit-learn/scikit-learn/issues/21755 */display: inline-block !important;position: relative;}#sk-container-id-6 div.sk-text-repr-fallback {display: none;}</style><div id=\"sk-container-id-6\" class=\"sk-top-container\"><div class=\"sk-text-repr-fallback\"><pre>SVC(C=100, gamma=0.1)</pre><b>In a Jupyter environment, please rerun this cell to show the HTML representation or trust the notebook. <br />On GitHub, the HTML representation is unable to render, please try loading this page with nbviewer.org.</b></div><div class=\"sk-container\" hidden><div class=\"sk-item\"><div class=\"sk-estimator sk-toggleable\"><input class=\"sk-toggleable__control sk-hidden--visually\" id=\"sk-estimator-id-10\" type=\"checkbox\" checked><label for=\"sk-estimator-id-10\" class=\"sk-toggleable__label sk-toggleable__label-arrow\">SVC</label><div class=\"sk-toggleable__content\"><pre>SVC(C=100, gamma=0.1)</pre></div></div></div></div></div>"
      ],
      "text/plain": [
       "SVC(C=100, gamma=0.1)"
      ]
     },
     "execution_count": 64,
     "metadata": {},
     "output_type": "execute_result"
    }
   ],
   "source": [
    "grid.best_estimator_"
   ]
  },
  {
   "cell_type": "code",
   "execution_count": null,
   "metadata": {},
   "outputs": [
    {
     "name": "stdout",
     "output_type": "stream",
     "text": [
      "              precision    recall  f1-score   support\n",
      "\n",
      "           0       0.79      0.71      0.75     20189\n",
      "           1       0.74      0.82      0.78     20218\n",
      "\n",
      "    accuracy                           0.76     40407\n",
      "   macro avg       0.77      0.76      0.76     40407\n",
      "weighted avg       0.77      0.76      0.76     40407\n",
      "\n",
      "              precision    recall  f1-score   support\n",
      "\n",
      "           0       0.78      0.70      0.74      6749\n",
      "           1       0.73      0.81      0.76      6720\n",
      "\n",
      "    accuracy                           0.75     13469\n",
      "   macro avg       0.76      0.75      0.75     13469\n",
      "weighted avg       0.76      0.75      0.75     13469\n",
      "\n"
     ]
    }
   ],
   "source": [
    "ypred_train = grid.predict(x_train4)\n",
    "y_pred_test = grid.predict(x_test4)\n",
    "\n",
    "print(\"Training Results\\n\")\n",
    "print(classification_report(y_train4,ypred_train))\n",
    "print(\"Test Results\\n\")\n",
    "print(classification_report(y_test4,y_pred_test))"
   ]
  },
  {
   "cell_type": "code",
   "execution_count": 60,
   "metadata": {},
   "outputs": [
    {
     "name": "stdout",
     "output_type": "stream",
     "text": [
      "Training Results\n",
      "\n",
      "              precision    recall  f1-score   support\n",
      "\n",
      "           0       0.79      0.71      0.75     20189\n",
      "           1       0.74      0.82      0.78     20218\n",
      "\n",
      "    accuracy                           0.76     40407\n",
      "   macro avg       0.77      0.76      0.76     40407\n",
      "weighted avg       0.77      0.76      0.76     40407\n",
      "\n",
      "Testing Results\n",
      "\n",
      "              precision    recall  f1-score   support\n",
      "\n",
      "           0       0.78      0.70      0.74      6749\n",
      "           1       0.73      0.81      0.76      6720\n",
      "\n",
      "    accuracy                           0.75     13469\n",
      "   macro avg       0.76      0.75      0.75     13469\n",
      "weighted avg       0.76      0.75      0.75     13469\n",
      "\n"
     ]
    },
    {
     "data": {
      "image/png": "[encoded data removed]",
      "text/plain": [
       "<Figure size 640x480 with 1 Axes>"
      ]
     },
     "metadata": {},
     "output_type": "display_data"
    }
   ],
   "source": [
    "model3 = SVC(C=100, gamma=0.1, kernel='rbf', probability=True)\n",
    "model3.fit(x_train4, y_train4)\n",
    "\n",
    "\n",
    "ypred_train14 = model3.predict(x_train4)\n",
    "y_pred_test14 = model3.predict(x_test4)\n",
    "\n",
    "\n",
    "print(\"Training Results\\n\")\n",
    "print(classification_report(y_train4, ypred_train14))\n",
    "print(\"Testing Results\\n\")\n",
    "print(classification_report(y_test4, y_pred_test14))\n",
    "\n",
    "y_proba_test = model3.predict_proba(x_test4)[:, 1]\n",
    "fpr, tpr, thresholds = roc_curve(y_test4, y_proba_test)\n",
    "\n",
    "# cross_val_scores = cross_val_score(model3, x_train4, y_train4, cv=5)\n",
    "# print(\"Cross-validation scores:\", cross_val_scores)\n",
    "# print(\"Average cross-validation score:\", np.mean(cross_val_scores))\n",
    "\n",
    "plt.plot(fpr, tpr, label='ROC Curve')\n",
    "plt.xlabel('False Positive Rate')\n",
    "plt.ylabel('True Positive Rate')\n",
    "plt.title('ROC Curve with AUC = {:.2f}'.format(roc_auc_score(y_test4, y_proba_test)))\n",
    "plt.legend(loc='lower right')\n",
    "plt.grid(True)\n",
    "plt.show()"
   ]
  }
 ],
 "metadata": {
  "kernelspec": {
   "display_name": "Python 3",
   "language": "python",
   "name": "python3"
  },
  "language_info": {
   "codemirror_mode": {
    "name": "ipython",
    "version": 3
   },
   "file_extension": ".py",
   "mimetype": "text/x-python",
   "name": "python",
   "nbconvert_exporter": "python",
   "pygments_lexer": "ipython3",
   "version": "0.0.0"
  }
 },
 "nbformat": 4,
 "nbformat_minor": 2
}
