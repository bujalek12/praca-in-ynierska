{
 "cells": [
  {
   "cell_type": "code",
   "execution_count": 1,
   "metadata": {},
   "outputs": [
    {
     "name": "stdout",
     "output_type": "stream",
     "text": [
      "WARNING:tensorflow:From C:\\Users\\DELL\\AppData\\Roaming\\Python\\Python311\\site-packages\\keras\\src\\losses.py:2976: The name tf.losses.sparse_softmax_cross_entropy is deprecated. Please use tf.compat.v1.losses.sparse_softmax_cross_entropy instead.\n",
      "\n"
     ]
    }
   ],
   "source": [
    "import pandas as pd\n",
    "import numpy as np\n",
    "import matplotlib.pyplot as plt\n",
    "import plotly.express as px\n",
    "from sklearn.preprocessing import LabelEncoder\n",
    "from sklearn.preprocessing import RobustScaler , MinMaxScaler, StandardScaler\n",
    "import seaborn as sns\n",
    "from sklearn.metrics import roc_curve\n",
    "from sklearn.metrics import roc_auc_score\n",
    "import tensorflow as tf\n",
    "from keras.preprocessing.image import ImageDataGenerator\n",
    "from tensorflow.keras.layers import Dropout\n",
    "from tensorflow.keras.models import Sequential\n",
    "from tensorflow.keras.layers import Dense, Activation\n",
    "from tensorflow.keras.callbacks import EarlyStopping\n",
    "from tensorflow.keras.layers import Input,Flatten,Conv1D,MaxPooling1D\n",
    "from sklearn.metrics import classification_report\n",
    "import warnings\n",
    "warnings.filterwarnings('ignore')\n",
    "import missingno as msno\n",
    "from sklearn.model_selection import train_test_split\n",
    "from sklearn.metrics import accuracy_score\n",
    "from sklearn.metrics import mean_absolute_error , mean_absolute_percentage_error , mean_squared_error\n",
    "from sklearn.metrics import r2_score\n",
    "from sklearn.metrics import confusion_matrix\n",
    "from sklearn.model_selection import cross_val_score\n",
    "from sklearn.metrics import RocCurveDisplay\n",
    "from sklearn.model_selection import RepeatedStratifiedKFold\n",
    "from sklearn.metrics import accuracy_score, precision_score, recall_score, f1_score\n",
    "from sklearn.model_selection import GridSearchCV\n",
    "from sklearn.tree import DecisionTreeClassifier\n",
    "from sklearn.ensemble import RandomForestClassifier\n",
    "from sklearn.naive_bayes import GaussianNB\n",
    "from xgboost import XGBClassifier\n",
    "from sklearn.linear_model import LogisticRegression\n",
    "from sklearn.svm import SVC\n",
    "from sklearn.decomposition import PCA\n",
    "from sklearn.ensemble import GradientBoostingClassifier\n",
    "from sklearn.neighbors import KNeighborsClassifier\n",
    "from keras.layers import LSTM\n",
    "from imblearn.over_sampling import SMOTE\n",
    "from sklearn.preprocessing import MinMaxScaler\n"
   ]
  },
  {
   "cell_type": "markdown",
   "metadata": {},
   "source": [
    "## With SMOTE (Synthetic Minority Oversampling Technique) with Evaluation"
   ]
  },
  {
   "cell_type": "code",
   "execution_count": 2,
   "metadata": {},
   "outputs": [
    {
     "data": {
      "text/html": [
       "<div>\n",
       "<style scoped>\n",
       "    .dataframe tbody tr th:only-of-type {\n",
       "        vertical-align: middle;\n",
       "    }\n",
       "\n",
       "    .dataframe tbody tr th {\n",
       "        vertical-align: top;\n",
       "    }\n",
       "\n",
       "    .dataframe thead th {\n",
       "        text-align: right;\n",
       "    }\n",
       "</style>\n",
       "<table border=\"1\" class=\"dataframe\">\n",
       "  <thead>\n",
       "    <tr style=\"text-align: right;\">\n",
       "      <th></th>\n",
       "      <th>HeartDisease</th>\n",
       "      <th>BMI</th>\n",
       "      <th>Smoking</th>\n",
       "      <th>AlcoholDrinking</th>\n",
       "      <th>Stroke</th>\n",
       "      <th>PhysicalHealth</th>\n",
       "      <th>MentalHealth</th>\n",
       "      <th>DiffWalking</th>\n",
       "      <th>Sex</th>\n",
       "      <th>AgeCategory</th>\n",
       "      <th>Race</th>\n",
       "      <th>Diabetic</th>\n",
       "      <th>PhysicalActivity</th>\n",
       "      <th>GenHealth</th>\n",
       "      <th>SleepTime</th>\n",
       "      <th>Asthma</th>\n",
       "      <th>KidneyDisease</th>\n",
       "      <th>SkinCancer</th>\n",
       "    </tr>\n",
       "  </thead>\n",
       "  <tbody>\n",
       "    <tr>\n",
       "      <th>0</th>\n",
       "      <td>0</td>\n",
       "      <td>16.60</td>\n",
       "      <td>1</td>\n",
       "      <td>0</td>\n",
       "      <td>0</td>\n",
       "      <td>3</td>\n",
       "      <td>30</td>\n",
       "      <td>0</td>\n",
       "      <td>0</td>\n",
       "      <td>8</td>\n",
       "      <td>4</td>\n",
       "      <td>2</td>\n",
       "      <td>1</td>\n",
       "      <td>2</td>\n",
       "      <td>5</td>\n",
       "      <td>1</td>\n",
       "      <td>0</td>\n",
       "      <td>1</td>\n",
       "    </tr>\n",
       "    <tr>\n",
       "      <th>1</th>\n",
       "      <td>0</td>\n",
       "      <td>20.34</td>\n",
       "      <td>0</td>\n",
       "      <td>0</td>\n",
       "      <td>1</td>\n",
       "      <td>0</td>\n",
       "      <td>0</td>\n",
       "      <td>0</td>\n",
       "      <td>0</td>\n",
       "      <td>13</td>\n",
       "      <td>4</td>\n",
       "      <td>0</td>\n",
       "      <td>1</td>\n",
       "      <td>2</td>\n",
       "      <td>7</td>\n",
       "      <td>0</td>\n",
       "      <td>0</td>\n",
       "      <td>0</td>\n",
       "    </tr>\n",
       "    <tr>\n",
       "      <th>2</th>\n",
       "      <td>0</td>\n",
       "      <td>26.58</td>\n",
       "      <td>1</td>\n",
       "      <td>0</td>\n",
       "      <td>0</td>\n",
       "      <td>20</td>\n",
       "      <td>30</td>\n",
       "      <td>0</td>\n",
       "      <td>1</td>\n",
       "      <td>10</td>\n",
       "      <td>4</td>\n",
       "      <td>2</td>\n",
       "      <td>1</td>\n",
       "      <td>4</td>\n",
       "      <td>8</td>\n",
       "      <td>1</td>\n",
       "      <td>0</td>\n",
       "      <td>0</td>\n",
       "    </tr>\n",
       "    <tr>\n",
       "      <th>3</th>\n",
       "      <td>0</td>\n",
       "      <td>24.21</td>\n",
       "      <td>0</td>\n",
       "      <td>0</td>\n",
       "      <td>0</td>\n",
       "      <td>0</td>\n",
       "      <td>0</td>\n",
       "      <td>0</td>\n",
       "      <td>0</td>\n",
       "      <td>12</td>\n",
       "      <td>4</td>\n",
       "      <td>0</td>\n",
       "      <td>0</td>\n",
       "      <td>3</td>\n",
       "      <td>6</td>\n",
       "      <td>0</td>\n",
       "      <td>0</td>\n",
       "      <td>1</td>\n",
       "    </tr>\n",
       "    <tr>\n",
       "      <th>4</th>\n",
       "      <td>0</td>\n",
       "      <td>23.71</td>\n",
       "      <td>0</td>\n",
       "      <td>0</td>\n",
       "      <td>0</td>\n",
       "      <td>28</td>\n",
       "      <td>0</td>\n",
       "      <td>1</td>\n",
       "      <td>0</td>\n",
       "      <td>5</td>\n",
       "      <td>4</td>\n",
       "      <td>0</td>\n",
       "      <td>1</td>\n",
       "      <td>2</td>\n",
       "      <td>8</td>\n",
       "      <td>0</td>\n",
       "      <td>0</td>\n",
       "      <td>0</td>\n",
       "    </tr>\n",
       "  </tbody>\n",
       "</table>\n",
       "</div>"
      ],
      "text/plain": [
       "   HeartDisease    BMI  Smoking  AlcoholDrinking  Stroke  PhysicalHealth  \\\n",
       "0             0  16.60        1                0       0               3   \n",
       "1             0  20.34        0                0       1               0   \n",
       "2             0  26.58        1                0       0              20   \n",
       "3             0  24.21        0                0       0               0   \n",
       "4             0  23.71        0                0       0              28   \n",
       "\n",
       "   MentalHealth  DiffWalking  Sex  AgeCategory  Race  Diabetic  \\\n",
       "0            30            0    0            8     4         2   \n",
       "1             0            0    0           13     4         0   \n",
       "2            30            0    1           10     4         2   \n",
       "3             0            0    0           12     4         0   \n",
       "4             0            1    0            5     4         0   \n",
       "\n",
       "   PhysicalActivity  GenHealth  SleepTime  Asthma  KidneyDisease  SkinCancer  \n",
       "0                 1          2          5       1              0           1  \n",
       "1                 1          2          7       0              0           0  \n",
       "2                 1          4          8       1              0           0  \n",
       "3                 0          3          6       0              0           1  \n",
       "4                 1          2          8       0              0           0  "
      ]
     },
     "execution_count": 2,
     "metadata": {},
     "output_type": "execute_result"
    }
   ],
   "source": [
    "df= pd.read_csv('heart2020python.csv')\n",
    "df.head()"
   ]
  },
  {
   "cell_type": "markdown",
   "metadata": {},
   "source": [
    "## splite data"
   ]
  },
  {
   "cell_type": "code",
   "execution_count": 3,
   "metadata": {},
   "outputs": [
    {
     "data": {
      "text/plain": [
       "HeartDisease\n",
       "0    292422\n",
       "1     27373\n",
       "Name: count, dtype: int64"
      ]
     },
     "execution_count": 3,
     "metadata": {},
     "output_type": "execute_result"
    }
   ],
   "source": [
    "df.drop(['DiffWalking',\"SleepTime\"],axis=1,inplace=True)\n",
    "df.shape\n",
    "df['HeartDisease'].value_counts()\n"
   ]
  },
  {
   "cell_type": "code",
   "execution_count": 4,
   "metadata": {},
   "outputs": [],
   "source": [
    "x = df.drop([\"HeartDisease\"] , axis = 1).values\n",
    "y = df[\"HeartDisease\"].values"
   ]
  },
  {
   "cell_type": "code",
   "execution_count": 5,
   "metadata": {},
   "outputs": [],
   "source": [
    "df.duplicated().sum()\n",
    "df.drop_duplicates(inplace=True)"
   ]
  },
  {
   "cell_type": "code",
   "execution_count": 6,
   "metadata": {},
   "outputs": [],
   "source": [
    "sm = SMOTE(random_state = 42)\n",
    "x_smote, y_smote= sm.fit_resample(x, y)\n",
    "x_train2, x_test2, y_train2, y_test2 = train_test_split(x_smote, y_smote, test_size=0.25, random_state=42)\n"
   ]
  },
  {
   "cell_type": "code",
   "execution_count": 7,
   "metadata": {},
   "outputs": [],
   "source": [
    "from sklearn.preprocessing import MinMaxScaler\n",
    "scaler = MinMaxScaler()\n",
    "x_train2 = scaler.fit_transform(x_train2)\n",
    "x_test2 = scaler.transform(x_test2)"
   ]
  },
  {
   "cell_type": "markdown",
   "metadata": {},
   "source": [
    "## Random forest"
   ]
  },
  {
   "cell_type": "code",
   "execution_count": 8,
   "metadata": {},
   "outputs": [
    {
     "name": "stdout",
     "output_type": "stream",
     "text": [
      "Training Results\n",
      "\n",
      "              precision    recall  f1-score   support\n",
      "\n",
      "           0       0.95      0.96      0.96    219310\n",
      "           1       0.96      0.95      0.96    219323\n",
      "\n",
      "    accuracy                           0.96    438633\n",
      "   macro avg       0.96      0.96      0.96    438633\n",
      "weighted avg       0.96      0.96      0.96    438633\n",
      "\n",
      "Test Results\n",
      "\n",
      "              precision    recall  f1-score   support\n",
      "\n",
      "           0       0.92      0.94      0.93     73112\n",
      "           1       0.93      0.92      0.93     73099\n",
      "\n",
      "    accuracy                           0.93    146211\n",
      "   macro avg       0.93      0.93      0.93    146211\n",
      "weighted avg       0.93      0.93      0.93    146211\n",
      "\n",
      "Confusion Matrix:\n",
      " [[68414  4698]\n",
      " [ 6039 67060]]\n",
      "Cross-validation scores: [0.92557593 0.92613449 0.92476661 0.92507352 0.92495953]\n",
      "Average cross-validation score: 0.9253020165583171\n"
     ]
    }
   ],
   "source": [
    "\n",
    "\n",
    "# # Inicjalizacja modelu z domyślnymi parametrami\n",
    "# rf = RandomForestClassifier()\n",
    "\n",
    "# # Określenie siatki parametrów do przetestowania\n",
    "# param_grid = {\n",
    "#     'n_estimators': [100, 200, 300],  # Liczba drzew\n",
    "#     'max_depth': [10, 20, 30],        # Maksymalna głębokość drzewa\n",
    "#     'min_samples_split': [2, 4, 6],   # Minimalna liczba próbek wymagana do podziału węzła\n",
    "#     'min_samples_leaf': [1, 2, 4],    # Minimalna liczba próbek wymagana w liściu\n",
    "#     'max_features': ['auto', 'sqrt']  # Liczba cech do rozważenia przy każdym podziale\n",
    "# }\n",
    "\n",
    "# # Utworzenie obiektu GridSearchCV\n",
    "# cv_rf = GridSearchCV(estimator=rf, param_grid=param_grid, cv=5, scoring='accuracy')\n",
    "\n",
    "# # Przeszukiwanie siatki parametrów\n",
    "# cv_rf.fit(x_train2, y_train2)\n",
    "\n",
    "# # Najlepszy zestaw parametrów\n",
    "# print(\"Najlepsze parametry: \", cv_rf.best_params_)\n",
    "\n",
    "# # Najlepszy estimator\n",
    "# best_rf = cv_rf.best_estimator_\n",
    "\n",
    "# # Predykcje i ocena modelu\n",
    "# ypred_train1 = best_rf.predict(x_train2)\n",
    "# ypred_test1 = best_rf.predict(x_test2)\n",
    "\n",
    "params = {\n",
    "    'n_estimators': 300,  # Liczba drzew\n",
    "    'max_depth': 30,        # Maksymalna głębokość drzewa\n",
    "    'min_samples_split': 6,   # Minimalna liczba próbek wymagana do podziału węzła\n",
    "    'min_samples_leaf': 1,    # Minimalna liczba próbek wymagana w liściu\n",
    "    'max_features': 'sqrt'\n",
    "}\n",
    "\n",
    "rf_clf = RandomForestClassifier(\n",
    "    n_estimators=params['n_estimators'],\n",
    "    max_depth=params['max_depth'],\n",
    "    min_samples_split=params['min_samples_split'],\n",
    "    min_samples_leaf=params['min_samples_leaf'],\n",
    "    max_features=params['max_features'])\n",
    "rf_clf.fit(x_train2, y_train2)\n",
    "\n",
    "ypred_train1 = rf_clf.predict(x_train2)\n",
    "ypred_test1 = rf_clf.predict(x_test2)\n",
    "\n",
    "print(\"Training Results\\n\")\n",
    "print(classification_report(y_train2, ypred_train1))\n",
    "print(\"Test Results\\n\")\n",
    "print(classification_report(y_test2, ypred_test1))\n",
    "\n",
    "# Macierz pomyłek\n",
    "conf_matrix = confusion_matrix(y_test2, ypred_test1)\n",
    "print(\"Confusion Matrix:\\n\", conf_matrix)\n",
    "\n",
    "# Ocena modelu za pomocą walidacji krzyżowej\n",
    "cross_val_scores = cross_val_score(rf_clf, x_train2, y_train2, cv=5)\n",
    "print(\"Cross-validation scores:\", cross_val_scores)\n",
    "print(\"Average cross-validation score:\", np.mean(cross_val_scores))"
   ]
  },
  {
   "cell_type": "code",
   "execution_count": 9,
   "metadata": {},
   "outputs": [
    {
     "data": {
      "image/png": "[encoded data removed]",
      "text/plain": [
       "<Figure size 640x480 with 1 Axes>"
      ]
     },
     "metadata": {},
     "output_type": "display_data"
    }
   ],
   "source": [
    "\n",
    "y_proba_test = rf_clf.predict_proba(x_test2)[:, 1]\n",
    "\n",
    "fpr, tpr, thresholds = roc_curve(y_test2, y_proba_test)\n",
    "\n",
    "plt.plot(fpr, tpr, label='ROC Curve')\n",
    "plt.xlabel('False Positive Rate')\n",
    "plt.ylabel('True Positive Rate')\n",
    "plt.title('ROC Curve with AUC = {:.2f}'.format(roc_auc_score(y_test2, y_proba_test)))\n",
    "plt.legend(loc='lower right')\n",
    "plt.grid(True)\n",
    "plt.show()"
   ]
  },
  {
   "cell_type": "markdown",
   "metadata": {},
   "source": [
    "## DECISION TREE CLASSIFIER"
   ]
  },
  {
   "cell_type": "code",
   "execution_count": 10,
   "metadata": {},
   "outputs": [
    {
     "name": "stdout",
     "output_type": "stream",
     "text": [
      "Training Results\n",
      "\n",
      "              precision    recall  f1-score   support\n",
      "\n",
      "           0       0.95      0.99      0.97    219310\n",
      "           1       0.99      0.95      0.97    219323\n",
      "\n",
      "    accuracy                           0.97    438633\n",
      "   macro avg       0.97      0.97      0.97    438633\n",
      "weighted avg       0.97      0.97      0.97    438633\n",
      "\n",
      "Testing Results\n",
      "\n",
      "              precision    recall  f1-score   support\n",
      "\n",
      "           0       0.89      0.93      0.91     73112\n",
      "           1       0.93      0.89      0.91     73099\n",
      "\n",
      "    accuracy                           0.91    146211\n",
      "   macro avg       0.91      0.91      0.91    146211\n",
      "weighted avg       0.91      0.91      0.91    146211\n",
      "\n",
      "Cross-Validation Scores for the Best Model: [0.90454478 0.90648261 0.90565048 0.90740487 0.90543282]\n",
      "Average Cross-Validation Score: 0.9059031149764593\n"
     ]
    }
   ],
   "source": [
    "\n",
    "\n",
    "# # Parametry do przetestowania w Grid Search\n",
    "# param_grid = {\n",
    "#     'max_depth': [3, 5, 10, None],\n",
    "#     'min_samples_split': [2, 5, 10],\n",
    "#     'min_samples_leaf': [1, 2, 5],\n",
    "#     'criterion': ['gini', 'entropy']\n",
    "# }\n",
    "\n",
    "# # Utworzenie modelu drzewa decyzyjnego\n",
    "# tree = DecisionTreeClassifier()\n",
    "\n",
    "# # Uruchomienie Grid Search z walidacją krzyżową\n",
    "# grid_search = GridSearchCV(tree, param_grid, cv=5, scoring='accuracy')\n",
    "# grid_search.fit(x_train2, y_train2)\n",
    "\n",
    "# # Wyświetlenie najlepszych parametrów i wyników\n",
    "# print(\"Najlepsze parametry:\", grid_search.best_params_)\n",
    "# print(\"Najlepsza dokładność:\", grid_search.best_score_)\n",
    "\n",
    "# # Utworzenie i ocena modelu z najlepszymi parametrami\n",
    "# best_tree = grid_search.best_estimator_\n",
    "# best_tree.fit(x_train2, y_train2)\n",
    "\n",
    "params = {\n",
    "    'max_depth': None,\n",
    "    'min_samples_split': 2,\n",
    "    'min_samples_leaf': 2,\n",
    "    'criterion': 'entropy'\n",
    "}\n",
    "dc_clf = DecisionTreeClassifier(\n",
    "    max_depth=params['max_depth'],\n",
    "    min_samples_split=params['min_samples_split'],\n",
    "    min_samples_leaf=params['min_samples_leaf'],\n",
    "    criterion=params['criterion'])\n",
    "dc_clf.fit(x_train2, y_train2)\n",
    "\n",
    "\n",
    "\n",
    "ypred_train2 = dc_clf.predict(x_train2)\n",
    "ypred_test2 = dc_clf.predict(x_test2)\n",
    "\n",
    "# Ocena modelu na zbiorze testowym\n",
    "\n",
    "print(\"Training Results\\n\")\n",
    "print(classification_report(y_train2, ypred_train2))\n",
    "print('Testing Results\\n')\n",
    "print(classification_report(y_test2, ypred_test2))\n",
    "\n",
    "# Dodatkowo: Walidacja krzyżowa dla najlepszego modelu na całym zbiorze danych\n",
    "cross_val_scores = cross_val_score(dc_clf, x_train2, y_train2, cv=5)\n",
    "print(\"Cross-Validation Scores for the Best Model:\", cross_val_scores)\n",
    "print(\"Average Cross-Validation Score:\", cross_val_scores.mean())"
   ]
  },
  {
   "cell_type": "code",
   "execution_count": 11,
   "metadata": {},
   "outputs": [
    {
     "data": {
      "image/png": "[encoded data removed]",
      "text/plain": [
       "<Figure size 640x480 with 1 Axes>"
      ]
     },
     "metadata": {},
     "output_type": "display_data"
    }
   ],
   "source": [
    "from sklearn.metrics import roc_curve, roc_auc_score\n",
    "import matplotlib.pyplot as plt\n",
    "\n",
    "y_proba_test = dc_clf.predict_proba(x_test2)[:, 1]\n",
    "\n",
    "fpr, tpr, thresholds = roc_curve(y_test2, y_proba_test)\n",
    "\n",
    "plt.plot(fpr, tpr, label='ROC Curve')\n",
    "plt.xlabel('False Positive Rate')\n",
    "plt.ylabel('True Positive Rate')\n",
    "plt.title('ROC Curve with AUC = {:.2f}'.format(roc_auc_score(y_test2, y_proba_test)))\n",
    "plt.legend(loc='lower right')\n",
    "plt.grid(True)\n",
    "plt.show()"
   ]
  },
  {
   "cell_type": "markdown",
   "metadata": {},
   "source": [
    "## Naive Bayes"
   ]
  },
  {
   "cell_type": "code",
   "execution_count": 12,
   "metadata": {},
   "outputs": [
    {
     "name": "stdout",
     "output_type": "stream",
     "text": [
      "Naive Bayes Classifier Accuracy:  0.712579764860373\n"
     ]
    }
   ],
   "source": [
    "Gnb = GaussianNB()\n",
    "Gnb.fit(x_train2, y_train2)\n",
    "ypred_train3 = Gnb.predict(x_train2)\n",
    "y_pred_test3 = Gnb.predict(x_test2)\n",
    "\n",
    "print(\"Naive Bayes Classifier Accuracy: \",accuracy_score(y_test2, y_pred_test3))"
   ]
  },
  {
   "cell_type": "code",
   "execution_count": 13,
   "metadata": {},
   "outputs": [
    {
     "name": "stdout",
     "output_type": "stream",
     "text": [
      "Training Results\n",
      "\n",
      "              precision    recall  f1-score   support\n",
      "\n",
      "           0       0.68      0.80      0.74    219310\n",
      "           1       0.76      0.63      0.69    219323\n",
      "\n",
      "    accuracy                           0.71    438633\n",
      "   macro avg       0.72      0.71      0.71    438633\n",
      "weighted avg       0.72      0.71      0.71    438633\n",
      "\n"
     ]
    }
   ],
   "source": [
    "print(\"Training Results\\n\")\n",
    "print(classification_report(y_train2, ypred_train3))"
   ]
  },
  {
   "cell_type": "code",
   "execution_count": 14,
   "metadata": {},
   "outputs": [
    {
     "name": "stdout",
     "output_type": "stream",
     "text": [
      "Testing Results\n",
      "\n",
      "              precision    recall  f1-score   support\n",
      "\n",
      "           0       0.68      0.80      0.74     73112\n",
      "           1       0.76      0.63      0.69     73099\n",
      "\n",
      "    accuracy                           0.71    146211\n",
      "   macro avg       0.72      0.71      0.71    146211\n",
      "weighted avg       0.72      0.71      0.71    146211\n",
      "\n"
     ]
    }
   ],
   "source": [
    "print('Testing Results\\n')\n",
    "print(classification_report(y_test2, y_pred_test3))"
   ]
  },
  {
   "cell_type": "code",
   "execution_count": 15,
   "metadata": {},
   "outputs": [
    {
     "data": {
      "image/png": "[encoded data removed]",
      "text/plain": [
       "<Figure size 640x480 with 1 Axes>"
      ]
     },
     "metadata": {},
     "output_type": "display_data"
    }
   ],
   "source": [
    "# cross_val_scores = cross_val_score(Gnb, x_train2, y_train2, cv=5)\n",
    "# print(\"Cross-validation scores:\", cross_val_scores)\n",
    "# print(\"Average cross-validation score:\", np.mean(cross_val_scores))\n",
    "y_proba_test = Gnb.predict_proba(x_test2)[:, 1]\n",
    "\n",
    "fpr, tpr, thresholds = roc_curve(y_test2, y_proba_test)\n",
    "\n",
    "plt.plot(fpr, tpr, label='ROC Curve')\n",
    "plt.xlabel('False Positive Rate')\n",
    "plt.ylabel('True Positive Rate')\n",
    "plt.title('ROC Curve with AUC = {:.2f}'.format(roc_auc_score(y_test2, y_proba_test)))\n",
    "plt.legend(loc='lower right')\n",
    "plt.grid(True)\n",
    "plt.show()"
   ]
  },
  {
   "cell_type": "markdown",
   "metadata": {},
   "source": [
    "## XGBOSST"
   ]
  },
  {
   "cell_type": "code",
   "execution_count": 16,
   "metadata": {},
   "outputs": [
    {
     "name": "stdout",
     "output_type": "stream",
     "text": [
      "Accuracy on Training set:  0.9199102666694025\n",
      "Accuracy on Test set:  0.9129203685085253\n",
      "\n",
      "Training Results\n",
      "\n",
      "              precision    recall  f1-score   support\n",
      "\n",
      "           0       0.90      0.95      0.92    219310\n",
      "           1       0.94      0.89      0.92    219323\n",
      "\n",
      "    accuracy                           0.92    438633\n",
      "   macro avg       0.92      0.92      0.92    438633\n",
      "weighted avg       0.92      0.92      0.92    438633\n",
      "\n",
      "Testing Results\n",
      "\n",
      "              precision    recall  f1-score   support\n",
      "\n",
      "           0       0.89      0.94      0.92     73112\n",
      "           1       0.94      0.88      0.91     73099\n",
      "\n",
      "    accuracy                           0.91    146211\n",
      "   macro avg       0.91      0.91      0.91    146211\n",
      "weighted avg       0.91      0.91      0.91    146211\n",
      "\n"
     ]
    },
    {
     "data": {
      "image/png": "[encoded data removed]",
      "text/plain": [
       "<Figure size 640x480 with 1 Axes>"
      ]
     },
     "metadata": {},
     "output_type": "display_data"
    }
   ],
   "source": [
    "\n",
    "\n",
    "# # Inicjalizacja modelu XGBoost\n",
    "# xg = XGBClassifier()\n",
    "\n",
    "# # Definiowanie siatki hiperparametrów do przetestowania\n",
    "# param_grid = {\n",
    "#     'n_estimators': [50, 100, 200],\n",
    "#     'max_depth': [3, 5, 7],\n",
    "#     'learning_rate': [0.01, 0.1, 0.2],\n",
    "#     'subsample': [0.7, 0.8, 0.9],\n",
    "#     'colsample_bytree': [0.7, 0.8, 0.9]\n",
    "# }\n",
    "\n",
    "# # Utworzenie obiektu GridSearchCV\n",
    "# grid_search = GridSearchCV(estimator=xg, param_grid=param_grid, cv=3, scoring='accuracy')\n",
    "\n",
    "# # Przeszukiwanie siatki parametrów\n",
    "# grid_search.fit(x_train2, y_train2)\n",
    "\n",
    "# # Najlepsze parametry i najlepszy model\n",
    "# print(\"Najlepsze parametry: \", grid_search.best_params_)\n",
    "# best_xg = grid_search.best_estimator_\n",
    "\n",
    "params = {\n",
    "    'n_estimators': 200,\n",
    "    'max_depth': 7,\n",
    "    'learning_rate': 0.2,\n",
    "    'subsample': 0.9,\n",
    "    'colsample_bytree': 0.9\n",
    "}\n",
    "\n",
    "xg_clf = XGBClassifier(\n",
    "    n_estimators=params['n_estimators'],\n",
    "    max_depth=params['max_depth'],\n",
    "    learning_rate=params['learning_rate'],\n",
    "    subsample=params['subsample'],\n",
    "    colsample_bytree=params['colsample_bytree'])\n",
    "xg_clf.fit(x_train2, y_train2)\n",
    "\n",
    "# Predykcje na zbiorze treningowym i testowym\n",
    "ypred_train4 = xg_clf.predict(x_train2)\n",
    "y_pred_test4 = xg_clf.predict(x_test2)\n",
    "\n",
    "# Ocena modelu\n",
    "print(\"Accuracy on Training set: \", accuracy_score(y_train2, ypred_train4))\n",
    "print(\"Accuracy on Test set: \", accuracy_score(y_test2, y_pred_test4))\n",
    "print(\"\\nTraining Results\\n\")\n",
    "print(classification_report(y_train2, ypred_train4))\n",
    "print('Testing Results\\n')\n",
    "print(classification_report(y_test2, y_pred_test4))\n",
    "\n",
    "# cross_val_scores = cross_val_score(xg_clf, x_train2, y_train2, cv=5)\n",
    "# print(\"Cross-validation scores:\", cross_val_scores)\n",
    "# print(\"Average cross-validation score:\", np.mean(cross_val_scores))\n",
    "# Krzywa ROC\n",
    "y_proba_test4 = xg_clf.predict_proba(x_test2)[:, 1]\n",
    "fpr, tpr, thresholds = roc_curve(y_test2, y_proba_test4)\n",
    "plt.plot(fpr, tpr)\n",
    "plt.title(\"ROC Curve with AUC = {:.2f}\".format(roc_auc_score(y_test2, y_proba_test4)))\n",
    "plt.show()"
   ]
  },
  {
   "cell_type": "markdown",
   "metadata": {},
   "source": [
    "## logistic regression"
   ]
  },
  {
   "cell_type": "code",
   "execution_count": 17,
   "metadata": {},
   "outputs": [
    {
     "name": "stdout",
     "output_type": "stream",
     "text": [
      "Accuracy on Training set:  0.768870559214651\n",
      "Accuracy on Test set:  0.7682185334892724\n",
      "\n",
      "Training Results\n",
      "\n",
      "              precision    recall  f1-score   support\n",
      "\n",
      "           0       0.78      0.75      0.76    219310\n",
      "           1       0.76      0.79      0.77    219323\n",
      "\n",
      "    accuracy                           0.77    438633\n",
      "   macro avg       0.77      0.77      0.77    438633\n",
      "weighted avg       0.77      0.77      0.77    438633\n",
      "\n",
      "Testing Results\n",
      "\n",
      "              precision    recall  f1-score   support\n",
      "\n",
      "           0       0.78      0.75      0.76     73112\n",
      "           1       0.76      0.79      0.77     73099\n",
      "\n",
      "    accuracy                           0.77    146211\n",
      "   macro avg       0.77      0.77      0.77    146211\n",
      "weighted avg       0.77      0.77      0.77    146211\n",
      "\n"
     ]
    },
    {
     "data": {
      "image/png": "[encoded data removed]",
      "text/plain": [
       "<Figure size 640x480 with 1 Axes>"
      ]
     },
     "metadata": {},
     "output_type": "display_data"
    }
   ],
   "source": [
    "\n",
    "\n",
    "# # Inicjalizacja modelu regresji logistycznej\n",
    "# lg = LogisticRegression()\n",
    "\n",
    "# # Definiowanie siatki hiperparametrów do przetestowania\n",
    "# param_grid = {\n",
    "#     'C': [0.01, 0.1, 1, 10, 100],  # Parametr regularyzacji\n",
    "#     'penalty': ['l1', 'l2'],       # Typ regularyzacji\n",
    "#     'solver': ['liblinear']        # Algorytm optymalizacji (liblinear jest dobrym wyborem dla małych zbiorów danych)\n",
    "# }\n",
    "\n",
    "# # Utworzenie obiektu GridSearchCV\n",
    "# grid_search = GridSearchCV(estimator=lg, param_grid=param_grid, cv=5, scoring='accuracy')\n",
    "\n",
    "# # Przeszukiwanie siatki parametrów\n",
    "# grid_search.fit(x_train2, y_train2)\n",
    "\n",
    "# # Najlepsze parametry i najlepszy model\n",
    "# print(\"Najlepsze parametry: \", grid_search.best_params_)\n",
    "# best_lg = grid_search.best_estimator_\n",
    "\n",
    "params = {\n",
    "    'C': 10,\n",
    "    'penalty': 'l1',\n",
    "    'solver': 'liblinear'\n",
    "}\n",
    "\n",
    "best_lg = LogisticRegression(\n",
    "    C=params['C'],\n",
    "    penalty=params['penalty'],\n",
    "    solver=params['solver'])\n",
    "best_lg.fit(x_train2, y_train2)\n",
    "\n",
    "# Predykcje na zbiorze treningowym i testowym\n",
    "ypred_train4 = best_lg.predict(x_train2)\n",
    "y_pred_test4 = best_lg.predict(x_test2)\n",
    "\n",
    "# Ocena modelu\n",
    "print(\"Accuracy on Training set: \", accuracy_score(y_train2, ypred_train4))\n",
    "print(\"Accuracy on Test set: \", accuracy_score(y_test2, y_pred_test4))\n",
    "print(\"\\nTraining Results\\n\")\n",
    "print(classification_report(y_train2, ypred_train4))\n",
    "print('Testing Results\\n')\n",
    "print(classification_report(y_test2 ,y_pred_test4))\n",
    "\n",
    "# cross_val_scores = cross_val_score(best_lg, x_train2, y_train2, cv=5)\n",
    "# print(\"Cross-validation scores:\", cross_val_scores)\n",
    "# print(\"Average cross-validation score:\", np.mean(cross_val_scores))\n",
    "\n",
    "# Krzywa ROC\n",
    "y_proba_test4 = best_lg.predict_proba(x_test2)[:, 1]\n",
    "fpr, tpr, thresholds = roc_curve(y_test2, y_proba_test4)\n",
    "plt.plot(fpr, tpr)\n",
    "plt.title(\"ROC Curve with AUC = {:.2f}\".format(roc_auc_score(y_test2, y_proba_test4)))\n",
    "plt.show()"
   ]
  },
  {
   "cell_type": "markdown",
   "metadata": {},
   "source": [
    "## GradientBoostingClassifier"
   ]
  },
  {
   "cell_type": "code",
   "execution_count": 18,
   "metadata": {},
   "outputs": [
    {
     "data": {
      "text/html": [
       "<style>#sk-container-id-1 {color: black;}#sk-container-id-1 pre{padding: 0;}#sk-container-id-1 div.sk-toggleable {background-color: white;}#sk-container-id-1 label.sk-toggleable__label {cursor: pointer;display: block;width: 100%;margin-bottom: 0;padding: 0.3em;box-sizing: border-box;text-align: center;}#sk-container-id-1 label.sk-toggleable__label-arrow:before {content: \"▸\";float: left;margin-right: 0.25em;color: #696969;}#sk-container-id-1 label.sk-toggleable__label-arrow:hover:before {color: black;}#sk-container-id-1 div.sk-estimator:hover label.sk-toggleable__label-arrow:before {color: black;}#sk-container-id-1 div.sk-toggleable__content {max-height: 0;max-width: 0;overflow: hidden;text-align: left;background-color: #f0f8ff;}#sk-container-id-1 div.sk-toggleable__content pre {margin: 0.2em;color: black;border-radius: 0.25em;background-color: #f0f8ff;}#sk-container-id-1 input.sk-toggleable__control:checked~div.sk-toggleable__content {max-height: 200px;max-width: 100%;overflow: auto;}#sk-container-id-1 input.sk-toggleable__control:checked~label.sk-toggleable__label-arrow:before {content: \"▾\";}#sk-container-id-1 div.sk-estimator input.sk-toggleable__control:checked~label.sk-toggleable__label {background-color: #d4ebff;}#sk-container-id-1 div.sk-label input.sk-toggleable__control:checked~label.sk-toggleable__label {background-color: #d4ebff;}#sk-container-id-1 input.sk-hidden--visually {border: 0;clip: rect(1px 1px 1px 1px);clip: rect(1px, 1px, 1px, 1px);height: 1px;margin: -1px;overflow: hidden;padding: 0;position: absolute;width: 1px;}#sk-container-id-1 div.sk-estimator {font-family: monospace;background-color: #f0f8ff;border: 1px dotted black;border-radius: 0.25em;box-sizing: border-box;margin-bottom: 0.5em;}#sk-container-id-1 div.sk-estimator:hover {background-color: #d4ebff;}#sk-container-id-1 div.sk-parallel-item::after {content: \"\";width: 100%;border-bottom: 1px solid gray;flex-grow: 1;}#sk-container-id-1 div.sk-label:hover label.sk-toggleable__label {background-color: #d4ebff;}#sk-container-id-1 div.sk-serial::before {content: \"\";position: absolute;border-left: 1px solid gray;box-sizing: border-box;top: 0;bottom: 0;left: 50%;z-index: 0;}#sk-container-id-1 div.sk-serial {display: flex;flex-direction: column;align-items: center;background-color: white;padding-right: 0.2em;padding-left: 0.2em;position: relative;}#sk-container-id-1 div.sk-item {position: relative;z-index: 1;}#sk-container-id-1 div.sk-parallel {display: flex;align-items: stretch;justify-content: center;background-color: white;position: relative;}#sk-container-id-1 div.sk-item::before, #sk-container-id-1 div.sk-parallel-item::before {content: \"\";position: absolute;border-left: 1px solid gray;box-sizing: border-box;top: 0;bottom: 0;left: 50%;z-index: -1;}#sk-container-id-1 div.sk-parallel-item {display: flex;flex-direction: column;z-index: 1;position: relative;background-color: white;}#sk-container-id-1 div.sk-parallel-item:first-child::after {align-self: flex-end;width: 50%;}#sk-container-id-1 div.sk-parallel-item:last-child::after {align-self: flex-start;width: 50%;}#sk-container-id-1 div.sk-parallel-item:only-child::after {width: 0;}#sk-container-id-1 div.sk-dashed-wrapped {border: 1px dashed gray;margin: 0 0.4em 0.5em 0.4em;box-sizing: border-box;padding-bottom: 0.4em;background-color: white;}#sk-container-id-1 div.sk-label label {font-family: monospace;font-weight: bold;display: inline-block;line-height: 1.2em;}#sk-container-id-1 div.sk-label-container {text-align: center;}#sk-container-id-1 div.sk-container {/* jupyter's `normalize.less` sets `[hidden] { display: none; }` but bootstrap.min.css set `[hidden] { display: none !important; }` so we also need the `!important` here to be able to override the default hidden behavior on the sphinx rendered scikit-learn.org. See: https://github.com/scikit-learn/scikit-learn/issues/21755 */display: inline-block !important;position: relative;}#sk-container-id-1 div.sk-text-repr-fallback {display: none;}</style><div id=\"sk-container-id-1\" class=\"sk-top-container\"><div class=\"sk-text-repr-fallback\"><pre>GradientBoostingClassifier(learning_rate=0.2, max_depth=7, n_estimators=300)</pre><b>In a Jupyter environment, please rerun this cell to show the HTML representation or trust the notebook. <br />On GitHub, the HTML representation is unable to render, please try loading this page with nbviewer.org.</b></div><div class=\"sk-container\" hidden><div class=\"sk-item\"><div class=\"sk-estimator sk-toggleable\"><input class=\"sk-toggleable__control sk-hidden--visually\" id=\"sk-estimator-id-1\" type=\"checkbox\" checked><label for=\"sk-estimator-id-1\" class=\"sk-toggleable__label sk-toggleable__label-arrow\">GradientBoostingClassifier</label><div class=\"sk-toggleable__content\"><pre>GradientBoostingClassifier(learning_rate=0.2, max_depth=7, n_estimators=300)</pre></div></div></div></div></div>"
      ],
      "text/plain": [
       "GradientBoostingClassifier(learning_rate=0.2, max_depth=7, n_estimators=300)"
      ]
     },
     "execution_count": 18,
     "metadata": {},
     "output_type": "execute_result"
    }
   ],
   "source": [
    "params = {\n",
    "    'learning_rate': 0.2,\n",
    "    'max_depth': 7,\n",
    "    'min_samples_leaf': 1,\n",
    "    'min_samples_split': 2,\n",
    "    'n_estimators': 300\n",
    "}\n",
    "\n",
    "gb_clf = GradientBoostingClassifier(\n",
    "    learning_rate=params['learning_rate'],\n",
    "    max_depth=params['max_depth'],\n",
    "    min_samples_leaf=params['min_samples_leaf'],\n",
    "    min_samples_split=params['min_samples_split'],\n",
    "    n_estimators=params['n_estimators'])\n",
    "gb_clf.fit(x_train2, y_train2)"
   ]
  },
  {
   "cell_type": "code",
   "execution_count": 19,
   "metadata": {},
   "outputs": [
    {
     "name": "stdout",
     "output_type": "stream",
     "text": [
      "Accuracy on Training set:  0.9434219495569189\n",
      "Accuracy on Test set:  0.9297111708421391\n",
      "\n",
      "Training Results\n",
      "\n",
      "              precision    recall  f1-score   support\n",
      "\n",
      "           0       0.92      0.97      0.94    219310\n",
      "           1       0.97      0.92      0.94    219323\n",
      "\n",
      "    accuracy                           0.94    438633\n",
      "   macro avg       0.94      0.94      0.94    438633\n",
      "weighted avg       0.94      0.94      0.94    438633\n",
      "\n",
      "Testing Results\n",
      "\n",
      "              precision    recall  f1-score   support\n",
      "\n",
      "           0       0.91      0.96      0.93     73112\n",
      "           1       0.96      0.90      0.93     73099\n",
      "\n",
      "    accuracy                           0.93    146211\n",
      "   macro avg       0.93      0.93      0.93    146211\n",
      "weighted avg       0.93      0.93      0.93    146211\n",
      "\n"
     ]
    },
    {
     "data": {
      "image/png": "[encoded data removed]",
      "text/plain": [
       "<Figure size 640x480 with 1 Axes>"
      ]
     },
     "metadata": {},
     "output_type": "display_data"
    }
   ],
   "source": [
    "\n",
    "\n",
    "# Inicjalizacja modelu Gradient Boosting Classifier\n",
    "# gb = GradientBoostingClassifier()\n",
    "\n",
    "# # Definiowanie siatki hiperparametrów do przetestowania\n",
    "# param_grid = {\n",
    "#     'n_estimators': [100, 200, 300],  # Liczba drzew w ensemble\n",
    "#     'learning_rate': [0.01, 0.1, 0.2], # Szybkość uczenia\n",
    "#     'max_depth': [3, 5, 7],            # Maksymalna głębokość drzewa\n",
    "#     'min_samples_split': [2, 4],       # Minimalna liczba próbek wymagana do podziału węzła\n",
    "#     'min_samples_leaf': [1, 2]         # Minimalna liczba próbek w liściu\n",
    "# }\n",
    "\n",
    "# # Utworzenie obiektu GridSearchCV\n",
    "# grid_search = GridSearchCV(estimator=gb, param_grid=param_grid, cv=5, scoring='accuracy')\n",
    "\n",
    "# # Przeszukiwanie siatki parametrów\n",
    "# grid_search.fit(x_train2, y_train2)\n",
    "\n",
    "# # Najlepsze parametry i najlepszy model\n",
    "# print(\"Najlepsze parametry: \", grid_search.best_params_)\n",
    "# best_gb = grid_search.best_estimator_\n",
    "\n",
    "\n",
    "# Predykcje na zbiorze treningowym i testowym\n",
    "ypred_train6 = gb_clf.predict(x_train2)\n",
    "y_pred_test6 = gb_clf.predict(x_test2)\n",
    "\n",
    "# Ocena modelu\n",
    "print(\"Accuracy on Training set: \", accuracy_score(y_train2, ypred_train6))\n",
    "print(\"Accuracy on Test set: \", accuracy_score(y_test2, y_pred_test6))\n",
    "print(\"\\nTraining Results\\n\")\n",
    "print(classification_report(y_train2, ypred_train6))\n",
    "print('Testing Results\\n')\n",
    "print(classification_report(y_test2, y_pred_test6))\n",
    "\n",
    "# cross_val_scores = cross_val_score(gb_clf, x_train2, y_train2, cv=5)\n",
    "# print(\"Cross-validation scores:\", cross_val_scores)\n",
    "# print(\"Average cross-validation score:\", np.mean(cross_val_scores))\n",
    "\n",
    "\n",
    "# Krzywa ROC\n",
    "y_proba_test6 = gb_clf.predict_proba(x_test2)[:, 1]\n",
    "fpr, tpr, thresholds = roc_curve(y_test2, y_proba_test6)\n",
    "plt.plot(fpr, tpr)\n",
    "plt.title(\"ROC Curve with AUC = {:.2f}\".format(roc_auc_score(y_test2, y_proba_test6)))\n",
    "plt.show()"
   ]
  },
  {
   "cell_type": "markdown",
   "metadata": {},
   "source": [
    "## KNN"
   ]
  },
  {
   "cell_type": "code",
   "execution_count": 20,
   "metadata": {},
   "outputs": [
    {
     "data": {
      "text/html": [
       "<style>#sk-container-id-2 {color: black;}#sk-container-id-2 pre{padding: 0;}#sk-container-id-2 div.sk-toggleable {background-color: white;}#sk-container-id-2 label.sk-toggleable__label {cursor: pointer;display: block;width: 100%;margin-bottom: 0;padding: 0.3em;box-sizing: border-box;text-align: center;}#sk-container-id-2 label.sk-toggleable__label-arrow:before {content: \"▸\";float: left;margin-right: 0.25em;color: #696969;}#sk-container-id-2 label.sk-toggleable__label-arrow:hover:before {color: black;}#sk-container-id-2 div.sk-estimator:hover label.sk-toggleable__label-arrow:before {color: black;}#sk-container-id-2 div.sk-toggleable__content {max-height: 0;max-width: 0;overflow: hidden;text-align: left;background-color: #f0f8ff;}#sk-container-id-2 div.sk-toggleable__content pre {margin: 0.2em;color: black;border-radius: 0.25em;background-color: #f0f8ff;}#sk-container-id-2 input.sk-toggleable__control:checked~div.sk-toggleable__content {max-height: 200px;max-width: 100%;overflow: auto;}#sk-container-id-2 input.sk-toggleable__control:checked~label.sk-toggleable__label-arrow:before {content: \"▾\";}#sk-container-id-2 div.sk-estimator input.sk-toggleable__control:checked~label.sk-toggleable__label {background-color: #d4ebff;}#sk-container-id-2 div.sk-label input.sk-toggleable__control:checked~label.sk-toggleable__label {background-color: #d4ebff;}#sk-container-id-2 input.sk-hidden--visually {border: 0;clip: rect(1px 1px 1px 1px);clip: rect(1px, 1px, 1px, 1px);height: 1px;margin: -1px;overflow: hidden;padding: 0;position: absolute;width: 1px;}#sk-container-id-2 div.sk-estimator {font-family: monospace;background-color: #f0f8ff;border: 1px dotted black;border-radius: 0.25em;box-sizing: border-box;margin-bottom: 0.5em;}#sk-container-id-2 div.sk-estimator:hover {background-color: #d4ebff;}#sk-container-id-2 div.sk-parallel-item::after {content: \"\";width: 100%;border-bottom: 1px solid gray;flex-grow: 1;}#sk-container-id-2 div.sk-label:hover label.sk-toggleable__label {background-color: #d4ebff;}#sk-container-id-2 div.sk-serial::before {content: \"\";position: absolute;border-left: 1px solid gray;box-sizing: border-box;top: 0;bottom: 0;left: 50%;z-index: 0;}#sk-container-id-2 div.sk-serial {display: flex;flex-direction: column;align-items: center;background-color: white;padding-right: 0.2em;padding-left: 0.2em;position: relative;}#sk-container-id-2 div.sk-item {position: relative;z-index: 1;}#sk-container-id-2 div.sk-parallel {display: flex;align-items: stretch;justify-content: center;background-color: white;position: relative;}#sk-container-id-2 div.sk-item::before, #sk-container-id-2 div.sk-parallel-item::before {content: \"\";position: absolute;border-left: 1px solid gray;box-sizing: border-box;top: 0;bottom: 0;left: 50%;z-index: -1;}#sk-container-id-2 div.sk-parallel-item {display: flex;flex-direction: column;z-index: 1;position: relative;background-color: white;}#sk-container-id-2 div.sk-parallel-item:first-child::after {align-self: flex-end;width: 50%;}#sk-container-id-2 div.sk-parallel-item:last-child::after {align-self: flex-start;width: 50%;}#sk-container-id-2 div.sk-parallel-item:only-child::after {width: 0;}#sk-container-id-2 div.sk-dashed-wrapped {border: 1px dashed gray;margin: 0 0.4em 0.5em 0.4em;box-sizing: border-box;padding-bottom: 0.4em;background-color: white;}#sk-container-id-2 div.sk-label label {font-family: monospace;font-weight: bold;display: inline-block;line-height: 1.2em;}#sk-container-id-2 div.sk-label-container {text-align: center;}#sk-container-id-2 div.sk-container {/* jupyter's `normalize.less` sets `[hidden] { display: none; }` but bootstrap.min.css set `[hidden] { display: none !important; }` so we also need the `!important` here to be able to override the default hidden behavior on the sphinx rendered scikit-learn.org. See: https://github.com/scikit-learn/scikit-learn/issues/21755 */display: inline-block !important;position: relative;}#sk-container-id-2 div.sk-text-repr-fallback {display: none;}</style><div id=\"sk-container-id-2\" class=\"sk-top-container\"><div class=\"sk-text-repr-fallback\"><pre>KNeighborsClassifier()</pre><b>In a Jupyter environment, please rerun this cell to show the HTML representation or trust the notebook. <br />On GitHub, the HTML representation is unable to render, please try loading this page with nbviewer.org.</b></div><div class=\"sk-container\" hidden><div class=\"sk-item\"><div class=\"sk-estimator sk-toggleable\"><input class=\"sk-toggleable__control sk-hidden--visually\" id=\"sk-estimator-id-2\" type=\"checkbox\" checked><label for=\"sk-estimator-id-2\" class=\"sk-toggleable__label sk-toggleable__label-arrow\">KNeighborsClassifier</label><div class=\"sk-toggleable__content\"><pre>KNeighborsClassifier()</pre></div></div></div></div></div>"
      ],
      "text/plain": [
       "KNeighborsClassifier()"
      ]
     },
     "execution_count": 20,
     "metadata": {},
     "output_type": "execute_result"
    }
   ],
   "source": [
    "knn = KNeighborsClassifier()\n",
    "knn.fit(x_train2, y_train2)\n"
   ]
  },
  {
   "cell_type": "code",
   "execution_count": 21,
   "metadata": {},
   "outputs": [],
   "source": [
    "grid_cv = GridSearchCV(KNeighborsClassifier(), \n",
    "                       param_grid={\n",
    "                           \"n_neighbors\": range(1, 50)\n",
    "                       }, cv=5, scoring=\"f1\", \n",
    "                       verbose=1, n_jobs=6)\n"
   ]
  },
  {
   "cell_type": "code",
   "execution_count": 22,
   "metadata": {},
   "outputs": [
    {
     "name": "stdout",
     "output_type": "stream",
     "text": [
      "Fitting 5 folds for each of 49 candidates, totalling 245 fits\n"
     ]
    },
    {
     "data": {
      "text/html": [
       "<style>#sk-container-id-3 {color: black;}#sk-container-id-3 pre{padding: 0;}#sk-container-id-3 div.sk-toggleable {background-color: white;}#sk-container-id-3 label.sk-toggleable__label {cursor: pointer;display: block;width: 100%;margin-bottom: 0;padding: 0.3em;box-sizing: border-box;text-align: center;}#sk-container-id-3 label.sk-toggleable__label-arrow:before {content: \"▸\";float: left;margin-right: 0.25em;color: #696969;}#sk-container-id-3 label.sk-toggleable__label-arrow:hover:before {color: black;}#sk-container-id-3 div.sk-estimator:hover label.sk-toggleable__label-arrow:before {color: black;}#sk-container-id-3 div.sk-toggleable__content {max-height: 0;max-width: 0;overflow: hidden;text-align: left;background-color: #f0f8ff;}#sk-container-id-3 div.sk-toggleable__content pre {margin: 0.2em;color: black;border-radius: 0.25em;background-color: #f0f8ff;}#sk-container-id-3 input.sk-toggleable__control:checked~div.sk-toggleable__content {max-height: 200px;max-width: 100%;overflow: auto;}#sk-container-id-3 input.sk-toggleable__control:checked~label.sk-toggleable__label-arrow:before {content: \"▾\";}#sk-container-id-3 div.sk-estimator input.sk-toggleable__control:checked~label.sk-toggleable__label {background-color: #d4ebff;}#sk-container-id-3 div.sk-label input.sk-toggleable__control:checked~label.sk-toggleable__label {background-color: #d4ebff;}#sk-container-id-3 input.sk-hidden--visually {border: 0;clip: rect(1px 1px 1px 1px);clip: rect(1px, 1px, 1px, 1px);height: 1px;margin: -1px;overflow: hidden;padding: 0;position: absolute;width: 1px;}#sk-container-id-3 div.sk-estimator {font-family: monospace;background-color: #f0f8ff;border: 1px dotted black;border-radius: 0.25em;box-sizing: border-box;margin-bottom: 0.5em;}#sk-container-id-3 div.sk-estimator:hover {background-color: #d4ebff;}#sk-container-id-3 div.sk-parallel-item::after {content: \"\";width: 100%;border-bottom: 1px solid gray;flex-grow: 1;}#sk-container-id-3 div.sk-label:hover label.sk-toggleable__label {background-color: #d4ebff;}#sk-container-id-3 div.sk-serial::before {content: \"\";position: absolute;border-left: 1px solid gray;box-sizing: border-box;top: 0;bottom: 0;left: 50%;z-index: 0;}#sk-container-id-3 div.sk-serial {display: flex;flex-direction: column;align-items: center;background-color: white;padding-right: 0.2em;padding-left: 0.2em;position: relative;}#sk-container-id-3 div.sk-item {position: relative;z-index: 1;}#sk-container-id-3 div.sk-parallel {display: flex;align-items: stretch;justify-content: center;background-color: white;position: relative;}#sk-container-id-3 div.sk-item::before, #sk-container-id-3 div.sk-parallel-item::before {content: \"\";position: absolute;border-left: 1px solid gray;box-sizing: border-box;top: 0;bottom: 0;left: 50%;z-index: -1;}#sk-container-id-3 div.sk-parallel-item {display: flex;flex-direction: column;z-index: 1;position: relative;background-color: white;}#sk-container-id-3 div.sk-parallel-item:first-child::after {align-self: flex-end;width: 50%;}#sk-container-id-3 div.sk-parallel-item:last-child::after {align-self: flex-start;width: 50%;}#sk-container-id-3 div.sk-parallel-item:only-child::after {width: 0;}#sk-container-id-3 div.sk-dashed-wrapped {border: 1px dashed gray;margin: 0 0.4em 0.5em 0.4em;box-sizing: border-box;padding-bottom: 0.4em;background-color: white;}#sk-container-id-3 div.sk-label label {font-family: monospace;font-weight: bold;display: inline-block;line-height: 1.2em;}#sk-container-id-3 div.sk-label-container {text-align: center;}#sk-container-id-3 div.sk-container {/* jupyter's `normalize.less` sets `[hidden] { display: none; }` but bootstrap.min.css set `[hidden] { display: none !important; }` so we also need the `!important` here to be able to override the default hidden behavior on the sphinx rendered scikit-learn.org. See: https://github.com/scikit-learn/scikit-learn/issues/21755 */display: inline-block !important;position: relative;}#sk-container-id-3 div.sk-text-repr-fallback {display: none;}</style><div id=\"sk-container-id-3\" class=\"sk-top-container\"><div class=\"sk-text-repr-fallback\"><pre>GridSearchCV(cv=5, estimator=KNeighborsClassifier(), n_jobs=6,\n",
       "             param_grid={&#x27;n_neighbors&#x27;: range(1, 50)}, scoring=&#x27;f1&#x27;, verbose=1)</pre><b>In a Jupyter environment, please rerun this cell to show the HTML representation or trust the notebook. <br />On GitHub, the HTML representation is unable to render, please try loading this page with nbviewer.org.</b></div><div class=\"sk-container\" hidden><div class=\"sk-item sk-dashed-wrapped\"><div class=\"sk-label-container\"><div class=\"sk-label sk-toggleable\"><input class=\"sk-toggleable__control sk-hidden--visually\" id=\"sk-estimator-id-3\" type=\"checkbox\" ><label for=\"sk-estimator-id-3\" class=\"sk-toggleable__label sk-toggleable__label-arrow\">GridSearchCV</label><div class=\"sk-toggleable__content\"><pre>GridSearchCV(cv=5, estimator=KNeighborsClassifier(), n_jobs=6,\n",
       "             param_grid={&#x27;n_neighbors&#x27;: range(1, 50)}, scoring=&#x27;f1&#x27;, verbose=1)</pre></div></div></div><div class=\"sk-parallel\"><div class=\"sk-parallel-item\"><div class=\"sk-item\"><div class=\"sk-label-container\"><div class=\"sk-label sk-toggleable\"><input class=\"sk-toggleable__control sk-hidden--visually\" id=\"sk-estimator-id-4\" type=\"checkbox\" ><label for=\"sk-estimator-id-4\" class=\"sk-toggleable__label sk-toggleable__label-arrow\">estimator: KNeighborsClassifier</label><div class=\"sk-toggleable__content\"><pre>KNeighborsClassifier()</pre></div></div></div><div class=\"sk-serial\"><div class=\"sk-item\"><div class=\"sk-estimator sk-toggleable\"><input class=\"sk-toggleable__control sk-hidden--visually\" id=\"sk-estimator-id-5\" type=\"checkbox\" ><label for=\"sk-estimator-id-5\" class=\"sk-toggleable__label sk-toggleable__label-arrow\">KNeighborsClassifier</label><div class=\"sk-toggleable__content\"><pre>KNeighborsClassifier()</pre></div></div></div></div></div></div></div></div></div></div>"
      ],
      "text/plain": [
       "GridSearchCV(cv=5, estimator=KNeighborsClassifier(), n_jobs=6,\n",
       "             param_grid={'n_neighbors': range(1, 50)}, scoring='f1', verbose=1)"
      ]
     },
     "execution_count": 22,
     "metadata": {},
     "output_type": "execute_result"
    }
   ],
   "source": [
    "grid_cv.fit(x_train2, \n",
    "            y_train2)"
   ]
  },
  {
   "cell_type": "code",
   "execution_count": 23,
   "metadata": {},
   "outputs": [
    {
     "data": {
      "text/plain": [
       "0.9061854221723665"
      ]
     },
     "execution_count": 23,
     "metadata": {},
     "output_type": "execute_result"
    }
   ],
   "source": [
    "grid_cv.best_score_\n"
   ]
  },
  {
   "cell_type": "code",
   "execution_count": 24,
   "metadata": {},
   "outputs": [
    {
     "data": {
      "text/html": [
       "<style>#sk-container-id-4 {color: black;}#sk-container-id-4 pre{padding: 0;}#sk-container-id-4 div.sk-toggleable {background-color: white;}#sk-container-id-4 label.sk-toggleable__label {cursor: pointer;display: block;width: 100%;margin-bottom: 0;padding: 0.3em;box-sizing: border-box;text-align: center;}#sk-container-id-4 label.sk-toggleable__label-arrow:before {content: \"▸\";float: left;margin-right: 0.25em;color: #696969;}#sk-container-id-4 label.sk-toggleable__label-arrow:hover:before {color: black;}#sk-container-id-4 div.sk-estimator:hover label.sk-toggleable__label-arrow:before {color: black;}#sk-container-id-4 div.sk-toggleable__content {max-height: 0;max-width: 0;overflow: hidden;text-align: left;background-color: #f0f8ff;}#sk-container-id-4 div.sk-toggleable__content pre {margin: 0.2em;color: black;border-radius: 0.25em;background-color: #f0f8ff;}#sk-container-id-4 input.sk-toggleable__control:checked~div.sk-toggleable__content {max-height: 200px;max-width: 100%;overflow: auto;}#sk-container-id-4 input.sk-toggleable__control:checked~label.sk-toggleable__label-arrow:before {content: \"▾\";}#sk-container-id-4 div.sk-estimator input.sk-toggleable__control:checked~label.sk-toggleable__label {background-color: #d4ebff;}#sk-container-id-4 div.sk-label input.sk-toggleable__control:checked~label.sk-toggleable__label {background-color: #d4ebff;}#sk-container-id-4 input.sk-hidden--visually {border: 0;clip: rect(1px 1px 1px 1px);clip: rect(1px, 1px, 1px, 1px);height: 1px;margin: -1px;overflow: hidden;padding: 0;position: absolute;width: 1px;}#sk-container-id-4 div.sk-estimator {font-family: monospace;background-color: #f0f8ff;border: 1px dotted black;border-radius: 0.25em;box-sizing: border-box;margin-bottom: 0.5em;}#sk-container-id-4 div.sk-estimator:hover {background-color: #d4ebff;}#sk-container-id-4 div.sk-parallel-item::after {content: \"\";width: 100%;border-bottom: 1px solid gray;flex-grow: 1;}#sk-container-id-4 div.sk-label:hover label.sk-toggleable__label {background-color: #d4ebff;}#sk-container-id-4 div.sk-serial::before {content: \"\";position: absolute;border-left: 1px solid gray;box-sizing: border-box;top: 0;bottom: 0;left: 50%;z-index: 0;}#sk-container-id-4 div.sk-serial {display: flex;flex-direction: column;align-items: center;background-color: white;padding-right: 0.2em;padding-left: 0.2em;position: relative;}#sk-container-id-4 div.sk-item {position: relative;z-index: 1;}#sk-container-id-4 div.sk-parallel {display: flex;align-items: stretch;justify-content: center;background-color: white;position: relative;}#sk-container-id-4 div.sk-item::before, #sk-container-id-4 div.sk-parallel-item::before {content: \"\";position: absolute;border-left: 1px solid gray;box-sizing: border-box;top: 0;bottom: 0;left: 50%;z-index: -1;}#sk-container-id-4 div.sk-parallel-item {display: flex;flex-direction: column;z-index: 1;position: relative;background-color: white;}#sk-container-id-4 div.sk-parallel-item:first-child::after {align-self: flex-end;width: 50%;}#sk-container-id-4 div.sk-parallel-item:last-child::after {align-self: flex-start;width: 50%;}#sk-container-id-4 div.sk-parallel-item:only-child::after {width: 0;}#sk-container-id-4 div.sk-dashed-wrapped {border: 1px dashed gray;margin: 0 0.4em 0.5em 0.4em;box-sizing: border-box;padding-bottom: 0.4em;background-color: white;}#sk-container-id-4 div.sk-label label {font-family: monospace;font-weight: bold;display: inline-block;line-height: 1.2em;}#sk-container-id-4 div.sk-label-container {text-align: center;}#sk-container-id-4 div.sk-container {/* jupyter's `normalize.less` sets `[hidden] { display: none; }` but bootstrap.min.css set `[hidden] { display: none !important; }` so we also need the `!important` here to be able to override the default hidden behavior on the sphinx rendered scikit-learn.org. See: https://github.com/scikit-learn/scikit-learn/issues/21755 */display: inline-block !important;position: relative;}#sk-container-id-4 div.sk-text-repr-fallback {display: none;}</style><div id=\"sk-container-id-4\" class=\"sk-top-container\"><div class=\"sk-text-repr-fallback\"><pre>KNeighborsClassifier(n_neighbors=1)</pre><b>In a Jupyter environment, please rerun this cell to show the HTML representation or trust the notebook. <br />On GitHub, the HTML representation is unable to render, please try loading this page with nbviewer.org.</b></div><div class=\"sk-container\" hidden><div class=\"sk-item\"><div class=\"sk-estimator sk-toggleable\"><input class=\"sk-toggleable__control sk-hidden--visually\" id=\"sk-estimator-id-6\" type=\"checkbox\" checked><label for=\"sk-estimator-id-6\" class=\"sk-toggleable__label sk-toggleable__label-arrow\">KNeighborsClassifier</label><div class=\"sk-toggleable__content\"><pre>KNeighborsClassifier(n_neighbors=1)</pre></div></div></div></div></div>"
      ],
      "text/plain": [
       "KNeighborsClassifier(n_neighbors=1)"
      ]
     },
     "execution_count": 24,
     "metadata": {},
     "output_type": "execute_result"
    }
   ],
   "source": [
    "knn = grid_cv.best_estimator_\n",
    "knn"
   ]
  },
  {
   "cell_type": "code",
   "execution_count": 25,
   "metadata": {},
   "outputs": [
    {
     "name": "stdout",
     "output_type": "stream",
     "text": [
      "XGBClassifier Accuracy:  0.9146986204868307\n"
     ]
    }
   ],
   "source": [
    "ypred_train33 = grid_cv.predict(x_train2)\n",
    "y_pred_test33 = grid_cv.predict(x_test2)\n",
    "print(\"XGBClassifier Accuracy: \",accuracy_score(y_test2, y_pred_test33))"
   ]
  },
  {
   "cell_type": "code",
   "execution_count": 26,
   "metadata": {},
   "outputs": [
    {
     "name": "stdout",
     "output_type": "stream",
     "text": [
      "Training Results\n",
      "\n",
      "              precision    recall  f1-score   support\n",
      "\n",
      "           0       0.99      0.99      0.99    219310\n",
      "           1       0.99      0.99      0.99    219323\n",
      "\n",
      "    accuracy                           0.99    438633\n",
      "   macro avg       0.99      0.99      0.99    438633\n",
      "weighted avg       0.99      0.99      0.99    438633\n",
      "\n"
     ]
    }
   ],
   "source": [
    "print(\"Training Results\\n\")\n",
    "print(classification_report(y_train2, ypred_train33))"
   ]
  },
  {
   "cell_type": "code",
   "execution_count": 27,
   "metadata": {},
   "outputs": [
    {
     "name": "stdout",
     "output_type": "stream",
     "text": [
      "Training Results\n",
      "\n",
      "              precision    recall  f1-score   support\n",
      "\n",
      "           0       0.92      0.91      0.91     73112\n",
      "           1       0.91      0.92      0.92     73099\n",
      "\n",
      "    accuracy                           0.91    146211\n",
      "   macro avg       0.91      0.91      0.91    146211\n",
      "weighted avg       0.91      0.91      0.91    146211\n",
      "\n"
     ]
    }
   ],
   "source": [
    "print(\"Training Results\\n\")\n",
    "print(classification_report(y_test2, y_pred_test33))"
   ]
  },
  {
   "cell_type": "code",
   "execution_count": 28,
   "metadata": {},
   "outputs": [
    {
     "data": {
      "image/png": "[encoded data removed]",
      "text/plain": [
       "<Figure size 640x480 with 1 Axes>"
      ]
     },
     "metadata": {},
     "output_type": "display_data"
    }
   ],
   "source": [
    "\n",
    "# cross_val_scores = cross_val_score(grid_cv, x_train2, y_train2, cv=5)\n",
    "# print(\"Cross-validation scores:\", cross_val_scores)\n",
    "# print(\"Average cross-validation score:\", np.mean(cross_val_scores))\n",
    "\n",
    "y_proba_test = grid_cv.predict_proba(x_test2)[:, 1]\n",
    "\n",
    "fpr, tpr, thresholds = roc_curve(y_test2, y_proba_test)\n",
    "\n",
    "plt.plot(fpr, tpr, label='ROC Curve')\n",
    "plt.xlabel('False Positive Rate')\n",
    "plt.ylabel('True Positive Rate')\n",
    "plt.title('ROC Curve with AUC = {:.2f}'.format(roc_auc_score(y_test2, y_proba_test)))\n",
    "plt.legend(loc='lower right')\n",
    "plt.grid(True)\n",
    "plt.show()"
   ]
  },
  {
   "cell_type": "markdown",
   "metadata": {},
   "source": [
    "## SIECI NEURONOWE"
   ]
  },
  {
   "cell_type": "code",
   "execution_count": 29,
   "metadata": {},
   "outputs": [],
   "source": [
    "early_stop = EarlyStopping(monitor='val_loss', mode='min', verbose=1, patience=25)"
   ]
  },
  {
   "cell_type": "markdown",
   "metadata": {},
   "source": [
    "## inne próby sieci neuronowych "
   ]
  },
  {
   "cell_type": "code",
   "execution_count": 30,
   "metadata": {},
   "outputs": [
    {
     "name": "stdout",
     "output_type": "stream",
     "text": [
      "WARNING:tensorflow:From C:\\Users\\DELL\\AppData\\Roaming\\Python\\Python311\\site-packages\\keras\\src\\backend.py:873: The name tf.get_default_graph is deprecated. Please use tf.compat.v1.get_default_graph instead.\n",
      "\n"
     ]
    },
    {
     "name": "stderr",
     "output_type": "stream",
     "text": [
      "WARNING:absl:`lr` is deprecated in Keras optimizer, please use `learning_rate` or use the legacy optimizer, e.g.,tf.keras.optimizers.legacy.Adam.\n"
     ]
    },
    {
     "name": "stdout",
     "output_type": "stream",
     "text": [
      "Epoch 1/100\n",
      "WARNING:tensorflow:From C:\\Users\\DELL\\AppData\\Roaming\\Python\\Python311\\site-packages\\keras\\src\\utils\\tf_utils.py:492: The name tf.ragged.RaggedTensorValue is deprecated. Please use tf.compat.v1.ragged.RaggedTensorValue instead.\n",
      "\n"
     ]
    },
    {
     "name": "stderr",
     "output_type": "stream",
     "text": [
      "WARNING:tensorflow:From C:\\Users\\DELL\\AppData\\Roaming\\Python\\Python311\\site-packages\\keras\\src\\utils\\tf_utils.py:492: The name tf.ragged.RaggedTensorValue is deprecated. Please use tf.compat.v1.ragged.RaggedTensorValue instead.\n",
      "\n"
     ]
    },
    {
     "name": "stdout",
     "output_type": "stream",
     "text": [
      "WARNING:tensorflow:From C:\\Users\\DELL\\AppData\\Roaming\\Python\\Python311\\site-packages\\keras\\src\\engine\\base_layer_utils.py:384: The name tf.executing_eagerly_outside_functions is deprecated. Please use tf.compat.v1.executing_eagerly_outside_functions instead.\n",
      "\n"
     ]
    },
    {
     "name": "stderr",
     "output_type": "stream",
     "text": [
      "WARNING:tensorflow:From C:\\Users\\DELL\\AppData\\Roaming\\Python\\Python311\\site-packages\\keras\\src\\engine\\base_layer_utils.py:384: The name tf.executing_eagerly_outside_functions is deprecated. Please use tf.compat.v1.executing_eagerly_outside_functions instead.\n",
      "\n"
     ]
    },
    {
     "name": "stdout",
     "output_type": "stream",
     "text": [
      "13708/13708 [==============================] - 24s 2ms/step - loss: 0.4367 - accuracy: 0.7951\n",
      "Epoch 2/100\n",
      "13708/13708 [==============================] - 22s 2ms/step - loss: 0.3643 - accuracy: 0.8277\n",
      "Epoch 3/100\n",
      "13708/13708 [==============================] - 22s 2ms/step - loss: 0.3477 - accuracy: 0.8338\n",
      "Epoch 4/100\n",
      "13708/13708 [==============================] - 22s 2ms/step - loss: 0.3413 - accuracy: 0.8365\n",
      "Epoch 5/100\n",
      "13708/13708 [==============================] - 22s 2ms/step - loss: 0.3365 - accuracy: 0.8383\n",
      "Epoch 6/100\n",
      "13708/13708 [==============================] - 23s 2ms/step - loss: 0.3318 - accuracy: 0.8414\n",
      "Epoch 7/100\n",
      "13708/13708 [==============================] - 22s 2ms/step - loss: 0.3291 - accuracy: 0.8427\n",
      "Epoch 8/100\n",
      "13708/13708 [==============================] - 23s 2ms/step - loss: 0.3275 - accuracy: 0.8435\n",
      "Epoch 9/100\n",
      "13708/13708 [==============================] - 22s 2ms/step - loss: 0.3257 - accuracy: 0.8445\n",
      "Epoch 10/100\n",
      "13708/13708 [==============================] - 22s 2ms/step - loss: 0.3241 - accuracy: 0.8450\n",
      "Epoch 11/100\n",
      "13708/13708 [==============================] - 22s 2ms/step - loss: 0.3235 - accuracy: 0.8454\n",
      "Epoch 12/100\n",
      "13708/13708 [==============================] - 22s 2ms/step - loss: 0.3227 - accuracy: 0.8460\n",
      "Epoch 13/100\n",
      "13708/13708 [==============================] - 22s 2ms/step - loss: 0.3223 - accuracy: 0.8459\n",
      "Epoch 14/100\n",
      "13708/13708 [==============================] - 22s 2ms/step - loss: 0.3218 - accuracy: 0.8461\n",
      "Epoch 15/100\n",
      "13708/13708 [==============================] - 22s 2ms/step - loss: 0.3212 - accuracy: 0.8462\n",
      "Epoch 16/100\n",
      "13708/13708 [==============================] - 21s 2ms/step - loss: 0.3205 - accuracy: 0.8469\n",
      "Epoch 17/100\n",
      "13708/13708 [==============================] - 22s 2ms/step - loss: 0.3193 - accuracy: 0.8473\n",
      "Epoch 18/100\n",
      "13708/13708 [==============================] - 22s 2ms/step - loss: 0.3197 - accuracy: 0.8475\n",
      "Epoch 19/100\n",
      "13708/13708 [==============================] - 22s 2ms/step - loss: 0.3193 - accuracy: 0.8475\n",
      "Epoch 20/100\n",
      "13708/13708 [==============================] - 22s 2ms/step - loss: 0.3188 - accuracy: 0.8478\n",
      "Epoch 21/100\n",
      "13708/13708 [==============================] - 22s 2ms/step - loss: 0.3183 - accuracy: 0.8480\n",
      "Epoch 22/100\n",
      "13708/13708 [==============================] - 22s 2ms/step - loss: 0.3177 - accuracy: 0.8482\n",
      "Epoch 23/100\n",
      "13708/13708 [==============================] - 21s 2ms/step - loss: 0.3171 - accuracy: 0.8481\n",
      "Epoch 24/100\n",
      "13708/13708 [==============================] - 22s 2ms/step - loss: 0.3161 - accuracy: 0.8489\n",
      "Epoch 25/100\n",
      "13708/13708 [==============================] - 22s 2ms/step - loss: 0.3149 - accuracy: 0.8497\n",
      "Epoch 26/100\n",
      "13708/13708 [==============================] - 22s 2ms/step - loss: 0.3143 - accuracy: 0.8495\n",
      "Epoch 27/100\n",
      "13708/13708 [==============================] - 22s 2ms/step - loss: 0.3125 - accuracy: 0.8504\n",
      "Epoch 28/100\n",
      "13708/13708 [==============================] - 22s 2ms/step - loss: 0.3116 - accuracy: 0.8503\n",
      "Epoch 29/100\n",
      "13708/13708 [==============================] - 21s 2ms/step - loss: 0.3110 - accuracy: 0.8509\n",
      "Epoch 30/100\n",
      "13708/13708 [==============================] - 21s 2ms/step - loss: 0.3106 - accuracy: 0.8509\n",
      "Epoch 31/100\n",
      "13708/13708 [==============================] - 22s 2ms/step - loss: 0.3098 - accuracy: 0.8512\n",
      "Epoch 32/100\n",
      "13708/13708 [==============================] - 22s 2ms/step - loss: 0.3092 - accuracy: 0.8520\n",
      "Epoch 33/100\n",
      "13708/13708 [==============================] - 22s 2ms/step - loss: 0.3089 - accuracy: 0.8519\n",
      "Epoch 34/100\n",
      "13708/13708 [==============================] - 22s 2ms/step - loss: 0.3082 - accuracy: 0.8520\n",
      "Epoch 35/100\n",
      "13708/13708 [==============================] - 22s 2ms/step - loss: 0.3077 - accuracy: 0.8524\n",
      "Epoch 36/100\n",
      "13708/13708 [==============================] - 21s 2ms/step - loss: 0.3074 - accuracy: 0.8527\n",
      "Epoch 37/100\n",
      "13708/13708 [==============================] - 22s 2ms/step - loss: 0.3071 - accuracy: 0.8528\n",
      "Epoch 38/100\n",
      "13708/13708 [==============================] - 22s 2ms/step - loss: 0.3064 - accuracy: 0.8532\n",
      "Epoch 39/100\n",
      "13708/13708 [==============================] - 22s 2ms/step - loss: 0.3061 - accuracy: 0.8535\n",
      "Epoch 40/100\n",
      "13708/13708 [==============================] - 22s 2ms/step - loss: 0.3056 - accuracy: 0.8536\n",
      "Epoch 41/100\n",
      "13708/13708 [==============================] - 22s 2ms/step - loss: 0.3052 - accuracy: 0.8539\n",
      "Epoch 42/100\n",
      "13708/13708 [==============================] - 22s 2ms/step - loss: 0.3053 - accuracy: 0.8538\n",
      "Epoch 43/100\n",
      "13708/13708 [==============================] - 21s 2ms/step - loss: 0.3052 - accuracy: 0.8540\n",
      "Epoch 44/100\n",
      "13708/13708 [==============================] - 22s 2ms/step - loss: 0.3046 - accuracy: 0.8540\n",
      "Epoch 45/100\n",
      "13708/13708 [==============================] - 23s 2ms/step - loss: 0.3048 - accuracy: 0.8539\n",
      "Epoch 46/100\n",
      "13708/13708 [==============================] - 22s 2ms/step - loss: 0.3044 - accuracy: 0.8540\n",
      "Epoch 47/100\n",
      "13708/13708 [==============================] - 22s 2ms/step - loss: 0.3046 - accuracy: 0.8541\n",
      "Epoch 48/100\n",
      "13708/13708 [==============================] - 22s 2ms/step - loss: 0.3046 - accuracy: 0.8539\n",
      "Epoch 49/100\n",
      "13708/13708 [==============================] - 22s 2ms/step - loss: 0.3042 - accuracy: 0.8545\n",
      "Epoch 50/100\n",
      "13708/13708 [==============================] - 22s 2ms/step - loss: 0.3036 - accuracy: 0.8547\n",
      "Epoch 51/100\n",
      "13708/13708 [==============================] - 22s 2ms/step - loss: 0.3039 - accuracy: 0.8544\n",
      "Epoch 52/100\n",
      "13708/13708 [==============================] - 22s 2ms/step - loss: 0.3038 - accuracy: 0.8548\n",
      "Epoch 53/100\n",
      "13708/13708 [==============================] - 22s 2ms/step - loss: 0.3037 - accuracy: 0.8545\n",
      "Epoch 54/100\n",
      "13708/13708 [==============================] - 22s 2ms/step - loss: 0.3035 - accuracy: 0.8549\n",
      "Epoch 55/100\n",
      "13708/13708 [==============================] - 22s 2ms/step - loss: 0.3031 - accuracy: 0.8552\n",
      "Epoch 56/100\n",
      "13708/13708 [==============================] - 22s 2ms/step - loss: 0.3029 - accuracy: 0.8553\n",
      "Epoch 57/100\n",
      "13708/13708 [==============================] - 22s 2ms/step - loss: 0.3029 - accuracy: 0.8548\n",
      "Epoch 58/100\n",
      "13708/13708 [==============================] - 22s 2ms/step - loss: 0.3030 - accuracy: 0.8549\n",
      "Epoch 59/100\n",
      "13708/13708 [==============================] - 22s 2ms/step - loss: 0.3024 - accuracy: 0.8553\n",
      "Epoch 60/100\n",
      "13708/13708 [==============================] - 22s 2ms/step - loss: 0.3020 - accuracy: 0.8553\n",
      "Epoch 61/100\n",
      "13708/13708 [==============================] - 21s 2ms/step - loss: 0.3026 - accuracy: 0.8552\n",
      "Epoch 62/100\n",
      "13708/13708 [==============================] - 20s 1ms/step - loss: 0.3027 - accuracy: 0.8550\n",
      "Epoch 63/100\n",
      "13708/13708 [==============================] - 19s 1ms/step - loss: 0.3024 - accuracy: 0.8552\n",
      "Epoch 64/100\n",
      "13708/13708 [==============================] - 19s 1ms/step - loss: 0.3023 - accuracy: 0.8553\n",
      "Epoch 65/100\n",
      "13708/13708 [==============================] - 19s 1ms/step - loss: 0.3022 - accuracy: 0.8555\n",
      "Epoch 66/100\n",
      "13708/13708 [==============================] - 18s 1ms/step - loss: 0.3023 - accuracy: 0.8551\n",
      "Epoch 67/100\n",
      "13708/13708 [==============================] - 18s 1ms/step - loss: 0.3019 - accuracy: 0.8556\n",
      "Epoch 68/100\n",
      "13708/13708 [==============================] - 20s 1ms/step - loss: 0.3018 - accuracy: 0.8553\n",
      "Epoch 69/100\n",
      "13708/13708 [==============================] - 20s 1ms/step - loss: 0.3019 - accuracy: 0.8557\n",
      "Epoch 70/100\n",
      "13708/13708 [==============================] - 19s 1ms/step - loss: 0.3016 - accuracy: 0.8559\n",
      "Epoch 71/100\n",
      "13708/13708 [==============================] - 17s 1ms/step - loss: 0.3017 - accuracy: 0.8557\n",
      "Epoch 72/100\n",
      "13708/13708 [==============================] - 18s 1ms/step - loss: 0.3015 - accuracy: 0.8557\n",
      "Epoch 73/100\n",
      "13708/13708 [==============================] - 17s 1ms/step - loss: 0.3010 - accuracy: 0.8559\n",
      "Epoch 74/100\n",
      "13708/13708 [==============================] - 16s 1ms/step - loss: 0.3012 - accuracy: 0.8562\n",
      "Epoch 75/100\n",
      "13708/13708 [==============================] - 17s 1ms/step - loss: 0.3012 - accuracy: 0.8561\n",
      "Epoch 76/100\n",
      "13708/13708 [==============================] - 17s 1ms/step - loss: 0.3009 - accuracy: 0.8561\n",
      "Epoch 77/100\n",
      "13708/13708 [==============================] - 16s 1ms/step - loss: 0.3008 - accuracy: 0.8564\n",
      "Epoch 78/100\n",
      "13708/13708 [==============================] - 17s 1ms/step - loss: 0.3006 - accuracy: 0.8563\n",
      "Epoch 79/100\n",
      "13708/13708 [==============================] - 16s 1ms/step - loss: 0.3008 - accuracy: 0.8560\n",
      "Epoch 80/100\n",
      "13708/13708 [==============================] - 17s 1ms/step - loss: 0.3006 - accuracy: 0.8560\n",
      "Epoch 81/100\n",
      "13708/13708 [==============================] - 17s 1ms/step - loss: 0.3006 - accuracy: 0.8562\n",
      "Epoch 82/100\n",
      "13708/13708 [==============================] - 16s 1ms/step - loss: 0.3007 - accuracy: 0.8562\n",
      "Epoch 83/100\n",
      "13708/13708 [==============================] - 17s 1ms/step - loss: 0.3006 - accuracy: 0.8560\n",
      "Epoch 84/100\n",
      "13708/13708 [==============================] - 17s 1ms/step - loss: 0.3004 - accuracy: 0.8560\n",
      "Epoch 85/100\n",
      "13708/13708 [==============================] - 17s 1ms/step - loss: 0.3007 - accuracy: 0.8561\n",
      "Epoch 86/100\n",
      "13708/13708 [==============================] - 17s 1ms/step - loss: 0.3003 - accuracy: 0.8565\n",
      "Epoch 87/100\n",
      "13708/13708 [==============================] - 16s 1ms/step - loss: 0.3004 - accuracy: 0.8562\n",
      "Epoch 88/100\n",
      "13708/13708 [==============================] - 16s 1ms/step - loss: 0.3001 - accuracy: 0.8567\n",
      "Epoch 89/100\n",
      "13708/13708 [==============================] - 16s 1ms/step - loss: 0.3001 - accuracy: 0.8566\n",
      "Epoch 90/100\n",
      "13708/13708 [==============================] - 17s 1ms/step - loss: 0.3004 - accuracy: 0.8562\n",
      "Epoch 91/100\n",
      "13708/13708 [==============================] - 17s 1ms/step - loss: 0.2998 - accuracy: 0.8563\n",
      "Epoch 92/100\n",
      "13708/13708 [==============================] - 17s 1ms/step - loss: 0.2998 - accuracy: 0.8565\n",
      "Epoch 93/100\n",
      "13708/13708 [==============================] - 17s 1ms/step - loss: 0.2999 - accuracy: 0.8569\n",
      "Epoch 94/100\n",
      "13708/13708 [==============================] - 17s 1ms/step - loss: 0.3001 - accuracy: 0.8565\n",
      "Epoch 95/100\n",
      "13708/13708 [==============================] - 17s 1ms/step - loss: 0.2999 - accuracy: 0.8569\n",
      "Epoch 96/100\n",
      "13708/13708 [==============================] - 17s 1ms/step - loss: 0.2999 - accuracy: 0.8564\n",
      "Epoch 97/100\n",
      "13708/13708 [==============================] - 17s 1ms/step - loss: 0.2999 - accuracy: 0.8568\n",
      "Epoch 98/100\n",
      "13708/13708 [==============================] - 17s 1ms/step - loss: 0.2997 - accuracy: 0.8567\n",
      "Epoch 99/100\n",
      "13708/13708 [==============================] - 17s 1ms/step - loss: 0.2998 - accuracy: 0.8569\n",
      "Epoch 100/100\n",
      "13708/13708 [==============================] - 17s 1ms/step - loss: 0.2995 - accuracy: 0.8572\n"
     ]
    }
   ],
   "source": [
    "scaler = StandardScaler()\n",
    "X_train_scaled = scaler.fit_transform(x_train2)\n",
    "X_test_scaled = scaler.transform(x_test2)\n",
    "tf.random.set_seed(42)\n",
    "\n",
    "\n",
    "model_2 = tf.keras.Sequential([\n",
    "  tf.keras.layers.Dense(16,activation = 'relu'),\n",
    "  tf.keras.layers.Dense(6,activation = 'relu'),\n",
    "  tf.keras.layers.Dense(6,activation = 'relu'),\n",
    "  tf.keras.layers.Dense(1,activation = 'sigmoid')                            \n",
    "])\n",
    "\n",
    "\n",
    "model_2.compile(loss = 'binary_crossentropy',\n",
    "                optimizer = tf.keras.optimizers.Adam(lr=0.001),\n",
    "                metrics = ['accuracy'])\n",
    "\n",
    "\n",
    "history_2 = model_2.fit(x_train2,y_train2,epochs = 100)"
   ]
  },
  {
   "cell_type": "code",
   "execution_count": 31,
   "metadata": {},
   "outputs": [
    {
     "name": "stdout",
     "output_type": "stream",
     "text": [
      "4570/4570 [==============================] - 5s 1ms/step - loss: 0.2995 - accuracy: 0.8571\n"
     ]
    },
    {
     "data": {
      "text/plain": [
       "[0.29948607087135315, 0.857144832611084]"
      ]
     },
     "execution_count": 31,
     "metadata": {},
     "output_type": "execute_result"
    }
   ],
   "source": [
    "model_2.evaluate(x_test2,y_test2)"
   ]
  },
  {
   "cell_type": "code",
   "execution_count": 32,
   "metadata": {},
   "outputs": [
    {
     "name": "stdout",
     "output_type": "stream",
     "text": [
      "13708/13708 [==============================] - 14s 1ms/step\n",
      "4570/4570 [==============================] - 4s 957us/step\n",
      "              precision    recall  f1-score   support\n",
      "\n",
      "           0       0.85      0.87      0.86    219310\n",
      "           1       0.87      0.84      0.86    219323\n",
      "\n",
      "    accuracy                           0.86    438633\n",
      "   macro avg       0.86      0.86      0.86    438633\n",
      "weighted avg       0.86      0.86      0.86    438633\n",
      "\n",
      "              precision    recall  f1-score   support\n",
      "\n",
      "           0       0.85      0.87      0.86     73112\n",
      "           1       0.87      0.84      0.85     73099\n",
      "\n",
      "    accuracy                           0.86    146211\n",
      "   macro avg       0.86      0.86      0.86    146211\n",
      "weighted avg       0.86      0.86      0.86    146211\n",
      "\n"
     ]
    }
   ],
   "source": [
    "ypred_train7 = model_2.predict(x_train2)\n",
    "y_pred_test7 = model_2.predict(x_test2)\n",
    "\n",
    "y_pred_test7 = (y_pred_test7 > 0.5)\n",
    "ypred_train7 = (ypred_train7 > 0.5)\n",
    "\n",
    "print(classification_report(y_train2,ypred_train7))\n",
    "print(classification_report(y_test2,y_pred_test7))"
   ]
  },
  {
   "cell_type": "code",
   "execution_count": 33,
   "metadata": {},
   "outputs": [
    {
     "name": "stdout",
     "output_type": "stream",
     "text": [
      "4570/4570 [==============================] - 5s 1ms/step\n"
     ]
    },
    {
     "data": {
      "image/png": "[encoded data removed]",
      "text/plain": [
       "<Figure size 640x480 with 1 Axes>"
      ]
     },
     "metadata": {},
     "output_type": "display_data"
    }
   ],
   "source": [
    "# cross_val_scores = cross_val_score(model_2, x_train2, y_train2, cv=5)\n",
    "# print(\"Cross-validation scores:\", cross_val_scores)\n",
    "# print(\"Average cross-validation score:\", np.mean(cross_val_scores))\n",
    "\n",
    "y_proba_test = model_2.predict(x_test2).flatten()\n",
    "\n",
    "fpr, tpr, thresholds = roc_curve(y_test2, y_proba_test)\n",
    "\n",
    "plt.plot(fpr, tpr, label='ROC Curve')\n",
    "plt.xlabel('False Positive Rate')\n",
    "plt.ylabel('True Positive Rate')\n",
    "plt.title('ROC Curve with AUC = {:.2f}'.format(roc_auc_score(y_test2, y_proba_test)))\n",
    "plt.legend(loc='lower right')\n",
    "plt.grid(True)\n",
    "plt.show()"
   ]
  },
  {
   "cell_type": "markdown",
   "metadata": {},
   "source": [
    "## inne próby sieci neuronowych "
   ]
  },
  {
   "cell_type": "code",
   "execution_count": 34,
   "metadata": {},
   "outputs": [
    {
     "name": "stderr",
     "output_type": "stream",
     "text": [
      "WARNING:absl:`lr` is deprecated in Keras optimizer, please use `learning_rate` or use the legacy optimizer, e.g.,tf.keras.optimizers.legacy.Adam.\n"
     ]
    },
    {
     "name": "stdout",
     "output_type": "stream",
     "text": [
      "Epoch 1/100\n",
      "13708/13708 [==============================] - 18s 1ms/step - loss: 0.4307 - accuracy: 0.7967\n",
      "Epoch 2/100\n",
      "13708/13708 [==============================] - 17s 1ms/step - loss: 0.3609 - accuracy: 0.8277\n",
      "Epoch 3/100\n",
      "13708/13708 [==============================] - 17s 1ms/step - loss: 0.3467 - accuracy: 0.8340\n",
      "Epoch 4/100\n",
      "13708/13708 [==============================] - 17s 1ms/step - loss: 0.3413 - accuracy: 0.8357\n",
      "Epoch 5/100\n",
      "13708/13708 [==============================] - 17s 1ms/step - loss: 0.3379 - accuracy: 0.8372\n",
      "Epoch 6/100\n",
      "13708/13708 [==============================] - 16s 1ms/step - loss: 0.3355 - accuracy: 0.8385\n",
      "Epoch 7/100\n",
      "13708/13708 [==============================] - 16s 1ms/step - loss: 0.3338 - accuracy: 0.8393\n",
      "Epoch 8/100\n",
      "13708/13708 [==============================] - 16s 1ms/step - loss: 0.3319 - accuracy: 0.8400\n",
      "Epoch 9/100\n",
      "13708/13708 [==============================] - 16s 1ms/step - loss: 0.3296 - accuracy: 0.8411\n",
      "Epoch 10/100\n",
      "13708/13708 [==============================] - 17s 1ms/step - loss: 0.3277 - accuracy: 0.8422\n",
      "Epoch 11/100\n",
      "13708/13708 [==============================] - 16s 1ms/step - loss: 0.3271 - accuracy: 0.8426\n",
      "Epoch 12/100\n",
      "13708/13708 [==============================] - 16s 1ms/step - loss: 0.3261 - accuracy: 0.8437\n",
      "Epoch 13/100\n",
      "13708/13708 [==============================] - 16s 1ms/step - loss: 0.3256 - accuracy: 0.8434\n",
      "Epoch 14/100\n",
      "13708/13708 [==============================] - 16s 1ms/step - loss: 0.3244 - accuracy: 0.8441\n",
      "Epoch 15/100\n",
      "13708/13708 [==============================] - 16s 1ms/step - loss: 0.3238 - accuracy: 0.8442\n",
      "Epoch 16/100\n",
      "13708/13708 [==============================] - 15s 1ms/step - loss: 0.3232 - accuracy: 0.8445\n",
      "Epoch 17/100\n",
      "13708/13708 [==============================] - 15s 1ms/step - loss: 0.3221 - accuracy: 0.8451\n",
      "Epoch 18/100\n",
      "13708/13708 [==============================] - 16s 1ms/step - loss: 0.3221 - accuracy: 0.8451\n",
      "Epoch 19/100\n",
      "13708/13708 [==============================] - 16s 1ms/step - loss: 0.3219 - accuracy: 0.8452\n",
      "Epoch 20/100\n",
      "13708/13708 [==============================] - 15s 1ms/step - loss: 0.3215 - accuracy: 0.8455\n",
      "Epoch 21/100\n",
      "13708/13708 [==============================] - 15s 1ms/step - loss: 0.3211 - accuracy: 0.8458\n",
      "Epoch 22/100\n",
      "13708/13708 [==============================] - 15s 1ms/step - loss: 0.3205 - accuracy: 0.8458\n",
      "Epoch 23/100\n",
      "13708/13708 [==============================] - 16s 1ms/step - loss: 0.3204 - accuracy: 0.8458\n",
      "Epoch 24/100\n",
      "13708/13708 [==============================] - 15s 1ms/step - loss: 0.3200 - accuracy: 0.8458\n",
      "Epoch 25/100\n",
      "13708/13708 [==============================] - 15s 1ms/step - loss: 0.3196 - accuracy: 0.8463\n",
      "Epoch 26/100\n",
      "13708/13708 [==============================] - 16s 1ms/step - loss: 0.3193 - accuracy: 0.8464\n",
      "Epoch 27/100\n",
      "13708/13708 [==============================] - 16s 1ms/step - loss: 0.3192 - accuracy: 0.8467\n",
      "Epoch 28/100\n",
      "13708/13708 [==============================] - 16s 1ms/step - loss: 0.3187 - accuracy: 0.8463\n",
      "Epoch 29/100\n",
      "13708/13708 [==============================] - 16s 1ms/step - loss: 0.3185 - accuracy: 0.8468\n",
      "Epoch 30/100\n",
      "13708/13708 [==============================] - 16s 1ms/step - loss: 0.3184 - accuracy: 0.8465\n",
      "Epoch 31/100\n",
      "13708/13708 [==============================] - 16s 1ms/step - loss: 0.3182 - accuracy: 0.8467\n",
      "Epoch 32/100\n",
      "13708/13708 [==============================] - 16s 1ms/step - loss: 0.3180 - accuracy: 0.8470\n",
      "Epoch 33/100\n",
      "13708/13708 [==============================] - 16s 1ms/step - loss: 0.3181 - accuracy: 0.8468\n",
      "Epoch 34/100\n",
      "13708/13708 [==============================] - 15s 1ms/step - loss: 0.3179 - accuracy: 0.8466\n",
      "Epoch 35/100\n",
      "13708/13708 [==============================] - 16s 1ms/step - loss: 0.3172 - accuracy: 0.8471\n",
      "Epoch 36/100\n",
      "13708/13708 [==============================] - 16s 1ms/step - loss: 0.3168 - accuracy: 0.8472\n",
      "Epoch 37/100\n",
      "13708/13708 [==============================] - 15s 1ms/step - loss: 0.3167 - accuracy: 0.8479\n",
      "Epoch 38/100\n",
      "13708/13708 [==============================] - 15s 1ms/step - loss: 0.3164 - accuracy: 0.8478\n",
      "Epoch 39/100\n",
      "13708/13708 [==============================] - 15s 1ms/step - loss: 0.3165 - accuracy: 0.8475\n",
      "Epoch 40/100\n",
      "13708/13708 [==============================] - 14s 1ms/step - loss: 0.3160 - accuracy: 0.8478\n",
      "Epoch 41/100\n",
      "13708/13708 [==============================] - 14s 1ms/step - loss: 0.3157 - accuracy: 0.8478\n",
      "Epoch 42/100\n",
      "13708/13708 [==============================] - 14s 1ms/step - loss: 0.3156 - accuracy: 0.8479\n",
      "Epoch 43/100\n",
      "13708/13708 [==============================] - 14s 1ms/step - loss: 0.3158 - accuracy: 0.8479\n",
      "Epoch 44/100\n",
      "13708/13708 [==============================] - 14s 1ms/step - loss: 0.3152 - accuracy: 0.8484\n",
      "Epoch 45/100\n",
      "13708/13708 [==============================] - 14s 1ms/step - loss: 0.3152 - accuracy: 0.8484\n",
      "Epoch 46/100\n",
      "13708/13708 [==============================] - 14s 1ms/step - loss: 0.3149 - accuracy: 0.8486\n",
      "Epoch 47/100\n",
      "13708/13708 [==============================] - 14s 1ms/step - loss: 0.3149 - accuracy: 0.8486\n",
      "Epoch 48/100\n",
      "13708/13708 [==============================] - 14s 1ms/step - loss: 0.3149 - accuracy: 0.8482\n",
      "Epoch 49/100\n",
      "13708/13708 [==============================] - 14s 1ms/step - loss: 0.3148 - accuracy: 0.8485\n",
      "Epoch 50/100\n",
      "13708/13708 [==============================] - 14s 1ms/step - loss: 0.3143 - accuracy: 0.8492\n",
      "Epoch 51/100\n",
      "13708/13708 [==============================] - 14s 1ms/step - loss: 0.3138 - accuracy: 0.8487\n",
      "Epoch 52/100\n",
      "13708/13708 [==============================] - 14s 1ms/step - loss: 0.3136 - accuracy: 0.8489\n",
      "Epoch 53/100\n",
      "13708/13708 [==============================] - 14s 1ms/step - loss: 0.3137 - accuracy: 0.8489\n",
      "Epoch 54/100\n",
      "13708/13708 [==============================] - 15s 1ms/step - loss: 0.3135 - accuracy: 0.8487\n",
      "Epoch 55/100\n",
      "13708/13708 [==============================] - 14s 1ms/step - loss: 0.3131 - accuracy: 0.8495\n",
      "Epoch 56/100\n",
      "13708/13708 [==============================] - 14s 1ms/step - loss: 0.3129 - accuracy: 0.8495\n",
      "Epoch 57/100\n",
      "13708/13708 [==============================] - 14s 1ms/step - loss: 0.3129 - accuracy: 0.8493\n",
      "Epoch 58/100\n",
      "13708/13708 [==============================] - 14s 1ms/step - loss: 0.3127 - accuracy: 0.8501\n",
      "Epoch 59/100\n",
      "13708/13708 [==============================] - 14s 1ms/step - loss: 0.3124 - accuracy: 0.8496\n",
      "Epoch 60/100\n",
      "13708/13708 [==============================] - 14s 1ms/step - loss: 0.3125 - accuracy: 0.8496\n",
      "Epoch 61/100\n",
      "13708/13708 [==============================] - 14s 1ms/step - loss: 0.3115 - accuracy: 0.8502\n",
      "Epoch 62/100\n",
      "13708/13708 [==============================] - 14s 1ms/step - loss: 0.3111 - accuracy: 0.8507\n",
      "Epoch 63/100\n",
      "13708/13708 [==============================] - 14s 1ms/step - loss: 0.3111 - accuracy: 0.8506\n",
      "Epoch 64/100\n",
      "13708/13708 [==============================] - 15s 1ms/step - loss: 0.3106 - accuracy: 0.8511\n",
      "Epoch 65/100\n",
      "13708/13708 [==============================] - 15s 1ms/step - loss: 0.3102 - accuracy: 0.8513\n",
      "Epoch 66/100\n",
      "13708/13708 [==============================] - 15s 1ms/step - loss: 0.3099 - accuracy: 0.8518\n",
      "Epoch 67/100\n",
      "13708/13708 [==============================] - 15s 1ms/step - loss: 0.3101 - accuracy: 0.8511\n",
      "Epoch 68/100\n",
      "13708/13708 [==============================] - 15s 1ms/step - loss: 0.3100 - accuracy: 0.8514\n",
      "Epoch 69/100\n",
      "13708/13708 [==============================] - 15s 1ms/step - loss: 0.3099 - accuracy: 0.8513\n",
      "Epoch 70/100\n",
      "13708/13708 [==============================] - 15s 1ms/step - loss: 0.3095 - accuracy: 0.8516\n",
      "Epoch 71/100\n",
      "13708/13708 [==============================] - 15s 1ms/step - loss: 0.3095 - accuracy: 0.8513\n",
      "Epoch 72/100\n",
      "13708/13708 [==============================] - 14s 1ms/step - loss: 0.3091 - accuracy: 0.8518\n",
      "Epoch 73/100\n",
      "13708/13708 [==============================] - 14s 1ms/step - loss: 0.3092 - accuracy: 0.8519\n",
      "Epoch 74/100\n",
      "13708/13708 [==============================] - 14s 1ms/step - loss: 0.3090 - accuracy: 0.8519\n",
      "Epoch 75/100\n",
      "13708/13708 [==============================] - 14s 1ms/step - loss: 0.3090 - accuracy: 0.8519\n",
      "Epoch 76/100\n",
      "13708/13708 [==============================] - 14s 1ms/step - loss: 0.3091 - accuracy: 0.8516\n",
      "Epoch 77/100\n",
      "13708/13708 [==============================] - 14s 1ms/step - loss: 0.3090 - accuracy: 0.8517\n",
      "Epoch 78/100\n",
      "13708/13708 [==============================] - 14s 1ms/step - loss: 0.3088 - accuracy: 0.8519\n",
      "Epoch 79/100\n",
      "13708/13708 [==============================] - 14s 1ms/step - loss: 0.3089 - accuracy: 0.8519\n",
      "Epoch 80/100\n",
      "13708/13708 [==============================] - 14s 1ms/step - loss: 0.3084 - accuracy: 0.8522\n",
      "Epoch 81/100\n",
      "13708/13708 [==============================] - 14s 1ms/step - loss: 0.3082 - accuracy: 0.8523\n",
      "Epoch 82/100\n",
      "13708/13708 [==============================] - 14s 1ms/step - loss: 0.3086 - accuracy: 0.8518\n",
      "Epoch 83/100\n",
      "13708/13708 [==============================] - 14s 1ms/step - loss: 0.3086 - accuracy: 0.8520\n",
      "Epoch 84/100\n",
      "13708/13708 [==============================] - 14s 1ms/step - loss: 0.3086 - accuracy: 0.8519\n",
      "Epoch 85/100\n",
      "13708/13708 [==============================] - 14s 1ms/step - loss: 0.3082 - accuracy: 0.8525\n",
      "Epoch 86/100\n",
      "13708/13708 [==============================] - 14s 1ms/step - loss: 0.3081 - accuracy: 0.8521\n",
      "Epoch 87/100\n",
      "13708/13708 [==============================] - 14s 1ms/step - loss: 0.3079 - accuracy: 0.8523\n",
      "Epoch 88/100\n",
      "13708/13708 [==============================] - 14s 1ms/step - loss: 0.3079 - accuracy: 0.8523\n",
      "Epoch 89/100\n",
      "13708/13708 [==============================] - 14s 1ms/step - loss: 0.3078 - accuracy: 0.8524\n",
      "Epoch 90/100\n",
      "13708/13708 [==============================] - 14s 1ms/step - loss: 0.3078 - accuracy: 0.8523\n",
      "Epoch 91/100\n",
      "13708/13708 [==============================] - 14s 1ms/step - loss: 0.3074 - accuracy: 0.8526\n",
      "Epoch 92/100\n",
      "13708/13708 [==============================] - 14s 1ms/step - loss: 0.3075 - accuracy: 0.8524\n",
      "Epoch 93/100\n",
      "13708/13708 [==============================] - 15s 1ms/step - loss: 0.3076 - accuracy: 0.8527\n",
      "Epoch 94/100\n",
      "13708/13708 [==============================] - 14s 1ms/step - loss: 0.3076 - accuracy: 0.8525\n",
      "Epoch 95/100\n",
      "13708/13708 [==============================] - 15s 1ms/step - loss: 0.3071 - accuracy: 0.8531\n",
      "Epoch 96/100\n",
      "13708/13708 [==============================] - 14s 1ms/step - loss: 0.3072 - accuracy: 0.8529\n",
      "Epoch 97/100\n",
      "13708/13708 [==============================] - 15s 1ms/step - loss: 0.3075 - accuracy: 0.8530\n",
      "Epoch 98/100\n",
      "13708/13708 [==============================] - 15s 1ms/step - loss: 0.3071 - accuracy: 0.8528\n",
      "Epoch 99/100\n",
      "13708/13708 [==============================] - 15s 1ms/step - loss: 0.3070 - accuracy: 0.8527\n",
      "Epoch 100/100\n",
      "13708/13708 [==============================] - 15s 1ms/step - loss: 0.3068 - accuracy: 0.8528\n"
     ]
    }
   ],
   "source": [
    "\n",
    "tf.random.set_seed(42)\n",
    "\n",
    "\n",
    "\n",
    "model_21 = tf.keras.Sequential([\n",
    "  tf.keras.layers.Dense(16,activation = 'relu'),\n",
    "  tf.keras.layers.Dense(6,activation = 'relu'),\n",
    "  tf.keras.layers.Dense(6,activation = 'relu'),\n",
    "  tf.keras.layers.Dense(1,activation = 'sigmoid')                            \n",
    "])\n",
    "\n",
    "\n",
    "model_21.compile(loss = 'binary_crossentropy',\n",
    "                optimizer = tf.keras.optimizers.Adam(lr=0.001),\n",
    "                metrics = ['accuracy'])\n",
    "\n",
    "\n",
    "history_2 = model_21.fit(x_train2,y_train2,epochs = 100)"
   ]
  },
  {
   "cell_type": "code",
   "execution_count": 35,
   "metadata": {},
   "outputs": [
    {
     "name": "stdout",
     "output_type": "stream",
     "text": [
      "4570/4570 [==============================] - 4s 929us/step - loss: 0.3076 - accuracy: 0.8532\n"
     ]
    },
    {
     "data": {
      "text/plain": [
       "[0.3075971007347107, 0.8532463312149048]"
      ]
     },
     "execution_count": 35,
     "metadata": {},
     "output_type": "execute_result"
    }
   ],
   "source": [
    "model_21.evaluate(x_test2,y_test2)"
   ]
  },
  {
   "cell_type": "code",
   "execution_count": 36,
   "metadata": {},
   "outputs": [
    {
     "name": "stdout",
     "output_type": "stream",
     "text": [
      "13708/13708 [==============================] - 12s 887us/step\n",
      "4570/4570 [==============================] - 4s 852us/step\n",
      "              precision    recall  f1-score   support\n",
      "\n",
      "           0       0.83      0.90      0.86    219310\n",
      "           1       0.89      0.81      0.85    219323\n",
      "\n",
      "    accuracy                           0.85    438633\n",
      "   macro avg       0.86      0.85      0.85    438633\n",
      "weighted avg       0.86      0.85      0.85    438633\n",
      "\n",
      "              precision    recall  f1-score   support\n",
      "\n",
      "           0       0.82      0.90      0.86     73112\n",
      "           1       0.89      0.81      0.85     73099\n",
      "\n",
      "    accuracy                           0.85    146211\n",
      "   macro avg       0.86      0.85      0.85    146211\n",
      "weighted avg       0.86      0.85      0.85    146211\n",
      "\n"
     ]
    }
   ],
   "source": [
    "ypred_train8 = model_21.predict(x_train2)\n",
    "y_pred_test8 = model_21.predict(x_test2)\n",
    "\n",
    "y_pred_test8 = (y_pred_test8 > 0.5)\n",
    "ypred_train8 = (ypred_train8 > 0.5)\n",
    "\n",
    "print(classification_report(y_train2,ypred_train8))\n",
    "print(classification_report(y_test2,y_pred_test8))"
   ]
  },
  {
   "cell_type": "code",
   "execution_count": 37,
   "metadata": {},
   "outputs": [
    {
     "name": "stdout",
     "output_type": "stream",
     "text": [
      "4570/4570 [==============================] - 5s 1ms/step\n"
     ]
    },
    {
     "data": {
      "image/png": "[encoded data removed]",
      "text/plain": [
       "<Figure size 640x480 with 1 Axes>"
      ]
     },
     "metadata": {},
     "output_type": "display_data"
    }
   ],
   "source": [
    "# cross_val_scores = cross_val_score(model_21, x_train2, y_train2, cv=5)\n",
    "# print(\"Cross-validation scores:\", cross_val_scores)\n",
    "# print(\"Average cross-validation score:\", np.mean(cross_val_scores))\n",
    "\n",
    "y_proba_test = model_21.predict(x_test2).flatten()\n",
    "\n",
    "fpr, tpr, thresholds = roc_curve(y_test2, y_proba_test)\n",
    "\n",
    "plt.plot(fpr, tpr, label='ROC Curve')\n",
    "plt.xlabel('False Positive Rate')\n",
    "plt.ylabel('True Positive Rate')\n",
    "plt.title('ROC Curve with AUC = {:.2f}'.format(roc_auc_score(y_test2, y_proba_test)))\n",
    "plt.legend(loc='lower right')\n",
    "plt.grid(True)\n",
    "plt.show()"
   ]
  },
  {
   "cell_type": "markdown",
   "metadata": {},
   "source": [
    "## inna proba "
   ]
  },
  {
   "cell_type": "code",
   "execution_count": 38,
   "metadata": {},
   "outputs": [
    {
     "name": "stderr",
     "output_type": "stream",
     "text": [
      "WARNING:absl:`lr` is deprecated in Keras optimizer, please use `learning_rate` or use the legacy optimizer, e.g.,tf.keras.optimizers.legacy.Adam.\n"
     ]
    },
    {
     "name": "stdout",
     "output_type": "stream",
     "text": [
      "Epoch 1/100\n",
      "13708/13708 [==============================] - 16s 1ms/step - loss: 0.4156 - accuracy: 0.8037\n",
      "Epoch 2/100\n",
      "13708/13708 [==============================] - 16s 1ms/step - loss: 0.3520 - accuracy: 0.8317\n",
      "Epoch 3/100\n",
      "13708/13708 [==============================] - 15s 1ms/step - loss: 0.3324 - accuracy: 0.8393\n",
      "Epoch 4/100\n",
      "13708/13708 [==============================] - 15s 1ms/step - loss: 0.3251 - accuracy: 0.8425\n",
      "Epoch 5/100\n",
      "13708/13708 [==============================] - 15s 1ms/step - loss: 0.3220 - accuracy: 0.8442\n",
      "Epoch 6/100\n",
      "13708/13708 [==============================] - 15s 1ms/step - loss: 0.3192 - accuracy: 0.8456\n",
      "Epoch 7/100\n",
      "13708/13708 [==============================] - 15s 1ms/step - loss: 0.3171 - accuracy: 0.8466\n",
      "Epoch 8/100\n",
      "13708/13708 [==============================] - 15s 1ms/step - loss: 0.3163 - accuracy: 0.8468\n",
      "Epoch 9/100\n",
      "13708/13708 [==============================] - 15s 1ms/step - loss: 0.3143 - accuracy: 0.8480\n",
      "Epoch 10/100\n",
      "13708/13708 [==============================] - 15s 1ms/step - loss: 0.3124 - accuracy: 0.8488\n",
      "Epoch 11/100\n",
      "13708/13708 [==============================] - 15s 1ms/step - loss: 0.3116 - accuracy: 0.8489\n",
      "Epoch 12/100\n",
      "13708/13708 [==============================] - 15s 1ms/step - loss: 0.3107 - accuracy: 0.8497\n",
      "Epoch 13/100\n",
      "13708/13708 [==============================] - 15s 1ms/step - loss: 0.3098 - accuracy: 0.8497\n",
      "Epoch 14/100\n",
      "13708/13708 [==============================] - 15s 1ms/step - loss: 0.3088 - accuracy: 0.8505\n",
      "Epoch 15/100\n",
      "13708/13708 [==============================] - 15s 1ms/step - loss: 0.3082 - accuracy: 0.8509\n",
      "Epoch 16/100\n",
      "13708/13708 [==============================] - 15s 1ms/step - loss: 0.3068 - accuracy: 0.8515\n",
      "Epoch 17/100\n",
      "13708/13708 [==============================] - 15s 1ms/step - loss: 0.3059 - accuracy: 0.8522\n",
      "Epoch 18/100\n",
      "13708/13708 [==============================] - 15s 1ms/step - loss: 0.3052 - accuracy: 0.8526\n",
      "Epoch 19/100\n",
      "13708/13708 [==============================] - 15s 1ms/step - loss: 0.3048 - accuracy: 0.8530\n",
      "Epoch 20/100\n",
      "13708/13708 [==============================] - 15s 1ms/step - loss: 0.3038 - accuracy: 0.8530\n",
      "Epoch 21/100\n",
      "13708/13708 [==============================] - 15s 1ms/step - loss: 0.3039 - accuracy: 0.8533\n",
      "Epoch 22/100\n",
      "13708/13708 [==============================] - 15s 1ms/step - loss: 0.3035 - accuracy: 0.8534\n",
      "Epoch 23/100\n",
      "13708/13708 [==============================] - 15s 1ms/step - loss: 0.3030 - accuracy: 0.8537\n",
      "Epoch 24/100\n",
      "13708/13708 [==============================] - 15s 1ms/step - loss: 0.3023 - accuracy: 0.8544\n",
      "Epoch 25/100\n",
      "13708/13708 [==============================] - 15s 1ms/step - loss: 0.3022 - accuracy: 0.8543\n",
      "Epoch 26/100\n",
      "13708/13708 [==============================] - 15s 1ms/step - loss: 0.3016 - accuracy: 0.8546\n",
      "Epoch 27/100\n",
      "13708/13708 [==============================] - 15s 1ms/step - loss: 0.3017 - accuracy: 0.8551\n",
      "Epoch 28/100\n",
      "13708/13708 [==============================] - 15s 1ms/step - loss: 0.3011 - accuracy: 0.8547\n",
      "Epoch 29/100\n",
      "13708/13708 [==============================] - 15s 1ms/step - loss: 0.3003 - accuracy: 0.8554\n",
      "Epoch 30/100\n",
      "13708/13708 [==============================] - 15s 1ms/step - loss: 0.3004 - accuracy: 0.8550\n",
      "Epoch 31/100\n",
      "13708/13708 [==============================] - 15s 1ms/step - loss: 0.3002 - accuracy: 0.8554\n",
      "Epoch 32/100\n",
      "13708/13708 [==============================] - 15s 1ms/step - loss: 0.2995 - accuracy: 0.8557\n",
      "Epoch 33/100\n",
      "13708/13708 [==============================] - 15s 1ms/step - loss: 0.2993 - accuracy: 0.8559\n",
      "Epoch 34/100\n",
      "13708/13708 [==============================] - 15s 1ms/step - loss: 0.2991 - accuracy: 0.8559\n",
      "Epoch 35/100\n",
      "13708/13708 [==============================] - 15s 1ms/step - loss: 0.2992 - accuracy: 0.8560\n",
      "Epoch 36/100\n",
      "13708/13708 [==============================] - 15s 1ms/step - loss: 0.2987 - accuracy: 0.8561\n",
      "Epoch 37/100\n",
      "13708/13708 [==============================] - 16s 1ms/step - loss: 0.2985 - accuracy: 0.8562\n",
      "Epoch 38/100\n",
      "13708/13708 [==============================] - 15s 1ms/step - loss: 0.2980 - accuracy: 0.8566\n",
      "Epoch 39/100\n",
      "13708/13708 [==============================] - 15s 1ms/step - loss: 0.2981 - accuracy: 0.8566\n",
      "Epoch 40/100\n",
      "13708/13708 [==============================] - 15s 1ms/step - loss: 0.2980 - accuracy: 0.8565\n",
      "Epoch 41/100\n",
      "13708/13708 [==============================] - 15s 1ms/step - loss: 0.2975 - accuracy: 0.8570\n",
      "Epoch 42/100\n",
      "13708/13708 [==============================] - 16s 1ms/step - loss: 0.2973 - accuracy: 0.8569\n",
      "Epoch 43/100\n",
      "13708/13708 [==============================] - 16s 1ms/step - loss: 0.2975 - accuracy: 0.8570\n",
      "Epoch 44/100\n",
      "13708/13708 [==============================] - 15s 1ms/step - loss: 0.2967 - accuracy: 0.8573\n",
      "Epoch 45/100\n",
      "13708/13708 [==============================] - 15s 1ms/step - loss: 0.2970 - accuracy: 0.8572\n",
      "Epoch 46/100\n",
      "13708/13708 [==============================] - 15s 1ms/step - loss: 0.2968 - accuracy: 0.8572\n",
      "Epoch 47/100\n",
      "13708/13708 [==============================] - 16s 1ms/step - loss: 0.2965 - accuracy: 0.8576\n",
      "Epoch 48/100\n",
      "13708/13708 [==============================] - 16s 1ms/step - loss: 0.2964 - accuracy: 0.8576\n",
      "Epoch 49/100\n",
      "13708/13708 [==============================] - 15s 1ms/step - loss: 0.2965 - accuracy: 0.8575\n",
      "Epoch 50/100\n",
      "13708/13708 [==============================] - 15s 1ms/step - loss: 0.2959 - accuracy: 0.8580\n",
      "Epoch 51/100\n",
      "13708/13708 [==============================] - 15s 1ms/step - loss: 0.2961 - accuracy: 0.8573\n",
      "Epoch 52/100\n",
      "13708/13708 [==============================] - 15s 1ms/step - loss: 0.2957 - accuracy: 0.8577\n",
      "Epoch 53/100\n",
      "13708/13708 [==============================] - 15s 1ms/step - loss: 0.2966 - accuracy: 0.8575\n",
      "Epoch 54/100\n",
      "13708/13708 [==============================] - 16s 1ms/step - loss: 0.2958 - accuracy: 0.8577\n",
      "Epoch 55/100\n",
      "13708/13708 [==============================] - 15s 1ms/step - loss: 0.2955 - accuracy: 0.8579\n",
      "Epoch 56/100\n",
      "13708/13708 [==============================] - 15s 1ms/step - loss: 0.2955 - accuracy: 0.8580\n",
      "Epoch 57/100\n",
      "13708/13708 [==============================] - 15s 1ms/step - loss: 0.2955 - accuracy: 0.8578\n",
      "Epoch 58/100\n",
      "13708/13708 [==============================] - 15s 1ms/step - loss: 0.2953 - accuracy: 0.8579\n",
      "Epoch 59/100\n",
      "13708/13708 [==============================] - 15s 1ms/step - loss: 0.2948 - accuracy: 0.8580\n",
      "Epoch 60/100\n",
      "13708/13708 [==============================] - 15s 1ms/step - loss: 0.2945 - accuracy: 0.8582\n",
      "Epoch 61/100\n",
      "13708/13708 [==============================] - 15s 1ms/step - loss: 0.2943 - accuracy: 0.8584\n",
      "Epoch 62/100\n",
      "13708/13708 [==============================] - 15s 1ms/step - loss: 0.2947 - accuracy: 0.8587\n",
      "Epoch 63/100\n",
      "13708/13708 [==============================] - 16s 1ms/step - loss: 0.2949 - accuracy: 0.8583\n",
      "Epoch 64/100\n",
      "13708/13708 [==============================] - 16s 1ms/step - loss: 0.2947 - accuracy: 0.8581\n",
      "Epoch 65/100\n",
      "13708/13708 [==============================] - 15s 1ms/step - loss: 0.2942 - accuracy: 0.8588\n",
      "Epoch 66/100\n",
      "13708/13708 [==============================] - 15s 1ms/step - loss: 0.2943 - accuracy: 0.8587\n",
      "Epoch 67/100\n",
      "13708/13708 [==============================] - 15s 1ms/step - loss: 0.2940 - accuracy: 0.8588\n",
      "Epoch 68/100\n",
      "13708/13708 [==============================] - 15s 1ms/step - loss: 0.2938 - accuracy: 0.8588\n",
      "Epoch 69/100\n",
      "13708/13708 [==============================] - 15s 1ms/step - loss: 0.2939 - accuracy: 0.8588\n",
      "Epoch 70/100\n",
      "13708/13708 [==============================] - 15s 1ms/step - loss: 0.2941 - accuracy: 0.8588\n",
      "Epoch 71/100\n",
      "13708/13708 [==============================] - 15s 1ms/step - loss: 0.2939 - accuracy: 0.8588\n",
      "Epoch 72/100\n",
      "13708/13708 [==============================] - 15s 1ms/step - loss: 0.2940 - accuracy: 0.8589\n",
      "Epoch 73/100\n",
      "13708/13708 [==============================] - 15s 1ms/step - loss: 0.2936 - accuracy: 0.8590\n",
      "Epoch 74/100\n",
      "13708/13708 [==============================] - 15s 1ms/step - loss: 0.2937 - accuracy: 0.8588\n",
      "Epoch 75/100\n",
      "13708/13708 [==============================] - 15s 1ms/step - loss: 0.2933 - accuracy: 0.8591\n",
      "Epoch 76/100\n",
      "13708/13708 [==============================] - 15s 1ms/step - loss: 0.2931 - accuracy: 0.8591\n",
      "Epoch 77/100\n",
      "13708/13708 [==============================] - 15s 1ms/step - loss: 0.2929 - accuracy: 0.8595\n",
      "Epoch 78/100\n",
      "13708/13708 [==============================] - 15s 1ms/step - loss: 0.2934 - accuracy: 0.8591\n",
      "Epoch 79/100\n",
      "13708/13708 [==============================] - 15s 1ms/step - loss: 0.2931 - accuracy: 0.8592\n",
      "Epoch 80/100\n",
      "13708/13708 [==============================] - 15s 1ms/step - loss: 0.2926 - accuracy: 0.8595\n",
      "Epoch 81/100\n",
      "13708/13708 [==============================] - 15s 1ms/step - loss: 0.2928 - accuracy: 0.8592\n",
      "Epoch 82/100\n",
      "13708/13708 [==============================] - 15s 1ms/step - loss: 0.2929 - accuracy: 0.8595\n",
      "Epoch 83/100\n",
      "13708/13708 [==============================] - 15s 1ms/step - loss: 0.2929 - accuracy: 0.8594\n",
      "Epoch 84/100\n",
      "13708/13708 [==============================] - 15s 1ms/step - loss: 0.2927 - accuracy: 0.8594\n",
      "Epoch 85/100\n",
      "13708/13708 [==============================] - 15s 1ms/step - loss: 0.2928 - accuracy: 0.8597\n",
      "Epoch 86/100\n",
      "13708/13708 [==============================] - 15s 1ms/step - loss: 0.2922 - accuracy: 0.8597\n",
      "Epoch 87/100\n",
      "13708/13708 [==============================] - 15s 1ms/step - loss: 0.2927 - accuracy: 0.8595\n",
      "Epoch 88/100\n",
      "13708/13708 [==============================] - 15s 1ms/step - loss: 0.2923 - accuracy: 0.8598\n",
      "Epoch 89/100\n",
      "13708/13708 [==============================] - 15s 1ms/step - loss: 0.2919 - accuracy: 0.8595\n",
      "Epoch 90/100\n",
      "13708/13708 [==============================] - 15s 1ms/step - loss: 0.2920 - accuracy: 0.8595\n",
      "Epoch 91/100\n",
      "13708/13708 [==============================] - 15s 1ms/step - loss: 0.2921 - accuracy: 0.8596\n",
      "Epoch 92/100\n",
      "13708/13708 [==============================] - 15s 1ms/step - loss: 0.2920 - accuracy: 0.8600\n",
      "Epoch 93/100\n",
      "13708/13708 [==============================] - 15s 1ms/step - loss: 0.2918 - accuracy: 0.8599\n",
      "Epoch 94/100\n",
      "13708/13708 [==============================] - 15s 1ms/step - loss: 0.2920 - accuracy: 0.8600\n",
      "Epoch 95/100\n",
      "13708/13708 [==============================] - 16s 1ms/step - loss: 0.2918 - accuracy: 0.8601\n",
      "Epoch 96/100\n",
      "13708/13708 [==============================] - 15s 1ms/step - loss: 0.2919 - accuracy: 0.8599\n",
      "Epoch 97/100\n",
      "13708/13708 [==============================] - 15s 1ms/step - loss: 0.2917 - accuracy: 0.8602\n",
      "Epoch 98/100\n",
      "13708/13708 [==============================] - 15s 1ms/step - loss: 0.2916 - accuracy: 0.8602\n",
      "Epoch 99/100\n",
      "13708/13708 [==============================] - 15s 1ms/step - loss: 0.2916 - accuracy: 0.8600\n",
      "Epoch 100/100\n",
      "13708/13708 [==============================] - 15s 1ms/step - loss: 0.2912 - accuracy: 0.8605\n"
     ]
    }
   ],
   "source": [
    "\n",
    "tf.random.set_seed(42)\n",
    "\n",
    "model_22 = tf.keras.Sequential([\n",
    "  tf.keras.layers.Dense(16,activation = 'relu'),\n",
    "  tf.keras.layers.Dense(32,activation = 'relu'),\n",
    "  tf.keras.layers.Dense(16,activation = 'relu'),\n",
    "  tf.keras.layers.Dense(9,activation = 'relu'),\n",
    "  tf.keras.layers.Dense(1,activation = 'sigmoid')                            \n",
    "])\n",
    "\n",
    "\n",
    "model_22.compile(loss = 'binary_crossentropy',\n",
    "                optimizer = tf.keras.optimizers.Adam(lr=0.001),\n",
    "                metrics = ['accuracy'])\n",
    "\n",
    "\n",
    "history_2 = model_22.fit(x_train2,y_train2,epochs = 100)"
   ]
  },
  {
   "cell_type": "code",
   "execution_count": 39,
   "metadata": {},
   "outputs": [
    {
     "name": "stdout",
     "output_type": "stream",
     "text": [
      "4570/4570 [==============================] - 4s 890us/step - loss: 0.2877 - accuracy: 0.8618\n"
     ]
    },
    {
     "data": {
      "text/plain": [
       "[0.28774282336235046, 0.8617545962333679]"
      ]
     },
     "execution_count": 39,
     "metadata": {},
     "output_type": "execute_result"
    }
   ],
   "source": [
    "model_22.evaluate(x_test2,y_test2)"
   ]
  },
  {
   "cell_type": "code",
   "execution_count": 40,
   "metadata": {},
   "outputs": [
    {
     "name": "stdout",
     "output_type": "stream",
     "text": [
      "13708/13708 [==============================] - 12s 875us/step\n",
      "4570/4570 [==============================] - 4s 828us/step\n",
      "              precision    recall  f1-score   support\n",
      "\n",
      "           0       0.86      0.87      0.86    219310\n",
      "           1       0.87      0.85      0.86    219323\n",
      "\n",
      "    accuracy                           0.86    438633\n",
      "   macro avg       0.86      0.86      0.86    438633\n",
      "weighted avg       0.86      0.86      0.86    438633\n",
      "\n",
      "              precision    recall  f1-score   support\n",
      "\n",
      "           0       0.86      0.87      0.86     73112\n",
      "           1       0.87      0.85      0.86     73099\n",
      "\n",
      "    accuracy                           0.86    146211\n",
      "   macro avg       0.86      0.86      0.86    146211\n",
      "weighted avg       0.86      0.86      0.86    146211\n",
      "\n"
     ]
    }
   ],
   "source": [
    "ypred_train9 = model_22.predict(x_train2)\n",
    "y_pred_test9 = model_22.predict(x_test2)\n",
    "\n",
    "y_pred_test9 = (y_pred_test9 > 0.5)\n",
    "ypred_train9 = (ypred_train9 > 0.5)\n",
    "\n",
    "print(classification_report(y_train2,ypred_train9))\n",
    "print(classification_report(y_test2,y_pred_test9))"
   ]
  },
  {
   "cell_type": "code",
   "execution_count": 41,
   "metadata": {},
   "outputs": [
    {
     "name": "stdout",
     "output_type": "stream",
     "text": [
      "4570/4570 [==============================] - 4s 871us/step\n"
     ]
    },
    {
     "data": {
      "image/png": "[encoded data removed]",
      "text/plain": [
       "<Figure size 640x480 with 1 Axes>"
      ]
     },
     "metadata": {},
     "output_type": "display_data"
    }
   ],
   "source": [
    "# cross_val_scores = cross_val_score(model_22, x_train2, y_train2, cv=5)\n",
    "# print(\"Cross-validation scores:\", cross_val_scores)\n",
    "# print(\"Average cross-validation score:\", np.mean(cross_val_scores))\n",
    "\n",
    "y_proba_test = model_22.predict(x_test2).flatten()\n",
    "\n",
    "fpr, tpr, thresholds = roc_curve(y_test2, y_proba_test)\n",
    "\n",
    "plt.plot(fpr, tpr, label='ROC Curve')\n",
    "plt.xlabel('False Positive Rate')\n",
    "plt.ylabel('True Positive Rate')\n",
    "plt.title('ROC Curve with AUC = {:.2f}'.format(roc_auc_score(y_test2, y_proba_test)))\n",
    "plt.legend(loc='lower right')\n",
    "plt.grid(True)\n",
    "plt.show()"
   ]
  },
  {
   "cell_type": "markdown",
   "metadata": {},
   "source": [
    "## inny model"
   ]
  },
  {
   "cell_type": "code",
   "execution_count": 42,
   "metadata": {},
   "outputs": [
    {
     "name": "stdout",
     "output_type": "stream",
     "text": [
      "WARNING:tensorflow:From C:\\Users\\DELL\\AppData\\Roaming\\Python\\Python311\\site-packages\\keras\\src\\optimizers\\__init__.py:309: The name tf.train.Optimizer is deprecated. Please use tf.compat.v1.train.Optimizer instead.\n",
      "\n"
     ]
    },
    {
     "name": "stderr",
     "output_type": "stream",
     "text": [
      "WARNING:tensorflow:From C:\\Users\\DELL\\AppData\\Roaming\\Python\\Python311\\site-packages\\keras\\src\\optimizers\\__init__.py:309: The name tf.train.Optimizer is deprecated. Please use tf.compat.v1.train.Optimizer instead.\n",
      "\n"
     ]
    }
   ],
   "source": [
    "model1 = Sequential()\n",
    "model1.add(Dense(units=16,activation='relu'))\n",
    "model1.add(Dropout(0.5))\n",
    "\n",
    "model1.add(Dense(units=15,activation='relu'))\n",
    "model1.add(Dropout(0.5))\n",
    "\n",
    "model1.add(Dense(units=1,activation='sigmoid'))\n",
    "model1.compile(loss='binary_crossentropy', optimizer='adam')"
   ]
  },
  {
   "cell_type": "code",
   "execution_count": 43,
   "metadata": {},
   "outputs": [
    {
     "name": "stdout",
     "output_type": "stream",
     "text": [
      "Epoch 1/100\n",
      "13708/13708 [==============================] - 19s 1ms/step - loss: 0.5293 - val_loss: 0.4743\n",
      "Epoch 2/100\n",
      "13708/13708 [==============================] - 18s 1ms/step - loss: 0.5049 - val_loss: 0.4635\n",
      "Epoch 3/100\n",
      "13708/13708 [==============================] - 19s 1ms/step - loss: 0.5013 - val_loss: 0.4607\n",
      "Epoch 4/100\n",
      "13708/13708 [==============================] - 19s 1ms/step - loss: 0.4999 - val_loss: 0.4642\n",
      "Epoch 5/100\n",
      "13708/13708 [==============================] - 19s 1ms/step - loss: 0.4980 - val_loss: 0.4613\n",
      "Epoch 6/100\n",
      "13708/13708 [==============================] - 19s 1ms/step - loss: 0.4974 - val_loss: 0.4618\n",
      "Epoch 7/100\n",
      "13708/13708 [==============================] - 19s 1ms/step - loss: 0.4971 - val_loss: 0.4624\n",
      "Epoch 8/100\n",
      "13708/13708 [==============================] - 18s 1ms/step - loss: 0.4969 - val_loss: 0.4647\n",
      "Epoch 9/100\n",
      "13708/13708 [==============================] - 18s 1ms/step - loss: 0.4963 - val_loss: 0.4601\n",
      "Epoch 10/100\n",
      "13708/13708 [==============================] - 19s 1ms/step - loss: 0.4971 - val_loss: 0.4604\n",
      "Epoch 11/100\n",
      "13708/13708 [==============================] - 19s 1ms/step - loss: 0.4964 - val_loss: 0.4580\n",
      "Epoch 12/100\n",
      "13708/13708 [==============================] - 18s 1ms/step - loss: 0.4957 - val_loss: 0.4607\n",
      "Epoch 13/100\n",
      "13708/13708 [==============================] - 19s 1ms/step - loss: 0.4963 - val_loss: 0.4608\n",
      "Epoch 14/100\n",
      "13708/13708 [==============================] - 18s 1ms/step - loss: 0.4962 - val_loss: 0.4621\n",
      "Epoch 15/100\n",
      "13708/13708 [==============================] - 19s 1ms/step - loss: 0.4957 - val_loss: 0.4602\n",
      "Epoch 16/100\n",
      "13708/13708 [==============================] - 19s 1ms/step - loss: 0.4950 - val_loss: 0.4596\n",
      "Epoch 17/100\n",
      "13708/13708 [==============================] - 19s 1ms/step - loss: 0.4957 - val_loss: 0.4596\n",
      "Epoch 18/100\n",
      "13708/13708 [==============================] - 19s 1ms/step - loss: 0.4946 - val_loss: 0.4596\n",
      "Epoch 19/100\n",
      "13708/13708 [==============================] - 19s 1ms/step - loss: 0.4953 - val_loss: 0.4606\n",
      "Epoch 20/100\n",
      "13708/13708 [==============================] - 18s 1ms/step - loss: 0.4951 - val_loss: 0.4608\n",
      "Epoch 21/100\n",
      "13708/13708 [==============================] - 18s 1ms/step - loss: 0.4957 - val_loss: 0.4622\n",
      "Epoch 22/100\n",
      "13708/13708 [==============================] - 17s 1ms/step - loss: 0.4956 - val_loss: 0.4586\n",
      "Epoch 23/100\n",
      "13708/13708 [==============================] - 16s 1ms/step - loss: 0.4955 - val_loss: 0.4605\n",
      "Epoch 24/100\n",
      "13708/13708 [==============================] - 17s 1ms/step - loss: 0.4952 - val_loss: 0.4596\n",
      "Epoch 25/100\n",
      "13708/13708 [==============================] - 16s 1ms/step - loss: 0.4955 - val_loss: 0.4584\n",
      "Epoch 26/100\n",
      "13708/13708 [==============================] - 17s 1ms/step - loss: 0.4954 - val_loss: 0.4597\n",
      "Epoch 27/100\n",
      "13708/13708 [==============================] - 16s 1ms/step - loss: 0.4944 - val_loss: 0.4556\n",
      "Epoch 28/100\n",
      "13708/13708 [==============================] - 17s 1ms/step - loss: 0.4947 - val_loss: 0.4587\n",
      "Epoch 29/100\n",
      "13708/13708 [==============================] - 16s 1ms/step - loss: 0.4952 - val_loss: 0.4603\n",
      "Epoch 30/100\n",
      "13708/13708 [==============================] - 16s 1ms/step - loss: 0.4940 - val_loss: 0.4575\n",
      "Epoch 31/100\n",
      "13708/13708 [==============================] - 16s 1ms/step - loss: 0.4949 - val_loss: 0.4572\n",
      "Epoch 32/100\n",
      "13708/13708 [==============================] - 16s 1ms/step - loss: 0.4952 - val_loss: 0.4570\n",
      "Epoch 33/100\n",
      "13708/13708 [==============================] - 17s 1ms/step - loss: 0.4947 - val_loss: 0.4607\n",
      "Epoch 34/100\n",
      "13708/13708 [==============================] - 16s 1ms/step - loss: 0.4949 - val_loss: 0.4563\n",
      "Epoch 35/100\n",
      "13708/13708 [==============================] - 16s 1ms/step - loss: 0.4950 - val_loss: 0.4588\n",
      "Epoch 36/100\n",
      "13708/13708 [==============================] - 16s 1ms/step - loss: 0.4946 - val_loss: 0.4573\n",
      "Epoch 37/100\n",
      "13708/13708 [==============================] - 17s 1ms/step - loss: 0.4950 - val_loss: 0.4557\n",
      "Epoch 38/100\n",
      "13708/13708 [==============================] - 16s 1ms/step - loss: 0.4942 - val_loss: 0.4579\n",
      "Epoch 39/100\n",
      "13708/13708 [==============================] - 16s 1ms/step - loss: 0.4942 - val_loss: 0.4587\n",
      "Epoch 40/100\n",
      "13708/13708 [==============================] - 16s 1ms/step - loss: 0.4949 - val_loss: 0.4550\n",
      "Epoch 41/100\n",
      "13708/13708 [==============================] - 17s 1ms/step - loss: 0.4947 - val_loss: 0.4571\n",
      "Epoch 42/100\n",
      "13708/13708 [==============================] - 16s 1ms/step - loss: 0.4940 - val_loss: 0.4550\n",
      "Epoch 43/100\n",
      "13708/13708 [==============================] - 17s 1ms/step - loss: 0.4943 - val_loss: 0.4577\n",
      "Epoch 44/100\n",
      "13708/13708 [==============================] - 16s 1ms/step - loss: 0.4939 - val_loss: 0.4583\n",
      "Epoch 45/100\n",
      "13708/13708 [==============================] - 16s 1ms/step - loss: 0.4933 - val_loss: 0.4564\n",
      "Epoch 46/100\n",
      "13708/13708 [==============================] - 16s 1ms/step - loss: 0.4948 - val_loss: 0.4562\n",
      "Epoch 47/100\n",
      "13708/13708 [==============================] - 16s 1ms/step - loss: 0.4941 - val_loss: 0.4573\n",
      "Epoch 48/100\n",
      "13708/13708 [==============================] - 16s 1ms/step - loss: 0.4944 - val_loss: 0.4581\n",
      "Epoch 49/100\n",
      "13708/13708 [==============================] - 16s 1ms/step - loss: 0.4934 - val_loss: 0.4565\n",
      "Epoch 50/100\n",
      "13708/13708 [==============================] - 16s 1ms/step - loss: 0.4946 - val_loss: 0.4595\n",
      "Epoch 51/100\n",
      "13708/13708 [==============================] - 16s 1ms/step - loss: 0.4941 - val_loss: 0.4570\n",
      "Epoch 52/100\n",
      "13708/13708 [==============================] - 16s 1ms/step - loss: 0.4938 - val_loss: 0.4569\n",
      "Epoch 53/100\n",
      "13708/13708 [==============================] - 16s 1ms/step - loss: 0.4935 - val_loss: 0.4568\n",
      "Epoch 54/100\n",
      "13708/13708 [==============================] - 16s 1ms/step - loss: 0.4932 - val_loss: 0.4553\n",
      "Epoch 55/100\n",
      "13708/13708 [==============================] - 17s 1ms/step - loss: 0.4932 - val_loss: 0.4556\n",
      "Epoch 56/100\n",
      "13708/13708 [==============================] - 17s 1ms/step - loss: 0.4945 - val_loss: 0.4582\n",
      "Epoch 57/100\n",
      "13708/13708 [==============================] - 16s 1ms/step - loss: 0.4940 - val_loss: 0.4586\n",
      "Epoch 58/100\n",
      "13708/13708 [==============================] - 16s 1ms/step - loss: 0.4937 - val_loss: 0.4564\n",
      "Epoch 59/100\n",
      "13708/13708 [==============================] - 16s 1ms/step - loss: 0.4935 - val_loss: 0.4576\n",
      "Epoch 60/100\n",
      "13708/13708 [==============================] - 17s 1ms/step - loss: 0.4939 - val_loss: 0.4551\n",
      "Epoch 61/100\n",
      "13708/13708 [==============================] - 18s 1ms/step - loss: 0.4941 - val_loss: 0.4559\n",
      "Epoch 62/100\n",
      "13708/13708 [==============================] - 17s 1ms/step - loss: 0.4939 - val_loss: 0.4557\n",
      "Epoch 63/100\n",
      "13708/13708 [==============================] - 16s 1ms/step - loss: 0.4943 - val_loss: 0.4602\n",
      "Epoch 64/100\n",
      "13708/13708 [==============================] - 16s 1ms/step - loss: 0.4935 - val_loss: 0.4576\n",
      "Epoch 65/100\n",
      "13708/13708 [==============================] - 16s 1ms/step - loss: 0.4944 - val_loss: 0.4562\n",
      "Epoch 65: early stopping\n"
     ]
    },
    {
     "data": {
      "text/plain": [
       "<keras.src.callbacks.History at 0x298a1882dd0>"
      ]
     },
     "execution_count": 43,
     "metadata": {},
     "output_type": "execute_result"
    }
   ],
   "source": [
    "model1.fit(x=x_train2, \n",
    "          y=y_train2, \n",
    "          epochs=100,\n",
    "          validation_data=(x_test2, y_test2), verbose=1,\n",
    "          callbacks=[early_stop]\n",
    "          )"
   ]
  },
  {
   "cell_type": "code",
   "execution_count": 44,
   "metadata": {},
   "outputs": [
    {
     "name": "stdout",
     "output_type": "stream",
     "text": [
      "13708/13708 [==============================] - 11s 771us/step\n",
      "4570/4570 [==============================] - 3s 750us/step\n"
     ]
    }
   ],
   "source": [
    "ypred_train10 = model1.predict(x_train2)\n",
    "y_pred_test10 = model1.predict(x_test2)\n",
    "\n",
    "y_pred_test10 = (y_pred_test10 > 0.5)\n",
    "ypred_train10 = (ypred_train10 > 0.5)\n",
    "\n",
    "\n"
   ]
  },
  {
   "cell_type": "code",
   "execution_count": 45,
   "metadata": {},
   "outputs": [
    {
     "name": "stdout",
     "output_type": "stream",
     "text": [
      "trening Results\n",
      "\n",
      "              precision    recall  f1-score   support\n",
      "\n",
      "           0       0.82      0.74      0.78    219310\n",
      "           1       0.76      0.84      0.80    219323\n",
      "\n",
      "    accuracy                           0.79    438633\n",
      "   macro avg       0.79      0.79      0.79    438633\n",
      "weighted avg       0.79      0.79      0.79    438633\n",
      "\n"
     ]
    }
   ],
   "source": [
    "print('trening Results\\n')\n",
    "print(classification_report(y_train2,ypred_train10))"
   ]
  },
  {
   "cell_type": "code",
   "execution_count": 46,
   "metadata": {},
   "outputs": [
    {
     "name": "stdout",
     "output_type": "stream",
     "text": [
      "Testing Results\n",
      "\n",
      "              precision    recall  f1-score   support\n",
      "\n",
      "           0       0.82      0.74      0.78     73112\n",
      "           1       0.76      0.84      0.80     73099\n",
      "\n",
      "    accuracy                           0.79    146211\n",
      "   macro avg       0.79      0.79      0.79    146211\n",
      "weighted avg       0.79      0.79      0.79    146211\n",
      "\n"
     ]
    }
   ],
   "source": [
    "print('Testing Results\\n')\n",
    "print(classification_report(y_test2,y_pred_test10))"
   ]
  },
  {
   "cell_type": "code",
   "execution_count": 47,
   "metadata": {},
   "outputs": [
    {
     "name": "stdout",
     "output_type": "stream",
     "text": [
      "4570/4570 [==============================] - 4s 778us/step\n"
     ]
    },
    {
     "data": {
      "image/png": "[encoded data removed]",
      "text/plain": [
       "<Figure size 640x480 with 1 Axes>"
      ]
     },
     "metadata": {},
     "output_type": "display_data"
    }
   ],
   "source": [
    "# cross_val_scores = cross_val_score(model1, x_train2, y_train2, cv=5)\n",
    "# print(\"Cross-validation scores:\", cross_val_scores)\n",
    "# print(\"Average cross-validation score:\", np.mean(cross_val_scores))\n",
    "\n",
    "y_proba_test = model1.predict(x_test2).flatten()\n",
    "\n",
    "fpr, tpr, thresholds = roc_curve(y_test2, y_proba_test)\n",
    "\n",
    "plt.plot(fpr, tpr, label='ROC Curve')\n",
    "plt.xlabel('False Positive Rate')\n",
    "plt.ylabel('True Positive Rate')\n",
    "plt.title('ROC Curve with AUC = {:.2f}'.format(roc_auc_score(y_test2, y_proba_test)))\n",
    "plt.legend(loc='lower right')\n",
    "plt.grid(True)\n",
    "plt.show()"
   ]
  },
  {
   "cell_type": "markdown",
   "metadata": {},
   "source": [
    "## inny model"
   ]
  },
  {
   "cell_type": "code",
   "execution_count": 48,
   "metadata": {},
   "outputs": [],
   "source": [
    "model2 = Sequential()\n",
    "\n",
    "\n",
    "\n",
    "model2.add(Dense(16,  activation='relu'))\n",
    "model2.add(Dropout(0.2))\n",
    "\n",
    "model2.add(Dense(10, activation='relu'))\n",
    "model2.add(Dropout(0.2))\n",
    "\n",
    "model2.add(Dense(units=1,activation='sigmoid'))\n",
    "\n",
    "model2.compile(loss='binary_crossentropy', optimizer='adam')"
   ]
  },
  {
   "cell_type": "code",
   "execution_count": 49,
   "metadata": {},
   "outputs": [
    {
     "name": "stdout",
     "output_type": "stream",
     "text": [
      "Epoch 1/100\n",
      "13708/13708 [==============================] - 17s 1ms/step - loss: 0.4878 - val_loss: 0.4387\n",
      "Epoch 2/100\n",
      "13708/13708 [==============================] - 16s 1ms/step - loss: 0.4547 - val_loss: 0.4188\n",
      "Epoch 3/100\n",
      "13708/13708 [==============================] - 16s 1ms/step - loss: 0.4471 - val_loss: 0.4126\n",
      "Epoch 4/100\n",
      "13708/13708 [==============================] - 16s 1ms/step - loss: 0.4441 - val_loss: 0.4114\n",
      "Epoch 5/100\n",
      "13708/13708 [==============================] - 16s 1ms/step - loss: 0.4405 - val_loss: 0.4081\n",
      "Epoch 6/100\n",
      "13708/13708 [==============================] - 17s 1ms/step - loss: 0.4393 - val_loss: 0.4117\n",
      "Epoch 7/100\n",
      "13708/13708 [==============================] - 17s 1ms/step - loss: 0.4381 - val_loss: 0.4056\n",
      "Epoch 8/100\n",
      "13708/13708 [==============================] - 17s 1ms/step - loss: 0.4374 - val_loss: 0.4062\n",
      "Epoch 9/100\n",
      "13708/13708 [==============================] - 16s 1ms/step - loss: 0.4370 - val_loss: 0.4025\n",
      "Epoch 10/100\n",
      "13708/13708 [==============================] - 16s 1ms/step - loss: 0.4360 - val_loss: 0.4027\n",
      "Epoch 11/100\n",
      "13708/13708 [==============================] - 16s 1ms/step - loss: 0.4356 - val_loss: 0.4007\n",
      "Epoch 12/100\n",
      "13708/13708 [==============================] - 16s 1ms/step - loss: 0.4350 - val_loss: 0.4046\n",
      "Epoch 13/100\n",
      "13708/13708 [==============================] - 16s 1ms/step - loss: 0.4347 - val_loss: 0.4023\n",
      "Epoch 14/100\n",
      "13708/13708 [==============================] - 16s 1ms/step - loss: 0.4338 - val_loss: 0.4017\n",
      "Epoch 15/100\n",
      "13708/13708 [==============================] - 16s 1ms/step - loss: 0.4328 - val_loss: 0.3991\n",
      "Epoch 16/100\n",
      "13708/13708 [==============================] - 16s 1ms/step - loss: 0.4329 - val_loss: 0.3977\n",
      "Epoch 17/100\n",
      "13708/13708 [==============================] - 16s 1ms/step - loss: 0.4329 - val_loss: 0.4037\n",
      "Epoch 18/100\n",
      "13708/13708 [==============================] - 16s 1ms/step - loss: 0.4315 - val_loss: 0.3998\n",
      "Epoch 19/100\n",
      "13708/13708 [==============================] - 16s 1ms/step - loss: 0.4318 - val_loss: 0.4006\n",
      "Epoch 20/100\n",
      "13708/13708 [==============================] - 16s 1ms/step - loss: 0.4319 - val_loss: 0.4018\n",
      "Epoch 21/100\n",
      "13708/13708 [==============================] - 16s 1ms/step - loss: 0.4318 - val_loss: 0.4014\n",
      "Epoch 22/100\n",
      "13708/13708 [==============================] - 16s 1ms/step - loss: 0.4315 - val_loss: 0.4004\n",
      "Epoch 23/100\n",
      "13708/13708 [==============================] - 16s 1ms/step - loss: 0.4315 - val_loss: 0.4021\n",
      "Epoch 24/100\n",
      "13708/13708 [==============================] - 16s 1ms/step - loss: 0.4307 - val_loss: 0.3987\n",
      "Epoch 25/100\n",
      "13708/13708 [==============================] - 16s 1ms/step - loss: 0.4310 - val_loss: 0.3950\n",
      "Epoch 26/100\n",
      "13708/13708 [==============================] - 16s 1ms/step - loss: 0.4306 - val_loss: 0.3999\n",
      "Epoch 27/100\n",
      "13708/13708 [==============================] - 16s 1ms/step - loss: 0.4307 - val_loss: 0.4002\n",
      "Epoch 28/100\n",
      "13708/13708 [==============================] - 16s 1ms/step - loss: 0.4304 - val_loss: 0.4031\n",
      "Epoch 29/100\n",
      "13708/13708 [==============================] - 16s 1ms/step - loss: 0.4307 - val_loss: 0.3997\n",
      "Epoch 30/100\n",
      "13708/13708 [==============================] - 16s 1ms/step - loss: 0.4302 - val_loss: 0.3995\n",
      "Epoch 31/100\n",
      "13708/13708 [==============================] - 16s 1ms/step - loss: 0.4311 - val_loss: 0.4014\n",
      "Epoch 32/100\n",
      "13708/13708 [==============================] - 16s 1ms/step - loss: 0.4302 - val_loss: 0.4016\n",
      "Epoch 33/100\n",
      "13708/13708 [==============================] - 16s 1ms/step - loss: 0.4299 - val_loss: 0.3998\n",
      "Epoch 34/100\n",
      "13708/13708 [==============================] - 17s 1ms/step - loss: 0.4300 - val_loss: 0.3971\n",
      "Epoch 35/100\n",
      "13708/13708 [==============================] - 17s 1ms/step - loss: 0.4303 - val_loss: 0.3971\n",
      "Epoch 36/100\n",
      "13708/13708 [==============================] - 16s 1ms/step - loss: 0.4297 - val_loss: 0.3988\n",
      "Epoch 37/100\n",
      "13708/13708 [==============================] - 16s 1ms/step - loss: 0.4305 - val_loss: 0.3966\n",
      "Epoch 38/100\n",
      "13708/13708 [==============================] - 16s 1ms/step - loss: 0.4295 - val_loss: 0.3959\n",
      "Epoch 39/100\n",
      "13708/13708 [==============================] - 16s 1ms/step - loss: 0.4296 - val_loss: 0.3983\n",
      "Epoch 40/100\n",
      "13708/13708 [==============================] - 16s 1ms/step - loss: 0.4304 - val_loss: 0.3989\n",
      "Epoch 41/100\n",
      "13708/13708 [==============================] - 16s 1ms/step - loss: 0.4293 - val_loss: 0.3947\n",
      "Epoch 42/100\n",
      "13708/13708 [==============================] - 16s 1ms/step - loss: 0.4293 - val_loss: 0.3971\n",
      "Epoch 43/100\n",
      "13708/13708 [==============================] - 16s 1ms/step - loss: 0.4291 - val_loss: 0.3954\n",
      "Epoch 44/100\n",
      "13708/13708 [==============================] - 16s 1ms/step - loss: 0.4304 - val_loss: 0.3954\n",
      "Epoch 45/100\n",
      "13708/13708 [==============================] - 16s 1ms/step - loss: 0.4297 - val_loss: 0.3982\n",
      "Epoch 46/100\n",
      "13708/13708 [==============================] - 16s 1ms/step - loss: 0.4297 - val_loss: 0.3978\n",
      "Epoch 47/100\n",
      "13708/13708 [==============================] - 16s 1ms/step - loss: 0.4295 - val_loss: 0.3971\n",
      "Epoch 48/100\n",
      "13708/13708 [==============================] - 16s 1ms/step - loss: 0.4290 - val_loss: 0.3976\n",
      "Epoch 49/100\n",
      "13708/13708 [==============================] - 16s 1ms/step - loss: 0.4295 - val_loss: 0.3966\n",
      "Epoch 50/100\n",
      "13708/13708 [==============================] - 16s 1ms/step - loss: 0.4298 - val_loss: 0.4016\n",
      "Epoch 51/100\n",
      "13708/13708 [==============================] - 16s 1ms/step - loss: 0.4289 - val_loss: 0.3971\n",
      "Epoch 52/100\n",
      "13708/13708 [==============================] - 17s 1ms/step - loss: 0.4294 - val_loss: 0.3981\n",
      "Epoch 53/100\n",
      "13708/13708 [==============================] - 17s 1ms/step - loss: 0.4291 - val_loss: 0.3973\n",
      "Epoch 54/100\n",
      "13708/13708 [==============================] - 17s 1ms/step - loss: 0.4295 - val_loss: 0.3933\n",
      "Epoch 55/100\n",
      "13708/13708 [==============================] - 17s 1ms/step - loss: 0.4286 - val_loss: 0.3971\n",
      "Epoch 56/100\n",
      "13708/13708 [==============================] - 17s 1ms/step - loss: 0.4280 - val_loss: 0.3972\n",
      "Epoch 57/100\n",
      "13708/13708 [==============================] - 17s 1ms/step - loss: 0.4281 - val_loss: 0.3981\n",
      "Epoch 58/100\n",
      "13708/13708 [==============================] - 17s 1ms/step - loss: 0.4288 - val_loss: 0.3982\n",
      "Epoch 59/100\n",
      "13708/13708 [==============================] - 17s 1ms/step - loss: 0.4284 - val_loss: 0.3963\n",
      "Epoch 60/100\n",
      "13708/13708 [==============================] - 17s 1ms/step - loss: 0.4291 - val_loss: 0.3956\n",
      "Epoch 61/100\n",
      "13708/13708 [==============================] - 16s 1ms/step - loss: 0.4283 - val_loss: 0.3970\n",
      "Epoch 62/100\n",
      "13708/13708 [==============================] - 17s 1ms/step - loss: 0.4281 - val_loss: 0.3945\n",
      "Epoch 63/100\n",
      "13708/13708 [==============================] - 17s 1ms/step - loss: 0.4287 - val_loss: 0.3977\n",
      "Epoch 64/100\n",
      "13708/13708 [==============================] - 17s 1ms/step - loss: 0.4289 - val_loss: 0.3982\n",
      "Epoch 65/100\n",
      "13708/13708 [==============================] - 17s 1ms/step - loss: 0.4288 - val_loss: 0.3973\n",
      "Epoch 66/100\n",
      "13708/13708 [==============================] - 17s 1ms/step - loss: 0.4284 - val_loss: 0.3981\n",
      "Epoch 67/100\n",
      "13708/13708 [==============================] - 16s 1ms/step - loss: 0.4288 - val_loss: 0.4028\n",
      "Epoch 68/100\n",
      "13708/13708 [==============================] - 17s 1ms/step - loss: 0.4285 - val_loss: 0.3988\n",
      "Epoch 69/100\n",
      "13708/13708 [==============================] - 16s 1ms/step - loss: 0.4285 - val_loss: 0.3971\n",
      "Epoch 70/100\n",
      "13708/13708 [==============================] - 16s 1ms/step - loss: 0.4284 - val_loss: 0.3985\n",
      "Epoch 71/100\n",
      "13708/13708 [==============================] - 16s 1ms/step - loss: 0.4283 - val_loss: 0.3978\n",
      "Epoch 72/100\n",
      "13708/13708 [==============================] - 16s 1ms/step - loss: 0.4283 - val_loss: 0.3991\n",
      "Epoch 73/100\n",
      "13708/13708 [==============================] - 17s 1ms/step - loss: 0.4283 - val_loss: 0.3975\n",
      "Epoch 74/100\n",
      "13708/13708 [==============================] - 17s 1ms/step - loss: 0.4284 - val_loss: 0.3967\n",
      "Epoch 75/100\n",
      "13708/13708 [==============================] - 17s 1ms/step - loss: 0.4285 - val_loss: 0.3960\n",
      "Epoch 76/100\n",
      "13708/13708 [==============================] - 17s 1ms/step - loss: 0.4284 - val_loss: 0.3966\n",
      "Epoch 77/100\n",
      "13708/13708 [==============================] - 17s 1ms/step - loss: 0.4277 - val_loss: 0.3986\n",
      "Epoch 78/100\n",
      "13708/13708 [==============================] - 17s 1ms/step - loss: 0.4275 - val_loss: 0.3959\n",
      "Epoch 79/100\n",
      "13708/13708 [==============================] - 17s 1ms/step - loss: 0.4280 - val_loss: 0.3979\n",
      "Epoch 79: early stopping\n"
     ]
    },
    {
     "data": {
      "text/plain": [
       "<keras.src.callbacks.History at 0x298ce87a690>"
      ]
     },
     "execution_count": 49,
     "metadata": {},
     "output_type": "execute_result"
    }
   ],
   "source": [
    "model2.fit(x=x_train2, \n",
    "          y=y_train2, \n",
    "          epochs=100,\n",
    "          validation_data=(x_test2, y_test2), verbose=1,\n",
    "          callbacks=[early_stop]\n",
    "          )"
   ]
  },
  {
   "cell_type": "code",
   "execution_count": 50,
   "metadata": {},
   "outputs": [
    {
     "name": "stdout",
     "output_type": "stream",
     "text": [
      "13708/13708 [==============================] - 10s 762us/step\n",
      "4570/4570 [==============================] - 4s 789us/step\n",
      "              precision    recall  f1-score   support\n",
      "\n",
      "           0       0.85      0.77      0.81    219310\n",
      "           1       0.79      0.87      0.83    219323\n",
      "\n",
      "    accuracy                           0.82    438633\n",
      "   macro avg       0.82      0.82      0.82    438633\n",
      "weighted avg       0.82      0.82      0.82    438633\n",
      "\n",
      "              precision    recall  f1-score   support\n",
      "\n",
      "           0       0.85      0.77      0.81     73112\n",
      "           1       0.79      0.86      0.82     73099\n",
      "\n",
      "    accuracy                           0.82    146211\n",
      "   macro avg       0.82      0.82      0.82    146211\n",
      "weighted avg       0.82      0.82      0.82    146211\n",
      "\n"
     ]
    }
   ],
   "source": [
    "ypred_train11 = model2.predict(x_train2)\n",
    "y_pred_test11 = model2.predict(x_test2)\n",
    "\n",
    "y_pred_test11 = (y_pred_test11 > 0.5)\n",
    "ypred_train11 = (ypred_train11 > 0.5)\n",
    "\n",
    "print(classification_report(y_train2,ypred_train11))\n",
    "print(classification_report(y_test2,y_pred_test11))"
   ]
  },
  {
   "cell_type": "code",
   "execution_count": 51,
   "metadata": {},
   "outputs": [
    {
     "name": "stdout",
     "output_type": "stream",
     "text": [
      "4570/4570 [==============================] - 3s 760us/step\n"
     ]
    },
    {
     "data": {
      "image/png": "[encoded data removed]",
      "text/plain": [
       "<Figure size 640x480 with 1 Axes>"
      ]
     },
     "metadata": {},
     "output_type": "display_data"
    }
   ],
   "source": [
    "# cross_val_scores = cross_val_score(model2, x_train2, y_train2, cv=5)\n",
    "# print(\"Cross-validation scores:\", cross_val_scores)\n",
    "# print(\"Average cross-validation score:\", np.mean(cross_val_scores))\n",
    "\n",
    "y_proba_test = model2.predict(x_test2).flatten()\n",
    "\n",
    "fpr, tpr, thresholds = roc_curve(y_test2, y_proba_test)\n",
    "\n",
    "plt.plot(fpr, tpr, label='ROC Curve')\n",
    "plt.xlabel('False Positive Rate')\n",
    "plt.ylabel('True Positive Rate')\n",
    "plt.title('ROC Curve with AUC = {:.2f}'.format(roc_auc_score(y_test2, y_proba_test)))\n",
    "plt.legend(loc='lower right')\n",
    "plt.grid(True)\n",
    "plt.show()"
   ]
  },
  {
   "cell_type": "markdown",
   "metadata": {},
   "source": [
    "## SVC"
   ]
  },
  {
   "cell_type": "code",
   "execution_count": 52,
   "metadata": {},
   "outputs": [
    {
     "name": "stdout",
     "output_type": "stream",
     "text": [
      "Training Results\n",
      "\n",
      "              precision    recall  f1-score   support\n",
      "\n",
      "           0       0.84      0.86      0.85    219310\n",
      "           1       0.85      0.83      0.84    219323\n",
      "\n",
      "    accuracy                           0.84    438633\n",
      "   macro avg       0.85      0.84      0.84    438633\n",
      "weighted avg       0.85      0.84      0.84    438633\n",
      "\n",
      "Testing Results\n",
      "\n",
      "              precision    recall  f1-score   support\n",
      "\n",
      "           0       0.83      0.86      0.85     73112\n",
      "           1       0.85      0.83      0.84     73099\n",
      "\n",
      "    accuracy                           0.84    146211\n",
      "   macro avg       0.84      0.84      0.84    146211\n",
      "weighted avg       0.84      0.84      0.84    146211\n",
      "\n"
     ]
    },
    {
     "data": {
      "image/png": "[encoded data removed]",
      "text/plain": [
       "<Figure size 640x480 with 1 Axes>"
      ]
     },
     "metadata": {},
     "output_type": "display_data"
    }
   ],
   "source": [
    "model3 = SVC(C=0.1, gamma=1, kernel='rbf', probability=True)\n",
    "model3.fit(x_train2, y_train2)\n",
    "\n",
    "ypred_train14 = model3.predict(x_train2)\n",
    "y_pred_test14 = model3.predict(x_test2)\n",
    "\n",
    "print(\"Training Results\\n\")\n",
    "print(classification_report(y_train2, ypred_train14))\n",
    "print(\"Testing Results\\n\")\n",
    "print(classification_report(y_test2, y_pred_test14))\n",
    "\n",
    "# cross_val_scores = cross_val_score(model3, x_train2, y_train2, cv=5)\n",
    "# print(\"Cross-validation scores:\", cross_val_scores)\n",
    "# print(\"Average cross-validation score:\", np.mean(cross_val_scores))\n",
    "\n",
    "\n",
    "y_proba_test = model3.predict_proba(x_test2)[:, 1]\n",
    "fpr, tpr, thresholds = roc_curve(y_test2, y_proba_test)\n",
    "plt.plot(fpr, tpr, label='ROC Curve')\n",
    "plt.xlabel('False Positive Rate')\n",
    "plt.ylabel('True Positive Rate')\n",
    "plt.title('ROC Curve with AUC = {:.2f}'.format(roc_auc_score(y_test2, y_proba_test)))\n",
    "plt.legend(loc='lower right')\n",
    "plt.grid(True)\n",
    "plt.show()"
   ]
  },
  {
   "cell_type": "code",
   "execution_count": 53,
   "metadata": {},
   "outputs": [],
   "source": [
    "# model3 = SVC(probability=True)"
   ]
  },
  {
   "cell_type": "code",
   "execution_count": 54,
   "metadata": {},
   "outputs": [],
   "source": [
    "# model3.fit(x_train2,y_train2)"
   ]
  },
  {
   "cell_type": "code",
   "execution_count": 55,
   "metadata": {},
   "outputs": [],
   "source": [
    "# ypred_train12 = model3.predict(x_train2)\n",
    "# y_pred_test12 = model3.predict(x_test2)\n",
    "\n",
    "\n",
    "# print(classification_report(y_train2,ypred_train12))\n",
    "# print(classification_report(y_test2,y_pred_test12))"
   ]
  },
  {
   "cell_type": "code",
   "execution_count": 56,
   "metadata": {},
   "outputs": [],
   "source": [
    "# param_grid = {'C': [0.1,1, 10, 100, 1000], 'gamma': [1,0.1,0.01,0.001,0.0001], 'kernel': ['rbf']} "
   ]
  },
  {
   "cell_type": "code",
   "execution_count": 57,
   "metadata": {},
   "outputs": [],
   "source": [
    "# grid = GridSearchCV(SVC(),param_grid,refit=True,verbose=3)"
   ]
  },
  {
   "cell_type": "code",
   "execution_count": 58,
   "metadata": {},
   "outputs": [],
   "source": [
    "# grid.fit(x_train2,y_train2)"
   ]
  },
  {
   "cell_type": "code",
   "execution_count": 59,
   "metadata": {},
   "outputs": [],
   "source": [
    "# grid.best_params_"
   ]
  },
  {
   "cell_type": "code",
   "execution_count": 60,
   "metadata": {},
   "outputs": [],
   "source": [
    "# grid.best_estimator_"
   ]
  },
  {
   "cell_type": "code",
   "execution_count": 61,
   "metadata": {},
   "outputs": [],
   "source": [
    "# ypred_train = grid.predict(x_train2)\n",
    "# y_pred_test = grid.predict(x_test2)\n",
    "\n",
    "\n",
    "# print(classification_report(y_train2,ypred_train))\n",
    "# print(classification_report(y_test2,y_pred_test))"
   ]
  }
 ],
 "metadata": {
  "kernelspec": {
   "display_name": "Python 3",
   "language": "python",
   "name": "python3"
  },
  "language_info": {
   "codemirror_mode": {
    "name": "ipython",
    "version": 3
   },
   "file_extension": ".py",
   "mimetype": "text/x-python",
   "name": "python",
   "nbconvert_exporter": "python",
   "pygments_lexer": "ipython3",
   "version": "0.0.0"
  }
 },
 "nbformat": 4,
 "nbformat_minor": 2
}
