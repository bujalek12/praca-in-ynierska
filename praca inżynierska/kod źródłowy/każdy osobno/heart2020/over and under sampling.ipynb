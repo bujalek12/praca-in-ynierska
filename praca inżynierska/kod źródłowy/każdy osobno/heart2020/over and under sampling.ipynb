{
 "cells": [
  {
   "cell_type": "code",
   "execution_count": 1,
   "metadata": {},
   "outputs": [
    {
     "name": "stdout",
     "output_type": "stream",
     "text": [
      "WARNING:tensorflow:From C:\\Users\\DELL\\AppData\\Roaming\\Python\\Python311\\site-packages\\keras\\src\\losses.py:2976: The name tf.losses.sparse_softmax_cross_entropy is deprecated. Please use tf.compat.v1.losses.sparse_softmax_cross_entropy instead.\n",
      "\n"
     ]
    }
   ],
   "source": [
    "import pandas as pd\n",
    "import numpy as np\n",
    "import matplotlib.pyplot as plt\n",
    "import plotly.express as px\n",
    "from sklearn.preprocessing import LabelEncoder\n",
    "from sklearn.preprocessing import RobustScaler , MinMaxScaler, StandardScaler\n",
    "import seaborn as sns\n",
    "from sklearn.metrics import roc_curve\n",
    "from sklearn.metrics import roc_auc_score\n",
    "import tensorflow as tf\n",
    "from keras.preprocessing.image import ImageDataGenerator\n",
    "from tensorflow.keras.layers import Dropout\n",
    "from tensorflow.keras.models import Sequential\n",
    "from tensorflow.keras.layers import Dense, Activation\n",
    "from tensorflow.keras.callbacks import EarlyStopping\n",
    "from tensorflow.keras.layers import Input,Flatten,Conv1D,MaxPooling1D\n",
    "from sklearn.metrics import classification_report\n",
    "import warnings\n",
    "warnings.filterwarnings('ignore')\n",
    "import missingno as msno\n",
    "from sklearn.model_selection import train_test_split\n",
    "from sklearn.metrics import accuracy_score\n",
    "from sklearn.metrics import mean_absolute_error , mean_absolute_percentage_error , mean_squared_error\n",
    "from sklearn.metrics import r2_score\n",
    "from sklearn.metrics import confusion_matrix\n",
    "from sklearn.model_selection import cross_val_score\n",
    "from sklearn.metrics import RocCurveDisplay\n",
    "from sklearn.model_selection import RepeatedStratifiedKFold\n",
    "from sklearn.metrics import accuracy_score, precision_score, recall_score, f1_score\n",
    "from sklearn.model_selection import GridSearchCV\n",
    "from sklearn.tree import DecisionTreeClassifier\n",
    "from sklearn.ensemble import RandomForestClassifier\n",
    "from sklearn.naive_bayes import GaussianNB\n",
    "from xgboost import XGBClassifier\n",
    "from sklearn.linear_model import LogisticRegression\n",
    "from sklearn.svm import SVC\n",
    "from sklearn.decomposition import PCA\n",
    "from sklearn.ensemble import GradientBoostingClassifier\n",
    "from sklearn.neighbors import KNeighborsClassifier\n",
    "from keras.layers import LSTM\n",
    "from imblearn.combine import SMOTEENN\n",
    "from sklearn.preprocessing import MinMaxScaler\n"
   ]
  },
  {
   "cell_type": "markdown",
   "metadata": {},
   "source": [
    "## Combination of over- and under-sampling With Evaluation"
   ]
  },
  {
   "cell_type": "code",
   "execution_count": 2,
   "metadata": {},
   "outputs": [
    {
     "data": {
      "text/html": [
       "<div>\n",
       "<style scoped>\n",
       "    .dataframe tbody tr th:only-of-type {\n",
       "        vertical-align: middle;\n",
       "    }\n",
       "\n",
       "    .dataframe tbody tr th {\n",
       "        vertical-align: top;\n",
       "    }\n",
       "\n",
       "    .dataframe thead th {\n",
       "        text-align: right;\n",
       "    }\n",
       "</style>\n",
       "<table border=\"1\" class=\"dataframe\">\n",
       "  <thead>\n",
       "    <tr style=\"text-align: right;\">\n",
       "      <th></th>\n",
       "      <th>HeartDisease</th>\n",
       "      <th>BMI</th>\n",
       "      <th>Smoking</th>\n",
       "      <th>AlcoholDrinking</th>\n",
       "      <th>Stroke</th>\n",
       "      <th>PhysicalHealth</th>\n",
       "      <th>MentalHealth</th>\n",
       "      <th>DiffWalking</th>\n",
       "      <th>Sex</th>\n",
       "      <th>AgeCategory</th>\n",
       "      <th>Race</th>\n",
       "      <th>Diabetic</th>\n",
       "      <th>PhysicalActivity</th>\n",
       "      <th>GenHealth</th>\n",
       "      <th>SleepTime</th>\n",
       "      <th>Asthma</th>\n",
       "      <th>KidneyDisease</th>\n",
       "      <th>SkinCancer</th>\n",
       "    </tr>\n",
       "  </thead>\n",
       "  <tbody>\n",
       "    <tr>\n",
       "      <th>0</th>\n",
       "      <td>0</td>\n",
       "      <td>16.60</td>\n",
       "      <td>1</td>\n",
       "      <td>0</td>\n",
       "      <td>0</td>\n",
       "      <td>3</td>\n",
       "      <td>30</td>\n",
       "      <td>0</td>\n",
       "      <td>0</td>\n",
       "      <td>8</td>\n",
       "      <td>4</td>\n",
       "      <td>2</td>\n",
       "      <td>1</td>\n",
       "      <td>2</td>\n",
       "      <td>5</td>\n",
       "      <td>1</td>\n",
       "      <td>0</td>\n",
       "      <td>1</td>\n",
       "    </tr>\n",
       "    <tr>\n",
       "      <th>1</th>\n",
       "      <td>0</td>\n",
       "      <td>20.34</td>\n",
       "      <td>0</td>\n",
       "      <td>0</td>\n",
       "      <td>1</td>\n",
       "      <td>0</td>\n",
       "      <td>0</td>\n",
       "      <td>0</td>\n",
       "      <td>0</td>\n",
       "      <td>13</td>\n",
       "      <td>4</td>\n",
       "      <td>0</td>\n",
       "      <td>1</td>\n",
       "      <td>2</td>\n",
       "      <td>7</td>\n",
       "      <td>0</td>\n",
       "      <td>0</td>\n",
       "      <td>0</td>\n",
       "    </tr>\n",
       "    <tr>\n",
       "      <th>2</th>\n",
       "      <td>0</td>\n",
       "      <td>26.58</td>\n",
       "      <td>1</td>\n",
       "      <td>0</td>\n",
       "      <td>0</td>\n",
       "      <td>20</td>\n",
       "      <td>30</td>\n",
       "      <td>0</td>\n",
       "      <td>1</td>\n",
       "      <td>10</td>\n",
       "      <td>4</td>\n",
       "      <td>2</td>\n",
       "      <td>1</td>\n",
       "      <td>4</td>\n",
       "      <td>8</td>\n",
       "      <td>1</td>\n",
       "      <td>0</td>\n",
       "      <td>0</td>\n",
       "    </tr>\n",
       "    <tr>\n",
       "      <th>3</th>\n",
       "      <td>0</td>\n",
       "      <td>24.21</td>\n",
       "      <td>0</td>\n",
       "      <td>0</td>\n",
       "      <td>0</td>\n",
       "      <td>0</td>\n",
       "      <td>0</td>\n",
       "      <td>0</td>\n",
       "      <td>0</td>\n",
       "      <td>12</td>\n",
       "      <td>4</td>\n",
       "      <td>0</td>\n",
       "      <td>0</td>\n",
       "      <td>3</td>\n",
       "      <td>6</td>\n",
       "      <td>0</td>\n",
       "      <td>0</td>\n",
       "      <td>1</td>\n",
       "    </tr>\n",
       "    <tr>\n",
       "      <th>4</th>\n",
       "      <td>0</td>\n",
       "      <td>23.71</td>\n",
       "      <td>0</td>\n",
       "      <td>0</td>\n",
       "      <td>0</td>\n",
       "      <td>28</td>\n",
       "      <td>0</td>\n",
       "      <td>1</td>\n",
       "      <td>0</td>\n",
       "      <td>5</td>\n",
       "      <td>4</td>\n",
       "      <td>0</td>\n",
       "      <td>1</td>\n",
       "      <td>2</td>\n",
       "      <td>8</td>\n",
       "      <td>0</td>\n",
       "      <td>0</td>\n",
       "      <td>0</td>\n",
       "    </tr>\n",
       "  </tbody>\n",
       "</table>\n",
       "</div>"
      ],
      "text/plain": [
       "   HeartDisease    BMI  Smoking  AlcoholDrinking  Stroke  PhysicalHealth  \\\n",
       "0             0  16.60        1                0       0               3   \n",
       "1             0  20.34        0                0       1               0   \n",
       "2             0  26.58        1                0       0              20   \n",
       "3             0  24.21        0                0       0               0   \n",
       "4             0  23.71        0                0       0              28   \n",
       "\n",
       "   MentalHealth  DiffWalking  Sex  AgeCategory  Race  Diabetic  \\\n",
       "0            30            0    0            8     4         2   \n",
       "1             0            0    0           13     4         0   \n",
       "2            30            0    1           10     4         2   \n",
       "3             0            0    0           12     4         0   \n",
       "4             0            1    0            5     4         0   \n",
       "\n",
       "   PhysicalActivity  GenHealth  SleepTime  Asthma  KidneyDisease  SkinCancer  \n",
       "0                 1          2          5       1              0           1  \n",
       "1                 1          2          7       0              0           0  \n",
       "2                 1          4          8       1              0           0  \n",
       "3                 0          3          6       0              0           1  \n",
       "4                 1          2          8       0              0           0  "
      ]
     },
     "execution_count": 2,
     "metadata": {},
     "output_type": "execute_result"
    }
   ],
   "source": [
    "df= pd.read_csv('heart2020python.csv')\n",
    "df.head()"
   ]
  },
  {
   "cell_type": "code",
   "execution_count": 3,
   "metadata": {},
   "outputs": [
    {
     "data": {
      "text/plain": [
       "HeartDisease\n",
       "0    292422\n",
       "1     27373\n",
       "Name: count, dtype: int64"
      ]
     },
     "execution_count": 3,
     "metadata": {},
     "output_type": "execute_result"
    }
   ],
   "source": [
    "df.drop(['DiffWalking',\"SleepTime\"],axis=1,inplace=True)\n",
    "df.shape\n",
    "df['HeartDisease'].value_counts()\n"
   ]
  },
  {
   "cell_type": "code",
   "execution_count": 4,
   "metadata": {},
   "outputs": [],
   "source": [
    "df.duplicated().sum()\n",
    "df.drop_duplicates(inplace=True)"
   ]
  },
  {
   "cell_type": "code",
   "execution_count": 5,
   "metadata": {},
   "outputs": [
    {
     "data": {
      "text/plain": [
       "HeartDisease\n",
       "0    252861\n",
       "1     26938\n",
       "Name: count, dtype: int64"
      ]
     },
     "execution_count": 5,
     "metadata": {},
     "output_type": "execute_result"
    }
   ],
   "source": [
    "df['HeartDisease'].value_counts()"
   ]
  },
  {
   "cell_type": "markdown",
   "metadata": {},
   "source": [
    "## splite data"
   ]
  },
  {
   "cell_type": "code",
   "execution_count": 6,
   "metadata": {},
   "outputs": [],
   "source": [
    "x = df.drop([\"HeartDisease\"] , axis = 1).values\n",
    "y = df[\"HeartDisease\"].values"
   ]
  },
  {
   "cell_type": "code",
   "execution_count": 7,
   "metadata": {},
   "outputs": [],
   "source": [
    "smote_enn = SMOTEENN(random_state=42)\n",
    "x_ST, y_ST = smote_enn.fit_resample(x, y)\n",
    "x_train7, x_test7, y_train7, y_test7 = train_test_split(x_ST, y_ST, test_size=0.25, random_state=42)"
   ]
  },
  {
   "cell_type": "code",
   "execution_count": 8,
   "metadata": {},
   "outputs": [],
   "source": [
    "from sklearn.preprocessing import MinMaxScaler\n",
    "scaler = MinMaxScaler()\n",
    "x_train7 = scaler.fit_transform(x_train7)\n",
    "x_test7 = scaler.transform(x_test7)"
   ]
  },
  {
   "cell_type": "markdown",
   "metadata": {},
   "source": [
    "## Random Forest"
   ]
  },
  {
   "cell_type": "code",
   "execution_count": 9,
   "metadata": {},
   "outputs": [
    {
     "name": "stdout",
     "output_type": "stream",
     "text": [
      "Training Results\n",
      "\n",
      "              precision    recall  f1-score   support\n",
      "\n",
      "           0       0.99      1.00      0.99    133334\n",
      "           1       1.00      0.99      0.99    161543\n",
      "\n",
      "    accuracy                           0.99    294877\n",
      "   macro avg       0.99      0.99      0.99    294877\n",
      "weighted avg       0.99      0.99      0.99    294877\n",
      "\n",
      "Test Results\n",
      "\n",
      "              precision    recall  f1-score   support\n",
      "\n",
      "           0       0.96      0.97      0.96     44549\n",
      "           1       0.97      0.96      0.97     53744\n",
      "\n",
      "    accuracy                           0.97     98293\n",
      "   macro avg       0.97      0.97      0.97     98293\n",
      "weighted avg       0.97      0.97      0.97     98293\n",
      "\n",
      "Confusion Matrix:\n",
      " [[43122  1427]\n",
      " [ 1920 51824]]\n",
      "Cross-validation scores: [0.96468055 0.96507054 0.96439169 0.96484951 0.96423908]\n",
      "Average cross-validation score: 0.9646462746889861\n"
     ]
    }
   ],
   "source": [
    "\n",
    "\n",
    "# rf = RandomForestClassifier()\n",
    "\n",
    "# param_grid = {\n",
    "#     'n_estimators': [100, 200, 300],  # Liczba drzew\n",
    "#     'max_depth': [10, 20, 30],        # Maksymalna głębokość drzewa\n",
    "#     'min_samples_split': [2, 4, 6],   # Minimalna liczba próbek wymagana do podziału węzła\n",
    "#     'min_samples_leaf': [1, 2, 4],    # Minimalna liczba próbek wymagana w liściu\n",
    "#     'max_features': ['auto', 'sqrt']  # Liczba cech do rozważenia przy każdym podziale\n",
    "# }\n",
    "\n",
    "# cv_rf = GridSearchCV(estimator=rf, param_grid=param_grid, cv=5, scoring='accuracy')\n",
    "\n",
    "# # Przeszukiwanie siatki parametrów\n",
    "# cv_rf.fit(x_train7, y_train7)\n",
    "\n",
    "# # Najlepszy zestaw parametrów\n",
    "# print(\"Najlepsze parametry: \", cv_rf.best_params_)\n",
    "\n",
    "# # Najlepszy estimator\n",
    "# best_rf = cv_rf.best_estimator_\n",
    "\n",
    "params = {\n",
    "    'n_estimators': 200,  # Liczba drzew\n",
    "    'max_depth': 30,        # Maksymalna głębokość drzewa\n",
    "    'min_samples_split': 4,   # Minimalna liczba próbek wymagana do podziału węzła\n",
    "    'min_samples_leaf': 1,    # Minimalna liczba próbek wymagana w liściu\n",
    "    'max_features':'sqrt' # Liczba cech do rozważenia przy każdym podziale\n",
    "}\n",
    "\n",
    "rf_clf = RandomForestClassifier(\n",
    "    n_estimators=params['n_estimators'],\n",
    "    max_depth=params['max_depth'],\n",
    "    min_samples_split=params['min_samples_split'],\n",
    "    min_samples_leaf=params['min_samples_leaf'],\n",
    "    max_features=params['max_features'])\n",
    "rf_clf.fit(x_train7, y_train7)\n",
    "\n",
    "# Predykcje i ocena modelu\n",
    "ypred_train = rf_clf.predict(x_train7)\n",
    "ypred_test = rf_clf.predict(x_test7)\n",
    "\n",
    "print(\"Training Results\\n\")\n",
    "print(classification_report(y_train7, ypred_train))\n",
    "print(\"Test Results\\n\")\n",
    "print(classification_report(y_test7, ypred_test))\n",
    "\n",
    "# Macierz pomyłek\n",
    "conf_matrix = confusion_matrix(y_test7, ypred_test)\n",
    "print(\"Confusion Matrix:\\n\", conf_matrix)\n",
    "\n",
    "# Ocena modelu za pomocą walidacji krzyżowej\n",
    "cross_val_scores = cross_val_score(rf_clf, x_train7, y_train7, cv=5)\n",
    "print(\"Cross-validation scores:\", cross_val_scores)\n",
    "print(\"Average cross-validation score:\", np.mean(cross_val_scores))"
   ]
  },
  {
   "cell_type": "code",
   "execution_count": 10,
   "metadata": {},
   "outputs": [
    {
     "data": {
      "image/png": "[encoded data removed]",
      "text/plain": [
       "<Figure size 640x480 with 1 Axes>"
      ]
     },
     "metadata": {},
     "output_type": "display_data"
    }
   ],
   "source": [
    "\n",
    "\n",
    "y_proba_test = rf_clf.predict_proba(x_test7)[:, 1]\n",
    "\n",
    "fpr, tpr, thresholds = roc_curve(y_test7, y_proba_test)\n",
    "\n",
    "plt.plot(fpr, tpr, label='ROC Curve')\n",
    "plt.xlabel('False Positive Rate')\n",
    "plt.ylabel('True Positive Rate')\n",
    "plt.title('ROC Curve with AUC = {:.2f}'.format(roc_auc_score(y_test7, y_proba_test)))\n",
    "plt.legend(loc='lower right')\n",
    "plt.grid(True)\n",
    "plt.show()"
   ]
  },
  {
   "cell_type": "markdown",
   "metadata": {},
   "source": [
    "## DECISION TREE CLASSIFIER"
   ]
  },
  {
   "cell_type": "code",
   "execution_count": 11,
   "metadata": {},
   "outputs": [
    {
     "name": "stdout",
     "output_type": "stream",
     "text": [
      "Training Results\n",
      "\n",
      "              precision    recall  f1-score   support\n",
      "\n",
      "           0       0.97      0.99      0.98    133334\n",
      "           1       0.99      0.97      0.98    161543\n",
      "\n",
      "    accuracy                           0.98    294877\n",
      "   macro avg       0.98      0.98      0.98    294877\n",
      "weighted avg       0.98      0.98      0.98    294877\n",
      "\n",
      "Testing Results\n",
      "\n",
      "              precision    recall  f1-score   support\n",
      "\n",
      "           0       0.93      0.95      0.94     44549\n",
      "           1       0.96      0.94      0.95     53744\n",
      "\n",
      "    accuracy                           0.95     98293\n",
      "   macro avg       0.95      0.95      0.95     98293\n",
      "weighted avg       0.95      0.95      0.95     98293\n",
      "\n",
      "Cross-Validation Scores for the Best Model: [0.94377374 0.94424851 0.94397626 0.94480712 0.94428148]\n",
      "Average Cross-Validation Score: 0.9442174208656334\n"
     ]
    }
   ],
   "source": [
    "\n",
    "# param_grid = {\n",
    "#     'max_depth': [3, 5, 10, None],\n",
    "#     'min_samples_split': [2, 5, 10],\n",
    "#     'min_samples_leaf': [1, 2, 5],\n",
    "#     'criterion': ['gini', 'entropy']\n",
    "# }\n",
    "\n",
    "# # Utworzenie modelu drzewa decyzyjnego\n",
    "# tree = DecisionTreeClassifier()\n",
    "\n",
    "# # Uruchomienie Grid Search z walidacją krzyżową\n",
    "# grid_search = GridSearchCV(tree, param_grid, cv=5, scoring='accuracy')\n",
    "# grid_search.fit(x_train7, y_train7)\n",
    "\n",
    "# # Wyświetlenie najlepszych parametrów i wyników\n",
    "# print(\"Najlepsze parametry:\", grid_search.best_params_)\n",
    "# print(\"Najlepsza dokładność:\", grid_search.best_score_)\n",
    "\n",
    "# # Utworzenie i ocena modelu z najlepszymi parametrami\n",
    "# best_tree = grid_search.best_estimator_\n",
    "# best_tree.fit(x_train7, y_train7)\n",
    "\n",
    "params = {\n",
    "    'max_depth': None,\n",
    "    'min_samples_split': 10,\n",
    "    'min_samples_leaf': 2,\n",
    "    'criterion': 'entropy'\n",
    "}\n",
    "\n",
    "best_tree = DecisionTreeClassifier(\n",
    "    max_depth=params['max_depth'],\n",
    "    min_samples_split=params['min_samples_split'],\n",
    "    min_samples_leaf=params['min_samples_leaf'],\n",
    "    criterion=params['criterion'])\n",
    "best_tree.fit(x_train7, y_train7)\n",
    "\n",
    "\n",
    "ypred_train2 = best_tree.predict(x_train7)\n",
    "ypred_test2 = best_tree.predict(x_test7)\n",
    "\n",
    "# Ocena modelu na zbiorze testowym\n",
    "\n",
    "print(\"Training Results\\n\")\n",
    "print(classification_report(y_train7, ypred_train2))\n",
    "print('Testing Results\\n')\n",
    "print(classification_report(y_test7, ypred_test2))\n",
    "\n",
    "# Dodatkowo: Walidacja krzyżowa dla najlepszego modelu na całym zbiorze danych\n",
    "cross_val_scores = cross_val_score(best_tree, x_train7, y_train7, cv=5)\n",
    "print(\"Cross-Validation Scores for the Best Model:\", cross_val_scores)\n",
    "print(\"Average Cross-Validation Score:\", cross_val_scores.mean())"
   ]
  },
  {
   "cell_type": "code",
   "execution_count": 12,
   "metadata": {},
   "outputs": [
    {
     "data": {
      "image/png": "[encoded data removed]",
      "text/plain": [
       "<Figure size 640x480 with 1 Axes>"
      ]
     },
     "metadata": {},
     "output_type": "display_data"
    }
   ],
   "source": [
    "\n",
    "y_proba_test = best_tree.predict_proba(x_test7)[:, 1]\n",
    "\n",
    "fpr, tpr, thresholds = roc_curve(y_test7, y_proba_test)\n",
    "\n",
    "plt.plot(fpr, tpr, label='ROC Curve')\n",
    "plt.xlabel('False Positive Rate')\n",
    "plt.ylabel('True Positive Rate')\n",
    "plt.title('ROC Curve with AUC = {:.2f}'.format(roc_auc_score(y_test7, y_proba_test)))\n",
    "plt.legend(loc='lower right')\n",
    "plt.grid(True)\n",
    "plt.show()"
   ]
  },
  {
   "cell_type": "markdown",
   "metadata": {},
   "source": [
    "## Naive Bayes"
   ]
  },
  {
   "cell_type": "code",
   "execution_count": 13,
   "metadata": {},
   "outputs": [
    {
     "name": "stdout",
     "output_type": "stream",
     "text": [
      "Naive Bayes Classifier Accuracy:  0.773513881965145\n"
     ]
    }
   ],
   "source": [
    "Gnb = GaussianNB()\n",
    "Gnb.fit(x_train7, y_train7)\n",
    "ypred_train3 = Gnb.predict(x_train7)\n",
    "y_pred_test3 = Gnb.predict(x_test7)\n",
    "\n",
    "print(\"Naive Bayes Classifier Accuracy: \",accuracy_score(y_test7, y_pred_test3))"
   ]
  },
  {
   "cell_type": "code",
   "execution_count": 14,
   "metadata": {},
   "outputs": [
    {
     "name": "stdout",
     "output_type": "stream",
     "text": [
      "Training Results\n",
      "\n",
      "              precision    recall  f1-score   support\n",
      "\n",
      "           0       0.71      0.85      0.78    133334\n",
      "           1       0.85      0.72      0.78    161543\n",
      "\n",
      "    accuracy                           0.78    294877\n",
      "   macro avg       0.78      0.79      0.78    294877\n",
      "weighted avg       0.79      0.78      0.78    294877\n",
      "\n"
     ]
    }
   ],
   "source": [
    "print(\"Training Results\\n\")\n",
    "print(classification_report(y_train7, ypred_train3))"
   ]
  },
  {
   "cell_type": "code",
   "execution_count": 15,
   "metadata": {},
   "outputs": [
    {
     "name": "stdout",
     "output_type": "stream",
     "text": [
      "Testing Results\n",
      "\n",
      "              precision    recall  f1-score   support\n",
      "\n",
      "           0       0.71      0.85      0.77     44549\n",
      "           1       0.85      0.71      0.77     53744\n",
      "\n",
      "    accuracy                           0.77     98293\n",
      "   macro avg       0.78      0.78      0.77     98293\n",
      "weighted avg       0.79      0.77      0.77     98293\n",
      "\n"
     ]
    }
   ],
   "source": [
    "print('Testing Results\\n')\n",
    "print(classification_report(y_test7, y_pred_test3))"
   ]
  },
  {
   "cell_type": "code",
   "execution_count": 16,
   "metadata": {},
   "outputs": [
    {
     "name": "stdout",
     "output_type": "stream",
     "text": [
      "Cross-Validation Scores for the Best Model: [0.77953744 0.78189433 0.77437897 0.7787198  0.77799067]\n",
      "Average Cross-Validation Score: 0.7785042427070152\n"
     ]
    },
    {
     "data": {
      "image/png": "[encoded data removed]",
      "text/plain": [
       "<Figure size 640x480 with 1 Axes>"
      ]
     },
     "metadata": {},
     "output_type": "display_data"
    }
   ],
   "source": [
    "cross_val_scores = cross_val_score(Gnb, x_train7, y_train7, cv=5)\n",
    "print(\"Cross-Validation Scores for the Best Model:\", cross_val_scores)\n",
    "print(\"Average Cross-Validation Score:\", cross_val_scores.mean())\n",
    "\n",
    "y_proba_test = Gnb.predict_proba(x_test7)[:, 1]\n",
    "\n",
    "fpr, tpr, thresholds = roc_curve(y_test7, y_proba_test)\n",
    "\n",
    "plt.plot(fpr, tpr, label='ROC Curve')\n",
    "plt.xlabel('False Positive Rate')\n",
    "plt.ylabel('True Positive Rate')\n",
    "plt.title('ROC Curve with AUC = {:.2f}'.format(roc_auc_score(y_test7, y_proba_test)))\n",
    "plt.legend(loc='lower right')\n",
    "plt.grid(True)\n",
    "plt.show()"
   ]
  },
  {
   "cell_type": "markdown",
   "metadata": {},
   "source": [
    "## XGBOSST"
   ]
  },
  {
   "cell_type": "code",
   "execution_count": 17,
   "metadata": {},
   "outputs": [
    {
     "name": "stdout",
     "output_type": "stream",
     "text": [
      "Accuracy on Training set:  0.9588913343529675\n",
      "Accuracy on Test set:  0.9511257159716359\n",
      "\n",
      "Training Results\n",
      "\n",
      "              precision    recall  f1-score   support\n",
      "\n",
      "           0       0.94      0.97      0.96    133334\n",
      "           1       0.97      0.95      0.96    161543\n",
      "\n",
      "    accuracy                           0.96    294877\n",
      "   macro avg       0.96      0.96      0.96    294877\n",
      "weighted avg       0.96      0.96      0.96    294877\n",
      "\n",
      "Testing Results\n",
      "\n",
      "              precision    recall  f1-score   support\n",
      "\n",
      "           0       0.94      0.96      0.95     44549\n",
      "           1       0.97      0.94      0.95     53744\n",
      "\n",
      "    accuracy                           0.95     98293\n",
      "   macro avg       0.95      0.95      0.95     98293\n",
      "weighted avg       0.95      0.95      0.95     98293\n",
      "\n",
      "Cross-Validation Scores for the Best Model: [0.95047138 0.95092919 0.95147096 0.95048749 0.95203052]\n",
      "Average Cross-Validation Score: 0.9510779096207893\n"
     ]
    },
    {
     "data": {
      "image/png": "[encoded data removed]",
      "text/plain": [
       "<Figure size 640x480 with 1 Axes>"
      ]
     },
     "metadata": {},
     "output_type": "display_data"
    }
   ],
   "source": [
    "\n",
    "# xg = XGBClassifier()\n",
    "\n",
    "# # Definiowanie siatki hiperparametrów do przetestowania\n",
    "# param_grid = {\n",
    "#     'n_estimators': [50, 100, 200],\n",
    "#     'max_depth': [3, 5, 7],\n",
    "#     'learning_rate': [0.01, 0.1, 0.2],\n",
    "#     'subsample': [0.7, 0.8, 0.9],\n",
    "#     'colsample_bytree': [0.7, 0.8, 0.9]\n",
    "# }\n",
    "\n",
    "# # Utworzenie obiektu GridSearchCV\n",
    "# grid_search = GridSearchCV(estimator=xg, param_grid=param_grid, cv=3, scoring='accuracy')\n",
    "\n",
    "# # Przeszukiwanie siatki parametrów\n",
    "# grid_search.fit(x_train7, y_train7)\n",
    "\n",
    "# # Najlepsze parametry i najlepszy model\n",
    "# print(\"Najlepsze parametry: \", grid_search.best_params_)\n",
    "# best_xg = grid_search.best_estimator_\n",
    "\n",
    "params = {\n",
    "    'n_estimators': 200,\n",
    "    'max_depth': 7,\n",
    "    'learning_rate': 0.2,\n",
    "    'subsample': 0.9,\n",
    "    'colsample_bytree': 0.7\n",
    "}\n",
    "\n",
    "best_xg = XGBClassifier(\n",
    "    n_estimators=params['n_estimators'],\n",
    "    max_depth=params['max_depth'],\n",
    "    learning_rate=params['learning_rate'],\n",
    "    subsample=params['subsample'],\n",
    "    colsample_bytree=params['colsample_bytree'])\n",
    "best_xg.fit(x_train7, y_train7)\n",
    "\n",
    "# Predykcje na zbiorze treningowym i testowym\n",
    "ypred_train4 = best_xg.predict(x_train7)\n",
    "y_pred_test4 = best_xg.predict(x_test7)\n",
    "\n",
    "# Ocena modelu\n",
    "print(\"Accuracy on Training set: \", accuracy_score(y_train7, ypred_train4))\n",
    "print(\"Accuracy on Test set: \", accuracy_score(y_test7, y_pred_test4))\n",
    "print(\"\\nTraining Results\\n\")\n",
    "print(classification_report(y_train7, ypred_train4))\n",
    "print('Testing Results\\n')\n",
    "print(classification_report(y_test7, y_pred_test4))\n",
    "\n",
    "cross_val_scores = cross_val_score(best_xg, x_train7, y_train7, cv=5)\n",
    "print(\"Cross-Validation Scores for the Best Model:\", cross_val_scores)\n",
    "print(\"Average Cross-Validation Score:\", cross_val_scores.mean())\n",
    "\n",
    "\n",
    "# Krzywa ROC\n",
    "y_proba_test4 = best_xg.predict_proba(x_test7)[:, 1]\n",
    "fpr, tpr, thresholds = roc_curve(y_test7, y_proba_test4)\n",
    "plt.plot(fpr, tpr)\n",
    "plt.title(\"ROC Curve with AUC = {:.2f}\".format(roc_auc_score(y_test7, y_proba_test4)))\n",
    "plt.show()"
   ]
  },
  {
   "cell_type": "markdown",
   "metadata": {},
   "source": [
    "## logistic regression"
   ]
  },
  {
   "cell_type": "code",
   "execution_count": 18,
   "metadata": {},
   "outputs": [
    {
     "name": "stdout",
     "output_type": "stream",
     "text": [
      "Accuracy on Training set:  0.849632219535603\n",
      "Accuracy on Test set:  0.8476188538349628\n",
      "\n",
      "Training Results\n",
      "\n",
      "              precision    recall  f1-score   support\n",
      "\n",
      "           0       0.85      0.81      0.83    133334\n",
      "           1       0.85      0.88      0.86    161543\n",
      "\n",
      "    accuracy                           0.85    294877\n",
      "   macro avg       0.85      0.85      0.85    294877\n",
      "weighted avg       0.85      0.85      0.85    294877\n",
      "\n",
      "Testing Results\n",
      "\n",
      "              precision    recall  f1-score   support\n",
      "\n",
      "           0       0.85      0.81      0.83     44549\n",
      "           1       0.85      0.88      0.86     53744\n",
      "\n",
      "    accuracy                           0.85     98293\n",
      "   macro avg       0.85      0.84      0.85     98293\n",
      "weighted avg       0.85      0.85      0.85     98293\n",
      "\n",
      "Cross-Validation Scores for the Best Model: [0.85014243 0.85180412 0.8469521  0.84796948 0.84956337]\n",
      "Average Cross-Validation Score: 0.8492863011562374\n"
     ]
    },
    {
     "data": {
      "image/png": "[encoded data removed]",
      "text/plain": [
       "<Figure size 640x480 with 1 Axes>"
      ]
     },
     "metadata": {},
     "output_type": "display_data"
    }
   ],
   "source": [
    "\n",
    "# # Inicjalizacja modelu regresji logistycznej\n",
    "# lg = LogisticRegression()\n",
    "\n",
    "# # Definiowanie siatki hiperparametrów do przetestowania\n",
    "# param_grid = {\n",
    "#     'C': [0.01, 0.1, 1, 10, 100],  # Parametr regularyzacji\n",
    "#     'penalty': ['l1', 'l2'],       # Typ regularyzacji\n",
    "#     'solver': ['liblinear']        # Algorytm optymalizacji (liblinear jest dobrym wyborem dla małych zbiorów danych)\n",
    "# }\n",
    "\n",
    "# # Utworzenie obiektu GridSearchCV\n",
    "# grid_search = GridSearchCV(estimator=lg, param_grid=param_grid, cv=5, scoring='accuracy')\n",
    "\n",
    "# # Przeszukiwanie siatki parametrów\n",
    "# grid_search.fit(x_train7, y_train7)\n",
    "\n",
    "# # Najlepsze parametry i najlepszy model\n",
    "# print(\"Najlepsze parametry: \", grid_search.best_params_)\n",
    "# best_lg = grid_search.best_estimator_\n",
    "\n",
    "params = {\n",
    "    'C': 0.01,\n",
    "    'penalty': 'l1',\n",
    "    'solver': 'liblinear'\n",
    "}\n",
    "\n",
    "best_lg = LogisticRegression(\n",
    "    C=params['C'],\n",
    "    penalty=params['penalty'],\n",
    "    solver=params['solver'])\n",
    "best_lg.fit(x_train7, y_train7)\n",
    "\n",
    "# Predykcje na zbiorze treningowym i testowym\n",
    "ypred_train4 = best_lg.predict(x_train7)\n",
    "y_pred_test4 = best_lg.predict(x_test7)\n",
    "\n",
    "# Ocena modelu\n",
    "print(\"Accuracy on Training set: \", accuracy_score(y_train7, ypred_train4))\n",
    "print(\"Accuracy on Test set: \", accuracy_score(y_test7, y_pred_test4))\n",
    "print(\"\\nTraining Results\\n\")\n",
    "print(classification_report(y_train7, ypred_train4))\n",
    "print('Testing Results\\n')\n",
    "print(classification_report(y_test7, y_pred_test4))\n",
    "\n",
    "cross_val_scores = cross_val_score(best_lg, x_train7, y_train7, cv=5)\n",
    "print(\"Cross-Validation Scores for the Best Model:\", cross_val_scores)\n",
    "print(\"Average Cross-Validation Score:\", cross_val_scores.mean())\n",
    "\n",
    "\n",
    "# Krzywa ROC\n",
    "y_proba_test4 = best_lg.predict_proba(x_test7)[:, 1]\n",
    "fpr, tpr, thresholds = roc_curve(y_test7, y_proba_test4)\n",
    "plt.plot(fpr, tpr)\n",
    "plt.title(\"ROC Curve with AUC = {:.2f}\".format(roc_auc_score(y_test7, y_proba_test4)))\n",
    "plt.show()"
   ]
  },
  {
   "cell_type": "markdown",
   "metadata": {},
   "source": [
    "## GradientBoostingClassifier\n"
   ]
  },
  {
   "cell_type": "code",
   "execution_count": 19,
   "metadata": {},
   "outputs": [
    {
     "name": "stdout",
     "output_type": "stream",
     "text": [
      "Accuracy on Training set:  0.9710319896092269\n",
      "Accuracy on Test set:  0.9546966721943577\n",
      "\n",
      "Training Results\n",
      "\n",
      "              precision    recall  f1-score   support\n",
      "\n",
      "           0       0.96      0.98      0.97    133334\n",
      "           1       0.98      0.97      0.97    161543\n",
      "\n",
      "    accuracy                           0.97    294877\n",
      "   macro avg       0.97      0.97      0.97    294877\n",
      "weighted avg       0.97      0.97      0.97    294877\n",
      "\n",
      "Testing Results\n",
      "\n",
      "              precision    recall  f1-score   support\n",
      "\n",
      "           0       0.94      0.96      0.95     44549\n",
      "           1       0.97      0.95      0.96     53744\n",
      "\n",
      "    accuracy                           0.95     98293\n",
      "   macro avg       0.95      0.96      0.95     98293\n",
      "weighted avg       0.95      0.95      0.95     98293\n",
      "\n",
      "Cross-Validation Scores for the Best Model: [0.95411693 0.9534726  0.95520136 0.95372616 0.95435354]\n",
      "Average Cross-Validation Score: 0.9541741158472983\n"
     ]
    },
    {
     "data": {
      "image/png": "[encoded data removed]",
      "text/plain": [
       "<Figure size 640x480 with 1 Axes>"
      ]
     },
     "metadata": {},
     "output_type": "display_data"
    }
   ],
   "source": [
    "\n",
    "\n",
    "# # Inicjalizacja modelu Gradient Boosting Classifier\n",
    "# gb = GradientBoostingClassifier()\n",
    "\n",
    "# # Definiowanie siatki hiperparametrów do przetestowania\n",
    "# param_grid = {\n",
    "#     'n_estimators': [100, 200, 300],  # Liczba drzew w ensemble\n",
    "#     'learning_rate': [0.01, 0.1, 0.2], # Szybkość uczenia\n",
    "#     'max_depth': [3, 5, 7],            # Maksymalna głębokość drzewa\n",
    "#     'min_samples_split': [2, 4],       # Minimalna liczba próbek wymagana do podziału węzła\n",
    "#     'min_samples_leaf': [1, 2]         # Minimalna liczba próbek w liściu\n",
    "# }\n",
    "\n",
    "# # Utworzenie obiektu GridSearchCV\n",
    "# grid_search = GridSearchCV(estimator=gb, param_grid=param_grid, cv=5, scoring='accuracy')\n",
    "\n",
    "# # Przeszukiwanie siatki parametrów\n",
    "# grid_search.fit(x_train7, y_train7)\n",
    "\n",
    "# # Najlepsze parametry i najlepszy model\n",
    "# print(\"Najlepsze parametry: \", grid_search.best_params_)\n",
    "# best_gb = grid_search.best_estimator_\n",
    "\n",
    "\n",
    "params = {\n",
    "    'n_estimators': 300,\n",
    "    'learning_rate': 0.2,\n",
    "    'max_depth': 7,\n",
    "    'min_samples_split': 4,\n",
    "    'min_samples_leaf': 2\n",
    "}\n",
    "\n",
    "best_gb = GradientBoostingClassifier(\n",
    "    n_estimators=params['n_estimators'],\n",
    "    learning_rate=params['learning_rate'],\n",
    "    max_depth=params['max_depth'],\n",
    "    min_samples_split=params['min_samples_split'],\n",
    "    min_samples_leaf=params['min_samples_leaf'])\n",
    "best_gb.fit(x_train7, y_train7)\n",
    "# Predykcje na zbiorze treningowym i testowym\n",
    "ypred_train6 = best_gb.predict(x_train7)\n",
    "y_pred_test6 = best_gb.predict(x_test7)\n",
    "\n",
    "# Ocena modelu\n",
    "print(\"Accuracy on Training set: \", accuracy_score(y_train7, ypred_train6))\n",
    "print(\"Accuracy on Test set: \", accuracy_score(y_test7, y_pred_test6))\n",
    "print(\"\\nTraining Results\\n\")\n",
    "print(classification_report(y_train7, ypred_train6))\n",
    "print('Testing Results\\n')\n",
    "print(classification_report(y_test7, y_pred_test6))\n",
    "\n",
    "cross_val_scores = cross_val_score(best_gb, x_train7, y_train7, cv=5)\n",
    "print(\"Cross-Validation Scores for the Best Model:\", cross_val_scores)\n",
    "print(\"Average Cross-Validation Score:\", cross_val_scores.mean())\n",
    "\n",
    "\n",
    "# Krzywa ROC\n",
    "y_proba_test6 = best_gb.predict_proba(x_test7)[:, 1]\n",
    "fpr, tpr, thresholds = roc_curve(y_test7, y_proba_test6)\n",
    "plt.plot(fpr, tpr)\n",
    "plt.title(\"ROC Curve with AUC = {:.2f}\".format(roc_auc_score(y_test7, y_proba_test6)))\n",
    "plt.show()"
   ]
  },
  {
   "cell_type": "markdown",
   "metadata": {},
   "source": [
    "## KNN"
   ]
  },
  {
   "cell_type": "code",
   "execution_count": 20,
   "metadata": {},
   "outputs": [
    {
     "data": {
      "text/html": [
       "<style>#sk-container-id-1 {color: black;}#sk-container-id-1 pre{padding: 0;}#sk-container-id-1 div.sk-toggleable {background-color: white;}#sk-container-id-1 label.sk-toggleable__label {cursor: pointer;display: block;width: 100%;margin-bottom: 0;padding: 0.3em;box-sizing: border-box;text-align: center;}#sk-container-id-1 label.sk-toggleable__label-arrow:before {content: \"▸\";float: left;margin-right: 0.25em;color: #696969;}#sk-container-id-1 label.sk-toggleable__label-arrow:hover:before {color: black;}#sk-container-id-1 div.sk-estimator:hover label.sk-toggleable__label-arrow:before {color: black;}#sk-container-id-1 div.sk-toggleable__content {max-height: 0;max-width: 0;overflow: hidden;text-align: left;background-color: #f0f8ff;}#sk-container-id-1 div.sk-toggleable__content pre {margin: 0.2em;color: black;border-radius: 0.25em;background-color: #f0f8ff;}#sk-container-id-1 input.sk-toggleable__control:checked~div.sk-toggleable__content {max-height: 200px;max-width: 100%;overflow: auto;}#sk-container-id-1 input.sk-toggleable__control:checked~label.sk-toggleable__label-arrow:before {content: \"▾\";}#sk-container-id-1 div.sk-estimator input.sk-toggleable__control:checked~label.sk-toggleable__label {background-color: #d4ebff;}#sk-container-id-1 div.sk-label input.sk-toggleable__control:checked~label.sk-toggleable__label {background-color: #d4ebff;}#sk-container-id-1 input.sk-hidden--visually {border: 0;clip: rect(1px 1px 1px 1px);clip: rect(1px, 1px, 1px, 1px);height: 1px;margin: -1px;overflow: hidden;padding: 0;position: absolute;width: 1px;}#sk-container-id-1 div.sk-estimator {font-family: monospace;background-color: #f0f8ff;border: 1px dotted black;border-radius: 0.25em;box-sizing: border-box;margin-bottom: 0.5em;}#sk-container-id-1 div.sk-estimator:hover {background-color: #d4ebff;}#sk-container-id-1 div.sk-parallel-item::after {content: \"\";width: 100%;border-bottom: 1px solid gray;flex-grow: 1;}#sk-container-id-1 div.sk-label:hover label.sk-toggleable__label {background-color: #d4ebff;}#sk-container-id-1 div.sk-serial::before {content: \"\";position: absolute;border-left: 1px solid gray;box-sizing: border-box;top: 0;bottom: 0;left: 50%;z-index: 0;}#sk-container-id-1 div.sk-serial {display: flex;flex-direction: column;align-items: center;background-color: white;padding-right: 0.2em;padding-left: 0.2em;position: relative;}#sk-container-id-1 div.sk-item {position: relative;z-index: 1;}#sk-container-id-1 div.sk-parallel {display: flex;align-items: stretch;justify-content: center;background-color: white;position: relative;}#sk-container-id-1 div.sk-item::before, #sk-container-id-1 div.sk-parallel-item::before {content: \"\";position: absolute;border-left: 1px solid gray;box-sizing: border-box;top: 0;bottom: 0;left: 50%;z-index: -1;}#sk-container-id-1 div.sk-parallel-item {display: flex;flex-direction: column;z-index: 1;position: relative;background-color: white;}#sk-container-id-1 div.sk-parallel-item:first-child::after {align-self: flex-end;width: 50%;}#sk-container-id-1 div.sk-parallel-item:last-child::after {align-self: flex-start;width: 50%;}#sk-container-id-1 div.sk-parallel-item:only-child::after {width: 0;}#sk-container-id-1 div.sk-dashed-wrapped {border: 1px dashed gray;margin: 0 0.4em 0.5em 0.4em;box-sizing: border-box;padding-bottom: 0.4em;background-color: white;}#sk-container-id-1 div.sk-label label {font-family: monospace;font-weight: bold;display: inline-block;line-height: 1.2em;}#sk-container-id-1 div.sk-label-container {text-align: center;}#sk-container-id-1 div.sk-container {/* jupyter's `normalize.less` sets `[hidden] { display: none; }` but bootstrap.min.css set `[hidden] { display: none !important; }` so we also need the `!important` here to be able to override the default hidden behavior on the sphinx rendered scikit-learn.org. See: https://github.com/scikit-learn/scikit-learn/issues/21755 */display: inline-block !important;position: relative;}#sk-container-id-1 div.sk-text-repr-fallback {display: none;}</style><div id=\"sk-container-id-1\" class=\"sk-top-container\"><div class=\"sk-text-repr-fallback\"><pre>KNeighborsClassifier()</pre><b>In a Jupyter environment, please rerun this cell to show the HTML representation or trust the notebook. <br />On GitHub, the HTML representation is unable to render, please try loading this page with nbviewer.org.</b></div><div class=\"sk-container\" hidden><div class=\"sk-item\"><div class=\"sk-estimator sk-toggleable\"><input class=\"sk-toggleable__control sk-hidden--visually\" id=\"sk-estimator-id-1\" type=\"checkbox\" checked><label for=\"sk-estimator-id-1\" class=\"sk-toggleable__label sk-toggleable__label-arrow\">KNeighborsClassifier</label><div class=\"sk-toggleable__content\"><pre>KNeighborsClassifier()</pre></div></div></div></div></div>"
      ],
      "text/plain": [
       "KNeighborsClassifier()"
      ]
     },
     "execution_count": 20,
     "metadata": {},
     "output_type": "execute_result"
    }
   ],
   "source": [
    "knn = KNeighborsClassifier()\n",
    "knn.fit(x_train7, y_train7)\n"
   ]
  },
  {
   "cell_type": "code",
   "execution_count": 21,
   "metadata": {},
   "outputs": [],
   "source": [
    "grid_cv = GridSearchCV(KNeighborsClassifier(), \n",
    "                       param_grid={\n",
    "                           \"n_neighbors\": range(1, 50)\n",
    "                       }, cv=5, scoring=\"f1\", \n",
    "                       verbose=1, n_jobs=6)\n"
   ]
  },
  {
   "cell_type": "code",
   "execution_count": 22,
   "metadata": {},
   "outputs": [
    {
     "name": "stdout",
     "output_type": "stream",
     "text": [
      "Fitting 5 folds for each of 49 candidates, totalling 245 fits\n"
     ]
    },
    {
     "data": {
      "text/html": [
       "<style>#sk-container-id-2 {color: black;}#sk-container-id-2 pre{padding: 0;}#sk-container-id-2 div.sk-toggleable {background-color: white;}#sk-container-id-2 label.sk-toggleable__label {cursor: pointer;display: block;width: 100%;margin-bottom: 0;padding: 0.3em;box-sizing: border-box;text-align: center;}#sk-container-id-2 label.sk-toggleable__label-arrow:before {content: \"▸\";float: left;margin-right: 0.25em;color: #696969;}#sk-container-id-2 label.sk-toggleable__label-arrow:hover:before {color: black;}#sk-container-id-2 div.sk-estimator:hover label.sk-toggleable__label-arrow:before {color: black;}#sk-container-id-2 div.sk-toggleable__content {max-height: 0;max-width: 0;overflow: hidden;text-align: left;background-color: #f0f8ff;}#sk-container-id-2 div.sk-toggleable__content pre {margin: 0.2em;color: black;border-radius: 0.25em;background-color: #f0f8ff;}#sk-container-id-2 input.sk-toggleable__control:checked~div.sk-toggleable__content {max-height: 200px;max-width: 100%;overflow: auto;}#sk-container-id-2 input.sk-toggleable__control:checked~label.sk-toggleable__label-arrow:before {content: \"▾\";}#sk-container-id-2 div.sk-estimator input.sk-toggleable__control:checked~label.sk-toggleable__label {background-color: #d4ebff;}#sk-container-id-2 div.sk-label input.sk-toggleable__control:checked~label.sk-toggleable__label {background-color: #d4ebff;}#sk-container-id-2 input.sk-hidden--visually {border: 0;clip: rect(1px 1px 1px 1px);clip: rect(1px, 1px, 1px, 1px);height: 1px;margin: -1px;overflow: hidden;padding: 0;position: absolute;width: 1px;}#sk-container-id-2 div.sk-estimator {font-family: monospace;background-color: #f0f8ff;border: 1px dotted black;border-radius: 0.25em;box-sizing: border-box;margin-bottom: 0.5em;}#sk-container-id-2 div.sk-estimator:hover {background-color: #d4ebff;}#sk-container-id-2 div.sk-parallel-item::after {content: \"\";width: 100%;border-bottom: 1px solid gray;flex-grow: 1;}#sk-container-id-2 div.sk-label:hover label.sk-toggleable__label {background-color: #d4ebff;}#sk-container-id-2 div.sk-serial::before {content: \"\";position: absolute;border-left: 1px solid gray;box-sizing: border-box;top: 0;bottom: 0;left: 50%;z-index: 0;}#sk-container-id-2 div.sk-serial {display: flex;flex-direction: column;align-items: center;background-color: white;padding-right: 0.2em;padding-left: 0.2em;position: relative;}#sk-container-id-2 div.sk-item {position: relative;z-index: 1;}#sk-container-id-2 div.sk-parallel {display: flex;align-items: stretch;justify-content: center;background-color: white;position: relative;}#sk-container-id-2 div.sk-item::before, #sk-container-id-2 div.sk-parallel-item::before {content: \"\";position: absolute;border-left: 1px solid gray;box-sizing: border-box;top: 0;bottom: 0;left: 50%;z-index: -1;}#sk-container-id-2 div.sk-parallel-item {display: flex;flex-direction: column;z-index: 1;position: relative;background-color: white;}#sk-container-id-2 div.sk-parallel-item:first-child::after {align-self: flex-end;width: 50%;}#sk-container-id-2 div.sk-parallel-item:last-child::after {align-self: flex-start;width: 50%;}#sk-container-id-2 div.sk-parallel-item:only-child::after {width: 0;}#sk-container-id-2 div.sk-dashed-wrapped {border: 1px dashed gray;margin: 0 0.4em 0.5em 0.4em;box-sizing: border-box;padding-bottom: 0.4em;background-color: white;}#sk-container-id-2 div.sk-label label {font-family: monospace;font-weight: bold;display: inline-block;line-height: 1.2em;}#sk-container-id-2 div.sk-label-container {text-align: center;}#sk-container-id-2 div.sk-container {/* jupyter's `normalize.less` sets `[hidden] { display: none; }` but bootstrap.min.css set `[hidden] { display: none !important; }` so we also need the `!important` here to be able to override the default hidden behavior on the sphinx rendered scikit-learn.org. See: https://github.com/scikit-learn/scikit-learn/issues/21755 */display: inline-block !important;position: relative;}#sk-container-id-2 div.sk-text-repr-fallback {display: none;}</style><div id=\"sk-container-id-2\" class=\"sk-top-container\"><div class=\"sk-text-repr-fallback\"><pre>GridSearchCV(cv=5, estimator=KNeighborsClassifier(), n_jobs=6,\n",
       "             param_grid={&#x27;n_neighbors&#x27;: range(1, 50)}, scoring=&#x27;f1&#x27;, verbose=1)</pre><b>In a Jupyter environment, please rerun this cell to show the HTML representation or trust the notebook. <br />On GitHub, the HTML representation is unable to render, please try loading this page with nbviewer.org.</b></div><div class=\"sk-container\" hidden><div class=\"sk-item sk-dashed-wrapped\"><div class=\"sk-label-container\"><div class=\"sk-label sk-toggleable\"><input class=\"sk-toggleable__control sk-hidden--visually\" id=\"sk-estimator-id-2\" type=\"checkbox\" ><label for=\"sk-estimator-id-2\" class=\"sk-toggleable__label sk-toggleable__label-arrow\">GridSearchCV</label><div class=\"sk-toggleable__content\"><pre>GridSearchCV(cv=5, estimator=KNeighborsClassifier(), n_jobs=6,\n",
       "             param_grid={&#x27;n_neighbors&#x27;: range(1, 50)}, scoring=&#x27;f1&#x27;, verbose=1)</pre></div></div></div><div class=\"sk-parallel\"><div class=\"sk-parallel-item\"><div class=\"sk-item\"><div class=\"sk-label-container\"><div class=\"sk-label sk-toggleable\"><input class=\"sk-toggleable__control sk-hidden--visually\" id=\"sk-estimator-id-3\" type=\"checkbox\" ><label for=\"sk-estimator-id-3\" class=\"sk-toggleable__label sk-toggleable__label-arrow\">estimator: KNeighborsClassifier</label><div class=\"sk-toggleable__content\"><pre>KNeighborsClassifier()</pre></div></div></div><div class=\"sk-serial\"><div class=\"sk-item\"><div class=\"sk-estimator sk-toggleable\"><input class=\"sk-toggleable__control sk-hidden--visually\" id=\"sk-estimator-id-4\" type=\"checkbox\" ><label for=\"sk-estimator-id-4\" class=\"sk-toggleable__label sk-toggleable__label-arrow\">KNeighborsClassifier</label><div class=\"sk-toggleable__content\"><pre>KNeighborsClassifier()</pre></div></div></div></div></div></div></div></div></div></div>"
      ],
      "text/plain": [
       "GridSearchCV(cv=5, estimator=KNeighborsClassifier(), n_jobs=6,\n",
       "             param_grid={'n_neighbors': range(1, 50)}, scoring='f1', verbose=1)"
      ]
     },
     "execution_count": 22,
     "metadata": {},
     "output_type": "execute_result"
    }
   ],
   "source": [
    "grid_cv.fit(x_train7, \n",
    "            y_train7)"
   ]
  },
  {
   "cell_type": "code",
   "execution_count": 23,
   "metadata": {},
   "outputs": [
    {
     "data": {
      "text/plain": [
       "0.9606342184274956"
      ]
     },
     "execution_count": 23,
     "metadata": {},
     "output_type": "execute_result"
    }
   ],
   "source": [
    "grid_cv.best_score_\n"
   ]
  },
  {
   "cell_type": "code",
   "execution_count": 24,
   "metadata": {},
   "outputs": [
    {
     "data": {
      "text/html": [
       "<style>#sk-container-id-3 {color: black;}#sk-container-id-3 pre{padding: 0;}#sk-container-id-3 div.sk-toggleable {background-color: white;}#sk-container-id-3 label.sk-toggleable__label {cursor: pointer;display: block;width: 100%;margin-bottom: 0;padding: 0.3em;box-sizing: border-box;text-align: center;}#sk-container-id-3 label.sk-toggleable__label-arrow:before {content: \"▸\";float: left;margin-right: 0.25em;color: #696969;}#sk-container-id-3 label.sk-toggleable__label-arrow:hover:before {color: black;}#sk-container-id-3 div.sk-estimator:hover label.sk-toggleable__label-arrow:before {color: black;}#sk-container-id-3 div.sk-toggleable__content {max-height: 0;max-width: 0;overflow: hidden;text-align: left;background-color: #f0f8ff;}#sk-container-id-3 div.sk-toggleable__content pre {margin: 0.2em;color: black;border-radius: 0.25em;background-color: #f0f8ff;}#sk-container-id-3 input.sk-toggleable__control:checked~div.sk-toggleable__content {max-height: 200px;max-width: 100%;overflow: auto;}#sk-container-id-3 input.sk-toggleable__control:checked~label.sk-toggleable__label-arrow:before {content: \"▾\";}#sk-container-id-3 div.sk-estimator input.sk-toggleable__control:checked~label.sk-toggleable__label {background-color: #d4ebff;}#sk-container-id-3 div.sk-label input.sk-toggleable__control:checked~label.sk-toggleable__label {background-color: #d4ebff;}#sk-container-id-3 input.sk-hidden--visually {border: 0;clip: rect(1px 1px 1px 1px);clip: rect(1px, 1px, 1px, 1px);height: 1px;margin: -1px;overflow: hidden;padding: 0;position: absolute;width: 1px;}#sk-container-id-3 div.sk-estimator {font-family: monospace;background-color: #f0f8ff;border: 1px dotted black;border-radius: 0.25em;box-sizing: border-box;margin-bottom: 0.5em;}#sk-container-id-3 div.sk-estimator:hover {background-color: #d4ebff;}#sk-container-id-3 div.sk-parallel-item::after {content: \"\";width: 100%;border-bottom: 1px solid gray;flex-grow: 1;}#sk-container-id-3 div.sk-label:hover label.sk-toggleable__label {background-color: #d4ebff;}#sk-container-id-3 div.sk-serial::before {content: \"\";position: absolute;border-left: 1px solid gray;box-sizing: border-box;top: 0;bottom: 0;left: 50%;z-index: 0;}#sk-container-id-3 div.sk-serial {display: flex;flex-direction: column;align-items: center;background-color: white;padding-right: 0.2em;padding-left: 0.2em;position: relative;}#sk-container-id-3 div.sk-item {position: relative;z-index: 1;}#sk-container-id-3 div.sk-parallel {display: flex;align-items: stretch;justify-content: center;background-color: white;position: relative;}#sk-container-id-3 div.sk-item::before, #sk-container-id-3 div.sk-parallel-item::before {content: \"\";position: absolute;border-left: 1px solid gray;box-sizing: border-box;top: 0;bottom: 0;left: 50%;z-index: -1;}#sk-container-id-3 div.sk-parallel-item {display: flex;flex-direction: column;z-index: 1;position: relative;background-color: white;}#sk-container-id-3 div.sk-parallel-item:first-child::after {align-self: flex-end;width: 50%;}#sk-container-id-3 div.sk-parallel-item:last-child::after {align-self: flex-start;width: 50%;}#sk-container-id-3 div.sk-parallel-item:only-child::after {width: 0;}#sk-container-id-3 div.sk-dashed-wrapped {border: 1px dashed gray;margin: 0 0.4em 0.5em 0.4em;box-sizing: border-box;padding-bottom: 0.4em;background-color: white;}#sk-container-id-3 div.sk-label label {font-family: monospace;font-weight: bold;display: inline-block;line-height: 1.2em;}#sk-container-id-3 div.sk-label-container {text-align: center;}#sk-container-id-3 div.sk-container {/* jupyter's `normalize.less` sets `[hidden] { display: none; }` but bootstrap.min.css set `[hidden] { display: none !important; }` so we also need the `!important` here to be able to override the default hidden behavior on the sphinx rendered scikit-learn.org. See: https://github.com/scikit-learn/scikit-learn/issues/21755 */display: inline-block !important;position: relative;}#sk-container-id-3 div.sk-text-repr-fallback {display: none;}</style><div id=\"sk-container-id-3\" class=\"sk-top-container\"><div class=\"sk-text-repr-fallback\"><pre>KNeighborsClassifier(n_neighbors=1)</pre><b>In a Jupyter environment, please rerun this cell to show the HTML representation or trust the notebook. <br />On GitHub, the HTML representation is unable to render, please try loading this page with nbviewer.org.</b></div><div class=\"sk-container\" hidden><div class=\"sk-item\"><div class=\"sk-estimator sk-toggleable\"><input class=\"sk-toggleable__control sk-hidden--visually\" id=\"sk-estimator-id-5\" type=\"checkbox\" checked><label for=\"sk-estimator-id-5\" class=\"sk-toggleable__label sk-toggleable__label-arrow\">KNeighborsClassifier</label><div class=\"sk-toggleable__content\"><pre>KNeighborsClassifier(n_neighbors=1)</pre></div></div></div></div></div>"
      ],
      "text/plain": [
       "KNeighborsClassifier(n_neighbors=1)"
      ]
     },
     "execution_count": 24,
     "metadata": {},
     "output_type": "execute_result"
    }
   ],
   "source": [
    "knn = grid_cv.best_estimator_\n",
    "knn"
   ]
  },
  {
   "cell_type": "code",
   "execution_count": 25,
   "metadata": {},
   "outputs": [
    {
     "name": "stdout",
     "output_type": "stream",
     "text": [
      "XGBClassifier Accuracy:  0.9641581801349028\n"
     ]
    }
   ],
   "source": [
    "ypred_train6 = grid_cv.predict(x_train7)\n",
    "y_pred_test6 = grid_cv.predict(x_test7)\n",
    "print(\"XGBClassifier Accuracy: \",accuracy_score(y_test7, y_pred_test6))"
   ]
  },
  {
   "cell_type": "code",
   "execution_count": 26,
   "metadata": {},
   "outputs": [
    {
     "name": "stdout",
     "output_type": "stream",
     "text": [
      "Training Results\n",
      "\n",
      "              precision    recall  f1-score   support\n",
      "\n",
      "           0       1.00      1.00      1.00    133334\n",
      "           1       1.00      1.00      1.00    161543\n",
      "\n",
      "    accuracy                           1.00    294877\n",
      "   macro avg       1.00      1.00      1.00    294877\n",
      "weighted avg       1.00      1.00      1.00    294877\n",
      "\n"
     ]
    }
   ],
   "source": [
    "print(\"Training Results\\n\")\n",
    "print(classification_report(y_train7, ypred_train6))"
   ]
  },
  {
   "cell_type": "code",
   "execution_count": 27,
   "metadata": {},
   "outputs": [
    {
     "name": "stdout",
     "output_type": "stream",
     "text": [
      "Testing Results\n",
      "\n",
      "              precision    recall  f1-score   support\n",
      "\n",
      "           0       0.97      0.95      0.96     44549\n",
      "           1       0.96      0.98      0.97     53744\n",
      "\n",
      "    accuracy                           0.96     98293\n",
      "   macro avg       0.97      0.96      0.96     98293\n",
      "weighted avg       0.96      0.96      0.96     98293\n",
      "\n"
     ]
    }
   ],
   "source": [
    "print('Testing Results\\n')\n",
    "print(classification_report(y_test7, y_pred_test6))"
   ]
  },
  {
   "cell_type": "code",
   "execution_count": 28,
   "metadata": {},
   "outputs": [
    {
     "data": {
      "image/png": "[encoded data removed]",
      "text/plain": [
       "<Figure size 640x480 with 1 Axes>"
      ]
     },
     "metadata": {},
     "output_type": "display_data"
    }
   ],
   "source": [
    "# cross_val_scores = cross_val_score(grid_cv, x_train7, y_train7, cv=5)\n",
    "# print(\"Cross-Validation Scores for the Best Model:\", cross_val_scores)\n",
    "# print(\"Average Cross-Validation Score:\", cross_val_scores.mean())\n",
    "\n",
    "\n",
    "y_proba_test = grid_cv.predict_proba(x_test7)[:, 1]\n",
    "\n",
    "fpr, tpr, thresholds = roc_curve(y_test7, y_proba_test)\n",
    "\n",
    "plt.plot(fpr, tpr, label='ROC Curve')\n",
    "plt.xlabel('False Positive Rate')\n",
    "plt.ylabel('True Positive Rate')\n",
    "plt.title('ROC Curve with AUC = {:.2f}'.format(roc_auc_score(y_test7, y_proba_test)))\n",
    "plt.legend(loc='lower right')\n",
    "plt.grid(True)\n",
    "plt.show()"
   ]
  },
  {
   "cell_type": "markdown",
   "metadata": {},
   "source": [
    "## SIECI NEURONOWE"
   ]
  },
  {
   "cell_type": "markdown",
   "metadata": {},
   "source": [
    "## ANN"
   ]
  },
  {
   "cell_type": "code",
   "execution_count": 29,
   "metadata": {},
   "outputs": [
    {
     "name": "stdout",
     "output_type": "stream",
     "text": [
      "WARNING:tensorflow:From C:\\Users\\DELL\\AppData\\Roaming\\Python\\Python311\\site-packages\\keras\\src\\backend.py:873: The name tf.get_default_graph is deprecated. Please use tf.compat.v1.get_default_graph instead.\n",
      "\n"
     ]
    }
   ],
   "source": [
    "ann = tf.keras.models.Sequential()"
   ]
  },
  {
   "cell_type": "code",
   "execution_count": 30,
   "metadata": {},
   "outputs": [],
   "source": [
    "early_stop = EarlyStopping(monitor='val_loss', mode='min', verbose=1, patience=25)\n"
   ]
  },
  {
   "cell_type": "code",
   "execution_count": 31,
   "metadata": {},
   "outputs": [],
   "source": [
    "ann.add(tf.keras.layers.Dense(units=16, activation='relu'))"
   ]
  },
  {
   "cell_type": "code",
   "execution_count": 32,
   "metadata": {},
   "outputs": [],
   "source": [
    "ann.add(tf.keras.layers.Dense(units=6, activation='relu'))"
   ]
  },
  {
   "cell_type": "code",
   "execution_count": 33,
   "metadata": {},
   "outputs": [],
   "source": [
    "ann.add(tf.keras.layers.Dense(units=1, activation='sigmoid'))"
   ]
  },
  {
   "cell_type": "code",
   "execution_count": 34,
   "metadata": {},
   "outputs": [
    {
     "name": "stdout",
     "output_type": "stream",
     "text": [
      "WARNING:tensorflow:From C:\\Users\\DELL\\AppData\\Roaming\\Python\\Python311\\site-packages\\keras\\src\\optimizers\\__init__.py:309: The name tf.train.Optimizer is deprecated. Please use tf.compat.v1.train.Optimizer instead.\n",
      "\n"
     ]
    }
   ],
   "source": [
    "ann.compile(optimizer = 'adam', loss = 'binary_crossentropy', metrics = ['accuracy'])"
   ]
  },
  {
   "cell_type": "code",
   "execution_count": 35,
   "metadata": {},
   "outputs": [
    {
     "name": "stdout",
     "output_type": "stream",
     "text": [
      "Epoch 1/100\n",
      "WARNING:tensorflow:From C:\\Users\\DELL\\AppData\\Roaming\\Python\\Python311\\site-packages\\keras\\src\\utils\\tf_utils.py:492: The name tf.ragged.RaggedTensorValue is deprecated. Please use tf.compat.v1.ragged.RaggedTensorValue instead.\n",
      "\n",
      "WARNING:tensorflow:From C:\\Users\\DELL\\AppData\\Roaming\\Python\\Python311\\site-packages\\keras\\src\\engine\\base_layer_utils.py:384: The name tf.executing_eagerly_outside_functions is deprecated. Please use tf.compat.v1.executing_eagerly_outside_functions instead.\n",
      "\n",
      "9215/9215 [==============================] - 31s 3ms/step - loss: 0.3472 - accuracy: 0.8510 - val_loss: 0.3265 - val_accuracy: 0.8623\n",
      "Epoch 2/100\n",
      "9215/9215 [==============================] - 29s 3ms/step - loss: 0.3026 - accuracy: 0.8724 - val_loss: 0.2980 - val_accuracy: 0.8738\n",
      "Epoch 3/100\n",
      "9215/9215 [==============================] - 29s 3ms/step - loss: 0.2810 - accuracy: 0.8809 - val_loss: 0.2803 - val_accuracy: 0.8807\n",
      "Epoch 4/100\n",
      "9215/9215 [==============================] - 29s 3ms/step - loss: 0.2691 - accuracy: 0.8852 - val_loss: 0.2695 - val_accuracy: 0.8851\n",
      "Epoch 5/100\n",
      "9215/9215 [==============================] - 29s 3ms/step - loss: 0.2626 - accuracy: 0.8883 - val_loss: 0.2628 - val_accuracy: 0.8881\n",
      "Epoch 6/100\n",
      "9215/9215 [==============================] - 29s 3ms/step - loss: 0.2588 - accuracy: 0.8895 - val_loss: 0.2586 - val_accuracy: 0.8894\n",
      "Epoch 7/100\n",
      "9215/9215 [==============================] - 29s 3ms/step - loss: 0.2552 - accuracy: 0.8906 - val_loss: 0.2558 - val_accuracy: 0.8917\n",
      "Epoch 8/100\n",
      "9215/9215 [==============================] - 30s 3ms/step - loss: 0.2527 - accuracy: 0.8924 - val_loss: 0.2608 - val_accuracy: 0.8886\n",
      "Epoch 9/100\n",
      "9215/9215 [==============================] - 29s 3ms/step - loss: 0.2500 - accuracy: 0.8935 - val_loss: 0.2565 - val_accuracy: 0.8906\n",
      "Epoch 10/100\n",
      "9215/9215 [==============================] - 29s 3ms/step - loss: 0.2484 - accuracy: 0.8941 - val_loss: 0.2531 - val_accuracy: 0.8925\n",
      "Epoch 11/100\n",
      "9215/9215 [==============================] - 29s 3ms/step - loss: 0.2463 - accuracy: 0.8955 - val_loss: 0.2493 - val_accuracy: 0.8941\n",
      "Epoch 12/100\n",
      "9215/9215 [==============================] - 30s 3ms/step - loss: 0.2446 - accuracy: 0.8957 - val_loss: 0.2553 - val_accuracy: 0.8892\n",
      "Epoch 13/100\n",
      "9215/9215 [==============================] - 29s 3ms/step - loss: 0.2441 - accuracy: 0.8961 - val_loss: 0.2511 - val_accuracy: 0.8919\n",
      "Epoch 14/100\n",
      "9215/9215 [==============================] - 29s 3ms/step - loss: 0.2429 - accuracy: 0.8965 - val_loss: 0.2595 - val_accuracy: 0.8883\n",
      "Epoch 15/100\n",
      "9215/9215 [==============================] - 29s 3ms/step - loss: 0.2424 - accuracy: 0.8969 - val_loss: 0.2424 - val_accuracy: 0.8962\n",
      "Epoch 16/100\n",
      "9215/9215 [==============================] - 29s 3ms/step - loss: 0.2414 - accuracy: 0.8974 - val_loss: 0.2449 - val_accuracy: 0.8951\n",
      "Epoch 17/100\n",
      "9215/9215 [==============================] - 30s 3ms/step - loss: 0.2410 - accuracy: 0.8974 - val_loss: 0.2399 - val_accuracy: 0.8981\n",
      "Epoch 18/100\n",
      "9215/9215 [==============================] - 30s 3ms/step - loss: 0.2410 - accuracy: 0.8971 - val_loss: 0.2392 - val_accuracy: 0.8983\n",
      "Epoch 19/100\n",
      "9215/9215 [==============================] - 29s 3ms/step - loss: 0.2400 - accuracy: 0.8978 - val_loss: 0.2440 - val_accuracy: 0.8958\n",
      "Epoch 20/100\n",
      "9215/9215 [==============================] - 29s 3ms/step - loss: 0.2393 - accuracy: 0.8982 - val_loss: 0.2389 - val_accuracy: 0.8987\n",
      "Epoch 21/100\n",
      "9215/9215 [==============================] - 30s 3ms/step - loss: 0.2392 - accuracy: 0.8983 - val_loss: 0.2385 - val_accuracy: 0.8984\n",
      "Epoch 22/100\n",
      "9215/9215 [==============================] - 29s 3ms/step - loss: 0.2388 - accuracy: 0.8983 - val_loss: 0.2414 - val_accuracy: 0.8978\n",
      "Epoch 23/100\n",
      "9215/9215 [==============================] - 29s 3ms/step - loss: 0.2388 - accuracy: 0.8983 - val_loss: 0.2430 - val_accuracy: 0.8962\n",
      "Epoch 24/100\n",
      "9215/9215 [==============================] - 29s 3ms/step - loss: 0.2382 - accuracy: 0.8990 - val_loss: 0.2419 - val_accuracy: 0.8966\n",
      "Epoch 25/100\n",
      "9215/9215 [==============================] - 28s 3ms/step - loss: 0.2375 - accuracy: 0.8989 - val_loss: 0.2360 - val_accuracy: 0.8993\n",
      "Epoch 26/100\n",
      "9215/9215 [==============================] - 30s 3ms/step - loss: 0.2371 - accuracy: 0.8988 - val_loss: 0.2425 - val_accuracy: 0.8958\n",
      "Epoch 27/100\n",
      "9215/9215 [==============================] - 29s 3ms/step - loss: 0.2368 - accuracy: 0.8992 - val_loss: 0.2361 - val_accuracy: 0.8996\n",
      "Epoch 28/100\n",
      "9215/9215 [==============================] - 29s 3ms/step - loss: 0.2364 - accuracy: 0.8993 - val_loss: 0.2364 - val_accuracy: 0.8992\n",
      "Epoch 29/100\n",
      "9215/9215 [==============================] - 29s 3ms/step - loss: 0.2366 - accuracy: 0.8993 - val_loss: 0.2373 - val_accuracy: 0.8997\n",
      "Epoch 30/100\n",
      "9215/9215 [==============================] - 29s 3ms/step - loss: 0.2363 - accuracy: 0.8993 - val_loss: 0.2347 - val_accuracy: 0.9007\n",
      "Epoch 31/100\n",
      "9215/9215 [==============================] - 29s 3ms/step - loss: 0.2361 - accuracy: 0.8992 - val_loss: 0.2359 - val_accuracy: 0.9004\n",
      "Epoch 32/100\n",
      "9215/9215 [==============================] - 29s 3ms/step - loss: 0.2357 - accuracy: 0.8996 - val_loss: 0.2353 - val_accuracy: 0.9004\n",
      "Epoch 33/100\n",
      "9215/9215 [==============================] - 30s 3ms/step - loss: 0.2359 - accuracy: 0.8994 - val_loss: 0.2498 - val_accuracy: 0.8909\n",
      "Epoch 34/100\n",
      "9215/9215 [==============================] - 29s 3ms/step - loss: 0.2357 - accuracy: 0.8997 - val_loss: 0.2365 - val_accuracy: 0.9003\n",
      "Epoch 35/100\n",
      "9215/9215 [==============================] - 29s 3ms/step - loss: 0.2349 - accuracy: 0.8999 - val_loss: 0.2362 - val_accuracy: 0.9001\n",
      "Epoch 36/100\n",
      "9215/9215 [==============================] - 30s 3ms/step - loss: 0.2350 - accuracy: 0.8996 - val_loss: 0.2347 - val_accuracy: 0.8999\n",
      "Epoch 37/100\n",
      "9215/9215 [==============================] - 30s 3ms/step - loss: 0.2347 - accuracy: 0.9001 - val_loss: 0.2370 - val_accuracy: 0.8978\n",
      "Epoch 38/100\n",
      "9215/9215 [==============================] - 30s 3ms/step - loss: 0.2339 - accuracy: 0.9002 - val_loss: 0.2329 - val_accuracy: 0.9011\n",
      "Epoch 39/100\n",
      "9215/9215 [==============================] - 30s 3ms/step - loss: 0.2332 - accuracy: 0.9010 - val_loss: 0.2374 - val_accuracy: 0.8990\n",
      "Epoch 40/100\n",
      "9215/9215 [==============================] - 29s 3ms/step - loss: 0.2330 - accuracy: 0.9009 - val_loss: 0.2371 - val_accuracy: 0.8988\n",
      "Epoch 41/100\n",
      "9215/9215 [==============================] - 29s 3ms/step - loss: 0.2325 - accuracy: 0.9005 - val_loss: 0.2313 - val_accuracy: 0.9019\n",
      "Epoch 42/100\n",
      "9215/9215 [==============================] - 29s 3ms/step - loss: 0.2323 - accuracy: 0.9012 - val_loss: 0.2305 - val_accuracy: 0.9021\n",
      "Epoch 43/100\n",
      "9215/9215 [==============================] - 29s 3ms/step - loss: 0.2320 - accuracy: 0.9010 - val_loss: 0.2301 - val_accuracy: 0.9030\n",
      "Epoch 44/100\n",
      "9215/9215 [==============================] - 29s 3ms/step - loss: 0.2314 - accuracy: 0.9013 - val_loss: 0.2504 - val_accuracy: 0.8920\n",
      "Epoch 45/100\n",
      "9215/9215 [==============================] - 29s 3ms/step - loss: 0.2311 - accuracy: 0.9013 - val_loss: 0.2376 - val_accuracy: 0.8989\n",
      "Epoch 46/100\n",
      "9215/9215 [==============================] - 29s 3ms/step - loss: 0.2306 - accuracy: 0.9016 - val_loss: 0.2321 - val_accuracy: 0.9014\n",
      "Epoch 47/100\n",
      "9215/9215 [==============================] - 29s 3ms/step - loss: 0.2309 - accuracy: 0.9013 - val_loss: 0.2334 - val_accuracy: 0.8996\n",
      "Epoch 48/100\n",
      "9215/9215 [==============================] - 29s 3ms/step - loss: 0.2303 - accuracy: 0.9018 - val_loss: 0.2356 - val_accuracy: 0.8982\n",
      "Epoch 49/100\n",
      "9215/9215 [==============================] - 29s 3ms/step - loss: 0.2297 - accuracy: 0.9022 - val_loss: 0.2318 - val_accuracy: 0.9007\n",
      "Epoch 50/100\n",
      "9215/9215 [==============================] - 29s 3ms/step - loss: 0.2293 - accuracy: 0.9025 - val_loss: 0.2370 - val_accuracy: 0.8980\n",
      "Epoch 51/100\n",
      "9215/9215 [==============================] - 29s 3ms/step - loss: 0.2294 - accuracy: 0.9022 - val_loss: 0.2265 - val_accuracy: 0.9036\n",
      "Epoch 52/100\n",
      "9215/9215 [==============================] - 29s 3ms/step - loss: 0.2287 - accuracy: 0.9030 - val_loss: 0.2278 - val_accuracy: 0.9041\n",
      "Epoch 53/100\n",
      "9215/9215 [==============================] - 30s 3ms/step - loss: 0.2281 - accuracy: 0.9027 - val_loss: 0.2270 - val_accuracy: 0.9041\n",
      "Epoch 54/100\n",
      "9215/9215 [==============================] - 29s 3ms/step - loss: 0.2280 - accuracy: 0.9029 - val_loss: 0.2332 - val_accuracy: 0.9012\n",
      "Epoch 55/100\n",
      "9215/9215 [==============================] - 29s 3ms/step - loss: 0.2278 - accuracy: 0.9031 - val_loss: 0.2275 - val_accuracy: 0.9036\n",
      "Epoch 56/100\n",
      "9215/9215 [==============================] - 29s 3ms/step - loss: 0.2274 - accuracy: 0.9030 - val_loss: 0.2266 - val_accuracy: 0.9041\n",
      "Epoch 57/100\n",
      "9215/9215 [==============================] - 30s 3ms/step - loss: 0.2264 - accuracy: 0.9034 - val_loss: 0.2334 - val_accuracy: 0.9010\n",
      "Epoch 58/100\n",
      "9215/9215 [==============================] - 30s 3ms/step - loss: 0.2253 - accuracy: 0.9043 - val_loss: 0.2251 - val_accuracy: 0.9035\n",
      "Epoch 59/100\n",
      "9215/9215 [==============================] - 29s 3ms/step - loss: 0.2241 - accuracy: 0.9043 - val_loss: 0.2242 - val_accuracy: 0.9054\n",
      "Epoch 60/100\n",
      "9215/9215 [==============================] - 29s 3ms/step - loss: 0.2239 - accuracy: 0.9042 - val_loss: 0.2279 - val_accuracy: 0.9036\n",
      "Epoch 61/100\n",
      "9215/9215 [==============================] - 29s 3ms/step - loss: 0.2234 - accuracy: 0.9049 - val_loss: 0.2343 - val_accuracy: 0.8979\n",
      "Epoch 62/100\n",
      "9215/9215 [==============================] - 29s 3ms/step - loss: 0.2229 - accuracy: 0.9051 - val_loss: 0.2247 - val_accuracy: 0.9041\n",
      "Epoch 63/100\n",
      "9215/9215 [==============================] - 29s 3ms/step - loss: 0.2225 - accuracy: 0.9052 - val_loss: 0.2343 - val_accuracy: 0.8985\n",
      "Epoch 64/100\n",
      "9215/9215 [==============================] - 29s 3ms/step - loss: 0.2221 - accuracy: 0.9054 - val_loss: 0.2219 - val_accuracy: 0.9049\n",
      "Epoch 65/100\n",
      "9215/9215 [==============================] - 29s 3ms/step - loss: 0.2219 - accuracy: 0.9054 - val_loss: 0.2200 - val_accuracy: 0.9060\n",
      "Epoch 66/100\n",
      "9215/9215 [==============================] - 29s 3ms/step - loss: 0.2212 - accuracy: 0.9059 - val_loss: 0.2191 - val_accuracy: 0.9071\n",
      "Epoch 67/100\n",
      "9215/9215 [==============================] - 30s 3ms/step - loss: 0.2214 - accuracy: 0.9054 - val_loss: 0.2240 - val_accuracy: 0.9047\n",
      "Epoch 68/100\n",
      "9215/9215 [==============================] - 29s 3ms/step - loss: 0.2210 - accuracy: 0.9057 - val_loss: 0.2272 - val_accuracy: 0.9031\n",
      "Epoch 69/100\n",
      "9215/9215 [==============================] - 30s 3ms/step - loss: 0.2205 - accuracy: 0.9062 - val_loss: 0.2197 - val_accuracy: 0.9058\n",
      "Epoch 70/100\n",
      "9215/9215 [==============================] - 30s 3ms/step - loss: 0.2200 - accuracy: 0.9065 - val_loss: 0.2200 - val_accuracy: 0.9057\n",
      "Epoch 71/100\n",
      "9215/9215 [==============================] - 30s 3ms/step - loss: 0.2200 - accuracy: 0.9060 - val_loss: 0.2253 - val_accuracy: 0.9027\n",
      "Epoch 72/100\n",
      "9215/9215 [==============================] - 29s 3ms/step - loss: 0.2196 - accuracy: 0.9064 - val_loss: 0.2222 - val_accuracy: 0.9057\n",
      "Epoch 73/100\n",
      "9215/9215 [==============================] - 30s 3ms/step - loss: 0.2200 - accuracy: 0.9061 - val_loss: 0.2375 - val_accuracy: 0.8962\n",
      "Epoch 74/100\n",
      "9215/9215 [==============================] - 30s 3ms/step - loss: 0.2195 - accuracy: 0.9060 - val_loss: 0.2205 - val_accuracy: 0.9053\n",
      "Epoch 75/100\n",
      "9215/9215 [==============================] - 30s 3ms/step - loss: 0.2191 - accuracy: 0.9068 - val_loss: 0.2198 - val_accuracy: 0.9071\n",
      "Epoch 76/100\n",
      "9215/9215 [==============================] - 30s 3ms/step - loss: 0.2189 - accuracy: 0.9063 - val_loss: 0.2155 - val_accuracy: 0.9086\n",
      "Epoch 77/100\n",
      "9215/9215 [==============================] - 29s 3ms/step - loss: 0.2189 - accuracy: 0.9067 - val_loss: 0.2193 - val_accuracy: 0.9063\n",
      "Epoch 78/100\n",
      "9215/9215 [==============================] - 30s 3ms/step - loss: 0.2186 - accuracy: 0.9067 - val_loss: 0.2160 - val_accuracy: 0.9074\n",
      "Epoch 79/100\n",
      "9215/9215 [==============================] - 30s 3ms/step - loss: 0.2183 - accuracy: 0.9070 - val_loss: 0.2320 - val_accuracy: 0.9001\n",
      "Epoch 80/100\n",
      "9215/9215 [==============================] - 30s 3ms/step - loss: 0.2182 - accuracy: 0.9069 - val_loss: 0.2186 - val_accuracy: 0.9066\n",
      "Epoch 81/100\n",
      "9215/9215 [==============================] - 29s 3ms/step - loss: 0.2178 - accuracy: 0.9073 - val_loss: 0.2160 - val_accuracy: 0.9073\n",
      "Epoch 82/100\n",
      "9215/9215 [==============================] - 30s 3ms/step - loss: 0.2182 - accuracy: 0.9071 - val_loss: 0.2270 - val_accuracy: 0.9023\n",
      "Epoch 83/100\n",
      "9215/9215 [==============================] - 29s 3ms/step - loss: 0.2181 - accuracy: 0.9069 - val_loss: 0.2162 - val_accuracy: 0.9069\n",
      "Epoch 84/100\n",
      "9215/9215 [==============================] - 29s 3ms/step - loss: 0.2175 - accuracy: 0.9072 - val_loss: 0.2318 - val_accuracy: 0.8990\n",
      "Epoch 85/100\n",
      "9215/9215 [==============================] - 30s 3ms/step - loss: 0.2178 - accuracy: 0.9066 - val_loss: 0.2151 - val_accuracy: 0.9079\n",
      "Epoch 86/100\n",
      "9215/9215 [==============================] - 30s 3ms/step - loss: 0.2176 - accuracy: 0.9074 - val_loss: 0.2178 - val_accuracy: 0.9063\n",
      "Epoch 87/100\n",
      "9215/9215 [==============================] - 30s 3ms/step - loss: 0.2171 - accuracy: 0.9074 - val_loss: 0.2195 - val_accuracy: 0.9054\n",
      "Epoch 88/100\n",
      "9215/9215 [==============================] - 30s 3ms/step - loss: 0.2171 - accuracy: 0.9070 - val_loss: 0.2279 - val_accuracy: 0.9005\n",
      "Epoch 89/100\n",
      "9215/9215 [==============================] - 30s 3ms/step - loss: 0.2173 - accuracy: 0.9070 - val_loss: 0.2158 - val_accuracy: 0.9076\n",
      "Epoch 90/100\n",
      "9215/9215 [==============================] - 29s 3ms/step - loss: 0.2173 - accuracy: 0.9072 - val_loss: 0.2234 - val_accuracy: 0.9034\n",
      "Epoch 91/100\n",
      "9215/9215 [==============================] - 29s 3ms/step - loss: 0.2167 - accuracy: 0.9072 - val_loss: 0.2193 - val_accuracy: 0.9060\n",
      "Epoch 92/100\n",
      "9215/9215 [==============================] - 29s 3ms/step - loss: 0.2175 - accuracy: 0.9069 - val_loss: 0.2147 - val_accuracy: 0.9083\n",
      "Epoch 93/100\n",
      "9215/9215 [==============================] - 29s 3ms/step - loss: 0.2171 - accuracy: 0.9068 - val_loss: 0.2180 - val_accuracy: 0.9064\n",
      "Epoch 94/100\n",
      "9215/9215 [==============================] - 29s 3ms/step - loss: 0.2165 - accuracy: 0.9074 - val_loss: 0.2215 - val_accuracy: 0.9053\n",
      "Epoch 95/100\n",
      "9215/9215 [==============================] - 29s 3ms/step - loss: 0.2167 - accuracy: 0.9069 - val_loss: 0.2154 - val_accuracy: 0.9079\n",
      "Epoch 96/100\n",
      "9215/9215 [==============================] - 29s 3ms/step - loss: 0.2166 - accuracy: 0.9073 - val_loss: 0.2153 - val_accuracy: 0.9074\n",
      "Epoch 97/100\n",
      "9215/9215 [==============================] - 30s 3ms/step - loss: 0.2168 - accuracy: 0.9071 - val_loss: 0.2456 - val_accuracy: 0.8942\n",
      "Epoch 98/100\n",
      "9215/9215 [==============================] - 29s 3ms/step - loss: 0.2166 - accuracy: 0.9076 - val_loss: 0.2295 - val_accuracy: 0.9008\n",
      "Epoch 99/100\n",
      "9215/9215 [==============================] - 28s 3ms/step - loss: 0.2166 - accuracy: 0.9074 - val_loss: 0.2198 - val_accuracy: 0.9058\n",
      "Epoch 100/100\n",
      "9215/9215 [==============================] - 29s 3ms/step - loss: 0.2160 - accuracy: 0.9076 - val_loss: 0.2233 - val_accuracy: 0.9042\n"
     ]
    },
    {
     "data": {
      "text/plain": [
       "<keras.src.callbacks.History at 0x21fadfcf2d0>"
      ]
     },
     "execution_count": 35,
     "metadata": {},
     "output_type": "execute_result"
    }
   ],
   "source": [
    "ann.fit(x_train7, y_train7, batch_size = 32, epochs=100,\n",
    "          validation_data=(x_test7, y_test7), verbose=1,\n",
    "          callbacks=[early_stop])"
   ]
  },
  {
   "cell_type": "code",
   "execution_count": 36,
   "metadata": {},
   "outputs": [
    {
     "name": "stdout",
     "output_type": "stream",
     "text": [
      "9215/9215 [==============================] - 16s 2ms/step\n",
      "3072/3072 [==============================] - 5s 2ms/step\n",
      "[[0 0]\n",
      " [0 0]\n",
      " [1 0]\n",
      " ...\n",
      " [0 0]\n",
      " [1 1]\n",
      " [1 1]]\n"
     ]
    }
   ],
   "source": [
    "ypred_train7 = ann.predict(x_train7)\n",
    "y_pred_test7 = ann.predict(x_test7)\n",
    "\n",
    "y_pred_test7 = (y_pred_test7 > 0.5)\n",
    "ypred_train7 = (ypred_train7 > 0.5)\n",
    "print(np.concatenate((y_pred_test7.reshape(len(y_pred_test7),1), y_test7.reshape(len(y_test7),1)),1))"
   ]
  },
  {
   "cell_type": "code",
   "execution_count": 37,
   "metadata": {},
   "outputs": [
    {
     "data": {
      "text/plain": [
       "0.9042352965114505"
      ]
     },
     "execution_count": 37,
     "metadata": {},
     "output_type": "execute_result"
    }
   ],
   "source": [
    "accuracy_score(y_test7, y_pred_test7)"
   ]
  },
  {
   "cell_type": "code",
   "execution_count": 38,
   "metadata": {},
   "outputs": [
    {
     "name": "stdout",
     "output_type": "stream",
     "text": [
      "Training Results\n",
      "\n"
     ]
    },
    {
     "name": "stdout",
     "output_type": "stream",
     "text": [
      "              precision    recall  f1-score   support\n",
      "\n",
      "           0       0.91      0.88      0.89    133334\n",
      "           1       0.90      0.93      0.92    161543\n",
      "\n",
      "    accuracy                           0.91    294877\n",
      "   macro avg       0.91      0.90      0.90    294877\n",
      "weighted avg       0.91      0.91      0.91    294877\n",
      "\n"
     ]
    }
   ],
   "source": [
    "print(\"Training Results\\n\")\n",
    "print(classification_report(y_train7, ypred_train7))"
   ]
  },
  {
   "cell_type": "code",
   "execution_count": 39,
   "metadata": {},
   "outputs": [
    {
     "name": "stdout",
     "output_type": "stream",
     "text": [
      "Testing Results\n",
      "\n",
      "              precision    recall  f1-score   support\n",
      "\n",
      "           0       0.91      0.88      0.89     44549\n",
      "           1       0.90      0.93      0.91     53744\n",
      "\n",
      "    accuracy                           0.90     98293\n",
      "   macro avg       0.90      0.90      0.90     98293\n",
      "weighted avg       0.90      0.90      0.90     98293\n",
      "\n"
     ]
    }
   ],
   "source": [
    "print('Testing Results\\n')\n",
    "print(classification_report(y_test7, y_pred_test7))"
   ]
  },
  {
   "cell_type": "code",
   "execution_count": 40,
   "metadata": {},
   "outputs": [
    {
     "name": "stdout",
     "output_type": "stream",
     "text": [
      "3072/3072 [==============================] - 5s 2ms/step\n"
     ]
    },
    {
     "data": {
      "image/png": "[encoded data removed]",
      "text/plain": [
       "<Figure size 640x480 with 1 Axes>"
      ]
     },
     "metadata": {},
     "output_type": "display_data"
    }
   ],
   "source": [
    "# cross_val_scores = cross_val_score(ann, x_train7, y_train7, cv=5)\n",
    "# print(\"Cross-Validation Scores for the Best Model:\", cross_val_scores)\n",
    "# print(\"Average Cross-Validation Score:\", cross_val_scores.mean())\n",
    "\n",
    "y_proba_test = ann.predict(x_test7).flatten()\n",
    "\n",
    "fpr, tpr, thresholds = roc_curve(y_test7, y_proba_test)\n",
    "\n",
    "plt.plot(fpr, tpr, label='ROC Curve')\n",
    "plt.xlabel('False Positive Rate')\n",
    "plt.ylabel('True Positive Rate')\n",
    "plt.title('ROC Curve with AUC = {:.2f}'.format(roc_auc_score(y_test7, y_proba_test)))\n",
    "plt.legend(loc='lower right')\n",
    "plt.grid(True)\n",
    "plt.show()"
   ]
  },
  {
   "cell_type": "markdown",
   "metadata": {},
   "source": [
    "## inne próby sieci neuronowych "
   ]
  },
  {
   "cell_type": "code",
   "execution_count": 41,
   "metadata": {},
   "outputs": [
    {
     "name": "stderr",
     "output_type": "stream",
     "text": [
      "WARNING:absl:`lr` is deprecated in Keras optimizer, please use `learning_rate` or use the legacy optimizer, e.g.,tf.keras.optimizers.legacy.Adam.\n"
     ]
    },
    {
     "name": "stdout",
     "output_type": "stream",
     "text": [
      "Epoch 1/100\n",
      "9215/9215 [==============================] - 28s 3ms/step - loss: 0.3346 - accuracy: 0.8588\n",
      "Epoch 2/100\n",
      "9215/9215 [==============================] - 26s 3ms/step - loss: 0.2782 - accuracy: 0.8830\n",
      "Epoch 3/100\n",
      "9215/9215 [==============================] - 27s 3ms/step - loss: 0.2550 - accuracy: 0.8925\n",
      "Epoch 4/100\n",
      "9215/9215 [==============================] - 26s 3ms/step - loss: 0.2455 - accuracy: 0.8957\n",
      "Epoch 5/100\n",
      "9215/9215 [==============================] - 26s 3ms/step - loss: 0.2409 - accuracy: 0.8976\n",
      "Epoch 6/100\n",
      "9215/9215 [==============================] - 25s 3ms/step - loss: 0.2382 - accuracy: 0.8984\n",
      "Epoch 7/100\n",
      "9215/9215 [==============================] - 25s 3ms/step - loss: 0.2352 - accuracy: 0.8997\n",
      "Epoch 8/100\n",
      "9215/9215 [==============================] - 25s 3ms/step - loss: 0.2336 - accuracy: 0.9006\n",
      "Epoch 9/100\n",
      "9215/9215 [==============================] - 25s 3ms/step - loss: 0.2323 - accuracy: 0.9005\n",
      "Epoch 10/100\n",
      "9215/9215 [==============================] - 26s 3ms/step - loss: 0.2305 - accuracy: 0.9015\n",
      "Epoch 11/100\n",
      "9215/9215 [==============================] - 26s 3ms/step - loss: 0.2300 - accuracy: 0.9017\n",
      "Epoch 12/100\n",
      "9215/9215 [==============================] - 26s 3ms/step - loss: 0.2290 - accuracy: 0.9025\n",
      "Epoch 13/100\n",
      "9215/9215 [==============================] - 25s 3ms/step - loss: 0.2273 - accuracy: 0.9029\n",
      "Epoch 14/100\n",
      "9215/9215 [==============================] - 26s 3ms/step - loss: 0.2253 - accuracy: 0.9034\n",
      "Epoch 15/100\n",
      "9215/9215 [==============================] - 26s 3ms/step - loss: 0.2238 - accuracy: 0.9046\n",
      "Epoch 16/100\n",
      "9215/9215 [==============================] - 26s 3ms/step - loss: 0.2226 - accuracy: 0.9048\n",
      "Epoch 17/100\n",
      "9215/9215 [==============================] - 26s 3ms/step - loss: 0.2221 - accuracy: 0.9049\n",
      "Epoch 18/100\n",
      "9215/9215 [==============================] - 26s 3ms/step - loss: 0.2211 - accuracy: 0.9057\n",
      "Epoch 19/100\n",
      "9215/9215 [==============================] - 25s 3ms/step - loss: 0.2202 - accuracy: 0.9055\n",
      "Epoch 20/100\n",
      "9215/9215 [==============================] - 26s 3ms/step - loss: 0.2196 - accuracy: 0.9060\n",
      "Epoch 21/100\n",
      "9215/9215 [==============================] - 25s 3ms/step - loss: 0.2191 - accuracy: 0.9065\n",
      "Epoch 22/100\n",
      "9215/9215 [==============================] - 26s 3ms/step - loss: 0.2181 - accuracy: 0.9066\n",
      "Epoch 23/100\n",
      "9215/9215 [==============================] - 26s 3ms/step - loss: 0.2184 - accuracy: 0.9063\n",
      "Epoch 24/100\n",
      "9215/9215 [==============================] - 26s 3ms/step - loss: 0.2179 - accuracy: 0.9069\n",
      "Epoch 25/100\n",
      "9215/9215 [==============================] - 25s 3ms/step - loss: 0.2174 - accuracy: 0.9070\n",
      "Epoch 26/100\n",
      "9215/9215 [==============================] - 26s 3ms/step - loss: 0.2162 - accuracy: 0.9073\n",
      "Epoch 27/100\n",
      "9215/9215 [==============================] - 26s 3ms/step - loss: 0.2164 - accuracy: 0.9071\n",
      "Epoch 28/100\n",
      "9215/9215 [==============================] - 26s 3ms/step - loss: 0.2157 - accuracy: 0.9074\n",
      "Epoch 29/100\n",
      "9215/9215 [==============================] - 25s 3ms/step - loss: 0.2154 - accuracy: 0.9078\n",
      "Epoch 30/100\n",
      "9215/9215 [==============================] - 26s 3ms/step - loss: 0.2154 - accuracy: 0.9070\n",
      "Epoch 31/100\n",
      "9215/9215 [==============================] - 26s 3ms/step - loss: 0.2153 - accuracy: 0.9081\n",
      "Epoch 32/100\n",
      "9215/9215 [==============================] - 26s 3ms/step - loss: 0.2152 - accuracy: 0.9075\n",
      "Epoch 33/100\n",
      "9215/9215 [==============================] - 25s 3ms/step - loss: 0.2148 - accuracy: 0.9079\n",
      "Epoch 34/100\n",
      "9215/9215 [==============================] - 26s 3ms/step - loss: 0.2143 - accuracy: 0.9083\n",
      "Epoch 35/100\n",
      "9215/9215 [==============================] - 26s 3ms/step - loss: 0.2140 - accuracy: 0.9085\n",
      "Epoch 36/100\n",
      "9215/9215 [==============================] - 26s 3ms/step - loss: 0.2138 - accuracy: 0.9085\n",
      "Epoch 37/100\n",
      "9215/9215 [==============================] - 25s 3ms/step - loss: 0.2138 - accuracy: 0.9088\n",
      "Epoch 38/100\n",
      "9215/9215 [==============================] - 25s 3ms/step - loss: 0.2137 - accuracy: 0.9085\n",
      "Epoch 39/100\n",
      "9215/9215 [==============================] - 26s 3ms/step - loss: 0.2132 - accuracy: 0.9088\n",
      "Epoch 40/100\n",
      "9215/9215 [==============================] - 26s 3ms/step - loss: 0.2128 - accuracy: 0.9086\n",
      "Epoch 41/100\n",
      "9215/9215 [==============================] - 26s 3ms/step - loss: 0.2124 - accuracy: 0.9088\n",
      "Epoch 42/100\n",
      "9215/9215 [==============================] - 25s 3ms/step - loss: 0.2120 - accuracy: 0.9090\n",
      "Epoch 43/100\n",
      "9215/9215 [==============================] - 26s 3ms/step - loss: 0.2119 - accuracy: 0.9093\n",
      "Epoch 44/100\n",
      "9215/9215 [==============================] - 25s 3ms/step - loss: 0.2119 - accuracy: 0.9092\n",
      "Epoch 45/100\n",
      "9215/9215 [==============================] - 25s 3ms/step - loss: 0.2114 - accuracy: 0.9097\n",
      "Epoch 46/100\n",
      "9215/9215 [==============================] - 25s 3ms/step - loss: 0.2115 - accuracy: 0.9093\n",
      "Epoch 47/100\n",
      "9215/9215 [==============================] - 25s 3ms/step - loss: 0.2112 - accuracy: 0.9090\n",
      "Epoch 48/100\n",
      "9215/9215 [==============================] - 25s 3ms/step - loss: 0.2107 - accuracy: 0.9094\n",
      "Epoch 49/100\n",
      "9215/9215 [==============================] - 24s 3ms/step - loss: 0.2106 - accuracy: 0.9099\n",
      "Epoch 50/100\n",
      "9215/9215 [==============================] - 24s 3ms/step - loss: 0.2103 - accuracy: 0.9096\n",
      "Epoch 51/100\n",
      "9215/9215 [==============================] - 23s 2ms/step - loss: 0.2094 - accuracy: 0.9101\n",
      "Epoch 52/100\n",
      "9215/9215 [==============================] - 23s 2ms/step - loss: 0.2096 - accuracy: 0.9099\n",
      "Epoch 53/100\n",
      "9215/9215 [==============================] - 23s 3ms/step - loss: 0.2090 - accuracy: 0.9105\n",
      "Epoch 54/100\n",
      "9215/9215 [==============================] - 22s 2ms/step - loss: 0.2085 - accuracy: 0.9106\n",
      "Epoch 55/100\n",
      "9215/9215 [==============================] - 22s 2ms/step - loss: 0.2082 - accuracy: 0.9107\n",
      "Epoch 56/100\n",
      "9215/9215 [==============================] - 22s 2ms/step - loss: 0.2080 - accuracy: 0.9108\n",
      "Epoch 57/100\n",
      "9215/9215 [==============================] - 22s 2ms/step - loss: 0.2074 - accuracy: 0.9113\n",
      "Epoch 58/100\n",
      "9215/9215 [==============================] - 22s 2ms/step - loss: 0.2073 - accuracy: 0.9108\n",
      "Epoch 59/100\n",
      "9215/9215 [==============================] - 22s 2ms/step - loss: 0.2069 - accuracy: 0.9110\n",
      "Epoch 60/100\n",
      "9215/9215 [==============================] - 23s 2ms/step - loss: 0.2064 - accuracy: 0.9110\n",
      "Epoch 61/100\n",
      "9215/9215 [==============================] - 24s 3ms/step - loss: 0.2063 - accuracy: 0.9113\n",
      "Epoch 62/100\n",
      "9215/9215 [==============================] - 24s 3ms/step - loss: 0.2057 - accuracy: 0.9116\n",
      "Epoch 63/100\n",
      "9215/9215 [==============================] - 23s 3ms/step - loss: 0.2058 - accuracy: 0.9116\n",
      "Epoch 64/100\n",
      "9215/9215 [==============================] - 24s 3ms/step - loss: 0.2056 - accuracy: 0.9115\n",
      "Epoch 65/100\n",
      "9215/9215 [==============================] - 23s 3ms/step - loss: 0.2052 - accuracy: 0.9120\n",
      "Epoch 66/100\n",
      "9215/9215 [==============================] - 23s 2ms/step - loss: 0.2052 - accuracy: 0.9113\n",
      "Epoch 67/100\n",
      "9215/9215 [==============================] - 23s 2ms/step - loss: 0.2051 - accuracy: 0.9118\n",
      "Epoch 68/100\n",
      "9215/9215 [==============================] - 23s 2ms/step - loss: 0.2047 - accuracy: 0.9115\n",
      "Epoch 69/100\n",
      "9215/9215 [==============================] - 23s 3ms/step - loss: 0.2051 - accuracy: 0.9111\n",
      "Epoch 70/100\n",
      "9215/9215 [==============================] - 23s 3ms/step - loss: 0.2046 - accuracy: 0.9120\n",
      "Epoch 71/100\n",
      "9215/9215 [==============================] - 23s 2ms/step - loss: 0.2048 - accuracy: 0.9117\n",
      "Epoch 72/100\n",
      "9215/9215 [==============================] - 22s 2ms/step - loss: 0.2045 - accuracy: 0.9119\n",
      "Epoch 73/100\n",
      "9215/9215 [==============================] - 23s 2ms/step - loss: 0.2041 - accuracy: 0.9121\n",
      "Epoch 74/100\n",
      "9215/9215 [==============================] - 23s 3ms/step - loss: 0.2041 - accuracy: 0.9117\n",
      "Epoch 75/100\n",
      "9215/9215 [==============================] - 22s 2ms/step - loss: 0.2038 - accuracy: 0.9116\n",
      "Epoch 76/100\n",
      "9215/9215 [==============================] - 23s 3ms/step - loss: 0.2039 - accuracy: 0.9115\n",
      "Epoch 77/100\n",
      "9215/9215 [==============================] - 23s 2ms/step - loss: 0.2032 - accuracy: 0.9118\n",
      "Epoch 78/100\n",
      "9215/9215 [==============================] - 23s 2ms/step - loss: 0.2034 - accuracy: 0.9121\n",
      "Epoch 79/100\n",
      "9215/9215 [==============================] - 22s 2ms/step - loss: 0.2033 - accuracy: 0.9124\n",
      "Epoch 80/100\n",
      "9215/9215 [==============================] - 22s 2ms/step - loss: 0.2027 - accuracy: 0.9125\n",
      "Epoch 81/100\n",
      "9215/9215 [==============================] - 23s 2ms/step - loss: 0.2031 - accuracy: 0.9127\n",
      "Epoch 82/100\n",
      "9215/9215 [==============================] - 22s 2ms/step - loss: 0.2027 - accuracy: 0.9124\n",
      "Epoch 83/100\n",
      "9215/9215 [==============================] - 23s 2ms/step - loss: 0.2029 - accuracy: 0.9125\n",
      "Epoch 84/100\n",
      "9215/9215 [==============================] - 23s 2ms/step - loss: 0.2026 - accuracy: 0.9126\n",
      "Epoch 85/100\n",
      "9215/9215 [==============================] - 23s 2ms/step - loss: 0.2022 - accuracy: 0.9127\n",
      "Epoch 86/100\n",
      "9215/9215 [==============================] - 23s 2ms/step - loss: 0.2027 - accuracy: 0.9126\n",
      "Epoch 87/100\n",
      "9215/9215 [==============================] - 23s 2ms/step - loss: 0.2022 - accuracy: 0.9130\n",
      "Epoch 88/100\n",
      "9215/9215 [==============================] - 22s 2ms/step - loss: 0.2025 - accuracy: 0.9126\n",
      "Epoch 89/100\n",
      "9215/9215 [==============================] - 24s 3ms/step - loss: 0.2025 - accuracy: 0.9124\n",
      "Epoch 90/100\n",
      "9215/9215 [==============================] - 23s 2ms/step - loss: 0.2026 - accuracy: 0.9123\n",
      "Epoch 91/100\n",
      "9215/9215 [==============================] - 22s 2ms/step - loss: 0.2020 - accuracy: 0.9128\n",
      "Epoch 92/100\n",
      "9215/9215 [==============================] - 24s 3ms/step - loss: 0.2025 - accuracy: 0.9128\n",
      "Epoch 93/100\n",
      "9215/9215 [==============================] - 22s 2ms/step - loss: 0.2019 - accuracy: 0.9130\n",
      "Epoch 94/100\n",
      "9215/9215 [==============================] - 22s 2ms/step - loss: 0.2014 - accuracy: 0.9131\n",
      "Epoch 95/100\n",
      "9215/9215 [==============================] - 23s 2ms/step - loss: 0.2017 - accuracy: 0.9131\n",
      "Epoch 96/100\n",
      "9215/9215 [==============================] - 22s 2ms/step - loss: 0.2017 - accuracy: 0.9132\n",
      "Epoch 97/100\n",
      "9215/9215 [==============================] - 23s 3ms/step - loss: 0.2018 - accuracy: 0.9131\n",
      "Epoch 98/100\n",
      "9215/9215 [==============================] - 23s 2ms/step - loss: 0.2017 - accuracy: 0.9128\n",
      "Epoch 99/100\n",
      "9215/9215 [==============================] - 23s 3ms/step - loss: 0.2020 - accuracy: 0.9128\n",
      "Epoch 100/100\n",
      "9215/9215 [==============================] - 23s 2ms/step - loss: 0.2017 - accuracy: 0.9128\n"
     ]
    }
   ],
   "source": [
    "\n",
    "tf.random.set_seed(42)\n",
    "\n",
    "\n",
    "model_2 = tf.keras.Sequential([\n",
    "  tf.keras.layers.Dense(16,activation = 'relu'),\n",
    "  tf.keras.layers.Dense(6,activation = 'relu'),\n",
    "  tf.keras.layers.Dense(6,activation = 'relu'),\n",
    "  tf.keras.layers.Dense(1,activation = 'sigmoid')                            \n",
    "])\n",
    "\n",
    "\n",
    "model_2.compile(loss = 'binary_crossentropy',\n",
    "                optimizer = tf.keras.optimizers.Adam(lr=0.001),\n",
    "                metrics = ['accuracy'])\n",
    "\n",
    "\n",
    "history_2 = model_2.fit(x_train7,y_train7,epochs = 100)"
   ]
  },
  {
   "cell_type": "code",
   "execution_count": 42,
   "metadata": {},
   "outputs": [
    {
     "name": "stdout",
     "output_type": "stream",
     "text": [
      "3072/3072 [==============================] - 6s 2ms/step - loss: 0.2030 - accuracy: 0.9114\n"
     ]
    },
    {
     "data": {
      "text/plain": [
       "[0.20298171043395996, 0.9113568663597107]"
      ]
     },
     "execution_count": 42,
     "metadata": {},
     "output_type": "execute_result"
    }
   ],
   "source": [
    "model_2.evaluate(x_test7,y_test7)"
   ]
  },
  {
   "cell_type": "code",
   "execution_count": 43,
   "metadata": {},
   "outputs": [
    {
     "name": "stdout",
     "output_type": "stream",
     "text": [
      "9215/9215 [==============================] - 16s 2ms/step\n",
      "3072/3072 [==============================] - 6s 2ms/step\n",
      "              precision    recall  f1-score   support\n",
      "\n",
      "           0       0.89      0.92      0.91    133334\n",
      "           1       0.93      0.91      0.92    161543\n",
      "\n",
      "    accuracy                           0.91    294877\n",
      "   macro avg       0.91      0.91      0.91    294877\n",
      "weighted avg       0.91      0.91      0.91    294877\n",
      "\n",
      "              precision    recall  f1-score   support\n",
      "\n",
      "           0       0.89      0.92      0.90     44549\n",
      "           1       0.93      0.91      0.92     53744\n",
      "\n",
      "    accuracy                           0.91     98293\n",
      "   macro avg       0.91      0.91      0.91     98293\n",
      "weighted avg       0.91      0.91      0.91     98293\n",
      "\n"
     ]
    }
   ],
   "source": [
    "ypred_train10 = model_2.predict(x_train7)\n",
    "y_pred_test10 = model_2.predict(x_test7)\n",
    "\n",
    "y_pred_test10 = (y_pred_test10 > 0.5)\n",
    "ypred_train10 = (ypred_train10 > 0.5)\n",
    "\n",
    "print(classification_report(y_train7,ypred_train10))\n",
    "print(classification_report(y_test7,y_pred_test10))"
   ]
  },
  {
   "cell_type": "code",
   "execution_count": 44,
   "metadata": {},
   "outputs": [
    {
     "name": "stdout",
     "output_type": "stream",
     "text": [
      "3072/3072 [==============================] - 6s 2ms/step\n"
     ]
    },
    {
     "data": {
      "image/png": "[encoded data removed]",
      "text/plain": [
       "<Figure size 640x480 with 1 Axes>"
      ]
     },
     "metadata": {},
     "output_type": "display_data"
    }
   ],
   "source": [
    "# cross_val_scores = cross_val_score(model_2, x_train7, y_train7, cv=5)\n",
    "# print(\"Cross-Validation Scores for the Best Model:\", cross_val_scores)\n",
    "# print(\"Average Cross-Validation Score:\", cross_val_scores.mean())\n",
    "\n",
    "y_proba_test = model_2.predict(x_test7).flatten()\n",
    "\n",
    "fpr, tpr, thresholds = roc_curve(y_test7, y_proba_test)\n",
    "\n",
    "plt.plot(fpr, tpr, label='ROC Curve')\n",
    "plt.xlabel('False Positive Rate')\n",
    "plt.ylabel('True Positive Rate')\n",
    "plt.title('ROC Curve with AUC = {:.2f}'.format(roc_auc_score(y_test7, y_proba_test)))\n",
    "plt.legend(loc='lower right')\n",
    "plt.grid(True)\n",
    "plt.show()"
   ]
  },
  {
   "cell_type": "markdown",
   "metadata": {},
   "source": [
    "## inna proba "
   ]
  },
  {
   "cell_type": "code",
   "execution_count": 45,
   "metadata": {},
   "outputs": [
    {
     "name": "stderr",
     "output_type": "stream",
     "text": [
      "WARNING:absl:`lr` is deprecated in Keras optimizer, please use `learning_rate` or use the legacy optimizer, e.g.,tf.keras.optimizers.legacy.Adam.\n"
     ]
    },
    {
     "name": "stdout",
     "output_type": "stream",
     "text": [
      "Epoch 1/100\n",
      "9215/9215 [==============================] - 26s 3ms/step - loss: 0.3115 - accuracy: 0.8679\n",
      "Epoch 2/100\n",
      "9215/9215 [==============================] - 24s 3ms/step - loss: 0.2587 - accuracy: 0.8910\n",
      "Epoch 3/100\n",
      "9215/9215 [==============================] - 24s 3ms/step - loss: 0.2439 - accuracy: 0.8964\n",
      "Epoch 4/100\n",
      "9215/9215 [==============================] - 23s 3ms/step - loss: 0.2364 - accuracy: 0.8993\n",
      "Epoch 5/100\n",
      "9215/9215 [==============================] - 24s 3ms/step - loss: 0.2311 - accuracy: 0.9009\n",
      "Epoch 6/100\n",
      "9215/9215 [==============================] - 23s 2ms/step - loss: 0.2270 - accuracy: 0.9026\n",
      "Epoch 7/100\n",
      "9215/9215 [==============================] - 21s 2ms/step - loss: 0.2220 - accuracy: 0.9048\n",
      "Epoch 8/100\n",
      "9215/9215 [==============================] - 20s 2ms/step - loss: 0.2199 - accuracy: 0.9053\n",
      "Epoch 9/100\n",
      "9215/9215 [==============================] - 21s 2ms/step - loss: 0.2184 - accuracy: 0.9059\n",
      "Epoch 10/100\n",
      "9215/9215 [==============================] - 21s 2ms/step - loss: 0.2169 - accuracy: 0.9066\n",
      "Epoch 11/100\n",
      "9215/9215 [==============================] - 21s 2ms/step - loss: 0.2161 - accuracy: 0.9070\n",
      "Epoch 12/100\n",
      "9215/9215 [==============================] - 21s 2ms/step - loss: 0.2161 - accuracy: 0.9071\n",
      "Epoch 13/100\n",
      "9215/9215 [==============================] - 21s 2ms/step - loss: 0.2143 - accuracy: 0.9078\n",
      "Epoch 14/100\n",
      "9215/9215 [==============================] - 20s 2ms/step - loss: 0.2136 - accuracy: 0.9077\n",
      "Epoch 15/100\n",
      "9215/9215 [==============================] - 20s 2ms/step - loss: 0.2135 - accuracy: 0.9082\n",
      "Epoch 16/100\n",
      "9215/9215 [==============================] - 20s 2ms/step - loss: 0.2128 - accuracy: 0.9082\n",
      "Epoch 17/100\n",
      "9215/9215 [==============================] - 19s 2ms/step - loss: 0.2117 - accuracy: 0.9090\n",
      "Epoch 18/100\n",
      "9215/9215 [==============================] - 19s 2ms/step - loss: 0.2109 - accuracy: 0.9095\n",
      "Epoch 19/100\n",
      "9215/9215 [==============================] - 17s 2ms/step - loss: 0.2109 - accuracy: 0.9091\n",
      "Epoch 20/100\n",
      "9215/9215 [==============================] - 17s 2ms/step - loss: 0.2109 - accuracy: 0.9097\n",
      "Epoch 21/100\n",
      "9215/9215 [==============================] - 17s 2ms/step - loss: 0.2104 - accuracy: 0.9098\n",
      "Epoch 22/100\n",
      "9215/9215 [==============================] - 17s 2ms/step - loss: 0.2092 - accuracy: 0.9103\n",
      "Epoch 23/100\n",
      "9215/9215 [==============================] - 17s 2ms/step - loss: 0.2083 - accuracy: 0.9108\n",
      "Epoch 24/100\n",
      "9215/9215 [==============================] - 17s 2ms/step - loss: 0.2085 - accuracy: 0.9110\n",
      "Epoch 25/100\n",
      "9215/9215 [==============================] - 17s 2ms/step - loss: 0.2082 - accuracy: 0.9107\n",
      "Epoch 26/100\n",
      "9215/9215 [==============================] - 17s 2ms/step - loss: 0.2080 - accuracy: 0.9111\n",
      "Epoch 27/100\n",
      "9215/9215 [==============================] - 17s 2ms/step - loss: 0.2075 - accuracy: 0.9109\n",
      "Epoch 28/100\n",
      "9215/9215 [==============================] - 17s 2ms/step - loss: 0.2072 - accuracy: 0.9110\n",
      "Epoch 29/100\n",
      "9215/9215 [==============================] - 17s 2ms/step - loss: 0.2072 - accuracy: 0.9114\n",
      "Epoch 30/100\n",
      "9215/9215 [==============================] - 17s 2ms/step - loss: 0.2066 - accuracy: 0.9113\n",
      "Epoch 31/100\n",
      "9215/9215 [==============================] - 17s 2ms/step - loss: 0.2062 - accuracy: 0.9119\n",
      "Epoch 32/100\n",
      "9215/9215 [==============================] - 16s 2ms/step - loss: 0.2062 - accuracy: 0.9117\n",
      "Epoch 33/100\n",
      "9215/9215 [==============================] - 17s 2ms/step - loss: 0.2058 - accuracy: 0.9122\n",
      "Epoch 34/100\n",
      "9215/9215 [==============================] - 17s 2ms/step - loss: 0.2054 - accuracy: 0.9121\n",
      "Epoch 35/100\n",
      "9215/9215 [==============================] - 16s 2ms/step - loss: 0.2053 - accuracy: 0.9121\n",
      "Epoch 36/100\n",
      "9215/9215 [==============================] - 17s 2ms/step - loss: 0.2051 - accuracy: 0.9124\n",
      "Epoch 37/100\n",
      "9215/9215 [==============================] - 17s 2ms/step - loss: 0.2050 - accuracy: 0.9123\n",
      "Epoch 38/100\n",
      "9215/9215 [==============================] - 16s 2ms/step - loss: 0.2046 - accuracy: 0.9125\n",
      "Epoch 39/100\n",
      "9215/9215 [==============================] - 16s 2ms/step - loss: 0.2044 - accuracy: 0.9121\n",
      "Epoch 40/100\n",
      "9215/9215 [==============================] - 17s 2ms/step - loss: 0.2044 - accuracy: 0.9127\n",
      "Epoch 41/100\n",
      "9215/9215 [==============================] - 17s 2ms/step - loss: 0.2042 - accuracy: 0.9127\n",
      "Epoch 42/100\n",
      "9215/9215 [==============================] - 16s 2ms/step - loss: 0.2044 - accuracy: 0.9126\n",
      "Epoch 43/100\n",
      "9215/9215 [==============================] - 16s 2ms/step - loss: 0.2041 - accuracy: 0.9126\n",
      "Epoch 44/100\n",
      "9215/9215 [==============================] - 17s 2ms/step - loss: 0.2039 - accuracy: 0.9124\n",
      "Epoch 45/100\n",
      "9215/9215 [==============================] - 16s 2ms/step - loss: 0.2035 - accuracy: 0.9128\n",
      "Epoch 46/100\n",
      "9215/9215 [==============================] - 16s 2ms/step - loss: 0.2035 - accuracy: 0.9132\n",
      "Epoch 47/100\n",
      "9215/9215 [==============================] - 16s 2ms/step - loss: 0.2036 - accuracy: 0.9129\n",
      "Epoch 48/100\n",
      "9215/9215 [==============================] - 17s 2ms/step - loss: 0.2037 - accuracy: 0.9129\n",
      "Epoch 49/100\n",
      "9215/9215 [==============================] - 16s 2ms/step - loss: 0.2029 - accuracy: 0.9133\n",
      "Epoch 50/100\n",
      "9215/9215 [==============================] - 16s 2ms/step - loss: 0.2032 - accuracy: 0.9128\n",
      "Epoch 51/100\n",
      "9215/9215 [==============================] - 16s 2ms/step - loss: 0.2028 - accuracy: 0.9132\n",
      "Epoch 52/100\n",
      "9215/9215 [==============================] - 17s 2ms/step - loss: 0.2032 - accuracy: 0.9129\n",
      "Epoch 53/100\n",
      "9215/9215 [==============================] - 16s 2ms/step - loss: 0.2030 - accuracy: 0.9130\n",
      "Epoch 54/100\n",
      "9215/9215 [==============================] - 17s 2ms/step - loss: 0.2023 - accuracy: 0.9138\n",
      "Epoch 55/100\n",
      "9215/9215 [==============================] - 16s 2ms/step - loss: 0.2022 - accuracy: 0.9134\n",
      "Epoch 56/100\n",
      "9215/9215 [==============================] - 17s 2ms/step - loss: 0.2024 - accuracy: 0.9132\n",
      "Epoch 57/100\n",
      "9215/9215 [==============================] - 16s 2ms/step - loss: 0.2021 - accuracy: 0.9140\n",
      "Epoch 58/100\n",
      "9215/9215 [==============================] - 17s 2ms/step - loss: 0.2021 - accuracy: 0.9134\n",
      "Epoch 59/100\n",
      "9215/9215 [==============================] - 16s 2ms/step - loss: 0.2015 - accuracy: 0.9138\n",
      "Epoch 60/100\n",
      "9215/9215 [==============================] - 17s 2ms/step - loss: 0.2015 - accuracy: 0.9137\n",
      "Epoch 61/100\n",
      "9215/9215 [==============================] - 16s 2ms/step - loss: 0.2023 - accuracy: 0.9133\n",
      "Epoch 62/100\n",
      "9215/9215 [==============================] - 17s 2ms/step - loss: 0.2013 - accuracy: 0.9142\n",
      "Epoch 63/100\n",
      "9215/9215 [==============================] - 17s 2ms/step - loss: 0.2012 - accuracy: 0.9140\n",
      "Epoch 64/100\n",
      "9215/9215 [==============================] - 17s 2ms/step - loss: 0.2013 - accuracy: 0.9139\n",
      "Epoch 65/100\n",
      "9215/9215 [==============================] - 17s 2ms/step - loss: 0.2010 - accuracy: 0.9142\n",
      "Epoch 66/100\n",
      "9215/9215 [==============================] - 17s 2ms/step - loss: 0.2013 - accuracy: 0.9138\n",
      "Epoch 67/100\n",
      "9215/9215 [==============================] - 17s 2ms/step - loss: 0.2006 - accuracy: 0.9144\n",
      "Epoch 68/100\n",
      "9215/9215 [==============================] - 17s 2ms/step - loss: 0.2005 - accuracy: 0.9144\n",
      "Epoch 69/100\n",
      "9215/9215 [==============================] - 17s 2ms/step - loss: 0.2011 - accuracy: 0.9138\n",
      "Epoch 70/100\n",
      "9215/9215 [==============================] - 17s 2ms/step - loss: 0.2010 - accuracy: 0.9142\n",
      "Epoch 71/100\n",
      "9215/9215 [==============================] - 17s 2ms/step - loss: 0.2010 - accuracy: 0.9141\n",
      "Epoch 72/100\n",
      "9215/9215 [==============================] - 17s 2ms/step - loss: 0.2004 - accuracy: 0.9147\n",
      "Epoch 73/100\n",
      "9215/9215 [==============================] - 17s 2ms/step - loss: 0.2004 - accuracy: 0.9144\n",
      "Epoch 74/100\n",
      "9215/9215 [==============================] - 17s 2ms/step - loss: 0.2004 - accuracy: 0.9143\n",
      "Epoch 75/100\n",
      "9215/9215 [==============================] - 17s 2ms/step - loss: 0.2003 - accuracy: 0.9145\n",
      "Epoch 76/100\n",
      "9215/9215 [==============================] - 17s 2ms/step - loss: 0.2002 - accuracy: 0.9145\n",
      "Epoch 77/100\n",
      "9215/9215 [==============================] - 16s 2ms/step - loss: 0.1997 - accuracy: 0.9149\n",
      "Epoch 78/100\n",
      "9215/9215 [==============================] - 16s 2ms/step - loss: 0.1999 - accuracy: 0.9149\n",
      "Epoch 79/100\n",
      "9215/9215 [==============================] - 16s 2ms/step - loss: 0.1997 - accuracy: 0.9149\n",
      "Epoch 80/100\n",
      "9215/9215 [==============================] - 16s 2ms/step - loss: 0.1999 - accuracy: 0.9147\n",
      "Epoch 81/100\n",
      "9215/9215 [==============================] - 16s 2ms/step - loss: 0.1996 - accuracy: 0.9149\n",
      "Epoch 82/100\n",
      "9215/9215 [==============================] - 16s 2ms/step - loss: 0.1996 - accuracy: 0.9148\n",
      "Epoch 83/100\n",
      "9215/9215 [==============================] - 16s 2ms/step - loss: 0.1998 - accuracy: 0.9145\n",
      "Epoch 84/100\n",
      "9215/9215 [==============================] - 16s 2ms/step - loss: 0.1991 - accuracy: 0.9154\n",
      "Epoch 85/100\n",
      "9215/9215 [==============================] - 16s 2ms/step - loss: 0.1998 - accuracy: 0.9146\n",
      "Epoch 86/100\n",
      "9215/9215 [==============================] - 16s 2ms/step - loss: 0.1995 - accuracy: 0.9145\n",
      "Epoch 87/100\n",
      "9215/9215 [==============================] - 16s 2ms/step - loss: 0.1993 - accuracy: 0.9146\n",
      "Epoch 88/100\n",
      "9215/9215 [==============================] - 16s 2ms/step - loss: 0.1994 - accuracy: 0.9148\n",
      "Epoch 89/100\n",
      "9215/9215 [==============================] - 16s 2ms/step - loss: 0.1990 - accuracy: 0.9149\n",
      "Epoch 90/100\n",
      "9215/9215 [==============================] - 15s 2ms/step - loss: 0.1988 - accuracy: 0.9149\n",
      "Epoch 91/100\n",
      "9215/9215 [==============================] - 15s 2ms/step - loss: 0.1996 - accuracy: 0.9144\n",
      "Epoch 92/100\n",
      "9215/9215 [==============================] - 15s 2ms/step - loss: 0.1991 - accuracy: 0.9152\n",
      "Epoch 93/100\n",
      "9215/9215 [==============================] - 16s 2ms/step - loss: 0.1990 - accuracy: 0.9149\n",
      "Epoch 94/100\n",
      "9215/9215 [==============================] - 16s 2ms/step - loss: 0.1986 - accuracy: 0.9149\n",
      "Epoch 95/100\n",
      "9215/9215 [==============================] - 16s 2ms/step - loss: 0.1994 - accuracy: 0.9149\n",
      "Epoch 96/100\n",
      "9215/9215 [==============================] - 16s 2ms/step - loss: 0.1990 - accuracy: 0.9154\n",
      "Epoch 97/100\n",
      "9215/9215 [==============================] - 16s 2ms/step - loss: 0.1992 - accuracy: 0.9147\n",
      "Epoch 98/100\n",
      "9215/9215 [==============================] - 15s 2ms/step - loss: 0.1985 - accuracy: 0.9155\n",
      "Epoch 99/100\n",
      "9215/9215 [==============================] - 15s 2ms/step - loss: 0.1984 - accuracy: 0.9151\n",
      "Epoch 100/100\n",
      "9215/9215 [==============================] - 15s 2ms/step - loss: 0.1986 - accuracy: 0.9151\n"
     ]
    }
   ],
   "source": [
    "\n",
    "tf.random.set_seed(42)\n",
    "\n",
    "\n",
    "model_22 = tf.keras.Sequential([\n",
    "  tf.keras.layers.Dense(16,activation = 'relu'),\n",
    "  tf.keras.layers.Dense(32,activation = 'relu'),\n",
    "  tf.keras.layers.Dense(16,activation = 'relu'),\n",
    "  tf.keras.layers.Dense(9,activation = 'relu'),\n",
    "  tf.keras.layers.Dense(1,activation = 'sigmoid')                            \n",
    "])\n",
    "\n",
    "\n",
    "model_22.compile(loss = 'binary_crossentropy',\n",
    "                optimizer = tf.keras.optimizers.Adam(lr=0.001),\n",
    "                metrics = ['accuracy'])\n",
    "\n",
    "\n",
    "history_2 = model_22.fit(x_train7,y_train7,epochs = 100)"
   ]
  },
  {
   "cell_type": "code",
   "execution_count": 46,
   "metadata": {},
   "outputs": [
    {
     "name": "stdout",
     "output_type": "stream",
     "text": [
      "3072/3072 [==============================] - 4s 1ms/step - loss: 0.2005 - accuracy: 0.9137\n"
     ]
    },
    {
     "data": {
      "text/plain": [
       "[0.20054839551448822, 0.913727343082428]"
      ]
     },
     "execution_count": 46,
     "metadata": {},
     "output_type": "execute_result"
    }
   ],
   "source": [
    "model_22.evaluate(x_test7,y_test7)"
   ]
  },
  {
   "cell_type": "code",
   "execution_count": 47,
   "metadata": {},
   "outputs": [
    {
     "name": "stdout",
     "output_type": "stream",
     "text": [
      "9215/9215 [==============================] - 12s 1ms/step\n",
      "3072/3072 [==============================] - 4s 1ms/step\n",
      "              precision    recall  f1-score   support\n",
      "\n",
      "           0       0.90      0.92      0.91    133334\n",
      "           1       0.93      0.91      0.92    161543\n",
      "\n",
      "    accuracy                           0.92    294877\n",
      "   macro avg       0.92      0.92      0.92    294877\n",
      "weighted avg       0.92      0.92      0.92    294877\n",
      "\n",
      "              precision    recall  f1-score   support\n",
      "\n",
      "           0       0.90      0.92      0.91     44549\n",
      "           1       0.93      0.91      0.92     53744\n",
      "\n",
      "    accuracy                           0.91     98293\n",
      "   macro avg       0.91      0.91      0.91     98293\n",
      "weighted avg       0.91      0.91      0.91     98293\n",
      "\n"
     ]
    }
   ],
   "source": [
    "ypred_train22 = model_22.predict(x_train7)\n",
    "y_pred_test22 = model_22.predict(x_test7)\n",
    "\n",
    "y_pred_test22 = (y_pred_test22 > 0.5)\n",
    "ypred_train22 = (ypred_train22 > 0.5)\n",
    "\n",
    "print(classification_report(y_train7,ypred_train22))\n",
    "print(classification_report(y_test7,y_pred_test22))"
   ]
  },
  {
   "cell_type": "code",
   "execution_count": 48,
   "metadata": {},
   "outputs": [
    {
     "name": "stdout",
     "output_type": "stream",
     "text": [
      "3072/3072 [==============================] - 4s 1ms/step\n"
     ]
    },
    {
     "data": {
      "image/png": "[encoded data removed]",
      "text/plain": [
       "<Figure size 640x480 with 1 Axes>"
      ]
     },
     "metadata": {},
     "output_type": "display_data"
    }
   ],
   "source": [
    "# cross_val_scores = cross_val_score(model_22, x_train7, y_train7, cv=5)\n",
    "# print(\"Cross-Validation Scores for the Best Model:\", cross_val_scores)\n",
    "# print(\"Average Cross-Validation Score:\", cross_val_scores.mean())\n",
    "\n",
    "y_proba_test = model_22.predict(x_test7).flatten()\n",
    "\n",
    "fpr, tpr, thresholds = roc_curve(y_test7, y_proba_test)\n",
    "\n",
    "plt.plot(fpr, tpr, label='ROC Curve')\n",
    "plt.xlabel('False Positive Rate')\n",
    "plt.ylabel('True Positive Rate')\n",
    "plt.title('ROC Curve with AUC = {:.2f}'.format(roc_auc_score(y_test7, y_proba_test)))\n",
    "plt.legend(loc='lower right')\n",
    "plt.grid(True)\n",
    "plt.show()"
   ]
  },
  {
   "cell_type": "markdown",
   "metadata": {},
   "source": [
    "## inne próby sieci neuronowych "
   ]
  },
  {
   "cell_type": "code",
   "execution_count": 49,
   "metadata": {},
   "outputs": [],
   "source": [
    "model1 = Sequential()\n",
    "model1.add(Dense(units=16,activation='relu'))\n",
    "model1.add(Dropout(0.5))\n",
    "\n",
    "model1.add(Dense(units=15,activation='relu'))\n",
    "model1.add(Dropout(0.5))\n",
    "\n",
    "model1.add(Dense(units=1,activation='sigmoid'))\n",
    "model1.compile(loss='binary_crossentropy', optimizer='adam')"
   ]
  },
  {
   "cell_type": "code",
   "execution_count": 50,
   "metadata": {},
   "outputs": [
    {
     "name": "stdout",
     "output_type": "stream",
     "text": [
      "Epoch 1/100\n",
      "9215/9215 [==============================] - 20s 2ms/step - loss: 0.4385 - val_loss: 0.3479\n",
      "Epoch 2/100\n",
      "9215/9215 [==============================] - 19s 2ms/step - loss: 0.3977 - val_loss: 0.3417\n",
      "Epoch 3/100\n",
      "9215/9215 [==============================] - 19s 2ms/step - loss: 0.3915 - val_loss: 0.3415\n",
      "Epoch 4/100\n",
      "9215/9215 [==============================] - 19s 2ms/step - loss: 0.3890 - val_loss: 0.3436\n",
      "Epoch 5/100\n",
      "9215/9215 [==============================] - 18s 2ms/step - loss: 0.3867 - val_loss: 0.3394\n",
      "Epoch 6/100\n",
      "9215/9215 [==============================] - 18s 2ms/step - loss: 0.3858 - val_loss: 0.3396\n",
      "Epoch 7/100\n",
      "9215/9215 [==============================] - 19s 2ms/step - loss: 0.3847 - val_loss: 0.3411\n",
      "Epoch 8/100\n",
      "9215/9215 [==============================] - 19s 2ms/step - loss: 0.3841 - val_loss: 0.3375\n",
      "Epoch 9/100\n",
      "9215/9215 [==============================] - 19s 2ms/step - loss: 0.3839 - val_loss: 0.3375\n",
      "Epoch 10/100\n",
      "9215/9215 [==============================] - 19s 2ms/step - loss: 0.3833 - val_loss: 0.3376\n",
      "Epoch 11/100\n",
      "9215/9215 [==============================] - 18s 2ms/step - loss: 0.3830 - val_loss: 0.3371\n",
      "Epoch 12/100\n",
      "9215/9215 [==============================] - 18s 2ms/step - loss: 0.3825 - val_loss: 0.3384\n",
      "Epoch 13/100\n",
      "9215/9215 [==============================] - 18s 2ms/step - loss: 0.3815 - val_loss: 0.3387\n",
      "Epoch 14/100\n",
      "9215/9215 [==============================] - 18s 2ms/step - loss: 0.3821 - val_loss: 0.3389\n",
      "Epoch 15/100\n",
      "9215/9215 [==============================] - 19s 2ms/step - loss: 0.3809 - val_loss: 0.3365\n",
      "Epoch 16/100\n",
      "9215/9215 [==============================] - 19s 2ms/step - loss: 0.3817 - val_loss: 0.3390\n",
      "Epoch 17/100\n",
      "9215/9215 [==============================] - 18s 2ms/step - loss: 0.3813 - val_loss: 0.3380\n",
      "Epoch 18/100\n",
      "9215/9215 [==============================] - 18s 2ms/step - loss: 0.3810 - val_loss: 0.3360\n",
      "Epoch 19/100\n",
      "9215/9215 [==============================] - 19s 2ms/step - loss: 0.3822 - val_loss: 0.3382\n",
      "Epoch 20/100\n",
      "9215/9215 [==============================] - 18s 2ms/step - loss: 0.3809 - val_loss: 0.3388\n",
      "Epoch 21/100\n",
      "9215/9215 [==============================] - 18s 2ms/step - loss: 0.3814 - val_loss: 0.3361\n",
      "Epoch 22/100\n",
      "9215/9215 [==============================] - 19s 2ms/step - loss: 0.3808 - val_loss: 0.3391\n",
      "Epoch 23/100\n",
      "9215/9215 [==============================] - 18s 2ms/step - loss: 0.3805 - val_loss: 0.3368\n",
      "Epoch 24/100\n",
      "9215/9215 [==============================] - 18s 2ms/step - loss: 0.3819 - val_loss: 0.3373\n",
      "Epoch 25/100\n",
      "9215/9215 [==============================] - 18s 2ms/step - loss: 0.3803 - val_loss: 0.3386\n",
      "Epoch 26/100\n",
      "9215/9215 [==============================] - 18s 2ms/step - loss: 0.3805 - val_loss: 0.3358\n",
      "Epoch 27/100\n",
      "9215/9215 [==============================] - 19s 2ms/step - loss: 0.3813 - val_loss: 0.3376\n",
      "Epoch 28/100\n",
      "9215/9215 [==============================] - 18s 2ms/step - loss: 0.3800 - val_loss: 0.3365\n",
      "Epoch 29/100\n",
      "9215/9215 [==============================] - 18s 2ms/step - loss: 0.3803 - val_loss: 0.3383\n",
      "Epoch 30/100\n",
      "9215/9215 [==============================] - 19s 2ms/step - loss: 0.3807 - val_loss: 0.3392\n",
      "Epoch 31/100\n",
      "9215/9215 [==============================] - 19s 2ms/step - loss: 0.3803 - val_loss: 0.3379\n",
      "Epoch 32/100\n",
      "9215/9215 [==============================] - 19s 2ms/step - loss: 0.3814 - val_loss: 0.3365\n",
      "Epoch 33/100\n",
      "9215/9215 [==============================] - 18s 2ms/step - loss: 0.3805 - val_loss: 0.3347\n",
      "Epoch 34/100\n",
      "9215/9215 [==============================] - 19s 2ms/step - loss: 0.3801 - val_loss: 0.3351\n",
      "Epoch 35/100\n",
      "9215/9215 [==============================] - 19s 2ms/step - loss: 0.3810 - val_loss: 0.3369\n",
      "Epoch 36/100\n",
      "9215/9215 [==============================] - 18s 2ms/step - loss: 0.3799 - val_loss: 0.3364\n",
      "Epoch 37/100\n",
      "9215/9215 [==============================] - 19s 2ms/step - loss: 0.3804 - val_loss: 0.3375\n",
      "Epoch 38/100\n",
      "9215/9215 [==============================] - 19s 2ms/step - loss: 0.3805 - val_loss: 0.3374\n",
      "Epoch 39/100\n",
      "9215/9215 [==============================] - 19s 2ms/step - loss: 0.3796 - val_loss: 0.3363\n",
      "Epoch 40/100\n",
      "9215/9215 [==============================] - 18s 2ms/step - loss: 0.3799 - val_loss: 0.3354\n",
      "Epoch 41/100\n",
      "9215/9215 [==============================] - 18s 2ms/step - loss: 0.3803 - val_loss: 0.3376\n",
      "Epoch 42/100\n",
      "9215/9215 [==============================] - 19s 2ms/step - loss: 0.3797 - val_loss: 0.3363\n",
      "Epoch 43/100\n",
      "9215/9215 [==============================] - 18s 2ms/step - loss: 0.3806 - val_loss: 0.3372\n",
      "Epoch 44/100\n",
      "9215/9215 [==============================] - 19s 2ms/step - loss: 0.3791 - val_loss: 0.3372\n",
      "Epoch 45/100\n",
      "9215/9215 [==============================] - 19s 2ms/step - loss: 0.3805 - val_loss: 0.3368\n",
      "Epoch 46/100\n",
      "9215/9215 [==============================] - 19s 2ms/step - loss: 0.3796 - val_loss: 0.3371\n",
      "Epoch 47/100\n",
      "9215/9215 [==============================] - 19s 2ms/step - loss: 0.3804 - val_loss: 0.3362\n",
      "Epoch 48/100\n",
      "9215/9215 [==============================] - 19s 2ms/step - loss: 0.3801 - val_loss: 0.3363\n",
      "Epoch 49/100\n",
      "9215/9215 [==============================] - 19s 2ms/step - loss: 0.3797 - val_loss: 0.3368\n",
      "Epoch 50/100\n",
      "9215/9215 [==============================] - 18s 2ms/step - loss: 0.3795 - val_loss: 0.3337\n",
      "Epoch 51/100\n",
      "9215/9215 [==============================] - 18s 2ms/step - loss: 0.3793 - val_loss: 0.3360\n",
      "Epoch 52/100\n",
      "9215/9215 [==============================] - 17s 2ms/step - loss: 0.3801 - val_loss: 0.3356\n",
      "Epoch 53/100\n",
      "9215/9215 [==============================] - 17s 2ms/step - loss: 0.3791 - val_loss: 0.3377\n",
      "Epoch 54/100\n",
      "9215/9215 [==============================] - 17s 2ms/step - loss: 0.3787 - val_loss: 0.3356\n",
      "Epoch 55/100\n",
      "9215/9215 [==============================] - 16s 2ms/step - loss: 0.3798 - val_loss: 0.3349\n",
      "Epoch 56/100\n",
      "9215/9215 [==============================] - 16s 2ms/step - loss: 0.3796 - val_loss: 0.3358\n",
      "Epoch 57/100\n",
      "9215/9215 [==============================] - 16s 2ms/step - loss: 0.3793 - val_loss: 0.3369\n",
      "Epoch 58/100\n",
      "9215/9215 [==============================] - 17s 2ms/step - loss: 0.3800 - val_loss: 0.3364\n",
      "Epoch 59/100\n",
      "9215/9215 [==============================] - 18s 2ms/step - loss: 0.3792 - val_loss: 0.3364\n",
      "Epoch 60/100\n",
      "9215/9215 [==============================] - 17s 2ms/step - loss: 0.3798 - val_loss: 0.3376\n",
      "Epoch 61/100\n",
      "9215/9215 [==============================] - 16s 2ms/step - loss: 0.3803 - val_loss: 0.3352\n",
      "Epoch 62/100\n",
      "9215/9215 [==============================] - 16s 2ms/step - loss: 0.3797 - val_loss: 0.3367\n",
      "Epoch 63/100\n",
      "9215/9215 [==============================] - 16s 2ms/step - loss: 0.3801 - val_loss: 0.3355\n",
      "Epoch 64/100\n",
      "9215/9215 [==============================] - 15s 2ms/step - loss: 0.3796 - val_loss: 0.3377\n",
      "Epoch 65/100\n",
      "9215/9215 [==============================] - 15s 2ms/step - loss: 0.3797 - val_loss: 0.3388\n",
      "Epoch 66/100\n",
      "9215/9215 [==============================] - 15s 2ms/step - loss: 0.3803 - val_loss: 0.3356\n",
      "Epoch 67/100\n",
      "9215/9215 [==============================] - 14s 2ms/step - loss: 0.3795 - val_loss: 0.3364\n",
      "Epoch 68/100\n",
      "9215/9215 [==============================] - 14s 2ms/step - loss: 0.3802 - val_loss: 0.3371\n",
      "Epoch 69/100\n",
      "9215/9215 [==============================] - 14s 2ms/step - loss: 0.3792 - val_loss: 0.3375\n",
      "Epoch 70/100\n",
      "9215/9215 [==============================] - 14s 2ms/step - loss: 0.3793 - val_loss: 0.3390\n",
      "Epoch 71/100\n",
      "9215/9215 [==============================] - 14s 2ms/step - loss: 0.3791 - val_loss: 0.3386\n",
      "Epoch 72/100\n",
      "9215/9215 [==============================] - 14s 2ms/step - loss: 0.3801 - val_loss: 0.3369\n",
      "Epoch 73/100\n",
      "9215/9215 [==============================] - 14s 2ms/step - loss: 0.3786 - val_loss: 0.3368\n",
      "Epoch 74/100\n",
      "9215/9215 [==============================] - 14s 2ms/step - loss: 0.3792 - val_loss: 0.3358\n",
      "Epoch 75/100\n",
      "9215/9215 [==============================] - 14s 2ms/step - loss: 0.3794 - val_loss: 0.3378\n",
      "Epoch 75: early stopping\n"
     ]
    },
    {
     "data": {
      "text/plain": [
       "<keras.src.callbacks.History at 0x220426a8c10>"
      ]
     },
     "execution_count": 50,
     "metadata": {},
     "output_type": "execute_result"
    }
   ],
   "source": [
    "model1.fit(x=x_train7, \n",
    "          y=y_train7, \n",
    "          epochs=100,\n",
    "          validation_data=(x_test7, y_test7), verbose=1,\n",
    "          callbacks=[early_stop]\n",
    "          )"
   ]
  },
  {
   "cell_type": "code",
   "execution_count": 51,
   "metadata": {},
   "outputs": [
    {
     "name": "stdout",
     "output_type": "stream",
     "text": [
      "3072/3072 [==============================] - 3s 955us/step\n",
      "9215/9215 [==============================] - 9s 943us/step\n",
      "3072/3072 [==============================] - 3s 968us/step\n",
      "Training Results\n",
      "\n",
      "              precision    recall  f1-score   support\n",
      "\n",
      "           0       0.85      0.85      0.85    133334\n",
      "           1       0.87      0.87      0.87    161543\n",
      "\n",
      "    accuracy                           0.86    294877\n",
      "   macro avg       0.86      0.86      0.86    294877\n",
      "weighted avg       0.86      0.86      0.86    294877\n",
      "\n",
      "Testing Results\n",
      "\n",
      "              precision    recall  f1-score   support\n",
      "\n",
      "           0       0.85      0.84      0.84     44549\n",
      "           1       0.87      0.87      0.87     53744\n",
      "\n",
      "    accuracy                           0.86     98293\n",
      "   macro avg       0.86      0.86      0.86     98293\n",
      "weighted avg       0.86      0.86      0.86     98293\n",
      "\n"
     ]
    }
   ],
   "source": [
    "\n",
    "predictions = model1.predict(x_test7)\n",
    "\n",
    "ypred_train11 = model1.predict(x_train7)\n",
    "y_pred_test11 = model1.predict(x_test7)\n",
    "\n",
    "y_pred_test11 = (y_pred_test11 > 0.5)\n",
    "ypred_train11 = (ypred_train11 > 0.5)\n",
    "\n",
    "\n",
    "print(\"Training Results\\n\")\n",
    "print(classification_report(y_train7,ypred_train11))\n",
    "print(\"Testing Results\\n\")\n",
    "print(classification_report(y_test7,y_pred_test11))"
   ]
  },
  {
   "cell_type": "code",
   "execution_count": 52,
   "metadata": {},
   "outputs": [
    {
     "name": "stdout",
     "output_type": "stream",
     "text": [
      "3072/3072 [==============================] - 3s 962us/step\n"
     ]
    },
    {
     "data": {
      "image/png": "[encoded data removed]",
      "text/plain": [
       "<Figure size 640x480 with 1 Axes>"
      ]
     },
     "metadata": {},
     "output_type": "display_data"
    }
   ],
   "source": [
    "# cross_val_scores = cross_val_score(model1, x_train7, y_train7, cv=5)\n",
    "# print(\"Cross-Validation Scores for the Best Model:\", cross_val_scores)\n",
    "# print(\"Average Cross-Validation Score:\", cross_val_scores.mean())\n",
    "\n",
    "y_proba_test = model1.predict(x_test7).flatten()\n",
    "\n",
    "fpr, tpr, thresholds = roc_curve(y_test7, y_proba_test)\n",
    "\n",
    "plt.plot(fpr, tpr, label='ROC Curve')\n",
    "plt.xlabel('False Positive Rate')\n",
    "plt.ylabel('True Positive Rate')\n",
    "plt.title('ROC Curve with AUC = {:.2f}'.format(roc_auc_score(y_test7, y_proba_test)))\n",
    "plt.legend(loc='lower right')\n",
    "plt.grid(True)\n",
    "plt.show()"
   ]
  },
  {
   "cell_type": "markdown",
   "metadata": {},
   "source": [
    "## inny model"
   ]
  },
  {
   "cell_type": "code",
   "execution_count": 53,
   "metadata": {},
   "outputs": [],
   "source": [
    "model2 = Sequential()\n",
    "\n",
    "\n",
    "\n",
    "model2.add(Dense(16,  activation='relu'))\n",
    "model2.add(Dropout(0.2))\n",
    "\n",
    "model2.add(Dense(10, activation='relu'))\n",
    "model2.add(Dropout(0.2))\n",
    "\n",
    "model2.add(Dense(units=1,activation='sigmoid'))\n",
    "\n",
    "model2.compile(loss='binary_crossentropy', optimizer='adam')"
   ]
  },
  {
   "cell_type": "code",
   "execution_count": 54,
   "metadata": {},
   "outputs": [
    {
     "name": "stdout",
     "output_type": "stream",
     "text": [
      "Epoch 1/100\n",
      "9215/9215 [==============================] - 16s 2ms/step - loss: 0.3855 - val_loss: 0.3404\n",
      "Epoch 2/100\n",
      "9215/9215 [==============================] - 14s 2ms/step - loss: 0.3528 - val_loss: 0.3324\n",
      "Epoch 3/100\n",
      "9215/9215 [==============================] - 14s 2ms/step - loss: 0.3469 - val_loss: 0.3248\n",
      "Epoch 4/100\n",
      "9215/9215 [==============================] - 14s 2ms/step - loss: 0.3392 - val_loss: 0.3156\n",
      "Epoch 5/100\n",
      "9215/9215 [==============================] - 14s 2ms/step - loss: 0.3356 - val_loss: 0.3125\n",
      "Epoch 6/100\n",
      "9215/9215 [==============================] - 14s 2ms/step - loss: 0.3332 - val_loss: 0.3099\n",
      "Epoch 7/100\n",
      "9215/9215 [==============================] - 14s 2ms/step - loss: 0.3323 - val_loss: 0.3105\n",
      "Epoch 8/100\n",
      "9215/9215 [==============================] - 14s 2ms/step - loss: 0.3323 - val_loss: 0.3074\n",
      "Epoch 9/100\n",
      "9215/9215 [==============================] - 14s 2ms/step - loss: 0.3304 - val_loss: 0.3073\n",
      "Epoch 10/100\n",
      "9215/9215 [==============================] - 14s 2ms/step - loss: 0.3306 - val_loss: 0.3077\n",
      "Epoch 11/100\n",
      "9215/9215 [==============================] - 14s 2ms/step - loss: 0.3305 - val_loss: 0.3082\n",
      "Epoch 12/100\n",
      "9215/9215 [==============================] - 14s 2ms/step - loss: 0.3300 - val_loss: 0.3104\n",
      "Epoch 13/100\n",
      "9215/9215 [==============================] - 14s 2ms/step - loss: 0.3298 - val_loss: 0.3101\n",
      "Epoch 14/100\n",
      "9215/9215 [==============================] - 15s 2ms/step - loss: 0.3297 - val_loss: 0.3059\n",
      "Epoch 15/100\n",
      "9215/9215 [==============================] - 15s 2ms/step - loss: 0.3291 - val_loss: 0.3080\n",
      "Epoch 16/100\n",
      "9215/9215 [==============================] - 15s 2ms/step - loss: 0.3297 - val_loss: 0.3052\n",
      "Epoch 17/100\n",
      "9215/9215 [==============================] - 15s 2ms/step - loss: 0.3286 - val_loss: 0.3045\n",
      "Epoch 18/100\n",
      "9215/9215 [==============================] - 15s 2ms/step - loss: 0.3303 - val_loss: 0.3058\n",
      "Epoch 19/100\n",
      "9215/9215 [==============================] - 15s 2ms/step - loss: 0.3297 - val_loss: 0.3083\n",
      "Epoch 20/100\n",
      "9215/9215 [==============================] - 15s 2ms/step - loss: 0.3284 - val_loss: 0.3076\n",
      "Epoch 21/100\n",
      "9215/9215 [==============================] - 15s 2ms/step - loss: 0.3281 - val_loss: 0.3034\n",
      "Epoch 22/100\n",
      "9215/9215 [==============================] - 15s 2ms/step - loss: 0.3285 - val_loss: 0.3064\n",
      "Epoch 23/100\n",
      "9215/9215 [==============================] - 15s 2ms/step - loss: 0.3284 - val_loss: 0.3029\n",
      "Epoch 24/100\n",
      "9215/9215 [==============================] - 15s 2ms/step - loss: 0.3283 - val_loss: 0.3056\n",
      "Epoch 25/100\n",
      "9215/9215 [==============================] - 15s 2ms/step - loss: 0.3289 - val_loss: 0.3065\n",
      "Epoch 26/100\n",
      "9215/9215 [==============================] - 15s 2ms/step - loss: 0.3276 - val_loss: 0.3047\n",
      "Epoch 27/100\n",
      "9215/9215 [==============================] - 14s 2ms/step - loss: 0.3289 - val_loss: 0.3017\n",
      "Epoch 28/100\n",
      "9215/9215 [==============================] - 14s 1ms/step - loss: 0.3274 - val_loss: 0.3046\n",
      "Epoch 29/100\n",
      "9215/9215 [==============================] - 14s 2ms/step - loss: 0.3286 - val_loss: 0.3048\n",
      "Epoch 30/100\n",
      "9215/9215 [==============================] - 14s 2ms/step - loss: 0.3275 - val_loss: 0.3047\n",
      "Epoch 31/100\n",
      "9215/9215 [==============================] - 14s 1ms/step - loss: 0.3279 - val_loss: 0.3047\n",
      "Epoch 32/100\n",
      "9215/9215 [==============================] - 14s 2ms/step - loss: 0.3275 - val_loss: 0.3052\n",
      "Epoch 33/100\n",
      "9215/9215 [==============================] - 14s 2ms/step - loss: 0.3268 - val_loss: 0.3029\n",
      "Epoch 34/100\n",
      "9215/9215 [==============================] - 14s 1ms/step - loss: 0.3271 - val_loss: 0.3023\n",
      "Epoch 35/100\n",
      "9215/9215 [==============================] - 14s 2ms/step - loss: 0.3266 - val_loss: 0.3044\n",
      "Epoch 36/100\n",
      "9215/9215 [==============================] - 14s 1ms/step - loss: 0.3263 - val_loss: 0.3007\n",
      "Epoch 37/100\n",
      "9215/9215 [==============================] - 14s 2ms/step - loss: 0.3261 - val_loss: 0.3021\n",
      "Epoch 38/100\n",
      "9215/9215 [==============================] - 14s 1ms/step - loss: 0.3267 - val_loss: 0.3067\n",
      "Epoch 39/100\n",
      "9215/9215 [==============================] - 13s 1ms/step - loss: 0.3266 - val_loss: 0.3023\n",
      "Epoch 40/100\n",
      "9215/9215 [==============================] - 13s 1ms/step - loss: 0.3257 - val_loss: 0.3022\n",
      "Epoch 41/100\n",
      "9215/9215 [==============================] - 13s 1ms/step - loss: 0.3259 - val_loss: 0.3018\n",
      "Epoch 42/100\n",
      "9215/9215 [==============================] - 13s 1ms/step - loss: 0.3262 - val_loss: 0.3003\n",
      "Epoch 43/100\n",
      "9215/9215 [==============================] - 13s 1ms/step - loss: 0.3256 - val_loss: 0.3019\n",
      "Epoch 44/100\n",
      "9215/9215 [==============================] - 13s 1ms/step - loss: 0.3263 - val_loss: 0.3019\n",
      "Epoch 45/100\n",
      "9215/9215 [==============================] - 13s 1ms/step - loss: 0.3258 - val_loss: 0.3012\n",
      "Epoch 46/100\n",
      "9215/9215 [==============================] - 13s 1ms/step - loss: 0.3260 - val_loss: 0.3026\n",
      "Epoch 47/100\n",
      "9215/9215 [==============================] - 14s 1ms/step - loss: 0.3258 - val_loss: 0.3005\n",
      "Epoch 48/100\n",
      "9215/9215 [==============================] - 13s 1ms/step - loss: 0.3257 - val_loss: 0.3007\n",
      "Epoch 49/100\n",
      "9215/9215 [==============================] - 13s 1ms/step - loss: 0.3261 - val_loss: 0.3005\n",
      "Epoch 50/100\n",
      "9215/9215 [==============================] - 13s 1ms/step - loss: 0.3255 - val_loss: 0.3010\n",
      "Epoch 51/100\n",
      "9215/9215 [==============================] - 13s 1ms/step - loss: 0.3257 - val_loss: 0.3001\n",
      "Epoch 52/100\n",
      "9215/9215 [==============================] - 14s 1ms/step - loss: 0.3257 - val_loss: 0.3000\n",
      "Epoch 53/100\n",
      "9215/9215 [==============================] - 13s 1ms/step - loss: 0.3258 - val_loss: 0.3089\n",
      "Epoch 54/100\n",
      "9215/9215 [==============================] - 14s 1ms/step - loss: 0.3248 - val_loss: 0.3008\n",
      "Epoch 55/100\n",
      "9215/9215 [==============================] - 14s 1ms/step - loss: 0.3261 - val_loss: 0.3035\n",
      "Epoch 56/100\n",
      "9215/9215 [==============================] - 14s 2ms/step - loss: 0.3250 - val_loss: 0.2999\n",
      "Epoch 57/100\n",
      "9215/9215 [==============================] - 14s 2ms/step - loss: 0.3255 - val_loss: 0.3038\n",
      "Epoch 58/100\n",
      "9215/9215 [==============================] - 14s 2ms/step - loss: 0.3250 - val_loss: 0.3025\n",
      "Epoch 59/100\n",
      "9215/9215 [==============================] - 14s 2ms/step - loss: 0.3244 - val_loss: 0.3000\n",
      "Epoch 60/100\n",
      "9215/9215 [==============================] - 14s 1ms/step - loss: 0.3255 - val_loss: 0.3026\n",
      "Epoch 61/100\n",
      "9215/9215 [==============================] - 14s 2ms/step - loss: 0.3266 - val_loss: 0.2993\n",
      "Epoch 62/100\n",
      "9215/9215 [==============================] - 14s 1ms/step - loss: 0.3249 - val_loss: 0.3006\n",
      "Epoch 63/100\n",
      "9215/9215 [==============================] - 13s 1ms/step - loss: 0.3246 - val_loss: 0.3005\n",
      "Epoch 64/100\n",
      "9215/9215 [==============================] - 13s 1ms/step - loss: 0.3254 - val_loss: 0.3056\n",
      "Epoch 65/100\n",
      "9215/9215 [==============================] - 13s 1ms/step - loss: 0.3254 - val_loss: 0.3013\n",
      "Epoch 66/100\n",
      "9215/9215 [==============================] - 13s 1ms/step - loss: 0.3257 - val_loss: 0.3007\n",
      "Epoch 67/100\n",
      "9215/9215 [==============================] - 12s 1ms/step - loss: 0.3253 - val_loss: 0.3031\n",
      "Epoch 68/100\n",
      "9215/9215 [==============================] - 12s 1ms/step - loss: 0.3252 - val_loss: 0.3011\n",
      "Epoch 69/100\n",
      "9215/9215 [==============================] - 12s 1ms/step - loss: 0.3251 - val_loss: 0.3057\n",
      "Epoch 70/100\n",
      "9215/9215 [==============================] - 12s 1ms/step - loss: 0.3250 - val_loss: 0.3043\n",
      "Epoch 71/100\n",
      "9215/9215 [==============================] - 12s 1ms/step - loss: 0.3250 - val_loss: 0.3024\n",
      "Epoch 72/100\n",
      "9215/9215 [==============================] - 12s 1ms/step - loss: 0.3258 - val_loss: 0.3036\n",
      "Epoch 73/100\n",
      "9215/9215 [==============================] - 12s 1ms/step - loss: 0.3243 - val_loss: 0.3026\n",
      "Epoch 74/100\n",
      "9215/9215 [==============================] - 12s 1ms/step - loss: 0.3246 - val_loss: 0.2976\n",
      "Epoch 75/100\n",
      "9215/9215 [==============================] - 12s 1ms/step - loss: 0.3250 - val_loss: 0.3037\n",
      "Epoch 76/100\n",
      "9215/9215 [==============================] - 12s 1ms/step - loss: 0.3244 - val_loss: 0.3014\n",
      "Epoch 77/100\n",
      "9215/9215 [==============================] - 12s 1ms/step - loss: 0.3238 - val_loss: 0.3010\n",
      "Epoch 78/100\n",
      "9215/9215 [==============================] - 12s 1ms/step - loss: 0.3250 - val_loss: 0.3013\n",
      "Epoch 79/100\n",
      "9215/9215 [==============================] - 12s 1ms/step - loss: 0.3246 - val_loss: 0.2989\n",
      "Epoch 80/100\n",
      "9215/9215 [==============================] - 12s 1ms/step - loss: 0.3244 - val_loss: 0.3006\n",
      "Epoch 81/100\n",
      "9215/9215 [==============================] - 12s 1ms/step - loss: 0.3246 - val_loss: 0.3006\n",
      "Epoch 82/100\n",
      "9215/9215 [==============================] - 12s 1ms/step - loss: 0.3242 - val_loss: 0.3024\n",
      "Epoch 83/100\n",
      "9215/9215 [==============================] - 13s 1ms/step - loss: 0.3242 - val_loss: 0.3008\n",
      "Epoch 84/100\n",
      "9215/9215 [==============================] - 13s 1ms/step - loss: 0.3253 - val_loss: 0.2995\n",
      "Epoch 85/100\n",
      "9215/9215 [==============================] - 13s 1ms/step - loss: 0.3253 - val_loss: 0.2998\n",
      "Epoch 86/100\n",
      "9215/9215 [==============================] - 12s 1ms/step - loss: 0.3248 - val_loss: 0.2993\n",
      "Epoch 87/100\n",
      "9215/9215 [==============================] - 12s 1ms/step - loss: 0.3239 - val_loss: 0.2997\n",
      "Epoch 88/100\n",
      "9215/9215 [==============================] - 12s 1ms/step - loss: 0.3244 - val_loss: 0.3002\n",
      "Epoch 89/100\n",
      "9215/9215 [==============================] - 12s 1ms/step - loss: 0.3251 - val_loss: 0.2993\n",
      "Epoch 90/100\n",
      "9215/9215 [==============================] - 12s 1ms/step - loss: 0.3245 - val_loss: 0.3003\n",
      "Epoch 91/100\n",
      "9215/9215 [==============================] - 12s 1ms/step - loss: 0.3246 - val_loss: 0.3004\n",
      "Epoch 92/100\n",
      "9215/9215 [==============================] - 12s 1ms/step - loss: 0.3245 - val_loss: 0.3003\n",
      "Epoch 93/100\n",
      "9215/9215 [==============================] - 13s 1ms/step - loss: 0.3234 - val_loss: 0.3011\n",
      "Epoch 94/100\n",
      "9215/9215 [==============================] - 13s 1ms/step - loss: 0.3232 - val_loss: 0.3031\n",
      "Epoch 95/100\n",
      "9215/9215 [==============================] - 13s 1ms/step - loss: 0.3238 - val_loss: 0.3001\n",
      "Epoch 96/100\n",
      "9215/9215 [==============================] - 13s 1ms/step - loss: 0.3243 - val_loss: 0.2971\n",
      "Epoch 97/100\n",
      "9215/9215 [==============================] - 13s 1ms/step - loss: 0.3237 - val_loss: 0.2996\n",
      "Epoch 98/100\n",
      "9215/9215 [==============================] - 13s 1ms/step - loss: 0.3251 - val_loss: 0.3016\n",
      "Epoch 99/100\n",
      "9215/9215 [==============================] - 13s 1ms/step - loss: 0.3237 - val_loss: 0.2972\n",
      "Epoch 100/100\n",
      "9215/9215 [==============================] - 12s 1ms/step - loss: 0.3238 - val_loss: 0.2996\n"
     ]
    },
    {
     "data": {
      "text/plain": [
       "<keras.src.callbacks.History at 0x22043b18bd0>"
      ]
     },
     "execution_count": 54,
     "metadata": {},
     "output_type": "execute_result"
    }
   ],
   "source": [
    "model2.fit(x=x_train7, \n",
    "          y=y_train7, \n",
    "          epochs=100,\n",
    "          validation_data=(x_test7, y_test7), verbose=1,\n",
    "          callbacks=[early_stop]\n",
    "          )"
   ]
  },
  {
   "cell_type": "code",
   "execution_count": 55,
   "metadata": {},
   "outputs": [
    {
     "name": "stdout",
     "output_type": "stream",
     "text": [
      "9215/9215 [==============================] - 8s 868us/step\n",
      "3072/3072 [==============================] - 2s 801us/step\n",
      "              precision    recall  f1-score   support\n",
      "\n",
      "           0       0.87      0.86      0.86    133334\n",
      "           1       0.88      0.90      0.89    161543\n",
      "\n",
      "    accuracy                           0.88    294877\n",
      "   macro avg       0.88      0.88      0.88    294877\n",
      "weighted avg       0.88      0.88      0.88    294877\n",
      "\n",
      "              precision    recall  f1-score   support\n",
      "\n",
      "           0       0.87      0.85      0.86     44549\n",
      "           1       0.88      0.89      0.89     53744\n",
      "\n",
      "    accuracy                           0.88     98293\n",
      "   macro avg       0.87      0.87      0.87     98293\n",
      "weighted avg       0.88      0.88      0.88     98293\n",
      "\n"
     ]
    }
   ],
   "source": [
    "ypred_train12 = model2.predict(x_train7)\n",
    "y_pred_test12 = model2.predict(x_test7)\n",
    "\n",
    "y_pred_test12 = (y_pred_test12 > 0.5)\n",
    "ypred_train12 = (ypred_train12 > 0.5)\n",
    "\n",
    "print(classification_report(y_train7,ypred_train12))\n",
    "print(classification_report(y_test7,y_pred_test12))"
   ]
  },
  {
   "cell_type": "code",
   "execution_count": 56,
   "metadata": {},
   "outputs": [
    {
     "name": "stdout",
     "output_type": "stream",
     "text": [
      "3072/3072 [==============================] - 3s 881us/step\n"
     ]
    },
    {
     "data": {
      "image/png": "[encoded data removed]",
      "text/plain": [
       "<Figure size 640x480 with 1 Axes>"
      ]
     },
     "metadata": {},
     "output_type": "display_data"
    }
   ],
   "source": [
    "# cross_val_scores = cross_val_score(model2, x_train7, y_train7, cv=5)\n",
    "# print(\"Cross-Validation Scores for the Best Model:\", cross_val_scores)\n",
    "# print(\"Average Cross-Validation Score:\", cross_val_scores.mean())\n",
    "\n",
    "y_proba_test = model2.predict(x_test7).flatten()\n",
    "\n",
    "fpr, tpr, thresholds = roc_curve(y_test7, y_proba_test)\n",
    "\n",
    "plt.plot(fpr, tpr, label='ROC Curve')\n",
    "plt.xlabel('False Positive Rate')\n",
    "plt.ylabel('True Positive Rate')\n",
    "plt.title('ROC Curve with AUC = {:.2f}'.format(roc_auc_score(y_test7, y_proba_test)))\n",
    "plt.legend(loc='lower right')\n",
    "plt.grid(True)\n",
    "plt.show()"
   ]
  },
  {
   "cell_type": "markdown",
   "metadata": {},
   "source": [
    "## SVC"
   ]
  },
  {
   "cell_type": "code",
   "execution_count": 57,
   "metadata": {},
   "outputs": [],
   "source": [
    "# model3 = SVC(probability=True)"
   ]
  },
  {
   "cell_type": "code",
   "execution_count": 58,
   "metadata": {},
   "outputs": [],
   "source": [
    "# model3.fit(x_train7,y_train7)"
   ]
  },
  {
   "cell_type": "code",
   "execution_count": 59,
   "metadata": {},
   "outputs": [],
   "source": [
    "# ypred_train14 = model3.predict(x_train7)\n",
    "# y_pred_test14 = model3.predict(x_test7)\n",
    "\n",
    "\n",
    "# print(classification_report(y_train7,ypred_train14))\n",
    "# print(classification_report(y_test7,y_pred_test14))"
   ]
  },
  {
   "cell_type": "code",
   "execution_count": 60,
   "metadata": {},
   "outputs": [],
   "source": [
    "# param_grid = {'C': [0.1,1, 10, 100, 1000], 'gamma': [1,0.1,0.01,0.001,0.0001], 'kernel': ['rbf']} "
   ]
  },
  {
   "cell_type": "code",
   "execution_count": 61,
   "metadata": {},
   "outputs": [],
   "source": [
    "# grid = GridSearchCV(SVC(),param_grid,refit=True,verbose=3)"
   ]
  },
  {
   "cell_type": "code",
   "execution_count": 62,
   "metadata": {},
   "outputs": [],
   "source": [
    "# grid.fit(x_train7,y_train7)"
   ]
  },
  {
   "cell_type": "code",
   "execution_count": 63,
   "metadata": {},
   "outputs": [],
   "source": [
    "# grid.best_params_"
   ]
  },
  {
   "cell_type": "code",
   "execution_count": 64,
   "metadata": {},
   "outputs": [],
   "source": [
    "# grid.best_estimator_"
   ]
  },
  {
   "cell_type": "code",
   "execution_count": 65,
   "metadata": {},
   "outputs": [],
   "source": [
    "# ypred_train = grid.predict(x_train7)\n",
    "# y_pred_test = grid.predict(x_test7)\n",
    "\n",
    "\n",
    "# print(classification_report(y_train7,ypred_train))\n",
    "# print(classification_report(y_test7,y_pred_test))"
   ]
  },
  {
   "cell_type": "code",
   "execution_count": 9,
   "metadata": {},
   "outputs": [
    {
     "name": "stdout",
     "output_type": "stream",
     "text": [
      "Training Results\n",
      "\n",
      "              precision    recall  f1-score   support\n",
      "\n",
      "           0       0.93      0.95      0.94    133334\n",
      "           1       0.96      0.94      0.95    161543\n",
      "\n",
      "    accuracy                           0.94    294877\n",
      "   macro avg       0.94      0.95      0.94    294877\n",
      "weighted avg       0.94      0.94      0.94    294877\n",
      "\n",
      "Testing Results\n",
      "\n",
      "              precision    recall  f1-score   support\n",
      "\n",
      "           0       0.91      0.93      0.92     44549\n",
      "           1       0.94      0.92      0.93     53744\n",
      "\n",
      "    accuracy                           0.92     98293\n",
      "   macro avg       0.92      0.92      0.92     98293\n",
      "weighted avg       0.92      0.92      0.92     98293\n",
      "\n"
     ]
    },
    {
     "data": {
      "image/png": "[encoded data removed]",
      "text/plain": [
       "<Figure size 640x480 with 1 Axes>"
      ]
     },
     "metadata": {},
     "output_type": "display_data"
    }
   ],
   "source": [
    "model3 = SVC(C=1000, gamma=1, kernel='rbf', probability=True)\n",
    "model3.fit(x_train7, y_train7)\n",
    "\n",
    "ypred_train14 = model3.predict(x_train7)\n",
    "y_pred_test14 = model3.predict(x_test7)\n",
    "\n",
    "print(\"Training Results\\n\")\n",
    "print(classification_report(y_train7, ypred_train14))\n",
    "print(\"Testing Results\\n\")\n",
    "print(classification_report(y_test7, y_pred_test14))\n",
    "\n",
    "# cross_val_scores = cross_val_score(model3, x_train7, y_train7, cv=5)\n",
    "# print(\"Cross-Validation Scores for the Best Model:\", cross_val_scores)\n",
    "# print(\"Average Cross-Validation Score:\", cross_val_scores.mean())\n",
    "\n",
    "\n",
    "y_proba_test = model3.predict_proba(x_test7)[:, 1]\n",
    "fpr, tpr, thresholds = roc_curve(y_test7, y_proba_test)\n",
    "plt.plot(fpr, tpr, label='ROC Curve')\n",
    "plt.xlabel('False Positive Rate')\n",
    "plt.ylabel('True Positive Rate')\n",
    "plt.title('ROC Curve with AUC = {:.2f}'.format(roc_auc_score(y_test7, y_proba_test)))\n",
    "plt.legend(loc='lower right')\n",
    "plt.grid(True)\n",
    "plt.show()"
   ]
  }
 ],
 "metadata": {
  "kernelspec": {
   "display_name": "Python 3",
   "language": "python",
   "name": "python3"
  },
  "language_info": {
   "codemirror_mode": {
    "name": "ipython",
    "version": 3
   },
   "file_extension": ".py",
   "mimetype": "text/x-python",
   "name": "python",
   "nbconvert_exporter": "python",
   "pygments_lexer": "ipython3",
   "version": "0.0.0"
  }
 },
 "nbformat": 4,
 "nbformat_minor": 2
}
