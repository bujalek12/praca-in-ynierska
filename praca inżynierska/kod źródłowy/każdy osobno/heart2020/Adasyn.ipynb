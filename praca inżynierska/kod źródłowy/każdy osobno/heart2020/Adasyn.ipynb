{
 "cells": [
  {
   "cell_type": "code",
   "execution_count": 1,
   "metadata": {},
   "outputs": [
    {
     "name": "stdout",
     "output_type": "stream",
     "text": [
      "WARNING:tensorflow:From C:\\Users\\DELL\\AppData\\Roaming\\Python\\Python311\\site-packages\\keras\\src\\losses.py:2976: The name tf.losses.sparse_softmax_cross_entropy is deprecated. Please use tf.compat.v1.losses.sparse_softmax_cross_entropy instead.\n",
      "\n"
     ]
    }
   ],
   "source": [
    "import pandas as pd\n",
    "import numpy as np\n",
    "import matplotlib.pyplot as plt\n",
    "import plotly.express as px\n",
    "from sklearn.preprocessing import LabelEncoder\n",
    "from sklearn.preprocessing import RobustScaler , MinMaxScaler, StandardScaler\n",
    "import seaborn as sns\n",
    "from sklearn.metrics import roc_curve\n",
    "from sklearn.metrics import roc_auc_score\n",
    "import tensorflow as tf\n",
    "from keras.preprocessing.image import ImageDataGenerator\n",
    "from tensorflow.keras.layers import Dropout\n",
    "from tensorflow.keras.models import Sequential\n",
    "from tensorflow.keras.layers import Dense, Activation\n",
    "from tensorflow.keras.callbacks import EarlyStopping\n",
    "from tensorflow.keras.layers import Input,Flatten,Conv1D,MaxPooling1D\n",
    "from sklearn.metrics import classification_report\n",
    "import warnings\n",
    "warnings.filterwarnings('ignore')\n",
    "import missingno as msno\n",
    "from sklearn.model_selection import train_test_split\n",
    "from sklearn.metrics import accuracy_score\n",
    "from sklearn.metrics import mean_absolute_error , mean_absolute_percentage_error , mean_squared_error\n",
    "from sklearn.metrics import r2_score\n",
    "from sklearn.metrics import confusion_matrix\n",
    "from sklearn.model_selection import cross_val_score\n",
    "from sklearn.metrics import RocCurveDisplay\n",
    "from sklearn.model_selection import RepeatedStratifiedKFold\n",
    "from sklearn.metrics import accuracy_score, precision_score, recall_score, f1_score\n",
    "from sklearn.model_selection import GridSearchCV\n",
    "from sklearn.tree import DecisionTreeClassifier\n",
    "from sklearn.ensemble import RandomForestClassifier\n",
    "from sklearn.naive_bayes import GaussianNB\n",
    "from xgboost import XGBClassifier\n",
    "from sklearn.linear_model import LogisticRegression\n",
    "from sklearn.svm import SVC\n",
    "from sklearn.decomposition import PCA\n",
    "from sklearn.ensemble import GradientBoostingClassifier\n",
    "from sklearn.neighbors import KNeighborsClassifier\n",
    "from keras.layers import LSTM\n",
    "from imblearn.over_sampling import ADASYN\n",
    "from sklearn.preprocessing import MinMaxScaler\n"
   ]
  },
  {
   "cell_type": "markdown",
   "metadata": {},
   "source": [
    "## ADASYN Random over-sampling Evaluation"
   ]
  },
  {
   "cell_type": "code",
   "execution_count": 2,
   "metadata": {},
   "outputs": [
    {
     "data": {
      "text/html": [
       "<div>\n",
       "<style scoped>\n",
       "    .dataframe tbody tr th:only-of-type {\n",
       "        vertical-align: middle;\n",
       "    }\n",
       "\n",
       "    .dataframe tbody tr th {\n",
       "        vertical-align: top;\n",
       "    }\n",
       "\n",
       "    .dataframe thead th {\n",
       "        text-align: right;\n",
       "    }\n",
       "</style>\n",
       "<table border=\"1\" class=\"dataframe\">\n",
       "  <thead>\n",
       "    <tr style=\"text-align: right;\">\n",
       "      <th></th>\n",
       "      <th>HeartDisease</th>\n",
       "      <th>BMI</th>\n",
       "      <th>Smoking</th>\n",
       "      <th>AlcoholDrinking</th>\n",
       "      <th>Stroke</th>\n",
       "      <th>PhysicalHealth</th>\n",
       "      <th>MentalHealth</th>\n",
       "      <th>DiffWalking</th>\n",
       "      <th>Sex</th>\n",
       "      <th>AgeCategory</th>\n",
       "      <th>Race</th>\n",
       "      <th>Diabetic</th>\n",
       "      <th>PhysicalActivity</th>\n",
       "      <th>GenHealth</th>\n",
       "      <th>SleepTime</th>\n",
       "      <th>Asthma</th>\n",
       "      <th>KidneyDisease</th>\n",
       "      <th>SkinCancer</th>\n",
       "    </tr>\n",
       "  </thead>\n",
       "  <tbody>\n",
       "    <tr>\n",
       "      <th>0</th>\n",
       "      <td>0</td>\n",
       "      <td>16.60</td>\n",
       "      <td>1</td>\n",
       "      <td>0</td>\n",
       "      <td>0</td>\n",
       "      <td>3</td>\n",
       "      <td>30</td>\n",
       "      <td>0</td>\n",
       "      <td>0</td>\n",
       "      <td>8</td>\n",
       "      <td>4</td>\n",
       "      <td>2</td>\n",
       "      <td>1</td>\n",
       "      <td>2</td>\n",
       "      <td>5</td>\n",
       "      <td>1</td>\n",
       "      <td>0</td>\n",
       "      <td>1</td>\n",
       "    </tr>\n",
       "    <tr>\n",
       "      <th>1</th>\n",
       "      <td>0</td>\n",
       "      <td>20.34</td>\n",
       "      <td>0</td>\n",
       "      <td>0</td>\n",
       "      <td>1</td>\n",
       "      <td>0</td>\n",
       "      <td>0</td>\n",
       "      <td>0</td>\n",
       "      <td>0</td>\n",
       "      <td>13</td>\n",
       "      <td>4</td>\n",
       "      <td>0</td>\n",
       "      <td>1</td>\n",
       "      <td>2</td>\n",
       "      <td>7</td>\n",
       "      <td>0</td>\n",
       "      <td>0</td>\n",
       "      <td>0</td>\n",
       "    </tr>\n",
       "    <tr>\n",
       "      <th>2</th>\n",
       "      <td>0</td>\n",
       "      <td>26.58</td>\n",
       "      <td>1</td>\n",
       "      <td>0</td>\n",
       "      <td>0</td>\n",
       "      <td>20</td>\n",
       "      <td>30</td>\n",
       "      <td>0</td>\n",
       "      <td>1</td>\n",
       "      <td>10</td>\n",
       "      <td>4</td>\n",
       "      <td>2</td>\n",
       "      <td>1</td>\n",
       "      <td>4</td>\n",
       "      <td>8</td>\n",
       "      <td>1</td>\n",
       "      <td>0</td>\n",
       "      <td>0</td>\n",
       "    </tr>\n",
       "    <tr>\n",
       "      <th>3</th>\n",
       "      <td>0</td>\n",
       "      <td>24.21</td>\n",
       "      <td>0</td>\n",
       "      <td>0</td>\n",
       "      <td>0</td>\n",
       "      <td>0</td>\n",
       "      <td>0</td>\n",
       "      <td>0</td>\n",
       "      <td>0</td>\n",
       "      <td>12</td>\n",
       "      <td>4</td>\n",
       "      <td>0</td>\n",
       "      <td>0</td>\n",
       "      <td>3</td>\n",
       "      <td>6</td>\n",
       "      <td>0</td>\n",
       "      <td>0</td>\n",
       "      <td>1</td>\n",
       "    </tr>\n",
       "    <tr>\n",
       "      <th>4</th>\n",
       "      <td>0</td>\n",
       "      <td>23.71</td>\n",
       "      <td>0</td>\n",
       "      <td>0</td>\n",
       "      <td>0</td>\n",
       "      <td>28</td>\n",
       "      <td>0</td>\n",
       "      <td>1</td>\n",
       "      <td>0</td>\n",
       "      <td>5</td>\n",
       "      <td>4</td>\n",
       "      <td>0</td>\n",
       "      <td>1</td>\n",
       "      <td>2</td>\n",
       "      <td>8</td>\n",
       "      <td>0</td>\n",
       "      <td>0</td>\n",
       "      <td>0</td>\n",
       "    </tr>\n",
       "  </tbody>\n",
       "</table>\n",
       "</div>"
      ],
      "text/plain": [
       "   HeartDisease    BMI  Smoking  AlcoholDrinking  Stroke  PhysicalHealth  \\\n",
       "0             0  16.60        1                0       0               3   \n",
       "1             0  20.34        0                0       1               0   \n",
       "2             0  26.58        1                0       0              20   \n",
       "3             0  24.21        0                0       0               0   \n",
       "4             0  23.71        0                0       0              28   \n",
       "\n",
       "   MentalHealth  DiffWalking  Sex  AgeCategory  Race  Diabetic  \\\n",
       "0            30            0    0            8     4         2   \n",
       "1             0            0    0           13     4         0   \n",
       "2            30            0    1           10     4         2   \n",
       "3             0            0    0           12     4         0   \n",
       "4             0            1    0            5     4         0   \n",
       "\n",
       "   PhysicalActivity  GenHealth  SleepTime  Asthma  KidneyDisease  SkinCancer  \n",
       "0                 1          2          5       1              0           1  \n",
       "1                 1          2          7       0              0           0  \n",
       "2                 1          4          8       1              0           0  \n",
       "3                 0          3          6       0              0           1  \n",
       "4                 1          2          8       0              0           0  "
      ]
     },
     "execution_count": 2,
     "metadata": {},
     "output_type": "execute_result"
    }
   ],
   "source": [
    "df= pd.read_csv('heart2020python.csv')\n",
    "df.head()"
   ]
  },
  {
   "cell_type": "code",
   "execution_count": 3,
   "metadata": {},
   "outputs": [
    {
     "data": {
      "text/plain": [
       "HeartDisease\n",
       "0    292422\n",
       "1     27373\n",
       "Name: count, dtype: int64"
      ]
     },
     "execution_count": 3,
     "metadata": {},
     "output_type": "execute_result"
    }
   ],
   "source": [
    "df.drop(['DiffWalking',\"SleepTime\"],axis=1,inplace=True)\n",
    "df.shape\n",
    "df['HeartDisease'].value_counts()\n"
   ]
  },
  {
   "cell_type": "code",
   "execution_count": 4,
   "metadata": {},
   "outputs": [],
   "source": [
    "df.duplicated().sum()\n",
    "df.drop_duplicates(inplace=True)"
   ]
  },
  {
   "cell_type": "markdown",
   "metadata": {},
   "source": [
    "## splite data"
   ]
  },
  {
   "cell_type": "code",
   "execution_count": 5,
   "metadata": {},
   "outputs": [],
   "source": [
    "x = df.drop([\"HeartDisease\"] , axis = 1).values\n",
    "y = df[\"HeartDisease\"].values"
   ]
  },
  {
   "cell_type": "code",
   "execution_count": 6,
   "metadata": {},
   "outputs": [],
   "source": [
    "x_AD, y_AD = ADASYN(random_state=42).fit_resample(x, y)\n",
    "x_train3, x_test3, y_train3, y_test3 = train_test_split(x_AD, y_AD, test_size=0.25, random_state=42)"
   ]
  },
  {
   "cell_type": "code",
   "execution_count": 7,
   "metadata": {},
   "outputs": [],
   "source": [
    "from sklearn.preprocessing import MinMaxScaler\n",
    "scaler = MinMaxScaler()\n",
    "x_train3 = scaler.fit_transform(x_train3)\n",
    "x_test3 = scaler.transform(x_test3)"
   ]
  },
  {
   "cell_type": "markdown",
   "metadata": {},
   "source": [
    "## random forest"
   ]
  },
  {
   "cell_type": "code",
   "execution_count": 8,
   "metadata": {},
   "outputs": [
    {
     "name": "stdout",
     "output_type": "stream",
     "text": [
      "Training Results\n",
      "\n",
      "              precision    recall  f1-score   support\n",
      "\n",
      "           0       0.94      0.95      0.95    189618\n",
      "           1       0.95      0.94      0.95    192242\n",
      "\n",
      "    accuracy                           0.95    381860\n",
      "   macro avg       0.95      0.95      0.95    381860\n",
      "weighted avg       0.95      0.95      0.95    381860\n",
      "\n",
      "Test Results\n",
      "\n",
      "              precision    recall  f1-score   support\n",
      "\n",
      "           0       0.92      0.93      0.92     63243\n",
      "           1       0.93      0.92      0.92     64044\n",
      "\n",
      "    accuracy                           0.92    127287\n",
      "   macro avg       0.92      0.92      0.92    127287\n",
      "weighted avg       0.92      0.92      0.92    127287\n",
      "\n",
      "Confusion Matrix:\n",
      " [[58896  4347]\n",
      " [ 5312 58732]]\n",
      "Cross-validation scores: [0.9209658  0.92206568 0.92116221 0.92261562 0.91985283]\n",
      "Average cross-validation score: 0.9213324254962553\n"
     ]
    }
   ],
   "source": [
    "\n",
    "\n",
    "# # Inicjalizacja modelu z domyślnymi parametrami\n",
    "# rf = RandomForestClassifier()\n",
    "\n",
    "# # Określenie siatki parametrów do przetestowania\n",
    "# param_grid = {\n",
    "#     'n_estimators': [100, 200, 300],  # Liczba drzew\n",
    "#     'max_depth': [10, 20, 30],        # Maksymalna głębokość drzewa\n",
    "#     'min_samples_split': [2, 4, 6],   # Minimalna liczba próbek wymagana do podziału węzła\n",
    "#     'min_samples_leaf': [1, 2, 4],    # Minimalna liczba próbek wymagana w liściu\n",
    "#     'max_features': ['auto', 'sqrt']  # Liczba cech do rozważenia przy każdym podziale\n",
    "# }\n",
    "\n",
    "# # Utworzenie obiektu GridSearchCV\n",
    "# cv_rf = GridSearchCV(estimator=rf, param_grid=param_grid, cv=5, scoring='accuracy')\n",
    "\n",
    "# # Przeszukiwanie siatki parametrów\n",
    "# cv_rf.fit(x_train3, y_train3)\n",
    "\n",
    "# # Najlepszy zestaw parametrów\n",
    "# print(\"Najlepsze parametry: \", cv_rf.best_params_)\n",
    "\n",
    "# # Najlepszy estimator\n",
    "# best_rf = cv_rf.best_estimator_\n",
    "\n",
    "params = {\n",
    "    'n_estimators': 300,  # Liczba drzew\n",
    "    'max_depth': 30,        # Maksymalna głębokość drzewa\n",
    "    'min_samples_split': 6,   # Minimalna liczba próbek wymagana do podziału węzła\n",
    "    'min_samples_leaf': 2,    # Minimalna liczba próbek wymagana w liściu\n",
    "    'max_features': 'sqrt'  # Liczba cech do rozważenia przy każdym podziale\n",
    "}\n",
    "\n",
    "best_rf = RandomForestClassifier(\n",
    "    n_estimators=params['n_estimators'],\n",
    "    max_depth=params['max_depth'],\n",
    "    min_samples_split=params['min_samples_split'],\n",
    "    min_samples_leaf=params['min_samples_leaf'],\n",
    "    max_features=params['max_features'])\n",
    "best_rf.fit(x_train3, y_train3)\n",
    "\n",
    "# Predykcje i ocena modelu\n",
    "ypred_train = best_rf.predict(x_train3)\n",
    "ypred_test = best_rf.predict(x_test3)\n",
    "\n",
    "print(\"Training Results\\n\")\n",
    "print(classification_report(y_train3, ypred_train))\n",
    "print(\"Test Results\\n\")\n",
    "print(classification_report(y_test3, ypred_test))\n",
    "\n",
    "# Macierz pomyłek\n",
    "conf_matrix = confusion_matrix(y_test3, ypred_test)\n",
    "print(\"Confusion Matrix:\\n\", conf_matrix)\n",
    "\n",
    "# Ocena modelu za pomocą walidacji krzyżowej\n",
    "cross_val_scores = cross_val_score(best_rf, x_train3, y_train3, cv=5)\n",
    "print(\"Cross-validation scores:\", cross_val_scores)\n",
    "print(\"Average cross-validation score:\", np.mean(cross_val_scores))"
   ]
  },
  {
   "cell_type": "code",
   "execution_count": 9,
   "metadata": {},
   "outputs": [
    {
     "data": {
      "image/png": "[encoded data removed]",
      "text/plain": [
       "<Figure size 640x480 with 1 Axes>"
      ]
     },
     "metadata": {},
     "output_type": "display_data"
    }
   ],
   "source": [
    "\n",
    "y_proba_test = best_rf.predict_proba(x_test3)[:, 1]\n",
    "\n",
    "fpr, tpr, thresholds = roc_curve(y_test3, y_proba_test)\n",
    "\n",
    "plt.plot(fpr, tpr, label='ROC Curve')\n",
    "plt.xlabel('False Positive Rate')\n",
    "plt.ylabel('True Positive Rate')\n",
    "plt.title('ROC Curve with AUC = {:.2f}'.format(roc_auc_score(y_test3, y_proba_test)))\n",
    "plt.legend(loc='lower right')\n",
    "plt.grid(True)\n",
    "plt.show()"
   ]
  },
  {
   "cell_type": "markdown",
   "metadata": {},
   "source": [
    "## DECISION TREE CLASSIFIER"
   ]
  },
  {
   "cell_type": "code",
   "execution_count": 10,
   "metadata": {},
   "outputs": [
    {
     "name": "stdout",
     "output_type": "stream",
     "text": [
      "Najlepsze parametry: {'criterion': 'entropy', 'max_depth': None, 'min_samples_leaf': 2, 'min_samples_split': 10}\n",
      "Najlepsza dokładność: 0.8953438432933535\n",
      "Training Results\n",
      "\n",
      "              precision    recall  f1-score   support\n",
      "\n",
      "           0       0.94      0.97      0.96    189618\n",
      "           1       0.97      0.94      0.96    192242\n",
      "\n",
      "    accuracy                           0.96    381860\n",
      "   macro avg       0.96      0.96      0.96    381860\n",
      "weighted avg       0.96      0.96      0.96    381860\n",
      "\n",
      "Testing Results\n",
      "\n",
      "              precision    recall  f1-score   support\n",
      "\n",
      "           0       0.89      0.91      0.90     63243\n",
      "           1       0.91      0.89      0.90     64044\n",
      "\n",
      "    accuracy                           0.90    127287\n",
      "   macro avg       0.90      0.90      0.90    127287\n",
      "weighted avg       0.90      0.90      0.90    127287\n",
      "\n",
      "Cross-Validation Scores for the Best Model: [0.8964542  0.89468653 0.89633635 0.89531504 0.89315456]\n",
      "Average Cross-Validation Score: 0.8951893364060128\n"
     ]
    }
   ],
   "source": [
    "\n",
    "param_grid = {\n",
    "    'max_depth': [3, 5, 10, None],\n",
    "    'min_samples_split': [2, 5, 10],\n",
    "    'min_samples_leaf': [1, 2, 5],\n",
    "    'criterion': ['gini', 'entropy']\n",
    "}\n",
    "\n",
    "# Utworzenie modelu drzewa decyzyjnego\n",
    "tree = DecisionTreeClassifier()\n",
    "\n",
    "# Uruchomienie Grid Search z walidacją krzyżową\n",
    "grid_search = GridSearchCV(tree, param_grid, cv=5, scoring='accuracy')\n",
    "grid_search.fit(x_train3, y_train3)\n",
    "\n",
    "# Wyświetlenie najlepszych parametrów i wyników\n",
    "print(\"Najlepsze parametry:\", grid_search.best_params_)\n",
    "print(\"Najlepsza dokładność:\", grid_search.best_score_)\n",
    "\n",
    "# Utworzenie i ocena modelu z najlepszymi parametrami\n",
    "best_tree = grid_search.best_estimator_\n",
    "best_tree.fit(x_train3, y_train3)\n",
    "\n",
    "ypred_train2 = best_tree.predict(x_train3)\n",
    "ypred_test2 = best_tree.predict(x_test3)\n",
    "\n",
    "# Ocena modelu na zbiorze testowym\n",
    "\n",
    "print(\"Training Results\\n\")\n",
    "print(classification_report(y_train3, ypred_train2))\n",
    "print('Testing Results\\n')\n",
    "print(classification_report(y_test3, ypred_test2))\n",
    "\n",
    "# Dodatkowo: Walidacja krzyżowa dla najlepszego modelu na całym zbiorze danych\n",
    "cross_val_scores = cross_val_score(best_tree, x_train3, y_train3, cv=5)\n",
    "print(\"Cross-Validation Scores for the Best Model:\", cross_val_scores)\n",
    "print(\"Average Cross-Validation Score:\", cross_val_scores.mean())"
   ]
  },
  {
   "cell_type": "code",
   "execution_count": 11,
   "metadata": {},
   "outputs": [
    {
     "data": {
      "image/png": "[encoded data removed]",
      "text/plain": [
       "<Figure size 640x480 with 1 Axes>"
      ]
     },
     "metadata": {},
     "output_type": "display_data"
    }
   ],
   "source": [
    "\n",
    "y_proba_test = best_tree.predict_proba(x_test3)[:, 1]\n",
    "\n",
    "fpr, tpr, thresholds = roc_curve(y_test3, y_proba_test)\n",
    "\n",
    "plt.plot(fpr, tpr, label='ROC Curve')\n",
    "plt.xlabel('False Positive Rate')\n",
    "plt.ylabel('True Positive Rate')\n",
    "plt.title('ROC Curve with AUC = {:.2f}'.format(roc_auc_score(y_test3, y_proba_test)))\n",
    "plt.legend(loc='lower right')\n",
    "plt.grid(True)\n",
    "plt.show()"
   ]
  },
  {
   "cell_type": "markdown",
   "metadata": {},
   "source": [
    "## Naive Bayes"
   ]
  },
  {
   "cell_type": "code",
   "execution_count": 12,
   "metadata": {},
   "outputs": [
    {
     "name": "stdout",
     "output_type": "stream",
     "text": [
      "Naive Bayes Classifier Accuracy:  0.6933701006387141\n"
     ]
    }
   ],
   "source": [
    "Gnb = GaussianNB()\n",
    "Gnb.fit(x_train3, y_train3)\n",
    "ypred_train33 = Gnb.predict(x_train3)\n",
    "y_pred_test33 = Gnb.predict(x_test3)\n",
    "\n",
    "print(\"Naive Bayes Classifier Accuracy: \",accuracy_score(y_test3, y_pred_test33))"
   ]
  },
  {
   "cell_type": "code",
   "execution_count": 13,
   "metadata": {},
   "outputs": [
    {
     "name": "stdout",
     "output_type": "stream",
     "text": [
      "Testing Results\n",
      "\n",
      "              precision    recall  f1-score   support\n",
      "\n",
      "           0       0.67      0.76      0.71    189618\n",
      "           1       0.73      0.63      0.67    192242\n",
      "\n",
      "    accuracy                           0.69    381860\n",
      "   macro avg       0.70      0.70      0.69    381860\n",
      "weighted avg       0.70      0.69      0.69    381860\n",
      "\n"
     ]
    }
   ],
   "source": [
    "print('Testing Results\\n')\n",
    "print(classification_report(y_train3, ypred_train33))"
   ]
  },
  {
   "cell_type": "code",
   "execution_count": 14,
   "metadata": {},
   "outputs": [
    {
     "name": "stdout",
     "output_type": "stream",
     "text": [
      "Testing Results\n",
      "\n",
      "              precision    recall  f1-score   support\n",
      "\n",
      "           0       0.67      0.77      0.71     63243\n",
      "           1       0.73      0.62      0.67     64044\n",
      "\n",
      "    accuracy                           0.69    127287\n",
      "   macro avg       0.70      0.69      0.69    127287\n",
      "weighted avg       0.70      0.69      0.69    127287\n",
      "\n"
     ]
    }
   ],
   "source": [
    "print('Testing Results\\n')\n",
    "print(classification_report(y_test3, y_pred_test33))"
   ]
  },
  {
   "cell_type": "code",
   "execution_count": 15,
   "metadata": {},
   "outputs": [
    {
     "name": "stdout",
     "output_type": "stream",
     "text": [
      "Cross-Validation Scores for the Best Model: [0.69364427 0.69672131 0.69305505 0.69297648 0.69673441]\n",
      "Average Cross-Validation Score: 0.6946263028334991\n"
     ]
    },
    {
     "data": {
      "image/png": "[encoded data removed]",
      "text/plain": [
       "<Figure size 640x480 with 1 Axes>"
      ]
     },
     "metadata": {},
     "output_type": "display_data"
    }
   ],
   "source": [
    "cross_val_scores = cross_val_score(Gnb, x_train3, y_train3, cv=5)\n",
    "print(\"Cross-Validation Scores for the Best Model:\", cross_val_scores)\n",
    "print(\"Average Cross-Validation Score:\", cross_val_scores.mean())\n",
    "y_proba_test = Gnb.predict_proba(x_test3)[:, 1]\n",
    "\n",
    "fpr, tpr, thresholds = roc_curve(y_test3, y_proba_test)\n",
    "\n",
    "plt.plot(fpr, tpr, label='ROC Curve')\n",
    "plt.xlabel('False Positive Rate')\n",
    "plt.ylabel('True Positive Rate')\n",
    "plt.title('ROC Curve with AUC = {:.2f}'.format(roc_auc_score(y_test3, y_proba_test)))\n",
    "plt.legend(loc='lower right')\n",
    "plt.grid(True)\n",
    "plt.show()"
   ]
  },
  {
   "cell_type": "markdown",
   "metadata": {},
   "source": [
    "## XGBOSST\n"
   ]
  },
  {
   "cell_type": "code",
   "execution_count": 16,
   "metadata": {},
   "outputs": [
    {
     "name": "stdout",
     "output_type": "stream",
     "text": [
      "Accuracy on Training set:  0.9127350337820144\n",
      "Accuracy on Test set:  0.91186845475186\n",
      "\n",
      "Training Results\n",
      "\n",
      "              precision    recall  f1-score   support\n",
      "\n",
      "           0       0.89      0.95      0.91    189618\n",
      "           1       0.94      0.88      0.91    192242\n",
      "\n",
      "    accuracy                           0.91    381860\n",
      "   macro avg       0.91      0.91      0.91    381860\n",
      "weighted avg       0.91      0.91      0.91    381860\n",
      "\n",
      "Testing Results\n",
      "\n",
      "              precision    recall  f1-score   support\n",
      "\n",
      "           0       0.89      0.94      0.91     63243\n",
      "           1       0.94      0.88      0.91     64044\n",
      "\n",
      "    accuracy                           0.91    127287\n",
      "   macro avg       0.91      0.91      0.91    127287\n",
      "weighted avg       0.91      0.91      0.91    127287\n",
      "\n",
      "Cross-Validation Scores for the Best Model: [0.91094904 0.91128948 0.91174776 0.91249411 0.91064788]\n",
      "Average Cross-Validation Score: 0.91142565338082\n"
     ]
    },
    {
     "data": {
      "image/png": "[encoded data removed]",
      "text/plain": [
       "<Figure size 640x480 with 1 Axes>"
      ]
     },
     "metadata": {},
     "output_type": "display_data"
    }
   ],
   "source": [
    "\n",
    "# xg = XGBClassifier()\n",
    "\n",
    "# # Definiowanie siatki hiperparametrów do przetestowania\n",
    "# param_grid = {\n",
    "#     'n_estimators': [50, 100, 200],\n",
    "#     'max_depth': [3, 5, 7],\n",
    "#     'learning_rate': [0.01, 0.1, 0.2],\n",
    "#     'subsample': [0.7, 0.8, 0.9],\n",
    "#     'colsample_bytree': [0.7, 0.8, 0.9]\n",
    "# }\n",
    "\n",
    "# # Utworzenie obiektu GridSearchCV\n",
    "# grid_search = GridSearchCV(estimator=xg, param_grid=param_grid, cv=3, scoring='accuracy')\n",
    "\n",
    "# # Przeszukiwanie siatki parametrów\n",
    "# grid_search.fit(x_train3, y_train3)\n",
    "\n",
    "# # Najlepsze parametry i najlepszy model\n",
    "# print(\"Najlepsze parametry: \", grid_search.best_params_)\n",
    "# best_xg = grid_search.best_estimator_\n",
    "\n",
    "params = {\n",
    "    'n_estimators': 200,\n",
    "    'max_depth': 5,\n",
    "    'learning_rate': 0.2,\n",
    "    'subsample': 0.8,\n",
    "    'colsample_bytree': 0.7\n",
    "}\n",
    "\n",
    "best_xg = XGBClassifier(\n",
    "    n_estimators=params['n_estimators'],\n",
    "    max_depth=params['max_depth'],\n",
    "    learning_rate=params['learning_rate'],\n",
    "    subsample=params['subsample'],\n",
    "    colsample_bytree=params['colsample_bytree'])\n",
    "best_xg.fit(x_train3, y_train3)\n",
    "\n",
    "# Predykcje na zbiorze treningowym i testowym\n",
    "ypred_train4 = best_xg.predict(x_train3)\n",
    "y_pred_test4 = best_xg.predict(x_test3)\n",
    "\n",
    "# Ocena modelu\n",
    "print(\"Accuracy on Training set: \", accuracy_score(y_train3, ypred_train4))\n",
    "print(\"Accuracy on Test set: \", accuracy_score(y_test3, y_pred_test4))\n",
    "print(\"\\nTraining Results\\n\")\n",
    "print(classification_report(y_train3, ypred_train4))\n",
    "print('Testing Results\\n')\n",
    "print(classification_report(y_test3, y_pred_test4))\n",
    "\n",
    "cross_val_scores = cross_val_score(best_xg, x_train3, y_train3, cv=5)\n",
    "print(\"Cross-Validation Scores for the Best Model:\", cross_val_scores)\n",
    "print(\"Average Cross-Validation Score:\", cross_val_scores.mean())\n",
    "\n",
    "# Krzywa ROC\n",
    "y_proba_test4 = best_xg.predict_proba(x_test3)[:, 1]\n",
    "fpr, tpr, thresholds = roc_curve(y_test3, y_proba_test4)\n",
    "plt.plot(fpr, tpr)\n",
    "plt.title(\"ROC Curve with AUC = {:.2f}\".format(roc_auc_score(y_test3, y_proba_test4)))\n",
    "plt.show()"
   ]
  },
  {
   "cell_type": "markdown",
   "metadata": {},
   "source": [
    "## logistic regression"
   ]
  },
  {
   "cell_type": "code",
   "execution_count": 17,
   "metadata": {},
   "outputs": [
    {
     "name": "stdout",
     "output_type": "stream",
     "text": [
      "Accuracy on Training set:  0.7444037081652962\n",
      "Accuracy on Test set:  0.7442158272250897\n",
      "\n",
      "Training Results\n",
      "\n",
      "              precision    recall  f1-score   support\n",
      "\n",
      "           0       0.76      0.71      0.73    189618\n",
      "           1       0.73      0.78      0.75    192242\n",
      "\n",
      "    accuracy                           0.74    381860\n",
      "   macro avg       0.75      0.74      0.74    381860\n",
      "weighted avg       0.75      0.74      0.74    381860\n",
      "\n",
      "Testing Results\n",
      "\n",
      "              precision    recall  f1-score   support\n",
      "\n",
      "           0       0.76      0.71      0.73     63243\n",
      "           1       0.73      0.78      0.75     64044\n",
      "\n",
      "    accuracy                           0.74    127287\n",
      "   macro avg       0.75      0.74      0.74    127287\n",
      "weighted avg       0.75      0.74      0.74    127287\n",
      "\n",
      "Cross-Validation Scores for the Best Model: [0.74646467 0.74476248 0.7434531  0.74391138 0.74374116]\n",
      "Average Cross-Validation Score: 0.7444665584245536\n"
     ]
    },
    {
     "data": {
      "image/png": "[encoded data removed]",
      "text/plain": [
       "<Figure size 640x480 with 1 Axes>"
      ]
     },
     "metadata": {},
     "output_type": "display_data"
    }
   ],
   "source": [
    "\n",
    "# lg = LogisticRegression()\n",
    "\n",
    "# # Definiowanie siatki hiperparametrów do przetestowania\n",
    "# param_grid = {\n",
    "#     'C': [0.01, 0.1, 1, 10, 100],  # Parametr regularyzacji\n",
    "#     'penalty': ['l1', 'l2'],       # Typ regularyzacji\n",
    "#     'solver': ['liblinear']        # Algorytm optymalizacji (liblinear jest dobrym wyborem dla małych zbiorów danych)\n",
    "# }\n",
    "\n",
    "# # Utworzenie obiektu GridSearchCV\n",
    "# grid_search = GridSearchCV(estimator=lg, param_grid=param_grid, cv=5, scoring='accuracy')\n",
    "\n",
    "# # Przeszukiwanie siatki parametrów\n",
    "# grid_search.fit(x_train3, y_train3)\n",
    "\n",
    "# # Najlepsze parametry i najlepszy model\n",
    "# print(\"Najlepsze parametry: \", grid_search.best_params_)\n",
    "# best_lg = grid_search.best_estimator_\n",
    "\n",
    "params = {\n",
    "    'C': 0.01,\n",
    "    'penalty': 'l1',\n",
    "    'solver': 'liblinear'\n",
    "}\n",
    "\n",
    "best_lg = LogisticRegression(\n",
    "    C=params['C'],\n",
    "    penalty=params['penalty'],\n",
    "    solver=params['solver'])\n",
    "best_lg.fit(x_train3, y_train3)\n",
    "\n",
    "\n",
    "# Predykcje na zbiorze treningowym i testowym\n",
    "ypred_train4 = best_lg.predict(x_train3)\n",
    "y_pred_test4 = best_lg.predict(x_test3)\n",
    "\n",
    "# Ocena modelu\n",
    "print(\"Accuracy on Training set: \", accuracy_score(y_train3, ypred_train4))\n",
    "print(\"Accuracy on Test set: \", accuracy_score(y_test3, y_pred_test4))\n",
    "print(\"\\nTraining Results\\n\")\n",
    "print(classification_report(y_train3, ypred_train4))\n",
    "print('Testing Results\\n')\n",
    "print(classification_report(y_test3, y_pred_test4))\n",
    "\n",
    "cross_val_scores = cross_val_score(best_lg, x_train3, y_train3, cv=5)\n",
    "print(\"Cross-Validation Scores for the Best Model:\", cross_val_scores)\n",
    "print(\"Average Cross-Validation Score:\", cross_val_scores.mean())\n",
    "\n",
    "# Krzywa ROC\n",
    "y_proba_test4 = best_lg.predict_proba(x_test3)[:, 1]\n",
    "fpr, tpr, thresholds = roc_curve(y_test3, y_proba_test4)\n",
    "plt.plot(fpr, tpr)\n",
    "plt.title(\"ROC Curve with AUC = {:.2f}\".format(roc_auc_score(y_test3, y_proba_test4)))\n",
    "plt.show()"
   ]
  },
  {
   "cell_type": "markdown",
   "metadata": {},
   "source": [
    "## GradientBoostingClassifier"
   ]
  },
  {
   "cell_type": "code",
   "execution_count": 18,
   "metadata": {},
   "outputs": [
    {
     "name": "stdout",
     "output_type": "stream",
     "text": [
      "Accuracy on Training set:  0.9204080029330121\n",
      "Accuracy on Test set:  0.9185855586194976\n",
      "\n",
      "Training Results\n",
      "\n",
      "              precision    recall  f1-score   support\n",
      "\n",
      "           0       0.90      0.95      0.92    189618\n",
      "           1       0.95      0.89      0.92    192242\n",
      "\n",
      "    accuracy                           0.92    381860\n",
      "   macro avg       0.92      0.92      0.92    381860\n",
      "weighted avg       0.92      0.92      0.92    381860\n",
      "\n",
      "Testing Results\n",
      "\n",
      "              precision    recall  f1-score   support\n",
      "\n",
      "           0       0.89      0.95      0.92     63243\n",
      "           1       0.95      0.89      0.92     64044\n",
      "\n",
      "    accuracy                           0.92    127287\n",
      "   macro avg       0.92      0.92      0.92    127287\n",
      "weighted avg       0.92      0.92      0.92    127287\n",
      "\n",
      "Cross-Validation Scores for the Best Model: [0.91703766 0.91796732 0.91767925 0.91804588 0.9158985 ]\n",
      "Average Cross-Validation Score: 0.917325721468601\n"
     ]
    },
    {
     "data": {
      "image/png": "[encoded data removed]",
      "text/plain": [
       "<Figure size 640x480 with 1 Axes>"
      ]
     },
     "metadata": {},
     "output_type": "display_data"
    }
   ],
   "source": [
    "\n",
    "\n",
    "# # Inicjalizacja modelu Gradient Boosting Classifier\n",
    "# gb = GradientBoostingClassifier()\n",
    "\n",
    "# # Definiowanie siatki hiperparametrów do przetestowania\n",
    "# param_grid = {\n",
    "#     'n_estimators': [100, 200, 300],  # Liczba drzew w ensemble\n",
    "#     'learning_rate': [0.01, 0.1, 0.2], # Szybkość uczenia\n",
    "#     'max_depth': [3, 5, 7],            # Maksymalna głębokość drzewa\n",
    "#     'min_samples_split': [2, 4],       # Minimalna liczba próbek wymagana do podziału węzła\n",
    "#     'min_samples_leaf': [1, 2]         # Minimalna liczba próbek w liściu\n",
    "# }\n",
    "\n",
    "# # Utworzenie obiektu GridSearchCV\n",
    "# grid_search = GridSearchCV(estimator=gb, param_grid=param_grid, cv=5, scoring='accuracy')\n",
    "\n",
    "# # Przeszukiwanie siatki parametrów\n",
    "# grid_search.fit(x_train3, y_train3)\n",
    "\n",
    "# # Najlepsze parametry i najlepszy model\n",
    "# print(\"Najlepsze parametry: \", grid_search.best_params_)\n",
    "# best_gb = grid_search.best_estimator_\n",
    "\n",
    "params = {\n",
    "    'n_estimators': 200,\n",
    "    'learning_rate': 0.2,\n",
    "    'max_depth': 5,\n",
    "    'min_samples_split': 2,\n",
    "    'min_samples_leaf': 1\n",
    "}\n",
    "\n",
    "best_gb = GradientBoostingClassifier(\n",
    "    n_estimators=params['n_estimators'],\n",
    "    learning_rate=params['learning_rate'],\n",
    "    max_depth=params['max_depth'],\n",
    "    min_samples_split=params['min_samples_split'],\n",
    "    min_samples_leaf=params['min_samples_leaf'])\n",
    "best_gb.fit(x_train3, y_train3)\n",
    "\n",
    "# Predykcje na zbiorze treningowym i testowym\n",
    "ypred_train6 = best_gb.predict(x_train3)\n",
    "y_pred_test6 = best_gb.predict(x_test3)\n",
    "\n",
    "# Ocena modelu\n",
    "print(\"Accuracy on Training set: \", accuracy_score(y_train3, ypred_train6))\n",
    "print(\"Accuracy on Test set: \", accuracy_score(y_test3, y_pred_test6))\n",
    "print(\"\\nTraining Results\\n\")\n",
    "print(classification_report(y_train3, ypred_train6))\n",
    "print('Testing Results\\n')\n",
    "print(classification_report(y_test3, y_pred_test6))\n",
    "\n",
    "cross_val_scores = cross_val_score(best_gb, x_train3, y_train3, cv=5)\n",
    "print(\"Cross-Validation Scores for the Best Model:\", cross_val_scores)\n",
    "print(\"Average Cross-Validation Score:\", cross_val_scores.mean())\n",
    "\n",
    "# Krzywa ROC\n",
    "y_proba_test6 = best_gb.predict_proba(x_test3)[:, 1]\n",
    "fpr, tpr, thresholds = roc_curve(y_test3, y_proba_test6)\n",
    "plt.plot(fpr, tpr)\n",
    "plt.title(\"ROC Curve with AUC = {:.2f}\".format(roc_auc_score(y_test3, y_proba_test6)))\n",
    "plt.show()"
   ]
  },
  {
   "cell_type": "markdown",
   "metadata": {},
   "source": [
    "## KNN"
   ]
  },
  {
   "cell_type": "code",
   "execution_count": 19,
   "metadata": {},
   "outputs": [
    {
     "data": {
      "text/html": [
       "<style>#sk-container-id-1 {color: black;}#sk-container-id-1 pre{padding: 0;}#sk-container-id-1 div.sk-toggleable {background-color: white;}#sk-container-id-1 label.sk-toggleable__label {cursor: pointer;display: block;width: 100%;margin-bottom: 0;padding: 0.3em;box-sizing: border-box;text-align: center;}#sk-container-id-1 label.sk-toggleable__label-arrow:before {content: \"▸\";float: left;margin-right: 0.25em;color: #696969;}#sk-container-id-1 label.sk-toggleable__label-arrow:hover:before {color: black;}#sk-container-id-1 div.sk-estimator:hover label.sk-toggleable__label-arrow:before {color: black;}#sk-container-id-1 div.sk-toggleable__content {max-height: 0;max-width: 0;overflow: hidden;text-align: left;background-color: #f0f8ff;}#sk-container-id-1 div.sk-toggleable__content pre {margin: 0.2em;color: black;border-radius: 0.25em;background-color: #f0f8ff;}#sk-container-id-1 input.sk-toggleable__control:checked~div.sk-toggleable__content {max-height: 200px;max-width: 100%;overflow: auto;}#sk-container-id-1 input.sk-toggleable__control:checked~label.sk-toggleable__label-arrow:before {content: \"▾\";}#sk-container-id-1 div.sk-estimator input.sk-toggleable__control:checked~label.sk-toggleable__label {background-color: #d4ebff;}#sk-container-id-1 div.sk-label input.sk-toggleable__control:checked~label.sk-toggleable__label {background-color: #d4ebff;}#sk-container-id-1 input.sk-hidden--visually {border: 0;clip: rect(1px 1px 1px 1px);clip: rect(1px, 1px, 1px, 1px);height: 1px;margin: -1px;overflow: hidden;padding: 0;position: absolute;width: 1px;}#sk-container-id-1 div.sk-estimator {font-family: monospace;background-color: #f0f8ff;border: 1px dotted black;border-radius: 0.25em;box-sizing: border-box;margin-bottom: 0.5em;}#sk-container-id-1 div.sk-estimator:hover {background-color: #d4ebff;}#sk-container-id-1 div.sk-parallel-item::after {content: \"\";width: 100%;border-bottom: 1px solid gray;flex-grow: 1;}#sk-container-id-1 div.sk-label:hover label.sk-toggleable__label {background-color: #d4ebff;}#sk-container-id-1 div.sk-serial::before {content: \"\";position: absolute;border-left: 1px solid gray;box-sizing: border-box;top: 0;bottom: 0;left: 50%;z-index: 0;}#sk-container-id-1 div.sk-serial {display: flex;flex-direction: column;align-items: center;background-color: white;padding-right: 0.2em;padding-left: 0.2em;position: relative;}#sk-container-id-1 div.sk-item {position: relative;z-index: 1;}#sk-container-id-1 div.sk-parallel {display: flex;align-items: stretch;justify-content: center;background-color: white;position: relative;}#sk-container-id-1 div.sk-item::before, #sk-container-id-1 div.sk-parallel-item::before {content: \"\";position: absolute;border-left: 1px solid gray;box-sizing: border-box;top: 0;bottom: 0;left: 50%;z-index: -1;}#sk-container-id-1 div.sk-parallel-item {display: flex;flex-direction: column;z-index: 1;position: relative;background-color: white;}#sk-container-id-1 div.sk-parallel-item:first-child::after {align-self: flex-end;width: 50%;}#sk-container-id-1 div.sk-parallel-item:last-child::after {align-self: flex-start;width: 50%;}#sk-container-id-1 div.sk-parallel-item:only-child::after {width: 0;}#sk-container-id-1 div.sk-dashed-wrapped {border: 1px dashed gray;margin: 0 0.4em 0.5em 0.4em;box-sizing: border-box;padding-bottom: 0.4em;background-color: white;}#sk-container-id-1 div.sk-label label {font-family: monospace;font-weight: bold;display: inline-block;line-height: 1.2em;}#sk-container-id-1 div.sk-label-container {text-align: center;}#sk-container-id-1 div.sk-container {/* jupyter's `normalize.less` sets `[hidden] { display: none; }` but bootstrap.min.css set `[hidden] { display: none !important; }` so we also need the `!important` here to be able to override the default hidden behavior on the sphinx rendered scikit-learn.org. See: https://github.com/scikit-learn/scikit-learn/issues/21755 */display: inline-block !important;position: relative;}#sk-container-id-1 div.sk-text-repr-fallback {display: none;}</style><div id=\"sk-container-id-1\" class=\"sk-top-container\"><div class=\"sk-text-repr-fallback\"><pre>KNeighborsClassifier()</pre><b>In a Jupyter environment, please rerun this cell to show the HTML representation or trust the notebook. <br />On GitHub, the HTML representation is unable to render, please try loading this page with nbviewer.org.</b></div><div class=\"sk-container\" hidden><div class=\"sk-item\"><div class=\"sk-estimator sk-toggleable\"><input class=\"sk-toggleable__control sk-hidden--visually\" id=\"sk-estimator-id-1\" type=\"checkbox\" checked><label for=\"sk-estimator-id-1\" class=\"sk-toggleable__label sk-toggleable__label-arrow\">KNeighborsClassifier</label><div class=\"sk-toggleable__content\"><pre>KNeighborsClassifier()</pre></div></div></div></div></div>"
      ],
      "text/plain": [
       "KNeighborsClassifier()"
      ]
     },
     "execution_count": 19,
     "metadata": {},
     "output_type": "execute_result"
    }
   ],
   "source": [
    "knn = KNeighborsClassifier()\n",
    "knn.fit(x_train3, y_train3)"
   ]
  },
  {
   "cell_type": "code",
   "execution_count": 20,
   "metadata": {},
   "outputs": [],
   "source": [
    "grid_cv = GridSearchCV(KNeighborsClassifier(), \n",
    "                       param_grid={\n",
    "                           \"n_neighbors\": range(1, 50)\n",
    "                       }, cv=5, scoring=\"f1\", \n",
    "                       verbose=1, n_jobs=6)"
   ]
  },
  {
   "cell_type": "code",
   "execution_count": 21,
   "metadata": {},
   "outputs": [
    {
     "name": "stdout",
     "output_type": "stream",
     "text": [
      "Fitting 5 folds for each of 49 candidates, totalling 245 fits\n"
     ]
    },
    {
     "data": {
      "text/html": [
       "<style>#sk-container-id-2 {color: black;}#sk-container-id-2 pre{padding: 0;}#sk-container-id-2 div.sk-toggleable {background-color: white;}#sk-container-id-2 label.sk-toggleable__label {cursor: pointer;display: block;width: 100%;margin-bottom: 0;padding: 0.3em;box-sizing: border-box;text-align: center;}#sk-container-id-2 label.sk-toggleable__label-arrow:before {content: \"▸\";float: left;margin-right: 0.25em;color: #696969;}#sk-container-id-2 label.sk-toggleable__label-arrow:hover:before {color: black;}#sk-container-id-2 div.sk-estimator:hover label.sk-toggleable__label-arrow:before {color: black;}#sk-container-id-2 div.sk-toggleable__content {max-height: 0;max-width: 0;overflow: hidden;text-align: left;background-color: #f0f8ff;}#sk-container-id-2 div.sk-toggleable__content pre {margin: 0.2em;color: black;border-radius: 0.25em;background-color: #f0f8ff;}#sk-container-id-2 input.sk-toggleable__control:checked~div.sk-toggleable__content {max-height: 200px;max-width: 100%;overflow: auto;}#sk-container-id-2 input.sk-toggleable__control:checked~label.sk-toggleable__label-arrow:before {content: \"▾\";}#sk-container-id-2 div.sk-estimator input.sk-toggleable__control:checked~label.sk-toggleable__label {background-color: #d4ebff;}#sk-container-id-2 div.sk-label input.sk-toggleable__control:checked~label.sk-toggleable__label {background-color: #d4ebff;}#sk-container-id-2 input.sk-hidden--visually {border: 0;clip: rect(1px 1px 1px 1px);clip: rect(1px, 1px, 1px, 1px);height: 1px;margin: -1px;overflow: hidden;padding: 0;position: absolute;width: 1px;}#sk-container-id-2 div.sk-estimator {font-family: monospace;background-color: #f0f8ff;border: 1px dotted black;border-radius: 0.25em;box-sizing: border-box;margin-bottom: 0.5em;}#sk-container-id-2 div.sk-estimator:hover {background-color: #d4ebff;}#sk-container-id-2 div.sk-parallel-item::after {content: \"\";width: 100%;border-bottom: 1px solid gray;flex-grow: 1;}#sk-container-id-2 div.sk-label:hover label.sk-toggleable__label {background-color: #d4ebff;}#sk-container-id-2 div.sk-serial::before {content: \"\";position: absolute;border-left: 1px solid gray;box-sizing: border-box;top: 0;bottom: 0;left: 50%;z-index: 0;}#sk-container-id-2 div.sk-serial {display: flex;flex-direction: column;align-items: center;background-color: white;padding-right: 0.2em;padding-left: 0.2em;position: relative;}#sk-container-id-2 div.sk-item {position: relative;z-index: 1;}#sk-container-id-2 div.sk-parallel {display: flex;align-items: stretch;justify-content: center;background-color: white;position: relative;}#sk-container-id-2 div.sk-item::before, #sk-container-id-2 div.sk-parallel-item::before {content: \"\";position: absolute;border-left: 1px solid gray;box-sizing: border-box;top: 0;bottom: 0;left: 50%;z-index: -1;}#sk-container-id-2 div.sk-parallel-item {display: flex;flex-direction: column;z-index: 1;position: relative;background-color: white;}#sk-container-id-2 div.sk-parallel-item:first-child::after {align-self: flex-end;width: 50%;}#sk-container-id-2 div.sk-parallel-item:last-child::after {align-self: flex-start;width: 50%;}#sk-container-id-2 div.sk-parallel-item:only-child::after {width: 0;}#sk-container-id-2 div.sk-dashed-wrapped {border: 1px dashed gray;margin: 0 0.4em 0.5em 0.4em;box-sizing: border-box;padding-bottom: 0.4em;background-color: white;}#sk-container-id-2 div.sk-label label {font-family: monospace;font-weight: bold;display: inline-block;line-height: 1.2em;}#sk-container-id-2 div.sk-label-container {text-align: center;}#sk-container-id-2 div.sk-container {/* jupyter's `normalize.less` sets `[hidden] { display: none; }` but bootstrap.min.css set `[hidden] { display: none !important; }` so we also need the `!important` here to be able to override the default hidden behavior on the sphinx rendered scikit-learn.org. See: https://github.com/scikit-learn/scikit-learn/issues/21755 */display: inline-block !important;position: relative;}#sk-container-id-2 div.sk-text-repr-fallback {display: none;}</style><div id=\"sk-container-id-2\" class=\"sk-top-container\"><div class=\"sk-text-repr-fallback\"><pre>GridSearchCV(cv=5, estimator=KNeighborsClassifier(), n_jobs=6,\n",
       "             param_grid={&#x27;n_neighbors&#x27;: range(1, 50)}, scoring=&#x27;f1&#x27;, verbose=1)</pre><b>In a Jupyter environment, please rerun this cell to show the HTML representation or trust the notebook. <br />On GitHub, the HTML representation is unable to render, please try loading this page with nbviewer.org.</b></div><div class=\"sk-container\" hidden><div class=\"sk-item sk-dashed-wrapped\"><div class=\"sk-label-container\"><div class=\"sk-label sk-toggleable\"><input class=\"sk-toggleable__control sk-hidden--visually\" id=\"sk-estimator-id-2\" type=\"checkbox\" ><label for=\"sk-estimator-id-2\" class=\"sk-toggleable__label sk-toggleable__label-arrow\">GridSearchCV</label><div class=\"sk-toggleable__content\"><pre>GridSearchCV(cv=5, estimator=KNeighborsClassifier(), n_jobs=6,\n",
       "             param_grid={&#x27;n_neighbors&#x27;: range(1, 50)}, scoring=&#x27;f1&#x27;, verbose=1)</pre></div></div></div><div class=\"sk-parallel\"><div class=\"sk-parallel-item\"><div class=\"sk-item\"><div class=\"sk-label-container\"><div class=\"sk-label sk-toggleable\"><input class=\"sk-toggleable__control sk-hidden--visually\" id=\"sk-estimator-id-3\" type=\"checkbox\" ><label for=\"sk-estimator-id-3\" class=\"sk-toggleable__label sk-toggleable__label-arrow\">estimator: KNeighborsClassifier</label><div class=\"sk-toggleable__content\"><pre>KNeighborsClassifier()</pre></div></div></div><div class=\"sk-serial\"><div class=\"sk-item\"><div class=\"sk-estimator sk-toggleable\"><input class=\"sk-toggleable__control sk-hidden--visually\" id=\"sk-estimator-id-4\" type=\"checkbox\" ><label for=\"sk-estimator-id-4\" class=\"sk-toggleable__label sk-toggleable__label-arrow\">KNeighborsClassifier</label><div class=\"sk-toggleable__content\"><pre>KNeighborsClassifier()</pre></div></div></div></div></div></div></div></div></div></div>"
      ],
      "text/plain": [
       "GridSearchCV(cv=5, estimator=KNeighborsClassifier(), n_jobs=6,\n",
       "             param_grid={'n_neighbors': range(1, 50)}, scoring='f1', verbose=1)"
      ]
     },
     "execution_count": 21,
     "metadata": {},
     "output_type": "execute_result"
    }
   ],
   "source": [
    "grid_cv.fit(x_train3, \n",
    "            y_train3)"
   ]
  },
  {
   "cell_type": "code",
   "execution_count": 22,
   "metadata": {},
   "outputs": [
    {
     "data": {
      "text/plain": [
       "0.894548074251855"
      ]
     },
     "execution_count": 22,
     "metadata": {},
     "output_type": "execute_result"
    }
   ],
   "source": [
    "grid_cv.best_score_"
   ]
  },
  {
   "cell_type": "code",
   "execution_count": 23,
   "metadata": {},
   "outputs": [
    {
     "data": {
      "text/html": [
       "<style>#sk-container-id-3 {color: black;}#sk-container-id-3 pre{padding: 0;}#sk-container-id-3 div.sk-toggleable {background-color: white;}#sk-container-id-3 label.sk-toggleable__label {cursor: pointer;display: block;width: 100%;margin-bottom: 0;padding: 0.3em;box-sizing: border-box;text-align: center;}#sk-container-id-3 label.sk-toggleable__label-arrow:before {content: \"▸\";float: left;margin-right: 0.25em;color: #696969;}#sk-container-id-3 label.sk-toggleable__label-arrow:hover:before {color: black;}#sk-container-id-3 div.sk-estimator:hover label.sk-toggleable__label-arrow:before {color: black;}#sk-container-id-3 div.sk-toggleable__content {max-height: 0;max-width: 0;overflow: hidden;text-align: left;background-color: #f0f8ff;}#sk-container-id-3 div.sk-toggleable__content pre {margin: 0.2em;color: black;border-radius: 0.25em;background-color: #f0f8ff;}#sk-container-id-3 input.sk-toggleable__control:checked~div.sk-toggleable__content {max-height: 200px;max-width: 100%;overflow: auto;}#sk-container-id-3 input.sk-toggleable__control:checked~label.sk-toggleable__label-arrow:before {content: \"▾\";}#sk-container-id-3 div.sk-estimator input.sk-toggleable__control:checked~label.sk-toggleable__label {background-color: #d4ebff;}#sk-container-id-3 div.sk-label input.sk-toggleable__control:checked~label.sk-toggleable__label {background-color: #d4ebff;}#sk-container-id-3 input.sk-hidden--visually {border: 0;clip: rect(1px 1px 1px 1px);clip: rect(1px, 1px, 1px, 1px);height: 1px;margin: -1px;overflow: hidden;padding: 0;position: absolute;width: 1px;}#sk-container-id-3 div.sk-estimator {font-family: monospace;background-color: #f0f8ff;border: 1px dotted black;border-radius: 0.25em;box-sizing: border-box;margin-bottom: 0.5em;}#sk-container-id-3 div.sk-estimator:hover {background-color: #d4ebff;}#sk-container-id-3 div.sk-parallel-item::after {content: \"\";width: 100%;border-bottom: 1px solid gray;flex-grow: 1;}#sk-container-id-3 div.sk-label:hover label.sk-toggleable__label {background-color: #d4ebff;}#sk-container-id-3 div.sk-serial::before {content: \"\";position: absolute;border-left: 1px solid gray;box-sizing: border-box;top: 0;bottom: 0;left: 50%;z-index: 0;}#sk-container-id-3 div.sk-serial {display: flex;flex-direction: column;align-items: center;background-color: white;padding-right: 0.2em;padding-left: 0.2em;position: relative;}#sk-container-id-3 div.sk-item {position: relative;z-index: 1;}#sk-container-id-3 div.sk-parallel {display: flex;align-items: stretch;justify-content: center;background-color: white;position: relative;}#sk-container-id-3 div.sk-item::before, #sk-container-id-3 div.sk-parallel-item::before {content: \"\";position: absolute;border-left: 1px solid gray;box-sizing: border-box;top: 0;bottom: 0;left: 50%;z-index: -1;}#sk-container-id-3 div.sk-parallel-item {display: flex;flex-direction: column;z-index: 1;position: relative;background-color: white;}#sk-container-id-3 div.sk-parallel-item:first-child::after {align-self: flex-end;width: 50%;}#sk-container-id-3 div.sk-parallel-item:last-child::after {align-self: flex-start;width: 50%;}#sk-container-id-3 div.sk-parallel-item:only-child::after {width: 0;}#sk-container-id-3 div.sk-dashed-wrapped {border: 1px dashed gray;margin: 0 0.4em 0.5em 0.4em;box-sizing: border-box;padding-bottom: 0.4em;background-color: white;}#sk-container-id-3 div.sk-label label {font-family: monospace;font-weight: bold;display: inline-block;line-height: 1.2em;}#sk-container-id-3 div.sk-label-container {text-align: center;}#sk-container-id-3 div.sk-container {/* jupyter's `normalize.less` sets `[hidden] { display: none; }` but bootstrap.min.css set `[hidden] { display: none !important; }` so we also need the `!important` here to be able to override the default hidden behavior on the sphinx rendered scikit-learn.org. See: https://github.com/scikit-learn/scikit-learn/issues/21755 */display: inline-block !important;position: relative;}#sk-container-id-3 div.sk-text-repr-fallback {display: none;}</style><div id=\"sk-container-id-3\" class=\"sk-top-container\"><div class=\"sk-text-repr-fallback\"><pre>KNeighborsClassifier(n_neighbors=1)</pre><b>In a Jupyter environment, please rerun this cell to show the HTML representation or trust the notebook. <br />On GitHub, the HTML representation is unable to render, please try loading this page with nbviewer.org.</b></div><div class=\"sk-container\" hidden><div class=\"sk-item\"><div class=\"sk-estimator sk-toggleable\"><input class=\"sk-toggleable__control sk-hidden--visually\" id=\"sk-estimator-id-5\" type=\"checkbox\" checked><label for=\"sk-estimator-id-5\" class=\"sk-toggleable__label sk-toggleable__label-arrow\">KNeighborsClassifier</label><div class=\"sk-toggleable__content\"><pre>KNeighborsClassifier(n_neighbors=1)</pre></div></div></div></div></div>"
      ],
      "text/plain": [
       "KNeighborsClassifier(n_neighbors=1)"
      ]
     },
     "execution_count": 23,
     "metadata": {},
     "output_type": "execute_result"
    }
   ],
   "source": [
    "knn = grid_cv.best_estimator_\n",
    "knn"
   ]
  },
  {
   "cell_type": "code",
   "execution_count": 24,
   "metadata": {},
   "outputs": [
    {
     "name": "stdout",
     "output_type": "stream",
     "text": [
      "XGBClassifier Accuracy:  0.9012232199674751\n"
     ]
    }
   ],
   "source": [
    "ypred_train83 = grid_cv.predict(x_train3)\n",
    "y_pred_test83 = grid_cv.predict(x_test3)\n",
    "print(\"XGBClassifier Accuracy: \",accuracy_score(y_test3, y_pred_test83))"
   ]
  },
  {
   "cell_type": "code",
   "execution_count": 25,
   "metadata": {},
   "outputs": [
    {
     "name": "stdout",
     "output_type": "stream",
     "text": [
      "Training Results\n",
      "\n",
      "              precision    recall  f1-score   support\n",
      "\n",
      "           0       1.00      1.00      1.00    189618\n",
      "           1       1.00      1.00      1.00    192242\n",
      "\n",
      "    accuracy                           1.00    381860\n",
      "   macro avg       1.00      1.00      1.00    381860\n",
      "weighted avg       1.00      1.00      1.00    381860\n",
      "\n"
     ]
    }
   ],
   "source": [
    "print(\"Training Results\\n\")\n",
    "print(classification_report(y_train3, ypred_train83))"
   ]
  },
  {
   "cell_type": "code",
   "execution_count": 26,
   "metadata": {},
   "outputs": [
    {
     "name": "stdout",
     "output_type": "stream",
     "text": [
      "Testing Results\n",
      "\n",
      "              precision    recall  f1-score   support\n",
      "\n",
      "           0       0.91      0.88      0.90     63243\n",
      "           1       0.89      0.92      0.90     64044\n",
      "\n",
      "    accuracy                           0.90    127287\n",
      "   macro avg       0.90      0.90      0.90    127287\n",
      "weighted avg       0.90      0.90      0.90    127287\n",
      "\n"
     ]
    }
   ],
   "source": [
    "print('Testing Results\\n')\n",
    "print(classification_report(y_test3, y_pred_test83))"
   ]
  },
  {
   "cell_type": "code",
   "execution_count": 27,
   "metadata": {},
   "outputs": [
    {
     "data": {
      "image/png": "[encoded data removed]",
      "text/plain": [
       "<Figure size 640x480 with 1 Axes>"
      ]
     },
     "metadata": {},
     "output_type": "display_data"
    }
   ],
   "source": [
    "# cross_val_scores = cross_val_score(grid_cv, x_train3, y_train3, cv=5)\n",
    "# print(\"Cross-Validation Scores for the Best Model:\", cross_val_scores)\n",
    "# print(\"Average Cross-Validation Score:\", cross_val_scores.mean())\n",
    "y_proba_test = grid_cv.predict_proba(x_test3)[:, 1]\n",
    "\n",
    "# Obliczanie TPR, FPR i wyznaczanie progów dla krzywej ROC\n",
    "fpr, tpr, thresholds = roc_curve(y_test3, y_proba_test)\n",
    "\n",
    "# Rysowanie krzywej ROC\n",
    "plt.plot(fpr, tpr, label='ROC Curve')\n",
    "plt.xlabel('False Positive Rate')\n",
    "plt.ylabel('True Positive Rate')\n",
    "plt.title('ROC Curve with AUC = {:.2f}'.format(roc_auc_score(y_test3, y_proba_test)))\n",
    "plt.legend(loc='lower right')\n",
    "plt.grid(True)\n",
    "plt.show()"
   ]
  },
  {
   "cell_type": "markdown",
   "metadata": {},
   "source": [
    "## SIECI NEURONOWE"
   ]
  },
  {
   "cell_type": "markdown",
   "metadata": {},
   "source": [
    "## ANN"
   ]
  },
  {
   "cell_type": "code",
   "execution_count": 28,
   "metadata": {},
   "outputs": [
    {
     "name": "stdout",
     "output_type": "stream",
     "text": [
      "WARNING:tensorflow:From C:\\Users\\DELL\\AppData\\Roaming\\Python\\Python311\\site-packages\\keras\\src\\backend.py:873: The name tf.get_default_graph is deprecated. Please use tf.compat.v1.get_default_graph instead.\n",
      "\n"
     ]
    }
   ],
   "source": [
    "ann = tf.keras.models.Sequential()"
   ]
  },
  {
   "cell_type": "code",
   "execution_count": 29,
   "metadata": {},
   "outputs": [],
   "source": [
    "early_stop = EarlyStopping(monitor='val_loss', mode='min', verbose=1, patience=25)\n"
   ]
  },
  {
   "cell_type": "code",
   "execution_count": 30,
   "metadata": {},
   "outputs": [],
   "source": [
    "ann.add(tf.keras.layers.Dense(units=16, activation='relu'))"
   ]
  },
  {
   "cell_type": "code",
   "execution_count": 31,
   "metadata": {},
   "outputs": [],
   "source": [
    "ann.add(tf.keras.layers.Dense(units=6, activation='relu'))"
   ]
  },
  {
   "cell_type": "code",
   "execution_count": 32,
   "metadata": {},
   "outputs": [],
   "source": [
    "ann.add(tf.keras.layers.Dense(units=1, activation='sigmoid'))"
   ]
  },
  {
   "cell_type": "code",
   "execution_count": 33,
   "metadata": {},
   "outputs": [
    {
     "name": "stdout",
     "output_type": "stream",
     "text": [
      "WARNING:tensorflow:From C:\\Users\\DELL\\AppData\\Roaming\\Python\\Python311\\site-packages\\keras\\src\\optimizers\\__init__.py:309: The name tf.train.Optimizer is deprecated. Please use tf.compat.v1.train.Optimizer instead.\n",
      "\n"
     ]
    }
   ],
   "source": [
    "ann.compile(optimizer = 'adam', loss = 'binary_crossentropy', metrics = ['accuracy'])"
   ]
  },
  {
   "cell_type": "code",
   "execution_count": 34,
   "metadata": {},
   "outputs": [
    {
     "name": "stdout",
     "output_type": "stream",
     "text": [
      "Epoch 1/100\n"
     ]
    },
    {
     "name": "stdout",
     "output_type": "stream",
     "text": [
      "WARNING:tensorflow:From C:\\Users\\DELL\\AppData\\Roaming\\Python\\Python311\\site-packages\\keras\\src\\utils\\tf_utils.py:492: The name tf.ragged.RaggedTensorValue is deprecated. Please use tf.compat.v1.ragged.RaggedTensorValue instead.\n",
      "\n",
      "WARNING:tensorflow:From C:\\Users\\DELL\\AppData\\Roaming\\Python\\Python311\\site-packages\\keras\\src\\engine\\base_layer_utils.py:384: The name tf.executing_eagerly_outside_functions is deprecated. Please use tf.compat.v1.executing_eagerly_outside_functions instead.\n",
      "\n",
      "11934/11934 [==============================] - 28s 2ms/step - loss: 0.4708 - accuracy: 0.7740 - val_loss: 0.4162 - val_accuracy: 0.8012\n",
      "Epoch 2/100\n",
      "11934/11934 [==============================] - 25s 2ms/step - loss: 0.3911 - accuracy: 0.8122 - val_loss: 0.3768 - val_accuracy: 0.8182\n",
      "Epoch 3/100\n",
      "11934/11934 [==============================] - 26s 2ms/step - loss: 0.3655 - accuracy: 0.8230 - val_loss: 0.3584 - val_accuracy: 0.8267\n",
      "Epoch 4/100\n",
      "11934/11934 [==============================] - 25s 2ms/step - loss: 0.3559 - accuracy: 0.8276 - val_loss: 0.3523 - val_accuracy: 0.8304\n",
      "Epoch 5/100\n",
      "11934/11934 [==============================] - 25s 2ms/step - loss: 0.3506 - accuracy: 0.8302 - val_loss: 0.3450 - val_accuracy: 0.8331\n",
      "Epoch 6/100\n",
      "11934/11934 [==============================] - 26s 2ms/step - loss: 0.3478 - accuracy: 0.8309 - val_loss: 0.3578 - val_accuracy: 0.8197\n",
      "Epoch 7/100\n",
      "11934/11934 [==============================] - 25s 2ms/step - loss: 0.3461 - accuracy: 0.8319 - val_loss: 0.3394 - val_accuracy: 0.8367\n",
      "Epoch 8/100\n",
      "11934/11934 [==============================] - 26s 2ms/step - loss: 0.3454 - accuracy: 0.8316 - val_loss: 0.3442 - val_accuracy: 0.8328\n",
      "Epoch 9/100\n",
      "11934/11934 [==============================] - 25s 2ms/step - loss: 0.3437 - accuracy: 0.8323 - val_loss: 0.3370 - val_accuracy: 0.8389\n",
      "Epoch 10/100\n",
      "11934/11934 [==============================] - 25s 2ms/step - loss: 0.3432 - accuracy: 0.8325 - val_loss: 0.3408 - val_accuracy: 0.8330\n",
      "Epoch 11/100\n",
      "11934/11934 [==============================] - 25s 2ms/step - loss: 0.3421 - accuracy: 0.8335 - val_loss: 0.3564 - val_accuracy: 0.8240\n",
      "Epoch 12/100\n",
      "11934/11934 [==============================] - 25s 2ms/step - loss: 0.3416 - accuracy: 0.8336 - val_loss: 0.3367 - val_accuracy: 0.8374\n",
      "Epoch 13/100\n",
      "11934/11934 [==============================] - 25s 2ms/step - loss: 0.3407 - accuracy: 0.8339 - val_loss: 0.3545 - val_accuracy: 0.8184\n",
      "Epoch 14/100\n",
      "11934/11934 [==============================] - 25s 2ms/step - loss: 0.3395 - accuracy: 0.8346 - val_loss: 0.3374 - val_accuracy: 0.8350\n",
      "Epoch 15/100\n",
      "11934/11934 [==============================] - 25s 2ms/step - loss: 0.3388 - accuracy: 0.8349 - val_loss: 0.3346 - val_accuracy: 0.8384\n",
      "Epoch 16/100\n",
      "11934/11934 [==============================] - 25s 2ms/step - loss: 0.3385 - accuracy: 0.8352 - val_loss: 0.3315 - val_accuracy: 0.8384\n",
      "Epoch 17/100\n",
      "11934/11934 [==============================] - 25s 2ms/step - loss: 0.3377 - accuracy: 0.8355 - val_loss: 0.3339 - val_accuracy: 0.8385\n",
      "Epoch 18/100\n",
      "11934/11934 [==============================] - 25s 2ms/step - loss: 0.3368 - accuracy: 0.8361 - val_loss: 0.3328 - val_accuracy: 0.8394\n",
      "Epoch 19/100\n",
      "11934/11934 [==============================] - 24s 2ms/step - loss: 0.3359 - accuracy: 0.8366 - val_loss: 0.3319 - val_accuracy: 0.8398\n",
      "Epoch 20/100\n",
      "11934/11934 [==============================] - 25s 2ms/step - loss: 0.3355 - accuracy: 0.8367 - val_loss: 0.3345 - val_accuracy: 0.8351\n",
      "Epoch 21/100\n",
      "11934/11934 [==============================] - 25s 2ms/step - loss: 0.3354 - accuracy: 0.8371 - val_loss: 0.3311 - val_accuracy: 0.8391\n",
      "Epoch 22/100\n",
      "11934/11934 [==============================] - 25s 2ms/step - loss: 0.3349 - accuracy: 0.8370 - val_loss: 0.3286 - val_accuracy: 0.8419\n",
      "Epoch 23/100\n",
      "11934/11934 [==============================] - 25s 2ms/step - loss: 0.3347 - accuracy: 0.8369 - val_loss: 0.3285 - val_accuracy: 0.8406\n",
      "Epoch 24/100\n",
      "11934/11934 [==============================] - 25s 2ms/step - loss: 0.3342 - accuracy: 0.8376 - val_loss: 0.3311 - val_accuracy: 0.8383\n",
      "Epoch 25/100\n",
      "11934/11934 [==============================] - 25s 2ms/step - loss: 0.3341 - accuracy: 0.8373 - val_loss: 0.3614 - val_accuracy: 0.8210\n",
      "Epoch 26/100\n",
      "11934/11934 [==============================] - 25s 2ms/step - loss: 0.3334 - accuracy: 0.8384 - val_loss: 0.3353 - val_accuracy: 0.8363\n",
      "Epoch 27/100\n",
      "11934/11934 [==============================] - 25s 2ms/step - loss: 0.3330 - accuracy: 0.8381 - val_loss: 0.3270 - val_accuracy: 0.8419\n",
      "Epoch 28/100\n",
      "11934/11934 [==============================] - 25s 2ms/step - loss: 0.3327 - accuracy: 0.8379 - val_loss: 0.3306 - val_accuracy: 0.8391\n",
      "Epoch 29/100\n",
      "11934/11934 [==============================] - 25s 2ms/step - loss: 0.3329 - accuracy: 0.8381 - val_loss: 0.3429 - val_accuracy: 0.8329\n",
      "Epoch 30/100\n",
      "11934/11934 [==============================] - 25s 2ms/step - loss: 0.3325 - accuracy: 0.8379 - val_loss: 0.3354 - val_accuracy: 0.8362\n",
      "Epoch 31/100\n",
      "11934/11934 [==============================] - 25s 2ms/step - loss: 0.3324 - accuracy: 0.8378 - val_loss: 0.3407 - val_accuracy: 0.8276\n",
      "Epoch 32/100\n",
      "11934/11934 [==============================] - 26s 2ms/step - loss: 0.3325 - accuracy: 0.8377 - val_loss: 0.3316 - val_accuracy: 0.8394\n",
      "Epoch 33/100\n",
      "11934/11934 [==============================] - 25s 2ms/step - loss: 0.3322 - accuracy: 0.8385 - val_loss: 0.3268 - val_accuracy: 0.8396\n",
      "Epoch 34/100\n",
      "11934/11934 [==============================] - 26s 2ms/step - loss: 0.3317 - accuracy: 0.8388 - val_loss: 0.3241 - val_accuracy: 0.8447\n",
      "Epoch 35/100\n",
      "11934/11934 [==============================] - 26s 2ms/step - loss: 0.3313 - accuracy: 0.8389 - val_loss: 0.3422 - val_accuracy: 0.8259\n",
      "Epoch 36/100\n",
      "11934/11934 [==============================] - 25s 2ms/step - loss: 0.3318 - accuracy: 0.8382 - val_loss: 0.3256 - val_accuracy: 0.8424\n",
      "Epoch 37/100\n",
      "11934/11934 [==============================] - 25s 2ms/step - loss: 0.3313 - accuracy: 0.8392 - val_loss: 0.3315 - val_accuracy: 0.8387\n",
      "Epoch 38/100\n",
      "11934/11934 [==============================] - 25s 2ms/step - loss: 0.3311 - accuracy: 0.8387 - val_loss: 0.3257 - val_accuracy: 0.8434\n",
      "Epoch 39/100\n",
      "11934/11934 [==============================] - 25s 2ms/step - loss: 0.3314 - accuracy: 0.8384 - val_loss: 0.3241 - val_accuracy: 0.8445\n",
      "Epoch 40/100\n",
      "11934/11934 [==============================] - 24s 2ms/step - loss: 0.3306 - accuracy: 0.8389 - val_loss: 0.3245 - val_accuracy: 0.8433\n",
      "Epoch 41/100\n",
      "11934/11934 [==============================] - 24s 2ms/step - loss: 0.3308 - accuracy: 0.8394 - val_loss: 0.3328 - val_accuracy: 0.8386\n",
      "Epoch 42/100\n",
      "11934/11934 [==============================] - 24s 2ms/step - loss: 0.3299 - accuracy: 0.8392 - val_loss: 0.3257 - val_accuracy: 0.8416\n",
      "Epoch 43/100\n",
      "11934/11934 [==============================] - 24s 2ms/step - loss: 0.3298 - accuracy: 0.8391 - val_loss: 0.3285 - val_accuracy: 0.8414\n",
      "Epoch 44/100\n",
      "11934/11934 [==============================] - 25s 2ms/step - loss: 0.3294 - accuracy: 0.8397 - val_loss: 0.3250 - val_accuracy: 0.8427\n",
      "Epoch 45/100\n",
      "11934/11934 [==============================] - 24s 2ms/step - loss: 0.3289 - accuracy: 0.8393 - val_loss: 0.3239 - val_accuracy: 0.8435\n",
      "Epoch 46/100\n",
      "11934/11934 [==============================] - 24s 2ms/step - loss: 0.3286 - accuracy: 0.8395 - val_loss: 0.3264 - val_accuracy: 0.8421\n",
      "Epoch 47/100\n",
      "11934/11934 [==============================] - 24s 2ms/step - loss: 0.3286 - accuracy: 0.8397 - val_loss: 0.3321 - val_accuracy: 0.8375\n",
      "Epoch 48/100\n",
      "11934/11934 [==============================] - 23s 2ms/step - loss: 0.3283 - accuracy: 0.8399 - val_loss: 0.3243 - val_accuracy: 0.8431\n",
      "Epoch 49/100\n",
      "11934/11934 [==============================] - 23s 2ms/step - loss: 0.3276 - accuracy: 0.8400 - val_loss: 0.3300 - val_accuracy: 0.8375\n",
      "Epoch 50/100\n",
      "11934/11934 [==============================] - 24s 2ms/step - loss: 0.3280 - accuracy: 0.8397 - val_loss: 0.3264 - val_accuracy: 0.8396\n",
      "Epoch 51/100\n",
      "11934/11934 [==============================] - 24s 2ms/step - loss: 0.3277 - accuracy: 0.8394 - val_loss: 0.3255 - val_accuracy: 0.8403\n",
      "Epoch 52/100\n",
      "11934/11934 [==============================] - 23s 2ms/step - loss: 0.3274 - accuracy: 0.8401 - val_loss: 0.3231 - val_accuracy: 0.8430\n",
      "Epoch 53/100\n",
      "11934/11934 [==============================] - 23s 2ms/step - loss: 0.3270 - accuracy: 0.8404 - val_loss: 0.3258 - val_accuracy: 0.8420\n",
      "Epoch 54/100\n",
      "11934/11934 [==============================] - 23s 2ms/step - loss: 0.3269 - accuracy: 0.8398 - val_loss: 0.3237 - val_accuracy: 0.8426\n",
      "Epoch 55/100\n",
      "11934/11934 [==============================] - 23s 2ms/step - loss: 0.3265 - accuracy: 0.8406 - val_loss: 0.3216 - val_accuracy: 0.8441\n",
      "Epoch 56/100\n",
      "11934/11934 [==============================] - 24s 2ms/step - loss: 0.3267 - accuracy: 0.8402 - val_loss: 0.3217 - val_accuracy: 0.8449\n",
      "Epoch 57/100\n",
      "11934/11934 [==============================] - 24s 2ms/step - loss: 0.3262 - accuracy: 0.8404 - val_loss: 0.3274 - val_accuracy: 0.8391\n",
      "Epoch 58/100\n",
      "11934/11934 [==============================] - 23s 2ms/step - loss: 0.3262 - accuracy: 0.8404 - val_loss: 0.3271 - val_accuracy: 0.8359\n",
      "Epoch 59/100\n",
      "11934/11934 [==============================] - 24s 2ms/step - loss: 0.3263 - accuracy: 0.8405 - val_loss: 0.3277 - val_accuracy: 0.8372\n",
      "Epoch 60/100\n",
      "11934/11934 [==============================] - 23s 2ms/step - loss: 0.3261 - accuracy: 0.8398 - val_loss: 0.3195 - val_accuracy: 0.8464\n",
      "Epoch 61/100\n",
      "11934/11934 [==============================] - 23s 2ms/step - loss: 0.3260 - accuracy: 0.8399 - val_loss: 0.3241 - val_accuracy: 0.8418\n",
      "Epoch 62/100\n",
      "11934/11934 [==============================] - 23s 2ms/step - loss: 0.3257 - accuracy: 0.8406 - val_loss: 0.3288 - val_accuracy: 0.8390\n",
      "Epoch 63/100\n",
      "11934/11934 [==============================] - 23s 2ms/step - loss: 0.3254 - accuracy: 0.8403 - val_loss: 0.3190 - val_accuracy: 0.8456\n",
      "Epoch 64/100\n",
      "11934/11934 [==============================] - 23s 2ms/step - loss: 0.3257 - accuracy: 0.8403 - val_loss: 0.3210 - val_accuracy: 0.8447\n",
      "Epoch 65/100\n",
      "11934/11934 [==============================] - 23s 2ms/step - loss: 0.3251 - accuracy: 0.8410 - val_loss: 0.3237 - val_accuracy: 0.8387\n",
      "Epoch 66/100\n",
      "11934/11934 [==============================] - 23s 2ms/step - loss: 0.3251 - accuracy: 0.8407 - val_loss: 0.3260 - val_accuracy: 0.8411\n",
      "Epoch 67/100\n",
      "11934/11934 [==============================] - 23s 2ms/step - loss: 0.3248 - accuracy: 0.8413 - val_loss: 0.3395 - val_accuracy: 0.8291\n",
      "Epoch 68/100\n",
      "11934/11934 [==============================] - 23s 2ms/step - loss: 0.3249 - accuracy: 0.8410 - val_loss: 0.3218 - val_accuracy: 0.8431\n",
      "Epoch 69/100\n",
      "11934/11934 [==============================] - 24s 2ms/step - loss: 0.3250 - accuracy: 0.8407 - val_loss: 0.3179 - val_accuracy: 0.8476\n",
      "Epoch 70/100\n",
      "11934/11934 [==============================] - 23s 2ms/step - loss: 0.3243 - accuracy: 0.8414 - val_loss: 0.3228 - val_accuracy: 0.8436\n",
      "Epoch 71/100\n",
      "11934/11934 [==============================] - 24s 2ms/step - loss: 0.3243 - accuracy: 0.8413 - val_loss: 0.3191 - val_accuracy: 0.8451\n",
      "Epoch 72/100\n",
      "11934/11934 [==============================] - 23s 2ms/step - loss: 0.3248 - accuracy: 0.8405 - val_loss: 0.3268 - val_accuracy: 0.8373\n",
      "Epoch 73/100\n",
      "11934/11934 [==============================] - 24s 2ms/step - loss: 0.3238 - accuracy: 0.8412 - val_loss: 0.3242 - val_accuracy: 0.8422\n",
      "Epoch 74/100\n",
      "11934/11934 [==============================] - 23s 2ms/step - loss: 0.3237 - accuracy: 0.8414 - val_loss: 0.3448 - val_accuracy: 0.8234\n",
      "Epoch 75/100\n",
      "11934/11934 [==============================] - 23s 2ms/step - loss: 0.3240 - accuracy: 0.8409 - val_loss: 0.3193 - val_accuracy: 0.8456\n",
      "Epoch 76/100\n",
      "11934/11934 [==============================] - 23s 2ms/step - loss: 0.3237 - accuracy: 0.8417 - val_loss: 0.3215 - val_accuracy: 0.8436\n",
      "Epoch 77/100\n",
      "11934/11934 [==============================] - 23s 2ms/step - loss: 0.3238 - accuracy: 0.8415 - val_loss: 0.3215 - val_accuracy: 0.8439\n",
      "Epoch 78/100\n",
      "11934/11934 [==============================] - 23s 2ms/step - loss: 0.3235 - accuracy: 0.8419 - val_loss: 0.3177 - val_accuracy: 0.8450\n",
      "Epoch 79/100\n",
      "11934/11934 [==============================] - 23s 2ms/step - loss: 0.3234 - accuracy: 0.8417 - val_loss: 0.3191 - val_accuracy: 0.8449\n",
      "Epoch 80/100\n",
      "11934/11934 [==============================] - 24s 2ms/step - loss: 0.3233 - accuracy: 0.8414 - val_loss: 0.3174 - val_accuracy: 0.8456\n",
      "Epoch 81/100\n",
      "11934/11934 [==============================] - 24s 2ms/step - loss: 0.3231 - accuracy: 0.8413 - val_loss: 0.3424 - val_accuracy: 0.8240\n",
      "Epoch 82/100\n",
      "11934/11934 [==============================] - 23s 2ms/step - loss: 0.3230 - accuracy: 0.8412 - val_loss: 0.3231 - val_accuracy: 0.8421\n",
      "Epoch 83/100\n",
      "11934/11934 [==============================] - 23s 2ms/step - loss: 0.3231 - accuracy: 0.8416 - val_loss: 0.3222 - val_accuracy: 0.8435\n",
      "Epoch 84/100\n",
      "11934/11934 [==============================] - 24s 2ms/step - loss: 0.3230 - accuracy: 0.8417 - val_loss: 0.3201 - val_accuracy: 0.8437\n",
      "Epoch 85/100\n",
      "11934/11934 [==============================] - 23s 2ms/step - loss: 0.3228 - accuracy: 0.8417 - val_loss: 0.3194 - val_accuracy: 0.8448\n",
      "Epoch 86/100\n",
      "11934/11934 [==============================] - 23s 2ms/step - loss: 0.3230 - accuracy: 0.8414 - val_loss: 0.3172 - val_accuracy: 0.8457\n",
      "Epoch 87/100\n",
      "11934/11934 [==============================] - 23s 2ms/step - loss: 0.3227 - accuracy: 0.8416 - val_loss: 0.3270 - val_accuracy: 0.8398\n",
      "Epoch 88/100\n",
      "11934/11934 [==============================] - 23s 2ms/step - loss: 0.3229 - accuracy: 0.8420 - val_loss: 0.3184 - val_accuracy: 0.8452\n",
      "Epoch 89/100\n",
      "11934/11934 [==============================] - 23s 2ms/step - loss: 0.3226 - accuracy: 0.8418 - val_loss: 0.3315 - val_accuracy: 0.8346\n",
      "Epoch 90/100\n",
      "11934/11934 [==============================] - 23s 2ms/step - loss: 0.3227 - accuracy: 0.8420 - val_loss: 0.3294 - val_accuracy: 0.8352\n",
      "Epoch 91/100\n",
      "11934/11934 [==============================] - 24s 2ms/step - loss: 0.3228 - accuracy: 0.8416 - val_loss: 0.3176 - val_accuracy: 0.8463\n",
      "Epoch 92/100\n",
      "11934/11934 [==============================] - 24s 2ms/step - loss: 0.3225 - accuracy: 0.8420 - val_loss: 0.3207 - val_accuracy: 0.8439\n",
      "Epoch 93/100\n",
      "11934/11934 [==============================] - 23s 2ms/step - loss: 0.3224 - accuracy: 0.8420 - val_loss: 0.3202 - val_accuracy: 0.8438\n",
      "Epoch 94/100\n",
      "11934/11934 [==============================] - 23s 2ms/step - loss: 0.3223 - accuracy: 0.8422 - val_loss: 0.3226 - val_accuracy: 0.8435\n",
      "Epoch 95/100\n",
      "11934/11934 [==============================] - 23s 2ms/step - loss: 0.3222 - accuracy: 0.8425 - val_loss: 0.3335 - val_accuracy: 0.8360\n",
      "Epoch 96/100\n",
      "11934/11934 [==============================] - 22s 2ms/step - loss: 0.3220 - accuracy: 0.8427 - val_loss: 0.3182 - val_accuracy: 0.8450\n",
      "Epoch 97/100\n",
      "11934/11934 [==============================] - 21s 2ms/step - loss: 0.3222 - accuracy: 0.8419 - val_loss: 0.3197 - val_accuracy: 0.8445\n",
      "Epoch 98/100\n",
      "11934/11934 [==============================] - 20s 2ms/step - loss: 0.3221 - accuracy: 0.8423 - val_loss: 0.3196 - val_accuracy: 0.8448\n",
      "Epoch 99/100\n",
      "11934/11934 [==============================] - 20s 2ms/step - loss: 0.3218 - accuracy: 0.8423 - val_loss: 0.3221 - val_accuracy: 0.8432\n",
      "Epoch 100/100\n",
      "11934/11934 [==============================] - 20s 2ms/step - loss: 0.3219 - accuracy: 0.8426 - val_loss: 0.3161 - val_accuracy: 0.8476\n"
     ]
    },
    {
     "data": {
      "text/plain": [
       "<keras.src.callbacks.History at 0x2582a510b10>"
      ]
     },
     "execution_count": 34,
     "metadata": {},
     "output_type": "execute_result"
    }
   ],
   "source": [
    "ann.fit(x_train3, y_train3, batch_size = 32, epochs=100,\n",
    "          validation_data=(x_test3, y_test3), verbose=1,\n",
    "          callbacks=[early_stop])"
   ]
  },
  {
   "cell_type": "code",
   "execution_count": 35,
   "metadata": {},
   "outputs": [
    {
     "name": "stdout",
     "output_type": "stream",
     "text": [
      "11934/11934 [==============================] - 13s 1ms/step\n",
      "3978/3978 [==============================] - 4s 978us/step\n",
      "[[1 1]\n",
      " [0 0]\n",
      " [1 1]\n",
      " ...\n",
      " [0 0]\n",
      " [0 0]\n",
      " [1 1]]\n"
     ]
    }
   ],
   "source": [
    "ypred_train1 = ann.predict(x_train3)\n",
    "y_pred_test1 = ann.predict(x_test3)\n",
    "\n",
    "y_pred_test1 = (y_pred_test1 > 0.5)\n",
    "ypred_train1 = (ypred_train1 > 0.5)\n",
    "print(np.concatenate((y_pred_test1.reshape(len(y_pred_test1),1), y_test3.reshape(len(y_test3),1)),1))"
   ]
  },
  {
   "cell_type": "code",
   "execution_count": 36,
   "metadata": {},
   "outputs": [
    {
     "data": {
      "text/plain": [
       "0.8475963766920424"
      ]
     },
     "execution_count": 36,
     "metadata": {},
     "output_type": "execute_result"
    }
   ],
   "source": [
    "accuracy_score(y_test3, y_pred_test1)"
   ]
  },
  {
   "cell_type": "code",
   "execution_count": 37,
   "metadata": {},
   "outputs": [
    {
     "name": "stdout",
     "output_type": "stream",
     "text": [
      "Training Results\n",
      "\n",
      "              precision    recall  f1-score   support\n",
      "\n",
      "           0       0.83      0.87      0.85    189618\n",
      "           1       0.86      0.83      0.84    192242\n",
      "\n",
      "    accuracy                           0.85    381860\n",
      "   macro avg       0.85      0.85      0.85    381860\n",
      "weighted avg       0.85      0.85      0.85    381860\n",
      "\n"
     ]
    }
   ],
   "source": [
    "print(\"Training Results\\n\")\n",
    "print(classification_report(y_train3, ypred_train1))"
   ]
  },
  {
   "cell_type": "code",
   "execution_count": 38,
   "metadata": {},
   "outputs": [
    {
     "name": "stdout",
     "output_type": "stream",
     "text": [
      "Testing Results\n",
      "\n",
      "              precision    recall  f1-score   support\n",
      "\n",
      "           0       0.83      0.87      0.85     63243\n",
      "           1       0.87      0.83      0.84     64044\n",
      "\n",
      "    accuracy                           0.85    127287\n",
      "   macro avg       0.85      0.85      0.85    127287\n",
      "weighted avg       0.85      0.85      0.85    127287\n",
      "\n"
     ]
    }
   ],
   "source": [
    "print('Testing Results\\n')\n",
    "print(classification_report(y_test3, y_pred_test1))"
   ]
  },
  {
   "cell_type": "code",
   "execution_count": 39,
   "metadata": {},
   "outputs": [
    {
     "name": "stdout",
     "output_type": "stream",
     "text": [
      "   1/3978 [..............................] - ETA: 1:24"
     ]
    },
    {
     "name": "stdout",
     "output_type": "stream",
     "text": [
      "3978/3978 [==============================] - 4s 1ms/step\n"
     ]
    },
    {
     "data": {
      "image/png": "[encoded data removed]",
      "text/plain": [
       "<Figure size 640x480 with 1 Axes>"
      ]
     },
     "metadata": {},
     "output_type": "display_data"
    }
   ],
   "source": [
    "# cross_val_scores = cross_val_score(ann, x_train3, y_train3, cv=5)\n",
    "# print(\"Cross-Validation Scores for the Best Model:\", cross_val_scores)\n",
    "# print(\"Average Cross-Validation Score:\", cross_val_scores.mean())\n",
    "y_proba_test = ann.predict(x_test3).flatten()\n",
    "\n",
    "fpr, tpr, thresholds = roc_curve(y_test3, y_proba_test)\n",
    "\n",
    "plt.plot(fpr, tpr, label='ROC Curve')\n",
    "plt.xlabel('False Positive Rate')\n",
    "plt.ylabel('True Positive Rate')\n",
    "plt.title('ROC Curve with AUC = {:.2f}'.format(roc_auc_score(y_test3, y_proba_test)))\n",
    "plt.legend(loc='lower right')\n",
    "plt.grid(True)\n",
    "plt.show()"
   ]
  },
  {
   "cell_type": "markdown",
   "metadata": {},
   "source": [
    "## inne próby sieci neuronowych "
   ]
  },
  {
   "cell_type": "code",
   "execution_count": 40,
   "metadata": {},
   "outputs": [
    {
     "name": "stderr",
     "output_type": "stream",
     "text": [
      "WARNING:absl:`lr` is deprecated in Keras optimizer, please use `learning_rate` or use the legacy optimizer, e.g.,tf.keras.optimizers.legacy.Adam.\n"
     ]
    },
    {
     "name": "stdout",
     "output_type": "stream",
     "text": [
      "Epoch 1/100\n",
      "11934/11934 [==============================] - 19s 2ms/step - loss: 0.4686 - accuracy: 0.7815\n",
      "Epoch 2/100\n",
      "11934/11934 [==============================] - 18s 2ms/step - loss: 0.4010 - accuracy: 0.8186\n",
      "Epoch 3/100\n",
      "11934/11934 [==============================] - 17s 1ms/step - loss: 0.3837 - accuracy: 0.8271\n",
      "Epoch 4/100\n",
      "11934/11934 [==============================] - 15s 1ms/step - loss: 0.3774 - accuracy: 0.8295\n",
      "Epoch 5/100\n",
      "11934/11934 [==============================] - 16s 1ms/step - loss: 0.3745 - accuracy: 0.8318\n",
      "Epoch 6/100\n",
      "11934/11934 [==============================] - 15s 1ms/step - loss: 0.3679 - accuracy: 0.8321\n",
      "Epoch 7/100\n",
      "11934/11934 [==============================] - 15s 1ms/step - loss: 0.3547 - accuracy: 0.8326\n",
      "Epoch 8/100\n",
      "11934/11934 [==============================] - 15s 1ms/step - loss: 0.3482 - accuracy: 0.8340\n",
      "Epoch 9/100\n",
      "11934/11934 [==============================] - 15s 1ms/step - loss: 0.3457 - accuracy: 0.8346\n",
      "Epoch 10/100\n",
      "11934/11934 [==============================] - 14s 1ms/step - loss: 0.3432 - accuracy: 0.8350\n",
      "Epoch 11/100\n",
      "11934/11934 [==============================] - 15s 1ms/step - loss: 0.3428 - accuracy: 0.8348\n",
      "Epoch 12/100\n",
      "11934/11934 [==============================] - 15s 1ms/step - loss: 0.3408 - accuracy: 0.8362\n",
      "Epoch 13/100\n",
      "11934/11934 [==============================] - 14s 1ms/step - loss: 0.3402 - accuracy: 0.8361\n",
      "Epoch 14/100\n",
      "11934/11934 [==============================] - 14s 1ms/step - loss: 0.3395 - accuracy: 0.8364\n",
      "Epoch 15/100\n",
      "11934/11934 [==============================] - 15s 1ms/step - loss: 0.3388 - accuracy: 0.8363\n",
      "Epoch 16/100\n",
      "11934/11934 [==============================] - 14s 1ms/step - loss: 0.3381 - accuracy: 0.8371\n",
      "Epoch 17/100\n",
      "11934/11934 [==============================] - 14s 1ms/step - loss: 0.3374 - accuracy: 0.8374\n",
      "Epoch 18/100\n",
      "11934/11934 [==============================] - 15s 1ms/step - loss: 0.3367 - accuracy: 0.8381\n",
      "Epoch 19/100\n",
      "11934/11934 [==============================] - 15s 1ms/step - loss: 0.3358 - accuracy: 0.8382\n",
      "Epoch 20/100\n",
      "11934/11934 [==============================] - 15s 1ms/step - loss: 0.3355 - accuracy: 0.8380\n",
      "Epoch 21/100\n",
      "11934/11934 [==============================] - 14s 1ms/step - loss: 0.3346 - accuracy: 0.8384\n",
      "Epoch 22/100\n",
      "11934/11934 [==============================] - 15s 1ms/step - loss: 0.3340 - accuracy: 0.8388\n",
      "Epoch 23/100\n",
      "11934/11934 [==============================] - 14s 1ms/step - loss: 0.3338 - accuracy: 0.8388\n",
      "Epoch 24/100\n",
      "11934/11934 [==============================] - 14s 1ms/step - loss: 0.3335 - accuracy: 0.8388\n",
      "Epoch 25/100\n",
      "11934/11934 [==============================] - 15s 1ms/step - loss: 0.3331 - accuracy: 0.8388\n",
      "Epoch 26/100\n",
      "11934/11934 [==============================] - 15s 1ms/step - loss: 0.3326 - accuracy: 0.8391\n",
      "Epoch 27/100\n",
      "11934/11934 [==============================] - 14s 1ms/step - loss: 0.3324 - accuracy: 0.8392\n",
      "Epoch 28/100\n",
      "11934/11934 [==============================] - 15s 1ms/step - loss: 0.3317 - accuracy: 0.8397\n",
      "Epoch 29/100\n",
      "11934/11934 [==============================] - 14s 1ms/step - loss: 0.3310 - accuracy: 0.8395\n",
      "Epoch 30/100\n",
      "11934/11934 [==============================] - 14s 1ms/step - loss: 0.3309 - accuracy: 0.8396\n",
      "Epoch 31/100\n",
      "11934/11934 [==============================] - 15s 1ms/step - loss: 0.3301 - accuracy: 0.8400\n",
      "Epoch 32/100\n",
      "11934/11934 [==============================] - 15s 1ms/step - loss: 0.3295 - accuracy: 0.8404\n",
      "Epoch 33/100\n",
      "11934/11934 [==============================] - 15s 1ms/step - loss: 0.3275 - accuracy: 0.8418\n",
      "Epoch 34/100\n",
      "11934/11934 [==============================] - 15s 1ms/step - loss: 0.3267 - accuracy: 0.8424\n",
      "Epoch 35/100\n",
      "11934/11934 [==============================] - 15s 1ms/step - loss: 0.3257 - accuracy: 0.8434\n",
      "Epoch 36/100\n",
      "11934/11934 [==============================] - 15s 1ms/step - loss: 0.3254 - accuracy: 0.8429\n",
      "Epoch 37/100\n",
      "11934/11934 [==============================] - 15s 1ms/step - loss: 0.3247 - accuracy: 0.8430\n",
      "Epoch 38/100\n",
      "11934/11934 [==============================] - 15s 1ms/step - loss: 0.3242 - accuracy: 0.8439\n",
      "Epoch 39/100\n",
      "11934/11934 [==============================] - 15s 1ms/step - loss: 0.3235 - accuracy: 0.8443\n",
      "Epoch 40/100\n",
      "11934/11934 [==============================] - 16s 1ms/step - loss: 0.3235 - accuracy: 0.8443\n",
      "Epoch 41/100\n",
      "11934/11934 [==============================] - 15s 1ms/step - loss: 0.3228 - accuracy: 0.8444\n",
      "Epoch 42/100\n",
      "11934/11934 [==============================] - 15s 1ms/step - loss: 0.3221 - accuracy: 0.8449\n",
      "Epoch 43/100\n",
      "11934/11934 [==============================] - 15s 1ms/step - loss: 0.3218 - accuracy: 0.8448\n",
      "Epoch 44/100\n",
      "11934/11934 [==============================] - 15s 1ms/step - loss: 0.3210 - accuracy: 0.8459\n",
      "Epoch 45/100\n",
      "11934/11934 [==============================] - 15s 1ms/step - loss: 0.3208 - accuracy: 0.8459\n",
      "Epoch 46/100\n",
      "11934/11934 [==============================] - 14s 1ms/step - loss: 0.3203 - accuracy: 0.8459\n",
      "Epoch 47/100\n",
      "11934/11934 [==============================] - 14s 1ms/step - loss: 0.3201 - accuracy: 0.8456\n",
      "Epoch 48/100\n",
      "11934/11934 [==============================] - 14s 1ms/step - loss: 0.3200 - accuracy: 0.8451\n",
      "Epoch 49/100\n",
      "11934/11934 [==============================] - 14s 1ms/step - loss: 0.3195 - accuracy: 0.8464\n",
      "Epoch 50/100\n",
      "11934/11934 [==============================] - 14s 1ms/step - loss: 0.3192 - accuracy: 0.8464\n",
      "Epoch 51/100\n",
      "11934/11934 [==============================] - 15s 1ms/step - loss: 0.3190 - accuracy: 0.8464\n",
      "Epoch 52/100\n",
      "11934/11934 [==============================] - 14s 1ms/step - loss: 0.3192 - accuracy: 0.8466\n",
      "Epoch 53/100\n",
      "11934/11934 [==============================] - 14s 1ms/step - loss: 0.3189 - accuracy: 0.8463\n",
      "Epoch 54/100\n",
      "11934/11934 [==============================] - 14s 1ms/step - loss: 0.3185 - accuracy: 0.8467\n",
      "Epoch 55/100\n",
      "11934/11934 [==============================] - 14s 1ms/step - loss: 0.3183 - accuracy: 0.8470\n",
      "Epoch 56/100\n",
      "11934/11934 [==============================] - 14s 1ms/step - loss: 0.3182 - accuracy: 0.8469\n",
      "Epoch 57/100\n",
      "11934/11934 [==============================] - 14s 1ms/step - loss: 0.3178 - accuracy: 0.8470\n",
      "Epoch 58/100\n",
      "11934/11934 [==============================] - 14s 1ms/step - loss: 0.3180 - accuracy: 0.8468\n",
      "Epoch 59/100\n",
      "11934/11934 [==============================] - 14s 1ms/step - loss: 0.3181 - accuracy: 0.8467\n",
      "Epoch 60/100\n",
      "11934/11934 [==============================] - 14s 1ms/step - loss: 0.3180 - accuracy: 0.8468\n",
      "Epoch 61/100\n",
      "11934/11934 [==============================] - 14s 1ms/step - loss: 0.3179 - accuracy: 0.8472\n",
      "Epoch 62/100\n",
      "11934/11934 [==============================] - 13s 1ms/step - loss: 0.3175 - accuracy: 0.8470\n",
      "Epoch 63/100\n",
      "11934/11934 [==============================] - 14s 1ms/step - loss: 0.3173 - accuracy: 0.8475\n",
      "Epoch 64/100\n",
      "11934/11934 [==============================] - 13s 1ms/step - loss: 0.3174 - accuracy: 0.8467\n",
      "Epoch 65/100\n",
      "11934/11934 [==============================] - 14s 1ms/step - loss: 0.3171 - accuracy: 0.8468\n",
      "Epoch 66/100\n",
      "11934/11934 [==============================] - 14s 1ms/step - loss: 0.3171 - accuracy: 0.8475\n",
      "Epoch 67/100\n",
      "11934/11934 [==============================] - 14s 1ms/step - loss: 0.3169 - accuracy: 0.8473\n",
      "Epoch 68/100\n",
      "11934/11934 [==============================] - 13s 1ms/step - loss: 0.3171 - accuracy: 0.8470\n",
      "Epoch 69/100\n",
      "11934/11934 [==============================] - 13s 1ms/step - loss: 0.3169 - accuracy: 0.8471\n",
      "Epoch 70/100\n",
      "11934/11934 [==============================] - 14s 1ms/step - loss: 0.3167 - accuracy: 0.8475\n",
      "Epoch 71/100\n",
      "11934/11934 [==============================] - 14s 1ms/step - loss: 0.3165 - accuracy: 0.8474\n",
      "Epoch 72/100\n",
      "11934/11934 [==============================] - 14s 1ms/step - loss: 0.3165 - accuracy: 0.8477\n",
      "Epoch 73/100\n",
      "11934/11934 [==============================] - 14s 1ms/step - loss: 0.3160 - accuracy: 0.8479\n",
      "Epoch 74/100\n",
      "11934/11934 [==============================] - 14s 1ms/step - loss: 0.3162 - accuracy: 0.8477\n",
      "Epoch 75/100\n",
      "11934/11934 [==============================] - 14s 1ms/step - loss: 0.3159 - accuracy: 0.8476\n",
      "Epoch 76/100\n",
      "11934/11934 [==============================] - 14s 1ms/step - loss: 0.3159 - accuracy: 0.8474\n",
      "Epoch 77/100\n",
      "11934/11934 [==============================] - 14s 1ms/step - loss: 0.3164 - accuracy: 0.8473\n",
      "Epoch 78/100\n",
      "11934/11934 [==============================] - 14s 1ms/step - loss: 0.3156 - accuracy: 0.8483\n",
      "Epoch 79/100\n",
      "11934/11934 [==============================] - 14s 1ms/step - loss: 0.3160 - accuracy: 0.8480\n",
      "Epoch 80/100\n",
      "11934/11934 [==============================] - 14s 1ms/step - loss: 0.3154 - accuracy: 0.8479\n",
      "Epoch 81/100\n",
      "11934/11934 [==============================] - 14s 1ms/step - loss: 0.3161 - accuracy: 0.8473\n",
      "Epoch 82/100\n",
      "11934/11934 [==============================] - 14s 1ms/step - loss: 0.3155 - accuracy: 0.8480\n",
      "Epoch 83/100\n",
      "11934/11934 [==============================] - 14s 1ms/step - loss: 0.3156 - accuracy: 0.8473\n",
      "Epoch 84/100\n",
      "11934/11934 [==============================] - 13s 1ms/step - loss: 0.3153 - accuracy: 0.8484\n",
      "Epoch 85/100\n",
      "11934/11934 [==============================] - 12s 1ms/step - loss: 0.3154 - accuracy: 0.8481\n",
      "Epoch 86/100\n",
      "11934/11934 [==============================] - 12s 1ms/step - loss: 0.3156 - accuracy: 0.8479\n",
      "Epoch 87/100\n",
      "11934/11934 [==============================] - 12s 1ms/step - loss: 0.3151 - accuracy: 0.8483\n",
      "Epoch 88/100\n",
      "11934/11934 [==============================] - 12s 1ms/step - loss: 0.3150 - accuracy: 0.8480\n",
      "Epoch 89/100\n",
      "11934/11934 [==============================] - 12s 1ms/step - loss: 0.3151 - accuracy: 0.8482\n",
      "Epoch 90/100\n",
      "11934/11934 [==============================] - 12s 1ms/step - loss: 0.3153 - accuracy: 0.8479\n",
      "Epoch 91/100\n",
      "11934/11934 [==============================] - 12s 1ms/step - loss: 0.3148 - accuracy: 0.8485\n",
      "Epoch 92/100\n",
      "11934/11934 [==============================] - 12s 1ms/step - loss: 0.3145 - accuracy: 0.8483\n",
      "Epoch 93/100\n",
      "11934/11934 [==============================] - 12s 1ms/step - loss: 0.3150 - accuracy: 0.8487\n",
      "Epoch 94/100\n",
      "11934/11934 [==============================] - 12s 1ms/step - loss: 0.3148 - accuracy: 0.8485\n",
      "Epoch 95/100\n",
      "11934/11934 [==============================] - 12s 1ms/step - loss: 0.3146 - accuracy: 0.8485\n",
      "Epoch 96/100\n",
      "11934/11934 [==============================] - 12s 1ms/step - loss: 0.3147 - accuracy: 0.8484\n",
      "Epoch 97/100\n",
      "11934/11934 [==============================] - 12s 1ms/step - loss: 0.3146 - accuracy: 0.8484\n",
      "Epoch 98/100\n",
      "11934/11934 [==============================] - 12s 1ms/step - loss: 0.3148 - accuracy: 0.8482\n",
      "Epoch 99/100\n",
      "11934/11934 [==============================] - 12s 1ms/step - loss: 0.3145 - accuracy: 0.8481\n",
      "Epoch 100/100\n",
      "11934/11934 [==============================] - 12s 1ms/step - loss: 0.3144 - accuracy: 0.8482\n"
     ]
    }
   ],
   "source": [
    "\n",
    "tf.random.set_seed(42)\n",
    "\n",
    "\n",
    "\n",
    "model_2 = tf.keras.Sequential([\n",
    "  tf.keras.layers.Dense(16,activation = 'relu'),\n",
    "  tf.keras.layers.Dense(6,activation = 'relu'),\n",
    "  tf.keras.layers.Dense(6,activation = 'relu'),\n",
    "  tf.keras.layers.Dense(1,activation = 'sigmoid')                            \n",
    "])\n",
    "\n",
    "\n",
    "model_2.compile(loss = 'binary_crossentropy',\n",
    "                optimizer = tf.keras.optimizers.Adam(lr=0.001),\n",
    "                metrics = ['accuracy'])\n",
    "\n",
    "\n",
    "history_2 = model_2.fit(x_train3,y_train3,epochs = 100)"
   ]
  },
  {
   "cell_type": "code",
   "execution_count": 41,
   "metadata": {},
   "outputs": [
    {
     "name": "stdout",
     "output_type": "stream",
     "text": [
      "3978/3978 [==============================] - 4s 925us/step - loss: 0.3451 - accuracy: 0.8345\n"
     ]
    },
    {
     "data": {
      "text/plain": [
       "[0.3450588583946228, 0.8344607353210449]"
      ]
     },
     "execution_count": 41,
     "metadata": {},
     "output_type": "execute_result"
    }
   ],
   "source": [
    "model_2.evaluate(x_test3,y_test3)"
   ]
  },
  {
   "cell_type": "code",
   "execution_count": 42,
   "metadata": {},
   "outputs": [
    {
     "name": "stdout",
     "output_type": "stream",
     "text": [
      "11934/11934 [==============================] - 10s 827us/step\n",
      "3978/3978 [==============================] - 3s 824us/step\n",
      "Training Results\n",
      "\n",
      "              precision    recall  f1-score   support\n",
      "\n",
      "           0       0.77      0.95      0.85    189618\n",
      "           1       0.93      0.73      0.82    192242\n",
      "\n",
      "    accuracy                           0.83    381860\n",
      "   macro avg       0.85      0.84      0.83    381860\n",
      "weighted avg       0.85      0.83      0.83    381860\n",
      "\n",
      "Testing Results\n",
      "\n",
      "              precision    recall  f1-score   support\n",
      "\n",
      "           0       0.77      0.95      0.85     63243\n",
      "           1       0.93      0.72      0.81     64044\n",
      "\n",
      "    accuracy                           0.83    127287\n",
      "   macro avg       0.85      0.84      0.83    127287\n",
      "weighted avg       0.85      0.83      0.83    127287\n",
      "\n"
     ]
    }
   ],
   "source": [
    "ypred_train4 = model_2.predict(x_train3)\n",
    "y_pred_test4 = model_2.predict(x_test3)\n",
    "\n",
    "y_pred_test4 = (y_pred_test4 > 0.5)\n",
    "ypred_train4 = (ypred_train4 > 0.5)\n",
    "\n",
    "print(\"Training Results\\n\")\n",
    "print(classification_report(y_train3,ypred_train4))\n",
    "print(\"Testing Results\\n\")\n",
    "print(classification_report(y_test3,y_pred_test4))"
   ]
  },
  {
   "cell_type": "code",
   "execution_count": 43,
   "metadata": {},
   "outputs": [
    {
     "name": "stdout",
     "output_type": "stream",
     "text": [
      "   1/3978 [..............................] - ETA: 1:16"
     ]
    },
    {
     "name": "stdout",
     "output_type": "stream",
     "text": [
      "3978/3978 [==============================] - 3s 807us/step\n"
     ]
    },
    {
     "data": {
      "image/png": "[encoded data removed]",
      "text/plain": [
       "<Figure size 640x480 with 1 Axes>"
      ]
     },
     "metadata": {},
     "output_type": "display_data"
    }
   ],
   "source": [
    "# cross_val_scores = cross_val_score(model_2, x_train3, y_train3, cv=5)\n",
    "# print(\"Cross-Validation Scores for the Best Model:\", cross_val_scores)\n",
    "# print(\"Average Cross-Validation Score:\", cross_val_scores.mean())\n",
    "y_proba_test = model_2.predict(x_test3).flatten()\n",
    "\n",
    "fpr, tpr, thresholds = roc_curve(y_test3, y_proba_test)\n",
    "\n",
    "plt.plot(fpr, tpr, label='ROC Curve')\n",
    "plt.xlabel('False Positive Rate')\n",
    "plt.ylabel('True Positive Rate')\n",
    "plt.title('ROC Curve with AUC = {:.2f}'.format(roc_auc_score(y_test3, y_proba_test)))\n",
    "plt.legend(loc='lower right')\n",
    "plt.grid(True)\n",
    "plt.show()"
   ]
  },
  {
   "cell_type": "markdown",
   "metadata": {},
   "source": [
    "## inna proba "
   ]
  },
  {
   "cell_type": "code",
   "execution_count": 44,
   "metadata": {},
   "outputs": [
    {
     "name": "stderr",
     "output_type": "stream",
     "text": [
      "WARNING:absl:`lr` is deprecated in Keras optimizer, please use `learning_rate` or use the legacy optimizer, e.g.,tf.keras.optimizers.legacy.Adam.\n"
     ]
    },
    {
     "name": "stdout",
     "output_type": "stream",
     "text": [
      "Epoch 1/100\n",
      "11934/11934 [==============================] - 14s 1ms/step - loss: 0.4451 - accuracy: 0.7886\n",
      "Epoch 2/100\n",
      "11934/11934 [==============================] - 13s 1ms/step - loss: 0.3664 - accuracy: 0.8219\n",
      "Epoch 3/100\n",
      "11934/11934 [==============================] - 13s 1ms/step - loss: 0.3544 - accuracy: 0.8274\n",
      "Epoch 4/100\n",
      "11934/11934 [==============================] - 13s 1ms/step - loss: 0.3461 - accuracy: 0.8301\n",
      "Epoch 5/100\n",
      "11934/11934 [==============================] - 13s 1ms/step - loss: 0.3402 - accuracy: 0.8333\n",
      "Epoch 6/100\n",
      "11934/11934 [==============================] - 13s 1ms/step - loss: 0.3330 - accuracy: 0.8360\n",
      "Epoch 7/100\n",
      "11934/11934 [==============================] - 13s 1ms/step - loss: 0.3290 - accuracy: 0.8379\n",
      "Epoch 8/100\n",
      "11934/11934 [==============================] - 13s 1ms/step - loss: 0.3266 - accuracy: 0.8397\n",
      "Epoch 9/100\n",
      "11934/11934 [==============================] - 13s 1ms/step - loss: 0.3254 - accuracy: 0.8405\n",
      "Epoch 10/100\n",
      "11934/11934 [==============================] - 13s 1ms/step - loss: 0.3240 - accuracy: 0.8408\n",
      "Epoch 11/100\n",
      "11934/11934 [==============================] - 13s 1ms/step - loss: 0.3226 - accuracy: 0.8419\n",
      "Epoch 12/100\n",
      "11934/11934 [==============================] - 13s 1ms/step - loss: 0.3219 - accuracy: 0.8420\n",
      "Epoch 13/100\n",
      "11934/11934 [==============================] - 13s 1ms/step - loss: 0.3205 - accuracy: 0.8427\n",
      "Epoch 14/100\n",
      "11934/11934 [==============================] - 13s 1ms/step - loss: 0.3201 - accuracy: 0.8427\n",
      "Epoch 15/100\n",
      "11934/11934 [==============================] - 13s 1ms/step - loss: 0.3190 - accuracy: 0.8432\n",
      "Epoch 16/100\n",
      "11934/11934 [==============================] - 14s 1ms/step - loss: 0.3184 - accuracy: 0.8436\n",
      "Epoch 17/100\n",
      "11934/11934 [==============================] - 14s 1ms/step - loss: 0.3182 - accuracy: 0.8439\n",
      "Epoch 18/100\n",
      "11934/11934 [==============================] - 13s 1ms/step - loss: 0.3174 - accuracy: 0.8446\n",
      "Epoch 19/100\n",
      "11934/11934 [==============================] - 13s 1ms/step - loss: 0.3162 - accuracy: 0.8449\n",
      "Epoch 20/100\n",
      "11934/11934 [==============================] - 13s 1ms/step - loss: 0.3160 - accuracy: 0.8452\n",
      "Epoch 21/100\n",
      "11934/11934 [==============================] - 13s 1ms/step - loss: 0.3153 - accuracy: 0.8453\n",
      "Epoch 22/100\n",
      "11934/11934 [==============================] - 13s 1ms/step - loss: 0.3148 - accuracy: 0.8450\n",
      "Epoch 23/100\n",
      "11934/11934 [==============================] - 13s 1ms/step - loss: 0.3139 - accuracy: 0.8462\n",
      "Epoch 24/100\n",
      "11934/11934 [==============================] - 13s 1ms/step - loss: 0.3141 - accuracy: 0.8457\n",
      "Epoch 25/100\n",
      "11934/11934 [==============================] - 13s 1ms/step - loss: 0.3140 - accuracy: 0.8460\n",
      "Epoch 26/100\n",
      "11934/11934 [==============================] - 13s 1ms/step - loss: 0.3134 - accuracy: 0.8463\n",
      "Epoch 27/100\n",
      "11934/11934 [==============================] - 13s 1ms/step - loss: 0.3125 - accuracy: 0.8469\n",
      "Epoch 28/100\n",
      "11934/11934 [==============================] - 13s 1ms/step - loss: 0.3123 - accuracy: 0.8471\n",
      "Epoch 29/100\n",
      "11934/11934 [==============================] - 13s 1ms/step - loss: 0.3122 - accuracy: 0.8466\n",
      "Epoch 30/100\n",
      "11934/11934 [==============================] - 13s 1ms/step - loss: 0.3118 - accuracy: 0.8470\n",
      "Epoch 31/100\n",
      "11934/11934 [==============================] - 13s 1ms/step - loss: 0.3114 - accuracy: 0.8473\n",
      "Epoch 32/100\n",
      "11934/11934 [==============================] - 13s 1ms/step - loss: 0.3106 - accuracy: 0.8478\n",
      "Epoch 33/100\n",
      "11934/11934 [==============================] - 13s 1ms/step - loss: 0.3098 - accuracy: 0.8481\n",
      "Epoch 34/100\n",
      "11934/11934 [==============================] - 13s 1ms/step - loss: 0.3100 - accuracy: 0.8480\n",
      "Epoch 35/100\n",
      "11934/11934 [==============================] - 13s 1ms/step - loss: 0.3091 - accuracy: 0.8486\n",
      "Epoch 36/100\n",
      "11934/11934 [==============================] - 13s 1ms/step - loss: 0.3100 - accuracy: 0.8480\n",
      "Epoch 37/100\n",
      "11934/11934 [==============================] - 13s 1ms/step - loss: 0.3089 - accuracy: 0.8483\n",
      "Epoch 38/100\n",
      "11934/11934 [==============================] - 13s 1ms/step - loss: 0.3085 - accuracy: 0.8486\n",
      "Epoch 39/100\n",
      "11934/11934 [==============================] - 13s 1ms/step - loss: 0.3084 - accuracy: 0.8489\n",
      "Epoch 40/100\n",
      "11934/11934 [==============================] - 13s 1ms/step - loss: 0.3082 - accuracy: 0.8489\n",
      "Epoch 41/100\n",
      "11934/11934 [==============================] - 13s 1ms/step - loss: 0.3078 - accuracy: 0.8493\n",
      "Epoch 42/100\n",
      "11934/11934 [==============================] - 13s 1ms/step - loss: 0.3076 - accuracy: 0.8491\n",
      "Epoch 43/100\n",
      "11934/11934 [==============================] - 13s 1ms/step - loss: 0.3072 - accuracy: 0.8495\n",
      "Epoch 44/100\n",
      "11934/11934 [==============================] - 13s 1ms/step - loss: 0.3067 - accuracy: 0.8502\n",
      "Epoch 45/100\n",
      "11934/11934 [==============================] - 13s 1ms/step - loss: 0.3061 - accuracy: 0.8503\n",
      "Epoch 46/100\n",
      "11934/11934 [==============================] - 13s 1ms/step - loss: 0.3062 - accuracy: 0.8505\n",
      "Epoch 47/100\n",
      "11934/11934 [==============================] - 13s 1ms/step - loss: 0.3066 - accuracy: 0.8500\n",
      "Epoch 48/100\n",
      "11934/11934 [==============================] - 13s 1ms/step - loss: 0.3060 - accuracy: 0.8500\n",
      "Epoch 49/100\n",
      "11934/11934 [==============================] - 13s 1ms/step - loss: 0.3059 - accuracy: 0.8507\n",
      "Epoch 50/100\n",
      "11934/11934 [==============================] - 13s 1ms/step - loss: 0.3053 - accuracy: 0.8512\n",
      "Epoch 51/100\n",
      "11934/11934 [==============================] - 14s 1ms/step - loss: 0.3058 - accuracy: 0.8504\n",
      "Epoch 52/100\n",
      "11934/11934 [==============================] - 13s 1ms/step - loss: 0.3049 - accuracy: 0.8509\n",
      "Epoch 53/100\n",
      "11934/11934 [==============================] - 14s 1ms/step - loss: 0.3045 - accuracy: 0.8510\n",
      "Epoch 54/100\n",
      "11934/11934 [==============================] - 13s 1ms/step - loss: 0.3046 - accuracy: 0.8508\n",
      "Epoch 55/100\n",
      "11934/11934 [==============================] - 13s 1ms/step - loss: 0.3046 - accuracy: 0.8513\n",
      "Epoch 56/100\n",
      "11934/11934 [==============================] - 13s 1ms/step - loss: 0.3042 - accuracy: 0.8508\n",
      "Epoch 57/100\n",
      "11934/11934 [==============================] - 13s 1ms/step - loss: 0.3036 - accuracy: 0.8512\n",
      "Epoch 58/100\n",
      "11934/11934 [==============================] - 13s 1ms/step - loss: 0.3041 - accuracy: 0.8512\n",
      "Epoch 59/100\n",
      "11934/11934 [==============================] - 13s 1ms/step - loss: 0.3036 - accuracy: 0.8512\n",
      "Epoch 60/100\n",
      "11934/11934 [==============================] - 13s 1ms/step - loss: 0.3032 - accuracy: 0.8517\n",
      "Epoch 61/100\n",
      "11934/11934 [==============================] - 13s 1ms/step - loss: 0.3039 - accuracy: 0.8511\n",
      "Epoch 62/100\n",
      "11934/11934 [==============================] - 13s 1ms/step - loss: 0.3030 - accuracy: 0.8518\n",
      "Epoch 63/100\n",
      "11934/11934 [==============================] - 13s 1ms/step - loss: 0.3029 - accuracy: 0.8521\n",
      "Epoch 64/100\n",
      "11934/11934 [==============================] - 13s 1ms/step - loss: 0.3029 - accuracy: 0.8517\n",
      "Epoch 65/100\n",
      "11934/11934 [==============================] - 13s 1ms/step - loss: 0.3023 - accuracy: 0.8517\n",
      "Epoch 66/100\n",
      "11934/11934 [==============================] - 13s 1ms/step - loss: 0.3027 - accuracy: 0.8521\n",
      "Epoch 67/100\n",
      "11934/11934 [==============================] - 13s 1ms/step - loss: 0.3023 - accuracy: 0.8521\n",
      "Epoch 68/100\n",
      "11934/11934 [==============================] - 13s 1ms/step - loss: 0.3025 - accuracy: 0.8520\n",
      "Epoch 69/100\n",
      "11934/11934 [==============================] - 13s 1ms/step - loss: 0.3026 - accuracy: 0.8520\n",
      "Epoch 70/100\n",
      "11934/11934 [==============================] - 13s 1ms/step - loss: 0.3018 - accuracy: 0.8524\n",
      "Epoch 71/100\n",
      "11934/11934 [==============================] - 13s 1ms/step - loss: 0.3022 - accuracy: 0.8523\n",
      "Epoch 72/100\n",
      "11934/11934 [==============================] - 13s 1ms/step - loss: 0.3016 - accuracy: 0.8527\n",
      "Epoch 73/100\n",
      "11934/11934 [==============================] - 13s 1ms/step - loss: 0.3017 - accuracy: 0.8525\n",
      "Epoch 74/100\n",
      "11934/11934 [==============================] - 13s 1ms/step - loss: 0.3014 - accuracy: 0.8528\n",
      "Epoch 75/100\n",
      "11934/11934 [==============================] - 13s 1ms/step - loss: 0.3015 - accuracy: 0.8524\n",
      "Epoch 76/100\n",
      "11934/11934 [==============================] - 13s 1ms/step - loss: 0.3014 - accuracy: 0.8529\n",
      "Epoch 77/100\n",
      "11934/11934 [==============================] - 13s 1ms/step - loss: 0.3013 - accuracy: 0.8529\n",
      "Epoch 78/100\n",
      "11934/11934 [==============================] - 13s 1ms/step - loss: 0.3015 - accuracy: 0.8530\n",
      "Epoch 79/100\n",
      "11934/11934 [==============================] - 13s 1ms/step - loss: 0.3009 - accuracy: 0.8533\n",
      "Epoch 80/100\n",
      "11934/11934 [==============================] - 13s 1ms/step - loss: 0.3004 - accuracy: 0.8528\n",
      "Epoch 81/100\n",
      "11934/11934 [==============================] - 13s 1ms/step - loss: 0.3012 - accuracy: 0.8527\n",
      "Epoch 82/100\n",
      "11934/11934 [==============================] - 13s 1ms/step - loss: 0.3006 - accuracy: 0.8533\n",
      "Epoch 83/100\n",
      "11934/11934 [==============================] - 13s 1ms/step - loss: 0.3011 - accuracy: 0.8528\n",
      "Epoch 84/100\n",
      "11934/11934 [==============================] - 13s 1ms/step - loss: 0.3007 - accuracy: 0.8529\n",
      "Epoch 85/100\n",
      "11934/11934 [==============================] - 13s 1ms/step - loss: 0.3006 - accuracy: 0.8530\n",
      "Epoch 86/100\n",
      "11934/11934 [==============================] - 13s 1ms/step - loss: 0.3005 - accuracy: 0.8532\n",
      "Epoch 87/100\n",
      "11934/11934 [==============================] - 13s 1ms/step - loss: 0.3003 - accuracy: 0.8532\n",
      "Epoch 88/100\n",
      "11934/11934 [==============================] - 13s 1ms/step - loss: 0.3003 - accuracy: 0.8531\n",
      "Epoch 89/100\n",
      "11934/11934 [==============================] - 13s 1ms/step - loss: 0.3009 - accuracy: 0.8532\n",
      "Epoch 90/100\n",
      "11934/11934 [==============================] - 13s 1ms/step - loss: 0.3000 - accuracy: 0.8534\n",
      "Epoch 91/100\n",
      "11934/11934 [==============================] - 13s 1ms/step - loss: 0.2998 - accuracy: 0.8535\n",
      "Epoch 92/100\n",
      "11934/11934 [==============================] - 13s 1ms/step - loss: 0.2995 - accuracy: 0.8537\n",
      "Epoch 93/100\n",
      "11934/11934 [==============================] - 13s 1ms/step - loss: 0.2997 - accuracy: 0.8534\n",
      "Epoch 94/100\n",
      "11934/11934 [==============================] - 13s 1ms/step - loss: 0.2997 - accuracy: 0.8538\n",
      "Epoch 95/100\n",
      "11934/11934 [==============================] - 13s 1ms/step - loss: 0.2997 - accuracy: 0.8537\n",
      "Epoch 96/100\n",
      "11934/11934 [==============================] - 13s 1ms/step - loss: 0.2998 - accuracy: 0.8536\n",
      "Epoch 97/100\n",
      "11934/11934 [==============================] - 13s 1ms/step - loss: 0.2999 - accuracy: 0.8536\n",
      "Epoch 98/100\n",
      "11934/11934 [==============================] - 13s 1ms/step - loss: 0.2994 - accuracy: 0.8540\n",
      "Epoch 99/100\n",
      "11934/11934 [==============================] - 13s 1ms/step - loss: 0.2992 - accuracy: 0.8540\n",
      "Epoch 100/100\n",
      "11934/11934 [==============================] - 13s 1ms/step - loss: 0.2987 - accuracy: 0.8543\n"
     ]
    }
   ],
   "source": [
    "\n",
    "tf.random.set_seed(42)\n",
    "\n",
    "\n",
    "\n",
    "model_22 = tf.keras.Sequential([\n",
    "  tf.keras.layers.Dense(16,activation = 'relu'),\n",
    "  tf.keras.layers.Dense(32,activation = 'relu'),\n",
    "  tf.keras.layers.Dense(16,activation = 'relu'),\n",
    "  tf.keras.layers.Dense(9,activation = 'relu'),\n",
    "  tf.keras.layers.Dense(1,activation = 'sigmoid')                            \n",
    "])\n",
    "\n",
    "\n",
    "model_22.compile(loss = 'binary_crossentropy',\n",
    "                optimizer = tf.keras.optimizers.Adam(lr=0.001),\n",
    "                metrics = ['accuracy'])\n",
    "\n",
    "\n",
    "history_2 = model_22.fit(x_train3,y_train3,epochs = 100)"
   ]
  },
  {
   "cell_type": "code",
   "execution_count": 45,
   "metadata": {},
   "outputs": [
    {
     "name": "stdout",
     "output_type": "stream",
     "text": [
      "3978/3978 [==============================] - 4s 915us/step - loss: 0.3078 - accuracy: 0.8513\n"
     ]
    },
    {
     "data": {
      "text/plain": [
       "[0.30783140659332275, 0.8512652516365051]"
      ]
     },
     "execution_count": 45,
     "metadata": {},
     "output_type": "execute_result"
    }
   ],
   "source": [
    "model_22.evaluate(x_test3,y_test3)"
   ]
  },
  {
   "cell_type": "code",
   "execution_count": 46,
   "metadata": {},
   "outputs": [
    {
     "name": "stdout",
     "output_type": "stream",
     "text": [
      "11934/11934 [==============================] - 11s 886us/step\n",
      "3978/3978 [==============================] - 3s 818us/step\n",
      "              precision    recall  f1-score   support\n",
      "\n",
      "           0       0.81      0.91      0.86    189618\n",
      "           1       0.90      0.79      0.84    192242\n",
      "\n",
      "    accuracy                           0.85    381860\n",
      "   macro avg       0.86      0.85      0.85    381860\n",
      "weighted avg       0.86      0.85      0.85    381860\n",
      "\n",
      "              precision    recall  f1-score   support\n",
      "\n",
      "           0       0.81      0.91      0.86     63243\n",
      "           1       0.90      0.79      0.84     64044\n",
      "\n",
      "    accuracy                           0.85    127287\n",
      "   macro avg       0.86      0.85      0.85    127287\n",
      "weighted avg       0.86      0.85      0.85    127287\n",
      "\n"
     ]
    }
   ],
   "source": [
    "ypred_train22 = model_22.predict(x_train3)\n",
    "y_pred_test22 = model_22.predict(x_test3)\n",
    "\n",
    "y_pred_test22 = (y_pred_test22 > 0.5)\n",
    "ypred_train22 = (ypred_train22 > 0.5)\n",
    "\n",
    "print(classification_report(y_train3,ypred_train22))\n",
    "print(classification_report(y_test3,y_pred_test22))"
   ]
  },
  {
   "cell_type": "code",
   "execution_count": 47,
   "metadata": {},
   "outputs": [
    {
     "name": "stdout",
     "output_type": "stream",
     "text": [
      "   1/3978 [..............................] - ETA: 1:09"
     ]
    },
    {
     "name": "stdout",
     "output_type": "stream",
     "text": [
      "3978/3978 [==============================] - 4s 943us/step\n"
     ]
    },
    {
     "data": {
      "image/png": "[encoded data removed]",
      "text/plain": [
       "<Figure size 640x480 with 1 Axes>"
      ]
     },
     "metadata": {},
     "output_type": "display_data"
    }
   ],
   "source": [
    "# cross_val_scores = cross_val_score(model_22, x_train3, y_train3, cv=5)\n",
    "# print(\"Cross-Validation Scores for the Best Model:\", cross_val_scores)\n",
    "# print(\"Average Cross-Validation Score:\", cross_val_scores.mean())\n",
    "y_proba_test = model_22.predict(x_test3).flatten()\n",
    "\n",
    "fpr, tpr, thresholds = roc_curve(y_test3, y_proba_test)\n",
    "\n",
    "plt.plot(fpr, tpr, label='ROC Curve')\n",
    "plt.xlabel('False Positive Rate')\n",
    "plt.ylabel('True Positive Rate')\n",
    "plt.title('ROC Curve with AUC = {:.2f}'.format(roc_auc_score(y_test3, y_proba_test)))\n",
    "plt.legend(loc='lower right')\n",
    "plt.grid(True)\n",
    "plt.show()"
   ]
  },
  {
   "cell_type": "markdown",
   "metadata": {},
   "source": [
    "## inne próby sieci neuronowych "
   ]
  },
  {
   "cell_type": "code",
   "execution_count": 48,
   "metadata": {},
   "outputs": [],
   "source": [
    "model = Sequential()\n",
    "model.add(Dense(units=16,activation='relu'))\n",
    "model.add(Dropout(0.5))\n",
    "\n",
    "model.add(Dense(units=15,activation='relu'))\n",
    "model.add(Dropout(0.5))\n",
    "\n",
    "model.add(Dense(units=1,activation='sigmoid'))\n",
    "model.compile(loss='binary_crossentropy', optimizer='adam')"
   ]
  },
  {
   "cell_type": "code",
   "execution_count": 49,
   "metadata": {},
   "outputs": [
    {
     "name": "stdout",
     "output_type": "stream",
     "text": [
      "Epoch 1/100\n"
     ]
    },
    {
     "name": "stdout",
     "output_type": "stream",
     "text": [
      "11934/11934 [==============================] - 17s 1ms/step - loss: 0.5621 - val_loss: 0.5143\n",
      "Epoch 2/100\n",
      "11934/11934 [==============================] - 16s 1ms/step - loss: 0.5374 - val_loss: 0.5040\n",
      "Epoch 3/100\n",
      "11934/11934 [==============================] - 16s 1ms/step - loss: 0.5322 - val_loss: 0.5009\n",
      "Epoch 4/100\n",
      "11934/11934 [==============================] - 16s 1ms/step - loss: 0.5301 - val_loss: 0.4980\n",
      "Epoch 5/100\n",
      "11934/11934 [==============================] - 16s 1ms/step - loss: 0.5283 - val_loss: 0.4988\n",
      "Epoch 6/100\n",
      "11934/11934 [==============================] - 16s 1ms/step - loss: 0.5289 - val_loss: 0.4946\n",
      "Epoch 7/100\n",
      "11934/11934 [==============================] - 16s 1ms/step - loss: 0.5277 - val_loss: 0.4928\n",
      "Epoch 8/100\n",
      "11934/11934 [==============================] - 16s 1ms/step - loss: 0.5274 - val_loss: 0.4944\n",
      "Epoch 9/100\n",
      "11934/11934 [==============================] - 16s 1ms/step - loss: 0.5273 - val_loss: 0.4940\n",
      "Epoch 10/100\n",
      "11934/11934 [==============================] - 16s 1ms/step - loss: 0.5272 - val_loss: 0.4916\n",
      "Epoch 11/100\n",
      "11934/11934 [==============================] - 17s 1ms/step - loss: 0.5264 - val_loss: 0.4936\n",
      "Epoch 12/100\n",
      "11934/11934 [==============================] - 17s 1ms/step - loss: 0.5271 - val_loss: 0.4901\n",
      "Epoch 13/100\n",
      "11934/11934 [==============================] - 16s 1ms/step - loss: 0.5254 - val_loss: 0.4908\n",
      "Epoch 14/100\n",
      "11934/11934 [==============================] - 16s 1ms/step - loss: 0.5264 - val_loss: 0.4908\n",
      "Epoch 15/100\n",
      "11934/11934 [==============================] - 16s 1ms/step - loss: 0.5259 - val_loss: 0.4950\n",
      "Epoch 16/100\n",
      "11934/11934 [==============================] - 16s 1ms/step - loss: 0.5256 - val_loss: 0.4917\n",
      "Epoch 17/100\n",
      "11934/11934 [==============================] - 16s 1ms/step - loss: 0.5262 - val_loss: 0.4912\n",
      "Epoch 18/100\n",
      "11934/11934 [==============================] - 16s 1ms/step - loss: 0.5253 - val_loss: 0.4893\n",
      "Epoch 19/100\n",
      "11934/11934 [==============================] - 16s 1ms/step - loss: 0.5258 - val_loss: 0.4896\n",
      "Epoch 20/100\n",
      "11934/11934 [==============================] - 16s 1ms/step - loss: 0.5250 - val_loss: 0.4907\n",
      "Epoch 21/100\n",
      "11934/11934 [==============================] - 16s 1ms/step - loss: 0.5262 - val_loss: 0.4902\n",
      "Epoch 22/100\n",
      "11934/11934 [==============================] - 16s 1ms/step - loss: 0.5252 - val_loss: 0.4929\n",
      "Epoch 23/100\n",
      "11934/11934 [==============================] - 16s 1ms/step - loss: 0.5253 - val_loss: 0.4911\n",
      "Epoch 24/100\n",
      "11934/11934 [==============================] - 16s 1ms/step - loss: 0.5252 - val_loss: 0.4940\n",
      "Epoch 25/100\n",
      "11934/11934 [==============================] - 16s 1ms/step - loss: 0.5251 - val_loss: 0.4917\n",
      "Epoch 26/100\n",
      "11934/11934 [==============================] - 16s 1ms/step - loss: 0.5251 - val_loss: 0.4897\n",
      "Epoch 27/100\n",
      "11934/11934 [==============================] - 16s 1ms/step - loss: 0.5251 - val_loss: 0.4903\n",
      "Epoch 28/100\n",
      "11934/11934 [==============================] - 16s 1ms/step - loss: 0.5253 - val_loss: 0.4894\n",
      "Epoch 29/100\n",
      "11934/11934 [==============================] - 16s 1ms/step - loss: 0.5252 - val_loss: 0.4913\n",
      "Epoch 30/100\n",
      "11934/11934 [==============================] - 16s 1ms/step - loss: 0.5252 - val_loss: 0.4915\n",
      "Epoch 31/100\n",
      "11934/11934 [==============================] - 16s 1ms/step - loss: 0.5255 - val_loss: 0.4884\n",
      "Epoch 32/100\n",
      "11934/11934 [==============================] - 16s 1ms/step - loss: 0.5252 - val_loss: 0.4922\n",
      "Epoch 33/100\n",
      "11934/11934 [==============================] - 16s 1ms/step - loss: 0.5245 - val_loss: 0.4899\n",
      "Epoch 34/100\n",
      "11934/11934 [==============================] - 16s 1ms/step - loss: 0.5248 - val_loss: 0.4897\n",
      "Epoch 35/100\n",
      "11934/11934 [==============================] - 16s 1ms/step - loss: 0.5248 - val_loss: 0.4894\n",
      "Epoch 36/100\n",
      "11934/11934 [==============================] - 16s 1ms/step - loss: 0.5251 - val_loss: 0.4947\n",
      "Epoch 37/100\n",
      "11934/11934 [==============================] - 16s 1ms/step - loss: 0.5244 - val_loss: 0.4898\n",
      "Epoch 38/100\n",
      "11934/11934 [==============================] - 16s 1ms/step - loss: 0.5241 - val_loss: 0.4884\n",
      "Epoch 39/100\n",
      "11934/11934 [==============================] - 16s 1ms/step - loss: 0.5249 - val_loss: 0.4888\n",
      "Epoch 40/100\n",
      "11934/11934 [==============================] - 16s 1ms/step - loss: 0.5251 - val_loss: 0.4916\n",
      "Epoch 41/100\n",
      "11934/11934 [==============================] - 16s 1ms/step - loss: 0.5254 - val_loss: 0.4915\n",
      "Epoch 42/100\n",
      "11934/11934 [==============================] - 16s 1ms/step - loss: 0.5253 - val_loss: 0.4906\n",
      "Epoch 43/100\n",
      "11934/11934 [==============================] - 16s 1ms/step - loss: 0.5244 - val_loss: 0.4896\n",
      "Epoch 44/100\n",
      "11934/11934 [==============================] - 16s 1ms/step - loss: 0.5256 - val_loss: 0.4904\n",
      "Epoch 45/100\n",
      "11934/11934 [==============================] - 16s 1ms/step - loss: 0.5252 - val_loss: 0.4898\n",
      "Epoch 46/100\n",
      "11934/11934 [==============================] - 16s 1ms/step - loss: 0.5243 - val_loss: 0.4917\n",
      "Epoch 47/100\n",
      "11934/11934 [==============================] - 16s 1ms/step - loss: 0.5238 - val_loss: 0.4885\n",
      "Epoch 48/100\n",
      "11934/11934 [==============================] - 16s 1ms/step - loss: 0.5248 - val_loss: 0.4922\n",
      "Epoch 49/100\n",
      "11934/11934 [==============================] - 17s 1ms/step - loss: 0.5243 - val_loss: 0.4867\n",
      "Epoch 50/100\n",
      "11934/11934 [==============================] - 16s 1ms/step - loss: 0.5250 - val_loss: 0.4882\n",
      "Epoch 51/100\n",
      "11934/11934 [==============================] - 16s 1ms/step - loss: 0.5243 - val_loss: 0.4882\n",
      "Epoch 52/100\n",
      "11934/11934 [==============================] - 16s 1ms/step - loss: 0.5233 - val_loss: 0.4908\n",
      "Epoch 53/100\n",
      "11934/11934 [==============================] - 16s 1ms/step - loss: 0.5241 - val_loss: 0.4878\n",
      "Epoch 54/100\n",
      "11934/11934 [==============================] - 16s 1ms/step - loss: 0.5246 - val_loss: 0.4935\n",
      "Epoch 55/100\n",
      "11934/11934 [==============================] - 16s 1ms/step - loss: 0.5240 - val_loss: 0.4891\n",
      "Epoch 56/100\n",
      "11934/11934 [==============================] - 16s 1ms/step - loss: 0.5241 - val_loss: 0.4881\n",
      "Epoch 57/100\n",
      "11934/11934 [==============================] - 16s 1ms/step - loss: 0.5245 - val_loss: 0.4899\n",
      "Epoch 58/100\n",
      "11934/11934 [==============================] - 15s 1ms/step - loss: 0.5243 - val_loss: 0.4905\n",
      "Epoch 59/100\n",
      "11934/11934 [==============================] - 16s 1ms/step - loss: 0.5240 - val_loss: 0.4906\n",
      "Epoch 60/100\n",
      "11934/11934 [==============================] - 16s 1ms/step - loss: 0.5243 - val_loss: 0.4887\n",
      "Epoch 61/100\n",
      "11934/11934 [==============================] - 16s 1ms/step - loss: 0.5246 - val_loss: 0.4914\n",
      "Epoch 62/100\n",
      "11934/11934 [==============================] - 16s 1ms/step - loss: 0.5250 - val_loss: 0.4923\n",
      "Epoch 63/100\n",
      "11934/11934 [==============================] - 16s 1ms/step - loss: 0.5248 - val_loss: 0.4892\n",
      "Epoch 64/100\n",
      "11934/11934 [==============================] - 16s 1ms/step - loss: 0.5239 - val_loss: 0.4886\n",
      "Epoch 65/100\n",
      "11934/11934 [==============================] - 16s 1ms/step - loss: 0.5250 - val_loss: 0.4886\n",
      "Epoch 66/100\n",
      "11934/11934 [==============================] - 16s 1ms/step - loss: 0.5240 - val_loss: 0.4870\n",
      "Epoch 67/100\n",
      "11934/11934 [==============================] - 16s 1ms/step - loss: 0.5241 - val_loss: 0.4881\n",
      "Epoch 68/100\n",
      "11934/11934 [==============================] - 16s 1ms/step - loss: 0.5250 - val_loss: 0.4893\n",
      "Epoch 69/100\n",
      "11934/11934 [==============================] - 16s 1ms/step - loss: 0.5242 - val_loss: 0.4913\n",
      "Epoch 70/100\n",
      "11934/11934 [==============================] - 16s 1ms/step - loss: 0.5242 - val_loss: 0.4886\n",
      "Epoch 71/100\n",
      "11934/11934 [==============================] - 16s 1ms/step - loss: 0.5244 - val_loss: 0.4892\n",
      "Epoch 72/100\n",
      "11934/11934 [==============================] - 16s 1ms/step - loss: 0.5237 - val_loss: 0.4892\n",
      "Epoch 73/100\n",
      "11934/11934 [==============================] - 16s 1ms/step - loss: 0.5245 - val_loss: 0.4902\n",
      "Epoch 74/100\n",
      "11934/11934 [==============================] - 16s 1ms/step - loss: 0.5240 - val_loss: 0.4906\n",
      "Epoch 74: early stopping\n"
     ]
    },
    {
     "data": {
      "text/plain": [
       "<keras.src.callbacks.History at 0x258f64d6b90>"
      ]
     },
     "execution_count": 49,
     "metadata": {},
     "output_type": "execute_result"
    }
   ],
   "source": [
    "model.fit(x=x_train3, \n",
    "          y=y_train3, \n",
    "          epochs=100,\n",
    "          validation_data=(x_test3, y_test3), verbose=1,\n",
    "          callbacks=[early_stop]\n",
    "          )"
   ]
  },
  {
   "cell_type": "code",
   "execution_count": 50,
   "metadata": {},
   "outputs": [
    {
     "name": "stdout",
     "output_type": "stream",
     "text": [
      "11934/11934 [==============================] - 10s 874us/step\n",
      "3978/3978 [==============================] - 3s 789us/step\n",
      "              precision    recall  f1-score   support\n",
      "\n",
      "           0       0.79      0.73      0.76    189618\n",
      "           1       0.75      0.80      0.78    192242\n",
      "\n",
      "    accuracy                           0.77    381860\n",
      "   macro avg       0.77      0.77      0.77    381860\n",
      "weighted avg       0.77      0.77      0.77    381860\n",
      "\n",
      "              precision    recall  f1-score   support\n",
      "\n",
      "           0       0.79      0.73      0.76     63243\n",
      "           1       0.75      0.80      0.78     64044\n",
      "\n",
      "    accuracy                           0.77    127287\n",
      "   macro avg       0.77      0.77      0.77    127287\n",
      "weighted avg       0.77      0.77      0.77    127287\n",
      "\n"
     ]
    }
   ],
   "source": [
    "ypred_train5 = model.predict(x_train3)\n",
    "y_pred_test5 = model.predict(x_test3)\n",
    "\n",
    "y_pred_test5 = (y_pred_test5 > 0.5)\n",
    "ypred_train5 = (ypred_train5 > 0.5)\n",
    "\n",
    "print(classification_report(y_train3,ypred_train5))\n",
    "print(classification_report(y_test3,y_pred_test5))"
   ]
  },
  {
   "cell_type": "code",
   "execution_count": 51,
   "metadata": {},
   "outputs": [
    {
     "name": "stdout",
     "output_type": "stream",
     "text": [
      "   1/3978 [..............................] - ETA: 1:10"
     ]
    },
    {
     "name": "stdout",
     "output_type": "stream",
     "text": [
      "3978/3978 [==============================] - 4s 887us/step\n"
     ]
    },
    {
     "data": {
      "image/png": "[encoded data removed]",
      "text/plain": [
       "<Figure size 640x480 with 1 Axes>"
      ]
     },
     "metadata": {},
     "output_type": "display_data"
    }
   ],
   "source": [
    "# cross_val_scores = cross_val_score(model, x_train3, y_train3, cv=5)\n",
    "# print(\"Cross-Validation Scores for the Best Model:\", cross_val_scores)\n",
    "# print(\"Average Cross-Validation Score:\", cross_val_scores.mean())\n",
    "y_proba_test = model.predict(x_test3).flatten()\n",
    "\n",
    "fpr, tpr, thresholds = roc_curve(y_test3, y_proba_test)\n",
    "\n",
    "plt.plot(fpr, tpr, label='ROC Curve')\n",
    "plt.xlabel('False Positive Rate')\n",
    "plt.ylabel('True Positive Rate')\n",
    "plt.title('ROC Curve with AUC = {:.2f}'.format(roc_auc_score(y_test3, y_proba_test)))\n",
    "plt.legend(loc='lower right')\n",
    "plt.grid(True)\n",
    "plt.show()"
   ]
  },
  {
   "cell_type": "code",
   "execution_count": 52,
   "metadata": {},
   "outputs": [],
   "source": [
    "model1 = Sequential()\n",
    "\n",
    "\n",
    "\n",
    "model1.add(Dense(16,  activation='relu'))\n",
    "model1.add(Dropout(0.2))\n",
    "\n",
    "model1.add(Dense(10, activation='relu'))\n",
    "model1.add(Dropout(0.2))\n",
    "\n",
    "model1.add(Dense(units=1,activation='sigmoid'))\n",
    "\n",
    "model1.compile(loss='binary_crossentropy', optimizer='adam')"
   ]
  },
  {
   "cell_type": "code",
   "execution_count": 53,
   "metadata": {},
   "outputs": [
    {
     "name": "stdout",
     "output_type": "stream",
     "text": [
      "Epoch 1/100\n"
     ]
    },
    {
     "name": "stdout",
     "output_type": "stream",
     "text": [
      "11934/11934 [==============================] - 17s 1ms/step - loss: 0.5166 - val_loss: 0.4566\n",
      "Epoch 2/100\n",
      "11934/11934 [==============================] - 16s 1ms/step - loss: 0.4785 - val_loss: 0.4398\n",
      "Epoch 3/100\n",
      "11934/11934 [==============================] - 16s 1ms/step - loss: 0.4697 - val_loss: 0.4325\n",
      "Epoch 4/100\n",
      "11934/11934 [==============================] - 16s 1ms/step - loss: 0.4655 - val_loss: 0.4299\n",
      "Epoch 5/100\n",
      "11934/11934 [==============================] - 16s 1ms/step - loss: 0.4643 - val_loss: 0.4239\n",
      "Epoch 6/100\n",
      "11934/11934 [==============================] - 14s 1ms/step - loss: 0.4625 - val_loss: 0.4209\n",
      "Epoch 7/100\n",
      "11934/11934 [==============================] - 14s 1ms/step - loss: 0.4612 - val_loss: 0.4195\n",
      "Epoch 8/100\n",
      "11934/11934 [==============================] - 14s 1ms/step - loss: 0.4601 - val_loss: 0.4209\n",
      "Epoch 9/100\n",
      "11934/11934 [==============================] - 14s 1ms/step - loss: 0.4581 - val_loss: 0.4220\n",
      "Epoch 10/100\n",
      "11934/11934 [==============================] - 14s 1ms/step - loss: 0.4576 - val_loss: 0.4187\n",
      "Epoch 11/100\n",
      "11934/11934 [==============================] - 14s 1ms/step - loss: 0.4563 - val_loss: 0.4248\n",
      "Epoch 12/100\n",
      "11934/11934 [==============================] - 14s 1ms/step - loss: 0.4562 - val_loss: 0.4164\n",
      "Epoch 13/100\n",
      "11934/11934 [==============================] - 14s 1ms/step - loss: 0.4547 - val_loss: 0.4204\n",
      "Epoch 14/100\n",
      "11934/11934 [==============================] - 14s 1ms/step - loss: 0.4549 - val_loss: 0.4182\n",
      "Epoch 15/100\n",
      "11934/11934 [==============================] - 14s 1ms/step - loss: 0.4544 - val_loss: 0.4209\n",
      "Epoch 16/100\n",
      "11934/11934 [==============================] - 14s 1ms/step - loss: 0.4549 - val_loss: 0.4172\n",
      "Epoch 17/100\n",
      "11934/11934 [==============================] - 14s 1ms/step - loss: 0.4534 - val_loss: 0.4159\n",
      "Epoch 18/100\n",
      "11934/11934 [==============================] - 14s 1ms/step - loss: 0.4538 - val_loss: 0.4162\n",
      "Epoch 19/100\n",
      "11934/11934 [==============================] - 14s 1ms/step - loss: 0.4544 - val_loss: 0.4139\n",
      "Epoch 20/100\n",
      "11934/11934 [==============================] - 14s 1ms/step - loss: 0.4533 - val_loss: 0.4166\n",
      "Epoch 21/100\n",
      "11934/11934 [==============================] - 14s 1ms/step - loss: 0.4531 - val_loss: 0.4158\n",
      "Epoch 22/100\n",
      "11934/11934 [==============================] - 14s 1ms/step - loss: 0.4523 - val_loss: 0.4183\n",
      "Epoch 23/100\n",
      "11934/11934 [==============================] - 14s 1ms/step - loss: 0.4529 - val_loss: 0.4159\n",
      "Epoch 24/100\n",
      "11934/11934 [==============================] - 14s 1ms/step - loss: 0.4522 - val_loss: 0.4148\n",
      "Epoch 25/100\n",
      "11934/11934 [==============================] - 14s 1ms/step - loss: 0.4521 - val_loss: 0.4104\n",
      "Epoch 26/100\n",
      "11934/11934 [==============================] - 14s 1ms/step - loss: 0.4527 - val_loss: 0.4173\n",
      "Epoch 27/100\n",
      "11934/11934 [==============================] - 14s 1ms/step - loss: 0.4511 - val_loss: 0.4172\n",
      "Epoch 28/100\n",
      "11934/11934 [==============================] - 14s 1ms/step - loss: 0.4516 - val_loss: 0.4175\n",
      "Epoch 29/100\n",
      "11934/11934 [==============================] - 14s 1ms/step - loss: 0.4504 - val_loss: 0.4163\n",
      "Epoch 30/100\n",
      "11934/11934 [==============================] - 14s 1ms/step - loss: 0.4509 - val_loss: 0.4154\n",
      "Epoch 31/100\n",
      "11934/11934 [==============================] - 14s 1ms/step - loss: 0.4504 - val_loss: 0.4137\n",
      "Epoch 32/100\n",
      "11934/11934 [==============================] - 14s 1ms/step - loss: 0.4507 - val_loss: 0.4162\n",
      "Epoch 33/100\n",
      "11934/11934 [==============================] - 14s 1ms/step - loss: 0.4504 - val_loss: 0.4139\n",
      "Epoch 34/100\n",
      "11934/11934 [==============================] - 14s 1ms/step - loss: 0.4509 - val_loss: 0.4139\n",
      "Epoch 35/100\n",
      "11934/11934 [==============================] - 14s 1ms/step - loss: 0.4509 - val_loss: 0.4149\n",
      "Epoch 36/100\n",
      "11934/11934 [==============================] - 14s 1ms/step - loss: 0.4499 - val_loss: 0.4174\n",
      "Epoch 37/100\n",
      "11934/11934 [==============================] - 14s 1ms/step - loss: 0.4498 - val_loss: 0.4160\n",
      "Epoch 38/100\n",
      "11934/11934 [==============================] - 14s 1ms/step - loss: 0.4498 - val_loss: 0.4147\n",
      "Epoch 39/100\n",
      "11934/11934 [==============================] - 14s 1ms/step - loss: 0.4503 - val_loss: 0.4158\n",
      "Epoch 40/100\n",
      "11934/11934 [==============================] - 14s 1ms/step - loss: 0.4504 - val_loss: 0.4155\n",
      "Epoch 41/100\n",
      "11934/11934 [==============================] - 14s 1ms/step - loss: 0.4503 - val_loss: 0.4164\n",
      "Epoch 42/100\n",
      "11934/11934 [==============================] - 14s 1ms/step - loss: 0.4487 - val_loss: 0.4168\n",
      "Epoch 43/100\n",
      "11934/11934 [==============================] - 14s 1ms/step - loss: 0.4486 - val_loss: 0.4143\n",
      "Epoch 44/100\n",
      "11934/11934 [==============================] - 14s 1ms/step - loss: 0.4494 - val_loss: 0.4122\n",
      "Epoch 45/100\n",
      "11934/11934 [==============================] - 14s 1ms/step - loss: 0.4489 - val_loss: 0.4159\n",
      "Epoch 46/100\n",
      "11934/11934 [==============================] - 14s 1ms/step - loss: 0.4493 - val_loss: 0.4116\n",
      "Epoch 47/100\n",
      "11934/11934 [==============================] - 14s 1ms/step - loss: 0.4498 - val_loss: 0.4135\n",
      "Epoch 48/100\n",
      "11934/11934 [==============================] - 14s 1ms/step - loss: 0.4490 - val_loss: 0.4158\n",
      "Epoch 49/100\n",
      "11934/11934 [==============================] - 14s 1ms/step - loss: 0.4490 - val_loss: 0.4137\n",
      "Epoch 50/100\n",
      "11934/11934 [==============================] - 14s 1ms/step - loss: 0.4497 - val_loss: 0.4137\n",
      "Epoch 50: early stopping\n"
     ]
    },
    {
     "data": {
      "text/plain": [
       "<keras.src.callbacks.History at 0x25911550690>"
      ]
     },
     "execution_count": 53,
     "metadata": {},
     "output_type": "execute_result"
    }
   ],
   "source": [
    "model1.fit(x=x_train3, \n",
    "          y=y_train3, \n",
    "          epochs=100,\n",
    "          validation_data=(x_test3, y_test3), verbose=1,\n",
    "          callbacks=[early_stop]\n",
    "          )"
   ]
  },
  {
   "cell_type": "code",
   "execution_count": 54,
   "metadata": {},
   "outputs": [
    {
     "name": "stdout",
     "output_type": "stream",
     "text": [
      "11934/11934 [==============================] - 9s 786us/step\n",
      "3978/3978 [==============================] - 3s 740us/step\n",
      "              precision    recall  f1-score   support\n",
      "\n",
      "           0       0.84      0.77      0.80    189618\n",
      "           1       0.79      0.85      0.82    192242\n",
      "\n",
      "    accuracy                           0.81    381860\n",
      "   macro avg       0.81      0.81      0.81    381860\n",
      "weighted avg       0.81      0.81      0.81    381860\n",
      "\n",
      "              precision    recall  f1-score   support\n",
      "\n",
      "           0       0.84      0.76      0.80     63243\n",
      "           1       0.79      0.85      0.82     64044\n",
      "\n",
      "    accuracy                           0.81    127287\n",
      "   macro avg       0.81      0.81      0.81    127287\n",
      "weighted avg       0.81      0.81      0.81    127287\n",
      "\n"
     ]
    }
   ],
   "source": [
    "ypred_train7 = model1.predict(x_train3)\n",
    "y_pred_test7 = model1.predict(x_test3)\n",
    "\n",
    "y_pred_test7 = (y_pred_test7 > 0.5)\n",
    "ypred_train7 = (ypred_train7 > 0.5)\n",
    "\n",
    "print(classification_report(y_train3,ypred_train7))\n",
    "print(classification_report(y_test3,y_pred_test7))"
   ]
  },
  {
   "cell_type": "code",
   "execution_count": 55,
   "metadata": {},
   "outputs": [
    {
     "name": "stdout",
     "output_type": "stream",
     "text": [
      "   1/3978 [..............................] - ETA: 1:06"
     ]
    },
    {
     "name": "stdout",
     "output_type": "stream",
     "text": [
      "3978/3978 [==============================] - 3s 792us/step\n"
     ]
    },
    {
     "data": {
      "image/png": "[encoded data removed]",
      "text/plain": [
       "<Figure size 640x480 with 1 Axes>"
      ]
     },
     "metadata": {},
     "output_type": "display_data"
    }
   ],
   "source": [
    "# cross_val_scores = cross_val_score(model1, x_train3, y_train3, cv=5)\n",
    "# print(\"Cross-Validation Scores for the Best Model:\", cross_val_scores)\n",
    "# print(\"Average Cross-Validation Score:\", cross_val_scores.mean())\n",
    "y_proba_test = model1.predict(x_test3).flatten()\n",
    "\n",
    "fpr, tpr, thresholds = roc_curve(y_test3, y_proba_test)\n",
    "\n",
    "plt.plot(fpr, tpr, label='ROC Curve')\n",
    "plt.xlabel('False Positive Rate')\n",
    "plt.ylabel('True Positive Rate')\n",
    "plt.title('ROC Curve with AUC = {:.2f}'.format(roc_auc_score(y_test3, y_proba_test)))\n",
    "plt.legend(loc='lower right')\n",
    "plt.grid(True)\n",
    "plt.show()"
   ]
  },
  {
   "cell_type": "markdown",
   "metadata": {},
   "source": [
    "## SVC"
   ]
  },
  {
   "cell_type": "code",
   "execution_count": 56,
   "metadata": {},
   "outputs": [],
   "source": [
    "# model3 = SVC(probability=True)"
   ]
  },
  {
   "cell_type": "code",
   "execution_count": 57,
   "metadata": {},
   "outputs": [],
   "source": [
    "# model3.fit(x_train3,y_train3)"
   ]
  },
  {
   "cell_type": "code",
   "execution_count": 58,
   "metadata": {},
   "outputs": [],
   "source": [
    "# ypred_train9 = model3.predict(x_train3)\n",
    "# y_pred_test9 = model3.predict(x_test3)\n",
    "\n",
    "\n",
    "# print(classification_report(y_train3,ypred_train9))\n",
    "# print(classification_report(y_test3,y_pred_test9))"
   ]
  },
  {
   "cell_type": "code",
   "execution_count": 59,
   "metadata": {},
   "outputs": [],
   "source": [
    "# grid = GridSearchCV(SVC(),param_grid,refit=True,verbose=3)"
   ]
  },
  {
   "cell_type": "code",
   "execution_count": 60,
   "metadata": {},
   "outputs": [],
   "source": [
    "# grid.fit(x_train3,y_train3)"
   ]
  },
  {
   "cell_type": "code",
   "execution_count": 61,
   "metadata": {},
   "outputs": [],
   "source": [
    "# grid.best_params_"
   ]
  },
  {
   "cell_type": "code",
   "execution_count": 62,
   "metadata": {},
   "outputs": [],
   "source": [
    "# grid.best_estimator_"
   ]
  },
  {
   "cell_type": "code",
   "execution_count": 63,
   "metadata": {},
   "outputs": [],
   "source": [
    "# ypred_train = grid.predict(x_train3)\n",
    "# y_pred_test = grid.predict(x_test3)\n",
    "\n",
    "\n",
    "# print(classification_report(y_train3,ypred_train))\n",
    "# print(classification_report(y_test3,y_pred_test))"
   ]
  },
  {
   "cell_type": "code",
   "execution_count": 64,
   "metadata": {},
   "outputs": [],
   "source": [
    "\n",
    "# y_proba_test = grid.predict_proba(x_test3)[:, 1]\n",
    "\n",
    "# fpr, tpr, thresholds = roc_curve(y_test3, y_proba_test)\n",
    "\n",
    "# plt.plot(fpr, tpr, label='ROC Curve')\n",
    "# plt.xlabel('False Positive Rate')\n",
    "# plt.ylabel('True Positive Rate')\n",
    "# plt.title('ROC Curve with AUC = {:.2f}'.format(roc_auc_score(y_test3, y_proba_test)))\n",
    "# plt.legend(loc='lower right')\n",
    "# plt.grid(True)\n",
    "# plt.show()"
   ]
  },
  {
   "cell_type": "code",
   "execution_count": 8,
   "metadata": {},
   "outputs": [
    {
     "name": "stdout",
     "output_type": "stream",
     "text": [
      "Training Results\n",
      "\n",
      "              precision    recall  f1-score   support\n",
      "\n",
      "           0       0.83      0.85      0.84    189618\n",
      "           1       0.85      0.82      0.84    192242\n",
      "\n",
      "    accuracy                           0.84    381860\n",
      "   macro avg       0.84      0.84      0.84    381860\n",
      "weighted avg       0.84      0.84      0.84    381860\n",
      "\n",
      "Testing Results\n",
      "\n",
      "              precision    recall  f1-score   support\n",
      "\n",
      "           0       0.82      0.85      0.84     63243\n",
      "           1       0.85      0.82      0.83     64044\n",
      "\n",
      "    accuracy                           0.83    127287\n",
      "   macro avg       0.83      0.83      0.83    127287\n",
      "weighted avg       0.83      0.83      0.83    127287\n",
      "\n"
     ]
    },
    {
     "data": {
      "image/png": "[encoded data removed]",
      "text/plain": [
       "<Figure size 640x480 with 1 Axes>"
      ]
     },
     "metadata": {},
     "output_type": "display_data"
    }
   ],
   "source": [
    "model3 = SVC(C=0.1, gamma=1, kernel='rbf', probability=True)\n",
    "model3.fit(x_train3, y_train3)\n",
    "\n",
    "ypred_train14 = model3.predict(x_train3)\n",
    "y_pred_test14 = model3.predict(x_test3)\n",
    "\n",
    "print(\"Training Results\\n\")\n",
    "print(classification_report(y_train3, ypred_train14))\n",
    "print(\"Testing Results\\n\")\n",
    "print(classification_report(y_test3, y_pred_test14))\n",
    "\n",
    "# cross_val_scores = cross_val_score(model3, x_train3, y_train3, cv=5)\n",
    "# print(\"Cross-Validation Scores for the Best Model:\", cross_val_scores)\n",
    "# print(\"Average Cross-Validation Score:\", cross_val_scores.mean())\n",
    "\n",
    "y_proba_test = model3.predict_proba(x_test3)[:, 1]\n",
    "fpr, tpr, thresholds = roc_curve(y_test3, y_proba_test)\n",
    "plt.plot(fpr, tpr, label='ROC Curve')\n",
    "plt.xlabel('False Positive Rate')\n",
    "plt.ylabel('True Positive Rate')\n",
    "plt.title('ROC Curve with AUC = {:.2f}'.format(roc_auc_score(y_test3, y_proba_test)))\n",
    "plt.legend(loc='lower right')\n",
    "plt.grid(True)\n",
    "plt.show()"
   ]
  }
 ],
 "metadata": {
  "kernelspec": {
   "display_name": "Python 3",
   "language": "python",
   "name": "python3"
  },
  "language_info": {
   "codemirror_mode": {
    "name": "ipython",
    "version": 3
   },
   "file_extension": ".py",
   "mimetype": "text/x-python",
   "name": "python",
   "nbconvert_exporter": "python",
   "pygments_lexer": "ipython3",
   "version": "3.11.5"
  }
 },
 "nbformat": 4,
 "nbformat_minor": 2
}
