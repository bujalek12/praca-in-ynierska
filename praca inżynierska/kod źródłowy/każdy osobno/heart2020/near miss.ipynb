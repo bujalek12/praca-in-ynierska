{
 "cells": [
  {
   "cell_type": "code",
   "execution_count": 1,
   "metadata": {},
   "outputs": [
    {
     "name": "stdout",
     "output_type": "stream",
     "text": [
      "WARNING:tensorflow:From C:\\Users\\DELL\\AppData\\Roaming\\Python\\Python311\\site-packages\\keras\\src\\losses.py:2976: The name tf.losses.sparse_softmax_cross_entropy is deprecated. Please use tf.compat.v1.losses.sparse_softmax_cross_entropy instead.\n",
      "\n"
     ]
    }
   ],
   "source": [
    "import pandas as pd\n",
    "import numpy as np\n",
    "import matplotlib.pyplot as plt\n",
    "import plotly.express as px\n",
    "from sklearn.preprocessing import LabelEncoder\n",
    "from sklearn.preprocessing import RobustScaler , MinMaxScaler, StandardScaler\n",
    "import seaborn as sns\n",
    "from sklearn.metrics import roc_curve\n",
    "from sklearn.metrics import roc_auc_score\n",
    "import tensorflow as tf\n",
    "from keras.preprocessing.image import ImageDataGenerator\n",
    "from tensorflow.keras.layers import Dropout\n",
    "from tensorflow.keras.models import Sequential\n",
    "from tensorflow.keras.layers import Dense, Activation\n",
    "from tensorflow.keras.callbacks import EarlyStopping\n",
    "from tensorflow.keras.layers import Input,Flatten,Conv1D,MaxPooling1D\n",
    "from sklearn.metrics import classification_report\n",
    "import warnings\n",
    "warnings.filterwarnings('ignore')\n",
    "import missingno as msno\n",
    "from sklearn.model_selection import train_test_split\n",
    "from sklearn.metrics import accuracy_score\n",
    "from sklearn.metrics import mean_absolute_error , mean_absolute_percentage_error , mean_squared_error\n",
    "from sklearn.metrics import r2_score\n",
    "from sklearn.metrics import confusion_matrix\n",
    "from sklearn.model_selection import cross_val_score\n",
    "from sklearn.metrics import RocCurveDisplay\n",
    "from sklearn.model_selection import RepeatedStratifiedKFold\n",
    "from sklearn.metrics import accuracy_score, precision_score, recall_score, f1_score\n",
    "from sklearn.model_selection import GridSearchCV\n",
    "from sklearn.tree import DecisionTreeClassifier\n",
    "from sklearn.ensemble import RandomForestClassifier\n",
    "from sklearn.naive_bayes import GaussianNB\n",
    "from xgboost import XGBClassifier\n",
    "from sklearn.linear_model import LogisticRegression\n",
    "from sklearn.svm import SVC\n",
    "from sklearn.decomposition import PCA\n",
    "from sklearn.ensemble import GradientBoostingClassifier\n",
    "from sklearn.neighbors import KNeighborsClassifier\n",
    "from keras.layers import LSTM\n",
    "from imblearn.under_sampling import NearMiss\n",
    "from sklearn.preprocessing import MinMaxScaler\n"
   ]
  },
  {
   "cell_type": "markdown",
   "metadata": {},
   "source": [
    "## With Near Miss Under-Sampling With Evaluation"
   ]
  },
  {
   "cell_type": "code",
   "execution_count": 2,
   "metadata": {},
   "outputs": [
    {
     "data": {
      "text/html": [
       "<div>\n",
       "<style scoped>\n",
       "    .dataframe tbody tr th:only-of-type {\n",
       "        vertical-align: middle;\n",
       "    }\n",
       "\n",
       "    .dataframe tbody tr th {\n",
       "        vertical-align: top;\n",
       "    }\n",
       "\n",
       "    .dataframe thead th {\n",
       "        text-align: right;\n",
       "    }\n",
       "</style>\n",
       "<table border=\"1\" class=\"dataframe\">\n",
       "  <thead>\n",
       "    <tr style=\"text-align: right;\">\n",
       "      <th></th>\n",
       "      <th>HeartDisease</th>\n",
       "      <th>BMI</th>\n",
       "      <th>Smoking</th>\n",
       "      <th>AlcoholDrinking</th>\n",
       "      <th>Stroke</th>\n",
       "      <th>PhysicalHealth</th>\n",
       "      <th>MentalHealth</th>\n",
       "      <th>DiffWalking</th>\n",
       "      <th>Sex</th>\n",
       "      <th>AgeCategory</th>\n",
       "      <th>Race</th>\n",
       "      <th>Diabetic</th>\n",
       "      <th>PhysicalActivity</th>\n",
       "      <th>GenHealth</th>\n",
       "      <th>SleepTime</th>\n",
       "      <th>Asthma</th>\n",
       "      <th>KidneyDisease</th>\n",
       "      <th>SkinCancer</th>\n",
       "    </tr>\n",
       "  </thead>\n",
       "  <tbody>\n",
       "    <tr>\n",
       "      <th>0</th>\n",
       "      <td>0</td>\n",
       "      <td>16.60</td>\n",
       "      <td>1</td>\n",
       "      <td>0</td>\n",
       "      <td>0</td>\n",
       "      <td>3</td>\n",
       "      <td>30</td>\n",
       "      <td>0</td>\n",
       "      <td>0</td>\n",
       "      <td>8</td>\n",
       "      <td>4</td>\n",
       "      <td>2</td>\n",
       "      <td>1</td>\n",
       "      <td>2</td>\n",
       "      <td>5</td>\n",
       "      <td>1</td>\n",
       "      <td>0</td>\n",
       "      <td>1</td>\n",
       "    </tr>\n",
       "    <tr>\n",
       "      <th>1</th>\n",
       "      <td>0</td>\n",
       "      <td>20.34</td>\n",
       "      <td>0</td>\n",
       "      <td>0</td>\n",
       "      <td>1</td>\n",
       "      <td>0</td>\n",
       "      <td>0</td>\n",
       "      <td>0</td>\n",
       "      <td>0</td>\n",
       "      <td>13</td>\n",
       "      <td>4</td>\n",
       "      <td>0</td>\n",
       "      <td>1</td>\n",
       "      <td>2</td>\n",
       "      <td>7</td>\n",
       "      <td>0</td>\n",
       "      <td>0</td>\n",
       "      <td>0</td>\n",
       "    </tr>\n",
       "    <tr>\n",
       "      <th>2</th>\n",
       "      <td>0</td>\n",
       "      <td>26.58</td>\n",
       "      <td>1</td>\n",
       "      <td>0</td>\n",
       "      <td>0</td>\n",
       "      <td>20</td>\n",
       "      <td>30</td>\n",
       "      <td>0</td>\n",
       "      <td>1</td>\n",
       "      <td>10</td>\n",
       "      <td>4</td>\n",
       "      <td>2</td>\n",
       "      <td>1</td>\n",
       "      <td>4</td>\n",
       "      <td>8</td>\n",
       "      <td>1</td>\n",
       "      <td>0</td>\n",
       "      <td>0</td>\n",
       "    </tr>\n",
       "    <tr>\n",
       "      <th>3</th>\n",
       "      <td>0</td>\n",
       "      <td>24.21</td>\n",
       "      <td>0</td>\n",
       "      <td>0</td>\n",
       "      <td>0</td>\n",
       "      <td>0</td>\n",
       "      <td>0</td>\n",
       "      <td>0</td>\n",
       "      <td>0</td>\n",
       "      <td>12</td>\n",
       "      <td>4</td>\n",
       "      <td>0</td>\n",
       "      <td>0</td>\n",
       "      <td>3</td>\n",
       "      <td>6</td>\n",
       "      <td>0</td>\n",
       "      <td>0</td>\n",
       "      <td>1</td>\n",
       "    </tr>\n",
       "    <tr>\n",
       "      <th>4</th>\n",
       "      <td>0</td>\n",
       "      <td>23.71</td>\n",
       "      <td>0</td>\n",
       "      <td>0</td>\n",
       "      <td>0</td>\n",
       "      <td>28</td>\n",
       "      <td>0</td>\n",
       "      <td>1</td>\n",
       "      <td>0</td>\n",
       "      <td>5</td>\n",
       "      <td>4</td>\n",
       "      <td>0</td>\n",
       "      <td>1</td>\n",
       "      <td>2</td>\n",
       "      <td>8</td>\n",
       "      <td>0</td>\n",
       "      <td>0</td>\n",
       "      <td>0</td>\n",
       "    </tr>\n",
       "  </tbody>\n",
       "</table>\n",
       "</div>"
      ],
      "text/plain": [
       "   HeartDisease    BMI  Smoking  AlcoholDrinking  Stroke  PhysicalHealth  \\\n",
       "0             0  16.60        1                0       0               3   \n",
       "1             0  20.34        0                0       1               0   \n",
       "2             0  26.58        1                0       0              20   \n",
       "3             0  24.21        0                0       0               0   \n",
       "4             0  23.71        0                0       0              28   \n",
       "\n",
       "   MentalHealth  DiffWalking  Sex  AgeCategory  Race  Diabetic  \\\n",
       "0            30            0    0            8     4         2   \n",
       "1             0            0    0           13     4         0   \n",
       "2            30            0    1           10     4         2   \n",
       "3             0            0    0           12     4         0   \n",
       "4             0            1    0            5     4         0   \n",
       "\n",
       "   PhysicalActivity  GenHealth  SleepTime  Asthma  KidneyDisease  SkinCancer  \n",
       "0                 1          2          5       1              0           1  \n",
       "1                 1          2          7       0              0           0  \n",
       "2                 1          4          8       1              0           0  \n",
       "3                 0          3          6       0              0           1  \n",
       "4                 1          2          8       0              0           0  "
      ]
     },
     "execution_count": 2,
     "metadata": {},
     "output_type": "execute_result"
    }
   ],
   "source": [
    "df= pd.read_csv('heart2020python.csv')\n",
    "df.head()"
   ]
  },
  {
   "cell_type": "code",
   "execution_count": 3,
   "metadata": {},
   "outputs": [],
   "source": [
    "df.drop(['DiffWalking',\"SleepTime\"],axis=1,inplace=True)\n"
   ]
  },
  {
   "cell_type": "code",
   "execution_count": 4,
   "metadata": {},
   "outputs": [
    {
     "data": {
      "text/plain": [
       "HeartDisease\n",
       "0    292422\n",
       "1     27373\n",
       "Name: count, dtype: int64"
      ]
     },
     "execution_count": 4,
     "metadata": {},
     "output_type": "execute_result"
    }
   ],
   "source": [
    "df.shape\n",
    "df['HeartDisease'].value_counts()\n"
   ]
  },
  {
   "cell_type": "code",
   "execution_count": 5,
   "metadata": {},
   "outputs": [],
   "source": [
    "df.duplicated().sum()\n",
    "df.drop_duplicates(inplace=True)"
   ]
  },
  {
   "cell_type": "markdown",
   "metadata": {},
   "source": [
    "## splite data"
   ]
  },
  {
   "cell_type": "code",
   "execution_count": 6,
   "metadata": {},
   "outputs": [],
   "source": [
    "x = df.drop([\"HeartDisease\"] , axis = 1).values\n",
    "y = df[\"HeartDisease\"].values"
   ]
  },
  {
   "cell_type": "code",
   "execution_count": 7,
   "metadata": {},
   "outputs": [],
   "source": [
    "nr = NearMiss()\n",
    "x_NM, y_NM = nr.fit_resample(x, y)\n",
    "x_train5, x_test5, y_train5, y_test5 = train_test_split(x_NM, y_NM, test_size=0.25, random_state=42)"
   ]
  },
  {
   "cell_type": "code",
   "execution_count": 8,
   "metadata": {},
   "outputs": [
    {
     "name": "stdout",
     "output_type": "stream",
     "text": [
      "40407 40407\n",
      "13469 13469\n"
     ]
    }
   ],
   "source": [
    "from sklearn.preprocessing import MinMaxScaler\n",
    "scaler = MinMaxScaler()\n",
    "x_train5 = scaler.fit_transform(x_train5)\n",
    "x_test5 = scaler.transform(x_test5)\n",
    "print(len(x_train5), len(y_train5))\n",
    "print(len(x_test5), len(y_test5))"
   ]
  },
  {
   "cell_type": "markdown",
   "metadata": {},
   "source": [
    "## Random Forest"
   ]
  },
  {
   "cell_type": "code",
   "execution_count": 9,
   "metadata": {},
   "outputs": [
    {
     "name": "stdout",
     "output_type": "stream",
     "text": [
      "Najlepsze parametry:  {'max_depth': 20, 'max_features': 'sqrt', 'min_samples_leaf': 4, 'min_samples_split': 2, 'n_estimators': 200}\n",
      "Training Results\n",
      "\n",
      "              precision    recall  f1-score   support\n",
      "\n",
      "           0       0.82      0.93      0.87     20189\n",
      "           1       0.92      0.79      0.85     20218\n",
      "\n",
      "    accuracy                           0.86     40407\n",
      "   macro avg       0.87      0.86      0.86     40407\n",
      "weighted avg       0.87      0.86      0.86     40407\n",
      "\n",
      "Test Results\n",
      "\n",
      "              precision    recall  f1-score   support\n",
      "\n",
      "           0       0.80      0.92      0.86      6749\n",
      "           1       0.91      0.77      0.83      6720\n",
      "\n",
      "    accuracy                           0.85     13469\n",
      "   macro avg       0.85      0.85      0.84     13469\n",
      "weighted avg       0.85      0.85      0.84     13469\n",
      "\n",
      "Confusion Matrix:\n",
      " [[6227  522]\n",
      " [1555 5165]]\n",
      "Cross-validation scores: [0.84323187 0.84248948 0.84420245 0.84667739 0.84333622]\n",
      "Average cross-validation score: 0.8439874836936989\n"
     ]
    }
   ],
   "source": [
    "\n",
    "\n",
    "\n",
    "# Inicjalizacja modelu z domyślnymi parametrami\n",
    "rf = RandomForestClassifier()\n",
    "\n",
    "# Określenie siatki parametrów do przetestowania\n",
    "param_grid = {\n",
    "    'n_estimators': [100, 200, 300],  # Liczba drzew\n",
    "    'max_depth': [10, 20, 30],        # Maksymalna głębokość drzewa\n",
    "    'min_samples_split': [2, 4, 6],   # Minimalna liczba próbek wymagana do podziału węzła\n",
    "    'min_samples_leaf': [1, 2, 4],    # Minimalna liczba próbek wymagana w liściu\n",
    "    'max_features': ['auto', 'sqrt']  # Liczba cech do rozważenia przy każdym podziale\n",
    "}\n",
    "\n",
    "# Utworzenie obiektu GridSearchCV\n",
    "cv_rf = GridSearchCV(estimator=rf, param_grid=param_grid, cv=5, scoring='accuracy')\n",
    "\n",
    "# Przeszukiwanie siatki parametrów\n",
    "cv_rf.fit(x_train5, y_train5)\n",
    "\n",
    "# Najlepszy zestaw parametrów\n",
    "print(\"Najlepsze parametry: \", cv_rf.best_params_)\n",
    "\n",
    "# Najlepszy estimator\n",
    "best_rf = cv_rf.best_estimator_\n",
    "\n",
    "# Predykcje i ocena modelu\n",
    "ypred_train = best_rf.predict(x_train5)\n",
    "ypred_test = best_rf.predict(x_test5)\n",
    "\n",
    "print(\"Training Results\\n\")\n",
    "print(classification_report(y_train5, ypred_train))\n",
    "print(\"Test Results\\n\")\n",
    "print(classification_report(y_test5, ypred_test))\n",
    "\n",
    "# Macierz pomyłek\n",
    "conf_matrix = confusion_matrix(y_test5, ypred_test)\n",
    "print(\"Confusion Matrix:\\n\", conf_matrix)\n",
    "\n",
    "# Ocena modelu za pomocą walidacji krzyżowej\n",
    "cross_val_scores = cross_val_score(best_rf, x_train5, y_train5, cv=5)\n",
    "print(\"Cross-validation scores:\", cross_val_scores)\n",
    "print(\"Average cross-validation score:\", np.mean(cross_val_scores))"
   ]
  },
  {
   "cell_type": "code",
   "execution_count": 10,
   "metadata": {},
   "outputs": [
    {
     "data": {
      "image/png": "[encoded data removed]",
      "text/plain": [
       "<Figure size 640x480 with 1 Axes>"
      ]
     },
     "metadata": {},
     "output_type": "display_data"
    }
   ],
   "source": [
    "\n",
    "\n",
    "y_proba_test = best_rf.predict_proba(x_test5)[:, 1]\n",
    "\n",
    "fpr, tpr, thresholds = roc_curve(y_test5, y_proba_test)\n",
    "\n",
    "plt.plot(fpr, tpr, label='ROC Curve')\n",
    "plt.xlabel('False Positive Rate')\n",
    "plt.ylabel('True Positive Rate')\n",
    "plt.title('ROC Curve with AUC = {:.2f}'.format(roc_auc_score(y_test5, y_proba_test)))\n",
    "plt.legend(loc='lower right')\n",
    "plt.grid(True)\n",
    "plt.show()"
   ]
  },
  {
   "cell_type": "markdown",
   "metadata": {},
   "source": [
    "## DECISION TREE CLASSIFIER"
   ]
  },
  {
   "cell_type": "code",
   "execution_count": 11,
   "metadata": {},
   "outputs": [
    {
     "name": "stdout",
     "output_type": "stream",
     "text": [
      "Najlepsze parametry: {'criterion': 'gini', 'max_depth': 10, 'min_samples_leaf': 5, 'min_samples_split': 5}\n",
      "Najlepsza dokładność: 0.8342861244573282\n",
      "Training Results\n",
      "\n",
      "              precision    recall  f1-score   support\n",
      "\n",
      "           0       0.79      0.93      0.85     20189\n",
      "           1       0.92      0.75      0.82     20218\n",
      "\n",
      "    accuracy                           0.84     40407\n",
      "   macro avg       0.85      0.84      0.84     40407\n",
      "weighted avg       0.85      0.84      0.84     40407\n",
      "\n",
      "Testing Results\n",
      "\n",
      "              precision    recall  f1-score   support\n",
      "\n",
      "           0       0.78      0.93      0.85      6749\n",
      "           1       0.92      0.74      0.82      6720\n",
      "\n",
      "    accuracy                           0.84     13469\n",
      "   macro avg       0.85      0.84      0.84     13469\n",
      "weighted avg       0.85      0.84      0.84     13469\n",
      "\n",
      "Cross-Validation Scores for the Best Model: [0.83382826 0.8355605  0.83257023 0.83690137 0.83269397]\n",
      "Average Cross-Validation Score: 0.8343108677449533\n"
     ]
    }
   ],
   "source": [
    "\n",
    "\n",
    "# Parametry do przetestowania w Grid Search\n",
    "param_grid = {\n",
    "    'max_depth': [3, 5, 10, None],\n",
    "    'min_samples_split': [2, 5, 10],\n",
    "    'min_samples_leaf': [1, 2, 5],\n",
    "    'criterion': ['gini', 'entropy']\n",
    "}\n",
    "\n",
    "# Utworzenie modelu drzewa decyzyjnego\n",
    "tree = DecisionTreeClassifier()\n",
    "\n",
    "# Uruchomienie Grid Search z walidacją krzyżową\n",
    "grid_search = GridSearchCV(tree, param_grid, cv=5, scoring='accuracy')\n",
    "grid_search.fit(x_train5, y_train5)\n",
    "\n",
    "# Wyświetlenie najlepszych parametrów i wyników\n",
    "print(\"Najlepsze parametry:\", grid_search.best_params_)\n",
    "print(\"Najlepsza dokładność:\", grid_search.best_score_)\n",
    "\n",
    "# Utworzenie i ocena modelu z najlepszymi parametrami\n",
    "best_tree = grid_search.best_estimator_\n",
    "best_tree.fit(x_train5, y_train5)\n",
    "\n",
    "ypred_train2 = best_tree.predict(x_train5)\n",
    "ypred_test2 = best_tree.predict(x_test5)\n",
    "\n",
    "# Ocena modelu na zbiorze testowym\n",
    "\n",
    "print(\"Training Results\\n\")\n",
    "print(classification_report(y_train5, ypred_train2))\n",
    "print('Testing Results\\n')\n",
    "print(classification_report(y_test5, ypred_test2))\n",
    "\n",
    "# Dodatkowo: Walidacja krzyżowa dla najlepszego modelu na całym zbiorze danych\n",
    "cross_val_scores = cross_val_score(best_tree, x_train5, y_train5, cv=5)\n",
    "print(\"Cross-Validation Scores for the Best Model:\", cross_val_scores)\n",
    "print(\"Average Cross-Validation Score:\", cross_val_scores.mean())"
   ]
  },
  {
   "cell_type": "code",
   "execution_count": 12,
   "metadata": {},
   "outputs": [
    {
     "data": {
      "image/png": "[encoded data removed]",
      "text/plain": [
       "<Figure size 640x480 with 1 Axes>"
      ]
     },
     "metadata": {},
     "output_type": "display_data"
    }
   ],
   "source": [
    "from sklearn.metrics import roc_curve, roc_auc_score\n",
    "import matplotlib.pyplot as plt\n",
    "\n",
    "y_proba_test = best_tree.predict_proba(x_test5)[:, 1]\n",
    "\n",
    "fpr, tpr, thresholds = roc_curve(y_test5, y_proba_test)\n",
    "\n",
    "plt.plot(fpr, tpr, label='ROC Curve')\n",
    "plt.xlabel('False Positive Rate')\n",
    "plt.ylabel('True Positive Rate')\n",
    "plt.title('ROC Curve with AUC = {:.2f}'.format(roc_auc_score(y_test5, y_proba_test)))\n",
    "plt.legend(loc='lower right')\n",
    "plt.grid(True)\n",
    "plt.show()"
   ]
  },
  {
   "cell_type": "markdown",
   "metadata": {},
   "source": [
    "## Naive Bayes"
   ]
  },
  {
   "cell_type": "code",
   "execution_count": 13,
   "metadata": {},
   "outputs": [
    {
     "name": "stdout",
     "output_type": "stream",
     "text": [
      "Naive Bayes Classifier Accuracy:  0.781349766129631\n"
     ]
    }
   ],
   "source": [
    "Gnb = GaussianNB()\n",
    "Gnb.fit(x_train5, y_train5)\n",
    "ypred_train3 = Gnb.predict(x_train5)\n",
    "y_pred_test3 = Gnb.predict(x_test5)\n",
    "\n",
    "print(\"Naive Bayes Classifier Accuracy: \",accuracy_score(y_test5, y_pred_test3))"
   ]
  },
  {
   "cell_type": "code",
   "execution_count": 14,
   "metadata": {},
   "outputs": [
    {
     "name": "stdout",
     "output_type": "stream",
     "text": [
      "Training Results\n",
      "\n",
      "              precision    recall  f1-score   support\n",
      "\n",
      "           0       0.72      0.92      0.81     20189\n",
      "           1       0.88      0.64      0.75     20218\n",
      "\n",
      "    accuracy                           0.78     40407\n",
      "   macro avg       0.80      0.78      0.78     40407\n",
      "weighted avg       0.80      0.78      0.78     40407\n",
      "\n"
     ]
    }
   ],
   "source": [
    "print(\"Training Results\\n\")\n",
    "print(classification_report(y_train5, ypred_train3))"
   ]
  },
  {
   "cell_type": "code",
   "execution_count": 15,
   "metadata": {},
   "outputs": [
    {
     "name": "stdout",
     "output_type": "stream",
     "text": [
      "Testing Results\n",
      "\n",
      "              precision    recall  f1-score   support\n",
      "\n",
      "           0       0.72      0.92      0.81      6749\n",
      "           1       0.89      0.64      0.74      6720\n",
      "\n",
      "    accuracy                           0.78     13469\n",
      "   macro avg       0.81      0.78      0.78     13469\n",
      "weighted avg       0.81      0.78      0.78     13469\n",
      "\n"
     ]
    }
   ],
   "source": [
    "print('Testing Results\\n')\n",
    "print(classification_report(y_test5, y_pred_test3))"
   ]
  },
  {
   "cell_type": "code",
   "execution_count": 16,
   "metadata": {},
   "outputs": [
    {
     "name": "stdout",
     "output_type": "stream",
     "text": [
      "Cross-validation scores: [0.77839644 0.78742885 0.77750278 0.77935899 0.77713154]\n",
      "Average cross-validation score: 0.7799637216856634\n"
     ]
    },
    {
     "data": {
      "image/png": "[encoded data removed]",
      "text/plain": [
       "<Figure size 640x480 with 1 Axes>"
      ]
     },
     "metadata": {},
     "output_type": "display_data"
    }
   ],
   "source": [
    "cross_val_scores = cross_val_score(Gnb, x_train5, y_train5, cv=5)\n",
    "print(\"Cross-validation scores:\", cross_val_scores)\n",
    "print(\"Average cross-validation score:\", np.mean(cross_val_scores))\n",
    "\n",
    "y_proba_test = Gnb.predict_proba(x_test5)[:, 1]\n",
    "\n",
    "fpr, tpr, thresholds = roc_curve(y_test5, y_proba_test)\n",
    "\n",
    "plt.plot(fpr, tpr, label='ROC Curve')\n",
    "plt.xlabel('False Positive Rate')\n",
    "plt.ylabel('True Positive Rate')\n",
    "plt.title('ROC Curve with AUC = {:.2f}'.format(roc_auc_score(y_test5, y_proba_test)))\n",
    "plt.legend(loc='lower right')\n",
    "plt.grid(True)\n",
    "plt.show()"
   ]
  },
  {
   "cell_type": "markdown",
   "metadata": {},
   "source": [
    "## XGBOSST"
   ]
  },
  {
   "cell_type": "code",
   "execution_count": 17,
   "metadata": {},
   "outputs": [
    {
     "name": "stdout",
     "output_type": "stream",
     "text": [
      "Najlepsze parametry:  {'colsample_bytree': 0.8, 'learning_rate': 0.1, 'max_depth': 7, 'n_estimators': 100, 'subsample': 0.9}\n",
      "Accuracy on Training set:  0.8565842552033064\n",
      "Accuracy on Test set:  0.8481698715569085\n",
      "\n",
      "Training Results\n",
      "\n",
      "              precision    recall  f1-score   support\n",
      "\n",
      "           0       0.81      0.93      0.87     20189\n",
      "           1       0.92      0.78      0.84     20218\n",
      "\n",
      "    accuracy                           0.86     40407\n",
      "   macro avg       0.87      0.86      0.86     40407\n",
      "weighted avg       0.87      0.86      0.86     40407\n",
      "\n",
      "Testing Results\n",
      "\n",
      "              precision    recall  f1-score   support\n",
      "\n",
      "           0       0.80      0.93      0.86      6749\n",
      "           1       0.92      0.77      0.83      6720\n",
      "\n",
      "    accuracy                           0.85     13469\n",
      "   macro avg       0.86      0.85      0.85     13469\n",
      "weighted avg       0.86      0.85      0.85     13469\n",
      "\n"
     ]
    },
    {
     "data": {
      "image/png": "[encoded data removed]",
      "text/plain": [
       "<Figure size 640x480 with 1 Axes>"
      ]
     },
     "metadata": {},
     "output_type": "display_data"
    }
   ],
   "source": [
    "\n",
    "xg = XGBClassifier()\n",
    "\n",
    "# Definiowanie siatki hiperparametrów do przetestowania\n",
    "param_grid = {\n",
    "    'n_estimators': [50, 100, 200],\n",
    "    'max_depth': [3, 5, 7],\n",
    "    'learning_rate': [0.01, 0.1, 0.2],\n",
    "    'subsample': [0.7, 0.8, 0.9],\n",
    "    'colsample_bytree': [0.7, 0.8, 0.9]\n",
    "}\n",
    "\n",
    "# Utworzenie obiektu GridSearchCV\n",
    "grid_search = GridSearchCV(estimator=xg, param_grid=param_grid, cv=3, scoring='accuracy')\n",
    "\n",
    "# Przeszukiwanie siatki parametrów\n",
    "grid_search.fit(x_train5, y_train5)\n",
    "\n",
    "# Najlepsze parametry i najlepszy model\n",
    "print(\"Najlepsze parametry: \", grid_search.best_params_)\n",
    "best_xg = grid_search.best_estimator_\n",
    "\n",
    "# Predykcje na zbiorze treningowym i testowym\n",
    "ypred_train4 = best_xg.predict(x_train5)\n",
    "y_pred_test4 = best_xg.predict(x_test5)\n",
    "\n",
    "# Ocena modelu\n",
    "print(\"Accuracy on Training set: \", accuracy_score(y_train5, ypred_train4))\n",
    "print(\"Accuracy on Test set: \", accuracy_score(y_test5, y_pred_test4))\n",
    "print(\"\\nTraining Results\\n\")\n",
    "print(classification_report(y_train5, ypred_train4))\n",
    "print('Testing Results\\n')\n",
    "print(classification_report(y_test5, y_pred_test4))\n",
    "\n",
    "# cross_val_scores = cross_val_score(best_xg, x_train5, y_train5, cv=5)\n",
    "# print(\"Cross-validation scores:\", cross_val_scores)\n",
    "# print(\"Average cross-validation score:\", np.mean(cross_val_scores))\n",
    "\n",
    "# Krzywa ROC\n",
    "y_proba_test4 = best_xg.predict_proba(x_test5)[:, 1]\n",
    "fpr, tpr, thresholds = roc_curve(y_test5, y_proba_test4)\n",
    "plt.plot(fpr, tpr)\n",
    "plt.title(\"ROC Curve with AUC = {:.2f}\".format(roc_auc_score(y_test5, y_proba_test4)))\n",
    "plt.show()"
   ]
  },
  {
   "cell_type": "markdown",
   "metadata": {},
   "source": [
    "## logistic regression\n"
   ]
  },
  {
   "cell_type": "code",
   "execution_count": 18,
   "metadata": {},
   "outputs": [
    {
     "name": "stdout",
     "output_type": "stream",
     "text": [
      "Najlepsze parametry:  {'C': 100, 'penalty': 'l1', 'solver': 'liblinear'}\n",
      "Accuracy on Training set:  0.8108496052664143\n",
      "Accuracy on Test set:  0.8129037048036232\n",
      "\n",
      "Training Results\n",
      "\n",
      "              precision    recall  f1-score   support\n",
      "\n",
      "           0       0.76      0.90      0.83     20189\n",
      "           1       0.88      0.72      0.79     20218\n",
      "\n",
      "    accuracy                           0.81     40407\n",
      "   macro avg       0.82      0.81      0.81     40407\n",
      "weighted avg       0.82      0.81      0.81     40407\n",
      "\n",
      "Testing Results\n",
      "\n",
      "              precision    recall  f1-score   support\n",
      "\n",
      "           0       0.76      0.90      0.83      6749\n",
      "           1       0.88      0.72      0.79      6720\n",
      "\n",
      "    accuracy                           0.81     13469\n",
      "   macro avg       0.82      0.81      0.81     13469\n",
      "weighted avg       0.82      0.81      0.81     13469\n",
      "\n"
     ]
    },
    {
     "data": {
      "image/png": "[encoded data removed]",
      "text/plain": [
       "<Figure size 640x480 with 1 Axes>"
      ]
     },
     "metadata": {},
     "output_type": "display_data"
    }
   ],
   "source": [
    "\n",
    "\n",
    "# Inicjalizacja modelu regresji logistycznej\n",
    "lg = LogisticRegression()\n",
    "\n",
    "# Definiowanie siatki hiperparametrów do przetestowania\n",
    "param_grid = {\n",
    "    'C': [0.01, 0.1, 1, 10, 100],  # Parametr regularyzacji\n",
    "    'penalty': ['l1', 'l2'],       # Typ regularyzacji\n",
    "    'solver': ['liblinear']        # Algorytm optymalizacji (liblinear jest dobrym wyborem dla małych zbiorów danych)\n",
    "}\n",
    "\n",
    "# Utworzenie obiektu GridSearchCV\n",
    "grid_search = GridSearchCV(estimator=lg, param_grid=param_grid, cv=5, scoring='accuracy')\n",
    "\n",
    "# Przeszukiwanie siatki parametrów\n",
    "grid_search.fit(x_train5, y_train5)\n",
    "\n",
    "# Najlepsze parametry i najlepszy model\n",
    "print(\"Najlepsze parametry: \", grid_search.best_params_)\n",
    "best_lg = grid_search.best_estimator_\n",
    "\n",
    "# Predykcje na zbiorze treningowym i testowym\n",
    "ypred_train4 = best_lg.predict(x_train5)\n",
    "y_pred_test4 = best_lg.predict(x_test5)\n",
    "\n",
    "# Ocena modelu\n",
    "print(\"Accuracy on Training set: \", accuracy_score(y_train5, ypred_train4))\n",
    "print(\"Accuracy on Test set: \", accuracy_score(y_test5, y_pred_test4))\n",
    "print(\"\\nTraining Results\\n\")\n",
    "print(classification_report(y_train5, ypred_train4))\n",
    "print('Testing Results\\n')\n",
    "print(classification_report(y_test5, y_pred_test4))\n",
    "\n",
    "# cross_val_scores = cross_val_score(best_lg, x_train5, y_train5, cv=5)\n",
    "# print(\"Cross-validation scores:\", cross_val_scores)\n",
    "# print(\"Average cross-validation score:\", np.mean(cross_val_scores))\n",
    "\n",
    "# Krzywa ROC\n",
    "y_proba_test4 = best_lg.predict_proba(x_test5)[:, 1]\n",
    "fpr, tpr, thresholds = roc_curve(y_test5, y_proba_test4)\n",
    "plt.plot(fpr, tpr)\n",
    "plt.title(\"ROC Curve with AUC = {:.2f}\".format(roc_auc_score(y_test5, y_proba_test4)))\n",
    "plt.show()"
   ]
  },
  {
   "cell_type": "markdown",
   "metadata": {},
   "source": [
    "## GradientBoostingClassifier"
   ]
  },
  {
   "cell_type": "code",
   "execution_count": 19,
   "metadata": {},
   "outputs": [
    {
     "name": "stdout",
     "output_type": "stream",
     "text": [
      "Najlepsze parametry:  {'learning_rate': 0.1, 'max_depth': 3, 'min_samples_leaf': 2, 'min_samples_split': 2, 'n_estimators': 300}\n",
      "Accuracy on Training set:  0.8525750488776697\n",
      "Accuracy on Test set:  0.8453485782166457\n",
      "\n",
      "Training Results\n",
      "\n",
      "              precision    recall  f1-score   support\n",
      "\n",
      "           0       0.81      0.92      0.86     20189\n",
      "           1       0.90      0.79      0.84     20218\n",
      "\n",
      "    accuracy                           0.85     40407\n",
      "   macro avg       0.86      0.85      0.85     40407\n",
      "weighted avg       0.86      0.85      0.85     40407\n",
      "\n",
      "Testing Results\n",
      "\n",
      "              precision    recall  f1-score   support\n",
      "\n",
      "           0       0.80      0.91      0.86      6749\n",
      "           1       0.90      0.78      0.83      6720\n",
      "\n",
      "    accuracy                           0.85     13469\n",
      "   macro avg       0.85      0.85      0.84     13469\n",
      "weighted avg       0.85      0.85      0.84     13469\n",
      "\n"
     ]
    },
    {
     "data": {
      "image/png": "[encoded data removed]",
      "text/plain": [
       "<Figure size 640x480 with 1 Axes>"
      ]
     },
     "metadata": {},
     "output_type": "display_data"
    }
   ],
   "source": [
    "\n",
    "\n",
    "# Inicjalizacja modelu Gradient Boosting Classifier\n",
    "gb = GradientBoostingClassifier()\n",
    "\n",
    "# Definiowanie siatki hiperparametrów do przetestowania\n",
    "param_grid = {\n",
    "    'n_estimators': [100, 200, 300],  # Liczba drzew w ensemble\n",
    "    'learning_rate': [0.01, 0.1, 0.2], # Szybkość uczenia\n",
    "    'max_depth': [3, 5, 7],            # Maksymalna głębokość drzewa\n",
    "    'min_samples_split': [2, 4],       # Minimalna liczba próbek wymagana do podziału węzła\n",
    "    'min_samples_leaf': [1, 2]         # Minimalna liczba próbek w liściu\n",
    "}\n",
    "\n",
    "# Utworzenie obiektu GridSearchCV\n",
    "grid_search = GridSearchCV(estimator=gb, param_grid=param_grid, cv=5, scoring='accuracy')\n",
    "\n",
    "# Przeszukiwanie siatki parametrów\n",
    "grid_search.fit(x_train5, y_train5)\n",
    "\n",
    "# Najlepsze parametry i najlepszy model\n",
    "print(\"Najlepsze parametry: \", grid_search.best_params_)\n",
    "best_gb = grid_search.best_estimator_\n",
    "\n",
    "# Predykcje na zbiorze treningowym i testowym\n",
    "ypred_train6 = best_gb.predict(x_train5)\n",
    "y_pred_test6 = best_gb.predict(x_test5)\n",
    "\n",
    "# Ocena modelu\n",
    "print(\"Accuracy on Training set: \", accuracy_score(y_train5, ypred_train6))\n",
    "print(\"Accuracy on Test set: \", accuracy_score(y_test5, y_pred_test6))\n",
    "print(\"\\nTraining Results\\n\")\n",
    "print(classification_report(y_train5, ypred_train6))\n",
    "print('Testing Results\\n')\n",
    "print(classification_report(y_test5, y_pred_test6))\n",
    "\n",
    "# cross_val_scores = cross_val_score(best_gb, x_train5, y_train5, cv=5)\n",
    "# print(\"Cross-validation scores:\", cross_val_scores)\n",
    "# print(\"Average cross-validation score:\", np.mean(cross_val_scores))\n",
    "\n",
    "# Krzywa ROC\n",
    "y_proba_test6 = best_gb.predict_proba(x_test5)[:, 1]\n",
    "fpr, tpr, thresholds = roc_curve(y_test5, y_proba_test6)\n",
    "plt.plot(fpr, tpr)\n",
    "plt.title(\"ROC Curve with AUC = {:.2f}\".format(roc_auc_score(y_test5, y_proba_test6)))\n",
    "plt.show()"
   ]
  },
  {
   "cell_type": "markdown",
   "metadata": {},
   "source": [
    "## KNN"
   ]
  },
  {
   "cell_type": "code",
   "execution_count": 20,
   "metadata": {},
   "outputs": [
    {
     "data": {
      "text/html": [
       "<style>#sk-container-id-1 {color: black;}#sk-container-id-1 pre{padding: 0;}#sk-container-id-1 div.sk-toggleable {background-color: white;}#sk-container-id-1 label.sk-toggleable__label {cursor: pointer;display: block;width: 100%;margin-bottom: 0;padding: 0.3em;box-sizing: border-box;text-align: center;}#sk-container-id-1 label.sk-toggleable__label-arrow:before {content: \"▸\";float: left;margin-right: 0.25em;color: #696969;}#sk-container-id-1 label.sk-toggleable__label-arrow:hover:before {color: black;}#sk-container-id-1 div.sk-estimator:hover label.sk-toggleable__label-arrow:before {color: black;}#sk-container-id-1 div.sk-toggleable__content {max-height: 0;max-width: 0;overflow: hidden;text-align: left;background-color: #f0f8ff;}#sk-container-id-1 div.sk-toggleable__content pre {margin: 0.2em;color: black;border-radius: 0.25em;background-color: #f0f8ff;}#sk-container-id-1 input.sk-toggleable__control:checked~div.sk-toggleable__content {max-height: 200px;max-width: 100%;overflow: auto;}#sk-container-id-1 input.sk-toggleable__control:checked~label.sk-toggleable__label-arrow:before {content: \"▾\";}#sk-container-id-1 div.sk-estimator input.sk-toggleable__control:checked~label.sk-toggleable__label {background-color: #d4ebff;}#sk-container-id-1 div.sk-label input.sk-toggleable__control:checked~label.sk-toggleable__label {background-color: #d4ebff;}#sk-container-id-1 input.sk-hidden--visually {border: 0;clip: rect(1px 1px 1px 1px);clip: rect(1px, 1px, 1px, 1px);height: 1px;margin: -1px;overflow: hidden;padding: 0;position: absolute;width: 1px;}#sk-container-id-1 div.sk-estimator {font-family: monospace;background-color: #f0f8ff;border: 1px dotted black;border-radius: 0.25em;box-sizing: border-box;margin-bottom: 0.5em;}#sk-container-id-1 div.sk-estimator:hover {background-color: #d4ebff;}#sk-container-id-1 div.sk-parallel-item::after {content: \"\";width: 100%;border-bottom: 1px solid gray;flex-grow: 1;}#sk-container-id-1 div.sk-label:hover label.sk-toggleable__label {background-color: #d4ebff;}#sk-container-id-1 div.sk-serial::before {content: \"\";position: absolute;border-left: 1px solid gray;box-sizing: border-box;top: 0;bottom: 0;left: 50%;z-index: 0;}#sk-container-id-1 div.sk-serial {display: flex;flex-direction: column;align-items: center;background-color: white;padding-right: 0.2em;padding-left: 0.2em;position: relative;}#sk-container-id-1 div.sk-item {position: relative;z-index: 1;}#sk-container-id-1 div.sk-parallel {display: flex;align-items: stretch;justify-content: center;background-color: white;position: relative;}#sk-container-id-1 div.sk-item::before, #sk-container-id-1 div.sk-parallel-item::before {content: \"\";position: absolute;border-left: 1px solid gray;box-sizing: border-box;top: 0;bottom: 0;left: 50%;z-index: -1;}#sk-container-id-1 div.sk-parallel-item {display: flex;flex-direction: column;z-index: 1;position: relative;background-color: white;}#sk-container-id-1 div.sk-parallel-item:first-child::after {align-self: flex-end;width: 50%;}#sk-container-id-1 div.sk-parallel-item:last-child::after {align-self: flex-start;width: 50%;}#sk-container-id-1 div.sk-parallel-item:only-child::after {width: 0;}#sk-container-id-1 div.sk-dashed-wrapped {border: 1px dashed gray;margin: 0 0.4em 0.5em 0.4em;box-sizing: border-box;padding-bottom: 0.4em;background-color: white;}#sk-container-id-1 div.sk-label label {font-family: monospace;font-weight: bold;display: inline-block;line-height: 1.2em;}#sk-container-id-1 div.sk-label-container {text-align: center;}#sk-container-id-1 div.sk-container {/* jupyter's `normalize.less` sets `[hidden] { display: none; }` but bootstrap.min.css set `[hidden] { display: none !important; }` so we also need the `!important` here to be able to override the default hidden behavior on the sphinx rendered scikit-learn.org. See: https://github.com/scikit-learn/scikit-learn/issues/21755 */display: inline-block !important;position: relative;}#sk-container-id-1 div.sk-text-repr-fallback {display: none;}</style><div id=\"sk-container-id-1\" class=\"sk-top-container\"><div class=\"sk-text-repr-fallback\"><pre>KNeighborsClassifier()</pre><b>In a Jupyter environment, please rerun this cell to show the HTML representation or trust the notebook. <br />On GitHub, the HTML representation is unable to render, please try loading this page with nbviewer.org.</b></div><div class=\"sk-container\" hidden><div class=\"sk-item\"><div class=\"sk-estimator sk-toggleable\"><input class=\"sk-toggleable__control sk-hidden--visually\" id=\"sk-estimator-id-1\" type=\"checkbox\" checked><label for=\"sk-estimator-id-1\" class=\"sk-toggleable__label sk-toggleable__label-arrow\">KNeighborsClassifier</label><div class=\"sk-toggleable__content\"><pre>KNeighborsClassifier()</pre></div></div></div></div></div>"
      ],
      "text/plain": [
       "KNeighborsClassifier()"
      ]
     },
     "execution_count": 20,
     "metadata": {},
     "output_type": "execute_result"
    }
   ],
   "source": [
    "knn = KNeighborsClassifier()\n",
    "knn.fit(x_train5, y_train5)\n"
   ]
  },
  {
   "cell_type": "code",
   "execution_count": 21,
   "metadata": {},
   "outputs": [],
   "source": [
    "grid_cv = GridSearchCV(KNeighborsClassifier(), \n",
    "                       param_grid={\n",
    "                           \"n_neighbors\": range(1, 50)\n",
    "                       }, cv=5, scoring=\"f1\", \n",
    "                       verbose=1, n_jobs=6)\n"
   ]
  },
  {
   "cell_type": "code",
   "execution_count": 22,
   "metadata": {},
   "outputs": [
    {
     "name": "stdout",
     "output_type": "stream",
     "text": [
      "Fitting 5 folds for each of 49 candidates, totalling 245 fits\n"
     ]
    },
    {
     "data": {
      "text/html": [
       "<style>#sk-container-id-2 {color: black;}#sk-container-id-2 pre{padding: 0;}#sk-container-id-2 div.sk-toggleable {background-color: white;}#sk-container-id-2 label.sk-toggleable__label {cursor: pointer;display: block;width: 100%;margin-bottom: 0;padding: 0.3em;box-sizing: border-box;text-align: center;}#sk-container-id-2 label.sk-toggleable__label-arrow:before {content: \"▸\";float: left;margin-right: 0.25em;color: #696969;}#sk-container-id-2 label.sk-toggleable__label-arrow:hover:before {color: black;}#sk-container-id-2 div.sk-estimator:hover label.sk-toggleable__label-arrow:before {color: black;}#sk-container-id-2 div.sk-toggleable__content {max-height: 0;max-width: 0;overflow: hidden;text-align: left;background-color: #f0f8ff;}#sk-container-id-2 div.sk-toggleable__content pre {margin: 0.2em;color: black;border-radius: 0.25em;background-color: #f0f8ff;}#sk-container-id-2 input.sk-toggleable__control:checked~div.sk-toggleable__content {max-height: 200px;max-width: 100%;overflow: auto;}#sk-container-id-2 input.sk-toggleable__control:checked~label.sk-toggleable__label-arrow:before {content: \"▾\";}#sk-container-id-2 div.sk-estimator input.sk-toggleable__control:checked~label.sk-toggleable__label {background-color: #d4ebff;}#sk-container-id-2 div.sk-label input.sk-toggleable__control:checked~label.sk-toggleable__label {background-color: #d4ebff;}#sk-container-id-2 input.sk-hidden--visually {border: 0;clip: rect(1px 1px 1px 1px);clip: rect(1px, 1px, 1px, 1px);height: 1px;margin: -1px;overflow: hidden;padding: 0;position: absolute;width: 1px;}#sk-container-id-2 div.sk-estimator {font-family: monospace;background-color: #f0f8ff;border: 1px dotted black;border-radius: 0.25em;box-sizing: border-box;margin-bottom: 0.5em;}#sk-container-id-2 div.sk-estimator:hover {background-color: #d4ebff;}#sk-container-id-2 div.sk-parallel-item::after {content: \"\";width: 100%;border-bottom: 1px solid gray;flex-grow: 1;}#sk-container-id-2 div.sk-label:hover label.sk-toggleable__label {background-color: #d4ebff;}#sk-container-id-2 div.sk-serial::before {content: \"\";position: absolute;border-left: 1px solid gray;box-sizing: border-box;top: 0;bottom: 0;left: 50%;z-index: 0;}#sk-container-id-2 div.sk-serial {display: flex;flex-direction: column;align-items: center;background-color: white;padding-right: 0.2em;padding-left: 0.2em;position: relative;}#sk-container-id-2 div.sk-item {position: relative;z-index: 1;}#sk-container-id-2 div.sk-parallel {display: flex;align-items: stretch;justify-content: center;background-color: white;position: relative;}#sk-container-id-2 div.sk-item::before, #sk-container-id-2 div.sk-parallel-item::before {content: \"\";position: absolute;border-left: 1px solid gray;box-sizing: border-box;top: 0;bottom: 0;left: 50%;z-index: -1;}#sk-container-id-2 div.sk-parallel-item {display: flex;flex-direction: column;z-index: 1;position: relative;background-color: white;}#sk-container-id-2 div.sk-parallel-item:first-child::after {align-self: flex-end;width: 50%;}#sk-container-id-2 div.sk-parallel-item:last-child::after {align-self: flex-start;width: 50%;}#sk-container-id-2 div.sk-parallel-item:only-child::after {width: 0;}#sk-container-id-2 div.sk-dashed-wrapped {border: 1px dashed gray;margin: 0 0.4em 0.5em 0.4em;box-sizing: border-box;padding-bottom: 0.4em;background-color: white;}#sk-container-id-2 div.sk-label label {font-family: monospace;font-weight: bold;display: inline-block;line-height: 1.2em;}#sk-container-id-2 div.sk-label-container {text-align: center;}#sk-container-id-2 div.sk-container {/* jupyter's `normalize.less` sets `[hidden] { display: none; }` but bootstrap.min.css set `[hidden] { display: none !important; }` so we also need the `!important` here to be able to override the default hidden behavior on the sphinx rendered scikit-learn.org. See: https://github.com/scikit-learn/scikit-learn/issues/21755 */display: inline-block !important;position: relative;}#sk-container-id-2 div.sk-text-repr-fallback {display: none;}</style><div id=\"sk-container-id-2\" class=\"sk-top-container\"><div class=\"sk-text-repr-fallback\"><pre>GridSearchCV(cv=5, estimator=KNeighborsClassifier(), n_jobs=6,\n",
       "             param_grid={&#x27;n_neighbors&#x27;: range(1, 50)}, scoring=&#x27;f1&#x27;, verbose=1)</pre><b>In a Jupyter environment, please rerun this cell to show the HTML representation or trust the notebook. <br />On GitHub, the HTML representation is unable to render, please try loading this page with nbviewer.org.</b></div><div class=\"sk-container\" hidden><div class=\"sk-item sk-dashed-wrapped\"><div class=\"sk-label-container\"><div class=\"sk-label sk-toggleable\"><input class=\"sk-toggleable__control sk-hidden--visually\" id=\"sk-estimator-id-2\" type=\"checkbox\" ><label for=\"sk-estimator-id-2\" class=\"sk-toggleable__label sk-toggleable__label-arrow\">GridSearchCV</label><div class=\"sk-toggleable__content\"><pre>GridSearchCV(cv=5, estimator=KNeighborsClassifier(), n_jobs=6,\n",
       "             param_grid={&#x27;n_neighbors&#x27;: range(1, 50)}, scoring=&#x27;f1&#x27;, verbose=1)</pre></div></div></div><div class=\"sk-parallel\"><div class=\"sk-parallel-item\"><div class=\"sk-item\"><div class=\"sk-label-container\"><div class=\"sk-label sk-toggleable\"><input class=\"sk-toggleable__control sk-hidden--visually\" id=\"sk-estimator-id-3\" type=\"checkbox\" ><label for=\"sk-estimator-id-3\" class=\"sk-toggleable__label sk-toggleable__label-arrow\">estimator: KNeighborsClassifier</label><div class=\"sk-toggleable__content\"><pre>KNeighborsClassifier()</pre></div></div></div><div class=\"sk-serial\"><div class=\"sk-item\"><div class=\"sk-estimator sk-toggleable\"><input class=\"sk-toggleable__control sk-hidden--visually\" id=\"sk-estimator-id-4\" type=\"checkbox\" ><label for=\"sk-estimator-id-4\" class=\"sk-toggleable__label sk-toggleable__label-arrow\">KNeighborsClassifier</label><div class=\"sk-toggleable__content\"><pre>KNeighborsClassifier()</pre></div></div></div></div></div></div></div></div></div></div>"
      ],
      "text/plain": [
       "GridSearchCV(cv=5, estimator=KNeighborsClassifier(), n_jobs=6,\n",
       "             param_grid={'n_neighbors': range(1, 50)}, scoring='f1', verbose=1)"
      ]
     },
     "execution_count": 22,
     "metadata": {},
     "output_type": "execute_result"
    }
   ],
   "source": [
    "grid_cv.fit(x_train5, \n",
    "            y_train5)"
   ]
  },
  {
   "cell_type": "code",
   "execution_count": 23,
   "metadata": {},
   "outputs": [
    {
     "data": {
      "text/plain": [
       "0.7832247287027245"
      ]
     },
     "execution_count": 23,
     "metadata": {},
     "output_type": "execute_result"
    }
   ],
   "source": [
    "grid_cv.best_score_\n"
   ]
  },
  {
   "cell_type": "code",
   "execution_count": 24,
   "metadata": {},
   "outputs": [
    {
     "data": {
      "text/html": [
       "<style>#sk-container-id-3 {color: black;}#sk-container-id-3 pre{padding: 0;}#sk-container-id-3 div.sk-toggleable {background-color: white;}#sk-container-id-3 label.sk-toggleable__label {cursor: pointer;display: block;width: 100%;margin-bottom: 0;padding: 0.3em;box-sizing: border-box;text-align: center;}#sk-container-id-3 label.sk-toggleable__label-arrow:before {content: \"▸\";float: left;margin-right: 0.25em;color: #696969;}#sk-container-id-3 label.sk-toggleable__label-arrow:hover:before {color: black;}#sk-container-id-3 div.sk-estimator:hover label.sk-toggleable__label-arrow:before {color: black;}#sk-container-id-3 div.sk-toggleable__content {max-height: 0;max-width: 0;overflow: hidden;text-align: left;background-color: #f0f8ff;}#sk-container-id-3 div.sk-toggleable__content pre {margin: 0.2em;color: black;border-radius: 0.25em;background-color: #f0f8ff;}#sk-container-id-3 input.sk-toggleable__control:checked~div.sk-toggleable__content {max-height: 200px;max-width: 100%;overflow: auto;}#sk-container-id-3 input.sk-toggleable__control:checked~label.sk-toggleable__label-arrow:before {content: \"▾\";}#sk-container-id-3 div.sk-estimator input.sk-toggleable__control:checked~label.sk-toggleable__label {background-color: #d4ebff;}#sk-container-id-3 div.sk-label input.sk-toggleable__control:checked~label.sk-toggleable__label {background-color: #d4ebff;}#sk-container-id-3 input.sk-hidden--visually {border: 0;clip: rect(1px 1px 1px 1px);clip: rect(1px, 1px, 1px, 1px);height: 1px;margin: -1px;overflow: hidden;padding: 0;position: absolute;width: 1px;}#sk-container-id-3 div.sk-estimator {font-family: monospace;background-color: #f0f8ff;border: 1px dotted black;border-radius: 0.25em;box-sizing: border-box;margin-bottom: 0.5em;}#sk-container-id-3 div.sk-estimator:hover {background-color: #d4ebff;}#sk-container-id-3 div.sk-parallel-item::after {content: \"\";width: 100%;border-bottom: 1px solid gray;flex-grow: 1;}#sk-container-id-3 div.sk-label:hover label.sk-toggleable__label {background-color: #d4ebff;}#sk-container-id-3 div.sk-serial::before {content: \"\";position: absolute;border-left: 1px solid gray;box-sizing: border-box;top: 0;bottom: 0;left: 50%;z-index: 0;}#sk-container-id-3 div.sk-serial {display: flex;flex-direction: column;align-items: center;background-color: white;padding-right: 0.2em;padding-left: 0.2em;position: relative;}#sk-container-id-3 div.sk-item {position: relative;z-index: 1;}#sk-container-id-3 div.sk-parallel {display: flex;align-items: stretch;justify-content: center;background-color: white;position: relative;}#sk-container-id-3 div.sk-item::before, #sk-container-id-3 div.sk-parallel-item::before {content: \"\";position: absolute;border-left: 1px solid gray;box-sizing: border-box;top: 0;bottom: 0;left: 50%;z-index: -1;}#sk-container-id-3 div.sk-parallel-item {display: flex;flex-direction: column;z-index: 1;position: relative;background-color: white;}#sk-container-id-3 div.sk-parallel-item:first-child::after {align-self: flex-end;width: 50%;}#sk-container-id-3 div.sk-parallel-item:last-child::after {align-self: flex-start;width: 50%;}#sk-container-id-3 div.sk-parallel-item:only-child::after {width: 0;}#sk-container-id-3 div.sk-dashed-wrapped {border: 1px dashed gray;margin: 0 0.4em 0.5em 0.4em;box-sizing: border-box;padding-bottom: 0.4em;background-color: white;}#sk-container-id-3 div.sk-label label {font-family: monospace;font-weight: bold;display: inline-block;line-height: 1.2em;}#sk-container-id-3 div.sk-label-container {text-align: center;}#sk-container-id-3 div.sk-container {/* jupyter's `normalize.less` sets `[hidden] { display: none; }` but bootstrap.min.css set `[hidden] { display: none !important; }` so we also need the `!important` here to be able to override the default hidden behavior on the sphinx rendered scikit-learn.org. See: https://github.com/scikit-learn/scikit-learn/issues/21755 */display: inline-block !important;position: relative;}#sk-container-id-3 div.sk-text-repr-fallback {display: none;}</style><div id=\"sk-container-id-3\" class=\"sk-top-container\"><div class=\"sk-text-repr-fallback\"><pre>KNeighborsClassifier(n_neighbors=7)</pre><b>In a Jupyter environment, please rerun this cell to show the HTML representation or trust the notebook. <br />On GitHub, the HTML representation is unable to render, please try loading this page with nbviewer.org.</b></div><div class=\"sk-container\" hidden><div class=\"sk-item\"><div class=\"sk-estimator sk-toggleable\"><input class=\"sk-toggleable__control sk-hidden--visually\" id=\"sk-estimator-id-5\" type=\"checkbox\" checked><label for=\"sk-estimator-id-5\" class=\"sk-toggleable__label sk-toggleable__label-arrow\">KNeighborsClassifier</label><div class=\"sk-toggleable__content\"><pre>KNeighborsClassifier(n_neighbors=7)</pre></div></div></div></div></div>"
      ],
      "text/plain": [
       "KNeighborsClassifier(n_neighbors=7)"
      ]
     },
     "execution_count": 24,
     "metadata": {},
     "output_type": "execute_result"
    }
   ],
   "source": [
    "knn = grid_cv.best_estimator_\n",
    "knn"
   ]
  },
  {
   "cell_type": "code",
   "execution_count": 25,
   "metadata": {},
   "outputs": [
    {
     "name": "stdout",
     "output_type": "stream",
     "text": [
      "XGBClassifier Accuracy:  0.8078550746157844\n"
     ]
    }
   ],
   "source": [
    "ypred_train7 = grid_cv.predict(x_train5)\n",
    "y_pred_test7 = grid_cv.predict(x_test5)\n",
    "print(\"XGBClassifier Accuracy: \",accuracy_score(y_test5, y_pred_test7))"
   ]
  },
  {
   "cell_type": "code",
   "execution_count": 26,
   "metadata": {},
   "outputs": [
    {
     "name": "stdout",
     "output_type": "stream",
     "text": [
      "Training Results\n",
      "\n",
      "              precision    recall  f1-score   support\n",
      "\n",
      "           0       0.79      0.94      0.86     20189\n",
      "           1       0.93      0.74      0.83     20218\n",
      "\n",
      "    accuracy                           0.84     40407\n",
      "   macro avg       0.86      0.84      0.84     40407\n",
      "weighted avg       0.86      0.84      0.84     40407\n",
      "\n"
     ]
    }
   ],
   "source": [
    "print(\"Training Results\\n\")\n",
    "print(classification_report(y_train5, ypred_train7))"
   ]
  },
  {
   "cell_type": "code",
   "execution_count": 27,
   "metadata": {},
   "outputs": [
    {
     "name": "stdout",
     "output_type": "stream",
     "text": [
      "Training Results\n",
      "\n",
      "              precision    recall  f1-score   support\n",
      "\n",
      "           0       0.75      0.92      0.83      6749\n",
      "           1       0.90      0.70      0.78      6720\n",
      "\n",
      "    accuracy                           0.81     13469\n",
      "   macro avg       0.82      0.81      0.81     13469\n",
      "weighted avg       0.82      0.81      0.81     13469\n",
      "\n"
     ]
    }
   ],
   "source": [
    "print(\"Training Results\\n\")\n",
    "print(classification_report(y_test5, y_pred_test7))"
   ]
  },
  {
   "cell_type": "code",
   "execution_count": 28,
   "metadata": {},
   "outputs": [
    {
     "data": {
      "image/png": "[encoded data removed]",
      "text/plain": [
       "<Figure size 640x480 with 1 Axes>"
      ]
     },
     "metadata": {},
     "output_type": "display_data"
    }
   ],
   "source": [
    "# cross_val_scores = cross_val_score(grid_cv, x_train5, y_train5, cv=5)\n",
    "# print(\"Cross-validation scores:\", cross_val_scores)\n",
    "# print(\"Average cross-validation score:\", np.mean(cross_val_scores))\n",
    "\n",
    "y_proba_test = grid_cv.predict_proba(x_test5)[:, 1]\n",
    "\n",
    "fpr, tpr, thresholds = roc_curve(y_test5, y_proba_test)\n",
    "\n",
    "plt.plot(fpr, tpr, label='ROC Curve')\n",
    "plt.xlabel('False Positive Rate')\n",
    "plt.ylabel('True Positive Rate')\n",
    "plt.title('ROC Curve with AUC = {:.2f}'.format(roc_auc_score(y_test5, y_proba_test)))\n",
    "plt.legend(loc='lower right')\n",
    "plt.grid(True)\n",
    "plt.show()"
   ]
  },
  {
   "cell_type": "markdown",
   "metadata": {},
   "source": [
    "## SIECI NEURONOWE"
   ]
  },
  {
   "cell_type": "markdown",
   "metadata": {},
   "source": [
    "## ANN"
   ]
  },
  {
   "cell_type": "code",
   "execution_count": 29,
   "metadata": {},
   "outputs": [
    {
     "name": "stdout",
     "output_type": "stream",
     "text": [
      "WARNING:tensorflow:From C:\\Users\\DELL\\AppData\\Roaming\\Python\\Python311\\site-packages\\keras\\src\\backend.py:873: The name tf.get_default_graph is deprecated. Please use tf.compat.v1.get_default_graph instead.\n",
      "\n"
     ]
    }
   ],
   "source": [
    "ann = tf.keras.models.Sequential()"
   ]
  },
  {
   "cell_type": "code",
   "execution_count": 30,
   "metadata": {},
   "outputs": [],
   "source": [
    "early_stop = EarlyStopping(monitor='val_loss', mode='min', verbose=1, patience=25)\n"
   ]
  },
  {
   "cell_type": "code",
   "execution_count": 31,
   "metadata": {},
   "outputs": [],
   "source": [
    "ann.add(tf.keras.layers.Dense(units=16, activation='relu'))"
   ]
  },
  {
   "cell_type": "code",
   "execution_count": 32,
   "metadata": {},
   "outputs": [],
   "source": [
    "ann.add(tf.keras.layers.Dense(units=6, activation='relu'))"
   ]
  },
  {
   "cell_type": "code",
   "execution_count": 33,
   "metadata": {},
   "outputs": [],
   "source": [
    "ann.add(tf.keras.layers.Dense(units=1, activation='sigmoid'))"
   ]
  },
  {
   "cell_type": "code",
   "execution_count": 34,
   "metadata": {},
   "outputs": [
    {
     "name": "stdout",
     "output_type": "stream",
     "text": [
      "WARNING:tensorflow:From C:\\Users\\DELL\\AppData\\Roaming\\Python\\Python311\\site-packages\\keras\\src\\optimizers\\__init__.py:309: The name tf.train.Optimizer is deprecated. Please use tf.compat.v1.train.Optimizer instead.\n",
      "\n"
     ]
    }
   ],
   "source": [
    "ann.compile(optimizer = 'adam', loss = 'binary_crossentropy', metrics = ['accuracy'])"
   ]
  },
  {
   "cell_type": "code",
   "execution_count": 35,
   "metadata": {},
   "outputs": [
    {
     "name": "stdout",
     "output_type": "stream",
     "text": [
      "Epoch 1/100\n",
      "WARNING:tensorflow:From C:\\Users\\DELL\\AppData\\Roaming\\Python\\Python311\\site-packages\\keras\\src\\utils\\tf_utils.py:492: The name tf.ragged.RaggedTensorValue is deprecated. Please use tf.compat.v1.ragged.RaggedTensorValue instead.\n",
      "\n",
      "WARNING:tensorflow:From C:\\Users\\DELL\\AppData\\Roaming\\Python\\Python311\\site-packages\\keras\\src\\engine\\base_layer_utils.py:384: The name tf.executing_eagerly_outside_functions is deprecated. Please use tf.compat.v1.executing_eagerly_outside_functions instead.\n",
      "\n",
      "1263/1263 [==============================] - 18s 9ms/step - loss: 0.4703 - accuracy: 0.7805 - val_loss: 0.4207 - val_accuracy: 0.8133\n",
      "Epoch 2/100\n",
      "1263/1263 [==============================] - 11s 9ms/step - loss: 0.4161 - accuracy: 0.8162 - val_loss: 0.4043 - val_accuracy: 0.8257\n",
      "Epoch 3/100\n",
      "1263/1263 [==============================] - 10s 8ms/step - loss: 0.4024 - accuracy: 0.8228 - val_loss: 0.3933 - val_accuracy: 0.8286\n",
      "Epoch 4/100\n",
      "1263/1263 [==============================] - 10s 8ms/step - loss: 0.3930 - accuracy: 0.8264 - val_loss: 0.3862 - val_accuracy: 0.8318\n",
      "Epoch 5/100\n",
      "1263/1263 [==============================] - 11s 8ms/step - loss: 0.3864 - accuracy: 0.8298 - val_loss: 0.3844 - val_accuracy: 0.8327\n",
      "Epoch 6/100\n",
      "1263/1263 [==============================] - 11s 9ms/step - loss: 0.3818 - accuracy: 0.8304 - val_loss: 0.3800 - val_accuracy: 0.8329\n",
      "Epoch 7/100\n",
      "1263/1263 [==============================] - 10s 8ms/step - loss: 0.3789 - accuracy: 0.8325 - val_loss: 0.3768 - val_accuracy: 0.8359\n",
      "Epoch 8/100\n",
      "1263/1263 [==============================] - 10s 8ms/step - loss: 0.3769 - accuracy: 0.8332 - val_loss: 0.3763 - val_accuracy: 0.8341\n",
      "Epoch 9/100\n",
      "1263/1263 [==============================] - 9s 7ms/step - loss: 0.3753 - accuracy: 0.8331 - val_loss: 0.3750 - val_accuracy: 0.8358\n",
      "Epoch 10/100\n",
      "1263/1263 [==============================] - 10s 8ms/step - loss: 0.3742 - accuracy: 0.8349 - val_loss: 0.3724 - val_accuracy: 0.8358\n",
      "Epoch 11/100\n",
      "1263/1263 [==============================] - 10s 8ms/step - loss: 0.3729 - accuracy: 0.8351 - val_loss: 0.3726 - val_accuracy: 0.8376\n",
      "Epoch 12/100\n",
      "1263/1263 [==============================] - 11s 9ms/step - loss: 0.3717 - accuracy: 0.8365 - val_loss: 0.3710 - val_accuracy: 0.8372\n",
      "Epoch 13/100\n",
      "1263/1263 [==============================] - 11s 8ms/step - loss: 0.3715 - accuracy: 0.8366 - val_loss: 0.3713 - val_accuracy: 0.8381\n",
      "Epoch 14/100\n",
      "1263/1263 [==============================] - 11s 9ms/step - loss: 0.3715 - accuracy: 0.8363 - val_loss: 0.3703 - val_accuracy: 0.8385\n",
      "Epoch 15/100\n",
      "1263/1263 [==============================] - 11s 9ms/step - loss: 0.3702 - accuracy: 0.8367 - val_loss: 0.3705 - val_accuracy: 0.8390\n",
      "Epoch 16/100\n",
      "1263/1263 [==============================] - 11s 8ms/step - loss: 0.3701 - accuracy: 0.8382 - val_loss: 0.3693 - val_accuracy: 0.8398\n",
      "Epoch 17/100\n",
      "1263/1263 [==============================] - 10s 8ms/step - loss: 0.3694 - accuracy: 0.8372 - val_loss: 0.3766 - val_accuracy: 0.8356\n",
      "Epoch 18/100\n",
      "1263/1263 [==============================] - 10s 8ms/step - loss: 0.3692 - accuracy: 0.8371 - val_loss: 0.3714 - val_accuracy: 0.8364\n",
      "Epoch 19/100\n",
      "1263/1263 [==============================] - 8s 6ms/step - loss: 0.3686 - accuracy: 0.8367 - val_loss: 0.3700 - val_accuracy: 0.8362\n",
      "Epoch 20/100\n",
      "1263/1263 [==============================] - 8s 6ms/step - loss: 0.3680 - accuracy: 0.8379 - val_loss: 0.3699 - val_accuracy: 0.8385\n",
      "Epoch 21/100\n",
      "1263/1263 [==============================] - 10s 8ms/step - loss: 0.3676 - accuracy: 0.8369 - val_loss: 0.3689 - val_accuracy: 0.8364\n",
      "Epoch 22/100\n",
      "1263/1263 [==============================] - 7s 6ms/step - loss: 0.3668 - accuracy: 0.8381 - val_loss: 0.3672 - val_accuracy: 0.8403\n",
      "Epoch 23/100\n",
      "1263/1263 [==============================] - 10s 8ms/step - loss: 0.3668 - accuracy: 0.8381 - val_loss: 0.3676 - val_accuracy: 0.8397\n",
      "Epoch 24/100\n",
      "1263/1263 [==============================] - 10s 8ms/step - loss: 0.3662 - accuracy: 0.8376 - val_loss: 0.3669 - val_accuracy: 0.8395\n",
      "Epoch 25/100\n",
      "1263/1263 [==============================] - 10s 8ms/step - loss: 0.3664 - accuracy: 0.8381 - val_loss: 0.3665 - val_accuracy: 0.8402\n",
      "Epoch 26/100\n",
      "1263/1263 [==============================] - 9s 7ms/step - loss: 0.3654 - accuracy: 0.8383 - val_loss: 0.3670 - val_accuracy: 0.8398\n",
      "Epoch 27/100\n",
      "1263/1263 [==============================] - 10s 8ms/step - loss: 0.3652 - accuracy: 0.8382 - val_loss: 0.3688 - val_accuracy: 0.8386\n",
      "Epoch 28/100\n",
      "1263/1263 [==============================] - 7s 5ms/step - loss: 0.3653 - accuracy: 0.8373 - val_loss: 0.3683 - val_accuracy: 0.8389\n",
      "Epoch 29/100\n",
      "1263/1263 [==============================] - 8s 6ms/step - loss: 0.3646 - accuracy: 0.8383 - val_loss: 0.3711 - val_accuracy: 0.8376\n",
      "Epoch 30/100\n",
      "1263/1263 [==============================] - 11s 8ms/step - loss: 0.3644 - accuracy: 0.8375 - val_loss: 0.3654 - val_accuracy: 0.8409\n",
      "Epoch 31/100\n",
      "1263/1263 [==============================] - 10s 8ms/step - loss: 0.3646 - accuracy: 0.8374 - val_loss: 0.3662 - val_accuracy: 0.8389\n",
      "Epoch 32/100\n",
      "1263/1263 [==============================] - 7s 6ms/step - loss: 0.3637 - accuracy: 0.8380 - val_loss: 0.3684 - val_accuracy: 0.8388\n",
      "Epoch 33/100\n",
      "1263/1263 [==============================] - 9s 7ms/step - loss: 0.3635 - accuracy: 0.8379 - val_loss: 0.3654 - val_accuracy: 0.8402\n",
      "Epoch 34/100\n",
      "1263/1263 [==============================] - 10s 8ms/step - loss: 0.3635 - accuracy: 0.8383 - val_loss: 0.3652 - val_accuracy: 0.8394\n",
      "Epoch 35/100\n",
      "1263/1263 [==============================] - 7s 6ms/step - loss: 0.3633 - accuracy: 0.8379 - val_loss: 0.3658 - val_accuracy: 0.8411\n",
      "Epoch 36/100\n",
      "1263/1263 [==============================] - 9s 7ms/step - loss: 0.3624 - accuracy: 0.8393 - val_loss: 0.3638 - val_accuracy: 0.8419\n",
      "Epoch 37/100\n",
      "1263/1263 [==============================] - 9s 7ms/step - loss: 0.3624 - accuracy: 0.8386 - val_loss: 0.3692 - val_accuracy: 0.8384\n",
      "Epoch 38/100\n",
      "1263/1263 [==============================] - 10s 8ms/step - loss: 0.3628 - accuracy: 0.8379 - val_loss: 0.3649 - val_accuracy: 0.8410\n",
      "Epoch 39/100\n",
      "1263/1263 [==============================] - 10s 8ms/step - loss: 0.3627 - accuracy: 0.8376 - val_loss: 0.3665 - val_accuracy: 0.8388\n",
      "Epoch 40/100\n",
      "1263/1263 [==============================] - 10s 8ms/step - loss: 0.3621 - accuracy: 0.8385 - val_loss: 0.3657 - val_accuracy: 0.8392\n",
      "Epoch 41/100\n",
      "1263/1263 [==============================] - 9s 7ms/step - loss: 0.3619 - accuracy: 0.8394 - val_loss: 0.3646 - val_accuracy: 0.8406\n",
      "Epoch 42/100\n",
      "1263/1263 [==============================] - 9s 7ms/step - loss: 0.3618 - accuracy: 0.8396 - val_loss: 0.3656 - val_accuracy: 0.8393\n",
      "Epoch 43/100\n",
      "1263/1263 [==============================] - 10s 8ms/step - loss: 0.3613 - accuracy: 0.8386 - val_loss: 0.3637 - val_accuracy: 0.8422\n",
      "Epoch 44/100\n",
      "1263/1263 [==============================] - 8s 7ms/step - loss: 0.3613 - accuracy: 0.8391 - val_loss: 0.3640 - val_accuracy: 0.8410\n",
      "Epoch 45/100\n",
      "1263/1263 [==============================] - 10s 8ms/step - loss: 0.3616 - accuracy: 0.8393 - val_loss: 0.3671 - val_accuracy: 0.8393\n",
      "Epoch 46/100\n",
      "1263/1263 [==============================] - 10s 8ms/step - loss: 0.3614 - accuracy: 0.8382 - val_loss: 0.3655 - val_accuracy: 0.8408\n",
      "Epoch 47/100\n",
      "1263/1263 [==============================] - 10s 8ms/step - loss: 0.3609 - accuracy: 0.8386 - val_loss: 0.3633 - val_accuracy: 0.8407\n",
      "Epoch 48/100\n",
      "1263/1263 [==============================] - 10s 8ms/step - loss: 0.3604 - accuracy: 0.8398 - val_loss: 0.3643 - val_accuracy: 0.8398\n",
      "Epoch 49/100\n",
      "1263/1263 [==============================] - 9s 7ms/step - loss: 0.3602 - accuracy: 0.8402 - val_loss: 0.3627 - val_accuracy: 0.8410\n",
      "Epoch 50/100\n",
      "1263/1263 [==============================] - 7s 5ms/step - loss: 0.3599 - accuracy: 0.8401 - val_loss: 0.3629 - val_accuracy: 0.8418\n",
      "Epoch 51/100\n",
      "1263/1263 [==============================] - 8s 6ms/step - loss: 0.3603 - accuracy: 0.8394 - val_loss: 0.3609 - val_accuracy: 0.8428\n",
      "Epoch 52/100\n",
      "1263/1263 [==============================] - 10s 8ms/step - loss: 0.3598 - accuracy: 0.8399 - val_loss: 0.3636 - val_accuracy: 0.8396\n",
      "Epoch 53/100\n",
      "1263/1263 [==============================] - 9s 7ms/step - loss: 0.3602 - accuracy: 0.8398 - val_loss: 0.3646 - val_accuracy: 0.8403\n",
      "Epoch 54/100\n",
      "1263/1263 [==============================] - 8s 7ms/step - loss: 0.3592 - accuracy: 0.8405 - val_loss: 0.3626 - val_accuracy: 0.8421\n",
      "Epoch 55/100\n",
      "1263/1263 [==============================] - 10s 8ms/step - loss: 0.3595 - accuracy: 0.8397 - val_loss: 0.3622 - val_accuracy: 0.8409\n",
      "Epoch 56/100\n",
      "1263/1263 [==============================] - 8s 6ms/step - loss: 0.3588 - accuracy: 0.8397 - val_loss: 0.3698 - val_accuracy: 0.8361\n",
      "Epoch 57/100\n",
      "1263/1263 [==============================] - 10s 8ms/step - loss: 0.3585 - accuracy: 0.8403 - val_loss: 0.3637 - val_accuracy: 0.8403\n",
      "Epoch 58/100\n",
      "1263/1263 [==============================] - 9s 7ms/step - loss: 0.3586 - accuracy: 0.8404 - val_loss: 0.3609 - val_accuracy: 0.8422\n",
      "Epoch 59/100\n",
      "1263/1263 [==============================] - 9s 7ms/step - loss: 0.3580 - accuracy: 0.8411 - val_loss: 0.3641 - val_accuracy: 0.8406\n",
      "Epoch 60/100\n",
      "1263/1263 [==============================] - 11s 8ms/step - loss: 0.3578 - accuracy: 0.8403 - val_loss: 0.3606 - val_accuracy: 0.8416\n",
      "Epoch 61/100\n",
      "1263/1263 [==============================] - 8s 6ms/step - loss: 0.3582 - accuracy: 0.8404 - val_loss: 0.3646 - val_accuracy: 0.8402\n",
      "Epoch 62/100\n",
      "1263/1263 [==============================] - 9s 7ms/step - loss: 0.3579 - accuracy: 0.8414 - val_loss: 0.3625 - val_accuracy: 0.8404\n",
      "Epoch 63/100\n",
      "1263/1263 [==============================] - 9s 7ms/step - loss: 0.3581 - accuracy: 0.8408 - val_loss: 0.3602 - val_accuracy: 0.8417\n",
      "Epoch 64/100\n",
      "1263/1263 [==============================] - 9s 7ms/step - loss: 0.3578 - accuracy: 0.8401 - val_loss: 0.3638 - val_accuracy: 0.8407\n",
      "Epoch 65/100\n",
      "1263/1263 [==============================] - 6s 5ms/step - loss: 0.3572 - accuracy: 0.8406 - val_loss: 0.3631 - val_accuracy: 0.8392\n",
      "Epoch 66/100\n",
      "1263/1263 [==============================] - 9s 7ms/step - loss: 0.3574 - accuracy: 0.8410 - val_loss: 0.3682 - val_accuracy: 0.8365\n",
      "Epoch 67/100\n",
      "1263/1263 [==============================] - 10s 8ms/step - loss: 0.3574 - accuracy: 0.8404 - val_loss: 0.3631 - val_accuracy: 0.8419\n",
      "Epoch 68/100\n",
      "1263/1263 [==============================] - 9s 7ms/step - loss: 0.3571 - accuracy: 0.8408 - val_loss: 0.3596 - val_accuracy: 0.8431\n",
      "Epoch 69/100\n",
      "1263/1263 [==============================] - 10s 8ms/step - loss: 0.3572 - accuracy: 0.8414 - val_loss: 0.3601 - val_accuracy: 0.8430\n",
      "Epoch 70/100\n",
      "1263/1263 [==============================] - 6s 5ms/step - loss: 0.3563 - accuracy: 0.8417 - val_loss: 0.3603 - val_accuracy: 0.8404\n",
      "Epoch 71/100\n",
      "1263/1263 [==============================] - 7s 5ms/step - loss: 0.3563 - accuracy: 0.8406 - val_loss: 0.3599 - val_accuracy: 0.8426\n",
      "Epoch 72/100\n",
      "1263/1263 [==============================] - 9s 7ms/step - loss: 0.3556 - accuracy: 0.8416 - val_loss: 0.3591 - val_accuracy: 0.8413\n",
      "Epoch 73/100\n",
      "1263/1263 [==============================] - 10s 8ms/step - loss: 0.3549 - accuracy: 0.8423 - val_loss: 0.3595 - val_accuracy: 0.8427\n",
      "Epoch 74/100\n",
      "1263/1263 [==============================] - 9s 7ms/step - loss: 0.3552 - accuracy: 0.8417 - val_loss: 0.3609 - val_accuracy: 0.8413\n",
      "Epoch 75/100\n",
      "1263/1263 [==============================] - 10s 8ms/step - loss: 0.3552 - accuracy: 0.8412 - val_loss: 0.3611 - val_accuracy: 0.8411\n",
      "Epoch 76/100\n",
      "1263/1263 [==============================] - 9s 7ms/step - loss: 0.3544 - accuracy: 0.8432 - val_loss: 0.3577 - val_accuracy: 0.8436\n",
      "Epoch 77/100\n",
      "1263/1263 [==============================] - 9s 7ms/step - loss: 0.3537 - accuracy: 0.8432 - val_loss: 0.3595 - val_accuracy: 0.8416\n",
      "Epoch 78/100\n",
      "1263/1263 [==============================] - 6s 5ms/step - loss: 0.3540 - accuracy: 0.8425 - val_loss: 0.3574 - val_accuracy: 0.8439\n",
      "Epoch 79/100\n",
      "1263/1263 [==============================] - 9s 7ms/step - loss: 0.3536 - accuracy: 0.8423 - val_loss: 0.3570 - val_accuracy: 0.8446\n",
      "Epoch 80/100\n",
      "1263/1263 [==============================] - 9s 7ms/step - loss: 0.3533 - accuracy: 0.8435 - val_loss: 0.3574 - val_accuracy: 0.8444\n",
      "Epoch 81/100\n",
      "1263/1263 [==============================] - 10s 8ms/step - loss: 0.3531 - accuracy: 0.8431 - val_loss: 0.3583 - val_accuracy: 0.8406\n",
      "Epoch 82/100\n",
      "1263/1263 [==============================] - 6s 5ms/step - loss: 0.3529 - accuracy: 0.8431 - val_loss: 0.3564 - val_accuracy: 0.8464\n",
      "Epoch 83/100\n",
      "1263/1263 [==============================] - 8s 6ms/step - loss: 0.3529 - accuracy: 0.8434 - val_loss: 0.3617 - val_accuracy: 0.8422\n",
      "Epoch 84/100\n",
      "1263/1263 [==============================] - 9s 7ms/step - loss: 0.3517 - accuracy: 0.8446 - val_loss: 0.3566 - val_accuracy: 0.8444\n",
      "Epoch 85/100\n",
      "1263/1263 [==============================] - 8s 6ms/step - loss: 0.3526 - accuracy: 0.8434 - val_loss: 0.3563 - val_accuracy: 0.8448\n",
      "Epoch 86/100\n",
      "1263/1263 [==============================] - 9s 8ms/step - loss: 0.3517 - accuracy: 0.8446 - val_loss: 0.3584 - val_accuracy: 0.8443\n",
      "Epoch 87/100\n",
      "1263/1263 [==============================] - 10s 8ms/step - loss: 0.3517 - accuracy: 0.8443 - val_loss: 0.3563 - val_accuracy: 0.8456\n",
      "Epoch 88/100\n",
      "1263/1263 [==============================] - 10s 8ms/step - loss: 0.3517 - accuracy: 0.8438 - val_loss: 0.3568 - val_accuracy: 0.8446\n",
      "Epoch 89/100\n",
      "1263/1263 [==============================] - 10s 8ms/step - loss: 0.3515 - accuracy: 0.8440 - val_loss: 0.3571 - val_accuracy: 0.8447\n",
      "Epoch 90/100\n",
      "1263/1263 [==============================] - 9s 7ms/step - loss: 0.3512 - accuracy: 0.8441 - val_loss: 0.3563 - val_accuracy: 0.8448\n",
      "Epoch 91/100\n",
      "1263/1263 [==============================] - 9s 7ms/step - loss: 0.3511 - accuracy: 0.8435 - val_loss: 0.3551 - val_accuracy: 0.8465\n",
      "Epoch 92/100\n",
      "1263/1263 [==============================] - 10s 8ms/step - loss: 0.3506 - accuracy: 0.8438 - val_loss: 0.3556 - val_accuracy: 0.8462\n",
      "Epoch 93/100\n",
      "1263/1263 [==============================] - 9s 7ms/step - loss: 0.3505 - accuracy: 0.8445 - val_loss: 0.3606 - val_accuracy: 0.8441\n",
      "Epoch 94/100\n",
      "1263/1263 [==============================] - 9s 7ms/step - loss: 0.3505 - accuracy: 0.8444 - val_loss: 0.3544 - val_accuracy: 0.8459\n",
      "Epoch 95/100\n",
      "1263/1263 [==============================] - 9s 7ms/step - loss: 0.3503 - accuracy: 0.8453 - val_loss: 0.3549 - val_accuracy: 0.8462\n",
      "Epoch 96/100\n",
      "1263/1263 [==============================] - 10s 8ms/step - loss: 0.3503 - accuracy: 0.8455 - val_loss: 0.3541 - val_accuracy: 0.8462\n",
      "Epoch 97/100\n",
      "1263/1263 [==============================] - 10s 8ms/step - loss: 0.3499 - accuracy: 0.8452 - val_loss: 0.3533 - val_accuracy: 0.8464\n",
      "Epoch 98/100\n",
      "1263/1263 [==============================] - 9s 7ms/step - loss: 0.3498 - accuracy: 0.8450 - val_loss: 0.3553 - val_accuracy: 0.8462\n",
      "Epoch 99/100\n",
      "1263/1263 [==============================] - 9s 7ms/step - loss: 0.3497 - accuracy: 0.8448 - val_loss: 0.3546 - val_accuracy: 0.8454\n",
      "Epoch 100/100\n",
      "1263/1263 [==============================] - 8s 6ms/step - loss: 0.3491 - accuracy: 0.8450 - val_loss: 0.3561 - val_accuracy: 0.8462\n"
     ]
    },
    {
     "data": {
      "text/plain": [
       "<keras.src.callbacks.History at 0x1acdecb0250>"
      ]
     },
     "execution_count": 35,
     "metadata": {},
     "output_type": "execute_result"
    }
   ],
   "source": [
    "ann.fit(x_train5, y_train5, batch_size = 32, epochs=100,\n",
    "          validation_data=(x_test5, y_test5), verbose=1,\n",
    "          callbacks=[early_stop])"
   ]
  },
  {
   "cell_type": "code",
   "execution_count": 36,
   "metadata": {},
   "outputs": [
    {
     "name": "stdout",
     "output_type": "stream",
     "text": [
      "1263/1263 [==============================] - 4s 3ms/step\n",
      "421/421 [==============================] - 1s 3ms/step\n",
      "[[0 0]\n",
      " [1 1]\n",
      " [0 0]\n",
      " ...\n",
      " [1 1]\n",
      " [1 1]\n",
      " [1 1]]\n"
     ]
    }
   ],
   "source": [
    "ypred_train8 = ann.predict(x_train5)\n",
    "y_pred_test8 = ann.predict(x_test5)\n",
    "\n",
    "y_pred_test8 = (y_pred_test8 > 0.5)\n",
    "ypred_train8 = (ypred_train8 > 0.5)\n",
    "print(np.concatenate((y_pred_test8.reshape(len(y_pred_test8),1), y_test5.reshape(len(y_test5),1)),1))"
   ]
  },
  {
   "cell_type": "code",
   "execution_count": 37,
   "metadata": {},
   "outputs": [
    {
     "data": {
      "text/plain": [
       "0.8461652683940901"
      ]
     },
     "execution_count": 37,
     "metadata": {},
     "output_type": "execute_result"
    }
   ],
   "source": [
    "accuracy_score(y_test5, y_pred_test8)"
   ]
  },
  {
   "cell_type": "code",
   "execution_count": 38,
   "metadata": {},
   "outputs": [
    {
     "name": "stdout",
     "output_type": "stream",
     "text": [
      "Training Results\n",
      "\n",
      "              precision    recall  f1-score   support\n",
      "\n",
      "           0       0.79      0.93      0.86     20189\n",
      "           1       0.92      0.76      0.83     20218\n",
      "\n",
      "    accuracy                           0.85     40407\n",
      "   macro avg       0.86      0.85      0.85     40407\n",
      "weighted avg       0.86      0.85      0.85     40407\n",
      "\n"
     ]
    }
   ],
   "source": [
    "print(\"Training Results\\n\")\n",
    "print(classification_report(y_train5, ypred_train8))"
   ]
  },
  {
   "cell_type": "code",
   "execution_count": 39,
   "metadata": {},
   "outputs": [
    {
     "name": "stdout",
     "output_type": "stream",
     "text": [
      "Testing Results\n",
      "\n",
      "              precision    recall  f1-score   support\n",
      "\n",
      "           0       0.79      0.94      0.86      6749\n",
      "           1       0.93      0.75      0.83      6720\n",
      "\n",
      "    accuracy                           0.85     13469\n",
      "   macro avg       0.86      0.85      0.84     13469\n",
      "weighted avg       0.86      0.85      0.84     13469\n",
      "\n"
     ]
    }
   ],
   "source": [
    "print('Testing Results\\n')\n",
    "print(classification_report(y_test5, y_pred_test8))"
   ]
  },
  {
   "cell_type": "code",
   "execution_count": 40,
   "metadata": {},
   "outputs": [
    {
     "name": "stdout",
     "output_type": "stream",
     "text": [
      "177/421 [===========>..................] - ETA: 1s"
     ]
    },
    {
     "name": "stdout",
     "output_type": "stream",
     "text": [
      "421/421 [==============================] - 3s 5ms/step\n"
     ]
    },
    {
     "data": {
      "image/png": "[encoded data removed]",
      "text/plain": [
       "<Figure size 640x480 with 1 Axes>"
      ]
     },
     "metadata": {},
     "output_type": "display_data"
    }
   ],
   "source": [
    "# cross_val_scores = cross_val_score(ann, x_train5, y_train5, cv=5)\n",
    "# print(\"Cross-validation scores:\", cross_val_scores)\n",
    "# print(\"Average cross-validation score:\", np.mean(cross_val_scores))\n",
    "y_proba_test = ann.predict(x_test5).flatten()\n",
    "\n",
    "fpr, tpr, thresholds = roc_curve(y_test5, y_proba_test)\n",
    "\n",
    "plt.plot(fpr, tpr, label='ROC Curve')\n",
    "plt.xlabel('False Positive Rate')\n",
    "plt.ylabel('True Positive Rate')\n",
    "plt.title('ROC Curve with AUC = {:.2f}'.format(roc_auc_score(y_test5, y_proba_test)))\n",
    "plt.legend(loc='lower right')\n",
    "plt.grid(True)\n",
    "plt.show()"
   ]
  },
  {
   "cell_type": "markdown",
   "metadata": {},
   "source": [
    "## inne próby sieci neuronowych "
   ]
  },
  {
   "cell_type": "code",
   "execution_count": 41,
   "metadata": {},
   "outputs": [
    {
     "name": "stderr",
     "output_type": "stream",
     "text": [
      "WARNING:absl:`lr` is deprecated in Keras optimizer, please use `learning_rate` or use the legacy optimizer, e.g.,tf.keras.optimizers.legacy.Adam.\n"
     ]
    },
    {
     "name": "stdout",
     "output_type": "stream",
     "text": [
      "Epoch 1/100\n",
      "1263/1263 [==============================] - 13s 7ms/step - loss: 0.4597 - accuracy: 0.7861\n",
      "Epoch 2/100\n",
      "1263/1263 [==============================] - 8s 6ms/step - loss: 0.4149 - accuracy: 0.8148\n",
      "Epoch 3/100\n",
      "1263/1263 [==============================] - 8s 6ms/step - loss: 0.3999 - accuracy: 0.8219\n",
      "Epoch 4/100\n",
      "1263/1263 [==============================] - 8s 6ms/step - loss: 0.3886 - accuracy: 0.8284\n",
      "Epoch 5/100\n",
      "1263/1263 [==============================] - 6s 4ms/step - loss: 0.3816 - accuracy: 0.8300\n",
      "Epoch 6/100\n",
      "1263/1263 [==============================] - 8s 6ms/step - loss: 0.3773 - accuracy: 0.8332\n",
      "Epoch 7/100\n",
      "1263/1263 [==============================] - 7s 6ms/step - loss: 0.3742 - accuracy: 0.8343\n",
      "Epoch 8/100\n",
      "1263/1263 [==============================] - 7s 6ms/step - loss: 0.3726 - accuracy: 0.8352\n",
      "Epoch 9/100\n",
      "1263/1263 [==============================] - 7s 5ms/step - loss: 0.3713 - accuracy: 0.8357\n",
      "Epoch 10/100\n",
      "1263/1263 [==============================] - 8s 6ms/step - loss: 0.3702 - accuracy: 0.8360\n",
      "Epoch 11/100\n",
      "1263/1263 [==============================] - 8s 6ms/step - loss: 0.3697 - accuracy: 0.8365\n",
      "Epoch 12/100\n",
      "1263/1263 [==============================] - 8s 6ms/step - loss: 0.3693 - accuracy: 0.8362\n",
      "Epoch 13/100\n",
      "1263/1263 [==============================] - 8s 6ms/step - loss: 0.3685 - accuracy: 0.8365\n",
      "Epoch 14/100\n",
      "1263/1263 [==============================] - 8s 6ms/step - loss: 0.3680 - accuracy: 0.8369\n",
      "Epoch 15/100\n",
      "1263/1263 [==============================] - 8s 6ms/step - loss: 0.3669 - accuracy: 0.8360\n",
      "Epoch 16/100\n",
      "1263/1263 [==============================] - 5s 4ms/step - loss: 0.3675 - accuracy: 0.8367\n",
      "Epoch 17/100\n",
      "1263/1263 [==============================] - 7s 6ms/step - loss: 0.3660 - accuracy: 0.8375\n",
      "Epoch 18/100\n",
      "1263/1263 [==============================] - 8s 6ms/step - loss: 0.3666 - accuracy: 0.8376\n",
      "Epoch 19/100\n",
      "1263/1263 [==============================] - 8s 6ms/step - loss: 0.3659 - accuracy: 0.8374\n",
      "Epoch 20/100\n",
      "1263/1263 [==============================] - 8s 6ms/step - loss: 0.3658 - accuracy: 0.8379\n",
      "Epoch 21/100\n",
      "1263/1263 [==============================] - 5s 4ms/step - loss: 0.3647 - accuracy: 0.8373\n",
      "Epoch 22/100\n",
      "1263/1263 [==============================] - 7s 6ms/step - loss: 0.3650 - accuracy: 0.8378\n",
      "Epoch 23/100\n",
      "1263/1263 [==============================] - 7s 5ms/step - loss: 0.3642 - accuracy: 0.8381\n",
      "Epoch 24/100\n",
      "1263/1263 [==============================] - 5s 4ms/step - loss: 0.3639 - accuracy: 0.8380\n",
      "Epoch 25/100\n",
      "1263/1263 [==============================] - 5s 4ms/step - loss: 0.3639 - accuracy: 0.8384\n",
      "Epoch 26/100\n",
      "1263/1263 [==============================] - 7s 5ms/step - loss: 0.3631 - accuracy: 0.8395\n",
      "Epoch 27/100\n",
      "1263/1263 [==============================] - 7s 5ms/step - loss: 0.3630 - accuracy: 0.8379\n",
      "Epoch 28/100\n",
      "1263/1263 [==============================] - 7s 5ms/step - loss: 0.3620 - accuracy: 0.8401\n",
      "Epoch 29/100\n",
      "1263/1263 [==============================] - 7s 6ms/step - loss: 0.3628 - accuracy: 0.8387\n",
      "Epoch 30/100\n",
      "1263/1263 [==============================] - 6s 5ms/step - loss: 0.3621 - accuracy: 0.8384\n",
      "Epoch 31/100\n",
      "1263/1263 [==============================] - 7s 6ms/step - loss: 0.3615 - accuracy: 0.8385\n",
      "Epoch 32/100\n",
      "1263/1263 [==============================] - 8s 7ms/step - loss: 0.3621 - accuracy: 0.8389\n",
      "Epoch 33/100\n",
      "1263/1263 [==============================] - 8s 6ms/step - loss: 0.3613 - accuracy: 0.8400\n",
      "Epoch 34/100\n",
      "1263/1263 [==============================] - 7s 6ms/step - loss: 0.3606 - accuracy: 0.8395\n",
      "Epoch 35/100\n",
      "1263/1263 [==============================] - 7s 6ms/step - loss: 0.3607 - accuracy: 0.8391\n",
      "Epoch 36/100\n",
      "1263/1263 [==============================] - 7s 6ms/step - loss: 0.3598 - accuracy: 0.8404\n",
      "Epoch 37/100\n",
      "1263/1263 [==============================] - 7s 6ms/step - loss: 0.3598 - accuracy: 0.8403\n",
      "Epoch 38/100\n",
      "1263/1263 [==============================] - 7s 6ms/step - loss: 0.3594 - accuracy: 0.8395\n",
      "Epoch 39/100\n",
      "1263/1263 [==============================] - 7s 6ms/step - loss: 0.3589 - accuracy: 0.8398\n",
      "Epoch 40/100\n",
      "1263/1263 [==============================] - 7s 5ms/step - loss: 0.3584 - accuracy: 0.8395\n",
      "Epoch 41/100\n",
      "1263/1263 [==============================] - 7s 5ms/step - loss: 0.3581 - accuracy: 0.8401\n",
      "Epoch 42/100\n",
      "1263/1263 [==============================] - 7s 6ms/step - loss: 0.3582 - accuracy: 0.8403\n",
      "Epoch 43/100\n",
      "1263/1263 [==============================] - 7s 6ms/step - loss: 0.3577 - accuracy: 0.8404\n",
      "Epoch 44/100\n",
      "1263/1263 [==============================] - 7s 6ms/step - loss: 0.3575 - accuracy: 0.8409\n",
      "Epoch 45/100\n",
      "1263/1263 [==============================] - 8s 6ms/step - loss: 0.3570 - accuracy: 0.8398\n",
      "Epoch 46/100\n",
      "1263/1263 [==============================] - 7s 6ms/step - loss: 0.3574 - accuracy: 0.8406\n",
      "Epoch 47/100\n",
      "1263/1263 [==============================] - 7s 6ms/step - loss: 0.3566 - accuracy: 0.8415\n",
      "Epoch 48/100\n",
      "1263/1263 [==============================] - 7s 6ms/step - loss: 0.3563 - accuracy: 0.8409\n",
      "Epoch 49/100\n",
      "1263/1263 [==============================] - 7s 6ms/step - loss: 0.3560 - accuracy: 0.8420\n",
      "Epoch 50/100\n",
      "1263/1263 [==============================] - 7s 6ms/step - loss: 0.3555 - accuracy: 0.8420\n",
      "Epoch 51/100\n",
      "1263/1263 [==============================] - 7s 5ms/step - loss: 0.3558 - accuracy: 0.8417\n",
      "Epoch 52/100\n",
      "1263/1263 [==============================] - 7s 5ms/step - loss: 0.3562 - accuracy: 0.8408\n",
      "Epoch 53/100\n",
      "1263/1263 [==============================] - 6s 5ms/step - loss: 0.3555 - accuracy: 0.8415\n",
      "Epoch 54/100\n",
      "1263/1263 [==============================] - 7s 5ms/step - loss: 0.3554 - accuracy: 0.8415\n",
      "Epoch 55/100\n",
      "1263/1263 [==============================] - 7s 5ms/step - loss: 0.3549 - accuracy: 0.8417\n",
      "Epoch 56/100\n",
      "1263/1263 [==============================] - 7s 5ms/step - loss: 0.3551 - accuracy: 0.8411\n",
      "Epoch 57/100\n",
      "1263/1263 [==============================] - 7s 6ms/step - loss: 0.3549 - accuracy: 0.8422\n",
      "Epoch 58/100\n",
      "1263/1263 [==============================] - 6s 5ms/step - loss: 0.3544 - accuracy: 0.8423\n",
      "Epoch 59/100\n",
      "1263/1263 [==============================] - 7s 6ms/step - loss: 0.3541 - accuracy: 0.8421\n",
      "Epoch 60/100\n",
      "1263/1263 [==============================] - 7s 6ms/step - loss: 0.3544 - accuracy: 0.8413\n",
      "Epoch 61/100\n",
      "1263/1263 [==============================] - 8s 6ms/step - loss: 0.3535 - accuracy: 0.8421\n",
      "Epoch 62/100\n",
      "1263/1263 [==============================] - 8s 6ms/step - loss: 0.3536 - accuracy: 0.8429\n",
      "Epoch 63/100\n",
      "1263/1263 [==============================] - 8s 6ms/step - loss: 0.3535 - accuracy: 0.8422\n",
      "Epoch 64/100\n",
      "1263/1263 [==============================] - 8s 6ms/step - loss: 0.3533 - accuracy: 0.8432\n",
      "Epoch 65/100\n",
      "1263/1263 [==============================] - 8s 6ms/step - loss: 0.3533 - accuracy: 0.8424\n",
      "Epoch 66/100\n",
      "1263/1263 [==============================] - 7s 6ms/step - loss: 0.3530 - accuracy: 0.8424\n",
      "Epoch 67/100\n",
      "1263/1263 [==============================] - 7s 6ms/step - loss: 0.3524 - accuracy: 0.8429\n",
      "Epoch 68/100\n",
      "1263/1263 [==============================] - 7s 6ms/step - loss: 0.3529 - accuracy: 0.8431\n",
      "Epoch 69/100\n",
      "1263/1263 [==============================] - 7s 5ms/step - loss: 0.3523 - accuracy: 0.8429\n",
      "Epoch 70/100\n",
      "1263/1263 [==============================] - 7s 6ms/step - loss: 0.3517 - accuracy: 0.8434\n",
      "Epoch 71/100\n",
      "1263/1263 [==============================] - 8s 6ms/step - loss: 0.3516 - accuracy: 0.8429\n",
      "Epoch 72/100\n",
      "1263/1263 [==============================] - 8s 6ms/step - loss: 0.3520 - accuracy: 0.8434\n",
      "Epoch 73/100\n",
      "1263/1263 [==============================] - 8s 6ms/step - loss: 0.3516 - accuracy: 0.8441\n",
      "Epoch 74/100\n",
      "1263/1263 [==============================] - 7s 5ms/step - loss: 0.3512 - accuracy: 0.8438\n",
      "Epoch 75/100\n",
      "1263/1263 [==============================] - 7s 6ms/step - loss: 0.3504 - accuracy: 0.8442\n",
      "Epoch 76/100\n",
      "1263/1263 [==============================] - 7s 6ms/step - loss: 0.3511 - accuracy: 0.8438\n",
      "Epoch 77/100\n",
      "1263/1263 [==============================] - 7s 6ms/step - loss: 0.3506 - accuracy: 0.8444\n",
      "Epoch 78/100\n",
      "1263/1263 [==============================] - 7s 5ms/step - loss: 0.3507 - accuracy: 0.8448\n",
      "Epoch 79/100\n",
      "1263/1263 [==============================] - 7s 6ms/step - loss: 0.3506 - accuracy: 0.8441\n",
      "Epoch 80/100\n",
      "1263/1263 [==============================] - 7s 5ms/step - loss: 0.3496 - accuracy: 0.8447\n",
      "Epoch 81/100\n",
      "1263/1263 [==============================] - 6s 5ms/step - loss: 0.3502 - accuracy: 0.8434\n",
      "Epoch 82/100\n",
      "1263/1263 [==============================] - 7s 6ms/step - loss: 0.3501 - accuracy: 0.8449\n",
      "Epoch 83/100\n",
      "1263/1263 [==============================] - 6s 5ms/step - loss: 0.3496 - accuracy: 0.8439\n",
      "Epoch 84/100\n",
      "1263/1263 [==============================] - 7s 5ms/step - loss: 0.3494 - accuracy: 0.8453\n",
      "Epoch 85/100\n",
      "1263/1263 [==============================] - 7s 5ms/step - loss: 0.3495 - accuracy: 0.8434\n",
      "Epoch 86/100\n",
      "1263/1263 [==============================] - 7s 5ms/step - loss: 0.3494 - accuracy: 0.8451\n",
      "Epoch 87/100\n",
      "1263/1263 [==============================] - 7s 6ms/step - loss: 0.3488 - accuracy: 0.8452\n",
      "Epoch 88/100\n",
      "1263/1263 [==============================] - 7s 6ms/step - loss: 0.3492 - accuracy: 0.8448\n",
      "Epoch 89/100\n",
      "1263/1263 [==============================] - 6s 5ms/step - loss: 0.3486 - accuracy: 0.8447\n",
      "Epoch 90/100\n",
      "1263/1263 [==============================] - 6s 5ms/step - loss: 0.3489 - accuracy: 0.8458\n",
      "Epoch 91/100\n",
      "1263/1263 [==============================] - 7s 6ms/step - loss: 0.3483 - accuracy: 0.8444\n",
      "Epoch 92/100\n",
      "1263/1263 [==============================] - 7s 6ms/step - loss: 0.3483 - accuracy: 0.8461\n",
      "Epoch 93/100\n",
      "1263/1263 [==============================] - 7s 5ms/step - loss: 0.3486 - accuracy: 0.8443\n",
      "Epoch 94/100\n",
      "1263/1263 [==============================] - 7s 5ms/step - loss: 0.3482 - accuracy: 0.8449\n",
      "Epoch 95/100\n",
      "1263/1263 [==============================] - 7s 5ms/step - loss: 0.3484 - accuracy: 0.8450\n",
      "Epoch 96/100\n",
      "1263/1263 [==============================] - 7s 6ms/step - loss: 0.3480 - accuracy: 0.8455\n",
      "Epoch 97/100\n",
      "1263/1263 [==============================] - 7s 6ms/step - loss: 0.3475 - accuracy: 0.8459\n",
      "Epoch 98/100\n",
      "1263/1263 [==============================] - 7s 6ms/step - loss: 0.3478 - accuracy: 0.8452\n",
      "Epoch 99/100\n",
      "1263/1263 [==============================] - 7s 6ms/step - loss: 0.3475 - accuracy: 0.8442\n",
      "Epoch 100/100\n",
      "1263/1263 [==============================] - 7s 6ms/step - loss: 0.3478 - accuracy: 0.8451\n"
     ]
    }
   ],
   "source": [
    "\n",
    "tf.random.set_seed(42)\n",
    "\n",
    "\n",
    "model_2 = tf.keras.Sequential([\n",
    "  tf.keras.layers.Dense(16,activation = 'relu'),\n",
    "  tf.keras.layers.Dense(6,activation = 'relu'),\n",
    "  tf.keras.layers.Dense(6,activation = 'relu'),\n",
    "  tf.keras.layers.Dense(1,activation = 'sigmoid')                            \n",
    "])\n",
    "\n",
    "\n",
    "model_2.compile(loss = 'binary_crossentropy',\n",
    "                optimizer = tf.keras.optimizers.Adam(lr=0.001),\n",
    "                metrics = ['accuracy'])\n",
    "\n",
    "\n",
    "history_2 = model_2.fit(x_train5,y_train5,epochs = 100)"
   ]
  },
  {
   "cell_type": "code",
   "execution_count": 42,
   "metadata": {},
   "outputs": [
    {
     "name": "stdout",
     "output_type": "stream",
     "text": [
      "421/421 [==============================] - 3s 5ms/step - loss: 0.3563 - accuracy: 0.8422\n"
     ]
    },
    {
     "data": {
      "text/plain": [
       "[0.3563371002674103, 0.8422303199768066]"
      ]
     },
     "execution_count": 42,
     "metadata": {},
     "output_type": "execute_result"
    }
   ],
   "source": [
    "model_2.evaluate(x_test5,y_test5)"
   ]
  },
  {
   "cell_type": "code",
   "execution_count": 43,
   "metadata": {},
   "outputs": [
    {
     "name": "stdout",
     "output_type": "stream",
     "text": [
      "1263/1263 [==============================] - 7s 5ms/step\n",
      "421/421 [==============================] - 2s 4ms/step\n",
      "              precision    recall  f1-score   support\n",
      "\n",
      "           0       0.80      0.92      0.86     20189\n",
      "           1       0.90      0.77      0.83     20218\n",
      "\n",
      "    accuracy                           0.85     40407\n",
      "   macro avg       0.85      0.85      0.85     40407\n",
      "weighted avg       0.85      0.85      0.85     40407\n",
      "\n",
      "              precision    recall  f1-score   support\n",
      "\n",
      "           0       0.79      0.92      0.85      6749\n",
      "           1       0.91      0.76      0.83      6720\n",
      "\n",
      "    accuracy                           0.84     13469\n",
      "   macro avg       0.85      0.84      0.84     13469\n",
      "weighted avg       0.85      0.84      0.84     13469\n",
      "\n"
     ]
    }
   ],
   "source": [
    "ypred_train12 = model_2.predict(x_train5)\n",
    "y_pred_test12 = model_2.predict(x_test5)\n",
    "\n",
    "y_pred_test12 = (y_pred_test12 > 0.5)\n",
    "ypred_train12 = (ypred_train12 > 0.5)\n",
    "\n",
    "print(classification_report(y_train5,ypred_train12))\n",
    "print(classification_report(y_test5,y_pred_test12))"
   ]
  },
  {
   "cell_type": "code",
   "execution_count": 44,
   "metadata": {},
   "outputs": [
    {
     "name": "stdout",
     "output_type": "stream",
     "text": [
      "421/421 [==============================] - 3s 5ms/step\n"
     ]
    },
    {
     "data": {
      "image/png": "[encoded data removed]",
      "text/plain": [
       "<Figure size 640x480 with 1 Axes>"
      ]
     },
     "metadata": {},
     "output_type": "display_data"
    }
   ],
   "source": [
    "# cross_val_scores = cross_val_score(model_2, x_train5, y_train5, cv=5)\n",
    "# print(\"Cross-validation scores:\", cross_val_scores)\n",
    "# print(\"Average cross-validation score:\", np.mean(cross_val_scores))\n",
    "y_proba_test = model_2.predict(x_test5).flatten()\n",
    "\n",
    "fpr, tpr, thresholds = roc_curve(y_test5, y_proba_test)\n",
    "\n",
    "plt.plot(fpr, tpr, label='ROC Curve')\n",
    "plt.xlabel('False Positive Rate')\n",
    "plt.ylabel('True Positive Rate')\n",
    "plt.title('ROC Curve with AUC = {:.2f}'.format(roc_auc_score(y_test5, y_proba_test)))\n",
    "plt.legend(loc='lower right')\n",
    "plt.grid(True)\n",
    "plt.show()"
   ]
  },
  {
   "cell_type": "markdown",
   "metadata": {},
   "source": [
    "## inne próby sieci neuronowych "
   ]
  },
  {
   "cell_type": "code",
   "execution_count": 45,
   "metadata": {},
   "outputs": [],
   "source": [
    "model1 = Sequential()\n",
    "model1.add(Dense(units=16,activation='relu'))\n",
    "model1.add(Dropout(0.5))\n",
    "\n",
    "model1.add(Dense(units=15,activation='relu'))\n",
    "model1.add(Dropout(0.5))\n",
    "\n",
    "model1.add(Dense(units=1,activation='sigmoid'))\n",
    "model1.compile(loss='binary_crossentropy', optimizer='adam')"
   ]
  },
  {
   "cell_type": "code",
   "execution_count": 46,
   "metadata": {},
   "outputs": [
    {
     "name": "stdout",
     "output_type": "stream",
     "text": [
      "Epoch 1/100\n"
     ]
    },
    {
     "name": "stdout",
     "output_type": "stream",
     "text": [
      "1263/1263 [==============================] - 13s 8ms/step - loss: 0.5612 - val_loss: 0.4414\n",
      "Epoch 2/100\n",
      "1263/1263 [==============================] - 9s 7ms/step - loss: 0.4766 - val_loss: 0.4268\n",
      "Epoch 3/100\n",
      "1263/1263 [==============================] - 9s 7ms/step - loss: 0.4621 - val_loss: 0.4193\n",
      "Epoch 4/100\n",
      "1263/1263 [==============================] - 9s 7ms/step - loss: 0.4546 - val_loss: 0.4118\n",
      "Epoch 5/100\n",
      "1263/1263 [==============================] - 9s 7ms/step - loss: 0.4487 - val_loss: 0.4091\n",
      "Epoch 6/100\n",
      "1263/1263 [==============================] - 9s 7ms/step - loss: 0.4438 - val_loss: 0.4050\n",
      "Epoch 7/100\n",
      "1263/1263 [==============================] - 9s 7ms/step - loss: 0.4391 - val_loss: 0.4004\n",
      "Epoch 8/100\n",
      "1263/1263 [==============================] - 9s 7ms/step - loss: 0.4372 - val_loss: 0.3988\n",
      "Epoch 9/100\n",
      "1263/1263 [==============================] - 10s 8ms/step - loss: 0.4339 - val_loss: 0.3966\n",
      "Epoch 10/100\n",
      "1263/1263 [==============================] - 9s 7ms/step - loss: 0.4362 - val_loss: 0.3951\n",
      "Epoch 11/100\n",
      "1263/1263 [==============================] - 9s 7ms/step - loss: 0.4320 - val_loss: 0.3934\n",
      "Epoch 12/100\n",
      "1263/1263 [==============================] - 9s 8ms/step - loss: 0.4298 - val_loss: 0.3911\n",
      "Epoch 13/100\n",
      "1263/1263 [==============================] - 8s 6ms/step - loss: 0.4292 - val_loss: 0.3900\n",
      "Epoch 14/100\n",
      "1263/1263 [==============================] - 9s 7ms/step - loss: 0.4283 - val_loss: 0.3903\n",
      "Epoch 15/100\n",
      "1263/1263 [==============================] - 9s 7ms/step - loss: 0.4255 - val_loss: 0.3901\n",
      "Epoch 16/100\n",
      "1263/1263 [==============================] - 9s 7ms/step - loss: 0.4231 - val_loss: 0.3904\n",
      "Epoch 17/100\n",
      "1263/1263 [==============================] - 9s 7ms/step - loss: 0.4234 - val_loss: 0.3880\n",
      "Epoch 18/100\n",
      "1263/1263 [==============================] - 9s 7ms/step - loss: 0.4266 - val_loss: 0.3884\n",
      "Epoch 19/100\n",
      "1263/1263 [==============================] - 9s 7ms/step - loss: 0.4266 - val_loss: 0.3887\n",
      "Epoch 20/100\n",
      "1263/1263 [==============================] - 9s 7ms/step - loss: 0.4236 - val_loss: 0.3853\n",
      "Epoch 21/100\n",
      "1263/1263 [==============================] - 9s 7ms/step - loss: 0.4218 - val_loss: 0.3896\n",
      "Epoch 22/100\n",
      "1263/1263 [==============================] - 9s 7ms/step - loss: 0.4207 - val_loss: 0.3849\n",
      "Epoch 23/100\n",
      "1263/1263 [==============================] - 9s 7ms/step - loss: 0.4259 - val_loss: 0.3857\n",
      "Epoch 24/100\n",
      "1263/1263 [==============================] - 9s 7ms/step - loss: 0.4226 - val_loss: 0.3828\n",
      "Epoch 25/100\n",
      "1263/1263 [==============================] - 9s 7ms/step - loss: 0.4203 - val_loss: 0.3846\n",
      "Epoch 26/100\n",
      "1263/1263 [==============================] - 9s 7ms/step - loss: 0.4223 - val_loss: 0.3842\n",
      "Epoch 27/100\n",
      "1263/1263 [==============================] - 8s 6ms/step - loss: 0.4214 - val_loss: 0.3828\n",
      "Epoch 28/100\n",
      "1263/1263 [==============================] - 9s 7ms/step - loss: 0.4213 - val_loss: 0.3832\n",
      "Epoch 29/100\n",
      "1263/1263 [==============================] - 10s 8ms/step - loss: 0.4215 - val_loss: 0.3822\n",
      "Epoch 30/100\n",
      "1263/1263 [==============================] - 9s 7ms/step - loss: 0.4196 - val_loss: 0.3846\n",
      "Epoch 31/100\n",
      "1263/1263 [==============================] - 13s 10ms/step - loss: 0.4215 - val_loss: 0.3819\n",
      "Epoch 32/100\n",
      "1263/1263 [==============================] - 12s 9ms/step - loss: 0.4204 - val_loss: 0.3816\n",
      "Epoch 33/100\n",
      "1263/1263 [==============================] - 11s 9ms/step - loss: 0.4201 - val_loss: 0.3808\n",
      "Epoch 34/100\n",
      "1263/1263 [==============================] - 11s 9ms/step - loss: 0.4214 - val_loss: 0.3843\n",
      "Epoch 35/100\n",
      "1263/1263 [==============================] - 9s 7ms/step - loss: 0.4193 - val_loss: 0.3837\n",
      "Epoch 36/100\n",
      "1263/1263 [==============================] - 13s 10ms/step - loss: 0.4183 - val_loss: 0.3818\n",
      "Epoch 37/100\n",
      "1263/1263 [==============================] - 16s 12ms/step - loss: 0.4199 - val_loss: 0.3810\n",
      "Epoch 38/100\n",
      "1263/1263 [==============================] - 15s 12ms/step - loss: 0.4209 - val_loss: 0.3823\n",
      "Epoch 39/100\n",
      "1263/1263 [==============================] - 17s 14ms/step - loss: 0.4190 - val_loss: 0.3818\n",
      "Epoch 40/100\n",
      "1263/1263 [==============================] - 16s 12ms/step - loss: 0.4181 - val_loss: 0.3801\n",
      "Epoch 41/100\n",
      "1263/1263 [==============================] - 16s 13ms/step - loss: 0.4200 - val_loss: 0.3820\n",
      "Epoch 42/100\n",
      "1263/1263 [==============================] - 18s 14ms/step - loss: 0.4171 - val_loss: 0.3811\n",
      "Epoch 43/100\n",
      "1263/1263 [==============================] - 18s 15ms/step - loss: 0.4167 - val_loss: 0.3820\n",
      "Epoch 44/100\n",
      "1263/1263 [==============================] - 20s 16ms/step - loss: 0.4181 - val_loss: 0.3802\n",
      "Epoch 45/100\n",
      "1263/1263 [==============================] - 18s 14ms/step - loss: 0.4174 - val_loss: 0.3790\n",
      "Epoch 46/100\n",
      "1263/1263 [==============================] - 18s 14ms/step - loss: 0.4187 - val_loss: 0.3806\n",
      "Epoch 47/100\n",
      "1263/1263 [==============================] - 19s 15ms/step - loss: 0.4186 - val_loss: 0.3860\n",
      "Epoch 48/100\n",
      "1263/1263 [==============================] - 17s 14ms/step - loss: 0.4188 - val_loss: 0.3805\n",
      "Epoch 49/100\n",
      "1263/1263 [==============================] - 17s 13ms/step - loss: 0.4196 - val_loss: 0.3788\n",
      "Epoch 50/100\n",
      "1263/1263 [==============================] - 16s 12ms/step - loss: 0.4161 - val_loss: 0.3805\n",
      "Epoch 51/100\n",
      "1263/1263 [==============================] - 17s 13ms/step - loss: 0.4152 - val_loss: 0.3794\n",
      "Epoch 52/100\n",
      "1263/1263 [==============================] - 13s 11ms/step - loss: 0.4206 - val_loss: 0.3797\n",
      "Epoch 53/100\n",
      "1263/1263 [==============================] - 16s 12ms/step - loss: 0.4177 - val_loss: 0.3806\n",
      "Epoch 54/100\n",
      "1263/1263 [==============================] - 17s 13ms/step - loss: 0.4193 - val_loss: 0.3819\n",
      "Epoch 55/100\n",
      "1263/1263 [==============================] - 16s 12ms/step - loss: 0.4155 - val_loss: 0.3791\n",
      "Epoch 56/100\n",
      "1263/1263 [==============================] - 16s 12ms/step - loss: 0.4197 - val_loss: 0.3827\n",
      "Epoch 57/100\n",
      "1263/1263 [==============================] - 17s 13ms/step - loss: 0.4164 - val_loss: 0.3805\n",
      "Epoch 58/100\n",
      "1263/1263 [==============================] - 16s 12ms/step - loss: 0.4177 - val_loss: 0.3813\n",
      "Epoch 59/100\n",
      "1263/1263 [==============================] - 13s 10ms/step - loss: 0.4186 - val_loss: 0.3799\n",
      "Epoch 60/100\n",
      "1263/1263 [==============================] - 14s 11ms/step - loss: 0.4173 - val_loss: 0.3806\n",
      "Epoch 61/100\n",
      "1263/1263 [==============================] - 14s 11ms/step - loss: 0.4166 - val_loss: 0.3792\n",
      "Epoch 62/100\n",
      "1263/1263 [==============================] - 14s 11ms/step - loss: 0.4190 - val_loss: 0.3787\n",
      "Epoch 63/100\n",
      "1263/1263 [==============================] - 12s 10ms/step - loss: 0.4183 - val_loss: 0.3803\n",
      "Epoch 64/100\n",
      "1263/1263 [==============================] - 8s 6ms/step - loss: 0.4162 - val_loss: 0.3788\n",
      "Epoch 65/100\n",
      "1263/1263 [==============================] - 7s 6ms/step - loss: 0.4174 - val_loss: 0.3791\n",
      "Epoch 66/100\n",
      "1263/1263 [==============================] - 10s 8ms/step - loss: 0.4172 - val_loss: 0.3815\n",
      "Epoch 67/100\n",
      "1263/1263 [==============================] - 11s 9ms/step - loss: 0.4196 - val_loss: 0.3786\n",
      "Epoch 68/100\n",
      "1263/1263 [==============================] - 10s 8ms/step - loss: 0.4167 - val_loss: 0.3806\n",
      "Epoch 69/100\n",
      "1263/1263 [==============================] - 9s 7ms/step - loss: 0.4157 - val_loss: 0.3800\n",
      "Epoch 70/100\n",
      "1263/1263 [==============================] - 9s 7ms/step - loss: 0.4187 - val_loss: 0.3825\n",
      "Epoch 71/100\n",
      "1263/1263 [==============================] - 9s 7ms/step - loss: 0.4173 - val_loss: 0.3786\n",
      "Epoch 72/100\n",
      "1263/1263 [==============================] - 9s 7ms/step - loss: 0.4158 - val_loss: 0.3791\n",
      "Epoch 73/100\n",
      "1263/1263 [==============================] - 11s 8ms/step - loss: 0.4177 - val_loss: 0.3787\n",
      "Epoch 74/100\n",
      "1263/1263 [==============================] - 8s 6ms/step - loss: 0.4150 - val_loss: 0.3802\n",
      "Epoch 75/100\n",
      "1263/1263 [==============================] - 7s 6ms/step - loss: 0.4158 - val_loss: 0.3800\n",
      "Epoch 76/100\n",
      "1263/1263 [==============================] - 8s 6ms/step - loss: 0.4161 - val_loss: 0.3786\n",
      "Epoch 77/100\n",
      "1263/1263 [==============================] - 8s 6ms/step - loss: 0.4137 - val_loss: 0.3784\n",
      "Epoch 78/100\n",
      "1263/1263 [==============================] - 8s 6ms/step - loss: 0.4165 - val_loss: 0.3792\n",
      "Epoch 79/100\n",
      "1263/1263 [==============================] - 8s 6ms/step - loss: 0.4165 - val_loss: 0.3807\n",
      "Epoch 80/100\n",
      "1263/1263 [==============================] - 9s 7ms/step - loss: 0.4156 - val_loss: 0.3798\n",
      "Epoch 81/100\n",
      "1263/1263 [==============================] - 13s 11ms/step - loss: 0.4183 - val_loss: 0.3798\n",
      "Epoch 82/100\n",
      "1263/1263 [==============================] - 12s 9ms/step - loss: 0.4175 - val_loss: 0.3789\n",
      "Epoch 83/100\n",
      "1263/1263 [==============================] - 13s 10ms/step - loss: 0.4168 - val_loss: 0.3805\n",
      "Epoch 84/100\n",
      "1263/1263 [==============================] - 15s 12ms/step - loss: 0.4170 - val_loss: 0.3794\n",
      "Epoch 85/100\n",
      "1263/1263 [==============================] - 18s 14ms/step - loss: 0.4135 - val_loss: 0.3766\n",
      "Epoch 86/100\n",
      "1263/1263 [==============================] - 13s 10ms/step - loss: 0.4150 - val_loss: 0.3800\n",
      "Epoch 87/100\n",
      "1263/1263 [==============================] - 21s 16ms/step - loss: 0.4189 - val_loss: 0.3777\n",
      "Epoch 88/100\n",
      "1263/1263 [==============================] - 18s 15ms/step - loss: 0.4183 - val_loss: 0.3791\n",
      "Epoch 89/100\n",
      "1263/1263 [==============================] - 20s 16ms/step - loss: 0.4173 - val_loss: 0.3788\n",
      "Epoch 90/100\n",
      "1263/1263 [==============================] - 15s 12ms/step - loss: 0.4153 - val_loss: 0.3795\n",
      "Epoch 91/100\n",
      "1263/1263 [==============================] - 10s 8ms/step - loss: 0.4162 - val_loss: 0.3787\n",
      "Epoch 92/100\n",
      "1263/1263 [==============================] - 9s 7ms/step - loss: 0.4174 - val_loss: 0.3789\n",
      "Epoch 93/100\n",
      "1263/1263 [==============================] - 15s 12ms/step - loss: 0.4138 - val_loss: 0.3785\n",
      "Epoch 94/100\n",
      "1263/1263 [==============================] - 16s 13ms/step - loss: 0.4146 - val_loss: 0.3806\n",
      "Epoch 95/100\n",
      "1263/1263 [==============================] - 16s 12ms/step - loss: 0.4156 - val_loss: 0.3766\n",
      "Epoch 96/100\n",
      "1263/1263 [==============================] - 13s 10ms/step - loss: 0.4162 - val_loss: 0.3778\n",
      "Epoch 97/100\n",
      "1263/1263 [==============================] - 12s 9ms/step - loss: 0.4151 - val_loss: 0.3803\n",
      "Epoch 98/100\n",
      "1263/1263 [==============================] - 10s 8ms/step - loss: 0.4151 - val_loss: 0.3785\n",
      "Epoch 99/100\n",
      "1263/1263 [==============================] - 13s 11ms/step - loss: 0.4165 - val_loss: 0.3837\n",
      "Epoch 100/100\n",
      "1263/1263 [==============================] - 15s 12ms/step - loss: 0.4162 - val_loss: 0.3794\n"
     ]
    },
    {
     "data": {
      "text/plain": [
       "<keras.src.callbacks.History at 0x1ad1599cfd0>"
      ]
     },
     "execution_count": 46,
     "metadata": {},
     "output_type": "execute_result"
    }
   ],
   "source": [
    "model1.fit(x=x_train5, \n",
    "          y=y_train5, \n",
    "          epochs=100,\n",
    "          validation_data=(x_test5, y_test5), verbose=1,\n",
    "          callbacks=[early_stop]\n",
    "          )"
   ]
  },
  {
   "cell_type": "code",
   "execution_count": 47,
   "metadata": {},
   "outputs": [
    {
     "name": "stdout",
     "output_type": "stream",
     "text": [
      "1263/1263 [==============================] - 10s 7ms/step\n",
      "421/421 [==============================] - 3s 6ms/step\n",
      "              precision    recall  f1-score   support\n",
      "\n",
      "           0       0.81      0.90      0.85     20189\n",
      "           1       0.88      0.79      0.83     20218\n",
      "\n",
      "    accuracy                           0.84     40407\n",
      "   macro avg       0.85      0.84      0.84     40407\n",
      "weighted avg       0.85      0.84      0.84     40407\n",
      "\n",
      "              precision    recall  f1-score   support\n",
      "\n",
      "           0       0.80      0.90      0.85      6749\n",
      "           1       0.89      0.78      0.83      6720\n",
      "\n",
      "    accuracy                           0.84     13469\n",
      "   macro avg       0.85      0.84      0.84     13469\n",
      "weighted avg       0.85      0.84      0.84     13469\n",
      "\n"
     ]
    }
   ],
   "source": [
    "ypred_train13 = model1.predict(x_train5)\n",
    "y_pred_test13 = model1.predict(x_test5)\n",
    "\n",
    "y_pred_test13 = (y_pred_test13 > 0.5)\n",
    "ypred_train13 = (ypred_train13 > 0.5)\n",
    "\n",
    "print(classification_report(y_train5,ypred_train13))\n",
    "print(classification_report(y_test5,y_pred_test13))"
   ]
  },
  {
   "cell_type": "code",
   "execution_count": 48,
   "metadata": {},
   "outputs": [
    {
     "name": "stdout",
     "output_type": "stream",
     "text": [
      "421/421 [==============================] - 3s 5ms/step\n"
     ]
    },
    {
     "data": {
      "image/png": "[encoded data removed]",
      "text/plain": [
       "<Figure size 640x480 with 1 Axes>"
      ]
     },
     "metadata": {},
     "output_type": "display_data"
    }
   ],
   "source": [
    "# cross_val_scores = cross_val_score(model1, x_train5, y_train5, cv=5)\n",
    "# print(\"Cross-validation scores:\", cross_val_scores)\n",
    "# print(\"Average cross-validation score:\", np.mean(cross_val_scores))\n",
    "y_proba_test = model1.predict(x_test5).flatten()\n",
    "\n",
    "fpr, tpr, thresholds = roc_curve(y_test5, y_proba_test)\n",
    "\n",
    "plt.plot(fpr, tpr, label='ROC Curve')\n",
    "plt.xlabel('False Positive Rate')\n",
    "plt.ylabel('True Positive Rate')\n",
    "plt.title('ROC Curve with AUC = {:.2f}'.format(roc_auc_score(y_test5, y_proba_test)))\n",
    "plt.legend(loc='lower right')\n",
    "plt.grid(True)\n",
    "plt.show()"
   ]
  },
  {
   "cell_type": "markdown",
   "metadata": {},
   "source": [
    "## inna proba "
   ]
  },
  {
   "cell_type": "code",
   "execution_count": 49,
   "metadata": {},
   "outputs": [
    {
     "name": "stderr",
     "output_type": "stream",
     "text": [
      "WARNING:absl:`lr` is deprecated in Keras optimizer, please use `learning_rate` or use the legacy optimizer, e.g.,tf.keras.optimizers.legacy.Adam.\n"
     ]
    },
    {
     "name": "stdout",
     "output_type": "stream",
     "text": [
      "Epoch 1/100\n",
      "1263/1263 [==============================] - 16s 9ms/step - loss: 0.4472 - accuracy: 0.7926\n",
      "Epoch 2/100\n",
      "1263/1263 [==============================] - 12s 10ms/step - loss: 0.3946 - accuracy: 0.8231\n",
      "Epoch 3/100\n",
      "1263/1263 [==============================] - 12s 9ms/step - loss: 0.3836 - accuracy: 0.8303\n",
      "Epoch 4/100\n",
      "1263/1263 [==============================] - 11s 9ms/step - loss: 0.3796 - accuracy: 0.8311\n",
      "Epoch 5/100\n",
      "1263/1263 [==============================] - 11s 9ms/step - loss: 0.3766 - accuracy: 0.8332\n",
      "Epoch 6/100\n",
      "1263/1263 [==============================] - 10s 8ms/step - loss: 0.3741 - accuracy: 0.8345\n",
      "Epoch 7/100\n",
      "1263/1263 [==============================] - 12s 9ms/step - loss: 0.3735 - accuracy: 0.8341\n",
      "Epoch 8/100\n",
      "1263/1263 [==============================] - 12s 9ms/step - loss: 0.3714 - accuracy: 0.8344\n",
      "Epoch 9/100\n",
      "1263/1263 [==============================] - 10s 8ms/step - loss: 0.3714 - accuracy: 0.8359\n",
      "Epoch 10/100\n",
      "1263/1263 [==============================] - 11s 9ms/step - loss: 0.3693 - accuracy: 0.8361\n",
      "Epoch 11/100\n",
      "1263/1263 [==============================] - 11s 9ms/step - loss: 0.3691 - accuracy: 0.8370\n",
      "Epoch 12/100\n",
      "1263/1263 [==============================] - 11s 9ms/step - loss: 0.3689 - accuracy: 0.8373\n",
      "Epoch 13/100\n",
      "1263/1263 [==============================] - 11s 9ms/step - loss: 0.3680 - accuracy: 0.8366\n",
      "Epoch 14/100\n",
      "1263/1263 [==============================] - 12s 9ms/step - loss: 0.3673 - accuracy: 0.8366\n",
      "Epoch 15/100\n",
      "1263/1263 [==============================] - 11s 9ms/step - loss: 0.3660 - accuracy: 0.8363\n",
      "Epoch 16/100\n",
      "1263/1263 [==============================] - 10s 8ms/step - loss: 0.3663 - accuracy: 0.8377\n",
      "Epoch 17/100\n",
      "1263/1263 [==============================] - 11s 8ms/step - loss: 0.3643 - accuracy: 0.8387\n",
      "Epoch 18/100\n",
      "1263/1263 [==============================] - 11s 9ms/step - loss: 0.3652 - accuracy: 0.8382\n",
      "Epoch 19/100\n",
      "1263/1263 [==============================] - 11s 9ms/step - loss: 0.3637 - accuracy: 0.8384\n",
      "Epoch 20/100\n",
      "1263/1263 [==============================] - 12s 10ms/step - loss: 0.3634 - accuracy: 0.8388\n",
      "Epoch 21/100\n",
      "1263/1263 [==============================] - 11s 9ms/step - loss: 0.3623 - accuracy: 0.8389\n",
      "Epoch 22/100\n",
      "1263/1263 [==============================] - 13s 11ms/step - loss: 0.3623 - accuracy: 0.8392\n",
      "Epoch 23/100\n",
      "1263/1263 [==============================] - 11s 9ms/step - loss: 0.3621 - accuracy: 0.8394\n",
      "Epoch 24/100\n",
      "1263/1263 [==============================] - 12s 9ms/step - loss: 0.3607 - accuracy: 0.8397\n",
      "Epoch 25/100\n",
      "1263/1263 [==============================] - 12s 10ms/step - loss: 0.3614 - accuracy: 0.8391\n",
      "Epoch 26/100\n",
      "1263/1263 [==============================] - 12s 10ms/step - loss: 0.3602 - accuracy: 0.8395\n",
      "Epoch 27/100\n",
      "1263/1263 [==============================] - 12s 9ms/step - loss: 0.3597 - accuracy: 0.8394\n",
      "Epoch 28/100\n",
      "1263/1263 [==============================] - 13s 10ms/step - loss: 0.3589 - accuracy: 0.8409\n",
      "Epoch 29/100\n",
      "1263/1263 [==============================] - 12s 10ms/step - loss: 0.3592 - accuracy: 0.8406\n",
      "Epoch 30/100\n",
      "1263/1263 [==============================] - 12s 10ms/step - loss: 0.3581 - accuracy: 0.8408\n",
      "Epoch 31/100\n",
      "1263/1263 [==============================] - 12s 10ms/step - loss: 0.3570 - accuracy: 0.8413\n",
      "Epoch 32/100\n",
      "1263/1263 [==============================] - 12s 9ms/step - loss: 0.3581 - accuracy: 0.8412\n",
      "Epoch 33/100\n",
      "1263/1263 [==============================] - 12s 10ms/step - loss: 0.3563 - accuracy: 0.8425\n",
      "Epoch 34/100\n",
      "1263/1263 [==============================] - 13s 11ms/step - loss: 0.3558 - accuracy: 0.8428\n",
      "Epoch 35/100\n",
      "1263/1263 [==============================] - 8s 7ms/step - loss: 0.3556 - accuracy: 0.8425\n",
      "Epoch 36/100\n",
      "1263/1263 [==============================] - 8s 6ms/step - loss: 0.3548 - accuracy: 0.8432\n",
      "Epoch 37/100\n",
      "1263/1263 [==============================] - 11s 8ms/step - loss: 0.3541 - accuracy: 0.8437\n",
      "Epoch 38/100\n",
      "1263/1263 [==============================] - 12s 10ms/step - loss: 0.3541 - accuracy: 0.8431\n",
      "Epoch 39/100\n",
      "1263/1263 [==============================] - 9s 7ms/step - loss: 0.3530 - accuracy: 0.8439\n",
      "Epoch 40/100\n",
      "1263/1263 [==============================] - 11s 9ms/step - loss: 0.3523 - accuracy: 0.8444\n",
      "Epoch 41/100\n",
      "1263/1263 [==============================] - 12s 10ms/step - loss: 0.3525 - accuracy: 0.8444\n",
      "Epoch 42/100\n",
      "1263/1263 [==============================] - 12s 10ms/step - loss: 0.3522 - accuracy: 0.8439\n",
      "Epoch 43/100\n",
      "1263/1263 [==============================] - 12s 10ms/step - loss: 0.3516 - accuracy: 0.8434\n",
      "Epoch 44/100\n",
      "1263/1263 [==============================] - 11s 9ms/step - loss: 0.3516 - accuracy: 0.8444\n",
      "Epoch 45/100\n",
      "1263/1263 [==============================] - 12s 9ms/step - loss: 0.3511 - accuracy: 0.8447\n",
      "Epoch 46/100\n",
      "1263/1263 [==============================] - 7s 6ms/step - loss: 0.3503 - accuracy: 0.8442\n",
      "Epoch 47/100\n",
      "1263/1263 [==============================] - 7s 5ms/step - loss: 0.3502 - accuracy: 0.8446\n",
      "Epoch 48/100\n",
      "1263/1263 [==============================] - 7s 5ms/step - loss: 0.3493 - accuracy: 0.8453\n",
      "Epoch 49/100\n",
      "1263/1263 [==============================] - 7s 5ms/step - loss: 0.3496 - accuracy: 0.8458\n",
      "Epoch 50/100\n",
      "1263/1263 [==============================] - 7s 5ms/step - loss: 0.3487 - accuracy: 0.8458\n",
      "Epoch 51/100\n",
      "1263/1263 [==============================] - 7s 5ms/step - loss: 0.3490 - accuracy: 0.8461\n",
      "Epoch 52/100\n",
      "1263/1263 [==============================] - 7s 5ms/step - loss: 0.3495 - accuracy: 0.8451\n",
      "Epoch 53/100\n",
      "1263/1263 [==============================] - 7s 5ms/step - loss: 0.3491 - accuracy: 0.8449\n",
      "Epoch 54/100\n",
      "1263/1263 [==============================] - 7s 5ms/step - loss: 0.3486 - accuracy: 0.8459\n",
      "Epoch 55/100\n",
      "1263/1263 [==============================] - 7s 5ms/step - loss: 0.3476 - accuracy: 0.8462\n",
      "Epoch 56/100\n",
      "1263/1263 [==============================] - 11s 9ms/step - loss: 0.3485 - accuracy: 0.8458\n",
      "Epoch 57/100\n",
      "1263/1263 [==============================] - 13s 10ms/step - loss: 0.3480 - accuracy: 0.8461\n",
      "Epoch 58/100\n",
      "1263/1263 [==============================] - 12s 9ms/step - loss: 0.3473 - accuracy: 0.8457\n",
      "Epoch 59/100\n",
      "1263/1263 [==============================] - 12s 9ms/step - loss: 0.3470 - accuracy: 0.8471\n",
      "Epoch 60/100\n",
      "1263/1263 [==============================] - 12s 10ms/step - loss: 0.3469 - accuracy: 0.8471\n",
      "Epoch 61/100\n",
      "1263/1263 [==============================] - 12s 10ms/step - loss: 0.3461 - accuracy: 0.8480\n",
      "Epoch 62/100\n",
      "1263/1263 [==============================] - 12s 10ms/step - loss: 0.3467 - accuracy: 0.8478\n",
      "Epoch 63/100\n",
      "1263/1263 [==============================] - 12s 10ms/step - loss: 0.3456 - accuracy: 0.8464\n",
      "Epoch 64/100\n",
      "1263/1263 [==============================] - 11s 9ms/step - loss: 0.3458 - accuracy: 0.8478\n",
      "Epoch 65/100\n",
      "1263/1263 [==============================] - 12s 10ms/step - loss: 0.3459 - accuracy: 0.8470\n",
      "Epoch 66/100\n",
      "1263/1263 [==============================] - 12s 10ms/step - loss: 0.3452 - accuracy: 0.8482\n",
      "Epoch 67/100\n",
      "1263/1263 [==============================] - 12s 10ms/step - loss: 0.3456 - accuracy: 0.8474\n",
      "Epoch 68/100\n",
      "1263/1263 [==============================] - 12s 10ms/step - loss: 0.3458 - accuracy: 0.8485\n",
      "Epoch 69/100\n",
      "1263/1263 [==============================] - 12s 9ms/step - loss: 0.3445 - accuracy: 0.8486\n",
      "Epoch 70/100\n",
      "1263/1263 [==============================] - 12s 9ms/step - loss: 0.3439 - accuracy: 0.8485\n",
      "Epoch 71/100\n",
      "1263/1263 [==============================] - 12s 10ms/step - loss: 0.3441 - accuracy: 0.8479\n",
      "Epoch 72/100\n",
      "1263/1263 [==============================] - 13s 10ms/step - loss: 0.3440 - accuracy: 0.8490\n",
      "Epoch 73/100\n",
      "1263/1263 [==============================] - 13s 10ms/step - loss: 0.3438 - accuracy: 0.8481\n",
      "Epoch 74/100\n",
      "1263/1263 [==============================] - 13s 10ms/step - loss: 0.3435 - accuracy: 0.8495\n",
      "Epoch 75/100\n",
      "1263/1263 [==============================] - 13s 10ms/step - loss: 0.3430 - accuracy: 0.8490\n",
      "Epoch 76/100\n",
      "1263/1263 [==============================] - 13s 10ms/step - loss: 0.3435 - accuracy: 0.8489\n",
      "Epoch 77/100\n",
      "1263/1263 [==============================] - 14s 11ms/step - loss: 0.3433 - accuracy: 0.8492\n",
      "Epoch 78/100\n",
      "1263/1263 [==============================] - 13s 11ms/step - loss: 0.3431 - accuracy: 0.8485\n",
      "Epoch 79/100\n",
      "1263/1263 [==============================] - 14s 11ms/step - loss: 0.3435 - accuracy: 0.8491\n",
      "Epoch 80/100\n",
      "1263/1263 [==============================] - 14s 11ms/step - loss: 0.3424 - accuracy: 0.8493\n",
      "Epoch 81/100\n",
      "1263/1263 [==============================] - 13s 11ms/step - loss: 0.3422 - accuracy: 0.8488\n",
      "Epoch 82/100\n",
      "1263/1263 [==============================] - 14s 11ms/step - loss: 0.3430 - accuracy: 0.8483\n",
      "Epoch 83/100\n",
      "1263/1263 [==============================] - 13s 10ms/step - loss: 0.3421 - accuracy: 0.8489\n",
      "Epoch 84/100\n",
      "1263/1263 [==============================] - 14s 11ms/step - loss: 0.3417 - accuracy: 0.8502\n",
      "Epoch 85/100\n",
      "1263/1263 [==============================] - 13s 10ms/step - loss: 0.3417 - accuracy: 0.8499\n",
      "Epoch 86/100\n",
      "1263/1263 [==============================] - 14s 11ms/step - loss: 0.3422 - accuracy: 0.8493\n",
      "Epoch 87/100\n",
      "1263/1263 [==============================] - 14s 11ms/step - loss: 0.3406 - accuracy: 0.8498\n",
      "Epoch 88/100\n",
      "1263/1263 [==============================] - 14s 11ms/step - loss: 0.3415 - accuracy: 0.8494\n",
      "Epoch 89/100\n",
      "1263/1263 [==============================] - 14s 11ms/step - loss: 0.3405 - accuracy: 0.8497\n",
      "Epoch 90/100\n",
      "1263/1263 [==============================] - 14s 11ms/step - loss: 0.3410 - accuracy: 0.8495\n",
      "Epoch 91/100\n",
      "1263/1263 [==============================] - 15s 12ms/step - loss: 0.3405 - accuracy: 0.8494\n",
      "Epoch 92/100\n",
      "1263/1263 [==============================] - 13s 10ms/step - loss: 0.3405 - accuracy: 0.8493\n",
      "Epoch 93/100\n",
      "1263/1263 [==============================] - 14s 11ms/step - loss: 0.3407 - accuracy: 0.8499\n",
      "Epoch 94/100\n",
      "1263/1263 [==============================] - 14s 11ms/step - loss: 0.3402 - accuracy: 0.8496\n",
      "Epoch 95/100\n",
      "1263/1263 [==============================] - 14s 11ms/step - loss: 0.3406 - accuracy: 0.8499\n",
      "Epoch 96/100\n",
      "1263/1263 [==============================] - 15s 12ms/step - loss: 0.3397 - accuracy: 0.8502\n",
      "Epoch 97/100\n",
      "1263/1263 [==============================] - 15s 12ms/step - loss: 0.3390 - accuracy: 0.8506\n",
      "Epoch 98/100\n",
      "1263/1263 [==============================] - 15s 12ms/step - loss: 0.3395 - accuracy: 0.8499\n",
      "Epoch 99/100\n",
      "1263/1263 [==============================] - 14s 11ms/step - loss: 0.3395 - accuracy: 0.8516\n",
      "Epoch 100/100\n",
      "1263/1263 [==============================] - 15s 12ms/step - loss: 0.3393 - accuracy: 0.8507\n"
     ]
    }
   ],
   "source": [
    "\n",
    "tf.random.set_seed(42)\n",
    "\n",
    "\n",
    "\n",
    "model_22 = tf.keras.Sequential([\n",
    "  tf.keras.layers.Dense(16,activation = 'relu'),\n",
    "  tf.keras.layers.Dense(32,activation = 'relu'),\n",
    "  tf.keras.layers.Dense(16,activation = 'relu'),\n",
    "  tf.keras.layers.Dense(9,activation = 'relu'),\n",
    "  tf.keras.layers.Dense(1,activation = 'sigmoid')                            \n",
    "])\n",
    "\n",
    "\n",
    "model_22.compile(loss = 'binary_crossentropy',\n",
    "                optimizer = tf.keras.optimizers.Adam(lr=0.001),\n",
    "                metrics = ['accuracy'])\n",
    "\n",
    "\n",
    "history_2 = model_22.fit(x_train5,y_train5,epochs = 100)"
   ]
  },
  {
   "cell_type": "code",
   "execution_count": 50,
   "metadata": {},
   "outputs": [
    {
     "name": "stdout",
     "output_type": "stream",
     "text": [
      "421/421 [==============================] - 6s 11ms/step - loss: 0.3554 - accuracy: 0.8445\n"
     ]
    },
    {
     "data": {
      "text/plain": [
       "[0.35537248849868774, 0.8444576263427734]"
      ]
     },
     "execution_count": 50,
     "metadata": {},
     "output_type": "execute_result"
    }
   ],
   "source": [
    "model_22.evaluate(x_test5,y_test5)"
   ]
  },
  {
   "cell_type": "code",
   "execution_count": 51,
   "metadata": {},
   "outputs": [
    {
     "name": "stdout",
     "output_type": "stream",
     "text": [
      "1263/1263 [==============================] - 13s 10ms/step\n",
      "421/421 [==============================] - 5s 10ms/step\n",
      "              precision    recall  f1-score   support\n",
      "\n",
      "           0       0.80      0.92      0.86     20189\n",
      "           1       0.91      0.78      0.84     20218\n",
      "\n",
      "    accuracy                           0.85     40407\n",
      "   macro avg       0.86      0.85      0.85     40407\n",
      "weighted avg       0.86      0.85      0.85     40407\n",
      "\n",
      "              precision    recall  f1-score   support\n",
      "\n",
      "           0       0.80      0.93      0.86      6749\n",
      "           1       0.91      0.76      0.83      6720\n",
      "\n",
      "    accuracy                           0.84     13469\n",
      "   macro avg       0.85      0.84      0.84     13469\n",
      "weighted avg       0.85      0.84      0.84     13469\n",
      "\n"
     ]
    }
   ],
   "source": [
    "ypred_train22 = model_22.predict(x_train5)\n",
    "y_pred_test22 = model_22.predict(x_test5)\n",
    "\n",
    "y_pred_test22 = (y_pred_test22 > 0.5)\n",
    "ypred_train22 = (ypred_train22 > 0.5)\n",
    "\n",
    "print(classification_report(y_train5,ypred_train22))\n",
    "print(classification_report(y_test5,y_pred_test22))"
   ]
  },
  {
   "cell_type": "code",
   "execution_count": 52,
   "metadata": {},
   "outputs": [
    {
     "name": "stdout",
     "output_type": "stream",
     "text": [
      " 16/421 [>.............................] - ETA: 3s  "
     ]
    },
    {
     "name": "stdout",
     "output_type": "stream",
     "text": [
      "421/421 [==============================] - 4s 9ms/step\n"
     ]
    },
    {
     "data": {
      "image/png": "[encoded data removed]",
      "text/plain": [
       "<Figure size 640x480 with 1 Axes>"
      ]
     },
     "metadata": {},
     "output_type": "display_data"
    }
   ],
   "source": [
    "# cross_val_scores = cross_val_score(model_22, x_train5, y_train5, cv=5)\n",
    "# print(\"Cross-validation scores:\", cross_val_scores)\n",
    "# print(\"Average cross-validation score:\", np.mean(cross_val_scores))\n",
    "y_proba_test = model_22.predict(x_test5).flatten()\n",
    "\n",
    "fpr, tpr, thresholds = roc_curve(y_test5, y_proba_test)\n",
    "\n",
    "plt.plot(fpr, tpr, label='ROC Curve')\n",
    "plt.xlabel('False Positive Rate')\n",
    "plt.ylabel('True Positive Rate')\n",
    "plt.title('ROC Curve with AUC = {:.2f}'.format(roc_auc_score(y_test5, y_proba_test)))\n",
    "plt.legend(loc='lower right')\n",
    "plt.grid(True)\n",
    "plt.show()"
   ]
  },
  {
   "cell_type": "markdown",
   "metadata": {},
   "source": [
    "## inny model"
   ]
  },
  {
   "cell_type": "code",
   "execution_count": 53,
   "metadata": {},
   "outputs": [],
   "source": [
    "model2 = Sequential()\n",
    "\n",
    "\n",
    "\n",
    "model2.add(Dense(16,  activation='relu'))\n",
    "model2.add(Dropout(0.2))\n",
    "\n",
    "model2.add(Dense(10, activation='relu'))\n",
    "model2.add(Dropout(0.2))\n",
    "\n",
    "model2.add(Dense(units=1,activation='sigmoid'))\n",
    "\n",
    "model2.compile(loss='binary_crossentropy', optimizer='adam')"
   ]
  },
  {
   "cell_type": "code",
   "execution_count": 54,
   "metadata": {},
   "outputs": [
    {
     "name": "stdout",
     "output_type": "stream",
     "text": [
      "Epoch 1/100\n"
     ]
    },
    {
     "name": "stdout",
     "output_type": "stream",
     "text": [
      "1263/1263 [==============================] - 23s 15ms/step - loss: 0.5044 - val_loss: 0.4274\n",
      "Epoch 2/100\n",
      "1263/1263 [==============================] - 18s 14ms/step - loss: 0.4462 - val_loss: 0.4199\n",
      "Epoch 3/100\n",
      "1263/1263 [==============================] - 17s 13ms/step - loss: 0.4351 - val_loss: 0.4104\n",
      "Epoch 4/100\n",
      "1263/1263 [==============================] - 17s 13ms/step - loss: 0.4267 - val_loss: 0.4049\n",
      "Epoch 5/100\n",
      "1263/1263 [==============================] - 18s 14ms/step - loss: 0.4210 - val_loss: 0.4032\n",
      "Epoch 6/100\n",
      "1263/1263 [==============================] - 18s 14ms/step - loss: 0.4184 - val_loss: 0.3957\n",
      "Epoch 7/100\n",
      "1263/1263 [==============================] - 19s 15ms/step - loss: 0.4118 - val_loss: 0.3916\n",
      "Epoch 8/100\n",
      "1263/1263 [==============================] - 19s 15ms/step - loss: 0.4075 - val_loss: 0.3876\n",
      "Epoch 9/100\n",
      "1263/1263 [==============================] - 18s 15ms/step - loss: 0.4025 - val_loss: 0.3830\n",
      "Epoch 10/100\n",
      "1263/1263 [==============================] - 18s 14ms/step - loss: 0.4030 - val_loss: 0.3808\n",
      "Epoch 11/100\n",
      "1263/1263 [==============================] - 19s 15ms/step - loss: 0.3996 - val_loss: 0.3795\n",
      "Epoch 12/100\n",
      "1263/1263 [==============================] - 19s 15ms/step - loss: 0.3983 - val_loss: 0.3801\n",
      "Epoch 13/100\n",
      "1263/1263 [==============================] - 18s 14ms/step - loss: 0.3962 - val_loss: 0.3749\n",
      "Epoch 14/100\n",
      "1263/1263 [==============================] - 17s 14ms/step - loss: 0.3955 - val_loss: 0.3770\n",
      "Epoch 15/100\n",
      "1263/1263 [==============================] - 20s 16ms/step - loss: 0.3930 - val_loss: 0.3786\n",
      "Epoch 16/100\n",
      "1263/1263 [==============================] - 20s 16ms/step - loss: 0.3934 - val_loss: 0.3760\n",
      "Epoch 17/100\n",
      "1263/1263 [==============================] - 18s 15ms/step - loss: 0.3915 - val_loss: 0.3748\n",
      "Epoch 18/100\n",
      "1263/1263 [==============================] - 18s 14ms/step - loss: 0.3918 - val_loss: 0.3721\n",
      "Epoch 19/100\n",
      "1263/1263 [==============================] - 19s 15ms/step - loss: 0.3899 - val_loss: 0.3715\n",
      "Epoch 20/100\n",
      "1263/1263 [==============================] - 19s 15ms/step - loss: 0.3910 - val_loss: 0.3726\n",
      "Epoch 21/100\n",
      "1263/1263 [==============================] - 20s 16ms/step - loss: 0.3901 - val_loss: 0.3757\n",
      "Epoch 22/100\n",
      "1263/1263 [==============================] - 21s 17ms/step - loss: 0.3911 - val_loss: 0.3700\n",
      "Epoch 23/100\n",
      "1263/1263 [==============================] - 21s 16ms/step - loss: 0.3883 - val_loss: 0.3692\n",
      "Epoch 24/100\n",
      "1263/1263 [==============================] - 19s 15ms/step - loss: 0.3885 - val_loss: 0.3699\n",
      "Epoch 25/100\n",
      "1263/1263 [==============================] - 19s 15ms/step - loss: 0.3876 - val_loss: 0.3696\n",
      "Epoch 26/100\n",
      "1263/1263 [==============================] - 20s 16ms/step - loss: 0.3880 - val_loss: 0.3704\n",
      "Epoch 27/100\n",
      "1263/1263 [==============================] - 18s 14ms/step - loss: 0.3868 - val_loss: 0.3673\n",
      "Epoch 28/100\n",
      "1263/1263 [==============================] - 19s 15ms/step - loss: 0.3873 - val_loss: 0.3698\n",
      "Epoch 29/100\n",
      "1263/1263 [==============================] - 20s 16ms/step - loss: 0.3863 - val_loss: 0.3708\n",
      "Epoch 30/100\n",
      "1263/1263 [==============================] - 19s 15ms/step - loss: 0.3857 - val_loss: 0.3677\n",
      "Epoch 31/100\n",
      "1263/1263 [==============================] - 12s 9ms/step - loss: 0.3850 - val_loss: 0.3684\n",
      "Epoch 32/100\n",
      "1263/1263 [==============================] - 11s 9ms/step - loss: 0.3853 - val_loss: 0.3658\n",
      "Epoch 33/100\n",
      "1263/1263 [==============================] - 10s 8ms/step - loss: 0.3851 - val_loss: 0.3667\n",
      "Epoch 34/100\n",
      "1263/1263 [==============================] - 7s 5ms/step - loss: 0.3834 - val_loss: 0.3680\n",
      "Epoch 35/100\n",
      "1263/1263 [==============================] - 7s 6ms/step - loss: 0.3839 - val_loss: 0.3668\n",
      "Epoch 36/100\n",
      "1263/1263 [==============================] - 13s 10ms/step - loss: 0.3822 - val_loss: 0.3654\n",
      "Epoch 37/100\n",
      "1263/1263 [==============================] - 12s 9ms/step - loss: 0.3844 - val_loss: 0.3650\n",
      "Epoch 38/100\n",
      "1263/1263 [==============================] - 14s 11ms/step - loss: 0.3824 - val_loss: 0.3642\n",
      "Epoch 39/100\n",
      "1263/1263 [==============================] - 14s 11ms/step - loss: 0.3812 - val_loss: 0.3673\n",
      "Epoch 40/100\n",
      "1263/1263 [==============================] - 14s 11ms/step - loss: 0.3816 - val_loss: 0.3649\n",
      "Epoch 41/100\n",
      "1263/1263 [==============================] - 13s 10ms/step - loss: 0.3805 - val_loss: 0.3629\n",
      "Epoch 42/100\n",
      "1263/1263 [==============================] - 12s 9ms/step - loss: 0.3825 - val_loss: 0.3677\n",
      "Epoch 43/100\n",
      "1263/1263 [==============================] - 11s 9ms/step - loss: 0.3833 - val_loss: 0.3664\n",
      "Epoch 44/100\n",
      "1263/1263 [==============================] - 13s 10ms/step - loss: 0.3837 - val_loss: 0.3647\n",
      "Epoch 45/100\n",
      "1263/1263 [==============================] - 15s 12ms/step - loss: 0.3812 - val_loss: 0.3624\n",
      "Epoch 46/100\n",
      "1263/1263 [==============================] - 12s 10ms/step - loss: 0.3807 - val_loss: 0.3630\n",
      "Epoch 47/100\n",
      "1263/1263 [==============================] - 11s 9ms/step - loss: 0.3795 - val_loss: 0.3708\n",
      "Epoch 48/100\n",
      "1263/1263 [==============================] - 8s 7ms/step - loss: 0.3792 - val_loss: 0.3625\n",
      "Epoch 49/100\n",
      "1263/1263 [==============================] - 9s 7ms/step - loss: 0.3794 - val_loss: 0.3650\n",
      "Epoch 50/100\n",
      "1263/1263 [==============================] - 7s 6ms/step - loss: 0.3803 - val_loss: 0.3647\n",
      "Epoch 51/100\n",
      "1263/1263 [==============================] - 6s 5ms/step - loss: 0.3798 - val_loss: 0.3621\n",
      "Epoch 52/100\n",
      "1263/1263 [==============================] - 10s 8ms/step - loss: 0.3796 - val_loss: 0.3624\n",
      "Epoch 53/100\n",
      "1263/1263 [==============================] - 13s 11ms/step - loss: 0.3783 - val_loss: 0.3657\n",
      "Epoch 54/100\n",
      "1263/1263 [==============================] - 10s 8ms/step - loss: 0.3777 - val_loss: 0.3629\n",
      "Epoch 55/100\n",
      "1263/1263 [==============================] - 6s 5ms/step - loss: 0.3803 - val_loss: 0.3636\n",
      "Epoch 56/100\n",
      "1263/1263 [==============================] - 6s 4ms/step - loss: 0.3791 - val_loss: 0.3634\n",
      "Epoch 57/100\n",
      "1263/1263 [==============================] - 5s 4ms/step - loss: 0.3782 - val_loss: 0.3634\n",
      "Epoch 58/100\n",
      "1263/1263 [==============================] - 5s 4ms/step - loss: 0.3797 - val_loss: 0.3622\n",
      "Epoch 59/100\n",
      "1263/1263 [==============================] - 5s 4ms/step - loss: 0.3808 - val_loss: 0.3641\n",
      "Epoch 60/100\n",
      "1263/1263 [==============================] - 5s 4ms/step - loss: 0.3799 - val_loss: 0.3636\n",
      "Epoch 61/100\n",
      "1263/1263 [==============================] - 5s 4ms/step - loss: 0.3786 - val_loss: 0.3603\n",
      "Epoch 62/100\n",
      "1263/1263 [==============================] - 5s 4ms/step - loss: 0.3793 - val_loss: 0.3629\n",
      "Epoch 63/100\n",
      "1263/1263 [==============================] - 5s 4ms/step - loss: 0.3772 - val_loss: 0.3635\n",
      "Epoch 64/100\n",
      "1263/1263 [==============================] - 5s 4ms/step - loss: 0.3778 - val_loss: 0.3620\n",
      "Epoch 65/100\n",
      "1263/1263 [==============================] - 5s 4ms/step - loss: 0.3759 - val_loss: 0.3615\n",
      "Epoch 66/100\n",
      "1263/1263 [==============================] - 5s 4ms/step - loss: 0.3785 - val_loss: 0.3617\n",
      "Epoch 67/100\n",
      "1263/1263 [==============================] - 6s 5ms/step - loss: 0.3778 - val_loss: 0.3622\n",
      "Epoch 68/100\n",
      "1263/1263 [==============================] - 5s 4ms/step - loss: 0.3786 - val_loss: 0.3638\n",
      "Epoch 69/100\n",
      "1263/1263 [==============================] - 5s 4ms/step - loss: 0.3773 - val_loss: 0.3657\n",
      "Epoch 70/100\n",
      "1263/1263 [==============================] - 5s 4ms/step - loss: 0.3770 - val_loss: 0.3646\n",
      "Epoch 71/100\n",
      "1263/1263 [==============================] - 5s 4ms/step - loss: 0.3774 - val_loss: 0.3618\n",
      "Epoch 72/100\n",
      "1263/1263 [==============================] - 5s 4ms/step - loss: 0.3763 - val_loss: 0.3634\n",
      "Epoch 73/100\n",
      "1263/1263 [==============================] - 5s 4ms/step - loss: 0.3776 - val_loss: 0.3599\n",
      "Epoch 74/100\n",
      "1263/1263 [==============================] - 5s 4ms/step - loss: 0.3782 - val_loss: 0.3641\n",
      "Epoch 75/100\n",
      "1263/1263 [==============================] - 5s 4ms/step - loss: 0.3760 - val_loss: 0.3602\n",
      "Epoch 76/100\n",
      "1263/1263 [==============================] - 5s 4ms/step - loss: 0.3766 - val_loss: 0.3638\n",
      "Epoch 77/100\n",
      "1263/1263 [==============================] - 5s 4ms/step - loss: 0.3770 - val_loss: 0.3614\n",
      "Epoch 78/100\n",
      "1263/1263 [==============================] - 5s 4ms/step - loss: 0.3767 - val_loss: 0.3660\n",
      "Epoch 79/100\n",
      "1263/1263 [==============================] - 5s 4ms/step - loss: 0.3749 - val_loss: 0.3611\n",
      "Epoch 80/100\n",
      "1263/1263 [==============================] - 5s 4ms/step - loss: 0.3767 - val_loss: 0.3608\n",
      "Epoch 81/100\n",
      "1263/1263 [==============================] - 5s 4ms/step - loss: 0.3770 - val_loss: 0.3624\n",
      "Epoch 82/100\n",
      "1263/1263 [==============================] - 5s 4ms/step - loss: 0.3766 - val_loss: 0.3619\n",
      "Epoch 83/100\n",
      "1263/1263 [==============================] - 5s 4ms/step - loss: 0.3778 - val_loss: 0.3627\n",
      "Epoch 84/100\n",
      "1263/1263 [==============================] - 5s 4ms/step - loss: 0.3753 - val_loss: 0.3611\n",
      "Epoch 85/100\n",
      "1263/1263 [==============================] - 5s 4ms/step - loss: 0.3778 - val_loss: 0.3636\n",
      "Epoch 86/100\n",
      "1263/1263 [==============================] - 4s 3ms/step - loss: 0.3761 - val_loss: 0.3607\n",
      "Epoch 87/100\n",
      "1263/1263 [==============================] - 5s 4ms/step - loss: 0.3768 - val_loss: 0.3607\n",
      "Epoch 88/100\n",
      "1263/1263 [==============================] - 5s 4ms/step - loss: 0.3778 - val_loss: 0.3607\n",
      "Epoch 89/100\n",
      "1263/1263 [==============================] - 5s 4ms/step - loss: 0.3757 - val_loss: 0.3610\n",
      "Epoch 90/100\n",
      "1263/1263 [==============================] - 5s 4ms/step - loss: 0.3766 - val_loss: 0.3616\n",
      "Epoch 91/100\n",
      "1263/1263 [==============================] - 5s 4ms/step - loss: 0.3751 - val_loss: 0.3609\n",
      "Epoch 92/100\n",
      "1263/1263 [==============================] - 5s 4ms/step - loss: 0.3790 - val_loss: 0.3613\n",
      "Epoch 93/100\n",
      "1263/1263 [==============================] - 5s 4ms/step - loss: 0.3779 - val_loss: 0.3625\n",
      "Epoch 94/100\n",
      "1263/1263 [==============================] - 5s 4ms/step - loss: 0.3755 - val_loss: 0.3604\n",
      "Epoch 95/100\n",
      "1263/1263 [==============================] - 5s 4ms/step - loss: 0.3772 - val_loss: 0.3659\n",
      "Epoch 96/100\n",
      "1263/1263 [==============================] - 5s 4ms/step - loss: 0.3777 - val_loss: 0.3599\n",
      "Epoch 97/100\n",
      "1263/1263 [==============================] - 5s 4ms/step - loss: 0.3775 - val_loss: 0.3638\n",
      "Epoch 98/100\n",
      "1263/1263 [==============================] - 5s 4ms/step - loss: 0.3768 - val_loss: 0.3601\n",
      "Epoch 98: early stopping\n"
     ]
    },
    {
     "data": {
      "text/plain": [
       "<keras.src.callbacks.History at 0x1ad1983fd50>"
      ]
     },
     "execution_count": 54,
     "metadata": {},
     "output_type": "execute_result"
    }
   ],
   "source": [
    "model2.fit(x=x_train5, \n",
    "          y=y_train5, \n",
    "          epochs=100,\n",
    "          validation_data=(x_test5, y_test5), verbose=1,\n",
    "          callbacks=[early_stop]\n",
    "          )"
   ]
  },
  {
   "cell_type": "code",
   "execution_count": 55,
   "metadata": {},
   "outputs": [
    {
     "name": "stdout",
     "output_type": "stream",
     "text": [
      "1263/1263 [==============================] - 3s 3ms/step\n",
      "421/421 [==============================] - 1s 3ms/step\n",
      "Training Results\n",
      "\n",
      "              precision    recall  f1-score   support\n",
      "\n",
      "           0       0.80      0.92      0.86     20189\n",
      "           1       0.91      0.77      0.83     20218\n",
      "\n",
      "    accuracy                           0.85     40407\n",
      "   macro avg       0.85      0.85      0.84     40407\n",
      "weighted avg       0.85      0.85      0.84     40407\n",
      "\n",
      "Testing Results\n",
      "\n",
      "              precision    recall  f1-score   support\n",
      "\n",
      "           0       0.80      0.93      0.86      6749\n",
      "           1       0.91      0.77      0.83      6720\n",
      "\n",
      "    accuracy                           0.85     13469\n",
      "   macro avg       0.86      0.85      0.85     13469\n",
      "weighted avg       0.86      0.85      0.85     13469\n",
      "\n"
     ]
    }
   ],
   "source": [
    "ypred_train14 = model2.predict(x_train5)\n",
    "y_pred_test14 = model2.predict(x_test5)\n",
    "\n",
    "y_pred_test14 = (y_pred_test14 > 0.5)\n",
    "ypred_train14 = (ypred_train14 > 0.5)\n",
    "\n",
    "print(\"Training Results\\n\")\n",
    "print(classification_report(y_train5,ypred_train14))\n",
    "print(\"Testing Results\\n\")\n",
    "print(classification_report(y_test5,y_pred_test14))"
   ]
  },
  {
   "cell_type": "code",
   "execution_count": 56,
   "metadata": {},
   "outputs": [
    {
     "name": "stdout",
     "output_type": "stream",
     "text": [
      "421/421 [==============================] - 1s 2ms/step\n"
     ]
    },
    {
     "data": {
      "image/png": "[encoded data removed]",
      "text/plain": [
       "<Figure size 640x480 with 1 Axes>"
      ]
     },
     "metadata": {},
     "output_type": "display_data"
    }
   ],
   "source": [
    "# cross_val_scores = cross_val_score(model2, x_train5, y_train5, cv=5)\n",
    "# print(\"Cross-validation scores:\", cross_val_scores)\n",
    "# print(\"Average cross-validation score:\", np.mean(cross_val_scores))\n",
    "y_proba_test = model2.predict(x_test5).flatten()\n",
    "\n",
    "fpr, tpr, thresholds = roc_curve(y_test5, y_proba_test)\n",
    "\n",
    "plt.plot(fpr, tpr, label='ROC Curve')\n",
    "plt.xlabel('False Positive Rate')\n",
    "plt.ylabel('True Positive Rate')\n",
    "plt.title('ROC Curve with AUC = {:.2f}'.format(roc_auc_score(y_test5, y_proba_test)))\n",
    "plt.legend(loc='lower right')\n",
    "plt.grid(True)\n",
    "plt.show()"
   ]
  },
  {
   "cell_type": "markdown",
   "metadata": {},
   "source": [
    "## SVC"
   ]
  },
  {
   "cell_type": "code",
   "execution_count": 57,
   "metadata": {},
   "outputs": [],
   "source": [
    "model = SVC(probability=True)"
   ]
  },
  {
   "cell_type": "code",
   "execution_count": 58,
   "metadata": {},
   "outputs": [
    {
     "data": {
      "text/html": [
       "<style>#sk-container-id-4 {color: black;}#sk-container-id-4 pre{padding: 0;}#sk-container-id-4 div.sk-toggleable {background-color: white;}#sk-container-id-4 label.sk-toggleable__label {cursor: pointer;display: block;width: 100%;margin-bottom: 0;padding: 0.3em;box-sizing: border-box;text-align: center;}#sk-container-id-4 label.sk-toggleable__label-arrow:before {content: \"▸\";float: left;margin-right: 0.25em;color: #696969;}#sk-container-id-4 label.sk-toggleable__label-arrow:hover:before {color: black;}#sk-container-id-4 div.sk-estimator:hover label.sk-toggleable__label-arrow:before {color: black;}#sk-container-id-4 div.sk-toggleable__content {max-height: 0;max-width: 0;overflow: hidden;text-align: left;background-color: #f0f8ff;}#sk-container-id-4 div.sk-toggleable__content pre {margin: 0.2em;color: black;border-radius: 0.25em;background-color: #f0f8ff;}#sk-container-id-4 input.sk-toggleable__control:checked~div.sk-toggleable__content {max-height: 200px;max-width: 100%;overflow: auto;}#sk-container-id-4 input.sk-toggleable__control:checked~label.sk-toggleable__label-arrow:before {content: \"▾\";}#sk-container-id-4 div.sk-estimator input.sk-toggleable__control:checked~label.sk-toggleable__label {background-color: #d4ebff;}#sk-container-id-4 div.sk-label input.sk-toggleable__control:checked~label.sk-toggleable__label {background-color: #d4ebff;}#sk-container-id-4 input.sk-hidden--visually {border: 0;clip: rect(1px 1px 1px 1px);clip: rect(1px, 1px, 1px, 1px);height: 1px;margin: -1px;overflow: hidden;padding: 0;position: absolute;width: 1px;}#sk-container-id-4 div.sk-estimator {font-family: monospace;background-color: #f0f8ff;border: 1px dotted black;border-radius: 0.25em;box-sizing: border-box;margin-bottom: 0.5em;}#sk-container-id-4 div.sk-estimator:hover {background-color: #d4ebff;}#sk-container-id-4 div.sk-parallel-item::after {content: \"\";width: 100%;border-bottom: 1px solid gray;flex-grow: 1;}#sk-container-id-4 div.sk-label:hover label.sk-toggleable__label {background-color: #d4ebff;}#sk-container-id-4 div.sk-serial::before {content: \"\";position: absolute;border-left: 1px solid gray;box-sizing: border-box;top: 0;bottom: 0;left: 50%;z-index: 0;}#sk-container-id-4 div.sk-serial {display: flex;flex-direction: column;align-items: center;background-color: white;padding-right: 0.2em;padding-left: 0.2em;position: relative;}#sk-container-id-4 div.sk-item {position: relative;z-index: 1;}#sk-container-id-4 div.sk-parallel {display: flex;align-items: stretch;justify-content: center;background-color: white;position: relative;}#sk-container-id-4 div.sk-item::before, #sk-container-id-4 div.sk-parallel-item::before {content: \"\";position: absolute;border-left: 1px solid gray;box-sizing: border-box;top: 0;bottom: 0;left: 50%;z-index: -1;}#sk-container-id-4 div.sk-parallel-item {display: flex;flex-direction: column;z-index: 1;position: relative;background-color: white;}#sk-container-id-4 div.sk-parallel-item:first-child::after {align-self: flex-end;width: 50%;}#sk-container-id-4 div.sk-parallel-item:last-child::after {align-self: flex-start;width: 50%;}#sk-container-id-4 div.sk-parallel-item:only-child::after {width: 0;}#sk-container-id-4 div.sk-dashed-wrapped {border: 1px dashed gray;margin: 0 0.4em 0.5em 0.4em;box-sizing: border-box;padding-bottom: 0.4em;background-color: white;}#sk-container-id-4 div.sk-label label {font-family: monospace;font-weight: bold;display: inline-block;line-height: 1.2em;}#sk-container-id-4 div.sk-label-container {text-align: center;}#sk-container-id-4 div.sk-container {/* jupyter's `normalize.less` sets `[hidden] { display: none; }` but bootstrap.min.css set `[hidden] { display: none !important; }` so we also need the `!important` here to be able to override the default hidden behavior on the sphinx rendered scikit-learn.org. See: https://github.com/scikit-learn/scikit-learn/issues/21755 */display: inline-block !important;position: relative;}#sk-container-id-4 div.sk-text-repr-fallback {display: none;}</style><div id=\"sk-container-id-4\" class=\"sk-top-container\"><div class=\"sk-text-repr-fallback\"><pre>SVC(probability=True)</pre><b>In a Jupyter environment, please rerun this cell to show the HTML representation or trust the notebook. <br />On GitHub, the HTML representation is unable to render, please try loading this page with nbviewer.org.</b></div><div class=\"sk-container\" hidden><div class=\"sk-item\"><div class=\"sk-estimator sk-toggleable\"><input class=\"sk-toggleable__control sk-hidden--visually\" id=\"sk-estimator-id-6\" type=\"checkbox\" checked><label for=\"sk-estimator-id-6\" class=\"sk-toggleable__label sk-toggleable__label-arrow\">SVC</label><div class=\"sk-toggleable__content\"><pre>SVC(probability=True)</pre></div></div></div></div></div>"
      ],
      "text/plain": [
       "SVC(probability=True)"
      ]
     },
     "execution_count": 58,
     "metadata": {},
     "output_type": "execute_result"
    }
   ],
   "source": [
    "model.fit(x_train5,y_train5)"
   ]
  },
  {
   "cell_type": "code",
   "execution_count": 59,
   "metadata": {},
   "outputs": [
    {
     "name": "stdout",
     "output_type": "stream",
     "text": [
      "              precision    recall  f1-score   support\n",
      "\n",
      "           0       0.77      0.93      0.84     20189\n",
      "           1       0.91      0.72      0.80     20218\n",
      "\n",
      "    accuracy                           0.82     40407\n",
      "   macro avg       0.84      0.82      0.82     40407\n",
      "weighted avg       0.84      0.82      0.82     40407\n",
      "\n",
      "              precision    recall  f1-score   support\n",
      "\n",
      "           0       0.77      0.93      0.84      6749\n",
      "           1       0.92      0.72      0.81      6720\n",
      "\n",
      "    accuracy                           0.83     13469\n",
      "   macro avg       0.84      0.83      0.83     13469\n",
      "weighted avg       0.84      0.83      0.83     13469\n",
      "\n"
     ]
    }
   ],
   "source": [
    "\n",
    "\n",
    "ypred_train = model.predict(x_train5)\n",
    "y_pred_test = model.predict(x_test5)\n",
    "\n",
    "\n",
    "print(classification_report(y_train5,ypred_train))\n",
    "print(classification_report(y_test5,y_pred_test))"
   ]
  },
  {
   "cell_type": "code",
   "execution_count": 60,
   "metadata": {},
   "outputs": [],
   "source": [
    "param_grid = {'C': [0.1,1, 10, 100, 1000], 'gamma': [1,0.1,0.01,0.001,0.0001], 'kernel': ['rbf']} "
   ]
  },
  {
   "cell_type": "code",
   "execution_count": 61,
   "metadata": {},
   "outputs": [],
   "source": [
    "grid = GridSearchCV(SVC(),param_grid,refit=True,verbose=3)"
   ]
  },
  {
   "cell_type": "code",
   "execution_count": 62,
   "metadata": {},
   "outputs": [
    {
     "name": "stdout",
     "output_type": "stream",
     "text": [
      "Fitting 5 folds for each of 25 candidates, totalling 125 fits\n"
     ]
    },
    {
     "name": "stdout",
     "output_type": "stream",
     "text": [
      "[CV 1/5] END ........C=0.1, gamma=1, kernel=rbf;, score=0.804 total time= 1.3min\n",
      "[CV 2/5] END ........C=0.1, gamma=1, kernel=rbf;, score=0.809 total time= 1.4min\n",
      "[CV 3/5] END ........C=0.1, gamma=1, kernel=rbf;, score=0.802 total time= 1.3min\n",
      "[CV 4/5] END ........C=0.1, gamma=1, kernel=rbf;, score=0.803 total time= 1.4min\n",
      "[CV 5/5] END ........C=0.1, gamma=1, kernel=rbf;, score=0.802 total time= 1.5min\n",
      "[CV 1/5] END ......C=0.1, gamma=0.1, kernel=rbf;, score=0.793 total time= 1.5min\n",
      "[CV 2/5] END ......C=0.1, gamma=0.1, kernel=rbf;, score=0.795 total time= 1.5min\n",
      "[CV 3/5] END ......C=0.1, gamma=0.1, kernel=rbf;, score=0.783 total time= 1.5min\n",
      "[CV 4/5] END ......C=0.1, gamma=0.1, kernel=rbf;, score=0.791 total time= 1.3min\n",
      "[CV 5/5] END ......C=0.1, gamma=0.1, kernel=rbf;, score=0.785 total time= 1.3min\n",
      "[CV 1/5] END .....C=0.1, gamma=0.01, kernel=rbf;, score=0.774 total time= 2.0min\n",
      "[CV 2/5] END .....C=0.1, gamma=0.01, kernel=rbf;, score=0.774 total time= 2.0min\n",
      "[CV 3/5] END .....C=0.1, gamma=0.01, kernel=rbf;, score=0.775 total time= 2.0min\n",
      "[CV 4/5] END .....C=0.1, gamma=0.01, kernel=rbf;, score=0.774 total time= 2.0min\n",
      "[CV 5/5] END .....C=0.1, gamma=0.01, kernel=rbf;, score=0.770 total time= 2.1min\n",
      "[CV 1/5] END ....C=0.1, gamma=0.001, kernel=rbf;, score=0.724 total time= 2.8min\n",
      "[CV 2/5] END ....C=0.1, gamma=0.001, kernel=rbf;, score=0.716 total time= 2.8min\n",
      "[CV 3/5] END ....C=0.1, gamma=0.001, kernel=rbf;, score=0.717 total time= 2.8min\n",
      "[CV 4/5] END ....C=0.1, gamma=0.001, kernel=rbf;, score=0.719 total time= 2.8min\n",
      "[CV 5/5] END ....C=0.1, gamma=0.001, kernel=rbf;, score=0.712 total time= 2.8min\n",
      "[CV 1/5] END ...C=0.1, gamma=0.0001, kernel=rbf;, score=0.500 total time= 3.2min\n",
      "[CV 2/5] END ...C=0.1, gamma=0.0001, kernel=rbf;, score=0.500 total time= 3.2min\n",
      "[CV 3/5] END ...C=0.1, gamma=0.0001, kernel=rbf;, score=0.500 total time= 3.1min\n",
      "[CV 4/5] END ...C=0.1, gamma=0.0001, kernel=rbf;, score=0.500 total time= 3.2min\n",
      "[CV 5/5] END ...C=0.1, gamma=0.0001, kernel=rbf;, score=0.500 total time= 3.2min\n",
      "[CV 1/5] END ..........C=1, gamma=1, kernel=rbf;, score=0.826 total time= 1.5min\n",
      "[CV 2/5] END ..........C=1, gamma=1, kernel=rbf;, score=0.829 total time= 1.5min\n",
      "[CV 3/5] END ..........C=1, gamma=1, kernel=rbf;, score=0.822 total time= 1.5min\n",
      "[CV 4/5] END ..........C=1, gamma=1, kernel=rbf;, score=0.828 total time= 1.5min\n",
      "[CV 5/5] END ..........C=1, gamma=1, kernel=rbf;, score=0.825 total time= 1.5min\n",
      "[CV 1/5] END ........C=1, gamma=0.1, kernel=rbf;, score=0.805 total time= 1.6min\n",
      "[CV 2/5] END ........C=1, gamma=0.1, kernel=rbf;, score=0.809 total time= 1.6min\n",
      "[CV 3/5] END ........C=1, gamma=0.1, kernel=rbf;, score=0.803 total time= 1.7min\n",
      "[CV 4/5] END ........C=1, gamma=0.1, kernel=rbf;, score=0.807 total time= 1.6min\n",
      "[CV 5/5] END ........C=1, gamma=0.1, kernel=rbf;, score=0.802 total time= 1.7min\n",
      "[CV 1/5] END .......C=1, gamma=0.01, kernel=rbf;, score=0.789 total time= 1.8min\n",
      "[CV 2/5] END .......C=1, gamma=0.01, kernel=rbf;, score=0.792 total time= 1.7min\n",
      "[CV 3/5] END .......C=1, gamma=0.01, kernel=rbf;, score=0.781 total time= 1.7min\n",
      "[CV 4/5] END .......C=1, gamma=0.01, kernel=rbf;, score=0.788 total time= 1.8min\n",
      "[CV 5/5] END .......C=1, gamma=0.01, kernel=rbf;, score=0.788 total time= 1.7min\n",
      "[CV 1/5] END ......C=1, gamma=0.001, kernel=rbf;, score=0.774 total time= 2.1min\n",
      "[CV 2/5] END ......C=1, gamma=0.001, kernel=rbf;, score=0.773 total time= 2.1min\n",
      "[CV 3/5] END ......C=1, gamma=0.001, kernel=rbf;, score=0.776 total time= 1.9min\n",
      "[CV 4/5] END ......C=1, gamma=0.001, kernel=rbf;, score=0.774 total time= 1.6min\n",
      "[CV 5/5] END ......C=1, gamma=0.001, kernel=rbf;, score=0.770 total time= 1.2min\n",
      "[CV 1/5] END .....C=1, gamma=0.0001, kernel=rbf;, score=0.724 total time= 1.6min\n",
      "[CV 2/5] END .....C=1, gamma=0.0001, kernel=rbf;, score=0.716 total time= 1.7min\n",
      "[CV 3/5] END .....C=1, gamma=0.0001, kernel=rbf;, score=0.717 total time= 1.7min\n",
      "[CV 4/5] END .....C=1, gamma=0.0001, kernel=rbf;, score=0.719 total time= 1.6min\n",
      "[CV 5/5] END .....C=1, gamma=0.0001, kernel=rbf;, score=0.712 total time= 1.7min\n",
      "[CV 1/5] END .........C=10, gamma=1, kernel=rbf;, score=0.835 total time= 1.1min\n",
      "[CV 2/5] END .........C=10, gamma=1, kernel=rbf;, score=0.836 total time= 1.0min\n",
      "[CV 3/5] END .........C=10, gamma=1, kernel=rbf;, score=0.836 total time= 1.1min\n",
      "[CV 4/5] END .........C=10, gamma=1, kernel=rbf;, score=0.837 total time= 1.0min\n",
      "[CV 5/5] END .........C=10, gamma=1, kernel=rbf;, score=0.833 total time= 1.1min\n",
      "[CV 1/5] END .......C=10, gamma=0.1, kernel=rbf;, score=0.823 total time=  57.2s\n",
      "[CV 2/5] END .......C=10, gamma=0.1, kernel=rbf;, score=0.823 total time=  55.1s\n",
      "[CV 3/5] END .......C=10, gamma=0.1, kernel=rbf;, score=0.819 total time=  57.4s\n",
      "[CV 4/5] END .......C=10, gamma=0.1, kernel=rbf;, score=0.825 total time=  57.4s\n",
      "[CV 5/5] END .......C=10, gamma=0.1, kernel=rbf;, score=0.820 total time=  54.0s\n",
      "[CV 1/5] END ......C=10, gamma=0.01, kernel=rbf;, score=0.794 total time=  56.1s\n",
      "[CV 2/5] END ......C=10, gamma=0.01, kernel=rbf;, score=0.805 total time=  53.2s\n",
      "[CV 3/5] END ......C=10, gamma=0.01, kernel=rbf;, score=0.791 total time=  42.8s\n",
      "[CV 4/5] END ......C=10, gamma=0.01, kernel=rbf;, score=0.796 total time=  46.2s\n",
      "[CV 5/5] END ......C=10, gamma=0.01, kernel=rbf;, score=0.792 total time=  43.7s\n",
      "[CV 1/5] END .....C=10, gamma=0.001, kernel=rbf;, score=0.789 total time=  43.4s\n",
      "[CV 2/5] END .....C=10, gamma=0.001, kernel=rbf;, score=0.793 total time=  37.8s\n",
      "[CV 3/5] END .....C=10, gamma=0.001, kernel=rbf;, score=0.779 total time=  36.9s\n",
      "[CV 4/5] END .....C=10, gamma=0.001, kernel=rbf;, score=0.789 total time=  29.2s\n",
      "[CV 5/5] END .....C=10, gamma=0.001, kernel=rbf;, score=0.790 total time=  28.5s\n",
      "[CV 1/5] END ....C=10, gamma=0.0001, kernel=rbf;, score=0.774 total time=  34.7s\n",
      "[CV 2/5] END ....C=10, gamma=0.0001, kernel=rbf;, score=0.773 total time=  36.4s\n",
      "[CV 3/5] END ....C=10, gamma=0.0001, kernel=rbf;, score=0.776 total time=  36.6s\n",
      "[CV 4/5] END ....C=10, gamma=0.0001, kernel=rbf;, score=0.775 total time=  35.0s\n",
      "[CV 5/5] END ....C=10, gamma=0.0001, kernel=rbf;, score=0.770 total time=  36.3s\n",
      "[CV 1/5] END ........C=100, gamma=1, kernel=rbf;, score=0.835 total time= 1.0min\n",
      "[CV 2/5] END ........C=100, gamma=1, kernel=rbf;, score=0.840 total time= 1.1min\n",
      "[CV 3/5] END ........C=100, gamma=1, kernel=rbf;, score=0.839 total time=  59.7s\n",
      "[CV 4/5] END ........C=100, gamma=1, kernel=rbf;, score=0.836 total time= 1.0min\n",
      "[CV 5/5] END ........C=100, gamma=1, kernel=rbf;, score=0.835 total time= 1.1min\n",
      "[CV 1/5] END ......C=100, gamma=0.1, kernel=rbf;, score=0.832 total time=  33.1s\n",
      "[CV 2/5] END ......C=100, gamma=0.1, kernel=rbf;, score=0.832 total time=  32.5s\n",
      "[CV 3/5] END ......C=100, gamma=0.1, kernel=rbf;, score=0.829 total time=  32.5s\n",
      "[CV 4/5] END ......C=100, gamma=0.1, kernel=rbf;, score=0.835 total time=  32.0s\n",
      "[CV 5/5] END ......C=100, gamma=0.1, kernel=rbf;, score=0.832 total time=  34.0s\n",
      "[CV 1/5] END .....C=100, gamma=0.01, kernel=rbf;, score=0.810 total time=  27.7s\n",
      "[CV 2/5] END .....C=100, gamma=0.01, kernel=rbf;, score=0.812 total time=  29.4s\n",
      "[CV 3/5] END .....C=100, gamma=0.01, kernel=rbf;, score=0.806 total time=  27.3s\n",
      "[CV 4/5] END .....C=100, gamma=0.01, kernel=rbf;, score=0.811 total time=  29.0s\n",
      "[CV 5/5] END .....C=100, gamma=0.01, kernel=rbf;, score=0.808 total time=  30.4s\n",
      "[CV 1/5] END ....C=100, gamma=0.001, kernel=rbf;, score=0.787 total time=  30.0s\n",
      "[CV 2/5] END ....C=100, gamma=0.001, kernel=rbf;, score=0.800 total time=  29.4s\n",
      "[CV 3/5] END ....C=100, gamma=0.001, kernel=rbf;, score=0.785 total time=  31.4s\n",
      "[CV 4/5] END ....C=100, gamma=0.001, kernel=rbf;, score=0.789 total time=  28.5s\n",
      "[CV 5/5] END ....C=100, gamma=0.001, kernel=rbf;, score=0.788 total time=  28.3s\n",
      "[CV 1/5] END ...C=100, gamma=0.0001, kernel=rbf;, score=0.789 total time=  30.0s\n",
      "[CV 2/5] END ...C=100, gamma=0.0001, kernel=rbf;, score=0.793 total time=  30.9s\n",
      "[CV 3/5] END ...C=100, gamma=0.0001, kernel=rbf;, score=0.780 total time=  30.5s\n",
      "[CV 4/5] END ...C=100, gamma=0.0001, kernel=rbf;, score=0.790 total time=  31.7s\n",
      "[CV 5/5] END ...C=100, gamma=0.0001, kernel=rbf;, score=0.789 total time=  29.8s\n",
      "[CV 1/5] END .......C=1000, gamma=1, kernel=rbf;, score=0.827 total time= 4.6min\n",
      "[CV 2/5] END .......C=1000, gamma=1, kernel=rbf;, score=0.839 total time= 4.6min\n",
      "[CV 3/5] END .......C=1000, gamma=1, kernel=rbf;, score=0.837 total time= 3.8min\n",
      "[CV 4/5] END .......C=1000, gamma=1, kernel=rbf;, score=0.835 total time= 4.3min\n",
      "[CV 5/5] END .......C=1000, gamma=1, kernel=rbf;, score=0.831 total time= 4.2min\n",
      "[CV 1/5] END .....C=1000, gamma=0.1, kernel=rbf;, score=0.835 total time=  54.5s\n",
      "[CV 2/5] END .....C=1000, gamma=0.1, kernel=rbf;, score=0.837 total time=  52.9s\n",
      "[CV 3/5] END .....C=1000, gamma=0.1, kernel=rbf;, score=0.838 total time=  48.7s\n",
      "[CV 4/5] END .....C=1000, gamma=0.1, kernel=rbf;, score=0.838 total time=  48.3s\n",
      "[CV 5/5] END .....C=1000, gamma=0.1, kernel=rbf;, score=0.835 total time=  51.7s\n",
      "[CV 1/5] END ....C=1000, gamma=0.01, kernel=rbf;, score=0.823 total time=  26.1s\n",
      "[CV 2/5] END ....C=1000, gamma=0.01, kernel=rbf;, score=0.824 total time=  25.5s\n",
      "[CV 3/5] END ....C=1000, gamma=0.01, kernel=rbf;, score=0.822 total time=  28.0s\n",
      "[CV 4/5] END ....C=1000, gamma=0.01, kernel=rbf;, score=0.827 total time=  25.7s\n",
      "[CV 5/5] END ....C=1000, gamma=0.01, kernel=rbf;, score=0.823 total time=  26.7s\n",
      "[CV 1/5] END ...C=1000, gamma=0.001, kernel=rbf;, score=0.798 total time=  21.7s\n",
      "[CV 2/5] END ...C=1000, gamma=0.001, kernel=rbf;, score=0.807 total time=  22.2s\n",
      "[CV 3/5] END ...C=1000, gamma=0.001, kernel=rbf;, score=0.794 total time=  22.7s\n",
      "[CV 4/5] END ...C=1000, gamma=0.001, kernel=rbf;, score=0.799 total time=  22.0s\n",
      "[CV 5/5] END ...C=1000, gamma=0.001, kernel=rbf;, score=0.796 total time=  22.3s\n",
      "[CV 1/5] END ..C=1000, gamma=0.0001, kernel=rbf;, score=0.786 total time=  22.8s\n",
      "[CV 2/5] END ..C=1000, gamma=0.0001, kernel=rbf;, score=0.800 total time=  22.9s\n",
      "[CV 3/5] END ..C=1000, gamma=0.0001, kernel=rbf;, score=0.784 total time=  23.0s\n",
      "[CV 4/5] END ..C=1000, gamma=0.0001, kernel=rbf;, score=0.789 total time=  23.1s\n",
      "[CV 5/5] END ..C=1000, gamma=0.0001, kernel=rbf;, score=0.788 total time=  22.7s\n"
     ]
    },
    {
     "data": {
      "text/html": [
       "<style>#sk-container-id-5 {color: black;}#sk-container-id-5 pre{padding: 0;}#sk-container-id-5 div.sk-toggleable {background-color: white;}#sk-container-id-5 label.sk-toggleable__label {cursor: pointer;display: block;width: 100%;margin-bottom: 0;padding: 0.3em;box-sizing: border-box;text-align: center;}#sk-container-id-5 label.sk-toggleable__label-arrow:before {content: \"▸\";float: left;margin-right: 0.25em;color: #696969;}#sk-container-id-5 label.sk-toggleable__label-arrow:hover:before {color: black;}#sk-container-id-5 div.sk-estimator:hover label.sk-toggleable__label-arrow:before {color: black;}#sk-container-id-5 div.sk-toggleable__content {max-height: 0;max-width: 0;overflow: hidden;text-align: left;background-color: #f0f8ff;}#sk-container-id-5 div.sk-toggleable__content pre {margin: 0.2em;color: black;border-radius: 0.25em;background-color: #f0f8ff;}#sk-container-id-5 input.sk-toggleable__control:checked~div.sk-toggleable__content {max-height: 200px;max-width: 100%;overflow: auto;}#sk-container-id-5 input.sk-toggleable__control:checked~label.sk-toggleable__label-arrow:before {content: \"▾\";}#sk-container-id-5 div.sk-estimator input.sk-toggleable__control:checked~label.sk-toggleable__label {background-color: #d4ebff;}#sk-container-id-5 div.sk-label input.sk-toggleable__control:checked~label.sk-toggleable__label {background-color: #d4ebff;}#sk-container-id-5 input.sk-hidden--visually {border: 0;clip: rect(1px 1px 1px 1px);clip: rect(1px, 1px, 1px, 1px);height: 1px;margin: -1px;overflow: hidden;padding: 0;position: absolute;width: 1px;}#sk-container-id-5 div.sk-estimator {font-family: monospace;background-color: #f0f8ff;border: 1px dotted black;border-radius: 0.25em;box-sizing: border-box;margin-bottom: 0.5em;}#sk-container-id-5 div.sk-estimator:hover {background-color: #d4ebff;}#sk-container-id-5 div.sk-parallel-item::after {content: \"\";width: 100%;border-bottom: 1px solid gray;flex-grow: 1;}#sk-container-id-5 div.sk-label:hover label.sk-toggleable__label {background-color: #d4ebff;}#sk-container-id-5 div.sk-serial::before {content: \"\";position: absolute;border-left: 1px solid gray;box-sizing: border-box;top: 0;bottom: 0;left: 50%;z-index: 0;}#sk-container-id-5 div.sk-serial {display: flex;flex-direction: column;align-items: center;background-color: white;padding-right: 0.2em;padding-left: 0.2em;position: relative;}#sk-container-id-5 div.sk-item {position: relative;z-index: 1;}#sk-container-id-5 div.sk-parallel {display: flex;align-items: stretch;justify-content: center;background-color: white;position: relative;}#sk-container-id-5 div.sk-item::before, #sk-container-id-5 div.sk-parallel-item::before {content: \"\";position: absolute;border-left: 1px solid gray;box-sizing: border-box;top: 0;bottom: 0;left: 50%;z-index: -1;}#sk-container-id-5 div.sk-parallel-item {display: flex;flex-direction: column;z-index: 1;position: relative;background-color: white;}#sk-container-id-5 div.sk-parallel-item:first-child::after {align-self: flex-end;width: 50%;}#sk-container-id-5 div.sk-parallel-item:last-child::after {align-self: flex-start;width: 50%;}#sk-container-id-5 div.sk-parallel-item:only-child::after {width: 0;}#sk-container-id-5 div.sk-dashed-wrapped {border: 1px dashed gray;margin: 0 0.4em 0.5em 0.4em;box-sizing: border-box;padding-bottom: 0.4em;background-color: white;}#sk-container-id-5 div.sk-label label {font-family: monospace;font-weight: bold;display: inline-block;line-height: 1.2em;}#sk-container-id-5 div.sk-label-container {text-align: center;}#sk-container-id-5 div.sk-container {/* jupyter's `normalize.less` sets `[hidden] { display: none; }` but bootstrap.min.css set `[hidden] { display: none !important; }` so we also need the `!important` here to be able to override the default hidden behavior on the sphinx rendered scikit-learn.org. See: https://github.com/scikit-learn/scikit-learn/issues/21755 */display: inline-block !important;position: relative;}#sk-container-id-5 div.sk-text-repr-fallback {display: none;}</style><div id=\"sk-container-id-5\" class=\"sk-top-container\"><div class=\"sk-text-repr-fallback\"><pre>GridSearchCV(estimator=SVC(),\n",
       "             param_grid={&#x27;C&#x27;: [0.1, 1, 10, 100, 1000],\n",
       "                         &#x27;gamma&#x27;: [1, 0.1, 0.01, 0.001, 0.0001],\n",
       "                         &#x27;kernel&#x27;: [&#x27;rbf&#x27;]},\n",
       "             verbose=3)</pre><b>In a Jupyter environment, please rerun this cell to show the HTML representation or trust the notebook. <br />On GitHub, the HTML representation is unable to render, please try loading this page with nbviewer.org.</b></div><div class=\"sk-container\" hidden><div class=\"sk-item sk-dashed-wrapped\"><div class=\"sk-label-container\"><div class=\"sk-label sk-toggleable\"><input class=\"sk-toggleable__control sk-hidden--visually\" id=\"sk-estimator-id-7\" type=\"checkbox\" ><label for=\"sk-estimator-id-7\" class=\"sk-toggleable__label sk-toggleable__label-arrow\">GridSearchCV</label><div class=\"sk-toggleable__content\"><pre>GridSearchCV(estimator=SVC(),\n",
       "             param_grid={&#x27;C&#x27;: [0.1, 1, 10, 100, 1000],\n",
       "                         &#x27;gamma&#x27;: [1, 0.1, 0.01, 0.001, 0.0001],\n",
       "                         &#x27;kernel&#x27;: [&#x27;rbf&#x27;]},\n",
       "             verbose=3)</pre></div></div></div><div class=\"sk-parallel\"><div class=\"sk-parallel-item\"><div class=\"sk-item\"><div class=\"sk-label-container\"><div class=\"sk-label sk-toggleable\"><input class=\"sk-toggleable__control sk-hidden--visually\" id=\"sk-estimator-id-8\" type=\"checkbox\" ><label for=\"sk-estimator-id-8\" class=\"sk-toggleable__label sk-toggleable__label-arrow\">estimator: SVC</label><div class=\"sk-toggleable__content\"><pre>SVC()</pre></div></div></div><div class=\"sk-serial\"><div class=\"sk-item\"><div class=\"sk-estimator sk-toggleable\"><input class=\"sk-toggleable__control sk-hidden--visually\" id=\"sk-estimator-id-9\" type=\"checkbox\" ><label for=\"sk-estimator-id-9\" class=\"sk-toggleable__label sk-toggleable__label-arrow\">SVC</label><div class=\"sk-toggleable__content\"><pre>SVC()</pre></div></div></div></div></div></div></div></div></div></div>"
      ],
      "text/plain": [
       "GridSearchCV(estimator=SVC(),\n",
       "             param_grid={'C': [0.1, 1, 10, 100, 1000],\n",
       "                         'gamma': [1, 0.1, 0.01, 0.001, 0.0001],\n",
       "                         'kernel': ['rbf']},\n",
       "             verbose=3)"
      ]
     },
     "execution_count": 62,
     "metadata": {},
     "output_type": "execute_result"
    }
   ],
   "source": [
    "grid.fit(x_train5,y_train5)"
   ]
  },
  {
   "cell_type": "code",
   "execution_count": 63,
   "metadata": {},
   "outputs": [
    {
     "data": {
      "text/plain": [
       "{'C': 100, 'gamma': 1, 'kernel': 'rbf'}"
      ]
     },
     "execution_count": 63,
     "metadata": {},
     "output_type": "execute_result"
    }
   ],
   "source": [
    "grid.best_params_"
   ]
  },
  {
   "cell_type": "code",
   "execution_count": 64,
   "metadata": {},
   "outputs": [
    {
     "data": {
      "text/html": [
       "<style>#sk-container-id-6 {color: black;}#sk-container-id-6 pre{padding: 0;}#sk-container-id-6 div.sk-toggleable {background-color: white;}#sk-container-id-6 label.sk-toggleable__label {cursor: pointer;display: block;width: 100%;margin-bottom: 0;padding: 0.3em;box-sizing: border-box;text-align: center;}#sk-container-id-6 label.sk-toggleable__label-arrow:before {content: \"▸\";float: left;margin-right: 0.25em;color: #696969;}#sk-container-id-6 label.sk-toggleable__label-arrow:hover:before {color: black;}#sk-container-id-6 div.sk-estimator:hover label.sk-toggleable__label-arrow:before {color: black;}#sk-container-id-6 div.sk-toggleable__content {max-height: 0;max-width: 0;overflow: hidden;text-align: left;background-color: #f0f8ff;}#sk-container-id-6 div.sk-toggleable__content pre {margin: 0.2em;color: black;border-radius: 0.25em;background-color: #f0f8ff;}#sk-container-id-6 input.sk-toggleable__control:checked~div.sk-toggleable__content {max-height: 200px;max-width: 100%;overflow: auto;}#sk-container-id-6 input.sk-toggleable__control:checked~label.sk-toggleable__label-arrow:before {content: \"▾\";}#sk-container-id-6 div.sk-estimator input.sk-toggleable__control:checked~label.sk-toggleable__label {background-color: #d4ebff;}#sk-container-id-6 div.sk-label input.sk-toggleable__control:checked~label.sk-toggleable__label {background-color: #d4ebff;}#sk-container-id-6 input.sk-hidden--visually {border: 0;clip: rect(1px 1px 1px 1px);clip: rect(1px, 1px, 1px, 1px);height: 1px;margin: -1px;overflow: hidden;padding: 0;position: absolute;width: 1px;}#sk-container-id-6 div.sk-estimator {font-family: monospace;background-color: #f0f8ff;border: 1px dotted black;border-radius: 0.25em;box-sizing: border-box;margin-bottom: 0.5em;}#sk-container-id-6 div.sk-estimator:hover {background-color: #d4ebff;}#sk-container-id-6 div.sk-parallel-item::after {content: \"\";width: 100%;border-bottom: 1px solid gray;flex-grow: 1;}#sk-container-id-6 div.sk-label:hover label.sk-toggleable__label {background-color: #d4ebff;}#sk-container-id-6 div.sk-serial::before {content: \"\";position: absolute;border-left: 1px solid gray;box-sizing: border-box;top: 0;bottom: 0;left: 50%;z-index: 0;}#sk-container-id-6 div.sk-serial {display: flex;flex-direction: column;align-items: center;background-color: white;padding-right: 0.2em;padding-left: 0.2em;position: relative;}#sk-container-id-6 div.sk-item {position: relative;z-index: 1;}#sk-container-id-6 div.sk-parallel {display: flex;align-items: stretch;justify-content: center;background-color: white;position: relative;}#sk-container-id-6 div.sk-item::before, #sk-container-id-6 div.sk-parallel-item::before {content: \"\";position: absolute;border-left: 1px solid gray;box-sizing: border-box;top: 0;bottom: 0;left: 50%;z-index: -1;}#sk-container-id-6 div.sk-parallel-item {display: flex;flex-direction: column;z-index: 1;position: relative;background-color: white;}#sk-container-id-6 div.sk-parallel-item:first-child::after {align-self: flex-end;width: 50%;}#sk-container-id-6 div.sk-parallel-item:last-child::after {align-self: flex-start;width: 50%;}#sk-container-id-6 div.sk-parallel-item:only-child::after {width: 0;}#sk-container-id-6 div.sk-dashed-wrapped {border: 1px dashed gray;margin: 0 0.4em 0.5em 0.4em;box-sizing: border-box;padding-bottom: 0.4em;background-color: white;}#sk-container-id-6 div.sk-label label {font-family: monospace;font-weight: bold;display: inline-block;line-height: 1.2em;}#sk-container-id-6 div.sk-label-container {text-align: center;}#sk-container-id-6 div.sk-container {/* jupyter's `normalize.less` sets `[hidden] { display: none; }` but bootstrap.min.css set `[hidden] { display: none !important; }` so we also need the `!important` here to be able to override the default hidden behavior on the sphinx rendered scikit-learn.org. See: https://github.com/scikit-learn/scikit-learn/issues/21755 */display: inline-block !important;position: relative;}#sk-container-id-6 div.sk-text-repr-fallback {display: none;}</style><div id=\"sk-container-id-6\" class=\"sk-top-container\"><div class=\"sk-text-repr-fallback\"><pre>SVC(C=100, gamma=1)</pre><b>In a Jupyter environment, please rerun this cell to show the HTML representation or trust the notebook. <br />On GitHub, the HTML representation is unable to render, please try loading this page with nbviewer.org.</b></div><div class=\"sk-container\" hidden><div class=\"sk-item\"><div class=\"sk-estimator sk-toggleable\"><input class=\"sk-toggleable__control sk-hidden--visually\" id=\"sk-estimator-id-10\" type=\"checkbox\" checked><label for=\"sk-estimator-id-10\" class=\"sk-toggleable__label sk-toggleable__label-arrow\">SVC</label><div class=\"sk-toggleable__content\"><pre>SVC(C=100, gamma=1)</pre></div></div></div></div></div>"
      ],
      "text/plain": [
       "SVC(C=100, gamma=1)"
      ]
     },
     "execution_count": 64,
     "metadata": {},
     "output_type": "execute_result"
    }
   ],
   "source": [
    "grid.best_estimator_"
   ]
  },
  {
   "cell_type": "code",
   "execution_count": 65,
   "metadata": {},
   "outputs": [
    {
     "name": "stdout",
     "output_type": "stream",
     "text": [
      "              precision    recall  f1-score   support\n",
      "\n",
      "           0       0.80      0.94      0.86     20189\n",
      "           1       0.93      0.76      0.84     20218\n",
      "\n",
      "    accuracy                           0.85     40407\n",
      "   macro avg       0.86      0.85      0.85     40407\n",
      "weighted avg       0.86      0.85      0.85     40407\n",
      "\n",
      "              precision    recall  f1-score   support\n",
      "\n",
      "           0       0.79      0.94      0.86      6749\n",
      "           1       0.93      0.74      0.82      6720\n",
      "\n",
      "    accuracy                           0.84     13469\n",
      "   macro avg       0.86      0.84      0.84     13469\n",
      "weighted avg       0.86      0.84      0.84     13469\n",
      "\n"
     ]
    }
   ],
   "source": [
    "ypred_train = grid.predict(x_train5)\n",
    "y_pred_test = grid.predict(x_test5)\n",
    "\n",
    "\n",
    "print(classification_report(y_train5,ypred_train))\n",
    "print(classification_report(y_test5,y_pred_test))"
   ]
  },
  {
   "cell_type": "code",
   "execution_count": 66,
   "metadata": {},
   "outputs": [
    {
     "name": "stdout",
     "output_type": "stream",
     "text": [
      "Training Results\n",
      "\n",
      "              precision    recall  f1-score   support\n",
      "\n",
      "           0       0.80      0.94      0.86     20189\n",
      "           1       0.93      0.76      0.84     20218\n",
      "\n",
      "    accuracy                           0.85     40407\n",
      "   macro avg       0.86      0.85      0.85     40407\n",
      "weighted avg       0.86      0.85      0.85     40407\n",
      "\n",
      "Testing Results\n",
      "\n",
      "              precision    recall  f1-score   support\n",
      "\n",
      "           0       0.79      0.94      0.86      6749\n",
      "           1       0.93      0.74      0.82      6720\n",
      "\n",
      "    accuracy                           0.84     13469\n",
      "   macro avg       0.86      0.84      0.84     13469\n",
      "weighted avg       0.86      0.84      0.84     13469\n",
      "\n"
     ]
    },
    {
     "data": {
      "image/png": "[encoded data removed]",
      "text/plain": [
       "<Figure size 640x480 with 1 Axes>"
      ]
     },
     "metadata": {},
     "output_type": "display_data"
    }
   ],
   "source": [
    "model3 = SVC(C=100, gamma=1, kernel='rbf', probability=True)\n",
    "model3.fit(x_train5, y_train5)\n",
    "\n",
    "ypred_train14 = model3.predict(x_train5)\n",
    "y_pred_test14 = model3.predict(x_test5)\n",
    "\n",
    "print(\"Training Results\\n\")\n",
    "print(classification_report(y_train5, ypred_train14))\n",
    "print(\"Testing Results\\n\")\n",
    "print(classification_report(y_test5, y_pred_test14))\n",
    "\n",
    "y_proba_test = model3.predict_proba(x_test5)[:, 1]\n",
    "fpr, tpr, thresholds = roc_curve(y_test5, y_proba_test)\n",
    "\n",
    "# cross_val_scores = cross_val_score(model3, x_train5, y_train5, cv=5)\n",
    "# print(\"Cross-validation scores:\", cross_val_scores)\n",
    "# print(\"Average cross-validation score:\", np.mean(cross_val_scores))\n",
    "\n",
    "plt.plot(fpr, tpr, label='ROC Curve')\n",
    "plt.xlabel('False Positive Rate')\n",
    "plt.ylabel('True Positive Rate')\n",
    "plt.title('ROC Curve with AUC = {:.2f}'.format(roc_auc_score(y_test5, y_proba_test)))\n",
    "plt.legend(loc='lower right')\n",
    "plt.grid(True)\n",
    "plt.show()"
   ]
  }
 ],
 "metadata": {
  "kernelspec": {
   "display_name": "Python 3",
   "language": "python",
   "name": "python3"
  },
  "language_info": {
   "codemirror_mode": {
    "name": "ipython",
    "version": 3
   },
   "file_extension": ".py",
   "mimetype": "text/x-python",
   "name": "python",
   "nbconvert_exporter": "python",
   "pygments_lexer": "ipython3",
   "version": "0.0.0"
  }
 },
 "nbformat": 4,
 "nbformat_minor": 2
}
