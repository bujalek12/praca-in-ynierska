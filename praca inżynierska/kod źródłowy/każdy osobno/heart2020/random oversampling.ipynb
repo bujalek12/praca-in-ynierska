{
 "cells": [
  {
   "cell_type": "code",
   "execution_count": 1,
   "metadata": {},
   "outputs": [
    {
     "name": "stdout",
     "output_type": "stream",
     "text": [
      "WARNING:tensorflow:From C:\\Users\\DELL\\AppData\\Roaming\\Python\\Python311\\site-packages\\keras\\src\\losses.py:2976: The name tf.losses.sparse_softmax_cross_entropy is deprecated. Please use tf.compat.v1.losses.sparse_softmax_cross_entropy instead.\n",
      "\n"
     ]
    }
   ],
   "source": [
    "import pandas as pd\n",
    "import numpy as np\n",
    "import matplotlib.pyplot as plt\n",
    "import plotly.express as px\n",
    "from sklearn.preprocessing import LabelEncoder\n",
    "from sklearn.preprocessing import RobustScaler , MinMaxScaler, StandardScaler\n",
    "import seaborn as sns\n",
    "from sklearn.metrics import roc_curve\n",
    "from sklearn.metrics import roc_auc_score\n",
    "import tensorflow as tf\n",
    "from keras.preprocessing.image import ImageDataGenerator\n",
    "from tensorflow.keras.layers import Dropout\n",
    "from tensorflow.keras.models import Sequential\n",
    "from tensorflow.keras.layers import Dense, Activation\n",
    "from tensorflow.keras.callbacks import EarlyStopping\n",
    "from tensorflow.keras.layers import Input,Flatten,Conv1D,MaxPooling1D\n",
    "from sklearn.metrics import classification_report\n",
    "import warnings\n",
    "warnings.filterwarnings('ignore')\n",
    "import missingno as msno\n",
    "from sklearn.model_selection import train_test_split\n",
    "from sklearn.metrics import accuracy_score\n",
    "from sklearn.metrics import mean_absolute_error , mean_absolute_percentage_error , mean_squared_error\n",
    "from sklearn.metrics import r2_score\n",
    "from sklearn.metrics import confusion_matrix\n",
    "from sklearn.model_selection import cross_val_score\n",
    "from sklearn.metrics import RocCurveDisplay\n",
    "from sklearn.model_selection import RepeatedStratifiedKFold\n",
    "from sklearn.metrics import accuracy_score, precision_score, recall_score, f1_score\n",
    "from sklearn.model_selection import GridSearchCV\n",
    "from sklearn.tree import DecisionTreeClassifier\n",
    "from sklearn.ensemble import RandomForestClassifier\n",
    "from sklearn.naive_bayes import GaussianNB\n",
    "from xgboost import XGBClassifier\n",
    "from sklearn.linear_model import LogisticRegression\n",
    "from sklearn.svm import SVC\n",
    "from sklearn.decomposition import PCA\n",
    "from sklearn.ensemble import GradientBoostingClassifier\n",
    "from sklearn.neighbors import KNeighborsClassifier\n",
    "from keras.layers import LSTM\n",
    "from imblearn.over_sampling import RandomOverSampler\n",
    "from sklearn.preprocessing import MinMaxScaler\n"
   ]
  },
  {
   "cell_type": "markdown",
   "metadata": {},
   "source": [
    "## Random Oversampling with Evaluation\n"
   ]
  },
  {
   "cell_type": "code",
   "execution_count": 2,
   "metadata": {},
   "outputs": [
    {
     "data": {
      "text/html": [
       "<div>\n",
       "<style scoped>\n",
       "    .dataframe tbody tr th:only-of-type {\n",
       "        vertical-align: middle;\n",
       "    }\n",
       "\n",
       "    .dataframe tbody tr th {\n",
       "        vertical-align: top;\n",
       "    }\n",
       "\n",
       "    .dataframe thead th {\n",
       "        text-align: right;\n",
       "    }\n",
       "</style>\n",
       "<table border=\"1\" class=\"dataframe\">\n",
       "  <thead>\n",
       "    <tr style=\"text-align: right;\">\n",
       "      <th></th>\n",
       "      <th>HeartDisease</th>\n",
       "      <th>BMI</th>\n",
       "      <th>Smoking</th>\n",
       "      <th>AlcoholDrinking</th>\n",
       "      <th>Stroke</th>\n",
       "      <th>PhysicalHealth</th>\n",
       "      <th>MentalHealth</th>\n",
       "      <th>DiffWalking</th>\n",
       "      <th>Sex</th>\n",
       "      <th>AgeCategory</th>\n",
       "      <th>Race</th>\n",
       "      <th>Diabetic</th>\n",
       "      <th>PhysicalActivity</th>\n",
       "      <th>GenHealth</th>\n",
       "      <th>SleepTime</th>\n",
       "      <th>Asthma</th>\n",
       "      <th>KidneyDisease</th>\n",
       "      <th>SkinCancer</th>\n",
       "    </tr>\n",
       "  </thead>\n",
       "  <tbody>\n",
       "    <tr>\n",
       "      <th>0</th>\n",
       "      <td>0</td>\n",
       "      <td>16.60</td>\n",
       "      <td>1</td>\n",
       "      <td>0</td>\n",
       "      <td>0</td>\n",
       "      <td>3</td>\n",
       "      <td>30</td>\n",
       "      <td>0</td>\n",
       "      <td>0</td>\n",
       "      <td>8</td>\n",
       "      <td>4</td>\n",
       "      <td>2</td>\n",
       "      <td>1</td>\n",
       "      <td>2</td>\n",
       "      <td>5</td>\n",
       "      <td>1</td>\n",
       "      <td>0</td>\n",
       "      <td>1</td>\n",
       "    </tr>\n",
       "    <tr>\n",
       "      <th>1</th>\n",
       "      <td>0</td>\n",
       "      <td>20.34</td>\n",
       "      <td>0</td>\n",
       "      <td>0</td>\n",
       "      <td>1</td>\n",
       "      <td>0</td>\n",
       "      <td>0</td>\n",
       "      <td>0</td>\n",
       "      <td>0</td>\n",
       "      <td>13</td>\n",
       "      <td>4</td>\n",
       "      <td>0</td>\n",
       "      <td>1</td>\n",
       "      <td>2</td>\n",
       "      <td>7</td>\n",
       "      <td>0</td>\n",
       "      <td>0</td>\n",
       "      <td>0</td>\n",
       "    </tr>\n",
       "    <tr>\n",
       "      <th>2</th>\n",
       "      <td>0</td>\n",
       "      <td>26.58</td>\n",
       "      <td>1</td>\n",
       "      <td>0</td>\n",
       "      <td>0</td>\n",
       "      <td>20</td>\n",
       "      <td>30</td>\n",
       "      <td>0</td>\n",
       "      <td>1</td>\n",
       "      <td>10</td>\n",
       "      <td>4</td>\n",
       "      <td>2</td>\n",
       "      <td>1</td>\n",
       "      <td>4</td>\n",
       "      <td>8</td>\n",
       "      <td>1</td>\n",
       "      <td>0</td>\n",
       "      <td>0</td>\n",
       "    </tr>\n",
       "    <tr>\n",
       "      <th>3</th>\n",
       "      <td>0</td>\n",
       "      <td>24.21</td>\n",
       "      <td>0</td>\n",
       "      <td>0</td>\n",
       "      <td>0</td>\n",
       "      <td>0</td>\n",
       "      <td>0</td>\n",
       "      <td>0</td>\n",
       "      <td>0</td>\n",
       "      <td>12</td>\n",
       "      <td>4</td>\n",
       "      <td>0</td>\n",
       "      <td>0</td>\n",
       "      <td>3</td>\n",
       "      <td>6</td>\n",
       "      <td>0</td>\n",
       "      <td>0</td>\n",
       "      <td>1</td>\n",
       "    </tr>\n",
       "    <tr>\n",
       "      <th>4</th>\n",
       "      <td>0</td>\n",
       "      <td>23.71</td>\n",
       "      <td>0</td>\n",
       "      <td>0</td>\n",
       "      <td>0</td>\n",
       "      <td>28</td>\n",
       "      <td>0</td>\n",
       "      <td>1</td>\n",
       "      <td>0</td>\n",
       "      <td>5</td>\n",
       "      <td>4</td>\n",
       "      <td>0</td>\n",
       "      <td>1</td>\n",
       "      <td>2</td>\n",
       "      <td>8</td>\n",
       "      <td>0</td>\n",
       "      <td>0</td>\n",
       "      <td>0</td>\n",
       "    </tr>\n",
       "  </tbody>\n",
       "</table>\n",
       "</div>"
      ],
      "text/plain": [
       "   HeartDisease    BMI  Smoking  AlcoholDrinking  Stroke  PhysicalHealth  \\\n",
       "0             0  16.60        1                0       0               3   \n",
       "1             0  20.34        0                0       1               0   \n",
       "2             0  26.58        1                0       0              20   \n",
       "3             0  24.21        0                0       0               0   \n",
       "4             0  23.71        0                0       0              28   \n",
       "\n",
       "   MentalHealth  DiffWalking  Sex  AgeCategory  Race  Diabetic  \\\n",
       "0            30            0    0            8     4         2   \n",
       "1             0            0    0           13     4         0   \n",
       "2            30            0    1           10     4         2   \n",
       "3             0            0    0           12     4         0   \n",
       "4             0            1    0            5     4         0   \n",
       "\n",
       "   PhysicalActivity  GenHealth  SleepTime  Asthma  KidneyDisease  SkinCancer  \n",
       "0                 1          2          5       1              0           1  \n",
       "1                 1          2          7       0              0           0  \n",
       "2                 1          4          8       1              0           0  \n",
       "3                 0          3          6       0              0           1  \n",
       "4                 1          2          8       0              0           0  "
      ]
     },
     "execution_count": 2,
     "metadata": {},
     "output_type": "execute_result"
    }
   ],
   "source": [
    "df= pd.read_csv('heart2020python.csv')\n",
    "df.head()"
   ]
  },
  {
   "cell_type": "markdown",
   "metadata": {},
   "source": [
    "## splite data"
   ]
  },
  {
   "cell_type": "code",
   "execution_count": 3,
   "metadata": {},
   "outputs": [
    {
     "data": {
      "text/plain": [
       "HeartDisease\n",
       "0    292422\n",
       "1     27373\n",
       "Name: count, dtype: int64"
      ]
     },
     "execution_count": 3,
     "metadata": {},
     "output_type": "execute_result"
    }
   ],
   "source": [
    "df.drop(['DiffWalking',\"SleepTime\"],axis=1,inplace=True)\n",
    "df.shape\n",
    "df['HeartDisease'].value_counts()"
   ]
  },
  {
   "cell_type": "code",
   "execution_count": 4,
   "metadata": {},
   "outputs": [],
   "source": [
    "x = df.drop([\"HeartDisease\"] , axis = 1).values\n",
    "y = df[\"HeartDisease\"].values"
   ]
  },
  {
   "cell_type": "code",
   "execution_count": 5,
   "metadata": {},
   "outputs": [],
   "source": [
    "\n",
    "ros = RandomOverSampler(random_state=42)\n",
    "x_ros, y_ros = ros.fit_resample(x, y)\n",
    "x_train1, x_test1, y_train1, y_test1 = train_test_split(x_ros, y_ros, test_size=0.25, random_state=42)\n"
   ]
  },
  {
   "cell_type": "code",
   "execution_count": 6,
   "metadata": {},
   "outputs": [],
   "source": [
    "from sklearn.preprocessing import MinMaxScaler\n",
    "scaler = MinMaxScaler()\n",
    "x_train1 = scaler.fit_transform(x_train1)\n",
    "x_test1 = scaler.transform(x_test1)"
   ]
  },
  {
   "cell_type": "markdown",
   "metadata": {},
   "source": [
    "## random forest"
   ]
  },
  {
   "cell_type": "code",
   "execution_count": 7,
   "metadata": {},
   "outputs": [
    {
     "name": "stdout",
     "output_type": "stream",
     "text": [
      "Training Results\n",
      "\n",
      "              precision    recall  f1-score   support\n",
      "\n",
      "           0       0.99      0.97      0.98    219310\n",
      "           1       0.97      0.99      0.98    219323\n",
      "\n",
      "    accuracy                           0.98    438633\n",
      "   macro avg       0.98      0.98      0.98    438633\n",
      "weighted avg       0.98      0.98      0.98    438633\n",
      "\n",
      "Test Results\n",
      "\n",
      "              precision    recall  f1-score   support\n",
      "\n",
      "           0       0.99      0.91      0.95     73112\n",
      "           1       0.91      0.99      0.95     73099\n",
      "\n",
      "    accuracy                           0.95    146211\n",
      "   macro avg       0.95      0.95      0.95    146211\n",
      "weighted avg       0.95      0.95      0.95    146211\n",
      "\n",
      "Confusion Matrix:\n",
      " [[66327  6785]\n",
      " [  820 72279]]\n",
      "Cross-validation scores: [0.93971069 0.94148894 0.93952831 0.94010898 0.94053074]\n",
      "Average cross-validation score: 0.9402735318424638\n"
     ]
    }
   ],
   "source": [
    "\n",
    "\n",
    "\n",
    "\n",
    "# # Inicjalizacja modelu z domyślnymi parametrami\n",
    "# rf = RandomForestClassifier()\n",
    "\n",
    "# # Określenie siatki parametrów do przetestowania\n",
    "# param_grid = {\n",
    "#     'n_estimators': [100, 200, 300],  # Liczba drzew\n",
    "#     'max_depth': [10, 20, 30],        # Maksymalna głębokość drzewa\n",
    "#     'min_samples_split': [2, 4, 6],   # Minimalna liczba próbek wymagana do podziału węzła\n",
    "#     'min_samples_leaf': [1, 2, 4],    # Minimalna liczba próbek wymagana w liściu\n",
    "#     'max_features': ['auto', 'sqrt']  # Liczba cech do rozważenia przy każdym podziale\n",
    "# }\n",
    "\n",
    "# # Utworzenie obiektu GridSearchCV\n",
    "# cv_rf = GridSearchCV(estimator=rf, param_grid=param_grid, cv=5, scoring='accuracy')\n",
    "\n",
    "# # Przeszukiwanie siatki parametrów\n",
    "# cv_rf.fit(x_train1, y_train1)\n",
    "\n",
    "# # Najlepszy zestaw parametrów\n",
    "# print(\"Najlepsze parametry: \", cv_rf.best_params_)\n",
    "\n",
    "# # Najlepszy estimator\n",
    "# best_rf = cv_rf.best_estimator_\n",
    "\n",
    "params = {\n",
    "    'n_estimators': 300,\n",
    "    'max_depth': 30,\n",
    "    'min_samples_split': 2,\n",
    "    'min_samples_leaf': 1,\n",
    "    'max_features': 'sqrt'\n",
    "}\n",
    "\n",
    "rf_clf = RandomForestClassifier(\n",
    "    n_estimators=params['n_estimators'],\n",
    "    max_depth=params['max_depth'],\n",
    "    min_samples_split=params['min_samples_split'],\n",
    "    min_samples_leaf=params['min_samples_leaf'],\n",
    "    max_features=params['max_features'])\n",
    "rf_clf.fit(x_train1, y_train1)\n",
    "\n",
    "# Predykcje i ocena modelu\n",
    "ypred_train = rf_clf.predict(x_train1)\n",
    "ypred_test = rf_clf.predict(x_test1)\n",
    "\n",
    "print(\"Training Results\\n\")\n",
    "print(classification_report(y_train1, ypred_train))\n",
    "print(\"Test Results\\n\")\n",
    "print(classification_report(y_test1, ypred_test))\n",
    "\n",
    "# Macierz pomyłek\n",
    "conf_matrix = confusion_matrix(y_test1, ypred_test)\n",
    "print(\"Confusion Matrix:\\n\", conf_matrix)\n",
    "\n",
    "# Ocena modelu za pomocą walidacji krzyżowej\n",
    "cross_val_scores = cross_val_score(rf_clf, x_train1, y_train1, cv=5)\n",
    "print(\"Cross-validation scores:\", cross_val_scores)\n",
    "print(\"Average cross-validation score:\", np.mean(cross_val_scores))"
   ]
  },
  {
   "cell_type": "code",
   "execution_count": 8,
   "metadata": {},
   "outputs": [
    {
     "data": {
      "image/png": "[encoded data removed]",
      "text/plain": [
       "<Figure size 640x480 with 1 Axes>"
      ]
     },
     "metadata": {},
     "output_type": "display_data"
    }
   ],
   "source": [
    "\n",
    "y_proba_test = rf_clf.predict_proba(x_test1)[:, 1]\n",
    "\n",
    "fpr, tpr, thresholds = roc_curve(y_test1, y_proba_test)\n",
    "\n",
    "plt.plot(fpr, tpr, label='ROC Curve')\n",
    "plt.xlabel('False Positive Rate')\n",
    "plt.ylabel('True Positive Rate')\n",
    "plt.title('ROC Curve with AUC = {:.2f}'.format(roc_auc_score(y_test1, y_proba_test)))\n",
    "plt.legend(loc='lower right')\n",
    "plt.grid(True)\n",
    "plt.show()"
   ]
  },
  {
   "cell_type": "markdown",
   "metadata": {},
   "source": [
    "## DECISION TREE CLASSIFIER"
   ]
  },
  {
   "cell_type": "code",
   "execution_count": 9,
   "metadata": {},
   "outputs": [
    {
     "name": "stdout",
     "output_type": "stream",
     "text": [
      "Training Results\n",
      "\n",
      "              precision    recall  f1-score   support\n",
      "\n",
      "           0       1.00      0.98      0.99    219310\n",
      "           1       0.98      1.00      0.99    219323\n",
      "\n",
      "    accuracy                           0.99    438633\n",
      "   macro avg       0.99      0.99      0.99    438633\n",
      "weighted avg       0.99      0.99      0.99    438633\n",
      "\n",
      "Testing Results\n",
      "\n",
      "              precision    recall  f1-score   support\n",
      "\n",
      "           0       0.99      0.90      0.94     73112\n",
      "           1       0.91      0.99      0.95     73099\n",
      "\n",
      "    accuracy                           0.95    146211\n",
      "   macro avg       0.95      0.95      0.95    146211\n",
      "weighted avg       0.95      0.95      0.95    146211\n",
      "\n",
      "Cross-Validation Scores for the Best Model: [0.93779566 0.93804644 0.9373055  0.93784055 0.93855869]\n",
      "Average Cross-Validation Score: 0.9379093697476104\n"
     ]
    }
   ],
   "source": [
    "\n",
    "# param_grid = {\n",
    "#     'max_depth': [3, 5, 10, None],\n",
    "#     'min_samples_split': [2, 5, 10],\n",
    "#     'min_samples_leaf': [1, 2, 5],\n",
    "#     'criterion': ['gini', 'entropy']\n",
    "# }\n",
    "\n",
    "# # Utworzenie modelu drzewa decyzyjnego\n",
    "# tree = DecisionTreeClassifier()\n",
    "\n",
    "# # Uruchomienie Grid Search z walidacją krzyżową\n",
    "# grid_search = GridSearchCV(tree, param_grid, cv=5, scoring='accuracy')\n",
    "# grid_search.fit(x_train1, y_train1)\n",
    "\n",
    "# # Wyświetlenie najlepszych parametrów i wyników\n",
    "# print(\"Najlepsze parametry:\", grid_search.best_params_)\n",
    "# print(\"Najlepsza dokładność:\", grid_search.best_score_)\n",
    "\n",
    "# # Utworzenie i ocena modelu z najlepszymi parametrami\n",
    "# best_tree = grid_search.best_estimator_\n",
    "# best_tree.fit(x_train1, y_train1)\n",
    "\n",
    "params = {\n",
    "    'max_depth': None,\n",
    "    'min_samples_split': 2,\n",
    "    'min_samples_leaf': 1,\n",
    "    'criterion': 'gini'\n",
    "}\n",
    "\n",
    "best_tree = DecisionTreeClassifier(\n",
    "    max_depth=params['max_depth'],\n",
    "    min_samples_split=params['min_samples_split'],\n",
    "    min_samples_leaf=params['min_samples_leaf'],\n",
    "    criterion=params['criterion'])\n",
    "best_tree.fit(x_train1, y_train1)\n",
    "\n",
    "ypred_train2 = best_tree.predict(x_train1)\n",
    "ypred_test2 = best_tree.predict(x_test1)\n",
    "\n",
    "# Ocena modelu na zbiorze testowym\n",
    "\n",
    "print(\"Training Results\\n\")\n",
    "print(classification_report(y_train1, ypred_train2))\n",
    "print('Testing Results\\n')\n",
    "print(classification_report(y_test1, ypred_test2))\n",
    "\n",
    "# Dodatkowo: Walidacja krzyżowa dla najlepszego modelu na całym zbiorze danych\n",
    "cross_val_scores = cross_val_score(best_tree, x_train1, y_train1, cv=5)\n",
    "print(\"Cross-Validation Scores for the Best Model:\", cross_val_scores)\n",
    "print(\"Average Cross-Validation Score:\", cross_val_scores.mean())"
   ]
  },
  {
   "cell_type": "code",
   "execution_count": 10,
   "metadata": {},
   "outputs": [
    {
     "data": {
      "image/png": "[encoded data removed]",
      "text/plain": [
       "<Figure size 640x480 with 1 Axes>"
      ]
     },
     "metadata": {},
     "output_type": "display_data"
    }
   ],
   "source": [
    "\n",
    "y_proba_test = best_tree.predict_proba(x_test1)[:, 1]\n",
    "\n",
    "fpr, tpr, thresholds = roc_curve(y_test1, y_proba_test)\n",
    "\n",
    "plt.plot(fpr, tpr, label='ROC Curve')\n",
    "plt.xlabel('False Positive Rate')\n",
    "plt.ylabel('True Positive Rate')\n",
    "plt.title('ROC Curve with AUC = {:.2f}'.format(roc_auc_score(y_test1, y_proba_test)))\n",
    "plt.legend(loc='lower right')\n",
    "plt.grid(True)\n",
    "plt.show()"
   ]
  },
  {
   "cell_type": "markdown",
   "metadata": {},
   "source": [
    "## Naive Bayes"
   ]
  },
  {
   "cell_type": "code",
   "execution_count": 11,
   "metadata": {},
   "outputs": [
    {
     "name": "stdout",
     "output_type": "stream",
     "text": [
      "Naive Bayes Classifier Accuracy:  0.7070877020196839\n"
     ]
    }
   ],
   "source": [
    "Gnb = GaussianNB()\n",
    "Gnb.fit(x_train1, y_train1)\n",
    "ypred_train3 = Gnb.predict(x_train1)\n",
    "y_pred_test3 = Gnb.predict(x_test1)\n",
    "\n",
    "print(\"Naive Bayes Classifier Accuracy: \",accuracy_score(y_test1, y_pred_test3))"
   ]
  },
  {
   "cell_type": "code",
   "execution_count": 12,
   "metadata": {},
   "outputs": [
    {
     "name": "stdout",
     "output_type": "stream",
     "text": [
      "Testing Results\n",
      "\n",
      "              precision    recall  f1-score   support\n",
      "\n",
      "           0       0.67      0.82      0.74    219310\n",
      "           1       0.77      0.60      0.67    219323\n",
      "\n",
      "    accuracy                           0.71    438633\n",
      "   macro avg       0.72      0.71      0.71    438633\n",
      "weighted avg       0.72      0.71      0.71    438633\n",
      "\n"
     ]
    }
   ],
   "source": [
    "print('Testing Results\\n')\n",
    "print(classification_report(y_train1, ypred_train3))"
   ]
  },
  {
   "cell_type": "code",
   "execution_count": 13,
   "metadata": {},
   "outputs": [
    {
     "name": "stdout",
     "output_type": "stream",
     "text": [
      "Testing Results\n",
      "\n",
      "              precision    recall  f1-score   support\n",
      "\n",
      "           0       0.67      0.82      0.74     73112\n",
      "           1       0.77      0.60      0.67     73099\n",
      "\n",
      "    accuracy                           0.71    146211\n",
      "   macro avg       0.72      0.71      0.70    146211\n",
      "weighted avg       0.72      0.71      0.70    146211\n",
      "\n"
     ]
    }
   ],
   "source": [
    "print('Testing Results\\n')\n",
    "print(classification_report(y_test1, y_pred_test3))"
   ]
  },
  {
   "cell_type": "code",
   "execution_count": 14,
   "metadata": {},
   "outputs": [
    {
     "name": "stdout",
     "output_type": "stream",
     "text": [
      "Cross-Validation Scores for the Best Model: [0.70796904 0.70888096 0.70794624 0.709459   0.7094248 ]\n",
      "Average Cross-Validation Score: 0.7087360080335524\n"
     ]
    },
    {
     "data": {
      "image/png": "[encoded data removed]",
      "text/plain": [
       "<Figure size 640x480 with 1 Axes>"
      ]
     },
     "metadata": {},
     "output_type": "display_data"
    }
   ],
   "source": [
    "cross_val_scores = cross_val_score(Gnb, x_train1, y_train1, cv=5)\n",
    "print(\"Cross-Validation Scores for the Best Model:\", cross_val_scores)\n",
    "print(\"Average Cross-Validation Score:\", cross_val_scores.mean())\n",
    "\n",
    "y_proba_test = Gnb.predict_proba(x_test1)[:, 1]\n",
    "\n",
    "fpr, tpr, thresholds = roc_curve(y_test1, y_proba_test)\n",
    "\n",
    "plt.plot(fpr, tpr, label='ROC Curve')\n",
    "plt.xlabel('False Positive Rate')\n",
    "plt.ylabel('True Positive Rate')\n",
    "plt.title('ROC Curve with AUC = {:.2f}'.format(roc_auc_score(y_test1, y_proba_test)))\n",
    "plt.legend(loc='lower right')\n",
    "plt.grid(True)\n",
    "plt.show()"
   ]
  },
  {
   "cell_type": "markdown",
   "metadata": {},
   "source": [
    "## XGBOSST\n"
   ]
  },
  {
   "cell_type": "code",
   "execution_count": 15,
   "metadata": {},
   "outputs": [
    {
     "name": "stdout",
     "output_type": "stream",
     "text": [
      "Accuracy on Training set:  0.8156043890906521\n",
      "Accuracy on Test set:  0.8041939388965262\n",
      "\n",
      "Training Results\n",
      "\n",
      "              precision    recall  f1-score   support\n",
      "\n",
      "           0       0.85      0.77      0.81    219310\n",
      "           1       0.79      0.86      0.82    219323\n",
      "\n",
      "    accuracy                           0.82    438633\n",
      "   macro avg       0.82      0.82      0.82    438633\n",
      "weighted avg       0.82      0.82      0.82    438633\n",
      "\n",
      "Testing Results\n",
      "\n",
      "              precision    recall  f1-score   support\n",
      "\n",
      "           0       0.83      0.76      0.80     73112\n",
      "           1       0.78      0.85      0.81     73099\n",
      "\n",
      "    accuracy                           0.80    146211\n",
      "   macro avg       0.81      0.80      0.80    146211\n",
      "weighted avg       0.81      0.80      0.80    146211\n",
      "\n",
      "Cross-Validation Scores for the Best Model: [0.80353825 0.80424499 0.80342426 0.8023277  0.80477851]\n",
      "Average Cross-Validation Score: 0.8036627426133736\n"
     ]
    },
    {
     "data": {
      "image/png": "[encoded data removed]",
      "text/plain": [
       "<Figure size 640x480 with 1 Axes>"
      ]
     },
     "metadata": {},
     "output_type": "display_data"
    }
   ],
   "source": [
    "\n",
    "\n",
    "\n",
    "\n",
    "# # Inicjalizacja modelu XGBoost\n",
    "# xg = XGBClassifier()\n",
    "\n",
    "# # Definiowanie siatki hiperparametrów do przetestowania\n",
    "# param_grid = {\n",
    "#     'n_estimators': [50, 100, 200],\n",
    "#     'max_depth': [3, 5, 7],\n",
    "#     'learning_rate': [0.01, 0.1, 0.2],\n",
    "#     'subsample': [0.7, 0.8, 0.9],\n",
    "#     'colsample_bytree': [0.7, 0.8, 0.9]\n",
    "# }\n",
    "\n",
    "# # Utworzenie obiektu GridSearchCV\n",
    "# grid_search = GridSearchCV(estimator=xg, param_grid=param_grid, cv=3, scoring='accuracy')\n",
    "\n",
    "# # Przeszukiwanie siatki parametrów\n",
    "# grid_search.fit(x_train1, y_train1)\n",
    "\n",
    "# # Najlepsze parametry i najlepszy model\n",
    "# print(\"Najlepsze parametry: \", grid_search.best_params_)\n",
    "# best_xg = grid_search.best_estimator_\n",
    "\n",
    "params = {\n",
    "    'n_estimators': 200,\n",
    "    'max_depth': 7,\n",
    "    'learning_rate': 0.2,\n",
    "    'subsample': 0.7,\n",
    "    'colsample_bytree': 0.9\n",
    "}\n",
    "\n",
    "best_xg = XGBClassifier(\n",
    "    n_estimators=params['n_estimators'],\n",
    "    max_depth=params['max_depth'],\n",
    "    learning_rate=params['learning_rate'],\n",
    "    subsample=params['subsample'],\n",
    "    colsample_bytree=params['colsample_bytree'])\n",
    "best_xg.fit(x_train1, y_train1)\n",
    "\n",
    "# Predykcje na zbiorze treningowym i testowym\n",
    "ypred_train4 = best_xg.predict(x_train1)\n",
    "y_pred_test4 = best_xg.predict(x_test1)\n",
    "\n",
    "# Ocena modelu\n",
    "print(\"Accuracy on Training set: \", accuracy_score(y_train1, ypred_train4))\n",
    "print(\"Accuracy on Test set: \", accuracy_score(y_test1, y_pred_test4))\n",
    "print(\"\\nTraining Results\\n\")\n",
    "print(classification_report(y_train1, ypred_train4))\n",
    "print('Testing Results\\n')\n",
    "print(classification_report(y_test1, y_pred_test4))\n",
    "\n",
    "cross_val_scores = cross_val_score(best_xg, x_train1, y_train1, cv=5)\n",
    "print(\"Cross-Validation Scores for the Best Model:\", cross_val_scores)\n",
    "print(\"Average Cross-Validation Score:\", cross_val_scores.mean())\n",
    "\n",
    "# Krzywa ROC\n",
    "y_proba_test4 = best_xg.predict_proba(x_test1)[:, 1]\n",
    "fpr, tpr, thresholds = roc_curve(y_test1, y_proba_test4)\n",
    "plt.plot(fpr, tpr)\n",
    "plt.title(\"ROC Curve with AUC = {:.2f}\".format(roc_auc_score(y_test1, y_proba_test4)))\n",
    "plt.show()"
   ]
  },
  {
   "cell_type": "markdown",
   "metadata": {},
   "source": [
    "## logistic regression"
   ]
  },
  {
   "cell_type": "code",
   "execution_count": 16,
   "metadata": {},
   "outputs": [
    {
     "name": "stdout",
     "output_type": "stream",
     "text": [
      "Accuracy on Training set:  0.7634446108705911\n",
      "Accuracy on Test set:  0.7616595194616\n",
      "\n",
      "Training Results\n",
      "\n",
      "              precision    recall  f1-score   support\n",
      "\n",
      "           0       0.77      0.75      0.76    219310\n",
      "           1       0.75      0.78      0.77    219323\n",
      "\n",
      "    accuracy                           0.76    438633\n",
      "   macro avg       0.76      0.76      0.76    438633\n",
      "weighted avg       0.76      0.76      0.76    438633\n",
      "\n",
      "Testing Results\n",
      "\n",
      "              precision    recall  f1-score   support\n",
      "\n",
      "           0       0.77      0.75      0.76     73112\n",
      "           1       0.75      0.78      0.76     73099\n",
      "\n",
      "    accuracy                           0.76    146211\n",
      "   macro avg       0.76      0.76      0.76    146211\n",
      "weighted avg       0.76      0.76      0.76    146211\n",
      "\n",
      "Cross-Validation Scores for the Best Model: [0.76514642 0.76348217 0.76185211 0.76215717 0.76408362]\n",
      "Average Cross-Validation Score: 0.7633442981996312\n"
     ]
    },
    {
     "data": {
      "image/png": "[encoded data removed]",
      "text/plain": [
       "<Figure size 640x480 with 1 Axes>"
      ]
     },
     "metadata": {},
     "output_type": "display_data"
    }
   ],
   "source": [
    "\n",
    "\n",
    "# # Inicjalizacja modelu regresji logistycznej\n",
    "# lg = LogisticRegression()\n",
    "\n",
    "# # Definiowanie siatki hiperparametrów do przetestowania\n",
    "# param_grid = {\n",
    "#     'C': [0.01, 0.1, 1, 10, 100],  # Parametr regularyzacji\n",
    "#     'penalty': ['l1', 'l2'],       # Typ regularyzacji\n",
    "#     'solver': ['liblinear']        # Algorytm optymalizacji (liblinear jest dobrym wyborem dla małych zbiorów danych)\n",
    "# }\n",
    "\n",
    "# # Utworzenie obiektu GridSearchCV\n",
    "# grid_search = GridSearchCV(estimator=lg, param_grid=param_grid, cv=5, scoring='accuracy')\n",
    "\n",
    "# # Przeszukiwanie siatki parametrów\n",
    "# grid_search.fit(x_train1, y_train1)\n",
    "\n",
    "# # Najlepsze parametry i najlepszy model\n",
    "# print(\"Najlepsze parametry: \", grid_search.best_params_)\n",
    "# best_lg = grid_search.best_estimator_\n",
    "\n",
    "params = {\n",
    "    'C': 0.1,\n",
    "    'penalty': 'l2',\n",
    "    'solver': 'liblinear'\n",
    "}\n",
    "\n",
    "best_lg = LogisticRegression(\n",
    "    C=params['C'],\n",
    "    penalty=params['penalty'],\n",
    "    solver=params['solver'])\n",
    "best_lg.fit(x_train1, y_train1)\n",
    "\n",
    "# Predykcje na zbiorze treningowym i testowym\n",
    "ypred_train4 = best_lg.predict(x_train1)\n",
    "y_pred_test4 = best_lg.predict(x_test1)\n",
    "\n",
    "# Ocena modelu\n",
    "print(\"Accuracy on Training set: \", accuracy_score(y_train1, ypred_train4))\n",
    "print(\"Accuracy on Test set: \", accuracy_score(y_test1, y_pred_test4))\n",
    "print(\"\\nTraining Results\\n\")\n",
    "print(classification_report(y_train1, ypred_train4))\n",
    "print('Testing Results\\n')\n",
    "print(classification_report(y_test1, y_pred_test4))\n",
    "\n",
    "cross_val_scores = cross_val_score(best_lg, x_train1, y_train1, cv=5)\n",
    "print(\"Cross-Validation Scores for the Best Model:\", cross_val_scores)\n",
    "print(\"Average Cross-Validation Score:\", cross_val_scores.mean())\n",
    "\n",
    "\n",
    "# Krzywa ROC\n",
    "y_proba_test4 = best_lg.predict_proba(x_test1)[:, 1]\n",
    "fpr, tpr, thresholds = roc_curve(y_test1, y_proba_test4)\n",
    "plt.plot(fpr, tpr)\n",
    "plt.title(\"ROC Curve with AUC = {:.2f}\".format(roc_auc_score(y_test1, y_proba_test4)))\n",
    "plt.show()"
   ]
  },
  {
   "cell_type": "markdown",
   "metadata": {},
   "source": [
    "## GradientBoostingClassifier"
   ]
  },
  {
   "cell_type": "code",
   "execution_count": 17,
   "metadata": {},
   "outputs": [
    {
     "name": "stdout",
     "output_type": "stream",
     "text": [
      "Accuracy on Training set:  0.8358445443001324\n",
      "Accuracy on Test set:  0.8197468042760121\n",
      "\n",
      "Training Results\n",
      "\n",
      "              precision    recall  f1-score   support\n",
      "\n",
      "           0       0.87      0.80      0.83    219310\n",
      "           1       0.81      0.88      0.84    219323\n",
      "\n",
      "    accuracy                           0.84    438633\n",
      "   macro avg       0.84      0.84      0.84    438633\n",
      "weighted avg       0.84      0.84      0.84    438633\n",
      "\n",
      "Testing Results\n",
      "\n",
      "              precision    recall  f1-score   support\n",
      "\n",
      "           0       0.85      0.77      0.81     73112\n",
      "           1       0.79      0.87      0.83     73099\n",
      "\n",
      "    accuracy                           0.82    146211\n",
      "   macro avg       0.82      0.82      0.82    146211\n",
      "weighted avg       0.82      0.82      0.82    146211\n",
      "\n",
      "Cross-Validation Scores for the Best Model: [0.81985022 0.82070514 0.81864192 0.81889064 0.81967718]\n",
      "Average Cross-Validation Score: 0.8195530191795306\n"
     ]
    },
    {
     "data": {
      "image/png": "[encoded data removed]",
      "text/plain": [
       "<Figure size 640x480 with 1 Axes>"
      ]
     },
     "metadata": {},
     "output_type": "display_data"
    }
   ],
   "source": [
    "\n",
    "\n",
    "# # Inicjalizacja modelu Gradient Boosting Classifier\n",
    "# gb = GradientBoostingClassifier()\n",
    "\n",
    "# # Definiowanie siatki hiperparametrów do przetestowania\n",
    "# param_grid = {\n",
    "#     'n_estimators': [100, 200, 300],  # Liczba drzew w ensemble\n",
    "#     'learning_rate': [0.01, 0.1, 0.2], # Szybkość uczenia\n",
    "#     'max_depth': [3, 5, 7],            # Maksymalna głębokość drzewa\n",
    "#     'min_samples_split': [2, 4],       # Minimalna liczba próbek wymagana do podziału węzła\n",
    "#     'min_samples_leaf': [1, 2]         # Minimalna liczba próbek w liściu\n",
    "# }\n",
    "\n",
    "# # Utworzenie obiektu GridSearchCV\n",
    "# grid_search = GridSearchCV(estimator=gb, param_grid=param_grid, cv=5, scoring='accuracy')\n",
    "\n",
    "# # Przeszukiwanie siatki parametrów\n",
    "# grid_search.fit(x_train1, y_train1)\n",
    "\n",
    "# # Najlepsze parametry i najlepszy model\n",
    "# print(\"Najlepsze parametry: \", grid_search.best_params_)\n",
    "# best_gb = grid_search.best_estimator_\n",
    "\n",
    "params = {\n",
    "    'n_estimators': 300,\n",
    "    'learning_rate': 0.2,\n",
    "    'max_depth': 7,\n",
    "    'min_samples_split': 2,\n",
    "    'min_samples_leaf': 1\n",
    "}\n",
    "\n",
    "best_gb = GradientBoostingClassifier(\n",
    "    n_estimators=params['n_estimators'],\n",
    "    learning_rate=params['learning_rate'],\n",
    "    max_depth=params['max_depth'],\n",
    "    min_samples_split=params['min_samples_split'],\n",
    "    min_samples_leaf=params['min_samples_leaf'])\n",
    "best_gb.fit(x_train1, y_train1)\n",
    "\n",
    "# Predykcje na zbiorze treningowym i testowym\n",
    "ypred_train6 = best_gb.predict(x_train1)\n",
    "y_pred_test6 = best_gb.predict(x_test1)\n",
    "\n",
    "# Ocena modelu\n",
    "print(\"Accuracy on Training set: \", accuracy_score(y_train1, ypred_train6))\n",
    "print(\"Accuracy on Test set: \", accuracy_score(y_test1, y_pred_test6))\n",
    "print(\"\\nTraining Results\\n\")\n",
    "print(classification_report(y_train1, ypred_train6))\n",
    "print('Testing Results\\n')\n",
    "print(classification_report(y_test1, y_pred_test6))\n",
    "\n",
    "cross_val_scores = cross_val_score(best_gb, x_train1, y_train1, cv=5)\n",
    "print(\"Cross-Validation Scores for the Best Model:\", cross_val_scores)\n",
    "print(\"Average Cross-Validation Score:\", cross_val_scores.mean())\n",
    "\n",
    "# Krzywa ROC\n",
    "y_proba_test6 = best_gb.predict_proba(x_test1)[:, 1]\n",
    "fpr, tpr, thresholds = roc_curve(y_test1, y_proba_test6)\n",
    "plt.plot(fpr, tpr)\n",
    "plt.title(\"ROC Curve with AUC = {:.2f}\".format(roc_auc_score(y_test1, y_proba_test6)))\n",
    "plt.show()"
   ]
  },
  {
   "cell_type": "markdown",
   "metadata": {},
   "source": [
    "## KNN"
   ]
  },
  {
   "cell_type": "code",
   "execution_count": 18,
   "metadata": {},
   "outputs": [
    {
     "data": {
      "text/html": [
       "<style>#sk-container-id-1 {color: black;}#sk-container-id-1 pre{padding: 0;}#sk-container-id-1 div.sk-toggleable {background-color: white;}#sk-container-id-1 label.sk-toggleable__label {cursor: pointer;display: block;width: 100%;margin-bottom: 0;padding: 0.3em;box-sizing: border-box;text-align: center;}#sk-container-id-1 label.sk-toggleable__label-arrow:before {content: \"▸\";float: left;margin-right: 0.25em;color: #696969;}#sk-container-id-1 label.sk-toggleable__label-arrow:hover:before {color: black;}#sk-container-id-1 div.sk-estimator:hover label.sk-toggleable__label-arrow:before {color: black;}#sk-container-id-1 div.sk-toggleable__content {max-height: 0;max-width: 0;overflow: hidden;text-align: left;background-color: #f0f8ff;}#sk-container-id-1 div.sk-toggleable__content pre {margin: 0.2em;color: black;border-radius: 0.25em;background-color: #f0f8ff;}#sk-container-id-1 input.sk-toggleable__control:checked~div.sk-toggleable__content {max-height: 200px;max-width: 100%;overflow: auto;}#sk-container-id-1 input.sk-toggleable__control:checked~label.sk-toggleable__label-arrow:before {content: \"▾\";}#sk-container-id-1 div.sk-estimator input.sk-toggleable__control:checked~label.sk-toggleable__label {background-color: #d4ebff;}#sk-container-id-1 div.sk-label input.sk-toggleable__control:checked~label.sk-toggleable__label {background-color: #d4ebff;}#sk-container-id-1 input.sk-hidden--visually {border: 0;clip: rect(1px 1px 1px 1px);clip: rect(1px, 1px, 1px, 1px);height: 1px;margin: -1px;overflow: hidden;padding: 0;position: absolute;width: 1px;}#sk-container-id-1 div.sk-estimator {font-family: monospace;background-color: #f0f8ff;border: 1px dotted black;border-radius: 0.25em;box-sizing: border-box;margin-bottom: 0.5em;}#sk-container-id-1 div.sk-estimator:hover {background-color: #d4ebff;}#sk-container-id-1 div.sk-parallel-item::after {content: \"\";width: 100%;border-bottom: 1px solid gray;flex-grow: 1;}#sk-container-id-1 div.sk-label:hover label.sk-toggleable__label {background-color: #d4ebff;}#sk-container-id-1 div.sk-serial::before {content: \"\";position: absolute;border-left: 1px solid gray;box-sizing: border-box;top: 0;bottom: 0;left: 50%;z-index: 0;}#sk-container-id-1 div.sk-serial {display: flex;flex-direction: column;align-items: center;background-color: white;padding-right: 0.2em;padding-left: 0.2em;position: relative;}#sk-container-id-1 div.sk-item {position: relative;z-index: 1;}#sk-container-id-1 div.sk-parallel {display: flex;align-items: stretch;justify-content: center;background-color: white;position: relative;}#sk-container-id-1 div.sk-item::before, #sk-container-id-1 div.sk-parallel-item::before {content: \"\";position: absolute;border-left: 1px solid gray;box-sizing: border-box;top: 0;bottom: 0;left: 50%;z-index: -1;}#sk-container-id-1 div.sk-parallel-item {display: flex;flex-direction: column;z-index: 1;position: relative;background-color: white;}#sk-container-id-1 div.sk-parallel-item:first-child::after {align-self: flex-end;width: 50%;}#sk-container-id-1 div.sk-parallel-item:last-child::after {align-self: flex-start;width: 50%;}#sk-container-id-1 div.sk-parallel-item:only-child::after {width: 0;}#sk-container-id-1 div.sk-dashed-wrapped {border: 1px dashed gray;margin: 0 0.4em 0.5em 0.4em;box-sizing: border-box;padding-bottom: 0.4em;background-color: white;}#sk-container-id-1 div.sk-label label {font-family: monospace;font-weight: bold;display: inline-block;line-height: 1.2em;}#sk-container-id-1 div.sk-label-container {text-align: center;}#sk-container-id-1 div.sk-container {/* jupyter's `normalize.less` sets `[hidden] { display: none; }` but bootstrap.min.css set `[hidden] { display: none !important; }` so we also need the `!important` here to be able to override the default hidden behavior on the sphinx rendered scikit-learn.org. See: https://github.com/scikit-learn/scikit-learn/issues/21755 */display: inline-block !important;position: relative;}#sk-container-id-1 div.sk-text-repr-fallback {display: none;}</style><div id=\"sk-container-id-1\" class=\"sk-top-container\"><div class=\"sk-text-repr-fallback\"><pre>KNeighborsClassifier()</pre><b>In a Jupyter environment, please rerun this cell to show the HTML representation or trust the notebook. <br />On GitHub, the HTML representation is unable to render, please try loading this page with nbviewer.org.</b></div><div class=\"sk-container\" hidden><div class=\"sk-item\"><div class=\"sk-estimator sk-toggleable\"><input class=\"sk-toggleable__control sk-hidden--visually\" id=\"sk-estimator-id-1\" type=\"checkbox\" checked><label for=\"sk-estimator-id-1\" class=\"sk-toggleable__label sk-toggleable__label-arrow\">KNeighborsClassifier</label><div class=\"sk-toggleable__content\"><pre>KNeighborsClassifier()</pre></div></div></div></div></div>"
      ],
      "text/plain": [
       "KNeighborsClassifier()"
      ]
     },
     "execution_count": 18,
     "metadata": {},
     "output_type": "execute_result"
    }
   ],
   "source": [
    "knn = KNeighborsClassifier()\n",
    "knn.fit(x_train1, y_train1)"
   ]
  },
  {
   "cell_type": "code",
   "execution_count": 19,
   "metadata": {},
   "outputs": [],
   "source": [
    "grid_cv = GridSearchCV(KNeighborsClassifier(), \n",
    "                       param_grid={\n",
    "                           \"n_neighbors\": range(1, 50)\n",
    "                       }, cv=5, scoring=\"f1\", \n",
    "                       verbose=1, n_jobs=6)"
   ]
  },
  {
   "cell_type": "code",
   "execution_count": 20,
   "metadata": {},
   "outputs": [
    {
     "name": "stdout",
     "output_type": "stream",
     "text": [
      "Fitting 5 folds for each of 49 candidates, totalling 245 fits\n"
     ]
    },
    {
     "data": {
      "text/html": [
       "<style>#sk-container-id-2 {color: black;}#sk-container-id-2 pre{padding: 0;}#sk-container-id-2 div.sk-toggleable {background-color: white;}#sk-container-id-2 label.sk-toggleable__label {cursor: pointer;display: block;width: 100%;margin-bottom: 0;padding: 0.3em;box-sizing: border-box;text-align: center;}#sk-container-id-2 label.sk-toggleable__label-arrow:before {content: \"▸\";float: left;margin-right: 0.25em;color: #696969;}#sk-container-id-2 label.sk-toggleable__label-arrow:hover:before {color: black;}#sk-container-id-2 div.sk-estimator:hover label.sk-toggleable__label-arrow:before {color: black;}#sk-container-id-2 div.sk-toggleable__content {max-height: 0;max-width: 0;overflow: hidden;text-align: left;background-color: #f0f8ff;}#sk-container-id-2 div.sk-toggleable__content pre {margin: 0.2em;color: black;border-radius: 0.25em;background-color: #f0f8ff;}#sk-container-id-2 input.sk-toggleable__control:checked~div.sk-toggleable__content {max-height: 200px;max-width: 100%;overflow: auto;}#sk-container-id-2 input.sk-toggleable__control:checked~label.sk-toggleable__label-arrow:before {content: \"▾\";}#sk-container-id-2 div.sk-estimator input.sk-toggleable__control:checked~label.sk-toggleable__label {background-color: #d4ebff;}#sk-container-id-2 div.sk-label input.sk-toggleable__control:checked~label.sk-toggleable__label {background-color: #d4ebff;}#sk-container-id-2 input.sk-hidden--visually {border: 0;clip: rect(1px 1px 1px 1px);clip: rect(1px, 1px, 1px, 1px);height: 1px;margin: -1px;overflow: hidden;padding: 0;position: absolute;width: 1px;}#sk-container-id-2 div.sk-estimator {font-family: monospace;background-color: #f0f8ff;border: 1px dotted black;border-radius: 0.25em;box-sizing: border-box;margin-bottom: 0.5em;}#sk-container-id-2 div.sk-estimator:hover {background-color: #d4ebff;}#sk-container-id-2 div.sk-parallel-item::after {content: \"\";width: 100%;border-bottom: 1px solid gray;flex-grow: 1;}#sk-container-id-2 div.sk-label:hover label.sk-toggleable__label {background-color: #d4ebff;}#sk-container-id-2 div.sk-serial::before {content: \"\";position: absolute;border-left: 1px solid gray;box-sizing: border-box;top: 0;bottom: 0;left: 50%;z-index: 0;}#sk-container-id-2 div.sk-serial {display: flex;flex-direction: column;align-items: center;background-color: white;padding-right: 0.2em;padding-left: 0.2em;position: relative;}#sk-container-id-2 div.sk-item {position: relative;z-index: 1;}#sk-container-id-2 div.sk-parallel {display: flex;align-items: stretch;justify-content: center;background-color: white;position: relative;}#sk-container-id-2 div.sk-item::before, #sk-container-id-2 div.sk-parallel-item::before {content: \"\";position: absolute;border-left: 1px solid gray;box-sizing: border-box;top: 0;bottom: 0;left: 50%;z-index: -1;}#sk-container-id-2 div.sk-parallel-item {display: flex;flex-direction: column;z-index: 1;position: relative;background-color: white;}#sk-container-id-2 div.sk-parallel-item:first-child::after {align-self: flex-end;width: 50%;}#sk-container-id-2 div.sk-parallel-item:last-child::after {align-self: flex-start;width: 50%;}#sk-container-id-2 div.sk-parallel-item:only-child::after {width: 0;}#sk-container-id-2 div.sk-dashed-wrapped {border: 1px dashed gray;margin: 0 0.4em 0.5em 0.4em;box-sizing: border-box;padding-bottom: 0.4em;background-color: white;}#sk-container-id-2 div.sk-label label {font-family: monospace;font-weight: bold;display: inline-block;line-height: 1.2em;}#sk-container-id-2 div.sk-label-container {text-align: center;}#sk-container-id-2 div.sk-container {/* jupyter's `normalize.less` sets `[hidden] { display: none; }` but bootstrap.min.css set `[hidden] { display: none !important; }` so we also need the `!important` here to be able to override the default hidden behavior on the sphinx rendered scikit-learn.org. See: https://github.com/scikit-learn/scikit-learn/issues/21755 */display: inline-block !important;position: relative;}#sk-container-id-2 div.sk-text-repr-fallback {display: none;}</style><div id=\"sk-container-id-2\" class=\"sk-top-container\"><div class=\"sk-text-repr-fallback\"><pre>GridSearchCV(cv=5, estimator=KNeighborsClassifier(), n_jobs=6,\n",
       "             param_grid={&#x27;n_neighbors&#x27;: range(1, 50)}, scoring=&#x27;f1&#x27;, verbose=1)</pre><b>In a Jupyter environment, please rerun this cell to show the HTML representation or trust the notebook. <br />On GitHub, the HTML representation is unable to render, please try loading this page with nbviewer.org.</b></div><div class=\"sk-container\" hidden><div class=\"sk-item sk-dashed-wrapped\"><div class=\"sk-label-container\"><div class=\"sk-label sk-toggleable\"><input class=\"sk-toggleable__control sk-hidden--visually\" id=\"sk-estimator-id-2\" type=\"checkbox\" ><label for=\"sk-estimator-id-2\" class=\"sk-toggleable__label sk-toggleable__label-arrow\">GridSearchCV</label><div class=\"sk-toggleable__content\"><pre>GridSearchCV(cv=5, estimator=KNeighborsClassifier(), n_jobs=6,\n",
       "             param_grid={&#x27;n_neighbors&#x27;: range(1, 50)}, scoring=&#x27;f1&#x27;, verbose=1)</pre></div></div></div><div class=\"sk-parallel\"><div class=\"sk-parallel-item\"><div class=\"sk-item\"><div class=\"sk-label-container\"><div class=\"sk-label sk-toggleable\"><input class=\"sk-toggleable__control sk-hidden--visually\" id=\"sk-estimator-id-3\" type=\"checkbox\" ><label for=\"sk-estimator-id-3\" class=\"sk-toggleable__label sk-toggleable__label-arrow\">estimator: KNeighborsClassifier</label><div class=\"sk-toggleable__content\"><pre>KNeighborsClassifier()</pre></div></div></div><div class=\"sk-serial\"><div class=\"sk-item\"><div class=\"sk-estimator sk-toggleable\"><input class=\"sk-toggleable__control sk-hidden--visually\" id=\"sk-estimator-id-4\" type=\"checkbox\" ><label for=\"sk-estimator-id-4\" class=\"sk-toggleable__label sk-toggleable__label-arrow\">KNeighborsClassifier</label><div class=\"sk-toggleable__content\"><pre>KNeighborsClassifier()</pre></div></div></div></div></div></div></div></div></div></div>"
      ],
      "text/plain": [
       "GridSearchCV(cv=5, estimator=KNeighborsClassifier(), n_jobs=6,\n",
       "             param_grid={'n_neighbors': range(1, 50)}, scoring='f1', verbose=1)"
      ]
     },
     "execution_count": 20,
     "metadata": {},
     "output_type": "execute_result"
    }
   ],
   "source": [
    "grid_cv.fit(x_train1, \n",
    "            y_train1)"
   ]
  },
  {
   "cell_type": "code",
   "execution_count": 21,
   "metadata": {},
   "outputs": [
    {
     "data": {
      "text/plain": [
       "0.9375793338187078"
      ]
     },
     "execution_count": 21,
     "metadata": {},
     "output_type": "execute_result"
    }
   ],
   "source": [
    "grid_cv.best_score_"
   ]
  },
  {
   "cell_type": "code",
   "execution_count": 22,
   "metadata": {},
   "outputs": [
    {
     "data": {
      "text/html": [
       "<style>#sk-container-id-3 {color: black;}#sk-container-id-3 pre{padding: 0;}#sk-container-id-3 div.sk-toggleable {background-color: white;}#sk-container-id-3 label.sk-toggleable__label {cursor: pointer;display: block;width: 100%;margin-bottom: 0;padding: 0.3em;box-sizing: border-box;text-align: center;}#sk-container-id-3 label.sk-toggleable__label-arrow:before {content: \"▸\";float: left;margin-right: 0.25em;color: #696969;}#sk-container-id-3 label.sk-toggleable__label-arrow:hover:before {color: black;}#sk-container-id-3 div.sk-estimator:hover label.sk-toggleable__label-arrow:before {color: black;}#sk-container-id-3 div.sk-toggleable__content {max-height: 0;max-width: 0;overflow: hidden;text-align: left;background-color: #f0f8ff;}#sk-container-id-3 div.sk-toggleable__content pre {margin: 0.2em;color: black;border-radius: 0.25em;background-color: #f0f8ff;}#sk-container-id-3 input.sk-toggleable__control:checked~div.sk-toggleable__content {max-height: 200px;max-width: 100%;overflow: auto;}#sk-container-id-3 input.sk-toggleable__control:checked~label.sk-toggleable__label-arrow:before {content: \"▾\";}#sk-container-id-3 div.sk-estimator input.sk-toggleable__control:checked~label.sk-toggleable__label {background-color: #d4ebff;}#sk-container-id-3 div.sk-label input.sk-toggleable__control:checked~label.sk-toggleable__label {background-color: #d4ebff;}#sk-container-id-3 input.sk-hidden--visually {border: 0;clip: rect(1px 1px 1px 1px);clip: rect(1px, 1px, 1px, 1px);height: 1px;margin: -1px;overflow: hidden;padding: 0;position: absolute;width: 1px;}#sk-container-id-3 div.sk-estimator {font-family: monospace;background-color: #f0f8ff;border: 1px dotted black;border-radius: 0.25em;box-sizing: border-box;margin-bottom: 0.5em;}#sk-container-id-3 div.sk-estimator:hover {background-color: #d4ebff;}#sk-container-id-3 div.sk-parallel-item::after {content: \"\";width: 100%;border-bottom: 1px solid gray;flex-grow: 1;}#sk-container-id-3 div.sk-label:hover label.sk-toggleable__label {background-color: #d4ebff;}#sk-container-id-3 div.sk-serial::before {content: \"\";position: absolute;border-left: 1px solid gray;box-sizing: border-box;top: 0;bottom: 0;left: 50%;z-index: 0;}#sk-container-id-3 div.sk-serial {display: flex;flex-direction: column;align-items: center;background-color: white;padding-right: 0.2em;padding-left: 0.2em;position: relative;}#sk-container-id-3 div.sk-item {position: relative;z-index: 1;}#sk-container-id-3 div.sk-parallel {display: flex;align-items: stretch;justify-content: center;background-color: white;position: relative;}#sk-container-id-3 div.sk-item::before, #sk-container-id-3 div.sk-parallel-item::before {content: \"\";position: absolute;border-left: 1px solid gray;box-sizing: border-box;top: 0;bottom: 0;left: 50%;z-index: -1;}#sk-container-id-3 div.sk-parallel-item {display: flex;flex-direction: column;z-index: 1;position: relative;background-color: white;}#sk-container-id-3 div.sk-parallel-item:first-child::after {align-self: flex-end;width: 50%;}#sk-container-id-3 div.sk-parallel-item:last-child::after {align-self: flex-start;width: 50%;}#sk-container-id-3 div.sk-parallel-item:only-child::after {width: 0;}#sk-container-id-3 div.sk-dashed-wrapped {border: 1px dashed gray;margin: 0 0.4em 0.5em 0.4em;box-sizing: border-box;padding-bottom: 0.4em;background-color: white;}#sk-container-id-3 div.sk-label label {font-family: monospace;font-weight: bold;display: inline-block;line-height: 1.2em;}#sk-container-id-3 div.sk-label-container {text-align: center;}#sk-container-id-3 div.sk-container {/* jupyter's `normalize.less` sets `[hidden] { display: none; }` but bootstrap.min.css set `[hidden] { display: none !important; }` so we also need the `!important` here to be able to override the default hidden behavior on the sphinx rendered scikit-learn.org. See: https://github.com/scikit-learn/scikit-learn/issues/21755 */display: inline-block !important;position: relative;}#sk-container-id-3 div.sk-text-repr-fallback {display: none;}</style><div id=\"sk-container-id-3\" class=\"sk-top-container\"><div class=\"sk-text-repr-fallback\"><pre>KNeighborsClassifier(n_neighbors=1)</pre><b>In a Jupyter environment, please rerun this cell to show the HTML representation or trust the notebook. <br />On GitHub, the HTML representation is unable to render, please try loading this page with nbviewer.org.</b></div><div class=\"sk-container\" hidden><div class=\"sk-item\"><div class=\"sk-estimator sk-toggleable\"><input class=\"sk-toggleable__control sk-hidden--visually\" id=\"sk-estimator-id-5\" type=\"checkbox\" checked><label for=\"sk-estimator-id-5\" class=\"sk-toggleable__label sk-toggleable__label-arrow\">KNeighborsClassifier</label><div class=\"sk-toggleable__content\"><pre>KNeighborsClassifier(n_neighbors=1)</pre></div></div></div></div></div>"
      ],
      "text/plain": [
       "KNeighborsClassifier(n_neighbors=1)"
      ]
     },
     "execution_count": 22,
     "metadata": {},
     "output_type": "execute_result"
    }
   ],
   "source": [
    "knn = grid_cv.best_estimator_\n",
    "knn"
   ]
  },
  {
   "cell_type": "code",
   "execution_count": 23,
   "metadata": {},
   "outputs": [
    {
     "name": "stdout",
     "output_type": "stream",
     "text": [
      "XGBClassifier Accuracy:  0.9421178981061616\n"
     ]
    }
   ],
   "source": [
    "ypred_train8 = grid_cv.predict(x_train1)\n",
    "y_pred_test8 = grid_cv.predict(x_test1)\n",
    "print(\"XGBClassifier Accuracy: \",accuracy_score(y_test1, y_pred_test8))"
   ]
  },
  {
   "cell_type": "code",
   "execution_count": 24,
   "metadata": {},
   "outputs": [
    {
     "name": "stdout",
     "output_type": "stream",
     "text": [
      "Training Results\n",
      "\n",
      "              precision    recall  f1-score   support\n",
      "\n",
      "           0       0.99      0.98      0.98    219310\n",
      "           1       0.98      0.99      0.98    219323\n",
      "\n",
      "    accuracy                           0.98    438633\n",
      "   macro avg       0.98      0.98      0.98    438633\n",
      "weighted avg       0.98      0.98      0.98    438633\n",
      "\n"
     ]
    }
   ],
   "source": [
    "print(\"Training Results\\n\")\n",
    "print(classification_report(y_train1, ypred_train8))"
   ]
  },
  {
   "cell_type": "code",
   "execution_count": 25,
   "metadata": {},
   "outputs": [
    {
     "name": "stdout",
     "output_type": "stream",
     "text": [
      "Testing Results\n",
      "\n",
      "              precision    recall  f1-score   support\n",
      "\n",
      "           0       0.98      0.90      0.94     73112\n",
      "           1       0.91      0.98      0.94     73099\n",
      "\n",
      "    accuracy                           0.94    146211\n",
      "   macro avg       0.95      0.94      0.94    146211\n",
      "weighted avg       0.95      0.94      0.94    146211\n",
      "\n"
     ]
    }
   ],
   "source": [
    "print('Testing Results\\n')\n",
    "print(classification_report(y_test1, y_pred_test8))"
   ]
  },
  {
   "cell_type": "code",
   "execution_count": 26,
   "metadata": {},
   "outputs": [
    {
     "data": {
      "image/png": "[encoded data removed]",
      "text/plain": [
       "<Figure size 640x480 with 1 Axes>"
      ]
     },
     "metadata": {},
     "output_type": "display_data"
    }
   ],
   "source": [
    "# cross_val_scores = cross_val_score(grid_cv, x_train1, y_train1, cv=5)\n",
    "# print(\"Cross-Validation Scores for the Best Model:\", cross_val_scores)\n",
    "# print(\"Average Cross-Validation Score:\", cross_val_scores.mean())\n",
    "\n",
    "y_proba_test = grid_cv.predict_proba(x_test1)[:, 1]\n",
    "\n",
    "fpr, tpr, thresholds = roc_curve(y_test1, y_proba_test)\n",
    "\n",
    "plt.plot(fpr, tpr, label='ROC Curve')\n",
    "plt.xlabel('False Positive Rate')\n",
    "plt.ylabel('True Positive Rate')\n",
    "plt.title('ROC Curve with AUC = {:.2f}'.format(roc_auc_score(y_test1, y_proba_test)))\n",
    "plt.legend(loc='lower right')\n",
    "plt.grid(True)\n",
    "plt.show()"
   ]
  },
  {
   "cell_type": "markdown",
   "metadata": {},
   "source": [
    "## SIECI NEURONOWE"
   ]
  },
  {
   "cell_type": "markdown",
   "metadata": {},
   "source": [
    "## ANN"
   ]
  },
  {
   "cell_type": "code",
   "execution_count": 27,
   "metadata": {},
   "outputs": [
    {
     "name": "stdout",
     "output_type": "stream",
     "text": [
      "WARNING:tensorflow:From C:\\Users\\DELL\\AppData\\Roaming\\Python\\Python311\\site-packages\\keras\\src\\backend.py:873: The name tf.get_default_graph is deprecated. Please use tf.compat.v1.get_default_graph instead.\n",
      "\n"
     ]
    }
   ],
   "source": [
    "ann = tf.keras.models.Sequential()"
   ]
  },
  {
   "cell_type": "code",
   "execution_count": 28,
   "metadata": {},
   "outputs": [],
   "source": [
    "early_stop = EarlyStopping(monitor='val_loss', mode='min', verbose=1, patience=25)\n"
   ]
  },
  {
   "cell_type": "code",
   "execution_count": 29,
   "metadata": {},
   "outputs": [],
   "source": [
    "ann.add(tf.keras.layers.Dense(units=16, activation='relu'))"
   ]
  },
  {
   "cell_type": "code",
   "execution_count": 30,
   "metadata": {},
   "outputs": [],
   "source": [
    "ann.add(tf.keras.layers.Dense(units=6, activation='relu'))"
   ]
  },
  {
   "cell_type": "code",
   "execution_count": 31,
   "metadata": {},
   "outputs": [],
   "source": [
    "ann.add(tf.keras.layers.Dense(units=1, activation='sigmoid'))"
   ]
  },
  {
   "cell_type": "code",
   "execution_count": 32,
   "metadata": {},
   "outputs": [
    {
     "name": "stdout",
     "output_type": "stream",
     "text": [
      "WARNING:tensorflow:From C:\\Users\\DELL\\AppData\\Roaming\\Python\\Python311\\site-packages\\keras\\src\\optimizers\\__init__.py:309: The name tf.train.Optimizer is deprecated. Please use tf.compat.v1.train.Optimizer instead.\n",
      "\n"
     ]
    }
   ],
   "source": [
    "ann.compile(optimizer = 'adam', loss = 'binary_crossentropy', metrics = ['accuracy'])"
   ]
  },
  {
   "cell_type": "code",
   "execution_count": 33,
   "metadata": {},
   "outputs": [
    {
     "name": "stdout",
     "output_type": "stream",
     "text": [
      "Epoch 1/100\n",
      "WARNING:tensorflow:From C:\\Users\\DELL\\AppData\\Roaming\\Python\\Python311\\site-packages\\keras\\src\\utils\\tf_utils.py:492: The name tf.ragged.RaggedTensorValue is deprecated. Please use tf.compat.v1.ragged.RaggedTensorValue instead.\n",
      "\n",
      "WARNING:tensorflow:From C:\\Users\\DELL\\AppData\\Roaming\\Python\\Python311\\site-packages\\keras\\src\\engine\\base_layer_utils.py:384: The name tf.executing_eagerly_outside_functions is deprecated. Please use tf.compat.v1.executing_eagerly_outside_functions instead.\n",
      "\n",
      "13708/13708 [==============================] - 21s 1ms/step - loss: 0.4962 - accuracy: 0.7619 - val_loss: 0.4917 - val_accuracy: 0.7639\n",
      "Epoch 2/100\n",
      "13708/13708 [==============================] - 19s 1ms/step - loss: 0.4892 - accuracy: 0.7662 - val_loss: 0.4904 - val_accuracy: 0.7656\n",
      "Epoch 3/100\n",
      "13708/13708 [==============================] - 19s 1ms/step - loss: 0.4884 - accuracy: 0.7668 - val_loss: 0.4891 - val_accuracy: 0.7658\n",
      "Epoch 4/100\n",
      "13708/13708 [==============================] - 19s 1ms/step - loss: 0.4879 - accuracy: 0.7666 - val_loss: 0.4888 - val_accuracy: 0.7653\n",
      "Epoch 5/100\n",
      "13708/13708 [==============================] - 19s 1ms/step - loss: 0.4876 - accuracy: 0.7669 - val_loss: 0.4908 - val_accuracy: 0.7646\n",
      "Epoch 6/100\n",
      "13708/13708 [==============================] - 19s 1ms/step - loss: 0.4874 - accuracy: 0.7671 - val_loss: 0.4888 - val_accuracy: 0.7662\n",
      "Epoch 7/100\n",
      "13708/13708 [==============================] - 19s 1ms/step - loss: 0.4872 - accuracy: 0.7671 - val_loss: 0.4889 - val_accuracy: 0.7656\n",
      "Epoch 8/100\n",
      "13708/13708 [==============================] - 19s 1ms/step - loss: 0.4869 - accuracy: 0.7675 - val_loss: 0.4883 - val_accuracy: 0.7670\n",
      "Epoch 9/100\n",
      "13708/13708 [==============================] - 19s 1ms/step - loss: 0.4867 - accuracy: 0.7673 - val_loss: 0.4891 - val_accuracy: 0.7649\n",
      "Epoch 10/100\n",
      "13708/13708 [==============================] - 19s 1ms/step - loss: 0.4865 - accuracy: 0.7676 - val_loss: 0.4879 - val_accuracy: 0.7663\n",
      "Epoch 11/100\n",
      "13708/13708 [==============================] - 19s 1ms/step - loss: 0.4864 - accuracy: 0.7676 - val_loss: 0.4878 - val_accuracy: 0.7666\n",
      "Epoch 12/100\n",
      "13708/13708 [==============================] - 19s 1ms/step - loss: 0.4862 - accuracy: 0.7677 - val_loss: 0.4894 - val_accuracy: 0.7656\n",
      "Epoch 13/100\n",
      "13708/13708 [==============================] - 19s 1ms/step - loss: 0.4861 - accuracy: 0.7677 - val_loss: 0.4877 - val_accuracy: 0.7669\n",
      "Epoch 14/100\n",
      "13708/13708 [==============================] - 19s 1ms/step - loss: 0.4861 - accuracy: 0.7677 - val_loss: 0.4900 - val_accuracy: 0.7647\n",
      "Epoch 15/100\n",
      "13708/13708 [==============================] - 20s 1ms/step - loss: 0.4860 - accuracy: 0.7678 - val_loss: 0.4878 - val_accuracy: 0.7660\n",
      "Epoch 16/100\n",
      "13708/13708 [==============================] - 19s 1ms/step - loss: 0.4859 - accuracy: 0.7678 - val_loss: 0.4874 - val_accuracy: 0.7662\n",
      "Epoch 17/100\n",
      "13708/13708 [==============================] - 19s 1ms/step - loss: 0.4857 - accuracy: 0.7680 - val_loss: 0.4879 - val_accuracy: 0.7659\n",
      "Epoch 18/100\n",
      "13708/13708 [==============================] - 19s 1ms/step - loss: 0.4858 - accuracy: 0.7678 - val_loss: 0.4877 - val_accuracy: 0.7658\n",
      "Epoch 19/100\n",
      "13708/13708 [==============================] - 19s 1ms/step - loss: 0.4857 - accuracy: 0.7679 - val_loss: 0.4877 - val_accuracy: 0.7656\n",
      "Epoch 20/100\n",
      "13708/13708 [==============================] - 19s 1ms/step - loss: 0.4856 - accuracy: 0.7678 - val_loss: 0.4872 - val_accuracy: 0.7665\n",
      "Epoch 21/100\n",
      "13708/13708 [==============================] - 19s 1ms/step - loss: 0.4855 - accuracy: 0.7676 - val_loss: 0.4877 - val_accuracy: 0.7661\n",
      "Epoch 22/100\n",
      "13708/13708 [==============================] - 17s 1ms/step - loss: 0.4856 - accuracy: 0.7681 - val_loss: 0.4879 - val_accuracy: 0.7667\n",
      "Epoch 23/100\n",
      "13708/13708 [==============================] - 17s 1ms/step - loss: 0.4855 - accuracy: 0.7679 - val_loss: 0.4873 - val_accuracy: 0.7666\n",
      "Epoch 24/100\n",
      "13708/13708 [==============================] - 17s 1ms/step - loss: 0.4855 - accuracy: 0.7682 - val_loss: 0.4876 - val_accuracy: 0.7665\n",
      "Epoch 25/100\n",
      "13708/13708 [==============================] - 17s 1ms/step - loss: 0.4854 - accuracy: 0.7679 - val_loss: 0.4879 - val_accuracy: 0.7663\n",
      "Epoch 26/100\n",
      "13708/13708 [==============================] - 17s 1ms/step - loss: 0.4854 - accuracy: 0.7680 - val_loss: 0.4874 - val_accuracy: 0.7660\n",
      "Epoch 27/100\n",
      "13708/13708 [==============================] - 17s 1ms/step - loss: 0.4853 - accuracy: 0.7680 - val_loss: 0.4873 - val_accuracy: 0.7665\n",
      "Epoch 28/100\n",
      "13708/13708 [==============================] - 17s 1ms/step - loss: 0.4853 - accuracy: 0.7682 - val_loss: 0.4907 - val_accuracy: 0.7640\n",
      "Epoch 29/100\n",
      "13708/13708 [==============================] - 17s 1ms/step - loss: 0.4853 - accuracy: 0.7680 - val_loss: 0.4870 - val_accuracy: 0.7670\n",
      "Epoch 30/100\n",
      "13708/13708 [==============================] - 17s 1ms/step - loss: 0.4853 - accuracy: 0.7681 - val_loss: 0.4871 - val_accuracy: 0.7670\n",
      "Epoch 31/100\n",
      "13708/13708 [==============================] - 17s 1ms/step - loss: 0.4854 - accuracy: 0.7679 - val_loss: 0.4869 - val_accuracy: 0.7670\n",
      "Epoch 32/100\n",
      "13708/13708 [==============================] - 17s 1ms/step - loss: 0.4852 - accuracy: 0.7680 - val_loss: 0.4873 - val_accuracy: 0.7662\n",
      "Epoch 33/100\n",
      "13708/13708 [==============================] - 18s 1ms/step - loss: 0.4851 - accuracy: 0.7683 - val_loss: 0.4873 - val_accuracy: 0.7662\n",
      "Epoch 34/100\n",
      "13708/13708 [==============================] - 17s 1ms/step - loss: 0.4852 - accuracy: 0.7684 - val_loss: 0.4876 - val_accuracy: 0.7663\n",
      "Epoch 35/100\n",
      "13708/13708 [==============================] - 18s 1ms/step - loss: 0.4851 - accuracy: 0.7681 - val_loss: 0.4875 - val_accuracy: 0.7661\n",
      "Epoch 36/100\n",
      "13708/13708 [==============================] - 17s 1ms/step - loss: 0.4851 - accuracy: 0.7682 - val_loss: 0.4876 - val_accuracy: 0.7659\n",
      "Epoch 37/100\n",
      "13708/13708 [==============================] - 18s 1ms/step - loss: 0.4852 - accuracy: 0.7681 - val_loss: 0.4883 - val_accuracy: 0.7663\n",
      "Epoch 38/100\n",
      "13708/13708 [==============================] - 17s 1ms/step - loss: 0.4850 - accuracy: 0.7685 - val_loss: 0.4876 - val_accuracy: 0.7663\n",
      "Epoch 39/100\n",
      "13708/13708 [==============================] - 17s 1ms/step - loss: 0.4851 - accuracy: 0.7684 - val_loss: 0.4875 - val_accuracy: 0.7664\n",
      "Epoch 40/100\n",
      "13708/13708 [==============================] - 17s 1ms/step - loss: 0.4850 - accuracy: 0.7685 - val_loss: 0.4867 - val_accuracy: 0.7665\n",
      "Epoch 41/100\n",
      "13708/13708 [==============================] - 17s 1ms/step - loss: 0.4850 - accuracy: 0.7685 - val_loss: 0.4872 - val_accuracy: 0.7666\n",
      "Epoch 42/100\n",
      "13708/13708 [==============================] - 18s 1ms/step - loss: 0.4850 - accuracy: 0.7683 - val_loss: 0.4876 - val_accuracy: 0.7667\n",
      "Epoch 43/100\n",
      "13708/13708 [==============================] - 18s 1ms/step - loss: 0.4850 - accuracy: 0.7687 - val_loss: 0.4868 - val_accuracy: 0.7669\n",
      "Epoch 44/100\n",
      "13708/13708 [==============================] - 18s 1ms/step - loss: 0.4849 - accuracy: 0.7683 - val_loss: 0.4869 - val_accuracy: 0.7660\n",
      "Epoch 45/100\n",
      "13708/13708 [==============================] - 18s 1ms/step - loss: 0.4849 - accuracy: 0.7683 - val_loss: 0.4876 - val_accuracy: 0.7660\n",
      "Epoch 46/100\n",
      "13708/13708 [==============================] - 18s 1ms/step - loss: 0.4849 - accuracy: 0.7686 - val_loss: 0.4870 - val_accuracy: 0.7672\n",
      "Epoch 47/100\n",
      "13708/13708 [==============================] - 19s 1ms/step - loss: 0.4849 - accuracy: 0.7684 - val_loss: 0.4873 - val_accuracy: 0.7670\n",
      "Epoch 48/100\n",
      "13708/13708 [==============================] - 18s 1ms/step - loss: 0.4849 - accuracy: 0.7684 - val_loss: 0.4873 - val_accuracy: 0.7663\n",
      "Epoch 49/100\n",
      "13708/13708 [==============================] - 17s 1ms/step - loss: 0.4848 - accuracy: 0.7684 - val_loss: 0.4869 - val_accuracy: 0.7668\n",
      "Epoch 50/100\n",
      "13708/13708 [==============================] - 18s 1ms/step - loss: 0.4849 - accuracy: 0.7683 - val_loss: 0.4872 - val_accuracy: 0.7669\n",
      "Epoch 51/100\n",
      "13708/13708 [==============================] - 17s 1ms/step - loss: 0.4849 - accuracy: 0.7681 - val_loss: 0.4869 - val_accuracy: 0.7665\n",
      "Epoch 52/100\n",
      "13708/13708 [==============================] - 17s 1ms/step - loss: 0.4849 - accuracy: 0.7683 - val_loss: 0.4868 - val_accuracy: 0.7668\n",
      "Epoch 53/100\n",
      "13708/13708 [==============================] - 17s 1ms/step - loss: 0.4848 - accuracy: 0.7686 - val_loss: 0.4869 - val_accuracy: 0.7664\n",
      "Epoch 54/100\n",
      "13708/13708 [==============================] - 17s 1ms/step - loss: 0.4848 - accuracy: 0.7686 - val_loss: 0.4871 - val_accuracy: 0.7669\n",
      "Epoch 55/100\n",
      "13708/13708 [==============================] - 17s 1ms/step - loss: 0.4848 - accuracy: 0.7683 - val_loss: 0.4880 - val_accuracy: 0.7662\n",
      "Epoch 56/100\n",
      "13708/13708 [==============================] - 17s 1ms/step - loss: 0.4848 - accuracy: 0.7688 - val_loss: 0.4886 - val_accuracy: 0.7653\n",
      "Epoch 57/100\n",
      "13708/13708 [==============================] - 17s 1ms/step - loss: 0.4848 - accuracy: 0.7684 - val_loss: 0.4869 - val_accuracy: 0.7666\n",
      "Epoch 58/100\n",
      "13708/13708 [==============================] - 17s 1ms/step - loss: 0.4847 - accuracy: 0.7687 - val_loss: 0.4873 - val_accuracy: 0.7659\n",
      "Epoch 59/100\n",
      "13708/13708 [==============================] - 17s 1ms/step - loss: 0.4847 - accuracy: 0.7686 - val_loss: 0.4884 - val_accuracy: 0.7653\n",
      "Epoch 60/100\n",
      "13708/13708 [==============================] - 17s 1ms/step - loss: 0.4847 - accuracy: 0.7684 - val_loss: 0.4869 - val_accuracy: 0.7671\n",
      "Epoch 61/100\n",
      "13708/13708 [==============================] - 17s 1ms/step - loss: 0.4847 - accuracy: 0.7687 - val_loss: 0.4872 - val_accuracy: 0.7667\n",
      "Epoch 62/100\n",
      "13708/13708 [==============================] - 17s 1ms/step - loss: 0.4847 - accuracy: 0.7685 - val_loss: 0.4874 - val_accuracy: 0.7665\n",
      "Epoch 63/100\n",
      "13708/13708 [==============================] - 17s 1ms/step - loss: 0.4847 - accuracy: 0.7683 - val_loss: 0.4879 - val_accuracy: 0.7659\n",
      "Epoch 64/100\n",
      "13708/13708 [==============================] - 17s 1ms/step - loss: 0.4848 - accuracy: 0.7685 - val_loss: 0.4870 - val_accuracy: 0.7662\n",
      "Epoch 65/100\n",
      "13708/13708 [==============================] - 17s 1ms/step - loss: 0.4847 - accuracy: 0.7687 - val_loss: 0.4874 - val_accuracy: 0.7665\n",
      "Epoch 65: early stopping\n"
     ]
    },
    {
     "data": {
      "text/plain": [
       "<keras.src.callbacks.History at 0x1186ce27bd0>"
      ]
     },
     "execution_count": 33,
     "metadata": {},
     "output_type": "execute_result"
    }
   ],
   "source": [
    "ann.fit(x_train1, y_train1, batch_size = 32, epochs=100,\n",
    "          validation_data=(x_test1, y_test1), verbose=1,\n",
    "          callbacks=[early_stop])"
   ]
  },
  {
   "cell_type": "code",
   "execution_count": 34,
   "metadata": {},
   "outputs": [
    {
     "name": "stdout",
     "output_type": "stream",
     "text": [
      "13708/13708 [==============================] - 12s 861us/step\n",
      "4570/4570 [==============================] - 4s 843us/step\n",
      "[[1 1]\n",
      " [1 0]\n",
      " [0 0]\n",
      " ...\n",
      " [0 0]\n",
      " [0 0]\n",
      " [1 1]]\n"
     ]
    }
   ],
   "source": [
    "ypred_train8 = ann.predict(x_train1)\n",
    "y_pred_test8 = ann.predict(x_test1)\n",
    "\n",
    "y_pred_test8 = (y_pred_test8 > 0.5)\n",
    "ypred_train8 = (ypred_train8 > 0.5)\n",
    "print(np.concatenate((y_pred_test8.reshape(len(y_pred_test8),1), y_test1.reshape(len(y_test1),1)),1))"
   ]
  },
  {
   "cell_type": "code",
   "execution_count": 35,
   "metadata": {},
   "outputs": [
    {
     "data": {
      "text/plain": [
       "0.7665223546791965"
      ]
     },
     "execution_count": 35,
     "metadata": {},
     "output_type": "execute_result"
    }
   ],
   "source": [
    "accuracy_score(y_test1, y_pred_test8)"
   ]
  },
  {
   "cell_type": "code",
   "execution_count": 36,
   "metadata": {},
   "outputs": [
    {
     "name": "stdout",
     "output_type": "stream",
     "text": [
      "Training Results\n",
      "\n",
      "              precision    recall  f1-score   support\n",
      "\n",
      "           0       0.80      0.71      0.75    219310\n",
      "           1       0.74      0.82      0.78    219323\n",
      "\n",
      "    accuracy                           0.77    438633\n",
      "   macro avg       0.77      0.77      0.77    438633\n",
      "weighted avg       0.77      0.77      0.77    438633\n",
      "\n"
     ]
    }
   ],
   "source": [
    "print(\"Training Results\\n\")\n",
    "print(classification_report(y_train1, ypred_train8))"
   ]
  },
  {
   "cell_type": "code",
   "execution_count": 37,
   "metadata": {},
   "outputs": [
    {
     "name": "stdout",
     "output_type": "stream",
     "text": [
      "Testing Results\n",
      "\n",
      "              precision    recall  f1-score   support\n",
      "\n",
      "           0       0.80      0.71      0.75     73112\n",
      "           1       0.74      0.82      0.78     73099\n",
      "\n",
      "    accuracy                           0.77    146211\n",
      "   macro avg       0.77      0.77      0.77    146211\n",
      "weighted avg       0.77      0.77      0.77    146211\n",
      "\n"
     ]
    }
   ],
   "source": [
    "print('Testing Results\\n')\n",
    "print(classification_report(y_test1, y_pred_test8))"
   ]
  },
  {
   "cell_type": "code",
   "execution_count": 38,
   "metadata": {},
   "outputs": [
    {
     "name": "stdout",
     "output_type": "stream",
     "text": [
      "4570/4570 [==============================] - 4s 832us/step\n"
     ]
    },
    {
     "data": {
      "image/png": "[encoded data removed]",
      "text/plain": [
       "<Figure size 640x480 with 1 Axes>"
      ]
     },
     "metadata": {},
     "output_type": "display_data"
    }
   ],
   "source": [
    "# cross_val_scores = cross_val_score(ann, x_train1, y_train1, cv=5)\n",
    "# print(\"Cross-Validation Scores for the Best Model:\", cross_val_scores)\n",
    "# print(\"Average Cross-Validation Score:\", cross_val_scores.mean())\n",
    "\n",
    "y_proba_test = ann.predict(x_test1).flatten()\n",
    "\n",
    "fpr, tpr, thresholds = roc_curve(y_test1, y_proba_test)\n",
    "\n",
    "plt.plot(fpr, tpr, label='ROC Curve')\n",
    "plt.xlabel('False Positive Rate')\n",
    "plt.ylabel('True Positive Rate')\n",
    "plt.title('ROC Curve with AUC = {:.2f}'.format(roc_auc_score(y_test1, y_proba_test)))\n",
    "plt.legend(loc='lower right')\n",
    "plt.grid(True)\n",
    "plt.show()"
   ]
  },
  {
   "cell_type": "markdown",
   "metadata": {},
   "source": [
    "## inna proba "
   ]
  },
  {
   "cell_type": "code",
   "execution_count": 39,
   "metadata": {},
   "outputs": [
    {
     "name": "stderr",
     "output_type": "stream",
     "text": [
      "WARNING:absl:`lr` is deprecated in Keras optimizer, please use `learning_rate` or use the legacy optimizer, e.g.,tf.keras.optimizers.legacy.Adam.\n"
     ]
    },
    {
     "name": "stdout",
     "output_type": "stream",
     "text": [
      "Epoch 1/100\n",
      "13708/13708 [==============================] - 16s 1ms/step - loss: 0.4957 - accuracy: 0.7611\n",
      "Epoch 2/100\n",
      "13708/13708 [==============================] - 15s 1ms/step - loss: 0.4900 - accuracy: 0.7651\n",
      "Epoch 3/100\n",
      "13708/13708 [==============================] - 15s 1ms/step - loss: 0.4887 - accuracy: 0.7658\n",
      "Epoch 4/100\n",
      "13708/13708 [==============================] - 15s 1ms/step - loss: 0.4879 - accuracy: 0.7664\n",
      "Epoch 5/100\n",
      "13708/13708 [==============================] - 16s 1ms/step - loss: 0.4872 - accuracy: 0.7670\n",
      "Epoch 6/100\n",
      "13708/13708 [==============================] - 16s 1ms/step - loss: 0.4865 - accuracy: 0.7674\n",
      "Epoch 7/100\n",
      "13708/13708 [==============================] - 15s 1ms/step - loss: 0.4859 - accuracy: 0.7673\n",
      "Epoch 8/100\n",
      "13708/13708 [==============================] - 16s 1ms/step - loss: 0.4853 - accuracy: 0.7676\n",
      "Epoch 9/100\n",
      "13708/13708 [==============================] - 15s 1ms/step - loss: 0.4847 - accuracy: 0.7680\n",
      "Epoch 10/100\n",
      "13708/13708 [==============================] - 15s 1ms/step - loss: 0.4841 - accuracy: 0.7683\n",
      "Epoch 11/100\n",
      "13708/13708 [==============================] - 15s 1ms/step - loss: 0.4836 - accuracy: 0.7685\n",
      "Epoch 12/100\n",
      "13708/13708 [==============================] - 15s 1ms/step - loss: 0.4830 - accuracy: 0.7687\n",
      "Epoch 13/100\n",
      "13708/13708 [==============================] - 15s 1ms/step - loss: 0.4824 - accuracy: 0.7693\n",
      "Epoch 14/100\n",
      "13708/13708 [==============================] - 15s 1ms/step - loss: 0.4819 - accuracy: 0.7693\n",
      "Epoch 15/100\n",
      "13708/13708 [==============================] - 15s 1ms/step - loss: 0.4814 - accuracy: 0.7696\n",
      "Epoch 16/100\n",
      "13708/13708 [==============================] - 15s 1ms/step - loss: 0.4810 - accuracy: 0.7694\n",
      "Epoch 17/100\n",
      "13708/13708 [==============================] - 15s 1ms/step - loss: 0.4806 - accuracy: 0.7697\n",
      "Epoch 18/100\n",
      "13708/13708 [==============================] - 15s 1ms/step - loss: 0.4801 - accuracy: 0.7701\n",
      "Epoch 19/100\n",
      "13708/13708 [==============================] - 15s 1ms/step - loss: 0.4797 - accuracy: 0.7698\n",
      "Epoch 20/100\n",
      "13708/13708 [==============================] - 15s 1ms/step - loss: 0.4794 - accuracy: 0.7699\n",
      "Epoch 21/100\n",
      "13708/13708 [==============================] - 15s 1ms/step - loss: 0.4791 - accuracy: 0.7706\n",
      "Epoch 22/100\n",
      "13708/13708 [==============================] - 15s 1ms/step - loss: 0.4786 - accuracy: 0.7704\n",
      "Epoch 23/100\n",
      "13708/13708 [==============================] - 15s 1ms/step - loss: 0.4785 - accuracy: 0.7708\n",
      "Epoch 24/100\n",
      "13708/13708 [==============================] - 15s 1ms/step - loss: 0.4782 - accuracy: 0.7708\n",
      "Epoch 25/100\n",
      "13708/13708 [==============================] - 15s 1ms/step - loss: 0.4779 - accuracy: 0.7708\n",
      "Epoch 26/100\n",
      "13708/13708 [==============================] - 15s 1ms/step - loss: 0.4778 - accuracy: 0.7708\n",
      "Epoch 27/100\n",
      "13708/13708 [==============================] - 15s 1ms/step - loss: 0.4776 - accuracy: 0.7708\n",
      "Epoch 28/100\n",
      "13708/13708 [==============================] - 15s 1ms/step - loss: 0.4773 - accuracy: 0.7711\n",
      "Epoch 29/100\n",
      "13708/13708 [==============================] - 15s 1ms/step - loss: 0.4771 - accuracy: 0.7711\n",
      "Epoch 30/100\n",
      "13708/13708 [==============================] - 15s 1ms/step - loss: 0.4769 - accuracy: 0.7711\n",
      "Epoch 31/100\n",
      "13708/13708 [==============================] - 15s 1ms/step - loss: 0.4766 - accuracy: 0.7713\n",
      "Epoch 32/100\n",
      "13708/13708 [==============================] - 15s 1ms/step - loss: 0.4764 - accuracy: 0.7711\n",
      "Epoch 33/100\n",
      "13708/13708 [==============================] - 15s 1ms/step - loss: 0.4762 - accuracy: 0.7713\n",
      "Epoch 34/100\n",
      "13708/13708 [==============================] - 15s 1ms/step - loss: 0.4760 - accuracy: 0.7715\n",
      "Epoch 35/100\n",
      "13708/13708 [==============================] - 15s 1ms/step - loss: 0.4760 - accuracy: 0.7713\n",
      "Epoch 36/100\n",
      "13708/13708 [==============================] - 15s 1ms/step - loss: 0.4756 - accuracy: 0.7715\n",
      "Epoch 37/100\n",
      "13708/13708 [==============================] - 15s 1ms/step - loss: 0.4755 - accuracy: 0.7717\n",
      "Epoch 38/100\n",
      "13708/13708 [==============================] - 15s 1ms/step - loss: 0.4753 - accuracy: 0.7717\n",
      "Epoch 39/100\n",
      "13708/13708 [==============================] - 15s 1ms/step - loss: 0.4751 - accuracy: 0.7722\n",
      "Epoch 40/100\n",
      "13708/13708 [==============================] - 15s 1ms/step - loss: 0.4749 - accuracy: 0.7718\n",
      "Epoch 41/100\n",
      "13708/13708 [==============================] - 15s 1ms/step - loss: 0.4746 - accuracy: 0.7722\n",
      "Epoch 42/100\n",
      "13708/13708 [==============================] - 15s 1ms/step - loss: 0.4747 - accuracy: 0.7722\n",
      "Epoch 43/100\n",
      "13708/13708 [==============================] - 15s 1ms/step - loss: 0.4744 - accuracy: 0.7720\n",
      "Epoch 44/100\n",
      "13708/13708 [==============================] - 15s 1ms/step - loss: 0.4742 - accuracy: 0.7725\n",
      "Epoch 45/100\n",
      "13708/13708 [==============================] - 15s 1ms/step - loss: 0.4741 - accuracy: 0.7722\n",
      "Epoch 46/100\n",
      "13708/13708 [==============================] - 15s 1ms/step - loss: 0.4740 - accuracy: 0.7723\n",
      "Epoch 47/100\n",
      "13708/13708 [==============================] - 15s 1ms/step - loss: 0.4739 - accuracy: 0.7719\n",
      "Epoch 48/100\n",
      "13708/13708 [==============================] - 15s 1ms/step - loss: 0.4736 - accuracy: 0.7722\n",
      "Epoch 49/100\n",
      "13708/13708 [==============================] - 15s 1ms/step - loss: 0.4735 - accuracy: 0.7724\n",
      "Epoch 50/100\n",
      "13708/13708 [==============================] - 15s 1ms/step - loss: 0.4733 - accuracy: 0.7723\n",
      "Epoch 51/100\n",
      "13708/13708 [==============================] - 16s 1ms/step - loss: 0.4732 - accuracy: 0.7724\n",
      "Epoch 52/100\n",
      "13708/13708 [==============================] - 15s 1ms/step - loss: 0.4731 - accuracy: 0.7726\n",
      "Epoch 53/100\n",
      "13708/13708 [==============================] - 15s 1ms/step - loss: 0.4730 - accuracy: 0.7726\n",
      "Epoch 54/100\n",
      "13708/13708 [==============================] - 15s 1ms/step - loss: 0.4730 - accuracy: 0.7725\n",
      "Epoch 55/100\n",
      "13708/13708 [==============================] - 15s 1ms/step - loss: 0.4728 - accuracy: 0.7722\n",
      "Epoch 56/100\n",
      "13708/13708 [==============================] - 15s 1ms/step - loss: 0.4726 - accuracy: 0.7722\n",
      "Epoch 57/100\n",
      "13708/13708 [==============================] - 15s 1ms/step - loss: 0.4726 - accuracy: 0.7724\n",
      "Epoch 58/100\n",
      "13708/13708 [==============================] - 15s 1ms/step - loss: 0.4726 - accuracy: 0.7723\n",
      "Epoch 59/100\n",
      "13708/13708 [==============================] - 15s 1ms/step - loss: 0.4725 - accuracy: 0.7724\n",
      "Epoch 60/100\n",
      "13708/13708 [==============================] - 15s 1ms/step - loss: 0.4724 - accuracy: 0.7727\n",
      "Epoch 61/100\n",
      "13708/13708 [==============================] - 15s 1ms/step - loss: 0.4724 - accuracy: 0.7725\n",
      "Epoch 62/100\n",
      "13708/13708 [==============================] - 15s 1ms/step - loss: 0.4721 - accuracy: 0.7727\n",
      "Epoch 63/100\n",
      "13708/13708 [==============================] - 16s 1ms/step - loss: 0.4721 - accuracy: 0.7725\n",
      "Epoch 64/100\n",
      "13708/13708 [==============================] - 15s 1ms/step - loss: 0.4720 - accuracy: 0.7724\n",
      "Epoch 65/100\n",
      "13708/13708 [==============================] - 15s 1ms/step - loss: 0.4720 - accuracy: 0.7728\n",
      "Epoch 66/100\n",
      "13708/13708 [==============================] - 15s 1ms/step - loss: 0.4721 - accuracy: 0.7727\n",
      "Epoch 67/100\n",
      "13708/13708 [==============================] - 15s 1ms/step - loss: 0.4718 - accuracy: 0.7730\n",
      "Epoch 68/100\n",
      "13708/13708 [==============================] - 15s 1ms/step - loss: 0.4720 - accuracy: 0.7727\n",
      "Epoch 69/100\n",
      "13708/13708 [==============================] - 15s 1ms/step - loss: 0.4719 - accuracy: 0.7730\n",
      "Epoch 70/100\n",
      "13708/13708 [==============================] - 15s 1ms/step - loss: 0.4719 - accuracy: 0.7725\n",
      "Epoch 71/100\n",
      "13708/13708 [==============================] - 15s 1ms/step - loss: 0.4718 - accuracy: 0.7728\n",
      "Epoch 72/100\n",
      "13708/13708 [==============================] - 15s 1ms/step - loss: 0.4717 - accuracy: 0.7727\n",
      "Epoch 73/100\n",
      "13708/13708 [==============================] - 15s 1ms/step - loss: 0.4717 - accuracy: 0.7728\n",
      "Epoch 74/100\n",
      "13708/13708 [==============================] - 15s 1ms/step - loss: 0.4715 - accuracy: 0.7729\n",
      "Epoch 75/100\n",
      "13708/13708 [==============================] - 15s 1ms/step - loss: 0.4716 - accuracy: 0.7725\n",
      "Epoch 76/100\n",
      "13708/13708 [==============================] - 15s 1ms/step - loss: 0.4712 - accuracy: 0.7727\n",
      "Epoch 77/100\n",
      "13708/13708 [==============================] - 15s 1ms/step - loss: 0.4714 - accuracy: 0.7728\n",
      "Epoch 78/100\n",
      "13708/13708 [==============================] - 15s 1ms/step - loss: 0.4713 - accuracy: 0.7729\n",
      "Epoch 79/100\n",
      "13708/13708 [==============================] - 15s 1ms/step - loss: 0.4712 - accuracy: 0.7729\n",
      "Epoch 80/100\n",
      "13708/13708 [==============================] - 15s 1ms/step - loss: 0.4710 - accuracy: 0.7729\n",
      "Epoch 81/100\n",
      "13708/13708 [==============================] - 15s 1ms/step - loss: 0.4708 - accuracy: 0.7730\n",
      "Epoch 82/100\n",
      "13708/13708 [==============================] - 15s 1ms/step - loss: 0.4710 - accuracy: 0.7729\n",
      "Epoch 83/100\n",
      "13708/13708 [==============================] - 15s 1ms/step - loss: 0.4709 - accuracy: 0.7729\n",
      "Epoch 84/100\n",
      "13708/13708 [==============================] - 15s 1ms/step - loss: 0.4708 - accuracy: 0.7729\n",
      "Epoch 85/100\n",
      "13708/13708 [==============================] - 15s 1ms/step - loss: 0.4707 - accuracy: 0.7730\n",
      "Epoch 86/100\n",
      "13708/13708 [==============================] - 15s 1ms/step - loss: 0.4707 - accuracy: 0.7732\n",
      "Epoch 87/100\n",
      "13708/13708 [==============================] - 15s 1ms/step - loss: 0.4707 - accuracy: 0.7731\n",
      "Epoch 88/100\n",
      "13708/13708 [==============================] - 15s 1ms/step - loss: 0.4705 - accuracy: 0.7730\n",
      "Epoch 89/100\n",
      "13708/13708 [==============================] - 15s 1ms/step - loss: 0.4703 - accuracy: 0.7734\n",
      "Epoch 90/100\n",
      "13708/13708 [==============================] - 15s 1ms/step - loss: 0.4705 - accuracy: 0.7732\n",
      "Epoch 91/100\n",
      "13708/13708 [==============================] - 15s 1ms/step - loss: 0.4705 - accuracy: 0.7730\n",
      "Epoch 92/100\n",
      "13708/13708 [==============================] - 15s 1ms/step - loss: 0.4703 - accuracy: 0.7733\n",
      "Epoch 93/100\n",
      "13708/13708 [==============================] - 15s 1ms/step - loss: 0.4702 - accuracy: 0.7732\n",
      "Epoch 94/100\n",
      "13708/13708 [==============================] - 16s 1ms/step - loss: 0.4701 - accuracy: 0.7732\n",
      "Epoch 95/100\n",
      "13708/13708 [==============================] - 15s 1ms/step - loss: 0.4702 - accuracy: 0.7735\n",
      "Epoch 96/100\n",
      "13708/13708 [==============================] - 15s 1ms/step - loss: 0.4703 - accuracy: 0.7734\n",
      "Epoch 97/100\n",
      "13708/13708 [==============================] - 15s 1ms/step - loss: 0.4702 - accuracy: 0.7732\n",
      "Epoch 98/100\n",
      "13708/13708 [==============================] - 15s 1ms/step - loss: 0.4701 - accuracy: 0.7735\n",
      "Epoch 99/100\n",
      "13708/13708 [==============================] - 15s 1ms/step - loss: 0.4700 - accuracy: 0.7731\n",
      "Epoch 100/100\n",
      "13708/13708 [==============================] - 15s 1ms/step - loss: 0.4701 - accuracy: 0.7733\n"
     ]
    }
   ],
   "source": [
    "\n",
    "tf.random.set_seed(42)\n",
    "\n",
    "\n",
    "model_22 = tf.keras.Sequential([\n",
    "  tf.keras.layers.Dense(16,activation = 'relu'),\n",
    "  tf.keras.layers.Dense(32,activation = 'relu'),\n",
    "  tf.keras.layers.Dense(16,activation = 'relu'),\n",
    "  tf.keras.layers.Dense(9,activation = 'relu'),\n",
    "  tf.keras.layers.Dense(1,activation = 'sigmoid')                            \n",
    "])\n",
    "\n",
    "\n",
    "model_22.compile(loss = 'binary_crossentropy',\n",
    "                optimizer = tf.keras.optimizers.Adam(lr=0.001),\n",
    "                metrics = ['accuracy'])\n",
    "\n",
    "\n",
    "history_2 = model_22.fit(x_train1,y_train1,epochs = 100)"
   ]
  },
  {
   "cell_type": "code",
   "execution_count": 40,
   "metadata": {},
   "outputs": [
    {
     "name": "stdout",
     "output_type": "stream",
     "text": [
      "4570/4570 [==============================] - 4s 929us/step - loss: 0.4752 - accuracy: 0.7709\n"
     ]
    },
    {
     "data": {
      "text/plain": [
       "[0.4752020835876465, 0.7708585262298584]"
      ]
     },
     "execution_count": 40,
     "metadata": {},
     "output_type": "execute_result"
    }
   ],
   "source": [
    "model_22.evaluate(x_test1,y_test1)"
   ]
  },
  {
   "cell_type": "code",
   "execution_count": 41,
   "metadata": {},
   "outputs": [
    {
     "name": "stdout",
     "output_type": "stream",
     "text": [
      "13708/13708 [==============================] - 12s 865us/step\n",
      "4570/4570 [==============================] - 4s 846us/step\n",
      "              precision    recall  f1-score   support\n",
      "\n",
      "           0       0.82      0.71      0.76    219310\n",
      "           1       0.74      0.84      0.79    219323\n",
      "\n",
      "    accuracy                           0.77    438633\n",
      "   macro avg       0.78      0.77      0.77    438633\n",
      "weighted avg       0.78      0.77      0.77    438633\n",
      "\n",
      "              precision    recall  f1-score   support\n",
      "\n",
      "           0       0.81      0.70      0.75     73112\n",
      "           1       0.74      0.84      0.79     73099\n",
      "\n",
      "    accuracy                           0.77    146211\n",
      "   macro avg       0.78      0.77      0.77    146211\n",
      "weighted avg       0.78      0.77      0.77    146211\n",
      "\n"
     ]
    }
   ],
   "source": [
    "ypred_train22 = model_22.predict(x_train1)\n",
    "y_pred_test22 = model_22.predict(x_test1)\n",
    "\n",
    "y_pred_test22 = (y_pred_test22 > 0.5)\n",
    "ypred_train22 = (ypred_train22 > 0.5)\n",
    "\n",
    "print(classification_report(y_train1,ypred_train22))\n",
    "print(classification_report(y_test1,y_pred_test22))"
   ]
  },
  {
   "cell_type": "code",
   "execution_count": 42,
   "metadata": {},
   "outputs": [
    {
     "name": "stdout",
     "output_type": "stream",
     "text": [
      "4570/4570 [==============================] - 4s 933us/step\n"
     ]
    },
    {
     "data": {
      "image/png": "[encoded data removed]",
      "text/plain": [
       "<Figure size 640x480 with 1 Axes>"
      ]
     },
     "metadata": {},
     "output_type": "display_data"
    }
   ],
   "source": [
    "# cross_val_scores = cross_val_score(model_22, x_train1, y_train1, cv=5)\n",
    "# print(\"Cross-Validation Scores for the Best Model:\", cross_val_scores)\n",
    "# print(\"Average Cross-Validation Score:\", cross_val_scores.mean())\n",
    "\n",
    "y_proba_test = model_22.predict(x_test1).flatten()\n",
    "\n",
    "fpr, tpr, thresholds = roc_curve(y_test1, y_proba_test)\n",
    "\n",
    "plt.plot(fpr, tpr, label='ROC Curve')\n",
    "plt.xlabel('False Positive Rate')\n",
    "plt.ylabel('True Positive Rate')\n",
    "plt.title('ROC Curve with AUC = {:.2f}'.format(roc_auc_score(y_test1, y_proba_test)))\n",
    "plt.legend(loc='lower right')\n",
    "plt.grid(True)\n",
    "plt.show()"
   ]
  },
  {
   "cell_type": "markdown",
   "metadata": {},
   "source": [
    "## inne próby sieci neuronowych "
   ]
  },
  {
   "cell_type": "code",
   "execution_count": 43,
   "metadata": {},
   "outputs": [
    {
     "name": "stderr",
     "output_type": "stream",
     "text": [
      "WARNING:absl:`lr` is deprecated in Keras optimizer, please use `learning_rate` or use the legacy optimizer, e.g.,tf.keras.optimizers.legacy.Adam.\n"
     ]
    },
    {
     "name": "stdout",
     "output_type": "stream",
     "text": [
      "Epoch 1/100\n",
      "13708/13708 [==============================] - 16s 1ms/step - loss: 0.4958 - accuracy: 0.7611\n",
      "Epoch 2/100\n",
      "13708/13708 [==============================] - 14s 1ms/step - loss: 0.4892 - accuracy: 0.7659\n",
      "Epoch 3/100\n",
      "13708/13708 [==============================] - 14s 1ms/step - loss: 0.4884 - accuracy: 0.7668\n",
      "Epoch 4/100\n",
      "13708/13708 [==============================] - 14s 1ms/step - loss: 0.4879 - accuracy: 0.7667\n",
      "Epoch 5/100\n",
      "13708/13708 [==============================] - 15s 1ms/step - loss: 0.4876 - accuracy: 0.7671\n",
      "Epoch 6/100\n",
      "13708/13708 [==============================] - 15s 1ms/step - loss: 0.4873 - accuracy: 0.7675\n",
      "Epoch 7/100\n",
      "13708/13708 [==============================] - 14s 1ms/step - loss: 0.4871 - accuracy: 0.7671\n",
      "Epoch 8/100\n",
      "13708/13708 [==============================] - 15s 1ms/step - loss: 0.4870 - accuracy: 0.7673\n",
      "Epoch 9/100\n",
      "13708/13708 [==============================] - 14s 1ms/step - loss: 0.4870 - accuracy: 0.7675\n",
      "Epoch 10/100\n",
      "13708/13708 [==============================] - 14s 1ms/step - loss: 0.4868 - accuracy: 0.7674\n",
      "Epoch 11/100\n",
      "13708/13708 [==============================] - 14s 1ms/step - loss: 0.4867 - accuracy: 0.7673\n",
      "Epoch 12/100\n",
      "13708/13708 [==============================] - 15s 1ms/step - loss: 0.4866 - accuracy: 0.7673\n",
      "Epoch 13/100\n",
      "13708/13708 [==============================] - 14s 1ms/step - loss: 0.4866 - accuracy: 0.7680\n",
      "Epoch 14/100\n",
      "13708/13708 [==============================] - 14s 1ms/step - loss: 0.4866 - accuracy: 0.7678\n",
      "Epoch 15/100\n",
      "13708/13708 [==============================] - 14s 1ms/step - loss: 0.4865 - accuracy: 0.7676\n",
      "Epoch 16/100\n",
      "13708/13708 [==============================] - 14s 1ms/step - loss: 0.4864 - accuracy: 0.7677\n",
      "Epoch 17/100\n",
      "13708/13708 [==============================] - 14s 1ms/step - loss: 0.4863 - accuracy: 0.7678\n",
      "Epoch 18/100\n",
      "13708/13708 [==============================] - 15s 1ms/step - loss: 0.4864 - accuracy: 0.7680\n",
      "Epoch 19/100\n",
      "13708/13708 [==============================] - 15s 1ms/step - loss: 0.4863 - accuracy: 0.7677\n",
      "Epoch 20/100\n",
      "13708/13708 [==============================] - 14s 1ms/step - loss: 0.4862 - accuracy: 0.7678\n",
      "Epoch 21/100\n",
      "13708/13708 [==============================] - 14s 1ms/step - loss: 0.4862 - accuracy: 0.7682\n",
      "Epoch 22/100\n",
      "13708/13708 [==============================] - 14s 1ms/step - loss: 0.4861 - accuracy: 0.7680\n",
      "Epoch 23/100\n",
      "13708/13708 [==============================] - 14s 1ms/step - loss: 0.4862 - accuracy: 0.7680\n",
      "Epoch 24/100\n",
      "13708/13708 [==============================] - 14s 1ms/step - loss: 0.4861 - accuracy: 0.7679\n",
      "Epoch 25/100\n",
      "13708/13708 [==============================] - 14s 1ms/step - loss: 0.4861 - accuracy: 0.7681\n",
      "Epoch 26/100\n",
      "13708/13708 [==============================] - 14s 1ms/step - loss: 0.4861 - accuracy: 0.7681\n",
      "Epoch 27/100\n",
      "13708/13708 [==============================] - 15s 1ms/step - loss: 0.4860 - accuracy: 0.7680\n",
      "Epoch 28/100\n",
      "13708/13708 [==============================] - 15s 1ms/step - loss: 0.4860 - accuracy: 0.7681\n",
      "Epoch 29/100\n",
      "13708/13708 [==============================] - 15s 1ms/step - loss: 0.4859 - accuracy: 0.7681\n",
      "Epoch 30/100\n",
      "13708/13708 [==============================] - 15s 1ms/step - loss: 0.4859 - accuracy: 0.7679\n",
      "Epoch 31/100\n",
      "13708/13708 [==============================] - 15s 1ms/step - loss: 0.4860 - accuracy: 0.7682\n",
      "Epoch 32/100\n",
      "13708/13708 [==============================] - 15s 1ms/step - loss: 0.4858 - accuracy: 0.7683\n",
      "Epoch 33/100\n",
      "13708/13708 [==============================] - 14s 1ms/step - loss: 0.4858 - accuracy: 0.7681\n",
      "Epoch 34/100\n",
      "13708/13708 [==============================] - 14s 1ms/step - loss: 0.4859 - accuracy: 0.7681\n",
      "Epoch 35/100\n",
      "13708/13708 [==============================] - 14s 1ms/step - loss: 0.4857 - accuracy: 0.7683\n",
      "Epoch 36/100\n",
      "13708/13708 [==============================] - 13s 947us/step - loss: 0.4856 - accuracy: 0.7684\n",
      "Epoch 37/100\n",
      "13708/13708 [==============================] - 13s 918us/step - loss: 0.4856 - accuracy: 0.7682\n",
      "Epoch 38/100\n",
      "13708/13708 [==============================] - 13s 936us/step - loss: 0.4857 - accuracy: 0.7681\n",
      "Epoch 39/100\n",
      "13708/13708 [==============================] - 13s 930us/step - loss: 0.4856 - accuracy: 0.7685\n",
      "Epoch 40/100\n",
      "13708/13708 [==============================] - 13s 932us/step - loss: 0.4856 - accuracy: 0.7688\n",
      "Epoch 41/100\n",
      "13708/13708 [==============================] - 13s 936us/step - loss: 0.4854 - accuracy: 0.7684\n",
      "Epoch 42/100\n",
      "13708/13708 [==============================] - 13s 928us/step - loss: 0.4854 - accuracy: 0.7686\n",
      "Epoch 43/100\n",
      "13708/13708 [==============================] - 13s 949us/step - loss: 0.4854 - accuracy: 0.7686\n",
      "Epoch 44/100\n",
      "13708/13708 [==============================] - 13s 920us/step - loss: 0.4853 - accuracy: 0.7688\n",
      "Epoch 45/100\n",
      "13708/13708 [==============================] - 13s 944us/step - loss: 0.4854 - accuracy: 0.7688\n",
      "Epoch 46/100\n",
      "13708/13708 [==============================] - 13s 950us/step - loss: 0.4853 - accuracy: 0.7688\n",
      "Epoch 47/100\n",
      "13708/13708 [==============================] - 12s 908us/step - loss: 0.4853 - accuracy: 0.7684\n",
      "Epoch 48/100\n",
      "13708/13708 [==============================] - 13s 928us/step - loss: 0.4853 - accuracy: 0.7684\n",
      "Epoch 49/100\n",
      "13708/13708 [==============================] - 12s 910us/step - loss: 0.4852 - accuracy: 0.7682\n",
      "Epoch 50/100\n",
      "13708/13708 [==============================] - 13s 935us/step - loss: 0.4852 - accuracy: 0.7684\n",
      "Epoch 51/100\n",
      "13708/13708 [==============================] - 13s 927us/step - loss: 0.4852 - accuracy: 0.7686\n",
      "Epoch 52/100\n",
      "13708/13708 [==============================] - 13s 933us/step - loss: 0.4851 - accuracy: 0.7685\n",
      "Epoch 53/100\n",
      "13708/13708 [==============================] - 13s 917us/step - loss: 0.4851 - accuracy: 0.7687\n",
      "Epoch 54/100\n",
      "13708/13708 [==============================] - 13s 926us/step - loss: 0.4850 - accuracy: 0.7686\n",
      "Epoch 55/100\n",
      "13708/13708 [==============================] - 13s 933us/step - loss: 0.4850 - accuracy: 0.7685\n",
      "Epoch 56/100\n",
      "13708/13708 [==============================] - 13s 930us/step - loss: 0.4850 - accuracy: 0.7687\n",
      "Epoch 57/100\n",
      "13708/13708 [==============================] - 13s 935us/step - loss: 0.4850 - accuracy: 0.7685\n",
      "Epoch 58/100\n",
      "13708/13708 [==============================] - 13s 933us/step - loss: 0.4849 - accuracy: 0.7684\n",
      "Epoch 59/100\n",
      "13708/13708 [==============================] - 13s 930us/step - loss: 0.4849 - accuracy: 0.7686\n",
      "Epoch 60/100\n",
      "13708/13708 [==============================] - 13s 937us/step - loss: 0.4849 - accuracy: 0.7685\n",
      "Epoch 61/100\n",
      "13708/13708 [==============================] - 13s 926us/step - loss: 0.4849 - accuracy: 0.7688\n",
      "Epoch 62/100\n",
      "13708/13708 [==============================] - 13s 931us/step - loss: 0.4849 - accuracy: 0.7687\n",
      "Epoch 63/100\n",
      "13708/13708 [==============================] - 13s 939us/step - loss: 0.4848 - accuracy: 0.7684\n",
      "Epoch 64/100\n",
      "13708/13708 [==============================] - 13s 922us/step - loss: 0.4848 - accuracy: 0.7686\n",
      "Epoch 65/100\n",
      "13708/13708 [==============================] - 13s 928us/step - loss: 0.4848 - accuracy: 0.7686\n",
      "Epoch 66/100\n",
      "13708/13708 [==============================] - 13s 914us/step - loss: 0.4848 - accuracy: 0.7686\n",
      "Epoch 67/100\n",
      "13708/13708 [==============================] - 13s 936us/step - loss: 0.4847 - accuracy: 0.7685\n",
      "Epoch 68/100\n",
      "13708/13708 [==============================] - 13s 930us/step - loss: 0.4848 - accuracy: 0.7687\n",
      "Epoch 69/100\n",
      "13708/13708 [==============================] - 13s 922us/step - loss: 0.4848 - accuracy: 0.7687\n",
      "Epoch 70/100\n",
      "13708/13708 [==============================] - 13s 920us/step - loss: 0.4847 - accuracy: 0.7688\n",
      "Epoch 71/100\n",
      "13708/13708 [==============================] - 13s 917us/step - loss: 0.4846 - accuracy: 0.7687\n",
      "Epoch 72/100\n",
      "13708/13708 [==============================] - 13s 927us/step - loss: 0.4847 - accuracy: 0.7685\n",
      "Epoch 73/100\n",
      "13708/13708 [==============================] - 13s 931us/step - loss: 0.4846 - accuracy: 0.7686\n",
      "Epoch 74/100\n",
      "13708/13708 [==============================] - 13s 931us/step - loss: 0.4846 - accuracy: 0.7688\n",
      "Epoch 75/100\n",
      "13708/13708 [==============================] - 13s 935us/step - loss: 0.4846 - accuracy: 0.7688\n",
      "Epoch 76/100\n",
      "13708/13708 [==============================] - 13s 919us/step - loss: 0.4847 - accuracy: 0.7685\n",
      "Epoch 77/100\n",
      "13708/13708 [==============================] - 13s 933us/step - loss: 0.4846 - accuracy: 0.7690\n",
      "Epoch 78/100\n",
      "13708/13708 [==============================] - 13s 929us/step - loss: 0.4846 - accuracy: 0.7690\n",
      "Epoch 79/100\n",
      "13708/13708 [==============================] - 13s 942us/step - loss: 0.4846 - accuracy: 0.7687\n",
      "Epoch 80/100\n",
      "13708/13708 [==============================] - 13s 937us/step - loss: 0.4845 - accuracy: 0.7688\n",
      "Epoch 81/100\n",
      "13708/13708 [==============================] - 13s 923us/step - loss: 0.4845 - accuracy: 0.7688\n",
      "Epoch 82/100\n",
      "13708/13708 [==============================] - 13s 935us/step - loss: 0.4845 - accuracy: 0.7686\n",
      "Epoch 83/100\n",
      "13708/13708 [==============================] - 13s 924us/step - loss: 0.4844 - accuracy: 0.7687\n",
      "Epoch 84/100\n",
      "13708/13708 [==============================] - 13s 938us/step - loss: 0.4845 - accuracy: 0.7687\n",
      "Epoch 85/100\n",
      "13708/13708 [==============================] - 13s 952us/step - loss: 0.4844 - accuracy: 0.7688\n",
      "Epoch 86/100\n",
      "13708/13708 [==============================] - 13s 971us/step - loss: 0.4845 - accuracy: 0.7684\n",
      "Epoch 87/100\n",
      "13708/13708 [==============================] - 14s 1ms/step - loss: 0.4844 - accuracy: 0.7684\n",
      "Epoch 88/100\n",
      "13708/13708 [==============================] - 13s 931us/step - loss: 0.4844 - accuracy: 0.7689\n",
      "Epoch 89/100\n",
      "13708/13708 [==============================] - 13s 936us/step - loss: 0.4844 - accuracy: 0.7690\n",
      "Epoch 90/100\n",
      "13708/13708 [==============================] - 13s 943us/step - loss: 0.4843 - accuracy: 0.7688\n",
      "Epoch 91/100\n",
      "13708/13708 [==============================] - 13s 930us/step - loss: 0.4844 - accuracy: 0.7685\n",
      "Epoch 92/100\n",
      "13708/13708 [==============================] - 13s 953us/step - loss: 0.4844 - accuracy: 0.7690\n",
      "Epoch 93/100\n",
      "13708/13708 [==============================] - 13s 951us/step - loss: 0.4843 - accuracy: 0.7685\n",
      "Epoch 94/100\n",
      "13708/13708 [==============================] - 14s 1ms/step - loss: 0.4842 - accuracy: 0.7688\n",
      "Epoch 95/100\n",
      "13708/13708 [==============================] - 13s 922us/step - loss: 0.4843 - accuracy: 0.7687\n",
      "Epoch 96/100\n",
      "13708/13708 [==============================] - 13s 938us/step - loss: 0.4843 - accuracy: 0.7689\n",
      "Epoch 97/100\n",
      "13708/13708 [==============================] - 13s 939us/step - loss: 0.4843 - accuracy: 0.7688\n",
      "Epoch 98/100\n",
      "13708/13708 [==============================] - 13s 939us/step - loss: 0.4842 - accuracy: 0.7690\n",
      "Epoch 99/100\n",
      "13708/13708 [==============================] - 13s 944us/step - loss: 0.4842 - accuracy: 0.7688\n",
      "Epoch 100/100\n",
      "13708/13708 [==============================] - 13s 931us/step - loss: 0.4842 - accuracy: 0.7691\n"
     ]
    }
   ],
   "source": [
    "\n",
    "tf.random.set_seed(42)\n",
    "\n",
    "\n",
    "\n",
    "model_2 = tf.keras.Sequential([\n",
    "  tf.keras.layers.Dense(16,activation = 'relu'),\n",
    "  tf.keras.layers.Dense(6,activation = 'relu'),\n",
    "  tf.keras.layers.Dense(6,activation = 'relu'),\n",
    "  tf.keras.layers.Dense(1,activation = 'sigmoid')                            \n",
    "])\n",
    "\n",
    "\n",
    "model_2.compile(loss = 'binary_crossentropy',\n",
    "                optimizer = tf.keras.optimizers.Adam(lr=0.001),\n",
    "                metrics = ['accuracy'])\n",
    "\n",
    "\n",
    "history_2 = model_2.fit(x_train1,y_train1,epochs = 100)"
   ]
  },
  {
   "cell_type": "code",
   "execution_count": 44,
   "metadata": {},
   "outputs": [
    {
     "name": "stdout",
     "output_type": "stream",
     "text": [
      "4570/4570 [==============================] - 4s 827us/step - loss: 0.4865 - accuracy: 0.7671\n"
     ]
    },
    {
     "data": {
      "text/plain": [
       "[0.4865081012248993, 0.7671447396278381]"
      ]
     },
     "execution_count": 44,
     "metadata": {},
     "output_type": "execute_result"
    }
   ],
   "source": [
    "model_2.evaluate(x_test1,y_test1)"
   ]
  },
  {
   "cell_type": "code",
   "execution_count": 45,
   "metadata": {},
   "outputs": [
    {
     "name": "stdout",
     "output_type": "stream",
     "text": [
      "13708/13708 [==============================] - 11s 806us/step\n",
      "4570/4570 [==============================] - 4s 768us/step\n",
      "              precision    recall  f1-score   support\n",
      "\n",
      "           0       0.80      0.72      0.76    219310\n",
      "           1       0.74      0.82      0.78    219323\n",
      "\n",
      "    accuracy                           0.77    438633\n",
      "   macro avg       0.77      0.77      0.77    438633\n",
      "weighted avg       0.77      0.77      0.77    438633\n",
      "\n",
      "              precision    recall  f1-score   support\n",
      "\n",
      "           0       0.80      0.71      0.75     73112\n",
      "           1       0.74      0.82      0.78     73099\n",
      "\n",
      "    accuracy                           0.77    146211\n",
      "   macro avg       0.77      0.77      0.77    146211\n",
      "weighted avg       0.77      0.77      0.77    146211\n",
      "\n"
     ]
    }
   ],
   "source": [
    "ypred_train11 = model_2.predict(x_train1)\n",
    "y_pred_test11 = model_2.predict(x_test1)\n",
    "\n",
    "y_pred_test11 = (y_pred_test11 > 0.5)\n",
    "ypred_train11 = (ypred_train11 > 0.5)\n",
    "\n",
    "print(classification_report(y_train1,ypred_train11))\n",
    "print(classification_report(y_test1,y_pred_test11))"
   ]
  },
  {
   "cell_type": "code",
   "execution_count": 46,
   "metadata": {},
   "outputs": [
    {
     "name": "stdout",
     "output_type": "stream",
     "text": [
      "4570/4570 [==============================] - 4s 801us/step\n"
     ]
    },
    {
     "data": {
      "image/png": "[encoded data removed]",
      "text/plain": [
       "<Figure size 640x480 with 1 Axes>"
      ]
     },
     "metadata": {},
     "output_type": "display_data"
    }
   ],
   "source": [
    "# cross_val_scores = cross_val_score(model_2, x_train1, y_train1, cv=5)\n",
    "# print(\"Cross-Validation Scores for the Best Model:\", cross_val_scores)\n",
    "# print(\"Average Cross-Validation Score:\", cross_val_scores.mean())\n",
    "\n",
    "y_proba_test = model_2.predict(x_test1).flatten()\n",
    "\n",
    "fpr, tpr, thresholds = roc_curve(y_test1, y_proba_test)\n",
    "\n",
    "plt.plot(fpr, tpr, label='ROC Curve')\n",
    "plt.xlabel('False Positive Rate')\n",
    "plt.ylabel('True Positive Rate')\n",
    "plt.title('ROC Curve with AUC = {:.2f}'.format(roc_auc_score(y_test1, y_proba_test)))\n",
    "plt.legend(loc='lower right')\n",
    "plt.grid(True)\n",
    "plt.show()"
   ]
  },
  {
   "cell_type": "markdown",
   "metadata": {},
   "source": [
    "## inne próby sieci neuronowych "
   ]
  },
  {
   "cell_type": "code",
   "execution_count": 47,
   "metadata": {},
   "outputs": [],
   "source": [
    "model1 = Sequential()\n",
    "model1.add(Dense(units=16,activation='relu'))\n",
    "model1.add(Dropout(0.5))\n",
    "\n",
    "model1.add(Dense(units=15,activation='relu'))\n",
    "model1.add(Dropout(0.5))\n",
    "\n",
    "model1.add(Dense(units=1,activation='sigmoid'))\n",
    "model1.compile(loss='binary_crossentropy', optimizer='adam')"
   ]
  },
  {
   "cell_type": "code",
   "execution_count": 48,
   "metadata": {},
   "outputs": [
    {
     "name": "stdout",
     "output_type": "stream",
     "text": [
      "Epoch 1/100\n",
      "13708/13708 [==============================] - 18s 1ms/step - loss: 0.5427 - val_loss: 0.4955\n",
      "Epoch 2/100\n",
      "13708/13708 [==============================] - 16s 1ms/step - loss: 0.5263 - val_loss: 0.4973\n",
      "Epoch 3/100\n",
      "13708/13708 [==============================] - 16s 1ms/step - loss: 0.5242 - val_loss: 0.4978\n",
      "Epoch 4/100\n",
      "13708/13708 [==============================] - 16s 1ms/step - loss: 0.5213 - val_loss: 0.4983\n",
      "Epoch 5/100\n",
      "13708/13708 [==============================] - 16s 1ms/step - loss: 0.5210 - val_loss: 0.5000\n",
      "Epoch 6/100\n",
      "13708/13708 [==============================] - 16s 1ms/step - loss: 0.5205 - val_loss: 0.4992\n",
      "Epoch 7/100\n",
      "13708/13708 [==============================] - 16s 1ms/step - loss: 0.5206 - val_loss: 0.4978\n",
      "Epoch 8/100\n",
      "13708/13708 [==============================] - 16s 1ms/step - loss: 0.5205 - val_loss: 0.5009\n",
      "Epoch 9/100\n",
      "13708/13708 [==============================] - 16s 1ms/step - loss: 0.5204 - val_loss: 0.5001\n",
      "Epoch 10/100\n",
      "13708/13708 [==============================] - 16s 1ms/step - loss: 0.5194 - val_loss: 0.4972\n",
      "Epoch 11/100\n",
      "13708/13708 [==============================] - 16s 1ms/step - loss: 0.5199 - val_loss: 0.4984\n",
      "Epoch 12/100\n",
      "13708/13708 [==============================] - 16s 1ms/step - loss: 0.5200 - val_loss: 0.4995\n",
      "Epoch 13/100\n",
      "13708/13708 [==============================] - 16s 1ms/step - loss: 0.5190 - val_loss: 0.4968\n",
      "Epoch 14/100\n",
      "13708/13708 [==============================] - 16s 1ms/step - loss: 0.5194 - val_loss: 0.5022\n",
      "Epoch 15/100\n",
      "13708/13708 [==============================] - 16s 1ms/step - loss: 0.5194 - val_loss: 0.4997\n",
      "Epoch 16/100\n",
      "13708/13708 [==============================] - 16s 1ms/step - loss: 0.5192 - val_loss: 0.4993\n",
      "Epoch 17/100\n",
      "13708/13708 [==============================] - 16s 1ms/step - loss: 0.5193 - val_loss: 0.4994\n",
      "Epoch 18/100\n",
      "13708/13708 [==============================] - 16s 1ms/step - loss: 0.5192 - val_loss: 0.4977\n",
      "Epoch 19/100\n",
      "13708/13708 [==============================] - 16s 1ms/step - loss: 0.5193 - val_loss: 0.4995\n",
      "Epoch 20/100\n",
      "13708/13708 [==============================] - 16s 1ms/step - loss: 0.5194 - val_loss: 0.5006\n",
      "Epoch 21/100\n",
      "13708/13708 [==============================] - 17s 1ms/step - loss: 0.5198 - val_loss: 0.4986\n",
      "Epoch 22/100\n",
      "13708/13708 [==============================] - 16s 1ms/step - loss: 0.5194 - val_loss: 0.4971\n",
      "Epoch 23/100\n",
      "13708/13708 [==============================] - 16s 1ms/step - loss: 0.5189 - val_loss: 0.4989\n",
      "Epoch 24/100\n",
      "13708/13708 [==============================] - 16s 1ms/step - loss: 0.5190 - val_loss: 0.4967\n",
      "Epoch 25/100\n",
      "13708/13708 [==============================] - 16s 1ms/step - loss: 0.5194 - val_loss: 0.4980\n",
      "Epoch 26/100\n",
      "13708/13708 [==============================] - 16s 1ms/step - loss: 0.5200 - val_loss: 0.4993\n",
      "Epoch 26: early stopping\n"
     ]
    },
    {
     "data": {
      "text/plain": [
       "<keras.src.callbacks.History at 0x118773346d0>"
      ]
     },
     "execution_count": 48,
     "metadata": {},
     "output_type": "execute_result"
    }
   ],
   "source": [
    "model1.fit(x=x_train1, \n",
    "          y=y_train1, \n",
    "          epochs=100,\n",
    "          validation_data=(x_test1, y_test1), verbose=1,\n",
    "          callbacks=[early_stop]\n",
    "          )"
   ]
  },
  {
   "cell_type": "code",
   "execution_count": 49,
   "metadata": {},
   "outputs": [
    {
     "name": "stdout",
     "output_type": "stream",
     "text": [
      "13708/13708 [==============================] - 11s 788us/step\n",
      "4570/4570 [==============================] - 3s 734us/step\n",
      "              precision    recall  f1-score   support\n",
      "\n",
      "           0       0.78      0.74      0.76    219310\n",
      "           1       0.75      0.79      0.77    219323\n",
      "\n",
      "    accuracy                           0.77    438633\n",
      "   macro avg       0.77      0.77      0.77    438633\n",
      "weighted avg       0.77      0.77      0.77    438633\n",
      "\n",
      "              precision    recall  f1-score   support\n",
      "\n",
      "           0       0.78      0.74      0.76     73112\n",
      "           1       0.75      0.79      0.77     73099\n",
      "\n",
      "    accuracy                           0.76    146211\n",
      "   macro avg       0.76      0.76      0.76    146211\n",
      "weighted avg       0.76      0.76      0.76    146211\n",
      "\n"
     ]
    }
   ],
   "source": [
    "ypred_train12 = model1.predict(x_train1)\n",
    "y_pred_test12 = model1.predict(x_test1)\n",
    "\n",
    "y_pred_test12 = (y_pred_test12 > 0.5)\n",
    "ypred_train12 = (ypred_train12 > 0.5)\n",
    "\n",
    "print(classification_report(y_train1,ypred_train12))\n",
    "print(classification_report(y_test1,y_pred_test12))"
   ]
  },
  {
   "cell_type": "code",
   "execution_count": 50,
   "metadata": {},
   "outputs": [
    {
     "name": "stdout",
     "output_type": "stream",
     "text": [
      "4570/4570 [==============================] - 4s 800us/step\n"
     ]
    },
    {
     "data": {
      "image/png": "[encoded data removed]",
      "text/plain": [
       "<Figure size 640x480 with 1 Axes>"
      ]
     },
     "metadata": {},
     "output_type": "display_data"
    }
   ],
   "source": [
    "# cross_val_scores = cross_val_score(model1, x_train1, y_train1, cv=5)\n",
    "# print(\"Cross-Validation Scores for the Best Model:\", cross_val_scores)\n",
    "# print(\"Average Cross-Validation Score:\", cross_val_scores.mean())\n",
    "\n",
    "y_proba_test = model1.predict(x_test1).flatten()\n",
    "\n",
    "fpr, tpr, thresholds = roc_curve(y_test1, y_proba_test)\n",
    "\n",
    "plt.plot(fpr, tpr, label='ROC Curve')\n",
    "plt.xlabel('False Positive Rate')\n",
    "plt.ylabel('True Positive Rate')\n",
    "plt.title('ROC Curve with AUC = {:.2f}'.format(roc_auc_score(y_test1, y_proba_test)))\n",
    "plt.legend(loc='lower right')\n",
    "plt.grid(True)\n",
    "plt.show()"
   ]
  },
  {
   "cell_type": "markdown",
   "metadata": {},
   "source": [
    "## inny model"
   ]
  },
  {
   "cell_type": "code",
   "execution_count": 51,
   "metadata": {},
   "outputs": [],
   "source": [
    "model2 = Sequential()\n",
    "\n",
    "\n",
    "\n",
    "model2.add(Dense(16,  activation='relu'))\n",
    "model2.add(Dropout(0.2))\n",
    "\n",
    "model2.add(Dense(10, activation='relu'))\n",
    "model2.add(Dropout(0.2))\n",
    "\n",
    "model2.add(Dense(units=1,activation='sigmoid'))\n",
    "\n",
    "model2.compile(loss='binary_crossentropy', optimizer='adam')"
   ]
  },
  {
   "cell_type": "code",
   "execution_count": 52,
   "metadata": {},
   "outputs": [
    {
     "name": "stdout",
     "output_type": "stream",
     "text": [
      "Epoch 1/100\n",
      "13708/13708 [==============================] - 17s 1ms/step - loss: 0.5175 - val_loss: 0.4924\n",
      "Epoch 2/100\n",
      "13708/13708 [==============================] - 16s 1ms/step - loss: 0.5038 - val_loss: 0.4916\n",
      "Epoch 3/100\n",
      "13708/13708 [==============================] - 16s 1ms/step - loss: 0.5023 - val_loss: 0.4916\n",
      "Epoch 4/100\n",
      "13708/13708 [==============================] - 16s 1ms/step - loss: 0.5014 - val_loss: 0.4911\n",
      "Epoch 5/100\n",
      "13708/13708 [==============================] - 16s 1ms/step - loss: 0.5009 - val_loss: 0.4933\n",
      "Epoch 6/100\n",
      "13708/13708 [==============================] - 16s 1ms/step - loss: 0.5008 - val_loss: 0.4914\n",
      "Epoch 7/100\n",
      "13708/13708 [==============================] - 16s 1ms/step - loss: 0.5003 - val_loss: 0.4915\n",
      "Epoch 8/100\n",
      "13708/13708 [==============================] - 16s 1ms/step - loss: 0.5000 - val_loss: 0.4917\n",
      "Epoch 9/100\n",
      "13708/13708 [==============================] - 16s 1ms/step - loss: 0.5004 - val_loss: 0.4935\n",
      "Epoch 10/100\n",
      "13708/13708 [==============================] - 16s 1ms/step - loss: 0.5000 - val_loss: 0.4907\n",
      "Epoch 11/100\n",
      "13708/13708 [==============================] - 16s 1ms/step - loss: 0.4998 - val_loss: 0.4924\n",
      "Epoch 12/100\n",
      "13708/13708 [==============================] - 16s 1ms/step - loss: 0.4996 - val_loss: 0.4930\n",
      "Epoch 13/100\n",
      "13708/13708 [==============================] - 16s 1ms/step - loss: 0.4999 - val_loss: 0.4901\n",
      "Epoch 14/100\n",
      "13708/13708 [==============================] - 16s 1ms/step - loss: 0.4997 - val_loss: 0.4942\n",
      "Epoch 15/100\n",
      "13708/13708 [==============================] - 16s 1ms/step - loss: 0.4999 - val_loss: 0.4924\n",
      "Epoch 16/100\n",
      "13708/13708 [==============================] - 16s 1ms/step - loss: 0.4994 - val_loss: 0.4902\n",
      "Epoch 17/100\n",
      "13708/13708 [==============================] - 16s 1ms/step - loss: 0.4995 - val_loss: 0.4902\n",
      "Epoch 18/100\n",
      "13708/13708 [==============================] - 17s 1ms/step - loss: 0.4991 - val_loss: 0.4899\n",
      "Epoch 19/100\n",
      "13708/13708 [==============================] - 17s 1ms/step - loss: 0.4993 - val_loss: 0.4922\n",
      "Epoch 20/100\n",
      "13708/13708 [==============================] - 17s 1ms/step - loss: 0.4996 - val_loss: 0.4923\n",
      "Epoch 21/100\n",
      "13708/13708 [==============================] - 17s 1ms/step - loss: 0.4994 - val_loss: 0.4926\n",
      "Epoch 22/100\n",
      "13708/13708 [==============================] - 17s 1ms/step - loss: 0.4994 - val_loss: 0.4918\n",
      "Epoch 23/100\n",
      "13708/13708 [==============================] - 17s 1ms/step - loss: 0.4996 - val_loss: 0.4900\n",
      "Epoch 24/100\n",
      "13708/13708 [==============================] - 17s 1ms/step - loss: 0.4993 - val_loss: 0.4895\n",
      "Epoch 25/100\n",
      "13708/13708 [==============================] - 17s 1ms/step - loss: 0.4991 - val_loss: 0.4901\n",
      "Epoch 26/100\n",
      "13708/13708 [==============================] - 17s 1ms/step - loss: 0.4994 - val_loss: 0.4897\n",
      "Epoch 27/100\n",
      "13708/13708 [==============================] - 17s 1ms/step - loss: 0.4990 - val_loss: 0.4897\n",
      "Epoch 28/100\n",
      "13708/13708 [==============================] - 17s 1ms/step - loss: 0.4990 - val_loss: 0.4942\n",
      "Epoch 29/100\n",
      "13708/13708 [==============================] - 17s 1ms/step - loss: 0.4988 - val_loss: 0.4930\n",
      "Epoch 30/100\n",
      "13708/13708 [==============================] - 17s 1ms/step - loss: 0.4990 - val_loss: 0.4892\n",
      "Epoch 31/100\n",
      "13708/13708 [==============================] - 17s 1ms/step - loss: 0.4991 - val_loss: 0.4895\n",
      "Epoch 32/100\n",
      "13708/13708 [==============================] - 16s 1ms/step - loss: 0.4992 - val_loss: 0.4904\n",
      "Epoch 33/100\n",
      "13708/13708 [==============================] - 16s 1ms/step - loss: 0.4987 - val_loss: 0.4941\n",
      "Epoch 34/100\n",
      "13708/13708 [==============================] - 16s 1ms/step - loss: 0.4991 - val_loss: 0.4912\n",
      "Epoch 35/100\n",
      "13708/13708 [==============================] - 17s 1ms/step - loss: 0.4992 - val_loss: 0.4899\n",
      "Epoch 36/100\n",
      "13708/13708 [==============================] - 16s 1ms/step - loss: 0.4990 - val_loss: 0.4938\n",
      "Epoch 37/100\n",
      "13708/13708 [==============================] - 17s 1ms/step - loss: 0.4988 - val_loss: 0.4892\n",
      "Epoch 38/100\n",
      "13708/13708 [==============================] - 17s 1ms/step - loss: 0.4986 - val_loss: 0.4902\n",
      "Epoch 39/100\n",
      "13708/13708 [==============================] - 17s 1ms/step - loss: 0.4989 - val_loss: 0.4920\n",
      "Epoch 40/100\n",
      "13708/13708 [==============================] - 17s 1ms/step - loss: 0.4990 - val_loss: 0.4927\n",
      "Epoch 41/100\n",
      "13708/13708 [==============================] - 17s 1ms/step - loss: 0.4984 - val_loss: 0.4909\n",
      "Epoch 42/100\n",
      "13708/13708 [==============================] - 17s 1ms/step - loss: 0.4987 - val_loss: 0.4891\n",
      "Epoch 43/100\n",
      "13708/13708 [==============================] - 17s 1ms/step - loss: 0.4989 - val_loss: 0.4911\n",
      "Epoch 44/100\n",
      "13708/13708 [==============================] - 17s 1ms/step - loss: 0.4991 - val_loss: 0.4899\n",
      "Epoch 45/100\n",
      "13708/13708 [==============================] - 17s 1ms/step - loss: 0.4987 - val_loss: 0.4925\n",
      "Epoch 46/100\n",
      "13708/13708 [==============================] - 18s 1ms/step - loss: 0.4989 - val_loss: 0.4918\n",
      "Epoch 47/100\n",
      "13708/13708 [==============================] - 17s 1ms/step - loss: 0.4986 - val_loss: 0.4907\n",
      "Epoch 48/100\n",
      "13708/13708 [==============================] - 17s 1ms/step - loss: 0.4983 - val_loss: 0.4913\n",
      "Epoch 49/100\n",
      "13708/13708 [==============================] - 16s 1ms/step - loss: 0.4989 - val_loss: 0.4904\n",
      "Epoch 50/100\n",
      "13708/13708 [==============================] - 16s 1ms/step - loss: 0.4987 - val_loss: 0.4905\n",
      "Epoch 51/100\n",
      "13708/13708 [==============================] - 16s 1ms/step - loss: 0.4985 - val_loss: 0.4912\n",
      "Epoch 52/100\n",
      "13708/13708 [==============================] - 16s 1ms/step - loss: 0.4990 - val_loss: 0.4917\n",
      "Epoch 53/100\n",
      "13708/13708 [==============================] - 16s 1ms/step - loss: 0.4986 - val_loss: 0.4918\n",
      "Epoch 54/100\n",
      "13708/13708 [==============================] - 16s 1ms/step - loss: 0.4987 - val_loss: 0.4903\n",
      "Epoch 55/100\n",
      "13708/13708 [==============================] - 16s 1ms/step - loss: 0.4988 - val_loss: 0.4907\n",
      "Epoch 56/100\n",
      "13708/13708 [==============================] - 16s 1ms/step - loss: 0.4985 - val_loss: 0.4919\n",
      "Epoch 57/100\n",
      "13708/13708 [==============================] - 16s 1ms/step - loss: 0.4985 - val_loss: 0.4950\n",
      "Epoch 58/100\n",
      "13708/13708 [==============================] - 16s 1ms/step - loss: 0.4985 - val_loss: 0.4906\n",
      "Epoch 59/100\n",
      "13708/13708 [==============================] - 16s 1ms/step - loss: 0.4985 - val_loss: 0.4907\n",
      "Epoch 60/100\n",
      "13708/13708 [==============================] - 16s 1ms/step - loss: 0.4984 - val_loss: 0.4908\n",
      "Epoch 61/100\n",
      "13708/13708 [==============================] - 16s 1ms/step - loss: 0.4983 - val_loss: 0.4903\n",
      "Epoch 62/100\n",
      "13708/13708 [==============================] - 16s 1ms/step - loss: 0.4982 - val_loss: 0.4900\n",
      "Epoch 63/100\n",
      "13708/13708 [==============================] - 17s 1ms/step - loss: 0.4986 - val_loss: 0.4893\n",
      "Epoch 64/100\n",
      "13708/13708 [==============================] - 16s 1ms/step - loss: 0.4988 - val_loss: 0.4902\n",
      "Epoch 65/100\n",
      "13708/13708 [==============================] - 16s 1ms/step - loss: 0.4983 - val_loss: 0.4899\n",
      "Epoch 66/100\n",
      "13708/13708 [==============================] - 16s 1ms/step - loss: 0.4983 - val_loss: 0.4897\n",
      "Epoch 67/100\n",
      "13708/13708 [==============================] - 16s 1ms/step - loss: 0.4986 - val_loss: 0.4938\n",
      "Epoch 67: early stopping\n"
     ]
    },
    {
     "data": {
      "text/plain": [
       "<keras.src.callbacks.History at 0x11873fe8bd0>"
      ]
     },
     "execution_count": 52,
     "metadata": {},
     "output_type": "execute_result"
    }
   ],
   "source": [
    "model2.fit(x=x_train1, \n",
    "          y=y_train1, \n",
    "          epochs=100,\n",
    "          validation_data=(x_test1, y_test1), verbose=1,\n",
    "          callbacks=[early_stop]\n",
    "          )"
   ]
  },
  {
   "cell_type": "code",
   "execution_count": 53,
   "metadata": {},
   "outputs": [
    {
     "name": "stdout",
     "output_type": "stream",
     "text": [
      "13708/13708 [==============================] - 11s 806us/step\n",
      "4570/4570 [==============================] - 3s 714us/step\n",
      "Training Results\n",
      "\n",
      "              precision    recall  f1-score   support\n",
      "\n",
      "           0       0.78      0.75      0.76    219310\n",
      "           1       0.76      0.78      0.77    219323\n",
      "\n",
      "    accuracy                           0.77    438633\n",
      "   macro avg       0.77      0.77      0.77    438633\n",
      "weighted avg       0.77      0.77      0.77    438633\n",
      "\n",
      "Testing Results\n",
      "\n",
      "              precision    recall  f1-score   support\n",
      "\n",
      "           0       0.77      0.75      0.76     73112\n",
      "           1       0.76      0.78      0.77     73099\n",
      "\n",
      "    accuracy                           0.77    146211\n",
      "   macro avg       0.77      0.77      0.77    146211\n",
      "weighted avg       0.77      0.77      0.77    146211\n",
      "\n"
     ]
    }
   ],
   "source": [
    "ypred_train13 = model2.predict(x_train1)\n",
    "y_pred_test13 = model2.predict(x_test1)\n",
    "\n",
    "y_pred_test13 = (y_pred_test13 > 0.5)\n",
    "ypred_train13 = (ypred_train13 > 0.5)\n",
    "\n",
    "print(\"Training Results\\n\")\n",
    "print(classification_report(y_train1,ypred_train13))\n",
    "print(\"Testing Results\\n\")\n",
    "print(classification_report(y_test1,y_pred_test13))"
   ]
  },
  {
   "cell_type": "code",
   "execution_count": 54,
   "metadata": {},
   "outputs": [
    {
     "name": "stdout",
     "output_type": "stream",
     "text": [
      "4570/4570 [==============================] - 4s 808us/step\n"
     ]
    },
    {
     "data": {
      "image/png": "[encoded data removed]",
      "text/plain": [
       "<Figure size 640x480 with 1 Axes>"
      ]
     },
     "metadata": {},
     "output_type": "display_data"
    }
   ],
   "source": [
    "# cross_val_scores = cross_val_score(model2, x_train1, y_train1, cv=5)\n",
    "# print(\"Cross-Validation Scores for the Best Model:\", cross_val_scores)\n",
    "# print(\"Average Cross-Validation Score:\", cross_val_scores.mean())\n",
    "\n",
    "y_proba_test = model2.predict(x_test1).flatten()\n",
    "\n",
    "fpr, tpr, thresholds = roc_curve(y_test1, y_proba_test)\n",
    "\n",
    "plt.plot(fpr, tpr, label='ROC Curve')\n",
    "plt.xlabel('False Positive Rate')\n",
    "plt.ylabel('True Positive Rate')\n",
    "plt.title('ROC Curve with AUC = {:.2f}'.format(roc_auc_score(y_test1, y_proba_test)))\n",
    "plt.legend(loc='lower right')\n",
    "plt.grid(True)\n",
    "plt.show()"
   ]
  },
  {
   "cell_type": "markdown",
   "metadata": {},
   "source": [
    "## SVC"
   ]
  },
  {
   "cell_type": "code",
   "execution_count": 55,
   "metadata": {},
   "outputs": [],
   "source": [
    "# model3 = SVC(probability=True)"
   ]
  },
  {
   "cell_type": "code",
   "execution_count": 56,
   "metadata": {},
   "outputs": [],
   "source": [
    "# model3.fit(x_train1,y_train1)"
   ]
  },
  {
   "cell_type": "code",
   "execution_count": 57,
   "metadata": {},
   "outputs": [],
   "source": [
    "# ypred_train141 = model3.predict(x_train1)\n",
    "# y_pred_test141 = model3.predict(x_test1)\n",
    "\n",
    "\n",
    "# print(classification_report(y_train1,ypred_train141))\n",
    "# print(classification_report(y_test1,y_pred_test141))"
   ]
  },
  {
   "cell_type": "code",
   "execution_count": 58,
   "metadata": {},
   "outputs": [],
   "source": [
    "# param_grid = {'C': [0.1,1, 10, 100, 1000], 'gamma': [1,0.1,0.01,0.001,0.0001], 'kernel': ['rbf']} "
   ]
  },
  {
   "cell_type": "code",
   "execution_count": 59,
   "metadata": {},
   "outputs": [],
   "source": [
    "# grid = GridSearchCV(SVC(),param_grid,refit=True,verbose=3)"
   ]
  },
  {
   "cell_type": "code",
   "execution_count": 60,
   "metadata": {},
   "outputs": [],
   "source": [
    "# grid.fit(x_train1,y_train1)"
   ]
  },
  {
   "cell_type": "code",
   "execution_count": 61,
   "metadata": {},
   "outputs": [],
   "source": [
    "# grid.best_params_"
   ]
  },
  {
   "cell_type": "code",
   "execution_count": 62,
   "metadata": {},
   "outputs": [],
   "source": [
    "# grid.best_estimator_"
   ]
  },
  {
   "cell_type": "code",
   "execution_count": 63,
   "metadata": {},
   "outputs": [],
   "source": [
    "# ypred_train = grid.predict(x_train1)\n",
    "# # y_pred_test = grid.predict(x_test1)\n",
    "\n",
    "\n",
    "# print(classification_report(y_train1,ypred_train))\n",
    "# print(classification_report(y_test1,y_pred_test))"
   ]
  },
  {
   "cell_type": "code",
   "execution_count": 64,
   "metadata": {},
   "outputs": [],
   "source": [
    "\n",
    "# y_proba_test = grid.predict_proba(x_test1)[:, 1]\n",
    "\n",
    "# fpr, tpr, thresholds = roc_curve(y_test1, y_proba_test)\n",
    "\n",
    "# plt.plot(fpr, tpr, label='ROC Curve')\n",
    "# plt.xlabel('False Positive Rate')\n",
    "# plt.ylabel('True Positive Rate')\n",
    "# plt.title('ROC Curve with AUC = {:.2f}'.format(roc_auc_score(y_test1, y_proba_test)))\n",
    "# plt.legend(loc='lower right')\n",
    "# plt.grid(True)\n",
    "# plt.show()"
   ]
  },
  {
   "cell_type": "code",
   "execution_count": 65,
   "metadata": {},
   "outputs": [
    {
     "name": "stdout",
     "output_type": "stream",
     "text": [
      "Training Results\n",
      "\n",
      "              precision    recall  f1-score   support\n",
      "\n",
      "           0       0.80      0.72      0.76    219310\n",
      "           1       0.75      0.82      0.78    219323\n",
      "\n",
      "    accuracy                           0.77    438633\n",
      "   macro avg       0.77      0.77      0.77    438633\n",
      "weighted avg       0.77      0.77      0.77    438633\n",
      "\n",
      "Testing Results\n",
      "\n",
      "              precision    recall  f1-score   support\n",
      "\n",
      "           0       0.79      0.72      0.76     73112\n",
      "           1       0.74      0.81      0.78     73099\n",
      "\n",
      "    accuracy                           0.77    146211\n",
      "   macro avg       0.77      0.77      0.77    146211\n",
      "weighted avg       0.77      0.77      0.77    146211\n",
      "\n"
     ]
    },
    {
     "data": {
      "image/png": "[encoded data removed]",
      "text/plain": [
       "<Figure size 640x480 with 1 Axes>"
      ]
     },
     "metadata": {},
     "output_type": "display_data"
    }
   ],
   "source": [
    "model3 = SVC(C=0.1, gamma=1, kernel='rbf', probability=True)\n",
    "model3.fit(x_train1, y_train1)\n",
    "\n",
    "ypred_train14 = model3.predict(x_train1)\n",
    "y_pred_test14 = model3.predict(x_test1)\n",
    "\n",
    "print(\"Training Results\\n\")\n",
    "print(classification_report(y_train1, ypred_train14))\n",
    "print(\"Testing Results\\n\")\n",
    "print(classification_report(y_test1, y_pred_test14))\n",
    "\n",
    "# cross_val_scores = cross_val_score(model3, x_train1, y_train1, cv=5)\n",
    "# print(\"Cross-Validation Scores for the Best Model:\", cross_val_scores)\n",
    "# print(\"Average Cross-Validation Score:\", cross_val_scores.mean())\n",
    "\n",
    "y_proba_test = model3.predict_proba(x_test1)[:, 1]\n",
    "fpr, tpr, thresholds = roc_curve(y_test1, y_proba_test)\n",
    "plt.plot(fpr, tpr, label='ROC Curve')\n",
    "plt.xlabel('False Positive Rate')\n",
    "plt.ylabel('True Positive Rate')\n",
    "plt.title('ROC Curve with AUC = {:.2f}'.format(roc_auc_score(y_test1, y_proba_test)))\n",
    "plt.legend(loc='lower right')\n",
    "plt.grid(True)\n",
    "plt.show()"
   ]
  }
 ],
 "metadata": {
  "kernelspec": {
   "display_name": "Python 3",
   "language": "python",
   "name": "python3"
  },
  "language_info": {
   "codemirror_mode": {
    "name": "ipython",
    "version": 3
   },
   "file_extension": ".py",
   "mimetype": "text/x-python",
   "name": "python",
   "nbconvert_exporter": "python",
   "pygments_lexer": "ipython3",
   "version": "0.0.0"
  }
 },
 "nbformat": 4,
 "nbformat_minor": 2
}
