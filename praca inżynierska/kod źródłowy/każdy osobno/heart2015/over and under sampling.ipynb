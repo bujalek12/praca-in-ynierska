{
 "cells": [
  {
   "cell_type": "code",
   "execution_count": 1,
   "metadata": {},
   "outputs": [
    {
     "name": "stdout",
     "output_type": "stream",
     "text": [
      "WARNING:tensorflow:From C:\\Users\\DELL\\AppData\\Roaming\\Python\\Python311\\site-packages\\keras\\src\\losses.py:2976: The name tf.losses.sparse_softmax_cross_entropy is deprecated. Please use tf.compat.v1.losses.sparse_softmax_cross_entropy instead.\n",
      "\n"
     ]
    }
   ],
   "source": [
    "import pandas as pd\n",
    "import numpy as np\n",
    "import matplotlib.pyplot as plt\n",
    "import plotly.express as px\n",
    "from sklearn.preprocessing import LabelEncoder\n",
    "from sklearn.preprocessing import RobustScaler , MinMaxScaler, StandardScaler\n",
    "import seaborn as sns\n",
    "from sklearn.metrics import roc_curve\n",
    "from sklearn.metrics import roc_auc_score\n",
    "import tensorflow as tf\n",
    "from keras.preprocessing.image import ImageDataGenerator\n",
    "from tensorflow.keras.layers import Dropout\n",
    "from tensorflow.keras.models import Sequential\n",
    "from tensorflow.keras.layers import Dense, Activation\n",
    "from tensorflow.keras.callbacks import EarlyStopping\n",
    "from tensorflow.keras.layers import Input,Flatten,Conv1D,MaxPooling1D\n",
    "from sklearn.metrics import classification_report\n",
    "import warnings\n",
    "warnings.filterwarnings('ignore')\n",
    "import missingno as msno\n",
    "from sklearn.model_selection import train_test_split\n",
    "from sklearn.metrics import accuracy_score\n",
    "from sklearn.metrics import mean_absolute_error , mean_absolute_percentage_error , mean_squared_error\n",
    "from sklearn.metrics import r2_score\n",
    "from sklearn.metrics import confusion_matrix\n",
    "from sklearn.model_selection import cross_val_score\n",
    "from sklearn.metrics import RocCurveDisplay\n",
    "from sklearn.model_selection import RepeatedStratifiedKFold\n",
    "from sklearn.metrics import accuracy_score, precision_score, recall_score, f1_score\n",
    "from sklearn.model_selection import GridSearchCV\n",
    "from sklearn.tree import DecisionTreeClassifier\n",
    "from sklearn.ensemble import RandomForestClassifier\n",
    "from sklearn.naive_bayes import GaussianNB\n",
    "from xgboost import XGBClassifier\n",
    "from sklearn.linear_model import LogisticRegression\n",
    "from sklearn.svm import SVC\n",
    "from sklearn.decomposition import PCA\n",
    "from sklearn.ensemble import GradientBoostingClassifier\n",
    "from sklearn.neighbors import KNeighborsClassifier\n",
    "from keras.layers import LSTM\n",
    "from imblearn.combine import SMOTEENN\n",
    "from sklearn.preprocessing import MinMaxScaler\n"
   ]
  },
  {
   "cell_type": "markdown",
   "metadata": {},
   "source": [
    "## Combination of over- and under-sampling With Evaluation"
   ]
  },
  {
   "cell_type": "code",
   "execution_count": 2,
   "metadata": {},
   "outputs": [
    {
     "data": {
      "text/html": [
       "<div>\n",
       "<style scoped>\n",
       "    .dataframe tbody tr th:only-of-type {\n",
       "        vertical-align: middle;\n",
       "    }\n",
       "\n",
       "    .dataframe tbody tr th {\n",
       "        vertical-align: top;\n",
       "    }\n",
       "\n",
       "    .dataframe thead th {\n",
       "        text-align: right;\n",
       "    }\n",
       "</style>\n",
       "<table border=\"1\" class=\"dataframe\">\n",
       "  <thead>\n",
       "    <tr style=\"text-align: right;\">\n",
       "      <th></th>\n",
       "      <th>HeartDiseaseorAttack</th>\n",
       "      <th>HighBP</th>\n",
       "      <th>HighChol</th>\n",
       "      <th>CholCheck</th>\n",
       "      <th>BMI</th>\n",
       "      <th>Smoker</th>\n",
       "      <th>Stroke</th>\n",
       "      <th>Diabetes</th>\n",
       "      <th>PhysActivity</th>\n",
       "      <th>Fruits</th>\n",
       "      <th>...</th>\n",
       "      <th>AnyHealthcare</th>\n",
       "      <th>NoDocbcCost</th>\n",
       "      <th>GenHlth</th>\n",
       "      <th>MentHlth</th>\n",
       "      <th>PhysHlth</th>\n",
       "      <th>DiffWalk</th>\n",
       "      <th>Sex</th>\n",
       "      <th>Age</th>\n",
       "      <th>Education</th>\n",
       "      <th>Income</th>\n",
       "    </tr>\n",
       "  </thead>\n",
       "  <tbody>\n",
       "    <tr>\n",
       "      <th>0</th>\n",
       "      <td>0.0</td>\n",
       "      <td>1.0</td>\n",
       "      <td>1.0</td>\n",
       "      <td>1.0</td>\n",
       "      <td>40.0</td>\n",
       "      <td>1.0</td>\n",
       "      <td>0.0</td>\n",
       "      <td>0.0</td>\n",
       "      <td>0.0</td>\n",
       "      <td>0.0</td>\n",
       "      <td>...</td>\n",
       "      <td>1.0</td>\n",
       "      <td>0.0</td>\n",
       "      <td>5.0</td>\n",
       "      <td>18.0</td>\n",
       "      <td>15.0</td>\n",
       "      <td>1.0</td>\n",
       "      <td>0.0</td>\n",
       "      <td>9.0</td>\n",
       "      <td>4.0</td>\n",
       "      <td>3.0</td>\n",
       "    </tr>\n",
       "    <tr>\n",
       "      <th>1</th>\n",
       "      <td>0.0</td>\n",
       "      <td>0.0</td>\n",
       "      <td>0.0</td>\n",
       "      <td>0.0</td>\n",
       "      <td>25.0</td>\n",
       "      <td>1.0</td>\n",
       "      <td>0.0</td>\n",
       "      <td>0.0</td>\n",
       "      <td>1.0</td>\n",
       "      <td>0.0</td>\n",
       "      <td>...</td>\n",
       "      <td>0.0</td>\n",
       "      <td>1.0</td>\n",
       "      <td>3.0</td>\n",
       "      <td>0.0</td>\n",
       "      <td>0.0</td>\n",
       "      <td>0.0</td>\n",
       "      <td>0.0</td>\n",
       "      <td>7.0</td>\n",
       "      <td>6.0</td>\n",
       "      <td>1.0</td>\n",
       "    </tr>\n",
       "    <tr>\n",
       "      <th>2</th>\n",
       "      <td>0.0</td>\n",
       "      <td>1.0</td>\n",
       "      <td>1.0</td>\n",
       "      <td>1.0</td>\n",
       "      <td>28.0</td>\n",
       "      <td>0.0</td>\n",
       "      <td>0.0</td>\n",
       "      <td>0.0</td>\n",
       "      <td>0.0</td>\n",
       "      <td>1.0</td>\n",
       "      <td>...</td>\n",
       "      <td>1.0</td>\n",
       "      <td>1.0</td>\n",
       "      <td>5.0</td>\n",
       "      <td>30.0</td>\n",
       "      <td>30.0</td>\n",
       "      <td>1.0</td>\n",
       "      <td>0.0</td>\n",
       "      <td>9.0</td>\n",
       "      <td>4.0</td>\n",
       "      <td>8.0</td>\n",
       "    </tr>\n",
       "    <tr>\n",
       "      <th>3</th>\n",
       "      <td>0.0</td>\n",
       "      <td>1.0</td>\n",
       "      <td>0.0</td>\n",
       "      <td>1.0</td>\n",
       "      <td>27.0</td>\n",
       "      <td>0.0</td>\n",
       "      <td>0.0</td>\n",
       "      <td>0.0</td>\n",
       "      <td>1.0</td>\n",
       "      <td>1.0</td>\n",
       "      <td>...</td>\n",
       "      <td>1.0</td>\n",
       "      <td>0.0</td>\n",
       "      <td>2.0</td>\n",
       "      <td>0.0</td>\n",
       "      <td>0.0</td>\n",
       "      <td>0.0</td>\n",
       "      <td>0.0</td>\n",
       "      <td>11.0</td>\n",
       "      <td>3.0</td>\n",
       "      <td>6.0</td>\n",
       "    </tr>\n",
       "    <tr>\n",
       "      <th>4</th>\n",
       "      <td>0.0</td>\n",
       "      <td>1.0</td>\n",
       "      <td>1.0</td>\n",
       "      <td>1.0</td>\n",
       "      <td>24.0</td>\n",
       "      <td>0.0</td>\n",
       "      <td>0.0</td>\n",
       "      <td>0.0</td>\n",
       "      <td>1.0</td>\n",
       "      <td>1.0</td>\n",
       "      <td>...</td>\n",
       "      <td>1.0</td>\n",
       "      <td>0.0</td>\n",
       "      <td>2.0</td>\n",
       "      <td>3.0</td>\n",
       "      <td>0.0</td>\n",
       "      <td>0.0</td>\n",
       "      <td>0.0</td>\n",
       "      <td>11.0</td>\n",
       "      <td>5.0</td>\n",
       "      <td>4.0</td>\n",
       "    </tr>\n",
       "  </tbody>\n",
       "</table>\n",
       "<p>5 rows × 22 columns</p>\n",
       "</div>"
      ],
      "text/plain": [
       "   HeartDiseaseorAttack  HighBP  HighChol  CholCheck   BMI  Smoker  Stroke  \\\n",
       "0                   0.0     1.0       1.0        1.0  40.0     1.0     0.0   \n",
       "1                   0.0     0.0       0.0        0.0  25.0     1.0     0.0   \n",
       "2                   0.0     1.0       1.0        1.0  28.0     0.0     0.0   \n",
       "3                   0.0     1.0       0.0        1.0  27.0     0.0     0.0   \n",
       "4                   0.0     1.0       1.0        1.0  24.0     0.0     0.0   \n",
       "\n",
       "   Diabetes  PhysActivity  Fruits  ...  AnyHealthcare  NoDocbcCost  GenHlth  \\\n",
       "0       0.0           0.0     0.0  ...            1.0          0.0      5.0   \n",
       "1       0.0           1.0     0.0  ...            0.0          1.0      3.0   \n",
       "2       0.0           0.0     1.0  ...            1.0          1.0      5.0   \n",
       "3       0.0           1.0     1.0  ...            1.0          0.0      2.0   \n",
       "4       0.0           1.0     1.0  ...            1.0          0.0      2.0   \n",
       "\n",
       "   MentHlth  PhysHlth  DiffWalk  Sex   Age  Education  Income  \n",
       "0      18.0      15.0       1.0  0.0   9.0        4.0     3.0  \n",
       "1       0.0       0.0       0.0  0.0   7.0        6.0     1.0  \n",
       "2      30.0      30.0       1.0  0.0   9.0        4.0     8.0  \n",
       "3       0.0       0.0       0.0  0.0  11.0        3.0     6.0  \n",
       "4       3.0       0.0       0.0  0.0  11.0        5.0     4.0  \n",
       "\n",
       "[5 rows x 22 columns]"
      ]
     },
     "execution_count": 2,
     "metadata": {},
     "output_type": "execute_result"
    }
   ],
   "source": [
    "df= pd.read_csv('Heart Disease Data 2015.csv')\n",
    "df.head()"
   ]
  },
  {
   "cell_type": "code",
   "execution_count": 3,
   "metadata": {},
   "outputs": [
    {
     "data": {
      "text/plain": [
       "HeartDiseaseorAttack\n",
       "0.0    229787\n",
       "1.0     23893\n",
       "Name: count, dtype: int64"
      ]
     },
     "execution_count": 3,
     "metadata": {},
     "output_type": "execute_result"
    }
   ],
   "source": [
    "df.drop(['Income',\"Education\",'DiffWalk',\"NoDocbcCost\",\"AnyHealthcare\",'Veggies',\"Fruits\",\"CholCheck\"],axis=1,inplace=True)\n",
    "df.shape\n",
    "df['HeartDiseaseorAttack'].value_counts()\n"
   ]
  },
  {
   "cell_type": "code",
   "execution_count": 4,
   "metadata": {},
   "outputs": [],
   "source": [
    "df.duplicated().sum()\n",
    "df.drop_duplicates(inplace=True)"
   ]
  },
  {
   "cell_type": "code",
   "execution_count": 5,
   "metadata": {},
   "outputs": [
    {
     "data": {
      "text/plain": [
       "HeartDiseaseorAttack\n",
       "0.0    136412\n",
       "1.0     21421\n",
       "Name: count, dtype: int64"
      ]
     },
     "execution_count": 5,
     "metadata": {},
     "output_type": "execute_result"
    }
   ],
   "source": [
    "df['HeartDiseaseorAttack'].value_counts()"
   ]
  },
  {
   "cell_type": "markdown",
   "metadata": {},
   "source": [
    "## splite data"
   ]
  },
  {
   "cell_type": "code",
   "execution_count": 6,
   "metadata": {},
   "outputs": [],
   "source": [
    "x = df.drop([\"HeartDiseaseorAttack\"] , axis = 1).values\n",
    "y = df[\"HeartDiseaseorAttack\"].values"
   ]
  },
  {
   "cell_type": "code",
   "execution_count": 7,
   "metadata": {},
   "outputs": [],
   "source": [
    "smote_enn = SMOTEENN(random_state=42)\n",
    "x_ST, y_ST = smote_enn.fit_resample(x, y)\n",
    "x_train7, x_test7, y_train7, y_test7 = train_test_split(x_ST, y_ST, test_size=0.25, random_state=42)"
   ]
  },
  {
   "cell_type": "code",
   "execution_count": 8,
   "metadata": {},
   "outputs": [],
   "source": [
    "scaler = MinMaxScaler()\n",
    "x_train7 = scaler.fit_transform(x_train7)\n",
    "x_test7 = scaler.transform(x_test7)"
   ]
  },
  {
   "cell_type": "markdown",
   "metadata": {},
   "source": [
    "## Random Forest"
   ]
  },
  {
   "cell_type": "code",
   "execution_count": 9,
   "metadata": {},
   "outputs": [
    {
     "name": "stdout",
     "output_type": "stream",
     "text": [
      "Najlepsze parametry:  {'max_depth': 30, 'max_features': 'sqrt', 'min_samples_leaf': 1, 'min_samples_split': 4, 'n_estimators': 200}\n",
      "Training Results\n",
      "\n",
      "              precision    recall  f1-score   support\n",
      "\n",
      "         0.0       0.98      0.99      0.99     61548\n",
      "         1.0       1.00      0.98      0.99     82116\n",
      "\n",
      "    accuracy                           0.99    143664\n",
      "   macro avg       0.99      0.99      0.99    143664\n",
      "weighted avg       0.99      0.99      0.99    143664\n",
      "\n",
      "Test Results\n",
      "\n",
      "              precision    recall  f1-score   support\n",
      "\n",
      "         0.0       0.93      0.94      0.93     20567\n",
      "         1.0       0.96      0.94      0.95     27322\n",
      "\n",
      "    accuracy                           0.94     47889\n",
      "   macro avg       0.94      0.94      0.94     47889\n",
      "weighted avg       0.94      0.94      0.94     47889\n",
      "\n",
      "Confusion Matrix:\n",
      " [[19421  1146]\n",
      " [ 1559 25763]]\n",
      "Cross-validation scores: [0.94365364 0.94494136 0.94553301 0.94497616 0.94264235]\n",
      "Average cross-validation score: 0.9443493031869279\n"
     ]
    }
   ],
   "source": [
    "\n",
    "\n",
    "rf = RandomForestClassifier()\n",
    "\n",
    "param_grid = {\n",
    "    'n_estimators': [100, 200, 300],  # Liczba drzew\n",
    "    'max_depth': [10, 20, 30],        # Maksymalna głębokość drzewa\n",
    "    'min_samples_split': [2, 4, 6],   # Minimalna liczba próbek wymagana do podziału węzła\n",
    "    'min_samples_leaf': [1, 2, 4],    # Minimalna liczba próbek wymagana w liściu\n",
    "    'max_features': ['auto', 'sqrt']  # Liczba cech do rozważenia przy każdym podziale\n",
    "}\n",
    "\n",
    "cv_rf = GridSearchCV(estimator=rf, param_grid=param_grid, cv=5, scoring='accuracy')\n",
    "\n",
    "# Przeszukiwanie siatki parametrów\n",
    "cv_rf.fit(x_train7, y_train7)\n",
    "\n",
    "# Najlepszy zestaw parametrów\n",
    "print(\"Najlepsze parametry: \", cv_rf.best_params_)\n",
    "\n",
    "# Najlepszy estimator\n",
    "best_rf = cv_rf.best_estimator_\n",
    "\n",
    "# Predykcje i ocena modelu\n",
    "ypred_train = best_rf.predict(x_train7)\n",
    "ypred_test = best_rf.predict(x_test7)\n",
    "\n",
    "print(\"Training Results\\n\")\n",
    "print(classification_report(y_train7, ypred_train))\n",
    "print(\"Test Results\\n\")\n",
    "print(classification_report(y_test7, ypred_test))\n",
    "\n",
    "# Macierz pomyłek\n",
    "conf_matrix = confusion_matrix(y_test7, ypred_test)\n",
    "print(\"Confusion Matrix:\\n\", conf_matrix)\n",
    "\n",
    "# Ocena modelu za pomocą walidacji krzyżowej\n",
    "cross_val_scores = cross_val_score(best_rf, x_train7, y_train7, cv=5)\n",
    "print(\"Cross-validation scores:\", cross_val_scores)\n",
    "print(\"Average cross-validation score:\", np.mean(cross_val_scores))"
   ]
  },
  {
   "cell_type": "code",
   "execution_count": 10,
   "metadata": {},
   "outputs": [
    {
     "data": {
      "image/png": "[encoded data removed]",
      "text/plain": [
       "<Figure size 640x480 with 1 Axes>"
      ]
     },
     "metadata": {},
     "output_type": "display_data"
    }
   ],
   "source": [
    "\n",
    "\n",
    "y_proba_test = best_rf.predict_proba(x_test7)[:, 1]\n",
    "\n",
    "fpr, tpr, thresholds = roc_curve(y_test7, y_proba_test)\n",
    "\n",
    "plt.plot(fpr, tpr, label='ROC Curve')\n",
    "plt.xlabel('False Positive Rate')\n",
    "plt.ylabel('True Positive Rate')\n",
    "plt.title('ROC Curve with AUC = {:.2f}'.format(roc_auc_score(y_test7, y_proba_test)))\n",
    "plt.legend(loc='lower right')\n",
    "plt.grid(True)\n",
    "plt.show()"
   ]
  },
  {
   "cell_type": "markdown",
   "metadata": {},
   "source": [
    "## DECISION TREE CLASSIFIER"
   ]
  },
  {
   "cell_type": "code",
   "execution_count": 11,
   "metadata": {},
   "outputs": [
    {
     "name": "stdout",
     "output_type": "stream",
     "text": [
      "Najlepsze parametry: {'criterion': 'entropy', 'max_depth': None, 'min_samples_leaf': 2, 'min_samples_split': 10}\n",
      "Najlepsza dokładność: 0.921065794067778\n",
      "Training Results\n",
      "\n",
      "              precision    recall  f1-score   support\n",
      "\n",
      "         0.0       0.95      0.97      0.96     61548\n",
      "         1.0       0.98      0.96      0.97     82116\n",
      "\n",
      "    accuracy                           0.97    143664\n",
      "   macro avg       0.96      0.97      0.97    143664\n",
      "weighted avg       0.97      0.97      0.97    143664\n",
      "\n",
      "Testing Results\n",
      "\n",
      "              precision    recall  f1-score   support\n",
      "\n",
      "         0.0       0.90      0.92      0.91     20567\n",
      "         1.0       0.94      0.92      0.93     27322\n",
      "\n",
      "    accuracy                           0.92     47889\n",
      "   macro avg       0.92      0.92      0.92     47889\n",
      "weighted avg       0.92      0.92      0.92     47889\n",
      "\n",
      "Cross-Validation Scores for the Best Model: [0.92197125 0.92242369 0.92110117 0.92284133 0.91765279]\n",
      "Average Cross-Validation Score: 0.9211980486046798\n"
     ]
    }
   ],
   "source": [
    "\n",
    "param_grid = {\n",
    "    'max_depth': [3, 5, 10, None],\n",
    "    'min_samples_split': [2, 5, 10],\n",
    "    'min_samples_leaf': [1, 2, 5],\n",
    "    'criterion': ['gini', 'entropy']\n",
    "}\n",
    "\n",
    "# Utworzenie modelu drzewa decyzyjnego\n",
    "tree = DecisionTreeClassifier()\n",
    "\n",
    "# Uruchomienie Grid Search z walidacją krzyżową\n",
    "grid_search = GridSearchCV(tree, param_grid, cv=5, scoring='accuracy')\n",
    "grid_search.fit(x_train7, y_train7)\n",
    "\n",
    "# Wyświetlenie najlepszych parametrów i wyników\n",
    "print(\"Najlepsze parametry:\", grid_search.best_params_)\n",
    "print(\"Najlepsza dokładność:\", grid_search.best_score_)\n",
    "\n",
    "# Utworzenie i ocena modelu z najlepszymi parametrami\n",
    "best_tree = grid_search.best_estimator_\n",
    "best_tree.fit(x_train7, y_train7)\n",
    "\n",
    "ypred_train2 = best_tree.predict(x_train7)\n",
    "ypred_test2 = best_tree.predict(x_test7)\n",
    "\n",
    "# Ocena modelu na zbiorze testowym\n",
    "\n",
    "print(\"Training Results\\n\")\n",
    "print(classification_report(y_train7, ypred_train2))\n",
    "print('Testing Results\\n')\n",
    "print(classification_report(y_test7, ypred_test2))\n",
    "\n",
    "# Dodatkowo: Walidacja krzyżowa dla najlepszego modelu na całym zbiorze danych\n",
    "cross_val_scores = cross_val_score(best_tree, x_train7, y_train7, cv=5)\n",
    "print(\"Cross-Validation Scores for the Best Model:\", cross_val_scores)\n",
    "print(\"Average Cross-Validation Score:\", cross_val_scores.mean())"
   ]
  },
  {
   "cell_type": "code",
   "execution_count": 12,
   "metadata": {},
   "outputs": [
    {
     "data": {
      "image/png": "[encoded data removed]",
      "text/plain": [
       "<Figure size 640x480 with 1 Axes>"
      ]
     },
     "metadata": {},
     "output_type": "display_data"
    }
   ],
   "source": [
    "\n",
    "y_proba_test = best_tree.predict_proba(x_test7)[:, 1]\n",
    "\n",
    "fpr, tpr, thresholds = roc_curve(y_test7, y_proba_test)\n",
    "\n",
    "plt.plot(fpr, tpr, label='ROC Curve')\n",
    "plt.xlabel('False Positive Rate')\n",
    "plt.ylabel('True Positive Rate')\n",
    "plt.title('ROC Curve with AUC = {:.2f}'.format(roc_auc_score(y_test7, y_proba_test)))\n",
    "plt.legend(loc='lower right')\n",
    "plt.grid(True)\n",
    "plt.show()"
   ]
  },
  {
   "cell_type": "markdown",
   "metadata": {},
   "source": [
    "## Naive Bayes"
   ]
  },
  {
   "cell_type": "code",
   "execution_count": 13,
   "metadata": {},
   "outputs": [
    {
     "name": "stdout",
     "output_type": "stream",
     "text": [
      "Naive Bayes Classifier Accuracy:  0.8150305915763536\n"
     ]
    }
   ],
   "source": [
    "Gnb = GaussianNB()\n",
    "Gnb.fit(x_train7, y_train7)\n",
    "ypred_train3 = Gnb.predict(x_train7)\n",
    "y_pred_test3 = Gnb.predict(x_test7)\n",
    "\n",
    "print(\"Naive Bayes Classifier Accuracy: \",accuracy_score(y_test7, y_pred_test3))"
   ]
  },
  {
   "cell_type": "code",
   "execution_count": 14,
   "metadata": {},
   "outputs": [
    {
     "name": "stdout",
     "output_type": "stream",
     "text": [
      "Training Results\n",
      "\n",
      "              precision    recall  f1-score   support\n",
      "\n",
      "         0.0       0.77      0.82      0.79     61548\n",
      "         1.0       0.86      0.81      0.83     82116\n",
      "\n",
      "    accuracy                           0.82    143664\n",
      "   macro avg       0.81      0.82      0.81    143664\n",
      "weighted avg       0.82      0.82      0.82    143664\n",
      "\n"
     ]
    }
   ],
   "source": [
    "print(\"Training Results\\n\")\n",
    "print(classification_report(y_train7, ypred_train3))"
   ]
  },
  {
   "cell_type": "code",
   "execution_count": 15,
   "metadata": {},
   "outputs": [
    {
     "name": "stdout",
     "output_type": "stream",
     "text": [
      "Testing Results\n",
      "\n",
      "              precision    recall  f1-score   support\n",
      "\n",
      "         0.0       0.77      0.82      0.79     20567\n",
      "         1.0       0.85      0.81      0.83     27322\n",
      "\n",
      "    accuracy                           0.82     47889\n",
      "   macro avg       0.81      0.82      0.81     47889\n",
      "weighted avg       0.82      0.82      0.82     47889\n",
      "\n"
     ]
    }
   ],
   "source": [
    "print('Testing Results\\n')\n",
    "print(classification_report(y_test7, y_pred_test3))"
   ]
  },
  {
   "cell_type": "code",
   "execution_count": 16,
   "metadata": {},
   "outputs": [
    {
     "data": {
      "image/png": "[encoded data removed]",
      "text/plain": [
       "<Figure size 640x480 with 1 Axes>"
      ]
     },
     "metadata": {},
     "output_type": "display_data"
    }
   ],
   "source": [
    "\n",
    "y_proba_test = Gnb.predict_proba(x_test7)[:, 1]\n",
    "\n",
    "fpr, tpr, thresholds = roc_curve(y_test7, y_proba_test)\n",
    "\n",
    "plt.plot(fpr, tpr, label='ROC Curve')\n",
    "plt.xlabel('False Positive Rate')\n",
    "plt.ylabel('True Positive Rate')\n",
    "plt.title('ROC Curve with AUC = {:.2f}'.format(roc_auc_score(y_test7, y_proba_test)))\n",
    "plt.legend(loc='lower right')\n",
    "plt.grid(True)\n",
    "plt.show()"
   ]
  },
  {
   "cell_type": "markdown",
   "metadata": {},
   "source": [
    "## XGBOSST"
   ]
  },
  {
   "cell_type": "code",
   "execution_count": 17,
   "metadata": {},
   "outputs": [
    {
     "name": "stdout",
     "output_type": "stream",
     "text": [
      "Najlepsze parametry:  {'colsample_bytree': 0.7, 'learning_rate': 0.2, 'max_depth': 7, 'n_estimators': 200, 'subsample': 0.9}\n",
      "Accuracy on Training set:  0.9554446486245685\n",
      "Accuracy on Test set:  0.9418655641170206\n",
      "\n",
      "Training Results\n",
      "\n",
      "              precision    recall  f1-score   support\n",
      "\n",
      "         0.0       0.93      0.96      0.95     61548\n",
      "         1.0       0.97      0.95      0.96     82116\n",
      "\n",
      "    accuracy                           0.96    143664\n",
      "   macro avg       0.95      0.96      0.95    143664\n",
      "weighted avg       0.96      0.96      0.96    143664\n",
      "\n",
      "Testing Results\n",
      "\n",
      "              precision    recall  f1-score   support\n",
      "\n",
      "         0.0       0.92      0.95      0.93     20567\n",
      "         1.0       0.96      0.94      0.95     27322\n",
      "\n",
      "    accuracy                           0.94     47889\n",
      "   macro avg       0.94      0.94      0.94     47889\n",
      "weighted avg       0.94      0.94      0.94     47889\n",
      "\n"
     ]
    },
    {
     "data": {
      "image/png": "[encoded data removed]",
      "text/plain": [
       "<Figure size 640x480 with 1 Axes>"
      ]
     },
     "metadata": {},
     "output_type": "display_data"
    }
   ],
   "source": [
    "\n",
    "xg = XGBClassifier()\n",
    "\n",
    "# Definiowanie siatki hiperparametrów do przetestowania\n",
    "param_grid = {\n",
    "    'n_estimators': [50, 100, 200],\n",
    "    'max_depth': [3, 5, 7],\n",
    "    'learning_rate': [0.01, 0.1, 0.2],\n",
    "    'subsample': [0.7, 0.8, 0.9],\n",
    "    'colsample_bytree': [0.7, 0.8, 0.9]\n",
    "}\n",
    "\n",
    "# Utworzenie obiektu GridSearchCV\n",
    "grid_search = GridSearchCV(estimator=xg, param_grid=param_grid, cv=3, scoring='accuracy')\n",
    "\n",
    "# Przeszukiwanie siatki parametrów\n",
    "grid_search.fit(x_train7, y_train7)\n",
    "\n",
    "# Najlepsze parametry i najlepszy model\n",
    "print(\"Najlepsze parametry: \", grid_search.best_params_)\n",
    "best_xg = grid_search.best_estimator_\n",
    "\n",
    "# Predykcje na zbiorze treningowym i testowym\n",
    "ypred_train4 = best_xg.predict(x_train7)\n",
    "y_pred_test4 = best_xg.predict(x_test7)\n",
    "\n",
    "# Ocena modelu\n",
    "print(\"Accuracy on Training set: \", accuracy_score(y_train7, ypred_train4))\n",
    "print(\"Accuracy on Test set: \", accuracy_score(y_test7, y_pred_test4))\n",
    "print(\"\\nTraining Results\\n\")\n",
    "print(classification_report(y_train7, ypred_train4))\n",
    "print('Testing Results\\n')\n",
    "print(classification_report(y_test7, y_pred_test4))\n",
    "\n",
    "# Krzywa ROC\n",
    "y_proba_test4 = best_xg.predict_proba(x_test7)[:, 1]\n",
    "fpr, tpr, thresholds = roc_curve(y_test7, y_proba_test4)\n",
    "plt.plot(fpr, tpr)\n",
    "plt.title(\"ROC Curve with AUC = {:.2f}\".format(roc_auc_score(y_test7, y_proba_test4)))\n",
    "plt.show()"
   ]
  },
  {
   "cell_type": "markdown",
   "metadata": {},
   "source": [
    "## logistic regression"
   ]
  },
  {
   "cell_type": "code",
   "execution_count": 18,
   "metadata": {},
   "outputs": [
    {
     "name": "stdout",
     "output_type": "stream",
     "text": [
      "Najlepsze parametry:  {'C': 0.01, 'penalty': 'l1', 'solver': 'liblinear'}\n",
      "Accuracy on Training set:  0.8508812228533245\n",
      "Accuracy on Test set:  0.8490885171960157\n",
      "\n",
      "Training Results\n",
      "\n",
      "              precision    recall  f1-score   support\n",
      "\n",
      "         0.0       0.85      0.80      0.82     61548\n",
      "         1.0       0.85      0.89      0.87     82116\n",
      "\n",
      "    accuracy                           0.85    143664\n",
      "   macro avg       0.85      0.84      0.85    143664\n",
      "weighted avg       0.85      0.85      0.85    143664\n",
      "\n",
      "Testing Results\n",
      "\n",
      "              precision    recall  f1-score   support\n",
      "\n",
      "         0.0       0.85      0.79      0.82     20567\n",
      "         1.0       0.85      0.89      0.87     27322\n",
      "\n",
      "    accuracy                           0.85     47889\n",
      "   macro avg       0.85      0.84      0.84     47889\n",
      "weighted avg       0.85      0.85      0.85     47889\n",
      "\n"
     ]
    },
    {
     "data": {
      "image/png": "[encoded data removed]",
      "text/plain": [
       "<Figure size 640x480 with 1 Axes>"
      ]
     },
     "metadata": {},
     "output_type": "display_data"
    }
   ],
   "source": [
    "\n",
    "# Inicjalizacja modelu regresji logistycznej\n",
    "lg = LogisticRegression()\n",
    "\n",
    "# Definiowanie siatki hiperparametrów do przetestowania\n",
    "param_grid = {\n",
    "    'C': [0.01, 0.1, 1, 10, 100],  # Parametr regularyzacji\n",
    "    'penalty': ['l1', 'l2'],       # Typ regularyzacji\n",
    "    'solver': ['liblinear']        # Algorytm optymalizacji (liblinear jest dobrym wyborem dla małych zbiorów danych)\n",
    "}\n",
    "\n",
    "# Utworzenie obiektu GridSearchCV\n",
    "grid_search = GridSearchCV(estimator=lg, param_grid=param_grid, cv=5, scoring='accuracy')\n",
    "\n",
    "# Przeszukiwanie siatki parametrów\n",
    "grid_search.fit(x_train7, y_train7)\n",
    "\n",
    "# Najlepsze parametry i najlepszy model\n",
    "print(\"Najlepsze parametry: \", grid_search.best_params_)\n",
    "best_lg = grid_search.best_estimator_\n",
    "\n",
    "# Predykcje na zbiorze treningowym i testowym\n",
    "ypred_train4 = best_lg.predict(x_train7)\n",
    "y_pred_test4 = best_lg.predict(x_test7)\n",
    "\n",
    "# Ocena modelu\n",
    "print(\"Accuracy on Training set: \", accuracy_score(y_train7, ypred_train4))\n",
    "print(\"Accuracy on Test set: \", accuracy_score(y_test7, y_pred_test4))\n",
    "print(\"\\nTraining Results\\n\")\n",
    "print(classification_report(y_train7, ypred_train4))\n",
    "print('Testing Results\\n')\n",
    "print(classification_report(y_test7, y_pred_test4))\n",
    "\n",
    "# Krzywa ROC\n",
    "y_proba_test4 = best_lg.predict_proba(x_test7)[:, 1]\n",
    "fpr, tpr, thresholds = roc_curve(y_test7, y_proba_test4)\n",
    "plt.plot(fpr, tpr)\n",
    "plt.title(\"ROC Curve with AUC = {:.2f}\".format(roc_auc_score(y_test7, y_proba_test4)))\n",
    "plt.show()"
   ]
  },
  {
   "cell_type": "markdown",
   "metadata": {},
   "source": [
    "## GradientBoostingClassifier\n"
   ]
  },
  {
   "cell_type": "code",
   "execution_count": 19,
   "metadata": {},
   "outputs": [
    {
     "name": "stdout",
     "output_type": "stream",
     "text": [
      "Najlepsze parametry:  {'learning_rate': 0.2, 'max_depth': 7, 'min_samples_leaf': 2, 'min_samples_split': 4, 'n_estimators': 300}\n",
      "Accuracy on Training set:  0.9710365853658537\n",
      "Accuracy on Test set:  0.9429305268433252\n",
      "\n",
      "Training Results\n",
      "\n",
      "              precision    recall  f1-score   support\n",
      "\n",
      "         0.0       0.96      0.98      0.97     61548\n",
      "         1.0       0.98      0.97      0.97     82116\n",
      "\n",
      "    accuracy                           0.97    143664\n",
      "   macro avg       0.97      0.97      0.97    143664\n",
      "weighted avg       0.97      0.97      0.97    143664\n",
      "\n",
      "Testing Results\n",
      "\n",
      "              precision    recall  f1-score   support\n",
      "\n",
      "         0.0       0.92      0.95      0.93     20567\n",
      "         1.0       0.96      0.94      0.95     27322\n",
      "\n",
      "    accuracy                           0.94     47889\n",
      "   macro avg       0.94      0.94      0.94     47889\n",
      "weighted avg       0.94      0.94      0.94     47889\n",
      "\n"
     ]
    },
    {
     "data": {
      "image/png": "[encoded data removed]",
      "text/plain": [
       "<Figure size 640x480 with 1 Axes>"
      ]
     },
     "metadata": {},
     "output_type": "display_data"
    }
   ],
   "source": [
    "\n",
    "\n",
    "# Inicjalizacja modelu Gradient Boosting Classifier\n",
    "gb = GradientBoostingClassifier()\n",
    "\n",
    "# Definiowanie siatki hiperparametrów do przetestowania\n",
    "param_grid = {\n",
    "    'n_estimators': [100, 200, 300],  # Liczba drzew w ensemble\n",
    "    'learning_rate': [0.01, 0.1, 0.2], # Szybkość uczenia\n",
    "    'max_depth': [3, 5, 7],            # Maksymalna głębokość drzewa\n",
    "    'min_samples_split': [2, 4],       # Minimalna liczba próbek wymagana do podziału węzła\n",
    "    'min_samples_leaf': [1, 2]         # Minimalna liczba próbek w liściu\n",
    "}\n",
    "\n",
    "# Utworzenie obiektu GridSearchCV\n",
    "grid_search = GridSearchCV(estimator=gb, param_grid=param_grid, cv=5, scoring='accuracy')\n",
    "\n",
    "# Przeszukiwanie siatki parametrów\n",
    "grid_search.fit(x_train7, y_train7)\n",
    "\n",
    "# Najlepsze parametry i najlepszy model\n",
    "print(\"Najlepsze parametry: \", grid_search.best_params_)\n",
    "best_gb = grid_search.best_estimator_\n",
    "\n",
    "# Predykcje na zbiorze treningowym i testowym\n",
    "ypred_train6 = best_gb.predict(x_train7)\n",
    "y_pred_test6 = best_gb.predict(x_test7)\n",
    "\n",
    "# Ocena modelu\n",
    "print(\"Accuracy on Training set: \", accuracy_score(y_train7, ypred_train6))\n",
    "print(\"Accuracy on Test set: \", accuracy_score(y_test7, y_pred_test6))\n",
    "print(\"\\nTraining Results\\n\")\n",
    "print(classification_report(y_train7, ypred_train6))\n",
    "print('Testing Results\\n')\n",
    "print(classification_report(y_test7, y_pred_test6))\n",
    "\n",
    "# Krzywa ROC\n",
    "y_proba_test6 = best_gb.predict_proba(x_test7)[:, 1]\n",
    "fpr, tpr, thresholds = roc_curve(y_test7, y_proba_test6)\n",
    "plt.plot(fpr, tpr)\n",
    "plt.title(\"ROC Curve with AUC = {:.2f}\".format(roc_auc_score(y_test7, y_proba_test6)))\n",
    "plt.show()"
   ]
  },
  {
   "cell_type": "markdown",
   "metadata": {},
   "source": [
    "## KNN"
   ]
  },
  {
   "cell_type": "code",
   "execution_count": 20,
   "metadata": {},
   "outputs": [
    {
     "data": {
      "text/html": [
       "<style>#sk-container-id-1 {color: black;}#sk-container-id-1 pre{padding: 0;}#sk-container-id-1 div.sk-toggleable {background-color: white;}#sk-container-id-1 label.sk-toggleable__label {cursor: pointer;display: block;width: 100%;margin-bottom: 0;padding: 0.3em;box-sizing: border-box;text-align: center;}#sk-container-id-1 label.sk-toggleable__label-arrow:before {content: \"▸\";float: left;margin-right: 0.25em;color: #696969;}#sk-container-id-1 label.sk-toggleable__label-arrow:hover:before {color: black;}#sk-container-id-1 div.sk-estimator:hover label.sk-toggleable__label-arrow:before {color: black;}#sk-container-id-1 div.sk-toggleable__content {max-height: 0;max-width: 0;overflow: hidden;text-align: left;background-color: #f0f8ff;}#sk-container-id-1 div.sk-toggleable__content pre {margin: 0.2em;color: black;border-radius: 0.25em;background-color: #f0f8ff;}#sk-container-id-1 input.sk-toggleable__control:checked~div.sk-toggleable__content {max-height: 200px;max-width: 100%;overflow: auto;}#sk-container-id-1 input.sk-toggleable__control:checked~label.sk-toggleable__label-arrow:before {content: \"▾\";}#sk-container-id-1 div.sk-estimator input.sk-toggleable__control:checked~label.sk-toggleable__label {background-color: #d4ebff;}#sk-container-id-1 div.sk-label input.sk-toggleable__control:checked~label.sk-toggleable__label {background-color: #d4ebff;}#sk-container-id-1 input.sk-hidden--visually {border: 0;clip: rect(1px 1px 1px 1px);clip: rect(1px, 1px, 1px, 1px);height: 1px;margin: -1px;overflow: hidden;padding: 0;position: absolute;width: 1px;}#sk-container-id-1 div.sk-estimator {font-family: monospace;background-color: #f0f8ff;border: 1px dotted black;border-radius: 0.25em;box-sizing: border-box;margin-bottom: 0.5em;}#sk-container-id-1 div.sk-estimator:hover {background-color: #d4ebff;}#sk-container-id-1 div.sk-parallel-item::after {content: \"\";width: 100%;border-bottom: 1px solid gray;flex-grow: 1;}#sk-container-id-1 div.sk-label:hover label.sk-toggleable__label {background-color: #d4ebff;}#sk-container-id-1 div.sk-serial::before {content: \"\";position: absolute;border-left: 1px solid gray;box-sizing: border-box;top: 0;bottom: 0;left: 50%;z-index: 0;}#sk-container-id-1 div.sk-serial {display: flex;flex-direction: column;align-items: center;background-color: white;padding-right: 0.2em;padding-left: 0.2em;position: relative;}#sk-container-id-1 div.sk-item {position: relative;z-index: 1;}#sk-container-id-1 div.sk-parallel {display: flex;align-items: stretch;justify-content: center;background-color: white;position: relative;}#sk-container-id-1 div.sk-item::before, #sk-container-id-1 div.sk-parallel-item::before {content: \"\";position: absolute;border-left: 1px solid gray;box-sizing: border-box;top: 0;bottom: 0;left: 50%;z-index: -1;}#sk-container-id-1 div.sk-parallel-item {display: flex;flex-direction: column;z-index: 1;position: relative;background-color: white;}#sk-container-id-1 div.sk-parallel-item:first-child::after {align-self: flex-end;width: 50%;}#sk-container-id-1 div.sk-parallel-item:last-child::after {align-self: flex-start;width: 50%;}#sk-container-id-1 div.sk-parallel-item:only-child::after {width: 0;}#sk-container-id-1 div.sk-dashed-wrapped {border: 1px dashed gray;margin: 0 0.4em 0.5em 0.4em;box-sizing: border-box;padding-bottom: 0.4em;background-color: white;}#sk-container-id-1 div.sk-label label {font-family: monospace;font-weight: bold;display: inline-block;line-height: 1.2em;}#sk-container-id-1 div.sk-label-container {text-align: center;}#sk-container-id-1 div.sk-container {/* jupyter's `normalize.less` sets `[hidden] { display: none; }` but bootstrap.min.css set `[hidden] { display: none !important; }` so we also need the `!important` here to be able to override the default hidden behavior on the sphinx rendered scikit-learn.org. See: https://github.com/scikit-learn/scikit-learn/issues/21755 */display: inline-block !important;position: relative;}#sk-container-id-1 div.sk-text-repr-fallback {display: none;}</style><div id=\"sk-container-id-1\" class=\"sk-top-container\"><div class=\"sk-text-repr-fallback\"><pre>KNeighborsClassifier()</pre><b>In a Jupyter environment, please rerun this cell to show the HTML representation or trust the notebook. <br />On GitHub, the HTML representation is unable to render, please try loading this page with nbviewer.org.</b></div><div class=\"sk-container\" hidden><div class=\"sk-item\"><div class=\"sk-estimator sk-toggleable\"><input class=\"sk-toggleable__control sk-hidden--visually\" id=\"sk-estimator-id-1\" type=\"checkbox\" checked><label for=\"sk-estimator-id-1\" class=\"sk-toggleable__label sk-toggleable__label-arrow\">KNeighborsClassifier</label><div class=\"sk-toggleable__content\"><pre>KNeighborsClassifier()</pre></div></div></div></div></div>"
      ],
      "text/plain": [
       "KNeighborsClassifier()"
      ]
     },
     "execution_count": 20,
     "metadata": {},
     "output_type": "execute_result"
    }
   ],
   "source": [
    "knn = KNeighborsClassifier()\n",
    "knn.fit(x_train7, y_train7)\n"
   ]
  },
  {
   "cell_type": "code",
   "execution_count": 21,
   "metadata": {},
   "outputs": [],
   "source": [
    "grid_cv = GridSearchCV(KNeighborsClassifier(), \n",
    "                       param_grid={\n",
    "                           \"n_neighbors\": range(1, 50)\n",
    "                       }, cv=5, scoring=\"f1\", \n",
    "                       verbose=1, n_jobs=6)\n"
   ]
  },
  {
   "cell_type": "code",
   "execution_count": 22,
   "metadata": {},
   "outputs": [
    {
     "name": "stdout",
     "output_type": "stream",
     "text": [
      "Fitting 5 folds for each of 49 candidates, totalling 245 fits\n"
     ]
    },
    {
     "data": {
      "text/html": [
       "<style>#sk-container-id-2 {color: black;}#sk-container-id-2 pre{padding: 0;}#sk-container-id-2 div.sk-toggleable {background-color: white;}#sk-container-id-2 label.sk-toggleable__label {cursor: pointer;display: block;width: 100%;margin-bottom: 0;padding: 0.3em;box-sizing: border-box;text-align: center;}#sk-container-id-2 label.sk-toggleable__label-arrow:before {content: \"▸\";float: left;margin-right: 0.25em;color: #696969;}#sk-container-id-2 label.sk-toggleable__label-arrow:hover:before {color: black;}#sk-container-id-2 div.sk-estimator:hover label.sk-toggleable__label-arrow:before {color: black;}#sk-container-id-2 div.sk-toggleable__content {max-height: 0;max-width: 0;overflow: hidden;text-align: left;background-color: #f0f8ff;}#sk-container-id-2 div.sk-toggleable__content pre {margin: 0.2em;color: black;border-radius: 0.25em;background-color: #f0f8ff;}#sk-container-id-2 input.sk-toggleable__control:checked~div.sk-toggleable__content {max-height: 200px;max-width: 100%;overflow: auto;}#sk-container-id-2 input.sk-toggleable__control:checked~label.sk-toggleable__label-arrow:before {content: \"▾\";}#sk-container-id-2 div.sk-estimator input.sk-toggleable__control:checked~label.sk-toggleable__label {background-color: #d4ebff;}#sk-container-id-2 div.sk-label input.sk-toggleable__control:checked~label.sk-toggleable__label {background-color: #d4ebff;}#sk-container-id-2 input.sk-hidden--visually {border: 0;clip: rect(1px 1px 1px 1px);clip: rect(1px, 1px, 1px, 1px);height: 1px;margin: -1px;overflow: hidden;padding: 0;position: absolute;width: 1px;}#sk-container-id-2 div.sk-estimator {font-family: monospace;background-color: #f0f8ff;border: 1px dotted black;border-radius: 0.25em;box-sizing: border-box;margin-bottom: 0.5em;}#sk-container-id-2 div.sk-estimator:hover {background-color: #d4ebff;}#sk-container-id-2 div.sk-parallel-item::after {content: \"\";width: 100%;border-bottom: 1px solid gray;flex-grow: 1;}#sk-container-id-2 div.sk-label:hover label.sk-toggleable__label {background-color: #d4ebff;}#sk-container-id-2 div.sk-serial::before {content: \"\";position: absolute;border-left: 1px solid gray;box-sizing: border-box;top: 0;bottom: 0;left: 50%;z-index: 0;}#sk-container-id-2 div.sk-serial {display: flex;flex-direction: column;align-items: center;background-color: white;padding-right: 0.2em;padding-left: 0.2em;position: relative;}#sk-container-id-2 div.sk-item {position: relative;z-index: 1;}#sk-container-id-2 div.sk-parallel {display: flex;align-items: stretch;justify-content: center;background-color: white;position: relative;}#sk-container-id-2 div.sk-item::before, #sk-container-id-2 div.sk-parallel-item::before {content: \"\";position: absolute;border-left: 1px solid gray;box-sizing: border-box;top: 0;bottom: 0;left: 50%;z-index: -1;}#sk-container-id-2 div.sk-parallel-item {display: flex;flex-direction: column;z-index: 1;position: relative;background-color: white;}#sk-container-id-2 div.sk-parallel-item:first-child::after {align-self: flex-end;width: 50%;}#sk-container-id-2 div.sk-parallel-item:last-child::after {align-self: flex-start;width: 50%;}#sk-container-id-2 div.sk-parallel-item:only-child::after {width: 0;}#sk-container-id-2 div.sk-dashed-wrapped {border: 1px dashed gray;margin: 0 0.4em 0.5em 0.4em;box-sizing: border-box;padding-bottom: 0.4em;background-color: white;}#sk-container-id-2 div.sk-label label {font-family: monospace;font-weight: bold;display: inline-block;line-height: 1.2em;}#sk-container-id-2 div.sk-label-container {text-align: center;}#sk-container-id-2 div.sk-container {/* jupyter's `normalize.less` sets `[hidden] { display: none; }` but bootstrap.min.css set `[hidden] { display: none !important; }` so we also need the `!important` here to be able to override the default hidden behavior on the sphinx rendered scikit-learn.org. See: https://github.com/scikit-learn/scikit-learn/issues/21755 */display: inline-block !important;position: relative;}#sk-container-id-2 div.sk-text-repr-fallback {display: none;}</style><div id=\"sk-container-id-2\" class=\"sk-top-container\"><div class=\"sk-text-repr-fallback\"><pre>GridSearchCV(cv=5, estimator=KNeighborsClassifier(), n_jobs=6,\n",
       "             param_grid={&#x27;n_neighbors&#x27;: range(1, 50)}, scoring=&#x27;f1&#x27;, verbose=1)</pre><b>In a Jupyter environment, please rerun this cell to show the HTML representation or trust the notebook. <br />On GitHub, the HTML representation is unable to render, please try loading this page with nbviewer.org.</b></div><div class=\"sk-container\" hidden><div class=\"sk-item sk-dashed-wrapped\"><div class=\"sk-label-container\"><div class=\"sk-label sk-toggleable\"><input class=\"sk-toggleable__control sk-hidden--visually\" id=\"sk-estimator-id-2\" type=\"checkbox\" ><label for=\"sk-estimator-id-2\" class=\"sk-toggleable__label sk-toggleable__label-arrow\">GridSearchCV</label><div class=\"sk-toggleable__content\"><pre>GridSearchCV(cv=5, estimator=KNeighborsClassifier(), n_jobs=6,\n",
       "             param_grid={&#x27;n_neighbors&#x27;: range(1, 50)}, scoring=&#x27;f1&#x27;, verbose=1)</pre></div></div></div><div class=\"sk-parallel\"><div class=\"sk-parallel-item\"><div class=\"sk-item\"><div class=\"sk-label-container\"><div class=\"sk-label sk-toggleable\"><input class=\"sk-toggleable__control sk-hidden--visually\" id=\"sk-estimator-id-3\" type=\"checkbox\" ><label for=\"sk-estimator-id-3\" class=\"sk-toggleable__label sk-toggleable__label-arrow\">estimator: KNeighborsClassifier</label><div class=\"sk-toggleable__content\"><pre>KNeighborsClassifier()</pre></div></div></div><div class=\"sk-serial\"><div class=\"sk-item\"><div class=\"sk-estimator sk-toggleable\"><input class=\"sk-toggleable__control sk-hidden--visually\" id=\"sk-estimator-id-4\" type=\"checkbox\" ><label for=\"sk-estimator-id-4\" class=\"sk-toggleable__label sk-toggleable__label-arrow\">KNeighborsClassifier</label><div class=\"sk-toggleable__content\"><pre>KNeighborsClassifier()</pre></div></div></div></div></div></div></div></div></div></div>"
      ],
      "text/plain": [
       "GridSearchCV(cv=5, estimator=KNeighborsClassifier(), n_jobs=6,\n",
       "             param_grid={'n_neighbors': range(1, 50)}, scoring='f1', verbose=1)"
      ]
     },
     "execution_count": 22,
     "metadata": {},
     "output_type": "execute_result"
    }
   ],
   "source": [
    "grid_cv.fit(x_train7, \n",
    "            y_train7)"
   ]
  },
  {
   "cell_type": "code",
   "execution_count": 23,
   "metadata": {},
   "outputs": [
    {
     "data": {
      "text/plain": [
       "0.9349975209230807"
      ]
     },
     "execution_count": 23,
     "metadata": {},
     "output_type": "execute_result"
    }
   ],
   "source": [
    "grid_cv.best_score_\n"
   ]
  },
  {
   "cell_type": "code",
   "execution_count": 24,
   "metadata": {},
   "outputs": [
    {
     "data": {
      "text/html": [
       "<style>#sk-container-id-3 {color: black;}#sk-container-id-3 pre{padding: 0;}#sk-container-id-3 div.sk-toggleable {background-color: white;}#sk-container-id-3 label.sk-toggleable__label {cursor: pointer;display: block;width: 100%;margin-bottom: 0;padding: 0.3em;box-sizing: border-box;text-align: center;}#sk-container-id-3 label.sk-toggleable__label-arrow:before {content: \"▸\";float: left;margin-right: 0.25em;color: #696969;}#sk-container-id-3 label.sk-toggleable__label-arrow:hover:before {color: black;}#sk-container-id-3 div.sk-estimator:hover label.sk-toggleable__label-arrow:before {color: black;}#sk-container-id-3 div.sk-toggleable__content {max-height: 0;max-width: 0;overflow: hidden;text-align: left;background-color: #f0f8ff;}#sk-container-id-3 div.sk-toggleable__content pre {margin: 0.2em;color: black;border-radius: 0.25em;background-color: #f0f8ff;}#sk-container-id-3 input.sk-toggleable__control:checked~div.sk-toggleable__content {max-height: 200px;max-width: 100%;overflow: auto;}#sk-container-id-3 input.sk-toggleable__control:checked~label.sk-toggleable__label-arrow:before {content: \"▾\";}#sk-container-id-3 div.sk-estimator input.sk-toggleable__control:checked~label.sk-toggleable__label {background-color: #d4ebff;}#sk-container-id-3 div.sk-label input.sk-toggleable__control:checked~label.sk-toggleable__label {background-color: #d4ebff;}#sk-container-id-3 input.sk-hidden--visually {border: 0;clip: rect(1px 1px 1px 1px);clip: rect(1px, 1px, 1px, 1px);height: 1px;margin: -1px;overflow: hidden;padding: 0;position: absolute;width: 1px;}#sk-container-id-3 div.sk-estimator {font-family: monospace;background-color: #f0f8ff;border: 1px dotted black;border-radius: 0.25em;box-sizing: border-box;margin-bottom: 0.5em;}#sk-container-id-3 div.sk-estimator:hover {background-color: #d4ebff;}#sk-container-id-3 div.sk-parallel-item::after {content: \"\";width: 100%;border-bottom: 1px solid gray;flex-grow: 1;}#sk-container-id-3 div.sk-label:hover label.sk-toggleable__label {background-color: #d4ebff;}#sk-container-id-3 div.sk-serial::before {content: \"\";position: absolute;border-left: 1px solid gray;box-sizing: border-box;top: 0;bottom: 0;left: 50%;z-index: 0;}#sk-container-id-3 div.sk-serial {display: flex;flex-direction: column;align-items: center;background-color: white;padding-right: 0.2em;padding-left: 0.2em;position: relative;}#sk-container-id-3 div.sk-item {position: relative;z-index: 1;}#sk-container-id-3 div.sk-parallel {display: flex;align-items: stretch;justify-content: center;background-color: white;position: relative;}#sk-container-id-3 div.sk-item::before, #sk-container-id-3 div.sk-parallel-item::before {content: \"\";position: absolute;border-left: 1px solid gray;box-sizing: border-box;top: 0;bottom: 0;left: 50%;z-index: -1;}#sk-container-id-3 div.sk-parallel-item {display: flex;flex-direction: column;z-index: 1;position: relative;background-color: white;}#sk-container-id-3 div.sk-parallel-item:first-child::after {align-self: flex-end;width: 50%;}#sk-container-id-3 div.sk-parallel-item:last-child::after {align-self: flex-start;width: 50%;}#sk-container-id-3 div.sk-parallel-item:only-child::after {width: 0;}#sk-container-id-3 div.sk-dashed-wrapped {border: 1px dashed gray;margin: 0 0.4em 0.5em 0.4em;box-sizing: border-box;padding-bottom: 0.4em;background-color: white;}#sk-container-id-3 div.sk-label label {font-family: monospace;font-weight: bold;display: inline-block;line-height: 1.2em;}#sk-container-id-3 div.sk-label-container {text-align: center;}#sk-container-id-3 div.sk-container {/* jupyter's `normalize.less` sets `[hidden] { display: none; }` but bootstrap.min.css set `[hidden] { display: none !important; }` so we also need the `!important` here to be able to override the default hidden behavior on the sphinx rendered scikit-learn.org. See: https://github.com/scikit-learn/scikit-learn/issues/21755 */display: inline-block !important;position: relative;}#sk-container-id-3 div.sk-text-repr-fallback {display: none;}</style><div id=\"sk-container-id-3\" class=\"sk-top-container\"><div class=\"sk-text-repr-fallback\"><pre>KNeighborsClassifier(n_neighbors=1)</pre><b>In a Jupyter environment, please rerun this cell to show the HTML representation or trust the notebook. <br />On GitHub, the HTML representation is unable to render, please try loading this page with nbviewer.org.</b></div><div class=\"sk-container\" hidden><div class=\"sk-item\"><div class=\"sk-estimator sk-toggleable\"><input class=\"sk-toggleable__control sk-hidden--visually\" id=\"sk-estimator-id-5\" type=\"checkbox\" checked><label for=\"sk-estimator-id-5\" class=\"sk-toggleable__label sk-toggleable__label-arrow\">KNeighborsClassifier</label><div class=\"sk-toggleable__content\"><pre>KNeighborsClassifier(n_neighbors=1)</pre></div></div></div></div></div>"
      ],
      "text/plain": [
       "KNeighborsClassifier(n_neighbors=1)"
      ]
     },
     "execution_count": 24,
     "metadata": {},
     "output_type": "execute_result"
    }
   ],
   "source": [
    "knn = grid_cv.best_estimator_\n",
    "knn"
   ]
  },
  {
   "cell_type": "code",
   "execution_count": 25,
   "metadata": {},
   "outputs": [
    {
     "name": "stdout",
     "output_type": "stream",
     "text": [
      "XGBClassifier Accuracy:  0.9318632671385914\n"
     ]
    }
   ],
   "source": [
    "ypred_train6 = grid_cv.predict(x_train7)\n",
    "y_pred_test6 = grid_cv.predict(x_test7)\n",
    "print(\"XGBClassifier Accuracy: \",accuracy_score(y_test7, y_pred_test6))"
   ]
  },
  {
   "cell_type": "code",
   "execution_count": 26,
   "metadata": {},
   "outputs": [
    {
     "name": "stdout",
     "output_type": "stream",
     "text": [
      "Training Results\n",
      "\n",
      "              precision    recall  f1-score   support\n",
      "\n",
      "         0.0       1.00      1.00      1.00     61548\n",
      "         1.0       1.00      1.00      1.00     82116\n",
      "\n",
      "    accuracy                           1.00    143664\n",
      "   macro avg       1.00      1.00      1.00    143664\n",
      "weighted avg       1.00      1.00      1.00    143664\n",
      "\n"
     ]
    }
   ],
   "source": [
    "print(\"Training Results\\n\")\n",
    "print(classification_report(y_train7, ypred_train6))"
   ]
  },
  {
   "cell_type": "code",
   "execution_count": 27,
   "metadata": {},
   "outputs": [
    {
     "name": "stdout",
     "output_type": "stream",
     "text": [
      "Testing Results\n",
      "\n",
      "              precision    recall  f1-score   support\n",
      "\n",
      "         0.0       0.94      0.90      0.92     20567\n",
      "         1.0       0.93      0.95      0.94     27322\n",
      "\n",
      "    accuracy                           0.93     47889\n",
      "   macro avg       0.93      0.93      0.93     47889\n",
      "weighted avg       0.93      0.93      0.93     47889\n",
      "\n"
     ]
    }
   ],
   "source": [
    "print('Testing Results\\n')\n",
    "print(classification_report(y_test7, y_pred_test6))"
   ]
  },
  {
   "cell_type": "code",
   "execution_count": 28,
   "metadata": {},
   "outputs": [
    {
     "data": {
      "image/png": "[encoded data removed]",
      "text/plain": [
       "<Figure size 640x480 with 1 Axes>"
      ]
     },
     "metadata": {},
     "output_type": "display_data"
    }
   ],
   "source": [
    "\n",
    "y_proba_test = grid_cv.predict_proba(x_test7)[:, 1]\n",
    "\n",
    "fpr, tpr, thresholds = roc_curve(y_test7, y_proba_test)\n",
    "\n",
    "plt.plot(fpr, tpr, label='ROC Curve')\n",
    "plt.xlabel('False Positive Rate')\n",
    "plt.ylabel('True Positive Rate')\n",
    "plt.title('ROC Curve with AUC = {:.2f}'.format(roc_auc_score(y_test7, y_proba_test)))\n",
    "plt.legend(loc='lower right')\n",
    "plt.grid(True)\n",
    "plt.show()"
   ]
  },
  {
   "cell_type": "markdown",
   "metadata": {},
   "source": [
    "## SIECI NEURONOWE"
   ]
  },
  {
   "cell_type": "markdown",
   "metadata": {},
   "source": [
    "## ANN"
   ]
  },
  {
   "cell_type": "code",
   "execution_count": 29,
   "metadata": {},
   "outputs": [
    {
     "name": "stdout",
     "output_type": "stream",
     "text": [
      "WARNING:tensorflow:From C:\\Users\\DELL\\AppData\\Roaming\\Python\\Python311\\site-packages\\keras\\src\\backend.py:873: The name tf.get_default_graph is deprecated. Please use tf.compat.v1.get_default_graph instead.\n",
      "\n"
     ]
    }
   ],
   "source": [
    "ann = tf.keras.models.Sequential()"
   ]
  },
  {
   "cell_type": "code",
   "execution_count": 30,
   "metadata": {},
   "outputs": [],
   "source": [
    "early_stop = EarlyStopping(monitor='val_loss', mode='min', verbose=1, patience=25)\n"
   ]
  },
  {
   "cell_type": "code",
   "execution_count": 31,
   "metadata": {},
   "outputs": [],
   "source": [
    "ann.add(tf.keras.layers.Dense(units=14, activation='relu'))"
   ]
  },
  {
   "cell_type": "code",
   "execution_count": 32,
   "metadata": {},
   "outputs": [],
   "source": [
    "ann.add(tf.keras.layers.Dense(units=6, activation='relu'))"
   ]
  },
  {
   "cell_type": "code",
   "execution_count": 33,
   "metadata": {},
   "outputs": [],
   "source": [
    "ann.add(tf.keras.layers.Dense(units=1, activation='sigmoid'))"
   ]
  },
  {
   "cell_type": "code",
   "execution_count": 34,
   "metadata": {},
   "outputs": [
    {
     "name": "stdout",
     "output_type": "stream",
     "text": [
      "WARNING:tensorflow:From C:\\Users\\DELL\\AppData\\Roaming\\Python\\Python311\\site-packages\\keras\\src\\optimizers\\__init__.py:309: The name tf.train.Optimizer is deprecated. Please use tf.compat.v1.train.Optimizer instead.\n",
      "\n"
     ]
    }
   ],
   "source": [
    "ann.compile(optimizer = 'adam', loss = 'binary_crossentropy', metrics = ['accuracy'])"
   ]
  },
  {
   "cell_type": "code",
   "execution_count": 35,
   "metadata": {},
   "outputs": [
    {
     "name": "stdout",
     "output_type": "stream",
     "text": [
      "Epoch 1/100\n",
      "WARNING:tensorflow:From C:\\Users\\DELL\\AppData\\Roaming\\Python\\Python311\\site-packages\\keras\\src\\utils\\tf_utils.py:492: The name tf.ragged.RaggedTensorValue is deprecated. Please use tf.compat.v1.ragged.RaggedTensorValue instead.\n",
      "\n",
      "WARNING:tensorflow:From C:\\Users\\DELL\\AppData\\Roaming\\Python\\Python311\\site-packages\\keras\\src\\engine\\base_layer_utils.py:384: The name tf.executing_eagerly_outside_functions is deprecated. Please use tf.compat.v1.executing_eagerly_outside_functions instead.\n",
      "\n",
      "4490/4490 [==============================] - 6s 1ms/step - loss: 0.3594 - accuracy: 0.8401 - val_loss: 0.3190 - val_accuracy: 0.8646\n",
      "Epoch 2/100\n",
      "4490/4490 [==============================] - 5s 1ms/step - loss: 0.3056 - accuracy: 0.8721 - val_loss: 0.2991 - val_accuracy: 0.8742\n",
      "Epoch 3/100\n",
      "4490/4490 [==============================] - 5s 1ms/step - loss: 0.2889 - accuracy: 0.8784 - val_loss: 0.2855 - val_accuracy: 0.8803\n",
      "Epoch 4/100\n",
      "4490/4490 [==============================] - 5s 1ms/step - loss: 0.2759 - accuracy: 0.8832 - val_loss: 0.2720 - val_accuracy: 0.8842\n",
      "Epoch 5/100\n",
      "4490/4490 [==============================] - 5s 1ms/step - loss: 0.2661 - accuracy: 0.8873 - val_loss: 0.2637 - val_accuracy: 0.8885\n",
      "Epoch 6/100\n",
      "4490/4490 [==============================] - 5s 1ms/step - loss: 0.2596 - accuracy: 0.8897 - val_loss: 0.2585 - val_accuracy: 0.8897\n",
      "Epoch 7/100\n",
      "4490/4490 [==============================] - 5s 1ms/step - loss: 0.2544 - accuracy: 0.8914 - val_loss: 0.2546 - val_accuracy: 0.8910\n",
      "Epoch 8/100\n",
      "4490/4490 [==============================] - 5s 1ms/step - loss: 0.2498 - accuracy: 0.8932 - val_loss: 0.2482 - val_accuracy: 0.8947\n",
      "Epoch 9/100\n",
      "4490/4490 [==============================] - 5s 1ms/step - loss: 0.2466 - accuracy: 0.8947 - val_loss: 0.2468 - val_accuracy: 0.8942\n",
      "Epoch 10/100\n",
      "4490/4490 [==============================] - 5s 1ms/step - loss: 0.2432 - accuracy: 0.8969 - val_loss: 0.2452 - val_accuracy: 0.8961\n",
      "Epoch 11/100\n",
      "4490/4490 [==============================] - 5s 1ms/step - loss: 0.2401 - accuracy: 0.8982 - val_loss: 0.2508 - val_accuracy: 0.8910\n",
      "Epoch 12/100\n",
      "4490/4490 [==============================] - 5s 1ms/step - loss: 0.2381 - accuracy: 0.8990 - val_loss: 0.2392 - val_accuracy: 0.8972\n",
      "Epoch 13/100\n",
      "4490/4490 [==============================] - 5s 1ms/step - loss: 0.2350 - accuracy: 0.9008 - val_loss: 0.2372 - val_accuracy: 0.8982\n",
      "Epoch 14/100\n",
      "4490/4490 [==============================] - 5s 1ms/step - loss: 0.2335 - accuracy: 0.9006 - val_loss: 0.2477 - val_accuracy: 0.8921\n",
      "Epoch 15/100\n",
      "4490/4490 [==============================] - 5s 1ms/step - loss: 0.2310 - accuracy: 0.9023 - val_loss: 0.2316 - val_accuracy: 0.9006\n",
      "Epoch 16/100\n",
      "4490/4490 [==============================] - 5s 1ms/step - loss: 0.2280 - accuracy: 0.9037 - val_loss: 0.2308 - val_accuracy: 0.9016\n",
      "Epoch 17/100\n",
      "4490/4490 [==============================] - 5s 1ms/step - loss: 0.2265 - accuracy: 0.9046 - val_loss: 0.2285 - val_accuracy: 0.9020\n",
      "Epoch 18/100\n",
      "4490/4490 [==============================] - 5s 1ms/step - loss: 0.2244 - accuracy: 0.9050 - val_loss: 0.2229 - val_accuracy: 0.9051\n",
      "Epoch 19/100\n",
      "4490/4490 [==============================] - 5s 1ms/step - loss: 0.2221 - accuracy: 0.9063 - val_loss: 0.2237 - val_accuracy: 0.9044\n",
      "Epoch 20/100\n",
      "4490/4490 [==============================] - 5s 1ms/step - loss: 0.2202 - accuracy: 0.9067 - val_loss: 0.2241 - val_accuracy: 0.9036\n",
      "Epoch 21/100\n",
      "4490/4490 [==============================] - 5s 1ms/step - loss: 0.2185 - accuracy: 0.9079 - val_loss: 0.2217 - val_accuracy: 0.9053\n",
      "Epoch 22/100\n",
      "4490/4490 [==============================] - 5s 1ms/step - loss: 0.2174 - accuracy: 0.9083 - val_loss: 0.2188 - val_accuracy: 0.9062\n",
      "Epoch 23/100\n",
      "4490/4490 [==============================] - 5s 1ms/step - loss: 0.2168 - accuracy: 0.9087 - val_loss: 0.2179 - val_accuracy: 0.9059\n",
      "Epoch 24/100\n",
      "4490/4490 [==============================] - 5s 1ms/step - loss: 0.2158 - accuracy: 0.9086 - val_loss: 0.2126 - val_accuracy: 0.9097\n",
      "Epoch 25/100\n",
      "4490/4490 [==============================] - 5s 1ms/step - loss: 0.2144 - accuracy: 0.9099 - val_loss: 0.2156 - val_accuracy: 0.9076\n",
      "Epoch 26/100\n",
      "4490/4490 [==============================] - 5s 1ms/step - loss: 0.2125 - accuracy: 0.9106 - val_loss: 0.2139 - val_accuracy: 0.9089\n",
      "Epoch 27/100\n",
      "4490/4490 [==============================] - 5s 1ms/step - loss: 0.2117 - accuracy: 0.9104 - val_loss: 0.2110 - val_accuracy: 0.9108\n",
      "Epoch 28/100\n",
      "4490/4490 [==============================] - 5s 1ms/step - loss: 0.2113 - accuracy: 0.9106 - val_loss: 0.2114 - val_accuracy: 0.9109\n",
      "Epoch 29/100\n",
      "4490/4490 [==============================] - 5s 1ms/step - loss: 0.2099 - accuracy: 0.9106 - val_loss: 0.2131 - val_accuracy: 0.9082\n",
      "Epoch 30/100\n",
      "4490/4490 [==============================] - 5s 1ms/step - loss: 0.2097 - accuracy: 0.9113 - val_loss: 0.2082 - val_accuracy: 0.9123\n",
      "Epoch 31/100\n",
      "4490/4490 [==============================] - 5s 1ms/step - loss: 0.2089 - accuracy: 0.9114 - val_loss: 0.2097 - val_accuracy: 0.9111\n",
      "Epoch 32/100\n",
      "4490/4490 [==============================] - 5s 1ms/step - loss: 0.2085 - accuracy: 0.9120 - val_loss: 0.2102 - val_accuracy: 0.9096\n",
      "Epoch 33/100\n",
      "4490/4490 [==============================] - 5s 1ms/step - loss: 0.2076 - accuracy: 0.9114 - val_loss: 0.2077 - val_accuracy: 0.9115\n",
      "Epoch 34/100\n",
      "4490/4490 [==============================] - 5s 1ms/step - loss: 0.2074 - accuracy: 0.9123 - val_loss: 0.2071 - val_accuracy: 0.9125\n",
      "Epoch 35/100\n",
      "4490/4490 [==============================] - 5s 1ms/step - loss: 0.2070 - accuracy: 0.9116 - val_loss: 0.2151 - val_accuracy: 0.9085\n",
      "Epoch 36/100\n",
      "4490/4490 [==============================] - 5s 1ms/step - loss: 0.2074 - accuracy: 0.9121 - val_loss: 0.2114 - val_accuracy: 0.9096\n",
      "Epoch 37/100\n",
      "4490/4490 [==============================] - 5s 1ms/step - loss: 0.2068 - accuracy: 0.9121 - val_loss: 0.2125 - val_accuracy: 0.9099\n",
      "Epoch 38/100\n",
      "4490/4490 [==============================] - 5s 1ms/step - loss: 0.2068 - accuracy: 0.9123 - val_loss: 0.2110 - val_accuracy: 0.9085\n",
      "Epoch 39/100\n",
      "4490/4490 [==============================] - 5s 1ms/step - loss: 0.2059 - accuracy: 0.9128 - val_loss: 0.2083 - val_accuracy: 0.9103\n",
      "Epoch 40/100\n",
      "4490/4490 [==============================] - 5s 1ms/step - loss: 0.2061 - accuracy: 0.9127 - val_loss: 0.2045 - val_accuracy: 0.9127\n",
      "Epoch 41/100\n",
      "4490/4490 [==============================] - 5s 1ms/step - loss: 0.2058 - accuracy: 0.9124 - val_loss: 0.2135 - val_accuracy: 0.9081\n",
      "Epoch 42/100\n",
      "4490/4490 [==============================] - 5s 1ms/step - loss: 0.2061 - accuracy: 0.9126 - val_loss: 0.2157 - val_accuracy: 0.9084\n",
      "Epoch 43/100\n",
      "4490/4490 [==============================] - 5s 1ms/step - loss: 0.2058 - accuracy: 0.9129 - val_loss: 0.2093 - val_accuracy: 0.9097\n",
      "Epoch 44/100\n",
      "4490/4490 [==============================] - 5s 1ms/step - loss: 0.2055 - accuracy: 0.9132 - val_loss: 0.2180 - val_accuracy: 0.9035\n",
      "Epoch 45/100\n",
      "4490/4490 [==============================] - 5s 1ms/step - loss: 0.2056 - accuracy: 0.9130 - val_loss: 0.2070 - val_accuracy: 0.9109\n",
      "Epoch 46/100\n",
      "4490/4490 [==============================] - 5s 1ms/step - loss: 0.2050 - accuracy: 0.9134 - val_loss: 0.2051 - val_accuracy: 0.9121\n",
      "Epoch 47/100\n",
      "4490/4490 [==============================] - 5s 1ms/step - loss: 0.2049 - accuracy: 0.9131 - val_loss: 0.2068 - val_accuracy: 0.9124\n",
      "Epoch 48/100\n",
      "4490/4490 [==============================] - 5s 1ms/step - loss: 0.2047 - accuracy: 0.9130 - val_loss: 0.2055 - val_accuracy: 0.9124\n",
      "Epoch 49/100\n",
      "4490/4490 [==============================] - 5s 1ms/step - loss: 0.2044 - accuracy: 0.9131 - val_loss: 0.2071 - val_accuracy: 0.9115\n",
      "Epoch 50/100\n",
      "4490/4490 [==============================] - 5s 1ms/step - loss: 0.2045 - accuracy: 0.9135 - val_loss: 0.2099 - val_accuracy: 0.9093\n",
      "Epoch 51/100\n",
      "4490/4490 [==============================] - 5s 1ms/step - loss: 0.2042 - accuracy: 0.9129 - val_loss: 0.2077 - val_accuracy: 0.9113\n",
      "Epoch 52/100\n",
      "4490/4490 [==============================] - 5s 1ms/step - loss: 0.2042 - accuracy: 0.9134 - val_loss: 0.2046 - val_accuracy: 0.9131\n",
      "Epoch 53/100\n",
      "4490/4490 [==============================] - 5s 1ms/step - loss: 0.2040 - accuracy: 0.9130 - val_loss: 0.2055 - val_accuracy: 0.9126\n",
      "Epoch 54/100\n",
      "4490/4490 [==============================] - 5s 1ms/step - loss: 0.2041 - accuracy: 0.9140 - val_loss: 0.2070 - val_accuracy: 0.9127\n",
      "Epoch 55/100\n",
      "4490/4490 [==============================] - 5s 1ms/step - loss: 0.2038 - accuracy: 0.9136 - val_loss: 0.2035 - val_accuracy: 0.9123\n",
      "Epoch 56/100\n",
      "4490/4490 [==============================] - 5s 1ms/step - loss: 0.2037 - accuracy: 0.9134 - val_loss: 0.2066 - val_accuracy: 0.9121\n",
      "Epoch 57/100\n",
      "4490/4490 [==============================] - 5s 1ms/step - loss: 0.2044 - accuracy: 0.9127 - val_loss: 0.2086 - val_accuracy: 0.9116\n",
      "Epoch 58/100\n",
      "4490/4490 [==============================] - 5s 1ms/step - loss: 0.2034 - accuracy: 0.9133 - val_loss: 0.2087 - val_accuracy: 0.9113\n",
      "Epoch 59/100\n",
      "4490/4490 [==============================] - 5s 1ms/step - loss: 0.2033 - accuracy: 0.9141 - val_loss: 0.2048 - val_accuracy: 0.9119\n",
      "Epoch 60/100\n",
      "4490/4490 [==============================] - 5s 1ms/step - loss: 0.2032 - accuracy: 0.9137 - val_loss: 0.2052 - val_accuracy: 0.9124\n",
      "Epoch 61/100\n",
      "4490/4490 [==============================] - 5s 1ms/step - loss: 0.2035 - accuracy: 0.9138 - val_loss: 0.2178 - val_accuracy: 0.9034\n",
      "Epoch 62/100\n",
      "4490/4490 [==============================] - 5s 1ms/step - loss: 0.2034 - accuracy: 0.9134 - val_loss: 0.2046 - val_accuracy: 0.9121\n",
      "Epoch 63/100\n",
      "4490/4490 [==============================] - 5s 1ms/step - loss: 0.2035 - accuracy: 0.9133 - val_loss: 0.2039 - val_accuracy: 0.9139\n",
      "Epoch 64/100\n",
      "4490/4490 [==============================] - 5s 1ms/step - loss: 0.2029 - accuracy: 0.9139 - val_loss: 0.2028 - val_accuracy: 0.9124\n",
      "Epoch 65/100\n",
      "4490/4490 [==============================] - 5s 1ms/step - loss: 0.2024 - accuracy: 0.9143 - val_loss: 0.2042 - val_accuracy: 0.9124\n",
      "Epoch 66/100\n",
      "4490/4490 [==============================] - 5s 1ms/step - loss: 0.2027 - accuracy: 0.9138 - val_loss: 0.2045 - val_accuracy: 0.9130\n",
      "Epoch 67/100\n",
      "4490/4490 [==============================] - 5s 1ms/step - loss: 0.2031 - accuracy: 0.9139 - val_loss: 0.2032 - val_accuracy: 0.9126\n",
      "Epoch 68/100\n",
      "4490/4490 [==============================] - 5s 1ms/step - loss: 0.2027 - accuracy: 0.9147 - val_loss: 0.2020 - val_accuracy: 0.9127\n",
      "Epoch 69/100\n",
      "4490/4490 [==============================] - 5s 1ms/step - loss: 0.2026 - accuracy: 0.9139 - val_loss: 0.2019 - val_accuracy: 0.9141\n",
      "Epoch 70/100\n",
      "4490/4490 [==============================] - 5s 1ms/step - loss: 0.2021 - accuracy: 0.9150 - val_loss: 0.2039 - val_accuracy: 0.9116\n",
      "Epoch 71/100\n",
      "4490/4490 [==============================] - 5s 1ms/step - loss: 0.2027 - accuracy: 0.9133 - val_loss: 0.2030 - val_accuracy: 0.9125\n",
      "Epoch 72/100\n",
      "4490/4490 [==============================] - 5s 1ms/step - loss: 0.2024 - accuracy: 0.9141 - val_loss: 0.2041 - val_accuracy: 0.9134\n",
      "Epoch 73/100\n",
      "4490/4490 [==============================] - 5s 1ms/step - loss: 0.2025 - accuracy: 0.9137 - val_loss: 0.2068 - val_accuracy: 0.9089\n",
      "Epoch 74/100\n",
      "4490/4490 [==============================] - 5s 1ms/step - loss: 0.2028 - accuracy: 0.9139 - val_loss: 0.2059 - val_accuracy: 0.9113\n",
      "Epoch 75/100\n",
      "4490/4490 [==============================] - 5s 1ms/step - loss: 0.2023 - accuracy: 0.9137 - val_loss: 0.2081 - val_accuracy: 0.9121\n",
      "Epoch 76/100\n",
      "4490/4490 [==============================] - 5s 1ms/step - loss: 0.2023 - accuracy: 0.9143 - val_loss: 0.2065 - val_accuracy: 0.9122\n",
      "Epoch 77/100\n",
      "4490/4490 [==============================] - 5s 1ms/step - loss: 0.2020 - accuracy: 0.9141 - val_loss: 0.2080 - val_accuracy: 0.9121\n",
      "Epoch 78/100\n",
      "4490/4490 [==============================] - 5s 1ms/step - loss: 0.2017 - accuracy: 0.9139 - val_loss: 0.2399 - val_accuracy: 0.8956\n",
      "Epoch 79/100\n",
      "4490/4490 [==============================] - 5s 1ms/step - loss: 0.2021 - accuracy: 0.9142 - val_loss: 0.2030 - val_accuracy: 0.9129\n",
      "Epoch 80/100\n",
      "4490/4490 [==============================] - 5s 1ms/step - loss: 0.2023 - accuracy: 0.9134 - val_loss: 0.2142 - val_accuracy: 0.9085\n",
      "Epoch 81/100\n",
      "4490/4490 [==============================] - 5s 1ms/step - loss: 0.2015 - accuracy: 0.9148 - val_loss: 0.2050 - val_accuracy: 0.9113\n",
      "Epoch 82/100\n",
      "4490/4490 [==============================] - 5s 1ms/step - loss: 0.2017 - accuracy: 0.9137 - val_loss: 0.2186 - val_accuracy: 0.9067\n",
      "Epoch 83/100\n",
      "4490/4490 [==============================] - 5s 1ms/step - loss: 0.2018 - accuracy: 0.9142 - val_loss: 0.2150 - val_accuracy: 0.9063\n",
      "Epoch 84/100\n",
      "4490/4490 [==============================] - 5s 1ms/step - loss: 0.2015 - accuracy: 0.9144 - val_loss: 0.2064 - val_accuracy: 0.9115\n",
      "Epoch 85/100\n",
      "4490/4490 [==============================] - 5s 1ms/step - loss: 0.2016 - accuracy: 0.9143 - val_loss: 0.2043 - val_accuracy: 0.9122\n",
      "Epoch 86/100\n",
      "4490/4490 [==============================] - 5s 1ms/step - loss: 0.2016 - accuracy: 0.9142 - val_loss: 0.2027 - val_accuracy: 0.9129\n",
      "Epoch 87/100\n",
      "4490/4490 [==============================] - 5s 1ms/step - loss: 0.2013 - accuracy: 0.9139 - val_loss: 0.2098 - val_accuracy: 0.9078\n",
      "Epoch 88/100\n",
      "4490/4490 [==============================] - 5s 1ms/step - loss: 0.2018 - accuracy: 0.9143 - val_loss: 0.2134 - val_accuracy: 0.9092\n",
      "Epoch 89/100\n",
      "4490/4490 [==============================] - 5s 1ms/step - loss: 0.2017 - accuracy: 0.9142 - val_loss: 0.2023 - val_accuracy: 0.9126\n",
      "Epoch 90/100\n",
      "4490/4490 [==============================] - 5s 1ms/step - loss: 0.2014 - accuracy: 0.9144 - val_loss: 0.2127 - val_accuracy: 0.9099\n",
      "Epoch 91/100\n",
      "4490/4490 [==============================] - 5s 1ms/step - loss: 0.2015 - accuracy: 0.9142 - val_loss: 0.2032 - val_accuracy: 0.9128\n",
      "Epoch 92/100\n",
      "4490/4490 [==============================] - 5s 1ms/step - loss: 0.2012 - accuracy: 0.9143 - val_loss: 0.2089 - val_accuracy: 0.9108\n",
      "Epoch 93/100\n",
      "4490/4490 [==============================] - 5s 1ms/step - loss: 0.2010 - accuracy: 0.9153 - val_loss: 0.2081 - val_accuracy: 0.9085\n",
      "Epoch 94/100\n",
      "4490/4490 [==============================] - 5s 1ms/step - loss: 0.2009 - accuracy: 0.9148 - val_loss: 0.2096 - val_accuracy: 0.9104\n",
      "Epoch 94: early stopping\n"
     ]
    },
    {
     "data": {
      "text/plain": [
       "<keras.src.callbacks.History at 0x1feaffb4c10>"
      ]
     },
     "execution_count": 35,
     "metadata": {},
     "output_type": "execute_result"
    }
   ],
   "source": [
    "ann.fit(x_train7, y_train7, batch_size = 32, epochs=100,\n",
    "          validation_data=(x_test7, y_test7), verbose=1,\n",
    "          callbacks=[early_stop])"
   ]
  },
  {
   "cell_type": "code",
   "execution_count": 36,
   "metadata": {},
   "outputs": [
    {
     "name": "stdout",
     "output_type": "stream",
     "text": [
      "4490/4490 [==============================] - 3s 754us/step\n",
      "1497/1497 [==============================] - 1s 749us/step\n",
      "[[0. 0.]\n",
      " [1. 1.]\n",
      " [1. 0.]\n",
      " ...\n",
      " [1. 1.]\n",
      " [0. 0.]\n",
      " [0. 0.]]\n"
     ]
    }
   ],
   "source": [
    "ypred_train7 = ann.predict(x_train7)\n",
    "y_pred_test7 = ann.predict(x_test7)\n",
    "\n",
    "y_pred_test7 = (y_pred_test7 > 0.5)\n",
    "ypred_train7 = (ypred_train7 > 0.5)\n",
    "print(np.concatenate((y_pred_test7.reshape(len(y_pred_test7),1), y_test7.reshape(len(y_test7),1)),1))"
   ]
  },
  {
   "cell_type": "code",
   "execution_count": 37,
   "metadata": {},
   "outputs": [
    {
     "data": {
      "text/plain": [
       "0.9103760780137401"
      ]
     },
     "execution_count": 37,
     "metadata": {},
     "output_type": "execute_result"
    }
   ],
   "source": [
    "accuracy_score(y_test7, y_pred_test7)"
   ]
  },
  {
   "cell_type": "code",
   "execution_count": 38,
   "metadata": {},
   "outputs": [
    {
     "name": "stdout",
     "output_type": "stream",
     "text": [
      "Training Results\n",
      "\n",
      "              precision    recall  f1-score   support\n",
      "\n",
      "         0.0       0.92      0.88      0.90     61548\n",
      "         1.0       0.91      0.94      0.92     82116\n",
      "\n",
      "    accuracy                           0.91    143664\n",
      "   macro avg       0.91      0.91      0.91    143664\n",
      "weighted avg       0.91      0.91      0.91    143664\n",
      "\n"
     ]
    }
   ],
   "source": [
    "print(\"Training Results\\n\")\n",
    "print(classification_report(y_train7, ypred_train7))"
   ]
  },
  {
   "cell_type": "code",
   "execution_count": 39,
   "metadata": {},
   "outputs": [
    {
     "name": "stdout",
     "output_type": "stream",
     "text": [
      "Testing Results\n",
      "\n",
      "              precision    recall  f1-score   support\n",
      "\n",
      "         0.0       0.92      0.87      0.89     20567\n",
      "         1.0       0.91      0.94      0.92     27322\n",
      "\n",
      "    accuracy                           0.91     47889\n",
      "   macro avg       0.91      0.91      0.91     47889\n",
      "weighted avg       0.91      0.91      0.91     47889\n",
      "\n"
     ]
    }
   ],
   "source": [
    "print('Testing Results\\n')\n",
    "print(classification_report(y_test7, y_pred_test7))"
   ]
  },
  {
   "cell_type": "code",
   "execution_count": 40,
   "metadata": {},
   "outputs": [
    {
     "name": "stdout",
     "output_type": "stream",
     "text": [
      "1497/1497 [==============================] - 1s 761us/step\n"
     ]
    },
    {
     "data": {
      "image/png": "[encoded data removed]",
      "text/plain": [
       "<Figure size 640x480 with 1 Axes>"
      ]
     },
     "metadata": {},
     "output_type": "display_data"
    }
   ],
   "source": [
    "\n",
    "y_proba_test = ann.predict(x_test7).flatten()\n",
    "\n",
    "fpr, tpr, thresholds = roc_curve(y_test7, y_proba_test)\n",
    "\n",
    "plt.plot(fpr, tpr, label='ROC Curve')\n",
    "plt.xlabel('False Positive Rate')\n",
    "plt.ylabel('True Positive Rate')\n",
    "plt.title('ROC Curve with AUC = {:.2f}'.format(roc_auc_score(y_test7, y_proba_test)))\n",
    "plt.legend(loc='lower right')\n",
    "plt.grid(True)\n",
    "plt.show()"
   ]
  },
  {
   "cell_type": "markdown",
   "metadata": {},
   "source": [
    "## inne próby sieci neuronowych "
   ]
  },
  {
   "cell_type": "code",
   "execution_count": 41,
   "metadata": {},
   "outputs": [
    {
     "name": "stderr",
     "output_type": "stream",
     "text": [
      "WARNING:absl:`lr` is deprecated in Keras optimizer, please use `learning_rate` or use the legacy optimizer, e.g.,tf.keras.optimizers.legacy.Adam.\n"
     ]
    },
    {
     "name": "stdout",
     "output_type": "stream",
     "text": [
      "Epoch 1/100\n",
      "4490/4490 [==============================] - 5s 972us/step - loss: 0.3416 - accuracy: 0.8546\n",
      "Epoch 2/100\n",
      "4490/4490 [==============================] - 4s 959us/step - loss: 0.2903 - accuracy: 0.8789\n",
      "Epoch 3/100\n",
      "4490/4490 [==============================] - 4s 922us/step - loss: 0.2648 - accuracy: 0.8905\n",
      "Epoch 4/100\n",
      "4490/4490 [==============================] - 4s 905us/step - loss: 0.2489 - accuracy: 0.8973\n",
      "Epoch 5/100\n",
      "4490/4490 [==============================] - 4s 914us/step - loss: 0.2396 - accuracy: 0.9003\n",
      "Epoch 6/100\n",
      "4490/4490 [==============================] - 4s 913us/step - loss: 0.2336 - accuracy: 0.9027\n",
      "Epoch 7/100\n",
      "4490/4490 [==============================] - 4s 910us/step - loss: 0.2293 - accuracy: 0.9030\n",
      "Epoch 8/100\n",
      "4490/4490 [==============================] - 4s 913us/step - loss: 0.2259 - accuracy: 0.9057\n",
      "Epoch 9/100\n",
      "4490/4490 [==============================] - 4s 897us/step - loss: 0.2228 - accuracy: 0.9065\n",
      "Epoch 10/100\n",
      "4490/4490 [==============================] - 4s 901us/step - loss: 0.2196 - accuracy: 0.9072\n",
      "Epoch 11/100\n",
      "4490/4490 [==============================] - 4s 909us/step - loss: 0.2170 - accuracy: 0.9082\n",
      "Epoch 12/100\n",
      "4490/4490 [==============================] - 4s 914us/step - loss: 0.2149 - accuracy: 0.9091\n",
      "Epoch 13/100\n",
      "4490/4490 [==============================] - 4s 923us/step - loss: 0.2150 - accuracy: 0.9086\n",
      "Epoch 14/100\n",
      "4490/4490 [==============================] - 4s 919us/step - loss: 0.2138 - accuracy: 0.9098\n",
      "Epoch 15/100\n",
      "4490/4490 [==============================] - 4s 913us/step - loss: 0.2127 - accuracy: 0.9097\n",
      "Epoch 16/100\n",
      "4490/4490 [==============================] - 4s 934us/step - loss: 0.2130 - accuracy: 0.9102\n",
      "Epoch 17/100\n",
      "4490/4490 [==============================] - 4s 930us/step - loss: 0.2120 - accuracy: 0.9102\n",
      "Epoch 18/100\n",
      "4490/4490 [==============================] - 4s 928us/step - loss: 0.2114 - accuracy: 0.9105\n",
      "Epoch 19/100\n",
      "4490/4490 [==============================] - 4s 908us/step - loss: 0.2108 - accuracy: 0.9109\n",
      "Epoch 20/100\n",
      "4490/4490 [==============================] - 4s 916us/step - loss: 0.2103 - accuracy: 0.9107\n",
      "Epoch 21/100\n",
      "4490/4490 [==============================] - 4s 931us/step - loss: 0.2099 - accuracy: 0.9104\n",
      "Epoch 22/100\n",
      "4490/4490 [==============================] - 4s 931us/step - loss: 0.2103 - accuracy: 0.9106\n",
      "Epoch 23/100\n",
      "4490/4490 [==============================] - 4s 932us/step - loss: 0.2091 - accuracy: 0.9118\n",
      "Epoch 24/100\n",
      "4490/4490 [==============================] - 4s 934us/step - loss: 0.2096 - accuracy: 0.9111\n",
      "Epoch 25/100\n",
      "4490/4490 [==============================] - 4s 938us/step - loss: 0.2092 - accuracy: 0.9109\n",
      "Epoch 26/100\n",
      "4490/4490 [==============================] - 4s 928us/step - loss: 0.2089 - accuracy: 0.9113\n",
      "Epoch 27/100\n",
      "4490/4490 [==============================] - 4s 914us/step - loss: 0.2090 - accuracy: 0.9117\n",
      "Epoch 28/100\n",
      "4490/4490 [==============================] - 4s 889us/step - loss: 0.2084 - accuracy: 0.9114\n",
      "Epoch 29/100\n",
      "4490/4490 [==============================] - 4s 888us/step - loss: 0.2087 - accuracy: 0.9123\n",
      "Epoch 30/100\n",
      "4490/4490 [==============================] - 4s 904us/step - loss: 0.2085 - accuracy: 0.9117\n",
      "Epoch 31/100\n",
      "4490/4490 [==============================] - 4s 895us/step - loss: 0.2082 - accuracy: 0.9112\n",
      "Epoch 32/100\n",
      "4490/4490 [==============================] - 4s 869us/step - loss: 0.2076 - accuracy: 0.9119\n",
      "Epoch 33/100\n",
      "4490/4490 [==============================] - 4s 910us/step - loss: 0.2074 - accuracy: 0.9121\n",
      "Epoch 34/100\n",
      "4490/4490 [==============================] - 4s 890us/step - loss: 0.2074 - accuracy: 0.9122\n",
      "Epoch 35/100\n",
      "4490/4490 [==============================] - 4s 884us/step - loss: 0.2072 - accuracy: 0.9118\n",
      "Epoch 36/100\n",
      "4490/4490 [==============================] - 4s 895us/step - loss: 0.2064 - accuracy: 0.9122\n",
      "Epoch 37/100\n",
      "4490/4490 [==============================] - 4s 899us/step - loss: 0.2074 - accuracy: 0.9120\n",
      "Epoch 38/100\n",
      "4490/4490 [==============================] - 4s 905us/step - loss: 0.2068 - accuracy: 0.9122\n",
      "Epoch 39/100\n",
      "4490/4490 [==============================] - 4s 886us/step - loss: 0.2067 - accuracy: 0.9120\n",
      "Epoch 40/100\n",
      "4490/4490 [==============================] - 4s 885us/step - loss: 0.2066 - accuracy: 0.9120\n",
      "Epoch 41/100\n",
      "4490/4490 [==============================] - 4s 919us/step - loss: 0.2058 - accuracy: 0.9121\n",
      "Epoch 42/100\n",
      "4490/4490 [==============================] - 4s 901us/step - loss: 0.2058 - accuracy: 0.9129\n",
      "Epoch 43/100\n",
      "4490/4490 [==============================] - 4s 894us/step - loss: 0.2064 - accuracy: 0.9117\n",
      "Epoch 44/100\n",
      "4490/4490 [==============================] - 4s 910us/step - loss: 0.2059 - accuracy: 0.9121\n",
      "Epoch 45/100\n",
      "4490/4490 [==============================] - 4s 921us/step - loss: 0.2060 - accuracy: 0.9126\n",
      "Epoch 46/100\n",
      "4490/4490 [==============================] - 4s 892us/step - loss: 0.2060 - accuracy: 0.9120\n",
      "Epoch 47/100\n",
      "4490/4490 [==============================] - 4s 898us/step - loss: 0.2049 - accuracy: 0.9134\n",
      "Epoch 48/100\n",
      "4490/4490 [==============================] - 4s 906us/step - loss: 0.2054 - accuracy: 0.9127\n",
      "Epoch 49/100\n",
      "4490/4490 [==============================] - 4s 906us/step - loss: 0.2055 - accuracy: 0.9131\n",
      "Epoch 50/100\n",
      "4490/4490 [==============================] - 4s 894us/step - loss: 0.2054 - accuracy: 0.9121\n",
      "Epoch 51/100\n",
      "4490/4490 [==============================] - 4s 905us/step - loss: 0.2052 - accuracy: 0.9130\n",
      "Epoch 52/100\n",
      "4490/4490 [==============================] - 4s 908us/step - loss: 0.2047 - accuracy: 0.9130\n",
      "Epoch 53/100\n",
      "4490/4490 [==============================] - 4s 914us/step - loss: 0.2052 - accuracy: 0.9131\n",
      "Epoch 54/100\n",
      "4490/4490 [==============================] - 4s 903us/step - loss: 0.2048 - accuracy: 0.9125\n",
      "Epoch 55/100\n",
      "4490/4490 [==============================] - 4s 920us/step - loss: 0.2048 - accuracy: 0.9134\n",
      "Epoch 56/100\n",
      "4490/4490 [==============================] - 4s 918us/step - loss: 0.2043 - accuracy: 0.9135\n",
      "Epoch 57/100\n",
      "4490/4490 [==============================] - 4s 891us/step - loss: 0.2037 - accuracy: 0.9138\n",
      "Epoch 58/100\n",
      "4490/4490 [==============================] - 4s 900us/step - loss: 0.2035 - accuracy: 0.9135\n",
      "Epoch 59/100\n",
      "4490/4490 [==============================] - 4s 891us/step - loss: 0.2039 - accuracy: 0.9132\n",
      "Epoch 60/100\n",
      "4490/4490 [==============================] - 4s 898us/step - loss: 0.2043 - accuracy: 0.9133\n",
      "Epoch 61/100\n",
      "4490/4490 [==============================] - 4s 874us/step - loss: 0.2036 - accuracy: 0.9135\n",
      "Epoch 62/100\n",
      "4490/4490 [==============================] - 4s 897us/step - loss: 0.2035 - accuracy: 0.9134\n",
      "Epoch 63/100\n",
      "4490/4490 [==============================] - 4s 888us/step - loss: 0.2043 - accuracy: 0.9130\n",
      "Epoch 64/100\n",
      "4490/4490 [==============================] - 4s 887us/step - loss: 0.2033 - accuracy: 0.9134\n",
      "Epoch 65/100\n",
      "4490/4490 [==============================] - 4s 898us/step - loss: 0.2030 - accuracy: 0.9141\n",
      "Epoch 66/100\n",
      "4490/4490 [==============================] - 4s 903us/step - loss: 0.2027 - accuracy: 0.9144\n",
      "Epoch 67/100\n",
      "4490/4490 [==============================] - 4s 901us/step - loss: 0.2029 - accuracy: 0.9137\n",
      "Epoch 68/100\n",
      "4490/4490 [==============================] - 4s 913us/step - loss: 0.2030 - accuracy: 0.9138\n",
      "Epoch 69/100\n",
      "4490/4490 [==============================] - 5s 1ms/step - loss: 0.2031 - accuracy: 0.9136\n",
      "Epoch 70/100\n",
      "4490/4490 [==============================] - 6s 1ms/step - loss: 0.2033 - accuracy: 0.9141\n",
      "Epoch 71/100\n",
      "4490/4490 [==============================] - 6s 1ms/step - loss: 0.2028 - accuracy: 0.9145\n",
      "Epoch 72/100\n",
      "4490/4490 [==============================] - 7s 1ms/step - loss: 0.2029 - accuracy: 0.9142\n",
      "Epoch 73/100\n",
      "4490/4490 [==============================] - 7s 2ms/step - loss: 0.2023 - accuracy: 0.9139\n",
      "Epoch 74/100\n",
      "4490/4490 [==============================] - 6s 1ms/step - loss: 0.2024 - accuracy: 0.9138\n",
      "Epoch 75/100\n",
      "4490/4490 [==============================] - 7s 2ms/step - loss: 0.2031 - accuracy: 0.9135\n",
      "Epoch 76/100\n",
      "4490/4490 [==============================] - 6s 1ms/step - loss: 0.2022 - accuracy: 0.9143\n",
      "Epoch 77/100\n",
      "4490/4490 [==============================] - 6s 1ms/step - loss: 0.2024 - accuracy: 0.9143\n",
      "Epoch 78/100\n",
      "4490/4490 [==============================] - 6s 1ms/step - loss: 0.2023 - accuracy: 0.9137\n",
      "Epoch 79/100\n",
      "4490/4490 [==============================] - 6s 1ms/step - loss: 0.2026 - accuracy: 0.9140\n",
      "Epoch 80/100\n",
      "4490/4490 [==============================] - 7s 1ms/step - loss: 0.2022 - accuracy: 0.9139\n",
      "Epoch 81/100\n",
      "4490/4490 [==============================] - 6s 1ms/step - loss: 0.2018 - accuracy: 0.9141\n",
      "Epoch 82/100\n",
      "4490/4490 [==============================] - 6s 1ms/step - loss: 0.2021 - accuracy: 0.9146\n",
      "Epoch 83/100\n",
      "4490/4490 [==============================] - 5s 1ms/step - loss: 0.2015 - accuracy: 0.9143\n",
      "Epoch 84/100\n",
      "4490/4490 [==============================] - 5s 1ms/step - loss: 0.2015 - accuracy: 0.9146\n",
      "Epoch 85/100\n",
      "4490/4490 [==============================] - 5s 1ms/step - loss: 0.2017 - accuracy: 0.9145\n",
      "Epoch 86/100\n",
      "4490/4490 [==============================] - 5s 1ms/step - loss: 0.2012 - accuracy: 0.9142\n",
      "Epoch 87/100\n",
      "4490/4490 [==============================] - 5s 1ms/step - loss: 0.2020 - accuracy: 0.9137\n",
      "Epoch 88/100\n",
      "4490/4490 [==============================] - 5s 1ms/step - loss: 0.2017 - accuracy: 0.9136\n",
      "Epoch 89/100\n",
      "4490/4490 [==============================] - 5s 1ms/step - loss: 0.2016 - accuracy: 0.9142\n",
      "Epoch 90/100\n",
      "4490/4490 [==============================] - 4s 977us/step - loss: 0.2013 - accuracy: 0.9141\n",
      "Epoch 91/100\n",
      "4490/4490 [==============================] - 4s 977us/step - loss: 0.2012 - accuracy: 0.9148\n",
      "Epoch 92/100\n",
      "4490/4490 [==============================] - 4s 986us/step - loss: 0.2012 - accuracy: 0.9148\n",
      "Epoch 93/100\n",
      "4490/4490 [==============================] - 4s 952us/step - loss: 0.2011 - accuracy: 0.9145\n",
      "Epoch 94/100\n",
      "4490/4490 [==============================] - 4s 982us/step - loss: 0.2014 - accuracy: 0.9144\n",
      "Epoch 95/100\n",
      "4490/4490 [==============================] - 4s 986us/step - loss: 0.2007 - accuracy: 0.9144\n",
      "Epoch 96/100\n",
      "4490/4490 [==============================] - 4s 951us/step - loss: 0.2008 - accuracy: 0.9150\n",
      "Epoch 97/100\n",
      "4490/4490 [==============================] - 4s 979us/step - loss: 0.2011 - accuracy: 0.9143\n",
      "Epoch 98/100\n",
      "4490/4490 [==============================] - 4s 964us/step - loss: 0.2006 - accuracy: 0.9143\n",
      "Epoch 99/100\n",
      "4490/4490 [==============================] - 4s 960us/step - loss: 0.2005 - accuracy: 0.9153\n",
      "Epoch 100/100\n",
      "4490/4490 [==============================] - 4s 972us/step - loss: 0.2006 - accuracy: 0.9149\n"
     ]
    }
   ],
   "source": [
    "\n",
    "tf.random.set_seed(42)\n",
    "\n",
    "\n",
    "\n",
    "model_2 = tf.keras.Sequential([\n",
    "  tf.keras.layers.Dense(14,activation = 'relu'),\n",
    "  tf.keras.layers.Dense(6,activation = 'relu'),\n",
    "  tf.keras.layers.Dense(6,activation = 'relu'),\n",
    "  tf.keras.layers.Dense(1,activation = 'sigmoid')                            \n",
    "])\n",
    "\n",
    "\n",
    "model_2.compile(loss = 'binary_crossentropy',\n",
    "                optimizer = tf.keras.optimizers.Adam(lr=0.001),\n",
    "                metrics = ['accuracy'])\n",
    "\n",
    "\n",
    "history_2 = model_2.fit(x_train7,y_train7,epochs = 100)"
   ]
  },
  {
   "cell_type": "code",
   "execution_count": 42,
   "metadata": {},
   "outputs": [
    {
     "name": "stdout",
     "output_type": "stream",
     "text": [
      "1497/1497 [==============================] - 1s 860us/step - loss: 0.2026 - accuracy: 0.9126\n"
     ]
    },
    {
     "data": {
      "text/plain": [
       "[0.20261864364147186, 0.9125895500183105]"
      ]
     },
     "execution_count": 42,
     "metadata": {},
     "output_type": "execute_result"
    }
   ],
   "source": [
    "model_2.evaluate(x_test7,y_test7)"
   ]
  },
  {
   "cell_type": "code",
   "execution_count": 43,
   "metadata": {},
   "outputs": [
    {
     "name": "stdout",
     "output_type": "stream",
     "text": [
      "4490/4490 [==============================] - 4s 811us/step\n",
      "1497/1497 [==============================] - 1s 834us/step\n",
      "              precision    recall  f1-score   support\n",
      "\n",
      "         0.0       0.89      0.92      0.90     61548\n",
      "         1.0       0.94      0.92      0.93     82116\n",
      "\n",
      "    accuracy                           0.92    143664\n",
      "   macro avg       0.91      0.92      0.92    143664\n",
      "weighted avg       0.92      0.92      0.92    143664\n",
      "\n",
      "              precision    recall  f1-score   support\n",
      "\n",
      "         0.0       0.89      0.91      0.90     20567\n",
      "         1.0       0.93      0.91      0.92     27322\n",
      "\n",
      "    accuracy                           0.91     47889\n",
      "   macro avg       0.91      0.91      0.91     47889\n",
      "weighted avg       0.91      0.91      0.91     47889\n",
      "\n"
     ]
    }
   ],
   "source": [
    "ypred_train10 = model_2.predict(x_train7)\n",
    "y_pred_test10 = model_2.predict(x_test7)\n",
    "\n",
    "y_pred_test10 = (y_pred_test10 > 0.5)\n",
    "ypred_train10 = (ypred_train10 > 0.5)\n",
    "\n",
    "print(classification_report(y_train7,ypred_train10))\n",
    "print(classification_report(y_test7,y_pred_test10))"
   ]
  },
  {
   "cell_type": "code",
   "execution_count": 44,
   "metadata": {},
   "outputs": [
    {
     "name": "stdout",
     "output_type": "stream",
     "text": [
      "1497/1497 [==============================] - 1s 837us/step\n"
     ]
    },
    {
     "data": {
      "image/png": "[encoded data removed]",
      "text/plain": [
       "<Figure size 640x480 with 1 Axes>"
      ]
     },
     "metadata": {},
     "output_type": "display_data"
    }
   ],
   "source": [
    "\n",
    "y_proba_test = model_2.predict(x_test7).flatten()\n",
    "\n",
    "fpr, tpr, thresholds = roc_curve(y_test7, y_proba_test)\n",
    "\n",
    "plt.plot(fpr, tpr, label='ROC Curve')\n",
    "plt.xlabel('False Positive Rate')\n",
    "plt.ylabel('True Positive Rate')\n",
    "plt.title('ROC Curve with AUC = {:.2f}'.format(roc_auc_score(y_test7, y_proba_test)))\n",
    "plt.legend(loc='lower right')\n",
    "plt.grid(True)\n",
    "plt.show()"
   ]
  },
  {
   "cell_type": "markdown",
   "metadata": {},
   "source": [
    "## inna proba "
   ]
  },
  {
   "cell_type": "code",
   "execution_count": 45,
   "metadata": {},
   "outputs": [
    {
     "name": "stderr",
     "output_type": "stream",
     "text": [
      "WARNING:absl:`lr` is deprecated in Keras optimizer, please use `learning_rate` or use the legacy optimizer, e.g.,tf.keras.optimizers.legacy.Adam.\n"
     ]
    },
    {
     "name": "stdout",
     "output_type": "stream",
     "text": [
      "Epoch 1/100\n",
      "4490/4490 [==============================] - 5s 1ms/step - loss: 0.3255 - accuracy: 0.8624\n",
      "Epoch 2/100\n",
      "4490/4490 [==============================] - 5s 1ms/step - loss: 0.2739 - accuracy: 0.8861\n",
      "Epoch 3/100\n",
      "4490/4490 [==============================] - 5s 1ms/step - loss: 0.2511 - accuracy: 0.8956\n",
      "Epoch 4/100\n",
      "4490/4490 [==============================] - 5s 1ms/step - loss: 0.2388 - accuracy: 0.9004\n",
      "Epoch 5/100\n",
      "4490/4490 [==============================] - 4s 981us/step - loss: 0.2328 - accuracy: 0.9030\n",
      "Epoch 6/100\n",
      "4490/4490 [==============================] - 4s 992us/step - loss: 0.2287 - accuracy: 0.9040\n",
      "Epoch 7/100\n",
      "4490/4490 [==============================] - 4s 962us/step - loss: 0.2258 - accuracy: 0.9046\n",
      "Epoch 8/100\n",
      "4490/4490 [==============================] - 4s 916us/step - loss: 0.2228 - accuracy: 0.9062\n",
      "Epoch 9/100\n",
      "4490/4490 [==============================] - 4s 949us/step - loss: 0.2207 - accuracy: 0.9068\n",
      "Epoch 10/100\n",
      "4490/4490 [==============================] - 4s 949us/step - loss: 0.2194 - accuracy: 0.9073\n",
      "Epoch 11/100\n",
      "4490/4490 [==============================] - 4s 939us/step - loss: 0.2172 - accuracy: 0.9080\n",
      "Epoch 12/100\n",
      "4490/4490 [==============================] - 4s 939us/step - loss: 0.2148 - accuracy: 0.9087\n",
      "Epoch 13/100\n",
      "4490/4490 [==============================] - 4s 949us/step - loss: 0.2138 - accuracy: 0.9096\n",
      "Epoch 14/100\n",
      "4490/4490 [==============================] - 4s 943us/step - loss: 0.2131 - accuracy: 0.9104\n",
      "Epoch 15/100\n",
      "4490/4490 [==============================] - 4s 944us/step - loss: 0.2116 - accuracy: 0.9101\n",
      "Epoch 16/100\n",
      "4490/4490 [==============================] - 5s 1ms/step - loss: 0.2106 - accuracy: 0.9103\n",
      "Epoch 17/100\n",
      "4490/4490 [==============================] - 5s 1ms/step - loss: 0.2102 - accuracy: 0.9111\n",
      "Epoch 18/100\n",
      "4490/4490 [==============================] - 5s 1ms/step - loss: 0.2096 - accuracy: 0.9114\n",
      "Epoch 19/100\n",
      "4490/4490 [==============================] - 5s 1ms/step - loss: 0.2081 - accuracy: 0.9118\n",
      "Epoch 20/100\n",
      "4490/4490 [==============================] - 4s 980us/step - loss: 0.2081 - accuracy: 0.9114\n",
      "Epoch 21/100\n",
      "4490/4490 [==============================] - 4s 963us/step - loss: 0.2077 - accuracy: 0.9115\n",
      "Epoch 22/100\n",
      "4490/4490 [==============================] - 4s 952us/step - loss: 0.2077 - accuracy: 0.9113\n",
      "Epoch 23/100\n",
      "4490/4490 [==============================] - 4s 960us/step - loss: 0.2077 - accuracy: 0.9120\n",
      "Epoch 24/100\n",
      "4490/4490 [==============================] - 4s 957us/step - loss: 0.2065 - accuracy: 0.9120\n",
      "Epoch 25/100\n",
      "4490/4490 [==============================] - 4s 955us/step - loss: 0.2058 - accuracy: 0.9124\n",
      "Epoch 26/100\n",
      "4490/4490 [==============================] - 4s 955us/step - loss: 0.2058 - accuracy: 0.9124\n",
      "Epoch 27/100\n",
      "4490/4490 [==============================] - 4s 934us/step - loss: 0.2062 - accuracy: 0.9126\n",
      "Epoch 28/100\n",
      "4490/4490 [==============================] - 4s 963us/step - loss: 0.2045 - accuracy: 0.9133\n",
      "Epoch 29/100\n",
      "4490/4490 [==============================] - 4s 968us/step - loss: 0.2047 - accuracy: 0.9130\n",
      "Epoch 30/100\n",
      "4490/4490 [==============================] - 4s 963us/step - loss: 0.2048 - accuracy: 0.9129\n",
      "Epoch 31/100\n",
      "4490/4490 [==============================] - 4s 947us/step - loss: 0.2052 - accuracy: 0.9130\n",
      "Epoch 32/100\n",
      "4490/4490 [==============================] - 4s 957us/step - loss: 0.2038 - accuracy: 0.9130\n",
      "Epoch 33/100\n",
      "4490/4490 [==============================] - 4s 948us/step - loss: 0.2042 - accuracy: 0.9132\n",
      "Epoch 34/100\n",
      "4490/4490 [==============================] - 4s 938us/step - loss: 0.2038 - accuracy: 0.9132\n",
      "Epoch 35/100\n",
      "4490/4490 [==============================] - 4s 955us/step - loss: 0.2036 - accuracy: 0.9133\n",
      "Epoch 36/100\n",
      "4490/4490 [==============================] - 4s 948us/step - loss: 0.2035 - accuracy: 0.9137\n",
      "Epoch 37/100\n",
      "4490/4490 [==============================] - 4s 952us/step - loss: 0.2033 - accuracy: 0.9135\n",
      "Epoch 38/100\n",
      "4490/4490 [==============================] - 4s 951us/step - loss: 0.2027 - accuracy: 0.9137\n",
      "Epoch 39/100\n",
      "4490/4490 [==============================] - 4s 935us/step - loss: 0.2030 - accuracy: 0.9140\n",
      "Epoch 40/100\n",
      "4490/4490 [==============================] - 4s 945us/step - loss: 0.2026 - accuracy: 0.9139\n",
      "Epoch 41/100\n",
      "4490/4490 [==============================] - 4s 961us/step - loss: 0.2022 - accuracy: 0.9140\n",
      "Epoch 42/100\n",
      "4490/4490 [==============================] - 4s 945us/step - loss: 0.2019 - accuracy: 0.9142\n",
      "Epoch 43/100\n",
      "4490/4490 [==============================] - 4s 952us/step - loss: 0.2017 - accuracy: 0.9136\n",
      "Epoch 44/100\n",
      "4490/4490 [==============================] - 4s 952us/step - loss: 0.2011 - accuracy: 0.9147\n",
      "Epoch 45/100\n",
      "4490/4490 [==============================] - 4s 952us/step - loss: 0.2012 - accuracy: 0.9144\n",
      "Epoch 46/100\n",
      "4490/4490 [==============================] - 4s 954us/step - loss: 0.2012 - accuracy: 0.9145\n",
      "Epoch 47/100\n",
      "4490/4490 [==============================] - 4s 936us/step - loss: 0.2005 - accuracy: 0.9148\n",
      "Epoch 48/100\n",
      "4490/4490 [==============================] - 4s 938us/step - loss: 0.2006 - accuracy: 0.9146\n",
      "Epoch 49/100\n",
      "4490/4490 [==============================] - 4s 938us/step - loss: 0.2013 - accuracy: 0.9147\n",
      "Epoch 50/100\n",
      "4490/4490 [==============================] - 4s 935us/step - loss: 0.2011 - accuracy: 0.9144\n",
      "Epoch 51/100\n",
      "4490/4490 [==============================] - 4s 923us/step - loss: 0.2005 - accuracy: 0.9150\n",
      "Epoch 52/100\n",
      "4490/4490 [==============================] - 4s 921us/step - loss: 0.1999 - accuracy: 0.9150\n",
      "Epoch 53/100\n",
      "4490/4490 [==============================] - 4s 934us/step - loss: 0.2006 - accuracy: 0.9147\n",
      "Epoch 54/100\n",
      "4490/4490 [==============================] - 4s 922us/step - loss: 0.2000 - accuracy: 0.9152\n",
      "Epoch 55/100\n",
      "4490/4490 [==============================] - 4s 935us/step - loss: 0.2000 - accuracy: 0.9152\n",
      "Epoch 56/100\n",
      "4490/4490 [==============================] - 4s 932us/step - loss: 0.1998 - accuracy: 0.9148\n",
      "Epoch 57/100\n",
      "4490/4490 [==============================] - 4s 956us/step - loss: 0.1997 - accuracy: 0.9155\n",
      "Epoch 58/100\n",
      "4490/4490 [==============================] - 4s 956us/step - loss: 0.1986 - accuracy: 0.9156\n",
      "Epoch 59/100\n",
      "4490/4490 [==============================] - 4s 936us/step - loss: 0.1993 - accuracy: 0.9151\n",
      "Epoch 60/100\n",
      "4490/4490 [==============================] - 4s 931us/step - loss: 0.1993 - accuracy: 0.9156\n",
      "Epoch 61/100\n",
      "4490/4490 [==============================] - 4s 956us/step - loss: 0.1989 - accuracy: 0.9150\n",
      "Epoch 62/100\n",
      "4490/4490 [==============================] - 4s 952us/step - loss: 0.1990 - accuracy: 0.9153\n",
      "Epoch 63/100\n",
      "4490/4490 [==============================] - 4s 934us/step - loss: 0.1993 - accuracy: 0.9153\n",
      "Epoch 64/100\n",
      "4490/4490 [==============================] - 4s 949us/step - loss: 0.1988 - accuracy: 0.9158\n",
      "Epoch 65/100\n",
      "4490/4490 [==============================] - 4s 916us/step - loss: 0.1990 - accuracy: 0.9156\n",
      "Epoch 66/100\n",
      "4490/4490 [==============================] - 4s 900us/step - loss: 0.1985 - accuracy: 0.9154\n",
      "Epoch 67/100\n",
      "4490/4490 [==============================] - 4s 912us/step - loss: 0.1978 - accuracy: 0.9160\n",
      "Epoch 68/100\n",
      "4490/4490 [==============================] - 4s 921us/step - loss: 0.1978 - accuracy: 0.9156\n",
      "Epoch 69/100\n",
      "4490/4490 [==============================] - 4s 932us/step - loss: 0.1983 - accuracy: 0.9157\n",
      "Epoch 70/100\n",
      "4490/4490 [==============================] - 4s 942us/step - loss: 0.1987 - accuracy: 0.9155\n",
      "Epoch 71/100\n",
      "4490/4490 [==============================] - 4s 937us/step - loss: 0.1981 - accuracy: 0.9162\n",
      "Epoch 72/100\n",
      "4490/4490 [==============================] - 4s 947us/step - loss: 0.1981 - accuracy: 0.9160\n",
      "Epoch 73/100\n",
      "4490/4490 [==============================] - 4s 943us/step - loss: 0.1978 - accuracy: 0.9165\n",
      "Epoch 74/100\n",
      "4490/4490 [==============================] - 4s 947us/step - loss: 0.1983 - accuracy: 0.9154\n",
      "Epoch 75/100\n",
      "4490/4490 [==============================] - 4s 961us/step - loss: 0.1980 - accuracy: 0.9160\n",
      "Epoch 76/100\n",
      "4490/4490 [==============================] - 4s 948us/step - loss: 0.1976 - accuracy: 0.9159\n",
      "Epoch 77/100\n",
      "4490/4490 [==============================] - 4s 947us/step - loss: 0.1975 - accuracy: 0.9162\n",
      "Epoch 78/100\n",
      "4490/4490 [==============================] - 4s 952us/step - loss: 0.1971 - accuracy: 0.9158\n",
      "Epoch 79/100\n",
      "4490/4490 [==============================] - 4s 938us/step - loss: 0.1976 - accuracy: 0.9161\n",
      "Epoch 80/100\n",
      "4490/4490 [==============================] - 4s 947us/step - loss: 0.1978 - accuracy: 0.9157\n",
      "Epoch 81/100\n",
      "4490/4490 [==============================] - 4s 934us/step - loss: 0.1975 - accuracy: 0.9161\n",
      "Epoch 82/100\n",
      "4490/4490 [==============================] - 4s 934us/step - loss: 0.1969 - accuracy: 0.9165\n",
      "Epoch 83/100\n",
      "4490/4490 [==============================] - 4s 949us/step - loss: 0.1969 - accuracy: 0.9162\n",
      "Epoch 84/100\n",
      "4490/4490 [==============================] - 4s 940us/step - loss: 0.1971 - accuracy: 0.9165\n",
      "Epoch 85/100\n",
      "4490/4490 [==============================] - 4s 941us/step - loss: 0.1970 - accuracy: 0.9163\n",
      "Epoch 86/100\n",
      "4490/4490 [==============================] - 4s 935us/step - loss: 0.1965 - accuracy: 0.9165\n",
      "Epoch 87/100\n",
      "4490/4490 [==============================] - 4s 939us/step - loss: 0.1975 - accuracy: 0.9161\n",
      "Epoch 88/100\n",
      "4490/4490 [==============================] - 4s 936us/step - loss: 0.1970 - accuracy: 0.9164\n",
      "Epoch 89/100\n",
      "4490/4490 [==============================] - 4s 921us/step - loss: 0.1962 - accuracy: 0.9166\n",
      "Epoch 90/100\n",
      "4490/4490 [==============================] - 4s 925us/step - loss: 0.1970 - accuracy: 0.9160\n",
      "Epoch 91/100\n",
      "4490/4490 [==============================] - 4s 934us/step - loss: 0.1959 - accuracy: 0.9173\n",
      "Epoch 92/100\n",
      "4490/4490 [==============================] - 4s 920us/step - loss: 0.1966 - accuracy: 0.9168\n",
      "Epoch 93/100\n",
      "4490/4490 [==============================] - 4s 912us/step - loss: 0.1961 - accuracy: 0.9166\n",
      "Epoch 94/100\n",
      "4490/4490 [==============================] - 4s 936us/step - loss: 0.1965 - accuracy: 0.9168\n",
      "Epoch 95/100\n",
      "4490/4490 [==============================] - 4s 951us/step - loss: 0.1958 - accuracy: 0.9170\n",
      "Epoch 96/100\n",
      "4490/4490 [==============================] - 4s 944us/step - loss: 0.1959 - accuracy: 0.9169\n",
      "Epoch 97/100\n",
      "4490/4490 [==============================] - 4s 934us/step - loss: 0.1964 - accuracy: 0.9168\n",
      "Epoch 98/100\n",
      "4490/4490 [==============================] - 4s 940us/step - loss: 0.1961 - accuracy: 0.9169\n",
      "Epoch 99/100\n",
      "4490/4490 [==============================] - 4s 934us/step - loss: 0.1957 - accuracy: 0.9164\n",
      "Epoch 100/100\n",
      "4490/4490 [==============================] - 4s 956us/step - loss: 0.1960 - accuracy: 0.9169\n"
     ]
    }
   ],
   "source": [
    "\n",
    "tf.random.set_seed(42)\n",
    "\n",
    "\n",
    "\n",
    "model_22 = tf.keras.Sequential([\n",
    "  tf.keras.layers.Dense(18,activation = 'relu'),\n",
    "  tf.keras.layers.Dense(36,activation = 'relu'),\n",
    "  tf.keras.layers.Dense(18,activation = 'relu'),\n",
    "  tf.keras.layers.Dense(9,activation = 'relu'),\n",
    "  tf.keras.layers.Dense(1,activation = 'sigmoid')                            \n",
    "])\n",
    "\n",
    "\n",
    "model_22.compile(loss = 'binary_crossentropy',\n",
    "                optimizer = tf.keras.optimizers.Adam(lr=0.001),\n",
    "                metrics = ['accuracy'])\n",
    "\n",
    "\n",
    "history_2 = model_22.fit(x_train7,y_train7,epochs = 100)"
   ]
  },
  {
   "cell_type": "code",
   "execution_count": 46,
   "metadata": {},
   "outputs": [
    {
     "name": "stdout",
     "output_type": "stream",
     "text": [
      "1497/1497 [==============================] - 1s 815us/step - loss: 0.1988 - accuracy: 0.9147\n"
     ]
    },
    {
     "data": {
      "text/plain": [
       "[0.19878937304019928, 0.9147194623947144]"
      ]
     },
     "execution_count": 46,
     "metadata": {},
     "output_type": "execute_result"
    }
   ],
   "source": [
    "model_22.evaluate(x_test7,y_test7)"
   ]
  },
  {
   "cell_type": "code",
   "execution_count": 47,
   "metadata": {},
   "outputs": [
    {
     "name": "stdout",
     "output_type": "stream",
     "text": [
      "4490/4490 [==============================] - 4s 780us/step\n",
      "1497/1497 [==============================] - 1s 780us/step\n",
      "              precision    recall  f1-score   support\n",
      "\n",
      "         0.0       0.89      0.92      0.91     61548\n",
      "         1.0       0.94      0.92      0.93     82116\n",
      "\n",
      "    accuracy                           0.92    143664\n",
      "   macro avg       0.92      0.92      0.92    143664\n",
      "weighted avg       0.92      0.92      0.92    143664\n",
      "\n",
      "              precision    recall  f1-score   support\n",
      "\n",
      "         0.0       0.89      0.91      0.90     20567\n",
      "         1.0       0.93      0.92      0.92     27322\n",
      "\n",
      "    accuracy                           0.91     47889\n",
      "   macro avg       0.91      0.91      0.91     47889\n",
      "weighted avg       0.92      0.91      0.91     47889\n",
      "\n"
     ]
    }
   ],
   "source": [
    "ypred_train22 = model_22.predict(x_train7)\n",
    "y_pred_test22 = model_22.predict(x_test7)\n",
    "\n",
    "y_pred_test22 = (y_pred_test22 > 0.5)\n",
    "ypred_train22 = (ypred_train22 > 0.5)\n",
    "\n",
    "print(classification_report(y_train7,ypred_train22))\n",
    "print(classification_report(y_test7,y_pred_test22))"
   ]
  },
  {
   "cell_type": "code",
   "execution_count": 48,
   "metadata": {},
   "outputs": [
    {
     "name": "stdout",
     "output_type": "stream",
     "text": [
      "1497/1497 [==============================] - 1s 781us/step\n"
     ]
    },
    {
     "data": {
      "image/png": "[encoded data removed]",
      "text/plain": [
       "<Figure size 640x480 with 1 Axes>"
      ]
     },
     "metadata": {},
     "output_type": "display_data"
    }
   ],
   "source": [
    "\n",
    "y_proba_test = model_22.predict(x_test7).flatten()\n",
    "\n",
    "fpr, tpr, thresholds = roc_curve(y_test7, y_proba_test)\n",
    "\n",
    "plt.plot(fpr, tpr, label='ROC Curve')\n",
    "plt.xlabel('False Positive Rate')\n",
    "plt.ylabel('True Positive Rate')\n",
    "plt.title('ROC Curve with AUC = {:.2f}'.format(roc_auc_score(y_test7, y_proba_test)))\n",
    "plt.legend(loc='lower right')\n",
    "plt.grid(True)\n",
    "plt.show()"
   ]
  },
  {
   "cell_type": "markdown",
   "metadata": {},
   "source": [
    "## inne próby sieci neuronowych "
   ]
  },
  {
   "cell_type": "code",
   "execution_count": 49,
   "metadata": {},
   "outputs": [],
   "source": [
    "model1 = Sequential()\n",
    "model1.add(Dense(units=30,activation='relu'))\n",
    "model1.add(Dropout(0.5))\n",
    "\n",
    "model1.add(Dense(units=15,activation='relu'))\n",
    "model1.add(Dropout(0.5))\n",
    "\n",
    "model1.add(Dense(units=1,activation='sigmoid'))\n",
    "model1.compile(loss='binary_crossentropy', optimizer='adam')"
   ]
  },
  {
   "cell_type": "code",
   "execution_count": 50,
   "metadata": {},
   "outputs": [
    {
     "name": "stdout",
     "output_type": "stream",
     "text": [
      "Epoch 1/100\n",
      "4490/4490 [==============================] - 6s 1ms/step - loss: 0.4314 - val_loss: 0.3328\n",
      "Epoch 2/100\n",
      "4490/4490 [==============================] - 5s 1ms/step - loss: 0.3748 - val_loss: 0.3213\n",
      "Epoch 3/100\n",
      "4490/4490 [==============================] - 5s 1ms/step - loss: 0.3624 - val_loss: 0.3146\n",
      "Epoch 4/100\n",
      "4490/4490 [==============================] - 5s 1ms/step - loss: 0.3572 - val_loss: 0.3066\n",
      "Epoch 5/100\n",
      "4490/4490 [==============================] - 5s 1ms/step - loss: 0.3529 - val_loss: 0.3039\n",
      "Epoch 6/100\n",
      "4490/4490 [==============================] - 5s 1ms/step - loss: 0.3514 - val_loss: 0.3015\n",
      "Epoch 7/100\n",
      "4490/4490 [==============================] - 5s 1ms/step - loss: 0.3498 - val_loss: 0.3017\n",
      "Epoch 8/100\n",
      "4490/4490 [==============================] - 5s 1ms/step - loss: 0.3487 - val_loss: 0.3015\n",
      "Epoch 9/100\n",
      "4490/4490 [==============================] - 5s 1ms/step - loss: 0.3462 - val_loss: 0.2990\n",
      "Epoch 10/100\n",
      "4490/4490 [==============================] - 5s 1ms/step - loss: 0.3450 - val_loss: 0.2975\n",
      "Epoch 11/100\n",
      "4490/4490 [==============================] - 5s 1ms/step - loss: 0.3467 - val_loss: 0.2982\n",
      "Epoch 12/100\n",
      "4490/4490 [==============================] - 5s 1ms/step - loss: 0.3450 - val_loss: 0.3003\n",
      "Epoch 13/100\n",
      "4490/4490 [==============================] - 5s 1ms/step - loss: 0.3455 - val_loss: 0.2965\n",
      "Epoch 14/100\n",
      "4490/4490 [==============================] - 5s 1ms/step - loss: 0.3438 - val_loss: 0.2959\n",
      "Epoch 15/100\n",
      "4490/4490 [==============================] - 5s 1ms/step - loss: 0.3439 - val_loss: 0.2928\n",
      "Epoch 16/100\n",
      "4490/4490 [==============================] - 5s 1ms/step - loss: 0.3449 - val_loss: 0.2953\n",
      "Epoch 17/100\n",
      "4490/4490 [==============================] - 5s 1ms/step - loss: 0.3418 - val_loss: 0.2928\n",
      "Epoch 18/100\n",
      "4490/4490 [==============================] - 5s 1ms/step - loss: 0.3426 - val_loss: 0.2939\n",
      "Epoch 19/100\n",
      "4490/4490 [==============================] - 5s 1ms/step - loss: 0.3425 - val_loss: 0.2925\n",
      "Epoch 20/100\n",
      "4490/4490 [==============================] - 5s 1ms/step - loss: 0.3428 - val_loss: 0.2938\n",
      "Epoch 21/100\n",
      "4490/4490 [==============================] - 5s 1ms/step - loss: 0.3427 - val_loss: 0.2935\n",
      "Epoch 22/100\n",
      "4490/4490 [==============================] - 5s 1ms/step - loss: 0.3420 - val_loss: 0.2916\n",
      "Epoch 23/100\n",
      "4490/4490 [==============================] - 5s 1ms/step - loss: 0.3417 - val_loss: 0.2957\n",
      "Epoch 24/100\n",
      "4490/4490 [==============================] - 5s 1ms/step - loss: 0.3431 - val_loss: 0.2936\n",
      "Epoch 25/100\n",
      "4490/4490 [==============================] - 5s 1ms/step - loss: 0.3420 - val_loss: 0.2943\n",
      "Epoch 26/100\n",
      "4490/4490 [==============================] - 5s 1ms/step - loss: 0.3403 - val_loss: 0.2893\n",
      "Epoch 27/100\n",
      "4490/4490 [==============================] - 5s 1ms/step - loss: 0.3417 - val_loss: 0.2920\n",
      "Epoch 28/100\n",
      "4490/4490 [==============================] - 5s 1ms/step - loss: 0.3410 - val_loss: 0.2911\n",
      "Epoch 29/100\n",
      "4490/4490 [==============================] - 5s 1ms/step - loss: 0.3412 - val_loss: 0.2912\n",
      "Epoch 30/100\n",
      "4490/4490 [==============================] - 5s 1ms/step - loss: 0.3421 - val_loss: 0.2948\n",
      "Epoch 31/100\n",
      "4490/4490 [==============================] - 5s 1ms/step - loss: 0.3400 - val_loss: 0.2904\n",
      "Epoch 32/100\n",
      "4490/4490 [==============================] - 5s 1ms/step - loss: 0.3385 - val_loss: 0.2885\n",
      "Epoch 33/100\n",
      "4490/4490 [==============================] - 5s 1ms/step - loss: 0.3392 - val_loss: 0.2899\n",
      "Epoch 34/100\n",
      "4490/4490 [==============================] - 5s 1ms/step - loss: 0.3404 - val_loss: 0.2904\n",
      "Epoch 35/100\n",
      "4490/4490 [==============================] - 5s 1ms/step - loss: 0.3410 - val_loss: 0.2902\n",
      "Epoch 36/100\n",
      "4490/4490 [==============================] - 5s 1ms/step - loss: 0.3400 - val_loss: 0.2880\n",
      "Epoch 37/100\n",
      "4490/4490 [==============================] - 5s 1ms/step - loss: 0.3403 - val_loss: 0.2920\n",
      "Epoch 38/100\n",
      "4490/4490 [==============================] - 5s 1ms/step - loss: 0.3396 - val_loss: 0.2927\n",
      "Epoch 39/100\n",
      "4490/4490 [==============================] - 5s 1ms/step - loss: 0.3389 - val_loss: 0.2904\n",
      "Epoch 40/100\n",
      "4490/4490 [==============================] - 5s 1ms/step - loss: 0.3390 - val_loss: 0.2892\n",
      "Epoch 41/100\n",
      "4490/4490 [==============================] - 5s 1ms/step - loss: 0.3389 - val_loss: 0.2878\n",
      "Epoch 42/100\n",
      "4490/4490 [==============================] - 5s 1ms/step - loss: 0.3398 - val_loss: 0.2900\n",
      "Epoch 43/100\n",
      "4490/4490 [==============================] - 5s 1ms/step - loss: 0.3385 - val_loss: 0.2892\n",
      "Epoch 44/100\n",
      "4490/4490 [==============================] - 5s 1ms/step - loss: 0.3389 - val_loss: 0.2898\n",
      "Epoch 45/100\n",
      "4490/4490 [==============================] - 5s 1ms/step - loss: 0.3398 - val_loss: 0.2914\n",
      "Epoch 46/100\n",
      "4490/4490 [==============================] - 5s 1ms/step - loss: 0.3391 - val_loss: 0.2887\n",
      "Epoch 47/100\n",
      "4490/4490 [==============================] - 5s 1ms/step - loss: 0.3382 - val_loss: 0.2890\n",
      "Epoch 48/100\n",
      "4490/4490 [==============================] - 5s 1ms/step - loss: 0.3386 - val_loss: 0.2910\n",
      "Epoch 49/100\n",
      "4490/4490 [==============================] - 5s 1ms/step - loss: 0.3384 - val_loss: 0.2884\n",
      "Epoch 50/100\n",
      "4490/4490 [==============================] - 5s 1ms/step - loss: 0.3379 - val_loss: 0.2894\n",
      "Epoch 51/100\n",
      "4490/4490 [==============================] - 5s 1ms/step - loss: 0.3378 - val_loss: 0.2875\n",
      "Epoch 52/100\n",
      "4490/4490 [==============================] - 5s 1ms/step - loss: 0.3388 - val_loss: 0.2891\n",
      "Epoch 53/100\n",
      "4490/4490 [==============================] - 5s 1ms/step - loss: 0.3378 - val_loss: 0.2886\n",
      "Epoch 54/100\n",
      "4490/4490 [==============================] - 5s 1ms/step - loss: 0.3391 - val_loss: 0.2901\n",
      "Epoch 55/100\n",
      "4490/4490 [==============================] - 5s 1ms/step - loss: 0.3390 - val_loss: 0.2920\n",
      "Epoch 56/100\n",
      "4490/4490 [==============================] - 5s 1ms/step - loss: 0.3383 - val_loss: 0.2876\n",
      "Epoch 57/100\n",
      "4490/4490 [==============================] - 5s 1ms/step - loss: 0.3387 - val_loss: 0.2892\n",
      "Epoch 58/100\n",
      "4490/4490 [==============================] - 5s 1ms/step - loss: 0.3376 - val_loss: 0.2867\n",
      "Epoch 59/100\n",
      "4490/4490 [==============================] - 5s 1ms/step - loss: 0.3386 - val_loss: 0.2880\n",
      "Epoch 60/100\n",
      "4490/4490 [==============================] - 5s 1ms/step - loss: 0.3378 - val_loss: 0.2871\n",
      "Epoch 61/100\n",
      "4490/4490 [==============================] - 5s 1ms/step - loss: 0.3380 - val_loss: 0.2888\n",
      "Epoch 62/100\n",
      "4490/4490 [==============================] - 5s 1ms/step - loss: 0.3379 - val_loss: 0.2908\n",
      "Epoch 63/100\n",
      "4490/4490 [==============================] - 5s 1ms/step - loss: 0.3381 - val_loss: 0.2887\n",
      "Epoch 64/100\n",
      "4490/4490 [==============================] - 5s 1ms/step - loss: 0.3378 - val_loss: 0.2883\n",
      "Epoch 65/100\n",
      "4490/4490 [==============================] - 5s 1ms/step - loss: 0.3386 - val_loss: 0.2890\n",
      "Epoch 66/100\n",
      "4490/4490 [==============================] - 5s 1ms/step - loss: 0.3370 - val_loss: 0.2893\n",
      "Epoch 67/100\n",
      "4490/4490 [==============================] - 5s 1ms/step - loss: 0.3385 - val_loss: 0.2911\n",
      "Epoch 68/100\n",
      "4490/4490 [==============================] - 5s 1ms/step - loss: 0.3370 - val_loss: 0.2868\n",
      "Epoch 69/100\n",
      "4490/4490 [==============================] - 5s 1ms/step - loss: 0.3397 - val_loss: 0.2875\n",
      "Epoch 70/100\n",
      "4490/4490 [==============================] - 5s 1ms/step - loss: 0.3378 - val_loss: 0.2877\n",
      "Epoch 71/100\n",
      "4490/4490 [==============================] - 5s 1ms/step - loss: 0.3383 - val_loss: 0.2898\n",
      "Epoch 72/100\n",
      "4490/4490 [==============================] - 5s 1ms/step - loss: 0.3373 - val_loss: 0.2862\n",
      "Epoch 73/100\n",
      "4490/4490 [==============================] - 5s 1ms/step - loss: 0.3363 - val_loss: 0.2914\n",
      "Epoch 74/100\n",
      "4490/4490 [==============================] - 5s 1ms/step - loss: 0.3363 - val_loss: 0.2869\n",
      "Epoch 75/100\n",
      "4490/4490 [==============================] - 5s 1ms/step - loss: 0.3387 - val_loss: 0.2888\n",
      "Epoch 76/100\n",
      "4490/4490 [==============================] - 5s 1ms/step - loss: 0.3377 - val_loss: 0.2907\n",
      "Epoch 77/100\n",
      "4490/4490 [==============================] - 5s 1ms/step - loss: 0.3368 - val_loss: 0.2875\n",
      "Epoch 78/100\n",
      "4490/4490 [==============================] - 5s 1ms/step - loss: 0.3383 - val_loss: 0.2873\n",
      "Epoch 79/100\n",
      "4490/4490 [==============================] - 5s 1ms/step - loss: 0.3378 - val_loss: 0.2878\n",
      "Epoch 80/100\n",
      "4490/4490 [==============================] - 5s 1ms/step - loss: 0.3376 - val_loss: 0.2889\n",
      "Epoch 81/100\n",
      "4490/4490 [==============================] - 5s 1ms/step - loss: 0.3369 - val_loss: 0.2905\n",
      "Epoch 82/100\n",
      "4490/4490 [==============================] - 5s 1ms/step - loss: 0.3381 - val_loss: 0.2876\n",
      "Epoch 83/100\n",
      "4490/4490 [==============================] - 5s 1ms/step - loss: 0.3391 - val_loss: 0.2892\n",
      "Epoch 84/100\n",
      "4490/4490 [==============================] - 5s 1ms/step - loss: 0.3376 - val_loss: 0.2879\n",
      "Epoch 85/100\n",
      "4490/4490 [==============================] - 5s 1ms/step - loss: 0.3372 - val_loss: 0.2867\n",
      "Epoch 86/100\n",
      "4490/4490 [==============================] - 5s 1ms/step - loss: 0.3371 - val_loss: 0.2871\n",
      "Epoch 87/100\n",
      "4490/4490 [==============================] - 5s 1ms/step - loss: 0.3392 - val_loss: 0.2870\n",
      "Epoch 88/100\n",
      "4490/4490 [==============================] - 5s 1ms/step - loss: 0.3369 - val_loss: 0.2876\n",
      "Epoch 89/100\n",
      "4490/4490 [==============================] - 5s 1ms/step - loss: 0.3372 - val_loss: 0.2876\n",
      "Epoch 90/100\n",
      "4490/4490 [==============================] - 5s 1ms/step - loss: 0.3366 - val_loss: 0.2869\n",
      "Epoch 91/100\n",
      "4490/4490 [==============================] - 5s 1ms/step - loss: 0.3372 - val_loss: 0.2866\n",
      "Epoch 92/100\n",
      "4490/4490 [==============================] - 5s 1ms/step - loss: 0.3365 - val_loss: 0.2872\n",
      "Epoch 93/100\n",
      "4490/4490 [==============================] - 5s 1ms/step - loss: 0.3381 - val_loss: 0.2881\n",
      "Epoch 94/100\n",
      "4490/4490 [==============================] - 5s 1ms/step - loss: 0.3365 - val_loss: 0.2873\n",
      "Epoch 95/100\n",
      "4490/4490 [==============================] - 5s 1ms/step - loss: 0.3385 - val_loss: 0.2864\n",
      "Epoch 96/100\n",
      "4490/4490 [==============================] - 5s 1ms/step - loss: 0.3385 - val_loss: 0.2886\n",
      "Epoch 97/100\n",
      "4490/4490 [==============================] - 5s 1ms/step - loss: 0.3377 - val_loss: 0.2856\n",
      "Epoch 98/100\n",
      "4490/4490 [==============================] - 5s 1ms/step - loss: 0.3371 - val_loss: 0.2888\n",
      "Epoch 99/100\n",
      "4490/4490 [==============================] - 5s 1ms/step - loss: 0.3371 - val_loss: 0.2880\n",
      "Epoch 100/100\n",
      "4490/4490 [==============================] - 5s 1ms/step - loss: 0.3366 - val_loss: 0.2869\n"
     ]
    },
    {
     "data": {
      "text/plain": [
       "<keras.src.callbacks.History at 0x1ff46e229d0>"
      ]
     },
     "execution_count": 50,
     "metadata": {},
     "output_type": "execute_result"
    }
   ],
   "source": [
    "model1.fit(x=x_train7, \n",
    "          y=y_train7, \n",
    "          epochs=100,\n",
    "          validation_data=(x_test7, y_test7), verbose=1,\n",
    "          callbacks=[early_stop]\n",
    "          )"
   ]
  },
  {
   "cell_type": "code",
   "execution_count": 51,
   "metadata": {},
   "outputs": [
    {
     "name": "stdout",
     "output_type": "stream",
     "text": [
      "1497/1497 [==============================] - 1s 783us/step\n",
      "4490/4490 [==============================] - 3s 750us/step\n",
      "1497/1497 [==============================] - 1s 763us/step\n",
      "Training Results\n",
      "\n",
      "              precision    recall  f1-score   support\n",
      "\n",
      "         0.0       0.88      0.84      0.86     61548\n",
      "         1.0       0.88      0.91      0.90     82116\n",
      "\n",
      "    accuracy                           0.88    143664\n",
      "   macro avg       0.88      0.88      0.88    143664\n",
      "weighted avg       0.88      0.88      0.88    143664\n",
      "\n",
      "Testing Results\n",
      "\n",
      "              precision    recall  f1-score   support\n",
      "\n",
      "         0.0       0.88      0.84      0.86     20567\n",
      "         1.0       0.88      0.91      0.90     27322\n",
      "\n",
      "    accuracy                           0.88     47889\n",
      "   macro avg       0.88      0.88      0.88     47889\n",
      "weighted avg       0.88      0.88      0.88     47889\n",
      "\n"
     ]
    }
   ],
   "source": [
    "\n",
    "predictions = model1.predict(x_test7)\n",
    "\n",
    "ypred_train11 = model1.predict(x_train7)\n",
    "y_pred_test11 = model1.predict(x_test7)\n",
    "\n",
    "y_pred_test11 = (y_pred_test11 > 0.5)\n",
    "ypred_train11 = (ypred_train11 > 0.5)\n",
    "\n",
    "\n",
    "print(\"Training Results\\n\")\n",
    "print(classification_report(y_train7,ypred_train11))\n",
    "print(\"Testing Results\\n\")\n",
    "print(classification_report(y_test7,y_pred_test11))"
   ]
  },
  {
   "cell_type": "code",
   "execution_count": 52,
   "metadata": {},
   "outputs": [
    {
     "name": "stdout",
     "output_type": "stream",
     "text": [
      "1497/1497 [==============================] - 1s 758us/step\n"
     ]
    },
    {
     "data": {
      "image/png": "[encoded data removed]",
      "text/plain": [
       "<Figure size 640x480 with 1 Axes>"
      ]
     },
     "metadata": {},
     "output_type": "display_data"
    }
   ],
   "source": [
    "\n",
    "y_proba_test = model1.predict(x_test7).flatten()\n",
    "\n",
    "fpr, tpr, thresholds = roc_curve(y_test7, y_proba_test)\n",
    "\n",
    "plt.plot(fpr, tpr, label='ROC Curve')\n",
    "plt.xlabel('False Positive Rate')\n",
    "plt.ylabel('True Positive Rate')\n",
    "plt.title('ROC Curve with AUC = {:.2f}'.format(roc_auc_score(y_test7, y_proba_test)))\n",
    "plt.legend(loc='lower right')\n",
    "plt.grid(True)\n",
    "plt.show()"
   ]
  },
  {
   "cell_type": "markdown",
   "metadata": {},
   "source": [
    "## inny model"
   ]
  },
  {
   "cell_type": "code",
   "execution_count": 53,
   "metadata": {},
   "outputs": [],
   "source": [
    "model2 = Sequential()\n",
    "\n",
    "\n",
    "model2.add(Dense(14,  activation='relu'))\n",
    "model2.add(Dropout(0.2))\n",
    "\n",
    "model2.add(Dense(10, activation='relu'))\n",
    "model2.add(Dropout(0.2))\n",
    "\n",
    "model2.add(Dense(units=1,activation='sigmoid'))\n",
    "\n",
    "model2.compile(loss='binary_crossentropy', optimizer='adam')"
   ]
  },
  {
   "cell_type": "code",
   "execution_count": 54,
   "metadata": {},
   "outputs": [
    {
     "name": "stdout",
     "output_type": "stream",
     "text": [
      "Epoch 1/100\n",
      "4490/4490 [==============================] - 6s 1ms/step - loss: 0.4168 - val_loss: 0.3417\n",
      "Epoch 2/100\n",
      "4490/4490 [==============================] - 5s 1ms/step - loss: 0.3604 - val_loss: 0.3257\n",
      "Epoch 3/100\n",
      "4490/4490 [==============================] - 5s 1ms/step - loss: 0.3495 - val_loss: 0.3206\n",
      "Epoch 4/100\n",
      "4490/4490 [==============================] - 5s 1ms/step - loss: 0.3452 - val_loss: 0.3174\n",
      "Epoch 5/100\n",
      "4490/4490 [==============================] - 5s 1ms/step - loss: 0.3416 - val_loss: 0.3135\n",
      "Epoch 6/100\n",
      "4490/4490 [==============================] - 5s 1ms/step - loss: 0.3418 - val_loss: 0.3118\n",
      "Epoch 7/100\n",
      "4490/4490 [==============================] - 5s 1ms/step - loss: 0.3389 - val_loss: 0.3090\n",
      "Epoch 8/100\n",
      "4490/4490 [==============================] - 5s 1ms/step - loss: 0.3364 - val_loss: 0.3077\n",
      "Epoch 9/100\n",
      "4490/4490 [==============================] - 5s 1ms/step - loss: 0.3344 - val_loss: 0.3046\n",
      "Epoch 10/100\n",
      "4490/4490 [==============================] - 5s 1ms/step - loss: 0.3346 - val_loss: 0.3066\n",
      "Epoch 11/100\n",
      "4490/4490 [==============================] - 5s 1ms/step - loss: 0.3322 - val_loss: 0.3062\n",
      "Epoch 12/100\n",
      "4490/4490 [==============================] - 5s 1ms/step - loss: 0.3314 - val_loss: 0.3030\n",
      "Epoch 13/100\n",
      "4490/4490 [==============================] - 5s 1ms/step - loss: 0.3312 - val_loss: 0.3005\n",
      "Epoch 14/100\n",
      "4490/4490 [==============================] - 5s 1ms/step - loss: 0.3307 - val_loss: 0.3006\n",
      "Epoch 15/100\n",
      "4490/4490 [==============================] - 5s 1ms/step - loss: 0.3294 - val_loss: 0.3005\n",
      "Epoch 16/100\n",
      "4490/4490 [==============================] - 5s 1ms/step - loss: 0.3281 - val_loss: 0.2994\n",
      "Epoch 17/100\n",
      "4490/4490 [==============================] - 5s 1ms/step - loss: 0.3284 - val_loss: 0.3000\n",
      "Epoch 18/100\n",
      "4490/4490 [==============================] - 5s 1ms/step - loss: 0.3280 - val_loss: 0.2995\n",
      "Epoch 19/100\n",
      "4490/4490 [==============================] - 5s 1ms/step - loss: 0.3275 - val_loss: 0.2978\n",
      "Epoch 20/100\n",
      "4490/4490 [==============================] - 5s 1ms/step - loss: 0.3275 - val_loss: 0.2974\n",
      "Epoch 21/100\n",
      "4490/4490 [==============================] - 5s 1ms/step - loss: 0.3266 - val_loss: 0.3015\n",
      "Epoch 22/100\n",
      "4490/4490 [==============================] - 5s 1ms/step - loss: 0.3284 - val_loss: 0.2989\n",
      "Epoch 23/100\n",
      "4490/4490 [==============================] - 5s 1ms/step - loss: 0.3266 - val_loss: 0.2995\n",
      "Epoch 24/100\n",
      "4490/4490 [==============================] - 5s 1ms/step - loss: 0.3266 - val_loss: 0.2967\n",
      "Epoch 25/100\n",
      "4490/4490 [==============================] - 5s 1ms/step - loss: 0.3259 - val_loss: 0.3014\n",
      "Epoch 26/100\n",
      "4490/4490 [==============================] - 5s 1ms/step - loss: 0.3262 - val_loss: 0.2996\n",
      "Epoch 27/100\n",
      "4490/4490 [==============================] - 5s 1ms/step - loss: 0.3268 - val_loss: 0.2986\n",
      "Epoch 28/100\n",
      "4490/4490 [==============================] - 5s 1ms/step - loss: 0.3259 - val_loss: 0.3033\n",
      "Epoch 29/100\n",
      "4490/4490 [==============================] - 5s 1ms/step - loss: 0.3256 - val_loss: 0.2994\n",
      "Epoch 30/100\n",
      "4490/4490 [==============================] - 5s 1ms/step - loss: 0.3263 - val_loss: 0.2992\n",
      "Epoch 31/100\n",
      "4490/4490 [==============================] - 5s 1ms/step - loss: 0.3263 - val_loss: 0.2964\n",
      "Epoch 32/100\n",
      "4490/4490 [==============================] - 5s 1ms/step - loss: 0.3265 - val_loss: 0.2982\n",
      "Epoch 33/100\n",
      "4490/4490 [==============================] - 5s 1ms/step - loss: 0.3258 - val_loss: 0.2952\n",
      "Epoch 34/100\n",
      "4490/4490 [==============================] - 5s 1ms/step - loss: 0.3264 - val_loss: 0.2965\n",
      "Epoch 35/100\n",
      "4490/4490 [==============================] - 5s 1ms/step - loss: 0.3257 - val_loss: 0.2986\n",
      "Epoch 36/100\n",
      "4490/4490 [==============================] - 5s 1ms/step - loss: 0.3249 - val_loss: 0.2947\n",
      "Epoch 37/100\n",
      "4490/4490 [==============================] - 5s 1ms/step - loss: 0.3258 - val_loss: 0.3009\n",
      "Epoch 38/100\n",
      "4490/4490 [==============================] - 6s 1ms/step - loss: 0.3262 - val_loss: 0.2977\n",
      "Epoch 39/100\n",
      "4490/4490 [==============================] - 7s 1ms/step - loss: 0.3261 - val_loss: 0.2973\n",
      "Epoch 40/100\n",
      "4490/4490 [==============================] - 5s 1ms/step - loss: 0.3240 - val_loss: 0.2988\n",
      "Epoch 41/100\n",
      "4490/4490 [==============================] - 5s 1ms/step - loss: 0.3265 - val_loss: 0.2947\n",
      "Epoch 42/100\n",
      "4490/4490 [==============================] - 5s 1ms/step - loss: 0.3244 - val_loss: 0.2945\n",
      "Epoch 43/100\n",
      "4490/4490 [==============================] - 5s 1ms/step - loss: 0.3243 - val_loss: 0.2946\n",
      "Epoch 44/100\n",
      "4490/4490 [==============================] - 5s 1ms/step - loss: 0.3258 - val_loss: 0.2943\n",
      "Epoch 45/100\n",
      "4490/4490 [==============================] - 5s 1ms/step - loss: 0.3246 - val_loss: 0.2962\n",
      "Epoch 46/100\n",
      "4490/4490 [==============================] - 6s 1ms/step - loss: 0.3245 - val_loss: 0.2977\n",
      "Epoch 47/100\n",
      "4490/4490 [==============================] - 5s 1ms/step - loss: 0.3248 - val_loss: 0.2942\n",
      "Epoch 48/100\n",
      "4490/4490 [==============================] - 6s 1ms/step - loss: 0.3233 - val_loss: 0.2994\n",
      "Epoch 49/100\n",
      "4490/4490 [==============================] - 5s 1ms/step - loss: 0.3244 - val_loss: 0.2952\n",
      "Epoch 50/100\n",
      "4490/4490 [==============================] - 5s 1ms/step - loss: 0.3250 - val_loss: 0.2979\n",
      "Epoch 51/100\n",
      "4490/4490 [==============================] - 5s 1ms/step - loss: 0.3250 - val_loss: 0.2995\n",
      "Epoch 52/100\n",
      "4490/4490 [==============================] - 5s 1ms/step - loss: 0.3239 - val_loss: 0.2965\n",
      "Epoch 53/100\n",
      "4490/4490 [==============================] - 5s 1ms/step - loss: 0.3243 - val_loss: 0.2958\n",
      "Epoch 54/100\n",
      "4490/4490 [==============================] - 5s 1ms/step - loss: 0.3244 - val_loss: 0.2974\n",
      "Epoch 55/100\n",
      "4490/4490 [==============================] - 5s 1ms/step - loss: 0.3248 - val_loss: 0.2933\n",
      "Epoch 56/100\n",
      "4490/4490 [==============================] - 5s 1ms/step - loss: 0.3233 - val_loss: 0.2946\n",
      "Epoch 57/100\n",
      "4490/4490 [==============================] - 5s 1ms/step - loss: 0.3237 - val_loss: 0.2967\n",
      "Epoch 58/100\n",
      "4490/4490 [==============================] - 5s 1ms/step - loss: 0.3236 - val_loss: 0.2951\n",
      "Epoch 59/100\n",
      "4490/4490 [==============================] - 5s 1ms/step - loss: 0.3253 - val_loss: 0.2963\n",
      "Epoch 60/100\n",
      "4490/4490 [==============================] - 5s 1ms/step - loss: 0.3246 - val_loss: 0.2952\n",
      "Epoch 61/100\n",
      "4490/4490 [==============================] - 5s 1ms/step - loss: 0.3239 - val_loss: 0.2969\n",
      "Epoch 62/100\n",
      "4490/4490 [==============================] - 5s 1ms/step - loss: 0.3230 - val_loss: 0.2997\n",
      "Epoch 63/100\n",
      "4490/4490 [==============================] - 5s 1ms/step - loss: 0.3238 - val_loss: 0.2993\n",
      "Epoch 64/100\n",
      "4490/4490 [==============================] - 5s 1ms/step - loss: 0.3238 - val_loss: 0.2962\n",
      "Epoch 65/100\n",
      "4490/4490 [==============================] - 5s 1ms/step - loss: 0.3226 - val_loss: 0.2958\n",
      "Epoch 66/100\n",
      "4490/4490 [==============================] - 5s 1ms/step - loss: 0.3243 - val_loss: 0.2961\n",
      "Epoch 67/100\n",
      "4490/4490 [==============================] - 6s 1ms/step - loss: 0.3234 - val_loss: 0.2961\n",
      "Epoch 68/100\n",
      "4490/4490 [==============================] - 5s 1ms/step - loss: 0.3238 - val_loss: 0.2964\n",
      "Epoch 69/100\n",
      "4490/4490 [==============================] - 5s 1ms/step - loss: 0.3242 - val_loss: 0.2963\n",
      "Epoch 70/100\n",
      "4490/4490 [==============================] - 5s 1ms/step - loss: 0.3241 - val_loss: 0.2951\n",
      "Epoch 71/100\n",
      "4490/4490 [==============================] - 5s 1ms/step - loss: 0.3233 - val_loss: 0.2951\n",
      "Epoch 72/100\n",
      "4490/4490 [==============================] - 5s 1ms/step - loss: 0.3245 - val_loss: 0.2981\n",
      "Epoch 73/100\n",
      "4490/4490 [==============================] - 5s 1ms/step - loss: 0.3236 - val_loss: 0.2946\n",
      "Epoch 74/100\n",
      "4490/4490 [==============================] - 5s 1ms/step - loss: 0.3242 - val_loss: 0.2954\n",
      "Epoch 75/100\n",
      "4490/4490 [==============================] - 5s 1ms/step - loss: 0.3240 - val_loss: 0.2962\n",
      "Epoch 76/100\n",
      "4490/4490 [==============================] - 5s 1ms/step - loss: 0.3242 - val_loss: 0.2961\n",
      "Epoch 77/100\n",
      "4490/4490 [==============================] - 5s 1ms/step - loss: 0.3240 - val_loss: 0.2982\n",
      "Epoch 78/100\n",
      "4490/4490 [==============================] - 5s 1ms/step - loss: 0.3239 - val_loss: 0.2954\n",
      "Epoch 79/100\n",
      "4490/4490 [==============================] - 5s 1ms/step - loss: 0.3248 - val_loss: 0.2931\n",
      "Epoch 80/100\n",
      "4490/4490 [==============================] - 5s 1ms/step - loss: 0.3220 - val_loss: 0.2937\n",
      "Epoch 81/100\n",
      "4490/4490 [==============================] - 5s 1ms/step - loss: 0.3230 - val_loss: 0.2959\n",
      "Epoch 82/100\n",
      "4490/4490 [==============================] - 5s 1ms/step - loss: 0.3234 - val_loss: 0.2938\n",
      "Epoch 83/100\n",
      "4490/4490 [==============================] - 5s 1ms/step - loss: 0.3240 - val_loss: 0.2931\n",
      "Epoch 84/100\n",
      "4490/4490 [==============================] - 5s 1ms/step - loss: 0.3239 - val_loss: 0.2934\n",
      "Epoch 85/100\n",
      "4490/4490 [==============================] - 5s 1ms/step - loss: 0.3239 - val_loss: 0.2946\n",
      "Epoch 86/100\n",
      "4490/4490 [==============================] - 5s 1ms/step - loss: 0.3239 - val_loss: 0.2968\n",
      "Epoch 87/100\n",
      "4490/4490 [==============================] - 5s 1ms/step - loss: 0.3245 - val_loss: 0.2927\n",
      "Epoch 88/100\n",
      "4490/4490 [==============================] - 5s 1ms/step - loss: 0.3243 - val_loss: 0.2974\n",
      "Epoch 89/100\n",
      "4490/4490 [==============================] - 5s 1ms/step - loss: 0.3231 - val_loss: 0.2932\n",
      "Epoch 90/100\n",
      "4490/4490 [==============================] - 5s 1ms/step - loss: 0.3238 - val_loss: 0.2961\n",
      "Epoch 91/100\n",
      "4490/4490 [==============================] - 5s 1ms/step - loss: 0.3237 - val_loss: 0.2939\n",
      "Epoch 92/100\n",
      "4490/4490 [==============================] - 5s 1ms/step - loss: 0.3235 - val_loss: 0.2927\n",
      "Epoch 93/100\n",
      "4490/4490 [==============================] - 5s 1ms/step - loss: 0.3243 - val_loss: 0.2931\n",
      "Epoch 94/100\n",
      "4490/4490 [==============================] - 5s 1ms/step - loss: 0.3238 - val_loss: 0.2950\n",
      "Epoch 95/100\n",
      "4490/4490 [==============================] - 5s 1ms/step - loss: 0.3232 - val_loss: 0.2927\n",
      "Epoch 96/100\n",
      "4490/4490 [==============================] - 5s 1ms/step - loss: 0.3224 - val_loss: 0.2956\n",
      "Epoch 97/100\n",
      "4490/4490 [==============================] - 5s 1ms/step - loss: 0.3224 - val_loss: 0.2933\n",
      "Epoch 98/100\n",
      "4490/4490 [==============================] - 5s 1ms/step - loss: 0.3230 - val_loss: 0.2940\n",
      "Epoch 99/100\n",
      "4490/4490 [==============================] - 5s 1ms/step - loss: 0.3236 - val_loss: 0.2955\n",
      "Epoch 100/100\n",
      "4490/4490 [==============================] - 6s 1ms/step - loss: 0.3244 - val_loss: 0.2968\n"
     ]
    },
    {
     "data": {
      "text/plain": [
       "<keras.src.callbacks.History at 0x1ff413d9750>"
      ]
     },
     "execution_count": 54,
     "metadata": {},
     "output_type": "execute_result"
    }
   ],
   "source": [
    "model2.fit(x=x_train7, \n",
    "          y=y_train7, \n",
    "          epochs=100,\n",
    "          validation_data=(x_test7, y_test7), verbose=1,\n",
    "          callbacks=[early_stop]\n",
    "          )"
   ]
  },
  {
   "cell_type": "code",
   "execution_count": 55,
   "metadata": {},
   "outputs": [
    {
     "name": "stdout",
     "output_type": "stream",
     "text": [
      "4490/4490 [==============================] - 4s 823us/step\n",
      "1497/1497 [==============================] - 1s 765us/step\n",
      "              precision    recall  f1-score   support\n",
      "\n",
      "         0.0       0.87      0.84      0.86     61548\n",
      "         1.0       0.89      0.90      0.90     82116\n",
      "\n",
      "    accuracy                           0.88    143664\n",
      "   macro avg       0.88      0.87      0.88    143664\n",
      "weighted avg       0.88      0.88      0.88    143664\n",
      "\n",
      "              precision    recall  f1-score   support\n",
      "\n",
      "         0.0       0.87      0.84      0.86     20567\n",
      "         1.0       0.88      0.91      0.90     27322\n",
      "\n",
      "    accuracy                           0.88     47889\n",
      "   macro avg       0.88      0.87      0.88     47889\n",
      "weighted avg       0.88      0.88      0.88     47889\n",
      "\n"
     ]
    }
   ],
   "source": [
    "ypred_train12 = model2.predict(x_train7)\n",
    "y_pred_test12 = model2.predict(x_test7)\n",
    "\n",
    "y_pred_test12 = (y_pred_test12 > 0.5)\n",
    "ypred_train12 = (ypred_train12 > 0.5)\n",
    "\n",
    "print(classification_report(y_train7,ypred_train12))\n",
    "print(classification_report(y_test7,y_pred_test12))"
   ]
  },
  {
   "cell_type": "code",
   "execution_count": 56,
   "metadata": {},
   "outputs": [
    {
     "name": "stdout",
     "output_type": "stream",
     "text": [
      "1497/1497 [==============================] - 1s 788us/step\n"
     ]
    },
    {
     "data": {
      "image/png": "[encoded data removed]",
      "text/plain": [
       "<Figure size 640x480 with 1 Axes>"
      ]
     },
     "metadata": {},
     "output_type": "display_data"
    }
   ],
   "source": [
    "\n",
    "y_proba_test = model2.predict(x_test7).flatten()\n",
    "\n",
    "fpr, tpr, thresholds = roc_curve(y_test7, y_proba_test)\n",
    "\n",
    "plt.plot(fpr, tpr, label='ROC Curve')\n",
    "plt.xlabel('False Positive Rate')\n",
    "plt.ylabel('True Positive Rate')\n",
    "plt.title('ROC Curve with AUC = {:.2f}'.format(roc_auc_score(y_test7, y_proba_test)))\n",
    "plt.legend(loc='lower right')\n",
    "plt.grid(True)\n",
    "plt.show()"
   ]
  },
  {
   "cell_type": "markdown",
   "metadata": {},
   "source": [
    "## SVC"
   ]
  },
  {
   "cell_type": "code",
   "execution_count": 57,
   "metadata": {},
   "outputs": [],
   "source": [
    "model3 = SVC(probability=True)"
   ]
  },
  {
   "cell_type": "code",
   "execution_count": 58,
   "metadata": {},
   "outputs": [
    {
     "data": {
      "text/html": [
       "<style>#sk-container-id-4 {color: black;}#sk-container-id-4 pre{padding: 0;}#sk-container-id-4 div.sk-toggleable {background-color: white;}#sk-container-id-4 label.sk-toggleable__label {cursor: pointer;display: block;width: 100%;margin-bottom: 0;padding: 0.3em;box-sizing: border-box;text-align: center;}#sk-container-id-4 label.sk-toggleable__label-arrow:before {content: \"▸\";float: left;margin-right: 0.25em;color: #696969;}#sk-container-id-4 label.sk-toggleable__label-arrow:hover:before {color: black;}#sk-container-id-4 div.sk-estimator:hover label.sk-toggleable__label-arrow:before {color: black;}#sk-container-id-4 div.sk-toggleable__content {max-height: 0;max-width: 0;overflow: hidden;text-align: left;background-color: #f0f8ff;}#sk-container-id-4 div.sk-toggleable__content pre {margin: 0.2em;color: black;border-radius: 0.25em;background-color: #f0f8ff;}#sk-container-id-4 input.sk-toggleable__control:checked~div.sk-toggleable__content {max-height: 200px;max-width: 100%;overflow: auto;}#sk-container-id-4 input.sk-toggleable__control:checked~label.sk-toggleable__label-arrow:before {content: \"▾\";}#sk-container-id-4 div.sk-estimator input.sk-toggleable__control:checked~label.sk-toggleable__label {background-color: #d4ebff;}#sk-container-id-4 div.sk-label input.sk-toggleable__control:checked~label.sk-toggleable__label {background-color: #d4ebff;}#sk-container-id-4 input.sk-hidden--visually {border: 0;clip: rect(1px 1px 1px 1px);clip: rect(1px, 1px, 1px, 1px);height: 1px;margin: -1px;overflow: hidden;padding: 0;position: absolute;width: 1px;}#sk-container-id-4 div.sk-estimator {font-family: monospace;background-color: #f0f8ff;border: 1px dotted black;border-radius: 0.25em;box-sizing: border-box;margin-bottom: 0.5em;}#sk-container-id-4 div.sk-estimator:hover {background-color: #d4ebff;}#sk-container-id-4 div.sk-parallel-item::after {content: \"\";width: 100%;border-bottom: 1px solid gray;flex-grow: 1;}#sk-container-id-4 div.sk-label:hover label.sk-toggleable__label {background-color: #d4ebff;}#sk-container-id-4 div.sk-serial::before {content: \"\";position: absolute;border-left: 1px solid gray;box-sizing: border-box;top: 0;bottom: 0;left: 50%;z-index: 0;}#sk-container-id-4 div.sk-serial {display: flex;flex-direction: column;align-items: center;background-color: white;padding-right: 0.2em;padding-left: 0.2em;position: relative;}#sk-container-id-4 div.sk-item {position: relative;z-index: 1;}#sk-container-id-4 div.sk-parallel {display: flex;align-items: stretch;justify-content: center;background-color: white;position: relative;}#sk-container-id-4 div.sk-item::before, #sk-container-id-4 div.sk-parallel-item::before {content: \"\";position: absolute;border-left: 1px solid gray;box-sizing: border-box;top: 0;bottom: 0;left: 50%;z-index: -1;}#sk-container-id-4 div.sk-parallel-item {display: flex;flex-direction: column;z-index: 1;position: relative;background-color: white;}#sk-container-id-4 div.sk-parallel-item:first-child::after {align-self: flex-end;width: 50%;}#sk-container-id-4 div.sk-parallel-item:last-child::after {align-self: flex-start;width: 50%;}#sk-container-id-4 div.sk-parallel-item:only-child::after {width: 0;}#sk-container-id-4 div.sk-dashed-wrapped {border: 1px dashed gray;margin: 0 0.4em 0.5em 0.4em;box-sizing: border-box;padding-bottom: 0.4em;background-color: white;}#sk-container-id-4 div.sk-label label {font-family: monospace;font-weight: bold;display: inline-block;line-height: 1.2em;}#sk-container-id-4 div.sk-label-container {text-align: center;}#sk-container-id-4 div.sk-container {/* jupyter's `normalize.less` sets `[hidden] { display: none; }` but bootstrap.min.css set `[hidden] { display: none !important; }` so we also need the `!important` here to be able to override the default hidden behavior on the sphinx rendered scikit-learn.org. See: https://github.com/scikit-learn/scikit-learn/issues/21755 */display: inline-block !important;position: relative;}#sk-container-id-4 div.sk-text-repr-fallback {display: none;}</style><div id=\"sk-container-id-4\" class=\"sk-top-container\"><div class=\"sk-text-repr-fallback\"><pre>SVC(probability=True)</pre><b>In a Jupyter environment, please rerun this cell to show the HTML representation or trust the notebook. <br />On GitHub, the HTML representation is unable to render, please try loading this page with nbviewer.org.</b></div><div class=\"sk-container\" hidden><div class=\"sk-item\"><div class=\"sk-estimator sk-toggleable\"><input class=\"sk-toggleable__control sk-hidden--visually\" id=\"sk-estimator-id-6\" type=\"checkbox\" checked><label for=\"sk-estimator-id-6\" class=\"sk-toggleable__label sk-toggleable__label-arrow\">SVC</label><div class=\"sk-toggleable__content\"><pre>SVC(probability=True)</pre></div></div></div></div></div>"
      ],
      "text/plain": [
       "SVC(probability=True)"
      ]
     },
     "execution_count": 58,
     "metadata": {},
     "output_type": "execute_result"
    }
   ],
   "source": [
    "model3.fit(x_train7,y_train7)"
   ]
  },
  {
   "cell_type": "code",
   "execution_count": 59,
   "metadata": {},
   "outputs": [
    {
     "name": "stdout",
     "output_type": "stream",
     "text": [
      "              precision    recall  f1-score   support\n",
      "\n",
      "         0.0       0.89      0.91      0.90     61548\n",
      "         1.0       0.93      0.91      0.92     82116\n",
      "\n",
      "    accuracy                           0.91    143664\n",
      "   macro avg       0.91      0.91      0.91    143664\n",
      "weighted avg       0.92      0.91      0.91    143664\n",
      "\n",
      "              precision    recall  f1-score   support\n",
      "\n",
      "         0.0       0.89      0.91      0.90     20567\n",
      "         1.0       0.93      0.91      0.92     27322\n",
      "\n",
      "    accuracy                           0.91     47889\n",
      "   macro avg       0.91      0.91      0.91     47889\n",
      "weighted avg       0.91      0.91      0.91     47889\n",
      "\n"
     ]
    }
   ],
   "source": [
    "ypred_train14 = model3.predict(x_train7)\n",
    "y_pred_test14 = model3.predict(x_test7)\n",
    "\n",
    "\n",
    "print(classification_report(y_train7,ypred_train14))\n",
    "print(classification_report(y_test7,y_pred_test14))"
   ]
  },
  {
   "cell_type": "code",
   "execution_count": 60,
   "metadata": {},
   "outputs": [],
   "source": [
    "param_grid = {'C': [0.1,1, 10, 100, 1000], 'gamma': [1,0.1,0.01,0.001,0.0001], 'kernel': ['rbf']} "
   ]
  },
  {
   "cell_type": "code",
   "execution_count": 61,
   "metadata": {},
   "outputs": [],
   "source": [
    "grid = GridSearchCV(SVC(),param_grid,refit=True,verbose=3)"
   ]
  },
  {
   "cell_type": "code",
   "execution_count": 62,
   "metadata": {},
   "outputs": [
    {
     "name": "stdout",
     "output_type": "stream",
     "text": [
      "Fitting 5 folds for each of 25 candidates, totalling 125 fits\n",
      "[CV 1/5] END ........C=0.1, gamma=1, kernel=rbf;, score=0.898 total time= 2.9min\n",
      "[CV 2/5] END ........C=0.1, gamma=1, kernel=rbf;, score=0.897 total time= 2.9min\n",
      "[CV 3/5] END ........C=0.1, gamma=1, kernel=rbf;, score=0.899 total time= 2.9min\n",
      "[CV 4/5] END ........C=0.1, gamma=1, kernel=rbf;, score=0.897 total time= 2.9min\n",
      "[CV 5/5] END ........C=0.1, gamma=1, kernel=rbf;, score=0.898 total time= 2.9min\n",
      "[CV 1/5] END ......C=0.1, gamma=0.1, kernel=rbf;, score=0.879 total time= 3.3min\n",
      "[CV 2/5] END ......C=0.1, gamma=0.1, kernel=rbf;, score=0.879 total time= 3.5min\n",
      "[CV 3/5] END ......C=0.1, gamma=0.1, kernel=rbf;, score=0.880 total time= 3.7min\n",
      "[CV 4/5] END ......C=0.1, gamma=0.1, kernel=rbf;, score=0.879 total time= 3.4min\n",
      "[CV 5/5] END ......C=0.1, gamma=0.1, kernel=rbf;, score=0.880 total time= 3.8min\n",
      "[CV 1/5] END .....C=0.1, gamma=0.01, kernel=rbf;, score=0.848 total time= 4.7min\n",
      "[CV 2/5] END .....C=0.1, gamma=0.01, kernel=rbf;, score=0.850 total time= 4.3min\n",
      "[CV 3/5] END .....C=0.1, gamma=0.01, kernel=rbf;, score=0.850 total time= 5.1min\n",
      "[CV 4/5] END .....C=0.1, gamma=0.01, kernel=rbf;, score=0.847 total time= 4.6min\n",
      "[CV 5/5] END .....C=0.1, gamma=0.01, kernel=rbf;, score=0.852 total time= 4.7min\n",
      "[CV 1/5] END ....C=0.1, gamma=0.001, kernel=rbf;, score=0.829 total time= 6.1min\n",
      "[CV 2/5] END ....C=0.1, gamma=0.001, kernel=rbf;, score=0.831 total time= 7.2min\n",
      "[CV 3/5] END ....C=0.1, gamma=0.001, kernel=rbf;, score=0.830 total time=10.3min\n",
      "[CV 4/5] END ....C=0.1, gamma=0.001, kernel=rbf;, score=0.827 total time= 8.6min\n",
      "[CV 5/5] END ....C=0.1, gamma=0.001, kernel=rbf;, score=0.829 total time= 8.7min\n",
      "[CV 1/5] END ...C=0.1, gamma=0.0001, kernel=rbf;, score=0.682 total time=14.5min\n",
      "[CV 2/5] END ...C=0.1, gamma=0.0001, kernel=rbf;, score=0.687 total time= 8.5min\n",
      "[CV 3/5] END ...C=0.1, gamma=0.0001, kernel=rbf;, score=0.684 total time= 7.1min\n",
      "[CV 4/5] END ...C=0.1, gamma=0.0001, kernel=rbf;, score=0.683 total time= 6.5min\n",
      "[CV 5/5] END ...C=0.1, gamma=0.0001, kernel=rbf;, score=0.682 total time= 6.4min\n",
      "[CV 1/5] END ..........C=1, gamma=1, kernel=rbf;, score=0.911 total time= 2.2min\n",
      "[CV 2/5] END ..........C=1, gamma=1, kernel=rbf;, score=0.913 total time= 2.3min\n",
      "[CV 3/5] END ..........C=1, gamma=1, kernel=rbf;, score=0.912 total time= 2.2min\n",
      "[CV 4/5] END ..........C=1, gamma=1, kernel=rbf;, score=0.912 total time= 2.2min\n",
      "[CV 5/5] END ..........C=1, gamma=1, kernel=rbf;, score=0.910 total time= 2.6min\n",
      "[CV 1/5] END ........C=1, gamma=0.1, kernel=rbf;, score=0.902 total time= 2.2min\n",
      "[CV 2/5] END ........C=1, gamma=0.1, kernel=rbf;, score=0.901 total time= 2.2min\n",
      "[CV 3/5] END ........C=1, gamma=0.1, kernel=rbf;, score=0.904 total time= 2.2min\n",
      "[CV 4/5] END ........C=1, gamma=0.1, kernel=rbf;, score=0.902 total time= 2.2min\n",
      "[CV 5/5] END ........C=1, gamma=0.1, kernel=rbf;, score=0.902 total time= 2.3min\n",
      "[CV 1/5] END .......C=1, gamma=0.01, kernel=rbf;, score=0.860 total time= 4.0min\n",
      "[CV 2/5] END .......C=1, gamma=0.01, kernel=rbf;, score=0.861 total time= 4.4min\n",
      "[CV 3/5] END .......C=1, gamma=0.01, kernel=rbf;, score=0.861 total time= 6.0min\n",
      "[CV 4/5] END .......C=1, gamma=0.01, kernel=rbf;, score=0.859 total time= 3.5min\n",
      "[CV 5/5] END .......C=1, gamma=0.01, kernel=rbf;, score=0.862 total time= 7.5min\n",
      "[CV 1/5] END ......C=1, gamma=0.001, kernel=rbf;, score=0.848 total time= 7.7min\n",
      "[CV 2/5] END ......C=1, gamma=0.001, kernel=rbf;, score=0.848 total time= 6.4min\n",
      "[CV 3/5] END ......C=1, gamma=0.001, kernel=rbf;, score=0.849 total time= 5.4min\n",
      "[CV 4/5] END ......C=1, gamma=0.001, kernel=rbf;, score=0.846 total time= 5.1min\n",
      "[CV 5/5] END ......C=1, gamma=0.001, kernel=rbf;, score=0.851 total time= 5.2min\n",
      "[CV 1/5] END .....C=1, gamma=0.0001, kernel=rbf;, score=0.829 total time= 7.3min\n",
      "[CV 2/5] END .....C=1, gamma=0.0001, kernel=rbf;, score=0.831 total time= 7.2min\n",
      "[CV 3/5] END .....C=1, gamma=0.0001, kernel=rbf;, score=0.830 total time= 7.7min\n",
      "[CV 4/5] END .....C=1, gamma=0.0001, kernel=rbf;, score=0.827 total time=10.4min\n",
      "[CV 5/5] END .....C=1, gamma=0.0001, kernel=rbf;, score=0.829 total time= 6.1min\n",
      "[CV 1/5] END .........C=10, gamma=1, kernel=rbf;, score=0.918 total time= 4.8min\n",
      "[CV 2/5] END .........C=10, gamma=1, kernel=rbf;, score=0.920 total time= 5.8min\n",
      "[CV 3/5] END .........C=10, gamma=1, kernel=rbf;, score=0.920 total time= 6.6min\n",
      "[CV 4/5] END .........C=10, gamma=1, kernel=rbf;, score=0.918 total time= 5.3min\n",
      "[CV 5/5] END .........C=10, gamma=1, kernel=rbf;, score=0.917 total time= 4.7min\n",
      "[CV 1/5] END .......C=10, gamma=0.1, kernel=rbf;, score=0.913 total time= 3.3min\n",
      "[CV 2/5] END .......C=10, gamma=0.1, kernel=rbf;, score=0.914 total time= 3.2min\n",
      "[CV 3/5] END .......C=10, gamma=0.1, kernel=rbf;, score=0.915 total time= 2.6min\n",
      "[CV 4/5] END .......C=10, gamma=0.1, kernel=rbf;, score=0.913 total time= 2.3min\n",
      "[CV 5/5] END .......C=10, gamma=0.1, kernel=rbf;, score=0.912 total time= 2.5min\n",
      "[CV 1/5] END ......C=10, gamma=0.01, kernel=rbf;, score=0.883 total time= 3.9min\n",
      "[CV 2/5] END ......C=10, gamma=0.01, kernel=rbf;, score=0.883 total time= 3.9min\n",
      "[CV 3/5] END ......C=10, gamma=0.01, kernel=rbf;, score=0.884 total time= 3.5min\n",
      "[CV 4/5] END ......C=10, gamma=0.01, kernel=rbf;, score=0.882 total time= 3.4min\n",
      "[CV 5/5] END ......C=10, gamma=0.01, kernel=rbf;, score=0.883 total time= 3.9min\n",
      "[CV 1/5] END .....C=10, gamma=0.001, kernel=rbf;, score=0.852 total time= 4.3min\n",
      "[CV 2/5] END .....C=10, gamma=0.001, kernel=rbf;, score=0.853 total time= 4.3min\n",
      "[CV 3/5] END .....C=10, gamma=0.001, kernel=rbf;, score=0.853 total time= 4.1min\n",
      "[CV 4/5] END .....C=10, gamma=0.001, kernel=rbf;, score=0.850 total time= 3.7min\n",
      "[CV 5/5] END .....C=10, gamma=0.001, kernel=rbf;, score=0.853 total time= 4.4min\n",
      "[CV 1/5] END ....C=10, gamma=0.0001, kernel=rbf;, score=0.847 total time= 4.7min\n",
      "[CV 2/5] END ....C=10, gamma=0.0001, kernel=rbf;, score=0.848 total time= 4.5min\n",
      "[CV 3/5] END ....C=10, gamma=0.0001, kernel=rbf;, score=0.849 total time= 8.5min\n",
      "[CV 4/5] END ....C=10, gamma=0.0001, kernel=rbf;, score=0.846 total time= 9.1min\n",
      "[CV 5/5] END ....C=10, gamma=0.0001, kernel=rbf;, score=0.850 total time= 9.1min\n",
      "[CV 1/5] END ........C=100, gamma=1, kernel=rbf;, score=0.920 total time=16.4min\n",
      "[CV 2/5] END ........C=100, gamma=1, kernel=rbf;, score=0.922 total time= 6.5min\n",
      "[CV 3/5] END ........C=100, gamma=1, kernel=rbf;, score=0.921 total time= 7.8min\n",
      "[CV 4/5] END ........C=100, gamma=1, kernel=rbf;, score=0.921 total time= 6.6min\n",
      "[CV 5/5] END ........C=100, gamma=1, kernel=rbf;, score=0.919 total time= 6.0min\n",
      "[CV 1/5] END ......C=100, gamma=0.1, kernel=rbf;, score=0.918 total time= 2.6min\n",
      "[CV 2/5] END ......C=100, gamma=0.1, kernel=rbf;, score=0.919 total time= 2.6min\n",
      "[CV 3/5] END ......C=100, gamma=0.1, kernel=rbf;, score=0.920 total time= 2.6min\n",
      "[CV 4/5] END ......C=100, gamma=0.1, kernel=rbf;, score=0.918 total time= 2.5min\n",
      "[CV 5/5] END ......C=100, gamma=0.1, kernel=rbf;, score=0.916 total time= 2.4min\n",
      "[CV 1/5] END .....C=100, gamma=0.01, kernel=rbf;, score=0.905 total time= 2.1min\n",
      "[CV 2/5] END .....C=100, gamma=0.01, kernel=rbf;, score=0.904 total time= 2.1min\n",
      "[CV 3/5] END .....C=100, gamma=0.01, kernel=rbf;, score=0.906 total time= 2.1min\n",
      "[CV 4/5] END .....C=100, gamma=0.01, kernel=rbf;, score=0.905 total time= 2.1min\n",
      "[CV 5/5] END .....C=100, gamma=0.01, kernel=rbf;, score=0.904 total time= 2.1min\n",
      "[CV 1/5] END ....C=100, gamma=0.001, kernel=rbf;, score=0.861 total time= 2.9min\n",
      "[CV 2/5] END ....C=100, gamma=0.001, kernel=rbf;, score=0.861 total time= 2.8min\n",
      "[CV 3/5] END ....C=100, gamma=0.001, kernel=rbf;, score=0.861 total time= 2.8min\n",
      "[CV 4/5] END ....C=100, gamma=0.001, kernel=rbf;, score=0.859 total time= 2.8min\n",
      "[CV 5/5] END ....C=100, gamma=0.001, kernel=rbf;, score=0.863 total time= 2.8min\n",
      "[CV 1/5] END ...C=100, gamma=0.0001, kernel=rbf;, score=0.851 total time= 2.9min\n",
      "[CV 2/5] END ...C=100, gamma=0.0001, kernel=rbf;, score=0.852 total time= 2.9min\n",
      "[CV 3/5] END ...C=100, gamma=0.0001, kernel=rbf;, score=0.852 total time= 2.8min\n",
      "[CV 4/5] END ...C=100, gamma=0.0001, kernel=rbf;, score=0.849 total time= 2.8min\n",
      "[CV 5/5] END ...C=100, gamma=0.0001, kernel=rbf;, score=0.852 total time= 2.9min\n",
      "[CV 1/5] END .......C=1000, gamma=1, kernel=rbf;, score=0.921 total time=21.0min\n",
      "[CV 2/5] END .......C=1000, gamma=1, kernel=rbf;, score=0.921 total time=21.0min\n",
      "[CV 3/5] END .......C=1000, gamma=1, kernel=rbf;, score=0.922 total time=22.1min\n",
      "[CV 4/5] END .......C=1000, gamma=1, kernel=rbf;, score=0.921 total time=20.6min\n",
      "[CV 5/5] END .......C=1000, gamma=1, kernel=rbf;, score=0.919 total time=20.3min\n",
      "[CV 1/5] END .....C=1000, gamma=0.1, kernel=rbf;, score=0.921 total time= 6.8min\n",
      "[CV 2/5] END .....C=1000, gamma=0.1, kernel=rbf;, score=0.923 total time= 6.8min\n",
      "[CV 3/5] END .....C=1000, gamma=0.1, kernel=rbf;, score=0.922 total time= 7.1min\n",
      "[CV 4/5] END .....C=1000, gamma=0.1, kernel=rbf;, score=0.921 total time= 7.1min\n",
      "[CV 5/5] END .....C=1000, gamma=0.1, kernel=rbf;, score=0.919 total time= 7.0min\n",
      "[CV 1/5] END ....C=1000, gamma=0.01, kernel=rbf;, score=0.914 total time= 2.6min\n",
      "[CV 2/5] END ....C=1000, gamma=0.01, kernel=rbf;, score=0.914 total time= 2.6min\n",
      "[CV 3/5] END ....C=1000, gamma=0.01, kernel=rbf;, score=0.916 total time= 2.7min\n",
      "[CV 4/5] END ....C=1000, gamma=0.01, kernel=rbf;, score=0.914 total time= 2.7min\n",
      "[CV 5/5] END ....C=1000, gamma=0.01, kernel=rbf;, score=0.912 total time= 2.6min\n",
      "[CV 1/5] END ...C=1000, gamma=0.001, kernel=rbf;, score=0.883 total time= 2.6min\n",
      "[CV 2/5] END ...C=1000, gamma=0.001, kernel=rbf;, score=0.883 total time= 2.7min\n",
      "[CV 3/5] END ...C=1000, gamma=0.001, kernel=rbf;, score=0.884 total time= 2.6min\n",
      "[CV 4/5] END ...C=1000, gamma=0.001, kernel=rbf;, score=0.882 total time= 2.6min\n",
      "[CV 5/5] END ...C=1000, gamma=0.001, kernel=rbf;, score=0.883 total time= 2.7min\n",
      "[CV 1/5] END ..C=1000, gamma=0.0001, kernel=rbf;, score=0.852 total time= 2.9min\n",
      "[CV 2/5] END ..C=1000, gamma=0.0001, kernel=rbf;, score=0.853 total time= 2.9min\n",
      "[CV 3/5] END ..C=1000, gamma=0.0001, kernel=rbf;, score=0.853 total time= 2.9min\n",
      "[CV 4/5] END ..C=1000, gamma=0.0001, kernel=rbf;, score=0.850 total time= 2.9min\n",
      "[CV 5/5] END ..C=1000, gamma=0.0001, kernel=rbf;, score=0.854 total time= 2.9min\n"
     ]
    },
    {
     "data": {
      "text/html": [
       "<style>#sk-container-id-5 {color: black;}#sk-container-id-5 pre{padding: 0;}#sk-container-id-5 div.sk-toggleable {background-color: white;}#sk-container-id-5 label.sk-toggleable__label {cursor: pointer;display: block;width: 100%;margin-bottom: 0;padding: 0.3em;box-sizing: border-box;text-align: center;}#sk-container-id-5 label.sk-toggleable__label-arrow:before {content: \"▸\";float: left;margin-right: 0.25em;color: #696969;}#sk-container-id-5 label.sk-toggleable__label-arrow:hover:before {color: black;}#sk-container-id-5 div.sk-estimator:hover label.sk-toggleable__label-arrow:before {color: black;}#sk-container-id-5 div.sk-toggleable__content {max-height: 0;max-width: 0;overflow: hidden;text-align: left;background-color: #f0f8ff;}#sk-container-id-5 div.sk-toggleable__content pre {margin: 0.2em;color: black;border-radius: 0.25em;background-color: #f0f8ff;}#sk-container-id-5 input.sk-toggleable__control:checked~div.sk-toggleable__content {max-height: 200px;max-width: 100%;overflow: auto;}#sk-container-id-5 input.sk-toggleable__control:checked~label.sk-toggleable__label-arrow:before {content: \"▾\";}#sk-container-id-5 div.sk-estimator input.sk-toggleable__control:checked~label.sk-toggleable__label {background-color: #d4ebff;}#sk-container-id-5 div.sk-label input.sk-toggleable__control:checked~label.sk-toggleable__label {background-color: #d4ebff;}#sk-container-id-5 input.sk-hidden--visually {border: 0;clip: rect(1px 1px 1px 1px);clip: rect(1px, 1px, 1px, 1px);height: 1px;margin: -1px;overflow: hidden;padding: 0;position: absolute;width: 1px;}#sk-container-id-5 div.sk-estimator {font-family: monospace;background-color: #f0f8ff;border: 1px dotted black;border-radius: 0.25em;box-sizing: border-box;margin-bottom: 0.5em;}#sk-container-id-5 div.sk-estimator:hover {background-color: #d4ebff;}#sk-container-id-5 div.sk-parallel-item::after {content: \"\";width: 100%;border-bottom: 1px solid gray;flex-grow: 1;}#sk-container-id-5 div.sk-label:hover label.sk-toggleable__label {background-color: #d4ebff;}#sk-container-id-5 div.sk-serial::before {content: \"\";position: absolute;border-left: 1px solid gray;box-sizing: border-box;top: 0;bottom: 0;left: 50%;z-index: 0;}#sk-container-id-5 div.sk-serial {display: flex;flex-direction: column;align-items: center;background-color: white;padding-right: 0.2em;padding-left: 0.2em;position: relative;}#sk-container-id-5 div.sk-item {position: relative;z-index: 1;}#sk-container-id-5 div.sk-parallel {display: flex;align-items: stretch;justify-content: center;background-color: white;position: relative;}#sk-container-id-5 div.sk-item::before, #sk-container-id-5 div.sk-parallel-item::before {content: \"\";position: absolute;border-left: 1px solid gray;box-sizing: border-box;top: 0;bottom: 0;left: 50%;z-index: -1;}#sk-container-id-5 div.sk-parallel-item {display: flex;flex-direction: column;z-index: 1;position: relative;background-color: white;}#sk-container-id-5 div.sk-parallel-item:first-child::after {align-self: flex-end;width: 50%;}#sk-container-id-5 div.sk-parallel-item:last-child::after {align-self: flex-start;width: 50%;}#sk-container-id-5 div.sk-parallel-item:only-child::after {width: 0;}#sk-container-id-5 div.sk-dashed-wrapped {border: 1px dashed gray;margin: 0 0.4em 0.5em 0.4em;box-sizing: border-box;padding-bottom: 0.4em;background-color: white;}#sk-container-id-5 div.sk-label label {font-family: monospace;font-weight: bold;display: inline-block;line-height: 1.2em;}#sk-container-id-5 div.sk-label-container {text-align: center;}#sk-container-id-5 div.sk-container {/* jupyter's `normalize.less` sets `[hidden] { display: none; }` but bootstrap.min.css set `[hidden] { display: none !important; }` so we also need the `!important` here to be able to override the default hidden behavior on the sphinx rendered scikit-learn.org. See: https://github.com/scikit-learn/scikit-learn/issues/21755 */display: inline-block !important;position: relative;}#sk-container-id-5 div.sk-text-repr-fallback {display: none;}</style><div id=\"sk-container-id-5\" class=\"sk-top-container\"><div class=\"sk-text-repr-fallback\"><pre>GridSearchCV(estimator=SVC(),\n",
       "             param_grid={&#x27;C&#x27;: [0.1, 1, 10, 100, 1000],\n",
       "                         &#x27;gamma&#x27;: [1, 0.1, 0.01, 0.001, 0.0001],\n",
       "                         &#x27;kernel&#x27;: [&#x27;rbf&#x27;]},\n",
       "             verbose=3)</pre><b>In a Jupyter environment, please rerun this cell to show the HTML representation or trust the notebook. <br />On GitHub, the HTML representation is unable to render, please try loading this page with nbviewer.org.</b></div><div class=\"sk-container\" hidden><div class=\"sk-item sk-dashed-wrapped\"><div class=\"sk-label-container\"><div class=\"sk-label sk-toggleable\"><input class=\"sk-toggleable__control sk-hidden--visually\" id=\"sk-estimator-id-7\" type=\"checkbox\" ><label for=\"sk-estimator-id-7\" class=\"sk-toggleable__label sk-toggleable__label-arrow\">GridSearchCV</label><div class=\"sk-toggleable__content\"><pre>GridSearchCV(estimator=SVC(),\n",
       "             param_grid={&#x27;C&#x27;: [0.1, 1, 10, 100, 1000],\n",
       "                         &#x27;gamma&#x27;: [1, 0.1, 0.01, 0.001, 0.0001],\n",
       "                         &#x27;kernel&#x27;: [&#x27;rbf&#x27;]},\n",
       "             verbose=3)</pre></div></div></div><div class=\"sk-parallel\"><div class=\"sk-parallel-item\"><div class=\"sk-item\"><div class=\"sk-label-container\"><div class=\"sk-label sk-toggleable\"><input class=\"sk-toggleable__control sk-hidden--visually\" id=\"sk-estimator-id-8\" type=\"checkbox\" ><label for=\"sk-estimator-id-8\" class=\"sk-toggleable__label sk-toggleable__label-arrow\">estimator: SVC</label><div class=\"sk-toggleable__content\"><pre>SVC()</pre></div></div></div><div class=\"sk-serial\"><div class=\"sk-item\"><div class=\"sk-estimator sk-toggleable\"><input class=\"sk-toggleable__control sk-hidden--visually\" id=\"sk-estimator-id-9\" type=\"checkbox\" ><label for=\"sk-estimator-id-9\" class=\"sk-toggleable__label sk-toggleable__label-arrow\">SVC</label><div class=\"sk-toggleable__content\"><pre>SVC()</pre></div></div></div></div></div></div></div></div></div></div>"
      ],
      "text/plain": [
       "GridSearchCV(estimator=SVC(),\n",
       "             param_grid={'C': [0.1, 1, 10, 100, 1000],\n",
       "                         'gamma': [1, 0.1, 0.01, 0.001, 0.0001],\n",
       "                         'kernel': ['rbf']},\n",
       "             verbose=3)"
      ]
     },
     "execution_count": 62,
     "metadata": {},
     "output_type": "execute_result"
    }
   ],
   "source": [
    "grid.fit(x_train7,y_train7)"
   ]
  },
  {
   "cell_type": "code",
   "execution_count": 63,
   "metadata": {},
   "outputs": [
    {
     "data": {
      "text/plain": [
       "{'C': 1000, 'gamma': 1, 'kernel': 'rbf'}"
      ]
     },
     "execution_count": 63,
     "metadata": {},
     "output_type": "execute_result"
    }
   ],
   "source": [
    "grid.best_params_"
   ]
  },
  {
   "cell_type": "code",
   "execution_count": 64,
   "metadata": {},
   "outputs": [
    {
     "data": {
      "text/html": [
       "<style>#sk-container-id-6 {color: black;}#sk-container-id-6 pre{padding: 0;}#sk-container-id-6 div.sk-toggleable {background-color: white;}#sk-container-id-6 label.sk-toggleable__label {cursor: pointer;display: block;width: 100%;margin-bottom: 0;padding: 0.3em;box-sizing: border-box;text-align: center;}#sk-container-id-6 label.sk-toggleable__label-arrow:before {content: \"▸\";float: left;margin-right: 0.25em;color: #696969;}#sk-container-id-6 label.sk-toggleable__label-arrow:hover:before {color: black;}#sk-container-id-6 div.sk-estimator:hover label.sk-toggleable__label-arrow:before {color: black;}#sk-container-id-6 div.sk-toggleable__content {max-height: 0;max-width: 0;overflow: hidden;text-align: left;background-color: #f0f8ff;}#sk-container-id-6 div.sk-toggleable__content pre {margin: 0.2em;color: black;border-radius: 0.25em;background-color: #f0f8ff;}#sk-container-id-6 input.sk-toggleable__control:checked~div.sk-toggleable__content {max-height: 200px;max-width: 100%;overflow: auto;}#sk-container-id-6 input.sk-toggleable__control:checked~label.sk-toggleable__label-arrow:before {content: \"▾\";}#sk-container-id-6 div.sk-estimator input.sk-toggleable__control:checked~label.sk-toggleable__label {background-color: #d4ebff;}#sk-container-id-6 div.sk-label input.sk-toggleable__control:checked~label.sk-toggleable__label {background-color: #d4ebff;}#sk-container-id-6 input.sk-hidden--visually {border: 0;clip: rect(1px 1px 1px 1px);clip: rect(1px, 1px, 1px, 1px);height: 1px;margin: -1px;overflow: hidden;padding: 0;position: absolute;width: 1px;}#sk-container-id-6 div.sk-estimator {font-family: monospace;background-color: #f0f8ff;border: 1px dotted black;border-radius: 0.25em;box-sizing: border-box;margin-bottom: 0.5em;}#sk-container-id-6 div.sk-estimator:hover {background-color: #d4ebff;}#sk-container-id-6 div.sk-parallel-item::after {content: \"\";width: 100%;border-bottom: 1px solid gray;flex-grow: 1;}#sk-container-id-6 div.sk-label:hover label.sk-toggleable__label {background-color: #d4ebff;}#sk-container-id-6 div.sk-serial::before {content: \"\";position: absolute;border-left: 1px solid gray;box-sizing: border-box;top: 0;bottom: 0;left: 50%;z-index: 0;}#sk-container-id-6 div.sk-serial {display: flex;flex-direction: column;align-items: center;background-color: white;padding-right: 0.2em;padding-left: 0.2em;position: relative;}#sk-container-id-6 div.sk-item {position: relative;z-index: 1;}#sk-container-id-6 div.sk-parallel {display: flex;align-items: stretch;justify-content: center;background-color: white;position: relative;}#sk-container-id-6 div.sk-item::before, #sk-container-id-6 div.sk-parallel-item::before {content: \"\";position: absolute;border-left: 1px solid gray;box-sizing: border-box;top: 0;bottom: 0;left: 50%;z-index: -1;}#sk-container-id-6 div.sk-parallel-item {display: flex;flex-direction: column;z-index: 1;position: relative;background-color: white;}#sk-container-id-6 div.sk-parallel-item:first-child::after {align-self: flex-end;width: 50%;}#sk-container-id-6 div.sk-parallel-item:last-child::after {align-self: flex-start;width: 50%;}#sk-container-id-6 div.sk-parallel-item:only-child::after {width: 0;}#sk-container-id-6 div.sk-dashed-wrapped {border: 1px dashed gray;margin: 0 0.4em 0.5em 0.4em;box-sizing: border-box;padding-bottom: 0.4em;background-color: white;}#sk-container-id-6 div.sk-label label {font-family: monospace;font-weight: bold;display: inline-block;line-height: 1.2em;}#sk-container-id-6 div.sk-label-container {text-align: center;}#sk-container-id-6 div.sk-container {/* jupyter's `normalize.less` sets `[hidden] { display: none; }` but bootstrap.min.css set `[hidden] { display: none !important; }` so we also need the `!important` here to be able to override the default hidden behavior on the sphinx rendered scikit-learn.org. See: https://github.com/scikit-learn/scikit-learn/issues/21755 */display: inline-block !important;position: relative;}#sk-container-id-6 div.sk-text-repr-fallback {display: none;}</style><div id=\"sk-container-id-6\" class=\"sk-top-container\"><div class=\"sk-text-repr-fallback\"><pre>SVC(C=1000, gamma=1)</pre><b>In a Jupyter environment, please rerun this cell to show the HTML representation or trust the notebook. <br />On GitHub, the HTML representation is unable to render, please try loading this page with nbviewer.org.</b></div><div class=\"sk-container\" hidden><div class=\"sk-item\"><div class=\"sk-estimator sk-toggleable\"><input class=\"sk-toggleable__control sk-hidden--visually\" id=\"sk-estimator-id-10\" type=\"checkbox\" checked><label for=\"sk-estimator-id-10\" class=\"sk-toggleable__label sk-toggleable__label-arrow\">SVC</label><div class=\"sk-toggleable__content\"><pre>SVC(C=1000, gamma=1)</pre></div></div></div></div></div>"
      ],
      "text/plain": [
       "SVC(C=1000, gamma=1)"
      ]
     },
     "execution_count": 64,
     "metadata": {},
     "output_type": "execute_result"
    }
   ],
   "source": [
    "grid.best_estimator_"
   ]
  },
  {
   "cell_type": "code",
   "execution_count": 65,
   "metadata": {},
   "outputs": [
    {
     "name": "stdout",
     "output_type": "stream",
     "text": [
      "              precision    recall  f1-score   support\n",
      "\n",
      "         0.0       0.93      0.95      0.94     61548\n",
      "         1.0       0.96      0.95      0.95     82116\n",
      "\n",
      "    accuracy                           0.95    143664\n",
      "   macro avg       0.95      0.95      0.95    143664\n",
      "weighted avg       0.95      0.95      0.95    143664\n",
      "\n",
      "              precision    recall  f1-score   support\n",
      "\n",
      "         0.0       0.90      0.92      0.91     20567\n",
      "         1.0       0.94      0.93      0.93     27322\n",
      "\n",
      "    accuracy                           0.92     47889\n",
      "   macro avg       0.92      0.92      0.92     47889\n",
      "weighted avg       0.92      0.92      0.92     47889\n",
      "\n"
     ]
    }
   ],
   "source": [
    "ypred_train = grid.predict(x_train7)\n",
    "y_pred_test = grid.predict(x_test7)\n",
    "\n",
    "\n",
    "print(classification_report(y_train7,ypred_train))\n",
    "print(classification_report(y_test7,y_pred_test))"
   ]
  },
  {
   "cell_type": "code",
   "execution_count": 67,
   "metadata": {},
   "outputs": [
    {
     "name": "stdout",
     "output_type": "stream",
     "text": [
      "Training Results\n",
      "\n",
      "              precision    recall  f1-score   support\n",
      "\n",
      "         0.0       0.93      0.95      0.94     61548\n",
      "         1.0       0.96      0.95      0.95     82116\n",
      "\n",
      "    accuracy                           0.95    143664\n",
      "   macro avg       0.95      0.95      0.95    143664\n",
      "weighted avg       0.95      0.95      0.95    143664\n",
      "\n",
      "Testing Results\n",
      "\n",
      "              precision    recall  f1-score   support\n",
      "\n",
      "         0.0       0.90      0.92      0.91     20567\n",
      "         1.0       0.94      0.93      0.93     27322\n",
      "\n",
      "    accuracy                           0.92     47889\n",
      "   macro avg       0.92      0.92      0.92     47889\n",
      "weighted avg       0.92      0.92      0.92     47889\n",
      "\n"
     ]
    },
    {
     "data": {
      "image/png": "[encoded data removed]",
      "text/plain": [
       "<Figure size 640x480 with 1 Axes>"
      ]
     },
     "metadata": {},
     "output_type": "display_data"
    }
   ],
   "source": [
    "model3 = SVC(C=1000, gamma=1, kernel='rbf', probability=True)\n",
    "model3.fit(x_train7, y_train7)\n",
    "\n",
    "ypred_train14 = model3.predict(x_train7)\n",
    "y_pred_test14 = model3.predict(x_test7)\n",
    "\n",
    "print(\"Training Results\\n\")\n",
    "print(classification_report(y_train7, ypred_train14))\n",
    "print(\"Testing Results\\n\")\n",
    "print(classification_report(y_test7, y_pred_test14))\n",
    "\n",
    "y_proba_test = model3.predict_proba(x_test7)[:, 1]\n",
    "fpr, tpr, thresholds = roc_curve(y_test7, y_proba_test)\n",
    "plt.plot(fpr, tpr, label='ROC Curve')\n",
    "plt.xlabel('False Positive Rate')\n",
    "plt.ylabel('True Positive Rate')\n",
    "plt.title('ROC Curve with AUC = {:.2f}'.format(roc_auc_score(y_test7, y_proba_test)))\n",
    "plt.legend(loc='lower right')\n",
    "plt.grid(True)\n",
    "plt.show()"
   ]
  }
 ],
 "metadata": {
  "kernelspec": {
   "display_name": "Python 3",
   "language": "python",
   "name": "python3"
  },
  "language_info": {
   "codemirror_mode": {
    "name": "ipython",
    "version": 3
   },
   "file_extension": ".py",
   "mimetype": "text/x-python",
   "name": "python",
   "nbconvert_exporter": "python",
   "pygments_lexer": "ipython3",
   "version": "0.0.0"
  }
 },
 "nbformat": 4,
 "nbformat_minor": 2
}
