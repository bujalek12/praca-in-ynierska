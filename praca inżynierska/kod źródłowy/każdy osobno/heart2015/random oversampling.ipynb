{
 "cells": [
  {
   "cell_type": "code",
   "execution_count": 61,
   "metadata": {},
   "outputs": [],
   "source": [
    "import pandas as pd\n",
    "import numpy as np\n",
    "import matplotlib.pyplot as plt\n",
    "import plotly.express as px\n",
    "from sklearn.preprocessing import LabelEncoder\n",
    "from sklearn.preprocessing import RobustScaler , MinMaxScaler, StandardScaler\n",
    "import seaborn as sns\n",
    "from sklearn.metrics import roc_curve\n",
    "from sklearn.metrics import roc_auc_score\n",
    "import tensorflow as tf\n",
    "from keras.preprocessing.image import ImageDataGenerator\n",
    "from tensorflow.keras.layers import Dropout\n",
    "from tensorflow.keras.models import Sequential\n",
    "from tensorflow.keras.layers import Dense, Activation\n",
    "from tensorflow.keras.callbacks import EarlyStopping\n",
    "from tensorflow.keras.layers import Input,Flatten,Conv1D,MaxPooling1D\n",
    "from sklearn.metrics import classification_report\n",
    "import warnings\n",
    "warnings.filterwarnings('ignore')\n",
    "import missingno as msno\n",
    "from sklearn.model_selection import train_test_split\n",
    "from sklearn.metrics import accuracy_score\n",
    "from sklearn.metrics import mean_absolute_error , mean_absolute_percentage_error , mean_squared_error\n",
    "from sklearn.metrics import r2_score\n",
    "from sklearn.metrics import confusion_matrix\n",
    "from sklearn.model_selection import cross_val_score\n",
    "from sklearn.metrics import RocCurveDisplay\n",
    "from sklearn.model_selection import RepeatedStratifiedKFold\n",
    "from sklearn.metrics import accuracy_score, precision_score, recall_score, f1_score\n",
    "from sklearn.model_selection import GridSearchCV\n",
    "from sklearn.tree import DecisionTreeClassifier\n",
    "from sklearn.ensemble import RandomForestClassifier\n",
    "from sklearn.naive_bayes import GaussianNB\n",
    "from xgboost import XGBClassifier\n",
    "from sklearn.linear_model import LogisticRegression\n",
    "from sklearn.svm import SVC\n",
    "from sklearn.decomposition import PCA\n",
    "from sklearn.ensemble import GradientBoostingClassifier\n",
    "from sklearn.neighbors import KNeighborsClassifier\n",
    "from keras.layers import LSTM\n",
    "from imblearn.over_sampling import RandomOverSampler\n",
    "from sklearn.preprocessing import MinMaxScaler\n"
   ]
  },
  {
   "cell_type": "markdown",
   "metadata": {},
   "source": [
    "## Random Oversampling with Evaluation\n"
   ]
  },
  {
   "cell_type": "code",
   "execution_count": 62,
   "metadata": {},
   "outputs": [
    {
     "data": {
      "text/html": [
       "<div>\n",
       "<style scoped>\n",
       "    .dataframe tbody tr th:only-of-type {\n",
       "        vertical-align: middle;\n",
       "    }\n",
       "\n",
       "    .dataframe tbody tr th {\n",
       "        vertical-align: top;\n",
       "    }\n",
       "\n",
       "    .dataframe thead th {\n",
       "        text-align: right;\n",
       "    }\n",
       "</style>\n",
       "<table border=\"1\" class=\"dataframe\">\n",
       "  <thead>\n",
       "    <tr style=\"text-align: right;\">\n",
       "      <th></th>\n",
       "      <th>HeartDiseaseorAttack</th>\n",
       "      <th>HighBP</th>\n",
       "      <th>HighChol</th>\n",
       "      <th>CholCheck</th>\n",
       "      <th>BMI</th>\n",
       "      <th>Smoker</th>\n",
       "      <th>Stroke</th>\n",
       "      <th>Diabetes</th>\n",
       "      <th>PhysActivity</th>\n",
       "      <th>Fruits</th>\n",
       "      <th>...</th>\n",
       "      <th>AnyHealthcare</th>\n",
       "      <th>NoDocbcCost</th>\n",
       "      <th>GenHlth</th>\n",
       "      <th>MentHlth</th>\n",
       "      <th>PhysHlth</th>\n",
       "      <th>DiffWalk</th>\n",
       "      <th>Sex</th>\n",
       "      <th>Age</th>\n",
       "      <th>Education</th>\n",
       "      <th>Income</th>\n",
       "    </tr>\n",
       "  </thead>\n",
       "  <tbody>\n",
       "    <tr>\n",
       "      <th>0</th>\n",
       "      <td>0.0</td>\n",
       "      <td>1.0</td>\n",
       "      <td>1.0</td>\n",
       "      <td>1.0</td>\n",
       "      <td>40.0</td>\n",
       "      <td>1.0</td>\n",
       "      <td>0.0</td>\n",
       "      <td>0.0</td>\n",
       "      <td>0.0</td>\n",
       "      <td>0.0</td>\n",
       "      <td>...</td>\n",
       "      <td>1.0</td>\n",
       "      <td>0.0</td>\n",
       "      <td>5.0</td>\n",
       "      <td>18.0</td>\n",
       "      <td>15.0</td>\n",
       "      <td>1.0</td>\n",
       "      <td>0.0</td>\n",
       "      <td>9.0</td>\n",
       "      <td>4.0</td>\n",
       "      <td>3.0</td>\n",
       "    </tr>\n",
       "    <tr>\n",
       "      <th>1</th>\n",
       "      <td>0.0</td>\n",
       "      <td>0.0</td>\n",
       "      <td>0.0</td>\n",
       "      <td>0.0</td>\n",
       "      <td>25.0</td>\n",
       "      <td>1.0</td>\n",
       "      <td>0.0</td>\n",
       "      <td>0.0</td>\n",
       "      <td>1.0</td>\n",
       "      <td>0.0</td>\n",
       "      <td>...</td>\n",
       "      <td>0.0</td>\n",
       "      <td>1.0</td>\n",
       "      <td>3.0</td>\n",
       "      <td>0.0</td>\n",
       "      <td>0.0</td>\n",
       "      <td>0.0</td>\n",
       "      <td>0.0</td>\n",
       "      <td>7.0</td>\n",
       "      <td>6.0</td>\n",
       "      <td>1.0</td>\n",
       "    </tr>\n",
       "    <tr>\n",
       "      <th>2</th>\n",
       "      <td>0.0</td>\n",
       "      <td>1.0</td>\n",
       "      <td>1.0</td>\n",
       "      <td>1.0</td>\n",
       "      <td>28.0</td>\n",
       "      <td>0.0</td>\n",
       "      <td>0.0</td>\n",
       "      <td>0.0</td>\n",
       "      <td>0.0</td>\n",
       "      <td>1.0</td>\n",
       "      <td>...</td>\n",
       "      <td>1.0</td>\n",
       "      <td>1.0</td>\n",
       "      <td>5.0</td>\n",
       "      <td>30.0</td>\n",
       "      <td>30.0</td>\n",
       "      <td>1.0</td>\n",
       "      <td>0.0</td>\n",
       "      <td>9.0</td>\n",
       "      <td>4.0</td>\n",
       "      <td>8.0</td>\n",
       "    </tr>\n",
       "    <tr>\n",
       "      <th>3</th>\n",
       "      <td>0.0</td>\n",
       "      <td>1.0</td>\n",
       "      <td>0.0</td>\n",
       "      <td>1.0</td>\n",
       "      <td>27.0</td>\n",
       "      <td>0.0</td>\n",
       "      <td>0.0</td>\n",
       "      <td>0.0</td>\n",
       "      <td>1.0</td>\n",
       "      <td>1.0</td>\n",
       "      <td>...</td>\n",
       "      <td>1.0</td>\n",
       "      <td>0.0</td>\n",
       "      <td>2.0</td>\n",
       "      <td>0.0</td>\n",
       "      <td>0.0</td>\n",
       "      <td>0.0</td>\n",
       "      <td>0.0</td>\n",
       "      <td>11.0</td>\n",
       "      <td>3.0</td>\n",
       "      <td>6.0</td>\n",
       "    </tr>\n",
       "    <tr>\n",
       "      <th>4</th>\n",
       "      <td>0.0</td>\n",
       "      <td>1.0</td>\n",
       "      <td>1.0</td>\n",
       "      <td>1.0</td>\n",
       "      <td>24.0</td>\n",
       "      <td>0.0</td>\n",
       "      <td>0.0</td>\n",
       "      <td>0.0</td>\n",
       "      <td>1.0</td>\n",
       "      <td>1.0</td>\n",
       "      <td>...</td>\n",
       "      <td>1.0</td>\n",
       "      <td>0.0</td>\n",
       "      <td>2.0</td>\n",
       "      <td>3.0</td>\n",
       "      <td>0.0</td>\n",
       "      <td>0.0</td>\n",
       "      <td>0.0</td>\n",
       "      <td>11.0</td>\n",
       "      <td>5.0</td>\n",
       "      <td>4.0</td>\n",
       "    </tr>\n",
       "  </tbody>\n",
       "</table>\n",
       "<p>5 rows × 22 columns</p>\n",
       "</div>"
      ],
      "text/plain": [
       "   HeartDiseaseorAttack  HighBP  HighChol  CholCheck   BMI  Smoker  Stroke  \\\n",
       "0                   0.0     1.0       1.0        1.0  40.0     1.0     0.0   \n",
       "1                   0.0     0.0       0.0        0.0  25.0     1.0     0.0   \n",
       "2                   0.0     1.0       1.0        1.0  28.0     0.0     0.0   \n",
       "3                   0.0     1.0       0.0        1.0  27.0     0.0     0.0   \n",
       "4                   0.0     1.0       1.0        1.0  24.0     0.0     0.0   \n",
       "\n",
       "   Diabetes  PhysActivity  Fruits  ...  AnyHealthcare  NoDocbcCost  GenHlth  \\\n",
       "0       0.0           0.0     0.0  ...            1.0          0.0      5.0   \n",
       "1       0.0           1.0     0.0  ...            0.0          1.0      3.0   \n",
       "2       0.0           0.0     1.0  ...            1.0          1.0      5.0   \n",
       "3       0.0           1.0     1.0  ...            1.0          0.0      2.0   \n",
       "4       0.0           1.0     1.0  ...            1.0          0.0      2.0   \n",
       "\n",
       "   MentHlth  PhysHlth  DiffWalk  Sex   Age  Education  Income  \n",
       "0      18.0      15.0       1.0  0.0   9.0        4.0     3.0  \n",
       "1       0.0       0.0       0.0  0.0   7.0        6.0     1.0  \n",
       "2      30.0      30.0       1.0  0.0   9.0        4.0     8.0  \n",
       "3       0.0       0.0       0.0  0.0  11.0        3.0     6.0  \n",
       "4       3.0       0.0       0.0  0.0  11.0        5.0     4.0  \n",
       "\n",
       "[5 rows x 22 columns]"
      ]
     },
     "execution_count": 62,
     "metadata": {},
     "output_type": "execute_result"
    }
   ],
   "source": [
    "df= pd.read_csv('Heart Disease Data 2015.csv')\n",
    "df.head()"
   ]
  },
  {
   "cell_type": "markdown",
   "metadata": {},
   "source": [
    "## splite data"
   ]
  },
  {
   "cell_type": "code",
   "execution_count": 63,
   "metadata": {},
   "outputs": [],
   "source": [
    "df.drop(['Income',\"Education\",'DiffWalk',\"NoDocbcCost\",\"AnyHealthcare\",'Veggies',\"Fruits\",\"CholCheck\"],axis=1,inplace=True)\n"
   ]
  },
  {
   "cell_type": "code",
   "execution_count": 64,
   "metadata": {},
   "outputs": [],
   "source": [
    "x = df.drop([\"HeartDiseaseorAttack\"] , axis = 1).values\n",
    "y = df[\"HeartDiseaseorAttack\"].values"
   ]
  },
  {
   "cell_type": "code",
   "execution_count": 65,
   "metadata": {},
   "outputs": [],
   "source": [
    "\n",
    "ros = RandomOverSampler(random_state=42)\n",
    "x_ros, y_ros = ros.fit_resample(x, y)\n",
    "x_train1, x_test1, y_train1, y_test1 = train_test_split(x_ros, y_ros, test_size=0.25, random_state=42)\n"
   ]
  },
  {
   "cell_type": "code",
   "execution_count": 66,
   "metadata": {},
   "outputs": [],
   "source": [
    "scaler = MinMaxScaler()\n",
    "x_train1 = scaler.fit_transform(x_train1)\n",
    "x_test1 = scaler.transform(x_test1)"
   ]
  },
  {
   "cell_type": "markdown",
   "metadata": {},
   "source": [
    "## random forest"
   ]
  },
  {
   "cell_type": "code",
   "execution_count": 7,
   "metadata": {},
   "outputs": [
    {
     "name": "stdout",
     "output_type": "stream",
     "text": [
      "Najlepsze parametry:  {'max_depth': 30, 'max_features': 'sqrt', 'min_samples_leaf': 1, 'min_samples_split': 2, 'n_estimators': 300}\n",
      "Training Results\n",
      "\n",
      "              precision    recall  f1-score   support\n",
      "\n",
      "         0.0       0.97      0.93      0.95    172233\n",
      "         1.0       0.93      0.97      0.95    172447\n",
      "\n",
      "    accuracy                           0.95    344680\n",
      "   macro avg       0.95      0.95      0.95    344680\n",
      "weighted avg       0.95      0.95      0.95    344680\n",
      "\n",
      "Test Results\n",
      "\n",
      "              precision    recall  f1-score   support\n",
      "\n",
      "         0.0       0.97      0.87      0.92     57554\n",
      "         1.0       0.88      0.97      0.92     57340\n",
      "\n",
      "    accuracy                           0.92    114894\n",
      "   macro avg       0.92      0.92      0.92    114894\n",
      "weighted avg       0.92      0.92      0.92    114894\n",
      "\n",
      "Confusion Matrix:\n",
      " [[50123  7431]\n",
      " [ 1806 55534]]\n",
      "Cross-validation scores: [0.91306429 0.91113497 0.91210688 0.91265812 0.91277417]\n",
      "Average cross-validation score: 0.9123476848090982\n"
     ]
    }
   ],
   "source": [
    "\n",
    "\n",
    "\n",
    "\n",
    "# Inicjalizacja modelu z domyślnymi parametrami\n",
    "rf = RandomForestClassifier()\n",
    "\n",
    "# Określenie siatki parametrów do przetestowania\n",
    "param_grid = {\n",
    "    'n_estimators': [100, 200, 300],  # Liczba drzew\n",
    "    'max_depth': [10, 20, 30],        # Maksymalna głębokość drzewa\n",
    "    'min_samples_split': [2, 4, 6],   # Minimalna liczba próbek wymagana do podziału węzła\n",
    "    'min_samples_leaf': [1, 2, 4],    # Minimalna liczba próbek wymagana w liściu\n",
    "    'max_features': ['auto', 'sqrt']  # Liczba cech do rozważenia przy każdym podziale\n",
    "}\n",
    "\n",
    "# Utworzenie obiektu GridSearchCV\n",
    "cv_rf = GridSearchCV(estimator=rf, param_grid=param_grid, cv=5, scoring='accuracy')\n",
    "\n",
    "# Przeszukiwanie siatki parametrów\n",
    "cv_rf.fit(x_train1, y_train1)\n",
    "\n",
    "# Najlepszy zestaw parametrów\n",
    "print(\"Najlepsze parametry: \", cv_rf.best_params_)\n",
    "\n",
    "# Najlepszy estimator\n",
    "best_rf = cv_rf.best_estimator_\n",
    "\n",
    "# Predykcje i ocena modelu\n",
    "ypred_train = best_rf.predict(x_train1)\n",
    "ypred_test = best_rf.predict(x_test1)\n",
    "\n",
    "print(\"Training Results\\n\")\n",
    "print(classification_report(y_train1, ypred_train))\n",
    "print(\"Test Results\\n\")\n",
    "print(classification_report(y_test1, ypred_test))\n",
    "\n",
    "# Macierz pomyłek\n",
    "conf_matrix = confusion_matrix(y_test1, ypred_test)\n",
    "print(\"Confusion Matrix:\\n\", conf_matrix)\n",
    "\n",
    "# Ocena modelu za pomocą walidacji krzyżowej\n",
    "cross_val_scores = cross_val_score(best_rf, x_train1, y_train1, cv=5)\n",
    "print(\"Cross-validation scores:\", cross_val_scores)\n",
    "print(\"Average cross-validation score:\", np.mean(cross_val_scores))"
   ]
  },
  {
   "cell_type": "code",
   "execution_count": 8,
   "metadata": {},
   "outputs": [
    {
     "data": {
      "image/png": "[encoded data removed]",
      "text/plain": [
       "<Figure size 640x480 with 1 Axes>"
      ]
     },
     "metadata": {},
     "output_type": "display_data"
    }
   ],
   "source": [
    "\n",
    "y_proba_test = best_rf.predict_proba(x_test1)[:, 1]\n",
    "\n",
    "fpr, tpr, thresholds = roc_curve(y_test1, y_proba_test)\n",
    "\n",
    "plt.plot(fpr, tpr, label='ROC Curve')\n",
    "plt.xlabel('False Positive Rate')\n",
    "plt.ylabel('True Positive Rate')\n",
    "plt.title('ROC Curve with AUC = {:.2f}'.format(roc_auc_score(y_test1, y_proba_test)))\n",
    "plt.legend(loc='lower right')\n",
    "plt.grid(True)\n",
    "plt.show()"
   ]
  },
  {
   "cell_type": "markdown",
   "metadata": {},
   "source": [
    "## DECISION TREE CLASSIFIER"
   ]
  },
  {
   "cell_type": "code",
   "execution_count": 9,
   "metadata": {},
   "outputs": [
    {
     "name": "stdout",
     "output_type": "stream",
     "text": [
      "Najlepsze parametry: {'criterion': 'gini', 'max_depth': None, 'min_samples_leaf': 1, 'min_samples_split': 2}\n",
      "Najlepsza dokładność: 0.9043054427294882\n",
      "Training Results\n",
      "\n",
      "              precision    recall  f1-score   support\n",
      "\n",
      "         0.0       0.97      0.93      0.95    172233\n",
      "         1.0       0.94      0.97      0.95    172447\n",
      "\n",
      "    accuracy                           0.95    344680\n",
      "   macro avg       0.95      0.95      0.95    344680\n",
      "weighted avg       0.95      0.95      0.95    344680\n",
      "\n",
      "Testing Results\n",
      "\n",
      "              precision    recall  f1-score   support\n",
      "\n",
      "         0.0       0.96      0.86      0.91     57554\n",
      "         1.0       0.87      0.97      0.92     57340\n",
      "\n",
      "    accuracy                           0.91    114894\n",
      "   macro avg       0.92      0.91      0.91    114894\n",
      "weighted avg       0.92      0.91      0.91    114894\n",
      "\n",
      "Cross-Validation Scores for the Best Model: [0.90476674 0.90357723 0.90409945 0.90460717 0.90486828]\n",
      "Average Cross-Validation Score: 0.9043837762562376\n"
     ]
    }
   ],
   "source": [
    "\n",
    "param_grid = {\n",
    "    'max_depth': [3, 5, 10, None],\n",
    "    'min_samples_split': [2, 5, 10],\n",
    "    'min_samples_leaf': [1, 2, 5],\n",
    "    'criterion': ['gini', 'entropy']\n",
    "}\n",
    "\n",
    "# Utworzenie modelu drzewa decyzyjnego\n",
    "tree = DecisionTreeClassifier()\n",
    "\n",
    "# Uruchomienie Grid Search z walidacją krzyżową\n",
    "grid_search = GridSearchCV(tree, param_grid, cv=5, scoring='accuracy')\n",
    "grid_search.fit(x_train1, y_train1)\n",
    "\n",
    "# Wyświetlenie najlepszych parametrów i wyników\n",
    "print(\"Najlepsze parametry:\", grid_search.best_params_)\n",
    "print(\"Najlepsza dokładność:\", grid_search.best_score_)\n",
    "\n",
    "# Utworzenie i ocena modelu z najlepszymi parametrami\n",
    "best_tree = grid_search.best_estimator_\n",
    "best_tree.fit(x_train1, y_train1)\n",
    "\n",
    "ypred_train2 = best_tree.predict(x_train1)\n",
    "ypred_test2 = best_tree.predict(x_test1)\n",
    "\n",
    "# Ocena modelu na zbiorze testowym\n",
    "\n",
    "print(\"Training Results\\n\")\n",
    "print(classification_report(y_train1, ypred_train2))\n",
    "print('Testing Results\\n')\n",
    "print(classification_report(y_test1, ypred_test2))\n",
    "\n",
    "# Dodatkowo: Walidacja krzyżowa dla najlepszego modelu na całym zbiorze danych\n",
    "cross_val_scores = cross_val_score(best_tree, x_train1, y_train1, cv=5)\n",
    "print(\"Cross-Validation Scores for the Best Model:\", cross_val_scores)\n",
    "print(\"Average Cross-Validation Score:\", cross_val_scores.mean())"
   ]
  },
  {
   "cell_type": "code",
   "execution_count": 10,
   "metadata": {},
   "outputs": [
    {
     "data": {
      "image/png": "[encoded data removed]",
      "text/plain": [
       "<Figure size 640x480 with 1 Axes>"
      ]
     },
     "metadata": {},
     "output_type": "display_data"
    }
   ],
   "source": [
    "\n",
    "y_proba_test = best_tree.predict_proba(x_test1)[:, 1]\n",
    "\n",
    "fpr, tpr, thresholds = roc_curve(y_test1, y_proba_test)\n",
    "\n",
    "plt.plot(fpr, tpr, label='ROC Curve')\n",
    "plt.xlabel('False Positive Rate')\n",
    "plt.ylabel('True Positive Rate')\n",
    "plt.title('ROC Curve with AUC = {:.2f}'.format(roc_auc_score(y_test1, y_proba_test)))\n",
    "plt.legend(loc='lower right')\n",
    "plt.grid(True)\n",
    "plt.show()"
   ]
  },
  {
   "cell_type": "markdown",
   "metadata": {},
   "source": [
    "## Naive Bayes"
   ]
  },
  {
   "cell_type": "code",
   "execution_count": 11,
   "metadata": {},
   "outputs": [
    {
     "name": "stdout",
     "output_type": "stream",
     "text": [
      "Naive Bayes Classifier Accuracy:  0.724876843003116\n"
     ]
    }
   ],
   "source": [
    "Gnb = GaussianNB()\n",
    "Gnb.fit(x_train1, y_train1)\n",
    "ypred_train3 = Gnb.predict(x_train1)\n",
    "y_pred_test3 = Gnb.predict(x_test1)\n",
    "\n",
    "print(\"Naive Bayes Classifier Accuracy: \",accuracy_score(y_test1, y_pred_test3))"
   ]
  },
  {
   "cell_type": "code",
   "execution_count": 12,
   "metadata": {},
   "outputs": [
    {
     "name": "stdout",
     "output_type": "stream",
     "text": [
      "Testing Results\n",
      "\n",
      "              precision    recall  f1-score   support\n",
      "\n",
      "         0.0       0.70      0.79      0.74    172233\n",
      "         1.0       0.76      0.66      0.71    172447\n",
      "\n",
      "    accuracy                           0.73    344680\n",
      "   macro avg       0.73      0.73      0.72    344680\n",
      "weighted avg       0.73      0.73      0.72    344680\n",
      "\n"
     ]
    }
   ],
   "source": [
    "print('Testing Results\\n')\n",
    "print(classification_report(y_train1, ypred_train3))"
   ]
  },
  {
   "cell_type": "code",
   "execution_count": 13,
   "metadata": {},
   "outputs": [
    {
     "name": "stdout",
     "output_type": "stream",
     "text": [
      "Testing Results\n",
      "\n",
      "              precision    recall  f1-score   support\n",
      "\n",
      "         0.0       0.70      0.79      0.74     57554\n",
      "         1.0       0.76      0.66      0.70     57340\n",
      "\n",
      "    accuracy                           0.72    114894\n",
      "   macro avg       0.73      0.72      0.72    114894\n",
      "weighted avg       0.73      0.72      0.72    114894\n",
      "\n"
     ]
    }
   ],
   "source": [
    "print('Testing Results\\n')\n",
    "print(classification_report(y_test1, y_pred_test3))"
   ]
  },
  {
   "cell_type": "code",
   "execution_count": 14,
   "metadata": {},
   "outputs": [
    {
     "data": {
      "image/png": "[encoded data removed]",
      "text/plain": [
       "<Figure size 640x480 with 1 Axes>"
      ]
     },
     "metadata": {},
     "output_type": "display_data"
    }
   ],
   "source": [
    "\n",
    "y_proba_test = Gnb.predict_proba(x_test1)[:, 1]\n",
    "\n",
    "fpr, tpr, thresholds = roc_curve(y_test1, y_proba_test)\n",
    "\n",
    "plt.plot(fpr, tpr, label='ROC Curve')\n",
    "plt.xlabel('False Positive Rate')\n",
    "plt.ylabel('True Positive Rate')\n",
    "plt.title('ROC Curve with AUC = {:.2f}'.format(roc_auc_score(y_test1, y_proba_test)))\n",
    "plt.legend(loc='lower right')\n",
    "plt.grid(True)\n",
    "plt.show()"
   ]
  },
  {
   "cell_type": "markdown",
   "metadata": {},
   "source": [
    "## XGBOSST\n"
   ]
  },
  {
   "cell_type": "code",
   "execution_count": 15,
   "metadata": {},
   "outputs": [
    {
     "name": "stdout",
     "output_type": "stream",
     "text": [
      "Najlepsze parametry:  {'colsample_bytree': 0.9, 'learning_rate': 0.2, 'max_depth': 7, 'n_estimators': 200, 'subsample': 0.7}\n",
      "Accuracy on Training set:  0.8149297899500987\n",
      "Accuracy on Test set:  0.8034013960694205\n",
      "\n",
      "Training Results\n",
      "\n",
      "              precision    recall  f1-score   support\n",
      "\n",
      "         0.0       0.85      0.77      0.81    172233\n",
      "         1.0       0.79      0.86      0.82    172447\n",
      "\n",
      "    accuracy                           0.81    344680\n",
      "   macro avg       0.82      0.81      0.81    344680\n",
      "weighted avg       0.82      0.81      0.81    344680\n",
      "\n",
      "Testing Results\n",
      "\n",
      "              precision    recall  f1-score   support\n",
      "\n",
      "         0.0       0.84      0.75      0.79     57554\n",
      "         1.0       0.78      0.85      0.81     57340\n",
      "\n",
      "    accuracy                           0.80    114894\n",
      "   macro avg       0.81      0.80      0.80    114894\n",
      "weighted avg       0.81      0.80      0.80    114894\n",
      "\n"
     ]
    },
    {
     "data": {
      "image/png": "[encoded data removed]",
      "text/plain": [
       "<Figure size 640x480 with 1 Axes>"
      ]
     },
     "metadata": {},
     "output_type": "display_data"
    }
   ],
   "source": [
    "\n",
    "\n",
    "\n",
    "\n",
    "# Inicjalizacja modelu XGBoost\n",
    "xg = XGBClassifier()\n",
    "\n",
    "# Definiowanie siatki hiperparametrów do przetestowania\n",
    "param_grid = {\n",
    "    'n_estimators': [50, 100, 200],\n",
    "    'max_depth': [3, 5, 7],\n",
    "    'learning_rate': [0.01, 0.1, 0.2],\n",
    "    'subsample': [0.7, 0.8, 0.9],\n",
    "    'colsample_bytree': [0.7, 0.8, 0.9]\n",
    "}\n",
    "\n",
    "# Utworzenie obiektu GridSearchCV\n",
    "grid_search = GridSearchCV(estimator=xg, param_grid=param_grid, cv=3, scoring='accuracy')\n",
    "\n",
    "# Przeszukiwanie siatki parametrów\n",
    "grid_search.fit(x_train1, y_train1)\n",
    "\n",
    "# Najlepsze parametry i najlepszy model\n",
    "print(\"Najlepsze parametry: \", grid_search.best_params_)\n",
    "best_xg = grid_search.best_estimator_\n",
    "\n",
    "# Predykcje na zbiorze treningowym i testowym\n",
    "ypred_train4 = best_xg.predict(x_train1)\n",
    "y_pred_test4 = best_xg.predict(x_test1)\n",
    "\n",
    "# Ocena modelu\n",
    "print(\"Accuracy on Training set: \", accuracy_score(y_train1, ypred_train4))\n",
    "print(\"Accuracy on Test set: \", accuracy_score(y_test1, y_pred_test4))\n",
    "print(\"\\nTraining Results\\n\")\n",
    "print(classification_report(y_train1, ypred_train4))\n",
    "print('Testing Results\\n')\n",
    "print(classification_report(y_test1, y_pred_test4))\n",
    "\n",
    "# Krzywa ROC\n",
    "y_proba_test4 = best_xg.predict_proba(x_test1)[:, 1]\n",
    "fpr, tpr, thresholds = roc_curve(y_test1, y_proba_test4)\n",
    "plt.plot(fpr, tpr)\n",
    "plt.title(\"ROC Curve with AUC = {:.2f}\".format(roc_auc_score(y_test1, y_proba_test4)))\n",
    "plt.show()"
   ]
  },
  {
   "cell_type": "markdown",
   "metadata": {},
   "source": [
    "## logistic regression"
   ]
  },
  {
   "cell_type": "code",
   "execution_count": 16,
   "metadata": {},
   "outputs": [
    {
     "name": "stdout",
     "output_type": "stream",
     "text": [
      "Najlepsze parametry:  {'C': 0.1, 'penalty': 'l2', 'solver': 'liblinear'}\n",
      "Accuracy on Training set:  0.7686839967506093\n",
      "Accuracy on Test set:  0.7678468849548279\n",
      "\n",
      "Training Results\n",
      "\n",
      "              precision    recall  f1-score   support\n",
      "\n",
      "         0.0       0.78      0.75      0.76    172233\n",
      "         1.0       0.76      0.79      0.77    172447\n",
      "\n",
      "    accuracy                           0.77    344680\n",
      "   macro avg       0.77      0.77      0.77    344680\n",
      "weighted avg       0.77      0.77      0.77    344680\n",
      "\n",
      "Testing Results\n",
      "\n",
      "              precision    recall  f1-score   support\n",
      "\n",
      "         0.0       0.78      0.75      0.76     57554\n",
      "         1.0       0.76      0.79      0.77     57340\n",
      "\n",
      "    accuracy                           0.77    114894\n",
      "   macro avg       0.77      0.77      0.77    114894\n",
      "weighted avg       0.77      0.77      0.77    114894\n",
      "\n"
     ]
    },
    {
     "data": {
      "image/png": "[encoded data removed]",
      "text/plain": [
       "<Figure size 640x480 with 1 Axes>"
      ]
     },
     "metadata": {},
     "output_type": "display_data"
    }
   ],
   "source": [
    "\n",
    "\n",
    "# Inicjalizacja modelu regresji logistycznej\n",
    "lg = LogisticRegression()\n",
    "\n",
    "# Definiowanie siatki hiperparametrów do przetestowania\n",
    "param_grid = {\n",
    "    'C': [0.01, 0.1, 1, 10, 100],  # Parametr regularyzacji\n",
    "    'penalty': ['l1', 'l2'],       # Typ regularyzacji\n",
    "    'solver': ['liblinear']        # Algorytm optymalizacji (liblinear jest dobrym wyborem dla małych zbiorów danych)\n",
    "}\n",
    "\n",
    "# Utworzenie obiektu GridSearchCV\n",
    "grid_search = GridSearchCV(estimator=lg, param_grid=param_grid, cv=5, scoring='accuracy')\n",
    "\n",
    "# Przeszukiwanie siatki parametrów\n",
    "grid_search.fit(x_train1, y_train1)\n",
    "\n",
    "# Najlepsze parametry i najlepszy model\n",
    "print(\"Najlepsze parametry: \", grid_search.best_params_)\n",
    "best_lg = grid_search.best_estimator_\n",
    "\n",
    "# Predykcje na zbiorze treningowym i testowym\n",
    "ypred_train4 = best_lg.predict(x_train1)\n",
    "y_pred_test4 = best_lg.predict(x_test1)\n",
    "\n",
    "# Ocena modelu\n",
    "print(\"Accuracy on Training set: \", accuracy_score(y_train1, ypred_train4))\n",
    "print(\"Accuracy on Test set: \", accuracy_score(y_test1, y_pred_test4))\n",
    "print(\"\\nTraining Results\\n\")\n",
    "print(classification_report(y_train1, ypred_train4))\n",
    "print('Testing Results\\n')\n",
    "print(classification_report(y_test1, y_pred_test4))\n",
    "\n",
    "# Krzywa ROC\n",
    "y_proba_test4 = best_lg.predict_proba(x_test1)[:, 1]\n",
    "fpr, tpr, thresholds = roc_curve(y_test1, y_proba_test4)\n",
    "plt.plot(fpr, tpr)\n",
    "plt.title(\"ROC Curve with AUC = {:.2f}\".format(roc_auc_score(y_test1, y_proba_test4)))\n",
    "plt.show()"
   ]
  },
  {
   "cell_type": "markdown",
   "metadata": {},
   "source": [
    "## GradientBoostingClassifier"
   ]
  },
  {
   "cell_type": "code",
   "execution_count": null,
   "metadata": {},
   "outputs": [
    {
     "name": "stdout",
     "output_type": "stream",
     "text": [
      "Najlepsze parametry:  {'learning_rate': 0.2, 'max_depth': 7, 'min_samples_leaf': 1, 'min_samples_split': 2, 'n_estimators': 300}\n",
      "Accuracy on Training set:  0.8333729836369966\n",
      "Accuracy on Test set:  0.8175970894911831\n",
      "\n",
      "Training Results\n",
      "\n",
      "              precision    recall  f1-score   support\n",
      "\n",
      "         0.0       0.86      0.79      0.83    172233\n",
      "         1.0       0.81      0.87      0.84    172447\n",
      "\n",
      "    accuracy                           0.83    344680\n",
      "   macro avg       0.84      0.83      0.83    344680\n",
      "weighted avg       0.84      0.83      0.83    344680\n",
      "\n",
      "Testing Results\n",
      "\n",
      "              precision    recall  f1-score   support\n",
      "\n",
      "         0.0       0.85      0.77      0.81     57554\n",
      "         1.0       0.79      0.86      0.83     57340\n",
      "\n",
      "    accuracy                           0.82    114894\n",
      "   macro avg       0.82      0.82      0.82    114894\n",
      "weighted avg       0.82      0.82      0.82    114894\n",
      "\n"
     ]
    },
    {
     "data": {
      "image/png": "[encoded data removed]",
      "text/plain": [
       "<Figure size 640x480 with 1 Axes>"
      ]
     },
     "metadata": {},
     "output_type": "display_data"
    }
   ],
   "source": [
    "\n",
    "\n",
    "# Inicjalizacja modelu Gradient Boosting Classifier\n",
    "gb = GradientBoostingClassifier()\n",
    "\n",
    "# Definiowanie siatki hiperparametrów do przetestowania\n",
    "param_grid = {\n",
    "    'n_estimators': [100, 200, 300],  # Liczba drzew w ensemble\n",
    "    'learning_rate': [0.01, 0.1, 0.2], # Szybkość uczenia\n",
    "    'max_depth': [3, 5, 7],            # Maksymalna głębokość drzewa\n",
    "    'min_samples_split': [2, 4],       # Minimalna liczba próbek wymagana do podziału węzła\n",
    "    'min_samples_leaf': [1, 2]         # Minimalna liczba próbek w liściu\n",
    "}\n",
    "\n",
    "# Utworzenie obiektu GridSearchCV\n",
    "grid_search = GridSearchCV(estimator=gb, param_grid=param_grid, cv=5, scoring='accuracy')\n",
    "\n",
    "# Przeszukiwanie siatki parametrów\n",
    "grid_search.fit(x_train1, y_train1)\n",
    "\n",
    "# Najlepsze parametry i najlepszy model\n",
    "print(\"Najlepsze parametry: \", grid_search.best_params_)\n",
    "best_gb = grid_search.best_estimator_\n",
    "\n",
    "# Predykcje na zbiorze treningowym i testowym\n",
    "ypred_train6 = best_gb.predict(x_train1)\n",
    "y_pred_test6 = best_gb.predict(x_test1)\n",
    "\n",
    "# Ocena modelu\n",
    "print(\"Accuracy on Training set: \", accuracy_score(y_train1, ypred_train6))\n",
    "print(\"Accuracy on Test set: \", accuracy_score(y_test1, y_pred_test6))\n",
    "print(\"\\nTraining Results\\n\")\n",
    "print(classification_report(y_train1, ypred_train6))\n",
    "print('Testing Results\\n')\n",
    "print(classification_report(y_test1, y_pred_test6))\n",
    "\n",
    "# Krzywa ROC\n",
    "y_proba_test6 = best_gb.predict_proba(x_test1)[:, 1]\n",
    "fpr, tpr, thresholds = roc_curve(y_test1, y_proba_test6)\n",
    "plt.plot(fpr, tpr)\n",
    "plt.title(\"ROC Curve with AUC = {:.2f}\".format(roc_auc_score(y_test1, y_proba_test6)))\n",
    "plt.show()"
   ]
  },
  {
   "cell_type": "markdown",
   "metadata": {},
   "source": [
    "## KNN"
   ]
  },
  {
   "cell_type": "code",
   "execution_count": null,
   "metadata": {},
   "outputs": [
    {
     "data": {
      "text/html": [
       "<style>#sk-container-id-1 {color: black;}#sk-container-id-1 pre{padding: 0;}#sk-container-id-1 div.sk-toggleable {background-color: white;}#sk-container-id-1 label.sk-toggleable__label {cursor: pointer;display: block;width: 100%;margin-bottom: 0;padding: 0.3em;box-sizing: border-box;text-align: center;}#sk-container-id-1 label.sk-toggleable__label-arrow:before {content: \"▸\";float: left;margin-right: 0.25em;color: #696969;}#sk-container-id-1 label.sk-toggleable__label-arrow:hover:before {color: black;}#sk-container-id-1 div.sk-estimator:hover label.sk-toggleable__label-arrow:before {color: black;}#sk-container-id-1 div.sk-toggleable__content {max-height: 0;max-width: 0;overflow: hidden;text-align: left;background-color: #f0f8ff;}#sk-container-id-1 div.sk-toggleable__content pre {margin: 0.2em;color: black;border-radius: 0.25em;background-color: #f0f8ff;}#sk-container-id-1 input.sk-toggleable__control:checked~div.sk-toggleable__content {max-height: 200px;max-width: 100%;overflow: auto;}#sk-container-id-1 input.sk-toggleable__control:checked~label.sk-toggleable__label-arrow:before {content: \"▾\";}#sk-container-id-1 div.sk-estimator input.sk-toggleable__control:checked~label.sk-toggleable__label {background-color: #d4ebff;}#sk-container-id-1 div.sk-label input.sk-toggleable__control:checked~label.sk-toggleable__label {background-color: #d4ebff;}#sk-container-id-1 input.sk-hidden--visually {border: 0;clip: rect(1px 1px 1px 1px);clip: rect(1px, 1px, 1px, 1px);height: 1px;margin: -1px;overflow: hidden;padding: 0;position: absolute;width: 1px;}#sk-container-id-1 div.sk-estimator {font-family: monospace;background-color: #f0f8ff;border: 1px dotted black;border-radius: 0.25em;box-sizing: border-box;margin-bottom: 0.5em;}#sk-container-id-1 div.sk-estimator:hover {background-color: #d4ebff;}#sk-container-id-1 div.sk-parallel-item::after {content: \"\";width: 100%;border-bottom: 1px solid gray;flex-grow: 1;}#sk-container-id-1 div.sk-label:hover label.sk-toggleable__label {background-color: #d4ebff;}#sk-container-id-1 div.sk-serial::before {content: \"\";position: absolute;border-left: 1px solid gray;box-sizing: border-box;top: 0;bottom: 0;left: 50%;z-index: 0;}#sk-container-id-1 div.sk-serial {display: flex;flex-direction: column;align-items: center;background-color: white;padding-right: 0.2em;padding-left: 0.2em;position: relative;}#sk-container-id-1 div.sk-item {position: relative;z-index: 1;}#sk-container-id-1 div.sk-parallel {display: flex;align-items: stretch;justify-content: center;background-color: white;position: relative;}#sk-container-id-1 div.sk-item::before, #sk-container-id-1 div.sk-parallel-item::before {content: \"\";position: absolute;border-left: 1px solid gray;box-sizing: border-box;top: 0;bottom: 0;left: 50%;z-index: -1;}#sk-container-id-1 div.sk-parallel-item {display: flex;flex-direction: column;z-index: 1;position: relative;background-color: white;}#sk-container-id-1 div.sk-parallel-item:first-child::after {align-self: flex-end;width: 50%;}#sk-container-id-1 div.sk-parallel-item:last-child::after {align-self: flex-start;width: 50%;}#sk-container-id-1 div.sk-parallel-item:only-child::after {width: 0;}#sk-container-id-1 div.sk-dashed-wrapped {border: 1px dashed gray;margin: 0 0.4em 0.5em 0.4em;box-sizing: border-box;padding-bottom: 0.4em;background-color: white;}#sk-container-id-1 div.sk-label label {font-family: monospace;font-weight: bold;display: inline-block;line-height: 1.2em;}#sk-container-id-1 div.sk-label-container {text-align: center;}#sk-container-id-1 div.sk-container {/* jupyter's `normalize.less` sets `[hidden] { display: none; }` but bootstrap.min.css set `[hidden] { display: none !important; }` so we also need the `!important` here to be able to override the default hidden behavior on the sphinx rendered scikit-learn.org. See: https://github.com/scikit-learn/scikit-learn/issues/21755 */display: inline-block !important;position: relative;}#sk-container-id-1 div.sk-text-repr-fallback {display: none;}</style><div id=\"sk-container-id-1\" class=\"sk-top-container\"><div class=\"sk-text-repr-fallback\"><pre>KNeighborsClassifier()</pre><b>In a Jupyter environment, please rerun this cell to show the HTML representation or trust the notebook. <br />On GitHub, the HTML representation is unable to render, please try loading this page with nbviewer.org.</b></div><div class=\"sk-container\" hidden><div class=\"sk-item\"><div class=\"sk-estimator sk-toggleable\"><input class=\"sk-toggleable__control sk-hidden--visually\" id=\"sk-estimator-id-1\" type=\"checkbox\" checked><label for=\"sk-estimator-id-1\" class=\"sk-toggleable__label sk-toggleable__label-arrow\">KNeighborsClassifier</label><div class=\"sk-toggleable__content\"><pre>KNeighborsClassifier()</pre></div></div></div></div></div>"
      ],
      "text/plain": [
       "KNeighborsClassifier()"
      ]
     },
     "execution_count": 18,
     "metadata": {},
     "output_type": "execute_result"
    }
   ],
   "source": [
    "knn = KNeighborsClassifier()\n",
    "knn.fit(x_train1, y_train1)"
   ]
  },
  {
   "cell_type": "code",
   "execution_count": null,
   "metadata": {},
   "outputs": [],
   "source": [
    "grid_cv = GridSearchCV(KNeighborsClassifier(), \n",
    "                       param_grid={\n",
    "                           \"n_neighbors\": range(1, 50)\n",
    "                       }, cv=5, scoring=\"f1\", \n",
    "                       verbose=1, n_jobs=6)"
   ]
  },
  {
   "cell_type": "code",
   "execution_count": null,
   "metadata": {},
   "outputs": [
    {
     "name": "stdout",
     "output_type": "stream",
     "text": [
      "Fitting 5 folds for each of 49 candidates, totalling 245 fits\n"
     ]
    },
    {
     "data": {
      "text/html": [
       "<style>#sk-container-id-2 {color: black;}#sk-container-id-2 pre{padding: 0;}#sk-container-id-2 div.sk-toggleable {background-color: white;}#sk-container-id-2 label.sk-toggleable__label {cursor: pointer;display: block;width: 100%;margin-bottom: 0;padding: 0.3em;box-sizing: border-box;text-align: center;}#sk-container-id-2 label.sk-toggleable__label-arrow:before {content: \"▸\";float: left;margin-right: 0.25em;color: #696969;}#sk-container-id-2 label.sk-toggleable__label-arrow:hover:before {color: black;}#sk-container-id-2 div.sk-estimator:hover label.sk-toggleable__label-arrow:before {color: black;}#sk-container-id-2 div.sk-toggleable__content {max-height: 0;max-width: 0;overflow: hidden;text-align: left;background-color: #f0f8ff;}#sk-container-id-2 div.sk-toggleable__content pre {margin: 0.2em;color: black;border-radius: 0.25em;background-color: #f0f8ff;}#sk-container-id-2 input.sk-toggleable__control:checked~div.sk-toggleable__content {max-height: 200px;max-width: 100%;overflow: auto;}#sk-container-id-2 input.sk-toggleable__control:checked~label.sk-toggleable__label-arrow:before {content: \"▾\";}#sk-container-id-2 div.sk-estimator input.sk-toggleable__control:checked~label.sk-toggleable__label {background-color: #d4ebff;}#sk-container-id-2 div.sk-label input.sk-toggleable__control:checked~label.sk-toggleable__label {background-color: #d4ebff;}#sk-container-id-2 input.sk-hidden--visually {border: 0;clip: rect(1px 1px 1px 1px);clip: rect(1px, 1px, 1px, 1px);height: 1px;margin: -1px;overflow: hidden;padding: 0;position: absolute;width: 1px;}#sk-container-id-2 div.sk-estimator {font-family: monospace;background-color: #f0f8ff;border: 1px dotted black;border-radius: 0.25em;box-sizing: border-box;margin-bottom: 0.5em;}#sk-container-id-2 div.sk-estimator:hover {background-color: #d4ebff;}#sk-container-id-2 div.sk-parallel-item::after {content: \"\";width: 100%;border-bottom: 1px solid gray;flex-grow: 1;}#sk-container-id-2 div.sk-label:hover label.sk-toggleable__label {background-color: #d4ebff;}#sk-container-id-2 div.sk-serial::before {content: \"\";position: absolute;border-left: 1px solid gray;box-sizing: border-box;top: 0;bottom: 0;left: 50%;z-index: 0;}#sk-container-id-2 div.sk-serial {display: flex;flex-direction: column;align-items: center;background-color: white;padding-right: 0.2em;padding-left: 0.2em;position: relative;}#sk-container-id-2 div.sk-item {position: relative;z-index: 1;}#sk-container-id-2 div.sk-parallel {display: flex;align-items: stretch;justify-content: center;background-color: white;position: relative;}#sk-container-id-2 div.sk-item::before, #sk-container-id-2 div.sk-parallel-item::before {content: \"\";position: absolute;border-left: 1px solid gray;box-sizing: border-box;top: 0;bottom: 0;left: 50%;z-index: -1;}#sk-container-id-2 div.sk-parallel-item {display: flex;flex-direction: column;z-index: 1;position: relative;background-color: white;}#sk-container-id-2 div.sk-parallel-item:first-child::after {align-self: flex-end;width: 50%;}#sk-container-id-2 div.sk-parallel-item:last-child::after {align-self: flex-start;width: 50%;}#sk-container-id-2 div.sk-parallel-item:only-child::after {width: 0;}#sk-container-id-2 div.sk-dashed-wrapped {border: 1px dashed gray;margin: 0 0.4em 0.5em 0.4em;box-sizing: border-box;padding-bottom: 0.4em;background-color: white;}#sk-container-id-2 div.sk-label label {font-family: monospace;font-weight: bold;display: inline-block;line-height: 1.2em;}#sk-container-id-2 div.sk-label-container {text-align: center;}#sk-container-id-2 div.sk-container {/* jupyter's `normalize.less` sets `[hidden] { display: none; }` but bootstrap.min.css set `[hidden] { display: none !important; }` so we also need the `!important` here to be able to override the default hidden behavior on the sphinx rendered scikit-learn.org. See: https://github.com/scikit-learn/scikit-learn/issues/21755 */display: inline-block !important;position: relative;}#sk-container-id-2 div.sk-text-repr-fallback {display: none;}</style><div id=\"sk-container-id-2\" class=\"sk-top-container\"><div class=\"sk-text-repr-fallback\"><pre>GridSearchCV(cv=5, estimator=KNeighborsClassifier(), n_jobs=6,\n",
       "             param_grid={&#x27;n_neighbors&#x27;: range(1, 50)}, scoring=&#x27;f1&#x27;, verbose=1)</pre><b>In a Jupyter environment, please rerun this cell to show the HTML representation or trust the notebook. <br />On GitHub, the HTML representation is unable to render, please try loading this page with nbviewer.org.</b></div><div class=\"sk-container\" hidden><div class=\"sk-item sk-dashed-wrapped\"><div class=\"sk-label-container\"><div class=\"sk-label sk-toggleable\"><input class=\"sk-toggleable__control sk-hidden--visually\" id=\"sk-estimator-id-2\" type=\"checkbox\" ><label for=\"sk-estimator-id-2\" class=\"sk-toggleable__label sk-toggleable__label-arrow\">GridSearchCV</label><div class=\"sk-toggleable__content\"><pre>GridSearchCV(cv=5, estimator=KNeighborsClassifier(), n_jobs=6,\n",
       "             param_grid={&#x27;n_neighbors&#x27;: range(1, 50)}, scoring=&#x27;f1&#x27;, verbose=1)</pre></div></div></div><div class=\"sk-parallel\"><div class=\"sk-parallel-item\"><div class=\"sk-item\"><div class=\"sk-label-container\"><div class=\"sk-label sk-toggleable\"><input class=\"sk-toggleable__control sk-hidden--visually\" id=\"sk-estimator-id-3\" type=\"checkbox\" ><label for=\"sk-estimator-id-3\" class=\"sk-toggleable__label sk-toggleable__label-arrow\">estimator: KNeighborsClassifier</label><div class=\"sk-toggleable__content\"><pre>KNeighborsClassifier()</pre></div></div></div><div class=\"sk-serial\"><div class=\"sk-item\"><div class=\"sk-estimator sk-toggleable\"><input class=\"sk-toggleable__control sk-hidden--visually\" id=\"sk-estimator-id-4\" type=\"checkbox\" ><label for=\"sk-estimator-id-4\" class=\"sk-toggleable__label sk-toggleable__label-arrow\">KNeighborsClassifier</label><div class=\"sk-toggleable__content\"><pre>KNeighborsClassifier()</pre></div></div></div></div></div></div></div></div></div></div>"
      ],
      "text/plain": [
       "GridSearchCV(cv=5, estimator=KNeighborsClassifier(), n_jobs=6,\n",
       "             param_grid={'n_neighbors': range(1, 50)}, scoring='f1', verbose=1)"
      ]
     },
     "execution_count": 20,
     "metadata": {},
     "output_type": "execute_result"
    }
   ],
   "source": [
    "grid_cv.fit(x_train1, \n",
    "            y_train1)"
   ]
  },
  {
   "cell_type": "code",
   "execution_count": null,
   "metadata": {},
   "outputs": [
    {
     "data": {
      "text/plain": [
       "0.8941684870573203"
      ]
     },
     "execution_count": 21,
     "metadata": {},
     "output_type": "execute_result"
    }
   ],
   "source": [
    "grid_cv.best_score_"
   ]
  },
  {
   "cell_type": "code",
   "execution_count": null,
   "metadata": {},
   "outputs": [
    {
     "data": {
      "text/html": [
       "<style>#sk-container-id-3 {color: black;}#sk-container-id-3 pre{padding: 0;}#sk-container-id-3 div.sk-toggleable {background-color: white;}#sk-container-id-3 label.sk-toggleable__label {cursor: pointer;display: block;width: 100%;margin-bottom: 0;padding: 0.3em;box-sizing: border-box;text-align: center;}#sk-container-id-3 label.sk-toggleable__label-arrow:before {content: \"▸\";float: left;margin-right: 0.25em;color: #696969;}#sk-container-id-3 label.sk-toggleable__label-arrow:hover:before {color: black;}#sk-container-id-3 div.sk-estimator:hover label.sk-toggleable__label-arrow:before {color: black;}#sk-container-id-3 div.sk-toggleable__content {max-height: 0;max-width: 0;overflow: hidden;text-align: left;background-color: #f0f8ff;}#sk-container-id-3 div.sk-toggleable__content pre {margin: 0.2em;color: black;border-radius: 0.25em;background-color: #f0f8ff;}#sk-container-id-3 input.sk-toggleable__control:checked~div.sk-toggleable__content {max-height: 200px;max-width: 100%;overflow: auto;}#sk-container-id-3 input.sk-toggleable__control:checked~label.sk-toggleable__label-arrow:before {content: \"▾\";}#sk-container-id-3 div.sk-estimator input.sk-toggleable__control:checked~label.sk-toggleable__label {background-color: #d4ebff;}#sk-container-id-3 div.sk-label input.sk-toggleable__control:checked~label.sk-toggleable__label {background-color: #d4ebff;}#sk-container-id-3 input.sk-hidden--visually {border: 0;clip: rect(1px 1px 1px 1px);clip: rect(1px, 1px, 1px, 1px);height: 1px;margin: -1px;overflow: hidden;padding: 0;position: absolute;width: 1px;}#sk-container-id-3 div.sk-estimator {font-family: monospace;background-color: #f0f8ff;border: 1px dotted black;border-radius: 0.25em;box-sizing: border-box;margin-bottom: 0.5em;}#sk-container-id-3 div.sk-estimator:hover {background-color: #d4ebff;}#sk-container-id-3 div.sk-parallel-item::after {content: \"\";width: 100%;border-bottom: 1px solid gray;flex-grow: 1;}#sk-container-id-3 div.sk-label:hover label.sk-toggleable__label {background-color: #d4ebff;}#sk-container-id-3 div.sk-serial::before {content: \"\";position: absolute;border-left: 1px solid gray;box-sizing: border-box;top: 0;bottom: 0;left: 50%;z-index: 0;}#sk-container-id-3 div.sk-serial {display: flex;flex-direction: column;align-items: center;background-color: white;padding-right: 0.2em;padding-left: 0.2em;position: relative;}#sk-container-id-3 div.sk-item {position: relative;z-index: 1;}#sk-container-id-3 div.sk-parallel {display: flex;align-items: stretch;justify-content: center;background-color: white;position: relative;}#sk-container-id-3 div.sk-item::before, #sk-container-id-3 div.sk-parallel-item::before {content: \"\";position: absolute;border-left: 1px solid gray;box-sizing: border-box;top: 0;bottom: 0;left: 50%;z-index: -1;}#sk-container-id-3 div.sk-parallel-item {display: flex;flex-direction: column;z-index: 1;position: relative;background-color: white;}#sk-container-id-3 div.sk-parallel-item:first-child::after {align-self: flex-end;width: 50%;}#sk-container-id-3 div.sk-parallel-item:last-child::after {align-self: flex-start;width: 50%;}#sk-container-id-3 div.sk-parallel-item:only-child::after {width: 0;}#sk-container-id-3 div.sk-dashed-wrapped {border: 1px dashed gray;margin: 0 0.4em 0.5em 0.4em;box-sizing: border-box;padding-bottom: 0.4em;background-color: white;}#sk-container-id-3 div.sk-label label {font-family: monospace;font-weight: bold;display: inline-block;line-height: 1.2em;}#sk-container-id-3 div.sk-label-container {text-align: center;}#sk-container-id-3 div.sk-container {/* jupyter's `normalize.less` sets `[hidden] { display: none; }` but bootstrap.min.css set `[hidden] { display: none !important; }` so we also need the `!important` here to be able to override the default hidden behavior on the sphinx rendered scikit-learn.org. See: https://github.com/scikit-learn/scikit-learn/issues/21755 */display: inline-block !important;position: relative;}#sk-container-id-3 div.sk-text-repr-fallback {display: none;}</style><div id=\"sk-container-id-3\" class=\"sk-top-container\"><div class=\"sk-text-repr-fallback\"><pre>KNeighborsClassifier(n_neighbors=1)</pre><b>In a Jupyter environment, please rerun this cell to show the HTML representation or trust the notebook. <br />On GitHub, the HTML representation is unable to render, please try loading this page with nbviewer.org.</b></div><div class=\"sk-container\" hidden><div class=\"sk-item\"><div class=\"sk-estimator sk-toggleable\"><input class=\"sk-toggleable__control sk-hidden--visually\" id=\"sk-estimator-id-5\" type=\"checkbox\" checked><label for=\"sk-estimator-id-5\" class=\"sk-toggleable__label sk-toggleable__label-arrow\">KNeighborsClassifier</label><div class=\"sk-toggleable__content\"><pre>KNeighborsClassifier(n_neighbors=1)</pre></div></div></div></div></div>"
      ],
      "text/plain": [
       "KNeighborsClassifier(n_neighbors=1)"
      ]
     },
     "execution_count": 22,
     "metadata": {},
     "output_type": "execute_result"
    }
   ],
   "source": [
    "knn = grid_cv.best_estimator_\n",
    "knn"
   ]
  },
  {
   "cell_type": "code",
   "execution_count": null,
   "metadata": {},
   "outputs": [
    {
     "name": "stdout",
     "output_type": "stream",
     "text": [
      "XGBClassifier Accuracy:  0.8961129388827963\n"
     ]
    }
   ],
   "source": [
    "ypred_train8 = grid_cv.predict(x_train1)\n",
    "y_pred_test8 = grid_cv.predict(x_test1)\n",
    "print(\"XGBClassifier Accuracy: \",accuracy_score(y_test1, y_pred_test8))"
   ]
  },
  {
   "cell_type": "code",
   "execution_count": null,
   "metadata": {},
   "outputs": [
    {
     "name": "stdout",
     "output_type": "stream",
     "text": [
      "Training Results\n",
      "\n",
      "              precision    recall  f1-score   support\n",
      "\n",
      "         0.0       0.94      0.93      0.93    172233\n",
      "         1.0       0.93      0.94      0.93    172447\n",
      "\n",
      "    accuracy                           0.93    344680\n",
      "   macro avg       0.93      0.93      0.93    344680\n",
      "weighted avg       0.93      0.93      0.93    344680\n",
      "\n"
     ]
    }
   ],
   "source": [
    "print(\"Training Results\\n\")\n",
    "print(classification_report(y_train1, ypred_train8))"
   ]
  },
  {
   "cell_type": "code",
   "execution_count": null,
   "metadata": {},
   "outputs": [
    {
     "name": "stdout",
     "output_type": "stream",
     "text": [
      "Testing Results\n",
      "\n",
      "              precision    recall  f1-score   support\n",
      "\n",
      "         0.0       0.93      0.86      0.89     57554\n",
      "         1.0       0.87      0.93      0.90     57340\n",
      "\n",
      "    accuracy                           0.90    114894\n",
      "   macro avg       0.90      0.90      0.90    114894\n",
      "weighted avg       0.90      0.90      0.90    114894\n",
      "\n"
     ]
    }
   ],
   "source": [
    "print('Testing Results\\n')\n",
    "print(classification_report(y_test1, y_pred_test8))"
   ]
  },
  {
   "cell_type": "code",
   "execution_count": null,
   "metadata": {},
   "outputs": [
    {
     "data": {
      "image/png": "[encoded data removed]",
      "text/plain": [
       "<Figure size 640x480 with 1 Axes>"
      ]
     },
     "metadata": {},
     "output_type": "display_data"
    }
   ],
   "source": [
    "\n",
    "y_proba_test = grid_cv.predict_proba(x_test1)[:, 1]\n",
    "\n",
    "fpr, tpr, thresholds = roc_curve(y_test1, y_proba_test)\n",
    "\n",
    "plt.plot(fpr, tpr, label='ROC Curve')\n",
    "plt.xlabel('False Positive Rate')\n",
    "plt.ylabel('True Positive Rate')\n",
    "plt.title('ROC Curve with AUC = {:.2f}'.format(roc_auc_score(y_test1, y_proba_test)))\n",
    "plt.legend(loc='lower right')\n",
    "plt.grid(True)\n",
    "plt.show()"
   ]
  },
  {
   "cell_type": "markdown",
   "metadata": {},
   "source": [
    "## SIECI NEURONOWE"
   ]
  },
  {
   "cell_type": "markdown",
   "metadata": {},
   "source": [
    "## ANN"
   ]
  },
  {
   "cell_type": "code",
   "execution_count": null,
   "metadata": {},
   "outputs": [
    {
     "name": "stdout",
     "output_type": "stream",
     "text": [
      "WARNING:tensorflow:From C:\\Users\\DELL\\AppData\\Roaming\\Python\\Python311\\site-packages\\keras\\src\\backend.py:873: The name tf.get_default_graph is deprecated. Please use tf.compat.v1.get_default_graph instead.\n",
      "\n"
     ]
    }
   ],
   "source": [
    "ann = tf.keras.models.Sequential()"
   ]
  },
  {
   "cell_type": "code",
   "execution_count": null,
   "metadata": {},
   "outputs": [],
   "source": [
    "early_stop = EarlyStopping(monitor='val_loss', mode='min', verbose=1, patience=25)\n"
   ]
  },
  {
   "cell_type": "code",
   "execution_count": null,
   "metadata": {},
   "outputs": [],
   "source": [
    "ann.add(tf.keras.layers.Dense(units=14, activation='relu'))"
   ]
  },
  {
   "cell_type": "code",
   "execution_count": null,
   "metadata": {},
   "outputs": [],
   "source": [
    "ann.add(tf.keras.layers.Dense(units=6, activation='relu'))"
   ]
  },
  {
   "cell_type": "code",
   "execution_count": null,
   "metadata": {},
   "outputs": [],
   "source": [
    "ann.add(tf.keras.layers.Dense(units=1, activation='sigmoid'))"
   ]
  },
  {
   "cell_type": "code",
   "execution_count": null,
   "metadata": {},
   "outputs": [
    {
     "name": "stdout",
     "output_type": "stream",
     "text": [
      "WARNING:tensorflow:From C:\\Users\\DELL\\AppData\\Roaming\\Python\\Python311\\site-packages\\keras\\src\\optimizers\\__init__.py:309: The name tf.train.Optimizer is deprecated. Please use tf.compat.v1.train.Optimizer instead.\n",
      "\n"
     ]
    }
   ],
   "source": [
    "ann.compile(optimizer = 'adam', loss = 'binary_crossentropy', metrics = ['accuracy'])"
   ]
  },
  {
   "cell_type": "code",
   "execution_count": null,
   "metadata": {},
   "outputs": [
    {
     "name": "stdout",
     "output_type": "stream",
     "text": [
      "Epoch 1/100\n",
      "WARNING:tensorflow:From C:\\Users\\DELL\\AppData\\Roaming\\Python\\Python311\\site-packages\\keras\\src\\utils\\tf_utils.py:492: The name tf.ragged.RaggedTensorValue is deprecated. Please use tf.compat.v1.ragged.RaggedTensorValue instead.\n",
      "\n",
      "WARNING:tensorflow:From C:\\Users\\DELL\\AppData\\Roaming\\Python\\Python311\\site-packages\\keras\\src\\engine\\base_layer_utils.py:384: The name tf.executing_eagerly_outside_functions is deprecated. Please use tf.compat.v1.executing_eagerly_outside_functions instead.\n",
      "\n",
      "10772/10772 [==============================] - 29s 3ms/step - loss: 0.4914 - accuracy: 0.7634 - val_loss: 0.4853 - val_accuracy: 0.7676\n",
      "Epoch 2/100\n",
      "10772/10772 [==============================] - 28s 3ms/step - loss: 0.4812 - accuracy: 0.7705 - val_loss: 0.4811 - val_accuracy: 0.7701\n",
      "Epoch 3/100\n",
      "10772/10772 [==============================] - 28s 3ms/step - loss: 0.4801 - accuracy: 0.7713 - val_loss: 0.4833 - val_accuracy: 0.7687\n",
      "Epoch 4/100\n",
      "10772/10772 [==============================] - 19s 2ms/step - loss: 0.4794 - accuracy: 0.7719 - val_loss: 0.4801 - val_accuracy: 0.7713\n",
      "Epoch 5/100\n",
      "10772/10772 [==============================] - 18s 2ms/step - loss: 0.4791 - accuracy: 0.7723 - val_loss: 0.4816 - val_accuracy: 0.7700\n",
      "Epoch 6/100\n",
      "10772/10772 [==============================] - 14s 1ms/step - loss: 0.4789 - accuracy: 0.7722 - val_loss: 0.4805 - val_accuracy: 0.7699\n",
      "Epoch 7/100\n",
      "10772/10772 [==============================] - 12s 1ms/step - loss: 0.4785 - accuracy: 0.7727 - val_loss: 0.4792 - val_accuracy: 0.7716\n",
      "Epoch 8/100\n",
      "10772/10772 [==============================] - 13s 1ms/step - loss: 0.4784 - accuracy: 0.7721 - val_loss: 0.4809 - val_accuracy: 0.7704\n",
      "Epoch 9/100\n",
      "10772/10772 [==============================] - 13s 1ms/step - loss: 0.4783 - accuracy: 0.7728 - val_loss: 0.4787 - val_accuracy: 0.7712\n",
      "Epoch 10/100\n",
      "10772/10772 [==============================] - 12s 1ms/step - loss: 0.4782 - accuracy: 0.7728 - val_loss: 0.4799 - val_accuracy: 0.7707\n",
      "Epoch 11/100\n",
      "10772/10772 [==============================] - 12s 1ms/step - loss: 0.4779 - accuracy: 0.7732 - val_loss: 0.4790 - val_accuracy: 0.7716\n",
      "Epoch 12/100\n",
      "10772/10772 [==============================] - 12s 1ms/step - loss: 0.4778 - accuracy: 0.7731 - val_loss: 0.4784 - val_accuracy: 0.7725\n",
      "Epoch 13/100\n",
      "10772/10772 [==============================] - 12s 1ms/step - loss: 0.4777 - accuracy: 0.7729 - val_loss: 0.4810 - val_accuracy: 0.7708\n",
      "Epoch 14/100\n",
      "10772/10772 [==============================] - 12s 1ms/step - loss: 0.4777 - accuracy: 0.7731 - val_loss: 0.4822 - val_accuracy: 0.7708\n",
      "Epoch 15/100\n",
      "10772/10772 [==============================] - 12s 1ms/step - loss: 0.4776 - accuracy: 0.7734 - val_loss: 0.4791 - val_accuracy: 0.7716\n",
      "Epoch 16/100\n",
      "10772/10772 [==============================] - 12s 1ms/step - loss: 0.4774 - accuracy: 0.7730 - val_loss: 0.4786 - val_accuracy: 0.7722\n",
      "Epoch 17/100\n",
      "10772/10772 [==============================] - 12s 1ms/step - loss: 0.4773 - accuracy: 0.7734 - val_loss: 0.4781 - val_accuracy: 0.7720\n",
      "Epoch 18/100\n",
      "10772/10772 [==============================] - 12s 1ms/step - loss: 0.4773 - accuracy: 0.7731 - val_loss: 0.4786 - val_accuracy: 0.7720\n",
      "Epoch 19/100\n",
      "10772/10772 [==============================] - 12s 1ms/step - loss: 0.4773 - accuracy: 0.7733 - val_loss: 0.4791 - val_accuracy: 0.7716\n",
      "Epoch 20/100\n",
      "10772/10772 [==============================] - 12s 1ms/step - loss: 0.4772 - accuracy: 0.7734 - val_loss: 0.4789 - val_accuracy: 0.7715\n",
      "Epoch 21/100\n",
      "10772/10772 [==============================] - 12s 1ms/step - loss: 0.4772 - accuracy: 0.7734 - val_loss: 0.4783 - val_accuracy: 0.7719\n",
      "Epoch 22/100\n",
      "10772/10772 [==============================] - 12s 1ms/step - loss: 0.4771 - accuracy: 0.7734 - val_loss: 0.4787 - val_accuracy: 0.7717\n",
      "Epoch 23/100\n",
      "10772/10772 [==============================] - 12s 1ms/step - loss: 0.4771 - accuracy: 0.7733 - val_loss: 0.4793 - val_accuracy: 0.7721\n",
      "Epoch 24/100\n",
      "10772/10772 [==============================] - 12s 1ms/step - loss: 0.4770 - accuracy: 0.7735 - val_loss: 0.4785 - val_accuracy: 0.7713\n",
      "Epoch 25/100\n",
      "10772/10772 [==============================] - 12s 1ms/step - loss: 0.4770 - accuracy: 0.7738 - val_loss: 0.4780 - val_accuracy: 0.7725\n",
      "Epoch 26/100\n",
      "10772/10772 [==============================] - 12s 1ms/step - loss: 0.4770 - accuracy: 0.7738 - val_loss: 0.4785 - val_accuracy: 0.7719\n",
      "Epoch 27/100\n",
      "10772/10772 [==============================] - 12s 1ms/step - loss: 0.4770 - accuracy: 0.7734 - val_loss: 0.4779 - val_accuracy: 0.7719\n",
      "Epoch 28/100\n",
      "10772/10772 [==============================] - 12s 1ms/step - loss: 0.4769 - accuracy: 0.7738 - val_loss: 0.4781 - val_accuracy: 0.7720\n",
      "Epoch 29/100\n",
      "10772/10772 [==============================] - 12s 1ms/step - loss: 0.4769 - accuracy: 0.7739 - val_loss: 0.4782 - val_accuracy: 0.7721\n",
      "Epoch 30/100\n",
      "10772/10772 [==============================] - 12s 1ms/step - loss: 0.4769 - accuracy: 0.7737 - val_loss: 0.4785 - val_accuracy: 0.7722\n",
      "Epoch 31/100\n",
      "10772/10772 [==============================] - 12s 1ms/step - loss: 0.4769 - accuracy: 0.7737 - val_loss: 0.4779 - val_accuracy: 0.7727\n",
      "Epoch 32/100\n",
      "10772/10772 [==============================] - 12s 1ms/step - loss: 0.4768 - accuracy: 0.7737 - val_loss: 0.4783 - val_accuracy: 0.7722\n",
      "Epoch 33/100\n",
      "10772/10772 [==============================] - 12s 1ms/step - loss: 0.4768 - accuracy: 0.7733 - val_loss: 0.4792 - val_accuracy: 0.7719\n",
      "Epoch 34/100\n",
      "10772/10772 [==============================] - 12s 1ms/step - loss: 0.4768 - accuracy: 0.7740 - val_loss: 0.4780 - val_accuracy: 0.7718\n",
      "Epoch 35/100\n",
      "10772/10772 [==============================] - 12s 1ms/step - loss: 0.4767 - accuracy: 0.7741 - val_loss: 0.4788 - val_accuracy: 0.7722\n",
      "Epoch 36/100\n",
      "10772/10772 [==============================] - 12s 1ms/step - loss: 0.4767 - accuracy: 0.7739 - val_loss: 0.4787 - val_accuracy: 0.7724\n",
      "Epoch 37/100\n",
      "10772/10772 [==============================] - 12s 1ms/step - loss: 0.4767 - accuracy: 0.7739 - val_loss: 0.4779 - val_accuracy: 0.7722\n",
      "Epoch 38/100\n",
      "10772/10772 [==============================] - 12s 1ms/step - loss: 0.4767 - accuracy: 0.7738 - val_loss: 0.4784 - val_accuracy: 0.7723\n",
      "Epoch 39/100\n",
      "10772/10772 [==============================] - 12s 1ms/step - loss: 0.4767 - accuracy: 0.7740 - val_loss: 0.4781 - val_accuracy: 0.7722\n",
      "Epoch 40/100\n",
      "10772/10772 [==============================] - 12s 1ms/step - loss: 0.4767 - accuracy: 0.7739 - val_loss: 0.4786 - val_accuracy: 0.7721\n",
      "Epoch 41/100\n",
      "10772/10772 [==============================] - 12s 1ms/step - loss: 0.4766 - accuracy: 0.7738 - val_loss: 0.4780 - val_accuracy: 0.7726\n",
      "Epoch 42/100\n",
      "10772/10772 [==============================] - 12s 1ms/step - loss: 0.4766 - accuracy: 0.7739 - val_loss: 0.4778 - val_accuracy: 0.7725\n",
      "Epoch 43/100\n",
      "10772/10772 [==============================] - 12s 1ms/step - loss: 0.4766 - accuracy: 0.7741 - val_loss: 0.4791 - val_accuracy: 0.7713\n",
      "Epoch 44/100\n",
      "10772/10772 [==============================] - 12s 1ms/step - loss: 0.4766 - accuracy: 0.7739 - val_loss: 0.4781 - val_accuracy: 0.7722\n",
      "Epoch 45/100\n",
      "10772/10772 [==============================] - 12s 1ms/step - loss: 0.4766 - accuracy: 0.7739 - val_loss: 0.4777 - val_accuracy: 0.7726\n",
      "Epoch 46/100\n",
      "10772/10772 [==============================] - 13s 1ms/step - loss: 0.4765 - accuracy: 0.7738 - val_loss: 0.4782 - val_accuracy: 0.7728\n",
      "Epoch 47/100\n",
      "10772/10772 [==============================] - 12s 1ms/step - loss: 0.4765 - accuracy: 0.7740 - val_loss: 0.4779 - val_accuracy: 0.7729\n",
      "Epoch 48/100\n",
      "10772/10772 [==============================] - 12s 1ms/step - loss: 0.4765 - accuracy: 0.7740 - val_loss: 0.4791 - val_accuracy: 0.7718\n",
      "Epoch 49/100\n",
      "10772/10772 [==============================] - 12s 1ms/step - loss: 0.4765 - accuracy: 0.7738 - val_loss: 0.4779 - val_accuracy: 0.7723\n",
      "Epoch 50/100\n",
      "10772/10772 [==============================] - 12s 1ms/step - loss: 0.4765 - accuracy: 0.7741 - val_loss: 0.4781 - val_accuracy: 0.7724\n",
      "Epoch 51/100\n",
      "10772/10772 [==============================] - 12s 1ms/step - loss: 0.4764 - accuracy: 0.7739 - val_loss: 0.4783 - val_accuracy: 0.7729\n",
      "Epoch 52/100\n",
      "10772/10772 [==============================] - 12s 1ms/step - loss: 0.4765 - accuracy: 0.7740 - val_loss: 0.4777 - val_accuracy: 0.7722\n",
      "Epoch 53/100\n",
      "10772/10772 [==============================] - 12s 1ms/step - loss: 0.4765 - accuracy: 0.7739 - val_loss: 0.4783 - val_accuracy: 0.7724\n",
      "Epoch 54/100\n",
      "10772/10772 [==============================] - 12s 1ms/step - loss: 0.4764 - accuracy: 0.7738 - val_loss: 0.4779 - val_accuracy: 0.7723\n",
      "Epoch 55/100\n",
      "10772/10772 [==============================] - 12s 1ms/step - loss: 0.4765 - accuracy: 0.7739 - val_loss: 0.4776 - val_accuracy: 0.7728\n",
      "Epoch 56/100\n",
      "10772/10772 [==============================] - 12s 1ms/step - loss: 0.4764 - accuracy: 0.7741 - val_loss: 0.4780 - val_accuracy: 0.7723\n",
      "Epoch 57/100\n",
      "10772/10772 [==============================] - 12s 1ms/step - loss: 0.4764 - accuracy: 0.7739 - val_loss: 0.4780 - val_accuracy: 0.7726\n",
      "Epoch 58/100\n",
      "10772/10772 [==============================] - 12s 1ms/step - loss: 0.4763 - accuracy: 0.7742 - val_loss: 0.4786 - val_accuracy: 0.7722\n",
      "Epoch 59/100\n",
      "10772/10772 [==============================] - 12s 1ms/step - loss: 0.4764 - accuracy: 0.7739 - val_loss: 0.4776 - val_accuracy: 0.7731\n",
      "Epoch 60/100\n",
      "10772/10772 [==============================] - 12s 1ms/step - loss: 0.4763 - accuracy: 0.7743 - val_loss: 0.4773 - val_accuracy: 0.7721\n",
      "Epoch 61/100\n",
      "10772/10772 [==============================] - 12s 1ms/step - loss: 0.4764 - accuracy: 0.7738 - val_loss: 0.4784 - val_accuracy: 0.7721\n",
      "Epoch 62/100\n",
      "10772/10772 [==============================] - 12s 1ms/step - loss: 0.4763 - accuracy: 0.7741 - val_loss: 0.4801 - val_accuracy: 0.7708\n",
      "Epoch 63/100\n",
      "10772/10772 [==============================] - 12s 1ms/step - loss: 0.4763 - accuracy: 0.7737 - val_loss: 0.4777 - val_accuracy: 0.7726\n",
      "Epoch 64/100\n",
      "10772/10772 [==============================] - 12s 1ms/step - loss: 0.4763 - accuracy: 0.7738 - val_loss: 0.4776 - val_accuracy: 0.7727\n",
      "Epoch 65/100\n",
      "10772/10772 [==============================] - 12s 1ms/step - loss: 0.4763 - accuracy: 0.7740 - val_loss: 0.4790 - val_accuracy: 0.7718\n",
      "Epoch 66/100\n",
      "10772/10772 [==============================] - 12s 1ms/step - loss: 0.4763 - accuracy: 0.7738 - val_loss: 0.4780 - val_accuracy: 0.7718\n",
      "Epoch 67/100\n",
      "10772/10772 [==============================] - 12s 1ms/step - loss: 0.4763 - accuracy: 0.7738 - val_loss: 0.4782 - val_accuracy: 0.7723\n",
      "Epoch 68/100\n",
      "10772/10772 [==============================] - 12s 1ms/step - loss: 0.4762 - accuracy: 0.7738 - val_loss: 0.4778 - val_accuracy: 0.7726\n",
      "Epoch 69/100\n",
      "10772/10772 [==============================] - 13s 1ms/step - loss: 0.4762 - accuracy: 0.7737 - val_loss: 0.4774 - val_accuracy: 0.7729\n",
      "Epoch 70/100\n",
      "10772/10772 [==============================] - 18s 2ms/step - loss: 0.4762 - accuracy: 0.7739 - val_loss: 0.4775 - val_accuracy: 0.7720\n",
      "Epoch 71/100\n",
      "10772/10772 [==============================] - 20s 2ms/step - loss: 0.4762 - accuracy: 0.7740 - val_loss: 0.4777 - val_accuracy: 0.7724\n",
      "Epoch 72/100\n",
      "10772/10772 [==============================] - 17s 2ms/step - loss: 0.4762 - accuracy: 0.7738 - val_loss: 0.4782 - val_accuracy: 0.7719\n",
      "Epoch 73/100\n",
      "10772/10772 [==============================] - 19s 2ms/step - loss: 0.4761 - accuracy: 0.7740 - val_loss: 0.4802 - val_accuracy: 0.7709\n",
      "Epoch 74/100\n",
      "10772/10772 [==============================] - 16s 1ms/step - loss: 0.4762 - accuracy: 0.7738 - val_loss: 0.4783 - val_accuracy: 0.7719\n",
      "Epoch 75/100\n",
      "10772/10772 [==============================] - 15s 1ms/step - loss: 0.4761 - accuracy: 0.7741 - val_loss: 0.4779 - val_accuracy: 0.7719\n",
      "Epoch 76/100\n",
      "10772/10772 [==============================] - 14s 1ms/step - loss: 0.4761 - accuracy: 0.7737 - val_loss: 0.4778 - val_accuracy: 0.7727\n",
      "Epoch 77/100\n",
      "10772/10772 [==============================] - 13s 1ms/step - loss: 0.4761 - accuracy: 0.7739 - val_loss: 0.4776 - val_accuracy: 0.7718\n",
      "Epoch 78/100\n",
      "10772/10772 [==============================] - 13s 1ms/step - loss: 0.4761 - accuracy: 0.7737 - val_loss: 0.4775 - val_accuracy: 0.7726\n",
      "Epoch 79/100\n",
      "10772/10772 [==============================] - 13s 1ms/step - loss: 0.4761 - accuracy: 0.7736 - val_loss: 0.4775 - val_accuracy: 0.7729\n",
      "Epoch 80/100\n",
      "10772/10772 [==============================] - 13s 1ms/step - loss: 0.4761 - accuracy: 0.7736 - val_loss: 0.4775 - val_accuracy: 0.7724\n",
      "Epoch 81/100\n",
      "10772/10772 [==============================] - 14s 1ms/step - loss: 0.4761 - accuracy: 0.7737 - val_loss: 0.4778 - val_accuracy: 0.7725\n",
      "Epoch 82/100\n",
      "10772/10772 [==============================] - 13s 1ms/step - loss: 0.4761 - accuracy: 0.7738 - val_loss: 0.4775 - val_accuracy: 0.7718\n",
      "Epoch 83/100\n",
      "10772/10772 [==============================] - 12s 1ms/step - loss: 0.4760 - accuracy: 0.7737 - val_loss: 0.4781 - val_accuracy: 0.7727\n",
      "Epoch 84/100\n",
      "10772/10772 [==============================] - 12s 1ms/step - loss: 0.4760 - accuracy: 0.7736 - val_loss: 0.4774 - val_accuracy: 0.7722\n",
      "Epoch 85/100\n",
      "10772/10772 [==============================] - 12s 1ms/step - loss: 0.4760 - accuracy: 0.7736 - val_loss: 0.4775 - val_accuracy: 0.7725\n",
      "Epoch 85: early stopping\n"
     ]
    },
    {
     "data": {
      "text/plain": [
       "<keras.src.callbacks.History at 0x1bf4c0be9d0>"
      ]
     },
     "execution_count": 33,
     "metadata": {},
     "output_type": "execute_result"
    }
   ],
   "source": [
    "ann.fit(x_train1, y_train1, batch_size = 32, epochs=100,\n",
    "          validation_data=(x_test1, y_test1), verbose=1,\n",
    "          callbacks=[early_stop])"
   ]
  },
  {
   "cell_type": "code",
   "execution_count": null,
   "metadata": {},
   "outputs": [
    {
     "name": "stdout",
     "output_type": "stream",
     "text": [
      "10772/10772 [==============================] - 8s 752us/step\n",
      "3591/3591 [==============================] - 3s 713us/step\n",
      "[[1. 1.]\n",
      " [1. 1.]\n",
      " [1. 0.]\n",
      " ...\n",
      " [0. 0.]\n",
      " [0. 0.]\n",
      " [1. 1.]]\n"
     ]
    }
   ],
   "source": [
    "ypred_train81 = ann.predict(x_train1)\n",
    "y_pred_test81 = ann.predict(x_test1)\n",
    "\n",
    "y_pred_test81 = (y_pred_test8 > 0.5)\n",
    "ypred_train81 = (ypred_train8 > 0.5)\n",
    "print(np.concatenate((y_pred_test81.reshape(len(y_pred_test81),1), y_test1.reshape(len(y_test1),1)),1))"
   ]
  },
  {
   "cell_type": "code",
   "execution_count": null,
   "metadata": {},
   "outputs": [
    {
     "data": {
      "text/plain": [
       "0.8961129388827963"
      ]
     },
     "execution_count": 35,
     "metadata": {},
     "output_type": "execute_result"
    }
   ],
   "source": [
    "accuracy_score(y_test1, y_pred_test8)"
   ]
  },
  {
   "cell_type": "code",
   "execution_count": null,
   "metadata": {},
   "outputs": [
    {
     "name": "stdout",
     "output_type": "stream",
     "text": [
      "Training Results\n",
      "\n",
      "              precision    recall  f1-score   support\n",
      "\n",
      "         0.0       0.94      0.93      0.93    172233\n",
      "         1.0       0.93      0.94      0.93    172447\n",
      "\n",
      "    accuracy                           0.93    344680\n",
      "   macro avg       0.93      0.93      0.93    344680\n",
      "weighted avg       0.93      0.93      0.93    344680\n",
      "\n"
     ]
    }
   ],
   "source": [
    "print(\"Training Results\\n\")\n",
    "print(classification_report(y_train1, ypred_train81))"
   ]
  },
  {
   "cell_type": "code",
   "execution_count": null,
   "metadata": {},
   "outputs": [
    {
     "name": "stdout",
     "output_type": "stream",
     "text": [
      "Testing Results\n",
      "\n",
      "              precision    recall  f1-score   support\n",
      "\n",
      "         0.0       0.93      0.86      0.89     57554\n",
      "         1.0       0.87      0.93      0.90     57340\n",
      "\n",
      "    accuracy                           0.90    114894\n",
      "   macro avg       0.90      0.90      0.90    114894\n",
      "weighted avg       0.90      0.90      0.90    114894\n",
      "\n"
     ]
    }
   ],
   "source": [
    "print('Testing Results\\n')\n",
    "print(classification_report(y_test1, y_pred_test81))"
   ]
  },
  {
   "cell_type": "code",
   "execution_count": null,
   "metadata": {},
   "outputs": [
    {
     "name": "stdout",
     "output_type": "stream",
     "text": [
      "3591/3591 [==============================] - 3s 763us/step\n"
     ]
    },
    {
     "data": {
      "image/png": "[encoded data removed]",
      "text/plain": [
       "<Figure size 640x480 with 1 Axes>"
      ]
     },
     "metadata": {},
     "output_type": "display_data"
    }
   ],
   "source": [
    "\n",
    "y_proba_test = ann.predict(x_test1).flatten()\n",
    "\n",
    "fpr, tpr, thresholds = roc_curve(y_test1, y_proba_test)\n",
    "\n",
    "plt.plot(fpr, tpr, label='ROC Curve')\n",
    "plt.xlabel('False Positive Rate')\n",
    "plt.ylabel('True Positive Rate')\n",
    "plt.title('ROC Curve with AUC = {:.2f}'.format(roc_auc_score(y_test1, y_proba_test)))\n",
    "plt.legend(loc='lower right')\n",
    "plt.grid(True)\n",
    "plt.show()"
   ]
  },
  {
   "cell_type": "markdown",
   "metadata": {},
   "source": [
    "## inna proba "
   ]
  },
  {
   "cell_type": "code",
   "execution_count": null,
   "metadata": {},
   "outputs": [
    {
     "name": "stderr",
     "output_type": "stream",
     "text": [
      "WARNING:absl:`lr` is deprecated in Keras optimizer, please use `learning_rate` or use the legacy optimizer, e.g.,tf.keras.optimizers.legacy.Adam.\n"
     ]
    },
    {
     "name": "stdout",
     "output_type": "stream",
     "text": [
      "Epoch 1/100\n",
      "10772/10772 [==============================] - 11s 974us/step - loss: 0.4871 - accuracy: 0.7666\n",
      "Epoch 2/100\n",
      "10772/10772 [==============================] - 10s 942us/step - loss: 0.4804 - accuracy: 0.7706\n",
      "Epoch 3/100\n",
      "10772/10772 [==============================] - 10s 936us/step - loss: 0.4792 - accuracy: 0.7715\n",
      "Epoch 4/100\n",
      "10772/10772 [==============================] - 10s 917us/step - loss: 0.4782 - accuracy: 0.7724\n",
      "Epoch 5/100\n",
      "10772/10772 [==============================] - 10s 942us/step - loss: 0.4775 - accuracy: 0.7724\n",
      "Epoch 6/100\n",
      "10772/10772 [==============================] - 10s 961us/step - loss: 0.4769 - accuracy: 0.7727\n",
      "Epoch 7/100\n",
      "10772/10772 [==============================] - 10s 946us/step - loss: 0.4764 - accuracy: 0.7733\n",
      "Epoch 8/100\n",
      "10772/10772 [==============================] - 10s 940us/step - loss: 0.4758 - accuracy: 0.7732\n",
      "Epoch 9/100\n",
      "10772/10772 [==============================] - 10s 921us/step - loss: 0.4753 - accuracy: 0.7730\n",
      "Epoch 10/100\n",
      "10772/10772 [==============================] - 10s 941us/step - loss: 0.4748 - accuracy: 0.7737\n",
      "Epoch 11/100\n",
      "10772/10772 [==============================] - 10s 945us/step - loss: 0.4743 - accuracy: 0.7737\n",
      "Epoch 12/100\n",
      "10772/10772 [==============================] - 10s 944us/step - loss: 0.4739 - accuracy: 0.7739\n",
      "Epoch 13/100\n",
      "10772/10772 [==============================] - 10s 924us/step - loss: 0.4734 - accuracy: 0.7744\n",
      "Epoch 14/100\n",
      "10772/10772 [==============================] - 10s 922us/step - loss: 0.4728 - accuracy: 0.7744\n",
      "Epoch 15/100\n",
      "10772/10772 [==============================] - 10s 928us/step - loss: 0.4725 - accuracy: 0.7743\n",
      "Epoch 16/100\n",
      "10772/10772 [==============================] - 10s 924us/step - loss: 0.4720 - accuracy: 0.7747\n",
      "Epoch 17/100\n",
      "10772/10772 [==============================] - 10s 933us/step - loss: 0.4714 - accuracy: 0.7750\n",
      "Epoch 18/100\n",
      "10772/10772 [==============================] - 10s 921us/step - loss: 0.4711 - accuracy: 0.7753\n",
      "Epoch 19/100\n",
      "10772/10772 [==============================] - 10s 919us/step - loss: 0.4703 - accuracy: 0.7752\n",
      "Epoch 20/100\n",
      "10772/10772 [==============================] - 10s 926us/step - loss: 0.4697 - accuracy: 0.7759\n",
      "Epoch 21/100\n",
      "10772/10772 [==============================] - 10s 941us/step - loss: 0.4694 - accuracy: 0.7757\n",
      "Epoch 22/100\n",
      "10772/10772 [==============================] - 10s 944us/step - loss: 0.4690 - accuracy: 0.7758\n",
      "Epoch 23/100\n",
      "10772/10772 [==============================] - 10s 947us/step - loss: 0.4686 - accuracy: 0.7762\n",
      "Epoch 24/100\n",
      "10772/10772 [==============================] - 10s 947us/step - loss: 0.4679 - accuracy: 0.7763\n",
      "Epoch 25/100\n",
      "10772/10772 [==============================] - 10s 953us/step - loss: 0.4677 - accuracy: 0.7759\n",
      "Epoch 26/100\n",
      "10772/10772 [==============================] - 10s 941us/step - loss: 0.4671 - accuracy: 0.7768\n",
      "Epoch 27/100\n",
      "10772/10772 [==============================] - 10s 939us/step - loss: 0.4671 - accuracy: 0.7764\n",
      "Epoch 28/100\n",
      "10772/10772 [==============================] - 10s 943us/step - loss: 0.4666 - accuracy: 0.7765\n",
      "Epoch 29/100\n",
      "10772/10772 [==============================] - 10s 942us/step - loss: 0.4662 - accuracy: 0.7769\n",
      "Epoch 30/100\n",
      "10772/10772 [==============================] - 10s 942us/step - loss: 0.4656 - accuracy: 0.7771\n",
      "Epoch 31/100\n",
      "10772/10772 [==============================] - 10s 928us/step - loss: 0.4654 - accuracy: 0.7772\n",
      "Epoch 32/100\n",
      "10772/10772 [==============================] - 10s 936us/step - loss: 0.4655 - accuracy: 0.7770\n",
      "Epoch 33/100\n",
      "10772/10772 [==============================] - 10s 933us/step - loss: 0.4647 - accuracy: 0.7771\n",
      "Epoch 34/100\n",
      "10772/10772 [==============================] - 10s 945us/step - loss: 0.4646 - accuracy: 0.7773\n",
      "Epoch 35/100\n",
      "10772/10772 [==============================] - 10s 961us/step - loss: 0.4642 - accuracy: 0.7777\n",
      "Epoch 36/100\n",
      "10772/10772 [==============================] - 11s 1ms/step - loss: 0.4641 - accuracy: 0.7774\n",
      "Epoch 37/100\n",
      "10772/10772 [==============================] - 10s 964us/step - loss: 0.4636 - accuracy: 0.7778\n",
      "Epoch 38/100\n",
      "10772/10772 [==============================] - 10s 945us/step - loss: 0.4636 - accuracy: 0.7779\n",
      "Epoch 39/100\n",
      "10772/10772 [==============================] - 10s 947us/step - loss: 0.4634 - accuracy: 0.7782\n",
      "Epoch 40/100\n",
      "10772/10772 [==============================] - 10s 932us/step - loss: 0.4634 - accuracy: 0.7778\n",
      "Epoch 41/100\n",
      "10772/10772 [==============================] - 10s 937us/step - loss: 0.4630 - accuracy: 0.7780\n",
      "Epoch 42/100\n",
      "10772/10772 [==============================] - 10s 934us/step - loss: 0.4629 - accuracy: 0.7781\n",
      "Epoch 43/100\n",
      "10772/10772 [==============================] - 10s 927us/step - loss: 0.4625 - accuracy: 0.7785\n",
      "Epoch 44/100\n",
      "10772/10772 [==============================] - 10s 905us/step - loss: 0.4625 - accuracy: 0.7783\n",
      "Epoch 45/100\n",
      "10772/10772 [==============================] - 10s 922us/step - loss: 0.4622 - accuracy: 0.7784\n",
      "Epoch 46/100\n",
      "10772/10772 [==============================] - 10s 921us/step - loss: 0.4619 - accuracy: 0.7786\n",
      "Epoch 47/100\n",
      "10772/10772 [==============================] - 10s 917us/step - loss: 0.4619 - accuracy: 0.7791\n",
      "Epoch 48/100\n",
      "10772/10772 [==============================] - 10s 923us/step - loss: 0.4616 - accuracy: 0.7790\n",
      "Epoch 49/100\n",
      "10772/10772 [==============================] - 10s 924us/step - loss: 0.4616 - accuracy: 0.7789\n",
      "Epoch 50/100\n",
      "10772/10772 [==============================] - 10s 917us/step - loss: 0.4614 - accuracy: 0.7789\n",
      "Epoch 51/100\n",
      "10772/10772 [==============================] - 10s 918us/step - loss: 0.4617 - accuracy: 0.7786\n",
      "Epoch 52/100\n",
      "10772/10772 [==============================] - 10s 919us/step - loss: 0.4611 - accuracy: 0.7794\n",
      "Epoch 53/100\n",
      "10772/10772 [==============================] - 10s 924us/step - loss: 0.4610 - accuracy: 0.7793\n",
      "Epoch 54/100\n",
      "10772/10772 [==============================] - 10s 912us/step - loss: 0.4607 - accuracy: 0.7797\n",
      "Epoch 55/100\n",
      "10772/10772 [==============================] - 10s 928us/step - loss: 0.4612 - accuracy: 0.7792\n",
      "Epoch 56/100\n",
      "10772/10772 [==============================] - 10s 904us/step - loss: 0.4606 - accuracy: 0.7793\n",
      "Epoch 57/100\n",
      "10772/10772 [==============================] - 10s 917us/step - loss: 0.4607 - accuracy: 0.7794\n",
      "Epoch 58/100\n",
      "10772/10772 [==============================] - 10s 919us/step - loss: 0.4606 - accuracy: 0.7796\n",
      "Epoch 59/100\n",
      "10772/10772 [==============================] - 10s 913us/step - loss: 0.4602 - accuracy: 0.7795\n",
      "Epoch 60/100\n",
      "10772/10772 [==============================] - 10s 904us/step - loss: 0.4604 - accuracy: 0.7791\n",
      "Epoch 61/100\n",
      "10772/10772 [==============================] - 10s 903us/step - loss: 0.4606 - accuracy: 0.7796\n",
      "Epoch 62/100\n",
      "10772/10772 [==============================] - 10s 906us/step - loss: 0.4599 - accuracy: 0.7800\n",
      "Epoch 63/100\n",
      "10772/10772 [==============================] - 10s 942us/step - loss: 0.4600 - accuracy: 0.7793\n",
      "Epoch 64/100\n",
      "10772/10772 [==============================] - 10s 931us/step - loss: 0.4599 - accuracy: 0.7799\n",
      "Epoch 65/100\n",
      "10772/10772 [==============================] - 10s 939us/step - loss: 0.4595 - accuracy: 0.7801\n",
      "Epoch 66/100\n",
      "10772/10772 [==============================] - 10s 936us/step - loss: 0.4596 - accuracy: 0.7799\n",
      "Epoch 67/100\n",
      "10772/10772 [==============================] - 10s 937us/step - loss: 0.4593 - accuracy: 0.7804\n",
      "Epoch 68/100\n",
      "10772/10772 [==============================] - 10s 936us/step - loss: 0.4593 - accuracy: 0.7802\n",
      "Epoch 69/100\n",
      "10772/10772 [==============================] - 10s 931us/step - loss: 0.4596 - accuracy: 0.7803\n",
      "Epoch 70/100\n",
      "10772/10772 [==============================] - 10s 935us/step - loss: 0.4593 - accuracy: 0.7804\n",
      "Epoch 71/100\n",
      "10772/10772 [==============================] - 10s 930us/step - loss: 0.4592 - accuracy: 0.7802\n",
      "Epoch 72/100\n",
      "10772/10772 [==============================] - 10s 932us/step - loss: 0.4589 - accuracy: 0.7805\n",
      "Epoch 73/100\n",
      "10772/10772 [==============================] - 10s 934us/step - loss: 0.4590 - accuracy: 0.7804\n",
      "Epoch 74/100\n",
      "10772/10772 [==============================] - 10s 928us/step - loss: 0.4587 - accuracy: 0.7805\n",
      "Epoch 75/100\n",
      "10772/10772 [==============================] - 10s 931us/step - loss: 0.4586 - accuracy: 0.7804\n",
      "Epoch 76/100\n",
      "10772/10772 [==============================] - 10s 930us/step - loss: 0.4584 - accuracy: 0.7804\n",
      "Epoch 77/100\n",
      "10772/10772 [==============================] - 10s 922us/step - loss: 0.4586 - accuracy: 0.7807\n",
      "Epoch 78/100\n",
      "10772/10772 [==============================] - 10s 914us/step - loss: 0.4583 - accuracy: 0.7810\n",
      "Epoch 79/100\n",
      "10772/10772 [==============================] - 10s 918us/step - loss: 0.4583 - accuracy: 0.7808\n",
      "Epoch 80/100\n",
      "10772/10772 [==============================] - 10s 919us/step - loss: 0.4581 - accuracy: 0.7811\n",
      "Epoch 81/100\n",
      "10772/10772 [==============================] - 10s 918us/step - loss: 0.4577 - accuracy: 0.7810\n",
      "Epoch 82/100\n",
      "10772/10772 [==============================] - 10s 917us/step - loss: 0.4580 - accuracy: 0.7806\n",
      "Epoch 83/100\n",
      "10772/10772 [==============================] - 10s 915us/step - loss: 0.4574 - accuracy: 0.7813\n",
      "Epoch 84/100\n",
      "10772/10772 [==============================] - 10s 902us/step - loss: 0.4575 - accuracy: 0.7811\n",
      "Epoch 85/100\n",
      "10772/10772 [==============================] - 10s 910us/step - loss: 0.4574 - accuracy: 0.7811\n",
      "Epoch 86/100\n",
      "10772/10772 [==============================] - 10s 922us/step - loss: 0.4571 - accuracy: 0.7812\n",
      "Epoch 87/100\n",
      "10772/10772 [==============================] - 10s 912us/step - loss: 0.4573 - accuracy: 0.7816\n",
      "Epoch 88/100\n",
      "10772/10772 [==============================] - 11s 975us/step - loss: 0.4574 - accuracy: 0.7811\n",
      "Epoch 89/100\n",
      "10772/10772 [==============================] - 11s 989us/step - loss: 0.4573 - accuracy: 0.7818\n",
      "Epoch 90/100\n",
      "10772/10772 [==============================] - 10s 928us/step - loss: 0.4571 - accuracy: 0.7815\n",
      "Epoch 91/100\n",
      "10772/10772 [==============================] - 10s 922us/step - loss: 0.4567 - accuracy: 0.7818\n",
      "Epoch 92/100\n",
      "10772/10772 [==============================] - 10s 924us/step - loss: 0.4570 - accuracy: 0.7814\n",
      "Epoch 93/100\n",
      "10772/10772 [==============================] - 10s 916us/step - loss: 0.4569 - accuracy: 0.7817\n",
      "Epoch 94/100\n",
      "10772/10772 [==============================] - 10s 908us/step - loss: 0.4567 - accuracy: 0.7817\n",
      "Epoch 95/100\n",
      "10772/10772 [==============================] - 10s 915us/step - loss: 0.4563 - accuracy: 0.7818\n",
      "Epoch 96/100\n",
      "10772/10772 [==============================] - 10s 911us/step - loss: 0.4565 - accuracy: 0.7821\n",
      "Epoch 97/100\n",
      "10772/10772 [==============================] - 10s 938us/step - loss: 0.4564 - accuracy: 0.7817\n",
      "Epoch 98/100\n",
      "10772/10772 [==============================] - 10s 936us/step - loss: 0.4561 - accuracy: 0.7819\n",
      "Epoch 99/100\n",
      "10772/10772 [==============================] - 10s 924us/step - loss: 0.4564 - accuracy: 0.7812\n",
      "Epoch 100/100\n",
      "10772/10772 [==============================] - 10s 930us/step - loss: 0.4559 - accuracy: 0.7815\n"
     ]
    }
   ],
   "source": [
    "\n",
    "tf.random.set_seed(42)\n",
    "\n",
    "\n",
    "\n",
    "model_22 = tf.keras.Sequential([\n",
    "  tf.keras.layers.Dense(18,activation = 'relu'),\n",
    "  tf.keras.layers.Dense(36,activation = 'relu'),\n",
    "  tf.keras.layers.Dense(18,activation = 'relu'),\n",
    "  tf.keras.layers.Dense(9,activation = 'relu'),\n",
    "  tf.keras.layers.Dense(1,activation = 'sigmoid')                            \n",
    "])\n",
    "\n",
    "\n",
    "model_22.compile(loss = 'binary_crossentropy',\n",
    "                optimizer = tf.keras.optimizers.Adam(lr=0.001),\n",
    "                metrics = ['accuracy'])\n",
    "\n",
    "\n",
    "history_2 = model_22.fit(x_train1,y_train1,epochs = 100)"
   ]
  },
  {
   "cell_type": "code",
   "execution_count": null,
   "metadata": {},
   "outputs": [
    {
     "name": "stdout",
     "output_type": "stream",
     "text": [
      "3591/3591 [==============================] - 3s 798us/step - loss: 0.4620 - accuracy: 0.7770\n"
     ]
    },
    {
     "data": {
      "text/plain": [
       "[0.4620100259780884, 0.7770205736160278]"
      ]
     },
     "execution_count": 40,
     "metadata": {},
     "output_type": "execute_result"
    }
   ],
   "source": [
    "model_22.evaluate(x_test1,y_test1)"
   ]
  },
  {
   "cell_type": "code",
   "execution_count": null,
   "metadata": {},
   "outputs": [
    {
     "name": "stdout",
     "output_type": "stream",
     "text": [
      "10772/10772 [==============================] - 8s 747us/step\n",
      "3591/3591 [==============================] - 3s 729us/step\n",
      "              precision    recall  f1-score   support\n",
      "\n",
      "         0.0       0.81      0.74      0.77    172233\n",
      "         1.0       0.76      0.83      0.79    172447\n",
      "\n",
      "    accuracy                           0.78    344680\n",
      "   macro avg       0.79      0.78      0.78    344680\n",
      "weighted avg       0.79      0.78      0.78    344680\n",
      "\n",
      "              precision    recall  f1-score   support\n",
      "\n",
      "         0.0       0.80      0.73      0.77     57554\n",
      "         1.0       0.75      0.82      0.79     57340\n",
      "\n",
      "    accuracy                           0.78    114894\n",
      "   macro avg       0.78      0.78      0.78    114894\n",
      "weighted avg       0.78      0.78      0.78    114894\n",
      "\n"
     ]
    }
   ],
   "source": [
    "ypred_train221 = model_22.predict(x_train1)\n",
    "y_pred_test221 = model_22.predict(x_test1)\n",
    "\n",
    "y_pred_test221 = (y_pred_test221 > 0.5)\n",
    "ypred_train221 = (ypred_train221 > 0.5)\n",
    "\n",
    "print(classification_report(y_train1,ypred_train221))\n",
    "print(classification_report(y_test1,y_pred_test221))"
   ]
  },
  {
   "cell_type": "code",
   "execution_count": null,
   "metadata": {},
   "outputs": [
    {
     "name": "stdout",
     "output_type": "stream",
     "text": [
      "3591/3591 [==============================] - 3s 741us/step\n"
     ]
    },
    {
     "data": {
      "image/png": "[encoded data removed]",
      "text/plain": [
       "<Figure size 640x480 with 1 Axes>"
      ]
     },
     "metadata": {},
     "output_type": "display_data"
    }
   ],
   "source": [
    "\n",
    "y_proba_test = model_22.predict(x_test1).flatten()\n",
    "\n",
    "fpr, tpr, thresholds = roc_curve(y_test1, y_proba_test)\n",
    "\n",
    "plt.plot(fpr, tpr, label='ROC Curve')\n",
    "plt.xlabel('False Positive Rate')\n",
    "plt.ylabel('True Positive Rate')\n",
    "plt.title('ROC Curve with AUC = {:.2f}'.format(roc_auc_score(y_test1, y_proba_test)))\n",
    "plt.legend(loc='lower right')\n",
    "plt.grid(True)\n",
    "plt.show()"
   ]
  },
  {
   "cell_type": "markdown",
   "metadata": {},
   "source": [
    "## inne próby sieci neuronowych "
   ]
  },
  {
   "cell_type": "code",
   "execution_count": null,
   "metadata": {},
   "outputs": [
    {
     "name": "stderr",
     "output_type": "stream",
     "text": [
      "WARNING:absl:`lr` is deprecated in Keras optimizer, please use `learning_rate` or use the legacy optimizer, e.g.,tf.keras.optimizers.legacy.Adam.\n"
     ]
    },
    {
     "name": "stdout",
     "output_type": "stream",
     "text": [
      "Epoch 1/100\n",
      "10772/10772 [==============================] - 10s 929us/step - loss: 0.4908 - accuracy: 0.7635\n",
      "Epoch 2/100\n",
      "10772/10772 [==============================] - 10s 889us/step - loss: 0.4820 - accuracy: 0.7692\n",
      "Epoch 3/100\n",
      "10772/10772 [==============================] - 10s 891us/step - loss: 0.4811 - accuracy: 0.7700\n",
      "Epoch 4/100\n",
      "10772/10772 [==============================] - 10s 896us/step - loss: 0.4803 - accuracy: 0.7704\n",
      "Epoch 5/100\n",
      "10772/10772 [==============================] - 10s 939us/step - loss: 0.4797 - accuracy: 0.7713\n",
      "Epoch 6/100\n",
      "10772/10772 [==============================] - 11s 1ms/step - loss: 0.4794 - accuracy: 0.7716\n",
      "Epoch 7/100\n",
      "10772/10772 [==============================] - 10s 939us/step - loss: 0.4791 - accuracy: 0.7720\n",
      "Epoch 8/100\n",
      "10772/10772 [==============================] - 10s 937us/step - loss: 0.4788 - accuracy: 0.7717\n",
      "Epoch 9/100\n",
      "10772/10772 [==============================] - 10s 947us/step - loss: 0.4786 - accuracy: 0.7723\n",
      "Epoch 10/100\n",
      "10772/10772 [==============================] - 10s 972us/step - loss: 0.4784 - accuracy: 0.7720\n",
      "Epoch 11/100\n",
      "10772/10772 [==============================] - 11s 978us/step - loss: 0.4782 - accuracy: 0.7720\n",
      "Epoch 12/100\n",
      "10772/10772 [==============================] - 10s 957us/step - loss: 0.4782 - accuracy: 0.7718\n",
      "Epoch 13/100\n",
      "10772/10772 [==============================] - 10s 954us/step - loss: 0.4780 - accuracy: 0.7727\n",
      "Epoch 14/100\n",
      "10772/10772 [==============================] - 10s 961us/step - loss: 0.4779 - accuracy: 0.7723\n",
      "Epoch 15/100\n",
      "10772/10772 [==============================] - 10s 957us/step - loss: 0.4779 - accuracy: 0.7720\n",
      "Epoch 16/100\n",
      "10772/10772 [==============================] - 10s 955us/step - loss: 0.4778 - accuracy: 0.7723\n",
      "Epoch 17/100\n",
      "10772/10772 [==============================] - 10s 912us/step - loss: 0.4778 - accuracy: 0.7724\n",
      "Epoch 18/100\n",
      "10772/10772 [==============================] - 10s 899us/step - loss: 0.4778 - accuracy: 0.7723\n",
      "Epoch 19/100\n",
      "10772/10772 [==============================] - 10s 890us/step - loss: 0.4777 - accuracy: 0.7724\n",
      "Epoch 20/100\n",
      "10772/10772 [==============================] - 10s 883us/step - loss: 0.4776 - accuracy: 0.7721\n",
      "Epoch 21/100\n",
      "10772/10772 [==============================] - 10s 944us/step - loss: 0.4776 - accuracy: 0.7722\n",
      "Epoch 22/100\n",
      "10772/10772 [==============================] - 10s 896us/step - loss: 0.4775 - accuracy: 0.7722\n",
      "Epoch 23/100\n",
      "10772/10772 [==============================] - 10s 897us/step - loss: 0.4775 - accuracy: 0.7724\n",
      "Epoch 24/100\n",
      "10772/10772 [==============================] - 10s 904us/step - loss: 0.4774 - accuracy: 0.7721\n",
      "Epoch 25/100\n",
      "10772/10772 [==============================] - 10s 896us/step - loss: 0.4774 - accuracy: 0.7723\n",
      "Epoch 26/100\n",
      "10772/10772 [==============================] - 10s 891us/step - loss: 0.4773 - accuracy: 0.7725\n",
      "Epoch 27/100\n",
      "10772/10772 [==============================] - 10s 887us/step - loss: 0.4773 - accuracy: 0.7722\n",
      "Epoch 28/100\n",
      "10772/10772 [==============================] - 10s 896us/step - loss: 0.4773 - accuracy: 0.7724\n",
      "Epoch 29/100\n",
      "10772/10772 [==============================] - 10s 911us/step - loss: 0.4772 - accuracy: 0.7724\n",
      "Epoch 30/100\n",
      "10772/10772 [==============================] - 10s 913us/step - loss: 0.4771 - accuracy: 0.7724\n",
      "Epoch 31/100\n",
      "10772/10772 [==============================] - 10s 911us/step - loss: 0.4770 - accuracy: 0.7727\n",
      "Epoch 32/100\n",
      "10772/10772 [==============================] - 10s 903us/step - loss: 0.4771 - accuracy: 0.7726\n",
      "Epoch 33/100\n",
      "10772/10772 [==============================] - 10s 911us/step - loss: 0.4771 - accuracy: 0.7724\n",
      "Epoch 34/100\n",
      "10772/10772 [==============================] - 10s 904us/step - loss: 0.4770 - accuracy: 0.7727\n",
      "Epoch 35/100\n",
      "10772/10772 [==============================] - 10s 897us/step - loss: 0.4769 - accuracy: 0.7725\n",
      "Epoch 36/100\n",
      "10772/10772 [==============================] - 10s 898us/step - loss: 0.4769 - accuracy: 0.7723\n",
      "Epoch 37/100\n",
      "10772/10772 [==============================] - 10s 930us/step - loss: 0.4769 - accuracy: 0.7728\n",
      "Epoch 38/100\n",
      "10772/10772 [==============================] - 10s 952us/step - loss: 0.4769 - accuracy: 0.7728\n",
      "Epoch 39/100\n",
      "10772/10772 [==============================] - 11s 999us/step - loss: 0.4768 - accuracy: 0.7726\n",
      "Epoch 40/100\n",
      "10772/10772 [==============================] - 14s 1ms/step - loss: 0.4768 - accuracy: 0.7727\n",
      "Epoch 41/100\n",
      "10772/10772 [==============================] - 15s 1ms/step - loss: 0.4768 - accuracy: 0.7725\n",
      "Epoch 42/100\n",
      "10772/10772 [==============================] - 14s 1ms/step - loss: 0.4768 - accuracy: 0.7724\n",
      "Epoch 43/100\n",
      "10772/10772 [==============================] - 14s 1ms/step - loss: 0.4767 - accuracy: 0.7727\n",
      "Epoch 44/100\n",
      "10772/10772 [==============================] - 14s 1ms/step - loss: 0.4767 - accuracy: 0.7724\n",
      "Epoch 45/100\n",
      "10772/10772 [==============================] - 14s 1ms/step - loss: 0.4767 - accuracy: 0.7726\n",
      "Epoch 46/100\n",
      "10772/10772 [==============================] - 14s 1ms/step - loss: 0.4766 - accuracy: 0.7725\n",
      "Epoch 47/100\n",
      "10772/10772 [==============================] - 14s 1ms/step - loss: 0.4766 - accuracy: 0.7729\n",
      "Epoch 48/100\n",
      "10772/10772 [==============================] - 14s 1ms/step - loss: 0.4766 - accuracy: 0.7729\n",
      "Epoch 49/100\n",
      "10772/10772 [==============================] - 14s 1ms/step - loss: 0.4766 - accuracy: 0.7725\n",
      "Epoch 50/100\n",
      "10772/10772 [==============================] - 14s 1ms/step - loss: 0.4765 - accuracy: 0.7728\n",
      "Epoch 51/100\n",
      "10772/10772 [==============================] - 14s 1ms/step - loss: 0.4766 - accuracy: 0.7726\n",
      "Epoch 52/100\n",
      "10772/10772 [==============================] - 14s 1ms/step - loss: 0.4765 - accuracy: 0.7726\n",
      "Epoch 53/100\n",
      "10772/10772 [==============================] - 14s 1ms/step - loss: 0.4765 - accuracy: 0.7729\n",
      "Epoch 54/100\n",
      "10772/10772 [==============================] - 14s 1ms/step - loss: 0.4765 - accuracy: 0.7726\n",
      "Epoch 55/100\n",
      "10772/10772 [==============================] - 13s 1ms/step - loss: 0.4766 - accuracy: 0.7728\n",
      "Epoch 56/100\n",
      "10772/10772 [==============================] - 14s 1ms/step - loss: 0.4765 - accuracy: 0.7726\n",
      "Epoch 57/100\n",
      "10772/10772 [==============================] - 13s 1ms/step - loss: 0.4765 - accuracy: 0.7726\n",
      "Epoch 58/100\n",
      "10772/10772 [==============================] - 13s 1ms/step - loss: 0.4764 - accuracy: 0.7726\n",
      "Epoch 59/100\n",
      "10772/10772 [==============================] - 13s 1ms/step - loss: 0.4764 - accuracy: 0.7727\n",
      "Epoch 60/100\n",
      "10772/10772 [==============================] - 13s 1ms/step - loss: 0.4764 - accuracy: 0.7727\n",
      "Epoch 61/100\n",
      "10772/10772 [==============================] - 14s 1ms/step - loss: 0.4764 - accuracy: 0.7728\n",
      "Epoch 62/100\n",
      "10772/10772 [==============================] - 14s 1ms/step - loss: 0.4763 - accuracy: 0.7729\n",
      "Epoch 63/100\n",
      "10772/10772 [==============================] - 14s 1ms/step - loss: 0.4763 - accuracy: 0.7727\n",
      "Epoch 64/100\n",
      "10772/10772 [==============================] - 14s 1ms/step - loss: 0.4763 - accuracy: 0.7727\n",
      "Epoch 65/100\n",
      "10772/10772 [==============================] - 13s 1ms/step - loss: 0.4763 - accuracy: 0.7726\n",
      "Epoch 66/100\n",
      "10772/10772 [==============================] - 13s 1ms/step - loss: 0.4763 - accuracy: 0.7726\n",
      "Epoch 67/100\n",
      "10772/10772 [==============================] - 13s 1ms/step - loss: 0.4762 - accuracy: 0.7728\n",
      "Epoch 68/100\n",
      "10772/10772 [==============================] - 13s 1ms/step - loss: 0.4762 - accuracy: 0.7728\n",
      "Epoch 69/100\n",
      "10772/10772 [==============================] - 13s 1ms/step - loss: 0.4762 - accuracy: 0.7731\n",
      "Epoch 70/100\n",
      "10772/10772 [==============================] - 14s 1ms/step - loss: 0.4762 - accuracy: 0.7725\n",
      "Epoch 71/100\n",
      "10772/10772 [==============================] - 13s 1ms/step - loss: 0.4762 - accuracy: 0.7726\n",
      "Epoch 72/100\n",
      "10772/10772 [==============================] - 13s 1ms/step - loss: 0.4761 - accuracy: 0.7728\n",
      "Epoch 73/100\n",
      "10772/10772 [==============================] - 14s 1ms/step - loss: 0.4762 - accuracy: 0.7728\n",
      "Epoch 74/100\n",
      "10772/10772 [==============================] - 14s 1ms/step - loss: 0.4761 - accuracy: 0.7731\n",
      "Epoch 75/100\n",
      "10772/10772 [==============================] - 14s 1ms/step - loss: 0.4761 - accuracy: 0.7724\n",
      "Epoch 76/100\n",
      "10772/10772 [==============================] - 13s 1ms/step - loss: 0.4762 - accuracy: 0.7726\n",
      "Epoch 77/100\n",
      "10772/10772 [==============================] - 13s 1ms/step - loss: 0.4761 - accuracy: 0.7728\n",
      "Epoch 78/100\n",
      "10772/10772 [==============================] - 13s 1ms/step - loss: 0.4761 - accuracy: 0.7725\n",
      "Epoch 79/100\n",
      "10772/10772 [==============================] - 13s 1ms/step - loss: 0.4761 - accuracy: 0.7728\n",
      "Epoch 80/100\n",
      "10772/10772 [==============================] - 13s 1ms/step - loss: 0.4760 - accuracy: 0.7727\n",
      "Epoch 81/100\n",
      "10772/10772 [==============================] - 13s 1ms/step - loss: 0.4760 - accuracy: 0.7729\n",
      "Epoch 82/100\n",
      "10772/10772 [==============================] - 13s 1ms/step - loss: 0.4760 - accuracy: 0.7727\n",
      "Epoch 83/100\n",
      "10772/10772 [==============================] - 14s 1ms/step - loss: 0.4759 - accuracy: 0.7727\n",
      "Epoch 84/100\n",
      "10772/10772 [==============================] - 14s 1ms/step - loss: 0.4760 - accuracy: 0.7727\n",
      "Epoch 85/100\n",
      "10772/10772 [==============================] - 14s 1ms/step - loss: 0.4760 - accuracy: 0.7726\n",
      "Epoch 86/100\n",
      "10772/10772 [==============================] - 13s 1ms/step - loss: 0.4760 - accuracy: 0.7725\n",
      "Epoch 87/100\n",
      "10772/10772 [==============================] - 13s 1ms/step - loss: 0.4760 - accuracy: 0.7726\n",
      "Epoch 88/100\n",
      "10772/10772 [==============================] - 13s 1ms/step - loss: 0.4759 - accuracy: 0.7725\n",
      "Epoch 89/100\n",
      "10772/10772 [==============================] - 14s 1ms/step - loss: 0.4759 - accuracy: 0.7727\n",
      "Epoch 90/100\n",
      "10772/10772 [==============================] - 14s 1ms/step - loss: 0.4758 - accuracy: 0.7728\n",
      "Epoch 91/100\n",
      "10772/10772 [==============================] - 13s 1ms/step - loss: 0.4759 - accuracy: 0.7727\n",
      "Epoch 92/100\n",
      "10772/10772 [==============================] - 13s 1ms/step - loss: 0.4758 - accuracy: 0.7729\n",
      "Epoch 93/100\n",
      "10772/10772 [==============================] - 13s 1ms/step - loss: 0.4758 - accuracy: 0.7725\n",
      "Epoch 94/100\n",
      "10772/10772 [==============================] - 14s 1ms/step - loss: 0.4757 - accuracy: 0.7725\n",
      "Epoch 95/100\n",
      "10772/10772 [==============================] - 14s 1ms/step - loss: 0.4758 - accuracy: 0.7728\n",
      "Epoch 96/100\n",
      "10772/10772 [==============================] - 13s 1ms/step - loss: 0.4757 - accuracy: 0.7730\n",
      "Epoch 97/100\n",
      "10772/10772 [==============================] - 13s 1ms/step - loss: 0.4757 - accuracy: 0.7726\n",
      "Epoch 98/100\n",
      "10772/10772 [==============================] - 13s 1ms/step - loss: 0.4757 - accuracy: 0.7727\n",
      "Epoch 99/100\n",
      "10772/10772 [==============================] - 14s 1ms/step - loss: 0.4757 - accuracy: 0.7729\n",
      "Epoch 100/100\n",
      "10772/10772 [==============================] - 14s 1ms/step - loss: 0.4757 - accuracy: 0.7727\n"
     ]
    }
   ],
   "source": [
    "\n",
    "tf.random.set_seed(42)\n",
    "\n",
    "\n",
    "\n",
    "model_2 = tf.keras.Sequential([\n",
    "  tf.keras.layers.Dense(14,activation = 'relu'),\n",
    "  tf.keras.layers.Dense(6,activation = 'relu'),\n",
    "  tf.keras.layers.Dense(6,activation = 'relu'),\n",
    "  tf.keras.layers.Dense(1,activation = 'sigmoid')                            \n",
    "])\n",
    "\n",
    "\n",
    "model_2.compile(loss = 'binary_crossentropy',\n",
    "                optimizer = tf.keras.optimizers.Adam(lr=0.001),\n",
    "                metrics = ['accuracy'])\n",
    "\n",
    "\n",
    "history_2 = model_2.fit(x_train1,y_train1,epochs = 100)"
   ]
  },
  {
   "cell_type": "code",
   "execution_count": null,
   "metadata": {},
   "outputs": [
    {
     "name": "stdout",
     "output_type": "stream",
     "text": [
      "3591/3591 [==============================] - 3s 855us/step - loss: 0.4769 - accuracy: 0.7707\n"
     ]
    },
    {
     "data": {
      "text/plain": [
       "[0.4768812656402588, 0.7706755995750427]"
      ]
     },
     "execution_count": 44,
     "metadata": {},
     "output_type": "execute_result"
    }
   ],
   "source": [
    "model_2.evaluate(x_test1,y_test1)"
   ]
  },
  {
   "cell_type": "code",
   "execution_count": null,
   "metadata": {},
   "outputs": [
    {
     "name": "stdout",
     "output_type": "stream",
     "text": [
      "10772/10772 [==============================] - 9s 787us/step\n",
      "3591/3591 [==============================] - 3s 789us/step\n",
      "              precision    recall  f1-score   support\n",
      "\n",
      "         0.0       0.79      0.74      0.76    172233\n",
      "         1.0       0.75      0.81      0.78    172447\n",
      "\n",
      "    accuracy                           0.77    344680\n",
      "   macro avg       0.77      0.77      0.77    344680\n",
      "weighted avg       0.77      0.77      0.77    344680\n",
      "\n",
      "              precision    recall  f1-score   support\n",
      "\n",
      "         0.0       0.79      0.73      0.76     57554\n",
      "         1.0       0.75      0.81      0.78     57340\n",
      "\n",
      "    accuracy                           0.77    114894\n",
      "   macro avg       0.77      0.77      0.77    114894\n",
      "weighted avg       0.77      0.77      0.77    114894\n",
      "\n"
     ]
    }
   ],
   "source": [
    "ypred_train111 = model_2.predict(x_train1)\n",
    "y_pred_test111 = model_2.predict(x_test1)\n",
    "\n",
    "y_pred_test111 = (y_pred_test111 > 0.5)\n",
    "ypred_train111 = (ypred_train111 > 0.5)\n",
    "\n",
    "print(classification_report(y_train1,ypred_train111))\n",
    "print(classification_report(y_test1,y_pred_test111))"
   ]
  },
  {
   "cell_type": "code",
   "execution_count": null,
   "metadata": {},
   "outputs": [
    {
     "name": "stdout",
     "output_type": "stream",
     "text": [
      "3591/3591 [==============================] - 3s 842us/step\n"
     ]
    },
    {
     "data": {
      "image/png": "[encoded data removed]",
      "text/plain": [
       "<Figure size 640x480 with 1 Axes>"
      ]
     },
     "metadata": {},
     "output_type": "display_data"
    }
   ],
   "source": [
    "\n",
    "y_proba_test = model_2.predict(x_test1).flatten()\n",
    "\n",
    "fpr, tpr, thresholds = roc_curve(y_test1, y_proba_test)\n",
    "\n",
    "plt.plot(fpr, tpr, label='ROC Curve')\n",
    "plt.xlabel('False Positive Rate')\n",
    "plt.ylabel('True Positive Rate')\n",
    "plt.title('ROC Curve with AUC = {:.2f}'.format(roc_auc_score(y_test1, y_proba_test)))\n",
    "plt.legend(loc='lower right')\n",
    "plt.grid(True)\n",
    "plt.show()"
   ]
  },
  {
   "cell_type": "markdown",
   "metadata": {},
   "source": [
    "## inne próby sieci neuronowych "
   ]
  },
  {
   "cell_type": "code",
   "execution_count": null,
   "metadata": {},
   "outputs": [],
   "source": [
    "model1 = Sequential()\n",
    "model1.add(Dense(units=30,activation='relu'))\n",
    "model1.add(Dropout(0.5))\n",
    "\n",
    "model1.add(Dense(units=15,activation='relu'))\n",
    "model1.add(Dropout(0.5))\n",
    "\n",
    "model1.add(Dense(units=1,activation='sigmoid'))\n",
    "model1.compile(loss='binary_crossentropy', optimizer='adam')"
   ]
  },
  {
   "cell_type": "code",
   "execution_count": null,
   "metadata": {},
   "outputs": [
    {
     "name": "stdout",
     "output_type": "stream",
     "text": [
      "Epoch 1/100\n",
      "10772/10772 [==============================] - 16s 1ms/step - loss: 0.5333 - val_loss: 0.4847\n",
      "Epoch 2/100\n",
      "10772/10772 [==============================] - 15s 1ms/step - loss: 0.5120 - val_loss: 0.4835\n",
      "Epoch 3/100\n",
      "10772/10772 [==============================] - 15s 1ms/step - loss: 0.5109 - val_loss: 0.4825\n",
      "Epoch 4/100\n",
      "10772/10772 [==============================] - 15s 1ms/step - loss: 0.5099 - val_loss: 0.4814\n",
      "Epoch 5/100\n",
      "10772/10772 [==============================] - 15s 1ms/step - loss: 0.5088 - val_loss: 0.4811\n",
      "Epoch 6/100\n",
      "10772/10772 [==============================] - 15s 1ms/step - loss: 0.5080 - val_loss: 0.4820\n",
      "Epoch 7/100\n",
      "10772/10772 [==============================] - 15s 1ms/step - loss: 0.5086 - val_loss: 0.4827\n",
      "Epoch 8/100\n",
      "10772/10772 [==============================] - 15s 1ms/step - loss: 0.5079 - val_loss: 0.4817\n",
      "Epoch 9/100\n",
      "10772/10772 [==============================] - 15s 1ms/step - loss: 0.5077 - val_loss: 0.4833\n",
      "Epoch 10/100\n",
      "10772/10772 [==============================] - 15s 1ms/step - loss: 0.5075 - val_loss: 0.4814\n",
      "Epoch 11/100\n",
      "10772/10772 [==============================] - 15s 1ms/step - loss: 0.5074 - val_loss: 0.4814\n",
      "Epoch 12/100\n",
      "10772/10772 [==============================] - 15s 1ms/step - loss: 0.5070 - val_loss: 0.4812\n",
      "Epoch 13/100\n",
      "10772/10772 [==============================] - 14s 1ms/step - loss: 0.5076 - val_loss: 0.4813\n",
      "Epoch 14/100\n",
      "10772/10772 [==============================] - 14s 1ms/step - loss: 0.5074 - val_loss: 0.4839\n",
      "Epoch 15/100\n",
      "10772/10772 [==============================] - 14s 1ms/step - loss: 0.5063 - val_loss: 0.4818\n",
      "Epoch 16/100\n",
      "10772/10772 [==============================] - 14s 1ms/step - loss: 0.5065 - val_loss: 0.4834\n",
      "Epoch 17/100\n",
      "10772/10772 [==============================] - 14s 1ms/step - loss: 0.5063 - val_loss: 0.4814\n",
      "Epoch 18/100\n",
      "10772/10772 [==============================] - 14s 1ms/step - loss: 0.5062 - val_loss: 0.4809\n",
      "Epoch 19/100\n",
      "10772/10772 [==============================] - 15s 1ms/step - loss: 0.5069 - val_loss: 0.4809\n",
      "Epoch 20/100\n",
      "10772/10772 [==============================] - 15s 1ms/step - loss: 0.5064 - val_loss: 0.4806\n",
      "Epoch 21/100\n",
      "10772/10772 [==============================] - 15s 1ms/step - loss: 0.5064 - val_loss: 0.4803\n",
      "Epoch 22/100\n",
      "10772/10772 [==============================] - 15s 1ms/step - loss: 0.5065 - val_loss: 0.4813\n",
      "Epoch 23/100\n",
      "10772/10772 [==============================] - 15s 1ms/step - loss: 0.5060 - val_loss: 0.4810\n",
      "Epoch 24/100\n",
      "10772/10772 [==============================] - 15s 1ms/step - loss: 0.5064 - val_loss: 0.4811\n",
      "Epoch 25/100\n",
      "10772/10772 [==============================] - 15s 1ms/step - loss: 0.5063 - val_loss: 0.4827\n",
      "Epoch 26/100\n",
      "10772/10772 [==============================] - 15s 1ms/step - loss: 0.5066 - val_loss: 0.4809\n",
      "Epoch 27/100\n",
      "10772/10772 [==============================] - 15s 1ms/step - loss: 0.5056 - val_loss: 0.4811\n",
      "Epoch 28/100\n",
      "10772/10772 [==============================] - 15s 1ms/step - loss: 0.5053 - val_loss: 0.4822\n",
      "Epoch 29/100\n",
      "10772/10772 [==============================] - 14s 1ms/step - loss: 0.5064 - val_loss: 0.4816\n",
      "Epoch 30/100\n",
      "10772/10772 [==============================] - 15s 1ms/step - loss: 0.5058 - val_loss: 0.4815\n",
      "Epoch 31/100\n",
      "10772/10772 [==============================] - 14s 1ms/step - loss: 0.5058 - val_loss: 0.4807\n",
      "Epoch 32/100\n",
      "10772/10772 [==============================] - 15s 1ms/step - loss: 0.5060 - val_loss: 0.4806\n",
      "Epoch 33/100\n",
      "10772/10772 [==============================] - 14s 1ms/step - loss: 0.5059 - val_loss: 0.4804\n",
      "Epoch 34/100\n",
      "10772/10772 [==============================] - 14s 1ms/step - loss: 0.5054 - val_loss: 0.4809\n",
      "Epoch 35/100\n",
      "10772/10772 [==============================] - 14s 1ms/step - loss: 0.5056 - val_loss: 0.4812\n",
      "Epoch 36/100\n",
      "10772/10772 [==============================] - 16s 1ms/step - loss: 0.5062 - val_loss: 0.4806\n",
      "Epoch 37/100\n",
      "10772/10772 [==============================] - 17s 2ms/step - loss: 0.5061 - val_loss: 0.4806\n",
      "Epoch 38/100\n",
      "10772/10772 [==============================] - 16s 2ms/step - loss: 0.5053 - val_loss: 0.4833\n",
      "Epoch 39/100\n",
      "10772/10772 [==============================] - 16s 2ms/step - loss: 0.5063 - val_loss: 0.4811\n",
      "Epoch 40/100\n",
      "10772/10772 [==============================] - 21s 2ms/step - loss: 0.5047 - val_loss: 0.4812\n",
      "Epoch 41/100\n",
      "10772/10772 [==============================] - 21s 2ms/step - loss: 0.5059 - val_loss: 0.4801\n",
      "Epoch 42/100\n",
      "10772/10772 [==============================] - 19s 2ms/step - loss: 0.5054 - val_loss: 0.4816\n",
      "Epoch 43/100\n",
      "10772/10772 [==============================] - 16s 2ms/step - loss: 0.5051 - val_loss: 0.4826\n",
      "Epoch 44/100\n",
      "10772/10772 [==============================] - 16s 2ms/step - loss: 0.5052 - val_loss: 0.4828\n",
      "Epoch 45/100\n",
      "10772/10772 [==============================] - 16s 2ms/step - loss: 0.5057 - val_loss: 0.4804\n",
      "Epoch 46/100\n",
      "10772/10772 [==============================] - 17s 2ms/step - loss: 0.5052 - val_loss: 0.4803\n",
      "Epoch 47/100\n",
      "10772/10772 [==============================] - 15s 1ms/step - loss: 0.5056 - val_loss: 0.4817\n",
      "Epoch 48/100\n",
      "10772/10772 [==============================] - 16s 1ms/step - loss: 0.5056 - val_loss: 0.4803\n",
      "Epoch 49/100\n",
      "10772/10772 [==============================] - 16s 1ms/step - loss: 0.5049 - val_loss: 0.4829\n",
      "Epoch 50/100\n",
      "10772/10772 [==============================] - 16s 1ms/step - loss: 0.5051 - val_loss: 0.4818\n",
      "Epoch 51/100\n",
      "10772/10772 [==============================] - 16s 1ms/step - loss: 0.5057 - val_loss: 0.4809\n",
      "Epoch 52/100\n",
      "10772/10772 [==============================] - 16s 1ms/step - loss: 0.5054 - val_loss: 0.4803\n",
      "Epoch 53/100\n",
      "10772/10772 [==============================] - 15s 1ms/step - loss: 0.5059 - val_loss: 0.4814\n",
      "Epoch 54/100\n",
      "10772/10772 [==============================] - 15s 1ms/step - loss: 0.5049 - val_loss: 0.4812\n",
      "Epoch 55/100\n",
      "10772/10772 [==============================] - 15s 1ms/step - loss: 0.5056 - val_loss: 0.4814\n",
      "Epoch 56/100\n",
      "10772/10772 [==============================] - 15s 1ms/step - loss: 0.5056 - val_loss: 0.4805\n",
      "Epoch 57/100\n",
      "10772/10772 [==============================] - 16s 1ms/step - loss: 0.5054 - val_loss: 0.4826\n",
      "Epoch 58/100\n",
      "10772/10772 [==============================] - 16s 1ms/step - loss: 0.5054 - val_loss: 0.4800\n",
      "Epoch 59/100\n",
      "10772/10772 [==============================] - 15s 1ms/step - loss: 0.5049 - val_loss: 0.4819\n",
      "Epoch 60/100\n",
      "10772/10772 [==============================] - 15s 1ms/step - loss: 0.5054 - val_loss: 0.4807\n",
      "Epoch 61/100\n",
      "10772/10772 [==============================] - 16s 1ms/step - loss: 0.5051 - val_loss: 0.4800\n",
      "Epoch 62/100\n",
      "10772/10772 [==============================] - 16s 1ms/step - loss: 0.5053 - val_loss: 0.4801\n",
      "Epoch 63/100\n",
      "10772/10772 [==============================] - 16s 1ms/step - loss: 0.5057 - val_loss: 0.4806\n",
      "Epoch 64/100\n",
      "10772/10772 [==============================] - 15s 1ms/step - loss: 0.5047 - val_loss: 0.4809\n",
      "Epoch 65/100\n",
      "10772/10772 [==============================] - 15s 1ms/step - loss: 0.5054 - val_loss: 0.4806\n",
      "Epoch 66/100\n",
      "10772/10772 [==============================] - 16s 1ms/step - loss: 0.5053 - val_loss: 0.4807\n",
      "Epoch 67/100\n",
      "10772/10772 [==============================] - 16s 1ms/step - loss: 0.5052 - val_loss: 0.4797\n",
      "Epoch 68/100\n",
      "10772/10772 [==============================] - 15s 1ms/step - loss: 0.5045 - val_loss: 0.4809\n",
      "Epoch 69/100\n",
      "10772/10772 [==============================] - 16s 1ms/step - loss: 0.5047 - val_loss: 0.4800\n",
      "Epoch 70/100\n",
      "10772/10772 [==============================] - 17s 2ms/step - loss: 0.5053 - val_loss: 0.4803\n",
      "Epoch 71/100\n",
      "10772/10772 [==============================] - 17s 2ms/step - loss: 0.5049 - val_loss: 0.4803\n",
      "Epoch 72/100\n",
      "10772/10772 [==============================] - 17s 2ms/step - loss: 0.5053 - val_loss: 0.4801\n",
      "Epoch 73/100\n",
      "10772/10772 [==============================] - 17s 2ms/step - loss: 0.5046 - val_loss: 0.4817\n",
      "Epoch 74/100\n",
      "10772/10772 [==============================] - 16s 2ms/step - loss: 0.5049 - val_loss: 0.4808\n",
      "Epoch 75/100\n",
      "10772/10772 [==============================] - 16s 2ms/step - loss: 0.5053 - val_loss: 0.4799\n",
      "Epoch 76/100\n",
      "10772/10772 [==============================] - 16s 1ms/step - loss: 0.5049 - val_loss: 0.4807\n",
      "Epoch 77/100\n",
      "10772/10772 [==============================] - 15s 1ms/step - loss: 0.5057 - val_loss: 0.4807\n",
      "Epoch 78/100\n",
      "10772/10772 [==============================] - 15s 1ms/step - loss: 0.5053 - val_loss: 0.4805\n",
      "Epoch 79/100\n",
      "10772/10772 [==============================] - 16s 1ms/step - loss: 0.5047 - val_loss: 0.4809\n",
      "Epoch 80/100\n",
      "10772/10772 [==============================] - 16s 1ms/step - loss: 0.5053 - val_loss: 0.4798\n",
      "Epoch 81/100\n",
      "10772/10772 [==============================] - 17s 2ms/step - loss: 0.5045 - val_loss: 0.4816\n",
      "Epoch 82/100\n",
      "10772/10772 [==============================] - 17s 2ms/step - loss: 0.5050 - val_loss: 0.4805\n",
      "Epoch 83/100\n",
      "10772/10772 [==============================] - 17s 2ms/step - loss: 0.5047 - val_loss: 0.4826\n",
      "Epoch 84/100\n",
      "10772/10772 [==============================] - 16s 2ms/step - loss: 0.5051 - val_loss: 0.4797\n",
      "Epoch 85/100\n",
      "10772/10772 [==============================] - 16s 2ms/step - loss: 0.5050 - val_loss: 0.4823\n",
      "Epoch 86/100\n",
      "10772/10772 [==============================] - 17s 2ms/step - loss: 0.5046 - val_loss: 0.4805\n",
      "Epoch 87/100\n",
      "10772/10772 [==============================] - 16s 1ms/step - loss: 0.5047 - val_loss: 0.4800\n",
      "Epoch 88/100\n",
      "10772/10772 [==============================] - 15s 1ms/step - loss: 0.5058 - val_loss: 0.4805\n",
      "Epoch 89/100\n",
      "10772/10772 [==============================] - 15s 1ms/step - loss: 0.5050 - val_loss: 0.4818\n",
      "Epoch 90/100\n",
      "10772/10772 [==============================] - 15s 1ms/step - loss: 0.5051 - val_loss: 0.4808\n",
      "Epoch 91/100\n",
      "10772/10772 [==============================] - 16s 1ms/step - loss: 0.5051 - val_loss: 0.4811\n",
      "Epoch 92/100\n",
      "10772/10772 [==============================] - 17s 2ms/step - loss: 0.5053 - val_loss: 0.4824\n",
      "Epoch 92: early stopping\n"
     ]
    },
    {
     "data": {
      "text/plain": [
       "<keras.src.callbacks.History at 0x1c08cfe6f10>"
      ]
     },
     "execution_count": 48,
     "metadata": {},
     "output_type": "execute_result"
    }
   ],
   "source": [
    "model1.fit(x=x_train1, \n",
    "          y=y_train1, \n",
    "          epochs=100,\n",
    "          validation_data=(x_test1, y_test1), verbose=1,\n",
    "          callbacks=[early_stop]\n",
    "          )"
   ]
  },
  {
   "cell_type": "code",
   "execution_count": null,
   "metadata": {},
   "outputs": [
    {
     "name": "stdout",
     "output_type": "stream",
     "text": [
      "10772/10772 [==============================] - 11s 1ms/step\n",
      "3591/3591 [==============================] - 3s 955us/step\n",
      "              precision    recall  f1-score   support\n",
      "\n",
      "         0.0       0.81      0.71      0.76    172233\n",
      "         1.0       0.74      0.83      0.78    172447\n",
      "\n",
      "    accuracy                           0.77    344680\n",
      "   macro avg       0.78      0.77      0.77    344680\n",
      "weighted avg       0.78      0.77      0.77    344680\n",
      "\n",
      "              precision    recall  f1-score   support\n",
      "\n",
      "         0.0       0.81      0.71      0.76     57554\n",
      "         1.0       0.74      0.83      0.78     57340\n",
      "\n",
      "    accuracy                           0.77    114894\n",
      "   macro avg       0.77      0.77      0.77    114894\n",
      "weighted avg       0.77      0.77      0.77    114894\n",
      "\n"
     ]
    }
   ],
   "source": [
    "ypred_train121 = model1.predict(x_train1)\n",
    "y_pred_test121 = model1.predict(x_test1)\n",
    "\n",
    "y_pred_test121 = (y_pred_test121 > 0.5)\n",
    "ypred_train121 = (ypred_train121 > 0.5)\n",
    "\n",
    "print(classification_report(y_train1,ypred_train121))\n",
    "print(classification_report(y_test1,y_pred_test121))"
   ]
  },
  {
   "cell_type": "code",
   "execution_count": null,
   "metadata": {},
   "outputs": [
    {
     "name": "stdout",
     "output_type": "stream",
     "text": [
      "3591/3591 [==============================] - 4s 1ms/step\n"
     ]
    },
    {
     "data": {
      "image/png": "[encoded data removed]",
      "text/plain": [
       "<Figure size 640x480 with 1 Axes>"
      ]
     },
     "metadata": {},
     "output_type": "display_data"
    }
   ],
   "source": [
    "\n",
    "y_proba_test = model1.predict(x_test1).flatten()\n",
    "\n",
    "fpr, tpr, thresholds = roc_curve(y_test1, y_proba_test)\n",
    "\n",
    "plt.plot(fpr, tpr, label='ROC Curve')\n",
    "plt.xlabel('False Positive Rate')\n",
    "plt.ylabel('True Positive Rate')\n",
    "plt.title('ROC Curve with AUC = {:.2f}'.format(roc_auc_score(y_test1, y_proba_test)))\n",
    "plt.legend(loc='lower right')\n",
    "plt.grid(True)\n",
    "plt.show()"
   ]
  },
  {
   "cell_type": "markdown",
   "metadata": {},
   "source": [
    "## inny model"
   ]
  },
  {
   "cell_type": "code",
   "execution_count": null,
   "metadata": {},
   "outputs": [],
   "source": [
    "model2 = Sequential()\n",
    "\n",
    "model2.add(Dense(14,  activation='relu'))\n",
    "model2.add(Dropout(0.2))\n",
    "\n",
    "model2.add(Dense(10, activation='relu'))\n",
    "model2.add(Dropout(0.2))\n",
    "\n",
    "model2.add(Dense(units=1,activation='sigmoid'))\n",
    "\n",
    "model2.compile(loss='binary_crossentropy', optimizer='adam')"
   ]
  },
  {
   "cell_type": "code",
   "execution_count": null,
   "metadata": {},
   "outputs": [
    {
     "name": "stdout",
     "output_type": "stream",
     "text": [
      "Epoch 1/100\n",
      "10772/10772 [==============================] - 17s 2ms/step - loss: 0.5134 - val_loss: 0.4848\n",
      "Epoch 2/100\n",
      "10772/10772 [==============================] - 16s 2ms/step - loss: 0.4944 - val_loss: 0.4845\n",
      "Epoch 3/100\n",
      "10772/10772 [==============================] - 16s 1ms/step - loss: 0.4931 - val_loss: 0.4841\n",
      "Epoch 4/100\n",
      "10772/10772 [==============================] - 16s 1ms/step - loss: 0.4919 - val_loss: 0.4859\n",
      "Epoch 5/100\n",
      "10772/10772 [==============================] - 16s 1ms/step - loss: 0.4912 - val_loss: 0.4817\n",
      "Epoch 6/100\n",
      "10772/10772 [==============================] - 15s 1ms/step - loss: 0.4912 - val_loss: 0.4828\n",
      "Epoch 7/100\n",
      "10772/10772 [==============================] - 15s 1ms/step - loss: 0.4907 - val_loss: 0.4833\n",
      "Epoch 8/100\n",
      "10772/10772 [==============================] - 15s 1ms/step - loss: 0.4909 - val_loss: 0.4845\n",
      "Epoch 9/100\n",
      "10772/10772 [==============================] - 16s 2ms/step - loss: 0.4910 - val_loss: 0.4860\n",
      "Epoch 10/100\n",
      "10772/10772 [==============================] - 16s 2ms/step - loss: 0.4907 - val_loss: 0.4843\n",
      "Epoch 11/100\n",
      "10772/10772 [==============================] - 16s 2ms/step - loss: 0.4907 - val_loss: 0.4824\n",
      "Epoch 12/100\n",
      "10772/10772 [==============================] - 16s 2ms/step - loss: 0.4904 - val_loss: 0.4830\n",
      "Epoch 13/100\n",
      "10772/10772 [==============================] - 16s 2ms/step - loss: 0.4903 - val_loss: 0.4821\n",
      "Epoch 14/100\n",
      "10772/10772 [==============================] - 16s 2ms/step - loss: 0.4898 - val_loss: 0.4835\n",
      "Epoch 15/100\n",
      "10772/10772 [==============================] - 16s 2ms/step - loss: 0.4898 - val_loss: 0.4841\n",
      "Epoch 16/100\n",
      "10772/10772 [==============================] - 16s 1ms/step - loss: 0.4901 - val_loss: 0.4855\n",
      "Epoch 17/100\n",
      "10772/10772 [==============================] - 15s 1ms/step - loss: 0.4899 - val_loss: 0.4819\n",
      "Epoch 18/100\n",
      "10772/10772 [==============================] - 15s 1ms/step - loss: 0.4900 - val_loss: 0.4816\n",
      "Epoch 19/100\n",
      "10772/10772 [==============================] - 15s 1ms/step - loss: 0.4903 - val_loss: 0.4818\n",
      "Epoch 20/100\n",
      "10772/10772 [==============================] - 16s 1ms/step - loss: 0.4898 - val_loss: 0.4817\n",
      "Epoch 21/100\n",
      "10772/10772 [==============================] - 16s 2ms/step - loss: 0.4899 - val_loss: 0.4813\n",
      "Epoch 22/100\n",
      "10772/10772 [==============================] - 16s 2ms/step - loss: 0.4898 - val_loss: 0.4831\n",
      "Epoch 23/100\n",
      "10772/10772 [==============================] - 16s 1ms/step - loss: 0.4899 - val_loss: 0.4821\n",
      "Epoch 24/100\n",
      "10772/10772 [==============================] - 16s 1ms/step - loss: 0.4900 - val_loss: 0.4824\n",
      "Epoch 25/100\n",
      "10772/10772 [==============================] - 16s 1ms/step - loss: 0.4895 - val_loss: 0.4835\n",
      "Epoch 26/100\n",
      "10772/10772 [==============================] - 16s 1ms/step - loss: 0.4899 - val_loss: 0.4813\n",
      "Epoch 27/100\n",
      "10772/10772 [==============================] - 16s 1ms/step - loss: 0.4896 - val_loss: 0.4820\n",
      "Epoch 28/100\n",
      "10772/10772 [==============================] - 15s 1ms/step - loss: 0.4897 - val_loss: 0.4814\n",
      "Epoch 29/100\n",
      "10772/10772 [==============================] - 15s 1ms/step - loss: 0.4898 - val_loss: 0.4833\n",
      "Epoch 30/100\n",
      "10772/10772 [==============================] - 15s 1ms/step - loss: 0.4894 - val_loss: 0.4813\n",
      "Epoch 31/100\n",
      "10772/10772 [==============================] - 16s 1ms/step - loss: 0.4900 - val_loss: 0.4808\n",
      "Epoch 32/100\n",
      "10772/10772 [==============================] - 17s 2ms/step - loss: 0.4899 - val_loss: 0.4817\n",
      "Epoch 33/100\n",
      "10772/10772 [==============================] - 17s 2ms/step - loss: 0.4893 - val_loss: 0.4815\n",
      "Epoch 34/100\n",
      "10772/10772 [==============================] - 16s 2ms/step - loss: 0.4893 - val_loss: 0.4821\n",
      "Epoch 35/100\n",
      "10772/10772 [==============================] - 16s 1ms/step - loss: 0.4895 - val_loss: 0.4823\n",
      "Epoch 36/100\n",
      "10772/10772 [==============================] - 16s 2ms/step - loss: 0.4896 - val_loss: 0.4806\n",
      "Epoch 37/100\n",
      "10772/10772 [==============================] - 16s 2ms/step - loss: 0.4899 - val_loss: 0.4808\n",
      "Epoch 38/100\n",
      "10772/10772 [==============================] - 16s 2ms/step - loss: 0.4896 - val_loss: 0.4817\n",
      "Epoch 39/100\n",
      "10772/10772 [==============================] - 16s 1ms/step - loss: 0.4896 - val_loss: 0.4819\n",
      "Epoch 40/100\n",
      "10772/10772 [==============================] - 16s 1ms/step - loss: 0.4897 - val_loss: 0.4840\n",
      "Epoch 41/100\n",
      "10772/10772 [==============================] - 16s 1ms/step - loss: 0.4895 - val_loss: 0.4813\n",
      "Epoch 42/100\n",
      "10772/10772 [==============================] - 17s 2ms/step - loss: 0.4892 - val_loss: 0.4829\n",
      "Epoch 43/100\n",
      "10772/10772 [==============================] - 17s 2ms/step - loss: 0.4896 - val_loss: 0.4821\n",
      "Epoch 44/100\n",
      "10772/10772 [==============================] - 18s 2ms/step - loss: 0.4894 - val_loss: 0.4847\n",
      "Epoch 45/100\n",
      "10772/10772 [==============================] - 19s 2ms/step - loss: 0.4893 - val_loss: 0.4817\n",
      "Epoch 46/100\n",
      "10772/10772 [==============================] - 19s 2ms/step - loss: 0.4893 - val_loss: 0.4808\n",
      "Epoch 47/100\n",
      "10772/10772 [==============================] - 16s 2ms/step - loss: 0.4893 - val_loss: 0.4842\n",
      "Epoch 48/100\n",
      "10772/10772 [==============================] - 16s 2ms/step - loss: 0.4896 - val_loss: 0.4812\n",
      "Epoch 49/100\n",
      "10772/10772 [==============================] - 17s 2ms/step - loss: 0.4890 - val_loss: 0.4831\n",
      "Epoch 50/100\n",
      "10772/10772 [==============================] - 17s 2ms/step - loss: 0.4890 - val_loss: 0.4813\n",
      "Epoch 51/100\n",
      "10772/10772 [==============================] - 17s 2ms/step - loss: 0.4890 - val_loss: 0.4824\n",
      "Epoch 52/100\n",
      "10772/10772 [==============================] - 16s 1ms/step - loss: 0.4894 - val_loss: 0.4801\n",
      "Epoch 53/100\n",
      "10772/10772 [==============================] - 16s 1ms/step - loss: 0.4888 - val_loss: 0.4816\n",
      "Epoch 54/100\n",
      "10772/10772 [==============================] - 16s 1ms/step - loss: 0.4895 - val_loss: 0.4821\n",
      "Epoch 55/100\n",
      "10772/10772 [==============================] - 16s 1ms/step - loss: 0.4892 - val_loss: 0.4819\n",
      "Epoch 56/100\n",
      "10772/10772 [==============================] - 17s 2ms/step - loss: 0.4890 - val_loss: 0.4820\n",
      "Epoch 57/100\n",
      "10772/10772 [==============================] - 17s 2ms/step - loss: 0.4894 - val_loss: 0.4824\n",
      "Epoch 58/100\n",
      "10772/10772 [==============================] - 17s 2ms/step - loss: 0.4892 - val_loss: 0.4809\n",
      "Epoch 59/100\n",
      "10772/10772 [==============================] - 18s 2ms/step - loss: 0.4897 - val_loss: 0.4817\n",
      "Epoch 60/100\n",
      "10772/10772 [==============================] - 18s 2ms/step - loss: 0.4895 - val_loss: 0.4812\n",
      "Epoch 61/100\n",
      "10772/10772 [==============================] - 18s 2ms/step - loss: 0.4892 - val_loss: 0.4802\n",
      "Epoch 62/100\n",
      "10772/10772 [==============================] - 18s 2ms/step - loss: 0.4897 - val_loss: 0.4808\n",
      "Epoch 63/100\n",
      "10772/10772 [==============================] - 19s 2ms/step - loss: 0.4894 - val_loss: 0.4809\n",
      "Epoch 64/100\n",
      "10772/10772 [==============================] - 18s 2ms/step - loss: 0.4892 - val_loss: 0.4822\n",
      "Epoch 65/100\n",
      "10772/10772 [==============================] - 19s 2ms/step - loss: 0.4894 - val_loss: 0.4821\n",
      "Epoch 66/100\n",
      "10772/10772 [==============================] - 19s 2ms/step - loss: 0.4891 - val_loss: 0.4811\n",
      "Epoch 67/100\n",
      "10772/10772 [==============================] - 20s 2ms/step - loss: 0.4891 - val_loss: 0.4811\n",
      "Epoch 68/100\n",
      "10772/10772 [==============================] - 21s 2ms/step - loss: 0.4894 - val_loss: 0.4813\n",
      "Epoch 69/100\n",
      "10772/10772 [==============================] - 17s 2ms/step - loss: 0.4891 - val_loss: 0.4817\n",
      "Epoch 70/100\n",
      "10772/10772 [==============================] - 17s 2ms/step - loss: 0.4891 - val_loss: 0.4814\n",
      "Epoch 71/100\n",
      "10772/10772 [==============================] - 17s 2ms/step - loss: 0.4896 - val_loss: 0.4814\n",
      "Epoch 72/100\n",
      "10772/10772 [==============================] - 17s 2ms/step - loss: 0.4894 - val_loss: 0.4798\n",
      "Epoch 73/100\n",
      "10772/10772 [==============================] - 17s 2ms/step - loss: 0.4891 - val_loss: 0.4820\n",
      "Epoch 74/100\n",
      "10772/10772 [==============================] - 17s 2ms/step - loss: 0.4893 - val_loss: 0.4832\n",
      "Epoch 75/100\n",
      "10772/10772 [==============================] - 16s 2ms/step - loss: 0.4892 - val_loss: 0.4812\n",
      "Epoch 76/100\n",
      "10772/10772 [==============================] - 16s 1ms/step - loss: 0.4892 - val_loss: 0.4814\n",
      "Epoch 77/100\n",
      "10772/10772 [==============================] - 16s 2ms/step - loss: 0.4886 - val_loss: 0.4821\n",
      "Epoch 78/100\n",
      "10772/10772 [==============================] - 16s 2ms/step - loss: 0.4891 - val_loss: 0.4804\n",
      "Epoch 79/100\n",
      "10772/10772 [==============================] - 17s 2ms/step - loss: 0.4889 - val_loss: 0.4811\n",
      "Epoch 80/100\n",
      "10772/10772 [==============================] - 17s 2ms/step - loss: 0.4888 - val_loss: 0.4802\n",
      "Epoch 81/100\n",
      "10772/10772 [==============================] - 19s 2ms/step - loss: 0.4889 - val_loss: 0.4821\n",
      "Epoch 82/100\n",
      "10772/10772 [==============================] - 19s 2ms/step - loss: 0.4891 - val_loss: 0.4814\n",
      "Epoch 83/100\n",
      "10772/10772 [==============================] - 19s 2ms/step - loss: 0.4893 - val_loss: 0.4840\n",
      "Epoch 84/100\n",
      "10772/10772 [==============================] - 20s 2ms/step - loss: 0.4890 - val_loss: 0.4813\n",
      "Epoch 85/100\n",
      "10772/10772 [==============================] - 20s 2ms/step - loss: 0.4889 - val_loss: 0.4836\n",
      "Epoch 86/100\n",
      "10772/10772 [==============================] - 22s 2ms/step - loss: 0.4895 - val_loss: 0.4822\n",
      "Epoch 87/100\n",
      "10772/10772 [==============================] - 23s 2ms/step - loss: 0.4889 - val_loss: 0.4797\n",
      "Epoch 88/100\n",
      "10772/10772 [==============================] - 21s 2ms/step - loss: 0.4892 - val_loss: 0.4816\n",
      "Epoch 89/100\n",
      "10772/10772 [==============================] - 16s 1ms/step - loss: 0.4887 - val_loss: 0.4832\n",
      "Epoch 90/100\n",
      "10772/10772 [==============================] - 16s 1ms/step - loss: 0.4893 - val_loss: 0.4802\n",
      "Epoch 91/100\n",
      "10772/10772 [==============================] - 16s 1ms/step - loss: 0.4890 - val_loss: 0.4816\n",
      "Epoch 92/100\n",
      "10772/10772 [==============================] - 16s 1ms/step - loss: 0.4891 - val_loss: 0.4824\n",
      "Epoch 93/100\n",
      "10772/10772 [==============================] - 17s 2ms/step - loss: 0.4891 - val_loss: 0.4819\n",
      "Epoch 94/100\n",
      "10772/10772 [==============================] - 17s 2ms/step - loss: 0.4889 - val_loss: 0.4811\n",
      "Epoch 95/100\n",
      "10772/10772 [==============================] - 17s 2ms/step - loss: 0.4887 - val_loss: 0.4822\n",
      "Epoch 96/100\n",
      "10772/10772 [==============================] - 17s 2ms/step - loss: 0.4890 - val_loss: 0.4808\n",
      "Epoch 97/100\n",
      "10772/10772 [==============================] - 17s 2ms/step - loss: 0.4894 - val_loss: 0.4820\n",
      "Epoch 98/100\n",
      "10772/10772 [==============================] - 18s 2ms/step - loss: 0.4890 - val_loss: 0.4824\n",
      "Epoch 99/100\n",
      "10772/10772 [==============================] - 18s 2ms/step - loss: 0.4887 - val_loss: 0.4822\n",
      "Epoch 100/100\n",
      "10772/10772 [==============================] - 18s 2ms/step - loss: 0.4890 - val_loss: 0.4832\n"
     ]
    },
    {
     "data": {
      "text/plain": [
       "<keras.src.callbacks.History at 0x1bf8a17f2d0>"
      ]
     },
     "execution_count": 52,
     "metadata": {},
     "output_type": "execute_result"
    }
   ],
   "source": [
    "model2.fit(x=x_train1, \n",
    "          y=y_train1, \n",
    "          epochs=100,\n",
    "          validation_data=(x_test1, y_test1), verbose=1,\n",
    "          callbacks=[early_stop]\n",
    "          )"
   ]
  },
  {
   "cell_type": "code",
   "execution_count": null,
   "metadata": {},
   "outputs": [
    {
     "name": "stdout",
     "output_type": "stream",
     "text": [
      "10772/10772 [==============================] - 13s 1ms/step\n",
      "3591/3591 [==============================] - 4s 1ms/step\n",
      "Training Results\n",
      "\n",
      "              precision    recall  f1-score   support\n",
      "\n",
      "         0.0       0.79      0.74      0.77    172233\n",
      "         1.0       0.76      0.81      0.78    172447\n",
      "\n",
      "    accuracy                           0.77    344680\n",
      "   macro avg       0.77      0.77      0.77    344680\n",
      "weighted avg       0.77      0.77      0.77    344680\n",
      "\n",
      "Testing Results\n",
      "\n",
      "              precision    recall  f1-score   support\n",
      "\n",
      "         0.0       0.79      0.74      0.76     57554\n",
      "         1.0       0.75      0.80      0.78     57340\n",
      "\n",
      "    accuracy                           0.77    114894\n",
      "   macro avg       0.77      0.77      0.77    114894\n",
      "weighted avg       0.77      0.77      0.77    114894\n",
      "\n"
     ]
    }
   ],
   "source": [
    "ypred_train131 = model2.predict(x_train1)\n",
    "y_pred_test131 = model2.predict(x_test1)\n",
    "\n",
    "y_pred_test131 = (y_pred_test131 > 0.5)\n",
    "ypred_train131 = (ypred_train131 > 0.5)\n",
    "\n",
    "print(\"Training Results\\n\")\n",
    "print(classification_report(y_train1,ypred_train131))\n",
    "print(\"Testing Results\\n\")\n",
    "print(classification_report(y_test1,y_pred_test131))"
   ]
  },
  {
   "cell_type": "code",
   "execution_count": null,
   "metadata": {},
   "outputs": [
    {
     "name": "stdout",
     "output_type": "stream",
     "text": [
      "3591/3591 [==============================] - 4s 1ms/step\n"
     ]
    },
    {
     "data": {
      "image/png": "[encoded data removed]",
      "text/plain": [
       "<Figure size 640x480 with 1 Axes>"
      ]
     },
     "metadata": {},
     "output_type": "display_data"
    }
   ],
   "source": [
    "\n",
    "y_proba_test = model2.predict(x_test1).flatten()\n",
    "\n",
    "fpr, tpr, thresholds = roc_curve(y_test1, y_proba_test)\n",
    "\n",
    "plt.plot(fpr, tpr, label='ROC Curve')\n",
    "plt.xlabel('False Positive Rate')\n",
    "plt.ylabel('True Positive Rate')\n",
    "plt.title('ROC Curve with AUC = {:.2f}'.format(roc_auc_score(y_test1, y_proba_test)))\n",
    "plt.legend(loc='lower right')\n",
    "plt.grid(True)\n",
    "plt.show()"
   ]
  },
  {
   "cell_type": "markdown",
   "metadata": {},
   "source": [
    "## SVC"
   ]
  },
  {
   "cell_type": "code",
   "execution_count": null,
   "metadata": {},
   "outputs": [],
   "source": [
    "model3 = SVC(probability=True)"
   ]
  },
  {
   "cell_type": "code",
   "execution_count": null,
   "metadata": {},
   "outputs": [
    {
     "data": {
      "text/html": [
       "<style>#sk-container-id-4 {color: black;}#sk-container-id-4 pre{padding: 0;}#sk-container-id-4 div.sk-toggleable {background-color: white;}#sk-container-id-4 label.sk-toggleable__label {cursor: pointer;display: block;width: 100%;margin-bottom: 0;padding: 0.3em;box-sizing: border-box;text-align: center;}#sk-container-id-4 label.sk-toggleable__label-arrow:before {content: \"▸\";float: left;margin-right: 0.25em;color: #696969;}#sk-container-id-4 label.sk-toggleable__label-arrow:hover:before {color: black;}#sk-container-id-4 div.sk-estimator:hover label.sk-toggleable__label-arrow:before {color: black;}#sk-container-id-4 div.sk-toggleable__content {max-height: 0;max-width: 0;overflow: hidden;text-align: left;background-color: #f0f8ff;}#sk-container-id-4 div.sk-toggleable__content pre {margin: 0.2em;color: black;border-radius: 0.25em;background-color: #f0f8ff;}#sk-container-id-4 input.sk-toggleable__control:checked~div.sk-toggleable__content {max-height: 200px;max-width: 100%;overflow: auto;}#sk-container-id-4 input.sk-toggleable__control:checked~label.sk-toggleable__label-arrow:before {content: \"▾\";}#sk-container-id-4 div.sk-estimator input.sk-toggleable__control:checked~label.sk-toggleable__label {background-color: #d4ebff;}#sk-container-id-4 div.sk-label input.sk-toggleable__control:checked~label.sk-toggleable__label {background-color: #d4ebff;}#sk-container-id-4 input.sk-hidden--visually {border: 0;clip: rect(1px 1px 1px 1px);clip: rect(1px, 1px, 1px, 1px);height: 1px;margin: -1px;overflow: hidden;padding: 0;position: absolute;width: 1px;}#sk-container-id-4 div.sk-estimator {font-family: monospace;background-color: #f0f8ff;border: 1px dotted black;border-radius: 0.25em;box-sizing: border-box;margin-bottom: 0.5em;}#sk-container-id-4 div.sk-estimator:hover {background-color: #d4ebff;}#sk-container-id-4 div.sk-parallel-item::after {content: \"\";width: 100%;border-bottom: 1px solid gray;flex-grow: 1;}#sk-container-id-4 div.sk-label:hover label.sk-toggleable__label {background-color: #d4ebff;}#sk-container-id-4 div.sk-serial::before {content: \"\";position: absolute;border-left: 1px solid gray;box-sizing: border-box;top: 0;bottom: 0;left: 50%;z-index: 0;}#sk-container-id-4 div.sk-serial {display: flex;flex-direction: column;align-items: center;background-color: white;padding-right: 0.2em;padding-left: 0.2em;position: relative;}#sk-container-id-4 div.sk-item {position: relative;z-index: 1;}#sk-container-id-4 div.sk-parallel {display: flex;align-items: stretch;justify-content: center;background-color: white;position: relative;}#sk-container-id-4 div.sk-item::before, #sk-container-id-4 div.sk-parallel-item::before {content: \"\";position: absolute;border-left: 1px solid gray;box-sizing: border-box;top: 0;bottom: 0;left: 50%;z-index: -1;}#sk-container-id-4 div.sk-parallel-item {display: flex;flex-direction: column;z-index: 1;position: relative;background-color: white;}#sk-container-id-4 div.sk-parallel-item:first-child::after {align-self: flex-end;width: 50%;}#sk-container-id-4 div.sk-parallel-item:last-child::after {align-self: flex-start;width: 50%;}#sk-container-id-4 div.sk-parallel-item:only-child::after {width: 0;}#sk-container-id-4 div.sk-dashed-wrapped {border: 1px dashed gray;margin: 0 0.4em 0.5em 0.4em;box-sizing: border-box;padding-bottom: 0.4em;background-color: white;}#sk-container-id-4 div.sk-label label {font-family: monospace;font-weight: bold;display: inline-block;line-height: 1.2em;}#sk-container-id-4 div.sk-label-container {text-align: center;}#sk-container-id-4 div.sk-container {/* jupyter's `normalize.less` sets `[hidden] { display: none; }` but bootstrap.min.css set `[hidden] { display: none !important; }` so we also need the `!important` here to be able to override the default hidden behavior on the sphinx rendered scikit-learn.org. See: https://github.com/scikit-learn/scikit-learn/issues/21755 */display: inline-block !important;position: relative;}#sk-container-id-4 div.sk-text-repr-fallback {display: none;}</style><div id=\"sk-container-id-4\" class=\"sk-top-container\"><div class=\"sk-text-repr-fallback\"><pre>SVC(probability=True)</pre><b>In a Jupyter environment, please rerun this cell to show the HTML representation or trust the notebook. <br />On GitHub, the HTML representation is unable to render, please try loading this page with nbviewer.org.</b></div><div class=\"sk-container\" hidden><div class=\"sk-item\"><div class=\"sk-estimator sk-toggleable\"><input class=\"sk-toggleable__control sk-hidden--visually\" id=\"sk-estimator-id-6\" type=\"checkbox\" checked><label for=\"sk-estimator-id-6\" class=\"sk-toggleable__label sk-toggleable__label-arrow\">SVC</label><div class=\"sk-toggleable__content\"><pre>SVC(probability=True)</pre></div></div></div></div></div>"
      ],
      "text/plain": [
       "SVC(probability=True)"
      ]
     },
     "execution_count": 56,
     "metadata": {},
     "output_type": "execute_result"
    }
   ],
   "source": [
    "model3.fit(x_train1,y_train1)"
   ]
  },
  {
   "cell_type": "code",
   "execution_count": null,
   "metadata": {},
   "outputs": [
    {
     "name": "stdout",
     "output_type": "stream",
     "text": [
      "              precision    recall  f1-score   support\n",
      "\n",
      "         0.0       0.80      0.72      0.76    172233\n",
      "         1.0       0.75      0.82      0.78    172447\n",
      "\n",
      "    accuracy                           0.77    344680\n",
      "   macro avg       0.77      0.77      0.77    344680\n",
      "weighted avg       0.77      0.77      0.77    344680\n",
      "\n",
      "              precision    recall  f1-score   support\n",
      "\n",
      "         0.0       0.80      0.72      0.76     57554\n",
      "         1.0       0.74      0.82      0.78     57340\n",
      "\n",
      "    accuracy                           0.77    114894\n",
      "   macro avg       0.77      0.77      0.77    114894\n",
      "weighted avg       0.77      0.77      0.77    114894\n",
      "\n"
     ]
    }
   ],
   "source": [
    "ypred_train141 = model3.predict(x_train1)\n",
    "y_pred_test141 = model3.predict(x_test1)\n",
    "\n",
    "\n",
    "print(classification_report(y_train1,ypred_train141))\n",
    "print(classification_report(y_test1,y_pred_test141))"
   ]
  },
  {
   "cell_type": "code",
   "execution_count": null,
   "metadata": {},
   "outputs": [],
   "source": [
    "param_grid = {'C': [0.1,1, 10, 100, 1000], 'gamma': [1,0.1,0.01,0.001,0.0001], 'kernel': ['rbf']} "
   ]
  },
  {
   "cell_type": "code",
   "execution_count": null,
   "metadata": {},
   "outputs": [],
   "source": [
    "grid = GridSearchCV(SVC(),param_grid,refit=True,verbose=3)"
   ]
  },
  {
   "cell_type": "code",
   "execution_count": 60,
   "metadata": {},
   "outputs": [
    {
     "name": "stdout",
     "output_type": "stream",
     "text": [
      "Fitting 5 folds for each of 25 candidates, totalling 125 fits\n",
      "[CV 1/5] END ........C=0.1, gamma=1, kernel=rbf;, score=0.772 total time=41.6min\n",
      "[CV 2/5] END ........C=0.1, gamma=1, kernel=rbf;, score=0.770 total time=34.2min\n",
      "[CV 3/5] END ........C=0.1, gamma=1, kernel=rbf;, score=0.770 total time=36.2min\n",
      "[CV 4/5] END ........C=0.1, gamma=1, kernel=rbf;, score=0.771 total time=36.4min\n",
      "[CV 5/5] END ........C=0.1, gamma=1, kernel=rbf;, score=0.770 total time=36.3min\n",
      "[CV 1/5] END ......C=0.1, gamma=0.1, kernel=rbf;, score=0.771 total time=29.7min\n"
     ]
    },
    {
     "ename": "KeyboardInterrupt",
     "evalue": "",
     "output_type": "error",
     "traceback": [
      "\u001b[1;31m---------------------------------------------------------------------------\u001b[0m",
      "\u001b[1;31mKeyboardInterrupt\u001b[0m                         Traceback (most recent call last)",
      "Cell \u001b[1;32mIn[60], line 1\u001b[0m\n\u001b[1;32m----> 1\u001b[0m grid\u001b[38;5;241m.\u001b[39mfit(x_train1,y_train1)\n",
      "File \u001b[1;32m~\\AppData\\Roaming\\Python\\Python311\\site-packages\\sklearn\\base.py:1152\u001b[0m, in \u001b[0;36m_fit_context.<locals>.decorator.<locals>.wrapper\u001b[1;34m(estimator, *args, **kwargs)\u001b[0m\n\u001b[0;32m   1145\u001b[0m     estimator\u001b[38;5;241m.\u001b[39m_validate_params()\n\u001b[0;32m   1147\u001b[0m \u001b[38;5;28;01mwith\u001b[39;00m config_context(\n\u001b[0;32m   1148\u001b[0m     skip_parameter_validation\u001b[38;5;241m=\u001b[39m(\n\u001b[0;32m   1149\u001b[0m         prefer_skip_nested_validation \u001b[38;5;129;01mor\u001b[39;00m global_skip_validation\n\u001b[0;32m   1150\u001b[0m     )\n\u001b[0;32m   1151\u001b[0m ):\n\u001b[1;32m-> 1152\u001b[0m     \u001b[38;5;28;01mreturn\u001b[39;00m fit_method(estimator, \u001b[38;5;241m*\u001b[39margs, \u001b[38;5;241m*\u001b[39m\u001b[38;5;241m*\u001b[39mkwargs)\n",
      "File \u001b[1;32m~\\AppData\\Roaming\\Python\\Python311\\site-packages\\sklearn\\model_selection\\_search.py:898\u001b[0m, in \u001b[0;36mBaseSearchCV.fit\u001b[1;34m(self, X, y, groups, **fit_params)\u001b[0m\n\u001b[0;32m    892\u001b[0m     results \u001b[38;5;241m=\u001b[39m \u001b[38;5;28mself\u001b[39m\u001b[38;5;241m.\u001b[39m_format_results(\n\u001b[0;32m    893\u001b[0m         all_candidate_params, n_splits, all_out, all_more_results\n\u001b[0;32m    894\u001b[0m     )\n\u001b[0;32m    896\u001b[0m     \u001b[38;5;28;01mreturn\u001b[39;00m results\n\u001b[1;32m--> 898\u001b[0m \u001b[38;5;28mself\u001b[39m\u001b[38;5;241m.\u001b[39m_run_search(evaluate_candidates)\n\u001b[0;32m    900\u001b[0m \u001b[38;5;66;03m# multimetric is determined here because in the case of a callable\u001b[39;00m\n\u001b[0;32m    901\u001b[0m \u001b[38;5;66;03m# self.scoring the return type is only known after calling\u001b[39;00m\n\u001b[0;32m    902\u001b[0m first_test_score \u001b[38;5;241m=\u001b[39m all_out[\u001b[38;5;241m0\u001b[39m][\u001b[38;5;124m\"\u001b[39m\u001b[38;5;124mtest_scores\u001b[39m\u001b[38;5;124m\"\u001b[39m]\n",
      "File \u001b[1;32m~\\AppData\\Roaming\\Python\\Python311\\site-packages\\sklearn\\model_selection\\_search.py:1422\u001b[0m, in \u001b[0;36mGridSearchCV._run_search\u001b[1;34m(self, evaluate_candidates)\u001b[0m\n\u001b[0;32m   1420\u001b[0m \u001b[38;5;28;01mdef\u001b[39;00m \u001b[38;5;21m_run_search\u001b[39m(\u001b[38;5;28mself\u001b[39m, evaluate_candidates):\n\u001b[0;32m   1421\u001b[0m \u001b[38;5;250m    \u001b[39m\u001b[38;5;124;03m\"\"\"Search all candidates in param_grid\"\"\"\u001b[39;00m\n\u001b[1;32m-> 1422\u001b[0m     evaluate_candidates(ParameterGrid(\u001b[38;5;28mself\u001b[39m\u001b[38;5;241m.\u001b[39mparam_grid))\n",
      "File \u001b[1;32m~\\AppData\\Roaming\\Python\\Python311\\site-packages\\sklearn\\model_selection\\_search.py:845\u001b[0m, in \u001b[0;36mBaseSearchCV.fit.<locals>.evaluate_candidates\u001b[1;34m(candidate_params, cv, more_results)\u001b[0m\n\u001b[0;32m    837\u001b[0m \u001b[38;5;28;01mif\u001b[39;00m \u001b[38;5;28mself\u001b[39m\u001b[38;5;241m.\u001b[39mverbose \u001b[38;5;241m>\u001b[39m \u001b[38;5;241m0\u001b[39m:\n\u001b[0;32m    838\u001b[0m     \u001b[38;5;28mprint\u001b[39m(\n\u001b[0;32m    839\u001b[0m         \u001b[38;5;124m\"\u001b[39m\u001b[38;5;124mFitting \u001b[39m\u001b[38;5;132;01m{0}\u001b[39;00m\u001b[38;5;124m folds for each of \u001b[39m\u001b[38;5;132;01m{1}\u001b[39;00m\u001b[38;5;124m candidates,\u001b[39m\u001b[38;5;124m\"\u001b[39m\n\u001b[0;32m    840\u001b[0m         \u001b[38;5;124m\"\u001b[39m\u001b[38;5;124m totalling \u001b[39m\u001b[38;5;132;01m{2}\u001b[39;00m\u001b[38;5;124m fits\u001b[39m\u001b[38;5;124m\"\u001b[39m\u001b[38;5;241m.\u001b[39mformat(\n\u001b[0;32m    841\u001b[0m             n_splits, n_candidates, n_candidates \u001b[38;5;241m*\u001b[39m n_splits\n\u001b[0;32m    842\u001b[0m         )\n\u001b[0;32m    843\u001b[0m     )\n\u001b[1;32m--> 845\u001b[0m out \u001b[38;5;241m=\u001b[39m parallel(\n\u001b[0;32m    846\u001b[0m     delayed(_fit_and_score)(\n\u001b[0;32m    847\u001b[0m         clone(base_estimator),\n\u001b[0;32m    848\u001b[0m         X,\n\u001b[0;32m    849\u001b[0m         y,\n\u001b[0;32m    850\u001b[0m         train\u001b[38;5;241m=\u001b[39mtrain,\n\u001b[0;32m    851\u001b[0m         test\u001b[38;5;241m=\u001b[39mtest,\n\u001b[0;32m    852\u001b[0m         parameters\u001b[38;5;241m=\u001b[39mparameters,\n\u001b[0;32m    853\u001b[0m         split_progress\u001b[38;5;241m=\u001b[39m(split_idx, n_splits),\n\u001b[0;32m    854\u001b[0m         candidate_progress\u001b[38;5;241m=\u001b[39m(cand_idx, n_candidates),\n\u001b[0;32m    855\u001b[0m         \u001b[38;5;241m*\u001b[39m\u001b[38;5;241m*\u001b[39mfit_and_score_kwargs,\n\u001b[0;32m    856\u001b[0m     )\n\u001b[0;32m    857\u001b[0m     \u001b[38;5;28;01mfor\u001b[39;00m (cand_idx, parameters), (split_idx, (train, test)) \u001b[38;5;129;01min\u001b[39;00m product(\n\u001b[0;32m    858\u001b[0m         \u001b[38;5;28menumerate\u001b[39m(candidate_params), \u001b[38;5;28menumerate\u001b[39m(cv\u001b[38;5;241m.\u001b[39msplit(X, y, groups))\n\u001b[0;32m    859\u001b[0m     )\n\u001b[0;32m    860\u001b[0m )\n\u001b[0;32m    862\u001b[0m \u001b[38;5;28;01mif\u001b[39;00m \u001b[38;5;28mlen\u001b[39m(out) \u001b[38;5;241m<\u001b[39m \u001b[38;5;241m1\u001b[39m:\n\u001b[0;32m    863\u001b[0m     \u001b[38;5;28;01mraise\u001b[39;00m \u001b[38;5;167;01mValueError\u001b[39;00m(\n\u001b[0;32m    864\u001b[0m         \u001b[38;5;124m\"\u001b[39m\u001b[38;5;124mNo fits were performed. \u001b[39m\u001b[38;5;124m\"\u001b[39m\n\u001b[0;32m    865\u001b[0m         \u001b[38;5;124m\"\u001b[39m\u001b[38;5;124mWas the CV iterator empty? \u001b[39m\u001b[38;5;124m\"\u001b[39m\n\u001b[0;32m    866\u001b[0m         \u001b[38;5;124m\"\u001b[39m\u001b[38;5;124mWere there no candidates?\u001b[39m\u001b[38;5;124m\"\u001b[39m\n\u001b[0;32m    867\u001b[0m     )\n",
      "File \u001b[1;32m~\\AppData\\Roaming\\Python\\Python311\\site-packages\\sklearn\\utils\\parallel.py:65\u001b[0m, in \u001b[0;36mParallel.__call__\u001b[1;34m(self, iterable)\u001b[0m\n\u001b[0;32m     60\u001b[0m config \u001b[38;5;241m=\u001b[39m get_config()\n\u001b[0;32m     61\u001b[0m iterable_with_config \u001b[38;5;241m=\u001b[39m (\n\u001b[0;32m     62\u001b[0m     (_with_config(delayed_func, config), args, kwargs)\n\u001b[0;32m     63\u001b[0m     \u001b[38;5;28;01mfor\u001b[39;00m delayed_func, args, kwargs \u001b[38;5;129;01min\u001b[39;00m iterable\n\u001b[0;32m     64\u001b[0m )\n\u001b[1;32m---> 65\u001b[0m \u001b[38;5;28;01mreturn\u001b[39;00m \u001b[38;5;28msuper\u001b[39m()\u001b[38;5;241m.\u001b[39m\u001b[38;5;21m__call__\u001b[39m(iterable_with_config)\n",
      "File \u001b[1;32m~\\AppData\\Roaming\\Python\\Python311\\site-packages\\joblib\\parallel.py:1863\u001b[0m, in \u001b[0;36mParallel.__call__\u001b[1;34m(self, iterable)\u001b[0m\n\u001b[0;32m   1861\u001b[0m     output \u001b[38;5;241m=\u001b[39m \u001b[38;5;28mself\u001b[39m\u001b[38;5;241m.\u001b[39m_get_sequential_output(iterable)\n\u001b[0;32m   1862\u001b[0m     \u001b[38;5;28mnext\u001b[39m(output)\n\u001b[1;32m-> 1863\u001b[0m     \u001b[38;5;28;01mreturn\u001b[39;00m output \u001b[38;5;28;01mif\u001b[39;00m \u001b[38;5;28mself\u001b[39m\u001b[38;5;241m.\u001b[39mreturn_generator \u001b[38;5;28;01melse\u001b[39;00m \u001b[38;5;28mlist\u001b[39m(output)\n\u001b[0;32m   1865\u001b[0m \u001b[38;5;66;03m# Let's create an ID that uniquely identifies the current call. If the\u001b[39;00m\n\u001b[0;32m   1866\u001b[0m \u001b[38;5;66;03m# call is interrupted early and that the same instance is immediately\u001b[39;00m\n\u001b[0;32m   1867\u001b[0m \u001b[38;5;66;03m# re-used, this id will be used to prevent workers that were\u001b[39;00m\n\u001b[0;32m   1868\u001b[0m \u001b[38;5;66;03m# concurrently finalizing a task from the previous call to run the\u001b[39;00m\n\u001b[0;32m   1869\u001b[0m \u001b[38;5;66;03m# callback.\u001b[39;00m\n\u001b[0;32m   1870\u001b[0m \u001b[38;5;28;01mwith\u001b[39;00m \u001b[38;5;28mself\u001b[39m\u001b[38;5;241m.\u001b[39m_lock:\n",
      "File \u001b[1;32m~\\AppData\\Roaming\\Python\\Python311\\site-packages\\joblib\\parallel.py:1792\u001b[0m, in \u001b[0;36mParallel._get_sequential_output\u001b[1;34m(self, iterable)\u001b[0m\n\u001b[0;32m   1790\u001b[0m \u001b[38;5;28mself\u001b[39m\u001b[38;5;241m.\u001b[39mn_dispatched_batches \u001b[38;5;241m+\u001b[39m\u001b[38;5;241m=\u001b[39m \u001b[38;5;241m1\u001b[39m\n\u001b[0;32m   1791\u001b[0m \u001b[38;5;28mself\u001b[39m\u001b[38;5;241m.\u001b[39mn_dispatched_tasks \u001b[38;5;241m+\u001b[39m\u001b[38;5;241m=\u001b[39m \u001b[38;5;241m1\u001b[39m\n\u001b[1;32m-> 1792\u001b[0m res \u001b[38;5;241m=\u001b[39m func(\u001b[38;5;241m*\u001b[39margs, \u001b[38;5;241m*\u001b[39m\u001b[38;5;241m*\u001b[39mkwargs)\n\u001b[0;32m   1793\u001b[0m \u001b[38;5;28mself\u001b[39m\u001b[38;5;241m.\u001b[39mn_completed_tasks \u001b[38;5;241m+\u001b[39m\u001b[38;5;241m=\u001b[39m \u001b[38;5;241m1\u001b[39m\n\u001b[0;32m   1794\u001b[0m \u001b[38;5;28mself\u001b[39m\u001b[38;5;241m.\u001b[39mprint_progress()\n",
      "File \u001b[1;32m~\\AppData\\Roaming\\Python\\Python311\\site-packages\\sklearn\\utils\\parallel.py:127\u001b[0m, in \u001b[0;36m_FuncWrapper.__call__\u001b[1;34m(self, *args, **kwargs)\u001b[0m\n\u001b[0;32m    125\u001b[0m     config \u001b[38;5;241m=\u001b[39m {}\n\u001b[0;32m    126\u001b[0m \u001b[38;5;28;01mwith\u001b[39;00m config_context(\u001b[38;5;241m*\u001b[39m\u001b[38;5;241m*\u001b[39mconfig):\n\u001b[1;32m--> 127\u001b[0m     \u001b[38;5;28;01mreturn\u001b[39;00m \u001b[38;5;28mself\u001b[39m\u001b[38;5;241m.\u001b[39mfunction(\u001b[38;5;241m*\u001b[39margs, \u001b[38;5;241m*\u001b[39m\u001b[38;5;241m*\u001b[39mkwargs)\n",
      "File \u001b[1;32m~\\AppData\\Roaming\\Python\\Python311\\site-packages\\sklearn\\model_selection\\_validation.py:751\u001b[0m, in \u001b[0;36m_fit_and_score\u001b[1;34m(estimator, X, y, scorer, train, test, verbose, parameters, fit_params, return_train_score, return_parameters, return_n_test_samples, return_times, return_estimator, split_progress, candidate_progress, error_score)\u001b[0m\n\u001b[0;32m    748\u001b[0m result[\u001b[38;5;124m\"\u001b[39m\u001b[38;5;124mfit_error\u001b[39m\u001b[38;5;124m\"\u001b[39m] \u001b[38;5;241m=\u001b[39m \u001b[38;5;28;01mNone\u001b[39;00m\n\u001b[0;32m    750\u001b[0m fit_time \u001b[38;5;241m=\u001b[39m time\u001b[38;5;241m.\u001b[39mtime() \u001b[38;5;241m-\u001b[39m start_time\n\u001b[1;32m--> 751\u001b[0m test_scores \u001b[38;5;241m=\u001b[39m _score(estimator, X_test, y_test, scorer, error_score)\n\u001b[0;32m    752\u001b[0m score_time \u001b[38;5;241m=\u001b[39m time\u001b[38;5;241m.\u001b[39mtime() \u001b[38;5;241m-\u001b[39m start_time \u001b[38;5;241m-\u001b[39m fit_time\n\u001b[0;32m    753\u001b[0m \u001b[38;5;28;01mif\u001b[39;00m return_train_score:\n",
      "File \u001b[1;32m~\\AppData\\Roaming\\Python\\Python311\\site-packages\\sklearn\\model_selection\\_validation.py:810\u001b[0m, in \u001b[0;36m_score\u001b[1;34m(estimator, X_test, y_test, scorer, error_score)\u001b[0m\n\u001b[0;32m    808\u001b[0m         scores \u001b[38;5;241m=\u001b[39m scorer(estimator, X_test)\n\u001b[0;32m    809\u001b[0m     \u001b[38;5;28;01melse\u001b[39;00m:\n\u001b[1;32m--> 810\u001b[0m         scores \u001b[38;5;241m=\u001b[39m scorer(estimator, X_test, y_test)\n\u001b[0;32m    811\u001b[0m \u001b[38;5;28;01mexcept\u001b[39;00m \u001b[38;5;167;01mException\u001b[39;00m:\n\u001b[0;32m    812\u001b[0m     \u001b[38;5;28;01mif\u001b[39;00m \u001b[38;5;28misinstance\u001b[39m(scorer, _MultimetricScorer):\n\u001b[0;32m    813\u001b[0m         \u001b[38;5;66;03m# If `_MultimetricScorer` raises exception, the `error_score`\u001b[39;00m\n\u001b[0;32m    814\u001b[0m         \u001b[38;5;66;03m# parameter is equal to \"raise\".\u001b[39;00m\n",
      "File \u001b[1;32m~\\AppData\\Roaming\\Python\\Python311\\site-packages\\sklearn\\metrics\\_scorer.py:527\u001b[0m, in \u001b[0;36m_PassthroughScorer.__call__\u001b[1;34m(self, estimator, *args, **kwargs)\u001b[0m\n\u001b[0;32m    525\u001b[0m \u001b[38;5;28;01mdef\u001b[39;00m \u001b[38;5;21m__call__\u001b[39m(\u001b[38;5;28mself\u001b[39m, estimator, \u001b[38;5;241m*\u001b[39margs, \u001b[38;5;241m*\u001b[39m\u001b[38;5;241m*\u001b[39mkwargs):\n\u001b[0;32m    526\u001b[0m \u001b[38;5;250m    \u001b[39m\u001b[38;5;124;03m\"\"\"Method that wraps estimator.score\"\"\"\u001b[39;00m\n\u001b[1;32m--> 527\u001b[0m     \u001b[38;5;28;01mreturn\u001b[39;00m estimator\u001b[38;5;241m.\u001b[39mscore(\u001b[38;5;241m*\u001b[39margs, \u001b[38;5;241m*\u001b[39m\u001b[38;5;241m*\u001b[39mkwargs)\n",
      "File \u001b[1;32m~\\AppData\\Roaming\\Python\\Python311\\site-packages\\sklearn\\base.py:706\u001b[0m, in \u001b[0;36mClassifierMixin.score\u001b[1;34m(self, X, y, sample_weight)\u001b[0m\n\u001b[0;32m    681\u001b[0m \u001b[38;5;250m\u001b[39m\u001b[38;5;124;03m\"\"\"\u001b[39;00m\n\u001b[0;32m    682\u001b[0m \u001b[38;5;124;03mReturn the mean accuracy on the given test data and labels.\u001b[39;00m\n\u001b[0;32m    683\u001b[0m \n\u001b[1;32m   (...)\u001b[0m\n\u001b[0;32m    702\u001b[0m \u001b[38;5;124;03m    Mean accuracy of ``self.predict(X)`` w.r.t. `y`.\u001b[39;00m\n\u001b[0;32m    703\u001b[0m \u001b[38;5;124;03m\"\"\"\u001b[39;00m\n\u001b[0;32m    704\u001b[0m \u001b[38;5;28;01mfrom\u001b[39;00m \u001b[38;5;21;01m.\u001b[39;00m\u001b[38;5;21;01mmetrics\u001b[39;00m \u001b[38;5;28;01mimport\u001b[39;00m accuracy_score\n\u001b[1;32m--> 706\u001b[0m \u001b[38;5;28;01mreturn\u001b[39;00m accuracy_score(y, \u001b[38;5;28mself\u001b[39m\u001b[38;5;241m.\u001b[39mpredict(X), sample_weight\u001b[38;5;241m=\u001b[39msample_weight)\n",
      "File \u001b[1;32m~\\AppData\\Roaming\\Python\\Python311\\site-packages\\sklearn\\svm\\_base.py:818\u001b[0m, in \u001b[0;36mBaseSVC.predict\u001b[1;34m(self, X)\u001b[0m\n\u001b[0;32m    816\u001b[0m     y \u001b[38;5;241m=\u001b[39m np\u001b[38;5;241m.\u001b[39margmax(\u001b[38;5;28mself\u001b[39m\u001b[38;5;241m.\u001b[39mdecision_function(X), axis\u001b[38;5;241m=\u001b[39m\u001b[38;5;241m1\u001b[39m)\n\u001b[0;32m    817\u001b[0m \u001b[38;5;28;01melse\u001b[39;00m:\n\u001b[1;32m--> 818\u001b[0m     y \u001b[38;5;241m=\u001b[39m \u001b[38;5;28msuper\u001b[39m()\u001b[38;5;241m.\u001b[39mpredict(X)\n\u001b[0;32m    819\u001b[0m \u001b[38;5;28;01mreturn\u001b[39;00m \u001b[38;5;28mself\u001b[39m\u001b[38;5;241m.\u001b[39mclasses_\u001b[38;5;241m.\u001b[39mtake(np\u001b[38;5;241m.\u001b[39masarray(y, dtype\u001b[38;5;241m=\u001b[39mnp\u001b[38;5;241m.\u001b[39mintp))\n",
      "File \u001b[1;32m~\\AppData\\Roaming\\Python\\Python311\\site-packages\\sklearn\\svm\\_base.py:433\u001b[0m, in \u001b[0;36mBaseLibSVM.predict\u001b[1;34m(self, X)\u001b[0m\n\u001b[0;32m    431\u001b[0m X \u001b[38;5;241m=\u001b[39m \u001b[38;5;28mself\u001b[39m\u001b[38;5;241m.\u001b[39m_validate_for_predict(X)\n\u001b[0;32m    432\u001b[0m predict \u001b[38;5;241m=\u001b[39m \u001b[38;5;28mself\u001b[39m\u001b[38;5;241m.\u001b[39m_sparse_predict \u001b[38;5;28;01mif\u001b[39;00m \u001b[38;5;28mself\u001b[39m\u001b[38;5;241m.\u001b[39m_sparse \u001b[38;5;28;01melse\u001b[39;00m \u001b[38;5;28mself\u001b[39m\u001b[38;5;241m.\u001b[39m_dense_predict\n\u001b[1;32m--> 433\u001b[0m \u001b[38;5;28;01mreturn\u001b[39;00m predict(X)\n",
      "File \u001b[1;32m~\\AppData\\Roaming\\Python\\Python311\\site-packages\\sklearn\\svm\\_base.py:452\u001b[0m, in \u001b[0;36mBaseLibSVM._dense_predict\u001b[1;34m(self, X)\u001b[0m\n\u001b[0;32m    444\u001b[0m         \u001b[38;5;28;01mraise\u001b[39;00m \u001b[38;5;167;01mValueError\u001b[39;00m(\n\u001b[0;32m    445\u001b[0m             \u001b[38;5;124m\"\u001b[39m\u001b[38;5;124mX.shape[1] = \u001b[39m\u001b[38;5;132;01m%d\u001b[39;00m\u001b[38;5;124m should be equal to \u001b[39m\u001b[38;5;132;01m%d\u001b[39;00m\u001b[38;5;124m, \u001b[39m\u001b[38;5;124m\"\u001b[39m\n\u001b[0;32m    446\u001b[0m             \u001b[38;5;124m\"\u001b[39m\u001b[38;5;124mthe number of samples at training time\u001b[39m\u001b[38;5;124m\"\u001b[39m\n\u001b[0;32m    447\u001b[0m             \u001b[38;5;241m%\u001b[39m (X\u001b[38;5;241m.\u001b[39mshape[\u001b[38;5;241m1\u001b[39m], \u001b[38;5;28mself\u001b[39m\u001b[38;5;241m.\u001b[39mshape_fit_[\u001b[38;5;241m0\u001b[39m])\n\u001b[0;32m    448\u001b[0m         )\n\u001b[0;32m    450\u001b[0m svm_type \u001b[38;5;241m=\u001b[39m LIBSVM_IMPL\u001b[38;5;241m.\u001b[39mindex(\u001b[38;5;28mself\u001b[39m\u001b[38;5;241m.\u001b[39m_impl)\n\u001b[1;32m--> 452\u001b[0m \u001b[38;5;28;01mreturn\u001b[39;00m libsvm\u001b[38;5;241m.\u001b[39mpredict(\n\u001b[0;32m    453\u001b[0m     X,\n\u001b[0;32m    454\u001b[0m     \u001b[38;5;28mself\u001b[39m\u001b[38;5;241m.\u001b[39msupport_,\n\u001b[0;32m    455\u001b[0m     \u001b[38;5;28mself\u001b[39m\u001b[38;5;241m.\u001b[39msupport_vectors_,\n\u001b[0;32m    456\u001b[0m     \u001b[38;5;28mself\u001b[39m\u001b[38;5;241m.\u001b[39m_n_support,\n\u001b[0;32m    457\u001b[0m     \u001b[38;5;28mself\u001b[39m\u001b[38;5;241m.\u001b[39m_dual_coef_,\n\u001b[0;32m    458\u001b[0m     \u001b[38;5;28mself\u001b[39m\u001b[38;5;241m.\u001b[39m_intercept_,\n\u001b[0;32m    459\u001b[0m     \u001b[38;5;28mself\u001b[39m\u001b[38;5;241m.\u001b[39m_probA,\n\u001b[0;32m    460\u001b[0m     \u001b[38;5;28mself\u001b[39m\u001b[38;5;241m.\u001b[39m_probB,\n\u001b[0;32m    461\u001b[0m     svm_type\u001b[38;5;241m=\u001b[39msvm_type,\n\u001b[0;32m    462\u001b[0m     kernel\u001b[38;5;241m=\u001b[39mkernel,\n\u001b[0;32m    463\u001b[0m     degree\u001b[38;5;241m=\u001b[39m\u001b[38;5;28mself\u001b[39m\u001b[38;5;241m.\u001b[39mdegree,\n\u001b[0;32m    464\u001b[0m     coef0\u001b[38;5;241m=\u001b[39m\u001b[38;5;28mself\u001b[39m\u001b[38;5;241m.\u001b[39mcoef0,\n\u001b[0;32m    465\u001b[0m     gamma\u001b[38;5;241m=\u001b[39m\u001b[38;5;28mself\u001b[39m\u001b[38;5;241m.\u001b[39m_gamma,\n\u001b[0;32m    466\u001b[0m     cache_size\u001b[38;5;241m=\u001b[39m\u001b[38;5;28mself\u001b[39m\u001b[38;5;241m.\u001b[39mcache_size,\n\u001b[0;32m    467\u001b[0m )\n",
      "\u001b[1;31mKeyboardInterrupt\u001b[0m: "
     ]
    }
   ],
   "source": [
    "grid.fit(x_train1,y_train1)"
   ]
  },
  {
   "cell_type": "code",
   "execution_count": null,
   "metadata": {},
   "outputs": [],
   "source": [
    "grid.best_params_"
   ]
  },
  {
   "cell_type": "code",
   "execution_count": null,
   "metadata": {},
   "outputs": [],
   "source": [
    "grid.best_estimator_"
   ]
  },
  {
   "cell_type": "code",
   "execution_count": null,
   "metadata": {},
   "outputs": [],
   "source": [
    "ypred_train = grid.predict(x_train1)\n",
    "y_pred_test = grid.predict(x_test1)\n",
    "\n",
    "\n",
    "print(classification_report(y_train1,ypred_train))\n",
    "print(classification_report(y_test1,y_pred_test))"
   ]
  },
  {
   "cell_type": "code",
   "execution_count": null,
   "metadata": {},
   "outputs": [],
   "source": [
    "\n",
    "y_proba_test = grid.predict_proba(x_test1)[:, 1]\n",
    "\n",
    "fpr, tpr, thresholds = roc_curve(y_test1, y_proba_test)\n",
    "\n",
    "plt.plot(fpr, tpr, label='ROC Curve')\n",
    "plt.xlabel('False Positive Rate')\n",
    "plt.ylabel('True Positive Rate')\n",
    "plt.title('ROC Curve with AUC = {:.2f}'.format(roc_auc_score(y_test1, y_proba_test)))\n",
    "plt.legend(loc='lower right')\n",
    "plt.grid(True)\n",
    "plt.show()"
   ]
  },
  {
   "cell_type": "code",
   "execution_count": 67,
   "metadata": {},
   "outputs": [
    {
     "name": "stdout",
     "output_type": "stream",
     "text": [
      "Training Results\n",
      "\n",
      "              precision    recall  f1-score   support\n",
      "\n",
      "         0.0       0.80      0.72      0.76    172233\n",
      "         1.0       0.75      0.82      0.78    172447\n",
      "\n",
      "    accuracy                           0.77    344680\n",
      "   macro avg       0.78      0.77      0.77    344680\n",
      "weighted avg       0.78      0.77      0.77    344680\n",
      "\n",
      "Testing Results\n",
      "\n",
      "              precision    recall  f1-score   support\n",
      "\n",
      "         0.0       0.80      0.72      0.76     57554\n",
      "         1.0       0.74      0.82      0.78     57340\n",
      "\n",
      "    accuracy                           0.77    114894\n",
      "   macro avg       0.77      0.77      0.77    114894\n",
      "weighted avg       0.77      0.77      0.77    114894\n",
      "\n"
     ]
    },
    {
     "data": {
      "image/png": "[encoded data removed]",
      "text/plain": [
       "<Figure size 640x480 with 1 Axes>"
      ]
     },
     "metadata": {},
     "output_type": "display_data"
    }
   ],
   "source": [
    "model3 = SVC(C=0.1, gamma=1, kernel='rbf', probability=True)\n",
    "model3.fit(x_train1, y_train1)\n",
    "\n",
    "ypred_train14 = model3.predict(x_train1)\n",
    "y_pred_test14 = model3.predict(x_test1)\n",
    "\n",
    "print(\"Training Results\\n\")\n",
    "print(classification_report(y_train1, ypred_train14))\n",
    "print(\"Testing Results\\n\")\n",
    "print(classification_report(y_test1, y_pred_test14))\n",
    "\n",
    "y_proba_test = model3.predict_proba(x_test1)[:, 1]\n",
    "fpr, tpr, thresholds = roc_curve(y_test1, y_proba_test)\n",
    "plt.plot(fpr, tpr, label='ROC Curve')\n",
    "plt.xlabel('False Positive Rate')\n",
    "plt.ylabel('True Positive Rate')\n",
    "plt.title('ROC Curve with AUC = {:.2f}'.format(roc_auc_score(y_test1, y_proba_test)))\n",
    "plt.legend(loc='lower right')\n",
    "plt.grid(True)\n",
    "plt.show()"
   ]
  }
 ],
 "metadata": {
  "kernelspec": {
   "display_name": "Python 3",
   "language": "python",
   "name": "python3"
  },
  "language_info": {
   "codemirror_mode": {
    "name": "ipython",
    "version": 3
   },
   "file_extension": ".py",
   "mimetype": "text/x-python",
   "name": "python",
   "nbconvert_exporter": "python",
   "pygments_lexer": "ipython3",
   "version": "0.0.0"
  }
 },
 "nbformat": 4,
 "nbformat_minor": 2
}
