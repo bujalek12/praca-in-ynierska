{
 "cells": [
  {
   "cell_type": "code",
   "execution_count": 1,
   "metadata": {},
   "outputs": [
    {
     "name": "stdout",
     "output_type": "stream",
     "text": [
      "WARNING:tensorflow:From C:\\Users\\DELL\\AppData\\Roaming\\Python\\Python311\\site-packages\\keras\\src\\losses.py:2976: The name tf.losses.sparse_softmax_cross_entropy is deprecated. Please use tf.compat.v1.losses.sparse_softmax_cross_entropy instead.\n",
      "\n"
     ]
    }
   ],
   "source": [
    "import pandas as pd\n",
    "import numpy as np\n",
    "import matplotlib.pyplot as plt\n",
    "import plotly.express as px\n",
    "from sklearn.preprocessing import LabelEncoder\n",
    "from sklearn.preprocessing import RobustScaler , MinMaxScaler, StandardScaler\n",
    "import seaborn as sns\n",
    "from sklearn.metrics import roc_curve\n",
    "from sklearn.metrics import roc_auc_score\n",
    "import tensorflow as tf\n",
    "from keras.preprocessing.image import ImageDataGenerator\n",
    "from tensorflow.keras.layers import Dropout\n",
    "from tensorflow.keras.models import Sequential\n",
    "from tensorflow.keras.layers import Dense, Activation\n",
    "from tensorflow.keras.callbacks import EarlyStopping\n",
    "from tensorflow.keras.layers import Input,Flatten,Conv1D,MaxPooling1D\n",
    "from sklearn.metrics import classification_report\n",
    "import warnings\n",
    "warnings.filterwarnings('ignore')\n",
    "import missingno as msno\n",
    "from sklearn.model_selection import train_test_split\n",
    "from sklearn.metrics import accuracy_score\n",
    "from sklearn.metrics import mean_absolute_error , mean_absolute_percentage_error , mean_squared_error\n",
    "from sklearn.metrics import r2_score\n",
    "from sklearn.metrics import confusion_matrix\n",
    "from sklearn.model_selection import cross_val_score\n",
    "from sklearn.metrics import RocCurveDisplay\n",
    "from sklearn.model_selection import RepeatedStratifiedKFold\n",
    "from sklearn.metrics import accuracy_score, precision_score, recall_score, f1_score\n",
    "from sklearn.model_selection import GridSearchCV\n",
    "from sklearn.tree import DecisionTreeClassifier\n",
    "from sklearn.ensemble import RandomForestClassifier\n",
    "from sklearn.naive_bayes import GaussianNB\n",
    "from xgboost import XGBClassifier\n",
    "from sklearn.linear_model import LogisticRegression\n",
    "from sklearn.svm import SVC\n",
    "from sklearn.decomposition import PCA\n",
    "from sklearn.ensemble import GradientBoostingClassifier\n",
    "from sklearn.neighbors import KNeighborsClassifier\n",
    "from keras.layers import LSTM\n",
    "from sklearn.preprocessing import MinMaxScaler"
   ]
  },
  {
   "cell_type": "markdown",
   "metadata": {},
   "source": [
    "## Classifier Without Imbalanced Technique"
   ]
  },
  {
   "cell_type": "code",
   "execution_count": 2,
   "metadata": {},
   "outputs": [
    {
     "data": {
      "text/html": [
       "<div>\n",
       "<style scoped>\n",
       "    .dataframe tbody tr th:only-of-type {\n",
       "        vertical-align: middle;\n",
       "    }\n",
       "\n",
       "    .dataframe tbody tr th {\n",
       "        vertical-align: top;\n",
       "    }\n",
       "\n",
       "    .dataframe thead th {\n",
       "        text-align: right;\n",
       "    }\n",
       "</style>\n",
       "<table border=\"1\" class=\"dataframe\">\n",
       "  <thead>\n",
       "    <tr style=\"text-align: right;\">\n",
       "      <th></th>\n",
       "      <th>HeartDiseaseorAttack</th>\n",
       "      <th>HighBP</th>\n",
       "      <th>HighChol</th>\n",
       "      <th>CholCheck</th>\n",
       "      <th>BMI</th>\n",
       "      <th>Smoker</th>\n",
       "      <th>Stroke</th>\n",
       "      <th>Diabetes</th>\n",
       "      <th>PhysActivity</th>\n",
       "      <th>Fruits</th>\n",
       "      <th>...</th>\n",
       "      <th>AnyHealthcare</th>\n",
       "      <th>NoDocbcCost</th>\n",
       "      <th>GenHlth</th>\n",
       "      <th>MentHlth</th>\n",
       "      <th>PhysHlth</th>\n",
       "      <th>DiffWalk</th>\n",
       "      <th>Sex</th>\n",
       "      <th>Age</th>\n",
       "      <th>Education</th>\n",
       "      <th>Income</th>\n",
       "    </tr>\n",
       "  </thead>\n",
       "  <tbody>\n",
       "    <tr>\n",
       "      <th>0</th>\n",
       "      <td>0.0</td>\n",
       "      <td>1.0</td>\n",
       "      <td>1.0</td>\n",
       "      <td>1.0</td>\n",
       "      <td>40.0</td>\n",
       "      <td>1.0</td>\n",
       "      <td>0.0</td>\n",
       "      <td>0.0</td>\n",
       "      <td>0.0</td>\n",
       "      <td>0.0</td>\n",
       "      <td>...</td>\n",
       "      <td>1.0</td>\n",
       "      <td>0.0</td>\n",
       "      <td>5.0</td>\n",
       "      <td>18.0</td>\n",
       "      <td>15.0</td>\n",
       "      <td>1.0</td>\n",
       "      <td>0.0</td>\n",
       "      <td>9.0</td>\n",
       "      <td>4.0</td>\n",
       "      <td>3.0</td>\n",
       "    </tr>\n",
       "    <tr>\n",
       "      <th>1</th>\n",
       "      <td>0.0</td>\n",
       "      <td>0.0</td>\n",
       "      <td>0.0</td>\n",
       "      <td>0.0</td>\n",
       "      <td>25.0</td>\n",
       "      <td>1.0</td>\n",
       "      <td>0.0</td>\n",
       "      <td>0.0</td>\n",
       "      <td>1.0</td>\n",
       "      <td>0.0</td>\n",
       "      <td>...</td>\n",
       "      <td>0.0</td>\n",
       "      <td>1.0</td>\n",
       "      <td>3.0</td>\n",
       "      <td>0.0</td>\n",
       "      <td>0.0</td>\n",
       "      <td>0.0</td>\n",
       "      <td>0.0</td>\n",
       "      <td>7.0</td>\n",
       "      <td>6.0</td>\n",
       "      <td>1.0</td>\n",
       "    </tr>\n",
       "    <tr>\n",
       "      <th>2</th>\n",
       "      <td>0.0</td>\n",
       "      <td>1.0</td>\n",
       "      <td>1.0</td>\n",
       "      <td>1.0</td>\n",
       "      <td>28.0</td>\n",
       "      <td>0.0</td>\n",
       "      <td>0.0</td>\n",
       "      <td>0.0</td>\n",
       "      <td>0.0</td>\n",
       "      <td>1.0</td>\n",
       "      <td>...</td>\n",
       "      <td>1.0</td>\n",
       "      <td>1.0</td>\n",
       "      <td>5.0</td>\n",
       "      <td>30.0</td>\n",
       "      <td>30.0</td>\n",
       "      <td>1.0</td>\n",
       "      <td>0.0</td>\n",
       "      <td>9.0</td>\n",
       "      <td>4.0</td>\n",
       "      <td>8.0</td>\n",
       "    </tr>\n",
       "    <tr>\n",
       "      <th>3</th>\n",
       "      <td>0.0</td>\n",
       "      <td>1.0</td>\n",
       "      <td>0.0</td>\n",
       "      <td>1.0</td>\n",
       "      <td>27.0</td>\n",
       "      <td>0.0</td>\n",
       "      <td>0.0</td>\n",
       "      <td>0.0</td>\n",
       "      <td>1.0</td>\n",
       "      <td>1.0</td>\n",
       "      <td>...</td>\n",
       "      <td>1.0</td>\n",
       "      <td>0.0</td>\n",
       "      <td>2.0</td>\n",
       "      <td>0.0</td>\n",
       "      <td>0.0</td>\n",
       "      <td>0.0</td>\n",
       "      <td>0.0</td>\n",
       "      <td>11.0</td>\n",
       "      <td>3.0</td>\n",
       "      <td>6.0</td>\n",
       "    </tr>\n",
       "    <tr>\n",
       "      <th>4</th>\n",
       "      <td>0.0</td>\n",
       "      <td>1.0</td>\n",
       "      <td>1.0</td>\n",
       "      <td>1.0</td>\n",
       "      <td>24.0</td>\n",
       "      <td>0.0</td>\n",
       "      <td>0.0</td>\n",
       "      <td>0.0</td>\n",
       "      <td>1.0</td>\n",
       "      <td>1.0</td>\n",
       "      <td>...</td>\n",
       "      <td>1.0</td>\n",
       "      <td>0.0</td>\n",
       "      <td>2.0</td>\n",
       "      <td>3.0</td>\n",
       "      <td>0.0</td>\n",
       "      <td>0.0</td>\n",
       "      <td>0.0</td>\n",
       "      <td>11.0</td>\n",
       "      <td>5.0</td>\n",
       "      <td>4.0</td>\n",
       "    </tr>\n",
       "  </tbody>\n",
       "</table>\n",
       "<p>5 rows × 22 columns</p>\n",
       "</div>"
      ],
      "text/plain": [
       "   HeartDiseaseorAttack  HighBP  HighChol  CholCheck   BMI  Smoker  Stroke  \\\n",
       "0                   0.0     1.0       1.0        1.0  40.0     1.0     0.0   \n",
       "1                   0.0     0.0       0.0        0.0  25.0     1.0     0.0   \n",
       "2                   0.0     1.0       1.0        1.0  28.0     0.0     0.0   \n",
       "3                   0.0     1.0       0.0        1.0  27.0     0.0     0.0   \n",
       "4                   0.0     1.0       1.0        1.0  24.0     0.0     0.0   \n",
       "\n",
       "   Diabetes  PhysActivity  Fruits  ...  AnyHealthcare  NoDocbcCost  GenHlth  \\\n",
       "0       0.0           0.0     0.0  ...            1.0          0.0      5.0   \n",
       "1       0.0           1.0     0.0  ...            0.0          1.0      3.0   \n",
       "2       0.0           0.0     1.0  ...            1.0          1.0      5.0   \n",
       "3       0.0           1.0     1.0  ...            1.0          0.0      2.0   \n",
       "4       0.0           1.0     1.0  ...            1.0          0.0      2.0   \n",
       "\n",
       "   MentHlth  PhysHlth  DiffWalk  Sex   Age  Education  Income  \n",
       "0      18.0      15.0       1.0  0.0   9.0        4.0     3.0  \n",
       "1       0.0       0.0       0.0  0.0   7.0        6.0     1.0  \n",
       "2      30.0      30.0       1.0  0.0   9.0        4.0     8.0  \n",
       "3       0.0       0.0       0.0  0.0  11.0        3.0     6.0  \n",
       "4       3.0       0.0       0.0  0.0  11.0        5.0     4.0  \n",
       "\n",
       "[5 rows x 22 columns]"
      ]
     },
     "execution_count": 2,
     "metadata": {},
     "output_type": "execute_result"
    }
   ],
   "source": [
    "df= pd.read_csv('Heart Disease Data 2015.csv')\n",
    "df.head()"
   ]
  },
  {
   "cell_type": "code",
   "execution_count": 3,
   "metadata": {},
   "outputs": [
    {
     "data": {
      "text/plain": [
       "HeartDiseaseorAttack\n",
       "0.0    229787\n",
       "1.0     23893\n",
       "Name: count, dtype: int64"
      ]
     },
     "execution_count": 3,
     "metadata": {},
     "output_type": "execute_result"
    }
   ],
   "source": [
    "df.drop(['Income',\"Education\",'DiffWalk',\"NoDocbcCost\",\"AnyHealthcare\",'Veggies',\"Fruits\",\"CholCheck\"],axis=1,inplace=True)\n",
    "df.shape\n",
    "df['HeartDiseaseorAttack'].value_counts()\n"
   ]
  },
  {
   "cell_type": "code",
   "execution_count": 4,
   "metadata": {},
   "outputs": [
    {
     "name": "stdout",
     "output_type": "stream",
     "text": [
      "<class 'pandas.core.frame.DataFrame'>\n",
      "RangeIndex: 253680 entries, 0 to 253679\n",
      "Data columns (total 14 columns):\n",
      " #   Column                Non-Null Count   Dtype  \n",
      "---  ------                --------------   -----  \n",
      " 0   HeartDiseaseorAttack  253680 non-null  float64\n",
      " 1   HighBP                253680 non-null  float64\n",
      " 2   HighChol              253680 non-null  float64\n",
      " 3   BMI                   253680 non-null  float64\n",
      " 4   Smoker                253680 non-null  float64\n",
      " 5   Stroke                253680 non-null  float64\n",
      " 6   Diabetes              253680 non-null  float64\n",
      " 7   PhysActivity          253680 non-null  float64\n",
      " 8   HvyAlcoholConsump     253680 non-null  float64\n",
      " 9   GenHlth               253680 non-null  float64\n",
      " 10  MentHlth              253680 non-null  float64\n",
      " 11  PhysHlth              253680 non-null  float64\n",
      " 12  Sex                   253680 non-null  float64\n",
      " 13  Age                   253680 non-null  float64\n",
      "dtypes: float64(14)\n",
      "memory usage: 27.1 MB\n"
     ]
    }
   ],
   "source": [
    "df.info()"
   ]
  },
  {
   "cell_type": "code",
   "execution_count": 5,
   "metadata": {},
   "outputs": [],
   "source": [
    "df.duplicated().sum()\n",
    "df.drop_duplicates(inplace=True)"
   ]
  },
  {
   "cell_type": "code",
   "execution_count": 6,
   "metadata": {},
   "outputs": [],
   "source": [
    "x = df.drop([\"HeartDiseaseorAttack\"] , axis = 1).values\n",
    "y = df[\"HeartDiseaseorAttack\"].values"
   ]
  },
  {
   "cell_type": "code",
   "execution_count": 7,
   "metadata": {},
   "outputs": [
    {
     "name": "stdout",
     "output_type": "stream",
     "text": [
      "118374 118374\n",
      "39459 39459\n"
     ]
    }
   ],
   "source": [
    "x_train , x_test , y_train ,y_test = train_test_split(x,y , test_size= 0.25 , random_state= 42)\n",
    "print(len(x_train), len(y_train))\n",
    "print(len(x_test), len(y_test))"
   ]
  },
  {
   "cell_type": "markdown",
   "metadata": {},
   "source": [
    "## scalar"
   ]
  },
  {
   "cell_type": "code",
   "execution_count": 8,
   "metadata": {},
   "outputs": [
    {
     "name": "stdout",
     "output_type": "stream",
     "text": [
      "118374 118374\n",
      "39459 39459\n"
     ]
    }
   ],
   "source": [
    "\n",
    "scaler = MinMaxScaler()\n",
    "x_train = scaler.fit_transform(x_train)\n",
    "x_test = scaler.transform(x_test)\n",
    "print(len(x_train), len(y_train))\n",
    "print(len(x_test), len(y_test))"
   ]
  },
  {
   "cell_type": "markdown",
   "metadata": {},
   "source": [
    "## Randomforest"
   ]
  },
  {
   "cell_type": "code",
   "execution_count": 9,
   "metadata": {},
   "outputs": [
    {
     "name": "stdout",
     "output_type": "stream",
     "text": [
      "Najlepsze parametry:  {'max_depth': 10, 'max_features': 'sqrt', 'min_samples_leaf': 1, 'min_samples_split': 4, 'n_estimators': 200}\n",
      "Training Results\n",
      "\n",
      "              precision    recall  f1-score   support\n",
      "\n",
      "         0.0       0.87      1.00      0.93    102339\n",
      "         1.0       0.78      0.08      0.15     16035\n",
      "\n",
      "    accuracy                           0.87    118374\n",
      "   macro avg       0.83      0.54      0.54    118374\n",
      "weighted avg       0.86      0.87      0.82    118374\n",
      "\n",
      "Test Results\n",
      "\n",
      "              precision    recall  f1-score   support\n",
      "\n",
      "         0.0       0.87      0.99      0.93     34073\n",
      "         1.0       0.61      0.06      0.10      5386\n",
      "\n",
      "    accuracy                           0.87     39459\n",
      "   macro avg       0.74      0.53      0.52     39459\n",
      "weighted avg       0.83      0.87      0.82     39459\n",
      "\n",
      "Confusion Matrix:\n",
      " [[33875   198]\n",
      " [ 5081   305]]\n",
      "Cross-validation scores: [0.86707497 0.8675396  0.86732841 0.86817318 0.86668919]\n",
      "Average cross-validation score: 0.867361070236071\n"
     ]
    }
   ],
   "source": [
    "\n",
    "\n",
    "\n",
    "# Inicjalizacja modelu z domyślnymi parametrami\n",
    "rf = RandomForestClassifier()\n",
    "\n",
    "# Określenie siatki parametrów do przetestowania\n",
    "param_grid = {\n",
    "    'n_estimators': [100, 200, 300],  # Liczba drzew\n",
    "    'max_depth': [10, 20, 30],        # Maksymalna głębokość drzewa\n",
    "    'min_samples_split': [2, 4, 6],   # Minimalna liczba próbek wymagana do podziału węzła\n",
    "    'min_samples_leaf': [1, 2, 4],    # Minimalna liczba próbek wymagana w liściu\n",
    "    'max_features': ['auto', 'sqrt']  # Liczba cech do rozważenia przy każdym podziale\n",
    "}\n",
    "\n",
    "# Utworzenie obiektu GridSearchCV\n",
    "cv_rf = GridSearchCV(estimator=rf, param_grid=param_grid, cv=5, scoring='accuracy')\n",
    "\n",
    "# Przeszukiwanie siatki parametrów\n",
    "cv_rf.fit(x_train, y_train)\n",
    "\n",
    "# Najlepszy zestaw parametrów\n",
    "print(\"Najlepsze parametry: \", cv_rf.best_params_)\n",
    "\n",
    "# Najlepszy estimator\n",
    "best_rf = cv_rf.best_estimator_\n",
    "\n",
    "# Predykcje i ocena modelu\n",
    "ypred_train = best_rf.predict(x_train)\n",
    "ypred_test = best_rf.predict(x_test)\n",
    "\n",
    "print(\"Training Results\\n\")\n",
    "print(classification_report(y_train, ypred_train))\n",
    "print(\"Test Results\\n\")\n",
    "print(classification_report(y_test, ypred_test))\n",
    "\n",
    "# Macierz pomyłek\n",
    "conf_matrix = confusion_matrix(y_test, ypred_test)\n",
    "print(\"Confusion Matrix:\\n\", conf_matrix)\n",
    "\n",
    "# Ocena modelu za pomocą walidacji krzyżowej\n",
    "cross_val_scores = cross_val_score(best_rf, x_train, y_train, cv=5)\n",
    "print(\"Cross-validation scores:\", cross_val_scores)\n",
    "print(\"Average cross-validation score:\", np.mean(cross_val_scores))"
   ]
  },
  {
   "cell_type": "code",
   "execution_count": 10,
   "metadata": {},
   "outputs": [
    {
     "data": {
      "image/png": "[encoded data removed]",
      "text/plain": [
       "<Figure size 640x480 with 1 Axes>"
      ]
     },
     "metadata": {},
     "output_type": "display_data"
    }
   ],
   "source": [
    "\n",
    "\n",
    "\n",
    "y_proba_test = best_rf.predict_proba(x_test)[:, 1]\n",
    "\n",
    "fpr, tpr, thresholds = roc_curve(y_test, y_proba_test)\n",
    "\n",
    "\n",
    "plt.plot(fpr, tpr, label='ROC Curve')\n",
    "plt.xlabel('False Positive Rate')\n",
    "plt.ylabel('True Positive Rate')\n",
    "plt.title('ROC Curve with AUC = {:.2f}'.format(roc_auc_score(y_test, y_proba_test)))\n",
    "plt.legend(loc='lower right')\n",
    "plt.grid(True)\n",
    "plt.show()"
   ]
  },
  {
   "cell_type": "markdown",
   "metadata": {},
   "source": [
    "## DECISION TREE CLASSIFIER"
   ]
  },
  {
   "cell_type": "code",
   "execution_count": 11,
   "metadata": {},
   "outputs": [
    {
     "name": "stdout",
     "output_type": "stream",
     "text": [
      "Najlepsze parametry: {'criterion': 'gini', 'max_depth': 5, 'min_samples_leaf': 1, 'min_samples_split': 2}\n",
      "Najlepsza dokładność: 0.8667021451805897\n",
      "Training Results\n",
      "\n",
      "              precision    recall  f1-score   support\n",
      "\n",
      "         0.0       0.87      0.99      0.93    102339\n",
      "         1.0       0.57      0.07      0.12     16035\n",
      "\n",
      "    accuracy                           0.87    118374\n",
      "   macro avg       0.72      0.53      0.53    118374\n",
      "weighted avg       0.83      0.87      0.82    118374\n",
      "\n",
      "Testing Results\n",
      "\n",
      "              precision    recall  f1-score   support\n",
      "\n",
      "         0.0       0.87      0.99      0.93     34073\n",
      "         1.0       0.59      0.07      0.12      5386\n",
      "\n",
      "    accuracy                           0.87     39459\n",
      "   macro avg       0.73      0.53      0.53     39459\n",
      "weighted avg       0.83      0.87      0.82     39459\n",
      "\n",
      "Cross-Validation Scores for the Best Model: [0.86711721 0.86656811 0.86686378 0.86652587 0.86643575]\n",
      "Average Cross-Validation Score: 0.8667021451805897\n"
     ]
    }
   ],
   "source": [
    "\n",
    "\n",
    "# Parametry do przetestowania w Grid Search\n",
    "param_grid = {\n",
    "    'max_depth': [3, 5, 10, None],\n",
    "    'min_samples_split': [2, 5, 10],\n",
    "    'min_samples_leaf': [1, 2, 5],\n",
    "    'criterion': ['gini', 'entropy']\n",
    "}\n",
    "\n",
    "# Utworzenie modelu drzewa decyzyjnego\n",
    "tree = DecisionTreeClassifier()\n",
    "\n",
    "# Uruchomienie Grid Search z walidacją krzyżową\n",
    "grid_search = GridSearchCV(tree, param_grid, cv=5, scoring='accuracy')\n",
    "grid_search.fit(x_train, y_train)\n",
    "\n",
    "# Wyświetlenie najlepszych parametrów i wyników\n",
    "print(\"Najlepsze parametry:\", grid_search.best_params_)\n",
    "print(\"Najlepsza dokładność:\", grid_search.best_score_)\n",
    "\n",
    "# Utworzenie i ocena modelu z najlepszymi parametrami\n",
    "best_tree = grid_search.best_estimator_\n",
    "best_tree.fit(x_train, y_train)\n",
    "\n",
    "ypred_train2 = best_tree.predict(x_train)\n",
    "ypred_test2 = best_tree.predict(x_test)\n",
    "\n",
    "# Ocena modelu na zbiorze testowym\n",
    "\n",
    "print(\"Training Results\\n\")\n",
    "print(classification_report(y_train, ypred_train2))\n",
    "print('Testing Results\\n')\n",
    "print(classification_report(y_test, ypred_test2))\n",
    "\n",
    "# Dodatkowo: Walidacja krzyżowa dla najlepszego modelu na całym zbiorze danych\n",
    "cross_val_scores = cross_val_score(best_tree, x_train, y_train, cv=5)\n",
    "print(\"Cross-Validation Scores for the Best Model:\", cross_val_scores)\n",
    "print(\"Average Cross-Validation Score:\", cross_val_scores.mean())"
   ]
  },
  {
   "cell_type": "code",
   "execution_count": 12,
   "metadata": {},
   "outputs": [
    {
     "data": {
      "image/png": "[encoded data removed]",
      "text/plain": [
       "<Figure size 640x480 with 1 Axes>"
      ]
     },
     "metadata": {},
     "output_type": "display_data"
    }
   ],
   "source": [
    "\n",
    "\n",
    "\n",
    "y_proba_test = best_tree.predict_proba(x_test)[:, 1]\n",
    "\n",
    "\n",
    "fpr, tpr, thresholds = roc_curve(y_test, y_proba_test)\n",
    "\n",
    "\n",
    "plt.plot(fpr, tpr, label='ROC Curve')\n",
    "plt.xlabel('False Positive Rate')\n",
    "plt.ylabel('True Positive Rate')\n",
    "plt.title('ROC Curve with AUC = {:.2f}'.format(roc_auc_score(y_test, y_proba_test)))\n",
    "plt.legend(loc='lower right')\n",
    "plt.grid(True)\n",
    "plt.show()"
   ]
  },
  {
   "cell_type": "markdown",
   "metadata": {},
   "source": [
    "## Naive Bayes"
   ]
  },
  {
   "cell_type": "code",
   "execution_count": 13,
   "metadata": {},
   "outputs": [
    {
     "name": "stdout",
     "output_type": "stream",
     "text": [
      "Naive Bayes Classifier Accuracy:  0.8132745381281837\n"
     ]
    }
   ],
   "source": [
    "Gnb = GaussianNB()\n",
    "Gnb.fit(x_train, y_train)\n",
    "ypred_train3 = Gnb.predict(x_train)\n",
    "y_pred_test3 = Gnb.predict(x_test)\n",
    "\n",
    "print(\"Naive Bayes Classifier Accuracy: \",accuracy_score(y_test, y_pred_test3))"
   ]
  },
  {
   "cell_type": "code",
   "execution_count": 14,
   "metadata": {},
   "outputs": [
    {
     "name": "stdout",
     "output_type": "stream",
     "text": [
      "Training Results\n",
      "\n",
      "              precision    recall  f1-score   support\n",
      "\n",
      "         0.0       0.91      0.87      0.89    102339\n",
      "         1.0       0.35      0.43      0.38     16035\n",
      "\n",
      "    accuracy                           0.81    118374\n",
      "   macro avg       0.63      0.65      0.64    118374\n",
      "weighted avg       0.83      0.81      0.82    118374\n",
      "\n"
     ]
    }
   ],
   "source": [
    "print(\"Training Results\\n\")\n",
    "print(classification_report(y_train, ypred_train3))"
   ]
  },
  {
   "cell_type": "code",
   "execution_count": 15,
   "metadata": {},
   "outputs": [
    {
     "name": "stdout",
     "output_type": "stream",
     "text": [
      "Testing Results\n",
      "\n",
      "              precision    recall  f1-score   support\n",
      "\n",
      "         0.0       0.91      0.87      0.89     34073\n",
      "         1.0       0.35      0.44      0.39      5386\n",
      "\n",
      "    accuracy                           0.81     39459\n",
      "   macro avg       0.63      0.66      0.64     39459\n",
      "weighted avg       0.83      0.81      0.82     39459\n",
      "\n"
     ]
    }
   ],
   "source": [
    "print('Testing Results\\n')\n",
    "print(classification_report(y_test, y_pred_test3))"
   ]
  },
  {
   "cell_type": "code",
   "execution_count": 16,
   "metadata": {},
   "outputs": [
    {
     "data": {
      "image/png": "[encoded data removed]",
      "text/plain": [
       "<Figure size 640x480 with 1 Axes>"
      ]
     },
     "metadata": {},
     "output_type": "display_data"
    }
   ],
   "source": [
    "\n",
    "\n",
    "\n",
    "y_proba_test = Gnb.predict_proba(x_test)[:, 1]\n",
    "\n",
    "\n",
    "fpr, tpr, thresholds = roc_curve(y_test, y_proba_test)\n",
    "\n",
    "\n",
    "plt.plot(fpr, tpr, label='ROC Curve')\n",
    "plt.xlabel('False Positive Rate')\n",
    "plt.ylabel('True Positive Rate')\n",
    "plt.title('ROC Curve with AUC = {:.2f}'.format(roc_auc_score(y_test, y_proba_test)))\n",
    "plt.legend(loc='lower right')\n",
    "plt.grid(True)\n",
    "plt.show()"
   ]
  },
  {
   "cell_type": "markdown",
   "metadata": {},
   "source": [
    "## XGBOSST"
   ]
  },
  {
   "cell_type": "code",
   "execution_count": 17,
   "metadata": {},
   "outputs": [
    {
     "name": "stdout",
     "output_type": "stream",
     "text": [
      "Najlepsze parametry:  {'colsample_bytree': 0.7, 'learning_rate': 0.2, 'max_depth': 3, 'n_estimators': 50, 'subsample': 0.8}\n",
      "Accuracy on Training set:  0.868594454863399\n",
      "Accuracy on Test set:  0.8664689931321118\n",
      "\n",
      "Training Results\n",
      "\n",
      "              precision    recall  f1-score   support\n",
      "\n",
      "         0.0       0.88      0.99      0.93    102339\n",
      "         1.0       0.59      0.10      0.17     16035\n",
      "\n",
      "    accuracy                           0.87    118374\n",
      "   macro avg       0.73      0.55      0.55    118374\n",
      "weighted avg       0.84      0.87      0.83    118374\n",
      "\n",
      "Testing Results\n",
      "\n",
      "              precision    recall  f1-score   support\n",
      "\n",
      "         0.0       0.87      0.99      0.93     34073\n",
      "         1.0       0.56      0.10      0.17      5386\n",
      "\n",
      "    accuracy                           0.87     39459\n",
      "   macro avg       0.72      0.54      0.55     39459\n",
      "weighted avg       0.83      0.87      0.82     39459\n",
      "\n"
     ]
    },
    {
     "data": {
      "image/png": "[encoded data removed]",
      "text/plain": [
       "<Figure size 640x480 with 1 Axes>"
      ]
     },
     "metadata": {},
     "output_type": "display_data"
    }
   ],
   "source": [
    "\n",
    "\n",
    "\n",
    "# Inicjalizacja modelu XGBoost\n",
    "xg = XGBClassifier()\n",
    "\n",
    "# Definiowanie siatki hiperparametrów do przetestowania\n",
    "param_grid = {\n",
    "    'n_estimators': [50, 100, 200],\n",
    "    'max_depth': [3, 5, 7],\n",
    "    'learning_rate': [0.01, 0.1, 0.2],\n",
    "    'subsample': [0.7, 0.8, 0.9],\n",
    "    'colsample_bytree': [0.7, 0.8, 0.9]\n",
    "}\n",
    "\n",
    "# Utworzenie obiektu GridSearchCV\n",
    "grid_search = GridSearchCV(estimator=xg, param_grid=param_grid, cv=3, scoring='accuracy')\n",
    "\n",
    "# Przeszukiwanie siatki parametrów\n",
    "grid_search.fit(x_train, y_train)\n",
    "\n",
    "# Najlepsze parametry i najlepszy model\n",
    "print(\"Najlepsze parametry: \", grid_search.best_params_)\n",
    "best_xg = grid_search.best_estimator_\n",
    "\n",
    "# Predykcje na zbiorze treningowym i testowym\n",
    "ypred_train4 = best_xg.predict(x_train)\n",
    "y_pred_test4 = best_xg.predict(x_test)\n",
    "\n",
    "# Ocena modelu\n",
    "print(\"Accuracy on Training set: \", accuracy_score(y_train, ypred_train4))\n",
    "print(\"Accuracy on Test set: \", accuracy_score(y_test, y_pred_test4))\n",
    "print(\"\\nTraining Results\\n\")\n",
    "print(classification_report(y_train, ypred_train4))\n",
    "print('Testing Results\\n')\n",
    "print(classification_report(y_test, y_pred_test4))\n",
    "\n",
    "# Krzywa ROC\n",
    "y_proba_test4 = best_xg.predict_proba(x_test)[:, 1]\n",
    "fpr, tpr, thresholds = roc_curve(y_test, y_proba_test4)\n",
    "plt.plot(fpr, tpr)\n",
    "plt.title(\"ROC Curve with AUC = {:.2f}\".format(roc_auc_score(y_test, y_proba_test4)))\n",
    "plt.show()"
   ]
  },
  {
   "cell_type": "markdown",
   "metadata": {},
   "source": [
    "## logistic regression"
   ]
  },
  {
   "cell_type": "code",
   "execution_count": 18,
   "metadata": {},
   "outputs": [
    {
     "name": "stdout",
     "output_type": "stream",
     "text": [
      "Najlepsze parametry:  {'C': 0.01, 'penalty': 'l2', 'solver': 'liblinear'}\n",
      "Accuracy on Training set:  0.8672259110953419\n",
      "Accuracy on Test set:  0.8672039331964825\n",
      "\n",
      "Training Results\n",
      "\n",
      "              precision    recall  f1-score   support\n",
      "\n",
      "         0.0       0.87      0.99      0.93    102339\n",
      "         1.0       0.58      0.08      0.13     16035\n",
      "\n",
      "    accuracy                           0.87    118374\n",
      "   macro avg       0.72      0.53      0.53    118374\n",
      "weighted avg       0.83      0.87      0.82    118374\n",
      "\n",
      "Testing Results\n",
      "\n",
      "              precision    recall  f1-score   support\n",
      "\n",
      "         0.0       0.87      0.99      0.93     34073\n",
      "         1.0       0.60      0.08      0.14      5386\n",
      "\n",
      "    accuracy                           0.87     39459\n",
      "   macro avg       0.74      0.54      0.54     39459\n",
      "weighted avg       0.84      0.87      0.82     39459\n",
      "\n"
     ]
    },
    {
     "data": {
      "image/png": "[encoded data removed]",
      "text/plain": [
       "<Figure size 640x480 with 1 Axes>"
      ]
     },
     "metadata": {},
     "output_type": "display_data"
    }
   ],
   "source": [
    "\n",
    "\n",
    "\n",
    "\n",
    "# Inicjalizacja modelu regresji logistycznej\n",
    "lg = LogisticRegression()\n",
    "\n",
    "# Definiowanie siatki hiperparametrów do przetestowania\n",
    "param_grid = {\n",
    "    'C': [0.01, 0.1, 1, 10, 100],  # Parametr regularyzacji\n",
    "    'penalty': ['l1', 'l2'],       # Typ regularyzacji\n",
    "    'solver': ['liblinear']        # Algorytm optymalizacji (liblinear jest dobrym wyborem dla małych zbiorów danych)\n",
    "}\n",
    "\n",
    "# Utworzenie obiektu GridSearchCV\n",
    "grid_search = GridSearchCV(estimator=lg, param_grid=param_grid, cv=5, scoring='accuracy')\n",
    "\n",
    "# Przeszukiwanie siatki parametrów\n",
    "grid_search.fit(x_train, y_train)\n",
    "\n",
    "# Najlepsze parametry i najlepszy model\n",
    "print(\"Najlepsze parametry: \", grid_search.best_params_)\n",
    "best_lg = grid_search.best_estimator_\n",
    "\n",
    "# Predykcje na zbiorze treningowym i testowym\n",
    "ypred_train4 = best_lg.predict(x_train)\n",
    "y_pred_test4 = best_lg.predict(x_test)\n",
    "# Ocena modelu\n",
    "print(\"Accuracy on Training set: \", accuracy_score(y_train, ypred_train4))\n",
    "print(\"Accuracy on Test set: \", accuracy_score(y_test, y_pred_test4))\n",
    "print(\"\\nTraining Results\\n\")\n",
    "print(classification_report(y_train, ypred_train4))\n",
    "print('Testing Results\\n')\n",
    "print(classification_report(y_test, y_pred_test4))\n",
    "\n",
    "# Krzywa ROC\n",
    "y_proba_test4 = best_lg.predict_proba(x_test)[:, 1]\n",
    "fpr, tpr, thresholds = roc_curve(y_test, y_proba_test4)\n",
    "plt.plot(fpr, tpr)\n",
    "plt.title(\"ROC Curve with AUC = {:.2f}\".format(roc_auc_score(y_test, y_proba_test4)))\n",
    "plt.show()"
   ]
  },
  {
   "cell_type": "markdown",
   "metadata": {},
   "source": [
    "## GradientBoostingClassifier"
   ]
  },
  {
   "cell_type": "code",
   "execution_count": 19,
   "metadata": {},
   "outputs": [
    {
     "name": "stdout",
     "output_type": "stream",
     "text": [
      "Najlepsze parametry:  {'learning_rate': 0.01, 'max_depth': 5, 'min_samples_leaf': 2, 'min_samples_split': 2, 'n_estimators': 300}\n",
      "Accuracy on Training set:  0.8686620372716982\n",
      "Accuracy on Test set:  0.8665703641754733\n",
      "\n",
      "Training Results\n",
      "\n",
      "              precision    recall  f1-score   support\n",
      "\n",
      "         0.0       0.87      0.99      0.93    102339\n",
      "         1.0       0.65      0.07      0.12     16035\n",
      "\n",
      "    accuracy                           0.87    118374\n",
      "   macro avg       0.76      0.53      0.53    118374\n",
      "weighted avg       0.84      0.87      0.82    118374\n",
      "\n",
      "Testing Results\n",
      "\n",
      "              precision    recall  f1-score   support\n",
      "\n",
      "         0.0       0.87      0.99      0.93     34073\n",
      "         1.0       0.60      0.06      0.12      5386\n",
      "\n",
      "    accuracy                           0.87     39459\n",
      "   macro avg       0.74      0.53      0.52     39459\n",
      "weighted avg       0.83      0.87      0.82     39459\n",
      "\n"
     ]
    },
    {
     "data": {
      "image/png": "[encoded data removed]",
      "text/plain": [
       "<Figure size 640x480 with 1 Axes>"
      ]
     },
     "metadata": {},
     "output_type": "display_data"
    }
   ],
   "source": [
    "\n",
    "\n",
    "\n",
    "# Inicjalizacja modelu Gradient Boosting Classifier\n",
    "gb = GradientBoostingClassifier()\n",
    "\n",
    "# Definiowanie siatki hiperparametrów do przetestowania\n",
    "param_grid = {\n",
    "    'n_estimators': [100, 200, 300],  # Liczba drzew w ensemble\n",
    "    'learning_rate': [0.01, 0.1, 0.2], # Szybkość uczenia\n",
    "    'max_depth': [3, 5, 7],            # Maksymalna głębokość drzewa\n",
    "    'min_samples_split': [2, 4],       # Minimalna liczba próbek wymagana do podziału węzła\n",
    "    'min_samples_leaf': [1, 2]         # Minimalna liczba próbek w liściu\n",
    "}\n",
    "\n",
    "# Utworzenie obiektu GridSearchCV\n",
    "grid_search = GridSearchCV(estimator=gb, param_grid=param_grid, cv=5, scoring='accuracy')\n",
    "\n",
    "# Przeszukiwanie siatki parametrów\n",
    "grid_search.fit(x_train, y_train)\n",
    "\n",
    "# Najlepsze parametry i najlepszy model\n",
    "print(\"Najlepsze parametry: \", grid_search.best_params_)\n",
    "best_gb = grid_search.best_estimator_\n",
    "\n",
    "# Predykcje na zbiorze treningowym i testowym\n",
    "ypred_train6 = best_gb.predict(x_train)\n",
    "y_pred_test6 = best_gb.predict(x_test)\n",
    "\n",
    "# Ocena modelu\n",
    "print(\"Accuracy on Training set: \", accuracy_score(y_train, ypred_train6))\n",
    "print(\"Accuracy on Test set: \", accuracy_score(y_test, y_pred_test6))\n",
    "print(\"\\nTraining Results\\n\")\n",
    "print(classification_report(y_train, ypred_train6))\n",
    "print('Testing Results\\n')\n",
    "print(classification_report(y_test, y_pred_test6))\n",
    "\n",
    "# Krzywa ROC\n",
    "y_proba_test6 = best_gb.predict_proba(x_test)[:, 1]\n",
    "fpr, tpr, thresholds = roc_curve(y_test, y_proba_test6)\n",
    "plt.plot(fpr, tpr)\n",
    "plt.title(\"ROC Curve with AUC = {:.2f}\".format(roc_auc_score(y_test, y_proba_test6)))\n",
    "plt.show()"
   ]
  },
  {
   "cell_type": "markdown",
   "metadata": {},
   "source": [
    "## KNN"
   ]
  },
  {
   "cell_type": "code",
   "execution_count": 20,
   "metadata": {},
   "outputs": [
    {
     "data": {
      "text/html": [
       "<style>#sk-container-id-1 {color: black;}#sk-container-id-1 pre{padding: 0;}#sk-container-id-1 div.sk-toggleable {background-color: white;}#sk-container-id-1 label.sk-toggleable__label {cursor: pointer;display: block;width: 100%;margin-bottom: 0;padding: 0.3em;box-sizing: border-box;text-align: center;}#sk-container-id-1 label.sk-toggleable__label-arrow:before {content: \"▸\";float: left;margin-right: 0.25em;color: #696969;}#sk-container-id-1 label.sk-toggleable__label-arrow:hover:before {color: black;}#sk-container-id-1 div.sk-estimator:hover label.sk-toggleable__label-arrow:before {color: black;}#sk-container-id-1 div.sk-toggleable__content {max-height: 0;max-width: 0;overflow: hidden;text-align: left;background-color: #f0f8ff;}#sk-container-id-1 div.sk-toggleable__content pre {margin: 0.2em;color: black;border-radius: 0.25em;background-color: #f0f8ff;}#sk-container-id-1 input.sk-toggleable__control:checked~div.sk-toggleable__content {max-height: 200px;max-width: 100%;overflow: auto;}#sk-container-id-1 input.sk-toggleable__control:checked~label.sk-toggleable__label-arrow:before {content: \"▾\";}#sk-container-id-1 div.sk-estimator input.sk-toggleable__control:checked~label.sk-toggleable__label {background-color: #d4ebff;}#sk-container-id-1 div.sk-label input.sk-toggleable__control:checked~label.sk-toggleable__label {background-color: #d4ebff;}#sk-container-id-1 input.sk-hidden--visually {border: 0;clip: rect(1px 1px 1px 1px);clip: rect(1px, 1px, 1px, 1px);height: 1px;margin: -1px;overflow: hidden;padding: 0;position: absolute;width: 1px;}#sk-container-id-1 div.sk-estimator {font-family: monospace;background-color: #f0f8ff;border: 1px dotted black;border-radius: 0.25em;box-sizing: border-box;margin-bottom: 0.5em;}#sk-container-id-1 div.sk-estimator:hover {background-color: #d4ebff;}#sk-container-id-1 div.sk-parallel-item::after {content: \"\";width: 100%;border-bottom: 1px solid gray;flex-grow: 1;}#sk-container-id-1 div.sk-label:hover label.sk-toggleable__label {background-color: #d4ebff;}#sk-container-id-1 div.sk-serial::before {content: \"\";position: absolute;border-left: 1px solid gray;box-sizing: border-box;top: 0;bottom: 0;left: 50%;z-index: 0;}#sk-container-id-1 div.sk-serial {display: flex;flex-direction: column;align-items: center;background-color: white;padding-right: 0.2em;padding-left: 0.2em;position: relative;}#sk-container-id-1 div.sk-item {position: relative;z-index: 1;}#sk-container-id-1 div.sk-parallel {display: flex;align-items: stretch;justify-content: center;background-color: white;position: relative;}#sk-container-id-1 div.sk-item::before, #sk-container-id-1 div.sk-parallel-item::before {content: \"\";position: absolute;border-left: 1px solid gray;box-sizing: border-box;top: 0;bottom: 0;left: 50%;z-index: -1;}#sk-container-id-1 div.sk-parallel-item {display: flex;flex-direction: column;z-index: 1;position: relative;background-color: white;}#sk-container-id-1 div.sk-parallel-item:first-child::after {align-self: flex-end;width: 50%;}#sk-container-id-1 div.sk-parallel-item:last-child::after {align-self: flex-start;width: 50%;}#sk-container-id-1 div.sk-parallel-item:only-child::after {width: 0;}#sk-container-id-1 div.sk-dashed-wrapped {border: 1px dashed gray;margin: 0 0.4em 0.5em 0.4em;box-sizing: border-box;padding-bottom: 0.4em;background-color: white;}#sk-container-id-1 div.sk-label label {font-family: monospace;font-weight: bold;display: inline-block;line-height: 1.2em;}#sk-container-id-1 div.sk-label-container {text-align: center;}#sk-container-id-1 div.sk-container {/* jupyter's `normalize.less` sets `[hidden] { display: none; }` but bootstrap.min.css set `[hidden] { display: none !important; }` so we also need the `!important` here to be able to override the default hidden behavior on the sphinx rendered scikit-learn.org. See: https://github.com/scikit-learn/scikit-learn/issues/21755 */display: inline-block !important;position: relative;}#sk-container-id-1 div.sk-text-repr-fallback {display: none;}</style><div id=\"sk-container-id-1\" class=\"sk-top-container\"><div class=\"sk-text-repr-fallback\"><pre>KNeighborsClassifier()</pre><b>In a Jupyter environment, please rerun this cell to show the HTML representation or trust the notebook. <br />On GitHub, the HTML representation is unable to render, please try loading this page with nbviewer.org.</b></div><div class=\"sk-container\" hidden><div class=\"sk-item\"><div class=\"sk-estimator sk-toggleable\"><input class=\"sk-toggleable__control sk-hidden--visually\" id=\"sk-estimator-id-1\" type=\"checkbox\" checked><label for=\"sk-estimator-id-1\" class=\"sk-toggleable__label sk-toggleable__label-arrow\">KNeighborsClassifier</label><div class=\"sk-toggleable__content\"><pre>KNeighborsClassifier()</pre></div></div></div></div></div>"
      ],
      "text/plain": [
       "KNeighborsClassifier()"
      ]
     },
     "execution_count": 20,
     "metadata": {},
     "output_type": "execute_result"
    }
   ],
   "source": [
    "knn = KNeighborsClassifier()\n",
    "knn.fit(x_train, y_train)"
   ]
  },
  {
   "cell_type": "code",
   "execution_count": 21,
   "metadata": {},
   "outputs": [],
   "source": [
    "grid_cv = GridSearchCV(KNeighborsClassifier(), \n",
    "                       param_grid={\n",
    "                           \"n_neighbors\": range(1, 50)\n",
    "                       }, cv=5, scoring=\"f1\", \n",
    "                       verbose=1, n_jobs=6)\n"
   ]
  },
  {
   "cell_type": "code",
   "execution_count": 22,
   "metadata": {},
   "outputs": [
    {
     "name": "stdout",
     "output_type": "stream",
     "text": [
      "Fitting 5 folds for each of 49 candidates, totalling 245 fits\n"
     ]
    },
    {
     "data": {
      "text/html": [
       "<style>#sk-container-id-2 {color: black;}#sk-container-id-2 pre{padding: 0;}#sk-container-id-2 div.sk-toggleable {background-color: white;}#sk-container-id-2 label.sk-toggleable__label {cursor: pointer;display: block;width: 100%;margin-bottom: 0;padding: 0.3em;box-sizing: border-box;text-align: center;}#sk-container-id-2 label.sk-toggleable__label-arrow:before {content: \"▸\";float: left;margin-right: 0.25em;color: #696969;}#sk-container-id-2 label.sk-toggleable__label-arrow:hover:before {color: black;}#sk-container-id-2 div.sk-estimator:hover label.sk-toggleable__label-arrow:before {color: black;}#sk-container-id-2 div.sk-toggleable__content {max-height: 0;max-width: 0;overflow: hidden;text-align: left;background-color: #f0f8ff;}#sk-container-id-2 div.sk-toggleable__content pre {margin: 0.2em;color: black;border-radius: 0.25em;background-color: #f0f8ff;}#sk-container-id-2 input.sk-toggleable__control:checked~div.sk-toggleable__content {max-height: 200px;max-width: 100%;overflow: auto;}#sk-container-id-2 input.sk-toggleable__control:checked~label.sk-toggleable__label-arrow:before {content: \"▾\";}#sk-container-id-2 div.sk-estimator input.sk-toggleable__control:checked~label.sk-toggleable__label {background-color: #d4ebff;}#sk-container-id-2 div.sk-label input.sk-toggleable__control:checked~label.sk-toggleable__label {background-color: #d4ebff;}#sk-container-id-2 input.sk-hidden--visually {border: 0;clip: rect(1px 1px 1px 1px);clip: rect(1px, 1px, 1px, 1px);height: 1px;margin: -1px;overflow: hidden;padding: 0;position: absolute;width: 1px;}#sk-container-id-2 div.sk-estimator {font-family: monospace;background-color: #f0f8ff;border: 1px dotted black;border-radius: 0.25em;box-sizing: border-box;margin-bottom: 0.5em;}#sk-container-id-2 div.sk-estimator:hover {background-color: #d4ebff;}#sk-container-id-2 div.sk-parallel-item::after {content: \"\";width: 100%;border-bottom: 1px solid gray;flex-grow: 1;}#sk-container-id-2 div.sk-label:hover label.sk-toggleable__label {background-color: #d4ebff;}#sk-container-id-2 div.sk-serial::before {content: \"\";position: absolute;border-left: 1px solid gray;box-sizing: border-box;top: 0;bottom: 0;left: 50%;z-index: 0;}#sk-container-id-2 div.sk-serial {display: flex;flex-direction: column;align-items: center;background-color: white;padding-right: 0.2em;padding-left: 0.2em;position: relative;}#sk-container-id-2 div.sk-item {position: relative;z-index: 1;}#sk-container-id-2 div.sk-parallel {display: flex;align-items: stretch;justify-content: center;background-color: white;position: relative;}#sk-container-id-2 div.sk-item::before, #sk-container-id-2 div.sk-parallel-item::before {content: \"\";position: absolute;border-left: 1px solid gray;box-sizing: border-box;top: 0;bottom: 0;left: 50%;z-index: -1;}#sk-container-id-2 div.sk-parallel-item {display: flex;flex-direction: column;z-index: 1;position: relative;background-color: white;}#sk-container-id-2 div.sk-parallel-item:first-child::after {align-self: flex-end;width: 50%;}#sk-container-id-2 div.sk-parallel-item:last-child::after {align-self: flex-start;width: 50%;}#sk-container-id-2 div.sk-parallel-item:only-child::after {width: 0;}#sk-container-id-2 div.sk-dashed-wrapped {border: 1px dashed gray;margin: 0 0.4em 0.5em 0.4em;box-sizing: border-box;padding-bottom: 0.4em;background-color: white;}#sk-container-id-2 div.sk-label label {font-family: monospace;font-weight: bold;display: inline-block;line-height: 1.2em;}#sk-container-id-2 div.sk-label-container {text-align: center;}#sk-container-id-2 div.sk-container {/* jupyter's `normalize.less` sets `[hidden] { display: none; }` but bootstrap.min.css set `[hidden] { display: none !important; }` so we also need the `!important` here to be able to override the default hidden behavior on the sphinx rendered scikit-learn.org. See: https://github.com/scikit-learn/scikit-learn/issues/21755 */display: inline-block !important;position: relative;}#sk-container-id-2 div.sk-text-repr-fallback {display: none;}</style><div id=\"sk-container-id-2\" class=\"sk-top-container\"><div class=\"sk-text-repr-fallback\"><pre>GridSearchCV(cv=5, estimator=KNeighborsClassifier(), n_jobs=6,\n",
       "             param_grid={&#x27;n_neighbors&#x27;: range(1, 50)}, scoring=&#x27;f1&#x27;, verbose=1)</pre><b>In a Jupyter environment, please rerun this cell to show the HTML representation or trust the notebook. <br />On GitHub, the HTML representation is unable to render, please try loading this page with nbviewer.org.</b></div><div class=\"sk-container\" hidden><div class=\"sk-item sk-dashed-wrapped\"><div class=\"sk-label-container\"><div class=\"sk-label sk-toggleable\"><input class=\"sk-toggleable__control sk-hidden--visually\" id=\"sk-estimator-id-2\" type=\"checkbox\" ><label for=\"sk-estimator-id-2\" class=\"sk-toggleable__label sk-toggleable__label-arrow\">GridSearchCV</label><div class=\"sk-toggleable__content\"><pre>GridSearchCV(cv=5, estimator=KNeighborsClassifier(), n_jobs=6,\n",
       "             param_grid={&#x27;n_neighbors&#x27;: range(1, 50)}, scoring=&#x27;f1&#x27;, verbose=1)</pre></div></div></div><div class=\"sk-parallel\"><div class=\"sk-parallel-item\"><div class=\"sk-item\"><div class=\"sk-label-container\"><div class=\"sk-label sk-toggleable\"><input class=\"sk-toggleable__control sk-hidden--visually\" id=\"sk-estimator-id-3\" type=\"checkbox\" ><label for=\"sk-estimator-id-3\" class=\"sk-toggleable__label sk-toggleable__label-arrow\">estimator: KNeighborsClassifier</label><div class=\"sk-toggleable__content\"><pre>KNeighborsClassifier()</pre></div></div></div><div class=\"sk-serial\"><div class=\"sk-item\"><div class=\"sk-estimator sk-toggleable\"><input class=\"sk-toggleable__control sk-hidden--visually\" id=\"sk-estimator-id-4\" type=\"checkbox\" ><label for=\"sk-estimator-id-4\" class=\"sk-toggleable__label sk-toggleable__label-arrow\">KNeighborsClassifier</label><div class=\"sk-toggleable__content\"><pre>KNeighborsClassifier()</pre></div></div></div></div></div></div></div></div></div></div>"
      ],
      "text/plain": [
       "GridSearchCV(cv=5, estimator=KNeighborsClassifier(), n_jobs=6,\n",
       "             param_grid={'n_neighbors': range(1, 50)}, scoring='f1', verbose=1)"
      ]
     },
     "execution_count": 22,
     "metadata": {},
     "output_type": "execute_result"
    }
   ],
   "source": [
    "grid_cv.fit(x_train, \n",
    "            y_train)"
   ]
  },
  {
   "cell_type": "code",
   "execution_count": 23,
   "metadata": {},
   "outputs": [
    {
     "data": {
      "text/plain": [
       "0.2524439512271498"
      ]
     },
     "execution_count": 23,
     "metadata": {},
     "output_type": "execute_result"
    }
   ],
   "source": [
    "grid_cv.best_score_\n"
   ]
  },
  {
   "cell_type": "code",
   "execution_count": 24,
   "metadata": {},
   "outputs": [
    {
     "data": {
      "text/html": [
       "<style>#sk-container-id-3 {color: black;}#sk-container-id-3 pre{padding: 0;}#sk-container-id-3 div.sk-toggleable {background-color: white;}#sk-container-id-3 label.sk-toggleable__label {cursor: pointer;display: block;width: 100%;margin-bottom: 0;padding: 0.3em;box-sizing: border-box;text-align: center;}#sk-container-id-3 label.sk-toggleable__label-arrow:before {content: \"▸\";float: left;margin-right: 0.25em;color: #696969;}#sk-container-id-3 label.sk-toggleable__label-arrow:hover:before {color: black;}#sk-container-id-3 div.sk-estimator:hover label.sk-toggleable__label-arrow:before {color: black;}#sk-container-id-3 div.sk-toggleable__content {max-height: 0;max-width: 0;overflow: hidden;text-align: left;background-color: #f0f8ff;}#sk-container-id-3 div.sk-toggleable__content pre {margin: 0.2em;color: black;border-radius: 0.25em;background-color: #f0f8ff;}#sk-container-id-3 input.sk-toggleable__control:checked~div.sk-toggleable__content {max-height: 200px;max-width: 100%;overflow: auto;}#sk-container-id-3 input.sk-toggleable__control:checked~label.sk-toggleable__label-arrow:before {content: \"▾\";}#sk-container-id-3 div.sk-estimator input.sk-toggleable__control:checked~label.sk-toggleable__label {background-color: #d4ebff;}#sk-container-id-3 div.sk-label input.sk-toggleable__control:checked~label.sk-toggleable__label {background-color: #d4ebff;}#sk-container-id-3 input.sk-hidden--visually {border: 0;clip: rect(1px 1px 1px 1px);clip: rect(1px, 1px, 1px, 1px);height: 1px;margin: -1px;overflow: hidden;padding: 0;position: absolute;width: 1px;}#sk-container-id-3 div.sk-estimator {font-family: monospace;background-color: #f0f8ff;border: 1px dotted black;border-radius: 0.25em;box-sizing: border-box;margin-bottom: 0.5em;}#sk-container-id-3 div.sk-estimator:hover {background-color: #d4ebff;}#sk-container-id-3 div.sk-parallel-item::after {content: \"\";width: 100%;border-bottom: 1px solid gray;flex-grow: 1;}#sk-container-id-3 div.sk-label:hover label.sk-toggleable__label {background-color: #d4ebff;}#sk-container-id-3 div.sk-serial::before {content: \"\";position: absolute;border-left: 1px solid gray;box-sizing: border-box;top: 0;bottom: 0;left: 50%;z-index: 0;}#sk-container-id-3 div.sk-serial {display: flex;flex-direction: column;align-items: center;background-color: white;padding-right: 0.2em;padding-left: 0.2em;position: relative;}#sk-container-id-3 div.sk-item {position: relative;z-index: 1;}#sk-container-id-3 div.sk-parallel {display: flex;align-items: stretch;justify-content: center;background-color: white;position: relative;}#sk-container-id-3 div.sk-item::before, #sk-container-id-3 div.sk-parallel-item::before {content: \"\";position: absolute;border-left: 1px solid gray;box-sizing: border-box;top: 0;bottom: 0;left: 50%;z-index: -1;}#sk-container-id-3 div.sk-parallel-item {display: flex;flex-direction: column;z-index: 1;position: relative;background-color: white;}#sk-container-id-3 div.sk-parallel-item:first-child::after {align-self: flex-end;width: 50%;}#sk-container-id-3 div.sk-parallel-item:last-child::after {align-self: flex-start;width: 50%;}#sk-container-id-3 div.sk-parallel-item:only-child::after {width: 0;}#sk-container-id-3 div.sk-dashed-wrapped {border: 1px dashed gray;margin: 0 0.4em 0.5em 0.4em;box-sizing: border-box;padding-bottom: 0.4em;background-color: white;}#sk-container-id-3 div.sk-label label {font-family: monospace;font-weight: bold;display: inline-block;line-height: 1.2em;}#sk-container-id-3 div.sk-label-container {text-align: center;}#sk-container-id-3 div.sk-container {/* jupyter's `normalize.less` sets `[hidden] { display: none; }` but bootstrap.min.css set `[hidden] { display: none !important; }` so we also need the `!important` here to be able to override the default hidden behavior on the sphinx rendered scikit-learn.org. See: https://github.com/scikit-learn/scikit-learn/issues/21755 */display: inline-block !important;position: relative;}#sk-container-id-3 div.sk-text-repr-fallback {display: none;}</style><div id=\"sk-container-id-3\" class=\"sk-top-container\"><div class=\"sk-text-repr-fallback\"><pre>KNeighborsClassifier(n_neighbors=3)</pre><b>In a Jupyter environment, please rerun this cell to show the HTML representation or trust the notebook. <br />On GitHub, the HTML representation is unable to render, please try loading this page with nbviewer.org.</b></div><div class=\"sk-container\" hidden><div class=\"sk-item\"><div class=\"sk-estimator sk-toggleable\"><input class=\"sk-toggleable__control sk-hidden--visually\" id=\"sk-estimator-id-5\" type=\"checkbox\" checked><label for=\"sk-estimator-id-5\" class=\"sk-toggleable__label sk-toggleable__label-arrow\">KNeighborsClassifier</label><div class=\"sk-toggleable__content\"><pre>KNeighborsClassifier(n_neighbors=3)</pre></div></div></div></div></div>"
      ],
      "text/plain": [
       "KNeighborsClassifier(n_neighbors=3)"
      ]
     },
     "execution_count": 24,
     "metadata": {},
     "output_type": "execute_result"
    }
   ],
   "source": [
    "knn = grid_cv.best_estimator_\n",
    "knn"
   ]
  },
  {
   "cell_type": "code",
   "execution_count": 25,
   "metadata": {},
   "outputs": [
    {
     "name": "stdout",
     "output_type": "stream",
     "text": [
      "XGBClassifier Accuracy:  0.8310904989989609\n"
     ]
    }
   ],
   "source": [
    "ypred_train = grid_cv.predict(x_train)\n",
    "y_pred_test = grid_cv.predict(x_test)\n",
    "print(\"XGBClassifier Accuracy: \",accuracy_score(y_test, y_pred_test))"
   ]
  },
  {
   "cell_type": "code",
   "execution_count": 26,
   "metadata": {},
   "outputs": [
    {
     "name": "stdout",
     "output_type": "stream",
     "text": [
      "Training Results\n",
      "\n",
      "              precision    recall  f1-score   support\n",
      "\n",
      "         0.0       0.92      0.97      0.94    102339\n",
      "         1.0       0.70      0.44      0.54     16035\n",
      "\n",
      "    accuracy                           0.90    118374\n",
      "   macro avg       0.81      0.71      0.74    118374\n",
      "weighted avg       0.89      0.90      0.89    118374\n",
      "\n"
     ]
    }
   ],
   "source": [
    "print(\"Training Results\\n\")\n",
    "print(classification_report(y_train, ypred_train))"
   ]
  },
  {
   "cell_type": "code",
   "execution_count": 27,
   "metadata": {},
   "outputs": [
    {
     "name": "stdout",
     "output_type": "stream",
     "text": [
      "Testing Results\n",
      "\n",
      "              precision    recall  f1-score   support\n",
      "\n",
      "         0.0       0.88      0.93      0.90     34073\n",
      "         1.0       0.32      0.21      0.25      5386\n",
      "\n",
      "    accuracy                           0.83     39459\n",
      "   macro avg       0.60      0.57      0.58     39459\n",
      "weighted avg       0.80      0.83      0.82     39459\n",
      "\n"
     ]
    }
   ],
   "source": [
    "print('Testing Results\\n')\n",
    "print(classification_report(y_test, y_pred_test))"
   ]
  },
  {
   "cell_type": "code",
   "execution_count": 28,
   "metadata": {},
   "outputs": [
    {
     "data": {
      "image/png": "[encoded data removed]",
      "text/plain": [
       "<Figure size 640x480 with 1 Axes>"
      ]
     },
     "metadata": {},
     "output_type": "display_data"
    }
   ],
   "source": [
    "\n",
    "\n",
    "\n",
    "y_proba_test = grid_cv.predict_proba(x_test)[:, 1]\n",
    "\n",
    "\n",
    "fpr, tpr, thresholds = roc_curve(y_test, y_proba_test)\n",
    "\n",
    "\n",
    "plt.plot(fpr, tpr, label='ROC Curve')\n",
    "plt.xlabel('False Positive Rate')\n",
    "plt.ylabel('True Positive Rate')\n",
    "plt.title('ROC Curve with AUC = {:.2f}'.format(roc_auc_score(y_test, y_proba_test)))\n",
    "plt.legend(loc='lower right')\n",
    "plt.grid(True)\n",
    "plt.show()"
   ]
  },
  {
   "cell_type": "markdown",
   "metadata": {},
   "source": [
    "## SIECI NEURONOWE"
   ]
  },
  {
   "cell_type": "markdown",
   "metadata": {},
   "source": [
    "## ANN"
   ]
  },
  {
   "cell_type": "code",
   "execution_count": 29,
   "metadata": {},
   "outputs": [
    {
     "name": "stdout",
     "output_type": "stream",
     "text": [
      "WARNING:tensorflow:From C:\\Users\\DELL\\AppData\\Roaming\\Python\\Python311\\site-packages\\keras\\src\\backend.py:873: The name tf.get_default_graph is deprecated. Please use tf.compat.v1.get_default_graph instead.\n",
      "\n"
     ]
    }
   ],
   "source": [
    "ann = tf.keras.models.Sequential()"
   ]
  },
  {
   "cell_type": "code",
   "execution_count": 30,
   "metadata": {},
   "outputs": [],
   "source": [
    "early_stop = EarlyStopping(monitor='val_loss', mode='min', verbose=1, patience=25)\n"
   ]
  },
  {
   "cell_type": "code",
   "execution_count": 31,
   "metadata": {},
   "outputs": [],
   "source": [
    "ann.add(tf.keras.layers.Dense(units=14, activation='relu'))"
   ]
  },
  {
   "cell_type": "code",
   "execution_count": 32,
   "metadata": {},
   "outputs": [],
   "source": [
    "ann.add(tf.keras.layers.Dense(units=6, activation='relu'))"
   ]
  },
  {
   "cell_type": "code",
   "execution_count": 33,
   "metadata": {},
   "outputs": [],
   "source": [
    "ann.add(tf.keras.layers.Dense(units=1, activation='sigmoid'))"
   ]
  },
  {
   "cell_type": "code",
   "execution_count": 34,
   "metadata": {},
   "outputs": [
    {
     "name": "stdout",
     "output_type": "stream",
     "text": [
      "WARNING:tensorflow:From C:\\Users\\DELL\\AppData\\Roaming\\Python\\Python311\\site-packages\\keras\\src\\optimizers\\__init__.py:309: The name tf.train.Optimizer is deprecated. Please use tf.compat.v1.train.Optimizer instead.\n",
      "\n"
     ]
    }
   ],
   "source": [
    "ann.compile(optimizer = 'adam', loss = 'binary_crossentropy', metrics = ['accuracy'])"
   ]
  },
  {
   "cell_type": "code",
   "execution_count": 35,
   "metadata": {},
   "outputs": [
    {
     "name": "stdout",
     "output_type": "stream",
     "text": [
      "Epoch 1/100\n",
      "WARNING:tensorflow:From C:\\Users\\DELL\\AppData\\Roaming\\Python\\Python311\\site-packages\\keras\\src\\utils\\tf_utils.py:492: The name tf.ragged.RaggedTensorValue is deprecated. Please use tf.compat.v1.ragged.RaggedTensorValue instead.\n",
      "\n",
      "WARNING:tensorflow:From C:\\Users\\DELL\\AppData\\Roaming\\Python\\Python311\\site-packages\\keras\\src\\engine\\base_layer_utils.py:384: The name tf.executing_eagerly_outside_functions is deprecated. Please use tf.compat.v1.executing_eagerly_outside_functions instead.\n",
      "\n",
      "3700/3700 [==============================] - 14s 3ms/step - loss: 0.3420 - accuracy: 0.8645 - val_loss: 0.3240 - val_accuracy: 0.8653\n",
      "Epoch 2/100\n",
      "3700/3700 [==============================] - 11s 3ms/step - loss: 0.3231 - accuracy: 0.8667 - val_loss: 0.3216 - val_accuracy: 0.8655\n",
      "Epoch 3/100\n",
      "3700/3700 [==============================] - 10s 3ms/step - loss: 0.3217 - accuracy: 0.8672 - val_loss: 0.3210 - val_accuracy: 0.8663\n",
      "Epoch 4/100\n",
      "3700/3700 [==============================] - 10s 3ms/step - loss: 0.3207 - accuracy: 0.8673 - val_loss: 0.3212 - val_accuracy: 0.8664\n",
      "Epoch 5/100\n",
      "3700/3700 [==============================] - 10s 3ms/step - loss: 0.3201 - accuracy: 0.8678 - val_loss: 0.3206 - val_accuracy: 0.8666\n",
      "Epoch 6/100\n",
      "3700/3700 [==============================] - 10s 3ms/step - loss: 0.3196 - accuracy: 0.8676 - val_loss: 0.3197 - val_accuracy: 0.8668\n",
      "Epoch 7/100\n",
      "3700/3700 [==============================] - 10s 3ms/step - loss: 0.3194 - accuracy: 0.8676 - val_loss: 0.3203 - val_accuracy: 0.8666\n",
      "Epoch 8/100\n",
      "3700/3700 [==============================] - 11s 3ms/step - loss: 0.3191 - accuracy: 0.8677 - val_loss: 0.3198 - val_accuracy: 0.8656\n",
      "Epoch 9/100\n",
      "3700/3700 [==============================] - 11s 3ms/step - loss: 0.3189 - accuracy: 0.8681 - val_loss: 0.3207 - val_accuracy: 0.8673\n",
      "Epoch 10/100\n",
      "3700/3700 [==============================] - 10s 3ms/step - loss: 0.3188 - accuracy: 0.8679 - val_loss: 0.3199 - val_accuracy: 0.8662\n",
      "Epoch 11/100\n",
      "3700/3700 [==============================] - 10s 3ms/step - loss: 0.3186 - accuracy: 0.8675 - val_loss: 0.3194 - val_accuracy: 0.8659\n",
      "Epoch 12/100\n",
      "3700/3700 [==============================] - 10s 3ms/step - loss: 0.3186 - accuracy: 0.8680 - val_loss: 0.3219 - val_accuracy: 0.8656\n",
      "Epoch 13/100\n",
      "3700/3700 [==============================] - 10s 3ms/step - loss: 0.3184 - accuracy: 0.8680 - val_loss: 0.3198 - val_accuracy: 0.8668\n",
      "Epoch 14/100\n",
      "3700/3700 [==============================] - 10s 3ms/step - loss: 0.3183 - accuracy: 0.8676 - val_loss: 0.3192 - val_accuracy: 0.8670\n",
      "Epoch 15/100\n",
      "3700/3700 [==============================] - 10s 3ms/step - loss: 0.3182 - accuracy: 0.8677 - val_loss: 0.3206 - val_accuracy: 0.8667\n",
      "Epoch 16/100\n",
      "3700/3700 [==============================] - 10s 3ms/step - loss: 0.3181 - accuracy: 0.8680 - val_loss: 0.3187 - val_accuracy: 0.8668\n",
      "Epoch 17/100\n",
      "3700/3700 [==============================] - 10s 3ms/step - loss: 0.3179 - accuracy: 0.8683 - val_loss: 0.3210 - val_accuracy: 0.8658\n",
      "Epoch 18/100\n",
      "3700/3700 [==============================] - 10s 3ms/step - loss: 0.3178 - accuracy: 0.8680 - val_loss: 0.3217 - val_accuracy: 0.8667\n",
      "Epoch 19/100\n",
      "3700/3700 [==============================] - 10s 3ms/step - loss: 0.3178 - accuracy: 0.8677 - val_loss: 0.3189 - val_accuracy: 0.8668\n",
      "Epoch 20/100\n",
      "3700/3700 [==============================] - 10s 3ms/step - loss: 0.3177 - accuracy: 0.8679 - val_loss: 0.3184 - val_accuracy: 0.8672\n",
      "Epoch 21/100\n",
      "3700/3700 [==============================] - 10s 3ms/step - loss: 0.3175 - accuracy: 0.8675 - val_loss: 0.3193 - val_accuracy: 0.8670\n",
      "Epoch 22/100\n",
      "3700/3700 [==============================] - 11s 3ms/step - loss: 0.3172 - accuracy: 0.8679 - val_loss: 0.3190 - val_accuracy: 0.8671\n",
      "Epoch 23/100\n",
      "3700/3700 [==============================] - 10s 3ms/step - loss: 0.3170 - accuracy: 0.8678 - val_loss: 0.3191 - val_accuracy: 0.8668\n",
      "Epoch 24/100\n",
      "3700/3700 [==============================] - 10s 3ms/step - loss: 0.3168 - accuracy: 0.8678 - val_loss: 0.3178 - val_accuracy: 0.8671\n",
      "Epoch 25/100\n",
      "3700/3700 [==============================] - 11s 3ms/step - loss: 0.3165 - accuracy: 0.8677 - val_loss: 0.3188 - val_accuracy: 0.8663\n",
      "Epoch 26/100\n",
      "3700/3700 [==============================] - 10s 3ms/step - loss: 0.3162 - accuracy: 0.8678 - val_loss: 0.3179 - val_accuracy: 0.8664\n",
      "Epoch 27/100\n",
      "3700/3700 [==============================] - 10s 3ms/step - loss: 0.3160 - accuracy: 0.8682 - val_loss: 0.3171 - val_accuracy: 0.8671\n",
      "Epoch 28/100\n",
      "3700/3700 [==============================] - 10s 3ms/step - loss: 0.3157 - accuracy: 0.8678 - val_loss: 0.3177 - val_accuracy: 0.8667\n",
      "Epoch 29/100\n",
      "3700/3700 [==============================] - 11s 3ms/step - loss: 0.3156 - accuracy: 0.8677 - val_loss: 0.3176 - val_accuracy: 0.8663\n",
      "Epoch 30/100\n",
      "3700/3700 [==============================] - 10s 3ms/step - loss: 0.3154 - accuracy: 0.8683 - val_loss: 0.3170 - val_accuracy: 0.8667\n",
      "Epoch 31/100\n",
      "3700/3700 [==============================] - 10s 3ms/step - loss: 0.3154 - accuracy: 0.8681 - val_loss: 0.3171 - val_accuracy: 0.8666\n",
      "Epoch 32/100\n",
      "3700/3700 [==============================] - 10s 3ms/step - loss: 0.3153 - accuracy: 0.8677 - val_loss: 0.3175 - val_accuracy: 0.8668\n",
      "Epoch 33/100\n",
      "3700/3700 [==============================] - 11s 3ms/step - loss: 0.3152 - accuracy: 0.8681 - val_loss: 0.3170 - val_accuracy: 0.8666\n",
      "Epoch 34/100\n",
      "3700/3700 [==============================] - 10s 3ms/step - loss: 0.3150 - accuracy: 0.8678 - val_loss: 0.3211 - val_accuracy: 0.8662\n",
      "Epoch 35/100\n",
      "3700/3700 [==============================] - 10s 3ms/step - loss: 0.3149 - accuracy: 0.8677 - val_loss: 0.3168 - val_accuracy: 0.8667\n",
      "Epoch 36/100\n",
      "3700/3700 [==============================] - 10s 3ms/step - loss: 0.3150 - accuracy: 0.8680 - val_loss: 0.3177 - val_accuracy: 0.8665\n",
      "Epoch 37/100\n",
      "3700/3700 [==============================] - 10s 3ms/step - loss: 0.3149 - accuracy: 0.8678 - val_loss: 0.3169 - val_accuracy: 0.8662\n",
      "Epoch 38/100\n",
      "3700/3700 [==============================] - 10s 3ms/step - loss: 0.3149 - accuracy: 0.8676 - val_loss: 0.3172 - val_accuracy: 0.8664\n",
      "Epoch 39/100\n",
      "3700/3700 [==============================] - 10s 3ms/step - loss: 0.3149 - accuracy: 0.8680 - val_loss: 0.3172 - val_accuracy: 0.8670\n",
      "Epoch 40/100\n",
      "3700/3700 [==============================] - 11s 3ms/step - loss: 0.3149 - accuracy: 0.8682 - val_loss: 0.3171 - val_accuracy: 0.8667\n",
      "Epoch 41/100\n",
      "3700/3700 [==============================] - 10s 3ms/step - loss: 0.3149 - accuracy: 0.8678 - val_loss: 0.3169 - val_accuracy: 0.8670\n",
      "Epoch 42/100\n",
      "3700/3700 [==============================] - 10s 3ms/step - loss: 0.3147 - accuracy: 0.8679 - val_loss: 0.3178 - val_accuracy: 0.8664\n",
      "Epoch 43/100\n",
      "3700/3700 [==============================] - 11s 3ms/step - loss: 0.3148 - accuracy: 0.8677 - val_loss: 0.3177 - val_accuracy: 0.8663\n",
      "Epoch 44/100\n",
      "3700/3700 [==============================] - 10s 3ms/step - loss: 0.3146 - accuracy: 0.8681 - val_loss: 0.3187 - val_accuracy: 0.8668\n",
      "Epoch 45/100\n",
      "3700/3700 [==============================] - 10s 3ms/step - loss: 0.3148 - accuracy: 0.8681 - val_loss: 0.3183 - val_accuracy: 0.8659\n",
      "Epoch 46/100\n",
      "3700/3700 [==============================] - 10s 3ms/step - loss: 0.3146 - accuracy: 0.8677 - val_loss: 0.3173 - val_accuracy: 0.8659\n",
      "Epoch 47/100\n",
      "3700/3700 [==============================] - 10s 3ms/step - loss: 0.3146 - accuracy: 0.8678 - val_loss: 0.3179 - val_accuracy: 0.8666\n",
      "Epoch 48/100\n",
      "3700/3700 [==============================] - 11s 3ms/step - loss: 0.3146 - accuracy: 0.8681 - val_loss: 0.3174 - val_accuracy: 0.8669\n",
      "Epoch 49/100\n",
      "3700/3700 [==============================] - 10s 3ms/step - loss: 0.3145 - accuracy: 0.8680 - val_loss: 0.3173 - val_accuracy: 0.8663\n",
      "Epoch 50/100\n",
      "3700/3700 [==============================] - 10s 3ms/step - loss: 0.3146 - accuracy: 0.8677 - val_loss: 0.3182 - val_accuracy: 0.8669\n",
      "Epoch 51/100\n",
      "3700/3700 [==============================] - 11s 3ms/step - loss: 0.3146 - accuracy: 0.8681 - val_loss: 0.3172 - val_accuracy: 0.8665\n",
      "Epoch 52/100\n",
      "3700/3700 [==============================] - 10s 3ms/step - loss: 0.3145 - accuracy: 0.8679 - val_loss: 0.3172 - val_accuracy: 0.8666\n",
      "Epoch 53/100\n",
      "3700/3700 [==============================] - 10s 3ms/step - loss: 0.3144 - accuracy: 0.8680 - val_loss: 0.3181 - val_accuracy: 0.8663\n",
      "Epoch 54/100\n",
      "3700/3700 [==============================] - 10s 3ms/step - loss: 0.3145 - accuracy: 0.8679 - val_loss: 0.3172 - val_accuracy: 0.8662\n",
      "Epoch 55/100\n",
      "3700/3700 [==============================] - 10s 3ms/step - loss: 0.3145 - accuracy: 0.8678 - val_loss: 0.3171 - val_accuracy: 0.8660\n",
      "Epoch 56/100\n",
      "3700/3700 [==============================] - 10s 3ms/step - loss: 0.3146 - accuracy: 0.8679 - val_loss: 0.3172 - val_accuracy: 0.8665\n",
      "Epoch 57/100\n",
      "3700/3700 [==============================] - 11s 3ms/step - loss: 0.3144 - accuracy: 0.8682 - val_loss: 0.3166 - val_accuracy: 0.8663\n",
      "Epoch 58/100\n",
      "3700/3700 [==============================] - 11s 3ms/step - loss: 0.3144 - accuracy: 0.8678 - val_loss: 0.3185 - val_accuracy: 0.8655\n",
      "Epoch 59/100\n",
      "3700/3700 [==============================] - 10s 3ms/step - loss: 0.3144 - accuracy: 0.8681 - val_loss: 0.3197 - val_accuracy: 0.8662\n",
      "Epoch 60/100\n",
      "3700/3700 [==============================] - 11s 3ms/step - loss: 0.3143 - accuracy: 0.8679 - val_loss: 0.3172 - val_accuracy: 0.8658\n",
      "Epoch 61/100\n",
      "3700/3700 [==============================] - 10s 3ms/step - loss: 0.3142 - accuracy: 0.8682 - val_loss: 0.3184 - val_accuracy: 0.8665\n",
      "Epoch 62/100\n",
      "3700/3700 [==============================] - 11s 3ms/step - loss: 0.3144 - accuracy: 0.8678 - val_loss: 0.3170 - val_accuracy: 0.8663\n",
      "Epoch 63/100\n",
      "3700/3700 [==============================] - 11s 3ms/step - loss: 0.3144 - accuracy: 0.8680 - val_loss: 0.3168 - val_accuracy: 0.8662\n",
      "Epoch 64/100\n",
      "3700/3700 [==============================] - 11s 3ms/step - loss: 0.3143 - accuracy: 0.8682 - val_loss: 0.3172 - val_accuracy: 0.8665\n",
      "Epoch 65/100\n",
      "3700/3700 [==============================] - 11s 3ms/step - loss: 0.3144 - accuracy: 0.8676 - val_loss: 0.3174 - val_accuracy: 0.8667\n",
      "Epoch 66/100\n",
      "3700/3700 [==============================] - 11s 3ms/step - loss: 0.3143 - accuracy: 0.8679 - val_loss: 0.3185 - val_accuracy: 0.8671\n",
      "Epoch 67/100\n",
      "3700/3700 [==============================] - 10s 3ms/step - loss: 0.3143 - accuracy: 0.8679 - val_loss: 0.3174 - val_accuracy: 0.8663\n",
      "Epoch 68/100\n",
      "3700/3700 [==============================] - 10s 3ms/step - loss: 0.3142 - accuracy: 0.8678 - val_loss: 0.3171 - val_accuracy: 0.8671\n",
      "Epoch 69/100\n",
      "3700/3700 [==============================] - 10s 3ms/step - loss: 0.3143 - accuracy: 0.8678 - val_loss: 0.3172 - val_accuracy: 0.8667\n",
      "Epoch 70/100\n",
      "3700/3700 [==============================] - 10s 3ms/step - loss: 0.3143 - accuracy: 0.8678 - val_loss: 0.3186 - val_accuracy: 0.8668\n",
      "Epoch 71/100\n",
      "3700/3700 [==============================] - 10s 3ms/step - loss: 0.3142 - accuracy: 0.8683 - val_loss: 0.3193 - val_accuracy: 0.8663\n",
      "Epoch 72/100\n",
      "3700/3700 [==============================] - 11s 3ms/step - loss: 0.3143 - accuracy: 0.8681 - val_loss: 0.3170 - val_accuracy: 0.8664\n",
      "Epoch 73/100\n",
      "3700/3700 [==============================] - 11s 3ms/step - loss: 0.3142 - accuracy: 0.8677 - val_loss: 0.3175 - val_accuracy: 0.8656\n",
      "Epoch 74/100\n",
      "3700/3700 [==============================] - 10s 3ms/step - loss: 0.3143 - accuracy: 0.8681 - val_loss: 0.3168 - val_accuracy: 0.8665\n",
      "Epoch 75/100\n",
      "3700/3700 [==============================] - 10s 3ms/step - loss: 0.3142 - accuracy: 0.8676 - val_loss: 0.3181 - val_accuracy: 0.8669\n",
      "Epoch 76/100\n",
      "3700/3700 [==============================] - 11s 3ms/step - loss: 0.3142 - accuracy: 0.8680 - val_loss: 0.3166 - val_accuracy: 0.8666\n",
      "Epoch 77/100\n",
      "3700/3700 [==============================] - 11s 3ms/step - loss: 0.3143 - accuracy: 0.8680 - val_loss: 0.3175 - val_accuracy: 0.8660\n",
      "Epoch 78/100\n",
      "3700/3700 [==============================] - 10s 3ms/step - loss: 0.3143 - accuracy: 0.8682 - val_loss: 0.3167 - val_accuracy: 0.8666\n",
      "Epoch 79/100\n",
      "3700/3700 [==============================] - 10s 3ms/step - loss: 0.3141 - accuracy: 0.8681 - val_loss: 0.3172 - val_accuracy: 0.8664\n",
      "Epoch 80/100\n",
      "3700/3700 [==============================] - 10s 3ms/step - loss: 0.3140 - accuracy: 0.8681 - val_loss: 0.3183 - val_accuracy: 0.8664\n",
      "Epoch 81/100\n",
      "3700/3700 [==============================] - 10s 3ms/step - loss: 0.3141 - accuracy: 0.8676 - val_loss: 0.3174 - val_accuracy: 0.8658\n",
      "Epoch 82/100\n",
      "3700/3700 [==============================] - 10s 3ms/step - loss: 0.3140 - accuracy: 0.8682 - val_loss: 0.3175 - val_accuracy: 0.8664\n",
      "Epoch 82: early stopping\n"
     ]
    },
    {
     "data": {
      "text/plain": [
       "<keras.src.callbacks.History at 0x1c9020007d0>"
      ]
     },
     "execution_count": 35,
     "metadata": {},
     "output_type": "execute_result"
    }
   ],
   "source": [
    "ann.fit(x_train, y_train, batch_size = 32, epochs=100,\n",
    "          validation_data=(x_test, y_test), verbose=1,\n",
    "          callbacks=[early_stop])"
   ]
  },
  {
   "cell_type": "code",
   "execution_count": 36,
   "metadata": {},
   "outputs": [
    {
     "name": "stdout",
     "output_type": "stream",
     "text": [
      "3700/3700 [==============================] - 8s 2ms/step\n",
      "1234/1234 [==============================] - 2s 2ms/step\n",
      "[[0. 0.]\n",
      " [0. 0.]\n",
      " [0. 0.]\n",
      " ...\n",
      " [0. 0.]\n",
      " [0. 0.]\n",
      " [0. 0.]]\n"
     ]
    }
   ],
   "source": [
    "ypred_train6 = ann.predict(x_train)\n",
    "y_pred_test6 = ann.predict(x_test)\n",
    "\n",
    "y_pred_test6 = (y_pred_test6 > 0.5)\n",
    "ypred_train6 = (ypred_train6 > 0.5)\n",
    "print(np.concatenate((y_pred_test6.reshape(len(y_pred_test6),1), y_test.reshape(len(y_test),1)),1))"
   ]
  },
  {
   "cell_type": "code",
   "execution_count": 37,
   "metadata": {},
   "outputs": [
    {
     "data": {
      "text/plain": [
       "0.8663929648495907"
      ]
     },
     "execution_count": 37,
     "metadata": {},
     "output_type": "execute_result"
    }
   ],
   "source": [
    "accuracy_score(y_test, y_pred_test6)"
   ]
  },
  {
   "cell_type": "code",
   "execution_count": 38,
   "metadata": {},
   "outputs": [
    {
     "name": "stdout",
     "output_type": "stream",
     "text": [
      "Training Results\n",
      "\n",
      "              precision    recall  f1-score   support\n",
      "\n",
      "         0.0       0.87      0.99      0.93    102339\n",
      "         1.0       0.58      0.09      0.16     16035\n",
      "\n",
      "    accuracy                           0.87    118374\n",
      "   macro avg       0.73      0.54      0.54    118374\n",
      "weighted avg       0.83      0.87      0.82    118374\n",
      "\n"
     ]
    }
   ],
   "source": [
    "print(\"Training Results\\n\")\n",
    "print(classification_report(y_train, ypred_train6))"
   ]
  },
  {
   "cell_type": "code",
   "execution_count": 39,
   "metadata": {},
   "outputs": [
    {
     "name": "stdout",
     "output_type": "stream",
     "text": [
      "Testing Results\n",
      "\n",
      "              precision    recall  f1-score   support\n",
      "\n",
      "         0.0       0.87      0.99      0.93     34073\n",
      "         1.0       0.56      0.09      0.16      5386\n",
      "\n",
      "    accuracy                           0.87     39459\n",
      "   macro avg       0.72      0.54      0.54     39459\n",
      "weighted avg       0.83      0.87      0.82     39459\n",
      "\n"
     ]
    }
   ],
   "source": [
    "print('Testing Results\\n')\n",
    "print(classification_report(y_test, y_pred_test6))"
   ]
  },
  {
   "cell_type": "code",
   "execution_count": null,
   "metadata": {},
   "outputs": [],
   "source": [
    "\n",
    "\n",
    "y_proba_test = ann.predict(x_test).flatten()\n",
    "\n",
    "\n",
    "fpr, tpr, thresholds = roc_curve(y_test, y_proba_test)\n",
    "\n",
    "\n",
    "plt.plot(fpr, tpr, label='ROC Curve')\n",
    "plt.xlabel('False Positive Rate')\n",
    "plt.ylabel('True Positive Rate')\n",
    "plt.title('ROC Curve with AUC = {:.2f}'.format(roc_auc_score(y_test, y_proba_test)))\n",
    "plt.legend(loc='lower right')\n",
    "plt.grid(True)\n",
    "plt.show()"
   ]
  },
  {
   "cell_type": "markdown",
   "metadata": {},
   "source": [
    "## inna proba "
   ]
  },
  {
   "cell_type": "code",
   "execution_count": 41,
   "metadata": {},
   "outputs": [
    {
     "name": "stderr",
     "output_type": "stream",
     "text": [
      "WARNING:absl:`lr` is deprecated in Keras optimizer, please use `learning_rate` or use the legacy optimizer, e.g.,tf.keras.optimizers.legacy.Adam.\n"
     ]
    },
    {
     "name": "stdout",
     "output_type": "stream",
     "text": [
      "Epoch 1/100\n",
      "3700/3700 [==============================] - 12s 3ms/step - loss: 0.3357 - accuracy: 0.8647\n",
      "Epoch 2/100\n",
      "3700/3700 [==============================] - 9s 2ms/step - loss: 0.3223 - accuracy: 0.8668\n",
      "Epoch 3/100\n",
      "3700/3700 [==============================] - 9s 2ms/step - loss: 0.3205 - accuracy: 0.8674\n",
      "Epoch 4/100\n",
      "3700/3700 [==============================] - 9s 2ms/step - loss: 0.3195 - accuracy: 0.8673\n",
      "Epoch 5/100\n",
      "3700/3700 [==============================] - 9s 2ms/step - loss: 0.3185 - accuracy: 0.8674\n",
      "Epoch 6/100\n",
      "3700/3700 [==============================] - 9s 2ms/step - loss: 0.3182 - accuracy: 0.8671\n",
      "Epoch 7/100\n",
      "3700/3700 [==============================] - 9s 2ms/step - loss: 0.3176 - accuracy: 0.8673\n",
      "Epoch 8/100\n",
      "3700/3700 [==============================] - 9s 2ms/step - loss: 0.3171 - accuracy: 0.8671\n",
      "Epoch 9/100\n",
      "3700/3700 [==============================] - 9s 2ms/step - loss: 0.3170 - accuracy: 0.8675\n",
      "Epoch 10/100\n",
      "3700/3700 [==============================] - 9s 2ms/step - loss: 0.3166 - accuracy: 0.8674\n",
      "Epoch 11/100\n",
      "3700/3700 [==============================] - 9s 2ms/step - loss: 0.3164 - accuracy: 0.8677\n",
      "Epoch 12/100\n",
      "3700/3700 [==============================] - 9s 2ms/step - loss: 0.3163 - accuracy: 0.8679\n",
      "Epoch 13/100\n",
      "3700/3700 [==============================] - 9s 2ms/step - loss: 0.3160 - accuracy: 0.8675\n",
      "Epoch 14/100\n",
      "3700/3700 [==============================] - 9s 2ms/step - loss: 0.3160 - accuracy: 0.8677\n",
      "Epoch 15/100\n",
      "3700/3700 [==============================] - 9s 2ms/step - loss: 0.3158 - accuracy: 0.8677\n",
      "Epoch 16/100\n",
      "3700/3700 [==============================] - 9s 2ms/step - loss: 0.3158 - accuracy: 0.8676\n",
      "Epoch 17/100\n",
      "3700/3700 [==============================] - 9s 2ms/step - loss: 0.3156 - accuracy: 0.8681\n",
      "Epoch 18/100\n",
      "3700/3700 [==============================] - 9s 2ms/step - loss: 0.3153 - accuracy: 0.8679\n",
      "Epoch 19/100\n",
      "3700/3700 [==============================] - 9s 2ms/step - loss: 0.3153 - accuracy: 0.8680\n",
      "Epoch 20/100\n",
      "3700/3700 [==============================] - 9s 2ms/step - loss: 0.3154 - accuracy: 0.8677\n",
      "Epoch 21/100\n",
      "3700/3700 [==============================] - 9s 2ms/step - loss: 0.3152 - accuracy: 0.8678\n",
      "Epoch 22/100\n",
      "3700/3700 [==============================] - 9s 2ms/step - loss: 0.3151 - accuracy: 0.8681\n",
      "Epoch 23/100\n",
      "3700/3700 [==============================] - 9s 2ms/step - loss: 0.3151 - accuracy: 0.8676\n",
      "Epoch 24/100\n",
      "3700/3700 [==============================] - 9s 2ms/step - loss: 0.3149 - accuracy: 0.8679\n",
      "Epoch 25/100\n",
      "3700/3700 [==============================] - 9s 2ms/step - loss: 0.3147 - accuracy: 0.8682\n",
      "Epoch 26/100\n",
      "3700/3700 [==============================] - 9s 2ms/step - loss: 0.3146 - accuracy: 0.8681\n",
      "Epoch 27/100\n",
      "3700/3700 [==============================] - 9s 2ms/step - loss: 0.3147 - accuracy: 0.8679\n",
      "Epoch 28/100\n",
      "3700/3700 [==============================] - 9s 2ms/step - loss: 0.3146 - accuracy: 0.8682\n",
      "Epoch 29/100\n",
      "3700/3700 [==============================] - 9s 2ms/step - loss: 0.3144 - accuracy: 0.8681\n",
      "Epoch 30/100\n",
      "3700/3700 [==============================] - 9s 2ms/step - loss: 0.3143 - accuracy: 0.8684\n",
      "Epoch 31/100\n",
      "3700/3700 [==============================] - 9s 2ms/step - loss: 0.3143 - accuracy: 0.8678\n",
      "Epoch 32/100\n",
      "3700/3700 [==============================] - 9s 2ms/step - loss: 0.3143 - accuracy: 0.8682\n",
      "Epoch 33/100\n",
      "3700/3700 [==============================] - 9s 2ms/step - loss: 0.3142 - accuracy: 0.8685\n",
      "Epoch 34/100\n",
      "3700/3700 [==============================] - 9s 2ms/step - loss: 0.3141 - accuracy: 0.8681\n",
      "Epoch 35/100\n",
      "3700/3700 [==============================] - 9s 2ms/step - loss: 0.3140 - accuracy: 0.8680\n",
      "Epoch 36/100\n",
      "3700/3700 [==============================] - 9s 2ms/step - loss: 0.3140 - accuracy: 0.8679\n",
      "Epoch 37/100\n",
      "3700/3700 [==============================] - 9s 2ms/step - loss: 0.3138 - accuracy: 0.8679\n",
      "Epoch 38/100\n",
      "3700/3700 [==============================] - 9s 2ms/step - loss: 0.3137 - accuracy: 0.8680\n",
      "Epoch 39/100\n",
      "3700/3700 [==============================] - 9s 2ms/step - loss: 0.3138 - accuracy: 0.8683\n",
      "Epoch 40/100\n",
      "3700/3700 [==============================] - 9s 2ms/step - loss: 0.3137 - accuracy: 0.8682\n",
      "Epoch 41/100\n",
      "3700/3700 [==============================] - 9s 2ms/step - loss: 0.3136 - accuracy: 0.8685\n",
      "Epoch 42/100\n",
      "3700/3700 [==============================] - 9s 2ms/step - loss: 0.3134 - accuracy: 0.8686\n",
      "Epoch 43/100\n",
      "3700/3700 [==============================] - 9s 2ms/step - loss: 0.3134 - accuracy: 0.8678\n",
      "Epoch 44/100\n",
      "3700/3700 [==============================] - 9s 2ms/step - loss: 0.3132 - accuracy: 0.8680\n",
      "Epoch 45/100\n",
      "3700/3700 [==============================] - 9s 2ms/step - loss: 0.3131 - accuracy: 0.8686\n",
      "Epoch 46/100\n",
      "3700/3700 [==============================] - 9s 2ms/step - loss: 0.3130 - accuracy: 0.8683\n",
      "Epoch 47/100\n",
      "3700/3700 [==============================] - 9s 2ms/step - loss: 0.3129 - accuracy: 0.8680\n",
      "Epoch 48/100\n",
      "3700/3700 [==============================] - 9s 2ms/step - loss: 0.3129 - accuracy: 0.8683\n",
      "Epoch 49/100\n",
      "3700/3700 [==============================] - 9s 2ms/step - loss: 0.3129 - accuracy: 0.8679\n",
      "Epoch 50/100\n",
      "3700/3700 [==============================] - 9s 2ms/step - loss: 0.3127 - accuracy: 0.8684\n",
      "Epoch 51/100\n",
      "3700/3700 [==============================] - 9s 2ms/step - loss: 0.3127 - accuracy: 0.8683\n",
      "Epoch 52/100\n",
      "3700/3700 [==============================] - 9s 2ms/step - loss: 0.3127 - accuracy: 0.8683\n",
      "Epoch 53/100\n",
      "3700/3700 [==============================] - 9s 2ms/step - loss: 0.3125 - accuracy: 0.8687\n",
      "Epoch 54/100\n",
      "3700/3700 [==============================] - 9s 2ms/step - loss: 0.3124 - accuracy: 0.8684\n",
      "Epoch 55/100\n",
      "3700/3700 [==============================] - 9s 2ms/step - loss: 0.3124 - accuracy: 0.8682\n",
      "Epoch 56/100\n",
      "3700/3700 [==============================] - 9s 2ms/step - loss: 0.3124 - accuracy: 0.8680\n",
      "Epoch 57/100\n",
      "3700/3700 [==============================] - 9s 2ms/step - loss: 0.3124 - accuracy: 0.8681\n",
      "Epoch 58/100\n",
      "3700/3700 [==============================] - 9s 2ms/step - loss: 0.3123 - accuracy: 0.8683\n",
      "Epoch 59/100\n",
      "3700/3700 [==============================] - 9s 2ms/step - loss: 0.3122 - accuracy: 0.8684\n",
      "Epoch 60/100\n",
      "3700/3700 [==============================] - 9s 2ms/step - loss: 0.3122 - accuracy: 0.8681\n",
      "Epoch 61/100\n",
      "3700/3700 [==============================] - 9s 2ms/step - loss: 0.3123 - accuracy: 0.8681\n",
      "Epoch 62/100\n",
      "3700/3700 [==============================] - 9s 2ms/step - loss: 0.3120 - accuracy: 0.8683\n",
      "Epoch 63/100\n",
      "3700/3700 [==============================] - 9s 2ms/step - loss: 0.3120 - accuracy: 0.8683\n",
      "Epoch 64/100\n",
      "3700/3700 [==============================] - 9s 2ms/step - loss: 0.3120 - accuracy: 0.8680\n",
      "Epoch 65/100\n",
      "3700/3700 [==============================] - 9s 2ms/step - loss: 0.3121 - accuracy: 0.8680\n",
      "Epoch 66/100\n",
      "3700/3700 [==============================] - 9s 2ms/step - loss: 0.3119 - accuracy: 0.8681\n",
      "Epoch 67/100\n",
      "3700/3700 [==============================] - 9s 2ms/step - loss: 0.3117 - accuracy: 0.8684\n",
      "Epoch 68/100\n",
      "3700/3700 [==============================] - 9s 2ms/step - loss: 0.3120 - accuracy: 0.8685\n",
      "Epoch 69/100\n",
      "3700/3700 [==============================] - 9s 2ms/step - loss: 0.3119 - accuracy: 0.8681\n",
      "Epoch 70/100\n",
      "3700/3700 [==============================] - 10s 3ms/step - loss: 0.3116 - accuracy: 0.8686\n",
      "Epoch 71/100\n",
      "3700/3700 [==============================] - 9s 2ms/step - loss: 0.3117 - accuracy: 0.8686\n",
      "Epoch 72/100\n",
      "3700/3700 [==============================] - 9s 2ms/step - loss: 0.3116 - accuracy: 0.8683\n",
      "Epoch 73/100\n",
      "3700/3700 [==============================] - 9s 2ms/step - loss: 0.3116 - accuracy: 0.8684\n",
      "Epoch 74/100\n",
      "3700/3700 [==============================] - 9s 2ms/step - loss: 0.3115 - accuracy: 0.8682\n",
      "Epoch 75/100\n",
      "3700/3700 [==============================] - 9s 2ms/step - loss: 0.3115 - accuracy: 0.8683\n",
      "Epoch 76/100\n",
      "3700/3700 [==============================] - 9s 2ms/step - loss: 0.3115 - accuracy: 0.8683\n",
      "Epoch 77/100\n",
      "3700/3700 [==============================] - 9s 2ms/step - loss: 0.3115 - accuracy: 0.8686\n",
      "Epoch 78/100\n",
      "3700/3700 [==============================] - 9s 2ms/step - loss: 0.3115 - accuracy: 0.8687\n",
      "Epoch 79/100\n",
      "3700/3700 [==============================] - 9s 2ms/step - loss: 0.3115 - accuracy: 0.8684\n",
      "Epoch 80/100\n",
      "3700/3700 [==============================] - 9s 2ms/step - loss: 0.3115 - accuracy: 0.8681\n",
      "Epoch 81/100\n",
      "3700/3700 [==============================] - 9s 2ms/step - loss: 0.3113 - accuracy: 0.8685\n",
      "Epoch 82/100\n",
      "3700/3700 [==============================] - 9s 2ms/step - loss: 0.3112 - accuracy: 0.8686\n",
      "Epoch 83/100\n",
      "3700/3700 [==============================] - 9s 2ms/step - loss: 0.3112 - accuracy: 0.8685\n",
      "Epoch 84/100\n",
      "3700/3700 [==============================] - 9s 2ms/step - loss: 0.3111 - accuracy: 0.8682\n",
      "Epoch 85/100\n",
      "3700/3700 [==============================] - 9s 2ms/step - loss: 0.3111 - accuracy: 0.8685\n",
      "Epoch 86/100\n",
      "3700/3700 [==============================] - 9s 2ms/step - loss: 0.3111 - accuracy: 0.8683\n",
      "Epoch 87/100\n",
      "3700/3700 [==============================] - 9s 2ms/step - loss: 0.3111 - accuracy: 0.8684\n",
      "Epoch 88/100\n",
      "3700/3700 [==============================] - 9s 2ms/step - loss: 0.3113 - accuracy: 0.8681\n",
      "Epoch 89/100\n",
      "3700/3700 [==============================] - 9s 2ms/step - loss: 0.3110 - accuracy: 0.8681\n",
      "Epoch 90/100\n",
      "3700/3700 [==============================] - 9s 2ms/step - loss: 0.3111 - accuracy: 0.8683\n",
      "Epoch 91/100\n",
      "3700/3700 [==============================] - 9s 2ms/step - loss: 0.3111 - accuracy: 0.8687\n",
      "Epoch 92/100\n",
      "3700/3700 [==============================] - 9s 2ms/step - loss: 0.3110 - accuracy: 0.8682\n",
      "Epoch 93/100\n",
      "3700/3700 [==============================] - 9s 2ms/step - loss: 0.3110 - accuracy: 0.8688\n",
      "Epoch 94/100\n",
      "3700/3700 [==============================] - 9s 2ms/step - loss: 0.3108 - accuracy: 0.8682\n",
      "Epoch 95/100\n",
      "3700/3700 [==============================] - 9s 2ms/step - loss: 0.3108 - accuracy: 0.8681\n",
      "Epoch 96/100\n",
      "3700/3700 [==============================] - 9s 2ms/step - loss: 0.3108 - accuracy: 0.8685\n",
      "Epoch 97/100\n",
      "3700/3700 [==============================] - 9s 2ms/step - loss: 0.3108 - accuracy: 0.8685\n",
      "Epoch 98/100\n",
      "3700/3700 [==============================] - 9s 2ms/step - loss: 0.3108 - accuracy: 0.8684\n",
      "Epoch 99/100\n",
      "3700/3700 [==============================] - 9s 2ms/step - loss: 0.3107 - accuracy: 0.8685\n",
      "Epoch 100/100\n",
      "3700/3700 [==============================] - 9s 2ms/step - loss: 0.3105 - accuracy: 0.8688\n"
     ]
    }
   ],
   "source": [
    "\n",
    "\n",
    "tf.random.set_seed(42)\n",
    "\n",
    "\n",
    "model_22 = tf.keras.Sequential([\n",
    "  tf.keras.layers.Dense(14,activation = 'relu'),\n",
    "  tf.keras.layers.Dense(36,activation = 'relu'),\n",
    "  tf.keras.layers.Dense(18,activation = 'relu'),\n",
    "  tf.keras.layers.Dense(9,activation = 'relu'),\n",
    "  tf.keras.layers.Dense(1,activation = 'sigmoid')                            \n",
    "])\n",
    "\n",
    "\n",
    "model_22.compile(loss = 'binary_crossentropy',\n",
    "                optimizer = tf.keras.optimizers.Adam(lr=0.001),\n",
    "                metrics = ['accuracy'])\n",
    "\n",
    "\n",
    "history_2 = model_22.fit(x_train,y_train,epochs = 100)"
   ]
  },
  {
   "cell_type": "code",
   "execution_count": 42,
   "metadata": {},
   "outputs": [
    {
     "name": "stdout",
     "output_type": "stream",
     "text": [
      "1234/1234 [==============================] - 3s 3ms/step - loss: 0.3193 - accuracy: 0.8665\n"
     ]
    },
    {
     "data": {
      "text/plain": [
       "[0.3192611634731293, 0.866494357585907]"
      ]
     },
     "execution_count": 42,
     "metadata": {},
     "output_type": "execute_result"
    }
   ],
   "source": [
    "model_22.evaluate(x_test,y_test)"
   ]
  },
  {
   "cell_type": "code",
   "execution_count": 43,
   "metadata": {},
   "outputs": [
    {
     "name": "stdout",
     "output_type": "stream",
     "text": [
      "3700/3700 [==============================] - 8s 2ms/step\n",
      "1234/1234 [==============================] - 2s 2ms/step\n",
      "              precision    recall  f1-score   support\n",
      "\n",
      "         0.0       0.88      0.99      0.93    102339\n",
      "         1.0       0.59      0.10      0.18     16035\n",
      "\n",
      "    accuracy                           0.87    118374\n",
      "   macro avg       0.73      0.55      0.55    118374\n",
      "weighted avg       0.84      0.87      0.83    118374\n",
      "\n",
      "              precision    recall  f1-score   support\n",
      "\n",
      "         0.0       0.87      0.99      0.93     34073\n",
      "         1.0       0.56      0.10      0.17      5386\n",
      "\n",
      "    accuracy                           0.87     39459\n",
      "   macro avg       0.72      0.54      0.55     39459\n",
      "weighted avg       0.83      0.87      0.82     39459\n",
      "\n"
     ]
    }
   ],
   "source": [
    "ypred_train9 = model_22.predict(x_train)\n",
    "y_pred_test9 = model_22.predict(x_test)\n",
    "\n",
    "y_pred_test9 = (y_pred_test9 > 0.5)\n",
    "ypred_train9 = (ypred_train9 > 0.5)\n",
    "\n",
    "print(classification_report(y_train,ypred_train9))\n",
    "print(classification_report(y_test,y_pred_test9))"
   ]
  },
  {
   "cell_type": "code",
   "execution_count": 44,
   "metadata": {},
   "outputs": [
    {
     "name": "stdout",
     "output_type": "stream",
     "text": [
      "1234/1234 [==============================] - 3s 2ms/step\n"
     ]
    },
    {
     "data": {
      "image/png": "[encoded data removed]",
      "text/plain": [
       "<Figure size 640x480 with 1 Axes>"
      ]
     },
     "metadata": {},
     "output_type": "display_data"
    }
   ],
   "source": [
    "\n",
    "\n",
    "y_proba_test = model_22.predict(x_test).flatten()\n",
    "\n",
    "\n",
    "fpr, tpr, thresholds = roc_curve(y_test, y_proba_test)\n",
    "\n",
    "\n",
    "plt.plot(fpr, tpr, label='ROC Curve')\n",
    "plt.xlabel('False Positive Rate')\n",
    "plt.ylabel('True Positive Rate')\n",
    "plt.title('ROC Curve with AUC = {:.2f}'.format(roc_auc_score(y_test, y_proba_test)))\n",
    "plt.legend(loc='lower right')\n",
    "plt.grid(True)\n",
    "plt.show()"
   ]
  },
  {
   "cell_type": "markdown",
   "metadata": {},
   "source": [
    "## inne próby sieci neuronowych "
   ]
  },
  {
   "cell_type": "code",
   "execution_count": 45,
   "metadata": {},
   "outputs": [
    {
     "name": "stderr",
     "output_type": "stream",
     "text": [
      "WARNING:absl:`lr` is deprecated in Keras optimizer, please use `learning_rate` or use the legacy optimizer, e.g.,tf.keras.optimizers.legacy.Adam.\n"
     ]
    },
    {
     "name": "stdout",
     "output_type": "stream",
     "text": [
      "Epoch 1/100\n",
      "3700/3700 [==============================] - 11s 3ms/step - loss: 0.3513 - accuracy: 0.8639\n",
      "Epoch 2/100\n",
      "3700/3700 [==============================] - 8s 2ms/step - loss: 0.3233 - accuracy: 0.8666\n",
      "Epoch 3/100\n",
      "3700/3700 [==============================] - 8s 2ms/step - loss: 0.3221 - accuracy: 0.8672\n",
      "Epoch 4/100\n",
      "3700/3700 [==============================] - 8s 2ms/step - loss: 0.3214 - accuracy: 0.8673\n",
      "Epoch 5/100\n",
      "3700/3700 [==============================] - 8s 2ms/step - loss: 0.3207 - accuracy: 0.8674\n",
      "Epoch 6/100\n",
      "3700/3700 [==============================] - 8s 2ms/step - loss: 0.3204 - accuracy: 0.8668\n",
      "Epoch 7/100\n",
      "3700/3700 [==============================] - 8s 2ms/step - loss: 0.3199 - accuracy: 0.8675\n",
      "Epoch 8/100\n",
      "3700/3700 [==============================] - 8s 2ms/step - loss: 0.3197 - accuracy: 0.8676\n",
      "Epoch 9/100\n",
      "3700/3700 [==============================] - 8s 2ms/step - loss: 0.3193 - accuracy: 0.8675\n",
      "Epoch 10/100\n",
      "3700/3700 [==============================] - 9s 2ms/step - loss: 0.3190 - accuracy: 0.8676\n",
      "Epoch 11/100\n",
      "3700/3700 [==============================] - 8s 2ms/step - loss: 0.3186 - accuracy: 0.8679\n",
      "Epoch 12/100\n",
      "3700/3700 [==============================] - 9s 2ms/step - loss: 0.3185 - accuracy: 0.8676\n",
      "Epoch 13/100\n",
      "3700/3700 [==============================] - 8s 2ms/step - loss: 0.3182 - accuracy: 0.8677\n",
      "Epoch 14/100\n",
      "3700/3700 [==============================] - 8s 2ms/step - loss: 0.3178 - accuracy: 0.8677\n",
      "Epoch 15/100\n",
      "3700/3700 [==============================] - 8s 2ms/step - loss: 0.3176 - accuracy: 0.8678\n",
      "Epoch 16/100\n",
      "3700/3700 [==============================] - 8s 2ms/step - loss: 0.3174 - accuracy: 0.8676\n",
      "Epoch 17/100\n",
      "3700/3700 [==============================] - 8s 2ms/step - loss: 0.3171 - accuracy: 0.8675\n",
      "Epoch 18/100\n",
      "3700/3700 [==============================] - 9s 2ms/step - loss: 0.3168 - accuracy: 0.8674\n",
      "Epoch 19/100\n",
      "3700/3700 [==============================] - 8s 2ms/step - loss: 0.3166 - accuracy: 0.8681\n",
      "Epoch 20/100\n",
      "3700/3700 [==============================] - 8s 2ms/step - loss: 0.3168 - accuracy: 0.8676\n",
      "Epoch 21/100\n",
      "3700/3700 [==============================] - 9s 2ms/step - loss: 0.3165 - accuracy: 0.8677\n",
      "Epoch 22/100\n",
      "3700/3700 [==============================] - 8s 2ms/step - loss: 0.3164 - accuracy: 0.8676\n",
      "Epoch 23/100\n",
      "3700/3700 [==============================] - 8s 2ms/step - loss: 0.3164 - accuracy: 0.8677\n",
      "Epoch 24/100\n",
      "3700/3700 [==============================] - 9s 2ms/step - loss: 0.3163 - accuracy: 0.8675\n",
      "Epoch 25/100\n",
      "3700/3700 [==============================] - 8s 2ms/step - loss: 0.3161 - accuracy: 0.8676\n",
      "Epoch 26/100\n",
      "3700/3700 [==============================] - 8s 2ms/step - loss: 0.3161 - accuracy: 0.8676\n",
      "Epoch 27/100\n",
      "3700/3700 [==============================] - 8s 2ms/step - loss: 0.3160 - accuracy: 0.8680\n",
      "Epoch 28/100\n",
      "3700/3700 [==============================] - 8s 2ms/step - loss: 0.3160 - accuracy: 0.8681\n",
      "Epoch 29/100\n",
      "3700/3700 [==============================] - 8s 2ms/step - loss: 0.3159 - accuracy: 0.8682\n",
      "Epoch 30/100\n",
      "3700/3700 [==============================] - 8s 2ms/step - loss: 0.3158 - accuracy: 0.8683\n",
      "Epoch 31/100\n",
      "3700/3700 [==============================] - 9s 2ms/step - loss: 0.3158 - accuracy: 0.8676\n",
      "Epoch 32/100\n",
      "3700/3700 [==============================] - 8s 2ms/step - loss: 0.3158 - accuracy: 0.8678\n",
      "Epoch 33/100\n",
      "3700/3700 [==============================] - 9s 2ms/step - loss: 0.3157 - accuracy: 0.8682\n",
      "Epoch 34/100\n",
      "3700/3700 [==============================] - 8s 2ms/step - loss: 0.3157 - accuracy: 0.8679\n",
      "Epoch 35/100\n",
      "3700/3700 [==============================] - 8s 2ms/step - loss: 0.3156 - accuracy: 0.8677\n",
      "Epoch 36/100\n",
      "3700/3700 [==============================] - 8s 2ms/step - loss: 0.3155 - accuracy: 0.8676\n",
      "Epoch 37/100\n",
      "3700/3700 [==============================] - 9s 2ms/step - loss: 0.3155 - accuracy: 0.8678\n",
      "Epoch 38/100\n",
      "3700/3700 [==============================] - 9s 2ms/step - loss: 0.3153 - accuracy: 0.8675\n",
      "Epoch 39/100\n",
      "3700/3700 [==============================] - 8s 2ms/step - loss: 0.3153 - accuracy: 0.8679\n",
      "Epoch 40/100\n",
      "3700/3700 [==============================] - 8s 2ms/step - loss: 0.3153 - accuracy: 0.8676\n",
      "Epoch 41/100\n",
      "3700/3700 [==============================] - 8s 2ms/step - loss: 0.3152 - accuracy: 0.8680\n",
      "Epoch 42/100\n",
      "3700/3700 [==============================] - 8s 2ms/step - loss: 0.3151 - accuracy: 0.8680\n",
      "Epoch 43/100\n",
      "3700/3700 [==============================] - 9s 2ms/step - loss: 0.3152 - accuracy: 0.8679\n",
      "Epoch 44/100\n",
      "3700/3700 [==============================] - 8s 2ms/step - loss: 0.3151 - accuracy: 0.8682\n",
      "Epoch 45/100\n",
      "3700/3700 [==============================] - 9s 2ms/step - loss: 0.3151 - accuracy: 0.8679\n",
      "Epoch 46/100\n",
      "3700/3700 [==============================] - 8s 2ms/step - loss: 0.3150 - accuracy: 0.8679\n",
      "Epoch 47/100\n",
      "3700/3700 [==============================] - 9s 2ms/step - loss: 0.3150 - accuracy: 0.8677\n",
      "Epoch 48/100\n",
      "3700/3700 [==============================] - 8s 2ms/step - loss: 0.3149 - accuracy: 0.8676\n",
      "Epoch 49/100\n",
      "3700/3700 [==============================] - 8s 2ms/step - loss: 0.3148 - accuracy: 0.8680\n",
      "Epoch 50/100\n",
      "3700/3700 [==============================] - 8s 2ms/step - loss: 0.3148 - accuracy: 0.8677\n",
      "Epoch 51/100\n",
      "3700/3700 [==============================] - 8s 2ms/step - loss: 0.3148 - accuracy: 0.8681\n",
      "Epoch 52/100\n",
      "3700/3700 [==============================] - 8s 2ms/step - loss: 0.3147 - accuracy: 0.8680\n",
      "Epoch 53/100\n",
      "3700/3700 [==============================] - 8s 2ms/step - loss: 0.3147 - accuracy: 0.8683\n",
      "Epoch 54/100\n",
      "3700/3700 [==============================] - 8s 2ms/step - loss: 0.3147 - accuracy: 0.8678\n",
      "Epoch 55/100\n",
      "3700/3700 [==============================] - 8s 2ms/step - loss: 0.3147 - accuracy: 0.8677\n",
      "Epoch 56/100\n",
      "3700/3700 [==============================] - 8s 2ms/step - loss: 0.3146 - accuracy: 0.8675\n",
      "Epoch 57/100\n",
      "3700/3700 [==============================] - 9s 2ms/step - loss: 0.3147 - accuracy: 0.8681\n",
      "Epoch 58/100\n",
      "3700/3700 [==============================] - 9s 2ms/step - loss: 0.3147 - accuracy: 0.8676\n",
      "Epoch 59/100\n",
      "3700/3700 [==============================] - 8s 2ms/step - loss: 0.3146 - accuracy: 0.8680\n",
      "Epoch 60/100\n",
      "3700/3700 [==============================] - 8s 2ms/step - loss: 0.3145 - accuracy: 0.8680\n",
      "Epoch 61/100\n",
      "3700/3700 [==============================] - 8s 2ms/step - loss: 0.3146 - accuracy: 0.8680\n",
      "Epoch 62/100\n",
      "3700/3700 [==============================] - 8s 2ms/step - loss: 0.3146 - accuracy: 0.8681\n",
      "Epoch 63/100\n",
      "3700/3700 [==============================] - 8s 2ms/step - loss: 0.3145 - accuracy: 0.8679\n",
      "Epoch 64/100\n",
      "3700/3700 [==============================] - 8s 2ms/step - loss: 0.3145 - accuracy: 0.8678\n",
      "Epoch 65/100\n",
      "3700/3700 [==============================] - 8s 2ms/step - loss: 0.3147 - accuracy: 0.8678\n",
      "Epoch 66/100\n",
      "3700/3700 [==============================] - 8s 2ms/step - loss: 0.3145 - accuracy: 0.8678\n",
      "Epoch 67/100\n",
      "3700/3700 [==============================] - 8s 2ms/step - loss: 0.3144 - accuracy: 0.8682\n",
      "Epoch 68/100\n",
      "3700/3700 [==============================] - 9s 2ms/step - loss: 0.3145 - accuracy: 0.8682\n",
      "Epoch 69/100\n",
      "3700/3700 [==============================] - 9s 2ms/step - loss: 0.3144 - accuracy: 0.8679\n",
      "Epoch 70/100\n",
      "3700/3700 [==============================] - 9s 2ms/step - loss: 0.3143 - accuracy: 0.8681\n",
      "Epoch 71/100\n",
      "3700/3700 [==============================] - 8s 2ms/step - loss: 0.3143 - accuracy: 0.8680\n",
      "Epoch 72/100\n",
      "3700/3700 [==============================] - 9s 2ms/step - loss: 0.3143 - accuracy: 0.8678\n",
      "Epoch 73/100\n",
      "3700/3700 [==============================] - 9s 2ms/step - loss: 0.3142 - accuracy: 0.8682\n",
      "Epoch 74/100\n",
      "3700/3700 [==============================] - 8s 2ms/step - loss: 0.3143 - accuracy: 0.8678\n",
      "Epoch 75/100\n",
      "3700/3700 [==============================] - 8s 2ms/step - loss: 0.3143 - accuracy: 0.8682\n",
      "Epoch 76/100\n",
      "3700/3700 [==============================] - 9s 2ms/step - loss: 0.3142 - accuracy: 0.8678\n",
      "Epoch 77/100\n",
      "3700/3700 [==============================] - 8s 2ms/step - loss: 0.3143 - accuracy: 0.8681\n",
      "Epoch 78/100\n",
      "3700/3700 [==============================] - 8s 2ms/step - loss: 0.3143 - accuracy: 0.8681\n",
      "Epoch 79/100\n",
      "3700/3700 [==============================] - 8s 2ms/step - loss: 0.3143 - accuracy: 0.8680\n",
      "Epoch 80/100\n",
      "3700/3700 [==============================] - 9s 2ms/step - loss: 0.3144 - accuracy: 0.8678\n",
      "Epoch 81/100\n",
      "3700/3700 [==============================] - 8s 2ms/step - loss: 0.3142 - accuracy: 0.8676\n",
      "Epoch 82/100\n",
      "3700/3700 [==============================] - 8s 2ms/step - loss: 0.3141 - accuracy: 0.8682\n",
      "Epoch 83/100\n",
      "3700/3700 [==============================] - 9s 2ms/step - loss: 0.3142 - accuracy: 0.8680\n",
      "Epoch 84/100\n",
      "3700/3700 [==============================] - 8s 2ms/step - loss: 0.3141 - accuracy: 0.8677\n",
      "Epoch 85/100\n",
      "3700/3700 [==============================] - 8s 2ms/step - loss: 0.3142 - accuracy: 0.8679\n",
      "Epoch 86/100\n",
      "3700/3700 [==============================] - 9s 2ms/step - loss: 0.3141 - accuracy: 0.8685\n",
      "Epoch 87/100\n",
      "3700/3700 [==============================] - 8s 2ms/step - loss: 0.3141 - accuracy: 0.8680\n",
      "Epoch 88/100\n",
      "3700/3700 [==============================] - 8s 2ms/step - loss: 0.3142 - accuracy: 0.8680\n",
      "Epoch 89/100\n",
      "3700/3700 [==============================] - 8s 2ms/step - loss: 0.3142 - accuracy: 0.8677\n",
      "Epoch 90/100\n",
      "3700/3700 [==============================] - 8s 2ms/step - loss: 0.3140 - accuracy: 0.8680\n",
      "Epoch 91/100\n",
      "3700/3700 [==============================] - 9s 2ms/step - loss: 0.3141 - accuracy: 0.8678\n",
      "Epoch 92/100\n",
      "3700/3700 [==============================] - 8s 2ms/step - loss: 0.3140 - accuracy: 0.8677\n",
      "Epoch 93/100\n",
      "3700/3700 [==============================] - 8s 2ms/step - loss: 0.3141 - accuracy: 0.8680\n",
      "Epoch 94/100\n",
      "3700/3700 [==============================] - 8s 2ms/step - loss: 0.3140 - accuracy: 0.8679\n",
      "Epoch 95/100\n",
      "3700/3700 [==============================] - 8s 2ms/step - loss: 0.3139 - accuracy: 0.8680\n",
      "Epoch 96/100\n",
      "3700/3700 [==============================] - 8s 2ms/step - loss: 0.3140 - accuracy: 0.8682\n",
      "Epoch 97/100\n",
      "3700/3700 [==============================] - 8s 2ms/step - loss: 0.3140 - accuracy: 0.8677\n",
      "Epoch 98/100\n",
      "3700/3700 [==============================] - 9s 2ms/step - loss: 0.3140 - accuracy: 0.8678\n",
      "Epoch 99/100\n",
      "3700/3700 [==============================] - 8s 2ms/step - loss: 0.3139 - accuracy: 0.8677\n",
      "Epoch 100/100\n",
      "3700/3700 [==============================] - 8s 2ms/step - loss: 0.3139 - accuracy: 0.8682\n"
     ]
    }
   ],
   "source": [
    "\n",
    "\n",
    "tf.random.set_seed(42)\n",
    "\n",
    "\n",
    "model_2 = tf.keras.Sequential([\n",
    "  tf.keras.layers.Dense(14,activation = 'relu'),\n",
    "  tf.keras.layers.Dense(6,activation = 'relu'),\n",
    "  tf.keras.layers.Dense(6,activation = 'relu'),\n",
    "  tf.keras.layers.Dense(1,activation = 'sigmoid')                            \n",
    "])\n",
    "\n",
    "\n",
    "\n",
    "model_2.compile(loss = 'binary_crossentropy',\n",
    "                optimizer = tf.keras.optimizers.Adam(lr=0.001),\n",
    "                metrics = ['accuracy'])\n",
    "\n",
    "\n",
    "\n",
    "history_2 = model_2.fit(x_train,y_train,epochs = 100)"
   ]
  },
  {
   "cell_type": "code",
   "execution_count": 46,
   "metadata": {},
   "outputs": [
    {
     "name": "stdout",
     "output_type": "stream",
     "text": [
      "1234/1234 [==============================] - 3s 2ms/step - loss: 0.3177 - accuracy: 0.8665\n"
     ]
    },
    {
     "data": {
      "text/plain": [
       "[0.3177141547203064, 0.866494357585907]"
      ]
     },
     "execution_count": 46,
     "metadata": {},
     "output_type": "execute_result"
    }
   ],
   "source": [
    "model_2.evaluate(x_test,y_test)"
   ]
  },
  {
   "cell_type": "code",
   "execution_count": 47,
   "metadata": {},
   "outputs": [
    {
     "name": "stdout",
     "output_type": "stream",
     "text": [
      "3700/3700 [==============================] - 8s 2ms/step\n",
      "1234/1234 [==============================] - 2s 2ms/step\n",
      "              precision    recall  f1-score   support\n",
      "\n",
      "         0.0       0.88      0.99      0.93    102339\n",
      "         1.0       0.58      0.10      0.17     16035\n",
      "\n",
      "    accuracy                           0.87    118374\n",
      "   macro avg       0.73      0.54      0.55    118374\n",
      "weighted avg       0.84      0.87      0.83    118374\n",
      "\n",
      "              precision    recall  f1-score   support\n",
      "\n",
      "         0.0       0.87      0.99      0.93     34073\n",
      "         1.0       0.56      0.10      0.17      5386\n",
      "\n",
      "    accuracy                           0.87     39459\n",
      "   macro avg       0.72      0.54      0.55     39459\n",
      "weighted avg       0.83      0.87      0.82     39459\n",
      "\n"
     ]
    }
   ],
   "source": [
    "ypred_train9 = model_2.predict(x_train)\n",
    "y_pred_test9 = model_2.predict(x_test)\n",
    "\n",
    "y_pred_test9 = (y_pred_test9 > 0.5)\n",
    "ypred_train9 = (ypred_train9 > 0.5)\n",
    "\n",
    "print(classification_report(y_train,ypred_train9))\n",
    "print(classification_report(y_test,y_pred_test9))"
   ]
  },
  {
   "cell_type": "code",
   "execution_count": 48,
   "metadata": {},
   "outputs": [
    {
     "name": "stdout",
     "output_type": "stream",
     "text": [
      "1234/1234 [==============================] - 3s 2ms/step\n"
     ]
    },
    {
     "data": {
      "image/png": "[encoded data removed]",
      "text/plain": [
       "<Figure size 640x480 with 1 Axes>"
      ]
     },
     "metadata": {},
     "output_type": "display_data"
    }
   ],
   "source": [
    "\n",
    "y_proba_test = model_2.predict(x_test).flatten()\n",
    "\n",
    "\n",
    "fpr, tpr, thresholds = roc_curve(y_test, y_proba_test)\n",
    "\n",
    "\n",
    "plt.plot(fpr, tpr, label='ROC Curve')\n",
    "plt.xlabel('False Positive Rate')\n",
    "plt.ylabel('True Positive Rate')\n",
    "plt.title('ROC Curve with AUC = {:.2f}'.format(roc_auc_score(y_test, y_proba_test)))\n",
    "plt.legend(loc='lower right')\n",
    "plt.grid(True)\n",
    "plt.show()"
   ]
  },
  {
   "cell_type": "markdown",
   "metadata": {},
   "source": [
    "## inne próby sieci neuronowych "
   ]
  },
  {
   "cell_type": "code",
   "execution_count": 49,
   "metadata": {},
   "outputs": [],
   "source": [
    "model1 = Sequential()\n",
    "model1.add(Dense(units=30,activation='relu'))\n",
    "model1.add(Dropout(0.5))\n",
    "\n",
    "model1.add(Dense(units=15,activation='relu'))\n",
    "model1.add(Dropout(0.5))\n",
    "\n",
    "model1.add(Dense(units=1,activation='sigmoid'))\n",
    "model1.compile(loss='binary_crossentropy', optimizer='adam')"
   ]
  },
  {
   "cell_type": "code",
   "execution_count": 50,
   "metadata": {},
   "outputs": [
    {
     "name": "stdout",
     "output_type": "stream",
     "text": [
      "Epoch 1/100\n",
      "3700/3700 [==============================] - 14s 4ms/step - loss: 0.3762 - val_loss: 0.3323\n",
      "Epoch 2/100\n",
      "3700/3700 [==============================] - 11s 3ms/step - loss: 0.3440 - val_loss: 0.3291\n",
      "Epoch 3/100\n",
      "3700/3700 [==============================] - 11s 3ms/step - loss: 0.3381 - val_loss: 0.3277\n",
      "Epoch 4/100\n",
      "3700/3700 [==============================] - 11s 3ms/step - loss: 0.3367 - val_loss: 0.3284\n",
      "Epoch 5/100\n",
      "3700/3700 [==============================] - 11s 3ms/step - loss: 0.3356 - val_loss: 0.3264\n",
      "Epoch 6/100\n",
      "3700/3700 [==============================] - 11s 3ms/step - loss: 0.3344 - val_loss: 0.3242\n",
      "Epoch 7/100\n",
      "3700/3700 [==============================] - 11s 3ms/step - loss: 0.3331 - val_loss: 0.3251\n",
      "Epoch 8/100\n",
      "3700/3700 [==============================] - 11s 3ms/step - loss: 0.3338 - val_loss: 0.3240\n",
      "Epoch 9/100\n",
      "3700/3700 [==============================] - 11s 3ms/step - loss: 0.3339 - val_loss: 0.3246\n",
      "Epoch 10/100\n",
      "3700/3700 [==============================] - 11s 3ms/step - loss: 0.3336 - val_loss: 0.3265\n",
      "Epoch 11/100\n",
      "3700/3700 [==============================] - 11s 3ms/step - loss: 0.3324 - val_loss: 0.3230\n",
      "Epoch 12/100\n",
      "3700/3700 [==============================] - 11s 3ms/step - loss: 0.3328 - val_loss: 0.3273\n",
      "Epoch 13/100\n",
      "3700/3700 [==============================] - 11s 3ms/step - loss: 0.3321 - val_loss: 0.3243\n",
      "Epoch 14/100\n",
      "3700/3700 [==============================] - 11s 3ms/step - loss: 0.3334 - val_loss: 0.3259\n",
      "Epoch 15/100\n",
      "3700/3700 [==============================] - 11s 3ms/step - loss: 0.3322 - val_loss: 0.3253\n",
      "Epoch 16/100\n",
      "3700/3700 [==============================] - 11s 3ms/step - loss: 0.3321 - val_loss: 0.3246\n",
      "Epoch 17/100\n",
      "3700/3700 [==============================] - 11s 3ms/step - loss: 0.3326 - val_loss: 0.3242\n",
      "Epoch 18/100\n",
      "3700/3700 [==============================] - 11s 3ms/step - loss: 0.3330 - val_loss: 0.3241\n",
      "Epoch 19/100\n",
      "3700/3700 [==============================] - 11s 3ms/step - loss: 0.3324 - val_loss: 0.3242\n",
      "Epoch 20/100\n",
      "3700/3700 [==============================] - 11s 3ms/step - loss: 0.3323 - val_loss: 0.3247\n",
      "Epoch 21/100\n",
      "3700/3700 [==============================] - 11s 3ms/step - loss: 0.3318 - val_loss: 0.3238\n",
      "Epoch 22/100\n",
      "3700/3700 [==============================] - 11s 3ms/step - loss: 0.3312 - val_loss: 0.3253\n",
      "Epoch 23/100\n",
      "3700/3700 [==============================] - 11s 3ms/step - loss: 0.3319 - val_loss: 0.3257\n",
      "Epoch 24/100\n",
      "3700/3700 [==============================] - 11s 3ms/step - loss: 0.3316 - val_loss: 0.3251\n",
      "Epoch 25/100\n",
      "3700/3700 [==============================] - 11s 3ms/step - loss: 0.3314 - val_loss: 0.3271\n",
      "Epoch 26/100\n",
      "3700/3700 [==============================] - 11s 3ms/step - loss: 0.3311 - val_loss: 0.3235\n",
      "Epoch 27/100\n",
      "3700/3700 [==============================] - 11s 3ms/step - loss: 0.3322 - val_loss: 0.3241\n",
      "Epoch 28/100\n",
      "3700/3700 [==============================] - 11s 3ms/step - loss: 0.3313 - val_loss: 0.3242\n",
      "Epoch 29/100\n",
      "3700/3700 [==============================] - 11s 3ms/step - loss: 0.3317 - val_loss: 0.3250\n",
      "Epoch 30/100\n",
      "3700/3700 [==============================] - 11s 3ms/step - loss: 0.3318 - val_loss: 0.3235\n",
      "Epoch 31/100\n",
      "3700/3700 [==============================] - 11s 3ms/step - loss: 0.3314 - val_loss: 0.3245\n",
      "Epoch 32/100\n",
      "3700/3700 [==============================] - 11s 3ms/step - loss: 0.3319 - val_loss: 0.3240\n",
      "Epoch 33/100\n",
      "3700/3700 [==============================] - 11s 3ms/step - loss: 0.3322 - val_loss: 0.3259\n",
      "Epoch 34/100\n",
      "3700/3700 [==============================] - 11s 3ms/step - loss: 0.3307 - val_loss: 0.3276\n",
      "Epoch 35/100\n",
      "3700/3700 [==============================] - 11s 3ms/step - loss: 0.3316 - val_loss: 0.3254\n",
      "Epoch 36/100\n",
      "3700/3700 [==============================] - 11s 3ms/step - loss: 0.3314 - val_loss: 0.3238\n",
      "Epoch 36: early stopping\n"
     ]
    },
    {
     "data": {
      "text/plain": [
       "<keras.src.callbacks.History at 0x1c99aebae10>"
      ]
     },
     "execution_count": 50,
     "metadata": {},
     "output_type": "execute_result"
    }
   ],
   "source": [
    "model1.fit(x=x_train, \n",
    "          y=y_train, \n",
    "          epochs=100,\n",
    "          validation_data=(x_test, y_test), verbose=1,\n",
    "          callbacks=[early_stop]\n",
    "          )"
   ]
  },
  {
   "cell_type": "code",
   "execution_count": 51,
   "metadata": {},
   "outputs": [
    {
     "name": "stdout",
     "output_type": "stream",
     "text": [
      "3700/3700 [==============================] - 8s 2ms/step\n",
      "1234/1234 [==============================] - 2s 2ms/step\n",
      "              precision    recall  f1-score   support\n",
      "\n",
      "         0.0       0.86      1.00      0.93    102339\n",
      "         1.0       0.75      0.00      0.01     16035\n",
      "\n",
      "    accuracy                           0.86    118374\n",
      "   macro avg       0.81      0.50      0.47    118374\n",
      "weighted avg       0.85      0.86      0.80    118374\n",
      "\n",
      "              precision    recall  f1-score   support\n",
      "\n",
      "         0.0       0.86      1.00      0.93     34073\n",
      "         1.0       0.77      0.00      0.01      5386\n",
      "\n",
      "    accuracy                           0.86     39459\n",
      "   macro avg       0.82      0.50      0.47     39459\n",
      "weighted avg       0.85      0.86      0.80     39459\n",
      "\n"
     ]
    }
   ],
   "source": [
    "ypred_train11 = model1.predict(x_train)\n",
    "y_pred_test11 = model1.predict(x_test)\n",
    "\n",
    "y_pred_test11 = (y_pred_test11 > 0.5)\n",
    "ypred_train11 = (ypred_train11 > 0.5)\n",
    "\n",
    "print(classification_report(y_train,ypred_train11))\n",
    "print(classification_report(y_test,y_pred_test11))"
   ]
  },
  {
   "cell_type": "code",
   "execution_count": 52,
   "metadata": {},
   "outputs": [
    {
     "name": "stdout",
     "output_type": "stream",
     "text": [
      "1234/1234 [==============================] - 3s 2ms/step\n"
     ]
    },
    {
     "data": {
      "image/png": "[encoded data removed]",
      "text/plain": [
       "<Figure size 640x480 with 1 Axes>"
      ]
     },
     "metadata": {},
     "output_type": "display_data"
    }
   ],
   "source": [
    "\n",
    "y_proba_test = model1.predict(x_test).flatten()\n",
    "\n",
    "\n",
    "fpr, tpr, thresholds = roc_curve(y_test, y_proba_test)\n",
    "\n",
    "plt.plot(fpr, tpr, label='ROC Curve')\n",
    "plt.xlabel('False Positive Rate')\n",
    "plt.ylabel('True Positive Rate')\n",
    "plt.title('ROC Curve with AUC = {:.2f}'.format(roc_auc_score(y_test, y_proba_test)))\n",
    "plt.legend(loc='lower right')\n",
    "plt.grid(True)\n",
    "plt.show()"
   ]
  },
  {
   "cell_type": "markdown",
   "metadata": {},
   "source": [
    "## inny model"
   ]
  },
  {
   "cell_type": "code",
   "execution_count": 53,
   "metadata": {},
   "outputs": [],
   "source": [
    "model12 = Sequential()\n",
    "\n",
    "\n",
    "model12.add(Dense(14,  activation='relu'))\n",
    "model12.add(Dropout(0.2))\n",
    "\n",
    "\n",
    "model12.add(Dense(10, activation='relu'))\n",
    "model12.add(Dropout(0.2))\n",
    "\n",
    "model12.add(Dense(units=1,activation='sigmoid'))\n",
    "\n",
    "\n",
    "model12.compile(loss='binary_crossentropy', optimizer='adam')"
   ]
  },
  {
   "cell_type": "code",
   "execution_count": 54,
   "metadata": {},
   "outputs": [
    {
     "name": "stdout",
     "output_type": "stream",
     "text": [
      "Epoch 1/100\n",
      "3700/3700 [==============================] - 14s 3ms/step - loss: 0.3784 - val_loss: 0.3302\n",
      "Epoch 2/100\n",
      "3700/3700 [==============================] - 11s 3ms/step - loss: 0.3385 - val_loss: 0.3263\n",
      "Epoch 3/100\n",
      "3700/3700 [==============================] - 11s 3ms/step - loss: 0.3338 - val_loss: 0.3256\n",
      "Epoch 4/100\n",
      "3700/3700 [==============================] - 11s 3ms/step - loss: 0.3325 - val_loss: 0.3262\n",
      "Epoch 5/100\n",
      "3700/3700 [==============================] - 11s 3ms/step - loss: 0.3311 - val_loss: 0.3260\n",
      "Epoch 6/100\n",
      "3700/3700 [==============================] - 11s 3ms/step - loss: 0.3308 - val_loss: 0.3241\n",
      "Epoch 7/100\n",
      "3700/3700 [==============================] - 11s 3ms/step - loss: 0.3301 - val_loss: 0.3234\n",
      "Epoch 8/100\n",
      "3700/3700 [==============================] - 11s 3ms/step - loss: 0.3307 - val_loss: 0.3242\n",
      "Epoch 9/100\n",
      "3700/3700 [==============================] - 11s 3ms/step - loss: 0.3307 - val_loss: 0.3238\n",
      "Epoch 10/100\n",
      "3700/3700 [==============================] - 11s 3ms/step - loss: 0.3306 - val_loss: 0.3259\n",
      "Epoch 11/100\n",
      "3700/3700 [==============================] - 11s 3ms/step - loss: 0.3297 - val_loss: 0.3232\n",
      "Epoch 12/100\n",
      "3700/3700 [==============================] - 11s 3ms/step - loss: 0.3297 - val_loss: 0.3261\n",
      "Epoch 13/100\n",
      "3700/3700 [==============================] - 10s 3ms/step - loss: 0.3301 - val_loss: 0.3236\n",
      "Epoch 14/100\n",
      "3700/3700 [==============================] - 11s 3ms/step - loss: 0.3303 - val_loss: 0.3231\n",
      "Epoch 15/100\n",
      "3700/3700 [==============================] - 11s 3ms/step - loss: 0.3302 - val_loss: 0.3231\n",
      "Epoch 16/100\n",
      "3700/3700 [==============================] - 11s 3ms/step - loss: 0.3295 - val_loss: 0.3226\n",
      "Epoch 17/100\n",
      "3700/3700 [==============================] - 11s 3ms/step - loss: 0.3295 - val_loss: 0.3240\n",
      "Epoch 18/100\n",
      "3700/3700 [==============================] - 11s 3ms/step - loss: 0.3291 - val_loss: 0.3233\n",
      "Epoch 19/100\n",
      "3700/3700 [==============================] - 11s 3ms/step - loss: 0.3288 - val_loss: 0.3234\n",
      "Epoch 20/100\n",
      "3700/3700 [==============================] - 11s 3ms/step - loss: 0.3299 - val_loss: 0.3238\n",
      "Epoch 21/100\n",
      "3700/3700 [==============================] - 11s 3ms/step - loss: 0.3296 - val_loss: 0.3233\n",
      "Epoch 22/100\n",
      "3700/3700 [==============================] - 10s 3ms/step - loss: 0.3297 - val_loss: 0.3234\n",
      "Epoch 23/100\n",
      "3700/3700 [==============================] - 11s 3ms/step - loss: 0.3299 - val_loss: 0.3249\n",
      "Epoch 24/100\n",
      "3700/3700 [==============================] - 11s 3ms/step - loss: 0.3294 - val_loss: 0.3224\n",
      "Epoch 25/100\n",
      "3700/3700 [==============================] - 11s 3ms/step - loss: 0.3289 - val_loss: 0.3245\n",
      "Epoch 26/100\n",
      "3700/3700 [==============================] - 11s 3ms/step - loss: 0.3282 - val_loss: 0.3214\n",
      "Epoch 27/100\n",
      "3700/3700 [==============================] - 11s 3ms/step - loss: 0.3280 - val_loss: 0.3212\n",
      "Epoch 28/100\n",
      "3700/3700 [==============================] - 11s 3ms/step - loss: 0.3276 - val_loss: 0.3214\n",
      "Epoch 29/100\n",
      "3700/3700 [==============================] - 11s 3ms/step - loss: 0.3270 - val_loss: 0.3247\n",
      "Epoch 30/100\n",
      "3700/3700 [==============================] - 11s 3ms/step - loss: 0.3277 - val_loss: 0.3219\n",
      "Epoch 31/100\n",
      "3700/3700 [==============================] - 11s 3ms/step - loss: 0.3270 - val_loss: 0.3221\n",
      "Epoch 32/100\n",
      "3700/3700 [==============================] - 11s 3ms/step - loss: 0.3270 - val_loss: 0.3223\n",
      "Epoch 33/100\n",
      "3700/3700 [==============================] - 11s 3ms/step - loss: 0.3269 - val_loss: 0.3220\n",
      "Epoch 34/100\n",
      "3700/3700 [==============================] - 11s 3ms/step - loss: 0.3270 - val_loss: 0.3220\n",
      "Epoch 35/100\n",
      "3700/3700 [==============================] - 11s 3ms/step - loss: 0.3266 - val_loss: 0.3219\n",
      "Epoch 36/100\n",
      "3700/3700 [==============================] - 11s 3ms/step - loss: 0.3270 - val_loss: 0.3215\n",
      "Epoch 37/100\n",
      "3700/3700 [==============================] - 11s 3ms/step - loss: 0.3270 - val_loss: 0.3217\n",
      "Epoch 38/100\n",
      "3700/3700 [==============================] - 10s 3ms/step - loss: 0.3266 - val_loss: 0.3218\n",
      "Epoch 39/100\n",
      "3700/3700 [==============================] - 11s 3ms/step - loss: 0.3266 - val_loss: 0.3231\n",
      "Epoch 40/100\n",
      "3700/3700 [==============================] - 11s 3ms/step - loss: 0.3269 - val_loss: 0.3211\n",
      "Epoch 41/100\n",
      "3700/3700 [==============================] - 11s 3ms/step - loss: 0.3268 - val_loss: 0.3212\n",
      "Epoch 42/100\n",
      "3700/3700 [==============================] - 11s 3ms/step - loss: 0.3262 - val_loss: 0.3218\n",
      "Epoch 43/100\n",
      "3700/3700 [==============================] - 11s 3ms/step - loss: 0.3272 - val_loss: 0.3220\n",
      "Epoch 44/100\n",
      "3700/3700 [==============================] - 11s 3ms/step - loss: 0.3266 - val_loss: 0.3212\n",
      "Epoch 45/100\n",
      "3700/3700 [==============================] - 11s 3ms/step - loss: 0.3274 - val_loss: 0.3217\n",
      "Epoch 46/100\n",
      "3700/3700 [==============================] - 11s 3ms/step - loss: 0.3272 - val_loss: 0.3220\n",
      "Epoch 47/100\n",
      "3700/3700 [==============================] - 11s 3ms/step - loss: 0.3264 - val_loss: 0.3217\n",
      "Epoch 48/100\n",
      "3700/3700 [==============================] - 11s 3ms/step - loss: 0.3265 - val_loss: 0.3214\n",
      "Epoch 49/100\n",
      "3700/3700 [==============================] - 10s 3ms/step - loss: 0.3269 - val_loss: 0.3234\n",
      "Epoch 50/100\n",
      "3700/3700 [==============================] - 11s 3ms/step - loss: 0.3263 - val_loss: 0.3215\n",
      "Epoch 51/100\n",
      "3700/3700 [==============================] - 11s 3ms/step - loss: 0.3264 - val_loss: 0.3213\n",
      "Epoch 52/100\n",
      "3700/3700 [==============================] - 11s 3ms/step - loss: 0.3266 - val_loss: 0.3232\n",
      "Epoch 53/100\n",
      "3700/3700 [==============================] - 10s 3ms/step - loss: 0.3259 - val_loss: 0.3231\n",
      "Epoch 54/100\n",
      "3700/3700 [==============================] - 11s 3ms/step - loss: 0.3261 - val_loss: 0.3214\n",
      "Epoch 55/100\n",
      "3700/3700 [==============================] - 10s 3ms/step - loss: 0.3260 - val_loss: 0.3219\n",
      "Epoch 56/100\n",
      "3700/3700 [==============================] - 11s 3ms/step - loss: 0.3263 - val_loss: 0.3215\n",
      "Epoch 57/100\n",
      "3700/3700 [==============================] - 10s 3ms/step - loss: 0.3262 - val_loss: 0.3224\n",
      "Epoch 58/100\n",
      "3700/3700 [==============================] - 11s 3ms/step - loss: 0.3263 - val_loss: 0.3218\n",
      "Epoch 59/100\n",
      "3700/3700 [==============================] - 11s 3ms/step - loss: 0.3264 - val_loss: 0.3226\n",
      "Epoch 60/100\n",
      "3700/3700 [==============================] - 11s 3ms/step - loss: 0.3265 - val_loss: 0.3218\n",
      "Epoch 61/100\n",
      "3700/3700 [==============================] - 11s 3ms/step - loss: 0.3263 - val_loss: 0.3222\n",
      "Epoch 62/100\n",
      "3700/3700 [==============================] - 11s 3ms/step - loss: 0.3265 - val_loss: 0.3225\n",
      "Epoch 63/100\n",
      "3700/3700 [==============================] - 11s 3ms/step - loss: 0.3266 - val_loss: 0.3221\n",
      "Epoch 64/100\n",
      "3700/3700 [==============================] - 11s 3ms/step - loss: 0.3267 - val_loss: 0.3241\n",
      "Epoch 65/100\n",
      "3700/3700 [==============================] - 11s 3ms/step - loss: 0.3265 - val_loss: 0.3226\n",
      "Epoch 65: early stopping\n"
     ]
    },
    {
     "data": {
      "text/plain": [
       "<keras.src.callbacks.History at 0x1c99af260d0>"
      ]
     },
     "execution_count": 54,
     "metadata": {},
     "output_type": "execute_result"
    }
   ],
   "source": [
    "model12.fit(x=x_train, \n",
    "          y=y_train, \n",
    "          epochs=100,\n",
    "          validation_data=(x_test, y_test), verbose=1,\n",
    "          callbacks=[early_stop]\n",
    "          )"
   ]
  },
  {
   "cell_type": "code",
   "execution_count": 55,
   "metadata": {},
   "outputs": [
    {
     "name": "stdout",
     "output_type": "stream",
     "text": [
      "3700/3700 [==============================] - 8s 2ms/step\n",
      "1234/1234 [==============================] - 2s 2ms/step\n",
      "              precision    recall  f1-score   support\n",
      "\n",
      "         0.0       0.87      1.00      0.93    102339\n",
      "         1.0       0.75      0.02      0.03     16035\n",
      "\n",
      "    accuracy                           0.87    118374\n",
      "   macro avg       0.81      0.51      0.48    118374\n",
      "weighted avg       0.85      0.87      0.81    118374\n",
      "\n",
      "              precision    recall  f1-score   support\n",
      "\n",
      "         0.0       0.87      1.00      0.93     34073\n",
      "         1.0       0.70      0.02      0.03      5386\n",
      "\n",
      "    accuracy                           0.86     39459\n",
      "   macro avg       0.78      0.51      0.48     39459\n",
      "weighted avg       0.84      0.86      0.81     39459\n",
      "\n"
     ]
    }
   ],
   "source": [
    "ypred_train12 = model12.predict(x_train)\n",
    "y_pred_test12 = model12.predict(x_test)\n",
    "\n",
    "y_pred_test12 = (y_pred_test12 > 0.5)\n",
    "ypred_train12 = (ypred_train12 > 0.5)\n",
    "\n",
    "print(classification_report(y_train,ypred_train12))\n",
    "print(classification_report(y_test,y_pred_test12))"
   ]
  },
  {
   "cell_type": "code",
   "execution_count": 56,
   "metadata": {},
   "outputs": [
    {
     "name": "stdout",
     "output_type": "stream",
     "text": [
      "1234/1234 [==============================] - 3s 2ms/step\n"
     ]
    },
    {
     "data": {
      "image/png": "[encoded data removed]",
      "text/plain": [
       "<Figure size 640x480 with 1 Axes>"
      ]
     },
     "metadata": {},
     "output_type": "display_data"
    }
   ],
   "source": [
    "import matplotlib.pyplot \n",
    "\n",
    "\n",
    "y_proba_test = model12.predict(x_test).flatten()\n",
    "\n",
    "\n",
    "fpr, tpr, thresholds = roc_curve(y_test, y_proba_test)\n",
    "\n",
    "\n",
    "plt.plot(fpr, tpr, label='ROC Curve')\n",
    "plt.xlabel('False Positive Rate')\n",
    "plt.ylabel('True Positive Rate')\n",
    "plt.title('ROC Curve with AUC = {:.2f}'.format(roc_auc_score(y_test, y_proba_test)))\n",
    "plt.legend(loc='lower right')\n",
    "plt.grid(True)\n",
    "plt.show()"
   ]
  },
  {
   "cell_type": "markdown",
   "metadata": {},
   "source": [
    "## SVC"
   ]
  },
  {
   "cell_type": "code",
   "execution_count": 57,
   "metadata": {},
   "outputs": [],
   "source": [
    "model3 = SVC(probability=True)"
   ]
  },
  {
   "cell_type": "code",
   "execution_count": 58,
   "metadata": {},
   "outputs": [
    {
     "data": {
      "text/html": [
       "<style>#sk-container-id-4 {color: black;}#sk-container-id-4 pre{padding: 0;}#sk-container-id-4 div.sk-toggleable {background-color: white;}#sk-container-id-4 label.sk-toggleable__label {cursor: pointer;display: block;width: 100%;margin-bottom: 0;padding: 0.3em;box-sizing: border-box;text-align: center;}#sk-container-id-4 label.sk-toggleable__label-arrow:before {content: \"▸\";float: left;margin-right: 0.25em;color: #696969;}#sk-container-id-4 label.sk-toggleable__label-arrow:hover:before {color: black;}#sk-container-id-4 div.sk-estimator:hover label.sk-toggleable__label-arrow:before {color: black;}#sk-container-id-4 div.sk-toggleable__content {max-height: 0;max-width: 0;overflow: hidden;text-align: left;background-color: #f0f8ff;}#sk-container-id-4 div.sk-toggleable__content pre {margin: 0.2em;color: black;border-radius: 0.25em;background-color: #f0f8ff;}#sk-container-id-4 input.sk-toggleable__control:checked~div.sk-toggleable__content {max-height: 200px;max-width: 100%;overflow: auto;}#sk-container-id-4 input.sk-toggleable__control:checked~label.sk-toggleable__label-arrow:before {content: \"▾\";}#sk-container-id-4 div.sk-estimator input.sk-toggleable__control:checked~label.sk-toggleable__label {background-color: #d4ebff;}#sk-container-id-4 div.sk-label input.sk-toggleable__control:checked~label.sk-toggleable__label {background-color: #d4ebff;}#sk-container-id-4 input.sk-hidden--visually {border: 0;clip: rect(1px 1px 1px 1px);clip: rect(1px, 1px, 1px, 1px);height: 1px;margin: -1px;overflow: hidden;padding: 0;position: absolute;width: 1px;}#sk-container-id-4 div.sk-estimator {font-family: monospace;background-color: #f0f8ff;border: 1px dotted black;border-radius: 0.25em;box-sizing: border-box;margin-bottom: 0.5em;}#sk-container-id-4 div.sk-estimator:hover {background-color: #d4ebff;}#sk-container-id-4 div.sk-parallel-item::after {content: \"\";width: 100%;border-bottom: 1px solid gray;flex-grow: 1;}#sk-container-id-4 div.sk-label:hover label.sk-toggleable__label {background-color: #d4ebff;}#sk-container-id-4 div.sk-serial::before {content: \"\";position: absolute;border-left: 1px solid gray;box-sizing: border-box;top: 0;bottom: 0;left: 50%;z-index: 0;}#sk-container-id-4 div.sk-serial {display: flex;flex-direction: column;align-items: center;background-color: white;padding-right: 0.2em;padding-left: 0.2em;position: relative;}#sk-container-id-4 div.sk-item {position: relative;z-index: 1;}#sk-container-id-4 div.sk-parallel {display: flex;align-items: stretch;justify-content: center;background-color: white;position: relative;}#sk-container-id-4 div.sk-item::before, #sk-container-id-4 div.sk-parallel-item::before {content: \"\";position: absolute;border-left: 1px solid gray;box-sizing: border-box;top: 0;bottom: 0;left: 50%;z-index: -1;}#sk-container-id-4 div.sk-parallel-item {display: flex;flex-direction: column;z-index: 1;position: relative;background-color: white;}#sk-container-id-4 div.sk-parallel-item:first-child::after {align-self: flex-end;width: 50%;}#sk-container-id-4 div.sk-parallel-item:last-child::after {align-self: flex-start;width: 50%;}#sk-container-id-4 div.sk-parallel-item:only-child::after {width: 0;}#sk-container-id-4 div.sk-dashed-wrapped {border: 1px dashed gray;margin: 0 0.4em 0.5em 0.4em;box-sizing: border-box;padding-bottom: 0.4em;background-color: white;}#sk-container-id-4 div.sk-label label {font-family: monospace;font-weight: bold;display: inline-block;line-height: 1.2em;}#sk-container-id-4 div.sk-label-container {text-align: center;}#sk-container-id-4 div.sk-container {/* jupyter's `normalize.less` sets `[hidden] { display: none; }` but bootstrap.min.css set `[hidden] { display: none !important; }` so we also need the `!important` here to be able to override the default hidden behavior on the sphinx rendered scikit-learn.org. See: https://github.com/scikit-learn/scikit-learn/issues/21755 */display: inline-block !important;position: relative;}#sk-container-id-4 div.sk-text-repr-fallback {display: none;}</style><div id=\"sk-container-id-4\" class=\"sk-top-container\"><div class=\"sk-text-repr-fallback\"><pre>SVC(probability=True)</pre><b>In a Jupyter environment, please rerun this cell to show the HTML representation or trust the notebook. <br />On GitHub, the HTML representation is unable to render, please try loading this page with nbviewer.org.</b></div><div class=\"sk-container\" hidden><div class=\"sk-item\"><div class=\"sk-estimator sk-toggleable\"><input class=\"sk-toggleable__control sk-hidden--visually\" id=\"sk-estimator-id-6\" type=\"checkbox\" checked><label for=\"sk-estimator-id-6\" class=\"sk-toggleable__label sk-toggleable__label-arrow\">SVC</label><div class=\"sk-toggleable__content\"><pre>SVC(probability=True)</pre></div></div></div></div></div>"
      ],
      "text/plain": [
       "SVC(probability=True)"
      ]
     },
     "execution_count": 58,
     "metadata": {},
     "output_type": "execute_result"
    }
   ],
   "source": [
    "model3.fit(x_train,y_train)"
   ]
  },
  {
   "cell_type": "code",
   "execution_count": 59,
   "metadata": {},
   "outputs": [
    {
     "name": "stdout",
     "output_type": "stream",
     "text": [
      "              precision    recall  f1-score   support\n",
      "\n",
      "         0.0       0.87      1.00      0.93    102339\n",
      "         1.0       0.64      0.05      0.09     16035\n",
      "\n",
      "    accuracy                           0.87    118374\n",
      "   macro avg       0.76      0.52      0.51    118374\n",
      "weighted avg       0.84      0.87      0.82    118374\n",
      "\n",
      "              precision    recall  f1-score   support\n",
      "\n",
      "         0.0       0.87      1.00      0.93     34073\n",
      "         1.0       0.62      0.05      0.09      5386\n",
      "\n",
      "    accuracy                           0.87     39459\n",
      "   macro avg       0.75      0.52      0.51     39459\n",
      "weighted avg       0.84      0.87      0.81     39459\n",
      "\n"
     ]
    }
   ],
   "source": [
    "ypred_train14 = model3.predict(x_train)\n",
    "y_pred_test14 = model3.predict(x_test)\n",
    "\n",
    "\n",
    "print(classification_report(y_train,ypred_train14))\n",
    "print(classification_report(y_test,y_pred_test14))"
   ]
  },
  {
   "cell_type": "code",
   "execution_count": 60,
   "metadata": {},
   "outputs": [],
   "source": [
    "param_grid = {'C': [0.1,1, 10, 100, 1000], 'gamma': [1,0.1,0.01,0.001,0.0001], 'kernel': ['rbf']} "
   ]
  },
  {
   "cell_type": "code",
   "execution_count": 61,
   "metadata": {},
   "outputs": [],
   "source": [
    "grid = GridSearchCV(SVC(),param_grid,refit=True,verbose=3)"
   ]
  },
  {
   "cell_type": "code",
   "execution_count": 62,
   "metadata": {},
   "outputs": [
    {
     "name": "stdout",
     "output_type": "stream",
     "text": [
      "Fitting 5 folds for each of 25 candidates, totalling 125 fits\n",
      "[CV 1/5] END ........C=0.1, gamma=1, kernel=rbf;, score=0.866 total time= 3.5min\n",
      "[CV 2/5] END ........C=0.1, gamma=1, kernel=rbf;, score=0.866 total time= 7.7min\n",
      "[CV 3/5] END ........C=0.1, gamma=1, kernel=rbf;, score=0.867 total time= 4.6min\n",
      "[CV 4/5] END ........C=0.1, gamma=1, kernel=rbf;, score=0.867 total time= 3.5min\n",
      "[CV 5/5] END ........C=0.1, gamma=1, kernel=rbf;, score=0.865 total time= 3.5min\n",
      "[CV 1/5] END ......C=0.1, gamma=0.1, kernel=rbf;, score=0.865 total time= 1.8min\n",
      "[CV 2/5] END ......C=0.1, gamma=0.1, kernel=rbf;, score=0.865 total time= 1.8min\n",
      "[CV 3/5] END ......C=0.1, gamma=0.1, kernel=rbf;, score=0.865 total time= 1.8min\n",
      "[CV 4/5] END ......C=0.1, gamma=0.1, kernel=rbf;, score=0.865 total time= 1.8min\n",
      "[CV 5/5] END ......C=0.1, gamma=0.1, kernel=rbf;, score=0.865 total time= 1.9min\n",
      "[CV 1/5] END .....C=0.1, gamma=0.01, kernel=rbf;, score=0.865 total time= 1.3min\n",
      "[CV 2/5] END .....C=0.1, gamma=0.01, kernel=rbf;, score=0.865 total time= 1.3min\n",
      "[CV 3/5] END .....C=0.1, gamma=0.01, kernel=rbf;, score=0.865 total time= 1.3min\n",
      "[CV 4/5] END .....C=0.1, gamma=0.01, kernel=rbf;, score=0.865 total time= 1.3min\n",
      "[CV 5/5] END .....C=0.1, gamma=0.01, kernel=rbf;, score=0.865 total time= 1.3min\n",
      "[CV 1/5] END ....C=0.1, gamma=0.001, kernel=rbf;, score=0.865 total time= 1.0min\n",
      "[CV 2/5] END ....C=0.1, gamma=0.001, kernel=rbf;, score=0.865 total time= 1.0min\n",
      "[CV 3/5] END ....C=0.1, gamma=0.001, kernel=rbf;, score=0.865 total time= 1.1min\n",
      "[CV 4/5] END ....C=0.1, gamma=0.001, kernel=rbf;, score=0.865 total time= 1.0min\n",
      "[CV 5/5] END ....C=0.1, gamma=0.001, kernel=rbf;, score=0.865 total time= 1.1min\n",
      "[CV 1/5] END ...C=0.1, gamma=0.0001, kernel=rbf;, score=0.865 total time= 1.0min\n",
      "[CV 2/5] END ...C=0.1, gamma=0.0001, kernel=rbf;, score=0.865 total time= 1.1min\n",
      "[CV 3/5] END ...C=0.1, gamma=0.0001, kernel=rbf;, score=0.865 total time= 1.1min\n",
      "[CV 4/5] END ...C=0.1, gamma=0.0001, kernel=rbf;, score=0.865 total time= 1.1min\n",
      "[CV 5/5] END ...C=0.1, gamma=0.0001, kernel=rbf;, score=0.865 total time= 1.1min\n",
      "[CV 1/5] END ..........C=1, gamma=1, kernel=rbf;, score=0.867 total time= 7.7min\n",
      "[CV 2/5] END ..........C=1, gamma=1, kernel=rbf;, score=0.867 total time= 7.9min\n",
      "[CV 3/5] END ..........C=1, gamma=1, kernel=rbf;, score=0.868 total time= 7.6min\n",
      "[CV 4/5] END ..........C=1, gamma=1, kernel=rbf;, score=0.867 total time= 7.8min\n",
      "[CV 5/5] END ..........C=1, gamma=1, kernel=rbf;, score=0.867 total time= 7.7min\n",
      "[CV 1/5] END ........C=1, gamma=0.1, kernel=rbf;, score=0.867 total time= 3.5min\n",
      "[CV 2/5] END ........C=1, gamma=0.1, kernel=rbf;, score=0.866 total time= 3.0min\n",
      "[CV 3/5] END ........C=1, gamma=0.1, kernel=rbf;, score=0.867 total time= 3.6min\n",
      "[CV 4/5] END ........C=1, gamma=0.1, kernel=rbf;, score=0.867 total time= 3.0min\n",
      "[CV 5/5] END ........C=1, gamma=0.1, kernel=rbf;, score=0.865 total time= 3.6min\n",
      "[CV 1/5] END .......C=1, gamma=0.01, kernel=rbf;, score=0.865 total time= 1.7min\n",
      "[CV 2/5] END .......C=1, gamma=0.01, kernel=rbf;, score=0.865 total time= 1.7min\n",
      "[CV 3/5] END .......C=1, gamma=0.01, kernel=rbf;, score=0.865 total time= 1.7min\n",
      "[CV 4/5] END .......C=1, gamma=0.01, kernel=rbf;, score=0.865 total time= 1.7min\n",
      "[CV 5/5] END .......C=1, gamma=0.01, kernel=rbf;, score=0.865 total time= 1.7min\n",
      "[CV 1/5] END ......C=1, gamma=0.001, kernel=rbf;, score=0.865 total time= 1.1min\n",
      "[CV 2/5] END ......C=1, gamma=0.001, kernel=rbf;, score=0.865 total time= 1.3min\n",
      "[CV 3/5] END ......C=1, gamma=0.001, kernel=rbf;, score=0.865 total time= 1.1min\n",
      "[CV 4/5] END ......C=1, gamma=0.001, kernel=rbf;, score=0.865 total time= 1.1min\n",
      "[CV 5/5] END ......C=1, gamma=0.001, kernel=rbf;, score=0.865 total time= 1.1min\n",
      "[CV 1/5] END .....C=1, gamma=0.0001, kernel=rbf;, score=0.865 total time= 1.0min\n",
      "[CV 2/5] END .....C=1, gamma=0.0001, kernel=rbf;, score=0.865 total time= 1.0min\n",
      "[CV 3/5] END .....C=1, gamma=0.0001, kernel=rbf;, score=0.865 total time= 1.1min\n",
      "[CV 4/5] END .....C=1, gamma=0.0001, kernel=rbf;, score=0.865 total time= 1.1min\n",
      "[CV 5/5] END .....C=1, gamma=0.0001, kernel=rbf;, score=0.865 total time= 1.0min\n",
      "[CV 1/5] END .........C=10, gamma=1, kernel=rbf;, score=0.865 total time=19.0min\n",
      "[CV 2/5] END .........C=10, gamma=1, kernel=rbf;, score=0.866 total time=19.1min\n",
      "[CV 3/5] END .........C=10, gamma=1, kernel=rbf;, score=0.867 total time=18.5min\n",
      "[CV 4/5] END .........C=10, gamma=1, kernel=rbf;, score=0.867 total time=18.8min\n",
      "[CV 5/5] END .........C=10, gamma=1, kernel=rbf;, score=0.865 total time=20.6min\n",
      "[CV 1/5] END .......C=10, gamma=0.1, kernel=rbf;, score=0.867 total time=14.2min\n",
      "[CV 2/5] END .......C=10, gamma=0.1, kernel=rbf;, score=0.867 total time=13.9min\n",
      "[CV 3/5] END .......C=10, gamma=0.1, kernel=rbf;, score=0.868 total time=14.8min\n",
      "[CV 4/5] END .......C=10, gamma=0.1, kernel=rbf;, score=0.867 total time=13.8min\n",
      "[CV 5/5] END .......C=10, gamma=0.1, kernel=rbf;, score=0.866 total time=15.0min\n",
      "[CV 1/5] END ......C=10, gamma=0.01, kernel=rbf;, score=0.865 total time= 2.6min\n",
      "[CV 2/5] END ......C=10, gamma=0.01, kernel=rbf;, score=0.865 total time= 2.6min\n",
      "[CV 3/5] END ......C=10, gamma=0.01, kernel=rbf;, score=0.865 total time= 2.7min\n",
      "[CV 4/5] END ......C=10, gamma=0.01, kernel=rbf;, score=0.865 total time= 2.5min\n",
      "[CV 5/5] END ......C=10, gamma=0.01, kernel=rbf;, score=0.865 total time= 3.1min\n",
      "[CV 1/5] END .....C=10, gamma=0.001, kernel=rbf;, score=0.865 total time= 1.8min\n",
      "[CV 2/5] END .....C=10, gamma=0.001, kernel=rbf;, score=0.865 total time= 1.8min\n",
      "[CV 3/5] END .....C=10, gamma=0.001, kernel=rbf;, score=0.865 total time= 1.8min\n",
      "[CV 4/5] END .....C=10, gamma=0.001, kernel=rbf;, score=0.865 total time= 1.7min\n",
      "[CV 5/5] END .....C=10, gamma=0.001, kernel=rbf;, score=0.865 total time= 1.6min\n",
      "[CV 1/5] END ....C=10, gamma=0.0001, kernel=rbf;, score=0.865 total time= 1.1min\n",
      "[CV 2/5] END ....C=10, gamma=0.0001, kernel=rbf;, score=0.865 total time= 1.1min\n",
      "[CV 3/5] END ....C=10, gamma=0.0001, kernel=rbf;, score=0.865 total time= 1.0min\n",
      "[CV 4/5] END ....C=10, gamma=0.0001, kernel=rbf;, score=0.865 total time= 1.0min\n",
      "[CV 5/5] END ....C=10, gamma=0.0001, kernel=rbf;, score=0.865 total time= 1.0min\n",
      "[CV 1/5] END ........C=100, gamma=1, kernel=rbf;, score=0.863 total time=45.0min\n",
      "[CV 2/5] END ........C=100, gamma=1, kernel=rbf;, score=0.863 total time=65.1min\n",
      "[CV 3/5] END ........C=100, gamma=1, kernel=rbf;, score=0.860 total time=50.6min\n",
      "[CV 4/5] END ........C=100, gamma=1, kernel=rbf;, score=0.862 total time=51.9min\n",
      "[CV 5/5] END ........C=100, gamma=1, kernel=rbf;, score=0.861 total time=78.2min\n",
      "[CV 1/5] END .....C=100, gamma=0.1, kernel=rbf;, score=0.867 total time=198.3min\n",
      "[CV 2/5] END .....C=100, gamma=0.1, kernel=rbf;, score=0.868 total time=176.7min\n",
      "[CV 3/5] END .....C=100, gamma=0.1, kernel=rbf;, score=0.868 total time=112.6min\n",
      "[CV 4/5] END .....C=100, gamma=0.1, kernel=rbf;, score=0.868 total time=128.0min\n",
      "[CV 5/5] END .....C=100, gamma=0.1, kernel=rbf;, score=0.866 total time=116.2min\n",
      "[CV 1/5] END .....C=100, gamma=0.01, kernel=rbf;, score=0.867 total time=19.1min\n",
      "[CV 2/5] END .....C=100, gamma=0.01, kernel=rbf;, score=0.868 total time=20.8min\n",
      "[CV 3/5] END .....C=100, gamma=0.01, kernel=rbf;, score=0.868 total time=36.5min\n",
      "[CV 4/5] END .....C=100, gamma=0.01, kernel=rbf;, score=0.867 total time=67.5min\n",
      "[CV 5/5] END .....C=100, gamma=0.01, kernel=rbf;, score=0.866 total time=28.6min\n",
      "[CV 1/5] END ....C=100, gamma=0.001, kernel=rbf;, score=0.865 total time=15.3min\n",
      "[CV 2/5] END ....C=100, gamma=0.001, kernel=rbf;, score=0.865 total time=22.9min\n",
      "[CV 3/5] END ....C=100, gamma=0.001, kernel=rbf;, score=0.865 total time=15.1min\n",
      "[CV 4/5] END ....C=100, gamma=0.001, kernel=rbf;, score=0.865 total time=11.4min\n",
      "[CV 5/5] END ....C=100, gamma=0.001, kernel=rbf;, score=0.865 total time=10.5min\n",
      "[CV 1/5] END ...C=100, gamma=0.0001, kernel=rbf;, score=0.865 total time= 3.6min\n",
      "[CV 2/5] END ...C=100, gamma=0.0001, kernel=rbf;, score=0.865 total time= 3.4min\n",
      "[CV 3/5] END ...C=100, gamma=0.0001, kernel=rbf;, score=0.865 total time= 5.4min\n",
      "[CV 4/5] END ...C=100, gamma=0.0001, kernel=rbf;, score=0.865 total time= 4.0min\n",
      "[CV 5/5] END ...C=100, gamma=0.0001, kernel=rbf;, score=0.865 total time= 3.5min\n",
      "[CV 1/5] END ......C=1000, gamma=1, kernel=rbf;, score=0.856 total time=203.8min\n"
     ]
    }
   ],
   "source": [
    "grid.fit(x_train,y_train) "
   ]
  },
  {
   "cell_type": "code",
   "execution_count": null,
   "metadata": {},
   "outputs": [],
   "source": [
    "grid.best_params_"
   ]
  },
  {
   "cell_type": "code",
   "execution_count": null,
   "metadata": {},
   "outputs": [],
   "source": [
    "grid.best_estimator_"
   ]
  },
  {
   "cell_type": "code",
   "execution_count": null,
   "metadata": {},
   "outputs": [],
   "source": [
    "ypred_train = grid.predict(x_train)\n",
    "y_pred_test = grid.predict(x_test)\n",
    "\n",
    "print(classification_report(y_train,ypred_train))\n",
    "print(classification_report(y_test,y_pred_test))"
   ]
  },
  {
   "cell_type": "code",
   "execution_count": null,
   "metadata": {},
   "outputs": [],
   "source": [
    "\n",
    "\n",
    "\n",
    "y_proba_test = grid.predict_proba(x_test)[:, 1]\n",
    "\n",
    "\n",
    "fpr, tpr, thresholds = roc_curve(y_test, y_proba_test)\n",
    "\n",
    "\n",
    "plt.plot(fpr, tpr, label='ROC Curve')\n",
    "plt.xlabel('False Positive Rate')\n",
    "plt.ylabel('True Positive Rate')\n",
    "plt.title('ROC Curve with AUC = {:.2f}'.format(roc_auc_score(y_test, y_proba_test)))\n",
    "plt.legend(loc='lower right')\n",
    "plt.grid(True)\n",
    "plt.show()"
   ]
  },
  {
   "cell_type": "code",
   "execution_count": 9,
   "metadata": {},
   "outputs": [
    {
     "name": "stdout",
     "output_type": "stream",
     "text": [
      "Training Results\n",
      "\n",
      "              precision    recall  f1-score   support\n",
      "\n",
      "         0.0       0.87      1.00      0.93    102339\n",
      "         1.0       0.66      0.04      0.07     16035\n",
      "\n",
      "    accuracy                           0.87    118374\n",
      "   macro avg       0.76      0.52      0.50    118374\n",
      "weighted avg       0.84      0.87      0.81    118374\n",
      "\n",
      "Testing Results\n",
      "\n",
      "              precision    recall  f1-score   support\n",
      "\n",
      "         0.0       0.87      1.00      0.93     34073\n",
      "         1.0       0.64      0.04      0.07      5386\n",
      "\n",
      "    accuracy                           0.87     39459\n",
      "   macro avg       0.75      0.52      0.50     39459\n",
      "weighted avg       0.84      0.87      0.81     39459\n",
      "\n"
     ]
    },
    {
     "data": {
      "image/png": "[encoded data removed]",
      "text/plain": [
       "<Figure size 640x480 with 1 Axes>"
      ]
     },
     "metadata": {},
     "output_type": "display_data"
    }
   ],
   "source": [
    "\n",
    "model3 = SVC(C=0.1, gamma=1, kernel='rbf', probability=True)\n",
    "model3.fit(x_train, y_train)\n",
    "\n",
    "\n",
    "ypred_train14 = model3.predict(x_train)\n",
    "y_pred_test14 = model3.predict(x_test)\n",
    "\n",
    "\n",
    "print(\"Training Results\\n\")\n",
    "print(classification_report(y_train, ypred_train14))\n",
    "print(\"Testing Results\\n\")\n",
    "print(classification_report(y_test, y_pred_test14))\n",
    "\n",
    "\n",
    "y_proba_test = model3.predict_proba(x_test)[:, 1]\n",
    "fpr, tpr, thresholds = roc_curve(y_test, y_proba_test)\n",
    "plt.plot(fpr, tpr, label='ROC Curve')\n",
    "plt.xlabel('False Positive Rate')\n",
    "plt.ylabel('True Positive Rate')\n",
    "plt.title('ROC Curve with AUC = {:.2f}'.format(roc_auc_score(y_test, y_proba_test)))\n",
    "plt.legend(loc='lower right')\n",
    "plt.grid(True)\n",
    "plt.show()"
   ]
  }
 ],
 "metadata": {
  "kernelspec": {
   "display_name": "Python 3",
   "language": "python",
   "name": "python3"
  },
  "language_info": {
   "codemirror_mode": {
    "name": "ipython",
    "version": 3
   },
   "file_extension": ".py",
   "mimetype": "text/x-python",
   "name": "python",
   "nbconvert_exporter": "python",
   "pygments_lexer": "ipython3",
   "version": "0.0.0"
  }
 },
 "nbformat": 4,
 "nbformat_minor": 2
}
