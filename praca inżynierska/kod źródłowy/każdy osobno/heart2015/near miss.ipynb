{
 "cells": [
  {
   "cell_type": "code",
   "execution_count": 1,
   "metadata": {},
   "outputs": [
    {
     "name": "stdout",
     "output_type": "stream",
     "text": [
      "WARNING:tensorflow:From C:\\Users\\DELL\\AppData\\Roaming\\Python\\Python311\\site-packages\\keras\\src\\losses.py:2976: The name tf.losses.sparse_softmax_cross_entropy is deprecated. Please use tf.compat.v1.losses.sparse_softmax_cross_entropy instead.\n",
      "\n"
     ]
    }
   ],
   "source": [
    "import pandas as pd\n",
    "import numpy as np\n",
    "import matplotlib.pyplot as plt\n",
    "import plotly.express as px\n",
    "from sklearn.preprocessing import LabelEncoder\n",
    "from sklearn.preprocessing import RobustScaler , MinMaxScaler, StandardScaler\n",
    "import seaborn as sns\n",
    "from sklearn.metrics import roc_curve\n",
    "from sklearn.metrics import roc_auc_score\n",
    "import tensorflow as tf\n",
    "from keras.preprocessing.image import ImageDataGenerator\n",
    "from tensorflow.keras.layers import Dropout\n",
    "from tensorflow.keras.models import Sequential\n",
    "from tensorflow.keras.layers import Dense, Activation\n",
    "from tensorflow.keras.callbacks import EarlyStopping\n",
    "from tensorflow.keras.layers import Input,Flatten,Conv1D,MaxPooling1D\n",
    "from sklearn.metrics import classification_report\n",
    "import warnings\n",
    "warnings.filterwarnings('ignore')\n",
    "import missingno as msno\n",
    "from sklearn.model_selection import train_test_split\n",
    "from sklearn.metrics import accuracy_score\n",
    "from sklearn.metrics import mean_absolute_error , mean_absolute_percentage_error , mean_squared_error\n",
    "from sklearn.metrics import r2_score\n",
    "from sklearn.metrics import confusion_matrix\n",
    "from sklearn.model_selection import cross_val_score\n",
    "from sklearn.metrics import RocCurveDisplay\n",
    "from sklearn.model_selection import RepeatedStratifiedKFold\n",
    "from sklearn.metrics import accuracy_score, precision_score, recall_score, f1_score\n",
    "from sklearn.model_selection import GridSearchCV\n",
    "from sklearn.tree import DecisionTreeClassifier\n",
    "from sklearn.ensemble import RandomForestClassifier\n",
    "from sklearn.naive_bayes import GaussianNB\n",
    "from xgboost import XGBClassifier\n",
    "from sklearn.linear_model import LogisticRegression\n",
    "from sklearn.svm import SVC\n",
    "from sklearn.decomposition import PCA\n",
    "from sklearn.ensemble import GradientBoostingClassifier\n",
    "from sklearn.neighbors import KNeighborsClassifier\n",
    "from keras.layers import LSTM\n",
    "from imblearn.under_sampling import NearMiss\n",
    "from sklearn.preprocessing import MinMaxScaler\n"
   ]
  },
  {
   "cell_type": "markdown",
   "metadata": {},
   "source": [
    "## With Near Miss Under-Sampling With Evaluation"
   ]
  },
  {
   "cell_type": "code",
   "execution_count": 2,
   "metadata": {},
   "outputs": [
    {
     "data": {
      "text/html": [
       "<div>\n",
       "<style scoped>\n",
       "    .dataframe tbody tr th:only-of-type {\n",
       "        vertical-align: middle;\n",
       "    }\n",
       "\n",
       "    .dataframe tbody tr th {\n",
       "        vertical-align: top;\n",
       "    }\n",
       "\n",
       "    .dataframe thead th {\n",
       "        text-align: right;\n",
       "    }\n",
       "</style>\n",
       "<table border=\"1\" class=\"dataframe\">\n",
       "  <thead>\n",
       "    <tr style=\"text-align: right;\">\n",
       "      <th></th>\n",
       "      <th>HeartDiseaseorAttack</th>\n",
       "      <th>HighBP</th>\n",
       "      <th>HighChol</th>\n",
       "      <th>CholCheck</th>\n",
       "      <th>BMI</th>\n",
       "      <th>Smoker</th>\n",
       "      <th>Stroke</th>\n",
       "      <th>Diabetes</th>\n",
       "      <th>PhysActivity</th>\n",
       "      <th>Fruits</th>\n",
       "      <th>...</th>\n",
       "      <th>AnyHealthcare</th>\n",
       "      <th>NoDocbcCost</th>\n",
       "      <th>GenHlth</th>\n",
       "      <th>MentHlth</th>\n",
       "      <th>PhysHlth</th>\n",
       "      <th>DiffWalk</th>\n",
       "      <th>Sex</th>\n",
       "      <th>Age</th>\n",
       "      <th>Education</th>\n",
       "      <th>Income</th>\n",
       "    </tr>\n",
       "  </thead>\n",
       "  <tbody>\n",
       "    <tr>\n",
       "      <th>0</th>\n",
       "      <td>0.0</td>\n",
       "      <td>1.0</td>\n",
       "      <td>1.0</td>\n",
       "      <td>1.0</td>\n",
       "      <td>40.0</td>\n",
       "      <td>1.0</td>\n",
       "      <td>0.0</td>\n",
       "      <td>0.0</td>\n",
       "      <td>0.0</td>\n",
       "      <td>0.0</td>\n",
       "      <td>...</td>\n",
       "      <td>1.0</td>\n",
       "      <td>0.0</td>\n",
       "      <td>5.0</td>\n",
       "      <td>18.0</td>\n",
       "      <td>15.0</td>\n",
       "      <td>1.0</td>\n",
       "      <td>0.0</td>\n",
       "      <td>9.0</td>\n",
       "      <td>4.0</td>\n",
       "      <td>3.0</td>\n",
       "    </tr>\n",
       "    <tr>\n",
       "      <th>1</th>\n",
       "      <td>0.0</td>\n",
       "      <td>0.0</td>\n",
       "      <td>0.0</td>\n",
       "      <td>0.0</td>\n",
       "      <td>25.0</td>\n",
       "      <td>1.0</td>\n",
       "      <td>0.0</td>\n",
       "      <td>0.0</td>\n",
       "      <td>1.0</td>\n",
       "      <td>0.0</td>\n",
       "      <td>...</td>\n",
       "      <td>0.0</td>\n",
       "      <td>1.0</td>\n",
       "      <td>3.0</td>\n",
       "      <td>0.0</td>\n",
       "      <td>0.0</td>\n",
       "      <td>0.0</td>\n",
       "      <td>0.0</td>\n",
       "      <td>7.0</td>\n",
       "      <td>6.0</td>\n",
       "      <td>1.0</td>\n",
       "    </tr>\n",
       "    <tr>\n",
       "      <th>2</th>\n",
       "      <td>0.0</td>\n",
       "      <td>1.0</td>\n",
       "      <td>1.0</td>\n",
       "      <td>1.0</td>\n",
       "      <td>28.0</td>\n",
       "      <td>0.0</td>\n",
       "      <td>0.0</td>\n",
       "      <td>0.0</td>\n",
       "      <td>0.0</td>\n",
       "      <td>1.0</td>\n",
       "      <td>...</td>\n",
       "      <td>1.0</td>\n",
       "      <td>1.0</td>\n",
       "      <td>5.0</td>\n",
       "      <td>30.0</td>\n",
       "      <td>30.0</td>\n",
       "      <td>1.0</td>\n",
       "      <td>0.0</td>\n",
       "      <td>9.0</td>\n",
       "      <td>4.0</td>\n",
       "      <td>8.0</td>\n",
       "    </tr>\n",
       "    <tr>\n",
       "      <th>3</th>\n",
       "      <td>0.0</td>\n",
       "      <td>1.0</td>\n",
       "      <td>0.0</td>\n",
       "      <td>1.0</td>\n",
       "      <td>27.0</td>\n",
       "      <td>0.0</td>\n",
       "      <td>0.0</td>\n",
       "      <td>0.0</td>\n",
       "      <td>1.0</td>\n",
       "      <td>1.0</td>\n",
       "      <td>...</td>\n",
       "      <td>1.0</td>\n",
       "      <td>0.0</td>\n",
       "      <td>2.0</td>\n",
       "      <td>0.0</td>\n",
       "      <td>0.0</td>\n",
       "      <td>0.0</td>\n",
       "      <td>0.0</td>\n",
       "      <td>11.0</td>\n",
       "      <td>3.0</td>\n",
       "      <td>6.0</td>\n",
       "    </tr>\n",
       "    <tr>\n",
       "      <th>4</th>\n",
       "      <td>0.0</td>\n",
       "      <td>1.0</td>\n",
       "      <td>1.0</td>\n",
       "      <td>1.0</td>\n",
       "      <td>24.0</td>\n",
       "      <td>0.0</td>\n",
       "      <td>0.0</td>\n",
       "      <td>0.0</td>\n",
       "      <td>1.0</td>\n",
       "      <td>1.0</td>\n",
       "      <td>...</td>\n",
       "      <td>1.0</td>\n",
       "      <td>0.0</td>\n",
       "      <td>2.0</td>\n",
       "      <td>3.0</td>\n",
       "      <td>0.0</td>\n",
       "      <td>0.0</td>\n",
       "      <td>0.0</td>\n",
       "      <td>11.0</td>\n",
       "      <td>5.0</td>\n",
       "      <td>4.0</td>\n",
       "    </tr>\n",
       "  </tbody>\n",
       "</table>\n",
       "<p>5 rows × 22 columns</p>\n",
       "</div>"
      ],
      "text/plain": [
       "   HeartDiseaseorAttack  HighBP  HighChol  CholCheck   BMI  Smoker  Stroke  \\\n",
       "0                   0.0     1.0       1.0        1.0  40.0     1.0     0.0   \n",
       "1                   0.0     0.0       0.0        0.0  25.0     1.0     0.0   \n",
       "2                   0.0     1.0       1.0        1.0  28.0     0.0     0.0   \n",
       "3                   0.0     1.0       0.0        1.0  27.0     0.0     0.0   \n",
       "4                   0.0     1.0       1.0        1.0  24.0     0.0     0.0   \n",
       "\n",
       "   Diabetes  PhysActivity  Fruits  ...  AnyHealthcare  NoDocbcCost  GenHlth  \\\n",
       "0       0.0           0.0     0.0  ...            1.0          0.0      5.0   \n",
       "1       0.0           1.0     0.0  ...            0.0          1.0      3.0   \n",
       "2       0.0           0.0     1.0  ...            1.0          1.0      5.0   \n",
       "3       0.0           1.0     1.0  ...            1.0          0.0      2.0   \n",
       "4       0.0           1.0     1.0  ...            1.0          0.0      2.0   \n",
       "\n",
       "   MentHlth  PhysHlth  DiffWalk  Sex   Age  Education  Income  \n",
       "0      18.0      15.0       1.0  0.0   9.0        4.0     3.0  \n",
       "1       0.0       0.0       0.0  0.0   7.0        6.0     1.0  \n",
       "2      30.0      30.0       1.0  0.0   9.0        4.0     8.0  \n",
       "3       0.0       0.0       0.0  0.0  11.0        3.0     6.0  \n",
       "4       3.0       0.0       0.0  0.0  11.0        5.0     4.0  \n",
       "\n",
       "[5 rows x 22 columns]"
      ]
     },
     "execution_count": 2,
     "metadata": {},
     "output_type": "execute_result"
    }
   ],
   "source": [
    "df= pd.read_csv('Heart Disease Data 2015.csv')\n",
    "df.head()"
   ]
  },
  {
   "cell_type": "code",
   "execution_count": 3,
   "metadata": {},
   "outputs": [],
   "source": [
    "df.drop(['Income',\"Education\",'DiffWalk',\"NoDocbcCost\",\"AnyHealthcare\",'Veggies',\"Fruits\",\"CholCheck\"],axis=1,inplace=True)\n",
    "\n"
   ]
  },
  {
   "cell_type": "code",
   "execution_count": 4,
   "metadata": {},
   "outputs": [
    {
     "data": {
      "text/plain": [
       "HeartDiseaseorAttack\n",
       "0.0    229787\n",
       "1.0     23893\n",
       "Name: count, dtype: int64"
      ]
     },
     "execution_count": 4,
     "metadata": {},
     "output_type": "execute_result"
    }
   ],
   "source": [
    "df.shape\n",
    "df['HeartDiseaseorAttack'].value_counts()\n"
   ]
  },
  {
   "cell_type": "code",
   "execution_count": 5,
   "metadata": {},
   "outputs": [],
   "source": [
    "df.duplicated().sum()\n",
    "df.drop_duplicates(inplace=True)"
   ]
  },
  {
   "cell_type": "markdown",
   "metadata": {},
   "source": [
    "## splite data"
   ]
  },
  {
   "cell_type": "code",
   "execution_count": 6,
   "metadata": {},
   "outputs": [],
   "source": [
    "x = df.drop([\"HeartDiseaseorAttack\"] , axis = 1).values\n",
    "y = df[\"HeartDiseaseorAttack\"].values"
   ]
  },
  {
   "cell_type": "code",
   "execution_count": 7,
   "metadata": {},
   "outputs": [],
   "source": [
    "nr = NearMiss()\n",
    "x_NM, y_NM = nr.fit_resample(x, y)\n",
    "x_train5, x_test5, y_train5, y_test5 = train_test_split(x_NM, y_NM, test_size=0.25, random_state=42)"
   ]
  },
  {
   "cell_type": "code",
   "execution_count": 8,
   "metadata": {},
   "outputs": [
    {
     "name": "stdout",
     "output_type": "stream",
     "text": [
      "32131 32131\n",
      "10711 10711\n"
     ]
    }
   ],
   "source": [
    "scaler = MinMaxScaler()\n",
    "x_train5 = scaler.fit_transform(x_train5)\n",
    "x_test5 = scaler.transform(x_test5)\n",
    "print(len(x_train5), len(y_train5))\n",
    "print(len(x_test5), len(y_test5))"
   ]
  },
  {
   "cell_type": "markdown",
   "metadata": {},
   "source": [
    "## Random Forest"
   ]
  },
  {
   "cell_type": "code",
   "execution_count": 9,
   "metadata": {},
   "outputs": [
    {
     "name": "stdout",
     "output_type": "stream",
     "text": [
      "Najlepsze parametry:  {'max_depth': 10, 'max_features': 'sqrt', 'min_samples_leaf': 4, 'min_samples_split': 4, 'n_estimators': 200}\n",
      "Training Results\n",
      "\n",
      "              precision    recall  f1-score   support\n",
      "\n",
      "         0.0       0.73      0.85      0.78     16021\n",
      "         1.0       0.82      0.68      0.74     16110\n",
      "\n",
      "    accuracy                           0.76     32131\n",
      "   macro avg       0.77      0.77      0.76     32131\n",
      "weighted avg       0.77      0.76      0.76     32131\n",
      "\n",
      "Test Results\n",
      "\n",
      "              precision    recall  f1-score   support\n",
      "\n",
      "         0.0       0.72      0.84      0.78      5400\n",
      "         1.0       0.81      0.67      0.73      5311\n",
      "\n",
      "    accuracy                           0.76     10711\n",
      "   macro avg       0.76      0.76      0.75     10711\n",
      "weighted avg       0.76      0.76      0.75     10711\n",
      "\n",
      "Confusion Matrix:\n",
      " [[4560  840]\n",
      " [1765 3546]]\n"
     ]
    }
   ],
   "source": [
    "\n",
    "\n",
    "\n",
    "# Inicjalizacja modelu z domyślnymi parametrami\n",
    "rf = RandomForestClassifier()\n",
    "\n",
    "# Określenie siatki parametrów do przetestowania\n",
    "param_grid = {\n",
    "    'n_estimators': [100, 200, 300],  # Liczba drzew\n",
    "    'max_depth': [10, 20, 30],        # Maksymalna głębokość drzewa\n",
    "    'min_samples_split': [2, 4, 6],   # Minimalna liczba próbek wymagana do podziału węzła\n",
    "    'min_samples_leaf': [1, 2, 4],    # Minimalna liczba próbek wymagana w liściu\n",
    "    'max_features': ['auto', 'sqrt']  # Liczba cech do rozważenia przy każdym podziale\n",
    "}\n",
    "\n",
    "# Utworzenie obiektu GridSearchCV\n",
    "cv_rf = GridSearchCV(estimator=rf, param_grid=param_grid, cv=5, scoring='accuracy')\n",
    "\n",
    "# Przeszukiwanie siatki parametrów\n",
    "cv_rf.fit(x_train5, y_train5)\n",
    "\n",
    "# Najlepszy zestaw parametrów\n",
    "print(\"Najlepsze parametry: \", cv_rf.best_params_)\n",
    "\n",
    "# Najlepszy estimator\n",
    "best_rf = cv_rf.best_estimator_\n",
    "\n",
    "# Predykcje i ocena modelu\n",
    "ypred_train = best_rf.predict(x_train5)\n",
    "ypred_test = best_rf.predict(x_test5)\n",
    "\n",
    "print(\"Training Results\\n\")\n",
    "print(classification_report(y_train5, ypred_train))\n",
    "print(\"Test Results\\n\")\n",
    "print(classification_report(y_test5, ypred_test))\n",
    "\n",
    "# Macierz pomyłek\n",
    "conf_matrix = confusion_matrix(y_test5, ypred_test)\n",
    "print(\"Confusion Matrix:\\n\", conf_matrix)\n",
    "\n",
    "# Ocena modelu za pomocą walidacji krzyżowej\n",
    "# cross_val_scores = cross_val_score(best_rf, x_train5, y_train5, cv=5)\n",
    "# print(\"Cross-validation scores:\", cross_val_scores)\n",
    "# print(\"Average cross-validation score:\", np.mean(cross_val_scores))"
   ]
  },
  {
   "cell_type": "code",
   "execution_count": 10,
   "metadata": {},
   "outputs": [
    {
     "data": {
      "image/png": "[encoded data removed]",
      "text/plain": [
       "<Figure size 640x480 with 1 Axes>"
      ]
     },
     "metadata": {},
     "output_type": "display_data"
    }
   ],
   "source": [
    "\n",
    "\n",
    "y_proba_test = best_rf.predict_proba(x_test5)[:, 1]\n",
    "\n",
    "fpr, tpr, thresholds = roc_curve(y_test5, y_proba_test)\n",
    "\n",
    "plt.plot(fpr, tpr, label='ROC Curve')\n",
    "plt.xlabel('False Positive Rate')\n",
    "plt.ylabel('True Positive Rate')\n",
    "plt.title('ROC Curve with AUC = {:.2f}'.format(roc_auc_score(y_test5, y_proba_test)))\n",
    "plt.legend(loc='lower right')\n",
    "plt.grid(True)\n",
    "plt.show()"
   ]
  },
  {
   "cell_type": "markdown",
   "metadata": {},
   "source": [
    "## DECISION TREE CLASSIFIER"
   ]
  },
  {
   "cell_type": "code",
   "execution_count": 11,
   "metadata": {},
   "outputs": [
    {
     "name": "stdout",
     "output_type": "stream",
     "text": [
      "Najlepsze parametry: {'criterion': 'entropy', 'max_depth': 10, 'min_samples_leaf': 2, 'min_samples_split': 10}\n",
      "Najlepsza dokładność: 0.7488405856265712\n",
      "Training Results\n",
      "\n",
      "              precision    recall  f1-score   support\n",
      "\n",
      "         0.0       0.71      0.87      0.78     16021\n",
      "         1.0       0.84      0.64      0.73     16110\n",
      "\n",
      "    accuracy                           0.76     32131\n",
      "   macro avg       0.77      0.76      0.75     32131\n",
      "weighted avg       0.77      0.76      0.75     32131\n",
      "\n",
      "Testing Results\n",
      "\n",
      "              precision    recall  f1-score   support\n",
      "\n",
      "         0.0       0.71      0.88      0.78      5400\n",
      "         1.0       0.83      0.63      0.72      5311\n",
      "\n",
      "    accuracy                           0.76     10711\n",
      "   macro avg       0.77      0.75      0.75     10711\n",
      "weighted avg       0.77      0.76      0.75     10711\n",
      "\n"
     ]
    }
   ],
   "source": [
    "\n",
    "\n",
    "# Parametry do przetestowania w Grid Search\n",
    "param_grid = {\n",
    "    'max_depth': [3, 5, 10, None],\n",
    "    'min_samples_split': [2, 5, 10],\n",
    "    'min_samples_leaf': [1, 2, 5],\n",
    "    'criterion': ['gini', 'entropy']\n",
    "}\n",
    "\n",
    "# Utworzenie modelu drzewa decyzyjnego\n",
    "tree = DecisionTreeClassifier()\n",
    "\n",
    "# Uruchomienie Grid Search z walidacją krzyżową\n",
    "grid_search = GridSearchCV(tree, param_grid, cv=5, scoring='accuracy')\n",
    "grid_search.fit(x_train5, y_train5)\n",
    "\n",
    "# Wyświetlenie najlepszych parametrów i wyników\n",
    "print(\"Najlepsze parametry:\", grid_search.best_params_)\n",
    "print(\"Najlepsza dokładność:\", grid_search.best_score_)\n",
    "\n",
    "# Utworzenie i ocena modelu z najlepszymi parametrami\n",
    "best_tree = grid_search.best_estimator_\n",
    "best_tree.fit(x_train5, y_train5)\n",
    "\n",
    "ypred_train2 = best_tree.predict(x_train5)\n",
    "ypred_test2 = best_tree.predict(x_test5)\n",
    "\n",
    "# Ocena modelu na zbiorze testowym\n",
    "\n",
    "print(\"Training Results\\n\")\n",
    "print(classification_report(y_train5, ypred_train2))\n",
    "print('Testing Results\\n')\n",
    "print(classification_report(y_test5, ypred_test2))\n",
    "\n",
    "# Dodatkowo: Walidacja krzyżowa dla najlepszego modelu na całym zbiorze danych\n",
    "# cross_val_scores = cross_val_score(best_tree, x_train5, y_train5, cv=5)\n",
    "# print(\"Cross-Validation Scores for the Best Model:\", cross_val_scores)\n",
    "# print(\"Average Cross-Validation Score:\", cross_val_scores.mean())"
   ]
  },
  {
   "cell_type": "code",
   "execution_count": 12,
   "metadata": {},
   "outputs": [
    {
     "data": {
      "image/png": "[encoded data removed]",
      "text/plain": [
       "<Figure size 640x480 with 1 Axes>"
      ]
     },
     "metadata": {},
     "output_type": "display_data"
    }
   ],
   "source": [
    "from sklearn.metrics import roc_curve, roc_auc_score\n",
    "import matplotlib.pyplot as plt\n",
    "\n",
    "y_proba_test = best_tree.predict_proba(x_test5)[:, 1]\n",
    "\n",
    "fpr, tpr, thresholds = roc_curve(y_test5, y_proba_test)\n",
    "\n",
    "plt.plot(fpr, tpr, label='ROC Curve')\n",
    "plt.xlabel('False Positive Rate')\n",
    "plt.ylabel('True Positive Rate')\n",
    "plt.title('ROC Curve with AUC = {:.2f}'.format(roc_auc_score(y_test5, y_proba_test)))\n",
    "plt.legend(loc='lower right')\n",
    "plt.grid(True)\n",
    "plt.show()"
   ]
  },
  {
   "cell_type": "markdown",
   "metadata": {},
   "source": [
    "## Naive Bayes"
   ]
  },
  {
   "cell_type": "code",
   "execution_count": 13,
   "metadata": {},
   "outputs": [
    {
     "name": "stdout",
     "output_type": "stream",
     "text": [
      "Naive Bayes Classifier Accuracy:  0.6813556157221548\n"
     ]
    }
   ],
   "source": [
    "Gnb = GaussianNB()\n",
    "Gnb.fit(x_train5, y_train5)\n",
    "ypred_train3 = Gnb.predict(x_train5)\n",
    "y_pred_test3 = Gnb.predict(x_test5)\n",
    "\n",
    "print(\"Naive Bayes Classifier Accuracy: \",accuracy_score(y_test5, y_pred_test3))"
   ]
  },
  {
   "cell_type": "code",
   "execution_count": 14,
   "metadata": {},
   "outputs": [
    {
     "name": "stdout",
     "output_type": "stream",
     "text": [
      "Training Results\n",
      "\n",
      "              precision    recall  f1-score   support\n",
      "\n",
      "         0.0       0.63      0.84      0.72     16021\n",
      "         1.0       0.76      0.51      0.61     16110\n",
      "\n",
      "    accuracy                           0.68     32131\n",
      "   macro avg       0.70      0.68      0.67     32131\n",
      "weighted avg       0.70      0.68      0.67     32131\n",
      "\n"
     ]
    }
   ],
   "source": [
    "print(\"Training Results\\n\")\n",
    "print(classification_report(y_train5, ypred_train3))"
   ]
  },
  {
   "cell_type": "code",
   "execution_count": 15,
   "metadata": {},
   "outputs": [
    {
     "name": "stdout",
     "output_type": "stream",
     "text": [
      "Testing Results\n",
      "\n",
      "              precision    recall  f1-score   support\n",
      "\n",
      "         0.0       0.64      0.84      0.73      5400\n",
      "         1.0       0.76      0.52      0.62      5311\n",
      "\n",
      "    accuracy                           0.68     10711\n",
      "   macro avg       0.70      0.68      0.67     10711\n",
      "weighted avg       0.70      0.68      0.67     10711\n",
      "\n"
     ]
    }
   ],
   "source": [
    "print('Testing Results\\n')\n",
    "print(classification_report(y_test5, y_pred_test3))"
   ]
  },
  {
   "cell_type": "code",
   "execution_count": 16,
   "metadata": {},
   "outputs": [
    {
     "data": {
      "image/png": "[encoded data removed]",
      "text/plain": [
       "<Figure size 640x480 with 1 Axes>"
      ]
     },
     "metadata": {},
     "output_type": "display_data"
    }
   ],
   "source": [
    "# cross_val_scores = cross_val_score(Gnb, x_train5, y_train5, cv=5)\n",
    "# print(\"Cross-validation scores:\", cross_val_scores)\n",
    "# print(\"Average cross-validation score:\", np.mean(cross_val_scores))\n",
    "\n",
    "y_proba_test = Gnb.predict_proba(x_test5)[:, 1]\n",
    "\n",
    "fpr, tpr, thresholds = roc_curve(y_test5, y_proba_test)\n",
    "\n",
    "plt.plot(fpr, tpr, label='ROC Curve')\n",
    "plt.xlabel('False Positive Rate')\n",
    "plt.ylabel('True Positive Rate')\n",
    "plt.title('ROC Curve with AUC = {:.2f}'.format(roc_auc_score(y_test5, y_proba_test)))\n",
    "plt.legend(loc='lower right')\n",
    "plt.grid(True)\n",
    "plt.show()"
   ]
  },
  {
   "cell_type": "markdown",
   "metadata": {},
   "source": [
    "## XGBOSST"
   ]
  },
  {
   "cell_type": "code",
   "execution_count": 17,
   "metadata": {},
   "outputs": [
    {
     "name": "stdout",
     "output_type": "stream",
     "text": [
      "Najlepsze parametry:  {'colsample_bytree': 0.7, 'learning_rate': 0.1, 'max_depth': 5, 'n_estimators': 200, 'subsample': 0.9}\n",
      "Accuracy on Training set:  0.7763530546823939\n",
      "Accuracy on Test set:  0.766221641303333\n",
      "\n",
      "Training Results\n",
      "\n",
      "              precision    recall  f1-score   support\n",
      "\n",
      "         0.0       0.72      0.89      0.80     16021\n",
      "         1.0       0.86      0.66      0.75     16110\n",
      "\n",
      "    accuracy                           0.78     32131\n",
      "   macro avg       0.79      0.78      0.77     32131\n",
      "weighted avg       0.79      0.78      0.77     32131\n",
      "\n",
      "Testing Results\n",
      "\n",
      "              precision    recall  f1-score   support\n",
      "\n",
      "         0.0       0.72      0.88      0.79      5400\n",
      "         1.0       0.84      0.65      0.73      5311\n",
      "\n",
      "    accuracy                           0.77     10711\n",
      "   macro avg       0.78      0.77      0.76     10711\n",
      "weighted avg       0.78      0.77      0.76     10711\n",
      "\n"
     ]
    },
    {
     "data": {
      "image/png": "[encoded data removed]",
      "text/plain": [
       "<Figure size 640x480 with 1 Axes>"
      ]
     },
     "metadata": {},
     "output_type": "display_data"
    }
   ],
   "source": [
    "\n",
    "xg = XGBClassifier()\n",
    "\n",
    "# Definiowanie siatki hiperparametrów do przetestowania\n",
    "param_grid = {\n",
    "    'n_estimators': [50, 100, 200],\n",
    "    'max_depth': [3, 5, 7],\n",
    "    'learning_rate': [0.01, 0.1, 0.2],\n",
    "    'subsample': [0.7, 0.8, 0.9],\n",
    "    'colsample_bytree': [0.7, 0.8, 0.9]\n",
    "}\n",
    "\n",
    "# Utworzenie obiektu GridSearchCV\n",
    "grid_search = GridSearchCV(estimator=xg, param_grid=param_grid, cv=3, scoring='accuracy')\n",
    "\n",
    "# Przeszukiwanie siatki parametrów\n",
    "grid_search.fit(x_train5, y_train5)\n",
    "\n",
    "# Najlepsze parametry i najlepszy model\n",
    "print(\"Najlepsze parametry: \", grid_search.best_params_)\n",
    "best_xg = grid_search.best_estimator_\n",
    "\n",
    "# Predykcje na zbiorze treningowym i testowym\n",
    "ypred_train4 = best_xg.predict(x_train5)\n",
    "y_pred_test4 = best_xg.predict(x_test5)\n",
    "\n",
    "# Ocena modelu\n",
    "print(\"Accuracy on Training set: \", accuracy_score(y_train5, ypred_train4))\n",
    "print(\"Accuracy on Test set: \", accuracy_score(y_test5, y_pred_test4))\n",
    "print(\"\\nTraining Results\\n\")\n",
    "print(classification_report(y_train5, ypred_train4))\n",
    "print('Testing Results\\n')\n",
    "print(classification_report(y_test5, y_pred_test4))\n",
    "\n",
    "# cross_val_scores = cross_val_score(best_xg, x_train5, y_train5, cv=5)\n",
    "# print(\"Cross-validation scores:\", cross_val_scores)\n",
    "# print(\"Average cross-validation score:\", np.mean(cross_val_scores))\n",
    "\n",
    "# Krzywa ROC\n",
    "y_proba_test4 = best_xg.predict_proba(x_test5)[:, 1]\n",
    "fpr, tpr, thresholds = roc_curve(y_test5, y_proba_test4)\n",
    "plt.plot(fpr, tpr)\n",
    "plt.title(\"ROC Curve with AUC = {:.2f}\".format(roc_auc_score(y_test5, y_proba_test4)))\n",
    "plt.show()"
   ]
  },
  {
   "cell_type": "markdown",
   "metadata": {},
   "source": [
    "## logistic regression\n"
   ]
  },
  {
   "cell_type": "code",
   "execution_count": 18,
   "metadata": {},
   "outputs": [
    {
     "name": "stdout",
     "output_type": "stream",
     "text": [
      "Najlepsze parametry:  {'C': 0.1, 'penalty': 'l2', 'solver': 'liblinear'}\n",
      "Accuracy on Training set:  0.6996981108586723\n",
      "Accuracy on Test set:  0.7028288675193726\n",
      "\n",
      "Training Results\n",
      "\n",
      "              precision    recall  f1-score   support\n",
      "\n",
      "         0.0       0.66      0.80      0.73     16021\n",
      "         1.0       0.75      0.60      0.67     16110\n",
      "\n",
      "    accuracy                           0.70     32131\n",
      "   macro avg       0.71      0.70      0.70     32131\n",
      "weighted avg       0.71      0.70      0.70     32131\n",
      "\n",
      "Testing Results\n",
      "\n",
      "              precision    recall  f1-score   support\n",
      "\n",
      "         0.0       0.67      0.81      0.73      5400\n",
      "         1.0       0.75      0.59      0.66      5311\n",
      "\n",
      "    accuracy                           0.70     10711\n",
      "   macro avg       0.71      0.70      0.70     10711\n",
      "weighted avg       0.71      0.70      0.70     10711\n",
      "\n"
     ]
    },
    {
     "data": {
      "image/png": "[encoded data removed]",
      "text/plain": [
       "<Figure size 640x480 with 1 Axes>"
      ]
     },
     "metadata": {},
     "output_type": "display_data"
    }
   ],
   "source": [
    "\n",
    "\n",
    "# Inicjalizacja modelu regresji logistycznej\n",
    "lg = LogisticRegression()\n",
    "\n",
    "# Definiowanie siatki hiperparametrów do przetestowania\n",
    "param_grid = {\n",
    "    'C': [0.01, 0.1, 1, 10, 100],  # Parametr regularyzacji\n",
    "    'penalty': ['l1', 'l2'],       # Typ regularyzacji\n",
    "    'solver': ['liblinear']        # Algorytm optymalizacji (liblinear jest dobrym wyborem dla małych zbiorów danych)\n",
    "}\n",
    "\n",
    "# Utworzenie obiektu GridSearchCV\n",
    "grid_search = GridSearchCV(estimator=lg, param_grid=param_grid, cv=5, scoring='accuracy')\n",
    "\n",
    "# Przeszukiwanie siatki parametrów\n",
    "grid_search.fit(x_train5, y_train5)\n",
    "\n",
    "# Najlepsze parametry i najlepszy model\n",
    "print(\"Najlepsze parametry: \", grid_search.best_params_)\n",
    "best_lg = grid_search.best_estimator_\n",
    "\n",
    "# Predykcje na zbiorze treningowym i testowym\n",
    "ypred_train4 = best_lg.predict(x_train5)\n",
    "y_pred_test4 = best_lg.predict(x_test5)\n",
    "\n",
    "# Ocena modelu\n",
    "print(\"Accuracy on Training set: \", accuracy_score(y_train5, ypred_train4))\n",
    "print(\"Accuracy on Test set: \", accuracy_score(y_test5, y_pred_test4))\n",
    "print(\"\\nTraining Results\\n\")\n",
    "print(classification_report(y_train5, ypred_train4))\n",
    "print('Testing Results\\n')\n",
    "print(classification_report(y_test5, y_pred_test4))\n",
    "\n",
    "# cross_val_scores = cross_val_score(best_lg, x_train5, y_train5, cv=5)\n",
    "# print(\"Cross-validation scores:\", cross_val_scores)\n",
    "# print(\"Average cross-validation score:\", np.mean(cross_val_scores))\n",
    "\n",
    "# Krzywa ROC\n",
    "y_proba_test4 = best_lg.predict_proba(x_test5)[:, 1]\n",
    "fpr, tpr, thresholds = roc_curve(y_test5, y_proba_test4)\n",
    "plt.plot(fpr, tpr)\n",
    "plt.title(\"ROC Curve with AUC = {:.2f}\".format(roc_auc_score(y_test5, y_proba_test4)))\n",
    "plt.show()"
   ]
  },
  {
   "cell_type": "markdown",
   "metadata": {},
   "source": [
    "## GradientBoostingClassifier"
   ]
  },
  {
   "cell_type": "code",
   "execution_count": 19,
   "metadata": {},
   "outputs": [
    {
     "name": "stdout",
     "output_type": "stream",
     "text": [
      "Najlepsze parametry:  {'learning_rate': 0.2, 'max_depth': 3, 'min_samples_leaf': 2, 'min_samples_split': 2, 'n_estimators': 300}\n",
      "Accuracy on Training set:  0.7732719180853381\n",
      "Accuracy on Test set:  0.7644477639809542\n",
      "\n",
      "Training Results\n",
      "\n",
      "              precision    recall  f1-score   support\n",
      "\n",
      "         0.0       0.72      0.88      0.80     16021\n",
      "         1.0       0.85      0.66      0.75     16110\n",
      "\n",
      "    accuracy                           0.77     32131\n",
      "   macro avg       0.79      0.77      0.77     32131\n",
      "weighted avg       0.79      0.77      0.77     32131\n",
      "\n",
      "Testing Results\n",
      "\n",
      "              precision    recall  f1-score   support\n",
      "\n",
      "         0.0       0.72      0.87      0.79      5400\n",
      "         1.0       0.83      0.66      0.73      5311\n",
      "\n",
      "    accuracy                           0.76     10711\n",
      "   macro avg       0.78      0.76      0.76     10711\n",
      "weighted avg       0.78      0.76      0.76     10711\n",
      "\n"
     ]
    },
    {
     "data": {
      "image/png": "[encoded data removed]",
      "text/plain": [
       "<Figure size 640x480 with 1 Axes>"
      ]
     },
     "metadata": {},
     "output_type": "display_data"
    }
   ],
   "source": [
    "\n",
    "\n",
    "# Inicjalizacja modelu Gradient Boosting Classifier\n",
    "gb = GradientBoostingClassifier()\n",
    "\n",
    "# Definiowanie siatki hiperparametrów do przetestowania\n",
    "param_grid = {\n",
    "    'n_estimators': [100, 200, 300],  # Liczba drzew w ensemble\n",
    "    'learning_rate': [0.01, 0.1, 0.2], # Szybkość uczenia\n",
    "    'max_depth': [3, 5, 7],            # Maksymalna głębokość drzewa\n",
    "    'min_samples_split': [2, 4],       # Minimalna liczba próbek wymagana do podziału węzła\n",
    "    'min_samples_leaf': [1, 2]         # Minimalna liczba próbek w liściu\n",
    "}\n",
    "\n",
    "# Utworzenie obiektu GridSearchCV\n",
    "grid_search = GridSearchCV(estimator=gb, param_grid=param_grid, cv=5, scoring='accuracy')\n",
    "\n",
    "# Przeszukiwanie siatki parametrów\n",
    "grid_search.fit(x_train5, y_train5)\n",
    "\n",
    "# Najlepsze parametry i najlepszy model\n",
    "print(\"Najlepsze parametry: \", grid_search.best_params_)\n",
    "best_gb = grid_search.best_estimator_\n",
    "\n",
    "# Predykcje na zbiorze treningowym i testowym\n",
    "ypred_train6 = best_gb.predict(x_train5)\n",
    "y_pred_test6 = best_gb.predict(x_test5)\n",
    "\n",
    "# Ocena modelu\n",
    "print(\"Accuracy on Training set: \", accuracy_score(y_train5, ypred_train6))\n",
    "print(\"Accuracy on Test set: \", accuracy_score(y_test5, y_pred_test6))\n",
    "print(\"\\nTraining Results\\n\")\n",
    "print(classification_report(y_train5, ypred_train6))\n",
    "print('Testing Results\\n')\n",
    "print(classification_report(y_test5, y_pred_test6))\n",
    "\n",
    "# cross_val_scores = cross_val_score(best_gb, x_train5, y_train5, cv=5)\n",
    "# print(\"Cross-validation scores:\", cross_val_scores)\n",
    "# print(\"Average cross-validation score:\", np.mean(cross_val_scores))\n",
    "\n",
    "# Krzywa ROC\n",
    "y_proba_test6 = best_gb.predict_proba(x_test5)[:, 1]\n",
    "fpr, tpr, thresholds = roc_curve(y_test5, y_proba_test6)\n",
    "plt.plot(fpr, tpr)\n",
    "plt.title(\"ROC Curve with AUC = {:.2f}\".format(roc_auc_score(y_test5, y_proba_test6)))\n",
    "plt.show()"
   ]
  },
  {
   "cell_type": "markdown",
   "metadata": {},
   "source": [
    "## KNN"
   ]
  },
  {
   "cell_type": "code",
   "execution_count": 20,
   "metadata": {},
   "outputs": [
    {
     "data": {
      "text/html": [
       "<style>#sk-container-id-1 {color: black;}#sk-container-id-1 pre{padding: 0;}#sk-container-id-1 div.sk-toggleable {background-color: white;}#sk-container-id-1 label.sk-toggleable__label {cursor: pointer;display: block;width: 100%;margin-bottom: 0;padding: 0.3em;box-sizing: border-box;text-align: center;}#sk-container-id-1 label.sk-toggleable__label-arrow:before {content: \"▸\";float: left;margin-right: 0.25em;color: #696969;}#sk-container-id-1 label.sk-toggleable__label-arrow:hover:before {color: black;}#sk-container-id-1 div.sk-estimator:hover label.sk-toggleable__label-arrow:before {color: black;}#sk-container-id-1 div.sk-toggleable__content {max-height: 0;max-width: 0;overflow: hidden;text-align: left;background-color: #f0f8ff;}#sk-container-id-1 div.sk-toggleable__content pre {margin: 0.2em;color: black;border-radius: 0.25em;background-color: #f0f8ff;}#sk-container-id-1 input.sk-toggleable__control:checked~div.sk-toggleable__content {max-height: 200px;max-width: 100%;overflow: auto;}#sk-container-id-1 input.sk-toggleable__control:checked~label.sk-toggleable__label-arrow:before {content: \"▾\";}#sk-container-id-1 div.sk-estimator input.sk-toggleable__control:checked~label.sk-toggleable__label {background-color: #d4ebff;}#sk-container-id-1 div.sk-label input.sk-toggleable__control:checked~label.sk-toggleable__label {background-color: #d4ebff;}#sk-container-id-1 input.sk-hidden--visually {border: 0;clip: rect(1px 1px 1px 1px);clip: rect(1px, 1px, 1px, 1px);height: 1px;margin: -1px;overflow: hidden;padding: 0;position: absolute;width: 1px;}#sk-container-id-1 div.sk-estimator {font-family: monospace;background-color: #f0f8ff;border: 1px dotted black;border-radius: 0.25em;box-sizing: border-box;margin-bottom: 0.5em;}#sk-container-id-1 div.sk-estimator:hover {background-color: #d4ebff;}#sk-container-id-1 div.sk-parallel-item::after {content: \"\";width: 100%;border-bottom: 1px solid gray;flex-grow: 1;}#sk-container-id-1 div.sk-label:hover label.sk-toggleable__label {background-color: #d4ebff;}#sk-container-id-1 div.sk-serial::before {content: \"\";position: absolute;border-left: 1px solid gray;box-sizing: border-box;top: 0;bottom: 0;left: 50%;z-index: 0;}#sk-container-id-1 div.sk-serial {display: flex;flex-direction: column;align-items: center;background-color: white;padding-right: 0.2em;padding-left: 0.2em;position: relative;}#sk-container-id-1 div.sk-item {position: relative;z-index: 1;}#sk-container-id-1 div.sk-parallel {display: flex;align-items: stretch;justify-content: center;background-color: white;position: relative;}#sk-container-id-1 div.sk-item::before, #sk-container-id-1 div.sk-parallel-item::before {content: \"\";position: absolute;border-left: 1px solid gray;box-sizing: border-box;top: 0;bottom: 0;left: 50%;z-index: -1;}#sk-container-id-1 div.sk-parallel-item {display: flex;flex-direction: column;z-index: 1;position: relative;background-color: white;}#sk-container-id-1 div.sk-parallel-item:first-child::after {align-self: flex-end;width: 50%;}#sk-container-id-1 div.sk-parallel-item:last-child::after {align-self: flex-start;width: 50%;}#sk-container-id-1 div.sk-parallel-item:only-child::after {width: 0;}#sk-container-id-1 div.sk-dashed-wrapped {border: 1px dashed gray;margin: 0 0.4em 0.5em 0.4em;box-sizing: border-box;padding-bottom: 0.4em;background-color: white;}#sk-container-id-1 div.sk-label label {font-family: monospace;font-weight: bold;display: inline-block;line-height: 1.2em;}#sk-container-id-1 div.sk-label-container {text-align: center;}#sk-container-id-1 div.sk-container {/* jupyter's `normalize.less` sets `[hidden] { display: none; }` but bootstrap.min.css set `[hidden] { display: none !important; }` so we also need the `!important` here to be able to override the default hidden behavior on the sphinx rendered scikit-learn.org. See: https://github.com/scikit-learn/scikit-learn/issues/21755 */display: inline-block !important;position: relative;}#sk-container-id-1 div.sk-text-repr-fallback {display: none;}</style><div id=\"sk-container-id-1\" class=\"sk-top-container\"><div class=\"sk-text-repr-fallback\"><pre>KNeighborsClassifier()</pre><b>In a Jupyter environment, please rerun this cell to show the HTML representation or trust the notebook. <br />On GitHub, the HTML representation is unable to render, please try loading this page with nbviewer.org.</b></div><div class=\"sk-container\" hidden><div class=\"sk-item\"><div class=\"sk-estimator sk-toggleable\"><input class=\"sk-toggleable__control sk-hidden--visually\" id=\"sk-estimator-id-1\" type=\"checkbox\" checked><label for=\"sk-estimator-id-1\" class=\"sk-toggleable__label sk-toggleable__label-arrow\">KNeighborsClassifier</label><div class=\"sk-toggleable__content\"><pre>KNeighborsClassifier()</pre></div></div></div></div></div>"
      ],
      "text/plain": [
       "KNeighborsClassifier()"
      ]
     },
     "execution_count": 20,
     "metadata": {},
     "output_type": "execute_result"
    }
   ],
   "source": [
    "knn = KNeighborsClassifier()\n",
    "knn.fit(x_train5, y_train5)\n"
   ]
  },
  {
   "cell_type": "code",
   "execution_count": 21,
   "metadata": {},
   "outputs": [],
   "source": [
    "grid_cv = GridSearchCV(KNeighborsClassifier(), \n",
    "                       param_grid={\n",
    "                           \"n_neighbors\": range(1, 50)\n",
    "                       }, cv=5, scoring=\"f1\", \n",
    "                       verbose=1, n_jobs=6)\n"
   ]
  },
  {
   "cell_type": "code",
   "execution_count": 22,
   "metadata": {},
   "outputs": [
    {
     "name": "stdout",
     "output_type": "stream",
     "text": [
      "Fitting 5 folds for each of 49 candidates, totalling 245 fits\n"
     ]
    },
    {
     "data": {
      "text/html": [
       "<style>#sk-container-id-2 {color: black;}#sk-container-id-2 pre{padding: 0;}#sk-container-id-2 div.sk-toggleable {background-color: white;}#sk-container-id-2 label.sk-toggleable__label {cursor: pointer;display: block;width: 100%;margin-bottom: 0;padding: 0.3em;box-sizing: border-box;text-align: center;}#sk-container-id-2 label.sk-toggleable__label-arrow:before {content: \"▸\";float: left;margin-right: 0.25em;color: #696969;}#sk-container-id-2 label.sk-toggleable__label-arrow:hover:before {color: black;}#sk-container-id-2 div.sk-estimator:hover label.sk-toggleable__label-arrow:before {color: black;}#sk-container-id-2 div.sk-toggleable__content {max-height: 0;max-width: 0;overflow: hidden;text-align: left;background-color: #f0f8ff;}#sk-container-id-2 div.sk-toggleable__content pre {margin: 0.2em;color: black;border-radius: 0.25em;background-color: #f0f8ff;}#sk-container-id-2 input.sk-toggleable__control:checked~div.sk-toggleable__content {max-height: 200px;max-width: 100%;overflow: auto;}#sk-container-id-2 input.sk-toggleable__control:checked~label.sk-toggleable__label-arrow:before {content: \"▾\";}#sk-container-id-2 div.sk-estimator input.sk-toggleable__control:checked~label.sk-toggleable__label {background-color: #d4ebff;}#sk-container-id-2 div.sk-label input.sk-toggleable__control:checked~label.sk-toggleable__label {background-color: #d4ebff;}#sk-container-id-2 input.sk-hidden--visually {border: 0;clip: rect(1px 1px 1px 1px);clip: rect(1px, 1px, 1px, 1px);height: 1px;margin: -1px;overflow: hidden;padding: 0;position: absolute;width: 1px;}#sk-container-id-2 div.sk-estimator {font-family: monospace;background-color: #f0f8ff;border: 1px dotted black;border-radius: 0.25em;box-sizing: border-box;margin-bottom: 0.5em;}#sk-container-id-2 div.sk-estimator:hover {background-color: #d4ebff;}#sk-container-id-2 div.sk-parallel-item::after {content: \"\";width: 100%;border-bottom: 1px solid gray;flex-grow: 1;}#sk-container-id-2 div.sk-label:hover label.sk-toggleable__label {background-color: #d4ebff;}#sk-container-id-2 div.sk-serial::before {content: \"\";position: absolute;border-left: 1px solid gray;box-sizing: border-box;top: 0;bottom: 0;left: 50%;z-index: 0;}#sk-container-id-2 div.sk-serial {display: flex;flex-direction: column;align-items: center;background-color: white;padding-right: 0.2em;padding-left: 0.2em;position: relative;}#sk-container-id-2 div.sk-item {position: relative;z-index: 1;}#sk-container-id-2 div.sk-parallel {display: flex;align-items: stretch;justify-content: center;background-color: white;position: relative;}#sk-container-id-2 div.sk-item::before, #sk-container-id-2 div.sk-parallel-item::before {content: \"\";position: absolute;border-left: 1px solid gray;box-sizing: border-box;top: 0;bottom: 0;left: 50%;z-index: -1;}#sk-container-id-2 div.sk-parallel-item {display: flex;flex-direction: column;z-index: 1;position: relative;background-color: white;}#sk-container-id-2 div.sk-parallel-item:first-child::after {align-self: flex-end;width: 50%;}#sk-container-id-2 div.sk-parallel-item:last-child::after {align-self: flex-start;width: 50%;}#sk-container-id-2 div.sk-parallel-item:only-child::after {width: 0;}#sk-container-id-2 div.sk-dashed-wrapped {border: 1px dashed gray;margin: 0 0.4em 0.5em 0.4em;box-sizing: border-box;padding-bottom: 0.4em;background-color: white;}#sk-container-id-2 div.sk-label label {font-family: monospace;font-weight: bold;display: inline-block;line-height: 1.2em;}#sk-container-id-2 div.sk-label-container {text-align: center;}#sk-container-id-2 div.sk-container {/* jupyter's `normalize.less` sets `[hidden] { display: none; }` but bootstrap.min.css set `[hidden] { display: none !important; }` so we also need the `!important` here to be able to override the default hidden behavior on the sphinx rendered scikit-learn.org. See: https://github.com/scikit-learn/scikit-learn/issues/21755 */display: inline-block !important;position: relative;}#sk-container-id-2 div.sk-text-repr-fallback {display: none;}</style><div id=\"sk-container-id-2\" class=\"sk-top-container\"><div class=\"sk-text-repr-fallback\"><pre>GridSearchCV(cv=5, estimator=KNeighborsClassifier(), n_jobs=6,\n",
       "             param_grid={&#x27;n_neighbors&#x27;: range(1, 50)}, scoring=&#x27;f1&#x27;, verbose=1)</pre><b>In a Jupyter environment, please rerun this cell to show the HTML representation or trust the notebook. <br />On GitHub, the HTML representation is unable to render, please try loading this page with nbviewer.org.</b></div><div class=\"sk-container\" hidden><div class=\"sk-item sk-dashed-wrapped\"><div class=\"sk-label-container\"><div class=\"sk-label sk-toggleable\"><input class=\"sk-toggleable__control sk-hidden--visually\" id=\"sk-estimator-id-2\" type=\"checkbox\" ><label for=\"sk-estimator-id-2\" class=\"sk-toggleable__label sk-toggleable__label-arrow\">GridSearchCV</label><div class=\"sk-toggleable__content\"><pre>GridSearchCV(cv=5, estimator=KNeighborsClassifier(), n_jobs=6,\n",
       "             param_grid={&#x27;n_neighbors&#x27;: range(1, 50)}, scoring=&#x27;f1&#x27;, verbose=1)</pre></div></div></div><div class=\"sk-parallel\"><div class=\"sk-parallel-item\"><div class=\"sk-item\"><div class=\"sk-label-container\"><div class=\"sk-label sk-toggleable\"><input class=\"sk-toggleable__control sk-hidden--visually\" id=\"sk-estimator-id-3\" type=\"checkbox\" ><label for=\"sk-estimator-id-3\" class=\"sk-toggleable__label sk-toggleable__label-arrow\">estimator: KNeighborsClassifier</label><div class=\"sk-toggleable__content\"><pre>KNeighborsClassifier()</pre></div></div></div><div class=\"sk-serial\"><div class=\"sk-item\"><div class=\"sk-estimator sk-toggleable\"><input class=\"sk-toggleable__control sk-hidden--visually\" id=\"sk-estimator-id-4\" type=\"checkbox\" ><label for=\"sk-estimator-id-4\" class=\"sk-toggleable__label sk-toggleable__label-arrow\">KNeighborsClassifier</label><div class=\"sk-toggleable__content\"><pre>KNeighborsClassifier()</pre></div></div></div></div></div></div></div></div></div></div>"
      ],
      "text/plain": [
       "GridSearchCV(cv=5, estimator=KNeighborsClassifier(), n_jobs=6,\n",
       "             param_grid={'n_neighbors': range(1, 50)}, scoring='f1', verbose=1)"
      ]
     },
     "execution_count": 22,
     "metadata": {},
     "output_type": "execute_result"
    }
   ],
   "source": [
    "grid_cv.fit(x_train5, \n",
    "            y_train5)"
   ]
  },
  {
   "cell_type": "code",
   "execution_count": 23,
   "metadata": {},
   "outputs": [
    {
     "data": {
      "text/plain": [
       "0.6368103929493428"
      ]
     },
     "execution_count": 23,
     "metadata": {},
     "output_type": "execute_result"
    }
   ],
   "source": [
    "grid_cv.best_score_\n"
   ]
  },
  {
   "cell_type": "code",
   "execution_count": 24,
   "metadata": {},
   "outputs": [
    {
     "data": {
      "text/html": [
       "<style>#sk-container-id-3 {color: black;}#sk-container-id-3 pre{padding: 0;}#sk-container-id-3 div.sk-toggleable {background-color: white;}#sk-container-id-3 label.sk-toggleable__label {cursor: pointer;display: block;width: 100%;margin-bottom: 0;padding: 0.3em;box-sizing: border-box;text-align: center;}#sk-container-id-3 label.sk-toggleable__label-arrow:before {content: \"▸\";float: left;margin-right: 0.25em;color: #696969;}#sk-container-id-3 label.sk-toggleable__label-arrow:hover:before {color: black;}#sk-container-id-3 div.sk-estimator:hover label.sk-toggleable__label-arrow:before {color: black;}#sk-container-id-3 div.sk-toggleable__content {max-height: 0;max-width: 0;overflow: hidden;text-align: left;background-color: #f0f8ff;}#sk-container-id-3 div.sk-toggleable__content pre {margin: 0.2em;color: black;border-radius: 0.25em;background-color: #f0f8ff;}#sk-container-id-3 input.sk-toggleable__control:checked~div.sk-toggleable__content {max-height: 200px;max-width: 100%;overflow: auto;}#sk-container-id-3 input.sk-toggleable__control:checked~label.sk-toggleable__label-arrow:before {content: \"▾\";}#sk-container-id-3 div.sk-estimator input.sk-toggleable__control:checked~label.sk-toggleable__label {background-color: #d4ebff;}#sk-container-id-3 div.sk-label input.sk-toggleable__control:checked~label.sk-toggleable__label {background-color: #d4ebff;}#sk-container-id-3 input.sk-hidden--visually {border: 0;clip: rect(1px 1px 1px 1px);clip: rect(1px, 1px, 1px, 1px);height: 1px;margin: -1px;overflow: hidden;padding: 0;position: absolute;width: 1px;}#sk-container-id-3 div.sk-estimator {font-family: monospace;background-color: #f0f8ff;border: 1px dotted black;border-radius: 0.25em;box-sizing: border-box;margin-bottom: 0.5em;}#sk-container-id-3 div.sk-estimator:hover {background-color: #d4ebff;}#sk-container-id-3 div.sk-parallel-item::after {content: \"\";width: 100%;border-bottom: 1px solid gray;flex-grow: 1;}#sk-container-id-3 div.sk-label:hover label.sk-toggleable__label {background-color: #d4ebff;}#sk-container-id-3 div.sk-serial::before {content: \"\";position: absolute;border-left: 1px solid gray;box-sizing: border-box;top: 0;bottom: 0;left: 50%;z-index: 0;}#sk-container-id-3 div.sk-serial {display: flex;flex-direction: column;align-items: center;background-color: white;padding-right: 0.2em;padding-left: 0.2em;position: relative;}#sk-container-id-3 div.sk-item {position: relative;z-index: 1;}#sk-container-id-3 div.sk-parallel {display: flex;align-items: stretch;justify-content: center;background-color: white;position: relative;}#sk-container-id-3 div.sk-item::before, #sk-container-id-3 div.sk-parallel-item::before {content: \"\";position: absolute;border-left: 1px solid gray;box-sizing: border-box;top: 0;bottom: 0;left: 50%;z-index: -1;}#sk-container-id-3 div.sk-parallel-item {display: flex;flex-direction: column;z-index: 1;position: relative;background-color: white;}#sk-container-id-3 div.sk-parallel-item:first-child::after {align-self: flex-end;width: 50%;}#sk-container-id-3 div.sk-parallel-item:last-child::after {align-self: flex-start;width: 50%;}#sk-container-id-3 div.sk-parallel-item:only-child::after {width: 0;}#sk-container-id-3 div.sk-dashed-wrapped {border: 1px dashed gray;margin: 0 0.4em 0.5em 0.4em;box-sizing: border-box;padding-bottom: 0.4em;background-color: white;}#sk-container-id-3 div.sk-label label {font-family: monospace;font-weight: bold;display: inline-block;line-height: 1.2em;}#sk-container-id-3 div.sk-label-container {text-align: center;}#sk-container-id-3 div.sk-container {/* jupyter's `normalize.less` sets `[hidden] { display: none; }` but bootstrap.min.css set `[hidden] { display: none !important; }` so we also need the `!important` here to be able to override the default hidden behavior on the sphinx rendered scikit-learn.org. See: https://github.com/scikit-learn/scikit-learn/issues/21755 */display: inline-block !important;position: relative;}#sk-container-id-3 div.sk-text-repr-fallback {display: none;}</style><div id=\"sk-container-id-3\" class=\"sk-top-container\"><div class=\"sk-text-repr-fallback\"><pre>KNeighborsClassifier(n_neighbors=29)</pre><b>In a Jupyter environment, please rerun this cell to show the HTML representation or trust the notebook. <br />On GitHub, the HTML representation is unable to render, please try loading this page with nbviewer.org.</b></div><div class=\"sk-container\" hidden><div class=\"sk-item\"><div class=\"sk-estimator sk-toggleable\"><input class=\"sk-toggleable__control sk-hidden--visually\" id=\"sk-estimator-id-5\" type=\"checkbox\" checked><label for=\"sk-estimator-id-5\" class=\"sk-toggleable__label sk-toggleable__label-arrow\">KNeighborsClassifier</label><div class=\"sk-toggleable__content\"><pre>KNeighborsClassifier(n_neighbors=29)</pre></div></div></div></div></div>"
      ],
      "text/plain": [
       "KNeighborsClassifier(n_neighbors=29)"
      ]
     },
     "execution_count": 24,
     "metadata": {},
     "output_type": "execute_result"
    }
   ],
   "source": [
    "knn = grid_cv.best_estimator_\n",
    "knn"
   ]
  },
  {
   "cell_type": "code",
   "execution_count": 25,
   "metadata": {},
   "outputs": [
    {
     "name": "stdout",
     "output_type": "stream",
     "text": [
      "XGBClassifier Accuracy:  0.6963868919802073\n"
     ]
    }
   ],
   "source": [
    "ypred_train7 = grid_cv.predict(x_train5)\n",
    "y_pred_test7 = grid_cv.predict(x_test5)\n",
    "print(\"XGBClassifier Accuracy: \",accuracy_score(y_test5, y_pred_test7))"
   ]
  },
  {
   "cell_type": "code",
   "execution_count": 26,
   "metadata": {},
   "outputs": [
    {
     "name": "stdout",
     "output_type": "stream",
     "text": [
      "Training Results\n",
      "\n",
      "              precision    recall  f1-score   support\n",
      "\n",
      "         0.0       0.66      0.86      0.75     16021\n",
      "         1.0       0.80      0.56      0.66     16110\n",
      "\n",
      "    accuracy                           0.71     32131\n",
      "   macro avg       0.73      0.71      0.71     32131\n",
      "weighted avg       0.73      0.71      0.71     32131\n",
      "\n"
     ]
    }
   ],
   "source": [
    "print(\"Training Results\\n\")\n",
    "print(classification_report(y_train5, ypred_train7))"
   ]
  },
  {
   "cell_type": "code",
   "execution_count": 27,
   "metadata": {},
   "outputs": [
    {
     "name": "stdout",
     "output_type": "stream",
     "text": [
      "Training Results\n",
      "\n",
      "              precision    recall  f1-score   support\n",
      "\n",
      "         0.0       0.65      0.85      0.74      5400\n",
      "         1.0       0.78      0.54      0.64      5311\n",
      "\n",
      "    accuracy                           0.70     10711\n",
      "   macro avg       0.72      0.70      0.69     10711\n",
      "weighted avg       0.72      0.70      0.69     10711\n",
      "\n"
     ]
    }
   ],
   "source": [
    "print(\"Training Results\\n\")\n",
    "print(classification_report(y_test5, y_pred_test7))"
   ]
  },
  {
   "cell_type": "code",
   "execution_count": 28,
   "metadata": {},
   "outputs": [
    {
     "data": {
      "image/png": "[encoded data removed]",
      "text/plain": [
       "<Figure size 640x480 with 1 Axes>"
      ]
     },
     "metadata": {},
     "output_type": "display_data"
    }
   ],
   "source": [
    "# cross_val_scores = cross_val_score(grid_cv, x_train5, y_train5, cv=5)\n",
    "# print(\"Cross-validation scores:\", cross_val_scores)\n",
    "# print(\"Average cross-validation score:\", np.mean(cross_val_scores))\n",
    "\n",
    "y_proba_test = grid_cv.predict_proba(x_test5)[:, 1]\n",
    "\n",
    "fpr, tpr, thresholds = roc_curve(y_test5, y_proba_test)\n",
    "\n",
    "plt.plot(fpr, tpr, label='ROC Curve')\n",
    "plt.xlabel('False Positive Rate')\n",
    "plt.ylabel('True Positive Rate')\n",
    "plt.title('ROC Curve with AUC = {:.2f}'.format(roc_auc_score(y_test5, y_proba_test)))\n",
    "plt.legend(loc='lower right')\n",
    "plt.grid(True)\n",
    "plt.show()"
   ]
  },
  {
   "cell_type": "markdown",
   "metadata": {},
   "source": [
    "## SIECI NEURONOWE"
   ]
  },
  {
   "cell_type": "markdown",
   "metadata": {},
   "source": [
    "## ANN"
   ]
  },
  {
   "cell_type": "code",
   "execution_count": 29,
   "metadata": {},
   "outputs": [
    {
     "name": "stdout",
     "output_type": "stream",
     "text": [
      "WARNING:tensorflow:From C:\\Users\\DELL\\AppData\\Roaming\\Python\\Python311\\site-packages\\keras\\src\\backend.py:873: The name tf.get_default_graph is deprecated. Please use tf.compat.v1.get_default_graph instead.\n",
      "\n"
     ]
    }
   ],
   "source": [
    "ann = tf.keras.models.Sequential()"
   ]
  },
  {
   "cell_type": "code",
   "execution_count": 30,
   "metadata": {},
   "outputs": [],
   "source": [
    "early_stop = EarlyStopping(monitor='val_loss', mode='min', verbose=1, patience=25)\n"
   ]
  },
  {
   "cell_type": "code",
   "execution_count": 31,
   "metadata": {},
   "outputs": [],
   "source": [
    "ann.add(tf.keras.layers.Dense(units=14, activation='relu'))"
   ]
  },
  {
   "cell_type": "code",
   "execution_count": 32,
   "metadata": {},
   "outputs": [],
   "source": [
    "ann.add(tf.keras.layers.Dense(units=6, activation='relu'))"
   ]
  },
  {
   "cell_type": "code",
   "execution_count": 33,
   "metadata": {},
   "outputs": [],
   "source": [
    "ann.add(tf.keras.layers.Dense(units=1, activation='sigmoid'))"
   ]
  },
  {
   "cell_type": "code",
   "execution_count": 34,
   "metadata": {},
   "outputs": [
    {
     "name": "stdout",
     "output_type": "stream",
     "text": [
      "WARNING:tensorflow:From C:\\Users\\DELL\\AppData\\Roaming\\Python\\Python311\\site-packages\\keras\\src\\optimizers\\__init__.py:309: The name tf.train.Optimizer is deprecated. Please use tf.compat.v1.train.Optimizer instead.\n",
      "\n"
     ]
    }
   ],
   "source": [
    "ann.compile(optimizer = 'adam', loss = 'binary_crossentropy', metrics = ['accuracy'])"
   ]
  },
  {
   "cell_type": "code",
   "execution_count": 35,
   "metadata": {},
   "outputs": [
    {
     "name": "stdout",
     "output_type": "stream",
     "text": [
      "Epoch 1/100\n",
      "WARNING:tensorflow:From C:\\Users\\DELL\\AppData\\Roaming\\Python\\Python311\\site-packages\\keras\\src\\utils\\tf_utils.py:492: The name tf.ragged.RaggedTensorValue is deprecated. Please use tf.compat.v1.ragged.RaggedTensorValue instead.\n",
      "\n",
      "WARNING:tensorflow:From C:\\Users\\DELL\\AppData\\Roaming\\Python\\Python311\\site-packages\\keras\\src\\engine\\base_layer_utils.py:384: The name tf.executing_eagerly_outside_functions is deprecated. Please use tf.compat.v1.executing_eagerly_outside_functions instead.\n",
      "\n",
      "1005/1005 [==============================] - 4s 3ms/step - loss: 0.6306 - accuracy: 0.6433 - val_loss: 0.5864 - val_accuracy: 0.7117\n",
      "Epoch 2/100\n",
      "1005/1005 [==============================] - 3s 3ms/step - loss: 0.5797 - accuracy: 0.7126 - val_loss: 0.5690 - val_accuracy: 0.7243\n",
      "Epoch 3/100\n",
      "1005/1005 [==============================] - 3s 3ms/step - loss: 0.5622 - accuracy: 0.7267 - val_loss: 0.5500 - val_accuracy: 0.7315\n",
      "Epoch 4/100\n",
      "1005/1005 [==============================] - 3s 3ms/step - loss: 0.5458 - accuracy: 0.7318 - val_loss: 0.5346 - val_accuracy: 0.7383\n",
      "Epoch 5/100\n",
      "1005/1005 [==============================] - 2s 2ms/step - loss: 0.5340 - accuracy: 0.7381 - val_loss: 0.5280 - val_accuracy: 0.7420\n",
      "Epoch 6/100\n",
      "1005/1005 [==============================] - 2s 2ms/step - loss: 0.5297 - accuracy: 0.7389 - val_loss: 0.5247 - val_accuracy: 0.7409\n",
      "Epoch 7/100\n",
      "1005/1005 [==============================] - 2s 2ms/step - loss: 0.5258 - accuracy: 0.7416 - val_loss: 0.5230 - val_accuracy: 0.7423\n",
      "Epoch 8/100\n",
      "1005/1005 [==============================] - 2s 2ms/step - loss: 0.5233 - accuracy: 0.7403 - val_loss: 0.5155 - val_accuracy: 0.7429\n",
      "Epoch 9/100\n",
      "1005/1005 [==============================] - 2s 2ms/step - loss: 0.5207 - accuracy: 0.7428 - val_loss: 0.5130 - val_accuracy: 0.7475\n",
      "Epoch 10/100\n",
      "1005/1005 [==============================] - 2s 2ms/step - loss: 0.5189 - accuracy: 0.7439 - val_loss: 0.5096 - val_accuracy: 0.7461\n",
      "Epoch 11/100\n",
      "1005/1005 [==============================] - 2s 2ms/step - loss: 0.5165 - accuracy: 0.7431 - val_loss: 0.5073 - val_accuracy: 0.7477\n",
      "Epoch 12/100\n",
      "1005/1005 [==============================] - 2s 2ms/step - loss: 0.5146 - accuracy: 0.7418 - val_loss: 0.5061 - val_accuracy: 0.7474\n",
      "Epoch 13/100\n",
      "1005/1005 [==============================] - 2s 2ms/step - loss: 0.5133 - accuracy: 0.7438 - val_loss: 0.5028 - val_accuracy: 0.7523\n",
      "Epoch 14/100\n",
      "1005/1005 [==============================] - 2s 2ms/step - loss: 0.5118 - accuracy: 0.7453 - val_loss: 0.5006 - val_accuracy: 0.7531\n",
      "Epoch 15/100\n",
      "1005/1005 [==============================] - 2s 2ms/step - loss: 0.5102 - accuracy: 0.7460 - val_loss: 0.4999 - val_accuracy: 0.7517\n",
      "Epoch 16/100\n",
      "1005/1005 [==============================] - 2s 2ms/step - loss: 0.5089 - accuracy: 0.7478 - val_loss: 0.4986 - val_accuracy: 0.7521\n",
      "Epoch 17/100\n",
      "1005/1005 [==============================] - 2s 2ms/step - loss: 0.5075 - accuracy: 0.7492 - val_loss: 0.5008 - val_accuracy: 0.7518\n",
      "Epoch 18/100\n",
      "1005/1005 [==============================] - 2s 2ms/step - loss: 0.5066 - accuracy: 0.7470 - val_loss: 0.4977 - val_accuracy: 0.7511\n",
      "Epoch 19/100\n",
      "1005/1005 [==============================] - 2s 2ms/step - loss: 0.5051 - accuracy: 0.7494 - val_loss: 0.4934 - val_accuracy: 0.7588\n",
      "Epoch 20/100\n",
      "1005/1005 [==============================] - 2s 2ms/step - loss: 0.5042 - accuracy: 0.7489 - val_loss: 0.4934 - val_accuracy: 0.7575\n",
      "Epoch 21/100\n",
      "1005/1005 [==============================] - 2s 2ms/step - loss: 0.5028 - accuracy: 0.7501 - val_loss: 0.4923 - val_accuracy: 0.7574\n",
      "Epoch 22/100\n",
      "1005/1005 [==============================] - 2s 2ms/step - loss: 0.5009 - accuracy: 0.7527 - val_loss: 0.4910 - val_accuracy: 0.7563\n",
      "Epoch 23/100\n",
      "1005/1005 [==============================] - 2s 2ms/step - loss: 0.5005 - accuracy: 0.7511 - val_loss: 0.4942 - val_accuracy: 0.7519\n",
      "Epoch 24/100\n",
      "1005/1005 [==============================] - 2s 2ms/step - loss: 0.4994 - accuracy: 0.7504 - val_loss: 0.4897 - val_accuracy: 0.7551\n",
      "Epoch 25/100\n",
      "1005/1005 [==============================] - 2s 2ms/step - loss: 0.4979 - accuracy: 0.7497 - val_loss: 0.4893 - val_accuracy: 0.7578\n",
      "Epoch 26/100\n",
      "1005/1005 [==============================] - 2s 2ms/step - loss: 0.4976 - accuracy: 0.7505 - val_loss: 0.4888 - val_accuracy: 0.7588\n",
      "Epoch 27/100\n",
      "1005/1005 [==============================] - 2s 2ms/step - loss: 0.4970 - accuracy: 0.7523 - val_loss: 0.4884 - val_accuracy: 0.7573\n",
      "Epoch 28/100\n",
      "1005/1005 [==============================] - 2s 2ms/step - loss: 0.4961 - accuracy: 0.7526 - val_loss: 0.4889 - val_accuracy: 0.7591\n",
      "Epoch 29/100\n",
      "1005/1005 [==============================] - 2s 2ms/step - loss: 0.4946 - accuracy: 0.7508 - val_loss: 0.4884 - val_accuracy: 0.7542\n",
      "Epoch 30/100\n",
      "1005/1005 [==============================] - 2s 2ms/step - loss: 0.4949 - accuracy: 0.7525 - val_loss: 0.4863 - val_accuracy: 0.7580\n",
      "Epoch 31/100\n",
      "1005/1005 [==============================] - 2s 2ms/step - loss: 0.4939 - accuracy: 0.7531 - val_loss: 0.4857 - val_accuracy: 0.7596\n",
      "Epoch 32/100\n",
      "1005/1005 [==============================] - 2s 2ms/step - loss: 0.4932 - accuracy: 0.7522 - val_loss: 0.5016 - val_accuracy: 0.7416\n",
      "Epoch 33/100\n",
      "1005/1005 [==============================] - 2s 2ms/step - loss: 0.4924 - accuracy: 0.7547 - val_loss: 0.4848 - val_accuracy: 0.7594\n",
      "Epoch 34/100\n",
      "1005/1005 [==============================] - 2s 2ms/step - loss: 0.4921 - accuracy: 0.7542 - val_loss: 0.4848 - val_accuracy: 0.7595\n",
      "Epoch 35/100\n",
      "1005/1005 [==============================] - 2s 2ms/step - loss: 0.4911 - accuracy: 0.7558 - val_loss: 0.4863 - val_accuracy: 0.7613\n",
      "Epoch 36/100\n",
      "1005/1005 [==============================] - 2s 2ms/step - loss: 0.4903 - accuracy: 0.7549 - val_loss: 0.4850 - val_accuracy: 0.7587\n",
      "Epoch 37/100\n",
      "1005/1005 [==============================] - 2s 2ms/step - loss: 0.4905 - accuracy: 0.7545 - val_loss: 0.4850 - val_accuracy: 0.7593\n",
      "Epoch 38/100\n",
      "1005/1005 [==============================] - 2s 2ms/step - loss: 0.4897 - accuracy: 0.7546 - val_loss: 0.4845 - val_accuracy: 0.7561\n",
      "Epoch 39/100\n",
      "1005/1005 [==============================] - 2s 2ms/step - loss: 0.4892 - accuracy: 0.7558 - val_loss: 0.4842 - val_accuracy: 0.7608\n",
      "Epoch 40/100\n",
      "1005/1005 [==============================] - 2s 2ms/step - loss: 0.4886 - accuracy: 0.7563 - val_loss: 0.4845 - val_accuracy: 0.7569\n",
      "Epoch 41/100\n",
      "1005/1005 [==============================] - 2s 2ms/step - loss: 0.4879 - accuracy: 0.7553 - val_loss: 0.4829 - val_accuracy: 0.7611\n",
      "Epoch 42/100\n",
      "1005/1005 [==============================] - 2s 2ms/step - loss: 0.4874 - accuracy: 0.7564 - val_loss: 0.4848 - val_accuracy: 0.7612\n",
      "Epoch 43/100\n",
      "1005/1005 [==============================] - 2s 2ms/step - loss: 0.4868 - accuracy: 0.7578 - val_loss: 0.4882 - val_accuracy: 0.7579\n",
      "Epoch 44/100\n",
      "1005/1005 [==============================] - 2s 2ms/step - loss: 0.4872 - accuracy: 0.7571 - val_loss: 0.4833 - val_accuracy: 0.7597\n",
      "Epoch 45/100\n",
      "1005/1005 [==============================] - 2s 2ms/step - loss: 0.4866 - accuracy: 0.7557 - val_loss: 0.4827 - val_accuracy: 0.7606\n",
      "Epoch 46/100\n",
      "1005/1005 [==============================] - 2s 2ms/step - loss: 0.4865 - accuracy: 0.7558 - val_loss: 0.4848 - val_accuracy: 0.7562\n",
      "Epoch 47/100\n",
      "1005/1005 [==============================] - 2s 2ms/step - loss: 0.4863 - accuracy: 0.7557 - val_loss: 0.4815 - val_accuracy: 0.7626\n",
      "Epoch 48/100\n",
      "1005/1005 [==============================] - 2s 2ms/step - loss: 0.4854 - accuracy: 0.7566 - val_loss: 0.4809 - val_accuracy: 0.7641\n",
      "Epoch 49/100\n",
      "1005/1005 [==============================] - 2s 2ms/step - loss: 0.4853 - accuracy: 0.7581 - val_loss: 0.4813 - val_accuracy: 0.7638\n",
      "Epoch 50/100\n",
      "1005/1005 [==============================] - 2s 2ms/step - loss: 0.4849 - accuracy: 0.7572 - val_loss: 0.4812 - val_accuracy: 0.7637\n",
      "Epoch 51/100\n",
      "1005/1005 [==============================] - 2s 2ms/step - loss: 0.4850 - accuracy: 0.7591 - val_loss: 0.4820 - val_accuracy: 0.7615\n",
      "Epoch 52/100\n",
      "1005/1005 [==============================] - 2s 2ms/step - loss: 0.4844 - accuracy: 0.7569 - val_loss: 0.4821 - val_accuracy: 0.7620\n",
      "Epoch 53/100\n",
      "1005/1005 [==============================] - 2s 2ms/step - loss: 0.4846 - accuracy: 0.7569 - val_loss: 0.4811 - val_accuracy: 0.7601\n",
      "Epoch 54/100\n",
      "1005/1005 [==============================] - 2s 2ms/step - loss: 0.4845 - accuracy: 0.7575 - val_loss: 0.4820 - val_accuracy: 0.7616\n",
      "Epoch 55/100\n",
      "1005/1005 [==============================] - 2s 2ms/step - loss: 0.4841 - accuracy: 0.7556 - val_loss: 0.4798 - val_accuracy: 0.7661\n",
      "Epoch 56/100\n",
      "1005/1005 [==============================] - 2s 2ms/step - loss: 0.4837 - accuracy: 0.7576 - val_loss: 0.4866 - val_accuracy: 0.7574\n",
      "Epoch 57/100\n",
      "1005/1005 [==============================] - 3s 3ms/step - loss: 0.4838 - accuracy: 0.7567 - val_loss: 0.4878 - val_accuracy: 0.7512\n",
      "Epoch 58/100\n",
      "1005/1005 [==============================] - 2s 2ms/step - loss: 0.4831 - accuracy: 0.7583 - val_loss: 0.4820 - val_accuracy: 0.7614\n",
      "Epoch 59/100\n",
      "1005/1005 [==============================] - 2s 2ms/step - loss: 0.4834 - accuracy: 0.7579 - val_loss: 0.4803 - val_accuracy: 0.7602\n",
      "Epoch 60/100\n",
      "1005/1005 [==============================] - 2s 2ms/step - loss: 0.4833 - accuracy: 0.7576 - val_loss: 0.4822 - val_accuracy: 0.7629\n",
      "Epoch 61/100\n",
      "1005/1005 [==============================] - 2s 2ms/step - loss: 0.4825 - accuracy: 0.7591 - val_loss: 0.4792 - val_accuracy: 0.7648\n",
      "Epoch 62/100\n",
      "1005/1005 [==============================] - 2s 2ms/step - loss: 0.4822 - accuracy: 0.7582 - val_loss: 0.4819 - val_accuracy: 0.7610\n",
      "Epoch 63/100\n",
      "1005/1005 [==============================] - 2s 2ms/step - loss: 0.4830 - accuracy: 0.7584 - val_loss: 0.4801 - val_accuracy: 0.7623\n",
      "Epoch 64/100\n",
      "1005/1005 [==============================] - 2s 2ms/step - loss: 0.4829 - accuracy: 0.7577 - val_loss: 0.4793 - val_accuracy: 0.7619\n",
      "Epoch 65/100\n",
      "1005/1005 [==============================] - 2s 2ms/step - loss: 0.4820 - accuracy: 0.7595 - val_loss: 0.4820 - val_accuracy: 0.7571\n",
      "Epoch 66/100\n",
      "1005/1005 [==============================] - 2s 2ms/step - loss: 0.4814 - accuracy: 0.7585 - val_loss: 0.4784 - val_accuracy: 0.7619\n",
      "Epoch 67/100\n",
      "1005/1005 [==============================] - 2s 2ms/step - loss: 0.4812 - accuracy: 0.7588 - val_loss: 0.4793 - val_accuracy: 0.7608\n",
      "Epoch 68/100\n",
      "1005/1005 [==============================] - 2s 2ms/step - loss: 0.4818 - accuracy: 0.7591 - val_loss: 0.4839 - val_accuracy: 0.7581\n",
      "Epoch 69/100\n",
      "1005/1005 [==============================] - 2s 2ms/step - loss: 0.4816 - accuracy: 0.7592 - val_loss: 0.4819 - val_accuracy: 0.7621\n",
      "Epoch 70/100\n",
      "1005/1005 [==============================] - 2s 2ms/step - loss: 0.4810 - accuracy: 0.7607 - val_loss: 0.4805 - val_accuracy: 0.7620\n",
      "Epoch 71/100\n",
      "1005/1005 [==============================] - 2s 2ms/step - loss: 0.4812 - accuracy: 0.7600 - val_loss: 0.4791 - val_accuracy: 0.7620\n",
      "Epoch 72/100\n",
      "1005/1005 [==============================] - 2s 2ms/step - loss: 0.4807 - accuracy: 0.7605 - val_loss: 0.4783 - val_accuracy: 0.7629\n",
      "Epoch 73/100\n",
      "1005/1005 [==============================] - 2s 2ms/step - loss: 0.4805 - accuracy: 0.7607 - val_loss: 0.4770 - val_accuracy: 0.7644\n",
      "Epoch 74/100\n",
      "1005/1005 [==============================] - 2s 2ms/step - loss: 0.4803 - accuracy: 0.7601 - val_loss: 0.4810 - val_accuracy: 0.7565\n",
      "Epoch 75/100\n",
      "1005/1005 [==============================] - 2s 2ms/step - loss: 0.4799 - accuracy: 0.7597 - val_loss: 0.4781 - val_accuracy: 0.7642\n",
      "Epoch 76/100\n",
      "1005/1005 [==============================] - 2s 2ms/step - loss: 0.4804 - accuracy: 0.7618 - val_loss: 0.4792 - val_accuracy: 0.7637\n",
      "Epoch 77/100\n",
      "1005/1005 [==============================] - 2s 2ms/step - loss: 0.4796 - accuracy: 0.7609 - val_loss: 0.4806 - val_accuracy: 0.7642\n",
      "Epoch 78/100\n",
      "1005/1005 [==============================] - 2s 2ms/step - loss: 0.4795 - accuracy: 0.7584 - val_loss: 0.4770 - val_accuracy: 0.7651\n",
      "Epoch 79/100\n",
      "1005/1005 [==============================] - 2s 2ms/step - loss: 0.4791 - accuracy: 0.7609 - val_loss: 0.4783 - val_accuracy: 0.7641\n",
      "Epoch 80/100\n",
      "1005/1005 [==============================] - 2s 2ms/step - loss: 0.4794 - accuracy: 0.7607 - val_loss: 0.4786 - val_accuracy: 0.7644\n",
      "Epoch 81/100\n",
      "1005/1005 [==============================] - 2s 2ms/step - loss: 0.4790 - accuracy: 0.7601 - val_loss: 0.4808 - val_accuracy: 0.7625\n",
      "Epoch 82/100\n",
      "1005/1005 [==============================] - 2s 2ms/step - loss: 0.4782 - accuracy: 0.7621 - val_loss: 0.4768 - val_accuracy: 0.7682\n",
      "Epoch 83/100\n",
      "1005/1005 [==============================] - 2s 2ms/step - loss: 0.4776 - accuracy: 0.7619 - val_loss: 0.4770 - val_accuracy: 0.7659\n",
      "Epoch 84/100\n",
      "1005/1005 [==============================] - 2s 2ms/step - loss: 0.4784 - accuracy: 0.7621 - val_loss: 0.4762 - val_accuracy: 0.7643\n",
      "Epoch 85/100\n",
      "1005/1005 [==============================] - 2s 2ms/step - loss: 0.4778 - accuracy: 0.7627 - val_loss: 0.4774 - val_accuracy: 0.7656\n",
      "Epoch 86/100\n",
      "1005/1005 [==============================] - 2s 2ms/step - loss: 0.4781 - accuracy: 0.7608 - val_loss: 0.4789 - val_accuracy: 0.7639\n",
      "Epoch 87/100\n",
      "1005/1005 [==============================] - 2s 2ms/step - loss: 0.4778 - accuracy: 0.7604 - val_loss: 0.4751 - val_accuracy: 0.7662\n",
      "Epoch 88/100\n",
      "1005/1005 [==============================] - 2s 2ms/step - loss: 0.4774 - accuracy: 0.7602 - val_loss: 0.4755 - val_accuracy: 0.7683\n",
      "Epoch 89/100\n",
      "1005/1005 [==============================] - 2s 2ms/step - loss: 0.4774 - accuracy: 0.7604 - val_loss: 0.4775 - val_accuracy: 0.7625\n",
      "Epoch 90/100\n",
      "1005/1005 [==============================] - 2s 2ms/step - loss: 0.4774 - accuracy: 0.7616 - val_loss: 0.4752 - val_accuracy: 0.7657\n",
      "Epoch 91/100\n",
      "1005/1005 [==============================] - 2s 2ms/step - loss: 0.4769 - accuracy: 0.7623 - val_loss: 0.4736 - val_accuracy: 0.7698\n",
      "Epoch 92/100\n",
      "1005/1005 [==============================] - 2s 2ms/step - loss: 0.4773 - accuracy: 0.7606 - val_loss: 0.4750 - val_accuracy: 0.7661\n",
      "Epoch 93/100\n",
      "1005/1005 [==============================] - 2s 2ms/step - loss: 0.4765 - accuracy: 0.7621 - val_loss: 0.4762 - val_accuracy: 0.7663\n",
      "Epoch 94/100\n",
      "1005/1005 [==============================] - 2s 2ms/step - loss: 0.4765 - accuracy: 0.7608 - val_loss: 0.4772 - val_accuracy: 0.7660\n",
      "Epoch 95/100\n",
      "1005/1005 [==============================] - 2s 2ms/step - loss: 0.4771 - accuracy: 0.7613 - val_loss: 0.4767 - val_accuracy: 0.7635\n",
      "Epoch 96/100\n",
      "1005/1005 [==============================] - 2s 2ms/step - loss: 0.4767 - accuracy: 0.7607 - val_loss: 0.4728 - val_accuracy: 0.7680\n",
      "Epoch 97/100\n",
      "1005/1005 [==============================] - 2s 2ms/step - loss: 0.4766 - accuracy: 0.7613 - val_loss: 0.4742 - val_accuracy: 0.7658\n",
      "Epoch 98/100\n",
      "1005/1005 [==============================] - 2s 2ms/step - loss: 0.4774 - accuracy: 0.7608 - val_loss: 0.4753 - val_accuracy: 0.7651\n",
      "Epoch 99/100\n",
      "1005/1005 [==============================] - 2s 2ms/step - loss: 0.4764 - accuracy: 0.7617 - val_loss: 0.4739 - val_accuracy: 0.7678\n",
      "Epoch 100/100\n",
      "1005/1005 [==============================] - 2s 2ms/step - loss: 0.4762 - accuracy: 0.7615 - val_loss: 0.4762 - val_accuracy: 0.7643\n"
     ]
    },
    {
     "data": {
      "text/plain": [
       "<keras.src.callbacks.History at 0x1e45387b750>"
      ]
     },
     "execution_count": 35,
     "metadata": {},
     "output_type": "execute_result"
    }
   ],
   "source": [
    "ann.fit(x_train5, y_train5, batch_size = 32, epochs=100,\n",
    "          validation_data=(x_test5, y_test5), verbose=1,\n",
    "          callbacks=[early_stop])"
   ]
  },
  {
   "cell_type": "code",
   "execution_count": 36,
   "metadata": {},
   "outputs": [
    {
     "name": "stdout",
     "output_type": "stream",
     "text": [
      "1005/1005 [==============================] - 1s 1ms/step\n",
      "335/335 [==============================] - 0s 1ms/step\n",
      "[[1. 1.]\n",
      " [0. 0.]\n",
      " [0. 0.]\n",
      " ...\n",
      " [0. 1.]\n",
      " [0. 0.]\n",
      " [0. 0.]]\n"
     ]
    }
   ],
   "source": [
    "ypred_train8 = ann.predict(x_train5)\n",
    "y_pred_test8 = ann.predict(x_test5)\n",
    "\n",
    "y_pred_test8 = (y_pred_test8 > 0.5)\n",
    "ypred_train8 = (ypred_train8 > 0.5)\n",
    "print(np.concatenate((y_pred_test8.reshape(len(y_pred_test8),1), y_test5.reshape(len(y_test5),1)),1))"
   ]
  },
  {
   "cell_type": "code",
   "execution_count": 37,
   "metadata": {},
   "outputs": [
    {
     "data": {
      "text/plain": [
       "0.7642610400522827"
      ]
     },
     "execution_count": 37,
     "metadata": {},
     "output_type": "execute_result"
    }
   ],
   "source": [
    "accuracy_score(y_test5, y_pred_test8)"
   ]
  },
  {
   "cell_type": "code",
   "execution_count": 38,
   "metadata": {},
   "outputs": [
    {
     "name": "stdout",
     "output_type": "stream",
     "text": [
      "Training Results\n",
      "\n",
      "              precision    recall  f1-score   support\n",
      "\n",
      "         0.0       0.72      0.86      0.78     16021\n",
      "         1.0       0.83      0.66      0.73     16110\n",
      "\n",
      "    accuracy                           0.76     32131\n",
      "   macro avg       0.77      0.76      0.76     32131\n",
      "weighted avg       0.77      0.76      0.76     32131\n",
      "\n"
     ]
    }
   ],
   "source": [
    "print(\"Training Results\\n\")\n",
    "print(classification_report(y_train5, ypred_train8))"
   ]
  },
  {
   "cell_type": "code",
   "execution_count": 39,
   "metadata": {},
   "outputs": [
    {
     "name": "stdout",
     "output_type": "stream",
     "text": [
      "Testing Results\n",
      "\n",
      "              precision    recall  f1-score   support\n",
      "\n",
      "         0.0       0.72      0.87      0.79      5400\n",
      "         1.0       0.83      0.66      0.73      5311\n",
      "\n",
      "    accuracy                           0.76     10711\n",
      "   macro avg       0.78      0.76      0.76     10711\n",
      "weighted avg       0.78      0.76      0.76     10711\n",
      "\n"
     ]
    }
   ],
   "source": [
    "print('Testing Results\\n')\n",
    "print(classification_report(y_test5, y_pred_test8))"
   ]
  },
  {
   "cell_type": "code",
   "execution_count": 40,
   "metadata": {},
   "outputs": [
    {
     "name": "stdout",
     "output_type": "stream",
     "text": [
      "335/335 [==============================] - 0s 1ms/step\n"
     ]
    },
    {
     "data": {
      "image/png": "[encoded data removed]",
      "text/plain": [
       "<Figure size 640x480 with 1 Axes>"
      ]
     },
     "metadata": {},
     "output_type": "display_data"
    }
   ],
   "source": [
    "# cross_val_scores = cross_val_score(ann, x_train5, y_train5, cv=5)\n",
    "# print(\"Cross-validation scores:\", cross_val_scores)\n",
    "# print(\"Average cross-validation score:\", np.mean(cross_val_scores))\n",
    "y_proba_test = ann.predict(x_test5).flatten()\n",
    "\n",
    "fpr, tpr, thresholds = roc_curve(y_test5, y_proba_test)\n",
    "\n",
    "plt.plot(fpr, tpr, label='ROC Curve')\n",
    "plt.xlabel('False Positive Rate')\n",
    "plt.ylabel('True Positive Rate')\n",
    "plt.title('ROC Curve with AUC = {:.2f}'.format(roc_auc_score(y_test5, y_proba_test)))\n",
    "plt.legend(loc='lower right')\n",
    "plt.grid(True)\n",
    "plt.show()"
   ]
  },
  {
   "cell_type": "markdown",
   "metadata": {},
   "source": [
    "## inne próby sieci neuronowych "
   ]
  },
  {
   "cell_type": "code",
   "execution_count": 41,
   "metadata": {},
   "outputs": [
    {
     "name": "stderr",
     "output_type": "stream",
     "text": [
      "WARNING:absl:`lr` is deprecated in Keras optimizer, please use `learning_rate` or use the legacy optimizer, e.g.,tf.keras.optimizers.legacy.Adam.\n"
     ]
    },
    {
     "name": "stdout",
     "output_type": "stream",
     "text": [
      "Epoch 1/100\n",
      "1005/1005 [==============================] - 3s 2ms/step - loss: 0.6233 - accuracy: 0.6660\n",
      "Epoch 2/100\n",
      "1005/1005 [==============================] - 2s 2ms/step - loss: 0.5665 - accuracy: 0.7263\n",
      "Epoch 3/100\n",
      "1005/1005 [==============================] - 2s 2ms/step - loss: 0.5441 - accuracy: 0.7327\n",
      "Epoch 4/100\n",
      "1005/1005 [==============================] - 2s 2ms/step - loss: 0.5331 - accuracy: 0.7368\n",
      "Epoch 5/100\n",
      "1005/1005 [==============================] - 2s 2ms/step - loss: 0.5280 - accuracy: 0.7394\n",
      "Epoch 6/100\n",
      "1005/1005 [==============================] - 2s 2ms/step - loss: 0.5249 - accuracy: 0.7378\n",
      "Epoch 7/100\n",
      "1005/1005 [==============================] - 2s 2ms/step - loss: 0.5227 - accuracy: 0.7382\n",
      "Epoch 8/100\n",
      "1005/1005 [==============================] - 2s 2ms/step - loss: 0.5206 - accuracy: 0.7404\n",
      "Epoch 9/100\n",
      "1005/1005 [==============================] - 2s 2ms/step - loss: 0.5193 - accuracy: 0.7407\n",
      "Epoch 10/100\n",
      "1005/1005 [==============================] - 2s 2ms/step - loss: 0.5184 - accuracy: 0.7412\n",
      "Epoch 11/100\n",
      "1005/1005 [==============================] - 2s 2ms/step - loss: 0.5168 - accuracy: 0.7431\n",
      "Epoch 12/100\n",
      "1005/1005 [==============================] - 2s 2ms/step - loss: 0.5158 - accuracy: 0.7414\n",
      "Epoch 13/100\n",
      "1005/1005 [==============================] - 2s 2ms/step - loss: 0.5158 - accuracy: 0.7416\n",
      "Epoch 14/100\n",
      "1005/1005 [==============================] - 2s 2ms/step - loss: 0.5138 - accuracy: 0.7440\n",
      "Epoch 15/100\n",
      "1005/1005 [==============================] - 2s 2ms/step - loss: 0.5127 - accuracy: 0.7432\n",
      "Epoch 16/100\n",
      "1005/1005 [==============================] - 2s 2ms/step - loss: 0.5127 - accuracy: 0.7456\n",
      "Epoch 17/100\n",
      "1005/1005 [==============================] - 2s 2ms/step - loss: 0.5109 - accuracy: 0.7449\n",
      "Epoch 18/100\n",
      "1005/1005 [==============================] - 2s 2ms/step - loss: 0.5106 - accuracy: 0.7427\n",
      "Epoch 19/100\n",
      "1005/1005 [==============================] - 2s 2ms/step - loss: 0.5103 - accuracy: 0.7467\n",
      "Epoch 20/100\n",
      "1005/1005 [==============================] - 2s 2ms/step - loss: 0.5090 - accuracy: 0.7462\n",
      "Epoch 21/100\n",
      "1005/1005 [==============================] - 2s 2ms/step - loss: 0.5076 - accuracy: 0.7457\n",
      "Epoch 22/100\n",
      "1005/1005 [==============================] - 2s 2ms/step - loss: 0.5067 - accuracy: 0.7469\n",
      "Epoch 23/100\n",
      "1005/1005 [==============================] - 2s 2ms/step - loss: 0.5065 - accuracy: 0.7471\n",
      "Epoch 24/100\n",
      "1005/1005 [==============================] - 2s 2ms/step - loss: 0.5057 - accuracy: 0.7466\n",
      "Epoch 25/100\n",
      "1005/1005 [==============================] - 2s 2ms/step - loss: 0.5051 - accuracy: 0.7470\n",
      "Epoch 26/100\n",
      "1005/1005 [==============================] - 2s 2ms/step - loss: 0.5046 - accuracy: 0.7459\n",
      "Epoch 27/100\n",
      "1005/1005 [==============================] - 2s 2ms/step - loss: 0.5041 - accuracy: 0.7457\n",
      "Epoch 28/100\n",
      "1005/1005 [==============================] - 2s 2ms/step - loss: 0.5037 - accuracy: 0.7497\n",
      "Epoch 29/100\n",
      "1005/1005 [==============================] - 2s 2ms/step - loss: 0.5037 - accuracy: 0.7463\n",
      "Epoch 30/100\n",
      "1005/1005 [==============================] - 2s 2ms/step - loss: 0.5035 - accuracy: 0.7472\n",
      "Epoch 31/100\n",
      "1005/1005 [==============================] - 2s 2ms/step - loss: 0.5036 - accuracy: 0.7492\n",
      "Epoch 32/100\n",
      "1005/1005 [==============================] - 2s 2ms/step - loss: 0.5029 - accuracy: 0.7497\n",
      "Epoch 33/100\n",
      "1005/1005 [==============================] - 2s 2ms/step - loss: 0.5029 - accuracy: 0.7475\n",
      "Epoch 34/100\n",
      "1005/1005 [==============================] - 2s 2ms/step - loss: 0.5025 - accuracy: 0.7491\n",
      "Epoch 35/100\n",
      "1005/1005 [==============================] - 2s 2ms/step - loss: 0.5021 - accuracy: 0.7493\n",
      "Epoch 36/100\n",
      "1005/1005 [==============================] - 2s 2ms/step - loss: 0.5015 - accuracy: 0.7488\n",
      "Epoch 37/100\n",
      "1005/1005 [==============================] - 2s 2ms/step - loss: 0.5018 - accuracy: 0.7477\n",
      "Epoch 38/100\n",
      "1005/1005 [==============================] - 2s 2ms/step - loss: 0.5024 - accuracy: 0.7503\n",
      "Epoch 39/100\n",
      "1005/1005 [==============================] - 2s 2ms/step - loss: 0.5008 - accuracy: 0.7485\n",
      "Epoch 40/100\n",
      "1005/1005 [==============================] - 2s 2ms/step - loss: 0.5007 - accuracy: 0.7493\n",
      "Epoch 41/100\n",
      "1005/1005 [==============================] - 2s 2ms/step - loss: 0.5009 - accuracy: 0.7493\n",
      "Epoch 42/100\n",
      "1005/1005 [==============================] - 2s 2ms/step - loss: 0.5007 - accuracy: 0.7511\n",
      "Epoch 43/100\n",
      "1005/1005 [==============================] - 2s 2ms/step - loss: 0.5010 - accuracy: 0.7496\n",
      "Epoch 44/100\n",
      "1005/1005 [==============================] - 2s 2ms/step - loss: 0.5009 - accuracy: 0.7493\n",
      "Epoch 45/100\n",
      "1005/1005 [==============================] - 2s 2ms/step - loss: 0.5005 - accuracy: 0.7497\n",
      "Epoch 46/100\n",
      "1005/1005 [==============================] - 2s 2ms/step - loss: 0.5003 - accuracy: 0.7496\n",
      "Epoch 47/100\n",
      "1005/1005 [==============================] - 2s 2ms/step - loss: 0.4992 - accuracy: 0.7515\n",
      "Epoch 48/100\n",
      "1005/1005 [==============================] - 2s 2ms/step - loss: 0.5001 - accuracy: 0.7480\n",
      "Epoch 49/100\n",
      "1005/1005 [==============================] - 2s 2ms/step - loss: 0.4994 - accuracy: 0.7505\n",
      "Epoch 50/100\n",
      "1005/1005 [==============================] - 2s 2ms/step - loss: 0.4995 - accuracy: 0.7500\n",
      "Epoch 51/100\n",
      "1005/1005 [==============================] - 2s 2ms/step - loss: 0.4991 - accuracy: 0.7502\n",
      "Epoch 52/100\n",
      "1005/1005 [==============================] - 2s 2ms/step - loss: 0.4983 - accuracy: 0.7507\n",
      "Epoch 53/100\n",
      "1005/1005 [==============================] - 2s 2ms/step - loss: 0.4986 - accuracy: 0.7486\n",
      "Epoch 54/100\n",
      "1005/1005 [==============================] - 2s 2ms/step - loss: 0.4984 - accuracy: 0.7501\n",
      "Epoch 55/100\n",
      "1005/1005 [==============================] - 2s 2ms/step - loss: 0.4977 - accuracy: 0.7508\n",
      "Epoch 56/100\n",
      "1005/1005 [==============================] - 2s 2ms/step - loss: 0.4982 - accuracy: 0.7506\n",
      "Epoch 57/100\n",
      "1005/1005 [==============================] - 2s 2ms/step - loss: 0.4974 - accuracy: 0.7511\n",
      "Epoch 58/100\n",
      "1005/1005 [==============================] - 2s 2ms/step - loss: 0.4977 - accuracy: 0.7496\n",
      "Epoch 59/100\n",
      "1005/1005 [==============================] - 2s 2ms/step - loss: 0.4972 - accuracy: 0.7510\n",
      "Epoch 60/100\n",
      "1005/1005 [==============================] - 2s 2ms/step - loss: 0.4972 - accuracy: 0.7500\n",
      "Epoch 61/100\n",
      "1005/1005 [==============================] - 2s 2ms/step - loss: 0.4963 - accuracy: 0.7505\n",
      "Epoch 62/100\n",
      "1005/1005 [==============================] - 2s 2ms/step - loss: 0.4963 - accuracy: 0.7524\n",
      "Epoch 63/100\n",
      "1005/1005 [==============================] - 2s 2ms/step - loss: 0.4961 - accuracy: 0.7509\n",
      "Epoch 64/100\n",
      "1005/1005 [==============================] - 2s 2ms/step - loss: 0.4955 - accuracy: 0.7522\n",
      "Epoch 65/100\n",
      "1005/1005 [==============================] - 2s 2ms/step - loss: 0.4965 - accuracy: 0.7494\n",
      "Epoch 66/100\n",
      "1005/1005 [==============================] - 2s 2ms/step - loss: 0.4951 - accuracy: 0.7514\n",
      "Epoch 67/100\n",
      "1005/1005 [==============================] - 2s 2ms/step - loss: 0.4954 - accuracy: 0.7511\n",
      "Epoch 68/100\n",
      "1005/1005 [==============================] - 2s 2ms/step - loss: 0.4955 - accuracy: 0.7516\n",
      "Epoch 69/100\n",
      "1005/1005 [==============================] - 2s 2ms/step - loss: 0.4946 - accuracy: 0.7503\n",
      "Epoch 70/100\n",
      "1005/1005 [==============================] - 2s 2ms/step - loss: 0.4949 - accuracy: 0.7511\n",
      "Epoch 71/100\n",
      "1005/1005 [==============================] - 2s 2ms/step - loss: 0.4942 - accuracy: 0.7503\n",
      "Epoch 72/100\n",
      "1005/1005 [==============================] - 2s 2ms/step - loss: 0.4935 - accuracy: 0.7531\n",
      "Epoch 73/100\n",
      "1005/1005 [==============================] - 2s 2ms/step - loss: 0.4939 - accuracy: 0.7523\n",
      "Epoch 74/100\n",
      "1005/1005 [==============================] - 2s 2ms/step - loss: 0.4942 - accuracy: 0.7507\n",
      "Epoch 75/100\n",
      "1005/1005 [==============================] - 2s 2ms/step - loss: 0.4939 - accuracy: 0.7506\n",
      "Epoch 76/100\n",
      "1005/1005 [==============================] - 2s 2ms/step - loss: 0.4937 - accuracy: 0.7529\n",
      "Epoch 77/100\n",
      "1005/1005 [==============================] - 2s 2ms/step - loss: 0.4925 - accuracy: 0.7528\n",
      "Epoch 78/100\n",
      "1005/1005 [==============================] - 2s 2ms/step - loss: 0.4929 - accuracy: 0.7517\n",
      "Epoch 79/100\n",
      "1005/1005 [==============================] - 2s 2ms/step - loss: 0.4917 - accuracy: 0.7533\n",
      "Epoch 80/100\n",
      "1005/1005 [==============================] - 2s 2ms/step - loss: 0.4913 - accuracy: 0.7537\n",
      "Epoch 81/100\n",
      "1005/1005 [==============================] - 2s 2ms/step - loss: 0.4914 - accuracy: 0.7520\n",
      "Epoch 82/100\n",
      "1005/1005 [==============================] - 2s 2ms/step - loss: 0.4908 - accuracy: 0.7549\n",
      "Epoch 83/100\n",
      "1005/1005 [==============================] - 2s 2ms/step - loss: 0.4903 - accuracy: 0.7546\n",
      "Epoch 84/100\n",
      "1005/1005 [==============================] - 2s 2ms/step - loss: 0.4901 - accuracy: 0.7531\n",
      "Epoch 85/100\n",
      "1005/1005 [==============================] - 2s 2ms/step - loss: 0.4897 - accuracy: 0.7553\n",
      "Epoch 86/100\n",
      "1005/1005 [==============================] - 2s 2ms/step - loss: 0.4891 - accuracy: 0.7555\n",
      "Epoch 87/100\n",
      "1005/1005 [==============================] - 2s 2ms/step - loss: 0.4894 - accuracy: 0.7545\n",
      "Epoch 88/100\n",
      "1005/1005 [==============================] - 2s 2ms/step - loss: 0.4893 - accuracy: 0.7553\n",
      "Epoch 89/100\n",
      "1005/1005 [==============================] - 2s 2ms/step - loss: 0.4888 - accuracy: 0.7560\n",
      "Epoch 90/100\n",
      "1005/1005 [==============================] - 2s 2ms/step - loss: 0.4895 - accuracy: 0.7542\n",
      "Epoch 91/100\n",
      "1005/1005 [==============================] - 2s 2ms/step - loss: 0.4890 - accuracy: 0.7554\n",
      "Epoch 92/100\n",
      "1005/1005 [==============================] - 2s 2ms/step - loss: 0.4881 - accuracy: 0.7542\n",
      "Epoch 93/100\n",
      "1005/1005 [==============================] - 2s 2ms/step - loss: 0.4887 - accuracy: 0.7541\n",
      "Epoch 94/100\n",
      "1005/1005 [==============================] - 2s 2ms/step - loss: 0.4891 - accuracy: 0.7556\n",
      "Epoch 95/100\n",
      "1005/1005 [==============================] - 2s 2ms/step - loss: 0.4877 - accuracy: 0.7567\n",
      "Epoch 96/100\n",
      "1005/1005 [==============================] - 2s 2ms/step - loss: 0.4878 - accuracy: 0.7550\n",
      "Epoch 97/100\n",
      "1005/1005 [==============================] - 2s 2ms/step - loss: 0.4884 - accuracy: 0.7557\n",
      "Epoch 98/100\n",
      "1005/1005 [==============================] - 2s 2ms/step - loss: 0.4873 - accuracy: 0.7553\n",
      "Epoch 99/100\n",
      "1005/1005 [==============================] - 1s 1ms/step - loss: 0.4877 - accuracy: 0.7556\n",
      "Epoch 100/100\n",
      "1005/1005 [==============================] - 2s 2ms/step - loss: 0.4877 - accuracy: 0.7561\n"
     ]
    }
   ],
   "source": [
    "\n",
    "tf.random.set_seed(42)\n",
    "\n",
    "\n",
    "model_2 = tf.keras.Sequential([\n",
    "  tf.keras.layers.Dense(14,activation = 'relu'),\n",
    "  tf.keras.layers.Dense(6,activation = 'relu'),\n",
    "  tf.keras.layers.Dense(6,activation = 'relu'),\n",
    "  tf.keras.layers.Dense(1,activation = 'sigmoid')                            \n",
    "])\n",
    "\n",
    "\n",
    "model_2.compile(loss = 'binary_crossentropy',\n",
    "                optimizer = tf.keras.optimizers.Adam(lr=0.001),\n",
    "                metrics = ['accuracy'])\n",
    "\n",
    "\n",
    "history_2 = model_2.fit(x_train5,y_train5,epochs = 100)"
   ]
  },
  {
   "cell_type": "code",
   "execution_count": 42,
   "metadata": {},
   "outputs": [
    {
     "name": "stdout",
     "output_type": "stream",
     "text": [
      "335/335 [==============================] - 1s 2ms/step - loss: 0.4850 - accuracy: 0.7581\n"
     ]
    },
    {
     "data": {
      "text/plain": [
       "[0.48499205708503723, 0.7580991387367249]"
      ]
     },
     "execution_count": 42,
     "metadata": {},
     "output_type": "execute_result"
    }
   ],
   "source": [
    "model_2.evaluate(x_test5,y_test5)"
   ]
  },
  {
   "cell_type": "code",
   "execution_count": 43,
   "metadata": {},
   "outputs": [
    {
     "name": "stdout",
     "output_type": "stream",
     "text": [
      "335/335 [==============================] - 1s 2ms/step\n"
     ]
    },
    {
     "data": {
      "image/png": "[encoded data removed]",
      "text/plain": [
       "<Figure size 640x480 with 1 Axes>"
      ]
     },
     "metadata": {},
     "output_type": "display_data"
    }
   ],
   "source": [
    "# cross_val_scores = cross_val_score(model_2, x_train5, y_train5, cv=5)\n",
    "# print(\"Cross-validation scores:\", cross_val_scores)\n",
    "# print(\"Average cross-validation score:\", np.mean(cross_val_scores))\n",
    "y_proba_test = model_2.predict(x_test5).flatten()\n",
    "\n",
    "fpr, tpr, thresholds = roc_curve(y_test5, y_proba_test)\n",
    "\n",
    "plt.plot(fpr, tpr, label='ROC Curve')\n",
    "plt.xlabel('False Positive Rate')\n",
    "plt.ylabel('True Positive Rate')\n",
    "plt.title('ROC Curve with AUC = {:.2f}'.format(roc_auc_score(y_test5, y_proba_test)))\n",
    "plt.legend(loc='lower right')\n",
    "plt.grid(True)\n",
    "plt.show()"
   ]
  },
  {
   "cell_type": "markdown",
   "metadata": {},
   "source": [
    "## inne próby sieci neuronowych "
   ]
  },
  {
   "cell_type": "code",
   "execution_count": 44,
   "metadata": {},
   "outputs": [],
   "source": [
    "model1 = Sequential()\n",
    "model1.add(Dense(units=30,activation='relu'))\n",
    "model1.add(Dropout(0.5))\n",
    "\n",
    "model1.add(Dense(units=15,activation='relu'))\n",
    "model1.add(Dropout(0.5))\n",
    "\n",
    "model1.add(Dense(units=1,activation='sigmoid'))\n",
    "model1.compile(loss='binary_crossentropy', optimizer='adam')"
   ]
  },
  {
   "cell_type": "code",
   "execution_count": 45,
   "metadata": {},
   "outputs": [
    {
     "name": "stdout",
     "output_type": "stream",
     "text": [
      "Epoch 1/100\n",
      "1005/1005 [==============================] - 3s 2ms/step - loss: 0.6666 - val_loss: 0.6144\n",
      "Epoch 2/100\n",
      "1005/1005 [==============================] - 2s 2ms/step - loss: 0.6296 - val_loss: 0.5919\n",
      "Epoch 3/100\n",
      "1005/1005 [==============================] - 2s 2ms/step - loss: 0.6132 - val_loss: 0.5806\n",
      "Epoch 4/100\n",
      "1005/1005 [==============================] - 3s 3ms/step - loss: 0.6063 - val_loss: 0.5722\n",
      "Epoch 5/100\n",
      "1005/1005 [==============================] - 2s 2ms/step - loss: 0.5946 - val_loss: 0.5616\n",
      "Epoch 6/100\n",
      "1005/1005 [==============================] - 2s 2ms/step - loss: 0.5854 - val_loss: 0.5532\n",
      "Epoch 7/100\n",
      "1005/1005 [==============================] - 2s 2ms/step - loss: 0.5803 - val_loss: 0.5432\n",
      "Epoch 8/100\n",
      "1005/1005 [==============================] - 2s 2ms/step - loss: 0.5743 - val_loss: 0.5391\n",
      "Epoch 9/100\n",
      "1005/1005 [==============================] - 2s 2ms/step - loss: 0.5684 - val_loss: 0.5374\n",
      "Epoch 10/100\n",
      "1005/1005 [==============================] - 2s 2ms/step - loss: 0.5658 - val_loss: 0.5373\n",
      "Epoch 11/100\n",
      "1005/1005 [==============================] - 2s 2ms/step - loss: 0.5621 - val_loss: 0.5298\n",
      "Epoch 12/100\n",
      "1005/1005 [==============================] - 2s 2ms/step - loss: 0.5608 - val_loss: 0.5255\n",
      "Epoch 13/100\n",
      "1005/1005 [==============================] - 2s 2ms/step - loss: 0.5575 - val_loss: 0.5269\n",
      "Epoch 14/100\n",
      "1005/1005 [==============================] - 2s 2ms/step - loss: 0.5566 - val_loss: 0.5239\n",
      "Epoch 15/100\n",
      "1005/1005 [==============================] - 2s 2ms/step - loss: 0.5564 - val_loss: 0.5254\n",
      "Epoch 16/100\n",
      "1005/1005 [==============================] - 2s 2ms/step - loss: 0.5542 - val_loss: 0.5202\n",
      "Epoch 17/100\n",
      "1005/1005 [==============================] - 2s 2ms/step - loss: 0.5524 - val_loss: 0.5171\n",
      "Epoch 18/100\n",
      "1005/1005 [==============================] - 2s 2ms/step - loss: 0.5508 - val_loss: 0.5155\n",
      "Epoch 19/100\n",
      "1005/1005 [==============================] - 2s 2ms/step - loss: 0.5493 - val_loss: 0.5194\n",
      "Epoch 20/100\n",
      "1005/1005 [==============================] - 2s 2ms/step - loss: 0.5497 - val_loss: 0.5132\n",
      "Epoch 21/100\n",
      "1005/1005 [==============================] - 2s 2ms/step - loss: 0.5478 - val_loss: 0.5165\n",
      "Epoch 22/100\n",
      "1005/1005 [==============================] - 2s 2ms/step - loss: 0.5485 - val_loss: 0.5180\n",
      "Epoch 23/100\n",
      "1005/1005 [==============================] - 2s 2ms/step - loss: 0.5479 - val_loss: 0.5163\n",
      "Epoch 24/100\n",
      "1005/1005 [==============================] - 2s 2ms/step - loss: 0.5462 - val_loss: 0.5117\n",
      "Epoch 25/100\n",
      "1005/1005 [==============================] - 2s 2ms/step - loss: 0.5464 - val_loss: 0.5131\n",
      "Epoch 26/100\n",
      "1005/1005 [==============================] - 3s 3ms/step - loss: 0.5484 - val_loss: 0.5144\n",
      "Epoch 27/100\n",
      "1005/1005 [==============================] - 2s 2ms/step - loss: 0.5446 - val_loss: 0.5169\n",
      "Epoch 28/100\n",
      "1005/1005 [==============================] - 3s 2ms/step - loss: 0.5446 - val_loss: 0.5124\n",
      "Epoch 29/100\n",
      "1005/1005 [==============================] - 2s 2ms/step - loss: 0.5462 - val_loss: 0.5128\n",
      "Epoch 30/100\n",
      "1005/1005 [==============================] - 2s 2ms/step - loss: 0.5461 - val_loss: 0.5101\n",
      "Epoch 31/100\n",
      "1005/1005 [==============================] - 2s 2ms/step - loss: 0.5435 - val_loss: 0.5114\n",
      "Epoch 32/100\n",
      "1005/1005 [==============================] - 2s 2ms/step - loss: 0.5439 - val_loss: 0.5109\n",
      "Epoch 33/100\n",
      "1005/1005 [==============================] - 2s 2ms/step - loss: 0.5419 - val_loss: 0.5112\n",
      "Epoch 34/100\n",
      "1005/1005 [==============================] - 2s 2ms/step - loss: 0.5423 - val_loss: 0.5090\n",
      "Epoch 35/100\n",
      "1005/1005 [==============================] - 2s 2ms/step - loss: 0.5441 - val_loss: 0.5082\n",
      "Epoch 36/100\n",
      "1005/1005 [==============================] - 2s 2ms/step - loss: 0.5422 - val_loss: 0.5115\n",
      "Epoch 37/100\n",
      "1005/1005 [==============================] - 2s 2ms/step - loss: 0.5432 - val_loss: 0.5087\n",
      "Epoch 38/100\n",
      "1005/1005 [==============================] - 3s 3ms/step - loss: 0.5420 - val_loss: 0.5068\n",
      "Epoch 39/100\n",
      "1005/1005 [==============================] - 2s 2ms/step - loss: 0.5425 - val_loss: 0.5083\n",
      "Epoch 40/100\n",
      "1005/1005 [==============================] - 2s 2ms/step - loss: 0.5404 - val_loss: 0.5079\n",
      "Epoch 41/100\n",
      "1005/1005 [==============================] - 2s 2ms/step - loss: 0.5403 - val_loss: 0.5113\n",
      "Epoch 42/100\n",
      "1005/1005 [==============================] - 2s 2ms/step - loss: 0.5428 - val_loss: 0.5089\n",
      "Epoch 43/100\n",
      "1005/1005 [==============================] - 2s 2ms/step - loss: 0.5415 - val_loss: 0.5093\n",
      "Epoch 44/100\n",
      "1005/1005 [==============================] - 2s 2ms/step - loss: 0.5414 - val_loss: 0.5078\n",
      "Epoch 45/100\n",
      "1005/1005 [==============================] - 2s 2ms/step - loss: 0.5403 - val_loss: 0.5080\n",
      "Epoch 46/100\n",
      "1005/1005 [==============================] - 2s 2ms/step - loss: 0.5424 - val_loss: 0.5078\n",
      "Epoch 47/100\n",
      "1005/1005 [==============================] - 2s 2ms/step - loss: 0.5408 - val_loss: 0.5064\n",
      "Epoch 48/100\n",
      "1005/1005 [==============================] - 2s 2ms/step - loss: 0.5408 - val_loss: 0.5086\n",
      "Epoch 49/100\n",
      "1005/1005 [==============================] - 2s 2ms/step - loss: 0.5423 - val_loss: 0.5050\n",
      "Epoch 50/100\n",
      "1005/1005 [==============================] - 2s 2ms/step - loss: 0.5403 - val_loss: 0.5065\n",
      "Epoch 51/100\n",
      "1005/1005 [==============================] - 2s 2ms/step - loss: 0.5406 - val_loss: 0.5039\n",
      "Epoch 52/100\n",
      "1005/1005 [==============================] - 3s 3ms/step - loss: 0.5400 - val_loss: 0.5077\n",
      "Epoch 53/100\n",
      "1005/1005 [==============================] - 2s 2ms/step - loss: 0.5409 - val_loss: 0.5047\n",
      "Epoch 54/100\n",
      "1005/1005 [==============================] - 3s 3ms/step - loss: 0.5406 - val_loss: 0.5113\n",
      "Epoch 55/100\n",
      "1005/1005 [==============================] - 3s 3ms/step - loss: 0.5423 - val_loss: 0.5081\n",
      "Epoch 56/100\n",
      "1005/1005 [==============================] - 2s 2ms/step - loss: 0.5393 - val_loss: 0.5059\n",
      "Epoch 57/100\n",
      "1005/1005 [==============================] - 2s 2ms/step - loss: 0.5407 - val_loss: 0.5035\n",
      "Epoch 58/100\n",
      "1005/1005 [==============================] - 2s 2ms/step - loss: 0.5403 - val_loss: 0.5040\n",
      "Epoch 59/100\n",
      "1005/1005 [==============================] - 2s 2ms/step - loss: 0.5394 - val_loss: 0.5056\n",
      "Epoch 60/100\n",
      "1005/1005 [==============================] - 3s 3ms/step - loss: 0.5395 - val_loss: 0.5080\n",
      "Epoch 61/100\n",
      "1005/1005 [==============================] - 2s 2ms/step - loss: 0.5390 - val_loss: 0.5075\n",
      "Epoch 62/100\n",
      "1005/1005 [==============================] - 2s 2ms/step - loss: 0.5386 - val_loss: 0.5065\n",
      "Epoch 63/100\n",
      "1005/1005 [==============================] - 2s 2ms/step - loss: 0.5403 - val_loss: 0.5060\n",
      "Epoch 64/100\n",
      "1005/1005 [==============================] - 2s 2ms/step - loss: 0.5413 - val_loss: 0.5052\n",
      "Epoch 65/100\n",
      "1005/1005 [==============================] - 2s 2ms/step - loss: 0.5429 - val_loss: 0.5048\n",
      "Epoch 66/100\n",
      "1005/1005 [==============================] - 2s 2ms/step - loss: 0.5400 - val_loss: 0.5044\n",
      "Epoch 67/100\n",
      "1005/1005 [==============================] - 2s 2ms/step - loss: 0.5411 - val_loss: 0.5045\n",
      "Epoch 68/100\n",
      "1005/1005 [==============================] - 2s 2ms/step - loss: 0.5393 - val_loss: 0.5058\n",
      "Epoch 69/100\n",
      "1005/1005 [==============================] - 3s 3ms/step - loss: 0.5366 - val_loss: 0.5067\n",
      "Epoch 70/100\n",
      "1005/1005 [==============================] - 2s 2ms/step - loss: 0.5394 - val_loss: 0.5074\n",
      "Epoch 71/100\n",
      "1005/1005 [==============================] - 3s 3ms/step - loss: 0.5383 - val_loss: 0.5061\n",
      "Epoch 72/100\n",
      "1005/1005 [==============================] - 2s 2ms/step - loss: 0.5371 - val_loss: 0.5050\n",
      "Epoch 73/100\n",
      "1005/1005 [==============================] - 2s 2ms/step - loss: 0.5364 - val_loss: 0.5037\n",
      "Epoch 74/100\n",
      "1005/1005 [==============================] - 2s 2ms/step - loss: 0.5389 - val_loss: 0.5047\n",
      "Epoch 75/100\n",
      "1005/1005 [==============================] - 2s 2ms/step - loss: 0.5398 - val_loss: 0.5037\n",
      "Epoch 76/100\n",
      "1005/1005 [==============================] - 2s 2ms/step - loss: 0.5366 - val_loss: 0.5044\n",
      "Epoch 77/100\n",
      "1005/1005 [==============================] - 2s 2ms/step - loss: 0.5405 - val_loss: 0.5089\n",
      "Epoch 78/100\n",
      "1005/1005 [==============================] - 2s 2ms/step - loss: 0.5405 - val_loss: 0.5039\n",
      "Epoch 79/100\n",
      "1005/1005 [==============================] - 2s 2ms/step - loss: 0.5387 - val_loss: 0.5058\n",
      "Epoch 80/100\n",
      "1005/1005 [==============================] - 2s 2ms/step - loss: 0.5383 - val_loss: 0.5069\n",
      "Epoch 81/100\n",
      "1005/1005 [==============================] - 2s 2ms/step - loss: 0.5387 - val_loss: 0.5041\n",
      "Epoch 82/100\n",
      "1005/1005 [==============================] - 3s 3ms/step - loss: 0.5407 - val_loss: 0.5065\n",
      "Epoch 82: early stopping\n"
     ]
    },
    {
     "data": {
      "text/plain": [
       "<keras.src.callbacks.History at 0x1e489c351d0>"
      ]
     },
     "execution_count": 45,
     "metadata": {},
     "output_type": "execute_result"
    }
   ],
   "source": [
    "model1.fit(x=x_train5, \n",
    "          y=y_train5, \n",
    "          epochs=100,\n",
    "          validation_data=(x_test5, y_test5), verbose=1,\n",
    "          callbacks=[early_stop]\n",
    "          )"
   ]
  },
  {
   "cell_type": "code",
   "execution_count": 46,
   "metadata": {},
   "outputs": [
    {
     "name": "stdout",
     "output_type": "stream",
     "text": [
      "1005/1005 [==============================] - 2s 2ms/step\n",
      "335/335 [==============================] - 1s 2ms/step\n",
      "              precision    recall  f1-score   support\n",
      "\n",
      "         0.0       0.70      0.85      0.77     16021\n",
      "         1.0       0.81      0.64      0.72     16110\n",
      "\n",
      "    accuracy                           0.75     32131\n",
      "   macro avg       0.76      0.75      0.74     32131\n",
      "weighted avg       0.76      0.75      0.74     32131\n",
      "\n",
      "              precision    recall  f1-score   support\n",
      "\n",
      "         0.0       0.71      0.86      0.78      5400\n",
      "         1.0       0.82      0.64      0.72      5311\n",
      "\n",
      "    accuracy                           0.75     10711\n",
      "   macro avg       0.76      0.75      0.75     10711\n",
      "weighted avg       0.76      0.75      0.75     10711\n",
      "\n"
     ]
    }
   ],
   "source": [
    "ypred_train13 = model1.predict(x_train5)\n",
    "y_pred_test13 = model1.predict(x_test5)\n",
    "\n",
    "y_pred_test13 = (y_pred_test13 > 0.5)\n",
    "ypred_train13 = (ypred_train13 > 0.5)\n",
    "\n",
    "print(classification_report(y_train5,ypred_train13))\n",
    "print(classification_report(y_test5,y_pred_test13))"
   ]
  },
  {
   "cell_type": "code",
   "execution_count": 47,
   "metadata": {},
   "outputs": [
    {
     "name": "stdout",
     "output_type": "stream",
     "text": [
      "335/335 [==============================] - 1s 2ms/step\n"
     ]
    },
    {
     "data": {
      "image/png": "[encoded data removed]",
      "text/plain": [
       "<Figure size 640x480 with 1 Axes>"
      ]
     },
     "metadata": {},
     "output_type": "display_data"
    }
   ],
   "source": [
    "# cross_val_scores = cross_val_score(model1, x_train5, y_train5, cv=5)\n",
    "# print(\"Cross-validation scores:\", cross_val_scores)\n",
    "# print(\"Average cross-validation score:\", np.mean(cross_val_scores))\n",
    "y_proba_test = model1.predict(x_test5).flatten()\n",
    "\n",
    "fpr, tpr, thresholds = roc_curve(y_test5, y_proba_test)\n",
    "\n",
    "plt.plot(fpr, tpr, label='ROC Curve')\n",
    "plt.xlabel('False Positive Rate')\n",
    "plt.ylabel('True Positive Rate')\n",
    "plt.title('ROC Curve with AUC = {:.2f}'.format(roc_auc_score(y_test5, y_proba_test)))\n",
    "plt.legend(loc='lower right')\n",
    "plt.grid(True)\n",
    "plt.show()"
   ]
  },
  {
   "cell_type": "markdown",
   "metadata": {},
   "source": [
    "## inna proba "
   ]
  },
  {
   "cell_type": "code",
   "execution_count": 48,
   "metadata": {},
   "outputs": [
    {
     "name": "stderr",
     "output_type": "stream",
     "text": [
      "WARNING:absl:`lr` is deprecated in Keras optimizer, please use `learning_rate` or use the legacy optimizer, e.g.,tf.keras.optimizers.legacy.Adam.\n"
     ]
    },
    {
     "name": "stdout",
     "output_type": "stream",
     "text": [
      "Epoch 1/100\n",
      "1005/1005 [==============================] - 3s 2ms/step - loss: 0.5937 - accuracy: 0.6962\n",
      "Epoch 2/100\n",
      "1005/1005 [==============================] - 2s 2ms/step - loss: 0.5439 - accuracy: 0.7297\n",
      "Epoch 3/100\n",
      "1005/1005 [==============================] - 2s 2ms/step - loss: 0.5315 - accuracy: 0.7342\n",
      "Epoch 4/100\n",
      "1005/1005 [==============================] - 2s 2ms/step - loss: 0.5242 - accuracy: 0.7373\n",
      "Epoch 5/100\n",
      "1005/1005 [==============================] - 2s 2ms/step - loss: 0.5205 - accuracy: 0.7402\n",
      "Epoch 6/100\n",
      "1005/1005 [==============================] - 3s 3ms/step - loss: 0.5167 - accuracy: 0.7412\n",
      "Epoch 7/100\n",
      "1005/1005 [==============================] - 3s 3ms/step - loss: 0.5144 - accuracy: 0.7413\n",
      "Epoch 8/100\n",
      "1005/1005 [==============================] - 3s 3ms/step - loss: 0.5103 - accuracy: 0.7444\n",
      "Epoch 9/100\n",
      "1005/1005 [==============================] - 3s 3ms/step - loss: 0.5084 - accuracy: 0.7438\n",
      "Epoch 10/100\n",
      "1005/1005 [==============================] - 3s 3ms/step - loss: 0.5057 - accuracy: 0.7454\n",
      "Epoch 11/100\n",
      "1005/1005 [==============================] - 3s 3ms/step - loss: 0.5030 - accuracy: 0.7468\n",
      "Epoch 12/100\n",
      "1005/1005 [==============================] - 3s 3ms/step - loss: 0.5024 - accuracy: 0.7483\n",
      "Epoch 13/100\n",
      "1005/1005 [==============================] - 3s 3ms/step - loss: 0.5011 - accuracy: 0.7467\n",
      "Epoch 14/100\n",
      "1005/1005 [==============================] - 3s 3ms/step - loss: 0.4986 - accuracy: 0.7483\n",
      "Epoch 15/100\n",
      "1005/1005 [==============================] - 3s 3ms/step - loss: 0.4970 - accuracy: 0.7508\n",
      "Epoch 16/100\n",
      "1005/1005 [==============================] - 3s 3ms/step - loss: 0.4972 - accuracy: 0.7494\n",
      "Epoch 17/100\n",
      "1005/1005 [==============================] - 3s 3ms/step - loss: 0.4949 - accuracy: 0.7522\n",
      "Epoch 18/100\n",
      "1005/1005 [==============================] - 3s 2ms/step - loss: 0.4944 - accuracy: 0.7522\n",
      "Epoch 19/100\n",
      "1005/1005 [==============================] - 3s 3ms/step - loss: 0.4944 - accuracy: 0.7522\n",
      "Epoch 20/100\n",
      "1005/1005 [==============================] - 3s 3ms/step - loss: 0.4924 - accuracy: 0.7534\n",
      "Epoch 21/100\n",
      "1005/1005 [==============================] - 2s 2ms/step - loss: 0.4907 - accuracy: 0.7541\n",
      "Epoch 22/100\n",
      "1005/1005 [==============================] - 2s 2ms/step - loss: 0.4888 - accuracy: 0.7553\n",
      "Epoch 23/100\n",
      "1005/1005 [==============================] - 3s 3ms/step - loss: 0.4910 - accuracy: 0.7528\n",
      "Epoch 24/100\n",
      "1005/1005 [==============================] - 3s 3ms/step - loss: 0.4871 - accuracy: 0.7555\n",
      "Epoch 25/100\n",
      "1005/1005 [==============================] - 3s 3ms/step - loss: 0.4872 - accuracy: 0.7559\n",
      "Epoch 26/100\n",
      "1005/1005 [==============================] - 3s 3ms/step - loss: 0.4846 - accuracy: 0.7571\n",
      "Epoch 27/100\n",
      "1005/1005 [==============================] - 3s 3ms/step - loss: 0.4859 - accuracy: 0.7547\n",
      "Epoch 28/100\n",
      "1005/1005 [==============================] - 3s 3ms/step - loss: 0.4840 - accuracy: 0.7574\n",
      "Epoch 29/100\n",
      "1005/1005 [==============================] - 2s 2ms/step - loss: 0.4836 - accuracy: 0.7559\n",
      "Epoch 30/100\n",
      "1005/1005 [==============================] - 2s 2ms/step - loss: 0.4831 - accuracy: 0.7551\n",
      "Epoch 31/100\n",
      "1005/1005 [==============================] - 2s 2ms/step - loss: 0.4825 - accuracy: 0.7588\n",
      "Epoch 32/100\n",
      "1005/1005 [==============================] - 2s 2ms/step - loss: 0.4818 - accuracy: 0.7578\n",
      "Epoch 33/100\n",
      "1005/1005 [==============================] - 2s 2ms/step - loss: 0.4812 - accuracy: 0.7587\n",
      "Epoch 34/100\n",
      "1005/1005 [==============================] - 2s 2ms/step - loss: 0.4807 - accuracy: 0.7596\n",
      "Epoch 35/100\n",
      "1005/1005 [==============================] - 2s 2ms/step - loss: 0.4801 - accuracy: 0.7586\n",
      "Epoch 36/100\n",
      "1005/1005 [==============================] - 2s 2ms/step - loss: 0.4799 - accuracy: 0.7588\n",
      "Epoch 37/100\n",
      "1005/1005 [==============================] - 2s 2ms/step - loss: 0.4778 - accuracy: 0.7597\n",
      "Epoch 38/100\n",
      "1005/1005 [==============================] - 2s 2ms/step - loss: 0.4794 - accuracy: 0.7590\n",
      "Epoch 39/100\n",
      "1005/1005 [==============================] - 2s 2ms/step - loss: 0.4777 - accuracy: 0.7595\n",
      "Epoch 40/100\n",
      "1005/1005 [==============================] - 2s 2ms/step - loss: 0.4773 - accuracy: 0.7591\n",
      "Epoch 41/100\n",
      "1005/1005 [==============================] - 2s 2ms/step - loss: 0.4766 - accuracy: 0.7607\n",
      "Epoch 42/100\n",
      "1005/1005 [==============================] - 2s 2ms/step - loss: 0.4770 - accuracy: 0.7595\n",
      "Epoch 43/100\n",
      "1005/1005 [==============================] - 2s 2ms/step - loss: 0.4765 - accuracy: 0.7614\n",
      "Epoch 44/100\n",
      "1005/1005 [==============================] - 2s 2ms/step - loss: 0.4755 - accuracy: 0.7608\n",
      "Epoch 45/100\n",
      "1005/1005 [==============================] - 2s 2ms/step - loss: 0.4744 - accuracy: 0.7622\n",
      "Epoch 46/100\n",
      "1005/1005 [==============================] - 2s 2ms/step - loss: 0.4749 - accuracy: 0.7609\n",
      "Epoch 47/100\n",
      "1005/1005 [==============================] - 2s 2ms/step - loss: 0.4732 - accuracy: 0.7635\n",
      "Epoch 48/100\n",
      "1005/1005 [==============================] - 2s 2ms/step - loss: 0.4741 - accuracy: 0.7627\n",
      "Epoch 49/100\n",
      "1005/1005 [==============================] - 2s 2ms/step - loss: 0.4725 - accuracy: 0.7637\n",
      "Epoch 50/100\n",
      "1005/1005 [==============================] - 2s 2ms/step - loss: 0.4730 - accuracy: 0.7630\n",
      "Epoch 51/100\n",
      "1005/1005 [==============================] - 2s 2ms/step - loss: 0.4726 - accuracy: 0.7625\n",
      "Epoch 52/100\n",
      "1005/1005 [==============================] - 2s 2ms/step - loss: 0.4720 - accuracy: 0.7637\n",
      "Epoch 53/100\n",
      "1005/1005 [==============================] - 2s 2ms/step - loss: 0.4713 - accuracy: 0.7634\n",
      "Epoch 54/100\n",
      "1005/1005 [==============================] - 2s 2ms/step - loss: 0.4710 - accuracy: 0.7647\n",
      "Epoch 55/100\n",
      "1005/1005 [==============================] - 2s 2ms/step - loss: 0.4715 - accuracy: 0.7644\n",
      "Epoch 56/100\n",
      "1005/1005 [==============================] - 2s 2ms/step - loss: 0.4706 - accuracy: 0.7650\n",
      "Epoch 57/100\n",
      "1005/1005 [==============================] - 2s 2ms/step - loss: 0.4696 - accuracy: 0.7633\n",
      "Epoch 58/100\n",
      "1005/1005 [==============================] - 2s 2ms/step - loss: 0.4700 - accuracy: 0.7643\n",
      "Epoch 59/100\n",
      "1005/1005 [==============================] - 2s 2ms/step - loss: 0.4690 - accuracy: 0.7659\n",
      "Epoch 60/100\n",
      "1005/1005 [==============================] - 2s 2ms/step - loss: 0.4689 - accuracy: 0.7648\n",
      "Epoch 61/100\n",
      "1005/1005 [==============================] - 2s 2ms/step - loss: 0.4686 - accuracy: 0.7658\n",
      "Epoch 62/100\n",
      "1005/1005 [==============================] - 2s 2ms/step - loss: 0.4670 - accuracy: 0.7678\n",
      "Epoch 63/100\n",
      "1005/1005 [==============================] - 2s 2ms/step - loss: 0.4681 - accuracy: 0.7661\n",
      "Epoch 64/100\n",
      "1005/1005 [==============================] - 2s 2ms/step - loss: 0.4672 - accuracy: 0.7645\n",
      "Epoch 65/100\n",
      "1005/1005 [==============================] - 2s 2ms/step - loss: 0.4676 - accuracy: 0.7649\n",
      "Epoch 66/100\n",
      "1005/1005 [==============================] - 2s 2ms/step - loss: 0.4659 - accuracy: 0.7685\n",
      "Epoch 67/100\n",
      "1005/1005 [==============================] - 2s 2ms/step - loss: 0.4665 - accuracy: 0.7662\n",
      "Epoch 68/100\n",
      "1005/1005 [==============================] - 2s 2ms/step - loss: 0.4666 - accuracy: 0.7674\n",
      "Epoch 69/100\n",
      "1005/1005 [==============================] - 2s 2ms/step - loss: 0.4655 - accuracy: 0.7665\n",
      "Epoch 70/100\n",
      "1005/1005 [==============================] - 2s 2ms/step - loss: 0.4662 - accuracy: 0.7674\n",
      "Epoch 71/100\n",
      "1005/1005 [==============================] - 2s 2ms/step - loss: 0.4660 - accuracy: 0.7656\n",
      "Epoch 72/100\n",
      "1005/1005 [==============================] - 2s 2ms/step - loss: 0.4643 - accuracy: 0.7686\n",
      "Epoch 73/100\n",
      "1005/1005 [==============================] - 2s 2ms/step - loss: 0.4660 - accuracy: 0.7674\n",
      "Epoch 74/100\n",
      "1005/1005 [==============================] - 2s 2ms/step - loss: 0.4650 - accuracy: 0.7671\n",
      "Epoch 75/100\n",
      "1005/1005 [==============================] - 2s 2ms/step - loss: 0.4642 - accuracy: 0.7683\n",
      "Epoch 76/100\n",
      "1005/1005 [==============================] - 2s 2ms/step - loss: 0.4653 - accuracy: 0.7665\n",
      "Epoch 77/100\n",
      "1005/1005 [==============================] - 2s 2ms/step - loss: 0.4634 - accuracy: 0.7692\n",
      "Epoch 78/100\n",
      "1005/1005 [==============================] - 2s 2ms/step - loss: 0.4637 - accuracy: 0.7683\n",
      "Epoch 79/100\n",
      "1005/1005 [==============================] - 2s 2ms/step - loss: 0.4632 - accuracy: 0.7698\n",
      "Epoch 80/100\n",
      "1005/1005 [==============================] - 2s 2ms/step - loss: 0.4635 - accuracy: 0.7680\n",
      "Epoch 81/100\n",
      "1005/1005 [==============================] - 2s 2ms/step - loss: 0.4628 - accuracy: 0.7686\n",
      "Epoch 82/100\n",
      "1005/1005 [==============================] - 2s 2ms/step - loss: 0.4628 - accuracy: 0.7676\n",
      "Epoch 83/100\n",
      "1005/1005 [==============================] - 2s 2ms/step - loss: 0.4613 - accuracy: 0.7700\n",
      "Epoch 84/100\n",
      "1005/1005 [==============================] - 2s 2ms/step - loss: 0.4628 - accuracy: 0.7682\n",
      "Epoch 85/100\n",
      "1005/1005 [==============================] - 2s 2ms/step - loss: 0.4614 - accuracy: 0.7690\n",
      "Epoch 86/100\n",
      "1005/1005 [==============================] - 2s 2ms/step - loss: 0.4615 - accuracy: 0.7704\n",
      "Epoch 87/100\n",
      "1005/1005 [==============================] - 2s 2ms/step - loss: 0.4619 - accuracy: 0.7686\n",
      "Epoch 88/100\n",
      "1005/1005 [==============================] - 2s 2ms/step - loss: 0.4611 - accuracy: 0.7697\n",
      "Epoch 89/100\n",
      "1005/1005 [==============================] - 2s 2ms/step - loss: 0.4608 - accuracy: 0.7702\n",
      "Epoch 90/100\n",
      "1005/1005 [==============================] - 2s 2ms/step - loss: 0.4617 - accuracy: 0.7697\n",
      "Epoch 91/100\n",
      "1005/1005 [==============================] - 2s 2ms/step - loss: 0.4611 - accuracy: 0.7689\n",
      "Epoch 92/100\n",
      "1005/1005 [==============================] - 2s 2ms/step - loss: 0.4595 - accuracy: 0.7708\n",
      "Epoch 93/100\n",
      "1005/1005 [==============================] - 2s 2ms/step - loss: 0.4613 - accuracy: 0.7684\n",
      "Epoch 94/100\n",
      "1005/1005 [==============================] - 2s 2ms/step - loss: 0.4602 - accuracy: 0.7689\n",
      "Epoch 95/100\n",
      "1005/1005 [==============================] - 2s 2ms/step - loss: 0.4592 - accuracy: 0.7694\n",
      "Epoch 96/100\n",
      "1005/1005 [==============================] - 2s 2ms/step - loss: 0.4593 - accuracy: 0.7698\n",
      "Epoch 97/100\n",
      "1005/1005 [==============================] - 2s 2ms/step - loss: 0.4602 - accuracy: 0.7702\n",
      "Epoch 98/100\n",
      "1005/1005 [==============================] - 2s 2ms/step - loss: 0.4593 - accuracy: 0.7677\n",
      "Epoch 99/100\n",
      "1005/1005 [==============================] - 2s 2ms/step - loss: 0.4592 - accuracy: 0.7714\n",
      "Epoch 100/100\n",
      "1005/1005 [==============================] - 2s 2ms/step - loss: 0.4591 - accuracy: 0.7701\n"
     ]
    }
   ],
   "source": [
    "\n",
    "tf.random.set_seed(42)\n",
    "\n",
    "\n",
    "\n",
    "model_22 = tf.keras.Sequential([\n",
    "  tf.keras.layers.Dense(18,activation = 'relu'),\n",
    "  tf.keras.layers.Dense(36,activation = 'relu'),\n",
    "  tf.keras.layers.Dense(18,activation = 'relu'),\n",
    "  tf.keras.layers.Dense(9,activation = 'relu'),\n",
    "  tf.keras.layers.Dense(1,activation = 'sigmoid')                            \n",
    "])\n",
    "\n",
    "\n",
    "model_22.compile(loss = 'binary_crossentropy',\n",
    "                optimizer = tf.keras.optimizers.Adam(lr=0.001),\n",
    "                metrics = ['accuracy'])\n",
    "\n",
    "\n",
    "history_2 = model_22.fit(x_train5,y_train5,epochs = 100)"
   ]
  },
  {
   "cell_type": "code",
   "execution_count": 49,
   "metadata": {},
   "outputs": [
    {
     "name": "stdout",
     "output_type": "stream",
     "text": [
      "335/335 [==============================] - 1s 2ms/step - loss: 0.4745 - accuracy: 0.7646\n"
     ]
    },
    {
     "data": {
      "text/plain": [
       "[0.47454845905303955, 0.7646344900131226]"
      ]
     },
     "execution_count": 49,
     "metadata": {},
     "output_type": "execute_result"
    }
   ],
   "source": [
    "model_22.evaluate(x_test5,y_test5)"
   ]
  },
  {
   "cell_type": "code",
   "execution_count": 50,
   "metadata": {},
   "outputs": [
    {
     "name": "stdout",
     "output_type": "stream",
     "text": [
      "1005/1005 [==============================] - 2s 1ms/step\n",
      "335/335 [==============================] - 1s 2ms/step\n",
      "              precision    recall  f1-score   support\n",
      "\n",
      "         0.0       0.72      0.88      0.80     16021\n",
      "         1.0       0.85      0.66      0.75     16110\n",
      "\n",
      "    accuracy                           0.77     32131\n",
      "   macro avg       0.79      0.77      0.77     32131\n",
      "weighted avg       0.79      0.77      0.77     32131\n",
      "\n",
      "              precision    recall  f1-score   support\n",
      "\n",
      "         0.0       0.72      0.88      0.79      5400\n",
      "         1.0       0.84      0.65      0.73      5311\n",
      "\n",
      "    accuracy                           0.76     10711\n",
      "   macro avg       0.78      0.76      0.76     10711\n",
      "weighted avg       0.78      0.76      0.76     10711\n",
      "\n"
     ]
    }
   ],
   "source": [
    "ypred_train22 = model_22.predict(x_train5)\n",
    "y_pred_test22 = model_22.predict(x_test5)\n",
    "\n",
    "y_pred_test22 = (y_pred_test22 > 0.5)\n",
    "ypred_train22 = (ypred_train22 > 0.5)\n",
    "\n",
    "print(classification_report(y_train5,ypred_train22))\n",
    "print(classification_report(y_test5,y_pred_test22))"
   ]
  },
  {
   "cell_type": "code",
   "execution_count": 51,
   "metadata": {},
   "outputs": [
    {
     "name": "stdout",
     "output_type": "stream",
     "text": [
      "335/335 [==============================] - 1s 2ms/step\n"
     ]
    },
    {
     "data": {
      "image/png": "[encoded data removed]",
      "text/plain": [
       "<Figure size 640x480 with 1 Axes>"
      ]
     },
     "metadata": {},
     "output_type": "display_data"
    }
   ],
   "source": [
    "# cross_val_scores = cross_val_score(model_22, x_train5, y_train5, cv=5)\n",
    "# print(\"Cross-validation scores:\", cross_val_scores)\n",
    "# print(\"Average cross-validation score:\", np.mean(cross_val_scores))\n",
    "y_proba_test = model_22.predict(x_test5).flatten()\n",
    "\n",
    "fpr, tpr, thresholds = roc_curve(y_test5, y_proba_test)\n",
    "\n",
    "plt.plot(fpr, tpr, label='ROC Curve')\n",
    "plt.xlabel('False Positive Rate')\n",
    "plt.ylabel('True Positive Rate')\n",
    "plt.title('ROC Curve with AUC = {:.2f}'.format(roc_auc_score(y_test5, y_proba_test)))\n",
    "plt.legend(loc='lower right')\n",
    "plt.grid(True)\n",
    "plt.show()"
   ]
  },
  {
   "cell_type": "markdown",
   "metadata": {},
   "source": [
    "## inny model"
   ]
  },
  {
   "cell_type": "code",
   "execution_count": 52,
   "metadata": {},
   "outputs": [],
   "source": [
    "model2 = Sequential()\n",
    "\n",
    "\n",
    "model2.add(Dense(14,  activation='relu'))\n",
    "model2.add(Dropout(0.2))\n",
    "\n",
    "model2.add(Dense(10, activation='relu'))\n",
    "model2.add(Dropout(0.2))\n",
    "\n",
    "model2.add(Dense(units=1,activation='sigmoid'))\n",
    "\n",
    "model2.compile(loss='binary_crossentropy', optimizer='adam')"
   ]
  },
  {
   "cell_type": "code",
   "execution_count": 53,
   "metadata": {},
   "outputs": [
    {
     "name": "stdout",
     "output_type": "stream",
     "text": [
      "Epoch 1/100\n",
      "1005/1005 [==============================] - 4s 3ms/step - loss: 0.6452 - val_loss: 0.5948\n",
      "Epoch 2/100\n",
      "1005/1005 [==============================] - 3s 3ms/step - loss: 0.6082 - val_loss: 0.5793\n",
      "Epoch 3/100\n",
      "1005/1005 [==============================] - 3s 3ms/step - loss: 0.5932 - val_loss: 0.5664\n",
      "Epoch 4/100\n",
      "1005/1005 [==============================] - 2s 2ms/step - loss: 0.5808 - val_loss: 0.5553\n",
      "Epoch 5/100\n",
      "1005/1005 [==============================] - 2s 2ms/step - loss: 0.5717 - val_loss: 0.5462\n",
      "Epoch 6/100\n",
      "1005/1005 [==============================] - 2s 2ms/step - loss: 0.5647 - val_loss: 0.5442\n",
      "Epoch 7/100\n",
      "1005/1005 [==============================] - 2s 2ms/step - loss: 0.5597 - val_loss: 0.5353\n",
      "Epoch 8/100\n",
      "1005/1005 [==============================] - 2s 2ms/step - loss: 0.5567 - val_loss: 0.5315\n",
      "Epoch 9/100\n",
      "1005/1005 [==============================] - 2s 2ms/step - loss: 0.5519 - val_loss: 0.5306\n",
      "Epoch 10/100\n",
      "1005/1005 [==============================] - 2s 2ms/step - loss: 0.5494 - val_loss: 0.5292\n",
      "Epoch 11/100\n",
      "1005/1005 [==============================] - 2s 2ms/step - loss: 0.5443 - val_loss: 0.5208\n",
      "Epoch 12/100\n",
      "1005/1005 [==============================] - 3s 2ms/step - loss: 0.5432 - val_loss: 0.5197\n",
      "Epoch 13/100\n",
      "1005/1005 [==============================] - 3s 3ms/step - loss: 0.5416 - val_loss: 0.5196\n",
      "Epoch 14/100\n",
      "1005/1005 [==============================] - 3s 3ms/step - loss: 0.5396 - val_loss: 0.5154\n",
      "Epoch 15/100\n",
      "1005/1005 [==============================] - 3s 3ms/step - loss: 0.5389 - val_loss: 0.5156\n",
      "Epoch 16/100\n",
      "1005/1005 [==============================] - 3s 3ms/step - loss: 0.5378 - val_loss: 0.5126\n",
      "Epoch 17/100\n",
      "1005/1005 [==============================] - 3s 3ms/step - loss: 0.5365 - val_loss: 0.5109\n",
      "Epoch 18/100\n",
      "1005/1005 [==============================] - 2s 2ms/step - loss: 0.5355 - val_loss: 0.5106\n",
      "Epoch 19/100\n",
      "1005/1005 [==============================] - 2s 2ms/step - loss: 0.5341 - val_loss: 0.5096\n",
      "Epoch 20/100\n",
      "1005/1005 [==============================] - 2s 2ms/step - loss: 0.5351 - val_loss: 0.5071\n",
      "Epoch 21/100\n",
      "1005/1005 [==============================] - 3s 3ms/step - loss: 0.5343 - val_loss: 0.5122\n",
      "Epoch 22/100\n",
      "1005/1005 [==============================] - 3s 3ms/step - loss: 0.5333 - val_loss: 0.5119\n",
      "Epoch 23/100\n",
      "1005/1005 [==============================] - 3s 3ms/step - loss: 0.5326 - val_loss: 0.5063\n",
      "Epoch 24/100\n",
      "1005/1005 [==============================] - 2s 2ms/step - loss: 0.5312 - val_loss: 0.5070\n",
      "Epoch 25/100\n",
      "1005/1005 [==============================] - 2s 2ms/step - loss: 0.5326 - val_loss: 0.5057\n",
      "Epoch 26/100\n",
      "1005/1005 [==============================] - 2s 2ms/step - loss: 0.5317 - val_loss: 0.5072\n",
      "Epoch 27/100\n",
      "1005/1005 [==============================] - 3s 3ms/step - loss: 0.5304 - val_loss: 0.5067\n",
      "Epoch 28/100\n",
      "1005/1005 [==============================] - 2s 2ms/step - loss: 0.5311 - val_loss: 0.5093\n",
      "Epoch 29/100\n",
      "1005/1005 [==============================] - 2s 2ms/step - loss: 0.5293 - val_loss: 0.5049\n",
      "Epoch 30/100\n",
      "1005/1005 [==============================] - 2s 2ms/step - loss: 0.5295 - val_loss: 0.5046\n",
      "Epoch 31/100\n",
      "1005/1005 [==============================] - 2s 2ms/step - loss: 0.5301 - val_loss: 0.5051\n",
      "Epoch 32/100\n",
      "1005/1005 [==============================] - 2s 2ms/step - loss: 0.5277 - val_loss: 0.5035\n",
      "Epoch 33/100\n",
      "1005/1005 [==============================] - 2s 2ms/step - loss: 0.5290 - val_loss: 0.5029\n",
      "Epoch 34/100\n",
      "1005/1005 [==============================] - 2s 2ms/step - loss: 0.5299 - val_loss: 0.5036\n",
      "Epoch 35/100\n",
      "1005/1005 [==============================] - 2s 2ms/step - loss: 0.5304 - val_loss: 0.5050\n",
      "Epoch 36/100\n",
      "1005/1005 [==============================] - 2s 2ms/step - loss: 0.5277 - val_loss: 0.5040\n",
      "Epoch 37/100\n",
      "1005/1005 [==============================] - 2s 2ms/step - loss: 0.5280 - val_loss: 0.5018\n",
      "Epoch 38/100\n",
      "1005/1005 [==============================] - 3s 3ms/step - loss: 0.5311 - val_loss: 0.5037\n",
      "Epoch 39/100\n",
      "1005/1005 [==============================] - 2s 2ms/step - loss: 0.5266 - val_loss: 0.5050\n",
      "Epoch 40/100\n",
      "1005/1005 [==============================] - 2s 2ms/step - loss: 0.5281 - val_loss: 0.5044\n",
      "Epoch 41/100\n",
      "1005/1005 [==============================] - 2s 2ms/step - loss: 0.5256 - val_loss: 0.5047\n",
      "Epoch 42/100\n",
      "1005/1005 [==============================] - 2s 2ms/step - loss: 0.5304 - val_loss: 0.5072\n",
      "Epoch 43/100\n",
      "1005/1005 [==============================] - 3s 3ms/step - loss: 0.5268 - val_loss: 0.5054\n",
      "Epoch 44/100\n",
      "1005/1005 [==============================] - 3s 3ms/step - loss: 0.5288 - val_loss: 0.5061\n",
      "Epoch 45/100\n",
      "1005/1005 [==============================] - 2s 2ms/step - loss: 0.5284 - val_loss: 0.5047\n",
      "Epoch 46/100\n",
      "1005/1005 [==============================] - 3s 3ms/step - loss: 0.5277 - val_loss: 0.5004\n",
      "Epoch 47/100\n",
      "1005/1005 [==============================] - 3s 3ms/step - loss: 0.5260 - val_loss: 0.5032\n",
      "Epoch 48/100\n",
      "1005/1005 [==============================] - 3s 3ms/step - loss: 0.5269 - val_loss: 0.5061\n",
      "Epoch 49/100\n",
      "1005/1005 [==============================] - 3s 3ms/step - loss: 0.5265 - val_loss: 0.5013\n",
      "Epoch 50/100\n",
      "1005/1005 [==============================] - 2s 2ms/step - loss: 0.5259 - val_loss: 0.5028\n",
      "Epoch 51/100\n",
      "1005/1005 [==============================] - 2s 2ms/step - loss: 0.5242 - val_loss: 0.5010\n",
      "Epoch 52/100\n",
      "1005/1005 [==============================] - 2s 2ms/step - loss: 0.5273 - val_loss: 0.5059\n",
      "Epoch 53/100\n",
      "1005/1005 [==============================] - 2s 2ms/step - loss: 0.5260 - val_loss: 0.5016\n",
      "Epoch 54/100\n",
      "1005/1005 [==============================] - 3s 3ms/step - loss: 0.5281 - val_loss: 0.5028\n",
      "Epoch 55/100\n",
      "1005/1005 [==============================] - 3s 3ms/step - loss: 0.5268 - val_loss: 0.5026\n",
      "Epoch 56/100\n",
      "1005/1005 [==============================] - 3s 3ms/step - loss: 0.5262 - val_loss: 0.5032\n",
      "Epoch 57/100\n",
      "1005/1005 [==============================] - 3s 3ms/step - loss: 0.5261 - val_loss: 0.5011\n",
      "Epoch 58/100\n",
      "1005/1005 [==============================] - 3s 3ms/step - loss: 0.5277 - val_loss: 0.5024\n",
      "Epoch 59/100\n",
      "1005/1005 [==============================] - 2s 2ms/step - loss: 0.5239 - val_loss: 0.5019\n",
      "Epoch 60/100\n",
      "1005/1005 [==============================] - 3s 3ms/step - loss: 0.5230 - val_loss: 0.4997\n",
      "Epoch 61/100\n",
      "1005/1005 [==============================] - 2s 2ms/step - loss: 0.5243 - val_loss: 0.5002\n",
      "Epoch 62/100\n",
      "1005/1005 [==============================] - 3s 3ms/step - loss: 0.5250 - val_loss: 0.5002\n",
      "Epoch 63/100\n",
      "1005/1005 [==============================] - 3s 3ms/step - loss: 0.5241 - val_loss: 0.5005\n",
      "Epoch 64/100\n",
      "1005/1005 [==============================] - 2s 2ms/step - loss: 0.5247 - val_loss: 0.5001\n",
      "Epoch 65/100\n",
      "1005/1005 [==============================] - 2s 2ms/step - loss: 0.5238 - val_loss: 0.5008\n",
      "Epoch 66/100\n",
      "1005/1005 [==============================] - 2s 2ms/step - loss: 0.5257 - val_loss: 0.4997\n",
      "Epoch 67/100\n",
      "1005/1005 [==============================] - 3s 2ms/step - loss: 0.5243 - val_loss: 0.5012\n",
      "Epoch 68/100\n",
      "1005/1005 [==============================] - 3s 3ms/step - loss: 0.5222 - val_loss: 0.5009\n",
      "Epoch 69/100\n",
      "1005/1005 [==============================] - 2s 2ms/step - loss: 0.5231 - val_loss: 0.4999\n",
      "Epoch 70/100\n",
      "1005/1005 [==============================] - 2s 2ms/step - loss: 0.5247 - val_loss: 0.4990\n",
      "Epoch 71/100\n",
      "1005/1005 [==============================] - 2s 2ms/step - loss: 0.5248 - val_loss: 0.5015\n",
      "Epoch 72/100\n",
      "1005/1005 [==============================] - 2s 2ms/step - loss: 0.5219 - val_loss: 0.5013\n",
      "Epoch 73/100\n",
      "1005/1005 [==============================] - 3s 3ms/step - loss: 0.5252 - val_loss: 0.4997\n",
      "Epoch 74/100\n",
      "1005/1005 [==============================] - 3s 3ms/step - loss: 0.5233 - val_loss: 0.5029\n",
      "Epoch 75/100\n",
      "1005/1005 [==============================] - 2s 2ms/step - loss: 0.5232 - val_loss: 0.4977\n",
      "Epoch 76/100\n",
      "1005/1005 [==============================] - 3s 2ms/step - loss: 0.5233 - val_loss: 0.4989\n",
      "Epoch 77/100\n",
      "1005/1005 [==============================] - 2s 2ms/step - loss: 0.5234 - val_loss: 0.5014\n",
      "Epoch 78/100\n",
      "1005/1005 [==============================] - 3s 3ms/step - loss: 0.5234 - val_loss: 0.4981\n",
      "Epoch 79/100\n",
      "1005/1005 [==============================] - 3s 3ms/step - loss: 0.5231 - val_loss: 0.5004\n",
      "Epoch 80/100\n",
      "1005/1005 [==============================] - 3s 3ms/step - loss: 0.5215 - val_loss: 0.5009\n",
      "Epoch 81/100\n",
      "1005/1005 [==============================] - 3s 3ms/step - loss: 0.5222 - val_loss: 0.4990\n",
      "Epoch 82/100\n",
      "1005/1005 [==============================] - 3s 3ms/step - loss: 0.5222 - val_loss: 0.4970\n",
      "Epoch 83/100\n",
      "1005/1005 [==============================] - 3s 3ms/step - loss: 0.5222 - val_loss: 0.4992\n",
      "Epoch 84/100\n",
      "1005/1005 [==============================] - 3s 2ms/step - loss: 0.5229 - val_loss: 0.5006\n",
      "Epoch 85/100\n",
      "1005/1005 [==============================] - 3s 3ms/step - loss: 0.5206 - val_loss: 0.4962\n",
      "Epoch 86/100\n",
      "1005/1005 [==============================] - 3s 3ms/step - loss: 0.5224 - val_loss: 0.4973\n",
      "Epoch 87/100\n",
      "1005/1005 [==============================] - 3s 3ms/step - loss: 0.5207 - val_loss: 0.4957\n",
      "Epoch 88/100\n",
      "1005/1005 [==============================] - 2s 2ms/step - loss: 0.5225 - val_loss: 0.5004\n",
      "Epoch 89/100\n",
      "1005/1005 [==============================] - 2s 2ms/step - loss: 0.5218 - val_loss: 0.4962\n",
      "Epoch 90/100\n",
      "1005/1005 [==============================] - 2s 2ms/step - loss: 0.5216 - val_loss: 0.4977\n",
      "Epoch 91/100\n",
      "1005/1005 [==============================] - 2s 2ms/step - loss: 0.5236 - val_loss: 0.5028\n",
      "Epoch 92/100\n",
      "1005/1005 [==============================] - 2s 2ms/step - loss: 0.5217 - val_loss: 0.4956\n",
      "Epoch 93/100\n",
      "1005/1005 [==============================] - 2s 2ms/step - loss: 0.5218 - val_loss: 0.5018\n",
      "Epoch 94/100\n",
      "1005/1005 [==============================] - 2s 2ms/step - loss: 0.5219 - val_loss: 0.4968\n",
      "Epoch 95/100\n",
      "1005/1005 [==============================] - 3s 3ms/step - loss: 0.5222 - val_loss: 0.4975\n",
      "Epoch 96/100\n",
      "1005/1005 [==============================] - 3s 3ms/step - loss: 0.5210 - val_loss: 0.4971\n",
      "Epoch 97/100\n",
      "1005/1005 [==============================] - 3s 3ms/step - loss: 0.5216 - val_loss: 0.4973\n",
      "Epoch 98/100\n",
      "1005/1005 [==============================] - 3s 3ms/step - loss: 0.5214 - val_loss: 0.4963\n",
      "Epoch 99/100\n",
      "1005/1005 [==============================] - 3s 3ms/step - loss: 0.5209 - val_loss: 0.4963\n",
      "Epoch 100/100\n",
      "1005/1005 [==============================] - 2s 2ms/step - loss: 0.5215 - val_loss: 0.4986\n"
     ]
    },
    {
     "data": {
      "text/plain": [
       "<keras.src.callbacks.History at 0x1e494c70ad0>"
      ]
     },
     "execution_count": 53,
     "metadata": {},
     "output_type": "execute_result"
    }
   ],
   "source": [
    "model2.fit(x=x_train5, \n",
    "          y=y_train5, \n",
    "          epochs=100,\n",
    "          validation_data=(x_test5, y_test5), verbose=1,\n",
    "          callbacks=[early_stop]\n",
    "          )"
   ]
  },
  {
   "cell_type": "code",
   "execution_count": 54,
   "metadata": {},
   "outputs": [
    {
     "name": "stdout",
     "output_type": "stream",
     "text": [
      "1005/1005 [==============================] - 1s 1ms/step\n",
      "335/335 [==============================] - 0s 1ms/step\n",
      "Training Results\n",
      "\n",
      "              precision    recall  f1-score   support\n",
      "\n",
      "         0.0       0.71      0.85      0.77     16021\n",
      "         1.0       0.81      0.65      0.72     16110\n",
      "\n",
      "    accuracy                           0.75     32131\n",
      "   macro avg       0.76      0.75      0.75     32131\n",
      "weighted avg       0.76      0.75      0.74     32131\n",
      "\n",
      "Testing Results\n",
      "\n",
      "              precision    recall  f1-score   support\n",
      "\n",
      "         0.0       0.71      0.85      0.77      5400\n",
      "         1.0       0.81      0.65      0.72      5311\n",
      "\n",
      "    accuracy                           0.75     10711\n",
      "   macro avg       0.76      0.75      0.75     10711\n",
      "weighted avg       0.76      0.75      0.75     10711\n",
      "\n"
     ]
    }
   ],
   "source": [
    "ypred_train14 = model2.predict(x_train5)\n",
    "y_pred_test14 = model2.predict(x_test5)\n",
    "\n",
    "y_pred_test14 = (y_pred_test14 > 0.5)\n",
    "ypred_train14 = (ypred_train14 > 0.5)\n",
    "\n",
    "print(\"Training Results\\n\")\n",
    "print(classification_report(y_train5,ypred_train14))\n",
    "print(\"Testing Results\\n\")\n",
    "print(classification_report(y_test5,y_pred_test14))"
   ]
  },
  {
   "cell_type": "code",
   "execution_count": 55,
   "metadata": {},
   "outputs": [
    {
     "name": "stdout",
     "output_type": "stream",
     "text": [
      "335/335 [==============================] - 1s 1ms/step\n"
     ]
    },
    {
     "data": {
      "image/png": "[encoded data removed]",
      "text/plain": [
       "<Figure size 640x480 with 1 Axes>"
      ]
     },
     "metadata": {},
     "output_type": "display_data"
    }
   ],
   "source": [
    "# cross_val_scores = cross_val_score(model2, x_train5, y_train5, cv=5)\n",
    "# print(\"Cross-validation scores:\", cross_val_scores)\n",
    "# print(\"Average cross-validation score:\", np.mean(cross_val_scores))\n",
    "y_proba_test = model2.predict(x_test5).flatten()\n",
    "\n",
    "fpr, tpr, thresholds = roc_curve(y_test5, y_proba_test)\n",
    "\n",
    "plt.plot(fpr, tpr, label='ROC Curve')\n",
    "plt.xlabel('False Positive Rate')\n",
    "plt.ylabel('True Positive Rate')\n",
    "plt.title('ROC Curve with AUC = {:.2f}'.format(roc_auc_score(y_test5, y_proba_test)))\n",
    "plt.legend(loc='lower right')\n",
    "plt.grid(True)\n",
    "plt.show()"
   ]
  },
  {
   "cell_type": "markdown",
   "metadata": {},
   "source": [
    "## SVC"
   ]
  },
  {
   "cell_type": "code",
   "execution_count": 56,
   "metadata": {},
   "outputs": [],
   "source": [
    "model = SVC(probability=True)"
   ]
  },
  {
   "cell_type": "code",
   "execution_count": 57,
   "metadata": {},
   "outputs": [
    {
     "data": {
      "text/html": [
       "<style>#sk-container-id-4 {color: black;}#sk-container-id-4 pre{padding: 0;}#sk-container-id-4 div.sk-toggleable {background-color: white;}#sk-container-id-4 label.sk-toggleable__label {cursor: pointer;display: block;width: 100%;margin-bottom: 0;padding: 0.3em;box-sizing: border-box;text-align: center;}#sk-container-id-4 label.sk-toggleable__label-arrow:before {content: \"▸\";float: left;margin-right: 0.25em;color: #696969;}#sk-container-id-4 label.sk-toggleable__label-arrow:hover:before {color: black;}#sk-container-id-4 div.sk-estimator:hover label.sk-toggleable__label-arrow:before {color: black;}#sk-container-id-4 div.sk-toggleable__content {max-height: 0;max-width: 0;overflow: hidden;text-align: left;background-color: #f0f8ff;}#sk-container-id-4 div.sk-toggleable__content pre {margin: 0.2em;color: black;border-radius: 0.25em;background-color: #f0f8ff;}#sk-container-id-4 input.sk-toggleable__control:checked~div.sk-toggleable__content {max-height: 200px;max-width: 100%;overflow: auto;}#sk-container-id-4 input.sk-toggleable__control:checked~label.sk-toggleable__label-arrow:before {content: \"▾\";}#sk-container-id-4 div.sk-estimator input.sk-toggleable__control:checked~label.sk-toggleable__label {background-color: #d4ebff;}#sk-container-id-4 div.sk-label input.sk-toggleable__control:checked~label.sk-toggleable__label {background-color: #d4ebff;}#sk-container-id-4 input.sk-hidden--visually {border: 0;clip: rect(1px 1px 1px 1px);clip: rect(1px, 1px, 1px, 1px);height: 1px;margin: -1px;overflow: hidden;padding: 0;position: absolute;width: 1px;}#sk-container-id-4 div.sk-estimator {font-family: monospace;background-color: #f0f8ff;border: 1px dotted black;border-radius: 0.25em;box-sizing: border-box;margin-bottom: 0.5em;}#sk-container-id-4 div.sk-estimator:hover {background-color: #d4ebff;}#sk-container-id-4 div.sk-parallel-item::after {content: \"\";width: 100%;border-bottom: 1px solid gray;flex-grow: 1;}#sk-container-id-4 div.sk-label:hover label.sk-toggleable__label {background-color: #d4ebff;}#sk-container-id-4 div.sk-serial::before {content: \"\";position: absolute;border-left: 1px solid gray;box-sizing: border-box;top: 0;bottom: 0;left: 50%;z-index: 0;}#sk-container-id-4 div.sk-serial {display: flex;flex-direction: column;align-items: center;background-color: white;padding-right: 0.2em;padding-left: 0.2em;position: relative;}#sk-container-id-4 div.sk-item {position: relative;z-index: 1;}#sk-container-id-4 div.sk-parallel {display: flex;align-items: stretch;justify-content: center;background-color: white;position: relative;}#sk-container-id-4 div.sk-item::before, #sk-container-id-4 div.sk-parallel-item::before {content: \"\";position: absolute;border-left: 1px solid gray;box-sizing: border-box;top: 0;bottom: 0;left: 50%;z-index: -1;}#sk-container-id-4 div.sk-parallel-item {display: flex;flex-direction: column;z-index: 1;position: relative;background-color: white;}#sk-container-id-4 div.sk-parallel-item:first-child::after {align-self: flex-end;width: 50%;}#sk-container-id-4 div.sk-parallel-item:last-child::after {align-self: flex-start;width: 50%;}#sk-container-id-4 div.sk-parallel-item:only-child::after {width: 0;}#sk-container-id-4 div.sk-dashed-wrapped {border: 1px dashed gray;margin: 0 0.4em 0.5em 0.4em;box-sizing: border-box;padding-bottom: 0.4em;background-color: white;}#sk-container-id-4 div.sk-label label {font-family: monospace;font-weight: bold;display: inline-block;line-height: 1.2em;}#sk-container-id-4 div.sk-label-container {text-align: center;}#sk-container-id-4 div.sk-container {/* jupyter's `normalize.less` sets `[hidden] { display: none; }` but bootstrap.min.css set `[hidden] { display: none !important; }` so we also need the `!important` here to be able to override the default hidden behavior on the sphinx rendered scikit-learn.org. See: https://github.com/scikit-learn/scikit-learn/issues/21755 */display: inline-block !important;position: relative;}#sk-container-id-4 div.sk-text-repr-fallback {display: none;}</style><div id=\"sk-container-id-4\" class=\"sk-top-container\"><div class=\"sk-text-repr-fallback\"><pre>SVC(probability=True)</pre><b>In a Jupyter environment, please rerun this cell to show the HTML representation or trust the notebook. <br />On GitHub, the HTML representation is unable to render, please try loading this page with nbviewer.org.</b></div><div class=\"sk-container\" hidden><div class=\"sk-item\"><div class=\"sk-estimator sk-toggleable\"><input class=\"sk-toggleable__control sk-hidden--visually\" id=\"sk-estimator-id-6\" type=\"checkbox\" checked><label for=\"sk-estimator-id-6\" class=\"sk-toggleable__label sk-toggleable__label-arrow\">SVC</label><div class=\"sk-toggleable__content\"><pre>SVC(probability=True)</pre></div></div></div></div></div>"
      ],
      "text/plain": [
       "SVC(probability=True)"
      ]
     },
     "execution_count": 57,
     "metadata": {},
     "output_type": "execute_result"
    }
   ],
   "source": [
    "model.fit(x_train5,y_train5)"
   ]
  },
  {
   "cell_type": "code",
   "execution_count": 58,
   "metadata": {},
   "outputs": [
    {
     "name": "stdout",
     "output_type": "stream",
     "text": [
      "              precision    recall  f1-score   support\n",
      "\n",
      "         0.0       0.70      0.84      0.76     16021\n",
      "         1.0       0.80      0.64      0.71     16110\n",
      "\n",
      "    accuracy                           0.74     32131\n",
      "   macro avg       0.75      0.74      0.73     32131\n",
      "weighted avg       0.75      0.74      0.73     32131\n",
      "\n",
      "              precision    recall  f1-score   support\n",
      "\n",
      "         0.0       0.70      0.84      0.76      5400\n",
      "         1.0       0.80      0.63      0.70      5311\n",
      "\n",
      "    accuracy                           0.74     10711\n",
      "   macro avg       0.75      0.74      0.73     10711\n",
      "weighted avg       0.75      0.74      0.73     10711\n",
      "\n"
     ]
    }
   ],
   "source": [
    "\n",
    "\n",
    "ypred_train = model.predict(x_train5)\n",
    "y_pred_test = model.predict(x_test5)\n",
    "\n",
    "\n",
    "print(classification_report(y_train5,ypred_train))\n",
    "print(classification_report(y_test5,y_pred_test))"
   ]
  },
  {
   "cell_type": "code",
   "execution_count": 59,
   "metadata": {},
   "outputs": [],
   "source": [
    "param_grid = {'C': [0.1,1, 10, 100, 1000], 'gamma': [1,0.1,0.01,0.001,0.0001], 'kernel': ['rbf']} "
   ]
  },
  {
   "cell_type": "code",
   "execution_count": 60,
   "metadata": {},
   "outputs": [],
   "source": [
    "grid = GridSearchCV(SVC(),param_grid,refit=True,verbose=3)"
   ]
  },
  {
   "cell_type": "code",
   "execution_count": 61,
   "metadata": {},
   "outputs": [
    {
     "name": "stdout",
     "output_type": "stream",
     "text": [
      "Fitting 5 folds for each of 25 candidates, totalling 125 fits\n",
      "[CV 1/5] END ........C=0.1, gamma=1, kernel=rbf;, score=0.710 total time=  31.5s\n",
      "[CV 2/5] END ........C=0.1, gamma=1, kernel=rbf;, score=0.712 total time=  31.0s\n",
      "[CV 3/5] END ........C=0.1, gamma=1, kernel=rbf;, score=0.710 total time=  31.2s\n",
      "[CV 4/5] END ........C=0.1, gamma=1, kernel=rbf;, score=0.707 total time=  31.4s\n",
      "[CV 5/5] END ........C=0.1, gamma=1, kernel=rbf;, score=0.711 total time=  31.3s\n",
      "[CV 1/5] END ......C=0.1, gamma=0.1, kernel=rbf;, score=0.691 total time=  33.0s\n",
      "[CV 2/5] END ......C=0.1, gamma=0.1, kernel=rbf;, score=0.685 total time=  33.1s\n",
      "[CV 3/5] END ......C=0.1, gamma=0.1, kernel=rbf;, score=0.679 total time=  33.8s\n",
      "[CV 4/5] END ......C=0.1, gamma=0.1, kernel=rbf;, score=0.681 total time=  30.3s\n",
      "[CV 5/5] END ......C=0.1, gamma=0.1, kernel=rbf;, score=0.683 total time=  30.4s\n",
      "[CV 1/5] END .....C=0.1, gamma=0.01, kernel=rbf;, score=0.674 total time=  34.1s\n",
      "[CV 2/5] END .....C=0.1, gamma=0.01, kernel=rbf;, score=0.675 total time=  32.7s\n",
      "[CV 3/5] END .....C=0.1, gamma=0.01, kernel=rbf;, score=0.673 total time=  45.9s\n",
      "[CV 4/5] END .....C=0.1, gamma=0.01, kernel=rbf;, score=0.666 total time=  44.6s\n",
      "[CV 5/5] END .....C=0.1, gamma=0.01, kernel=rbf;, score=0.669 total time=  43.6s\n",
      "[CV 1/5] END ....C=0.1, gamma=0.001, kernel=rbf;, score=0.658 total time=  50.6s\n",
      "[CV 2/5] END ....C=0.1, gamma=0.001, kernel=rbf;, score=0.652 total time=  51.0s\n",
      "[CV 3/5] END ....C=0.1, gamma=0.001, kernel=rbf;, score=0.650 total time=  52.7s\n",
      "[CV 4/5] END ....C=0.1, gamma=0.001, kernel=rbf;, score=0.649 total time=  50.7s\n",
      "[CV 5/5] END ....C=0.1, gamma=0.001, kernel=rbf;, score=0.645 total time=  51.8s\n",
      "[CV 1/5] END ...C=0.1, gamma=0.0001, kernel=rbf;, score=0.501 total time=  51.7s\n",
      "[CV 2/5] END ...C=0.1, gamma=0.0001, kernel=rbf;, score=0.501 total time=  51.2s\n",
      "[CV 3/5] END ...C=0.1, gamma=0.0001, kernel=rbf;, score=0.501 total time=  50.7s\n",
      "[CV 4/5] END ...C=0.1, gamma=0.0001, kernel=rbf;, score=0.501 total time=  50.9s\n",
      "[CV 5/5] END ...C=0.1, gamma=0.0001, kernel=rbf;, score=0.501 total time=  50.3s\n",
      "[CV 1/5] END ..........C=1, gamma=1, kernel=rbf;, score=0.731 total time=  35.5s\n",
      "[CV 2/5] END ..........C=1, gamma=1, kernel=rbf;, score=0.727 total time=  34.6s\n",
      "[CV 3/5] END ..........C=1, gamma=1, kernel=rbf;, score=0.728 total time=  35.2s\n",
      "[CV 4/5] END ..........C=1, gamma=1, kernel=rbf;, score=0.728 total time=  35.3s\n",
      "[CV 5/5] END ..........C=1, gamma=1, kernel=rbf;, score=0.732 total time=  28.6s\n",
      "[CV 1/5] END ........C=1, gamma=0.1, kernel=rbf;, score=0.715 total time=  26.9s\n",
      "[CV 2/5] END ........C=1, gamma=0.1, kernel=rbf;, score=0.715 total time=  26.7s\n",
      "[CV 3/5] END ........C=1, gamma=0.1, kernel=rbf;, score=0.706 total time=  26.6s\n",
      "[CV 4/5] END ........C=1, gamma=0.1, kernel=rbf;, score=0.712 total time=  26.7s\n",
      "[CV 5/5] END ........C=1, gamma=0.1, kernel=rbf;, score=0.715 total time=  26.8s\n",
      "[CV 1/5] END .......C=1, gamma=0.01, kernel=rbf;, score=0.673 total time=  29.9s\n",
      "[CV 2/5] END .......C=1, gamma=0.01, kernel=rbf;, score=0.671 total time=  31.5s\n",
      "[CV 3/5] END .......C=1, gamma=0.01, kernel=rbf;, score=0.667 total time=  30.3s\n",
      "[CV 4/5] END .......C=1, gamma=0.01, kernel=rbf;, score=0.666 total time=  30.4s\n",
      "[CV 5/5] END .......C=1, gamma=0.01, kernel=rbf;, score=0.665 total time=  30.8s\n",
      "[CV 1/5] END ......C=1, gamma=0.001, kernel=rbf;, score=0.674 total time=  47.7s\n",
      "[CV 2/5] END ......C=1, gamma=0.001, kernel=rbf;, score=0.675 total time=  49.1s\n",
      "[CV 3/5] END ......C=1, gamma=0.001, kernel=rbf;, score=0.672 total time=  33.7s\n",
      "[CV 4/5] END ......C=1, gamma=0.001, kernel=rbf;, score=0.665 total time=  26.0s\n",
      "[CV 5/5] END ......C=1, gamma=0.001, kernel=rbf;, score=0.670 total time=  25.8s\n",
      "[CV 1/5] END .....C=1, gamma=0.0001, kernel=rbf;, score=0.658 total time=  28.6s\n",
      "[CV 2/5] END .....C=1, gamma=0.0001, kernel=rbf;, score=0.652 total time=  35.5s\n",
      "[CV 3/5] END .....C=1, gamma=0.0001, kernel=rbf;, score=0.650 total time=  26.7s\n",
      "[CV 4/5] END .....C=1, gamma=0.0001, kernel=rbf;, score=0.649 total time=  28.8s\n",
      "[CV 5/5] END .....C=1, gamma=0.0001, kernel=rbf;, score=0.645 total time=  27.2s\n",
      "[CV 1/5] END .........C=10, gamma=1, kernel=rbf;, score=0.738 total time=  20.8s\n",
      "[CV 2/5] END .........C=10, gamma=1, kernel=rbf;, score=0.737 total time=  21.2s\n",
      "[CV 3/5] END .........C=10, gamma=1, kernel=rbf;, score=0.742 total time=  18.8s\n",
      "[CV 4/5] END .........C=10, gamma=1, kernel=rbf;, score=0.736 total time=  22.7s\n",
      "[CV 5/5] END .........C=10, gamma=1, kernel=rbf;, score=0.741 total time=  23.7s\n",
      "[CV 1/5] END .......C=10, gamma=0.1, kernel=rbf;, score=0.738 total time=  21.5s\n",
      "[CV 2/5] END .......C=10, gamma=0.1, kernel=rbf;, score=0.733 total time=  22.1s\n",
      "[CV 3/5] END .......C=10, gamma=0.1, kernel=rbf;, score=0.733 total time=  24.0s\n",
      "[CV 4/5] END .......C=10, gamma=0.1, kernel=rbf;, score=0.736 total time=  22.4s\n",
      "[CV 5/5] END .......C=10, gamma=0.1, kernel=rbf;, score=0.737 total time=  22.9s\n",
      "[CV 1/5] END ......C=10, gamma=0.01, kernel=rbf;, score=0.693 total time=  25.6s\n",
      "[CV 2/5] END ......C=10, gamma=0.01, kernel=rbf;, score=0.687 total time=  25.6s\n",
      "[CV 3/5] END ......C=10, gamma=0.01, kernel=rbf;, score=0.683 total time=  23.1s\n",
      "[CV 4/5] END ......C=10, gamma=0.01, kernel=rbf;, score=0.684 total time=  18.8s\n",
      "[CV 5/5] END ......C=10, gamma=0.01, kernel=rbf;, score=0.689 total time=  20.4s\n",
      "[CV 1/5] END .....C=10, gamma=0.001, kernel=rbf;, score=0.671 total time=  17.6s\n",
      "[CV 2/5] END .....C=10, gamma=0.001, kernel=rbf;, score=0.668 total time=  16.0s\n",
      "[CV 3/5] END .....C=10, gamma=0.001, kernel=rbf;, score=0.666 total time=  16.2s\n",
      "[CV 4/5] END .....C=10, gamma=0.001, kernel=rbf;, score=0.662 total time=  16.2s\n",
      "[CV 5/5] END .....C=10, gamma=0.001, kernel=rbf;, score=0.664 total time=  16.2s\n",
      "[CV 1/5] END ....C=10, gamma=0.0001, kernel=rbf;, score=0.674 total time=  17.9s\n",
      "[CV 2/5] END ....C=10, gamma=0.0001, kernel=rbf;, score=0.675 total time=  17.6s\n",
      "[CV 3/5] END ....C=10, gamma=0.0001, kernel=rbf;, score=0.672 total time=  17.3s\n",
      "[CV 4/5] END ....C=10, gamma=0.0001, kernel=rbf;, score=0.665 total time=  17.5s\n",
      "[CV 5/5] END ....C=10, gamma=0.0001, kernel=rbf;, score=0.670 total time=  18.9s\n",
      "[CV 1/5] END ........C=100, gamma=1, kernel=rbf;, score=0.743 total time=  28.8s\n",
      "[CV 2/5] END ........C=100, gamma=1, kernel=rbf;, score=0.736 total time=  27.7s\n",
      "[CV 3/5] END ........C=100, gamma=1, kernel=rbf;, score=0.737 total time=  27.7s\n",
      "[CV 4/5] END ........C=100, gamma=1, kernel=rbf;, score=0.734 total time=  27.7s\n",
      "[CV 5/5] END ........C=100, gamma=1, kernel=rbf;, score=0.738 total time=  27.7s\n",
      "[CV 1/5] END ......C=100, gamma=0.1, kernel=rbf;, score=0.750 total time=  17.3s\n",
      "[CV 2/5] END ......C=100, gamma=0.1, kernel=rbf;, score=0.747 total time=  17.1s\n",
      "[CV 3/5] END ......C=100, gamma=0.1, kernel=rbf;, score=0.746 total time=  16.2s\n",
      "[CV 4/5] END ......C=100, gamma=0.1, kernel=rbf;, score=0.748 total time=  22.7s\n",
      "[CV 5/5] END ......C=100, gamma=0.1, kernel=rbf;, score=0.751 total time=  31.6s\n",
      "[CV 1/5] END .....C=100, gamma=0.01, kernel=rbf;, score=0.721 total time=  31.4s\n",
      "[CV 2/5] END .....C=100, gamma=0.01, kernel=rbf;, score=0.717 total time=  29.3s\n",
      "[CV 3/5] END .....C=100, gamma=0.01, kernel=rbf;, score=0.711 total time=  16.5s\n",
      "[CV 4/5] END .....C=100, gamma=0.01, kernel=rbf;, score=0.716 total time=  16.5s\n",
      "[CV 5/5] END .....C=100, gamma=0.01, kernel=rbf;, score=0.720 total time=  16.5s\n",
      "[CV 1/5] END ....C=100, gamma=0.001, kernel=rbf;, score=0.674 total time=  17.4s\n",
      "[CV 2/5] END ....C=100, gamma=0.001, kernel=rbf;, score=0.672 total time=  17.4s\n",
      "[CV 3/5] END ....C=100, gamma=0.001, kernel=rbf;, score=0.669 total time=  17.2s\n",
      "[CV 4/5] END ....C=100, gamma=0.001, kernel=rbf;, score=0.667 total time=  17.1s\n",
      "[CV 5/5] END ....C=100, gamma=0.001, kernel=rbf;, score=0.668 total time=  17.1s\n",
      "[CV 1/5] END ...C=100, gamma=0.0001, kernel=rbf;, score=0.670 total time=  17.8s\n",
      "[CV 2/5] END ...C=100, gamma=0.0001, kernel=rbf;, score=0.668 total time=  17.6s\n",
      "[CV 3/5] END ...C=100, gamma=0.0001, kernel=rbf;, score=0.665 total time=  17.4s\n",
      "[CV 4/5] END ...C=100, gamma=0.0001, kernel=rbf;, score=0.662 total time=  17.5s\n",
      "[CV 5/5] END ...C=100, gamma=0.0001, kernel=rbf;, score=0.664 total time=  17.9s\n",
      "[CV 1/5] END .......C=1000, gamma=1, kernel=rbf;, score=0.731 total time= 2.2min\n",
      "[CV 2/5] END .......C=1000, gamma=1, kernel=rbf;, score=0.725 total time= 1.9min\n",
      "[CV 3/5] END .......C=1000, gamma=1, kernel=rbf;, score=0.730 total time= 2.1min\n",
      "[CV 4/5] END .......C=1000, gamma=1, kernel=rbf;, score=0.732 total time= 2.8min\n",
      "[CV 5/5] END .......C=1000, gamma=1, kernel=rbf;, score=0.730 total time= 2.2min\n",
      "[CV 1/5] END .....C=1000, gamma=0.1, kernel=rbf;, score=0.751 total time=  31.7s\n",
      "[CV 2/5] END .....C=1000, gamma=0.1, kernel=rbf;, score=0.751 total time=  31.6s\n",
      "[CV 3/5] END .....C=1000, gamma=0.1, kernel=rbf;, score=0.753 total time=  33.6s\n",
      "[CV 4/5] END .....C=1000, gamma=0.1, kernel=rbf;, score=0.754 total time=  32.5s\n",
      "[CV 5/5] END .....C=1000, gamma=0.1, kernel=rbf;, score=0.757 total time=  32.1s\n",
      "[CV 1/5] END ....C=1000, gamma=0.01, kernel=rbf;, score=0.742 total time=  18.8s\n",
      "[CV 2/5] END ....C=1000, gamma=0.01, kernel=rbf;, score=0.733 total time=  17.6s\n",
      "[CV 3/5] END ....C=1000, gamma=0.01, kernel=rbf;, score=0.731 total time=  17.3s\n",
      "[CV 4/5] END ....C=1000, gamma=0.01, kernel=rbf;, score=0.736 total time=  17.2s\n",
      "[CV 5/5] END ....C=1000, gamma=0.01, kernel=rbf;, score=0.736 total time=  18.5s\n",
      "[CV 1/5] END ...C=1000, gamma=0.001, kernel=rbf;, score=0.694 total time=  17.5s\n",
      "[CV 2/5] END ...C=1000, gamma=0.001, kernel=rbf;, score=0.688 total time=  17.0s\n",
      "[CV 3/5] END ...C=1000, gamma=0.001, kernel=rbf;, score=0.683 total time=  17.2s\n",
      "[CV 4/5] END ...C=1000, gamma=0.001, kernel=rbf;, score=0.684 total time=  17.0s\n",
      "[CV 5/5] END ...C=1000, gamma=0.001, kernel=rbf;, score=0.690 total time=  16.8s\n",
      "[CV 1/5] END ..C=1000, gamma=0.0001, kernel=rbf;, score=0.671 total time=  16.1s\n",
      "[CV 2/5] END ..C=1000, gamma=0.0001, kernel=rbf;, score=0.670 total time=  16.3s\n",
      "[CV 3/5] END ..C=1000, gamma=0.0001, kernel=rbf;, score=0.667 total time=  16.4s\n",
      "[CV 4/5] END ..C=1000, gamma=0.0001, kernel=rbf;, score=0.665 total time=  16.4s\n",
      "[CV 5/5] END ..C=1000, gamma=0.0001, kernel=rbf;, score=0.666 total time=  16.3s\n"
     ]
    },
    {
     "data": {
      "text/html": [
       "<style>#sk-container-id-5 {color: black;}#sk-container-id-5 pre{padding: 0;}#sk-container-id-5 div.sk-toggleable {background-color: white;}#sk-container-id-5 label.sk-toggleable__label {cursor: pointer;display: block;width: 100%;margin-bottom: 0;padding: 0.3em;box-sizing: border-box;text-align: center;}#sk-container-id-5 label.sk-toggleable__label-arrow:before {content: \"▸\";float: left;margin-right: 0.25em;color: #696969;}#sk-container-id-5 label.sk-toggleable__label-arrow:hover:before {color: black;}#sk-container-id-5 div.sk-estimator:hover label.sk-toggleable__label-arrow:before {color: black;}#sk-container-id-5 div.sk-toggleable__content {max-height: 0;max-width: 0;overflow: hidden;text-align: left;background-color: #f0f8ff;}#sk-container-id-5 div.sk-toggleable__content pre {margin: 0.2em;color: black;border-radius: 0.25em;background-color: #f0f8ff;}#sk-container-id-5 input.sk-toggleable__control:checked~div.sk-toggleable__content {max-height: 200px;max-width: 100%;overflow: auto;}#sk-container-id-5 input.sk-toggleable__control:checked~label.sk-toggleable__label-arrow:before {content: \"▾\";}#sk-container-id-5 div.sk-estimator input.sk-toggleable__control:checked~label.sk-toggleable__label {background-color: #d4ebff;}#sk-container-id-5 div.sk-label input.sk-toggleable__control:checked~label.sk-toggleable__label {background-color: #d4ebff;}#sk-container-id-5 input.sk-hidden--visually {border: 0;clip: rect(1px 1px 1px 1px);clip: rect(1px, 1px, 1px, 1px);height: 1px;margin: -1px;overflow: hidden;padding: 0;position: absolute;width: 1px;}#sk-container-id-5 div.sk-estimator {font-family: monospace;background-color: #f0f8ff;border: 1px dotted black;border-radius: 0.25em;box-sizing: border-box;margin-bottom: 0.5em;}#sk-container-id-5 div.sk-estimator:hover {background-color: #d4ebff;}#sk-container-id-5 div.sk-parallel-item::after {content: \"\";width: 100%;border-bottom: 1px solid gray;flex-grow: 1;}#sk-container-id-5 div.sk-label:hover label.sk-toggleable__label {background-color: #d4ebff;}#sk-container-id-5 div.sk-serial::before {content: \"\";position: absolute;border-left: 1px solid gray;box-sizing: border-box;top: 0;bottom: 0;left: 50%;z-index: 0;}#sk-container-id-5 div.sk-serial {display: flex;flex-direction: column;align-items: center;background-color: white;padding-right: 0.2em;padding-left: 0.2em;position: relative;}#sk-container-id-5 div.sk-item {position: relative;z-index: 1;}#sk-container-id-5 div.sk-parallel {display: flex;align-items: stretch;justify-content: center;background-color: white;position: relative;}#sk-container-id-5 div.sk-item::before, #sk-container-id-5 div.sk-parallel-item::before {content: \"\";position: absolute;border-left: 1px solid gray;box-sizing: border-box;top: 0;bottom: 0;left: 50%;z-index: -1;}#sk-container-id-5 div.sk-parallel-item {display: flex;flex-direction: column;z-index: 1;position: relative;background-color: white;}#sk-container-id-5 div.sk-parallel-item:first-child::after {align-self: flex-end;width: 50%;}#sk-container-id-5 div.sk-parallel-item:last-child::after {align-self: flex-start;width: 50%;}#sk-container-id-5 div.sk-parallel-item:only-child::after {width: 0;}#sk-container-id-5 div.sk-dashed-wrapped {border: 1px dashed gray;margin: 0 0.4em 0.5em 0.4em;box-sizing: border-box;padding-bottom: 0.4em;background-color: white;}#sk-container-id-5 div.sk-label label {font-family: monospace;font-weight: bold;display: inline-block;line-height: 1.2em;}#sk-container-id-5 div.sk-label-container {text-align: center;}#sk-container-id-5 div.sk-container {/* jupyter's `normalize.less` sets `[hidden] { display: none; }` but bootstrap.min.css set `[hidden] { display: none !important; }` so we also need the `!important` here to be able to override the default hidden behavior on the sphinx rendered scikit-learn.org. See: https://github.com/scikit-learn/scikit-learn/issues/21755 */display: inline-block !important;position: relative;}#sk-container-id-5 div.sk-text-repr-fallback {display: none;}</style><div id=\"sk-container-id-5\" class=\"sk-top-container\"><div class=\"sk-text-repr-fallback\"><pre>GridSearchCV(estimator=SVC(),\n",
       "             param_grid={&#x27;C&#x27;: [0.1, 1, 10, 100, 1000],\n",
       "                         &#x27;gamma&#x27;: [1, 0.1, 0.01, 0.001, 0.0001],\n",
       "                         &#x27;kernel&#x27;: [&#x27;rbf&#x27;]},\n",
       "             verbose=3)</pre><b>In a Jupyter environment, please rerun this cell to show the HTML representation or trust the notebook. <br />On GitHub, the HTML representation is unable to render, please try loading this page with nbviewer.org.</b></div><div class=\"sk-container\" hidden><div class=\"sk-item sk-dashed-wrapped\"><div class=\"sk-label-container\"><div class=\"sk-label sk-toggleable\"><input class=\"sk-toggleable__control sk-hidden--visually\" id=\"sk-estimator-id-7\" type=\"checkbox\" ><label for=\"sk-estimator-id-7\" class=\"sk-toggleable__label sk-toggleable__label-arrow\">GridSearchCV</label><div class=\"sk-toggleable__content\"><pre>GridSearchCV(estimator=SVC(),\n",
       "             param_grid={&#x27;C&#x27;: [0.1, 1, 10, 100, 1000],\n",
       "                         &#x27;gamma&#x27;: [1, 0.1, 0.01, 0.001, 0.0001],\n",
       "                         &#x27;kernel&#x27;: [&#x27;rbf&#x27;]},\n",
       "             verbose=3)</pre></div></div></div><div class=\"sk-parallel\"><div class=\"sk-parallel-item\"><div class=\"sk-item\"><div class=\"sk-label-container\"><div class=\"sk-label sk-toggleable\"><input class=\"sk-toggleable__control sk-hidden--visually\" id=\"sk-estimator-id-8\" type=\"checkbox\" ><label for=\"sk-estimator-id-8\" class=\"sk-toggleable__label sk-toggleable__label-arrow\">estimator: SVC</label><div class=\"sk-toggleable__content\"><pre>SVC()</pre></div></div></div><div class=\"sk-serial\"><div class=\"sk-item\"><div class=\"sk-estimator sk-toggleable\"><input class=\"sk-toggleable__control sk-hidden--visually\" id=\"sk-estimator-id-9\" type=\"checkbox\" ><label for=\"sk-estimator-id-9\" class=\"sk-toggleable__label sk-toggleable__label-arrow\">SVC</label><div class=\"sk-toggleable__content\"><pre>SVC()</pre></div></div></div></div></div></div></div></div></div></div>"
      ],
      "text/plain": [
       "GridSearchCV(estimator=SVC(),\n",
       "             param_grid={'C': [0.1, 1, 10, 100, 1000],\n",
       "                         'gamma': [1, 0.1, 0.01, 0.001, 0.0001],\n",
       "                         'kernel': ['rbf']},\n",
       "             verbose=3)"
      ]
     },
     "execution_count": 61,
     "metadata": {},
     "output_type": "execute_result"
    }
   ],
   "source": [
    "grid.fit(x_train5,y_train5)"
   ]
  },
  {
   "cell_type": "code",
   "execution_count": 62,
   "metadata": {},
   "outputs": [
    {
     "data": {
      "text/plain": [
       "{'C': 1000, 'gamma': 0.1, 'kernel': 'rbf'}"
      ]
     },
     "execution_count": 62,
     "metadata": {},
     "output_type": "execute_result"
    }
   ],
   "source": [
    "grid.best_params_"
   ]
  },
  {
   "cell_type": "code",
   "execution_count": 63,
   "metadata": {},
   "outputs": [
    {
     "data": {
      "text/html": [
       "<style>#sk-container-id-6 {color: black;}#sk-container-id-6 pre{padding: 0;}#sk-container-id-6 div.sk-toggleable {background-color: white;}#sk-container-id-6 label.sk-toggleable__label {cursor: pointer;display: block;width: 100%;margin-bottom: 0;padding: 0.3em;box-sizing: border-box;text-align: center;}#sk-container-id-6 label.sk-toggleable__label-arrow:before {content: \"▸\";float: left;margin-right: 0.25em;color: #696969;}#sk-container-id-6 label.sk-toggleable__label-arrow:hover:before {color: black;}#sk-container-id-6 div.sk-estimator:hover label.sk-toggleable__label-arrow:before {color: black;}#sk-container-id-6 div.sk-toggleable__content {max-height: 0;max-width: 0;overflow: hidden;text-align: left;background-color: #f0f8ff;}#sk-container-id-6 div.sk-toggleable__content pre {margin: 0.2em;color: black;border-radius: 0.25em;background-color: #f0f8ff;}#sk-container-id-6 input.sk-toggleable__control:checked~div.sk-toggleable__content {max-height: 200px;max-width: 100%;overflow: auto;}#sk-container-id-6 input.sk-toggleable__control:checked~label.sk-toggleable__label-arrow:before {content: \"▾\";}#sk-container-id-6 div.sk-estimator input.sk-toggleable__control:checked~label.sk-toggleable__label {background-color: #d4ebff;}#sk-container-id-6 div.sk-label input.sk-toggleable__control:checked~label.sk-toggleable__label {background-color: #d4ebff;}#sk-container-id-6 input.sk-hidden--visually {border: 0;clip: rect(1px 1px 1px 1px);clip: rect(1px, 1px, 1px, 1px);height: 1px;margin: -1px;overflow: hidden;padding: 0;position: absolute;width: 1px;}#sk-container-id-6 div.sk-estimator {font-family: monospace;background-color: #f0f8ff;border: 1px dotted black;border-radius: 0.25em;box-sizing: border-box;margin-bottom: 0.5em;}#sk-container-id-6 div.sk-estimator:hover {background-color: #d4ebff;}#sk-container-id-6 div.sk-parallel-item::after {content: \"\";width: 100%;border-bottom: 1px solid gray;flex-grow: 1;}#sk-container-id-6 div.sk-label:hover label.sk-toggleable__label {background-color: #d4ebff;}#sk-container-id-6 div.sk-serial::before {content: \"\";position: absolute;border-left: 1px solid gray;box-sizing: border-box;top: 0;bottom: 0;left: 50%;z-index: 0;}#sk-container-id-6 div.sk-serial {display: flex;flex-direction: column;align-items: center;background-color: white;padding-right: 0.2em;padding-left: 0.2em;position: relative;}#sk-container-id-6 div.sk-item {position: relative;z-index: 1;}#sk-container-id-6 div.sk-parallel {display: flex;align-items: stretch;justify-content: center;background-color: white;position: relative;}#sk-container-id-6 div.sk-item::before, #sk-container-id-6 div.sk-parallel-item::before {content: \"\";position: absolute;border-left: 1px solid gray;box-sizing: border-box;top: 0;bottom: 0;left: 50%;z-index: -1;}#sk-container-id-6 div.sk-parallel-item {display: flex;flex-direction: column;z-index: 1;position: relative;background-color: white;}#sk-container-id-6 div.sk-parallel-item:first-child::after {align-self: flex-end;width: 50%;}#sk-container-id-6 div.sk-parallel-item:last-child::after {align-self: flex-start;width: 50%;}#sk-container-id-6 div.sk-parallel-item:only-child::after {width: 0;}#sk-container-id-6 div.sk-dashed-wrapped {border: 1px dashed gray;margin: 0 0.4em 0.5em 0.4em;box-sizing: border-box;padding-bottom: 0.4em;background-color: white;}#sk-container-id-6 div.sk-label label {font-family: monospace;font-weight: bold;display: inline-block;line-height: 1.2em;}#sk-container-id-6 div.sk-label-container {text-align: center;}#sk-container-id-6 div.sk-container {/* jupyter's `normalize.less` sets `[hidden] { display: none; }` but bootstrap.min.css set `[hidden] { display: none !important; }` so we also need the `!important` here to be able to override the default hidden behavior on the sphinx rendered scikit-learn.org. See: https://github.com/scikit-learn/scikit-learn/issues/21755 */display: inline-block !important;position: relative;}#sk-container-id-6 div.sk-text-repr-fallback {display: none;}</style><div id=\"sk-container-id-6\" class=\"sk-top-container\"><div class=\"sk-text-repr-fallback\"><pre>SVC(C=1000, gamma=0.1)</pre><b>In a Jupyter environment, please rerun this cell to show the HTML representation or trust the notebook. <br />On GitHub, the HTML representation is unable to render, please try loading this page with nbviewer.org.</b></div><div class=\"sk-container\" hidden><div class=\"sk-item\"><div class=\"sk-estimator sk-toggleable\"><input class=\"sk-toggleable__control sk-hidden--visually\" id=\"sk-estimator-id-10\" type=\"checkbox\" checked><label for=\"sk-estimator-id-10\" class=\"sk-toggleable__label sk-toggleable__label-arrow\">SVC</label><div class=\"sk-toggleable__content\"><pre>SVC(C=1000, gamma=0.1)</pre></div></div></div></div></div>"
      ],
      "text/plain": [
       "SVC(C=1000, gamma=0.1)"
      ]
     },
     "execution_count": 63,
     "metadata": {},
     "output_type": "execute_result"
    }
   ],
   "source": [
    "grid.best_estimator_"
   ]
  },
  {
   "cell_type": "code",
   "execution_count": 64,
   "metadata": {},
   "outputs": [
    {
     "name": "stdout",
     "output_type": "stream",
     "text": [
      "              precision    recall  f1-score   support\n",
      "\n",
      "         0.0       0.71      0.90      0.79     16021\n",
      "         1.0       0.86      0.63      0.73     16110\n",
      "\n",
      "    accuracy                           0.76     32131\n",
      "   macro avg       0.79      0.76      0.76     32131\n",
      "weighted avg       0.79      0.76      0.76     32131\n",
      "\n",
      "              precision    recall  f1-score   support\n",
      "\n",
      "         0.0       0.70      0.90      0.79      5400\n",
      "         1.0       0.86      0.61      0.71      5311\n",
      "\n",
      "    accuracy                           0.76     10711\n",
      "   macro avg       0.78      0.76      0.75     10711\n",
      "weighted avg       0.78      0.76      0.75     10711\n",
      "\n"
     ]
    }
   ],
   "source": [
    "ypred_train = grid.predict(x_train5)\n",
    "y_pred_test = grid.predict(x_test5)\n",
    "\n",
    "\n",
    "print(classification_report(y_train5,ypred_train))\n",
    "print(classification_report(y_test5,y_pred_test))"
   ]
  },
  {
   "cell_type": "code",
   "execution_count": 65,
   "metadata": {},
   "outputs": [
    {
     "name": "stdout",
     "output_type": "stream",
     "text": [
      "Training Results\n",
      "\n",
      "              precision    recall  f1-score   support\n",
      "\n",
      "         0.0       0.71      0.90      0.79     16021\n",
      "         1.0       0.86      0.63      0.73     16110\n",
      "\n",
      "    accuracy                           0.76     32131\n",
      "   macro avg       0.79      0.76      0.76     32131\n",
      "weighted avg       0.79      0.76      0.76     32131\n",
      "\n",
      "Testing Results\n",
      "\n",
      "              precision    recall  f1-score   support\n",
      "\n",
      "         0.0       0.70      0.90      0.79      5400\n",
      "         1.0       0.86      0.61      0.71      5311\n",
      "\n",
      "    accuracy                           0.76     10711\n",
      "   macro avg       0.78      0.76      0.75     10711\n",
      "weighted avg       0.78      0.76      0.75     10711\n",
      "\n"
     ]
    },
    {
     "data": {
      "image/png": "[encoded data removed]",
      "text/plain": [
       "<Figure size 640x480 with 1 Axes>"
      ]
     },
     "metadata": {},
     "output_type": "display_data"
    }
   ],
   "source": [
    "model3 = SVC(C=1000, gamma=0.1, kernel='rbf', probability=True)\n",
    "model3.fit(x_train5, y_train5)\n",
    "\n",
    "ypred_train14 = model3.predict(x_train5)\n",
    "y_pred_test14 = model3.predict(x_test5)\n",
    "\n",
    "print(\"Training Results\\n\")\n",
    "print(classification_report(y_train5, ypred_train14))\n",
    "print(\"Testing Results\\n\")\n",
    "print(classification_report(y_test5, y_pred_test14))\n",
    "\n",
    "# cross_val_scores = cross_val_score(model3, x_train5, y_train5, cv=5)\n",
    "# print(\"Cross-validation scores:\", cross_val_scores)\n",
    "# print(\"Average cross-validation score:\", np.mean(cross_val_scores))\n",
    "\n",
    "y_proba_test = model3.predict_proba(x_test5)[:, 1]\n",
    "fpr, tpr, thresholds = roc_curve(y_test5, y_proba_test)\n",
    "plt.plot(fpr, tpr, label='ROC Curve')\n",
    "plt.xlabel('False Positive Rate')\n",
    "plt.ylabel('True Positive Rate')\n",
    "plt.title('ROC Curve with AUC = {:.2f}'.format(roc_auc_score(y_test5, y_proba_test)))\n",
    "plt.legend(loc='lower right')\n",
    "plt.grid(True)\n",
    "plt.show()"
   ]
  }
 ],
 "metadata": {
  "kernelspec": {
   "display_name": "Python 3",
   "language": "python",
   "name": "python3"
  },
  "language_info": {
   "codemirror_mode": {
    "name": "ipython",
    "version": 3
   },
   "file_extension": ".py",
   "mimetype": "text/x-python",
   "name": "python",
   "nbconvert_exporter": "python",
   "pygments_lexer": "ipython3",
   "version": "0.0.0"
  }
 },
 "nbformat": 4,
 "nbformat_minor": 2
}
