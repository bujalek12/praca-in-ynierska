{
 "cells": [
  {
   "cell_type": "code",
   "execution_count": 1,
   "metadata": {},
   "outputs": [
    {
     "name": "stdout",
     "output_type": "stream",
     "text": [
      "WARNING:tensorflow:From C:\\Users\\DELL\\AppData\\Roaming\\Python\\Python311\\site-packages\\keras\\src\\losses.py:2976: The name tf.losses.sparse_softmax_cross_entropy is deprecated. Please use tf.compat.v1.losses.sparse_softmax_cross_entropy instead.\n",
      "\n"
     ]
    }
   ],
   "source": [
    "import pandas as pd\n",
    "import numpy as np\n",
    "import matplotlib.pyplot as plt\n",
    "import plotly.express as px\n",
    "from sklearn.preprocessing import LabelEncoder\n",
    "from sklearn.preprocessing import RobustScaler , MinMaxScaler, StandardScaler\n",
    "import seaborn as sns\n",
    "from sklearn.metrics import roc_curve\n",
    "from sklearn.metrics import roc_auc_score\n",
    "import tensorflow as tf\n",
    "from keras.preprocessing.image import ImageDataGenerator\n",
    "from tensorflow.keras.layers import Dropout\n",
    "from tensorflow.keras.models import Sequential\n",
    "from tensorflow.keras.layers import Dense, Activation\n",
    "from tensorflow.keras.callbacks import EarlyStopping\n",
    "from tensorflow.keras.layers import Input,Flatten,Conv1D,MaxPooling1D\n",
    "from sklearn.metrics import classification_report\n",
    "import warnings\n",
    "warnings.filterwarnings('ignore')\n",
    "import missingno as msno\n",
    "from sklearn.model_selection import train_test_split\n",
    "from sklearn.metrics import accuracy_score\n",
    "from sklearn.metrics import mean_absolute_error , mean_absolute_percentage_error , mean_squared_error\n",
    "from sklearn.metrics import r2_score\n",
    "from sklearn.metrics import confusion_matrix\n",
    "from sklearn.model_selection import cross_val_score\n",
    "from sklearn.metrics import RocCurveDisplay\n",
    "from sklearn.model_selection import RepeatedStratifiedKFold\n",
    "from sklearn.metrics import accuracy_score, precision_score, recall_score, f1_score\n",
    "from sklearn.model_selection import GridSearchCV\n",
    "from sklearn.tree import DecisionTreeClassifier\n",
    "from sklearn.ensemble import RandomForestClassifier\n",
    "from sklearn.naive_bayes import GaussianNB\n",
    "from xgboost import XGBClassifier\n",
    "from sklearn.linear_model import LogisticRegression\n",
    "from sklearn.svm import SVC\n",
    "from sklearn.decomposition import PCA\n",
    "from sklearn.ensemble import GradientBoostingClassifier\n",
    "from sklearn.neighbors import KNeighborsClassifier\n",
    "from keras.layers import LSTM\n",
    "from imblearn.over_sampling import SMOTE\n",
    "from sklearn.preprocessing import MinMaxScaler\n"
   ]
  },
  {
   "cell_type": "markdown",
   "metadata": {},
   "source": [
    "##  SMOTE (Synthetic Minority Oversampling Technique) "
   ]
  },
  {
   "cell_type": "code",
   "execution_count": 2,
   "metadata": {},
   "outputs": [
    {
     "data": {
      "text/html": [
       "<div>\n",
       "<style scoped>\n",
       "    .dataframe tbody tr th:only-of-type {\n",
       "        vertical-align: middle;\n",
       "    }\n",
       "\n",
       "    .dataframe tbody tr th {\n",
       "        vertical-align: top;\n",
       "    }\n",
       "\n",
       "    .dataframe thead th {\n",
       "        text-align: right;\n",
       "    }\n",
       "</style>\n",
       "<table border=\"1\" class=\"dataframe\">\n",
       "  <thead>\n",
       "    <tr style=\"text-align: right;\">\n",
       "      <th></th>\n",
       "      <th>HeartDiseaseorAttack</th>\n",
       "      <th>HighBP</th>\n",
       "      <th>HighChol</th>\n",
       "      <th>CholCheck</th>\n",
       "      <th>BMI</th>\n",
       "      <th>Smoker</th>\n",
       "      <th>Stroke</th>\n",
       "      <th>Diabetes</th>\n",
       "      <th>PhysActivity</th>\n",
       "      <th>Fruits</th>\n",
       "      <th>...</th>\n",
       "      <th>AnyHealthcare</th>\n",
       "      <th>NoDocbcCost</th>\n",
       "      <th>GenHlth</th>\n",
       "      <th>MentHlth</th>\n",
       "      <th>PhysHlth</th>\n",
       "      <th>DiffWalk</th>\n",
       "      <th>Sex</th>\n",
       "      <th>Age</th>\n",
       "      <th>Education</th>\n",
       "      <th>Income</th>\n",
       "    </tr>\n",
       "  </thead>\n",
       "  <tbody>\n",
       "    <tr>\n",
       "      <th>0</th>\n",
       "      <td>0.0</td>\n",
       "      <td>1.0</td>\n",
       "      <td>1.0</td>\n",
       "      <td>1.0</td>\n",
       "      <td>40.0</td>\n",
       "      <td>1.0</td>\n",
       "      <td>0.0</td>\n",
       "      <td>0.0</td>\n",
       "      <td>0.0</td>\n",
       "      <td>0.0</td>\n",
       "      <td>...</td>\n",
       "      <td>1.0</td>\n",
       "      <td>0.0</td>\n",
       "      <td>5.0</td>\n",
       "      <td>18.0</td>\n",
       "      <td>15.0</td>\n",
       "      <td>1.0</td>\n",
       "      <td>0.0</td>\n",
       "      <td>9.0</td>\n",
       "      <td>4.0</td>\n",
       "      <td>3.0</td>\n",
       "    </tr>\n",
       "    <tr>\n",
       "      <th>1</th>\n",
       "      <td>0.0</td>\n",
       "      <td>0.0</td>\n",
       "      <td>0.0</td>\n",
       "      <td>0.0</td>\n",
       "      <td>25.0</td>\n",
       "      <td>1.0</td>\n",
       "      <td>0.0</td>\n",
       "      <td>0.0</td>\n",
       "      <td>1.0</td>\n",
       "      <td>0.0</td>\n",
       "      <td>...</td>\n",
       "      <td>0.0</td>\n",
       "      <td>1.0</td>\n",
       "      <td>3.0</td>\n",
       "      <td>0.0</td>\n",
       "      <td>0.0</td>\n",
       "      <td>0.0</td>\n",
       "      <td>0.0</td>\n",
       "      <td>7.0</td>\n",
       "      <td>6.0</td>\n",
       "      <td>1.0</td>\n",
       "    </tr>\n",
       "    <tr>\n",
       "      <th>2</th>\n",
       "      <td>0.0</td>\n",
       "      <td>1.0</td>\n",
       "      <td>1.0</td>\n",
       "      <td>1.0</td>\n",
       "      <td>28.0</td>\n",
       "      <td>0.0</td>\n",
       "      <td>0.0</td>\n",
       "      <td>0.0</td>\n",
       "      <td>0.0</td>\n",
       "      <td>1.0</td>\n",
       "      <td>...</td>\n",
       "      <td>1.0</td>\n",
       "      <td>1.0</td>\n",
       "      <td>5.0</td>\n",
       "      <td>30.0</td>\n",
       "      <td>30.0</td>\n",
       "      <td>1.0</td>\n",
       "      <td>0.0</td>\n",
       "      <td>9.0</td>\n",
       "      <td>4.0</td>\n",
       "      <td>8.0</td>\n",
       "    </tr>\n",
       "    <tr>\n",
       "      <th>3</th>\n",
       "      <td>0.0</td>\n",
       "      <td>1.0</td>\n",
       "      <td>0.0</td>\n",
       "      <td>1.0</td>\n",
       "      <td>27.0</td>\n",
       "      <td>0.0</td>\n",
       "      <td>0.0</td>\n",
       "      <td>0.0</td>\n",
       "      <td>1.0</td>\n",
       "      <td>1.0</td>\n",
       "      <td>...</td>\n",
       "      <td>1.0</td>\n",
       "      <td>0.0</td>\n",
       "      <td>2.0</td>\n",
       "      <td>0.0</td>\n",
       "      <td>0.0</td>\n",
       "      <td>0.0</td>\n",
       "      <td>0.0</td>\n",
       "      <td>11.0</td>\n",
       "      <td>3.0</td>\n",
       "      <td>6.0</td>\n",
       "    </tr>\n",
       "    <tr>\n",
       "      <th>4</th>\n",
       "      <td>0.0</td>\n",
       "      <td>1.0</td>\n",
       "      <td>1.0</td>\n",
       "      <td>1.0</td>\n",
       "      <td>24.0</td>\n",
       "      <td>0.0</td>\n",
       "      <td>0.0</td>\n",
       "      <td>0.0</td>\n",
       "      <td>1.0</td>\n",
       "      <td>1.0</td>\n",
       "      <td>...</td>\n",
       "      <td>1.0</td>\n",
       "      <td>0.0</td>\n",
       "      <td>2.0</td>\n",
       "      <td>3.0</td>\n",
       "      <td>0.0</td>\n",
       "      <td>0.0</td>\n",
       "      <td>0.0</td>\n",
       "      <td>11.0</td>\n",
       "      <td>5.0</td>\n",
       "      <td>4.0</td>\n",
       "    </tr>\n",
       "  </tbody>\n",
       "</table>\n",
       "<p>5 rows × 22 columns</p>\n",
       "</div>"
      ],
      "text/plain": [
       "   HeartDiseaseorAttack  HighBP  HighChol  CholCheck   BMI  Smoker  Stroke  \\\n",
       "0                   0.0     1.0       1.0        1.0  40.0     1.0     0.0   \n",
       "1                   0.0     0.0       0.0        0.0  25.0     1.0     0.0   \n",
       "2                   0.0     1.0       1.0        1.0  28.0     0.0     0.0   \n",
       "3                   0.0     1.0       0.0        1.0  27.0     0.0     0.0   \n",
       "4                   0.0     1.0       1.0        1.0  24.0     0.0     0.0   \n",
       "\n",
       "   Diabetes  PhysActivity  Fruits  ...  AnyHealthcare  NoDocbcCost  GenHlth  \\\n",
       "0       0.0           0.0     0.0  ...            1.0          0.0      5.0   \n",
       "1       0.0           1.0     0.0  ...            0.0          1.0      3.0   \n",
       "2       0.0           0.0     1.0  ...            1.0          1.0      5.0   \n",
       "3       0.0           1.0     1.0  ...            1.0          0.0      2.0   \n",
       "4       0.0           1.0     1.0  ...            1.0          0.0      2.0   \n",
       "\n",
       "   MentHlth  PhysHlth  DiffWalk  Sex   Age  Education  Income  \n",
       "0      18.0      15.0       1.0  0.0   9.0        4.0     3.0  \n",
       "1       0.0       0.0       0.0  0.0   7.0        6.0     1.0  \n",
       "2      30.0      30.0       1.0  0.0   9.0        4.0     8.0  \n",
       "3       0.0       0.0       0.0  0.0  11.0        3.0     6.0  \n",
       "4       3.0       0.0       0.0  0.0  11.0        5.0     4.0  \n",
       "\n",
       "[5 rows x 22 columns]"
      ]
     },
     "execution_count": 2,
     "metadata": {},
     "output_type": "execute_result"
    }
   ],
   "source": [
    "df= pd.read_csv('Heart Disease Data 2015.csv')\n",
    "df.head()"
   ]
  },
  {
   "cell_type": "markdown",
   "metadata": {},
   "source": [
    "## splite data"
   ]
  },
  {
   "cell_type": "code",
   "execution_count": 3,
   "metadata": {},
   "outputs": [
    {
     "data": {
      "text/plain": [
       "HeartDiseaseorAttack\n",
       "0.0    229787\n",
       "1.0     23893\n",
       "Name: count, dtype: int64"
      ]
     },
     "execution_count": 3,
     "metadata": {},
     "output_type": "execute_result"
    }
   ],
   "source": [
    "df.drop(['Income',\"Education\",'DiffWalk',\"NoDocbcCost\",\"AnyHealthcare\",'Veggies',\"Fruits\",\"CholCheck\"],axis=1,inplace=True)\n",
    "df.shape\n",
    "df['HeartDiseaseorAttack'].value_counts()\n"
   ]
  },
  {
   "cell_type": "code",
   "execution_count": 4,
   "metadata": {},
   "outputs": [],
   "source": [
    "x = df.drop([\"HeartDiseaseorAttack\"] , axis = 1).values\n",
    "y = df[\"HeartDiseaseorAttack\"].values"
   ]
  },
  {
   "cell_type": "code",
   "execution_count": 5,
   "metadata": {},
   "outputs": [],
   "source": [
    "df.duplicated().sum()\n",
    "df.drop_duplicates(inplace=True)"
   ]
  },
  {
   "cell_type": "code",
   "execution_count": 6,
   "metadata": {},
   "outputs": [],
   "source": [
    "sm = SMOTE(random_state = 42)\n",
    "x_smote, y_smote= sm.fit_resample(x, y)\n",
    "x_train2, x_test2, y_train2, y_test2 = train_test_split(x_smote, y_smote, test_size=0.25, random_state=42)\n"
   ]
  },
  {
   "cell_type": "code",
   "execution_count": 7,
   "metadata": {},
   "outputs": [],
   "source": [
    "scaler = MinMaxScaler()\n",
    "x_train2 = scaler.fit_transform(x_train2)\n",
    "x_test2 = scaler.transform(x_test2)"
   ]
  },
  {
   "cell_type": "markdown",
   "metadata": {},
   "source": [
    "## Random forest"
   ]
  },
  {
   "cell_type": "code",
   "execution_count": 8,
   "metadata": {},
   "outputs": [
    {
     "name": "stdout",
     "output_type": "stream",
     "text": [
      "Najlepsze parametry:  {'max_depth': 30, 'max_features': 'sqrt', 'min_samples_leaf': 1, 'min_samples_split': 6, 'n_estimators': 300}\n",
      "Training Results\n",
      "\n",
      "              precision    recall  f1-score   support\n",
      "\n",
      "         0.0       0.95      0.97      0.96    172233\n",
      "         1.0       0.97      0.95      0.96    172447\n",
      "\n",
      "    accuracy                           0.96    344680\n",
      "   macro avg       0.96      0.96      0.96    344680\n",
      "weighted avg       0.96      0.96      0.96    344680\n",
      "\n",
      "Test Results\n",
      "\n",
      "              precision    recall  f1-score   support\n",
      "\n",
      "         0.0       0.92      0.95      0.93     57554\n",
      "         1.0       0.95      0.92      0.93     57340\n",
      "\n",
      "    accuracy                           0.93    114894\n",
      "   macro avg       0.93      0.93      0.93    114894\n",
      "weighted avg       0.93      0.93      0.93    114894\n",
      "\n",
      "Confusion Matrix:\n",
      " [[54696  2858]\n",
      " [ 4757 52583]]\n",
      "Cross-validation scores: [0.93122606 0.93237206 0.93122606 0.93008007 0.93039921]\n",
      "Average cross-validation score: 0.9310606939770223\n"
     ]
    }
   ],
   "source": [
    "\n",
    "\n",
    "# Inicjalizacja modelu z domyślnymi parametrami\n",
    "rf = RandomForestClassifier()\n",
    "\n",
    "# Określenie siatki parametrów do przetestowania\n",
    "param_grid = {\n",
    "    'n_estimators': [100, 200, 300],  # Liczba drzew\n",
    "    'max_depth': [10, 20, 30],        # Maksymalna głębokość drzewa\n",
    "    'min_samples_split': [2, 4, 6],   # Minimalna liczba próbek wymagana do podziału węzła\n",
    "    'min_samples_leaf': [1, 2, 4],    # Minimalna liczba próbek wymagana w liściu\n",
    "    'max_features': ['auto', 'sqrt']  # Liczba cech do rozważenia przy każdym podziale\n",
    "}\n",
    "\n",
    "# Utworzenie obiektu GridSearchCV\n",
    "cv_rf = GridSearchCV(estimator=rf, param_grid=param_grid, cv=5, scoring='accuracy')\n",
    "\n",
    "# Przeszukiwanie siatki parametrów\n",
    "cv_rf.fit(x_train2, y_train2)\n",
    "\n",
    "# Najlepszy zestaw parametrów\n",
    "print(\"Najlepsze parametry: \", cv_rf.best_params_)\n",
    "\n",
    "# Najlepszy estimator\n",
    "best_rf = cv_rf.best_estimator_\n",
    "\n",
    "# Predykcje i ocena modelu\n",
    "ypred_train1 = best_rf.predict(x_train2)\n",
    "ypred_test1 = best_rf.predict(x_test2)\n",
    "\n",
    "print(\"Training Results\\n\")\n",
    "print(classification_report(y_train2, ypred_train1))\n",
    "print(\"Test Results\\n\")\n",
    "print(classification_report(y_test2, ypred_test1))\n",
    "\n",
    "# Macierz pomyłek\n",
    "conf_matrix = confusion_matrix(y_test2, ypred_test1)\n",
    "print(\"Confusion Matrix:\\n\", conf_matrix)\n",
    "\n",
    "# Ocena modelu za pomocą walidacji krzyżowej\n",
    "cross_val_scores = cross_val_score(best_rf, x_train2, y_train2, cv=5)\n",
    "print(\"Cross-validation scores:\", cross_val_scores)\n",
    "print(\"Average cross-validation score:\", np.mean(cross_val_scores))"
   ]
  },
  {
   "cell_type": "code",
   "execution_count": 9,
   "metadata": {},
   "outputs": [
    {
     "data": {
      "image/png": "[encoded data removed]",
      "text/plain": [
       "<Figure size 640x480 with 1 Axes>"
      ]
     },
     "metadata": {},
     "output_type": "display_data"
    }
   ],
   "source": [
    "\n",
    "y_proba_test = best_rf.predict_proba(x_test2)[:, 1]\n",
    "\n",
    "fpr, tpr, thresholds = roc_curve(y_test2, y_proba_test)\n",
    "\n",
    "plt.plot(fpr, tpr, label='ROC Curve')\n",
    "plt.xlabel('False Positive Rate')\n",
    "plt.ylabel('True Positive Rate')\n",
    "plt.title('ROC Curve with AUC = {:.2f}'.format(roc_auc_score(y_test2, y_proba_test)))\n",
    "plt.legend(loc='lower right')\n",
    "plt.grid(True)\n",
    "plt.show()"
   ]
  },
  {
   "cell_type": "markdown",
   "metadata": {},
   "source": [
    "## DECISION TREE CLASSIFIER"
   ]
  },
  {
   "cell_type": "code",
   "execution_count": 10,
   "metadata": {},
   "outputs": [
    {
     "name": "stdout",
     "output_type": "stream",
     "text": [
      "Najlepsze parametry: {'criterion': 'entropy', 'max_depth': None, 'min_samples_leaf': 2, 'min_samples_split': 2}\n",
      "Najlepsza dokładność: 0.9149733085760706\n",
      "Training Results\n",
      "\n",
      "              precision    recall  f1-score   support\n",
      "\n",
      "         0.0       0.95      0.98      0.96    172233\n",
      "         1.0       0.98      0.94      0.96    172447\n",
      "\n",
      "    accuracy                           0.96    344680\n",
      "   macro avg       0.96      0.96      0.96    344680\n",
      "weighted avg       0.96      0.96      0.96    344680\n",
      "\n",
      "Testing Results\n",
      "\n",
      "              precision    recall  f1-score   support\n",
      "\n",
      "         0.0       0.90      0.94      0.92     57554\n",
      "         1.0       0.93      0.90      0.92     57340\n",
      "\n",
      "    accuracy                           0.92    114894\n",
      "   macro avg       0.92      0.92      0.92    114894\n",
      "weighted avg       0.92      0.92      0.92    114894\n",
      "\n",
      "Cross-Validation Scores for the Best Model: [0.91554485 0.9156609  0.91464547 0.91555936 0.91347047]\n",
      "Average Cross-Validation Score: 0.9149762098178021\n"
     ]
    }
   ],
   "source": [
    "\n",
    "\n",
    "# Parametry do przetestowania w Grid Search\n",
    "param_grid = {\n",
    "    'max_depth': [3, 5, 10, None],\n",
    "    'min_samples_split': [2, 5, 10],\n",
    "    'min_samples_leaf': [1, 2, 5],\n",
    "    'criterion': ['gini', 'entropy']\n",
    "}\n",
    "\n",
    "# Utworzenie modelu drzewa decyzyjnego\n",
    "tree = DecisionTreeClassifier()\n",
    "\n",
    "# Uruchomienie Grid Search z walidacją krzyżową\n",
    "grid_search = GridSearchCV(tree, param_grid, cv=5, scoring='accuracy')\n",
    "grid_search.fit(x_train2, y_train2)\n",
    "\n",
    "# Wyświetlenie najlepszych parametrów i wyników\n",
    "print(\"Najlepsze parametry:\", grid_search.best_params_)\n",
    "print(\"Najlepsza dokładność:\", grid_search.best_score_)\n",
    "\n",
    "# Utworzenie i ocena modelu z najlepszymi parametrami\n",
    "best_tree = grid_search.best_estimator_\n",
    "best_tree.fit(x_train2, y_train2)\n",
    "\n",
    "ypred_train2 = best_tree.predict(x_train2)\n",
    "ypred_test2 = best_tree.predict(x_test2)\n",
    "\n",
    "# Ocena modelu na zbiorze testowym\n",
    "\n",
    "print(\"Training Results\\n\")\n",
    "print(classification_report(y_train2, ypred_train2))\n",
    "print('Testing Results\\n')\n",
    "print(classification_report(y_test2, ypred_test2))\n",
    "\n",
    "# Dodatkowo: Walidacja krzyżowa dla najlepszego modelu na całym zbiorze danych\n",
    "cross_val_scores = cross_val_score(best_tree, x_train2, y_train2, cv=5)\n",
    "print(\"Cross-Validation Scores for the Best Model:\", cross_val_scores)\n",
    "print(\"Average Cross-Validation Score:\", cross_val_scores.mean())"
   ]
  },
  {
   "cell_type": "code",
   "execution_count": 11,
   "metadata": {},
   "outputs": [
    {
     "data": {
      "image/png": "[encoded data removed]",
      "text/plain": [
       "<Figure size 640x480 with 1 Axes>"
      ]
     },
     "metadata": {},
     "output_type": "display_data"
    }
   ],
   "source": [
    "from sklearn.metrics import roc_curve, roc_auc_score\n",
    "import matplotlib.pyplot as plt\n",
    "\n",
    "y_proba_test = best_tree.predict_proba(x_test2)[:, 1]\n",
    "\n",
    "fpr, tpr, thresholds = roc_curve(y_test2, y_proba_test)\n",
    "\n",
    "plt.plot(fpr, tpr, label='ROC Curve')\n",
    "plt.xlabel('False Positive Rate')\n",
    "plt.ylabel('True Positive Rate')\n",
    "plt.title('ROC Curve with AUC = {:.2f}'.format(roc_auc_score(y_test2, y_proba_test)))\n",
    "plt.legend(loc='lower right')\n",
    "plt.grid(True)\n",
    "plt.show()"
   ]
  },
  {
   "cell_type": "markdown",
   "metadata": {},
   "source": [
    "## Naive Bayes"
   ]
  },
  {
   "cell_type": "code",
   "execution_count": 12,
   "metadata": {},
   "outputs": [
    {
     "name": "stdout",
     "output_type": "stream",
     "text": [
      "Naive Bayes Classifier Accuracy:  0.746488067261998\n"
     ]
    }
   ],
   "source": [
    "Gnb = GaussianNB()\n",
    "Gnb.fit(x_train2, y_train2)\n",
    "ypred_train3 = Gnb.predict(x_train2)\n",
    "y_pred_test3 = Gnb.predict(x_test2)\n",
    "\n",
    "print(\"Naive Bayes Classifier Accuracy: \",accuracy_score(y_test2, y_pred_test3))"
   ]
  },
  {
   "cell_type": "code",
   "execution_count": 13,
   "metadata": {},
   "outputs": [
    {
     "name": "stdout",
     "output_type": "stream",
     "text": [
      "Training Results\n",
      "\n",
      "              precision    recall  f1-score   support\n",
      "\n",
      "         0.0       0.73      0.77      0.75    172233\n",
      "         1.0       0.76      0.72      0.74    172447\n",
      "\n",
      "    accuracy                           0.75    344680\n",
      "   macro avg       0.75      0.75      0.75    344680\n",
      "weighted avg       0.75      0.75      0.75    344680\n",
      "\n"
     ]
    }
   ],
   "source": [
    "print(\"Training Results\\n\")\n",
    "print(classification_report(y_train2, ypred_train3))"
   ]
  },
  {
   "cell_type": "code",
   "execution_count": 14,
   "metadata": {},
   "outputs": [
    {
     "name": "stdout",
     "output_type": "stream",
     "text": [
      "Testing Results\n",
      "\n",
      "              precision    recall  f1-score   support\n",
      "\n",
      "         0.0       0.74      0.77      0.75     57554\n",
      "         1.0       0.76      0.72      0.74     57340\n",
      "\n",
      "    accuracy                           0.75    114894\n",
      "   macro avg       0.75      0.75      0.75    114894\n",
      "weighted avg       0.75      0.75      0.75    114894\n",
      "\n"
     ]
    }
   ],
   "source": [
    "print('Testing Results\\n')\n",
    "print(classification_report(y_test2, y_pred_test3))"
   ]
  },
  {
   "cell_type": "code",
   "execution_count": 15,
   "metadata": {},
   "outputs": [
    {
     "data": {
      "image/png": "[encoded data removed]",
      "text/plain": [
       "<Figure size 640x480 with 1 Axes>"
      ]
     },
     "metadata": {},
     "output_type": "display_data"
    }
   ],
   "source": [
    "\n",
    "y_proba_test = Gnb.predict_proba(x_test2)[:, 1]\n",
    "\n",
    "fpr, tpr, thresholds = roc_curve(y_test2, y_proba_test)\n",
    "\n",
    "plt.plot(fpr, tpr, label='ROC Curve')\n",
    "plt.xlabel('False Positive Rate')\n",
    "plt.ylabel('True Positive Rate')\n",
    "plt.title('ROC Curve with AUC = {:.2f}'.format(roc_auc_score(y_test2, y_proba_test)))\n",
    "plt.legend(loc='lower right')\n",
    "plt.grid(True)\n",
    "plt.show()"
   ]
  },
  {
   "cell_type": "markdown",
   "metadata": {},
   "source": [
    "## XGBOSST"
   ]
  },
  {
   "cell_type": "code",
   "execution_count": 16,
   "metadata": {},
   "outputs": [
    {
     "name": "stdout",
     "output_type": "stream",
     "text": [
      "Najlepsze parametry:  {'colsample_bytree': 0.9, 'learning_rate': 0.2, 'max_depth': 7, 'n_estimators': 200, 'subsample': 0.9}\n",
      "Accuracy on Training set:  0.9283683416502263\n",
      "Accuracy on Test set:  0.923094330426306\n",
      "\n",
      "Training Results\n",
      "\n",
      "              precision    recall  f1-score   support\n",
      "\n",
      "         0.0       0.90      0.96      0.93    172233\n",
      "         1.0       0.96      0.89      0.93    172447\n",
      "\n",
      "    accuracy                           0.93    344680\n",
      "   macro avg       0.93      0.93      0.93    344680\n",
      "weighted avg       0.93      0.93      0.93    344680\n",
      "\n",
      "Testing Results\n",
      "\n",
      "              precision    recall  f1-score   support\n",
      "\n",
      "         0.0       0.90      0.96      0.93     57554\n",
      "         1.0       0.96      0.89      0.92     57340\n",
      "\n",
      "    accuracy                           0.92    114894\n",
      "   macro avg       0.93      0.92      0.92    114894\n",
      "weighted avg       0.93      0.92      0.92    114894\n",
      "\n"
     ]
    },
    {
     "data": {
      "image/png": "[encoded data removed]",
      "text/plain": [
       "<Figure size 640x480 with 1 Axes>"
      ]
     },
     "metadata": {},
     "output_type": "display_data"
    }
   ],
   "source": [
    "\n",
    "\n",
    "# Inicjalizacja modelu XGBoost\n",
    "xg = XGBClassifier()\n",
    "\n",
    "# Definiowanie siatki hiperparametrów do przetestowania\n",
    "param_grid = {\n",
    "    'n_estimators': [50, 100, 200],\n",
    "    'max_depth': [3, 5, 7],\n",
    "    'learning_rate': [0.01, 0.1, 0.2],\n",
    "    'subsample': [0.7, 0.8, 0.9],\n",
    "    'colsample_bytree': [0.7, 0.8, 0.9]\n",
    "}\n",
    "\n",
    "# Utworzenie obiektu GridSearchCV\n",
    "grid_search = GridSearchCV(estimator=xg, param_grid=param_grid, cv=3, scoring='accuracy')\n",
    "\n",
    "# Przeszukiwanie siatki parametrów\n",
    "grid_search.fit(x_train2, y_train2)\n",
    "\n",
    "# Najlepsze parametry i najlepszy model\n",
    "print(\"Najlepsze parametry: \", grid_search.best_params_)\n",
    "best_xg = grid_search.best_estimator_\n",
    "\n",
    "# Predykcje na zbiorze treningowym i testowym\n",
    "ypred_train4 = best_xg.predict(x_train2)\n",
    "y_pred_test4 = best_xg.predict(x_test2)\n",
    "\n",
    "# Ocena modelu\n",
    "print(\"Accuracy on Training set: \", accuracy_score(y_train2, ypred_train4))\n",
    "print(\"Accuracy on Test set: \", accuracy_score(y_test2, y_pred_test4))\n",
    "print(\"\\nTraining Results\\n\")\n",
    "print(classification_report(y_train2, ypred_train4))\n",
    "print('Testing Results\\n')\n",
    "print(classification_report(y_test2, y_pred_test4))\n",
    "\n",
    "# Krzywa ROC\n",
    "y_proba_test4 = best_xg.predict_proba(x_test2)[:, 1]\n",
    "fpr, tpr, thresholds = roc_curve(y_test2, y_proba_test4)\n",
    "plt.plot(fpr, tpr)\n",
    "plt.title(\"ROC Curve with AUC = {:.2f}\".format(roc_auc_score(y_test2, y_proba_test4)))\n",
    "plt.show()"
   ]
  },
  {
   "cell_type": "markdown",
   "metadata": {},
   "source": [
    "## logistic regression"
   ]
  },
  {
   "cell_type": "code",
   "execution_count": 17,
   "metadata": {},
   "outputs": [
    {
     "name": "stdout",
     "output_type": "stream",
     "text": [
      "Najlepsze parametry:  {'C': 10, 'penalty': 'l1', 'solver': 'liblinear'}\n",
      "Accuracy on Training set:  0.7776401299756296\n",
      "Accuracy on Test set:  0.7776559263320975\n",
      "\n",
      "Training Results\n",
      "\n",
      "              precision    recall  f1-score   support\n",
      "\n",
      "         0.0       0.79      0.75      0.77    172233\n",
      "         1.0       0.76      0.81      0.78    172447\n",
      "\n",
      "    accuracy                           0.78    344680\n",
      "   macro avg       0.78      0.78      0.78    344680\n",
      "weighted avg       0.78      0.78      0.78    344680\n",
      "\n",
      "Testing Results\n",
      "\n",
      "              precision    recall  f1-score   support\n",
      "\n",
      "         0.0       0.80      0.75      0.77     57554\n",
      "         1.0       0.76      0.81      0.78     57340\n",
      "\n",
      "    accuracy                           0.78    114894\n",
      "   macro avg       0.78      0.78      0.78    114894\n",
      "weighted avg       0.78      0.78      0.78    114894\n",
      "\n"
     ]
    },
    {
     "data": {
      "image/png": "[encoded data removed]",
      "text/plain": [
       "<Figure size 640x480 with 1 Axes>"
      ]
     },
     "metadata": {},
     "output_type": "display_data"
    }
   ],
   "source": [
    "\n",
    "\n",
    "# Inicjalizacja modelu regresji logistycznej\n",
    "lg = LogisticRegression()\n",
    "\n",
    "# Definiowanie siatki hiperparametrów do przetestowania\n",
    "param_grid = {\n",
    "    'C': [0.01, 0.1, 1, 10, 100],  # Parametr regularyzacji\n",
    "    'penalty': ['l1', 'l2'],       # Typ regularyzacji\n",
    "    'solver': ['liblinear']        # Algorytm optymalizacji (liblinear jest dobrym wyborem dla małych zbiorów danych)\n",
    "}\n",
    "\n",
    "# Utworzenie obiektu GridSearchCV\n",
    "grid_search = GridSearchCV(estimator=lg, param_grid=param_grid, cv=5, scoring='accuracy')\n",
    "\n",
    "# Przeszukiwanie siatki parametrów\n",
    "grid_search.fit(x_train2, y_train2)\n",
    "\n",
    "# Najlepsze parametry i najlepszy model\n",
    "print(\"Najlepsze parametry: \", grid_search.best_params_)\n",
    "best_lg = grid_search.best_estimator_\n",
    "\n",
    "# Predykcje na zbiorze treningowym i testowym\n",
    "ypred_train4 = best_lg.predict(x_train2)\n",
    "y_pred_test4 = best_lg.predict(x_test2)\n",
    "\n",
    "# Ocena modelu\n",
    "print(\"Accuracy on Training set: \", accuracy_score(y_train2, ypred_train4))\n",
    "print(\"Accuracy on Test set: \", accuracy_score(y_test2, y_pred_test4))\n",
    "print(\"\\nTraining Results\\n\")\n",
    "print(classification_report(y_train2, ypred_train4))\n",
    "print('Testing Results\\n')\n",
    "print(classification_report(y_test2 ,y_pred_test4))\n",
    "\n",
    "# Krzywa ROC\n",
    "y_proba_test4 = best_lg.predict_proba(x_test2)[:, 1]\n",
    "fpr, tpr, thresholds = roc_curve(y_test2, y_proba_test4)\n",
    "plt.plot(fpr, tpr)\n",
    "plt.title(\"ROC Curve with AUC = {:.2f}\".format(roc_auc_score(y_test2, y_proba_test4)))\n",
    "plt.show()"
   ]
  },
  {
   "cell_type": "markdown",
   "metadata": {},
   "source": [
    "## GradientBoostingClassifier"
   ]
  },
  {
   "cell_type": "code",
   "execution_count": 23,
   "metadata": {},
   "outputs": [
    {
     "data": {
      "text/html": [
       "<style>#sk-container-id-1 {color: black;}#sk-container-id-1 pre{padding: 0;}#sk-container-id-1 div.sk-toggleable {background-color: white;}#sk-container-id-1 label.sk-toggleable__label {cursor: pointer;display: block;width: 100%;margin-bottom: 0;padding: 0.3em;box-sizing: border-box;text-align: center;}#sk-container-id-1 label.sk-toggleable__label-arrow:before {content: \"▸\";float: left;margin-right: 0.25em;color: #696969;}#sk-container-id-1 label.sk-toggleable__label-arrow:hover:before {color: black;}#sk-container-id-1 div.sk-estimator:hover label.sk-toggleable__label-arrow:before {color: black;}#sk-container-id-1 div.sk-toggleable__content {max-height: 0;max-width: 0;overflow: hidden;text-align: left;background-color: #f0f8ff;}#sk-container-id-1 div.sk-toggleable__content pre {margin: 0.2em;color: black;border-radius: 0.25em;background-color: #f0f8ff;}#sk-container-id-1 input.sk-toggleable__control:checked~div.sk-toggleable__content {max-height: 200px;max-width: 100%;overflow: auto;}#sk-container-id-1 input.sk-toggleable__control:checked~label.sk-toggleable__label-arrow:before {content: \"▾\";}#sk-container-id-1 div.sk-estimator input.sk-toggleable__control:checked~label.sk-toggleable__label {background-color: #d4ebff;}#sk-container-id-1 div.sk-label input.sk-toggleable__control:checked~label.sk-toggleable__label {background-color: #d4ebff;}#sk-container-id-1 input.sk-hidden--visually {border: 0;clip: rect(1px 1px 1px 1px);clip: rect(1px, 1px, 1px, 1px);height: 1px;margin: -1px;overflow: hidden;padding: 0;position: absolute;width: 1px;}#sk-container-id-1 div.sk-estimator {font-family: monospace;background-color: #f0f8ff;border: 1px dotted black;border-radius: 0.25em;box-sizing: border-box;margin-bottom: 0.5em;}#sk-container-id-1 div.sk-estimator:hover {background-color: #d4ebff;}#sk-container-id-1 div.sk-parallel-item::after {content: \"\";width: 100%;border-bottom: 1px solid gray;flex-grow: 1;}#sk-container-id-1 div.sk-label:hover label.sk-toggleable__label {background-color: #d4ebff;}#sk-container-id-1 div.sk-serial::before {content: \"\";position: absolute;border-left: 1px solid gray;box-sizing: border-box;top: 0;bottom: 0;left: 50%;z-index: 0;}#sk-container-id-1 div.sk-serial {display: flex;flex-direction: column;align-items: center;background-color: white;padding-right: 0.2em;padding-left: 0.2em;position: relative;}#sk-container-id-1 div.sk-item {position: relative;z-index: 1;}#sk-container-id-1 div.sk-parallel {display: flex;align-items: stretch;justify-content: center;background-color: white;position: relative;}#sk-container-id-1 div.sk-item::before, #sk-container-id-1 div.sk-parallel-item::before {content: \"\";position: absolute;border-left: 1px solid gray;box-sizing: border-box;top: 0;bottom: 0;left: 50%;z-index: -1;}#sk-container-id-1 div.sk-parallel-item {display: flex;flex-direction: column;z-index: 1;position: relative;background-color: white;}#sk-container-id-1 div.sk-parallel-item:first-child::after {align-self: flex-end;width: 50%;}#sk-container-id-1 div.sk-parallel-item:last-child::after {align-self: flex-start;width: 50%;}#sk-container-id-1 div.sk-parallel-item:only-child::after {width: 0;}#sk-container-id-1 div.sk-dashed-wrapped {border: 1px dashed gray;margin: 0 0.4em 0.5em 0.4em;box-sizing: border-box;padding-bottom: 0.4em;background-color: white;}#sk-container-id-1 div.sk-label label {font-family: monospace;font-weight: bold;display: inline-block;line-height: 1.2em;}#sk-container-id-1 div.sk-label-container {text-align: center;}#sk-container-id-1 div.sk-container {/* jupyter's `normalize.less` sets `[hidden] { display: none; }` but bootstrap.min.css set `[hidden] { display: none !important; }` so we also need the `!important` here to be able to override the default hidden behavior on the sphinx rendered scikit-learn.org. See: https://github.com/scikit-learn/scikit-learn/issues/21755 */display: inline-block !important;position: relative;}#sk-container-id-1 div.sk-text-repr-fallback {display: none;}</style><div id=\"sk-container-id-1\" class=\"sk-top-container\"><div class=\"sk-text-repr-fallback\"><pre>GradientBoostingClassifier(learning_rate=0.2, max_depth=7, n_estimators=300)</pre><b>In a Jupyter environment, please rerun this cell to show the HTML representation or trust the notebook. <br />On GitHub, the HTML representation is unable to render, please try loading this page with nbviewer.org.</b></div><div class=\"sk-container\" hidden><div class=\"sk-item\"><div class=\"sk-estimator sk-toggleable\"><input class=\"sk-toggleable__control sk-hidden--visually\" id=\"sk-estimator-id-1\" type=\"checkbox\" checked><label for=\"sk-estimator-id-1\" class=\"sk-toggleable__label sk-toggleable__label-arrow\">GradientBoostingClassifier</label><div class=\"sk-toggleable__content\"><pre>GradientBoostingClassifier(learning_rate=0.2, max_depth=7, n_estimators=300)</pre></div></div></div></div></div>"
      ],
      "text/plain": [
       "GradientBoostingClassifier(learning_rate=0.2, max_depth=7, n_estimators=300)"
      ]
     },
     "execution_count": 23,
     "metadata": {},
     "output_type": "execute_result"
    }
   ],
   "source": [
    "params = {\n",
    "    'learning_rate': 0.2,\n",
    "    'max_depth': 7,\n",
    "    'min_samples_leaf': 1,\n",
    "    'min_samples_split': 2,\n",
    "    'n_estimators': 300\n",
    "}\n",
    "\n",
    "gb_clf = GradientBoostingClassifier(\n",
    "    learning_rate=params['learning_rate'],\n",
    "    max_depth=params['max_depth'],\n",
    "    min_samples_leaf=params['min_samples_leaf'],\n",
    "    min_samples_split=params['min_samples_split'],\n",
    "    n_estimators=params['n_estimators'])\n",
    "gb_clf.fit(x_train2, y_train2)"
   ]
  },
  {
   "cell_type": "code",
   "execution_count": 24,
   "metadata": {},
   "outputs": [
    {
     "name": "stdout",
     "output_type": "stream",
     "text": [
      "Accuracy on Training set:  0.9414239294418011\n",
      "Accuracy on Test set:  0.9311452295159016\n",
      "\n",
      "Training Results\n",
      "\n",
      "              precision    recall  f1-score   support\n",
      "\n",
      "         0.0       0.92      0.97      0.94    172233\n",
      "         1.0       0.97      0.91      0.94    172447\n",
      "\n",
      "    accuracy                           0.94    344680\n",
      "   macro avg       0.94      0.94      0.94    344680\n",
      "weighted avg       0.94      0.94      0.94    344680\n",
      "\n",
      "Testing Results\n",
      "\n",
      "              precision    recall  f1-score   support\n",
      "\n",
      "         0.0       0.90      0.96      0.93     57554\n",
      "         1.0       0.96      0.90      0.93     57340\n",
      "\n",
      "    accuracy                           0.93    114894\n",
      "   macro avg       0.93      0.93      0.93    114894\n",
      "weighted avg       0.93      0.93      0.93    114894\n",
      "\n"
     ]
    },
    {
     "data": {
      "image/png": "[encoded data removed]",
      "text/plain": [
       "<Figure size 640x480 with 1 Axes>"
      ]
     },
     "metadata": {},
     "output_type": "display_data"
    }
   ],
   "source": [
    "\n",
    "\n",
    "# Inicjalizacja modelu Gradient Boosting Classifier\n",
    "# gb = GradientBoostingClassifier()\n",
    "\n",
    "# # Definiowanie siatki hiperparametrów do przetestowania\n",
    "# param_grid = {\n",
    "#     'n_estimators': [100, 200, 300],  # Liczba drzew w ensemble\n",
    "#     'learning_rate': [0.01, 0.1, 0.2], # Szybkość uczenia\n",
    "#     'max_depth': [3, 5, 7],            # Maksymalna głębokość drzewa\n",
    "#     'min_samples_split': [2, 4],       # Minimalna liczba próbek wymagana do podziału węzła\n",
    "#     'min_samples_leaf': [1, 2]         # Minimalna liczba próbek w liściu\n",
    "# }\n",
    "\n",
    "# # Utworzenie obiektu GridSearchCV\n",
    "# grid_search = GridSearchCV(estimator=gb, param_grid=param_grid, cv=5, scoring='accuracy')\n",
    "\n",
    "# # Przeszukiwanie siatki parametrów\n",
    "# grid_search.fit(x_train2, y_train2)\n",
    "\n",
    "# # Najlepsze parametry i najlepszy model\n",
    "# print(\"Najlepsze parametry: \", grid_search.best_params_)\n",
    "# best_gb = grid_search.best_estimator_\n",
    "\n",
    "\n",
    "# Predykcje na zbiorze treningowym i testowym\n",
    "ypred_train6 = gb_clf.predict(x_train2)\n",
    "y_pred_test6 = gb_clf.predict(x_test2)\n",
    "\n",
    "# Ocena modelu\n",
    "print(\"Accuracy on Training set: \", accuracy_score(y_train2, ypred_train6))\n",
    "print(\"Accuracy on Test set: \", accuracy_score(y_test2, y_pred_test6))\n",
    "print(\"\\nTraining Results\\n\")\n",
    "print(classification_report(y_train2, ypred_train6))\n",
    "print('Testing Results\\n')\n",
    "print(classification_report(y_test2, y_pred_test6))\n",
    "\n",
    "# Krzywa ROC\n",
    "y_proba_test6 = gb_clf.predict_proba(x_test2)[:, 1]\n",
    "fpr, tpr, thresholds = roc_curve(y_test2, y_proba_test6)\n",
    "plt.plot(fpr, tpr)\n",
    "plt.title(\"ROC Curve with AUC = {:.2f}\".format(roc_auc_score(y_test2, y_proba_test6)))\n",
    "plt.show()"
   ]
  },
  {
   "cell_type": "markdown",
   "metadata": {},
   "source": [
    "## KNN"
   ]
  },
  {
   "cell_type": "code",
   "execution_count": 25,
   "metadata": {},
   "outputs": [
    {
     "data": {
      "text/html": [
       "<style>#sk-container-id-2 {color: black;}#sk-container-id-2 pre{padding: 0;}#sk-container-id-2 div.sk-toggleable {background-color: white;}#sk-container-id-2 label.sk-toggleable__label {cursor: pointer;display: block;width: 100%;margin-bottom: 0;padding: 0.3em;box-sizing: border-box;text-align: center;}#sk-container-id-2 label.sk-toggleable__label-arrow:before {content: \"▸\";float: left;margin-right: 0.25em;color: #696969;}#sk-container-id-2 label.sk-toggleable__label-arrow:hover:before {color: black;}#sk-container-id-2 div.sk-estimator:hover label.sk-toggleable__label-arrow:before {color: black;}#sk-container-id-2 div.sk-toggleable__content {max-height: 0;max-width: 0;overflow: hidden;text-align: left;background-color: #f0f8ff;}#sk-container-id-2 div.sk-toggleable__content pre {margin: 0.2em;color: black;border-radius: 0.25em;background-color: #f0f8ff;}#sk-container-id-2 input.sk-toggleable__control:checked~div.sk-toggleable__content {max-height: 200px;max-width: 100%;overflow: auto;}#sk-container-id-2 input.sk-toggleable__control:checked~label.sk-toggleable__label-arrow:before {content: \"▾\";}#sk-container-id-2 div.sk-estimator input.sk-toggleable__control:checked~label.sk-toggleable__label {background-color: #d4ebff;}#sk-container-id-2 div.sk-label input.sk-toggleable__control:checked~label.sk-toggleable__label {background-color: #d4ebff;}#sk-container-id-2 input.sk-hidden--visually {border: 0;clip: rect(1px 1px 1px 1px);clip: rect(1px, 1px, 1px, 1px);height: 1px;margin: -1px;overflow: hidden;padding: 0;position: absolute;width: 1px;}#sk-container-id-2 div.sk-estimator {font-family: monospace;background-color: #f0f8ff;border: 1px dotted black;border-radius: 0.25em;box-sizing: border-box;margin-bottom: 0.5em;}#sk-container-id-2 div.sk-estimator:hover {background-color: #d4ebff;}#sk-container-id-2 div.sk-parallel-item::after {content: \"\";width: 100%;border-bottom: 1px solid gray;flex-grow: 1;}#sk-container-id-2 div.sk-label:hover label.sk-toggleable__label {background-color: #d4ebff;}#sk-container-id-2 div.sk-serial::before {content: \"\";position: absolute;border-left: 1px solid gray;box-sizing: border-box;top: 0;bottom: 0;left: 50%;z-index: 0;}#sk-container-id-2 div.sk-serial {display: flex;flex-direction: column;align-items: center;background-color: white;padding-right: 0.2em;padding-left: 0.2em;position: relative;}#sk-container-id-2 div.sk-item {position: relative;z-index: 1;}#sk-container-id-2 div.sk-parallel {display: flex;align-items: stretch;justify-content: center;background-color: white;position: relative;}#sk-container-id-2 div.sk-item::before, #sk-container-id-2 div.sk-parallel-item::before {content: \"\";position: absolute;border-left: 1px solid gray;box-sizing: border-box;top: 0;bottom: 0;left: 50%;z-index: -1;}#sk-container-id-2 div.sk-parallel-item {display: flex;flex-direction: column;z-index: 1;position: relative;background-color: white;}#sk-container-id-2 div.sk-parallel-item:first-child::after {align-self: flex-end;width: 50%;}#sk-container-id-2 div.sk-parallel-item:last-child::after {align-self: flex-start;width: 50%;}#sk-container-id-2 div.sk-parallel-item:only-child::after {width: 0;}#sk-container-id-2 div.sk-dashed-wrapped {border: 1px dashed gray;margin: 0 0.4em 0.5em 0.4em;box-sizing: border-box;padding-bottom: 0.4em;background-color: white;}#sk-container-id-2 div.sk-label label {font-family: monospace;font-weight: bold;display: inline-block;line-height: 1.2em;}#sk-container-id-2 div.sk-label-container {text-align: center;}#sk-container-id-2 div.sk-container {/* jupyter's `normalize.less` sets `[hidden] { display: none; }` but bootstrap.min.css set `[hidden] { display: none !important; }` so we also need the `!important` here to be able to override the default hidden behavior on the sphinx rendered scikit-learn.org. See: https://github.com/scikit-learn/scikit-learn/issues/21755 */display: inline-block !important;position: relative;}#sk-container-id-2 div.sk-text-repr-fallback {display: none;}</style><div id=\"sk-container-id-2\" class=\"sk-top-container\"><div class=\"sk-text-repr-fallback\"><pre>KNeighborsClassifier()</pre><b>In a Jupyter environment, please rerun this cell to show the HTML representation or trust the notebook. <br />On GitHub, the HTML representation is unable to render, please try loading this page with nbviewer.org.</b></div><div class=\"sk-container\" hidden><div class=\"sk-item\"><div class=\"sk-estimator sk-toggleable\"><input class=\"sk-toggleable__control sk-hidden--visually\" id=\"sk-estimator-id-2\" type=\"checkbox\" checked><label for=\"sk-estimator-id-2\" class=\"sk-toggleable__label sk-toggleable__label-arrow\">KNeighborsClassifier</label><div class=\"sk-toggleable__content\"><pre>KNeighborsClassifier()</pre></div></div></div></div></div>"
      ],
      "text/plain": [
       "KNeighborsClassifier()"
      ]
     },
     "execution_count": 25,
     "metadata": {},
     "output_type": "execute_result"
    }
   ],
   "source": [
    "knn = KNeighborsClassifier()\n",
    "knn.fit(x_train2, y_train2)\n"
   ]
  },
  {
   "cell_type": "code",
   "execution_count": 26,
   "metadata": {},
   "outputs": [],
   "source": [
    "grid_cv = GridSearchCV(KNeighborsClassifier(), \n",
    "                       param_grid={\n",
    "                           \"n_neighbors\": range(1, 50)\n",
    "                       }, cv=5, scoring=\"f1\", \n",
    "                       verbose=1, n_jobs=6)\n"
   ]
  },
  {
   "cell_type": "code",
   "execution_count": 27,
   "metadata": {},
   "outputs": [
    {
     "name": "stdout",
     "output_type": "stream",
     "text": [
      "Fitting 5 folds for each of 49 candidates, totalling 245 fits\n"
     ]
    },
    {
     "data": {
      "text/html": [
       "<style>#sk-container-id-3 {color: black;}#sk-container-id-3 pre{padding: 0;}#sk-container-id-3 div.sk-toggleable {background-color: white;}#sk-container-id-3 label.sk-toggleable__label {cursor: pointer;display: block;width: 100%;margin-bottom: 0;padding: 0.3em;box-sizing: border-box;text-align: center;}#sk-container-id-3 label.sk-toggleable__label-arrow:before {content: \"▸\";float: left;margin-right: 0.25em;color: #696969;}#sk-container-id-3 label.sk-toggleable__label-arrow:hover:before {color: black;}#sk-container-id-3 div.sk-estimator:hover label.sk-toggleable__label-arrow:before {color: black;}#sk-container-id-3 div.sk-toggleable__content {max-height: 0;max-width: 0;overflow: hidden;text-align: left;background-color: #f0f8ff;}#sk-container-id-3 div.sk-toggleable__content pre {margin: 0.2em;color: black;border-radius: 0.25em;background-color: #f0f8ff;}#sk-container-id-3 input.sk-toggleable__control:checked~div.sk-toggleable__content {max-height: 200px;max-width: 100%;overflow: auto;}#sk-container-id-3 input.sk-toggleable__control:checked~label.sk-toggleable__label-arrow:before {content: \"▾\";}#sk-container-id-3 div.sk-estimator input.sk-toggleable__control:checked~label.sk-toggleable__label {background-color: #d4ebff;}#sk-container-id-3 div.sk-label input.sk-toggleable__control:checked~label.sk-toggleable__label {background-color: #d4ebff;}#sk-container-id-3 input.sk-hidden--visually {border: 0;clip: rect(1px 1px 1px 1px);clip: rect(1px, 1px, 1px, 1px);height: 1px;margin: -1px;overflow: hidden;padding: 0;position: absolute;width: 1px;}#sk-container-id-3 div.sk-estimator {font-family: monospace;background-color: #f0f8ff;border: 1px dotted black;border-radius: 0.25em;box-sizing: border-box;margin-bottom: 0.5em;}#sk-container-id-3 div.sk-estimator:hover {background-color: #d4ebff;}#sk-container-id-3 div.sk-parallel-item::after {content: \"\";width: 100%;border-bottom: 1px solid gray;flex-grow: 1;}#sk-container-id-3 div.sk-label:hover label.sk-toggleable__label {background-color: #d4ebff;}#sk-container-id-3 div.sk-serial::before {content: \"\";position: absolute;border-left: 1px solid gray;box-sizing: border-box;top: 0;bottom: 0;left: 50%;z-index: 0;}#sk-container-id-3 div.sk-serial {display: flex;flex-direction: column;align-items: center;background-color: white;padding-right: 0.2em;padding-left: 0.2em;position: relative;}#sk-container-id-3 div.sk-item {position: relative;z-index: 1;}#sk-container-id-3 div.sk-parallel {display: flex;align-items: stretch;justify-content: center;background-color: white;position: relative;}#sk-container-id-3 div.sk-item::before, #sk-container-id-3 div.sk-parallel-item::before {content: \"\";position: absolute;border-left: 1px solid gray;box-sizing: border-box;top: 0;bottom: 0;left: 50%;z-index: -1;}#sk-container-id-3 div.sk-parallel-item {display: flex;flex-direction: column;z-index: 1;position: relative;background-color: white;}#sk-container-id-3 div.sk-parallel-item:first-child::after {align-self: flex-end;width: 50%;}#sk-container-id-3 div.sk-parallel-item:last-child::after {align-self: flex-start;width: 50%;}#sk-container-id-3 div.sk-parallel-item:only-child::after {width: 0;}#sk-container-id-3 div.sk-dashed-wrapped {border: 1px dashed gray;margin: 0 0.4em 0.5em 0.4em;box-sizing: border-box;padding-bottom: 0.4em;background-color: white;}#sk-container-id-3 div.sk-label label {font-family: monospace;font-weight: bold;display: inline-block;line-height: 1.2em;}#sk-container-id-3 div.sk-label-container {text-align: center;}#sk-container-id-3 div.sk-container {/* jupyter's `normalize.less` sets `[hidden] { display: none; }` but bootstrap.min.css set `[hidden] { display: none !important; }` so we also need the `!important` here to be able to override the default hidden behavior on the sphinx rendered scikit-learn.org. See: https://github.com/scikit-learn/scikit-learn/issues/21755 */display: inline-block !important;position: relative;}#sk-container-id-3 div.sk-text-repr-fallback {display: none;}</style><div id=\"sk-container-id-3\" class=\"sk-top-container\"><div class=\"sk-text-repr-fallback\"><pre>GridSearchCV(cv=5, estimator=KNeighborsClassifier(), n_jobs=6,\n",
       "             param_grid={&#x27;n_neighbors&#x27;: range(1, 50)}, scoring=&#x27;f1&#x27;, verbose=1)</pre><b>In a Jupyter environment, please rerun this cell to show the HTML representation or trust the notebook. <br />On GitHub, the HTML representation is unable to render, please try loading this page with nbviewer.org.</b></div><div class=\"sk-container\" hidden><div class=\"sk-item sk-dashed-wrapped\"><div class=\"sk-label-container\"><div class=\"sk-label sk-toggleable\"><input class=\"sk-toggleable__control sk-hidden--visually\" id=\"sk-estimator-id-3\" type=\"checkbox\" ><label for=\"sk-estimator-id-3\" class=\"sk-toggleable__label sk-toggleable__label-arrow\">GridSearchCV</label><div class=\"sk-toggleable__content\"><pre>GridSearchCV(cv=5, estimator=KNeighborsClassifier(), n_jobs=6,\n",
       "             param_grid={&#x27;n_neighbors&#x27;: range(1, 50)}, scoring=&#x27;f1&#x27;, verbose=1)</pre></div></div></div><div class=\"sk-parallel\"><div class=\"sk-parallel-item\"><div class=\"sk-item\"><div class=\"sk-label-container\"><div class=\"sk-label sk-toggleable\"><input class=\"sk-toggleable__control sk-hidden--visually\" id=\"sk-estimator-id-4\" type=\"checkbox\" ><label for=\"sk-estimator-id-4\" class=\"sk-toggleable__label sk-toggleable__label-arrow\">estimator: KNeighborsClassifier</label><div class=\"sk-toggleable__content\"><pre>KNeighborsClassifier()</pre></div></div></div><div class=\"sk-serial\"><div class=\"sk-item\"><div class=\"sk-estimator sk-toggleable\"><input class=\"sk-toggleable__control sk-hidden--visually\" id=\"sk-estimator-id-5\" type=\"checkbox\" ><label for=\"sk-estimator-id-5\" class=\"sk-toggleable__label sk-toggleable__label-arrow\">KNeighborsClassifier</label><div class=\"sk-toggleable__content\"><pre>KNeighborsClassifier()</pre></div></div></div></div></div></div></div></div></div></div>"
      ],
      "text/plain": [
       "GridSearchCV(cv=5, estimator=KNeighborsClassifier(), n_jobs=6,\n",
       "             param_grid={'n_neighbors': range(1, 50)}, scoring='f1', verbose=1)"
      ]
     },
     "execution_count": 27,
     "metadata": {},
     "output_type": "execute_result"
    }
   ],
   "source": [
    "grid_cv.fit(x_train2, \n",
    "            y_train2)"
   ]
  },
  {
   "cell_type": "code",
   "execution_count": 28,
   "metadata": {},
   "outputs": [
    {
     "data": {
      "text/plain": [
       "0.8995560560143062"
      ]
     },
     "execution_count": 28,
     "metadata": {},
     "output_type": "execute_result"
    }
   ],
   "source": [
    "grid_cv.best_score_\n"
   ]
  },
  {
   "cell_type": "code",
   "execution_count": 29,
   "metadata": {},
   "outputs": [
    {
     "data": {
      "text/html": [
       "<style>#sk-container-id-4 {color: black;}#sk-container-id-4 pre{padding: 0;}#sk-container-id-4 div.sk-toggleable {background-color: white;}#sk-container-id-4 label.sk-toggleable__label {cursor: pointer;display: block;width: 100%;margin-bottom: 0;padding: 0.3em;box-sizing: border-box;text-align: center;}#sk-container-id-4 label.sk-toggleable__label-arrow:before {content: \"▸\";float: left;margin-right: 0.25em;color: #696969;}#sk-container-id-4 label.sk-toggleable__label-arrow:hover:before {color: black;}#sk-container-id-4 div.sk-estimator:hover label.sk-toggleable__label-arrow:before {color: black;}#sk-container-id-4 div.sk-toggleable__content {max-height: 0;max-width: 0;overflow: hidden;text-align: left;background-color: #f0f8ff;}#sk-container-id-4 div.sk-toggleable__content pre {margin: 0.2em;color: black;border-radius: 0.25em;background-color: #f0f8ff;}#sk-container-id-4 input.sk-toggleable__control:checked~div.sk-toggleable__content {max-height: 200px;max-width: 100%;overflow: auto;}#sk-container-id-4 input.sk-toggleable__control:checked~label.sk-toggleable__label-arrow:before {content: \"▾\";}#sk-container-id-4 div.sk-estimator input.sk-toggleable__control:checked~label.sk-toggleable__label {background-color: #d4ebff;}#sk-container-id-4 div.sk-label input.sk-toggleable__control:checked~label.sk-toggleable__label {background-color: #d4ebff;}#sk-container-id-4 input.sk-hidden--visually {border: 0;clip: rect(1px 1px 1px 1px);clip: rect(1px, 1px, 1px, 1px);height: 1px;margin: -1px;overflow: hidden;padding: 0;position: absolute;width: 1px;}#sk-container-id-4 div.sk-estimator {font-family: monospace;background-color: #f0f8ff;border: 1px dotted black;border-radius: 0.25em;box-sizing: border-box;margin-bottom: 0.5em;}#sk-container-id-4 div.sk-estimator:hover {background-color: #d4ebff;}#sk-container-id-4 div.sk-parallel-item::after {content: \"\";width: 100%;border-bottom: 1px solid gray;flex-grow: 1;}#sk-container-id-4 div.sk-label:hover label.sk-toggleable__label {background-color: #d4ebff;}#sk-container-id-4 div.sk-serial::before {content: \"\";position: absolute;border-left: 1px solid gray;box-sizing: border-box;top: 0;bottom: 0;left: 50%;z-index: 0;}#sk-container-id-4 div.sk-serial {display: flex;flex-direction: column;align-items: center;background-color: white;padding-right: 0.2em;padding-left: 0.2em;position: relative;}#sk-container-id-4 div.sk-item {position: relative;z-index: 1;}#sk-container-id-4 div.sk-parallel {display: flex;align-items: stretch;justify-content: center;background-color: white;position: relative;}#sk-container-id-4 div.sk-item::before, #sk-container-id-4 div.sk-parallel-item::before {content: \"\";position: absolute;border-left: 1px solid gray;box-sizing: border-box;top: 0;bottom: 0;left: 50%;z-index: -1;}#sk-container-id-4 div.sk-parallel-item {display: flex;flex-direction: column;z-index: 1;position: relative;background-color: white;}#sk-container-id-4 div.sk-parallel-item:first-child::after {align-self: flex-end;width: 50%;}#sk-container-id-4 div.sk-parallel-item:last-child::after {align-self: flex-start;width: 50%;}#sk-container-id-4 div.sk-parallel-item:only-child::after {width: 0;}#sk-container-id-4 div.sk-dashed-wrapped {border: 1px dashed gray;margin: 0 0.4em 0.5em 0.4em;box-sizing: border-box;padding-bottom: 0.4em;background-color: white;}#sk-container-id-4 div.sk-label label {font-family: monospace;font-weight: bold;display: inline-block;line-height: 1.2em;}#sk-container-id-4 div.sk-label-container {text-align: center;}#sk-container-id-4 div.sk-container {/* jupyter's `normalize.less` sets `[hidden] { display: none; }` but bootstrap.min.css set `[hidden] { display: none !important; }` so we also need the `!important` here to be able to override the default hidden behavior on the sphinx rendered scikit-learn.org. See: https://github.com/scikit-learn/scikit-learn/issues/21755 */display: inline-block !important;position: relative;}#sk-container-id-4 div.sk-text-repr-fallback {display: none;}</style><div id=\"sk-container-id-4\" class=\"sk-top-container\"><div class=\"sk-text-repr-fallback\"><pre>KNeighborsClassifier(n_neighbors=1)</pre><b>In a Jupyter environment, please rerun this cell to show the HTML representation or trust the notebook. <br />On GitHub, the HTML representation is unable to render, please try loading this page with nbviewer.org.</b></div><div class=\"sk-container\" hidden><div class=\"sk-item\"><div class=\"sk-estimator sk-toggleable\"><input class=\"sk-toggleable__control sk-hidden--visually\" id=\"sk-estimator-id-6\" type=\"checkbox\" checked><label for=\"sk-estimator-id-6\" class=\"sk-toggleable__label sk-toggleable__label-arrow\">KNeighborsClassifier</label><div class=\"sk-toggleable__content\"><pre>KNeighborsClassifier(n_neighbors=1)</pre></div></div></div></div></div>"
      ],
      "text/plain": [
       "KNeighborsClassifier(n_neighbors=1)"
      ]
     },
     "execution_count": 29,
     "metadata": {},
     "output_type": "execute_result"
    }
   ],
   "source": [
    "knn = grid_cv.best_estimator_\n",
    "knn"
   ]
  },
  {
   "cell_type": "code",
   "execution_count": 30,
   "metadata": {},
   "outputs": [
    {
     "name": "stdout",
     "output_type": "stream",
     "text": [
      "XGBClassifier Accuracy:  0.9086897488119484\n"
     ]
    }
   ],
   "source": [
    "ypred_train33 = grid_cv.predict(x_train2)\n",
    "y_pred_test33 = grid_cv.predict(x_test2)\n",
    "print(\"XGBClassifier Accuracy: \",accuracy_score(y_test2, y_pred_test33))"
   ]
  },
  {
   "cell_type": "code",
   "execution_count": 31,
   "metadata": {},
   "outputs": [
    {
     "name": "stdout",
     "output_type": "stream",
     "text": [
      "Training Results\n",
      "\n",
      "              precision    recall  f1-score   support\n",
      "\n",
      "         0.0       0.97      0.97      0.97    172233\n",
      "         1.0       0.97      0.97      0.97    172447\n",
      "\n",
      "    accuracy                           0.97    344680\n",
      "   macro avg       0.97      0.97      0.97    344680\n",
      "weighted avg       0.97      0.97      0.97    344680\n",
      "\n"
     ]
    }
   ],
   "source": [
    "print(\"Training Results\\n\")\n",
    "print(classification_report(y_train2, ypred_train33))"
   ]
  },
  {
   "cell_type": "code",
   "execution_count": 32,
   "metadata": {},
   "outputs": [
    {
     "name": "stdout",
     "output_type": "stream",
     "text": [
      "Training Results\n",
      "\n",
      "              precision    recall  f1-score   support\n",
      "\n",
      "         0.0       0.91      0.91      0.91     57554\n",
      "         1.0       0.91      0.91      0.91     57340\n",
      "\n",
      "    accuracy                           0.91    114894\n",
      "   macro avg       0.91      0.91      0.91    114894\n",
      "weighted avg       0.91      0.91      0.91    114894\n",
      "\n"
     ]
    }
   ],
   "source": [
    "print(\"Training Results\\n\")\n",
    "print(classification_report(y_test2, y_pred_test33))"
   ]
  },
  {
   "cell_type": "code",
   "execution_count": 33,
   "metadata": {},
   "outputs": [
    {
     "data": {
      "image/png": "[encoded data removed]",
      "text/plain": [
       "<Figure size 640x480 with 1 Axes>"
      ]
     },
     "metadata": {},
     "output_type": "display_data"
    }
   ],
   "source": [
    "from sklearn.metrics import roc_curve, roc_auc_score\n",
    "import matplotlib.pyplot as plt\n",
    "\n",
    "y_proba_test = grid_cv.predict_proba(x_test2)[:, 1]\n",
    "\n",
    "fpr, tpr, thresholds = roc_curve(y_test2, y_proba_test)\n",
    "\n",
    "plt.plot(fpr, tpr, label='ROC Curve')\n",
    "plt.xlabel('False Positive Rate')\n",
    "plt.ylabel('True Positive Rate')\n",
    "plt.title('ROC Curve with AUC = {:.2f}'.format(roc_auc_score(y_test2, y_proba_test)))\n",
    "plt.legend(loc='lower right')\n",
    "plt.grid(True)\n",
    "plt.show()"
   ]
  },
  {
   "cell_type": "markdown",
   "metadata": {},
   "source": [
    "## SIECI NEURONOWE"
   ]
  },
  {
   "cell_type": "code",
   "execution_count": 34,
   "metadata": {},
   "outputs": [],
   "source": [
    "early_stop = EarlyStopping(monitor='val_loss', mode='min', verbose=1, patience=25)"
   ]
  },
  {
   "cell_type": "markdown",
   "metadata": {},
   "source": [
    "## inne próby sieci neuronowych "
   ]
  },
  {
   "cell_type": "code",
   "execution_count": 35,
   "metadata": {},
   "outputs": [
    {
     "name": "stdout",
     "output_type": "stream",
     "text": [
      "WARNING:tensorflow:From C:\\Users\\DELL\\AppData\\Roaming\\Python\\Python311\\site-packages\\keras\\src\\backend.py:873: The name tf.get_default_graph is deprecated. Please use tf.compat.v1.get_default_graph instead.\n",
      "\n"
     ]
    },
    {
     "name": "stderr",
     "output_type": "stream",
     "text": [
      "WARNING:absl:`lr` is deprecated in Keras optimizer, please use `learning_rate` or use the legacy optimizer, e.g.,tf.keras.optimizers.legacy.Adam.\n"
     ]
    },
    {
     "name": "stdout",
     "output_type": "stream",
     "text": [
      "Epoch 1/10\n",
      "WARNING:tensorflow:From C:\\Users\\DELL\\AppData\\Roaming\\Python\\Python311\\site-packages\\keras\\src\\utils\\tf_utils.py:492: The name tf.ragged.RaggedTensorValue is deprecated. Please use tf.compat.v1.ragged.RaggedTensorValue instead.\n",
      "\n"
     ]
    },
    {
     "name": "stderr",
     "output_type": "stream",
     "text": [
      "WARNING:tensorflow:From C:\\Users\\DELL\\AppData\\Roaming\\Python\\Python311\\site-packages\\keras\\src\\utils\\tf_utils.py:492: The name tf.ragged.RaggedTensorValue is deprecated. Please use tf.compat.v1.ragged.RaggedTensorValue instead.\n",
      "\n"
     ]
    },
    {
     "name": "stdout",
     "output_type": "stream",
     "text": [
      "WARNING:tensorflow:From C:\\Users\\DELL\\AppData\\Roaming\\Python\\Python311\\site-packages\\keras\\src\\engine\\base_layer_utils.py:384: The name tf.executing_eagerly_outside_functions is deprecated. Please use tf.compat.v1.executing_eagerly_outside_functions instead.\n",
      "\n"
     ]
    },
    {
     "name": "stderr",
     "output_type": "stream",
     "text": [
      "WARNING:tensorflow:From C:\\Users\\DELL\\AppData\\Roaming\\Python\\Python311\\site-packages\\keras\\src\\engine\\base_layer_utils.py:384: The name tf.executing_eagerly_outside_functions is deprecated. Please use tf.compat.v1.executing_eagerly_outside_functions instead.\n",
      "\n"
     ]
    },
    {
     "name": "stdout",
     "output_type": "stream",
     "text": [
      "10772/10772 [==============================] - 22s 2ms/step - loss: 0.4391 - accuracy: 0.7978\n",
      "Epoch 2/10\n",
      "10772/10772 [==============================] - 21s 2ms/step - loss: 0.3731 - accuracy: 0.8282\n",
      "Epoch 3/10\n",
      "10772/10772 [==============================] - 21s 2ms/step - loss: 0.3478 - accuracy: 0.8392\n",
      "Epoch 4/10\n",
      "10772/10772 [==============================] - 20s 2ms/step - loss: 0.3344 - accuracy: 0.8451\n",
      "Epoch 5/10\n",
      "10772/10772 [==============================] - 21s 2ms/step - loss: 0.3276 - accuracy: 0.8485\n",
      "Epoch 6/10\n",
      "10772/10772 [==============================] - 21s 2ms/step - loss: 0.3230 - accuracy: 0.8494\n",
      "Epoch 7/10\n",
      "10772/10772 [==============================] - 28s 3ms/step - loss: 0.3202 - accuracy: 0.8504\n",
      "Epoch 8/10\n",
      "10772/10772 [==============================] - 26s 2ms/step - loss: 0.3186 - accuracy: 0.8520\n",
      "Epoch 9/10\n",
      "10772/10772 [==============================] - 25s 2ms/step - loss: 0.3171 - accuracy: 0.8519\n",
      "Epoch 10/10\n",
      "10772/10772 [==============================] - 25s 2ms/step - loss: 0.3158 - accuracy: 0.8525\n"
     ]
    }
   ],
   "source": [
    "\n",
    "\n",
    "\n",
    "model_2 = tf.keras.Sequential([\n",
    "  tf.keras.layers.Dense(14,activation = 'relu'),\n",
    "  tf.keras.layers.Dense(6,activation = 'relu'),\n",
    "  tf.keras.layers.Dense(6,activation = 'relu'),\n",
    "  tf.keras.layers.Dense(1,activation = 'sigmoid')                            \n",
    "])\n",
    "\n",
    "\n",
    "model_2.compile(loss = 'binary_crossentropy',\n",
    "                optimizer = tf.keras.optimizers.Adam(lr=0.001),\n",
    "                metrics = ['accuracy'])\n",
    "\n",
    "\n",
    "history_2 = model_2.fit(x_train2,y_train2,epochs = 10)"
   ]
  },
  {
   "cell_type": "code",
   "execution_count": 36,
   "metadata": {},
   "outputs": [
    {
     "name": "stdout",
     "output_type": "stream",
     "text": [
      "3591/3591 [==============================] - 8s 2ms/step - loss: 0.3141 - accuracy: 0.8547\n"
     ]
    },
    {
     "data": {
      "text/plain": [
       "[0.31405386328697205, 0.8546834588050842]"
      ]
     },
     "execution_count": 36,
     "metadata": {},
     "output_type": "execute_result"
    }
   ],
   "source": [
    "model_2.evaluate(x_test2,y_test2)"
   ]
  },
  {
   "cell_type": "code",
   "execution_count": 37,
   "metadata": {},
   "outputs": [
    {
     "name": "stdout",
     "output_type": "stream",
     "text": [
      "10772/10772 [==============================] - 20s 2ms/step\n",
      "3591/3591 [==============================] - 7s 2ms/step\n",
      "              precision    recall  f1-score   support\n",
      "\n",
      "         0.0       0.84      0.89      0.86    172233\n",
      "         1.0       0.88      0.83      0.85    172447\n",
      "\n",
      "    accuracy                           0.86    344680\n",
      "   macro avg       0.86      0.86      0.86    344680\n",
      "weighted avg       0.86      0.86      0.86    344680\n",
      "\n",
      "              precision    recall  f1-score   support\n",
      "\n",
      "         0.0       0.83      0.89      0.86     57554\n",
      "         1.0       0.88      0.82      0.85     57340\n",
      "\n",
      "    accuracy                           0.85    114894\n",
      "   macro avg       0.86      0.85      0.85    114894\n",
      "weighted avg       0.86      0.85      0.85    114894\n",
      "\n"
     ]
    }
   ],
   "source": [
    "ypred_train7 = model_2.predict(x_train2)\n",
    "y_pred_test7 = model_2.predict(x_test2)\n",
    "\n",
    "y_pred_test7 = (y_pred_test7 > 0.5)\n",
    "ypred_train7 = (ypred_train7 > 0.5)\n",
    "\n",
    "print(classification_report(y_train2,ypred_train7))\n",
    "print(classification_report(y_test2,y_pred_test7))"
   ]
  },
  {
   "cell_type": "code",
   "execution_count": 38,
   "metadata": {},
   "outputs": [
    {
     "name": "stdout",
     "output_type": "stream",
     "text": [
      "3591/3591 [==============================] - 7s 2ms/step\n"
     ]
    },
    {
     "data": {
      "image/png": "[encoded data removed]",
      "text/plain": [
       "<Figure size 640x480 with 1 Axes>"
      ]
     },
     "metadata": {},
     "output_type": "display_data"
    }
   ],
   "source": [
    "\n",
    "y_proba_test = model_2.predict(x_test2).flatten()\n",
    "\n",
    "fpr, tpr, thresholds = roc_curve(y_test2, y_proba_test)\n",
    "\n",
    "plt.plot(fpr, tpr, label='ROC Curve')\n",
    "plt.xlabel('False Positive Rate')\n",
    "plt.ylabel('True Positive Rate')\n",
    "plt.title('ROC Curve with AUC = {:.2f}'.format(roc_auc_score(y_test2, y_proba_test)))\n",
    "plt.legend(loc='lower right')\n",
    "plt.grid(True)\n",
    "plt.show()"
   ]
  },
  {
   "cell_type": "markdown",
   "metadata": {},
   "source": [
    "## inna proba "
   ]
  },
  {
   "cell_type": "code",
   "execution_count": 39,
   "metadata": {},
   "outputs": [
    {
     "name": "stderr",
     "output_type": "stream",
     "text": [
      "WARNING:absl:`lr` is deprecated in Keras optimizer, please use `learning_rate` or use the legacy optimizer, e.g.,tf.keras.optimizers.legacy.Adam.\n"
     ]
    },
    {
     "name": "stdout",
     "output_type": "stream",
     "text": [
      "Epoch 1/100\n",
      "10772/10772 [==============================] - 27s 2ms/step - loss: 0.4195 - accuracy: 0.8081\n",
      "Epoch 2/100\n",
      "10772/10772 [==============================] - 25s 2ms/step - loss: 0.3415 - accuracy: 0.8409\n",
      "Epoch 3/100\n",
      "10772/10772 [==============================] - 25s 2ms/step - loss: 0.3236 - accuracy: 0.8473\n",
      "Epoch 4/100\n",
      "10772/10772 [==============================] - 26s 2ms/step - loss: 0.3139 - accuracy: 0.8512\n",
      "Epoch 5/100\n",
      "10772/10772 [==============================] - 26s 2ms/step - loss: 0.3087 - accuracy: 0.8537\n",
      "Epoch 6/100\n",
      "10772/10772 [==============================] - 26s 2ms/step - loss: 0.3053 - accuracy: 0.8559\n",
      "Epoch 7/100\n",
      "10772/10772 [==============================] - 21s 2ms/step - loss: 0.3018 - accuracy: 0.8575\n",
      "Epoch 8/100\n",
      "10772/10772 [==============================] - 15s 1ms/step - loss: 0.2987 - accuracy: 0.8595\n",
      "Epoch 9/100\n",
      "10772/10772 [==============================] - 15s 1ms/step - loss: 0.2952 - accuracy: 0.8608\n",
      "Epoch 10/100\n",
      "10772/10772 [==============================] - 13s 1ms/step - loss: 0.2932 - accuracy: 0.8618\n",
      "Epoch 11/100\n",
      "10772/10772 [==============================] - 14s 1ms/step - loss: 0.2921 - accuracy: 0.8618\n",
      "Epoch 12/100\n",
      "10772/10772 [==============================] - 15s 1ms/step - loss: 0.2908 - accuracy: 0.8623\n",
      "Epoch 13/100\n",
      "10772/10772 [==============================] - 14s 1ms/step - loss: 0.2893 - accuracy: 0.8631\n",
      "Epoch 14/100\n",
      "10772/10772 [==============================] - 13s 1ms/step - loss: 0.2889 - accuracy: 0.8632\n",
      "Epoch 15/100\n",
      "10772/10772 [==============================] - 13s 1ms/step - loss: 0.2881 - accuracy: 0.8634\n",
      "Epoch 16/100\n",
      "10772/10772 [==============================] - 13s 1ms/step - loss: 0.2872 - accuracy: 0.8637\n",
      "Epoch 17/100\n",
      "10772/10772 [==============================] - 13s 1ms/step - loss: 0.2860 - accuracy: 0.8648\n",
      "Epoch 18/100\n",
      "10772/10772 [==============================] - 13s 1ms/step - loss: 0.2859 - accuracy: 0.8647\n",
      "Epoch 19/100\n",
      "10772/10772 [==============================] - 12s 1ms/step - loss: 0.2858 - accuracy: 0.8645\n",
      "Epoch 20/100\n",
      "10772/10772 [==============================] - 12s 1ms/step - loss: 0.2852 - accuracy: 0.8649\n",
      "Epoch 21/100\n",
      "10772/10772 [==============================] - 13s 1ms/step - loss: 0.2843 - accuracy: 0.8650\n",
      "Epoch 22/100\n",
      "10772/10772 [==============================] - 12s 1ms/step - loss: 0.2839 - accuracy: 0.8649\n",
      "Epoch 23/100\n",
      "10772/10772 [==============================] - 13s 1ms/step - loss: 0.2839 - accuracy: 0.8651\n",
      "Epoch 24/100\n",
      "10772/10772 [==============================] - 12s 1ms/step - loss: 0.2830 - accuracy: 0.8653\n",
      "Epoch 25/100\n",
      "10772/10772 [==============================] - 13s 1ms/step - loss: 0.2828 - accuracy: 0.8660\n",
      "Epoch 26/100\n",
      "10772/10772 [==============================] - 12s 1ms/step - loss: 0.2825 - accuracy: 0.8660\n",
      "Epoch 27/100\n",
      "10772/10772 [==============================] - 12s 1ms/step - loss: 0.2823 - accuracy: 0.8662\n",
      "Epoch 28/100\n",
      "10772/10772 [==============================] - 12s 1ms/step - loss: 0.2821 - accuracy: 0.8664\n",
      "Epoch 29/100\n",
      "10772/10772 [==============================] - 12s 1ms/step - loss: 0.2812 - accuracy: 0.8665\n",
      "Epoch 30/100\n",
      "10772/10772 [==============================] - 12s 1ms/step - loss: 0.2808 - accuracy: 0.8670\n",
      "Epoch 31/100\n",
      "10772/10772 [==============================] - 12s 1ms/step - loss: 0.2814 - accuracy: 0.8667\n",
      "Epoch 32/100\n",
      "10772/10772 [==============================] - 13s 1ms/step - loss: 0.2807 - accuracy: 0.8667\n",
      "Epoch 33/100\n",
      "10772/10772 [==============================] - 12s 1ms/step - loss: 0.2804 - accuracy: 0.8671\n",
      "Epoch 34/100\n",
      "10772/10772 [==============================] - 12s 1ms/step - loss: 0.2804 - accuracy: 0.8669\n",
      "Epoch 35/100\n",
      "10772/10772 [==============================] - 14s 1ms/step - loss: 0.2807 - accuracy: 0.8670\n",
      "Epoch 36/100\n",
      "10772/10772 [==============================] - 13s 1ms/step - loss: 0.2793 - accuracy: 0.8672\n",
      "Epoch 37/100\n",
      "10772/10772 [==============================] - 13s 1ms/step - loss: 0.2802 - accuracy: 0.8669\n",
      "Epoch 38/100\n",
      "10772/10772 [==============================] - 12s 1ms/step - loss: 0.2797 - accuracy: 0.8675\n",
      "Epoch 39/100\n",
      "10772/10772 [==============================] - 12s 1ms/step - loss: 0.2793 - accuracy: 0.8676\n",
      "Epoch 40/100\n",
      "10772/10772 [==============================] - 12s 1ms/step - loss: 0.2798 - accuracy: 0.8674\n",
      "Epoch 41/100\n",
      "10772/10772 [==============================] - 12s 1ms/step - loss: 0.2794 - accuracy: 0.8673\n",
      "Epoch 42/100\n",
      "10772/10772 [==============================] - 12s 1ms/step - loss: 0.2788 - accuracy: 0.8676\n",
      "Epoch 43/100\n",
      "10772/10772 [==============================] - 12s 1ms/step - loss: 0.2788 - accuracy: 0.8676\n",
      "Epoch 44/100\n",
      "10772/10772 [==============================] - 12s 1ms/step - loss: 0.2783 - accuracy: 0.8680\n",
      "Epoch 45/100\n",
      "10772/10772 [==============================] - 12s 1ms/step - loss: 0.2786 - accuracy: 0.8677\n",
      "Epoch 46/100\n",
      "10772/10772 [==============================] - 13s 1ms/step - loss: 0.2777 - accuracy: 0.8682\n",
      "Epoch 47/100\n",
      "10772/10772 [==============================] - 13s 1ms/step - loss: 0.2785 - accuracy: 0.8679\n",
      "Epoch 48/100\n",
      "10772/10772 [==============================] - 12s 1ms/step - loss: 0.2776 - accuracy: 0.8685\n",
      "Epoch 49/100\n",
      "10772/10772 [==============================] - 12s 1ms/step - loss: 0.2775 - accuracy: 0.8683\n",
      "Epoch 50/100\n",
      "10772/10772 [==============================] - 12s 1ms/step - loss: 0.2776 - accuracy: 0.8685\n",
      "Epoch 51/100\n",
      "10772/10772 [==============================] - 12s 1ms/step - loss: 0.2777 - accuracy: 0.8681\n",
      "Epoch 52/100\n",
      "10772/10772 [==============================] - 12s 1ms/step - loss: 0.2773 - accuracy: 0.8682\n",
      "Epoch 53/100\n",
      "10772/10772 [==============================] - 12s 1ms/step - loss: 0.2773 - accuracy: 0.8683\n",
      "Epoch 54/100\n",
      "10772/10772 [==============================] - 14s 1ms/step - loss: 0.2770 - accuracy: 0.8685\n",
      "Epoch 55/100\n",
      "10772/10772 [==============================] - 15s 1ms/step - loss: 0.2767 - accuracy: 0.8692\n",
      "Epoch 56/100\n",
      "10772/10772 [==============================] - 16s 1ms/step - loss: 0.2768 - accuracy: 0.8684\n",
      "Epoch 57/100\n",
      "10772/10772 [==============================] - 14s 1ms/step - loss: 0.2771 - accuracy: 0.8686\n",
      "Epoch 58/100\n",
      "10772/10772 [==============================] - 14s 1ms/step - loss: 0.2769 - accuracy: 0.8683\n",
      "Epoch 59/100\n",
      "10772/10772 [==============================] - 17s 2ms/step - loss: 0.2760 - accuracy: 0.8689\n",
      "Epoch 60/100\n",
      "10772/10772 [==============================] - 17s 2ms/step - loss: 0.2765 - accuracy: 0.8687\n",
      "Epoch 61/100\n",
      "10772/10772 [==============================] - 16s 2ms/step - loss: 0.2766 - accuracy: 0.8686\n",
      "Epoch 62/100\n",
      "10772/10772 [==============================] - 16s 2ms/step - loss: 0.2762 - accuracy: 0.8690\n",
      "Epoch 63/100\n",
      "10772/10772 [==============================] - 16s 1ms/step - loss: 0.2764 - accuracy: 0.8688\n",
      "Epoch 64/100\n",
      "10772/10772 [==============================] - 17s 2ms/step - loss: 0.2759 - accuracy: 0.8689\n",
      "Epoch 65/100\n",
      "10772/10772 [==============================] - 17s 2ms/step - loss: 0.2759 - accuracy: 0.8689\n",
      "Epoch 66/100\n",
      "10772/10772 [==============================] - 17s 2ms/step - loss: 0.2754 - accuracy: 0.8691\n",
      "Epoch 67/100\n",
      "10772/10772 [==============================] - 17s 2ms/step - loss: 0.2758 - accuracy: 0.8691\n",
      "Epoch 68/100\n",
      "10772/10772 [==============================] - 17s 2ms/step - loss: 0.2756 - accuracy: 0.8693\n",
      "Epoch 69/100\n",
      "10772/10772 [==============================] - 17s 2ms/step - loss: 0.2753 - accuracy: 0.8691\n",
      "Epoch 70/100\n",
      "10772/10772 [==============================] - 17s 2ms/step - loss: 0.2758 - accuracy: 0.8693\n",
      "Epoch 71/100\n",
      "10772/10772 [==============================] - 16s 2ms/step - loss: 0.2751 - accuracy: 0.8695\n",
      "Epoch 72/100\n",
      "10772/10772 [==============================] - 16s 1ms/step - loss: 0.2749 - accuracy: 0.8692\n",
      "Epoch 73/100\n",
      "10772/10772 [==============================] - 16s 1ms/step - loss: 0.2750 - accuracy: 0.8694\n",
      "Epoch 74/100\n",
      "10772/10772 [==============================] - 16s 2ms/step - loss: 0.2750 - accuracy: 0.8692\n",
      "Epoch 75/100\n",
      "10772/10772 [==============================] - 16s 1ms/step - loss: 0.2749 - accuracy: 0.8694\n",
      "Epoch 76/100\n",
      "10772/10772 [==============================] - 16s 2ms/step - loss: 0.2746 - accuracy: 0.8699\n",
      "Epoch 77/100\n",
      "10772/10772 [==============================] - 17s 2ms/step - loss: 0.2751 - accuracy: 0.8693\n",
      "Epoch 78/100\n",
      "10772/10772 [==============================] - 17s 2ms/step - loss: 0.2749 - accuracy: 0.8695\n",
      "Epoch 79/100\n",
      "10772/10772 [==============================] - 17s 2ms/step - loss: 0.2746 - accuracy: 0.8698\n",
      "Epoch 80/100\n",
      "10772/10772 [==============================] - 17s 2ms/step - loss: 0.2744 - accuracy: 0.8699\n",
      "Epoch 81/100\n",
      "10772/10772 [==============================] - 17s 2ms/step - loss: 0.2743 - accuracy: 0.8696\n",
      "Epoch 82/100\n",
      "10772/10772 [==============================] - 16s 2ms/step - loss: 0.2746 - accuracy: 0.8693\n",
      "Epoch 83/100\n",
      "10772/10772 [==============================] - 16s 2ms/step - loss: 0.2746 - accuracy: 0.8699\n",
      "Epoch 84/100\n",
      "10772/10772 [==============================] - 16s 2ms/step - loss: 0.2742 - accuracy: 0.8696\n",
      "Epoch 85/100\n",
      "10772/10772 [==============================] - 16s 2ms/step - loss: 0.2742 - accuracy: 0.8704\n",
      "Epoch 86/100\n",
      "10772/10772 [==============================] - 16s 2ms/step - loss: 0.2744 - accuracy: 0.8691\n",
      "Epoch 87/100\n",
      "10772/10772 [==============================] - 16s 2ms/step - loss: 0.2747 - accuracy: 0.8697\n",
      "Epoch 88/100\n",
      "10772/10772 [==============================] - 16s 2ms/step - loss: 0.2746 - accuracy: 0.8692\n",
      "Epoch 89/100\n",
      "10772/10772 [==============================] - 16s 2ms/step - loss: 0.2742 - accuracy: 0.8700\n",
      "Epoch 90/100\n",
      "10772/10772 [==============================] - 16s 2ms/step - loss: 0.2740 - accuracy: 0.8700\n",
      "Epoch 91/100\n",
      "10772/10772 [==============================] - 15s 1ms/step - loss: 0.2740 - accuracy: 0.8700\n",
      "Epoch 92/100\n",
      "10772/10772 [==============================] - 16s 1ms/step - loss: 0.2739 - accuracy: 0.8700\n",
      "Epoch 93/100\n",
      "10772/10772 [==============================] - 16s 1ms/step - loss: 0.2743 - accuracy: 0.8695\n",
      "Epoch 94/100\n",
      "10772/10772 [==============================] - 15s 1ms/step - loss: 0.2736 - accuracy: 0.8697\n",
      "Epoch 95/100\n",
      "10772/10772 [==============================] - 15s 1ms/step - loss: 0.2742 - accuracy: 0.8697\n",
      "Epoch 96/100\n",
      "10772/10772 [==============================] - 15s 1ms/step - loss: 0.2735 - accuracy: 0.8698\n",
      "Epoch 97/100\n",
      "10772/10772 [==============================] - 16s 1ms/step - loss: 0.2738 - accuracy: 0.8699\n",
      "Epoch 98/100\n",
      "10772/10772 [==============================] - 15s 1ms/step - loss: 0.2740 - accuracy: 0.8702\n",
      "Epoch 99/100\n",
      "10772/10772 [==============================] - 15s 1ms/step - loss: 0.2734 - accuracy: 0.8701\n",
      "Epoch 100/100\n",
      "10772/10772 [==============================] - 15s 1ms/step - loss: 0.2734 - accuracy: 0.8704\n"
     ]
    }
   ],
   "source": [
    "\n",
    "tf.random.set_seed(42)\n",
    "\n",
    "\n",
    "model_22 = tf.keras.Sequential([\n",
    "  tf.keras.layers.Dense(14,activation = 'relu'),\n",
    "  tf.keras.layers.Dense(36,activation = 'relu'),\n",
    "  tf.keras.layers.Dense(18,activation = 'relu'),\n",
    "  tf.keras.layers.Dense(9,activation = 'relu'),\n",
    "  tf.keras.layers.Dense(1,activation = 'sigmoid')                            \n",
    "])\n",
    "\n",
    "\n",
    "model_22.compile(loss = 'binary_crossentropy',\n",
    "                optimizer = tf.keras.optimizers.Adam(lr=0.001),\n",
    "                metrics = ['accuracy'])\n",
    "\n",
    "\n",
    "history_2 = model_22.fit(x_train2,y_train2,epochs = 100)"
   ]
  },
  {
   "cell_type": "code",
   "execution_count": 40,
   "metadata": {},
   "outputs": [
    {
     "name": "stdout",
     "output_type": "stream",
     "text": [
      "3591/3591 [==============================] - 4s 1ms/step - loss: 0.2742 - accuracy: 0.8702\n"
     ]
    },
    {
     "data": {
      "text/plain": [
       "[0.2741550803184509, 0.8702282309532166]"
      ]
     },
     "execution_count": 40,
     "metadata": {},
     "output_type": "execute_result"
    }
   ],
   "source": [
    "model_22.evaluate(x_test2,y_test2)"
   ]
  },
  {
   "cell_type": "code",
   "execution_count": 41,
   "metadata": {},
   "outputs": [
    {
     "name": "stdout",
     "output_type": "stream",
     "text": [
      "10772/10772 [==============================] - 12s 1ms/step\n",
      "3591/3591 [==============================] - 4s 1ms/step\n",
      "              precision    recall  f1-score   support\n",
      "\n",
      "         0.0       0.85      0.89      0.87    172233\n",
      "         1.0       0.89      0.85      0.87    172447\n",
      "\n",
      "    accuracy                           0.87    344680\n",
      "   macro avg       0.87      0.87      0.87    344680\n",
      "weighted avg       0.87      0.87      0.87    344680\n",
      "\n",
      "              precision    recall  f1-score   support\n",
      "\n",
      "         0.0       0.85      0.89      0.87     57554\n",
      "         1.0       0.89      0.85      0.87     57340\n",
      "\n",
      "    accuracy                           0.87    114894\n",
      "   macro avg       0.87      0.87      0.87    114894\n",
      "weighted avg       0.87      0.87      0.87    114894\n",
      "\n"
     ]
    }
   ],
   "source": [
    "ypred_train9 = model_22.predict(x_train2)\n",
    "y_pred_test9 = model_22.predict(x_test2)\n",
    "\n",
    "y_pred_test9 = (y_pred_test9 > 0.5)\n",
    "ypred_train9 = (ypred_train9 > 0.5)\n",
    "\n",
    "print(classification_report(y_train2,ypred_train9))\n",
    "print(classification_report(y_test2,y_pred_test9))"
   ]
  },
  {
   "cell_type": "code",
   "execution_count": 42,
   "metadata": {},
   "outputs": [
    {
     "name": "stdout",
     "output_type": "stream",
     "text": [
      "   1/3591 [..............................] - ETA: 1:32"
     ]
    },
    {
     "name": "stdout",
     "output_type": "stream",
     "text": [
      "3591/3591 [==============================] - 4s 1ms/step\n"
     ]
    },
    {
     "data": {
      "image/png": "[encoded data removed]",
      "text/plain": [
       "<Figure size 640x480 with 1 Axes>"
      ]
     },
     "metadata": {},
     "output_type": "display_data"
    }
   ],
   "source": [
    "import matplotlib.pyplot as plt\n",
    "\n",
    "y_proba_test = model_22.predict(x_test2).flatten()\n",
    "\n",
    "fpr, tpr, thresholds = roc_curve(y_test2, y_proba_test)\n",
    "\n",
    "plt.plot(fpr, tpr, label='ROC Curve')\n",
    "plt.xlabel('False Positive Rate')\n",
    "plt.ylabel('True Positive Rate')\n",
    "plt.title('ROC Curve with AUC = {:.2f}'.format(roc_auc_score(y_test2, y_proba_test)))\n",
    "plt.legend(loc='lower right')\n",
    "plt.grid(True)\n",
    "plt.show()"
   ]
  },
  {
   "cell_type": "markdown",
   "metadata": {},
   "source": [
    "## inny model"
   ]
  },
  {
   "cell_type": "code",
   "execution_count": 43,
   "metadata": {},
   "outputs": [
    {
     "name": "stdout",
     "output_type": "stream",
     "text": [
      "WARNING:tensorflow:From C:\\Users\\DELL\\AppData\\Roaming\\Python\\Python311\\site-packages\\keras\\src\\optimizers\\__init__.py:309: The name tf.train.Optimizer is deprecated. Please use tf.compat.v1.train.Optimizer instead.\n",
      "\n"
     ]
    },
    {
     "name": "stderr",
     "output_type": "stream",
     "text": [
      "WARNING:tensorflow:From C:\\Users\\DELL\\AppData\\Roaming\\Python\\Python311\\site-packages\\keras\\src\\optimizers\\__init__.py:309: The name tf.train.Optimizer is deprecated. Please use tf.compat.v1.train.Optimizer instead.\n",
      "\n"
     ]
    }
   ],
   "source": [
    "model1 = Sequential()\n",
    "model1.add(Dense(units=14,activation='relu'))\n",
    "model1.add(Dropout(0.5))\n",
    "\n",
    "model1.add(Dense(units=28,activation='relu'))\n",
    "model1.add(Dropout(0.5))\n",
    "\n",
    "model1.add(Dense(units=1,activation='sigmoid'))\n",
    "model1.compile(loss='binary_crossentropy', optimizer='adam')"
   ]
  },
  {
   "cell_type": "code",
   "execution_count": 44,
   "metadata": {},
   "outputs": [
    {
     "name": "stdout",
     "output_type": "stream",
     "text": [
      "Epoch 1/100\n",
      "10772/10772 [==============================] - 20s 2ms/step - loss: 0.5201 - val_loss: 0.4692\n",
      "Epoch 2/100\n",
      "10772/10772 [==============================] - 19s 2ms/step - loss: 0.4902 - val_loss: 0.4607\n",
      "Epoch 3/100\n",
      "10772/10772 [==============================] - 19s 2ms/step - loss: 0.4849 - val_loss: 0.4618\n",
      "Epoch 4/100\n",
      "10772/10772 [==============================] - 19s 2ms/step - loss: 0.4826 - val_loss: 0.4550\n",
      "Epoch 5/100\n",
      "10772/10772 [==============================] - 19s 2ms/step - loss: 0.4821 - val_loss: 0.4534\n",
      "Epoch 6/100\n",
      "10772/10772 [==============================] - 19s 2ms/step - loss: 0.4821 - val_loss: 0.4582\n",
      "Epoch 7/100\n",
      "10772/10772 [==============================] - 19s 2ms/step - loss: 0.4802 - val_loss: 0.4585\n",
      "Epoch 8/100\n",
      "10772/10772 [==============================] - 19s 2ms/step - loss: 0.4804 - val_loss: 0.4539\n",
      "Epoch 9/100\n",
      "10772/10772 [==============================] - 19s 2ms/step - loss: 0.4802 - val_loss: 0.4596\n",
      "Epoch 10/100\n",
      "10772/10772 [==============================] - 19s 2ms/step - loss: 0.4801 - val_loss: 0.4572\n",
      "Epoch 11/100\n",
      "10772/10772 [==============================] - 19s 2ms/step - loss: 0.4794 - val_loss: 0.4542\n",
      "Epoch 12/100\n",
      "10772/10772 [==============================] - 19s 2ms/step - loss: 0.4792 - val_loss: 0.4573\n",
      "Epoch 13/100\n",
      "10772/10772 [==============================] - 19s 2ms/step - loss: 0.4797 - val_loss: 0.4581\n",
      "Epoch 14/100\n",
      "10772/10772 [==============================] - 18s 2ms/step - loss: 0.4793 - val_loss: 0.4515\n",
      "Epoch 15/100\n",
      "10772/10772 [==============================] - 19s 2ms/step - loss: 0.4788 - val_loss: 0.4572\n",
      "Epoch 16/100\n",
      "10772/10772 [==============================] - 19s 2ms/step - loss: 0.4787 - val_loss: 0.4568\n",
      "Epoch 17/100\n",
      "10772/10772 [==============================] - 19s 2ms/step - loss: 0.4788 - val_loss: 0.4514\n",
      "Epoch 18/100\n",
      "10772/10772 [==============================] - 19s 2ms/step - loss: 0.4787 - val_loss: 0.4514\n",
      "Epoch 19/100\n",
      "10772/10772 [==============================] - 19s 2ms/step - loss: 0.4784 - val_loss: 0.4554\n",
      "Epoch 20/100\n",
      "10772/10772 [==============================] - 19s 2ms/step - loss: 0.4785 - val_loss: 0.4507\n",
      "Epoch 21/100\n",
      "10772/10772 [==============================] - 19s 2ms/step - loss: 0.4784 - val_loss: 0.4504\n",
      "Epoch 22/100\n",
      "10772/10772 [==============================] - 19s 2ms/step - loss: 0.4784 - val_loss: 0.4523\n",
      "Epoch 23/100\n",
      "10772/10772 [==============================] - 19s 2ms/step - loss: 0.4777 - val_loss: 0.4496\n",
      "Epoch 24/100\n",
      "10772/10772 [==============================] - 20s 2ms/step - loss: 0.4779 - val_loss: 0.4501\n",
      "Epoch 25/100\n",
      "10772/10772 [==============================] - 20s 2ms/step - loss: 0.4767 - val_loss: 0.4516\n",
      "Epoch 26/100\n",
      "10772/10772 [==============================] - 20s 2ms/step - loss: 0.4761 - val_loss: 0.4489\n",
      "Epoch 27/100\n",
      "10772/10772 [==============================] - 24s 2ms/step - loss: 0.4758 - val_loss: 0.4488\n",
      "Epoch 28/100\n",
      "10772/10772 [==============================] - 24s 2ms/step - loss: 0.4767 - val_loss: 0.4542\n",
      "Epoch 29/100\n",
      "10772/10772 [==============================] - 24s 2ms/step - loss: 0.4764 - val_loss: 0.4528\n",
      "Epoch 30/100\n",
      "10772/10772 [==============================] - 23s 2ms/step - loss: 0.4756 - val_loss: 0.4484\n",
      "Epoch 31/100\n",
      "10772/10772 [==============================] - 22s 2ms/step - loss: 0.4754 - val_loss: 0.4503\n",
      "Epoch 32/100\n",
      "10772/10772 [==============================] - 33s 3ms/step - loss: 0.4762 - val_loss: 0.4465\n",
      "Epoch 33/100\n",
      "10772/10772 [==============================] - 33s 3ms/step - loss: 0.4750 - val_loss: 0.4476\n",
      "Epoch 34/100\n",
      "10772/10772 [==============================] - 26s 2ms/step - loss: 0.4755 - val_loss: 0.4527\n",
      "Epoch 35/100\n",
      "10772/10772 [==============================] - 26s 2ms/step - loss: 0.4763 - val_loss: 0.4511\n",
      "Epoch 36/100\n",
      "10772/10772 [==============================] - 25s 2ms/step - loss: 0.4762 - val_loss: 0.4474\n",
      "Epoch 37/100\n",
      "10772/10772 [==============================] - 26s 2ms/step - loss: 0.4762 - val_loss: 0.4471\n",
      "Epoch 38/100\n",
      "10772/10772 [==============================] - 27s 3ms/step - loss: 0.4757 - val_loss: 0.4519\n",
      "Epoch 39/100\n",
      "10772/10772 [==============================] - 27s 2ms/step - loss: 0.4761 - val_loss: 0.4487\n",
      "Epoch 40/100\n",
      "10772/10772 [==============================] - 25s 2ms/step - loss: 0.4755 - val_loss: 0.4544\n",
      "Epoch 41/100\n",
      "10772/10772 [==============================] - 26s 2ms/step - loss: 0.4750 - val_loss: 0.4485\n",
      "Epoch 42/100\n",
      "10772/10772 [==============================] - 27s 2ms/step - loss: 0.4753 - val_loss: 0.4539\n",
      "Epoch 43/100\n",
      "10772/10772 [==============================] - 24s 2ms/step - loss: 0.4751 - val_loss: 0.4462\n",
      "Epoch 44/100\n",
      "10772/10772 [==============================] - 25s 2ms/step - loss: 0.4755 - val_loss: 0.4550\n",
      "Epoch 45/100\n",
      "10772/10772 [==============================] - 25s 2ms/step - loss: 0.4763 - val_loss: 0.4519\n",
      "Epoch 46/100\n",
      "10772/10772 [==============================] - 25s 2ms/step - loss: 0.4757 - val_loss: 0.4508\n",
      "Epoch 47/100\n",
      "10772/10772 [==============================] - 25s 2ms/step - loss: 0.4754 - val_loss: 0.4520\n",
      "Epoch 48/100\n",
      "10772/10772 [==============================] - 25s 2ms/step - loss: 0.4749 - val_loss: 0.4500\n",
      "Epoch 49/100\n",
      "10772/10772 [==============================] - 24s 2ms/step - loss: 0.4755 - val_loss: 0.4539\n",
      "Epoch 50/100\n",
      "10772/10772 [==============================] - 24s 2ms/step - loss: 0.4760 - val_loss: 0.4493\n",
      "Epoch 51/100\n",
      "10772/10772 [==============================] - 24s 2ms/step - loss: 0.4759 - val_loss: 0.4505\n",
      "Epoch 52/100\n",
      "10772/10772 [==============================] - 24s 2ms/step - loss: 0.4747 - val_loss: 0.4472\n",
      "Epoch 53/100\n",
      "10772/10772 [==============================] - 23s 2ms/step - loss: 0.4751 - val_loss: 0.4463\n",
      "Epoch 54/100\n",
      "10772/10772 [==============================] - 23s 2ms/step - loss: 0.4751 - val_loss: 0.4536\n",
      "Epoch 55/100\n",
      "10772/10772 [==============================] - 23s 2ms/step - loss: 0.4753 - val_loss: 0.4535\n",
      "Epoch 56/100\n",
      "10772/10772 [==============================] - 23s 2ms/step - loss: 0.4755 - val_loss: 0.4523\n",
      "Epoch 57/100\n",
      "10772/10772 [==============================] - 23s 2ms/step - loss: 0.4753 - val_loss: 0.4499\n",
      "Epoch 58/100\n",
      "10772/10772 [==============================] - 23s 2ms/step - loss: 0.4754 - val_loss: 0.4498\n",
      "Epoch 59/100\n",
      "10772/10772 [==============================] - 23s 2ms/step - loss: 0.4756 - val_loss: 0.4518\n",
      "Epoch 60/100\n",
      "10772/10772 [==============================] - 23s 2ms/step - loss: 0.4757 - val_loss: 0.4500\n",
      "Epoch 61/100\n",
      "10772/10772 [==============================] - 23s 2ms/step - loss: 0.4750 - val_loss: 0.4488\n",
      "Epoch 62/100\n",
      "10772/10772 [==============================] - 24s 2ms/step - loss: 0.4747 - val_loss: 0.4475\n",
      "Epoch 63/100\n",
      "10772/10772 [==============================] - 24s 2ms/step - loss: 0.4754 - val_loss: 0.4498\n",
      "Epoch 64/100\n",
      "10772/10772 [==============================] - 24s 2ms/step - loss: 0.4755 - val_loss: 0.4506\n",
      "Epoch 65/100\n",
      "10772/10772 [==============================] - 24s 2ms/step - loss: 0.4750 - val_loss: 0.4492\n",
      "Epoch 66/100\n",
      "10772/10772 [==============================] - 25s 2ms/step - loss: 0.4751 - val_loss: 0.4481\n",
      "Epoch 67/100\n",
      "10772/10772 [==============================] - 25s 2ms/step - loss: 0.4751 - val_loss: 0.4534\n",
      "Epoch 68/100\n",
      "10772/10772 [==============================] - 26s 2ms/step - loss: 0.4745 - val_loss: 0.4492\n",
      "Epoch 68: early stopping\n"
     ]
    },
    {
     "data": {
      "text/plain": [
       "<keras.src.callbacks.History at 0x1ee9d41eb50>"
      ]
     },
     "execution_count": 44,
     "metadata": {},
     "output_type": "execute_result"
    }
   ],
   "source": [
    "model1.fit(x=x_train2, \n",
    "          y=y_train2, \n",
    "          epochs=100,\n",
    "          validation_data=(x_test2, y_test2), verbose=1,\n",
    "          callbacks=[early_stop]\n",
    "          )"
   ]
  },
  {
   "cell_type": "code",
   "execution_count": 45,
   "metadata": {},
   "outputs": [
    {
     "name": "stdout",
     "output_type": "stream",
     "text": [
      "10772/10772 [==============================] - 15s 1ms/step\n",
      "3591/3591 [==============================] - 5s 1ms/step\n"
     ]
    }
   ],
   "source": [
    "ypred_train10 = model1.predict(x_train2)\n",
    "y_pred_test10 = model1.predict(x_test2)\n",
    "\n",
    "y_pred_test10 = (y_pred_test10 > 0.5)\n",
    "ypred_train10 = (ypred_train10 > 0.5)\n",
    "\n",
    "\n"
   ]
  },
  {
   "cell_type": "code",
   "execution_count": 46,
   "metadata": {},
   "outputs": [
    {
     "name": "stdout",
     "output_type": "stream",
     "text": [
      "trening Results\n",
      "\n",
      "              precision    recall  f1-score   support\n",
      "\n",
      "         0.0       0.82      0.77      0.79    172233\n",
      "         1.0       0.78      0.83      0.81    172447\n",
      "\n",
      "    accuracy                           0.80    344680\n",
      "   macro avg       0.80      0.80      0.80    344680\n",
      "weighted avg       0.80      0.80      0.80    344680\n",
      "\n"
     ]
    }
   ],
   "source": [
    "print('trening Results\\n')\n",
    "print(classification_report(y_train2,ypred_train10))"
   ]
  },
  {
   "cell_type": "code",
   "execution_count": 47,
   "metadata": {},
   "outputs": [
    {
     "name": "stdout",
     "output_type": "stream",
     "text": [
      "Testing Results\n",
      "\n",
      "              precision    recall  f1-score   support\n",
      "\n",
      "         0.0       0.82      0.77      0.79     57554\n",
      "         1.0       0.78      0.83      0.81     57340\n",
      "\n",
      "    accuracy                           0.80    114894\n",
      "   macro avg       0.80      0.80      0.80    114894\n",
      "weighted avg       0.80      0.80      0.80    114894\n",
      "\n"
     ]
    }
   ],
   "source": [
    "print('Testing Results\\n')\n",
    "print(classification_report(y_test2,y_pred_test10))"
   ]
  },
  {
   "cell_type": "code",
   "execution_count": 48,
   "metadata": {},
   "outputs": [
    {
     "name": "stdout",
     "output_type": "stream",
     "text": [
      "3591/3591 [==============================] - 5s 1ms/step\n"
     ]
    },
    {
     "data": {
      "image/png": "[encoded data removed]",
      "text/plain": [
       "<Figure size 640x480 with 1 Axes>"
      ]
     },
     "metadata": {},
     "output_type": "display_data"
    }
   ],
   "source": [
    "import matplotlib.pyplot as plt\n",
    "\n",
    "y_proba_test = model1.predict(x_test2).flatten()\n",
    "\n",
    "fpr, tpr, thresholds = roc_curve(y_test2, y_proba_test)\n",
    "\n",
    "plt.plot(fpr, tpr, label='ROC Curve')\n",
    "plt.xlabel('False Positive Rate')\n",
    "plt.ylabel('True Positive Rate')\n",
    "plt.title('ROC Curve with AUC = {:.2f}'.format(roc_auc_score(y_test2, y_proba_test)))\n",
    "plt.legend(loc='lower right')\n",
    "plt.grid(True)\n",
    "plt.show()"
   ]
  },
  {
   "cell_type": "markdown",
   "metadata": {},
   "source": [
    "## inny model"
   ]
  },
  {
   "cell_type": "code",
   "execution_count": 49,
   "metadata": {},
   "outputs": [],
   "source": [
    "model2 = Sequential()\n",
    "\n",
    "\n",
    "model2.add(Dense(14,  activation='relu'))\n",
    "model2.add(Dropout(0.2))\n",
    "\n",
    "model2.add(Dense(10, activation='relu'))\n",
    "model2.add(Dropout(0.2))\n",
    "\n",
    "model2.add(Dense(units=1,activation='sigmoid'))\n",
    "\n",
    "model2.compile(loss='binary_crossentropy', optimizer='adam')"
   ]
  },
  {
   "cell_type": "code",
   "execution_count": 50,
   "metadata": {},
   "outputs": [
    {
     "name": "stdout",
     "output_type": "stream",
     "text": [
      "Epoch 1/100\n",
      "10772/10772 [==============================] - 27s 2ms/step - loss: 0.4904 - val_loss: 0.4444\n",
      "Epoch 2/100\n",
      "10772/10772 [==============================] - 26s 2ms/step - loss: 0.4576 - val_loss: 0.4293\n",
      "Epoch 3/100\n",
      "10772/10772 [==============================] - 27s 2ms/step - loss: 0.4476 - val_loss: 0.4165\n",
      "Epoch 4/100\n",
      "10772/10772 [==============================] - 27s 2ms/step - loss: 0.4435 - val_loss: 0.4156\n",
      "Epoch 5/100\n",
      "10772/10772 [==============================] - 27s 2ms/step - loss: 0.4410 - val_loss: 0.4087\n",
      "Epoch 6/100\n",
      "10772/10772 [==============================] - 27s 2ms/step - loss: 0.4401 - val_loss: 0.4111\n",
      "Epoch 7/100\n",
      "10772/10772 [==============================] - 27s 2ms/step - loss: 0.4387 - val_loss: 0.4089\n",
      "Epoch 8/100\n",
      "10772/10772 [==============================] - 27s 2ms/step - loss: 0.4387 - val_loss: 0.4094\n",
      "Epoch 9/100\n",
      "10772/10772 [==============================] - 28s 3ms/step - loss: 0.4378 - val_loss: 0.4095\n",
      "Epoch 10/100\n",
      "10772/10772 [==============================] - 27s 3ms/step - loss: 0.4363 - val_loss: 0.4050\n",
      "Epoch 11/100\n",
      "10772/10772 [==============================] - 28s 3ms/step - loss: 0.4362 - val_loss: 0.4028\n",
      "Epoch 12/100\n",
      "10772/10772 [==============================] - 28s 3ms/step - loss: 0.4362 - val_loss: 0.4025\n",
      "Epoch 13/100\n",
      "10772/10772 [==============================] - 27s 3ms/step - loss: 0.4357 - val_loss: 0.4008\n",
      "Epoch 14/100\n",
      "10772/10772 [==============================] - 28s 3ms/step - loss: 0.4349 - val_loss: 0.4017\n",
      "Epoch 15/100\n",
      "10772/10772 [==============================] - 27s 3ms/step - loss: 0.4344 - val_loss: 0.4009\n",
      "Epoch 16/100\n",
      "10772/10772 [==============================] - 27s 3ms/step - loss: 0.4350 - val_loss: 0.4041\n",
      "Epoch 17/100\n",
      "10772/10772 [==============================] - 28s 3ms/step - loss: 0.4333 - val_loss: 0.4004\n",
      "Epoch 18/100\n",
      "10772/10772 [==============================] - 27s 3ms/step - loss: 0.4344 - val_loss: 0.4000\n",
      "Epoch 19/100\n",
      "10772/10772 [==============================] - 27s 3ms/step - loss: 0.4341 - val_loss: 0.4000\n",
      "Epoch 20/100\n",
      "10772/10772 [==============================] - 28s 3ms/step - loss: 0.4331 - val_loss: 0.3994\n",
      "Epoch 21/100\n",
      "10772/10772 [==============================] - 28s 3ms/step - loss: 0.4330 - val_loss: 0.3993\n",
      "Epoch 22/100\n",
      "10772/10772 [==============================] - 28s 3ms/step - loss: 0.4323 - val_loss: 0.3955\n",
      "Epoch 23/100\n",
      "10772/10772 [==============================] - 27s 3ms/step - loss: 0.4327 - val_loss: 0.3969\n",
      "Epoch 24/100\n",
      "10772/10772 [==============================] - 28s 3ms/step - loss: 0.4327 - val_loss: 0.4001\n",
      "Epoch 25/100\n",
      "10772/10772 [==============================] - 28s 3ms/step - loss: 0.4332 - val_loss: 0.4018\n",
      "Epoch 26/100\n",
      "10772/10772 [==============================] - 28s 3ms/step - loss: 0.4316 - val_loss: 0.3988\n",
      "Epoch 27/100\n",
      "10772/10772 [==============================] - 28s 3ms/step - loss: 0.4319 - val_loss: 0.3958\n",
      "Epoch 28/100\n",
      "10772/10772 [==============================] - 28s 3ms/step - loss: 0.4322 - val_loss: 0.3998\n",
      "Epoch 29/100\n",
      "10772/10772 [==============================] - 27s 3ms/step - loss: 0.4325 - val_loss: 0.3991\n",
      "Epoch 30/100\n",
      "10772/10772 [==============================] - 27s 2ms/step - loss: 0.4324 - val_loss: 0.3998\n",
      "Epoch 31/100\n",
      "10772/10772 [==============================] - 27s 3ms/step - loss: 0.4327 - val_loss: 0.3978\n",
      "Epoch 32/100\n",
      "10772/10772 [==============================] - 29s 3ms/step - loss: 0.4316 - val_loss: 0.3952\n",
      "Epoch 33/100\n",
      "10772/10772 [==============================] - 28s 3ms/step - loss: 0.4313 - val_loss: 0.3964\n",
      "Epoch 34/100\n",
      "10772/10772 [==============================] - 28s 3ms/step - loss: 0.4321 - val_loss: 0.3967\n",
      "Epoch 35/100\n",
      "10772/10772 [==============================] - 29s 3ms/step - loss: 0.4313 - val_loss: 0.3983\n",
      "Epoch 36/100\n",
      "10772/10772 [==============================] - 26s 2ms/step - loss: 0.4309 - val_loss: 0.3961\n",
      "Epoch 37/100\n",
      "10772/10772 [==============================] - 23s 2ms/step - loss: 0.4307 - val_loss: 0.3955\n",
      "Epoch 38/100\n",
      "10772/10772 [==============================] - 23s 2ms/step - loss: 0.4309 - val_loss: 0.3977\n",
      "Epoch 39/100\n",
      "10772/10772 [==============================] - 23s 2ms/step - loss: 0.4316 - val_loss: 0.3958\n",
      "Epoch 40/100\n",
      "10772/10772 [==============================] - 24s 2ms/step - loss: 0.4312 - val_loss: 0.3981\n",
      "Epoch 41/100\n",
      "10772/10772 [==============================] - 23s 2ms/step - loss: 0.4315 - val_loss: 0.3971\n",
      "Epoch 42/100\n",
      "10772/10772 [==============================] - 24s 2ms/step - loss: 0.4303 - val_loss: 0.3961\n",
      "Epoch 43/100\n",
      "10772/10772 [==============================] - 24s 2ms/step - loss: 0.4310 - val_loss: 0.3982\n",
      "Epoch 44/100\n",
      "10772/10772 [==============================] - 25s 2ms/step - loss: 0.4310 - val_loss: 0.3971\n",
      "Epoch 45/100\n",
      "10772/10772 [==============================] - 25s 2ms/step - loss: 0.4319 - val_loss: 0.3961\n",
      "Epoch 46/100\n",
      "10772/10772 [==============================] - 30s 3ms/step - loss: 0.4303 - val_loss: 0.3958\n",
      "Epoch 47/100\n",
      "10772/10772 [==============================] - 29s 3ms/step - loss: 0.4302 - val_loss: 0.3967\n",
      "Epoch 48/100\n",
      "10772/10772 [==============================] - 28s 3ms/step - loss: 0.4307 - val_loss: 0.3963\n",
      "Epoch 49/100\n",
      "10772/10772 [==============================] - 29s 3ms/step - loss: 0.4308 - val_loss: 0.3975\n",
      "Epoch 50/100\n",
      "10772/10772 [==============================] - 28s 3ms/step - loss: 0.4303 - val_loss: 0.3957\n",
      "Epoch 51/100\n",
      "10772/10772 [==============================] - 28s 3ms/step - loss: 0.4307 - val_loss: 0.3968\n",
      "Epoch 52/100\n",
      "10772/10772 [==============================] - 28s 3ms/step - loss: 0.4306 - val_loss: 0.3954\n",
      "Epoch 53/100\n",
      "10772/10772 [==============================] - 29s 3ms/step - loss: 0.4305 - val_loss: 0.3975\n",
      "Epoch 54/100\n",
      "10772/10772 [==============================] - 29s 3ms/step - loss: 0.4308 - val_loss: 0.3945\n",
      "Epoch 55/100\n",
      "10772/10772 [==============================] - 28s 3ms/step - loss: 0.4299 - val_loss: 0.3943\n",
      "Epoch 56/100\n",
      "10772/10772 [==============================] - 28s 3ms/step - loss: 0.4302 - val_loss: 0.3966\n",
      "Epoch 57/100\n",
      "10772/10772 [==============================] - 28s 3ms/step - loss: 0.4308 - val_loss: 0.3990\n",
      "Epoch 58/100\n",
      "10772/10772 [==============================] - 27s 3ms/step - loss: 0.4313 - val_loss: 0.3947\n",
      "Epoch 59/100\n",
      "10772/10772 [==============================] - 30s 3ms/step - loss: 0.4295 - val_loss: 0.3998\n",
      "Epoch 60/100\n",
      "10772/10772 [==============================] - 35s 3ms/step - loss: 0.4303 - val_loss: 0.3920\n",
      "Epoch 61/100\n",
      "10772/10772 [==============================] - 31s 3ms/step - loss: 0.4311 - val_loss: 0.3941\n",
      "Epoch 62/100\n",
      "10772/10772 [==============================] - 31s 3ms/step - loss: 0.4302 - val_loss: 0.3964\n",
      "Epoch 63/100\n",
      "10772/10772 [==============================] - 24s 2ms/step - loss: 0.4307 - val_loss: 0.3963\n",
      "Epoch 64/100\n",
      "10772/10772 [==============================] - 24s 2ms/step - loss: 0.4291 - val_loss: 0.3959\n",
      "Epoch 65/100\n",
      "10772/10772 [==============================] - 28s 3ms/step - loss: 0.4304 - val_loss: 0.3953\n",
      "Epoch 66/100\n",
      "10772/10772 [==============================] - 29s 3ms/step - loss: 0.4304 - val_loss: 0.3988\n",
      "Epoch 67/100\n",
      "10772/10772 [==============================] - 30s 3ms/step - loss: 0.4306 - val_loss: 0.3952\n",
      "Epoch 68/100\n",
      "10772/10772 [==============================] - 30s 3ms/step - loss: 0.4299 - val_loss: 0.3956\n",
      "Epoch 69/100\n",
      "10772/10772 [==============================] - 28s 3ms/step - loss: 0.4308 - val_loss: 0.3967\n",
      "Epoch 70/100\n",
      "10772/10772 [==============================] - 23s 2ms/step - loss: 0.4296 - val_loss: 0.3973\n",
      "Epoch 71/100\n",
      "10772/10772 [==============================] - 24s 2ms/step - loss: 0.4305 - val_loss: 0.3958\n",
      "Epoch 72/100\n",
      "10772/10772 [==============================] - 23s 2ms/step - loss: 0.4295 - val_loss: 0.3923\n",
      "Epoch 73/100\n",
      "10772/10772 [==============================] - 24s 2ms/step - loss: 0.4305 - val_loss: 0.3951\n",
      "Epoch 74/100\n",
      "10772/10772 [==============================] - 23s 2ms/step - loss: 0.4304 - val_loss: 0.3977\n",
      "Epoch 75/100\n",
      "10772/10772 [==============================] - 24s 2ms/step - loss: 0.4303 - val_loss: 0.3958\n",
      "Epoch 76/100\n",
      "10772/10772 [==============================] - 22s 2ms/step - loss: 0.4308 - val_loss: 0.3945\n",
      "Epoch 77/100\n",
      "10772/10772 [==============================] - 27s 2ms/step - loss: 0.4296 - val_loss: 0.4000\n",
      "Epoch 78/100\n",
      "10772/10772 [==============================] - 25s 2ms/step - loss: 0.4303 - val_loss: 0.3932\n",
      "Epoch 79/100\n",
      "10772/10772 [==============================] - 25s 2ms/step - loss: 0.4299 - val_loss: 0.3947\n",
      "Epoch 80/100\n",
      "10772/10772 [==============================] - 24s 2ms/step - loss: 0.4300 - val_loss: 0.3977\n",
      "Epoch 81/100\n",
      "10772/10772 [==============================] - 26s 2ms/step - loss: 0.4295 - val_loss: 0.4006\n",
      "Epoch 82/100\n",
      "10772/10772 [==============================] - 27s 3ms/step - loss: 0.4304 - val_loss: 0.3951\n",
      "Epoch 83/100\n",
      "10772/10772 [==============================] - 24s 2ms/step - loss: 0.4292 - val_loss: 0.3994\n",
      "Epoch 84/100\n",
      "10772/10772 [==============================] - 26s 2ms/step - loss: 0.4296 - val_loss: 0.3991\n",
      "Epoch 85/100\n",
      "10772/10772 [==============================] - 24s 2ms/step - loss: 0.4299 - val_loss: 0.3959\n",
      "Epoch 85: early stopping\n"
     ]
    },
    {
     "data": {
      "text/plain": [
       "<keras.src.callbacks.History at 0x1ef124ceb50>"
      ]
     },
     "execution_count": 50,
     "metadata": {},
     "output_type": "execute_result"
    }
   ],
   "source": [
    "model2.fit(x=x_train2, \n",
    "          y=y_train2, \n",
    "          epochs=100,\n",
    "          validation_data=(x_test2, y_test2), verbose=1,\n",
    "          callbacks=[early_stop]\n",
    "          )"
   ]
  },
  {
   "cell_type": "code",
   "execution_count": 51,
   "metadata": {},
   "outputs": [
    {
     "name": "stdout",
     "output_type": "stream",
     "text": [
      "10772/10772 [==============================] - 16s 1ms/step\n",
      "3591/3591 [==============================] - 5s 1ms/step\n",
      "              precision    recall  f1-score   support\n",
      "\n",
      "         0.0       0.83      0.82      0.83    172233\n",
      "         1.0       0.82      0.83      0.83    172447\n",
      "\n",
      "    accuracy                           0.83    344680\n",
      "   macro avg       0.83      0.83      0.83    344680\n",
      "weighted avg       0.83      0.83      0.83    344680\n",
      "\n",
      "              precision    recall  f1-score   support\n",
      "\n",
      "         0.0       0.83      0.82      0.82     57554\n",
      "         1.0       0.82      0.83      0.83     57340\n",
      "\n",
      "    accuracy                           0.83    114894\n",
      "   macro avg       0.83      0.83      0.83    114894\n",
      "weighted avg       0.83      0.83      0.83    114894\n",
      "\n"
     ]
    }
   ],
   "source": [
    "ypred_train11 = model2.predict(x_train2)\n",
    "y_pred_test11 = model2.predict(x_test2)\n",
    "\n",
    "y_pred_test11 = (y_pred_test11 > 0.5)\n",
    "ypred_train11 = (ypred_train11 > 0.5)\n",
    "\n",
    "print(classification_report(y_train2,ypred_train11))\n",
    "print(classification_report(y_test2,y_pred_test11))"
   ]
  },
  {
   "cell_type": "code",
   "execution_count": 52,
   "metadata": {},
   "outputs": [
    {
     "name": "stdout",
     "output_type": "stream",
     "text": [
      "3591/3591 [==============================] - 5s 1ms/step\n"
     ]
    },
    {
     "data": {
      "image/png": "[encoded data removed]",
      "text/plain": [
       "<Figure size 640x480 with 1 Axes>"
      ]
     },
     "metadata": {},
     "output_type": "display_data"
    }
   ],
   "source": [
    "import matplotlib.pyplot as plt\n",
    "\n",
    "y_proba_test = model2.predict(x_test2).flatten()\n",
    "\n",
    "fpr, tpr, thresholds = roc_curve(y_test2, y_proba_test)\n",
    "\n",
    "plt.plot(fpr, tpr, label='ROC Curve')\n",
    "plt.xlabel('False Positive Rate')\n",
    "plt.ylabel('True Positive Rate')\n",
    "plt.title('ROC Curve with AUC = {:.2f}'.format(roc_auc_score(y_test2, y_proba_test)))\n",
    "plt.legend(loc='lower right')\n",
    "plt.grid(True)\n",
    "plt.show()"
   ]
  },
  {
   "cell_type": "markdown",
   "metadata": {},
   "source": [
    "## SVC"
   ]
  },
  {
   "cell_type": "code",
   "execution_count": 63,
   "metadata": {},
   "outputs": [
    {
     "name": "stdout",
     "output_type": "stream",
     "text": [
      "Training Results\n",
      "\n",
      "              precision    recall  f1-score   support\n",
      "\n",
      "         0.0       0.85      0.86      0.85    172233\n",
      "         1.0       0.86      0.85      0.85    172447\n",
      "\n",
      "    accuracy                           0.85    344680\n",
      "   macro avg       0.85      0.85      0.85    344680\n",
      "weighted avg       0.85      0.85      0.85    344680\n",
      "\n",
      "Testing Results\n",
      "\n",
      "              precision    recall  f1-score   support\n",
      "\n",
      "         0.0       0.85      0.86      0.85     57554\n",
      "         1.0       0.86      0.85      0.85     57340\n",
      "\n",
      "    accuracy                           0.85    114894\n",
      "   macro avg       0.85      0.85      0.85    114894\n",
      "weighted avg       0.85      0.85      0.85    114894\n",
      "\n"
     ]
    },
    {
     "data": {
      "image/png": "[encoded data removed]",
      "text/plain": [
       "<Figure size 640x480 with 1 Axes>"
      ]
     },
     "metadata": {},
     "output_type": "display_data"
    }
   ],
   "source": [
    "model3 = SVC(C=0.1, gamma=1, kernel='rbf', probability=True)\n",
    "model3.fit(x_train2, y_train2)\n",
    "\n",
    "ypred_train14 = model3.predict(x_train2)\n",
    "y_pred_test14 = model3.predict(x_test2)\n",
    "\n",
    "print(\"Training Results\\n\")\n",
    "print(classification_report(y_train2, ypred_train14))\n",
    "print(\"Testing Results\\n\")\n",
    "print(classification_report(y_test2, y_pred_test14))\n",
    "\n",
    "y_proba_test = model3.predict_proba(x_test2)[:, 1]\n",
    "fpr, tpr, thresholds = roc_curve(y_test2, y_proba_test)\n",
    "plt.plot(fpr, tpr, label='ROC Curve')\n",
    "plt.xlabel('False Positive Rate')\n",
    "plt.ylabel('True Positive Rate')\n",
    "plt.title('ROC Curve with AUC = {:.2f}'.format(roc_auc_score(y_test2, y_proba_test)))\n",
    "plt.legend(loc='lower right')\n",
    "plt.grid(True)\n",
    "plt.show()"
   ]
  },
  {
   "cell_type": "code",
   "execution_count": 53,
   "metadata": {},
   "outputs": [],
   "source": [
    "# model3 = SVC(probability=True)"
   ]
  },
  {
   "cell_type": "code",
   "execution_count": 54,
   "metadata": {},
   "outputs": [],
   "source": [
    "# model3.fit(x_train2,y_train2)"
   ]
  },
  {
   "cell_type": "code",
   "execution_count": 55,
   "metadata": {},
   "outputs": [],
   "source": [
    "# ypred_train12 = model3.predict(x_train2)\n",
    "# y_pred_test12 = model3.predict(x_test2)\n",
    "\n",
    "\n",
    "# print(classification_report(y_train2,ypred_train12))\n",
    "# print(classification_report(y_test2,y_pred_test12))"
   ]
  },
  {
   "cell_type": "code",
   "execution_count": 56,
   "metadata": {},
   "outputs": [],
   "source": [
    "# param_grid = {'C': [0.1,1, 10, 100, 1000], 'gamma': [1,0.1,0.01,0.001,0.0001], 'kernel': ['rbf']} "
   ]
  },
  {
   "cell_type": "code",
   "execution_count": 57,
   "metadata": {},
   "outputs": [],
   "source": [
    "# grid = GridSearchCV(SVC(),param_grid,refit=True,verbose=3)"
   ]
  },
  {
   "cell_type": "code",
   "execution_count": 58,
   "metadata": {},
   "outputs": [],
   "source": [
    "# grid.fit(x_train2,y_train2)"
   ]
  },
  {
   "cell_type": "code",
   "execution_count": 59,
   "metadata": {},
   "outputs": [],
   "source": [
    "# grid.best_params_"
   ]
  },
  {
   "cell_type": "code",
   "execution_count": 60,
   "metadata": {},
   "outputs": [],
   "source": [
    "# grid.best_estimator_"
   ]
  },
  {
   "cell_type": "code",
   "execution_count": 61,
   "metadata": {},
   "outputs": [],
   "source": [
    "# ypred_train = grid.predict(x_train2)\n",
    "# y_pred_test = grid.predict(x_test2)\n",
    "\n",
    "\n",
    "# print(classification_report(y_train2,ypred_train))\n",
    "# print(classification_report(y_test2,y_pred_test))"
   ]
  },
  {
   "cell_type": "code",
   "execution_count": 62,
   "metadata": {},
   "outputs": [],
   "source": [
    "\n",
    "\n",
    "# y_proba_test = grid.predict_proba(x_test2)[:, 1]\n",
    "\n",
    "# fpr, tpr, thresholds = roc_curve(y_test2, y_proba_test)\n",
    "\n",
    "# plt.plot(fpr, tpr, label='ROC Curve')\n",
    "# plt.xlabel('False Positive Rate')\n",
    "# plt.ylabel('True Positive Rate')\n",
    "# plt.title('ROC Curve with AUC = {:.2f}'.format(roc_auc_score(y_test2, y_proba_test)))\n",
    "# plt.legend(loc='lower right')\n",
    "# plt.grid(True)\n",
    "# plt.show()"
   ]
  }
 ],
 "metadata": {
  "kernelspec": {
   "display_name": "Python 3",
   "language": "python",
   "name": "python3"
  },
  "language_info": {
   "codemirror_mode": {
    "name": "ipython",
    "version": 3
   },
   "file_extension": ".py",
   "mimetype": "text/x-python",
   "name": "python",
   "nbconvert_exporter": "python",
   "pygments_lexer": "ipython3",
   "version": "0.0.0"
  }
 },
 "nbformat": 4,
 "nbformat_minor": 2
}
