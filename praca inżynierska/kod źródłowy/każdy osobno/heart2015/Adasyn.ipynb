{
 "cells": [
  {
   "cell_type": "code",
   "execution_count": 1,
   "metadata": {},
   "outputs": [
    {
     "name": "stdout",
     "output_type": "stream",
     "text": [
      "WARNING:tensorflow:From C:\\Users\\DELL\\AppData\\Roaming\\Python\\Python311\\site-packages\\keras\\src\\losses.py:2976: The name tf.losses.sparse_softmax_cross_entropy is deprecated. Please use tf.compat.v1.losses.sparse_softmax_cross_entropy instead.\n",
      "\n"
     ]
    }
   ],
   "source": [
    "import pandas as pd\n",
    "import numpy as np\n",
    "import matplotlib.pyplot as plt\n",
    "import plotly.express as px\n",
    "from sklearn.preprocessing import LabelEncoder\n",
    "from sklearn.preprocessing import RobustScaler , MinMaxScaler, StandardScaler\n",
    "import seaborn as sns\n",
    "from sklearn.metrics import roc_curve\n",
    "from sklearn.metrics import roc_auc_score\n",
    "import tensorflow as tf\n",
    "from keras.preprocessing.image import ImageDataGenerator\n",
    "from tensorflow.keras.layers import Dropout\n",
    "from tensorflow.keras.models import Sequential\n",
    "from tensorflow.keras.layers import Dense, Activation\n",
    "from tensorflow.keras.callbacks import EarlyStopping\n",
    "from tensorflow.keras.layers import Input,Flatten,Conv1D,MaxPooling1D\n",
    "from sklearn.metrics import classification_report\n",
    "import warnings\n",
    "warnings.filterwarnings('ignore')\n",
    "import missingno as msno\n",
    "from sklearn.model_selection import train_test_split\n",
    "from sklearn.metrics import accuracy_score\n",
    "from sklearn.metrics import mean_absolute_error , mean_absolute_percentage_error , mean_squared_error\n",
    "from sklearn.metrics import r2_score\n",
    "from sklearn.metrics import confusion_matrix\n",
    "from sklearn.model_selection import cross_val_score\n",
    "from sklearn.metrics import RocCurveDisplay\n",
    "from sklearn.model_selection import RepeatedStratifiedKFold\n",
    "from sklearn.metrics import accuracy_score, precision_score, recall_score, f1_score\n",
    "from sklearn.model_selection import GridSearchCV\n",
    "from sklearn.tree import DecisionTreeClassifier\n",
    "from sklearn.ensemble import RandomForestClassifier\n",
    "from sklearn.naive_bayes import GaussianNB\n",
    "from xgboost import XGBClassifier\n",
    "from sklearn.linear_model import LogisticRegression\n",
    "from sklearn.svm import SVC\n",
    "from sklearn.decomposition import PCA\n",
    "from sklearn.ensemble import GradientBoostingClassifier\n",
    "from sklearn.neighbors import KNeighborsClassifier\n",
    "from keras.layers import LSTM\n",
    "from imblearn.over_sampling import ADASYN\n",
    "from sklearn.preprocessing import MinMaxScaler\n"
   ]
  },
  {
   "cell_type": "markdown",
   "metadata": {},
   "source": [
    "## ADASYN Random over-sampling Evaluation"
   ]
  },
  {
   "cell_type": "code",
   "execution_count": 2,
   "metadata": {},
   "outputs": [
    {
     "data": {
      "text/html": [
       "<div>\n",
       "<style scoped>\n",
       "    .dataframe tbody tr th:only-of-type {\n",
       "        vertical-align: middle;\n",
       "    }\n",
       "\n",
       "    .dataframe tbody tr th {\n",
       "        vertical-align: top;\n",
       "    }\n",
       "\n",
       "    .dataframe thead th {\n",
       "        text-align: right;\n",
       "    }\n",
       "</style>\n",
       "<table border=\"1\" class=\"dataframe\">\n",
       "  <thead>\n",
       "    <tr style=\"text-align: right;\">\n",
       "      <th></th>\n",
       "      <th>HeartDiseaseorAttack</th>\n",
       "      <th>HighBP</th>\n",
       "      <th>HighChol</th>\n",
       "      <th>CholCheck</th>\n",
       "      <th>BMI</th>\n",
       "      <th>Smoker</th>\n",
       "      <th>Stroke</th>\n",
       "      <th>Diabetes</th>\n",
       "      <th>PhysActivity</th>\n",
       "      <th>Fruits</th>\n",
       "      <th>...</th>\n",
       "      <th>AnyHealthcare</th>\n",
       "      <th>NoDocbcCost</th>\n",
       "      <th>GenHlth</th>\n",
       "      <th>MentHlth</th>\n",
       "      <th>PhysHlth</th>\n",
       "      <th>DiffWalk</th>\n",
       "      <th>Sex</th>\n",
       "      <th>Age</th>\n",
       "      <th>Education</th>\n",
       "      <th>Income</th>\n",
       "    </tr>\n",
       "  </thead>\n",
       "  <tbody>\n",
       "    <tr>\n",
       "      <th>0</th>\n",
       "      <td>0.0</td>\n",
       "      <td>1.0</td>\n",
       "      <td>1.0</td>\n",
       "      <td>1.0</td>\n",
       "      <td>40.0</td>\n",
       "      <td>1.0</td>\n",
       "      <td>0.0</td>\n",
       "      <td>0.0</td>\n",
       "      <td>0.0</td>\n",
       "      <td>0.0</td>\n",
       "      <td>...</td>\n",
       "      <td>1.0</td>\n",
       "      <td>0.0</td>\n",
       "      <td>5.0</td>\n",
       "      <td>18.0</td>\n",
       "      <td>15.0</td>\n",
       "      <td>1.0</td>\n",
       "      <td>0.0</td>\n",
       "      <td>9.0</td>\n",
       "      <td>4.0</td>\n",
       "      <td>3.0</td>\n",
       "    </tr>\n",
       "    <tr>\n",
       "      <th>1</th>\n",
       "      <td>0.0</td>\n",
       "      <td>0.0</td>\n",
       "      <td>0.0</td>\n",
       "      <td>0.0</td>\n",
       "      <td>25.0</td>\n",
       "      <td>1.0</td>\n",
       "      <td>0.0</td>\n",
       "      <td>0.0</td>\n",
       "      <td>1.0</td>\n",
       "      <td>0.0</td>\n",
       "      <td>...</td>\n",
       "      <td>0.0</td>\n",
       "      <td>1.0</td>\n",
       "      <td>3.0</td>\n",
       "      <td>0.0</td>\n",
       "      <td>0.0</td>\n",
       "      <td>0.0</td>\n",
       "      <td>0.0</td>\n",
       "      <td>7.0</td>\n",
       "      <td>6.0</td>\n",
       "      <td>1.0</td>\n",
       "    </tr>\n",
       "    <tr>\n",
       "      <th>2</th>\n",
       "      <td>0.0</td>\n",
       "      <td>1.0</td>\n",
       "      <td>1.0</td>\n",
       "      <td>1.0</td>\n",
       "      <td>28.0</td>\n",
       "      <td>0.0</td>\n",
       "      <td>0.0</td>\n",
       "      <td>0.0</td>\n",
       "      <td>0.0</td>\n",
       "      <td>1.0</td>\n",
       "      <td>...</td>\n",
       "      <td>1.0</td>\n",
       "      <td>1.0</td>\n",
       "      <td>5.0</td>\n",
       "      <td>30.0</td>\n",
       "      <td>30.0</td>\n",
       "      <td>1.0</td>\n",
       "      <td>0.0</td>\n",
       "      <td>9.0</td>\n",
       "      <td>4.0</td>\n",
       "      <td>8.0</td>\n",
       "    </tr>\n",
       "    <tr>\n",
       "      <th>3</th>\n",
       "      <td>0.0</td>\n",
       "      <td>1.0</td>\n",
       "      <td>0.0</td>\n",
       "      <td>1.0</td>\n",
       "      <td>27.0</td>\n",
       "      <td>0.0</td>\n",
       "      <td>0.0</td>\n",
       "      <td>0.0</td>\n",
       "      <td>1.0</td>\n",
       "      <td>1.0</td>\n",
       "      <td>...</td>\n",
       "      <td>1.0</td>\n",
       "      <td>0.0</td>\n",
       "      <td>2.0</td>\n",
       "      <td>0.0</td>\n",
       "      <td>0.0</td>\n",
       "      <td>0.0</td>\n",
       "      <td>0.0</td>\n",
       "      <td>11.0</td>\n",
       "      <td>3.0</td>\n",
       "      <td>6.0</td>\n",
       "    </tr>\n",
       "    <tr>\n",
       "      <th>4</th>\n",
       "      <td>0.0</td>\n",
       "      <td>1.0</td>\n",
       "      <td>1.0</td>\n",
       "      <td>1.0</td>\n",
       "      <td>24.0</td>\n",
       "      <td>0.0</td>\n",
       "      <td>0.0</td>\n",
       "      <td>0.0</td>\n",
       "      <td>1.0</td>\n",
       "      <td>1.0</td>\n",
       "      <td>...</td>\n",
       "      <td>1.0</td>\n",
       "      <td>0.0</td>\n",
       "      <td>2.0</td>\n",
       "      <td>3.0</td>\n",
       "      <td>0.0</td>\n",
       "      <td>0.0</td>\n",
       "      <td>0.0</td>\n",
       "      <td>11.0</td>\n",
       "      <td>5.0</td>\n",
       "      <td>4.0</td>\n",
       "    </tr>\n",
       "  </tbody>\n",
       "</table>\n",
       "<p>5 rows × 22 columns</p>\n",
       "</div>"
      ],
      "text/plain": [
       "   HeartDiseaseorAttack  HighBP  HighChol  CholCheck   BMI  Smoker  Stroke  \\\n",
       "0                   0.0     1.0       1.0        1.0  40.0     1.0     0.0   \n",
       "1                   0.0     0.0       0.0        0.0  25.0     1.0     0.0   \n",
       "2                   0.0     1.0       1.0        1.0  28.0     0.0     0.0   \n",
       "3                   0.0     1.0       0.0        1.0  27.0     0.0     0.0   \n",
       "4                   0.0     1.0       1.0        1.0  24.0     0.0     0.0   \n",
       "\n",
       "   Diabetes  PhysActivity  Fruits  ...  AnyHealthcare  NoDocbcCost  GenHlth  \\\n",
       "0       0.0           0.0     0.0  ...            1.0          0.0      5.0   \n",
       "1       0.0           1.0     0.0  ...            0.0          1.0      3.0   \n",
       "2       0.0           0.0     1.0  ...            1.0          1.0      5.0   \n",
       "3       0.0           1.0     1.0  ...            1.0          0.0      2.0   \n",
       "4       0.0           1.0     1.0  ...            1.0          0.0      2.0   \n",
       "\n",
       "   MentHlth  PhysHlth  DiffWalk  Sex   Age  Education  Income  \n",
       "0      18.0      15.0       1.0  0.0   9.0        4.0     3.0  \n",
       "1       0.0       0.0       0.0  0.0   7.0        6.0     1.0  \n",
       "2      30.0      30.0       1.0  0.0   9.0        4.0     8.0  \n",
       "3       0.0       0.0       0.0  0.0  11.0        3.0     6.0  \n",
       "4       3.0       0.0       0.0  0.0  11.0        5.0     4.0  \n",
       "\n",
       "[5 rows x 22 columns]"
      ]
     },
     "execution_count": 2,
     "metadata": {},
     "output_type": "execute_result"
    }
   ],
   "source": [
    "df= pd.read_csv('Heart Disease Data 2015.csv')\n",
    "df.head()"
   ]
  },
  {
   "cell_type": "code",
   "execution_count": 3,
   "metadata": {},
   "outputs": [
    {
     "data": {
      "text/plain": [
       "HeartDiseaseorAttack\n",
       "0.0    229787\n",
       "1.0     23893\n",
       "Name: count, dtype: int64"
      ]
     },
     "execution_count": 3,
     "metadata": {},
     "output_type": "execute_result"
    }
   ],
   "source": [
    "df.drop(['Income',\"Education\",'DiffWalk',\"NoDocbcCost\",\"AnyHealthcare\",'Veggies',\"Fruits\",\"CholCheck\"],axis=1,inplace=True)\n",
    "df.shape\n",
    "df['HeartDiseaseorAttack'].value_counts()\n"
   ]
  },
  {
   "cell_type": "code",
   "execution_count": 4,
   "metadata": {},
   "outputs": [],
   "source": [
    "df.duplicated().sum()\n",
    "df.drop_duplicates(inplace=True)"
   ]
  },
  {
   "cell_type": "markdown",
   "metadata": {},
   "source": [
    "## splite data"
   ]
  },
  {
   "cell_type": "code",
   "execution_count": 5,
   "metadata": {},
   "outputs": [],
   "source": [
    "x = df.drop([\"HeartDiseaseorAttack\"] , axis = 1).values\n",
    "y = df[\"HeartDiseaseorAttack\"].values"
   ]
  },
  {
   "cell_type": "code",
   "execution_count": 6,
   "metadata": {},
   "outputs": [],
   "source": [
    "x_AD, y_AD = ADASYN(random_state=42).fit_resample(x, y)\n",
    "x_train3, x_test3, y_train3, y_test3 = train_test_split(x_AD, y_AD, test_size=0.25, random_state=42)"
   ]
  },
  {
   "cell_type": "code",
   "execution_count": 7,
   "metadata": {},
   "outputs": [],
   "source": [
    "scaler = MinMaxScaler()\n",
    "x_train3 = scaler.fit_transform(x_train3)\n",
    "x_test3 = scaler.transform(x_test3)"
   ]
  },
  {
   "cell_type": "markdown",
   "metadata": {},
   "source": [
    "## random forest"
   ]
  },
  {
   "cell_type": "code",
   "execution_count": 8,
   "metadata": {},
   "outputs": [
    {
     "name": "stdout",
     "output_type": "stream",
     "text": [
      "Najlepsze parametry:  {'max_depth': 30, 'max_features': 'sqrt', 'min_samples_leaf': 2, 'min_samples_split': 6, 'n_estimators': 300}\n",
      "Training Results\n",
      "\n",
      "              precision    recall  f1-score   support\n",
      "\n",
      "         0.0       0.93      0.98      0.95    102726\n",
      "         1.0       0.97      0.92      0.95    101187\n",
      "\n",
      "    accuracy                           0.95    203913\n",
      "   macro avg       0.95      0.95      0.95    203913\n",
      "weighted avg       0.95      0.95      0.95    203913\n",
      "\n",
      "Test Results\n",
      "\n",
      "              precision    recall  f1-score   support\n",
      "\n",
      "         0.0       0.88      0.94      0.91     33686\n",
      "         1.0       0.94      0.88      0.91     34286\n",
      "\n",
      "    accuracy                           0.91     67972\n",
      "   macro avg       0.91      0.91      0.91     67972\n",
      "weighted avg       0.91      0.91      0.91     67972\n",
      "\n",
      "Confusion Matrix:\n",
      " [[31791  1895]\n",
      " [ 4232 30054]]\n",
      "Cross-validation scores: [0.90623544 0.909987   0.91064904 0.9092737  0.9091511 ]\n",
      "Average cross-validation score: 0.9090592571649718\n"
     ]
    }
   ],
   "source": [
    "\n",
    "\n",
    "# Inicjalizacja modelu z domyślnymi parametrami\n",
    "rf = RandomForestClassifier()\n",
    "\n",
    "# Określenie siatki parametrów do przetestowania\n",
    "param_grid = {\n",
    "    'n_estimators': [100, 200, 300],  # Liczba drzew\n",
    "    'max_depth': [10, 20, 30],        # Maksymalna głębokość drzewa\n",
    "    'min_samples_split': [2, 4, 6],   # Minimalna liczba próbek wymagana do podziału węzła\n",
    "    'min_samples_leaf': [1, 2, 4],    # Minimalna liczba próbek wymagana w liściu\n",
    "    'max_features': ['auto', 'sqrt']  # Liczba cech do rozważenia przy każdym podziale\n",
    "}\n",
    "\n",
    "# Utworzenie obiektu GridSearchCV\n",
    "cv_rf = GridSearchCV(estimator=rf, param_grid=param_grid, cv=5, scoring='accuracy')\n",
    "\n",
    "# Przeszukiwanie siatki parametrów\n",
    "cv_rf.fit(x_train3, y_train3)\n",
    "\n",
    "# Najlepszy zestaw parametrów\n",
    "print(\"Najlepsze parametry: \", cv_rf.best_params_)\n",
    "\n",
    "# Najlepszy estimator\n",
    "best_rf = cv_rf.best_estimator_\n",
    "\n",
    "# Predykcje i ocena modelu\n",
    "ypred_train = best_rf.predict(x_train3)\n",
    "ypred_test = best_rf.predict(x_test3)\n",
    "\n",
    "print(\"Training Results\\n\")\n",
    "print(classification_report(y_train3, ypred_train))\n",
    "print(\"Test Results\\n\")\n",
    "print(classification_report(y_test3, ypred_test))\n",
    "\n",
    "# Macierz pomyłek\n",
    "conf_matrix = confusion_matrix(y_test3, ypred_test)\n",
    "print(\"Confusion Matrix:\\n\", conf_matrix)\n",
    "\n",
    "# Ocena modelu za pomocą walidacji krzyżowej\n",
    "cross_val_scores = cross_val_score(best_rf, x_train3, y_train3, cv=5)\n",
    "print(\"Cross-validation scores:\", cross_val_scores)\n",
    "print(\"Average cross-validation score:\", np.mean(cross_val_scores))"
   ]
  },
  {
   "cell_type": "code",
   "execution_count": 9,
   "metadata": {},
   "outputs": [
    {
     "data": {
      "image/png": "[encoded data removed]",
      "text/plain": [
       "<Figure size 640x480 with 1 Axes>"
      ]
     },
     "metadata": {},
     "output_type": "display_data"
    }
   ],
   "source": [
    "\n",
    "y_proba_test = best_rf.predict_proba(x_test3)[:, 1]\n",
    "\n",
    "fpr, tpr, thresholds = roc_curve(y_test3, y_proba_test)\n",
    "\n",
    "plt.plot(fpr, tpr, label='ROC Curve')\n",
    "plt.xlabel('False Positive Rate')\n",
    "plt.ylabel('True Positive Rate')\n",
    "plt.title('ROC Curve with AUC = {:.2f}'.format(roc_auc_score(y_test3, y_proba_test)))\n",
    "plt.legend(loc='lower right')\n",
    "plt.grid(True)\n",
    "plt.show()"
   ]
  },
  {
   "cell_type": "markdown",
   "metadata": {},
   "source": [
    "## DECISION TREE CLASSIFIER"
   ]
  },
  {
   "cell_type": "code",
   "execution_count": 10,
   "metadata": {},
   "outputs": [
    {
     "name": "stdout",
     "output_type": "stream",
     "text": [
      "Najlepsze parametry: {'criterion': 'entropy', 'max_depth': None, 'min_samples_leaf': 2, 'min_samples_split': 10}\n",
      "Najlepsza dokładność: 0.8789483748564809\n",
      "Training Results\n",
      "\n",
      "              precision    recall  f1-score   support\n",
      "\n",
      "         0.0       0.93      0.97      0.95    102726\n",
      "         1.0       0.96      0.92      0.94    101187\n",
      "\n",
      "    accuracy                           0.94    203913\n",
      "   macro avg       0.94      0.94      0.94    203913\n",
      "weighted avg       0.94      0.94      0.94    203913\n",
      "\n",
      "Testing Results\n",
      "\n",
      "              precision    recall  f1-score   support\n",
      "\n",
      "         0.0       0.86      0.91      0.88     33686\n",
      "         1.0       0.90      0.85      0.88     34286\n",
      "\n",
      "    accuracy                           0.88     67972\n",
      "   macro avg       0.88      0.88      0.88     67972\n",
      "weighted avg       0.88      0.88      0.88     67972\n",
      "\n",
      "Cross-Validation Scores for the Best Model: [0.87857686 0.88007258 0.87793934 0.87911333 0.87916238]\n",
      "Average Cross-Validation Score: 0.8789728969213148\n"
     ]
    }
   ],
   "source": [
    "\n",
    "param_grid = {\n",
    "    'max_depth': [3, 5, 10, None],\n",
    "    'min_samples_split': [2, 5, 10],\n",
    "    'min_samples_leaf': [1, 2, 5],\n",
    "    'criterion': ['gini', 'entropy']\n",
    "}\n",
    "\n",
    "# Utworzenie modelu drzewa decyzyjnego\n",
    "tree = DecisionTreeClassifier()\n",
    "\n",
    "# Uruchomienie Grid Search z walidacją krzyżową\n",
    "grid_search = GridSearchCV(tree, param_grid, cv=5, scoring='accuracy')\n",
    "grid_search.fit(x_train3, y_train3)\n",
    "\n",
    "# Wyświetlenie najlepszych parametrów i wyników\n",
    "print(\"Najlepsze parametry:\", grid_search.best_params_)\n",
    "print(\"Najlepsza dokładność:\", grid_search.best_score_)\n",
    "\n",
    "# Utworzenie i ocena modelu z najlepszymi parametrami\n",
    "best_tree = grid_search.best_estimator_\n",
    "best_tree.fit(x_train3, y_train3)\n",
    "\n",
    "ypred_train2 = best_tree.predict(x_train3)\n",
    "ypred_test2 = best_tree.predict(x_test3)\n",
    "\n",
    "# Ocena modelu na zbiorze testowym\n",
    "\n",
    "print(\"Training Results\\n\")\n",
    "print(classification_report(y_train3, ypred_train2))\n",
    "print('Testing Results\\n')\n",
    "print(classification_report(y_test3, ypred_test2))\n",
    "\n",
    "# Dodatkowo: Walidacja krzyżowa dla najlepszego modelu na całym zbiorze danych\n",
    "cross_val_scores = cross_val_score(best_tree, x_train3, y_train3, cv=5)\n",
    "print(\"Cross-Validation Scores for the Best Model:\", cross_val_scores)\n",
    "print(\"Average Cross-Validation Score:\", cross_val_scores.mean())"
   ]
  },
  {
   "cell_type": "code",
   "execution_count": 11,
   "metadata": {},
   "outputs": [
    {
     "data": {
      "image/png": "[encoded data removed]",
      "text/plain": [
       "<Figure size 640x480 with 1 Axes>"
      ]
     },
     "metadata": {},
     "output_type": "display_data"
    }
   ],
   "source": [
    "\n",
    "y_proba_test = best_tree.predict_proba(x_test3)[:, 1]\n",
    "\n",
    "fpr, tpr, thresholds = roc_curve(y_test3, y_proba_test)\n",
    "\n",
    "plt.plot(fpr, tpr, label='ROC Curve')\n",
    "plt.xlabel('False Positive Rate')\n",
    "plt.ylabel('True Positive Rate')\n",
    "plt.title('ROC Curve with AUC = {:.2f}'.format(roc_auc_score(y_test3, y_proba_test)))\n",
    "plt.legend(loc='lower right')\n",
    "plt.grid(True)\n",
    "plt.show()"
   ]
  },
  {
   "cell_type": "markdown",
   "metadata": {},
   "source": [
    "## Naive Bayes"
   ]
  },
  {
   "cell_type": "code",
   "execution_count": 12,
   "metadata": {},
   "outputs": [
    {
     "name": "stdout",
     "output_type": "stream",
     "text": [
      "Naive Bayes Classifier Accuracy:  0.7156917554287059\n"
     ]
    }
   ],
   "source": [
    "Gnb = GaussianNB()\n",
    "Gnb.fit(x_train3, y_train3)\n",
    "ypred_train33 = Gnb.predict(x_train3)\n",
    "y_pred_test33 = Gnb.predict(x_test3)\n",
    "\n",
    "print(\"Naive Bayes Classifier Accuracy: \",accuracy_score(y_test3, y_pred_test33))"
   ]
  },
  {
   "cell_type": "code",
   "execution_count": 13,
   "metadata": {},
   "outputs": [
    {
     "name": "stdout",
     "output_type": "stream",
     "text": [
      "Testing Results\n",
      "\n",
      "              precision    recall  f1-score   support\n",
      "\n",
      "         0.0       0.73      0.68      0.70    102726\n",
      "         1.0       0.70      0.75      0.72    101187\n",
      "\n",
      "    accuracy                           0.71    203913\n",
      "   macro avg       0.71      0.71      0.71    203913\n",
      "weighted avg       0.71      0.71      0.71    203913\n",
      "\n"
     ]
    }
   ],
   "source": [
    "print('Testing Results\\n')\n",
    "print(classification_report(y_train3, ypred_train33))"
   ]
  },
  {
   "cell_type": "code",
   "execution_count": 14,
   "metadata": {},
   "outputs": [
    {
     "name": "stdout",
     "output_type": "stream",
     "text": [
      "Testing Results\n",
      "\n",
      "              precision    recall  f1-score   support\n",
      "\n",
      "         0.0       0.73      0.68      0.70     33686\n",
      "         1.0       0.71      0.75      0.73     34286\n",
      "\n",
      "    accuracy                           0.72     67972\n",
      "   macro avg       0.72      0.72      0.72     67972\n",
      "weighted avg       0.72      0.72      0.72     67972\n",
      "\n"
     ]
    }
   ],
   "source": [
    "print('Testing Results\\n')\n",
    "print(classification_report(y_test3, y_pred_test33))"
   ]
  },
  {
   "cell_type": "code",
   "execution_count": 15,
   "metadata": {},
   "outputs": [
    {
     "data": {
      "image/png": "[encoded data removed]",
      "text/plain": [
       "<Figure size 640x480 with 1 Axes>"
      ]
     },
     "metadata": {},
     "output_type": "display_data"
    }
   ],
   "source": [
    "\n",
    "y_proba_test = Gnb.predict_proba(x_test3)[:, 1]\n",
    "\n",
    "fpr, tpr, thresholds = roc_curve(y_test3, y_proba_test)\n",
    "\n",
    "plt.plot(fpr, tpr, label='ROC Curve')\n",
    "plt.xlabel('False Positive Rate')\n",
    "plt.ylabel('True Positive Rate')\n",
    "plt.title('ROC Curve with AUC = {:.2f}'.format(roc_auc_score(y_test3, y_proba_test)))\n",
    "plt.legend(loc='lower right')\n",
    "plt.grid(True)\n",
    "plt.show()"
   ]
  },
  {
   "cell_type": "markdown",
   "metadata": {},
   "source": [
    "## XGBOSST\n"
   ]
  },
  {
   "cell_type": "code",
   "execution_count": 16,
   "metadata": {},
   "outputs": [
    {
     "name": "stdout",
     "output_type": "stream",
     "text": [
      "Najlepsze parametry:  {'colsample_bytree': 0.7, 'learning_rate': 0.2, 'max_depth': 5, 'n_estimators': 200, 'subsample': 0.8}\n",
      "Accuracy on Training set:  0.9180827117447147\n",
      "Accuracy on Test set:  0.914361796033661\n",
      "\n",
      "Training Results\n",
      "\n",
      "              precision    recall  f1-score   support\n",
      "\n",
      "         0.0       0.87      0.98      0.92    102726\n",
      "         1.0       0.97      0.86      0.91    101187\n",
      "\n",
      "    accuracy                           0.92    203913\n",
      "   macro avg       0.92      0.92      0.92    203913\n",
      "weighted avg       0.92      0.92      0.92    203913\n",
      "\n",
      "Testing Results\n",
      "\n",
      "              precision    recall  f1-score   support\n",
      "\n",
      "         0.0       0.87      0.98      0.92     33686\n",
      "         1.0       0.97      0.85      0.91     34286\n",
      "\n",
      "    accuracy                           0.91     67972\n",
      "   macro avg       0.92      0.91      0.91     67972\n",
      "weighted avg       0.92      0.91      0.91     67972\n",
      "\n"
     ]
    },
    {
     "data": {
      "image/png": "[encoded data removed]",
      "text/plain": [
       "<Figure size 640x480 with 1 Axes>"
      ]
     },
     "metadata": {},
     "output_type": "display_data"
    }
   ],
   "source": [
    "\n",
    "xg = XGBClassifier()\n",
    "\n",
    "# Definiowanie siatki hiperparametrów do przetestowania\n",
    "param_grid = {\n",
    "    'n_estimators': [50, 100, 200],\n",
    "    'max_depth': [3, 5, 7],\n",
    "    'learning_rate': [0.01, 0.1, 0.2],\n",
    "    'subsample': [0.7, 0.8, 0.9],\n",
    "    'colsample_bytree': [0.7, 0.8, 0.9]\n",
    "}\n",
    "\n",
    "# Utworzenie obiektu GridSearchCV\n",
    "grid_search = GridSearchCV(estimator=xg, param_grid=param_grid, cv=3, scoring='accuracy')\n",
    "\n",
    "# Przeszukiwanie siatki parametrów\n",
    "grid_search.fit(x_train3, y_train3)\n",
    "\n",
    "# Najlepsze parametry i najlepszy model\n",
    "print(\"Najlepsze parametry: \", grid_search.best_params_)\n",
    "best_xg = grid_search.best_estimator_\n",
    "\n",
    "# Predykcje na zbiorze treningowym i testowym\n",
    "ypred_train4 = best_xg.predict(x_train3)\n",
    "y_pred_test4 = best_xg.predict(x_test3)\n",
    "\n",
    "# Ocena modelu\n",
    "print(\"Accuracy on Training set: \", accuracy_score(y_train3, ypred_train4))\n",
    "print(\"Accuracy on Test set: \", accuracy_score(y_test3, y_pred_test4))\n",
    "print(\"\\nTraining Results\\n\")\n",
    "print(classification_report(y_train3, ypred_train4))\n",
    "print('Testing Results\\n')\n",
    "print(classification_report(y_test3, y_pred_test4))\n",
    "\n",
    "# Krzywa ROC\n",
    "y_proba_test4 = best_xg.predict_proba(x_test3)[:, 1]\n",
    "fpr, tpr, thresholds = roc_curve(y_test3, y_proba_test4)\n",
    "plt.plot(fpr, tpr)\n",
    "plt.title(\"ROC Curve with AUC = {:.2f}\".format(roc_auc_score(y_test3, y_proba_test4)))\n",
    "plt.show()"
   ]
  },
  {
   "cell_type": "markdown",
   "metadata": {},
   "source": [
    "## logistic regression"
   ]
  },
  {
   "cell_type": "code",
   "execution_count": 17,
   "metadata": {},
   "outputs": [
    {
     "name": "stdout",
     "output_type": "stream",
     "text": [
      "Najlepsze parametry:  {'C': 0.01, 'penalty': 'l1', 'solver': 'liblinear'}\n",
      "Accuracy on Training set:  0.72953171205367\n",
      "Accuracy on Test set:  0.7323162478667686\n",
      "\n",
      "Training Results\n",
      "\n",
      "              precision    recall  f1-score   support\n",
      "\n",
      "         0.0       0.75      0.70      0.72    102726\n",
      "         1.0       0.71      0.76      0.74    101187\n",
      "\n",
      "    accuracy                           0.73    203913\n",
      "   macro avg       0.73      0.73      0.73    203913\n",
      "weighted avg       0.73      0.73      0.73    203913\n",
      "\n",
      "Testing Results\n",
      "\n",
      "              precision    recall  f1-score   support\n",
      "\n",
      "         0.0       0.74      0.70      0.72     33686\n",
      "         1.0       0.72      0.76      0.74     34286\n",
      "\n",
      "    accuracy                           0.73     67972\n",
      "   macro avg       0.73      0.73      0.73     67972\n",
      "weighted avg       0.73      0.73      0.73     67972\n",
      "\n"
     ]
    },
    {
     "data": {
      "image/png": "[encoded data removed]",
      "text/plain": [
       "<Figure size 640x480 with 1 Axes>"
      ]
     },
     "metadata": {},
     "output_type": "display_data"
    }
   ],
   "source": [
    "\n",
    "lg = LogisticRegression()\n",
    "\n",
    "# Definiowanie siatki hiperparametrów do przetestowania\n",
    "param_grid = {\n",
    "    'C': [0.01, 0.1, 1, 10, 100],  # Parametr regularyzacji\n",
    "    'penalty': ['l1', 'l2'],       # Typ regularyzacji\n",
    "    'solver': ['liblinear']        # Algorytm optymalizacji (liblinear jest dobrym wyborem dla małych zbiorów danych)\n",
    "}\n",
    "\n",
    "# Utworzenie obiektu GridSearchCV\n",
    "grid_search = GridSearchCV(estimator=lg, param_grid=param_grid, cv=5, scoring='accuracy')\n",
    "\n",
    "# Przeszukiwanie siatki parametrów\n",
    "grid_search.fit(x_train3, y_train3)\n",
    "\n",
    "# Najlepsze parametry i najlepszy model\n",
    "print(\"Najlepsze parametry: \", grid_search.best_params_)\n",
    "best_lg = grid_search.best_estimator_\n",
    "\n",
    "# Predykcje na zbiorze treningowym i testowym\n",
    "ypred_train4 = best_lg.predict(x_train3)\n",
    "y_pred_test4 = best_lg.predict(x_test3)\n",
    "\n",
    "# Ocena modelu\n",
    "print(\"Accuracy on Training set: \", accuracy_score(y_train3, ypred_train4))\n",
    "print(\"Accuracy on Test set: \", accuracy_score(y_test3, y_pred_test4))\n",
    "print(\"\\nTraining Results\\n\")\n",
    "print(classification_report(y_train3, ypred_train4))\n",
    "print('Testing Results\\n')\n",
    "print(classification_report(y_test3, y_pred_test4))\n",
    "\n",
    "# Krzywa ROC\n",
    "y_proba_test4 = best_lg.predict_proba(x_test3)[:, 1]\n",
    "fpr, tpr, thresholds = roc_curve(y_test3, y_proba_test4)\n",
    "plt.plot(fpr, tpr)\n",
    "plt.title(\"ROC Curve with AUC = {:.2f}\".format(roc_auc_score(y_test3, y_proba_test4)))\n",
    "plt.show()"
   ]
  },
  {
   "cell_type": "markdown",
   "metadata": {},
   "source": [
    "## GradientBoostingClassifier"
   ]
  },
  {
   "cell_type": "code",
   "execution_count": 18,
   "metadata": {},
   "outputs": [
    {
     "name": "stdout",
     "output_type": "stream",
     "text": [
      "Najlepsze parametry:  {'learning_rate': 0.2, 'max_depth': 5, 'min_samples_leaf': 1, 'min_samples_split': 2, 'n_estimators': 200}\n",
      "Accuracy on Training set:  0.9248453997538166\n",
      "Accuracy on Test set:  0.9195698228682399\n",
      "\n",
      "Training Results\n",
      "\n",
      "              precision    recall  f1-score   support\n",
      "\n",
      "         0.0       0.88      0.98      0.93    102726\n",
      "         1.0       0.98      0.87      0.92    101187\n",
      "\n",
      "    accuracy                           0.92    203913\n",
      "   macro avg       0.93      0.92      0.92    203913\n",
      "weighted avg       0.93      0.92      0.92    203913\n",
      "\n",
      "Testing Results\n",
      "\n",
      "              precision    recall  f1-score   support\n",
      "\n",
      "         0.0       0.87      0.98      0.92     33686\n",
      "         1.0       0.98      0.86      0.92     34286\n",
      "\n",
      "    accuracy                           0.92     67972\n",
      "   macro avg       0.93      0.92      0.92     67972\n",
      "weighted avg       0.93      0.92      0.92     67972\n",
      "\n"
     ]
    },
    {
     "data": {
      "image/png": "[encoded data removed]",
      "text/plain": [
       "<Figure size 640x480 with 1 Axes>"
      ]
     },
     "metadata": {},
     "output_type": "display_data"
    }
   ],
   "source": [
    "\n",
    "\n",
    "# Inicjalizacja modelu Gradient Boosting Classifier\n",
    "gb = GradientBoostingClassifier()\n",
    "\n",
    "# Definiowanie siatki hiperparametrów do przetestowania\n",
    "param_grid = {\n",
    "    'n_estimators': [100, 200, 300],  # Liczba drzew w ensemble\n",
    "    'learning_rate': [0.01, 0.1, 0.2], # Szybkość uczenia\n",
    "    'max_depth': [3, 5, 7],            # Maksymalna głębokość drzewa\n",
    "    'min_samples_split': [2, 4],       # Minimalna liczba próbek wymagana do podziału węzła\n",
    "    'min_samples_leaf': [1, 2]         # Minimalna liczba próbek w liściu\n",
    "}\n",
    "\n",
    "# Utworzenie obiektu GridSearchCV\n",
    "grid_search = GridSearchCV(estimator=gb, param_grid=param_grid, cv=5, scoring='accuracy')\n",
    "\n",
    "# Przeszukiwanie siatki parametrów\n",
    "grid_search.fit(x_train3, y_train3)\n",
    "\n",
    "# Najlepsze parametry i najlepszy model\n",
    "print(\"Najlepsze parametry: \", grid_search.best_params_)\n",
    "best_gb = grid_search.best_estimator_\n",
    "\n",
    "# Predykcje na zbiorze treningowym i testowym\n",
    "ypred_train6 = best_gb.predict(x_train3)\n",
    "y_pred_test6 = best_gb.predict(x_test3)\n",
    "\n",
    "# Ocena modelu\n",
    "print(\"Accuracy on Training set: \", accuracy_score(y_train3, ypred_train6))\n",
    "print(\"Accuracy on Test set: \", accuracy_score(y_test3, y_pred_test6))\n",
    "print(\"\\nTraining Results\\n\")\n",
    "print(classification_report(y_train3, ypred_train6))\n",
    "print('Testing Results\\n')\n",
    "print(classification_report(y_test3, y_pred_test6))\n",
    "\n",
    "# Krzywa ROC\n",
    "y_proba_test6 = best_gb.predict_proba(x_test3)[:, 1]\n",
    "fpr, tpr, thresholds = roc_curve(y_test3, y_proba_test6)\n",
    "plt.plot(fpr, tpr)\n",
    "plt.title(\"ROC Curve with AUC = {:.2f}\".format(roc_auc_score(y_test3, y_proba_test6)))\n",
    "plt.show()"
   ]
  },
  {
   "cell_type": "markdown",
   "metadata": {},
   "source": [
    "## KNN"
   ]
  },
  {
   "cell_type": "code",
   "execution_count": 19,
   "metadata": {},
   "outputs": [
    {
     "data": {
      "text/html": [
       "<style>#sk-container-id-1 {color: black;}#sk-container-id-1 pre{padding: 0;}#sk-container-id-1 div.sk-toggleable {background-color: white;}#sk-container-id-1 label.sk-toggleable__label {cursor: pointer;display: block;width: 100%;margin-bottom: 0;padding: 0.3em;box-sizing: border-box;text-align: center;}#sk-container-id-1 label.sk-toggleable__label-arrow:before {content: \"▸\";float: left;margin-right: 0.25em;color: #696969;}#sk-container-id-1 label.sk-toggleable__label-arrow:hover:before {color: black;}#sk-container-id-1 div.sk-estimator:hover label.sk-toggleable__label-arrow:before {color: black;}#sk-container-id-1 div.sk-toggleable__content {max-height: 0;max-width: 0;overflow: hidden;text-align: left;background-color: #f0f8ff;}#sk-container-id-1 div.sk-toggleable__content pre {margin: 0.2em;color: black;border-radius: 0.25em;background-color: #f0f8ff;}#sk-container-id-1 input.sk-toggleable__control:checked~div.sk-toggleable__content {max-height: 200px;max-width: 100%;overflow: auto;}#sk-container-id-1 input.sk-toggleable__control:checked~label.sk-toggleable__label-arrow:before {content: \"▾\";}#sk-container-id-1 div.sk-estimator input.sk-toggleable__control:checked~label.sk-toggleable__label {background-color: #d4ebff;}#sk-container-id-1 div.sk-label input.sk-toggleable__control:checked~label.sk-toggleable__label {background-color: #d4ebff;}#sk-container-id-1 input.sk-hidden--visually {border: 0;clip: rect(1px 1px 1px 1px);clip: rect(1px, 1px, 1px, 1px);height: 1px;margin: -1px;overflow: hidden;padding: 0;position: absolute;width: 1px;}#sk-container-id-1 div.sk-estimator {font-family: monospace;background-color: #f0f8ff;border: 1px dotted black;border-radius: 0.25em;box-sizing: border-box;margin-bottom: 0.5em;}#sk-container-id-1 div.sk-estimator:hover {background-color: #d4ebff;}#sk-container-id-1 div.sk-parallel-item::after {content: \"\";width: 100%;border-bottom: 1px solid gray;flex-grow: 1;}#sk-container-id-1 div.sk-label:hover label.sk-toggleable__label {background-color: #d4ebff;}#sk-container-id-1 div.sk-serial::before {content: \"\";position: absolute;border-left: 1px solid gray;box-sizing: border-box;top: 0;bottom: 0;left: 50%;z-index: 0;}#sk-container-id-1 div.sk-serial {display: flex;flex-direction: column;align-items: center;background-color: white;padding-right: 0.2em;padding-left: 0.2em;position: relative;}#sk-container-id-1 div.sk-item {position: relative;z-index: 1;}#sk-container-id-1 div.sk-parallel {display: flex;align-items: stretch;justify-content: center;background-color: white;position: relative;}#sk-container-id-1 div.sk-item::before, #sk-container-id-1 div.sk-parallel-item::before {content: \"\";position: absolute;border-left: 1px solid gray;box-sizing: border-box;top: 0;bottom: 0;left: 50%;z-index: -1;}#sk-container-id-1 div.sk-parallel-item {display: flex;flex-direction: column;z-index: 1;position: relative;background-color: white;}#sk-container-id-1 div.sk-parallel-item:first-child::after {align-self: flex-end;width: 50%;}#sk-container-id-1 div.sk-parallel-item:last-child::after {align-self: flex-start;width: 50%;}#sk-container-id-1 div.sk-parallel-item:only-child::after {width: 0;}#sk-container-id-1 div.sk-dashed-wrapped {border: 1px dashed gray;margin: 0 0.4em 0.5em 0.4em;box-sizing: border-box;padding-bottom: 0.4em;background-color: white;}#sk-container-id-1 div.sk-label label {font-family: monospace;font-weight: bold;display: inline-block;line-height: 1.2em;}#sk-container-id-1 div.sk-label-container {text-align: center;}#sk-container-id-1 div.sk-container {/* jupyter's `normalize.less` sets `[hidden] { display: none; }` but bootstrap.min.css set `[hidden] { display: none !important; }` so we also need the `!important` here to be able to override the default hidden behavior on the sphinx rendered scikit-learn.org. See: https://github.com/scikit-learn/scikit-learn/issues/21755 */display: inline-block !important;position: relative;}#sk-container-id-1 div.sk-text-repr-fallback {display: none;}</style><div id=\"sk-container-id-1\" class=\"sk-top-container\"><div class=\"sk-text-repr-fallback\"><pre>KNeighborsClassifier()</pre><b>In a Jupyter environment, please rerun this cell to show the HTML representation or trust the notebook. <br />On GitHub, the HTML representation is unable to render, please try loading this page with nbviewer.org.</b></div><div class=\"sk-container\" hidden><div class=\"sk-item\"><div class=\"sk-estimator sk-toggleable\"><input class=\"sk-toggleable__control sk-hidden--visually\" id=\"sk-estimator-id-1\" type=\"checkbox\" checked><label for=\"sk-estimator-id-1\" class=\"sk-toggleable__label sk-toggleable__label-arrow\">KNeighborsClassifier</label><div class=\"sk-toggleable__content\"><pre>KNeighborsClassifier()</pre></div></div></div></div></div>"
      ],
      "text/plain": [
       "KNeighborsClassifier()"
      ]
     },
     "execution_count": 19,
     "metadata": {},
     "output_type": "execute_result"
    }
   ],
   "source": [
    "knn = KNeighborsClassifier()\n",
    "knn.fit(x_train3, y_train3)"
   ]
  },
  {
   "cell_type": "code",
   "execution_count": 20,
   "metadata": {},
   "outputs": [],
   "source": [
    "grid_cv = GridSearchCV(KNeighborsClassifier(), \n",
    "                       param_grid={\n",
    "                           \"n_neighbors\": range(1, 50)\n",
    "                       }, cv=5, scoring=\"f1\", \n",
    "                       verbose=1, n_jobs=6)"
   ]
  },
  {
   "cell_type": "code",
   "execution_count": 21,
   "metadata": {},
   "outputs": [
    {
     "name": "stdout",
     "output_type": "stream",
     "text": [
      "Fitting 5 folds for each of 49 candidates, totalling 245 fits\n"
     ]
    },
    {
     "data": {
      "text/html": [
       "<style>#sk-container-id-2 {color: black;}#sk-container-id-2 pre{padding: 0;}#sk-container-id-2 div.sk-toggleable {background-color: white;}#sk-container-id-2 label.sk-toggleable__label {cursor: pointer;display: block;width: 100%;margin-bottom: 0;padding: 0.3em;box-sizing: border-box;text-align: center;}#sk-container-id-2 label.sk-toggleable__label-arrow:before {content: \"▸\";float: left;margin-right: 0.25em;color: #696969;}#sk-container-id-2 label.sk-toggleable__label-arrow:hover:before {color: black;}#sk-container-id-2 div.sk-estimator:hover label.sk-toggleable__label-arrow:before {color: black;}#sk-container-id-2 div.sk-toggleable__content {max-height: 0;max-width: 0;overflow: hidden;text-align: left;background-color: #f0f8ff;}#sk-container-id-2 div.sk-toggleable__content pre {margin: 0.2em;color: black;border-radius: 0.25em;background-color: #f0f8ff;}#sk-container-id-2 input.sk-toggleable__control:checked~div.sk-toggleable__content {max-height: 200px;max-width: 100%;overflow: auto;}#sk-container-id-2 input.sk-toggleable__control:checked~label.sk-toggleable__label-arrow:before {content: \"▾\";}#sk-container-id-2 div.sk-estimator input.sk-toggleable__control:checked~label.sk-toggleable__label {background-color: #d4ebff;}#sk-container-id-2 div.sk-label input.sk-toggleable__control:checked~label.sk-toggleable__label {background-color: #d4ebff;}#sk-container-id-2 input.sk-hidden--visually {border: 0;clip: rect(1px 1px 1px 1px);clip: rect(1px, 1px, 1px, 1px);height: 1px;margin: -1px;overflow: hidden;padding: 0;position: absolute;width: 1px;}#sk-container-id-2 div.sk-estimator {font-family: monospace;background-color: #f0f8ff;border: 1px dotted black;border-radius: 0.25em;box-sizing: border-box;margin-bottom: 0.5em;}#sk-container-id-2 div.sk-estimator:hover {background-color: #d4ebff;}#sk-container-id-2 div.sk-parallel-item::after {content: \"\";width: 100%;border-bottom: 1px solid gray;flex-grow: 1;}#sk-container-id-2 div.sk-label:hover label.sk-toggleable__label {background-color: #d4ebff;}#sk-container-id-2 div.sk-serial::before {content: \"\";position: absolute;border-left: 1px solid gray;box-sizing: border-box;top: 0;bottom: 0;left: 50%;z-index: 0;}#sk-container-id-2 div.sk-serial {display: flex;flex-direction: column;align-items: center;background-color: white;padding-right: 0.2em;padding-left: 0.2em;position: relative;}#sk-container-id-2 div.sk-item {position: relative;z-index: 1;}#sk-container-id-2 div.sk-parallel {display: flex;align-items: stretch;justify-content: center;background-color: white;position: relative;}#sk-container-id-2 div.sk-item::before, #sk-container-id-2 div.sk-parallel-item::before {content: \"\";position: absolute;border-left: 1px solid gray;box-sizing: border-box;top: 0;bottom: 0;left: 50%;z-index: -1;}#sk-container-id-2 div.sk-parallel-item {display: flex;flex-direction: column;z-index: 1;position: relative;background-color: white;}#sk-container-id-2 div.sk-parallel-item:first-child::after {align-self: flex-end;width: 50%;}#sk-container-id-2 div.sk-parallel-item:last-child::after {align-self: flex-start;width: 50%;}#sk-container-id-2 div.sk-parallel-item:only-child::after {width: 0;}#sk-container-id-2 div.sk-dashed-wrapped {border: 1px dashed gray;margin: 0 0.4em 0.5em 0.4em;box-sizing: border-box;padding-bottom: 0.4em;background-color: white;}#sk-container-id-2 div.sk-label label {font-family: monospace;font-weight: bold;display: inline-block;line-height: 1.2em;}#sk-container-id-2 div.sk-label-container {text-align: center;}#sk-container-id-2 div.sk-container {/* jupyter's `normalize.less` sets `[hidden] { display: none; }` but bootstrap.min.css set `[hidden] { display: none !important; }` so we also need the `!important` here to be able to override the default hidden behavior on the sphinx rendered scikit-learn.org. See: https://github.com/scikit-learn/scikit-learn/issues/21755 */display: inline-block !important;position: relative;}#sk-container-id-2 div.sk-text-repr-fallback {display: none;}</style><div id=\"sk-container-id-2\" class=\"sk-top-container\"><div class=\"sk-text-repr-fallback\"><pre>GridSearchCV(cv=5, estimator=KNeighborsClassifier(), n_jobs=6,\n",
       "             param_grid={&#x27;n_neighbors&#x27;: range(1, 50)}, scoring=&#x27;f1&#x27;, verbose=1)</pre><b>In a Jupyter environment, please rerun this cell to show the HTML representation or trust the notebook. <br />On GitHub, the HTML representation is unable to render, please try loading this page with nbviewer.org.</b></div><div class=\"sk-container\" hidden><div class=\"sk-item sk-dashed-wrapped\"><div class=\"sk-label-container\"><div class=\"sk-label sk-toggleable\"><input class=\"sk-toggleable__control sk-hidden--visually\" id=\"sk-estimator-id-2\" type=\"checkbox\" ><label for=\"sk-estimator-id-2\" class=\"sk-toggleable__label sk-toggleable__label-arrow\">GridSearchCV</label><div class=\"sk-toggleable__content\"><pre>GridSearchCV(cv=5, estimator=KNeighborsClassifier(), n_jobs=6,\n",
       "             param_grid={&#x27;n_neighbors&#x27;: range(1, 50)}, scoring=&#x27;f1&#x27;, verbose=1)</pre></div></div></div><div class=\"sk-parallel\"><div class=\"sk-parallel-item\"><div class=\"sk-item\"><div class=\"sk-label-container\"><div class=\"sk-label sk-toggleable\"><input class=\"sk-toggleable__control sk-hidden--visually\" id=\"sk-estimator-id-3\" type=\"checkbox\" ><label for=\"sk-estimator-id-3\" class=\"sk-toggleable__label sk-toggleable__label-arrow\">estimator: KNeighborsClassifier</label><div class=\"sk-toggleable__content\"><pre>KNeighborsClassifier()</pre></div></div></div><div class=\"sk-serial\"><div class=\"sk-item\"><div class=\"sk-estimator sk-toggleable\"><input class=\"sk-toggleable__control sk-hidden--visually\" id=\"sk-estimator-id-4\" type=\"checkbox\" ><label for=\"sk-estimator-id-4\" class=\"sk-toggleable__label sk-toggleable__label-arrow\">KNeighborsClassifier</label><div class=\"sk-toggleable__content\"><pre>KNeighborsClassifier()</pre></div></div></div></div></div></div></div></div></div></div>"
      ],
      "text/plain": [
       "GridSearchCV(cv=5, estimator=KNeighborsClassifier(), n_jobs=6,\n",
       "             param_grid={'n_neighbors': range(1, 50)}, scoring='f1', verbose=1)"
      ]
     },
     "execution_count": 21,
     "metadata": {},
     "output_type": "execute_result"
    }
   ],
   "source": [
    "grid_cv.fit(x_train3, \n",
    "            y_train3)"
   ]
  },
  {
   "cell_type": "code",
   "execution_count": 22,
   "metadata": {},
   "outputs": [
    {
     "data": {
      "text/plain": [
       "0.8596987413054183"
      ]
     },
     "execution_count": 22,
     "metadata": {},
     "output_type": "execute_result"
    }
   ],
   "source": [
    "grid_cv.best_score_"
   ]
  },
  {
   "cell_type": "code",
   "execution_count": 23,
   "metadata": {},
   "outputs": [
    {
     "data": {
      "text/html": [
       "<style>#sk-container-id-3 {color: black;}#sk-container-id-3 pre{padding: 0;}#sk-container-id-3 div.sk-toggleable {background-color: white;}#sk-container-id-3 label.sk-toggleable__label {cursor: pointer;display: block;width: 100%;margin-bottom: 0;padding: 0.3em;box-sizing: border-box;text-align: center;}#sk-container-id-3 label.sk-toggleable__label-arrow:before {content: \"▸\";float: left;margin-right: 0.25em;color: #696969;}#sk-container-id-3 label.sk-toggleable__label-arrow:hover:before {color: black;}#sk-container-id-3 div.sk-estimator:hover label.sk-toggleable__label-arrow:before {color: black;}#sk-container-id-3 div.sk-toggleable__content {max-height: 0;max-width: 0;overflow: hidden;text-align: left;background-color: #f0f8ff;}#sk-container-id-3 div.sk-toggleable__content pre {margin: 0.2em;color: black;border-radius: 0.25em;background-color: #f0f8ff;}#sk-container-id-3 input.sk-toggleable__control:checked~div.sk-toggleable__content {max-height: 200px;max-width: 100%;overflow: auto;}#sk-container-id-3 input.sk-toggleable__control:checked~label.sk-toggleable__label-arrow:before {content: \"▾\";}#sk-container-id-3 div.sk-estimator input.sk-toggleable__control:checked~label.sk-toggleable__label {background-color: #d4ebff;}#sk-container-id-3 div.sk-label input.sk-toggleable__control:checked~label.sk-toggleable__label {background-color: #d4ebff;}#sk-container-id-3 input.sk-hidden--visually {border: 0;clip: rect(1px 1px 1px 1px);clip: rect(1px, 1px, 1px, 1px);height: 1px;margin: -1px;overflow: hidden;padding: 0;position: absolute;width: 1px;}#sk-container-id-3 div.sk-estimator {font-family: monospace;background-color: #f0f8ff;border: 1px dotted black;border-radius: 0.25em;box-sizing: border-box;margin-bottom: 0.5em;}#sk-container-id-3 div.sk-estimator:hover {background-color: #d4ebff;}#sk-container-id-3 div.sk-parallel-item::after {content: \"\";width: 100%;border-bottom: 1px solid gray;flex-grow: 1;}#sk-container-id-3 div.sk-label:hover label.sk-toggleable__label {background-color: #d4ebff;}#sk-container-id-3 div.sk-serial::before {content: \"\";position: absolute;border-left: 1px solid gray;box-sizing: border-box;top: 0;bottom: 0;left: 50%;z-index: 0;}#sk-container-id-3 div.sk-serial {display: flex;flex-direction: column;align-items: center;background-color: white;padding-right: 0.2em;padding-left: 0.2em;position: relative;}#sk-container-id-3 div.sk-item {position: relative;z-index: 1;}#sk-container-id-3 div.sk-parallel {display: flex;align-items: stretch;justify-content: center;background-color: white;position: relative;}#sk-container-id-3 div.sk-item::before, #sk-container-id-3 div.sk-parallel-item::before {content: \"\";position: absolute;border-left: 1px solid gray;box-sizing: border-box;top: 0;bottom: 0;left: 50%;z-index: -1;}#sk-container-id-3 div.sk-parallel-item {display: flex;flex-direction: column;z-index: 1;position: relative;background-color: white;}#sk-container-id-3 div.sk-parallel-item:first-child::after {align-self: flex-end;width: 50%;}#sk-container-id-3 div.sk-parallel-item:last-child::after {align-self: flex-start;width: 50%;}#sk-container-id-3 div.sk-parallel-item:only-child::after {width: 0;}#sk-container-id-3 div.sk-dashed-wrapped {border: 1px dashed gray;margin: 0 0.4em 0.5em 0.4em;box-sizing: border-box;padding-bottom: 0.4em;background-color: white;}#sk-container-id-3 div.sk-label label {font-family: monospace;font-weight: bold;display: inline-block;line-height: 1.2em;}#sk-container-id-3 div.sk-label-container {text-align: center;}#sk-container-id-3 div.sk-container {/* jupyter's `normalize.less` sets `[hidden] { display: none; }` but bootstrap.min.css set `[hidden] { display: none !important; }` so we also need the `!important` here to be able to override the default hidden behavior on the sphinx rendered scikit-learn.org. See: https://github.com/scikit-learn/scikit-learn/issues/21755 */display: inline-block !important;position: relative;}#sk-container-id-3 div.sk-text-repr-fallback {display: none;}</style><div id=\"sk-container-id-3\" class=\"sk-top-container\"><div class=\"sk-text-repr-fallback\"><pre>KNeighborsClassifier(n_neighbors=1)</pre><b>In a Jupyter environment, please rerun this cell to show the HTML representation or trust the notebook. <br />On GitHub, the HTML representation is unable to render, please try loading this page with nbviewer.org.</b></div><div class=\"sk-container\" hidden><div class=\"sk-item\"><div class=\"sk-estimator sk-toggleable\"><input class=\"sk-toggleable__control sk-hidden--visually\" id=\"sk-estimator-id-5\" type=\"checkbox\" checked><label for=\"sk-estimator-id-5\" class=\"sk-toggleable__label sk-toggleable__label-arrow\">KNeighborsClassifier</label><div class=\"sk-toggleable__content\"><pre>KNeighborsClassifier(n_neighbors=1)</pre></div></div></div></div></div>"
      ],
      "text/plain": [
       "KNeighborsClassifier(n_neighbors=1)"
      ]
     },
     "execution_count": 23,
     "metadata": {},
     "output_type": "execute_result"
    }
   ],
   "source": [
    "knn = grid_cv.best_estimator_\n",
    "knn"
   ]
  },
  {
   "cell_type": "code",
   "execution_count": 24,
   "metadata": {},
   "outputs": [
    {
     "name": "stdout",
     "output_type": "stream",
     "text": [
      "XGBClassifier Accuracy:  0.8689460366033073\n"
     ]
    }
   ],
   "source": [
    "ypred_train83 = grid_cv.predict(x_train3)\n",
    "y_pred_test83 = grid_cv.predict(x_test3)\n",
    "print(\"XGBClassifier Accuracy: \",accuracy_score(y_test3, y_pred_test83))"
   ]
  },
  {
   "cell_type": "code",
   "execution_count": 25,
   "metadata": {},
   "outputs": [
    {
     "name": "stdout",
     "output_type": "stream",
     "text": [
      "Training Results\n",
      "\n",
      "              precision    recall  f1-score   support\n",
      "\n",
      "         0.0       0.99      0.99      0.99    102726\n",
      "         1.0       0.99      0.99      0.99    101187\n",
      "\n",
      "    accuracy                           0.99    203913\n",
      "   macro avg       0.99      0.99      0.99    203913\n",
      "weighted avg       0.99      0.99      0.99    203913\n",
      "\n"
     ]
    }
   ],
   "source": [
    "print(\"Training Results\\n\")\n",
    "print(classification_report(y_train3, ypred_train83))"
   ]
  },
  {
   "cell_type": "code",
   "execution_count": 26,
   "metadata": {},
   "outputs": [
    {
     "name": "stdout",
     "output_type": "stream",
     "text": [
      "Testing Results\n",
      "\n",
      "              precision    recall  f1-score   support\n",
      "\n",
      "         0.0       0.87      0.86      0.87     33686\n",
      "         1.0       0.86      0.88      0.87     34286\n",
      "\n",
      "    accuracy                           0.87     67972\n",
      "   macro avg       0.87      0.87      0.87     67972\n",
      "weighted avg       0.87      0.87      0.87     67972\n",
      "\n"
     ]
    }
   ],
   "source": [
    "print('Testing Results\\n')\n",
    "print(classification_report(y_test3, y_pred_test83))"
   ]
  },
  {
   "cell_type": "code",
   "execution_count": 27,
   "metadata": {},
   "outputs": [
    {
     "data": {
      "image/png": "[encoded data removed]",
      "text/plain": [
       "<Figure size 640x480 with 1 Axes>"
      ]
     },
     "metadata": {},
     "output_type": "display_data"
    }
   ],
   "source": [
    "\n",
    "y_proba_test = grid_cv.predict_proba(x_test3)[:, 1]\n",
    "\n",
    "# Obliczanie TPR, FPR i wyznaczanie progów dla krzywej ROC\n",
    "fpr, tpr, thresholds = roc_curve(y_test3, y_proba_test)\n",
    "\n",
    "# Rysowanie krzywej ROC\n",
    "plt.plot(fpr, tpr, label='ROC Curve')\n",
    "plt.xlabel('False Positive Rate')\n",
    "plt.ylabel('True Positive Rate')\n",
    "plt.title('ROC Curve with AUC = {:.2f}'.format(roc_auc_score(y_test3, y_proba_test)))\n",
    "plt.legend(loc='lower right')\n",
    "plt.grid(True)\n",
    "plt.show()"
   ]
  },
  {
   "cell_type": "markdown",
   "metadata": {},
   "source": [
    "## SIECI NEURONOWE"
   ]
  },
  {
   "cell_type": "markdown",
   "metadata": {},
   "source": [
    "## ANN"
   ]
  },
  {
   "cell_type": "code",
   "execution_count": 28,
   "metadata": {},
   "outputs": [
    {
     "name": "stdout",
     "output_type": "stream",
     "text": [
      "WARNING:tensorflow:From C:\\Users\\DELL\\AppData\\Roaming\\Python\\Python311\\site-packages\\keras\\src\\backend.py:873: The name tf.get_default_graph is deprecated. Please use tf.compat.v1.get_default_graph instead.\n",
      "\n"
     ]
    }
   ],
   "source": [
    "ann = tf.keras.models.Sequential()"
   ]
  },
  {
   "cell_type": "code",
   "execution_count": 29,
   "metadata": {},
   "outputs": [],
   "source": [
    "early_stop = EarlyStopping(monitor='val_loss', mode='min', verbose=1, patience=25)\n"
   ]
  },
  {
   "cell_type": "code",
   "execution_count": 30,
   "metadata": {},
   "outputs": [],
   "source": [
    "ann.add(tf.keras.layers.Dense(units=14, activation='relu'))"
   ]
  },
  {
   "cell_type": "code",
   "execution_count": 31,
   "metadata": {},
   "outputs": [],
   "source": [
    "ann.add(tf.keras.layers.Dense(units=6, activation='relu'))"
   ]
  },
  {
   "cell_type": "code",
   "execution_count": 32,
   "metadata": {},
   "outputs": [],
   "source": [
    "ann.add(tf.keras.layers.Dense(units=1, activation='sigmoid'))"
   ]
  },
  {
   "cell_type": "code",
   "execution_count": 33,
   "metadata": {},
   "outputs": [
    {
     "name": "stdout",
     "output_type": "stream",
     "text": [
      "WARNING:tensorflow:From C:\\Users\\DELL\\AppData\\Roaming\\Python\\Python311\\site-packages\\keras\\src\\optimizers\\__init__.py:309: The name tf.train.Optimizer is deprecated. Please use tf.compat.v1.train.Optimizer instead.\n",
      "\n"
     ]
    }
   ],
   "source": [
    "ann.compile(optimizer = 'adam', loss = 'binary_crossentropy', metrics = ['accuracy'])"
   ]
  },
  {
   "cell_type": "code",
   "execution_count": 34,
   "metadata": {},
   "outputs": [
    {
     "name": "stdout",
     "output_type": "stream",
     "text": [
      "Epoch 1/100\n",
      "WARNING:tensorflow:From C:\\Users\\DELL\\AppData\\Roaming\\Python\\Python311\\site-packages\\keras\\src\\utils\\tf_utils.py:492: The name tf.ragged.RaggedTensorValue is deprecated. Please use tf.compat.v1.ragged.RaggedTensorValue instead.\n",
      "\n",
      "WARNING:tensorflow:From C:\\Users\\DELL\\AppData\\Roaming\\Python\\Python311\\site-packages\\keras\\src\\engine\\base_layer_utils.py:384: The name tf.executing_eagerly_outside_functions is deprecated. Please use tf.compat.v1.executing_eagerly_outside_functions instead.\n",
      "\n",
      "6373/6373 [==============================] - 11s 2ms/step - loss: 0.5132 - accuracy: 0.7459 - val_loss: 0.4688 - val_accuracy: 0.7763\n",
      "Epoch 2/100\n",
      "6373/6373 [==============================] - 12s 2ms/step - loss: 0.4431 - accuracy: 0.7877 - val_loss: 0.4167 - val_accuracy: 0.8000\n",
      "Epoch 3/100\n",
      "6373/6373 [==============================] - 12s 2ms/step - loss: 0.3954 - accuracy: 0.8117 - val_loss: 0.3752 - val_accuracy: 0.8222\n",
      "Epoch 4/100\n",
      "6373/6373 [==============================] - 11s 2ms/step - loss: 0.3717 - accuracy: 0.8222 - val_loss: 0.3657 - val_accuracy: 0.8242\n",
      "Epoch 5/100\n",
      "6373/6373 [==============================] - 12s 2ms/step - loss: 0.3597 - accuracy: 0.8273 - val_loss: 0.3521 - val_accuracy: 0.8305\n",
      "Epoch 6/100\n",
      "6373/6373 [==============================] - 11s 2ms/step - loss: 0.3529 - accuracy: 0.8299 - val_loss: 0.3519 - val_accuracy: 0.8300\n",
      "Epoch 7/100\n",
      "6373/6373 [==============================] - 11s 2ms/step - loss: 0.3489 - accuracy: 0.8316 - val_loss: 0.3482 - val_accuracy: 0.8314\n",
      "Epoch 8/100\n",
      "6373/6373 [==============================] - 12s 2ms/step - loss: 0.3463 - accuracy: 0.8328 - val_loss: 0.3507 - val_accuracy: 0.8290\n",
      "Epoch 9/100\n",
      "6373/6373 [==============================] - 11s 2ms/step - loss: 0.3438 - accuracy: 0.8341 - val_loss: 0.3456 - val_accuracy: 0.8340\n",
      "Epoch 10/100\n",
      "6373/6373 [==============================] - 11s 2ms/step - loss: 0.3409 - accuracy: 0.8352 - val_loss: 0.3361 - val_accuracy: 0.8393\n",
      "Epoch 11/100\n",
      "6373/6373 [==============================] - 11s 2ms/step - loss: 0.3392 - accuracy: 0.8368 - val_loss: 0.3430 - val_accuracy: 0.8352\n",
      "Epoch 12/100\n",
      "6373/6373 [==============================] - 11s 2ms/step - loss: 0.3379 - accuracy: 0.8366 - val_loss: 0.3335 - val_accuracy: 0.8392\n",
      "Epoch 13/100\n",
      "6373/6373 [==============================] - 11s 2ms/step - loss: 0.3357 - accuracy: 0.8378 - val_loss: 0.3350 - val_accuracy: 0.8384\n",
      "Epoch 14/100\n",
      "6373/6373 [==============================] - 11s 2ms/step - loss: 0.3346 - accuracy: 0.8386 - val_loss: 0.3494 - val_accuracy: 0.8270\n",
      "Epoch 15/100\n",
      "6373/6373 [==============================] - 11s 2ms/step - loss: 0.3331 - accuracy: 0.8396 - val_loss: 0.3307 - val_accuracy: 0.8422\n",
      "Epoch 16/100\n",
      "6373/6373 [==============================] - 11s 2ms/step - loss: 0.3315 - accuracy: 0.8404 - val_loss: 0.3357 - val_accuracy: 0.8395\n",
      "Epoch 17/100\n",
      "6373/6373 [==============================] - 12s 2ms/step - loss: 0.3310 - accuracy: 0.8405 - val_loss: 0.3573 - val_accuracy: 0.8275\n",
      "Epoch 18/100\n",
      "6373/6373 [==============================] - 12s 2ms/step - loss: 0.3295 - accuracy: 0.8416 - val_loss: 0.3347 - val_accuracy: 0.8375\n",
      "Epoch 19/100\n",
      "6373/6373 [==============================] - 11s 2ms/step - loss: 0.3291 - accuracy: 0.8413 - val_loss: 0.3335 - val_accuracy: 0.8412\n",
      "Epoch 20/100\n",
      "6373/6373 [==============================] - 9s 1ms/step - loss: 0.3283 - accuracy: 0.8422 - val_loss: 0.3305 - val_accuracy: 0.8410\n",
      "Epoch 21/100\n",
      "6373/6373 [==============================] - 9s 1ms/step - loss: 0.3275 - accuracy: 0.8416 - val_loss: 0.3261 - val_accuracy: 0.8422\n",
      "Epoch 22/100\n",
      "6373/6373 [==============================] - 9s 1ms/step - loss: 0.3265 - accuracy: 0.8420 - val_loss: 0.3262 - val_accuracy: 0.8422\n",
      "Epoch 23/100\n",
      "6373/6373 [==============================] - 9s 1ms/step - loss: 0.3261 - accuracy: 0.8419 - val_loss: 0.3385 - val_accuracy: 0.8319\n",
      "Epoch 24/100\n",
      "6373/6373 [==============================] - 11s 2ms/step - loss: 0.3254 - accuracy: 0.8422 - val_loss: 0.3222 - val_accuracy: 0.8422\n",
      "Epoch 25/100\n",
      "6373/6373 [==============================] - 11s 2ms/step - loss: 0.3247 - accuracy: 0.8425 - val_loss: 0.3239 - val_accuracy: 0.8435\n",
      "Epoch 26/100\n",
      "6373/6373 [==============================] - 11s 2ms/step - loss: 0.3243 - accuracy: 0.8430 - val_loss: 0.3403 - val_accuracy: 0.8349\n",
      "Epoch 27/100\n",
      "6373/6373 [==============================] - 10s 2ms/step - loss: 0.3238 - accuracy: 0.8432 - val_loss: 0.3251 - val_accuracy: 0.8431\n",
      "Epoch 28/100\n",
      "6373/6373 [==============================] - 11s 2ms/step - loss: 0.3237 - accuracy: 0.8430 - val_loss: 0.3216 - val_accuracy: 0.8449\n",
      "Epoch 29/100\n",
      "6373/6373 [==============================] - 12s 2ms/step - loss: 0.3230 - accuracy: 0.8429 - val_loss: 0.3242 - val_accuracy: 0.8445\n",
      "Epoch 30/100\n",
      "6373/6373 [==============================] - 11s 2ms/step - loss: 0.3228 - accuracy: 0.8433 - val_loss: 0.3242 - val_accuracy: 0.8443\n",
      "Epoch 31/100\n",
      "6373/6373 [==============================] - 10s 2ms/step - loss: 0.3218 - accuracy: 0.8453 - val_loss: 0.3230 - val_accuracy: 0.8418\n",
      "Epoch 32/100\n",
      "6373/6373 [==============================] - 7s 1ms/step - loss: 0.3222 - accuracy: 0.8437 - val_loss: 0.3257 - val_accuracy: 0.8407\n",
      "Epoch 33/100\n",
      "6373/6373 [==============================] - 9s 1ms/step - loss: 0.3209 - accuracy: 0.8440 - val_loss: 0.3221 - val_accuracy: 0.8441\n",
      "Epoch 34/100\n",
      "6373/6373 [==============================] - 10s 2ms/step - loss: 0.3214 - accuracy: 0.8438 - val_loss: 0.3158 - val_accuracy: 0.8471\n",
      "Epoch 35/100\n",
      "6373/6373 [==============================] - 10s 2ms/step - loss: 0.3206 - accuracy: 0.8450 - val_loss: 0.3158 - val_accuracy: 0.8475\n",
      "Epoch 36/100\n",
      "6373/6373 [==============================] - 10s 2ms/step - loss: 0.3207 - accuracy: 0.8439 - val_loss: 0.3199 - val_accuracy: 0.8457\n",
      "Epoch 37/100\n",
      "6373/6373 [==============================] - 11s 2ms/step - loss: 0.3197 - accuracy: 0.8448 - val_loss: 0.3231 - val_accuracy: 0.8455\n",
      "Epoch 38/100\n",
      "6373/6373 [==============================] - 10s 2ms/step - loss: 0.3197 - accuracy: 0.8456 - val_loss: 0.3218 - val_accuracy: 0.8426\n",
      "Epoch 39/100\n",
      "6373/6373 [==============================] - 10s 2ms/step - loss: 0.3192 - accuracy: 0.8450 - val_loss: 0.3180 - val_accuracy: 0.8454\n",
      "Epoch 40/100\n",
      "6373/6373 [==============================] - 10s 1ms/step - loss: 0.3195 - accuracy: 0.8452 - val_loss: 0.3234 - val_accuracy: 0.8405\n",
      "Epoch 41/100\n",
      "6373/6373 [==============================] - 11s 2ms/step - loss: 0.3189 - accuracy: 0.8458 - val_loss: 0.3195 - val_accuracy: 0.8441\n",
      "Epoch 42/100\n",
      "6373/6373 [==============================] - 10s 2ms/step - loss: 0.3190 - accuracy: 0.8446 - val_loss: 0.3224 - val_accuracy: 0.8420\n",
      "Epoch 43/100\n",
      "6373/6373 [==============================] - 10s 2ms/step - loss: 0.3185 - accuracy: 0.8454 - val_loss: 0.3140 - val_accuracy: 0.8477\n",
      "Epoch 44/100\n",
      "6373/6373 [==============================] - 10s 2ms/step - loss: 0.3182 - accuracy: 0.8452 - val_loss: 0.3198 - val_accuracy: 0.8436\n",
      "Epoch 45/100\n",
      "6373/6373 [==============================] - 10s 2ms/step - loss: 0.3178 - accuracy: 0.8462 - val_loss: 0.3177 - val_accuracy: 0.8453\n",
      "Epoch 46/100\n",
      "6373/6373 [==============================] - 10s 2ms/step - loss: 0.3179 - accuracy: 0.8458 - val_loss: 0.3161 - val_accuracy: 0.8466\n",
      "Epoch 47/100\n",
      "6373/6373 [==============================] - 10s 2ms/step - loss: 0.3180 - accuracy: 0.8456 - val_loss: 0.3194 - val_accuracy: 0.8445\n",
      "Epoch 48/100\n",
      "6373/6373 [==============================] - 10s 1ms/step - loss: 0.3177 - accuracy: 0.8453 - val_loss: 0.3295 - val_accuracy: 0.8362\n",
      "Epoch 49/100\n",
      "6373/6373 [==============================] - 8s 1ms/step - loss: 0.3176 - accuracy: 0.8460 - val_loss: 0.3229 - val_accuracy: 0.8397\n",
      "Epoch 50/100\n",
      "6373/6373 [==============================] - 7s 1ms/step - loss: 0.3178 - accuracy: 0.8459 - val_loss: 0.3298 - val_accuracy: 0.8409\n",
      "Epoch 51/100\n",
      "6373/6373 [==============================] - 7s 1ms/step - loss: 0.3172 - accuracy: 0.8465 - val_loss: 0.3160 - val_accuracy: 0.8459\n",
      "Epoch 52/100\n",
      "6373/6373 [==============================] - 8s 1ms/step - loss: 0.3164 - accuracy: 0.8460 - val_loss: 0.3133 - val_accuracy: 0.8490\n",
      "Epoch 53/100\n",
      "6373/6373 [==============================] - 8s 1ms/step - loss: 0.3169 - accuracy: 0.8453 - val_loss: 0.3156 - val_accuracy: 0.8448\n",
      "Epoch 54/100\n",
      "6373/6373 [==============================] - 10s 2ms/step - loss: 0.3171 - accuracy: 0.8458 - val_loss: 0.3181 - val_accuracy: 0.8461\n",
      "Epoch 55/100\n",
      "6373/6373 [==============================] - 9s 1ms/step - loss: 0.3162 - accuracy: 0.8462 - val_loss: 0.3502 - val_accuracy: 0.8379\n",
      "Epoch 56/100\n",
      "6373/6373 [==============================] - 8s 1ms/step - loss: 0.3165 - accuracy: 0.8462 - val_loss: 0.3305 - val_accuracy: 0.8441\n",
      "Epoch 57/100\n",
      "6373/6373 [==============================] - 10s 2ms/step - loss: 0.3162 - accuracy: 0.8458 - val_loss: 0.3141 - val_accuracy: 0.8479\n",
      "Epoch 58/100\n",
      "6373/6373 [==============================] - 9s 1ms/step - loss: 0.3160 - accuracy: 0.8470 - val_loss: 0.3644 - val_accuracy: 0.8172\n",
      "Epoch 59/100\n",
      "6373/6373 [==============================] - 8s 1ms/step - loss: 0.3159 - accuracy: 0.8465 - val_loss: 0.3187 - val_accuracy: 0.8420\n",
      "Epoch 60/100\n",
      "6373/6373 [==============================] - 10s 2ms/step - loss: 0.3161 - accuracy: 0.8463 - val_loss: 0.3158 - val_accuracy: 0.8485\n",
      "Epoch 61/100\n",
      "6373/6373 [==============================] - 9s 1ms/step - loss: 0.3160 - accuracy: 0.8466 - val_loss: 0.3162 - val_accuracy: 0.8464\n",
      "Epoch 62/100\n",
      "6373/6373 [==============================] - 10s 2ms/step - loss: 0.3155 - accuracy: 0.8463 - val_loss: 0.3191 - val_accuracy: 0.8432\n",
      "Epoch 63/100\n",
      "6373/6373 [==============================] - 11s 2ms/step - loss: 0.3156 - accuracy: 0.8464 - val_loss: 0.3133 - val_accuracy: 0.8481\n",
      "Epoch 64/100\n",
      "6373/6373 [==============================] - 11s 2ms/step - loss: 0.3157 - accuracy: 0.8461 - val_loss: 0.3139 - val_accuracy: 0.8471\n",
      "Epoch 65/100\n",
      "6373/6373 [==============================] - 11s 2ms/step - loss: 0.3153 - accuracy: 0.8459 - val_loss: 0.3210 - val_accuracy: 0.8426\n",
      "Epoch 66/100\n",
      "6373/6373 [==============================] - 9s 1ms/step - loss: 0.3147 - accuracy: 0.8465 - val_loss: 0.3152 - val_accuracy: 0.8452\n",
      "Epoch 67/100\n",
      "6373/6373 [==============================] - 7s 1ms/step - loss: 0.3148 - accuracy: 0.8465 - val_loss: 0.3195 - val_accuracy: 0.8418\n",
      "Epoch 68/100\n",
      "6373/6373 [==============================] - 8s 1ms/step - loss: 0.3153 - accuracy: 0.8464 - val_loss: 0.3191 - val_accuracy: 0.8461\n",
      "Epoch 69/100\n",
      "6373/6373 [==============================] - 9s 1ms/step - loss: 0.3146 - accuracy: 0.8467 - val_loss: 0.3197 - val_accuracy: 0.8412\n",
      "Epoch 70/100\n",
      "6373/6373 [==============================] - 11s 2ms/step - loss: 0.3147 - accuracy: 0.8465 - val_loss: 0.3158 - val_accuracy: 0.8461\n",
      "Epoch 71/100\n",
      "6373/6373 [==============================] - 11s 2ms/step - loss: 0.3147 - accuracy: 0.8463 - val_loss: 0.3204 - val_accuracy: 0.8452\n",
      "Epoch 72/100\n",
      "6373/6373 [==============================] - 11s 2ms/step - loss: 0.3137 - accuracy: 0.8473 - val_loss: 0.3212 - val_accuracy: 0.8430\n",
      "Epoch 73/100\n",
      "6373/6373 [==============================] - 11s 2ms/step - loss: 0.3148 - accuracy: 0.8467 - val_loss: 0.3167 - val_accuracy: 0.8488\n",
      "Epoch 74/100\n",
      "6373/6373 [==============================] - 10s 2ms/step - loss: 0.3144 - accuracy: 0.8467 - val_loss: 0.3150 - val_accuracy: 0.8468\n",
      "Epoch 75/100\n",
      "6373/6373 [==============================] - 10s 2ms/step - loss: 0.3139 - accuracy: 0.8475 - val_loss: 0.3165 - val_accuracy: 0.8447\n",
      "Epoch 76/100\n",
      "6373/6373 [==============================] - 10s 2ms/step - loss: 0.3140 - accuracy: 0.8471 - val_loss: 0.3183 - val_accuracy: 0.8442\n",
      "Epoch 77/100\n",
      "6373/6373 [==============================] - 10s 2ms/step - loss: 0.3137 - accuracy: 0.8473 - val_loss: 0.3097 - val_accuracy: 0.8488\n",
      "Epoch 78/100\n",
      "6373/6373 [==============================] - 8s 1ms/step - loss: 0.3137 - accuracy: 0.8472 - val_loss: 0.3170 - val_accuracy: 0.8462\n",
      "Epoch 79/100\n",
      "6373/6373 [==============================] - 9s 1ms/step - loss: 0.3138 - accuracy: 0.8464 - val_loss: 0.3164 - val_accuracy: 0.8433\n",
      "Epoch 80/100\n",
      "6373/6373 [==============================] - 10s 2ms/step - loss: 0.3137 - accuracy: 0.8470 - val_loss: 0.3097 - val_accuracy: 0.8489\n",
      "Epoch 81/100\n",
      "6373/6373 [==============================] - 9s 1ms/step - loss: 0.3134 - accuracy: 0.8470 - val_loss: 0.3182 - val_accuracy: 0.8449\n",
      "Epoch 82/100\n",
      "6373/6373 [==============================] - 9s 1ms/step - loss: 0.3135 - accuracy: 0.8470 - val_loss: 0.3200 - val_accuracy: 0.8433\n",
      "Epoch 83/100\n",
      "6373/6373 [==============================] - 10s 2ms/step - loss: 0.3136 - accuracy: 0.8472 - val_loss: 0.3243 - val_accuracy: 0.8424\n",
      "Epoch 84/100\n",
      "6373/6373 [==============================] - 11s 2ms/step - loss: 0.3132 - accuracy: 0.8467 - val_loss: 0.3190 - val_accuracy: 0.8455\n",
      "Epoch 85/100\n",
      "6373/6373 [==============================] - 11s 2ms/step - loss: 0.3125 - accuracy: 0.8477 - val_loss: 0.3177 - val_accuracy: 0.8425\n",
      "Epoch 86/100\n",
      "6373/6373 [==============================] - 8s 1ms/step - loss: 0.3134 - accuracy: 0.8476 - val_loss: 0.3123 - val_accuracy: 0.8501\n",
      "Epoch 87/100\n",
      "6373/6373 [==============================] - 7s 1ms/step - loss: 0.3132 - accuracy: 0.8473 - val_loss: 0.3271 - val_accuracy: 0.8385\n",
      "Epoch 88/100\n",
      "6373/6373 [==============================] - 7s 1ms/step - loss: 0.3136 - accuracy: 0.8474 - val_loss: 0.3139 - val_accuracy: 0.8485\n",
      "Epoch 89/100\n",
      "6373/6373 [==============================] - 9s 1ms/step - loss: 0.3127 - accuracy: 0.8469 - val_loss: 0.3265 - val_accuracy: 0.8365\n",
      "Epoch 90/100\n",
      "6373/6373 [==============================] - 8s 1ms/step - loss: 0.3123 - accuracy: 0.8474 - val_loss: 0.3360 - val_accuracy: 0.8318\n",
      "Epoch 91/100\n",
      "6373/6373 [==============================] - 9s 1ms/step - loss: 0.3133 - accuracy: 0.8473 - val_loss: 0.3105 - val_accuracy: 0.8482\n",
      "Epoch 92/100\n",
      "6373/6373 [==============================] - 10s 2ms/step - loss: 0.3125 - accuracy: 0.8476 - val_loss: 0.3232 - val_accuracy: 0.8414\n",
      "Epoch 93/100\n",
      "6373/6373 [==============================] - 11s 2ms/step - loss: 0.3128 - accuracy: 0.8477 - val_loss: 0.3145 - val_accuracy: 0.8455\n",
      "Epoch 94/100\n",
      "6373/6373 [==============================] - 10s 2ms/step - loss: 0.3125 - accuracy: 0.8474 - val_loss: 0.3146 - val_accuracy: 0.8472\n",
      "Epoch 95/100\n",
      "6373/6373 [==============================] - 9s 1ms/step - loss: 0.3124 - accuracy: 0.8472 - val_loss: 0.3112 - val_accuracy: 0.8487\n",
      "Epoch 96/100\n",
      "6373/6373 [==============================] - 8s 1ms/step - loss: 0.3125 - accuracy: 0.8478 - val_loss: 0.3256 - val_accuracy: 0.8447\n",
      "Epoch 97/100\n",
      "6373/6373 [==============================] - 8s 1ms/step - loss: 0.3126 - accuracy: 0.8481 - val_loss: 0.3092 - val_accuracy: 0.8495\n",
      "Epoch 98/100\n",
      "6373/6373 [==============================] - 8s 1ms/step - loss: 0.3123 - accuracy: 0.8477 - val_loss: 0.3124 - val_accuracy: 0.8470\n",
      "Epoch 99/100\n",
      "6373/6373 [==============================] - 8s 1ms/step - loss: 0.3121 - accuracy: 0.8480 - val_loss: 0.3191 - val_accuracy: 0.8418\n",
      "Epoch 100/100\n",
      "6373/6373 [==============================] - 11s 2ms/step - loss: 0.3119 - accuracy: 0.8484 - val_loss: 0.3329 - val_accuracy: 0.8368\n"
     ]
    },
    {
     "data": {
      "text/plain": [
       "<keras.src.callbacks.History at 0x23238f3d2d0>"
      ]
     },
     "execution_count": 34,
     "metadata": {},
     "output_type": "execute_result"
    }
   ],
   "source": [
    "ann.fit(x_train3, y_train3, batch_size = 32, epochs=100,\n",
    "          validation_data=(x_test3, y_test3), verbose=1,\n",
    "          callbacks=[early_stop])"
   ]
  },
  {
   "cell_type": "code",
   "execution_count": 35,
   "metadata": {},
   "outputs": [
    {
     "name": "stdout",
     "output_type": "stream",
     "text": [
      "6373/6373 [==============================] - 7s 1ms/step\n",
      "2125/2125 [==============================] - 2s 800us/step\n",
      "[[1. 1.]\n",
      " [1. 1.]\n",
      " [1. 1.]\n",
      " ...\n",
      " [0. 0.]\n",
      " [0. 0.]\n",
      " [1. 1.]]\n"
     ]
    }
   ],
   "source": [
    "ypred_train1 = ann.predict(x_train3)\n",
    "y_pred_test1 = ann.predict(x_test3)\n",
    "\n",
    "y_pred_test1 = (y_pred_test1 > 0.5)\n",
    "ypred_train1 = (ypred_train1 > 0.5)\n",
    "print(np.concatenate((y_pred_test1.reshape(len(y_pred_test1),1), y_test3.reshape(len(y_test3),1)),1))"
   ]
  },
  {
   "cell_type": "code",
   "execution_count": 36,
   "metadata": {},
   "outputs": [
    {
     "data": {
      "text/plain": [
       "0.836771023362561"
      ]
     },
     "execution_count": 36,
     "metadata": {},
     "output_type": "execute_result"
    }
   ],
   "source": [
    "accuracy_score(y_test3, y_pred_test1)"
   ]
  },
  {
   "cell_type": "code",
   "execution_count": 37,
   "metadata": {},
   "outputs": [
    {
     "name": "stdout",
     "output_type": "stream",
     "text": [
      "Training Results\n",
      "\n",
      "              precision    recall  f1-score   support\n",
      "\n",
      "         0.0       0.77      0.97      0.86    102726\n",
      "         1.0       0.96      0.71      0.82    101187\n",
      "\n",
      "    accuracy                           0.84    203913\n",
      "   macro avg       0.86      0.84      0.84    203913\n",
      "weighted avg       0.86      0.84      0.84    203913\n",
      "\n"
     ]
    }
   ],
   "source": [
    "print(\"Training Results\\n\")\n",
    "print(classification_report(y_train3, ypred_train1))"
   ]
  },
  {
   "cell_type": "code",
   "execution_count": 38,
   "metadata": {},
   "outputs": [
    {
     "name": "stdout",
     "output_type": "stream",
     "text": [
      "Testing Results\n",
      "\n",
      "              precision    recall  f1-score   support\n",
      "\n",
      "         0.0       0.77      0.97      0.85     33686\n",
      "         1.0       0.96      0.71      0.81     34286\n",
      "\n",
      "    accuracy                           0.84     67972\n",
      "   macro avg       0.86      0.84      0.83     67972\n",
      "weighted avg       0.86      0.84      0.83     67972\n",
      "\n"
     ]
    }
   ],
   "source": [
    "print('Testing Results\\n')\n",
    "print(classification_report(y_test3, y_pred_test1))"
   ]
  },
  {
   "cell_type": "code",
   "execution_count": 39,
   "metadata": {},
   "outputs": [
    {
     "name": "stdout",
     "output_type": "stream",
     "text": [
      "2125/2125 [==============================] - 2s 790us/step\n"
     ]
    },
    {
     "data": {
      "image/png": "[encoded data removed]",
      "text/plain": [
       "<Figure size 640x480 with 1 Axes>"
      ]
     },
     "metadata": {},
     "output_type": "display_data"
    }
   ],
   "source": [
    "\n",
    "y_proba_test = ann.predict(x_test3).flatten()\n",
    "\n",
    "fpr, tpr, thresholds = roc_curve(y_test3, y_proba_test)\n",
    "\n",
    "plt.plot(fpr, tpr, label='ROC Curve')\n",
    "plt.xlabel('False Positive Rate')\n",
    "plt.ylabel('True Positive Rate')\n",
    "plt.title('ROC Curve with AUC = {:.2f}'.format(roc_auc_score(y_test3, y_proba_test)))\n",
    "plt.legend(loc='lower right')\n",
    "plt.grid(True)\n",
    "plt.show()"
   ]
  },
  {
   "cell_type": "markdown",
   "metadata": {},
   "source": [
    "## inne próby sieci neuronowych "
   ]
  },
  {
   "cell_type": "code",
   "execution_count": 40,
   "metadata": {},
   "outputs": [
    {
     "name": "stderr",
     "output_type": "stream",
     "text": [
      "WARNING:absl:`lr` is deprecated in Keras optimizer, please use `learning_rate` or use the legacy optimizer, e.g.,tf.keras.optimizers.legacy.Adam.\n"
     ]
    },
    {
     "name": "stdout",
     "output_type": "stream",
     "text": [
      "Epoch 1/100\n",
      "6373/6373 [==============================] - 9s 1ms/step - loss: 0.4940 - accuracy: 0.7597\n",
      "Epoch 2/100\n",
      "6373/6373 [==============================] - 9s 1ms/step - loss: 0.3975 - accuracy: 0.8124\n",
      "Epoch 3/100\n",
      "6373/6373 [==============================] - 8s 1ms/step - loss: 0.3612 - accuracy: 0.8274\n",
      "Epoch 4/100\n",
      "6373/6373 [==============================] - 7s 1ms/step - loss: 0.3468 - accuracy: 0.8329\n",
      "Epoch 5/100\n",
      "6373/6373 [==============================] - 7s 1ms/step - loss: 0.3403 - accuracy: 0.8362\n",
      "Epoch 6/100\n",
      "6373/6373 [==============================] - 7s 1ms/step - loss: 0.3376 - accuracy: 0.8365\n",
      "Epoch 7/100\n",
      "6373/6373 [==============================] - 6s 1ms/step - loss: 0.3341 - accuracy: 0.8383\n",
      "Epoch 8/100\n",
      "6373/6373 [==============================] - 6s 1ms/step - loss: 0.3332 - accuracy: 0.8395\n",
      "Epoch 9/100\n",
      "6373/6373 [==============================] - 6s 988us/step - loss: 0.3313 - accuracy: 0.8393\n",
      "Epoch 10/100\n",
      "6373/6373 [==============================] - 7s 1ms/step - loss: 0.3303 - accuracy: 0.8402\n",
      "Epoch 11/100\n",
      "6373/6373 [==============================] - 8s 1ms/step - loss: 0.3297 - accuracy: 0.8404\n",
      "Epoch 12/100\n",
      "6373/6373 [==============================] - 8s 1ms/step - loss: 0.3282 - accuracy: 0.8410\n",
      "Epoch 13/100\n",
      "6373/6373 [==============================] - 7s 1ms/step - loss: 0.3269 - accuracy: 0.8413\n",
      "Epoch 14/100\n",
      "6373/6373 [==============================] - 7s 1ms/step - loss: 0.3267 - accuracy: 0.8414\n",
      "Epoch 15/100\n",
      "6373/6373 [==============================] - 7s 1ms/step - loss: 0.3258 - accuracy: 0.8413\n",
      "Epoch 16/100\n",
      "6373/6373 [==============================] - 7s 1ms/step - loss: 0.3246 - accuracy: 0.8422\n",
      "Epoch 17/100\n",
      "6373/6373 [==============================] - 8s 1ms/step - loss: 0.3246 - accuracy: 0.8420\n",
      "Epoch 18/100\n",
      "6373/6373 [==============================] - 9s 1ms/step - loss: 0.3233 - accuracy: 0.8429\n",
      "Epoch 19/100\n",
      "6373/6373 [==============================] - 8s 1ms/step - loss: 0.3229 - accuracy: 0.8427\n",
      "Epoch 20/100\n",
      "6373/6373 [==============================] - 7s 1ms/step - loss: 0.3227 - accuracy: 0.8426\n",
      "Epoch 21/100\n",
      "6373/6373 [==============================] - 7s 1ms/step - loss: 0.3225 - accuracy: 0.8436\n",
      "Epoch 22/100\n",
      "6373/6373 [==============================] - 6s 987us/step - loss: 0.3217 - accuracy: 0.8437\n",
      "Epoch 23/100\n",
      "6373/6373 [==============================] - 6s 1ms/step - loss: 0.3215 - accuracy: 0.8435\n",
      "Epoch 24/100\n",
      "6373/6373 [==============================] - 6s 992us/step - loss: 0.3210 - accuracy: 0.8443\n",
      "Epoch 25/100\n",
      "6373/6373 [==============================] - 8s 1ms/step - loss: 0.3197 - accuracy: 0.8450\n",
      "Epoch 26/100\n",
      "6373/6373 [==============================] - 8s 1ms/step - loss: 0.3193 - accuracy: 0.8452\n",
      "Epoch 27/100\n",
      "6373/6373 [==============================] - 8s 1ms/step - loss: 0.3194 - accuracy: 0.8444\n",
      "Epoch 28/100\n",
      "6373/6373 [==============================] - 6s 1ms/step - loss: 0.3190 - accuracy: 0.8452\n",
      "Epoch 29/100\n",
      "6373/6373 [==============================] - 6s 996us/step - loss: 0.3187 - accuracy: 0.8457\n",
      "Epoch 30/100\n",
      "6373/6373 [==============================] - 6s 941us/step - loss: 0.3181 - accuracy: 0.8451\n",
      "Epoch 31/100\n",
      "6373/6373 [==============================] - 7s 1ms/step - loss: 0.3181 - accuracy: 0.8453\n",
      "Epoch 32/100\n",
      "6373/6373 [==============================] - 7s 1ms/step - loss: 0.3170 - accuracy: 0.8463\n",
      "Epoch 33/100\n",
      "6373/6373 [==============================] - 8s 1ms/step - loss: 0.3163 - accuracy: 0.8472\n",
      "Epoch 34/100\n",
      "6373/6373 [==============================] - 7s 1ms/step - loss: 0.3164 - accuracy: 0.8465\n",
      "Epoch 35/100\n",
      "6373/6373 [==============================] - 6s 937us/step - loss: 0.3166 - accuracy: 0.8458\n",
      "Epoch 36/100\n",
      "6373/6373 [==============================] - 6s 950us/step - loss: 0.3158 - accuracy: 0.8464\n",
      "Epoch 37/100\n",
      "6373/6373 [==============================] - 6s 996us/step - loss: 0.3148 - accuracy: 0.8471\n",
      "Epoch 38/100\n",
      "6373/6373 [==============================] - 7s 1ms/step - loss: 0.3155 - accuracy: 0.8467\n",
      "Epoch 39/100\n",
      "6373/6373 [==============================] - 6s 971us/step - loss: 0.3150 - accuracy: 0.8460\n",
      "Epoch 40/100\n",
      "6373/6373 [==============================] - 6s 1ms/step - loss: 0.3150 - accuracy: 0.8465\n",
      "Epoch 41/100\n",
      "6373/6373 [==============================] - 6s 963us/step - loss: 0.3140 - accuracy: 0.8474\n",
      "Epoch 42/100\n",
      "6373/6373 [==============================] - 9s 1ms/step - loss: 0.3118 - accuracy: 0.8483\n",
      "Epoch 43/100\n",
      "6373/6373 [==============================] - 9s 1ms/step - loss: 0.3091 - accuracy: 0.8499\n",
      "Epoch 44/100\n",
      "6373/6373 [==============================] - 7s 1ms/step - loss: 0.3072 - accuracy: 0.8508\n",
      "Epoch 45/100\n",
      "6373/6373 [==============================] - 9s 1ms/step - loss: 0.3068 - accuracy: 0.8513\n",
      "Epoch 46/100\n",
      "6373/6373 [==============================] - 9s 1ms/step - loss: 0.3062 - accuracy: 0.8511\n",
      "Epoch 47/100\n",
      "6373/6373 [==============================] - 9s 1ms/step - loss: 0.3059 - accuracy: 0.8511\n",
      "Epoch 48/100\n",
      "6373/6373 [==============================] - 9s 1ms/step - loss: 0.3053 - accuracy: 0.8520\n",
      "Epoch 49/100\n",
      "6373/6373 [==============================] - 9s 1ms/step - loss: 0.3048 - accuracy: 0.8518\n",
      "Epoch 50/100\n",
      "6373/6373 [==============================] - 7s 1ms/step - loss: 0.3054 - accuracy: 0.8509\n",
      "Epoch 51/100\n",
      "6373/6373 [==============================] - 7s 1ms/step - loss: 0.3047 - accuracy: 0.8514\n",
      "Epoch 52/100\n",
      "6373/6373 [==============================] - 7s 1ms/step - loss: 0.3047 - accuracy: 0.8508\n",
      "Epoch 53/100\n",
      "6373/6373 [==============================] - 7s 1ms/step - loss: 0.3044 - accuracy: 0.8516\n",
      "Epoch 54/100\n",
      "6373/6373 [==============================] - 6s 1ms/step - loss: 0.3034 - accuracy: 0.8523\n",
      "Epoch 55/100\n",
      "6373/6373 [==============================] - 7s 1ms/step - loss: 0.3027 - accuracy: 0.8532\n",
      "Epoch 56/100\n",
      "6373/6373 [==============================] - 6s 997us/step - loss: 0.3027 - accuracy: 0.8520\n",
      "Epoch 57/100\n",
      "6373/6373 [==============================] - 7s 1ms/step - loss: 0.3022 - accuracy: 0.8535\n",
      "Epoch 58/100\n",
      "6373/6373 [==============================] - 8s 1ms/step - loss: 0.3029 - accuracy: 0.8531\n",
      "Epoch 59/100\n",
      "6373/6373 [==============================] - 6s 998us/step - loss: 0.3023 - accuracy: 0.8532\n",
      "Epoch 60/100\n",
      "6373/6373 [==============================] - 7s 1ms/step - loss: 0.3018 - accuracy: 0.8535\n",
      "Epoch 61/100\n",
      "6373/6373 [==============================] - 7s 1ms/step - loss: 0.3016 - accuracy: 0.8531\n",
      "Epoch 62/100\n",
      "6373/6373 [==============================] - 7s 1ms/step - loss: 0.3019 - accuracy: 0.8533\n",
      "Epoch 63/100\n",
      "6373/6373 [==============================] - 7s 1ms/step - loss: 0.3017 - accuracy: 0.8535\n",
      "Epoch 64/100\n",
      "6373/6373 [==============================] - 7s 1ms/step - loss: 0.3013 - accuracy: 0.8535\n",
      "Epoch 65/100\n",
      "6373/6373 [==============================] - 8s 1ms/step - loss: 0.3015 - accuracy: 0.8537\n",
      "Epoch 66/100\n",
      "6373/6373 [==============================] - 6s 1ms/step - loss: 0.3014 - accuracy: 0.8539\n",
      "Epoch 67/100\n",
      "6373/6373 [==============================] - 7s 1ms/step - loss: 0.3013 - accuracy: 0.8535\n",
      "Epoch 68/100\n",
      "6373/6373 [==============================] - 7s 1ms/step - loss: 0.3015 - accuracy: 0.8535\n",
      "Epoch 69/100\n",
      "6373/6373 [==============================] - 7s 1ms/step - loss: 0.3014 - accuracy: 0.8531\n",
      "Epoch 70/100\n",
      "6373/6373 [==============================] - 7s 1ms/step - loss: 0.3012 - accuracy: 0.8538\n",
      "Epoch 71/100\n",
      "6373/6373 [==============================] - 7s 1ms/step - loss: 0.3005 - accuracy: 0.8540\n",
      "Epoch 72/100\n",
      "6373/6373 [==============================] - 9s 1ms/step - loss: 0.3007 - accuracy: 0.8537\n",
      "Epoch 73/100\n",
      "6373/6373 [==============================] - 7s 1ms/step - loss: 0.3004 - accuracy: 0.8537\n",
      "Epoch 74/100\n",
      "6373/6373 [==============================] - 9s 1ms/step - loss: 0.3005 - accuracy: 0.8539\n",
      "Epoch 75/100\n",
      "6373/6373 [==============================] - 8s 1ms/step - loss: 0.3000 - accuracy: 0.8537\n",
      "Epoch 76/100\n",
      "6373/6373 [==============================] - 7s 1ms/step - loss: 0.3005 - accuracy: 0.8536\n",
      "Epoch 77/100\n",
      "6373/6373 [==============================] - 8s 1ms/step - loss: 0.3004 - accuracy: 0.8542\n",
      "Epoch 78/100\n",
      "6373/6373 [==============================] - 8s 1ms/step - loss: 0.3002 - accuracy: 0.8536\n",
      "Epoch 79/100\n",
      "6373/6373 [==============================] - 8s 1ms/step - loss: 0.2998 - accuracy: 0.8541\n",
      "Epoch 80/100\n",
      "6373/6373 [==============================] - 9s 1ms/step - loss: 0.3000 - accuracy: 0.8540\n",
      "Epoch 81/100\n",
      "6373/6373 [==============================] - 9s 1ms/step - loss: 0.2997 - accuracy: 0.8537\n",
      "Epoch 82/100\n",
      "6373/6373 [==============================] - 8s 1ms/step - loss: 0.2996 - accuracy: 0.8539\n",
      "Epoch 83/100\n",
      "6373/6373 [==============================] - 9s 1ms/step - loss: 0.2995 - accuracy: 0.8545\n",
      "Epoch 84/100\n",
      "6373/6373 [==============================] - 8s 1ms/step - loss: 0.2995 - accuracy: 0.8546\n",
      "Epoch 85/100\n",
      "6373/6373 [==============================] - 9s 1ms/step - loss: 0.2990 - accuracy: 0.8542\n",
      "Epoch 86/100\n",
      "6373/6373 [==============================] - 7s 1ms/step - loss: 0.2990 - accuracy: 0.8545\n",
      "Epoch 87/100\n",
      "6373/6373 [==============================] - 6s 956us/step - loss: 0.2989 - accuracy: 0.8537\n",
      "Epoch 88/100\n",
      "6373/6373 [==============================] - 6s 987us/step - loss: 0.2992 - accuracy: 0.8539\n",
      "Epoch 89/100\n",
      "6373/6373 [==============================] - 7s 1ms/step - loss: 0.2995 - accuracy: 0.8538\n",
      "Epoch 90/100\n",
      "6373/6373 [==============================] - 6s 936us/step - loss: 0.2988 - accuracy: 0.8541\n",
      "Epoch 91/100\n",
      "6373/6373 [==============================] - 6s 977us/step - loss: 0.2986 - accuracy: 0.8543\n",
      "Epoch 92/100\n",
      "6373/6373 [==============================] - 9s 1ms/step - loss: 0.2994 - accuracy: 0.8541\n",
      "Epoch 93/100\n",
      "6373/6373 [==============================] - 9s 1ms/step - loss: 0.2993 - accuracy: 0.8538\n",
      "Epoch 94/100\n",
      "6373/6373 [==============================] - 9s 1ms/step - loss: 0.2982 - accuracy: 0.8540\n",
      "Epoch 95/100\n",
      "6373/6373 [==============================] - 9s 1ms/step - loss: 0.2985 - accuracy: 0.8545\n",
      "Epoch 96/100\n",
      "6373/6373 [==============================] - 8s 1ms/step - loss: 0.2988 - accuracy: 0.8539\n",
      "Epoch 97/100\n",
      "6373/6373 [==============================] - 9s 1ms/step - loss: 0.2983 - accuracy: 0.8542\n",
      "Epoch 98/100\n",
      "6373/6373 [==============================] - 9s 1ms/step - loss: 0.2984 - accuracy: 0.8542\n",
      "Epoch 99/100\n",
      "6373/6373 [==============================] - 7s 1ms/step - loss: 0.2979 - accuracy: 0.8542\n",
      "Epoch 100/100\n",
      "6373/6373 [==============================] - 8s 1ms/step - loss: 0.2985 - accuracy: 0.8534\n"
     ]
    }
   ],
   "source": [
    "\n",
    "tf.random.set_seed(42)\n",
    "\n",
    "\n",
    "model_2 = tf.keras.Sequential([\n",
    "  tf.keras.layers.Dense(14,activation = 'relu'),\n",
    "  tf.keras.layers.Dense(6,activation = 'relu'),\n",
    "  tf.keras.layers.Dense(6,activation = 'relu'),\n",
    "  tf.keras.layers.Dense(1,activation = 'sigmoid')                            \n",
    "])\n",
    "\n",
    "\n",
    "model_2.compile(loss = 'binary_crossentropy',\n",
    "                optimizer = tf.keras.optimizers.Adam(lr=0.001),\n",
    "                metrics = ['accuracy'])\n",
    "\n",
    "\n",
    "history_2 = model_2.fit(x_train3,y_train3,epochs = 100)"
   ]
  },
  {
   "cell_type": "code",
   "execution_count": 41,
   "metadata": {},
   "outputs": [
    {
     "name": "stdout",
     "output_type": "stream",
     "text": [
      "2125/2125 [==============================] - 3s 1ms/step - loss: 0.3024 - accuracy: 0.8522\n"
     ]
    },
    {
     "data": {
      "text/plain": [
       "[0.30244195461273193, 0.8521597385406494]"
      ]
     },
     "execution_count": 41,
     "metadata": {},
     "output_type": "execute_result"
    }
   ],
   "source": [
    "model_2.evaluate(x_test3,y_test3)"
   ]
  },
  {
   "cell_type": "code",
   "execution_count": 42,
   "metadata": {},
   "outputs": [
    {
     "name": "stdout",
     "output_type": "stream",
     "text": [
      "6373/6373 [==============================] - 7s 1ms/step\n",
      "2125/2125 [==============================] - 2s 712us/step\n",
      "Training Results\n",
      "\n",
      "              precision    recall  f1-score   support\n",
      "\n",
      "         0.0       0.81      0.93      0.87    102726\n",
      "         1.0       0.92      0.78      0.84    101187\n",
      "\n",
      "    accuracy                           0.85    203913\n",
      "   macro avg       0.86      0.85      0.85    203913\n",
      "weighted avg       0.86      0.85      0.85    203913\n",
      "\n",
      "Testing Results\n",
      "\n",
      "              precision    recall  f1-score   support\n",
      "\n",
      "         0.0       0.80      0.93      0.86     33686\n",
      "         1.0       0.92      0.78      0.84     34286\n",
      "\n",
      "    accuracy                           0.85     67972\n",
      "   macro avg       0.86      0.85      0.85     67972\n",
      "weighted avg       0.86      0.85      0.85     67972\n",
      "\n"
     ]
    }
   ],
   "source": [
    "ypred_train4 = model_2.predict(x_train3)\n",
    "y_pred_test4 = model_2.predict(x_test3)\n",
    "\n",
    "y_pred_test4 = (y_pred_test4 > 0.5)\n",
    "ypred_train4 = (ypred_train4 > 0.5)\n",
    "\n",
    "print(\"Training Results\\n\")\n",
    "print(classification_report(y_train3,ypred_train4))\n",
    "print(\"Testing Results\\n\")\n",
    "print(classification_report(y_test3,y_pred_test4))"
   ]
  },
  {
   "cell_type": "code",
   "execution_count": 43,
   "metadata": {},
   "outputs": [
    {
     "name": "stdout",
     "output_type": "stream",
     "text": [
      "2125/2125 [==============================] - 2s 992us/step\n"
     ]
    },
    {
     "data": {
      "image/png": "[encoded data removed]",
      "text/plain": [
       "<Figure size 640x480 with 1 Axes>"
      ]
     },
     "metadata": {},
     "output_type": "display_data"
    }
   ],
   "source": [
    "\n",
    "y_proba_test = model_2.predict(x_test3).flatten()\n",
    "\n",
    "fpr, tpr, thresholds = roc_curve(y_test3, y_proba_test)\n",
    "\n",
    "plt.plot(fpr, tpr, label='ROC Curve')\n",
    "plt.xlabel('False Positive Rate')\n",
    "plt.ylabel('True Positive Rate')\n",
    "plt.title('ROC Curve with AUC = {:.2f}'.format(roc_auc_score(y_test3, y_proba_test)))\n",
    "plt.legend(loc='lower right')\n",
    "plt.grid(True)\n",
    "plt.show()"
   ]
  },
  {
   "cell_type": "markdown",
   "metadata": {},
   "source": [
    "## inna proba "
   ]
  },
  {
   "cell_type": "code",
   "execution_count": 44,
   "metadata": {},
   "outputs": [
    {
     "name": "stderr",
     "output_type": "stream",
     "text": [
      "WARNING:absl:`lr` is deprecated in Keras optimizer, please use `learning_rate` or use the legacy optimizer, e.g.,tf.keras.optimizers.legacy.Adam.\n"
     ]
    },
    {
     "name": "stdout",
     "output_type": "stream",
     "text": [
      "Epoch 1/100\n",
      "6373/6373 [==============================] - 9s 1ms/step - loss: 0.4765 - accuracy: 0.7695\n",
      "Epoch 2/100\n",
      "6373/6373 [==============================] - 7s 1ms/step - loss: 0.3731 - accuracy: 0.8206\n",
      "Epoch 3/100\n",
      "6373/6373 [==============================] - 9s 1ms/step - loss: 0.3413 - accuracy: 0.8323\n",
      "Epoch 4/100\n",
      "6373/6373 [==============================] - 9s 1ms/step - loss: 0.3295 - accuracy: 0.8376\n",
      "Epoch 5/100\n",
      "6373/6373 [==============================] - 9s 1ms/step - loss: 0.3234 - accuracy: 0.8406\n",
      "Epoch 6/100\n",
      "6373/6373 [==============================] - 9s 1ms/step - loss: 0.3184 - accuracy: 0.8431\n",
      "Epoch 7/100\n",
      "6373/6373 [==============================] - 9s 1ms/step - loss: 0.3154 - accuracy: 0.8443\n",
      "Epoch 8/100\n",
      "6373/6373 [==============================] - 10s 2ms/step - loss: 0.3117 - accuracy: 0.8465\n",
      "Epoch 9/100\n",
      "6373/6373 [==============================] - 8s 1ms/step - loss: 0.3077 - accuracy: 0.8485\n",
      "Epoch 10/100\n",
      "6373/6373 [==============================] - 9s 1ms/step - loss: 0.3063 - accuracy: 0.8496\n",
      "Epoch 11/100\n",
      "6373/6373 [==============================] - 9s 1ms/step - loss: 0.3041 - accuracy: 0.8507\n",
      "Epoch 12/100\n",
      "6373/6373 [==============================] - 9s 1ms/step - loss: 0.3033 - accuracy: 0.8514\n",
      "Epoch 13/100\n",
      "6373/6373 [==============================] - 10s 2ms/step - loss: 0.3027 - accuracy: 0.8517\n",
      "Epoch 14/100\n",
      "6373/6373 [==============================] - 8s 1ms/step - loss: 0.3020 - accuracy: 0.8510\n",
      "Epoch 15/100\n",
      "6373/6373 [==============================] - 9s 1ms/step - loss: 0.3008 - accuracy: 0.8521\n",
      "Epoch 16/100\n",
      "6373/6373 [==============================] - 6s 1ms/step - loss: 0.2998 - accuracy: 0.8532\n",
      "Epoch 17/100\n",
      "6373/6373 [==============================] - 7s 1ms/step - loss: 0.2999 - accuracy: 0.8532\n",
      "Epoch 18/100\n",
      "6373/6373 [==============================] - 7s 1ms/step - loss: 0.2983 - accuracy: 0.8536\n",
      "Epoch 19/100\n",
      "6373/6373 [==============================] - 7s 1ms/step - loss: 0.2983 - accuracy: 0.8538\n",
      "Epoch 20/100\n",
      "6373/6373 [==============================] - 9s 1ms/step - loss: 0.2970 - accuracy: 0.8539\n",
      "Epoch 21/100\n",
      "6373/6373 [==============================] - 9s 1ms/step - loss: 0.2981 - accuracy: 0.8540\n",
      "Epoch 22/100\n",
      "6373/6373 [==============================] - 9s 1ms/step - loss: 0.2957 - accuracy: 0.8549\n",
      "Epoch 23/100\n",
      "6373/6373 [==============================] - 9s 1ms/step - loss: 0.2948 - accuracy: 0.8554\n",
      "Epoch 24/100\n",
      "6373/6373 [==============================] - 7s 1ms/step - loss: 0.2956 - accuracy: 0.8550\n",
      "Epoch 25/100\n",
      "6373/6373 [==============================] - 6s 1ms/step - loss: 0.2949 - accuracy: 0.8557\n",
      "Epoch 26/100\n",
      "6373/6373 [==============================] - 7s 1ms/step - loss: 0.2943 - accuracy: 0.8562\n",
      "Epoch 27/100\n",
      "6373/6373 [==============================] - 7s 1ms/step - loss: 0.2939 - accuracy: 0.8559\n",
      "Epoch 28/100\n",
      "6373/6373 [==============================] - 7s 1ms/step - loss: 0.2940 - accuracy: 0.8561\n",
      "Epoch 29/100\n",
      "6373/6373 [==============================] - 7s 1ms/step - loss: 0.2939 - accuracy: 0.8561\n",
      "Epoch 30/100\n",
      "6373/6373 [==============================] - 8s 1ms/step - loss: 0.2936 - accuracy: 0.8565\n",
      "Epoch 31/100\n",
      "6373/6373 [==============================] - 9s 1ms/step - loss: 0.2931 - accuracy: 0.8565\n",
      "Epoch 32/100\n",
      "6373/6373 [==============================] - 8s 1ms/step - loss: 0.2921 - accuracy: 0.8570\n",
      "Epoch 33/100\n",
      "6373/6373 [==============================] - 9s 1ms/step - loss: 0.2920 - accuracy: 0.8569\n",
      "Epoch 34/100\n",
      "6373/6373 [==============================] - 9s 1ms/step - loss: 0.2924 - accuracy: 0.8575\n",
      "Epoch 35/100\n",
      "6373/6373 [==============================] - 9s 1ms/step - loss: 0.2907 - accuracy: 0.8580\n",
      "Epoch 36/100\n",
      "6373/6373 [==============================] - 9s 1ms/step - loss: 0.2914 - accuracy: 0.8569\n",
      "Epoch 37/100\n",
      "6373/6373 [==============================] - 9s 1ms/step - loss: 0.2918 - accuracy: 0.8568\n",
      "Epoch 38/100\n",
      "6373/6373 [==============================] - 9s 1ms/step - loss: 0.2905 - accuracy: 0.8580\n",
      "Epoch 39/100\n",
      "6373/6373 [==============================] - 9s 1ms/step - loss: 0.2899 - accuracy: 0.8576\n",
      "Epoch 40/100\n",
      "6373/6373 [==============================] - 9s 1ms/step - loss: 0.2902 - accuracy: 0.8583\n",
      "Epoch 41/100\n",
      "6373/6373 [==============================] - 10s 2ms/step - loss: 0.2904 - accuracy: 0.8572\n",
      "Epoch 42/100\n",
      "6373/6373 [==============================] - 10s 1ms/step - loss: 0.2894 - accuracy: 0.8588\n",
      "Epoch 43/100\n",
      "6373/6373 [==============================] - 9s 1ms/step - loss: 0.2897 - accuracy: 0.8583\n",
      "Epoch 44/100\n",
      "6373/6373 [==============================] - 10s 2ms/step - loss: 0.2896 - accuracy: 0.8584\n",
      "Epoch 45/100\n",
      "6373/6373 [==============================] - 10s 2ms/step - loss: 0.2898 - accuracy: 0.8585\n",
      "Epoch 46/100\n",
      "6373/6373 [==============================] - 11s 2ms/step - loss: 0.2888 - accuracy: 0.8588\n",
      "Epoch 47/100\n",
      "6373/6373 [==============================] - 12s 2ms/step - loss: 0.2887 - accuracy: 0.8587\n",
      "Epoch 48/100\n",
      "6373/6373 [==============================] - 11s 2ms/step - loss: 0.2886 - accuracy: 0.8585\n",
      "Epoch 49/100\n",
      "6373/6373 [==============================] - 10s 2ms/step - loss: 0.2890 - accuracy: 0.8585\n",
      "Epoch 50/100\n",
      "6373/6373 [==============================] - 9s 1ms/step - loss: 0.2892 - accuracy: 0.8584\n",
      "Epoch 51/100\n",
      "6373/6373 [==============================] - 11s 2ms/step - loss: 0.2884 - accuracy: 0.8589\n",
      "Epoch 52/100\n",
      "6373/6373 [==============================] - 9s 1ms/step - loss: 0.2884 - accuracy: 0.8587\n",
      "Epoch 53/100\n",
      "6373/6373 [==============================] - 10s 2ms/step - loss: 0.2876 - accuracy: 0.8592\n",
      "Epoch 54/100\n",
      "6373/6373 [==============================] - 10s 2ms/step - loss: 0.2886 - accuracy: 0.8589\n",
      "Epoch 55/100\n",
      "6373/6373 [==============================] - 10s 2ms/step - loss: 0.2880 - accuracy: 0.8590\n",
      "Epoch 56/100\n",
      "6373/6373 [==============================] - 10s 2ms/step - loss: 0.2873 - accuracy: 0.8598\n",
      "Epoch 57/100\n",
      "6373/6373 [==============================] - 10s 2ms/step - loss: 0.2875 - accuracy: 0.8597\n",
      "Epoch 58/100\n",
      "6373/6373 [==============================] - 10s 2ms/step - loss: 0.2879 - accuracy: 0.8596\n",
      "Epoch 59/100\n",
      "6373/6373 [==============================] - 10s 2ms/step - loss: 0.2870 - accuracy: 0.8594\n",
      "Epoch 60/100\n",
      "6373/6373 [==============================] - 10s 2ms/step - loss: 0.2874 - accuracy: 0.8597\n",
      "Epoch 61/100\n",
      "6373/6373 [==============================] - 10s 2ms/step - loss: 0.2869 - accuracy: 0.8598\n",
      "Epoch 62/100\n",
      "6373/6373 [==============================] - 10s 2ms/step - loss: 0.2872 - accuracy: 0.8596\n",
      "Epoch 63/100\n",
      "6373/6373 [==============================] - 10s 2ms/step - loss: 0.2869 - accuracy: 0.8596\n",
      "Epoch 64/100\n",
      "6373/6373 [==============================] - 11s 2ms/step - loss: 0.2864 - accuracy: 0.8598\n",
      "Epoch 65/100\n",
      "6373/6373 [==============================] - 10s 1ms/step - loss: 0.2859 - accuracy: 0.8600\n",
      "Epoch 66/100\n",
      "6373/6373 [==============================] - 10s 2ms/step - loss: 0.2864 - accuracy: 0.8599\n",
      "Epoch 67/100\n",
      "6373/6373 [==============================] - 10s 2ms/step - loss: 0.2859 - accuracy: 0.8600\n",
      "Epoch 68/100\n",
      "6373/6373 [==============================] - 11s 2ms/step - loss: 0.2853 - accuracy: 0.8603\n",
      "Epoch 69/100\n",
      "6373/6373 [==============================] - 11s 2ms/step - loss: 0.2860 - accuracy: 0.8601\n",
      "Epoch 70/100\n",
      "6373/6373 [==============================] - 10s 2ms/step - loss: 0.2855 - accuracy: 0.8606\n",
      "Epoch 71/100\n",
      "6373/6373 [==============================] - 10s 2ms/step - loss: 0.2856 - accuracy: 0.8607\n",
      "Epoch 72/100\n",
      "6373/6373 [==============================] - 11s 2ms/step - loss: 0.2856 - accuracy: 0.8601\n",
      "Epoch 73/100\n",
      "6373/6373 [==============================] - 10s 2ms/step - loss: 0.2854 - accuracy: 0.8610\n",
      "Epoch 74/100\n",
      "6373/6373 [==============================] - 10s 2ms/step - loss: 0.2854 - accuracy: 0.8599\n",
      "Epoch 75/100\n",
      "6373/6373 [==============================] - 10s 2ms/step - loss: 0.2845 - accuracy: 0.8606\n",
      "Epoch 76/100\n",
      "6373/6373 [==============================] - 10s 2ms/step - loss: 0.2857 - accuracy: 0.8602\n",
      "Epoch 77/100\n",
      "6373/6373 [==============================] - 10s 2ms/step - loss: 0.2848 - accuracy: 0.8610\n",
      "Epoch 78/100\n",
      "6373/6373 [==============================] - 10s 2ms/step - loss: 0.2843 - accuracy: 0.8614\n",
      "Epoch 79/100\n",
      "6373/6373 [==============================] - 10s 2ms/step - loss: 0.2865 - accuracy: 0.8599\n",
      "Epoch 80/100\n",
      "6373/6373 [==============================] - 10s 2ms/step - loss: 0.2841 - accuracy: 0.8610\n",
      "Epoch 81/100\n",
      "6373/6373 [==============================] - 10s 2ms/step - loss: 0.2845 - accuracy: 0.8611\n",
      "Epoch 82/100\n",
      "6373/6373 [==============================] - 9s 1ms/step - loss: 0.2842 - accuracy: 0.8610\n",
      "Epoch 83/100\n",
      "6373/6373 [==============================] - 12s 2ms/step - loss: 0.2835 - accuracy: 0.8621\n",
      "Epoch 84/100\n",
      "6373/6373 [==============================] - 10s 2ms/step - loss: 0.2839 - accuracy: 0.8612\n",
      "Epoch 85/100\n",
      "6373/6373 [==============================] - 10s 2ms/step - loss: 0.2835 - accuracy: 0.8615\n",
      "Epoch 86/100\n",
      "6373/6373 [==============================] - 10s 2ms/step - loss: 0.2847 - accuracy: 0.8614\n",
      "Epoch 87/100\n",
      "6373/6373 [==============================] - 10s 2ms/step - loss: 0.2836 - accuracy: 0.8615\n",
      "Epoch 88/100\n",
      "6373/6373 [==============================] - 10s 2ms/step - loss: 0.2835 - accuracy: 0.8617\n",
      "Epoch 89/100\n",
      "6373/6373 [==============================] - 11s 2ms/step - loss: 0.2838 - accuracy: 0.8613\n",
      "Epoch 90/100\n",
      "6373/6373 [==============================] - 9s 1ms/step - loss: 0.2835 - accuracy: 0.8618\n",
      "Epoch 91/100\n",
      "6373/6373 [==============================] - 10s 2ms/step - loss: 0.2837 - accuracy: 0.8616\n",
      "Epoch 92/100\n",
      "6373/6373 [==============================] - 10s 2ms/step - loss: 0.2836 - accuracy: 0.8614\n",
      "Epoch 93/100\n",
      "6373/6373 [==============================] - 9s 1ms/step - loss: 0.2828 - accuracy: 0.8621\n",
      "Epoch 94/100\n",
      "6373/6373 [==============================] - 10s 1ms/step - loss: 0.2823 - accuracy: 0.8624\n",
      "Epoch 95/100\n",
      "6373/6373 [==============================] - 9s 1ms/step - loss: 0.2828 - accuracy: 0.8619\n",
      "Epoch 96/100\n",
      "6373/6373 [==============================] - 9s 1ms/step - loss: 0.2827 - accuracy: 0.8621\n",
      "Epoch 97/100\n",
      "6373/6373 [==============================] - 9s 1ms/step - loss: 0.2823 - accuracy: 0.8620\n",
      "Epoch 98/100\n",
      "6373/6373 [==============================] - 9s 1ms/step - loss: 0.2819 - accuracy: 0.8629\n",
      "Epoch 99/100\n",
      "6373/6373 [==============================] - 9s 1ms/step - loss: 0.2819 - accuracy: 0.8627\n",
      "Epoch 100/100\n",
      "6373/6373 [==============================] - 9s 1ms/step - loss: 0.2823 - accuracy: 0.8625\n"
     ]
    }
   ],
   "source": [
    "\n",
    "tf.random.set_seed(42)\n",
    "\n",
    "\n",
    "\n",
    "model_22 = tf.keras.Sequential([\n",
    "  tf.keras.layers.Dense(18,activation = 'relu'),\n",
    "  tf.keras.layers.Dense(36,activation = 'relu'),\n",
    "  tf.keras.layers.Dense(18,activation = 'relu'),\n",
    "  tf.keras.layers.Dense(9,activation = 'relu'),\n",
    "  tf.keras.layers.Dense(1,activation = 'sigmoid')                            \n",
    "])\n",
    "\n",
    "\n",
    "model_22.compile(loss = 'binary_crossentropy',\n",
    "                optimizer = tf.keras.optimizers.Adam(lr=0.001),\n",
    "                metrics = ['accuracy'])\n",
    "\n",
    "\n",
    "history_2 = model_22.fit(x_train3,y_train3,epochs = 100)"
   ]
  },
  {
   "cell_type": "code",
   "execution_count": 45,
   "metadata": {},
   "outputs": [
    {
     "name": "stdout",
     "output_type": "stream",
     "text": [
      "2125/2125 [==============================] - 3s 1ms/step - loss: 0.2882 - accuracy: 0.8603\n"
     ]
    },
    {
     "data": {
      "text/plain": [
       "[0.2881743907928467, 0.8603395223617554]"
      ]
     },
     "execution_count": 45,
     "metadata": {},
     "output_type": "execute_result"
    }
   ],
   "source": [
    "model_22.evaluate(x_test3,y_test3)"
   ]
  },
  {
   "cell_type": "code",
   "execution_count": 46,
   "metadata": {},
   "outputs": [
    {
     "name": "stdout",
     "output_type": "stream",
     "text": [
      "6373/6373 [==============================] - 7s 1ms/step\n",
      "2125/2125 [==============================] - 2s 1ms/step\n",
      "              precision    recall  f1-score   support\n",
      "\n",
      "         0.0       0.86      0.87      0.86    102726\n",
      "         1.0       0.87      0.85      0.86    101187\n",
      "\n",
      "    accuracy                           0.86    203913\n",
      "   macro avg       0.86      0.86      0.86    203913\n",
      "weighted avg       0.86      0.86      0.86    203913\n",
      "\n",
      "              precision    recall  f1-score   support\n",
      "\n",
      "         0.0       0.85      0.87      0.86     33686\n",
      "         1.0       0.87      0.85      0.86     34286\n",
      "\n",
      "    accuracy                           0.86     67972\n",
      "   macro avg       0.86      0.86      0.86     67972\n",
      "weighted avg       0.86      0.86      0.86     67972\n",
      "\n"
     ]
    }
   ],
   "source": [
    "ypred_train22 = model_22.predict(x_train3)\n",
    "y_pred_test22 = model_22.predict(x_test3)\n",
    "\n",
    "y_pred_test22 = (y_pred_test22 > 0.5)\n",
    "ypred_train22 = (ypred_train22 > 0.5)\n",
    "\n",
    "print(classification_report(y_train3,ypred_train22))\n",
    "print(classification_report(y_test3,y_pred_test22))"
   ]
  },
  {
   "cell_type": "code",
   "execution_count": 47,
   "metadata": {},
   "outputs": [
    {
     "name": "stdout",
     "output_type": "stream",
     "text": [
      "   1/2125 [..............................] - ETA: 1:06"
     ]
    },
    {
     "name": "stdout",
     "output_type": "stream",
     "text": [
      "2125/2125 [==============================] - 3s 1ms/step\n"
     ]
    },
    {
     "data": {
      "image/png": "[encoded data removed]",
      "text/plain": [
       "<Figure size 640x480 with 1 Axes>"
      ]
     },
     "metadata": {},
     "output_type": "display_data"
    }
   ],
   "source": [
    "\n",
    "y_proba_test = model_22.predict(x_test3).flatten()\n",
    "\n",
    "fpr, tpr, thresholds = roc_curve(y_test3, y_proba_test)\n",
    "\n",
    "plt.plot(fpr, tpr, label='ROC Curve')\n",
    "plt.xlabel('False Positive Rate')\n",
    "plt.ylabel('True Positive Rate')\n",
    "plt.title('ROC Curve with AUC = {:.2f}'.format(roc_auc_score(y_test3, y_proba_test)))\n",
    "plt.legend(loc='lower right')\n",
    "plt.grid(True)\n",
    "plt.show()"
   ]
  },
  {
   "cell_type": "markdown",
   "metadata": {},
   "source": [
    "## inne próby sieci neuronowych "
   ]
  },
  {
   "cell_type": "code",
   "execution_count": 48,
   "metadata": {},
   "outputs": [],
   "source": [
    "model = Sequential()\n",
    "model.add(Dense(units=30,activation='relu'))\n",
    "model.add(Dropout(0.5))\n",
    "\n",
    "model.add(Dense(units=15,activation='relu'))\n",
    "model.add(Dropout(0.5))\n",
    "\n",
    "model.add(Dense(units=1,activation='sigmoid'))\n",
    "model.compile(loss='binary_crossentropy', optimizer='adam')"
   ]
  },
  {
   "cell_type": "code",
   "execution_count": 49,
   "metadata": {},
   "outputs": [
    {
     "name": "stdout",
     "output_type": "stream",
     "text": [
      "Epoch 1/100\n",
      "6373/6373 [==============================] - 12s 2ms/step - loss: 0.5739 - val_loss: 0.4981\n",
      "Epoch 2/100\n",
      "6373/6373 [==============================] - 11s 2ms/step - loss: 0.5278 - val_loss: 0.4747\n",
      "Epoch 3/100\n",
      "6373/6373 [==============================] - 10s 2ms/step - loss: 0.5140 - val_loss: 0.4651\n",
      "Epoch 4/100\n",
      "6373/6373 [==============================] - 10s 2ms/step - loss: 0.5078 - val_loss: 0.4570\n",
      "Epoch 5/100\n",
      "6373/6373 [==============================] - 11s 2ms/step - loss: 0.5037 - val_loss: 0.4551\n",
      "Epoch 6/100\n",
      "6373/6373 [==============================] - 10s 2ms/step - loss: 0.5018 - val_loss: 0.4495\n",
      "Epoch 7/100\n",
      "6373/6373 [==============================] - 11s 2ms/step - loss: 0.5010 - val_loss: 0.4435\n",
      "Epoch 8/100\n",
      "6373/6373 [==============================] - 11s 2ms/step - loss: 0.4986 - val_loss: 0.4459\n",
      "Epoch 9/100\n",
      "6373/6373 [==============================] - 10s 2ms/step - loss: 0.4968 - val_loss: 0.4429\n",
      "Epoch 10/100\n",
      "6373/6373 [==============================] - 9s 1ms/step - loss: 0.4983 - val_loss: 0.4443\n",
      "Epoch 11/100\n",
      "6373/6373 [==============================] - 9s 1ms/step - loss: 0.4960 - val_loss: 0.4425\n",
      "Epoch 12/100\n",
      "6373/6373 [==============================] - 9s 1ms/step - loss: 0.4964 - val_loss: 0.4396\n",
      "Epoch 13/100\n",
      "6373/6373 [==============================] - 9s 1ms/step - loss: 0.4951 - val_loss: 0.4360\n",
      "Epoch 14/100\n",
      "6373/6373 [==============================] - 9s 1ms/step - loss: 0.4948 - val_loss: 0.4396\n",
      "Epoch 15/100\n",
      "6373/6373 [==============================] - 9s 1ms/step - loss: 0.4941 - val_loss: 0.4377\n",
      "Epoch 16/100\n",
      "6373/6373 [==============================] - 9s 1ms/step - loss: 0.4940 - val_loss: 0.4396\n",
      "Epoch 17/100\n",
      "6373/6373 [==============================] - 9s 1ms/step - loss: 0.4946 - val_loss: 0.4390\n",
      "Epoch 18/100\n",
      "6373/6373 [==============================] - 9s 1ms/step - loss: 0.4941 - val_loss: 0.4404\n",
      "Epoch 19/100\n",
      "6373/6373 [==============================] - 9s 1ms/step - loss: 0.4930 - val_loss: 0.4376\n",
      "Epoch 20/100\n",
      "6373/6373 [==============================] - 9s 1ms/step - loss: 0.4944 - val_loss: 0.4386\n",
      "Epoch 21/100\n",
      "6373/6373 [==============================] - 10s 2ms/step - loss: 0.4917 - val_loss: 0.4366\n",
      "Epoch 22/100\n",
      "6373/6373 [==============================] - 12s 2ms/step - loss: 0.4926 - val_loss: 0.4370\n",
      "Epoch 23/100\n",
      "6373/6373 [==============================] - 11s 2ms/step - loss: 0.4923 - val_loss: 0.4432\n",
      "Epoch 24/100\n",
      "6373/6373 [==============================] - 11s 2ms/step - loss: 0.4927 - val_loss: 0.4388\n",
      "Epoch 25/100\n",
      "6373/6373 [==============================] - 12s 2ms/step - loss: 0.4913 - val_loss: 0.4416\n",
      "Epoch 26/100\n",
      "6373/6373 [==============================] - 12s 2ms/step - loss: 0.4927 - val_loss: 0.4367\n",
      "Epoch 27/100\n",
      "6373/6373 [==============================] - 12s 2ms/step - loss: 0.4928 - val_loss: 0.4364\n",
      "Epoch 28/100\n",
      "6373/6373 [==============================] - 13s 2ms/step - loss: 0.4914 - val_loss: 0.4370\n",
      "Epoch 29/100\n",
      "6373/6373 [==============================] - 13s 2ms/step - loss: 0.4914 - val_loss: 0.4368\n",
      "Epoch 30/100\n",
      "6373/6373 [==============================] - 12s 2ms/step - loss: 0.4912 - val_loss: 0.4366\n",
      "Epoch 31/100\n",
      "6373/6373 [==============================] - 12s 2ms/step - loss: 0.4913 - val_loss: 0.4372\n",
      "Epoch 32/100\n",
      "6373/6373 [==============================] - 10s 2ms/step - loss: 0.4914 - val_loss: 0.4335\n",
      "Epoch 33/100\n",
      "6373/6373 [==============================] - 10s 1ms/step - loss: 0.4912 - val_loss: 0.4369\n",
      "Epoch 34/100\n",
      "6373/6373 [==============================] - 11s 2ms/step - loss: 0.4918 - val_loss: 0.4353\n",
      "Epoch 35/100\n",
      "6373/6373 [==============================] - 9s 1ms/step - loss: 0.4906 - val_loss: 0.4365\n",
      "Epoch 36/100\n",
      "6373/6373 [==============================] - 11s 2ms/step - loss: 0.4913 - val_loss: 0.4338\n",
      "Epoch 37/100\n",
      "6373/6373 [==============================] - 10s 2ms/step - loss: 0.4911 - val_loss: 0.4339\n",
      "Epoch 38/100\n",
      "6373/6373 [==============================] - 13s 2ms/step - loss: 0.4904 - val_loss: 0.4343\n",
      "Epoch 39/100\n",
      "6373/6373 [==============================] - 11s 2ms/step - loss: 0.4900 - val_loss: 0.4399\n",
      "Epoch 40/100\n",
      "6373/6373 [==============================] - 9s 1ms/step - loss: 0.4913 - val_loss: 0.4355\n",
      "Epoch 41/100\n",
      "6373/6373 [==============================] - 9s 1ms/step - loss: 0.4902 - val_loss: 0.4378\n",
      "Epoch 42/100\n",
      "6373/6373 [==============================] - 9s 1ms/step - loss: 0.4902 - val_loss: 0.4379\n",
      "Epoch 43/100\n",
      "6373/6373 [==============================] - 9s 1ms/step - loss: 0.4912 - val_loss: 0.4345\n",
      "Epoch 44/100\n",
      "6373/6373 [==============================] - 9s 1ms/step - loss: 0.4901 - val_loss: 0.4344\n",
      "Epoch 45/100\n",
      "6373/6373 [==============================] - 9s 1ms/step - loss: 0.4912 - val_loss: 0.4367\n",
      "Epoch 46/100\n",
      "6373/6373 [==============================] - 8s 1ms/step - loss: 0.4904 - val_loss: 0.4365\n",
      "Epoch 47/100\n",
      "6373/6373 [==============================] - 8s 1ms/step - loss: 0.4896 - val_loss: 0.4320\n",
      "Epoch 48/100\n",
      "6373/6373 [==============================] - 9s 1ms/step - loss: 0.4892 - val_loss: 0.4346\n",
      "Epoch 49/100\n",
      "6373/6373 [==============================] - 9s 1ms/step - loss: 0.4907 - val_loss: 0.4311\n",
      "Epoch 50/100\n",
      "6373/6373 [==============================] - 9s 1ms/step - loss: 0.4889 - val_loss: 0.4326\n",
      "Epoch 51/100\n",
      "6373/6373 [==============================] - 9s 1ms/step - loss: 0.4910 - val_loss: 0.4335\n",
      "Epoch 52/100\n",
      "6373/6373 [==============================] - 9s 1ms/step - loss: 0.4884 - val_loss: 0.4346\n",
      "Epoch 53/100\n",
      "6373/6373 [==============================] - 9s 1ms/step - loss: 0.4914 - val_loss: 0.4335\n",
      "Epoch 54/100\n",
      "6373/6373 [==============================] - 8s 1ms/step - loss: 0.4906 - val_loss: 0.4330\n",
      "Epoch 55/100\n",
      "6373/6373 [==============================] - 9s 1ms/step - loss: 0.4909 - val_loss: 0.4360\n",
      "Epoch 56/100\n",
      "6373/6373 [==============================] - 9s 1ms/step - loss: 0.4883 - val_loss: 0.4352\n",
      "Epoch 57/100\n",
      "6373/6373 [==============================] - 9s 1ms/step - loss: 0.4894 - val_loss: 0.4341\n",
      "Epoch 58/100\n",
      "6373/6373 [==============================] - 9s 1ms/step - loss: 0.4888 - val_loss: 0.4333\n",
      "Epoch 59/100\n",
      "6373/6373 [==============================] - 9s 1ms/step - loss: 0.4903 - val_loss: 0.4370\n",
      "Epoch 60/100\n",
      "6373/6373 [==============================] - 14s 2ms/step - loss: 0.4904 - val_loss: 0.4375\n",
      "Epoch 61/100\n",
      "6373/6373 [==============================] - 12s 2ms/step - loss: 0.4895 - val_loss: 0.4317\n",
      "Epoch 62/100\n",
      "6373/6373 [==============================] - 12s 2ms/step - loss: 0.4894 - val_loss: 0.4388\n",
      "Epoch 63/100\n",
      "6373/6373 [==============================] - 10s 2ms/step - loss: 0.4890 - val_loss: 0.4328\n",
      "Epoch 64/100\n",
      "6373/6373 [==============================] - 12s 2ms/step - loss: 0.4880 - val_loss: 0.4355\n",
      "Epoch 65/100\n",
      "6373/6373 [==============================] - 12s 2ms/step - loss: 0.4891 - val_loss: 0.4336\n",
      "Epoch 66/100\n",
      "6373/6373 [==============================] - 13s 2ms/step - loss: 0.4901 - val_loss: 0.4306\n",
      "Epoch 67/100\n",
      "6373/6373 [==============================] - 10s 2ms/step - loss: 0.4885 - val_loss: 0.4320\n",
      "Epoch 68/100\n",
      "6373/6373 [==============================] - 11s 2ms/step - loss: 0.4895 - val_loss: 0.4329\n",
      "Epoch 69/100\n",
      "6373/6373 [==============================] - 12s 2ms/step - loss: 0.4888 - val_loss: 0.4334\n",
      "Epoch 70/100\n",
      "6373/6373 [==============================] - 12s 2ms/step - loss: 0.4892 - val_loss: 0.4317\n",
      "Epoch 71/100\n",
      "6373/6373 [==============================] - 12s 2ms/step - loss: 0.4891 - val_loss: 0.4306\n",
      "Epoch 72/100\n",
      "6373/6373 [==============================] - 12s 2ms/step - loss: 0.4886 - val_loss: 0.4318\n",
      "Epoch 73/100\n",
      "6373/6373 [==============================] - 12s 2ms/step - loss: 0.4886 - val_loss: 0.4341\n",
      "Epoch 74/100\n",
      "6373/6373 [==============================] - 12s 2ms/step - loss: 0.4899 - val_loss: 0.4291\n",
      "Epoch 75/100\n",
      "6373/6373 [==============================] - 12s 2ms/step - loss: 0.4881 - val_loss: 0.4335\n",
      "Epoch 76/100\n",
      "6373/6373 [==============================] - 13s 2ms/step - loss: 0.4891 - val_loss: 0.4349\n",
      "Epoch 77/100\n",
      "6373/6373 [==============================] - 12s 2ms/step - loss: 0.4894 - val_loss: 0.4308\n",
      "Epoch 78/100\n",
      "6373/6373 [==============================] - 11s 2ms/step - loss: 0.4897 - val_loss: 0.4324\n",
      "Epoch 79/100\n",
      "6373/6373 [==============================] - 11s 2ms/step - loss: 0.4892 - val_loss: 0.4304\n",
      "Epoch 80/100\n",
      "6373/6373 [==============================] - 12s 2ms/step - loss: 0.4894 - val_loss: 0.4371\n",
      "Epoch 81/100\n",
      "6373/6373 [==============================] - 12s 2ms/step - loss: 0.4889 - val_loss: 0.4330\n",
      "Epoch 82/100\n",
      "6373/6373 [==============================] - 12s 2ms/step - loss: 0.4885 - val_loss: 0.4303\n",
      "Epoch 83/100\n",
      "6373/6373 [==============================] - 10s 2ms/step - loss: 0.4880 - val_loss: 0.4363\n",
      "Epoch 84/100\n",
      "6373/6373 [==============================] - 11s 2ms/step - loss: 0.4888 - val_loss: 0.4339\n",
      "Epoch 85/100\n",
      "6373/6373 [==============================] - 9s 1ms/step - loss: 0.4898 - val_loss: 0.4334\n",
      "Epoch 86/100\n",
      "6373/6373 [==============================] - 9s 1ms/step - loss: 0.4888 - val_loss: 0.4307\n",
      "Epoch 87/100\n",
      "6373/6373 [==============================] - 12s 2ms/step - loss: 0.4890 - val_loss: 0.4351\n",
      "Epoch 88/100\n",
      "6373/6373 [==============================] - 10s 2ms/step - loss: 0.4887 - val_loss: 0.4305\n",
      "Epoch 89/100\n",
      "6373/6373 [==============================] - 10s 2ms/step - loss: 0.4887 - val_loss: 0.4362\n",
      "Epoch 90/100\n",
      "6373/6373 [==============================] - 11s 2ms/step - loss: 0.4890 - val_loss: 0.4347\n",
      "Epoch 91/100\n",
      "6373/6373 [==============================] - 10s 2ms/step - loss: 0.4887 - val_loss: 0.4371\n",
      "Epoch 92/100\n",
      "6373/6373 [==============================] - 10s 2ms/step - loss: 0.4888 - val_loss: 0.4329\n",
      "Epoch 93/100\n",
      "6373/6373 [==============================] - 12s 2ms/step - loss: 0.4895 - val_loss: 0.4280\n",
      "Epoch 94/100\n",
      "6373/6373 [==============================] - 11s 2ms/step - loss: 0.4890 - val_loss: 0.4349\n",
      "Epoch 95/100\n",
      "6373/6373 [==============================] - 11s 2ms/step - loss: 0.4893 - val_loss: 0.4362\n",
      "Epoch 96/100\n",
      "6373/6373 [==============================] - 11s 2ms/step - loss: 0.4894 - val_loss: 0.4320\n",
      "Epoch 97/100\n",
      "6373/6373 [==============================] - 11s 2ms/step - loss: 0.4889 - val_loss: 0.4298\n",
      "Epoch 98/100\n",
      "6373/6373 [==============================] - 11s 2ms/step - loss: 0.4887 - val_loss: 0.4300\n",
      "Epoch 99/100\n",
      "6373/6373 [==============================] - 11s 2ms/step - loss: 0.4893 - val_loss: 0.4349\n",
      "Epoch 100/100\n",
      "6373/6373 [==============================] - 11s 2ms/step - loss: 0.4890 - val_loss: 0.4339\n"
     ]
    },
    {
     "data": {
      "text/plain": [
       "<keras.src.callbacks.History at 0x232dfef1dd0>"
      ]
     },
     "execution_count": 49,
     "metadata": {},
     "output_type": "execute_result"
    }
   ],
   "source": [
    "model.fit(x=x_train3, \n",
    "          y=y_train3, \n",
    "          epochs=100,\n",
    "          validation_data=(x_test3, y_test3), verbose=1,\n",
    "          callbacks=[early_stop]\n",
    "          )"
   ]
  },
  {
   "cell_type": "code",
   "execution_count": 50,
   "metadata": {},
   "outputs": [
    {
     "name": "stdout",
     "output_type": "stream",
     "text": [
      "6373/6373 [==============================] - 7s 1ms/step\n",
      "2125/2125 [==============================] - 2s 1ms/step\n",
      "              precision    recall  f1-score   support\n",
      "\n",
      "         0.0       0.83      0.78      0.80    102726\n",
      "         1.0       0.79      0.84      0.81    101187\n",
      "\n",
      "    accuracy                           0.81    203913\n",
      "   macro avg       0.81      0.81      0.81    203913\n",
      "weighted avg       0.81      0.81      0.81    203913\n",
      "\n",
      "              precision    recall  f1-score   support\n",
      "\n",
      "         0.0       0.83      0.78      0.80     33686\n",
      "         1.0       0.79      0.84      0.82     34286\n",
      "\n",
      "    accuracy                           0.81     67972\n",
      "   macro avg       0.81      0.81      0.81     67972\n",
      "weighted avg       0.81      0.81      0.81     67972\n",
      "\n"
     ]
    }
   ],
   "source": [
    "ypred_train5 = model.predict(x_train3)\n",
    "y_pred_test5 = model.predict(x_test3)\n",
    "\n",
    "y_pred_test5 = (y_pred_test5 > 0.5)\n",
    "ypred_train5 = (ypred_train5 > 0.5)\n",
    "\n",
    "print(classification_report(y_train3,ypred_train5))\n",
    "print(classification_report(y_test3,y_pred_test5))"
   ]
  },
  {
   "cell_type": "code",
   "execution_count": 51,
   "metadata": {},
   "outputs": [
    {
     "name": "stdout",
     "output_type": "stream",
     "text": [
      "2125/2125 [==============================] - 2s 1ms/step\n"
     ]
    },
    {
     "data": {
      "image/png": "[encoded data removed]",
      "text/plain": [
       "<Figure size 640x480 with 1 Axes>"
      ]
     },
     "metadata": {},
     "output_type": "display_data"
    }
   ],
   "source": [
    "y_proba_test = model.predict(x_test3).flatten()\n",
    "\n",
    "fpr, tpr, thresholds = roc_curve(y_test3, y_proba_test)\n",
    "\n",
    "plt.plot(fpr, tpr, label='ROC Curve')\n",
    "plt.xlabel('False Positive Rate')\n",
    "plt.ylabel('True Positive Rate')\n",
    "plt.title('ROC Curve with AUC = {:.2f}'.format(roc_auc_score(y_test3, y_proba_test)))\n",
    "plt.legend(loc='lower right')\n",
    "plt.grid(True)\n",
    "plt.show()"
   ]
  },
  {
   "cell_type": "markdown",
   "metadata": {},
   "source": [
    "## inny model"
   ]
  },
  {
   "cell_type": "code",
   "execution_count": 52,
   "metadata": {},
   "outputs": [],
   "source": [
    "model11 = Sequential()\n",
    "\n",
    "\n",
    "model11.add(Dense(14,  activation='relu'))\n",
    "model11.add(Dropout(0.2))\n",
    "\n",
    "model11.add(Dense(10, activation='relu'))\n",
    "model11.add(Dropout(0.2))\n",
    "\n",
    "model11.add(Dense(units=1,activation='sigmoid'))\n",
    "\n",
    "model11.compile(loss='binary_crossentropy', optimizer='adam')"
   ]
  },
  {
   "cell_type": "code",
   "execution_count": 53,
   "metadata": {},
   "outputs": [
    {
     "name": "stdout",
     "output_type": "stream",
     "text": [
      "Epoch 1/100\n",
      "6373/6373 [==============================] - 11s 2ms/step - loss: 0.5545 - val_loss: 0.4966\n",
      "Epoch 2/100\n",
      "6373/6373 [==============================] - 8s 1ms/step - loss: 0.5125 - val_loss: 0.4714\n",
      "Epoch 3/100\n",
      "6373/6373 [==============================] - 8s 1ms/step - loss: 0.4996 - val_loss: 0.4575\n",
      "Epoch 4/100\n",
      "6373/6373 [==============================] - 8s 1ms/step - loss: 0.4926 - val_loss: 0.4507\n",
      "Epoch 5/100\n",
      "6373/6373 [==============================] - 8s 1ms/step - loss: 0.4867 - val_loss: 0.4447\n",
      "Epoch 6/100\n",
      "6373/6373 [==============================] - 8s 1ms/step - loss: 0.4838 - val_loss: 0.4399\n",
      "Epoch 7/100\n",
      "6373/6373 [==============================] - 11s 2ms/step - loss: 0.4831 - val_loss: 0.4419\n",
      "Epoch 8/100\n",
      "6373/6373 [==============================] - 11s 2ms/step - loss: 0.4825 - val_loss: 0.4349\n",
      "Epoch 9/100\n",
      "6373/6373 [==============================] - 10s 2ms/step - loss: 0.4799 - val_loss: 0.4404\n",
      "Epoch 10/100\n",
      "6373/6373 [==============================] - 10s 2ms/step - loss: 0.4799 - val_loss: 0.4354\n",
      "Epoch 11/100\n",
      "6373/6373 [==============================] - 10s 2ms/step - loss: 0.4761 - val_loss: 0.4282\n",
      "Epoch 12/100\n",
      "6373/6373 [==============================] - 10s 2ms/step - loss: 0.4764 - val_loss: 0.4299\n",
      "Epoch 13/100\n",
      "6373/6373 [==============================] - 10s 2ms/step - loss: 0.4744 - val_loss: 0.4251\n",
      "Epoch 14/100\n",
      "6373/6373 [==============================] - 11s 2ms/step - loss: 0.4734 - val_loss: 0.4255\n",
      "Epoch 15/100\n",
      "6373/6373 [==============================] - 11s 2ms/step - loss: 0.4729 - val_loss: 0.4286\n",
      "Epoch 16/100\n",
      "6373/6373 [==============================] - 11s 2ms/step - loss: 0.4727 - val_loss: 0.4279\n",
      "Epoch 17/100\n",
      "6373/6373 [==============================] - 11s 2ms/step - loss: 0.4719 - val_loss: 0.4244\n",
      "Epoch 18/100\n",
      "6373/6373 [==============================] - 12s 2ms/step - loss: 0.4712 - val_loss: 0.4261\n",
      "Epoch 19/100\n",
      "6373/6373 [==============================] - 12s 2ms/step - loss: 0.4715 - val_loss: 0.4258\n",
      "Epoch 20/100\n",
      "6373/6373 [==============================] - 12s 2ms/step - loss: 0.4700 - val_loss: 0.4226\n",
      "Epoch 21/100\n",
      "6373/6373 [==============================] - 11s 2ms/step - loss: 0.4700 - val_loss: 0.4239\n",
      "Epoch 22/100\n",
      "6373/6373 [==============================] - 11s 2ms/step - loss: 0.4688 - val_loss: 0.4246\n",
      "Epoch 23/100\n",
      "6373/6373 [==============================] - 12s 2ms/step - loss: 0.4685 - val_loss: 0.4321\n",
      "Epoch 24/100\n",
      "6373/6373 [==============================] - 12s 2ms/step - loss: 0.4667 - val_loss: 0.4210\n",
      "Epoch 25/100\n",
      "6373/6373 [==============================] - 13s 2ms/step - loss: 0.4664 - val_loss: 0.4248\n",
      "Epoch 26/100\n",
      "6373/6373 [==============================] - 12s 2ms/step - loss: 0.4659 - val_loss: 0.4171\n",
      "Epoch 27/100\n",
      "6373/6373 [==============================] - 12s 2ms/step - loss: 0.4660 - val_loss: 0.4197\n",
      "Epoch 28/100\n",
      "6373/6373 [==============================] - 12s 2ms/step - loss: 0.4663 - val_loss: 0.4187\n",
      "Epoch 29/100\n",
      "6373/6373 [==============================] - 12s 2ms/step - loss: 0.4657 - val_loss: 0.4240\n",
      "Epoch 30/100\n",
      "6373/6373 [==============================] - 12s 2ms/step - loss: 0.4651 - val_loss: 0.4186\n",
      "Epoch 31/100\n",
      "6373/6373 [==============================] - 10s 2ms/step - loss: 0.4661 - val_loss: 0.4175\n",
      "Epoch 32/100\n",
      "6373/6373 [==============================] - 8s 1ms/step - loss: 0.4662 - val_loss: 0.4206\n",
      "Epoch 33/100\n",
      "6373/6373 [==============================] - 8s 1ms/step - loss: 0.4640 - val_loss: 0.4234\n",
      "Epoch 34/100\n",
      "6373/6373 [==============================] - 8s 1ms/step - loss: 0.4648 - val_loss: 0.4168\n",
      "Epoch 35/100\n",
      "6373/6373 [==============================] - 10s 1ms/step - loss: 0.4648 - val_loss: 0.4200\n",
      "Epoch 36/100\n",
      "6373/6373 [==============================] - 9s 1ms/step - loss: 0.4646 - val_loss: 0.4196\n",
      "Epoch 37/100\n",
      "6373/6373 [==============================] - 11s 2ms/step - loss: 0.4640 - val_loss: 0.4176\n",
      "Epoch 38/100\n",
      "6373/6373 [==============================] - 11s 2ms/step - loss: 0.4651 - val_loss: 0.4215\n",
      "Epoch 39/100\n",
      "6373/6373 [==============================] - 11s 2ms/step - loss: 0.4647 - val_loss: 0.4198\n",
      "Epoch 40/100\n",
      "6373/6373 [==============================] - 12s 2ms/step - loss: 0.4640 - val_loss: 0.4237\n",
      "Epoch 41/100\n",
      "6373/6373 [==============================] - 12s 2ms/step - loss: 0.4648 - val_loss: 0.4173\n",
      "Epoch 42/100\n",
      "6373/6373 [==============================] - 11s 2ms/step - loss: 0.4641 - val_loss: 0.4267\n",
      "Epoch 43/100\n",
      "6373/6373 [==============================] - 11s 2ms/step - loss: 0.4650 - val_loss: 0.4179\n",
      "Epoch 44/100\n",
      "6373/6373 [==============================] - 11s 2ms/step - loss: 0.4626 - val_loss: 0.4190\n",
      "Epoch 45/100\n",
      "6373/6373 [==============================] - 11s 2ms/step - loss: 0.4649 - val_loss: 0.4199\n",
      "Epoch 46/100\n",
      "6373/6373 [==============================] - 11s 2ms/step - loss: 0.4631 - val_loss: 0.4205\n",
      "Epoch 47/100\n",
      "6373/6373 [==============================] - 9s 1ms/step - loss: 0.4643 - val_loss: 0.4154\n",
      "Epoch 48/100\n",
      "6373/6373 [==============================] - 8s 1ms/step - loss: 0.4627 - val_loss: 0.4307\n",
      "Epoch 49/100\n",
      "6373/6373 [==============================] - 8s 1ms/step - loss: 0.4639 - val_loss: 0.4175\n",
      "Epoch 50/100\n",
      "6373/6373 [==============================] - 8s 1ms/step - loss: 0.4640 - val_loss: 0.4184\n",
      "Epoch 51/100\n",
      "6373/6373 [==============================] - 10s 2ms/step - loss: 0.4639 - val_loss: 0.4161\n",
      "Epoch 52/100\n",
      "6373/6373 [==============================] - 12s 2ms/step - loss: 0.4635 - val_loss: 0.4176\n",
      "Epoch 53/100\n",
      "6373/6373 [==============================] - 13s 2ms/step - loss: 0.4636 - val_loss: 0.4288\n",
      "Epoch 54/100\n",
      "6373/6373 [==============================] - 11s 2ms/step - loss: 0.4635 - val_loss: 0.4186\n",
      "Epoch 55/100\n",
      "6373/6373 [==============================] - 10s 2ms/step - loss: 0.4626 - val_loss: 0.4175\n",
      "Epoch 56/100\n",
      "6373/6373 [==============================] - 10s 2ms/step - loss: 0.4635 - val_loss: 0.4200\n",
      "Epoch 57/100\n",
      "6373/6373 [==============================] - 13s 2ms/step - loss: 0.4627 - val_loss: 0.4132\n",
      "Epoch 58/100\n",
      "6373/6373 [==============================] - 11s 2ms/step - loss: 0.4630 - val_loss: 0.4212\n",
      "Epoch 59/100\n",
      "6373/6373 [==============================] - 11s 2ms/step - loss: 0.4630 - val_loss: 0.4157\n",
      "Epoch 60/100\n",
      "6373/6373 [==============================] - 13s 2ms/step - loss: 0.4629 - val_loss: 0.4212\n",
      "Epoch 61/100\n",
      "6373/6373 [==============================] - 12s 2ms/step - loss: 0.4622 - val_loss: 0.4184\n",
      "Epoch 62/100\n",
      "6373/6373 [==============================] - 13s 2ms/step - loss: 0.4627 - val_loss: 0.4218\n",
      "Epoch 63/100\n",
      "6373/6373 [==============================] - 11s 2ms/step - loss: 0.4628 - val_loss: 0.4165\n",
      "Epoch 64/100\n",
      "6373/6373 [==============================] - 12s 2ms/step - loss: 0.4620 - val_loss: 0.4215\n",
      "Epoch 65/100\n",
      "6373/6373 [==============================] - 13s 2ms/step - loss: 0.4626 - val_loss: 0.4174\n",
      "Epoch 66/100\n",
      "6373/6373 [==============================] - 13s 2ms/step - loss: 0.4640 - val_loss: 0.4232\n",
      "Epoch 67/100\n",
      "6373/6373 [==============================] - 13s 2ms/step - loss: 0.4629 - val_loss: 0.4168\n",
      "Epoch 68/100\n",
      "6373/6373 [==============================] - 13s 2ms/step - loss: 0.4641 - val_loss: 0.4163\n",
      "Epoch 69/100\n",
      "6373/6373 [==============================] - 11s 2ms/step - loss: 0.4627 - val_loss: 0.4235\n",
      "Epoch 70/100\n",
      "6373/6373 [==============================] - 12s 2ms/step - loss: 0.4625 - val_loss: 0.4176\n",
      "Epoch 71/100\n",
      "6373/6373 [==============================] - 12s 2ms/step - loss: 0.4634 - val_loss: 0.4193\n",
      "Epoch 72/100\n",
      "6373/6373 [==============================] - 12s 2ms/step - loss: 0.4628 - val_loss: 0.4235\n",
      "Epoch 73/100\n",
      "6373/6373 [==============================] - 12s 2ms/step - loss: 0.4628 - val_loss: 0.4197\n",
      "Epoch 74/100\n",
      "6373/6373 [==============================] - 12s 2ms/step - loss: 0.4623 - val_loss: 0.4157\n",
      "Epoch 75/100\n",
      "6373/6373 [==============================] - 12s 2ms/step - loss: 0.4622 - val_loss: 0.4195\n",
      "Epoch 76/100\n",
      "6373/6373 [==============================] - 9s 1ms/step - loss: 0.4627 - val_loss: 0.4194\n",
      "Epoch 77/100\n",
      "6373/6373 [==============================] - 12s 2ms/step - loss: 0.4627 - val_loss: 0.4173\n",
      "Epoch 78/100\n",
      "6373/6373 [==============================] - 12s 2ms/step - loss: 0.4621 - val_loss: 0.4163\n",
      "Epoch 79/100\n",
      "6373/6373 [==============================] - 12s 2ms/step - loss: 0.4631 - val_loss: 0.4212\n",
      "Epoch 80/100\n",
      "6373/6373 [==============================] - 13s 2ms/step - loss: 0.4622 - val_loss: 0.4172\n",
      "Epoch 81/100\n",
      "6373/6373 [==============================] - 13s 2ms/step - loss: 0.4618 - val_loss: 0.4196\n",
      "Epoch 82/100\n",
      "6373/6373 [==============================] - 13s 2ms/step - loss: 0.4632 - val_loss: 0.4153\n",
      "Epoch 82: early stopping\n"
     ]
    },
    {
     "data": {
      "text/plain": [
       "<keras.src.callbacks.History at 0x232e02c2490>"
      ]
     },
     "execution_count": 53,
     "metadata": {},
     "output_type": "execute_result"
    }
   ],
   "source": [
    "model11.fit(x=x_train3, \n",
    "          y=y_train3, \n",
    "          epochs=100,\n",
    "          validation_data=(x_test3, y_test3), verbose=1,\n",
    "          callbacks=[early_stop]\n",
    "          )"
   ]
  },
  {
   "cell_type": "code",
   "execution_count": 54,
   "metadata": {},
   "outputs": [
    {
     "name": "stdout",
     "output_type": "stream",
     "text": [
      "6373/6373 [==============================] - 8s 1ms/step\n",
      "2125/2125 [==============================] - 3s 1ms/step\n",
      "              precision    recall  f1-score   support\n",
      "\n",
      "         0.0       0.84      0.77      0.80    102726\n",
      "         1.0       0.78      0.85      0.81    101187\n",
      "\n",
      "    accuracy                           0.81    203913\n",
      "   macro avg       0.81      0.81      0.81    203913\n",
      "weighted avg       0.81      0.81      0.81    203913\n",
      "\n",
      "              precision    recall  f1-score   support\n",
      "\n",
      "         0.0       0.84      0.77      0.80     33686\n",
      "         1.0       0.79      0.85      0.82     34286\n",
      "\n",
      "    accuracy                           0.81     67972\n",
      "   macro avg       0.81      0.81      0.81     67972\n",
      "weighted avg       0.81      0.81      0.81     67972\n",
      "\n"
     ]
    }
   ],
   "source": [
    "ypred_train7 = model11.predict(x_train3)\n",
    "y_pred_test7 = model11.predict(x_test3)\n",
    "\n",
    "y_pred_test7 = (y_pred_test7 > 0.5)\n",
    "ypred_train7 = (ypred_train7 > 0.5)\n",
    "\n",
    "print(classification_report(y_train3,ypred_train7))\n",
    "print(classification_report(y_test3,y_pred_test7))"
   ]
  },
  {
   "cell_type": "code",
   "execution_count": 55,
   "metadata": {},
   "outputs": [
    {
     "name": "stdout",
     "output_type": "stream",
     "text": [
      "2125/2125 [==============================] - 2s 1ms/step\n"
     ]
    },
    {
     "data": {
      "image/png": "[encoded data removed]",
      "text/plain": [
       "<Figure size 640x480 with 1 Axes>"
      ]
     },
     "metadata": {},
     "output_type": "display_data"
    }
   ],
   "source": [
    "\n",
    "y_proba_test = model11.predict(x_test3).flatten()\n",
    "\n",
    "fpr, tpr, thresholds = roc_curve(y_test3, y_proba_test)\n",
    "\n",
    "plt.plot(fpr, tpr, label='ROC Curve')\n",
    "plt.xlabel('False Positive Rate')\n",
    "plt.ylabel('True Positive Rate')\n",
    "plt.title('ROC Curve with AUC = {:.2f}'.format(roc_auc_score(y_test3, y_proba_test)))\n",
    "plt.legend(loc='lower right')\n",
    "plt.grid(True)\n",
    "plt.show()"
   ]
  },
  {
   "cell_type": "markdown",
   "metadata": {},
   "source": [
    "## SVC"
   ]
  },
  {
   "cell_type": "code",
   "execution_count": 56,
   "metadata": {},
   "outputs": [],
   "source": [
    "model3 = SVC(probability=True)"
   ]
  },
  {
   "cell_type": "code",
   "execution_count": 57,
   "metadata": {},
   "outputs": [
    {
     "data": {
      "text/html": [
       "<style>#sk-container-id-4 {color: black;}#sk-container-id-4 pre{padding: 0;}#sk-container-id-4 div.sk-toggleable {background-color: white;}#sk-container-id-4 label.sk-toggleable__label {cursor: pointer;display: block;width: 100%;margin-bottom: 0;padding: 0.3em;box-sizing: border-box;text-align: center;}#sk-container-id-4 label.sk-toggleable__label-arrow:before {content: \"▸\";float: left;margin-right: 0.25em;color: #696969;}#sk-container-id-4 label.sk-toggleable__label-arrow:hover:before {color: black;}#sk-container-id-4 div.sk-estimator:hover label.sk-toggleable__label-arrow:before {color: black;}#sk-container-id-4 div.sk-toggleable__content {max-height: 0;max-width: 0;overflow: hidden;text-align: left;background-color: #f0f8ff;}#sk-container-id-4 div.sk-toggleable__content pre {margin: 0.2em;color: black;border-radius: 0.25em;background-color: #f0f8ff;}#sk-container-id-4 input.sk-toggleable__control:checked~div.sk-toggleable__content {max-height: 200px;max-width: 100%;overflow: auto;}#sk-container-id-4 input.sk-toggleable__control:checked~label.sk-toggleable__label-arrow:before {content: \"▾\";}#sk-container-id-4 div.sk-estimator input.sk-toggleable__control:checked~label.sk-toggleable__label {background-color: #d4ebff;}#sk-container-id-4 div.sk-label input.sk-toggleable__control:checked~label.sk-toggleable__label {background-color: #d4ebff;}#sk-container-id-4 input.sk-hidden--visually {border: 0;clip: rect(1px 1px 1px 1px);clip: rect(1px, 1px, 1px, 1px);height: 1px;margin: -1px;overflow: hidden;padding: 0;position: absolute;width: 1px;}#sk-container-id-4 div.sk-estimator {font-family: monospace;background-color: #f0f8ff;border: 1px dotted black;border-radius: 0.25em;box-sizing: border-box;margin-bottom: 0.5em;}#sk-container-id-4 div.sk-estimator:hover {background-color: #d4ebff;}#sk-container-id-4 div.sk-parallel-item::after {content: \"\";width: 100%;border-bottom: 1px solid gray;flex-grow: 1;}#sk-container-id-4 div.sk-label:hover label.sk-toggleable__label {background-color: #d4ebff;}#sk-container-id-4 div.sk-serial::before {content: \"\";position: absolute;border-left: 1px solid gray;box-sizing: border-box;top: 0;bottom: 0;left: 50%;z-index: 0;}#sk-container-id-4 div.sk-serial {display: flex;flex-direction: column;align-items: center;background-color: white;padding-right: 0.2em;padding-left: 0.2em;position: relative;}#sk-container-id-4 div.sk-item {position: relative;z-index: 1;}#sk-container-id-4 div.sk-parallel {display: flex;align-items: stretch;justify-content: center;background-color: white;position: relative;}#sk-container-id-4 div.sk-item::before, #sk-container-id-4 div.sk-parallel-item::before {content: \"\";position: absolute;border-left: 1px solid gray;box-sizing: border-box;top: 0;bottom: 0;left: 50%;z-index: -1;}#sk-container-id-4 div.sk-parallel-item {display: flex;flex-direction: column;z-index: 1;position: relative;background-color: white;}#sk-container-id-4 div.sk-parallel-item:first-child::after {align-self: flex-end;width: 50%;}#sk-container-id-4 div.sk-parallel-item:last-child::after {align-self: flex-start;width: 50%;}#sk-container-id-4 div.sk-parallel-item:only-child::after {width: 0;}#sk-container-id-4 div.sk-dashed-wrapped {border: 1px dashed gray;margin: 0 0.4em 0.5em 0.4em;box-sizing: border-box;padding-bottom: 0.4em;background-color: white;}#sk-container-id-4 div.sk-label label {font-family: monospace;font-weight: bold;display: inline-block;line-height: 1.2em;}#sk-container-id-4 div.sk-label-container {text-align: center;}#sk-container-id-4 div.sk-container {/* jupyter's `normalize.less` sets `[hidden] { display: none; }` but bootstrap.min.css set `[hidden] { display: none !important; }` so we also need the `!important` here to be able to override the default hidden behavior on the sphinx rendered scikit-learn.org. See: https://github.com/scikit-learn/scikit-learn/issues/21755 */display: inline-block !important;position: relative;}#sk-container-id-4 div.sk-text-repr-fallback {display: none;}</style><div id=\"sk-container-id-4\" class=\"sk-top-container\"><div class=\"sk-text-repr-fallback\"><pre>SVC(probability=True)</pre><b>In a Jupyter environment, please rerun this cell to show the HTML representation or trust the notebook. <br />On GitHub, the HTML representation is unable to render, please try loading this page with nbviewer.org.</b></div><div class=\"sk-container\" hidden><div class=\"sk-item\"><div class=\"sk-estimator sk-toggleable\"><input class=\"sk-toggleable__control sk-hidden--visually\" id=\"sk-estimator-id-6\" type=\"checkbox\" checked><label for=\"sk-estimator-id-6\" class=\"sk-toggleable__label sk-toggleable__label-arrow\">SVC</label><div class=\"sk-toggleable__content\"><pre>SVC(probability=True)</pre></div></div></div></div></div>"
      ],
      "text/plain": [
       "SVC(probability=True)"
      ]
     },
     "execution_count": 57,
     "metadata": {},
     "output_type": "execute_result"
    }
   ],
   "source": [
    "model3.fit(x_train3,y_train3)"
   ]
  },
  {
   "cell_type": "code",
   "execution_count": 58,
   "metadata": {},
   "outputs": [
    {
     "name": "stdout",
     "output_type": "stream",
     "text": [
      "              precision    recall  f1-score   support\n",
      "\n",
      "         0.0       0.82      0.91      0.86    102726\n",
      "         1.0       0.89      0.79      0.84    101187\n",
      "\n",
      "    accuracy                           0.85    203913\n",
      "   macro avg       0.86      0.85      0.85    203913\n",
      "weighted avg       0.85      0.85      0.85    203913\n",
      "\n",
      "              precision    recall  f1-score   support\n",
      "\n",
      "         0.0       0.81      0.91      0.86     33686\n",
      "         1.0       0.90      0.79      0.84     34286\n",
      "\n",
      "    accuracy                           0.85     67972\n",
      "   macro avg       0.85      0.85      0.85     67972\n",
      "weighted avg       0.85      0.85      0.85     67972\n",
      "\n"
     ]
    }
   ],
   "source": [
    "ypred_train9 = model3.predict(x_train3)\n",
    "y_pred_test9 = model3.predict(x_test3)\n",
    "\n",
    "\n",
    "print(classification_report(y_train3,ypred_train9))\n",
    "print(classification_report(y_test3,y_pred_test9))"
   ]
  },
  {
   "cell_type": "code",
   "execution_count": 59,
   "metadata": {},
   "outputs": [],
   "source": [
    "grid = GridSearchCV(SVC(),param_grid,refit=True,verbose=3)"
   ]
  },
  {
   "cell_type": "code",
   "execution_count": 60,
   "metadata": {},
   "outputs": [
    {
     "name": "stdout",
     "output_type": "stream",
     "text": [
      "Fitting 5 folds for each of 108 candidates, totalling 540 fits\n"
     ]
    },
    {
     "ename": "ValueError",
     "evalue": "Invalid parameter 'learning_rate' for estimator SVC(). Valid parameters are: ['C', 'break_ties', 'cache_size', 'class_weight', 'coef0', 'decision_function_shape', 'degree', 'gamma', 'kernel', 'max_iter', 'probability', 'random_state', 'shrinking', 'tol', 'verbose'].",
     "output_type": "error",
     "traceback": [
      "\u001b[1;31m---------------------------------------------------------------------------\u001b[0m",
      "\u001b[1;31mValueError\u001b[0m                                Traceback (most recent call last)",
      "Cell \u001b[1;32mIn[60], line 1\u001b[0m\n\u001b[1;32m----> 1\u001b[0m grid\u001b[38;5;241m.\u001b[39mfit(x_train3,y_train3)\n",
      "File \u001b[1;32m~\\AppData\\Roaming\\Python\\Python311\\site-packages\\sklearn\\base.py:1152\u001b[0m, in \u001b[0;36m_fit_context.<locals>.decorator.<locals>.wrapper\u001b[1;34m(estimator, *args, **kwargs)\u001b[0m\n\u001b[0;32m   1145\u001b[0m     estimator\u001b[38;5;241m.\u001b[39m_validate_params()\n\u001b[0;32m   1147\u001b[0m \u001b[38;5;28;01mwith\u001b[39;00m config_context(\n\u001b[0;32m   1148\u001b[0m     skip_parameter_validation\u001b[38;5;241m=\u001b[39m(\n\u001b[0;32m   1149\u001b[0m         prefer_skip_nested_validation \u001b[38;5;129;01mor\u001b[39;00m global_skip_validation\n\u001b[0;32m   1150\u001b[0m     )\n\u001b[0;32m   1151\u001b[0m ):\n\u001b[1;32m-> 1152\u001b[0m     \u001b[38;5;28;01mreturn\u001b[39;00m fit_method(estimator, \u001b[38;5;241m*\u001b[39margs, \u001b[38;5;241m*\u001b[39m\u001b[38;5;241m*\u001b[39mkwargs)\n",
      "File \u001b[1;32m~\\AppData\\Roaming\\Python\\Python311\\site-packages\\sklearn\\model_selection\\_search.py:898\u001b[0m, in \u001b[0;36mBaseSearchCV.fit\u001b[1;34m(self, X, y, groups, **fit_params)\u001b[0m\n\u001b[0;32m    892\u001b[0m     results \u001b[38;5;241m=\u001b[39m \u001b[38;5;28mself\u001b[39m\u001b[38;5;241m.\u001b[39m_format_results(\n\u001b[0;32m    893\u001b[0m         all_candidate_params, n_splits, all_out, all_more_results\n\u001b[0;32m    894\u001b[0m     )\n\u001b[0;32m    896\u001b[0m     \u001b[38;5;28;01mreturn\u001b[39;00m results\n\u001b[1;32m--> 898\u001b[0m \u001b[38;5;28mself\u001b[39m\u001b[38;5;241m.\u001b[39m_run_search(evaluate_candidates)\n\u001b[0;32m    900\u001b[0m \u001b[38;5;66;03m# multimetric is determined here because in the case of a callable\u001b[39;00m\n\u001b[0;32m    901\u001b[0m \u001b[38;5;66;03m# self.scoring the return type is only known after calling\u001b[39;00m\n\u001b[0;32m    902\u001b[0m first_test_score \u001b[38;5;241m=\u001b[39m all_out[\u001b[38;5;241m0\u001b[39m][\u001b[38;5;124m\"\u001b[39m\u001b[38;5;124mtest_scores\u001b[39m\u001b[38;5;124m\"\u001b[39m]\n",
      "File \u001b[1;32m~\\AppData\\Roaming\\Python\\Python311\\site-packages\\sklearn\\model_selection\\_search.py:1422\u001b[0m, in \u001b[0;36mGridSearchCV._run_search\u001b[1;34m(self, evaluate_candidates)\u001b[0m\n\u001b[0;32m   1420\u001b[0m \u001b[38;5;28;01mdef\u001b[39;00m \u001b[38;5;21m_run_search\u001b[39m(\u001b[38;5;28mself\u001b[39m, evaluate_candidates):\n\u001b[0;32m   1421\u001b[0m \u001b[38;5;250m    \u001b[39m\u001b[38;5;124;03m\"\"\"Search all candidates in param_grid\"\"\"\u001b[39;00m\n\u001b[1;32m-> 1422\u001b[0m     evaluate_candidates(ParameterGrid(\u001b[38;5;28mself\u001b[39m\u001b[38;5;241m.\u001b[39mparam_grid))\n",
      "File \u001b[1;32m~\\AppData\\Roaming\\Python\\Python311\\site-packages\\sklearn\\model_selection\\_search.py:845\u001b[0m, in \u001b[0;36mBaseSearchCV.fit.<locals>.evaluate_candidates\u001b[1;34m(candidate_params, cv, more_results)\u001b[0m\n\u001b[0;32m    837\u001b[0m \u001b[38;5;28;01mif\u001b[39;00m \u001b[38;5;28mself\u001b[39m\u001b[38;5;241m.\u001b[39mverbose \u001b[38;5;241m>\u001b[39m \u001b[38;5;241m0\u001b[39m:\n\u001b[0;32m    838\u001b[0m     \u001b[38;5;28mprint\u001b[39m(\n\u001b[0;32m    839\u001b[0m         \u001b[38;5;124m\"\u001b[39m\u001b[38;5;124mFitting \u001b[39m\u001b[38;5;132;01m{0}\u001b[39;00m\u001b[38;5;124m folds for each of \u001b[39m\u001b[38;5;132;01m{1}\u001b[39;00m\u001b[38;5;124m candidates,\u001b[39m\u001b[38;5;124m\"\u001b[39m\n\u001b[0;32m    840\u001b[0m         \u001b[38;5;124m\"\u001b[39m\u001b[38;5;124m totalling \u001b[39m\u001b[38;5;132;01m{2}\u001b[39;00m\u001b[38;5;124m fits\u001b[39m\u001b[38;5;124m\"\u001b[39m\u001b[38;5;241m.\u001b[39mformat(\n\u001b[0;32m    841\u001b[0m             n_splits, n_candidates, n_candidates \u001b[38;5;241m*\u001b[39m n_splits\n\u001b[0;32m    842\u001b[0m         )\n\u001b[0;32m    843\u001b[0m     )\n\u001b[1;32m--> 845\u001b[0m out \u001b[38;5;241m=\u001b[39m parallel(\n\u001b[0;32m    846\u001b[0m     delayed(_fit_and_score)(\n\u001b[0;32m    847\u001b[0m         clone(base_estimator),\n\u001b[0;32m    848\u001b[0m         X,\n\u001b[0;32m    849\u001b[0m         y,\n\u001b[0;32m    850\u001b[0m         train\u001b[38;5;241m=\u001b[39mtrain,\n\u001b[0;32m    851\u001b[0m         test\u001b[38;5;241m=\u001b[39mtest,\n\u001b[0;32m    852\u001b[0m         parameters\u001b[38;5;241m=\u001b[39mparameters,\n\u001b[0;32m    853\u001b[0m         split_progress\u001b[38;5;241m=\u001b[39m(split_idx, n_splits),\n\u001b[0;32m    854\u001b[0m         candidate_progress\u001b[38;5;241m=\u001b[39m(cand_idx, n_candidates),\n\u001b[0;32m    855\u001b[0m         \u001b[38;5;241m*\u001b[39m\u001b[38;5;241m*\u001b[39mfit_and_score_kwargs,\n\u001b[0;32m    856\u001b[0m     )\n\u001b[0;32m    857\u001b[0m     \u001b[38;5;28;01mfor\u001b[39;00m (cand_idx, parameters), (split_idx, (train, test)) \u001b[38;5;129;01min\u001b[39;00m product(\n\u001b[0;32m    858\u001b[0m         \u001b[38;5;28menumerate\u001b[39m(candidate_params), \u001b[38;5;28menumerate\u001b[39m(cv\u001b[38;5;241m.\u001b[39msplit(X, y, groups))\n\u001b[0;32m    859\u001b[0m     )\n\u001b[0;32m    860\u001b[0m )\n\u001b[0;32m    862\u001b[0m \u001b[38;5;28;01mif\u001b[39;00m \u001b[38;5;28mlen\u001b[39m(out) \u001b[38;5;241m<\u001b[39m \u001b[38;5;241m1\u001b[39m:\n\u001b[0;32m    863\u001b[0m     \u001b[38;5;28;01mraise\u001b[39;00m \u001b[38;5;167;01mValueError\u001b[39;00m(\n\u001b[0;32m    864\u001b[0m         \u001b[38;5;124m\"\u001b[39m\u001b[38;5;124mNo fits were performed. \u001b[39m\u001b[38;5;124m\"\u001b[39m\n\u001b[0;32m    865\u001b[0m         \u001b[38;5;124m\"\u001b[39m\u001b[38;5;124mWas the CV iterator empty? \u001b[39m\u001b[38;5;124m\"\u001b[39m\n\u001b[0;32m    866\u001b[0m         \u001b[38;5;124m\"\u001b[39m\u001b[38;5;124mWere there no candidates?\u001b[39m\u001b[38;5;124m\"\u001b[39m\n\u001b[0;32m    867\u001b[0m     )\n",
      "File \u001b[1;32m~\\AppData\\Roaming\\Python\\Python311\\site-packages\\sklearn\\utils\\parallel.py:65\u001b[0m, in \u001b[0;36mParallel.__call__\u001b[1;34m(self, iterable)\u001b[0m\n\u001b[0;32m     60\u001b[0m config \u001b[38;5;241m=\u001b[39m get_config()\n\u001b[0;32m     61\u001b[0m iterable_with_config \u001b[38;5;241m=\u001b[39m (\n\u001b[0;32m     62\u001b[0m     (_with_config(delayed_func, config), args, kwargs)\n\u001b[0;32m     63\u001b[0m     \u001b[38;5;28;01mfor\u001b[39;00m delayed_func, args, kwargs \u001b[38;5;129;01min\u001b[39;00m iterable\n\u001b[0;32m     64\u001b[0m )\n\u001b[1;32m---> 65\u001b[0m \u001b[38;5;28;01mreturn\u001b[39;00m \u001b[38;5;28msuper\u001b[39m()\u001b[38;5;241m.\u001b[39m\u001b[38;5;21m__call__\u001b[39m(iterable_with_config)\n",
      "File \u001b[1;32m~\\AppData\\Roaming\\Python\\Python311\\site-packages\\joblib\\parallel.py:1863\u001b[0m, in \u001b[0;36mParallel.__call__\u001b[1;34m(self, iterable)\u001b[0m\n\u001b[0;32m   1861\u001b[0m     output \u001b[38;5;241m=\u001b[39m \u001b[38;5;28mself\u001b[39m\u001b[38;5;241m.\u001b[39m_get_sequential_output(iterable)\n\u001b[0;32m   1862\u001b[0m     \u001b[38;5;28mnext\u001b[39m(output)\n\u001b[1;32m-> 1863\u001b[0m     \u001b[38;5;28;01mreturn\u001b[39;00m output \u001b[38;5;28;01mif\u001b[39;00m \u001b[38;5;28mself\u001b[39m\u001b[38;5;241m.\u001b[39mreturn_generator \u001b[38;5;28;01melse\u001b[39;00m \u001b[38;5;28mlist\u001b[39m(output)\n\u001b[0;32m   1865\u001b[0m \u001b[38;5;66;03m# Let's create an ID that uniquely identifies the current call. If the\u001b[39;00m\n\u001b[0;32m   1866\u001b[0m \u001b[38;5;66;03m# call is interrupted early and that the same instance is immediately\u001b[39;00m\n\u001b[0;32m   1867\u001b[0m \u001b[38;5;66;03m# re-used, this id will be used to prevent workers that were\u001b[39;00m\n\u001b[0;32m   1868\u001b[0m \u001b[38;5;66;03m# concurrently finalizing a task from the previous call to run the\u001b[39;00m\n\u001b[0;32m   1869\u001b[0m \u001b[38;5;66;03m# callback.\u001b[39;00m\n\u001b[0;32m   1870\u001b[0m \u001b[38;5;28;01mwith\u001b[39;00m \u001b[38;5;28mself\u001b[39m\u001b[38;5;241m.\u001b[39m_lock:\n",
      "File \u001b[1;32m~\\AppData\\Roaming\\Python\\Python311\\site-packages\\joblib\\parallel.py:1792\u001b[0m, in \u001b[0;36mParallel._get_sequential_output\u001b[1;34m(self, iterable)\u001b[0m\n\u001b[0;32m   1790\u001b[0m \u001b[38;5;28mself\u001b[39m\u001b[38;5;241m.\u001b[39mn_dispatched_batches \u001b[38;5;241m+\u001b[39m\u001b[38;5;241m=\u001b[39m \u001b[38;5;241m1\u001b[39m\n\u001b[0;32m   1791\u001b[0m \u001b[38;5;28mself\u001b[39m\u001b[38;5;241m.\u001b[39mn_dispatched_tasks \u001b[38;5;241m+\u001b[39m\u001b[38;5;241m=\u001b[39m \u001b[38;5;241m1\u001b[39m\n\u001b[1;32m-> 1792\u001b[0m res \u001b[38;5;241m=\u001b[39m func(\u001b[38;5;241m*\u001b[39margs, \u001b[38;5;241m*\u001b[39m\u001b[38;5;241m*\u001b[39mkwargs)\n\u001b[0;32m   1793\u001b[0m \u001b[38;5;28mself\u001b[39m\u001b[38;5;241m.\u001b[39mn_completed_tasks \u001b[38;5;241m+\u001b[39m\u001b[38;5;241m=\u001b[39m \u001b[38;5;241m1\u001b[39m\n\u001b[0;32m   1794\u001b[0m \u001b[38;5;28mself\u001b[39m\u001b[38;5;241m.\u001b[39mprint_progress()\n",
      "File \u001b[1;32m~\\AppData\\Roaming\\Python\\Python311\\site-packages\\sklearn\\utils\\parallel.py:127\u001b[0m, in \u001b[0;36m_FuncWrapper.__call__\u001b[1;34m(self, *args, **kwargs)\u001b[0m\n\u001b[0;32m    125\u001b[0m     config \u001b[38;5;241m=\u001b[39m {}\n\u001b[0;32m    126\u001b[0m \u001b[38;5;28;01mwith\u001b[39;00m config_context(\u001b[38;5;241m*\u001b[39m\u001b[38;5;241m*\u001b[39mconfig):\n\u001b[1;32m--> 127\u001b[0m     \u001b[38;5;28;01mreturn\u001b[39;00m \u001b[38;5;28mself\u001b[39m\u001b[38;5;241m.\u001b[39mfunction(\u001b[38;5;241m*\u001b[39margs, \u001b[38;5;241m*\u001b[39m\u001b[38;5;241m*\u001b[39mkwargs)\n",
      "File \u001b[1;32m~\\AppData\\Roaming\\Python\\Python311\\site-packages\\sklearn\\model_selection\\_validation.py:717\u001b[0m, in \u001b[0;36m_fit_and_score\u001b[1;34m(estimator, X, y, scorer, train, test, verbose, parameters, fit_params, return_train_score, return_parameters, return_n_test_samples, return_times, return_estimator, split_progress, candidate_progress, error_score)\u001b[0m\n\u001b[0;32m    710\u001b[0m fit_params \u001b[38;5;241m=\u001b[39m _check_fit_params(X, fit_params, train)\n\u001b[0;32m    712\u001b[0m \u001b[38;5;28;01mif\u001b[39;00m parameters \u001b[38;5;129;01mis\u001b[39;00m \u001b[38;5;129;01mnot\u001b[39;00m \u001b[38;5;28;01mNone\u001b[39;00m:\n\u001b[0;32m    713\u001b[0m     \u001b[38;5;66;03m# here we clone the parameters, since sometimes the parameters\u001b[39;00m\n\u001b[0;32m    714\u001b[0m     \u001b[38;5;66;03m# themselves might be estimators, e.g. when we search over different\u001b[39;00m\n\u001b[0;32m    715\u001b[0m     \u001b[38;5;66;03m# estimators in a pipeline.\u001b[39;00m\n\u001b[0;32m    716\u001b[0m     \u001b[38;5;66;03m# ref: https://github.com/scikit-learn/scikit-learn/pull/26786\u001b[39;00m\n\u001b[1;32m--> 717\u001b[0m     estimator \u001b[38;5;241m=\u001b[39m estimator\u001b[38;5;241m.\u001b[39mset_params(\u001b[38;5;241m*\u001b[39m\u001b[38;5;241m*\u001b[39mclone(parameters, safe\u001b[38;5;241m=\u001b[39m\u001b[38;5;28;01mFalse\u001b[39;00m))\n\u001b[0;32m    719\u001b[0m start_time \u001b[38;5;241m=\u001b[39m time\u001b[38;5;241m.\u001b[39mtime()\n\u001b[0;32m    721\u001b[0m X_train, y_train \u001b[38;5;241m=\u001b[39m _safe_split(estimator, X, y, train)\n",
      "File \u001b[1;32m~\\AppData\\Roaming\\Python\\Python311\\site-packages\\sklearn\\base.py:230\u001b[0m, in \u001b[0;36mBaseEstimator.set_params\u001b[1;34m(self, **params)\u001b[0m\n\u001b[0;32m    228\u001b[0m \u001b[38;5;28;01mif\u001b[39;00m key \u001b[38;5;129;01mnot\u001b[39;00m \u001b[38;5;129;01min\u001b[39;00m valid_params:\n\u001b[0;32m    229\u001b[0m     local_valid_params \u001b[38;5;241m=\u001b[39m \u001b[38;5;28mself\u001b[39m\u001b[38;5;241m.\u001b[39m_get_param_names()\n\u001b[1;32m--> 230\u001b[0m     \u001b[38;5;28;01mraise\u001b[39;00m \u001b[38;5;167;01mValueError\u001b[39;00m(\n\u001b[0;32m    231\u001b[0m         \u001b[38;5;124mf\u001b[39m\u001b[38;5;124m\"\u001b[39m\u001b[38;5;124mInvalid parameter \u001b[39m\u001b[38;5;132;01m{\u001b[39;00mkey\u001b[38;5;132;01m!r}\u001b[39;00m\u001b[38;5;124m for estimator \u001b[39m\u001b[38;5;132;01m{\u001b[39;00m\u001b[38;5;28mself\u001b[39m\u001b[38;5;132;01m}\u001b[39;00m\u001b[38;5;124m. \u001b[39m\u001b[38;5;124m\"\u001b[39m\n\u001b[0;32m    232\u001b[0m         \u001b[38;5;124mf\u001b[39m\u001b[38;5;124m\"\u001b[39m\u001b[38;5;124mValid parameters are: \u001b[39m\u001b[38;5;132;01m{\u001b[39;00mlocal_valid_params\u001b[38;5;132;01m!r}\u001b[39;00m\u001b[38;5;124m.\u001b[39m\u001b[38;5;124m\"\u001b[39m\n\u001b[0;32m    233\u001b[0m     )\n\u001b[0;32m    235\u001b[0m \u001b[38;5;28;01mif\u001b[39;00m delim:\n\u001b[0;32m    236\u001b[0m     nested_params[key][sub_key] \u001b[38;5;241m=\u001b[39m value\n",
      "\u001b[1;31mValueError\u001b[0m: Invalid parameter 'learning_rate' for estimator SVC(). Valid parameters are: ['C', 'break_ties', 'cache_size', 'class_weight', 'coef0', 'decision_function_shape', 'degree', 'gamma', 'kernel', 'max_iter', 'probability', 'random_state', 'shrinking', 'tol', 'verbose']."
     ]
    }
   ],
   "source": [
    "grid.fit(x_train3,y_train3)"
   ]
  },
  {
   "cell_type": "code",
   "execution_count": null,
   "metadata": {},
   "outputs": [],
   "source": [
    "grid.best_params_"
   ]
  },
  {
   "cell_type": "code",
   "execution_count": null,
   "metadata": {},
   "outputs": [],
   "source": [
    "grid.best_estimator_"
   ]
  },
  {
   "cell_type": "code",
   "execution_count": null,
   "metadata": {},
   "outputs": [],
   "source": [
    "ypred_train = grid.predict(x_train3)\n",
    "y_pred_test = grid.predict(x_test3)\n",
    "\n",
    "\n",
    "print(classification_report(y_train3,ypred_train))\n",
    "print(classification_report(y_test3,y_pred_test))"
   ]
  },
  {
   "cell_type": "code",
   "execution_count": null,
   "metadata": {},
   "outputs": [],
   "source": [
    "\n",
    "y_proba_test = grid.predict_proba(x_test3)[:, 1]\n",
    "\n",
    "fpr, tpr, thresholds = roc_curve(y_test3, y_proba_test)\n",
    "\n",
    "plt.plot(fpr, tpr, label='ROC Curve')\n",
    "plt.xlabel('False Positive Rate')\n",
    "plt.ylabel('True Positive Rate')\n",
    "plt.title('ROC Curve with AUC = {:.2f}'.format(roc_auc_score(y_test3, y_proba_test)))\n",
    "plt.legend(loc='lower right')\n",
    "plt.grid(True)\n",
    "plt.show()"
   ]
  },
  {
   "cell_type": "code",
   "execution_count": 61,
   "metadata": {},
   "outputs": [
    {
     "name": "stdout",
     "output_type": "stream",
     "text": [
      "Training Results\n",
      "\n",
      "              precision    recall  f1-score   support\n",
      "\n",
      "         0.0       0.82      0.86      0.84    102726\n",
      "         1.0       0.85      0.81      0.83    101187\n",
      "\n",
      "    accuracy                           0.83    203913\n",
      "   macro avg       0.83      0.83      0.83    203913\n",
      "weighted avg       0.83      0.83      0.83    203913\n",
      "\n",
      "Testing Results\n",
      "\n",
      "              precision    recall  f1-score   support\n",
      "\n",
      "         0.0       0.81      0.86      0.83     33686\n",
      "         1.0       0.85      0.80      0.83     34286\n",
      "\n",
      "    accuracy                           0.83     67972\n",
      "   macro avg       0.83      0.83      0.83     67972\n",
      "weighted avg       0.83      0.83      0.83     67972\n",
      "\n"
     ]
    },
    {
     "data": {
      "image/png": "[encoded data removed]",
      "text/plain": [
       "<Figure size 640x480 with 1 Axes>"
      ]
     },
     "metadata": {},
     "output_type": "display_data"
    }
   ],
   "source": [
    "model3 = SVC(C=0.1, gamma=1, kernel='rbf', probability=True)\n",
    "model3.fit(x_train3, y_train3)\n",
    "\n",
    "ypred_train14 = model3.predict(x_train3)\n",
    "y_pred_test14 = model3.predict(x_test3)\n",
    "\n",
    "print(\"Training Results\\n\")\n",
    "print(classification_report(y_train3, ypred_train14))\n",
    "print(\"Testing Results\\n\")\n",
    "print(classification_report(y_test3, y_pred_test14))\n",
    "\n",
    "y_proba_test = model3.predict_proba(x_test3)[:, 1]\n",
    "fpr, tpr, thresholds = roc_curve(y_test3, y_proba_test)\n",
    "plt.plot(fpr, tpr, label='ROC Curve')\n",
    "plt.xlabel('False Positive Rate')\n",
    "plt.ylabel('True Positive Rate')\n",
    "plt.title('ROC Curve with AUC = {:.2f}'.format(roc_auc_score(y_test3, y_proba_test)))\n",
    "plt.legend(loc='lower right')\n",
    "plt.grid(True)\n",
    "plt.show()"
   ]
  }
 ],
 "metadata": {
  "kernelspec": {
   "display_name": "Python 3",
   "language": "python",
   "name": "python3"
  },
  "language_info": {
   "codemirror_mode": {
    "name": "ipython",
    "version": 3
   },
   "file_extension": ".py",
   "mimetype": "text/x-python",
   "name": "python",
   "nbconvert_exporter": "python",
   "pygments_lexer": "ipython3",
   "version": "0.0.0"
  }
 },
 "nbformat": 4,
 "nbformat_minor": 2
}
