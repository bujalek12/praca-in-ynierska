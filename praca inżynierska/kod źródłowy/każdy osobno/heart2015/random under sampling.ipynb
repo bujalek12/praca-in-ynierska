{
 "cells": [
  {
   "cell_type": "code",
   "execution_count": 1,
   "metadata": {},
   "outputs": [
    {
     "name": "stdout",
     "output_type": "stream",
     "text": [
      "WARNING:tensorflow:From C:\\Users\\DELL\\AppData\\Roaming\\Python\\Python311\\site-packages\\keras\\src\\losses.py:2976: The name tf.losses.sparse_softmax_cross_entropy is deprecated. Please use tf.compat.v1.losses.sparse_softmax_cross_entropy instead.\n",
      "\n"
     ]
    }
   ],
   "source": [
    "import pandas as pd\n",
    "import numpy as np\n",
    "import matplotlib.pyplot as plt\n",
    "import plotly.express as px\n",
    "from sklearn.preprocessing import LabelEncoder\n",
    "from sklearn.preprocessing import RobustScaler , MinMaxScaler, StandardScaler\n",
    "import seaborn as sns\n",
    "from sklearn.metrics import roc_curve\n",
    "from sklearn.metrics import roc_auc_score\n",
    "import tensorflow as tf\n",
    "from keras.preprocessing.image import ImageDataGenerator\n",
    "from tensorflow.keras.layers import Dropout\n",
    "from tensorflow.keras.models import Sequential\n",
    "from tensorflow.keras.layers import Dense, Activation\n",
    "from tensorflow.keras.callbacks import EarlyStopping\n",
    "from tensorflow.keras.layers import Input,Flatten,Conv1D,MaxPooling1D\n",
    "from sklearn.metrics import classification_report\n",
    "import warnings\n",
    "warnings.filterwarnings('ignore')\n",
    "import missingno as msno\n",
    "from sklearn.model_selection import train_test_split\n",
    "from sklearn.metrics import accuracy_score\n",
    "from sklearn.metrics import mean_absolute_error , mean_absolute_percentage_error , mean_squared_error\n",
    "from sklearn.metrics import r2_score\n",
    "from sklearn.metrics import confusion_matrix\n",
    "from sklearn.model_selection import cross_val_score\n",
    "from sklearn.metrics import RocCurveDisplay\n",
    "from sklearn.model_selection import RepeatedStratifiedKFold\n",
    "from sklearn.metrics import accuracy_score, precision_score, recall_score, f1_score\n",
    "from sklearn.tree import DecisionTreeClassifier\n",
    "from sklearn.ensemble import RandomForestClassifier\n",
    "from sklearn.naive_bayes import GaussianNB\n",
    "from xgboost import XGBClassifier\n",
    "from sklearn.linear_model import LogisticRegression\n",
    "from sklearn.svm import SVC\n",
    "from sklearn.decomposition import PCA\n",
    "from sklearn.ensemble import GradientBoostingClassifier\n",
    "from sklearn.neighbors import KNeighborsClassifier\n",
    "from keras.layers import LSTM\n",
    "from imblearn.under_sampling import RandomUnderSampler\n",
    "from sklearn.preprocessing import MinMaxScaler\n",
    "from sklearn.model_selection import GridSearchCV, cross_val_score\n"
   ]
  },
  {
   "cell_type": "markdown",
   "metadata": {},
   "source": [
    "## Random Under-Sampling With Evaluation"
   ]
  },
  {
   "cell_type": "code",
   "execution_count": 2,
   "metadata": {},
   "outputs": [
    {
     "data": {
      "text/html": [
       "<div>\n",
       "<style scoped>\n",
       "    .dataframe tbody tr th:only-of-type {\n",
       "        vertical-align: middle;\n",
       "    }\n",
       "\n",
       "    .dataframe tbody tr th {\n",
       "        vertical-align: top;\n",
       "    }\n",
       "\n",
       "    .dataframe thead th {\n",
       "        text-align: right;\n",
       "    }\n",
       "</style>\n",
       "<table border=\"1\" class=\"dataframe\">\n",
       "  <thead>\n",
       "    <tr style=\"text-align: right;\">\n",
       "      <th></th>\n",
       "      <th>HeartDiseaseorAttack</th>\n",
       "      <th>HighBP</th>\n",
       "      <th>HighChol</th>\n",
       "      <th>CholCheck</th>\n",
       "      <th>BMI</th>\n",
       "      <th>Smoker</th>\n",
       "      <th>Stroke</th>\n",
       "      <th>Diabetes</th>\n",
       "      <th>PhysActivity</th>\n",
       "      <th>Fruits</th>\n",
       "      <th>...</th>\n",
       "      <th>AnyHealthcare</th>\n",
       "      <th>NoDocbcCost</th>\n",
       "      <th>GenHlth</th>\n",
       "      <th>MentHlth</th>\n",
       "      <th>PhysHlth</th>\n",
       "      <th>DiffWalk</th>\n",
       "      <th>Sex</th>\n",
       "      <th>Age</th>\n",
       "      <th>Education</th>\n",
       "      <th>Income</th>\n",
       "    </tr>\n",
       "  </thead>\n",
       "  <tbody>\n",
       "    <tr>\n",
       "      <th>0</th>\n",
       "      <td>0.0</td>\n",
       "      <td>1.0</td>\n",
       "      <td>1.0</td>\n",
       "      <td>1.0</td>\n",
       "      <td>40.0</td>\n",
       "      <td>1.0</td>\n",
       "      <td>0.0</td>\n",
       "      <td>0.0</td>\n",
       "      <td>0.0</td>\n",
       "      <td>0.0</td>\n",
       "      <td>...</td>\n",
       "      <td>1.0</td>\n",
       "      <td>0.0</td>\n",
       "      <td>5.0</td>\n",
       "      <td>18.0</td>\n",
       "      <td>15.0</td>\n",
       "      <td>1.0</td>\n",
       "      <td>0.0</td>\n",
       "      <td>9.0</td>\n",
       "      <td>4.0</td>\n",
       "      <td>3.0</td>\n",
       "    </tr>\n",
       "    <tr>\n",
       "      <th>1</th>\n",
       "      <td>0.0</td>\n",
       "      <td>0.0</td>\n",
       "      <td>0.0</td>\n",
       "      <td>0.0</td>\n",
       "      <td>25.0</td>\n",
       "      <td>1.0</td>\n",
       "      <td>0.0</td>\n",
       "      <td>0.0</td>\n",
       "      <td>1.0</td>\n",
       "      <td>0.0</td>\n",
       "      <td>...</td>\n",
       "      <td>0.0</td>\n",
       "      <td>1.0</td>\n",
       "      <td>3.0</td>\n",
       "      <td>0.0</td>\n",
       "      <td>0.0</td>\n",
       "      <td>0.0</td>\n",
       "      <td>0.0</td>\n",
       "      <td>7.0</td>\n",
       "      <td>6.0</td>\n",
       "      <td>1.0</td>\n",
       "    </tr>\n",
       "    <tr>\n",
       "      <th>2</th>\n",
       "      <td>0.0</td>\n",
       "      <td>1.0</td>\n",
       "      <td>1.0</td>\n",
       "      <td>1.0</td>\n",
       "      <td>28.0</td>\n",
       "      <td>0.0</td>\n",
       "      <td>0.0</td>\n",
       "      <td>0.0</td>\n",
       "      <td>0.0</td>\n",
       "      <td>1.0</td>\n",
       "      <td>...</td>\n",
       "      <td>1.0</td>\n",
       "      <td>1.0</td>\n",
       "      <td>5.0</td>\n",
       "      <td>30.0</td>\n",
       "      <td>30.0</td>\n",
       "      <td>1.0</td>\n",
       "      <td>0.0</td>\n",
       "      <td>9.0</td>\n",
       "      <td>4.0</td>\n",
       "      <td>8.0</td>\n",
       "    </tr>\n",
       "    <tr>\n",
       "      <th>3</th>\n",
       "      <td>0.0</td>\n",
       "      <td>1.0</td>\n",
       "      <td>0.0</td>\n",
       "      <td>1.0</td>\n",
       "      <td>27.0</td>\n",
       "      <td>0.0</td>\n",
       "      <td>0.0</td>\n",
       "      <td>0.0</td>\n",
       "      <td>1.0</td>\n",
       "      <td>1.0</td>\n",
       "      <td>...</td>\n",
       "      <td>1.0</td>\n",
       "      <td>0.0</td>\n",
       "      <td>2.0</td>\n",
       "      <td>0.0</td>\n",
       "      <td>0.0</td>\n",
       "      <td>0.0</td>\n",
       "      <td>0.0</td>\n",
       "      <td>11.0</td>\n",
       "      <td>3.0</td>\n",
       "      <td>6.0</td>\n",
       "    </tr>\n",
       "    <tr>\n",
       "      <th>4</th>\n",
       "      <td>0.0</td>\n",
       "      <td>1.0</td>\n",
       "      <td>1.0</td>\n",
       "      <td>1.0</td>\n",
       "      <td>24.0</td>\n",
       "      <td>0.0</td>\n",
       "      <td>0.0</td>\n",
       "      <td>0.0</td>\n",
       "      <td>1.0</td>\n",
       "      <td>1.0</td>\n",
       "      <td>...</td>\n",
       "      <td>1.0</td>\n",
       "      <td>0.0</td>\n",
       "      <td>2.0</td>\n",
       "      <td>3.0</td>\n",
       "      <td>0.0</td>\n",
       "      <td>0.0</td>\n",
       "      <td>0.0</td>\n",
       "      <td>11.0</td>\n",
       "      <td>5.0</td>\n",
       "      <td>4.0</td>\n",
       "    </tr>\n",
       "  </tbody>\n",
       "</table>\n",
       "<p>5 rows × 22 columns</p>\n",
       "</div>"
      ],
      "text/plain": [
       "   HeartDiseaseorAttack  HighBP  HighChol  CholCheck   BMI  Smoker  Stroke  \\\n",
       "0                   0.0     1.0       1.0        1.0  40.0     1.0     0.0   \n",
       "1                   0.0     0.0       0.0        0.0  25.0     1.0     0.0   \n",
       "2                   0.0     1.0       1.0        1.0  28.0     0.0     0.0   \n",
       "3                   0.0     1.0       0.0        1.0  27.0     0.0     0.0   \n",
       "4                   0.0     1.0       1.0        1.0  24.0     0.0     0.0   \n",
       "\n",
       "   Diabetes  PhysActivity  Fruits  ...  AnyHealthcare  NoDocbcCost  GenHlth  \\\n",
       "0       0.0           0.0     0.0  ...            1.0          0.0      5.0   \n",
       "1       0.0           1.0     0.0  ...            0.0          1.0      3.0   \n",
       "2       0.0           0.0     1.0  ...            1.0          1.0      5.0   \n",
       "3       0.0           1.0     1.0  ...            1.0          0.0      2.0   \n",
       "4       0.0           1.0     1.0  ...            1.0          0.0      2.0   \n",
       "\n",
       "   MentHlth  PhysHlth  DiffWalk  Sex   Age  Education  Income  \n",
       "0      18.0      15.0       1.0  0.0   9.0        4.0     3.0  \n",
       "1       0.0       0.0       0.0  0.0   7.0        6.0     1.0  \n",
       "2      30.0      30.0       1.0  0.0   9.0        4.0     8.0  \n",
       "3       0.0       0.0       0.0  0.0  11.0        3.0     6.0  \n",
       "4       3.0       0.0       0.0  0.0  11.0        5.0     4.0  \n",
       "\n",
       "[5 rows x 22 columns]"
      ]
     },
     "execution_count": 2,
     "metadata": {},
     "output_type": "execute_result"
    }
   ],
   "source": [
    "df= pd.read_csv('Heart Disease Data 2015.csv')\n",
    "df.head()"
   ]
  },
  {
   "cell_type": "code",
   "execution_count": 3,
   "metadata": {},
   "outputs": [
    {
     "data": {
      "text/plain": [
       "HeartDiseaseorAttack\n",
       "0.0    229787\n",
       "1.0     23893\n",
       "Name: count, dtype: int64"
      ]
     },
     "execution_count": 3,
     "metadata": {},
     "output_type": "execute_result"
    }
   ],
   "source": [
    "df.drop(['Income',\"Education\",'DiffWalk',\"NoDocbcCost\",\"AnyHealthcare\",'Veggies',\"Fruits\",\"CholCheck\"],axis=1,inplace=True)\n",
    "\n",
    "df.shape\n",
    "df['HeartDiseaseorAttack'].value_counts()\n"
   ]
  },
  {
   "cell_type": "code",
   "execution_count": 4,
   "metadata": {},
   "outputs": [],
   "source": [
    "df.duplicated().sum()\n",
    "df.drop_duplicates(inplace=True)"
   ]
  },
  {
   "cell_type": "markdown",
   "metadata": {},
   "source": [
    "## splite data"
   ]
  },
  {
   "cell_type": "code",
   "execution_count": 5,
   "metadata": {},
   "outputs": [],
   "source": [
    "x = df.drop([\"HeartDiseaseorAttack\"] , axis = 1).values\n",
    "y = df[\"HeartDiseaseorAttack\"].values"
   ]
  },
  {
   "cell_type": "code",
   "execution_count": 6,
   "metadata": {},
   "outputs": [],
   "source": [
    "rus = RandomUnderSampler(random_state=42)\n",
    "x_rus, y_rus = rus.fit_resample(x, y)\n",
    "x_train4, x_test4, y_train4, y_test4 = train_test_split(x_rus, y_rus, test_size=0.25, random_state=42)"
   ]
  },
  {
   "cell_type": "code",
   "execution_count": 7,
   "metadata": {},
   "outputs": [
    {
     "name": "stdout",
     "output_type": "stream",
     "text": [
      "32131 32131\n",
      "10711 10711\n"
     ]
    }
   ],
   "source": [
    "\n",
    "scaler = MinMaxScaler()\n",
    "x_train4 = scaler.fit_transform(x_train4)\n",
    "x_test4 = scaler.transform(x_test4)\n",
    "print(len(x_train4), len(y_train4))\n",
    "print(len(x_test4), len(y_test4))"
   ]
  },
  {
   "cell_type": "markdown",
   "metadata": {},
   "source": [
    "## Random forest"
   ]
  },
  {
   "cell_type": "code",
   "execution_count": 15,
   "metadata": {},
   "outputs": [
    {
     "name": "stdout",
     "output_type": "stream",
     "text": [
      "Najlepsze parametry:  {'max_depth': 10, 'max_features': 'sqrt', 'min_samples_leaf': 1, 'min_samples_split': 6, 'n_estimators': 200}\n",
      "Training Results\n",
      "\n",
      "              precision    recall  f1-score   support\n",
      "\n",
      "         0.0       0.81      0.71      0.75     16021\n",
      "         1.0       0.74      0.83      0.78     16110\n",
      "\n",
      "    accuracy                           0.77     32131\n",
      "   macro avg       0.77      0.77      0.77     32131\n",
      "weighted avg       0.77      0.77      0.77     32131\n",
      "\n",
      "Testing Results\n",
      "\n",
      "              precision    recall  f1-score   support\n",
      "\n",
      "         0.0       0.78      0.69      0.73      5400\n",
      "         1.0       0.72      0.80      0.76      5311\n",
      "\n",
      "    accuracy                           0.74     10711\n",
      "   macro avg       0.75      0.74      0.74     10711\n",
      "weighted avg       0.75      0.74      0.74     10711\n",
      "\n"
     ]
    }
   ],
   "source": [
    "\n",
    "\n",
    "# Inicjalizacja modelu z domyślnymi parametrami\n",
    "rf = RandomForestClassifier()\n",
    "\n",
    "# Określenie siatki parametrów do przetestowania\n",
    "param_grid = {\n",
    "    'n_estimators': [100, 200, 300],  # Liczba drzew\n",
    "    'max_depth': [10, 20, 30],        # Maksymalna głębokość drzewa\n",
    "    'min_samples_split': [2, 4, 6],   # Minimalna liczba próbek wymagana do podziału węzła\n",
    "    'min_samples_leaf': [1, 2, 4],    # Minimalna liczba próbek wymagana w liściu\n",
    "    'max_features': ['auto', 'sqrt']  # Liczba cech do rozważenia przy każdym podziale\n",
    "}\n",
    "\n",
    "# Utworzenie obiektu GridSearchCV\n",
    "cv_rf = GridSearchCV(estimator=rf, param_grid=param_grid, cv=5, scoring='accuracy')\n",
    "\n",
    "# Przeszukiwanie siatki parametrów\n",
    "cv_rf.fit(x_train4, y_train4)\n",
    "\n",
    "# Najlepszy zestaw parametrów\n",
    "print(\"Najlepsze parametry: \", cv_rf.best_params_)\n",
    "\n",
    "# Najlepszy estimator\n",
    "best_rf = cv_rf.best_estimator_\n",
    "\n",
    "# Predykcje i ocena modelu\n",
    "ypred_train = best_rf.predict(x_train4)\n",
    "ypred_test = best_rf.predict(x_test4)\n",
    "\n",
    "print(\"Training Results\\n\")\n",
    "print(classification_report(y_train4, ypred_train))\n",
    "print(\"Testing Results\\n\")\n",
    "print(classification_report(y_test4, ypred_test))\n",
    "\n",
    "\n",
    "# # Ocena modelu za pomocą walidacji krzyżowej\n",
    "# cross_val_scores = cross_val_score(best_rf, x_train4, y_train4, cv=5)\n",
    "# print(\"Cross-validation scores:\", cross_val_scores)\n",
    "# print(\"Average cross-validation score:\", np.mean(cross_val_scores))"
   ]
  },
  {
   "cell_type": "code",
   "execution_count": 16,
   "metadata": {},
   "outputs": [
    {
     "data": {
      "image/png": "[encoded data removed]",
      "text/plain": [
       "<Figure size 640x480 with 1 Axes>"
      ]
     },
     "metadata": {},
     "output_type": "display_data"
    }
   ],
   "source": [
    "\n",
    "y_proba_test = best_rf.predict_proba(x_test4)[:, 1]\n",
    "\n",
    "fpr, tpr, thresholds = roc_curve(y_test4, y_proba_test)\n",
    "\n",
    "\n",
    "plt.plot(fpr, tpr, label='ROC Curve')\n",
    "plt.xlabel('False Positive Rate')\n",
    "plt.ylabel('True Positive Rate')\n",
    "plt.title('ROC Curve with AUC = {:.2f}'.format(roc_auc_score(y_test4, y_proba_test)))\n",
    "plt.legend(loc='lower right')\n",
    "plt.grid(True)\n",
    "plt.show()"
   ]
  },
  {
   "cell_type": "markdown",
   "metadata": {},
   "source": [
    "## DECISION TREE CLASSIFIER"
   ]
  },
  {
   "cell_type": "code",
   "execution_count": 17,
   "metadata": {},
   "outputs": [
    {
     "name": "stdout",
     "output_type": "stream",
     "text": [
      "Najlepsze parametry: {'criterion': 'entropy', 'max_depth': 10, 'min_samples_leaf': 5, 'min_samples_split': 2}\n",
      "Najlepsza dokładność: 0.7135477706460417\n",
      "Training Results\n",
      "\n",
      "              precision    recall  f1-score   support\n",
      "\n",
      "         0.0       0.79      0.70      0.74     16021\n",
      "         1.0       0.73      0.81      0.77     16110\n",
      "\n",
      "    accuracy                           0.75     32131\n",
      "   macro avg       0.76      0.75      0.75     32131\n",
      "weighted avg       0.76      0.75      0.75     32131\n",
      "\n",
      "Testing Results\n",
      "\n",
      "              precision    recall  f1-score   support\n",
      "\n",
      "         0.0       0.75      0.67      0.70      5400\n",
      "         1.0       0.69      0.77      0.73      5311\n",
      "\n",
      "    accuracy                           0.72     10711\n",
      "   macro avg       0.72      0.72      0.72     10711\n",
      "weighted avg       0.72      0.72      0.72     10711\n",
      "\n"
     ]
    }
   ],
   "source": [
    "\n",
    "# Parametry do przetestowania w Grid Search\n",
    "param_grid = {\n",
    "    'max_depth': [3, 5, 10, None],\n",
    "    'min_samples_split': [2, 5, 10],\n",
    "    'min_samples_leaf': [1, 2, 5],\n",
    "    'criterion': ['gini', 'entropy']\n",
    "}\n",
    "\n",
    "# Utworzenie modelu drzewa decyzyjnego\n",
    "tree = DecisionTreeClassifier()\n",
    "\n",
    "# Uruchomienie Grid Search z walidacją krzyżową\n",
    "grid_search = GridSearchCV(tree, param_grid, cv=5, scoring='accuracy')\n",
    "grid_search.fit(x_train4, y_train4)\n",
    "\n",
    "# Wyświetlenie najlepszych parametrów i wyników\n",
    "print(\"Najlepsze parametry:\", grid_search.best_params_)\n",
    "print(\"Najlepsza dokładność:\", grid_search.best_score_)\n",
    "\n",
    "# Utworzenie i ocena modelu z najlepszymi parametrami\n",
    "best_tree = grid_search.best_estimator_\n",
    "best_tree.fit(x_train4, y_train4)\n",
    "\n",
    "ypred_train2 = best_tree.predict(x_train4)\n",
    "ypred_test2 = best_tree.predict(x_test4)\n",
    "\n",
    "# Ocena modelu na zbiorze testowym\n",
    "\n",
    "print(\"Training Results\\n\")\n",
    "print(classification_report(y_train4, ypred_train2))\n",
    "print('Testing Results\\n')\n",
    "print(classification_report(y_test4, ypred_test2))\n",
    "\n",
    "# Dodatkowo: Walidacja krzyżowa dla najlepszego modelu na całym zbiorze danych\n",
    "# cross_val_scores = cross_val_score(best_tree, x_train4, y_train4, cv=5)\n",
    "# print(\"Cross-Validation Scores for the Best Model:\", cross_val_scores)\n",
    "# print(\"Average Cross-Validation Score:\", cross_val_scores.mean())"
   ]
  },
  {
   "cell_type": "code",
   "execution_count": 18,
   "metadata": {},
   "outputs": [
    {
     "data": {
      "image/png": "[encoded data removed]",
      "text/plain": [
       "<Figure size 640x480 with 1 Axes>"
      ]
     },
     "metadata": {},
     "output_type": "display_data"
    }
   ],
   "source": [
    "\n",
    "y_proba_test = best_tree.predict_proba(x_test4)[:, 1]\n",
    "\n",
    "\n",
    "fpr, tpr, thresholds = roc_curve(y_test4, y_proba_test)\n",
    "\n",
    "\n",
    "plt.plot(fpr, tpr, label='ROC Curve')\n",
    "plt.xlabel('False Positive Rate')\n",
    "plt.ylabel('True Positive Rate')\n",
    "plt.title('ROC Curve with AUC = {:.2f}'.format(roc_auc_score(y_test4, y_proba_test)))\n",
    "plt.legend(loc='lower right')\n",
    "plt.grid(True)\n",
    "plt.show()"
   ]
  },
  {
   "cell_type": "markdown",
   "metadata": {},
   "source": [
    "## Naive Bayes"
   ]
  },
  {
   "cell_type": "code",
   "execution_count": 19,
   "metadata": {},
   "outputs": [
    {
     "name": "stdout",
     "output_type": "stream",
     "text": [
      "Naive Bayes Classifier Accuracy:  0.7094575669872094\n"
     ]
    }
   ],
   "source": [
    "Gnb = GaussianNB()\n",
    "Gnb.fit(x_train4, y_train4)\n",
    "ypred_train3 = Gnb.predict(x_train4)\n",
    "y_pred_test3 = Gnb.predict(x_test4)\n",
    "\n",
    "print(\"Naive Bayes Classifier Accuracy: \",accuracy_score(y_test4, y_pred_test3))"
   ]
  },
  {
   "cell_type": "code",
   "execution_count": 20,
   "metadata": {},
   "outputs": [
    {
     "name": "stdout",
     "output_type": "stream",
     "text": [
      "Training Results\n",
      "\n",
      "              precision    recall  f1-score   support\n",
      "\n",
      "         0.0       0.70      0.72      0.71     16021\n",
      "         1.0       0.71      0.69      0.70     16110\n",
      "\n",
      "    accuracy                           0.70     32131\n",
      "   macro avg       0.70      0.70      0.70     32131\n",
      "weighted avg       0.70      0.70      0.70     32131\n",
      "\n",
      "Testing Results\n",
      "\n",
      "              precision    recall  f1-score   support\n",
      "\n",
      "         0.0       0.71      0.72      0.71      5400\n",
      "         1.0       0.71      0.70      0.70      5311\n",
      "\n",
      "    accuracy                           0.71     10711\n",
      "   macro avg       0.71      0.71      0.71     10711\n",
      "weighted avg       0.71      0.71      0.71     10711\n",
      "\n"
     ]
    }
   ],
   "source": [
    "print(\"Training Results\\n\")\n",
    "print(classification_report(y_train4, ypred_train3))\n",
    "print('Testing Results\\n')\n",
    "print(classification_report(y_test4, y_pred_test3))"
   ]
  },
  {
   "cell_type": "code",
   "execution_count": 21,
   "metadata": {},
   "outputs": [
    {
     "data": {
      "image/png": "[encoded data removed]",
      "text/plain": [
       "<Figure size 640x480 with 1 Axes>"
      ]
     },
     "metadata": {},
     "output_type": "display_data"
    }
   ],
   "source": [
    "# cross_val_scores = cross_val_score(Gnb, x_train4, y_train4, cv=5)\n",
    "# print(\"Cross-validation scores:\", cross_val_scores)\n",
    "# print(\"Average cross-validation score:\", np.mean(cross_val_scores))\n",
    "y_proba_test = Gnb.predict_proba(x_test4)[:, 1]\n",
    "\n",
    "\n",
    "fpr, tpr, thresholds = roc_curve(y_test4, y_proba_test)\n",
    "\n",
    "\n",
    "plt.plot(fpr, tpr, label='ROC Curve')\n",
    "plt.xlabel('False Positive Rate')\n",
    "plt.ylabel('True Positive Rate')\n",
    "plt.title('ROC Curve with AUC = {:.2f}'.format(roc_auc_score(y_test4, y_proba_test)))\n",
    "plt.legend(loc='lower right')\n",
    "plt.grid(True)\n",
    "plt.show()"
   ]
  },
  {
   "cell_type": "markdown",
   "metadata": {},
   "source": [
    "## XGBOSST\n"
   ]
  },
  {
   "cell_type": "code",
   "execution_count": 22,
   "metadata": {},
   "outputs": [
    {
     "name": "stdout",
     "output_type": "stream",
     "text": [
      "Najlepsze parametry:  {'colsample_bytree': 0.7, 'learning_rate': 0.1, 'max_depth': 5, 'n_estimators': 50, 'subsample': 0.7}\n",
      "Accuracy on Training set:  0.7488095608602284\n",
      "Accuracy on Test set:  0.7460554570068154\n",
      "\n",
      "Training Results\n",
      "\n",
      "              precision    recall  f1-score   support\n",
      "\n",
      "         0.0       0.78      0.69      0.73     16021\n",
      "         1.0       0.73      0.80      0.76     16110\n",
      "\n",
      "    accuracy                           0.75     32131\n",
      "   macro avg       0.75      0.75      0.75     32131\n",
      "weighted avg       0.75      0.75      0.75     32131\n",
      "\n",
      "Testing Results\n",
      "\n",
      "              precision    recall  f1-score   support\n",
      "\n",
      "         0.0       0.78      0.70      0.73      5400\n",
      "         1.0       0.72      0.80      0.76      5311\n",
      "\n",
      "    accuracy                           0.75     10711\n",
      "   macro avg       0.75      0.75      0.75     10711\n",
      "weighted avg       0.75      0.75      0.75     10711\n",
      "\n"
     ]
    },
    {
     "data": {
      "image/png": "[encoded data removed]",
      "text/plain": [
       "<Figure size 640x480 with 1 Axes>"
      ]
     },
     "metadata": {},
     "output_type": "display_data"
    }
   ],
   "source": [
    "# Inicjalizacja modelu XGBoost\n",
    "xg = XGBClassifier()\n",
    "\n",
    "# Definiowanie siatki hiperparametrów do przetestowania\n",
    "param_grid = {\n",
    "    'n_estimators': [50, 100, 200],\n",
    "    'max_depth': [3, 5, 7],\n",
    "    'learning_rate': [0.01, 0.1, 0.2],\n",
    "    'subsample': [0.7, 0.8, 0.9],\n",
    "    'colsample_bytree': [0.7, 0.8, 0.9]\n",
    "}\n",
    "\n",
    "# Utworzenie obiektu GridSearchCV\n",
    "grid_search = GridSearchCV(estimator=xg, param_grid=param_grid, cv=3, scoring='accuracy')\n",
    "\n",
    "# Przeszukiwanie siatki parametrów\n",
    "grid_search.fit(x_train4, y_train4)\n",
    "\n",
    "# Najlepsze parametry i najlepszy model\n",
    "print(\"Najlepsze parametry: \", grid_search.best_params_)\n",
    "best_xg = grid_search.best_estimator_\n",
    "\n",
    "# Predykcje na zbiorze treningowym i testowym\n",
    "ypred_train4 = best_xg.predict(x_train4)\n",
    "y_pred_test4 = best_xg.predict(x_test4)\n",
    "\n",
    "# Ocena modelu\n",
    "print(\"Accuracy on Training set: \", accuracy_score(y_train4, ypred_train4))\n",
    "print(\"Accuracy on Test set: \", accuracy_score(y_test4, y_pred_test4))\n",
    "print(\"\\nTraining Results\\n\")\n",
    "print(classification_report(y_train4, ypred_train4))\n",
    "print('Testing Results\\n')\n",
    "print(classification_report(y_test4, y_pred_test4))\n",
    "\n",
    "# cross_val_scores = cross_val_score(best_xg, x_train4, y_train4, cv=5)\n",
    "# print(\"Cross-validation scores:\", cross_val_scores)\n",
    "# print(\"Average cross-validation score:\", np.mean(cross_val_scores))\n",
    "\n",
    "# Krzywa ROC\n",
    "y_proba_test4 = best_xg.predict_proba(x_test4)[:, 1]\n",
    "fpr, tpr, thresholds = roc_curve(y_test4, y_proba_test4)\n",
    "plt.plot(fpr, tpr)\n",
    "plt.title(\"ROC Curve with AUC = {:.2f}\".format(roc_auc_score(y_test4, y_proba_test4)))\n",
    "plt.show()"
   ]
  },
  {
   "cell_type": "markdown",
   "metadata": {},
   "source": [
    "## logistic regression"
   ]
  },
  {
   "cell_type": "code",
   "execution_count": 23,
   "metadata": {},
   "outputs": [
    {
     "name": "stdout",
     "output_type": "stream",
     "text": [
      "Najlepsze parametry:  {'C': 0.1, 'penalty': 'l2', 'solver': 'liblinear'}\n",
      "Accuracy on Training set:  0.7327814260371603\n",
      "Accuracy on Test set:  0.7334515918214919\n",
      "\n",
      "Training Results\n",
      "\n",
      "              precision    recall  f1-score   support\n",
      "\n",
      "         0.0       0.75      0.70      0.72     16021\n",
      "         1.0       0.72      0.76      0.74     16110\n",
      "\n",
      "    accuracy                           0.73     32131\n",
      "   macro avg       0.73      0.73      0.73     32131\n",
      "weighted avg       0.73      0.73      0.73     32131\n",
      "\n",
      "Testing Results\n",
      "\n",
      "              precision    recall  f1-score   support\n",
      "\n",
      "         0.0       0.75      0.71      0.73      5400\n",
      "         1.0       0.72      0.76      0.74      5311\n",
      "\n",
      "    accuracy                           0.73     10711\n",
      "   macro avg       0.73      0.73      0.73     10711\n",
      "weighted avg       0.73      0.73      0.73     10711\n",
      "\n"
     ]
    },
    {
     "data": {
      "image/png": "[encoded data removed]",
      "text/plain": [
       "<Figure size 640x480 with 1 Axes>"
      ]
     },
     "metadata": {},
     "output_type": "display_data"
    }
   ],
   "source": [
    "# Inicjalizacja modelu regresji logistycznej\n",
    "lg = LogisticRegression()\n",
    "\n",
    "# Definiowanie siatki hiperparametrów do przetestowania\n",
    "param_grid = {\n",
    "    'C': [0.01, 0.1, 1, 10, 100],  # Parametr regularyzacji\n",
    "    'penalty': ['l1', 'l2'],       # Typ regularyzacji\n",
    "    'solver': ['liblinear']        # Algorytm optymalizacji (liblinear jest dobrym wyborem dla małych zbiorów danych)\n",
    "}\n",
    "\n",
    "# Utworzenie obiektu GridSearchCV\n",
    "grid_search = GridSearchCV(estimator=lg, param_grid=param_grid, cv=5, scoring='accuracy')\n",
    "\n",
    "# Przeszukiwanie siatki parametrów\n",
    "grid_search.fit(x_train4, y_train4)\n",
    "\n",
    "# Najlepsze parametry i najlepszy model\n",
    "print(\"Najlepsze parametry: \", grid_search.best_params_)\n",
    "best_lg = grid_search.best_estimator_\n",
    "\n",
    "# Predykcje na zbiorze treningowym i testowym\n",
    "ypred_train4 = best_lg.predict(x_train4)\n",
    "y_pred_test4 = best_lg.predict(x_test4)\n",
    "\n",
    "# Ocena modelu\n",
    "print(\"Accuracy on Training set: \", accuracy_score(y_train4, ypred_train4))\n",
    "print(\"Accuracy on Test set: \", accuracy_score(y_test4, y_pred_test4))\n",
    "print(\"\\nTraining Results\\n\")\n",
    "print(classification_report(y_train4, ypred_train4))\n",
    "print('Testing Results\\n')\n",
    "print(classification_report(y_test4, y_pred_test4))\n",
    "\n",
    "# cross_val_scores = cross_val_score(best_lg, x_train4, y_train4, cv=5)\n",
    "# print(\"Cross-validation scores:\", cross_val_scores)\n",
    "# print(\"Average cross-validation score:\", np.mean(cross_val_scores))\n",
    "\n",
    "# Krzywa ROC\n",
    "y_proba_test4 = best_lg.predict_proba(x_test4)[:, 1]\n",
    "fpr, tpr, thresholds = roc_curve(y_test4, y_proba_test4)\n",
    "plt.plot(fpr, tpr)\n",
    "plt.title(\"ROC Curve with AUC = {:.2f}\".format(roc_auc_score(y_test4, y_proba_test4)))\n",
    "plt.show()"
   ]
  },
  {
   "cell_type": "markdown",
   "metadata": {},
   "source": [
    "## GradientBoostingClassifier"
   ]
  },
  {
   "cell_type": "code",
   "execution_count": 24,
   "metadata": {},
   "outputs": [
    {
     "ename": "KeyboardInterrupt",
     "evalue": "",
     "output_type": "error",
     "traceback": [
      "\u001b[1;31m---------------------------------------------------------------------------\u001b[0m",
      "\u001b[1;31mKeyboardInterrupt\u001b[0m                         Traceback (most recent call last)",
      "Cell \u001b[1;32mIn[24], line 17\u001b[0m\n\u001b[0;32m     14\u001b[0m grid_search \u001b[38;5;241m=\u001b[39m GridSearchCV(estimator\u001b[38;5;241m=\u001b[39mgb, param_grid\u001b[38;5;241m=\u001b[39mparam_grid, cv\u001b[38;5;241m=\u001b[39m\u001b[38;5;241m5\u001b[39m, scoring\u001b[38;5;241m=\u001b[39m\u001b[38;5;124m'\u001b[39m\u001b[38;5;124maccuracy\u001b[39m\u001b[38;5;124m'\u001b[39m)\n\u001b[0;32m     16\u001b[0m \u001b[38;5;66;03m# Przeszukiwanie siatki parametrów\u001b[39;00m\n\u001b[1;32m---> 17\u001b[0m grid_search\u001b[38;5;241m.\u001b[39mfit(x_train4, y_train4)\n\u001b[0;32m     19\u001b[0m \u001b[38;5;66;03m# Najlepsze parametry i najlepszy model\u001b[39;00m\n\u001b[0;32m     20\u001b[0m \u001b[38;5;28mprint\u001b[39m(\u001b[38;5;124m\"\u001b[39m\u001b[38;5;124mNajlepsze parametry: \u001b[39m\u001b[38;5;124m\"\u001b[39m, grid_search\u001b[38;5;241m.\u001b[39mbest_params_)\n",
      "File \u001b[1;32m~\\AppData\\Roaming\\Python\\Python311\\site-packages\\sklearn\\base.py:1152\u001b[0m, in \u001b[0;36m_fit_context.<locals>.decorator.<locals>.wrapper\u001b[1;34m(estimator, *args, **kwargs)\u001b[0m\n\u001b[0;32m   1145\u001b[0m     estimator\u001b[38;5;241m.\u001b[39m_validate_params()\n\u001b[0;32m   1147\u001b[0m \u001b[38;5;28;01mwith\u001b[39;00m config_context(\n\u001b[0;32m   1148\u001b[0m     skip_parameter_validation\u001b[38;5;241m=\u001b[39m(\n\u001b[0;32m   1149\u001b[0m         prefer_skip_nested_validation \u001b[38;5;129;01mor\u001b[39;00m global_skip_validation\n\u001b[0;32m   1150\u001b[0m     )\n\u001b[0;32m   1151\u001b[0m ):\n\u001b[1;32m-> 1152\u001b[0m     \u001b[38;5;28;01mreturn\u001b[39;00m fit_method(estimator, \u001b[38;5;241m*\u001b[39margs, \u001b[38;5;241m*\u001b[39m\u001b[38;5;241m*\u001b[39mkwargs)\n",
      "File \u001b[1;32m~\\AppData\\Roaming\\Python\\Python311\\site-packages\\sklearn\\model_selection\\_search.py:898\u001b[0m, in \u001b[0;36mBaseSearchCV.fit\u001b[1;34m(self, X, y, groups, **fit_params)\u001b[0m\n\u001b[0;32m    892\u001b[0m     results \u001b[38;5;241m=\u001b[39m \u001b[38;5;28mself\u001b[39m\u001b[38;5;241m.\u001b[39m_format_results(\n\u001b[0;32m    893\u001b[0m         all_candidate_params, n_splits, all_out, all_more_results\n\u001b[0;32m    894\u001b[0m     )\n\u001b[0;32m    896\u001b[0m     \u001b[38;5;28;01mreturn\u001b[39;00m results\n\u001b[1;32m--> 898\u001b[0m \u001b[38;5;28mself\u001b[39m\u001b[38;5;241m.\u001b[39m_run_search(evaluate_candidates)\n\u001b[0;32m    900\u001b[0m \u001b[38;5;66;03m# multimetric is determined here because in the case of a callable\u001b[39;00m\n\u001b[0;32m    901\u001b[0m \u001b[38;5;66;03m# self.scoring the return type is only known after calling\u001b[39;00m\n\u001b[0;32m    902\u001b[0m first_test_score \u001b[38;5;241m=\u001b[39m all_out[\u001b[38;5;241m0\u001b[39m][\u001b[38;5;124m\"\u001b[39m\u001b[38;5;124mtest_scores\u001b[39m\u001b[38;5;124m\"\u001b[39m]\n",
      "File \u001b[1;32m~\\AppData\\Roaming\\Python\\Python311\\site-packages\\sklearn\\model_selection\\_search.py:1422\u001b[0m, in \u001b[0;36mGridSearchCV._run_search\u001b[1;34m(self, evaluate_candidates)\u001b[0m\n\u001b[0;32m   1420\u001b[0m \u001b[38;5;28;01mdef\u001b[39;00m \u001b[38;5;21m_run_search\u001b[39m(\u001b[38;5;28mself\u001b[39m, evaluate_candidates):\n\u001b[0;32m   1421\u001b[0m \u001b[38;5;250m    \u001b[39m\u001b[38;5;124;03m\"\"\"Search all candidates in param_grid\"\"\"\u001b[39;00m\n\u001b[1;32m-> 1422\u001b[0m     evaluate_candidates(ParameterGrid(\u001b[38;5;28mself\u001b[39m\u001b[38;5;241m.\u001b[39mparam_grid))\n",
      "File \u001b[1;32m~\\AppData\\Roaming\\Python\\Python311\\site-packages\\sklearn\\model_selection\\_search.py:845\u001b[0m, in \u001b[0;36mBaseSearchCV.fit.<locals>.evaluate_candidates\u001b[1;34m(candidate_params, cv, more_results)\u001b[0m\n\u001b[0;32m    837\u001b[0m \u001b[38;5;28;01mif\u001b[39;00m \u001b[38;5;28mself\u001b[39m\u001b[38;5;241m.\u001b[39mverbose \u001b[38;5;241m>\u001b[39m \u001b[38;5;241m0\u001b[39m:\n\u001b[0;32m    838\u001b[0m     \u001b[38;5;28mprint\u001b[39m(\n\u001b[0;32m    839\u001b[0m         \u001b[38;5;124m\"\u001b[39m\u001b[38;5;124mFitting \u001b[39m\u001b[38;5;132;01m{0}\u001b[39;00m\u001b[38;5;124m folds for each of \u001b[39m\u001b[38;5;132;01m{1}\u001b[39;00m\u001b[38;5;124m candidates,\u001b[39m\u001b[38;5;124m\"\u001b[39m\n\u001b[0;32m    840\u001b[0m         \u001b[38;5;124m\"\u001b[39m\u001b[38;5;124m totalling \u001b[39m\u001b[38;5;132;01m{2}\u001b[39;00m\u001b[38;5;124m fits\u001b[39m\u001b[38;5;124m\"\u001b[39m\u001b[38;5;241m.\u001b[39mformat(\n\u001b[0;32m    841\u001b[0m             n_splits, n_candidates, n_candidates \u001b[38;5;241m*\u001b[39m n_splits\n\u001b[0;32m    842\u001b[0m         )\n\u001b[0;32m    843\u001b[0m     )\n\u001b[1;32m--> 845\u001b[0m out \u001b[38;5;241m=\u001b[39m parallel(\n\u001b[0;32m    846\u001b[0m     delayed(_fit_and_score)(\n\u001b[0;32m    847\u001b[0m         clone(base_estimator),\n\u001b[0;32m    848\u001b[0m         X,\n\u001b[0;32m    849\u001b[0m         y,\n\u001b[0;32m    850\u001b[0m         train\u001b[38;5;241m=\u001b[39mtrain,\n\u001b[0;32m    851\u001b[0m         test\u001b[38;5;241m=\u001b[39mtest,\n\u001b[0;32m    852\u001b[0m         parameters\u001b[38;5;241m=\u001b[39mparameters,\n\u001b[0;32m    853\u001b[0m         split_progress\u001b[38;5;241m=\u001b[39m(split_idx, n_splits),\n\u001b[0;32m    854\u001b[0m         candidate_progress\u001b[38;5;241m=\u001b[39m(cand_idx, n_candidates),\n\u001b[0;32m    855\u001b[0m         \u001b[38;5;241m*\u001b[39m\u001b[38;5;241m*\u001b[39mfit_and_score_kwargs,\n\u001b[0;32m    856\u001b[0m     )\n\u001b[0;32m    857\u001b[0m     \u001b[38;5;28;01mfor\u001b[39;00m (cand_idx, parameters), (split_idx, (train, test)) \u001b[38;5;129;01min\u001b[39;00m product(\n\u001b[0;32m    858\u001b[0m         \u001b[38;5;28menumerate\u001b[39m(candidate_params), \u001b[38;5;28menumerate\u001b[39m(cv\u001b[38;5;241m.\u001b[39msplit(X, y, groups))\n\u001b[0;32m    859\u001b[0m     )\n\u001b[0;32m    860\u001b[0m )\n\u001b[0;32m    862\u001b[0m \u001b[38;5;28;01mif\u001b[39;00m \u001b[38;5;28mlen\u001b[39m(out) \u001b[38;5;241m<\u001b[39m \u001b[38;5;241m1\u001b[39m:\n\u001b[0;32m    863\u001b[0m     \u001b[38;5;28;01mraise\u001b[39;00m \u001b[38;5;167;01mValueError\u001b[39;00m(\n\u001b[0;32m    864\u001b[0m         \u001b[38;5;124m\"\u001b[39m\u001b[38;5;124mNo fits were performed. \u001b[39m\u001b[38;5;124m\"\u001b[39m\n\u001b[0;32m    865\u001b[0m         \u001b[38;5;124m\"\u001b[39m\u001b[38;5;124mWas the CV iterator empty? \u001b[39m\u001b[38;5;124m\"\u001b[39m\n\u001b[0;32m    866\u001b[0m         \u001b[38;5;124m\"\u001b[39m\u001b[38;5;124mWere there no candidates?\u001b[39m\u001b[38;5;124m\"\u001b[39m\n\u001b[0;32m    867\u001b[0m     )\n",
      "File \u001b[1;32m~\\AppData\\Roaming\\Python\\Python311\\site-packages\\sklearn\\utils\\parallel.py:65\u001b[0m, in \u001b[0;36mParallel.__call__\u001b[1;34m(self, iterable)\u001b[0m\n\u001b[0;32m     60\u001b[0m config \u001b[38;5;241m=\u001b[39m get_config()\n\u001b[0;32m     61\u001b[0m iterable_with_config \u001b[38;5;241m=\u001b[39m (\n\u001b[0;32m     62\u001b[0m     (_with_config(delayed_func, config), args, kwargs)\n\u001b[0;32m     63\u001b[0m     \u001b[38;5;28;01mfor\u001b[39;00m delayed_func, args, kwargs \u001b[38;5;129;01min\u001b[39;00m iterable\n\u001b[0;32m     64\u001b[0m )\n\u001b[1;32m---> 65\u001b[0m \u001b[38;5;28;01mreturn\u001b[39;00m \u001b[38;5;28msuper\u001b[39m()\u001b[38;5;241m.\u001b[39m\u001b[38;5;21m__call__\u001b[39m(iterable_with_config)\n",
      "File \u001b[1;32m~\\AppData\\Roaming\\Python\\Python311\\site-packages\\joblib\\parallel.py:1863\u001b[0m, in \u001b[0;36mParallel.__call__\u001b[1;34m(self, iterable)\u001b[0m\n\u001b[0;32m   1861\u001b[0m     output \u001b[38;5;241m=\u001b[39m \u001b[38;5;28mself\u001b[39m\u001b[38;5;241m.\u001b[39m_get_sequential_output(iterable)\n\u001b[0;32m   1862\u001b[0m     \u001b[38;5;28mnext\u001b[39m(output)\n\u001b[1;32m-> 1863\u001b[0m     \u001b[38;5;28;01mreturn\u001b[39;00m output \u001b[38;5;28;01mif\u001b[39;00m \u001b[38;5;28mself\u001b[39m\u001b[38;5;241m.\u001b[39mreturn_generator \u001b[38;5;28;01melse\u001b[39;00m \u001b[38;5;28mlist\u001b[39m(output)\n\u001b[0;32m   1865\u001b[0m \u001b[38;5;66;03m# Let's create an ID that uniquely identifies the current call. If the\u001b[39;00m\n\u001b[0;32m   1866\u001b[0m \u001b[38;5;66;03m# call is interrupted early and that the same instance is immediately\u001b[39;00m\n\u001b[0;32m   1867\u001b[0m \u001b[38;5;66;03m# re-used, this id will be used to prevent workers that were\u001b[39;00m\n\u001b[0;32m   1868\u001b[0m \u001b[38;5;66;03m# concurrently finalizing a task from the previous call to run the\u001b[39;00m\n\u001b[0;32m   1869\u001b[0m \u001b[38;5;66;03m# callback.\u001b[39;00m\n\u001b[0;32m   1870\u001b[0m \u001b[38;5;28;01mwith\u001b[39;00m \u001b[38;5;28mself\u001b[39m\u001b[38;5;241m.\u001b[39m_lock:\n",
      "File \u001b[1;32m~\\AppData\\Roaming\\Python\\Python311\\site-packages\\joblib\\parallel.py:1792\u001b[0m, in \u001b[0;36mParallel._get_sequential_output\u001b[1;34m(self, iterable)\u001b[0m\n\u001b[0;32m   1790\u001b[0m \u001b[38;5;28mself\u001b[39m\u001b[38;5;241m.\u001b[39mn_dispatched_batches \u001b[38;5;241m+\u001b[39m\u001b[38;5;241m=\u001b[39m \u001b[38;5;241m1\u001b[39m\n\u001b[0;32m   1791\u001b[0m \u001b[38;5;28mself\u001b[39m\u001b[38;5;241m.\u001b[39mn_dispatched_tasks \u001b[38;5;241m+\u001b[39m\u001b[38;5;241m=\u001b[39m \u001b[38;5;241m1\u001b[39m\n\u001b[1;32m-> 1792\u001b[0m res \u001b[38;5;241m=\u001b[39m func(\u001b[38;5;241m*\u001b[39margs, \u001b[38;5;241m*\u001b[39m\u001b[38;5;241m*\u001b[39mkwargs)\n\u001b[0;32m   1793\u001b[0m \u001b[38;5;28mself\u001b[39m\u001b[38;5;241m.\u001b[39mn_completed_tasks \u001b[38;5;241m+\u001b[39m\u001b[38;5;241m=\u001b[39m \u001b[38;5;241m1\u001b[39m\n\u001b[0;32m   1794\u001b[0m \u001b[38;5;28mself\u001b[39m\u001b[38;5;241m.\u001b[39mprint_progress()\n",
      "File \u001b[1;32m~\\AppData\\Roaming\\Python\\Python311\\site-packages\\sklearn\\utils\\parallel.py:127\u001b[0m, in \u001b[0;36m_FuncWrapper.__call__\u001b[1;34m(self, *args, **kwargs)\u001b[0m\n\u001b[0;32m    125\u001b[0m     config \u001b[38;5;241m=\u001b[39m {}\n\u001b[0;32m    126\u001b[0m \u001b[38;5;28;01mwith\u001b[39;00m config_context(\u001b[38;5;241m*\u001b[39m\u001b[38;5;241m*\u001b[39mconfig):\n\u001b[1;32m--> 127\u001b[0m     \u001b[38;5;28;01mreturn\u001b[39;00m \u001b[38;5;28mself\u001b[39m\u001b[38;5;241m.\u001b[39mfunction(\u001b[38;5;241m*\u001b[39margs, \u001b[38;5;241m*\u001b[39m\u001b[38;5;241m*\u001b[39mkwargs)\n",
      "File \u001b[1;32m~\\AppData\\Roaming\\Python\\Python311\\site-packages\\sklearn\\model_selection\\_validation.py:729\u001b[0m, in \u001b[0;36m_fit_and_score\u001b[1;34m(estimator, X, y, scorer, train, test, verbose, parameters, fit_params, return_train_score, return_parameters, return_n_test_samples, return_times, return_estimator, split_progress, candidate_progress, error_score)\u001b[0m\n\u001b[0;32m    727\u001b[0m         estimator\u001b[38;5;241m.\u001b[39mfit(X_train, \u001b[38;5;241m*\u001b[39m\u001b[38;5;241m*\u001b[39mfit_params)\n\u001b[0;32m    728\u001b[0m     \u001b[38;5;28;01melse\u001b[39;00m:\n\u001b[1;32m--> 729\u001b[0m         estimator\u001b[38;5;241m.\u001b[39mfit(X_train, y_train, \u001b[38;5;241m*\u001b[39m\u001b[38;5;241m*\u001b[39mfit_params)\n\u001b[0;32m    731\u001b[0m \u001b[38;5;28;01mexcept\u001b[39;00m \u001b[38;5;167;01mException\u001b[39;00m:\n\u001b[0;32m    732\u001b[0m     \u001b[38;5;66;03m# Note fit time as time until error\u001b[39;00m\n\u001b[0;32m    733\u001b[0m     fit_time \u001b[38;5;241m=\u001b[39m time\u001b[38;5;241m.\u001b[39mtime() \u001b[38;5;241m-\u001b[39m start_time\n",
      "File \u001b[1;32m~\\AppData\\Roaming\\Python\\Python311\\site-packages\\sklearn\\base.py:1152\u001b[0m, in \u001b[0;36m_fit_context.<locals>.decorator.<locals>.wrapper\u001b[1;34m(estimator, *args, **kwargs)\u001b[0m\n\u001b[0;32m   1145\u001b[0m     estimator\u001b[38;5;241m.\u001b[39m_validate_params()\n\u001b[0;32m   1147\u001b[0m \u001b[38;5;28;01mwith\u001b[39;00m config_context(\n\u001b[0;32m   1148\u001b[0m     skip_parameter_validation\u001b[38;5;241m=\u001b[39m(\n\u001b[0;32m   1149\u001b[0m         prefer_skip_nested_validation \u001b[38;5;129;01mor\u001b[39;00m global_skip_validation\n\u001b[0;32m   1150\u001b[0m     )\n\u001b[0;32m   1151\u001b[0m ):\n\u001b[1;32m-> 1152\u001b[0m     \u001b[38;5;28;01mreturn\u001b[39;00m fit_method(estimator, \u001b[38;5;241m*\u001b[39margs, \u001b[38;5;241m*\u001b[39m\u001b[38;5;241m*\u001b[39mkwargs)\n",
      "File \u001b[1;32m~\\AppData\\Roaming\\Python\\Python311\\site-packages\\sklearn\\ensemble\\_gb.py:532\u001b[0m, in \u001b[0;36mBaseGradientBoosting.fit\u001b[1;34m(self, X, y, sample_weight, monitor)\u001b[0m\n\u001b[0;32m    529\u001b[0m     \u001b[38;5;28mself\u001b[39m\u001b[38;5;241m.\u001b[39m_resize_state()\n\u001b[0;32m    531\u001b[0m \u001b[38;5;66;03m# fit the boosting stages\u001b[39;00m\n\u001b[1;32m--> 532\u001b[0m n_stages \u001b[38;5;241m=\u001b[39m \u001b[38;5;28mself\u001b[39m\u001b[38;5;241m.\u001b[39m_fit_stages(\n\u001b[0;32m    533\u001b[0m     X_train,\n\u001b[0;32m    534\u001b[0m     y_train,\n\u001b[0;32m    535\u001b[0m     raw_predictions,\n\u001b[0;32m    536\u001b[0m     sample_weight_train,\n\u001b[0;32m    537\u001b[0m     \u001b[38;5;28mself\u001b[39m\u001b[38;5;241m.\u001b[39m_rng,\n\u001b[0;32m    538\u001b[0m     X_val,\n\u001b[0;32m    539\u001b[0m     y_val,\n\u001b[0;32m    540\u001b[0m     sample_weight_val,\n\u001b[0;32m    541\u001b[0m     begin_at_stage,\n\u001b[0;32m    542\u001b[0m     monitor,\n\u001b[0;32m    543\u001b[0m )\n\u001b[0;32m    545\u001b[0m \u001b[38;5;66;03m# change shape of arrays after fit (early-stopping or additional ests)\u001b[39;00m\n\u001b[0;32m    546\u001b[0m \u001b[38;5;28;01mif\u001b[39;00m n_stages \u001b[38;5;241m!=\u001b[39m \u001b[38;5;28mself\u001b[39m\u001b[38;5;241m.\u001b[39mestimators_\u001b[38;5;241m.\u001b[39mshape[\u001b[38;5;241m0\u001b[39m]:\n",
      "File \u001b[1;32m~\\AppData\\Roaming\\Python\\Python311\\site-packages\\sklearn\\ensemble\\_gb.py:610\u001b[0m, in \u001b[0;36mBaseGradientBoosting._fit_stages\u001b[1;34m(self, X, y, raw_predictions, sample_weight, random_state, X_val, y_val, sample_weight_val, begin_at_stage, monitor)\u001b[0m\n\u001b[0;32m    603\u001b[0m         initial_loss \u001b[38;5;241m=\u001b[39m loss_(\n\u001b[0;32m    604\u001b[0m             y[\u001b[38;5;241m~\u001b[39msample_mask],\n\u001b[0;32m    605\u001b[0m             raw_predictions[\u001b[38;5;241m~\u001b[39msample_mask],\n\u001b[0;32m    606\u001b[0m             sample_weight[\u001b[38;5;241m~\u001b[39msample_mask],\n\u001b[0;32m    607\u001b[0m         )\n\u001b[0;32m    609\u001b[0m \u001b[38;5;66;03m# fit next stage of trees\u001b[39;00m\n\u001b[1;32m--> 610\u001b[0m raw_predictions \u001b[38;5;241m=\u001b[39m \u001b[38;5;28mself\u001b[39m\u001b[38;5;241m.\u001b[39m_fit_stage(\n\u001b[0;32m    611\u001b[0m     i,\n\u001b[0;32m    612\u001b[0m     X,\n\u001b[0;32m    613\u001b[0m     y,\n\u001b[0;32m    614\u001b[0m     raw_predictions,\n\u001b[0;32m    615\u001b[0m     sample_weight,\n\u001b[0;32m    616\u001b[0m     sample_mask,\n\u001b[0;32m    617\u001b[0m     random_state,\n\u001b[0;32m    618\u001b[0m     X_csc,\n\u001b[0;32m    619\u001b[0m     X_csr,\n\u001b[0;32m    620\u001b[0m )\n\u001b[0;32m    622\u001b[0m \u001b[38;5;66;03m# track loss\u001b[39;00m\n\u001b[0;32m    623\u001b[0m \u001b[38;5;28;01mif\u001b[39;00m do_oob:\n",
      "File \u001b[1;32m~\\AppData\\Roaming\\Python\\Python311\\site-packages\\sklearn\\ensemble\\_gb.py:248\u001b[0m, in \u001b[0;36mBaseGradientBoosting._fit_stage\u001b[1;34m(self, i, X, y, raw_predictions, sample_weight, sample_mask, random_state, X_csc, X_csr)\u001b[0m\n\u001b[0;32m    245\u001b[0m tree\u001b[38;5;241m.\u001b[39mfit(X, residual, sample_weight\u001b[38;5;241m=\u001b[39msample_weight, check_input\u001b[38;5;241m=\u001b[39m\u001b[38;5;28;01mFalse\u001b[39;00m)\n\u001b[0;32m    247\u001b[0m \u001b[38;5;66;03m# update tree leaves\u001b[39;00m\n\u001b[1;32m--> 248\u001b[0m loss\u001b[38;5;241m.\u001b[39mupdate_terminal_regions(\n\u001b[0;32m    249\u001b[0m     tree\u001b[38;5;241m.\u001b[39mtree_,\n\u001b[0;32m    250\u001b[0m     X,\n\u001b[0;32m    251\u001b[0m     y,\n\u001b[0;32m    252\u001b[0m     residual,\n\u001b[0;32m    253\u001b[0m     raw_predictions,\n\u001b[0;32m    254\u001b[0m     sample_weight,\n\u001b[0;32m    255\u001b[0m     sample_mask,\n\u001b[0;32m    256\u001b[0m     learning_rate\u001b[38;5;241m=\u001b[39m\u001b[38;5;28mself\u001b[39m\u001b[38;5;241m.\u001b[39mlearning_rate,\n\u001b[0;32m    257\u001b[0m     k\u001b[38;5;241m=\u001b[39mk,\n\u001b[0;32m    258\u001b[0m )\n\u001b[0;32m    260\u001b[0m \u001b[38;5;66;03m# add tree to ensemble\u001b[39;00m\n\u001b[0;32m    261\u001b[0m \u001b[38;5;28mself\u001b[39m\u001b[38;5;241m.\u001b[39mestimators_[i, k] \u001b[38;5;241m=\u001b[39m tree\n",
      "File \u001b[1;32m~\\AppData\\Roaming\\Python\\Python311\\site-packages\\sklearn\\ensemble\\_gb_losses.py:119\u001b[0m, in \u001b[0;36mLossFunction.update_terminal_regions\u001b[1;34m(self, tree, X, y, residual, raw_predictions, sample_weight, sample_mask, learning_rate, k)\u001b[0m\n\u001b[0;32m    117\u001b[0m \u001b[38;5;66;03m# update each leaf (= perform line search)\u001b[39;00m\n\u001b[0;32m    118\u001b[0m \u001b[38;5;28;01mfor\u001b[39;00m leaf \u001b[38;5;129;01min\u001b[39;00m np\u001b[38;5;241m.\u001b[39mwhere(tree\u001b[38;5;241m.\u001b[39mchildren_left \u001b[38;5;241m==\u001b[39m TREE_LEAF)[\u001b[38;5;241m0\u001b[39m]:\n\u001b[1;32m--> 119\u001b[0m     \u001b[38;5;28mself\u001b[39m\u001b[38;5;241m.\u001b[39m_update_terminal_region(\n\u001b[0;32m    120\u001b[0m         tree,\n\u001b[0;32m    121\u001b[0m         masked_terminal_regions,\n\u001b[0;32m    122\u001b[0m         leaf,\n\u001b[0;32m    123\u001b[0m         X,\n\u001b[0;32m    124\u001b[0m         y,\n\u001b[0;32m    125\u001b[0m         residual,\n\u001b[0;32m    126\u001b[0m         raw_predictions[:, k],\n\u001b[0;32m    127\u001b[0m         sample_weight,\n\u001b[0;32m    128\u001b[0m     )\n\u001b[0;32m    130\u001b[0m \u001b[38;5;66;03m# update predictions (both in-bag and out-of-bag)\u001b[39;00m\n\u001b[0;32m    131\u001b[0m raw_predictions[:, k] \u001b[38;5;241m+\u001b[39m\u001b[38;5;241m=\u001b[39m learning_rate \u001b[38;5;241m*\u001b[39m tree\u001b[38;5;241m.\u001b[39mvalue[:, \u001b[38;5;241m0\u001b[39m, \u001b[38;5;241m0\u001b[39m]\u001b[38;5;241m.\u001b[39mtake(\n\u001b[0;32m    132\u001b[0m     terminal_regions, axis\u001b[38;5;241m=\u001b[39m\u001b[38;5;241m0\u001b[39m\n\u001b[0;32m    133\u001b[0m )\n",
      "File \u001b[1;32m~\\AppData\\Roaming\\Python\\Python311\\site-packages\\sklearn\\ensemble\\_gb_losses.py:723\u001b[0m, in \u001b[0;36mBinomialDeviance._update_terminal_region\u001b[1;34m(self, tree, terminal_regions, leaf, X, y, residual, raw_predictions, sample_weight)\u001b[0m\n\u001b[0;32m    704\u001b[0m \u001b[38;5;28;01mdef\u001b[39;00m \u001b[38;5;21m_update_terminal_region\u001b[39m(\n\u001b[0;32m    705\u001b[0m     \u001b[38;5;28mself\u001b[39m,\n\u001b[0;32m    706\u001b[0m     tree,\n\u001b[1;32m   (...)\u001b[0m\n\u001b[0;32m    713\u001b[0m     sample_weight,\n\u001b[0;32m    714\u001b[0m ):\n\u001b[0;32m    715\u001b[0m \u001b[38;5;250m    \u001b[39m\u001b[38;5;124;03m\"\"\"Make a single Newton-Raphson step.\u001b[39;00m\n\u001b[0;32m    716\u001b[0m \n\u001b[0;32m    717\u001b[0m \u001b[38;5;124;03m    our node estimate is given by:\u001b[39;00m\n\u001b[1;32m   (...)\u001b[0m\n\u001b[0;32m    721\u001b[0m \u001b[38;5;124;03m    we take advantage that: y - prob = residual\u001b[39;00m\n\u001b[0;32m    722\u001b[0m \u001b[38;5;124;03m    \"\"\"\u001b[39;00m\n\u001b[1;32m--> 723\u001b[0m     terminal_region \u001b[38;5;241m=\u001b[39m np\u001b[38;5;241m.\u001b[39mwhere(terminal_regions \u001b[38;5;241m==\u001b[39m leaf)[\u001b[38;5;241m0\u001b[39m]\n\u001b[0;32m    724\u001b[0m     residual \u001b[38;5;241m=\u001b[39m residual\u001b[38;5;241m.\u001b[39mtake(terminal_region, axis\u001b[38;5;241m=\u001b[39m\u001b[38;5;241m0\u001b[39m)\n\u001b[0;32m    725\u001b[0m     y \u001b[38;5;241m=\u001b[39m y\u001b[38;5;241m.\u001b[39mtake(terminal_region, axis\u001b[38;5;241m=\u001b[39m\u001b[38;5;241m0\u001b[39m)\n",
      "File \u001b[1;32m~\\AppData\\Roaming\\Python\\Python311\\site-packages\\numpy\\core\\multiarray.py:346\u001b[0m, in \u001b[0;36mwhere\u001b[1;34m(condition, x, y)\u001b[0m\n\u001b[0;32m    256\u001b[0m \u001b[38;5;250m    \u001b[39m\u001b[38;5;124;03m\"\"\"\u001b[39;00m\n\u001b[0;32m    257\u001b[0m \u001b[38;5;124;03m    inner(a, b, /)\u001b[39;00m\n\u001b[0;32m    258\u001b[0m \n\u001b[1;32m   (...)\u001b[0m\n\u001b[0;32m    341\u001b[0m \n\u001b[0;32m    342\u001b[0m \u001b[38;5;124;03m    \"\"\"\u001b[39;00m\n\u001b[0;32m    343\u001b[0m     \u001b[38;5;28;01mreturn\u001b[39;00m (a, b)\n\u001b[1;32m--> 346\u001b[0m \u001b[38;5;129m@array_function_from_c_func_and_dispatcher\u001b[39m(_multiarray_umath\u001b[38;5;241m.\u001b[39mwhere)\n\u001b[0;32m    347\u001b[0m \u001b[38;5;28;01mdef\u001b[39;00m \u001b[38;5;21mwhere\u001b[39m(condition, x\u001b[38;5;241m=\u001b[39m\u001b[38;5;28;01mNone\u001b[39;00m, y\u001b[38;5;241m=\u001b[39m\u001b[38;5;28;01mNone\u001b[39;00m):\n\u001b[0;32m    348\u001b[0m \u001b[38;5;250m    \u001b[39m\u001b[38;5;124;03m\"\"\"\u001b[39;00m\n\u001b[0;32m    349\u001b[0m \u001b[38;5;124;03m    where(condition, [x, y], /)\u001b[39;00m\n\u001b[0;32m    350\u001b[0m \n\u001b[1;32m   (...)\u001b[0m\n\u001b[0;32m    416\u001b[0m \u001b[38;5;124;03m           [ 0,  3, -1]])\u001b[39;00m\n\u001b[0;32m    417\u001b[0m \u001b[38;5;124;03m    \"\"\"\u001b[39;00m\n\u001b[0;32m    418\u001b[0m     \u001b[38;5;28;01mreturn\u001b[39;00m (condition, x, y)\n",
      "\u001b[1;31mKeyboardInterrupt\u001b[0m: "
     ]
    }
   ],
   "source": [
    "# Inicjalizacja modelu Gradient Boosting Classifier\n",
    "gb = GradientBoostingClassifier()\n",
    "\n",
    "# Definiowanie siatki hiperparametrów do przetestowania\n",
    "param_grid = {\n",
    "    'n_estimators': [100, 200, 300],  # Liczba drzew w ensemble\n",
    "    'learning_rate': [0.01, 0.1, 0.2], # Szybkość uczenia\n",
    "    'max_depth': [3, 5, 7],            # Maksymalna głębokość drzewa\n",
    "    'min_samples_split': [2, 4],       # Minimalna liczba próbek wymagana do podziału węzła\n",
    "    'min_samples_leaf': [1, 2]         # Minimalna liczba próbek w liściu\n",
    "}\n",
    "\n",
    "# Utworzenie obiektu GridSearchCV\n",
    "grid_search = GridSearchCV(estimator=gb, param_grid=param_grid, cv=5, scoring='accuracy')\n",
    "\n",
    "# Przeszukiwanie siatki parametrów\n",
    "grid_search.fit(x_train4, y_train4)\n",
    "\n",
    "# Najlepsze parametry i najlepszy model\n",
    "print(\"Najlepsze parametry: \", grid_search.best_params_)\n",
    "best_gb = grid_search.best_estimator_\n",
    "\n",
    "# Predykcje na zbiorze treningowym i testowym\n",
    "ypred_train6 = best_gb.predict(x_train4)\n",
    "y_pred_test6 = best_gb.predict(x_test4)\n",
    "\n",
    "# Ocena modelu\n",
    "print(\"Accuracy on Training set: \", accuracy_score(y_train4, ypred_train6))\n",
    "print(\"Accuracy on Test set: \", accuracy_score(y_test4, y_pred_test6))\n",
    "print(\"\\nTraining Results\\n\")\n",
    "print(classification_report(y_train4, ypred_train6))\n",
    "print('Testing Results\\n')\n",
    "print(classification_report(y_test4, y_pred_test6))\n",
    "\n",
    "# cross_val_scores = cross_val_score(best_gb, x_train4, y_train4, cv=5)\n",
    "# print(\"Cross-validation scores:\", cross_val_scores)\n",
    "# print(\"Average cross-validation score:\", np.mean(cross_val_scores))\n",
    "\n",
    "# Krzywa ROC\n",
    "y_proba_test6 = best_gb.predict_proba(x_test4)[:, 1]\n",
    "fpr, tpr, thresholds = roc_curve(y_test4, y_proba_test6)\n",
    "plt.plot(fpr, tpr)\n",
    "plt.title(\"ROC Curve with AUC = {:.2f}\".format(roc_auc_score(y_test4, y_proba_test6)))\n",
    "plt.show()"
   ]
  },
  {
   "cell_type": "markdown",
   "metadata": {},
   "source": [
    "## KNN"
   ]
  },
  {
   "cell_type": "code",
   "execution_count": 25,
   "metadata": {},
   "outputs": [
    {
     "data": {
      "text/html": [
       "<style>#sk-container-id-4 {color: black;}#sk-container-id-4 pre{padding: 0;}#sk-container-id-4 div.sk-toggleable {background-color: white;}#sk-container-id-4 label.sk-toggleable__label {cursor: pointer;display: block;width: 100%;margin-bottom: 0;padding: 0.3em;box-sizing: border-box;text-align: center;}#sk-container-id-4 label.sk-toggleable__label-arrow:before {content: \"▸\";float: left;margin-right: 0.25em;color: #696969;}#sk-container-id-4 label.sk-toggleable__label-arrow:hover:before {color: black;}#sk-container-id-4 div.sk-estimator:hover label.sk-toggleable__label-arrow:before {color: black;}#sk-container-id-4 div.sk-toggleable__content {max-height: 0;max-width: 0;overflow: hidden;text-align: left;background-color: #f0f8ff;}#sk-container-id-4 div.sk-toggleable__content pre {margin: 0.2em;color: black;border-radius: 0.25em;background-color: #f0f8ff;}#sk-container-id-4 input.sk-toggleable__control:checked~div.sk-toggleable__content {max-height: 200px;max-width: 100%;overflow: auto;}#sk-container-id-4 input.sk-toggleable__control:checked~label.sk-toggleable__label-arrow:before {content: \"▾\";}#sk-container-id-4 div.sk-estimator input.sk-toggleable__control:checked~label.sk-toggleable__label {background-color: #d4ebff;}#sk-container-id-4 div.sk-label input.sk-toggleable__control:checked~label.sk-toggleable__label {background-color: #d4ebff;}#sk-container-id-4 input.sk-hidden--visually {border: 0;clip: rect(1px 1px 1px 1px);clip: rect(1px, 1px, 1px, 1px);height: 1px;margin: -1px;overflow: hidden;padding: 0;position: absolute;width: 1px;}#sk-container-id-4 div.sk-estimator {font-family: monospace;background-color: #f0f8ff;border: 1px dotted black;border-radius: 0.25em;box-sizing: border-box;margin-bottom: 0.5em;}#sk-container-id-4 div.sk-estimator:hover {background-color: #d4ebff;}#sk-container-id-4 div.sk-parallel-item::after {content: \"\";width: 100%;border-bottom: 1px solid gray;flex-grow: 1;}#sk-container-id-4 div.sk-label:hover label.sk-toggleable__label {background-color: #d4ebff;}#sk-container-id-4 div.sk-serial::before {content: \"\";position: absolute;border-left: 1px solid gray;box-sizing: border-box;top: 0;bottom: 0;left: 50%;z-index: 0;}#sk-container-id-4 div.sk-serial {display: flex;flex-direction: column;align-items: center;background-color: white;padding-right: 0.2em;padding-left: 0.2em;position: relative;}#sk-container-id-4 div.sk-item {position: relative;z-index: 1;}#sk-container-id-4 div.sk-parallel {display: flex;align-items: stretch;justify-content: center;background-color: white;position: relative;}#sk-container-id-4 div.sk-item::before, #sk-container-id-4 div.sk-parallel-item::before {content: \"\";position: absolute;border-left: 1px solid gray;box-sizing: border-box;top: 0;bottom: 0;left: 50%;z-index: -1;}#sk-container-id-4 div.sk-parallel-item {display: flex;flex-direction: column;z-index: 1;position: relative;background-color: white;}#sk-container-id-4 div.sk-parallel-item:first-child::after {align-self: flex-end;width: 50%;}#sk-container-id-4 div.sk-parallel-item:last-child::after {align-self: flex-start;width: 50%;}#sk-container-id-4 div.sk-parallel-item:only-child::after {width: 0;}#sk-container-id-4 div.sk-dashed-wrapped {border: 1px dashed gray;margin: 0 0.4em 0.5em 0.4em;box-sizing: border-box;padding-bottom: 0.4em;background-color: white;}#sk-container-id-4 div.sk-label label {font-family: monospace;font-weight: bold;display: inline-block;line-height: 1.2em;}#sk-container-id-4 div.sk-label-container {text-align: center;}#sk-container-id-4 div.sk-container {/* jupyter's `normalize.less` sets `[hidden] { display: none; }` but bootstrap.min.css set `[hidden] { display: none !important; }` so we also need the `!important` here to be able to override the default hidden behavior on the sphinx rendered scikit-learn.org. See: https://github.com/scikit-learn/scikit-learn/issues/21755 */display: inline-block !important;position: relative;}#sk-container-id-4 div.sk-text-repr-fallback {display: none;}</style><div id=\"sk-container-id-4\" class=\"sk-top-container\"><div class=\"sk-text-repr-fallback\"><pre>KNeighborsClassifier()</pre><b>In a Jupyter environment, please rerun this cell to show the HTML representation or trust the notebook. <br />On GitHub, the HTML representation is unable to render, please try loading this page with nbviewer.org.</b></div><div class=\"sk-container\" hidden><div class=\"sk-item\"><div class=\"sk-estimator sk-toggleable\"><input class=\"sk-toggleable__control sk-hidden--visually\" id=\"sk-estimator-id-6\" type=\"checkbox\" checked><label for=\"sk-estimator-id-6\" class=\"sk-toggleable__label sk-toggleable__label-arrow\">KNeighborsClassifier</label><div class=\"sk-toggleable__content\"><pre>KNeighborsClassifier()</pre></div></div></div></div></div>"
      ],
      "text/plain": [
       "KNeighborsClassifier()"
      ]
     },
     "execution_count": 25,
     "metadata": {},
     "output_type": "execute_result"
    }
   ],
   "source": [
    "knn = KNeighborsClassifier()\n",
    "knn.fit(x_train4, y_train4)\n"
   ]
  },
  {
   "cell_type": "code",
   "execution_count": 26,
   "metadata": {},
   "outputs": [],
   "source": [
    "grid_cv = GridSearchCV(KNeighborsClassifier(), \n",
    "                       param_grid={\n",
    "                           \"n_neighbors\": range(1, 50)\n",
    "                       }, cv=5, scoring=\"f1\", \n",
    "                       verbose=1, n_jobs=6)\n"
   ]
  },
  {
   "cell_type": "code",
   "execution_count": 27,
   "metadata": {},
   "outputs": [
    {
     "name": "stdout",
     "output_type": "stream",
     "text": [
      "Fitting 5 folds for each of 49 candidates, totalling 245 fits\n"
     ]
    },
    {
     "data": {
      "text/html": [
       "<style>#sk-container-id-5 {color: black;}#sk-container-id-5 pre{padding: 0;}#sk-container-id-5 div.sk-toggleable {background-color: white;}#sk-container-id-5 label.sk-toggleable__label {cursor: pointer;display: block;width: 100%;margin-bottom: 0;padding: 0.3em;box-sizing: border-box;text-align: center;}#sk-container-id-5 label.sk-toggleable__label-arrow:before {content: \"▸\";float: left;margin-right: 0.25em;color: #696969;}#sk-container-id-5 label.sk-toggleable__label-arrow:hover:before {color: black;}#sk-container-id-5 div.sk-estimator:hover label.sk-toggleable__label-arrow:before {color: black;}#sk-container-id-5 div.sk-toggleable__content {max-height: 0;max-width: 0;overflow: hidden;text-align: left;background-color: #f0f8ff;}#sk-container-id-5 div.sk-toggleable__content pre {margin: 0.2em;color: black;border-radius: 0.25em;background-color: #f0f8ff;}#sk-container-id-5 input.sk-toggleable__control:checked~div.sk-toggleable__content {max-height: 200px;max-width: 100%;overflow: auto;}#sk-container-id-5 input.sk-toggleable__control:checked~label.sk-toggleable__label-arrow:before {content: \"▾\";}#sk-container-id-5 div.sk-estimator input.sk-toggleable__control:checked~label.sk-toggleable__label {background-color: #d4ebff;}#sk-container-id-5 div.sk-label input.sk-toggleable__control:checked~label.sk-toggleable__label {background-color: #d4ebff;}#sk-container-id-5 input.sk-hidden--visually {border: 0;clip: rect(1px 1px 1px 1px);clip: rect(1px, 1px, 1px, 1px);height: 1px;margin: -1px;overflow: hidden;padding: 0;position: absolute;width: 1px;}#sk-container-id-5 div.sk-estimator {font-family: monospace;background-color: #f0f8ff;border: 1px dotted black;border-radius: 0.25em;box-sizing: border-box;margin-bottom: 0.5em;}#sk-container-id-5 div.sk-estimator:hover {background-color: #d4ebff;}#sk-container-id-5 div.sk-parallel-item::after {content: \"\";width: 100%;border-bottom: 1px solid gray;flex-grow: 1;}#sk-container-id-5 div.sk-label:hover label.sk-toggleable__label {background-color: #d4ebff;}#sk-container-id-5 div.sk-serial::before {content: \"\";position: absolute;border-left: 1px solid gray;box-sizing: border-box;top: 0;bottom: 0;left: 50%;z-index: 0;}#sk-container-id-5 div.sk-serial {display: flex;flex-direction: column;align-items: center;background-color: white;padding-right: 0.2em;padding-left: 0.2em;position: relative;}#sk-container-id-5 div.sk-item {position: relative;z-index: 1;}#sk-container-id-5 div.sk-parallel {display: flex;align-items: stretch;justify-content: center;background-color: white;position: relative;}#sk-container-id-5 div.sk-item::before, #sk-container-id-5 div.sk-parallel-item::before {content: \"\";position: absolute;border-left: 1px solid gray;box-sizing: border-box;top: 0;bottom: 0;left: 50%;z-index: -1;}#sk-container-id-5 div.sk-parallel-item {display: flex;flex-direction: column;z-index: 1;position: relative;background-color: white;}#sk-container-id-5 div.sk-parallel-item:first-child::after {align-self: flex-end;width: 50%;}#sk-container-id-5 div.sk-parallel-item:last-child::after {align-self: flex-start;width: 50%;}#sk-container-id-5 div.sk-parallel-item:only-child::after {width: 0;}#sk-container-id-5 div.sk-dashed-wrapped {border: 1px dashed gray;margin: 0 0.4em 0.5em 0.4em;box-sizing: border-box;padding-bottom: 0.4em;background-color: white;}#sk-container-id-5 div.sk-label label {font-family: monospace;font-weight: bold;display: inline-block;line-height: 1.2em;}#sk-container-id-5 div.sk-label-container {text-align: center;}#sk-container-id-5 div.sk-container {/* jupyter's `normalize.less` sets `[hidden] { display: none; }` but bootstrap.min.css set `[hidden] { display: none !important; }` so we also need the `!important` here to be able to override the default hidden behavior on the sphinx rendered scikit-learn.org. See: https://github.com/scikit-learn/scikit-learn/issues/21755 */display: inline-block !important;position: relative;}#sk-container-id-5 div.sk-text-repr-fallback {display: none;}</style><div id=\"sk-container-id-5\" class=\"sk-top-container\"><div class=\"sk-text-repr-fallback\"><pre>GridSearchCV(cv=5, estimator=KNeighborsClassifier(), n_jobs=6,\n",
       "             param_grid={&#x27;n_neighbors&#x27;: range(1, 50)}, scoring=&#x27;f1&#x27;, verbose=1)</pre><b>In a Jupyter environment, please rerun this cell to show the HTML representation or trust the notebook. <br />On GitHub, the HTML representation is unable to render, please try loading this page with nbviewer.org.</b></div><div class=\"sk-container\" hidden><div class=\"sk-item sk-dashed-wrapped\"><div class=\"sk-label-container\"><div class=\"sk-label sk-toggleable\"><input class=\"sk-toggleable__control sk-hidden--visually\" id=\"sk-estimator-id-7\" type=\"checkbox\" ><label for=\"sk-estimator-id-7\" class=\"sk-toggleable__label sk-toggleable__label-arrow\">GridSearchCV</label><div class=\"sk-toggleable__content\"><pre>GridSearchCV(cv=5, estimator=KNeighborsClassifier(), n_jobs=6,\n",
       "             param_grid={&#x27;n_neighbors&#x27;: range(1, 50)}, scoring=&#x27;f1&#x27;, verbose=1)</pre></div></div></div><div class=\"sk-parallel\"><div class=\"sk-parallel-item\"><div class=\"sk-item\"><div class=\"sk-label-container\"><div class=\"sk-label sk-toggleable\"><input class=\"sk-toggleable__control sk-hidden--visually\" id=\"sk-estimator-id-8\" type=\"checkbox\" ><label for=\"sk-estimator-id-8\" class=\"sk-toggleable__label sk-toggleable__label-arrow\">estimator: KNeighborsClassifier</label><div class=\"sk-toggleable__content\"><pre>KNeighborsClassifier()</pre></div></div></div><div class=\"sk-serial\"><div class=\"sk-item\"><div class=\"sk-estimator sk-toggleable\"><input class=\"sk-toggleable__control sk-hidden--visually\" id=\"sk-estimator-id-9\" type=\"checkbox\" ><label for=\"sk-estimator-id-9\" class=\"sk-toggleable__label sk-toggleable__label-arrow\">KNeighborsClassifier</label><div class=\"sk-toggleable__content\"><pre>KNeighborsClassifier()</pre></div></div></div></div></div></div></div></div></div></div>"
      ],
      "text/plain": [
       "GridSearchCV(cv=5, estimator=KNeighborsClassifier(), n_jobs=6,\n",
       "             param_grid={'n_neighbors': range(1, 50)}, scoring='f1', verbose=1)"
      ]
     },
     "execution_count": 27,
     "metadata": {},
     "output_type": "execute_result"
    }
   ],
   "source": [
    "grid_cv.fit(x_train4, \n",
    "            y_train4)"
   ]
  },
  {
   "cell_type": "code",
   "execution_count": 28,
   "metadata": {},
   "outputs": [
    {
     "data": {
      "text/plain": [
       "0.7397215916860129"
      ]
     },
     "execution_count": 28,
     "metadata": {},
     "output_type": "execute_result"
    }
   ],
   "source": [
    "grid_cv.best_score_"
   ]
  },
  {
   "cell_type": "code",
   "execution_count": 29,
   "metadata": {},
   "outputs": [
    {
     "data": {
      "text/html": [
       "<style>#sk-container-id-6 {color: black;}#sk-container-id-6 pre{padding: 0;}#sk-container-id-6 div.sk-toggleable {background-color: white;}#sk-container-id-6 label.sk-toggleable__label {cursor: pointer;display: block;width: 100%;margin-bottom: 0;padding: 0.3em;box-sizing: border-box;text-align: center;}#sk-container-id-6 label.sk-toggleable__label-arrow:before {content: \"▸\";float: left;margin-right: 0.25em;color: #696969;}#sk-container-id-6 label.sk-toggleable__label-arrow:hover:before {color: black;}#sk-container-id-6 div.sk-estimator:hover label.sk-toggleable__label-arrow:before {color: black;}#sk-container-id-6 div.sk-toggleable__content {max-height: 0;max-width: 0;overflow: hidden;text-align: left;background-color: #f0f8ff;}#sk-container-id-6 div.sk-toggleable__content pre {margin: 0.2em;color: black;border-radius: 0.25em;background-color: #f0f8ff;}#sk-container-id-6 input.sk-toggleable__control:checked~div.sk-toggleable__content {max-height: 200px;max-width: 100%;overflow: auto;}#sk-container-id-6 input.sk-toggleable__control:checked~label.sk-toggleable__label-arrow:before {content: \"▾\";}#sk-container-id-6 div.sk-estimator input.sk-toggleable__control:checked~label.sk-toggleable__label {background-color: #d4ebff;}#sk-container-id-6 div.sk-label input.sk-toggleable__control:checked~label.sk-toggleable__label {background-color: #d4ebff;}#sk-container-id-6 input.sk-hidden--visually {border: 0;clip: rect(1px 1px 1px 1px);clip: rect(1px, 1px, 1px, 1px);height: 1px;margin: -1px;overflow: hidden;padding: 0;position: absolute;width: 1px;}#sk-container-id-6 div.sk-estimator {font-family: monospace;background-color: #f0f8ff;border: 1px dotted black;border-radius: 0.25em;box-sizing: border-box;margin-bottom: 0.5em;}#sk-container-id-6 div.sk-estimator:hover {background-color: #d4ebff;}#sk-container-id-6 div.sk-parallel-item::after {content: \"\";width: 100%;border-bottom: 1px solid gray;flex-grow: 1;}#sk-container-id-6 div.sk-label:hover label.sk-toggleable__label {background-color: #d4ebff;}#sk-container-id-6 div.sk-serial::before {content: \"\";position: absolute;border-left: 1px solid gray;box-sizing: border-box;top: 0;bottom: 0;left: 50%;z-index: 0;}#sk-container-id-6 div.sk-serial {display: flex;flex-direction: column;align-items: center;background-color: white;padding-right: 0.2em;padding-left: 0.2em;position: relative;}#sk-container-id-6 div.sk-item {position: relative;z-index: 1;}#sk-container-id-6 div.sk-parallel {display: flex;align-items: stretch;justify-content: center;background-color: white;position: relative;}#sk-container-id-6 div.sk-item::before, #sk-container-id-6 div.sk-parallel-item::before {content: \"\";position: absolute;border-left: 1px solid gray;box-sizing: border-box;top: 0;bottom: 0;left: 50%;z-index: -1;}#sk-container-id-6 div.sk-parallel-item {display: flex;flex-direction: column;z-index: 1;position: relative;background-color: white;}#sk-container-id-6 div.sk-parallel-item:first-child::after {align-self: flex-end;width: 50%;}#sk-container-id-6 div.sk-parallel-item:last-child::after {align-self: flex-start;width: 50%;}#sk-container-id-6 div.sk-parallel-item:only-child::after {width: 0;}#sk-container-id-6 div.sk-dashed-wrapped {border: 1px dashed gray;margin: 0 0.4em 0.5em 0.4em;box-sizing: border-box;padding-bottom: 0.4em;background-color: white;}#sk-container-id-6 div.sk-label label {font-family: monospace;font-weight: bold;display: inline-block;line-height: 1.2em;}#sk-container-id-6 div.sk-label-container {text-align: center;}#sk-container-id-6 div.sk-container {/* jupyter's `normalize.less` sets `[hidden] { display: none; }` but bootstrap.min.css set `[hidden] { display: none !important; }` so we also need the `!important` here to be able to override the default hidden behavior on the sphinx rendered scikit-learn.org. See: https://github.com/scikit-learn/scikit-learn/issues/21755 */display: inline-block !important;position: relative;}#sk-container-id-6 div.sk-text-repr-fallback {display: none;}</style><div id=\"sk-container-id-6\" class=\"sk-top-container\"><div class=\"sk-text-repr-fallback\"><pre>KNeighborsClassifier(n_neighbors=37)</pre><b>In a Jupyter environment, please rerun this cell to show the HTML representation or trust the notebook. <br />On GitHub, the HTML representation is unable to render, please try loading this page with nbviewer.org.</b></div><div class=\"sk-container\" hidden><div class=\"sk-item\"><div class=\"sk-estimator sk-toggleable\"><input class=\"sk-toggleable__control sk-hidden--visually\" id=\"sk-estimator-id-10\" type=\"checkbox\" checked><label for=\"sk-estimator-id-10\" class=\"sk-toggleable__label sk-toggleable__label-arrow\">KNeighborsClassifier</label><div class=\"sk-toggleable__content\"><pre>KNeighborsClassifier(n_neighbors=37)</pre></div></div></div></div></div>"
      ],
      "text/plain": [
       "KNeighborsClassifier(n_neighbors=37)"
      ]
     },
     "execution_count": 29,
     "metadata": {},
     "output_type": "execute_result"
    }
   ],
   "source": [
    "knn = grid_cv.best_estimator_\n",
    "knn"
   ]
  },
  {
   "cell_type": "code",
   "execution_count": 30,
   "metadata": {},
   "outputs": [
    {
     "name": "stdout",
     "output_type": "stream",
     "text": [
      "XGBClassifier Accuracy:  0.7281299598543554\n"
     ]
    }
   ],
   "source": [
    "ypred_train7 = grid_cv.predict(x_train4)\n",
    "y_pred_test7 = grid_cv.predict(x_test4)\n",
    "print(\"XGBClassifier Accuracy: \",accuracy_score(y_test4, y_pred_test7))"
   ]
  },
  {
   "cell_type": "code",
   "execution_count": null,
   "metadata": {},
   "outputs": [],
   "source": []
  },
  {
   "cell_type": "code",
   "execution_count": 31,
   "metadata": {},
   "outputs": [
    {
     "name": "stdout",
     "output_type": "stream",
     "text": [
      "Training Results\n",
      "\n",
      "              precision    recall  f1-score   support\n",
      "\n",
      "         0.0       0.77      0.68      0.72     16021\n",
      "         1.0       0.71      0.80      0.76     16110\n",
      "\n",
      "    accuracy                           0.74     32131\n",
      "   macro avg       0.74      0.74      0.74     32131\n",
      "weighted avg       0.74      0.74      0.74     32131\n",
      "\n",
      "Testing Results\n",
      "\n",
      "              precision    recall  f1-score   support\n",
      "\n",
      "         0.0       0.76      0.67      0.71      5400\n",
      "         1.0       0.70      0.79      0.74      5311\n",
      "\n",
      "    accuracy                           0.73     10711\n",
      "   macro avg       0.73      0.73      0.73     10711\n",
      "weighted avg       0.73      0.73      0.73     10711\n",
      "\n"
     ]
    }
   ],
   "source": [
    "print(\"Training Results\\n\")\n",
    "print(classification_report(y_train4, ypred_train7))\n",
    "print(\"Testing Results\\n\")\n",
    "print(classification_report(y_test4, y_pred_test7))"
   ]
  },
  {
   "cell_type": "code",
   "execution_count": 32,
   "metadata": {},
   "outputs": [
    {
     "data": {
      "image/png": "[encoded data removed]",
      "text/plain": [
       "<Figure size 640x480 with 1 Axes>"
      ]
     },
     "metadata": {},
     "output_type": "display_data"
    }
   ],
   "source": [
    "# cross_val_scores = cross_val_score(grid_cv, x_train4, y_train4, cv=5)\n",
    "# print(\"Cross-validation scores:\", cross_val_scores)\n",
    "# print(\"Average cross-validation score:\", np.mean(cross_val_scores))\n",
    "y_proba_test = grid_cv.predict_proba(x_test4)[:, 1]\n",
    "\n",
    "\n",
    "fpr, tpr, thresholds = roc_curve(y_test4, y_proba_test)\n",
    "\n",
    "\n",
    "plt.plot(fpr, tpr, label='ROC Curve')\n",
    "plt.xlabel('False Positive Rate')\n",
    "plt.ylabel('True Positive Rate')\n",
    "plt.title('ROC Curve with AUC = {:.2f}'.format(roc_auc_score(y_test4, y_proba_test)))\n",
    "plt.legend(loc='lower right')\n",
    "plt.grid(True)\n",
    "plt.show()"
   ]
  },
  {
   "cell_type": "markdown",
   "metadata": {},
   "source": [
    "## SIECI NEURONOWE"
   ]
  },
  {
   "cell_type": "markdown",
   "metadata": {},
   "source": [
    "## ANN"
   ]
  },
  {
   "cell_type": "code",
   "execution_count": 33,
   "metadata": {},
   "outputs": [
    {
     "name": "stdout",
     "output_type": "stream",
     "text": [
      "WARNING:tensorflow:From C:\\Users\\DELL\\AppData\\Roaming\\Python\\Python311\\site-packages\\keras\\src\\backend.py:873: The name tf.get_default_graph is deprecated. Please use tf.compat.v1.get_default_graph instead.\n",
      "\n"
     ]
    }
   ],
   "source": [
    "ann = tf.keras.models.Sequential()"
   ]
  },
  {
   "cell_type": "code",
   "execution_count": 34,
   "metadata": {},
   "outputs": [],
   "source": [
    "early_stop = EarlyStopping(monitor='val_loss', mode='min', verbose=1, patience=25)\n"
   ]
  },
  {
   "cell_type": "code",
   "execution_count": 35,
   "metadata": {},
   "outputs": [],
   "source": [
    "ann.add(tf.keras.layers.Dense(units=14, activation='relu'))"
   ]
  },
  {
   "cell_type": "code",
   "execution_count": 36,
   "metadata": {},
   "outputs": [],
   "source": [
    "ann.add(tf.keras.layers.Dense(units=6, activation='relu'))"
   ]
  },
  {
   "cell_type": "code",
   "execution_count": 37,
   "metadata": {},
   "outputs": [],
   "source": [
    "ann.add(tf.keras.layers.Dense(units=1, activation='sigmoid'))"
   ]
  },
  {
   "cell_type": "code",
   "execution_count": 38,
   "metadata": {},
   "outputs": [
    {
     "name": "stdout",
     "output_type": "stream",
     "text": [
      "WARNING:tensorflow:From C:\\Users\\DELL\\AppData\\Roaming\\Python\\Python311\\site-packages\\keras\\src\\optimizers\\__init__.py:309: The name tf.train.Optimizer is deprecated. Please use tf.compat.v1.train.Optimizer instead.\n",
      "\n"
     ]
    }
   ],
   "source": [
    "ann.compile(optimizer = 'adam', loss = 'binary_crossentropy', metrics = ['accuracy'])"
   ]
  },
  {
   "cell_type": "code",
   "execution_count": 39,
   "metadata": {},
   "outputs": [
    {
     "name": "stdout",
     "output_type": "stream",
     "text": [
      "Epoch 1/100\n",
      "WARNING:tensorflow:From C:\\Users\\DELL\\AppData\\Roaming\\Python\\Python311\\site-packages\\keras\\src\\utils\\tf_utils.py:492: The name tf.ragged.RaggedTensorValue is deprecated. Please use tf.compat.v1.ragged.RaggedTensorValue instead.\n",
      "\n",
      "WARNING:tensorflow:From C:\\Users\\DELL\\AppData\\Roaming\\Python\\Python311\\site-packages\\keras\\src\\engine\\base_layer_utils.py:384: The name tf.executing_eagerly_outside_functions is deprecated. Please use tf.compat.v1.executing_eagerly_outside_functions instead.\n",
      "\n",
      "1005/1005 [==============================] - 2s 2ms/step - loss: 0.5984 - accuracy: 0.6773 - val_loss: 0.5519 - val_accuracy: 0.7176\n",
      "Epoch 2/100\n",
      "1005/1005 [==============================] - 2s 2ms/step - loss: 0.5452 - accuracy: 0.7238 - val_loss: 0.5358 - val_accuracy: 0.7317\n",
      "Epoch 3/100\n",
      "1005/1005 [==============================] - 2s 2ms/step - loss: 0.5391 - accuracy: 0.7279 - val_loss: 0.5334 - val_accuracy: 0.7329\n",
      "Epoch 4/100\n",
      "1005/1005 [==============================] - 2s 2ms/step - loss: 0.5369 - accuracy: 0.7304 - val_loss: 0.5330 - val_accuracy: 0.7331\n",
      "Epoch 5/100\n",
      "1005/1005 [==============================] - 2s 2ms/step - loss: 0.5357 - accuracy: 0.7330 - val_loss: 0.5309 - val_accuracy: 0.7331\n",
      "Epoch 6/100\n",
      "1005/1005 [==============================] - 2s 2ms/step - loss: 0.5346 - accuracy: 0.7323 - val_loss: 0.5301 - val_accuracy: 0.7349\n",
      "Epoch 7/100\n",
      "1005/1005 [==============================] - 2s 2ms/step - loss: 0.5340 - accuracy: 0.7317 - val_loss: 0.5316 - val_accuracy: 0.7343\n",
      "Epoch 8/100\n",
      "1005/1005 [==============================] - 2s 2ms/step - loss: 0.5335 - accuracy: 0.7332 - val_loss: 0.5338 - val_accuracy: 0.7349\n",
      "Epoch 9/100\n",
      "1005/1005 [==============================] - 2s 2ms/step - loss: 0.5328 - accuracy: 0.7326 - val_loss: 0.5287 - val_accuracy: 0.7344\n",
      "Epoch 10/100\n",
      "1005/1005 [==============================] - 2s 2ms/step - loss: 0.5322 - accuracy: 0.7367 - val_loss: 0.5300 - val_accuracy: 0.7349\n",
      "Epoch 11/100\n",
      "1005/1005 [==============================] - 2s 2ms/step - loss: 0.5320 - accuracy: 0.7345 - val_loss: 0.5281 - val_accuracy: 0.7342\n",
      "Epoch 12/100\n",
      "1005/1005 [==============================] - 2s 2ms/step - loss: 0.5314 - accuracy: 0.7357 - val_loss: 0.5322 - val_accuracy: 0.7355\n",
      "Epoch 13/100\n",
      "1005/1005 [==============================] - 2s 2ms/step - loss: 0.5312 - accuracy: 0.7350 - val_loss: 0.5280 - val_accuracy: 0.7373\n",
      "Epoch 14/100\n",
      "1005/1005 [==============================] - 2s 2ms/step - loss: 0.5314 - accuracy: 0.7349 - val_loss: 0.5281 - val_accuracy: 0.7348\n",
      "Epoch 15/100\n",
      "1005/1005 [==============================] - 2s 2ms/step - loss: 0.5309 - accuracy: 0.7349 - val_loss: 0.5273 - val_accuracy: 0.7351\n",
      "Epoch 16/100\n",
      "1005/1005 [==============================] - 2s 2ms/step - loss: 0.5307 - accuracy: 0.7355 - val_loss: 0.5270 - val_accuracy: 0.7363\n",
      "Epoch 17/100\n",
      "1005/1005 [==============================] - 2s 2ms/step - loss: 0.5306 - accuracy: 0.7360 - val_loss: 0.5275 - val_accuracy: 0.7369\n",
      "Epoch 18/100\n",
      "1005/1005 [==============================] - 2s 2ms/step - loss: 0.5301 - accuracy: 0.7364 - val_loss: 0.5266 - val_accuracy: 0.7350\n",
      "Epoch 19/100\n",
      "1005/1005 [==============================] - 2s 2ms/step - loss: 0.5295 - accuracy: 0.7342 - val_loss: 0.5273 - val_accuracy: 0.7378\n",
      "Epoch 20/100\n",
      "1005/1005 [==============================] - 2s 2ms/step - loss: 0.5297 - accuracy: 0.7349 - val_loss: 0.5251 - val_accuracy: 0.7376\n",
      "Epoch 21/100\n",
      "1005/1005 [==============================] - 2s 2ms/step - loss: 0.5294 - accuracy: 0.7356 - val_loss: 0.5250 - val_accuracy: 0.7371\n",
      "Epoch 22/100\n",
      "1005/1005 [==============================] - 2s 2ms/step - loss: 0.5293 - accuracy: 0.7362 - val_loss: 0.5247 - val_accuracy: 0.7382\n",
      "Epoch 23/100\n",
      "1005/1005 [==============================] - 2s 2ms/step - loss: 0.5289 - accuracy: 0.7359 - val_loss: 0.5244 - val_accuracy: 0.7392\n",
      "Epoch 24/100\n",
      "1005/1005 [==============================] - 2s 2ms/step - loss: 0.5286 - accuracy: 0.7356 - val_loss: 0.5284 - val_accuracy: 0.7366\n",
      "Epoch 25/100\n",
      "1005/1005 [==============================] - 2s 2ms/step - loss: 0.5287 - accuracy: 0.7360 - val_loss: 0.5241 - val_accuracy: 0.7381\n",
      "Epoch 26/100\n",
      "1005/1005 [==============================] - 2s 2ms/step - loss: 0.5287 - accuracy: 0.7366 - val_loss: 0.5254 - val_accuracy: 0.7385\n",
      "Epoch 27/100\n",
      "1005/1005 [==============================] - 2s 2ms/step - loss: 0.5285 - accuracy: 0.7367 - val_loss: 0.5255 - val_accuracy: 0.7393\n",
      "Epoch 28/100\n",
      "1005/1005 [==============================] - 2s 2ms/step - loss: 0.5284 - accuracy: 0.7367 - val_loss: 0.5253 - val_accuracy: 0.7402\n",
      "Epoch 29/100\n",
      "1005/1005 [==============================] - 2s 2ms/step - loss: 0.5283 - accuracy: 0.7365 - val_loss: 0.5252 - val_accuracy: 0.7400\n",
      "Epoch 30/100\n",
      "1005/1005 [==============================] - 2s 2ms/step - loss: 0.5282 - accuracy: 0.7375 - val_loss: 0.5246 - val_accuracy: 0.7370\n",
      "Epoch 31/100\n",
      "1005/1005 [==============================] - 2s 2ms/step - loss: 0.5278 - accuracy: 0.7377 - val_loss: 0.5255 - val_accuracy: 0.7378\n",
      "Epoch 32/100\n",
      "1005/1005 [==============================] - 2s 2ms/step - loss: 0.5278 - accuracy: 0.7357 - val_loss: 0.5296 - val_accuracy: 0.7367\n",
      "Epoch 33/100\n",
      "1005/1005 [==============================] - 2s 2ms/step - loss: 0.5277 - accuracy: 0.7380 - val_loss: 0.5262 - val_accuracy: 0.7386\n",
      "Epoch 34/100\n",
      "1005/1005 [==============================] - 2s 2ms/step - loss: 0.5278 - accuracy: 0.7366 - val_loss: 0.5244 - val_accuracy: 0.7400\n",
      "Epoch 35/100\n",
      "1005/1005 [==============================] - 2s 2ms/step - loss: 0.5276 - accuracy: 0.7383 - val_loss: 0.5236 - val_accuracy: 0.7398\n",
      "Epoch 36/100\n",
      "1005/1005 [==============================] - 2s 2ms/step - loss: 0.5275 - accuracy: 0.7381 - val_loss: 0.5240 - val_accuracy: 0.7388\n",
      "Epoch 37/100\n",
      "1005/1005 [==============================] - 1s 1ms/step - loss: 0.5275 - accuracy: 0.7365 - val_loss: 0.5233 - val_accuracy: 0.7398\n",
      "Epoch 38/100\n",
      "1005/1005 [==============================] - 1s 1ms/step - loss: 0.5273 - accuracy: 0.7369 - val_loss: 0.5237 - val_accuracy: 0.7391\n",
      "Epoch 39/100\n",
      "1005/1005 [==============================] - 1s 1ms/step - loss: 0.5274 - accuracy: 0.7378 - val_loss: 0.5243 - val_accuracy: 0.7379\n",
      "Epoch 40/100\n",
      "1005/1005 [==============================] - 1s 1ms/step - loss: 0.5274 - accuracy: 0.7382 - val_loss: 0.5234 - val_accuracy: 0.7419\n",
      "Epoch 41/100\n",
      "1005/1005 [==============================] - 1s 1ms/step - loss: 0.5269 - accuracy: 0.7364 - val_loss: 0.5283 - val_accuracy: 0.7368\n",
      "Epoch 42/100\n",
      "1005/1005 [==============================] - 1s 1ms/step - loss: 0.5272 - accuracy: 0.7371 - val_loss: 0.5260 - val_accuracy: 0.7383\n",
      "Epoch 43/100\n",
      "1005/1005 [==============================] - 1s 1ms/step - loss: 0.5267 - accuracy: 0.7375 - val_loss: 0.5266 - val_accuracy: 0.7394\n",
      "Epoch 44/100\n",
      "1005/1005 [==============================] - 1s 1ms/step - loss: 0.5271 - accuracy: 0.7383 - val_loss: 0.5239 - val_accuracy: 0.7397\n",
      "Epoch 45/100\n",
      "1005/1005 [==============================] - 1s 1ms/step - loss: 0.5265 - accuracy: 0.7384 - val_loss: 0.5243 - val_accuracy: 0.7392\n",
      "Epoch 46/100\n",
      "1005/1005 [==============================] - 1s 1ms/step - loss: 0.5266 - accuracy: 0.7378 - val_loss: 0.5238 - val_accuracy: 0.7394\n",
      "Epoch 47/100\n",
      "1005/1005 [==============================] - 1s 1ms/step - loss: 0.5269 - accuracy: 0.7369 - val_loss: 0.5230 - val_accuracy: 0.7418\n",
      "Epoch 48/100\n",
      "1005/1005 [==============================] - 1s 1ms/step - loss: 0.5264 - accuracy: 0.7381 - val_loss: 0.5271 - val_accuracy: 0.7387\n",
      "Epoch 49/100\n",
      "1005/1005 [==============================] - 1s 1ms/step - loss: 0.5266 - accuracy: 0.7387 - val_loss: 0.5233 - val_accuracy: 0.7416\n",
      "Epoch 50/100\n",
      "1005/1005 [==============================] - 1s 1ms/step - loss: 0.5267 - accuracy: 0.7368 - val_loss: 0.5226 - val_accuracy: 0.7412\n",
      "Epoch 51/100\n",
      "1005/1005 [==============================] - 2s 2ms/step - loss: 0.5265 - accuracy: 0.7385 - val_loss: 0.5228 - val_accuracy: 0.7417\n",
      "Epoch 52/100\n",
      "1005/1005 [==============================] - 1s 1ms/step - loss: 0.5257 - accuracy: 0.7375 - val_loss: 0.5232 - val_accuracy: 0.7412\n",
      "Epoch 53/100\n",
      "1005/1005 [==============================] - 2s 2ms/step - loss: 0.5264 - accuracy: 0.7389 - val_loss: 0.5239 - val_accuracy: 0.7406\n",
      "Epoch 54/100\n",
      "1005/1005 [==============================] - 2s 2ms/step - loss: 0.5264 - accuracy: 0.7385 - val_loss: 0.5231 - val_accuracy: 0.7417\n",
      "Epoch 55/100\n",
      "1005/1005 [==============================] - 1s 1ms/step - loss: 0.5256 - accuracy: 0.7392 - val_loss: 0.5251 - val_accuracy: 0.7410\n",
      "Epoch 56/100\n",
      "1005/1005 [==============================] - 1s 1ms/step - loss: 0.5263 - accuracy: 0.7383 - val_loss: 0.5229 - val_accuracy: 0.7415\n",
      "Epoch 57/100\n",
      "1005/1005 [==============================] - 2s 2ms/step - loss: 0.5260 - accuracy: 0.7392 - val_loss: 0.5226 - val_accuracy: 0.7419\n",
      "Epoch 58/100\n",
      "1005/1005 [==============================] - 2s 2ms/step - loss: 0.5261 - accuracy: 0.7373 - val_loss: 0.5238 - val_accuracy: 0.7409\n",
      "Epoch 59/100\n",
      "1005/1005 [==============================] - 2s 2ms/step - loss: 0.5262 - accuracy: 0.7386 - val_loss: 0.5243 - val_accuracy: 0.7402\n",
      "Epoch 60/100\n",
      "1005/1005 [==============================] - 2s 2ms/step - loss: 0.5258 - accuracy: 0.7391 - val_loss: 0.5224 - val_accuracy: 0.7420\n",
      "Epoch 61/100\n",
      "1005/1005 [==============================] - 2s 2ms/step - loss: 0.5255 - accuracy: 0.7381 - val_loss: 0.5227 - val_accuracy: 0.7418\n",
      "Epoch 62/100\n",
      "1005/1005 [==============================] - 2s 2ms/step - loss: 0.5256 - accuracy: 0.7379 - val_loss: 0.5219 - val_accuracy: 0.7414\n",
      "Epoch 63/100\n",
      "1005/1005 [==============================] - 2s 2ms/step - loss: 0.5257 - accuracy: 0.7378 - val_loss: 0.5235 - val_accuracy: 0.7403\n",
      "Epoch 64/100\n",
      "1005/1005 [==============================] - 1s 1ms/step - loss: 0.5259 - accuracy: 0.7374 - val_loss: 0.5221 - val_accuracy: 0.7425\n",
      "Epoch 65/100\n",
      "1005/1005 [==============================] - 1s 1ms/step - loss: 0.5257 - accuracy: 0.7379 - val_loss: 0.5228 - val_accuracy: 0.7403\n",
      "Epoch 66/100\n",
      "1005/1005 [==============================] - 1s 1ms/step - loss: 0.5256 - accuracy: 0.7384 - val_loss: 0.5233 - val_accuracy: 0.7405\n",
      "Epoch 67/100\n",
      "1005/1005 [==============================] - 2s 2ms/step - loss: 0.5258 - accuracy: 0.7388 - val_loss: 0.5226 - val_accuracy: 0.7405\n",
      "Epoch 68/100\n",
      "1005/1005 [==============================] - 2s 2ms/step - loss: 0.5255 - accuracy: 0.7393 - val_loss: 0.5230 - val_accuracy: 0.7415\n",
      "Epoch 69/100\n",
      "1005/1005 [==============================] - 1s 1ms/step - loss: 0.5258 - accuracy: 0.7396 - val_loss: 0.5245 - val_accuracy: 0.7408\n",
      "Epoch 70/100\n",
      "1005/1005 [==============================] - 1s 1ms/step - loss: 0.5255 - accuracy: 0.7391 - val_loss: 0.5234 - val_accuracy: 0.7415\n",
      "Epoch 71/100\n",
      "1005/1005 [==============================] - 1s 1ms/step - loss: 0.5256 - accuracy: 0.7392 - val_loss: 0.5231 - val_accuracy: 0.7419\n",
      "Epoch 72/100\n",
      "1005/1005 [==============================] - 1s 1ms/step - loss: 0.5257 - accuracy: 0.7379 - val_loss: 0.5222 - val_accuracy: 0.7417\n",
      "Epoch 73/100\n",
      "1005/1005 [==============================] - 2s 1ms/step - loss: 0.5255 - accuracy: 0.7391 - val_loss: 0.5221 - val_accuracy: 0.7436\n",
      "Epoch 74/100\n",
      "1005/1005 [==============================] - 1s 1ms/step - loss: 0.5255 - accuracy: 0.7383 - val_loss: 0.5233 - val_accuracy: 0.7429\n",
      "Epoch 75/100\n",
      "1005/1005 [==============================] - 2s 2ms/step - loss: 0.5253 - accuracy: 0.7389 - val_loss: 0.5221 - val_accuracy: 0.7417\n",
      "Epoch 76/100\n",
      "1005/1005 [==============================] - 1s 1ms/step - loss: 0.5253 - accuracy: 0.7389 - val_loss: 0.5255 - val_accuracy: 0.7390\n",
      "Epoch 77/100\n",
      "1005/1005 [==============================] - 1s 1ms/step - loss: 0.5253 - accuracy: 0.7379 - val_loss: 0.5219 - val_accuracy: 0.7425\n",
      "Epoch 78/100\n",
      "1005/1005 [==============================] - 1s 1ms/step - loss: 0.5252 - accuracy: 0.7390 - val_loss: 0.5237 - val_accuracy: 0.7416\n",
      "Epoch 79/100\n",
      "1005/1005 [==============================] - 1s 1ms/step - loss: 0.5254 - accuracy: 0.7379 - val_loss: 0.5227 - val_accuracy: 0.7401\n",
      "Epoch 80/100\n",
      "1005/1005 [==============================] - 1s 1ms/step - loss: 0.5250 - accuracy: 0.7405 - val_loss: 0.5221 - val_accuracy: 0.7431\n",
      "Epoch 81/100\n",
      "1005/1005 [==============================] - 1s 1ms/step - loss: 0.5250 - accuracy: 0.7406 - val_loss: 0.5259 - val_accuracy: 0.7380\n",
      "Epoch 82/100\n",
      "1005/1005 [==============================] - 1s 1ms/step - loss: 0.5251 - accuracy: 0.7382 - val_loss: 0.5221 - val_accuracy: 0.7419\n",
      "Epoch 83/100\n",
      "1005/1005 [==============================] - 1s 1ms/step - loss: 0.5248 - accuracy: 0.7399 - val_loss: 0.5221 - val_accuracy: 0.7423\n",
      "Epoch 84/100\n",
      "1005/1005 [==============================] - 1s 1ms/step - loss: 0.5246 - accuracy: 0.7392 - val_loss: 0.5239 - val_accuracy: 0.7403\n",
      "Epoch 85/100\n",
      "1005/1005 [==============================] - 1s 1ms/step - loss: 0.5249 - accuracy: 0.7385 - val_loss: 0.5223 - val_accuracy: 0.7419\n",
      "Epoch 86/100\n",
      "1005/1005 [==============================] - 1s 1ms/step - loss: 0.5248 - accuracy: 0.7403 - val_loss: 0.5262 - val_accuracy: 0.7366\n",
      "Epoch 87/100\n",
      "1005/1005 [==============================] - 1s 1ms/step - loss: 0.5248 - accuracy: 0.7388 - val_loss: 0.5229 - val_accuracy: 0.7420\n",
      "Epoch 87: early stopping\n"
     ]
    },
    {
     "data": {
      "text/plain": [
       "<keras.src.callbacks.History at 0x2040156ff10>"
      ]
     },
     "execution_count": 39,
     "metadata": {},
     "output_type": "execute_result"
    }
   ],
   "source": [
    "ann.fit(x_train4, y_train4, batch_size = 32, epochs=100,\n",
    "          validation_data=(x_test4, y_test4), verbose=1,\n",
    "          callbacks=[early_stop])"
   ]
  },
  {
   "cell_type": "code",
   "execution_count": 40,
   "metadata": {},
   "outputs": [
    {
     "name": "stdout",
     "output_type": "stream",
     "text": [
      "1005/1005 [==============================] - 1s 915us/step\n",
      "335/335 [==============================] - 0s 943us/step\n",
      "[[1. 1.]\n",
      " [0. 0.]\n",
      " [1. 0.]\n",
      " ...\n",
      " [0. 1.]\n",
      " [0. 0.]\n",
      " [0. 0.]]\n"
     ]
    }
   ],
   "source": [
    "ypred_train8 = ann.predict(x_train4)\n",
    "y_pred_test8 = ann.predict(x_test4)\n",
    "\n",
    "y_pred_test8 = (y_pred_test8 > 0.5)\n",
    "ypred_train8 = (ypred_train8 > 0.5)\n",
    "print(np.concatenate((y_pred_test8.reshape(len(y_pred_test8),1), y_test4.reshape(len(y_test4),1)),1))"
   ]
  },
  {
   "cell_type": "code",
   "execution_count": 41,
   "metadata": {},
   "outputs": [
    {
     "data": {
      "text/plain": [
       "0.7420408925403791"
      ]
     },
     "execution_count": 41,
     "metadata": {},
     "output_type": "execute_result"
    }
   ],
   "source": [
    "accuracy_score(y_test4, y_pred_test8)"
   ]
  },
  {
   "cell_type": "code",
   "execution_count": 42,
   "metadata": {},
   "outputs": [
    {
     "name": "stdout",
     "output_type": "stream",
     "text": [
      "Training Results\n",
      "\n",
      "              precision    recall  f1-score   support\n",
      "\n",
      "         0.0       0.75      0.72      0.73     16021\n",
      "         1.0       0.73      0.75      0.74     16110\n",
      "\n",
      "    accuracy                           0.74     32131\n",
      "   macro avg       0.74      0.74      0.74     32131\n",
      "weighted avg       0.74      0.74      0.74     32131\n",
      "\n",
      "Testing Results\n",
      "\n",
      "              precision    recall  f1-score   support\n",
      "\n",
      "         0.0       0.75      0.73      0.74      5400\n",
      "         1.0       0.73      0.75      0.74      5311\n",
      "\n",
      "    accuracy                           0.74     10711\n",
      "   macro avg       0.74      0.74      0.74     10711\n",
      "weighted avg       0.74      0.74      0.74     10711\n",
      "\n"
     ]
    }
   ],
   "source": [
    "print(\"Training Results\\n\")\n",
    "print(classification_report(y_train4, ypred_train8))\n",
    "print('Testing Results\\n')\n",
    "print(classification_report(y_test4, y_pred_test8))"
   ]
  },
  {
   "cell_type": "code",
   "execution_count": 43,
   "metadata": {},
   "outputs": [
    {
     "name": "stdout",
     "output_type": "stream",
     "text": [
      "  1/335 [..............................] - ETA: 8s"
     ]
    },
    {
     "name": "stdout",
     "output_type": "stream",
     "text": [
      "335/335 [==============================] - 0s 900us/step\n"
     ]
    },
    {
     "data": {
      "image/png": "[encoded data removed]",
      "text/plain": [
       "<Figure size 640x480 with 1 Axes>"
      ]
     },
     "metadata": {},
     "output_type": "display_data"
    }
   ],
   "source": [
    "# cross_val_scores = cross_val_score(ann, x_train4, y_train4, cv=5)\n",
    "# print(\"Cross-validation scores:\", cross_val_scores)\n",
    "# print(\"Average cross-validation score:\", np.mean(cross_val_scores))\n",
    "y_proba_test = ann.predict(x_test4).flatten()\n",
    "\n",
    "\n",
    "fpr, tpr, thresholds = roc_curve(y_test4, y_proba_test)\n",
    "\n",
    "\n",
    "plt.plot(fpr, tpr, label='ROC Curve')\n",
    "plt.xlabel('False Positive Rate')\n",
    "plt.ylabel('True Positive Rate')\n",
    "plt.title('ROC Curve with AUC = {:.2f}'.format(roc_auc_score(y_test4, y_proba_test)))\n",
    "plt.legend(loc='lower right')\n",
    "plt.grid(True)\n",
    "plt.show()"
   ]
  },
  {
   "cell_type": "markdown",
   "metadata": {},
   "source": [
    "## inna proba "
   ]
  },
  {
   "cell_type": "code",
   "execution_count": 44,
   "metadata": {},
   "outputs": [
    {
     "name": "stderr",
     "output_type": "stream",
     "text": [
      "WARNING:absl:`lr` is deprecated in Keras optimizer, please use `learning_rate` or use the legacy optimizer, e.g.,tf.keras.optimizers.legacy.Adam.\n"
     ]
    },
    {
     "name": "stdout",
     "output_type": "stream",
     "text": [
      "Epoch 1/100\n",
      "1005/1005 [==============================] - 2s 1ms/step - loss: 0.5624 - accuracy: 0.7089\n",
      "Epoch 2/100\n",
      "1005/1005 [==============================] - 1s 1ms/step - loss: 0.5379 - accuracy: 0.7287\n",
      "Epoch 3/100\n",
      "1005/1005 [==============================] - 1s 1ms/step - loss: 0.5352 - accuracy: 0.7313\n",
      "Epoch 4/100\n",
      "1005/1005 [==============================] - 1s 1ms/step - loss: 0.5335 - accuracy: 0.7313\n",
      "Epoch 5/100\n",
      "1005/1005 [==============================] - 1s 1ms/step - loss: 0.5320 - accuracy: 0.7340\n",
      "Epoch 6/100\n",
      "1005/1005 [==============================] - 1s 1ms/step - loss: 0.5305 - accuracy: 0.7353\n",
      "Epoch 7/100\n",
      "1005/1005 [==============================] - 1s 1ms/step - loss: 0.5306 - accuracy: 0.7351\n",
      "Epoch 8/100\n",
      "1005/1005 [==============================] - 1s 1ms/step - loss: 0.5294 - accuracy: 0.7365\n",
      "Epoch 9/100\n",
      "1005/1005 [==============================] - 1s 1ms/step - loss: 0.5291 - accuracy: 0.7361\n",
      "Epoch 10/100\n",
      "1005/1005 [==============================] - 1s 1ms/step - loss: 0.5285 - accuracy: 0.7343\n",
      "Epoch 11/100\n",
      "1005/1005 [==============================] - 1s 1ms/step - loss: 0.5275 - accuracy: 0.7379\n",
      "Epoch 12/100\n",
      "1005/1005 [==============================] - 1s 1ms/step - loss: 0.5272 - accuracy: 0.7364\n",
      "Epoch 13/100\n",
      "1005/1005 [==============================] - 1s 1ms/step - loss: 0.5269 - accuracy: 0.7366\n",
      "Epoch 14/100\n",
      "1005/1005 [==============================] - 1s 1ms/step - loss: 0.5267 - accuracy: 0.7375\n",
      "Epoch 15/100\n",
      "1005/1005 [==============================] - 1s 1ms/step - loss: 0.5261 - accuracy: 0.7400\n",
      "Epoch 16/100\n",
      "1005/1005 [==============================] - 1s 1ms/step - loss: 0.5264 - accuracy: 0.7389\n",
      "Epoch 17/100\n",
      "1005/1005 [==============================] - 1s 1ms/step - loss: 0.5255 - accuracy: 0.7388\n",
      "Epoch 18/100\n",
      "1005/1005 [==============================] - 1s 981us/step - loss: 0.5255 - accuracy: 0.7387\n",
      "Epoch 19/100\n",
      "1005/1005 [==============================] - 1s 996us/step - loss: 0.5253 - accuracy: 0.7379\n",
      "Epoch 20/100\n",
      "1005/1005 [==============================] - 1s 981us/step - loss: 0.5247 - accuracy: 0.7399\n",
      "Epoch 21/100\n",
      "1005/1005 [==============================] - 1s 967us/step - loss: 0.5243 - accuracy: 0.7389\n",
      "Epoch 22/100\n",
      "1005/1005 [==============================] - 1s 997us/step - loss: 0.5245 - accuracy: 0.7389\n",
      "Epoch 23/100\n",
      "1005/1005 [==============================] - 1s 968us/step - loss: 0.5239 - accuracy: 0.7390\n",
      "Epoch 24/100\n",
      "1005/1005 [==============================] - 1s 965us/step - loss: 0.5234 - accuracy: 0.7393\n",
      "Epoch 25/100\n",
      "1005/1005 [==============================] - 1s 1ms/step - loss: 0.5236 - accuracy: 0.7387\n",
      "Epoch 26/100\n",
      "1005/1005 [==============================] - 1s 995us/step - loss: 0.5233 - accuracy: 0.7408\n",
      "Epoch 27/100\n",
      "1005/1005 [==============================] - 1s 992us/step - loss: 0.5229 - accuracy: 0.7409\n",
      "Epoch 28/100\n",
      "1005/1005 [==============================] - 1s 1ms/step - loss: 0.5226 - accuracy: 0.7403\n",
      "Epoch 29/100\n",
      "1005/1005 [==============================] - 1s 1ms/step - loss: 0.5220 - accuracy: 0.7387\n",
      "Epoch 30/100\n",
      "1005/1005 [==============================] - 1s 982us/step - loss: 0.5223 - accuracy: 0.7399\n",
      "Epoch 31/100\n",
      "1005/1005 [==============================] - 1s 977us/step - loss: 0.5220 - accuracy: 0.7407\n",
      "Epoch 32/100\n",
      "1005/1005 [==============================] - 1s 1ms/step - loss: 0.5216 - accuracy: 0.7411\n",
      "Epoch 33/100\n",
      "1005/1005 [==============================] - 1s 1ms/step - loss: 0.5217 - accuracy: 0.7395\n",
      "Epoch 34/100\n",
      "1005/1005 [==============================] - 1s 1ms/step - loss: 0.5213 - accuracy: 0.7393\n",
      "Epoch 35/100\n",
      "1005/1005 [==============================] - 1s 967us/step - loss: 0.5205 - accuracy: 0.7406\n",
      "Epoch 36/100\n",
      "1005/1005 [==============================] - 1s 975us/step - loss: 0.5207 - accuracy: 0.7412\n",
      "Epoch 37/100\n",
      "1005/1005 [==============================] - 1s 956us/step - loss: 0.5213 - accuracy: 0.7408\n",
      "Epoch 38/100\n",
      "1005/1005 [==============================] - 1s 962us/step - loss: 0.5206 - accuracy: 0.7405\n",
      "Epoch 39/100\n",
      "1005/1005 [==============================] - 1s 1ms/step - loss: 0.5193 - accuracy: 0.7415\n",
      "Epoch 40/100\n",
      "1005/1005 [==============================] - 1s 1ms/step - loss: 0.5194 - accuracy: 0.7430\n",
      "Epoch 41/100\n",
      "1005/1005 [==============================] - 1s 1ms/step - loss: 0.5191 - accuracy: 0.7420\n",
      "Epoch 42/100\n",
      "1005/1005 [==============================] - 1s 978us/step - loss: 0.5196 - accuracy: 0.7414\n",
      "Epoch 43/100\n",
      "1005/1005 [==============================] - 1s 985us/step - loss: 0.5192 - accuracy: 0.7431\n",
      "Epoch 44/100\n",
      "1005/1005 [==============================] - 1s 950us/step - loss: 0.5190 - accuracy: 0.7415\n",
      "Epoch 45/100\n",
      "1005/1005 [==============================] - 1s 961us/step - loss: 0.5182 - accuracy: 0.7438\n",
      "Epoch 46/100\n",
      "1005/1005 [==============================] - 1s 966us/step - loss: 0.5182 - accuracy: 0.7433\n",
      "Epoch 47/100\n",
      "1005/1005 [==============================] - 1s 1ms/step - loss: 0.5177 - accuracy: 0.7436\n",
      "Epoch 48/100\n",
      "1005/1005 [==============================] - 1s 1ms/step - loss: 0.5181 - accuracy: 0.7431\n",
      "Epoch 49/100\n",
      "1005/1005 [==============================] - 1s 987us/step - loss: 0.5172 - accuracy: 0.7435\n",
      "Epoch 50/100\n",
      "1005/1005 [==============================] - 1s 1ms/step - loss: 0.5172 - accuracy: 0.7432\n",
      "Epoch 51/100\n",
      "1005/1005 [==============================] - 1s 1ms/step - loss: 0.5171 - accuracy: 0.7457\n",
      "Epoch 52/100\n",
      "1005/1005 [==============================] - 1s 1ms/step - loss: 0.5166 - accuracy: 0.7455\n",
      "Epoch 53/100\n",
      "1005/1005 [==============================] - 1s 1ms/step - loss: 0.5163 - accuracy: 0.7434\n",
      "Epoch 54/100\n",
      "1005/1005 [==============================] - 1s 1ms/step - loss: 0.5158 - accuracy: 0.7438\n",
      "Epoch 55/100\n",
      "1005/1005 [==============================] - 1s 1ms/step - loss: 0.5163 - accuracy: 0.7440\n",
      "Epoch 56/100\n",
      "1005/1005 [==============================] - 1s 1ms/step - loss: 0.5156 - accuracy: 0.7438\n",
      "Epoch 57/100\n",
      "1005/1005 [==============================] - 1s 1ms/step - loss: 0.5149 - accuracy: 0.7444\n",
      "Epoch 58/100\n",
      "1005/1005 [==============================] - 1s 1ms/step - loss: 0.5152 - accuracy: 0.7438\n",
      "Epoch 59/100\n",
      "1005/1005 [==============================] - 1s 1ms/step - loss: 0.5148 - accuracy: 0.7451\n",
      "Epoch 60/100\n",
      "1005/1005 [==============================] - 1s 986us/step - loss: 0.5152 - accuracy: 0.7462\n",
      "Epoch 61/100\n",
      "1005/1005 [==============================] - 1s 967us/step - loss: 0.5147 - accuracy: 0.7459\n",
      "Epoch 62/100\n",
      "1005/1005 [==============================] - 1s 978us/step - loss: 0.5143 - accuracy: 0.7464\n",
      "Epoch 63/100\n",
      "1005/1005 [==============================] - 1s 965us/step - loss: 0.5144 - accuracy: 0.7440\n",
      "Epoch 64/100\n",
      "1005/1005 [==============================] - 1s 966us/step - loss: 0.5142 - accuracy: 0.7459\n",
      "Epoch 65/100\n",
      "1005/1005 [==============================] - 1s 947us/step - loss: 0.5144 - accuracy: 0.7464\n",
      "Epoch 66/100\n",
      "1005/1005 [==============================] - 1s 988us/step - loss: 0.5134 - accuracy: 0.7474\n",
      "Epoch 67/100\n",
      "1005/1005 [==============================] - 1s 974us/step - loss: 0.5133 - accuracy: 0.7468\n",
      "Epoch 68/100\n",
      "1005/1005 [==============================] - 1s 980us/step - loss: 0.5137 - accuracy: 0.7465\n",
      "Epoch 69/100\n",
      "1005/1005 [==============================] - 1s 973us/step - loss: 0.5122 - accuracy: 0.7479\n",
      "Epoch 70/100\n",
      "1005/1005 [==============================] - 1s 983us/step - loss: 0.5129 - accuracy: 0.7458\n",
      "Epoch 71/100\n",
      "1005/1005 [==============================] - 1s 972us/step - loss: 0.5122 - accuracy: 0.7476\n",
      "Epoch 72/100\n",
      "1005/1005 [==============================] - 1s 1ms/step - loss: 0.5123 - accuracy: 0.7471\n",
      "Epoch 73/100\n",
      "1005/1005 [==============================] - 1s 971us/step - loss: 0.5128 - accuracy: 0.7456\n",
      "Epoch 74/100\n",
      "1005/1005 [==============================] - 1s 983us/step - loss: 0.5118 - accuracy: 0.7468\n",
      "Epoch 75/100\n",
      "1005/1005 [==============================] - 1s 994us/step - loss: 0.5120 - accuracy: 0.7462\n",
      "Epoch 76/100\n",
      "1005/1005 [==============================] - 1s 974us/step - loss: 0.5114 - accuracy: 0.7466\n",
      "Epoch 77/100\n",
      "1005/1005 [==============================] - 1s 988us/step - loss: 0.5110 - accuracy: 0.7476\n",
      "Epoch 78/100\n",
      "1005/1005 [==============================] - 1s 1ms/step - loss: 0.5108 - accuracy: 0.7481\n",
      "Epoch 79/100\n",
      "1005/1005 [==============================] - 1s 1000us/step - loss: 0.5111 - accuracy: 0.7481\n",
      "Epoch 80/100\n",
      "1005/1005 [==============================] - 1s 965us/step - loss: 0.5107 - accuracy: 0.7478\n",
      "Epoch 81/100\n",
      "1005/1005 [==============================] - 1s 1ms/step - loss: 0.5105 - accuracy: 0.7480\n",
      "Epoch 82/100\n",
      "1005/1005 [==============================] - 1s 982us/step - loss: 0.5098 - accuracy: 0.7475\n",
      "Epoch 83/100\n",
      "1005/1005 [==============================] - 1s 1ms/step - loss: 0.5095 - accuracy: 0.7481\n",
      "Epoch 84/100\n",
      "1005/1005 [==============================] - 1s 1ms/step - loss: 0.5093 - accuracy: 0.7490\n",
      "Epoch 85/100\n",
      "1005/1005 [==============================] - 1s 1ms/step - loss: 0.5093 - accuracy: 0.7481\n",
      "Epoch 86/100\n",
      "1005/1005 [==============================] - 1s 968us/step - loss: 0.5087 - accuracy: 0.7480\n",
      "Epoch 87/100\n",
      "1005/1005 [==============================] - 1s 980us/step - loss: 0.5094 - accuracy: 0.7472\n",
      "Epoch 88/100\n",
      "1005/1005 [==============================] - 1s 1ms/step - loss: 0.5088 - accuracy: 0.7482\n",
      "Epoch 89/100\n",
      "1005/1005 [==============================] - 1s 1ms/step - loss: 0.5081 - accuracy: 0.7482\n",
      "Epoch 90/100\n",
      "1005/1005 [==============================] - 1s 985us/step - loss: 0.5081 - accuracy: 0.7488\n",
      "Epoch 91/100\n",
      "1005/1005 [==============================] - 1s 997us/step - loss: 0.5086 - accuracy: 0.7493\n",
      "Epoch 92/100\n",
      "1005/1005 [==============================] - 1s 1ms/step - loss: 0.5072 - accuracy: 0.7491\n",
      "Epoch 93/100\n",
      "1005/1005 [==============================] - 1s 1ms/step - loss: 0.5071 - accuracy: 0.7502\n",
      "Epoch 94/100\n",
      "1005/1005 [==============================] - 1s 1ms/step - loss: 0.5073 - accuracy: 0.7512\n",
      "Epoch 95/100\n",
      "1005/1005 [==============================] - 1s 1ms/step - loss: 0.5072 - accuracy: 0.7505\n",
      "Epoch 96/100\n",
      "1005/1005 [==============================] - 1s 1ms/step - loss: 0.5073 - accuracy: 0.7492\n",
      "Epoch 97/100\n",
      "1005/1005 [==============================] - 1s 1ms/step - loss: 0.5064 - accuracy: 0.7507\n",
      "Epoch 98/100\n",
      "1005/1005 [==============================] - 1s 1ms/step - loss: 0.5067 - accuracy: 0.7490\n",
      "Epoch 99/100\n",
      "1005/1005 [==============================] - 1s 1ms/step - loss: 0.5058 - accuracy: 0.7518\n",
      "Epoch 100/100\n",
      "1005/1005 [==============================] - 1s 1ms/step - loss: 0.5065 - accuracy: 0.7492\n"
     ]
    }
   ],
   "source": [
    "\n",
    "tf.random.set_seed(42)\n",
    "\n",
    "\n",
    "\n",
    "model2 = tf.keras.Sequential([\n",
    "  tf.keras.layers.Dense(18,activation = 'relu'),\n",
    "  tf.keras.layers.Dense(36,activation = 'relu'),\n",
    "  tf.keras.layers.Dense(18,activation = 'relu'),\n",
    "  tf.keras.layers.Dense(9,activation = 'relu'),\n",
    "  tf.keras.layers.Dense(1,activation = 'sigmoid')                            \n",
    "])\n",
    "\n",
    "\n",
    "\n",
    "model2.compile(loss = 'binary_crossentropy',\n",
    "                optimizer = tf.keras.optimizers.Adam(lr=0.001),\n",
    "                metrics = ['accuracy'])\n",
    "\n",
    "\n",
    "history_2 = model2.fit(x_train4,y_train4,epochs = 100)"
   ]
  },
  {
   "cell_type": "code",
   "execution_count": 45,
   "metadata": {},
   "outputs": [
    {
     "name": "stdout",
     "output_type": "stream",
     "text": [
      "335/335 [==============================] - 0s 825us/step - loss: 0.5333 - accuracy: 0.7348\n"
     ]
    },
    {
     "data": {
      "text/plain": [
       "[0.5332544445991516, 0.7347586750984192]"
      ]
     },
     "execution_count": 45,
     "metadata": {},
     "output_type": "execute_result"
    }
   ],
   "source": [
    "model2.evaluate(x_test4,y_test4)"
   ]
  },
  {
   "cell_type": "code",
   "execution_count": 46,
   "metadata": {},
   "outputs": [
    {
     "name": "stdout",
     "output_type": "stream",
     "text": [
      "1005/1005 [==============================] - 1s 813us/step\n",
      "335/335 [==============================] - 0s 771us/step\n",
      "Training Results\n",
      "\n",
      "              precision    recall  f1-score   support\n",
      "\n",
      "         0.0       0.78      0.70      0.74     16021\n",
      "         1.0       0.73      0.81      0.77     16110\n",
      "\n",
      "    accuracy                           0.75     32131\n",
      "   macro avg       0.76      0.75      0.75     32131\n",
      "weighted avg       0.76      0.75      0.75     32131\n",
      "\n",
      "Testing Results\n",
      "\n",
      "              precision    recall  f1-score   support\n",
      "\n",
      "         0.0       0.76      0.69      0.72      5400\n",
      "         1.0       0.71      0.78      0.75      5311\n",
      "\n",
      "    accuracy                           0.73     10711\n",
      "   macro avg       0.74      0.74      0.73     10711\n",
      "weighted avg       0.74      0.73      0.73     10711\n",
      "\n"
     ]
    }
   ],
   "source": [
    "ypred_train22 = model2.predict(x_train4)\n",
    "y_pred_test22 = model2.predict(x_test4)\n",
    "\n",
    "y_pred_test22 = (y_pred_test22 > 0.5)\n",
    "ypred_train22 = (ypred_train22 > 0.5)\n",
    "print(\"Training Results\\n\")\n",
    "print(classification_report(y_train4,ypred_train22))\n",
    "print(\"Testing Results\\n\")\n",
    "print(classification_report(y_test4,y_pred_test22))"
   ]
  },
  {
   "cell_type": "code",
   "execution_count": 47,
   "metadata": {},
   "outputs": [
    {
     "name": "stdout",
     "output_type": "stream",
     "text": [
      "335/335 [==============================] - 0s 809us/step\n"
     ]
    },
    {
     "data": {
      "image/png": "[encoded data removed]",
      "text/plain": [
       "<Figure size 640x480 with 1 Axes>"
      ]
     },
     "metadata": {},
     "output_type": "display_data"
    }
   ],
   "source": [
    "# cross_val_scores = cross_val_score(model_22, x_train4, y_train4, cv=5)\n",
    "# print(\"Cross-validation scores:\", cross_val_scores)\n",
    "# print(\"Average cross-validation score:\", np.mean(cross_val_scores))\n",
    "y_proba_test = model2.predict(x_test4).flatten()\n",
    "\n",
    "\n",
    "fpr, tpr, thresholds = roc_curve(y_test4, y_proba_test)\n",
    "\n",
    "\n",
    "plt.plot(fpr, tpr, label='ROC Curve')\n",
    "plt.xlabel('False Positive Rate')\n",
    "plt.ylabel('True Positive Rate')\n",
    "plt.title('ROC Curve with AUC = {:.2f}'.format(roc_auc_score(y_test4, y_proba_test)))\n",
    "plt.legend(loc='lower right')\n",
    "plt.grid(True)\n",
    "plt.show()"
   ]
  },
  {
   "cell_type": "markdown",
   "metadata": {},
   "source": [
    "## inne próby sieci neuronowych "
   ]
  },
  {
   "cell_type": "code",
   "execution_count": 48,
   "metadata": {},
   "outputs": [
    {
     "name": "stderr",
     "output_type": "stream",
     "text": [
      "WARNING:absl:`lr` is deprecated in Keras optimizer, please use `learning_rate` or use the legacy optimizer, e.g.,tf.keras.optimizers.legacy.Adam.\n"
     ]
    },
    {
     "name": "stdout",
     "output_type": "stream",
     "text": [
      "Epoch 1/100\n",
      "1005/1005 [==============================] - 2s 1ms/step - loss: 0.5975 - accuracy: 0.6761\n",
      "Epoch 2/100\n",
      "1005/1005 [==============================] - 1s 974us/step - loss: 0.5411 - accuracy: 0.7275\n",
      "Epoch 3/100\n",
      "1005/1005 [==============================] - 1s 982us/step - loss: 0.5376 - accuracy: 0.7298\n",
      "Epoch 4/100\n",
      "1005/1005 [==============================] - 1s 1ms/step - loss: 0.5361 - accuracy: 0.7312\n",
      "Epoch 5/100\n",
      "1005/1005 [==============================] - 1s 1ms/step - loss: 0.5347 - accuracy: 0.7300\n",
      "Epoch 6/100\n",
      "1005/1005 [==============================] - 1s 1ms/step - loss: 0.5342 - accuracy: 0.7317\n",
      "Epoch 7/100\n",
      "1005/1005 [==============================] - 1s 1ms/step - loss: 0.5342 - accuracy: 0.7332\n",
      "Epoch 8/100\n",
      "1005/1005 [==============================] - 1s 1ms/step - loss: 0.5333 - accuracy: 0.7337\n",
      "Epoch 9/100\n",
      "1005/1005 [==============================] - 1s 1ms/step - loss: 0.5332 - accuracy: 0.7334\n",
      "Epoch 10/100\n",
      "1005/1005 [==============================] - 1s 1ms/step - loss: 0.5323 - accuracy: 0.7333\n",
      "Epoch 11/100\n",
      "1005/1005 [==============================] - 1s 964us/step - loss: 0.5316 - accuracy: 0.7356\n",
      "Epoch 12/100\n",
      "1005/1005 [==============================] - 1s 1ms/step - loss: 0.5312 - accuracy: 0.7359\n",
      "Epoch 13/100\n",
      "1005/1005 [==============================] - 1s 993us/step - loss: 0.5310 - accuracy: 0.7365\n",
      "Epoch 14/100\n",
      "1005/1005 [==============================] - 1s 983us/step - loss: 0.5309 - accuracy: 0.7348\n",
      "Epoch 15/100\n",
      "1005/1005 [==============================] - 1s 1ms/step - loss: 0.5302 - accuracy: 0.7362\n",
      "Epoch 16/100\n",
      "1005/1005 [==============================] - 1s 1000us/step - loss: 0.5304 - accuracy: 0.7358\n",
      "Epoch 17/100\n",
      "1005/1005 [==============================] - 1s 978us/step - loss: 0.5298 - accuracy: 0.7370\n",
      "Epoch 18/100\n",
      "1005/1005 [==============================] - 1s 942us/step - loss: 0.5298 - accuracy: 0.7363\n",
      "Epoch 19/100\n",
      "1005/1005 [==============================] - 1s 954us/step - loss: 0.5296 - accuracy: 0.7349\n",
      "Epoch 20/100\n",
      "1005/1005 [==============================] - 1s 960us/step - loss: 0.5291 - accuracy: 0.7365\n",
      "Epoch 21/100\n",
      "1005/1005 [==============================] - 1s 948us/step - loss: 0.5288 - accuracy: 0.7357\n",
      "Epoch 22/100\n",
      "1005/1005 [==============================] - 1s 961us/step - loss: 0.5291 - accuracy: 0.7357\n",
      "Epoch 23/100\n",
      "1005/1005 [==============================] - 1s 984us/step - loss: 0.5288 - accuracy: 0.7350\n",
      "Epoch 24/100\n",
      "1005/1005 [==============================] - 1s 968us/step - loss: 0.5285 - accuracy: 0.7365\n",
      "Epoch 25/100\n",
      "1005/1005 [==============================] - 1s 944us/step - loss: 0.5285 - accuracy: 0.7364\n",
      "Epoch 26/100\n",
      "1005/1005 [==============================] - 1s 986us/step - loss: 0.5287 - accuracy: 0.7365\n",
      "Epoch 27/100\n",
      "1005/1005 [==============================] - 1s 954us/step - loss: 0.5280 - accuracy: 0.7386\n",
      "Epoch 28/100\n",
      "1005/1005 [==============================] - 1s 957us/step - loss: 0.5283 - accuracy: 0.7360\n",
      "Epoch 29/100\n",
      "1005/1005 [==============================] - 1s 981us/step - loss: 0.5278 - accuracy: 0.7370\n",
      "Epoch 30/100\n",
      "1005/1005 [==============================] - 1s 949us/step - loss: 0.5282 - accuracy: 0.7369\n",
      "Epoch 31/100\n",
      "1005/1005 [==============================] - 1s 978us/step - loss: 0.5279 - accuracy: 0.7363\n",
      "Epoch 32/100\n",
      "1005/1005 [==============================] - 1s 1ms/step - loss: 0.5276 - accuracy: 0.7363\n",
      "Epoch 33/100\n",
      "1005/1005 [==============================] - 1s 939us/step - loss: 0.5279 - accuracy: 0.7364\n",
      "Epoch 34/100\n",
      "1005/1005 [==============================] - 1s 961us/step - loss: 0.5276 - accuracy: 0.7360\n",
      "Epoch 35/100\n",
      "1005/1005 [==============================] - 1s 932us/step - loss: 0.5271 - accuracy: 0.7365\n",
      "Epoch 36/100\n",
      "1005/1005 [==============================] - 1s 955us/step - loss: 0.5274 - accuracy: 0.7380\n",
      "Epoch 37/100\n",
      "1005/1005 [==============================] - 1s 940us/step - loss: 0.5277 - accuracy: 0.7372\n",
      "Epoch 38/100\n",
      "1005/1005 [==============================] - 1s 925us/step - loss: 0.5274 - accuracy: 0.7366\n",
      "Epoch 39/100\n",
      "1005/1005 [==============================] - 1s 952us/step - loss: 0.5267 - accuracy: 0.7388\n",
      "Epoch 40/100\n",
      "1005/1005 [==============================] - 1s 913us/step - loss: 0.5269 - accuracy: 0.7386\n",
      "Epoch 41/100\n",
      "1005/1005 [==============================] - 1s 946us/step - loss: 0.5270 - accuracy: 0.7378\n",
      "Epoch 42/100\n",
      "1005/1005 [==============================] - 1s 943us/step - loss: 0.5270 - accuracy: 0.7373\n",
      "Epoch 43/100\n",
      "1005/1005 [==============================] - 1s 966us/step - loss: 0.5271 - accuracy: 0.7369\n",
      "Epoch 44/100\n",
      "1005/1005 [==============================] - 1s 947us/step - loss: 0.5269 - accuracy: 0.7366\n",
      "Epoch 45/100\n",
      "1005/1005 [==============================] - 1s 955us/step - loss: 0.5265 - accuracy: 0.7377\n",
      "Epoch 46/100\n",
      "1005/1005 [==============================] - 1s 934us/step - loss: 0.5265 - accuracy: 0.7381\n",
      "Epoch 47/100\n",
      "1005/1005 [==============================] - 1s 943us/step - loss: 0.5262 - accuracy: 0.7377\n",
      "Epoch 48/100\n",
      "1005/1005 [==============================] - 1s 963us/step - loss: 0.5266 - accuracy: 0.7378\n",
      "Epoch 49/100\n",
      "1005/1005 [==============================] - 1s 991us/step - loss: 0.5262 - accuracy: 0.7389\n",
      "Epoch 50/100\n",
      "1005/1005 [==============================] - 1s 1ms/step - loss: 0.5261 - accuracy: 0.7380\n",
      "Epoch 51/100\n",
      "1005/1005 [==============================] - 1s 1ms/step - loss: 0.5262 - accuracy: 0.7390\n",
      "Epoch 52/100\n",
      "1005/1005 [==============================] - 1s 993us/step - loss: 0.5260 - accuracy: 0.7379\n",
      "Epoch 53/100\n",
      "1005/1005 [==============================] - 1s 1ms/step - loss: 0.5259 - accuracy: 0.7388\n",
      "Epoch 54/100\n",
      "1005/1005 [==============================] - 1s 1ms/step - loss: 0.5259 - accuracy: 0.7378\n",
      "Epoch 55/100\n",
      "1005/1005 [==============================] - 1s 1000us/step - loss: 0.5259 - accuracy: 0.7383\n",
      "Epoch 56/100\n",
      "1005/1005 [==============================] - 1s 1ms/step - loss: 0.5257 - accuracy: 0.7384\n",
      "Epoch 57/100\n",
      "1005/1005 [==============================] - 1s 1ms/step - loss: 0.5250 - accuracy: 0.7390\n",
      "Epoch 58/100\n",
      "1005/1005 [==============================] - 1s 1ms/step - loss: 0.5256 - accuracy: 0.7370\n",
      "Epoch 59/100\n",
      "1005/1005 [==============================] - 1s 978us/step - loss: 0.5254 - accuracy: 0.7388\n",
      "Epoch 60/100\n",
      "1005/1005 [==============================] - 1s 915us/step - loss: 0.5257 - accuracy: 0.7394\n",
      "Epoch 61/100\n",
      "1005/1005 [==============================] - 1s 983us/step - loss: 0.5253 - accuracy: 0.7393\n",
      "Epoch 62/100\n",
      "1005/1005 [==============================] - 1s 1ms/step - loss: 0.5249 - accuracy: 0.7375\n",
      "Epoch 63/100\n",
      "1005/1005 [==============================] - 1s 999us/step - loss: 0.5250 - accuracy: 0.7378\n",
      "Epoch 64/100\n",
      "1005/1005 [==============================] - 1s 963us/step - loss: 0.5251 - accuracy: 0.7391\n",
      "Epoch 65/100\n",
      "1005/1005 [==============================] - 1s 939us/step - loss: 0.5248 - accuracy: 0.7386\n",
      "Epoch 66/100\n",
      "1005/1005 [==============================] - 1s 955us/step - loss: 0.5247 - accuracy: 0.7394\n",
      "Epoch 67/100\n",
      "1005/1005 [==============================] - 1s 958us/step - loss: 0.5250 - accuracy: 0.7397\n",
      "Epoch 68/100\n",
      "1005/1005 [==============================] - 1s 943us/step - loss: 0.5250 - accuracy: 0.7399\n",
      "Epoch 69/100\n",
      "1005/1005 [==============================] - 1s 975us/step - loss: 0.5245 - accuracy: 0.7374\n",
      "Epoch 70/100\n",
      "1005/1005 [==============================] - 1s 960us/step - loss: 0.5245 - accuracy: 0.7397\n",
      "Epoch 71/100\n",
      "1005/1005 [==============================] - 1s 960us/step - loss: 0.5242 - accuracy: 0.7388\n",
      "Epoch 72/100\n",
      "1005/1005 [==============================] - 1s 955us/step - loss: 0.5242 - accuracy: 0.7392\n",
      "Epoch 73/100\n",
      "1005/1005 [==============================] - 1s 922us/step - loss: 0.5247 - accuracy: 0.7388\n",
      "Epoch 74/100\n",
      "1005/1005 [==============================] - 1s 940us/step - loss: 0.5243 - accuracy: 0.7390\n",
      "Epoch 75/100\n",
      "1005/1005 [==============================] - 1s 928us/step - loss: 0.5244 - accuracy: 0.7386\n",
      "Epoch 76/100\n",
      "1005/1005 [==============================] - 1s 973us/step - loss: 0.5242 - accuracy: 0.7401\n",
      "Epoch 77/100\n",
      "1005/1005 [==============================] - 1s 981us/step - loss: 0.5238 - accuracy: 0.7396\n",
      "Epoch 78/100\n",
      "1005/1005 [==============================] - 1s 1ms/step - loss: 0.5239 - accuracy: 0.7392\n",
      "Epoch 79/100\n",
      "1005/1005 [==============================] - 1s 995us/step - loss: 0.5239 - accuracy: 0.7394\n",
      "Epoch 80/100\n",
      "1005/1005 [==============================] - 1s 979us/step - loss: 0.5241 - accuracy: 0.7401\n",
      "Epoch 81/100\n",
      "1005/1005 [==============================] - 1s 984us/step - loss: 0.5240 - accuracy: 0.7411\n",
      "Epoch 82/100\n",
      "1005/1005 [==============================] - 1s 976us/step - loss: 0.5237 - accuracy: 0.7393\n",
      "Epoch 83/100\n",
      "1005/1005 [==============================] - 1s 948us/step - loss: 0.5237 - accuracy: 0.7407\n",
      "Epoch 84/100\n",
      "1005/1005 [==============================] - 1s 968us/step - loss: 0.5234 - accuracy: 0.7407\n",
      "Epoch 85/100\n",
      "1005/1005 [==============================] - 1s 961us/step - loss: 0.5234 - accuracy: 0.7406\n",
      "Epoch 86/100\n",
      "1005/1005 [==============================] - 1s 967us/step - loss: 0.5236 - accuracy: 0.7390\n",
      "Epoch 87/100\n",
      "1005/1005 [==============================] - 1s 932us/step - loss: 0.5232 - accuracy: 0.7412\n",
      "Epoch 88/100\n",
      "1005/1005 [==============================] - 1s 909us/step - loss: 0.5233 - accuracy: 0.7403\n",
      "Epoch 89/100\n",
      "1005/1005 [==============================] - 1s 919us/step - loss: 0.5234 - accuracy: 0.7405\n",
      "Epoch 90/100\n",
      "1005/1005 [==============================] - 1s 915us/step - loss: 0.5233 - accuracy: 0.7397\n",
      "Epoch 91/100\n",
      "1005/1005 [==============================] - 1s 959us/step - loss: 0.5235 - accuracy: 0.7390\n",
      "Epoch 92/100\n",
      "1005/1005 [==============================] - 1s 906us/step - loss: 0.5231 - accuracy: 0.7399\n",
      "Epoch 93/100\n",
      "1005/1005 [==============================] - 1s 939us/step - loss: 0.5224 - accuracy: 0.7417\n",
      "Epoch 94/100\n",
      "1005/1005 [==============================] - 1s 950us/step - loss: 0.5232 - accuracy: 0.7402\n",
      "Epoch 95/100\n",
      "1005/1005 [==============================] - 1s 959us/step - loss: 0.5230 - accuracy: 0.7405\n",
      "Epoch 96/100\n",
      "1005/1005 [==============================] - 1s 965us/step - loss: 0.5228 - accuracy: 0.7400\n",
      "Epoch 97/100\n",
      "1005/1005 [==============================] - 1s 1ms/step - loss: 0.5230 - accuracy: 0.7404\n",
      "Epoch 98/100\n",
      "1005/1005 [==============================] - 1s 984us/step - loss: 0.5230 - accuracy: 0.7396\n",
      "Epoch 99/100\n",
      "1005/1005 [==============================] - 1s 996us/step - loss: 0.5227 - accuracy: 0.7394\n",
      "Epoch 100/100\n",
      "1005/1005 [==============================] - 1s 991us/step - loss: 0.5224 - accuracy: 0.7414\n"
     ]
    }
   ],
   "source": [
    "\n",
    "\n",
    "tf.random.set_seed(42)\n",
    "\n",
    "\n",
    "model3 = tf.keras.Sequential([\n",
    "  tf.keras.layers.Dense(14,activation = 'relu'),\n",
    "  tf.keras.layers.Dense(6,activation = 'relu'),\n",
    "  tf.keras.layers.Dense(6,activation = 'relu'),\n",
    "  tf.keras.layers.Dense(1,activation = 'sigmoid')                            \n",
    "])\n",
    "\n",
    "\n",
    "model3.compile(loss = 'binary_crossentropy',\n",
    "                optimizer = tf.keras.optimizers.Adam(lr=0.001),\n",
    "                metrics = ['accuracy'])\n",
    "\n",
    "\n",
    "history_2 = model3.fit(x_train4,y_train4,epochs = 100)"
   ]
  },
  {
   "cell_type": "code",
   "execution_count": 49,
   "metadata": {},
   "outputs": [
    {
     "name": "stdout",
     "output_type": "stream",
     "text": [
      "335/335 [==============================] - 0s 813us/step - loss: 0.5214 - accuracy: 0.7426\n"
     ]
    },
    {
     "data": {
      "text/plain": [
       "[0.52142733335495, 0.7426010370254517]"
      ]
     },
     "execution_count": 49,
     "metadata": {},
     "output_type": "execute_result"
    }
   ],
   "source": [
    "model3.evaluate(x_test4,y_test4)"
   ]
  },
  {
   "cell_type": "code",
   "execution_count": 50,
   "metadata": {},
   "outputs": [
    {
     "name": "stdout",
     "output_type": "stream",
     "text": [
      "1005/1005 [==============================] - 1s 801us/step\n",
      "335/335 [==============================] - 0s 731us/step\n",
      "Training Results\n",
      "\n",
      "              precision    recall  f1-score   support\n",
      "\n",
      "         0.0       0.78      0.67      0.72     16021\n",
      "         1.0       0.71      0.81      0.76     16110\n",
      "\n",
      "    accuracy                           0.74     32131\n",
      "   macro avg       0.75      0.74      0.74     32131\n",
      "weighted avg       0.75      0.74      0.74     32131\n",
      "\n",
      "Testing Results\n",
      "\n",
      "              precision    recall  f1-score   support\n",
      "\n",
      "         0.0       0.78      0.68      0.73      5400\n",
      "         1.0       0.71      0.81      0.76      5311\n",
      "\n",
      "    accuracy                           0.74     10711\n",
      "   macro avg       0.75      0.74      0.74     10711\n",
      "weighted avg       0.75      0.74      0.74     10711\n",
      "\n"
     ]
    }
   ],
   "source": [
    "ypred_train11 = model3.predict(x_train4)\n",
    "y_pred_test11 = model3.predict(x_test4)\n",
    "\n",
    "y_pred_test11 = (y_pred_test11 > 0.5)\n",
    "ypred_train11 = (ypred_train11 > 0.5)\n",
    "print(\"Training Results\\n\")\n",
    "print(classification_report(y_train4,ypred_train11))\n",
    "print(\"Testing Results\\n\")\n",
    "print(classification_report(y_test4,y_pred_test11))"
   ]
  },
  {
   "cell_type": "code",
   "execution_count": 51,
   "metadata": {},
   "outputs": [
    {
     "name": "stdout",
     "output_type": "stream",
     "text": [
      "335/335 [==============================] - 0s 743us/step\n"
     ]
    },
    {
     "data": {
      "image/png": "[encoded data removed]",
      "text/plain": [
       "<Figure size 640x480 with 1 Axes>"
      ]
     },
     "metadata": {},
     "output_type": "display_data"
    }
   ],
   "source": [
    "# cross_val_scores = cross_val_score(model_2, x_train4, y_train4, cv=5)\n",
    "# print(\"Cross-validation scores:\", cross_val_scores)\n",
    "# print(\"Average cross-validation score:\", np.mean(cross_val_scores))\n",
    "\n",
    "y_proba_test = model3.predict(x_test4).flatten()\n",
    "\n",
    "\n",
    "fpr, tpr, thresholds = roc_curve(y_test4, y_proba_test)\n",
    "\n",
    "plt.plot(fpr, tpr, label='ROC Curve')\n",
    "plt.xlabel('False Positive Rate')\n",
    "plt.ylabel('True Positive Rate')\n",
    "plt.title('ROC Curve with AUC = {:.2f}'.format(roc_auc_score(y_test4, y_proba_test)))\n",
    "plt.legend(loc='lower right')\n",
    "plt.grid(True)\n",
    "plt.show()"
   ]
  },
  {
   "cell_type": "markdown",
   "metadata": {},
   "source": [
    "## inne próby sieci neuronowych "
   ]
  },
  {
   "cell_type": "code",
   "execution_count": 52,
   "metadata": {},
   "outputs": [],
   "source": [
    "model4 = Sequential()\n",
    "model4.add(Dense(units=30,activation='relu'))\n",
    "model4.add(Dropout(0.5))\n",
    "\n",
    "model4.add(Dense(units=15,activation='relu'))\n",
    "model4.add(Dropout(0.5))\n",
    "\n",
    "model4.add(Dense(units=1,activation='sigmoid'))\n",
    "model4.compile(loss='binary_crossentropy', optimizer='adam')"
   ]
  },
  {
   "cell_type": "code",
   "execution_count": 53,
   "metadata": {},
   "outputs": [
    {
     "name": "stdout",
     "output_type": "stream",
     "text": [
      "Epoch 1/100\n",
      "1005/1005 [==============================] - 2s 1ms/step - loss: 0.6567 - val_loss: 0.5853\n",
      "Epoch 2/100\n",
      "1005/1005 [==============================] - 1s 1ms/step - loss: 0.5999 - val_loss: 0.5566\n",
      "Epoch 3/100\n",
      "1005/1005 [==============================] - 1s 1ms/step - loss: 0.5870 - val_loss: 0.5501\n",
      "Epoch 4/100\n",
      "1005/1005 [==============================] - 1s 1ms/step - loss: 0.5757 - val_loss: 0.5443\n",
      "Epoch 5/100\n",
      "1005/1005 [==============================] - 1s 1ms/step - loss: 0.5711 - val_loss: 0.5440\n",
      "Epoch 6/100\n",
      "1005/1005 [==============================] - 1s 1ms/step - loss: 0.5678 - val_loss: 0.5340\n",
      "Epoch 7/100\n",
      "1005/1005 [==============================] - 1s 1ms/step - loss: 0.5679 - val_loss: 0.5377\n",
      "Epoch 8/100\n",
      "1005/1005 [==============================] - 1s 1ms/step - loss: 0.5640 - val_loss: 0.5347\n",
      "Epoch 9/100\n",
      "1005/1005 [==============================] - 1s 1ms/step - loss: 0.5626 - val_loss: 0.5353\n",
      "Epoch 10/100\n",
      "1005/1005 [==============================] - 1s 1ms/step - loss: 0.5631 - val_loss: 0.5343\n",
      "Epoch 11/100\n",
      "1005/1005 [==============================] - 1s 1ms/step - loss: 0.5639 - val_loss: 0.5307\n",
      "Epoch 12/100\n",
      "1005/1005 [==============================] - 1s 1ms/step - loss: 0.5611 - val_loss: 0.5344\n",
      "Epoch 13/100\n",
      "1005/1005 [==============================] - 1s 1ms/step - loss: 0.5618 - val_loss: 0.5302\n",
      "Epoch 14/100\n",
      "1005/1005 [==============================] - 1s 1ms/step - loss: 0.5616 - val_loss: 0.5296\n",
      "Epoch 15/100\n",
      "1005/1005 [==============================] - 1s 1ms/step - loss: 0.5584 - val_loss: 0.5318\n",
      "Epoch 16/100\n",
      "1005/1005 [==============================] - 1s 1ms/step - loss: 0.5580 - val_loss: 0.5296\n",
      "Epoch 17/100\n",
      "1005/1005 [==============================] - 1s 1ms/step - loss: 0.5586 - val_loss: 0.5287\n",
      "Epoch 18/100\n",
      "1005/1005 [==============================] - 1s 1ms/step - loss: 0.5608 - val_loss: 0.5306\n",
      "Epoch 19/100\n",
      "1005/1005 [==============================] - 1s 1ms/step - loss: 0.5590 - val_loss: 0.5279\n",
      "Epoch 20/100\n",
      "1005/1005 [==============================] - 1s 1ms/step - loss: 0.5589 - val_loss: 0.5266\n",
      "Epoch 21/100\n",
      "1005/1005 [==============================] - 1s 1ms/step - loss: 0.5570 - val_loss: 0.5299\n",
      "Epoch 22/100\n",
      "1005/1005 [==============================] - 1s 1ms/step - loss: 0.5603 - val_loss: 0.5264\n",
      "Epoch 23/100\n",
      "1005/1005 [==============================] - 1s 1ms/step - loss: 0.5590 - val_loss: 0.5296\n",
      "Epoch 24/100\n",
      "1005/1005 [==============================] - 1s 1ms/step - loss: 0.5569 - val_loss: 0.5268\n",
      "Epoch 25/100\n",
      "1005/1005 [==============================] - 1s 1ms/step - loss: 0.5550 - val_loss: 0.5281\n",
      "Epoch 26/100\n",
      "1005/1005 [==============================] - 1s 1ms/step - loss: 0.5577 - val_loss: 0.5262\n",
      "Epoch 27/100\n",
      "1005/1005 [==============================] - 1s 1ms/step - loss: 0.5538 - val_loss: 0.5266\n",
      "Epoch 28/100\n",
      "1005/1005 [==============================] - 1s 1ms/step - loss: 0.5544 - val_loss: 0.5272\n",
      "Epoch 29/100\n",
      "1005/1005 [==============================] - 1s 1ms/step - loss: 0.5579 - val_loss: 0.5275\n",
      "Epoch 30/100\n",
      "1005/1005 [==============================] - 1s 1ms/step - loss: 0.5525 - val_loss: 0.5245\n",
      "Epoch 31/100\n",
      "1005/1005 [==============================] - 1s 1ms/step - loss: 0.5550 - val_loss: 0.5249\n",
      "Epoch 32/100\n",
      "1005/1005 [==============================] - 1s 1ms/step - loss: 0.5540 - val_loss: 0.5234\n",
      "Epoch 33/100\n",
      "1005/1005 [==============================] - 1s 1ms/step - loss: 0.5541 - val_loss: 0.5246\n",
      "Epoch 34/100\n",
      "1005/1005 [==============================] - 1s 1ms/step - loss: 0.5540 - val_loss: 0.5249\n",
      "Epoch 35/100\n",
      "1005/1005 [==============================] - 1s 1ms/step - loss: 0.5559 - val_loss: 0.5253\n",
      "Epoch 36/100\n",
      "1005/1005 [==============================] - 1s 1ms/step - loss: 0.5516 - val_loss: 0.5230\n",
      "Epoch 37/100\n",
      "1005/1005 [==============================] - 1s 1ms/step - loss: 0.5549 - val_loss: 0.5243\n",
      "Epoch 38/100\n",
      "1005/1005 [==============================] - 1s 1ms/step - loss: 0.5541 - val_loss: 0.5245\n",
      "Epoch 39/100\n",
      "1005/1005 [==============================] - 1s 1ms/step - loss: 0.5542 - val_loss: 0.5225\n",
      "Epoch 40/100\n",
      "1005/1005 [==============================] - 1s 1ms/step - loss: 0.5534 - val_loss: 0.5252\n",
      "Epoch 41/100\n",
      "1005/1005 [==============================] - 1s 1ms/step - loss: 0.5514 - val_loss: 0.5226\n",
      "Epoch 42/100\n",
      "1005/1005 [==============================] - 1s 1ms/step - loss: 0.5559 - val_loss: 0.5241\n",
      "Epoch 43/100\n",
      "1005/1005 [==============================] - 1s 1ms/step - loss: 0.5531 - val_loss: 0.5238\n",
      "Epoch 44/100\n",
      "1005/1005 [==============================] - 1s 1ms/step - loss: 0.5537 - val_loss: 0.5256\n",
      "Epoch 45/100\n",
      "1005/1005 [==============================] - 2s 2ms/step - loss: 0.5531 - val_loss: 0.5236\n",
      "Epoch 46/100\n",
      "1005/1005 [==============================] - 2s 2ms/step - loss: 0.5506 - val_loss: 0.5227\n",
      "Epoch 47/100\n",
      "1005/1005 [==============================] - 2s 2ms/step - loss: 0.5553 - val_loss: 0.5232\n",
      "Epoch 48/100\n",
      "1005/1005 [==============================] - 2s 2ms/step - loss: 0.5540 - val_loss: 0.5279\n",
      "Epoch 49/100\n",
      "1005/1005 [==============================] - 1s 1ms/step - loss: 0.5530 - val_loss: 0.5245\n",
      "Epoch 50/100\n",
      "1005/1005 [==============================] - 1s 1ms/step - loss: 0.5518 - val_loss: 0.5224\n",
      "Epoch 51/100\n",
      "1005/1005 [==============================] - 1s 1ms/step - loss: 0.5507 - val_loss: 0.5222\n",
      "Epoch 52/100\n",
      "1005/1005 [==============================] - 1s 1ms/step - loss: 0.5550 - val_loss: 0.5261\n",
      "Epoch 53/100\n",
      "1005/1005 [==============================] - 1s 1ms/step - loss: 0.5538 - val_loss: 0.5232\n",
      "Epoch 54/100\n",
      "1005/1005 [==============================] - 2s 2ms/step - loss: 0.5534 - val_loss: 0.5233\n",
      "Epoch 55/100\n",
      "1005/1005 [==============================] - 2s 2ms/step - loss: 0.5535 - val_loss: 0.5250\n",
      "Epoch 56/100\n",
      "1005/1005 [==============================] - 2s 2ms/step - loss: 0.5530 - val_loss: 0.5239\n",
      "Epoch 57/100\n",
      "1005/1005 [==============================] - 1s 1ms/step - loss: 0.5521 - val_loss: 0.5216\n",
      "Epoch 58/100\n",
      "1005/1005 [==============================] - 1s 1ms/step - loss: 0.5529 - val_loss: 0.5234\n",
      "Epoch 59/100\n",
      "1005/1005 [==============================] - 1s 1ms/step - loss: 0.5504 - val_loss: 0.5229\n",
      "Epoch 60/100\n",
      "1005/1005 [==============================] - 1s 1ms/step - loss: 0.5532 - val_loss: 0.5231\n",
      "Epoch 61/100\n",
      "1005/1005 [==============================] - 1s 1ms/step - loss: 0.5526 - val_loss: 0.5254\n",
      "Epoch 62/100\n",
      "1005/1005 [==============================] - 1s 1ms/step - loss: 0.5529 - val_loss: 0.5229\n",
      "Epoch 63/100\n",
      "1005/1005 [==============================] - 1s 1ms/step - loss: 0.5526 - val_loss: 0.5240\n",
      "Epoch 64/100\n",
      "1005/1005 [==============================] - 1s 1ms/step - loss: 0.5525 - val_loss: 0.5208\n",
      "Epoch 65/100\n",
      "1005/1005 [==============================] - 2s 2ms/step - loss: 0.5510 - val_loss: 0.5228\n",
      "Epoch 66/100\n",
      "1005/1005 [==============================] - 2s 2ms/step - loss: 0.5516 - val_loss: 0.5261\n",
      "Epoch 67/100\n",
      "1005/1005 [==============================] - 1s 1ms/step - loss: 0.5510 - val_loss: 0.5231\n",
      "Epoch 68/100\n",
      "1005/1005 [==============================] - 1s 1ms/step - loss: 0.5503 - val_loss: 0.5239\n",
      "Epoch 69/100\n",
      "1005/1005 [==============================] - 1s 1ms/step - loss: 0.5540 - val_loss: 0.5256\n",
      "Epoch 70/100\n",
      "1005/1005 [==============================] - 1s 1ms/step - loss: 0.5526 - val_loss: 0.5263\n",
      "Epoch 71/100\n",
      "1005/1005 [==============================] - 2s 2ms/step - loss: 0.5519 - val_loss: 0.5228\n",
      "Epoch 72/100\n",
      "1005/1005 [==============================] - 2s 2ms/step - loss: 0.5492 - val_loss: 0.5207\n",
      "Epoch 73/100\n",
      "1005/1005 [==============================] - 2s 2ms/step - loss: 0.5541 - val_loss: 0.5240\n",
      "Epoch 74/100\n",
      "1005/1005 [==============================] - 2s 2ms/step - loss: 0.5527 - val_loss: 0.5234\n",
      "Epoch 75/100\n",
      "1005/1005 [==============================] - 2s 2ms/step - loss: 0.5522 - val_loss: 0.5228\n",
      "Epoch 76/100\n",
      "1005/1005 [==============================] - 1s 1ms/step - loss: 0.5498 - val_loss: 0.5229\n",
      "Epoch 77/100\n",
      "1005/1005 [==============================] - 1s 1ms/step - loss: 0.5520 - val_loss: 0.5230\n",
      "Epoch 78/100\n",
      "1005/1005 [==============================] - 1s 1ms/step - loss: 0.5515 - val_loss: 0.5239\n",
      "Epoch 79/100\n",
      "1005/1005 [==============================] - 1s 1ms/step - loss: 0.5539 - val_loss: 0.5254\n",
      "Epoch 80/100\n",
      "1005/1005 [==============================] - 1s 1ms/step - loss: 0.5507 - val_loss: 0.5223\n",
      "Epoch 81/100\n",
      "1005/1005 [==============================] - 1s 1ms/step - loss: 0.5504 - val_loss: 0.5241\n",
      "Epoch 82/100\n",
      "1005/1005 [==============================] - 2s 1ms/step - loss: 0.5516 - val_loss: 0.5224\n",
      "Epoch 83/100\n",
      "1005/1005 [==============================] - 2s 2ms/step - loss: 0.5520 - val_loss: 0.5215\n",
      "Epoch 84/100\n",
      "1005/1005 [==============================] - 2s 2ms/step - loss: 0.5495 - val_loss: 0.5238\n",
      "Epoch 85/100\n",
      "1005/1005 [==============================] - 2s 2ms/step - loss: 0.5493 - val_loss: 0.5231\n",
      "Epoch 86/100\n",
      "1005/1005 [==============================] - 2s 2ms/step - loss: 0.5525 - val_loss: 0.5222\n",
      "Epoch 87/100\n",
      "1005/1005 [==============================] - 2s 2ms/step - loss: 0.5507 - val_loss: 0.5235\n",
      "Epoch 88/100\n",
      "1005/1005 [==============================] - 2s 2ms/step - loss: 0.5483 - val_loss: 0.5238\n",
      "Epoch 89/100\n",
      "1005/1005 [==============================] - 2s 2ms/step - loss: 0.5523 - val_loss: 0.5235\n",
      "Epoch 90/100\n",
      "1005/1005 [==============================] - 2s 2ms/step - loss: 0.5533 - val_loss: 0.5241\n",
      "Epoch 91/100\n",
      "1005/1005 [==============================] - 2s 2ms/step - loss: 0.5545 - val_loss: 0.5225\n",
      "Epoch 92/100\n",
      "1005/1005 [==============================] - 2s 2ms/step - loss: 0.5505 - val_loss: 0.5228\n",
      "Epoch 93/100\n",
      "1005/1005 [==============================] - 2s 2ms/step - loss: 0.5510 - val_loss: 0.5228\n",
      "Epoch 94/100\n",
      "1005/1005 [==============================] - 2s 2ms/step - loss: 0.5505 - val_loss: 0.5209\n",
      "Epoch 95/100\n",
      "1005/1005 [==============================] - 2s 2ms/step - loss: 0.5526 - val_loss: 0.5222\n",
      "Epoch 96/100\n",
      "1005/1005 [==============================] - 2s 2ms/step - loss: 0.5511 - val_loss: 0.5238\n",
      "Epoch 97/100\n",
      "1005/1005 [==============================] - 2s 2ms/step - loss: 0.5526 - val_loss: 0.5215\n",
      "Epoch 97: early stopping\n"
     ]
    },
    {
     "data": {
      "text/plain": [
       "<keras.src.callbacks.History at 0x2048f814b10>"
      ]
     },
     "execution_count": 53,
     "metadata": {},
     "output_type": "execute_result"
    }
   ],
   "source": [
    "model4.fit(x=x_train4, \n",
    "          y=y_train4, \n",
    "          epochs=100,\n",
    "          validation_data=(x_test4, y_test4), verbose=1,\n",
    "          callbacks=[early_stop]\n",
    "          )"
   ]
  },
  {
   "cell_type": "code",
   "execution_count": 54,
   "metadata": {},
   "outputs": [
    {
     "name": "stdout",
     "output_type": "stream",
     "text": [
      "1005/1005 [==============================] - 1s 1ms/step\n",
      "335/335 [==============================] - 0s 886us/step\n",
      "Training Results\n",
      "\n",
      "              precision    recall  f1-score   support\n",
      "\n",
      "         0.0       0.76      0.71      0.73     16021\n",
      "         1.0       0.73      0.77      0.75     16110\n",
      "\n",
      "    accuracy                           0.74     32131\n",
      "   macro avg       0.74      0.74      0.74     32131\n",
      "weighted avg       0.74      0.74      0.74     32131\n",
      "\n",
      "Testing Results\n",
      "\n",
      "              precision    recall  f1-score   support\n",
      "\n",
      "         0.0       0.76      0.71      0.73      5400\n",
      "         1.0       0.72      0.77      0.75      5311\n",
      "\n",
      "    accuracy                           0.74     10711\n",
      "   macro avg       0.74      0.74      0.74     10711\n",
      "weighted avg       0.74      0.74      0.74     10711\n",
      "\n"
     ]
    }
   ],
   "source": [
    "ypred_train12 = model4.predict(x_train4)\n",
    "y_pred_test12 = model4.predict(x_test4)\n",
    "\n",
    "y_pred_test12 = (y_pred_test12 > 0.5)\n",
    "ypred_train12 = (ypred_train12 > 0.5)\n",
    "print(\"Training Results\\n\")\n",
    "print(classification_report(y_train4,ypred_train12))\n",
    "print(\"Testing Results\\n\")\n",
    "print(classification_report(y_test4,y_pred_test12))"
   ]
  },
  {
   "cell_type": "code",
   "execution_count": 55,
   "metadata": {},
   "outputs": [
    {
     "name": "stdout",
     "output_type": "stream",
     "text": [
      "335/335 [==============================] - 0s 1ms/step\n"
     ]
    },
    {
     "data": {
      "image/png": "[encoded data removed]",
      "text/plain": [
       "<Figure size 640x480 with 1 Axes>"
      ]
     },
     "metadata": {},
     "output_type": "display_data"
    }
   ],
   "source": [
    "# cross_val_scores = cross_val_score(model1, x_train4, y_train4, cv=5)\n",
    "# print(\"Cross-validation scores:\", cross_val_scores)\n",
    "# print(\"Average cross-validation score:\", np.mean(cross_val_scores))\n",
    "y_proba_test = model4.predict(x_test4).flatten()\n",
    "\n",
    "fpr, tpr, thresholds = roc_curve(y_test4, y_proba_test)\n",
    "\n",
    "plt.plot(fpr, tpr, label='ROC Curve')\n",
    "plt.xlabel('False Positive Rate')\n",
    "plt.ylabel('True Positive Rate')\n",
    "plt.title('ROC Curve with AUC = {:.2f}'.format(roc_auc_score(y_test4, y_proba_test)))\n",
    "plt.legend(loc='lower right')\n",
    "plt.grid(True)\n",
    "plt.show()"
   ]
  },
  {
   "cell_type": "markdown",
   "metadata": {},
   "source": [
    "## inny model"
   ]
  },
  {
   "cell_type": "code",
   "execution_count": 56,
   "metadata": {},
   "outputs": [],
   "source": [
    "model5 = Sequential()\n",
    "\n",
    "\n",
    "model5.add(Dense(14,  activation='relu'))\n",
    "model5.add(Dropout(0.2))\n",
    "\n",
    "\n",
    "model5.add(Dense(10, activation='relu'))\n",
    "model5.add(Dropout(0.2))\n",
    "\n",
    "\n",
    "model5.add(Dense(units=1,activation='sigmoid'))\n",
    "\n",
    "\n",
    "model5.compile(loss='binary_crossentropy', optimizer='adam')"
   ]
  },
  {
   "cell_type": "code",
   "execution_count": 57,
   "metadata": {},
   "outputs": [
    {
     "name": "stdout",
     "output_type": "stream",
     "text": [
      "Epoch 1/100\n",
      "1005/1005 [==============================] - 2s 2ms/step - loss: 0.6334 - val_loss: 0.5682\n",
      "Epoch 2/100\n",
      "1005/1005 [==============================] - 1s 1ms/step - loss: 0.5756 - val_loss: 0.5470\n",
      "Epoch 3/100\n",
      "1005/1005 [==============================] - 2s 2ms/step - loss: 0.5643 - val_loss: 0.5425\n",
      "Epoch 4/100\n",
      "1005/1005 [==============================] - 2s 2ms/step - loss: 0.5578 - val_loss: 0.5419\n",
      "Epoch 5/100\n",
      "1005/1005 [==============================] - 2s 2ms/step - loss: 0.5530 - val_loss: 0.5407\n",
      "Epoch 6/100\n",
      "1005/1005 [==============================] - 1s 1ms/step - loss: 0.5511 - val_loss: 0.5353\n",
      "Epoch 7/100\n",
      "1005/1005 [==============================] - 1s 1ms/step - loss: 0.5511 - val_loss: 0.5380\n",
      "Epoch 8/100\n",
      "1005/1005 [==============================] - 1s 1ms/step - loss: 0.5502 - val_loss: 0.5347\n",
      "Epoch 9/100\n",
      "1005/1005 [==============================] - 1s 1ms/step - loss: 0.5464 - val_loss: 0.5377\n",
      "Epoch 10/100\n",
      "1005/1005 [==============================] - 1s 1ms/step - loss: 0.5472 - val_loss: 0.5361\n",
      "Epoch 11/100\n",
      "1005/1005 [==============================] - 1s 1ms/step - loss: 0.5444 - val_loss: 0.5323\n",
      "Epoch 12/100\n",
      "1005/1005 [==============================] - 2s 2ms/step - loss: 0.5441 - val_loss: 0.5320\n",
      "Epoch 13/100\n",
      "1005/1005 [==============================] - 1s 1ms/step - loss: 0.5441 - val_loss: 0.5319\n",
      "Epoch 14/100\n",
      "1005/1005 [==============================] - 2s 2ms/step - loss: 0.5436 - val_loss: 0.5311\n",
      "Epoch 15/100\n",
      "1005/1005 [==============================] - 2s 2ms/step - loss: 0.5425 - val_loss: 0.5308\n",
      "Epoch 16/100\n",
      "1005/1005 [==============================] - 2s 2ms/step - loss: 0.5431 - val_loss: 0.5299\n",
      "Epoch 17/100\n",
      "1005/1005 [==============================] - 1s 1ms/step - loss: 0.5408 - val_loss: 0.5302\n",
      "Epoch 18/100\n",
      "1005/1005 [==============================] - 1s 1ms/step - loss: 0.5410 - val_loss: 0.5314\n",
      "Epoch 19/100\n",
      "1005/1005 [==============================] - 1s 1ms/step - loss: 0.5397 - val_loss: 0.5269\n",
      "Epoch 20/100\n",
      "1005/1005 [==============================] - 2s 2ms/step - loss: 0.5397 - val_loss: 0.5271\n",
      "Epoch 21/100\n",
      "1005/1005 [==============================] - 1s 1ms/step - loss: 0.5393 - val_loss: 0.5283\n",
      "Epoch 22/100\n",
      "1005/1005 [==============================] - 1s 1ms/step - loss: 0.5384 - val_loss: 0.5258\n",
      "Epoch 23/100\n",
      "1005/1005 [==============================] - 1s 1ms/step - loss: 0.5397 - val_loss: 0.5283\n",
      "Epoch 24/100\n",
      "1005/1005 [==============================] - 1s 1ms/step - loss: 0.5383 - val_loss: 0.5242\n",
      "Epoch 25/100\n",
      "1005/1005 [==============================] - 1s 1ms/step - loss: 0.5368 - val_loss: 0.5322\n",
      "Epoch 26/100\n",
      "1005/1005 [==============================] - 1s 1ms/step - loss: 0.5378 - val_loss: 0.5277\n",
      "Epoch 27/100\n",
      "1005/1005 [==============================] - 1s 1ms/step - loss: 0.5362 - val_loss: 0.5292\n",
      "Epoch 28/100\n",
      "1005/1005 [==============================] - 1s 1ms/step - loss: 0.5361 - val_loss: 0.5244\n",
      "Epoch 29/100\n",
      "1005/1005 [==============================] - 1s 1ms/step - loss: 0.5375 - val_loss: 0.5248\n",
      "Epoch 30/100\n",
      "1005/1005 [==============================] - 2s 2ms/step - loss: 0.5357 - val_loss: 0.5241\n",
      "Epoch 31/100\n",
      "1005/1005 [==============================] - 2s 2ms/step - loss: 0.5368 - val_loss: 0.5258\n",
      "Epoch 32/100\n",
      "1005/1005 [==============================] - 2s 2ms/step - loss: 0.5364 - val_loss: 0.5254\n",
      "Epoch 33/100\n",
      "1005/1005 [==============================] - 2s 2ms/step - loss: 0.5366 - val_loss: 0.5234\n",
      "Epoch 34/100\n",
      "1005/1005 [==============================] - 2s 2ms/step - loss: 0.5363 - val_loss: 0.5276\n",
      "Epoch 35/100\n",
      "1005/1005 [==============================] - 1s 1ms/step - loss: 0.5361 - val_loss: 0.5213\n",
      "Epoch 36/100\n",
      "1005/1005 [==============================] - 1s 1ms/step - loss: 0.5345 - val_loss: 0.5215\n",
      "Epoch 37/100\n",
      "1005/1005 [==============================] - 2s 1ms/step - loss: 0.5366 - val_loss: 0.5279\n",
      "Epoch 38/100\n",
      "1005/1005 [==============================] - 1s 1ms/step - loss: 0.5358 - val_loss: 0.5241\n",
      "Epoch 39/100\n",
      "1005/1005 [==============================] - 1s 1ms/step - loss: 0.5348 - val_loss: 0.5238\n",
      "Epoch 40/100\n",
      "1005/1005 [==============================] - 1s 1ms/step - loss: 0.5345 - val_loss: 0.5250\n",
      "Epoch 41/100\n",
      "1005/1005 [==============================] - 1s 1ms/step - loss: 0.5359 - val_loss: 0.5224\n",
      "Epoch 42/100\n",
      "1005/1005 [==============================] - 1s 1ms/step - loss: 0.5338 - val_loss: 0.5217\n",
      "Epoch 43/100\n",
      "1005/1005 [==============================] - 1s 1ms/step - loss: 0.5331 - val_loss: 0.5235\n",
      "Epoch 44/100\n",
      "1005/1005 [==============================] - 1s 1ms/step - loss: 0.5343 - val_loss: 0.5250\n",
      "Epoch 45/100\n",
      "1005/1005 [==============================] - 1s 1ms/step - loss: 0.5335 - val_loss: 0.5238\n",
      "Epoch 46/100\n",
      "1005/1005 [==============================] - 1s 1ms/step - loss: 0.5342 - val_loss: 0.5270\n",
      "Epoch 47/100\n",
      "1005/1005 [==============================] - 1s 1ms/step - loss: 0.5335 - val_loss: 0.5194\n",
      "Epoch 48/100\n",
      "1005/1005 [==============================] - 1s 1ms/step - loss: 0.5341 - val_loss: 0.5278\n",
      "Epoch 49/100\n",
      "1005/1005 [==============================] - 1s 1ms/step - loss: 0.5354 - val_loss: 0.5238\n",
      "Epoch 50/100\n",
      "1005/1005 [==============================] - 1s 1ms/step - loss: 0.5349 - val_loss: 0.5241\n",
      "Epoch 51/100\n",
      "1005/1005 [==============================] - 1s 1ms/step - loss: 0.5346 - val_loss: 0.5222\n",
      "Epoch 52/100\n",
      "1005/1005 [==============================] - 1s 1ms/step - loss: 0.5331 - val_loss: 0.5242\n",
      "Epoch 53/100\n",
      "1005/1005 [==============================] - 1s 1ms/step - loss: 0.5338 - val_loss: 0.5219\n",
      "Epoch 54/100\n",
      "1005/1005 [==============================] - 1s 1ms/step - loss: 0.5338 - val_loss: 0.5256\n",
      "Epoch 55/100\n",
      "1005/1005 [==============================] - 1s 1ms/step - loss: 0.5322 - val_loss: 0.5236\n",
      "Epoch 56/100\n",
      "1005/1005 [==============================] - 1s 1ms/step - loss: 0.5336 - val_loss: 0.5253\n",
      "Epoch 57/100\n",
      "1005/1005 [==============================] - 1s 1ms/step - loss: 0.5334 - val_loss: 0.5205\n",
      "Epoch 58/100\n",
      "1005/1005 [==============================] - 1s 1ms/step - loss: 0.5334 - val_loss: 0.5236\n",
      "Epoch 59/100\n",
      "1005/1005 [==============================] - 2s 2ms/step - loss: 0.5346 - val_loss: 0.5227\n",
      "Epoch 60/100\n",
      "1005/1005 [==============================] - 1s 1ms/step - loss: 0.5331 - val_loss: 0.5241\n",
      "Epoch 61/100\n",
      "1005/1005 [==============================] - 1s 1ms/step - loss: 0.5330 - val_loss: 0.5204\n",
      "Epoch 62/100\n",
      "1005/1005 [==============================] - 1s 1ms/step - loss: 0.5323 - val_loss: 0.5252\n",
      "Epoch 63/100\n",
      "1005/1005 [==============================] - 1s 1ms/step - loss: 0.5329 - val_loss: 0.5267\n",
      "Epoch 64/100\n",
      "1005/1005 [==============================] - 1s 1ms/step - loss: 0.5323 - val_loss: 0.5217\n",
      "Epoch 65/100\n",
      "1005/1005 [==============================] - 1s 1ms/step - loss: 0.5322 - val_loss: 0.5231\n",
      "Epoch 66/100\n",
      "1005/1005 [==============================] - 1s 1ms/step - loss: 0.5341 - val_loss: 0.5268\n",
      "Epoch 67/100\n",
      "1005/1005 [==============================] - 1s 1ms/step - loss: 0.5341 - val_loss: 0.5241\n",
      "Epoch 68/100\n",
      "1005/1005 [==============================] - 1s 1ms/step - loss: 0.5335 - val_loss: 0.5235\n",
      "Epoch 69/100\n",
      "1005/1005 [==============================] - 1s 1ms/step - loss: 0.5319 - val_loss: 0.5252\n",
      "Epoch 70/100\n",
      "1005/1005 [==============================] - 1s 1ms/step - loss: 0.5351 - val_loss: 0.5256\n",
      "Epoch 71/100\n",
      "1005/1005 [==============================] - 1s 1ms/step - loss: 0.5332 - val_loss: 0.5234\n",
      "Epoch 72/100\n",
      "1005/1005 [==============================] - 1s 1ms/step - loss: 0.5332 - val_loss: 0.5207\n",
      "Epoch 72: early stopping\n"
     ]
    },
    {
     "data": {
      "text/plain": [
       "<keras.src.callbacks.History at 0x204912cc790>"
      ]
     },
     "execution_count": 57,
     "metadata": {},
     "output_type": "execute_result"
    }
   ],
   "source": [
    "model5.fit(x=x_train4, \n",
    "          y=y_train4, \n",
    "          epochs=100,\n",
    "          validation_data=(x_test4, y_test4), verbose=1,\n",
    "          callbacks=[early_stop]\n",
    "          )"
   ]
  },
  {
   "cell_type": "code",
   "execution_count": 58,
   "metadata": {},
   "outputs": [
    {
     "name": "stdout",
     "output_type": "stream",
     "text": [
      "1005/1005 [==============================] - 1s 888us/step\n",
      "335/335 [==============================] - 0s 830us/step\n",
      "Training Results\n",
      "\n",
      "              precision    recall  f1-score   support\n",
      "\n",
      "         0.0       0.77      0.69      0.73     16021\n",
      "         1.0       0.72      0.80      0.76     16110\n",
      "\n",
      "    accuracy                           0.74     32131\n",
      "   macro avg       0.75      0.74      0.74     32131\n",
      "weighted avg       0.75      0.74      0.74     32131\n",
      "\n",
      "Testing Results\n",
      "\n",
      "              precision    recall  f1-score   support\n",
      "\n",
      "         0.0       0.77      0.69      0.73      5400\n",
      "         1.0       0.71      0.80      0.75      5311\n",
      "\n",
      "    accuracy                           0.74     10711\n",
      "   macro avg       0.74      0.74      0.74     10711\n",
      "weighted avg       0.74      0.74      0.74     10711\n",
      "\n"
     ]
    }
   ],
   "source": [
    "ypred_train13 = model5.predict(x_train4)\n",
    "y_pred_test13 = model5.predict(x_test4)\n",
    "\n",
    "y_pred_test13 = (y_pred_test13 > 0.5)\n",
    "ypred_train13 = (ypred_train13 > 0.5)\n",
    "\n",
    "print(\"Training Results\\n\")\n",
    "print(classification_report(y_train4,ypred_train13))\n",
    "print(\"Testing Results\\n\")\n",
    "print(classification_report(y_test4,y_pred_test13))"
   ]
  },
  {
   "cell_type": "code",
   "execution_count": 59,
   "metadata": {},
   "outputs": [
    {
     "name": "stdout",
     "output_type": "stream",
     "text": [
      "335/335 [==============================] - 0s 852us/step\n"
     ]
    },
    {
     "data": {
      "image/png": "[encoded data removed]",
      "text/plain": [
       "<Figure size 640x480 with 1 Axes>"
      ]
     },
     "metadata": {},
     "output_type": "display_data"
    }
   ],
   "source": [
    "# cross_val_scores = cross_val_score(model2, x_train4, y_train4, cv=5)\n",
    "# print(\"Cross-validation scores:\", cross_val_scores)\n",
    "# print(\"Average cross-validation score:\", np.mean(cross_val_scores))\n",
    "y_proba_test = model5.predict(x_test4).flatten()\n",
    "\n",
    "\n",
    "fpr, tpr, thresholds = roc_curve(y_test4, y_proba_test)\n",
    "\n",
    "plt.plot(fpr, tpr, label='ROC Curve')\n",
    "plt.xlabel('False Positive Rate')\n",
    "plt.ylabel('True Positive Rate')\n",
    "plt.title('ROC Curve with AUC = {:.2f}'.format(roc_auc_score(y_test4, y_proba_test)))\n",
    "plt.legend(loc='lower right')\n",
    "plt.grid(True)\n",
    "plt.show()"
   ]
  },
  {
   "cell_type": "markdown",
   "metadata": {},
   "source": [
    "## SVC"
   ]
  },
  {
   "cell_type": "code",
   "execution_count": 60,
   "metadata": {},
   "outputs": [],
   "source": [
    "model3 = SVC(probability=True)"
   ]
  },
  {
   "cell_type": "code",
   "execution_count": 61,
   "metadata": {},
   "outputs": [
    {
     "data": {
      "text/html": [
       "<style>#sk-container-id-7 {color: black;}#sk-container-id-7 pre{padding: 0;}#sk-container-id-7 div.sk-toggleable {background-color: white;}#sk-container-id-7 label.sk-toggleable__label {cursor: pointer;display: block;width: 100%;margin-bottom: 0;padding: 0.3em;box-sizing: border-box;text-align: center;}#sk-container-id-7 label.sk-toggleable__label-arrow:before {content: \"▸\";float: left;margin-right: 0.25em;color: #696969;}#sk-container-id-7 label.sk-toggleable__label-arrow:hover:before {color: black;}#sk-container-id-7 div.sk-estimator:hover label.sk-toggleable__label-arrow:before {color: black;}#sk-container-id-7 div.sk-toggleable__content {max-height: 0;max-width: 0;overflow: hidden;text-align: left;background-color: #f0f8ff;}#sk-container-id-7 div.sk-toggleable__content pre {margin: 0.2em;color: black;border-radius: 0.25em;background-color: #f0f8ff;}#sk-container-id-7 input.sk-toggleable__control:checked~div.sk-toggleable__content {max-height: 200px;max-width: 100%;overflow: auto;}#sk-container-id-7 input.sk-toggleable__control:checked~label.sk-toggleable__label-arrow:before {content: \"▾\";}#sk-container-id-7 div.sk-estimator input.sk-toggleable__control:checked~label.sk-toggleable__label {background-color: #d4ebff;}#sk-container-id-7 div.sk-label input.sk-toggleable__control:checked~label.sk-toggleable__label {background-color: #d4ebff;}#sk-container-id-7 input.sk-hidden--visually {border: 0;clip: rect(1px 1px 1px 1px);clip: rect(1px, 1px, 1px, 1px);height: 1px;margin: -1px;overflow: hidden;padding: 0;position: absolute;width: 1px;}#sk-container-id-7 div.sk-estimator {font-family: monospace;background-color: #f0f8ff;border: 1px dotted black;border-radius: 0.25em;box-sizing: border-box;margin-bottom: 0.5em;}#sk-container-id-7 div.sk-estimator:hover {background-color: #d4ebff;}#sk-container-id-7 div.sk-parallel-item::after {content: \"\";width: 100%;border-bottom: 1px solid gray;flex-grow: 1;}#sk-container-id-7 div.sk-label:hover label.sk-toggleable__label {background-color: #d4ebff;}#sk-container-id-7 div.sk-serial::before {content: \"\";position: absolute;border-left: 1px solid gray;box-sizing: border-box;top: 0;bottom: 0;left: 50%;z-index: 0;}#sk-container-id-7 div.sk-serial {display: flex;flex-direction: column;align-items: center;background-color: white;padding-right: 0.2em;padding-left: 0.2em;position: relative;}#sk-container-id-7 div.sk-item {position: relative;z-index: 1;}#sk-container-id-7 div.sk-parallel {display: flex;align-items: stretch;justify-content: center;background-color: white;position: relative;}#sk-container-id-7 div.sk-item::before, #sk-container-id-7 div.sk-parallel-item::before {content: \"\";position: absolute;border-left: 1px solid gray;box-sizing: border-box;top: 0;bottom: 0;left: 50%;z-index: -1;}#sk-container-id-7 div.sk-parallel-item {display: flex;flex-direction: column;z-index: 1;position: relative;background-color: white;}#sk-container-id-7 div.sk-parallel-item:first-child::after {align-self: flex-end;width: 50%;}#sk-container-id-7 div.sk-parallel-item:last-child::after {align-self: flex-start;width: 50%;}#sk-container-id-7 div.sk-parallel-item:only-child::after {width: 0;}#sk-container-id-7 div.sk-dashed-wrapped {border: 1px dashed gray;margin: 0 0.4em 0.5em 0.4em;box-sizing: border-box;padding-bottom: 0.4em;background-color: white;}#sk-container-id-7 div.sk-label label {font-family: monospace;font-weight: bold;display: inline-block;line-height: 1.2em;}#sk-container-id-7 div.sk-label-container {text-align: center;}#sk-container-id-7 div.sk-container {/* jupyter's `normalize.less` sets `[hidden] { display: none; }` but bootstrap.min.css set `[hidden] { display: none !important; }` so we also need the `!important` here to be able to override the default hidden behavior on the sphinx rendered scikit-learn.org. See: https://github.com/scikit-learn/scikit-learn/issues/21755 */display: inline-block !important;position: relative;}#sk-container-id-7 div.sk-text-repr-fallback {display: none;}</style><div id=\"sk-container-id-7\" class=\"sk-top-container\"><div class=\"sk-text-repr-fallback\"><pre>SVC(probability=True)</pre><b>In a Jupyter environment, please rerun this cell to show the HTML representation or trust the notebook. <br />On GitHub, the HTML representation is unable to render, please try loading this page with nbviewer.org.</b></div><div class=\"sk-container\" hidden><div class=\"sk-item\"><div class=\"sk-estimator sk-toggleable\"><input class=\"sk-toggleable__control sk-hidden--visually\" id=\"sk-estimator-id-11\" type=\"checkbox\" checked><label for=\"sk-estimator-id-11\" class=\"sk-toggleable__label sk-toggleable__label-arrow\">SVC</label><div class=\"sk-toggleable__content\"><pre>SVC(probability=True)</pre></div></div></div></div></div>"
      ],
      "text/plain": [
       "SVC(probability=True)"
      ]
     },
     "execution_count": 61,
     "metadata": {},
     "output_type": "execute_result"
    }
   ],
   "source": [
    "model3.fit(x_train4,y_train4)"
   ]
  },
  {
   "cell_type": "code",
   "execution_count": 62,
   "metadata": {},
   "outputs": [
    {
     "name": "stdout",
     "output_type": "stream",
     "text": [
      "Training Results\n",
      "\n",
      "              precision    recall  f1-score   support\n",
      "\n",
      "         0.0       0.78      0.67      0.72     16021\n",
      "         1.0       0.71      0.81      0.76     16110\n",
      "\n",
      "    accuracy                           0.74     32131\n",
      "   macro avg       0.74      0.74      0.74     32131\n",
      "weighted avg       0.74      0.74      0.74     32131\n",
      "\n",
      "Testing Results\n",
      "\n",
      "              precision    recall  f1-score   support\n",
      "\n",
      "         0.0       0.77      0.67      0.72      5400\n",
      "         1.0       0.70      0.80      0.75      5311\n",
      "\n",
      "    accuracy                           0.73     10711\n",
      "   macro avg       0.74      0.73      0.73     10711\n",
      "weighted avg       0.74      0.73      0.73     10711\n",
      "\n"
     ]
    }
   ],
   "source": [
    "ypred_train14 = model3.predict(x_train4)\n",
    "y_pred_test14 = model3.predict(x_test4)\n",
    "\n",
    "print(\"Training Results\\n\")\n",
    "print(classification_report(y_train4,ypred_train14))\n",
    "print(\"Testing Results\\n\")\n",
    "print(classification_report(y_test4,y_pred_test14))"
   ]
  },
  {
   "cell_type": "code",
   "execution_count": 63,
   "metadata": {},
   "outputs": [],
   "source": [
    "param_grid = {'C': [0.1,1, 10, 100, 1000], 'gamma': [1,0.1,0.01,0.001,0.0001], 'kernel': ['rbf']} "
   ]
  },
  {
   "cell_type": "code",
   "execution_count": 64,
   "metadata": {},
   "outputs": [],
   "source": [
    "grid = GridSearchCV(SVC(),param_grid,refit=True,verbose=3)"
   ]
  },
  {
   "cell_type": "code",
   "execution_count": 65,
   "metadata": {},
   "outputs": [
    {
     "name": "stdout",
     "output_type": "stream",
     "text": [
      "Fitting 5 folds for each of 25 candidates, totalling 125 fits\n",
      "[CV 1/5] END ........C=0.1, gamma=1, kernel=rbf;, score=0.726 total time=  26.1s\n",
      "[CV 2/5] END ........C=0.1, gamma=1, kernel=rbf;, score=0.738 total time=  26.2s\n",
      "[CV 3/5] END ........C=0.1, gamma=1, kernel=rbf;, score=0.728 total time=  26.0s\n",
      "[CV 4/5] END ........C=0.1, gamma=1, kernel=rbf;, score=0.727 total time=  25.7s\n",
      "[CV 5/5] END ........C=0.1, gamma=1, kernel=rbf;, score=0.730 total time=  17.8s\n",
      "[CV 1/5] END ......C=0.1, gamma=0.1, kernel=rbf;, score=0.727 total time=  18.6s\n",
      "[CV 2/5] END ......C=0.1, gamma=0.1, kernel=rbf;, score=0.738 total time=  18.4s\n",
      "[CV 3/5] END ......C=0.1, gamma=0.1, kernel=rbf;, score=0.730 total time=  24.5s\n",
      "[CV 4/5] END ......C=0.1, gamma=0.1, kernel=rbf;, score=0.734 total time=  25.2s\n",
      "[CV 5/5] END ......C=0.1, gamma=0.1, kernel=rbf;, score=0.732 total time=  25.6s\n",
      "[CV 1/5] END .....C=0.1, gamma=0.01, kernel=rbf;, score=0.719 total time=  27.9s\n",
      "[CV 2/5] END .....C=0.1, gamma=0.01, kernel=rbf;, score=0.728 total time=  24.1s\n",
      "[CV 3/5] END .....C=0.1, gamma=0.01, kernel=rbf;, score=0.723 total time=  25.6s\n",
      "[CV 4/5] END .....C=0.1, gamma=0.01, kernel=rbf;, score=0.725 total time=  24.1s\n",
      "[CV 5/5] END .....C=0.1, gamma=0.01, kernel=rbf;, score=0.720 total time=  23.6s\n",
      "[CV 1/5] END ....C=0.1, gamma=0.001, kernel=rbf;, score=0.696 total time=  33.1s\n",
      "[CV 2/5] END ....C=0.1, gamma=0.001, kernel=rbf;, score=0.701 total time=  22.6s\n",
      "[CV 3/5] END ....C=0.1, gamma=0.001, kernel=rbf;, score=0.703 total time=  30.5s\n"
     ]
    },
    {
     "ename": "KeyboardInterrupt",
     "evalue": "",
     "output_type": "error",
     "traceback": [
      "\u001b[1;31m---------------------------------------------------------------------------\u001b[0m",
      "\u001b[1;31mKeyboardInterrupt\u001b[0m                         Traceback (most recent call last)",
      "Cell \u001b[1;32mIn[65], line 1\u001b[0m\n\u001b[1;32m----> 1\u001b[0m grid\u001b[38;5;241m.\u001b[39mfit(x_train4,y_train4)\n",
      "File \u001b[1;32m~\\AppData\\Roaming\\Python\\Python311\\site-packages\\sklearn\\base.py:1152\u001b[0m, in \u001b[0;36m_fit_context.<locals>.decorator.<locals>.wrapper\u001b[1;34m(estimator, *args, **kwargs)\u001b[0m\n\u001b[0;32m   1145\u001b[0m     estimator\u001b[38;5;241m.\u001b[39m_validate_params()\n\u001b[0;32m   1147\u001b[0m \u001b[38;5;28;01mwith\u001b[39;00m config_context(\n\u001b[0;32m   1148\u001b[0m     skip_parameter_validation\u001b[38;5;241m=\u001b[39m(\n\u001b[0;32m   1149\u001b[0m         prefer_skip_nested_validation \u001b[38;5;129;01mor\u001b[39;00m global_skip_validation\n\u001b[0;32m   1150\u001b[0m     )\n\u001b[0;32m   1151\u001b[0m ):\n\u001b[1;32m-> 1152\u001b[0m     \u001b[38;5;28;01mreturn\u001b[39;00m fit_method(estimator, \u001b[38;5;241m*\u001b[39margs, \u001b[38;5;241m*\u001b[39m\u001b[38;5;241m*\u001b[39mkwargs)\n",
      "File \u001b[1;32m~\\AppData\\Roaming\\Python\\Python311\\site-packages\\sklearn\\model_selection\\_search.py:898\u001b[0m, in \u001b[0;36mBaseSearchCV.fit\u001b[1;34m(self, X, y, groups, **fit_params)\u001b[0m\n\u001b[0;32m    892\u001b[0m     results \u001b[38;5;241m=\u001b[39m \u001b[38;5;28mself\u001b[39m\u001b[38;5;241m.\u001b[39m_format_results(\n\u001b[0;32m    893\u001b[0m         all_candidate_params, n_splits, all_out, all_more_results\n\u001b[0;32m    894\u001b[0m     )\n\u001b[0;32m    896\u001b[0m     \u001b[38;5;28;01mreturn\u001b[39;00m results\n\u001b[1;32m--> 898\u001b[0m \u001b[38;5;28mself\u001b[39m\u001b[38;5;241m.\u001b[39m_run_search(evaluate_candidates)\n\u001b[0;32m    900\u001b[0m \u001b[38;5;66;03m# multimetric is determined here because in the case of a callable\u001b[39;00m\n\u001b[0;32m    901\u001b[0m \u001b[38;5;66;03m# self.scoring the return type is only known after calling\u001b[39;00m\n\u001b[0;32m    902\u001b[0m first_test_score \u001b[38;5;241m=\u001b[39m all_out[\u001b[38;5;241m0\u001b[39m][\u001b[38;5;124m\"\u001b[39m\u001b[38;5;124mtest_scores\u001b[39m\u001b[38;5;124m\"\u001b[39m]\n",
      "File \u001b[1;32m~\\AppData\\Roaming\\Python\\Python311\\site-packages\\sklearn\\model_selection\\_search.py:1422\u001b[0m, in \u001b[0;36mGridSearchCV._run_search\u001b[1;34m(self, evaluate_candidates)\u001b[0m\n\u001b[0;32m   1420\u001b[0m \u001b[38;5;28;01mdef\u001b[39;00m \u001b[38;5;21m_run_search\u001b[39m(\u001b[38;5;28mself\u001b[39m, evaluate_candidates):\n\u001b[0;32m   1421\u001b[0m \u001b[38;5;250m    \u001b[39m\u001b[38;5;124;03m\"\"\"Search all candidates in param_grid\"\"\"\u001b[39;00m\n\u001b[1;32m-> 1422\u001b[0m     evaluate_candidates(ParameterGrid(\u001b[38;5;28mself\u001b[39m\u001b[38;5;241m.\u001b[39mparam_grid))\n",
      "File \u001b[1;32m~\\AppData\\Roaming\\Python\\Python311\\site-packages\\sklearn\\model_selection\\_search.py:845\u001b[0m, in \u001b[0;36mBaseSearchCV.fit.<locals>.evaluate_candidates\u001b[1;34m(candidate_params, cv, more_results)\u001b[0m\n\u001b[0;32m    837\u001b[0m \u001b[38;5;28;01mif\u001b[39;00m \u001b[38;5;28mself\u001b[39m\u001b[38;5;241m.\u001b[39mverbose \u001b[38;5;241m>\u001b[39m \u001b[38;5;241m0\u001b[39m:\n\u001b[0;32m    838\u001b[0m     \u001b[38;5;28mprint\u001b[39m(\n\u001b[0;32m    839\u001b[0m         \u001b[38;5;124m\"\u001b[39m\u001b[38;5;124mFitting \u001b[39m\u001b[38;5;132;01m{0}\u001b[39;00m\u001b[38;5;124m folds for each of \u001b[39m\u001b[38;5;132;01m{1}\u001b[39;00m\u001b[38;5;124m candidates,\u001b[39m\u001b[38;5;124m\"\u001b[39m\n\u001b[0;32m    840\u001b[0m         \u001b[38;5;124m\"\u001b[39m\u001b[38;5;124m totalling \u001b[39m\u001b[38;5;132;01m{2}\u001b[39;00m\u001b[38;5;124m fits\u001b[39m\u001b[38;5;124m\"\u001b[39m\u001b[38;5;241m.\u001b[39mformat(\n\u001b[0;32m    841\u001b[0m             n_splits, n_candidates, n_candidates \u001b[38;5;241m*\u001b[39m n_splits\n\u001b[0;32m    842\u001b[0m         )\n\u001b[0;32m    843\u001b[0m     )\n\u001b[1;32m--> 845\u001b[0m out \u001b[38;5;241m=\u001b[39m parallel(\n\u001b[0;32m    846\u001b[0m     delayed(_fit_and_score)(\n\u001b[0;32m    847\u001b[0m         clone(base_estimator),\n\u001b[0;32m    848\u001b[0m         X,\n\u001b[0;32m    849\u001b[0m         y,\n\u001b[0;32m    850\u001b[0m         train\u001b[38;5;241m=\u001b[39mtrain,\n\u001b[0;32m    851\u001b[0m         test\u001b[38;5;241m=\u001b[39mtest,\n\u001b[0;32m    852\u001b[0m         parameters\u001b[38;5;241m=\u001b[39mparameters,\n\u001b[0;32m    853\u001b[0m         split_progress\u001b[38;5;241m=\u001b[39m(split_idx, n_splits),\n\u001b[0;32m    854\u001b[0m         candidate_progress\u001b[38;5;241m=\u001b[39m(cand_idx, n_candidates),\n\u001b[0;32m    855\u001b[0m         \u001b[38;5;241m*\u001b[39m\u001b[38;5;241m*\u001b[39mfit_and_score_kwargs,\n\u001b[0;32m    856\u001b[0m     )\n\u001b[0;32m    857\u001b[0m     \u001b[38;5;28;01mfor\u001b[39;00m (cand_idx, parameters), (split_idx, (train, test)) \u001b[38;5;129;01min\u001b[39;00m product(\n\u001b[0;32m    858\u001b[0m         \u001b[38;5;28menumerate\u001b[39m(candidate_params), \u001b[38;5;28menumerate\u001b[39m(cv\u001b[38;5;241m.\u001b[39msplit(X, y, groups))\n\u001b[0;32m    859\u001b[0m     )\n\u001b[0;32m    860\u001b[0m )\n\u001b[0;32m    862\u001b[0m \u001b[38;5;28;01mif\u001b[39;00m \u001b[38;5;28mlen\u001b[39m(out) \u001b[38;5;241m<\u001b[39m \u001b[38;5;241m1\u001b[39m:\n\u001b[0;32m    863\u001b[0m     \u001b[38;5;28;01mraise\u001b[39;00m \u001b[38;5;167;01mValueError\u001b[39;00m(\n\u001b[0;32m    864\u001b[0m         \u001b[38;5;124m\"\u001b[39m\u001b[38;5;124mNo fits were performed. \u001b[39m\u001b[38;5;124m\"\u001b[39m\n\u001b[0;32m    865\u001b[0m         \u001b[38;5;124m\"\u001b[39m\u001b[38;5;124mWas the CV iterator empty? \u001b[39m\u001b[38;5;124m\"\u001b[39m\n\u001b[0;32m    866\u001b[0m         \u001b[38;5;124m\"\u001b[39m\u001b[38;5;124mWere there no candidates?\u001b[39m\u001b[38;5;124m\"\u001b[39m\n\u001b[0;32m    867\u001b[0m     )\n",
      "File \u001b[1;32m~\\AppData\\Roaming\\Python\\Python311\\site-packages\\sklearn\\utils\\parallel.py:65\u001b[0m, in \u001b[0;36mParallel.__call__\u001b[1;34m(self, iterable)\u001b[0m\n\u001b[0;32m     60\u001b[0m config \u001b[38;5;241m=\u001b[39m get_config()\n\u001b[0;32m     61\u001b[0m iterable_with_config \u001b[38;5;241m=\u001b[39m (\n\u001b[0;32m     62\u001b[0m     (_with_config(delayed_func, config), args, kwargs)\n\u001b[0;32m     63\u001b[0m     \u001b[38;5;28;01mfor\u001b[39;00m delayed_func, args, kwargs \u001b[38;5;129;01min\u001b[39;00m iterable\n\u001b[0;32m     64\u001b[0m )\n\u001b[1;32m---> 65\u001b[0m \u001b[38;5;28;01mreturn\u001b[39;00m \u001b[38;5;28msuper\u001b[39m()\u001b[38;5;241m.\u001b[39m\u001b[38;5;21m__call__\u001b[39m(iterable_with_config)\n",
      "File \u001b[1;32m~\\AppData\\Roaming\\Python\\Python311\\site-packages\\joblib\\parallel.py:1863\u001b[0m, in \u001b[0;36mParallel.__call__\u001b[1;34m(self, iterable)\u001b[0m\n\u001b[0;32m   1861\u001b[0m     output \u001b[38;5;241m=\u001b[39m \u001b[38;5;28mself\u001b[39m\u001b[38;5;241m.\u001b[39m_get_sequential_output(iterable)\n\u001b[0;32m   1862\u001b[0m     \u001b[38;5;28mnext\u001b[39m(output)\n\u001b[1;32m-> 1863\u001b[0m     \u001b[38;5;28;01mreturn\u001b[39;00m output \u001b[38;5;28;01mif\u001b[39;00m \u001b[38;5;28mself\u001b[39m\u001b[38;5;241m.\u001b[39mreturn_generator \u001b[38;5;28;01melse\u001b[39;00m \u001b[38;5;28mlist\u001b[39m(output)\n\u001b[0;32m   1865\u001b[0m \u001b[38;5;66;03m# Let's create an ID that uniquely identifies the current call. If the\u001b[39;00m\n\u001b[0;32m   1866\u001b[0m \u001b[38;5;66;03m# call is interrupted early and that the same instance is immediately\u001b[39;00m\n\u001b[0;32m   1867\u001b[0m \u001b[38;5;66;03m# re-used, this id will be used to prevent workers that were\u001b[39;00m\n\u001b[0;32m   1868\u001b[0m \u001b[38;5;66;03m# concurrently finalizing a task from the previous call to run the\u001b[39;00m\n\u001b[0;32m   1869\u001b[0m \u001b[38;5;66;03m# callback.\u001b[39;00m\n\u001b[0;32m   1870\u001b[0m \u001b[38;5;28;01mwith\u001b[39;00m \u001b[38;5;28mself\u001b[39m\u001b[38;5;241m.\u001b[39m_lock:\n",
      "File \u001b[1;32m~\\AppData\\Roaming\\Python\\Python311\\site-packages\\joblib\\parallel.py:1792\u001b[0m, in \u001b[0;36mParallel._get_sequential_output\u001b[1;34m(self, iterable)\u001b[0m\n\u001b[0;32m   1790\u001b[0m \u001b[38;5;28mself\u001b[39m\u001b[38;5;241m.\u001b[39mn_dispatched_batches \u001b[38;5;241m+\u001b[39m\u001b[38;5;241m=\u001b[39m \u001b[38;5;241m1\u001b[39m\n\u001b[0;32m   1791\u001b[0m \u001b[38;5;28mself\u001b[39m\u001b[38;5;241m.\u001b[39mn_dispatched_tasks \u001b[38;5;241m+\u001b[39m\u001b[38;5;241m=\u001b[39m \u001b[38;5;241m1\u001b[39m\n\u001b[1;32m-> 1792\u001b[0m res \u001b[38;5;241m=\u001b[39m func(\u001b[38;5;241m*\u001b[39margs, \u001b[38;5;241m*\u001b[39m\u001b[38;5;241m*\u001b[39mkwargs)\n\u001b[0;32m   1793\u001b[0m \u001b[38;5;28mself\u001b[39m\u001b[38;5;241m.\u001b[39mn_completed_tasks \u001b[38;5;241m+\u001b[39m\u001b[38;5;241m=\u001b[39m \u001b[38;5;241m1\u001b[39m\n\u001b[0;32m   1794\u001b[0m \u001b[38;5;28mself\u001b[39m\u001b[38;5;241m.\u001b[39mprint_progress()\n",
      "File \u001b[1;32m~\\AppData\\Roaming\\Python\\Python311\\site-packages\\sklearn\\utils\\parallel.py:127\u001b[0m, in \u001b[0;36m_FuncWrapper.__call__\u001b[1;34m(self, *args, **kwargs)\u001b[0m\n\u001b[0;32m    125\u001b[0m     config \u001b[38;5;241m=\u001b[39m {}\n\u001b[0;32m    126\u001b[0m \u001b[38;5;28;01mwith\u001b[39;00m config_context(\u001b[38;5;241m*\u001b[39m\u001b[38;5;241m*\u001b[39mconfig):\n\u001b[1;32m--> 127\u001b[0m     \u001b[38;5;28;01mreturn\u001b[39;00m \u001b[38;5;28mself\u001b[39m\u001b[38;5;241m.\u001b[39mfunction(\u001b[38;5;241m*\u001b[39margs, \u001b[38;5;241m*\u001b[39m\u001b[38;5;241m*\u001b[39mkwargs)\n",
      "File \u001b[1;32m~\\AppData\\Roaming\\Python\\Python311\\site-packages\\sklearn\\model_selection\\_validation.py:751\u001b[0m, in \u001b[0;36m_fit_and_score\u001b[1;34m(estimator, X, y, scorer, train, test, verbose, parameters, fit_params, return_train_score, return_parameters, return_n_test_samples, return_times, return_estimator, split_progress, candidate_progress, error_score)\u001b[0m\n\u001b[0;32m    748\u001b[0m result[\u001b[38;5;124m\"\u001b[39m\u001b[38;5;124mfit_error\u001b[39m\u001b[38;5;124m\"\u001b[39m] \u001b[38;5;241m=\u001b[39m \u001b[38;5;28;01mNone\u001b[39;00m\n\u001b[0;32m    750\u001b[0m fit_time \u001b[38;5;241m=\u001b[39m time\u001b[38;5;241m.\u001b[39mtime() \u001b[38;5;241m-\u001b[39m start_time\n\u001b[1;32m--> 751\u001b[0m test_scores \u001b[38;5;241m=\u001b[39m _score(estimator, X_test, y_test, scorer, error_score)\n\u001b[0;32m    752\u001b[0m score_time \u001b[38;5;241m=\u001b[39m time\u001b[38;5;241m.\u001b[39mtime() \u001b[38;5;241m-\u001b[39m start_time \u001b[38;5;241m-\u001b[39m fit_time\n\u001b[0;32m    753\u001b[0m \u001b[38;5;28;01mif\u001b[39;00m return_train_score:\n",
      "File \u001b[1;32m~\\AppData\\Roaming\\Python\\Python311\\site-packages\\sklearn\\model_selection\\_validation.py:810\u001b[0m, in \u001b[0;36m_score\u001b[1;34m(estimator, X_test, y_test, scorer, error_score)\u001b[0m\n\u001b[0;32m    808\u001b[0m         scores \u001b[38;5;241m=\u001b[39m scorer(estimator, X_test)\n\u001b[0;32m    809\u001b[0m     \u001b[38;5;28;01melse\u001b[39;00m:\n\u001b[1;32m--> 810\u001b[0m         scores \u001b[38;5;241m=\u001b[39m scorer(estimator, X_test, y_test)\n\u001b[0;32m    811\u001b[0m \u001b[38;5;28;01mexcept\u001b[39;00m \u001b[38;5;167;01mException\u001b[39;00m:\n\u001b[0;32m    812\u001b[0m     \u001b[38;5;28;01mif\u001b[39;00m \u001b[38;5;28misinstance\u001b[39m(scorer, _MultimetricScorer):\n\u001b[0;32m    813\u001b[0m         \u001b[38;5;66;03m# If `_MultimetricScorer` raises exception, the `error_score`\u001b[39;00m\n\u001b[0;32m    814\u001b[0m         \u001b[38;5;66;03m# parameter is equal to \"raise\".\u001b[39;00m\n",
      "File \u001b[1;32m~\\AppData\\Roaming\\Python\\Python311\\site-packages\\sklearn\\metrics\\_scorer.py:527\u001b[0m, in \u001b[0;36m_PassthroughScorer.__call__\u001b[1;34m(self, estimator, *args, **kwargs)\u001b[0m\n\u001b[0;32m    525\u001b[0m \u001b[38;5;28;01mdef\u001b[39;00m \u001b[38;5;21m__call__\u001b[39m(\u001b[38;5;28mself\u001b[39m, estimator, \u001b[38;5;241m*\u001b[39margs, \u001b[38;5;241m*\u001b[39m\u001b[38;5;241m*\u001b[39mkwargs):\n\u001b[0;32m    526\u001b[0m \u001b[38;5;250m    \u001b[39m\u001b[38;5;124;03m\"\"\"Method that wraps estimator.score\"\"\"\u001b[39;00m\n\u001b[1;32m--> 527\u001b[0m     \u001b[38;5;28;01mreturn\u001b[39;00m estimator\u001b[38;5;241m.\u001b[39mscore(\u001b[38;5;241m*\u001b[39margs, \u001b[38;5;241m*\u001b[39m\u001b[38;5;241m*\u001b[39mkwargs)\n",
      "File \u001b[1;32m~\\AppData\\Roaming\\Python\\Python311\\site-packages\\sklearn\\base.py:706\u001b[0m, in \u001b[0;36mClassifierMixin.score\u001b[1;34m(self, X, y, sample_weight)\u001b[0m\n\u001b[0;32m    681\u001b[0m \u001b[38;5;250m\u001b[39m\u001b[38;5;124;03m\"\"\"\u001b[39;00m\n\u001b[0;32m    682\u001b[0m \u001b[38;5;124;03mReturn the mean accuracy on the given test data and labels.\u001b[39;00m\n\u001b[0;32m    683\u001b[0m \n\u001b[1;32m   (...)\u001b[0m\n\u001b[0;32m    702\u001b[0m \u001b[38;5;124;03m    Mean accuracy of ``self.predict(X)`` w.r.t. `y`.\u001b[39;00m\n\u001b[0;32m    703\u001b[0m \u001b[38;5;124;03m\"\"\"\u001b[39;00m\n\u001b[0;32m    704\u001b[0m \u001b[38;5;28;01mfrom\u001b[39;00m \u001b[38;5;21;01m.\u001b[39;00m\u001b[38;5;21;01mmetrics\u001b[39;00m \u001b[38;5;28;01mimport\u001b[39;00m accuracy_score\n\u001b[1;32m--> 706\u001b[0m \u001b[38;5;28;01mreturn\u001b[39;00m accuracy_score(y, \u001b[38;5;28mself\u001b[39m\u001b[38;5;241m.\u001b[39mpredict(X), sample_weight\u001b[38;5;241m=\u001b[39msample_weight)\n",
      "File \u001b[1;32m~\\AppData\\Roaming\\Python\\Python311\\site-packages\\sklearn\\svm\\_base.py:818\u001b[0m, in \u001b[0;36mBaseSVC.predict\u001b[1;34m(self, X)\u001b[0m\n\u001b[0;32m    816\u001b[0m     y \u001b[38;5;241m=\u001b[39m np\u001b[38;5;241m.\u001b[39margmax(\u001b[38;5;28mself\u001b[39m\u001b[38;5;241m.\u001b[39mdecision_function(X), axis\u001b[38;5;241m=\u001b[39m\u001b[38;5;241m1\u001b[39m)\n\u001b[0;32m    817\u001b[0m \u001b[38;5;28;01melse\u001b[39;00m:\n\u001b[1;32m--> 818\u001b[0m     y \u001b[38;5;241m=\u001b[39m \u001b[38;5;28msuper\u001b[39m()\u001b[38;5;241m.\u001b[39mpredict(X)\n\u001b[0;32m    819\u001b[0m \u001b[38;5;28;01mreturn\u001b[39;00m \u001b[38;5;28mself\u001b[39m\u001b[38;5;241m.\u001b[39mclasses_\u001b[38;5;241m.\u001b[39mtake(np\u001b[38;5;241m.\u001b[39masarray(y, dtype\u001b[38;5;241m=\u001b[39mnp\u001b[38;5;241m.\u001b[39mintp))\n",
      "File \u001b[1;32m~\\AppData\\Roaming\\Python\\Python311\\site-packages\\sklearn\\svm\\_base.py:433\u001b[0m, in \u001b[0;36mBaseLibSVM.predict\u001b[1;34m(self, X)\u001b[0m\n\u001b[0;32m    431\u001b[0m X \u001b[38;5;241m=\u001b[39m \u001b[38;5;28mself\u001b[39m\u001b[38;5;241m.\u001b[39m_validate_for_predict(X)\n\u001b[0;32m    432\u001b[0m predict \u001b[38;5;241m=\u001b[39m \u001b[38;5;28mself\u001b[39m\u001b[38;5;241m.\u001b[39m_sparse_predict \u001b[38;5;28;01mif\u001b[39;00m \u001b[38;5;28mself\u001b[39m\u001b[38;5;241m.\u001b[39m_sparse \u001b[38;5;28;01melse\u001b[39;00m \u001b[38;5;28mself\u001b[39m\u001b[38;5;241m.\u001b[39m_dense_predict\n\u001b[1;32m--> 433\u001b[0m \u001b[38;5;28;01mreturn\u001b[39;00m predict(X)\n",
      "File \u001b[1;32m~\\AppData\\Roaming\\Python\\Python311\\site-packages\\sklearn\\svm\\_base.py:452\u001b[0m, in \u001b[0;36mBaseLibSVM._dense_predict\u001b[1;34m(self, X)\u001b[0m\n\u001b[0;32m    444\u001b[0m         \u001b[38;5;28;01mraise\u001b[39;00m \u001b[38;5;167;01mValueError\u001b[39;00m(\n\u001b[0;32m    445\u001b[0m             \u001b[38;5;124m\"\u001b[39m\u001b[38;5;124mX.shape[1] = \u001b[39m\u001b[38;5;132;01m%d\u001b[39;00m\u001b[38;5;124m should be equal to \u001b[39m\u001b[38;5;132;01m%d\u001b[39;00m\u001b[38;5;124m, \u001b[39m\u001b[38;5;124m\"\u001b[39m\n\u001b[0;32m    446\u001b[0m             \u001b[38;5;124m\"\u001b[39m\u001b[38;5;124mthe number of samples at training time\u001b[39m\u001b[38;5;124m\"\u001b[39m\n\u001b[0;32m    447\u001b[0m             \u001b[38;5;241m%\u001b[39m (X\u001b[38;5;241m.\u001b[39mshape[\u001b[38;5;241m1\u001b[39m], \u001b[38;5;28mself\u001b[39m\u001b[38;5;241m.\u001b[39mshape_fit_[\u001b[38;5;241m0\u001b[39m])\n\u001b[0;32m    448\u001b[0m         )\n\u001b[0;32m    450\u001b[0m svm_type \u001b[38;5;241m=\u001b[39m LIBSVM_IMPL\u001b[38;5;241m.\u001b[39mindex(\u001b[38;5;28mself\u001b[39m\u001b[38;5;241m.\u001b[39m_impl)\n\u001b[1;32m--> 452\u001b[0m \u001b[38;5;28;01mreturn\u001b[39;00m libsvm\u001b[38;5;241m.\u001b[39mpredict(\n\u001b[0;32m    453\u001b[0m     X,\n\u001b[0;32m    454\u001b[0m     \u001b[38;5;28mself\u001b[39m\u001b[38;5;241m.\u001b[39msupport_,\n\u001b[0;32m    455\u001b[0m     \u001b[38;5;28mself\u001b[39m\u001b[38;5;241m.\u001b[39msupport_vectors_,\n\u001b[0;32m    456\u001b[0m     \u001b[38;5;28mself\u001b[39m\u001b[38;5;241m.\u001b[39m_n_support,\n\u001b[0;32m    457\u001b[0m     \u001b[38;5;28mself\u001b[39m\u001b[38;5;241m.\u001b[39m_dual_coef_,\n\u001b[0;32m    458\u001b[0m     \u001b[38;5;28mself\u001b[39m\u001b[38;5;241m.\u001b[39m_intercept_,\n\u001b[0;32m    459\u001b[0m     \u001b[38;5;28mself\u001b[39m\u001b[38;5;241m.\u001b[39m_probA,\n\u001b[0;32m    460\u001b[0m     \u001b[38;5;28mself\u001b[39m\u001b[38;5;241m.\u001b[39m_probB,\n\u001b[0;32m    461\u001b[0m     svm_type\u001b[38;5;241m=\u001b[39msvm_type,\n\u001b[0;32m    462\u001b[0m     kernel\u001b[38;5;241m=\u001b[39mkernel,\n\u001b[0;32m    463\u001b[0m     degree\u001b[38;5;241m=\u001b[39m\u001b[38;5;28mself\u001b[39m\u001b[38;5;241m.\u001b[39mdegree,\n\u001b[0;32m    464\u001b[0m     coef0\u001b[38;5;241m=\u001b[39m\u001b[38;5;28mself\u001b[39m\u001b[38;5;241m.\u001b[39mcoef0,\n\u001b[0;32m    465\u001b[0m     gamma\u001b[38;5;241m=\u001b[39m\u001b[38;5;28mself\u001b[39m\u001b[38;5;241m.\u001b[39m_gamma,\n\u001b[0;32m    466\u001b[0m     cache_size\u001b[38;5;241m=\u001b[39m\u001b[38;5;28mself\u001b[39m\u001b[38;5;241m.\u001b[39mcache_size,\n\u001b[0;32m    467\u001b[0m )\n",
      "\u001b[1;31mKeyboardInterrupt\u001b[0m: "
     ]
    }
   ],
   "source": [
    "grid.fit(x_train4,y_train4)"
   ]
  },
  {
   "cell_type": "code",
   "execution_count": null,
   "metadata": {},
   "outputs": [
    {
     "data": {
      "text/plain": [
       "{'C': 10, 'gamma': 0.1, 'kernel': 'rbf'}"
      ]
     },
     "execution_count": 62,
     "metadata": {},
     "output_type": "execute_result"
    }
   ],
   "source": [
    "grid.best_params_"
   ]
  },
  {
   "cell_type": "code",
   "execution_count": null,
   "metadata": {},
   "outputs": [
    {
     "data": {
      "text/html": [
       "<style>#sk-container-id-6 {color: black;}#sk-container-id-6 pre{padding: 0;}#sk-container-id-6 div.sk-toggleable {background-color: white;}#sk-container-id-6 label.sk-toggleable__label {cursor: pointer;display: block;width: 100%;margin-bottom: 0;padding: 0.3em;box-sizing: border-box;text-align: center;}#sk-container-id-6 label.sk-toggleable__label-arrow:before {content: \"▸\";float: left;margin-right: 0.25em;color: #696969;}#sk-container-id-6 label.sk-toggleable__label-arrow:hover:before {color: black;}#sk-container-id-6 div.sk-estimator:hover label.sk-toggleable__label-arrow:before {color: black;}#sk-container-id-6 div.sk-toggleable__content {max-height: 0;max-width: 0;overflow: hidden;text-align: left;background-color: #f0f8ff;}#sk-container-id-6 div.sk-toggleable__content pre {margin: 0.2em;color: black;border-radius: 0.25em;background-color: #f0f8ff;}#sk-container-id-6 input.sk-toggleable__control:checked~div.sk-toggleable__content {max-height: 200px;max-width: 100%;overflow: auto;}#sk-container-id-6 input.sk-toggleable__control:checked~label.sk-toggleable__label-arrow:before {content: \"▾\";}#sk-container-id-6 div.sk-estimator input.sk-toggleable__control:checked~label.sk-toggleable__label {background-color: #d4ebff;}#sk-container-id-6 div.sk-label input.sk-toggleable__control:checked~label.sk-toggleable__label {background-color: #d4ebff;}#sk-container-id-6 input.sk-hidden--visually {border: 0;clip: rect(1px 1px 1px 1px);clip: rect(1px, 1px, 1px, 1px);height: 1px;margin: -1px;overflow: hidden;padding: 0;position: absolute;width: 1px;}#sk-container-id-6 div.sk-estimator {font-family: monospace;background-color: #f0f8ff;border: 1px dotted black;border-radius: 0.25em;box-sizing: border-box;margin-bottom: 0.5em;}#sk-container-id-6 div.sk-estimator:hover {background-color: #d4ebff;}#sk-container-id-6 div.sk-parallel-item::after {content: \"\";width: 100%;border-bottom: 1px solid gray;flex-grow: 1;}#sk-container-id-6 div.sk-label:hover label.sk-toggleable__label {background-color: #d4ebff;}#sk-container-id-6 div.sk-serial::before {content: \"\";position: absolute;border-left: 1px solid gray;box-sizing: border-box;top: 0;bottom: 0;left: 50%;z-index: 0;}#sk-container-id-6 div.sk-serial {display: flex;flex-direction: column;align-items: center;background-color: white;padding-right: 0.2em;padding-left: 0.2em;position: relative;}#sk-container-id-6 div.sk-item {position: relative;z-index: 1;}#sk-container-id-6 div.sk-parallel {display: flex;align-items: stretch;justify-content: center;background-color: white;position: relative;}#sk-container-id-6 div.sk-item::before, #sk-container-id-6 div.sk-parallel-item::before {content: \"\";position: absolute;border-left: 1px solid gray;box-sizing: border-box;top: 0;bottom: 0;left: 50%;z-index: -1;}#sk-container-id-6 div.sk-parallel-item {display: flex;flex-direction: column;z-index: 1;position: relative;background-color: white;}#sk-container-id-6 div.sk-parallel-item:first-child::after {align-self: flex-end;width: 50%;}#sk-container-id-6 div.sk-parallel-item:last-child::after {align-self: flex-start;width: 50%;}#sk-container-id-6 div.sk-parallel-item:only-child::after {width: 0;}#sk-container-id-6 div.sk-dashed-wrapped {border: 1px dashed gray;margin: 0 0.4em 0.5em 0.4em;box-sizing: border-box;padding-bottom: 0.4em;background-color: white;}#sk-container-id-6 div.sk-label label {font-family: monospace;font-weight: bold;display: inline-block;line-height: 1.2em;}#sk-container-id-6 div.sk-label-container {text-align: center;}#sk-container-id-6 div.sk-container {/* jupyter's `normalize.less` sets `[hidden] { display: none; }` but bootstrap.min.css set `[hidden] { display: none !important; }` so we also need the `!important` here to be able to override the default hidden behavior on the sphinx rendered scikit-learn.org. See: https://github.com/scikit-learn/scikit-learn/issues/21755 */display: inline-block !important;position: relative;}#sk-container-id-6 div.sk-text-repr-fallback {display: none;}</style><div id=\"sk-container-id-6\" class=\"sk-top-container\"><div class=\"sk-text-repr-fallback\"><pre>SVC(C=10, gamma=0.1)</pre><b>In a Jupyter environment, please rerun this cell to show the HTML representation or trust the notebook. <br />On GitHub, the HTML representation is unable to render, please try loading this page with nbviewer.org.</b></div><div class=\"sk-container\" hidden><div class=\"sk-item\"><div class=\"sk-estimator sk-toggleable\"><input class=\"sk-toggleable__control sk-hidden--visually\" id=\"sk-estimator-id-10\" type=\"checkbox\" checked><label for=\"sk-estimator-id-10\" class=\"sk-toggleable__label sk-toggleable__label-arrow\">SVC</label><div class=\"sk-toggleable__content\"><pre>SVC(C=10, gamma=0.1)</pre></div></div></div></div></div>"
      ],
      "text/plain": [
       "SVC(C=10, gamma=0.1)"
      ]
     },
     "execution_count": 63,
     "metadata": {},
     "output_type": "execute_result"
    }
   ],
   "source": [
    "grid.best_estimator_"
   ]
  },
  {
   "cell_type": "code",
   "execution_count": null,
   "metadata": {},
   "outputs": [
    {
     "name": "stdout",
     "output_type": "stream",
     "text": [
      "              precision    recall  f1-score   support\n",
      "\n",
      "         0.0       0.77      0.67      0.72     16021\n",
      "         1.0       0.71      0.80      0.76     16110\n",
      "\n",
      "    accuracy                           0.74     32131\n",
      "   macro avg       0.74      0.74      0.74     32131\n",
      "weighted avg       0.74      0.74      0.74     32131\n",
      "\n",
      "              precision    recall  f1-score   support\n",
      "\n",
      "         0.0       0.77      0.67      0.72      5400\n",
      "         1.0       0.71      0.80      0.75      5311\n",
      "\n",
      "    accuracy                           0.74     10711\n",
      "   macro avg       0.74      0.74      0.74     10711\n",
      "weighted avg       0.74      0.74      0.74     10711\n",
      "\n"
     ]
    }
   ],
   "source": [
    "ypred_train = grid.predict(x_train4)\n",
    "y_pred_test = grid.predict(x_test4)\n",
    "\n",
    "\n",
    "print(classification_report(y_train4,ypred_train))\n",
    "print(classification_report(y_test4,y_pred_test))"
   ]
  },
  {
   "cell_type": "code",
   "execution_count": 66,
   "metadata": {},
   "outputs": [
    {
     "name": "stdout",
     "output_type": "stream",
     "text": [
      "Training Results\n",
      "\n",
      "              precision    recall  f1-score   support\n",
      "\n",
      "         0.0       0.77      0.67      0.72     16021\n",
      "         1.0       0.71      0.80      0.76     16110\n",
      "\n",
      "    accuracy                           0.74     32131\n",
      "   macro avg       0.74      0.74      0.74     32131\n",
      "weighted avg       0.74      0.74      0.74     32131\n",
      "\n",
      "Testing Results\n",
      "\n",
      "              precision    recall  f1-score   support\n",
      "\n",
      "         0.0       0.77      0.67      0.72      5400\n",
      "         1.0       0.71      0.80      0.75      5311\n",
      "\n",
      "    accuracy                           0.74     10711\n",
      "   macro avg       0.74      0.74      0.74     10711\n",
      "weighted avg       0.74      0.74      0.74     10711\n",
      "\n"
     ]
    },
    {
     "data": {
      "image/png": "[encoded data removed]",
      "text/plain": [
       "<Figure size 640x480 with 1 Axes>"
      ]
     },
     "metadata": {},
     "output_type": "display_data"
    }
   ],
   "source": [
    "model3 = SVC(C=10, gamma=0.1, kernel='rbf', probability=True)\n",
    "model3.fit(x_train4, y_train4)\n",
    "\n",
    "\n",
    "ypred_train14 = model3.predict(x_train4)\n",
    "y_pred_test14 = model3.predict(x_test4)\n",
    "\n",
    "\n",
    "print(\"Training Results\\n\")\n",
    "print(classification_report(y_train4, ypred_train14))\n",
    "print(\"Testing Results\\n\")\n",
    "print(classification_report(y_test4, y_pred_test14))\n",
    "\n",
    "# cross_val_scores = cross_val_score(model3, x_train4, y_train4, cv=5)\n",
    "# print(\"Cross-validation scores:\", cross_val_scores)\n",
    "# print(\"Average cross-validation score:\", np.mean(cross_val_scores))\n",
    "\n",
    "y_proba_test = model3.predict_proba(x_test4)[:, 1]\n",
    "fpr, tpr, thresholds = roc_curve(y_test4, y_proba_test)\n",
    "plt.plot(fpr, tpr, label='ROC Curve')\n",
    "plt.xlabel('False Positive Rate')\n",
    "plt.ylabel('True Positive Rate')\n",
    "plt.title('ROC Curve with AUC = {:.2f}'.format(roc_auc_score(y_test4, y_proba_test)))\n",
    "plt.legend(loc='lower right')\n",
    "plt.grid(True)\n",
    "plt.show()"
   ]
  }
 ],
 "metadata": {
  "kernelspec": {
   "display_name": "Python 3",
   "language": "python",
   "name": "python3"
  },
  "language_info": {
   "codemirror_mode": {
    "name": "ipython",
    "version": 3
   },
   "file_extension": ".py",
   "mimetype": "text/x-python",
   "name": "python",
   "nbconvert_exporter": "python",
   "pygments_lexer": "ipython3",
   "version": "0.0.0"
  }
 },
 "nbformat": 4,
 "nbformat_minor": 2
}
